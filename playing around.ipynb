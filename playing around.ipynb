{
 "metadata": {
  "name": "playing around"
 },
 "nbformat": 3,
 "nbformat_minor": 0,
 "worksheets": [
  {
   "cells": [
    {
     "cell_type": "code",
     "collapsed": false,
     "input": [
      "import pandas as pd\n",
      "import matplotlib.pyplot as plt"
     ],
     "language": "python",
     "metadata": {},
     "outputs": [],
     "prompt_number": 1
    },
    {
     "cell_type": "code",
     "collapsed": false,
     "input": [
      "df =pd.load('./T_to_Normalized_Radiance.df')"
     ],
     "language": "python",
     "metadata": {},
     "outputs": [],
     "prompt_number": 2
    },
    {
     "cell_type": "code",
     "collapsed": false,
     "input": [
      "df"
     ],
     "language": "python",
     "metadata": {},
     "outputs": [
      {
       "output_type": "pyout",
       "prompt_number": 4,
       "text": [
        "<class 'pandas.core.frame.DataFrame'>\n",
        "Int64Index: 881 entries, -440 to 440\n",
        "Data columns:\n",
        "3    880  non-null values\n",
        "4    880  non-null values\n",
        "5    880  non-null values\n",
        "6    880  non-null values\n",
        "7    880  non-null values\n",
        "8    880  non-null values\n",
        "9    880  non-null values\n",
        "dtypes: object(7)"
       ]
      }
     ],
     "prompt_number": 4
    },
    {
     "cell_type": "code",
     "collapsed": false,
     "input": [
      "df.index = df.index.astype('int')"
     ],
     "language": "python",
     "metadata": {},
     "outputs": [],
     "prompt_number": 5
    },
    {
     "cell_type": "code",
     "collapsed": false,
     "input": [
      "df.index"
     ],
     "language": "python",
     "metadata": {},
     "outputs": [
      {
       "output_type": "pyout",
       "prompt_number": 6,
       "text": [
        "Int64Index([-440, -439, -438, -437, -436, -435, -434, -433, -432, -431, -430, -429, -428, -427, -426, -425, -424, -423, -422, -421, -420, -419, -418, -417, -416, -415, -414, -413, -412, -411, -410, -409, -408, -407, -406, -405, -404, -403, -402, -401, -400, -399, -398, -397, -396, -395, -394, -393, -392, -391, -390, -389, -388, -387, -386, -385, -384, -383, -382, -381, -380, -379, -378, -377, -376, -375, -374, -373, -372, -371, -370, -369, -368, -367, -366, -365, -364, -363, -362, -361, -360, -359, -358, -357, -356, -355, -354, -353, -352, -351, -350, -349, -348, -347, -346, -345, -344, -343, -342, -341, -340, -339, -338, -337, -336, -335, -334, -333, -332, -331, -330, -329, -328, -327, -326, -325, -324, -323, -322, -321, -320, -319, -318, -317, -316, -315, -314, -313, -312, -311, -310, -309, -308, -307, -306, -305, -304, -303, -302, -301, -300, -299, -298, -297, -296, -295, -294, -293, -292, -291, -290, -289, -288, -287, -286, -285, -284, -283, -282, -281, -280, -279, -278, -277, -276, -275, -274, -273, -272, -271, -270, -269, -268, -267, -266, -265, -264, -263, -262, -261, -260, -259, -258, -257, -256, -255, -254, -253, -252, -251, -250, -249, -248, -247, -246, -245, -244, -243, -242, -241, -240, -239, -238, -237, -236, -235, -234, -233, -232, -231, -230, -229, -228, -227, -226, -225, -224, -223, -222, -221, -220, -219, -218, -217, -216, -215, -214, -213, -212, -211, -210, -209, -208, -207, -206, -205, -204, -203, -202, -201, -200, -199, -198, -197, -196, -195, -194, -193, -192, -191, -190, -189, -188, -187, -186, -185, -184, -183, -182, -181, -180, -179, -178, -177, -176, -175, -174, -173, -172, -171, -170, -169, -168, -167, -166, -165, -164, -163, -162, -161, -160, -159, -158, -157, -156, -155, -154, -153, -152, -151, -150, -149, -148, -147, -146, -145, -144, -143, -142, -141, -140, -139, -138, -137, -136, -135, -134, -133, -132, -131, -130, -129, -128, -127, -126, -125, -124, -123, -122, -121, -120, -119, -118, -117, -116, -115, -114, -113, -112, -111, -110, -109, -108, -107, -106, -105, -104, -103, -102, -101, -100, -99, -98, -97, -96, -95, -94, -93, -92, -91, -90, -89, -88, -87, -86, -85, -84, -83, -82, -81, -80, -79, -78, -77, -76, -75, -74, -73, -72, -71, -70, -69, -68, -67, -66, -65, -64, -63, -62, -61, -60, -59, -58, -57, -56, -55, -54, -53, -52, -51, -50, -49, -48, -47, -46, -45, -44, -43, -42, -41, -40, -39, -38, -37, -36, -35, -34, -33, -32, -31, -30, -29, -28, -27, -26, -25, -24, -23, -22, -21, -20, -19, -18, -17, -16, -15, -14, -13, -12, -11, -10, -9, -8, -7, -6, -5, -4, -3, -2, -1, 0, 1, 2, 3, 4, 5, 6, 7, 8, 9, 10, 11, 12, 13, 14, 15, 16, 17, 18, 19, 20, 21, 22, 23, 24, 25, 26, 27, 28, 29, 30, 31, 32, 33, 34, 35, 36, 37, 38, 39, 40, 41, 42, 43, 44, 45, 46, 47, 48, 49, 50, 51, 52, 53, 54, 55, 56, 57, 58, 59, 60, 61, 62, 63, 64, 65, 66, 67, 68, 69, 70, 71, 72, 73, 74, 75, 76, 77, 78, 79, 80, 81, 82, 83, 84, 85, 86, 87, 88, 89, 90, 91, 92, 93, 94, 95, 96, 97, 98, 99, 100, 101, 102, 103, 104, 105, 106, 107, 108, 109, 110, 111, 112, 113, 114, 115, 116, 117, 118, 119, 120, 121, 122, 123, 124, 125, 126, 127, 128, 129, 130, 131, 132, 133, 134, 135, 136, 137, 138, 139, 140, 141, 142, 143, 144, 145, 146, 147, 148, 149, 150, 151, 152, 153, 154, 155, 156, 157, 158, 159, 160, 161, 162, 163, 164, 165, 166, 167, 168, 169, 170, 171, 172, 173, 174, 175, 176, 177, 178, 179, 180, 181, 182, 183, 184, 185, 186, 187, 188, 189, 190, 191, 192, 193, 194, 195, 196, 197, 198, 199, 200, 201, 202, 203, 204, 205, 206, 207, 208, 209, 210, 211, 212, 213, 214, 215, 216, 217, 218, 219, 220, 221, 222, 223, 224, 225, 226, 227, 228, 229, 230, 231, 232, 233, 234, 235, 236, 237, 238, 239, 240, 241, 242, 243, 244, 245, 246, 247, 248, 249, 250, 251, 252, 253, 254, 255, 256, 257, 258, 259, 260, 261, 262, 263, 264, 265, 266, 267, 268, 269, 270, 271, 272, 273, 274, 275, 276, 277, 278, 279, 280, 281, 282, 283, 284, 285, 286, 287, 288, 289, 290, 291, 292, 293, 294, 295, 296, 297, 298, 299, 300, 301, 302, 303, 304, 305, 306, 307, 308, 309, 310, 311, 312, 313, 314, 315, 316, 317, 318, 319, 320, 321, 322, 323, 324, 325, 326, 327, 328, 329, 330, 331, 332, 333, 334, 335, 336, 337, 338, 339, 340, 341, 342, 343, 344, 345, 346, 347, 348, 349, 350, 351, 352, 353, 354, 355, 356, 357, 358, 359, 360, 361, 362, 363, 364, 365, 366, 367, 368, 369, 370, 371, 372, 373, 374, 375, 376, 377, 378, 379, 380, 381, 382, 383, 384, 385, 386, 387, 388, 389, 390, 391, 392, 393, 394, 395, 396, 397, 398, 399, 400, 401, 402, 403, 404, 405, 406, 407, 408, 409, 410, 411, 412, 413, 414, 415, 416, 417, 418, 419, 420, 421, 422, 423, 424, 425, 426, 427, 428, 429, 430, 431, 432, 433, 434, 435, 436, 437, 438, 439, 440], dtype=int64)"
       ]
      }
     ],
     "prompt_number": 6
    },
    {
     "cell_type": "code",
     "collapsed": false,
     "input": [
      "df.ix[-440]"
     ],
     "language": "python",
     "metadata": {},
     "outputs": [
      {
       "output_type": "pyout",
       "prompt_number": 7,
       "text": [
        "Channels\n",
        "3          -7.213917\n",
        "4          -6.466524\n",
        "5          -6.103586\n",
        "6          -2.831999\n",
        "7          -2.002254\n",
        "8          -1.689956\n",
        "9          -1.578207\n",
        "Name: -440"
       ]
      }
     ],
     "prompt_number": 7
    },
    {
     "cell_type": "code",
     "collapsed": false,
     "input": [
      "new_channels = range(1,10)"
     ],
     "language": "python",
     "metadata": {},
     "outputs": [],
     "prompt_number": 10
    },
    {
     "cell_type": "code",
     "collapsed": false,
     "input": [
      "df.columns = range(3,10)"
     ],
     "language": "python",
     "metadata": {},
     "outputs": [],
     "prompt_number": 12
    },
    {
     "cell_type": "code",
     "collapsed": false,
     "input": [
      "df.columns.name='Channels'"
     ],
     "language": "python",
     "metadata": {},
     "outputs": [],
     "prompt_number": 13
    },
    {
     "cell_type": "code",
     "collapsed": false,
     "input": [
      "df.index.name='T [K]'"
     ],
     "language": "python",
     "metadata": {},
     "outputs": [],
     "prompt_number": 16
    },
    {
     "cell_type": "code",
     "collapsed": false,
     "input": [
      "df.index.name"
     ],
     "language": "python",
     "metadata": {},
     "outputs": [
      {
       "output_type": "pyout",
       "prompt_number": 20,
       "text": [
        "'T [K]'"
       ]
      }
     ],
     "prompt_number": 20
    },
    {
     "cell_type": "code",
     "collapsed": false,
     "input": [
      "df.save('T_to_Normalized_Radiance.df')"
     ],
     "language": "python",
     "metadata": {},
     "outputs": [],
     "prompt_number": 22
    },
    {
     "cell_type": "code",
     "collapsed": false,
     "input": [
      "from datetime import datetime as dt"
     ],
     "language": "python",
     "metadata": {},
     "outputs": [],
     "prompt_number": 30
    },
    {
     "cell_type": "code",
     "collapsed": false,
     "input": [
      "pd.Series(pd.date_range(start=\"2012-01-01\",periods=10)).diff()"
     ],
     "language": "python",
     "metadata": {},
     "outputs": [
      {
       "output_type": "pyout",
       "prompt_number": 8,
       "text": [
        "0             NaN\n",
        "1    8.640000e+13\n",
        "2    8.640000e+13\n",
        "3    8.640000e+13\n",
        "4    8.640000e+13\n",
        "5    8.640000e+13\n",
        "6    8.640000e+13\n",
        "7    8.640000e+13\n",
        "8    8.640000e+13\n",
        "9    8.640000e+13"
       ]
      }
     ],
     "prompt_number": 8
    },
    {
     "cell_type": "code",
     "collapsed": false,
     "input": [
      "s = pd.Series(randn(10))"
     ],
     "language": "python",
     "metadata": {},
     "outputs": [],
     "prompt_number": 10
    },
    {
     "cell_type": "code",
     "collapsed": false,
     "input": [
      "df = pd.DataFrame(s)"
     ],
     "language": "python",
     "metadata": {},
     "outputs": [],
     "prompt_number": 16
    },
    {
     "cell_type": "code",
     "collapsed": false,
     "input": [
      "df.set_index?"
     ],
     "language": "python",
     "metadata": {},
     "outputs": [],
     "prompt_number": 17
    },
    {
     "cell_type": "code",
     "collapsed": false,
     "input": [
      "s.index = arange(10,20)"
     ],
     "language": "python",
     "metadata": {},
     "outputs": [],
     "prompt_number": 19
    },
    {
     "cell_type": "code",
     "collapsed": false,
     "input": [
      "s"
     ],
     "language": "python",
     "metadata": {},
     "outputs": [
      {
       "output_type": "pyout",
       "prompt_number": 20,
       "text": [
        "10    1.012221\n",
        "11   -0.236306\n",
        "12    1.488372\n",
        "13   -0.590109\n",
        "14    0.515869\n",
        "15    0.032652\n",
        "16   -1.462502\n",
        "17    1.851933\n",
        "18   -0.280688\n",
        "19   -0.738213"
       ]
      }
     ],
     "prompt_number": 20
    },
    {
     "cell_type": "code",
     "collapsed": false,
     "input": [
      "import pandas\n",
      "df = pandas.DataFrame({'group1': ['a','a','a','b','b','b'],\n",
      "                       'group2': ['c','c','d','d','d','e'],\n",
      "                       'value1': [1.1,2,3,4,5,6],\n",
      "                       'value2': [7.1,8,9,10,11,12]\n",
      "})\n",
      "dfGrouped = df.groupby( [\"group1\", \"group2\"] , sort=True)\n",
      "\n",
      "## toy function, obviously not my real function\n",
      "def fun(x): return mean(x**2)\n",
      "\n",
      "results = dfGrouped.apply(lambda x: fun(x.value1))"
     ],
     "language": "python",
     "metadata": {},
     "outputs": [],
     "prompt_number": 2
    },
    {
     "cell_type": "code",
     "collapsed": false,
     "input": [
      "df"
     ],
     "language": "python",
     "metadata": {},
     "outputs": [
      {
       "html": [
        "<div style=\"max-height:1000px;max-width:1500px;overflow:auto;\">\n",
        "<table border=\"1\" class=\"dataframe\">\n",
        "  <thead>\n",
        "    <tr style=\"text-align: right;\">\n",
        "      <th></th>\n",
        "      <th>group1</th>\n",
        "      <th>group2</th>\n",
        "      <th>value1</th>\n",
        "      <th>value2</th>\n",
        "    </tr>\n",
        "  </thead>\n",
        "  <tbody>\n",
        "    <tr>\n",
        "      <td><strong>0</strong></td>\n",
        "      <td> a</td>\n",
        "      <td> c</td>\n",
        "      <td> 1.1</td>\n",
        "      <td>  7.1</td>\n",
        "    </tr>\n",
        "    <tr>\n",
        "      <td><strong>1</strong></td>\n",
        "      <td> a</td>\n",
        "      <td> c</td>\n",
        "      <td> 2.0</td>\n",
        "      <td>  8.0</td>\n",
        "    </tr>\n",
        "    <tr>\n",
        "      <td><strong>2</strong></td>\n",
        "      <td> a</td>\n",
        "      <td> d</td>\n",
        "      <td> 3.0</td>\n",
        "      <td>  9.0</td>\n",
        "    </tr>\n",
        "    <tr>\n",
        "      <td><strong>3</strong></td>\n",
        "      <td> b</td>\n",
        "      <td> d</td>\n",
        "      <td> 4.0</td>\n",
        "      <td> 10.0</td>\n",
        "    </tr>\n",
        "    <tr>\n",
        "      <td><strong>4</strong></td>\n",
        "      <td> b</td>\n",
        "      <td> d</td>\n",
        "      <td> 5.0</td>\n",
        "      <td> 11.0</td>\n",
        "    </tr>\n",
        "    <tr>\n",
        "      <td><strong>5</strong></td>\n",
        "      <td> b</td>\n",
        "      <td> e</td>\n",
        "      <td> 6.0</td>\n",
        "      <td> 12.0</td>\n",
        "    </tr>\n",
        "  </tbody>\n",
        "</table>\n",
        "</div>"
       ],
       "output_type": "pyout",
       "prompt_number": 3,
       "text": [
        "  group1 group2  value1  value2\n",
        "0      a      c     1.1     7.1\n",
        "1      a      c     2.0     8.0\n",
        "2      a      d     3.0     9.0\n",
        "3      b      d     4.0    10.0\n",
        "4      b      d     5.0    11.0\n",
        "5      b      e     6.0    12.0"
       ]
      }
     ],
     "prompt_number": 3
    },
    {
     "cell_type": "code",
     "collapsed": false,
     "input": [
      "df = pd.DataFrame({'B':['one','one','two'],'C':[3,2,1]})"
     ],
     "language": "python",
     "metadata": {},
     "outputs": [],
     "prompt_number": 9
    },
    {
     "cell_type": "code",
     "collapsed": false,
     "input": [
      "df.index.names=['A']"
     ],
     "language": "python",
     "metadata": {},
     "outputs": [],
     "prompt_number": 11
    },
    {
     "cell_type": "code",
     "collapsed": false,
     "input": [
      "df.index.name = 'A'"
     ],
     "language": "python",
     "metadata": {},
     "outputs": [],
     "prompt_number": 15
    },
    {
     "cell_type": "code",
     "collapsed": false,
     "input": [
      "df.index.name"
     ],
     "language": "python",
     "metadata": {},
     "outputs": [
      {
       "output_type": "pyout",
       "prompt_number": 16,
       "text": [
        "'A'"
       ]
      }
     ],
     "prompt_number": 16
    },
    {
     "cell_type": "code",
     "collapsed": false,
     "input": [
      "df.set_index([df.index,'B'],inplace=True)"
     ],
     "language": "python",
     "metadata": {},
     "outputs": [],
     "prompt_number": 19
    },
    {
     "cell_type": "code",
     "collapsed": false,
     "input": [
      "df"
     ],
     "language": "python",
     "metadata": {},
     "outputs": [
      {
       "html": [
        "<div style=\"max-height:1000px;max-width:1500px;overflow:auto;\">\n",
        "<table border=\"1\" class=\"dataframe\">\n",
        "  <thead>\n",
        "    <tr style=\"text-align: right;\">\n",
        "      <th></th>\n",
        "      <th></th>\n",
        "      <th>C</th>\n",
        "    </tr>\n",
        "    <tr>\n",
        "      <th></th>\n",
        "      <th>B</th>\n",
        "      <th></th>\n",
        "    </tr>\n",
        "  </thead>\n",
        "  <tbody>\n",
        "    <tr>\n",
        "      <td><strong>0</strong></td>\n",
        "      <td><strong>one</strong></td>\n",
        "      <td> 3</td>\n",
        "    </tr>\n",
        "    <tr>\n",
        "      <td><strong>1</strong></td>\n",
        "      <td><strong>one</strong></td>\n",
        "      <td> 2</td>\n",
        "    </tr>\n",
        "    <tr>\n",
        "      <td><strong>2</strong></td>\n",
        "      <td><strong>two</strong></td>\n",
        "      <td> 1</td>\n",
        "    </tr>\n",
        "  </tbody>\n",
        "</table>\n",
        "</div>"
       ],
       "output_type": "pyout",
       "prompt_number": 20,
       "text": [
        "       C\n",
        "  B     \n",
        "0 one  3\n",
        "1 one  2\n",
        "2 two  1"
       ]
      }
     ],
     "prompt_number": 20
    },
    {
     "cell_type": "code",
     "collapsed": false,
     "input": [
      "df.index.names = ['A','B']"
     ],
     "language": "python",
     "metadata": {},
     "outputs": [],
     "prompt_number": 22
    },
    {
     "cell_type": "code",
     "collapsed": false,
     "input": [
      "df"
     ],
     "language": "python",
     "metadata": {},
     "outputs": [
      {
       "html": [
        "<div style=\"max-height:1000px;max-width:1500px;overflow:auto;\">\n",
        "<table border=\"1\" class=\"dataframe\">\n",
        "  <thead>\n",
        "    <tr style=\"text-align: right;\">\n",
        "      <th></th>\n",
        "      <th></th>\n",
        "      <th>C</th>\n",
        "    </tr>\n",
        "    <tr>\n",
        "      <th>A</th>\n",
        "      <th>B</th>\n",
        "      <th></th>\n",
        "    </tr>\n",
        "  </thead>\n",
        "  <tbody>\n",
        "    <tr>\n",
        "      <td><strong>0</strong></td>\n",
        "      <td><strong>one</strong></td>\n",
        "      <td> 3</td>\n",
        "    </tr>\n",
        "    <tr>\n",
        "      <td><strong>1</strong></td>\n",
        "      <td><strong>one</strong></td>\n",
        "      <td> 2</td>\n",
        "    </tr>\n",
        "    <tr>\n",
        "      <td><strong>2</strong></td>\n",
        "      <td><strong>two</strong></td>\n",
        "      <td> 1</td>\n",
        "    </tr>\n",
        "  </tbody>\n",
        "</table>\n",
        "</div>"
       ],
       "output_type": "pyout",
       "prompt_number": 23,
       "text": [
        "       C\n",
        "A B     \n",
        "0 one  3\n",
        "1 one  2\n",
        "2 two  1"
       ]
      }
     ],
     "prompt_number": 23
    },
    {
     "cell_type": "code",
     "collapsed": false,
     "input": [
      "df.reset_index().B.unique()"
     ],
     "language": "python",
     "metadata": {},
     "outputs": [
      {
       "output_type": "pyout",
       "prompt_number": 25,
       "text": [
        "array([one, two], dtype=object)"
       ]
      }
     ],
     "prompt_number": 25
    },
    {
     "cell_type": "code",
     "collapsed": false,
     "input": [],
     "language": "python",
     "metadata": {},
     "outputs": [
      {
       "ename": "KeyError",
       "evalue": "u'no item named B'",
       "output_type": "pyerr",
       "traceback": [
        "---------------------------------------------------------------------------\nKeyError                                  Traceback (most recent call last)",
        "<ipython-input-46-7211372a3562> in <module>()\n----> 1 df.ix[:,'B']\n",
        "/Library/Frameworks/EPD64.framework/Versions/7.3/lib/python2.7/site-packages/pandas-0.10.0-py2.7-macosx-10.5-x86_64.egg/pandas/core/indexing.pyc in __getitem__(self, key)\n     30                 pass\n     31 \n---> 32             return self._getitem_tuple(key)\n     33         else:\n     34             return self._getitem_axis(key, axis=0)\n",
        "/Library/Frameworks/EPD64.framework/Versions/7.3/lib/python2.7/site-packages/pandas-0.10.0-py2.7-macosx-10.5-x86_64.egg/pandas/core/indexing.pyc in _getitem_tuple(self, tup)\n    217                 continue\n    218 \n--> 219             retval = retval.ix._getitem_axis(key, axis=i)\n    220 \n    221         return retval\n",
        "/Library/Frameworks/EPD64.framework/Versions/7.3/lib/python2.7/site-packages/pandas-0.10.0-py2.7-macosx-10.5-x86_64.egg/pandas/core/indexing.pyc in _getitem_axis(self, key, axis)\n    354             if com.is_integer(key) and not _is_integer_index(labels):\n    355                 return self._get_loc(key, axis=axis)\n--> 356             return self._get_label(lab, axis=axis)\n    357 \n    358     def _getitem_iterable(self, key, axis=0):\n",
        "/Library/Frameworks/EPD64.framework/Versions/7.3/lib/python2.7/site-packages/pandas-0.10.0-py2.7-macosx-10.5-x86_64.egg/pandas/core/indexing.pyc in _get_label(self, label, axis)\n     44             return self.obj.xs(label, axis=axis, copy=False)\n     45         except Exception:\n---> 46             return self.obj.xs(label, axis=axis, copy=True)\n     47 \n     48     def _get_loc(self, key, axis=0):\n",
        "/Library/Frameworks/EPD64.framework/Versions/7.3/lib/python2.7/site-packages/pandas-0.10.0-py2.7-macosx-10.5-x86_64.egg/pandas/core/frame.pyc in xs(self, key, axis, level, copy)\n   2254 \n   2255         if axis == 1:\n-> 2256             data = self[key]\n   2257             if copy:\n   2258                 data = data.copy()\n",
        "/Library/Frameworks/EPD64.framework/Versions/7.3/lib/python2.7/site-packages/pandas-0.10.0-py2.7-macosx-10.5-x86_64.egg/pandas/core/frame.pyc in __getitem__(self, key)\n   1941                 raise ValueError('Cannot index using non-boolean DataFrame')\n   1942         else:\n-> 1943             return self._get_item_cache(key)\n   1944 \n   1945     def _getitem_array(self, key):\n",
        "/Library/Frameworks/EPD64.framework/Versions/7.3/lib/python2.7/site-packages/pandas-0.10.0-py2.7-macosx-10.5-x86_64.egg/pandas/core/generic.pyc in _get_item_cache(self, item)\n    532             return cache[item]\n    533         except Exception:\n--> 534             values = self._data.get(item)\n    535             res = self._box_item_values(item, values)\n    536             cache[item] = res\n",
        "/Library/Frameworks/EPD64.framework/Versions/7.3/lib/python2.7/site-packages/pandas-0.10.0-py2.7-macosx-10.5-x86_64.egg/pandas/core/internals.pyc in get(self, item)\n    865 \n    866     def get(self, item):\n--> 867         _, block = self._find_block(item)\n    868         return block.get(item)\n    869 \n",
        "/Library/Frameworks/EPD64.framework/Versions/7.3/lib/python2.7/site-packages/pandas-0.10.0-py2.7-macosx-10.5-x86_64.egg/pandas/core/internals.pyc in _find_block(self, item)\n    996 \n    997     def _find_block(self, item):\n--> 998         self._check_have(item)\n    999         for i, block in enumerate(self.blocks):\n   1000             if item in block:\n",
        "/Library/Frameworks/EPD64.framework/Versions/7.3/lib/python2.7/site-packages/pandas-0.10.0-py2.7-macosx-10.5-x86_64.egg/pandas/core/internals.pyc in _check_have(self, item)\n   1003     def _check_have(self, item):\n   1004         if item not in self.items:\n-> 1005             raise KeyError('no item named %s' % com.pprint_thing(item))\n   1006 \n   1007     def reindex_axis(self, new_axis, method=None, axis=0, copy=True):\n",
        "KeyError: u'no item named B'"
       ]
      }
     ],
     "prompt_number": 46
    },
    {
     "cell_type": "code",
     "collapsed": false,
     "input": [
      "data = pd.Series(np.random.randn(10),\n",
      "index=[['a', 'a', 'a', 'b', 'b', 'b', 'c', 'c', 'd', 'd'],[1, 2, 3, 1, 2, 3, 1, 2, 2, 3]])"
     ],
     "language": "python",
     "metadata": {},
     "outputs": [],
     "prompt_number": 2
    },
    {
     "cell_type": "code",
     "collapsed": false,
     "input": [
      "data.reset_index()"
     ],
     "language": "python",
     "metadata": {},
     "outputs": [
      {
       "html": [
        "<div style=\"max-height:1000px;max-width:1500px;overflow:auto;\">\n",
        "<table border=\"1\" class=\"dataframe\">\n",
        "  <thead>\n",
        "    <tr style=\"text-align: right;\">\n",
        "      <th></th>\n",
        "      <th>level_0</th>\n",
        "      <th>level_1</th>\n",
        "      <th>0</th>\n",
        "    </tr>\n",
        "  </thead>\n",
        "  <tbody>\n",
        "    <tr>\n",
        "      <td><strong>0</strong></td>\n",
        "      <td> a</td>\n",
        "      <td> 1</td>\n",
        "      <td> 0.896052</td>\n",
        "    </tr>\n",
        "    <tr>\n",
        "      <td><strong>1</strong></td>\n",
        "      <td> a</td>\n",
        "      <td> 2</td>\n",
        "      <td>-1.473508</td>\n",
        "    </tr>\n",
        "    <tr>\n",
        "      <td><strong>2</strong></td>\n",
        "      <td> a</td>\n",
        "      <td> 3</td>\n",
        "      <td> 1.335397</td>\n",
        "    </tr>\n",
        "    <tr>\n",
        "      <td><strong>3</strong></td>\n",
        "      <td> b</td>\n",
        "      <td> 1</td>\n",
        "      <td>-1.139203</td>\n",
        "    </tr>\n",
        "    <tr>\n",
        "      <td><strong>4</strong></td>\n",
        "      <td> b</td>\n",
        "      <td> 2</td>\n",
        "      <td>-0.511485</td>\n",
        "    </tr>\n",
        "    <tr>\n",
        "      <td><strong>5</strong></td>\n",
        "      <td> b</td>\n",
        "      <td> 3</td>\n",
        "      <td>-0.052451</td>\n",
        "    </tr>\n",
        "    <tr>\n",
        "      <td><strong>6</strong></td>\n",
        "      <td> c</td>\n",
        "      <td> 1</td>\n",
        "      <td> 0.741305</td>\n",
        "    </tr>\n",
        "    <tr>\n",
        "      <td><strong>7</strong></td>\n",
        "      <td> c</td>\n",
        "      <td> 2</td>\n",
        "      <td> 0.493564</td>\n",
        "    </tr>\n",
        "    <tr>\n",
        "      <td><strong>8</strong></td>\n",
        "      <td> d</td>\n",
        "      <td> 2</td>\n",
        "      <td>-0.709202</td>\n",
        "    </tr>\n",
        "    <tr>\n",
        "      <td><strong>9</strong></td>\n",
        "      <td> d</td>\n",
        "      <td> 3</td>\n",
        "      <td> 0.395518</td>\n",
        "    </tr>\n",
        "  </tbody>\n",
        "</table>\n",
        "</div>"
       ],
       "output_type": "pyout",
       "prompt_number": 4,
       "text": [
        "  level_0  level_1         0\n",
        "0       a        1  0.896052\n",
        "1       a        2 -1.473508\n",
        "2       a        3  1.335397\n",
        "3       b        1 -1.139203\n",
        "4       b        2 -0.511485\n",
        "5       b        3 -0.052451\n",
        "6       c        1  0.741305\n",
        "7       c        2  0.493564\n",
        "8       d        2 -0.709202\n",
        "9       d        3  0.395518"
       ]
      }
     ],
     "prompt_number": 4
    },
    {
     "cell_type": "code",
     "collapsed": false,
     "input": [
      "data.index.names = ['letters','numbers']"
     ],
     "language": "python",
     "metadata": {},
     "outputs": [],
     "prompt_number": 61
    },
    {
     "cell_type": "code",
     "collapsed": false,
     "input": [
      "data.unstack().stack()"
     ],
     "language": "python",
     "metadata": {},
     "outputs": [
      {
       "output_type": "pyout",
       "prompt_number": 74,
       "text": [
        "letters  numbers\n",
        "a        1          1.206998\n",
        "         2         -0.430295\n",
        "         3         -0.404632\n",
        "b        1          0.314768\n",
        "         2         -0.076259\n",
        "         3         -0.005566\n",
        "c        1         -0.508802\n",
        "         2          0.020004\n",
        "d        2         -0.289638\n",
        "         3         -0.464899"
       ]
      }
     ],
     "prompt_number": 74
    },
    {
     "cell_type": "code",
     "collapsed": false,
     "input": [
      "import StringIO\n",
      "import pandas\n",
      "\n",
      "conc_string = StringIO.StringIO(\"\"\"\\\n",
      "Land Use,Parameter,1E,1N,1S,2\n",
      "Airfield,BOD5 (mg/l),0.418,0.118,0.226,1.063\n",
      "Airfield,Ortho P (mg/l),0.002,0.001,0.001,0.002\n",
      "Airfield,TSS (mg/l),1.773,11.47,0.862,0.183\n",
      "Airfield,Zn (mg/l),0.001,0.001,4.95E-05,0.001\n",
      "\"Commercial\",BOD5 (mg/l),0.036,0.0419,,0.315\n",
      "\"Commercial\",Cu (mg/l),4.37E-05,7.34E-05,,0.00039\n",
      "\"Commercial\",O&G (mg/l),0.0385,0.127,,0.263\n",
      "Open Space,TSS (mg/l),0.371,3.01,1.209,0.147\n",
      "Open Space,Zn (mg/l),0.0127,0.0069,0.0132,0.007\n",
      "\"Parking Lot\",BOD5 (mg/l),0.924,0.0668,2.603,3.19\n",
      "\"Parking Lot\",O&G (mg/l),1.02,0.149,1.347,1.88\n",
      "\"Rooftops\",BOD5 (mg/l),0.135,1.00,0.0562,0.310\"\"\")\n",
      "\n",
      "weight_string = StringIO.StringIO(\"\"\"\\\n",
      "Land Use,1E,1N,1S,2\n",
      "Airfield,0.511,0.0227,0.0616,0.394\n",
      "Commercial,0.0005,0.1704,0,0.1065\n",
      "Open Space,0.0008,0.005,0.0002,0.0004\n",
      "\"Parking Lot\",0.33,0.514,0.252,0.171\n",
      "Rooftops,0.081,0.028,8.50E-05,0.003\"\"\")\n",
      "\n",
      "concentration = pandas.read_csv(conc_string, index_col=[0,1])\n",
      "weight = pandas.read_csv(weight_string, index_col=0)"
     ],
     "language": "python",
     "metadata": {},
     "outputs": [],
     "prompt_number": 3
    },
    {
     "cell_type": "code",
     "collapsed": false,
     "input": [
      "wstk = pandas.DataFrame(weight.stack())\n",
      "wstk.index.names = ['Land Use', 'Basin']\n",
      "wstk.rename(columns={0:'weight'}, inplace=True)\n",
      "\n",
      "cstk = pandas.DataFrame(concentration.stack())\n",
      "cstk.index.names = ['Land Use', 'Parameter', 'Basin']\n",
      "cstk.rename(columns={0:'concentration'}, inplace=True)"
     ],
     "language": "python",
     "metadata": {},
     "outputs": [],
     "prompt_number": 4
    },
    {
     "cell_type": "code",
     "collapsed": false,
     "input": [
      "concentration"
     ],
     "language": "python",
     "metadata": {},
     "outputs": [
      {
       "html": [
        "<div style=\"max-height:1000px;max-width:1500px;overflow:auto;\">\n",
        "<table border=\"1\" class=\"dataframe\">\n",
        "  <thead>\n",
        "    <tr style=\"text-align: right;\">\n",
        "      <th></th>\n",
        "      <th></th>\n",
        "      <th>1E</th>\n",
        "      <th>1N</th>\n",
        "      <th>1S</th>\n",
        "      <th>2</th>\n",
        "    </tr>\n",
        "    <tr>\n",
        "      <th>Land Use</th>\n",
        "      <th>Parameter</th>\n",
        "      <th></th>\n",
        "      <th></th>\n",
        "      <th></th>\n",
        "      <th></th>\n",
        "    </tr>\n",
        "  </thead>\n",
        "  <tbody>\n",
        "    <tr>\n",
        "      <td rowspan=\"4\" valign=\"top\"><strong>Airfield</strong></td>\n",
        "      <td><strong>BOD5 (mg/l)</strong></td>\n",
        "      <td> 0.418000</td>\n",
        "      <td>  0.118000</td>\n",
        "      <td> 0.226000</td>\n",
        "      <td> 1.06300</td>\n",
        "    </tr>\n",
        "    <tr>\n",
        "      <td><strong>Ortho P (mg/l)</strong></td>\n",
        "      <td> 0.002000</td>\n",
        "      <td>  0.001000</td>\n",
        "      <td> 0.001000</td>\n",
        "      <td> 0.00200</td>\n",
        "    </tr>\n",
        "    <tr>\n",
        "      <td><strong>TSS (mg/l)</strong></td>\n",
        "      <td> 1.773000</td>\n",
        "      <td> 11.470000</td>\n",
        "      <td> 0.862000</td>\n",
        "      <td> 0.18300</td>\n",
        "    </tr>\n",
        "    <tr>\n",
        "      <td><strong>Zn (mg/l)</strong></td>\n",
        "      <td> 0.001000</td>\n",
        "      <td>  0.001000</td>\n",
        "      <td> 0.000049</td>\n",
        "      <td> 0.00100</td>\n",
        "    </tr>\n",
        "    <tr>\n",
        "      <td rowspan=\"3\" valign=\"top\"><strong>Commercial</strong></td>\n",
        "      <td><strong>BOD5 (mg/l)</strong></td>\n",
        "      <td> 0.036000</td>\n",
        "      <td>  0.041900</td>\n",
        "      <td>      NaN</td>\n",
        "      <td> 0.31500</td>\n",
        "    </tr>\n",
        "    <tr>\n",
        "      <td><strong>Cu (mg/l)</strong></td>\n",
        "      <td> 0.000044</td>\n",
        "      <td>  0.000073</td>\n",
        "      <td>      NaN</td>\n",
        "      <td> 0.00039</td>\n",
        "    </tr>\n",
        "    <tr>\n",
        "      <td><strong>O&G (mg/l)</strong></td>\n",
        "      <td> 0.038500</td>\n",
        "      <td>  0.127000</td>\n",
        "      <td>      NaN</td>\n",
        "      <td> 0.26300</td>\n",
        "    </tr>\n",
        "    <tr>\n",
        "      <td rowspan=\"2\" valign=\"top\"><strong>Open Space</strong></td>\n",
        "      <td><strong>TSS (mg/l)</strong></td>\n",
        "      <td> 0.371000</td>\n",
        "      <td>  3.010000</td>\n",
        "      <td> 1.209000</td>\n",
        "      <td> 0.14700</td>\n",
        "    </tr>\n",
        "    <tr>\n",
        "      <td><strong>Zn (mg/l)</strong></td>\n",
        "      <td> 0.012700</td>\n",
        "      <td>  0.006900</td>\n",
        "      <td> 0.013200</td>\n",
        "      <td> 0.00700</td>\n",
        "    </tr>\n",
        "    <tr>\n",
        "      <td rowspan=\"2\" valign=\"top\"><strong>Parking Lot</strong></td>\n",
        "      <td><strong>BOD5 (mg/l)</strong></td>\n",
        "      <td> 0.924000</td>\n",
        "      <td>  0.066800</td>\n",
        "      <td> 2.603000</td>\n",
        "      <td> 3.19000</td>\n",
        "    </tr>\n",
        "    <tr>\n",
        "      <td><strong>O&G (mg/l)</strong></td>\n",
        "      <td> 1.020000</td>\n",
        "      <td>  0.149000</td>\n",
        "      <td> 1.347000</td>\n",
        "      <td> 1.88000</td>\n",
        "    </tr>\n",
        "    <tr>\n",
        "      <td><strong>Rooftops</strong></td>\n",
        "      <td><strong>BOD5 (mg/l)</strong></td>\n",
        "      <td> 0.135000</td>\n",
        "      <td>  1.000000</td>\n",
        "      <td> 0.056200</td>\n",
        "      <td> 0.31000</td>\n",
        "    </tr>\n",
        "  </tbody>\n",
        "</table>\n",
        "</div>"
       ],
       "output_type": "pyout",
       "prompt_number": 6,
       "text": [
        "                                  1E         1N        1S        2\n",
        "Land Use    Parameter                                             \n",
        "Airfield    BOD5 (mg/l)     0.418000   0.118000  0.226000  1.06300\n",
        "            Ortho P (mg/l)  0.002000   0.001000  0.001000  0.00200\n",
        "            TSS (mg/l)      1.773000  11.470000  0.862000  0.18300\n",
        "            Zn (mg/l)       0.001000   0.001000  0.000049  0.00100\n",
        "Commercial  BOD5 (mg/l)     0.036000   0.041900       NaN  0.31500\n",
        "            Cu (mg/l)       0.000044   0.000073       NaN  0.00039\n",
        "            O&G (mg/l)      0.038500   0.127000       NaN  0.26300\n",
        "Open Space  TSS (mg/l)      0.371000   3.010000  1.209000  0.14700\n",
        "            Zn (mg/l)       0.012700   0.006900  0.013200  0.00700\n",
        "Parking Lot BOD5 (mg/l)     0.924000   0.066800  2.603000  3.19000\n",
        "            O&G (mg/l)      1.020000   0.149000  1.347000  1.88000\n",
        "Rooftops    BOD5 (mg/l)     0.135000   1.000000  0.056200  0.31000"
       ]
      }
     ],
     "prompt_number": 6
    },
    {
     "cell_type": "code",
     "collapsed": false,
     "input": [
      "weight"
     ],
     "language": "python",
     "metadata": {},
     "outputs": [
      {
       "html": [
        "<div style=\"max-height:1000px;max-width:1500px;overflow:auto;\">\n",
        "<table border=\"1\" class=\"dataframe\">\n",
        "  <thead>\n",
        "    <tr style=\"text-align: right;\">\n",
        "      <th></th>\n",
        "      <th>1E</th>\n",
        "      <th>1N</th>\n",
        "      <th>1S</th>\n",
        "      <th>2</th>\n",
        "    </tr>\n",
        "    <tr>\n",
        "      <th>Land Use</th>\n",
        "      <th></th>\n",
        "      <th></th>\n",
        "      <th></th>\n",
        "      <th></th>\n",
        "    </tr>\n",
        "  </thead>\n",
        "  <tbody>\n",
        "    <tr>\n",
        "      <td><strong>Airfield</strong></td>\n",
        "      <td> 0.5110</td>\n",
        "      <td> 0.0227</td>\n",
        "      <td> 0.061600</td>\n",
        "      <td> 0.3940</td>\n",
        "    </tr>\n",
        "    <tr>\n",
        "      <td><strong>Commercial</strong></td>\n",
        "      <td> 0.0005</td>\n",
        "      <td> 0.1704</td>\n",
        "      <td> 0.000000</td>\n",
        "      <td> 0.1065</td>\n",
        "    </tr>\n",
        "    <tr>\n",
        "      <td><strong>Open Space</strong></td>\n",
        "      <td> 0.0008</td>\n",
        "      <td> 0.0050</td>\n",
        "      <td> 0.000200</td>\n",
        "      <td> 0.0004</td>\n",
        "    </tr>\n",
        "    <tr>\n",
        "      <td><strong>Parking Lot</strong></td>\n",
        "      <td> 0.3300</td>\n",
        "      <td> 0.5140</td>\n",
        "      <td> 0.252000</td>\n",
        "      <td> 0.1710</td>\n",
        "    </tr>\n",
        "    <tr>\n",
        "      <td><strong>Rooftops</strong></td>\n",
        "      <td> 0.0810</td>\n",
        "      <td> 0.0280</td>\n",
        "      <td> 0.000085</td>\n",
        "      <td> 0.0030</td>\n",
        "    </tr>\n",
        "  </tbody>\n",
        "</table>\n",
        "</div>"
       ],
       "output_type": "pyout",
       "prompt_number": 7,
       "text": [
        "                 1E      1N        1S       2\n",
        "Land Use                                     \n",
        "Airfield     0.5110  0.0227  0.061600  0.3940\n",
        "Commercial   0.0005  0.1704  0.000000  0.1065\n",
        "Open Space   0.0008  0.0050  0.000200  0.0004\n",
        "Parking Lot  0.3300  0.5140  0.252000  0.1710\n",
        "Rooftops     0.0810  0.0280  0.000085  0.0030"
       ]
      }
     ],
     "prompt_number": 7
    },
    {
     "cell_type": "code",
     "collapsed": false,
     "input": [
      "s = concentration['2']"
     ],
     "language": "python",
     "metadata": {},
     "outputs": [],
     "prompt_number": 11
    },
    {
     "cell_type": "code",
     "collapsed": false,
     "input": [
      "s.map?"
     ],
     "language": "python",
     "metadata": {},
     "outputs": [],
     "prompt_number": 12
    },
    {
     "cell_type": "code",
     "collapsed": false,
     "input": [
      "data = [1,2,3,4,12,3,2,5,7,12,1,1,2,4,5]\n",
      "idx = pd.DatetimeIndex(['2012-01-01','2012-01-02','2012-01-03','2012-01-04','2012-01-05','2012-01-06','2012-01-07','2012-01-08','2012-01-09','2012-01-10','2012-01-11','2012-01-12','2012-01-13','2012-01-14','2012-01-15'], freq='D')\n",
      "x1 = pd.TimeSeries(data, index=idx)"
     ],
     "language": "python",
     "metadata": {},
     "outputs": [],
     "prompt_number": 2
    },
    {
     "cell_type": "code",
     "collapsed": false,
     "input": [
      "x1"
     ],
     "language": "python",
     "metadata": {},
     "outputs": [
      {
       "output_type": "pyout",
       "prompt_number": 3,
       "text": [
        "2012-01-01     1\n",
        "2012-01-02     2\n",
        "2012-01-03     3\n",
        "2012-01-04     4\n",
        "2012-01-05    12\n",
        "2012-01-06     3\n",
        "2012-01-07     2\n",
        "2012-01-08     5\n",
        "2012-01-09     7\n",
        "2012-01-10    12\n",
        "2012-01-11     1\n",
        "2012-01-12     1\n",
        "2012-01-13     2\n",
        "2012-01-14     4\n",
        "2012-01-15     5\n",
        "Freq: D"
       ]
      }
     ],
     "prompt_number": 3
    },
    {
     "cell_type": "code",
     "collapsed": false,
     "input": [
      "clf()\n",
      "x1.dtype"
     ],
     "language": "python",
     "metadata": {},
     "outputs": [
      {
       "output_type": "pyout",
       "prompt_number": 49,
       "text": [
        "dtype('int64')"
       ]
      }
     ],
     "prompt_number": 49
    },
    {
     "cell_type": "code",
     "collapsed": false,
     "input": [
      "x1.plot()"
     ],
     "language": "python",
     "metadata": {},
     "outputs": [
      {
       "output_type": "pyout",
       "prompt_number": 44,
       "text": [
        "<matplotlib.axes.AxesSubplot at 0x117fa69d0>"
       ]
      }
     ],
     "prompt_number": 44
    },
    {
     "cell_type": "code",
     "collapsed": false,
     "input": [
      "plot(x1)"
     ],
     "language": "python",
     "metadata": {},
     "outputs": [
      {
       "output_type": "pyout",
       "prompt_number": 51,
       "text": [
        "[<matplotlib.lines.Line2D at 0x118398190>]"
       ]
      }
     ],
     "prompt_number": 51
    },
    {
     "cell_type": "code",
     "collapsed": false,
     "input": [
      "hist(x1)"
     ],
     "language": "python",
     "metadata": {},
     "outputs": [
      {
       "output_type": "pyout",
       "prompt_number": 50,
       "text": [
        "(array([6, 2, 2, 2, 0, 1, 0, 0, 0, 2]),\n",
        " array([  1. ,   2.1,   3.2,   4.3,   5.4,   6.5,   7.6,   8.7,   9.8,\n",
        "        10.9,  12. ]),\n",
        " <a list of 10 Patch objects>)"
       ]
      }
     ],
     "prompt_number": 50
    },
    {
     "cell_type": "code",
     "collapsed": false,
     "input": [
      "subplot(211)"
     ],
     "language": "python",
     "metadata": {},
     "outputs": [
      {
       "output_type": "pyout",
       "prompt_number": 58,
       "text": [
        "<matplotlib.axes.AxesSubplot at 0x117fefc90>"
       ]
      }
     ],
     "prompt_number": 58
    },
    {
     "cell_type": "code",
     "collapsed": false,
     "input": [
      "plot(x1)"
     ],
     "language": "python",
     "metadata": {},
     "outputs": [
      {
       "output_type": "pyout",
       "prompt_number": 59,
       "text": [
        "[<matplotlib.lines.Line2D at 0x111175ed0>]"
       ]
      }
     ],
     "prompt_number": 59
    },
    {
     "cell_type": "code",
     "collapsed": false,
     "input": [
      "subplot(212)"
     ],
     "language": "python",
     "metadata": {},
     "outputs": [
      {
       "output_type": "pyout",
       "prompt_number": 60,
       "text": [
        "<matplotlib.axes.AxesSubplot at 0x111faf710>"
       ]
      }
     ],
     "prompt_number": 60
    },
    {
     "cell_type": "code",
     "collapsed": false,
     "input": [
      "hist(x1)"
     ],
     "language": "python",
     "metadata": {},
     "outputs": [
      {
       "output_type": "pyout",
       "prompt_number": 61,
       "text": [
        "(array([6, 2, 2, 2, 0, 1, 0, 0, 0, 2]),\n",
        " array([  1. ,   2.1,   3.2,   4.3,   5.4,   6.5,   7.6,   8.7,   9.8,\n",
        "        10.9,  12. ]),\n",
        " <a list of 10 Patch objects>)"
       ]
      }
     ],
     "prompt_number": 61
    },
    {
     "cell_type": "code",
     "collapsed": false,
     "input": [
      "show()"
     ],
     "language": "python",
     "metadata": {},
     "outputs": [],
     "prompt_number": 57
    },
    {
     "cell_type": "code",
     "collapsed": false,
     "input": [
      "fig, (ax0,ax1) = plt.subplots(nrows=2)"
     ],
     "language": "python",
     "metadata": {},
     "outputs": [],
     "prompt_number": 3
    },
    {
     "cell_type": "code",
     "collapsed": false,
     "input": [
      "ax0.plot(x1)"
     ],
     "language": "python",
     "metadata": {},
     "outputs": [
      {
       "output_type": "pyout",
       "prompt_number": 4,
       "text": [
        "[<matplotlib.lines.Line2D at 0x1176b8050>]"
       ]
      }
     ],
     "prompt_number": 4
    },
    {
     "cell_type": "code",
     "collapsed": false,
     "input": [
      "ax1.hist(x1)"
     ],
     "language": "python",
     "metadata": {},
     "outputs": [
      {
       "output_type": "pyout",
       "prompt_number": 5,
       "text": [
        "(array([6, 2, 2, 2, 0, 1, 0, 0, 0, 2]),\n",
        " array([  1. ,   2.1,   3.2,   4.3,   5.4,   6.5,   7.6,   8.7,   9.8,\n",
        "        10.9,  12. ]),\n",
        " <a list of 10 Patch objects>)"
       ]
      }
     ],
     "prompt_number": 5
    },
    {
     "cell_type": "code",
     "collapsed": false,
     "input": [
      "show()"
     ],
     "language": "python",
     "metadata": {},
     "outputs": [],
     "prompt_number": 6
    },
    {
     "cell_type": "code",
     "collapsed": false,
     "input": [
      "obj = x1.plot()"
     ],
     "language": "python",
     "metadata": {},
     "outputs": [
      {
       "output_type": "display_data",
       "png": "[encoded data removed]"
      }
     ],
     "prompt_number": 3
    },
    {
     "cell_type": "code",
     "collapsed": false,
     "input": [
      "type(obj)"
     ],
     "language": "python",
     "metadata": {},
     "outputs": [
      {
       "output_type": "pyout",
       "prompt_number": 4,
       "text": [
        "matplotlib.axes.AxesSubplot"
       ]
      }
     ],
     "prompt_number": 4
    },
    {
     "cell_type": "code",
     "collapsed": false,
     "input": [
      "fig = plt.figure()"
     ],
     "language": "python",
     "metadata": {},
     "outputs": [],
     "prompt_number": 5
    },
    {
     "cell_type": "code",
     "collapsed": false,
     "input": [
      "plt.show(obj)"
     ],
     "language": "python",
     "metadata": {},
     "outputs": [],
     "prompt_number": 6
    },
    {
     "cell_type": "code",
     "collapsed": false,
     "input": [
      "obj = plt.plot(x1)"
     ],
     "language": "python",
     "metadata": {},
     "outputs": [
      {
       "output_type": "display_data",
       "png": "[encoded data removed]"
      }
     ],
     "prompt_number": 8
    },
    {
     "cell_type": "code",
     "collapsed": false,
     "input": [
      "type(obj[0])"
     ],
     "language": "python",
     "metadata": {},
     "outputs": [
      {
       "output_type": "pyout",
       "prompt_number": 10,
       "text": [
        "matplotlib.lines.Line2D"
       ]
      }
     ],
     "prompt_number": 10
    },
    {
     "cell_type": "code",
     "collapsed": false,
     "input": [],
     "language": "python",
     "metadata": {},
     "outputs": []
    }
   ],
   "metadata": {}
  }
 ]
}