{
 "metadata": {
  "name": "playing around"
 },
 "nbformat": 3,
 "nbformat_minor": 0,
 "worksheets": [
  {
   "cells": [
    {
     "cell_type": "code",
     "collapsed": false,
     "input": [
      "import pandas as pd\n",
      "import matplotlib.pyplot as plt"
     ],
     "language": "python",
     "metadata": {},
     "outputs": []
    },
    {
     "cell_type": "code",
     "collapsed": false,
     "input": [
      "import pandas\n",
      "df = pandas.DataFrame({'group1': ['a','a','a','b','b','b'],\n",
      "                       'group2': ['c','c','d','d','d','e'],\n",
      "                       'value1': [1.1,2,3,4,5,6],\n",
      "                       'value2': [7.1,8,9,10,11,12]\n",
      "})\n",
      "dfGrouped = df.groupby( [\"group1\", \"group2\"] , sort=True)\n",
      "\n",
      "## toy function, obviously not my real function\n",
      "def fun(x): return mean(x**2)\n",
      "\n",
      "results = dfGrouped.apply(lambda x: fun(x.value1))"
     ],
     "language": "python",
     "metadata": {},
     "outputs": [],
     "prompt_number": 2
    },
    {
     "cell_type": "code",
     "collapsed": false,
     "input": [
      "df"
     ],
     "language": "python",
     "metadata": {},
     "outputs": [
      {
       "html": [
        "<div style=\"max-height:1000px;max-width:1500px;overflow:auto;\">\n",
        "<table border=\"1\" class=\"dataframe\">\n",
        "  <thead>\n",
        "    <tr style=\"text-align: right;\">\n",
        "      <th></th>\n",
        "      <th>group1</th>\n",
        "      <th>group2</th>\n",
        "      <th>value1</th>\n",
        "      <th>value2</th>\n",
        "    </tr>\n",
        "  </thead>\n",
        "  <tbody>\n",
        "    <tr>\n",
        "      <td><strong>0</strong></td>\n",
        "      <td> a</td>\n",
        "      <td> c</td>\n",
        "      <td> 1.1</td>\n",
        "      <td>  7.1</td>\n",
        "    </tr>\n",
        "    <tr>\n",
        "      <td><strong>1</strong></td>\n",
        "      <td> a</td>\n",
        "      <td> c</td>\n",
        "      <td> 2.0</td>\n",
        "      <td>  8.0</td>\n",
        "    </tr>\n",
        "    <tr>\n",
        "      <td><strong>2</strong></td>\n",
        "      <td> a</td>\n",
        "      <td> d</td>\n",
        "      <td> 3.0</td>\n",
        "      <td>  9.0</td>\n",
        "    </tr>\n",
        "    <tr>\n",
        "      <td><strong>3</strong></td>\n",
        "      <td> b</td>\n",
        "      <td> d</td>\n",
        "      <td> 4.0</td>\n",
        "      <td> 10.0</td>\n",
        "    </tr>\n",
        "    <tr>\n",
        "      <td><strong>4</strong></td>\n",
        "      <td> b</td>\n",
        "      <td> d</td>\n",
        "      <td> 5.0</td>\n",
        "      <td> 11.0</td>\n",
        "    </tr>\n",
        "    <tr>\n",
        "      <td><strong>5</strong></td>\n",
        "      <td> b</td>\n",
        "      <td> e</td>\n",
        "      <td> 6.0</td>\n",
        "      <td> 12.0</td>\n",
        "    </tr>\n",
        "  </tbody>\n",
        "</table>\n",
        "</div>"
       ],
       "output_type": "pyout",
       "prompt_number": 3,
       "text": [
        "  group1 group2  value1  value2\n",
        "0      a      c     1.1     7.1\n",
        "1      a      c     2.0     8.0\n",
        "2      a      d     3.0     9.0\n",
        "3      b      d     4.0    10.0\n",
        "4      b      d     5.0    11.0\n",
        "5      b      e     6.0    12.0"
       ]
      }
     ],
     "prompt_number": 3
    },
    {
     "cell_type": "code",
     "collapsed": false,
     "input": [
      "df = pd.DataFrame({'B':['one','one','two'],'C':[3,2,1]})"
     ],
     "language": "python",
     "metadata": {},
     "outputs": [],
     "prompt_number": 4
    },
    {
     "cell_type": "code",
     "collapsed": false,
     "input": [
      "df.index.names=['A']"
     ],
     "language": "python",
     "metadata": {},
     "outputs": [],
     "prompt_number": 5
    },
    {
     "cell_type": "code",
     "collapsed": false,
     "input": [
      "df.index.name = 'A'"
     ],
     "language": "python",
     "metadata": {},
     "outputs": [],
     "prompt_number": 6
    },
    {
     "cell_type": "code",
     "collapsed": false,
     "input": [
      "df.index.name"
     ],
     "language": "python",
     "metadata": {},
     "outputs": [
      {
       "output_type": "pyout",
       "prompt_number": 7,
       "text": [
        "'A'"
       ]
      }
     ],
     "prompt_number": 7
    },
    {
     "cell_type": "code",
     "collapsed": false,
     "input": [
      "df.set_index([df.index,'B'],inplace=True)"
     ],
     "language": "python",
     "metadata": {},
     "outputs": [],
     "prompt_number": 8
    },
    {
     "cell_type": "code",
     "collapsed": false,
     "input": [
      "df"
     ],
     "language": "python",
     "metadata": {},
     "outputs": [
      {
       "html": [
        "<div style=\"max-height:1000px;max-width:1500px;overflow:auto;\">\n",
        "<table border=\"1\" class=\"dataframe\">\n",
        "  <thead>\n",
        "    <tr style=\"text-align: right;\">\n",
        "      <th></th>\n",
        "      <th></th>\n",
        "      <th>C</th>\n",
        "    </tr>\n",
        "    <tr>\n",
        "      <th></th>\n",
        "      <th>B</th>\n",
        "      <th></th>\n",
        "    </tr>\n",
        "  </thead>\n",
        "  <tbody>\n",
        "    <tr>\n",
        "      <td><strong>0</strong></td>\n",
        "      <td><strong>one</strong></td>\n",
        "      <td> 3</td>\n",
        "    </tr>\n",
        "    <tr>\n",
        "      <td><strong>1</strong></td>\n",
        "      <td><strong>one</strong></td>\n",
        "      <td> 2</td>\n",
        "    </tr>\n",
        "    <tr>\n",
        "      <td><strong>2</strong></td>\n",
        "      <td><strong>two</strong></td>\n",
        "      <td> 1</td>\n",
        "    </tr>\n",
        "  </tbody>\n",
        "</table>\n",
        "</div>"
       ],
       "output_type": "pyout",
       "prompt_number": 9,
       "text": [
        "       C\n",
        "  B     \n",
        "0 one  3\n",
        "1 one  2\n",
        "2 two  1"
       ]
      }
     ],
     "prompt_number": 9
    },
    {
     "cell_type": "code",
     "collapsed": false,
     "input": [
      "df.index.names = ['A','B']"
     ],
     "language": "python",
     "metadata": {},
     "outputs": [],
     "prompt_number": 10
    },
    {
     "cell_type": "code",
     "collapsed": false,
     "input": [
      "df"
     ],
     "language": "python",
     "metadata": {},
     "outputs": [
      {
       "html": [
        "<div style=\"max-height:1000px;max-width:1500px;overflow:auto;\">\n",
        "<table border=\"1\" class=\"dataframe\">\n",
        "  <thead>\n",
        "    <tr style=\"text-align: right;\">\n",
        "      <th></th>\n",
        "      <th></th>\n",
        "      <th>C</th>\n",
        "    </tr>\n",
        "    <tr>\n",
        "      <th>A</th>\n",
        "      <th>B</th>\n",
        "      <th></th>\n",
        "    </tr>\n",
        "  </thead>\n",
        "  <tbody>\n",
        "    <tr>\n",
        "      <td><strong>0</strong></td>\n",
        "      <td><strong>one</strong></td>\n",
        "      <td> 3</td>\n",
        "    </tr>\n",
        "    <tr>\n",
        "      <td><strong>1</strong></td>\n",
        "      <td><strong>one</strong></td>\n",
        "      <td> 2</td>\n",
        "    </tr>\n",
        "    <tr>\n",
        "      <td><strong>2</strong></td>\n",
        "      <td><strong>two</strong></td>\n",
        "      <td> 1</td>\n",
        "    </tr>\n",
        "  </tbody>\n",
        "</table>\n",
        "</div>"
       ],
       "output_type": "pyout",
       "prompt_number": 11,
       "text": [
        "       C\n",
        "A B     \n",
        "0 one  3\n",
        "1 one  2\n",
        "2 two  1"
       ]
      }
     ],
     "prompt_number": 11
    },
    {
     "cell_type": "code",
     "collapsed": false,
     "input": [
      "df.reset_index().B.unique()"
     ],
     "language": "python",
     "metadata": {},
     "outputs": [
      {
       "output_type": "pyout",
       "prompt_number": 12,
       "text": [
        "array([one, two], dtype=object)"
       ]
      }
     ],
     "prompt_number": 12
    },
    {
     "cell_type": "code",
     "collapsed": false,
     "input": [
      "data = pd.Series(np.random.randn(10),\n",
      "index=[['a', 'a', 'a', 'b', 'b', 'b', 'c', 'c', 'd', 'd'],[1, 2, 3, 1, 2, 3, 1, 2, 2, 3]])"
     ],
     "language": "python",
     "metadata": {},
     "outputs": [],
     "prompt_number": 13
    },
    {
     "cell_type": "code",
     "collapsed": false,
     "input": [
      "data.reset_index()"
     ],
     "language": "python",
     "metadata": {},
     "outputs": [
      {
       "html": [
        "<div style=\"max-height:1000px;max-width:1500px;overflow:auto;\">\n",
        "<table border=\"1\" class=\"dataframe\">\n",
        "  <thead>\n",
        "    <tr style=\"text-align: right;\">\n",
        "      <th></th>\n",
        "      <th>level_0</th>\n",
        "      <th>level_1</th>\n",
        "      <th>0</th>\n",
        "    </tr>\n",
        "  </thead>\n",
        "  <tbody>\n",
        "    <tr>\n",
        "      <td><strong>0</strong></td>\n",
        "      <td> a</td>\n",
        "      <td> 1</td>\n",
        "      <td>-0.961147</td>\n",
        "    </tr>\n",
        "    <tr>\n",
        "      <td><strong>1</strong></td>\n",
        "      <td> a</td>\n",
        "      <td> 2</td>\n",
        "      <td> 1.047863</td>\n",
        "    </tr>\n",
        "    <tr>\n",
        "      <td><strong>2</strong></td>\n",
        "      <td> a</td>\n",
        "      <td> 3</td>\n",
        "      <td>-0.566589</td>\n",
        "    </tr>\n",
        "    <tr>\n",
        "      <td><strong>3</strong></td>\n",
        "      <td> b</td>\n",
        "      <td> 1</td>\n",
        "      <td>-1.222224</td>\n",
        "    </tr>\n",
        "    <tr>\n",
        "      <td><strong>4</strong></td>\n",
        "      <td> b</td>\n",
        "      <td> 2</td>\n",
        "      <td> 0.020116</td>\n",
        "    </tr>\n",
        "    <tr>\n",
        "      <td><strong>5</strong></td>\n",
        "      <td> b</td>\n",
        "      <td> 3</td>\n",
        "      <td> 1.055231</td>\n",
        "    </tr>\n",
        "    <tr>\n",
        "      <td><strong>6</strong></td>\n",
        "      <td> c</td>\n",
        "      <td> 1</td>\n",
        "      <td>-1.093663</td>\n",
        "    </tr>\n",
        "    <tr>\n",
        "      <td><strong>7</strong></td>\n",
        "      <td> c</td>\n",
        "      <td> 2</td>\n",
        "      <td> 1.718262</td>\n",
        "    </tr>\n",
        "    <tr>\n",
        "      <td><strong>8</strong></td>\n",
        "      <td> d</td>\n",
        "      <td> 2</td>\n",
        "      <td>-0.755829</td>\n",
        "    </tr>\n",
        "    <tr>\n",
        "      <td><strong>9</strong></td>\n",
        "      <td> d</td>\n",
        "      <td> 3</td>\n",
        "      <td> 0.150072</td>\n",
        "    </tr>\n",
        "  </tbody>\n",
        "</table>\n",
        "</div>"
       ],
       "output_type": "pyout",
       "prompt_number": 14,
       "text": [
        "  level_0  level_1         0\n",
        "0       a        1 -0.961147\n",
        "1       a        2  1.047863\n",
        "2       a        3 -0.566589\n",
        "3       b        1 -1.222224\n",
        "4       b        2  0.020116\n",
        "5       b        3  1.055231\n",
        "6       c        1 -1.093663\n",
        "7       c        2  1.718262\n",
        "8       d        2 -0.755829\n",
        "9       d        3  0.150072"
       ]
      }
     ],
     "prompt_number": 14
    },
    {
     "cell_type": "code",
     "collapsed": false,
     "input": [
      "data.index.names = ['letters','numbers']"
     ],
     "language": "python",
     "metadata": {},
     "outputs": [],
     "prompt_number": 15
    },
    {
     "cell_type": "code",
     "collapsed": false,
     "input": [
      "data.unstack().stack()"
     ],
     "language": "python",
     "metadata": {},
     "outputs": [
      {
       "output_type": "pyout",
       "prompt_number": 16,
       "text": [
        "letters   \n",
        "a        1   -0.961147\n",
        "         2    1.047863\n",
        "         3   -0.566589\n",
        "b        1   -1.222224\n",
        "         2    0.020116\n",
        "         3    1.055231\n",
        "c        1   -1.093663\n",
        "         2    1.718262\n",
        "d        2   -0.755829\n",
        "         3    0.150072"
       ]
      }
     ],
     "prompt_number": 16
    },
    {
     "cell_type": "code",
     "collapsed": false,
     "input": [
      "import StringIO\n",
      "import pandas\n",
      "\n",
      "conc_string = StringIO.StringIO(\"\"\"\\\n",
      "Land Use,Parameter,1E,1N,1S,2\n",
      "Airfield,BOD5 (mg/l),0.418,0.118,0.226,1.063\n",
      "Airfield,Ortho P (mg/l),0.002,0.001,0.001,0.002\n",
      "Airfield,TSS (mg/l),1.773,11.47,0.862,0.183\n",
      "Airfield,Zn (mg/l),0.001,0.001,4.95E-05,0.001\n",
      "\"Commercial\",BOD5 (mg/l),0.036,0.0419,,0.315\n",
      "\"Commercial\",Cu (mg/l),4.37E-05,7.34E-05,,0.00039\n",
      "\"Commercial\",O&G (mg/l),0.0385,0.127,,0.263\n",
      "Open Space,TSS (mg/l),0.371,3.01,1.209,0.147\n",
      "Open Space,Zn (mg/l),0.0127,0.0069,0.0132,0.007\n",
      "\"Parking Lot\",BOD5 (mg/l),0.924,0.0668,2.603,3.19\n",
      "\"Parking Lot\",O&G (mg/l),1.02,0.149,1.347,1.88\n",
      "\"Rooftops\",BOD5 (mg/l),0.135,1.00,0.0562,0.310\"\"\")\n",
      "\n",
      "weight_string = StringIO.StringIO(\"\"\"\\\n",
      "Land Use,1E,1N,1S,2\n",
      "Airfield,0.511,0.0227,0.0616,0.394\n",
      "Commercial,0.0005,0.1704,0,0.1065\n",
      "Open Space,0.0008,0.005,0.0002,0.0004\n",
      "\"Parking Lot\",0.33,0.514,0.252,0.171\n",
      "Rooftops,0.081,0.028,8.50E-05,0.003\"\"\")\n",
      "\n",
      "concentration = pandas.read_csv(conc_string, index_col=[0,1])\n",
      "weight = pandas.read_csv(weight_string, index_col=0)"
     ],
     "language": "python",
     "metadata": {},
     "outputs": [],
     "prompt_number": 17
    },
    {
     "cell_type": "code",
     "collapsed": false,
     "input": [
      "wstk = pandas.DataFrame(weight.stack())\n",
      "wstk.index.names = ['Land Use', 'Basin']\n",
      "wstk.rename(columns={0:'weight'}, inplace=True)\n",
      "\n",
      "cstk = pandas.DataFrame(concentration.stack())\n",
      "cstk.index.names = ['Land Use', 'Parameter', 'Basin']\n",
      "cstk.rename(columns={0:'concentration'}, inplace=True)"
     ],
     "language": "python",
     "metadata": {},
     "outputs": [],
     "prompt_number": 18
    },
    {
     "cell_type": "code",
     "collapsed": false,
     "input": [
      "concentration"
     ],
     "language": "python",
     "metadata": {},
     "outputs": [
      {
       "html": [
        "<div style=\"max-height:1000px;max-width:1500px;overflow:auto;\">\n",
        "<table border=\"1\" class=\"dataframe\">\n",
        "  <thead>\n",
        "    <tr style=\"text-align: right;\">\n",
        "      <th></th>\n",
        "      <th></th>\n",
        "      <th>1E</th>\n",
        "      <th>1N</th>\n",
        "      <th>1S</th>\n",
        "      <th>2</th>\n",
        "    </tr>\n",
        "    <tr>\n",
        "      <th>Land Use</th>\n",
        "      <th>Parameter</th>\n",
        "      <th></th>\n",
        "      <th></th>\n",
        "      <th></th>\n",
        "      <th></th>\n",
        "    </tr>\n",
        "  </thead>\n",
        "  <tbody>\n",
        "    <tr>\n",
        "      <td rowspan=\"4\" valign=\"top\"><strong>Airfield</strong></td>\n",
        "      <td><strong>BOD5 (mg/l)</strong></td>\n",
        "      <td> 0.418000</td>\n",
        "      <td>  0.118000</td>\n",
        "      <td> 0.226000</td>\n",
        "      <td> 1.06300</td>\n",
        "    </tr>\n",
        "    <tr>\n",
        "      <td><strong>Ortho P (mg/l)</strong></td>\n",
        "      <td> 0.002000</td>\n",
        "      <td>  0.001000</td>\n",
        "      <td> 0.001000</td>\n",
        "      <td> 0.00200</td>\n",
        "    </tr>\n",
        "    <tr>\n",
        "      <td><strong>TSS (mg/l)</strong></td>\n",
        "      <td> 1.773000</td>\n",
        "      <td> 11.470000</td>\n",
        "      <td> 0.862000</td>\n",
        "      <td> 0.18300</td>\n",
        "    </tr>\n",
        "    <tr>\n",
        "      <td><strong>Zn (mg/l)</strong></td>\n",
        "      <td> 0.001000</td>\n",
        "      <td>  0.001000</td>\n",
        "      <td> 0.000049</td>\n",
        "      <td> 0.00100</td>\n",
        "    </tr>\n",
        "    <tr>\n",
        "      <td rowspan=\"3\" valign=\"top\"><strong>Commercial</strong></td>\n",
        "      <td><strong>BOD5 (mg/l)</strong></td>\n",
        "      <td> 0.036000</td>\n",
        "      <td>  0.041900</td>\n",
        "      <td>      NaN</td>\n",
        "      <td> 0.31500</td>\n",
        "    </tr>\n",
        "    <tr>\n",
        "      <td><strong>Cu (mg/l)</strong></td>\n",
        "      <td> 0.000044</td>\n",
        "      <td>  0.000073</td>\n",
        "      <td>      NaN</td>\n",
        "      <td> 0.00039</td>\n",
        "    </tr>\n",
        "    <tr>\n",
        "      <td><strong>O&G (mg/l)</strong></td>\n",
        "      <td> 0.038500</td>\n",
        "      <td>  0.127000</td>\n",
        "      <td>      NaN</td>\n",
        "      <td> 0.26300</td>\n",
        "    </tr>\n",
        "    <tr>\n",
        "      <td rowspan=\"2\" valign=\"top\"><strong>Open Space</strong></td>\n",
        "      <td><strong>TSS (mg/l)</strong></td>\n",
        "      <td> 0.371000</td>\n",
        "      <td>  3.010000</td>\n",
        "      <td> 1.209000</td>\n",
        "      <td> 0.14700</td>\n",
        "    </tr>\n",
        "    <tr>\n",
        "      <td><strong>Zn (mg/l)</strong></td>\n",
        "      <td> 0.012700</td>\n",
        "      <td>  0.006900</td>\n",
        "      <td> 0.013200</td>\n",
        "      <td> 0.00700</td>\n",
        "    </tr>\n",
        "    <tr>\n",
        "      <td rowspan=\"2\" valign=\"top\"><strong>Parking Lot</strong></td>\n",
        "      <td><strong>BOD5 (mg/l)</strong></td>\n",
        "      <td> 0.924000</td>\n",
        "      <td>  0.066800</td>\n",
        "      <td> 2.603000</td>\n",
        "      <td> 3.19000</td>\n",
        "    </tr>\n",
        "    <tr>\n",
        "      <td><strong>O&G (mg/l)</strong></td>\n",
        "      <td> 1.020000</td>\n",
        "      <td>  0.149000</td>\n",
        "      <td> 1.347000</td>\n",
        "      <td> 1.88000</td>\n",
        "    </tr>\n",
        "    <tr>\n",
        "      <td><strong>Rooftops</strong></td>\n",
        "      <td><strong>BOD5 (mg/l)</strong></td>\n",
        "      <td> 0.135000</td>\n",
        "      <td>  1.000000</td>\n",
        "      <td> 0.056200</td>\n",
        "      <td> 0.31000</td>\n",
        "    </tr>\n",
        "  </tbody>\n",
        "</table>\n",
        "</div>"
       ],
       "output_type": "pyout",
       "prompt_number": 19,
       "text": [
        "                                  1E         1N        1S        2\n",
        "Land Use    Parameter                                             \n",
        "Airfield    BOD5 (mg/l)     0.418000   0.118000  0.226000  1.06300\n",
        "            Ortho P (mg/l)  0.002000   0.001000  0.001000  0.00200\n",
        "            TSS (mg/l)      1.773000  11.470000  0.862000  0.18300\n",
        "            Zn (mg/l)       0.001000   0.001000  0.000049  0.00100\n",
        "Commercial  BOD5 (mg/l)     0.036000   0.041900       NaN  0.31500\n",
        "            Cu (mg/l)       0.000044   0.000073       NaN  0.00039\n",
        "            O&G (mg/l)      0.038500   0.127000       NaN  0.26300\n",
        "Open Space  TSS (mg/l)      0.371000   3.010000  1.209000  0.14700\n",
        "            Zn (mg/l)       0.012700   0.006900  0.013200  0.00700\n",
        "Parking Lot BOD5 (mg/l)     0.924000   0.066800  2.603000  3.19000\n",
        "            O&G (mg/l)      1.020000   0.149000  1.347000  1.88000\n",
        "Rooftops    BOD5 (mg/l)     0.135000   1.000000  0.056200  0.31000"
       ]
      }
     ],
     "prompt_number": 19
    },
    {
     "cell_type": "code",
     "collapsed": false,
     "input": [
      "weight"
     ],
     "language": "python",
     "metadata": {},
     "outputs": [
      {
       "html": [
        "<div style=\"max-height:1000px;max-width:1500px;overflow:auto;\">\n",
        "<table border=\"1\" class=\"dataframe\">\n",
        "  <thead>\n",
        "    <tr style=\"text-align: right;\">\n",
        "      <th></th>\n",
        "      <th>1E</th>\n",
        "      <th>1N</th>\n",
        "      <th>1S</th>\n",
        "      <th>2</th>\n",
        "    </tr>\n",
        "    <tr>\n",
        "      <th>Land Use</th>\n",
        "      <th></th>\n",
        "      <th></th>\n",
        "      <th></th>\n",
        "      <th></th>\n",
        "    </tr>\n",
        "  </thead>\n",
        "  <tbody>\n",
        "    <tr>\n",
        "      <td><strong>Airfield</strong></td>\n",
        "      <td> 0.5110</td>\n",
        "      <td> 0.0227</td>\n",
        "      <td> 0.061600</td>\n",
        "      <td> 0.3940</td>\n",
        "    </tr>\n",
        "    <tr>\n",
        "      <td><strong>Commercial</strong></td>\n",
        "      <td> 0.0005</td>\n",
        "      <td> 0.1704</td>\n",
        "      <td> 0.000000</td>\n",
        "      <td> 0.1065</td>\n",
        "    </tr>\n",
        "    <tr>\n",
        "      <td><strong>Open Space</strong></td>\n",
        "      <td> 0.0008</td>\n",
        "      <td> 0.0050</td>\n",
        "      <td> 0.000200</td>\n",
        "      <td> 0.0004</td>\n",
        "    </tr>\n",
        "    <tr>\n",
        "      <td><strong>Parking Lot</strong></td>\n",
        "      <td> 0.3300</td>\n",
        "      <td> 0.5140</td>\n",
        "      <td> 0.252000</td>\n",
        "      <td> 0.1710</td>\n",
        "    </tr>\n",
        "    <tr>\n",
        "      <td><strong>Rooftops</strong></td>\n",
        "      <td> 0.0810</td>\n",
        "      <td> 0.0280</td>\n",
        "      <td> 0.000085</td>\n",
        "      <td> 0.0030</td>\n",
        "    </tr>\n",
        "  </tbody>\n",
        "</table>\n",
        "</div>"
       ],
       "output_type": "pyout",
       "prompt_number": 20,
       "text": [
        "                 1E      1N        1S       2\n",
        "Land Use                                     \n",
        "Airfield     0.5110  0.0227  0.061600  0.3940\n",
        "Commercial   0.0005  0.1704  0.000000  0.1065\n",
        "Open Space   0.0008  0.0050  0.000200  0.0004\n",
        "Parking Lot  0.3300  0.5140  0.252000  0.1710\n",
        "Rooftops     0.0810  0.0280  0.000085  0.0030"
       ]
      }
     ],
     "prompt_number": 20
    },
    {
     "cell_type": "code",
     "collapsed": false,
     "input": [
      "s = concentration['2']"
     ],
     "language": "python",
     "metadata": {},
     "outputs": [],
     "prompt_number": 21
    },
    {
     "cell_type": "code",
     "collapsed": false,
     "input": [
      "data = [1,2,3,4,12,3,2,5,7,12,1,1,2,4,5]\n",
      "idx = pd.DatetimeIndex(['2012-01-01','2012-01-02','2012-01-03','2012-01-04','2012-01-05','2012-01-06','2012-01-07','2012-01-08','2012-01-09','2012-01-10','2012-01-11','2012-01-12','2012-01-13','2012-01-14','2012-01-15'], freq='D')\n",
      "x1 = pd.TimeSeries(data, index=idx)"
     ],
     "language": "python",
     "metadata": {},
     "outputs": [],
     "prompt_number": 23
    },
    {
     "cell_type": "code",
     "collapsed": false,
     "input": [
      "x1"
     ],
     "language": "python",
     "metadata": {},
     "outputs": [
      {
       "output_type": "pyout",
       "prompt_number": 24,
       "text": [
        "2012-01-01     1\n",
        "2012-01-02     2\n",
        "2012-01-03     3\n",
        "2012-01-04     4\n",
        "2012-01-05    12\n",
        "2012-01-06     3\n",
        "2012-01-07     2\n",
        "2012-01-08     5\n",
        "2012-01-09     7\n",
        "2012-01-10    12\n",
        "2012-01-11     1\n",
        "2012-01-12     1\n",
        "2012-01-13     2\n",
        "2012-01-14     4\n",
        "2012-01-15     5\n",
        "Freq: D"
       ]
      }
     ],
     "prompt_number": 24
    },
    {
     "cell_type": "code",
     "collapsed": false,
     "input": [
      "clf()\n",
      "x1.dtype"
     ],
     "language": "python",
     "metadata": {},
     "outputs": []
    },
    {
     "cell_type": "code",
     "collapsed": false,
     "input": [
      "x1.plot()"
     ],
     "language": "python",
     "metadata": {},
     "outputs": []
    },
    {
     "cell_type": "code",
     "collapsed": false,
     "input": [
      "plot(x1)"
     ],
     "language": "python",
     "metadata": {},
     "outputs": []
    },
    {
     "cell_type": "code",
     "collapsed": false,
     "input": [
      "hist(x1)"
     ],
     "language": "python",
     "metadata": {},
     "outputs": []
    },
    {
     "cell_type": "code",
     "collapsed": false,
     "input": [
      "subplot(211)"
     ],
     "language": "python",
     "metadata": {},
     "outputs": []
    },
    {
     "cell_type": "code",
     "collapsed": false,
     "input": [
      "plot(x1)"
     ],
     "language": "python",
     "metadata": {},
     "outputs": []
    },
    {
     "cell_type": "code",
     "collapsed": false,
     "input": [
      "subplot(212)"
     ],
     "language": "python",
     "metadata": {},
     "outputs": []
    },
    {
     "cell_type": "code",
     "collapsed": false,
     "input": [
      "hist(x1)"
     ],
     "language": "python",
     "metadata": {},
     "outputs": []
    },
    {
     "cell_type": "code",
     "collapsed": false,
     "input": [
      "show()"
     ],
     "language": "python",
     "metadata": {},
     "outputs": []
    },
    {
     "cell_type": "code",
     "collapsed": false,
     "input": [
      "fig, (ax0,ax1) = plt.subplots(nrows=2)"
     ],
     "language": "python",
     "metadata": {},
     "outputs": []
    },
    {
     "cell_type": "code",
     "collapsed": false,
     "input": [
      "ax0.plot(x1)"
     ],
     "language": "python",
     "metadata": {},
     "outputs": []
    },
    {
     "cell_type": "code",
     "collapsed": false,
     "input": [
      "ax1.hist(x1)"
     ],
     "language": "python",
     "metadata": {},
     "outputs": []
    },
    {
     "cell_type": "code",
     "collapsed": false,
     "input": [
      "show()"
     ],
     "language": "python",
     "metadata": {},
     "outputs": []
    },
    {
     "cell_type": "code",
     "collapsed": false,
     "input": [
      "obj = x1.plot()"
     ],
     "language": "python",
     "metadata": {},
     "outputs": []
    },
    {
     "cell_type": "code",
     "collapsed": false,
     "input": [
      "type(obj)"
     ],
     "language": "python",
     "metadata": {},
     "outputs": []
    },
    {
     "cell_type": "code",
     "collapsed": false,
     "input": [
      "fig = plt.figure()"
     ],
     "language": "python",
     "metadata": {},
     "outputs": []
    },
    {
     "cell_type": "code",
     "collapsed": false,
     "input": [
      "plt.show(obj)"
     ],
     "language": "python",
     "metadata": {},
     "outputs": []
    },
    {
     "cell_type": "code",
     "collapsed": false,
     "input": [
      "obj = plt.plot(x1)"
     ],
     "language": "python",
     "metadata": {},
     "outputs": []
    },
    {
     "cell_type": "code",
     "collapsed": false,
     "input": [
      "type(obj[0])"
     ],
     "language": "python",
     "metadata": {},
     "outputs": []
    },
    {
     "cell_type": "code",
     "collapsed": false,
     "input": [
      "from datetime import datetime as dt\n",
      "dr = pd.date_range(dt(2009,1,1),dt(2010,12,31),freq='H')\n",
      "dr"
     ],
     "language": "python",
     "metadata": {},
     "outputs": []
    },
    {
     "cell_type": "code",
     "collapsed": false,
     "input": [
      "hr = dr.map(lambda x: x.hour)\n",
      "hr"
     ],
     "language": "python",
     "metadata": {},
     "outputs": []
    },
    {
     "cell_type": "code",
     "collapsed": false,
     "input": [
      "dt = pd.DataFrame(rand(len(dr),2),dr)\n",
      "dt"
     ],
     "language": "python",
     "metadata": {},
     "outputs": []
    },
    {
     "cell_type": "code",
     "collapsed": false,
     "input": [
      "hour = dt.index.hour"
     ],
     "language": "python",
     "metadata": {},
     "outputs": []
    },
    {
     "cell_type": "code",
     "collapsed": false,
     "input": [
      "selector = ((10<=hour) & (hour <= 13)) | ((20<=hour) & (hour<=23))"
     ],
     "language": "python",
     "metadata": {},
     "outputs": []
    },
    {
     "cell_type": "code",
     "collapsed": false,
     "input": [
      "data = dt[selector]\n",
      "data"
     ],
     "language": "python",
     "metadata": {},
     "outputs": []
    },
    {
     "cell_type": "code",
     "collapsed": false,
     "input": [
      "obj = pd.Series([7,-5,7,4,2,0,4])"
     ],
     "language": "python",
     "metadata": {},
     "outputs": []
    },
    {
     "cell_type": "code",
     "collapsed": false,
     "input": [
      "obj"
     ],
     "language": "python",
     "metadata": {},
     "outputs": []
    },
    {
     "cell_type": "code",
     "collapsed": false,
     "input": [
      "obj.rank()"
     ],
     "language": "python",
     "metadata": {},
     "outputs": []
    },
    {
     "cell_type": "code",
     "collapsed": false,
     "input": [
      "mind = pd"
     ],
     "language": "python",
     "metadata": {},
     "outputs": []
    }
   ],
   "metadata": {}
  }
 ]
}