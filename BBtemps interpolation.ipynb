{
 "metadata": {
  "name": "BBtemps interpolation"
 },
 "nbformat": 3,
 "nbformat_minor": 0,
 "worksheets": [
  {
   "cells": [
    {
     "cell_type": "code",
     "collapsed": false,
     "input": [
      "import pandas as pd\n",
      "import calib\n",
      "import file_utils as fu"
     ],
     "language": "python",
     "metadata": {},
     "outputs": [],
     "prompt_number": 30
    },
    {
     "cell_type": "code",
     "collapsed": false,
     "input": [
      "pump = fu.Div247DataPump('201104161')"
     ],
     "language": "python",
     "metadata": {},
     "outputs": [],
     "prompt_number": 32
    },
    {
     "cell_type": "code",
     "collapsed": false,
     "input": [
      "df = pump.get_n_hours(1)"
     ],
     "language": "python",
     "metadata": {},
     "outputs": [
      {
       "output_type": "stream",
       "stream": "stdout",
       "text": [
        "\r",
        " [                       0%                       ]"
       ]
      }
     ],
     "prompt_number": 33
    },
    {
     "cell_type": "code",
     "collapsed": false,
     "input": [
      "df['bb1new'] = df.bb_1_temp.replace(nan,method='pad')"
     ],
     "language": "python",
     "metadata": {},
     "outputs": [],
     "prompt_number": 34
    },
    {
     "cell_type": "code",
     "collapsed": false,
     "input": [
      "df[['bb1new','bb_1_temp']].ix[df.index[180:200]]"
     ],
     "language": "python",
     "metadata": {},
     "outputs": [
      {
       "html": [
        "<div style=\"max-height:1000px;max-width:1500px;overflow:auto;\">\n",
        "<table border=\"1\" class=\"dataframe\">\n",
        "  <thead>\n",
        "    <tr style=\"text-align: right;\">\n",
        "      <th></th>\n",
        "      <th>bb1new</th>\n",
        "      <th>bb_1_temp</th>\n",
        "    </tr>\n",
        "  </thead>\n",
        "  <tbody>\n",
        "    <tr>\n",
        "      <th>2011-04-16 10:00:24.635000</th>\n",
        "      <td>     NaN</td>\n",
        "      <td>     NaN</td>\n",
        "    </tr>\n",
        "    <tr>\n",
        "      <th>2011-04-16 10:00:24.763000</th>\n",
        "      <td>     NaN</td>\n",
        "      <td>     NaN</td>\n",
        "    </tr>\n",
        "    <tr>\n",
        "      <th>2011-04-16 10:00:24.890999</th>\n",
        "      <td>     NaN</td>\n",
        "      <td>     NaN</td>\n",
        "    </tr>\n",
        "    <tr>\n",
        "      <th>2011-04-16 10:00:25.018999</th>\n",
        "      <td>     NaN</td>\n",
        "      <td>     NaN</td>\n",
        "    </tr>\n",
        "    <tr>\n",
        "      <th>2011-04-16 10:00:25.146999</th>\n",
        "      <td>     NaN</td>\n",
        "      <td>     NaN</td>\n",
        "    </tr>\n",
        "    <tr>\n",
        "      <th>2011-04-16 10:00:25.274999</th>\n",
        "      <td>     NaN</td>\n",
        "      <td>     NaN</td>\n",
        "    </tr>\n",
        "    <tr>\n",
        "      <th>2011-04-16 10:00:25.402999</th>\n",
        "      <td>     NaN</td>\n",
        "      <td>     NaN</td>\n",
        "    </tr>\n",
        "    <tr>\n",
        "      <th>2011-04-16 10:00:25.530999</th>\n",
        "      <td>     NaN</td>\n",
        "      <td>     NaN</td>\n",
        "    </tr>\n",
        "    <tr>\n",
        "      <th>2011-04-16 10:00:25.658999</th>\n",
        "      <td> 303.897</td>\n",
        "      <td> 303.897</td>\n",
        "    </tr>\n",
        "    <tr>\n",
        "      <th>2011-04-16 10:00:25.786999</th>\n",
        "      <td> 303.897</td>\n",
        "      <td>     NaN</td>\n",
        "    </tr>\n",
        "    <tr>\n",
        "      <th>2011-04-16 10:00:25.914999</th>\n",
        "      <td> 303.897</td>\n",
        "      <td>     NaN</td>\n",
        "    </tr>\n",
        "    <tr>\n",
        "      <th>2011-04-16 10:00:26.042999</th>\n",
        "      <td> 303.897</td>\n",
        "      <td>     NaN</td>\n",
        "    </tr>\n",
        "    <tr>\n",
        "      <th>2011-04-16 10:00:26.170999</th>\n",
        "      <td> 303.897</td>\n",
        "      <td>     NaN</td>\n",
        "    </tr>\n",
        "    <tr>\n",
        "      <th>2011-04-16 10:00:26.298999</th>\n",
        "      <td> 303.897</td>\n",
        "      <td>     NaN</td>\n",
        "    </tr>\n",
        "    <tr>\n",
        "      <th>2011-04-16 10:00:26.426999</th>\n",
        "      <td> 303.897</td>\n",
        "      <td>     NaN</td>\n",
        "    </tr>\n",
        "    <tr>\n",
        "      <th>2011-04-16 10:00:26.554999</th>\n",
        "      <td> 303.897</td>\n",
        "      <td>     NaN</td>\n",
        "    </tr>\n",
        "    <tr>\n",
        "      <th>2011-04-16 10:00:26.682999</th>\n",
        "      <td> 303.897</td>\n",
        "      <td>     NaN</td>\n",
        "    </tr>\n",
        "    <tr>\n",
        "      <th>2011-04-16 10:00:26.811000</th>\n",
        "      <td> 303.897</td>\n",
        "      <td>     NaN</td>\n",
        "    </tr>\n",
        "    <tr>\n",
        "      <th>2011-04-16 10:00:26.939000</th>\n",
        "      <td> 303.897</td>\n",
        "      <td>     NaN</td>\n",
        "    </tr>\n",
        "    <tr>\n",
        "      <th>2011-04-16 10:00:27.067000</th>\n",
        "      <td> 303.897</td>\n",
        "      <td>     NaN</td>\n",
        "    </tr>\n",
        "  </tbody>\n",
        "</table>\n",
        "</div>"
       ],
       "output_type": "pyout",
       "prompt_number": 42,
       "text": [
        "                             bb1new  bb_1_temp\n",
        "2011-04-16 10:00:24.635000      NaN        NaN\n",
        "2011-04-16 10:00:24.763000      NaN        NaN\n",
        "2011-04-16 10:00:24.890999      NaN        NaN\n",
        "2011-04-16 10:00:25.018999      NaN        NaN\n",
        "2011-04-16 10:00:25.146999      NaN        NaN\n",
        "2011-04-16 10:00:25.274999      NaN        NaN\n",
        "2011-04-16 10:00:25.402999      NaN        NaN\n",
        "2011-04-16 10:00:25.530999      NaN        NaN\n",
        "2011-04-16 10:00:25.658999  303.897    303.897\n",
        "2011-04-16 10:00:25.786999  303.897        NaN\n",
        "2011-04-16 10:00:25.914999  303.897        NaN\n",
        "2011-04-16 10:00:26.042999  303.897        NaN\n",
        "2011-04-16 10:00:26.170999  303.897        NaN\n",
        "2011-04-16 10:00:26.298999  303.897        NaN\n",
        "2011-04-16 10:00:26.426999  303.897        NaN\n",
        "2011-04-16 10:00:26.554999  303.897        NaN\n",
        "2011-04-16 10:00:26.682999  303.897        NaN\n",
        "2011-04-16 10:00:26.811000  303.897        NaN\n",
        "2011-04-16 10:00:26.939000  303.897        NaN\n",
        "2011-04-16 10:00:27.067000  303.897        NaN"
       ]
      }
     ],
     "prompt_number": 42
    },
    {
     "cell_type": "code",
     "collapsed": false,
     "input": [
      "df[df.bb1new.isnull()].index"
     ],
     "language": "python",
     "metadata": {},
     "outputs": [
      {
       "output_type": "pyout",
       "prompt_number": 45,
       "text": [
        "<class 'pandas.tseries.index.DatetimeIndex'>\n",
        "[2011-04-16 10:00:01.595000, ..., 2011-04-16 10:00:25.530999]\n",
        "Length: 188, Freq: None, Timezone: None"
       ]
      }
     ],
     "prompt_number": 45
    },
    {
     "cell_type": "code",
     "collapsed": false,
     "input": [
      "df['bb2new'] = df.bb_2_temp.replace(nan,method='pad')"
     ],
     "language": "python",
     "metadata": {},
     "outputs": [],
     "prompt_number": 46
    },
    {
     "cell_type": "code",
     "collapsed": false,
     "input": [
      "ind1 = df[df.bb_1_temp.notnull()].index[0]"
     ],
     "language": "python",
     "metadata": {},
     "outputs": [],
     "prompt_number": 47
    },
    {
     "cell_type": "code",
     "collapsed": false,
     "input": [
      "ind1"
     ],
     "language": "python",
     "metadata": {},
     "outputs": [
      {
       "output_type": "pyout",
       "prompt_number": 48,
       "text": [
        "<Timestamp: 2011-04-16 10:00:25.658999>"
       ]
      }
     ],
     "prompt_number": 48
    },
    {
     "cell_type": "code",
     "collapsed": false,
     "input": [
      "ind2 = df[df.bb_2_temp.notnull()].index[0]"
     ],
     "language": "python",
     "metadata": {},
     "outputs": [],
     "prompt_number": 49
    },
    {
     "cell_type": "code",
     "collapsed": false,
     "input": [
      "ind2"
     ],
     "language": "python",
     "metadata": {},
     "outputs": [
      {
       "output_type": "pyout",
       "prompt_number": 50,
       "text": [
        "<Timestamp: 2011-04-16 10:00:34.106999>"
       ]
      }
     ],
     "prompt_number": 50
    },
    {
     "cell_type": "code",
     "collapsed": false,
     "input": [
      "cutoff = max(ind1,ind2)"
     ],
     "language": "python",
     "metadata": {},
     "outputs": [],
     "prompt_number": 51
    },
    {
     "cell_type": "code",
     "collapsed": false,
     "input": [
      "df.ix[cutoff:].bb2new.isnull().value_counts()"
     ],
     "language": "python",
     "metadata": {},
     "outputs": [
      {
       "output_type": "pyout",
       "prompt_number": 57,
       "text": [
        "False    27874\n",
        "dtype: int64"
       ]
      }
     ],
     "prompt_number": 57
    },
    {
     "cell_type": "code",
     "collapsed": false,
     "input": [
      "from scipy.interpolate import UnivariateSpline as InterpSpline"
     ],
     "language": "python",
     "metadata": {},
     "outputs": [],
     "prompt_number": 45
    },
    {
     "cell_type": "code",
     "collapsed": false,
     "input": [
      "s1 = InterpSpline(ind, bb2temps, s=0.05, k=3)"
     ],
     "language": "python",
     "metadata": {},
     "outputs": [],
     "prompt_number": 46
    },
    {
     "cell_type": "code",
     "collapsed": false,
     "input": [
      "newseries = pd.Series(s1(all_times.values.astype('float64')),index=all_times)"
     ],
     "language": "python",
     "metadata": {},
     "outputs": [],
     "prompt_number": 47
    },
    {
     "cell_type": "code",
     "collapsed": false,
     "input": [
      "newseries.head()"
     ],
     "language": "python",
     "metadata": {},
     "outputs": [
      {
       "output_type": "pyout",
       "prompt_number": 48,
       "text": [
        "time\n",
        "2009-07-20 00:00:00.045000    312.591132\n",
        "2009-07-20 00:00:00.173000    312.589225\n",
        "2009-07-20 00:00:00.301000    312.587320\n",
        "2009-07-20 00:00:00.429000    312.585419\n",
        "2009-07-20 00:00:00.557000    312.583521"
       ]
      }
     ],
     "prompt_number": 48
    },
    {
     "cell_type": "code",
     "collapsed": false,
     "input": [
      "df.index[0]"
     ],
     "language": "python",
     "metadata": {},
     "outputs": [
      {
       "output_type": "pyout",
       "prompt_number": 57,
       "text": [
        "(1.0, 1.0, <Timestamp: 2009-07-20 00:00:00.045000>)"
       ]
      }
     ],
     "prompt_number": 57
    },
    {
     "cell_type": "code",
     "collapsed": false,
     "input": [
      "df['bb_2_temp_interp'] = newseries.reindex(df.index, level=2)"
     ],
     "language": "python",
     "metadata": {},
     "outputs": [],
     "prompt_number": 62
    },
    {
     "cell_type": "code",
     "collapsed": false,
     "input": [
      "plot(xs,ys1,label='ys1')."
     ],
     "language": "python",
     "metadata": {},
     "outputs": []
    },
    {
     "cell_type": "code",
     "collapsed": false,
     "input": [
      "plot(xs,yk1,label='yk1')"
     ],
     "language": "python",
     "metadata": {},
     "outputs": []
    },
    {
     "cell_type": "code",
     "collapsed": false,
     "input": [
      "plot(xs,yk2,label='yk2')"
     ],
     "language": "python",
     "metadata": {},
     "outputs": []
    },
    {
     "cell_type": "code",
     "collapsed": false,
     "input": [
      "legend(loc='best')"
     ],
     "language": "python",
     "metadata": {},
     "outputs": []
    },
    {
     "cell_type": "code",
     "collapsed": false,
     "input": [
      "display(gcf())"
     ],
     "language": "python",
     "metadata": {},
     "outputs": []
    },
    {
     "cell_type": "code",
     "collapsed": false,
     "input": [
      "bb2temp = df.bb_2_temp.dropna()"
     ],
     "language": "python",
     "metadata": {},
     "outputs": []
    },
    {
     "cell_type": "code",
     "collapsed": false,
     "input": [
      "s = InterpolatedUnivariateSpline(bb2temp.index.values,bb2temp,k=1)"
     ],
     "language": "python",
     "metadata": {},
     "outputs": []
    },
    {
     "cell_type": "code",
     "collapsed": false,
     "input": [
      "reload(c)"
     ],
     "language": "python",
     "metadata": {},
     "outputs": []
    },
    {
     "cell_type": "code",
     "collapsed": false,
     "input": [],
     "language": "python",
     "metadata": {},
     "outputs": []
    },
    {
     "cell_type": "code",
     "collapsed": false,
     "input": [
      "df.index[0]"
     ],
     "language": "python",
     "metadata": {},
     "outputs": []
    },
    {
     "cell_type": "code",
     "collapsed": false,
     "input": [
      "ys"
     ],
     "language": "python",
     "metadata": {},
     "outputs": []
    },
    {
     "cell_type": "code",
     "collapsed": false,
     "input": [
      "plot(xs,ys)"
     ],
     "language": "python",
     "metadata": {},
     "outputs": []
    },
    {
     "cell_type": "code",
     "collapsed": false,
     "input": [
      "plot(bb2temp.index,bb2temp,'*')"
     ],
     "language": "python",
     "metadata": {},
     "outputs": []
    },
    {
     "cell_type": "code",
     "collapsed": false,
     "input": [
      "bb2temp.index"
     ],
     "language": "python",
     "metadata": {},
     "outputs": []
    },
    {
     "cell_type": "code",
     "collapsed": false,
     "input": [
      "df['bb2temp'] = pd.Series(s(df.index),index=df.index)"
     ],
     "language": "python",
     "metadata": {},
     "outputs": []
    },
    {
     "cell_type": "code",
     "collapsed": false,
     "input": [
      "ys = s(df.index)"
     ],
     "language": "python",
     "metadata": {},
     "outputs": []
    },
    {
     "cell_type": "code",
     "collapsed": false,
     "input": [
      "ys"
     ],
     "language": "python",
     "metadata": {},
     "outputs": []
    },
    {
     "cell_type": "code",
     "collapsed": false,
     "input": [],
     "language": "python",
     "metadata": {},
     "outputs": []
    }
   ],
   "metadata": {}
  }
 ]
}