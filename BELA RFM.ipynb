{
 "metadata": {
  "name": "BELA RFM"
 },
 "nbformat": 3,
 "nbformat_minor": 0,
 "worksheets": [
  {
   "cells": [
    {
     "cell_type": "code",
     "collapsed": false,
     "input": [
      "cd ~/Dropbox/DDocuments/BELA/software/bela/"
     ],
     "language": "python",
     "metadata": {},
     "outputs": [
      {
       "output_type": "stream",
       "stream": "stdout",
       "text": [
        "/Users/maye/Dropbox/DDocuments/BELA/software/bela\n"
       ]
      }
     ],
     "prompt_number": 1
    },
    {
     "cell_type": "code",
     "collapsed": false,
     "input": [
      "ls"
     ],
     "language": "python",
     "metadata": {},
     "outputs": [
      {
       "output_type": "stream",
       "stream": "stdout",
       "text": [
        "Untitled0.ipynb              \u001b[34mpulse_processing\u001b[m\u001b[m/            rfm-2012-01-11.zip\r\n",
        "Untitled1.ipynb              \u001b[34mrangefinder\u001b[m\u001b[m/                 \u001b[34msequence_control\u001b[m\u001b[m/\r\n",
        "__init__.py                  rangefinder-2012-jan-23.zip  \u001b[34msimulator\u001b[m\u001b[m/\r\n",
        "__init__.pyc                 \u001b[34mrangefinder_bak\u001b[m\u001b[m/             \u001b[34mtest\u001b[m\u001b[m/\r\n"
       ]
      }
     ],
     "prompt_number": 2
    },
    {
     "cell_type": "code",
     "collapsed": false,
     "input": [
      "cd pulse_processing/"
     ],
     "language": "python",
     "metadata": {},
     "outputs": [
      {
       "output_type": "stream",
       "stream": "stdout",
       "text": [
        "/Users/maye/Dropbox/DDocuments/BELA/software/bela/pulse_processing\n"
       ]
      }
     ],
     "prompt_number": 3
    },
    {
     "cell_type": "code",
     "collapsed": false,
     "input": [
      "ls"
     ],
     "language": "python",
     "metadata": {},
     "outputs": [
      {
       "output_type": "stream",
       "stream": "stdout",
       "text": [
        "BELA_FPGA_pulse_fitting.py            rangefinder.m\r\n",
        "BELA_FPGA_pulse_fitting.pyc           rangefinder.py\r\n",
        "README.txt                            rangefinder.pyc\r\n",
        "Seq1_result_00004.txt                 rfm_alu_compile.m\r\n",
        "__init__.py                           rfm_alu_definitions.m\r\n",
        "__init__.pyc                          rfm_alu_microcode.m\r\n",
        "about.txt                             rfm_pulse_coarse_processing.m\r\n",
        "bf_filter_out.ps                      rfm_pulse_fine_processing_2.m\r\n",
        "check_pulse_processing.m              rfm_pulse_fine_processing_2.py\r\n",
        "check_pulse_processing_kma.m          rx_basis_functions.m\r\n",
        "flattened_pulse.txt                   rx_pulse_post_processing_2.m\r\n",
        "pulse_post_processing.py              rx_pulse_template.m\r\n",
        "pulse_post_processing.pyc             startup_config.m\r\n",
        "pulse_post_processing_for_UBE.tmproj\r\n"
       ]
      }
     ],
     "prompt_number": 4
    },
    {
     "cell_type": "code",
     "collapsed": false,
     "input": [
      "import json"
     ],
     "language": "python",
     "metadata": {},
     "outputs": [],
     "prompt_number": 5
    },
    {
     "cell_type": "code",
     "collapsed": false,
     "input": [
      "with open('./Seq1_result_00004.txt') as f:\n",
      "    data = f.readlines()"
     ],
     "language": "python",
     "metadata": {},
     "outputs": [],
     "prompt_number": 6
    },
    {
     "cell_type": "code",
     "collapsed": false,
     "input": [
      "line = json.loads(data[24])"
     ],
     "language": "python",
     "metadata": {},
     "outputs": [],
     "prompt_number": 7
    },
    {
     "cell_type": "code",
     "collapsed": false,
     "input": [
      "d = line[2]\n",
      "packet = d['packet']\n",
      "rx_pulse = packet['rx_pulse']"
     ],
     "language": "python",
     "metadata": {},
     "outputs": [],
     "prompt_number": 8
    },
    {
     "cell_type": "code",
     "collapsed": false,
     "input": [
      "pulse0 = rx_pulse[0]"
     ],
     "language": "python",
     "metadata": {},
     "outputs": [],
     "prompt_number": 9
    },
    {
     "cell_type": "code",
     "collapsed": false,
     "input": [
      "pulse0.keys()"
     ],
     "language": "python",
     "metadata": {},
     "outputs": [
      {
       "output_type": "pyout",
       "prompt_number": 10,
       "text": [
        "[u'bfo', u'family_and_corr_index', u'spare_words', u'samples', u'bfo_scaling']"
       ]
      }
     ],
     "prompt_number": 10
    },
    {
     "cell_type": "code",
     "collapsed": false,
     "input": [
      "samples = pulse0['samples']"
     ],
     "language": "python",
     "metadata": {},
     "outputs": [],
     "prompt_number": 11
    },
    {
     "cell_type": "code",
     "collapsed": false,
     "input": [
      "plot(samples)"
     ],
     "language": "python",
     "metadata": {},
     "outputs": [
      {
       "output_type": "pyout",
       "prompt_number": 12,
       "text": [
        "[<matplotlib.lines.Line2D at 0x108551950>]"
       ]
      }
     ],
     "prompt_number": 12
    },
    {
     "cell_type": "code",
     "collapsed": false,
     "input": [
      "packet.keys()"
     ],
     "language": "python",
     "metadata": {},
     "outputs": [
      {
       "output_type": "pyout",
       "prompt_number": 13,
       "text": [
        "[u'check_sum',\n",
        " u'rx_sample_offsets',\n",
        " u'dp_type',\n",
        " u'packet_end',\n",
        " u'snr_update_value',\n",
        " u'hist_corr_indices',\n",
        " u'hist_maximum_index',\n",
        " u'tx_pulse',\n",
        " u'histogram',\n",
        " u'rx_pulse',\n",
        " u'hk',\n",
        " u'hist_corr_values',\n",
        " u'hist_maximum',\n",
        " u'rx_sample_powers',\n",
        " u'rfm_status_word',\n",
        " u'packet_start',\n",
        " u'tx_sample_offsets']"
       ]
      }
     ],
     "prompt_number": 13
    },
    {
     "cell_type": "code",
     "collapsed": false,
     "input": [
      "pulse0.keys()"
     ],
     "language": "python",
     "metadata": {},
     "outputs": [
      {
       "output_type": "pyout",
       "prompt_number": 14,
       "text": [
        "[u'bfo', u'family_and_corr_index', u'spare_words', u'samples', u'bfo_scaling']"
       ]
      }
     ],
     "prompt_number": 14
    },
    {
     "cell_type": "code",
     "collapsed": false,
     "input": [
      "offsets = array(packet['rx_sample_offsets'],dtype='float')"
     ],
     "language": "python",
     "metadata": {},
     "outputs": [],
     "prompt_number": 15
    },
    {
     "cell_type": "code",
     "collapsed": false,
     "input": [
      "offsets"
     ],
     "language": "python",
     "metadata": {},
     "outputs": [
      {
       "output_type": "pyout",
       "prompt_number": 16,
       "text": [
        "array([ -2702208., -10279040.])"
       ]
      }
     ],
     "prompt_number": 16
    },
    {
     "cell_type": "code",
     "collapsed": false,
     "input": [
      "offsets = offsets/2**20\n",
      "offsets"
     ],
     "language": "python",
     "metadata": {},
     "outputs": [
      {
       "output_type": "pyout",
       "prompt_number": 17,
       "text": [
        "array([-2.57702637, -9.80285645])"
       ]
      }
     ],
     "prompt_number": 17
    },
    {
     "cell_type": "code",
     "collapsed": false,
     "input": [
      "samples = array(samples,dtype='float')"
     ],
     "language": "python",
     "metadata": {},
     "outputs": [],
     "prompt_number": 18
    },
    {
     "cell_type": "code",
     "collapsed": false,
     "input": [
      "samples"
     ],
     "language": "python",
     "metadata": {},
     "outputs": [
      {
       "output_type": "pyout",
       "prompt_number": 19,
       "text": [
        "array([  -2.,  -10.,   -3.,   -9.,   -2.,  -10.,   -3.,  -10.,   -3.,\n",
        "        -10.,   -3.,   -9.,   -3.,   -8.,   -3.,  -11.,   -2.,  -10.,\n",
        "         -4.,   -8.,  253.,  462.,   78.,  -66.,  -34.,  -19.,   -3.,\n",
        "         -8.,   -2.,  -10.,   -2.,  -10.,   -3.,  -12.,   -3.,  -10.,\n",
        "         -4.,  -11.,   -3.,  -11.,   -2.,  -10.])"
       ]
      }
     ],
     "prompt_number": 19
    },
    {
     "cell_type": "code",
     "collapsed": false,
     "input": [
      "offsets[1]"
     ],
     "language": "python",
     "metadata": {},
     "outputs": [
      {
       "output_type": "pyout",
       "prompt_number": 20,
       "text": [
        "-9.8028564453125"
       ]
      }
     ],
     "prompt_number": 20
    },
    {
     "cell_type": "code",
     "collapsed": false,
     "input": [
      "samples[1::2] -= offsets[1]"
     ],
     "language": "python",
     "metadata": {},
     "outputs": [],
     "prompt_number": 21
    },
    {
     "cell_type": "code",
     "collapsed": false,
     "input": [
      "samples[1::2]"
     ],
     "language": "python",
     "metadata": {},
     "outputs": [
      {
       "output_type": "pyout",
       "prompt_number": 22,
       "text": [
        "array([ -1.97143555e-01,   8.02856445e-01,  -1.97143555e-01,\n",
        "        -1.97143555e-01,  -1.97143555e-01,   8.02856445e-01,\n",
        "         1.80285645e+00,  -1.19714355e+00,  -1.97143555e-01,\n",
        "         1.80285645e+00,   4.71802856e+02,  -5.61971436e+01,\n",
        "        -9.19714355e+00,   1.80285645e+00,  -1.97143555e-01,\n",
        "        -1.97143555e-01,  -2.19714355e+00,  -1.97143555e-01,\n",
        "        -1.19714355e+00,  -1.19714355e+00,  -1.97143555e-01])"
       ]
      }
     ],
     "prompt_number": 22
    },
    {
     "cell_type": "code",
     "collapsed": false,
     "input": [
      "samples[0::2] -= offsets[0]"
     ],
     "language": "python",
     "metadata": {},
     "outputs": [],
     "prompt_number": 23
    },
    {
     "cell_type": "code",
     "collapsed": false,
     "input": [
      "samples"
     ],
     "language": "python",
     "metadata": {},
     "outputs": [
      {
       "output_type": "pyout",
       "prompt_number": 24,
       "text": [
        "array([  5.77026367e-01,  -1.97143555e-01,  -4.22973633e-01,\n",
        "         8.02856445e-01,   5.77026367e-01,  -1.97143555e-01,\n",
        "        -4.22973633e-01,  -1.97143555e-01,  -4.22973633e-01,\n",
        "        -1.97143555e-01,  -4.22973633e-01,   8.02856445e-01,\n",
        "        -4.22973633e-01,   1.80285645e+00,  -4.22973633e-01,\n",
        "        -1.19714355e+00,   5.77026367e-01,  -1.97143555e-01,\n",
        "        -1.42297363e+00,   1.80285645e+00,   2.55577026e+02,\n",
        "         4.71802856e+02,   8.05770264e+01,  -5.61971436e+01,\n",
        "        -3.14229736e+01,  -9.19714355e+00,  -4.22973633e-01,\n",
        "         1.80285645e+00,   5.77026367e-01,  -1.97143555e-01,\n",
        "         5.77026367e-01,  -1.97143555e-01,  -4.22973633e-01,\n",
        "        -2.19714355e+00,  -4.22973633e-01,  -1.97143555e-01,\n",
        "        -1.42297363e+00,  -1.19714355e+00,  -4.22973633e-01,\n",
        "        -1.19714355e+00,   5.77026367e-01,  -1.97143555e-01])"
       ]
      }
     ],
     "prompt_number": 24
    },
    {
     "cell_type": "code",
     "collapsed": false,
     "input": [
      "plot(samples)"
     ],
     "language": "python",
     "metadata": {},
     "outputs": [
      {
       "output_type": "pyout",
       "prompt_number": 25,
       "text": [
        "[<matplotlib.lines.Line2D at 0x108556d50>]"
       ]
      }
     ],
     "prompt_number": 25
    },
    {
     "cell_type": "code",
     "collapsed": false,
     "input": [
      "2**31/10**6"
     ],
     "language": "python",
     "metadata": {},
     "outputs": [
      {
       "output_type": "pyout",
       "prompt_number": 26,
       "text": [
        "2147"
       ]
      }
     ],
     "prompt_number": 26
    },
    {
     "cell_type": "code",
     "collapsed": false,
     "input": [
      "2**20/10**6"
     ],
     "language": "python",
     "metadata": {},
     "outputs": [
      {
       "output_type": "pyout",
       "prompt_number": 27,
       "text": [
        "1"
       ]
      }
     ],
     "prompt_number": 27
    },
    {
     "cell_type": "code",
     "collapsed": false,
     "input": [
      "import BELA_FPGA_pulse_fitting as fpga"
     ],
     "language": "python",
     "metadata": {},
     "outputs": [],
     "prompt_number": 32
    },
    {
     "cell_type": "code",
     "collapsed": false,
     "input": [
      "reload(fpga)"
     ],
     "language": "python",
     "metadata": {},
     "outputs": [
      {
       "output_type": "pyout",
       "prompt_number": 38,
       "text": [
        "<module 'BELA_FPGA_pulse_fitting' from 'BELA_FPGA_pulse_fitting.py'>"
       ]
      }
     ],
     "prompt_number": 38
    },
    {
     "cell_type": "code",
     "collapsed": false,
     "input": [
      "bff = fpga.BF_function_generator_gauss()"
     ],
     "language": "python",
     "metadata": {},
     "outputs": [],
     "prompt_number": 39
    },
    {
     "cell_type": "code",
     "collapsed": false,
     "input": [
      "bff.pulse_template()"
     ],
     "language": "python",
     "metadata": {},
     "outputs": [],
     "prompt_number": 40
    },
    {
     "cell_type": "code",
     "collapsed": false,
     "input": [
      "clf()\n",
      "for i in range(21):\n",
      "    for j in range(21):\n",
      "        plot(bff.pulse[0,i,j,:])"
     ],
     "language": "python",
     "metadata": {},
     "outputs": [],
     "prompt_number": 52
    },
    {
     "cell_type": "code",
     "collapsed": false,
     "input": [
      "expr = np.matrix(bff.delta**1).T * bff.sigma**2"
     ],
     "language": "python",
     "metadata": {},
     "outputs": [],
     "prompt_number": 84
    },
    {
     "cell_type": "code",
     "collapsed": false,
     "input": [
      "expr.T.reshape((bff.N_variations,1)).shape"
     ],
     "language": "python",
     "metadata": {},
     "outputs": [
      {
       "output_type": "pyout",
       "prompt_number": 81,
       "text": [
        "(441, 1)"
       ]
      }
     ],
     "prompt_number": 81
    },
    {
     "cell_type": "code",
     "collapsed": false,
     "input": [
      "np.reshape(expr.transpose(), bff.N_variations).shape"
     ],
     "language": "python",
     "metadata": {},
     "outputs": [
      {
       "output_type": "pyout",
       "prompt_number": 83,
       "text": [
        "(1, 441)"
       ]
      }
     ],
     "prompt_number": 83
    },
    {
     "cell_type": "code",
     "collapsed": false,
     "input": [
      "expr.T.flatten()[:10]"
     ],
     "language": "python",
     "metadata": {},
     "outputs": [
      {
       "output_type": "pyout",
       "prompt_number": 87,
       "text": [
        "matrix([[ -1.25000000e-01,  -1.12500000e-01,  -1.00000000e-01,\n",
        "          -8.75000000e-02,  -7.50000000e-02,  -6.25000000e-02,\n",
        "          -5.00000000e-02,  -3.75000000e-02,  -2.50000000e-02,\n",
        "          -1.25000000e-02,   0.00000000e+00,   1.25000000e-02,\n",
        "           2.50000000e-02,   3.75000000e-02,   5.00000000e-02,\n",
        "           6.25000000e-02,   7.50000000e-02,   8.75000000e-02,\n",
        "           1.00000000e-01,   1.12500000e-01,   1.25000000e-01,\n",
        "          -1.01250000e-01,  -9.11250000e-02,  -8.10000000e-02,\n",
        "          -7.08750000e-02,  -6.07500000e-02,  -5.06250000e-02,\n",
        "          -4.05000000e-02,  -3.03750000e-02,  -2.02500000e-02,\n",
        "          -1.01250000e-02,   0.00000000e+00,   1.01250000e-02,\n",
        "           2.02500000e-02,   3.03750000e-02,   4.05000000e-02,\n",
        "           5.06250000e-02,   6.07500000e-02,   7.08750000e-02,\n",
        "           8.10000000e-02,   9.11250000e-02,   1.01250000e-01,\n",
        "          -8.00000000e-02,  -7.20000000e-02,  -6.40000000e-02,\n",
        "          -5.60000000e-02,  -4.80000000e-02,  -4.00000000e-02,\n",
        "          -3.20000000e-02,  -2.40000000e-02,  -1.60000000e-02,\n",
        "          -8.00000000e-03,   0.00000000e+00,   8.00000000e-03,\n",
        "           1.60000000e-02,   2.40000000e-02,   3.20000000e-02,\n",
        "           4.00000000e-02,   4.80000000e-02,   5.60000000e-02,\n",
        "           6.40000000e-02,   7.20000000e-02,   8.00000000e-02,\n",
        "          -6.12500000e-02,  -5.51250000e-02,  -4.90000000e-02,\n",
        "          -4.28750000e-02,  -3.67500000e-02,  -3.06250000e-02,\n",
        "          -2.45000000e-02,  -1.83750000e-02,  -1.22500000e-02,\n",
        "          -6.12500000e-03,   0.00000000e+00,   6.12500000e-03,\n",
        "           1.22500000e-02,   1.83750000e-02,   2.45000000e-02,\n",
        "           3.06250000e-02,   3.67500000e-02,   4.28750000e-02,\n",
        "           4.90000000e-02,   5.51250000e-02,   6.12500000e-02,\n",
        "          -4.50000000e-02,  -4.05000000e-02,  -3.60000000e-02,\n",
        "          -3.15000000e-02,  -2.70000000e-02,  -2.25000000e-02,\n",
        "          -1.80000000e-02,  -1.35000000e-02,  -9.00000000e-03,\n",
        "          -4.50000000e-03,   0.00000000e+00,   4.50000000e-03,\n",
        "           9.00000000e-03,   1.35000000e-02,   1.80000000e-02,\n",
        "           2.25000000e-02,   2.70000000e-02,   3.15000000e-02,\n",
        "           3.60000000e-02,   4.05000000e-02,   4.50000000e-02,\n",
        "          -3.12500000e-02,  -2.81250000e-02,  -2.50000000e-02,\n",
        "          -2.18750000e-02,  -1.87500000e-02,  -1.56250000e-02,\n",
        "          -1.25000000e-02,  -9.37500000e-03,  -6.25000000e-03,\n",
        "          -3.12500000e-03,   0.00000000e+00,   3.12500000e-03,\n",
        "           6.25000000e-03,   9.37500000e-03,   1.25000000e-02,\n",
        "           1.56250000e-02,   1.87500000e-02,   2.18750000e-02,\n",
        "           2.50000000e-02,   2.81250000e-02,   3.12500000e-02,\n",
        "          -2.00000000e-02,  -1.80000000e-02,  -1.60000000e-02,\n",
        "          -1.40000000e-02,  -1.20000000e-02,  -1.00000000e-02,\n",
        "          -8.00000000e-03,  -6.00000000e-03,  -4.00000000e-03,\n",
        "          -2.00000000e-03,   0.00000000e+00,   2.00000000e-03,\n",
        "           4.00000000e-03,   6.00000000e-03,   8.00000000e-03,\n",
        "           1.00000000e-02,   1.20000000e-02,   1.40000000e-02,\n",
        "           1.60000000e-02,   1.80000000e-02,   2.00000000e-02,\n",
        "          -1.12500000e-02,  -1.01250000e-02,  -9.00000000e-03,\n",
        "          -7.87500000e-03,  -6.75000000e-03,  -5.62500000e-03,\n",
        "          -4.50000000e-03,  -3.37500000e-03,  -2.25000000e-03,\n",
        "          -1.12500000e-03,   0.00000000e+00,   1.12500000e-03,\n",
        "           2.25000000e-03,   3.37500000e-03,   4.50000000e-03,\n",
        "           5.62500000e-03,   6.75000000e-03,   7.87500000e-03,\n",
        "           9.00000000e-03,   1.01250000e-02,   1.12500000e-02,\n",
        "          -5.00000000e-03,  -4.50000000e-03,  -4.00000000e-03,\n",
        "          -3.50000000e-03,  -3.00000000e-03,  -2.50000000e-03,\n",
        "          -2.00000000e-03,  -1.50000000e-03,  -1.00000000e-03,\n",
        "          -5.00000000e-04,   0.00000000e+00,   5.00000000e-04,\n",
        "           1.00000000e-03,   1.50000000e-03,   2.00000000e-03,\n",
        "           2.50000000e-03,   3.00000000e-03,   3.50000000e-03,\n",
        "           4.00000000e-03,   4.50000000e-03,   5.00000000e-03,\n",
        "          -1.25000000e-03,  -1.12500000e-03,  -1.00000000e-03,\n",
        "          -8.75000000e-04,  -7.50000000e-04,  -6.25000000e-04,\n",
        "          -5.00000000e-04,  -3.75000000e-04,  -2.50000000e-04,\n",
        "          -1.25000000e-04,   0.00000000e+00,   1.25000000e-04,\n",
        "           2.50000000e-04,   3.75000000e-04,   5.00000000e-04,\n",
        "           6.25000000e-04,   7.50000000e-04,   8.75000000e-04,\n",
        "           1.00000000e-03,   1.12500000e-03,   1.25000000e-03,\n",
        "           0.00000000e+00,   0.00000000e+00,   0.00000000e+00,\n",
        "           0.00000000e+00,   0.00000000e+00,   0.00000000e+00,\n",
        "           0.00000000e+00,   0.00000000e+00,   0.00000000e+00,\n",
        "           0.00000000e+00,   0.00000000e+00,   0.00000000e+00,\n",
        "           0.00000000e+00,   0.00000000e+00,   0.00000000e+00,\n",
        "           0.00000000e+00,   0.00000000e+00,   0.00000000e+00,\n",
        "           0.00000000e+00,   0.00000000e+00,   0.00000000e+00,\n",
        "          -1.25000000e-03,  -1.12500000e-03,  -1.00000000e-03,\n",
        "          -8.75000000e-04,  -7.50000000e-04,  -6.25000000e-04,\n",
        "          -5.00000000e-04,  -3.75000000e-04,  -2.50000000e-04,\n",
        "          -1.25000000e-04,   0.00000000e+00,   1.25000000e-04,\n",
        "           2.50000000e-04,   3.75000000e-04,   5.00000000e-04,\n",
        "           6.25000000e-04,   7.50000000e-04,   8.75000000e-04,\n",
        "           1.00000000e-03,   1.12500000e-03,   1.25000000e-03,\n",
        "          -5.00000000e-03,  -4.50000000e-03,  -4.00000000e-03,\n",
        "          -3.50000000e-03,  -3.00000000e-03,  -2.50000000e-03,\n",
        "          -2.00000000e-03,  -1.50000000e-03,  -1.00000000e-03,\n",
        "          -5.00000000e-04,   0.00000000e+00,   5.00000000e-04,\n",
        "           1.00000000e-03,   1.50000000e-03,   2.00000000e-03,\n",
        "           2.50000000e-03,   3.00000000e-03,   3.50000000e-03,\n",
        "           4.00000000e-03,   4.50000000e-03,   5.00000000e-03,\n",
        "          -1.12500000e-02,  -1.01250000e-02,  -9.00000000e-03,\n",
        "          -7.87500000e-03,  -6.75000000e-03,  -5.62500000e-03,\n",
        "          -4.50000000e-03,  -3.37500000e-03,  -2.25000000e-03,\n",
        "          -1.12500000e-03,   0.00000000e+00,   1.12500000e-03,\n",
        "           2.25000000e-03,   3.37500000e-03,   4.50000000e-03,\n",
        "           5.62500000e-03,   6.75000000e-03,   7.87500000e-03,\n",
        "           9.00000000e-03,   1.01250000e-02,   1.12500000e-02,\n",
        "          -2.00000000e-02,  -1.80000000e-02,  -1.60000000e-02,\n",
        "          -1.40000000e-02,  -1.20000000e-02,  -1.00000000e-02,\n",
        "          -8.00000000e-03,  -6.00000000e-03,  -4.00000000e-03,\n",
        "          -2.00000000e-03,   0.00000000e+00,   2.00000000e-03,\n",
        "           4.00000000e-03,   6.00000000e-03,   8.00000000e-03,\n",
        "           1.00000000e-02,   1.20000000e-02,   1.40000000e-02,\n",
        "           1.60000000e-02,   1.80000000e-02,   2.00000000e-02,\n",
        "          -3.12500000e-02,  -2.81250000e-02,  -2.50000000e-02,\n",
        "          -2.18750000e-02,  -1.87500000e-02,  -1.56250000e-02,\n",
        "          -1.25000000e-02,  -9.37500000e-03,  -6.25000000e-03,\n",
        "          -3.12500000e-03,   0.00000000e+00,   3.12500000e-03,\n",
        "           6.25000000e-03,   9.37500000e-03,   1.25000000e-02,\n",
        "           1.56250000e-02,   1.87500000e-02,   2.18750000e-02,\n",
        "           2.50000000e-02,   2.81250000e-02,   3.12500000e-02,\n",
        "          -4.50000000e-02,  -4.05000000e-02,  -3.60000000e-02,\n",
        "          -3.15000000e-02,  -2.70000000e-02,  -2.25000000e-02,\n",
        "          -1.80000000e-02,  -1.35000000e-02,  -9.00000000e-03,\n",
        "          -4.50000000e-03,   0.00000000e+00,   4.50000000e-03,\n",
        "           9.00000000e-03,   1.35000000e-02,   1.80000000e-02,\n",
        "           2.25000000e-02,   2.70000000e-02,   3.15000000e-02,\n",
        "           3.60000000e-02,   4.05000000e-02,   4.50000000e-02,\n",
        "          -6.12500000e-02,  -5.51250000e-02,  -4.90000000e-02,\n",
        "          -4.28750000e-02,  -3.67500000e-02,  -3.06250000e-02,\n",
        "          -2.45000000e-02,  -1.83750000e-02,  -1.22500000e-02,\n",
        "          -6.12500000e-03,   0.00000000e+00,   6.12500000e-03,\n",
        "           1.22500000e-02,   1.83750000e-02,   2.45000000e-02,\n",
        "           3.06250000e-02,   3.67500000e-02,   4.28750000e-02,\n",
        "           4.90000000e-02,   5.51250000e-02,   6.12500000e-02,\n",
        "          -8.00000000e-02,  -7.20000000e-02,  -6.40000000e-02,\n",
        "          -5.60000000e-02,  -4.80000000e-02,  -4.00000000e-02,\n",
        "          -3.20000000e-02,  -2.40000000e-02,  -1.60000000e-02,\n",
        "          -8.00000000e-03,   0.00000000e+00,   8.00000000e-03,\n",
        "           1.60000000e-02,   2.40000000e-02,   3.20000000e-02,\n",
        "           4.00000000e-02,   4.80000000e-02,   5.60000000e-02,\n",
        "           6.40000000e-02,   7.20000000e-02,   8.00000000e-02,\n",
        "          -1.01250000e-01,  -9.11250000e-02,  -8.10000000e-02,\n",
        "          -7.08750000e-02,  -6.07500000e-02,  -5.06250000e-02,\n",
        "          -4.05000000e-02,  -3.03750000e-02,  -2.02500000e-02,\n",
        "          -1.01250000e-02,   0.00000000e+00,   1.01250000e-02,\n",
        "           2.02500000e-02,   3.03750000e-02,   4.05000000e-02,\n",
        "           5.06250000e-02,   6.07500000e-02,   7.08750000e-02,\n",
        "           8.10000000e-02,   9.11250000e-02,   1.01250000e-01,\n",
        "          -1.25000000e-01,  -1.12500000e-01,  -1.00000000e-01,\n",
        "          -8.75000000e-02,  -7.50000000e-02,  -6.25000000e-02,\n",
        "          -5.00000000e-02,  -3.75000000e-02,  -2.50000000e-02,\n",
        "          -1.25000000e-02,   0.00000000e+00,   1.25000000e-02,\n",
        "           2.50000000e-02,   3.75000000e-02,   5.00000000e-02,\n",
        "           6.25000000e-02,   7.50000000e-02,   8.75000000e-02,\n",
        "           1.00000000e-01,   1.12500000e-01,   1.25000000e-01]])"
       ]
      }
     ],
     "prompt_number": 87
    },
    {
     "cell_type": "code",
     "collapsed": false,
     "input": [
      "a = arange(10).reshape(2,5)"
     ],
     "language": "python",
     "metadata": {},
     "outputs": [],
     "prompt_number": 94
    },
    {
     "cell_type": "code",
     "collapsed": false,
     "input": [
      "a.transpose()"
     ],
     "language": "python",
     "metadata": {},
     "outputs": [
      {
       "output_type": "pyout",
       "prompt_number": 95,
       "text": [
        "array([[0, 5],\n",
        "       [1, 6],\n",
        "       [2, 7],\n",
        "       [3, 8],\n",
        "       [4, 9]])"
       ]
      }
     ],
     "prompt_number": 95
    },
    {
     "cell_type": "code",
     "collapsed": false,
     "input": [
      "a.T"
     ],
     "language": "python",
     "metadata": {},
     "outputs": [
      {
       "output_type": "pyout",
       "prompt_number": 96,
       "text": [
        "array([[0, 5],\n",
        "       [1, 6],\n",
        "       [2, 7],\n",
        "       [3, 8],\n",
        "       [4, 9]])"
       ]
      }
     ],
     "prompt_number": 96
    },
    {
     "cell_type": "code",
     "collapsed": false,
     "input": [
      "a"
     ],
     "language": "python",
     "metadata": {},
     "outputs": [
      {
       "output_type": "pyout",
       "prompt_number": 97,
       "text": [
        "array([[0, 1, 2, 3, 4],\n",
        "       [5, 6, 7, 8, 9]])"
       ]
      }
     ],
     "prompt_number": 97
    },
    {
     "cell_type": "code",
     "collapsed": false,
     "input": [
      "bf = zeros((bff.N_BF, bff.L_template, bff.N_families))"
     ],
     "language": "python",
     "metadata": {},
     "outputs": [],
     "prompt_number": 105
    },
    {
     "cell_type": "code",
     "collapsed": false,
     "input": [],
     "language": "python",
     "metadata": {},
     "outputs": []
    }
   ],
   "metadata": {}
  }
 ]
}