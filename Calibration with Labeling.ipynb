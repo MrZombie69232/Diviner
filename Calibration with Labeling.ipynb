{
 "metadata": {
  "name": "Calibration with Labeling"
 },
 "nbformat": 3,
 "nbformat_minor": 0,
 "worksheets": [
  {
   "cells": [
    {
     "cell_type": "code",
     "collapsed": false,
     "input": [
      "import pandas as pd\n",
      "import diviner as div\n",
      "import calib as c\n",
      "import sys\n",
      "from scipy import ndimage as nd"
     ],
     "language": "python",
     "metadata": {},
     "outputs": [],
     "prompt_number": 1
    },
    {
     "cell_type": "code",
     "collapsed": false,
     "input": [
      "if sys.platform == 'darwin':\n",
      "    df = div.read_div_data(\"./df_by_2.h5\")\n",
      "else:\n",
      "    df = div.read_div_data('/luna1/maye/2009072000.h5')"
     ],
     "language": "python",
     "metadata": {},
     "outputs": [],
     "prompt_number": 2
    },
    {
     "cell_type": "code",
     "collapsed": false,
     "input": [
      "cdet = c.get_cdet_frame(df, 3,11)"
     ],
     "language": "python",
     "metadata": {},
     "outputs": [],
     "prompt_number": 3
    },
    {
     "cell_type": "code",
     "collapsed": false,
     "input": [
      "bbv, sv = c.get_grouped(cdet)"
     ],
     "language": "python",
     "metadata": {},
     "outputs": [],
     "prompt_number": 4
    },
    {
     "cell_type": "code",
     "collapsed": false,
     "input": [
      "sv.counts.mean()"
     ],
     "language": "python",
     "metadata": {},
     "outputs": [
      {
       "output_type": "pyout",
       "prompt_number": 5,
       "text": [
        "spaceviews\n",
        "0             23360.123422\n",
        "1             23862.875000\n",
        "2             23861.962500\n",
        "3             23867.550000\n",
        "4             23866.912500\n",
        "5             23869.612500\n",
        "6             23868.600000\n",
        "7             23868.350000\n",
        "8             23865.027027\n",
        "Name: counts"
       ]
      }
     ],
     "prompt_number": 5
    },
    {
     "cell_type": "code",
     "collapsed": false,
     "input": [
      "dp = div.DataPump('2010-04-01')"
     ],
     "language": "python",
     "metadata": {},
     "outputs": [],
     "prompt_number": 6
    },
    {
     "cell_type": "code",
     "collapsed": false,
     "input": [
      "df = dp.next()"
     ],
     "language": "python",
     "metadata": {},
     "outputs": [
      {
       "ename": "IOError",
       "evalue": "[Errno 2] No such file or directory: '/Users/maye/data/diviner/2010040100.h5'",
       "output_type": "pyerr",
       "traceback": [
        "---------------------------------------------------------------------------\nIOError                                   Traceback (most recent call last)",
        "<ipython-input-7-9f6e5c31c2ba> in <module>()\n----> 1 df = dp.next()\n",
        "/Users/maye/Dropbox/src/diviner/diviner.pyc in next(self, fname_only)\n    156         current_fname = self.fname\n    157         if not fname_only:\n--> 158             df = read_div_data(self.fname)\n    159         self.update_time()\n    160         return df if not fname_only else current_fname\n",
        "/Users/maye/Dropbox/src/diviner/diviner.pyc in read_div_data(fname, **kwargs)\n     97     \n     98 def read_div_data(fname, **kwargs):\n---> 99     with open(fname) as f:\n    100         line = f.readline()\n    101         if any(['dlre_edr.c' in line, 'Header' in line]):\n",
        "IOError: [Errno 2] No such file or directory: '/Users/maye/data/diviner/2010040100.h5'"
       ]
      }
     ],
     "prompt_number": 7
    },
    {
     "cell_type": "code",
     "collapsed": false,
     "input": [
      "dp.next(fname_only=True)"
     ],
     "language": "python",
     "metadata": {},
     "outputs": [
      {
       "output_type": "pyout",
       "prompt_number": 8,
       "text": [
        "'/Users/maye/data/diviner/2010040100.h5'"
       ]
      }
     ],
     "prompt_number": 8
    },
    {
     "cell_type": "code",
     "collapsed": false,
     "input": [
      "cdet.set_index(div.make_date_index(cdet),inplace=True)"
     ],
     "language": "python",
     "metadata": {},
     "outputs": [
      {
       "output_type": "pyout",
       "prompt_number": 20,
       "text": [
        "<class 'pandas.core.frame.DataFrame'>\n",
        "DatetimeIndex: 14063 entries, 2009-07-20 00:00:00.045000 to 2009-07-20 00:30:00.018000\n",
        "Data columns:\n",
        "year                   14063  non-null values\n",
        "month                  14063  non-null values\n",
        "date                   14063  non-null values\n",
        "hour                   14063  non-null values\n",
        "minute                 14063  non-null values\n",
        "second                 14063  non-null values\n",
        "jdate                  14063  non-null values\n",
        "orbit                  14063  non-null values\n",
        "sundst                 14063  non-null values\n",
        "sunlat                 14063  non-null values\n",
        "sunlon                 14063  non-null values\n",
        "sclk                   14063  non-null values\n",
        "sclat                  14063  non-null values\n",
        "sclon                  14063  non-null values\n",
        "scrad                  14063  non-null values\n",
        "scalt                  14063  non-null values\n",
        "el_cmd                 14063  non-null values\n",
        "az_cmd                 14063  non-null values\n",
        "af                     14063  non-null values\n",
        "vert_lat               14063  non-null values\n",
        "vert_lon               14063  non-null values\n",
        "c                      14063  non-null values\n",
        "det                    14063  non-null values\n",
        "vlookx                 14063  non-null values\n",
        "vlooky                 14063  non-null values\n",
        "vlookz                 14063  non-null values\n",
        "radiance               14063  non-null values\n",
        "tb                     14063  non-null values\n",
        "clat                   12698  non-null values\n",
        "clon                   12698  non-null values\n",
        "cemis                  12698  non-null values\n",
        "csunzen                12698  non-null values\n",
        "csunazi                12698  non-null values\n",
        "cloctime               12698  non-null values\n",
        "qca                    14063  non-null values\n",
        "qge                    14063  non-null values\n",
        "qmi                    14063  non-null values\n",
        "counts                 14063  non-null values\n",
        "sounding               14063  non-null values\n",
        "from_pkt               14063  non-null values\n",
        "pkt_count              879  non-null values\n",
        "safing                 879  non-null values\n",
        "safed                  879  non-null values\n",
        "freezing               879  non-null values\n",
        "frozen                 879  non-null values\n",
        "rolling                879  non-null values\n",
        "dumping                879  non-null values\n",
        "moving                 879  non-null values\n",
        "temp_fault             879  non-null values\n",
        "sc_time_secs           879  non-null values\n",
        "sc_time_subs           879  non-null values\n",
        "ticks_pkt_start        879  non-null values\n",
        "ticks_at_sc_time       879  non-null values\n",
        "ost_index              879  non-null values\n",
        "est_index              879  non-null values\n",
        "sst_index              879  non-null values\n",
        "last_az_cmd            879  non-null values\n",
        "last_el_cmd            879  non-null values\n",
        "fpa_temp               868  non-null values\n",
        "fpb_temp               868  non-null values\n",
        "baffle_a_temp          868  non-null values\n",
        "baffle_b_temp          868  non-null values\n",
        "bb_1_temp              867  non-null values\n",
        "oba_1_temp             867  non-null values\n",
        "error_time             879  non-null values\n",
        "error_id               879  non-null values\n",
        "error_count            879  non-null values\n",
        "commands_received      879  non-null values\n",
        "commands_executed      879  non-null values\n",
        "commands_rejected      879  non-null values\n",
        "last_time_command      879  non-null values\n",
        "last_eqx_prediction    879  non-null values\n",
        "hybrid_temp            76  non-null values\n",
        "fpa_temp_cyc           76  non-null values\n",
        "fpb_temp_cyc           76  non-null values\n",
        "baffle_a_temp_cyc      76  non-null values\n",
        "baffle_b_temp_cyc      76  non-null values\n",
        "oba_1_temp_cyc         76  non-null values\n",
        "oba_2_temp             76  non-null values\n",
        "bb_1_temp_cyc          75  non-null values\n",
        "bb_2_temp              75  non-null values\n",
        "solar_target_temp      76  non-null values\n",
        "yoke_temp              76  non-null values\n",
        "el_actuator_temp       76  non-null values\n",
        "az_actuator_temp       76  non-null values\n",
        "min_15v                75  non-null values\n",
        "plu_15v                75  non-null values\n",
        "solar_base_temp        76  non-null values\n",
        "plu_5v                 75  non-null values\n",
        "bbviews                14063  non-null values\n",
        "spaceviews             14063  non-null values\n",
        "dtypes: float64(89), int64(2)"
       ]
      }
     ],
     "prompt_number": 20
    },
    {
     "cell_type": "code",
     "collapsed": false,
     "input": [
      "cdet.bb_1_temp_cyc.dropna()[:2]"
     ],
     "language": "python",
     "metadata": {},
     "outputs": [
      {
       "output_type": "pyout",
       "prompt_number": 21,
       "text": [
        "2009-07-20 00:00:34.093000    312.261\n",
        "2009-07-20 00:00:58.412999    312.159\n",
        "Name: bb_1_temp_cyc"
       ]
      }
     ],
     "prompt_number": 21
    },
    {
     "cell_type": "code",
     "collapsed": false,
     "input": [
      "cdet.bb_2_temp.dropna()[:2]"
     ],
     "language": "python",
     "metadata": {},
     "outputs": [
      {
       "output_type": "pyout",
       "prompt_number": 22,
       "text": [
        "2009-07-20 00:00:35.884999    312.150\n",
        "2009-07-20 00:00:58.668999    312.007\n",
        "Name: bb_2_temp"
       ]
      }
     ],
     "prompt_number": 22
    },
    {
     "cell_type": "code",
     "collapsed": false,
     "input": [
      "bb1temp = cdet.bb_1_temp_cyc.dropna()"
     ],
     "language": "python",
     "metadata": {},
     "outputs": [],
     "prompt_number": 46
    },
    {
     "cell_type": "code",
     "collapsed": true,
     "input": [
      "bb1temp = bb1temp.resample('20s')"
     ],
     "language": "python",
     "metadata": {},
     "outputs": [],
     "prompt_number": 47
    },
    {
     "cell_type": "code",
     "collapsed": false,
     "input": [
      "bb2temp = cdet.bb_2_temp.dropna()"
     ],
     "language": "python",
     "metadata": {},
     "outputs": [],
     "prompt_number": 48
    },
    {
     "cell_type": "code",
     "collapsed": false,
     "input": [
      "bb2temp = bb2temp.resample('20s')"
     ],
     "language": "python",
     "metadata": {},
     "outputs": [],
     "prompt_number": 49
    },
    {
     "cell_type": "code",
     "collapsed": false,
     "input": [
      "bb1temp.head()"
     ],
     "language": "python",
     "metadata": {},
     "outputs": [
      {
       "output_type": "pyout",
       "prompt_number": 50,
       "text": [
        "2009-07-20 00:00:40    312.261\n",
        "2009-07-20 00:01:00    312.159\n",
        "2009-07-20 00:01:20        NaN\n",
        "2009-07-20 00:01:40    312.076\n",
        "2009-07-20 00:02:00    311.954\n",
        "Freq: 20S"
       ]
      }
     ],
     "prompt_number": 50
    },
    {
     "cell_type": "code",
     "collapsed": false,
     "input": [
      "bb2temp.head()"
     ],
     "language": "python",
     "metadata": {},
     "outputs": [
      {
       "output_type": "pyout",
       "prompt_number": 51,
       "text": [
        "2009-07-20 00:00:40    312.150\n",
        "2009-07-20 00:01:00    312.007\n",
        "2009-07-20 00:01:20        NaN\n",
        "2009-07-20 00:01:40    311.847\n",
        "2009-07-20 00:02:00    311.724\n",
        "Freq: 20S"
       ]
      }
     ],
     "prompt_number": 51
    },
    {
     "cell_type": "code",
     "collapsed": false,
     "input": [
      "(bb1temp - bb2temp).head()"
     ],
     "language": "python",
     "metadata": {},
     "outputs": [
      {
       "output_type": "pyout",
       "prompt_number": 53,
       "text": [
        "2009-07-20 00:00:40    0.111\n",
        "2009-07-20 00:01:00    0.152\n",
        "2009-07-20 00:01:20      NaN\n",
        "2009-07-20 00:01:40    0.229\n",
        "2009-07-20 00:02:00    0.230\n",
        "Freq: 20S"
       ]
      }
     ],
     "prompt_number": 53
    },
    {
     "cell_type": "code",
     "collapsed": false,
     "input": [
      "bbdiff = bb1temp - bb2temp"
     ],
     "language": "python",
     "metadata": {},
     "outputs": [],
     "prompt_number": 54
    },
    {
     "cell_type": "code",
     "collapsed": false,
     "input": [
      "clf()\n",
      "bbdiff.plot(style='*')"
     ],
     "language": "python",
     "metadata": {},
     "outputs": [
      {
       "output_type": "pyout",
       "prompt_number": 57,
       "text": [
        "<matplotlib.axes.AxesSubplot at 0x10d767610>"
       ]
      }
     ],
     "prompt_number": 57
    },
    {
     "cell_type": "code",
     "collapsed": false,
     "input": [],
     "language": "python",
     "metadata": {},
     "outputs": []
    }
   ],
   "metadata": {}
  }
 ]
}