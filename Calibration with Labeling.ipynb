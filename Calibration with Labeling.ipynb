{
 "metadata": {
  "name": "Calibration with Labeling"
 },
 "nbformat": 3,
 "nbformat_minor": 0,
 "worksheets": [
  {
   "cells": [
    {
     "cell_type": "code",
     "collapsed": false,
     "input": [
      "import pandas as pd\n",
      "import diviner as div\n",
      "import calib as c\n",
      "import sys\n",
      "from scipy import ndimage as nd"
     ],
     "language": "python",
     "metadata": {},
     "outputs": [],
     "prompt_number": 1
    },
    {
     "cell_type": "code",
     "collapsed": false,
     "input": [
      "if sys.platform == 'darwin':\n",
      "    df = div.read_div_data(\"./df_by_2.h5\")\n",
      "else:\n",
      "    df = div.read_div_data('/luna1/maye/2009072000.h5')"
     ],
     "language": "python",
     "metadata": {},
     "outputs": [],
     "prompt_number": 2
    },
    {
     "cell_type": "code",
     "collapsed": false,
     "input": [
      "cdet = c.get_cdet_frame(df, 3,11)"
     ],
     "language": "python",
     "metadata": {},
     "outputs": [],
     "prompt_number": 3
    },
    {
     "cell_type": "code",
     "collapsed": false,
     "input": [
      "calib = cdet[(cdet.el_cmd==80) | (cdet.el_cmd==0)]"
     ],
     "language": "python",
     "metadata": {},
     "outputs": [],
     "prompt_number": 4
    },
    {
     "cell_type": "code",
     "collapsed": false,
     "input": [
      "len(calib)"
     ],
     "language": "python",
     "metadata": {},
     "outputs": [
      {
       "output_type": "pyout",
       "prompt_number": 5,
       "text": [
        "1365"
       ]
      }
     ],
     "prompt_number": 5
    },
    {
     "cell_type": "code",
     "collapsed": false,
     "input": [
      "calib = calib[np.invert(c.check_moving_flag(calib))]"
     ],
     "language": "python",
     "metadata": {},
     "outputs": [],
     "prompt_number": 6
    },
    {
     "cell_type": "code",
     "collapsed": false,
     "input": [
      "len(calib)"
     ],
     "language": "python",
     "metadata": {},
     "outputs": [
      {
       "output_type": "pyout",
       "prompt_number": 7,
       "text": [
        "917"
       ]
      }
     ],
     "prompt_number": 7
    },
    {
     "cell_type": "code",
     "collapsed": false,
     "input": [
      "calib.el_cmd.describe()"
     ],
     "language": "python",
     "metadata": {},
     "outputs": [
      {
       "output_type": "pyout",
       "prompt_number": 8,
       "text": [
        "count    917.000000\n",
        "mean      52.082879\n",
        "std       38.152213\n",
        "min        0.000000\n",
        "25%        0.000000\n",
        "50%       80.000000\n",
        "75%       80.000000\n",
        "max       80.000000"
       ]
      }
     ],
     "prompt_number": 8
    },
    {
     "cell_type": "code",
     "collapsed": false,
     "input": [
      "calib_id = pd.Series(np.zeros_like(cdet.index),index=cdet.index)"
     ],
     "language": "python",
     "metadata": {},
     "outputs": [],
     "prompt_number": 9
    },
    {
     "cell_type": "code",
     "collapsed": false,
     "input": [
      "calib_id[calib.index]=1"
     ],
     "language": "python",
     "metadata": {},
     "outputs": [],
     "prompt_number": 10
    },
    {
     "cell_type": "code",
     "collapsed": false,
     "input": [
      "cdet['calib_id'] = nd.label(calib_id)[0]"
     ],
     "language": "python",
     "metadata": {},
     "outputs": [],
     "prompt_number": 11
    },
    {
     "cell_type": "code",
     "collapsed": false,
     "input": [
      "grouped = cdet.groupby('calib_id')"
     ],
     "language": "python",
     "metadata": {},
     "outputs": [],
     "prompt_number": 12
    },
    {
     "cell_type": "code",
     "collapsed": false,
     "input": [
      "grouped['counts'].describe()"
     ],
     "language": "python",
     "metadata": {},
     "outputs": [
      {
       "output_type": "pyout",
       "prompt_number": 13,
       "text": [
        "calib_id       \n",
        "0         count    13146.000000\n",
        "          mean     23381.582078\n",
        "          std        421.920376\n",
        "          min      21463.000000\n",
        "          25%      23101.000000\n",
        "          50%      23435.000000\n",
        "          75%      23785.000000\n",
        "          max      23880.000000\n",
        "1         count       80.000000\n",
        "          mean     23862.875000\n",
        "          std          2.956970\n",
        "          min      23853.000000\n",
        "          25%      23861.000000\n",
        "          50%      23863.000000\n",
        "          75%      23865.000000\n",
        "          max      23869.000000\n",
        "2         count       80.000000\n",
        "          mean     22499.775000\n",
        "          std          3.113771\n",
        "          min      22494.000000\n",
        "          25%      22497.000000\n",
        "          50%      22499.000000\n",
        "          75%      22502.000000\n",
        "          max      22508.000000\n",
        "3         count       80.000000\n",
        "          mean     23861.962500\n",
        "          std          3.115676\n",
        "          min      23856.000000\n",
        "          25%      23860.000000\n",
        "          50%      23862.000000\n",
        "          75%      23864.000000\n",
        "          max      23871.000000\n",
        "4         count       80.000000\n",
        "          mean     23867.550000\n",
        "          std          2.380831\n",
        "          min      23860.000000\n",
        "          25%      23866.000000\n",
        "          50%      23868.000000\n",
        "          75%      23869.000000\n",
        "          max      23872.000000\n",
        "5         count       80.000000\n",
        "          mean     22517.887500\n",
        "          std          3.010504\n",
        "          min      22512.000000\n",
        "          25%      22516.000000\n",
        "          50%      22518.000000\n",
        "          75%      22520.000000\n",
        "          max      22525.000000\n",
        "6         count       80.000000\n",
        "          mean     23866.912500\n",
        "          std          3.718560\n",
        "          min      23858.000000\n",
        "          25%      23864.000000\n",
        "          50%      23867.000000\n",
        "          75%      23869.000000\n",
        "          max      23876.000000\n",
        "7         count       80.000000\n",
        "          mean     23869.612500\n",
        "          std          2.184489\n",
        "          min      23865.000000\n",
        "          25%      23868.000000\n",
        "          50%      23870.000000\n",
        "          75%      23871.000000\n",
        "          max      23878.000000\n",
        "8         count       80.000000\n",
        "          mean     22465.762500\n",
        "          std          3.670766\n",
        "          min      22460.000000\n",
        "          25%      22463.000000\n",
        "          50%      22466.000000\n",
        "          75%      22468.000000\n",
        "          max      22476.000000\n",
        "9         count       80.000000\n",
        "          mean     23868.600000\n",
        "          std          2.804156\n",
        "          min      23861.000000\n",
        "          25%      23867.000000\n",
        "          50%      23869.000000\n",
        "          75%      23871.000000\n",
        "          max      23876.000000\n",
        "10        count       80.000000\n",
        "          mean     23868.350000\n",
        "          std          2.164735\n",
        "          min      23863.000000\n",
        "          25%      23867.000000\n",
        "          50%      23868.000000\n",
        "          75%      23870.000000\n",
        "          max      23874.000000\n",
        "11        count       80.000000\n",
        "          mean     22430.875000\n",
        "          std          3.131607\n",
        "          min      22424.000000\n",
        "          25%      22429.000000\n",
        "          50%      22431.000000\n",
        "          75%      22432.250000\n",
        "          max      22439.000000\n",
        "12        count       37.000000\n",
        "          mean     23865.027027\n",
        "          std          2.650854\n",
        "          min      23860.000000\n",
        "          25%      23863.000000\n",
        "          50%      23865.000000\n",
        "          75%      23866.000000\n",
        "          max      23870.000000\n",
        "Length: 104"
       ]
      }
     ],
     "prompt_number": 13
    },
    {
     "cell_type": "code",
     "collapsed": false,
     "input": [
      "def ptp(arr):\n",
      "    return arr.max() - arr.min()"
     ],
     "language": "python",
     "metadata": {},
     "outputs": [],
     "prompt_number": 14
    },
    {
     "cell_type": "code",
     "collapsed": false,
     "input": [
      "grouped['counts'].last()"
     ],
     "language": "python",
     "metadata": {},
     "outputs": [
      {
       "output_type": "pyout",
       "prompt_number": 15,
       "text": [
        "calib_id\n",
        "0           23861\n",
        "1           23868\n",
        "2           22495\n",
        "3           23863\n",
        "4           23868\n",
        "5           22513\n",
        "6           23868\n",
        "7           23870\n",
        "8           22460\n",
        "9           23869\n",
        "10          23873\n",
        "11          22426\n",
        "12          23864\n",
        "Name: counts"
       ]
      }
     ],
     "prompt_number": 15
    },
    {
     "cell_type": "code",
     "collapsed": false,
     "input": [
      "dtime = div.make_date_index(calib)"
     ],
     "language": "python",
     "metadata": {},
     "outputs": [],
     "prompt_number": 23
    },
    {
     "cell_type": "code",
     "collapsed": false,
     "input": [
      "timed_calib = calib.set_index(dtime)"
     ],
     "language": "python",
     "metadata": {},
     "outputs": [],
     "prompt_number": 25
    },
    {
     "cell_type": "code",
     "collapsed": false,
     "input": [
      "clf()\n",
      "timed_calib.bb_2_temp[timed_calib.bb_2_temp.notnull()].plot(style='x',label='BB2_temp, {0} entries'.format(timed_calib.bb_2_temp.count()))"
     ],
     "language": "python",
     "metadata": {},
     "outputs": [
      {
       "output_type": "pyout",
       "prompt_number": 43,
       "text": [
        "<matplotlib.axes.AxesSubplot at 0x187343510>"
       ]
      }
     ],
     "prompt_number": 43
    },
    {
     "cell_type": "code",
     "collapsed": false,
     "input": [
      "timed_calib.bb_1_temp[timed_calib.bb_1_temp.notnull()].plot(style='x',label='BB1_temp, {0} entries'.format(timed_calib.bb_1_temp.count()))"
     ],
     "language": "python",
     "metadata": {},
     "outputs": [
      {
       "output_type": "pyout",
       "prompt_number": 44,
       "text": [
        "<matplotlib.axes.AxesSubplot at 0x187343510>"
       ]
      }
     ],
     "prompt_number": 44
    },
    {
     "cell_type": "code",
     "collapsed": false,
     "input": [
      "xlabel('UTC')"
     ],
     "language": "python",
     "metadata": {},
     "outputs": [
      {
       "output_type": "pyout",
       "prompt_number": 45,
       "text": [
        "<matplotlib.text.Text at 0x1873607d0>"
       ]
      }
     ],
     "prompt_number": 45
    },
    {
     "cell_type": "code",
     "collapsed": false,
     "input": [
      "legend(loc='best')"
     ],
     "language": "python",
     "metadata": {},
     "outputs": [
      {
       "output_type": "pyout",
       "prompt_number": 46,
       "text": [
        "<matplotlib.legend.Legend at 0x187332550>"
       ]
      }
     ],
     "prompt_number": 46
    },
    {
     "cell_type": "code",
     "collapsed": false,
     "input": [
      "ylabel('BBx_Temp [K]')"
     ],
     "language": "python",
     "metadata": {},
     "outputs": [
      {
       "output_type": "pyout",
       "prompt_number": 47,
       "text": [
        "<matplotlib.text.Text at 0x1873b9f10>"
       ]
      }
     ],
     "prompt_number": 47
    },
    {
     "cell_type": "code",
     "collapsed": false,
     "input": [
      "timed_calib.bb_1_temp.count()"
     ],
     "language": "python",
     "metadata": {},
     "outputs": [
      {
       "output_type": "pyout",
       "prompt_number": 35,
       "text": [
        "57"
       ]
      }
     ],
     "prompt_number": 35
    },
    {
     "cell_type": "code",
     "collapsed": false,
     "input": [
      "clf()\n",
      "df.bb_1_temp.plot(style='-')"
     ],
     "language": "python",
     "metadata": {},
     "outputs": [
      {
       "output_type": "pyout",
       "prompt_number": 49,
       "text": [
        "<matplotlib.axes.AxesSubplot at 0x187344750>"
       ]
      }
     ],
     "prompt_number": 49
    },
    {
     "cell_type": "code",
     "collapsed": false,
     "input": [
      "bbnotnull = df.bb_1_temp.notnull()"
     ],
     "language": "python",
     "metadata": {},
     "outputs": [],
     "prompt_number": 50
    },
    {
     "cell_type": "code",
     "collapsed": false,
     "input": [
      "dtime = div.make_date_index(df)"
     ],
     "language": "python",
     "metadata": {},
     "outputs": [],
     "prompt_number": 53
    },
    {
     "cell_type": "code",
     "collapsed": false,
     "input": [
      "timeddf = df.set_index(dtime)"
     ],
     "language": "python",
     "metadata": {},
     "outputs": [],
     "prompt_number": 54
    },
    {
     "cell_type": "code",
     "collapsed": false,
     "input": [
      "bbnotnull = timeddf.bb_1_temp.notnull()"
     ],
     "language": "python",
     "metadata": {},
     "outputs": [],
     "prompt_number": 55
    },
    {
     "cell_type": "code",
     "collapsed": false,
     "input": [
      "times = bbnotnull.index"
     ],
     "language": "python",
     "metadata": {},
     "outputs": [],
     "prompt_number": 63
    },
    {
     "cell_type": "code",
     "collapsed": false,
     "input": [
      "deltas = np.diff(times.unique())"
     ],
     "language": "python",
     "metadata": {},
     "outputs": [],
     "prompt_number": 77
    },
    {
     "cell_type": "code",
     "collapsed": false,
     "input": [
      "plot(deltas)"
     ],
     "language": "python",
     "metadata": {},
     "outputs": [
      {
       "output_type": "pyout",
       "prompt_number": 78,
       "text": [
        "[<matplotlib.lines.Line2D at 0x1877f6810>]"
       ]
      }
     ],
     "prompt_number": 78
    },
    {
     "cell_type": "code",
     "collapsed": false,
     "input": [
      "np.unique(deltas)"
     ],
     "language": "python",
     "metadata": {},
     "outputs": [
      {
       "output_type": "pyout",
       "prompt_number": 83,
       "text": [
        "array([0:02:06.999000, 0:02:07, 0:02:07.001000, 0:02:07.999000, 0:02:08,\n",
        "       0:02:08.001000, 0:02:08.999000, 0:02:09, 0:02:09.001000], dtype=timedelta64[us])"
       ]
      }
     ],
     "prompt_number": 83
    },
    {
     "cell_type": "code",
     "collapsed": false,
     "input": [
      "times.unique()[:10]"
     ],
     "language": "python",
     "metadata": {},
     "outputs": [
      {
       "output_type": "pyout",
       "prompt_number": 88,
       "text": [
        "array([1970-01-15 184:00:00.045000, 1970-01-15 184:00:00.173000,\n",
        "       1970-01-15 184:00:00.301000, 1970-01-15 184:00:00.429000,\n",
        "       1970-01-15 184:00:00.557000, 1970-01-15 184:00:00.685000,\n",
        "       1970-01-15 184:00:00.813000, 1970-01-15 184:00:00.941000,\n",
        "       1970-01-15 184:00:01.068999, 1970-01-15 184:00:01.197000], dtype=datetime64[ns])"
       ]
      }
     ],
     "prompt_number": 88
    },
    {
     "cell_type": "code",
     "collapsed": false,
     "input": [
      "clf()\n",
      "timeddf.bb_1_temp.plot(style='*',label='bb1temp')"
     ],
     "language": "python",
     "metadata": {},
     "outputs": [
      {
       "output_type": "pyout",
       "prompt_number": 95,
       "text": [
        "<matplotlib.axes.AxesSubplot at 0x1877f4190>"
       ]
      }
     ],
     "prompt_number": 95
    },
    {
     "cell_type": "code",
     "collapsed": false,
     "input": [
      "timeddf.bb_2_temp.plot(style='x',label='bb2temp')"
     ],
     "language": "python",
     "metadata": {},
     "outputs": [
      {
       "output_type": "pyout",
       "prompt_number": 96,
       "text": [
        "<matplotlib.axes.AxesSubplot at 0x1877f4190>"
       ]
      }
     ],
     "prompt_number": 96
    },
    {
     "cell_type": "code",
     "collapsed": false,
     "input": [
      "legend(loc='best')"
     ],
     "language": "python",
     "metadata": {},
     "outputs": [
      {
       "output_type": "pyout",
       "prompt_number": 97,
       "text": [
        "<matplotlib.legend.Legend at 0x1997c5ad0>"
       ]
      }
     ],
     "prompt_number": 97
    },
    {
     "cell_type": "code",
     "collapsed": false,
     "input": [
      "for col in df.columns:\n",
      "    if 'bb' in col:\n",
      "        print col"
     ],
     "language": "python",
     "metadata": {},
     "outputs": [
      {
       "output_type": "stream",
       "stream": "stdout",
       "text": [
        "bb_1_temp\n",
        "bb_1_temp_cyc\n",
        "bb_2_temp\n"
       ]
      }
     ],
     "prompt_number": 105
    },
    {
     "cell_type": "code",
     "collapsed": false,
     "input": [
      "df.af.unique()"
     ],
     "language": "python",
     "metadata": {},
     "outputs": [
      {
       "output_type": "pyout",
       "prompt_number": 107,
       "text": [
        "array([ 110., -350.,  350., -480.,  480., -110.])"
       ]
      }
     ],
     "prompt_number": 107
    },
    {
     "cell_type": "code",
     "collapsed": false,
     "input": [],
     "language": "python",
     "metadata": {},
     "outputs": [
      {
       "ename": "NameError",
       "evalue": "name 'df' is not defined",
       "output_type": "pyerr",
       "traceback": [
        "---------------------------------------------------------------------------\nNameError                                 Traceback (most recent call last)",
        "<ipython-input-1-7ed0097d7e9e> in <module>()\n----> 1 df\n",
        "NameError: name 'df' is not defined"
       ]
      }
     ],
     "prompt_number": 1
    },
    {
     "cell_type": "code",
     "collapsed": false,
     "input": [],
     "language": "python",
     "metadata": {},
     "outputs": []
    }
   ],
   "metadata": {}
  }
 ]
}