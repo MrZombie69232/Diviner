{
 "metadata": {
  "name": "Calibration with Labeling"
 },
 "nbformat": 3,
 "nbformat_minor": 0,
 "worksheets": [
  {
   "cells": [
    {
     "cell_type": "code",
     "collapsed": false,
     "input": [
      "import pandas as pd\n",
      "import diviner as div\n",
      "import calib as c\n",
      "import sys\n",
      "from scipy import ndimage as nd"
     ],
     "language": "python",
     "metadata": {},
     "outputs": [],
     "prompt_number": 2
    },
    {
     "cell_type": "code",
     "collapsed": false,
     "input": [
      "if sys.platform == 'darwin':\n",
      "    df = div.read_div_data(\"./df_by_2.h5\")\n",
      "else:\n",
      "    df = div.read_div_data('/luna1/maye/2009072000.h5')"
     ],
     "language": "python",
     "metadata": {},
     "outputs": [],
     "prompt_number": 3
    },
    {
     "cell_type": "code",
     "collapsed": false,
     "input": [
      "cdet = c.get_cdet_frame(df, 3,11)"
     ],
     "language": "python",
     "metadata": {},
     "outputs": [],
     "prompt_number": 11
    },
    {
     "cell_type": "code",
     "collapsed": false,
     "input": [
      "calib = cdet[(cdet.el_cmd==80) | (cdet.el_cmd==0)]"
     ],
     "language": "python",
     "metadata": {},
     "outputs": [],
     "prompt_number": 12
    },
    {
     "cell_type": "code",
     "collapsed": false,
     "input": [
      "len(calib)"
     ],
     "language": "python",
     "metadata": {},
     "outputs": [
      {
       "output_type": "pyout",
       "prompt_number": 13,
       "text": [
        "1365"
       ]
      }
     ],
     "prompt_number": 13
    },
    {
     "cell_type": "code",
     "collapsed": false,
     "input": [
      "calib = calib[np.invert(c.check_moving_flag(calib))]"
     ],
     "language": "python",
     "metadata": {},
     "outputs": [],
     "prompt_number": 14
    },
    {
     "cell_type": "code",
     "collapsed": false,
     "input": [
      "len(calib)"
     ],
     "language": "python",
     "metadata": {},
     "outputs": [
      {
       "output_type": "pyout",
       "prompt_number": 15,
       "text": [
        "917"
       ]
      }
     ],
     "prompt_number": 15
    },
    {
     "cell_type": "code",
     "collapsed": false,
     "input": [
      "calib.el_cmd.describe()"
     ],
     "language": "python",
     "metadata": {},
     "outputs": [
      {
       "output_type": "pyout",
       "prompt_number": 16,
       "text": [
        "count    917.000000\n",
        "mean      52.082879\n",
        "std       38.152213\n",
        "min        0.000000\n",
        "25%        0.000000\n",
        "50%       80.000000\n",
        "75%       80.000000\n",
        "max       80.000000"
       ]
      }
     ],
     "prompt_number": 16
    },
    {
     "cell_type": "code",
     "collapsed": false,
     "input": [
      "calib_id = pd.Series(np.zeros_like(cdet.index),index=cdet.index)"
     ],
     "language": "python",
     "metadata": {},
     "outputs": [],
     "prompt_number": 17
    },
    {
     "cell_type": "code",
     "collapsed": false,
     "input": [
      "calib_id[calib.index]=1"
     ],
     "language": "python",
     "metadata": {},
     "outputs": [],
     "prompt_number": 18
    },
    {
     "cell_type": "code",
     "collapsed": false,
     "input": [
      "cdet['calib_id'] = nd.label(calib_id)[0]"
     ],
     "language": "python",
     "metadata": {},
     "outputs": [],
     "prompt_number": 19
    },
    {
     "cell_type": "code",
     "collapsed": false,
     "input": [
      "grouped = cdet.groupby('calib_id')"
     ],
     "language": "python",
     "metadata": {},
     "outputs": [],
     "prompt_number": 35
    },
    {
     "cell_type": "code",
     "collapsed": false,
     "input": [
      "grouped['counts'].describe()"
     ],
     "language": "python",
     "metadata": {},
     "outputs": [
      {
       "output_type": "pyout",
       "prompt_number": 39,
       "text": [
        "calib_id       \n",
        "0         count    13146.000000\n",
        "          mean     23381.582078\n",
        "          std        421.920376\n",
        "          min      21463.000000\n",
        "          25%      23101.000000\n",
        "          50%      23435.000000\n",
        "          75%      23785.000000\n",
        "          max      23880.000000\n",
        "1         count       80.000000\n",
        "          mean     23862.875000\n",
        "          std          2.956970\n",
        "          min      23853.000000\n",
        "          25%      23861.000000\n",
        "          50%      23863.000000\n",
        "          75%      23865.000000\n",
        "          max      23869.000000\n",
        "2         count       80.000000\n",
        "          mean     22499.775000\n",
        "          std          3.113771\n",
        "          min      22494.000000\n",
        "          25%      22497.000000\n",
        "          50%      22499.000000\n",
        "          75%      22502.000000\n",
        "          max      22508.000000\n",
        "3         count       80.000000\n",
        "          mean     23861.962500\n",
        "          std          3.115676\n",
        "          min      23856.000000\n",
        "          25%      23860.000000\n",
        "          50%      23862.000000\n",
        "          75%      23864.000000\n",
        "          max      23871.000000\n",
        "4         count       80.000000\n",
        "          mean     23867.550000\n",
        "          std          2.380831\n",
        "          min      23860.000000\n",
        "          25%      23866.000000\n",
        "          50%      23868.000000\n",
        "          75%      23869.000000\n",
        "          max      23872.000000\n",
        "5         count       80.000000\n",
        "          mean     22517.887500\n",
        "          std          3.010504\n",
        "          min      22512.000000\n",
        "          25%      22516.000000\n",
        "          50%      22518.000000\n",
        "          75%      22520.000000\n",
        "          max      22525.000000\n",
        "6         count       80.000000\n",
        "          mean     23866.912500\n",
        "          std          3.718560\n",
        "          min      23858.000000\n",
        "          25%      23864.000000\n",
        "          50%      23867.000000\n",
        "          75%      23869.000000\n",
        "          max      23876.000000\n",
        "7         count       80.000000\n",
        "          mean     23869.612500\n",
        "          std          2.184489\n",
        "          min      23865.000000\n",
        "          25%      23868.000000\n",
        "          50%      23870.000000\n",
        "          75%      23871.000000\n",
        "          max      23878.000000\n",
        "8         count       80.000000\n",
        "          mean     22465.762500\n",
        "          std          3.670766\n",
        "          min      22460.000000\n",
        "          25%      22463.000000\n",
        "          50%      22466.000000\n",
        "          75%      22468.000000\n",
        "          max      22476.000000\n",
        "9         count       80.000000\n",
        "          mean     23868.600000\n",
        "          std          2.804156\n",
        "          min      23861.000000\n",
        "          25%      23867.000000\n",
        "          50%      23869.000000\n",
        "          75%      23871.000000\n",
        "          max      23876.000000\n",
        "10        count       80.000000\n",
        "          mean     23868.350000\n",
        "          std          2.164735\n",
        "          min      23863.000000\n",
        "          25%      23867.000000\n",
        "          50%      23868.000000\n",
        "          75%      23870.000000\n",
        "          max      23874.000000\n",
        "11        count       80.000000\n",
        "          mean     22430.875000\n",
        "          std          3.131607\n",
        "          min      22424.000000\n",
        "          25%      22429.000000\n",
        "          50%      22431.000000\n",
        "          75%      22432.250000\n",
        "          max      22439.000000\n",
        "12        count       37.000000\n",
        "          mean     23865.027027\n",
        "          std          2.650854\n",
        "          min      23860.000000\n",
        "          25%      23863.000000\n",
        "          50%      23865.000000\n",
        "          75%      23866.000000\n",
        "          max      23870.000000\n",
        "Length: 104"
       ]
      }
     ],
     "prompt_number": 39
    },
    {
     "cell_type": "code",
     "collapsed": false,
     "input": [
      "def ptp(arr):\n",
      "    return arr.max() - arr.min()"
     ],
     "language": "python",
     "metadata": {},
     "outputs": [],
     "prompt_number": 40
    },
    {
     "cell_type": "code",
     "collapsed": false,
     "input": [
      "grouped['counts'].last()"
     ],
     "language": "python",
     "metadata": {},
     "outputs": [
      {
       "output_type": "pyout",
       "prompt_number": 51,
       "text": [
        "calib_id\n",
        "0           23861\n",
        "1           23868\n",
        "2           22495\n",
        "3           23863\n",
        "4           23868\n",
        "5           22513\n",
        "6           23868\n",
        "7           23870\n",
        "8           22460\n",
        "9           23869\n",
        "10          23873\n",
        "11          22426\n",
        "12          23864\n",
        "Name: counts"
       ]
      }
     ],
     "prompt_number": 51
    },
    {
     "cell_type": "code",
     "collapsed": false,
     "input": [],
     "language": "python",
     "metadata": {},
     "outputs": []
    }
   ],
   "metadata": {}
  }
 ]
}