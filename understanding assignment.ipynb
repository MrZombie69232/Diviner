{
 "metadata": {
  "name": "understanding assignment"
 },
 "nbformat": 3,
 "nbformat_minor": 0,
 "worksheets": [
  {
   "cells": [
    {
     "cell_type": "code",
     "collapsed": false,
     "input": [
      "import pandas as pd"
     ],
     "language": "python",
     "metadata": {},
     "outputs": [],
     "prompt_number": 1
    },
    {
     "cell_type": "code",
     "collapsed": false,
     "input": [
      "df = pd.DataFrame(randn(6,3),columns = list('ABC'))"
     ],
     "language": "python",
     "metadata": {},
     "outputs": [],
     "prompt_number": 21
    },
    {
     "cell_type": "code",
     "collapsed": false,
     "input": [
      "df"
     ],
     "language": "python",
     "metadata": {},
     "outputs": [
      {
       "html": [
        "<div style=\"max-height:1000px;max-width:1500px;overflow:auto;\">\n",
        "<table border=\"1\" class=\"dataframe\">\n",
        "  <thead>\n",
        "    <tr style=\"text-align: right;\">\n",
        "      <th></th>\n",
        "      <th>A</th>\n",
        "      <th>B</th>\n",
        "      <th>C</th>\n",
        "    </tr>\n",
        "  </thead>\n",
        "  <tbody>\n",
        "    <tr>\n",
        "      <td><strong>0</strong></td>\n",
        "      <td>-0.031630</td>\n",
        "      <td>-1.867797</td>\n",
        "      <td> 1.264133</td>\n",
        "    </tr>\n",
        "    <tr>\n",
        "      <td><strong>1</strong></td>\n",
        "      <td>-0.135349</td>\n",
        "      <td>-0.957986</td>\n",
        "      <td>-0.054713</td>\n",
        "    </tr>\n",
        "    <tr>\n",
        "      <td><strong>2</strong></td>\n",
        "      <td> 0.337048</td>\n",
        "      <td>-0.383348</td>\n",
        "      <td>-1.991538</td>\n",
        "    </tr>\n",
        "    <tr>\n",
        "      <td><strong>3</strong></td>\n",
        "      <td> 1.009888</td>\n",
        "      <td>-0.779377</td>\n",
        "      <td>-1.481212</td>\n",
        "    </tr>\n",
        "    <tr>\n",
        "      <td><strong>4</strong></td>\n",
        "      <td>-0.962852</td>\n",
        "      <td> 0.129088</td>\n",
        "      <td>-0.010233</td>\n",
        "    </tr>\n",
        "    <tr>\n",
        "      <td><strong>5</strong></td>\n",
        "      <td>-0.640262</td>\n",
        "      <td> 0.848540</td>\n",
        "      <td> 1.025306</td>\n",
        "    </tr>\n",
        "  </tbody>\n",
        "</table>\n",
        "</div>"
       ],
       "output_type": "pyout",
       "prompt_number": 22,
       "text": [
        "          A         B         C\n",
        "0 -0.031630 -1.867797  1.264133\n",
        "1 -0.135349 -0.957986 -0.054713\n",
        "2  0.337048 -0.383348 -1.991538\n",
        "3  1.009888 -0.779377 -1.481212\n",
        "4 -0.962852  0.129088 -0.010233\n",
        "5 -0.640262  0.848540  1.025306"
       ]
      }
     ],
     "prompt_number": 22
    },
    {
     "cell_type": "code",
     "collapsed": false,
     "input": [
      "df['D']=0.0"
     ],
     "language": "python",
     "metadata": {},
     "outputs": [],
     "prompt_number": 33
    },
    {
     "cell_type": "code",
     "collapsed": false,
     "input": [
      "key = 3*[1]+3*[2]"
     ],
     "language": "python",
     "metadata": {},
     "outputs": [],
     "prompt_number": 34
    },
    {
     "cell_type": "code",
     "collapsed": false,
     "input": [
      "df['key']=key\n",
      "df"
     ],
     "language": "python",
     "metadata": {},
     "outputs": [
      {
       "html": [
        "<div style=\"max-height:1000px;max-width:1500px;overflow:auto;\">\n",
        "<table border=\"1\" class=\"dataframe\">\n",
        "  <thead>\n",
        "    <tr style=\"text-align: right;\">\n",
        "      <th></th>\n",
        "      <th>A</th>\n",
        "      <th>B</th>\n",
        "      <th>C</th>\n",
        "      <th>D</th>\n",
        "      <th>key</th>\n",
        "    </tr>\n",
        "  </thead>\n",
        "  <tbody>\n",
        "    <tr>\n",
        "      <td><strong>0</strong></td>\n",
        "      <td>-0.031630</td>\n",
        "      <td>-1.867797</td>\n",
        "      <td> 1.264133</td>\n",
        "      <td> 0</td>\n",
        "      <td> 1</td>\n",
        "    </tr>\n",
        "    <tr>\n",
        "      <td><strong>1</strong></td>\n",
        "      <td>-0.135349</td>\n",
        "      <td>-0.957986</td>\n",
        "      <td>-0.054713</td>\n",
        "      <td> 0</td>\n",
        "      <td> 1</td>\n",
        "    </tr>\n",
        "    <tr>\n",
        "      <td><strong>2</strong></td>\n",
        "      <td> 0.337048</td>\n",
        "      <td>-0.383348</td>\n",
        "      <td>-1.991538</td>\n",
        "      <td> 0</td>\n",
        "      <td> 1</td>\n",
        "    </tr>\n",
        "    <tr>\n",
        "      <td><strong>3</strong></td>\n",
        "      <td> 1.009888</td>\n",
        "      <td>-0.779377</td>\n",
        "      <td>-1.481212</td>\n",
        "      <td> 0</td>\n",
        "      <td> 2</td>\n",
        "    </tr>\n",
        "    <tr>\n",
        "      <td><strong>4</strong></td>\n",
        "      <td>-0.962852</td>\n",
        "      <td> 0.129088</td>\n",
        "      <td>-0.010233</td>\n",
        "      <td> 0</td>\n",
        "      <td> 2</td>\n",
        "    </tr>\n",
        "    <tr>\n",
        "      <td><strong>5</strong></td>\n",
        "      <td>-0.640262</td>\n",
        "      <td> 0.848540</td>\n",
        "      <td> 1.025306</td>\n",
        "      <td> 0</td>\n",
        "      <td> 2</td>\n",
        "    </tr>\n",
        "  </tbody>\n",
        "</table>\n",
        "</div>"
       ],
       "output_type": "pyout",
       "prompt_number": 35,
       "text": [
        "          A         B         C  D  key\n",
        "0 -0.031630 -1.867797  1.264133  0    1\n",
        "1 -0.135349 -0.957986 -0.054713  0    1\n",
        "2  0.337048 -0.383348 -1.991538  0    1\n",
        "3  1.009888 -0.779377 -1.481212  0    2\n",
        "4 -0.962852  0.129088 -0.010233  0    2\n",
        "5 -0.640262  0.848540  1.025306  0    2"
       ]
      }
     ],
     "prompt_number": 35
    },
    {
     "cell_type": "raw",
     "metadata": {},
     "source": [
      "this doesn't work:"
     ]
    },
    {
     "cell_type": "code",
     "collapsed": false,
     "input": [
      "df[df.key==1]['D'] = 1\n",
      "df"
     ],
     "language": "python",
     "metadata": {},
     "outputs": [
      {
       "html": [
        "<div style=\"max-height:1000px;max-width:1500px;overflow:auto;\">\n",
        "<table border=\"1\" class=\"dataframe\">\n",
        "  <thead>\n",
        "    <tr style=\"text-align: right;\">\n",
        "      <th></th>\n",
        "      <th>A</th>\n",
        "      <th>B</th>\n",
        "      <th>C</th>\n",
        "      <th>D</th>\n",
        "      <th>key</th>\n",
        "    </tr>\n",
        "  </thead>\n",
        "  <tbody>\n",
        "    <tr>\n",
        "      <td><strong>0</strong></td>\n",
        "      <td>-0.031630</td>\n",
        "      <td>-1.867797</td>\n",
        "      <td> 1.264133</td>\n",
        "      <td> 0</td>\n",
        "      <td> 1</td>\n",
        "    </tr>\n",
        "    <tr>\n",
        "      <td><strong>1</strong></td>\n",
        "      <td>-0.135349</td>\n",
        "      <td>-0.957986</td>\n",
        "      <td>-0.054713</td>\n",
        "      <td> 0</td>\n",
        "      <td> 1</td>\n",
        "    </tr>\n",
        "    <tr>\n",
        "      <td><strong>2</strong></td>\n",
        "      <td> 0.337048</td>\n",
        "      <td>-0.383348</td>\n",
        "      <td>-1.991538</td>\n",
        "      <td> 0</td>\n",
        "      <td> 1</td>\n",
        "    </tr>\n",
        "    <tr>\n",
        "      <td><strong>3</strong></td>\n",
        "      <td> 1.009888</td>\n",
        "      <td>-0.779377</td>\n",
        "      <td>-1.481212</td>\n",
        "      <td> 0</td>\n",
        "      <td> 2</td>\n",
        "    </tr>\n",
        "    <tr>\n",
        "      <td><strong>4</strong></td>\n",
        "      <td>-0.962852</td>\n",
        "      <td> 0.129088</td>\n",
        "      <td>-0.010233</td>\n",
        "      <td> 0</td>\n",
        "      <td> 2</td>\n",
        "    </tr>\n",
        "    <tr>\n",
        "      <td><strong>5</strong></td>\n",
        "      <td>-0.640262</td>\n",
        "      <td> 0.848540</td>\n",
        "      <td> 1.025306</td>\n",
        "      <td> 0</td>\n",
        "      <td> 2</td>\n",
        "    </tr>\n",
        "  </tbody>\n",
        "</table>\n",
        "</div>"
       ],
       "output_type": "pyout",
       "prompt_number": 36,
       "text": [
        "          A         B         C  D  key\n",
        "0 -0.031630 -1.867797  1.264133  0    1\n",
        "1 -0.135349 -0.957986 -0.054713  0    1\n",
        "2  0.337048 -0.383348 -1.991538  0    1\n",
        "3  1.009888 -0.779377 -1.481212  0    2\n",
        "4 -0.962852  0.129088 -0.010233  0    2\n",
        "5 -0.640262  0.848540  1.025306  0    2"
       ]
      }
     ],
     "prompt_number": 36
    },
    {
     "cell_type": "raw",
     "metadata": {},
     "source": [
      "this does: (why only this way?)"
     ]
    },
    {
     "cell_type": "code",
     "collapsed": false,
     "input": [
      "df.D[df.key==1]=3.4\n",
      "df"
     ],
     "language": "python",
     "metadata": {},
     "outputs": [
      {
       "html": [
        "<div style=\"max-height:1000px;max-width:1500px;overflow:auto;\">\n",
        "<table border=\"1\" class=\"dataframe\">\n",
        "  <thead>\n",
        "    <tr style=\"text-align: right;\">\n",
        "      <th></th>\n",
        "      <th>A</th>\n",
        "      <th>B</th>\n",
        "      <th>C</th>\n",
        "      <th>D</th>\n",
        "      <th>key</th>\n",
        "    </tr>\n",
        "  </thead>\n",
        "  <tbody>\n",
        "    <tr>\n",
        "      <td><strong>0</strong></td>\n",
        "      <td>-0.031630</td>\n",
        "      <td>-1.867797</td>\n",
        "      <td> 1.264133</td>\n",
        "      <td> 3.4</td>\n",
        "      <td> 1</td>\n",
        "    </tr>\n",
        "    <tr>\n",
        "      <td><strong>1</strong></td>\n",
        "      <td>-0.135349</td>\n",
        "      <td>-0.957986</td>\n",
        "      <td>-0.054713</td>\n",
        "      <td> 3.4</td>\n",
        "      <td> 1</td>\n",
        "    </tr>\n",
        "    <tr>\n",
        "      <td><strong>2</strong></td>\n",
        "      <td> 0.337048</td>\n",
        "      <td>-0.383348</td>\n",
        "      <td>-1.991538</td>\n",
        "      <td> 3.4</td>\n",
        "      <td> 1</td>\n",
        "    </tr>\n",
        "    <tr>\n",
        "      <td><strong>3</strong></td>\n",
        "      <td> 1.009888</td>\n",
        "      <td>-0.779377</td>\n",
        "      <td>-1.481212</td>\n",
        "      <td> 0.0</td>\n",
        "      <td> 2</td>\n",
        "    </tr>\n",
        "    <tr>\n",
        "      <td><strong>4</strong></td>\n",
        "      <td>-0.962852</td>\n",
        "      <td> 0.129088</td>\n",
        "      <td>-0.010233</td>\n",
        "      <td> 0.0</td>\n",
        "      <td> 2</td>\n",
        "    </tr>\n",
        "    <tr>\n",
        "      <td><strong>5</strong></td>\n",
        "      <td>-0.640262</td>\n",
        "      <td> 0.848540</td>\n",
        "      <td> 1.025306</td>\n",
        "      <td> 0.0</td>\n",
        "      <td> 2</td>\n",
        "    </tr>\n",
        "  </tbody>\n",
        "</table>\n",
        "</div>"
       ],
       "output_type": "pyout",
       "prompt_number": 39,
       "text": [
        "          A         B         C    D  key\n",
        "0 -0.031630 -1.867797  1.264133  3.4    1\n",
        "1 -0.135349 -0.957986 -0.054713  3.4    1\n",
        "2  0.337048 -0.383348 -1.991538  3.4    1\n",
        "3  1.009888 -0.779377 -1.481212  0.0    2\n",
        "4 -0.962852  0.129088 -0.010233  0.0    2\n",
        "5 -0.640262  0.848540  1.025306  0.0    2"
       ]
      }
     ],
     "prompt_number": 39
    },
    {
     "cell_type": "code",
     "collapsed": false,
     "input": [
      "df.D[df.key==1]"
     ],
     "language": "python",
     "metadata": {},
     "outputs": [
      {
       "output_type": "pyout",
       "prompt_number": 40,
       "text": [
        "0    3.4\n",
        "1    3.4\n",
        "2    3.4\n",
        "Name: D"
       ]
      }
     ],
     "prompt_number": 40
    },
    {
     "cell_type": "code",
     "collapsed": false,
     "input": [
      "df[df.key==1].D"
     ],
     "language": "python",
     "metadata": {},
     "outputs": [
      {
       "output_type": "pyout",
       "prompt_number": 41,
       "text": [
        "0    3.4\n",
        "1    3.4\n",
        "2    3.4\n",
        "Name: D"
       ]
      }
     ],
     "prompt_number": 41
    },
    {
     "cell_type": "code",
     "collapsed": false,
     "input": [
      "df.D is df['D']"
     ],
     "language": "python",
     "metadata": {},
     "outputs": [
      {
       "output_type": "pyout",
       "prompt_number": 42,
       "text": [
        "True"
       ]
      }
     ],
     "prompt_number": 42
    },
    {
     "cell_type": "code",
     "collapsed": false,
     "input": [
      "df.D[df.key==1] is df[df.key==1].D"
     ],
     "language": "python",
     "metadata": {},
     "outputs": [
      {
       "output_type": "pyout",
       "prompt_number": 43,
       "text": [
        "False"
       ]
      }
     ],
     "prompt_number": 43
    },
    {
     "cell_type": "code",
     "collapsed": false,
     "input": [],
     "language": "python",
     "metadata": {},
     "outputs": []
    }
   ],
   "metadata": {}
  }
 ]
}