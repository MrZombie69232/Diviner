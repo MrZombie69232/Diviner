{
 "metadata": {
  "name": "Div database"
 },
 "nbformat": 3,
 "nbformat_minor": 0,
 "worksheets": [
  {
   "cells": [
    {
     "cell_type": "code",
     "collapsed": false,
     "input": [
      "import pandas as pd\n",
      "from create_database import get_div247_dtypes,define_sdtype,prepare_data\n",
      "import diviner as div\n",
      "from calib import CalibBlock, get_blocks"
     ],
     "language": "python",
     "metadata": {},
     "outputs": [
      {
       "ename": "ImportError",
       "evalue": "/u/paige/maye/lib/python2.7/site-packages/scipy/linalg/fblas.so: undefined symbol: _gfortran_st_write_done",
       "output_type": "pyerr",
       "traceback": [
        "\u001b[1;31m---------------------------------------------------------------------------\u001b[0m\n\u001b[1;31mImportError\u001b[0m                               Traceback (most recent call last)",
        "\u001b[1;32m<ipython-input-2-ea4622cd882c>\u001b[0m in \u001b[0;36m<module>\u001b[1;34m()\u001b[0m\n\u001b[0;32m      2\u001b[0m \u001b[1;32mfrom\u001b[0m \u001b[0mcreate_database\u001b[0m \u001b[1;32mimport\u001b[0m \u001b[0mget_div247_dtypes\u001b[0m\u001b[1;33m,\u001b[0m\u001b[0mdefine_sdtype\u001b[0m\u001b[1;33m,\u001b[0m\u001b[0mprepare_data\u001b[0m\u001b[1;33m\u001b[0m\u001b[0m\n\u001b[0;32m      3\u001b[0m \u001b[1;32mimport\u001b[0m \u001b[0mdiviner\u001b[0m \u001b[1;32mas\u001b[0m \u001b[0mdiv\u001b[0m\u001b[1;33m\u001b[0m\u001b[0m\n\u001b[1;32m----> 4\u001b[1;33m \u001b[1;32mfrom\u001b[0m \u001b[0mcalib\u001b[0m \u001b[1;32mimport\u001b[0m \u001b[0mCalibBlock\u001b[0m\u001b[1;33m,\u001b[0m \u001b[0mget_blocks\u001b[0m\u001b[1;33m\u001b[0m\u001b[0m\n\u001b[0m",
        "\u001b[1;32m/luna1/maye/src/diviner/calib.py\u001b[0m in \u001b[0;36m<module>\u001b[1;34m()\u001b[0m\n\u001b[0;32m      4\u001b[0m \u001b[1;32mimport\u001b[0m \u001b[0mnumpy\u001b[0m \u001b[1;32mas\u001b[0m \u001b[0mnp\u001b[0m\u001b[1;33m\u001b[0m\u001b[0m\n\u001b[0;32m      5\u001b[0m \u001b[1;32mfrom\u001b[0m \u001b[0mscipy\u001b[0m \u001b[1;32mimport\u001b[0m \u001b[0mndimage\u001b[0m \u001b[1;32mas\u001b[0m \u001b[0mnd\u001b[0m\u001b[1;33m\u001b[0m\u001b[0m\n\u001b[1;32m----> 6\u001b[1;33m \u001b[1;32mfrom\u001b[0m \u001b[0mscipy\u001b[0m\u001b[1;33m.\u001b[0m\u001b[0minterpolate\u001b[0m \u001b[1;32mimport\u001b[0m \u001b[0mUnivariateSpline\u001b[0m \u001b[1;32mas\u001b[0m \u001b[0mInterpSpline\u001b[0m\u001b[1;33m\u001b[0m\u001b[0m\n\u001b[0m\u001b[0;32m      7\u001b[0m \u001b[1;32mimport\u001b[0m \u001b[0mdiviner\u001b[0m \u001b[1;32mas\u001b[0m \u001b[0mdiv\u001b[0m\u001b[1;33m\u001b[0m\u001b[0m\n\u001b[0;32m      8\u001b[0m \u001b[1;32mfrom\u001b[0m \u001b[0mdivconstants\u001b[0m \u001b[1;32mimport\u001b[0m \u001b[1;33m*\u001b[0m\u001b[1;33m\u001b[0m\u001b[0m\n",
        "\u001b[1;32m/u/paige/maye/lib/python2.7/site-packages/scipy/interpolate/__init__.py\u001b[0m in \u001b[0;36m<module>\u001b[1;34m()\u001b[0m\n\u001b[0;32m    150\u001b[0m \u001b[1;32mfrom\u001b[0m \u001b[0mfitpack2\u001b[0m \u001b[1;32mimport\u001b[0m \u001b[1;33m*\u001b[0m\u001b[1;33m\u001b[0m\u001b[0m\n\u001b[0;32m    151\u001b[0m \u001b[1;33m\u001b[0m\u001b[0m\n\u001b[1;32m--> 152\u001b[1;33m \u001b[1;32mfrom\u001b[0m \u001b[0mrbf\u001b[0m \u001b[1;32mimport\u001b[0m \u001b[0mRbf\u001b[0m\u001b[1;33m\u001b[0m\u001b[0m\n\u001b[0m\u001b[0;32m    153\u001b[0m \u001b[1;33m\u001b[0m\u001b[0m\n\u001b[0;32m    154\u001b[0m \u001b[1;32mfrom\u001b[0m \u001b[0mpolyint\u001b[0m \u001b[1;32mimport\u001b[0m \u001b[1;33m*\u001b[0m\u001b[1;33m\u001b[0m\u001b[0m\n",
        "\u001b[1;32m/u/paige/maye/lib/python2.7/site-packages/scipy/interpolate/rbf.py\u001b[0m in \u001b[0;36m<module>\u001b[1;34m()\u001b[0m\n\u001b[0;32m     47\u001b[0m from numpy import (sqrt, log, asarray, newaxis, all, dot, exp, eye,\n\u001b[0;32m     48\u001b[0m                    float_)\n\u001b[1;32m---> 49\u001b[1;33m \u001b[1;32mfrom\u001b[0m \u001b[0mscipy\u001b[0m \u001b[1;32mimport\u001b[0m \u001b[0mlinalg\u001b[0m\u001b[1;33m\u001b[0m\u001b[0m\n\u001b[0m\u001b[0;32m     50\u001b[0m \u001b[1;33m\u001b[0m\u001b[0m\n\u001b[0;32m     51\u001b[0m \u001b[0m__all__\u001b[0m \u001b[1;33m=\u001b[0m \u001b[1;33m[\u001b[0m\u001b[1;34m'Rbf'\u001b[0m\u001b[1;33m]\u001b[0m\u001b[1;33m\u001b[0m\u001b[0m\n",
        "\u001b[1;32m/u/paige/maye/lib/python2.7/site-packages/scipy/linalg/__init__.py\u001b[0m in \u001b[0;36m<module>\u001b[1;34m()\u001b[0m\n\u001b[0;32m    113\u001b[0m \u001b[1;32mfrom\u001b[0m \u001b[0mlinalg_version\u001b[0m \u001b[1;32mimport\u001b[0m \u001b[0mlinalg_version\u001b[0m \u001b[1;32mas\u001b[0m \u001b[0m__version__\u001b[0m\u001b[1;33m\u001b[0m\u001b[0m\n\u001b[0;32m    114\u001b[0m \u001b[1;33m\u001b[0m\u001b[0m\n\u001b[1;32m--> 115\u001b[1;33m \u001b[1;32mfrom\u001b[0m \u001b[0mmisc\u001b[0m \u001b[1;32mimport\u001b[0m \u001b[1;33m*\u001b[0m\u001b[1;33m\u001b[0m\u001b[0m\n\u001b[0m\u001b[0;32m    116\u001b[0m \u001b[1;32mfrom\u001b[0m \u001b[0mbasic\u001b[0m \u001b[1;32mimport\u001b[0m \u001b[1;33m*\u001b[0m\u001b[1;33m\u001b[0m\u001b[0m\n\u001b[0;32m    117\u001b[0m \u001b[1;32mfrom\u001b[0m \u001b[0mdecomp\u001b[0m \u001b[1;32mimport\u001b[0m \u001b[1;33m*\u001b[0m\u001b[1;33m\u001b[0m\u001b[0m\n",
        "\u001b[1;32m/u/paige/maye/lib/python2.7/site-packages/scipy/linalg/misc.py\u001b[0m in \u001b[0;36m<module>\u001b[1;34m()\u001b[0m\n\u001b[0;32m      1\u001b[0m \u001b[1;32mimport\u001b[0m \u001b[0mnumpy\u001b[0m \u001b[1;32mas\u001b[0m \u001b[0mnp\u001b[0m\u001b[1;33m\u001b[0m\u001b[0m\n\u001b[0;32m      2\u001b[0m \u001b[1;32mfrom\u001b[0m \u001b[0mnumpy\u001b[0m\u001b[1;33m.\u001b[0m\u001b[0mlinalg\u001b[0m \u001b[1;32mimport\u001b[0m \u001b[0mLinAlgError\u001b[0m\u001b[1;33m\u001b[0m\u001b[0m\n\u001b[1;32m----> 3\u001b[1;33m \u001b[1;32mimport\u001b[0m \u001b[0mfblas\u001b[0m\u001b[1;33m\u001b[0m\u001b[0m\n\u001b[0m\u001b[0;32m      4\u001b[0m \u001b[1;33m\u001b[0m\u001b[0m\n\u001b[0;32m      5\u001b[0m \u001b[0m__all__\u001b[0m \u001b[1;33m=\u001b[0m \u001b[1;33m[\u001b[0m\u001b[1;34m'LinAlgError'\u001b[0m\u001b[1;33m,\u001b[0m \u001b[1;34m'norm'\u001b[0m\u001b[1;33m]\u001b[0m\u001b[1;33m\u001b[0m\u001b[0m\n",
        "\u001b[1;31mImportError\u001b[0m: /u/paige/maye/lib/python2.7/site-packages/scipy/linalg/fblas.so: undefined symbol: _gfortran_st_write_done"
       ]
      }
     ],
     "prompt_number": 2
    },
    {
     "cell_type": "code",
     "collapsed": false,
     "input": [
      "cd /s3/marks/div247/"
     ],
     "language": "python",
     "metadata": {},
     "outputs": [
      {
       "output_type": "stream",
       "stream": "stdout",
       "text": [
        "/s3/marks/div247\n"
       ]
      }
     ],
     "prompt_number": 1
    },
    {
     "cell_type": "code",
     "collapsed": false,
     "input": [
      "ls"
     ],
     "language": "python",
     "metadata": {},
     "outputs": [
      {
       "output_type": "stream",
       "stream": "stdout",
       "text": [
        "\u001b[34m201101\u001b[m\u001b[m/     \u001b[34m201103\u001b[m\u001b[m/     \u001b[34m201105\u001b[m\u001b[m/     \u001b[34m201107\u001b[m\u001b[m/     \u001b[34m201109\u001b[m\u001b[m/     \u001b[34m201111\u001b[m\u001b[m/     div247.des\r\n",
        "201101.h5   201103.h5   201105.h5   201107.h5   201109.h5   201111.h5\r\n",
        "\u001b[34m201102\u001b[m\u001b[m/     \u001b[34m201104\u001b[m\u001b[m/     \u001b[34m201106\u001b[m\u001b[m/     \u001b[34m201108\u001b[m\u001b[m/     \u001b[34m201110\u001b[m\u001b[m/     \u001b[34m201112\u001b[m\u001b[m/\r\n",
        "201102.h5   201104.h5   201106.h5   201108.h5   201110.h5   201112.h5\r\n"
       ]
      }
     ],
     "prompt_number": 4
    },
    {
     "cell_type": "code",
     "collapsed": false,
     "input": [
      "store = pd.HDFStore('201101.h5','r')"
     ],
     "language": "python",
     "metadata": {},
     "outputs": [],
     "prompt_number": 5
    },
    {
     "cell_type": "code",
     "collapsed": false,
     "input": [
      "df = store.select('df')"
     ],
     "language": "python",
     "metadata": {},
     "outputs": [],
     "prompt_number": 9
    },
    {
     "cell_type": "code",
     "collapsed": false,
     "input": [
      "df.columns"
     ],
     "language": "python",
     "metadata": {},
     "outputs": [
      {
       "output_type": "pyout",
       "prompt_number": 10,
       "text": [
        "Index([sclk, sounding, from_pkt, pkt_count, safing, safed, freezing, frozen, rolling, dumping, moving, temp_fault, sc_time_secs, sc_time_subs, ticks_pkt_start, ticks_at_sc_time, ost_index, est_index, sst_index, last_az_cmd, last_el_cmd, fpa_temp, fpb_temp, baffle_a_temp, baffle_b_temp, bb_1_temp, oba_1_temp, error_time, error_id, error_count, commands_received, commands_executed, commands_rejected, last_time_command, last_eqx_prediction, hybrid_temp, fpa_temp_cyc, fpb_temp_cyc, baffle_a_temp_cyc, baffle_b_temp_cyc, oba_1_temp_cyc, oba_2_temp, bb_1_temp_cyc, bb_2_temp, solar_target_temp, yoke_temp, el_actuator_temp, az_actuator_temp, min_15v, plu_15v, solar_base_temp, plu_5v, a1_01, a1_02, a1_03, a1_04, a1_05, a1_06, a1_07, a1_08, a1_09, a1_10, a1_11, a1_12, a1_13, a1_14, a1_15, a1_16, a1_17, a1_18, a1_19, a1_20, a1_21, a2_01, a2_02, a2_03, a2_04, a2_05, a2_06, a2_07, a2_08, a2_09, a2_10, a2_11, a2_12, a2_13, a2_14, a2_15, a2_16, a2_17, a2_18, a2_19, a2_20, a2_21, a3_01, a3_02, a3_03, a3_04, a3_05, a3_06, a3_07, a3_08, a3_09, a3_10, a3_11, a3_12, a3_13, a3_14, a3_15, a3_16, a3_17, a3_18, a3_19, a3_20, a3_21, a4_01, a4_02, a4_03, a4_04, a4_05, a4_06, a4_07, a4_08, a4_09, a4_10, a4_11, a4_12, a4_13, a4_14, a4_15, a4_16, a4_17, a4_18, a4_19, a4_20, a4_21, a5_01, a5_02, a5_03, a5_04, a5_05, a5_06, a5_07, a5_08, a5_09, a5_10, a5_11, a5_12, a5_13, a5_14, a5_15, a5_16, a5_17, a5_18, a5_19, a5_20, a5_21, a6_01, a6_02, a6_03, a6_04, a6_05, a6_06, a6_07, a6_08, a6_09, a6_10, a6_11, a6_12, a6_13, a6_14, a6_15, a6_16, a6_17, a6_18, a6_19, a6_20, a6_21, b1_01, b1_02, b1_03, b1_04, b1_05, b1_06, b1_07, b1_08, b1_09, b1_10, b1_11, b1_12, b1_13, b1_14, b1_15, b1_16, b1_17, b1_18, b1_19, b1_20, b1_21, b2_01, b2_02, b2_03, b2_04, b2_05, b2_06, b2_07, b2_08, b2_09, b2_10, b2_11, b2_12, b2_13, b2_14, b2_15, b2_16, b2_17, b2_18, b2_19, b2_20, b2_21, b3_01, b3_02, b3_03, b3_04, b3_05, b3_06, b3_07, b3_08, b3_09, b3_10, b3_11, b3_12, b3_13, b3_14, b3_15, b3_16, b3_17, b3_18, b3_19, b3_20, b3_21, sdtype, calib_block_labels, is_spaceview, is_bbview, is_stview, is_moving, is_calib, sv_block_labels, bb_block_labels], dtype=object)"
       ]
      }
     ],
     "prompt_number": 10
    },
    {
     "cell_type": "code",
     "collapsed": false,
     "input": [
      "spaceviews = get_blocks(df,'sv')"
     ],
     "language": "python",
     "metadata": {},
     "outputs": [],
     "prompt_number": 13
    },
    {
     "cell_type": "code",
     "collapsed": false,
     "input": [
      "bbviews = get_blocks(df,'bb')"
     ],
     "language": "python",
     "metadata": {},
     "outputs": [],
     "prompt_number": 14
    },
    {
     "cell_type": "code",
     "collapsed": false,
     "input": [
      "bbviews.keys()"
     ],
     "language": "python",
     "metadata": {},
     "outputs": [
      {
       "output_type": "pyout",
       "prompt_number": 16,
       "text": [
        "[1, 2, 3, 4, 5, 6, 7, 8]"
       ]
      }
     ],
     "prompt_number": 16
    },
    {
     "cell_type": "code",
     "collapsed": false,
     "input": [
      "df.sdtype.plot(style='*')"
     ],
     "language": "python",
     "metadata": {},
     "outputs": [
      {
       "output_type": "pyout",
       "prompt_number": 17,
       "text": [
        "<matplotlib.axes.AxesSubplot at 0x118cbf250>"
       ]
      }
     ],
     "prompt_number": 17
    },
    {
     "cell_type": "code",
     "collapsed": false,
     "input": [
      "calib_blocks = get_blocks(df,'calib')"
     ],
     "language": "python",
     "metadata": {},
     "outputs": [],
     "prompt_number": 18
    },
    {
     "cell_type": "code",
     "collapsed": false,
     "input": [
      "calib_blocks.keys()"
     ],
     "language": "python",
     "metadata": {},
     "outputs": [
      {
       "output_type": "pyout",
       "prompt_number": 19,
       "text": [
        "[1, 2, 3, 4, 5, 6, 7, 8, 9, 10, 11]"
       ]
      }
     ],
     "prompt_number": 19
    },
    {
     "cell_type": "code",
     "collapsed": false,
     "input": [
      "calibs = dict(list(df.groupby('calib_block_labels')))"
     ],
     "language": "python",
     "metadata": {},
     "outputs": [],
     "prompt_number": 22
    },
    {
     "cell_type": "code",
     "collapsed": false,
     "input": [
      "df.calib_block_labels.value_counts()"
     ],
     "language": "python",
     "metadata": {},
     "outputs": [
      {
       "output_type": "pyout",
       "prompt_number": 28,
       "text": [
        "1     519232\n",
        "2     277248\n",
        "4     184112\n",
        "3     176096\n",
        "6     167360\n",
        "5     158656\n",
        "7      79856\n",
        "0      30800\n",
        "8      22944\n",
        "9       7440\n",
        "10       480\n",
        "11       288"
       ]
      }
     ],
     "prompt_number": 28
    },
    {
     "cell_type": "code",
     "collapsed": false,
     "input": [
      "df.irow(0)"
     ],
     "language": "python",
     "metadata": {},
     "outputs": [
      {
       "output_type": "pyout",
       "prompt_number": 30,
       "text": [
        "sclk               3.15533e+08\n",
        "sounding                     1\n",
        "from_pkt                 13985\n",
        "pkt_count                  NaN\n",
        "safing                     NaN\n",
        "safed                      NaN\n",
        "freezing                   NaN\n",
        "frozen                     NaN\n",
        "rolling                    NaN\n",
        "dumping                    NaN\n",
        "moving                       0\n",
        "temp_fault                 NaN\n",
        "sc_time_secs               NaN\n",
        "sc_time_subs               NaN\n",
        "ticks_pkt_start            NaN\n",
        "...\n",
        "b3_16                 27699\n",
        "b3_17                 27699\n",
        "b3_18                 27675\n",
        "b3_19                 27698\n",
        "b3_20                 27719\n",
        "b3_21                 27686\n",
        "sdtype                    1\n",
        "calib_block_labels        1\n",
        "is_spaceview           True\n",
        "is_bbview             False\n",
        "is_stview             False\n",
        "is_moving             False\n",
        "is_calib               True\n",
        "sv_block_labels           1\n",
        "bb_block_labels           0\n",
        "Name: 2011-01-01 00:04:01.326000, Length: 250"
       ]
      }
     ],
     "prompt_number": 30
    },
    {
     "cell_type": "code",
     "collapsed": false,
     "input": [],
     "language": "python",
     "metadata": {},
     "outputs": []
    }
   ],
   "metadata": {}
  }
 ]
}