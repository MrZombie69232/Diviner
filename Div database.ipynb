{
 "metadata": {
  "name": "Div database"
 },
 "nbformat": 3,
 "nbformat_minor": 0,
 "worksheets": [
  {
   "cells": [
    {
     "cell_type": "code",
     "collapsed": false,
     "input": [
      "import pandas as pd"
     ],
     "language": "python",
     "metadata": {},
     "outputs": [],
     "prompt_number": 1
    },
    {
     "cell_type": "code",
     "collapsed": false,
     "input": [
      "cd ~/data/diviner/div247/"
     ],
     "language": "python",
     "metadata": {},
     "outputs": [
      {
       "output_type": "stream",
       "stream": "stdout",
       "text": [
        "/Users/maye/data/diviner/div247\n"
       ]
      }
     ],
     "prompt_number": 2
    },
    {
     "cell_type": "code",
     "collapsed": false,
     "input": [
      "ls"
     ],
     "language": "python",
     "metadata": {},
     "outputs": [
      {
       "output_type": "stream",
       "stream": "stdout",
       "text": [
        "\u001b[34m201104\u001b[m\u001b[m/     201104.h5   div247.des\r\n"
       ]
      }
     ],
     "prompt_number": 3
    },
    {
     "cell_type": "code",
     "collapsed": false,
     "input": [
      "store = pd.HDFStore('201104.h5')"
     ],
     "language": "python",
     "metadata": {},
     "outputs": [],
     "prompt_number": 37
    },
    {
     "cell_type": "code",
     "collapsed": false,
     "input": [
      "from pandas import Term"
     ],
     "language": "python",
     "metadata": {},
     "outputs": [],
     "prompt_number": 15
    },
    {
     "cell_type": "code",
     "collapsed": false,
     "input": [
      "store.root.df.table"
     ],
     "language": "python",
     "metadata": {},
     "outputs": [
      {
       "output_type": "pyout",
       "prompt_number": 38,
       "text": [
        "/df/table (Table(618704,)) ''\n",
        "  description := {\n",
        "  \"index\": Int64Col(shape=(), dflt=0, pos=0),\n",
        "  \"values_block_0\": Float64Col(shape=(241,), dflt=0.0, pos=1)}\n",
        "  byteorder := 'little'\n",
        "  chunkshape := (67,)\n",
        "  autoIndex := True\n",
        "  colindexes := {\n",
        "    \"index\": Index(6, medium, shuffle, zlib(1)).is_CSI=False}"
       ]
      }
     ],
     "prompt_number": 38
    },
    {
     "cell_type": "code",
     "collapsed": false,
     "input": [
      "store.close()"
     ],
     "language": "python",
     "metadata": {},
     "outputs": [],
     "prompt_number": 40
    },
    {
     "cell_type": "code",
     "collapsed": false,
     "input": [
      "store.select('df')['moving'].value_counts()"
     ],
     "language": "python",
     "metadata": {},
     "outputs": [
      {
       "output_type": "pyout",
       "prompt_number": 39,
       "text": [
        "2011-04-01 00:00:01.978000     0\n",
        "2011-04-01 00:00:02.105999   NaN\n",
        "2011-04-01 00:00:02.234000   NaN\n",
        "2011-04-01 00:00:02.362000   NaN\n",
        "2011-04-01 00:00:02.490000   NaN\n",
        "2011-04-01 00:00:02.617999   NaN\n",
        "2011-04-01 00:00:02.746000   NaN\n",
        "2011-04-01 00:00:02.874000   NaN\n",
        "2011-04-01 00:00:03.001999   NaN\n",
        "2011-04-01 00:00:03.129999   NaN\n",
        "2011-04-01 00:00:03.258000   NaN\n",
        "2011-04-01 00:00:03.386000   NaN\n",
        "2011-04-01 00:00:03.513999   NaN\n",
        "2011-04-01 00:00:03.641999   NaN\n",
        "2011-04-01 00:00:03.770000   NaN\n",
        "...\n",
        "2011-04-01 09:59:58.375999   NaN\n",
        "2011-04-01 09:59:58.503999   NaN\n",
        "2011-04-01 09:59:58.631999   NaN\n",
        "2011-04-01 09:59:58.759999   NaN\n",
        "2011-04-01 09:59:58.887999   NaN\n",
        "2011-04-01 09:59:59.015999   NaN\n",
        "2011-04-01 09:59:59.143999   NaN\n",
        "2011-04-01 09:59:59.271999   NaN\n",
        "2011-04-01 09:59:59.399999   NaN\n",
        "2011-04-01 09:59:59.527999   NaN\n",
        "2011-04-01 09:59:59.655999   NaN\n",
        "2011-04-01 09:59:59.783999   NaN\n",
        "2011-04-01 09:59:59.911999   NaN\n",
        "2011-04-01 10:00:00.040000   NaN\n",
        "2011-04-01 10:00:00.168000   NaN\n",
        "Name: moving, Length: 618704"
       ]
      }
     ],
     "prompt_number": 39
    },
    {
     "cell_type": "code",
     "collapsed": false,
     "input": [],
     "language": "python",
     "metadata": {},
     "outputs": []
    }
   ],
   "metadata": {}
  }
 ]
}