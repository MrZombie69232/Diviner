{
 "metadata": {
  "name": "DivCalib"
 },
 "nbformat": 3,
 "nbformat_minor": 0,
 "worksheets": [
  {
   "cells": [
    {
     "cell_type": "code",
     "collapsed": false,
     "input": [
      "import pandas as pd\n",
      "import diviner as div\n",
      "import calib as c\n",
      "import sys\n",
      "from scipy import ndimage as nd\n",
      "reload(c)"
     ],
     "language": "python",
     "metadata": {},
     "outputs": [
      {
       "output_type": "pyout",
       "prompt_number": 1,
       "text": [
        "<module 'calib' from 'calib.pyc'>"
       ]
      }
     ],
     "prompt_number": 1
    },
    {
     "cell_type": "code",
     "collapsed": false,
     "input": [
      "if sys.platform == 'darwin':\n",
      "    bigdf = div.read_div_data(\"./df_by_2.h5\")\n",
      "else:\n",
      "    bigdf = div.read_div_data('/luna1/maye/2009072000.h5')"
     ],
     "language": "python",
     "metadata": {},
     "outputs": [],
     "prompt_number": 2
    },
    {
     "cell_type": "code",
     "collapsed": false,
     "input": [
      "divcal = c.DivCalib(bigdf)"
     ],
     "language": "python",
     "metadata": {},
     "outputs": [],
     "prompt_number": 3
    },
    {
     "cell_type": "code",
     "collapsed": false,
     "input": [
      "divcal.df.columns"
     ],
     "language": "python",
     "metadata": {},
     "outputs": [
      {
       "output_type": "pyout",
       "prompt_number": 4,
       "text": [
        "Index([counts, bb_1_temp_interp, bb_2_temp_interp, nrad, sdtype, calib_block_labels, is_spaceview, is_bbview, is_stview, is_moving, is_calib, sv_block_labels, bb_block_labels], dtype=object)"
       ]
      }
     ],
     "prompt_number": 4
    },
    {
     "cell_type": "code",
     "collapsed": false,
     "input": [
      "df = divcal.df"
     ],
     "language": "python",
     "metadata": {},
     "outputs": [],
     "prompt_number": 5
    },
    {
     "cell_type": "markdown",
     "metadata": {},
     "source": [
      "### take care: the calib_blocks are in divcal, not in divcal.df"
     ]
    },
    {
     "cell_type": "code",
     "collapsed": false,
     "input": [
      "divcal.calib_blocks.keys()"
     ],
     "language": "python",
     "metadata": {},
     "outputs": [
      {
       "output_type": "pyout",
       "prompt_number": 6,
       "text": [
        "[1, 2, 3, 4]"
       ]
      }
     ],
     "prompt_number": 6
    },
    {
     "cell_type": "code",
     "collapsed": false,
     "input": [
      "block1 = divcal.calib_blocks[1]"
     ],
     "language": "python",
     "metadata": {},
     "outputs": [],
     "prompt_number": 7
    },
    {
     "cell_type": "code",
     "collapsed": false,
     "input": [
      "reload(c)"
     ],
     "language": "python",
     "metadata": {},
     "outputs": [
      {
       "output_type": "pyout",
       "prompt_number": 47,
       "text": [
        "<module 'calib' from 'calib.py'>"
       ]
      }
     ],
     "prompt_number": 47
    },
    {
     "cell_type": "code",
     "collapsed": false,
     "input": [
      "cblock = c.CalibBlock(block1)"
     ],
     "language": "python",
     "metadata": {},
     "outputs": [],
     "prompt_number": 48
    },
    {
     "cell_type": "code",
     "collapsed": false,
     "input": [
      "cblock.left_sv.start_time"
     ],
     "language": "python",
     "metadata": {},
     "outputs": [
      {
       "output_type": "pyout",
       "prompt_number": 49,
       "text": [
        "<Timestamp: 2009-07-20 00:02:47.215000>"
       ]
      }
     ],
     "prompt_number": 49
    },
    {
     "cell_type": "code",
     "collapsed": false,
     "input": [
      "cblock.right_sv.start_time"
     ],
     "language": "python",
     "metadata": {},
     "outputs": [
      {
       "output_type": "pyout",
       "prompt_number": 50,
       "text": [
        "<Timestamp: 2009-07-20 00:03:15.887999>"
       ]
      }
     ],
     "prompt_number": 50
    },
    {
     "cell_type": "code",
     "collapsed": false,
     "input": [
      "cblock.left_sv.end_time"
     ],
     "language": "python",
     "metadata": {},
     "outputs": [
      {
       "output_type": "pyout",
       "prompt_number": 51,
       "text": [
        "<Timestamp: 2009-07-20 00:02:57.328000>"
       ]
      }
     ],
     "prompt_number": 51
    },
    {
     "cell_type": "code",
     "collapsed": false,
     "input": [
      "cblock.left_sv.counts.index.names"
     ],
     "language": "python",
     "metadata": {},
     "outputs": [
      {
       "output_type": "pyout",
       "prompt_number": 52,
       "text": [
        "['c', 'det', 'time']"
       ]
      }
     ],
     "prompt_number": 52
    },
    {
     "cell_type": "code",
     "collapsed": false,
     "input": [
      "counts = cblock.left_sv.counts\n",
      "counts.head()"
     ],
     "language": "python",
     "metadata": {},
     "outputs": [
      {
       "output_type": "pyout",
       "prompt_number": 58,
       "text": [
        "c  det  time                      \n",
        "1  1    2009-07-20 00:02:47.215000    22211\n",
        "        2009-07-20 00:02:47.344000    22210\n",
        "        2009-07-20 00:02:47.472000    22210\n",
        "        2009-07-20 00:02:47.600000    22213\n",
        "        2009-07-20 00:02:47.728000    22203\n",
        "Name: counts"
       ]
      }
     ],
     "prompt_number": 58
    },
    {
     "cell_type": "code",
     "collapsed": false,
     "input": [
      "cblock.left_sv.get_simple_mean().head()"
     ],
     "language": "python",
     "metadata": {},
     "outputs": [
      {
       "output_type": "pyout",
       "prompt_number": 57,
       "text": [
        "c  det\n",
        "1  1      22207.8875\n",
        "   2      22158.3875\n",
        "   3      22153.3125\n",
        "   4      22167.9375\n",
        "   5      22190.7000"
       ]
      }
     ],
     "prompt_number": 57
    },
    {
     "cell_type": "code",
     "collapsed": false,
     "input": [
      "cblock.right_sv.get_simple_mean().head()"
     ],
     "language": "python",
     "metadata": {},
     "outputs": [
      {
       "output_type": "pyout",
       "prompt_number": 56,
       "text": [
        "c  det\n",
        "1  1      22210.1250\n",
        "   2      22161.3875\n",
        "   3      22156.0125\n",
        "   4      22170.3375\n",
        "   5      22192.6625"
       ]
      }
     ],
     "prompt_number": 56
    },
    {
     "cell_type": "code",
     "collapsed": false,
     "input": [
      "cblock.df.index.levels[2]"
     ],
     "language": "python",
     "metadata": {},
     "outputs": [
      {
       "output_type": "pyout",
       "prompt_number": 73,
       "text": [
        "<class 'pandas.tseries.index.DatetimeIndex'>\n",
        "[2009-07-20 00:00:00.045000, ..., 2009-07-20 00:30:00.018000]\n",
        "Length: 14063, Freq: None, Timezone: None"
       ]
      }
     ],
     "prompt_number": 73
    },
    {
     "cell_type": "code",
     "collapsed": false,
     "input": [
      "divcal.df"
     ],
     "language": "python",
     "metadata": {},
     "outputs": [
      {
       "output_type": "pyout",
       "prompt_number": 80,
       "text": [
        "<class 'pandas.core.frame.DataFrame'>\n",
        "MultiIndex: 2657813 entries, (1.0, 1.0, 2009-07-20 00:00:00.045000) to (9.0, 21.0, 2009-07-20 00:29:59.890000)\n",
        "Data columns:\n",
        "counts                2657813  non-null values\n",
        "bb_1_temp_interp      2657813  non-null values\n",
        "bb_2_temp_interp      2657813  non-null values\n",
        "nrad                  2657813  non-null values\n",
        "sdtype                2657813  non-null values\n",
        "calib_block_labels    2657813  non-null values\n",
        "is_spaceview          2657813  non-null values\n",
        "is_bbview             2657813  non-null values\n",
        "is_stview             2657813  non-null values\n",
        "is_moving             2657813  non-null values\n",
        "is_calib              2657813  non-null values\n",
        "sv_block_labels       2657813  non-null values\n",
        "bb_block_labels       2657813  non-null values\n",
        "dtypes: bool(5), float64(4), int64(4)"
       ]
      }
     ],
     "prompt_number": 80
    },
    {
     "cell_type": "code",
     "collapsed": false,
     "input": [
      "for sv_id, localdf in grouped:\n",
      "    if sv_id==0: continue\n",
      "    print sv_id\n",
      "    start =  localdf.counts.index[0][2]\n",
      "    print start\n",
      "    print df.offsets.ix[1].ix[1][:start]"
     ],
     "language": "python",
     "metadata": {},
     "outputs": [
      {
       "output_type": "stream",
       "stream": "stdout",
       "text": [
        "1\n",
        "2009-07-20 00:02:47.215000\n",
        "1307"
       ]
      },
      {
       "output_type": "stream",
       "stream": "stdout",
       "text": [
        "\n",
        "2\n",
        "2009-07-20 00:03:15.887999\n",
        "1531"
       ]
      },
      {
       "output_type": "stream",
       "stream": "stdout",
       "text": [
        "\n",
        "3\n",
        "2009-07-20 00:11:54.042999\n",
        "5579"
       ]
      },
      {
       "output_type": "stream",
       "stream": "stdout",
       "text": [
        "\n",
        "4\n",
        "2009-07-20 00:12:22.716000\n",
        "5803"
       ]
      },
      {
       "output_type": "stream",
       "stream": "stdout",
       "text": [
        "\n",
        "5\n",
        "2009-07-20 00:21:58.216000\n",
        "10299"
       ]
      },
      {
       "output_type": "stream",
       "stream": "stdout",
       "text": [
        "\n",
        "6\n",
        "2009-07-20 00:22:26.888000\n",
        "10523"
       ]
      },
      {
       "output_type": "stream",
       "stream": "stdout",
       "text": [
        "\n",
        "7\n",
        "2009-07-20 00:29:26.736999\n",
        "13803"
       ]
      },
      {
       "output_type": "stream",
       "stream": "stdout",
       "text": [
        "\n",
        "8\n",
        "2009-07-20 00:29:55.409999\n",
        "14027"
       ]
      },
      {
       "output_type": "stream",
       "stream": "stdout",
       "text": [
        "\n"
       ]
      }
     ],
     "prompt_number": 86
    },
    {
     "cell_type": "code",
     "collapsed": false,
     "input": [
      "svdf = df.set_index('sv_blocks',append=True)"
     ],
     "language": "python",
     "metadata": {},
     "outputs": [],
     "prompt_number": 54
    },
    {
     "cell_type": "code",
     "collapsed": false,
     "input": [],
     "language": "python",
     "metadata": {},
     "outputs": []
    }
   ],
   "metadata": {}
  }
 ]
}