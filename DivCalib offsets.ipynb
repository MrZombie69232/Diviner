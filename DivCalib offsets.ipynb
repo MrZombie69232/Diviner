{
 "metadata": {
  "name": "DivCalib offsets"
 },
 "nbformat": 3,
 "nbformat_minor": 0,
 "worksheets": [
  {
   "cells": [
    {
     "cell_type": "code",
     "collapsed": false,
     "input": [
      "import pandas as pd\n",
      "import diviner as div\n",
      "import calib as c\n",
      "import sys\n",
      "reload(c)"
     ],
     "language": "python",
     "metadata": {},
     "outputs": [
      {
       "output_type": "pyout",
       "prompt_number": 1,
       "text": [
        "<module 'calib' from 'calib.pyc'>"
       ]
      }
     ],
     "prompt_number": 1
    },
    {
     "cell_type": "code",
     "collapsed": false,
     "input": [
      "if sys.platform == 'darwin':\n",
      "    divcal = c.DivCalib(div.read_div_data(\"./df_by_2.h5\"))\n",
      "else:\n",
      "    divcal = c.DivCalib(div.read_div_data('/luna1/maye/2009072000.h5'))"
     ],
     "language": "python",
     "metadata": {},
     "outputs": [],
     "prompt_number": 2
    },
    {
     "cell_type": "code",
     "collapsed": false,
     "input": [
      "divcal.bbv.columns"
     ],
     "language": "python",
     "metadata": {},
     "outputs": [
      {
       "output_type": "pyout",
       "prompt_number": 3,
       "text": [
        "Index([c, det, counts, bb_1_temp, bb_2_temp, el_cmd, az_cmd, qmi, clat, clon, scalt, bb_1_temp_interp, bb_2_temp_interp, nrad], dtype=object)"
       ]
      }
     ],
     "prompt_number": 3
    },
    {
     "cell_type": "code",
     "collapsed": false,
     "input": [
      "calib = ((divcal.timed.el_cmd==80) | (divcal.timed.el_cmd==0)) & -c.is_moving(divcal.timed)"
     ],
     "language": "python",
     "metadata": {},
     "outputs": [],
     "prompt_number": 4
    },
    {
     "cell_type": "code",
     "collapsed": false,
     "input": [
      "divcal.timed['isCalib']=calib"
     ],
     "language": "python",
     "metadata": {},
     "outputs": [],
     "prompt_number": 5
    },
    {
     "cell_type": "code",
     "collapsed": false,
     "input": [
      "len(calib.index)"
     ],
     "language": "python",
     "metadata": {},
     "outputs": [
      {
       "output_type": "pyout",
       "prompt_number": 6,
       "text": [
        "2657813"
       ]
      }
     ],
     "prompt_number": 6
    },
    {
     "cell_type": "code",
     "collapsed": false,
     "input": [
      "divcal.timed.index[0]"
     ],
     "language": "python",
     "metadata": {},
     "outputs": [
      {
       "output_type": "pyout",
       "prompt_number": 12,
       "text": [
        "<Timestamp: 2009-07-20 00:00:00.045000>"
       ]
      }
     ],
     "prompt_number": 12
    },
    {
     "cell_type": "code",
     "collapsed": false,
     "input": [
      "divcal.timed.ix['2009-07-20 00:00:00.045000']"
     ],
     "language": "python",
     "metadata": {},
     "outputs": [
      {
       "output_type": "pyout",
       "prompt_number": 14,
       "text": [
        "<class 'pandas.core.frame.DataFrame'>\n",
        "DatetimeIndex: 189 entries, 2009-07-20 00:00:00.045000 to 2009-07-20 00:00:00.045000\n",
        "Data columns:\n",
        "c                   189  non-null values\n",
        "det                 189  non-null values\n",
        "counts              189  non-null values\n",
        "bb_1_temp           0  non-null values\n",
        "bb_2_temp           0  non-null values\n",
        "el_cmd              189  non-null values\n",
        "az_cmd              189  non-null values\n",
        "qmi                 189  non-null values\n",
        "clat                189  non-null values\n",
        "clon                189  non-null values\n",
        "scalt               189  non-null values\n",
        "bb_1_temp_interp    189  non-null values\n",
        "bb_2_temp_interp    189  non-null values\n",
        "isCalib             189  non-null values\n",
        "dtypes: bool(1), float64(13)"
       ]
      }
     ],
     "prompt_number": 14
    },
    {
     "cell_type": "code",
     "collapsed": false,
     "input": [
      "divcal.timed.counts['2009-07-20 00:05']"
     ],
     "language": "python",
     "metadata": {},
     "outputs": [
      {
       "output_type": "pyout",
       "prompt_number": 15,
       "text": [
        "2009-07-20 00:05:00.082000    23716\n",
        "2009-07-20 00:05:00.082000    23810\n",
        "2009-07-20 00:05:00.082000    24152\n",
        "2009-07-20 00:05:00.082000    23880\n",
        "2009-07-20 00:05:00.082000    23348\n",
        "2009-07-20 00:05:00.082000    23675\n",
        "2009-07-20 00:05:00.082000    24492\n",
        "2009-07-20 00:05:00.082000    24653\n",
        "2009-07-20 00:05:00.082000    24832\n",
        "2009-07-20 00:05:00.082000    25264\n",
        "2009-07-20 00:05:00.082000    26040\n",
        "2009-07-20 00:05:00.082000    25429\n",
        "2009-07-20 00:05:00.082000    25838\n",
        "2009-07-20 00:05:00.082000    25082\n",
        "2009-07-20 00:05:00.082000    25641\n",
        "...\n",
        "2009-07-20 00:05:59.987999    27428\n",
        "2009-07-20 00:05:59.987999    27471\n",
        "2009-07-20 00:05:59.987999    27449\n",
        "2009-07-20 00:05:59.987999    27425\n",
        "2009-07-20 00:05:59.987999    27488\n",
        "2009-07-20 00:05:59.987999    27480\n",
        "2009-07-20 00:05:59.987999    27453\n",
        "2009-07-20 00:05:59.987999    27491\n",
        "2009-07-20 00:05:59.987999    27474\n",
        "2009-07-20 00:05:59.987999    27505\n",
        "2009-07-20 00:05:59.987999    27482\n",
        "2009-07-20 00:05:59.987999    27468\n",
        "2009-07-20 00:05:59.987999    27480\n",
        "2009-07-20 00:05:59.987999    27472\n",
        "2009-07-20 00:05:59.987999    27480\n",
        "Name: counts, Length: 88641"
       ]
      }
     ],
     "prompt_number": 15
    },
    {
     "cell_type": "code",
     "collapsed": false,
     "input": [
      "grouped = divcal.timed.counts.groupby(level=0)"
     ],
     "language": "python",
     "metadata": {},
     "outputs": [],
     "prompt_number": 29
    },
    {
     "cell_type": "code",
     "collapsed": false,
     "input": [
      "grouped.size()"
     ],
     "language": "python",
     "metadata": {},
     "outputs": [
      {
       "output_type": "pyout",
       "prompt_number": 32,
       "text": [
        "2009-07-20 00:00:00.045000    189\n",
        "2009-07-20 00:00:00.173000    189\n",
        "2009-07-20 00:00:00.301000    189\n",
        "2009-07-20 00:00:00.429000    189\n",
        "2009-07-20 00:00:00.557000    189\n",
        "2009-07-20 00:00:00.685000    189\n",
        "2009-07-20 00:00:00.813000    189\n",
        "2009-07-20 00:00:00.941000    189\n",
        "2009-07-20 00:00:01.068999    189\n",
        "2009-07-20 00:00:01.197000    189\n",
        "2009-07-20 00:00:01.324000    189\n",
        "2009-07-20 00:00:01.451999    189\n",
        "2009-07-20 00:00:01.580000    189\n",
        "2009-07-20 00:00:01.708000    189\n",
        "2009-07-20 00:00:01.836000    189\n",
        "...\n",
        "2009-07-20 00:29:58.225999    189\n",
        "2009-07-20 00:29:58.353999    189\n",
        "2009-07-20 00:29:58.481999    189\n",
        "2009-07-20 00:29:58.609999    189\n",
        "2009-07-20 00:29:58.737999    189\n",
        "2009-07-20 00:29:58.865999    189\n",
        "2009-07-20 00:29:58.993999    189\n",
        "2009-07-20 00:29:59.121999    189\n",
        "2009-07-20 00:29:59.250000    189\n",
        "2009-07-20 00:29:59.378000    189\n",
        "2009-07-20 00:29:59.506000    189\n",
        "2009-07-20 00:29:59.634000    189\n",
        "2009-07-20 00:29:59.762000    189\n",
        "2009-07-20 00:29:59.890000    189\n",
        "2009-07-20 00:30:00.018000     95\n",
        "Length: 14063"
       ]
      }
     ],
     "prompt_number": 32
    },
    {
     "cell_type": "code",
     "collapsed": false,
     "input": [
      "plot(divcal.df.cloctime.dropna().unique())"
     ],
     "language": "python",
     "metadata": {},
     "outputs": [
      {
       "output_type": "pyout",
       "prompt_number": 38,
       "text": [
        "[<matplotlib.lines.Line2D at 0x1c33fe690>]"
       ]
      }
     ],
     "prompt_number": 38
    },
    {
     "cell_type": "code",
     "collapsed": false,
     "input": [
      "divcal.df.plot('clat','cloctime',style='.')"
     ],
     "language": "python",
     "metadata": {},
     "outputs": [
      {
       "output_type": "pyout",
       "prompt_number": 43,
       "text": [
        "<matplotlib.axes.AxesSubplot at 0x1c33dfc10>"
       ]
      }
     ],
     "prompt_number": 43
    },
    {
     "cell_type": "code",
     "collapsed": false,
     "input": [
      "divcal.df.clat.dropna().plot()"
     ],
     "language": "python",
     "metadata": {},
     "outputs": [
      {
       "output_type": "pyout",
       "prompt_number": 44,
       "text": [
        "<matplotlib.axes.AxesSubplot at 0x11271b410>"
       ]
      }
     ],
     "prompt_number": 44
    },
    {
     "cell_type": "code",
     "collapsed": false,
     "input": [
      "clf()\n",
      "divcal.df.clon.plot()"
     ],
     "language": "python",
     "metadata": {},
     "outputs": [
      {
       "output_type": "pyout",
       "prompt_number": 45,
       "text": [
        "<matplotlib.axes.AxesSubplot at 0x11772c4d0>"
       ]
      }
     ],
     "prompt_number": 45
    },
    {
     "cell_type": "code",
     "collapsed": false,
     "input": [
      "view = divcal.df[['clat','clon','cloctime']]"
     ],
     "language": "python",
     "metadata": {},
     "outputs": [],
     "prompt_number": 47
    },
    {
     "cell_type": "code",
     "collapsed": false,
     "input": [],
     "language": "python",
     "metadata": {},
     "outputs": []
    }
   ],
   "metadata": {}
  }
 ]
}