{
 "metadata": {
  "name": "histogramming diviner"
 },
 "nbformat": 3,
 "nbformat_minor": 0,
 "worksheets": [
  {
   "cells": [
    {
     "cell_type": "code",
     "collapsed": false,
     "input": [
      "import os\n",
      "import time\n",
      "import pandas as pd\n",
      "import numpy as np"
     ],
     "language": "python",
     "metadata": {},
     "outputs": [],
     "prompt_number": 9
    },
    {
     "cell_type": "code",
     "collapsed": false,
     "input": [
      "os.chdir('/s3/marks/div247')"
     ],
     "language": "python",
     "metadata": {},
     "outputs": [],
     "prompt_number": 3
    },
    {
     "cell_type": "code",
     "collapsed": false,
     "input": [
      "pwd"
     ],
     "language": "python",
     "metadata": {},
     "outputs": [
      {
       "output_type": "pyout",
       "prompt_number": 4,
       "text": [
        "u'/s3/marks/div247'"
       ]
      }
     ],
     "prompt_number": 4
    },
    {
     "cell_type": "code",
     "collapsed": false,
     "input": [
      "f = open('./div247.des')"
     ],
     "language": "python",
     "metadata": {},
     "outputs": [],
     "prompt_number": 4
    },
    {
     "cell_type": "code",
     "collapsed": false,
     "input": [
      "lines = f.readlines()"
     ],
     "language": "python",
     "metadata": {},
     "outputs": [],
     "prompt_number": 5
    },
    {
     "cell_type": "code",
     "collapsed": false,
     "input": [
      "f.close()"
     ],
     "language": "python",
     "metadata": {},
     "outputs": [],
     "prompt_number": 6
    },
    {
     "cell_type": "code",
     "collapsed": false,
     "input": [
      "s = pd.Series(lines)\n",
      "s = s.drop(0)\n",
      "val = s[1]\n",
      "val2 = val.split(' ')\n",
      "[i.strip().strip(\"'\") for i in val2]\n",
      "def unpack_str(value):\n",
      "    val2 = value.split(' ')\n",
      "    t = [i.strip().strip(\"'\") for i in val2]\n",
      "    return t[0].lower()\n",
      "columns = s.map(unpack_str)\n",
      "keys = columns.values\n",
      "rec_dtype = np.dtype([(key,'f8') for key in keys])"
     ],
     "language": "python",
     "metadata": {},
     "outputs": [],
     "prompt_number": 8
    },
    {
     "cell_type": "code",
     "collapsed": false,
     "input": [
      "cd 201212"
     ],
     "language": "python",
     "metadata": {},
     "outputs": [
      {
       "output_type": "stream",
       "stream": "stdout",
       "text": [
        "/s3/marks/div247/201212\n"
       ]
      }
     ],
     "prompt_number": 6
    },
    {
     "cell_type": "code",
     "collapsed": false,
     "input": [
      "import glob\n",
      "fnames = glob.glob('*.div247')"
     ],
     "language": "python",
     "metadata": {},
     "outputs": [],
     "prompt_number": 11
    },
    {
     "cell_type": "code",
     "collapsed": false,
     "input": [
      "import diviner as div"
     ],
     "language": "python",
     "metadata": {},
     "outputs": [],
     "prompt_number": 7
    },
    {
     "cell_type": "code",
     "collapsed": false,
     "input": [
      "def divhisto(l, n):\n",
      "    s = pd.Series()\n",
      "    for i,fname in enumerate(fnames[:n]):\n",
      "        if i % 10 == 0: print(\"{0}%\".format(100*float(i)/len(fnames[:n])))\n",
      "        with open(fname) as f:\n",
      "            data = np.fromfile(f,dtype=rec_dtype)\n",
      "        df = pd.DataFrame(data,columns=keys)\n",
      "#        df = div.index_by_time(df)\n",
      "#        df[df==-9999] = np.nan\n",
      "        toreturn = df[['last_az_cmd','last_el_cmd']]\n",
      "#        toreturn.drop_duplicates(inplace=True)\n",
      "        l.append(toreturn)\n",
      "#        snew = df.last_az_cmd.value_counts()\n",
      "#        s = s.add(df.last_az_cmd.value_counts(),fill_value=0)\n",
      "    print 'Done.'\n"
     ],
     "language": "python",
     "metadata": {},
     "outputs": [],
     "prompt_number": 13
    },
    {
     "cell_type": "code",
     "collapsed": false,
     "input": [
      "with open(fnames[0]) as f:\n",
      "    data = np.fromfile(f,dtype=rec_dtype)\n",
      "df = pd.DataFrame(data,columns=keys)"
     ],
     "language": "python",
     "metadata": {},
     "outputs": [],
     "prompt_number": 14
    },
    {
     "cell_type": "code",
     "collapsed": false,
     "input": [
      "timed = div.index_by_time(df)"
     ],
     "language": "python",
     "metadata": {},
     "outputs": [],
     "prompt_number": 15
    },
    {
     "cell_type": "code",
     "collapsed": false,
     "input": [
      "timed[timed==-9999]=np.nan"
     ],
     "language": "python",
     "metadata": {},
     "outputs": [],
     "prompt_number": 16
    },
    {
     "cell_type": "code",
     "collapsed": false,
     "input": [
      "az_el = timed[['last_az_cmd','last_el_cmd']]"
     ],
     "language": "python",
     "metadata": {},
     "outputs": [],
     "prompt_number": 17
    },
    {
     "cell_type": "code",
     "collapsed": false,
     "input": [
      "az_el = az_el.dropna()"
     ],
     "language": "python",
     "metadata": {},
     "outputs": [],
     "prompt_number": 18
    },
    {
     "cell_type": "code",
     "collapsed": false,
     "input": [
      "az_el.drop_duplicates(inplace=True)"
     ],
     "language": "python",
     "metadata": {},
     "outputs": [
      {
       "output_type": "stream",
       "stream": "stderr",
       "text": [
        "/usr/local/epd/lib/python2.7/site-packages/pandas-0.10.1-py2.7-linux-x86_64.egg/pandas/core/frame.py:3034: FutureWarning: drop_duplicates with inplace=True  will return None from pandas 0.11 onward\n",
        "  \" from pandas 0.11 onward\", FutureWarning)\n"
       ]
      },
      {
       "html": [
        "<div style=\"max-height:1000px;max-width:1500px;overflow:auto;\">\n",
        "<table border=\"1\" class=\"dataframe\">\n",
        "  <thead>\n",
        "    <tr style=\"text-align: right;\">\n",
        "      <th></th>\n",
        "      <th>last_az_cmd</th>\n",
        "      <th>last_el_cmd</th>\n",
        "    </tr>\n",
        "  </thead>\n",
        "  <tbody>\n",
        "    <tr>\n",
        "      <th>2012-12-01 13:00:00.686000</th>\n",
        "      <td> 240.00</td>\n",
        "      <td>   0.00</td>\n",
        "    </tr>\n",
        "    <tr>\n",
        "      <th>2012-12-01 13:00:02.734000</th>\n",
        "      <td> 240.00</td>\n",
        "      <td>  80.00</td>\n",
        "    </tr>\n",
        "    <tr>\n",
        "      <th>2012-12-01 13:00:17.070000</th>\n",
        "      <td> 240.00</td>\n",
        "      <td> 180.00</td>\n",
        "    </tr>\n",
        "    <tr>\n",
        "      <th>2012-12-01 13:07:02.583000</th>\n",
        "      <td> 240.00</td>\n",
        "      <td>  36.97</td>\n",
        "    </tr>\n",
        "    <tr>\n",
        "      <th>2012-12-01 13:07:06.679000</th>\n",
        "      <td> 100.00</td>\n",
        "      <td>  36.97</td>\n",
        "    </tr>\n",
        "    <tr>\n",
        "      <th>2012-12-01 13:07:14.871000</th>\n",
        "      <td> 113.03</td>\n",
        "      <td>  36.97</td>\n",
        "    </tr>\n",
        "  </tbody>\n",
        "</table>\n",
        "</div>"
       ],
       "output_type": "pyout",
       "prompt_number": 19,
       "text": [
        "                            last_az_cmd  last_el_cmd\n",
        "2012-12-01 13:00:00.686000       240.00         0.00\n",
        "2012-12-01 13:00:02.734000       240.00        80.00\n",
        "2012-12-01 13:00:17.070000       240.00       180.00\n",
        "2012-12-01 13:07:02.583000       240.00        36.97\n",
        "2012-12-01 13:07:06.679000       100.00        36.97\n",
        "2012-12-01 13:07:14.871000       113.03        36.97"
       ]
      }
     ],
     "prompt_number": 19
    },
    {
     "cell_type": "code",
     "collapsed": false,
     "input": [
      "with open(fnames[1]) as f:\n",
      "    data = np.fromfile(f,dtype=rec_dtype)\n",
      "df =pd.DataFrame(data,columns=keys)"
     ],
     "language": "python",
     "metadata": {},
     "outputs": [],
     "prompt_number": 20
    },
    {
     "cell_type": "code",
     "collapsed": false,
     "input": [
      "df = div.index_by_time(df)"
     ],
     "language": "python",
     "metadata": {},
     "outputs": [],
     "prompt_number": 21
    },
    {
     "cell_type": "code",
     "collapsed": false,
     "input": [
      "df[df==-9999]= np.nan"
     ],
     "language": "python",
     "metadata": {},
     "outputs": [],
     "prompt_number": 22
    },
    {
     "cell_type": "code",
     "collapsed": false,
     "input": [
      "az_el_2 = df[['last_az_cmd','last_el_cmd']]"
     ],
     "language": "python",
     "metadata": {},
     "outputs": [],
     "prompt_number": 23
    },
    {
     "cell_type": "code",
     "collapsed": false,
     "input": [
      "az_el_2 = az_el_2.dropna()"
     ],
     "language": "python",
     "metadata": {},
     "outputs": [],
     "prompt_number": 24
    },
    {
     "cell_type": "code",
     "collapsed": false,
     "input": [
      "az_el_2.drop_duplicates(inplace=True)"
     ],
     "language": "python",
     "metadata": {},
     "outputs": [
      {
       "html": [
        "<div style=\"max-height:1000px;max-width:1500px;overflow:auto;\">\n",
        "<table border=\"1\" class=\"dataframe\">\n",
        "  <thead>\n",
        "    <tr style=\"text-align: right;\">\n",
        "      <th></th>\n",
        "      <th>last_az_cmd</th>\n",
        "      <th>last_el_cmd</th>\n",
        "    </tr>\n",
        "  </thead>\n",
        "  <tbody>\n",
        "    <tr>\n",
        "      <th>2012-12-01 12:00:00.233000</th>\n",
        "      <td> 240</td>\n",
        "      <td> 180</td>\n",
        "    </tr>\n",
        "    <tr>\n",
        "      <th>2012-12-01 12:03:45.517000</th>\n",
        "      <td> 240</td>\n",
        "      <td>  80</td>\n",
        "    </tr>\n",
        "    <tr>\n",
        "      <th>2012-12-01 12:04:01.901999</th>\n",
        "      <td> 240</td>\n",
        "      <td>   0</td>\n",
        "    </tr>\n",
        "  </tbody>\n",
        "</table>\n",
        "</div>"
       ],
       "output_type": "pyout",
       "prompt_number": 25,
       "text": [
        "                            last_az_cmd  last_el_cmd\n",
        "2012-12-01 12:00:00.233000          240          180\n",
        "2012-12-01 12:03:45.517000          240           80\n",
        "2012-12-01 12:04:01.901999          240            0"
       ]
      }
     ],
     "prompt_number": 25
    },
    {
     "cell_type": "code",
     "collapsed": false,
     "input": [
      "pd.concat([az_el,az_el_2]).drop_duplicates()"
     ],
     "language": "python",
     "metadata": {},
     "outputs": [
      {
       "html": [
        "<div style=\"max-height:1000px;max-width:1500px;overflow:auto;\">\n",
        "<table border=\"1\" class=\"dataframe\">\n",
        "  <thead>\n",
        "    <tr style=\"text-align: right;\">\n",
        "      <th></th>\n",
        "      <th>last_az_cmd</th>\n",
        "      <th>last_el_cmd</th>\n",
        "    </tr>\n",
        "  </thead>\n",
        "  <tbody>\n",
        "    <tr>\n",
        "      <th>2012-12-01 13:00:00.686000</th>\n",
        "      <td> 240.00</td>\n",
        "      <td>   0.00</td>\n",
        "    </tr>\n",
        "    <tr>\n",
        "      <th>2012-12-01 13:00:02.734000</th>\n",
        "      <td> 240.00</td>\n",
        "      <td>  80.00</td>\n",
        "    </tr>\n",
        "    <tr>\n",
        "      <th>2012-12-01 13:00:17.070000</th>\n",
        "      <td> 240.00</td>\n",
        "      <td> 180.00</td>\n",
        "    </tr>\n",
        "    <tr>\n",
        "      <th>2012-12-01 13:07:02.583000</th>\n",
        "      <td> 240.00</td>\n",
        "      <td>  36.97</td>\n",
        "    </tr>\n",
        "    <tr>\n",
        "      <th>2012-12-01 13:07:06.679000</th>\n",
        "      <td> 100.00</td>\n",
        "      <td>  36.97</td>\n",
        "    </tr>\n",
        "    <tr>\n",
        "      <th>2012-12-01 13:07:14.871000</th>\n",
        "      <td> 113.03</td>\n",
        "      <td>  36.97</td>\n",
        "    </tr>\n",
        "  </tbody>\n",
        "</table>\n",
        "</div>"
       ],
       "output_type": "pyout",
       "prompt_number": 26,
       "text": [
        "                            last_az_cmd  last_el_cmd\n",
        "2012-12-01 13:00:00.686000       240.00         0.00\n",
        "2012-12-01 13:00:02.734000       240.00        80.00\n",
        "2012-12-01 13:00:17.070000       240.00       180.00\n",
        "2012-12-01 13:07:02.583000       240.00        36.97\n",
        "2012-12-01 13:07:06.679000       100.00        36.97\n",
        "2012-12-01 13:07:14.871000       113.03        36.97"
       ]
      }
     ],
     "prompt_number": 26
    },
    {
     "cell_type": "code",
     "collapsed": false,
     "input": [
      "l = []\n",
      "t1 = time.time()\n",
      "divhisto(l,None)\n",
      "print \"Run time: {0} s\".format(time.time()-t1)"
     ],
     "language": "python",
     "metadata": {},
     "outputs": [
      {
       "output_type": "stream",
       "stream": "stdout",
       "text": [
        "0.0%\n",
        "1.34408602151%"
       ]
      },
      {
       "output_type": "stream",
       "stream": "stdout",
       "text": [
        "\n",
        "2.68817204301%"
       ]
      },
      {
       "output_type": "stream",
       "stream": "stdout",
       "text": [
        "\n",
        "4.03225806452%"
       ]
      },
      {
       "output_type": "stream",
       "stream": "stdout",
       "text": [
        "\n",
        "5.37634408602%"
       ]
      },
      {
       "output_type": "stream",
       "stream": "stdout",
       "text": [
        "\n",
        "6.72043010753%"
       ]
      },
      {
       "output_type": "stream",
       "stream": "stdout",
       "text": [
        "\n",
        "8.06451612903%"
       ]
      },
      {
       "output_type": "stream",
       "stream": "stdout",
       "text": [
        "\n",
        "9.40860215054%"
       ]
      },
      {
       "output_type": "stream",
       "stream": "stdout",
       "text": [
        "\n",
        "10.752688172%"
       ]
      },
      {
       "output_type": "stream",
       "stream": "stdout",
       "text": [
        "\n",
        "12.0967741935%"
       ]
      },
      {
       "output_type": "stream",
       "stream": "stdout",
       "text": [
        "\n",
        "13.4408602151%"
       ]
      },
      {
       "output_type": "stream",
       "stream": "stdout",
       "text": [
        "\n",
        "14.7849462366%"
       ]
      },
      {
       "output_type": "stream",
       "stream": "stdout",
       "text": [
        "\n",
        "16.1290322581%"
       ]
      },
      {
       "output_type": "stream",
       "stream": "stdout",
       "text": [
        "\n",
        "17.4731182796%"
       ]
      },
      {
       "output_type": "stream",
       "stream": "stdout",
       "text": [
        "\n",
        "18.8172043011%"
       ]
      },
      {
       "output_type": "stream",
       "stream": "stdout",
       "text": [
        "\n",
        "20.1612903226%"
       ]
      },
      {
       "output_type": "stream",
       "stream": "stdout",
       "text": [
        "\n",
        "21.5053763441%"
       ]
      },
      {
       "output_type": "stream",
       "stream": "stdout",
       "text": [
        "\n",
        "22.8494623656%"
       ]
      },
      {
       "output_type": "stream",
       "stream": "stdout",
       "text": [
        "\n",
        "24.1935483871%"
       ]
      },
      {
       "output_type": "stream",
       "stream": "stdout",
       "text": [
        "\n",
        "25.5376344086%"
       ]
      },
      {
       "output_type": "stream",
       "stream": "stdout",
       "text": [
        "\n",
        "26.8817204301%"
       ]
      },
      {
       "output_type": "stream",
       "stream": "stdout",
       "text": [
        "\n",
        "28.2258064516%"
       ]
      },
      {
       "output_type": "stream",
       "stream": "stdout",
       "text": [
        "\n",
        "29.5698924731%"
       ]
      },
      {
       "output_type": "stream",
       "stream": "stdout",
       "text": [
        "\n",
        "30.9139784946%"
       ]
      },
      {
       "output_type": "stream",
       "stream": "stdout",
       "text": [
        "\n",
        "32.2580645161%"
       ]
      },
      {
       "output_type": "stream",
       "stream": "stdout",
       "text": [
        "\n",
        "33.6021505376%"
       ]
      },
      {
       "output_type": "stream",
       "stream": "stdout",
       "text": [
        "\n",
        "34.9462365591%"
       ]
      },
      {
       "output_type": "stream",
       "stream": "stdout",
       "text": [
        "\n",
        "36.2903225806%"
       ]
      },
      {
       "output_type": "stream",
       "stream": "stdout",
       "text": [
        "\n",
        "37.6344086022%"
       ]
      },
      {
       "output_type": "stream",
       "stream": "stdout",
       "text": [
        "\n",
        "38.9784946237%"
       ]
      },
      {
       "output_type": "stream",
       "stream": "stdout",
       "text": [
        "\n",
        "40.3225806452%"
       ]
      },
      {
       "output_type": "stream",
       "stream": "stdout",
       "text": [
        "\n",
        "41.6666666667%"
       ]
      },
      {
       "output_type": "stream",
       "stream": "stdout",
       "text": [
        "\n",
        "43.0107526882%"
       ]
      },
      {
       "output_type": "stream",
       "stream": "stdout",
       "text": [
        "\n",
        "44.3548387097%"
       ]
      },
      {
       "output_type": "stream",
       "stream": "stdout",
       "text": [
        "\n",
        "45.6989247312%"
       ]
      },
      {
       "output_type": "stream",
       "stream": "stdout",
       "text": [
        "\n",
        "47.0430107527%"
       ]
      },
      {
       "output_type": "stream",
       "stream": "stdout",
       "text": [
        "\n",
        "48.3870967742%"
       ]
      },
      {
       "output_type": "stream",
       "stream": "stdout",
       "text": [
        "\n",
        "49.7311827957%"
       ]
      },
      {
       "output_type": "stream",
       "stream": "stdout",
       "text": [
        "\n",
        "51.0752688172%"
       ]
      },
      {
       "output_type": "stream",
       "stream": "stdout",
       "text": [
        "\n",
        "52.4193548387%"
       ]
      },
      {
       "output_type": "stream",
       "stream": "stdout",
       "text": [
        "\n",
        "53.7634408602%"
       ]
      },
      {
       "output_type": "stream",
       "stream": "stdout",
       "text": [
        "\n",
        "55.1075268817%"
       ]
      },
      {
       "output_type": "stream",
       "stream": "stdout",
       "text": [
        "\n",
        "56.4516129032%"
       ]
      },
      {
       "output_type": "stream",
       "stream": "stdout",
       "text": [
        "\n",
        "57.7956989247%"
       ]
      },
      {
       "output_type": "stream",
       "stream": "stdout",
       "text": [
        "\n",
        "59.1397849462%"
       ]
      },
      {
       "output_type": "stream",
       "stream": "stdout",
       "text": [
        "\n",
        "60.4838709677%"
       ]
      },
      {
       "output_type": "stream",
       "stream": "stdout",
       "text": [
        "\n",
        "61.8279569892%"
       ]
      },
      {
       "output_type": "stream",
       "stream": "stdout",
       "text": [
        "\n",
        "63.1720430108%"
       ]
      },
      {
       "output_type": "stream",
       "stream": "stdout",
       "text": [
        "\n",
        "64.5161290323%"
       ]
      },
      {
       "output_type": "stream",
       "stream": "stdout",
       "text": [
        "\n",
        "65.8602150538%"
       ]
      },
      {
       "output_type": "stream",
       "stream": "stdout",
       "text": [
        "\n",
        "67.2043010753%"
       ]
      },
      {
       "output_type": "stream",
       "stream": "stdout",
       "text": [
        "\n",
        "68.5483870968%"
       ]
      },
      {
       "output_type": "stream",
       "stream": "stdout",
       "text": [
        "\n",
        "69.8924731183%"
       ]
      },
      {
       "output_type": "stream",
       "stream": "stdout",
       "text": [
        "\n",
        "71.2365591398%"
       ]
      },
      {
       "output_type": "stream",
       "stream": "stdout",
       "text": [
        "\n",
        "72.5806451613%"
       ]
      },
      {
       "output_type": "stream",
       "stream": "stdout",
       "text": [
        "\n",
        "73.9247311828%"
       ]
      },
      {
       "output_type": "stream",
       "stream": "stdout",
       "text": [
        "\n",
        "75.2688172043%"
       ]
      },
      {
       "output_type": "stream",
       "stream": "stdout",
       "text": [
        "\n",
        "76.6129032258%"
       ]
      },
      {
       "output_type": "stream",
       "stream": "stdout",
       "text": [
        "\n",
        "77.9569892473%"
       ]
      },
      {
       "output_type": "stream",
       "stream": "stdout",
       "text": [
        "\n",
        "79.3010752688%"
       ]
      },
      {
       "output_type": "stream",
       "stream": "stdout",
       "text": [
        "\n",
        "80.6451612903%"
       ]
      },
      {
       "output_type": "stream",
       "stream": "stdout",
       "text": [
        "\n",
        "81.9892473118%"
       ]
      },
      {
       "output_type": "stream",
       "stream": "stdout",
       "text": [
        "\n",
        "83.3333333333%"
       ]
      },
      {
       "output_type": "stream",
       "stream": "stdout",
       "text": [
        "\n",
        "84.6774193548%"
       ]
      },
      {
       "output_type": "stream",
       "stream": "stdout",
       "text": [
        "\n",
        "86.0215053763%"
       ]
      },
      {
       "output_type": "stream",
       "stream": "stdout",
       "text": [
        "\n",
        "87.3655913978%"
       ]
      },
      {
       "output_type": "stream",
       "stream": "stdout",
       "text": [
        "\n",
        "88.7096774194%"
       ]
      },
      {
       "output_type": "stream",
       "stream": "stdout",
       "text": [
        "\n",
        "90.0537634409%"
       ]
      },
      {
       "output_type": "stream",
       "stream": "stdout",
       "text": [
        "\n",
        "91.3978494624%"
       ]
      },
      {
       "output_type": "stream",
       "stream": "stdout",
       "text": [
        "\n",
        "92.7419354839%"
       ]
      },
      {
       "output_type": "stream",
       "stream": "stdout",
       "text": [
        "\n",
        "94.0860215054%"
       ]
      },
      {
       "output_type": "stream",
       "stream": "stdout",
       "text": [
        "\n",
        "95.4301075269%"
       ]
      },
      {
       "output_type": "stream",
       "stream": "stdout",
       "text": [
        "\n",
        "96.7741935484%"
       ]
      },
      {
       "output_type": "stream",
       "stream": "stdout",
       "text": [
        "\n",
        "98.1182795699%"
       ]
      },
      {
       "output_type": "stream",
       "stream": "stdout",
       "text": [
        "\n",
        "99.4623655914%"
       ]
      },
      {
       "output_type": "stream",
       "stream": "stdout",
       "text": [
        "\n",
        "Done."
       ]
      },
      {
       "output_type": "stream",
       "stream": "stdout",
       "text": [
        "\n",
        "Run time: 49.7937271595 s\n"
       ]
      }
     ],
     "prompt_number": 27
    },
    {
     "cell_type": "code",
     "collapsed": false,
     "input": [
      "df = pd.concat(l).drop_duplicates()"
     ],
     "language": "python",
     "metadata": {},
     "outputs": [],
     "prompt_number": 30
    },
    {
     "cell_type": "code",
     "collapsed": false,
     "input": [
      "pd.load('/luna1/maye/data/az_el_201212.df')"
     ],
     "language": "python",
     "metadata": {},
     "outputs": [],
     "prompt_number": 66
    },
    {
     "cell_type": "code",
     "collapsed": false,
     "input": [
      "fig = figure()"
     ],
     "language": "python",
     "metadata": {},
     "outputs": [],
     "prompt_number": 18
    },
    {
     "cell_type": "code",
     "collapsed": false,
     "input": [
      "ax = fig.add_subplot(111,polar=True)"
     ],
     "language": "python",
     "metadata": {},
     "outputs": [],
     "prompt_number": 19
    },
    {
     "cell_type": "code",
     "collapsed": false,
     "input": [
      "ax.set_theta_direction(-1)"
     ],
     "language": "python",
     "metadata": {},
     "outputs": [],
     "prompt_number": 25
    },
    {
     "cell_type": "code",
     "collapsed": false,
     "input": [
      "ax.scatter(radians(dropped.last_az_cmd),dropped.last_el_cmd)"
     ],
     "language": "python",
     "metadata": {},
     "outputs": [
      {
       "output_type": "pyout",
       "prompt_number": 26,
       "text": [
        "<matplotlib.collections.PathCollection at 0x62a52a10>"
       ]
      }
     ],
     "prompt_number": 26
    },
    {
     "cell_type": "code",
     "collapsed": false,
     "input": [
      "dfall = pd.concat(l)"
     ],
     "language": "python",
     "metadata": {},
     "outputs": [],
     "prompt_number": 74
    },
    {
     "cell_type": "code",
     "collapsed": false,
     "input": [
      "display(fig)"
     ],
     "language": "python",
     "metadata": {},
     "outputs": [
      {
       "output_type": "display_data",
       "png": "[encoded data removed]",
       "text": [
        "<matplotlib.figure.Figure at 0x41d14d0>"
       ]
      }
     ],
     "prompt_number": 27
    },
    {
     "cell_type": "code",
     "collapsed": false,
     "input": [
      "df = pd.load('/luna1/maye/data/az_el_201212_all.df')"
     ],
     "language": "python",
     "metadata": {},
     "outputs": [],
     "prompt_number": 61
    },
    {
     "cell_type": "code",
     "collapsed": false,
     "input": [
      "df[df==-9999]=np.nan"
     ],
     "language": "python",
     "metadata": {},
     "outputs": [],
     "prompt_number": 62
    },
    {
     "cell_type": "code",
     "collapsed": false,
     "input": [
      "dropped = df.drop_duplicates()"
     ],
     "language": "python",
     "metadata": {},
     "outputs": [],
     "prompt_number": 63
    },
    {
     "cell_type": "code",
     "collapsed": false,
     "input": [
      "dropped"
     ],
     "language": "python",
     "metadata": {},
     "outputs": [
      {
       "output_type": "pyout",
       "prompt_number": 64,
       "text": [
        "<class 'pandas.core.frame.DataFrame'>\n",
        "Int64Index: 121 entries, 0 to 13248\n",
        "Data columns:\n",
        "last_az_cmd    120  non-null values\n",
        "last_el_cmd    120  non-null values\n",
        "dtypes: float64(2)"
       ]
      }
     ],
     "prompt_number": 64
    },
    {
     "cell_type": "code",
     "collapsed": false,
     "input": [
      "dropped = dropped.dropna()"
     ],
     "language": "python",
     "metadata": {},
     "outputs": [],
     "prompt_number": 72
    },
    {
     "cell_type": "code",
     "collapsed": false,
     "input": [
      "print dropped.to_string()"
     ],
     "language": "python",
     "metadata": {},
     "outputs": [
      {
       "output_type": "stream",
       "stream": "stdout",
       "text": [
        "       last_az_cmd  last_el_cmd\n",
        "0           240.00         0.00\n",
        "16          240.00        80.00\n",
        "128         240.00       180.00\n",
        "3296        240.00        36.97\n",
        "3328        100.00        36.97\n",
        "3392        113.03        36.97\n",
        "25568       138.99        36.97\n",
        "2896          0.00         0.00\n",
        "16704       116.97        36.97\n",
        "10624       135.96        36.97\n",
        "2000        121.01        36.97\n",
        "24176       133.03        36.97\n",
        "4880        130.00        36.97\n",
        "11552       124.04        36.97\n",
        "800         240.00        60.00\n",
        "17200       118.99        36.97\n",
        "2128        234.95        36.97\n",
        "2144        230.00        36.97\n",
        "2160        224.95        36.97\n",
        "2176        220.00        36.97\n",
        "2192        214.95        36.97\n",
        "2208        210.00        36.97\n",
        "2224        204.95        36.97\n",
        "2240        200.00        36.97\n",
        "2256        194.95        36.97\n",
        "2272        190.00        36.97\n",
        "2288        184.95        36.97\n",
        "2304        180.00        36.97\n",
        "2320        174.95        36.97\n",
        "2336        170.00        36.97\n",
        "2352        164.95        36.97\n",
        "2368        160.00        36.97\n",
        "2384        154.95        36.97\n",
        "2400        150.00        36.97\n",
        "2416        144.95        36.97\n",
        "2432        140.00        36.97\n",
        "2448        134.95        36.97\n",
        "2480        124.95        36.97\n",
        "2496        120.00        36.97\n",
        "2512        114.95        36.97\n",
        "2528        110.00        36.97\n",
        "2544        104.95        36.97\n",
        "2576         94.95        36.97\n",
        "2592         90.00        36.97\n",
        "2608         84.95        36.97\n",
        "2624         80.00        36.97\n",
        "2640         74.95        36.97\n",
        "2656         70.00        36.97\n",
        "2672         64.95        36.97\n",
        "2688         60.00        36.97\n",
        "2704         54.95        36.97\n",
        "2720         50.00        36.97\n",
        "2736         44.95        36.97\n",
        "2752         40.00        36.97\n",
        "2768         34.95        36.97\n",
        "2784         30.00        36.97\n",
        "2800         24.95        36.97\n",
        "2816         20.00        36.97\n",
        "2832         14.95        36.97\n",
        "2848         10.00        36.97\n",
        "2864          4.95        36.97\n",
        "2880          0.00        36.97\n",
        "5888        240.00        90.00\n",
        "5904        233.13        90.00\n",
        "5936        233.33        90.00\n",
        "5952        233.54        90.00\n",
        "5968        233.74        90.00\n",
        "5984        233.94        90.00\n",
        "6000        234.14        90.00\n",
        "6016        234.34        90.00\n",
        "6032        234.55        90.00\n",
        "6048        234.75        90.00\n",
        "6064        234.95        90.00\n",
        "6080        235.15        90.00\n",
        "6096        235.35        90.00\n",
        "6112        235.56        90.00\n",
        "6128        235.76        90.00\n",
        "6144        235.96        90.00\n",
        "6160        236.16        90.00\n",
        "6176        236.36        90.00\n",
        "6192        236.57        90.00\n",
        "6208        236.77        90.00\n",
        "6224        236.97        90.00\n",
        "6240        237.17        90.00\n",
        "6256        237.37        90.00\n",
        "6272        237.58        90.00\n",
        "6288        237.78        90.00\n",
        "6304        237.98        90.00\n",
        "6320        238.18        90.00\n",
        "6336        238.38        90.00\n",
        "6352        238.59        90.00\n",
        "6368        238.79        90.00\n",
        "6384        238.99        90.00\n",
        "6400        239.19        90.00\n",
        "6416        239.39        90.00\n",
        "6432        239.60        90.00\n",
        "6448        239.80        90.00\n",
        "6480        240.20        90.00\n",
        "6496        240.40        90.00\n",
        "6512        240.61        90.00\n",
        "6528        240.81        90.00\n",
        "6544        241.01        90.00\n",
        "6560        241.21        90.00\n",
        "6576        241.41        90.00\n",
        "6592        241.62        90.00\n",
        "6608        241.82        90.00\n",
        "6624        242.02        90.00\n",
        "6816        240.00       121.31\n",
        "9024        240.00       121.11\n",
        "12832       240.00       187.88\n",
        "13600       240.00       187.68\n",
        "14320       240.00       187.58\n",
        "7600        128.99        36.97\n",
        "27120       136.97        36.97\n",
        "448         141.01        36.97\n",
        "7280        112.02        36.97\n",
        "14784       240.00       202.53\n",
        "11089       240.00       150.20\n",
        "26465       108.99        36.97\n",
        "13248       240.00       175.15\n"
       ]
      }
     ],
     "prompt_number": 88
    },
    {
     "cell_type": "code",
     "collapsed": false,
     "input": [
      "l = [1,2,nan,5]\n",
      "s = pd.Series(l)"
     ],
     "language": "python",
     "metadata": {},
     "outputs": [],
     "prompt_number": 92
    },
    {
     "cell_type": "code",
     "collapsed": false,
     "input": [],
     "language": "python",
     "metadata": {},
     "outputs": [
      {
       "output_type": "pyout",
       "prompt_number": 97,
       "text": [
        "[]"
       ]
      }
     ],
     "prompt_number": 97
    },
    {
     "cell_type": "code",
     "collapsed": false,
     "input": [
      "factor = pd.cut(_cmd,10)"
     ],
     "language": "python",
     "metadata": {},
     "outputs": [],
     "prompt_number": 50
    },
    {
     "cell_type": "code",
     "collapsed": false,
     "input": [
      "dropped"
     ],
     "language": "python",
     "metadata": {},
     "outputs": [
      {
       "output_type": "pyout",
       "prompt_number": 60,
       "text": [
        "0        240.00\n",
        "16       240.00\n",
        "128      240.00\n",
        "3296     240.00\n",
        "3328     100.00\n",
        "3392     113.03\n",
        "25568    138.99\n",
        "2896       0.00\n",
        "16704    116.97\n",
        "10624    135.96\n",
        "2000     121.01\n",
        "24176    133.03\n",
        "4880     130.00\n",
        "11552    124.04\n",
        "800      240.00\n",
        "...\n",
        "6608     241.82\n",
        "6624     242.02\n",
        "6816     240.00\n",
        "9024     240.00\n",
        "12832    240.00\n",
        "13600    240.00\n",
        "14320    240.00\n",
        "7600     128.99\n",
        "27120    136.97\n",
        "448      141.01\n",
        "7280     112.02\n",
        "14784    240.00\n",
        "11089    240.00\n",
        "26465    108.99\n",
        "13248    240.00\n",
        "Name: last_az_cmd, Length: 120"
       ]
      }
     ],
     "prompt_number": 60
    },
    {
     "cell_type": "code",
     "collapsed": false,
     "input": [],
     "language": "python",
     "metadata": {},
     "outputs": []
    }
   ],
   "metadata": {}
  }
 ]
}