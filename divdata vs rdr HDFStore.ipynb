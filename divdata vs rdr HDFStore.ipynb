{
 "metadata": {
  "name": "divdata vs rdr HDFStore"
 },
 "nbformat": 3,
 "nbformat_minor": 0,
 "worksheets": [
  {
   "cells": [
    {
     "cell_type": "code",
     "collapsed": false,
     "input": [
      "import pandas as pd\n",
      "import file_utils as fu\n",
      "import calib\n",
      "reload(pd)\n",
      "reload(fu)"
     ],
     "language": "python",
     "metadata": {},
     "outputs": [
      {
       "output_type": "pyout",
       "prompt_number": 1,
       "text": [
        "<module 'file_utils' from 'file_utils.pyc'>"
       ]
      }
     ],
     "prompt_number": 1
    },
    {
     "cell_type": "code",
     "collapsed": false,
     "input": [
      "pd.__version__"
     ],
     "language": "python",
     "metadata": {},
     "outputs": [
      {
       "output_type": "pyout",
       "prompt_number": 2,
       "text": [
        "'0.11.0.dev-b3e696c'"
       ]
      }
     ],
     "prompt_number": 2
    },
    {
     "cell_type": "code",
     "collapsed": false,
     "input": [
      "divrad_fname = '/Users/maye/data/diviner/rdr_data/2011041600_c3d11.divdata'"
     ],
     "language": "python",
     "metadata": {},
     "outputs": [],
     "prompt_number": 115
    },
    {
     "cell_type": "code",
     "collapsed": false,
     "input": [
      "columns = ['year','month','date','hour','minute','second','qmi','radiance']"
     ],
     "language": "python",
     "metadata": {},
     "outputs": [],
     "prompt_number": 116
    },
    {
     "cell_type": "code",
     "collapsed": false,
     "input": [
      "divdata = pd.io.parsers.read_table(divrad_fname, sep='\\s+',names=columns)"
     ],
     "language": "python",
     "metadata": {},
     "outputs": [],
     "prompt_number": 118
    },
    {
     "cell_type": "code",
     "collapsed": false,
     "input": [
      "divdata = fu.index_by_time(divdata)"
     ],
     "language": "python",
     "metadata": {},
     "outputs": [],
     "prompt_number": 119
    },
    {
     "cell_type": "code",
     "collapsed": false,
     "input": [
      "divdata = divdata.sort_index()"
     ],
     "language": "python",
     "metadata": {},
     "outputs": [],
     "prompt_number": 120
    },
    {
     "cell_type": "code",
     "collapsed": false,
     "input": [
      "divdata"
     ],
     "language": "python",
     "metadata": {},
     "outputs": [
      {
       "output_type": "pyout",
       "prompt_number": 121,
       "text": [
        "<class 'pandas.core.frame.DataFrame'>\n",
        "DatetimeIndex: 25661 entries, 2011-04-16 00:00:00.025000 to 2011-04-16 00:59:59.935000\n",
        "Data columns:\n",
        "qmi         25661  non-null values\n",
        "radiance    25661  non-null values\n",
        "dtypes: float64(2)"
       ]
      }
     ],
     "prompt_number": 121
    },
    {
     "cell_type": "code",
     "collapsed": false,
     "input": [
      "calib.is_moving(divdata).value_counts()"
     ],
     "language": "python",
     "metadata": {},
     "outputs": [
      {
       "output_type": "pyout",
       "prompt_number": 123,
       "text": [
        "False    25373\n",
        "True       288\n",
        "dtype: int64"
       ]
      }
     ],
     "prompt_number": 123
    },
    {
     "cell_type": "code",
     "collapsed": false,
     "input": [
      "store = pd.HDFStore('/Users/maye/data/diviner/rdr_data/2011041600_RDR.h5')"
     ],
     "language": "python",
     "metadata": {},
     "outputs": [],
     "prompt_number": 13
    },
    {
     "cell_type": "code",
     "collapsed": false,
     "input": [
      "store"
     ],
     "language": "python",
     "metadata": {},
     "outputs": [
      {
       "output_type": "pyout",
       "prompt_number": 14,
       "text": [
        "<class 'pandas.io.pytables.HDFStore'>\n",
        "File path: /Users/maye/data/diviner/rdr_data/2011041600_RDR.h5\n",
        "/df            frame_table  (typ->appendable,nrows->5315625,ncols->32,indexers->[index],dc->[c,det])"
       ]
      }
     ],
     "prompt_number": 14
    },
    {
     "cell_type": "code",
     "collapsed": false,
     "input": [
      "storedata = store.select('df',['c=3','det=11'])"
     ],
     "language": "python",
     "metadata": {},
     "outputs": [],
     "prompt_number": 71
    },
    {
     "cell_type": "code",
     "collapsed": false,
     "input": [
      "storedata = storedata[storedata.qmi==0]"
     ],
     "language": "python",
     "metadata": {},
     "outputs": [],
     "prompt_number": 26
    },
    {
     "cell_type": "code",
     "collapsed": false,
     "input": [
      "storedata.ix[divdata.index]"
     ],
     "language": "python",
     "metadata": {},
     "outputs": [
      {
       "output_type": "pyout",
       "prompt_number": 31,
       "text": [
        "<class 'pandas.core.frame.DataFrame'>\n",
        "DatetimeIndex: 25661 entries, 2011-04-16 00:00:00.025000 to 2011-04-16 00:59:59.935000\n",
        "Data columns:\n",
        "jdate        13401  non-null values\n",
        "orbit        13401  non-null values\n",
        "sundist      13401  non-null values\n",
        "sunlat       13401  non-null values\n",
        "sunlon       13401  non-null values\n",
        "sclk         13401  non-null values\n",
        "sclat        13401  non-null values\n",
        "sclon        13401  non-null values\n",
        "scrad        13401  non-null values\n",
        "scalt        13401  non-null values\n",
        "el_cmd       13401  non-null values\n",
        "az_cmd       13401  non-null values\n",
        "af           13401  non-null values\n",
        "orientlat    13401  non-null values\n",
        "orientlon    13401  non-null values\n",
        "c            13401  non-null values\n",
        "det          13401  non-null values\n",
        "vlookx       13401  non-null values\n",
        "vlooky       13401  non-null values\n",
        "vlookz       13401  non-null values\n",
        "radiance     13401  non-null values\n",
        "tb           13401  non-null values\n",
        "clat         13401  non-null values\n",
        "clon         13401  non-null values\n",
        "cemis        13401  non-null values\n",
        "csunzen      13401  non-null values\n",
        "csunazi      13401  non-null values\n",
        "cloctime     13401  non-null values\n",
        "qca          13401  non-null values\n",
        "qge          13401  non-null values\n",
        "qmi          13401  non-null values\n",
        "sdtype       13401  non-null values\n",
        "dtypes: float64(32)"
       ]
      }
     ],
     "prompt_number": 31
    },
    {
     "cell_type": "code",
     "collapsed": false,
     "input": [
      "storedata.join?"
     ],
     "language": "python",
     "metadata": {},
     "outputs": [],
     "prompt_number": 33
    },
    {
     "cell_type": "code",
     "collapsed": false,
     "input": [
      "divdata.index"
     ],
     "language": "python",
     "metadata": {},
     "outputs": [
      {
       "output_type": "pyout",
       "prompt_number": 22,
       "text": [
        "<class 'pandas.tseries.index.DatetimeIndex'>\n",
        "[2011-04-16 00:00:00.025000, ..., 2011-04-16 00:59:59.935000]\n",
        "Length: 25661, Freq: None, Timezone: None"
       ]
      }
     ],
     "prompt_number": 22
    },
    {
     "cell_type": "code",
     "collapsed": false,
     "input": [
      "dfall = divdata.copy()"
     ],
     "language": "python",
     "metadata": {},
     "outputs": [],
     "prompt_number": 34
    },
    {
     "cell_type": "code",
     "collapsed": false,
     "input": [
      "dfall.columns = ['divdata_rad']"
     ],
     "language": "python",
     "metadata": {},
     "outputs": [],
     "prompt_number": 45
    },
    {
     "cell_type": "code",
     "collapsed": false,
     "input": [
      "storedata['divdata_rad']=dfall.divdata_rad"
     ],
     "language": "python",
     "metadata": {},
     "outputs": [],
     "prompt_number": 48
    },
    {
     "cell_type": "code",
     "collapsed": false,
     "input": [
      "storedata"
     ],
     "language": "python",
     "metadata": {},
     "outputs": [
      {
       "output_type": "pyout",
       "prompt_number": 49,
       "text": [
        "<class 'pandas.core.frame.DataFrame'>\n",
        "DatetimeIndex: 26973 entries, 2011-04-16 00:00:00.025000 to 2011-04-16 00:59:59.935000\n",
        "Data columns:\n",
        "jdate          26973  non-null values\n",
        "orbit          26973  non-null values\n",
        "sundist        26973  non-null values\n",
        "sunlat         26973  non-null values\n",
        "sunlon         26973  non-null values\n",
        "sclk           26973  non-null values\n",
        "sclat          26973  non-null values\n",
        "sclon          26973  non-null values\n",
        "scrad          26973  non-null values\n",
        "scalt          26973  non-null values\n",
        "el_cmd         26973  non-null values\n",
        "az_cmd         26973  non-null values\n",
        "af             26973  non-null values\n",
        "orientlat      26973  non-null values\n",
        "orientlon      26973  non-null values\n",
        "c              26973  non-null values\n",
        "det            26973  non-null values\n",
        "vlookx         26973  non-null values\n",
        "vlooky         26973  non-null values\n",
        "vlookz         26973  non-null values\n",
        "radiance       26973  non-null values\n",
        "tb             26973  non-null values\n",
        "clat           25373  non-null values\n",
        "clon           25373  non-null values\n",
        "cemis          25373  non-null values\n",
        "csunzen        25453  non-null values\n",
        "csunazi        25453  non-null values\n",
        "cloctime       25373  non-null values\n",
        "qca            26973  non-null values\n",
        "qge            26973  non-null values\n",
        "qmi            26973  non-null values\n",
        "sdtype         26973  non-null values\n",
        "divdata_rad    13401  non-null values\n",
        "dtypes: float64(25), int64(8)"
       ]
      }
     ],
     "prompt_number": 49
    },
    {
     "cell_type": "code",
     "collapsed": false,
     "input": [
      "divdata_index = pd.Series(divdata.index)"
     ],
     "language": "python",
     "metadata": {},
     "outputs": [],
     "prompt_number": 50
    },
    {
     "cell_type": "code",
     "collapsed": false,
     "input": [
      "storedata_index = pd.Series(storedata.index)"
     ],
     "language": "python",
     "metadata": {},
     "outputs": [],
     "prompt_number": 51
    },
    {
     "cell_type": "code",
     "collapsed": false,
     "input": [
      "divdata_index.plot(style='r.',ms=10)\n",
      "storedata_index.plot(style='g.',ms=10)"
     ],
     "language": "python",
     "metadata": {},
     "outputs": [
      {
       "output_type": "pyout",
       "prompt_number": 60,
       "text": [
        "<matplotlib.axes.AxesSubplot at 0x11c8c2b90>"
       ]
      }
     ],
     "prompt_number": 60
    },
    {
     "cell_type": "code",
     "collapsed": false,
     "input": [
      "divdata_index.tail()"
     ],
     "language": "python",
     "metadata": {},
     "outputs": [
      {
       "output_type": "pyout",
       "prompt_number": 58,
       "text": [
        "25656   2011-04-16 00:59:59.423000\n",
        "25657   2011-04-16 00:59:59.551000\n",
        "25658   2011-04-16 00:59:59.679000\n",
        "25659   2011-04-16 00:59:59.807000\n",
        "25660   2011-04-16 00:59:59.935000\n",
        "dtype: datetime64[ns]"
       ]
      }
     ],
     "prompt_number": 58
    },
    {
     "cell_type": "code",
     "collapsed": false,
     "input": [
      "storedata_index.tail()"
     ],
     "language": "python",
     "metadata": {},
     "outputs": [
      {
       "output_type": "pyout",
       "prompt_number": 59,
       "text": [
        "26968   2011-04-16 00:59:59.423000\n",
        "26969   2011-04-16 00:59:59.551000\n",
        "26970   2011-04-16 00:59:59.679000\n",
        "26971   2011-04-16 00:59:59.807000\n",
        "26972   2011-04-16 00:59:59.935000\n",
        "dtype: datetime64[ns]"
       ]
      }
     ],
     "prompt_number": 59
    },
    {
     "cell_type": "code",
     "collapsed": false,
     "input": [
      "storedata.rename?"
     ],
     "language": "python",
     "metadata": {},
     "outputs": [],
     "prompt_number": 65
    },
    {
     "cell_type": "code",
     "collapsed": false,
     "input": [
      "storedata.radiance.plot(style='r.',ms=5)\n",
      "divdata.radiance.plot(style='g.',ms=5)"
     ],
     "language": "python",
     "metadata": {},
     "outputs": [
      {
       "output_type": "pyout",
       "prompt_number": 62,
       "text": [
        "<matplotlib.axes.AxesSubplot at 0x11d90ce90>"
       ]
      }
     ],
     "prompt_number": 62
    },
    {
     "cell_type": "code",
     "collapsed": false,
     "input": [
      "fu.define_sdtype(storedata)"
     ],
     "language": "python",
     "metadata": {},
     "outputs": [
      {
       "ename": "AttributeError",
       "evalue": "'DataFrame' object has no attribute 'moving'",
       "output_type": "pyerr",
       "traceback": [
        "---------------------------------------------------------------------------\nAttributeError                            Traceback (most recent call last)",
        "<ipython-input-73-540ee229f822> in <module>()\n----> 1 fu.define_sdtype(storedata)\n",
        "/Users/maye/Dropbox/src/diviner/file_utils.pyc in define_sdtype(df)\n    263     # this resets data from sdtypes >0 above that is still 'moving' to be \n    264     # sdtype=-1 (i.e. 'moving', defined by me)\n--> 265     df.sdtype[df.moving==1] = -1\n    266     \n    267     # now I don't need to check for moving anymore, the sdtypes are clean\n",
        "/Library/Frameworks/EPD64.framework/Versions/7.3/lib/python2.7/site-packages/pandas-0.11.0.dev_b3e696c-py2.7-macosx-10.5-x86_64.egg/pandas/core/frame.pyc in __getattr__(self, name)\n   2050             return self[name]\n   2051         raise AttributeError(\"'%s' object has no attribute '%s'\" %\n-> 2052                              (type(self).__name__, name))\n   2053 \n   2054     def __setattr__(self, name, value):\n",
        "AttributeError: 'DataFrame' object has no attribute 'moving'"
       ]
      }
     ],
     "prompt_number": 73
    },
    {
     "cell_type": "code",
     "collapsed": false,
     "input": [
      "def rename_cmd(oldname):\n",
      "    if oldname.endswith('_cmd'):\n",
      "        return 'last_'+oldname\n",
      "    else:\n",
      "        return oldname"
     ],
     "language": "python",
     "metadata": {},
     "outputs": [],
     "prompt_number": 67
    },
    {
     "cell_type": "code",
     "collapsed": false,
     "input": [
      "storedata.rename(columns=rename_cmd,inplace=True)"
     ],
     "language": "python",
     "metadata": {},
     "outputs": [
      {
       "output_type": "pyout",
       "prompt_number": 83,
       "text": [
        "<class 'pandas.core.frame.DataFrame'>\n",
        "DatetimeIndex: 28125 entries, 2011-04-16 00:00:00.025000 to 2011-04-16 00:59:59.935000\n",
        "Data columns:\n",
        "jdate          28125  non-null values\n",
        "orbit          28125  non-null values\n",
        "sundist        28125  non-null values\n",
        "sunlat         28125  non-null values\n",
        "sunlon         28125  non-null values\n",
        "sclk           28125  non-null values\n",
        "sclat          28125  non-null values\n",
        "sclon          28125  non-null values\n",
        "scrad          28125  non-null values\n",
        "scalt          28125  non-null values\n",
        "last_el_cmd    28125  non-null values\n",
        "last_az_cmd    28125  non-null values\n",
        "af             28125  non-null values\n",
        "orientlat      28125  non-null values\n",
        "orientlon      28125  non-null values\n",
        "c              28125  non-null values\n",
        "det            28125  non-null values\n",
        "vlookx         28125  non-null values\n",
        "vlooky         28125  non-null values\n",
        "vlookz         28125  non-null values\n",
        "radiance       28125  non-null values\n",
        "tb             28125  non-null values\n",
        "clat           25661  non-null values\n",
        "clon           25661  non-null values\n",
        "cemis          25661  non-null values\n",
        "csunzen        25901  non-null values\n",
        "csunazi        25901  non-null values\n",
        "cloctime       25661  non-null values\n",
        "qca            28125  non-null values\n",
        "qge            28125  non-null values\n",
        "qmi            28125  non-null values\n",
        "dtypes: float64(24), int64(7)"
       ]
      }
     ],
     "prompt_number": 83
    },
    {
     "cell_type": "code",
     "collapsed": false,
     "input": [
      "store.close()"
     ],
     "language": "python",
     "metadata": {},
     "outputs": [],
     "prompt_number": 74
    },
    {
     "cell_type": "code",
     "collapsed": false,
     "input": [
      "store = pd.HDFStore('/Users/maye/data/diviner/rdr_data/2011041600_RDR_2.h5')"
     ],
     "language": "python",
     "metadata": {},
     "outputs": [],
     "prompt_number": 75
    },
    {
     "cell_type": "code",
     "collapsed": false,
     "input": [
      "store"
     ],
     "language": "python",
     "metadata": {},
     "outputs": [
      {
       "output_type": "pyout",
       "prompt_number": 76,
       "text": [
        "<class 'pandas.io.pytables.HDFStore'>\n",
        "File path: /Users/maye/data/diviner/rdr_data/2011041600_RDR_2.h5\n",
        "/df            frame_table  (typ->appendable,nrows->5315625,ncols->31,indexers->[index],dc->[c,det,qmi])"
       ]
      }
     ],
     "prompt_number": 76
    },
    {
     "cell_type": "code",
     "collapsed": false,
     "input": [
      "storedata = store.select('df',['c=3','det=11'])"
     ],
     "language": "python",
     "metadata": {},
     "outputs": [],
     "prompt_number": 77
    },
    {
     "cell_type": "code",
     "collapsed": false,
     "input": [
      "storedata"
     ],
     "language": "python",
     "metadata": {},
     "outputs": [
      {
       "output_type": "pyout",
       "prompt_number": 78,
       "text": [
        "<class 'pandas.core.frame.DataFrame'>\n",
        "DatetimeIndex: 28125 entries, 2011-04-16 00:00:00.025000 to 2011-04-16 00:59:59.935000\n",
        "Data columns:\n",
        "jdate        28125  non-null values\n",
        "orbit        28125  non-null values\n",
        "sundist      28125  non-null values\n",
        "sunlat       28125  non-null values\n",
        "sunlon       28125  non-null values\n",
        "sclk         28125  non-null values\n",
        "sclat        28125  non-null values\n",
        "sclon        28125  non-null values\n",
        "scrad        28125  non-null values\n",
        "scalt        28125  non-null values\n",
        "el_cmd       28125  non-null values\n",
        "az_cmd       28125  non-null values\n",
        "af           28125  non-null values\n",
        "orientlat    28125  non-null values\n",
        "orientlon    28125  non-null values\n",
        "c            28125  non-null values\n",
        "det          28125  non-null values\n",
        "vlookx       28125  non-null values\n",
        "vlooky       28125  non-null values\n",
        "vlookz       28125  non-null values\n",
        "radiance     28125  non-null values\n",
        "tb           28125  non-null values\n",
        "clat         25661  non-null values\n",
        "clon         25661  non-null values\n",
        "cemis        25661  non-null values\n",
        "csunzen      25901  non-null values\n",
        "csunazi      25901  non-null values\n",
        "cloctime     25661  non-null values\n",
        "qca          28125  non-null values\n",
        "qge          28125  non-null values\n",
        "qmi          28125  non-null values\n",
        "dtypes: float64(24), int64(7)"
       ]
      }
     ],
     "prompt_number": 78
    },
    {
     "cell_type": "code",
     "collapsed": false,
     "input": [
      "storedata.clat.plot()"
     ],
     "language": "python",
     "metadata": {},
     "outputs": [
      {
       "output_type": "pyout",
       "prompt_number": 79,
       "text": [
        "<matplotlib.axes.AxesSubplot at 0x11f50db50>"
       ]
      }
     ],
     "prompt_number": 79
    },
    {
     "cell_type": "code",
     "collapsed": false,
     "input": [
      "storedata.el_cmd.plot()"
     ],
     "language": "python",
     "metadata": {},
     "outputs": [
      {
       "output_type": "pyout",
       "prompt_number": 82,
       "text": [
        "<matplotlib.axes.AxesSubplot at 0x11f664850>"
       ]
      }
     ],
     "prompt_number": 82
    },
    {
     "cell_type": "code",
     "collapsed": false,
     "input": [
      "storedata['moving'] = calib.is_moving(storedata)"
     ],
     "language": "python",
     "metadata": {},
     "outputs": [],
     "prompt_number": 86
    },
    {
     "cell_type": "code",
     "collapsed": false,
     "input": [
      "fu.define_sdtype(storedata)"
     ],
     "language": "python",
     "metadata": {},
     "outputs": [],
     "prompt_number": 89
    },
    {
     "cell_type": "code",
     "collapsed": false,
     "input": [
      "storedata"
     ],
     "language": "python",
     "metadata": {},
     "outputs": [
      {
       "output_type": "pyout",
       "prompt_number": 90,
       "text": [
        "<class 'pandas.core.frame.DataFrame'>\n",
        "DatetimeIndex: 28125 entries, 2011-04-16 00:00:00.025000 to 2011-04-16 00:59:59.935000\n",
        "Data columns:\n",
        "jdate                 28125  non-null values\n",
        "orbit                 28125  non-null values\n",
        "sundist               28125  non-null values\n",
        "sunlat                28125  non-null values\n",
        "sunlon                28125  non-null values\n",
        "sclk                  28125  non-null values\n",
        "sclat                 28125  non-null values\n",
        "sclon                 28125  non-null values\n",
        "scrad                 28125  non-null values\n",
        "scalt                 28125  non-null values\n",
        "last_el_cmd           28125  non-null values\n",
        "last_az_cmd           28125  non-null values\n",
        "af                    28125  non-null values\n",
        "orientlat             28125  non-null values\n",
        "orientlon             28125  non-null values\n",
        "c                     28125  non-null values\n",
        "det                   28125  non-null values\n",
        "vlookx                28125  non-null values\n",
        "vlooky                28125  non-null values\n",
        "vlookz                28125  non-null values\n",
        "radiance              28125  non-null values\n",
        "tb                    28125  non-null values\n",
        "clat                  25661  non-null values\n",
        "clon                  25661  non-null values\n",
        "cemis                 25661  non-null values\n",
        "csunzen               25901  non-null values\n",
        "csunazi               25901  non-null values\n",
        "cloctime              25661  non-null values\n",
        "qca                   28125  non-null values\n",
        "qge                   28125  non-null values\n",
        "qmi                   28125  non-null values\n",
        "sdtype                28125  non-null values\n",
        "calib_block_labels    28125  non-null values\n",
        "sv_block_labels       28125  non-null values\n",
        "bb_block_labels       28125  non-null values\n",
        "st_block_labels       28125  non-null values\n",
        "moving                28125  non-null values\n",
        "is_spaceview          28125  non-null values\n",
        "is_bbview             28125  non-null values\n",
        "is_stview             28125  non-null values\n",
        "is_moving             28125  non-null values\n",
        "is_stowed             28125  non-null values\n",
        "is_calib              28125  non-null values\n",
        "dtypes: bool(7), float64(24), int32(4), int64(8)"
       ]
      }
     ],
     "prompt_number": 90
    },
    {
     "cell_type": "code",
     "collapsed": false,
     "input": [
      "storedata=storedata[storedata.calib_block_labels==0]"
     ],
     "language": "python",
     "metadata": {},
     "outputs": [],
     "prompt_number": 124
    },
    {
     "cell_type": "code",
     "collapsed": false,
     "input": [
      "storedata.index"
     ],
     "language": "python",
     "metadata": {},
     "outputs": [
      {
       "output_type": "pyout",
       "prompt_number": 126,
       "text": [
        "<class 'pandas.tseries.index.DatetimeIndex'>\n",
        "[2011-04-16 00:00:00.025000, ..., 2011-04-16 00:59:59.935000]\n",
        "Length: 25661, Freq: None, Timezone: None"
       ]
      }
     ],
     "prompt_number": 126
    },
    {
     "cell_type": "code",
     "collapsed": false,
     "input": [
      "divdata"
     ],
     "language": "python",
     "metadata": {},
     "outputs": [
      {
       "output_type": "pyout",
       "prompt_number": 127,
       "text": [
        "<class 'pandas.core.frame.DataFrame'>\n",
        "DatetimeIndex: 25661 entries, 2011-04-16 00:00:00.025000 to 2011-04-16 00:59:59.935000\n",
        "Data columns:\n",
        "qmi         25661  non-null values\n",
        "radiance    25661  non-null values\n",
        "dtypes: float64(2)"
       ]
      }
     ],
     "prompt_number": 127
    },
    {
     "cell_type": "code",
     "collapsed": false,
     "input": [
      "pd.Series(divdata.index).plot(style='r.',ms=5)\n",
      "pd.Series(storedata.index).plot(style='g.',ms=5)"
     ],
     "language": "python",
     "metadata": {},
     "outputs": [
      {
       "output_type": "pyout",
       "prompt_number": 130,
       "text": [
        "<matplotlib.axes.AxesSubplot at 0x12f7e2210>"
       ]
      }
     ],
     "prompt_number": 130
    },
    {
     "cell_type": "code",
     "collapsed": false,
     "input": [
      "storedata.radiance.plot(style='g.',ms=5)\n",
      "divdata.radiance.plot(style='r.',ms=5)"
     ],
     "language": "python",
     "metadata": {},
     "outputs": [
      {
       "output_type": "pyout",
       "prompt_number": 112,
       "text": [
        "<matplotlib.axes.AxesSubplot at 0x12c5462d0>"
       ]
      }
     ],
     "prompt_number": 112
    },
    {
     "cell_type": "code",
     "collapsed": false,
     "input": [
      "divdata"
     ],
     "language": "python",
     "metadata": {},
     "outputs": [
      {
       "output_type": "pyout",
       "prompt_number": 93,
       "text": [
        "<class 'pandas.core.frame.DataFrame'>\n",
        "DatetimeIndex: 25661 entries, 2011-04-16 00:00:00.025000 to 2011-04-16 00:59:59.935000\n",
        "Data columns:\n",
        "radiance    25661  non-null values\n",
        "dtypes: float64(1)"
       ]
      }
     ],
     "prompt_number": 93
    },
    {
     "cell_type": "code",
     "collapsed": false,
     "input": [
      "storedata[storedata.calib_block_labels==0].index"
     ],
     "language": "python",
     "metadata": {},
     "outputs": [
      {
       "output_type": "pyout",
       "prompt_number": 99,
       "text": [
        "<class 'pandas.tseries.index.DatetimeIndex'>\n",
        "[2011-04-16 00:00:00.025000, ..., 2011-04-16 00:59:59.935000]\n",
        "Length: 25661, Freq: None, Timezone: None"
       ]
      }
     ],
     "prompt_number": 99
    },
    {
     "cell_type": "code",
     "collapsed": false,
     "input": [
      "divdataindex = pd.Series(divdata.index)"
     ],
     "language": "python",
     "metadata": {},
     "outputs": [],
     "prompt_number": 131
    },
    {
     "cell_type": "code",
     "collapsed": false,
     "input": [
      "storedataindex=pd.Series(storedata.index)"
     ],
     "language": "python",
     "metadata": {},
     "outputs": [],
     "prompt_number": 132
    },
    {
     "cell_type": "code",
     "collapsed": false,
     "input": [
      "storedataindex.size"
     ],
     "language": "python",
     "metadata": {},
     "outputs": [
      {
       "output_type": "pyout",
       "prompt_number": 134,
       "text": [
        "25661"
       ]
      }
     ],
     "prompt_number": 134
    },
    {
     "cell_type": "code",
     "collapsed": false,
     "input": [
      "divdataindex.size"
     ],
     "language": "python",
     "metadata": {},
     "outputs": [
      {
       "output_type": "pyout",
       "prompt_number": 135,
       "text": [
        "25661"
       ]
      }
     ],
     "prompt_number": 135
    },
    {
     "cell_type": "code",
     "collapsed": false,
     "input": [
      "(storedataindex -divdataindex).value_counts()"
     ],
     "language": "python",
     "metadata": {},
     "outputs": [
      {
       "output_type": "pyout",
       "prompt_number": 145,
       "text": [
        "0:00:00           13547\n",
        "0:00:00.000001    12114\n",
        "dtype: int64"
       ]
      }
     ],
     "prompt_number": 145
    },
    {
     "cell_type": "code",
     "collapsed": false,
     "input": [
      "storedataindex[1].value"
     ],
     "language": "python",
     "metadata": {},
     "outputs": [
      {
       "output_type": "pyout",
       "prompt_number": 153,
       "text": [
        "1302912000153000000"
       ]
      }
     ],
     "prompt_number": 153
    },
    {
     "cell_type": "code",
     "collapsed": false,
     "input": [
      "list(storedata.jdate.head() - storedata.jdate.head().shift())"
     ],
     "language": "python",
     "metadata": {},
     "outputs": [
      {
       "output_type": "pyout",
       "prompt_number": 166,
       "text": [
        "[nan,\n",
        " 1.4817342162132263e-06,\n",
        " 1.4812685549259186e-06,\n",
        " 1.4808028936386108e-06,\n",
        " 1.4821998775005341e-06]"
       ]
      }
     ],
     "prompt_number": 166
    },
    {
     "cell_type": "code",
     "collapsed": false,
     "input": [
      "storedataindex.head(20)"
     ],
     "language": "python",
     "metadata": {},
     "outputs": [
      {
       "output_type": "pyout",
       "prompt_number": 168,
       "text": [
        "0    2011-04-16 00:00:00.025000\n",
        "1    2011-04-16 00:00:00.153000\n",
        "2    2011-04-16 00:00:00.281000\n",
        "3    2011-04-16 00:00:00.409000\n",
        "4    2011-04-16 00:00:00.537000\n",
        "5    2011-04-16 00:00:00.665000\n",
        "6    2011-04-16 00:00:00.793000\n",
        "7    2011-04-16 00:00:00.921000\n",
        "8    2011-04-16 00:00:01.049000\n",
        "9    2011-04-16 00:00:01.177000\n",
        "10   2011-04-16 00:00:01.297000\n",
        "11   2011-04-16 00:00:01.425000\n",
        "12   2011-04-16 00:00:01.553000\n",
        "13   2011-04-16 00:00:01.681000\n",
        "14   2011-04-16 00:00:01.809000\n",
        "15   2011-04-16 00:00:01.937000\n",
        "16   2011-04-16 00:00:02.065000\n",
        "17   2011-04-16 00:00:02.193000\n",
        "18   2011-04-16 00:00:02.321000\n",
        "19   2011-04-16 00:00:02.449000\n",
        "dtype: datetime64[ns]"
       ]
      }
     ],
     "prompt_number": 168
    },
    {
     "cell_type": "code",
     "collapsed": false,
     "input": [
      "divdataindex.head(20)"
     ],
     "language": "python",
     "metadata": {},
     "outputs": [
      {
       "output_type": "pyout",
       "prompt_number": 169,
       "text": [
        "0    2011-04-16 00:00:00.025000\n",
        "1    2011-04-16 00:00:00.153000\n",
        "2    2011-04-16 00:00:00.281000\n",
        "3    2011-04-16 00:00:00.409000\n",
        "4    2011-04-16 00:00:00.537000\n",
        "5    2011-04-16 00:00:00.665000\n",
        "6    2011-04-16 00:00:00.793000\n",
        "7    2011-04-16 00:00:00.921000\n",
        "8    2011-04-16 00:00:01.048999\n",
        "9    2011-04-16 00:00:01.177000\n",
        "10   2011-04-16 00:00:01.296999\n",
        "11   2011-04-16 00:00:01.425000\n",
        "12   2011-04-16 00:00:01.552999\n",
        "13   2011-04-16 00:00:01.681000\n",
        "14   2011-04-16 00:00:01.808999\n",
        "15   2011-04-16 00:00:01.937000\n",
        "16   2011-04-16 00:00:02.064999\n",
        "17   2011-04-16 00:00:02.193000\n",
        "18   2011-04-16 00:00:02.321000\n",
        "19   2011-04-16 00:00:02.448999\n",
        "dtype: datetime64[ns]"
       ]
      }
     ],
     "prompt_number": 169
    },
    {
     "cell_type": "code",
     "collapsed": false,
     "input": [
      "def format_time(intime):\n",
      "    t = intime.to_datetime()\n",
      "    s = t.strftime('%Y-%m-%d %H:%M:%S.%f')\n",
      "    tail = s[-7:]\n",
      "    f = round(float(tail), 3)\n",
      "    return pd.Timestamp(s[:-7]+str(f)[1:])"
     ],
     "language": "python",
     "metadata": {},
     "outputs": [],
     "prompt_number": 247
    },
    {
     "cell_type": "code",
     "collapsed": false,
     "input": [
      "t = divdataindex[0]"
     ],
     "language": "python",
     "metadata": {},
     "outputs": [],
     "prompt_number": 203
    },
    {
     "cell_type": "code",
     "collapsed": false,
     "input": [
      "s = t.strftime('%S.%f')\n",
      "s[2:]"
     ],
     "language": "python",
     "metadata": {},
     "outputs": [
      {
       "output_type": "pyout",
       "prompt_number": 246,
       "text": [
        "'.025000'"
       ]
      }
     ],
     "prompt_number": 246
    },
    {
     "cell_type": "code",
     "collapsed": false,
     "input": [
      "tail = s[-7:]\n",
      "tail"
     ],
     "language": "python",
     "metadata": {},
     "outputs": [
      {
       "output_type": "pyout",
       "prompt_number": 207,
       "text": [
        "'.025000'"
       ]
      }
     ],
     "prompt_number": 207
    },
    {
     "cell_type": "code",
     "collapsed": false,
     "input": [
      "f = round(float(s[-7:]),3)\n",
      "f"
     ],
     "language": "python",
     "metadata": {},
     "outputs": [
      {
       "output_type": "pyout",
       "prompt_number": 210,
       "text": [
        "0.025"
       ]
      }
     ],
     "prompt_number": 210
    },
    {
     "cell_type": "code",
     "collapsed": false,
     "input": [
      "pd.Timestamp(s[:-7]+str(f))"
     ],
     "language": "python",
     "metadata": {},
     "outputs": [
      {
       "output_type": "pyout",
       "prompt_number": 211,
       "text": [
        "<Timestamp: 2011-04-16 00:00:00.025000>"
       ]
      }
     ],
     "prompt_number": 211
    },
    {
     "cell_type": "code",
     "collapsed": false,
     "input": [
      "divdataindex = pd.DataFrame(divdataindex)"
     ],
     "language": "python",
     "metadata": {},
     "outputs": [],
     "prompt_number": 251
    },
    {
     "cell_type": "code",
     "collapsed": false,
     "input": [
      "divdataindex.columns = ['oldtime']"
     ],
     "language": "python",
     "metadata": {},
     "outputs": [],
     "prompt_number": 257
    },
    {
     "cell_type": "code",
     "collapsed": false,
     "input": [
      "divdataindex"
     ],
     "language": "python",
     "metadata": {},
     "outputs": [
      {
       "output_type": "pyout",
       "prompt_number": 258,
       "text": [
        "<class 'pandas.core.frame.DataFrame'>\n",
        "Int64Index: 25661 entries, 0 to 25660\n",
        "Data columns:\n",
        "oldtime    25661  non-null values\n",
        "dtypes: datetime64[ns](1)"
       ]
      }
     ],
     "prompt_number": 258
    },
    {
     "cell_type": "code",
     "collapsed": false,
     "input": [
      "divdataindex['newtime'] = divdataindex.oldtime.map(format_time)"
     ],
     "language": "python",
     "metadata": {},
     "outputs": [],
     "prompt_number": 259
    },
    {
     "cell_type": "code",
     "collapsed": false,
     "input": [
      "divdataindex.head(20)"
     ],
     "language": "python",
     "metadata": {},
     "outputs": [
      {
       "html": [
        "<div style=\"max-height:1000px;max-width:1500px;overflow:auto;\">\n",
        "<table border=\"1\" class=\"dataframe\">\n",
        "  <thead>\n",
        "    <tr style=\"text-align: right;\">\n",
        "      <th></th>\n",
        "      <th>oldtime</th>\n",
        "      <th>newtime</th>\n",
        "    </tr>\n",
        "  </thead>\n",
        "  <tbody>\n",
        "    <tr>\n",
        "      <th>0 </th>\n",
        "      <td>2011-04-16 00:00:00.025000</td>\n",
        "      <td>2011-04-16 00:00:00.025000</td>\n",
        "    </tr>\n",
        "    <tr>\n",
        "      <th>1 </th>\n",
        "      <td>2011-04-16 00:00:00.153000</td>\n",
        "      <td>2011-04-16 00:00:00.153000</td>\n",
        "    </tr>\n",
        "    <tr>\n",
        "      <th>2 </th>\n",
        "      <td>2011-04-16 00:00:00.281000</td>\n",
        "      <td>2011-04-16 00:00:00.281000</td>\n",
        "    </tr>\n",
        "    <tr>\n",
        "      <th>3 </th>\n",
        "      <td>2011-04-16 00:00:00.409000</td>\n",
        "      <td>2011-04-16 00:00:00.409000</td>\n",
        "    </tr>\n",
        "    <tr>\n",
        "      <th>4 </th>\n",
        "      <td>2011-04-16 00:00:00.537000</td>\n",
        "      <td>2011-04-16 00:00:00.537000</td>\n",
        "    </tr>\n",
        "    <tr>\n",
        "      <th>5 </th>\n",
        "      <td>2011-04-16 00:00:00.665000</td>\n",
        "      <td>2011-04-16 00:00:00.665000</td>\n",
        "    </tr>\n",
        "    <tr>\n",
        "      <th>6 </th>\n",
        "      <td>2011-04-16 00:00:00.793000</td>\n",
        "      <td>2011-04-16 00:00:00.793000</td>\n",
        "    </tr>\n",
        "    <tr>\n",
        "      <th>7 </th>\n",
        "      <td>2011-04-16 00:00:00.921000</td>\n",
        "      <td>2011-04-16 00:00:00.921000</td>\n",
        "    </tr>\n",
        "    <tr>\n",
        "      <th>8 </th>\n",
        "      <td>2011-04-16 00:00:01.048999</td>\n",
        "      <td>2011-04-16 00:00:01.049000</td>\n",
        "    </tr>\n",
        "    <tr>\n",
        "      <th>9 </th>\n",
        "      <td>2011-04-16 00:00:01.177000</td>\n",
        "      <td>2011-04-16 00:00:01.177000</td>\n",
        "    </tr>\n",
        "    <tr>\n",
        "      <th>10</th>\n",
        "      <td>2011-04-16 00:00:01.296999</td>\n",
        "      <td>2011-04-16 00:00:01.297000</td>\n",
        "    </tr>\n",
        "    <tr>\n",
        "      <th>11</th>\n",
        "      <td>2011-04-16 00:00:01.425000</td>\n",
        "      <td>2011-04-16 00:00:01.425000</td>\n",
        "    </tr>\n",
        "    <tr>\n",
        "      <th>12</th>\n",
        "      <td>2011-04-16 00:00:01.552999</td>\n",
        "      <td>2011-04-16 00:00:01.553000</td>\n",
        "    </tr>\n",
        "    <tr>\n",
        "      <th>13</th>\n",
        "      <td>2011-04-16 00:00:01.681000</td>\n",
        "      <td>2011-04-16 00:00:01.681000</td>\n",
        "    </tr>\n",
        "    <tr>\n",
        "      <th>14</th>\n",
        "      <td>2011-04-16 00:00:01.808999</td>\n",
        "      <td>2011-04-16 00:00:01.809000</td>\n",
        "    </tr>\n",
        "    <tr>\n",
        "      <th>15</th>\n",
        "      <td>2011-04-16 00:00:01.937000</td>\n",
        "      <td>2011-04-16 00:00:01.937000</td>\n",
        "    </tr>\n",
        "    <tr>\n",
        "      <th>16</th>\n",
        "      <td>2011-04-16 00:00:02.064999</td>\n",
        "      <td>2011-04-16 00:00:02.065000</td>\n",
        "    </tr>\n",
        "    <tr>\n",
        "      <th>17</th>\n",
        "      <td>2011-04-16 00:00:02.193000</td>\n",
        "      <td>2011-04-16 00:00:02.193000</td>\n",
        "    </tr>\n",
        "    <tr>\n",
        "      <th>18</th>\n",
        "      <td>2011-04-16 00:00:02.321000</td>\n",
        "      <td>2011-04-16 00:00:02.321000</td>\n",
        "    </tr>\n",
        "    <tr>\n",
        "      <th>19</th>\n",
        "      <td>2011-04-16 00:00:02.448999</td>\n",
        "      <td>2011-04-16 00:00:02.449000</td>\n",
        "    </tr>\n",
        "  </tbody>\n",
        "</table>\n",
        "</div>"
       ],
       "output_type": "pyout",
       "prompt_number": 262,
       "text": [
        "                      oldtime                    newtime\n",
        "0  2011-04-16 00:00:00.025000 2011-04-16 00:00:00.025000\n",
        "1  2011-04-16 00:00:00.153000 2011-04-16 00:00:00.153000\n",
        "2  2011-04-16 00:00:00.281000 2011-04-16 00:00:00.281000\n",
        "3  2011-04-16 00:00:00.409000 2011-04-16 00:00:00.409000\n",
        "4  2011-04-16 00:00:00.537000 2011-04-16 00:00:00.537000\n",
        "5  2011-04-16 00:00:00.665000 2011-04-16 00:00:00.665000\n",
        "6  2011-04-16 00:00:00.793000 2011-04-16 00:00:00.793000\n",
        "7  2011-04-16 00:00:00.921000 2011-04-16 00:00:00.921000\n",
        "8  2011-04-16 00:00:01.048999 2011-04-16 00:00:01.049000\n",
        "9  2011-04-16 00:00:01.177000 2011-04-16 00:00:01.177000\n",
        "10 2011-04-16 00:00:01.296999 2011-04-16 00:00:01.297000\n",
        "11 2011-04-16 00:00:01.425000 2011-04-16 00:00:01.425000\n",
        "12 2011-04-16 00:00:01.552999 2011-04-16 00:00:01.553000\n",
        "13 2011-04-16 00:00:01.681000 2011-04-16 00:00:01.681000\n",
        "14 2011-04-16 00:00:01.808999 2011-04-16 00:00:01.809000\n",
        "15 2011-04-16 00:00:01.937000 2011-04-16 00:00:01.937000\n",
        "16 2011-04-16 00:00:02.064999 2011-04-16 00:00:02.065000\n",
        "17 2011-04-16 00:00:02.193000 2011-04-16 00:00:02.193000\n",
        "18 2011-04-16 00:00:02.321000 2011-04-16 00:00:02.321000\n",
        "19 2011-04-16 00:00:02.448999 2011-04-16 00:00:02.449000"
       ]
      }
     ],
     "prompt_number": 262
    },
    {
     "cell_type": "code",
     "collapsed": false,
     "input": [
      "divdata.index = divdataindex.newtime"
     ],
     "language": "python",
     "metadata": {},
     "outputs": [],
     "prompt_number": 264
    },
    {
     "cell_type": "code",
     "collapsed": false,
     "input": [
      "(pd.Series(divdata.index) - pd.Series(storedata.index)).value_counts()"
     ],
     "language": "python",
     "metadata": {},
     "outputs": [
      {
       "output_type": "pyout",
       "prompt_number": 266,
       "text": [
        "0:00:00    25661\n",
        "dtype: int64"
       ]
      }
     ],
     "prompt_number": 266
    },
    {
     "cell_type": "code",
     "collapsed": false,
     "input": [
      "alldata = divdata.copy()"
     ],
     "language": "python",
     "metadata": {},
     "outputs": [],
     "prompt_number": 267
    },
    {
     "cell_type": "code",
     "collapsed": false,
     "input": [
      "alldata = alldata.drop('qmi',axis=1)"
     ],
     "language": "python",
     "metadata": {},
     "outputs": [],
     "prompt_number": 273
    },
    {
     "cell_type": "code",
     "collapsed": false,
     "input": [
      "alldata.columns = ['divdata']"
     ],
     "language": "python",
     "metadata": {},
     "outputs": [],
     "prompt_number": 275
    },
    {
     "cell_type": "code",
     "collapsed": false,
     "input": [
      "alldata['storedata'] = storedata.radiance"
     ],
     "language": "python",
     "metadata": {},
     "outputs": [],
     "prompt_number": 276
    },
    {
     "cell_type": "code",
     "collapsed": false,
     "input": [
      "clf()\n",
      "((alldata.divdata - alldata.storedata)/alldata.storedata).hist()\n",
      "display(gcf())"
     ],
     "language": "python",
     "metadata": {},
     "outputs": [
      {
       "output_type": "display_data",
       "png": "[encoded data removed]",
       "text": [
        "<matplotlib.figure.Figure at 0x12f0bf910>"
       ]
      }
     ],
     "prompt_number": 293
    },
    {
     "cell_type": "code",
     "collapsed": false,
     "input": [
      "alldata"
     ],
     "language": "python",
     "metadata": {},
     "outputs": [
      {
       "output_type": "pyout",
       "prompt_number": 281,
       "text": [
        "<class 'pandas.core.frame.DataFrame'>\n",
        "DatetimeIndex: 25661 entries, 2011-04-16 00:00:00.025000 to 2011-04-16 00:59:59.935000\n",
        "Data columns:\n",
        "divdata      25661  non-null values\n",
        "storedata    25661  non-null values\n",
        "dtypes: float64(2)"
       ]
      }
     ],
     "prompt_number": 281
    },
    {
     "cell_type": "code",
     "collapsed": false,
     "input": [],
     "language": "python",
     "metadata": {},
     "outputs": []
    }
   ],
   "metadata": {}
  }
 ]
}