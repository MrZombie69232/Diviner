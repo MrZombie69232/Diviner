{
 "metadata": {
  "name": "divcalib sdtype with apply"
 },
 "nbformat": 3,
 "nbformat_minor": 0,
 "worksheets": [
  {
   "cells": [
    {
     "cell_type": "code",
     "collapsed": false,
     "input": [
      "import pandas as pd\n",
      "import diviner as div\n",
      "import calib as c\n",
      "import sys\n",
      "from scipy import ndimage as ndyy\n",
      "reload(c)"
     ],
     "language": "python",
     "metadata": {},
     "outputs": [
      {
       "output_type": "pyout",
       "prompt_number": 79,
       "text": [
        "<module 'calib' from 'calib.py'>"
       ]
      }
     ],
     "prompt_number": 79
    },
    {
     "cell_type": "code",
     "collapsed": false,
     "input": [
      "SV_AZ_MIN = 150.0\n",
      "SV_AZ_MAX = 270.0\n",
      "SV_EL_MIN = 45.0\n",
      "SV_EL_MAX = 100.0\n",
      "BB_AZ_MIN = 0.0\n",
      "BB_AZ_MAX = 270.0\n",
      "BB_EL_MIN = 0.0\n",
      "BB_EL_MAX = 3.0\n",
      "ST_AZ_MIN = 10.0\n",
      "ST_AZ_MAX = 270.0\n",
      "ST_EL_MIN = 35.00\n",
      "ST_EL_MAX = 45.00"
     ],
     "language": "python",
     "metadata": {},
     "outputs": [],
     "prompt_number": 2
    },
    {
     "cell_type": "code",
     "collapsed": false,
     "input": [
      "SV_AZ_MIN < 230 < SV_AZ_MAX"
     ],
     "language": "python",
     "metadata": {},
     "outputs": [
      {
       "output_type": "pyout",
       "prompt_number": 3,
       "text": [
        "True"
       ]
      }
     ],
     "prompt_number": 3
    },
    {
     "cell_type": "code",
     "collapsed": false,
     "input": [
      "if sys.platform == 'darwin':\n",
      "    bigdf = div.read_div_data(\"./df_by_2.h5\")\n",
      "else:\n",
      "    bigdf = div.read_div_data('/luna1/maye/2009072000.h5')"
     ],
     "language": "python",
     "metadata": {},
     "outputs": [],
     "prompt_number": 5
    },
    {
     "cell_type": "code",
     "collapsed": false,
     "input": [
      "divcal = c.DivCalib(bigdf)"
     ],
     "language": "python",
     "metadata": {},
     "outputs": [],
     "prompt_number": 8
    },
    {
     "cell_type": "code",
     "collapsed": false,
     "input": [
      "df = divcal.timed.set_index(['c','det',divcal.timed.index])"
     ],
     "language": "python",
     "metadata": {},
     "outputs": [],
     "prompt_number": 80
    },
    {
     "cell_type": "code",
     "collapsed": false,
     "input": [
      "def define_sdtype(row):\n",
      "    if (SV_AZ_MIN <= row['az_cmd'] <= SV_AZ_MAX) and \\\n",
      "       (SV_EL_MIN <= row['el_cmd'] <= SV_EL_MAX):\n",
      "        return 1\n",
      "    elif (BB_AZ_MIN <= row['az_cmd'] <= BB_AZ_MAX) and \\\n",
      "         (BB_EL_MIN <= row['el_cmd'] <= BB_EL_MAX):\n",
      "        return 2\n",
      "    elif (ST_AZ_MIN <= row['az_cmd'] <= ST_AZ_MAX) and \\\n",
      "         (ST_EL_MIN <= row['el_cmd'] <= ST_EL_MAX):\n",
      "        return 3\n",
      "    else:\n",
      "        return 0"
     ],
     "language": "python",
     "metadata": {},
     "outputs": [],
     "prompt_number": 64
    },
    {
     "cell_type": "code",
     "collapsed": false,
     "input": [
      "df['sdtype']= df.apply(define_sdtype,axis=1)"
     ],
     "language": "python",
     "metadata": {},
     "outputs": [],
     "prompt_number": 65
    },
    {
     "cell_type": "code",
     "collapsed": false,
     "input": [
      "df.sdtype.value_counts()"
     ],
     "language": "python",
     "metadata": {},
     "outputs": [
      {
       "output_type": "pyout",
       "prompt_number": 66,
       "text": [
        "0    2399922\n",
        "1     173219\n",
        "2      84672"
       ]
      }
     ],
     "prompt_number": 66
    },
    {
     "cell_type": "code",
     "collapsed": false,
     "input": [
      "df.groupby('sdtype').counts.mean()"
     ],
     "language": "python",
     "metadata": {},
     "outputs": [
      {
       "output_type": "pyout",
       "prompt_number": 67,
       "text": [
        "sdtype\n",
        "0         24913.473740\n",
        "1         25127.619378\n",
        "2         24300.815193\n",
        "Name: counts"
       ]
      }
     ],
     "prompt_number": 67
    },
    {
     "cell_type": "code",
     "collapsed": false,
     "input": [
      "sv = df[(df.az_cmd >= SV_AZ_MIN) & (df.az_cmd <= SV_AZ_MAX) & (df.el_cmd >= SV_EL_MIN) & (df.el_cmd <= SV_EL_MAX)]"
     ],
     "language": "python",
     "metadata": {},
     "outputs": [],
     "prompt_number": 69
    },
    {
     "cell_type": "code",
     "collapsed": false,
     "input": [
      "sv['sdtype']=1"
     ],
     "language": "python",
     "metadata": {},
     "outputs": [],
     "prompt_number": 70
    },
    {
     "cell_type": "code",
     "collapsed": false,
     "input": [
      "df['sdtype']=sv['sdtype']"
     ],
     "language": "python",
     "metadata": {},
     "outputs": [],
     "prompt_number": 71
    },
    {
     "cell_type": "code",
     "collapsed": false,
     "input": [
      "df"
     ],
     "language": "python",
     "metadata": {},
     "outputs": [
      {
       "output_type": "pyout",
       "prompt_number": 74,
       "text": [
        "<class 'pandas.core.frame.DataFrame'>\n",
        "MultiIndex: 2657813 entries, (1.0, 1.0, 2009-07-20 00:00:00.045000) to (5.0, 11.0, 2009-07-20 00:30:00.018000)\n",
        "Data columns:\n",
        "counts              2657813  non-null values\n",
        "bb_1_temp           163863  non-null values\n",
        "bb_2_temp           14175  non-null values\n",
        "el_cmd              2657813  non-null values\n",
        "az_cmd              2657813  non-null values\n",
        "qmi                 2657813  non-null values\n",
        "clat                2399922  non-null values\n",
        "clon                2399922  non-null values\n",
        "scalt               2657813  non-null values\n",
        "bb_1_temp_interp    2657813  non-null values\n",
        "bb_2_temp_interp    2657813  non-null values\n",
        "calib_data          2657813  non-null values\n",
        "sdtype              173219  non-null values\n",
        "dtypes: float64(12), int64(1)"
       ]
      }
     ],
     "prompt_number": 74
    },
    {
     "cell_type": "code",
     "collapsed": false,
     "input": [
      "c.define_sdtype(df)"
     ],
     "language": "python",
     "metadata": {},
     "outputs": [],
     "prompt_number": 81
    },
    {
     "cell_type": "code",
     "collapsed": false,
     "input": [
      "df"
     ],
     "language": "python",
     "metadata": {},
     "outputs": [
      {
       "output_type": "pyout",
       "prompt_number": 82,
       "text": [
        "<class 'pandas.core.frame.DataFrame'>\n",
        "MultiIndex: 2657813 entries, (1.0, 1.0, 2009-07-20 00:00:00.045000) to (5.0, 11.0, 2009-07-20 00:30:00.018000)\n",
        "Data columns:\n",
        "counts              2657813  non-null values\n",
        "bb_1_temp           163863  non-null values\n",
        "bb_2_temp           14175  non-null values\n",
        "el_cmd              2657813  non-null values\n",
        "az_cmd              2657813  non-null values\n",
        "qmi                 2657813  non-null values\n",
        "clat                2399922  non-null values\n",
        "clon                2399922  non-null values\n",
        "scalt               2657813  non-null values\n",
        "bb_1_temp_interp    2657813  non-null values\n",
        "bb_2_temp_interp    2657813  non-null values\n",
        "calib_data          2657813  non-null values\n",
        "sdtype              2657813  non-null values\n",
        "dtypes: float64(11), int64(2)"
       ]
      }
     ],
     "prompt_number": 82
    },
    {
     "cell_type": "code",
     "collapsed": false,
     "input": [
      "df.sdtype.value_counts()"
     ],
     "language": "python",
     "metadata": {},
     "outputs": [
      {
       "output_type": "pyout",
       "prompt_number": 83,
       "text": [
        "0    2399922\n",
        "1     173219\n",
        "2      84672"
       ]
      }
     ],
     "prompt_number": 83
    },
    {
     "cell_type": "code",
     "collapsed": false,
     "input": [
      "c.plot_calib_data(df.reset_index(),3,11)"
     ],
     "language": "python",
     "metadata": {},
     "outputs": [
      {
       "output_type": "pyout",
       "prompt_number": 87,
       "text": [
        "<matplotlib.axes.AxesSubplot at 0x20469bb50>"
       ]
      }
     ],
     "prompt_number": 87
    },
    {
     "cell_type": "code",
     "collapsed": false,
     "input": [
      "(df.reset_index().sdtype+23000).plot()"
     ],
     "language": "python",
     "metadata": {},
     "outputs": [
      {
       "output_type": "pyout",
       "prompt_number": 88,
       "text": [
        "<matplotlib.axes.AxesSubplot at 0x20469bb50>"
       ]
      }
     ],
     "prompt_number": 88
    },
    {
     "cell_type": "code",
     "collapsed": false,
     "input": [
      "df['is_spaceview'] = df.sdtype==1"
     ],
     "language": "python",
     "metadata": {},
     "outputs": [],
     "prompt_number": 89
    },
    {
     "cell_type": "code",
     "collapsed": false,
     "input": [
      "df.is_spaceview.value_counts()"
     ],
     "language": "python",
     "metadata": {},
     "outputs": [
      {
       "output_type": "pyout",
       "prompt_number": 90,
       "text": [
        "False    2484594\n",
        "True      173219"
       ]
      }
     ],
     "prompt_number": 90
    },
    {
     "cell_type": "code",
     "collapsed": false,
     "input": [
      "from scipy.ndimage import label"
     ],
     "language": "python",
     "metadata": {},
     "outputs": [],
     "prompt_number": 91
    },
    {
     "cell_type": "code",
     "collapsed": false,
     "input": [
      "df['spaceview_labels']=label(df.is_spaceview)[0]"
     ],
     "language": "python",
     "metadata": {},
     "outputs": [],
     "prompt_number": 92
    },
    {
     "cell_type": "code",
     "collapsed": false,
     "input": [
      "df.spaceview_labels.value_counts()"
     ],
     "language": "python",
     "metadata": {},
     "outputs": [
      {
       "output_type": "pyout",
       "prompt_number": 93,
       "text": [
        "0    2484594\n",
        "7      24192\n",
        "5      24192\n",
        "3      24192\n",
        "1      24192\n",
        "6      21168\n",
        "4      21168\n",
        "2      21168\n",
        "8      12947"
       ]
      }
     ],
     "prompt_number": 93
    },
    {
     "cell_type": "code",
     "collapsed": false,
     "input": [
      "clf()\n",
      "df[(df.is_spaceview>0)].ix[3].ix[11].spaceview_labels.plot(style='*')"
     ],
     "language": "python",
     "metadata": {},
     "outputs": [
      {
       "output_type": "pyout",
       "prompt_number": 99,
       "text": [
        "<matplotlib.axes.AxesSubplot at 0x245e34650>"
       ]
      }
     ],
     "prompt_number": 99
    },
    {
     "cell_type": "code",
     "collapsed": false,
     "input": [
      "clf()\n",
      "df.groupby('spaceview_labels').counts.mean().plot()"
     ],
     "language": "python",
     "metadata": {},
     "outputs": [
      {
       "output_type": "pyout",
       "prompt_number": 103,
       "text": [
        "<matplotlib.axes.AxesSubplot at 0x245e3e490>"
       ]
      }
     ],
     "prompt_number": 103
    },
    {
     "cell_type": "code",
     "collapsed": false,
     "input": [],
     "language": "python",
     "metadata": {},
     "outputs": []
    }
   ],
   "metadata": {}
  }
 ]
}