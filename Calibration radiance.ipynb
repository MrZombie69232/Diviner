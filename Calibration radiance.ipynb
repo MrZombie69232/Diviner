{
 "metadata": {
  "name": "Calibration radiance"
 },
 "nbformat": 3,
 "nbformat_minor": 0,
 "worksheets": [
  {
   "cells": [
    {
     "cell_type": "code",
     "collapsed": false,
     "input": [
      "import pandas as pd\n",
      "import diviner as div\n",
      "import calib as c\n",
      "import sys\n",
      "reload(c)"
     ],
     "language": "python",
     "metadata": {},
     "outputs": [
      {
       "output_type": "pyout",
       "prompt_number": 1,
       "text": [
        "<module 'calib' from 'calib.pyc'>"
       ]
      }
     ],
     "prompt_number": 1
    },
    {
     "cell_type": "code",
     "collapsed": false,
     "input": [
      "if sys.platform == 'darwin':\n",
      "    bigdf = div.read_div_data(\"./df_by_2.h5\")\n",
      "else:\n",
      "    bigdf = div.read_div_data('/luna1/maye/2009072000.h5')"
     ],
     "language": "python",
     "metadata": {},
     "outputs": [],
     "prompt_number": 2
    },
    {
     "cell_type": "code",
     "collapsed": false,
     "input": [
      "divcal = c.DivCalib(bigdf)"
     ],
     "language": "python",
     "metadata": {},
     "outputs": [],
     "prompt_number": 3
    },
    {
     "cell_type": "code",
     "collapsed": false,
     "input": [
      "divcal.df.columns"
     ],
     "language": "python",
     "metadata": {},
     "outputs": [
      {
       "output_type": "pyout",
       "prompt_number": 7,
       "text": [
        "Index([counts, bb_1_temp, bb_2_temp, el_cmd, az_cmd, year, month, date, hour, minute, second, qmi, clat, clon, scalt, calib_data, is_moving, sdtype, is_spaceview, is_bbview, is_stview, sv_blocks, bb_blocks], dtype=object)"
       ]
      }
     ],
     "prompt_number": 7
    },
    {
     "cell_type": "code",
     "collapsed": false,
     "input": [
      "cleanbb1 = divcal.df.bb_1_temp.dropna().drop_duplicates()"
     ],
     "language": "python",
     "metadata": {},
     "outputs": [],
     "prompt_number": 5
    },
    {
     "cell_type": "code",
     "collapsed": false,
     "input": [
      "calib = (divcal.df.is_moving == False) & (divcal.df.is_spaceview | divcal.df.is_bbview)"
     ],
     "language": "python",
     "metadata": {},
     "outputs": [],
     "prompt_number": 6
    },
    {
     "cell_type": "code",
     "collapsed": false,
     "input": [
      "calib.value_counts()"
     ],
     "language": "python",
     "metadata": {},
     "outputs": [
      {
       "output_type": "pyout",
       "prompt_number": 9,
       "text": [
        "False    2484594\n",
        "True      173219"
       ]
      }
     ],
     "prompt_number": 9
    },
    {
     "cell_type": "code",
     "collapsed": false,
     "input": [
      "df = divcal.df"
     ],
     "language": "python",
     "metadata": {},
     "outputs": [],
     "prompt_number": 14
    },
    {
     "cell_type": "code",
     "collapsed": false,
     "input": [
      "(df.is_spaceview[- df.is_moving].value_counts())+\\\n",
      "(df.is_bbview[- df.is_moving].value_counts())"
     ],
     "language": "python",
     "metadata": {},
     "outputs": [
      {
       "output_type": "pyout",
       "prompt_number": 21,
       "text": [
        "False    4918631\n",
        "True      173219"
       ]
      }
     ],
     "prompt_number": 21
    },
    {
     "cell_type": "code",
     "collapsed": false,
     "input": [
      "df['is_calib']=calib"
     ],
     "language": "python",
     "metadata": {},
     "outputs": [],
     "prompt_number": 23
    },
    {
     "cell_type": "code",
     "collapsed": false,
     "input": [
      "divcal.df.columns"
     ],
     "language": "python",
     "metadata": {},
     "outputs": [
      {
       "output_type": "pyout",
       "prompt_number": 24,
       "text": [
        "Index([counts, bb_1_temp, bb_2_temp, el_cmd, az_cmd, year, month, date, hour, minute, second, qmi, clat, clon, scalt, calib_data, is_moving, sdtype, is_spaceview, is_bbview, is_stview, sv_blocks, bb_blocks, is_calib], dtype=object)"
       ]
      }
     ],
     "prompt_number": 24
    },
    {
     "cell_type": "code",
     "collapsed": false,
     "input": [
      "ch3 = divcal.timed.ix[3]"
     ],
     "language": "python",
     "metadata": {},
     "outputs": [],
     "prompt_number": 7
    },
    {
     "cell_type": "code",
     "collapsed": false,
     "input": [
      "divcal.timed.bb_2_temp_interp"
     ],
     "language": "python",
     "metadata": {},
     "outputs": [
      {
       "output_type": "pyout",
       "prompt_number": 10,
       "text": [
        "2009-07-20 00:00:00.045000    312.591132\n",
        "2009-07-20 00:00:00.045000    312.591132\n",
        "2009-07-20 00:00:00.045000    312.591132\n",
        "2009-07-20 00:00:00.045000    312.591132\n",
        "2009-07-20 00:00:00.045000    312.591132\n",
        "2009-07-20 00:00:00.045000    312.591132\n",
        "2009-07-20 00:00:00.045000    312.591132\n",
        "2009-07-20 00:00:00.045000    312.591132\n",
        "2009-07-20 00:00:00.045000    312.591132\n",
        "2009-07-20 00:00:00.045000    312.591132\n",
        "2009-07-20 00:00:00.045000    312.591132\n",
        "2009-07-20 00:00:00.045000    312.591132\n",
        "2009-07-20 00:00:00.045000    312.591132\n",
        "2009-07-20 00:00:00.045000    312.591132\n",
        "2009-07-20 00:00:00.045000    312.591132\n",
        "...\n",
        "2009-07-20 00:30:00.018000    314.214523\n",
        "2009-07-20 00:30:00.018000    314.214523\n",
        "2009-07-20 00:30:00.018000    314.214523\n",
        "2009-07-20 00:30:00.018000    314.214523\n",
        "2009-07-20 00:30:00.018000    314.214523\n",
        "2009-07-20 00:30:00.018000    314.214523\n",
        "2009-07-20 00:30:00.018000    314.214523\n",
        "2009-07-20 00:30:00.018000    314.214523\n",
        "2009-07-20 00:30:00.018000    314.214523\n",
        "2009-07-20 00:30:00.018000    314.214523\n",
        "2009-07-20 00:30:00.018000    314.214523\n",
        "2009-07-20 00:30:00.018000    314.214523\n",
        "2009-07-20 00:30:00.018000    314.214523\n",
        "2009-07-20 00:30:00.018000    314.214523\n",
        "2009-07-20 00:30:00.018000    314.214523\n",
        "Name: bb_2_temp_interp, Length: 2657813"
       ]
      }
     ],
     "prompt_number": 10
    },
    {
     "cell_type": "code",
     "collapsed": false,
     "input": [
      "divcal.bbv.nrad.unique()"
     ],
     "language": "python",
     "metadata": {},
     "outputs": [
      {
       "output_type": "pyout",
       "prompt_number": 11,
       "text": [
        "array([ 0.       ,  1.2684011,  1.2515698,  1.2427154,  1.1280847,\n",
        "        1.0740627,  1.0532841,  1.0450492,  1.2443816,  1.2291874,\n",
        "        1.2211873,  1.117161 ,  1.2927279,  1.2742143,  1.2644837,\n",
        "        1.1390531,  1.0876439,  1.0629955,  1.0532493,  1.3173633,\n",
        "        1.2971221,  1.2864928,  1.1500659,  1.0944473,  1.0678538,\n",
        "        1.0573504])"
       ]
      }
     ],
     "prompt_number": 11
    },
    {
     "cell_type": "code",
     "collapsed": false,
     "input": [
      "divcal.timed.bb_2_temp_interp.round(2)*100"
     ],
     "language": "python",
     "metadata": {},
     "outputs": [
      {
       "output_type": "pyout",
       "prompt_number": 14,
       "text": [
        "2009-07-20 00:00:00.045000    31259\n",
        "2009-07-20 00:00:00.045000    31259\n",
        "2009-07-20 00:00:00.045000    31259\n",
        "2009-07-20 00:00:00.045000    31259\n",
        "2009-07-20 00:00:00.045000    31259\n",
        "2009-07-20 00:00:00.045000    31259\n",
        "2009-07-20 00:00:00.045000    31259\n",
        "2009-07-20 00:00:00.045000    31259\n",
        "2009-07-20 00:00:00.045000    31259\n",
        "2009-07-20 00:00:00.045000    31259\n",
        "2009-07-20 00:00:00.045000    31259\n",
        "2009-07-20 00:00:00.045000    31259\n",
        "2009-07-20 00:00:00.045000    31259\n",
        "2009-07-20 00:00:00.045000    31259\n",
        "2009-07-20 00:00:00.045000    31259\n",
        "...\n",
        "2009-07-20 00:30:00.018000    31421\n",
        "2009-07-20 00:30:00.018000    31421\n",
        "2009-07-20 00:30:00.018000    31421\n",
        "2009-07-20 00:30:00.018000    31421\n",
        "2009-07-20 00:30:00.018000    31421\n",
        "2009-07-20 00:30:00.018000    31421\n",
        "2009-07-20 00:30:00.018000    31421\n",
        "2009-07-20 00:30:00.018000    31421\n",
        "2009-07-20 00:30:00.018000    31421\n",
        "2009-07-20 00:30:00.018000    31421\n",
        "2009-07-20 00:30:00.018000    31421\n",
        "2009-07-20 00:30:00.018000    31421\n",
        "2009-07-20 00:30:00.018000    31421\n",
        "2009-07-20 00:30:00.018000    31421\n",
        "2009-07-20 00:30:00.018000    31421\n",
        "Name: bb_2_temp_interp, Length: 2657813"
       ]
      }
     ],
     "prompt_number": 14
    },
    {
     "cell_type": "code",
     "collapsed": false,
     "input": [
      "bbv = c.get_bbviews(divcal.timed)"
     ],
     "language": "python",
     "metadata": {},
     "outputs": [],
     "prompt_number": 10
    },
    {
     "cell_type": "code",
     "collapsed": false,
     "input": [
      "bbv['nrad']=0.0"
     ],
     "language": "python",
     "metadata": {},
     "outputs": [],
     "prompt_number": 313
    },
    {
     "cell_type": "code",
     "collapsed": false,
     "input": [
      "bbv[bbv.c==3].nrad = 5"
     ],
     "language": "python",
     "metadata": {},
     "outputs": [],
     "prompt_number": 319
    },
    {
     "cell_type": "code",
     "collapsed": false,
     "input": [
      "bbv.nrad[bbv.c==3]"
     ],
     "language": "python",
     "metadata": {},
     "outputs": [
      {
       "output_type": "pyout",
       "prompt_number": 317,
       "text": [
        "2009-07-20 00:03:01.552000    0\n",
        "2009-07-20 00:03:01.552000    0\n",
        "2009-07-20 00:03:01.552000    0\n",
        "2009-07-20 00:03:01.552000    0\n",
        "2009-07-20 00:03:01.552000    0\n",
        "2009-07-20 00:03:01.552000    0\n",
        "2009-07-20 00:03:01.552000    0\n",
        "2009-07-20 00:03:01.552000    0\n",
        "2009-07-20 00:03:01.552000    0\n",
        "2009-07-20 00:03:01.552000    0\n",
        "2009-07-20 00:03:01.552000    0\n",
        "2009-07-20 00:03:01.552000    0\n",
        "2009-07-20 00:03:01.552000    0\n",
        "2009-07-20 00:03:01.552000    0\n",
        "2009-07-20 00:03:01.552000    0\n",
        "...\n",
        "2009-07-20 00:29:51.185999    0\n",
        "2009-07-20 00:29:51.185999    0\n",
        "2009-07-20 00:29:51.185999    0\n",
        "2009-07-20 00:29:51.185999    0\n",
        "2009-07-20 00:29:51.185999    0\n",
        "2009-07-20 00:29:51.185999    0\n",
        "2009-07-20 00:29:51.185999    0\n",
        "2009-07-20 00:29:51.185999    0\n",
        "2009-07-20 00:29:51.185999    0\n",
        "2009-07-20 00:29:51.185999    0\n",
        "2009-07-20 00:29:51.185999    0\n",
        "2009-07-20 00:29:51.185999    0\n",
        "2009-07-20 00:29:51.185999    0\n",
        "2009-07-20 00:29:51.185999    0\n",
        "2009-07-20 00:29:51.185999    0\n",
        "Name: nrad, Length: 6720"
       ]
      }
     ],
     "prompt_number": 317
    },
    {
     "cell_type": "code",
     "collapsed": false,
     "input": [
      "l = [(i,'bb_1_temp_interp') for i in range(3,7)]\n",
      "l2 = [(i,'bb_2_temp_interp') for i in range(7,10)]\n",
      "dict( l+l2)"
     ],
     "language": "python",
     "metadata": {},
     "outputs": [
      {
       "output_type": "pyout",
       "prompt_number": 321,
       "text": [
        "{3: 'bb_1_temp_interp',\n",
        " 4: 'bb_1_temp_interp',\n",
        " 5: 'bb_1_temp_interp',\n",
        " 6: 'bb_1_temp_interp',\n",
        " 7: 'bb_2_temp_interp',\n",
        " 8: 'bb_2_temp_interp',\n",
        " 9: 'bb_2_temp_interp'}"
       ]
      }
     ],
     "prompt_number": 321
    },
    {
     "cell_type": "code",
     "collapsed": false,
     "input": [
      "bbv.bb_1_temp_interp[bbv.c==3].round(), 3"
     ],
     "language": "python",
     "metadata": {},
     "outputs": [
      {
       "output_type": "pyout",
       "prompt_number": 290,
       "text": [
        "(2009-07-20 00:03:01.552000    312\n",
        "2009-07-20 00:03:01.552000    312\n",
        "2009-07-20 00:03:01.552000    312\n",
        "2009-07-20 00:03:01.552000    312\n",
        "2009-07-20 00:03:01.552000    312\n",
        "2009-07-20 00:03:01.552000    312\n",
        "2009-07-20 00:03:01.552000    312\n",
        "2009-07-20 00:03:01.552000    312\n",
        "2009-07-20 00:03:01.552000    312\n",
        "2009-07-20 00:03:01.552000    312\n",
        "2009-07-20 00:03:01.552000    312\n",
        "2009-07-20 00:03:01.552000    312\n",
        "2009-07-20 00:03:01.552000    312\n",
        "2009-07-20 00:03:01.552000    312\n",
        "2009-07-20 00:03:01.552000    312\n",
        "...\n",
        "2009-07-20 00:29:51.185999    314\n",
        "2009-07-20 00:29:51.185999    314\n",
        "2009-07-20 00:29:51.185999    314\n",
        "2009-07-20 00:29:51.185999    314\n",
        "2009-07-20 00:29:51.185999    314\n",
        "2009-07-20 00:29:51.185999    314\n",
        "2009-07-20 00:29:51.185999    314\n",
        "2009-07-20 00:29:51.185999    314\n",
        "2009-07-20 00:29:51.185999    314\n",
        "2009-07-20 00:29:51.185999    314\n",
        "2009-07-20 00:29:51.185999    314\n",
        "2009-07-20 00:29:51.185999    314\n",
        "2009-07-20 00:29:51.185999    314\n",
        "2009-07-20 00:29:51.185999    314\n",
        "2009-07-20 00:29:51.185999    314\n",
        "Name: bb_1_temp_interp, Length: 6720,\n",
        " 3)"
       ]
      }
     ],
     "prompt_number": 290
    },
    {
     "cell_type": "code",
     "collapsed": false,
     "input": [
      "nrad = divcal.t2nrad.ix[bbv.bb_1_temp_interp[bbv.c==3].round(), 3]"
     ],
     "language": "python",
     "metadata": {},
     "outputs": [],
     "prompt_number": 291
    },
    {
     "cell_type": "code",
     "collapsed": false,
     "input": [
      "nrad.dtype"
     ],
     "language": "python",
     "metadata": {},
     "outputs": [
      {
       "output_type": "pyout",
       "prompt_number": 293,
       "text": [
        "dtype('object')"
       ]
      }
     ],
     "prompt_number": 293
    },
    {
     "cell_type": "code",
     "collapsed": false,
     "input": [
      "bbv.nrad[bbv.c==3] = nrad.astype('float64')"
     ],
     "language": "python",
     "metadata": {},
     "outputs": [],
     "prompt_number": 295
    },
    {
     "cell_type": "code",
     "collapsed": false,
     "input": [
      "bbv.nrad.unique()"
     ],
     "language": "python",
     "metadata": {},
     "outputs": [
      {
       "output_type": "pyout",
       "prompt_number": 297,
       "text": [
        "array([ 0.       ,  1.2684011,  1.2443816,  1.2927279,  1.3173633])"
       ]
      }
     ],
     "prompt_number": 297
    },
    {
     "cell_type": "code",
     "collapsed": false,
     "input": [],
     "language": "python",
     "metadata": {},
     "outputs": []
    }
   ],
   "metadata": {}
  }
 ]
}