{
 "metadata": {
  "name": "Calibration radiance"
 },
 "nbformat": 3,
 "nbformat_minor": 0,
 "worksheets": [
  {
   "cells": [
    {
     "cell_type": "code",
     "collapsed": false,
     "input": [
      "import pandas as pd\n",
      "import diviner as div\n",
      "import calib as c\n",
      "import sys\n",
      "reload(c)"
     ],
     "language": "python",
     "metadata": {},
     "outputs": [
      {
       "output_type": "pyout",
       "prompt_number": 88,
       "text": [
        "<module 'calib' from 'calib.py'>"
       ]
      }
     ],
     "prompt_number": 88
    },
    {
     "cell_type": "code",
     "collapsed": false,
     "input": [
      "if sys.platform == 'darwin':\n",
      "    divcal = c.DivCalib(div.read_div_data(\"./df_by_2.h5\"))\n",
      "else:\n",
      "    divcal = c.DivCalib(div.read_div_data('/luna1/maye/2009072000.h5'))"
     ],
     "language": "python",
     "metadata": {},
     "outputs": [],
     "prompt_number": 89
    },
    {
     "cell_type": "code",
     "collapsed": false,
     "input": [
      "cleanbb1 = divcal.df.bb_1_temp.dropna().drop_duplicates()"
     ],
     "language": "python",
     "metadata": {},
     "outputs": [],
     "prompt_number": 90
    },
    {
     "cell_type": "code",
     "collapsed": false,
     "input": [
      "hist(arr % 1,30)"
     ],
     "language": "python",
     "metadata": {},
     "outputs": [
      {
       "output_type": "pyout",
       "prompt_number": 91,
       "text": [
        "(array([35, 35, 26, 38, 33, 32, 26, 19, 24, 21, 19, 24, 16, 14, 13,  6, 13,\n",
        "        9, 10, 22, 28, 27, 17, 27, 19, 18, 23, 17, 24, 31]),\n",
        " array([ 0.    ,  0.0333,  0.0666,  0.0999,  0.1332,  0.1665,  0.1998,\n",
        "        0.2331,  0.2664,  0.2997,  0.333 ,  0.3663,  0.3996,  0.4329,\n",
        "        0.4662,  0.4995,  0.5328,  0.5661,  0.5994,  0.6327,  0.666 ,\n",
        "        0.6993,  0.7326,  0.7659,  0.7992,  0.8325,  0.8658,  0.8991,\n",
        "        0.9324,  0.9657,  0.999 ]),\n",
        " <a list of 30 Patch objects>)"
       ]
      }
     ],
     "prompt_number": 91
    },
    {
     "cell_type": "code",
     "collapsed": false,
     "input": [
      "calib = ((divcal.timed.el_cmd==80) | (divcal.timed.el_cmd==0)) & -c.is_moving(divcal.timed)"
     ],
     "language": "python",
     "metadata": {},
     "outputs": [],
     "prompt_number": 3
    },
    {
     "cell_type": "code",
     "collapsed": false,
     "input": [
      "divcal.timed['isCalib']=calib"
     ],
     "language": "python",
     "metadata": {},
     "outputs": [],
     "prompt_number": 4
    },
    {
     "cell_type": "code",
     "collapsed": false,
     "input": [
      "len(calib.index)"
     ],
     "language": "python",
     "metadata": {},
     "outputs": [
      {
       "output_type": "pyout",
       "prompt_number": 5,
       "text": [
        "2657813"
       ]
      }
     ],
     "prompt_number": 5
    },
    {
     "cell_type": "code",
     "collapsed": false,
     "input": [
      "ch3 = divcal.timed.ix[3]"
     ],
     "language": "python",
     "metadata": {},
     "outputs": [],
     "prompt_number": 6
    },
    {
     "cell_type": "code",
     "collapsed": false,
     "input": [
      "ch3"
     ],
     "language": "python",
     "metadata": {},
     "outputs": [
      {
       "output_type": "pyout",
       "prompt_number": 7,
       "text": [
        "c                          1\n",
        "det                        4\n",
        "counts                 26646\n",
        "bb_1_temp                NaN\n",
        "bb_2_temp                NaN\n",
        "el_cmd                   180\n",
        "az_cmd                   240\n",
        "qmi                        0\n",
        "bb_1_temp_interp    312.4689\n",
        "bb_2_temp_interp    312.3749\n",
        "isCalib                False\n",
        "Name: 2009-07-20 00:00:00.045000"
       ]
      }
     ],
     "prompt_number": 7
    },
    {
     "cell_type": "code",
     "collapsed": false,
     "input": [
      "divcal.timed.isCalib.value_counts()"
     ],
     "language": "python",
     "metadata": {},
     "outputs": [
      {
       "output_type": "pyout",
       "prompt_number": 8,
       "text": [
        "False    2484594\n",
        "True      173219"
       ]
      }
     ],
     "prompt_number": 8
    },
    {
     "cell_type": "code",
     "collapsed": false,
     "input": [
      "divcal.timed.bb_2_temp_interp"
     ],
     "language": "python",
     "metadata": {},
     "outputs": [
      {
       "output_type": "pyout",
       "prompt_number": 9,
       "text": [
        "2009-07-20 00:00:00.045000    312.374944\n",
        "2009-07-20 00:00:00.045000    312.374944\n",
        "2009-07-20 00:00:00.045000    312.374944\n",
        "2009-07-20 00:00:00.045000    312.374944\n",
        "2009-07-20 00:00:00.045000    312.374944\n",
        "2009-07-20 00:00:00.045000    312.374944\n",
        "2009-07-20 00:00:00.045000    312.374944\n",
        "2009-07-20 00:00:00.045000    312.374944\n",
        "2009-07-20 00:00:00.045000    312.374944\n",
        "2009-07-20 00:00:00.045000    312.374944\n",
        "2009-07-20 00:00:00.045000    312.374944\n",
        "2009-07-20 00:00:00.045000    312.374944\n",
        "2009-07-20 00:00:00.045000    312.374944\n",
        "2009-07-20 00:00:00.045000    312.374944\n",
        "2009-07-20 00:00:00.045000    312.374944\n",
        "...\n",
        "2009-07-20 00:30:00.018000    314.137915\n",
        "2009-07-20 00:30:00.018000    314.137915\n",
        "2009-07-20 00:30:00.018000    314.137915\n",
        "2009-07-20 00:30:00.018000    314.137915\n",
        "2009-07-20 00:30:00.018000    314.137915\n",
        "2009-07-20 00:30:00.018000    314.137915\n",
        "2009-07-20 00:30:00.018000    314.137915\n",
        "2009-07-20 00:30:00.018000    314.137915\n",
        "2009-07-20 00:30:00.018000    314.137915\n",
        "2009-07-20 00:30:00.018000    314.137915\n",
        "2009-07-20 00:30:00.018000    314.137915\n",
        "2009-07-20 00:30:00.018000    314.137915\n",
        "2009-07-20 00:30:00.018000    314.137915\n",
        "2009-07-20 00:30:00.018000    314.137915\n",
        "2009-07-20 00:30:00.018000    314.137915\n",
        "Name: bb_2_temp_interp, Length: 2657813"
       ]
      }
     ],
     "prompt_number": 9
    },
    {
     "cell_type": "code",
     "collapsed": false,
     "input": [
      "divcal.bbv.nrad.unique()"
     ],
     "language": "python",
     "metadata": {},
     "outputs": [
      {
       "output_type": "pyout",
       "prompt_number": 15,
       "text": [
        "array([ 0.       ,  1.2684011,  1.2515698,  1.2427154,  1.1280847,\n",
        "        1.0740627,  1.0532841,  1.0450492,  1.2443816,  1.2291874,\n",
        "        1.2211873,  1.117161 ,  1.2927279,  1.2742143,  1.2644837,\n",
        "        1.1390531,  1.0876439,  1.0629955,  1.0532493,  1.3173633,\n",
        "        1.2971221,  1.2864928,  1.1500659,  1.0944473,  1.0678538,\n",
        "        1.0573504])"
       ]
      }
     ],
     "prompt_number": 15
    },
    {
     "cell_type": "code",
     "collapsed": false,
     "input": [
      "bbv = c.get_bbviews(divcal.timed)"
     ],
     "language": "python",
     "metadata": {},
     "outputs": [],
     "prompt_number": 10
    },
    {
     "cell_type": "code",
     "collapsed": false,
     "input": [
      "bbv['nrad']=0.0"
     ],
     "language": "python",
     "metadata": {},
     "outputs": [],
     "prompt_number": 313
    },
    {
     "cell_type": "code",
     "collapsed": false,
     "input": [
      "bbv[bbv.c==3].nrad = 5"
     ],
     "language": "python",
     "metadata": {},
     "outputs": [],
     "prompt_number": 319
    },
    {
     "cell_type": "code",
     "collapsed": false,
     "input": [
      "bbv.nrad[bbv.c==3]"
     ],
     "language": "python",
     "metadata": {},
     "outputs": [
      {
       "output_type": "pyout",
       "prompt_number": 317,
       "text": [
        "2009-07-20 00:03:01.552000    0\n",
        "2009-07-20 00:03:01.552000    0\n",
        "2009-07-20 00:03:01.552000    0\n",
        "2009-07-20 00:03:01.552000    0\n",
        "2009-07-20 00:03:01.552000    0\n",
        "2009-07-20 00:03:01.552000    0\n",
        "2009-07-20 00:03:01.552000    0\n",
        "2009-07-20 00:03:01.552000    0\n",
        "2009-07-20 00:03:01.552000    0\n",
        "2009-07-20 00:03:01.552000    0\n",
        "2009-07-20 00:03:01.552000    0\n",
        "2009-07-20 00:03:01.552000    0\n",
        "2009-07-20 00:03:01.552000    0\n",
        "2009-07-20 00:03:01.552000    0\n",
        "2009-07-20 00:03:01.552000    0\n",
        "...\n",
        "2009-07-20 00:29:51.185999    0\n",
        "2009-07-20 00:29:51.185999    0\n",
        "2009-07-20 00:29:51.185999    0\n",
        "2009-07-20 00:29:51.185999    0\n",
        "2009-07-20 00:29:51.185999    0\n",
        "2009-07-20 00:29:51.185999    0\n",
        "2009-07-20 00:29:51.185999    0\n",
        "2009-07-20 00:29:51.185999    0\n",
        "2009-07-20 00:29:51.185999    0\n",
        "2009-07-20 00:29:51.185999    0\n",
        "2009-07-20 00:29:51.185999    0\n",
        "2009-07-20 00:29:51.185999    0\n",
        "2009-07-20 00:29:51.185999    0\n",
        "2009-07-20 00:29:51.185999    0\n",
        "2009-07-20 00:29:51.185999    0\n",
        "Name: nrad, Length: 6720"
       ]
      }
     ],
     "prompt_number": 317
    },
    {
     "cell_type": "code",
     "collapsed": false,
     "input": [
      "l = [(i,'bb_1_temp_interp') for i in range(3,7)]\n",
      "l2 = [(i,'bb_2_temp_interp') for i in range(7,10)]\n",
      "dict( l+l2)"
     ],
     "language": "python",
     "metadata": {},
     "outputs": [
      {
       "output_type": "pyout",
       "prompt_number": 321,
       "text": [
        "{3: 'bb_1_temp_interp',\n",
        " 4: 'bb_1_temp_interp',\n",
        " 5: 'bb_1_temp_interp',\n",
        " 6: 'bb_1_temp_interp',\n",
        " 7: 'bb_2_temp_interp',\n",
        " 8: 'bb_2_temp_interp',\n",
        " 9: 'bb_2_temp_interp'}"
       ]
      }
     ],
     "prompt_number": 321
    },
    {
     "cell_type": "code",
     "collapsed": false,
     "input": [
      "bbv.bb_1_temp_interp[bbv.c==3].round(), 3"
     ],
     "language": "python",
     "metadata": {},
     "outputs": [
      {
       "output_type": "pyout",
       "prompt_number": 290,
       "text": [
        "(2009-07-20 00:03:01.552000    312\n",
        "2009-07-20 00:03:01.552000    312\n",
        "2009-07-20 00:03:01.552000    312\n",
        "2009-07-20 00:03:01.552000    312\n",
        "2009-07-20 00:03:01.552000    312\n",
        "2009-07-20 00:03:01.552000    312\n",
        "2009-07-20 00:03:01.552000    312\n",
        "2009-07-20 00:03:01.552000    312\n",
        "2009-07-20 00:03:01.552000    312\n",
        "2009-07-20 00:03:01.552000    312\n",
        "2009-07-20 00:03:01.552000    312\n",
        "2009-07-20 00:03:01.552000    312\n",
        "2009-07-20 00:03:01.552000    312\n",
        "2009-07-20 00:03:01.552000    312\n",
        "2009-07-20 00:03:01.552000    312\n",
        "...\n",
        "2009-07-20 00:29:51.185999    314\n",
        "2009-07-20 00:29:51.185999    314\n",
        "2009-07-20 00:29:51.185999    314\n",
        "2009-07-20 00:29:51.185999    314\n",
        "2009-07-20 00:29:51.185999    314\n",
        "2009-07-20 00:29:51.185999    314\n",
        "2009-07-20 00:29:51.185999    314\n",
        "2009-07-20 00:29:51.185999    314\n",
        "2009-07-20 00:29:51.185999    314\n",
        "2009-07-20 00:29:51.185999    314\n",
        "2009-07-20 00:29:51.185999    314\n",
        "2009-07-20 00:29:51.185999    314\n",
        "2009-07-20 00:29:51.185999    314\n",
        "2009-07-20 00:29:51.185999    314\n",
        "2009-07-20 00:29:51.185999    314\n",
        "Name: bb_1_temp_interp, Length: 6720,\n",
        " 3)"
       ]
      }
     ],
     "prompt_number": 290
    },
    {
     "cell_type": "code",
     "collapsed": false,
     "input": [
      "nrad = divcal.t2nrad.ix[bbv.bb_1_temp_interp[bbv.c==3].round(), 3]"
     ],
     "language": "python",
     "metadata": {},
     "outputs": [],
     "prompt_number": 291
    },
    {
     "cell_type": "code",
     "collapsed": false,
     "input": [
      "nrad.dtype"
     ],
     "language": "python",
     "metadata": {},
     "outputs": [
      {
       "output_type": "pyout",
       "prompt_number": 293,
       "text": [
        "dtype('object')"
       ]
      }
     ],
     "prompt_number": 293
    },
    {
     "cell_type": "code",
     "collapsed": false,
     "input": [
      "bbv.nrad[bbv.c==3] = nrad.astype('float64')"
     ],
     "language": "python",
     "metadata": {},
     "outputs": [],
     "prompt_number": 295
    },
    {
     "cell_type": "code",
     "collapsed": false,
     "input": [
      "bbv.nrad.unique()"
     ],
     "language": "python",
     "metadata": {},
     "outputs": [
      {
       "output_type": "pyout",
       "prompt_number": 297,
       "text": [
        "array([ 0.       ,  1.2684011,  1.2443816,  1.2927279,  1.3173633])"
       ]
      }
     ],
     "prompt_number": 297
    },
    {
     "cell_type": "code",
     "collapsed": false,
     "input": [],
     "language": "python",
     "metadata": {},
     "outputs": []
    }
   ],
   "metadata": {}
  }
 ]
}