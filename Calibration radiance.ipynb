{
 "metadata": {
  "name": "Calibration radiance"
 },
 "nbformat": 3,
 "nbformat_minor": 0,
 "worksheets": [
  {
   "cells": [
    {
     "cell_type": "code",
     "collapsed": false,
     "input": [
      "import pandas as pd\n",
      "import diviner as div\n",
      "import calib as c\n",
      "import sys\n",
      "reload(c)"
     ],
     "language": "python",
     "metadata": {},
     "outputs": [
      {
       "output_type": "pyout",
       "prompt_number": 1,
       "text": [
        "<module 'calib' from 'calib.pyc'>"
       ]
      }
     ],
     "prompt_number": 1
    },
    {
     "cell_type": "code",
     "collapsed": false,
     "input": [
      "if sys.platform == 'darwin':\n",
      "    bigdf = div.read_div_data(\"./df_by_2.h5\")\n",
      "else:\n",
      "    bigdf = div.read_div_data('/luna1/maye/2009072000.h5')"
     ],
     "language": "python",
     "metadata": {},
     "outputs": [],
     "prompt_number": 2
    },
    {
     "cell_type": "code",
     "collapsed": false,
     "input": [
      "divcal = c.DivCalib(bigdf)"
     ],
     "language": "python",
     "metadata": {},
     "outputs": [],
     "prompt_number": 3
    },
    {
     "cell_type": "code",
     "collapsed": false,
     "input": [
      "divcal.df.columns"
     ],
     "language": "python",
     "metadata": {},
     "outputs": [
      {
       "output_type": "pyout",
       "prompt_number": 4,
       "text": [
        "Index([counts, bb_1_temp_interp, bb_2_temp_interp, RBB, sdtype, calib_block_labels, is_spaceview, is_bbview, is_stview, is_moving, is_calib, sv_block_labels, bb_block_labels], dtype=object)"
       ]
      }
     ],
     "prompt_number": 4
    },
    {
     "cell_type": "code",
     "collapsed": false,
     "input": [
      "df = divcal.df"
     ],
     "language": "python",
     "metadata": {},
     "outputs": [],
     "prompt_number": 5
    },
    {
     "cell_type": "code",
     "collapsed": false,
     "input": [
      "df['RBB']=0.0"
     ],
     "language": "python",
     "metadata": {},
     "outputs": [],
     "prompt_number": 6
    },
    {
     "cell_type": "code",
     "collapsed": false,
     "input": [
      "bb1temp = df.ix[1].ix[1].bb_1_temp_interp"
     ],
     "language": "python",
     "metadata": {},
     "outputs": [],
     "prompt_number": 7
    },
    {
     "cell_type": "code",
     "collapsed": false,
     "input": [
      "bb1temp.head()"
     ],
     "language": "python",
     "metadata": {},
     "outputs": [
      {
       "output_type": "pyout",
       "prompt_number": 9,
       "text": [
        "time\n",
        "2009-07-20 00:00:00.045000    312.619779\n",
        "2009-07-20 00:00:00.173000    312.617366\n",
        "2009-07-20 00:00:00.301000    312.614963\n",
        "2009-07-20 00:00:00.429000    312.612570\n",
        "2009-07-20 00:00:00.557000    312.610188\n",
        "Name: bb_1_temp_interp"
       ]
      }
     ],
     "prompt_number": 9
    },
    {
     "cell_type": "code",
     "collapsed": false,
     "input": [
      "bbtemps = bb1temp.round(2)*100"
     ],
     "language": "python",
     "metadata": {},
     "outputs": [],
     "prompt_number": 10
    },
    {
     "cell_type": "code",
     "collapsed": false,
     "input": [
      "bbtemps = bbtemps.astype('int')"
     ],
     "language": "python",
     "metadata": {},
     "outputs": [],
     "prompt_number": 11
    },
    {
     "cell_type": "code",
     "collapsed": false,
     "input": [
      "bbtemps.unique()"
     ],
     "language": "python",
     "metadata": {},
     "outputs": [
      {
       "output_type": "pyout",
       "prompt_number": 13,
       "text": [
        "array([31262, 31261, 31260, 31258, 31257, 31256, 31255, 31254, 31252,\n",
        "       31251, 31250, 31249, 31248, 31247, 31245, 31244, 31243, 31242,\n",
        "       31241, 31239, 31238, 31237, 31236, 31235, 31233, 31232, 31231,\n",
        "       31230, 31229, 31227, 31226, 31225, 31224, 31223, 31222, 31220,\n",
        "       31219, 31218, 31217, 31216, 31214, 31213, 31212, 31211, 31210,\n",
        "       31208, 31207, 31206, 31205, 31204, 31202, 31201, 31200, 31199,\n",
        "       31198, 31197, 31195, 31194, 31193, 31192, 31191, 31189, 31188,\n",
        "       31187, 31186, 31185, 31183, 31182, 31181, 31180, 31179, 31177,\n",
        "       31176, 31175, 31174, 31173, 31172, 31170, 31169, 31168, 31167,\n",
        "       31166, 31164, 31163, 31162, 31161, 31160, 31158, 31157, 31156,\n",
        "       31155, 31154, 31152, 31151, 31150, 31149, 31148, 31147, 31145,\n",
        "       31144, 31143, 31142, 31141, 31139, 31138, 31137, 31136, 31135,\n",
        "       31133, 31132, 31131, 31130, 31129, 31127, 31126, 31125, 31124,\n",
        "       31123, 31122, 31120, 31119, 31118, 31117, 31116, 31114, 31113,\n",
        "       31112, 31111, 31110, 31108, 31107, 31106, 31105, 31104, 31102,\n",
        "       31101, 31100, 31099, 31098, 31097, 31095, 31094, 31093, 31092,\n",
        "       31091, 31089, 31088, 31087, 31086, 31085, 31083, 31082, 31081,\n",
        "       31080, 31079, 31077, 31076, 31075, 31074, 31073, 31072, 31070,\n",
        "       31069, 31068, 31067, 31066, 31064, 31263, 31264, 31266, 31267,\n",
        "       31268, 31269, 31270, 31272, 31273, 31274, 31275, 31276, 31277,\n",
        "       31279, 31280, 31281, 31282, 31283, 31285, 31286, 31287, 31288,\n",
        "       31289, 31291, 31292, 31293, 31294, 31295, 31297, 31298, 31299,\n",
        "       31300, 31301, 31302, 31304, 31305, 31306, 31307, 31308, 31310,\n",
        "       31311, 31312, 31313, 31314, 31316, 31317, 31318, 31319, 31320,\n",
        "       31322, 31323, 31324, 31325, 31326, 31327, 31329, 31330, 31331,\n",
        "       31332, 31333, 31335, 31336, 31337, 31338, 31339, 31341, 31342,\n",
        "       31343, 31344, 31345, 31347, 31348, 31349, 31350, 31351, 31352,\n",
        "       31354, 31355, 31356, 31357, 31358, 31360, 31361, 31362, 31363,\n",
        "       31364, 31366, 31367, 31368, 31369, 31370, 31372, 31373, 31374,\n",
        "       31375, 31376, 31377, 31379, 31380, 31381, 31382, 31383, 31385,\n",
        "       31386, 31387, 31388, 31389, 31391, 31392, 31393, 31394, 31395,\n",
        "       31397, 31398, 31399, 31400, 31401, 31402, 31404, 31405, 31406,\n",
        "       31407, 31408, 31410, 31411, 31412, 31413, 31414, 31416, 31417,\n",
        "       31418, 31419, 31420, 31422, 31423, 31424, 31425, 31426, 31427,\n",
        "       31429, 31430, 31431, 31432, 31433, 31435, 31436, 31437, 31438,\n",
        "       31439, 31441])"
       ]
      }
     ],
     "prompt_number": 13
    },
    {
     "cell_type": "code",
     "collapsed": false,
     "input": [
      "RBBs = divcal.t2nrad.ix[bbtemps,3]"
     ],
     "language": "python",
     "metadata": {},
     "outputs": [],
     "prompt_number": 14
    },
    {
     "cell_type": "code",
     "collapsed": false,
     "input": [
      "RBBs.head()"
     ],
     "language": "python",
     "metadata": {},
     "outputs": [
      {
       "output_type": "pyout",
       "prompt_number": 16,
       "text": [
        "31262    1.283447\n",
        "31262    1.283447\n",
        "31261    1.283204\n",
        "31261    1.283204\n",
        "31261    1.283204\n",
        "Name: 3"
       ]
      }
     ],
     "prompt_number": 16
    },
    {
     "cell_type": "code",
     "collapsed": false,
     "input": [
      "RBBs.index = bbtemps.index"
     ],
     "language": "python",
     "metadata": {},
     "outputs": [],
     "prompt_number": 17
    },
    {
     "cell_type": "code",
     "collapsed": false,
     "input": [
      "target = df.RBB.ix[3]"
     ],
     "language": "python",
     "metadata": {},
     "outputs": [],
     "prompt_number": 22
    },
    {
     "cell_type": "code",
     "collapsed": false,
     "input": [
      "RBBs.reindex(target.index, level=1)"
     ],
     "language": "python",
     "metadata": {},
     "outputs": [
      {
       "output_type": "pyout",
       "prompt_number": 24,
       "text": [
        "det  time                      \n",
        "1    2009-07-20 00:00:00.045000    1.283447\n",
        "     2009-07-20 00:00:00.173000    1.283447\n",
        "     2009-07-20 00:00:00.301000    1.283204\n",
        "     2009-07-20 00:00:00.429000    1.283204\n",
        "     2009-07-20 00:00:00.557000    1.283204\n",
        "     2009-07-20 00:00:00.685000    1.283204\n",
        "     2009-07-20 00:00:00.813000    1.283204\n",
        "     2009-07-20 00:00:00.941000    1.282960\n",
        "     2009-07-20 00:00:01.068999    1.282960\n",
        "     2009-07-20 00:00:01.197000    1.282960\n",
        "     2009-07-20 00:00:01.324000    1.282960\n",
        "     2009-07-20 00:00:01.451999    1.282473\n",
        "     2009-07-20 00:00:01.580000    1.282473\n",
        "     2009-07-20 00:00:01.708000    1.282473\n",
        "     2009-07-20 00:00:01.836000    1.282473\n",
        "...\n",
        "21   2009-07-20 00:29:58.225999    1.326557\n",
        "     2009-07-20 00:29:58.353999    1.326308\n",
        "     2009-07-20 00:29:58.481999    1.326308\n",
        "     2009-07-20 00:29:58.609999    1.326308\n",
        "     2009-07-20 00:29:58.737999    1.326308\n",
        "     2009-07-20 00:29:58.865999    1.326059\n",
        "     2009-07-20 00:29:58.993999    1.326059\n",
        "     2009-07-20 00:29:59.121999    1.326059\n",
        "     2009-07-20 00:29:59.250000    1.325561\n",
        "     2009-07-20 00:29:59.378000    1.325561\n",
        "     2009-07-20 00:29:59.506000    1.325561\n",
        "     2009-07-20 00:29:59.634000    1.325561\n",
        "     2009-07-20 00:29:59.762000    1.325312\n",
        "     2009-07-20 00:29:59.890000    1.325312\n",
        "     2009-07-20 00:30:00.018000    1.325063\n",
        "Name: 3, Length: 295323"
       ]
      }
     ],
     "prompt_number": 24
    },
    {
     "cell_type": "code",
     "collapsed": false,
     "input": [
      "RBBs = RBBs.reindex(target.index, level=1)"
     ],
     "language": "python",
     "metadata": {},
     "outputs": [],
     "prompt_number": 26
    },
    {
     "cell_type": "code",
     "collapsed": false,
     "input": [
      "target = RBBs"
     ],
     "language": "python",
     "metadata": {},
     "outputs": [],
     "prompt_number": 28
    },
    {
     "cell_type": "code",
     "collapsed": false,
     "input": [
      "df.RBB.ix[3] = RBBs"
     ],
     "language": "python",
     "metadata": {},
     "outputs": [],
     "prompt_number": 31
    },
    {
     "cell_type": "code",
     "collapsed": false,
     "input": [
      "df.RBB.value_counts()"
     ],
     "language": "python",
     "metadata": {},
     "outputs": [
      {
       "output_type": "pyout",
       "prompt_number": 32,
       "text": [
        "0.000000    2362490\n",
        "1.293218       8715\n",
        "1.235809       7329\n",
        "1.247726       6783\n",
        "1.292973       5439\n",
        "1.237235       5376\n",
        "1.249161       5103\n",
        "1.247487       4914\n",
        "1.293707       4452\n",
        "1.248443       3591\n",
        "1.236522       3570\n",
        "1.327553       3528\n",
        "1.239376       3444\n",
        "1.247248       3381\n",
        "1.237711       3213\n",
        "...\n",
        "1.286129    231\n",
        "1.287838    231\n",
        "1.301807    231\n",
        "1.289059    231\n",
        "1.303037    231\n",
        "1.288082    231\n",
        "1.287594    210\n",
        "1.285885    210\n",
        "1.302791    210\n",
        "1.283691    210\n",
        "1.303283    210\n",
        "1.284666    189\n",
        "1.285154    189\n",
        "1.284422    189\n",
        "1.284910    189\n",
        "Length: 318"
       ]
      }
     ],
     "prompt_number": 32
    },
    {
     "cell_type": "code",
     "collapsed": false,
     "input": [
      "df.nrad.dtype"
     ],
     "language": "python",
     "metadata": {},
     "outputs": [
      {
       "output_type": "pyout",
       "prompt_number": 58,
       "text": [
        "dtype('float64')"
       ]
      }
     ],
     "prompt_number": 58
    },
    {
     "cell_type": "code",
     "collapsed": false,
     "input": [],
     "language": "python",
     "metadata": {},
     "outputs": []
    },
    {
     "cell_type": "code",
     "collapsed": false,
     "input": [],
     "language": "python",
     "metadata": {},
     "outputs": []
    },
    {
     "cell_type": "code",
     "collapsed": false,
     "input": [
      "nrad = divcal.t2nrad.ix[bbv.bb_1_temp_interp[bbv.c==3].round(), 3]"
     ],
     "language": "python",
     "metadata": {},
     "outputs": [],
     "prompt_number": 291
    },
    {
     "cell_type": "code",
     "collapsed": false,
     "input": [
      "nrad.dtype"
     ],
     "language": "python",
     "metadata": {},
     "outputs": [
      {
       "output_type": "pyout",
       "prompt_number": 293,
       "text": [
        "dtype('object')"
       ]
      }
     ],
     "prompt_number": 293
    },
    {
     "cell_type": "code",
     "collapsed": false,
     "input": [
      "bbv.nrad[bbv.c==3] = nrad.astype('float64')"
     ],
     "language": "python",
     "metadata": {},
     "outputs": [],
     "prompt_number": 295
    },
    {
     "cell_type": "code",
     "collapsed": false,
     "input": [
      "bbv.nrad.unique()"
     ],
     "language": "python",
     "metadata": {},
     "outputs": [
      {
       "output_type": "pyout",
       "prompt_number": 297,
       "text": [
        "array([ 0.       ,  1.2684011,  1.2443816,  1.2927279,  1.3173633])"
       ]
      }
     ],
     "prompt_number": 297
    },
    {
     "cell_type": "code",
     "collapsed": false,
     "input": [],
     "language": "python",
     "metadata": {},
     "outputs": []
    }
   ],
   "metadata": {}
  }
 ]
}