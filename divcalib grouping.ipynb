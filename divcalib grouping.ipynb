{
 "metadata": {
  "name": "divcalib grouping"
 },
 "nbformat": 3,
 "nbformat_minor": 0,
 "worksheets": [
  {
   "cells": [
    {
     "cell_type": "code",
     "collapsed": false,
     "input": [
      "import pandas as pd\n",
      "import diviner as div\n",
      "import calib as c\n",
      "import sys\n",
      "from scipy import ndimage as nd\n",
      "reload(c)"
     ],
     "language": "python",
     "metadata": {},
     "outputs": [
      {
       "output_type": "pyout",
       "prompt_number": 1,
       "text": [
        "<module 'calib' from 'calib.pyc'>"
       ]
      }
     ],
     "prompt_number": 1
    },
    {
     "cell_type": "code",
     "collapsed": false,
     "input": [
      "elev = pd.DataFrame(arange(271),columns=['el_cmd'])"
     ],
     "language": "python",
     "metadata": {},
     "outputs": [],
     "prompt_number": 77
    },
    {
     "cell_type": "code",
     "collapsed": false,
     "input": [
      "az = pd.DataFrame(arange(271),columns=['az_cmd'])"
     ],
     "language": "python",
     "metadata": {},
     "outputs": [],
     "prompt_number": 78
    },
    {
     "cell_type": "code",
     "collapsed": false,
     "input": [
      "elev_ind = pd.Index(arange(271))"
     ],
     "language": "python",
     "metadata": {},
     "outputs": [],
     "prompt_number": 80
    },
    {
     "cell_type": "code",
     "collapsed": false,
     "input": [
      "az_ind = pd.Index(arange(271))"
     ],
     "language": "python",
     "metadata": {},
     "outputs": [],
     "prompt_number": 82
    },
    {
     "cell_type": "code",
     "collapsed": false,
     "input": [
      "SV_AZ_MIN = 150.0\n",
      "SV_AZ_MAX = 270.0\n",
      "SV_EL_MIN = 45.0\n",
      "SV_EL_MAX = 100.0\n",
      "BB_AZ_MIN = 0.0\n",
      "BB_AZ_MAX = 270.0\n",
      "BB_EL_MIN = 0.0\n",
      "BB_EL_MAX = 3.0\n",
      "ST_AZ_MIN = 10.0\n",
      "ST_AZ_MAX = 270.0\n",
      "ST_EL_MIN = 35.00\n",
      "ST_EL_MAX = 45.00"
     ],
     "language": "python",
     "metadata": {},
     "outputs": [],
     "prompt_number": 83
    },
    {
     "cell_type": "code",
     "collapsed": false,
     "input": [
      "spaceviews_elev = pd.Series(False, index=elev_ind)"
     ],
     "language": "python",
     "metadata": {},
     "outputs": [],
     "prompt_number": 84
    },
    {
     "cell_type": "code",
     "collapsed": false,
     "input": [
      "spaceviews_elev.ix[45:100] = True"
     ],
     "language": "python",
     "metadata": {},
     "outputs": [],
     "prompt_number": 87
    },
    {
     "cell_type": "code",
     "collapsed": false,
     "input": [
      "spaceviews_az = pd.Series(False, index=az_ind)"
     ],
     "language": "python",
     "metadata": {},
     "outputs": [],
     "prompt_number": 88
    },
    {
     "cell_type": "code",
     "collapsed": false,
     "input": [
      "spaceviews_az.ix[150:270] = True"
     ],
     "language": "python",
     "metadata": {},
     "outputs": [],
     "prompt_number": 89
    },
    {
     "cell_type": "code",
     "collapsed": false,
     "input": [
      "df = pd.concat([spaceviews_az,spaceviews_elev],axis=1)"
     ],
     "language": "python",
     "metadata": {},
     "outputs": [],
     "prompt_number": 90
    },
    {
     "cell_type": "code",
     "collapsed": false,
     "input": [
      "sv_az = pd.DataFrame(spaceviews_az,columns=['spaceviews_az'])"
     ],
     "language": "python",
     "metadata": {},
     "outputs": [],
     "prompt_number": 93
    },
    {
     "cell_type": "code",
     "collapsed": false,
     "input": [
      "sv_el = pd.DataFrame(spaceviews_elev,columns=['spaceviews_el'])"
     ],
     "language": "python",
     "metadata": {},
     "outputs": [],
     "prompt_number": 94
    },
    {
     "cell_type": "code",
     "collapsed": false,
     "input": [
      "df = pd.concat([sv_az,sv_el],axis=1)"
     ],
     "language": "python",
     "metadata": {},
     "outputs": [],
     "prompt_number": 96
    },
    {
     "cell_type": "code",
     "collapsed": false,
     "input": [
      "pd.merge(sv_az,sv_el,left_index=True,right_index=True,how='outer')"
     ],
     "language": "python",
     "metadata": {},
     "outputs": [
      {
       "output_type": "pyout",
       "prompt_number": 99,
       "text": [
        "<class 'pandas.core.frame.DataFrame'>\n",
        "Int64Index: 271 entries, 0 to 270\n",
        "Data columns:\n",
        "spaceviews_az    271  non-null values\n",
        "spaceviews_el    271  non-null values\n",
        "dtypes: bool(2)"
       ]
      }
     ],
     "prompt_number": 99
    },
    {
     "cell_type": "code",
     "collapsed": false,
     "input": [
      "N=271\n",
      "l = []\n",
      "for i in range(N):\n",
      "    for j in range(N):\n",
      "        l.append((i,j))"
     ],
     "language": "python",
     "metadata": {},
     "outputs": [],
     "prompt_number": 126
    },
    {
     "cell_type": "code",
     "collapsed": false,
     "input": [
      "pointing = pd.MultiIndex.from_tuples(l,names=['el_cmd','az_cmd'])"
     ],
     "language": "python",
     "metadata": {},
     "outputs": [],
     "prompt_number": 130
    },
    {
     "cell_type": "code",
     "collapsed": false,
     "input": [
      "df = pd.DataFrame(zeros(len(pointing)), index=pointing, columns=['spaceview'])"
     ],
     "language": "python",
     "metadata": {},
     "outputs": [],
     "prompt_number": 137
    },
    {
     "cell_type": "code",
     "collapsed": false,
     "input": [
      "df = df.reset_index()"
     ],
     "language": "python",
     "metadata": {},
     "outputs": [],
     "prompt_number": 142
    },
    {
     "cell_type": "code",
     "collapsed": false,
     "input": [
      "selector = ((df.el_cmd <=100) & (df.el_cmd >= 45) & (df.az_cmd >= 150) & (df.az_cmd <= 270))"
     ],
     "language": "python",
     "metadata": {},
     "outputs": [],
     "prompt_number": 145
    },
    {
     "cell_type": "code",
     "collapsed": false,
     "input": [
      "df['spaceview'] = False"
     ],
     "language": "python",
     "metadata": {},
     "outputs": [],
     "prompt_number": 157
    },
    {
     "cell_type": "code",
     "collapsed": false,
     "input": [
      "df.spaceview.value_counts()"
     ],
     "language": "python",
     "metadata": {},
     "outputs": [
      {
       "output_type": "pyout",
       "prompt_number": 158,
       "text": [
        "False    73441"
       ]
      }
     ],
     "prompt_number": 158
    },
    {
     "cell_type": "code",
     "collapsed": false,
     "input": [
      "df.spaceview[selector] = True"
     ],
     "language": "python",
     "metadata": {},
     "outputs": [],
     "prompt_number": 160
    },
    {
     "cell_type": "code",
     "collapsed": false,
     "input": [
      "df.spaceview.value_counts()"
     ],
     "language": "python",
     "metadata": {},
     "outputs": [
      {
       "output_type": "pyout",
       "prompt_number": 161,
       "text": [
        "False    66665\n",
        "True      6776"
       ]
      }
     ],
     "prompt_number": 161
    },
    {
     "cell_type": "code",
     "collapsed": false,
     "input": [
      "df[df.spaceview==True].describe()"
     ],
     "language": "python",
     "metadata": {},
     "outputs": [
      {
       "html": [
        "<div style=\"max-height:1000px;max-width:1500px;overflow:auto;\">\n",
        "<table border=\"1\" class=\"dataframe\">\n",
        "  <thead>\n",
        "    <tr style=\"text-align: right;\">\n",
        "      <th></th>\n",
        "      <th>el_cmd</th>\n",
        "      <th>az_cmd</th>\n",
        "    </tr>\n",
        "  </thead>\n",
        "  <tbody>\n",
        "    <tr>\n",
        "      <td><strong>count</strong></td>\n",
        "      <td> 6776.000000</td>\n",
        "      <td> 6776.000000</td>\n",
        "    </tr>\n",
        "    <tr>\n",
        "      <td><strong>mean</strong></td>\n",
        "      <td>   72.500000</td>\n",
        "      <td>  210.000000</td>\n",
        "    </tr>\n",
        "    <tr>\n",
        "      <td><strong>std</strong></td>\n",
        "      <td>   16.164423</td>\n",
        "      <td>   34.931076</td>\n",
        "    </tr>\n",
        "    <tr>\n",
        "      <td><strong>min</strong></td>\n",
        "      <td>   45.000000</td>\n",
        "      <td>  150.000000</td>\n",
        "    </tr>\n",
        "    <tr>\n",
        "      <td><strong>25%</strong></td>\n",
        "      <td>   58.750000</td>\n",
        "      <td>  180.000000</td>\n",
        "    </tr>\n",
        "    <tr>\n",
        "      <td><strong>50%</strong></td>\n",
        "      <td>   72.500000</td>\n",
        "      <td>  210.000000</td>\n",
        "    </tr>\n",
        "    <tr>\n",
        "      <td><strong>75%</strong></td>\n",
        "      <td>   86.250000</td>\n",
        "      <td>  240.000000</td>\n",
        "    </tr>\n",
        "    <tr>\n",
        "      <td><strong>max</strong></td>\n",
        "      <td>  100.000000</td>\n",
        "      <td>  270.000000</td>\n",
        "    </tr>\n",
        "  </tbody>\n",
        "</table>\n",
        "</div>"
       ],
       "output_type": "pyout",
       "prompt_number": 164,
       "text": [
        "            el_cmd       az_cmd\n",
        "count  6776.000000  6776.000000\n",
        "mean     72.500000   210.000000\n",
        "std      16.164423    34.931076\n",
        "min      45.000000   150.000000\n",
        "25%      58.750000   180.000000\n",
        "50%      72.500000   210.000000\n",
        "75%      86.250000   240.000000\n",
        "max     100.000000   270.000000"
       ]
      }
     ],
     "prompt_number": 164
    },
    {
     "cell_type": "code",
     "collapsed": false,
     "input": [
      "bb_selector = ((df.az_cmd >= BB_AZ_MIN) & (df.az_cmd <= BB_AZ_MAX) & (df.el_cmd >= BB_EL_MIN) & (df.el_cmd <= BB_EL_MAX))"
     ],
     "language": "python",
     "metadata": {},
     "outputs": [],
     "prompt_number": 165
    },
    {
     "cell_type": "code",
     "collapsed": false,
     "input": [
      "df['bbview'] = False"
     ],
     "language": "python",
     "metadata": {},
     "outputs": [],
     "prompt_number": 166
    },
    {
     "cell_type": "code",
     "collapsed": false,
     "input": [
      "df"
     ],
     "language": "python",
     "metadata": {},
     "outputs": [
      {
       "output_type": "pyout",
       "prompt_number": 167,
       "text": [
        "<class 'pandas.core.frame.DataFrame'>\n",
        "Int64Index: 73441 entries, 0 to 73440\n",
        "Data columns:\n",
        "el_cmd       73441  non-null values\n",
        "az_cmd       73441  non-null values\n",
        "spaceview    73441  non-null values\n",
        "bbview       73441  non-null values\n",
        "dtypes: bool(2), int64(2)"
       ]
      }
     ],
     "prompt_number": 167
    },
    {
     "cell_type": "code",
     "collapsed": false,
     "input": [
      "df.bbview[bb_selector] = True"
     ],
     "language": "python",
     "metadata": {},
     "outputs": [],
     "prompt_number": 168
    },
    {
     "cell_type": "code",
     "collapsed": false,
     "input": [
      "df[df.bbview==True].describe()"
     ],
     "language": "python",
     "metadata": {},
     "outputs": [
      {
       "html": [
        "<div style=\"max-height:1000px;max-width:1500px;overflow:auto;\">\n",
        "<table border=\"1\" class=\"dataframe\">\n",
        "  <thead>\n",
        "    <tr style=\"text-align: right;\">\n",
        "      <th></th>\n",
        "      <th>el_cmd</th>\n",
        "      <th>az_cmd</th>\n",
        "    </tr>\n",
        "  </thead>\n",
        "  <tbody>\n",
        "    <tr>\n",
        "      <td><strong>count</strong></td>\n",
        "      <td> 1084.00000</td>\n",
        "      <td> 1084.000000</td>\n",
        "    </tr>\n",
        "    <tr>\n",
        "      <td><strong>mean</strong></td>\n",
        "      <td>    1.50000</td>\n",
        "      <td>  135.000000</td>\n",
        "    </tr>\n",
        "    <tr>\n",
        "      <td><strong>std</strong></td>\n",
        "      <td>    1.11855</td>\n",
        "      <td>   78.266538</td>\n",
        "    </tr>\n",
        "    <tr>\n",
        "      <td><strong>min</strong></td>\n",
        "      <td>    0.00000</td>\n",
        "      <td>    0.000000</td>\n",
        "    </tr>\n",
        "    <tr>\n",
        "      <td><strong>25%</strong></td>\n",
        "      <td>    0.75000</td>\n",
        "      <td>   67.000000</td>\n",
        "    </tr>\n",
        "    <tr>\n",
        "      <td><strong>50%</strong></td>\n",
        "      <td>    1.50000</td>\n",
        "      <td>  135.000000</td>\n",
        "    </tr>\n",
        "    <tr>\n",
        "      <td><strong>75%</strong></td>\n",
        "      <td>    2.25000</td>\n",
        "      <td>  203.000000</td>\n",
        "    </tr>\n",
        "    <tr>\n",
        "      <td><strong>max</strong></td>\n",
        "      <td>    3.00000</td>\n",
        "      <td>  270.000000</td>\n",
        "    </tr>\n",
        "  </tbody>\n",
        "</table>\n",
        "</div>"
       ],
       "output_type": "pyout",
       "prompt_number": 170,
       "text": [
        "           el_cmd       az_cmd\n",
        "count  1084.00000  1084.000000\n",
        "mean      1.50000   135.000000\n",
        "std       1.11855    78.266538\n",
        "min       0.00000     0.000000\n",
        "25%       0.75000    67.000000\n",
        "50%       1.50000   135.000000\n",
        "75%       2.25000   203.000000\n",
        "max       3.00000   270.000000"
       ]
      }
     ],
     "prompt_number": 170
    },
    {
     "cell_type": "code",
     "collapsed": false,
     "input": [
      "soltarget_selector = ((df.az_cmd <= ST_AZ_MAX) & (df.az_cmd >= ST_AZ_MIN) & (df.el_cmd >= ST_EL_MIN) & (df.el_cmd <= ST_EL_MAX))"
     ],
     "language": "python",
     "metadata": {},
     "outputs": [],
     "prompt_number": 171
    },
    {
     "cell_type": "code",
     "collapsed": false,
     "input": [
      "df['stview'] = False"
     ],
     "language": "python",
     "metadata": {},
     "outputs": [],
     "prompt_number": 172
    },
    {
     "cell_type": "code",
     "collapsed": false,
     "input": [
      "df.stview[soltarget_selector] = True"
     ],
     "language": "python",
     "metadata": {},
     "outputs": [],
     "prompt_number": 173
    },
    {
     "cell_type": "code",
     "collapsed": false,
     "input": [
      "df[df.stview==True].describe()"
     ],
     "language": "python",
     "metadata": {},
     "outputs": [
      {
       "html": [
        "<div style=\"max-height:1000px;max-width:1500px;overflow:auto;\">\n",
        "<table border=\"1\" class=\"dataframe\">\n",
        "  <thead>\n",
        "    <tr style=\"text-align: right;\">\n",
        "      <th></th>\n",
        "      <th>el_cmd</th>\n",
        "      <th>az_cmd</th>\n",
        "    </tr>\n",
        "  </thead>\n",
        "  <tbody>\n",
        "    <tr>\n",
        "      <td><strong>count</strong></td>\n",
        "      <td> 2871.000000</td>\n",
        "      <td> 2871.000000</td>\n",
        "    </tr>\n",
        "    <tr>\n",
        "      <td><strong>mean</strong></td>\n",
        "      <td>   40.000000</td>\n",
        "      <td>  140.000000</td>\n",
        "    </tr>\n",
        "    <tr>\n",
        "      <td><strong>std</strong></td>\n",
        "      <td>    3.162829</td>\n",
        "      <td>   75.356782</td>\n",
        "    </tr>\n",
        "    <tr>\n",
        "      <td><strong>min</strong></td>\n",
        "      <td>   35.000000</td>\n",
        "      <td>   10.000000</td>\n",
        "    </tr>\n",
        "    <tr>\n",
        "      <td><strong>25%</strong></td>\n",
        "      <td>   37.000000</td>\n",
        "      <td>   75.000000</td>\n",
        "    </tr>\n",
        "    <tr>\n",
        "      <td><strong>50%</strong></td>\n",
        "      <td>   40.000000</td>\n",
        "      <td>  140.000000</td>\n",
        "    </tr>\n",
        "    <tr>\n",
        "      <td><strong>75%</strong></td>\n",
        "      <td>   43.000000</td>\n",
        "      <td>  205.000000</td>\n",
        "    </tr>\n",
        "    <tr>\n",
        "      <td><strong>max</strong></td>\n",
        "      <td>   45.000000</td>\n",
        "      <td>  270.000000</td>\n",
        "    </tr>\n",
        "  </tbody>\n",
        "</table>\n",
        "</div>"
       ],
       "output_type": "pyout",
       "prompt_number": 174,
       "text": [
        "            el_cmd       az_cmd\n",
        "count  2871.000000  2871.000000\n",
        "mean     40.000000   140.000000\n",
        "std       3.162829    75.356782\n",
        "min      35.000000    10.000000\n",
        "25%      37.000000    75.000000\n",
        "50%      40.000000   140.000000\n",
        "75%      43.000000   205.000000\n",
        "max      45.000000   270.000000"
       ]
      }
     ],
     "prompt_number": 174
    },
    {
     "cell_type": "code",
     "collapsed": false,
     "input": [
      "mi = df.set_index(['el_cmd','az_cmd'])"
     ],
     "language": "python",
     "metadata": {},
     "outputs": [],
     "prompt_number": 182
    },
    {
     "cell_type": "code",
     "collapsed": false,
     "input": [
      "mi"
     ],
     "language": "python",
     "metadata": {},
     "outputs": [
      {
       "output_type": "pyout",
       "prompt_number": 183,
       "text": [
        "<class 'pandas.core.frame.DataFrame'>\n",
        "MultiIndex: 73441 entries, (0, 0) to (270, 270)\n",
        "Data columns:\n",
        "spaceview    73441  non-null values\n",
        "bbview       73441  non-null values\n",
        "stview       73441  non-null values\n",
        "dtypes: bool(3)"
       ]
      }
     ],
     "prompt_number": 183
    },
    {
     "cell_type": "code",
     "collapsed": false,
     "input": [
      "mi"
     ],
     "language": "python",
     "metadata": {},
     "outputs": [
      {
       "output_type": "pyout",
       "prompt_number": 191,
       "text": [
        "<class 'pandas.core.frame.DataFrame'>\n",
        "MultiIndex: 73441 entries, (0, 0) to (270, 270)\n",
        "Data columns:\n",
        "spaceview    73441  non-null values\n",
        "bbview       73441  non-null values\n",
        "stview       73441  non-null values\n",
        "dtypes: bool(3)"
       ]
      }
     ],
     "prompt_number": 191
    },
    {
     "cell_type": "code",
     "collapsed": false,
     "input": [
      "mi.get_value((4,20),'bbview')"
     ],
     "language": "python",
     "metadata": {},
     "outputs": [
      {
       "output_type": "pyout",
       "prompt_number": 211,
       "text": [
        "False"
       ]
      }
     ],
     "prompt_number": 211
    },
    {
     "cell_type": "code",
     "collapsed": false,
     "input": [
      "df.apply?"
     ],
     "language": "python",
     "metadata": {},
     "outputs": [],
     "prompt_number": 216
    },
    {
     "cell_type": "code",
     "collapsed": false,
     "input": [],
     "language": "python",
     "metadata": {},
     "outputs": []
    }
   ],
   "metadata": {}
  }
 ]
}