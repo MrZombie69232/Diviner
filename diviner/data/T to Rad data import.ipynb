{
 "metadata": {
  "name": ""
 },
 "nbformat": 3,
 "nbformat_minor": 0,
 "worksheets": [
  {
   "cells": [
    {
     "cell_type": "code",
     "collapsed": false,
     "input": [
      "import pandas as pd\n",
      "pd.__version__"
     ],
     "language": "python",
     "metadata": {},
     "outputs": [
      {
       "metadata": {},
       "output_type": "pyout",
       "prompt_number": 1,
       "text": [
        "'0.12.0-1007-g6eba2e4'"
       ]
      }
     ],
     "prompt_number": 1
    },
    {
     "cell_type": "code",
     "collapsed": false,
     "input": [
      "sheet_names = [u'Bandpasses',\n",
      " u'T to Normalized Radiance',\n",
      " u'Normalized to Absolute Radiance']"
     ],
     "language": "python",
     "metadata": {},
     "outputs": [],
     "prompt_number": 2
    },
    {
     "cell_type": "code",
     "collapsed": false,
     "input": [
      "sheet = pd.ExcelFile('./Diviner_R_to_T_8-4-2009.xls').sheet_names[1]"
     ],
     "language": "python",
     "metadata": {},
     "outputs": [],
     "prompt_number": 3
    },
    {
     "cell_type": "code",
     "collapsed": false,
     "input": [
      "df = pd.read_excel('./Diviner_R_to_T_8-4-2009.xls', sheet, skiprows=4)\n",
      "df"
     ],
     "language": "python",
     "metadata": {},
     "outputs": [
      {
       "html": [
        "<pre>\n",
        "&lt;class 'pandas.core.frame.DataFrame'&gt;\n",
        "Int64Index: 882 entries, 0 to 881\n",
        "Data columns (total 8 columns):\n",
        "Temperature       882  non-null values\n",
        "Channel 3 (A3)    881  non-null values\n",
        "Channel 4 (A4)    881  non-null values\n",
        "Channel 5 (A5)    881  non-null values\n",
        "Channel 6 (A6)    881  non-null values\n",
        "Channel 7 (B1)    881  non-null values\n",
        "Channel 8 (B2)    881  non-null values\n",
        "Channel 9 (B3)    881  non-null values\n",
        "dtypes: object(8)\n",
        "</pre>"
       ],
       "metadata": {},
       "output_type": "pyout",
       "prompt_number": 4,
       "text": [
        "<class 'pandas.core.frame.DataFrame'>\n",
        "Int64Index: 882 entries, 0 to 881\n",
        "Data columns (total 8 columns):\n",
        "Temperature       882  non-null values\n",
        "Channel 3 (A3)    881  non-null values\n",
        "Channel 4 (A4)    881  non-null values\n",
        "Channel 5 (A5)    881  non-null values\n",
        "Channel 6 (A6)    881  non-null values\n",
        "Channel 7 (B1)    881  non-null values\n",
        "Channel 8 (B2)    881  non-null values\n",
        "Channel 9 (B3)    881  non-null values\n",
        "dtypes: object(8)"
       ]
      }
     ],
     "prompt_number": 4
    },
    {
     "cell_type": "code",
     "collapsed": false,
     "input": [
      "df.index = df.Temperature"
     ],
     "language": "python",
     "metadata": {},
     "outputs": [],
     "prompt_number": 5
    },
    {
     "cell_type": "code",
     "collapsed": false,
     "input": [
      "df.drop('Temperature',axis=1, inplace=True)"
     ],
     "language": "python",
     "metadata": {},
     "outputs": [],
     "prompt_number": 6
    },
    {
     "cell_type": "code",
     "collapsed": false,
     "input": [
      "df.tail()"
     ],
     "language": "python",
     "metadata": {},
     "outputs": [
      {
       "html": [
        "<div style=\"max-height:1000px;max-width:1500px;overflow:auto;\">\n",
        "<table border=\"1\" class=\"dataframe\">\n",
        "  <thead>\n",
        "    <tr style=\"text-align: right;\">\n",
        "      <th></th>\n",
        "      <th>Channel 3 (A3)</th>\n",
        "      <th>Channel 4 (A4)</th>\n",
        "      <th>Channel 5 (A5)</th>\n",
        "      <th>Channel 6 (A6)</th>\n",
        "      <th>Channel 7 (B1)</th>\n",
        "      <th>Channel 8 (B2)</th>\n",
        "      <th>Channel 9 (B3)</th>\n",
        "    </tr>\n",
        "    <tr>\n",
        "      <th>Temperature</th>\n",
        "      <th></th>\n",
        "      <th></th>\n",
        "      <th></th>\n",
        "      <th></th>\n",
        "      <th></th>\n",
        "      <th></th>\n",
        "      <th></th>\n",
        "    </tr>\n",
        "  </thead>\n",
        "  <tbody>\n",
        "    <tr>\n",
        "      <th>436</th>\n",
        "      <td> 6.936719</td>\n",
        "      <td> 6.231165</td>\n",
        "      <td> 5.887937</td>\n",
        "      <td> 2.771216</td>\n",
        "      <td> 1.972281</td>\n",
        "      <td> 1.669984</td>\n",
        "      <td> 1.561577</td>\n",
        "    </tr>\n",
        "    <tr>\n",
        "      <th>437</th>\n",
        "      <td>  7.00546</td>\n",
        "      <td> 6.289574</td>\n",
        "      <td> 5.941476</td>\n",
        "      <td> 2.786375</td>\n",
        "      <td> 1.979769</td>\n",
        "      <td> 1.674976</td>\n",
        "      <td> 1.565734</td>\n",
        "    </tr>\n",
        "    <tr>\n",
        "      <th>438</th>\n",
        "      <td> 7.074573</td>\n",
        "      <td> 6.348271</td>\n",
        "      <td> 5.995264</td>\n",
        "      <td> 2.801558</td>\n",
        "      <td>  1.98726</td>\n",
        "      <td> 1.679968</td>\n",
        "      <td> 1.569891</td>\n",
        "    </tr>\n",
        "    <tr>\n",
        "      <th>439</th>\n",
        "      <td> 7.144059</td>\n",
        "      <td> 6.407254</td>\n",
        "      <td> 6.049301</td>\n",
        "      <td> 2.816766</td>\n",
        "      <td> 1.994755</td>\n",
        "      <td> 1.684962</td>\n",
        "      <td> 1.574049</td>\n",
        "    </tr>\n",
        "    <tr>\n",
        "      <th>440</th>\n",
        "      <td>      NaN</td>\n",
        "      <td>      NaN</td>\n",
        "      <td>      NaN</td>\n",
        "      <td>      NaN</td>\n",
        "      <td>      NaN</td>\n",
        "      <td>      NaN</td>\n",
        "      <td>      NaN</td>\n",
        "    </tr>\n",
        "  </tbody>\n",
        "</table>\n",
        "</div>"
       ],
       "metadata": {},
       "output_type": "pyout",
       "prompt_number": 7,
       "text": [
        "            Channel 3 (A3) Channel 4 (A4) Channel 5 (A5) Channel 6 (A6)  \\\n",
        "Temperature                                                               \n",
        "436               6.936719       6.231165       5.887937       2.771216   \n",
        "437                7.00546       6.289574       5.941476       2.786375   \n",
        "438               7.074573       6.348271       5.995264       2.801558   \n",
        "439               7.144059       6.407254       6.049301       2.816766   \n",
        "440                    NaN            NaN            NaN            NaN   \n",
        "\n",
        "            Channel 7 (B1) Channel 8 (B2) Channel 9 (B3)  \n",
        "Temperature                                               \n",
        "436               1.972281       1.669984       1.561577  \n",
        "437               1.979769       1.674976       1.565734  \n",
        "438                1.98726       1.679968       1.569891  \n",
        "439               1.994755       1.684962       1.574049  \n",
        "440                    NaN            NaN            NaN  "
       ]
      }
     ],
     "prompt_number": 7
    },
    {
     "cell_type": "code",
     "collapsed": false,
     "input": [
      "df = df.drop(440)"
     ],
     "language": "python",
     "metadata": {},
     "outputs": [],
     "prompt_number": 8
    },
    {
     "cell_type": "code",
     "collapsed": false,
     "input": [
      "df.tail()"
     ],
     "language": "python",
     "metadata": {},
     "outputs": [
      {
       "html": [
        "<div style=\"max-height:1000px;max-width:1500px;overflow:auto;\">\n",
        "<table border=\"1\" class=\"dataframe\">\n",
        "  <thead>\n",
        "    <tr style=\"text-align: right;\">\n",
        "      <th></th>\n",
        "      <th>Channel 3 (A3)</th>\n",
        "      <th>Channel 4 (A4)</th>\n",
        "      <th>Channel 5 (A5)</th>\n",
        "      <th>Channel 6 (A6)</th>\n",
        "      <th>Channel 7 (B1)</th>\n",
        "      <th>Channel 8 (B2)</th>\n",
        "      <th>Channel 9 (B3)</th>\n",
        "    </tr>\n",
        "    <tr>\n",
        "      <th>Temperature</th>\n",
        "      <th></th>\n",
        "      <th></th>\n",
        "      <th></th>\n",
        "      <th></th>\n",
        "      <th></th>\n",
        "      <th></th>\n",
        "      <th></th>\n",
        "    </tr>\n",
        "  </thead>\n",
        "  <tbody>\n",
        "    <tr>\n",
        "      <th>435</th>\n",
        "      <td> 6.868352</td>\n",
        "      <td> 6.173043</td>\n",
        "      <td> 5.834649</td>\n",
        "      <td> 2.756082</td>\n",
        "      <td> 1.964796</td>\n",
        "      <td> 1.664993</td>\n",
        "      <td> 1.557421</td>\n",
        "    </tr>\n",
        "    <tr>\n",
        "      <th>436</th>\n",
        "      <td> 6.936719</td>\n",
        "      <td> 6.231165</td>\n",
        "      <td> 5.887937</td>\n",
        "      <td> 2.771216</td>\n",
        "      <td> 1.972281</td>\n",
        "      <td> 1.669984</td>\n",
        "      <td> 1.561577</td>\n",
        "    </tr>\n",
        "    <tr>\n",
        "      <th>437</th>\n",
        "      <td>  7.00546</td>\n",
        "      <td> 6.289574</td>\n",
        "      <td> 5.941476</td>\n",
        "      <td> 2.786375</td>\n",
        "      <td> 1.979769</td>\n",
        "      <td> 1.674976</td>\n",
        "      <td> 1.565734</td>\n",
        "    </tr>\n",
        "    <tr>\n",
        "      <th>438</th>\n",
        "      <td> 7.074573</td>\n",
        "      <td> 6.348271</td>\n",
        "      <td> 5.995264</td>\n",
        "      <td> 2.801558</td>\n",
        "      <td>  1.98726</td>\n",
        "      <td> 1.679968</td>\n",
        "      <td> 1.569891</td>\n",
        "    </tr>\n",
        "    <tr>\n",
        "      <th>439</th>\n",
        "      <td> 7.144059</td>\n",
        "      <td> 6.407254</td>\n",
        "      <td> 6.049301</td>\n",
        "      <td> 2.816766</td>\n",
        "      <td> 1.994755</td>\n",
        "      <td> 1.684962</td>\n",
        "      <td> 1.574049</td>\n",
        "    </tr>\n",
        "  </tbody>\n",
        "</table>\n",
        "</div>"
       ],
       "metadata": {},
       "output_type": "pyout",
       "prompt_number": 9,
       "text": [
        "            Channel 3 (A3) Channel 4 (A4) Channel 5 (A5) Channel 6 (A6)  \\\n",
        "Temperature                                                               \n",
        "435               6.868352       6.173043       5.834649       2.756082   \n",
        "436               6.936719       6.231165       5.887937       2.771216   \n",
        "437                7.00546       6.289574       5.941476       2.786375   \n",
        "438               7.074573       6.348271       5.995264       2.801558   \n",
        "439               7.144059       6.407254       6.049301       2.816766   \n",
        "\n",
        "            Channel 7 (B1) Channel 8 (B2) Channel 9 (B3)  \n",
        "Temperature                                               \n",
        "435               1.964796       1.664993       1.557421  \n",
        "436               1.972281       1.669984       1.561577  \n",
        "437               1.979769       1.674976       1.565734  \n",
        "438                1.98726       1.679968       1.569891  \n",
        "439               1.994755       1.684962       1.574049  "
       ]
      }
     ],
     "prompt_number": 9
    },
    {
     "cell_type": "code",
     "collapsed": false,
     "input": [
      "df.info()"
     ],
     "language": "python",
     "metadata": {},
     "outputs": [
      {
       "output_type": "stream",
       "stream": "stdout",
       "text": [
        "<class 'pandas.core.frame.DataFrame'>\n",
        "Index: 881 entries, (K) to 439.0\n",
        "Data columns (total 7 columns):\n",
        "Channel 3 (A3)    881  non-null values\n",
        "Channel 4 (A4)    881  non-null values\n",
        "Channel 5 (A5)    881  non-null values\n",
        "Channel 6 (A6)    881  non-null values\n",
        "Channel 7 (B1)    881  non-null values\n",
        "Channel 8 (B2)    881  non-null values\n",
        "Channel 9 (B3)    881  non-null values\n",
        "dtypes: object(7)"
       ]
      }
     ],
     "prompt_number": 10
    },
    {
     "cell_type": "code",
     "collapsed": false,
     "input": [
      "df.index[:10]"
     ],
     "language": "python",
     "metadata": {},
     "outputs": [
      {
       "metadata": {},
       "output_type": "pyout",
       "prompt_number": 11,
       "text": [
        "Index([u'(K)', -440.0, -439.0, -438.0, -437.0, -436.0, -435.0, -434.0, -433.0, -432.0], dtype='object')"
       ]
      }
     ],
     "prompt_number": 11
    },
    {
     "cell_type": "code",
     "collapsed": false,
     "input": [
      "df = df.drop('(K)')"
     ],
     "language": "python",
     "metadata": {},
     "outputs": [],
     "prompt_number": 12
    },
    {
     "cell_type": "code",
     "collapsed": false,
     "input": [
      "df.info()"
     ],
     "language": "python",
     "metadata": {},
     "outputs": [
      {
       "output_type": "stream",
       "stream": "stdout",
       "text": [
        "<class 'pandas.core.frame.DataFrame'>\n",
        "Float64Index: 880 entries, -440.0 to 439.0\n",
        "Data columns (total 7 columns):\n",
        "Channel 3 (A3)    880  non-null values\n",
        "Channel 4 (A4)    880  non-null values\n",
        "Channel 5 (A5)    880  non-null values\n",
        "Channel 6 (A6)    880  non-null values\n",
        "Channel 7 (B1)    880  non-null values\n",
        "Channel 8 (B2)    880  non-null values\n",
        "Channel 9 (B3)    880  non-null values\n",
        "dtypes: object(7)"
       ]
      }
     ],
     "prompt_number": 13
    },
    {
     "cell_type": "code",
     "collapsed": false,
     "input": [
      "df.head()"
     ],
     "language": "python",
     "metadata": {},
     "outputs": [
      {
       "html": [
        "<div style=\"max-height:1000px;max-width:1500px;overflow:auto;\">\n",
        "<table border=\"1\" class=\"dataframe\">\n",
        "  <thead>\n",
        "    <tr style=\"text-align: right;\">\n",
        "      <th></th>\n",
        "      <th>Channel 3 (A3)</th>\n",
        "      <th>Channel 4 (A4)</th>\n",
        "      <th>Channel 5 (A5)</th>\n",
        "      <th>Channel 6 (A6)</th>\n",
        "      <th>Channel 7 (B1)</th>\n",
        "      <th>Channel 8 (B2)</th>\n",
        "      <th>Channel 9 (B3)</th>\n",
        "    </tr>\n",
        "    <tr>\n",
        "      <th>Temperature</th>\n",
        "      <th></th>\n",
        "      <th></th>\n",
        "      <th></th>\n",
        "      <th></th>\n",
        "      <th></th>\n",
        "      <th></th>\n",
        "      <th></th>\n",
        "    </tr>\n",
        "  </thead>\n",
        "  <tbody>\n",
        "    <tr>\n",
        "      <th>-440</th>\n",
        "      <td>-7.213917</td>\n",
        "      <td>-6.466524</td>\n",
        "      <td>-6.103586</td>\n",
        "      <td>-2.831999</td>\n",
        "      <td>-2.002254</td>\n",
        "      <td>-1.689956</td>\n",
        "      <td>-1.578207</td>\n",
        "    </tr>\n",
        "    <tr>\n",
        "      <th>-439</th>\n",
        "      <td>-7.144059</td>\n",
        "      <td>-6.407254</td>\n",
        "      <td>-6.049301</td>\n",
        "      <td>-2.816766</td>\n",
        "      <td>-1.994755</td>\n",
        "      <td>-1.684962</td>\n",
        "      <td>-1.574049</td>\n",
        "    </tr>\n",
        "    <tr>\n",
        "      <th>-438</th>\n",
        "      <td>-7.074573</td>\n",
        "      <td>-6.348271</td>\n",
        "      <td>-5.995264</td>\n",
        "      <td>-2.801558</td>\n",
        "      <td> -1.98726</td>\n",
        "      <td>-1.679968</td>\n",
        "      <td>-1.569891</td>\n",
        "    </tr>\n",
        "    <tr>\n",
        "      <th>-437</th>\n",
        "      <td> -7.00546</td>\n",
        "      <td>-6.289574</td>\n",
        "      <td>-5.941476</td>\n",
        "      <td>-2.786375</td>\n",
        "      <td>-1.979769</td>\n",
        "      <td>-1.674976</td>\n",
        "      <td>-1.565734</td>\n",
        "    </tr>\n",
        "    <tr>\n",
        "      <th>-436</th>\n",
        "      <td>-6.936719</td>\n",
        "      <td>-6.231165</td>\n",
        "      <td>-5.887937</td>\n",
        "      <td>-2.771216</td>\n",
        "      <td>-1.972281</td>\n",
        "      <td>-1.669984</td>\n",
        "      <td>-1.561577</td>\n",
        "    </tr>\n",
        "  </tbody>\n",
        "</table>\n",
        "</div>"
       ],
       "metadata": {},
       "output_type": "pyout",
       "prompt_number": 14,
       "text": [
        "            Channel 3 (A3) Channel 4 (A4) Channel 5 (A5) Channel 6 (A6)  \\\n",
        "Temperature                                                               \n",
        "-440             -7.213917      -6.466524      -6.103586      -2.831999   \n",
        "-439             -7.144059      -6.407254      -6.049301      -2.816766   \n",
        "-438             -7.074573      -6.348271      -5.995264      -2.801558   \n",
        "-437              -7.00546      -6.289574      -5.941476      -2.786375   \n",
        "-436             -6.936719      -6.231165      -5.887937      -2.771216   \n",
        "\n",
        "            Channel 7 (B1) Channel 8 (B2) Channel 9 (B3)  \n",
        "Temperature                                               \n",
        "-440             -2.002254      -1.689956      -1.578207  \n",
        "-439             -1.994755      -1.684962      -1.574049  \n",
        "-438              -1.98726      -1.679968      -1.569891  \n",
        "-437             -1.979769      -1.674976      -1.565734  \n",
        "-436             -1.972281      -1.669984      -1.561577  "
       ]
      }
     ],
     "prompt_number": 14
    },
    {
     "cell_type": "code",
     "collapsed": false,
     "input": [
      "df = df.convert_objects()"
     ],
     "language": "python",
     "metadata": {},
     "outputs": [],
     "prompt_number": 15
    },
    {
     "cell_type": "code",
     "collapsed": false,
     "input": [
      "df.info()"
     ],
     "language": "python",
     "metadata": {},
     "outputs": [
      {
       "output_type": "stream",
       "stream": "stdout",
       "text": [
        "<class 'pandas.core.frame.DataFrame'>\n",
        "Float64Index: 880 entries, -440.0 to 439.0\n",
        "Data columns (total 7 columns):\n",
        "Channel 3 (A3)    880  non-null values\n",
        "Channel 4 (A4)    880  non-null values\n",
        "Channel 5 (A5)    880  non-null values\n",
        "Channel 6 (A6)    880  non-null values\n",
        "Channel 7 (B1)    880  non-null values\n",
        "Channel 8 (B2)    880  non-null values\n",
        "Channel 9 (B3)    880  non-null values\n",
        "dtypes: float64(7)"
       ]
      }
     ],
     "prompt_number": 16
    },
    {
     "cell_type": "code",
     "collapsed": false,
     "input": [
      "df.dtypes"
     ],
     "language": "python",
     "metadata": {},
     "outputs": [
      {
       "metadata": {},
       "output_type": "pyout",
       "prompt_number": 18,
       "text": [
        "Channel 3 (A3)    float64\n",
        "Channel 4 (A4)    float64\n",
        "Channel 5 (A5)    float64\n",
        "Channel 6 (A6)    float64\n",
        "Channel 7 (B1)    float64\n",
        "Channel 8 (B2)    float64\n",
        "Channel 9 (B3)    float64\n",
        "dtype: object"
       ]
      }
     ],
     "prompt_number": 18
    },
    {
     "cell_type": "code",
     "collapsed": false,
     "input": [
      "df.index"
     ],
     "language": "python",
     "metadata": {},
     "outputs": [
      {
       "metadata": {},
       "output_type": "pyout",
       "prompt_number": 20,
       "text": [
        "Float64Index([-440.0, -439.0, -438.0, -437.0, -436.0, -435.0, -434.0, -433.0, -432.0, -431.0, -430.0, -429.0, -428.0, -427.0, -426.0, -425.0, -424.0, -423.0, -422.0, -421.0, -420.0, -419.0, -418.0, -417.0, -416.0, -415.0, -414.0, -413.0, -412.0, -411.0, -410.0, -409.0, -408.0, -407.0, -406.0, -405.0, -404.0, -403.0, -402.0, -401.0, -400.0, -399.0, -398.0, -397.0, -396.0, -395.0, -394.0, -393.0, -392.0, -391.0, -390.0, -389.0, -388.0, -387.0, -386.0, -385.0, -384.0, -383.0, -382.0, -381.0, -380.0, -379.0, -378.0, -377.0, -376.0, -375.0, -374.0, -373.0, -372.0, -371.0, -370.0, -369.0, -368.0, -367.0, -366.0, -365.0, -364.0, -363.0, -362.0, -361.0, -360.0, -359.0, -358.0, -357.0, -356.0, -355.0, -354.0, -353.0, -352.0, -351.0, -350.0, -349.0, -348.0, -347.0, -346.0, -345.0, -344.0, -343.0, -342.0, -341.0, -340.0, -339.0, -338.0, -337.0, -336.0, -335.0, -334.0, -333.0, -332.0, -331.0, -330.0, -329.0, -328.0, -327.0, -326.0, -325.0, -324.0, -323.0, -322.0, -321.0, -320.0, -319.0, -318.0, -317.0, -316.0, -315.0, -314.0, -313.0, -312.0, -311.0, -310.0, -309.0, -308.0, -307.0, -306.0, -305.0, -304.0, -303.0, -302.0, -301.0, -300.0, -299.0, -298.0, -297.0, -296.0, -295.0, -294.0, -293.0, -292.0, -291.0, -290.0, -289.0, -288.0, -287.0, -286.0, -285.0, -284.0, -283.0, -282.0, -281.0, -280.0, -279.0, -278.0, -277.0, -276.0, -275.0, -274.0, -273.0, -272.0, -271.0, -270.0, -269.0, -268.0, -267.0, -266.0, -265.0, -264.0, -263.0, -262.0, -261.0, -260.0, -259.0, -258.0, -257.0, -256.0, -255.0, -254.0, -253.0, -252.0, -251.0, -250.0, -249.0, -248.0, -247.0, -246.0, -245.0, -244.0, -243.0, -242.0, -241.0, -240.0, -239.0, -238.0, -237.0, -236.0, -235.0, -234.0, -233.0, -232.0, -231.0, -230.0, -229.0, -228.0, -227.0, -226.0, -225.0, -224.0, -223.0, -222.0, -221.0, -220.0, -219.0, -218.0, -217.0, -216.0, -215.0, -214.0, -213.0, -212.0, -211.0, -210.0, -209.0, -208.0, -207.0, -206.0, -205.0, -204.0, -203.0, -202.0, -201.0, -200.0, -199.0, -198.0, -197.0, -196.0, -195.0, -194.0, -193.0, -192.0, -191.0, -190.0, -189.0, -188.0, -187.0, -186.0, -185.0, -184.0, -183.0, -182.0, -181.0, -180.0, -179.0, -178.0, -177.0, -176.0, -175.0, -174.0, -173.0, -172.0, -171.0, -170.0, -169.0, -168.0, -167.0, -166.0, -165.0, -164.0, -163.0, -162.0, -161.0, -160.0, -159.0, -158.0, -157.0, -156.0, -155.0, -154.0, -153.0, -152.0, -151.0, -150.0, -149.0, -148.0, -147.0, -146.0, -145.0, -144.0, -143.0, -142.0, -141.0, -140.0, -139.0, -138.0, -137.0, -136.0, -135.0, -134.0, -133.0, -132.0, -131.0, -130.0, -129.0, -128.0, -127.0, -126.0, -125.0, -124.0, -123.0, -122.0, -121.0, -120.0, -119.0, -118.0, -117.0, -116.0, -115.0, -114.0, -113.0, -112.0, -111.0, -110.0, -109.0, -108.0, -107.0, -106.0, -105.0, -104.0, -103.0, -102.0, -101.0, -100.0, -99.0, -98.0, -97.0, -96.0, -95.0, -94.0, -93.0, -92.0, -91.0, -90.0, -89.0, -88.0, -87.0, -86.0, -85.0, -84.0, -83.0, -82.0, -81.0, -80.0, -79.0, -78.0, -77.0, -76.0, -75.0, -74.0, -73.0, -72.0, -71.0, -70.0, -69.0, -68.0, -67.0, -66.0, -65.0, -64.0, -63.0, -62.0, -61.0, -60.0, -59.0, -58.0, -57.0, -56.0, -55.0, -54.0, -53.0, -52.0, -51.0, -50.0, -49.0, -48.0, -47.0, -46.0, -45.0, -44.0, -43.0, -42.0, -41.0, -40.0, -39.0, -38.0, -37.0, -36.0, -35.0, -34.0, -33.0, -32.0, -31.0, -30.0, -29.0, -28.0, -27.0, -26.0, -25.0, -24.0, -23.0, -22.0, -21.0, -20.0, -19.0, -18.0, -17.0, -16.0, -15.0, -14.0, -13.0, -12.0, -11.0, -10.0, -9.0, -8.0, -7.0, -6.0, -5.0, -4.0, -3.0, -2.0, -1.0, 0.0, 1.0, 2.0, 3.0, 4.0, 5.0, 6.0, 7.0, 8.0, 9.0, 10.0, 11.0, 12.0, 13.0, 14.0, 15.0, 16.0, 17.0, 18.0, 19.0, 20.0, 21.0, 22.0, 23.0, 24.0, 25.0, 26.0, 27.0, 28.0, 29.0, 30.0, 31.0, 32.0, 33.0, 34.0, 35.0, 36.0, 37.0, 38.0, 39.0, 40.0, 41.0, 42.0, 43.0, 44.0, 45.0, 46.0, 47.0, 48.0, 49.0, 50.0, 51.0, 52.0, 53.0, 54.0, 55.0, 56.0, 57.0, 58.0, 59.0, 60.0, 61.0, 62.0, 63.0, 64.0, 65.0, 66.0, 67.0, 68.0, 69.0, 70.0, 71.0, 72.0, 73.0, 74.0, 75.0, 76.0, 77.0, 78.0, 79.0, 80.0, 81.0, 82.0, 83.0, 84.0, 85.0, 86.0, 87.0, 88.0, 89.0, 90.0, 91.0, 92.0, 93.0, 94.0, 95.0, 96.0, 97.0, 98.0, 99.0, 100.0, 101.0, 102.0, 103.0, 104.0, 105.0, 106.0, 107.0, 108.0, 109.0, 110.0, 111.0, 112.0, 113.0, 114.0, 115.0, 116.0, 117.0, 118.0, 119.0, 120.0, 121.0, 122.0, 123.0, 124.0, 125.0, 126.0, 127.0, 128.0, 129.0, 130.0, 131.0, 132.0, 133.0, 134.0, 135.0, 136.0, 137.0, 138.0, 139.0, 140.0, 141.0, 142.0, 143.0, 144.0, 145.0, 146.0, 147.0, 148.0, 149.0, 150.0, 151.0, 152.0, 153.0, 154.0, 155.0, 156.0, 157.0, 158.0, 159.0, 160.0, 161.0, 162.0, 163.0, 164.0, 165.0, 166.0, 167.0, 168.0, 169.0, 170.0, 171.0, 172.0, 173.0, 174.0, 175.0, 176.0, 177.0, 178.0, 179.0, 180.0, 181.0, 182.0, 183.0, 184.0, 185.0, 186.0, 187.0, 188.0, 189.0, 190.0, 191.0, 192.0, 193.0, 194.0, 195.0, 196.0, 197.0, 198.0, 199.0, 200.0, 201.0, 202.0, 203.0, 204.0, 205.0, 206.0, 207.0, 208.0, 209.0, 210.0, 211.0, 212.0, 213.0, 214.0, 215.0, 216.0, 217.0, 218.0, 219.0, 220.0, 221.0, 222.0, 223.0, 224.0, 225.0, 226.0, 227.0, 228.0, 229.0, 230.0, 231.0, 232.0, 233.0, 234.0, 235.0, 236.0, 237.0, 238.0, 239.0, 240.0, 241.0, 242.0, 243.0, 244.0, 245.0, 246.0, 247.0, 248.0, 249.0, 250.0, 251.0, 252.0, 253.0, 254.0, 255.0, 256.0, 257.0, 258.0, 259.0, 260.0, 261.0, 262.0, 263.0, 264.0, 265.0, 266.0, 267.0, 268.0, 269.0, 270.0, 271.0, 272.0, 273.0, 274.0, 275.0, 276.0, 277.0, 278.0, 279.0, 280.0, 281.0, 282.0, 283.0, 284.0, 285.0, 286.0, 287.0, 288.0, 289.0, 290.0, 291.0, 292.0, 293.0, 294.0, 295.0, 296.0, 297.0, 298.0, 299.0, 300.0, 301.0, 302.0, 303.0, 304.0, 305.0, 306.0, 307.0, 308.0, 309.0, 310.0, 311.0, 312.0, 313.0, 314.0, 315.0, 316.0, 317.0, 318.0, 319.0, 320.0, 321.0, 322.0, 323.0, 324.0, 325.0, 326.0, 327.0, 328.0, 329.0, 330.0, 331.0, 332.0, 333.0, 334.0, 335.0, 336.0, 337.0, 338.0, 339.0, 340.0, 341.0, 342.0, 343.0, 344.0, 345.0, 346.0, 347.0, 348.0, 349.0, 350.0, 351.0, 352.0, 353.0, 354.0, 355.0, 356.0, 357.0, 358.0, 359.0, 360.0, 361.0, 362.0, 363.0, 364.0, 365.0, 366.0, 367.0, 368.0, 369.0, 370.0, 371.0, 372.0, 373.0, 374.0, 375.0, 376.0, 377.0, 378.0, 379.0, 380.0, 381.0, 382.0, 383.0, 384.0, 385.0, 386.0, 387.0, 388.0, 389.0, 390.0, 391.0, 392.0, 393.0, 394.0, 395.0, 396.0, 397.0, 398.0, 399.0, 400.0, 401.0, 402.0, 403.0, 404.0, 405.0, 406.0, 407.0, 408.0, 409.0, 410.0, 411.0, 412.0, 413.0, 414.0, 415.0, 416.0, 417.0, 418.0, 419.0, 420.0, 421.0, 422.0, 423.0, 424.0, 425.0, 426.0, 427.0, 428.0, 429.0, 430.0, 431.0, 432.0, 433.0, 434.0, 435.0, 436.0, 437.0, 438.0, 439.0], dtype='object')"
       ]
      }
     ],
     "prompt_number": 20
    },
    {
     "cell_type": "code",
     "collapsed": false,
     "input": [
      "# if the column names are unicode, df.to_hdf() throws a performance warning\n",
      "df.columns = [str(i) for i in df.columns]"
     ],
     "language": "python",
     "metadata": {},
     "outputs": [],
     "prompt_number": 26
    },
    {
     "cell_type": "code",
     "collapsed": false,
     "input": [
      "df.to_hdf('./t_to_norm_rad.hdf','df')"
     ],
     "language": "python",
     "metadata": {},
     "outputs": [],
     "prompt_number": 25
    },
    {
     "cell_type": "code",
     "collapsed": false,
     "input": [
      "%timeit df = pd.read_hdf('./t_to_norm_rad.hdf','df')"
     ],
     "language": "python",
     "metadata": {},
     "outputs": [
      {
       "output_type": "stream",
       "stream": "stdout",
       "text": [
        "100 loops, best of 3: 3.69 ms per loop\n"
       ]
      }
     ],
     "prompt_number": 27
    },
    {
     "cell_type": "code",
     "collapsed": false,
     "input": [
      "%timeit df = pd.read_pickle('./T_to_Normalized_Radiance.df')"
     ],
     "language": "python",
     "metadata": {},
     "outputs": [
      {
       "output_type": "stream",
       "stream": "stdout",
       "text": [
        "100 loops, best of 3: 9.11 ms per loop\n"
       ]
      }
     ],
     "prompt_number": 29
    },
    {
     "cell_type": "markdown",
     "metadata": {},
     "source": [
      "so, HDF storage is faster! Sold!"
     ]
    },
    {
     "cell_type": "code",
     "collapsed": false,
     "input": [],
     "language": "python",
     "metadata": {},
     "outputs": []
    }
   ],
   "metadata": {}
  }
 ]
}