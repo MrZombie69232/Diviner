{
 "metadata": {
  "name": "living costs"
 },
 "nbformat": 3,
 "nbformat_minor": 0,
 "worksheets": [
  {
   "cells": [
    {
     "cell_type": "code",
     "collapsed": false,
     "input": [
      "l = []"
     ],
     "language": "python",
     "metadata": {},
     "outputs": [],
     "prompt_number": 1
    },
    {
     "cell_type": "code",
     "collapsed": false,
     "input": [
      "l.append((39.38,'SPUD'))"
     ],
     "language": "python",
     "metadata": {},
     "outputs": [],
     "prompt_number": 2
    },
    {
     "cell_type": "code",
     "collapsed": false,
     "input": [
      "l.append((2.78,'UNIFOOD'))"
     ],
     "language": "python",
     "metadata": {},
     "outputs": [],
     "prompt_number": 3
    },
    {
     "cell_type": "code",
     "collapsed": false,
     "input": [
      "l"
     ],
     "language": "python",
     "metadata": {},
     "outputs": [
      {
       "output_type": "pyout",
       "prompt_number": 4,
       "text": [
        "[(39.38, 'SPUD'), (2.78, 'UNIFOOD')]"
       ]
      }
     ],
     "prompt_number": 4
    },
    {
     "cell_type": "code",
     "collapsed": false,
     "input": [
      "l.append((23.91,'Grocery'))"
     ],
     "language": "python",
     "metadata": {},
     "outputs": [],
     "prompt_number": 5
    },
    {
     "cell_type": "code",
     "collapsed": false,
     "input": [
      "l.append((2.55,'UNIFOOD'))"
     ],
     "language": "python",
     "metadata": {},
     "outputs": [],
     "prompt_number": 6
    },
    {
     "cell_type": "code",
     "collapsed": false,
     "input": [
      "l.append((7.99,'netflix'))"
     ],
     "language": "python",
     "metadata": {},
     "outputs": [],
     "prompt_number": 7
    },
    {
     "cell_type": "code",
     "collapsed": false,
     "input": [
      "l.append((28.96,'Grocery'))"
     ],
     "language": "python",
     "metadata": {},
     "outputs": [],
     "prompt_number": 8
    },
    {
     "cell_type": "code",
     "collapsed": false,
     "input": [
      "l.append((52.76,'Grocery'))"
     ],
     "language": "python",
     "metadata": {},
     "outputs": [],
     "prompt_number": 9
    },
    {
     "cell_type": "code",
     "collapsed": false,
     "input": [
      "l.append((2.94+3.35,'UNIFOOD'))"
     ],
     "language": "python",
     "metadata": {},
     "outputs": [],
     "prompt_number": 10
    },
    {
     "cell_type": "code",
     "collapsed": false,
     "input": [
      "l"
     ],
     "language": "python",
     "metadata": {},
     "outputs": [
      {
       "output_type": "pyout",
       "prompt_number": 11,
       "text": [
        "[(39.38, 'SPUD'),\n",
        " (2.78, 'UNIFOOD'),\n",
        " (23.91, 'Grocery'),\n",
        " (2.55, 'UNIFOOD'),\n",
        " (7.99, 'netflix'),\n",
        " (28.96, 'Grocery'),\n",
        " (52.76, 'Grocery'),\n",
        " (6.29, 'UNIFOOD')]"
       ]
      }
     ],
     "prompt_number": 11
    },
    {
     "cell_type": "code",
     "collapsed": false,
     "input": [
      "l.append((64.17,'gas'))"
     ],
     "language": "python",
     "metadata": {},
     "outputs": [],
     "prompt_number": 12
    },
    {
     "cell_type": "code",
     "collapsed": false,
     "input": [
      "l.append((31.97,'Grocery'))"
     ],
     "language": "python",
     "metadata": {},
     "outputs": [],
     "prompt_number": 13
    },
    {
     "cell_type": "code",
     "collapsed": false,
     "input": [
      "l.append((15.36,'catfood'))"
     ],
     "language": "python",
     "metadata": {},
     "outputs": [],
     "prompt_number": 14
    },
    {
     "cell_type": "code",
     "collapsed": false,
     "input": [
      "l.append((3,'office'))"
     ],
     "language": "python",
     "metadata": {},
     "outputs": [],
     "prompt_number": 15
    },
    {
     "cell_type": "code",
     "collapsed": false,
     "input": [
      "l.append((100,'att'))\n"
     ],
     "language": "python",
     "metadata": {},
     "outputs": [],
     "prompt_number": 16
    },
    {
     "cell_type": "code",
     "collapsed": false,
     "input": [
      "l.append((23.11,'Grocery'))"
     ],
     "language": "python",
     "metadata": {},
     "outputs": [],
     "prompt_number": 17
    },
    {
     "cell_type": "code",
     "collapsed": false,
     "input": [
      "l.append((16.35+15.01,'cloths'))"
     ],
     "language": "python",
     "metadata": {},
     "outputs": [],
     "prompt_number": 18
    },
    {
     "cell_type": "code",
     "collapsed": false,
     "input": [
      "l.append((5.99,'itunes'))"
     ],
     "language": "python",
     "metadata": {},
     "outputs": [],
     "prompt_number": 19
    },
    {
     "cell_type": "code",
     "collapsed": false,
     "input": [
      "l.append((57.70,'Grocery'))"
     ],
     "language": "python",
     "metadata": {},
     "outputs": [],
     "prompt_number": 21
    },
    {
     "cell_type": "code",
     "collapsed": false,
     "input": [
      "l.append((25.34,'CVS'))"
     ],
     "language": "python",
     "metadata": {},
     "outputs": [],
     "prompt_number": 22
    },
    {
     "cell_type": "code",
     "collapsed": false,
     "input": [
      "l.append((16.50,'outgoing'))"
     ],
     "language": "python",
     "metadata": {},
     "outputs": [],
     "prompt_number": 23
    },
    {
     "cell_type": "code",
     "collapsed": false,
     "input": [
      "l.append((13.06,'journals'))"
     ],
     "language": "python",
     "metadata": {},
     "outputs": [],
     "prompt_number": 24
    },
    {
     "cell_type": "code",
     "collapsed": false,
     "input": [
      "l.append((9.98,'itunes'))"
     ],
     "language": "python",
     "metadata": {},
     "outputs": [],
     "prompt_number": 25
    },
    {
     "cell_type": "code",
     "collapsed": false,
     "input": [
      "l.append((20+19.33,'outgoing'))"
     ],
     "language": "python",
     "metadata": {},
     "outputs": [],
     "prompt_number": 26
    },
    {
     "cell_type": "code",
     "collapsed": false,
     "input": [
      "l.append((10,'transport'))"
     ],
     "language": "python",
     "metadata": {},
     "outputs": [],
     "prompt_number": 27
    },
    {
     "cell_type": "code",
     "collapsed": false,
     "input": [
      "l.append((5.72,'transport'))"
     ],
     "language": "python",
     "metadata": {},
     "outputs": [],
     "prompt_number": 28
    },
    {
     "cell_type": "code",
     "collapsed": false,
     "input": [
      "l.append((37.07,'CVS'))"
     ],
     "language": "python",
     "metadata": {},
     "outputs": [],
     "prompt_number": 29
    },
    {
     "cell_type": "code",
     "collapsed": false,
     "input": [
      "l.append((90.67,'Grocery'))"
     ],
     "language": "python",
     "metadata": {},
     "outputs": [],
     "prompt_number": 30
    },
    {
     "cell_type": "code",
     "collapsed": false,
     "input": [
      "l.append((90.48,'transport'))"
     ],
     "language": "python",
     "metadata": {},
     "outputs": [],
     "prompt_number": 31
    },
    {
     "cell_type": "code",
     "collapsed": false,
     "input": [
      "l.append((31.97,'Grocery'))"
     ],
     "language": "python",
     "metadata": {},
     "outputs": [],
     "prompt_number": 32
    },
    {
     "cell_type": "code",
     "collapsed": false,
     "input": [
      "l.append((18,'haircut'))"
     ],
     "language": "python",
     "metadata": {},
     "outputs": [],
     "prompt_number": 33
    },
    {
     "cell_type": "code",
     "collapsed": false,
     "input": [
      "l.append((41.36,'SPUD'))"
     ],
     "language": "python",
     "metadata": {},
     "outputs": [],
     "prompt_number": 34
    },
    {
     "cell_type": "code",
     "collapsed": false,
     "input": [
      "l.append((3.35,'UNIFOOD'))"
     ],
     "language": "python",
     "metadata": {},
     "outputs": [],
     "prompt_number": 35
    },
    {
     "cell_type": "code",
     "collapsed": false,
     "input": [
      "l.append((48.00,'outgoing'))"
     ],
     "language": "python",
     "metadata": {},
     "outputs": [],
     "prompt_number": 36
    },
    {
     "cell_type": "code",
     "collapsed": false,
     "input": [
      "l.append((7.09,'UNIFOOD'))"
     ],
     "language": "python",
     "metadata": {},
     "outputs": [],
     "prompt_number": 37
    },
    {
     "cell_type": "code",
     "collapsed": false,
     "input": [
      "l.append((4.99,'itunes'))"
     ],
     "language": "python",
     "metadata": {},
     "outputs": [],
     "prompt_number": 38
    },
    {
     "cell_type": "code",
     "collapsed": false,
     "input": [
      "l.append((34.29,'internet'))"
     ],
     "language": "python",
     "metadata": {},
     "outputs": [],
     "prompt_number": 39
    },
    {
     "cell_type": "code",
     "collapsed": false,
     "input": [
      "l.append((68.77,'Grocery'))"
     ],
     "language": "python",
     "metadata": {},
     "outputs": [],
     "prompt_number": 40
    },
    {
     "cell_type": "code",
     "collapsed": false,
     "input": [
      "l.append((3.72,'amazon'))"
     ],
     "language": "python",
     "metadata": {},
     "outputs": [],
     "prompt_number": 41
    },
    {
     "cell_type": "code",
     "collapsed": false,
     "input": [
      "l.append((42.97,'SPUD'))"
     ],
     "language": "python",
     "metadata": {},
     "outputs": [],
     "prompt_number": 42
    },
    {
     "cell_type": "code",
     "collapsed": false,
     "input": [
      "l.append((23.35,'CVS'))"
     ],
     "language": "python",
     "metadata": {},
     "outputs": [],
     "prompt_number": 43
    },
    {
     "cell_type": "code",
     "collapsed": false,
     "input": [
      "l.append((2095,'rent'))"
     ],
     "language": "python",
     "metadata": {},
     "outputs": [],
     "prompt_number": 44
    },
    {
     "cell_type": "code",
     "collapsed": false,
     "input": [
      "l.append((138.17,'water'))"
     ],
     "language": "python",
     "metadata": {},
     "outputs": [],
     "prompt_number": 45
    },
    {
     "cell_type": "code",
     "collapsed": false,
     "input": [
      "l.append((42.52,'transport'))"
     ],
     "language": "python",
     "metadata": {},
     "outputs": [],
     "prompt_number": 46
    },
    {
     "cell_type": "code",
     "collapsed": false,
     "input": [
      "l.append((104.82,'Grocery'))"
     ],
     "language": "python",
     "metadata": {},
     "outputs": [],
     "prompt_number": 47
    },
    {
     "cell_type": "code",
     "collapsed": false,
     "input": [
      "import pandas as pd"
     ],
     "language": "python",
     "metadata": {},
     "outputs": [],
     "prompt_number": 48
    },
    {
     "cell_type": "code",
     "collapsed": false,
     "input": [
      "df = pd.DataFrame(l,columns=['Amount','Category'])"
     ],
     "language": "python",
     "metadata": {},
     "outputs": [],
     "prompt_number": 51
    },
    {
     "cell_type": "code",
     "collapsed": false,
     "input": [
      "df.sum()"
     ],
     "language": "python",
     "metadata": {},
     "outputs": [
      {
       "output_type": "pyout",
       "prompt_number": 52,
       "text": [
        "Amount                                                 3543.8\n",
        "Category    SPUDUNIFOODGroceryUNIFOODnetflixGroceryGrocery..."
       ]
      }
     ],
     "prompt_number": 52
    },
    {
     "cell_type": "code",
     "collapsed": false,
     "input": [
      "df.plot('Category','Amount')"
     ],
     "language": "python",
     "metadata": {},
     "outputs": [
      {
       "output_type": "pyout",
       "prompt_number": 53,
       "text": [
        "<matplotlib.axes.AxesSubplot at 0x2eaf510>"
       ]
      },
      {
       "output_type": "display_data",
       "png": "[encoded data removed]"
      }
     ],
     "prompt_number": 53
    },
    {
     "cell_type": "code",
     "collapsed": false,
     "input": [
      "df.groupby('Category').sum()"
     ],
     "language": "python",
     "metadata": {},
     "outputs": [
      {
       "html": [
        "<div style=\"max-height:1000px;max-width:1500px;overflow:auto;\">\n",
        "<table border=\"1\" class=\"dataframe\">\n",
        "  <thead>\n",
        "    <tr style=\"text-align: right;\">\n",
        "      <th></th>\n",
        "      <th>Amount</th>\n",
        "    </tr>\n",
        "    <tr>\n",
        "      <th>Category</th>\n",
        "      <th></th>\n",
        "    </tr>\n",
        "  </thead>\n",
        "  <tbody>\n",
        "    <tr>\n",
        "      <th>CVS</th>\n",
        "      <td>   85.76</td>\n",
        "    </tr>\n",
        "    <tr>\n",
        "      <th>Grocery</th>\n",
        "      <td>  514.64</td>\n",
        "    </tr>\n",
        "    <tr>\n",
        "      <th>SPUD</th>\n",
        "      <td>  123.71</td>\n",
        "    </tr>\n",
        "    <tr>\n",
        "      <th>UNIFOOD</th>\n",
        "      <td>   22.06</td>\n",
        "    </tr>\n",
        "    <tr>\n",
        "      <th>amazon</th>\n",
        "      <td>    3.72</td>\n",
        "    </tr>\n",
        "    <tr>\n",
        "      <th>att</th>\n",
        "      <td>  100.00</td>\n",
        "    </tr>\n",
        "    <tr>\n",
        "      <th>catfood</th>\n",
        "      <td>   15.36</td>\n",
        "    </tr>\n",
        "    <tr>\n",
        "      <th>cloths</th>\n",
        "      <td>   31.36</td>\n",
        "    </tr>\n",
        "    <tr>\n",
        "      <th>gas</th>\n",
        "      <td>   64.17</td>\n",
        "    </tr>\n",
        "    <tr>\n",
        "      <th>haircut</th>\n",
        "      <td>   18.00</td>\n",
        "    </tr>\n",
        "    <tr>\n",
        "      <th>internet</th>\n",
        "      <td>   34.29</td>\n",
        "    </tr>\n",
        "    <tr>\n",
        "      <th>itunes</th>\n",
        "      <td>   20.96</td>\n",
        "    </tr>\n",
        "    <tr>\n",
        "      <th>journals</th>\n",
        "      <td>   13.06</td>\n",
        "    </tr>\n",
        "    <tr>\n",
        "      <th>netflix</th>\n",
        "      <td>    7.99</td>\n",
        "    </tr>\n",
        "    <tr>\n",
        "      <th>office</th>\n",
        "      <td>    3.00</td>\n",
        "    </tr>\n",
        "    <tr>\n",
        "      <th>outgoing</th>\n",
        "      <td>  103.83</td>\n",
        "    </tr>\n",
        "    <tr>\n",
        "      <th>rent</th>\n",
        "      <td> 2095.00</td>\n",
        "    </tr>\n",
        "    <tr>\n",
        "      <th>transport</th>\n",
        "      <td>  148.72</td>\n",
        "    </tr>\n",
        "    <tr>\n",
        "      <th>water</th>\n",
        "      <td>  138.17</td>\n",
        "    </tr>\n",
        "  </tbody>\n",
        "</table>\n",
        "</div>"
       ],
       "output_type": "pyout",
       "prompt_number": 59,
       "text": [
        "            Amount\n",
        "Category          \n",
        "CVS          85.76\n",
        "Grocery     514.64\n",
        "SPUD        123.71\n",
        "UNIFOOD      22.06\n",
        "amazon        3.72\n",
        "att         100.00\n",
        "catfood      15.36\n",
        "cloths       31.36\n",
        "gas          64.17\n",
        "haircut      18.00\n",
        "internet     34.29\n",
        "itunes       20.96\n",
        "journals     13.06\n",
        "netflix       7.99\n",
        "office        3.00\n",
        "outgoing    103.83\n",
        "rent       2095.00\n",
        "transport   148.72\n",
        "water       138.17"
       ]
      }
     ],
     "prompt_number": 59
    },
    {
     "cell_type": "code",
     "collapsed": false,
     "input": [
      "12-11-2012\t \t \t$-40.00\t$4,152.86\tATM Withdrawal UCRE 308 WESTWOOD PLAZA LOS ANGELES, CA\n",
      "12-11-2012\t \t \t$-21.91\t$4,130.95\tPurchase Amazon EU AMAZON.DE LU LU"
     ],
     "language": "python",
     "metadata": {},
     "outputs": []
    }
   ],
   "metadata": {}
  }
 ]
}