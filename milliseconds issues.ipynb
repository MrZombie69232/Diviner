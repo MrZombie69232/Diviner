{
 "metadata": {
  "name": "milliseconds issues"
 },
 "nbformat": 3,
 "nbformat_minor": 0,
 "worksheets": [
  {
   "cells": [
    {
     "cell_type": "code",
     "collapsed": false,
     "input": [
      "import pandas as pd\n",
      "import file_utils as fu\n",
      "import calib\n",
      "reload(pd)\n",
      "reload(fu)"
     ],
     "language": "python",
     "metadata": {},
     "outputs": [
      {
       "output_type": "pyout",
       "prompt_number": 41,
       "text": [
        "<module 'file_utils' from 'file_utils.py'>"
       ]
      }
     ],
     "prompt_number": 41
    },
    {
     "cell_type": "code",
     "collapsed": false,
     "input": [
      "pd.__version__"
     ],
     "language": "python",
     "metadata": {},
     "outputs": [
      {
       "output_type": "pyout",
       "prompt_number": 2,
       "text": [
        "'0.11.0.dev-b3e696c'"
       ]
      }
     ],
     "prompt_number": 2
    },
    {
     "cell_type": "code",
     "collapsed": false,
     "input": [
      "divrad_fname = '/Users/maye/data/diviner/rdr_data/2011041600_c3d11.divdata'"
     ],
     "language": "python",
     "metadata": {},
     "outputs": [],
     "prompt_number": 42
    },
    {
     "cell_type": "code",
     "collapsed": false,
     "input": [
      "columns = ['year','month','date','hour','minute','second','qmi','radiance']"
     ],
     "language": "python",
     "metadata": {},
     "outputs": [],
     "prompt_number": 43
    },
    {
     "cell_type": "code",
     "collapsed": false,
     "input": [
      "divdata = pd.io.parsers.read_table(divrad_fname, sep='\\s+',names=columns)"
     ],
     "language": "python",
     "metadata": {},
     "outputs": [],
     "prompt_number": 44
    },
    {
     "cell_type": "code",
     "collapsed": false,
     "input": [
      "divdata = fu.index_by_time(divdata)"
     ],
     "language": "python",
     "metadata": {},
     "outputs": [],
     "prompt_number": 45
    },
    {
     "cell_type": "code",
     "collapsed": false,
     "input": [
      "divdata = divdata.sort_index()"
     ],
     "language": "python",
     "metadata": {},
     "outputs": [],
     "prompt_number": 46
    },
    {
     "cell_type": "code",
     "collapsed": false,
     "input": [
      "list(divdata.index[:20])"
     ],
     "language": "python",
     "metadata": {},
     "outputs": [
      {
       "output_type": "pyout",
       "prompt_number": 48,
       "text": [
        "[<Timestamp: 2011-04-16 00:00:00.025000>,\n",
        " <Timestamp: 2011-04-16 00:00:00.153000>,\n",
        " <Timestamp: 2011-04-16 00:00:00.281000>,\n",
        " <Timestamp: 2011-04-16 00:00:00.409000>,\n",
        " <Timestamp: 2011-04-16 00:00:00.537000>,\n",
        " <Timestamp: 2011-04-16 00:00:00.665000>,\n",
        " <Timestamp: 2011-04-16 00:00:00.793000>,\n",
        " <Timestamp: 2011-04-16 00:00:00.921000>,\n",
        " <Timestamp: 2011-04-16 00:00:01.048999>,\n",
        " <Timestamp: 2011-04-16 00:00:01.177000>,\n",
        " <Timestamp: 2011-04-16 00:00:01.296999>,\n",
        " <Timestamp: 2011-04-16 00:00:01.425000>,\n",
        " <Timestamp: 2011-04-16 00:00:01.552999>,\n",
        " <Timestamp: 2011-04-16 00:00:01.681000>,\n",
        " <Timestamp: 2011-04-16 00:00:01.808999>,\n",
        " <Timestamp: 2011-04-16 00:00:01.937000>,\n",
        " <Timestamp: 2011-04-16 00:00:02.064999>,\n",
        " <Timestamp: 2011-04-16 00:00:02.193000>,\n",
        " <Timestamp: 2011-04-16 00:00:02.321000>,\n",
        " <Timestamp: 2011-04-16 00:00:02.448999>]"
       ]
      }
     ],
     "prompt_number": 48
    },
    {
     "cell_type": "code",
     "collapsed": false,
     "input": [
      "store = pd.HDFStore('/Users/maye/data/diviner/rdr_data/2011041600_RDR_2.h5')"
     ],
     "language": "python",
     "metadata": {},
     "outputs": [],
     "prompt_number": 49
    },
    {
     "cell_type": "code",
     "collapsed": false,
     "input": [
      "store"
     ],
     "language": "python",
     "metadata": {},
     "outputs": [
      {
       "output_type": "pyout",
       "prompt_number": 50,
       "text": [
        "<class 'pandas.io.pytables.HDFStore'>\n",
        "File path: /Users/maye/data/diviner/rdr_data/2011041600_RDR_2.h5\n",
        "/df            frame_table  (typ->appendable,nrows->5315625,ncols->31,indexers->[index],dc->[c,det,qmi])"
       ]
      }
     ],
     "prompt_number": 50
    },
    {
     "cell_type": "code",
     "collapsed": false,
     "input": [
      "storedata = store.select('df',['c=3','det=11'])"
     ],
     "language": "python",
     "metadata": {},
     "outputs": [],
     "prompt_number": 51
    },
    {
     "cell_type": "code",
     "collapsed": false,
     "input": [
      "storedata['year'] = pd.Series(storedata.index).map(lambda t: t.to_datetime().year).values"
     ],
     "language": "python",
     "metadata": {},
     "outputs": [],
     "prompt_number": 52
    },
    {
     "cell_type": "code",
     "collapsed": false,
     "input": [
      "storedata['month'] = pd.Series(storedata.index).map(lambda t: t.to_datetime().month).values"
     ],
     "language": "python",
     "metadata": {},
     "outputs": [],
     "prompt_number": 53
    },
    {
     "cell_type": "code",
     "collapsed": false,
     "input": [
      "storedata['date'] = pd.Series(storedata.index).map(lambda t: t.to_datetime().day).values"
     ],
     "language": "python",
     "metadata": {},
     "outputs": [],
     "prompt_number": 54
    },
    {
     "cell_type": "code",
     "collapsed": false,
     "input": [
      "storedata['hour'] = pd.Series(storedata.index).map(lambda t: t.to_datetime().hour).values"
     ],
     "language": "python",
     "metadata": {},
     "outputs": [],
     "prompt_number": 55
    },
    {
     "cell_type": "code",
     "collapsed": false,
     "input": [
      "storedata['minute'] = pd.Series(storedata.index).map(lambda t: t.to_datetime().minute).values"
     ],
     "language": "python",
     "metadata": {},
     "outputs": [],
     "prompt_number": 56
    },
    {
     "cell_type": "code",
     "collapsed": false,
     "input": [
      "storedata['second'] = pd.Series(storedata.index).map(lambda t: t.to_datetime().strftime('%S.%f')).values"
     ],
     "language": "python",
     "metadata": {},
     "outputs": [],
     "prompt_number": 57
    },
    {
     "cell_type": "code",
     "collapsed": false,
     "input": [
      "storedata.second = storedata.second.astype('float')"
     ],
     "language": "python",
     "metadata": {},
     "outputs": [],
     "prompt_number": 58
    },
    {
     "cell_type": "code",
     "collapsed": false,
     "input": [
      "storedata.index = fu.generate_date_index(storedata)"
     ],
     "language": "python",
     "metadata": {},
     "outputs": [],
     "prompt_number": 59
    },
    {
     "cell_type": "code",
     "collapsed": false,
     "input": [
      "list(divdata.index[:20])"
     ],
     "language": "python",
     "metadata": {},
     "outputs": [
      {
       "output_type": "pyout",
       "prompt_number": 60,
       "text": [
        "[<Timestamp: 2011-04-16 00:00:00.025000>,\n",
        " <Timestamp: 2011-04-16 00:00:00.153000>,\n",
        " <Timestamp: 2011-04-16 00:00:00.281000>,\n",
        " <Timestamp: 2011-04-16 00:00:00.409000>,\n",
        " <Timestamp: 2011-04-16 00:00:00.537000>,\n",
        " <Timestamp: 2011-04-16 00:00:00.665000>,\n",
        " <Timestamp: 2011-04-16 00:00:00.793000>,\n",
        " <Timestamp: 2011-04-16 00:00:00.921000>,\n",
        " <Timestamp: 2011-04-16 00:00:01.048999>,\n",
        " <Timestamp: 2011-04-16 00:00:01.177000>,\n",
        " <Timestamp: 2011-04-16 00:00:01.296999>,\n",
        " <Timestamp: 2011-04-16 00:00:01.425000>,\n",
        " <Timestamp: 2011-04-16 00:00:01.552999>,\n",
        " <Timestamp: 2011-04-16 00:00:01.681000>,\n",
        " <Timestamp: 2011-04-16 00:00:01.808999>,\n",
        " <Timestamp: 2011-04-16 00:00:01.937000>,\n",
        " <Timestamp: 2011-04-16 00:00:02.064999>,\n",
        " <Timestamp: 2011-04-16 00:00:02.193000>,\n",
        " <Timestamp: 2011-04-16 00:00:02.321000>,\n",
        " <Timestamp: 2011-04-16 00:00:02.448999>]"
       ]
      }
     ],
     "prompt_number": 60
    },
    {
     "cell_type": "code",
     "collapsed": false,
     "input": [
      "divdata"
     ],
     "language": "python",
     "metadata": {},
     "outputs": [
      {
       "output_type": "pyout",
       "prompt_number": 61,
       "text": [
        "<class 'pandas.core.frame.DataFrame'>\n",
        "DatetimeIndex: 25661 entries, 2011-04-16 00:00:00.025000 to 2011-04-16 00:59:59.935000\n",
        "Data columns:\n",
        "qmi         25661  non-null values\n",
        "radiance    25661  non-null values\n",
        "dtypes: float64(2)"
       ]
      }
     ],
     "prompt_number": 61
    },
    {
     "cell_type": "code",
     "collapsed": false,
     "input": [
      "storedata = storedata.rename(columns=lambda colname: 'last_'+colname if colname.endswith('cmd') else colname)"
     ],
     "language": "python",
     "metadata": {},
     "outputs": [],
     "prompt_number": 65
    },
    {
     "cell_type": "code",
     "collapsed": false,
     "input": [
      "storedata['moving'] = calib.is_moving(storedata)"
     ],
     "language": "python",
     "metadata": {},
     "outputs": [],
     "prompt_number": 67
    },
    {
     "cell_type": "code",
     "collapsed": false,
     "input": [
      "fu.define_sdtype(storedata)"
     ],
     "language": "python",
     "metadata": {},
     "outputs": [],
     "prompt_number": 68
    },
    {
     "cell_type": "code",
     "collapsed": false,
     "input": [
      "storedata = storedata[storedata.calib_block_labels==0]"
     ],
     "language": "python",
     "metadata": {},
     "outputs": [],
     "prompt_number": 70
    },
    {
     "cell_type": "code",
     "collapsed": false,
     "input": [
      "storedata"
     ],
     "language": "python",
     "metadata": {},
     "outputs": [
      {
       "output_type": "pyout",
       "prompt_number": 71,
       "text": [
        "<class 'pandas.core.frame.DataFrame'>\n",
        "DatetimeIndex: 25661 entries, 2011-04-16 00:00:00.025000 to 2011-04-16 00:59:59.935000\n",
        "Data columns:\n",
        "jdate                 25661  non-null values\n",
        "orbit                 25661  non-null values\n",
        "sundist               25661  non-null values\n",
        "sunlat                25661  non-null values\n",
        "sunlon                25661  non-null values\n",
        "sclk                  25661  non-null values\n",
        "sclat                 25661  non-null values\n",
        "sclon                 25661  non-null values\n",
        "scrad                 25661  non-null values\n",
        "scalt                 25661  non-null values\n",
        "last_el_cmd           25661  non-null values\n",
        "last_az_cmd           25661  non-null values\n",
        "af                    25661  non-null values\n",
        "orientlat             25661  non-null values\n",
        "orientlon             25661  non-null values\n",
        "c                     25661  non-null values\n",
        "det                   25661  non-null values\n",
        "vlookx                25661  non-null values\n",
        "vlooky                25661  non-null values\n",
        "vlookz                25661  non-null values\n",
        "radiance              25661  non-null values\n",
        "tb                    25661  non-null values\n",
        "clat                  25661  non-null values\n",
        "clon                  25661  non-null values\n",
        "cemis                 25661  non-null values\n",
        "csunzen               25661  non-null values\n",
        "csunazi               25661  non-null values\n",
        "cloctime              25661  non-null values\n",
        "qca                   25661  non-null values\n",
        "qge                   25661  non-null values\n",
        "qmi                   25661  non-null values\n",
        "year                  25661  non-null values\n",
        "month                 25661  non-null values\n",
        "date                  25661  non-null values\n",
        "hour                  25661  non-null values\n",
        "minute                25661  non-null values\n",
        "second                25661  non-null values\n",
        "sdtype                25661  non-null values\n",
        "calib_block_labels    25661  non-null values\n",
        "sv_block_labels       25661  non-null values\n",
        "bb_block_labels       25661  non-null values\n",
        "st_block_labels       25661  non-null values\n",
        "moving                25661  non-null values\n",
        "is_spaceview          25661  non-null values\n",
        "is_bbview             25661  non-null values\n",
        "is_stview             25661  non-null values\n",
        "is_moving             25661  non-null values\n",
        "is_stowed             25661  non-null values\n",
        "is_calib              25661  non-null values\n",
        "dtypes: bool(7), float64(25), int32(4), int64(13)"
       ]
      }
     ],
     "prompt_number": 71
    },
    {
     "cell_type": "code",
     "collapsed": false,
     "input": [
      "list(storedata.index[:20])"
     ],
     "language": "python",
     "metadata": {},
     "outputs": [
      {
       "output_type": "pyout",
       "prompt_number": 72,
       "text": [
        "[<Timestamp: 2011-04-16 00:00:00.025000>,\n",
        " <Timestamp: 2011-04-16 00:00:00.153000>,\n",
        " <Timestamp: 2011-04-16 00:00:00.281000>,\n",
        " <Timestamp: 2011-04-16 00:00:00.409000>,\n",
        " <Timestamp: 2011-04-16 00:00:00.537000>,\n",
        " <Timestamp: 2011-04-16 00:00:00.665000>,\n",
        " <Timestamp: 2011-04-16 00:00:00.793000>,\n",
        " <Timestamp: 2011-04-16 00:00:00.921000>,\n",
        " <Timestamp: 2011-04-16 00:00:01.048999>,\n",
        " <Timestamp: 2011-04-16 00:00:01.177000>,\n",
        " <Timestamp: 2011-04-16 00:00:01.296999>,\n",
        " <Timestamp: 2011-04-16 00:00:01.425000>,\n",
        " <Timestamp: 2011-04-16 00:00:01.552999>,\n",
        " <Timestamp: 2011-04-16 00:00:01.681000>,\n",
        " <Timestamp: 2011-04-16 00:00:01.808999>,\n",
        " <Timestamp: 2011-04-16 00:00:01.937000>,\n",
        " <Timestamp: 2011-04-16 00:00:02.064999>,\n",
        " <Timestamp: 2011-04-16 00:00:02.193000>,\n",
        " <Timestamp: 2011-04-16 00:00:02.321000>,\n",
        " <Timestamp: 2011-04-16 00:00:02.448999>]"
       ]
      }
     ],
     "prompt_number": 72
    },
    {
     "cell_type": "code",
     "collapsed": false,
     "input": [
      "list(divdata.index[:20])"
     ],
     "language": "python",
     "metadata": {},
     "outputs": [
      {
       "output_type": "pyout",
       "prompt_number": 73,
       "text": [
        "[<Timestamp: 2011-04-16 00:00:00.025000>,\n",
        " <Timestamp: 2011-04-16 00:00:00.153000>,\n",
        " <Timestamp: 2011-04-16 00:00:00.281000>,\n",
        " <Timestamp: 2011-04-16 00:00:00.409000>,\n",
        " <Timestamp: 2011-04-16 00:00:00.537000>,\n",
        " <Timestamp: 2011-04-16 00:00:00.665000>,\n",
        " <Timestamp: 2011-04-16 00:00:00.793000>,\n",
        " <Timestamp: 2011-04-16 00:00:00.921000>,\n",
        " <Timestamp: 2011-04-16 00:00:01.048999>,\n",
        " <Timestamp: 2011-04-16 00:00:01.177000>,\n",
        " <Timestamp: 2011-04-16 00:00:01.296999>,\n",
        " <Timestamp: 2011-04-16 00:00:01.425000>,\n",
        " <Timestamp: 2011-04-16 00:00:01.552999>,\n",
        " <Timestamp: 2011-04-16 00:00:01.681000>,\n",
        " <Timestamp: 2011-04-16 00:00:01.808999>,\n",
        " <Timestamp: 2011-04-16 00:00:01.937000>,\n",
        " <Timestamp: 2011-04-16 00:00:02.064999>,\n",
        " <Timestamp: 2011-04-16 00:00:02.193000>,\n",
        " <Timestamp: 2011-04-16 00:00:02.321000>,\n",
        " <Timestamp: 2011-04-16 00:00:02.448999>]"
       ]
      }
     ],
     "prompt_number": 73
    },
    {
     "cell_type": "code",
     "collapsed": false,
     "input": [
      "divdata['store_rad'] = storedata.radiance"
     ],
     "language": "python",
     "metadata": {},
     "outputs": [],
     "prompt_number": 75
    },
    {
     "cell_type": "code",
     "collapsed": false,
     "input": [
      "(divdata.store_rad / divdata.radiance).hist()"
     ],
     "language": "python",
     "metadata": {},
     "outputs": [
      {
       "output_type": "pyout",
       "prompt_number": 80,
       "text": [
        "<matplotlib.axes.AxesSubplot at 0x11c221050>"
       ]
      }
     ],
     "prompt_number": 80
    },
    {
     "cell_type": "code",
     "collapsed": false,
     "input": [],
     "language": "python",
     "metadata": {},
     "outputs": []
    }
   ],
   "metadata": {}
  }
 ]
}