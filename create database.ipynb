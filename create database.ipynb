{
 "metadata": {
  "name": "create database"
 },
 "nbformat": 3,
 "nbformat_minor": 0,
 "worksheets": [
  {
   "cells": [
    {
     "cell_type": "code",
     "collapsed": false,
     "input": [
      "import pipetools as pt"
     ],
     "language": "python",
     "metadata": {},
     "outputs": [],
     "prompt_number": 1
    },
    {
     "cell_type": "code",
     "collapsed": false,
     "input": [
      "import pandas as pd\n",
      "reload(pd)"
     ],
     "language": "python",
     "metadata": {},
     "outputs": [
      {
       "output_type": "pyout",
       "prompt_number": 2,
       "text": [
        "<module 'pandas' from '/usr/local/epd/lib/python2.7/site-packages/pandas-0.10.1-py2.7-linux-x86_64.egg/pandas/__init__.pyc'>"
       ]
      }
     ],
     "prompt_number": 2
    },
    {
     "cell_type": "code",
     "collapsed": false,
     "input": [
      "cd /s3/marks/div247/"
     ],
     "language": "python",
     "metadata": {},
     "outputs": [
      {
       "output_type": "stream",
       "stream": "stdout",
       "text": [
        "/s3/marks/div247\n"
       ]
      }
     ],
     "prompt_number": 4
    },
    {
     "cell_type": "code",
     "collapsed": false,
     "input": [
      "f = open('./div247.des')"
     ],
     "language": "python",
     "metadata": {},
     "outputs": [],
     "prompt_number": 5
    },
    {
     "cell_type": "code",
     "collapsed": false,
     "input": [
      "lines = f.readlines()"
     ],
     "language": "python",
     "metadata": {},
     "outputs": [],
     "prompt_number": 6
    },
    {
     "cell_type": "code",
     "collapsed": false,
     "input": [
      "f.close()"
     ],
     "language": "python",
     "metadata": {},
     "outputs": [],
     "prompt_number": 7
    },
    {
     "cell_type": "code",
     "collapsed": false,
     "input": [
      "s = pd.Series(lines)"
     ],
     "language": "python",
     "metadata": {},
     "outputs": [],
     "prompt_number": 8
    },
    {
     "cell_type": "code",
     "collapsed": false,
     "input": [
      "s = s.drop(0)"
     ],
     "language": "python",
     "metadata": {},
     "outputs": [],
     "prompt_number": 9
    },
    {
     "cell_type": "code",
     "collapsed": false,
     "input": [
      "val = s[1]"
     ],
     "language": "python",
     "metadata": {},
     "outputs": [],
     "prompt_number": 10
    },
    {
     "cell_type": "code",
     "collapsed": false,
     "input": [
      "val2 = val.split(' ')"
     ],
     "language": "python",
     "metadata": {},
     "outputs": [],
     "prompt_number": 11
    },
    {
     "cell_type": "code",
     "collapsed": false,
     "input": [
      "[i.strip().strip(\"'\") for i in val2]"
     ],
     "language": "python",
     "metadata": {},
     "outputs": [
      {
       "output_type": "pyout",
       "prompt_number": 12,
       "text": [
        "['date', 'date']"
       ]
      }
     ],
     "prompt_number": 12
    },
    {
     "cell_type": "code",
     "collapsed": false,
     "input": [
      "def unpack_str(value):\n",
      "    val2 = value.split(' ')\n",
      "    t = [i.strip().strip(\"'\") for i in val2]\n",
      "    return t[0].lower()"
     ],
     "language": "python",
     "metadata": {},
     "outputs": [],
     "prompt_number": 13
    },
    {
     "cell_type": "code",
     "collapsed": false,
     "input": [
      "columns = s.map(unpack_str)"
     ],
     "language": "python",
     "metadata": {},
     "outputs": [],
     "prompt_number": 14
    },
    {
     "cell_type": "code",
     "collapsed": false,
     "input": [
      "keys = columns.values"
     ],
     "language": "python",
     "metadata": {},
     "outputs": [],
     "prompt_number": 15
    },
    {
     "cell_type": "code",
     "collapsed": false,
     "input": [
      "rec_dtype = np.dtype([(key,'f8') for key in keys])"
     ],
     "language": "python",
     "metadata": {},
     "outputs": [],
     "prompt_number": 16
    },
    {
     "cell_type": "code",
     "collapsed": false,
     "input": [
      "f = open('./201104/2011040100.div247')"
     ],
     "language": "python",
     "metadata": {},
     "outputs": [],
     "prompt_number": 17
    },
    {
     "cell_type": "code",
     "collapsed": false,
     "input": [
      "data = np.fromfile(f,dtype=rec_dtype)"
     ],
     "language": "python",
     "metadata": {},
     "outputs": [],
     "prompt_number": 18
    },
    {
     "cell_type": "code",
     "collapsed": false,
     "input": [
      "f.close()"
     ],
     "language": "python",
     "metadata": {},
     "outputs": [],
     "prompt_number": 19
    },
    {
     "cell_type": "code",
     "collapsed": false,
     "input": [
      "df = pd.DataFrame(data,columns=keys)"
     ],
     "language": "python",
     "metadata": {},
     "outputs": [],
     "prompt_number": 20
    },
    {
     "cell_type": "code",
     "collapsed": false,
     "input": [
      "df.columns"
     ],
     "language": "python",
     "metadata": {},
     "outputs": [
      {
       "output_type": "pyout",
       "prompt_number": 21,
       "text": [
        "Index([date, month, year, hour, minute, second, sclk, sounding, from_pkt, pkt_count, safing, safed, freezing, frozen, rolling, dumping, moving, temp_fault, sc_time_secs, sc_time_subs, ticks_pkt_start, ticks_at_sc_time, ost_index, est_index, sst_index, last_az_cmd, last_el_cmd, fpa_temp, fpb_temp, baffle_a_temp, baffle_b_temp, bb_1_temp, oba_1_temp, error_time, error_id, error_count, commands_received, commands_executed, commands_rejected, last_time_command, last_eqx_prediction, hybrid_temp, fpa_temp_cyc, fpb_temp_cyc, baffle_a_temp_cyc, baffle_b_temp_cyc, oba_1_temp_cyc, oba_2_temp, bb_1_temp_cyc, bb_2_temp, solar_target_temp, yoke_temp, el_actuator_temp, az_actuator_temp, min_15v, plu_15v, solar_base_temp, plu_5v, a1_01, a1_02, a1_03, a1_04, a1_05, a1_06, a1_07, a1_08, a1_09, a1_10, a1_11, a1_12, a1_13, a1_14, a1_15, a1_16, a1_17, a1_18, a1_19, a1_20, a1_21, a2_01, a2_02, a2_03, a2_04, a2_05, a2_06, a2_07, a2_08, a2_09, a2_10, a2_11, a2_12, a2_13, a2_14, a2_15, a2_16, a2_17, a2_18, a2_19, a2_20, a2_21, a3_01, a3_02, a3_03, a3_04, a3_05, a3_06, a3_07, a3_08, a3_09, a3_10, a3_11, a3_12, a3_13, a3_14, a3_15, a3_16, a3_17, a3_18, a3_19, a3_20, a3_21, a4_01, a4_02, a4_03, a4_04, a4_05, a4_06, a4_07, a4_08, a4_09, a4_10, a4_11, a4_12, a4_13, a4_14, a4_15, a4_16, a4_17, a4_18, a4_19, a4_20, a4_21, a5_01, a5_02, a5_03, a5_04, a5_05, a5_06, a5_07, a5_08, a5_09, a5_10, a5_11, a5_12, a5_13, a5_14, a5_15, a5_16, a5_17, a5_18, a5_19, a5_20, a5_21, a6_01, a6_02, a6_03, a6_04, a6_05, a6_06, a6_07, a6_08, a6_09, a6_10, a6_11, a6_12, a6_13, a6_14, a6_15, a6_16, a6_17, a6_18, a6_19, a6_20, a6_21, b1_01, b1_02, b1_03, b1_04, b1_05, b1_06, b1_07, b1_08, b1_09, b1_10, b1_11, b1_12, b1_13, b1_14, b1_15, b1_16, b1_17, b1_18, b1_19, b1_20, b1_21, b2_01, b2_02, b2_03, b2_04, b2_05, b2_06, b2_07, b2_08, b2_09, b2_10, b2_11, b2_12, b2_13, b2_14, b2_15, b2_16, b2_17, b2_18, b2_19, b2_20, b2_21, b3_01, b3_02, b3_03, b3_04, b3_05, b3_06, b3_07, b3_08, b3_09, b3_10, b3_11, b3_12, b3_13, b3_14, b3_15, b3_16, b3_17, b3_18, b3_19, b3_20, b3_21], dtype=object)"
       ]
      }
     ],
     "prompt_number": 21
    },
    {
     "cell_type": "code",
     "collapsed": false,
     "input": [
      "import diviner as div"
     ],
     "language": "python",
     "metadata": {},
     "outputs": [],
     "prompt_number": 22
    },
    {
     "cell_type": "code",
     "collapsed": false,
     "input": [
      "dftimed = div.index_by_time(df)"
     ],
     "language": "python",
     "metadata": {},
     "outputs": [],
     "prompt_number": 23
    },
    {
     "cell_type": "code",
     "collapsed": false,
     "input": [
      "dftimed.a1_13.plot()"
     ],
     "language": "python",
     "metadata": {},
     "outputs": [
      {
       "output_type": "pyout",
       "prompt_number": 24,
       "text": [
        "<matplotlib.axes.AxesSubplot at 0x2b7e110>"
       ]
      },
      {
       "output_type": "display_data",
       "png": "[encoded data removed]"
      }
     ],
     "prompt_number": 24
    },
    {
     "cell_type": "code",
     "collapsed": false,
     "input": [
      "dftimed"
     ],
     "language": "python",
     "metadata": {},
     "outputs": [
      {
       "output_type": "pyout",
       "prompt_number": 25,
       "text": [
        "<class 'pandas.core.frame.DataFrame'>\n",
        "DatetimeIndex: 28112 entries, 2011-04-01 00:00:01.978000 to 2011-04-01 01:00:00.234000\n",
        "Columns: 241 entries, sclk to b3_21\n",
        "dtypes: float64(241)"
       ]
      }
     ],
     "prompt_number": 25
    },
    {
     "cell_type": "code",
     "collapsed": false,
     "input": [
      "temps = [i for i in keys if 'temp' in i]"
     ],
     "language": "python",
     "metadata": {},
     "outputs": [],
     "prompt_number": 26
    },
    {
     "cell_type": "code",
     "collapsed": false,
     "input": [
      "temps"
     ],
     "language": "python",
     "metadata": {},
     "outputs": [
      {
       "output_type": "pyout",
       "prompt_number": 27,
       "text": [
        "['temp_fault',\n",
        " 'fpa_temp',\n",
        " 'fpb_temp',\n",
        " 'baffle_a_temp',\n",
        " 'baffle_b_temp',\n",
        " 'bb_1_temp',\n",
        " 'oba_1_temp',\n",
        " 'hybrid_temp',\n",
        " 'fpa_temp_cyc',\n",
        " 'fpb_temp_cyc',\n",
        " 'baffle_a_temp_cyc',\n",
        " 'baffle_b_temp_cyc',\n",
        " 'oba_1_temp_cyc',\n",
        " 'oba_2_temp',\n",
        " 'bb_1_temp_cyc',\n",
        " 'bb_2_temp',\n",
        " 'solar_target_temp',\n",
        " 'yoke_temp',\n",
        " 'el_actuator_temp',\n",
        " 'az_actuator_temp',\n",
        " 'solar_base_temp']"
       ]
      }
     ],
     "prompt_number": 27
    },
    {
     "cell_type": "code",
     "collapsed": false,
     "input": [
      "dftimed[dftimed == -9999.0] = nan"
     ],
     "language": "python",
     "metadata": {},
     "outputs": [],
     "prompt_number": 28
    },
    {
     "cell_type": "code",
     "collapsed": false,
     "input": [
      "dftimed.bb_1_temp.plot(style='*')"
     ],
     "language": "python",
     "metadata": {},
     "outputs": [
      {
       "output_type": "pyout",
       "prompt_number": 29,
       "text": [
        "<matplotlib.axes.AxesSubplot at 0x10e416710>"
       ]
      }
     ],
     "prompt_number": 29
    },
    {
     "cell_type": "code",
     "collapsed": false,
     "input": [
      "dftimed[dftimed==nan]"
     ],
     "language": "python",
     "metadata": {},
     "outputs": [
      {
       "output_type": "pyout",
       "prompt_number": 34,
       "text": [
        "<class 'pandas.core.frame.DataFrame'>\n",
        "DatetimeIndex: 28112 entries, 2011-04-01 00:00:01.978000 to 2011-04-01 01:00:00.234000\n",
        "Columns: 241 entries, sclk to b3_21\n",
        "dtypes: float64(241)"
       ]
      }
     ],
     "prompt_number": 34
    },
    {
     "cell_type": "code",
     "collapsed": false,
     "input": [
      "pwd"
     ],
     "language": "python",
     "metadata": {},
     "outputs": [
      {
       "output_type": "pyout",
       "prompt_number": 49,
       "text": [
        "u'/Users/maye/data/diviner/div247'"
       ]
      }
     ],
     "prompt_number": 49
    },
    {
     "cell_type": "code",
     "collapsed": false,
     "input": [
      "store = pd.HDFStore('201104.h5')"
     ],
     "language": "python",
     "metadata": {},
     "outputs": [],
     "prompt_number": 50
    },
    {
     "cell_type": "code",
     "collapsed": false,
     "input": [
      "store.append('df',dftimed)"
     ],
     "language": "python",
     "metadata": {},
     "outputs": [],
     "prompt_number": 51
    },
    {
     "cell_type": "code",
     "collapsed": false,
     "input": [
      "f = open('./201104/2011040101.div247')"
     ],
     "language": "python",
     "metadata": {},
     "outputs": [],
     "prompt_number": 52
    },
    {
     "cell_type": "code",
     "collapsed": false,
     "input": [
      "data = np.fromfile(f,dtype=rec_dtype)\n",
      "f.close()"
     ],
     "language": "python",
     "metadata": {},
     "outputs": [],
     "prompt_number": 53
    },
    {
     "cell_type": "code",
     "collapsed": false,
     "input": [
      "df = pd.DataFrame(data,columns=keys)"
     ],
     "language": "python",
     "metadata": {},
     "outputs": [],
     "prompt_number": 54
    },
    {
     "cell_type": "code",
     "collapsed": false,
     "input": [
      "dftimed = div.index_by_time(df)"
     ],
     "language": "python",
     "metadata": {},
     "outputs": [],
     "prompt_number": 55
    },
    {
     "cell_type": "code",
     "collapsed": false,
     "input": [
      "dftimed[dftimed==-9999.0] = nan"
     ],
     "language": "python",
     "metadata": {},
     "outputs": [],
     "prompt_number": 57
    },
    {
     "cell_type": "code",
     "collapsed": false,
     "input": [
      "store.append('df',dftimed)"
     ],
     "language": "python",
     "metadata": {},
     "outputs": [],
     "prompt_number": 58
    },
    {
     "cell_type": "code",
     "collapsed": false,
     "input": [
      "store.select('df')"
     ],
     "language": "python",
     "metadata": {},
     "outputs": [
      {
       "output_type": "pyout",
       "prompt_number": 59,
       "text": [
        "<class 'pandas.core.frame.DataFrame'>\n",
        "DatetimeIndex: 56240 entries, 2011-04-01 00:00:01.978000 to 2011-04-01 02:00:00.697000\n",
        "Columns: 241 entries, sclk to b3_21\n",
        "dtypes: float64(241)"
       ]
      }
     ],
     "prompt_number": 59
    },
    {
     "cell_type": "code",
     "collapsed": false,
     "input": [
      "store.close()"
     ],
     "language": "python",
     "metadata": {},
     "outputs": [],
     "prompt_number": 60
    },
    {
     "cell_type": "code",
     "collapsed": false,
     "input": [
      "import pickle"
     ],
     "language": "python",
     "metadata": {},
     "outputs": [],
     "prompt_number": 63
    },
    {
     "cell_type": "code",
     "collapsed": false,
     "input": [
      "type(rec_dtype)"
     ],
     "language": "python",
     "metadata": {},
     "outputs": [
      {
       "output_type": "pyout",
       "prompt_number": 65,
       "text": [
        "numpy.dtype"
       ]
      }
     ],
     "prompt_number": 65
    },
    {
     "cell_type": "code",
     "collapsed": false,
     "input": [],
     "language": "python",
     "metadata": {},
     "outputs": []
    }
   ],
   "metadata": {}
  }
 ]
}