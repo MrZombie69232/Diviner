{
 "metadata": {
  "name": "multiindex_problem"
 },
 "nbformat": 3,
 "nbformat_minor": 0,
 "worksheets": [
  {
   "cells": [
    {
     "cell_type": "code",
     "collapsed": false,
     "input": [
      "import pandas as pd\n",
      "import numpy as np\n",
      "import sys\n",
      "\n",
      "print \"\\npandas version:\",pd.__version__"
     ],
     "language": "python",
     "metadata": {},
     "outputs": [
      {
       "output_type": "stream",
       "stream": "stdout",
       "text": [
        "\n",
        "pandas version: 0.10.0\n"
       ]
      }
     ],
     "prompt_number": 1
    },
    {
     "cell_type": "raw",
     "metadata": {},
     "source": [
      "define functions to generate 2 and 3 level multi-index based dataframes"
     ]
    },
    {
     "cell_type": "code",
     "collapsed": false,
     "input": [
      "def gen_l3_mi(nchs,ndets,ntimes):\n",
      "    \"generate a 3-level multi-index dataframe\"\n",
      "    c = ['c'+str(i) for i in range(1,nchs+1)]\n",
      "    det = ['d'+str(i) for i in range(1,ndets+1)]\n",
      "    times = ['t'+str(i) for i in range(1,ntimes+1)]\n",
      "    ind = []\n",
      "    for ch in c:\n",
      "        for d in det:\n",
      "            for t in times:\n",
      "                ind.append((ch,d,t))\n",
      "    index = pd.MultiIndex.from_tuples(ind)\n",
      "    return pd.DataFrame(np.random.randn(nchs*ndets*ntimes,3), \n",
      "                      columns=['A','B','C'],index=index)"
     ],
     "language": "python",
     "metadata": {},
     "outputs": [],
     "prompt_number": 2
    },
    {
     "cell_type": "code",
     "collapsed": false,
     "input": [
      "def gen_l2_mi(nchs,ndets):\n",
      "    \"generate a 2-level multi-index dataframe\"\n",
      "    c = ['c'+str(i) for i in range(1,nchs+1)]\n",
      "    det = ['d'+str(i) for i in range(1,ndets+1)]\n",
      "    ind = []\n",
      "    for ch in c:\n",
      "        for d in det:\n",
      "            ind.append((ch,d))\n",
      "    index = pd.MultiIndex.from_tuples(ind)\n",
      "    return pd.DataFrame(np.random.randn(nchs*ndets,3), \n",
      "                      columns=['A','B','C'],index=index)"
     ],
     "language": "python",
     "metadata": {},
     "outputs": [],
     "prompt_number": 3
    },
    {
     "cell_type": "raw",
     "metadata": {},
     "source": [
      "example of 2-level frame"
     ]
    },
    {
     "cell_type": "code",
     "collapsed": false,
     "input": [
      "gen_l2_mi(2,3)"
     ],
     "language": "python",
     "metadata": {},
     "outputs": [
      {
       "html": [
        "<div style=\"max-height:1000px;max-width:1500px;overflow:auto;\">\n",
        "<table border=\"1\" class=\"dataframe\">\n",
        "  <thead>\n",
        "    <tr style=\"text-align: right;\">\n",
        "      <th></th>\n",
        "      <th></th>\n",
        "      <th>A</th>\n",
        "      <th>B</th>\n",
        "      <th>C</th>\n",
        "    </tr>\n",
        "  </thead>\n",
        "  <tbody>\n",
        "    <tr>\n",
        "      <td rowspan=\"3\" valign=\"top\"><strong>c1</strong></td>\n",
        "      <td><strong>d1</strong></td>\n",
        "      <td>-0.783684</td>\n",
        "      <td>-0.148819</td>\n",
        "      <td> 0.774360</td>\n",
        "    </tr>\n",
        "    <tr>\n",
        "      <td><strong>d2</strong></td>\n",
        "      <td> 1.116114</td>\n",
        "      <td> 1.694323</td>\n",
        "      <td>-0.283910</td>\n",
        "    </tr>\n",
        "    <tr>\n",
        "      <td><strong>d3</strong></td>\n",
        "      <td>-0.088019</td>\n",
        "      <td>-1.248782</td>\n",
        "      <td> 1.989676</td>\n",
        "    </tr>\n",
        "    <tr>\n",
        "      <td rowspan=\"3\" valign=\"top\"><strong>c2</strong></td>\n",
        "      <td><strong>d1</strong></td>\n",
        "      <td>-0.175376</td>\n",
        "      <td> 0.719717</td>\n",
        "      <td>-0.958092</td>\n",
        "    </tr>\n",
        "    <tr>\n",
        "      <td><strong>d2</strong></td>\n",
        "      <td>-0.654896</td>\n",
        "      <td>-0.565528</td>\n",
        "      <td>-0.697562</td>\n",
        "    </tr>\n",
        "    <tr>\n",
        "      <td><strong>d3</strong></td>\n",
        "      <td>-0.259473</td>\n",
        "      <td>-2.174744</td>\n",
        "      <td> 0.627047</td>\n",
        "    </tr>\n",
        "  </tbody>\n",
        "</table>\n",
        "</div>"
       ],
       "output_type": "pyout",
       "prompt_number": 4,
       "text": [
        "              A         B         C\n",
        "c1 d1 -0.783684 -0.148819  0.774360\n",
        "   d2  1.116114  1.694323 -0.283910\n",
        "   d3 -0.088019 -1.248782  1.989676\n",
        "c2 d1 -0.175376  0.719717 -0.958092\n",
        "   d2 -0.654896 -0.565528 -0.697562\n",
        "   d3 -0.259473 -2.174744  0.627047"
       ]
      }
     ],
     "prompt_number": 4
    },
    {
     "cell_type": "raw",
     "metadata": {},
     "source": [
      "example of 3-level frame"
     ]
    },
    {
     "cell_type": "code",
     "collapsed": false,
     "input": [
      "gen_l3_mi(2,3,2)"
     ],
     "language": "python",
     "metadata": {},
     "outputs": [
      {
       "html": [
        "<div style=\"max-height:1000px;max-width:1500px;overflow:auto;\">\n",
        "<table border=\"1\" class=\"dataframe\">\n",
        "  <thead>\n",
        "    <tr style=\"text-align: right;\">\n",
        "      <th></th>\n",
        "      <th></th>\n",
        "      <th></th>\n",
        "      <th>A</th>\n",
        "      <th>B</th>\n",
        "      <th>C</th>\n",
        "    </tr>\n",
        "  </thead>\n",
        "  <tbody>\n",
        "    <tr>\n",
        "      <td rowspan=\"6\" valign=\"top\"><strong>c1</strong></td>\n",
        "      <td rowspan=\"2\" valign=\"top\"><strong>d1</strong></td>\n",
        "      <td><strong>t1</strong></td>\n",
        "      <td>-0.725664</td>\n",
        "      <td>-0.234367</td>\n",
        "      <td> 0.449413</td>\n",
        "    </tr>\n",
        "    <tr>\n",
        "      <td><strong>t2</strong></td>\n",
        "      <td> 1.687728</td>\n",
        "      <td> 1.569414</td>\n",
        "      <td>-0.471995</td>\n",
        "    </tr>\n",
        "    <tr>\n",
        "      <td rowspan=\"2\" valign=\"top\"><strong>d2</strong></td>\n",
        "      <td><strong>t1</strong></td>\n",
        "      <td>-1.715373</td>\n",
        "      <td>-0.540920</td>\n",
        "      <td>-0.323880</td>\n",
        "    </tr>\n",
        "    <tr>\n",
        "      <td><strong>t2</strong></td>\n",
        "      <td>-0.266564</td>\n",
        "      <td>-0.416051</td>\n",
        "      <td> 0.483744</td>\n",
        "    </tr>\n",
        "    <tr>\n",
        "      <td rowspan=\"2\" valign=\"top\"><strong>d3</strong></td>\n",
        "      <td><strong>t1</strong></td>\n",
        "      <td>-0.246386</td>\n",
        "      <td>-0.155345</td>\n",
        "      <td>-2.135917</td>\n",
        "    </tr>\n",
        "    <tr>\n",
        "      <td><strong>t2</strong></td>\n",
        "      <td>-1.391099</td>\n",
        "      <td>-0.686888</td>\n",
        "      <td> 0.718291</td>\n",
        "    </tr>\n",
        "    <tr>\n",
        "      <td rowspan=\"6\" valign=\"top\"><strong>c2</strong></td>\n",
        "      <td rowspan=\"2\" valign=\"top\"><strong>d1</strong></td>\n",
        "      <td><strong>t1</strong></td>\n",
        "      <td>-0.072142</td>\n",
        "      <td>-1.750644</td>\n",
        "      <td> 1.300413</td>\n",
        "    </tr>\n",
        "    <tr>\n",
        "      <td><strong>t2</strong></td>\n",
        "      <td>-0.528086</td>\n",
        "      <td> 0.857633</td>\n",
        "      <td> 0.116759</td>\n",
        "    </tr>\n",
        "    <tr>\n",
        "      <td rowspan=\"2\" valign=\"top\"><strong>d2</strong></td>\n",
        "      <td><strong>t1</strong></td>\n",
        "      <td>-1.577860</td>\n",
        "      <td>-0.229469</td>\n",
        "      <td>-0.836980</td>\n",
        "    </tr>\n",
        "    <tr>\n",
        "      <td><strong>t2</strong></td>\n",
        "      <td>-1.149489</td>\n",
        "      <td>-0.190814</td>\n",
        "      <td>-0.049269</td>\n",
        "    </tr>\n",
        "    <tr>\n",
        "      <td rowspan=\"2\" valign=\"top\"><strong>d3</strong></td>\n",
        "      <td><strong>t1</strong></td>\n",
        "      <td>-0.000538</td>\n",
        "      <td>-0.730654</td>\n",
        "      <td> 0.319281</td>\n",
        "    </tr>\n",
        "    <tr>\n",
        "      <td><strong>t2</strong></td>\n",
        "      <td>-1.036578</td>\n",
        "      <td>-0.295426</td>\n",
        "      <td>-0.447583</td>\n",
        "    </tr>\n",
        "  </tbody>\n",
        "</table>\n",
        "</div>"
       ],
       "output_type": "pyout",
       "prompt_number": 5,
       "text": [
        "                 A         B         C\n",
        "c1 d1 t1 -0.725664 -0.234367  0.449413\n",
        "      t2  1.687728  1.569414 -0.471995\n",
        "   d2 t1 -1.715373 -0.540920 -0.323880\n",
        "      t2 -0.266564 -0.416051  0.483744\n",
        "   d3 t1 -0.246386 -0.155345 -2.135917\n",
        "      t2 -1.391099 -0.686888  0.718291\n",
        "c2 d1 t1 -0.072142 -1.750644  1.300413\n",
        "      t2 -0.528086  0.857633  0.116759\n",
        "   d2 t1 -1.577860 -0.229469 -0.836980\n",
        "      t2 -1.149489 -0.190814 -0.049269\n",
        "   d3 t1 -0.000538 -0.730654  0.319281\n",
        "      t2 -1.036578 -0.295426 -0.447583"
       ]
      }
     ],
     "prompt_number": 5
    },
    {
     "cell_type": "raw",
     "metadata": {},
     "source": [
      "indexing the first 2 levels works fine with these:"
     ]
    },
    {
     "cell_type": "code",
     "collapsed": false,
     "input": [
      "gen_l2_mi(2,3).ix[('c1','d3')]"
     ],
     "language": "python",
     "metadata": {},
     "outputs": [
      {
       "output_type": "pyout",
       "prompt_number": 6,
       "text": [
        "A    0.182540\n",
        "B   -0.699098\n",
        "C    0.522126\n",
        "Name: (c1, d3)"
       ]
      }
     ],
     "prompt_number": 6
    },
    {
     "cell_type": "code",
     "collapsed": false,
     "input": [
      "gen_l3_mi(2,3,2).ix[('c1','d3')]"
     ],
     "language": "python",
     "metadata": {},
     "outputs": [
      {
       "html": [
        "<div style=\"max-height:1000px;max-width:1500px;overflow:auto;\">\n",
        "<table border=\"1\" class=\"dataframe\">\n",
        "  <thead>\n",
        "    <tr style=\"text-align: right;\">\n",
        "      <th></th>\n",
        "      <th>A</th>\n",
        "      <th>B</th>\n",
        "      <th>C</th>\n",
        "    </tr>\n",
        "  </thead>\n",
        "  <tbody>\n",
        "    <tr>\n",
        "      <td><strong>t1</strong></td>\n",
        "      <td>-0.341958</td>\n",
        "      <td>-0.452059</td>\n",
        "      <td> 0.087136</td>\n",
        "    </tr>\n",
        "    <tr>\n",
        "      <td><strong>t2</strong></td>\n",
        "      <td>-0.125973</td>\n",
        "      <td> 1.378079</td>\n",
        "      <td> 0.915371</td>\n",
        "    </tr>\n",
        "  </tbody>\n",
        "</table>\n",
        "</div>"
       ],
       "output_type": "pyout",
       "prompt_number": 7,
       "text": [
        "           A         B         C\n",
        "t1 -0.341958 -0.452059  0.087136\n",
        "t2 -0.125973  1.378079  0.915371"
       ]
      }
     ],
     "prompt_number": 7
    },
    {
     "cell_type": "raw",
     "metadata": {},
     "source": [
      "this works fine until the size of the first two levels reach 9,9, even with the third level getting larger than 10:"
     ]
    },
    {
     "cell_type": "code",
     "collapsed": false,
     "input": [
      "gen_l2_mi(9,9).ix[('c9','d9')]"
     ],
     "language": "python",
     "metadata": {},
     "outputs": [
      {
       "output_type": "pyout",
       "prompt_number": 8,
       "text": [
        "A    1.121722\n",
        "B   -0.413239\n",
        "C   -0.265781\n",
        "Name: (c9, d9)"
       ]
      }
     ],
     "prompt_number": 8
    },
    {
     "cell_type": "code",
     "collapsed": false,
     "input": [
      "gen_l3_mi(9,9,12).ix[('c9','d5')]"
     ],
     "language": "python",
     "metadata": {},
     "outputs": [
      {
       "html": [
        "<div style=\"max-height:1000px;max-width:1500px;overflow:auto;\">\n",
        "<table border=\"1\" class=\"dataframe\">\n",
        "  <thead>\n",
        "    <tr style=\"text-align: right;\">\n",
        "      <th></th>\n",
        "      <th>A</th>\n",
        "      <th>B</th>\n",
        "      <th>C</th>\n",
        "    </tr>\n",
        "  </thead>\n",
        "  <tbody>\n",
        "    <tr>\n",
        "      <td><strong>t1</strong></td>\n",
        "      <td> 0.513589</td>\n",
        "      <td>-0.882278</td>\n",
        "      <td> 0.473337</td>\n",
        "    </tr>\n",
        "    <tr>\n",
        "      <td><strong>t2</strong></td>\n",
        "      <td>-0.064779</td>\n",
        "      <td> 1.011226</td>\n",
        "      <td> 1.528106</td>\n",
        "    </tr>\n",
        "    <tr>\n",
        "      <td><strong>t3</strong></td>\n",
        "      <td>-0.014827</td>\n",
        "      <td>-1.077259</td>\n",
        "      <td> 1.041822</td>\n",
        "    </tr>\n",
        "    <tr>\n",
        "      <td><strong>t4</strong></td>\n",
        "      <td>-1.305610</td>\n",
        "      <td>-0.605182</td>\n",
        "      <td>-0.030892</td>\n",
        "    </tr>\n",
        "    <tr>\n",
        "      <td><strong>t5</strong></td>\n",
        "      <td> 0.175271</td>\n",
        "      <td> 0.089593</td>\n",
        "      <td> 1.779896</td>\n",
        "    </tr>\n",
        "    <tr>\n",
        "      <td><strong>t6</strong></td>\n",
        "      <td> 0.929475</td>\n",
        "      <td> 1.284532</td>\n",
        "      <td>-0.084391</td>\n",
        "    </tr>\n",
        "    <tr>\n",
        "      <td><strong>t7</strong></td>\n",
        "      <td> 0.473056</td>\n",
        "      <td> 0.581950</td>\n",
        "      <td>-0.794324</td>\n",
        "    </tr>\n",
        "    <tr>\n",
        "      <td><strong>t8</strong></td>\n",
        "      <td> 0.518533</td>\n",
        "      <td> 0.025168</td>\n",
        "      <td>-1.576203</td>\n",
        "    </tr>\n",
        "    <tr>\n",
        "      <td><strong>t9</strong></td>\n",
        "      <td> 1.034437</td>\n",
        "      <td> 0.131924</td>\n",
        "      <td>-0.348151</td>\n",
        "    </tr>\n",
        "    <tr>\n",
        "      <td><strong>t10</strong></td>\n",
        "      <td> 0.228957</td>\n",
        "      <td>-0.727344</td>\n",
        "      <td>-0.154647</td>\n",
        "    </tr>\n",
        "    <tr>\n",
        "      <td><strong>t11</strong></td>\n",
        "      <td> 1.150327</td>\n",
        "      <td>-0.294207</td>\n",
        "      <td> 0.378254</td>\n",
        "    </tr>\n",
        "    <tr>\n",
        "      <td><strong>t12</strong></td>\n",
        "      <td>-0.589334</td>\n",
        "      <td>-0.888207</td>\n",
        "      <td> 0.345916</td>\n",
        "    </tr>\n",
        "  </tbody>\n",
        "</table>\n",
        "</div>"
       ],
       "output_type": "pyout",
       "prompt_number": 9,
       "text": [
        "            A         B         C\n",
        "t1   0.513589 -0.882278  0.473337\n",
        "t2  -0.064779  1.011226  1.528106\n",
        "t3  -0.014827 -1.077259  1.041822\n",
        "t4  -1.305610 -0.605182 -0.030892\n",
        "t5   0.175271  0.089593  1.779896\n",
        "t6   0.929475  1.284532 -0.084391\n",
        "t7   0.473056  0.581950 -0.794324\n",
        "t8   0.518533  0.025168 -1.576203\n",
        "t9   1.034437  0.131924 -0.348151\n",
        "t10  0.228957 -0.727344 -0.154647\n",
        "t11  1.150327 -0.294207  0.378254\n",
        "t12 -0.589334 -0.888207  0.345916"
       ]
      }
     ],
     "prompt_number": 9
    },
    {
     "cell_type": "raw",
     "metadata": {},
     "source": [
      "but when one of the first two levels reaches 10, this indexing does not work anymore for the 3-level deep multi-index dataframe:"
     ]
    },
    {
     "cell_type": "code",
     "collapsed": false,
     "input": [
      "try:\n",
      "    gen_l3_mi(10,9,9).ix[('c9','d9')]\n",
      "except KeyError as e:\n",
      "    print e"
     ],
     "language": "python",
     "metadata": {},
     "outputs": [
      {
       "output_type": "stream",
       "stream": "stdout",
       "text": [
        "u'no item named d9'\n"
       ]
      }
     ],
     "prompt_number": 10
    },
    {
     "cell_type": "raw",
     "metadata": {},
     "source": [
      "while the 2-level index has no problem with that:"
     ]
    },
    {
     "cell_type": "code",
     "collapsed": false,
     "input": [
      "gen_l2_mi(10,9).ix['c9','d5']"
     ],
     "language": "python",
     "metadata": {},
     "outputs": [
      {
       "output_type": "pyout",
       "prompt_number": 11,
       "text": [
        "A    0.788769\n",
        "B   -0.844634\n",
        "C    0.430094\n",
        "Name: (c9, d5)"
       ]
      }
     ],
     "prompt_number": 11
    },
    {
     "cell_type": "markdown",
     "metadata": {},
     "source": [
      "#### now comes the weird part: the 3-level indexing works again, when the 3rd level size is being indexed as well:"
     ]
    },
    {
     "cell_type": "code",
     "collapsed": false,
     "input": [
      "try:\n",
      "    print gen_l3_mi(10,9,9).ix[('c9','d9','t2')]\n",
      "except KeyError as e:\n",
      "    print e"
     ],
     "language": "python",
     "metadata": {},
     "outputs": [
      {
       "output_type": "stream",
       "stream": "stdout",
       "text": [
        "A   -0.521887\n",
        "B   -0.418063\n",
        "C    0.394916\n",
        "Name: (c9, d9, t2)\n"
       ]
      }
     ],
     "prompt_number": 12
    },
    {
     "cell_type": "markdown",
     "metadata": {},
     "source": [
      "### and even weirder (at least the error message:) when indexing the 3rd level to a higher index than available, the 2nd-level index is being announced as not available:"
     ]
    },
    {
     "cell_type": "code",
     "collapsed": false,
     "input": [
      "try:\n",
      "    print gen_l3_mi(10,9,3).ix[('c9','d9','t4')]\n",
      "except KeyError as e:\n",
      "    print e"
     ],
     "language": "python",
     "metadata": {},
     "outputs": [
      {
       "output_type": "stream",
       "stream": "stdout",
       "text": [
        "u'no item named d9'\n"
       ]
      }
     ],
     "prompt_number": 13
    },
    {
     "cell_type": "raw",
     "metadata": {},
     "source": [
      "and this does not change when going back to single digit (i.e. < 10) index sizes:"
     ]
    },
    {
     "cell_type": "code",
     "collapsed": false,
     "input": [
      "try:\n",
      "    print gen_l3_mi(9,9,3).ix[('c9','d9','t4')]\n",
      "except KeyError as e:\n",
      "    print e"
     ],
     "language": "python",
     "metadata": {},
     "outputs": [
      {
       "output_type": "stream",
       "stream": "stdout",
       "text": [
        "u'no item named d9'\n"
       ]
      }
     ],
     "prompt_number": 14
    },
    {
     "cell_type": "raw",
     "metadata": {},
     "source": [
      "When reducing level2 1 under being indexed, the behaviour that the previous index is being announced as the culprit, does not happen:"
     ]
    },
    {
     "cell_type": "code",
     "collapsed": false,
     "input": [
      "try:\n",
      "    print gen_l3_mi(9,8,3).ix['c9','d9','t4']\n",
      "except KeyError as e:\n",
      "    print e"
     ],
     "language": "python",
     "metadata": {},
     "outputs": [
      {
       "output_type": "stream",
       "stream": "stdout",
       "text": [
        "u'no item named d9'\n"
       ]
      }
     ],
     "prompt_number": 15
    },
    {
     "cell_type": "raw",
     "metadata": {},
     "source": [
      "Using df.sortlevel, the indexing finally works:"
     ]
    },
    {
     "cell_type": "code",
     "collapsed": false,
     "input": [
      "try:\n",
      "    print gen_l3_mi(10,9,9).sortlevel(0).ix[('c9','d9')]\n",
      "except KeyError as e:\n",
      "    print e"
     ],
     "language": "python",
     "metadata": {},
     "outputs": [
      {
       "output_type": "stream",
       "stream": "stdout",
       "text": [
        "           A         B         C\n",
        "t1 -0.741535 -2.660918 -2.279046\n",
        "t2 -1.553367 -0.885134 -0.252692\n",
        "t3  2.501324 -1.110027 -0.825690\n",
        "t4  0.705584 -1.011079  0.385323\n",
        "t5  0.097247 -0.532201 -0.181186\n",
        "t6  0.526688 -0.587844  0.899626\n",
        "t7 -0.344456  0.418265 -0.985346\n",
        "t8  0.191865 -1.813078 -1.132564\n",
        "t9 -0.181255  1.156259  1.431130\n"
       ]
      }
     ],
     "prompt_number": 16
    },
    {
     "cell_type": "code",
     "collapsed": false,
     "input": [
      "print gen_l3_mi(15,13,12).sortlevel(0).ix[('c9','d9'),'A']"
     ],
     "language": "python",
     "metadata": {},
     "outputs": [
      {
       "output_type": "stream",
       "stream": "stdout",
       "text": [
        "t1    -0.974375\n",
        "t10   -1.676816\n",
        "t11    0.303013\n",
        "t12   -0.624136\n",
        "t2     0.186833\n",
        "t3    -0.381630\n",
        "t4     0.948508\n",
        "t5    -0.280096\n",
        "t6    -1.074321\n",
        "t7     1.017387\n",
        "t8     1.621737\n",
        "t9     1.199308\n",
        "Name: A\n"
       ]
      }
     ],
     "prompt_number": 17
    },
    {
     "cell_type": "code",
     "collapsed": false,
     "input": [
      "df = gen_l3_mi(3,2,2)\n",
      "df"
     ],
     "language": "python",
     "metadata": {},
     "outputs": [
      {
       "html": [
        "<div style=\"max-height:1000px;max-width:1500px;overflow:auto;\">\n",
        "<table border=\"1\" class=\"dataframe\">\n",
        "  <thead>\n",
        "    <tr style=\"text-align: right;\">\n",
        "      <th></th>\n",
        "      <th></th>\n",
        "      <th></th>\n",
        "      <th>A</th>\n",
        "      <th>B</th>\n",
        "      <th>C</th>\n",
        "    </tr>\n",
        "  </thead>\n",
        "  <tbody>\n",
        "    <tr>\n",
        "      <td rowspan=\"4\" valign=\"top\"><strong>c1</strong></td>\n",
        "      <td rowspan=\"2\" valign=\"top\"><strong>d1</strong></td>\n",
        "      <td><strong>t1</strong></td>\n",
        "      <td>-0.956549</td>\n",
        "      <td> 0.272678</td>\n",
        "      <td>-0.982496</td>\n",
        "    </tr>\n",
        "    <tr>\n",
        "      <td><strong>t2</strong></td>\n",
        "      <td> 0.243559</td>\n",
        "      <td> 0.867344</td>\n",
        "      <td>-0.129951</td>\n",
        "    </tr>\n",
        "    <tr>\n",
        "      <td rowspan=\"2\" valign=\"top\"><strong>d2</strong></td>\n",
        "      <td><strong>t1</strong></td>\n",
        "      <td>-1.057194</td>\n",
        "      <td>-0.372194</td>\n",
        "      <td>-1.853323</td>\n",
        "    </tr>\n",
        "    <tr>\n",
        "      <td><strong>t2</strong></td>\n",
        "      <td>-1.372762</td>\n",
        "      <td>-1.448960</td>\n",
        "      <td>-1.006046</td>\n",
        "    </tr>\n",
        "    <tr>\n",
        "      <td rowspan=\"4\" valign=\"top\"><strong>c2</strong></td>\n",
        "      <td rowspan=\"2\" valign=\"top\"><strong>d1</strong></td>\n",
        "      <td><strong>t1</strong></td>\n",
        "      <td> 1.284487</td>\n",
        "      <td> 0.167968</td>\n",
        "      <td> 1.306979</td>\n",
        "    </tr>\n",
        "    <tr>\n",
        "      <td><strong>t2</strong></td>\n",
        "      <td>-1.532081</td>\n",
        "      <td>-1.254862</td>\n",
        "      <td> 0.056985</td>\n",
        "    </tr>\n",
        "    <tr>\n",
        "      <td rowspan=\"2\" valign=\"top\"><strong>d2</strong></td>\n",
        "      <td><strong>t1</strong></td>\n",
        "      <td>-1.097421</td>\n",
        "      <td> 0.347272</td>\n",
        "      <td> 0.643146</td>\n",
        "    </tr>\n",
        "    <tr>\n",
        "      <td><strong>t2</strong></td>\n",
        "      <td> 0.342168</td>\n",
        "      <td> 1.213439</td>\n",
        "      <td>-1.033292</td>\n",
        "    </tr>\n",
        "    <tr>\n",
        "      <td rowspan=\"4\" valign=\"top\"><strong>c3</strong></td>\n",
        "      <td rowspan=\"2\" valign=\"top\"><strong>d1</strong></td>\n",
        "      <td><strong>t1</strong></td>\n",
        "      <td> 0.754817</td>\n",
        "      <td>-1.570552</td>\n",
        "      <td> 1.001579</td>\n",
        "    </tr>\n",
        "    <tr>\n",
        "      <td><strong>t2</strong></td>\n",
        "      <td>-1.830256</td>\n",
        "      <td> 1.320476</td>\n",
        "      <td>-0.367464</td>\n",
        "    </tr>\n",
        "    <tr>\n",
        "      <td rowspan=\"2\" valign=\"top\"><strong>d2</strong></td>\n",
        "      <td><strong>t1</strong></td>\n",
        "      <td> 1.712019</td>\n",
        "      <td> 0.451640</td>\n",
        "      <td> 0.016295</td>\n",
        "    </tr>\n",
        "    <tr>\n",
        "      <td><strong>t2</strong></td>\n",
        "      <td>-0.672884</td>\n",
        "      <td> 0.448447</td>\n",
        "      <td> 0.180291</td>\n",
        "    </tr>\n",
        "  </tbody>\n",
        "</table>\n",
        "</div>"
       ],
       "output_type": "pyout",
       "prompt_number": 18,
       "text": [
        "                 A         B         C\n",
        "c1 d1 t1 -0.956549  0.272678 -0.982496\n",
        "      t2  0.243559  0.867344 -0.129951\n",
        "   d2 t1 -1.057194 -0.372194 -1.853323\n",
        "      t2 -1.372762 -1.448960 -1.006046\n",
        "c2 d1 t1  1.284487  0.167968  1.306979\n",
        "      t2 -1.532081 -1.254862  0.056985\n",
        "   d2 t1 -1.097421  0.347272  0.643146\n",
        "      t2  0.342168  1.213439 -1.033292\n",
        "c3 d1 t1  0.754817 -1.570552  1.001579\n",
        "      t2 -1.830256  1.320476 -0.367464\n",
        "   d2 t1  1.712019  0.451640  0.016295\n",
        "      t2 -0.672884  0.448447  0.180291"
       ]
      }
     ],
     "prompt_number": 18
    },
    {
     "cell_type": "code",
     "collapsed": false,
     "input": [
      "times = df.index.levels[2]\n",
      "times"
     ],
     "language": "python",
     "metadata": {},
     "outputs": [
      {
       "output_type": "pyout",
       "prompt_number": 19,
       "text": [
        "Index([t1, t2], dtype=object)"
       ]
      }
     ],
     "prompt_number": 19
    },
    {
     "cell_type": "code",
     "collapsed": false,
     "input": [
      "d = pd.Series([4,5],index=times)"
     ],
     "language": "python",
     "metadata": {},
     "outputs": [],
     "prompt_number": 20
    },
    {
     "cell_type": "code",
     "collapsed": false,
     "input": [
      "d"
     ],
     "language": "python",
     "metadata": {},
     "outputs": [
      {
       "output_type": "pyout",
       "prompt_number": 21,
       "text": [
        "t1    4\n",
        "t2    5"
       ]
      }
     ],
     "prompt_number": 21
    },
    {
     "cell_type": "code",
     "collapsed": false,
     "input": [
      "df['D']=0.0"
     ],
     "language": "python",
     "metadata": {},
     "outputs": [],
     "prompt_number": 22
    },
    {
     "cell_type": "code",
     "collapsed": false,
     "input": [
      "df.ix['c1'].D"
     ],
     "language": "python",
     "metadata": {},
     "outputs": [
      {
       "output_type": "pyout",
       "prompt_number": 23,
       "text": [
        "d1  t1    0\n",
        "    t2    0\n",
        "d2  t1    0\n",
        "    t2    0\n",
        "Name: D"
       ]
      }
     ],
     "prompt_number": 23
    },
    {
     "cell_type": "code",
     "collapsed": false,
     "input": [
      "df.ix['c1']"
     ],
     "language": "python",
     "metadata": {},
     "outputs": [
      {
       "html": [
        "<div style=\"max-height:1000px;max-width:1500px;overflow:auto;\">\n",
        "<table border=\"1\" class=\"dataframe\">\n",
        "  <thead>\n",
        "    <tr style=\"text-align: right;\">\n",
        "      <th></th>\n",
        "      <th></th>\n",
        "      <th>A</th>\n",
        "      <th>B</th>\n",
        "      <th>C</th>\n",
        "      <th>D</th>\n",
        "    </tr>\n",
        "  </thead>\n",
        "  <tbody>\n",
        "    <tr>\n",
        "      <td rowspan=\"2\" valign=\"top\"><strong>d1</strong></td>\n",
        "      <td><strong>t1</strong></td>\n",
        "      <td>-0.956549</td>\n",
        "      <td> 0.272678</td>\n",
        "      <td>-0.982496</td>\n",
        "      <td> 0</td>\n",
        "    </tr>\n",
        "    <tr>\n",
        "      <td><strong>t2</strong></td>\n",
        "      <td> 0.243559</td>\n",
        "      <td> 0.867344</td>\n",
        "      <td>-0.129951</td>\n",
        "      <td> 0</td>\n",
        "    </tr>\n",
        "    <tr>\n",
        "      <td rowspan=\"2\" valign=\"top\"><strong>d2</strong></td>\n",
        "      <td><strong>t1</strong></td>\n",
        "      <td>-1.057194</td>\n",
        "      <td>-0.372194</td>\n",
        "      <td>-1.853323</td>\n",
        "      <td> 0</td>\n",
        "    </tr>\n",
        "    <tr>\n",
        "      <td><strong>t2</strong></td>\n",
        "      <td>-1.372762</td>\n",
        "      <td>-1.448960</td>\n",
        "      <td>-1.006046</td>\n",
        "      <td> 0</td>\n",
        "    </tr>\n",
        "  </tbody>\n",
        "</table>\n",
        "</div>"
       ],
       "output_type": "pyout",
       "prompt_number": 24,
       "text": [
        "              A         B         C  D\n",
        "d1 t1 -0.956549  0.272678 -0.982496  0\n",
        "   t2  0.243559  0.867344 -0.129951  0\n",
        "d2 t1 -1.057194 -0.372194 -1.853323  0\n",
        "   t2 -1.372762 -1.448960 -1.006046  0"
       ]
      }
     ],
     "prompt_number": 24
    },
    {
     "cell_type": "code",
     "collapsed": false,
     "input": [
      "df.ix['c1'].D=d.reindex(df.ix['c1'].index,level=1).values"
     ],
     "language": "python",
     "metadata": {},
     "outputs": [],
     "prompt_number": 25
    },
    {
     "cell_type": "code",
     "collapsed": false,
     "input": [
      "rdf = df.reset_index()"
     ],
     "language": "python",
     "metadata": {},
     "outputs": [],
     "prompt_number": 26
    },
    {
     "cell_type": "code",
     "collapsed": false,
     "input": [
      "rdf[rdf.level_0=='c1'].D = 4"
     ],
     "language": "python",
     "metadata": {},
     "outputs": [],
     "prompt_number": 27
    },
    {
     "cell_type": "code",
     "collapsed": false,
     "input": [
      "d"
     ],
     "language": "python",
     "metadata": {},
     "outputs": [
      {
       "output_type": "pyout",
       "prompt_number": 28,
       "text": [
        "t1    4\n",
        "t2    5"
       ]
      }
     ],
     "prompt_number": 28
    },
    {
     "cell_type": "code",
     "collapsed": false,
     "input": [
      "rdf[rdf.level_0=='c1'].D = 4.0"
     ],
     "language": "python",
     "metadata": {},
     "outputs": [],
     "prompt_number": 29
    },
    {
     "cell_type": "code",
     "collapsed": false,
     "input": [
      "rdf.D = 4"
     ],
     "language": "python",
     "metadata": {},
     "outputs": [],
     "prompt_number": 30
    },
    {
     "cell_type": "code",
     "collapsed": false,
     "input": [
      "rdf.D[rdf.level_0=='c1'] = 5"
     ],
     "language": "python",
     "metadata": {},
     "outputs": [],
     "prompt_number": 31
    },
    {
     "cell_type": "code",
     "collapsed": false,
     "input": [
      "rdf[rdf.level_0=='c1'].D = 6"
     ],
     "language": "python",
     "metadata": {},
     "outputs": [],
     "prompt_number": 32
    },
    {
     "cell_type": "code",
     "collapsed": false,
     "input": [
      "df"
     ],
     "language": "python",
     "metadata": {},
     "outputs": [
      {
       "html": [
        "<div style=\"max-height:1000px;max-width:1500px;overflow:auto;\">\n",
        "<table border=\"1\" class=\"dataframe\">\n",
        "  <thead>\n",
        "    <tr style=\"text-align: right;\">\n",
        "      <th></th>\n",
        "      <th></th>\n",
        "      <th></th>\n",
        "      <th>A</th>\n",
        "      <th>B</th>\n",
        "      <th>C</th>\n",
        "      <th>D</th>\n",
        "    </tr>\n",
        "  </thead>\n",
        "  <tbody>\n",
        "    <tr>\n",
        "      <td rowspan=\"4\" valign=\"top\"><strong>c1</strong></td>\n",
        "      <td rowspan=\"2\" valign=\"top\"><strong>d1</strong></td>\n",
        "      <td><strong>t1</strong></td>\n",
        "      <td>-0.956549</td>\n",
        "      <td> 0.272678</td>\n",
        "      <td>-0.982496</td>\n",
        "      <td> 0</td>\n",
        "    </tr>\n",
        "    <tr>\n",
        "      <td><strong>t2</strong></td>\n",
        "      <td> 0.243559</td>\n",
        "      <td> 0.867344</td>\n",
        "      <td>-0.129951</td>\n",
        "      <td> 0</td>\n",
        "    </tr>\n",
        "    <tr>\n",
        "      <td rowspan=\"2\" valign=\"top\"><strong>d2</strong></td>\n",
        "      <td><strong>t1</strong></td>\n",
        "      <td>-1.057194</td>\n",
        "      <td>-0.372194</td>\n",
        "      <td>-1.853323</td>\n",
        "      <td> 0</td>\n",
        "    </tr>\n",
        "    <tr>\n",
        "      <td><strong>t2</strong></td>\n",
        "      <td>-1.372762</td>\n",
        "      <td>-1.448960</td>\n",
        "      <td>-1.006046</td>\n",
        "      <td> 0</td>\n",
        "    </tr>\n",
        "    <tr>\n",
        "      <td rowspan=\"4\" valign=\"top\"><strong>c2</strong></td>\n",
        "      <td rowspan=\"2\" valign=\"top\"><strong>d1</strong></td>\n",
        "      <td><strong>t1</strong></td>\n",
        "      <td> 1.284487</td>\n",
        "      <td> 0.167968</td>\n",
        "      <td> 1.306979</td>\n",
        "      <td> 0</td>\n",
        "    </tr>\n",
        "    <tr>\n",
        "      <td><strong>t2</strong></td>\n",
        "      <td>-1.532081</td>\n",
        "      <td>-1.254862</td>\n",
        "      <td> 0.056985</td>\n",
        "      <td> 0</td>\n",
        "    </tr>\n",
        "    <tr>\n",
        "      <td rowspan=\"2\" valign=\"top\"><strong>d2</strong></td>\n",
        "      <td><strong>t1</strong></td>\n",
        "      <td>-1.097421</td>\n",
        "      <td> 0.347272</td>\n",
        "      <td> 0.643146</td>\n",
        "      <td> 0</td>\n",
        "    </tr>\n",
        "    <tr>\n",
        "      <td><strong>t2</strong></td>\n",
        "      <td> 0.342168</td>\n",
        "      <td> 1.213439</td>\n",
        "      <td>-1.033292</td>\n",
        "      <td> 0</td>\n",
        "    </tr>\n",
        "    <tr>\n",
        "      <td rowspan=\"4\" valign=\"top\"><strong>c3</strong></td>\n",
        "      <td rowspan=\"2\" valign=\"top\"><strong>d1</strong></td>\n",
        "      <td><strong>t1</strong></td>\n",
        "      <td> 0.754817</td>\n",
        "      <td>-1.570552</td>\n",
        "      <td> 1.001579</td>\n",
        "      <td> 0</td>\n",
        "    </tr>\n",
        "    <tr>\n",
        "      <td><strong>t2</strong></td>\n",
        "      <td>-1.830256</td>\n",
        "      <td> 1.320476</td>\n",
        "      <td>-0.367464</td>\n",
        "      <td> 0</td>\n",
        "    </tr>\n",
        "    <tr>\n",
        "      <td rowspan=\"2\" valign=\"top\"><strong>d2</strong></td>\n",
        "      <td><strong>t1</strong></td>\n",
        "      <td> 1.712019</td>\n",
        "      <td> 0.451640</td>\n",
        "      <td> 0.016295</td>\n",
        "      <td> 0</td>\n",
        "    </tr>\n",
        "    <tr>\n",
        "      <td><strong>t2</strong></td>\n",
        "      <td>-0.672884</td>\n",
        "      <td> 0.448447</td>\n",
        "      <td> 0.180291</td>\n",
        "      <td> 0</td>\n",
        "    </tr>\n",
        "  </tbody>\n",
        "</table>\n",
        "</div>"
       ],
       "output_type": "pyout",
       "prompt_number": 33,
       "text": [
        "                 A         B         C  D\n",
        "c1 d1 t1 -0.956549  0.272678 -0.982496  0\n",
        "      t2  0.243559  0.867344 -0.129951  0\n",
        "   d2 t1 -1.057194 -0.372194 -1.853323  0\n",
        "      t2 -1.372762 -1.448960 -1.006046  0\n",
        "c2 d1 t1  1.284487  0.167968  1.306979  0\n",
        "      t2 -1.532081 -1.254862  0.056985  0\n",
        "   d2 t1 -1.097421  0.347272  0.643146  0\n",
        "      t2  0.342168  1.213439 -1.033292  0\n",
        "c3 d1 t1  0.754817 -1.570552  1.001579  0\n",
        "      t2 -1.830256  1.320476 -0.367464  0\n",
        "   d2 t1  1.712019  0.451640  0.016295  0\n",
        "      t2 -0.672884  0.448447  0.180291  0"
       ]
      }
     ],
     "prompt_number": 33
    },
    {
     "cell_type": "code",
     "collapsed": false,
     "input": [
      "df.index.names = ['c','d','t']"
     ],
     "language": "python",
     "metadata": {},
     "outputs": [],
     "prompt_number": 34
    },
    {
     "cell_type": "code",
     "collapsed": false,
     "input": [
      "df.D.ix['c2'] = 1"
     ],
     "language": "python",
     "metadata": {},
     "outputs": [],
     "prompt_number": 38
    },
    {
     "cell_type": "code",
     "collapsed": false,
     "input": [
      "df.D.ix['c1','d2']=1"
     ],
     "language": "python",
     "metadata": {},
     "outputs": [],
     "prompt_number": 40
    },
    {
     "cell_type": "code",
     "collapsed": false,
     "input": [
      "df"
     ],
     "language": "python",
     "metadata": {},
     "outputs": [
      {
       "html": [
        "<div style=\"max-height:1000px;max-width:1500px;overflow:auto;\">\n",
        "<table border=\"1\" class=\"dataframe\">\n",
        "  <thead>\n",
        "    <tr style=\"text-align: right;\">\n",
        "      <th></th>\n",
        "      <th></th>\n",
        "      <th></th>\n",
        "      <th>A</th>\n",
        "      <th>B</th>\n",
        "      <th>C</th>\n",
        "      <th>D</th>\n",
        "    </tr>\n",
        "    <tr>\n",
        "      <th>c</th>\n",
        "      <th>d</th>\n",
        "      <th>t</th>\n",
        "      <th></th>\n",
        "      <th></th>\n",
        "      <th></th>\n",
        "      <th></th>\n",
        "    </tr>\n",
        "  </thead>\n",
        "  <tbody>\n",
        "    <tr>\n",
        "      <td rowspan=\"4\" valign=\"top\"><strong>c1</strong></td>\n",
        "      <td rowspan=\"2\" valign=\"top\"><strong>d1</strong></td>\n",
        "      <td><strong>t1</strong></td>\n",
        "      <td>-0.956549</td>\n",
        "      <td> 0.272678</td>\n",
        "      <td>-0.982496</td>\n",
        "      <td> 0</td>\n",
        "    </tr>\n",
        "    <tr>\n",
        "      <td><strong>t2</strong></td>\n",
        "      <td> 0.243559</td>\n",
        "      <td> 0.867344</td>\n",
        "      <td>-0.129951</td>\n",
        "      <td> 0</td>\n",
        "    </tr>\n",
        "    <tr>\n",
        "      <td rowspan=\"2\" valign=\"top\"><strong>d2</strong></td>\n",
        "      <td><strong>t1</strong></td>\n",
        "      <td>-1.057194</td>\n",
        "      <td>-0.372194</td>\n",
        "      <td>-1.853323</td>\n",
        "      <td> 1</td>\n",
        "    </tr>\n",
        "    <tr>\n",
        "      <td><strong>t2</strong></td>\n",
        "      <td>-1.372762</td>\n",
        "      <td>-1.448960</td>\n",
        "      <td>-1.006046</td>\n",
        "      <td> 1</td>\n",
        "    </tr>\n",
        "    <tr>\n",
        "      <td rowspan=\"4\" valign=\"top\"><strong>c2</strong></td>\n",
        "      <td rowspan=\"2\" valign=\"top\"><strong>d1</strong></td>\n",
        "      <td><strong>t1</strong></td>\n",
        "      <td> 1.284487</td>\n",
        "      <td> 0.167968</td>\n",
        "      <td> 1.306979</td>\n",
        "      <td> 1</td>\n",
        "    </tr>\n",
        "    <tr>\n",
        "      <td><strong>t2</strong></td>\n",
        "      <td>-1.532081</td>\n",
        "      <td>-1.254862</td>\n",
        "      <td> 0.056985</td>\n",
        "      <td> 1</td>\n",
        "    </tr>\n",
        "    <tr>\n",
        "      <td rowspan=\"2\" valign=\"top\"><strong>d2</strong></td>\n",
        "      <td><strong>t1</strong></td>\n",
        "      <td>-1.097421</td>\n",
        "      <td> 0.347272</td>\n",
        "      <td> 0.643146</td>\n",
        "      <td> 1</td>\n",
        "    </tr>\n",
        "    <tr>\n",
        "      <td><strong>t2</strong></td>\n",
        "      <td> 0.342168</td>\n",
        "      <td> 1.213439</td>\n",
        "      <td>-1.033292</td>\n",
        "      <td> 1</td>\n",
        "    </tr>\n",
        "    <tr>\n",
        "      <td rowspan=\"4\" valign=\"top\"><strong>c3</strong></td>\n",
        "      <td rowspan=\"2\" valign=\"top\"><strong>d1</strong></td>\n",
        "      <td><strong>t1</strong></td>\n",
        "      <td> 0.754817</td>\n",
        "      <td>-1.570552</td>\n",
        "      <td> 1.001579</td>\n",
        "      <td> 0</td>\n",
        "    </tr>\n",
        "    <tr>\n",
        "      <td><strong>t2</strong></td>\n",
        "      <td>-1.830256</td>\n",
        "      <td> 1.320476</td>\n",
        "      <td>-0.367464</td>\n",
        "      <td> 0</td>\n",
        "    </tr>\n",
        "    <tr>\n",
        "      <td rowspan=\"2\" valign=\"top\"><strong>d2</strong></td>\n",
        "      <td><strong>t1</strong></td>\n",
        "      <td> 1.712019</td>\n",
        "      <td> 0.451640</td>\n",
        "      <td> 0.016295</td>\n",
        "      <td> 0</td>\n",
        "    </tr>\n",
        "    <tr>\n",
        "      <td><strong>t2</strong></td>\n",
        "      <td>-0.672884</td>\n",
        "      <td> 0.448447</td>\n",
        "      <td> 0.180291</td>\n",
        "      <td> 0</td>\n",
        "    </tr>\n",
        "  </tbody>\n",
        "</table>\n",
        "</div>"
       ],
       "output_type": "pyout",
       "prompt_number": 41,
       "text": [
        "                 A         B         C  D\n",
        "c  d  t                                  \n",
        "c1 d1 t1 -0.956549  0.272678 -0.982496  0\n",
        "      t2  0.243559  0.867344 -0.129951  0\n",
        "   d2 t1 -1.057194 -0.372194 -1.853323  1\n",
        "      t2 -1.372762 -1.448960 -1.006046  1\n",
        "c2 d1 t1  1.284487  0.167968  1.306979  1\n",
        "      t2 -1.532081 -1.254862  0.056985  1\n",
        "   d2 t1 -1.097421  0.347272  0.643146  1\n",
        "      t2  0.342168  1.213439 -1.033292  1\n",
        "c3 d1 t1  0.754817 -1.570552  1.001579  0\n",
        "      t2 -1.830256  1.320476 -0.367464  0\n",
        "   d2 t1  1.712019  0.451640  0.016295  0\n",
        "      t2 -0.672884  0.448447  0.180291  0"
       ]
      }
     ],
     "prompt_number": 41
    },
    {
     "cell_type": "code",
     "collapsed": false,
     "input": [
      "grouped = df.groupby('D')"
     ],
     "language": "python",
     "metadata": {},
     "outputs": [],
     "prompt_number": 43
    },
    {
     "cell_type": "code",
     "collapsed": false,
     "input": [
      "for i,j in grouped:\n",
      "    print j.index[0]\n",
      "    print j.index.levels[2]"
     ],
     "language": "python",
     "metadata": {},
     "outputs": [
      {
       "output_type": "stream",
       "stream": "stdout",
       "text": [
        "('c1', 'd1', 't1')\n",
        "Index([t1, t2], dtype=object)\n",
        "('c1', 'd2', 't1')\n",
        "Index([t1, t2], dtype=object)\n"
       ]
      }
     ],
     "prompt_number": 44
    },
    {
     "cell_type": "code",
     "collapsed": false,
     "input": [
      "df = gen_l3_mi(3,5,5)"
     ],
     "language": "python",
     "metadata": {},
     "outputs": [],
     "prompt_number": 54
    },
    {
     "cell_type": "code",
     "collapsed": false,
     "input": [
      "df['D']=0.0"
     ],
     "language": "python",
     "metadata": {},
     "outputs": [],
     "prompt_number": 55
    },
    {
     "cell_type": "code",
     "collapsed": false,
     "input": [
      "df.D.ix['c1','d1'].ix['t3':'t5'] = 1"
     ],
     "language": "python",
     "metadata": {},
     "outputs": [],
     "prompt_number": 58
    },
    {
     "cell_type": "code",
     "collapsed": false,
     "input": [
      "df.index.levels[2]"
     ],
     "language": "python",
     "metadata": {},
     "outputs": [
      {
       "output_type": "pyout",
       "prompt_number": 71,
       "text": [
        "Index([t1, t2, t3, t4, t5], dtype=object)"
       ]
      }
     ],
     "prompt_number": 71
    },
    {
     "cell_type": "code",
     "collapsed": false,
     "input": [
      "df.head()"
     ],
     "language": "python",
     "metadata": {},
     "outputs": [
      {
       "html": [
        "<div style=\"max-height:1000px;max-width:1500px;overflow:auto;\">\n",
        "<table border=\"1\" class=\"dataframe\">\n",
        "  <thead>\n",
        "    <tr style=\"text-align: right;\">\n",
        "      <th></th>\n",
        "      <th></th>\n",
        "      <th></th>\n",
        "      <th>A</th>\n",
        "      <th>B</th>\n",
        "      <th>C</th>\n",
        "      <th>D</th>\n",
        "    </tr>\n",
        "  </thead>\n",
        "  <tbody>\n",
        "    <tr>\n",
        "      <td rowspan=\"5\" valign=\"top\"><strong>c1</strong></td>\n",
        "      <td rowspan=\"5\" valign=\"top\"><strong>d1</strong></td>\n",
        "      <td><strong>t1</strong></td>\n",
        "      <td> 0.458733</td>\n",
        "      <td> 0.277173</td>\n",
        "      <td>-0.090193</td>\n",
        "      <td> 0</td>\n",
        "    </tr>\n",
        "    <tr>\n",
        "      <td><strong>t2</strong></td>\n",
        "      <td>-0.082336</td>\n",
        "      <td>-1.510088</td>\n",
        "      <td>-1.435029</td>\n",
        "      <td> 0</td>\n",
        "    </tr>\n",
        "    <tr>\n",
        "      <td><strong>t3</strong></td>\n",
        "      <td>-1.941552</td>\n",
        "      <td>-0.171481</td>\n",
        "      <td>-0.527475</td>\n",
        "      <td> 1</td>\n",
        "    </tr>\n",
        "    <tr>\n",
        "      <td><strong>t4</strong></td>\n",
        "      <td> 0.951432</td>\n",
        "      <td>-0.776435</td>\n",
        "      <td>-1.020891</td>\n",
        "      <td> 1</td>\n",
        "    </tr>\n",
        "    <tr>\n",
        "      <td><strong>t5</strong></td>\n",
        "      <td> 0.195907</td>\n",
        "      <td>-0.576726</td>\n",
        "      <td>-0.754187</td>\n",
        "      <td> 1</td>\n",
        "    </tr>\n",
        "  </tbody>\n",
        "</table>\n",
        "</div>"
       ],
       "output_type": "pyout",
       "prompt_number": 65,
       "text": [
        "                 A         B         C  D\n",
        "c1 d1 t1  0.458733  0.277173 -0.090193  0\n",
        "      t2 -0.082336 -1.510088 -1.435029  0\n",
        "      t3 -1.941552 -0.171481 -0.527475  1\n",
        "      t4  0.951432 -0.776435 -1.020891  1\n",
        "      t5  0.195907 -0.576726 -0.754187  1"
       ]
      }
     ],
     "prompt_number": 65
    },
    {
     "cell_type": "code",
     "collapsed": false,
     "input": [
      "grouped = df.groupby('D')"
     ],
     "language": "python",
     "metadata": {},
     "outputs": [],
     "prompt_number": 62
    },
    {
     "cell_type": "code",
     "collapsed": false,
     "input": [
      "for i,j in grouped:\n",
      "    print i\n",
      "    print j.index[0]\n",
      "    print j.index.levels[2][0]"
     ],
     "language": "python",
     "metadata": {},
     "outputs": [
      {
       "output_type": "stream",
       "stream": "stdout",
       "text": [
        "0.0\n",
        "('c1', 'd1', 't1')\n",
        "t1\n",
        "1.0\n",
        "('c1', 'd1', 't3')\n",
        "t1\n"
       ]
      }
     ],
     "prompt_number": 64
    },
    {
     "cell_type": "code",
     "collapsed": false,
     "input": [],
     "language": "python",
     "metadata": {},
     "outputs": []
    }
   ],
   "metadata": {}
  }
 ]
}