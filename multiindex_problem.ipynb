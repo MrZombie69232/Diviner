{
 "metadata": {
  "name": "multiindex_problem"
 },
 "nbformat": 3,
 "nbformat_minor": 0,
 "worksheets": [
  {
   "cells": [
    {
     "cell_type": "code",
     "collapsed": false,
     "input": [
      "import pandas as pd\n",
      "import numpy as np\n",
      "import sys\n",
      "\n",
      "print \"\\npandas version:\",pd.__version__"
     ],
     "language": "python",
     "metadata": {},
     "outputs": [
      {
       "output_type": "stream",
       "stream": "stdout",
       "text": [
        "\n",
        "pandas version: 0.10.0\n"
       ]
      }
     ],
     "prompt_number": 4
    },
    {
     "cell_type": "raw",
     "metadata": {},
     "source": [
      "define functions to generate 2 and 3 level multi-index based dataframes"
     ]
    },
    {
     "cell_type": "code",
     "collapsed": false,
     "input": [
      "def gen_l3_mi(nchs,ndets,ntimes):\n",
      "    \"generate a 3-level multi-index dataframe\"\n",
      "    c = ['c'+str(i) for i in range(1,nchs+1)]\n",
      "    det = ['d'+str(i) for i in range(1,ndets+1)]\n",
      "    times = ['t'+str(i) for i in range(1,ntimes+1)]\n",
      "    ind = []\n",
      "    for ch in c:\n",
      "        for d in det:\n",
      "            for t in times:\n",
      "                ind.append((ch,d,t))\n",
      "    index = pd.MultiIndex.from_tuples(ind)\n",
      "    return pd.DataFrame(np.random.randn(nchs*ndets*ntimes,3), \n",
      "                      columns=['A','B','C'],index=index)"
     ],
     "language": "python",
     "metadata": {},
     "outputs": [],
     "prompt_number": 5
    },
    {
     "cell_type": "code",
     "collapsed": false,
     "input": [
      "def gen_l2_mi(nchs,ndets):\n",
      "    \"generate a 2-level multi-index dataframe\"\n",
      "    c = ['c'+str(i) for i in range(1,nchs+1)]\n",
      "    det = ['d'+str(i) for i in range(1,ndets+1)]\n",
      "    ind = []\n",
      "    for ch in c:\n",
      "        for d in det:\n",
      "            ind.append((ch,d))\n",
      "    index = pd.MultiIndex.from_tuples(ind)\n",
      "    return pd.DataFrame(np.random.randn(nchs*ndets,3), \n",
      "                      columns=['A','B','C'],index=index)"
     ],
     "language": "python",
     "metadata": {},
     "outputs": [],
     "prompt_number": 6
    },
    {
     "cell_type": "raw",
     "metadata": {},
     "source": [
      "example of 2-level frame"
     ]
    },
    {
     "cell_type": "code",
     "collapsed": false,
     "input": [
      "gen_l2_mi(2,3)"
     ],
     "language": "python",
     "metadata": {},
     "outputs": [
      {
       "html": [
        "<div style=\"max-height:1000px;max-width:1500px;overflow:auto;\">\n",
        "<table border=\"1\" class=\"dataframe\">\n",
        "  <thead>\n",
        "    <tr style=\"text-align: right;\">\n",
        "      <th></th>\n",
        "      <th></th>\n",
        "      <th>A</th>\n",
        "      <th>B</th>\n",
        "      <th>C</th>\n",
        "    </tr>\n",
        "  </thead>\n",
        "  <tbody>\n",
        "    <tr>\n",
        "      <td rowspan=\"3\" valign=\"top\"><strong>c1</strong></td>\n",
        "      <td><strong>d1</strong></td>\n",
        "      <td>-2.572480</td>\n",
        "      <td>-0.732757</td>\n",
        "      <td>-1.232341</td>\n",
        "    </tr>\n",
        "    <tr>\n",
        "      <td><strong>d2</strong></td>\n",
        "      <td> 3.188897</td>\n",
        "      <td>-0.242259</td>\n",
        "      <td> 1.411863</td>\n",
        "    </tr>\n",
        "    <tr>\n",
        "      <td><strong>d3</strong></td>\n",
        "      <td>-0.710559</td>\n",
        "      <td> 1.098896</td>\n",
        "      <td>-0.636251</td>\n",
        "    </tr>\n",
        "    <tr>\n",
        "      <td rowspan=\"3\" valign=\"top\"><strong>c2</strong></td>\n",
        "      <td><strong>d1</strong></td>\n",
        "      <td>-1.033444</td>\n",
        "      <td> 1.104383</td>\n",
        "      <td>-0.179347</td>\n",
        "    </tr>\n",
        "    <tr>\n",
        "      <td><strong>d2</strong></td>\n",
        "      <td> 0.233569</td>\n",
        "      <td>-0.585007</td>\n",
        "      <td>-0.316182</td>\n",
        "    </tr>\n",
        "    <tr>\n",
        "      <td><strong>d3</strong></td>\n",
        "      <td>-0.106077</td>\n",
        "      <td>-2.038122</td>\n",
        "      <td>-0.922053</td>\n",
        "    </tr>\n",
        "  </tbody>\n",
        "</table>\n",
        "</div>"
       ],
       "output_type": "pyout",
       "prompt_number": 7,
       "text": [
        "              A         B         C\n",
        "c1 d1 -2.572480 -0.732757 -1.232341\n",
        "   d2  3.188897 -0.242259  1.411863\n",
        "   d3 -0.710559  1.098896 -0.636251\n",
        "c2 d1 -1.033444  1.104383 -0.179347\n",
        "   d2  0.233569 -0.585007 -0.316182\n",
        "   d3 -0.106077 -2.038122 -0.922053"
       ]
      }
     ],
     "prompt_number": 7
    },
    {
     "cell_type": "raw",
     "metadata": {},
     "source": [
      "example of 3-level frame"
     ]
    },
    {
     "cell_type": "code",
     "collapsed": false,
     "input": [
      "gen_l3_mi(2,3,2)"
     ],
     "language": "python",
     "metadata": {},
     "outputs": [
      {
       "html": [
        "<div style=\"max-height:1000px;max-width:1500px;overflow:auto;\">\n",
        "<table border=\"1\" class=\"dataframe\">\n",
        "  <thead>\n",
        "    <tr style=\"text-align: right;\">\n",
        "      <th></th>\n",
        "      <th></th>\n",
        "      <th></th>\n",
        "      <th>A</th>\n",
        "      <th>B</th>\n",
        "      <th>C</th>\n",
        "    </tr>\n",
        "  </thead>\n",
        "  <tbody>\n",
        "    <tr>\n",
        "      <td rowspan=\"6\" valign=\"top\"><strong>c1</strong></td>\n",
        "      <td rowspan=\"2\" valign=\"top\"><strong>d1</strong></td>\n",
        "      <td><strong>t1</strong></td>\n",
        "      <td>-0.727880</td>\n",
        "      <td> 1.753839</td>\n",
        "      <td>-1.009624</td>\n",
        "    </tr>\n",
        "    <tr>\n",
        "      <td><strong>t2</strong></td>\n",
        "      <td>-0.330386</td>\n",
        "      <td> 1.636138</td>\n",
        "      <td> 0.190410</td>\n",
        "    </tr>\n",
        "    <tr>\n",
        "      <td rowspan=\"2\" valign=\"top\"><strong>d2</strong></td>\n",
        "      <td><strong>t1</strong></td>\n",
        "      <td>-0.499211</td>\n",
        "      <td> 1.433332</td>\n",
        "      <td>-0.427813</td>\n",
        "    </tr>\n",
        "    <tr>\n",
        "      <td><strong>t2</strong></td>\n",
        "      <td>-1.461105</td>\n",
        "      <td>-0.956750</td>\n",
        "      <td>-0.447118</td>\n",
        "    </tr>\n",
        "    <tr>\n",
        "      <td rowspan=\"2\" valign=\"top\"><strong>d3</strong></td>\n",
        "      <td><strong>t1</strong></td>\n",
        "      <td>-0.411805</td>\n",
        "      <td> 0.493224</td>\n",
        "      <td>-1.014498</td>\n",
        "    </tr>\n",
        "    <tr>\n",
        "      <td><strong>t2</strong></td>\n",
        "      <td>-0.762053</td>\n",
        "      <td>-1.390155</td>\n",
        "      <td> 0.671857</td>\n",
        "    </tr>\n",
        "    <tr>\n",
        "      <td rowspan=\"6\" valign=\"top\"><strong>c2</strong></td>\n",
        "      <td rowspan=\"2\" valign=\"top\"><strong>d1</strong></td>\n",
        "      <td><strong>t1</strong></td>\n",
        "      <td> 2.193089</td>\n",
        "      <td> 0.731957</td>\n",
        "      <td> 0.269245</td>\n",
        "    </tr>\n",
        "    <tr>\n",
        "      <td><strong>t2</strong></td>\n",
        "      <td> 1.047928</td>\n",
        "      <td>-0.323271</td>\n",
        "      <td> 0.118821</td>\n",
        "    </tr>\n",
        "    <tr>\n",
        "      <td rowspan=\"2\" valign=\"top\"><strong>d2</strong></td>\n",
        "      <td><strong>t1</strong></td>\n",
        "      <td> 0.336001</td>\n",
        "      <td>-0.003020</td>\n",
        "      <td> 0.987830</td>\n",
        "    </tr>\n",
        "    <tr>\n",
        "      <td><strong>t2</strong></td>\n",
        "      <td> 0.844910</td>\n",
        "      <td> 0.140048</td>\n",
        "      <td>-2.082241</td>\n",
        "    </tr>\n",
        "    <tr>\n",
        "      <td rowspan=\"2\" valign=\"top\"><strong>d3</strong></td>\n",
        "      <td><strong>t1</strong></td>\n",
        "      <td> 0.220455</td>\n",
        "      <td> 0.091768</td>\n",
        "      <td> 0.216754</td>\n",
        "    </tr>\n",
        "    <tr>\n",
        "      <td><strong>t2</strong></td>\n",
        "      <td>-0.630151</td>\n",
        "      <td>-1.332557</td>\n",
        "      <td>-1.415679</td>\n",
        "    </tr>\n",
        "  </tbody>\n",
        "</table>\n",
        "</div>"
       ],
       "output_type": "pyout",
       "prompt_number": 8,
       "text": [
        "                 A         B         C\n",
        "c1 d1 t1 -0.727880  1.753839 -1.009624\n",
        "      t2 -0.330386  1.636138  0.190410\n",
        "   d2 t1 -0.499211  1.433332 -0.427813\n",
        "      t2 -1.461105 -0.956750 -0.447118\n",
        "   d3 t1 -0.411805  0.493224 -1.014498\n",
        "      t2 -0.762053 -1.390155  0.671857\n",
        "c2 d1 t1  2.193089  0.731957  0.269245\n",
        "      t2  1.047928 -0.323271  0.118821\n",
        "   d2 t1  0.336001 -0.003020  0.987830\n",
        "      t2  0.844910  0.140048 -2.082241\n",
        "   d3 t1  0.220455  0.091768  0.216754\n",
        "      t2 -0.630151 -1.332557 -1.415679"
       ]
      }
     ],
     "prompt_number": 8
    },
    {
     "cell_type": "raw",
     "metadata": {},
     "source": [
      "indexing the first 2 levels works fine with these:"
     ]
    },
    {
     "cell_type": "code",
     "collapsed": false,
     "input": [
      "gen_l2_mi(2,3).ix[('c1','d3')]"
     ],
     "language": "python",
     "metadata": {},
     "outputs": [
      {
       "output_type": "pyout",
       "prompt_number": 9,
       "text": [
        "A    1.235553\n",
        "B    1.145161\n",
        "C   -0.410498\n",
        "Name: (c1, d3)"
       ]
      }
     ],
     "prompt_number": 9
    },
    {
     "cell_type": "code",
     "collapsed": false,
     "input": [
      "gen_l3_mi(2,3,2).ix[('c1','d3')]"
     ],
     "language": "python",
     "metadata": {},
     "outputs": [
      {
       "html": [
        "<div style=\"max-height:1000px;max-width:1500px;overflow:auto;\">\n",
        "<table border=\"1\" class=\"dataframe\">\n",
        "  <thead>\n",
        "    <tr style=\"text-align: right;\">\n",
        "      <th></th>\n",
        "      <th>A</th>\n",
        "      <th>B</th>\n",
        "      <th>C</th>\n",
        "    </tr>\n",
        "  </thead>\n",
        "  <tbody>\n",
        "    <tr>\n",
        "      <td><strong>t1</strong></td>\n",
        "      <td>-0.308419</td>\n",
        "      <td> 0.105551</td>\n",
        "      <td>-0.752770</td>\n",
        "    </tr>\n",
        "    <tr>\n",
        "      <td><strong>t2</strong></td>\n",
        "      <td> 0.894298</td>\n",
        "      <td> 0.192965</td>\n",
        "      <td>-0.955862</td>\n",
        "    </tr>\n",
        "  </tbody>\n",
        "</table>\n",
        "</div>"
       ],
       "output_type": "pyout",
       "prompt_number": 10,
       "text": [
        "           A         B         C\n",
        "t1 -0.308419  0.105551 -0.752770\n",
        "t2  0.894298  0.192965 -0.955862"
       ]
      }
     ],
     "prompt_number": 10
    },
    {
     "cell_type": "raw",
     "metadata": {},
     "source": [
      "this works fine until the size of the first two levels reach 9,9, even with the third level getting larger than 10:"
     ]
    },
    {
     "cell_type": "code",
     "collapsed": false,
     "input": [
      "gen_l2_mi(9,9).ix[('c9','d9')]"
     ],
     "language": "python",
     "metadata": {},
     "outputs": [
      {
       "output_type": "pyout",
       "prompt_number": 11,
       "text": [
        "A    0.252900\n",
        "B    0.027916\n",
        "C    0.189318\n",
        "Name: (c9, d9)"
       ]
      }
     ],
     "prompt_number": 11
    },
    {
     "cell_type": "code",
     "collapsed": false,
     "input": [
      "gen_l3_mi(9,9,12).ix[('c9','d5')]"
     ],
     "language": "python",
     "metadata": {},
     "outputs": [
      {
       "html": [
        "<div style=\"max-height:1000px;max-width:1500px;overflow:auto;\">\n",
        "<table border=\"1\" class=\"dataframe\">\n",
        "  <thead>\n",
        "    <tr style=\"text-align: right;\">\n",
        "      <th></th>\n",
        "      <th>A</th>\n",
        "      <th>B</th>\n",
        "      <th>C</th>\n",
        "    </tr>\n",
        "  </thead>\n",
        "  <tbody>\n",
        "    <tr>\n",
        "      <td><strong>t1</strong></td>\n",
        "      <td> 1.789543</td>\n",
        "      <td>-0.268036</td>\n",
        "      <td>-1.272328</td>\n",
        "    </tr>\n",
        "    <tr>\n",
        "      <td><strong>t2</strong></td>\n",
        "      <td> 0.601696</td>\n",
        "      <td>-1.721241</td>\n",
        "      <td> 0.636239</td>\n",
        "    </tr>\n",
        "    <tr>\n",
        "      <td><strong>t3</strong></td>\n",
        "      <td>-0.174754</td>\n",
        "      <td>-0.730574</td>\n",
        "      <td> 0.922859</td>\n",
        "    </tr>\n",
        "    <tr>\n",
        "      <td><strong>t4</strong></td>\n",
        "      <td>-0.132512</td>\n",
        "      <td>-0.541903</td>\n",
        "      <td> 0.185210</td>\n",
        "    </tr>\n",
        "    <tr>\n",
        "      <td><strong>t5</strong></td>\n",
        "      <td> 0.783782</td>\n",
        "      <td> 0.896811</td>\n",
        "      <td>-1.770101</td>\n",
        "    </tr>\n",
        "    <tr>\n",
        "      <td><strong>t6</strong></td>\n",
        "      <td> 0.867531</td>\n",
        "      <td> 0.788981</td>\n",
        "      <td>-0.891357</td>\n",
        "    </tr>\n",
        "    <tr>\n",
        "      <td><strong>t7</strong></td>\n",
        "      <td> 1.264577</td>\n",
        "      <td>-0.585559</td>\n",
        "      <td>-0.547336</td>\n",
        "    </tr>\n",
        "    <tr>\n",
        "      <td><strong>t8</strong></td>\n",
        "      <td>-0.097208</td>\n",
        "      <td>-0.318509</td>\n",
        "      <td> 0.238145</td>\n",
        "    </tr>\n",
        "    <tr>\n",
        "      <td><strong>t9</strong></td>\n",
        "      <td>-0.072346</td>\n",
        "      <td>-1.718291</td>\n",
        "      <td>-0.168506</td>\n",
        "    </tr>\n",
        "    <tr>\n",
        "      <td><strong>t10</strong></td>\n",
        "      <td>-0.295086</td>\n",
        "      <td> 0.577105</td>\n",
        "      <td> 0.157335</td>\n",
        "    </tr>\n",
        "    <tr>\n",
        "      <td><strong>t11</strong></td>\n",
        "      <td> 0.049699</td>\n",
        "      <td> 1.075112</td>\n",
        "      <td> 0.600353</td>\n",
        "    </tr>\n",
        "    <tr>\n",
        "      <td><strong>t12</strong></td>\n",
        "      <td> 0.848681</td>\n",
        "      <td>-1.055735</td>\n",
        "      <td> 0.162840</td>\n",
        "    </tr>\n",
        "  </tbody>\n",
        "</table>\n",
        "</div>"
       ],
       "output_type": "pyout",
       "prompt_number": 12,
       "text": [
        "            A         B         C\n",
        "t1   1.789543 -0.268036 -1.272328\n",
        "t2   0.601696 -1.721241  0.636239\n",
        "t3  -0.174754 -0.730574  0.922859\n",
        "t4  -0.132512 -0.541903  0.185210\n",
        "t5   0.783782  0.896811 -1.770101\n",
        "t6   0.867531  0.788981 -0.891357\n",
        "t7   1.264577 -0.585559 -0.547336\n",
        "t8  -0.097208 -0.318509  0.238145\n",
        "t9  -0.072346 -1.718291 -0.168506\n",
        "t10 -0.295086  0.577105  0.157335\n",
        "t11  0.049699  1.075112  0.600353\n",
        "t12  0.848681 -1.055735  0.162840"
       ]
      }
     ],
     "prompt_number": 12
    },
    {
     "cell_type": "raw",
     "metadata": {},
     "source": [
      "but when one of the first two levels reaches 10, this indexing does not work anymore for the 3-level deep multi-index dataframe:"
     ]
    },
    {
     "cell_type": "code",
     "collapsed": false,
     "input": [
      "try:\n",
      "    gen_l3_mi(10,9,9).ix[('c9','d9')]\n",
      "except KeyError as e:\n",
      "    print e"
     ],
     "language": "python",
     "metadata": {},
     "outputs": [
      {
       "output_type": "stream",
       "stream": "stdout",
       "text": [
        "u'no item named d9'\n"
       ]
      }
     ],
     "prompt_number": 13
    },
    {
     "cell_type": "raw",
     "metadata": {},
     "source": [
      "while the 2-level index has no problem with that:"
     ]
    },
    {
     "cell_type": "code",
     "collapsed": false,
     "input": [
      "gen_l2_mi(10,9).ix['c9','d5']"
     ],
     "language": "python",
     "metadata": {},
     "outputs": [
      {
       "output_type": "pyout",
       "prompt_number": 14,
       "text": [
        "A    0.932324\n",
        "B   -0.304127\n",
        "C    1.075572\n",
        "Name: (c9, d5)"
       ]
      }
     ],
     "prompt_number": 14
    },
    {
     "cell_type": "markdown",
     "metadata": {},
     "source": [
      "#### now comes the weird part: the 3-level indexing works again, when the 3rd level size is being indexed as well:"
     ]
    },
    {
     "cell_type": "code",
     "collapsed": false,
     "input": [
      "try:\n",
      "    print gen_l3_mi(10,9,9).ix[('c9','d9','t2')]\n",
      "except KeyError as e:\n",
      "    print e"
     ],
     "language": "python",
     "metadata": {},
     "outputs": [
      {
       "output_type": "stream",
       "stream": "stdout",
       "text": [
        "A   -1.342262\n",
        "B   -0.392995\n",
        "C   -1.290158\n",
        "Name: (c9, d9, t2)\n"
       ]
      }
     ],
     "prompt_number": 15
    },
    {
     "cell_type": "markdown",
     "metadata": {},
     "source": [
      "### and even weirder (at least the error message:) when indexing the 3rd level to a higher index than available, the 2nd-level index is being announced as not available:"
     ]
    },
    {
     "cell_type": "code",
     "collapsed": false,
     "input": [
      "try:\n",
      "    print gen_l3_mi(10,9,3).ix[('c9','d9','t4')]\n",
      "except KeyError as e:\n",
      "    print e"
     ],
     "language": "python",
     "metadata": {},
     "outputs": [
      {
       "output_type": "stream",
       "stream": "stdout",
       "text": [
        "u'no item named d9'\n"
       ]
      }
     ],
     "prompt_number": 16
    },
    {
     "cell_type": "raw",
     "metadata": {},
     "source": [
      "and this does not change when going back to single digit (i.e. < 10) index sizes:"
     ]
    },
    {
     "cell_type": "code",
     "collapsed": false,
     "input": [
      "try:\n",
      "    print gen_l3_mi(9,9,3).ix[('c9','d9','t4')]\n",
      "except KeyError as e:\n",
      "    print e"
     ],
     "language": "python",
     "metadata": {},
     "outputs": [
      {
       "output_type": "stream",
       "stream": "stdout",
       "text": [
        "u'no item named d9'\n"
       ]
      }
     ],
     "prompt_number": 17
    },
    {
     "cell_type": "raw",
     "metadata": {},
     "source": [
      "When reducing level2 1 under being indexed, the behaviour that the previous index is being announced as the culprit, does not happen:"
     ]
    },
    {
     "cell_type": "code",
     "collapsed": false,
     "input": [
      "try:\n",
      "    print gen_l3_mi(9,8,3).ix['c9','d9','t4']\n",
      "except KeyError as e:\n",
      "    print e"
     ],
     "language": "python",
     "metadata": {},
     "outputs": [
      {
       "output_type": "stream",
       "stream": "stdout",
       "text": [
        "u'no item named d9'\n"
       ]
      }
     ],
     "prompt_number": 18
    },
    {
     "cell_type": "raw",
     "metadata": {},
     "source": [
      "Using df.sortlevel, the indexing finally works:"
     ]
    },
    {
     "cell_type": "code",
     "collapsed": false,
     "input": [
      "try:\n",
      "    print gen_l3_mi(10,9,9).sortlevel(0).ix[('c9','d9')]\n",
      "except KeyError as e:\n",
      "    print e"
     ],
     "language": "python",
     "metadata": {},
     "outputs": [
      {
       "output_type": "stream",
       "stream": "stdout",
       "text": [
        "           A         B         C\n",
        "t1  0.317616 -0.704562 -1.709330\n",
        "t2  0.441806 -0.383665  0.723314\n",
        "t3  0.055314 -1.460763  1.316106\n",
        "t4 -1.268493  0.780420  0.510243\n",
        "t5  0.180348 -1.035593 -0.813999\n",
        "t6 -0.412359 -0.869529  1.155396\n",
        "t7  0.446553 -0.398233  1.038946\n",
        "t8  0.655375 -0.842127  1.094328\n",
        "t9  0.379096 -0.431176  0.443402\n"
       ]
      }
     ],
     "prompt_number": 19
    },
    {
     "cell_type": "code",
     "collapsed": false,
     "input": [
      "print gen_l3_mi(15,13,12).sortlevel(0).ix[('c9','d9'),'A']"
     ],
     "language": "python",
     "metadata": {},
     "outputs": [
      {
       "output_type": "stream",
       "stream": "stdout",
       "text": [
        "t1     0.164534\n",
        "t10    0.334565\n",
        "t11    0.513062\n",
        "t12   -0.440112\n",
        "t2    -1.497564\n",
        "t3     0.395214\n",
        "t4    -0.459269\n",
        "t5     0.057300\n",
        "t6     0.273171\n",
        "t7    -0.530471\n",
        "t8     0.963433\n",
        "t9     1.029361\n",
        "Name: A\n"
       ]
      }
     ],
     "prompt_number": 20
    },
    {
     "cell_type": "code",
     "collapsed": false,
     "input": [
      "df = gen_l3_mi(3,2,2)\n",
      "df"
     ],
     "language": "python",
     "metadata": {},
     "outputs": [
      {
       "html": [
        "<div style=\"max-height:1000px;max-width:1500px;overflow:auto;\">\n",
        "<table border=\"1\" class=\"dataframe\">\n",
        "  <thead>\n",
        "    <tr style=\"text-align: right;\">\n",
        "      <th></th>\n",
        "      <th></th>\n",
        "      <th></th>\n",
        "      <th>A</th>\n",
        "      <th>B</th>\n",
        "      <th>C</th>\n",
        "    </tr>\n",
        "  </thead>\n",
        "  <tbody>\n",
        "    <tr>\n",
        "      <td rowspan=\"4\" valign=\"top\"><strong>c1</strong></td>\n",
        "      <td rowspan=\"2\" valign=\"top\"><strong>d1</strong></td>\n",
        "      <td><strong>t1</strong></td>\n",
        "      <td>-0.646917</td>\n",
        "      <td> 0.156385</td>\n",
        "      <td> 0.622371</td>\n",
        "    </tr>\n",
        "    <tr>\n",
        "      <td><strong>t2</strong></td>\n",
        "      <td>-1.231293</td>\n",
        "      <td> 0.175097</td>\n",
        "      <td> 0.534553</td>\n",
        "    </tr>\n",
        "    <tr>\n",
        "      <td rowspan=\"2\" valign=\"top\"><strong>d2</strong></td>\n",
        "      <td><strong>t1</strong></td>\n",
        "      <td>-0.321600</td>\n",
        "      <td> 2.128348</td>\n",
        "      <td>-0.509573</td>\n",
        "    </tr>\n",
        "    <tr>\n",
        "      <td><strong>t2</strong></td>\n",
        "      <td> 1.126911</td>\n",
        "      <td> 0.189519</td>\n",
        "      <td> 0.858475</td>\n",
        "    </tr>\n",
        "    <tr>\n",
        "      <td rowspan=\"4\" valign=\"top\"><strong>c2</strong></td>\n",
        "      <td rowspan=\"2\" valign=\"top\"><strong>d1</strong></td>\n",
        "      <td><strong>t1</strong></td>\n",
        "      <td>-1.239550</td>\n",
        "      <td> 1.269415</td>\n",
        "      <td>-1.071158</td>\n",
        "    </tr>\n",
        "    <tr>\n",
        "      <td><strong>t2</strong></td>\n",
        "      <td> 1.601417</td>\n",
        "      <td>-1.455928</td>\n",
        "      <td> 0.108298</td>\n",
        "    </tr>\n",
        "    <tr>\n",
        "      <td rowspan=\"2\" valign=\"top\"><strong>d2</strong></td>\n",
        "      <td><strong>t1</strong></td>\n",
        "      <td>-0.458422</td>\n",
        "      <td> 0.164624</td>\n",
        "      <td> 1.136404</td>\n",
        "    </tr>\n",
        "    <tr>\n",
        "      <td><strong>t2</strong></td>\n",
        "      <td> 2.461699</td>\n",
        "      <td> 0.117488</td>\n",
        "      <td>-0.003382</td>\n",
        "    </tr>\n",
        "    <tr>\n",
        "      <td rowspan=\"4\" valign=\"top\"><strong>c3</strong></td>\n",
        "      <td rowspan=\"2\" valign=\"top\"><strong>d1</strong></td>\n",
        "      <td><strong>t1</strong></td>\n",
        "      <td>-0.119333</td>\n",
        "      <td> 0.219455</td>\n",
        "      <td> 1.614008</td>\n",
        "    </tr>\n",
        "    <tr>\n",
        "      <td><strong>t2</strong></td>\n",
        "      <td> 0.769365</td>\n",
        "      <td> 1.724831</td>\n",
        "      <td> 0.781157</td>\n",
        "    </tr>\n",
        "    <tr>\n",
        "      <td rowspan=\"2\" valign=\"top\"><strong>d2</strong></td>\n",
        "      <td><strong>t1</strong></td>\n",
        "      <td>-2.216947</td>\n",
        "      <td> 1.881596</td>\n",
        "      <td>-0.530447</td>\n",
        "    </tr>\n",
        "    <tr>\n",
        "      <td><strong>t2</strong></td>\n",
        "      <td>-2.656972</td>\n",
        "      <td>-1.194518</td>\n",
        "      <td> 0.470877</td>\n",
        "    </tr>\n",
        "  </tbody>\n",
        "</table>\n",
        "</div>"
       ],
       "output_type": "pyout",
       "prompt_number": 21,
       "text": [
        "                 A         B         C\n",
        "c1 d1 t1 -0.646917  0.156385  0.622371\n",
        "      t2 -1.231293  0.175097  0.534553\n",
        "   d2 t1 -0.321600  2.128348 -0.509573\n",
        "      t2  1.126911  0.189519  0.858475\n",
        "c2 d1 t1 -1.239550  1.269415 -1.071158\n",
        "      t2  1.601417 -1.455928  0.108298\n",
        "   d2 t1 -0.458422  0.164624  1.136404\n",
        "      t2  2.461699  0.117488 -0.003382\n",
        "c3 d1 t1 -0.119333  0.219455  1.614008\n",
        "      t2  0.769365  1.724831  0.781157\n",
        "   d2 t1 -2.216947  1.881596 -0.530447\n",
        "      t2 -2.656972 -1.194518  0.470877"
       ]
      }
     ],
     "prompt_number": 21
    },
    {
     "cell_type": "code",
     "collapsed": false,
     "input": [
      "times = df.index.levels[2]\n",
      "times"
     ],
     "language": "python",
     "metadata": {},
     "outputs": [
      {
       "output_type": "pyout",
       "prompt_number": 22,
       "text": [
        "Index([t1, t2], dtype=object)"
       ]
      }
     ],
     "prompt_number": 22
    },
    {
     "cell_type": "code",
     "collapsed": false,
     "input": [
      "d = pd.Series([4,5],index=times)"
     ],
     "language": "python",
     "metadata": {},
     "outputs": [],
     "prompt_number": 23
    },
    {
     "cell_type": "code",
     "collapsed": false,
     "input": [
      "d"
     ],
     "language": "python",
     "metadata": {},
     "outputs": [
      {
       "output_type": "pyout",
       "prompt_number": 24,
       "text": [
        "t1    4\n",
        "t2    5"
       ]
      }
     ],
     "prompt_number": 24
    },
    {
     "cell_type": "code",
     "collapsed": false,
     "input": [
      "df['D']=0.0"
     ],
     "language": "python",
     "metadata": {},
     "outputs": [],
     "prompt_number": 25
    },
    {
     "cell_type": "code",
     "collapsed": false,
     "input": [
      "df.ix['c1'].D"
     ],
     "language": "python",
     "metadata": {},
     "outputs": [
      {
       "output_type": "pyout",
       "prompt_number": 26,
       "text": [
        "d1  t1    0\n",
        "    t2    0\n",
        "d2  t1    0\n",
        "    t2    0\n",
        "Name: D"
       ]
      }
     ],
     "prompt_number": 26
    },
    {
     "cell_type": "code",
     "collapsed": false,
     "input": [
      "df.ix['c1']"
     ],
     "language": "python",
     "metadata": {},
     "outputs": [
      {
       "html": [
        "<div style=\"max-height:1000px;max-width:1500px;overflow:auto;\">\n",
        "<table border=\"1\" class=\"dataframe\">\n",
        "  <thead>\n",
        "    <tr style=\"text-align: right;\">\n",
        "      <th></th>\n",
        "      <th></th>\n",
        "      <th>A</th>\n",
        "      <th>B</th>\n",
        "      <th>C</th>\n",
        "      <th>D</th>\n",
        "    </tr>\n",
        "  </thead>\n",
        "  <tbody>\n",
        "    <tr>\n",
        "      <td rowspan=\"2\" valign=\"top\"><strong>d1</strong></td>\n",
        "      <td><strong>t1</strong></td>\n",
        "      <td>-0.646917</td>\n",
        "      <td> 0.156385</td>\n",
        "      <td> 0.622371</td>\n",
        "      <td> 0</td>\n",
        "    </tr>\n",
        "    <tr>\n",
        "      <td><strong>t2</strong></td>\n",
        "      <td>-1.231293</td>\n",
        "      <td> 0.175097</td>\n",
        "      <td> 0.534553</td>\n",
        "      <td> 0</td>\n",
        "    </tr>\n",
        "    <tr>\n",
        "      <td rowspan=\"2\" valign=\"top\"><strong>d2</strong></td>\n",
        "      <td><strong>t1</strong></td>\n",
        "      <td>-0.321600</td>\n",
        "      <td> 2.128348</td>\n",
        "      <td>-0.509573</td>\n",
        "      <td> 0</td>\n",
        "    </tr>\n",
        "    <tr>\n",
        "      <td><strong>t2</strong></td>\n",
        "      <td> 1.126911</td>\n",
        "      <td> 0.189519</td>\n",
        "      <td> 0.858475</td>\n",
        "      <td> 0</td>\n",
        "    </tr>\n",
        "  </tbody>\n",
        "</table>\n",
        "</div>"
       ],
       "output_type": "pyout",
       "prompt_number": 27,
       "text": [
        "              A         B         C  D\n",
        "d1 t1 -0.646917  0.156385  0.622371  0\n",
        "   t2 -1.231293  0.175097  0.534553  0\n",
        "d2 t1 -0.321600  2.128348 -0.509573  0\n",
        "   t2  1.126911  0.189519  0.858475  0"
       ]
      }
     ],
     "prompt_number": 27
    },
    {
     "cell_type": "code",
     "collapsed": false,
     "input": [
      "df.ix['c1'].D=d.reindex(df.ix['c1'].index,level=1).values"
     ],
     "language": "python",
     "metadata": {},
     "outputs": [],
     "prompt_number": 28
    },
    {
     "cell_type": "code",
     "collapsed": false,
     "input": [
      "rdf = df.reset_index()"
     ],
     "language": "python",
     "metadata": {},
     "outputs": [],
     "prompt_number": 29
    },
    {
     "cell_type": "code",
     "collapsed": false,
     "input": [
      "rdf[rdf.level_0=='c1'].D = 4"
     ],
     "language": "python",
     "metadata": {},
     "outputs": [],
     "prompt_number": 30
    },
    {
     "cell_type": "code",
     "collapsed": false,
     "input": [
      "d"
     ],
     "language": "python",
     "metadata": {},
     "outputs": [
      {
       "output_type": "pyout",
       "prompt_number": 31,
       "text": [
        "t1    4\n",
        "t2    5"
       ]
      }
     ],
     "prompt_number": 31
    },
    {
     "cell_type": "code",
     "collapsed": false,
     "input": [
      "rdf[rdf.level_0=='c1'].D = 4.0"
     ],
     "language": "python",
     "metadata": {},
     "outputs": [],
     "prompt_number": 32
    },
    {
     "cell_type": "code",
     "collapsed": false,
     "input": [
      "rdf.D = 4"
     ],
     "language": "python",
     "metadata": {},
     "outputs": [],
     "prompt_number": 33
    },
    {
     "cell_type": "code",
     "collapsed": false,
     "input": [
      "rdf.D[rdf.level_0=='c1'] = 5"
     ],
     "language": "python",
     "metadata": {},
     "outputs": [],
     "prompt_number": 34
    },
    {
     "cell_type": "code",
     "collapsed": false,
     "input": [
      "rdf[rdf.level_0=='c1'].D = 6"
     ],
     "language": "python",
     "metadata": {},
     "outputs": [],
     "prompt_number": 35
    },
    {
     "cell_type": "code",
     "collapsed": false,
     "input": [
      "df"
     ],
     "language": "python",
     "metadata": {},
     "outputs": [
      {
       "html": [
        "<div style=\"max-height:1000px;max-width:1500px;overflow:auto;\">\n",
        "<table border=\"1\" class=\"dataframe\">\n",
        "  <thead>\n",
        "    <tr style=\"text-align: right;\">\n",
        "      <th></th>\n",
        "      <th></th>\n",
        "      <th></th>\n",
        "      <th>A</th>\n",
        "      <th>B</th>\n",
        "      <th>C</th>\n",
        "      <th>D</th>\n",
        "    </tr>\n",
        "  </thead>\n",
        "  <tbody>\n",
        "    <tr>\n",
        "      <td rowspan=\"4\" valign=\"top\"><strong>c1</strong></td>\n",
        "      <td rowspan=\"2\" valign=\"top\"><strong>d1</strong></td>\n",
        "      <td><strong>t1</strong></td>\n",
        "      <td>-0.646917</td>\n",
        "      <td> 0.156385</td>\n",
        "      <td> 0.622371</td>\n",
        "      <td> 0</td>\n",
        "    </tr>\n",
        "    <tr>\n",
        "      <td><strong>t2</strong></td>\n",
        "      <td>-1.231293</td>\n",
        "      <td> 0.175097</td>\n",
        "      <td> 0.534553</td>\n",
        "      <td> 0</td>\n",
        "    </tr>\n",
        "    <tr>\n",
        "      <td rowspan=\"2\" valign=\"top\"><strong>d2</strong></td>\n",
        "      <td><strong>t1</strong></td>\n",
        "      <td>-0.321600</td>\n",
        "      <td> 2.128348</td>\n",
        "      <td>-0.509573</td>\n",
        "      <td> 0</td>\n",
        "    </tr>\n",
        "    <tr>\n",
        "      <td><strong>t2</strong></td>\n",
        "      <td> 1.126911</td>\n",
        "      <td> 0.189519</td>\n",
        "      <td> 0.858475</td>\n",
        "      <td> 0</td>\n",
        "    </tr>\n",
        "    <tr>\n",
        "      <td rowspan=\"4\" valign=\"top\"><strong>c2</strong></td>\n",
        "      <td rowspan=\"2\" valign=\"top\"><strong>d1</strong></td>\n",
        "      <td><strong>t1</strong></td>\n",
        "      <td>-1.239550</td>\n",
        "      <td> 1.269415</td>\n",
        "      <td>-1.071158</td>\n",
        "      <td> 0</td>\n",
        "    </tr>\n",
        "    <tr>\n",
        "      <td><strong>t2</strong></td>\n",
        "      <td> 1.601417</td>\n",
        "      <td>-1.455928</td>\n",
        "      <td> 0.108298</td>\n",
        "      <td> 0</td>\n",
        "    </tr>\n",
        "    <tr>\n",
        "      <td rowspan=\"2\" valign=\"top\"><strong>d2</strong></td>\n",
        "      <td><strong>t1</strong></td>\n",
        "      <td>-0.458422</td>\n",
        "      <td> 0.164624</td>\n",
        "      <td> 1.136404</td>\n",
        "      <td> 0</td>\n",
        "    </tr>\n",
        "    <tr>\n",
        "      <td><strong>t2</strong></td>\n",
        "      <td> 2.461699</td>\n",
        "      <td> 0.117488</td>\n",
        "      <td>-0.003382</td>\n",
        "      <td> 0</td>\n",
        "    </tr>\n",
        "    <tr>\n",
        "      <td rowspan=\"4\" valign=\"top\"><strong>c3</strong></td>\n",
        "      <td rowspan=\"2\" valign=\"top\"><strong>d1</strong></td>\n",
        "      <td><strong>t1</strong></td>\n",
        "      <td>-0.119333</td>\n",
        "      <td> 0.219455</td>\n",
        "      <td> 1.614008</td>\n",
        "      <td> 0</td>\n",
        "    </tr>\n",
        "    <tr>\n",
        "      <td><strong>t2</strong></td>\n",
        "      <td> 0.769365</td>\n",
        "      <td> 1.724831</td>\n",
        "      <td> 0.781157</td>\n",
        "      <td> 0</td>\n",
        "    </tr>\n",
        "    <tr>\n",
        "      <td rowspan=\"2\" valign=\"top\"><strong>d2</strong></td>\n",
        "      <td><strong>t1</strong></td>\n",
        "      <td>-2.216947</td>\n",
        "      <td> 1.881596</td>\n",
        "      <td>-0.530447</td>\n",
        "      <td> 0</td>\n",
        "    </tr>\n",
        "    <tr>\n",
        "      <td><strong>t2</strong></td>\n",
        "      <td>-2.656972</td>\n",
        "      <td>-1.194518</td>\n",
        "      <td> 0.470877</td>\n",
        "      <td> 0</td>\n",
        "    </tr>\n",
        "  </tbody>\n",
        "</table>\n",
        "</div>"
       ],
       "output_type": "pyout",
       "prompt_number": 36,
       "text": [
        "                 A         B         C  D\n",
        "c1 d1 t1 -0.646917  0.156385  0.622371  0\n",
        "      t2 -1.231293  0.175097  0.534553  0\n",
        "   d2 t1 -0.321600  2.128348 -0.509573  0\n",
        "      t2  1.126911  0.189519  0.858475  0\n",
        "c2 d1 t1 -1.239550  1.269415 -1.071158  0\n",
        "      t2  1.601417 -1.455928  0.108298  0\n",
        "   d2 t1 -0.458422  0.164624  1.136404  0\n",
        "      t2  2.461699  0.117488 -0.003382  0\n",
        "c3 d1 t1 -0.119333  0.219455  1.614008  0\n",
        "      t2  0.769365  1.724831  0.781157  0\n",
        "   d2 t1 -2.216947  1.881596 -0.530447  0\n",
        "      t2 -2.656972 -1.194518  0.470877  0"
       ]
      }
     ],
     "prompt_number": 36
    },
    {
     "cell_type": "code",
     "collapsed": false,
     "input": [
      "df.index.names = ['c','d','t']"
     ],
     "language": "python",
     "metadata": {},
     "outputs": [],
     "prompt_number": 41
    },
    {
     "cell_type": "code",
     "collapsed": false,
     "input": [
      "df"
     ],
     "language": "python",
     "metadata": {},
     "outputs": []
    }
   ],
   "metadata": {}
  }
 ]
}