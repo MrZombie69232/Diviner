{
 "metadata": {
  "name": "marszoo"
 },
 "nbformat": 3,
 "nbformat_minor": 0,
 "worksheets": [
  {
   "cells": [
    {
     "cell_type": "code",
     "collapsed": false,
     "input": [
      "import pandas as pd\n",
      "import diviner as div\n",
      "import calib as c\n",
      "import sys\n",
      "from scipy import ndimage as nd\n",
      "reload(c)"
     ],
     "language": "python",
     "metadata": {},
     "outputs": [
      {
       "output_type": "pyout",
       "prompt_number": 95,
       "text": [
        "<module 'calib' from '/Users/maye/Dropbox/src/diviner/calib.pyc'>"
       ]
      }
     ],
     "prompt_number": 95
    },
    {
     "cell_type": "code",
     "collapsed": false,
     "input": [
      "cd ~/Dropbox/DDocuments/marszoo/"
     ],
     "language": "python",
     "metadata": {},
     "outputs": [
      {
       "output_type": "stream",
       "stream": "stdout",
       "text": [
        "/Users/maye/Dropbox/DDocuments/marszoo\n"
       ]
      }
     ],
     "prompt_number": 96
    },
    {
     "cell_type": "code",
     "collapsed": false,
     "input": [
      "ll"
     ],
     "language": "python",
     "metadata": {},
     "outputs": [
      {
       "output_type": "stream",
       "stream": "stdout",
       "text": [
        "total 54696\r\n",
        "-rw-r--r--@ 1 maye  staff  1111782 Jan 10 00:48 Giza.png\r\n",
        "drwx------@ 4 maye  staff      136 Dec 29 20:20 \u001b[34mMarsMeta\u001b[m\u001b[m/\r\n",
        "-rw-r--r--@ 1 maye  staff    22314 Dec 29 20:19 MarsMeta.zip\r\n",
        "-rw-r--r--  1 maye  staff    13155 Jan  3 16:20 aye_biography.odt\r\n",
        "-rw-r--r--@ 1 maye  staff    82432 Dec 31 09:26 hireport_south_mars_zoo_v2.xls\r\n",
        "-rw-r--r--  1 maye  staff   409150 Dec 31 11:07 hireport_south_mars_zoo_v2_only_fans.numbers\r\n",
        "-rw-r--r--  1 maye  staff    92672 Dec 31 09:30 hireport_south_mars_zoo_v2_only_fans.xls\r\n",
        "-rw-r--r--@ 1 maye  staff   290403 Dec 31 10:30 hireport_south_mars_zoo_v2_only_fans_short.numbers\r\n",
        "-rw-r--r--@ 1 maye  staff    83456 Dec 31 10:31 hireport_south_mars_zoo_v2_only_fans_short.xls\r\n",
        "-rw-r--r--  1 maye  staff  8108878 Jan 11 16:07 image_id_to_urls.csv\r\n",
        "-rw-r--r--  1 maye  staff   172020 Jan  9 19:28 image_id_to_urls.csv.zip\r\n",
        "-rw-r--r--  1 maye  staff  3894272 Jan 11 16:07 image_id_to_urls.xls\r\n",
        "-rw-r--r--@ 1 maye  staff  5877848 Jan  9 15:21 location.csv\r\n",
        "-rw-r--r--@ 1 maye  staff   167896 Jan  9 15:18 location.csv.gz\r\n",
        "-rw-r--r--  1 maye  staff        0 Jan 11 16:07 merged.html\r\n",
        "-rw-r--r--  1 maye  staff  7545671 Jan 10 08:16 merged_by_zoo_index.csv\r\n",
        "-rw-r--r--  1 maye  staff   106312 Jan 10 08:17 merged_by_zoo_index.csv.zip\r\n"
       ]
      }
     ],
     "prompt_number": 97
    },
    {
     "cell_type": "code",
     "collapsed": false,
     "input": [
      "!head location.csv"
     ],
     "language": "python",
     "metadata": {},
     "outputs": [
      {
       "output_type": "stream",
       "stream": "stdout",
       "text": [
        "APF0000ib0,http://hirise-pds.lpl.arizona.edu/download/PDS/EXTRAS/RDR/ESP/ORB_022600_022699/ESP_022699_0985/ESP_022699_0985_RGB.NOMAP.JP2\r\n",
        "APF0000ib1,http://hirise-pds.lpl.arizona.edu/download/PDS/EXTRAS/RDR/ESP/ORB_022600_022699/ESP_022699_0985/ESP_022699_0985_RGB.NOMAP.JP2\r\n",
        "APF0000ib2,http://hirise-pds.lpl.arizona.edu/download/PDS/EXTRAS/RDR/ESP/ORB_022600_022699/ESP_022699_0985/ESP_022699_0985_RGB.NOMAP.JP2\r\n",
        "APF0000ib3,http://hirise-pds.lpl.arizona.edu/download/PDS/EXTRAS/RDR/ESP/ORB_022600_022699/ESP_022699_0985/ESP_022699_0985_RGB.NOMAP.JP2\r\n",
        "APF0000ib4,http://hirise-pds.lpl.arizona.edu/download/PDS/EXTRAS/RDR/ESP/ORB_022600_022699/ESP_022699_0985/ESP_022699_0985_RGB.NOMAP.JP2\r\n",
        "APF0000ib5,http://hirise-pds.lpl.arizona.edu/download/PDS/EXTRAS/RDR/ESP/ORB_022600_022699/ESP_022699_0985/ESP_022699_0985_RGB.NOMAP.JP2\r\n",
        "APF0000ib6,http://hirise-pds.lpl.arizona.edu/download/PDS/EXTRAS/RDR/ESP/ORB_022600_022699/ESP_022699_0985/ESP_022699_0985_RGB.NOMAP.JP2\r\n",
        "APF0000ib7,http://hirise-pds.lpl.arizona.edu/download/PDS/EXTRAS/RDR/ESP/ORB_022600_022699/ESP_022699_0985/ESP_022699_0985_RGB.NOMAP.JP2\r\n",
        "APF0000ib8,http://hirise-pds.lpl.arizona.edu/download/PDS/EXTRAS/RDR/ESP/ORB_022600_022699/ESP_022699_0985/ESP_022699_0985_RGB.NOMAP.JP2\r\n",
        "APF0000ib9,http://hirise-pds.lpl.arizona.edu/download/PDS/EXTRAS/RDR/ESP/ORB_022600_022699/ESP_022699_0985/ESP_022699_0985_RGB.NOMAP.JP2\r\n"
       ]
      }
     ],
     "prompt_number": 98
    },
    {
     "cell_type": "code",
     "collapsed": false,
     "input": [
      "df = pd.io.parsers.read_csv('location.csv',index_col=0, names=['id','url'])"
     ],
     "language": "python",
     "metadata": {},
     "outputs": [],
     "prompt_number": 99
    },
    {
     "cell_type": "code",
     "collapsed": false,
     "input": [
      "df.head()"
     ],
     "language": "python",
     "metadata": {},
     "outputs": [
      {
       "html": [
        "<div style=\"max-height:1000px;max-width:1500px;overflow:auto;\">\n",
        "<table border=\"1\" class=\"dataframe\">\n",
        "  <thead>\n",
        "    <tr style=\"text-align: right;\">\n",
        "      <th></th>\n",
        "      <th>url</th>\n",
        "    </tr>\n",
        "    <tr>\n",
        "      <th>id</th>\n",
        "      <th></th>\n",
        "    </tr>\n",
        "  </thead>\n",
        "  <tbody>\n",
        "    <tr>\n",
        "      <td><strong>APF0000ib0</strong></td>\n",
        "      <td> http://hirise-pds.lpl.arizona.edu/download/PDS...</td>\n",
        "    </tr>\n",
        "    <tr>\n",
        "      <td><strong>APF0000ib1</strong></td>\n",
        "      <td> http://hirise-pds.lpl.arizona.edu/download/PDS...</td>\n",
        "    </tr>\n",
        "    <tr>\n",
        "      <td><strong>APF0000ib2</strong></td>\n",
        "      <td> http://hirise-pds.lpl.arizona.edu/download/PDS...</td>\n",
        "    </tr>\n",
        "    <tr>\n",
        "      <td><strong>APF0000ib3</strong></td>\n",
        "      <td> http://hirise-pds.lpl.arizona.edu/download/PDS...</td>\n",
        "    </tr>\n",
        "    <tr>\n",
        "      <td><strong>APF0000ib4</strong></td>\n",
        "      <td> http://hirise-pds.lpl.arizona.edu/download/PDS...</td>\n",
        "    </tr>\n",
        "  </tbody>\n",
        "</table>\n",
        "</div>"
       ],
       "output_type": "pyout",
       "prompt_number": 100,
       "text": [
        "                                                          url\n",
        "id                                                           \n",
        "APF0000ib0  http://hirise-pds.lpl.arizona.edu/download/PDS...\n",
        "APF0000ib1  http://hirise-pds.lpl.arizona.edu/download/PDS...\n",
        "APF0000ib2  http://hirise-pds.lpl.arizona.edu/download/PDS...\n",
        "APF0000ib3  http://hirise-pds.lpl.arizona.edu/download/PDS...\n",
        "APF0000ib4  http://hirise-pds.lpl.arizona.edu/download/PDS..."
       ]
      }
     ],
     "prompt_number": 100
    },
    {
     "cell_type": "code",
     "collapsed": false,
     "input": [
      "s = df.url"
     ],
     "language": "python",
     "metadata": {},
     "outputs": [],
     "prompt_number": 101
    },
    {
     "cell_type": "code",
     "collapsed": false,
     "input": [
      "s.get_value('APF0000puh')"
     ],
     "language": "python",
     "metadata": {},
     "outputs": [
      {
       "output_type": "pyout",
       "prompt_number": 102,
       "text": [
        "'http://hirise-pds.lpl.arizona.edu/download/PDS/EXTRAS/RDR/ESP/ORB_020300_020399/ESP_020357_0950/ESP_020357_0950_RGB.NOMAP.JP2'"
       ]
      }
     ],
     "prompt_number": 102
    },
    {
     "cell_type": "code",
     "collapsed": false,
     "input": [
      "import os.path\n",
      "def get_obs_id(value):\n",
      "    basename = os.path.basename(value)\n",
      "    return \"_\".join(basename.split(\"_\")[:3])"
     ],
     "language": "python",
     "metadata": {},
     "outputs": [],
     "prompt_number": 103
    },
    {
     "cell_type": "code",
     "collapsed": false,
     "input": [
      "df['obsid']=df.url.map(get_obs_id)"
     ],
     "language": "python",
     "metadata": {},
     "outputs": [],
     "prompt_number": 104
    },
    {
     "cell_type": "code",
     "collapsed": false,
     "input": [
      "obsid = df.obsid"
     ],
     "language": "python",
     "metadata": {},
     "outputs": [],
     "prompt_number": 105
    },
    {
     "cell_type": "code",
     "collapsed": false,
     "input": [
      "obsid.get_value('APF0000puh')"
     ],
     "language": "python",
     "metadata": {},
     "outputs": [
      {
       "output_type": "pyout",
       "prompt_number": 106,
       "text": [
        "'ESP_020357_0950'"
       ]
      }
     ],
     "prompt_number": 106
    },
    {
     "cell_type": "code",
     "collapsed": false,
     "input": [
      "df"
     ],
     "language": "python",
     "metadata": {},
     "outputs": [
      {
       "output_type": "pyout",
       "prompt_number": 107,
       "text": [
        "<class 'pandas.core.frame.DataFrame'>\n",
        "Index: 42904 entries, APF0000ib0 to APF0000x3s\n",
        "Data columns:\n",
        "url      42904  non-null values\n",
        "obsid    42904  non-null values\n",
        "dtypes: object(2)"
       ]
      }
     ],
     "prompt_number": 107
    },
    {
     "cell_type": "code",
     "collapsed": false,
     "input": [
      "pwd"
     ],
     "language": "python",
     "metadata": {},
     "outputs": [
      {
       "output_type": "pyout",
       "prompt_number": 108,
       "text": [
        "u'/Users/maye/Dropbox/DDocuments/marszoo'"
       ]
      }
     ],
     "prompt_number": 108
    },
    {
     "cell_type": "code",
     "collapsed": false,
     "input": [
      "def add_uahirise(value):\n",
      "    return \"http://uahirise.org/\"+value"
     ],
     "language": "python",
     "metadata": {},
     "outputs": [],
     "prompt_number": 109
    },
    {
     "cell_type": "code",
     "collapsed": false,
     "input": [
      "df['home_url'] = df.obsid.map(add_uahirise)"
     ],
     "language": "python",
     "metadata": {},
     "outputs": [],
     "prompt_number": 110
    },
    {
     "cell_type": "code",
     "collapsed": false,
     "input": [
      "df"
     ],
     "language": "python",
     "metadata": {},
     "outputs": [
      {
       "output_type": "pyout",
       "prompt_number": 111,
       "text": [
        "<class 'pandas.core.frame.DataFrame'>\n",
        "Index: 42904 entries, APF0000ib0 to APF0000x3s\n",
        "Data columns:\n",
        "url         42904  non-null values\n",
        "obsid       42904  non-null values\n",
        "home_url    42904  non-null values\n",
        "dtypes: object(3)"
       ]
      }
     ],
     "prompt_number": 111
    },
    {
     "cell_type": "code",
     "collapsed": false,
     "input": [
      "df.ix['APF0000tma']"
     ],
     "language": "python",
     "metadata": {},
     "outputs": [
      {
       "output_type": "pyout",
       "prompt_number": 112,
       "text": [
        "url         http://hirise-pds.lpl.arizona.edu/download/PDS...\n",
        "obsid                                         ESP_020427_0930\n",
        "home_url                  http://uahirise.org/ESP_020427_0930\n",
        "Name: APF0000tma"
       ]
      }
     ],
     "prompt_number": 112
    },
    {
     "cell_type": "code",
     "collapsed": false,
     "input": [
      "df.to_excel('image_id_to_urls.xls')"
     ],
     "language": "python",
     "metadata": {},
     "outputs": [],
     "prompt_number": 113
    },
    {
     "cell_type": "code",
     "collapsed": false,
     "input": [
      "df.to_csv('image_id_to_urls.csv')"
     ],
     "language": "python",
     "metadata": {},
     "outputs": [],
     "prompt_number": 114
    },
    {
     "cell_type": "code",
     "collapsed": false,
     "input": [
      "df.ix['APF0000hen']"
     ],
     "language": "python",
     "metadata": {},
     "outputs": [
      {
       "output_type": "pyout",
       "prompt_number": 115,
       "text": [
        "url         http://hirise-pds.lpl.arizona.edu/download/PDS...\n",
        "obsid                                         ESP_012648_0930\n",
        "home_url                  http://uahirise.org/ESP_012648_0930\n",
        "Name: APF0000hen"
       ]
      }
     ],
     "prompt_number": 115
    },
    {
     "cell_type": "code",
     "collapsed": false,
     "input": [
      "excel = pd.io.parsers.ExcelFile('./hireport_south_mars_zoo_v2.xls')"
     ],
     "language": "python",
     "metadata": {},
     "outputs": [],
     "prompt_number": 116
    },
    {
     "cell_type": "code",
     "collapsed": false,
     "input": [
      "south_year_2 = excel.parse('South_year_2',index_col=0,skiprows=0)"
     ],
     "language": "python",
     "metadata": {},
     "outputs": [],
     "prompt_number": 117
    },
    {
     "cell_type": "code",
     "collapsed": false,
     "input": [
      "south_year_3 = excel.parse(\"South_year_3\",index_col=0)"
     ],
     "language": "python",
     "metadata": {},
     "outputs": [],
     "prompt_number": 118
    },
    {
     "cell_type": "code",
     "collapsed": false,
     "input": [
      "south_y2 = south_year_2.dropna(how='all')"
     ],
     "language": "python",
     "metadata": {},
     "outputs": [],
     "prompt_number": 119
    },
    {
     "cell_type": "code",
     "collapsed": false,
     "input": [
      "south_y2 = south_y2.dropna(axis=1,how='all')"
     ],
     "language": "python",
     "metadata": {},
     "outputs": [],
     "prompt_number": 120
    },
    {
     "cell_type": "code",
     "collapsed": false,
     "input": [
      "times = south_y2.time.astype(pd.datetime)"
     ],
     "language": "python",
     "metadata": {},
     "outputs": [],
     "prompt_number": 121
    },
    {
     "cell_type": "code",
     "collapsed": false,
     "input": [
      "from datetime import datetime"
     ],
     "language": "python",
     "metadata": {},
     "outputs": [],
     "prompt_number": 122
    },
    {
     "cell_type": "code",
     "collapsed": false,
     "input": [
      "from dateutil import parser\n",
      "def to_pd_time(value):\n",
      "    return pd.Timestamp(datetime.strptime(value, '%Y-%b-%d-%jT%H:%M:%S'))"
     ],
     "language": "python",
     "metadata": {},
     "outputs": [],
     "prompt_number": 123
    },
    {
     "cell_type": "code",
     "collapsed": false,
     "input": [
      "dtimes = south_y2.time.map(to_pd_time)"
     ],
     "language": "python",
     "metadata": {},
     "outputs": [],
     "prompt_number": 124
    },
    {
     "cell_type": "code",
     "collapsed": false,
     "input": [
      "south_y2.time = pd.DatetimeIndex(dtimes)"
     ],
     "language": "python",
     "metadata": {},
     "outputs": [],
     "prompt_number": 125
    },
    {
     "cell_type": "code",
     "collapsed": false,
     "input": [
      "y2 = south_y2"
     ],
     "language": "python",
     "metadata": {},
     "outputs": [],
     "prompt_number": 126
    },
    {
     "cell_type": "code",
     "collapsed": false,
     "input": [
      "y2['year']='year2'"
     ],
     "language": "python",
     "metadata": {},
     "outputs": [],
     "prompt_number": 127
    },
    {
     "cell_type": "code",
     "collapsed": false,
     "input": [
      "y2_time= y2.set_index('time')"
     ],
     "language": "python",
     "metadata": {},
     "outputs": [],
     "prompt_number": 128
    },
    {
     "cell_type": "code",
     "collapsed": false,
     "input": [
      "y2.head()"
     ],
     "language": "python",
     "metadata": {},
     "outputs": [
      {
       "html": [
        "<div style=\"max-height:1000px;max-width:1500px;overflow:auto;\">\n",
        "<table border=\"1\" class=\"dataframe\">\n",
        "  <thead>\n",
        "    <tr style=\"text-align: right;\">\n",
        "      <th></th>\n",
        "      <th>lat\u00ac\u221e</th>\n",
        "      <th>lon\u00ac\u221e</th>\n",
        "      <th>Ls\u00ac\u221e</th>\n",
        "      <th>time</th>\n",
        "      <th>Comment</th>\n",
        "      <th>Unnamed: 9</th>\n",
        "      <th>Unnamed: 12</th>\n",
        "      <th>year</th>\n",
        "    </tr>\n",
        "    <tr>\n",
        "      <th>Observation_id</th>\n",
        "      <th></th>\n",
        "      <th></th>\n",
        "      <th></th>\n",
        "      <th></th>\n",
        "      <th></th>\n",
        "      <th></th>\n",
        "      <th></th>\n",
        "      <th></th>\n",
        "    </tr>\n",
        "  </thead>\n",
        "  <tbody>\n",
        "    <tr>\n",
        "      <td><strong>ESP_012254_1065</strong></td>\n",
        "      <td>-73.474</td>\n",
        "      <td> 339.506</td>\n",
        "      <td> 223.223</td>\n",
        "      <td>2009-03-08 07:51:45</td>\n",
        "      <td> 32792 OMEGA observes here transformation of CO...</td>\n",
        "      <td> NaN</td>\n",
        "      <td> NaN</td>\n",
        "      <td> year2</td>\n",
        "    </tr>\n",
        "    <tr>\n",
        "      <td><strong>ESP_012887_1065</strong></td>\n",
        "      <td>-73.474</td>\n",
        "      <td> 339.506</td>\n",
        "      <td> 254.349</td>\n",
        "      <td>2009-04-26 15:38:48</td>\n",
        "      <td> 32794 Carbon dioxide transformation from snow ...</td>\n",
        "      <td> NaN</td>\n",
        "      <td> NaN</td>\n",
        "      <td> year2</td>\n",
        "    </tr>\n",
        "    <tr>\n",
        "      <td><strong>ESP_011680_1055</strong></td>\n",
        "      <td>-74.225</td>\n",
        "      <td> 168.513</td>\n",
        "      <td> 196.067</td>\n",
        "      <td>2009-01-22 14:25:53</td>\n",
        "      <td>     4188 Caterpillar evolution Seasonal Processes</td>\n",
        "      <td> NaN</td>\n",
        "      <td> NaN</td>\n",
        "      <td> year2</td>\n",
        "    </tr>\n",
        "    <tr>\n",
        "      <td><strong>ESP_013113_0985</strong></td>\n",
        "      <td>-81.321</td>\n",
        "      <td> 295.719</td>\n",
        "      <td> 265.501</td>\n",
        "      <td>2009-05-14 06:13:50</td>\n",
        "      <td> 11128 Inca City and monitoring of spider evolu...</td>\n",
        "      <td> NaN</td>\n",
        "      <td> NaN</td>\n",
        "      <td> year2</td>\n",
        "    </tr>\n",
        "    <tr>\n",
        "      <td><strong>ESP_013034_0985</strong></td>\n",
        "      <td>-81.321</td>\n",
        "      <td> 295.719</td>\n",
        "      <td> 261.609</td>\n",
        "      <td>2009-05-08 02:29:58</td>\n",
        "      <td> 11124 Inca City and monitoring of spider evolu...</td>\n",
        "      <td> NaN</td>\n",
        "      <td> NaN</td>\n",
        "      <td> year2</td>\n",
        "    </tr>\n",
        "  </tbody>\n",
        "</table>\n",
        "</div>"
       ],
       "output_type": "pyout",
       "prompt_number": 129,
       "text": [
        "                  lat\u00ac\u221e    lon\u00ac\u221e     Ls\u00ac\u221e                time  \\\n",
        "Observation_id                                                  \n",
        "ESP_012254_1065 -73.474  339.506  223.223 2009-03-08 07:51:45   \n",
        "ESP_012887_1065 -73.474  339.506  254.349 2009-04-26 15:38:48   \n",
        "ESP_011680_1055 -74.225  168.513  196.067 2009-01-22 14:25:53   \n",
        "ESP_013113_0985 -81.321  295.719  265.501 2009-05-14 06:13:50   \n",
        "ESP_013034_0985 -81.321  295.719  261.609 2009-05-08 02:29:58   \n",
        "\n",
        "                                                           Comment Unnamed: 9  \\\n",
        "Observation_id                                                                  \n",
        "ESP_012254_1065  32792 OMEGA observes here transformation of CO...        NaN   \n",
        "ESP_012887_1065  32794 Carbon dioxide transformation from snow ...        NaN   \n",
        "ESP_011680_1055      4188 Caterpillar evolution Seasonal Processes        NaN   \n",
        "ESP_013113_0985  11128 Inca City and monitoring of spider evolu...        NaN   \n",
        "ESP_013034_0985  11124 Inca City and monitoring of spider evolu...        NaN   \n",
        "\n",
        "                Unnamed: 12   year  \n",
        "Observation_id                      \n",
        "ESP_012254_1065         NaN  year2  \n",
        "ESP_012887_1065         NaN  year2  \n",
        "ESP_011680_1055         NaN  year2  \n",
        "ESP_013113_0985         NaN  year2  \n",
        "ESP_013034_0985         NaN  year2  "
       ]
      }
     ],
     "prompt_number": 129
    },
    {
     "cell_type": "code",
     "collapsed": false,
     "input": [
      "merged = pd.merge(y2,df,left_index=True, right_on='obsid')"
     ],
     "language": "python",
     "metadata": {},
     "outputs": [],
     "prompt_number": 130
    },
    {
     "cell_type": "code",
     "collapsed": false,
     "input": [
      "merged.head()"
     ],
     "language": "python",
     "metadata": {},
     "outputs": [
      {
       "html": [
        "<div style=\"max-height:1000px;max-width:1500px;overflow:auto;\">\n",
        "<table border=\"1\" class=\"dataframe\">\n",
        "  <thead>\n",
        "    <tr style=\"text-align: right;\">\n",
        "      <th></th>\n",
        "      <th>lat\u00ac\u221e</th>\n",
        "      <th>lon\u00ac\u221e</th>\n",
        "      <th>Ls\u00ac\u221e</th>\n",
        "      <th>time</th>\n",
        "      <th>Comment</th>\n",
        "      <th>Unnamed: 9</th>\n",
        "      <th>Unnamed: 12</th>\n",
        "      <th>year</th>\n",
        "      <th>url</th>\n",
        "      <th>obsid</th>\n",
        "      <th>home_url</th>\n",
        "    </tr>\n",
        "    <tr>\n",
        "      <th>id</th>\n",
        "      <th></th>\n",
        "      <th></th>\n",
        "      <th></th>\n",
        "      <th></th>\n",
        "      <th></th>\n",
        "      <th></th>\n",
        "      <th></th>\n",
        "      <th></th>\n",
        "      <th></th>\n",
        "      <th></th>\n",
        "      <th></th>\n",
        "    </tr>\n",
        "  </thead>\n",
        "  <tbody>\n",
        "    <tr>\n",
        "      <td><strong>APF0000001</strong></td>\n",
        "      <td>-73.474</td>\n",
        "      <td> 339.506</td>\n",
        "      <td> 223.223</td>\n",
        "      <td>2009-03-08 07:51:45</td>\n",
        "      <td> 32792 OMEGA observes here transformation of CO...</td>\n",
        "      <td> NaN</td>\n",
        "      <td> NaN</td>\n",
        "      <td> year2</td>\n",
        "      <td> http://hirise-pds.lpl.arizona.edu/download/PDS...</td>\n",
        "      <td> ESP_012254_1065</td>\n",
        "      <td> http://uahirise.org/ESP_012254_1065</td>\n",
        "    </tr>\n",
        "    <tr>\n",
        "      <td><strong>APF0000002</strong></td>\n",
        "      <td>-73.474</td>\n",
        "      <td> 339.506</td>\n",
        "      <td> 223.223</td>\n",
        "      <td>2009-03-08 07:51:45</td>\n",
        "      <td> 32792 OMEGA observes here transformation of CO...</td>\n",
        "      <td> NaN</td>\n",
        "      <td> NaN</td>\n",
        "      <td> year2</td>\n",
        "      <td> http://hirise-pds.lpl.arizona.edu/download/PDS...</td>\n",
        "      <td> ESP_012254_1065</td>\n",
        "      <td> http://uahirise.org/ESP_012254_1065</td>\n",
        "    </tr>\n",
        "    <tr>\n",
        "      <td><strong>APF0000003</strong></td>\n",
        "      <td>-73.474</td>\n",
        "      <td> 339.506</td>\n",
        "      <td> 223.223</td>\n",
        "      <td>2009-03-08 07:51:45</td>\n",
        "      <td> 32792 OMEGA observes here transformation of CO...</td>\n",
        "      <td> NaN</td>\n",
        "      <td> NaN</td>\n",
        "      <td> year2</td>\n",
        "      <td> http://hirise-pds.lpl.arizona.edu/download/PDS...</td>\n",
        "      <td> ESP_012254_1065</td>\n",
        "      <td> http://uahirise.org/ESP_012254_1065</td>\n",
        "    </tr>\n",
        "    <tr>\n",
        "      <td><strong>APF0000004</strong></td>\n",
        "      <td>-73.474</td>\n",
        "      <td> 339.506</td>\n",
        "      <td> 223.223</td>\n",
        "      <td>2009-03-08 07:51:45</td>\n",
        "      <td> 32792 OMEGA observes here transformation of CO...</td>\n",
        "      <td> NaN</td>\n",
        "      <td> NaN</td>\n",
        "      <td> year2</td>\n",
        "      <td> http://hirise-pds.lpl.arizona.edu/download/PDS...</td>\n",
        "      <td> ESP_012254_1065</td>\n",
        "      <td> http://uahirise.org/ESP_012254_1065</td>\n",
        "    </tr>\n",
        "    <tr>\n",
        "      <td><strong>APF0000005</strong></td>\n",
        "      <td>-73.474</td>\n",
        "      <td> 339.506</td>\n",
        "      <td> 223.223</td>\n",
        "      <td>2009-03-08 07:51:45</td>\n",
        "      <td> 32792 OMEGA observes here transformation of CO...</td>\n",
        "      <td> NaN</td>\n",
        "      <td> NaN</td>\n",
        "      <td> year2</td>\n",
        "      <td> http://hirise-pds.lpl.arizona.edu/download/PDS...</td>\n",
        "      <td> ESP_012254_1065</td>\n",
        "      <td> http://uahirise.org/ESP_012254_1065</td>\n",
        "    </tr>\n",
        "  </tbody>\n",
        "</table>\n",
        "</div>"
       ],
       "output_type": "pyout",
       "prompt_number": 131,
       "text": [
        "             lat\u00ac\u221e    lon\u00ac\u221e     Ls\u00ac\u221e                time  \\\n",
        "id                                                         \n",
        "APF0000001 -73.474  339.506  223.223 2009-03-08 07:51:45   \n",
        "APF0000002 -73.474  339.506  223.223 2009-03-08 07:51:45   \n",
        "APF0000003 -73.474  339.506  223.223 2009-03-08 07:51:45   \n",
        "APF0000004 -73.474  339.506  223.223 2009-03-08 07:51:45   \n",
        "APF0000005 -73.474  339.506  223.223 2009-03-08 07:51:45   \n",
        "\n",
        "                                                      Comment Unnamed: 9  \\\n",
        "id                                                                         \n",
        "APF0000001  32792 OMEGA observes here transformation of CO...        NaN   \n",
        "APF0000002  32792 OMEGA observes here transformation of CO...        NaN   \n",
        "APF0000003  32792 OMEGA observes here transformation of CO...        NaN   \n",
        "APF0000004  32792 OMEGA observes here transformation of CO...        NaN   \n",
        "APF0000005  32792 OMEGA observes here transformation of CO...        NaN   \n",
        "\n",
        "           Unnamed: 12   year                                                url  \\\n",
        "id                                                                                 \n",
        "APF0000001         NaN  year2  http://hirise-pds.lpl.arizona.edu/download/PDS...   \n",
        "APF0000002         NaN  year2  http://hirise-pds.lpl.arizona.edu/download/PDS...   \n",
        "APF0000003         NaN  year2  http://hirise-pds.lpl.arizona.edu/download/PDS...   \n",
        "APF0000004         NaN  year2  http://hirise-pds.lpl.arizona.edu/download/PDS...   \n",
        "APF0000005         NaN  year2  http://hirise-pds.lpl.arizona.edu/download/PDS...   \n",
        "\n",
        "                      obsid                             home_url  \n",
        "id                                                                \n",
        "APF0000001  ESP_012254_1065  http://uahirise.org/ESP_012254_1065  \n",
        "APF0000002  ESP_012254_1065  http://uahirise.org/ESP_012254_1065  \n",
        "APF0000003  ESP_012254_1065  http://uahirise.org/ESP_012254_1065  \n",
        "APF0000004  ESP_012254_1065  http://uahirise.org/ESP_012254_1065  \n",
        "APF0000005  ESP_012254_1065  http://uahirise.org/ESP_012254_1065  "
       ]
      }
     ],
     "prompt_number": 131
    },
    {
     "cell_type": "code",
     "collapsed": false,
     "input": [
      "f = open('merged.html','w')"
     ],
     "language": "python",
     "metadata": {},
     "outputs": [],
     "prompt_number": 132
    },
    {
     "cell_type": "code",
     "collapsed": false,
     "input": [
      "f.close()"
     ],
     "language": "python",
     "metadata": {},
     "outputs": [],
     "prompt_number": 133
    },
    {
     "cell_type": "code",
     "collapsed": false,
     "input": [
      "y3 = south_year_3"
     ],
     "language": "python",
     "metadata": {},
     "outputs": [],
     "prompt_number": 134
    },
    {
     "cell_type": "code",
     "collapsed": false,
     "input": [
      "y3.columns = ['lat','lon','Ls','Unnamed4','Comment','time','Unnamed7','Unnamed8','Unnamed9']"
     ],
     "language": "python",
     "metadata": {},
     "outputs": [],
     "prompt_number": 135
    },
    {
     "cell_type": "code",
     "collapsed": false,
     "input": [
      "y3 = y3.dropna(how='all',axis=1)"
     ],
     "language": "python",
     "metadata": {},
     "outputs": [],
     "prompt_number": 136
    },
    {
     "cell_type": "code",
     "collapsed": false,
     "input": [
      "y3.columns"
     ],
     "language": "python",
     "metadata": {},
     "outputs": [
      {
       "output_type": "pyout",
       "prompt_number": 137,
       "text": [
        "Index([lat, lon, Ls, Comment, time, Unnamed8, Unnamed9], dtype=object)"
       ]
      }
     ],
     "prompt_number": 137
    },
    {
     "cell_type": "code",
     "collapsed": false,
     "input": [
      "y3.Unnamed9.unique()"
     ],
     "language": "python",
     "metadata": {},
     "outputs": [
      {
       "output_type": "pyout",
       "prompt_number": 138,
       "text": [
        "array([nan, version 1, version 2, Advanced], dtype=object)"
       ]
      }
     ],
     "prompt_number": 138
    },
    {
     "cell_type": "code",
     "collapsed": false,
     "input": [
      "y3 = y3.dropna(how='all')"
     ],
     "language": "python",
     "metadata": {},
     "outputs": [],
     "prompt_number": 139
    },
    {
     "cell_type": "code",
     "collapsed": false,
     "input": [
      "y3 = y3.dropna(how='all',axis=1)"
     ],
     "language": "python",
     "metadata": {},
     "outputs": [],
     "prompt_number": 140
    },
    {
     "cell_type": "code",
     "collapsed": false,
     "input": [
      "y3.time = pd.DatetimeIndex(y3.time.map(to_pd_time))"
     ],
     "language": "python",
     "metadata": {},
     "outputs": [],
     "prompt_number": 141
    },
    {
     "cell_type": "code",
     "collapsed": false,
     "input": [
      "y2.columns"
     ],
     "language": "python",
     "metadata": {},
     "outputs": [
      {
       "output_type": "pyout",
       "prompt_number": 142,
       "text": [
        "Index([lat\u00ac\u221e, lon\u00ac\u221e, Ls\u00ac\u221e, time, Comment, Unnamed: 9, Unnamed: 12, year], dtype=object)"
       ]
      }
     ],
     "prompt_number": 142
    },
    {
     "cell_type": "code",
     "collapsed": false,
     "input": [
      "y3['year']='year3'"
     ],
     "language": "python",
     "metadata": {},
     "outputs": [],
     "prompt_number": 143
    },
    {
     "cell_type": "code",
     "collapsed": false,
     "input": [
      "y3.columns"
     ],
     "language": "python",
     "metadata": {},
     "outputs": [
      {
       "output_type": "pyout",
       "prompt_number": 144,
       "text": [
        "Index([lat, lon, Ls, Comment, time, Unnamed8, Unnamed9, year], dtype=object)"
       ]
      }
     ],
     "prompt_number": 144
    },
    {
     "cell_type": "code",
     "collapsed": false,
     "input": [
      "merged3 = pd.merge(y3,df,left_index=True, right_on='obsid')"
     ],
     "language": "python",
     "metadata": {},
     "outputs": [],
     "prompt_number": 146
    },
    {
     "cell_type": "code",
     "collapsed": false,
     "input": [
      "merged.columns"
     ],
     "language": "python",
     "metadata": {},
     "outputs": [
      {
       "output_type": "pyout",
       "prompt_number": 147,
       "text": [
        "Index([lat\u00ac\u221e, lon\u00ac\u221e, Ls\u00ac\u221e, time, Comment, Unnamed: 9, Unnamed: 12, year, url, obsid, home_url], dtype=object)"
       ]
      }
     ],
     "prompt_number": 147
    },
    {
     "cell_type": "code",
     "collapsed": false,
     "input": [
      "merged3.columns"
     ],
     "language": "python",
     "metadata": {},
     "outputs": [
      {
       "output_type": "pyout",
       "prompt_number": 148,
       "text": [
        "Index([lat, lon, Ls, Comment, time, Unnamed8, Unnamed9, year, url, obsid, home_url], dtype=object)"
       ]
      }
     ],
     "prompt_number": 148
    },
    {
     "cell_type": "code",
     "collapsed": false,
     "input": [
      "merged.head()"
     ],
     "language": "python",
     "metadata": {},
     "outputs": [
      {
       "html": [
        "<div style=\"max-height:1000px;max-width:1500px;overflow:auto;\">\n",
        "<table border=\"1\" class=\"dataframe\">\n",
        "  <thead>\n",
        "    <tr style=\"text-align: right;\">\n",
        "      <th></th>\n",
        "      <th>lat\u00ac\u221e</th>\n",
        "      <th>lon\u00ac\u221e</th>\n",
        "      <th>Ls\u00ac\u221e</th>\n",
        "      <th>time</th>\n",
        "      <th>Comment</th>\n",
        "      <th>Unnamed: 9</th>\n",
        "      <th>Unnamed: 12</th>\n",
        "      <th>year</th>\n",
        "      <th>url</th>\n",
        "      <th>obsid</th>\n",
        "      <th>home_url</th>\n",
        "    </tr>\n",
        "    <tr>\n",
        "      <th>id</th>\n",
        "      <th></th>\n",
        "      <th></th>\n",
        "      <th></th>\n",
        "      <th></th>\n",
        "      <th></th>\n",
        "      <th></th>\n",
        "      <th></th>\n",
        "      <th></th>\n",
        "      <th></th>\n",
        "      <th></th>\n",
        "      <th></th>\n",
        "    </tr>\n",
        "  </thead>\n",
        "  <tbody>\n",
        "    <tr>\n",
        "      <td><strong>APF0000001</strong></td>\n",
        "      <td>-73.474</td>\n",
        "      <td> 339.506</td>\n",
        "      <td> 223.223</td>\n",
        "      <td>2009-03-08 07:51:45</td>\n",
        "      <td> 32792 OMEGA observes here transformation of CO...</td>\n",
        "      <td> NaN</td>\n",
        "      <td> NaN</td>\n",
        "      <td> year2</td>\n",
        "      <td> http://hirise-pds.lpl.arizona.edu/download/PDS...</td>\n",
        "      <td> ESP_012254_1065</td>\n",
        "      <td> http://uahirise.org/ESP_012254_1065</td>\n",
        "    </tr>\n",
        "    <tr>\n",
        "      <td><strong>APF0000002</strong></td>\n",
        "      <td>-73.474</td>\n",
        "      <td> 339.506</td>\n",
        "      <td> 223.223</td>\n",
        "      <td>2009-03-08 07:51:45</td>\n",
        "      <td> 32792 OMEGA observes here transformation of CO...</td>\n",
        "      <td> NaN</td>\n",
        "      <td> NaN</td>\n",
        "      <td> year2</td>\n",
        "      <td> http://hirise-pds.lpl.arizona.edu/download/PDS...</td>\n",
        "      <td> ESP_012254_1065</td>\n",
        "      <td> http://uahirise.org/ESP_012254_1065</td>\n",
        "    </tr>\n",
        "    <tr>\n",
        "      <td><strong>APF0000003</strong></td>\n",
        "      <td>-73.474</td>\n",
        "      <td> 339.506</td>\n",
        "      <td> 223.223</td>\n",
        "      <td>2009-03-08 07:51:45</td>\n",
        "      <td> 32792 OMEGA observes here transformation of CO...</td>\n",
        "      <td> NaN</td>\n",
        "      <td> NaN</td>\n",
        "      <td> year2</td>\n",
        "      <td> http://hirise-pds.lpl.arizona.edu/download/PDS...</td>\n",
        "      <td> ESP_012254_1065</td>\n",
        "      <td> http://uahirise.org/ESP_012254_1065</td>\n",
        "    </tr>\n",
        "    <tr>\n",
        "      <td><strong>APF0000004</strong></td>\n",
        "      <td>-73.474</td>\n",
        "      <td> 339.506</td>\n",
        "      <td> 223.223</td>\n",
        "      <td>2009-03-08 07:51:45</td>\n",
        "      <td> 32792 OMEGA observes here transformation of CO...</td>\n",
        "      <td> NaN</td>\n",
        "      <td> NaN</td>\n",
        "      <td> year2</td>\n",
        "      <td> http://hirise-pds.lpl.arizona.edu/download/PDS...</td>\n",
        "      <td> ESP_012254_1065</td>\n",
        "      <td> http://uahirise.org/ESP_012254_1065</td>\n",
        "    </tr>\n",
        "    <tr>\n",
        "      <td><strong>APF0000005</strong></td>\n",
        "      <td>-73.474</td>\n",
        "      <td> 339.506</td>\n",
        "      <td> 223.223</td>\n",
        "      <td>2009-03-08 07:51:45</td>\n",
        "      <td> 32792 OMEGA observes here transformation of CO...</td>\n",
        "      <td> NaN</td>\n",
        "      <td> NaN</td>\n",
        "      <td> year2</td>\n",
        "      <td> http://hirise-pds.lpl.arizona.edu/download/PDS...</td>\n",
        "      <td> ESP_012254_1065</td>\n",
        "      <td> http://uahirise.org/ESP_012254_1065</td>\n",
        "    </tr>\n",
        "  </tbody>\n",
        "</table>\n",
        "</div>"
       ],
       "output_type": "pyout",
       "prompt_number": 149,
       "text": [
        "             lat\u00ac\u221e    lon\u00ac\u221e     Ls\u00ac\u221e                time  \\\n",
        "id                                                         \n",
        "APF0000001 -73.474  339.506  223.223 2009-03-08 07:51:45   \n",
        "APF0000002 -73.474  339.506  223.223 2009-03-08 07:51:45   \n",
        "APF0000003 -73.474  339.506  223.223 2009-03-08 07:51:45   \n",
        "APF0000004 -73.474  339.506  223.223 2009-03-08 07:51:45   \n",
        "APF0000005 -73.474  339.506  223.223 2009-03-08 07:51:45   \n",
        "\n",
        "                                                      Comment Unnamed: 9  \\\n",
        "id                                                                         \n",
        "APF0000001  32792 OMEGA observes here transformation of CO...        NaN   \n",
        "APF0000002  32792 OMEGA observes here transformation of CO...        NaN   \n",
        "APF0000003  32792 OMEGA observes here transformation of CO...        NaN   \n",
        "APF0000004  32792 OMEGA observes here transformation of CO...        NaN   \n",
        "APF0000005  32792 OMEGA observes here transformation of CO...        NaN   \n",
        "\n",
        "           Unnamed: 12   year                                                url  \\\n",
        "id                                                                                 \n",
        "APF0000001         NaN  year2  http://hirise-pds.lpl.arizona.edu/download/PDS...   \n",
        "APF0000002         NaN  year2  http://hirise-pds.lpl.arizona.edu/download/PDS...   \n",
        "APF0000003         NaN  year2  http://hirise-pds.lpl.arizona.edu/download/PDS...   \n",
        "APF0000004         NaN  year2  http://hirise-pds.lpl.arizona.edu/download/PDS...   \n",
        "APF0000005         NaN  year2  http://hirise-pds.lpl.arizona.edu/download/PDS...   \n",
        "\n",
        "                      obsid                             home_url  \n",
        "id                                                                \n",
        "APF0000001  ESP_012254_1065  http://uahirise.org/ESP_012254_1065  \n",
        "APF0000002  ESP_012254_1065  http://uahirise.org/ESP_012254_1065  \n",
        "APF0000003  ESP_012254_1065  http://uahirise.org/ESP_012254_1065  \n",
        "APF0000004  ESP_012254_1065  http://uahirise.org/ESP_012254_1065  \n",
        "APF0000005  ESP_012254_1065  http://uahirise.org/ESP_012254_1065  "
       ]
      }
     ],
     "prompt_number": 149
    },
    {
     "cell_type": "code",
     "collapsed": false,
     "input": [
      "cols = merged3.columns"
     ],
     "language": "python",
     "metadata": {},
     "outputs": [],
     "prompt_number": 150
    },
    {
     "cell_type": "code",
     "collapsed": false,
     "input": [
      "cols"
     ],
     "language": "python",
     "metadata": {},
     "outputs": [
      {
       "output_type": "pyout",
       "prompt_number": 151,
       "text": [
        "Index([lat, lon, Ls, Comment, time, Unnamed8, Unnamed9, year, url, obsid, home_url], dtype=object)"
       ]
      }
     ],
     "prompt_number": 151
    },
    {
     "cell_type": "code",
     "collapsed": false,
     "input": [
      "newcols = [str(i) for i in cols]"
     ],
     "language": "python",
     "metadata": {},
     "outputs": [],
     "prompt_number": 152
    },
    {
     "cell_type": "code",
     "collapsed": false,
     "input": [
      "newcols = ['lat',\n",
      " 'lon',\n",
      " 'Ls',\n",
      " 'time',\n",
      " 'Comment',\n",
      " 'Unnamed8',\n",
      " 'Unnamed9',\n",
      " 'year',\n",
      " 'url',\n",
      " 'obsid',\n",
      " 'home_url']"
     ],
     "language": "python",
     "metadata": {},
     "outputs": [],
     "prompt_number": 153
    },
    {
     "cell_type": "code",
     "collapsed": false,
     "input": [
      "merged.columns"
     ],
     "language": "python",
     "metadata": {},
     "outputs": [
      {
       "output_type": "pyout",
       "prompt_number": 157,
       "text": [
        "Index([lat\u00ac\u221e, lon\u00ac\u221e, Ls\u00ac\u221e, time, Comment, Unnamed: 9, Unnamed: 12, year, url, obsid, home_url], dtype=object)"
       ]
      }
     ],
     "prompt_number": 157
    },
    {
     "cell_type": "code",
     "collapsed": false,
     "input": [
      "merged3.columns"
     ],
     "language": "python",
     "metadata": {},
     "outputs": [
      {
       "output_type": "pyout",
       "prompt_number": 158,
       "text": [
        "Index([lat, lon, Ls, Comment, time, Unnamed9, year, url, obsid, home_url], dtype=object)"
       ]
      }
     ],
     "prompt_number": 158
    },
    {
     "cell_type": "code",
     "collapsed": false,
     "input": [
      "merged3 = merged3.reindex_axis(merged.columns,axis=1)"
     ],
     "language": "python",
     "metadata": {},
     "outputs": [],
     "prompt_number": 159
    },
    {
     "cell_type": "code",
     "collapsed": false,
     "input": [
      "merged.columns"
     ],
     "language": "python",
     "metadata": {},
     "outputs": [
      {
       "output_type": "pyout",
       "prompt_number": 160,
       "text": [
        "Index([lat\u00ac\u221e, lon\u00ac\u221e, Ls\u00ac\u221e, time, Comment, Unnamed: 9, Unnamed: 12, year, url, obsid, home_url], dtype=object)"
       ]
      }
     ],
     "prompt_number": 160
    },
    {
     "cell_type": "code",
     "collapsed": false,
     "input": [
      "year2 = merged"
     ],
     "language": "python",
     "metadata": {},
     "outputs": [],
     "prompt_number": 162
    },
    {
     "cell_type": "code",
     "collapsed": false,
     "input": [
      "year3 = merged3"
     ],
     "language": "python",
     "metadata": {},
     "outputs": [],
     "prompt_number": 163
    },
    {
     "cell_type": "code",
     "collapsed": false,
     "input": [
      "year2.columns"
     ],
     "language": "python",
     "metadata": {},
     "outputs": [
      {
       "output_type": "pyout",
       "prompt_number": 164,
       "text": [
        "Index([lat\u00ac\u221e, lon\u00ac\u221e, Ls\u00ac\u221e, time, Comment, Unnamed: 9, Unnamed: 12, year, url, obsid, home_url], dtype=object)"
       ]
      }
     ],
     "prompt_number": 164
    },
    {
     "cell_type": "code",
     "collapsed": false,
     "input": [
      "year2.columns = ['lat','lon','Ls','time','comment','unnamed9','unnamed12','year','url','obsid','home_url']"
     ],
     "language": "python",
     "metadata": {},
     "outputs": [],
     "prompt_number": 165
    },
    {
     "cell_type": "code",
     "collapsed": false,
     "input": [
      "year3.index"
     ],
     "language": "python",
     "metadata": {},
     "outputs": [
      {
       "output_type": "pyout",
       "prompt_number": 168,
       "text": [
        "Index([APF0000ib0, APF0000ib1, APF0000ib2, ..., APF0000x3q, APF0000x3r, APF0000x3s], dtype=object)"
       ]
      }
     ],
     "prompt_number": 168
    },
    {
     "cell_type": "code",
     "collapsed": false,
     "input": [
      "year3.dtypes"
     ],
     "language": "python",
     "metadata": {},
     "outputs": [
      {
       "output_type": "pyout",
       "prompt_number": 169,
       "text": [
        "lat\u00ac\u221e                 float64\n",
        "lon\u00ac\u221e                 float64\n",
        "Ls\u00ac\u221e                  float64\n",
        "time           datetime64[ns]\n",
        "Comment                object\n",
        "Unnamed: 9            float64\n",
        "Unnamed: 12           float64\n",
        "year                   object\n",
        "url                    object\n",
        "obsid                  object\n",
        "home_url               object"
       ]
      }
     ],
     "prompt_number": 169
    },
    {
     "cell_type": "code",
     "collapsed": false,
     "input": [],
     "language": "python",
     "metadata": {},
     "outputs": []
    }
   ],
   "metadata": {}
  }
 ]
}