{
 "metadata": {
  "name": "index.levels problem"
 },
 "nbformat": 3,
 "nbformat_minor": 0,
 "worksheets": [
  {
   "cells": [
    {
     "cell_type": "code",
     "collapsed": false,
     "input": [
      "import pandas as pd\n",
      "import numpy as np\n",
      "import sys\n",
      "\n",
      "print \"\\npandas version:\",pd.__version__"
     ],
     "language": "python",
     "metadata": {},
     "outputs": [
      {
       "output_type": "stream",
       "stream": "stdout",
       "text": [
        "\n",
        "pandas version: 0.10.0\n"
       ]
      }
     ],
     "prompt_number": 1
    },
    {
     "cell_type": "raw",
     "metadata": {},
     "source": [
      "define function to generate 3 level multi-index based dataframes"
     ]
    },
    {
     "cell_type": "code",
     "collapsed": false,
     "input": [
      "def gen_l3_mi(nchs,ndets,ntimes):\n",
      "    \"generate a 3-level multi-index dataframe\"\n",
      "    c = ['c'+str(i) for i in range(1,nchs+1)]\n",
      "    det = ['d'+str(i) for i in range(1,ndets+1)]\n",
      "    times = ['t'+str(i) for i in range(1,ntimes+1)]\n",
      "    ind = []\n",
      "    for ch in c:\n",
      "        for d in det:\n",
      "            for t in times:\n",
      "                ind.append((ch,d,t))\n",
      "    index = pd.MultiIndex.from_tuples(ind)\n",
      "    return pd.DataFrame(np.random.randn(nchs*ndets*ntimes,3), \n",
      "                      columns=['A','B','C'],index=index)"
     ],
     "language": "python",
     "metadata": {},
     "outputs": [],
     "prompt_number": 2
    },
    {
     "cell_type": "code",
     "collapsed": false,
     "input": [
      "df = gen_l3_mi(1,2,5)\n",
      "df"
     ],
     "language": "python",
     "metadata": {},
     "outputs": [
      {
       "html": [
        "<div style=\"max-height:1000px;max-width:1500px;overflow:auto;\">\n",
        "<table border=\"1\" class=\"dataframe\">\n",
        "  <thead>\n",
        "    <tr style=\"text-align: right;\">\n",
        "      <th></th>\n",
        "      <th></th>\n",
        "      <th></th>\n",
        "      <th>A</th>\n",
        "      <th>B</th>\n",
        "      <th>C</th>\n",
        "    </tr>\n",
        "  </thead>\n",
        "  <tbody>\n",
        "    <tr>\n",
        "      <td rowspan=\"10\" valign=\"top\"><strong>c1</strong></td>\n",
        "      <td rowspan=\"5\" valign=\"top\"><strong>d1</strong></td>\n",
        "      <td><strong>t1</strong></td>\n",
        "      <td> 0.143152</td>\n",
        "      <td>-1.319181</td>\n",
        "      <td> 1.056672</td>\n",
        "    </tr>\n",
        "    <tr>\n",
        "      <td><strong>t2</strong></td>\n",
        "      <td>-0.450303</td>\n",
        "      <td> 0.446184</td>\n",
        "      <td> 1.141448</td>\n",
        "    </tr>\n",
        "    <tr>\n",
        "      <td><strong>t3</strong></td>\n",
        "      <td> 1.688080</td>\n",
        "      <td>-0.280274</td>\n",
        "      <td> 0.993316</td>\n",
        "    </tr>\n",
        "    <tr>\n",
        "      <td><strong>t4</strong></td>\n",
        "      <td>-1.585693</td>\n",
        "      <td>-0.587147</td>\n",
        "      <td>-0.656626</td>\n",
        "    </tr>\n",
        "    <tr>\n",
        "      <td><strong>t5</strong></td>\n",
        "      <td>-0.785968</td>\n",
        "      <td>-0.746396</td>\n",
        "      <td>-0.471393</td>\n",
        "    </tr>\n",
        "    <tr>\n",
        "      <td rowspan=\"5\" valign=\"top\"><strong>d2</strong></td>\n",
        "      <td><strong>t1</strong></td>\n",
        "      <td>-0.693810</td>\n",
        "      <td>-0.118309</td>\n",
        "      <td>-0.651872</td>\n",
        "    </tr>\n",
        "    <tr>\n",
        "      <td><strong>t2</strong></td>\n",
        "      <td> 0.950681</td>\n",
        "      <td> 1.253888</td>\n",
        "      <td>-1.303681</td>\n",
        "    </tr>\n",
        "    <tr>\n",
        "      <td><strong>t3</strong></td>\n",
        "      <td>-0.954032</td>\n",
        "      <td>-1.067584</td>\n",
        "      <td>-0.286538</td>\n",
        "    </tr>\n",
        "    <tr>\n",
        "      <td><strong>t4</strong></td>\n",
        "      <td>-0.187563</td>\n",
        "      <td> 0.016305</td>\n",
        "      <td> 1.442030</td>\n",
        "    </tr>\n",
        "    <tr>\n",
        "      <td><strong>t5</strong></td>\n",
        "      <td> 0.370376</td>\n",
        "      <td> 1.076079</td>\n",
        "      <td>-1.692445</td>\n",
        "    </tr>\n",
        "  </tbody>\n",
        "</table>\n",
        "</div>"
       ],
       "output_type": "pyout",
       "prompt_number": 3,
       "text": [
        "                 A         B         C\n",
        "c1 d1 t1  0.143152 -1.319181  1.056672\n",
        "      t2 -0.450303  0.446184  1.141448\n",
        "      t3  1.688080 -0.280274  0.993316\n",
        "      t4 -1.585693 -0.587147 -0.656626\n",
        "      t5 -0.785968 -0.746396 -0.471393\n",
        "   d2 t1 -0.693810 -0.118309 -0.651872\n",
        "      t2  0.950681  1.253888 -1.303681\n",
        "      t3 -0.954032 -1.067584 -0.286538\n",
        "      t4 -0.187563  0.016305  1.442030\n",
        "      t5  0.370376  1.076079 -1.692445"
       ]
      }
     ],
     "prompt_number": 3
    },
    {
     "cell_type": "code",
     "collapsed": false,
     "input": [
      "df['D']=0.0"
     ],
     "language": "python",
     "metadata": {},
     "outputs": [],
     "prompt_number": 4
    },
    {
     "cell_type": "code",
     "collapsed": false,
     "input": [
      "df.D.ix['c1','d1'].ix['t3':'t5'] = 1\n",
      "df"
     ],
     "language": "python",
     "metadata": {},
     "outputs": [
      {
       "html": [
        "<div style=\"max-height:1000px;max-width:1500px;overflow:auto;\">\n",
        "<table border=\"1\" class=\"dataframe\">\n",
        "  <thead>\n",
        "    <tr style=\"text-align: right;\">\n",
        "      <th></th>\n",
        "      <th></th>\n",
        "      <th></th>\n",
        "      <th>A</th>\n",
        "      <th>B</th>\n",
        "      <th>C</th>\n",
        "      <th>D</th>\n",
        "    </tr>\n",
        "  </thead>\n",
        "  <tbody>\n",
        "    <tr>\n",
        "      <td rowspan=\"10\" valign=\"top\"><strong>c1</strong></td>\n",
        "      <td rowspan=\"5\" valign=\"top\"><strong>d1</strong></td>\n",
        "      <td><strong>t1</strong></td>\n",
        "      <td> 0.143152</td>\n",
        "      <td>-1.319181</td>\n",
        "      <td> 1.056672</td>\n",
        "      <td> 0</td>\n",
        "    </tr>\n",
        "    <tr>\n",
        "      <td><strong>t2</strong></td>\n",
        "      <td>-0.450303</td>\n",
        "      <td> 0.446184</td>\n",
        "      <td> 1.141448</td>\n",
        "      <td> 0</td>\n",
        "    </tr>\n",
        "    <tr>\n",
        "      <td><strong>t3</strong></td>\n",
        "      <td> 1.688080</td>\n",
        "      <td>-0.280274</td>\n",
        "      <td> 0.993316</td>\n",
        "      <td> 1</td>\n",
        "    </tr>\n",
        "    <tr>\n",
        "      <td><strong>t4</strong></td>\n",
        "      <td>-1.585693</td>\n",
        "      <td>-0.587147</td>\n",
        "      <td>-0.656626</td>\n",
        "      <td> 1</td>\n",
        "    </tr>\n",
        "    <tr>\n",
        "      <td><strong>t5</strong></td>\n",
        "      <td>-0.785968</td>\n",
        "      <td>-0.746396</td>\n",
        "      <td>-0.471393</td>\n",
        "      <td> 1</td>\n",
        "    </tr>\n",
        "    <tr>\n",
        "      <td rowspan=\"5\" valign=\"top\"><strong>d2</strong></td>\n",
        "      <td><strong>t1</strong></td>\n",
        "      <td>-0.693810</td>\n",
        "      <td>-0.118309</td>\n",
        "      <td>-0.651872</td>\n",
        "      <td> 0</td>\n",
        "    </tr>\n",
        "    <tr>\n",
        "      <td><strong>t2</strong></td>\n",
        "      <td> 0.950681</td>\n",
        "      <td> 1.253888</td>\n",
        "      <td>-1.303681</td>\n",
        "      <td> 0</td>\n",
        "    </tr>\n",
        "    <tr>\n",
        "      <td><strong>t3</strong></td>\n",
        "      <td>-0.954032</td>\n",
        "      <td>-1.067584</td>\n",
        "      <td>-0.286538</td>\n",
        "      <td> 0</td>\n",
        "    </tr>\n",
        "    <tr>\n",
        "      <td><strong>t4</strong></td>\n",
        "      <td>-0.187563</td>\n",
        "      <td> 0.016305</td>\n",
        "      <td> 1.442030</td>\n",
        "      <td> 0</td>\n",
        "    </tr>\n",
        "    <tr>\n",
        "      <td><strong>t5</strong></td>\n",
        "      <td> 0.370376</td>\n",
        "      <td> 1.076079</td>\n",
        "      <td>-1.692445</td>\n",
        "      <td> 0</td>\n",
        "    </tr>\n",
        "  </tbody>\n",
        "</table>\n",
        "</div>"
       ],
       "output_type": "pyout",
       "prompt_number": 5,
       "text": [
        "                 A         B         C  D\n",
        "c1 d1 t1  0.143152 -1.319181  1.056672  0\n",
        "      t2 -0.450303  0.446184  1.141448  0\n",
        "      t3  1.688080 -0.280274  0.993316  1\n",
        "      t4 -1.585693 -0.587147 -0.656626  1\n",
        "      t5 -0.785968 -0.746396 -0.471393  1\n",
        "   d2 t1 -0.693810 -0.118309 -0.651872  0\n",
        "      t2  0.950681  1.253888 -1.303681  0\n",
        "      t3 -0.954032 -1.067584 -0.286538  0\n",
        "      t4 -0.187563  0.016305  1.442030  0\n",
        "      t5  0.370376  1.076079 -1.692445  0"
       ]
      }
     ],
     "prompt_number": 5
    },
    {
     "cell_type": "code",
     "collapsed": false,
     "input": [
      "df.D.ix['c1','d1']"
     ],
     "language": "python",
     "metadata": {},
     "outputs": [
      {
       "output_type": "pyout",
       "prompt_number": 6,
       "text": [
        "t1    0\n",
        "t2    0\n",
        "t3    1\n",
        "t4    1\n",
        "t5    1\n",
        "Name: D"
       ]
      }
     ],
     "prompt_number": 6
    },
    {
     "cell_type": "code",
     "collapsed": false,
     "input": [
      "grouped = df.groupby('D')"
     ],
     "language": "python",
     "metadata": {},
     "outputs": [],
     "prompt_number": 7
    },
    {
     "cell_type": "code",
     "collapsed": false,
     "input": [
      "for i,j in grouped:\n",
      "    print 'D:',i\n",
      "    print 'Actual index[2]:',j.index\n",
      "    print 'First element of levels[2]:',j.index.levels\n",
      "    print j.index.get_level_values(2)"
     ],
     "language": "python",
     "metadata": {},
     "outputs": [
      {
       "output_type": "stream",
       "stream": "stdout",
       "text": [
        "D: 0.0\n",
        "Actual index[2]: MultiIndex\n",
        "[(c1, d1, t1), (c1, d1, t2), (c1, d2, t1), (c1, d2, t2), (c1, d2, t3), (c1, d2, t4), (c1, d2, t5)]\n",
        "First element of levels[2]: [Index([c1], dtype=object), Index([d1, d2], dtype=object), Index([t1, t2, t3, t4, t5], dtype=object)]\n",
        "Index([t1, t2, t1, t2, t3, t4, t5], dtype=object)\n",
        "D: 1.0\n",
        "Actual index[2]: MultiIndex\n",
        "[(c1, d1, t3), (c1, d1, t4), (c1, d1, t5)]\n",
        "First element of levels[2]: [Index([c1], dtype=object), Index([d1, d2], dtype=object), Index([t1, t2, t3, t4, t5], dtype=object)]\n",
        "Index([t3, t4, t5], dtype=object)\n"
       ]
      }
     ],
     "prompt_number": 10
    },
    {
     "cell_type": "code",
     "collapsed": false,
     "input": [],
     "language": "python",
     "metadata": {},
     "outputs": [],
     "prompt_number": 8
    },
    {
     "cell_type": "code",
     "collapsed": false,
     "input": [],
     "language": "python",
     "metadata": {},
     "outputs": []
    }
   ],
   "metadata": {}
  }
 ]
}