{
 "metadata": {
  "name": "BBTemps"
 },
 "nbformat": 3,
 "nbformat_minor": 0,
 "worksheets": [
  {
   "cells": [
    {
     "cell_type": "code",
     "collapsed": false,
     "input": [
      "import pandas as pd\n",
      "import diviner as div\n",
      "import calib as c\n",
      "import sys\n",
      "from scipy import ndimage as nd"
     ],
     "language": "python",
     "metadata": {},
     "outputs": [],
     "prompt_number": 1
    },
    {
     "cell_type": "code",
     "collapsed": false,
     "input": [
      "import pipetools as pt"
     ],
     "language": "python",
     "metadata": {},
     "outputs": [],
     "prompt_number": 2
    },
    {
     "cell_type": "code",
     "collapsed": false,
     "input": [
      "df = pt.des2df('/luna1/maye/2011041600.des')"
     ],
     "language": "python",
     "metadata": {},
     "outputs": [
      {
       "output_type": "stream",
       "stream": "stdout",
       "text": [
        "\n",
        "Starting the read of /luna1/maye/2011041600.des\n"
       ]
      }
     ],
     "prompt_number": 3
    },
    {
     "cell_type": "code",
     "collapsed": false,
     "input": [
      "df[['year','date','month']].head()"
     ],
     "language": "python",
     "metadata": {},
     "outputs": [
      {
       "html": [
        "<div style=\"max-height:1000px;max-width:1500px;overflow:auto;\">\n",
        "<table border=\"1\" class=\"dataframe\">\n",
        "  <thead>\n",
        "    <tr style=\"text-align: right;\">\n",
        "      <th></th>\n",
        "      <th>year</th>\n",
        "      <th>date</th>\n",
        "      <th>month</th>\n",
        "    </tr>\n",
        "  </thead>\n",
        "  <tbody>\n",
        "    <tr>\n",
        "      <td><strong>0</strong></td>\n",
        "      <td> 2011</td>\n",
        "      <td> 16</td>\n",
        "      <td> 4</td>\n",
        "    </tr>\n",
        "    <tr>\n",
        "      <td><strong>1</strong></td>\n",
        "      <td> 2011</td>\n",
        "      <td> 16</td>\n",
        "      <td> 4</td>\n",
        "    </tr>\n",
        "    <tr>\n",
        "      <td><strong>2</strong></td>\n",
        "      <td> 2011</td>\n",
        "      <td> 16</td>\n",
        "      <td> 4</td>\n",
        "    </tr>\n",
        "    <tr>\n",
        "      <td><strong>3</strong></td>\n",
        "      <td> 2011</td>\n",
        "      <td> 16</td>\n",
        "      <td> 4</td>\n",
        "    </tr>\n",
        "    <tr>\n",
        "      <td><strong>4</strong></td>\n",
        "      <td> 2011</td>\n",
        "      <td> 16</td>\n",
        "      <td> 4</td>\n",
        "    </tr>\n",
        "  </tbody>\n",
        "</table>\n",
        "</div>"
       ],
       "output_type": "pyout",
       "prompt_number": 10,
       "text": [
        "   year  date  month\n",
        "0  2011    16      4\n",
        "1  2011    16      4\n",
        "2  2011    16      4\n",
        "3  2011    16      4\n",
        "4  2011    16      4"
       ]
      }
     ],
     "prompt_number": 10
    },
    {
     "cell_type": "code",
     "collapsed": false,
     "input": [
      "df[['year','date']]=df[['date','year']]"
     ],
     "language": "python",
     "metadata": {},
     "outputs": [],
     "prompt_number": 9
    },
    {
     "cell_type": "code",
     "collapsed": false,
     "input": [
      "dtime = div.make_date_index(df)"
     ],
     "language": "python",
     "metadata": {},
     "outputs": [],
     "prompt_number": 11
    },
    {
     "cell_type": "code",
     "collapsed": false,
     "input": [
      "df.set_index(dtime, inplace=True)"
     ],
     "language": "python",
     "metadata": {},
     "outputs": [
      {
       "output_type": "pyout",
       "prompt_number": 12,
       "text": [
        "<class 'pandas.core.frame.DataFrame'>\n",
        "DatetimeIndex: 5315625 entries, 2011-04-16 00:00:00 to 2011-04-16 00:59:59\n",
        "Data columns:\n",
        "date                   5315625  non-null values\n",
        "month                  5315625  non-null values\n",
        "year                   5315625  non-null values\n",
        "hour                   5315625  non-null values\n",
        "minute                 5315625  non-null values\n",
        "second                 5315625  non-null values\n",
        "jdate                  5315625  non-null values\n",
        "orbit                  5315625  non-null values\n",
        "sundst                 5315625  non-null values\n",
        "sunlat                 5315625  non-null values\n",
        "sunlon                 5315625  non-null values\n",
        "sclk                   5315625  non-null values\n",
        "sclat                  5315625  non-null values\n",
        "sclon                  5315625  non-null values\n",
        "scrad                  5315625  non-null values\n",
        "scalt                  5315625  non-null values\n",
        "el_cmd                 5315625  non-null values\n",
        "az_cmd                 5315625  non-null values\n",
        "af                     5315625  non-null values\n",
        "vert_lat               5315625  non-null values\n",
        "vert_lon               5315625  non-null values\n",
        "c                      5315625  non-null values\n",
        "det                    5315625  non-null values\n",
        "vlookx                 5315625  non-null values\n",
        "vlooky                 5315625  non-null values\n",
        "vlookz                 5315625  non-null values\n",
        "radiance               5315625  non-null values\n",
        "tb                     5315625  non-null values\n",
        "clat                   5315625  non-null values\n",
        "clon                   5315625  non-null values\n",
        "cemis                  5315625  non-null values\n",
        "csunzen                5315625  non-null values\n",
        "csunazi                5315625  non-null values\n",
        "cloctime               5315625  non-null values\n",
        "qca                    5315625  non-null values\n",
        "qge                    5315625  non-null values\n",
        "qmi                    5315625  non-null values\n",
        "counts                 5315625  non-null values\n",
        "sounding               5315625  non-null values\n",
        "from_pkt               5315625  non-null values\n",
        "pkt_count              5315625  non-null values\n",
        "safing                 5315625  non-null values\n",
        "safed                  5315625  non-null values\n",
        "freezing               5315625  non-null values\n",
        "frozen                 5315625  non-null values\n",
        "rolling                5315625  non-null values\n",
        "dumping                5315625  non-null values\n",
        "moving                 5315625  non-null values\n",
        "temp_fault             5315625  non-null values\n",
        "sc_time_secs           5315625  non-null values\n",
        "sc_time_subs           5315625  non-null values\n",
        "ticks_pkt_start        5315625  non-null values\n",
        "ticks_at_sc_time       5315625  non-null values\n",
        "ost_index              5315625  non-null values\n",
        "est_index              5315625  non-null values\n",
        "sst_index              5315625  non-null values\n",
        "last_az_cmd            5315625  non-null values\n",
        "last_el_cmd            5315625  non-null values\n",
        "fpa_temp               5315625  non-null values\n",
        "fpb_temp               5315625  non-null values\n",
        "baffle_a_temp          5315625  non-null values\n",
        "baffle_b_temp          5315625  non-null values\n",
        "bb_1_temp              5315625  non-null values\n",
        "oba_1_temp             5315625  non-null values\n",
        "error_time             5315625  non-null values\n",
        "error_id               5315625  non-null values\n",
        "error_count            5315625  non-null values\n",
        "commands_received      5315625  non-null values\n",
        "commands_executed      5315625  non-null values\n",
        "commands_rejected      5315625  non-null values\n",
        "last_time_command      5315625  non-null values\n",
        "last_eqx_prediction    5315625  non-null values\n",
        "hybrid_temp            5315625  non-null values\n",
        "fpa_temp_cyc           5315625  non-null values\n",
        "fpb_temp_cyc           5315625  non-null values\n",
        "baffle_a_temp_cyc      5315625  non-null values\n",
        "baffle_b_temp_cyc      5315625  non-null values\n",
        "oba_1_temp_cyc         5315625  non-null values\n",
        "oba_2_temp             5315625  non-null values\n",
        "bb_1_temp_cyc          5315625  non-null values\n",
        "bb_2_temp              5315625  non-null values\n",
        "solar_target_temp      5315625  non-null values\n",
        "yoke_temp              5315625  non-null values\n",
        "el_actuator_temp       5315625  non-null values\n",
        "az_actuator_temp       5315625  non-null values\n",
        "min_15v                5315625  non-null values\n",
        "plu_15v                5315625  non-null values\n",
        "solar_base_temp        5315625  non-null values\n",
        "plu_5v                 5315625  non-null values\n",
        "dtypes: float64(89)"
       ]
      }
     ],
     "prompt_number": 12
    },
    {
     "cell_type": "code",
     "collapsed": false,
     "input": [
      "df.bb_1_temp.plot(style='x',label='bb1_temp')"
     ],
     "language": "python",
     "metadata": {},
     "outputs": [
      {
       "output_type": "pyout",
       "prompt_number": 13,
       "text": [
        "<matplotlib.axes.AxesSubplot at 0x33e22350>"
       ]
      }
     ],
     "prompt_number": 13
    },
    {
     "cell_type": "code",
     "collapsed": false,
     "input": [
      "df.bb_1_temp_cyc.plot(style='+',label='bb1_temp_cyc')"
     ],
     "language": "python",
     "metadata": {},
     "outputs": [
      {
       "output_type": "pyout",
       "prompt_number": 14,
       "text": [
        "<matplotlib.axes.AxesSubplot at 0x33e22350>"
       ]
      }
     ],
     "prompt_number": 14
    },
    {
     "cell_type": "code",
     "collapsed": false,
     "input": [
      "df.bb_2_temp.plot(style='*',label='bb2_temp')"
     ],
     "language": "python",
     "metadata": {},
     "outputs": [
      {
       "output_type": "pyout",
       "prompt_number": 15,
       "text": [
        "<matplotlib.axes.AxesSubplot at 0x33e22350>"
       ]
      }
     ],
     "prompt_number": 15
    },
    {
     "cell_type": "code",
     "collapsed": false,
     "input": [
      "legend(loc='best')"
     ],
     "language": "python",
     "metadata": {},
     "outputs": [
      {
       "output_type": "pyout",
       "prompt_number": 16,
       "text": [
        "<matplotlib.legend.Legend at 0x33e1b4d0>"
       ]
      }
     ],
     "prompt_number": 16
    },
    {
     "cell_type": "code",
     "collapsed": false,
     "input": [],
     "language": "python",
     "metadata": {},
     "outputs": [],
     "prompt_number": 18
    },
    {
     "cell_type": "code",
     "collapsed": false,
     "input": [],
     "language": "python",
     "metadata": {},
     "outputs": []
    }
   ],
   "metadata": {}
  }
 ]
}