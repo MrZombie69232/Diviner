{
 "metadata": {
  "name": "Calibration"
 },
 "nbformat": 3,
 "nbformat_minor": 0,
 "worksheets": [
  {
   "cells": [
    {
     "cell_type": "code",
     "collapsed": false,
     "input": [
      "import pandas as pd\n",
      "import diviner as div\n",
      "import calib as c\n",
      "import sys"
     ],
     "language": "python",
     "metadata": {},
     "outputs": [],
     "prompt_number": 14
    },
    {
     "cell_type": "code",
     "collapsed": false,
     "input": [
      "if sys.platform == 'darwin':\n",
      "    df = div.read_div_data(\"./df_by_2.h5\")\n",
      "else:\n",
      "    df = div.read_div_data('/luna1/maye/2009072000.h5')"
     ],
     "language": "python",
     "metadata": {},
     "outputs": [],
     "prompt_number": 2
    },
    {
     "cell_type": "code",
     "collapsed": false,
     "input": [
      "calib = df[(df.el_cmd == 80) | (df.el_cmd==0)]"
     ],
     "language": "python",
     "metadata": {},
     "outputs": [],
     "prompt_number": 3
    },
    {
     "cell_type": "code",
     "collapsed": false,
     "input": [
      "calib.counts.plot(style='ko')"
     ],
     "language": "python",
     "metadata": {},
     "outputs": [
      {
       "output_type": "pyout",
       "prompt_number": 4,
       "text": [
        "<matplotlib.axes.AxesSubplot at 0x10d866210>"
       ]
      }
     ],
     "prompt_number": 4
    },
    {
     "cell_type": "code",
     "collapsed": false,
     "input": [
      "cdet = c.get_cdet_frame(df, 3,11)"
     ],
     "language": "python",
     "metadata": {},
     "outputs": [],
     "prompt_number": 5
    },
    {
     "cell_type": "code",
     "collapsed": false,
     "input": [
      "calib = cdet[(cdet.el_cmd==80) | (cdet.el_cmd==0)]"
     ],
     "language": "python",
     "metadata": {},
     "outputs": [],
     "prompt_number": 6
    },
    {
     "cell_type": "code",
     "collapsed": false,
     "input": [
      "clf()\n",
      "calib.counts[calib.el_cmd==80].plot(style='.')"
     ],
     "language": "python",
     "metadata": {},
     "outputs": [
      {
       "output_type": "pyout",
       "prompt_number": 7,
       "text": [
        "<matplotlib.axes.AxesSubplot at 0x18f167f10>"
       ]
      }
     ],
     "prompt_number": 7
    },
    {
     "cell_type": "code",
     "collapsed": false,
     "input": [
      "clf()\n",
      "c.plot_calib_data(df, 3,11)"
     ],
     "language": "python",
     "metadata": {},
     "outputs": [
      {
       "output_type": "pyout",
       "prompt_number": 9,
       "text": [
        "<matplotlib.axes.AxesSubplot at 0x1840832d0>"
       ]
      }
     ],
     "prompt_number": 9
    },
    {
     "cell_type": "code",
     "collapsed": false,
     "input": [
      "clf()\n",
      "cdet.counts.plot(style=',')"
     ],
     "language": "python",
     "metadata": {},
     "outputs": [
      {
       "output_type": "pyout",
       "prompt_number": 10,
       "text": [
        "<matplotlib.axes.AxesSubplot at 0x1840b97d0>"
       ]
      }
     ],
     "prompt_number": 10
    },
    {
     "cell_type": "code",
     "collapsed": false,
     "input": [
      "clf()"
     ],
     "language": "python",
     "metadata": {},
     "outputs": [],
     "prompt_number": 11
    },
    {
     "cell_type": "code",
     "collapsed": false,
     "input": [
      "calib.counts[np.invert(c.check_moving_flag(calib))].plot(style='.')"
     ],
     "language": "python",
     "metadata": {},
     "outputs": [
      {
       "output_type": "pyout",
       "prompt_number": 12,
       "text": [
        "<matplotlib.axes.AxesSubplot at 0x184f12a10>"
       ]
      }
     ],
     "prompt_number": 12
    },
    {
     "cell_type": "code",
     "collapsed": false,
     "input": [
      "calib = calib[np.invert(c.check_moving_flag(calib))]"
     ],
     "language": "python",
     "metadata": {},
     "outputs": [],
     "prompt_number": 13
    },
    {
     "cell_type": "code",
     "collapsed": false,
     "input": [
      "calib.el_cmd.value_counts()"
     ],
     "language": "python",
     "metadata": {},
     "outputs": [
      {
       "output_type": "pyout",
       "prompt_number": 15,
       "text": [
        "80    597\n",
        "0     320"
       ]
      }
     ],
     "prompt_number": 15
    },
    {
     "cell_type": "code",
     "collapsed": false,
     "input": [
      "calib[['c','det','el_cmd','counts']][:5]"
     ],
     "language": "python",
     "metadata": {},
     "outputs": [
      {
       "html": [
        "<div style=\"max-height:1000px;max-width:1500px;overflow:auto;\">\n",
        "<table border=\"1\" class=\"dataframe\">\n",
        "  <thead>\n",
        "    <tr style=\"text-align: right;\">\n",
        "      <th></th>\n",
        "      <th>c</th>\n",
        "      <th>det</th>\n",
        "      <th>el_cmd</th>\n",
        "      <th>counts</th>\n",
        "    </tr>\n",
        "  </thead>\n",
        "  <tbody>\n",
        "    <tr>\n",
        "      <td><strong>246886</strong></td>\n",
        "      <td> 3</td>\n",
        "      <td> 11</td>\n",
        "      <td> 80</td>\n",
        "      <td> 23858</td>\n",
        "    </tr>\n",
        "    <tr>\n",
        "      <td><strong>247075</strong></td>\n",
        "      <td> 3</td>\n",
        "      <td> 11</td>\n",
        "      <td> 80</td>\n",
        "      <td> 23857</td>\n",
        "    </tr>\n",
        "    <tr>\n",
        "      <td><strong>247264</strong></td>\n",
        "      <td> 3</td>\n",
        "      <td> 11</td>\n",
        "      <td> 80</td>\n",
        "      <td> 23865</td>\n",
        "    </tr>\n",
        "    <tr>\n",
        "      <td><strong>247453</strong></td>\n",
        "      <td> 3</td>\n",
        "      <td> 11</td>\n",
        "      <td> 80</td>\n",
        "      <td> 23866</td>\n",
        "    </tr>\n",
        "    <tr>\n",
        "      <td><strong>247642</strong></td>\n",
        "      <td> 3</td>\n",
        "      <td> 11</td>\n",
        "      <td> 80</td>\n",
        "      <td> 23859</td>\n",
        "    </tr>\n",
        "  </tbody>\n",
        "</table>\n",
        "</div>"
       ],
       "output_type": "pyout",
       "prompt_number": 16,
       "text": [
        "        c  det  el_cmd  counts\n",
        "246886  3   11      80   23858\n",
        "247075  3   11      80   23857\n",
        "247264  3   11      80   23865\n",
        "247453  3   11      80   23866\n",
        "247642  3   11      80   23859"
       ]
      }
     ],
     "prompt_number": 16
    },
    {
     "cell_type": "code",
     "collapsed": false,
     "input": [
      "calib['diff']=diff"
     ],
     "language": "python",
     "metadata": {},
     "outputs": [],
     "prompt_number": 18
    },
    {
     "cell_type": "markdown",
     "metadata": {},
     "source": [
      "to have a difference of 189 counters in the index means that the data is contiguous. (because of the 189 detectors)"
     ]
    },
    {
     "cell_type": "code",
     "collapsed": false,
     "input": [
      "calib[['diff','counts']][:5]"
     ],
     "language": "python",
     "metadata": {},
     "outputs": [
      {
       "html": [
        "<div style=\"max-height:1000px;max-width:1500px;overflow:auto;\">\n",
        "<table border=\"1\" class=\"dataframe\">\n",
        "  <thead>\n",
        "    <tr style=\"text-align: right;\">\n",
        "      <th></th>\n",
        "      <th>diff</th>\n",
        "      <th>counts</th>\n",
        "    </tr>\n",
        "  </thead>\n",
        "  <tbody>\n",
        "    <tr>\n",
        "      <td><strong>246886</strong></td>\n",
        "      <td> NaN</td>\n",
        "      <td> 23858</td>\n",
        "    </tr>\n",
        "    <tr>\n",
        "      <td><strong>247075</strong></td>\n",
        "      <td> 189</td>\n",
        "      <td> 23857</td>\n",
        "    </tr>\n",
        "    <tr>\n",
        "      <td><strong>247264</strong></td>\n",
        "      <td> 189</td>\n",
        "      <td> 23865</td>\n",
        "    </tr>\n",
        "    <tr>\n",
        "      <td><strong>247453</strong></td>\n",
        "      <td> 189</td>\n",
        "      <td> 23866</td>\n",
        "    </tr>\n",
        "    <tr>\n",
        "      <td><strong>247642</strong></td>\n",
        "      <td> 189</td>\n",
        "      <td> 23859</td>\n",
        "    </tr>\n",
        "  </tbody>\n",
        "</table>\n",
        "</div>"
       ],
       "output_type": "pyout",
       "prompt_number": 19,
       "text": [
        "        diff  counts\n",
        "246886   NaN   23858\n",
        "247075   189   23857\n",
        "247264   189   23865\n",
        "247453   189   23866\n",
        "247642   189   23859"
       ]
      }
     ],
     "prompt_number": 19
    },
    {
     "cell_type": "code",
     "collapsed": false,
     "input": [
      "savefig('/Users/maye/Dropbox/Public/calib_clusters.png')"
     ],
     "language": "python",
     "metadata": {},
     "outputs": [],
     "prompt_number": 17
    },
    {
     "cell_type": "code",
     "collapsed": false,
     "input": [
      "elev = pd.Series([80,80,80,0,0,0,80,80,80],name='elev')"
     ],
     "language": "python",
     "metadata": {},
     "outputs": [],
     "prompt_number": 28
    },
    {
     "cell_type": "code",
     "collapsed": false,
     "input": [
      "moving = pd.Series([True,False,False]*3,name='moving')"
     ],
     "language": "python",
     "metadata": {},
     "outputs": [],
     "prompt_number": 29
    },
    {
     "cell_type": "code",
     "collapsed": false,
     "input": [
      "counts = pd.Series(randn(9),name='counts')"
     ],
     "language": "python",
     "metadata": {},
     "outputs": [],
     "prompt_number": 30
    },
    {
     "cell_type": "code",
     "collapsed": false,
     "input": [
      "pd.concat([elev,moving, counts],axis=1,keys=['elev','moving','counts'])"
     ],
     "language": "python",
     "metadata": {},
     "outputs": [
      {
       "html": [
        "<div style=\"max-height:1000px;max-width:1500px;overflow:auto;\">\n",
        "<table border=\"1\" class=\"dataframe\">\n",
        "  <thead>\n",
        "    <tr style=\"text-align: right;\">\n",
        "      <th></th>\n",
        "      <th>elev</th>\n",
        "      <th>moving</th>\n",
        "      <th>counts</th>\n",
        "    </tr>\n",
        "  </thead>\n",
        "  <tbody>\n",
        "    <tr>\n",
        "      <td><strong>0</strong></td>\n",
        "      <td> 80</td>\n",
        "      <td>  True</td>\n",
        "      <td>-0.520973</td>\n",
        "    </tr>\n",
        "    <tr>\n",
        "      <td><strong>1</strong></td>\n",
        "      <td> 80</td>\n",
        "      <td> False</td>\n",
        "      <td> 0.126852</td>\n",
        "    </tr>\n",
        "    <tr>\n",
        "      <td><strong>2</strong></td>\n",
        "      <td> 80</td>\n",
        "      <td> False</td>\n",
        "      <td> 0.546602</td>\n",
        "    </tr>\n",
        "    <tr>\n",
        "      <td><strong>3</strong></td>\n",
        "      <td>  0</td>\n",
        "      <td>  True</td>\n",
        "      <td>-0.334057</td>\n",
        "    </tr>\n",
        "    <tr>\n",
        "      <td><strong>4</strong></td>\n",
        "      <td>  0</td>\n",
        "      <td> False</td>\n",
        "      <td> 0.129624</td>\n",
        "    </tr>\n",
        "    <tr>\n",
        "      <td><strong>5</strong></td>\n",
        "      <td>  0</td>\n",
        "      <td> False</td>\n",
        "      <td>-2.459295</td>\n",
        "    </tr>\n",
        "    <tr>\n",
        "      <td><strong>6</strong></td>\n",
        "      <td> 80</td>\n",
        "      <td>  True</td>\n",
        "      <td>-0.319397</td>\n",
        "    </tr>\n",
        "    <tr>\n",
        "      <td><strong>7</strong></td>\n",
        "      <td> 80</td>\n",
        "      <td> False</td>\n",
        "      <td> 0.063065</td>\n",
        "    </tr>\n",
        "    <tr>\n",
        "      <td><strong>8</strong></td>\n",
        "      <td> 80</td>\n",
        "      <td> False</td>\n",
        "      <td> 0.106469</td>\n",
        "    </tr>\n",
        "  </tbody>\n",
        "</table>\n",
        "</div>"
       ],
       "output_type": "pyout",
       "prompt_number": 34,
       "text": [
        "   elev moving    counts\n",
        "0    80   True -0.520973\n",
        "1    80  False  0.126852\n",
        "2    80  False  0.546602\n",
        "3     0   True -0.334057\n",
        "4     0  False  0.129624\n",
        "5     0  False -2.459295\n",
        "6    80   True -0.319397\n",
        "7    80  False  0.063065\n",
        "8    80  False  0.106469"
       ]
      }
     ],
     "prompt_number": 34
    },
    {
     "cell_type": "code",
     "collapsed": false,
     "input": [],
     "language": "python",
     "metadata": {},
     "outputs": []
    }
   ],
   "metadata": {}
  }
 ]
}