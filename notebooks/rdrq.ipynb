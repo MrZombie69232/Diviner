{
 "metadata": {
  "name": "rdrq"
 },
 "nbformat": 3,
 "nbformat_minor": 0,
 "worksheets": [
  {
   "cells": [
    {
     "cell_type": "code",
     "collapsed": false,
     "input": [
      "import pandas as pd\n",
      "from diviner import file_utils as fu\n",
      "reload(fu)"
     ],
     "language": "python",
     "metadata": {},
     "outputs": [
      {
       "output_type": "pyout",
       "prompt_number": 20,
       "text": [
        "<module 'diviner.file_utils' from '/u/paige/maye/src/diviner/file_utils.pyc'>"
       ]
      }
     ],
     "prompt_number": 20
    },
    {
     "cell_type": "code",
     "collapsed": false,
     "input": [
      "pwd"
     ],
     "language": "python",
     "metadata": {},
     "outputs": [
      {
       "output_type": "pyout",
       "prompt_number": 2,
       "text": [
        "u'/raid1/u/paige/maye/src/diviner/notebooks'"
       ]
      }
     ],
     "prompt_number": 2
    },
    {
     "cell_type": "code",
     "collapsed": false,
     "input": [
      "cd ~"
     ],
     "language": "python",
     "metadata": {},
     "outputs": [
      {
       "output_type": "stream",
       "stream": "stdout",
       "text": [
        "/u/paige/maye\n"
       ]
      }
     ],
     "prompt_number": 3
    },
    {
     "cell_type": "code",
     "collapsed": false,
     "input": [
      "ls"
     ],
     "language": "python",
     "metadata": {},
     "outputs": [
      {
       "output_type": "stream",
       "stream": "stdout",
       "text": [
        "\u001b[0m\u001b[01;35m200907_201006_a3_11_offset.png\u001b[0m  \u001b[01;34mDropbox\u001b[0m/              \u001b[01;35mmissing_data.png\u001b[0m\r\n",
        "2011041600.txt                  \u001b[01;34mEnthought\u001b[0m/            newstore.h5\r\n",
        "\u001b[01;34mbin\u001b[0m/                            \u001b[01;36mfeikern\u001b[0m@              \u001b[01;35morbit_5988_b3_11.png\u001b[0m\r\n",
        "\u001b[01;34mcanopy\u001b[0m/                         \u001b[01;34mhirise_teem_meeting\u001b[0m/  \u001b[01;35morbit_5988_oba_temps.png\u001b[0m\r\n",
        "\u001b[01;34mCanopy\u001b[0m/                         kernelfiles.txt       \u001b[01;35morbit_5988_Tb_b3_11.png\u001b[0m\r\n",
        "canopy-1.0.0-rh5-64.sh          \u001b[01;36ml1a_data\u001b[0m@             \u001b[01;34mPublic\u001b[0m/\r\n",
        "\u001b[01;35mch3_old_vs_new.png\u001b[0m              \u001b[01;34mlib\u001b[0m/                  \u001b[01;36mraid\u001b[0m@\r\n",
        "\u001b[01;34mDesktop\u001b[0m/                        \u001b[01;34mlib64\u001b[0m/                \u001b[01;36mrdr_data\u001b[0m@\r\n",
        "\u001b[01;34mDocuments\u001b[0m/                      \u001b[01;34mlibexec\u001b[0m/              \u001b[01;34mshare\u001b[0m/\r\n",
        "\u001b[01;34mDownloads\u001b[0m/                      \u001b[01;34mmarszoo\u001b[0m/              \u001b[01;34msrc\u001b[0m/\r\n",
        "\u001b[m"
       ]
      }
     ],
     "prompt_number": 4
    },
    {
     "cell_type": "code",
     "collapsed": false,
     "input": [
      "df = pd.io.parsers.read_csv('2011041600.txt',skipinitialspace=True)"
     ],
     "language": "python",
     "metadata": {},
     "outputs": [],
     "prompt_number": 13
    },
    {
     "cell_type": "code",
     "collapsed": false,
     "input": [
      "df.tb_9_11.plot()"
     ],
     "language": "python",
     "metadata": {},
     "outputs": [
      {
       "output_type": "pyout",
       "prompt_number": 14,
       "text": [
        "<matplotlib.axes.AxesSubplot at 0x35c4210>"
       ]
      }
     ],
     "prompt_number": 14
    },
    {
     "cell_type": "code",
     "collapsed": false,
     "input": [
      "df.columns[:6]"
     ],
     "language": "python",
     "metadata": {},
     "outputs": [
      {
       "output_type": "pyout",
       "prompt_number": 15,
       "text": [
        "Index([u'yyyy', u'mm', u'dd', u'hh', u'mn', u'ss'], dtype=object)"
       ]
      }
     ],
     "prompt_number": 15
    },
    {
     "cell_type": "code",
     "collapsed": false,
     "input": [
      "df.ss = np.round(df.ss * 1000) / 1000"
     ],
     "language": "python",
     "metadata": {},
     "outputs": [
      {
       "output_type": "stream",
       "stream": "stdout",
       "text": [
        "\n",
        "Caching the list of root modules, please wait!\n",
        "(This will only be done once - type '%rehashx' to reset cache!)\n",
        "\n"
       ]
      }
     ],
     "prompt_number": 16
    },
    {
     "cell_type": "code",
     "collapsed": false,
     "input": [
      "df = fu.index_by_time??"
     ],
     "language": "python",
     "metadata": {},
     "outputs": [],
     "prompt_number": 22
    },
    {
     "cell_type": "code",
     "collapsed": false,
     "input": [
      "df = fu.index_by_time"
     ],
     "language": "python",
     "metadata": {},
     "outputs": []
    },
    {
     "cell_type": "code",
     "collapsed": false,
     "input": [],
     "language": "python",
     "metadata": {},
     "outputs": []
    }
   ],
   "metadata": {}
  }
 ]
}