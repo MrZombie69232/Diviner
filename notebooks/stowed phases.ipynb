{
 "metadata": {
  "name": ""
 },
 "nbformat": 3,
 "nbformat_minor": 0,
 "worksheets": [
  {
   "cells": [
    {
     "cell_type": "code",
     "collapsed": false,
     "input": [
      "import pandas as pd\n",
      "from diviner import data_prep\n",
      "from diviner import file_utils\n",
      "from scipy.ndimage import label"
     ],
     "language": "python",
     "metadata": {},
     "outputs": [],
     "prompt_number": 1
    },
    {
     "cell_type": "code",
     "collapsed": false,
     "input": [
      "pd.set_option('display.max_rows',20)\n",
      "pd.__version__"
     ],
     "language": "python",
     "metadata": {},
     "outputs": [
      {
       "metadata": {},
       "output_type": "pyout",
       "prompt_number": 5,
       "text": [
        "'0.12.0-1178-gd057fc9'"
       ]
      }
     ],
     "prompt_number": 5
    },
    {
     "cell_type": "code",
     "collapsed": false,
     "input": [
      "cd /raid1/maye/rdr_out/metadata"
     ],
     "language": "python",
     "metadata": {},
     "outputs": [
      {
       "output_type": "stream",
       "stream": "stdout",
       "text": [
        "/raid1/maye/rdr_out/metadata\n"
       ]
      }
     ],
     "prompt_number": 3
    },
    {
     "cell_type": "code",
     "collapsed": false,
     "input": [
      "import glob\n",
      "fnames = glob.glob(\"20????.h5\")"
     ],
     "language": "python",
     "metadata": {},
     "outputs": [],
     "prompt_number": 4
    },
    {
     "cell_type": "code",
     "collapsed": false,
     "input": [
      "fnames.sort()"
     ],
     "language": "python",
     "metadata": {},
     "outputs": [],
     "prompt_number": 5
    },
    {
     "cell_type": "code",
     "collapsed": false,
     "input": [
      "!rm -f earth_scans.h5"
     ],
     "language": "python",
     "metadata": {},
     "outputs": [],
     "prompt_number": 6
    },
    {
     "cell_type": "code",
     "collapsed": false,
     "input": [
      "colname = 'last_el_cmd'\n",
      "import gc\n",
      "\n",
      "for i,fname in enumerate(fnames):\n",
      "    if i % 4 ==0:\n",
      "        gc.collect()\n",
      "        print gc.collect()\n",
      "    print fname\n",
      "    df = pd.read_hdf(fname, 'df', columns=[colname])\n",
      "    df['mybool'] = df[colname] == 90\n",
      "    df['label'] = label(df.mybool)[0]\n",
      "    df['time'] = df.index\n",
      "    g = df.groupby('label')['time']\n",
      "    pd.DataFrame({'start':g.first(),\n",
      "                  'duration':g.last() - g.first()})[1:].to_hdf('./earth_scans.h5',\n",
      "                                                           'df',\n",
      "                                                           mode='a',\n",
      "                                                           format='table',\n",
      "                                                           append=True)\n",
      "#     del df\n",
      "    "
     ],
     "language": "python",
     "metadata": {},
     "outputs": [
      {
       "output_type": "stream",
       "stream": "stdout",
       "text": [
        "259\n",
        "200907.h5\n",
        "200908.h5"
       ]
      },
      {
       "output_type": "stream",
       "stream": "stdout",
       "text": [
        "\n",
        "200909.h5"
       ]
      },
      {
       "output_type": "stream",
       "stream": "stdout",
       "text": [
        "\n",
        "200910.h5"
       ]
      },
      {
       "output_type": "stream",
       "stream": "stdout",
       "text": [
        "\n",
        "287"
       ]
      },
      {
       "output_type": "stream",
       "stream": "stdout",
       "text": [
        "\n",
        "200911.h5\n",
        "200912.h5"
       ]
      },
      {
       "output_type": "stream",
       "stream": "stdout",
       "text": [
        "\n",
        "201001.h5"
       ]
      },
      {
       "output_type": "stream",
       "stream": "stdout",
       "text": [
        "\n",
        "201002.h5"
       ]
      },
      {
       "output_type": "stream",
       "stream": "stdout",
       "text": [
        "\n",
        "301"
       ]
      },
      {
       "output_type": "stream",
       "stream": "stdout",
       "text": [
        "\n",
        "201003.h5\n",
        "201004.h5"
       ]
      },
      {
       "output_type": "stream",
       "stream": "stdout",
       "text": [
        "\n",
        "201005.h5"
       ]
      },
      {
       "output_type": "stream",
       "stream": "stdout",
       "text": [
        "\n",
        "201006.h5"
       ]
      },
      {
       "output_type": "stream",
       "stream": "stdout",
       "text": [
        "\n",
        "308"
       ]
      },
      {
       "output_type": "stream",
       "stream": "stdout",
       "text": [
        "\n",
        "201007.h5\n",
        "201008.h5"
       ]
      },
      {
       "output_type": "stream",
       "stream": "stdout",
       "text": [
        "\n",
        "201009.h5"
       ]
      },
      {
       "output_type": "stream",
       "stream": "stdout",
       "text": [
        "\n",
        "201010.h5"
       ]
      },
      {
       "output_type": "stream",
       "stream": "stdout",
       "text": [
        "\n",
        "308"
       ]
      },
      {
       "output_type": "stream",
       "stream": "stdout",
       "text": [
        "\n",
        "201011.h5\n",
        "201012.h5"
       ]
      },
      {
       "output_type": "stream",
       "stream": "stdout",
       "text": [
        "\n",
        "201101.h5"
       ]
      },
      {
       "output_type": "stream",
       "stream": "stdout",
       "text": [
        "\n",
        "201102.h5"
       ]
      },
      {
       "output_type": "stream",
       "stream": "stdout",
       "text": [
        "\n",
        "308"
       ]
      },
      {
       "output_type": "stream",
       "stream": "stdout",
       "text": [
        "\n",
        "201103.h5\n",
        "201104.h5"
       ]
      },
      {
       "output_type": "stream",
       "stream": "stdout",
       "text": [
        "\n",
        "201105.h5"
       ]
      },
      {
       "output_type": "stream",
       "stream": "stdout",
       "text": [
        "\n",
        "201106.h5"
       ]
      },
      {
       "output_type": "stream",
       "stream": "stdout",
       "text": [
        "\n",
        "294"
       ]
      },
      {
       "output_type": "stream",
       "stream": "stdout",
       "text": [
        "\n",
        "201107.h5\n",
        "201108.h5"
       ]
      },
      {
       "output_type": "stream",
       "stream": "stdout",
       "text": [
        "\n",
        "201109.h5"
       ]
      },
      {
       "output_type": "stream",
       "stream": "stdout",
       "text": [
        "\n",
        "201110.h5"
       ]
      },
      {
       "output_type": "stream",
       "stream": "stdout",
       "text": [
        "\n",
        "301"
       ]
      },
      {
       "output_type": "stream",
       "stream": "stdout",
       "text": [
        "\n",
        "201111.h5\n",
        "201112.h5"
       ]
      },
      {
       "output_type": "stream",
       "stream": "stdout",
       "text": [
        "\n",
        "201201.h5"
       ]
      },
      {
       "output_type": "stream",
       "stream": "stdout",
       "text": [
        "\n",
        "201202.h5"
       ]
      },
      {
       "output_type": "stream",
       "stream": "stdout",
       "text": [
        "\n",
        "301"
       ]
      },
      {
       "output_type": "stream",
       "stream": "stdout",
       "text": [
        "\n",
        "201203.h5\n",
        "201204.h5"
       ]
      },
      {
       "output_type": "stream",
       "stream": "stdout",
       "text": [
        "\n",
        "201205.h5"
       ]
      },
      {
       "output_type": "stream",
       "stream": "stdout",
       "text": [
        "\n",
        "201207.h5"
       ]
      },
      {
       "output_type": "stream",
       "stream": "stdout",
       "text": [
        "\n",
        "301"
       ]
      },
      {
       "output_type": "stream",
       "stream": "stdout",
       "text": [
        "\n",
        "201208.h5\n",
        "201209.h5"
       ]
      },
      {
       "output_type": "stream",
       "stream": "stdout",
       "text": [
        "\n",
        "201210.h5"
       ]
      },
      {
       "output_type": "stream",
       "stream": "stdout",
       "text": [
        "\n",
        "201211.h5"
       ]
      },
      {
       "output_type": "stream",
       "stream": "stdout",
       "text": [
        "\n",
        "294"
       ]
      },
      {
       "output_type": "stream",
       "stream": "stdout",
       "text": [
        "\n",
        "201212.h5\n",
        "201301.h5"
       ]
      },
      {
       "output_type": "stream",
       "stream": "stdout",
       "text": [
        "\n",
        "201302.h5"
       ]
      },
      {
       "output_type": "stream",
       "stream": "stdout",
       "text": [
        "\n",
        "201303.h5"
       ]
      },
      {
       "output_type": "stream",
       "stream": "stdout",
       "text": [
        "\n",
        "308"
       ]
      },
      {
       "output_type": "stream",
       "stream": "stdout",
       "text": [
        "\n",
        "201304.h5\n",
        "201305.h5"
       ]
      },
      {
       "output_type": "stream",
       "stream": "stdout",
       "text": [
        "\n",
        "201306.h5"
       ]
      },
      {
       "output_type": "stream",
       "stream": "stdout",
       "text": [
        "\n",
        "201307.h5"
       ]
      },
      {
       "output_type": "stream",
       "stream": "stdout",
       "text": [
        "\n",
        "308"
       ]
      },
      {
       "output_type": "stream",
       "stream": "stdout",
       "text": [
        "\n",
        "201308.h5\n"
       ]
      }
     ],
     "prompt_number": 7
    },
    {
     "cell_type": "code",
     "collapsed": false,
     "input": [
      "df = pd.read_hdf('earth_scans.h5','df')"
     ],
     "language": "python",
     "metadata": {},
     "outputs": []
    },
    {
     "cell_type": "code",
     "collapsed": false,
     "input": [
      "df = pd.read_hdf('/raid1/maye/rdr_out/metadata/stowed_search.h5','df')\n",
      "df"
     ],
     "language": "python",
     "metadata": {},
     "outputs": [
      {
       "html": [
        "<div style=\"max-height:1000px;max-width:1500px;overflow:auto;\">\n",
        "<table border=\"1\" class=\"dataframe\">\n",
        "  <thead>\n",
        "    <tr style=\"text-align: right;\">\n",
        "      <th></th>\n",
        "      <th>duration</th>\n",
        "      <th>start</th>\n",
        "    </tr>\n",
        "    <tr>\n",
        "      <th>label</th>\n",
        "      <th></th>\n",
        "      <th></th>\n",
        "    </tr>\n",
        "  </thead>\n",
        "  <tbody>\n",
        "    <tr>\n",
        "      <th>1 </th>\n",
        "      <td>00:02:25.152001</td>\n",
        "      <td>2009-07-05 16:53:44.914999</td>\n",
        "    </tr>\n",
        "    <tr>\n",
        "      <th>2 </th>\n",
        "      <td>23:58:39.391999</td>\n",
        "      <td>2009-07-05 16:57:12.737000</td>\n",
        "    </tr>\n",
        "    <tr>\n",
        "      <th>3 </th>\n",
        "      <td>10:15:28.150999</td>\n",
        "      <td>2009-07-11 15:03:20.155000</td>\n",
        "    </tr>\n",
        "    <tr>\n",
        "      <th>4 </th>\n",
        "      <td>01:05:09.585000</td>\n",
        "      <td>2009-07-19 18:15:26.341000</td>\n",
        "    </tr>\n",
        "    <tr>\n",
        "      <th>5 </th>\n",
        "      <td>01:48:38.787999</td>\n",
        "      <td>2009-07-23 13:28:25.132000</td>\n",
        "    </tr>\n",
        "    <tr>\n",
        "      <th>6 </th>\n",
        "      <td>01:28:40.673999</td>\n",
        "      <td>2009-07-24 16:05:24.658000</td>\n",
        "    </tr>\n",
        "    <tr>\n",
        "      <th>7 </th>\n",
        "      <td>01:14:38.934999</td>\n",
        "      <td>2009-07-27 11:45:26.378000</td>\n",
        "    </tr>\n",
        "    <tr>\n",
        "      <th>8 </th>\n",
        "      <td>01:34:47.273000</td>\n",
        "      <td>2009-07-29 21:15:17.371999</td>\n",
        "    </tr>\n",
        "    <tr>\n",
        "      <th>1 </th>\n",
        "      <td>01:11:48.945000</td>\n",
        "      <td>2009-08-09 13:35:16.806999</td>\n",
        "    </tr>\n",
        "    <tr>\n",
        "      <th>2 </th>\n",
        "      <td>01:14:38.931000</td>\n",
        "      <td>2009-08-09 17:25:26.719000</td>\n",
        "    </tr>\n",
        "    <tr>\n",
        "      <th>3 </th>\n",
        "      <td>01:09:37.868000</td>\n",
        "      <td>2009-08-09 21:30:27.524000</td>\n",
        "    </tr>\n",
        "    <tr>\n",
        "      <th>4 </th>\n",
        "      <td>00:59:39.834000</td>\n",
        "      <td>2009-08-14 12:00:25.574999</td>\n",
        "    </tr>\n",
        "    <tr>\n",
        "      <th>5 </th>\n",
        "      <td>01:34:39.083001</td>\n",
        "      <td>2009-08-15 18:30:26.888999</td>\n",
        "    </tr>\n",
        "    <tr>\n",
        "      <th>6 </th>\n",
        "      <td>01:29:09.351001</td>\n",
        "      <td>2009-08-15 22:30:26.635999</td>\n",
        "    </tr>\n",
        "    <tr>\n",
        "      <th>7 </th>\n",
        "      <td>01:24:39.005000</td>\n",
        "      <td>2009-08-16 12:05:25.539999</td>\n",
        "    </tr>\n",
        "    <tr>\n",
        "      <th>8 </th>\n",
        "      <td>01:24:39.005001</td>\n",
        "      <td>2009-08-16 16:20:26.417999</td>\n",
        "    </tr>\n",
        "    <tr>\n",
        "      <th>9 </th>\n",
        "      <td>01:54:39.231999</td>\n",
        "      <td>2009-08-16 20:20:26.172000</td>\n",
        "    </tr>\n",
        "    <tr>\n",
        "      <th>10</th>\n",
        "      <td>01:24:36.962001</td>\n",
        "      <td>2009-08-17 12:05:28.085999</td>\n",
        "    </tr>\n",
        "    <tr>\n",
        "      <th>11</th>\n",
        "      <td>02:04:41.357999</td>\n",
        "      <td>2009-08-19 21:20:24.021000</td>\n",
        "    </tr>\n",
        "    <tr>\n",
        "      <th>12</th>\n",
        "      <td>01:29:38.022000</td>\n",
        "      <td>2009-08-20 15:35:27.106999</td>\n",
        "    </tr>\n",
        "    <tr>\n",
        "      <th></th>\n",
        "      <td>...</td>\n",
        "      <td>...</td>\n",
        "    </tr>\n",
        "  </tbody>\n",
        "</table>\n",
        "<p>796 rows \u00d7 2 columns</p>\n",
        "</div>"
       ],
       "metadata": {},
       "output_type": "pyout",
       "prompt_number": 19,
       "text": [
        "             duration                      start\n",
        "label                                           \n",
        "1     00:02:25.152001 2009-07-05 16:53:44.914999\n",
        "2     23:58:39.391999 2009-07-05 16:57:12.737000\n",
        "3     10:15:28.150999 2009-07-11 15:03:20.155000\n",
        "4     01:05:09.585000 2009-07-19 18:15:26.341000\n",
        "5     01:48:38.787999 2009-07-23 13:28:25.132000\n",
        "6     01:28:40.673999 2009-07-24 16:05:24.658000\n",
        "7     01:14:38.934999 2009-07-27 11:45:26.378000\n",
        "8     01:34:47.273000 2009-07-29 21:15:17.371999\n",
        "1     01:11:48.945000 2009-08-09 13:35:16.806999\n",
        "2     01:14:38.931000 2009-08-09 17:25:26.719000\n",
        "3     01:09:37.868000 2009-08-09 21:30:27.524000\n",
        "4     00:59:39.834000 2009-08-14 12:00:25.574999\n",
        "5     01:34:39.083001 2009-08-15 18:30:26.888999\n",
        "6     01:29:09.351001 2009-08-15 22:30:26.635999\n",
        "7     01:24:39.005000 2009-08-16 12:05:25.539999\n",
        "8     01:24:39.005001 2009-08-16 16:20:26.417999\n",
        "9     01:54:39.231999 2009-08-16 20:20:26.172000\n",
        "10    01:24:36.962001 2009-08-17 12:05:28.085999\n",
        "11    02:04:41.357999 2009-08-19 21:20:24.021000\n",
        "12    01:29:38.022000 2009-08-20 15:35:27.106999\n",
        "                  ...                        ...\n",
        "\n",
        "[796 rows x 2 columns]"
       ]
      }
     ],
     "prompt_number": 19
    },
    {
     "cell_type": "code",
     "collapsed": false,
     "input": [
      "df['stop']=df.start+df.duration"
     ],
     "language": "python",
     "metadata": {},
     "outputs": [],
     "prompt_number": 20
    },
    {
     "cell_type": "code",
     "collapsed": false,
     "input": [
      "df2 = pd.DataFrame(randn(10,3),columns=list('abc'))"
     ],
     "language": "python",
     "metadata": {},
     "outputs": [],
     "prompt_number": 31
    },
    {
     "cell_type": "code",
     "collapsed": false,
     "input": [
      "df2.set_index('a')"
     ],
     "language": "python",
     "metadata": {},
     "outputs": [
      {
       "ename": "KeyError",
       "evalue": "0",
       "output_type": "pyerr",
       "traceback": [
        "\u001b[1;31m---------------------------------------------------------------------------\u001b[0m\n\u001b[1;31mKeyError\u001b[0m                                  Traceback (most recent call last)",
        "\u001b[1;32m<ipython-input-33-baef9fed6638>\u001b[0m in \u001b[0;36m<module>\u001b[1;34m()\u001b[0m\n\u001b[1;32m----> 1\u001b[1;33m \u001b[0mdf2\u001b[0m\u001b[1;33m.\u001b[0m\u001b[0mset_index\u001b[0m\u001b[1;33m(\u001b[0m\u001b[1;34m'a'\u001b[0m\u001b[1;33m)\u001b[0m\u001b[1;33m\u001b[0m\u001b[0m\n\u001b[0m",
        "\u001b[1;32m/u/paige/maye/Enthought/Canopy_64bit/User/lib/python2.7/site-packages/IPython/core/displayhook.pyc\u001b[0m in \u001b[0;36m__call__\u001b[1;34m(self, result)\u001b[0m\n\u001b[0;32m    245\u001b[0m             \u001b[0mself\u001b[0m\u001b[1;33m.\u001b[0m\u001b[0mstart_displayhook\u001b[0m\u001b[1;33m(\u001b[0m\u001b[1;33m)\u001b[0m\u001b[1;33m\u001b[0m\u001b[0m\n\u001b[0;32m    246\u001b[0m             \u001b[0mself\u001b[0m\u001b[1;33m.\u001b[0m\u001b[0mwrite_output_prompt\u001b[0m\u001b[1;33m(\u001b[0m\u001b[1;33m)\u001b[0m\u001b[1;33m\u001b[0m\u001b[0m\n\u001b[1;32m--> 247\u001b[1;33m             \u001b[0mformat_dict\u001b[0m\u001b[1;33m,\u001b[0m \u001b[0mmd_dict\u001b[0m \u001b[1;33m=\u001b[0m \u001b[0mself\u001b[0m\u001b[1;33m.\u001b[0m\u001b[0mcompute_format_data\u001b[0m\u001b[1;33m(\u001b[0m\u001b[0mresult\u001b[0m\u001b[1;33m)\u001b[0m\u001b[1;33m\u001b[0m\u001b[0m\n\u001b[0m\u001b[0;32m    248\u001b[0m             \u001b[0mself\u001b[0m\u001b[1;33m.\u001b[0m\u001b[0mwrite_format_data\u001b[0m\u001b[1;33m(\u001b[0m\u001b[0mformat_dict\u001b[0m\u001b[1;33m,\u001b[0m \u001b[0mmd_dict\u001b[0m\u001b[1;33m)\u001b[0m\u001b[1;33m\u001b[0m\u001b[0m\n\u001b[0;32m    249\u001b[0m             \u001b[0mself\u001b[0m\u001b[1;33m.\u001b[0m\u001b[0mupdate_user_ns\u001b[0m\u001b[1;33m(\u001b[0m\u001b[0mresult\u001b[0m\u001b[1;33m)\u001b[0m\u001b[1;33m\u001b[0m\u001b[0m\n",
        "\u001b[1;32m/u/paige/maye/Enthought/Canopy_64bit/User/lib/python2.7/site-packages/IPython/core/displayhook.pyc\u001b[0m in \u001b[0;36mcompute_format_data\u001b[1;34m(self, result)\u001b[0m\n\u001b[0;32m    155\u001b[0m \u001b[1;33m\u001b[0m\u001b[0m\n\u001b[0;32m    156\u001b[0m         \"\"\"\n\u001b[1;32m--> 157\u001b[1;33m         \u001b[1;32mreturn\u001b[0m \u001b[0mself\u001b[0m\u001b[1;33m.\u001b[0m\u001b[0mshell\u001b[0m\u001b[1;33m.\u001b[0m\u001b[0mdisplay_formatter\u001b[0m\u001b[1;33m.\u001b[0m\u001b[0mformat\u001b[0m\u001b[1;33m(\u001b[0m\u001b[0mresult\u001b[0m\u001b[1;33m)\u001b[0m\u001b[1;33m\u001b[0m\u001b[0m\n\u001b[0m\u001b[0;32m    158\u001b[0m \u001b[1;33m\u001b[0m\u001b[0m\n\u001b[0;32m    159\u001b[0m     \u001b[1;32mdef\u001b[0m \u001b[0mwrite_format_data\u001b[0m\u001b[1;33m(\u001b[0m\u001b[0mself\u001b[0m\u001b[1;33m,\u001b[0m \u001b[0mformat_dict\u001b[0m\u001b[1;33m,\u001b[0m \u001b[0mmd_dict\u001b[0m\u001b[1;33m=\u001b[0m\u001b[0mNone\u001b[0m\u001b[1;33m)\u001b[0m\u001b[1;33m:\u001b[0m\u001b[1;33m\u001b[0m\u001b[0m\n",
        "\u001b[1;32m/u/paige/maye/Enthought/Canopy_64bit/User/lib/python2.7/site-packages/IPython/core/formatters.pyc\u001b[0m in \u001b[0;36mformat\u001b[1;34m(self, obj, include, exclude)\u001b[0m\n\u001b[0;32m    150\u001b[0m             \u001b[0mmd\u001b[0m \u001b[1;33m=\u001b[0m \u001b[0mNone\u001b[0m\u001b[1;33m\u001b[0m\u001b[0m\n\u001b[0;32m    151\u001b[0m             \u001b[1;32mtry\u001b[0m\u001b[1;33m:\u001b[0m\u001b[1;33m\u001b[0m\u001b[0m\n\u001b[1;32m--> 152\u001b[1;33m                 \u001b[0mdata\u001b[0m \u001b[1;33m=\u001b[0m \u001b[0mformatter\u001b[0m\u001b[1;33m(\u001b[0m\u001b[0mobj\u001b[0m\u001b[1;33m)\u001b[0m\u001b[1;33m\u001b[0m\u001b[0m\n\u001b[0m\u001b[0;32m    153\u001b[0m             \u001b[1;32mexcept\u001b[0m\u001b[1;33m:\u001b[0m\u001b[1;33m\u001b[0m\u001b[0m\n\u001b[0;32m    154\u001b[0m                 \u001b[1;31m# FIXME: log the exception\u001b[0m\u001b[1;33m\u001b[0m\u001b[1;33m\u001b[0m\u001b[0m\n",
        "\u001b[1;32m/u/paige/maye/Enthought/Canopy_64bit/User/lib/python2.7/site-packages/IPython/core/formatters.pyc\u001b[0m in \u001b[0;36m__call__\u001b[1;34m(self, obj)\u001b[0m\n\u001b[0;32m    479\u001b[0m                 \u001b[0mtype_pprinters\u001b[0m\u001b[1;33m=\u001b[0m\u001b[0mself\u001b[0m\u001b[1;33m.\u001b[0m\u001b[0mtype_printers\u001b[0m\u001b[1;33m,\u001b[0m\u001b[1;33m\u001b[0m\u001b[0m\n\u001b[0;32m    480\u001b[0m                 deferred_pprinters=self.deferred_printers)\n\u001b[1;32m--> 481\u001b[1;33m             \u001b[0mprinter\u001b[0m\u001b[1;33m.\u001b[0m\u001b[0mpretty\u001b[0m\u001b[1;33m(\u001b[0m\u001b[0mobj\u001b[0m\u001b[1;33m)\u001b[0m\u001b[1;33m\u001b[0m\u001b[0m\n\u001b[0m\u001b[0;32m    482\u001b[0m             \u001b[0mprinter\u001b[0m\u001b[1;33m.\u001b[0m\u001b[0mflush\u001b[0m\u001b[1;33m(\u001b[0m\u001b[1;33m)\u001b[0m\u001b[1;33m\u001b[0m\u001b[0m\n\u001b[0;32m    483\u001b[0m             \u001b[1;32mreturn\u001b[0m \u001b[0mstream\u001b[0m\u001b[1;33m.\u001b[0m\u001b[0mgetvalue\u001b[0m\u001b[1;33m(\u001b[0m\u001b[1;33m)\u001b[0m\u001b[1;33m\u001b[0m\u001b[0m\n",
        "\u001b[1;32m/u/paige/maye/Enthought/Canopy_64bit/User/lib/python2.7/site-packages/IPython/lib/pretty.pyc\u001b[0m in \u001b[0;36mpretty\u001b[1;34m(self, obj)\u001b[0m\n\u001b[0;32m    360\u001b[0m                             \u001b[1;32mif\u001b[0m \u001b[0mcallable\u001b[0m\u001b[1;33m(\u001b[0m\u001b[0mmeth\u001b[0m\u001b[1;33m)\u001b[0m\u001b[1;33m:\u001b[0m\u001b[1;33m\u001b[0m\u001b[0m\n\u001b[0;32m    361\u001b[0m                                 \u001b[1;32mreturn\u001b[0m \u001b[0mmeth\u001b[0m\u001b[1;33m(\u001b[0m\u001b[0mobj\u001b[0m\u001b[1;33m,\u001b[0m \u001b[0mself\u001b[0m\u001b[1;33m,\u001b[0m \u001b[0mcycle\u001b[0m\u001b[1;33m)\u001b[0m\u001b[1;33m\u001b[0m\u001b[0m\n\u001b[1;32m--> 362\u001b[1;33m             \u001b[1;32mreturn\u001b[0m \u001b[0m_default_pprint\u001b[0m\u001b[1;33m(\u001b[0m\u001b[0mobj\u001b[0m\u001b[1;33m,\u001b[0m \u001b[0mself\u001b[0m\u001b[1;33m,\u001b[0m \u001b[0mcycle\u001b[0m\u001b[1;33m)\u001b[0m\u001b[1;33m\u001b[0m\u001b[0m\n\u001b[0m\u001b[0;32m    363\u001b[0m         \u001b[1;32mfinally\u001b[0m\u001b[1;33m:\u001b[0m\u001b[1;33m\u001b[0m\u001b[0m\n\u001b[0;32m    364\u001b[0m             \u001b[0mself\u001b[0m\u001b[1;33m.\u001b[0m\u001b[0mend_group\u001b[0m\u001b[1;33m(\u001b[0m\u001b[1;33m)\u001b[0m\u001b[1;33m\u001b[0m\u001b[0m\n",
        "\u001b[1;32m/u/paige/maye/Enthought/Canopy_64bit/User/lib/python2.7/site-packages/IPython/lib/pretty.pyc\u001b[0m in \u001b[0;36m_default_pprint\u001b[1;34m(obj, p, cycle)\u001b[0m\n\u001b[0;32m    480\u001b[0m     \u001b[1;32mif\u001b[0m \u001b[0mgetattr\u001b[0m\u001b[1;33m(\u001b[0m\u001b[0mklass\u001b[0m\u001b[1;33m,\u001b[0m \u001b[1;34m'__repr__'\u001b[0m\u001b[1;33m,\u001b[0m \u001b[0mNone\u001b[0m\u001b[1;33m)\u001b[0m \u001b[1;32mnot\u001b[0m \u001b[1;32min\u001b[0m \u001b[0m_baseclass_reprs\u001b[0m\u001b[1;33m:\u001b[0m\u001b[1;33m\u001b[0m\u001b[0m\n\u001b[0;32m    481\u001b[0m         \u001b[1;31m# A user-provided repr.\u001b[0m\u001b[1;33m\u001b[0m\u001b[1;33m\u001b[0m\u001b[0m\n\u001b[1;32m--> 482\u001b[1;33m         \u001b[0mp\u001b[0m\u001b[1;33m.\u001b[0m\u001b[0mtext\u001b[0m\u001b[1;33m(\u001b[0m\u001b[0mrepr\u001b[0m\u001b[1;33m(\u001b[0m\u001b[0mobj\u001b[0m\u001b[1;33m)\u001b[0m\u001b[1;33m)\u001b[0m\u001b[1;33m\u001b[0m\u001b[0m\n\u001b[0m\u001b[0;32m    483\u001b[0m         \u001b[1;32mreturn\u001b[0m\u001b[1;33m\u001b[0m\u001b[0m\n\u001b[0;32m    484\u001b[0m     \u001b[0mp\u001b[0m\u001b[1;33m.\u001b[0m\u001b[0mbegin_group\u001b[0m\u001b[1;33m(\u001b[0m\u001b[1;36m1\u001b[0m\u001b[1;33m,\u001b[0m \u001b[1;34m'<'\u001b[0m\u001b[1;33m)\u001b[0m\u001b[1;33m\u001b[0m\u001b[0m\n",
        "\u001b[1;32m/u/paige/maye/Enthought/Canopy_64bit/User/lib/python2.7/site-packages/pandas-0.12.0_1178_gd057fc9-py2.7-linux-x86_64.egg/pandas/core/base.pyc\u001b[0m in \u001b[0;36m__repr__\u001b[1;34m(self)\u001b[0m\n\u001b[0;32m     53\u001b[0m         \u001b[0mYields\u001b[0m \u001b[0mBytestring\u001b[0m \u001b[1;32min\u001b[0m \u001b[0mPy2\u001b[0m\u001b[1;33m,\u001b[0m \u001b[0mUnicode\u001b[0m \u001b[0mString\u001b[0m \u001b[1;32min\u001b[0m \u001b[0mpy3\u001b[0m\u001b[1;33m.\u001b[0m\u001b[1;33m\u001b[0m\u001b[0m\n\u001b[0;32m     54\u001b[0m         \"\"\"\n\u001b[1;32m---> 55\u001b[1;33m         \u001b[1;32mreturn\u001b[0m \u001b[0mstr\u001b[0m\u001b[1;33m(\u001b[0m\u001b[0mself\u001b[0m\u001b[1;33m)\u001b[0m\u001b[1;33m\u001b[0m\u001b[0m\n\u001b[0m\u001b[0;32m     56\u001b[0m \u001b[1;33m\u001b[0m\u001b[0m\n\u001b[0;32m     57\u001b[0m \u001b[1;33m\u001b[0m\u001b[0m\n",
        "\u001b[1;32m/u/paige/maye/Enthought/Canopy_64bit/User/lib/python2.7/site-packages/pandas-0.12.0_1178_gd057fc9-py2.7-linux-x86_64.egg/pandas/core/base.pyc\u001b[0m in \u001b[0;36m__str__\u001b[1;34m(self)\u001b[0m\n\u001b[0;32m     33\u001b[0m         \u001b[1;32mif\u001b[0m \u001b[0mcompat\u001b[0m\u001b[1;33m.\u001b[0m\u001b[0mPY3\u001b[0m\u001b[1;33m:\u001b[0m\u001b[1;33m\u001b[0m\u001b[0m\n\u001b[0;32m     34\u001b[0m             \u001b[1;32mreturn\u001b[0m \u001b[0mself\u001b[0m\u001b[1;33m.\u001b[0m\u001b[0m__unicode__\u001b[0m\u001b[1;33m(\u001b[0m\u001b[1;33m)\u001b[0m\u001b[1;33m\u001b[0m\u001b[0m\n\u001b[1;32m---> 35\u001b[1;33m         \u001b[1;32mreturn\u001b[0m \u001b[0mself\u001b[0m\u001b[1;33m.\u001b[0m\u001b[0m__bytes__\u001b[0m\u001b[1;33m(\u001b[0m\u001b[1;33m)\u001b[0m\u001b[1;33m\u001b[0m\u001b[0m\n\u001b[0m\u001b[0;32m     36\u001b[0m \u001b[1;33m\u001b[0m\u001b[0m\n\u001b[0;32m     37\u001b[0m     \u001b[1;32mdef\u001b[0m \u001b[0m__bytes__\u001b[0m\u001b[1;33m(\u001b[0m\u001b[0mself\u001b[0m\u001b[1;33m)\u001b[0m\u001b[1;33m:\u001b[0m\u001b[1;33m\u001b[0m\u001b[0m\n",
        "\u001b[1;32m/u/paige/maye/Enthought/Canopy_64bit/User/lib/python2.7/site-packages/pandas-0.12.0_1178_gd057fc9-py2.7-linux-x86_64.egg/pandas/core/base.pyc\u001b[0m in \u001b[0;36m__bytes__\u001b[1;34m(self)\u001b[0m\n\u001b[0;32m     45\u001b[0m \u001b[1;33m\u001b[0m\u001b[0m\n\u001b[0;32m     46\u001b[0m         \u001b[0mencoding\u001b[0m \u001b[1;33m=\u001b[0m \u001b[0mget_option\u001b[0m\u001b[1;33m(\u001b[0m\u001b[1;34m\"display.encoding\"\u001b[0m\u001b[1;33m)\u001b[0m\u001b[1;33m\u001b[0m\u001b[0m\n\u001b[1;32m---> 47\u001b[1;33m         \u001b[1;32mreturn\u001b[0m \u001b[0mself\u001b[0m\u001b[1;33m.\u001b[0m\u001b[0m__unicode__\u001b[0m\u001b[1;33m(\u001b[0m\u001b[1;33m)\u001b[0m\u001b[1;33m.\u001b[0m\u001b[0mencode\u001b[0m\u001b[1;33m(\u001b[0m\u001b[0mencoding\u001b[0m\u001b[1;33m,\u001b[0m \u001b[1;34m'replace'\u001b[0m\u001b[1;33m)\u001b[0m\u001b[1;33m\u001b[0m\u001b[0m\n\u001b[0m\u001b[0;32m     48\u001b[0m \u001b[1;33m\u001b[0m\u001b[0m\n\u001b[0;32m     49\u001b[0m     \u001b[1;32mdef\u001b[0m \u001b[0m__repr__\u001b[0m\u001b[1;33m(\u001b[0m\u001b[0mself\u001b[0m\u001b[1;33m)\u001b[0m\u001b[1;33m:\u001b[0m\u001b[1;33m\u001b[0m\u001b[0m\n",
        "\u001b[1;32m/u/paige/maye/Enthought/Canopy_64bit/User/lib/python2.7/site-packages/pandas-0.12.0_1178_gd057fc9-py2.7-linux-x86_64.egg/pandas/core/frame.pyc\u001b[0m in \u001b[0;36m__unicode__\u001b[1;34m(self)\u001b[0m\n\u001b[0;32m    455\u001b[0m             \u001b[0mwidth\u001b[0m \u001b[1;33m=\u001b[0m \u001b[0mNone\u001b[0m\u001b[1;33m\u001b[0m\u001b[0m\n\u001b[0;32m    456\u001b[0m         self.to_string(buf=buf, max_rows=max_rows, max_cols=max_cols,\n\u001b[1;32m--> 457\u001b[1;33m                        line_width=width, show_dimensions=True)\n\u001b[0m\u001b[0;32m    458\u001b[0m \u001b[1;33m\u001b[0m\u001b[0m\n\u001b[0;32m    459\u001b[0m         \u001b[1;32mreturn\u001b[0m \u001b[0mbuf\u001b[0m\u001b[1;33m.\u001b[0m\u001b[0mgetvalue\u001b[0m\u001b[1;33m(\u001b[0m\u001b[1;33m)\u001b[0m\u001b[1;33m\u001b[0m\u001b[0m\n",
        "\u001b[1;32m/u/paige/maye/Enthought/Canopy_64bit/User/lib/python2.7/site-packages/pandas-0.12.0_1178_gd057fc9-py2.7-linux-x86_64.egg/pandas/core/frame.pyc\u001b[0m in \u001b[0;36mto_string\u001b[1;34m(self, buf, columns, col_space, colSpace, header, index, na_rep, formatters, float_format, sparsify, nanRep, index_names, justify, force_unicode, line_width, max_rows, max_cols, show_dimensions)\u001b[0m\n\u001b[0;32m   1286\u001b[0m                                            \u001b[0mmax_rows\u001b[0m\u001b[1;33m=\u001b[0m\u001b[0mmax_rows\u001b[0m\u001b[1;33m,\u001b[0m \u001b[0mmax_cols\u001b[0m\u001b[1;33m=\u001b[0m\u001b[0mmax_cols\u001b[0m\u001b[1;33m,\u001b[0m\u001b[1;33m\u001b[0m\u001b[0m\n\u001b[0;32m   1287\u001b[0m                                            show_dimensions=show_dimensions)\n\u001b[1;32m-> 1288\u001b[1;33m         \u001b[0mformatter\u001b[0m\u001b[1;33m.\u001b[0m\u001b[0mto_string\u001b[0m\u001b[1;33m(\u001b[0m\u001b[1;33m)\u001b[0m\u001b[1;33m\u001b[0m\u001b[0m\n\u001b[0m\u001b[0;32m   1289\u001b[0m \u001b[1;33m\u001b[0m\u001b[0m\n\u001b[0;32m   1290\u001b[0m         \u001b[1;32mif\u001b[0m \u001b[0mbuf\u001b[0m \u001b[1;32mis\u001b[0m \u001b[0mNone\u001b[0m\u001b[1;33m:\u001b[0m\u001b[1;33m\u001b[0m\u001b[0m\n",
        "\u001b[1;32m/u/paige/maye/Enthought/Canopy_64bit/User/lib/python2.7/site-packages/pandas-0.12.0_1178_gd057fc9-py2.7-linux-x86_64.egg/pandas/core/format.pyc\u001b[0m in \u001b[0;36mto_string\u001b[1;34m(self, force_unicode)\u001b[0m\n\u001b[0;32m    373\u001b[0m             \u001b[0mtext\u001b[0m \u001b[1;33m=\u001b[0m \u001b[0minfo_line\u001b[0m\u001b[1;33m\u001b[0m\u001b[0m\n\u001b[0;32m    374\u001b[0m         \u001b[1;32melse\u001b[0m\u001b[1;33m:\u001b[0m\u001b[1;33m\u001b[0m\u001b[0m\n\u001b[1;32m--> 375\u001b[1;33m             \u001b[0mstrcols\u001b[0m \u001b[1;33m=\u001b[0m \u001b[0mself\u001b[0m\u001b[1;33m.\u001b[0m\u001b[0m_to_str_columns\u001b[0m\u001b[1;33m(\u001b[0m\u001b[1;33m)\u001b[0m\u001b[1;33m\u001b[0m\u001b[0m\n\u001b[0m\u001b[0;32m    376\u001b[0m             \u001b[1;32mif\u001b[0m \u001b[0mself\u001b[0m\u001b[1;33m.\u001b[0m\u001b[0mline_width\u001b[0m \u001b[1;32mis\u001b[0m \u001b[0mNone\u001b[0m\u001b[1;33m:\u001b[0m\u001b[1;33m\u001b[0m\u001b[0m\n\u001b[0;32m    377\u001b[0m                 \u001b[0mtext\u001b[0m \u001b[1;33m=\u001b[0m \u001b[0madjoin\u001b[0m\u001b[1;33m(\u001b[0m\u001b[1;36m1\u001b[0m\u001b[1;33m,\u001b[0m \u001b[1;33m*\u001b[0m\u001b[0mstrcols\u001b[0m\u001b[1;33m)\u001b[0m\u001b[1;33m\u001b[0m\u001b[0m\n",
        "\u001b[1;32m/u/paige/maye/Enthought/Canopy_64bit/User/lib/python2.7/site-packages/pandas-0.12.0_1178_gd057fc9-py2.7-linux-x86_64.egg/pandas/core/format.pyc\u001b[0m in \u001b[0;36m_to_str_columns\u001b[1;34m(self)\u001b[0m\n\u001b[0;32m    323\u001b[0m             \u001b[0mstringified\u001b[0m \u001b[1;33m=\u001b[0m \u001b[1;33m[\u001b[0m\u001b[1;33m]\u001b[0m\u001b[1;33m\u001b[0m\u001b[0m\n\u001b[0;32m    324\u001b[0m             \u001b[1;32mfor\u001b[0m \u001b[0mi\u001b[0m\u001b[1;33m,\u001b[0m \u001b[0mc\u001b[0m \u001b[1;32min\u001b[0m \u001b[0menumerate\u001b[0m\u001b[1;33m(\u001b[0m\u001b[0mcols_to_show\u001b[0m\u001b[1;33m)\u001b[0m\u001b[1;33m:\u001b[0m\u001b[1;33m\u001b[0m\u001b[0m\n\u001b[1;32m--> 325\u001b[1;33m                 \u001b[0mfmt_values\u001b[0m \u001b[1;33m=\u001b[0m \u001b[0mself\u001b[0m\u001b[1;33m.\u001b[0m\u001b[0m_format_col\u001b[0m\u001b[1;33m(\u001b[0m\u001b[0mi\u001b[0m\u001b[1;33m)\u001b[0m\u001b[1;33m\u001b[0m\u001b[0m\n\u001b[0m\u001b[0;32m    326\u001b[0m                 \u001b[0mcheader\u001b[0m \u001b[1;33m=\u001b[0m \u001b[0mstr_columns\u001b[0m\u001b[1;33m[\u001b[0m\u001b[0mi\u001b[0m\u001b[1;33m]\u001b[0m\u001b[1;33m\u001b[0m\u001b[0m\n\u001b[0;32m    327\u001b[0m \u001b[1;33m\u001b[0m\u001b[0m\n",
        "\u001b[1;32m/u/paige/maye/Enthought/Canopy_64bit/User/lib/python2.7/site-packages/pandas-0.12.0_1178_gd057fc9-py2.7-linux-x86_64.egg/pandas/core/format.pyc\u001b[0m in \u001b[0;36m_format_col\u001b[1;34m(self, i)\u001b[0m\n\u001b[0;32m    484\u001b[0m     \u001b[1;32mdef\u001b[0m \u001b[0m_format_col\u001b[0m\u001b[1;33m(\u001b[0m\u001b[0mself\u001b[0m\u001b[1;33m,\u001b[0m \u001b[0mi\u001b[0m\u001b[1;33m)\u001b[0m\u001b[1;33m:\u001b[0m\u001b[1;33m\u001b[0m\u001b[0m\n\u001b[0;32m    485\u001b[0m         \u001b[0mformatter\u001b[0m \u001b[1;33m=\u001b[0m \u001b[0mself\u001b[0m\u001b[1;33m.\u001b[0m\u001b[0m_get_formatter\u001b[0m\u001b[1;33m(\u001b[0m\u001b[0mi\u001b[0m\u001b[1;33m)\u001b[0m\u001b[1;33m\u001b[0m\u001b[0m\n\u001b[1;32m--> 486\u001b[1;33m         return format_array(self.frame.icol(i)[:self.max_rows].get_values(),\n\u001b[0m\u001b[0;32m    487\u001b[0m                             \u001b[0mformatter\u001b[0m\u001b[1;33m,\u001b[0m \u001b[0mfloat_format\u001b[0m\u001b[1;33m=\u001b[0m\u001b[0mself\u001b[0m\u001b[1;33m.\u001b[0m\u001b[0mfloat_format\u001b[0m\u001b[1;33m,\u001b[0m\u001b[1;33m\u001b[0m\u001b[0m\n\u001b[0;32m    488\u001b[0m                             \u001b[0mna_rep\u001b[0m\u001b[1;33m=\u001b[0m\u001b[0mself\u001b[0m\u001b[1;33m.\u001b[0m\u001b[0mna_rep\u001b[0m\u001b[1;33m,\u001b[0m\u001b[1;33m\u001b[0m\u001b[0m\n",
        "\u001b[1;32m/u/paige/maye/Enthought/Canopy_64bit/User/lib/python2.7/site-packages/pandas-0.12.0_1178_gd057fc9-py2.7-linux-x86_64.egg/pandas/core/series.pyc\u001b[0m in \u001b[0;36m__getslice__\u001b[1;34m(self, i, j)\u001b[0m\n\u001b[0;32m    696\u001b[0m             \u001b[0mj\u001b[0m \u001b[1;33m=\u001b[0m \u001b[1;36m0\u001b[0m\u001b[1;33m\u001b[0m\u001b[0m\n\u001b[0;32m    697\u001b[0m         \u001b[0mslobj\u001b[0m \u001b[1;33m=\u001b[0m \u001b[0mslice\u001b[0m\u001b[1;33m(\u001b[0m\u001b[0mi\u001b[0m\u001b[1;33m,\u001b[0m \u001b[0mj\u001b[0m\u001b[1;33m)\u001b[0m\u001b[1;33m\u001b[0m\u001b[0m\n\u001b[1;32m--> 698\u001b[1;33m         \u001b[1;32mreturn\u001b[0m \u001b[0mself\u001b[0m\u001b[1;33m.\u001b[0m\u001b[0m_slice\u001b[0m\u001b[1;33m(\u001b[0m\u001b[0mslobj\u001b[0m\u001b[1;33m)\u001b[0m\u001b[1;33m\u001b[0m\u001b[0m\n\u001b[0m\u001b[0;32m    699\u001b[0m \u001b[1;33m\u001b[0m\u001b[0m\n\u001b[0;32m    700\u001b[0m     \u001b[1;32mdef\u001b[0m \u001b[0m__setslice__\u001b[0m\u001b[1;33m(\u001b[0m\u001b[0mself\u001b[0m\u001b[1;33m,\u001b[0m \u001b[0mi\u001b[0m\u001b[1;33m,\u001b[0m \u001b[0mj\u001b[0m\u001b[1;33m,\u001b[0m \u001b[0mvalue\u001b[0m\u001b[1;33m)\u001b[0m\u001b[1;33m:\u001b[0m\u001b[1;33m\u001b[0m\u001b[0m\n",
        "\u001b[1;32m/u/paige/maye/Enthought/Canopy_64bit/User/lib/python2.7/site-packages/pandas-0.12.0_1178_gd057fc9-py2.7-linux-x86_64.egg/pandas/core/series.pyc\u001b[0m in \u001b[0;36m_slice\u001b[1;34m(self, slobj, axis, raise_on_error, typ)\u001b[0m\n\u001b[0;32m    476\u001b[0m         \u001b[1;32mif\u001b[0m \u001b[0mraise_on_error\u001b[0m\u001b[1;33m:\u001b[0m\u001b[1;33m\u001b[0m\u001b[0m\n\u001b[0;32m    477\u001b[0m             \u001b[0m_check_slice_bounds\u001b[0m\u001b[1;33m(\u001b[0m\u001b[0mslobj\u001b[0m\u001b[1;33m,\u001b[0m \u001b[0mself\u001b[0m\u001b[1;33m.\u001b[0m\u001b[0mvalues\u001b[0m\u001b[1;33m)\u001b[0m\u001b[1;33m\u001b[0m\u001b[0m\n\u001b[1;32m--> 478\u001b[1;33m         \u001b[0mslobj\u001b[0m \u001b[1;33m=\u001b[0m \u001b[0mself\u001b[0m\u001b[1;33m.\u001b[0m\u001b[0mindex\u001b[0m\u001b[1;33m.\u001b[0m\u001b[0m_convert_slice_indexer\u001b[0m\u001b[1;33m(\u001b[0m\u001b[0mslobj\u001b[0m\u001b[1;33m,\u001b[0m \u001b[0mtyp\u001b[0m\u001b[1;33m=\u001b[0m\u001b[0mtyp\u001b[0m \u001b[1;32mor\u001b[0m \u001b[1;34m'getitem'\u001b[0m\u001b[1;33m)\u001b[0m\u001b[1;33m\u001b[0m\u001b[0m\n\u001b[0m\u001b[0;32m    479\u001b[0m         return self._constructor(self.values[slobj],\n\u001b[0;32m    480\u001b[0m                                  index=self.index[slobj]).__finalize__(self)\n",
        "\u001b[1;32m/u/paige/maye/Enthought/Canopy_64bit/User/lib/python2.7/site-packages/pandas-0.12.0_1178_gd057fc9-py2.7-linux-x86_64.egg/pandas/core/index.pyc\u001b[0m in \u001b[0;36m_convert_slice_indexer\u001b[1;34m(self, key, typ)\u001b[0m\n\u001b[0;32m   1809\u001b[0m \u001b[1;33m\u001b[0m\u001b[0m\n\u001b[0;32m   1810\u001b[0m         \u001b[1;31m# translate to locations\u001b[0m\u001b[1;33m\u001b[0m\u001b[1;33m\u001b[0m\u001b[0m\n\u001b[1;32m-> 1811\u001b[1;33m         \u001b[1;32mreturn\u001b[0m \u001b[0mself\u001b[0m\u001b[1;33m.\u001b[0m\u001b[0mslice_indexer\u001b[0m\u001b[1;33m(\u001b[0m\u001b[0mkey\u001b[0m\u001b[1;33m.\u001b[0m\u001b[0mstart\u001b[0m\u001b[1;33m,\u001b[0m \u001b[0mkey\u001b[0m\u001b[1;33m.\u001b[0m\u001b[0mstop\u001b[0m\u001b[1;33m,\u001b[0m \u001b[0mkey\u001b[0m\u001b[1;33m.\u001b[0m\u001b[0mstep\u001b[0m\u001b[1;33m)\u001b[0m\u001b[1;33m\u001b[0m\u001b[0m\n\u001b[0m\u001b[0;32m   1812\u001b[0m \u001b[1;33m\u001b[0m\u001b[0m\n\u001b[0;32m   1813\u001b[0m     \u001b[1;32mdef\u001b[0m \u001b[0mget_value\u001b[0m\u001b[1;33m(\u001b[0m\u001b[0mself\u001b[0m\u001b[1;33m,\u001b[0m \u001b[0mseries\u001b[0m\u001b[1;33m,\u001b[0m \u001b[0mkey\u001b[0m\u001b[1;33m)\u001b[0m\u001b[1;33m:\u001b[0m\u001b[1;33m\u001b[0m\u001b[0m\n",
        "\u001b[1;32m/u/paige/maye/Enthought/Canopy_64bit/User/lib/python2.7/site-packages/pandas-0.12.0_1178_gd057fc9-py2.7-linux-x86_64.egg/pandas/core/index.pyc\u001b[0m in \u001b[0;36mslice_indexer\u001b[1;34m(self, start, end, step)\u001b[0m\n\u001b[0;32m   1491\u001b[0m         \u001b[0mThis\u001b[0m \u001b[0mfunction\u001b[0m \u001b[0massumes\u001b[0m \u001b[0mthat\u001b[0m \u001b[0mthe\u001b[0m \u001b[0mdata\u001b[0m \u001b[1;32mis\u001b[0m \u001b[0msorted\u001b[0m\u001b[1;33m,\u001b[0m \u001b[0mso\u001b[0m \u001b[0muse\u001b[0m \u001b[0mat\u001b[0m \u001b[0myour\u001b[0m \u001b[0mown\u001b[0m \u001b[0mperil\u001b[0m\u001b[1;33m\u001b[0m\u001b[0m\n\u001b[0;32m   1492\u001b[0m         \"\"\"\n\u001b[1;32m-> 1493\u001b[1;33m         \u001b[0mstart_slice\u001b[0m\u001b[1;33m,\u001b[0m \u001b[0mend_slice\u001b[0m \u001b[1;33m=\u001b[0m \u001b[0mself\u001b[0m\u001b[1;33m.\u001b[0m\u001b[0mslice_locs\u001b[0m\u001b[1;33m(\u001b[0m\u001b[0mstart\u001b[0m\u001b[1;33m,\u001b[0m \u001b[0mend\u001b[0m\u001b[1;33m)\u001b[0m\u001b[1;33m\u001b[0m\u001b[0m\n\u001b[0m\u001b[0;32m   1494\u001b[0m \u001b[1;33m\u001b[0m\u001b[0m\n\u001b[0;32m   1495\u001b[0m         \u001b[1;31m# return a slice\u001b[0m\u001b[1;33m\u001b[0m\u001b[1;33m\u001b[0m\u001b[0m\n",
        "\u001b[1;32m/u/paige/maye/Enthought/Canopy_64bit/User/lib/python2.7/site-packages/pandas-0.12.0_1178_gd057fc9-py2.7-linux-x86_64.egg/pandas/core/index.pyc\u001b[0m in \u001b[0;36mslice_locs\u001b[1;34m(self, start, end)\u001b[0m\n\u001b[0;32m   1530\u001b[0m         \u001b[1;32melse\u001b[0m\u001b[1;33m:\u001b[0m\u001b[1;33m\u001b[0m\u001b[0m\n\u001b[0;32m   1531\u001b[0m             \u001b[1;32mtry\u001b[0m\u001b[1;33m:\u001b[0m\u001b[1;33m\u001b[0m\u001b[0m\n\u001b[1;32m-> 1532\u001b[1;33m                 \u001b[0mstart_slice\u001b[0m \u001b[1;33m=\u001b[0m \u001b[0mself\u001b[0m\u001b[1;33m.\u001b[0m\u001b[0mget_loc\u001b[0m\u001b[1;33m(\u001b[0m\u001b[0mstart\u001b[0m\u001b[1;33m)\u001b[0m\u001b[1;33m\u001b[0m\u001b[0m\n\u001b[0m\u001b[0;32m   1533\u001b[0m \u001b[1;33m\u001b[0m\u001b[0m\n\u001b[0;32m   1534\u001b[0m                 \u001b[1;32mif\u001b[0m \u001b[1;32mnot\u001b[0m \u001b[0mis_unique\u001b[0m\u001b[1;33m:\u001b[0m\u001b[1;33m\u001b[0m\u001b[0m\n",
        "\u001b[1;32m/u/paige/maye/Enthought/Canopy_64bit/User/lib/python2.7/site-packages/pandas-0.12.0_1178_gd057fc9-py2.7-linux-x86_64.egg/pandas/core/index.pyc\u001b[0m in \u001b[0;36mget_loc\u001b[1;34m(self, key)\u001b[0m\n\u001b[0;32m   1015\u001b[0m         \u001b[0mloc\u001b[0m \u001b[1;33m:\u001b[0m \u001b[0mint\u001b[0m \u001b[1;32mif\u001b[0m \u001b[0munique\u001b[0m \u001b[0mindex\u001b[0m\u001b[1;33m,\u001b[0m \u001b[0mpossibly\u001b[0m \u001b[0mslice\u001b[0m \u001b[1;32mor\u001b[0m \u001b[0mmask\u001b[0m \u001b[1;32mif\u001b[0m \u001b[1;32mnot\u001b[0m\u001b[1;33m\u001b[0m\u001b[0m\n\u001b[0;32m   1016\u001b[0m         \"\"\"\n\u001b[1;32m-> 1017\u001b[1;33m         \u001b[1;32mreturn\u001b[0m \u001b[0mself\u001b[0m\u001b[1;33m.\u001b[0m\u001b[0m_engine\u001b[0m\u001b[1;33m.\u001b[0m\u001b[0mget_loc\u001b[0m\u001b[1;33m(\u001b[0m\u001b[0m_values_from_object\u001b[0m\u001b[1;33m(\u001b[0m\u001b[0mkey\u001b[0m\u001b[1;33m)\u001b[0m\u001b[1;33m)\u001b[0m\u001b[1;33m\u001b[0m\u001b[0m\n\u001b[0m\u001b[0;32m   1018\u001b[0m \u001b[1;33m\u001b[0m\u001b[0m\n\u001b[0;32m   1019\u001b[0m     \u001b[1;32mdef\u001b[0m \u001b[0mget_value\u001b[0m\u001b[1;33m(\u001b[0m\u001b[0mself\u001b[0m\u001b[1;33m,\u001b[0m \u001b[0mseries\u001b[0m\u001b[1;33m,\u001b[0m \u001b[0mkey\u001b[0m\u001b[1;33m)\u001b[0m\u001b[1;33m:\u001b[0m\u001b[1;33m\u001b[0m\u001b[0m\n",
        "\u001b[1;32m/u/paige/maye/Enthought/Canopy_64bit/User/lib/python2.7/site-packages/pandas-0.12.0_1178_gd057fc9-py2.7-linux-x86_64.egg/pandas/index.so\u001b[0m in \u001b[0;36mpandas.index.IndexEngine.get_loc (pandas/index.c:3553)\u001b[1;34m()\u001b[0m\n",
        "\u001b[1;32m/u/paige/maye/Enthought/Canopy_64bit/User/lib/python2.7/site-packages/pandas-0.12.0_1178_gd057fc9-py2.7-linux-x86_64.egg/pandas/index.so\u001b[0m in \u001b[0;36mpandas.index.IndexEngine.get_loc (pandas/index.c:3433)\u001b[1;34m()\u001b[0m\n",
        "\u001b[1;32m/u/paige/maye/Enthought/Canopy_64bit/User/lib/python2.7/site-packages/pandas-0.12.0_1178_gd057fc9-py2.7-linux-x86_64.egg/pandas/hashtable.so\u001b[0m in \u001b[0;36mpandas.hashtable.PyObjectHashTable.get_item (pandas/hashtable.c:10780)\u001b[1;34m()\u001b[0m\n",
        "\u001b[1;32m/u/paige/maye/Enthought/Canopy_64bit/User/lib/python2.7/site-packages/pandas-0.12.0_1178_gd057fc9-py2.7-linux-x86_64.egg/pandas/hashtable.so\u001b[0m in \u001b[0;36mpandas.hashtable.PyObjectHashTable.get_item (pandas/hashtable.c:10733)\u001b[1;34m()\u001b[0m\n",
        "\u001b[1;31mKeyError\u001b[0m: 0"
       ]
      }
     ],
     "prompt_number": 33
    },
    {
     "cell_type": "code",
     "collapsed": false,
     "input": [],
     "language": "python",
     "metadata": {},
     "outputs": [
      {
       "html": [
        "<div style=\"max-height:1000px;max-width:1500px;overflow:auto;\">\n",
        "<table border=\"1\" class=\"dataframe\">\n",
        "  <thead>\n",
        "    <tr style=\"text-align: right;\">\n",
        "      <th></th>\n",
        "      <th>duration</th>\n",
        "      <th>start</th>\n",
        "      <th>stop</th>\n",
        "    </tr>\n",
        "    <tr>\n",
        "      <th>start</th>\n",
        "      <th></th>\n",
        "      <th></th>\n",
        "      <th></th>\n",
        "    </tr>\n",
        "  </thead>\n",
        "  <tbody>\n",
        "    <tr>\n",
        "      <th>2009-07-05 16:53:44.914999</th>\n",
        "      <td>00:02:25.152001</td>\n",
        "      <td>2009-07-05 16:53:44.914999</td>\n",
        "      <td>2009-07-05 16:56:10.067000</td>\n",
        "    </tr>\n",
        "    <tr>\n",
        "      <th>2009-07-05 16:57:12.737000</th>\n",
        "      <td>23:58:39.391999</td>\n",
        "      <td>2009-07-05 16:57:12.737000</td>\n",
        "      <td>2009-07-06 16:55:52.128999</td>\n",
        "    </tr>\n",
        "    <tr>\n",
        "      <th>2009-07-11 15:03:20.155000</th>\n",
        "      <td>10:15:28.150999</td>\n",
        "      <td>2009-07-11 15:03:20.155000</td>\n",
        "      <td>2009-07-12 01:18:48.305999</td>\n",
        "    </tr>\n",
        "    <tr>\n",
        "      <th>2009-07-19 18:15:26.341000</th>\n",
        "      <td>01:05:09.585000</td>\n",
        "      <td>2009-07-19 18:15:26.341000</td>\n",
        "      <td>2009-07-19 19:20:35.926000</td>\n",
        "    </tr>\n",
        "    <tr>\n",
        "      <th>2009-07-23 13:28:25.132000</th>\n",
        "      <td>01:48:38.787999</td>\n",
        "      <td>2009-07-23 13:28:25.132000</td>\n",
        "      <td>2009-07-23 15:17:03.919999</td>\n",
        "    </tr>\n",
        "    <tr>\n",
        "      <th>2009-07-24 16:05:24.658000</th>\n",
        "      <td>01:28:40.673999</td>\n",
        "      <td>2009-07-24 16:05:24.658000</td>\n",
        "      <td>2009-07-24 17:34:05.331999</td>\n",
        "    </tr>\n",
        "    <tr>\n",
        "      <th>2009-07-27 11:45:26.378000</th>\n",
        "      <td>01:14:38.934999</td>\n",
        "      <td>2009-07-27 11:45:26.378000</td>\n",
        "      <td>2009-07-27 13:00:05.312999</td>\n",
        "    </tr>\n",
        "    <tr>\n",
        "      <th>2009-07-29 21:15:17.371999</th>\n",
        "      <td>01:34:47.273000</td>\n",
        "      <td>2009-07-29 21:15:17.371999</td>\n",
        "      <td>2009-07-29 22:50:04.644999</td>\n",
        "    </tr>\n",
        "    <tr>\n",
        "      <th>2009-08-09 13:35:16.806999</th>\n",
        "      <td>01:11:48.945000</td>\n",
        "      <td>2009-08-09 13:35:16.806999</td>\n",
        "      <td>2009-08-09 14:47:05.751999</td>\n",
        "    </tr>\n",
        "    <tr>\n",
        "      <th>2009-08-09 17:25:26.719000</th>\n",
        "      <td>01:14:38.931000</td>\n",
        "      <td>2009-08-09 17:25:26.719000</td>\n",
        "      <td>2009-08-09 18:40:05.650000</td>\n",
        "    </tr>\n",
        "    <tr>\n",
        "      <th>2009-08-09 21:30:27.524000</th>\n",
        "      <td>01:09:37.868000</td>\n",
        "      <td>2009-08-09 21:30:27.524000</td>\n",
        "      <td>2009-08-09 22:40:05.392000</td>\n",
        "    </tr>\n",
        "    <tr>\n",
        "      <th>2009-08-14 12:00:25.574999</th>\n",
        "      <td>00:59:39.834000</td>\n",
        "      <td>2009-08-14 12:00:25.574999</td>\n",
        "      <td>2009-08-14 13:00:05.408999</td>\n",
        "    </tr>\n",
        "    <tr>\n",
        "      <th>2009-08-15 18:30:26.888999</th>\n",
        "      <td>01:34:39.083001</td>\n",
        "      <td>2009-08-15 18:30:26.888999</td>\n",
        "      <td>2009-08-15 20:05:05.972000</td>\n",
        "    </tr>\n",
        "    <tr>\n",
        "      <th>2009-08-15 22:30:26.635999</th>\n",
        "      <td>01:29:09.351001</td>\n",
        "      <td>2009-08-15 22:30:26.635999</td>\n",
        "      <td>2009-08-15 23:59:35.987000</td>\n",
        "    </tr>\n",
        "    <tr>\n",
        "      <th>2009-08-16 12:05:25.539999</th>\n",
        "      <td>01:24:39.005000</td>\n",
        "      <td>2009-08-16 12:05:25.539999</td>\n",
        "      <td>2009-08-16 13:30:04.544999</td>\n",
        "    </tr>\n",
        "    <tr>\n",
        "      <th>2009-08-16 16:20:26.417999</th>\n",
        "      <td>01:24:39.005001</td>\n",
        "      <td>2009-08-16 16:20:26.417999</td>\n",
        "      <td>2009-08-16 17:45:05.423000</td>\n",
        "    </tr>\n",
        "    <tr>\n",
        "      <th>2009-08-16 20:20:26.172000</th>\n",
        "      <td>01:54:39.231999</td>\n",
        "      <td>2009-08-16 20:20:26.172000</td>\n",
        "      <td>2009-08-16 22:15:05.403999</td>\n",
        "    </tr>\n",
        "    <tr>\n",
        "      <th>2009-08-17 12:05:28.085999</th>\n",
        "      <td>01:24:36.962001</td>\n",
        "      <td>2009-08-17 12:05:28.085999</td>\n",
        "      <td>2009-08-17 13:30:05.048000</td>\n",
        "    </tr>\n",
        "    <tr>\n",
        "      <th>2009-08-19 21:20:24.021000</th>\n",
        "      <td>02:04:41.357999</td>\n",
        "      <td>2009-08-19 21:20:24.021000</td>\n",
        "      <td>2009-08-19 23:25:05.378999</td>\n",
        "    </tr>\n",
        "    <tr>\n",
        "      <th>2009-08-20 15:35:27.106999</th>\n",
        "      <td>01:29:38.022000</td>\n",
        "      <td>2009-08-20 15:35:27.106999</td>\n",
        "      <td>2009-08-20 17:05:05.128999</td>\n",
        "    </tr>\n",
        "    <tr>\n",
        "      <th></th>\n",
        "      <td>...</td>\n",
        "      <td>...</td>\n",
        "      <td>...</td>\n",
        "    </tr>\n",
        "  </tbody>\n",
        "</table>\n",
        "<p>796 rows \u00d7 3 columns</p>\n",
        "</div>"
       ],
       "metadata": {},
       "output_type": "pyout",
       "prompt_number": 22,
       "text": [
        "                                  duration                      start  \\\n",
        "start                                                                   \n",
        "2009-07-05 16:53:44.914999 00:02:25.152001 2009-07-05 16:53:44.914999   \n",
        "2009-07-05 16:57:12.737000 23:58:39.391999 2009-07-05 16:57:12.737000   \n",
        "2009-07-11 15:03:20.155000 10:15:28.150999 2009-07-11 15:03:20.155000   \n",
        "2009-07-19 18:15:26.341000 01:05:09.585000 2009-07-19 18:15:26.341000   \n",
        "2009-07-23 13:28:25.132000 01:48:38.787999 2009-07-23 13:28:25.132000   \n",
        "2009-07-24 16:05:24.658000 01:28:40.673999 2009-07-24 16:05:24.658000   \n",
        "2009-07-27 11:45:26.378000 01:14:38.934999 2009-07-27 11:45:26.378000   \n",
        "2009-07-29 21:15:17.371999 01:34:47.273000 2009-07-29 21:15:17.371999   \n",
        "2009-08-09 13:35:16.806999 01:11:48.945000 2009-08-09 13:35:16.806999   \n",
        "2009-08-09 17:25:26.719000 01:14:38.931000 2009-08-09 17:25:26.719000   \n",
        "2009-08-09 21:30:27.524000 01:09:37.868000 2009-08-09 21:30:27.524000   \n",
        "2009-08-14 12:00:25.574999 00:59:39.834000 2009-08-14 12:00:25.574999   \n",
        "2009-08-15 18:30:26.888999 01:34:39.083001 2009-08-15 18:30:26.888999   \n",
        "2009-08-15 22:30:26.635999 01:29:09.351001 2009-08-15 22:30:26.635999   \n",
        "2009-08-16 12:05:25.539999 01:24:39.005000 2009-08-16 12:05:25.539999   \n",
        "2009-08-16 16:20:26.417999 01:24:39.005001 2009-08-16 16:20:26.417999   \n",
        "2009-08-16 20:20:26.172000 01:54:39.231999 2009-08-16 20:20:26.172000   \n",
        "2009-08-17 12:05:28.085999 01:24:36.962001 2009-08-17 12:05:28.085999   \n",
        "2009-08-19 21:20:24.021000 02:04:41.357999 2009-08-19 21:20:24.021000   \n",
        "2009-08-20 15:35:27.106999 01:29:38.022000 2009-08-20 15:35:27.106999   \n",
        "                                       ...                        ...   \n",
        "\n",
        "                                                 stop  \n",
        "start                                                  \n",
        "2009-07-05 16:53:44.914999 2009-07-05 16:56:10.067000  \n",
        "2009-07-05 16:57:12.737000 2009-07-06 16:55:52.128999  \n",
        "2009-07-11 15:03:20.155000 2009-07-12 01:18:48.305999  \n",
        "2009-07-19 18:15:26.341000 2009-07-19 19:20:35.926000  \n",
        "2009-07-23 13:28:25.132000 2009-07-23 15:17:03.919999  \n",
        "2009-07-24 16:05:24.658000 2009-07-24 17:34:05.331999  \n",
        "2009-07-27 11:45:26.378000 2009-07-27 13:00:05.312999  \n",
        "2009-07-29 21:15:17.371999 2009-07-29 22:50:04.644999  \n",
        "2009-08-09 13:35:16.806999 2009-08-09 14:47:05.751999  \n",
        "2009-08-09 17:25:26.719000 2009-08-09 18:40:05.650000  \n",
        "2009-08-09 21:30:27.524000 2009-08-09 22:40:05.392000  \n",
        "2009-08-14 12:00:25.574999 2009-08-14 13:00:05.408999  \n",
        "2009-08-15 18:30:26.888999 2009-08-15 20:05:05.972000  \n",
        "2009-08-15 22:30:26.635999 2009-08-15 23:59:35.987000  \n",
        "2009-08-16 12:05:25.539999 2009-08-16 13:30:04.544999  \n",
        "2009-08-16 16:20:26.417999 2009-08-16 17:45:05.423000  \n",
        "2009-08-16 20:20:26.172000 2009-08-16 22:15:05.403999  \n",
        "2009-08-17 12:05:28.085999 2009-08-17 13:30:05.048000  \n",
        "2009-08-19 21:20:24.021000 2009-08-19 23:25:05.378999  \n",
        "2009-08-20 15:35:27.106999 2009-08-20 17:05:05.128999  \n",
        "                                                  ...  \n",
        "\n",
        "[796 rows x 3 columns]"
       ]
      }
     ],
     "prompt_number": 22
    },
    {
     "cell_type": "code",
     "collapsed": false,
     "input": [
      "df.set_index(df.start, inplace=True, drop=True)"
     ],
     "language": "python",
     "metadata": {},
     "outputs": [],
     "prompt_number": 14
    },
    {
     "cell_type": "code",
     "collapsed": false,
     "input": [
      "df.head()"
     ],
     "language": "python",
     "metadata": {},
     "outputs": [
      {
       "html": [
        "<div style=\"max-height:1000px;max-width:1500px;overflow:auto;\">\n",
        "<table border=\"1\" class=\"dataframe\">\n",
        "  <thead>\n",
        "    <tr style=\"text-align: right;\">\n",
        "      <th></th>\n",
        "      <th>duration</th>\n",
        "      <th>start</th>\n",
        "      <th>stop</th>\n",
        "    </tr>\n",
        "    <tr>\n",
        "      <th>start</th>\n",
        "      <th></th>\n",
        "      <th></th>\n",
        "      <th></th>\n",
        "    </tr>\n",
        "  </thead>\n",
        "  <tbody>\n",
        "    <tr>\n",
        "      <th>2009-07-05 16:53:44.914999</th>\n",
        "      <td>00:02:25.152001</td>\n",
        "      <td>2009-07-05 16:53:44.914999</td>\n",
        "      <td>2009-07-05 16:56:10.067000</td>\n",
        "    </tr>\n",
        "    <tr>\n",
        "      <th>2009-07-05 16:57:12.737000</th>\n",
        "      <td>23:58:39.391999</td>\n",
        "      <td>2009-07-05 16:57:12.737000</td>\n",
        "      <td>2009-07-06 16:55:52.128999</td>\n",
        "    </tr>\n",
        "    <tr>\n",
        "      <th>2009-07-11 15:03:20.155000</th>\n",
        "      <td>10:15:28.150999</td>\n",
        "      <td>2009-07-11 15:03:20.155000</td>\n",
        "      <td>2009-07-12 01:18:48.305999</td>\n",
        "    </tr>\n",
        "    <tr>\n",
        "      <th>2009-07-19 18:15:26.341000</th>\n",
        "      <td>01:05:09.585000</td>\n",
        "      <td>2009-07-19 18:15:26.341000</td>\n",
        "      <td>2009-07-19 19:20:35.926000</td>\n",
        "    </tr>\n",
        "    <tr>\n",
        "      <th>2009-07-23 13:28:25.132000</th>\n",
        "      <td>01:48:38.787999</td>\n",
        "      <td>2009-07-23 13:28:25.132000</td>\n",
        "      <td>2009-07-23 15:17:03.919999</td>\n",
        "    </tr>\n",
        "  </tbody>\n",
        "</table>\n",
        "<p>5 rows \u00d7 3 columns</p>\n",
        "</div>"
       ],
       "metadata": {},
       "output_type": "pyout",
       "prompt_number": 18,
       "text": [
        "                                  duration                      start  \\\n",
        "start                                                                   \n",
        "2009-07-05 16:53:44.914999 00:02:25.152001 2009-07-05 16:53:44.914999   \n",
        "2009-07-05 16:57:12.737000 23:58:39.391999 2009-07-05 16:57:12.737000   \n",
        "2009-07-11 15:03:20.155000 10:15:28.150999 2009-07-11 15:03:20.155000   \n",
        "2009-07-19 18:15:26.341000 01:05:09.585000 2009-07-19 18:15:26.341000   \n",
        "2009-07-23 13:28:25.132000 01:48:38.787999 2009-07-23 13:28:25.132000   \n",
        "\n",
        "                                                 stop  \n",
        "start                                                  \n",
        "2009-07-05 16:53:44.914999 2009-07-05 16:56:10.067000  \n",
        "2009-07-05 16:57:12.737000 2009-07-06 16:55:52.128999  \n",
        "2009-07-11 15:03:20.155000 2009-07-12 01:18:48.305999  \n",
        "2009-07-19 18:15:26.341000 2009-07-19 19:20:35.926000  \n",
        "2009-07-23 13:28:25.132000 2009-07-23 15:17:03.919999  \n",
        "\n",
        "[5 rows x 3 columns]"
       ]
      }
     ],
     "prompt_number": 18
    },
    {
     "cell_type": "code",
     "collapsed": false,
     "input": [
      "val = df.start.loc?"
     ],
     "language": "python",
     "metadata": {},
     "outputs": [],
     "prompt_number": 21
    },
    {
     "cell_type": "code",
     "collapsed": false,
     "input": [
      "val = df.start.iloc[0]"
     ],
     "language": "python",
     "metadata": {},
     "outputs": [],
     "prompt_number": 22
    },
    {
     "cell_type": "code",
     "collapsed": false,
     "input": [
      "df.start"
     ],
     "language": "python",
     "metadata": {},
     "outputs": [
      {
       "metadata": {},
       "output_type": "pyout",
       "prompt_number": 35,
       "text": [
        "label\n",
        "1       2009-07-05 16:53:44.914999\n",
        "2       2009-07-05 16:57:12.737000\n",
        "3       2009-07-11 15:03:20.155000\n",
        "4       2009-07-19 18:15:26.341000\n",
        "5       2009-07-23 13:28:25.132000\n",
        "6       2009-07-24 16:05:24.658000\n",
        "7       2009-07-27 11:45:26.378000\n",
        "8       2009-07-29 21:15:17.371999\n",
        "1       2009-08-09 13:35:16.806999\n",
        "2       2009-08-09 17:25:26.719000\n",
        "3       2009-08-09 21:30:27.524000\n",
        "4       2009-08-14 12:00:25.574999\n",
        "5       2009-08-15 18:30:26.888999\n",
        "6       2009-08-15 22:30:26.635999\n",
        "7       2009-08-16 12:05:25.539999\n",
        "...\n",
        "6       2013-07-04 09:14:27.356999\n",
        "7       2013-07-04 21:56:29.521999\n",
        "8       2013-07-04 23:55:02.315999\n",
        "9       2013-07-07 06:42:21.425999\n",
        "10      2013-07-09 19:54:52.406999\n",
        "11      2013-07-12 19:47:03.334999\n",
        "12      2013-07-16 07:56:56.174999\n",
        "13      2013-07-16 10:24:37.972999\n",
        "14      2013-07-18 13:08:32.561999\n",
        "15      2013-07-21 12:35:11.662000\n",
        "16      2013-07-21 14:20:38.009999\n",
        "17      2013-07-22 12:31:22.286999\n",
        "18      2013-07-22 14:31:23.150999\n",
        "19      2013-07-27 22:28:20.367999\n",
        "1       2013-08-08 09:09:35.682000\n",
        "Name: start, Length: 796, dtype: datetime64[ns]"
       ]
      }
     ],
     "prompt_number": 35
    },
    {
     "cell_type": "code",
     "collapsed": false,
     "input": [
      "def to_iso_timestamp(val):\n",
      "    return val.isoformat()"
     ],
     "language": "python",
     "metadata": {},
     "outputs": [],
     "prompt_number": 36
    },
    {
     "cell_type": "code",
     "collapsed": false,
     "input": [
      "df['start'] = df.start.map(to_iso_timestamp)"
     ],
     "language": "python",
     "metadata": {},
     "outputs": [],
     "prompt_number": 38
    },
    {
     "cell_type": "code",
     "collapsed": false,
     "input": [
      "df['stop'] = df.stop.map(to_iso_timestamp)"
     ],
     "language": "python",
     "metadata": {},
     "outputs": [],
     "prompt_number": 39
    },
    {
     "cell_type": "code",
     "collapsed": false,
     "input": [
      "df.to_csv('/raid1/maye/rdr_out/metadata/stowed_times.csv',index=False)"
     ],
     "language": "python",
     "metadata": {},
     "outputs": [],
     "prompt_number": 40
    },
    {
     "cell_type": "code",
     "collapsed": false,
     "input": [
      "df.head()"
     ],
     "language": "python",
     "metadata": {},
     "outputs": [
      {
       "html": [
        "<div style=\"max-height:1000px;max-width:1500px;overflow:auto;\">\n",
        "<table border=\"1\" class=\"dataframe\">\n",
        "  <thead>\n",
        "    <tr style=\"text-align: right;\">\n",
        "      <th></th>\n",
        "      <th>duration</th>\n",
        "      <th>start</th>\n",
        "      <th>stop</th>\n",
        "    </tr>\n",
        "    <tr>\n",
        "      <th>label</th>\n",
        "      <th></th>\n",
        "      <th></th>\n",
        "      <th></th>\n",
        "    </tr>\n",
        "  </thead>\n",
        "  <tbody>\n",
        "    <tr>\n",
        "      <th>1</th>\n",
        "      <td>00:02:25.152001</td>\n",
        "      <td> 2009-07-05T16:53:44.914999</td>\n",
        "      <td> 2009-07-05T16:56:10.067000</td>\n",
        "    </tr>\n",
        "    <tr>\n",
        "      <th>2</th>\n",
        "      <td>23:58:39.391999</td>\n",
        "      <td> 2009-07-05T16:57:12.737000</td>\n",
        "      <td> 2009-07-06T16:55:52.128999</td>\n",
        "    </tr>\n",
        "    <tr>\n",
        "      <th>3</th>\n",
        "      <td>10:15:28.150999</td>\n",
        "      <td> 2009-07-11T15:03:20.155000</td>\n",
        "      <td> 2009-07-12T01:18:48.305999</td>\n",
        "    </tr>\n",
        "    <tr>\n",
        "      <th>4</th>\n",
        "      <td>01:05:09.585000</td>\n",
        "      <td> 2009-07-19T18:15:26.341000</td>\n",
        "      <td> 2009-07-19T19:20:35.926000</td>\n",
        "    </tr>\n",
        "    <tr>\n",
        "      <th>5</th>\n",
        "      <td>01:48:38.787999</td>\n",
        "      <td> 2009-07-23T13:28:25.132000</td>\n",
        "      <td> 2009-07-23T15:17:03.919999</td>\n",
        "    </tr>\n",
        "  </tbody>\n",
        "</table>\n",
        "</div>"
       ],
       "metadata": {},
       "output_type": "pyout",
       "prompt_number": 42,
       "text": [
        "             duration                       start                        stop\n",
        "label                                                                        \n",
        "1     00:02:25.152001  2009-07-05T16:53:44.914999  2009-07-05T16:56:10.067000\n",
        "2     23:58:39.391999  2009-07-05T16:57:12.737000  2009-07-06T16:55:52.128999\n",
        "3     10:15:28.150999  2009-07-11T15:03:20.155000  2009-07-12T01:18:48.305999\n",
        "4     01:05:09.585000  2009-07-19T18:15:26.341000  2009-07-19T19:20:35.926000\n",
        "5     01:48:38.787999  2009-07-23T13:28:25.132000  2009-07-23T15:17:03.919999"
       ]
      }
     ],
     "prompt_number": 42
    },
    {
     "cell_type": "code",
     "collapsed": false,
     "input": [
      "df[df.duration > '10m']"
     ],
     "language": "python",
     "metadata": {},
     "outputs": [
      {
       "ename": "TypeError",
       "evalue": "invalid type comparison",
       "output_type": "pyerr",
       "traceback": [
        "\u001b[1;31m---------------------------------------------------------------------------\u001b[0m\n\u001b[1;31mTypeError\u001b[0m                                 Traceback (most recent call last)",
        "\u001b[1;32m<ipython-input-41-b80a07f61c6e>\u001b[0m in \u001b[0;36m<module>\u001b[1;34m()\u001b[0m\n\u001b[1;32m----> 1\u001b[1;33m \u001b[0mdf\u001b[0m\u001b[1;33m[\u001b[0m\u001b[0mdf\u001b[0m\u001b[1;33m.\u001b[0m\u001b[0mduration\u001b[0m \u001b[1;33m>\u001b[0m \u001b[1;34m'10m'\u001b[0m\u001b[1;33m]\u001b[0m\u001b[1;33m\u001b[0m\u001b[0m\n\u001b[0m",
        "\u001b[1;32m/u/paige/maye/Enthought/Canopy_64bit/User/lib/python2.7/site-packages/pandas-0.12.0_1100_g0c30665-py2.7-linux-x86_64.egg/pandas/core/ops.pyc\u001b[0m in \u001b[0;36mwrapper\u001b[1;34m(self, other)\u001b[0m\n\u001b[0;32m    558\u001b[0m \u001b[1;33m\u001b[0m\u001b[0m\n\u001b[0;32m    559\u001b[0m             \u001b[1;31m# scalars\u001b[0m\u001b[1;33m\u001b[0m\u001b[1;33m\u001b[0m\u001b[0m\n\u001b[1;32m--> 560\u001b[1;33m             \u001b[0mres\u001b[0m \u001b[1;33m=\u001b[0m \u001b[0mna_op\u001b[0m\u001b[1;33m(\u001b[0m\u001b[0mvalues\u001b[0m\u001b[1;33m,\u001b[0m \u001b[0mother\u001b[0m\u001b[1;33m)\u001b[0m\u001b[1;33m\u001b[0m\u001b[0m\n\u001b[0m\u001b[0;32m    561\u001b[0m             \u001b[1;32mif\u001b[0m \u001b[0mnp\u001b[0m\u001b[1;33m.\u001b[0m\u001b[0misscalar\u001b[0m\u001b[1;33m(\u001b[0m\u001b[0mres\u001b[0m\u001b[1;33m)\u001b[0m\u001b[1;33m:\u001b[0m\u001b[1;33m\u001b[0m\u001b[0m\n\u001b[0;32m    562\u001b[0m                 raise TypeError('Could not compare %s type with Series'\n",
        "\u001b[1;32m/u/paige/maye/Enthought/Canopy_64bit/User/lib/python2.7/site-packages/pandas-0.12.0_1100_g0c30665-py2.7-linux-x86_64.egg/pandas/core/ops.pyc\u001b[0m in \u001b[0;36mna_op\u001b[1;34m(x, y)\u001b[0m\n\u001b[0;32m    527\u001b[0m                 \u001b[0mresult\u001b[0m \u001b[1;33m=\u001b[0m \u001b[0mgetattr\u001b[0m\u001b[1;33m(\u001b[0m\u001b[0mx\u001b[0m\u001b[1;33m,\u001b[0m \u001b[0mname\u001b[0m\u001b[1;33m)\u001b[0m\u001b[1;33m(\u001b[0m\u001b[0my\u001b[0m\u001b[1;33m)\u001b[0m\u001b[1;33m\u001b[0m\u001b[0m\n\u001b[0;32m    528\u001b[0m                 \u001b[1;32mif\u001b[0m \u001b[0mresult\u001b[0m \u001b[1;32mis\u001b[0m \u001b[0mNotImplemented\u001b[0m\u001b[1;33m:\u001b[0m\u001b[1;33m\u001b[0m\u001b[0m\n\u001b[1;32m--> 529\u001b[1;33m                     \u001b[1;32mraise\u001b[0m \u001b[0mTypeError\u001b[0m\u001b[1;33m(\u001b[0m\u001b[1;34m\"invalid type comparison\"\u001b[0m\u001b[1;33m)\u001b[0m\u001b[1;33m\u001b[0m\u001b[0m\n\u001b[0m\u001b[0;32m    530\u001b[0m             \u001b[1;32mexcept\u001b[0m \u001b[1;33m(\u001b[0m\u001b[0mAttributeError\u001b[0m\u001b[1;33m)\u001b[0m\u001b[1;33m:\u001b[0m\u001b[1;33m\u001b[0m\u001b[0m\n\u001b[0;32m    531\u001b[0m                 \u001b[0mresult\u001b[0m \u001b[1;33m=\u001b[0m \u001b[0mop\u001b[0m\u001b[1;33m(\u001b[0m\u001b[0mx\u001b[0m\u001b[1;33m,\u001b[0m \u001b[0my\u001b[0m\u001b[1;33m)\u001b[0m\u001b[1;33m\u001b[0m\u001b[0m\n",
        "\u001b[1;31mTypeError\u001b[0m: invalid type comparison"
       ]
      }
     ],
     "prompt_number": 41
    },
    {
     "cell_type": "code",
     "collapsed": false,
     "input": [],
     "language": "python",
     "metadata": {},
     "outputs": []
    }
   ],
   "metadata": {}
  }
 ]
}