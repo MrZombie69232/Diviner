{
 "cells": [
  {
   "cell_type": "markdown",
   "metadata": {},
   "source": [
    "## Repetition\n",
    "\n",
    "Spectral radiance as a function of frequency is described as\n",
    "\n",
    "$$ L_\\nu = \\frac{d^4E}{dt\\,dA\\,d\\Omega\\,d\\nu\\,cos(\\theta)}=\\frac{d^3\\Phi}{dA\\,d\\Omega\\,d\\nu\\,cos(\\theta)} \\left[\\frac{W}{m^2sr\\, m}\\right]$$\n",
    "\n",
    "with $\\Phi$ being the radiant flux $dE/dt$ and $d\\Omega$ the steradian.\n",
    "\n",
    "Integrated over frequency, this gives [_radiance_](http://en.wikipedia.org/wiki/Radiance):\n",
    "\n",
    "$$ L = \\int L_\\nu d\\nu = \\frac{d^2\\Phi}{dA\\,d\\Omega\\,cos(\\theta)}$$\n",
    "\n",
    "I keep the $cos\\theta$ as a potential error source.\n",
    "\n",
    "For radiation emitted by an ideal black body at temperature T, spectral radiance is governed by [Planck's law](http://en.wikipedia.org/wiki/Planck%27s_law), while the integral of radiance over the hemisphere into which it radiates, in W/m2, is governed by the [Stefan-Boltzmann law](http://en.wikipedia.org/wiki/Stefan-Boltzmann_law).\n",
    "\n",
    "Planck's law describes the emitted radiation as:\n",
    "\n",
    "$$ B_\\nu(T) = \\frac{2h\\nu^3}{c^2}\\frac{1}{exp\\left(\\frac{hc}{\\lambda k_BT}\\right)-1} $$"
   ]
  },
  {
   "cell_type": "markdown",
   "metadata": {},
   "source": [
    "Marc:\n",
    ">Keep in mind that “absolute” radiances have an arbitrary constant associated with them, having to do with the fact that we don’t measure absolute spectral response, just relative spectral response.\n",
    " \n",
    ">I was a little sloppy in not normalizing the channel 8 and 9 spectral response curves to their peak values as was done for the other channels.  However, the arbitrary spectral response scale factor present in all channels is irrelevant when one converts back to brightness temperature.  Any absolute radiance is not quantitatively meaningful without the associated spectral response curve for that channel.  See attached document and spreadsheet."
   ]
  },
  {
   "cell_type": "markdown",
   "metadata": {},
   "source": [
    "Tim:\n",
    ">Because the spectral response curve $F(\\nu)$ is relative, the only unambiguous definition of integrated radiance is given by:\n",
    "$$R(ChX, T) =  \\frac{\\int{B(\\nu, T)\\cdot F(\\nu, ChX)\\cdot d\\nu}}{\\int{F(\\nu, ChX)\\cdot d\\nu}}$$\n",
    "where $B(\\nu, T)$ is the spectral Planck function, and $ChX$ refers to channel $X$. \n",
    "The normalization is then by the integral of the spectral response curve, not by an arbitrary number to make the peak unity.\n",
    "This has the units of spectral Planck $\\frac{W}{cm^2\\cdot sr\\cdot cm}$, rather than spectrally integrated Planck $\\frac{W}{cm^2\\cdot sr}$, which is irritating. The misunderstanding below is an example of why it should be done this way!"
   ]
  },
  {
   "cell_type": "markdown",
   "metadata": {},
   "source": [
    "### are we close to Rayleigh-Jeans criterium?\n",
    "For that, $h\\nu << k_BT$ has to be true.\n",
    "I will test if the value of $\\frac{h\\nu}{k_BT}$ is always much smaller than 1."
   ]
  },
  {
   "cell_type": "code",
   "execution_count": 1,
   "metadata": {
    "collapsed": false
   },
   "outputs": [],
   "source": [
    "from scipy.constants import k as k_B\n",
    "from scipy.constants import h, c"
   ]
  },
  {
   "cell_type": "code",
   "execution_count": 2,
   "metadata": {
    "collapsed": false
   },
   "outputs": [],
   "source": [
    "wavelengths = np.array([8, 20, 50, 100, 200, 300, 400])"
   ]
  },
  {
   "cell_type": "code",
   "execution_count": 3,
   "metadata": {
    "collapsed": false
   },
   "outputs": [],
   "source": [
    "temps = np.array([20,100,200,300,400])"
   ]
  },
  {
   "cell_type": "code",
   "execution_count": 4,
   "metadata": {
    "collapsed": false
   },
   "outputs": [],
   "source": [
    "import pandas as pd\n",
    "df = pd.DataFrame(index=wavelengths)"
   ]
  },
  {
   "cell_type": "code",
   "execution_count": 5,
   "metadata": {
    "collapsed": false
   },
   "outputs": [],
   "source": [
    "for T in temps:\n",
    "    ratio = h*c / wavelengths / 1e-6 / (k_B *T) # divide by 1e-6 to make up for waves being microns\n",
    "    df[T] = ratio"
   ]
  },
  {
   "cell_type": "code",
   "execution_count": 6,
   "metadata": {
    "collapsed": false
   },
   "outputs": [],
   "source": [
    "df.index.name='Wavelengths[mu]'\n",
    "df.columns.name='Temperatures[K]'"
   ]
  },
  {
   "cell_type": "code",
   "execution_count": 7,
   "metadata": {
    "collapsed": false
   },
   "outputs": [
    {
     "data": {
      "text/html": [
       "<div>\n",
       "<style scoped>\n",
       "    .dataframe tbody tr th:only-of-type {\n",
       "        vertical-align: middle;\n",
       "    }\n",
       "\n",
       "    .dataframe tbody tr th {\n",
       "        vertical-align: top;\n",
       "    }\n",
       "\n",
       "    .dataframe thead th {\n",
       "        text-align: right;\n",
       "    }\n",
       "</style>\n",
       "<table border=\"1\" class=\"dataframe\">\n",
       "  <thead>\n",
       "    <tr style=\"text-align: right;\">\n",
       "      <th>Temperatures[K]</th>\n",
       "      <th>20</th>\n",
       "      <th>100</th>\n",
       "      <th>200</th>\n",
       "      <th>300</th>\n",
       "      <th>400</th>\n",
       "    </tr>\n",
       "    <tr>\n",
       "      <th>Wavelengths[mu]</th>\n",
       "      <th></th>\n",
       "      <th></th>\n",
       "      <th></th>\n",
       "      <th></th>\n",
       "      <th></th>\n",
       "    </tr>\n",
       "  </thead>\n",
       "  <tbody>\n",
       "    <tr>\n",
       "      <th>8</th>\n",
       "      <td>89.923585</td>\n",
       "      <td>17.984717</td>\n",
       "      <td>8.992358</td>\n",
       "      <td>5.994906</td>\n",
       "      <td>4.496179</td>\n",
       "    </tr>\n",
       "    <tr>\n",
       "      <th>20</th>\n",
       "      <td>35.969434</td>\n",
       "      <td>7.193887</td>\n",
       "      <td>3.596943</td>\n",
       "      <td>2.397962</td>\n",
       "      <td>1.798472</td>\n",
       "    </tr>\n",
       "    <tr>\n",
       "      <th>50</th>\n",
       "      <td>14.387774</td>\n",
       "      <td>2.877555</td>\n",
       "      <td>1.438777</td>\n",
       "      <td>0.959185</td>\n",
       "      <td>0.719389</td>\n",
       "    </tr>\n",
       "    <tr>\n",
       "      <th>100</th>\n",
       "      <td>7.193887</td>\n",
       "      <td>1.438777</td>\n",
       "      <td>0.719389</td>\n",
       "      <td>0.479592</td>\n",
       "      <td>0.359694</td>\n",
       "    </tr>\n",
       "    <tr>\n",
       "      <th>200</th>\n",
       "      <td>3.596943</td>\n",
       "      <td>0.719389</td>\n",
       "      <td>0.359694</td>\n",
       "      <td>0.239796</td>\n",
       "      <td>0.179847</td>\n",
       "    </tr>\n",
       "    <tr>\n",
       "      <th>300</th>\n",
       "      <td>2.397962</td>\n",
       "      <td>0.479592</td>\n",
       "      <td>0.239796</td>\n",
       "      <td>0.159864</td>\n",
       "      <td>0.119898</td>\n",
       "    </tr>\n",
       "    <tr>\n",
       "      <th>400</th>\n",
       "      <td>1.798472</td>\n",
       "      <td>0.359694</td>\n",
       "      <td>0.179847</td>\n",
       "      <td>0.119898</td>\n",
       "      <td>0.089924</td>\n",
       "    </tr>\n",
       "  </tbody>\n",
       "</table>\n",
       "</div>"
      ],
      "text/plain": [
       "Temperatures[K]        20         100       200       300       400\n",
       "Wavelengths[mu]                                                    \n",
       "8                89.923585  17.984717  8.992358  5.994906  4.496179\n",
       "20               35.969434   7.193887  3.596943  2.397962  1.798472\n",
       "50               14.387774   2.877555  1.438777  0.959185  0.719389\n",
       "100               7.193887   1.438777  0.719389  0.479592  0.359694\n",
       "200               3.596943   0.719389  0.359694  0.239796  0.179847\n",
       "300               2.397962   0.479592  0.239796  0.159864  0.119898\n",
       "400               1.798472   0.359694  0.179847  0.119898  0.089924"
      ]
     },
     "execution_count": 7,
     "metadata": {},
     "output_type": "execute_result"
    }
   ],
   "source": [
    "df"
   ]
  },
  {
   "cell_type": "code",
   "execution_count": 8,
   "metadata": {
    "collapsed": false
   },
   "outputs": [],
   "source": [
    "%matplotlib widget"
   ]
  },
  {
   "cell_type": "code",
   "execution_count": 17,
   "metadata": {
    "collapsed": false
   },
   "outputs": [
    {
     "data": {
      "application/vnd.jupyter.widget-view+json": {
       "model_id": "d7d6838d680545b299cbc30371c41b62",
       "version_major": 2,
       "version_minor": 0
      },
      "text/plain": [
       "FigureCanvasNbAgg()"
      ]
     },
     "metadata": {},
     "output_type": "display_data"
    },
    {
     "data": {
      "text/plain": [
       "Text(0.5, 1.0, 'Rayleigh-Jeans check for set of temperatures')"
      ]
     },
     "execution_count": 17,
     "metadata": {},
     "output_type": "execute_result"
    }
   ],
   "source": [
    "ax = df.plot(logy=True)\n",
    "ax.set_xlabel(\"Wavelength [micron]\")\n",
    "ax.set_title('Rayleigh-Jeans check for set of temperatures')"
   ]
  },
  {
   "cell_type": "markdown",
   "metadata": {},
   "source": [
    "The fact that the data are mostly above 1 means we can not use simplified laws for brightness temperature $T_b$."
   ]
  },
  {
   "cell_type": "code",
   "execution_count": 10,
   "metadata": {
    "collapsed": false
   },
   "outputs": [],
   "source": [
    "from astropy.modeling.blackbody import blackbody_lambda, blackbody_nu"
   ]
  },
  {
   "cell_type": "code",
   "execution_count": 12,
   "metadata": {},
   "outputs": [],
   "source": [
    "wavelengths = np.logspace(0, 3, 100) * u.micron"
   ]
  },
  {
   "cell_type": "code",
   "execution_count": 13,
   "metadata": {},
   "outputs": [
    {
     "data": {
      "text/latex": [
       "$[1,~1.0722672,~1.149757,~1.2328467,~1.3219411,~1.4174742,~1.5199111,~1.6297508,~1.7475284,~1.8738174,~2.009233,~2.1544347,~2.3101297,~2.4770764,~2.6560878,~2.8480359,~3.0538555,~3.2745492,~3.5111917,~3.7649358,~4.0370173,~4.3287613,~4.6415888,~4.9770236,~5.3366992,~5.7223677,~6.1359073,~6.5793322,~7.0548023,~7.5646333,~8.1113083,~8.69749,~9.3260335,~10,~10.722672,~11.49757,~12.328467,~13.219411,~14.174742,~15.199111,~16.297508,~17.475284,~18.738174,~20.09233,~21.544347,~23.101297,~24.770764,~26.560878,~28.480359,~30.538555,~32.745492,~35.111917,~37.649358,~40.370173,~43.287613,~46.415888,~49.770236,~53.366992,~57.223677,~61.359073,~65.793322,~70.548023,~75.646333,~81.113083,~86.9749,~93.260335,~100,~107.22672,~114.9757,~123.28467,~132.19411,~141.74742,~151.99111,~162.97508,~174.75284,~187.38174,~200.9233,~215.44347,~231.01297,~247.70764,~265.60878,~284.80359,~305.38555,~327.45492,~351.11917,~376.49358,~403.70173,~432.87613,~464.15888,~497.70236,~533.66992,~572.23677,~613.59073,~657.93322,~705.48023,~756.46333,~811.13083,~869.749,~932.60335,~1000] \\; \\mathrm{\\mu m}$"
      ],
      "text/plain": [
       "<Quantity [   1.        ,    1.07226722,    1.149757  ,    1.23284674,\n",
       "              1.32194115,    1.41747416,    1.51991108,    1.62975083,\n",
       "              1.7475284 ,    1.87381742,    2.009233  ,    2.15443469,\n",
       "              2.3101297 ,    2.47707636,    2.65608778,    2.84803587,\n",
       "              3.05385551,    3.27454916,    3.51119173,    3.76493581,\n",
       "              4.03701726,    4.32876128,    4.64158883,    4.97702356,\n",
       "              5.33669923,    5.72236766,    6.13590727,    6.57933225,\n",
       "              7.05480231,    7.56463328,    8.11130831,    8.69749003,\n",
       "              9.32603347,   10.        ,   10.72267222,   11.49756995,\n",
       "             12.32846739,   13.21941148,   14.17474163,   15.19911083,\n",
       "             16.29750835,   17.475284  ,   18.73817423,   20.09233003,\n",
       "             21.5443469 ,   23.101297  ,   24.77076356,   26.56087783,\n",
       "             28.48035868,   30.53855509,   32.74549163,   35.11191734,\n",
       "             37.64935807,   40.37017259,   43.28761281,   46.41588834,\n",
       "             49.77023564,   53.36699231,   57.22367659,   61.35907273,\n",
       "             65.79332247,   70.54802311,   75.64633276,   81.11308308,\n",
       "             86.97490026,   93.26033469,  100.        ,  107.2267222 ,\n",
       "            114.97569954,  123.28467394,  132.19411485,  141.74741629,\n",
       "            151.9911083 ,  162.97508346,  174.75284   ,  187.38174229,\n",
       "            200.92330026,  215.443469  ,  231.01297001,  247.7076356 ,\n",
       "            265.60877829,  284.80358684,  305.38555088,  327.45491629,\n",
       "            351.11917342,  376.49358068,  403.70172586,  432.87612811,\n",
       "            464.15888336,  497.70235643,  533.66992312,  572.23676594,\n",
       "            613.59072734,  657.93322466,  705.48023107,  756.46332755,\n",
       "            811.13083079,  869.74900262,  932.60334688, 1000.        ] micron>"
      ]
     },
     "execution_count": 13,
     "metadata": {},
     "output_type": "execute_result"
    }
   ],
   "source": [
    "wavelengths"
   ]
  },
  {
   "cell_type": "code",
   "execution_count": 14,
   "metadata": {},
   "outputs": [],
   "source": [
    "temp = 40 * u.K"
   ]
  },
  {
   "cell_type": "code",
   "execution_count": 15,
   "metadata": {},
   "outputs": [],
   "source": [
    "flux_lambda = blackbody_lambda(wavelengths, temp)"
   ]
  },
  {
   "cell_type": "code",
   "execution_count": 19,
   "metadata": {},
   "outputs": [],
   "source": [
    "from astropy.visualization import quantity_support"
   ]
  },
  {
   "cell_type": "code",
   "execution_count": 55,
   "metadata": {},
   "outputs": [
    {
     "data": {
      "application/vnd.jupyter.widget-view+json": {
       "model_id": "dad17453650840559d557c1790fd4e13",
       "version_major": 2,
       "version_minor": 0
      },
      "text/plain": [
       "FigureCanvasNbAgg()"
      ]
     },
     "metadata": {},
     "output_type": "display_data"
    },
    {
     "data": {
      "text/plain": [
       "[<matplotlib.lines.Line2D at 0x1277a4908>]"
      ]
     },
     "execution_count": 55,
     "metadata": {},
     "output_type": "execute_result"
    }
   ],
   "source": [
    "fig, ax = plt.subplots(constrained_layout=True)\n",
    "ax.plot(wavelengths, flux_lambda)"
   ]
  },
  {
   "cell_type": "code",
   "execution_count": 86,
   "metadata": {},
   "outputs": [],
   "source": [
    "from astropy.visualization import quantity_support\n",
    "from astropy.modeling.blackbody import blackbody_lambda\n",
    "\n",
    "class DivBandpasses():\n",
    "    def __init__(self):\n",
    "        self.fname = \"../diviner/data/Diviner_R_to_T_8-4-2009.xls\"\n",
    "        df = pd.read_excel(fname, 'Bandpasses', header=3, skiprows=4)\n",
    "        df.drop([0,1], inplace=True)\n",
    "        df.columns = ' '.join(['w{0} ch{0}'.format(i) for i in range(3,10)]).split()\n",
    "        self.df = df\n",
    "        for ch in range(3, 10):\n",
    "            setattr(self, f\"ch{ch}\", self.get_channel_X(ch))\n",
    "        self.wavelengths = np.logspace(0, 3, 100) * u.micron\n",
    "            \n",
    "    def get_channel_X(self, X):\n",
    "        tmp = self.df[[f'w{X}', f'ch{X}']].dropna()\n",
    "        return tmp.set_index(f'w{X}')\n",
    "    \n",
    "    def plot_all(self, ax=None):\n",
    "        if ax is None:\n",
    "            fig, ax = plt.subplots(constrained_layout=True)\n",
    "        for ch in range(3, 10):\n",
    "            getattr(self, f\"ch{ch}\").plot(ax=ax, secondary_y=True)\n",
    "    \n",
    "    def plot_planck_with_bandpasses(self, temps):\n",
    "        fig, ax = plt.subplots(constrained_layout=True)\n",
    "        for temp in temps:\n",
    "            fluxes = blackbody_lambda(self.wavelengths, temp)\n",
    "            ax.plot(self.wavelengths, fluxes, label=temp)\n",
    "        ax.legend()\n",
    "        self.plot_all(ax)\n"
   ]
  },
  {
   "cell_type": "code",
   "execution_count": 87,
   "metadata": {},
   "outputs": [],
   "source": [
    "bandpasses = DivBandpasses()"
   ]
  },
  {
   "cell_type": "code",
   "execution_count": 88,
   "metadata": {},
   "outputs": [],
   "source": [
    "temps = [25, 30, 35, 40] * u.K"
   ]
  },
  {
   "cell_type": "code",
   "execution_count": 89,
   "metadata": {},
   "outputs": [
    {
     "data": {
      "application/vnd.jupyter.widget-view+json": {
       "model_id": "8d6496b41ac64a159fb3481f5fe7ab4c",
       "version_major": 2,
       "version_minor": 0
      },
      "text/plain": [
       "FigureCanvasNbAgg()"
      ]
     },
     "metadata": {},
     "output_type": "display_data"
    }
   ],
   "source": [
    "bandpasses.plot_planck_with_bandpasses(temps)"
   ]
  },
  {
   "cell_type": "code",
   "execution_count": 66,
   "metadata": {},
   "outputs": [
    {
     "data": {
      "application/vnd.jupyter.widget-view+json": {
       "model_id": "452d30351ed948ebaf543f8baa1abf39",
       "version_major": 2,
       "version_minor": 0
      },
      "text/plain": [
       "FigureCanvasNbAgg()"
      ]
     },
     "metadata": {},
     "output_type": "display_data"
    },
    {
     "data": {
      "text/plain": [
       "<matplotlib.axes._subplots.AxesSubplot at 0x1293af0f0>"
      ]
     },
     "execution_count": 66,
     "metadata": {},
     "output_type": "execute_result"
    }
   ],
   "source": [
    "fig, ax = plt.subplots(constrained_layout=True)\n",
    "ax.plot(wavelengths, flux_lambda, label='40 K')\n",
    "ax.legend()\n",
    "bandpasses.ch8.plot(ax=ax, secondary_y=True)"
   ]
  },
  {
   "cell_type": "code",
   "execution_count": null,
   "metadata": {},
   "outputs": [],
   "source": []
  }
 ],
 "metadata": {
  "kernelspec": {
   "display_name": "Python 3",
   "language": "python",
   "name": "python3"
  },
  "language_info": {
   "codemirror_mode": {
    "name": "ipython",
    "version": 3
   },
   "file_extension": ".py",
   "mimetype": "text/x-python",
   "name": "python",
   "nbconvert_exporter": "python",
   "pygments_lexer": "ipython3",
   "version": "3.7.3"
  }
 },
 "nbformat": 4,
 "nbformat_minor": 2
}
