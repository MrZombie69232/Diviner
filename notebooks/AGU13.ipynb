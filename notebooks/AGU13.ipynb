{
 "metadata": {
  "name": ""
 },
 "nbformat": 3,
 "nbformat_minor": 0,
 "worksheets": [
  {
   "cells": [
    {
     "cell_type": "code",
     "collapsed": false,
     "input": [
      "print pd.__version__\n",
      "from diviner import file_utils as fu, data_prep as dp, calib, plot_utils as pu\n",
      "reload(calib)\n",
      "reload(fu)\n",
      "reload(dp)\n",
      "reload(pu)\n",
      "pd.set_option('display.max_rows', 20)\n",
      "pd.set_option('display.max_columns', 50)"
     ],
     "language": "python",
     "metadata": {},
     "outputs": [
      {
       "output_type": "stream",
       "stream": "stdout",
       "text": [
        "0.13.0rc1-59-g90990db\n"
       ]
      }
     ],
     "prompt_number": 1
    },
    {
     "cell_type": "code",
     "collapsed": false,
     "input": [
      "from diviner import coldregions\n",
      "reload(coldregions)"
     ],
     "language": "python",
     "metadata": {},
     "outputs": [
      {
       "metadata": {},
       "output_type": "pyout",
       "prompt_number": 2,
       "text": [
        "<module 'diviner.coldregions' from '/u/paige/maye/src/diviner/coldregions.pyc'>"
       ]
      }
     ],
     "prompt_number": 2
    },
    {
     "cell_type": "code",
     "collapsed": false,
     "input": [
      "cd /raid1/maye/coldregions/"
     ],
     "language": "python",
     "metadata": {},
     "outputs": [
      {
       "output_type": "stream",
       "stream": "stdout",
       "text": [
        "/raid1/maye/coldregions\n"
       ]
      }
     ],
     "prompt_number": 3
    },
    {
     "cell_type": "code",
     "collapsed": false,
     "input": [
      "newrad = coldregions.get_column_from_timestr('2009070808','norm_radiance')"
     ],
     "language": "python",
     "metadata": {},
     "outputs": [
      {
       "output_type": "stream",
       "stream": "stdout",
       "text": [
        "Appending 2009070807 on the left.\n",
        "Appending 2009070809 on the right."
       ]
      },
      {
       "output_type": "stream",
       "stream": "stdout",
       "text": [
        "\n"
       ]
      }
     ],
     "prompt_number": 4
    },
    {
     "cell_type": "code",
     "collapsed": false,
     "input": [
      "try:\n",
      "    newrad = coldregions.get_"
     ],
     "language": "python",
     "metadata": {},
     "outputs": []
    },
    {
     "cell_type": "code",
     "collapsed": false,
     "input": [
      "root = \"/raid1/maye/coldregions/\"\n",
      "\n",
      "sps = []\n",
      "for region in '1 3 5'.split():\n",
      "    fname = root + 'region_sp' + region + '_9.txt'\n",
      "    sps.append(pd.read_csv(fname, sep='\\s*'))\n",
      "\n",
      "for df in sps:\n",
      "    df.second = np.round(df.second * 1000) / 1000\n",
      "    for col in ['year', 'month','date','hour','minute','det']:\n",
      "        df[col] = df[col].astype('int')\n",
      "    for col in ['year', 'month','date','hour','minute','second']:\n",
      "        df[col] = df[col].astype('string')\n",
      "    df.index = pd.to_datetime(df.year + '-' + df.month + '-' + df.date + ' ' +\n",
      "               df.hour + ':' + df.minute + ':' + df.second, utc=True)\n",
      "    df['filetimestr'] = df.index.map(coldregions.get_l1a_timestring)"
     ],
     "language": "python",
     "metadata": {},
     "outputs": [],
     "prompt_number": 11
    },
    {
     "cell_type": "code",
     "collapsed": false,
     "input": [
      "cd $root"
     ],
     "language": "python",
     "metadata": {},
     "outputs": [
      {
       "output_type": "stream",
       "stream": "stdout",
       "text": [
        "/raid1/maye/coldregions\n"
       ]
      }
     ],
     "prompt_number": 18
    },
    {
     "cell_type": "code",
     "collapsed": false,
     "input": [
      "sps[2].to_hdf('regions_data.h5','region5')"
     ],
     "language": "python",
     "metadata": {},
     "outputs": [],
     "prompt_number": 21
    },
    {
     "cell_type": "code",
     "collapsed": false,
     "input": [
      "store = pd.HDFStore('regions_data.h5')"
     ],
     "language": "python",
     "metadata": {},
     "outputs": [],
     "prompt_number": 22
    },
    {
     "cell_type": "code",
     "collapsed": false,
     "input": [
      "pd.read_hdf('./regions_data.h5','region1')"
     ],
     "language": "python",
     "metadata": {},
     "outputs": [
      {
       "html": [
        "<div style=\"max-height:1000px;max-width:1500px;overflow:auto;\">\n",
        "<table border=\"1\" class=\"dataframe\">\n",
        "  <thead>\n",
        "    <tr style=\"text-align: right;\">\n",
        "      <th></th>\n",
        "      <th>date</th>\n",
        "      <th>month</th>\n",
        "      <th>year</th>\n",
        "      <th>hour</th>\n",
        "      <th>minute</th>\n",
        "      <th>second</th>\n",
        "      <th>jdate</th>\n",
        "      <th>orbit</th>\n",
        "      <th>sundst</th>\n",
        "      <th>sunlat</th>\n",
        "      <th>sunlon</th>\n",
        "      <th>sclk</th>\n",
        "      <th>sclat</th>\n",
        "      <th>sclon</th>\n",
        "      <th>scrad</th>\n",
        "      <th>scalt</th>\n",
        "      <th>el_cmd</th>\n",
        "      <th>az_cmd</th>\n",
        "      <th>af</th>\n",
        "      <th>vert_lat</th>\n",
        "      <th>vert_lon</th>\n",
        "      <th>c</th>\n",
        "      <th>det</th>\n",
        "      <th>vlookx</th>\n",
        "      <th>vlooky</th>\n",
        "      <th>vlookz</th>\n",
        "      <th>radiance</th>\n",
        "      <th>tb</th>\n",
        "      <th>clat</th>\n",
        "      <th>clon</th>\n",
        "      <th>cemis</th>\n",
        "      <th>csunzen</th>\n",
        "      <th>csunazi</th>\n",
        "      <th>cloctime</th>\n",
        "      <th>qca</th>\n",
        "      <th>qge</th>\n",
        "      <th>qmi</th>\n",
        "      <th>qual</th>\n",
        "      <th>sppsx</th>\n",
        "      <th>sppsy</th>\n",
        "      <th>filetimestr</th>\n",
        "    </tr>\n",
        "  </thead>\n",
        "  <tbody>\n",
        "    <tr>\n",
        "      <th>2009-07-08 08:07:06.809000</th>\n",
        "      <td> 8</td>\n",
        "      <td> 7</td>\n",
        "      <td> 2009</td>\n",
        "      <td> 8</td>\n",
        "      <td> 7</td>\n",
        "      <td> 6.809</td>\n",
        "      <td> 2455020.838273</td>\n",
        "      <td> 165</td>\n",
        "      <td> 1.01931</td>\n",
        "      <td> 0.4032</td>\n",
        "      <td>-11.01865</td>\n",
        "      <td> 2.687332e+08</td>\n",
        "      <td>-87.131828</td>\n",
        "      <td> 78.004471</td>\n",
        "      <td> 1781.979004</td>\n",
        "      <td> 44.564831</td>\n",
        "      <td> 180</td>\n",
        "      <td> 240</td>\n",
        "      <td> 110</td>\n",
        "      <td> 0.19079</td>\n",
        "      <td> 162.083557</td>\n",
        "      <td> 9</td>\n",
        "      <td> 21</td>\n",
        "      <td> 0.011050</td>\n",
        "      <td>-0.090615</td>\n",
        "      <td> 0.995825</td>\n",
        "      <td> 0.0087</td>\n",
        "      <td> 31.370001</td>\n",
        "      <td>-87.185066</td>\n",
        "      <td> 77.116089</td>\n",
        "      <td> 2.76981</td>\n",
        "      <td> 90.311783</td>\n",
        "      <td> 127.972267</td>\n",
        "      <td> 17.875561</td>\n",
        "      <td> 0</td>\n",
        "      <td> 12</td>\n",
        "      <td> 0</td>\n",
        "      <td> 0</td>\n",
        "      <td> 83.225973</td>\n",
        "      <td> 19.036698</td>\n",
        "      <td> 2009070808</td>\n",
        "    </tr>\n",
        "    <tr>\n",
        "      <th>2009-07-08 08:07:06.937000</th>\n",
        "      <td> 8</td>\n",
        "      <td> 7</td>\n",
        "      <td> 2009</td>\n",
        "      <td> 8</td>\n",
        "      <td> 7</td>\n",
        "      <td> 6.937</td>\n",
        "      <td> 2455020.838275</td>\n",
        "      <td> 165</td>\n",
        "      <td> 1.01931</td>\n",
        "      <td> 0.4032</td>\n",
        "      <td>-11.01867</td>\n",
        "      <td> 2.687332e+08</td>\n",
        "      <td>-87.138763</td>\n",
        "      <td> 78.018127</td>\n",
        "      <td> 1781.978760</td>\n",
        "      <td> 44.564510</td>\n",
        "      <td> 180</td>\n",
        "      <td> 240</td>\n",
        "      <td> 110</td>\n",
        "      <td> 0.19074</td>\n",
        "      <td> 162.083542</td>\n",
        "      <td> 9</td>\n",
        "      <td> 19</td>\n",
        "      <td> 0.004579</td>\n",
        "      <td>-0.088020</td>\n",
        "      <td> 0.996108</td>\n",
        "      <td> 0.0051</td>\n",
        "      <td> 26.662001</td>\n",
        "      <td>-87.190529</td>\n",
        "      <td> 77.335068</td>\n",
        "      <td> 2.48074</td>\n",
        "      <td> 90.322693</td>\n",
        "      <td> 121.620644</td>\n",
        "      <td> 17.889999</td>\n",
        "      <td> 0</td>\n",
        "      <td> 12</td>\n",
        "      <td> 0</td>\n",
        "      <td> 0</td>\n",
        "      <td> 83.136408</td>\n",
        "      <td> 18.682138</td>\n",
        "      <td> 2009070808</td>\n",
        "    </tr>\n",
        "    <tr>\n",
        "      <th>2009-07-08 08:07:06.937000</th>\n",
        "      <td> 8</td>\n",
        "      <td> 7</td>\n",
        "      <td> 2009</td>\n",
        "      <td> 8</td>\n",
        "      <td> 7</td>\n",
        "      <td> 6.937</td>\n",
        "      <td> 2455020.838275</td>\n",
        "      <td> 165</td>\n",
        "      <td> 1.01931</td>\n",
        "      <td> 0.4032</td>\n",
        "      <td>-11.01867</td>\n",
        "      <td> 2.687332e+08</td>\n",
        "      <td>-87.138763</td>\n",
        "      <td> 78.018127</td>\n",
        "      <td> 1781.978760</td>\n",
        "      <td> 44.564510</td>\n",
        "      <td> 180</td>\n",
        "      <td> 240</td>\n",
        "      <td> 110</td>\n",
        "      <td> 0.19074</td>\n",
        "      <td> 162.083542</td>\n",
        "      <td> 9</td>\n",
        "      <td> 20</td>\n",
        "      <td> 0.007932</td>\n",
        "      <td>-0.089098</td>\n",
        "      <td> 0.995991</td>\n",
        "      <td> 0.0086</td>\n",
        "      <td> 31.226999</td>\n",
        "      <td>-87.191002</td>\n",
        "      <td> 77.229683</td>\n",
        "      <td> 2.61490</td>\n",
        "      <td> 90.317543</td>\n",
        "      <td> 125.172691</td>\n",
        "      <td> 17.883051</td>\n",
        "      <td> 0</td>\n",
        "      <td> 12</td>\n",
        "      <td> 0</td>\n",
        "      <td> 0</td>\n",
        "      <td> 83.087908</td>\n",
        "      <td> 18.831848</td>\n",
        "      <td> 2009070808</td>\n",
        "    </tr>\n",
        "    <tr>\n",
        "      <th>2009-07-08 08:07:06.937000</th>\n",
        "      <td> 8</td>\n",
        "      <td> 7</td>\n",
        "      <td> 2009</td>\n",
        "      <td> 8</td>\n",
        "      <td> 7</td>\n",
        "      <td> 6.937</td>\n",
        "      <td> 2455020.838275</td>\n",
        "      <td> 165</td>\n",
        "      <td> 1.01931</td>\n",
        "      <td> 0.4032</td>\n",
        "      <td>-11.01867</td>\n",
        "      <td> 2.687332e+08</td>\n",
        "      <td>-87.138763</td>\n",
        "      <td> 78.018127</td>\n",
        "      <td> 1781.978760</td>\n",
        "      <td> 44.564510</td>\n",
        "      <td> 180</td>\n",
        "      <td> 240</td>\n",
        "      <td> 110</td>\n",
        "      <td> 0.19074</td>\n",
        "      <td> 162.083542</td>\n",
        "      <td> 9</td>\n",
        "      <td> 21</td>\n",
        "      <td> 0.011087</td>\n",
        "      <td>-0.090500</td>\n",
        "      <td> 0.995835</td>\n",
        "      <td> 0.0112</td>\n",
        "      <td> 34.043999</td>\n",
        "      <td>-87.192001</td>\n",
        "      <td> 77.127831</td>\n",
        "      <td> 2.76981</td>\n",
        "      <td> 90.312576</td>\n",
        "      <td> 127.971832</td>\n",
        "      <td> 17.876390</td>\n",
        "      <td> 0</td>\n",
        "      <td> 12</td>\n",
        "      <td> 0</td>\n",
        "      <td> 0</td>\n",
        "      <td> 83.024737</td>\n",
        "      <td> 18.972765</td>\n",
        "      <td> 2009070808</td>\n",
        "    </tr>\n",
        "    <tr>\n",
        "      <th>2009-07-08 08:07:07.065000</th>\n",
        "      <td> 8</td>\n",
        "      <td> 7</td>\n",
        "      <td> 2009</td>\n",
        "      <td> 8</td>\n",
        "      <td> 7</td>\n",
        "      <td> 7.065</td>\n",
        "      <td> 2455020.838276</td>\n",
        "      <td> 165</td>\n",
        "      <td> 1.01931</td>\n",
        "      <td> 0.4032</td>\n",
        "      <td>-11.01868</td>\n",
        "      <td> 2.687332e+08</td>\n",
        "      <td>-87.145683</td>\n",
        "      <td> 78.031860</td>\n",
        "      <td> 1781.978394</td>\n",
        "      <td> 44.564190</td>\n",
        "      <td> 180</td>\n",
        "      <td> 240</td>\n",
        "      <td> 110</td>\n",
        "      <td> 0.19071</td>\n",
        "      <td> 162.083572</td>\n",
        "      <td> 9</td>\n",
        "      <td> 17</td>\n",
        "      <td>-0.001671</td>\n",
        "      <td>-0.085881</td>\n",
        "      <td> 0.996304</td>\n",
        "      <td> 0.0153</td>\n",
        "      <td> 37.875000</td>\n",
        "      <td>-87.196541</td>\n",
        "      <td> 77.545319</td>\n",
        "      <td> 2.25920</td>\n",
        "      <td> 90.333138</td>\n",
        "      <td> 113.892319</td>\n",
        "      <td> 17.904169</td>\n",
        "      <td> 0</td>\n",
        "      <td> 12</td>\n",
        "      <td> 0</td>\n",
        "      <td> 0</td>\n",
        "      <td> 83.026284</td>\n",
        "      <td> 18.337598</td>\n",
        "      <td> 2009070808</td>\n",
        "    </tr>\n",
        "    <tr>\n",
        "      <th>2009-07-08 08:07:07.065000</th>\n",
        "      <td> 8</td>\n",
        "      <td> 7</td>\n",
        "      <td> 2009</td>\n",
        "      <td> 8</td>\n",
        "      <td> 7</td>\n",
        "      <td> 7.065</td>\n",
        "      <td> 2455020.838276</td>\n",
        "      <td> 165</td>\n",
        "      <td> 1.01931</td>\n",
        "      <td> 0.4032</td>\n",
        "      <td>-11.01868</td>\n",
        "      <td> 2.687332e+08</td>\n",
        "      <td>-87.145683</td>\n",
        "      <td> 78.031860</td>\n",
        "      <td> 1781.978394</td>\n",
        "      <td> 44.564190</td>\n",
        "      <td> 180</td>\n",
        "      <td> 240</td>\n",
        "      <td> 110</td>\n",
        "      <td> 0.19071</td>\n",
        "      <td> 162.083572</td>\n",
        "      <td> 9</td>\n",
        "      <td> 18</td>\n",
        "      <td> 0.001347</td>\n",
        "      <td>-0.086853</td>\n",
        "      <td> 0.996220</td>\n",
        "      <td> 0.0173</td>\n",
        "      <td> 39.617001</td>\n",
        "      <td>-87.196991</td>\n",
        "      <td> 77.450333</td>\n",
        "      <td> 2.36019</td>\n",
        "      <td> 90.328506</td>\n",
        "      <td> 117.782310</td>\n",
        "      <td> 17.897779</td>\n",
        "      <td> 0</td>\n",
        "      <td> 12</td>\n",
        "      <td> 0</td>\n",
        "      <td> 0</td>\n",
        "      <td> 82.982438</td>\n",
        "      <td> 18.472248</td>\n",
        "      <td> 2009070808</td>\n",
        "    </tr>\n",
        "    <tr>\n",
        "      <th>2009-07-08 08:07:07.065000</th>\n",
        "      <td> 8</td>\n",
        "      <td> 7</td>\n",
        "      <td> 2009</td>\n",
        "      <td> 8</td>\n",
        "      <td> 7</td>\n",
        "      <td> 7.065</td>\n",
        "      <td> 2455020.838276</td>\n",
        "      <td> 165</td>\n",
        "      <td> 1.01931</td>\n",
        "      <td> 0.4032</td>\n",
        "      <td>-11.01868</td>\n",
        "      <td> 2.687332e+08</td>\n",
        "      <td>-87.145683</td>\n",
        "      <td> 78.031860</td>\n",
        "      <td> 1781.978394</td>\n",
        "      <td> 44.564190</td>\n",
        "      <td> 180</td>\n",
        "      <td> 240</td>\n",
        "      <td> 110</td>\n",
        "      <td> 0.19071</td>\n",
        "      <td> 162.083572</td>\n",
        "      <td> 9</td>\n",
        "      <td> 19</td>\n",
        "      <td> 0.004616</td>\n",
        "      <td>-0.087905</td>\n",
        "      <td> 0.996118</td>\n",
        "      <td> 0.0144</td>\n",
        "      <td> 37.088001</td>\n",
        "      <td>-87.197456</td>\n",
        "      <td> 77.347366</td>\n",
        "      <td> 2.48079</td>\n",
        "      <td> 90.323486</td>\n",
        "      <td> 121.619881</td>\n",
        "      <td> 17.890829</td>\n",
        "      <td> 0</td>\n",
        "      <td> 12</td>\n",
        "      <td> 0</td>\n",
        "      <td> 0</td>\n",
        "      <td> 82.935330</td>\n",
        "      <td> 18.618253</td>\n",
        "      <td> 2009070808</td>\n",
        "    </tr>\n",
        "    <tr>\n",
        "      <th>2009-07-08 08:07:07.065000</th>\n",
        "      <td> 8</td>\n",
        "      <td> 7</td>\n",
        "      <td> 2009</td>\n",
        "      <td> 8</td>\n",
        "      <td> 7</td>\n",
        "      <td> 7.065</td>\n",
        "      <td> 2455020.838276</td>\n",
        "      <td> 165</td>\n",
        "      <td> 1.01931</td>\n",
        "      <td> 0.4032</td>\n",
        "      <td>-11.01868</td>\n",
        "      <td> 2.687332e+08</td>\n",
        "      <td>-87.145683</td>\n",
        "      <td> 78.031860</td>\n",
        "      <td> 1781.978394</td>\n",
        "      <td> 44.564190</td>\n",
        "      <td> 180</td>\n",
        "      <td> 240</td>\n",
        "      <td> 110</td>\n",
        "      <td> 0.19071</td>\n",
        "      <td> 162.083572</td>\n",
        "      <td> 9</td>\n",
        "      <td> 20</td>\n",
        "      <td> 0.007968</td>\n",
        "      <td>-0.088984</td>\n",
        "      <td> 0.996001</td>\n",
        "      <td> 0.0108</td>\n",
        "      <td> 33.666000</td>\n",
        "      <td>-87.197937</td>\n",
        "      <td> 77.241707</td>\n",
        "      <td> 2.61494</td>\n",
        "      <td> 90.318336</td>\n",
        "      <td> 125.171913</td>\n",
        "      <td> 17.883890</td>\n",
        "      <td> 0</td>\n",
        "      <td> 12</td>\n",
        "      <td> 0</td>\n",
        "      <td> 0</td>\n",
        "      <td> 82.886631</td>\n",
        "      <td> 18.767942</td>\n",
        "      <td> 2009070808</td>\n",
        "    </tr>\n",
        "    <tr>\n",
        "      <th>2009-07-08 08:07:07.065000</th>\n",
        "      <td> 8</td>\n",
        "      <td> 7</td>\n",
        "      <td> 2009</td>\n",
        "      <td> 8</td>\n",
        "      <td> 7</td>\n",
        "      <td> 7.065</td>\n",
        "      <td> 2455020.838276</td>\n",
        "      <td> 165</td>\n",
        "      <td> 1.01931</td>\n",
        "      <td> 0.4032</td>\n",
        "      <td>-11.01868</td>\n",
        "      <td> 2.687332e+08</td>\n",
        "      <td>-87.145683</td>\n",
        "      <td> 78.031860</td>\n",
        "      <td> 1781.978394</td>\n",
        "      <td> 44.564190</td>\n",
        "      <td> 180</td>\n",
        "      <td> 240</td>\n",
        "      <td> 110</td>\n",
        "      <td> 0.19071</td>\n",
        "      <td> 162.083572</td>\n",
        "      <td> 9</td>\n",
        "      <td> 21</td>\n",
        "      <td> 0.011123</td>\n",
        "      <td>-0.090386</td>\n",
        "      <td> 0.995845</td>\n",
        "      <td> 0.0112</td>\n",
        "      <td> 34.043999</td>\n",
        "      <td>-87.198936</td>\n",
        "      <td> 77.139633</td>\n",
        "      <td> 2.76986</td>\n",
        "      <td> 90.313393</td>\n",
        "      <td> 127.971046</td>\n",
        "      <td> 17.876940</td>\n",
        "      <td> 0</td>\n",
        "      <td> 12</td>\n",
        "      <td> 0</td>\n",
        "      <td> 0</td>\n",
        "      <td> 82.823500</td>\n",
        "      <td> 18.908827</td>\n",
        "      <td> 2009070808</td>\n",
        "    </tr>\n",
        "    <tr>\n",
        "      <th>2009-07-08 08:07:07.193000</th>\n",
        "      <td> 8</td>\n",
        "      <td> 7</td>\n",
        "      <td> 2009</td>\n",
        "      <td> 8</td>\n",
        "      <td> 7</td>\n",
        "      <td> 7.193</td>\n",
        "      <td> 2455020.838278</td>\n",
        "      <td> 165</td>\n",
        "      <td> 1.01931</td>\n",
        "      <td> 0.4032</td>\n",
        "      <td>-11.01870</td>\n",
        "      <td> 2.687332e+08</td>\n",
        "      <td>-87.152603</td>\n",
        "      <td> 78.045647</td>\n",
        "      <td> 1781.978027</td>\n",
        "      <td> 44.563862</td>\n",
        "      <td> 180</td>\n",
        "      <td> 240</td>\n",
        "      <td> 110</td>\n",
        "      <td> 0.19072</td>\n",
        "      <td> 162.083527</td>\n",
        "      <td> 9</td>\n",
        "      <td> 16</td>\n",
        "      <td>-0.005013</td>\n",
        "      <td>-0.084769</td>\n",
        "      <td> 0.996388</td>\n",
        "      <td> 0.0045</td>\n",
        "      <td> 25.747000</td>\n",
        "      <td>-87.203087</td>\n",
        "      <td> 77.664146</td>\n",
        "      <td> 2.16501</td>\n",
        "      <td> 90.339104</td>\n",
        "      <td> 109.110184</td>\n",
        "      <td> 17.911949</td>\n",
        "      <td> 0</td>\n",
        "      <td> 12</td>\n",
        "      <td> 0</td>\n",
        "      <td> 0</td>\n",
        "      <td> 82.870106</td>\n",
        "      <td> 18.122935</td>\n",
        "      <td> 2009070808</td>\n",
        "    </tr>\n",
        "    <tr>\n",
        "      <th>2009-07-08 08:07:07.193000</th>\n",
        "      <td> 8</td>\n",
        "      <td> 7</td>\n",
        "      <td> 2009</td>\n",
        "      <td> 8</td>\n",
        "      <td> 7</td>\n",
        "      <td> 7.193</td>\n",
        "      <td> 2455020.838278</td>\n",
        "      <td> 165</td>\n",
        "      <td> 1.01931</td>\n",
        "      <td> 0.4032</td>\n",
        "      <td>-11.01870</td>\n",
        "      <td> 2.687332e+08</td>\n",
        "      <td>-87.152603</td>\n",
        "      <td> 78.045647</td>\n",
        "      <td> 1781.978027</td>\n",
        "      <td> 44.563862</td>\n",
        "      <td> 180</td>\n",
        "      <td> 240</td>\n",
        "      <td> 110</td>\n",
        "      <td> 0.19072</td>\n",
        "      <td> 162.083527</td>\n",
        "      <td> 9</td>\n",
        "      <td> 17</td>\n",
        "      <td>-0.001633</td>\n",
        "      <td>-0.085765</td>\n",
        "      <td> 0.996314</td>\n",
        "      <td> 0.0107</td>\n",
        "      <td> 33.542000</td>\n",
        "      <td>-87.203468</td>\n",
        "      <td> 77.558144</td>\n",
        "      <td> 2.25918</td>\n",
        "      <td> 90.333939</td>\n",
        "      <td> 113.894142</td>\n",
        "      <td> 17.905001</td>\n",
        "      <td> 0</td>\n",
        "      <td> 12</td>\n",
        "      <td> 0</td>\n",
        "      <td> 0</td>\n",
        "      <td> 82.825133</td>\n",
        "      <td> 18.273728</td>\n",
        "      <td> 2009070808</td>\n",
        "    </tr>\n",
        "    <tr>\n",
        "      <th>2009-07-08 08:07:07.193000</th>\n",
        "      <td> 8</td>\n",
        "      <td> 7</td>\n",
        "      <td> 2009</td>\n",
        "      <td> 8</td>\n",
        "      <td> 7</td>\n",
        "      <td> 7.193</td>\n",
        "      <td> 2455020.838278</td>\n",
        "      <td> 165</td>\n",
        "      <td> 1.01931</td>\n",
        "      <td> 0.4032</td>\n",
        "      <td>-11.01870</td>\n",
        "      <td> 2.687332e+08</td>\n",
        "      <td>-87.152603</td>\n",
        "      <td> 78.045647</td>\n",
        "      <td> 1781.978027</td>\n",
        "      <td> 44.563862</td>\n",
        "      <td> 180</td>\n",
        "      <td> 240</td>\n",
        "      <td> 110</td>\n",
        "      <td> 0.19072</td>\n",
        "      <td> 162.083527</td>\n",
        "      <td> 9</td>\n",
        "      <td> 18</td>\n",
        "      <td> 0.001385</td>\n",
        "      <td>-0.086737</td>\n",
        "      <td> 0.996230</td>\n",
        "      <td> 0.0151</td>\n",
        "      <td> 37.723000</td>\n",
        "      <td>-87.203911</td>\n",
        "      <td> 77.462914</td>\n",
        "      <td> 2.36016</td>\n",
        "      <td> 90.329308</td>\n",
        "      <td> 117.784088</td>\n",
        "      <td> 17.898609</td>\n",
        "      <td> 0</td>\n",
        "      <td> 12</td>\n",
        "      <td> 0</td>\n",
        "      <td> 0</td>\n",
        "      <td> 82.781540</td>\n",
        "      <td> 18.408450</td>\n",
        "      <td> 2009070808</td>\n",
        "    </tr>\n",
        "    <tr>\n",
        "      <th>2009-07-08 08:07:07.193000</th>\n",
        "      <td> 8</td>\n",
        "      <td> 7</td>\n",
        "      <td> 2009</td>\n",
        "      <td> 8</td>\n",
        "      <td> 7</td>\n",
        "      <td> 7.193</td>\n",
        "      <td> 2455020.838278</td>\n",
        "      <td> 165</td>\n",
        "      <td> 1.01931</td>\n",
        "      <td> 0.4032</td>\n",
        "      <td>-11.01870</td>\n",
        "      <td> 2.687332e+08</td>\n",
        "      <td>-87.152603</td>\n",
        "      <td> 78.045647</td>\n",
        "      <td> 1781.978027</td>\n",
        "      <td> 44.563862</td>\n",
        "      <td> 180</td>\n",
        "      <td> 240</td>\n",
        "      <td> 110</td>\n",
        "      <td> 0.19072</td>\n",
        "      <td> 162.083527</td>\n",
        "      <td> 9</td>\n",
        "      <td> 19</td>\n",
        "      <td> 0.004654</td>\n",
        "      <td>-0.087789</td>\n",
        "      <td> 0.996128</td>\n",
        "      <td> 0.0121</td>\n",
        "      <td> 34.903000</td>\n",
        "      <td>-87.204391</td>\n",
        "      <td> 77.359703</td>\n",
        "      <td> 2.48077</td>\n",
        "      <td> 90.324287</td>\n",
        "      <td> 121.621597</td>\n",
        "      <td> 17.891670</td>\n",
        "      <td> 0</td>\n",
        "      <td> 12</td>\n",
        "      <td> 0</td>\n",
        "      <td> 0</td>\n",
        "      <td> 82.734015</td>\n",
        "      <td> 18.554348</td>\n",
        "      <td> 2009070808</td>\n",
        "    </tr>\n",
        "    <tr>\n",
        "      <th>2009-07-08 08:07:07.193000</th>\n",
        "      <td> 8</td>\n",
        "      <td> 7</td>\n",
        "      <td> 2009</td>\n",
        "      <td> 8</td>\n",
        "      <td> 7</td>\n",
        "      <td> 7.193</td>\n",
        "      <td> 2455020.838278</td>\n",
        "      <td> 165</td>\n",
        "      <td> 1.01931</td>\n",
        "      <td> 0.4032</td>\n",
        "      <td>-11.01870</td>\n",
        "      <td> 2.687332e+08</td>\n",
        "      <td>-87.152603</td>\n",
        "      <td> 78.045647</td>\n",
        "      <td> 1781.978027</td>\n",
        "      <td> 44.563862</td>\n",
        "      <td> 180</td>\n",
        "      <td> 240</td>\n",
        "      <td> 110</td>\n",
        "      <td> 0.19072</td>\n",
        "      <td> 162.083527</td>\n",
        "      <td> 9</td>\n",
        "      <td> 20</td>\n",
        "      <td> 0.008006</td>\n",
        "      <td>-0.088868</td>\n",
        "      <td> 0.996011</td>\n",
        "      <td> 0.0018</td>\n",
        "      <td> 20.281000</td>\n",
        "      <td>-87.204857</td>\n",
        "      <td> 77.253792</td>\n",
        "      <td> 2.61493</td>\n",
        "      <td> 90.319153</td>\n",
        "      <td> 125.173569</td>\n",
        "      <td> 17.884720</td>\n",
        "      <td> 0</td>\n",
        "      <td> 12</td>\n",
        "      <td> 0</td>\n",
        "      <td> 0</td>\n",
        "      <td> 82.685804</td>\n",
        "      <td> 18.704135</td>\n",
        "      <td> 2009070808</td>\n",
        "    </tr>\n",
        "    <tr>\n",
        "      <th>2009-07-08 08:07:07.193000</th>\n",
        "      <td> 8</td>\n",
        "      <td> 7</td>\n",
        "      <td> 2009</td>\n",
        "      <td> 8</td>\n",
        "      <td> 7</td>\n",
        "      <td> 7.193</td>\n",
        "      <td> 2455020.838278</td>\n",
        "      <td> 165</td>\n",
        "      <td> 1.01931</td>\n",
        "      <td> 0.4032</td>\n",
        "      <td>-11.01870</td>\n",
        "      <td> 2.687332e+08</td>\n",
        "      <td>-87.152603</td>\n",
        "      <td> 78.045647</td>\n",
        "      <td> 1781.978027</td>\n",
        "      <td> 44.563862</td>\n",
        "      <td> 180</td>\n",
        "      <td> 240</td>\n",
        "      <td> 110</td>\n",
        "      <td> 0.19072</td>\n",
        "      <td> 162.083527</td>\n",
        "      <td> 9</td>\n",
        "      <td> 21</td>\n",
        "      <td> 0.011161</td>\n",
        "      <td>-0.090270</td>\n",
        "      <td> 0.995855</td>\n",
        "      <td> 0.0087</td>\n",
        "      <td> 31.370001</td>\n",
        "      <td>-87.205856</td>\n",
        "      <td> 77.151451</td>\n",
        "      <td> 2.76985</td>\n",
        "      <td> 90.314194</td>\n",
        "      <td> 127.972633</td>\n",
        "      <td> 17.877781</td>\n",
        "      <td> 0</td>\n",
        "      <td> 12</td>\n",
        "      <td> 0</td>\n",
        "      <td> 0</td>\n",
        "      <td> 82.622697</td>\n",
        "      <td> 18.845054</td>\n",
        "      <td> 2009070808</td>\n",
        "    </tr>\n",
        "    <tr>\n",
        "      <th>2009-07-08 08:07:07.321000</th>\n",
        "      <td> 8</td>\n",
        "      <td> 7</td>\n",
        "      <td> 2009</td>\n",
        "      <td> 8</td>\n",
        "      <td> 7</td>\n",
        "      <td> 7.321</td>\n",
        "      <td> 2455020.838279</td>\n",
        "      <td> 165</td>\n",
        "      <td> 1.01931</td>\n",
        "      <td> 0.4032</td>\n",
        "      <td>-11.01872</td>\n",
        "      <td> 2.687332e+08</td>\n",
        "      <td>-87.159523</td>\n",
        "      <td> 78.059509</td>\n",
        "      <td> 1781.977661</td>\n",
        "      <td> 44.563541</td>\n",
        "      <td> 180</td>\n",
        "      <td> 240</td>\n",
        "      <td> 110</td>\n",
        "      <td> 0.19073</td>\n",
        "      <td> 162.083511</td>\n",
        "      <td> 9</td>\n",
        "      <td> 16</td>\n",
        "      <td>-0.004975</td>\n",
        "      <td>-0.084654</td>\n",
        "      <td> 0.996398</td>\n",
        "      <td>-0.0001</td>\n",
        "      <td>-11.620000</td>\n",
        "      <td>-87.210022</td>\n",
        "      <td> 77.677292</td>\n",
        "      <td> 2.16503</td>\n",
        "      <td> 90.339897</td>\n",
        "      <td> 109.111290</td>\n",
        "      <td> 17.913059</td>\n",
        "      <td> 0</td>\n",
        "      <td> 12</td>\n",
        "      <td> 0</td>\n",
        "      <td> 0</td>\n",
        "      <td> 82.668689</td>\n",
        "      <td> 18.059014</td>\n",
        "      <td> 2009070808</td>\n",
        "    </tr>\n",
        "    <tr>\n",
        "      <th>2009-07-08 08:07:07.321000</th>\n",
        "      <td> 8</td>\n",
        "      <td> 7</td>\n",
        "      <td> 2009</td>\n",
        "      <td> 8</td>\n",
        "      <td> 7</td>\n",
        "      <td> 7.321</td>\n",
        "      <td> 2455020.838279</td>\n",
        "      <td> 165</td>\n",
        "      <td> 1.01931</td>\n",
        "      <td> 0.4032</td>\n",
        "      <td>-11.01872</td>\n",
        "      <td> 2.687332e+08</td>\n",
        "      <td>-87.159523</td>\n",
        "      <td> 78.059509</td>\n",
        "      <td> 1781.977661</td>\n",
        "      <td> 44.563541</td>\n",
        "      <td> 180</td>\n",
        "      <td> 240</td>\n",
        "      <td> 110</td>\n",
        "      <td> 0.19073</td>\n",
        "      <td> 162.083511</td>\n",
        "      <td> 9</td>\n",
        "      <td> 17</td>\n",
        "      <td>-0.001595</td>\n",
        "      <td>-0.085650</td>\n",
        "      <td> 0.996324</td>\n",
        "      <td> 0.0061</td>\n",
        "      <td> 28.198999</td>\n",
        "      <td>-87.210403</td>\n",
        "      <td> 77.571022</td>\n",
        "      <td> 2.25920</td>\n",
        "      <td> 90.334747</td>\n",
        "      <td> 113.895149</td>\n",
        "      <td> 17.905830</td>\n",
        "      <td> 0</td>\n",
        "      <td> 12</td>\n",
        "      <td> 0</td>\n",
        "      <td> 0</td>\n",
        "      <td> 82.623749</td>\n",
        "      <td> 18.209822</td>\n",
        "      <td> 2009070808</td>\n",
        "    </tr>\n",
        "    <tr>\n",
        "      <th>2009-07-08 08:07:07.321000</th>\n",
        "      <td> 8</td>\n",
        "      <td> 7</td>\n",
        "      <td> 2009</td>\n",
        "      <td> 8</td>\n",
        "      <td> 7</td>\n",
        "      <td> 7.321</td>\n",
        "      <td> 2455020.838279</td>\n",
        "      <td> 165</td>\n",
        "      <td> 1.01931</td>\n",
        "      <td> 0.4032</td>\n",
        "      <td>-11.01872</td>\n",
        "      <td> 2.687332e+08</td>\n",
        "      <td>-87.159523</td>\n",
        "      <td> 78.059509</td>\n",
        "      <td> 1781.977661</td>\n",
        "      <td> 44.563541</td>\n",
        "      <td> 180</td>\n",
        "      <td> 240</td>\n",
        "      <td> 110</td>\n",
        "      <td> 0.19073</td>\n",
        "      <td> 162.083511</td>\n",
        "      <td> 9</td>\n",
        "      <td> 18</td>\n",
        "      <td> 0.001422</td>\n",
        "      <td>-0.086622</td>\n",
        "      <td> 0.996240</td>\n",
        "      <td> 0.0085</td>\n",
        "      <td> 31.131001</td>\n",
        "      <td>-87.210838</td>\n",
        "      <td> 77.475563</td>\n",
        "      <td> 2.36019</td>\n",
        "      <td> 90.330109</td>\n",
        "      <td> 117.785011</td>\n",
        "      <td> 17.899441</td>\n",
        "      <td> 0</td>\n",
        "      <td> 12</td>\n",
        "      <td> 0</td>\n",
        "      <td> 0</td>\n",
        "      <td> 82.580414</td>\n",
        "      <td> 18.344593</td>\n",
        "      <td> 2009070808</td>\n",
        "    </tr>\n",
        "    <tr>\n",
        "      <th>2009-07-08 08:07:07.321000</th>\n",
        "      <td> 8</td>\n",
        "      <td> 7</td>\n",
        "      <td> 2009</td>\n",
        "      <td> 8</td>\n",
        "      <td> 7</td>\n",
        "      <td> 7.321</td>\n",
        "      <td> 2455020.838279</td>\n",
        "      <td> 165</td>\n",
        "      <td> 1.01931</td>\n",
        "      <td> 0.4032</td>\n",
        "      <td>-11.01872</td>\n",
        "      <td> 2.687332e+08</td>\n",
        "      <td>-87.159523</td>\n",
        "      <td> 78.059509</td>\n",
        "      <td> 1781.977661</td>\n",
        "      <td> 44.563541</td>\n",
        "      <td> 180</td>\n",
        "      <td> 240</td>\n",
        "      <td> 110</td>\n",
        "      <td> 0.19073</td>\n",
        "      <td> 162.083511</td>\n",
        "      <td> 9</td>\n",
        "      <td> 19</td>\n",
        "      <td> 0.004691</td>\n",
        "      <td>-0.087674</td>\n",
        "      <td> 0.996138</td>\n",
        "      <td> 0.0074</td>\n",
        "      <td> 29.830999</td>\n",
        "      <td>-87.211319</td>\n",
        "      <td> 77.372101</td>\n",
        "      <td> 2.48080</td>\n",
        "      <td> 90.325089</td>\n",
        "      <td> 121.622437</td>\n",
        "      <td> 17.892500</td>\n",
        "      <td> 0</td>\n",
        "      <td> 12</td>\n",
        "      <td> 0</td>\n",
        "      <td> 0</td>\n",
        "      <td> 82.532923</td>\n",
        "      <td> 18.490495</td>\n",
        "      <td> 2009070808</td>\n",
        "    </tr>\n",
        "    <tr>\n",
        "      <th>2009-07-08 08:07:07.321000</th>\n",
        "      <td> 8</td>\n",
        "      <td> 7</td>\n",
        "      <td> 2009</td>\n",
        "      <td> 8</td>\n",
        "      <td> 7</td>\n",
        "      <td> 7.321</td>\n",
        "      <td> 2455020.838279</td>\n",
        "      <td> 165</td>\n",
        "      <td> 1.01931</td>\n",
        "      <td> 0.4032</td>\n",
        "      <td>-11.01872</td>\n",
        "      <td> 2.687332e+08</td>\n",
        "      <td>-87.159523</td>\n",
        "      <td> 78.059509</td>\n",
        "      <td> 1781.977661</td>\n",
        "      <td> 44.563541</td>\n",
        "      <td> 180</td>\n",
        "      <td> 240</td>\n",
        "      <td> 110</td>\n",
        "      <td> 0.19073</td>\n",
        "      <td> 162.083511</td>\n",
        "      <td> 9</td>\n",
        "      <td> 20</td>\n",
        "      <td> 0.008043</td>\n",
        "      <td>-0.088753</td>\n",
        "      <td> 0.996021</td>\n",
        "      <td> 0.0063</td>\n",
        "      <td> 28.440001</td>\n",
        "      <td>-87.211792</td>\n",
        "      <td> 77.265930</td>\n",
        "      <td> 2.61496</td>\n",
        "      <td> 90.319946</td>\n",
        "      <td> 125.174316</td>\n",
        "      <td> 17.885559</td>\n",
        "      <td> 0</td>\n",
        "      <td> 12</td>\n",
        "      <td> 0</td>\n",
        "      <td> 0</td>\n",
        "      <td> 82.484519</td>\n",
        "      <td> 18.640235</td>\n",
        "      <td> 2009070808</td>\n",
        "    </tr>\n",
        "    <tr>\n",
        "      <th></th>\n",
        "      <td>...</td>\n",
        "      <td>...</td>\n",
        "      <td>...</td>\n",
        "      <td>...</td>\n",
        "      <td>...</td>\n",
        "      <td>...</td>\n",
        "      <td>...</td>\n",
        "      <td>...</td>\n",
        "      <td>...</td>\n",
        "      <td>...</td>\n",
        "      <td>...</td>\n",
        "      <td>...</td>\n",
        "      <td>...</td>\n",
        "      <td>...</td>\n",
        "      <td>...</td>\n",
        "      <td>...</td>\n",
        "      <td>...</td>\n",
        "      <td>...</td>\n",
        "      <td>...</td>\n",
        "      <td>...</td>\n",
        "      <td>...</td>\n",
        "      <td>...</td>\n",
        "      <td>...</td>\n",
        "      <td>...</td>\n",
        "      <td>...</td>\n",
        "      <td>...</td>\n",
        "      <td>...</td>\n",
        "      <td>...</td>\n",
        "      <td>...</td>\n",
        "      <td>...</td>\n",
        "      <td>...</td>\n",
        "      <td>...</td>\n",
        "      <td>...</td>\n",
        "      <td>...</td>\n",
        "      <td>...</td>\n",
        "      <td>...</td>\n",
        "      <td>...</td>\n",
        "      <td>...</td>\n",
        "      <td>...</td>\n",
        "      <td>...</td>\n",
        "      <td>...</td>\n",
        "    </tr>\n",
        "  </tbody>\n",
        "</table>\n",
        "<p>24064 rows \u00d7 41 columns</p>\n",
        "</div>"
       ],
       "metadata": {},
       "output_type": "pyout",
       "prompt_number": 24,
       "text": [
        "                           date month  year hour minute second  \\\n",
        "2009-07-08 08:07:06.809000    8     7  2009    8      7  6.809   \n",
        "2009-07-08 08:07:06.937000    8     7  2009    8      7  6.937   \n",
        "2009-07-08 08:07:06.937000    8     7  2009    8      7  6.937   \n",
        "2009-07-08 08:07:06.937000    8     7  2009    8      7  6.937   \n",
        "2009-07-08 08:07:07.065000    8     7  2009    8      7  7.065   \n",
        "2009-07-08 08:07:07.065000    8     7  2009    8      7  7.065   \n",
        "2009-07-08 08:07:07.065000    8     7  2009    8      7  7.065   \n",
        "2009-07-08 08:07:07.065000    8     7  2009    8      7  7.065   \n",
        "2009-07-08 08:07:07.065000    8     7  2009    8      7  7.065   \n",
        "2009-07-08 08:07:07.193000    8     7  2009    8      7  7.193   \n",
        "2009-07-08 08:07:07.193000    8     7  2009    8      7  7.193   \n",
        "2009-07-08 08:07:07.193000    8     7  2009    8      7  7.193   \n",
        "2009-07-08 08:07:07.193000    8     7  2009    8      7  7.193   \n",
        "2009-07-08 08:07:07.193000    8     7  2009    8      7  7.193   \n",
        "2009-07-08 08:07:07.193000    8     7  2009    8      7  7.193   \n",
        "2009-07-08 08:07:07.321000    8     7  2009    8      7  7.321   \n",
        "2009-07-08 08:07:07.321000    8     7  2009    8      7  7.321   \n",
        "2009-07-08 08:07:07.321000    8     7  2009    8      7  7.321   \n",
        "2009-07-08 08:07:07.321000    8     7  2009    8      7  7.321   \n",
        "2009-07-08 08:07:07.321000    8     7  2009    8      7  7.321   \n",
        "                            ...   ...   ...  ...    ...    ...   \n",
        "\n",
        "                                     jdate  orbit   sundst  sunlat    sunlon  \\\n",
        "2009-07-08 08:07:06.809000  2455020.838273    165  1.01931  0.4032 -11.01865   \n",
        "2009-07-08 08:07:06.937000  2455020.838275    165  1.01931  0.4032 -11.01867   \n",
        "2009-07-08 08:07:06.937000  2455020.838275    165  1.01931  0.4032 -11.01867   \n",
        "2009-07-08 08:07:06.937000  2455020.838275    165  1.01931  0.4032 -11.01867   \n",
        "2009-07-08 08:07:07.065000  2455020.838276    165  1.01931  0.4032 -11.01868   \n",
        "2009-07-08 08:07:07.065000  2455020.838276    165  1.01931  0.4032 -11.01868   \n",
        "2009-07-08 08:07:07.065000  2455020.838276    165  1.01931  0.4032 -11.01868   \n",
        "2009-07-08 08:07:07.065000  2455020.838276    165  1.01931  0.4032 -11.01868   \n",
        "2009-07-08 08:07:07.065000  2455020.838276    165  1.01931  0.4032 -11.01868   \n",
        "2009-07-08 08:07:07.193000  2455020.838278    165  1.01931  0.4032 -11.01870   \n",
        "2009-07-08 08:07:07.193000  2455020.838278    165  1.01931  0.4032 -11.01870   \n",
        "2009-07-08 08:07:07.193000  2455020.838278    165  1.01931  0.4032 -11.01870   \n",
        "2009-07-08 08:07:07.193000  2455020.838278    165  1.01931  0.4032 -11.01870   \n",
        "2009-07-08 08:07:07.193000  2455020.838278    165  1.01931  0.4032 -11.01870   \n",
        "2009-07-08 08:07:07.193000  2455020.838278    165  1.01931  0.4032 -11.01870   \n",
        "2009-07-08 08:07:07.321000  2455020.838279    165  1.01931  0.4032 -11.01872   \n",
        "2009-07-08 08:07:07.321000  2455020.838279    165  1.01931  0.4032 -11.01872   \n",
        "2009-07-08 08:07:07.321000  2455020.838279    165  1.01931  0.4032 -11.01872   \n",
        "2009-07-08 08:07:07.321000  2455020.838279    165  1.01931  0.4032 -11.01872   \n",
        "2009-07-08 08:07:07.321000  2455020.838279    165  1.01931  0.4032 -11.01872   \n",
        "                                       ...    ...      ...     ...       ...   \n",
        "\n",
        "                                    sclk      sclat      sclon        scrad  \\\n",
        "2009-07-08 08:07:06.809000  2.687332e+08 -87.131828  78.004471  1781.979004   \n",
        "2009-07-08 08:07:06.937000  2.687332e+08 -87.138763  78.018127  1781.978760   \n",
        "2009-07-08 08:07:06.937000  2.687332e+08 -87.138763  78.018127  1781.978760   \n",
        "2009-07-08 08:07:06.937000  2.687332e+08 -87.138763  78.018127  1781.978760   \n",
        "2009-07-08 08:07:07.065000  2.687332e+08 -87.145683  78.031860  1781.978394   \n",
        "2009-07-08 08:07:07.065000  2.687332e+08 -87.145683  78.031860  1781.978394   \n",
        "2009-07-08 08:07:07.065000  2.687332e+08 -87.145683  78.031860  1781.978394   \n",
        "2009-07-08 08:07:07.065000  2.687332e+08 -87.145683  78.031860  1781.978394   \n",
        "2009-07-08 08:07:07.065000  2.687332e+08 -87.145683  78.031860  1781.978394   \n",
        "2009-07-08 08:07:07.193000  2.687332e+08 -87.152603  78.045647  1781.978027   \n",
        "2009-07-08 08:07:07.193000  2.687332e+08 -87.152603  78.045647  1781.978027   \n",
        "2009-07-08 08:07:07.193000  2.687332e+08 -87.152603  78.045647  1781.978027   \n",
        "2009-07-08 08:07:07.193000  2.687332e+08 -87.152603  78.045647  1781.978027   \n",
        "2009-07-08 08:07:07.193000  2.687332e+08 -87.152603  78.045647  1781.978027   \n",
        "2009-07-08 08:07:07.193000  2.687332e+08 -87.152603  78.045647  1781.978027   \n",
        "2009-07-08 08:07:07.321000  2.687332e+08 -87.159523  78.059509  1781.977661   \n",
        "2009-07-08 08:07:07.321000  2.687332e+08 -87.159523  78.059509  1781.977661   \n",
        "2009-07-08 08:07:07.321000  2.687332e+08 -87.159523  78.059509  1781.977661   \n",
        "2009-07-08 08:07:07.321000  2.687332e+08 -87.159523  78.059509  1781.977661   \n",
        "2009-07-08 08:07:07.321000  2.687332e+08 -87.159523  78.059509  1781.977661   \n",
        "                                     ...        ...        ...          ...   \n",
        "\n",
        "                                scalt  el_cmd  az_cmd   af  vert_lat  \\\n",
        "2009-07-08 08:07:06.809000  44.564831     180     240  110   0.19079   \n",
        "2009-07-08 08:07:06.937000  44.564510     180     240  110   0.19074   \n",
        "2009-07-08 08:07:06.937000  44.564510     180     240  110   0.19074   \n",
        "2009-07-08 08:07:06.937000  44.564510     180     240  110   0.19074   \n",
        "2009-07-08 08:07:07.065000  44.564190     180     240  110   0.19071   \n",
        "2009-07-08 08:07:07.065000  44.564190     180     240  110   0.19071   \n",
        "2009-07-08 08:07:07.065000  44.564190     180     240  110   0.19071   \n",
        "2009-07-08 08:07:07.065000  44.564190     180     240  110   0.19071   \n",
        "2009-07-08 08:07:07.065000  44.564190     180     240  110   0.19071   \n",
        "2009-07-08 08:07:07.193000  44.563862     180     240  110   0.19072   \n",
        "2009-07-08 08:07:07.193000  44.563862     180     240  110   0.19072   \n",
        "2009-07-08 08:07:07.193000  44.563862     180     240  110   0.19072   \n",
        "2009-07-08 08:07:07.193000  44.563862     180     240  110   0.19072   \n",
        "2009-07-08 08:07:07.193000  44.563862     180     240  110   0.19072   \n",
        "2009-07-08 08:07:07.193000  44.563862     180     240  110   0.19072   \n",
        "2009-07-08 08:07:07.321000  44.563541     180     240  110   0.19073   \n",
        "2009-07-08 08:07:07.321000  44.563541     180     240  110   0.19073   \n",
        "2009-07-08 08:07:07.321000  44.563541     180     240  110   0.19073   \n",
        "2009-07-08 08:07:07.321000  44.563541     180     240  110   0.19073   \n",
        "2009-07-08 08:07:07.321000  44.563541     180     240  110   0.19073   \n",
        "                                  ...     ...     ...  ...       ...   \n",
        "\n",
        "                              vert_lon  c  det    vlookx    vlooky    vlookz  \\\n",
        "2009-07-08 08:07:06.809000  162.083557  9   21  0.011050 -0.090615  0.995825   \n",
        "2009-07-08 08:07:06.937000  162.083542  9   19  0.004579 -0.088020  0.996108   \n",
        "2009-07-08 08:07:06.937000  162.083542  9   20  0.007932 -0.089098  0.995991   \n",
        "2009-07-08 08:07:06.937000  162.083542  9   21  0.011087 -0.090500  0.995835   \n",
        "2009-07-08 08:07:07.065000  162.083572  9   17 -0.001671 -0.085881  0.996304   \n",
        "2009-07-08 08:07:07.065000  162.083572  9   18  0.001347 -0.086853  0.996220   \n",
        "2009-07-08 08:07:07.065000  162.083572  9   19  0.004616 -0.087905  0.996118   \n",
        "2009-07-08 08:07:07.065000  162.083572  9   20  0.007968 -0.088984  0.996001   \n",
        "2009-07-08 08:07:07.065000  162.083572  9   21  0.011123 -0.090386  0.995845   \n",
        "2009-07-08 08:07:07.193000  162.083527  9   16 -0.005013 -0.084769  0.996388   \n",
        "2009-07-08 08:07:07.193000  162.083527  9   17 -0.001633 -0.085765  0.996314   \n",
        "2009-07-08 08:07:07.193000  162.083527  9   18  0.001385 -0.086737  0.996230   \n",
        "2009-07-08 08:07:07.193000  162.083527  9   19  0.004654 -0.087789  0.996128   \n",
        "2009-07-08 08:07:07.193000  162.083527  9   20  0.008006 -0.088868  0.996011   \n",
        "2009-07-08 08:07:07.193000  162.083527  9   21  0.011161 -0.090270  0.995855   \n",
        "2009-07-08 08:07:07.321000  162.083511  9   16 -0.004975 -0.084654  0.996398   \n",
        "2009-07-08 08:07:07.321000  162.083511  9   17 -0.001595 -0.085650  0.996324   \n",
        "2009-07-08 08:07:07.321000  162.083511  9   18  0.001422 -0.086622  0.996240   \n",
        "2009-07-08 08:07:07.321000  162.083511  9   19  0.004691 -0.087674  0.996138   \n",
        "2009-07-08 08:07:07.321000  162.083511  9   20  0.008043 -0.088753  0.996021   \n",
        "                                   ... ..  ...       ...       ...       ...   \n",
        "\n",
        "                            radiance         tb       clat       clon  \\\n",
        "2009-07-08 08:07:06.809000    0.0087  31.370001 -87.185066  77.116089   \n",
        "2009-07-08 08:07:06.937000    0.0051  26.662001 -87.190529  77.335068   \n",
        "2009-07-08 08:07:06.937000    0.0086  31.226999 -87.191002  77.229683   \n",
        "2009-07-08 08:07:06.937000    0.0112  34.043999 -87.192001  77.127831   \n",
        "2009-07-08 08:07:07.065000    0.0153  37.875000 -87.196541  77.545319   \n",
        "2009-07-08 08:07:07.065000    0.0173  39.617001 -87.196991  77.450333   \n",
        "2009-07-08 08:07:07.065000    0.0144  37.088001 -87.197456  77.347366   \n",
        "2009-07-08 08:07:07.065000    0.0108  33.666000 -87.197937  77.241707   \n",
        "2009-07-08 08:07:07.065000    0.0112  34.043999 -87.198936  77.139633   \n",
        "2009-07-08 08:07:07.193000    0.0045  25.747000 -87.203087  77.664146   \n",
        "2009-07-08 08:07:07.193000    0.0107  33.542000 -87.203468  77.558144   \n",
        "2009-07-08 08:07:07.193000    0.0151  37.723000 -87.203911  77.462914   \n",
        "2009-07-08 08:07:07.193000    0.0121  34.903000 -87.204391  77.359703   \n",
        "2009-07-08 08:07:07.193000    0.0018  20.281000 -87.204857  77.253792   \n",
        "2009-07-08 08:07:07.193000    0.0087  31.370001 -87.205856  77.151451   \n",
        "2009-07-08 08:07:07.321000   -0.0001 -11.620000 -87.210022  77.677292   \n",
        "2009-07-08 08:07:07.321000    0.0061  28.198999 -87.210403  77.571022   \n",
        "2009-07-08 08:07:07.321000    0.0085  31.131001 -87.210838  77.475563   \n",
        "2009-07-08 08:07:07.321000    0.0074  29.830999 -87.211319  77.372101   \n",
        "2009-07-08 08:07:07.321000    0.0063  28.440001 -87.211792  77.265930   \n",
        "                                 ...        ...        ...        ...   \n",
        "\n",
        "                              cemis    csunzen     csunazi   cloctime  qca  \\\n",
        "2009-07-08 08:07:06.809000  2.76981  90.311783  127.972267  17.875561    0   \n",
        "2009-07-08 08:07:06.937000  2.48074  90.322693  121.620644  17.889999    0   \n",
        "2009-07-08 08:07:06.937000  2.61490  90.317543  125.172691  17.883051    0   \n",
        "2009-07-08 08:07:06.937000  2.76981  90.312576  127.971832  17.876390    0   \n",
        "2009-07-08 08:07:07.065000  2.25920  90.333138  113.892319  17.904169    0   \n",
        "2009-07-08 08:07:07.065000  2.36019  90.328506  117.782310  17.897779    0   \n",
        "2009-07-08 08:07:07.065000  2.48079  90.323486  121.619881  17.890829    0   \n",
        "2009-07-08 08:07:07.065000  2.61494  90.318336  125.171913  17.883890    0   \n",
        "2009-07-08 08:07:07.065000  2.76986  90.313393  127.971046  17.876940    0   \n",
        "2009-07-08 08:07:07.193000  2.16501  90.339104  109.110184  17.911949    0   \n",
        "2009-07-08 08:07:07.193000  2.25918  90.333939  113.894142  17.905001    0   \n",
        "2009-07-08 08:07:07.193000  2.36016  90.329308  117.784088  17.898609    0   \n",
        "2009-07-08 08:07:07.193000  2.48077  90.324287  121.621597  17.891670    0   \n",
        "2009-07-08 08:07:07.193000  2.61493  90.319153  125.173569  17.884720    0   \n",
        "2009-07-08 08:07:07.193000  2.76985  90.314194  127.972633  17.877781    0   \n",
        "2009-07-08 08:07:07.321000  2.16503  90.339897  109.111290  17.913059    0   \n",
        "2009-07-08 08:07:07.321000  2.25920  90.334747  113.895149  17.905830    0   \n",
        "2009-07-08 08:07:07.321000  2.36019  90.330109  117.785011  17.899441    0   \n",
        "2009-07-08 08:07:07.321000  2.48080  90.325089  121.622437  17.892500    0   \n",
        "2009-07-08 08:07:07.321000  2.61496  90.319946  125.174316  17.885559    0   \n",
        "                                ...        ...         ...        ...  ...   \n",
        "\n",
        "                            qge  qmi  qual      sppsx      sppsy filetimestr  \n",
        "2009-07-08 08:07:06.809000   12    0     0  83.225973  19.036698  2009070808  \n",
        "2009-07-08 08:07:06.937000   12    0     0  83.136408  18.682138  2009070808  \n",
        "2009-07-08 08:07:06.937000   12    0     0  83.087908  18.831848  2009070808  \n",
        "2009-07-08 08:07:06.937000   12    0     0  83.024737  18.972765  2009070808  \n",
        "2009-07-08 08:07:07.065000   12    0     0  83.026284  18.337598  2009070808  \n",
        "2009-07-08 08:07:07.065000   12    0     0  82.982438  18.472248  2009070808  \n",
        "2009-07-08 08:07:07.065000   12    0     0  82.935330  18.618253  2009070808  \n",
        "2009-07-08 08:07:07.065000   12    0     0  82.886631  18.767942  2009070808  \n",
        "2009-07-08 08:07:07.065000   12    0     0  82.823500  18.908827  2009070808  \n",
        "2009-07-08 08:07:07.193000   12    0     0  82.870106  18.122935  2009070808  \n",
        "2009-07-08 08:07:07.193000   12    0     0  82.825133  18.273728  2009070808  \n",
        "2009-07-08 08:07:07.193000   12    0     0  82.781540  18.408450  2009070808  \n",
        "2009-07-08 08:07:07.193000   12    0     0  82.734015  18.554348  2009070808  \n",
        "2009-07-08 08:07:07.193000   12    0     0  82.685804  18.704135  2009070808  \n",
        "2009-07-08 08:07:07.193000   12    0     0  82.622697  18.845054  2009070808  \n",
        "2009-07-08 08:07:07.321000   12    0     0  82.668689  18.059014  2009070808  \n",
        "2009-07-08 08:07:07.321000   12    0     0  82.623749  18.209822  2009070808  \n",
        "2009-07-08 08:07:07.321000   12    0     0  82.580414  18.344593  2009070808  \n",
        "2009-07-08 08:07:07.321000   12    0     0  82.532923  18.490495  2009070808  \n",
        "2009-07-08 08:07:07.321000   12    0     0  82.484519  18.640235  2009070808  \n",
        "                            ...  ...   ...        ...        ...         ...  \n",
        "\n",
        "[24064 rows x 41 columns]"
       ]
      }
     ],
     "prompt_number": 24
    },
    {
     "cell_type": "code",
     "collapsed": false,
     "input": [
      "newrad.b3_11.plot()"
     ],
     "language": "python",
     "metadata": {},
     "outputs": [
      {
       "metadata": {},
       "output_type": "pyout",
       "prompt_number": 25,
       "text": [
        "<matplotlib.axes.AxesSubplot at 0x52862d0>"
       ]
      },
      {
       "metadata": {},
       "output_type": "display_data",
       "png": "[encoded data removed]",
       "text": [
        "<matplotlib.figure.Figure at 0x6ae7290>"
       ]
      }
     ],
     "prompt_number": 25
    },
    {
     "cell_type": "code",
     "collapsed": false,
     "input": [
      "c.interpolate_bb_temps()"
     ],
     "language": "python",
     "metadata": {},
     "outputs": [],
     "prompt_number": 6
    },
    {
     "cell_type": "code",
     "collapsed": false,
     "input": [
      "def process_calblock(df):\n",
      "    cb = calib.CalBlock(df, c.SV_NUM_SKIP_SAMPLE)\n",
      "    if cb.kind == 'ST':\n",
      "        return\n",
      "    return cb.bb_time"
     ],
     "language": "python",
     "metadata": {},
     "outputs": [],
     "prompt_number": 93
    },
    {
     "cell_type": "code",
     "collapsed": false,
     "input": [
      "d = dict(list(c.calgrouped))"
     ],
     "language": "python",
     "metadata": {},
     "outputs": [],
     "prompt_number": 7
    },
    {
     "cell_type": "code",
     "collapsed": false,
     "input": [
      "%pylab qt\n",
      "pu.plot_all_calib_blocks(df)"
     ],
     "language": "python",
     "metadata": {},
     "outputs": [
      {
       "output_type": "stream",
       "stream": "stdout",
       "text": [
        "Populating the interactive namespace from numpy and matplotlib\n",
        "Calib block 0 has no caldata."
       ]
      },
      {
       "output_type": "stream",
       "stream": "stdout",
       "text": [
        "\n"
       ]
      }
     ],
     "prompt_number": 9
    },
    {
     "cell_type": "code",
     "collapsed": false,
     "input": [
      "calib.CalBlock??"
     ],
     "language": "python",
     "metadata": {},
     "outputs": [],
     "prompt_number": 13
    },
    {
     "cell_type": "code",
     "collapsed": false,
     "input": [
      "cb = calib.CalBlock(d[4])"
     ],
     "language": "python",
     "metadata": {},
     "outputs": [],
     "prompt_number": 10
    },
    {
     "cell_type": "code",
     "collapsed": false,
     "input": [
      "cb.kind"
     ],
     "language": "python",
     "metadata": {},
     "outputs": [
      {
       "metadata": {},
       "output_type": "pyout",
       "prompt_number": 12,
       "text": [
        "'ST'"
       ]
      }
     ],
     "prompt_number": 12
    },
    {
     "cell_type": "code",
     "collapsed": false,
     "input": [
      "c.calgrouped.size()"
     ],
     "language": "python",
     "metadata": {},
     "outputs": [
      {
       "metadata": {},
       "output_type": "pyout",
       "prompt_number": 79,
       "text": [
        "calib_block_labels\n",
        "1                     240\n",
        "2                     240\n",
        "3                     240\n",
        "4                     240\n",
        "5                     240\n",
        "6                     240\n",
        "7                     240\n",
        "dtype: int64"
       ]
      }
     ],
     "prompt_number": 79
    },
    {
     "cell_type": "code",
     "collapsed": false,
     "input": [
      "for k, v in d.iteritems():\n",
      "    print process_calblock(v)"
     ],
     "language": "python",
     "metadata": {},
     "outputs": [
      {
       "output_type": "stream",
       "stream": "stdout",
       "text": [
        "2009-09-28 09:07:58.558000\n",
        "2009-09-28 09:18:15.019000\n",
        "2009-09-28 09:27:30.039000\n",
        "None\n",
        "2009-09-28 09:38:49.989000\n",
        "2009-09-28 09:49:06.450000\n",
        "2009-09-28 09:59:24.959000\n"
       ]
      }
     ],
     "prompt_number": 85
    },
    {
     "cell_type": "code",
     "collapsed": false,
     "input": [
      "process_calblock(d[4])"
     ],
     "language": "python",
     "metadata": {},
     "outputs": [],
     "prompt_number": 86
    },
    {
     "cell_type": "code",
     "collapsed": false,
     "input": [
      "%pylab qt\n",
      "pu.plot_all_calib_blocks(df)"
     ],
     "language": "python",
     "metadata": {},
     "outputs": [
      {
       "output_type": "stream",
       "stream": "stdout",
       "text": [
        "Populating the interactive namespace from numpy and matplotlib\n",
        "Calib block 0 has no caldata."
       ]
      },
      {
       "output_type": "stream",
       "stream": "stdout",
       "text": [
        "\n"
       ]
      }
     ],
     "prompt_number": 88
    },
    {
     "cell_type": "code",
     "collapsed": false,
     "input": [
      "c.calgrouped.agg(process_calblock)"
     ],
     "language": "python",
     "metadata": {},
     "outputs": [
      {
       "ename": "AttributeError",
       "evalue": "'Series' object has no attribute 'calib_block_labels'",
       "output_type": "pyerr",
       "traceback": [
        "\u001b[1;31m---------------------------------------------------------------------------\u001b[0m\n\u001b[1;31mAttributeError\u001b[0m                            Traceback (most recent call last)",
        "\u001b[1;32m<ipython-input-83-aa8fea25638f>\u001b[0m in \u001b[0;36m<module>\u001b[1;34m()\u001b[0m\n\u001b[1;32m----> 1\u001b[1;33m \u001b[0mc\u001b[0m\u001b[1;33m.\u001b[0m\u001b[0mcalgrouped\u001b[0m\u001b[1;33m.\u001b[0m\u001b[0magg\u001b[0m\u001b[1;33m(\u001b[0m\u001b[0mprocess_calblock\u001b[0m\u001b[1;33m)\u001b[0m\u001b[1;33m\u001b[0m\u001b[0m\n\u001b[0m",
        "\u001b[1;32m/u/paige/maye/Enthought/Canopy_64bit/User/lib/python2.7/site-packages/pandas-0.13.0rc1_27_g4d5ca5c-py2.7-linux-x86_64.egg/pandas/core/groupby.pyc\u001b[0m in \u001b[0;36magg\u001b[1;34m(self, func, *args, **kwargs)\u001b[0m\n\u001b[0;32m    402\u001b[0m     \u001b[1;33m@\u001b[0m\u001b[0mAppender\u001b[0m\u001b[1;33m(\u001b[0m\u001b[0m_agg_doc\u001b[0m\u001b[1;33m)\u001b[0m\u001b[1;33m\u001b[0m\u001b[0m\n\u001b[0;32m    403\u001b[0m     \u001b[1;32mdef\u001b[0m \u001b[0magg\u001b[0m\u001b[1;33m(\u001b[0m\u001b[0mself\u001b[0m\u001b[1;33m,\u001b[0m \u001b[0mfunc\u001b[0m\u001b[1;33m,\u001b[0m \u001b[1;33m*\u001b[0m\u001b[0margs\u001b[0m\u001b[1;33m,\u001b[0m \u001b[1;33m**\u001b[0m\u001b[0mkwargs\u001b[0m\u001b[1;33m)\u001b[0m\u001b[1;33m:\u001b[0m\u001b[1;33m\u001b[0m\u001b[0m\n\u001b[1;32m--> 404\u001b[1;33m         \u001b[1;32mreturn\u001b[0m \u001b[0mself\u001b[0m\u001b[1;33m.\u001b[0m\u001b[0maggregate\u001b[0m\u001b[1;33m(\u001b[0m\u001b[0mfunc\u001b[0m\u001b[1;33m,\u001b[0m \u001b[1;33m*\u001b[0m\u001b[0margs\u001b[0m\u001b[1;33m,\u001b[0m \u001b[1;33m**\u001b[0m\u001b[0mkwargs\u001b[0m\u001b[1;33m)\u001b[0m\u001b[1;33m\u001b[0m\u001b[0m\n\u001b[0m\u001b[0;32m    405\u001b[0m \u001b[1;33m\u001b[0m\u001b[0m\n\u001b[0;32m    406\u001b[0m     \u001b[1;32mdef\u001b[0m \u001b[0m_iterate_slices\u001b[0m\u001b[1;33m(\u001b[0m\u001b[0mself\u001b[0m\u001b[1;33m)\u001b[0m\u001b[1;33m:\u001b[0m\u001b[1;33m\u001b[0m\u001b[0m\n",
        "\u001b[1;32m/u/paige/maye/Enthought/Canopy_64bit/User/lib/python2.7/site-packages/pandas-0.13.0rc1_27_g4d5ca5c-py2.7-linux-x86_64.egg/pandas/core/groupby.pyc\u001b[0m in \u001b[0;36maggregate\u001b[1;34m(self, arg, *args, **kwargs)\u001b[0m\n\u001b[0;32m   2000\u001b[0m                 \u001b[1;32mreturn\u001b[0m \u001b[0mself\u001b[0m\u001b[1;33m.\u001b[0m\u001b[0m_python_agg_general\u001b[0m\u001b[1;33m(\u001b[0m\u001b[0marg\u001b[0m\u001b[1;33m,\u001b[0m \u001b[1;33m*\u001b[0m\u001b[0margs\u001b[0m\u001b[1;33m,\u001b[0m \u001b[1;33m**\u001b[0m\u001b[0mkwargs\u001b[0m\u001b[1;33m)\u001b[0m\u001b[1;33m\u001b[0m\u001b[0m\n\u001b[0;32m   2001\u001b[0m             \u001b[1;32melse\u001b[0m\u001b[1;33m:\u001b[0m\u001b[1;33m\u001b[0m\u001b[0m\n\u001b[1;32m-> 2002\u001b[1;33m                 \u001b[0mresult\u001b[0m \u001b[1;33m=\u001b[0m \u001b[0mself\u001b[0m\u001b[1;33m.\u001b[0m\u001b[0m_aggregate_generic\u001b[0m\u001b[1;33m(\u001b[0m\u001b[0marg\u001b[0m\u001b[1;33m,\u001b[0m \u001b[1;33m*\u001b[0m\u001b[0margs\u001b[0m\u001b[1;33m,\u001b[0m \u001b[1;33m**\u001b[0m\u001b[0mkwargs\u001b[0m\u001b[1;33m)\u001b[0m\u001b[1;33m\u001b[0m\u001b[0m\n\u001b[0m\u001b[0;32m   2003\u001b[0m \u001b[1;33m\u001b[0m\u001b[0m\n\u001b[0;32m   2004\u001b[0m         \u001b[1;32mif\u001b[0m \u001b[1;32mnot\u001b[0m \u001b[0mself\u001b[0m\u001b[1;33m.\u001b[0m\u001b[0mas_index\u001b[0m\u001b[1;33m:\u001b[0m\u001b[1;33m\u001b[0m\u001b[0m\n",
        "\u001b[1;32m/u/paige/maye/Enthought/Canopy_64bit/User/lib/python2.7/site-packages/pandas-0.13.0rc1_27_g4d5ca5c-py2.7-linux-x86_64.egg/pandas/core/groupby.pyc\u001b[0m in \u001b[0;36m_aggregate_generic\u001b[1;34m(self, func, *args, **kwargs)\u001b[0m\n\u001b[0;32m   2059\u001b[0m                                                   data)\n\u001b[0;32m   2060\u001b[0m             \u001b[1;32mexcept\u001b[0m \u001b[0mException\u001b[0m\u001b[1;33m:\u001b[0m\u001b[1;33m\u001b[0m\u001b[0m\n\u001b[1;32m-> 2061\u001b[1;33m                 \u001b[1;32mreturn\u001b[0m \u001b[0mself\u001b[0m\u001b[1;33m.\u001b[0m\u001b[0m_aggregate_item_by_item\u001b[0m\u001b[1;33m(\u001b[0m\u001b[0mfunc\u001b[0m\u001b[1;33m,\u001b[0m \u001b[1;33m*\u001b[0m\u001b[0margs\u001b[0m\u001b[1;33m,\u001b[0m \u001b[1;33m**\u001b[0m\u001b[0mkwargs\u001b[0m\u001b[1;33m)\u001b[0m\u001b[1;33m\u001b[0m\u001b[0m\n\u001b[0m\u001b[0;32m   2062\u001b[0m         \u001b[1;32melse\u001b[0m\u001b[1;33m:\u001b[0m\u001b[1;33m\u001b[0m\u001b[0m\n\u001b[0;32m   2063\u001b[0m             \u001b[1;32mfor\u001b[0m \u001b[0mname\u001b[0m \u001b[1;32min\u001b[0m \u001b[0mself\u001b[0m\u001b[1;33m.\u001b[0m\u001b[0mindices\u001b[0m\u001b[1;33m:\u001b[0m\u001b[1;33m\u001b[0m\u001b[0m\n",
        "\u001b[1;32m/u/paige/maye/Enthought/Canopy_64bit/User/lib/python2.7/site-packages/pandas-0.13.0rc1_27_g4d5ca5c-py2.7-linux-x86_64.egg/pandas/core/groupby.pyc\u001b[0m in \u001b[0;36m_aggregate_item_by_item\u001b[1;34m(self, func, *args, **kwargs)\u001b[0m\n\u001b[0;32m   2087\u001b[0m                                      grouper=self.grouper)\n\u001b[0;32m   2088\u001b[0m                 result[item] = self._try_cast(\n\u001b[1;32m-> 2089\u001b[1;33m                     colg.aggregate(func, *args, **kwargs), data)\n\u001b[0m\u001b[0;32m   2090\u001b[0m             \u001b[1;32mexcept\u001b[0m \u001b[0mValueError\u001b[0m\u001b[1;33m:\u001b[0m\u001b[1;33m\u001b[0m\u001b[0m\n\u001b[0;32m   2091\u001b[0m                 \u001b[0mcannot_agg\u001b[0m\u001b[1;33m.\u001b[0m\u001b[0mappend\u001b[0m\u001b[1;33m(\u001b[0m\u001b[0mitem\u001b[0m\u001b[1;33m)\u001b[0m\u001b[1;33m\u001b[0m\u001b[0m\n",
        "\u001b[1;32m/u/paige/maye/Enthought/Canopy_64bit/User/lib/python2.7/site-packages/pandas-0.13.0rc1_27_g4d5ca5c-py2.7-linux-x86_64.egg/pandas/core/groupby.pyc\u001b[0m in \u001b[0;36maggregate\u001b[1;34m(self, func_or_funcs, *args, **kwargs)\u001b[0m\n\u001b[0;32m   1674\u001b[0m                 \u001b[1;32mreturn\u001b[0m \u001b[0mself\u001b[0m\u001b[1;33m.\u001b[0m\u001b[0m_python_agg_general\u001b[0m\u001b[1;33m(\u001b[0m\u001b[0mfunc_or_funcs\u001b[0m\u001b[1;33m,\u001b[0m \u001b[1;33m*\u001b[0m\u001b[0margs\u001b[0m\u001b[1;33m,\u001b[0m \u001b[1;33m**\u001b[0m\u001b[0mkwargs\u001b[0m\u001b[1;33m)\u001b[0m\u001b[1;33m\u001b[0m\u001b[0m\n\u001b[0;32m   1675\u001b[0m             \u001b[1;32mexcept\u001b[0m \u001b[0mException\u001b[0m\u001b[1;33m:\u001b[0m\u001b[1;33m\u001b[0m\u001b[0m\n\u001b[1;32m-> 1676\u001b[1;33m                 \u001b[0mresult\u001b[0m \u001b[1;33m=\u001b[0m \u001b[0mself\u001b[0m\u001b[1;33m.\u001b[0m\u001b[0m_aggregate_named\u001b[0m\u001b[1;33m(\u001b[0m\u001b[0mfunc_or_funcs\u001b[0m\u001b[1;33m,\u001b[0m \u001b[1;33m*\u001b[0m\u001b[0margs\u001b[0m\u001b[1;33m,\u001b[0m \u001b[1;33m**\u001b[0m\u001b[0mkwargs\u001b[0m\u001b[1;33m)\u001b[0m\u001b[1;33m\u001b[0m\u001b[0m\n\u001b[0m\u001b[0;32m   1677\u001b[0m \u001b[1;33m\u001b[0m\u001b[0m\n\u001b[0;32m   1678\u001b[0m             \u001b[0mindex\u001b[0m \u001b[1;33m=\u001b[0m \u001b[0mIndex\u001b[0m\u001b[1;33m(\u001b[0m\u001b[0msorted\u001b[0m\u001b[1;33m(\u001b[0m\u001b[0mresult\u001b[0m\u001b[1;33m)\u001b[0m\u001b[1;33m,\u001b[0m \u001b[0mname\u001b[0m\u001b[1;33m=\u001b[0m\u001b[0mself\u001b[0m\u001b[1;33m.\u001b[0m\u001b[0mgrouper\u001b[0m\u001b[1;33m.\u001b[0m\u001b[0mnames\u001b[0m\u001b[1;33m[\u001b[0m\u001b[1;36m0\u001b[0m\u001b[1;33m]\u001b[0m\u001b[1;33m)\u001b[0m\u001b[1;33m\u001b[0m\u001b[0m\n",
        "\u001b[1;32m/u/paige/maye/Enthought/Canopy_64bit/User/lib/python2.7/site-packages/pandas-0.13.0rc1_27_g4d5ca5c-py2.7-linux-x86_64.egg/pandas/core/groupby.pyc\u001b[0m in \u001b[0;36m_aggregate_named\u001b[1;34m(self, func, *args, **kwargs)\u001b[0m\n\u001b[0;32m   1756\u001b[0m         \u001b[1;32mfor\u001b[0m \u001b[0mname\u001b[0m\u001b[1;33m,\u001b[0m \u001b[0mgroup\u001b[0m \u001b[1;32min\u001b[0m \u001b[0mself\u001b[0m\u001b[1;33m:\u001b[0m\u001b[1;33m\u001b[0m\u001b[0m\n\u001b[0;32m   1757\u001b[0m             \u001b[0mgroup\u001b[0m\u001b[1;33m.\u001b[0m\u001b[0mname\u001b[0m \u001b[1;33m=\u001b[0m \u001b[0mname\u001b[0m\u001b[1;33m\u001b[0m\u001b[0m\n\u001b[1;32m-> 1758\u001b[1;33m             \u001b[0moutput\u001b[0m \u001b[1;33m=\u001b[0m \u001b[0mfunc\u001b[0m\u001b[1;33m(\u001b[0m\u001b[0mgroup\u001b[0m\u001b[1;33m,\u001b[0m \u001b[1;33m*\u001b[0m\u001b[0margs\u001b[0m\u001b[1;33m,\u001b[0m \u001b[1;33m**\u001b[0m\u001b[0mkwargs\u001b[0m\u001b[1;33m)\u001b[0m\u001b[1;33m\u001b[0m\u001b[0m\n\u001b[0m\u001b[0;32m   1759\u001b[0m             \u001b[1;32mif\u001b[0m \u001b[0misinstance\u001b[0m\u001b[1;33m(\u001b[0m\u001b[0moutput\u001b[0m\u001b[1;33m,\u001b[0m \u001b[1;33m(\u001b[0m\u001b[0mSeries\u001b[0m\u001b[1;33m,\u001b[0m \u001b[0mnp\u001b[0m\u001b[1;33m.\u001b[0m\u001b[0mndarray\u001b[0m\u001b[1;33m)\u001b[0m\u001b[1;33m)\u001b[0m\u001b[1;33m:\u001b[0m\u001b[1;33m\u001b[0m\u001b[0m\n\u001b[0;32m   1760\u001b[0m                 \u001b[1;32mraise\u001b[0m \u001b[0mException\u001b[0m\u001b[1;33m(\u001b[0m\u001b[1;34m'Must produce aggregated value'\u001b[0m\u001b[1;33m)\u001b[0m\u001b[1;33m\u001b[0m\u001b[0m\n",
        "\u001b[1;32m<ipython-input-69-19957325cdd0>\u001b[0m in \u001b[0;36mprocess_calblock\u001b[1;34m(df)\u001b[0m\n\u001b[0;32m      1\u001b[0m \u001b[1;32mdef\u001b[0m \u001b[0mprocess_calblock\u001b[0m\u001b[1;33m(\u001b[0m\u001b[0mdf\u001b[0m\u001b[1;33m)\u001b[0m\u001b[1;33m:\u001b[0m\u001b[1;33m\u001b[0m\u001b[0m\n\u001b[1;32m----> 2\u001b[1;33m     \u001b[0mcb\u001b[0m \u001b[1;33m=\u001b[0m \u001b[0mcalib\u001b[0m\u001b[1;33m.\u001b[0m\u001b[0mCalBlock\u001b[0m\u001b[1;33m(\u001b[0m\u001b[0mdf\u001b[0m\u001b[1;33m,\u001b[0m \u001b[0mc\u001b[0m\u001b[1;33m.\u001b[0m\u001b[0mSV_NUM_SKIP_SAMPLE\u001b[0m\u001b[1;33m)\u001b[0m\u001b[1;33m\u001b[0m\u001b[0m\n\u001b[0m\u001b[0;32m      3\u001b[0m     \u001b[1;32mif\u001b[0m \u001b[0mcb\u001b[0m\u001b[1;33m.\u001b[0m\u001b[0mkind\u001b[0m \u001b[1;33m==\u001b[0m \u001b[1;34m'ST'\u001b[0m\u001b[1;33m:\u001b[0m\u001b[1;33m\u001b[0m\u001b[0m\n\u001b[0;32m      4\u001b[0m         \u001b[1;32mreturn\u001b[0m\u001b[1;33m\u001b[0m\u001b[0m\n\u001b[0;32m      5\u001b[0m     \u001b[1;32mreturn\u001b[0m \u001b[0mcb\u001b[0m\u001b[1;33m.\u001b[0m\u001b[0mbb_time\u001b[0m\u001b[1;33m\u001b[0m\u001b[0m\n",
        "\u001b[1;32m/u/paige/maye/src/diviner/calib.pyc\u001b[0m in \u001b[0;36m__init__\u001b[1;34m(self, df, skip_samples)\u001b[0m\n\u001b[0;32m    224\u001b[0m     \u001b[1;32mdef\u001b[0m \u001b[0m__init__\u001b[0m\u001b[1;33m(\u001b[0m\u001b[0mself\u001b[0m\u001b[1;33m,\u001b[0m \u001b[0mdf\u001b[0m\u001b[1;33m,\u001b[0m \u001b[0mskip_samples\u001b[0m\u001b[1;33m=\u001b[0m\u001b[1;36m0\u001b[0m\u001b[1;33m)\u001b[0m\u001b[1;33m:\u001b[0m\u001b[1;33m\u001b[0m\u001b[0m\n\u001b[0;32m    225\u001b[0m         \u001b[0mself\u001b[0m\u001b[1;33m.\u001b[0m\u001b[0mdf\u001b[0m \u001b[1;33m=\u001b[0m \u001b[0mdf\u001b[0m\u001b[1;33m\u001b[0m\u001b[0m\n\u001b[1;32m--> 226\u001b[1;33m         \u001b[0mself\u001b[0m\u001b[1;33m.\u001b[0m\u001b[0mnumber\u001b[0m \u001b[1;33m=\u001b[0m \u001b[0mdf\u001b[0m\u001b[1;33m.\u001b[0m\u001b[0mcalib_block_labels\u001b[0m\u001b[1;33m[\u001b[0m\u001b[1;36m0\u001b[0m\u001b[1;33m]\u001b[0m\u001b[1;33m\u001b[0m\u001b[0m\n\u001b[0m\u001b[0;32m    227\u001b[0m         \u001b[0mself\u001b[0m\u001b[1;33m.\u001b[0m\u001b[0mskip_samples\u001b[0m \u001b[1;33m=\u001b[0m \u001b[0mskip_samples\u001b[0m\u001b[1;33m\u001b[0m\u001b[0m\n\u001b[0;32m    228\u001b[0m         \u001b[0mself\u001b[0m\u001b[1;33m.\u001b[0m\u001b[0msv_labels\u001b[0m \u001b[1;33m=\u001b[0m \u001b[0mself\u001b[0m\u001b[1;33m.\u001b[0m\u001b[0mget_unique_labels\u001b[0m\u001b[1;33m(\u001b[0m\u001b[1;34m'sv'\u001b[0m\u001b[1;33m)\u001b[0m\u001b[1;33m\u001b[0m\u001b[0m\n",
        "\u001b[1;32m/u/paige/maye/Enthought/Canopy_64bit/User/lib/python2.7/site-packages/pandas-0.13.0rc1_27_g4d5ca5c-py2.7-linux-x86_64.egg/pandas/core/generic.pyc\u001b[0m in \u001b[0;36m__getattr__\u001b[1;34m(self, name)\u001b[0m\n\u001b[0;32m   1586\u001b[0m             \u001b[1;32mreturn\u001b[0m \u001b[0mself\u001b[0m\u001b[1;33m[\u001b[0m\u001b[0mname\u001b[0m\u001b[1;33m]\u001b[0m\u001b[1;33m\u001b[0m\u001b[0m\n\u001b[0;32m   1587\u001b[0m         raise AttributeError(\"'%s' object has no attribute '%s'\" %\n\u001b[1;32m-> 1588\u001b[1;33m                              (type(self).__name__, name))\n\u001b[0m\u001b[0;32m   1589\u001b[0m \u001b[1;33m\u001b[0m\u001b[0m\n\u001b[0;32m   1590\u001b[0m     \u001b[1;32mdef\u001b[0m \u001b[0m__setattr__\u001b[0m\u001b[1;33m(\u001b[0m\u001b[0mself\u001b[0m\u001b[1;33m,\u001b[0m \u001b[0mname\u001b[0m\u001b[1;33m,\u001b[0m \u001b[0mvalue\u001b[0m\u001b[1;33m)\u001b[0m\u001b[1;33m:\u001b[0m\u001b[1;33m\u001b[0m\u001b[0m\n",
        "\u001b[1;31mAttributeError\u001b[0m: 'Series' object has no attribute 'calib_block_labels'"
       ]
      }
     ],
     "prompt_number": 83
    },
    {
     "cell_type": "code",
     "collapsed": false,
     "input": [
      "c.calibrate()"
     ],
     "language": "python",
     "metadata": {},
     "outputs": [
      {
       "ename": "AttributeError",
       "evalue": "'Timestamp' object has no attribute '_constructor'",
       "output_type": "pyerr",
       "traceback": [
        "\u001b[1;31m---------------------------------------------------------------------------\u001b[0m\n\u001b[1;31mAttributeError\u001b[0m                            Traceback (most recent call last)",
        "\u001b[1;32m<ipython-input-64-0db478993041>\u001b[0m in \u001b[0;36m<module>\u001b[1;34m()\u001b[0m\n\u001b[1;32m----> 1\u001b[1;33m \u001b[0mc\u001b[0m\u001b[1;33m.\u001b[0m\u001b[0mcalibrate\u001b[0m\u001b[1;33m(\u001b[0m\u001b[1;33m)\u001b[0m\u001b[1;33m\u001b[0m\u001b[0m\n\u001b[0m",
        "\u001b[1;32m/u/paige/maye/src/diviner/calib.pyc\u001b[0m in \u001b[0;36mcalibrate\u001b[1;34m(self)\u001b[0m\n\u001b[0;32m    401\u001b[0m         \u001b[1;31m#####\u001b[0m\u001b[1;33m\u001b[0m\u001b[1;33m\u001b[0m\u001b[0m\n\u001b[0;32m    402\u001b[0m         \u001b[1;31m# determine calibration block mean time stamps\u001b[0m\u001b[1;33m\u001b[0m\u001b[1;33m\u001b[0m\u001b[0m\n\u001b[1;32m--> 403\u001b[1;33m         \u001b[0mself\u001b[0m\u001b[1;33m.\u001b[0m\u001b[0mcalc_calib_times\u001b[0m\u001b[1;33m(\u001b[0m\u001b[1;33m)\u001b[0m\u001b[1;33m\u001b[0m\u001b[0m\n\u001b[0m\u001b[0;32m    404\u001b[0m \u001b[1;33m\u001b[0m\u001b[0m\n\u001b[0;32m    405\u001b[0m         \u001b[1;31m#####\u001b[0m\u001b[1;33m\u001b[0m\u001b[1;33m\u001b[0m\u001b[0m\n",
        "\u001b[1;32m/u/paige/maye/src/diviner/calib.pyc\u001b[0m in \u001b[0;36mcalc_calib_times\u001b[1;34m(self)\u001b[0m\n\u001b[0;32m    507\u001b[0m \u001b[1;33m\u001b[0m\u001b[0m\n\u001b[0;32m    508\u001b[0m         \u001b[1;31m# if above just returns, it has a None value, dropping them here:\u001b[0m\u001b[1;33m\u001b[0m\u001b[1;33m\u001b[0m\u001b[0m\n\u001b[1;32m--> 509\u001b[1;33m         \u001b[0mself\u001b[0m\u001b[1;33m.\u001b[0m\u001b[0mcalib_times\u001b[0m \u001b[1;33m=\u001b[0m \u001b[0mself\u001b[0m\u001b[1;33m.\u001b[0m\u001b[0mcalgrouped\u001b[0m\u001b[1;33m.\u001b[0m\u001b[0mapply\u001b[0m\u001b[1;33m(\u001b[0m\u001b[0mprocess_calblock\u001b[0m\u001b[1;33m)\u001b[0m\u001b[1;33m.\u001b[0m\u001b[0mdropna\u001b[0m\u001b[1;33m(\u001b[0m\u001b[1;33m)\u001b[0m\u001b[1;33m\u001b[0m\u001b[0m\n\u001b[0m\u001b[0;32m    510\u001b[0m \u001b[1;33m\u001b[0m\u001b[0m\n\u001b[0;32m    511\u001b[0m         \u001b[1;31m# the times used for bb calculations are currently called bbcal_times.\u001b[0m\u001b[1;33m\u001b[0m\u001b[1;33m\u001b[0m\u001b[0m\n",
        "\u001b[1;32m/u/paige/maye/Enthought/Canopy_64bit/User/lib/python2.7/site-packages/pandas-0.13.0rc1_27_g4d5ca5c-py2.7-linux-x86_64.egg/pandas/core/groupby.pyc\u001b[0m in \u001b[0;36mapply\u001b[1;34m(self, func, *args, **kwargs)\u001b[0m\n\u001b[0;32m    389\u001b[0m             \u001b[1;32mreturn\u001b[0m \u001b[0mfunc\u001b[0m\u001b[1;33m(\u001b[0m\u001b[0mg\u001b[0m\u001b[1;33m,\u001b[0m \u001b[1;33m*\u001b[0m\u001b[0margs\u001b[0m\u001b[1;33m,\u001b[0m \u001b[1;33m**\u001b[0m\u001b[0mkwargs\u001b[0m\u001b[1;33m)\u001b[0m\u001b[1;33m\u001b[0m\u001b[0m\n\u001b[0;32m    390\u001b[0m \u001b[1;33m\u001b[0m\u001b[0m\n\u001b[1;32m--> 391\u001b[1;33m         \u001b[1;32mreturn\u001b[0m \u001b[0mself\u001b[0m\u001b[1;33m.\u001b[0m\u001b[0m_python_apply_general\u001b[0m\u001b[1;33m(\u001b[0m\u001b[0mf\u001b[0m\u001b[1;33m)\u001b[0m\u001b[1;33m\u001b[0m\u001b[0m\n\u001b[0m\u001b[0;32m    392\u001b[0m \u001b[1;33m\u001b[0m\u001b[0m\n\u001b[0;32m    393\u001b[0m     \u001b[1;32mdef\u001b[0m \u001b[0m_python_apply_general\u001b[0m\u001b[1;33m(\u001b[0m\u001b[0mself\u001b[0m\u001b[1;33m,\u001b[0m \u001b[0mf\u001b[0m\u001b[1;33m)\u001b[0m\u001b[1;33m:\u001b[0m\u001b[1;33m\u001b[0m\u001b[0m\n",
        "\u001b[1;32m/u/paige/maye/Enthought/Canopy_64bit/User/lib/python2.7/site-packages/pandas-0.13.0rc1_27_g4d5ca5c-py2.7-linux-x86_64.egg/pandas/core/groupby.pyc\u001b[0m in \u001b[0;36m_python_apply_general\u001b[1;34m(self, f)\u001b[0m\n\u001b[0;32m    395\u001b[0m \u001b[1;33m\u001b[0m\u001b[0m\n\u001b[0;32m    396\u001b[0m         return self._wrap_applied_output(keys, values,\n\u001b[1;32m--> 397\u001b[1;33m                                          not_indexed_same=mutated)\n\u001b[0m\u001b[0;32m    398\u001b[0m \u001b[1;33m\u001b[0m\u001b[0m\n\u001b[0;32m    399\u001b[0m     \u001b[1;32mdef\u001b[0m \u001b[0maggregate\u001b[0m\u001b[1;33m(\u001b[0m\u001b[0mself\u001b[0m\u001b[1;33m,\u001b[0m \u001b[0mfunc\u001b[0m\u001b[1;33m,\u001b[0m \u001b[1;33m*\u001b[0m\u001b[0margs\u001b[0m\u001b[1;33m,\u001b[0m \u001b[1;33m**\u001b[0m\u001b[0mkwargs\u001b[0m\u001b[1;33m)\u001b[0m\u001b[1;33m:\u001b[0m\u001b[1;33m\u001b[0m\u001b[0m\n",
        "\u001b[1;32m/u/paige/maye/Enthought/Canopy_64bit/User/lib/python2.7/site-packages/pandas-0.13.0rc1_27_g4d5ca5c-py2.7-linux-x86_64.egg/pandas/core/groupby.pyc\u001b[0m in \u001b[0;36m_wrap_applied_output\u001b[1;34m(self, keys, values, not_indexed_same)\u001b[0m\n\u001b[0;32m   2152\u001b[0m                 \u001b[1;32mif\u001b[0m \u001b[0mv\u001b[0m \u001b[1;32mis\u001b[0m \u001b[0mNone\u001b[0m\u001b[1;33m:\u001b[0m\u001b[1;33m\u001b[0m\u001b[0m\n\u001b[0;32m   2153\u001b[0m                     \u001b[1;32mreturn\u001b[0m \u001b[0mDataFrame\u001b[0m\u001b[1;33m(\u001b[0m\u001b[1;33m)\u001b[0m\u001b[1;33m\u001b[0m\u001b[0m\n\u001b[1;32m-> 2154\u001b[1;33m                 \u001b[0mvalues\u001b[0m \u001b[1;33m=\u001b[0m \u001b[1;33m[\u001b[0m \u001b[0mx\u001b[0m \u001b[1;32mif\u001b[0m \u001b[0mx\u001b[0m \u001b[1;32mis\u001b[0m \u001b[1;32mnot\u001b[0m \u001b[0mNone\u001b[0m \u001b[1;32melse\u001b[0m \u001b[0mv\u001b[0m\u001b[1;33m.\u001b[0m\u001b[0m_constructor\u001b[0m\u001b[1;33m(\u001b[0m\u001b[1;33m**\u001b[0m\u001b[0mv\u001b[0m\u001b[1;33m.\u001b[0m\u001b[0m_construct_axes_dict\u001b[0m\u001b[1;33m(\u001b[0m\u001b[1;33m)\u001b[0m\u001b[1;33m)\u001b[0m \u001b[1;32mfor\u001b[0m \u001b[0mx\u001b[0m \u001b[1;32min\u001b[0m \u001b[0mvalues\u001b[0m \u001b[1;33m]\u001b[0m\u001b[1;33m\u001b[0m\u001b[0m\n\u001b[0m\u001b[0;32m   2155\u001b[0m \u001b[1;33m\u001b[0m\u001b[0m\n\u001b[0;32m   2156\u001b[0m             \u001b[0mv\u001b[0m \u001b[1;33m=\u001b[0m \u001b[0mvalues\u001b[0m\u001b[1;33m[\u001b[0m\u001b[1;36m0\u001b[0m\u001b[1;33m]\u001b[0m\u001b[1;33m\u001b[0m\u001b[0m\n",
        "\u001b[1;31mAttributeError\u001b[0m: 'Timestamp' object has no attribute '_constructor'"
       ]
      }
     ],
     "prompt_number": 64
    },
    {
     "cell_type": "code",
     "collapsed": false,
     "input": [
      "def process_one_timestring(region_now, newtb):\n",
      "    dets = region_now.det.unique()\n",
      "    container = []\n",
      "    for det in dets:\n",
      "        detstr = 'b3_' + str(det).zfill(2)\n",
      "        subdf = region_now[region_now.det == det]\n",
      "        joined = subdf.join(newtb[detstr], how='inner')\n",
      "        container.append(joined.rename(columns= lambda x: 'newtb' if x.startswith('b3_') else x))\n",
      "    newregion = pd.concat(container)\n",
      "    return newregion"
     ],
     "language": "python",
     "metadata": {},
     "outputs": [],
     "prompt_number": 10
    },
    {
     "cell_type": "code",
     "collapsed": false,
     "input": [
      "def process_one_region(region):\n",
      "    timestrings = region.filetimestr.unique()\n",
      "    container = []\n",
      "    for t in timestrings:\n",
      "        print t\n",
      "        tb = get_tb_from_timestr(t)\n",
      "        region_now = region[region.filetimestr == t]\n",
      "        container.append(process_one_timestring(region_now, tb))\n",
      "    return pd.concat(container)"
     ],
     "language": "python",
     "metadata": {},
     "outputs": [],
     "prompt_number": 48
    },
    {
     "cell_type": "code",
     "collapsed": false,
     "input": [
      "newsp1 = process_one_region(sps[0][:100])"
     ],
     "language": "python",
     "metadata": {},
     "outputs": [
      {
       "output_type": "stream",
       "stream": "stdout",
       "text": [
        "2009070808\n",
        "Appending 2009070807 on the left."
       ]
      },
      {
       "output_type": "stream",
       "stream": "stdout",
       "text": [
        "\n",
        "Appending 2009070809 on the right."
       ]
      },
      {
       "output_type": "stream",
       "stream": "stdout",
       "text": [
        "\n",
        "\r"
       ]
      },
      {
       "output_type": "stream",
       "stream": "stdout",
       "text": [
        " [                       0%                       ]"
       ]
      },
      {
       "output_type": "stream",
       "stream": "stdout",
       "text": [
        "\r",
        " [                       1%                       ]  2 of 147 complete"
       ]
      },
      {
       "output_type": "stream",
       "stream": "stdout",
       "text": [
        "\r",
        " [*                      2%                       ]  3 of 147 complete"
       ]
      },
      {
       "output_type": "stream",
       "stream": "stdout",
       "text": [
        "\r",
        " [*                      3%                       ]  4 of 147 complete"
       ]
      },
      {
       "output_type": "stream",
       "stream": "stdout",
       "text": [
        "\r",
        " [*                      3%                       ]  5 of 147 complete"
       ]
      },
      {
       "output_type": "stream",
       "stream": "stdout",
       "text": [
        "\r",
        " [**                     4%                       ]  6 of 147 complete"
       ]
      },
      {
       "output_type": "stream",
       "stream": "stdout",
       "text": [
        "\r",
        " [**                     5%                       ]  7 of 147 complete"
       ]
      },
      {
       "output_type": "stream",
       "stream": "stdout",
       "text": [
        "\r",
        " [**                     5%                       ]  8 of 147 complete"
       ]
      },
      {
       "output_type": "stream",
       "stream": "stdout",
       "text": [
        "\r",
        " [***                    6%                       ]  9 of 147 complete"
       ]
      },
      {
       "output_type": "stream",
       "stream": "stdout",
       "text": [
        "\r",
        " [***                    7%                       ]  10 of 147 complete"
       ]
      },
      {
       "output_type": "stream",
       "stream": "stdout",
       "text": [
        "\r",
        " [***                    7%                       ]  11 of 147 complete"
       ]
      },
      {
       "output_type": "stream",
       "stream": "stdout",
       "text": [
        "\r",
        " [****                   8%                       ]  12 of 147 complete"
       ]
      },
      {
       "output_type": "stream",
       "stream": "stdout",
       "text": [
        "\r",
        " [****                   9%                       ]  13 of 147 complete"
       ]
      },
      {
       "output_type": "stream",
       "stream": "stdout",
       "text": [
        "\r",
        " [*****                 10%                       ]  14 of 147 complete"
       ]
      },
      {
       "output_type": "stream",
       "stream": "stdout",
       "text": [
        "\r",
        " [*****                 10%                       ]  15 of 147 complete"
       ]
      },
      {
       "output_type": "stream",
       "stream": "stdout",
       "text": [
        "\r",
        " [*****                 11%                       ]  16 of 147 complete"
       ]
      },
      {
       "output_type": "stream",
       "stream": "stdout",
       "text": [
        "\r",
        " [******                12%                       ]  17 of 147 complete"
       ]
      },
      {
       "output_type": "stream",
       "stream": "stdout",
       "text": [
        "\r",
        " [******                12%                       ]  18 of 147 complete"
       ]
      },
      {
       "output_type": "stream",
       "stream": "stdout",
       "text": [
        "\r",
        " [******                13%                       ]  19 of 147 complete"
       ]
      },
      {
       "output_type": "stream",
       "stream": "stdout",
       "text": [
        "\r",
        " [*******               14%                       ]  20 of 147 complete"
       ]
      },
      {
       "output_type": "stream",
       "stream": "stdout",
       "text": [
        "\r",
        " [*******               14%                       ]  21 of 147 complete"
       ]
      },
      {
       "output_type": "stream",
       "stream": "stdout",
       "text": [
        "\r",
        " [*******               15%                       ]  22 of 147 complete"
       ]
      },
      {
       "output_type": "stream",
       "stream": "stdout",
       "text": [
        "\r",
        " [********              16%                       ]  23 of 147 complete"
       ]
      },
      {
       "output_type": "stream",
       "stream": "stdout",
       "text": [
        "\r",
        " [********              16%                       ]  24 of 147 complete"
       ]
      },
      {
       "output_type": "stream",
       "stream": "stdout",
       "text": [
        "\r",
        " [********              17%                       ]  25 of 147 complete"
       ]
      },
      {
       "output_type": "stream",
       "stream": "stdout",
       "text": [
        "\r",
        " [*********             18%                       ]  26 of 147 complete"
       ]
      },
      {
       "output_type": "stream",
       "stream": "stdout",
       "text": [
        "\r",
        " [*********             18%                       ]  27 of 147 complete"
       ]
      },
      {
       "output_type": "stream",
       "stream": "stdout",
       "text": [
        "\r",
        " [*********             19%                       ]  28 of 147 complete"
       ]
      },
      {
       "output_type": "stream",
       "stream": "stdout",
       "text": [
        "\r",
        " [**********            20%                       ]  29 of 147 complete"
       ]
      },
      {
       "output_type": "stream",
       "stream": "stdout",
       "text": [
        "\r",
        " [**********            20%                       ]  30 of 147 complete"
       ]
      },
      {
       "output_type": "stream",
       "stream": "stdout",
       "text": [
        "\r",
        " [**********            21%                       ]  31 of 147 complete"
       ]
      },
      {
       "output_type": "stream",
       "stream": "stdout",
       "text": [
        "\r",
        " [***********           22%                       ]  32 of 147 complete"
       ]
      },
      {
       "output_type": "stream",
       "stream": "stdout",
       "text": [
        "\r",
        " [***********           22%                       ]  33 of 147 complete"
       ]
      },
      {
       "output_type": "stream",
       "stream": "stdout",
       "text": [
        "\r",
        " [***********           23%                       ]  34 of 147 complete"
       ]
      },
      {
       "output_type": "stream",
       "stream": "stdout",
       "text": [
        "\r",
        " [************          24%                       ]  35 of 147 complete"
       ]
      },
      {
       "output_type": "stream",
       "stream": "stdout",
       "text": [
        "\r",
        " [************          24%                       ]  36 of 147 complete"
       ]
      },
      {
       "output_type": "stream",
       "stream": "stdout",
       "text": [
        "\r",
        " [************          25%                       ]  37 of 147 complete"
       ]
      },
      {
       "output_type": "stream",
       "stream": "stdout",
       "text": [
        "\r",
        " [************          26%                       ]  38 of 147 complete"
       ]
      },
      {
       "output_type": "stream",
       "stream": "stdout",
       "text": [
        "\r",
        " [*************         27%                       ]  39 of 147 complete"
       ]
      },
      {
       "output_type": "stream",
       "stream": "stdout",
       "text": [
        "\r",
        " [*************         27%                       ]  40 of 147 complete"
       ]
      },
      {
       "output_type": "stream",
       "stream": "stdout",
       "text": [
        "\r",
        " [*************         28%                       ]  41 of 147 complete"
       ]
      },
      {
       "output_type": "stream",
       "stream": "stdout",
       "text": [
        "\r",
        " [**************        29%                       ]  42 of 147 complete"
       ]
      },
      {
       "output_type": "stream",
       "stream": "stdout",
       "text": [
        "\r",
        " [**************        29%                       ]  43 of 147 complete"
       ]
      },
      {
       "output_type": "stream",
       "stream": "stdout",
       "text": [
        "\r",
        " [**************        30%                       ]  44 of 147 complete"
       ]
      },
      {
       "output_type": "stream",
       "stream": "stdout",
       "text": [
        "\r",
        " [***************       31%                       ]  45 of 147 complete"
       ]
      },
      {
       "output_type": "stream",
       "stream": "stdout",
       "text": [
        "\r",
        " [***************       31%                       ]  46 of 147 complete"
       ]
      },
      {
       "output_type": "stream",
       "stream": "stdout",
       "text": [
        "\r",
        " [***************       32%                       ]  47 of 147 complete"
       ]
      },
      {
       "output_type": "stream",
       "stream": "stdout",
       "text": [
        "\r",
        " [****************      33%                       ]  48 of 147 complete"
       ]
      },
      {
       "output_type": "stream",
       "stream": "stdout",
       "text": [
        "\r",
        " [****************      33%                       ]  49 of 147 complete"
       ]
      },
      {
       "output_type": "stream",
       "stream": "stdout",
       "text": [
        "\r",
        " [****************      34%                       ]  50 of 147 complete"
       ]
      },
      {
       "output_type": "stream",
       "stream": "stdout",
       "text": [
        "\r",
        " [*****************     35%                       ]  51 of 147 complete"
       ]
      },
      {
       "output_type": "stream",
       "stream": "stdout",
       "text": [
        "\r",
        " [*****************     35%                       ]  52 of 147 complete"
       ]
      },
      {
       "output_type": "stream",
       "stream": "stdout",
       "text": [
        "\r",
        " [*****************     36%                       ]  53 of 147 complete"
       ]
      },
      {
       "output_type": "stream",
       "stream": "stdout",
       "text": [
        "\r",
        " [******************    37%                       ]  54 of 147 complete"
       ]
      },
      {
       "output_type": "stream",
       "stream": "stdout",
       "text": [
        "\r",
        " [******************    37%                       ]  55 of 147 complete"
       ]
      },
      {
       "output_type": "stream",
       "stream": "stdout",
       "text": [
        "\r",
        " [******************    38%                       ]  56 of 147 complete"
       ]
      },
      {
       "output_type": "stream",
       "stream": "stdout",
       "text": [
        "\r",
        " [*******************   39%                       ]  57 of 147 complete"
       ]
      },
      {
       "output_type": "stream",
       "stream": "stdout",
       "text": [
        "\r",
        " [*******************   39%                       ]  58 of 147 complete"
       ]
      },
      {
       "output_type": "stream",
       "stream": "stdout",
       "text": [
        "\r",
        " [*******************   40%                       ]  59 of 147 complete"
       ]
      },
      {
       "output_type": "stream",
       "stream": "stdout",
       "text": [
        "\r",
        " [********************  41%                       ]  60 of 147 complete"
       ]
      },
      {
       "output_type": "stream",
       "stream": "stdout",
       "text": [
        "\r",
        " [********************  41%                       ]  61 of 147 complete"
       ]
      },
      {
       "output_type": "stream",
       "stream": "stdout",
       "text": [
        "\r",
        " [********************  42%                       ]  62 of 147 complete"
       ]
      },
      {
       "output_type": "stream",
       "stream": "stdout",
       "text": [
        "\r",
        " [********************* 43%                       ]  63 of 147 complete"
       ]
      },
      {
       "output_type": "stream",
       "stream": "stdout",
       "text": [
        "\r",
        " [********************* 44%                       ]  64 of 147 complete"
       ]
      },
      {
       "output_type": "stream",
       "stream": "stdout",
       "text": [
        "\r",
        " [********************* 44%                       ]  65 of 147 complete"
       ]
      },
      {
       "output_type": "stream",
       "stream": "stdout",
       "text": [
        "\r",
        " [**********************45%                       ]  66 of 147 complete"
       ]
      },
      {
       "output_type": "stream",
       "stream": "stdout",
       "text": [
        "\r",
        " [**********************46%                       ]  67 of 147 complete"
       ]
      },
      {
       "output_type": "stream",
       "stream": "stdout",
       "text": [
        "\r",
        " [**********************46%                       ]  68 of 147 complete"
       ]
      },
      {
       "output_type": "stream",
       "stream": "stdout",
       "text": [
        "\r",
        " [**********************47%                       ]  69 of 147 complete"
       ]
      },
      {
       "output_type": "stream",
       "stream": "stdout",
       "text": [
        "\r",
        " [**********************48%                       ]  70 of 147 complete"
       ]
      },
      {
       "output_type": "stream",
       "stream": "stdout",
       "text": [
        "\r",
        " [**********************48%                       ]  71 of 147 complete"
       ]
      },
      {
       "output_type": "stream",
       "stream": "stdout",
       "text": [
        "\r",
        " [**********************49%                       ]  72 of 147 complete"
       ]
      },
      {
       "output_type": "stream",
       "stream": "stdout",
       "text": [
        "\r",
        " [**********************50%                       ]  73 of 147 complete"
       ]
      },
      {
       "output_type": "stream",
       "stream": "stdout",
       "text": [
        "\r",
        " [**********************50%                       ]  74 of 147 complete"
       ]
      },
      {
       "output_type": "stream",
       "stream": "stdout",
       "text": [
        "\r",
        " [**********************51%                       ]  75 of 147 complete"
       ]
      },
      {
       "output_type": "stream",
       "stream": "stdout",
       "text": [
        "\r",
        " [**********************52%                       ]  76 of 147 complete"
       ]
      },
      {
       "output_type": "stream",
       "stream": "stdout",
       "text": [
        "\r",
        " [**********************52%                       ]  77 of 147 complete"
       ]
      },
      {
       "output_type": "stream",
       "stream": "stdout",
       "text": [
        "\r",
        " [**********************53%                       ]  78 of 147 complete"
       ]
      },
      {
       "output_type": "stream",
       "stream": "stdout",
       "text": [
        "\r",
        " [**********************54%*                      ]  79 of 147 complete"
       ]
      },
      {
       "output_type": "stream",
       "stream": "stdout",
       "text": [
        "\r",
        " [**********************54%*                      ]  80 of 147 complete"
       ]
      },
      {
       "output_type": "stream",
       "stream": "stdout",
       "text": [
        "\r",
        " [**********************55%*                      ]  81 of 147 complete"
       ]
      },
      {
       "output_type": "stream",
       "stream": "stdout",
       "text": [
        "\r",
        " [**********************56%**                     ]  82 of 147 complete"
       ]
      },
      {
       "output_type": "stream",
       "stream": "stdout",
       "text": [
        "\r",
        " [**********************56%**                     ]  83 of 147 complete"
       ]
      },
      {
       "output_type": "stream",
       "stream": "stdout",
       "text": [
        "\r",
        " [**********************57%**                     ]  84 of 147 complete"
       ]
      },
      {
       "output_type": "stream",
       "stream": "stdout",
       "text": [
        "\r",
        " [**********************58%***                    ]  85 of 147 complete"
       ]
      },
      {
       "output_type": "stream",
       "stream": "stdout",
       "text": [
        "\r",
        " [**********************59%***                    ]  86 of 147 complete"
       ]
      },
      {
       "output_type": "stream",
       "stream": "stdout",
       "text": [
        "\r",
        " [**********************59%***                    ]  87 of 147 complete"
       ]
      },
      {
       "output_type": "stream",
       "stream": "stdout",
       "text": [
        "\r",
        " [**********************60%****                   ]  88 of 147 complete"
       ]
      },
      {
       "output_type": "stream",
       "stream": "stdout",
       "text": [
        "\r",
        " [**********************61%****                   ]  89 of 147 complete"
       ]
      },
      {
       "output_type": "stream",
       "stream": "stdout",
       "text": [
        "\r",
        " [**********************61%****                   ]  90 of 147 complete"
       ]
      },
      {
       "output_type": "stream",
       "stream": "stdout",
       "text": [
        "\r",
        " [**********************62%*****                  ]  91 of 147 complete"
       ]
      },
      {
       "output_type": "stream",
       "stream": "stdout",
       "text": [
        "\r",
        " [**********************63%*****                  ]  92 of 147 complete"
       ]
      },
      {
       "output_type": "stream",
       "stream": "stdout",
       "text": [
        "\r",
        " [**********************63%*****                  ]  93 of 147 complete"
       ]
      },
      {
       "output_type": "stream",
       "stream": "stdout",
       "text": [
        "\r",
        " [**********************64%******                 ]  94 of 147 complete"
       ]
      },
      {
       "output_type": "stream",
       "stream": "stdout",
       "text": [
        "\r",
        " [**********************65%******                 ]  95 of 147 complete"
       ]
      },
      {
       "output_type": "stream",
       "stream": "stdout",
       "text": [
        "\r",
        " [**********************65%******                 ]  96 of 147 complete"
       ]
      },
      {
       "output_type": "stream",
       "stream": "stdout",
       "text": [
        "\r",
        " [**********************66%*******                ]  97 of 147 complete"
       ]
      },
      {
       "output_type": "stream",
       "stream": "stdout",
       "text": [
        "\r",
        " [**********************67%*******                ]  98 of 147 complete"
       ]
      },
      {
       "output_type": "stream",
       "stream": "stdout",
       "text": [
        "\r",
        " [**********************67%*******                ]  99 of 147 complete"
       ]
      },
      {
       "output_type": "stream",
       "stream": "stdout",
       "text": [
        "\r",
        " [**********************68%********               ]  100 of 147 complete"
       ]
      },
      {
       "output_type": "stream",
       "stream": "stdout",
       "text": [
        "\r",
        " [**********************69%********               ]  101 of 147 complete"
       ]
      },
      {
       "output_type": "stream",
       "stream": "stdout",
       "text": [
        "\r",
        " [**********************69%********               ]  102 of 147 complete"
       ]
      },
      {
       "output_type": "stream",
       "stream": "stdout",
       "text": [
        "\r",
        " [**********************70%*********              ]  103 of 147 complete"
       ]
      },
      {
       "output_type": "stream",
       "stream": "stdout",
       "text": [
        "\r",
        " [**********************71%*********              ]  104 of 147 complete"
       ]
      },
      {
       "output_type": "stream",
       "stream": "stdout",
       "text": [
        "\r",
        " [**********************71%*********              ]  105 of 147 complete"
       ]
      },
      {
       "output_type": "stream",
       "stream": "stdout",
       "text": [
        "\r",
        " [**********************72%**********             ]  106 of 147 complete"
       ]
      },
      {
       "output_type": "stream",
       "stream": "stdout",
       "text": [
        "\r",
        " [**********************73%**********             ]  107 of 147 complete"
       ]
      },
      {
       "output_type": "stream",
       "stream": "stdout",
       "text": [
        "\r",
        " [**********************73%**********             ]  108 of 147 complete"
       ]
      },
      {
       "output_type": "stream",
       "stream": "stdout",
       "text": [
        "\r",
        " [**********************74%***********            ]  109 of 147 complete"
       ]
      },
      {
       "output_type": "stream",
       "stream": "stdout",
       "text": [
        "\r",
        " [**********************75%***********            ]  110 of 147 complete"
       ]
      },
      {
       "output_type": "stream",
       "stream": "stdout",
       "text": [
        "\r",
        " [**********************76%***********            ]  111 of 147 complete"
       ]
      },
      {
       "output_type": "stream",
       "stream": "stdout",
       "text": [
        "\r",
        " [**********************76%***********            ]  112 of 147 complete"
       ]
      },
      {
       "output_type": "stream",
       "stream": "stdout",
       "text": [
        "\r",
        " [**********************77%************           ]  113 of 147 complete"
       ]
      },
      {
       "output_type": "stream",
       "stream": "stdout",
       "text": [
        "\r",
        " [**********************78%************           ]  114 of 147 complete"
       ]
      },
      {
       "output_type": "stream",
       "stream": "stdout",
       "text": [
        "\r",
        " [**********************78%************           ]  115 of 147 complete"
       ]
      },
      {
       "output_type": "stream",
       "stream": "stdout",
       "text": [
        "\r",
        " [**********************79%*************          ]  116 of 147 complete"
       ]
      },
      {
       "output_type": "stream",
       "stream": "stdout",
       "text": [
        "\r",
        " [**********************80%*************          ]  117 of 147 complete"
       ]
      },
      {
       "output_type": "stream",
       "stream": "stdout",
       "text": [
        "\r",
        " [**********************80%*************          ]  118 of 147 complete"
       ]
      },
      {
       "output_type": "stream",
       "stream": "stdout",
       "text": [
        "\r",
        " [**********************81%**************         ]  119 of 147 complete"
       ]
      },
      {
       "output_type": "stream",
       "stream": "stdout",
       "text": [
        "\r",
        " [**********************82%**************         ]  120 of 147 complete"
       ]
      },
      {
       "output_type": "stream",
       "stream": "stdout",
       "text": [
        "\r",
        " [**********************82%**************         ]  121 of 147 complete"
       ]
      },
      {
       "output_type": "stream",
       "stream": "stdout",
       "text": [
        "\r",
        " [**********************83%***************        ]  122 of 147 complete"
       ]
      },
      {
       "output_type": "stream",
       "stream": "stdout",
       "text": [
        "\r",
        " [**********************84%***************        ]  123 of 147 complete"
       ]
      },
      {
       "output_type": "stream",
       "stream": "stdout",
       "text": [
        "\r",
        " [**********************84%***************        ]  124 of 147 complete"
       ]
      },
      {
       "output_type": "stream",
       "stream": "stdout",
       "text": [
        "\r",
        " [**********************85%****************       ]  125 of 147 complete"
       ]
      },
      {
       "output_type": "stream",
       "stream": "stdout",
       "text": [
        "\r",
        " [**********************86%****************       ]  126 of 147 complete"
       ]
      },
      {
       "output_type": "stream",
       "stream": "stdout",
       "text": [
        "\r",
        " [**********************86%****************       ]  127 of 147 complete"
       ]
      },
      {
       "output_type": "stream",
       "stream": "stdout",
       "text": [
        "\r",
        " [**********************87%*****************      ]  128 of 147 complete"
       ]
      },
      {
       "output_type": "stream",
       "stream": "stdout",
       "text": [
        "\r",
        " [**********************88%*****************      ]  129 of 147 complete"
       ]
      },
      {
       "output_type": "stream",
       "stream": "stdout",
       "text": [
        "\r",
        " [**********************88%*****************      ]  130 of 147 complete"
       ]
      },
      {
       "output_type": "stream",
       "stream": "stdout",
       "text": [
        "\r",
        " [**********************89%******************     ]  131 of 147 complete"
       ]
      },
      {
       "output_type": "stream",
       "stream": "stdout",
       "text": [
        "\r",
        " [**********************90%******************     ]  132 of 147 complete"
       ]
      },
      {
       "output_type": "stream",
       "stream": "stdout",
       "text": [
        "\r",
        " [**********************90%******************     ]  133 of 147 complete"
       ]
      },
      {
       "output_type": "stream",
       "stream": "stdout",
       "text": [
        "\r",
        " [**********************91%*******************    ]  134 of 147 complete"
       ]
      },
      {
       "output_type": "stream",
       "stream": "stdout",
       "text": [
        "\r",
        " [**********************92%*******************    ]  135 of 147 complete"
       ]
      },
      {
       "output_type": "stream",
       "stream": "stdout",
       "text": [
        "\r",
        " [**********************93%********************   ]  136 of 147 complete"
       ]
      },
      {
       "output_type": "stream",
       "stream": "stdout",
       "text": [
        "\r",
        " [**********************93%********************   ]  137 of 147 complete"
       ]
      },
      {
       "output_type": "stream",
       "stream": "stdout",
       "text": [
        "\r",
        " [**********************94%********************   ]  138 of 147 complete"
       ]
      },
      {
       "output_type": "stream",
       "stream": "stdout",
       "text": [
        "\r",
        " [**********************95%*********************  ]  139 of 147 complete"
       ]
      },
      {
       "output_type": "stream",
       "stream": "stdout",
       "text": [
        "\r",
        " [**********************95%*********************  ]  140 of 147 complete"
       ]
      },
      {
       "output_type": "stream",
       "stream": "stdout",
       "text": [
        "\r",
        " [**********************96%*********************  ]  141 of 147 complete"
       ]
      },
      {
       "output_type": "stream",
       "stream": "stdout",
       "text": [
        "\r",
        " [**********************97%********************** ]  142 of 147 complete"
       ]
      },
      {
       "output_type": "stream",
       "stream": "stdout",
       "text": [
        "\r",
        " [**********************97%********************** ]  143 of 147 complete"
       ]
      },
      {
       "output_type": "stream",
       "stream": "stdout",
       "text": [
        "\r",
        " [**********************98%********************** ]  144 of 147 complete"
       ]
      },
      {
       "output_type": "stream",
       "stream": "stdout",
       "text": [
        "\r",
        " [**********************99%***********************]  145 of 147 complete"
       ]
      },
      {
       "output_type": "stream",
       "stream": "stdout",
       "text": [
        "\r",
        " [**********************99%***********************]  146 of 147 complete"
       ]
      },
      {
       "output_type": "stream",
       "stream": "stdout",
       "text": [
        "\r",
        " [*********************100%***********************]  147 of 147 complete"
       ]
      },
      {
       "output_type": "stream",
       "stream": "stdout",
       "text": [
        "\r",
        " [                       0%                       ]"
       ]
      },
      {
       "output_type": "stream",
       "stream": "stdout",
       "text": [
        "\r",
        " [                       1%                       ]  2 of 147 complete"
       ]
      },
      {
       "output_type": "stream",
       "stream": "stdout",
       "text": [
        "\r",
        " [*                      2%                       ]  3 of 147 complete"
       ]
      },
      {
       "output_type": "stream",
       "stream": "stdout",
       "text": [
        "\r",
        " [*                      3%                       ]  4 of 147 complete"
       ]
      },
      {
       "output_type": "stream",
       "stream": "stdout",
       "text": [
        "\r",
        " [*                      3%                       ]  5 of 147 complete"
       ]
      },
      {
       "output_type": "stream",
       "stream": "stdout",
       "text": [
        "\r",
        " [**                     4%                       ]  6 of 147 complete"
       ]
      },
      {
       "output_type": "stream",
       "stream": "stdout",
       "text": [
        "\r",
        " [**                     5%                       ]  7 of 147 complete"
       ]
      },
      {
       "output_type": "stream",
       "stream": "stdout",
       "text": [
        "\r",
        " [**                     5%                       ]  8 of 147 complete"
       ]
      },
      {
       "output_type": "stream",
       "stream": "stdout",
       "text": [
        "\r",
        " [***                    6%                       ]  9 of 147 complete"
       ]
      },
      {
       "output_type": "stream",
       "stream": "stdout",
       "text": [
        "\r",
        " [***                    7%                       ]  10 of 147 complete"
       ]
      },
      {
       "output_type": "stream",
       "stream": "stdout",
       "text": [
        "\r",
        " [***                    7%                       ]  11 of 147 complete"
       ]
      },
      {
       "output_type": "stream",
       "stream": "stdout",
       "text": [
        "\r",
        " [****                   8%                       ]  12 of 147 complete"
       ]
      },
      {
       "output_type": "stream",
       "stream": "stdout",
       "text": [
        "\r",
        " [****                   9%                       ]  13 of 147 complete"
       ]
      },
      {
       "output_type": "stream",
       "stream": "stdout",
       "text": [
        "\r",
        " [*****                 10%                       ]  14 of 147 complete"
       ]
      },
      {
       "output_type": "stream",
       "stream": "stdout",
       "text": [
        "\r",
        " [*****                 10%                       ]  15 of 147 complete"
       ]
      },
      {
       "output_type": "stream",
       "stream": "stdout",
       "text": [
        "\r",
        " [*****                 11%                       ]  16 of 147 complete"
       ]
      },
      {
       "output_type": "stream",
       "stream": "stdout",
       "text": [
        "\r",
        " [******                12%                       ]  17 of 147 complete"
       ]
      },
      {
       "output_type": "stream",
       "stream": "stdout",
       "text": [
        "\r",
        " [******                12%                       ]  18 of 147 complete"
       ]
      },
      {
       "output_type": "stream",
       "stream": "stdout",
       "text": [
        "\r",
        " [******                13%                       ]  19 of 147 complete"
       ]
      },
      {
       "output_type": "stream",
       "stream": "stdout",
       "text": [
        "\r",
        " [*******               14%                       ]  20 of 147 complete"
       ]
      },
      {
       "output_type": "stream",
       "stream": "stdout",
       "text": [
        "\r",
        " [*******               14%                       ]  21 of 147 complete"
       ]
      },
      {
       "output_type": "stream",
       "stream": "stdout",
       "text": [
        "\r",
        " [*******               15%                       ]  22 of 147 complete"
       ]
      },
      {
       "output_type": "stream",
       "stream": "stdout",
       "text": [
        "\r",
        " [********              16%                       ]  23 of 147 complete"
       ]
      },
      {
       "output_type": "stream",
       "stream": "stdout",
       "text": [
        "\r",
        " [********              16%                       ]  24 of 147 complete"
       ]
      },
      {
       "output_type": "stream",
       "stream": "stdout",
       "text": [
        "\r",
        " [********              17%                       ]  25 of 147 complete"
       ]
      },
      {
       "output_type": "stream",
       "stream": "stdout",
       "text": [
        "\r",
        " [*********             18%                       ]  26 of 147 complete"
       ]
      },
      {
       "output_type": "stream",
       "stream": "stdout",
       "text": [
        "\r",
        " [*********             18%                       ]  27 of 147 complete"
       ]
      },
      {
       "output_type": "stream",
       "stream": "stdout",
       "text": [
        "\r",
        " [*********             19%                       ]  28 of 147 complete"
       ]
      },
      {
       "output_type": "stream",
       "stream": "stdout",
       "text": [
        "\r",
        " [**********            20%                       ]  29 of 147 complete"
       ]
      },
      {
       "output_type": "stream",
       "stream": "stdout",
       "text": [
        "\r",
        " [**********            20%                       ]  30 of 147 complete"
       ]
      },
      {
       "output_type": "stream",
       "stream": "stdout",
       "text": [
        "\r",
        " [**********            21%                       ]  31 of 147 complete"
       ]
      },
      {
       "output_type": "stream",
       "stream": "stdout",
       "text": [
        "\r",
        " [***********           22%                       ]  32 of 147 complete"
       ]
      },
      {
       "output_type": "stream",
       "stream": "stdout",
       "text": [
        "\r",
        " [***********           22%                       ]  33 of 147 complete"
       ]
      },
      {
       "output_type": "stream",
       "stream": "stdout",
       "text": [
        "\r",
        " [***********           23%                       ]  34 of 147 complete"
       ]
      },
      {
       "output_type": "stream",
       "stream": "stdout",
       "text": [
        "\r",
        " [************          24%                       ]  35 of 147 complete"
       ]
      },
      {
       "output_type": "stream",
       "stream": "stdout",
       "text": [
        "\r",
        " [************          24%                       ]  36 of 147 complete"
       ]
      },
      {
       "output_type": "stream",
       "stream": "stdout",
       "text": [
        "\r",
        " [************          25%                       ]  37 of 147 complete"
       ]
      },
      {
       "output_type": "stream",
       "stream": "stdout",
       "text": [
        "\r",
        " [************          26%                       ]  38 of 147 complete"
       ]
      },
      {
       "output_type": "stream",
       "stream": "stdout",
       "text": [
        "\r",
        " [*************         27%                       ]  39 of 147 complete"
       ]
      },
      {
       "output_type": "stream",
       "stream": "stdout",
       "text": [
        "\r",
        " [*************         27%                       ]  40 of 147 complete"
       ]
      },
      {
       "output_type": "stream",
       "stream": "stdout",
       "text": [
        "\r",
        " [*************         28%                       ]  41 of 147 complete"
       ]
      },
      {
       "output_type": "stream",
       "stream": "stdout",
       "text": [
        "\r",
        " [**************        29%                       ]  42 of 147 complete"
       ]
      },
      {
       "output_type": "stream",
       "stream": "stdout",
       "text": [
        "\r",
        " [**************        29%                       ]  43 of 147 complete"
       ]
      },
      {
       "output_type": "stream",
       "stream": "stdout",
       "text": [
        "\r",
        " [**************        30%                       ]  44 of 147 complete"
       ]
      },
      {
       "output_type": "stream",
       "stream": "stdout",
       "text": [
        "\r",
        " [***************       31%                       ]  45 of 147 complete"
       ]
      },
      {
       "output_type": "stream",
       "stream": "stdout",
       "text": [
        "\r",
        " [***************       31%                       ]  46 of 147 complete"
       ]
      },
      {
       "output_type": "stream",
       "stream": "stdout",
       "text": [
        "\r",
        " [***************       32%                       ]  47 of 147 complete"
       ]
      },
      {
       "output_type": "stream",
       "stream": "stdout",
       "text": [
        "\r",
        " [****************      33%                       ]  48 of 147 complete"
       ]
      },
      {
       "output_type": "stream",
       "stream": "stdout",
       "text": [
        "\r",
        " [****************      33%                       ]  49 of 147 complete"
       ]
      },
      {
       "output_type": "stream",
       "stream": "stdout",
       "text": [
        "\r",
        " [****************      34%                       ]  50 of 147 complete"
       ]
      },
      {
       "output_type": "stream",
       "stream": "stdout",
       "text": [
        "\r",
        " [*****************     35%                       ]  51 of 147 complete"
       ]
      },
      {
       "output_type": "stream",
       "stream": "stdout",
       "text": [
        "\r",
        " [*****************     35%                       ]  52 of 147 complete"
       ]
      },
      {
       "output_type": "stream",
       "stream": "stdout",
       "text": [
        "\r",
        " [*****************     36%                       ]  53 of 147 complete"
       ]
      },
      {
       "output_type": "stream",
       "stream": "stdout",
       "text": [
        "\r",
        " [******************    37%                       ]  54 of 147 complete"
       ]
      },
      {
       "output_type": "stream",
       "stream": "stdout",
       "text": [
        "\r",
        " [******************    37%                       ]  55 of 147 complete"
       ]
      },
      {
       "output_type": "stream",
       "stream": "stdout",
       "text": [
        "\r",
        " [******************    38%                       ]  56 of 147 complete"
       ]
      },
      {
       "output_type": "stream",
       "stream": "stdout",
       "text": [
        "\r",
        " [*******************   39%                       ]  57 of 147 complete"
       ]
      },
      {
       "output_type": "stream",
       "stream": "stdout",
       "text": [
        "\r",
        " [*******************   39%                       ]  58 of 147 complete"
       ]
      },
      {
       "output_type": "stream",
       "stream": "stdout",
       "text": [
        "\r",
        " [*******************   40%                       ]  59 of 147 complete"
       ]
      },
      {
       "output_type": "stream",
       "stream": "stdout",
       "text": [
        "\r",
        " [********************  41%                       ]  60 of 147 complete"
       ]
      },
      {
       "output_type": "stream",
       "stream": "stdout",
       "text": [
        "\r",
        " [********************  41%                       ]  61 of 147 complete"
       ]
      },
      {
       "output_type": "stream",
       "stream": "stdout",
       "text": [
        "\r",
        " [********************  42%                       ]  62 of 147 complete"
       ]
      },
      {
       "output_type": "stream",
       "stream": "stdout",
       "text": [
        "\r",
        " [********************* 43%                       ]  63 of 147 complete"
       ]
      },
      {
       "output_type": "stream",
       "stream": "stdout",
       "text": [
        "\r",
        " [********************* 44%                       ]  64 of 147 complete"
       ]
      },
      {
       "output_type": "stream",
       "stream": "stdout",
       "text": [
        "\r",
        " [********************* 44%                       ]  65 of 147 complete"
       ]
      },
      {
       "output_type": "stream",
       "stream": "stdout",
       "text": [
        "\r",
        " [**********************45%                       ]  66 of 147 complete"
       ]
      },
      {
       "output_type": "stream",
       "stream": "stdout",
       "text": [
        "\r",
        " [**********************46%                       ]  67 of 147 complete"
       ]
      },
      {
       "output_type": "stream",
       "stream": "stdout",
       "text": [
        "\r",
        " [**********************46%                       ]  68 of 147 complete"
       ]
      },
      {
       "output_type": "stream",
       "stream": "stdout",
       "text": [
        "\r",
        " [**********************47%                       ]  69 of 147 complete"
       ]
      },
      {
       "output_type": "stream",
       "stream": "stdout",
       "text": [
        "\r",
        " [**********************48%                       ]  70 of 147 complete"
       ]
      },
      {
       "output_type": "stream",
       "stream": "stdout",
       "text": [
        "\r",
        " [**********************48%                       ]  71 of 147 complete"
       ]
      },
      {
       "output_type": "stream",
       "stream": "stdout",
       "text": [
        "\r",
        " [**********************49%                       ]  72 of 147 complete"
       ]
      },
      {
       "output_type": "stream",
       "stream": "stdout",
       "text": [
        "\r",
        " [**********************50%                       ]  73 of 147 complete"
       ]
      },
      {
       "output_type": "stream",
       "stream": "stdout",
       "text": [
        "\r",
        " [**********************50%                       ]  74 of 147 complete"
       ]
      },
      {
       "output_type": "stream",
       "stream": "stdout",
       "text": [
        "\r",
        " [**********************51%                       ]  75 of 147 complete"
       ]
      },
      {
       "output_type": "stream",
       "stream": "stdout",
       "text": [
        "\r",
        " [**********************52%                       ]  76 of 147 complete"
       ]
      },
      {
       "output_type": "stream",
       "stream": "stdout",
       "text": [
        "\r",
        " [**********************52%                       ]  77 of 147 complete"
       ]
      },
      {
       "output_type": "stream",
       "stream": "stdout",
       "text": [
        "\r",
        " [**********************53%                       ]  78 of 147 complete"
       ]
      },
      {
       "output_type": "stream",
       "stream": "stdout",
       "text": [
        "\r",
        " [**********************54%*                      ]  79 of 147 complete"
       ]
      },
      {
       "output_type": "stream",
       "stream": "stdout",
       "text": [
        "\r",
        " [**********************54%*                      ]  80 of 147 complete"
       ]
      },
      {
       "output_type": "stream",
       "stream": "stdout",
       "text": [
        "\r",
        " [**********************55%*                      ]  81 of 147 complete"
       ]
      },
      {
       "output_type": "stream",
       "stream": "stdout",
       "text": [
        "\r",
        " [**********************56%**                     ]  82 of 147 complete"
       ]
      },
      {
       "output_type": "stream",
       "stream": "stdout",
       "text": [
        "\r",
        " [**********************56%**                     ]  83 of 147 complete"
       ]
      },
      {
       "output_type": "stream",
       "stream": "stdout",
       "text": [
        "\r",
        " [**********************57%**                     ]  84 of 147 complete"
       ]
      },
      {
       "output_type": "stream",
       "stream": "stdout",
       "text": [
        "\r",
        " [**********************58%***                    ]  85 of 147 complete"
       ]
      },
      {
       "output_type": "stream",
       "stream": "stdout",
       "text": [
        "\r",
        " [**********************59%***                    ]  86 of 147 complete"
       ]
      },
      {
       "output_type": "stream",
       "stream": "stdout",
       "text": [
        "\r",
        " [**********************59%***                    ]  87 of 147 complete"
       ]
      },
      {
       "output_type": "stream",
       "stream": "stdout",
       "text": [
        "\r",
        " [**********************60%****                   ]  88 of 147 complete"
       ]
      },
      {
       "output_type": "stream",
       "stream": "stdout",
       "text": [
        "\r",
        " [**********************61%****                   ]  89 of 147 complete"
       ]
      },
      {
       "output_type": "stream",
       "stream": "stdout",
       "text": [
        "\r",
        " [**********************61%****                   ]  90 of 147 complete"
       ]
      },
      {
       "output_type": "stream",
       "stream": "stdout",
       "text": [
        "\r",
        " [**********************62%*****                  ]  91 of 147 complete"
       ]
      },
      {
       "output_type": "stream",
       "stream": "stdout",
       "text": [
        "\r",
        " [**********************63%*****                  ]  92 of 147 complete"
       ]
      },
      {
       "output_type": "stream",
       "stream": "stdout",
       "text": [
        "\r",
        " [**********************63%*****                  ]  93 of 147 complete"
       ]
      },
      {
       "output_type": "stream",
       "stream": "stdout",
       "text": [
        "\r",
        " [**********************64%******                 ]  94 of 147 complete"
       ]
      },
      {
       "output_type": "stream",
       "stream": "stdout",
       "text": [
        "\r",
        " [**********************65%******                 ]  95 of 147 complete"
       ]
      },
      {
       "output_type": "stream",
       "stream": "stdout",
       "text": [
        "\r",
        " [**********************65%******                 ]  96 of 147 complete"
       ]
      },
      {
       "output_type": "stream",
       "stream": "stdout",
       "text": [
        "\r",
        " [**********************66%*******                ]  97 of 147 complete"
       ]
      },
      {
       "output_type": "stream",
       "stream": "stdout",
       "text": [
        "\r",
        " [**********************67%*******                ]  98 of 147 complete"
       ]
      },
      {
       "output_type": "stream",
       "stream": "stdout",
       "text": [
        "\r",
        " [**********************67%*******                ]  99 of 147 complete"
       ]
      },
      {
       "output_type": "stream",
       "stream": "stdout",
       "text": [
        "\r",
        " [**********************68%********               ]  100 of 147 complete"
       ]
      },
      {
       "output_type": "stream",
       "stream": "stdout",
       "text": [
        "\r",
        " [**********************69%********               ]  101 of 147 complete"
       ]
      },
      {
       "output_type": "stream",
       "stream": "stdout",
       "text": [
        "\r",
        " [**********************69%********               ]  102 of 147 complete"
       ]
      },
      {
       "output_type": "stream",
       "stream": "stdout",
       "text": [
        "\r",
        " [**********************70%*********              ]  103 of 147 complete"
       ]
      },
      {
       "output_type": "stream",
       "stream": "stdout",
       "text": [
        "\r",
        " [**********************71%*********              ]  104 of 147 complete"
       ]
      },
      {
       "output_type": "stream",
       "stream": "stdout",
       "text": [
        "\r",
        " [**********************71%*********              ]  105 of 147 complete"
       ]
      },
      {
       "output_type": "stream",
       "stream": "stdout",
       "text": [
        "\r",
        " [**********************72%**********             ]  106 of 147 complete"
       ]
      },
      {
       "output_type": "stream",
       "stream": "stdout",
       "text": [
        "\r",
        " [**********************73%**********             ]  107 of 147 complete"
       ]
      },
      {
       "output_type": "stream",
       "stream": "stdout",
       "text": [
        "\r",
        " [**********************73%**********             ]  108 of 147 complete"
       ]
      },
      {
       "output_type": "stream",
       "stream": "stdout",
       "text": [
        "\r",
        " [**********************74%***********            ]  109 of 147 complete"
       ]
      },
      {
       "output_type": "stream",
       "stream": "stdout",
       "text": [
        "\r",
        " [**********************75%***********            ]  110 of 147 complete"
       ]
      },
      {
       "output_type": "stream",
       "stream": "stdout",
       "text": [
        "\r",
        " [**********************76%***********            ]  111 of 147 complete"
       ]
      },
      {
       "output_type": "stream",
       "stream": "stdout",
       "text": [
        "\r",
        " [**********************76%***********            ]  112 of 147 complete"
       ]
      },
      {
       "output_type": "stream",
       "stream": "stdout",
       "text": [
        "\r",
        " [**********************77%************           ]  113 of 147 complete"
       ]
      },
      {
       "output_type": "stream",
       "stream": "stdout",
       "text": [
        "\r",
        " [**********************78%************           ]  114 of 147 complete"
       ]
      },
      {
       "output_type": "stream",
       "stream": "stdout",
       "text": [
        "\r",
        " [**********************78%************           ]  115 of 147 complete"
       ]
      },
      {
       "output_type": "stream",
       "stream": "stdout",
       "text": [
        "\r",
        " [**********************79%*************          ]  116 of 147 complete"
       ]
      },
      {
       "output_type": "stream",
       "stream": "stdout",
       "text": [
        "\r",
        " [**********************80%*************          ]  117 of 147 complete"
       ]
      },
      {
       "output_type": "stream",
       "stream": "stdout",
       "text": [
        "\r",
        " [**********************80%*************          ]  118 of 147 complete"
       ]
      },
      {
       "output_type": "stream",
       "stream": "stdout",
       "text": [
        "\r",
        " [**********************81%**************         ]  119 of 147 complete"
       ]
      },
      {
       "output_type": "stream",
       "stream": "stdout",
       "text": [
        "\r",
        " [**********************82%**************         ]  120 of 147 complete"
       ]
      },
      {
       "output_type": "stream",
       "stream": "stdout",
       "text": [
        "\r",
        " [**********************82%**************         ]  121 of 147 complete"
       ]
      },
      {
       "output_type": "stream",
       "stream": "stdout",
       "text": [
        "\r",
        " [**********************83%***************        ]  122 of 147 complete"
       ]
      },
      {
       "output_type": "stream",
       "stream": "stdout",
       "text": [
        "\r",
        " [**********************84%***************        ]  123 of 147 complete"
       ]
      },
      {
       "output_type": "stream",
       "stream": "stdout",
       "text": [
        "\r",
        " [**********************84%***************        ]  124 of 147 complete"
       ]
      },
      {
       "output_type": "stream",
       "stream": "stdout",
       "text": [
        "\r",
        " [**********************85%****************       ]  125 of 147 complete"
       ]
      },
      {
       "output_type": "stream",
       "stream": "stdout",
       "text": [
        "\r",
        " [**********************86%****************       ]  126 of 147 complete"
       ]
      },
      {
       "output_type": "stream",
       "stream": "stdout",
       "text": [
        "\r",
        " [**********************86%****************       ]  127 of 147 complete"
       ]
      },
      {
       "output_type": "stream",
       "stream": "stdout",
       "text": [
        "\r",
        " [**********************87%*****************      ]  128 of 147 complete"
       ]
      },
      {
       "output_type": "stream",
       "stream": "stdout",
       "text": [
        "\r",
        " [**********************88%*****************      ]  129 of 147 complete"
       ]
      },
      {
       "output_type": "stream",
       "stream": "stdout",
       "text": [
        "\r",
        " [**********************88%*****************      ]  130 of 147 complete"
       ]
      },
      {
       "output_type": "stream",
       "stream": "stdout",
       "text": [
        "\r",
        " [**********************89%******************     ]  131 of 147 complete"
       ]
      },
      {
       "output_type": "stream",
       "stream": "stdout",
       "text": [
        "\r",
        " [**********************90%******************     ]  132 of 147 complete"
       ]
      },
      {
       "output_type": "stream",
       "stream": "stdout",
       "text": [
        "\r",
        " [**********************90%******************     ]  133 of 147 complete"
       ]
      },
      {
       "output_type": "stream",
       "stream": "stdout",
       "text": [
        "\r",
        " [**********************91%*******************    ]  134 of 147 complete"
       ]
      },
      {
       "output_type": "stream",
       "stream": "stdout",
       "text": [
        "\r",
        " [**********************92%*******************    ]  135 of 147 complete"
       ]
      },
      {
       "output_type": "stream",
       "stream": "stdout",
       "text": [
        "\r",
        " [**********************93%********************   ]  136 of 147 complete"
       ]
      },
      {
       "output_type": "stream",
       "stream": "stdout",
       "text": [
        "\r",
        " [**********************93%********************   ]  137 of 147 complete"
       ]
      },
      {
       "output_type": "stream",
       "stream": "stdout",
       "text": [
        "\r",
        " [**********************94%********************   ]  138 of 147 complete"
       ]
      },
      {
       "output_type": "stream",
       "stream": "stdout",
       "text": [
        "\r",
        " [**********************95%*********************  ]  139 of 147 complete"
       ]
      },
      {
       "output_type": "stream",
       "stream": "stdout",
       "text": [
        "\r",
        " [**********************95%*********************  ]  140 of 147 complete"
       ]
      },
      {
       "output_type": "stream",
       "stream": "stdout",
       "text": [
        "\r",
        " [**********************96%*********************  ]  141 of 147 complete"
       ]
      },
      {
       "output_type": "stream",
       "stream": "stdout",
       "text": [
        "\r",
        " [**********************97%********************** ]  142 of 147 complete"
       ]
      },
      {
       "output_type": "stream",
       "stream": "stdout",
       "text": [
        "\r",
        " [**********************97%********************** ]  143 of 147 complete"
       ]
      },
      {
       "output_type": "stream",
       "stream": "stdout",
       "text": [
        "\r",
        " [**********************98%********************** ]  144 of 147 complete"
       ]
      },
      {
       "output_type": "stream",
       "stream": "stdout",
       "text": [
        "\r",
        " [**********************99%***********************]  145 of 147 complete"
       ]
      },
      {
       "output_type": "stream",
       "stream": "stdout",
       "text": [
        "\r",
        " [**********************99%***********************]  146 of 147 complete"
       ]
      },
      {
       "output_type": "stream",
       "stream": "stdout",
       "text": [
        "\r",
        " [*********************100%***********************]  147 of 147 complete"
       ]
      },
      {
       "output_type": "stream",
       "stream": "stdout",
       "text": [
        "2009070812\n",
        "Appending 2009070811 on the left."
       ]
      },
      {
       "output_type": "stream",
       "stream": "stdout",
       "text": [
        "\n",
        "Appending 2009070813 on the right."
       ]
      },
      {
       "output_type": "stream",
       "stream": "stdout",
       "text": [
        "\n",
        "\r"
       ]
      },
      {
       "output_type": "stream",
       "stream": "stdout",
       "text": [
        " [                       0%                       ]"
       ]
      },
      {
       "output_type": "stream",
       "stream": "stdout",
       "text": [
        "\r",
        " [                       1%                       ]  2 of 147 complete"
       ]
      },
      {
       "output_type": "stream",
       "stream": "stdout",
       "text": [
        "\r",
        " [*                      2%                       ]  3 of 147 complete"
       ]
      },
      {
       "output_type": "stream",
       "stream": "stdout",
       "text": [
        "\r",
        " [*                      3%                       ]  4 of 147 complete"
       ]
      },
      {
       "output_type": "stream",
       "stream": "stdout",
       "text": [
        "\r",
        " [*                      3%                       ]  5 of 147 complete"
       ]
      },
      {
       "output_type": "stream",
       "stream": "stdout",
       "text": [
        "\r",
        " [**                     4%                       ]  6 of 147 complete"
       ]
      },
      {
       "output_type": "stream",
       "stream": "stdout",
       "text": [
        "\r",
        " [**                     5%                       ]  7 of 147 complete"
       ]
      },
      {
       "output_type": "stream",
       "stream": "stdout",
       "text": [
        "\r",
        " [**                     5%                       ]  8 of 147 complete"
       ]
      },
      {
       "output_type": "stream",
       "stream": "stdout",
       "text": [
        "\r",
        " [***                    6%                       ]  9 of 147 complete"
       ]
      },
      {
       "output_type": "stream",
       "stream": "stdout",
       "text": [
        "\r",
        " [***                    7%                       ]  10 of 147 complete"
       ]
      },
      {
       "output_type": "stream",
       "stream": "stdout",
       "text": [
        "\r",
        " [***                    7%                       ]  11 of 147 complete"
       ]
      },
      {
       "output_type": "stream",
       "stream": "stdout",
       "text": [
        "\r",
        " [****                   8%                       ]  12 of 147 complete"
       ]
      },
      {
       "output_type": "stream",
       "stream": "stdout",
       "text": [
        "\r",
        " [****                   9%                       ]  13 of 147 complete"
       ]
      },
      {
       "output_type": "stream",
       "stream": "stdout",
       "text": [
        "\r",
        " [*****                 10%                       ]  14 of 147 complete"
       ]
      },
      {
       "output_type": "stream",
       "stream": "stdout",
       "text": [
        "\r",
        " [*****                 10%                       ]  15 of 147 complete"
       ]
      },
      {
       "output_type": "stream",
       "stream": "stdout",
       "text": [
        "\r",
        " [*****                 11%                       ]  16 of 147 complete"
       ]
      },
      {
       "output_type": "stream",
       "stream": "stdout",
       "text": [
        "\r",
        " [******                12%                       ]  17 of 147 complete"
       ]
      },
      {
       "output_type": "stream",
       "stream": "stdout",
       "text": [
        "\r",
        " [******                12%                       ]  18 of 147 complete"
       ]
      },
      {
       "output_type": "stream",
       "stream": "stdout",
       "text": [
        "\r",
        " [******                13%                       ]  19 of 147 complete"
       ]
      },
      {
       "output_type": "stream",
       "stream": "stdout",
       "text": [
        "\r",
        " [*******               14%                       ]  20 of 147 complete"
       ]
      },
      {
       "output_type": "stream",
       "stream": "stdout",
       "text": [
        "\r",
        " [*******               14%                       ]  21 of 147 complete"
       ]
      },
      {
       "output_type": "stream",
       "stream": "stdout",
       "text": [
        "\r",
        " [*******               15%                       ]  22 of 147 complete"
       ]
      },
      {
       "output_type": "stream",
       "stream": "stdout",
       "text": [
        "\r",
        " [********              16%                       ]  23 of 147 complete"
       ]
      },
      {
       "output_type": "stream",
       "stream": "stdout",
       "text": [
        "\r",
        " [********              16%                       ]  24 of 147 complete"
       ]
      },
      {
       "output_type": "stream",
       "stream": "stdout",
       "text": [
        "\r",
        " [********              17%                       ]  25 of 147 complete"
       ]
      },
      {
       "output_type": "stream",
       "stream": "stdout",
       "text": [
        "\r",
        " [*********             18%                       ]  26 of 147 complete"
       ]
      },
      {
       "output_type": "stream",
       "stream": "stdout",
       "text": [
        "\r",
        " [*********             18%                       ]  27 of 147 complete"
       ]
      },
      {
       "output_type": "stream",
       "stream": "stdout",
       "text": [
        "\r",
        " [*********             19%                       ]  28 of 147 complete"
       ]
      },
      {
       "output_type": "stream",
       "stream": "stdout",
       "text": [
        "\r",
        " [**********            20%                       ]  29 of 147 complete"
       ]
      },
      {
       "output_type": "stream",
       "stream": "stdout",
       "text": [
        "\r",
        " [**********            20%                       ]  30 of 147 complete"
       ]
      },
      {
       "output_type": "stream",
       "stream": "stdout",
       "text": [
        "\r",
        " [**********            21%                       ]  31 of 147 complete"
       ]
      },
      {
       "output_type": "stream",
       "stream": "stdout",
       "text": [
        "\r",
        " [***********           22%                       ]  32 of 147 complete"
       ]
      },
      {
       "output_type": "stream",
       "stream": "stdout",
       "text": [
        "\r",
        " [***********           22%                       ]  33 of 147 complete"
       ]
      },
      {
       "output_type": "stream",
       "stream": "stdout",
       "text": [
        "\r",
        " [***********           23%                       ]  34 of 147 complete"
       ]
      },
      {
       "output_type": "stream",
       "stream": "stdout",
       "text": [
        "\r",
        " [************          24%                       ]  35 of 147 complete"
       ]
      },
      {
       "output_type": "stream",
       "stream": "stdout",
       "text": [
        "\r",
        " [************          24%                       ]  36 of 147 complete"
       ]
      },
      {
       "output_type": "stream",
       "stream": "stdout",
       "text": [
        "\r",
        " [************          25%                       ]  37 of 147 complete"
       ]
      },
      {
       "output_type": "stream",
       "stream": "stdout",
       "text": [
        "\r",
        " [************          26%                       ]  38 of 147 complete"
       ]
      },
      {
       "output_type": "stream",
       "stream": "stdout",
       "text": [
        "\r",
        " [*************         27%                       ]  39 of 147 complete"
       ]
      },
      {
       "output_type": "stream",
       "stream": "stdout",
       "text": [
        "\r",
        " [*************         27%                       ]  40 of 147 complete"
       ]
      },
      {
       "output_type": "stream",
       "stream": "stdout",
       "text": [
        "\r",
        " [*************         28%                       ]  41 of 147 complete"
       ]
      },
      {
       "output_type": "stream",
       "stream": "stdout",
       "text": [
        "\r",
        " [**************        29%                       ]  42 of 147 complete"
       ]
      },
      {
       "output_type": "stream",
       "stream": "stdout",
       "text": [
        "\r",
        " [**************        29%                       ]  43 of 147 complete"
       ]
      },
      {
       "output_type": "stream",
       "stream": "stdout",
       "text": [
        "\r",
        " [**************        30%                       ]  44 of 147 complete"
       ]
      },
      {
       "output_type": "stream",
       "stream": "stdout",
       "text": [
        "\r",
        " [***************       31%                       ]  45 of 147 complete"
       ]
      },
      {
       "output_type": "stream",
       "stream": "stdout",
       "text": [
        "\r",
        " [***************       31%                       ]  46 of 147 complete"
       ]
      },
      {
       "output_type": "stream",
       "stream": "stdout",
       "text": [
        "\r",
        " [***************       32%                       ]  47 of 147 complete"
       ]
      },
      {
       "output_type": "stream",
       "stream": "stdout",
       "text": [
        "\r",
        " [****************      33%                       ]  48 of 147 complete"
       ]
      },
      {
       "output_type": "stream",
       "stream": "stdout",
       "text": [
        "\r",
        " [****************      33%                       ]  49 of 147 complete"
       ]
      },
      {
       "output_type": "stream",
       "stream": "stdout",
       "text": [
        "\r",
        " [****************      34%                       ]  50 of 147 complete"
       ]
      },
      {
       "output_type": "stream",
       "stream": "stdout",
       "text": [
        "\r",
        " [*****************     35%                       ]  51 of 147 complete"
       ]
      },
      {
       "output_type": "stream",
       "stream": "stdout",
       "text": [
        "\r",
        " [*****************     35%                       ]  52 of 147 complete"
       ]
      },
      {
       "output_type": "stream",
       "stream": "stdout",
       "text": [
        "\r",
        " [*****************     36%                       ]  53 of 147 complete"
       ]
      },
      {
       "output_type": "stream",
       "stream": "stdout",
       "text": [
        "\r",
        " [******************    37%                       ]  54 of 147 complete"
       ]
      },
      {
       "output_type": "stream",
       "stream": "stdout",
       "text": [
        "\r",
        " [******************    37%                       ]  55 of 147 complete"
       ]
      },
      {
       "output_type": "stream",
       "stream": "stdout",
       "text": [
        "\r",
        " [******************    38%                       ]  56 of 147 complete"
       ]
      },
      {
       "output_type": "stream",
       "stream": "stdout",
       "text": [
        "\r",
        " [*******************   39%                       ]  57 of 147 complete"
       ]
      },
      {
       "output_type": "stream",
       "stream": "stdout",
       "text": [
        "\r",
        " [*******************   39%                       ]  58 of 147 complete"
       ]
      },
      {
       "output_type": "stream",
       "stream": "stdout",
       "text": [
        "\r",
        " [*******************   40%                       ]  59 of 147 complete"
       ]
      },
      {
       "output_type": "stream",
       "stream": "stdout",
       "text": [
        "\r",
        " [********************  41%                       ]  60 of 147 complete"
       ]
      },
      {
       "output_type": "stream",
       "stream": "stdout",
       "text": [
        "\r",
        " [********************  41%                       ]  61 of 147 complete"
       ]
      },
      {
       "output_type": "stream",
       "stream": "stdout",
       "text": [
        "\r",
        " [********************  42%                       ]  62 of 147 complete"
       ]
      },
      {
       "output_type": "stream",
       "stream": "stdout",
       "text": [
        "\r",
        " [********************* 43%                       ]  63 of 147 complete"
       ]
      },
      {
       "output_type": "stream",
       "stream": "stdout",
       "text": [
        "\r",
        " [********************* 44%                       ]  64 of 147 complete"
       ]
      },
      {
       "output_type": "stream",
       "stream": "stdout",
       "text": [
        "\r",
        " [********************* 44%                       ]  65 of 147 complete"
       ]
      },
      {
       "output_type": "stream",
       "stream": "stdout",
       "text": [
        "\r",
        " [**********************45%                       ]  66 of 147 complete"
       ]
      },
      {
       "output_type": "stream",
       "stream": "stdout",
       "text": [
        "\r",
        " [**********************46%                       ]  67 of 147 complete"
       ]
      },
      {
       "output_type": "stream",
       "stream": "stdout",
       "text": [
        "\r",
        " [**********************46%                       ]  68 of 147 complete"
       ]
      },
      {
       "output_type": "stream",
       "stream": "stdout",
       "text": [
        "\r",
        " [**********************47%                       ]  69 of 147 complete"
       ]
      },
      {
       "output_type": "stream",
       "stream": "stdout",
       "text": [
        "\r",
        " [**********************48%                       ]  70 of 147 complete"
       ]
      },
      {
       "output_type": "stream",
       "stream": "stdout",
       "text": [
        "\r",
        " [**********************48%                       ]  71 of 147 complete"
       ]
      },
      {
       "output_type": "stream",
       "stream": "stdout",
       "text": [
        "\r",
        " [**********************49%                       ]  72 of 147 complete"
       ]
      },
      {
       "output_type": "stream",
       "stream": "stdout",
       "text": [
        "\r",
        " [**********************50%                       ]  73 of 147 complete"
       ]
      },
      {
       "output_type": "stream",
       "stream": "stdout",
       "text": [
        "\r",
        " [**********************50%                       ]  74 of 147 complete"
       ]
      },
      {
       "output_type": "stream",
       "stream": "stdout",
       "text": [
        "\r",
        " [**********************51%                       ]  75 of 147 complete"
       ]
      },
      {
       "output_type": "stream",
       "stream": "stdout",
       "text": [
        "\r",
        " [**********************52%                       ]  76 of 147 complete"
       ]
      },
      {
       "output_type": "stream",
       "stream": "stdout",
       "text": [
        "\r",
        " [**********************52%                       ]  77 of 147 complete"
       ]
      },
      {
       "output_type": "stream",
       "stream": "stdout",
       "text": [
        "\r",
        " [**********************53%                       ]  78 of 147 complete"
       ]
      },
      {
       "output_type": "stream",
       "stream": "stdout",
       "text": [
        "\r",
        " [**********************54%*                      ]  79 of 147 complete"
       ]
      },
      {
       "output_type": "stream",
       "stream": "stdout",
       "text": [
        "\r",
        " [**********************54%*                      ]  80 of 147 complete"
       ]
      },
      {
       "output_type": "stream",
       "stream": "stdout",
       "text": [
        "\r",
        " [**********************55%*                      ]  81 of 147 complete"
       ]
      },
      {
       "output_type": "stream",
       "stream": "stdout",
       "text": [
        "\r",
        " [**********************56%**                     ]  82 of 147 complete"
       ]
      },
      {
       "output_type": "stream",
       "stream": "stdout",
       "text": [
        "\r",
        " [**********************56%**                     ]  83 of 147 complete"
       ]
      },
      {
       "output_type": "stream",
       "stream": "stdout",
       "text": [
        "\r",
        " [**********************57%**                     ]  84 of 147 complete"
       ]
      },
      {
       "output_type": "stream",
       "stream": "stdout",
       "text": [
        "\r",
        " [**********************58%***                    ]  85 of 147 complete"
       ]
      },
      {
       "output_type": "stream",
       "stream": "stdout",
       "text": [
        "\r",
        " [**********************59%***                    ]  86 of 147 complete"
       ]
      },
      {
       "output_type": "stream",
       "stream": "stdout",
       "text": [
        "\r",
        " [**********************59%***                    ]  87 of 147 complete"
       ]
      },
      {
       "output_type": "stream",
       "stream": "stdout",
       "text": [
        "\r",
        " [**********************60%****                   ]  88 of 147 complete"
       ]
      },
      {
       "output_type": "stream",
       "stream": "stdout",
       "text": [
        "\r",
        " [**********************61%****                   ]  89 of 147 complete"
       ]
      },
      {
       "output_type": "stream",
       "stream": "stdout",
       "text": [
        "\r",
        " [**********************61%****                   ]  90 of 147 complete"
       ]
      },
      {
       "output_type": "stream",
       "stream": "stdout",
       "text": [
        "\r",
        " [**********************62%*****                  ]  91 of 147 complete"
       ]
      },
      {
       "output_type": "stream",
       "stream": "stdout",
       "text": [
        "\r",
        " [**********************63%*****                  ]  92 of 147 complete"
       ]
      },
      {
       "output_type": "stream",
       "stream": "stdout",
       "text": [
        "\r",
        " [**********************63%*****                  ]  93 of 147 complete"
       ]
      },
      {
       "output_type": "stream",
       "stream": "stdout",
       "text": [
        "\r",
        " [**********************64%******                 ]  94 of 147 complete"
       ]
      },
      {
       "output_type": "stream",
       "stream": "stdout",
       "text": [
        "\r",
        " [**********************65%******                 ]  95 of 147 complete"
       ]
      },
      {
       "output_type": "stream",
       "stream": "stdout",
       "text": [
        "\r",
        " [**********************65%******                 ]  96 of 147 complete"
       ]
      },
      {
       "output_type": "stream",
       "stream": "stdout",
       "text": [
        "\r",
        " [**********************66%*******                ]  97 of 147 complete"
       ]
      },
      {
       "output_type": "stream",
       "stream": "stdout",
       "text": [
        "\r",
        " [**********************67%*******                ]  98 of 147 complete"
       ]
      },
      {
       "output_type": "stream",
       "stream": "stdout",
       "text": [
        "\r",
        " [**********************67%*******                ]  99 of 147 complete"
       ]
      },
      {
       "output_type": "stream",
       "stream": "stdout",
       "text": [
        "\r",
        " [**********************68%********               ]  100 of 147 complete"
       ]
      },
      {
       "output_type": "stream",
       "stream": "stdout",
       "text": [
        "\r",
        " [**********************69%********               ]  101 of 147 complete"
       ]
      },
      {
       "output_type": "stream",
       "stream": "stdout",
       "text": [
        "\r",
        " [**********************69%********               ]  102 of 147 complete"
       ]
      },
      {
       "output_type": "stream",
       "stream": "stdout",
       "text": [
        "\r",
        " [**********************70%*********              ]  103 of 147 complete"
       ]
      },
      {
       "output_type": "stream",
       "stream": "stdout",
       "text": [
        "\r",
        " [**********************71%*********              ]  104 of 147 complete"
       ]
      },
      {
       "output_type": "stream",
       "stream": "stdout",
       "text": [
        "\r",
        " [**********************71%*********              ]  105 of 147 complete"
       ]
      },
      {
       "output_type": "stream",
       "stream": "stdout",
       "text": [
        "\r",
        " [**********************72%**********             ]  106 of 147 complete"
       ]
      },
      {
       "output_type": "stream",
       "stream": "stdout",
       "text": [
        "\r",
        " [**********************73%**********             ]  107 of 147 complete"
       ]
      },
      {
       "output_type": "stream",
       "stream": "stdout",
       "text": [
        "\r",
        " [**********************73%**********             ]  108 of 147 complete"
       ]
      },
      {
       "output_type": "stream",
       "stream": "stdout",
       "text": [
        "\r",
        " [**********************74%***********            ]  109 of 147 complete"
       ]
      },
      {
       "output_type": "stream",
       "stream": "stdout",
       "text": [
        "\r",
        " [**********************75%***********            ]  110 of 147 complete"
       ]
      },
      {
       "output_type": "stream",
       "stream": "stdout",
       "text": [
        "\r",
        " [**********************76%***********            ]  111 of 147 complete"
       ]
      },
      {
       "output_type": "stream",
       "stream": "stdout",
       "text": [
        "\r",
        " [**********************76%***********            ]  112 of 147 complete"
       ]
      },
      {
       "output_type": "stream",
       "stream": "stdout",
       "text": [
        "\r",
        " [**********************77%************           ]  113 of 147 complete"
       ]
      },
      {
       "output_type": "stream",
       "stream": "stdout",
       "text": [
        "\r",
        " [**********************78%************           ]  114 of 147 complete"
       ]
      },
      {
       "output_type": "stream",
       "stream": "stdout",
       "text": [
        "\r",
        " [**********************78%************           ]  115 of 147 complete"
       ]
      },
      {
       "output_type": "stream",
       "stream": "stdout",
       "text": [
        "\r",
        " [**********************79%*************          ]  116 of 147 complete"
       ]
      },
      {
       "output_type": "stream",
       "stream": "stdout",
       "text": [
        "\r",
        " [**********************80%*************          ]  117 of 147 complete"
       ]
      },
      {
       "output_type": "stream",
       "stream": "stdout",
       "text": [
        "\r",
        " [**********************80%*************          ]  118 of 147 complete"
       ]
      },
      {
       "output_type": "stream",
       "stream": "stdout",
       "text": [
        "\r",
        " [**********************81%**************         ]  119 of 147 complete"
       ]
      },
      {
       "output_type": "stream",
       "stream": "stdout",
       "text": [
        "\r",
        " [**********************82%**************         ]  120 of 147 complete"
       ]
      },
      {
       "output_type": "stream",
       "stream": "stdout",
       "text": [
        "\r",
        " [**********************82%**************         ]  121 of 147 complete"
       ]
      },
      {
       "output_type": "stream",
       "stream": "stdout",
       "text": [
        "\r",
        " [**********************83%***************        ]  122 of 147 complete"
       ]
      },
      {
       "output_type": "stream",
       "stream": "stdout",
       "text": [
        "\r",
        " [**********************84%***************        ]  123 of 147 complete"
       ]
      },
      {
       "output_type": "stream",
       "stream": "stdout",
       "text": [
        "\r",
        " [**********************84%***************        ]  124 of 147 complete"
       ]
      },
      {
       "output_type": "stream",
       "stream": "stdout",
       "text": [
        "\r",
        " [**********************85%****************       ]  125 of 147 complete"
       ]
      },
      {
       "output_type": "stream",
       "stream": "stdout",
       "text": [
        "\r",
        " [**********************86%****************       ]  126 of 147 complete"
       ]
      },
      {
       "output_type": "stream",
       "stream": "stdout",
       "text": [
        "\r",
        " [**********************86%****************       ]  127 of 147 complete"
       ]
      },
      {
       "output_type": "stream",
       "stream": "stdout",
       "text": [
        "\r",
        " [**********************87%*****************      ]  128 of 147 complete"
       ]
      },
      {
       "output_type": "stream",
       "stream": "stdout",
       "text": [
        "\r",
        " [**********************88%*****************      ]  129 of 147 complete"
       ]
      },
      {
       "output_type": "stream",
       "stream": "stdout",
       "text": [
        "\r",
        " [**********************88%*****************      ]  130 of 147 complete"
       ]
      },
      {
       "output_type": "stream",
       "stream": "stdout",
       "text": [
        "\r",
        " [**********************89%******************     ]  131 of 147 complete"
       ]
      },
      {
       "output_type": "stream",
       "stream": "stdout",
       "text": [
        "\r",
        " [**********************90%******************     ]  132 of 147 complete"
       ]
      },
      {
       "output_type": "stream",
       "stream": "stdout",
       "text": [
        "\r",
        " [**********************90%******************     ]  133 of 147 complete"
       ]
      },
      {
       "output_type": "stream",
       "stream": "stdout",
       "text": [
        "\r",
        " [**********************91%*******************    ]  134 of 147 complete"
       ]
      },
      {
       "output_type": "stream",
       "stream": "stdout",
       "text": [
        "\r",
        " [**********************92%*******************    ]  135 of 147 complete"
       ]
      },
      {
       "output_type": "stream",
       "stream": "stdout",
       "text": [
        "\r",
        " [**********************93%********************   ]  136 of 147 complete"
       ]
      },
      {
       "output_type": "stream",
       "stream": "stdout",
       "text": [
        "\r",
        " [**********************93%********************   ]  137 of 147 complete"
       ]
      },
      {
       "output_type": "stream",
       "stream": "stdout",
       "text": [
        "\r",
        " [**********************94%********************   ]  138 of 147 complete"
       ]
      },
      {
       "output_type": "stream",
       "stream": "stdout",
       "text": [
        "\r",
        " [**********************95%*********************  ]  139 of 147 complete"
       ]
      },
      {
       "output_type": "stream",
       "stream": "stdout",
       "text": [
        "\r",
        " [**********************95%*********************  ]  140 of 147 complete"
       ]
      },
      {
       "output_type": "stream",
       "stream": "stdout",
       "text": [
        "\r",
        " [**********************96%*********************  ]  141 of 147 complete"
       ]
      },
      {
       "output_type": "stream",
       "stream": "stdout",
       "text": [
        "\r",
        " [**********************97%********************** ]  142 of 147 complete"
       ]
      },
      {
       "output_type": "stream",
       "stream": "stdout",
       "text": [
        "\r",
        " [**********************97%********************** ]  143 of 147 complete"
       ]
      },
      {
       "output_type": "stream",
       "stream": "stdout",
       "text": [
        "\r",
        " [**********************98%********************** ]  144 of 147 complete"
       ]
      },
      {
       "output_type": "stream",
       "stream": "stdout",
       "text": [
        "\r",
        " [**********************99%***********************]  145 of 147 complete"
       ]
      },
      {
       "output_type": "stream",
       "stream": "stdout",
       "text": [
        "\r",
        " [**********************99%***********************]  146 of 147 complete"
       ]
      },
      {
       "output_type": "stream",
       "stream": "stdout",
       "text": [
        "\r",
        " [*********************100%***********************]  147 of 147 complete"
       ]
      },
      {
       "output_type": "stream",
       "stream": "stdout",
       "text": [
        "\r",
        " [                       0%                       ]"
       ]
      },
      {
       "output_type": "stream",
       "stream": "stdout",
       "text": [
        "\r",
        " [                       1%                       ]  2 of 147 complete"
       ]
      },
      {
       "output_type": "stream",
       "stream": "stdout",
       "text": [
        "\r",
        " [*                      2%                       ]  3 of 147 complete"
       ]
      },
      {
       "output_type": "stream",
       "stream": "stdout",
       "text": [
        "\r",
        " [*                      3%                       ]  4 of 147 complete"
       ]
      },
      {
       "output_type": "stream",
       "stream": "stdout",
       "text": [
        "\r",
        " [*                      3%                       ]  5 of 147 complete"
       ]
      },
      {
       "output_type": "stream",
       "stream": "stdout",
       "text": [
        "\r",
        " [**                     4%                       ]  6 of 147 complete"
       ]
      },
      {
       "output_type": "stream",
       "stream": "stdout",
       "text": [
        "\r",
        " [**                     5%                       ]  7 of 147 complete"
       ]
      },
      {
       "output_type": "stream",
       "stream": "stdout",
       "text": [
        "\r",
        " [**                     5%                       ]  8 of 147 complete"
       ]
      },
      {
       "output_type": "stream",
       "stream": "stdout",
       "text": [
        "\r",
        " [***                    6%                       ]  9 of 147 complete"
       ]
      },
      {
       "output_type": "stream",
       "stream": "stdout",
       "text": [
        "\r",
        " [***                    7%                       ]  10 of 147 complete"
       ]
      },
      {
       "output_type": "stream",
       "stream": "stdout",
       "text": [
        "\r",
        " [***                    7%                       ]  11 of 147 complete"
       ]
      },
      {
       "output_type": "stream",
       "stream": "stdout",
       "text": [
        "\r",
        " [****                   8%                       ]  12 of 147 complete"
       ]
      },
      {
       "output_type": "stream",
       "stream": "stdout",
       "text": [
        "\r",
        " [****                   9%                       ]  13 of 147 complete"
       ]
      },
      {
       "output_type": "stream",
       "stream": "stdout",
       "text": [
        "\r",
        " [*****                 10%                       ]  14 of 147 complete"
       ]
      },
      {
       "output_type": "stream",
       "stream": "stdout",
       "text": [
        "\r",
        " [*****                 10%                       ]  15 of 147 complete"
       ]
      },
      {
       "output_type": "stream",
       "stream": "stdout",
       "text": [
        "\r",
        " [*****                 11%                       ]  16 of 147 complete"
       ]
      },
      {
       "output_type": "stream",
       "stream": "stdout",
       "text": [
        "\r",
        " [******                12%                       ]  17 of 147 complete"
       ]
      },
      {
       "output_type": "stream",
       "stream": "stdout",
       "text": [
        "\r",
        " [******                12%                       ]  18 of 147 complete"
       ]
      },
      {
       "output_type": "stream",
       "stream": "stdout",
       "text": [
        "\r",
        " [******                13%                       ]  19 of 147 complete"
       ]
      },
      {
       "output_type": "stream",
       "stream": "stdout",
       "text": [
        "\r",
        " [*******               14%                       ]  20 of 147 complete"
       ]
      },
      {
       "output_type": "stream",
       "stream": "stdout",
       "text": [
        "\r",
        " [*******               14%                       ]  21 of 147 complete"
       ]
      },
      {
       "output_type": "stream",
       "stream": "stdout",
       "text": [
        "\r",
        " [*******               15%                       ]  22 of 147 complete"
       ]
      },
      {
       "output_type": "stream",
       "stream": "stdout",
       "text": [
        "\r",
        " [********              16%                       ]  23 of 147 complete"
       ]
      },
      {
       "output_type": "stream",
       "stream": "stdout",
       "text": [
        "\r",
        " [********              16%                       ]  24 of 147 complete"
       ]
      },
      {
       "output_type": "stream",
       "stream": "stdout",
       "text": [
        "\r",
        " [********              17%                       ]  25 of 147 complete"
       ]
      },
      {
       "output_type": "stream",
       "stream": "stdout",
       "text": [
        "\r",
        " [*********             18%                       ]  26 of 147 complete"
       ]
      },
      {
       "output_type": "stream",
       "stream": "stdout",
       "text": [
        "\r",
        " [*********             18%                       ]  27 of 147 complete"
       ]
      },
      {
       "output_type": "stream",
       "stream": "stdout",
       "text": [
        "\r",
        " [*********             19%                       ]  28 of 147 complete"
       ]
      },
      {
       "output_type": "stream",
       "stream": "stdout",
       "text": [
        "\r",
        " [**********            20%                       ]  29 of 147 complete"
       ]
      },
      {
       "output_type": "stream",
       "stream": "stdout",
       "text": [
        "\r",
        " [**********            20%                       ]  30 of 147 complete"
       ]
      },
      {
       "output_type": "stream",
       "stream": "stdout",
       "text": [
        "\r",
        " [**********            21%                       ]  31 of 147 complete"
       ]
      },
      {
       "output_type": "stream",
       "stream": "stdout",
       "text": [
        "\r",
        " [***********           22%                       ]  32 of 147 complete"
       ]
      },
      {
       "output_type": "stream",
       "stream": "stdout",
       "text": [
        "\r",
        " [***********           22%                       ]  33 of 147 complete"
       ]
      },
      {
       "output_type": "stream",
       "stream": "stdout",
       "text": [
        "\r",
        " [***********           23%                       ]  34 of 147 complete"
       ]
      },
      {
       "output_type": "stream",
       "stream": "stdout",
       "text": [
        "\r",
        " [************          24%                       ]  35 of 147 complete"
       ]
      },
      {
       "output_type": "stream",
       "stream": "stdout",
       "text": [
        "\r",
        " [************          24%                       ]  36 of 147 complete"
       ]
      },
      {
       "output_type": "stream",
       "stream": "stdout",
       "text": [
        "\r",
        " [************          25%                       ]  37 of 147 complete"
       ]
      },
      {
       "output_type": "stream",
       "stream": "stdout",
       "text": [
        "\r",
        " [************          26%                       ]  38 of 147 complete"
       ]
      },
      {
       "output_type": "stream",
       "stream": "stdout",
       "text": [
        "\r",
        " [*************         27%                       ]  39 of 147 complete"
       ]
      },
      {
       "output_type": "stream",
       "stream": "stdout",
       "text": [
        "\r",
        " [*************         27%                       ]  40 of 147 complete"
       ]
      },
      {
       "output_type": "stream",
       "stream": "stdout",
       "text": [
        "\r",
        " [*************         28%                       ]  41 of 147 complete"
       ]
      },
      {
       "output_type": "stream",
       "stream": "stdout",
       "text": [
        "\r",
        " [**************        29%                       ]  42 of 147 complete"
       ]
      },
      {
       "output_type": "stream",
       "stream": "stdout",
       "text": [
        "\r",
        " [**************        29%                       ]  43 of 147 complete"
       ]
      },
      {
       "output_type": "stream",
       "stream": "stdout",
       "text": [
        "\r",
        " [**************        30%                       ]  44 of 147 complete"
       ]
      },
      {
       "output_type": "stream",
       "stream": "stdout",
       "text": [
        "\r",
        " [***************       31%                       ]  45 of 147 complete"
       ]
      },
      {
       "output_type": "stream",
       "stream": "stdout",
       "text": [
        "\r",
        " [***************       31%                       ]  46 of 147 complete"
       ]
      },
      {
       "output_type": "stream",
       "stream": "stdout",
       "text": [
        "\r",
        " [***************       32%                       ]  47 of 147 complete"
       ]
      },
      {
       "output_type": "stream",
       "stream": "stdout",
       "text": [
        "\r",
        " [****************      33%                       ]  48 of 147 complete"
       ]
      },
      {
       "output_type": "stream",
       "stream": "stdout",
       "text": [
        "\r",
        " [****************      33%                       ]  49 of 147 complete"
       ]
      },
      {
       "output_type": "stream",
       "stream": "stdout",
       "text": [
        "\r",
        " [****************      34%                       ]  50 of 147 complete"
       ]
      },
      {
       "output_type": "stream",
       "stream": "stdout",
       "text": [
        "\r",
        " [*****************     35%                       ]  51 of 147 complete"
       ]
      },
      {
       "output_type": "stream",
       "stream": "stdout",
       "text": [
        "\r",
        " [*****************     35%                       ]  52 of 147 complete"
       ]
      },
      {
       "output_type": "stream",
       "stream": "stdout",
       "text": [
        "\r",
        " [*****************     36%                       ]  53 of 147 complete"
       ]
      },
      {
       "output_type": "stream",
       "stream": "stdout",
       "text": [
        "\r",
        " [******************    37%                       ]  54 of 147 complete"
       ]
      },
      {
       "output_type": "stream",
       "stream": "stdout",
       "text": [
        "\r",
        " [******************    37%                       ]  55 of 147 complete"
       ]
      },
      {
       "output_type": "stream",
       "stream": "stdout",
       "text": [
        "\r",
        " [******************    38%                       ]  56 of 147 complete"
       ]
      },
      {
       "output_type": "stream",
       "stream": "stdout",
       "text": [
        "\r",
        " [*******************   39%                       ]  57 of 147 complete"
       ]
      },
      {
       "output_type": "stream",
       "stream": "stdout",
       "text": [
        "\r",
        " [*******************   39%                       ]  58 of 147 complete"
       ]
      },
      {
       "output_type": "stream",
       "stream": "stdout",
       "text": [
        "\r",
        " [*******************   40%                       ]  59 of 147 complete"
       ]
      },
      {
       "output_type": "stream",
       "stream": "stdout",
       "text": [
        "\r",
        " [********************  41%                       ]  60 of 147 complete"
       ]
      },
      {
       "output_type": "stream",
       "stream": "stdout",
       "text": [
        "\r",
        " [********************  41%                       ]  61 of 147 complete"
       ]
      },
      {
       "output_type": "stream",
       "stream": "stdout",
       "text": [
        "\r",
        " [********************  42%                       ]  62 of 147 complete"
       ]
      },
      {
       "output_type": "stream",
       "stream": "stdout",
       "text": [
        "\r",
        " [********************* 43%                       ]  63 of 147 complete"
       ]
      },
      {
       "output_type": "stream",
       "stream": "stdout",
       "text": [
        "\r",
        " [********************* 44%                       ]  64 of 147 complete"
       ]
      },
      {
       "output_type": "stream",
       "stream": "stdout",
       "text": [
        "\r",
        " [********************* 44%                       ]  65 of 147 complete"
       ]
      },
      {
       "output_type": "stream",
       "stream": "stdout",
       "text": [
        "\r",
        " [**********************45%                       ]  66 of 147 complete"
       ]
      },
      {
       "output_type": "stream",
       "stream": "stdout",
       "text": [
        "\r",
        " [**********************46%                       ]  67 of 147 complete"
       ]
      },
      {
       "output_type": "stream",
       "stream": "stdout",
       "text": [
        "\r",
        " [**********************46%                       ]  68 of 147 complete"
       ]
      },
      {
       "output_type": "stream",
       "stream": "stdout",
       "text": [
        "\r",
        " [**********************47%                       ]  69 of 147 complete"
       ]
      },
      {
       "output_type": "stream",
       "stream": "stdout",
       "text": [
        "\r",
        " [**********************48%                       ]  70 of 147 complete"
       ]
      },
      {
       "output_type": "stream",
       "stream": "stdout",
       "text": [
        "\r",
        " [**********************48%                       ]  71 of 147 complete"
       ]
      },
      {
       "output_type": "stream",
       "stream": "stdout",
       "text": [
        "\r",
        " [**********************49%                       ]  72 of 147 complete"
       ]
      },
      {
       "output_type": "stream",
       "stream": "stdout",
       "text": [
        "\r",
        " [**********************50%                       ]  73 of 147 complete"
       ]
      },
      {
       "output_type": "stream",
       "stream": "stdout",
       "text": [
        "\r",
        " [**********************50%                       ]  74 of 147 complete"
       ]
      },
      {
       "output_type": "stream",
       "stream": "stdout",
       "text": [
        "\r",
        " [**********************51%                       ]  75 of 147 complete"
       ]
      },
      {
       "output_type": "stream",
       "stream": "stdout",
       "text": [
        "\r",
        " [**********************52%                       ]  76 of 147 complete"
       ]
      },
      {
       "output_type": "stream",
       "stream": "stdout",
       "text": [
        "\r",
        " [**********************52%                       ]  77 of 147 complete"
       ]
      },
      {
       "output_type": "stream",
       "stream": "stdout",
       "text": [
        "\r",
        " [**********************53%                       ]  78 of 147 complete"
       ]
      },
      {
       "output_type": "stream",
       "stream": "stdout",
       "text": [
        "\r",
        " [**********************54%*                      ]  79 of 147 complete"
       ]
      },
      {
       "output_type": "stream",
       "stream": "stdout",
       "text": [
        "\r",
        " [**********************54%*                      ]  80 of 147 complete"
       ]
      },
      {
       "output_type": "stream",
       "stream": "stdout",
       "text": [
        "\r",
        " [**********************55%*                      ]  81 of 147 complete"
       ]
      },
      {
       "output_type": "stream",
       "stream": "stdout",
       "text": [
        "\r",
        " [**********************56%**                     ]  82 of 147 complete"
       ]
      },
      {
       "output_type": "stream",
       "stream": "stdout",
       "text": [
        "\r",
        " [**********************56%**                     ]  83 of 147 complete"
       ]
      },
      {
       "output_type": "stream",
       "stream": "stdout",
       "text": [
        "\r",
        " [**********************57%**                     ]  84 of 147 complete"
       ]
      },
      {
       "output_type": "stream",
       "stream": "stdout",
       "text": [
        "\r",
        " [**********************58%***                    ]  85 of 147 complete"
       ]
      },
      {
       "output_type": "stream",
       "stream": "stdout",
       "text": [
        "\r",
        " [**********************59%***                    ]  86 of 147 complete"
       ]
      },
      {
       "output_type": "stream",
       "stream": "stdout",
       "text": [
        "\r",
        " [**********************59%***                    ]  87 of 147 complete"
       ]
      },
      {
       "output_type": "stream",
       "stream": "stdout",
       "text": [
        "\r",
        " [**********************60%****                   ]  88 of 147 complete"
       ]
      },
      {
       "output_type": "stream",
       "stream": "stdout",
       "text": [
        "\r",
        " [**********************61%****                   ]  89 of 147 complete"
       ]
      },
      {
       "output_type": "stream",
       "stream": "stdout",
       "text": [
        "\r",
        " [**********************61%****                   ]  90 of 147 complete"
       ]
      },
      {
       "output_type": "stream",
       "stream": "stdout",
       "text": [
        "\r",
        " [**********************62%*****                  ]  91 of 147 complete"
       ]
      },
      {
       "output_type": "stream",
       "stream": "stdout",
       "text": [
        "\r",
        " [**********************63%*****                  ]  92 of 147 complete"
       ]
      },
      {
       "output_type": "stream",
       "stream": "stdout",
       "text": [
        "\r",
        " [**********************63%*****                  ]  93 of 147 complete"
       ]
      },
      {
       "output_type": "stream",
       "stream": "stdout",
       "text": [
        "\r",
        " [**********************64%******                 ]  94 of 147 complete"
       ]
      },
      {
       "output_type": "stream",
       "stream": "stdout",
       "text": [
        "\r",
        " [**********************65%******                 ]  95 of 147 complete"
       ]
      },
      {
       "output_type": "stream",
       "stream": "stdout",
       "text": [
        "\r",
        " [**********************65%******                 ]  96 of 147 complete"
       ]
      },
      {
       "output_type": "stream",
       "stream": "stdout",
       "text": [
        "\r",
        " [**********************66%*******                ]  97 of 147 complete"
       ]
      },
      {
       "output_type": "stream",
       "stream": "stdout",
       "text": [
        "\r",
        " [**********************67%*******                ]  98 of 147 complete"
       ]
      },
      {
       "output_type": "stream",
       "stream": "stdout",
       "text": [
        "\r",
        " [**********************67%*******                ]  99 of 147 complete"
       ]
      },
      {
       "output_type": "stream",
       "stream": "stdout",
       "text": [
        "\r",
        " [**********************68%********               ]  100 of 147 complete"
       ]
      },
      {
       "output_type": "stream",
       "stream": "stdout",
       "text": [
        "\r",
        " [**********************69%********               ]  101 of 147 complete"
       ]
      },
      {
       "output_type": "stream",
       "stream": "stdout",
       "text": [
        "\r",
        " [**********************69%********               ]  102 of 147 complete"
       ]
      },
      {
       "output_type": "stream",
       "stream": "stdout",
       "text": [
        "\r",
        " [**********************70%*********              ]  103 of 147 complete"
       ]
      },
      {
       "output_type": "stream",
       "stream": "stdout",
       "text": [
        "\r",
        " [**********************71%*********              ]  104 of 147 complete"
       ]
      },
      {
       "output_type": "stream",
       "stream": "stdout",
       "text": [
        "\r",
        " [**********************71%*********              ]  105 of 147 complete"
       ]
      },
      {
       "output_type": "stream",
       "stream": "stdout",
       "text": [
        "\r",
        " [**********************72%**********             ]  106 of 147 complete"
       ]
      },
      {
       "output_type": "stream",
       "stream": "stdout",
       "text": [
        "\r",
        " [**********************73%**********             ]  107 of 147 complete"
       ]
      },
      {
       "output_type": "stream",
       "stream": "stdout",
       "text": [
        "\r",
        " [**********************73%**********             ]  108 of 147 complete"
       ]
      },
      {
       "output_type": "stream",
       "stream": "stdout",
       "text": [
        "\r",
        " [**********************74%***********            ]  109 of 147 complete"
       ]
      },
      {
       "output_type": "stream",
       "stream": "stdout",
       "text": [
        "\r",
        " [**********************75%***********            ]  110 of 147 complete"
       ]
      },
      {
       "output_type": "stream",
       "stream": "stdout",
       "text": [
        "\r",
        " [**********************76%***********            ]  111 of 147 complete"
       ]
      },
      {
       "output_type": "stream",
       "stream": "stdout",
       "text": [
        "\r",
        " [**********************76%***********            ]  112 of 147 complete"
       ]
      },
      {
       "output_type": "stream",
       "stream": "stdout",
       "text": [
        "\r",
        " [**********************77%************           ]  113 of 147 complete"
       ]
      },
      {
       "output_type": "stream",
       "stream": "stdout",
       "text": [
        "\r",
        " [**********************78%************           ]  114 of 147 complete"
       ]
      },
      {
       "output_type": "stream",
       "stream": "stdout",
       "text": [
        "\r",
        " [**********************78%************           ]  115 of 147 complete"
       ]
      },
      {
       "output_type": "stream",
       "stream": "stdout",
       "text": [
        "\r",
        " [**********************79%*************          ]  116 of 147 complete"
       ]
      },
      {
       "output_type": "stream",
       "stream": "stdout",
       "text": [
        "\r",
        " [**********************80%*************          ]  117 of 147 complete"
       ]
      },
      {
       "output_type": "stream",
       "stream": "stdout",
       "text": [
        "\r",
        " [**********************80%*************          ]  118 of 147 complete"
       ]
      },
      {
       "output_type": "stream",
       "stream": "stdout",
       "text": [
        "\r",
        " [**********************81%**************         ]  119 of 147 complete"
       ]
      },
      {
       "output_type": "stream",
       "stream": "stdout",
       "text": [
        "\r",
        " [**********************82%**************         ]  120 of 147 complete"
       ]
      },
      {
       "output_type": "stream",
       "stream": "stdout",
       "text": [
        "\r",
        " [**********************82%**************         ]  121 of 147 complete"
       ]
      },
      {
       "output_type": "stream",
       "stream": "stdout",
       "text": [
        "\r",
        " [**********************83%***************        ]  122 of 147 complete"
       ]
      },
      {
       "output_type": "stream",
       "stream": "stdout",
       "text": [
        "\r",
        " [**********************84%***************        ]  123 of 147 complete"
       ]
      },
      {
       "output_type": "stream",
       "stream": "stdout",
       "text": [
        "\r",
        " [**********************84%***************        ]  124 of 147 complete"
       ]
      },
      {
       "output_type": "stream",
       "stream": "stdout",
       "text": [
        "\r",
        " [**********************85%****************       ]  125 of 147 complete"
       ]
      },
      {
       "output_type": "stream",
       "stream": "stdout",
       "text": [
        "\r",
        " [**********************86%****************       ]  126 of 147 complete"
       ]
      },
      {
       "output_type": "stream",
       "stream": "stdout",
       "text": [
        "\r",
        " [**********************86%****************       ]  127 of 147 complete"
       ]
      },
      {
       "output_type": "stream",
       "stream": "stdout",
       "text": [
        "\r",
        " [**********************87%*****************      ]  128 of 147 complete"
       ]
      },
      {
       "output_type": "stream",
       "stream": "stdout",
       "text": [
        "\r",
        " [**********************88%*****************      ]  129 of 147 complete"
       ]
      },
      {
       "output_type": "stream",
       "stream": "stdout",
       "text": [
        "\r",
        " [**********************88%*****************      ]  130 of 147 complete"
       ]
      },
      {
       "output_type": "stream",
       "stream": "stdout",
       "text": [
        "\r",
        " [**********************89%******************     ]  131 of 147 complete"
       ]
      },
      {
       "output_type": "stream",
       "stream": "stdout",
       "text": [
        "\r",
        " [**********************90%******************     ]  132 of 147 complete"
       ]
      },
      {
       "output_type": "stream",
       "stream": "stdout",
       "text": [
        "\r",
        " [**********************90%******************     ]  133 of 147 complete"
       ]
      },
      {
       "output_type": "stream",
       "stream": "stdout",
       "text": [
        "\r",
        " [**********************91%*******************    ]  134 of 147 complete"
       ]
      },
      {
       "output_type": "stream",
       "stream": "stdout",
       "text": [
        "\r",
        " [**********************92%*******************    ]  135 of 147 complete"
       ]
      },
      {
       "output_type": "stream",
       "stream": "stdout",
       "text": [
        "\r",
        " [**********************93%********************   ]  136 of 147 complete"
       ]
      },
      {
       "output_type": "stream",
       "stream": "stdout",
       "text": [
        "\r",
        " [**********************93%********************   ]  137 of 147 complete"
       ]
      },
      {
       "output_type": "stream",
       "stream": "stdout",
       "text": [
        "\r",
        " [**********************94%********************   ]  138 of 147 complete"
       ]
      },
      {
       "output_type": "stream",
       "stream": "stdout",
       "text": [
        "\r",
        " [**********************95%*********************  ]  139 of 147 complete"
       ]
      },
      {
       "output_type": "stream",
       "stream": "stdout",
       "text": [
        "\r",
        " [**********************95%*********************  ]  140 of 147 complete"
       ]
      },
      {
       "output_type": "stream",
       "stream": "stdout",
       "text": [
        "\r",
        " [**********************96%*********************  ]  141 of 147 complete"
       ]
      },
      {
       "output_type": "stream",
       "stream": "stdout",
       "text": [
        "\r",
        " [**********************97%********************** ]  142 of 147 complete"
       ]
      },
      {
       "output_type": "stream",
       "stream": "stdout",
       "text": [
        "\r",
        " [**********************97%********************** ]  143 of 147 complete"
       ]
      },
      {
       "output_type": "stream",
       "stream": "stdout",
       "text": [
        "\r",
        " [**********************98%********************** ]  144 of 147 complete"
       ]
      },
      {
       "output_type": "stream",
       "stream": "stdout",
       "text": [
        "\r",
        " [**********************99%***********************]  145 of 147 complete"
       ]
      },
      {
       "output_type": "stream",
       "stream": "stdout",
       "text": [
        "\r",
        " [**********************99%***********************]  146 of 147 complete"
       ]
      },
      {
       "output_type": "stream",
       "stream": "stdout",
       "text": [
        "\r",
        " [*********************100%***********************]  147 of 147 complete"
       ]
      },
      {
       "output_type": "stream",
       "stream": "stdout",
       "text": [
        "2009072022\n",
        "Appending 2009072021 on the left."
       ]
      },
      {
       "output_type": "stream",
       "stream": "stdout",
       "text": [
        "\n",
        "Appending 2009072023 on the right."
       ]
      },
      {
       "output_type": "stream",
       "stream": "stdout",
       "text": [
        "\n",
        "\r"
       ]
      },
      {
       "output_type": "stream",
       "stream": "stdout",
       "text": [
        " [                       0%                       ]"
       ]
      },
      {
       "output_type": "stream",
       "stream": "stdout",
       "text": [
        "\r",
        " [                       1%                       ]  2 of 147 complete"
       ]
      },
      {
       "output_type": "stream",
       "stream": "stdout",
       "text": [
        "\r",
        " [*                      2%                       ]  3 of 147 complete"
       ]
      },
      {
       "output_type": "stream",
       "stream": "stdout",
       "text": [
        "\r",
        " [*                      3%                       ]  4 of 147 complete"
       ]
      },
      {
       "output_type": "stream",
       "stream": "stdout",
       "text": [
        "\r",
        " [*                      3%                       ]  5 of 147 complete"
       ]
      },
      {
       "output_type": "stream",
       "stream": "stdout",
       "text": [
        "\r",
        " [**                     4%                       ]  6 of 147 complete"
       ]
      },
      {
       "output_type": "stream",
       "stream": "stdout",
       "text": [
        "\r",
        " [**                     5%                       ]  7 of 147 complete"
       ]
      },
      {
       "output_type": "stream",
       "stream": "stdout",
       "text": [
        "\r",
        " [**                     5%                       ]  8 of 147 complete"
       ]
      },
      {
       "output_type": "stream",
       "stream": "stdout",
       "text": [
        "\r",
        " [***                    6%                       ]  9 of 147 complete"
       ]
      },
      {
       "output_type": "stream",
       "stream": "stdout",
       "text": [
        "\r",
        " [***                    7%                       ]  10 of 147 complete"
       ]
      },
      {
       "output_type": "stream",
       "stream": "stdout",
       "text": [
        "\r",
        " [***                    7%                       ]  11 of 147 complete"
       ]
      },
      {
       "output_type": "stream",
       "stream": "stdout",
       "text": [
        "\r",
        " [****                   8%                       ]  12 of 147 complete"
       ]
      },
      {
       "output_type": "stream",
       "stream": "stdout",
       "text": [
        "\r",
        " [****                   9%                       ]  13 of 147 complete"
       ]
      },
      {
       "output_type": "stream",
       "stream": "stdout",
       "text": [
        "\r",
        " [*****                 10%                       ]  14 of 147 complete"
       ]
      },
      {
       "output_type": "stream",
       "stream": "stdout",
       "text": [
        "\r",
        " [*****                 10%                       ]  15 of 147 complete"
       ]
      },
      {
       "output_type": "stream",
       "stream": "stdout",
       "text": [
        "\r",
        " [*****                 11%                       ]  16 of 147 complete"
       ]
      },
      {
       "output_type": "stream",
       "stream": "stdout",
       "text": [
        "\r",
        " [******                12%                       ]  17 of 147 complete"
       ]
      },
      {
       "output_type": "stream",
       "stream": "stdout",
       "text": [
        "\r",
        " [******                12%                       ]  18 of 147 complete"
       ]
      },
      {
       "output_type": "stream",
       "stream": "stdout",
       "text": [
        "\r",
        " [******                13%                       ]  19 of 147 complete"
       ]
      },
      {
       "output_type": "stream",
       "stream": "stdout",
       "text": [
        "\r",
        " [*******               14%                       ]  20 of 147 complete"
       ]
      },
      {
       "output_type": "stream",
       "stream": "stdout",
       "text": [
        "\r",
        " [*******               14%                       ]  21 of 147 complete"
       ]
      },
      {
       "output_type": "stream",
       "stream": "stdout",
       "text": [
        "\r",
        " [*******               15%                       ]  22 of 147 complete"
       ]
      },
      {
       "output_type": "stream",
       "stream": "stdout",
       "text": [
        "\r",
        " [********              16%                       ]  23 of 147 complete"
       ]
      },
      {
       "output_type": "stream",
       "stream": "stdout",
       "text": [
        "\r",
        " [********              16%                       ]  24 of 147 complete"
       ]
      },
      {
       "output_type": "stream",
       "stream": "stdout",
       "text": [
        "\r",
        " [********              17%                       ]  25 of 147 complete"
       ]
      },
      {
       "output_type": "stream",
       "stream": "stdout",
       "text": [
        "\r",
        " [*********             18%                       ]  26 of 147 complete"
       ]
      },
      {
       "output_type": "stream",
       "stream": "stdout",
       "text": [
        "\r",
        " [*********             18%                       ]  27 of 147 complete"
       ]
      },
      {
       "output_type": "stream",
       "stream": "stdout",
       "text": [
        "\r",
        " [*********             19%                       ]  28 of 147 complete"
       ]
      },
      {
       "output_type": "stream",
       "stream": "stdout",
       "text": [
        "\r",
        " [**********            20%                       ]  29 of 147 complete"
       ]
      },
      {
       "output_type": "stream",
       "stream": "stdout",
       "text": [
        "\r",
        " [**********            20%                       ]  30 of 147 complete"
       ]
      },
      {
       "output_type": "stream",
       "stream": "stdout",
       "text": [
        "\r",
        " [**********            21%                       ]  31 of 147 complete"
       ]
      },
      {
       "output_type": "stream",
       "stream": "stdout",
       "text": [
        "\r",
        " [***********           22%                       ]  32 of 147 complete"
       ]
      },
      {
       "output_type": "stream",
       "stream": "stdout",
       "text": [
        "\r",
        " [***********           22%                       ]  33 of 147 complete"
       ]
      },
      {
       "output_type": "stream",
       "stream": "stdout",
       "text": [
        "\r",
        " [***********           23%                       ]  34 of 147 complete"
       ]
      },
      {
       "output_type": "stream",
       "stream": "stdout",
       "text": [
        "\r",
        " [************          24%                       ]  35 of 147 complete"
       ]
      },
      {
       "output_type": "stream",
       "stream": "stdout",
       "text": [
        "\r",
        " [************          24%                       ]  36 of 147 complete"
       ]
      },
      {
       "output_type": "stream",
       "stream": "stdout",
       "text": [
        "\r",
        " [************          25%                       ]  37 of 147 complete"
       ]
      },
      {
       "output_type": "stream",
       "stream": "stdout",
       "text": [
        "\r",
        " [************          26%                       ]  38 of 147 complete"
       ]
      },
      {
       "output_type": "stream",
       "stream": "stdout",
       "text": [
        "\r",
        " [*************         27%                       ]  39 of 147 complete"
       ]
      },
      {
       "output_type": "stream",
       "stream": "stdout",
       "text": [
        "\r",
        " [*************         27%                       ]  40 of 147 complete"
       ]
      },
      {
       "output_type": "stream",
       "stream": "stdout",
       "text": [
        "\r",
        " [*************         28%                       ]  41 of 147 complete"
       ]
      },
      {
       "output_type": "stream",
       "stream": "stdout",
       "text": [
        "\r",
        " [**************        29%                       ]  42 of 147 complete"
       ]
      },
      {
       "output_type": "stream",
       "stream": "stdout",
       "text": [
        "\r",
        " [**************        29%                       ]  43 of 147 complete"
       ]
      },
      {
       "output_type": "stream",
       "stream": "stdout",
       "text": [
        "\r",
        " [**************        30%                       ]  44 of 147 complete"
       ]
      },
      {
       "output_type": "stream",
       "stream": "stdout",
       "text": [
        "\r",
        " [***************       31%                       ]  45 of 147 complete"
       ]
      },
      {
       "output_type": "stream",
       "stream": "stdout",
       "text": [
        "\r",
        " [***************       31%                       ]  46 of 147 complete"
       ]
      },
      {
       "output_type": "stream",
       "stream": "stdout",
       "text": [
        "\r",
        " [***************       32%                       ]  47 of 147 complete"
       ]
      },
      {
       "output_type": "stream",
       "stream": "stdout",
       "text": [
        "\r",
        " [****************      33%                       ]  48 of 147 complete"
       ]
      },
      {
       "output_type": "stream",
       "stream": "stdout",
       "text": [
        "\r",
        " [****************      33%                       ]  49 of 147 complete"
       ]
      },
      {
       "output_type": "stream",
       "stream": "stdout",
       "text": [
        "\r",
        " [****************      34%                       ]  50 of 147 complete"
       ]
      },
      {
       "output_type": "stream",
       "stream": "stdout",
       "text": [
        "\r",
        " [*****************     35%                       ]  51 of 147 complete"
       ]
      },
      {
       "output_type": "stream",
       "stream": "stdout",
       "text": [
        "\r",
        " [*****************     35%                       ]  52 of 147 complete"
       ]
      },
      {
       "output_type": "stream",
       "stream": "stdout",
       "text": [
        "\r",
        " [*****************     36%                       ]  53 of 147 complete"
       ]
      },
      {
       "output_type": "stream",
       "stream": "stdout",
       "text": [
        "\r",
        " [******************    37%                       ]  54 of 147 complete"
       ]
      },
      {
       "output_type": "stream",
       "stream": "stdout",
       "text": [
        "\r",
        " [******************    37%                       ]  55 of 147 complete"
       ]
      },
      {
       "output_type": "stream",
       "stream": "stdout",
       "text": [
        "\r",
        " [******************    38%                       ]  56 of 147 complete"
       ]
      },
      {
       "output_type": "stream",
       "stream": "stdout",
       "text": [
        "\r",
        " [*******************   39%                       ]  57 of 147 complete"
       ]
      },
      {
       "output_type": "stream",
       "stream": "stdout",
       "text": [
        "\r",
        " [*******************   39%                       ]  58 of 147 complete"
       ]
      },
      {
       "output_type": "stream",
       "stream": "stdout",
       "text": [
        "\r",
        " [*******************   40%                       ]  59 of 147 complete"
       ]
      },
      {
       "output_type": "stream",
       "stream": "stdout",
       "text": [
        "\r",
        " [********************  41%                       ]  60 of 147 complete"
       ]
      },
      {
       "output_type": "stream",
       "stream": "stdout",
       "text": [
        "\r",
        " [********************  41%                       ]  61 of 147 complete"
       ]
      },
      {
       "output_type": "stream",
       "stream": "stdout",
       "text": [
        "\r",
        " [********************  42%                       ]  62 of 147 complete"
       ]
      },
      {
       "output_type": "stream",
       "stream": "stdout",
       "text": [
        "\r",
        " [********************* 43%                       ]  63 of 147 complete"
       ]
      },
      {
       "output_type": "stream",
       "stream": "stdout",
       "text": [
        "\r",
        " [********************* 44%                       ]  64 of 147 complete"
       ]
      },
      {
       "output_type": "stream",
       "stream": "stdout",
       "text": [
        "\r",
        " [********************* 44%                       ]  65 of 147 complete"
       ]
      },
      {
       "output_type": "stream",
       "stream": "stdout",
       "text": [
        "\r",
        " [**********************45%                       ]  66 of 147 complete"
       ]
      },
      {
       "output_type": "stream",
       "stream": "stdout",
       "text": [
        "\r",
        " [**********************46%                       ]  67 of 147 complete"
       ]
      },
      {
       "output_type": "stream",
       "stream": "stdout",
       "text": [
        "\r",
        " [**********************46%                       ]  68 of 147 complete"
       ]
      },
      {
       "output_type": "stream",
       "stream": "stdout",
       "text": [
        "\r",
        " [**********************47%                       ]  69 of 147 complete"
       ]
      },
      {
       "output_type": "stream",
       "stream": "stdout",
       "text": [
        "\r",
        " [**********************48%                       ]  70 of 147 complete"
       ]
      },
      {
       "output_type": "stream",
       "stream": "stdout",
       "text": [
        "\r",
        " [**********************48%                       ]  71 of 147 complete"
       ]
      },
      {
       "output_type": "stream",
       "stream": "stdout",
       "text": [
        "\r",
        " [**********************49%                       ]  72 of 147 complete"
       ]
      },
      {
       "output_type": "stream",
       "stream": "stdout",
       "text": [
        "\r",
        " [**********************50%                       ]  73 of 147 complete"
       ]
      },
      {
       "output_type": "stream",
       "stream": "stdout",
       "text": [
        "\r",
        " [**********************50%                       ]  74 of 147 complete"
       ]
      },
      {
       "output_type": "stream",
       "stream": "stdout",
       "text": [
        "\r",
        " [**********************51%                       ]  75 of 147 complete"
       ]
      },
      {
       "output_type": "stream",
       "stream": "stdout",
       "text": [
        "\r",
        " [**********************52%                       ]  76 of 147 complete"
       ]
      },
      {
       "output_type": "stream",
       "stream": "stdout",
       "text": [
        "\r",
        " [**********************52%                       ]  77 of 147 complete"
       ]
      },
      {
       "output_type": "stream",
       "stream": "stdout",
       "text": [
        "\r",
        " [**********************53%                       ]  78 of 147 complete"
       ]
      },
      {
       "output_type": "stream",
       "stream": "stdout",
       "text": [
        "\r",
        " [**********************54%*                      ]  79 of 147 complete"
       ]
      },
      {
       "output_type": "stream",
       "stream": "stdout",
       "text": [
        "\r",
        " [**********************54%*                      ]  80 of 147 complete"
       ]
      },
      {
       "output_type": "stream",
       "stream": "stdout",
       "text": [
        "\r",
        " [**********************55%*                      ]  81 of 147 complete"
       ]
      },
      {
       "output_type": "stream",
       "stream": "stdout",
       "text": [
        "\r",
        " [**********************56%**                     ]  82 of 147 complete"
       ]
      },
      {
       "output_type": "stream",
       "stream": "stdout",
       "text": [
        "\r",
        " [**********************56%**                     ]  83 of 147 complete"
       ]
      },
      {
       "output_type": "stream",
       "stream": "stdout",
       "text": [
        "\r",
        " [**********************57%**                     ]  84 of 147 complete"
       ]
      },
      {
       "output_type": "stream",
       "stream": "stdout",
       "text": [
        "\r",
        " [**********************58%***                    ]  85 of 147 complete"
       ]
      },
      {
       "output_type": "stream",
       "stream": "stdout",
       "text": [
        "\r",
        " [**********************59%***                    ]  86 of 147 complete"
       ]
      },
      {
       "output_type": "stream",
       "stream": "stdout",
       "text": [
        "\r",
        " [**********************59%***                    ]  87 of 147 complete"
       ]
      },
      {
       "output_type": "stream",
       "stream": "stdout",
       "text": [
        "\r",
        " [**********************60%****                   ]  88 of 147 complete"
       ]
      },
      {
       "output_type": "stream",
       "stream": "stdout",
       "text": [
        "\r",
        " [**********************61%****                   ]  89 of 147 complete"
       ]
      },
      {
       "output_type": "stream",
       "stream": "stdout",
       "text": [
        "\r",
        " [**********************61%****                   ]  90 of 147 complete"
       ]
      },
      {
       "output_type": "stream",
       "stream": "stdout",
       "text": [
        "\r",
        " [**********************62%*****                  ]  91 of 147 complete"
       ]
      },
      {
       "output_type": "stream",
       "stream": "stdout",
       "text": [
        "\r",
        " [**********************63%*****                  ]  92 of 147 complete"
       ]
      },
      {
       "output_type": "stream",
       "stream": "stdout",
       "text": [
        "\r",
        " [**********************63%*****                  ]  93 of 147 complete"
       ]
      },
      {
       "output_type": "stream",
       "stream": "stdout",
       "text": [
        "\r",
        " [**********************64%******                 ]  94 of 147 complete"
       ]
      },
      {
       "output_type": "stream",
       "stream": "stdout",
       "text": [
        "\r",
        " [**********************65%******                 ]  95 of 147 complete"
       ]
      },
      {
       "output_type": "stream",
       "stream": "stdout",
       "text": [
        "\r",
        " [**********************65%******                 ]  96 of 147 complete"
       ]
      },
      {
       "output_type": "stream",
       "stream": "stdout",
       "text": [
        "\r",
        " [**********************66%*******                ]  97 of 147 complete"
       ]
      },
      {
       "output_type": "stream",
       "stream": "stdout",
       "text": [
        "\r",
        " [**********************67%*******                ]  98 of 147 complete"
       ]
      },
      {
       "output_type": "stream",
       "stream": "stdout",
       "text": [
        "\r",
        " [**********************67%*******                ]  99 of 147 complete"
       ]
      },
      {
       "output_type": "stream",
       "stream": "stdout",
       "text": [
        "\r",
        " [**********************68%********               ]  100 of 147 complete"
       ]
      },
      {
       "output_type": "stream",
       "stream": "stdout",
       "text": [
        "\r",
        " [**********************69%********               ]  101 of 147 complete"
       ]
      },
      {
       "output_type": "stream",
       "stream": "stdout",
       "text": [
        "\r",
        " [**********************69%********               ]  102 of 147 complete"
       ]
      },
      {
       "output_type": "stream",
       "stream": "stdout",
       "text": [
        "\r",
        " [**********************70%*********              ]  103 of 147 complete"
       ]
      },
      {
       "output_type": "stream",
       "stream": "stdout",
       "text": [
        "\r",
        " [**********************71%*********              ]  104 of 147 complete"
       ]
      },
      {
       "output_type": "stream",
       "stream": "stdout",
       "text": [
        "\r",
        " [**********************71%*********              ]  105 of 147 complete"
       ]
      },
      {
       "output_type": "stream",
       "stream": "stdout",
       "text": [
        "\r",
        " [**********************72%**********             ]  106 of 147 complete"
       ]
      },
      {
       "output_type": "stream",
       "stream": "stdout",
       "text": [
        "\r",
        " [**********************73%**********             ]  107 of 147 complete"
       ]
      },
      {
       "output_type": "stream",
       "stream": "stdout",
       "text": [
        "\r",
        " [**********************73%**********             ]  108 of 147 complete"
       ]
      },
      {
       "output_type": "stream",
       "stream": "stdout",
       "text": [
        "\r",
        " [**********************74%***********            ]  109 of 147 complete"
       ]
      },
      {
       "output_type": "stream",
       "stream": "stdout",
       "text": [
        "\r",
        " [**********************75%***********            ]  110 of 147 complete"
       ]
      },
      {
       "output_type": "stream",
       "stream": "stdout",
       "text": [
        "\r",
        " [**********************76%***********            ]  111 of 147 complete"
       ]
      },
      {
       "output_type": "stream",
       "stream": "stdout",
       "text": [
        "\r",
        " [**********************76%***********            ]  112 of 147 complete"
       ]
      },
      {
       "output_type": "stream",
       "stream": "stdout",
       "text": [
        "\r",
        " [**********************77%************           ]  113 of 147 complete"
       ]
      },
      {
       "output_type": "stream",
       "stream": "stdout",
       "text": [
        "\r",
        " [**********************78%************           ]  114 of 147 complete"
       ]
      },
      {
       "output_type": "stream",
       "stream": "stdout",
       "text": [
        "\r",
        " [**********************78%************           ]  115 of 147 complete"
       ]
      },
      {
       "output_type": "stream",
       "stream": "stdout",
       "text": [
        "\r",
        " [**********************79%*************          ]  116 of 147 complete"
       ]
      },
      {
       "output_type": "stream",
       "stream": "stdout",
       "text": [
        "\r",
        " [**********************80%*************          ]  117 of 147 complete"
       ]
      },
      {
       "output_type": "stream",
       "stream": "stdout",
       "text": [
        "\r",
        " [**********************80%*************          ]  118 of 147 complete"
       ]
      },
      {
       "output_type": "stream",
       "stream": "stdout",
       "text": [
        "\r",
        " [**********************81%**************         ]  119 of 147 complete"
       ]
      },
      {
       "output_type": "stream",
       "stream": "stdout",
       "text": [
        "\r",
        " [**********************82%**************         ]  120 of 147 complete"
       ]
      },
      {
       "output_type": "stream",
       "stream": "stdout",
       "text": [
        "\r",
        " [**********************82%**************         ]  121 of 147 complete"
       ]
      },
      {
       "output_type": "stream",
       "stream": "stdout",
       "text": [
        "\r",
        " [**********************83%***************        ]  122 of 147 complete"
       ]
      },
      {
       "output_type": "stream",
       "stream": "stdout",
       "text": [
        "\r",
        " [**********************84%***************        ]  123 of 147 complete"
       ]
      },
      {
       "output_type": "stream",
       "stream": "stdout",
       "text": [
        "\r",
        " [**********************84%***************        ]  124 of 147 complete"
       ]
      },
      {
       "output_type": "stream",
       "stream": "stdout",
       "text": [
        "\r",
        " [**********************85%****************       ]  125 of 147 complete"
       ]
      },
      {
       "output_type": "stream",
       "stream": "stdout",
       "text": [
        "\r",
        " [**********************86%****************       ]  126 of 147 complete"
       ]
      },
      {
       "output_type": "stream",
       "stream": "stdout",
       "text": [
        "\r",
        " [**********************86%****************       ]  127 of 147 complete"
       ]
      },
      {
       "output_type": "stream",
       "stream": "stdout",
       "text": [
        "\r",
        " [**********************87%*****************      ]  128 of 147 complete"
       ]
      },
      {
       "output_type": "stream",
       "stream": "stdout",
       "text": [
        "\r",
        " [**********************88%*****************      ]  129 of 147 complete"
       ]
      },
      {
       "output_type": "stream",
       "stream": "stdout",
       "text": [
        "\r",
        " [**********************88%*****************      ]  130 of 147 complete"
       ]
      },
      {
       "output_type": "stream",
       "stream": "stdout",
       "text": [
        "\r",
        " [**********************89%******************     ]  131 of 147 complete"
       ]
      },
      {
       "output_type": "stream",
       "stream": "stdout",
       "text": [
        "\r",
        " [**********************90%******************     ]  132 of 147 complete"
       ]
      },
      {
       "output_type": "stream",
       "stream": "stdout",
       "text": [
        "\r",
        " [**********************90%******************     ]  133 of 147 complete"
       ]
      },
      {
       "output_type": "stream",
       "stream": "stdout",
       "text": [
        "\r",
        " [**********************91%*******************    ]  134 of 147 complete"
       ]
      },
      {
       "output_type": "stream",
       "stream": "stdout",
       "text": [
        "\r",
        " [**********************92%*******************    ]  135 of 147 complete"
       ]
      },
      {
       "output_type": "stream",
       "stream": "stdout",
       "text": [
        "\r",
        " [**********************93%********************   ]  136 of 147 complete"
       ]
      },
      {
       "output_type": "stream",
       "stream": "stdout",
       "text": [
        "\r",
        " [**********************93%********************   ]  137 of 147 complete"
       ]
      },
      {
       "output_type": "stream",
       "stream": "stdout",
       "text": [
        "\r",
        " [**********************94%********************   ]  138 of 147 complete"
       ]
      },
      {
       "output_type": "stream",
       "stream": "stdout",
       "text": [
        "\r",
        " [**********************95%*********************  ]  139 of 147 complete"
       ]
      },
      {
       "output_type": "stream",
       "stream": "stdout",
       "text": [
        "\r",
        " [**********************95%*********************  ]  140 of 147 complete"
       ]
      },
      {
       "output_type": "stream",
       "stream": "stdout",
       "text": [
        "\r",
        " [**********************96%*********************  ]  141 of 147 complete"
       ]
      },
      {
       "output_type": "stream",
       "stream": "stdout",
       "text": [
        "\r",
        " [**********************97%********************** ]  142 of 147 complete"
       ]
      },
      {
       "output_type": "stream",
       "stream": "stdout",
       "text": [
        "\r",
        " [**********************97%********************** ]  143 of 147 complete"
       ]
      },
      {
       "output_type": "stream",
       "stream": "stdout",
       "text": [
        "\r",
        " [**********************98%********************** ]  144 of 147 complete"
       ]
      },
      {
       "output_type": "stream",
       "stream": "stdout",
       "text": [
        "\r",
        " [**********************99%***********************]  145 of 147 complete"
       ]
      },
      {
       "output_type": "stream",
       "stream": "stdout",
       "text": [
        "\r",
        " [**********************99%***********************]  146 of 147 complete"
       ]
      },
      {
       "output_type": "stream",
       "stream": "stdout",
       "text": [
        "\r",
        " [*********************100%***********************]  147 of 147 complete"
       ]
      },
      {
       "output_type": "stream",
       "stream": "stdout",
       "text": [
        "\r",
        " [                       0%                       ]"
       ]
      },
      {
       "output_type": "stream",
       "stream": "stdout",
       "text": [
        "\r",
        " [                       1%                       ]  2 of 147 complete"
       ]
      },
      {
       "output_type": "stream",
       "stream": "stdout",
       "text": [
        "\r",
        " [*                      2%                       ]  3 of 147 complete"
       ]
      },
      {
       "output_type": "stream",
       "stream": "stdout",
       "text": [
        "\r",
        " [*                      3%                       ]  4 of 147 complete"
       ]
      },
      {
       "output_type": "stream",
       "stream": "stdout",
       "text": [
        "\r",
        " [*                      3%                       ]  5 of 147 complete"
       ]
      },
      {
       "output_type": "stream",
       "stream": "stdout",
       "text": [
        "\r",
        " [**                     4%                       ]  6 of 147 complete"
       ]
      },
      {
       "output_type": "stream",
       "stream": "stdout",
       "text": [
        "\r",
        " [**                     5%                       ]  7 of 147 complete"
       ]
      },
      {
       "output_type": "stream",
       "stream": "stdout",
       "text": [
        "\r",
        " [**                     5%                       ]  8 of 147 complete"
       ]
      },
      {
       "output_type": "stream",
       "stream": "stdout",
       "text": [
        "\r",
        " [***                    6%                       ]  9 of 147 complete"
       ]
      },
      {
       "output_type": "stream",
       "stream": "stdout",
       "text": [
        "\r",
        " [***                    7%                       ]  10 of 147 complete"
       ]
      },
      {
       "output_type": "stream",
       "stream": "stdout",
       "text": [
        "\r",
        " [***                    7%                       ]  11 of 147 complete"
       ]
      },
      {
       "output_type": "stream",
       "stream": "stdout",
       "text": [
        "\r",
        " [****                   8%                       ]  12 of 147 complete"
       ]
      },
      {
       "output_type": "stream",
       "stream": "stdout",
       "text": [
        "\r",
        " [****                   9%                       ]  13 of 147 complete"
       ]
      },
      {
       "output_type": "stream",
       "stream": "stdout",
       "text": [
        "\r",
        " [*****                 10%                       ]  14 of 147 complete"
       ]
      },
      {
       "output_type": "stream",
       "stream": "stdout",
       "text": [
        "\r",
        " [*****                 10%                       ]  15 of 147 complete"
       ]
      },
      {
       "output_type": "stream",
       "stream": "stdout",
       "text": [
        "\r",
        " [*****                 11%                       ]  16 of 147 complete"
       ]
      },
      {
       "output_type": "stream",
       "stream": "stdout",
       "text": [
        "\r",
        " [******                12%                       ]  17 of 147 complete"
       ]
      },
      {
       "output_type": "stream",
       "stream": "stdout",
       "text": [
        "\r",
        " [******                12%                       ]  18 of 147 complete"
       ]
      },
      {
       "output_type": "stream",
       "stream": "stdout",
       "text": [
        "\r",
        " [******                13%                       ]  19 of 147 complete"
       ]
      },
      {
       "output_type": "stream",
       "stream": "stdout",
       "text": [
        "\r",
        " [*******               14%                       ]  20 of 147 complete"
       ]
      },
      {
       "output_type": "stream",
       "stream": "stdout",
       "text": [
        "\r",
        " [*******               14%                       ]  21 of 147 complete"
       ]
      },
      {
       "output_type": "stream",
       "stream": "stdout",
       "text": [
        "\r",
        " [*******               15%                       ]  22 of 147 complete"
       ]
      },
      {
       "output_type": "stream",
       "stream": "stdout",
       "text": [
        "\r",
        " [********              16%                       ]  23 of 147 complete"
       ]
      },
      {
       "output_type": "stream",
       "stream": "stdout",
       "text": [
        "\r",
        " [********              16%                       ]  24 of 147 complete"
       ]
      },
      {
       "output_type": "stream",
       "stream": "stdout",
       "text": [
        "\r",
        " [********              17%                       ]  25 of 147 complete"
       ]
      },
      {
       "output_type": "stream",
       "stream": "stdout",
       "text": [
        "\r",
        " [*********             18%                       ]  26 of 147 complete"
       ]
      },
      {
       "output_type": "stream",
       "stream": "stdout",
       "text": [
        "\r",
        " [*********             18%                       ]  27 of 147 complete"
       ]
      },
      {
       "output_type": "stream",
       "stream": "stdout",
       "text": [
        "\r",
        " [*********             19%                       ]  28 of 147 complete"
       ]
      },
      {
       "output_type": "stream",
       "stream": "stdout",
       "text": [
        "\r",
        " [**********            20%                       ]  29 of 147 complete"
       ]
      },
      {
       "output_type": "stream",
       "stream": "stdout",
       "text": [
        "\r",
        " [**********            20%                       ]  30 of 147 complete"
       ]
      },
      {
       "output_type": "stream",
       "stream": "stdout",
       "text": [
        "\r",
        " [**********            21%                       ]  31 of 147 complete"
       ]
      },
      {
       "output_type": "stream",
       "stream": "stdout",
       "text": [
        "\r",
        " [***********           22%                       ]  32 of 147 complete"
       ]
      },
      {
       "output_type": "stream",
       "stream": "stdout",
       "text": [
        "\r",
        " [***********           22%                       ]  33 of 147 complete"
       ]
      },
      {
       "output_type": "stream",
       "stream": "stdout",
       "text": [
        "\r",
        " [***********           23%                       ]  34 of 147 complete"
       ]
      },
      {
       "output_type": "stream",
       "stream": "stdout",
       "text": [
        "\r",
        " [************          24%                       ]  35 of 147 complete"
       ]
      },
      {
       "output_type": "stream",
       "stream": "stdout",
       "text": [
        "\r",
        " [************          24%                       ]  36 of 147 complete"
       ]
      },
      {
       "output_type": "stream",
       "stream": "stdout",
       "text": [
        "\r",
        " [************          25%                       ]  37 of 147 complete"
       ]
      },
      {
       "output_type": "stream",
       "stream": "stdout",
       "text": [
        "\r",
        " [************          26%                       ]  38 of 147 complete"
       ]
      },
      {
       "output_type": "stream",
       "stream": "stdout",
       "text": [
        "\r",
        " [*************         27%                       ]  39 of 147 complete"
       ]
      },
      {
       "output_type": "stream",
       "stream": "stdout",
       "text": [
        "\r",
        " [*************         27%                       ]  40 of 147 complete"
       ]
      },
      {
       "output_type": "stream",
       "stream": "stdout",
       "text": [
        "\r",
        " [*************         28%                       ]  41 of 147 complete"
       ]
      },
      {
       "output_type": "stream",
       "stream": "stdout",
       "text": [
        "\r",
        " [**************        29%                       ]  42 of 147 complete"
       ]
      },
      {
       "output_type": "stream",
       "stream": "stdout",
       "text": [
        "\r",
        " [**************        29%                       ]  43 of 147 complete"
       ]
      },
      {
       "output_type": "stream",
       "stream": "stdout",
       "text": [
        "\r",
        " [**************        30%                       ]  44 of 147 complete"
       ]
      },
      {
       "output_type": "stream",
       "stream": "stdout",
       "text": [
        "\r",
        " [***************       31%                       ]  45 of 147 complete"
       ]
      },
      {
       "output_type": "stream",
       "stream": "stdout",
       "text": [
        "\r",
        " [***************       31%                       ]  46 of 147 complete"
       ]
      },
      {
       "output_type": "stream",
       "stream": "stdout",
       "text": [
        "\r",
        " [***************       32%                       ]  47 of 147 complete"
       ]
      },
      {
       "output_type": "stream",
       "stream": "stdout",
       "text": [
        "\r",
        " [****************      33%                       ]  48 of 147 complete"
       ]
      },
      {
       "output_type": "stream",
       "stream": "stdout",
       "text": [
        "\r",
        " [****************      33%                       ]  49 of 147 complete"
       ]
      },
      {
       "output_type": "stream",
       "stream": "stdout",
       "text": [
        "\r",
        " [****************      34%                       ]  50 of 147 complete"
       ]
      },
      {
       "output_type": "stream",
       "stream": "stdout",
       "text": [
        "\r",
        " [*****************     35%                       ]  51 of 147 complete"
       ]
      },
      {
       "output_type": "stream",
       "stream": "stdout",
       "text": [
        "\r",
        " [*****************     35%                       ]  52 of 147 complete"
       ]
      },
      {
       "output_type": "stream",
       "stream": "stdout",
       "text": [
        "\r",
        " [*****************     36%                       ]  53 of 147 complete"
       ]
      },
      {
       "output_type": "stream",
       "stream": "stdout",
       "text": [
        "\r",
        " [******************    37%                       ]  54 of 147 complete"
       ]
      },
      {
       "output_type": "stream",
       "stream": "stdout",
       "text": [
        "\r",
        " [******************    37%                       ]  55 of 147 complete"
       ]
      },
      {
       "output_type": "stream",
       "stream": "stdout",
       "text": [
        "\r",
        " [******************    38%                       ]  56 of 147 complete"
       ]
      },
      {
       "output_type": "stream",
       "stream": "stdout",
       "text": [
        "\r",
        " [*******************   39%                       ]  57 of 147 complete"
       ]
      },
      {
       "output_type": "stream",
       "stream": "stdout",
       "text": [
        "\r",
        " [*******************   39%                       ]  58 of 147 complete"
       ]
      },
      {
       "output_type": "stream",
       "stream": "stdout",
       "text": [
        "\r",
        " [*******************   40%                       ]  59 of 147 complete"
       ]
      },
      {
       "output_type": "stream",
       "stream": "stdout",
       "text": [
        "\r",
        " [********************  41%                       ]  60 of 147 complete"
       ]
      },
      {
       "output_type": "stream",
       "stream": "stdout",
       "text": [
        "\r",
        " [********************  41%                       ]  61 of 147 complete"
       ]
      },
      {
       "output_type": "stream",
       "stream": "stdout",
       "text": [
        "\r",
        " [********************  42%                       ]  62 of 147 complete"
       ]
      },
      {
       "output_type": "stream",
       "stream": "stdout",
       "text": [
        "\r",
        " [********************* 43%                       ]  63 of 147 complete"
       ]
      },
      {
       "output_type": "stream",
       "stream": "stdout",
       "text": [
        "\r",
        " [********************* 44%                       ]  64 of 147 complete"
       ]
      },
      {
       "output_type": "stream",
       "stream": "stdout",
       "text": [
        "\r",
        " [********************* 44%                       ]  65 of 147 complete"
       ]
      },
      {
       "output_type": "stream",
       "stream": "stdout",
       "text": [
        "\r",
        " [**********************45%                       ]  66 of 147 complete"
       ]
      },
      {
       "output_type": "stream",
       "stream": "stdout",
       "text": [
        "\r",
        " [**********************46%                       ]  67 of 147 complete"
       ]
      },
      {
       "output_type": "stream",
       "stream": "stdout",
       "text": [
        "\r",
        " [**********************46%                       ]  68 of 147 complete"
       ]
      },
      {
       "output_type": "stream",
       "stream": "stdout",
       "text": [
        "\r",
        " [**********************47%                       ]  69 of 147 complete"
       ]
      },
      {
       "output_type": "stream",
       "stream": "stdout",
       "text": [
        "\r",
        " [**********************48%                       ]  70 of 147 complete"
       ]
      },
      {
       "output_type": "stream",
       "stream": "stdout",
       "text": [
        "\r",
        " [**********************48%                       ]  71 of 147 complete"
       ]
      },
      {
       "output_type": "stream",
       "stream": "stdout",
       "text": [
        "\r",
        " [**********************49%                       ]  72 of 147 complete"
       ]
      },
      {
       "output_type": "stream",
       "stream": "stdout",
       "text": [
        "\r",
        " [**********************50%                       ]  73 of 147 complete"
       ]
      },
      {
       "output_type": "stream",
       "stream": "stdout",
       "text": [
        "\r",
        " [**********************50%                       ]  74 of 147 complete"
       ]
      },
      {
       "output_type": "stream",
       "stream": "stdout",
       "text": [
        "\r",
        " [**********************51%                       ]  75 of 147 complete"
       ]
      },
      {
       "output_type": "stream",
       "stream": "stdout",
       "text": [
        "\r",
        " [**********************52%                       ]  76 of 147 complete"
       ]
      },
      {
       "output_type": "stream",
       "stream": "stdout",
       "text": [
        "\r",
        " [**********************52%                       ]  77 of 147 complete"
       ]
      },
      {
       "output_type": "stream",
       "stream": "stdout",
       "text": [
        "\r",
        " [**********************53%                       ]  78 of 147 complete"
       ]
      },
      {
       "output_type": "stream",
       "stream": "stdout",
       "text": [
        "\r",
        " [**********************54%*                      ]  79 of 147 complete"
       ]
      },
      {
       "output_type": "stream",
       "stream": "stdout",
       "text": [
        "\r",
        " [**********************54%*                      ]  80 of 147 complete"
       ]
      },
      {
       "output_type": "stream",
       "stream": "stdout",
       "text": [
        "\r",
        " [**********************55%*                      ]  81 of 147 complete"
       ]
      },
      {
       "output_type": "stream",
       "stream": "stdout",
       "text": [
        "\r",
        " [**********************56%**                     ]  82 of 147 complete"
       ]
      },
      {
       "output_type": "stream",
       "stream": "stdout",
       "text": [
        "\r",
        " [**********************56%**                     ]  83 of 147 complete"
       ]
      },
      {
       "output_type": "stream",
       "stream": "stdout",
       "text": [
        "\r",
        " [**********************57%**                     ]  84 of 147 complete"
       ]
      },
      {
       "output_type": "stream",
       "stream": "stdout",
       "text": [
        "\r",
        " [**********************58%***                    ]  85 of 147 complete"
       ]
      },
      {
       "output_type": "stream",
       "stream": "stdout",
       "text": [
        "\r",
        " [**********************59%***                    ]  86 of 147 complete"
       ]
      },
      {
       "output_type": "stream",
       "stream": "stdout",
       "text": [
        "\r",
        " [**********************59%***                    ]  87 of 147 complete"
       ]
      },
      {
       "output_type": "stream",
       "stream": "stdout",
       "text": [
        "\r",
        " [**********************60%****                   ]  88 of 147 complete"
       ]
      },
      {
       "output_type": "stream",
       "stream": "stdout",
       "text": [
        "\r",
        " [**********************61%****                   ]  89 of 147 complete"
       ]
      },
      {
       "output_type": "stream",
       "stream": "stdout",
       "text": [
        "\r",
        " [**********************61%****                   ]  90 of 147 complete"
       ]
      },
      {
       "output_type": "stream",
       "stream": "stdout",
       "text": [
        "\r",
        " [**********************62%*****                  ]  91 of 147 complete"
       ]
      },
      {
       "output_type": "stream",
       "stream": "stdout",
       "text": [
        "\r",
        " [**********************63%*****                  ]  92 of 147 complete"
       ]
      },
      {
       "output_type": "stream",
       "stream": "stdout",
       "text": [
        "\r",
        " [**********************63%*****                  ]  93 of 147 complete"
       ]
      },
      {
       "output_type": "stream",
       "stream": "stdout",
       "text": [
        "\r",
        " [**********************64%******                 ]  94 of 147 complete"
       ]
      },
      {
       "output_type": "stream",
       "stream": "stdout",
       "text": [
        "\r",
        " [**********************65%******                 ]  95 of 147 complete"
       ]
      },
      {
       "output_type": "stream",
       "stream": "stdout",
       "text": [
        "\r",
        " [**********************65%******                 ]  96 of 147 complete"
       ]
      },
      {
       "output_type": "stream",
       "stream": "stdout",
       "text": [
        "\r",
        " [**********************66%*******                ]  97 of 147 complete"
       ]
      },
      {
       "output_type": "stream",
       "stream": "stdout",
       "text": [
        "\r",
        " [**********************67%*******                ]  98 of 147 complete"
       ]
      },
      {
       "output_type": "stream",
       "stream": "stdout",
       "text": [
        "\r",
        " [**********************67%*******                ]  99 of 147 complete"
       ]
      },
      {
       "output_type": "stream",
       "stream": "stdout",
       "text": [
        "\r",
        " [**********************68%********               ]  100 of 147 complete"
       ]
      },
      {
       "output_type": "stream",
       "stream": "stdout",
       "text": [
        "\r",
        " [**********************69%********               ]  101 of 147 complete"
       ]
      },
      {
       "output_type": "stream",
       "stream": "stdout",
       "text": [
        "\r",
        " [**********************69%********               ]  102 of 147 complete"
       ]
      },
      {
       "output_type": "stream",
       "stream": "stdout",
       "text": [
        "\r",
        " [**********************70%*********              ]  103 of 147 complete"
       ]
      },
      {
       "output_type": "stream",
       "stream": "stdout",
       "text": [
        "\r",
        " [**********************71%*********              ]  104 of 147 complete"
       ]
      },
      {
       "output_type": "stream",
       "stream": "stdout",
       "text": [
        "\r",
        " [**********************71%*********              ]  105 of 147 complete"
       ]
      },
      {
       "output_type": "stream",
       "stream": "stdout",
       "text": [
        "\r",
        " [**********************72%**********             ]  106 of 147 complete"
       ]
      },
      {
       "output_type": "stream",
       "stream": "stdout",
       "text": [
        "\r",
        " [**********************73%**********             ]  107 of 147 complete"
       ]
      },
      {
       "output_type": "stream",
       "stream": "stdout",
       "text": [
        "\r",
        " [**********************73%**********             ]  108 of 147 complete"
       ]
      },
      {
       "output_type": "stream",
       "stream": "stdout",
       "text": [
        "\r",
        " [**********************74%***********            ]  109 of 147 complete"
       ]
      },
      {
       "output_type": "stream",
       "stream": "stdout",
       "text": [
        "\r",
        " [**********************75%***********            ]  110 of 147 complete"
       ]
      },
      {
       "output_type": "stream",
       "stream": "stdout",
       "text": [
        "\r",
        " [**********************76%***********            ]  111 of 147 complete"
       ]
      },
      {
       "output_type": "stream",
       "stream": "stdout",
       "text": [
        "\r",
        " [**********************76%***********            ]  112 of 147 complete"
       ]
      },
      {
       "output_type": "stream",
       "stream": "stdout",
       "text": [
        "\r",
        " [**********************77%************           ]  113 of 147 complete"
       ]
      },
      {
       "output_type": "stream",
       "stream": "stdout",
       "text": [
        "\r",
        " [**********************78%************           ]  114 of 147 complete"
       ]
      },
      {
       "output_type": "stream",
       "stream": "stdout",
       "text": [
        "\r",
        " [**********************78%************           ]  115 of 147 complete"
       ]
      },
      {
       "output_type": "stream",
       "stream": "stdout",
       "text": [
        "\r",
        " [**********************79%*************          ]  116 of 147 complete"
       ]
      },
      {
       "output_type": "stream",
       "stream": "stdout",
       "text": [
        "\r",
        " [**********************80%*************          ]  117 of 147 complete"
       ]
      },
      {
       "output_type": "stream",
       "stream": "stdout",
       "text": [
        "\r",
        " [**********************80%*************          ]  118 of 147 complete"
       ]
      },
      {
       "output_type": "stream",
       "stream": "stdout",
       "text": [
        "\r",
        " [**********************81%**************         ]  119 of 147 complete"
       ]
      },
      {
       "output_type": "stream",
       "stream": "stdout",
       "text": [
        "\r",
        " [**********************82%**************         ]  120 of 147 complete"
       ]
      },
      {
       "output_type": "stream",
       "stream": "stdout",
       "text": [
        "\r",
        " [**********************82%**************         ]  121 of 147 complete"
       ]
      },
      {
       "output_type": "stream",
       "stream": "stdout",
       "text": [
        "\r",
        " [**********************83%***************        ]  122 of 147 complete"
       ]
      },
      {
       "output_type": "stream",
       "stream": "stdout",
       "text": [
        "\r",
        " [**********************84%***************        ]  123 of 147 complete"
       ]
      },
      {
       "output_type": "stream",
       "stream": "stdout",
       "text": [
        "\r",
        " [**********************84%***************        ]  124 of 147 complete"
       ]
      },
      {
       "output_type": "stream",
       "stream": "stdout",
       "text": [
        "\r",
        " [**********************85%****************       ]  125 of 147 complete"
       ]
      },
      {
       "output_type": "stream",
       "stream": "stdout",
       "text": [
        "\r",
        " [**********************86%****************       ]  126 of 147 complete"
       ]
      },
      {
       "output_type": "stream",
       "stream": "stdout",
       "text": [
        "\r",
        " [**********************86%****************       ]  127 of 147 complete"
       ]
      },
      {
       "output_type": "stream",
       "stream": "stdout",
       "text": [
        "\r",
        " [**********************87%*****************      ]  128 of 147 complete"
       ]
      },
      {
       "output_type": "stream",
       "stream": "stdout",
       "text": [
        "\r",
        " [**********************88%*****************      ]  129 of 147 complete"
       ]
      },
      {
       "output_type": "stream",
       "stream": "stdout",
       "text": [
        "\r",
        " [**********************88%*****************      ]  130 of 147 complete"
       ]
      },
      {
       "output_type": "stream",
       "stream": "stdout",
       "text": [
        "\r",
        " [**********************89%******************     ]  131 of 147 complete"
       ]
      },
      {
       "output_type": "stream",
       "stream": "stdout",
       "text": [
        "\r",
        " [**********************90%******************     ]  132 of 147 complete"
       ]
      },
      {
       "output_type": "stream",
       "stream": "stdout",
       "text": [
        "\r",
        " [**********************90%******************     ]  133 of 147 complete"
       ]
      },
      {
       "output_type": "stream",
       "stream": "stdout",
       "text": [
        "\r",
        " [**********************91%*******************    ]  134 of 147 complete"
       ]
      },
      {
       "output_type": "stream",
       "stream": "stdout",
       "text": [
        "\r",
        " [**********************92%*******************    ]  135 of 147 complete"
       ]
      },
      {
       "output_type": "stream",
       "stream": "stdout",
       "text": [
        "\r",
        " [**********************93%********************   ]  136 of 147 complete"
       ]
      },
      {
       "output_type": "stream",
       "stream": "stdout",
       "text": [
        "\r",
        " [**********************93%********************   ]  137 of 147 complete"
       ]
      },
      {
       "output_type": "stream",
       "stream": "stdout",
       "text": [
        "\r",
        " [**********************94%********************   ]  138 of 147 complete"
       ]
      },
      {
       "output_type": "stream",
       "stream": "stdout",
       "text": [
        "\r",
        " [**********************95%*********************  ]  139 of 147 complete"
       ]
      },
      {
       "output_type": "stream",
       "stream": "stdout",
       "text": [
        "\r",
        " [**********************95%*********************  ]  140 of 147 complete"
       ]
      },
      {
       "output_type": "stream",
       "stream": "stdout",
       "text": [
        "\r",
        " [**********************96%*********************  ]  141 of 147 complete"
       ]
      },
      {
       "output_type": "stream",
       "stream": "stdout",
       "text": [
        "\r",
        " [**********************97%********************** ]  142 of 147 complete"
       ]
      },
      {
       "output_type": "stream",
       "stream": "stdout",
       "text": [
        "\r",
        " [**********************97%********************** ]  143 of 147 complete"
       ]
      },
      {
       "output_type": "stream",
       "stream": "stdout",
       "text": [
        "\r",
        " [**********************98%********************** ]  144 of 147 complete"
       ]
      },
      {
       "output_type": "stream",
       "stream": "stdout",
       "text": [
        "\r",
        " [**********************99%***********************]  145 of 147 complete"
       ]
      },
      {
       "output_type": "stream",
       "stream": "stdout",
       "text": [
        "\r",
        " [**********************99%***********************]  146 of 147 complete"
       ]
      },
      {
       "output_type": "stream",
       "stream": "stdout",
       "text": [
        "\r",
        " [*********************100%***********************]  147 of 147 complete"
       ]
      }
     ],
     "prompt_number": 57
    },
    {
     "cell_type": "code",
     "collapsed": false,
     "input": [
      "newsp1.to_hdf('/raid1/maye/coldregions/region_sp_newtb_added_test.h5', 'sp1')"
     ],
     "language": "python",
     "metadata": {},
     "outputs": [],
     "prompt_number": 59
    },
    {
     "cell_type": "code",
     "collapsed": false,
     "input": [
      "res1 = sp1det21.merge(pd.DataFrame(tb921),left_index=True, right_index=True)"
     ],
     "language": "python",
     "metadata": {},
     "outputs": [],
     "prompt_number": 137
    },
    {
     "cell_type": "code",
     "collapsed": false,
     "input": [
      "sp1det21.join(tb921, how='inner')"
     ],
     "language": "python",
     "metadata": {},
     "outputs": [
      {
       "html": [
        "<div style=\"max-height:1000px;max-width:1500px;overflow:auto;\">\n",
        "<table border=\"1\" class=\"dataframe\">\n",
        "  <thead>\n",
        "    <tr style=\"text-align: right;\">\n",
        "      <th></th>\n",
        "      <th>date</th>\n",
        "      <th>month</th>\n",
        "      <th>year</th>\n",
        "      <th>hour</th>\n",
        "      <th>minute</th>\n",
        "      <th>second</th>\n",
        "      <th>jdate</th>\n",
        "      <th>orbit</th>\n",
        "      <th>sundst</th>\n",
        "      <th>sunlat</th>\n",
        "      <th>sunlon</th>\n",
        "      <th>sclk</th>\n",
        "      <th>sclat</th>\n",
        "      <th>sclon</th>\n",
        "      <th>scrad</th>\n",
        "      <th>scalt</th>\n",
        "      <th>el_cmd</th>\n",
        "      <th>az_cmd</th>\n",
        "      <th>af</th>\n",
        "      <th>vert_lat</th>\n",
        "      <th>vert_lon</th>\n",
        "      <th>c</th>\n",
        "      <th>det</th>\n",
        "      <th>vlookx</th>\n",
        "      <th>vlooky</th>\n",
        "      <th>vlookz</th>\n",
        "      <th>radiance</th>\n",
        "      <th>tb</th>\n",
        "      <th>clat</th>\n",
        "      <th>clon</th>\n",
        "      <th>cemis</th>\n",
        "      <th>csunzen</th>\n",
        "      <th>csunazi</th>\n",
        "      <th>cloctime</th>\n",
        "      <th>qca</th>\n",
        "      <th>qge</th>\n",
        "      <th>qmi</th>\n",
        "      <th>qual</th>\n",
        "      <th>sppsx</th>\n",
        "      <th>sppsy</th>\n",
        "      <th>filetimestr</th>\n",
        "      <th>b3_21</th>\n",
        "    </tr>\n",
        "  </thead>\n",
        "  <tbody>\n",
        "    <tr>\n",
        "      <th>2009-07-08 08:07:06.809000</th>\n",
        "      <td> 8</td>\n",
        "      <td> 7</td>\n",
        "      <td> 2009</td>\n",
        "      <td> 8</td>\n",
        "      <td> 7</td>\n",
        "      <td> 6.809</td>\n",
        "      <td> 2455020.838273</td>\n",
        "      <td> 165</td>\n",
        "      <td> 1.01931</td>\n",
        "      <td> 0.4032</td>\n",
        "      <td>-11.01865</td>\n",
        "      <td> 2.687332e+08</td>\n",
        "      <td>-87.131828</td>\n",
        "      <td> 78.004471</td>\n",
        "      <td> 1781.979004</td>\n",
        "      <td> 44.564831</td>\n",
        "      <td> 180</td>\n",
        "      <td> 240</td>\n",
        "      <td> 110</td>\n",
        "      <td> 0.19079</td>\n",
        "      <td> 162.083557</td>\n",
        "      <td> 9</td>\n",
        "      <td> 21</td>\n",
        "      <td> 0.011050</td>\n",
        "      <td>-0.090615</td>\n",
        "      <td> 0.995825</td>\n",
        "      <td> 0.0087</td>\n",
        "      <td> 31.370001</td>\n",
        "      <td>-87.185066</td>\n",
        "      <td> 77.116089</td>\n",
        "      <td> 2.76981</td>\n",
        "      <td> 90.311783</td>\n",
        "      <td> 127.972267</td>\n",
        "      <td> 17.875561</td>\n",
        "      <td> 0</td>\n",
        "      <td> 12</td>\n",
        "      <td> 0</td>\n",
        "      <td> 0</td>\n",
        "      <td> 83.225973</td>\n",
        "      <td> 19.036698</td>\n",
        "      <td> 2009070808</td>\n",
        "      <td> 27.982989</td>\n",
        "    </tr>\n",
        "    <tr>\n",
        "      <th>2009-07-08 08:07:06.937000</th>\n",
        "      <td> 8</td>\n",
        "      <td> 7</td>\n",
        "      <td> 2009</td>\n",
        "      <td> 8</td>\n",
        "      <td> 7</td>\n",
        "      <td> 6.937</td>\n",
        "      <td> 2455020.838275</td>\n",
        "      <td> 165</td>\n",
        "      <td> 1.01931</td>\n",
        "      <td> 0.4032</td>\n",
        "      <td>-11.01867</td>\n",
        "      <td> 2.687332e+08</td>\n",
        "      <td>-87.138763</td>\n",
        "      <td> 78.018127</td>\n",
        "      <td> 1781.978760</td>\n",
        "      <td> 44.564510</td>\n",
        "      <td> 180</td>\n",
        "      <td> 240</td>\n",
        "      <td> 110</td>\n",
        "      <td> 0.19074</td>\n",
        "      <td> 162.083542</td>\n",
        "      <td> 9</td>\n",
        "      <td> 21</td>\n",
        "      <td> 0.011087</td>\n",
        "      <td>-0.090500</td>\n",
        "      <td> 0.995835</td>\n",
        "      <td> 0.0112</td>\n",
        "      <td> 34.043999</td>\n",
        "      <td>-87.192001</td>\n",
        "      <td> 77.127831</td>\n",
        "      <td> 2.76981</td>\n",
        "      <td> 90.312576</td>\n",
        "      <td> 127.971832</td>\n",
        "      <td> 17.876390</td>\n",
        "      <td> 0</td>\n",
        "      <td> 12</td>\n",
        "      <td> 0</td>\n",
        "      <td> 0</td>\n",
        "      <td> 83.024737</td>\n",
        "      <td> 18.972765</td>\n",
        "      <td> 2009070808</td>\n",
        "      <td> 38.477339</td>\n",
        "    </tr>\n",
        "    <tr>\n",
        "      <th>2009-07-08 08:07:07.065000</th>\n",
        "      <td> 8</td>\n",
        "      <td> 7</td>\n",
        "      <td> 2009</td>\n",
        "      <td> 8</td>\n",
        "      <td> 7</td>\n",
        "      <td> 7.065</td>\n",
        "      <td> 2455020.838276</td>\n",
        "      <td> 165</td>\n",
        "      <td> 1.01931</td>\n",
        "      <td> 0.4032</td>\n",
        "      <td>-11.01868</td>\n",
        "      <td> 2.687332e+08</td>\n",
        "      <td>-87.145683</td>\n",
        "      <td> 78.031860</td>\n",
        "      <td> 1781.978394</td>\n",
        "      <td> 44.564190</td>\n",
        "      <td> 180</td>\n",
        "      <td> 240</td>\n",
        "      <td> 110</td>\n",
        "      <td> 0.19071</td>\n",
        "      <td> 162.083572</td>\n",
        "      <td> 9</td>\n",
        "      <td> 21</td>\n",
        "      <td> 0.011123</td>\n",
        "      <td>-0.090386</td>\n",
        "      <td> 0.995845</td>\n",
        "      <td> 0.0112</td>\n",
        "      <td> 34.043999</td>\n",
        "      <td>-87.198936</td>\n",
        "      <td> 77.139633</td>\n",
        "      <td> 2.76986</td>\n",
        "      <td> 90.313393</td>\n",
        "      <td> 127.971046</td>\n",
        "      <td> 17.876940</td>\n",
        "      <td> 0</td>\n",
        "      <td> 12</td>\n",
        "      <td> 0</td>\n",
        "      <td> 0</td>\n",
        "      <td> 82.823500</td>\n",
        "      <td> 18.908827</td>\n",
        "      <td> 2009070808</td>\n",
        "      <td> 43.827239</td>\n",
        "    </tr>\n",
        "    <tr>\n",
        "      <th>2009-07-08 08:07:07.193000</th>\n",
        "      <td> 8</td>\n",
        "      <td> 7</td>\n",
        "      <td> 2009</td>\n",
        "      <td> 8</td>\n",
        "      <td> 7</td>\n",
        "      <td> 7.193</td>\n",
        "      <td> 2455020.838278</td>\n",
        "      <td> 165</td>\n",
        "      <td> 1.01931</td>\n",
        "      <td> 0.4032</td>\n",
        "      <td>-11.01870</td>\n",
        "      <td> 2.687332e+08</td>\n",
        "      <td>-87.152603</td>\n",
        "      <td> 78.045647</td>\n",
        "      <td> 1781.978027</td>\n",
        "      <td> 44.563862</td>\n",
        "      <td> 180</td>\n",
        "      <td> 240</td>\n",
        "      <td> 110</td>\n",
        "      <td> 0.19072</td>\n",
        "      <td> 162.083527</td>\n",
        "      <td> 9</td>\n",
        "      <td> 21</td>\n",
        "      <td> 0.011161</td>\n",
        "      <td>-0.090270</td>\n",
        "      <td> 0.995855</td>\n",
        "      <td> 0.0087</td>\n",
        "      <td> 31.370001</td>\n",
        "      <td>-87.205856</td>\n",
        "      <td> 77.151451</td>\n",
        "      <td> 2.76985</td>\n",
        "      <td> 90.314194</td>\n",
        "      <td> 127.972633</td>\n",
        "      <td> 17.877781</td>\n",
        "      <td> 0</td>\n",
        "      <td> 12</td>\n",
        "      <td> 0</td>\n",
        "      <td> 0</td>\n",
        "      <td> 82.622697</td>\n",
        "      <td> 18.845054</td>\n",
        "      <td> 2009070808</td>\n",
        "      <td> 41.244404</td>\n",
        "    </tr>\n",
        "    <tr>\n",
        "      <th>2009-07-08 08:07:07.321000</th>\n",
        "      <td> 8</td>\n",
        "      <td> 7</td>\n",
        "      <td> 2009</td>\n",
        "      <td> 8</td>\n",
        "      <td> 7</td>\n",
        "      <td> 7.321</td>\n",
        "      <td> 2455020.838279</td>\n",
        "      <td> 165</td>\n",
        "      <td> 1.01931</td>\n",
        "      <td> 0.4032</td>\n",
        "      <td>-11.01872</td>\n",
        "      <td> 2.687332e+08</td>\n",
        "      <td>-87.159523</td>\n",
        "      <td> 78.059509</td>\n",
        "      <td> 1781.977661</td>\n",
        "      <td> 44.563541</td>\n",
        "      <td> 180</td>\n",
        "      <td> 240</td>\n",
        "      <td> 110</td>\n",
        "      <td> 0.19073</td>\n",
        "      <td> 162.083511</td>\n",
        "      <td> 9</td>\n",
        "      <td> 21</td>\n",
        "      <td> 0.011198</td>\n",
        "      <td>-0.090155</td>\n",
        "      <td> 0.995865</td>\n",
        "      <td> 0.0062</td>\n",
        "      <td> 28.287001</td>\n",
        "      <td>-87.212799</td>\n",
        "      <td> 77.163338</td>\n",
        "      <td> 2.76988</td>\n",
        "      <td> 90.314987</td>\n",
        "      <td> 127.973297</td>\n",
        "      <td> 17.878611</td>\n",
        "      <td> 0</td>\n",
        "      <td> 12</td>\n",
        "      <td> 0</td>\n",
        "      <td> 0</td>\n",
        "      <td> 82.421218</td>\n",
        "      <td> 18.781111</td>\n",
        "      <td> 2009070808</td>\n",
        "      <td> 32.058215</td>\n",
        "    </tr>\n",
        "    <tr>\n",
        "      <th>2009-07-08 08:07:07.449000</th>\n",
        "      <td> 8</td>\n",
        "      <td> 7</td>\n",
        "      <td> 2009</td>\n",
        "      <td> 8</td>\n",
        "      <td> 7</td>\n",
        "      <td> 7.449</td>\n",
        "      <td> 2455020.838281</td>\n",
        "      <td> 165</td>\n",
        "      <td> 1.01931</td>\n",
        "      <td> 0.4032</td>\n",
        "      <td>-11.01874</td>\n",
        "      <td> 2.687332e+08</td>\n",
        "      <td>-87.166443</td>\n",
        "      <td> 78.073441</td>\n",
        "      <td> 1781.977295</td>\n",
        "      <td> 44.563221</td>\n",
        "      <td> 180</td>\n",
        "      <td> 240</td>\n",
        "      <td> 110</td>\n",
        "      <td> 0.19074</td>\n",
        "      <td> 162.083542</td>\n",
        "      <td> 9</td>\n",
        "      <td> 21</td>\n",
        "      <td> 0.011235</td>\n",
        "      <td>-0.090041</td>\n",
        "      <td> 0.995875</td>\n",
        "      <td> 0.0087</td>\n",
        "      <td> 31.370001</td>\n",
        "      <td>-87.219727</td>\n",
        "      <td> 77.175293</td>\n",
        "      <td> 2.76996</td>\n",
        "      <td> 90.315788</td>\n",
        "      <td> 127.973068</td>\n",
        "      <td> 17.879440</td>\n",
        "      <td> 0</td>\n",
        "      <td> 12</td>\n",
        "      <td> 0</td>\n",
        "      <td> 0</td>\n",
        "      <td> 82.220189</td>\n",
        "      <td> 18.717257</td>\n",
        "      <td> 2009070808</td>\n",
        "      <td> 38.479295</td>\n",
        "    </tr>\n",
        "    <tr>\n",
        "      <th>2009-07-08 08:07:07.577000</th>\n",
        "      <td> 8</td>\n",
        "      <td> 7</td>\n",
        "      <td> 2009</td>\n",
        "      <td> 8</td>\n",
        "      <td> 7</td>\n",
        "      <td> 7.577</td>\n",
        "      <td> 2455020.838282</td>\n",
        "      <td> 165</td>\n",
        "      <td> 1.01931</td>\n",
        "      <td> 0.4032</td>\n",
        "      <td>-11.01876</td>\n",
        "      <td> 2.687332e+08</td>\n",
        "      <td>-87.173363</td>\n",
        "      <td> 78.087433</td>\n",
        "      <td> 1781.977051</td>\n",
        "      <td> 44.562901</td>\n",
        "      <td> 180</td>\n",
        "      <td> 240</td>\n",
        "      <td> 110</td>\n",
        "      <td> 0.19064</td>\n",
        "      <td> 162.083542</td>\n",
        "      <td> 9</td>\n",
        "      <td> 21</td>\n",
        "      <td> 0.011271</td>\n",
        "      <td>-0.089925</td>\n",
        "      <td> 0.995885</td>\n",
        "      <td> 0.0037</td>\n",
        "      <td> 24.431999</td>\n",
        "      <td>-87.226646</td>\n",
        "      <td> 77.187347</td>\n",
        "      <td> 2.76988</td>\n",
        "      <td> 90.316597</td>\n",
        "      <td> 127.972832</td>\n",
        "      <td> 17.880280</td>\n",
        "      <td> 0</td>\n",
        "      <td> 12</td>\n",
        "      <td> 0</td>\n",
        "      <td> 0</td>\n",
        "      <td> 82.019397</td>\n",
        "      <td> 18.653398</td>\n",
        "      <td> 2009070808</td>\n",
        "      <td> 41.245743</td>\n",
        "    </tr>\n",
        "    <tr>\n",
        "      <th>2009-07-08 08:07:07.705000</th>\n",
        "      <td> 8</td>\n",
        "      <td> 7</td>\n",
        "      <td> 2009</td>\n",
        "      <td> 8</td>\n",
        "      <td> 7</td>\n",
        "      <td> 7.705</td>\n",
        "      <td> 2455020.838284</td>\n",
        "      <td> 165</td>\n",
        "      <td> 1.01931</td>\n",
        "      <td> 0.4032</td>\n",
        "      <td>-11.01877</td>\n",
        "      <td> 2.687332e+08</td>\n",
        "      <td>-87.180283</td>\n",
        "      <td> 78.101501</td>\n",
        "      <td> 1781.976685</td>\n",
        "      <td> 44.562592</td>\n",
        "      <td> 180</td>\n",
        "      <td> 240</td>\n",
        "      <td> 110</td>\n",
        "      <td> 0.19057</td>\n",
        "      <td> 162.083511</td>\n",
        "      <td> 9</td>\n",
        "      <td> 21</td>\n",
        "      <td> 0.011307</td>\n",
        "      <td>-0.089809</td>\n",
        "      <td> 0.995895</td>\n",
        "      <td> 0.0112</td>\n",
        "      <td> 34.043999</td>\n",
        "      <td>-87.233589</td>\n",
        "      <td> 77.199463</td>\n",
        "      <td> 2.76983</td>\n",
        "      <td> 90.317398</td>\n",
        "      <td> 127.972816</td>\n",
        "      <td> 17.881109</td>\n",
        "      <td> 0</td>\n",
        "      <td> 12</td>\n",
        "      <td> 0</td>\n",
        "      <td> 0</td>\n",
        "      <td> 81.817924</td>\n",
        "      <td> 18.589383</td>\n",
        "      <td> 2009070808</td>\n",
        "      <td> 48.610594</td>\n",
        "    </tr>\n",
        "    <tr>\n",
        "      <th>2009-07-08 08:07:07.833000</th>\n",
        "      <td> 8</td>\n",
        "      <td> 7</td>\n",
        "      <td> 2009</td>\n",
        "      <td> 8</td>\n",
        "      <td> 7</td>\n",
        "      <td> 7.833</td>\n",
        "      <td> 2455020.838285</td>\n",
        "      <td> 165</td>\n",
        "      <td> 1.01931</td>\n",
        "      <td> 0.4032</td>\n",
        "      <td>-11.01879</td>\n",
        "      <td> 2.687332e+08</td>\n",
        "      <td>-87.187202</td>\n",
        "      <td> 78.115631</td>\n",
        "      <td> 1781.976318</td>\n",
        "      <td> 44.562271</td>\n",
        "      <td> 180</td>\n",
        "      <td> 240</td>\n",
        "      <td> 110</td>\n",
        "      <td> 0.19054</td>\n",
        "      <td> 162.083466</td>\n",
        "      <td> 9</td>\n",
        "      <td> 21</td>\n",
        "      <td> 0.011344</td>\n",
        "      <td>-0.089693</td>\n",
        "      <td> 0.995905</td>\n",
        "      <td> 0.0137</td>\n",
        "      <td> 36.445000</td>\n",
        "      <td>-87.240517</td>\n",
        "      <td> 77.211609</td>\n",
        "      <td> 2.76982</td>\n",
        "      <td> 90.318199</td>\n",
        "      <td> 127.973183</td>\n",
        "      <td> 17.881941</td>\n",
        "      <td> 0</td>\n",
        "      <td> 12</td>\n",
        "      <td> 0</td>\n",
        "      <td> 0</td>\n",
        "      <td> 81.616890</td>\n",
        "      <td> 18.525513</td>\n",
        "      <td> 2009070808</td>\n",
        "      <td> 41.246635</td>\n",
        "    </tr>\n",
        "    <tr>\n",
        "      <th>2009-07-08 08:07:07.961000</th>\n",
        "      <td> 8</td>\n",
        "      <td> 7</td>\n",
        "      <td> 2009</td>\n",
        "      <td> 8</td>\n",
        "      <td> 7</td>\n",
        "      <td> 7.961</td>\n",
        "      <td> 2455020.838287</td>\n",
        "      <td> 165</td>\n",
        "      <td> 1.01931</td>\n",
        "      <td> 0.4032</td>\n",
        "      <td>-11.01881</td>\n",
        "      <td> 2.687332e+08</td>\n",
        "      <td>-87.194122</td>\n",
        "      <td> 78.129829</td>\n",
        "      <td> 1781.975952</td>\n",
        "      <td> 44.561951</td>\n",
        "      <td> 180</td>\n",
        "      <td> 240</td>\n",
        "      <td> 110</td>\n",
        "      <td> 0.19049</td>\n",
        "      <td> 162.083466</td>\n",
        "      <td> 9</td>\n",
        "      <td> 21</td>\n",
        "      <td> 0.011380</td>\n",
        "      <td>-0.089578</td>\n",
        "      <td> 0.995915</td>\n",
        "      <td> 0.0137</td>\n",
        "      <td> 36.445000</td>\n",
        "      <td>-87.247437</td>\n",
        "      <td> 77.223824</td>\n",
        "      <td> 2.76979</td>\n",
        "      <td> 90.319008</td>\n",
        "      <td> 127.973183</td>\n",
        "      <td> 17.882780</td>\n",
        "      <td> 0</td>\n",
        "      <td> 12</td>\n",
        "      <td> 0</td>\n",
        "      <td> 0</td>\n",
        "      <td> 81.416081</td>\n",
        "      <td> 18.461683</td>\n",
        "      <td> 2009070808</td>\n",
        "      <td> 48.611347</td>\n",
        "    </tr>\n",
        "    <tr>\n",
        "      <th></th>\n",
        "      <td>...</td>\n",
        "      <td>...</td>\n",
        "      <td>...</td>\n",
        "      <td>...</td>\n",
        "      <td>...</td>\n",
        "      <td>...</td>\n",
        "      <td>...</td>\n",
        "      <td>...</td>\n",
        "      <td>...</td>\n",
        "      <td>...</td>\n",
        "      <td>...</td>\n",
        "      <td>...</td>\n",
        "      <td>...</td>\n",
        "      <td>...</td>\n",
        "      <td>...</td>\n",
        "      <td>...</td>\n",
        "      <td>...</td>\n",
        "      <td>...</td>\n",
        "      <td>...</td>\n",
        "      <td>...</td>\n",
        "      <td>...</td>\n",
        "      <td>...</td>\n",
        "      <td>...</td>\n",
        "      <td>...</td>\n",
        "      <td>...</td>\n",
        "      <td>...</td>\n",
        "      <td>...</td>\n",
        "      <td>...</td>\n",
        "      <td>...</td>\n",
        "      <td>...</td>\n",
        "      <td>...</td>\n",
        "      <td>...</td>\n",
        "      <td>...</td>\n",
        "      <td>...</td>\n",
        "      <td>...</td>\n",
        "      <td>...</td>\n",
        "      <td>...</td>\n",
        "      <td>...</td>\n",
        "      <td>...</td>\n",
        "      <td>...</td>\n",
        "      <td>...</td>\n",
        "      <td>...</td>\n",
        "    </tr>\n",
        "  </tbody>\n",
        "</table>\n",
        "<p>12 rows \u00d7 42 columns</p>\n",
        "</div>"
       ],
       "metadata": {},
       "output_type": "pyout",
       "prompt_number": 141,
       "text": [
        "                           date month  year hour minute second  \\\n",
        "2009-07-08 08:07:06.809000    8     7  2009    8      7  6.809   \n",
        "2009-07-08 08:07:06.937000    8     7  2009    8      7  6.937   \n",
        "2009-07-08 08:07:07.065000    8     7  2009    8      7  7.065   \n",
        "2009-07-08 08:07:07.193000    8     7  2009    8      7  7.193   \n",
        "2009-07-08 08:07:07.321000    8     7  2009    8      7  7.321   \n",
        "2009-07-08 08:07:07.449000    8     7  2009    8      7  7.449   \n",
        "2009-07-08 08:07:07.577000    8     7  2009    8      7  7.577   \n",
        "2009-07-08 08:07:07.705000    8     7  2009    8      7  7.705   \n",
        "2009-07-08 08:07:07.833000    8     7  2009    8      7  7.833   \n",
        "2009-07-08 08:07:07.961000    8     7  2009    8      7  7.961   \n",
        "                            ...   ...   ...  ...    ...    ...   \n",
        "\n",
        "                                     jdate  orbit   sundst  sunlat    sunlon  \\\n",
        "2009-07-08 08:07:06.809000  2455020.838273    165  1.01931  0.4032 -11.01865   \n",
        "2009-07-08 08:07:06.937000  2455020.838275    165  1.01931  0.4032 -11.01867   \n",
        "2009-07-08 08:07:07.065000  2455020.838276    165  1.01931  0.4032 -11.01868   \n",
        "2009-07-08 08:07:07.193000  2455020.838278    165  1.01931  0.4032 -11.01870   \n",
        "2009-07-08 08:07:07.321000  2455020.838279    165  1.01931  0.4032 -11.01872   \n",
        "2009-07-08 08:07:07.449000  2455020.838281    165  1.01931  0.4032 -11.01874   \n",
        "2009-07-08 08:07:07.577000  2455020.838282    165  1.01931  0.4032 -11.01876   \n",
        "2009-07-08 08:07:07.705000  2455020.838284    165  1.01931  0.4032 -11.01877   \n",
        "2009-07-08 08:07:07.833000  2455020.838285    165  1.01931  0.4032 -11.01879   \n",
        "2009-07-08 08:07:07.961000  2455020.838287    165  1.01931  0.4032 -11.01881   \n",
        "                                       ...    ...      ...     ...       ...   \n",
        "\n",
        "                                    sclk      sclat      sclon        scrad  \\\n",
        "2009-07-08 08:07:06.809000  2.687332e+08 -87.131828  78.004471  1781.979004   \n",
        "2009-07-08 08:07:06.937000  2.687332e+08 -87.138763  78.018127  1781.978760   \n",
        "2009-07-08 08:07:07.065000  2.687332e+08 -87.145683  78.031860  1781.978394   \n",
        "2009-07-08 08:07:07.193000  2.687332e+08 -87.152603  78.045647  1781.978027   \n",
        "2009-07-08 08:07:07.321000  2.687332e+08 -87.159523  78.059509  1781.977661   \n",
        "2009-07-08 08:07:07.449000  2.687332e+08 -87.166443  78.073441  1781.977295   \n",
        "2009-07-08 08:07:07.577000  2.687332e+08 -87.173363  78.087433  1781.977051   \n",
        "2009-07-08 08:07:07.705000  2.687332e+08 -87.180283  78.101501  1781.976685   \n",
        "2009-07-08 08:07:07.833000  2.687332e+08 -87.187202  78.115631  1781.976318   \n",
        "2009-07-08 08:07:07.961000  2.687332e+08 -87.194122  78.129829  1781.975952   \n",
        "                                     ...        ...        ...          ...   \n",
        "\n",
        "                                scalt  el_cmd  az_cmd   af  vert_lat  \\\n",
        "2009-07-08 08:07:06.809000  44.564831     180     240  110   0.19079   \n",
        "2009-07-08 08:07:06.937000  44.564510     180     240  110   0.19074   \n",
        "2009-07-08 08:07:07.065000  44.564190     180     240  110   0.19071   \n",
        "2009-07-08 08:07:07.193000  44.563862     180     240  110   0.19072   \n",
        "2009-07-08 08:07:07.321000  44.563541     180     240  110   0.19073   \n",
        "2009-07-08 08:07:07.449000  44.563221     180     240  110   0.19074   \n",
        "2009-07-08 08:07:07.577000  44.562901     180     240  110   0.19064   \n",
        "2009-07-08 08:07:07.705000  44.562592     180     240  110   0.19057   \n",
        "2009-07-08 08:07:07.833000  44.562271     180     240  110   0.19054   \n",
        "2009-07-08 08:07:07.961000  44.561951     180     240  110   0.19049   \n",
        "                                  ...     ...     ...  ...       ...   \n",
        "\n",
        "                              vert_lon  c  det    vlookx    vlooky    vlookz  \\\n",
        "2009-07-08 08:07:06.809000  162.083557  9   21  0.011050 -0.090615  0.995825   \n",
        "2009-07-08 08:07:06.937000  162.083542  9   21  0.011087 -0.090500  0.995835   \n",
        "2009-07-08 08:07:07.065000  162.083572  9   21  0.011123 -0.090386  0.995845   \n",
        "2009-07-08 08:07:07.193000  162.083527  9   21  0.011161 -0.090270  0.995855   \n",
        "2009-07-08 08:07:07.321000  162.083511  9   21  0.011198 -0.090155  0.995865   \n",
        "2009-07-08 08:07:07.449000  162.083542  9   21  0.011235 -0.090041  0.995875   \n",
        "2009-07-08 08:07:07.577000  162.083542  9   21  0.011271 -0.089925  0.995885   \n",
        "2009-07-08 08:07:07.705000  162.083511  9   21  0.011307 -0.089809  0.995895   \n",
        "2009-07-08 08:07:07.833000  162.083466  9   21  0.011344 -0.089693  0.995905   \n",
        "2009-07-08 08:07:07.961000  162.083466  9   21  0.011380 -0.089578  0.995915   \n",
        "                                   ... ..  ...       ...       ...       ...   \n",
        "\n",
        "                            radiance         tb       clat       clon  \\\n",
        "2009-07-08 08:07:06.809000    0.0087  31.370001 -87.185066  77.116089   \n",
        "2009-07-08 08:07:06.937000    0.0112  34.043999 -87.192001  77.127831   \n",
        "2009-07-08 08:07:07.065000    0.0112  34.043999 -87.198936  77.139633   \n",
        "2009-07-08 08:07:07.193000    0.0087  31.370001 -87.205856  77.151451   \n",
        "2009-07-08 08:07:07.321000    0.0062  28.287001 -87.212799  77.163338   \n",
        "2009-07-08 08:07:07.449000    0.0087  31.370001 -87.219727  77.175293   \n",
        "2009-07-08 08:07:07.577000    0.0037  24.431999 -87.226646  77.187347   \n",
        "2009-07-08 08:07:07.705000    0.0112  34.043999 -87.233589  77.199463   \n",
        "2009-07-08 08:07:07.833000    0.0137  36.445000 -87.240517  77.211609   \n",
        "2009-07-08 08:07:07.961000    0.0137  36.445000 -87.247437  77.223824   \n",
        "                                 ...        ...        ...        ...   \n",
        "\n",
        "                              cemis    csunzen     csunazi   cloctime  qca  \\\n",
        "2009-07-08 08:07:06.809000  2.76981  90.311783  127.972267  17.875561    0   \n",
        "2009-07-08 08:07:06.937000  2.76981  90.312576  127.971832  17.876390    0   \n",
        "2009-07-08 08:07:07.065000  2.76986  90.313393  127.971046  17.876940    0   \n",
        "2009-07-08 08:07:07.193000  2.76985  90.314194  127.972633  17.877781    0   \n",
        "2009-07-08 08:07:07.321000  2.76988  90.314987  127.973297  17.878611    0   \n",
        "2009-07-08 08:07:07.449000  2.76996  90.315788  127.973068  17.879440    0   \n",
        "2009-07-08 08:07:07.577000  2.76988  90.316597  127.972832  17.880280    0   \n",
        "2009-07-08 08:07:07.705000  2.76983  90.317398  127.972816  17.881109    0   \n",
        "2009-07-08 08:07:07.833000  2.76982  90.318199  127.973183  17.881941    0   \n",
        "2009-07-08 08:07:07.961000  2.76979  90.319008  127.973183  17.882780    0   \n",
        "                                ...        ...         ...        ...  ...   \n",
        "\n",
        "                            qge  qmi  qual      sppsx      sppsy filetimestr  \\\n",
        "2009-07-08 08:07:06.809000   12    0     0  83.225973  19.036698  2009070808   \n",
        "2009-07-08 08:07:06.937000   12    0     0  83.024737  18.972765  2009070808   \n",
        "2009-07-08 08:07:07.065000   12    0     0  82.823500  18.908827  2009070808   \n",
        "2009-07-08 08:07:07.193000   12    0     0  82.622697  18.845054  2009070808   \n",
        "2009-07-08 08:07:07.321000   12    0     0  82.421218  18.781111  2009070808   \n",
        "2009-07-08 08:07:07.449000   12    0     0  82.220189  18.717257  2009070808   \n",
        "2009-07-08 08:07:07.577000   12    0     0  82.019397  18.653398  2009070808   \n",
        "2009-07-08 08:07:07.705000   12    0     0  81.817924  18.589383  2009070808   \n",
        "2009-07-08 08:07:07.833000   12    0     0  81.616890  18.525513  2009070808   \n",
        "2009-07-08 08:07:07.961000   12    0     0  81.416081  18.461683  2009070808   \n",
        "                            ...  ...   ...        ...        ...         ...   \n",
        "\n",
        "                                b3_21  \n",
        "2009-07-08 08:07:06.809000  27.982989  \n",
        "2009-07-08 08:07:06.937000  38.477339  \n",
        "2009-07-08 08:07:07.065000  43.827239  \n",
        "2009-07-08 08:07:07.193000  41.244404  \n",
        "2009-07-08 08:07:07.321000  32.058215  \n",
        "2009-07-08 08:07:07.449000  38.479295  \n",
        "2009-07-08 08:07:07.577000  41.245743  \n",
        "2009-07-08 08:07:07.705000  48.610594  \n",
        "2009-07-08 08:07:07.833000  41.246635  \n",
        "2009-07-08 08:07:07.961000  48.611347  \n",
        "                                  ...  \n",
        "\n",
        "[12 rows x 42 columns]"
       ]
      }
     ],
     "prompt_number": 141
    },
    {
     "cell_type": "code",
     "collapsed": false,
     "input": [
      "sp1det21.merge?"
     ],
     "language": "python",
     "metadata": {},
     "outputs": [],
     "prompt_number": 143
    },
    {
     "cell_type": "code",
     "collapsed": false,
     "input": [
      "for i,df in enumerate(sps):\n",
      "    print i\n",
      "    if t in df.filetimestr.tolist():\n",
      "        subdf = df[df.filetimestr == t]\n",
      "        print subdf['det tb'.split()]"
     ],
     "language": "python",
     "metadata": {},
     "outputs": [
      {
       "output_type": "stream",
       "stream": "stdout",
       "text": [
        "0\n",
        "                            det         tb\n",
        "2009-07-08 08:07:06.809000   21  31.370001\n",
        "2009-07-08 08:07:06.937000   19  26.662001\n",
        "2009-07-08 08:07:06.937000   20  31.226999\n",
        "2009-07-08 08:07:06.937000   21  34.043999\n",
        "2009-07-08 08:07:07.065000   17  37.875000\n",
        "2009-07-08 08:07:07.065000   18  39.617001\n",
        "2009-07-08 08:07:07.065000   19  37.088001\n",
        "2009-07-08 08:07:07.065000   20  33.666000\n",
        "2009-07-08 08:07:07.065000   21  34.043999\n",
        "2009-07-08 08:07:07.193000   16  25.747000\n",
        "                            ...        ...\n",
        "\n",
        "[56 rows x 2 columns]\n",
        "1\n",
        "2\n"
       ]
      }
     ],
     "prompt_number": 15
    },
    {
     "cell_type": "code",
     "collapsed": false,
     "input": [
      "t"
     ],
     "language": "python",
     "metadata": {},
     "outputs": [
      {
       "metadata": {},
       "output_type": "pyout",
       "prompt_number": 16,
       "text": [
        "'2009070808'"
       ]
      }
     ],
     "prompt_number": 16
    },
    {
     "cell_type": "code",
     "collapsed": false,
     "input": [
      "idx = sps[0]['2009-07-08 08:07'].index"
     ],
     "language": "python",
     "metadata": {},
     "outputs": [],
     "prompt_number": 17
    },
    {
     "cell_type": "code",
     "collapsed": false,
     "input": [
      "c.Tb.b3_21.loc[idx]"
     ],
     "language": "python",
     "metadata": {},
     "outputs": [
      {
       "metadata": {},
       "output_type": "pyout",
       "prompt_number": 18,
       "text": [
        "2009-07-08 08:07:06.809000    27.982989\n",
        "2009-07-08 08:07:06.937000    38.477339\n",
        "2009-07-08 08:07:06.937000    38.477339\n",
        "...\n",
        "2009-07-08 08:07:08.089000    48.611724\n",
        "2009-07-08 08:07:08.217000    41.247974\n",
        "2009-07-08 08:07:08.217000    41.247974\n",
        "Name: b3_21, Length: 56"
       ]
      }
     ],
     "prompt_number": 18
    },
    {
     "cell_type": "code",
     "collapsed": false,
     "input": [
      "fu.open_and_accumulate(l1a.fname)"
     ],
     "language": "python",
     "metadata": {},
     "outputs": [
      {
       "output_type": "stream",
       "stream": "stdout",
       "text": [
        "Appending 2010060418 on the left.\n",
        "Appending 2010060420 on the right."
       ]
      },
      {
       "output_type": "stream",
       "stream": "stdout",
       "text": [
        "\n"
       ]
      },
      {
       "html": [
        "<div style=\"max-height:1000px;max-width:1500px;overflow:auto;\">\n",
        "<table border=\"1\" class=\"dataframe\">\n",
        "  <thead>\n",
        "    <tr style=\"text-align: right;\">\n",
        "      <th></th>\n",
        "      <th>a1_01</th>\n",
        "      <th>a1_02</th>\n",
        "      <th>a1_03</th>\n",
        "      <th>a1_04</th>\n",
        "      <th>a1_05</th>\n",
        "      <th>a1_06</th>\n",
        "      <th>a1_07</th>\n",
        "      <th>a1_08</th>\n",
        "      <th>a1_09</th>\n",
        "      <th>a1_10</th>\n",
        "      <th></th>\n",
        "    </tr>\n",
        "  </thead>\n",
        "  <tbody>\n",
        "    <tr>\n",
        "      <th>2010-06-04 18:00:00.363000</th>\n",
        "      <td> 25903</td>\n",
        "      <td> 26196</td>\n",
        "      <td> 26391</td>\n",
        "      <td> 26324</td>\n",
        "      <td> 26609</td>\n",
        "      <td> 26400</td>\n",
        "      <td> 26327</td>\n",
        "      <td> 26253</td>\n",
        "      <td> 26171</td>\n",
        "      <td> 26235</td>\n",
        "      <td>...</td>\n",
        "    </tr>\n",
        "    <tr>\n",
        "      <th>2010-06-04 18:00:00.491000</th>\n",
        "      <td> 26224</td>\n",
        "      <td> 26263</td>\n",
        "      <td> 26321</td>\n",
        "      <td> 26350</td>\n",
        "      <td> 26450</td>\n",
        "      <td> 26422</td>\n",
        "      <td> 26395</td>\n",
        "      <td> 26240</td>\n",
        "      <td> 26350</td>\n",
        "      <td> 26196</td>\n",
        "      <td>...</td>\n",
        "    </tr>\n",
        "    <tr>\n",
        "      <th>2010-06-04 18:00:00.619000</th>\n",
        "      <td> 26189</td>\n",
        "      <td> 26277</td>\n",
        "      <td> 26331</td>\n",
        "      <td> 26345</td>\n",
        "      <td> 26260</td>\n",
        "      <td> 26347</td>\n",
        "      <td> 26466</td>\n",
        "      <td> 26112</td>\n",
        "      <td> 26446</td>\n",
        "      <td> 26377</td>\n",
        "      <td>...</td>\n",
        "    </tr>\n",
        "    <tr>\n",
        "      <th>2010-06-04 18:00:00.747000</th>\n",
        "      <td> 26196</td>\n",
        "      <td> 26123</td>\n",
        "      <td> 26294</td>\n",
        "      <td> 26500</td>\n",
        "      <td> 26050</td>\n",
        "      <td> 26417</td>\n",
        "      <td> 26571</td>\n",
        "      <td> 26002</td>\n",
        "      <td> 26303</td>\n",
        "      <td> 26583</td>\n",
        "      <td>...</td>\n",
        "    </tr>\n",
        "    <tr>\n",
        "      <th>2010-06-04 18:00:00.875000</th>\n",
        "      <td> 25984</td>\n",
        "      <td> 25966</td>\n",
        "      <td> 26236</td>\n",
        "      <td> 26542</td>\n",
        "      <td> 25970</td>\n",
        "      <td> 26472</td>\n",
        "      <td> 26560</td>\n",
        "      <td> 26053</td>\n",
        "      <td> 26280</td>\n",
        "      <td> 26412</td>\n",
        "      <td>...</td>\n",
        "    </tr>\n",
        "    <tr>\n",
        "      <th>2010-06-04 18:00:01.003000</th>\n",
        "      <td> 25576</td>\n",
        "      <td> 25784</td>\n",
        "      <td> 26274</td>\n",
        "      <td> 26297</td>\n",
        "      <td> 26195</td>\n",
        "      <td> 26378</td>\n",
        "      <td> 26507</td>\n",
        "      <td> 26128</td>\n",
        "      <td> 26386</td>\n",
        "      <td> 26205</td>\n",
        "      <td>...</td>\n",
        "    </tr>\n",
        "    <tr>\n",
        "      <th>2010-06-04 18:00:01.131000</th>\n",
        "      <td> 25559</td>\n",
        "      <td> 26023</td>\n",
        "      <td> 26235</td>\n",
        "      <td> 26324</td>\n",
        "      <td> 26350</td>\n",
        "      <td> 26160</td>\n",
        "      <td> 26660</td>\n",
        "      <td> 26113</td>\n",
        "      <td> 26431</td>\n",
        "      <td> 26025</td>\n",
        "      <td>...</td>\n",
        "    </tr>\n",
        "    <tr>\n",
        "      <th>2010-06-04 18:00:01.259000</th>\n",
        "      <td> 25850</td>\n",
        "      <td> 26166</td>\n",
        "      <td> 26282</td>\n",
        "      <td> 26493</td>\n",
        "      <td> 26162</td>\n",
        "      <td> 25948</td>\n",
        "      <td> 26835</td>\n",
        "      <td> 26004</td>\n",
        "      <td> 26426</td>\n",
        "      <td> 26000</td>\n",
        "      <td>...</td>\n",
        "    </tr>\n",
        "    <tr>\n",
        "      <th>2010-06-04 18:00:01.387000</th>\n",
        "      <td> 26149</td>\n",
        "      <td> 26118</td>\n",
        "      <td> 26297</td>\n",
        "      <td> 26587</td>\n",
        "      <td> 25859</td>\n",
        "      <td> 25993</td>\n",
        "      <td> 26765</td>\n",
        "      <td> 26139</td>\n",
        "      <td> 26284</td>\n",
        "      <td> 26119</td>\n",
        "      <td>...</td>\n",
        "    </tr>\n",
        "    <tr>\n",
        "      <th>2010-06-04 18:00:01.515000</th>\n",
        "      <td> 26151</td>\n",
        "      <td> 26320</td>\n",
        "      <td> 26223</td>\n",
        "      <td> 26747</td>\n",
        "      <td> 25801</td>\n",
        "      <td> 26061</td>\n",
        "      <td> 26664</td>\n",
        "      <td> 26355</td>\n",
        "      <td> 26229</td>\n",
        "      <td> 26371</td>\n",
        "      <td>...</td>\n",
        "    </tr>\n",
        "    <tr>\n",
        "      <th></th>\n",
        "      <td>...</td>\n",
        "      <td>...</td>\n",
        "      <td>...</td>\n",
        "      <td>...</td>\n",
        "      <td>...</td>\n",
        "      <td>...</td>\n",
        "      <td>...</td>\n",
        "      <td>...</td>\n",
        "      <td>...</td>\n",
        "      <td>...</td>\n",
        "    </tr>\n",
        "  </tbody>\n",
        "</table>\n",
        "<p>84384 rows \u00d7 257 columns</p>\n",
        "</div>"
       ],
       "metadata": {},
       "output_type": "pyout",
       "prompt_number": 61,
       "text": [
        "                            a1_01  a1_02  a1_03  a1_04  a1_05  a1_06  a1_07  \\\n",
        "2010-06-04 18:00:00.363000  25903  26196  26391  26324  26609  26400  26327   \n",
        "2010-06-04 18:00:00.491000  26224  26263  26321  26350  26450  26422  26395   \n",
        "2010-06-04 18:00:00.619000  26189  26277  26331  26345  26260  26347  26466   \n",
        "2010-06-04 18:00:00.747000  26196  26123  26294  26500  26050  26417  26571   \n",
        "2010-06-04 18:00:00.875000  25984  25966  26236  26542  25970  26472  26560   \n",
        "2010-06-04 18:00:01.003000  25576  25784  26274  26297  26195  26378  26507   \n",
        "2010-06-04 18:00:01.131000  25559  26023  26235  26324  26350  26160  26660   \n",
        "2010-06-04 18:00:01.259000  25850  26166  26282  26493  26162  25948  26835   \n",
        "2010-06-04 18:00:01.387000  26149  26118  26297  26587  25859  25993  26765   \n",
        "2010-06-04 18:00:01.515000  26151  26320  26223  26747  25801  26061  26664   \n",
        "                              ...    ...    ...    ...    ...    ...    ...   \n",
        "\n",
        "                            a1_08  a1_09  a1_10      \n",
        "2010-06-04 18:00:00.363000  26253  26171  26235 ...  \n",
        "2010-06-04 18:00:00.491000  26240  26350  26196 ...  \n",
        "2010-06-04 18:00:00.619000  26112  26446  26377 ...  \n",
        "2010-06-04 18:00:00.747000  26002  26303  26583 ...  \n",
        "2010-06-04 18:00:00.875000  26053  26280  26412 ...  \n",
        "2010-06-04 18:00:01.003000  26128  26386  26205 ...  \n",
        "2010-06-04 18:00:01.131000  26113  26431  26025 ...  \n",
        "2010-06-04 18:00:01.259000  26004  26426  26000 ...  \n",
        "2010-06-04 18:00:01.387000  26139  26284  26119 ...  \n",
        "2010-06-04 18:00:01.515000  26355  26229  26371 ...  \n",
        "                              ...    ...    ...      \n",
        "\n",
        "[84384 rows x 257 columns]"
       ]
      }
     ],
     "prompt_number": 61
    },
    {
     "cell_type": "code",
     "collapsed": false,
     "input": [],
     "language": "python",
     "metadata": {},
     "outputs": []
    }
   ],
   "metadata": {}
  }
 ]
}