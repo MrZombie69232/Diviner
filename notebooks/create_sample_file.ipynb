{
 "metadata": {
  "name": ""
 },
 "nbformat": 3,
 "nbformat_minor": 0,
 "worksheets": [
  {
   "cells": [
    {
     "cell_type": "code",
     "collapsed": false,
     "input": [
      "from collections import OrderedDict\n",
      "from diviner import file_utils as fu\n",
      "import datetime as dt\n",
      "import pandas as pd\n",
      "from diviner import write_formatters as wf\n",
      "reload(wf)\n",
      "reload(fu)"
     ],
     "language": "python",
     "metadata": {},
     "outputs": [
      {
       "metadata": {},
       "output_type": "pyout",
       "prompt_number": 476,
       "text": [
        "<module 'diviner.file_utils' from '/Users/maye/Dropbox/src/diviner/file_utils.pyc'>"
       ]
      }
     ],
     "prompt_number": 476
    },
    {
     "cell_type": "code",
     "collapsed": false,
     "input": [
      "rdr = fu.RDRReader('/Users/maye/data/diviner/opsRDR/')"
     ],
     "language": "python",
     "metadata": {},
     "outputs": [],
     "prompt_number": 451
    },
    {
     "cell_type": "code",
     "collapsed": false,
     "input": [
      "df = rdr.read_df()"
     ],
     "language": "python",
     "metadata": {},
     "outputs": [],
     "prompt_number": 452
    },
    {
     "cell_type": "code",
     "collapsed": false,
     "input": [
      "exdf = pd.DataFrame([[\"aoe\",12,3.14],[\"qjk\",34,5.67]])\n",
      "exdf.columns = list('abc')\n",
      "#exdf = exdf.reindex(columns=reversed(list('abc')))\n",
      "def a(inp):\n",
      "    return '{:>3s},'.format(inp)\n",
      "def b(inp):\n",
      "    return '{:2d},'.format(inp)\n",
      "def c(inp):\n",
      "    return '{:3.2f},'.format(inp)\n",
      "print repr(exdf.to_string(#formatters={'a':a,'b':b,'c':c},\n",
      "                          index=False,header=False))\n",
      "pd.__version__"
     ],
     "language": "python",
     "metadata": {},
     "outputs": [
      {
       "output_type": "stream",
       "stream": "stdout",
       "text": [
        "u' aoe  12  3.14\\n qjk  34  5.67'\n"
       ]
      },
      {
       "metadata": {},
       "output_type": "pyout",
       "prompt_number": 456,
       "text": [
        "'0.12.0.dev-6a0b9ec'"
       ]
      }
     ],
     "prompt_number": 456
    },
    {
     "cell_type": "code",
     "collapsed": false,
     "input": [
      "for line in exdf.values:\n",
      "    print repr(\"{:>11s}, {:2d}, {:3.2f}\".format(*line))"
     ],
     "language": "python",
     "metadata": {},
     "outputs": [
      {
       "output_type": "stream",
       "stream": "stdout",
       "text": [
        "'        aoe, 12, 3.14'\n",
        "'        qjk, 34, 5.67'\n"
       ]
      }
     ],
     "prompt_number": 455
    },
    {
     "cell_type": "code",
     "collapsed": false,
     "input": [
      "for data in df.values:\n",
      "    print repr('\"{:>11s}\", \"{:12s}\", {:17.9f}'.format(*data[:4]))\n"
     ],
     "language": "python",
     "metadata": {},
     "outputs": [
      {
       "output_type": "stream",
       "stream": "stdout",
       "text": [
        "'\"22-May-2013\", \"05:00:00.103\", 2456434.708334527'\n",
        "'\"22-May-2013\", \"05:00:00.103\", 2456434.708334527'\n",
        "'\"22-May-2013\", \"05:00:00.103\", 2456434.708334527'\n",
        "'\"22-May-2013\", \"05:00:00.103\", 2456434.708334527'\n",
        "'\"22-May-2013\", \"05:00:00.103\", 2456434.708334527'\n",
        "'\"22-May-2013\", \"05:00:00.103\", 2456434.708334527'\n",
        "'\"22-May-2013\", \"05:00:00.103\", 2456434.708334527'\n",
        "'\"22-May-2013\", \"05:00:00.103\", 2456434.708334527'\n",
        "'\"22-May-2013\", \"05:00:00.103\", 2456434.708334527'\n"
       ]
      }
     ],
     "prompt_number": 457
    },
    {
     "cell_type": "code",
     "collapsed": false,
     "input": [
      "format_list = wf.format_list\n",
      "format_list"
     ],
     "language": "python",
     "metadata": {},
     "outputs": [
      {
       "metadata": {},
       "output_type": "pyout",
       "prompt_number": 477,
       "text": [
        "[('date', '\"{:>11s}\"'),\n",
        " ('utc', '\"{:>12s}\"'),\n",
        " ('jdate', '{:17.9f}'),\n",
        " ('orbit', '{:5d}'),\n",
        " ('sundist', '{:7.5f}'),\n",
        " ('sunlat', '{:8.5f}'),\n",
        " ('sunlon', '{:9.5f}'),\n",
        " ('sclk', '{:16.5f}'),\n",
        " ('sclat', '{:9.5f}'),\n",
        " ('sclon', '{:9.5f}'),\n",
        " ('scrad', '{:11.5f}'),\n",
        " ('scalt', '{:11.5f}'),\n",
        " ('el_cmd', '{:7.3f}'),\n",
        " ('az_cmd', '{:7.3f}'),\n",
        " ('af', '{:4d}'),\n",
        " ('orientlat', '{:9.5f}'),\n",
        " ('orientlon', '{:9.5f}'),\n",
        " ('c', '{:1d}'),\n",
        " ('det', '{:3d}'),\n",
        " ('vlookx', '{:9.6f}'),\n",
        " ('vlooky', '{:9.6f}'),\n",
        " ('vlookz', '{:9.6f}'),\n",
        " ('radiance', '{:10.4f}'),\n",
        " ('tb', '{:8.3f}'),\n",
        " ('clat', '{:9.5f}'),\n",
        " ('clon', '{:9.5f}'),\n",
        " ('cemis', '{:9.5f}'),\n",
        " ('csunzen', '{:9.5f}'),\n",
        " ('csunazi', '{:9.5f}'),\n",
        " ('cloctime', '{:8.5f}'),\n",
        " ('cphase', '{:9.5f}'),\n",
        " ('roi', '{:4d}'),\n",
        " ('o', '{:1d}'),\n",
        " ('v', '{:1d}'),\n",
        " ('i', '{:1d}'),\n",
        " ('m', '{:1d}'),\n",
        " ('q', '{:1d}'),\n",
        " ('p', '{:1d}'),\n",
        " ('e', '{:1d}'),\n",
        " ('z', '{:1d}'),\n",
        " ('t', '{:1d}'),\n",
        " ('h', '{:1d}'),\n",
        " ('d', '{:1d}'),\n",
        " ('n', '{:1d}'),\n",
        " ('s', '{:1d}'),\n",
        " ('a', '{:1d}'),\n",
        " ('b', '{:1d}')]"
       ]
      }
     ],
     "prompt_number": 477
    },
    {
     "cell_type": "code",
     "collapsed": false,
     "input": [
      "fmts = [i[1] for i in format_list]"
     ],
     "language": "python",
     "metadata": {},
     "outputs": [],
     "prompt_number": 478
    },
    {
     "cell_type": "code",
     "collapsed": false,
     "input": [
      "', '.join(fmts)"
     ],
     "language": "python",
     "metadata": {},
     "outputs": [
      {
       "metadata": {},
       "output_type": "pyout",
       "prompt_number": 479,
       "text": [
        "'\"{:>11s}\", \"{:>12s}\", {:17.9f}, {:5d}, {:7.5f}, {:8.5f}, {:9.5f}, {:16.5f}, {:9.5f}, {:9.5f}, {:11.5f}, {:11.5f}, {:7.3f}, {:7.3f}, {:4d}, {:9.5f}, {:9.5f}, {:1d}, {:3d}, {:9.6f}, {:9.6f}, {:9.6f}, {:10.4f}, {:8.3f}, {:9.5f}, {:9.5f}, {:9.5f}, {:9.5f}, {:9.5f}, {:8.5f}, {:9.5f}, {:4d}, {:1d}, {:1d}, {:1d}, {:1d}, {:1d}, {:1d}, {:1d}, {:1d}, {:1d}, {:1d}, {:1d}, {:1d}, {:1d}, {:1d}, {:1d}'"
       ]
      }
     ],
     "prompt_number": 479
    },
    {
     "cell_type": "code",
     "collapsed": false,
     "input": [
      "df.columns"
     ],
     "language": "python",
     "metadata": {},
     "outputs": [
      {
       "metadata": {},
       "output_type": "pyout",
       "prompt_number": 480,
       "text": [
        "Index([u'date', u'utc', u'jdate', u'orbit', u'sundist', u'sunlat', u'sunlon', u'sclk', u'sclat', u'sclon', u'scrad', u'scalt', u'el_cmd', u'az_cmd', u'af', u'orientlat', u'orientlon', u'c', u'det', u'vlookx', u'vlooky', u'vlookz', u'radiance', u'tb', u'clat', u'clon', u'cemis', u'csunzen', u'csunazi', u'cloctime', u'cphase', u'roi', u'o', u'v', u'i', u'm', u'q', u'p', u'e', u'z', u't', u'h', u'd', u'n', u's', u'a', u'b'], dtype=object)"
       ]
      }
     ],
     "prompt_number": 480
    },
    {
     "cell_type": "code",
     "collapsed": true,
     "input": [
      "df = df.drop(['qca','qge','qmi'],axis=1)"
     ],
     "language": "python",
     "metadata": {},
     "outputs": [],
     "prompt_number": 462
    },
    {
     "cell_type": "code",
     "collapsed": true,
     "input": [
      "df['cphase']=123.45678\n",
      "df['roi' ] = 1234\n",
      "flags = ['o', 'v', 'i', 'm', 'q', 'p', 'e', 'z', 't', 'h', 'd', 'n', \n",
      "         's', 'a', 'b']\n",
      "for flag in flags:\n",
      "    df[flag] = 0"
     ],
     "language": "python",
     "metadata": {},
     "outputs": [],
     "prompt_number": 472
    },
    {
     "cell_type": "code",
     "collapsed": false,
     "input": [
      "f = open('/Users/maye/Desktop/test_write.txt','w')\n",
      "f.write(wf.header+'\\n')\n",
      "for data in df.values:\n",
      "    f.write(', '.join(fmts).format(*data)+'\\n')\n",
      "f.close()"
     ],
     "language": "python",
     "metadata": {},
     "outputs": [],
     "prompt_number": 481
    },
    {
     "cell_type": "code",
     "collapsed": false,
     "input": [],
     "language": "python",
     "metadata": {},
     "outputs": []
    }
   ],
   "metadata": {}
  }
 ]
}