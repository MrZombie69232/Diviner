{
 "metadata": {
  "name": ""
 },
 "nbformat": 3,
 "nbformat_minor": 0,
 "worksheets": [
  {
   "cells": [
    {
     "cell_type": "markdown",
     "metadata": {},
     "source": [
      "This cell is a test cell for the pd.DataFrame.to_string bug"
     ]
    },
    {
     "cell_type": "code",
     "collapsed": false,
     "input": [
      "exdf = pd.DataFrame([[\"aoe\",12,3.14],[\"qjk\",34,5.67]])\n",
      "exdf.columns = list('abc')\n",
      "#exdf = exdf.reindex(columns=reversed(list('abc')))\n",
      "def a(inp):\n",
      "    return '{:>3s},'.format(inp)\n",
      "def b(inp):\n",
      "    return '{:2d},'.format(inp)\n",
      "def c(inp):\n",
      "    return '{:3.2f},'.format(inp)\n",
      "print repr(exdf.to_string(#formatters={'a':a,'b':b,'c':c},\n",
      "                          index=False,header=False))\n",
      "pd.__version__"
     ],
     "language": "python",
     "metadata": {},
     "outputs": [
      {
       "output_type": "stream",
       "stream": "stdout",
       "text": [
        "u' aoe  12  3.14\\n qjk  34  5.67'\n"
       ]
      },
      {
       "metadata": {},
       "output_type": "pyout",
       "prompt_number": 6,
       "text": [
        "'0.12.0.dev-99ae9ce'"
       ]
      }
     ],
     "prompt_number": 6
    },
    {
     "cell_type": "code",
     "collapsed": false,
     "input": [
      "for line in exdf.values:\n",
      "    print repr(\"{:>11s}, {:2d}, {:3.2f}\".format(*line))"
     ],
     "language": "python",
     "metadata": {},
     "outputs": [
      {
       "output_type": "stream",
       "stream": "stdout",
       "text": [
        "'        aoe, 12, 3.14'\n",
        "'        qjk, 34, 5.67'\n"
       ]
      }
     ],
     "prompt_number": 7
    },
    {
     "cell_type": "code",
     "collapsed": false,
     "input": [
      "from collections import OrderedDict\n",
      "from diviner import file_utils as fu\n",
      "import datetime as dt\n",
      "import pandas as pd\n",
      "from diviner import write_formatters as wf\n",
      "reload(wf)\n",
      "reload(fu)"
     ],
     "language": "python",
     "metadata": {},
     "outputs": [
      {
       "metadata": {},
       "output_type": "pyout",
       "prompt_number": 1,
       "text": [
        "<module 'diviner.file_utils' from '/u/paige/maye/src/diviner/file_utils.pyc'>"
       ]
      }
     ],
     "prompt_number": 1
    },
    {
     "cell_type": "code",
     "collapsed": false,
     "input": [
      "rdr = fu.RDRReader('/u/paige/maye/rdr_data/2013030300_RDR.TAB.zip')"
     ],
     "language": "python",
     "metadata": {},
     "outputs": [],
     "prompt_number": 2
    },
    {
     "cell_type": "code",
     "collapsed": false,
     "input": [
      "df = rdr.read_df(do_parse_times=False)"
     ],
     "language": "python",
     "metadata": {},
     "outputs": [],
     "prompt_number": 3
    },
    {
     "cell_type": "code",
     "collapsed": false,
     "input": [
      "df"
     ],
     "language": "python",
     "metadata": {},
     "outputs": [
      {
       "html": [
        "<pre>\n",
        "&lt;class 'pandas.core.frame.DataFrame'&gt;\n",
        "Int64Index: 5315625 entries, 0 to 5315624\n",
        "Columns: 33 entries, date to qmi\n",
        "dtypes: float64(24), int64(7), object(2)\n",
        "</pre>"
       ],
       "metadata": {},
       "output_type": "pyout",
       "prompt_number": 4,
       "text": [
        "<class 'pandas.core.frame.DataFrame'>\n",
        "Int64Index: 5315625 entries, 0 to 5315624\n",
        "Columns: 33 entries, date to qmi\n",
        "dtypes: float64(24), int64(7), object(2)"
       ]
      }
     ],
     "prompt_number": 4
    },
    {
     "cell_type": "code",
     "collapsed": false,
     "input": [
      "format_list = wf.format_list\n",
      "format_list"
     ],
     "language": "python",
     "metadata": {},
     "outputs": [
      {
       "metadata": {},
       "output_type": "pyout",
       "prompt_number": 5,
       "text": [
        "[('date', '\"{:>11s}\"'),\n",
        " ('utc', '\"{:>12s}\"'),\n",
        " ('jdate', '{:17.9f}'),\n",
        " ('orbit', '{:5d}'),\n",
        " ('sundist', '{:7.5f}'),\n",
        " ('sunlat', '{:8.5f}'),\n",
        " ('sunlon', '{:9.5f}'),\n",
        " ('sclk', '{:16.5f}'),\n",
        " ('sclat', '{:9.5f}'),\n",
        " ('sclon', '{:9.5f}'),\n",
        " ('scrad', '{:11.5f}'),\n",
        " ('scalt', '{:11.5f}'),\n",
        " ('el_cmd', '{:7.3f}'),\n",
        " ('az_cmd', '{:7.3f}'),\n",
        " ('af', '{:4d}'),\n",
        " ('orientlat', '{:9.5f}'),\n",
        " ('orientlon', '{:9.5f}'),\n",
        " ('c', '{:1d}'),\n",
        " ('det', '{:3d}'),\n",
        " ('vlookx', '{:9.6f}'),\n",
        " ('vlooky', '{:9.6f}'),\n",
        " ('vlookz', '{:9.6f}'),\n",
        " ('radiance', '{:10.4f}'),\n",
        " ('tb', '{:8.3f}'),\n",
        " ('clat', '{:9.5f}'),\n",
        " ('clon', '{:9.5f}'),\n",
        " ('cemis', '{:9.5f}'),\n",
        " ('csunzen', '{:9.5f}'),\n",
        " ('csunazi', '{:9.5f}'),\n",
        " ('cloctime', '{:8.5f}'),\n",
        " ('cphase', '{:9.5f}'),\n",
        " ('roi', '{:4d}'),\n",
        " ('o', '{:1d}'),\n",
        " ('v', '{:1d}'),\n",
        " ('i', '{:1d}'),\n",
        " ('m', '{:1d}'),\n",
        " ('q', '{:1d}'),\n",
        " ('p', '{:1d}'),\n",
        " ('e', '{:1d}'),\n",
        " ('z', '{:1d}'),\n",
        " ('t', '{:1d}'),\n",
        " ('h', '{:1d}'),\n",
        " ('d', '{:1d}'),\n",
        " ('n', '{:1d}'),\n",
        " ('s', '{:1d}'),\n",
        " ('a', '{:1d}'),\n",
        " ('b', '{:1d}')]"
       ]
      }
     ],
     "prompt_number": 5
    },
    {
     "cell_type": "code",
     "collapsed": false,
     "input": [
      "fmts = [i[1] for i in format_list]"
     ],
     "language": "python",
     "metadata": {},
     "outputs": [],
     "prompt_number": 6
    },
    {
     "cell_type": "code",
     "collapsed": false,
     "input": [
      "', '.join(fmts)"
     ],
     "language": "python",
     "metadata": {},
     "outputs": [
      {
       "metadata": {},
       "output_type": "pyout",
       "prompt_number": 7,
       "text": [
        "'\"{:>11s}\", \"{:>12s}\", {:17.9f}, {:5d}, {:7.5f}, {:8.5f}, {:9.5f}, {:16.5f}, {:9.5f}, {:9.5f}, {:11.5f}, {:11.5f}, {:7.3f}, {:7.3f}, {:4d}, {:9.5f}, {:9.5f}, {:1d}, {:3d}, {:9.6f}, {:9.6f}, {:9.6f}, {:10.4f}, {:8.3f}, {:9.5f}, {:9.5f}, {:9.5f}, {:9.5f}, {:9.5f}, {:8.5f}, {:9.5f}, {:4d}, {:1d}, {:1d}, {:1d}, {:1d}, {:1d}, {:1d}, {:1d}, {:1d}, {:1d}, {:1d}, {:1d}, {:1d}, {:1d}, {:1d}, {:1d}'"
       ]
      }
     ],
     "prompt_number": 7
    },
    {
     "cell_type": "code",
     "collapsed": false,
     "input": [
      "df.columns"
     ],
     "language": "python",
     "metadata": {},
     "outputs": [
      {
       "metadata": {},
       "output_type": "pyout",
       "prompt_number": 8,
       "text": [
        "Index([u'date', u'utc', u'jdate', u'orbit', u'sundist', u'sunlat', u'sunlon', u'sclk', u'sclat', u'sclon', u'scrad', u'scalt', u'el_cmd', u'az_cmd', u'af', u'orientlat', u'orientlon', u'c', u'det', u'vlookx', u'vlooky', u'vlookz', u'radiance', u'tb', u'clat', u'clon', u'cemis', u'csunzen', u'csunazi', u'cloctime', u'qca', u'qge', u'qmi'], dtype=object)"
       ]
      }
     ],
     "prompt_number": 8
    },
    {
     "cell_type": "code",
     "collapsed": true,
     "input": [
      "df = df.drop(['qca','qge','qmi'],axis=1)"
     ],
     "language": "python",
     "metadata": {},
     "outputs": [],
     "prompt_number": 9
    },
    {
     "cell_type": "code",
     "collapsed": true,
     "input": [
      "df['cphase']=123.45678\n",
      "df['roi' ] = 1234\n",
      "flags = ['o', 'v', 'i', 'm', 'q', 'p', 'e', 'z', 't', 'h', 'd', 'n', \n",
      "         's', 'a', 'b']\n",
      "for flag in flags:\n",
      "    df[flag] = 0"
     ],
     "language": "python",
     "metadata": {},
     "outputs": [],
     "prompt_number": 10
    },
    {
     "cell_type": "code",
     "collapsed": false,
     "input": [
      "df_ch9 = df[df.c==9]"
     ],
     "language": "python",
     "metadata": {},
     "outputs": [],
     "prompt_number": 16
    },
    {
     "cell_type": "code",
     "collapsed": false,
     "input": [
      "df_ch9[['date','utc']].tail()"
     ],
     "language": "python",
     "metadata": {},
     "outputs": [
      {
       "html": [
        "<div style=\"max-height:1000px;max-width:1500px;overflow:auto;\">\n",
        "<table border=\"1\" class=\"dataframe\">\n",
        "  <thead>\n",
        "    <tr style=\"text-align: right;\">\n",
        "      <th></th>\n",
        "      <th>date</th>\n",
        "      <th>utc</th>\n",
        "    </tr>\n",
        "  </thead>\n",
        "  <tbody>\n",
        "    <tr>\n",
        "      <th>5315620</th>\n",
        "      <td> 03-Mar-2013</td>\n",
        "      <td> 00:59:59.937</td>\n",
        "    </tr>\n",
        "    <tr>\n",
        "      <th>5315621</th>\n",
        "      <td> 03-Mar-2013</td>\n",
        "      <td> 00:59:59.937</td>\n",
        "    </tr>\n",
        "    <tr>\n",
        "      <th>5315622</th>\n",
        "      <td> 03-Mar-2013</td>\n",
        "      <td> 00:59:59.937</td>\n",
        "    </tr>\n",
        "    <tr>\n",
        "      <th>5315623</th>\n",
        "      <td> 03-Mar-2013</td>\n",
        "      <td> 00:59:59.937</td>\n",
        "    </tr>\n",
        "    <tr>\n",
        "      <th>5315624</th>\n",
        "      <td> 03-Mar-2013</td>\n",
        "      <td> 00:59:59.937</td>\n",
        "    </tr>\n",
        "  </tbody>\n",
        "</table>\n",
        "</div>"
       ],
       "metadata": {},
       "output_type": "pyout",
       "prompt_number": 20,
       "text": [
        "                date           utc\n",
        "5315620  03-Mar-2013  00:59:59.937\n",
        "5315621  03-Mar-2013  00:59:59.937\n",
        "5315622  03-Mar-2013  00:59:59.937\n",
        "5315623  03-Mar-2013  00:59:59.937\n",
        "5315624  03-Mar-2013  00:59:59.937"
       ]
      }
     ],
     "prompt_number": 20
    },
    {
     "cell_type": "code",
     "collapsed": false,
     "input": [
      "f = open('/u/paige/maye/2013030300_ch9_RDR2.0_sample.TAB','w')\n",
      "f.write(wf.header+'\\n')\n",
      "for data in df_ch9.values:\n",
      "    f.write(', '.join(fmts).format(*data)+'\\n')\n",
      "f.close()"
     ],
     "language": "python",
     "metadata": {},
     "outputs": [],
     "prompt_number": 17
    },
    {
     "cell_type": "code",
     "collapsed": false,
     "input": [],
     "language": "python",
     "metadata": {},
     "outputs": []
    }
   ],
   "metadata": {}
  }
 ]
}