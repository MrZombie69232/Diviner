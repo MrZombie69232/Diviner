{
 "metadata": {
  "name": ""
 },
 "nbformat": 3,
 "nbformat_minor": 0,
 "worksheets": [
  {
   "cells": [
    {
     "cell_type": "markdown",
     "metadata": {},
     "source": [
      "This cell is a test cell for the pd.DataFrame.to_string bug"
     ]
    },
    {
     "cell_type": "code",
     "collapsed": false,
     "input": [
      "exdf = pd.DataFrame([[\"aoe\",12,3.14],[\"qjk\",34,5.67]])\n",
      "exdf.columns = list('abc')\n",
      "#exdf = exdf.reindex(columns=reversed(list('abc')))\n",
      "def a(inp):\n",
      "    return '{:>3s},'.format(inp)\n",
      "def b(inp):\n",
      "    return '{:2d},'.format(inp)\n",
      "def c(inp):\n",
      "    return '{:3.2f},'.format(inp)\n",
      "print repr(exdf.to_string(#formatters={'a':a,'b':b,'c':c},\n",
      "                          index=False,header=False))\n",
      "pd.__version__"
     ],
     "language": "python",
     "metadata": {},
     "outputs": [
      {
       "output_type": "stream",
       "stream": "stdout",
       "text": [
        "u' aoe  12  3.14\\n qjk  34  5.67'\n"
       ]
      },
      {
       "metadata": {},
       "output_type": "pyout",
       "prompt_number": 6,
       "text": [
        "'0.12.0.dev-99ae9ce'"
       ]
      }
     ],
     "prompt_number": 6
    },
    {
     "cell_type": "code",
     "collapsed": false,
     "input": [
      "for line in exdf.values:\n",
      "    print repr(\"{:>11s}, {:2d}, {:3.2f}\".format(*line))"
     ],
     "language": "python",
     "metadata": {},
     "outputs": [
      {
       "output_type": "stream",
       "stream": "stdout",
       "text": [
        "'        aoe, 12, 3.14'\n",
        "'        qjk, 34, 5.67'\n"
       ]
      }
     ],
     "prompt_number": 7
    },
    {
     "cell_type": "heading",
     "level": 1,
     "metadata": {},
     "source": [
      "Things start here!"
     ]
    },
    {
     "cell_type": "code",
     "collapsed": false,
     "input": [
      "from collections import OrderedDict\n",
      "from diviner import file_utils as fu\n",
      "import datetime as dt\n",
      "import pandas as pd\n",
      "import os\n",
      "reload(fu)"
     ],
     "language": "python",
     "metadata": {},
     "outputs": [
      {
       "metadata": {},
       "output_type": "pyout",
       "prompt_number": 7,
       "text": [
        "<module 'diviner.file_utils' from '/Users/maye/Dropbox/src/diviner/file_utils.pyc'>"
       ]
      }
     ],
     "prompt_number": 7
    },
    {
     "cell_type": "code",
     "collapsed": false,
     "input": [
      "timestr = '2013040903'"
     ],
     "language": "python",
     "metadata": {},
     "outputs": [],
     "prompt_number": 8
    },
    {
     "cell_type": "code",
     "collapsed": false,
     "input": [
      "rdr = fu.RDRReader(os.path.join(fu.rdrdatapath, timestr+'_RDR.TAB.zip'))"
     ],
     "language": "python",
     "metadata": {},
     "outputs": [
      {
       "ename": "IOError",
       "evalue": "[Errno 2] No such file or directory: '/Users/maye/data/diviner/rdr_data/2013040903_RDR.TAB.zip'",
       "output_type": "pyerr",
       "traceback": [
        "---------------------------------------------------------------------------\nIOError                                   Traceback (most recent call last)",
        "<ipython-input-9-de1c84ee133f> in <module>()\n----> 1 rdr = fu.RDRReader(os.path.join(fu.rdrdatapath, timestr+'_RDR.TAB.zip'))\n",
        "/Users/maye/Dropbox/src/diviner/file_utils.pyc in __init__(self, fname, nrows)\n    201         super(RDRReader, self).__init__()\n    202         self.fname = fname\n--> 203         self.get_rdr_headers()\n    204         \n    205     def find_fnames(self):\n",
        "/Users/maye/Dropbox/src/diviner/file_utils.pyc in get_rdr_headers(self)\n    217         \"\"\"Get headers from both ops and PDS RDR files.\"\"\"\n    218         # skipcounter\n--> 219         self.open()\n    220         self.no_to_skip = 0\n    221         while True:\n",
        "/Users/maye/Dropbox/src/diviner/file_utils.pyc in open(self)\n    209     def open(self):\n    210         if self.fname.lower().endswith('.zip'):\n--> 211             zfile = zipfile.ZipFile(self.fname)\n    212             self.f = zfile.open(zfile.namelist()[0])\n    213         else:\n",
        "/Library/Frameworks/EPD64.framework/Versions/7.3/lib/python2.7/zipfile.pyc in __init__(self, file, mode, compression, allowZip64)\n    699             modeDict = {'r' : 'rb', 'w': 'wb', 'a' : 'r+b'}\n    700             try:\n--> 701                 self.fp = open(file, modeDict[mode])\n    702             except IOError:\n    703                 if mode == 'a':\n",
        "IOError: [Errno 2] No such file or directory: '/Users/maye/data/diviner/rdr_data/2013040903_RDR.TAB.zip'"
       ]
      }
     ],
     "prompt_number": 9
    },
    {
     "cell_type": "code",
     "collapsed": false,
     "input": [
      "df = rdr.read_df(do_parse_times=False)"
     ],
     "language": "python",
     "metadata": {},
     "outputs": [],
     "prompt_number": 4
    },
    {
     "cell_type": "code",
     "collapsed": false,
     "input": [
      "df"
     ],
     "language": "python",
     "metadata": {},
     "outputs": [
      {
       "html": [
        "<pre>\n",
        "&lt;class 'pandas.core.frame.DataFrame'&gt;\n",
        "Int64Index: 5315436 entries, 0 to 5315435\n",
        "Columns: 33 entries, date to qmi\n",
        "dtypes: float64(24), int64(7), object(2)\n",
        "</pre>"
       ],
       "metadata": {},
       "output_type": "pyout",
       "prompt_number": 5,
       "text": [
        "<class 'pandas.core.frame.DataFrame'>\n",
        "Int64Index: 5315436 entries, 0 to 5315435\n",
        "Columns: 33 entries, date to qmi\n",
        "dtypes: float64(24), int64(7), object(2)"
       ]
      }
     ],
     "prompt_number": 5
    },
    {
     "cell_type": "code",
     "collapsed": false,
     "input": [
      "format_allfine = wf.format_allfine\n",
      "format_tbradfine = wf.format_tbradfine\n",
      "format_nan = wf.format_nan"
     ],
     "language": "python",
     "metadata": {},
     "outputs": [],
     "prompt_number": 6
    },
    {
     "cell_type": "code",
     "collapsed": false,
     "input": [
      "fmts_allfine = [i[2] for i in format_allfine]\n",
      "fmts_nan = [i[2] for i in format_nan]\n",
      "fmts_tbradfine = [i[2] for i in format_tbradfine]"
     ],
     "language": "python",
     "metadata": {},
     "outputs": [],
     "prompt_number": 7
    },
    {
     "cell_type": "code",
     "collapsed": true,
     "input": [
      "df = df.drop(['qca','qge','qmi'],axis=1)"
     ],
     "language": "python",
     "metadata": {},
     "outputs": [],
     "prompt_number": 8
    },
    {
     "cell_type": "code",
     "collapsed": true,
     "input": [
      "df['cphase']=123.45678\n",
      "df['roi' ] = 1234\n",
      "flags = ['o', 'v', 'i', 'm', 'q', 'p', 'e', 'z', 't', 'h', 'd', 'n', \n",
      "         's', 'a', 'b']\n",
      "for flag in flags:\n",
      "    df[flag] = 0"
     ],
     "language": "python",
     "metadata": {},
     "outputs": [],
     "prompt_number": 9
    },
    {
     "cell_type": "code",
     "collapsed": false,
     "input": [
      "df_ch = df[df.c==1]"
     ],
     "language": "python",
     "metadata": {},
     "outputs": [],
     "prompt_number": 10
    },
    {
     "cell_type": "code",
     "collapsed": false,
     "input": [
      "df_ch[['date','utc']].tail()"
     ],
     "language": "python",
     "metadata": {},
     "outputs": [
      {
       "html": [
        "<div style=\"max-height:1000px;max-width:1500px;overflow:auto;\">\n",
        "<table border=\"1\" class=\"dataframe\">\n",
        "  <thead>\n",
        "    <tr style=\"text-align: right;\">\n",
        "      <th></th>\n",
        "      <th>date</th>\n",
        "      <th>utc</th>\n",
        "    </tr>\n",
        "  </thead>\n",
        "  <tbody>\n",
        "    <tr>\n",
        "      <th>5315263</th>\n",
        "      <td> 09-Apr-2013</td>\n",
        "      <td> 03:59:59.928</td>\n",
        "    </tr>\n",
        "    <tr>\n",
        "      <th>5315264</th>\n",
        "      <td> 09-Apr-2013</td>\n",
        "      <td> 03:59:59.928</td>\n",
        "    </tr>\n",
        "    <tr>\n",
        "      <th>5315265</th>\n",
        "      <td> 09-Apr-2013</td>\n",
        "      <td> 03:59:59.928</td>\n",
        "    </tr>\n",
        "    <tr>\n",
        "      <th>5315266</th>\n",
        "      <td> 09-Apr-2013</td>\n",
        "      <td> 03:59:59.928</td>\n",
        "    </tr>\n",
        "    <tr>\n",
        "      <th>5315267</th>\n",
        "      <td> 09-Apr-2013</td>\n",
        "      <td> 03:59:59.928</td>\n",
        "    </tr>\n",
        "  </tbody>\n",
        "</table>\n",
        "</div>"
       ],
       "metadata": {},
       "output_type": "pyout",
       "prompt_number": 11,
       "text": [
        "                date           utc\n",
        "5315263  09-Apr-2013  03:59:59.928\n",
        "5315264  09-Apr-2013  03:59:59.928\n",
        "5315265  09-Apr-2013  03:59:59.928\n",
        "5315266  09-Apr-2013  03:59:59.928\n",
        "5315267  09-Apr-2013  03:59:59.928"
       ]
      }
     ],
     "prompt_number": 11
    },
    {
     "cell_type": "code",
     "collapsed": false,
     "input": [
      "df_ch.fillna(-9999.0, inplace=True)"
     ],
     "language": "python",
     "metadata": {},
     "outputs": [],
     "prompt_number": 12
    },
    {
     "cell_type": "code",
     "collapsed": false,
     "input": [
      "print fmts_allfine[22:30]\n",
      "print fmts_tbradfine[22:30]\n",
      "print fmts_nan[22:30]\n",
      "print len(fmts_allfine)\n",
      "print len(fmts_tbradfine)\n",
      "print len(fmts_nan)"
     ],
     "language": "python",
     "metadata": {},
     "outputs": [
      {
       "output_type": "stream",
       "stream": "stdout",
       "text": [
        "['{:10.4f}', '{:8.3f}', '{:9.5f}', '{:9.5f}', '{:9.5f}', '{:9.5f}', '{:9.5f}', '{:8.5f}']\n",
        "['{:10.4f}', '{:8.3f}', '{:9.1f}', '{:9.1f}', '{:9.1f}', '{:9.1f}', '{:9.1f}', '{:8.1f}']\n",
        "['{:10.1f}', '{:8.1f}', '{:9.1f}', '{:9.1f}', '{:9.1f}', '{:9.1f}', '{:9.1f}', '{:8.1f}']\n",
        "47\n",
        "47\n",
        "47\n"
       ]
      }
     ],
     "prompt_number": 13
    },
    {
     "cell_type": "code",
     "collapsed": false,
     "input": [
      "f = open('/u/paige/maye/'+timestr+'_C1_RDR.TAB','w')\n",
      "f.write(wf.header+'\\r\\n')\n",
      "for i,data in enumerate(df_ch.values):\n",
      "    if all(data[22:30] < -5000):\n",
      "        fmt = fmts_nan\n",
      "    elif (all(data[22:24] > -5000)) and (all(data[24:30] < -5000)):\n",
      "        fmt = fmts_tbradfine\n",
      "    elif all(data[22:30] > -5000):\n",
      "        fmt = fmts_allfine\n",
      "    else:\n",
      "        print i\n",
      "        print wf.header\n",
      "        print data\n",
      "        print \"af:\",data[14]\n",
      "        for j,item in enumerate(data[22:30]):\n",
      "            print j+22, item\n",
      "        raise Exception\n",
      "    f.write(', '.join(fmt).format(*data)+'\\r\\n')\n",
      "f.close()"
     ],
     "language": "python",
     "metadata": {},
     "outputs": [
      {
       "ename": "Exception",
       "evalue": "",
       "output_type": "pyerr",
       "traceback": [
        "\u001b[1;31m---------------------------------------------------------------------------\u001b[0m\n\u001b[1;31mException\u001b[0m                                 Traceback (most recent call last)",
        "\u001b[1;32m<ipython-input-20-cc56032ffd25>\u001b[0m in \u001b[0;36m<module>\u001b[1;34m()\u001b[0m\n\u001b[0;32m     15\u001b[0m         \u001b[1;32mfor\u001b[0m \u001b[0mj\u001b[0m\u001b[1;33m,\u001b[0m\u001b[0mitem\u001b[0m \u001b[1;32min\u001b[0m \u001b[0menumerate\u001b[0m\u001b[1;33m(\u001b[0m\u001b[0mdata\u001b[0m\u001b[1;33m[\u001b[0m\u001b[1;36m22\u001b[0m\u001b[1;33m:\u001b[0m\u001b[1;36m30\u001b[0m\u001b[1;33m]\u001b[0m\u001b[1;33m)\u001b[0m\u001b[1;33m:\u001b[0m\u001b[1;33m\u001b[0m\u001b[0m\n\u001b[0;32m     16\u001b[0m             \u001b[1;32mprint\u001b[0m \u001b[0mj\u001b[0m\u001b[1;33m+\u001b[0m\u001b[1;36m22\u001b[0m\u001b[1;33m,\u001b[0m \u001b[0mitem\u001b[0m\u001b[1;33m\u001b[0m\u001b[0m\n\u001b[1;32m---> 17\u001b[1;33m         \u001b[1;32mraise\u001b[0m \u001b[0mException\u001b[0m\u001b[1;33m\u001b[0m\u001b[0m\n\u001b[0m\u001b[0;32m     18\u001b[0m     \u001b[0mf\u001b[0m\u001b[1;33m.\u001b[0m\u001b[0mwrite\u001b[0m\u001b[1;33m(\u001b[0m\u001b[1;34m', '\u001b[0m\u001b[1;33m.\u001b[0m\u001b[0mjoin\u001b[0m\u001b[1;33m(\u001b[0m\u001b[0mfmt\u001b[0m\u001b[1;33m)\u001b[0m\u001b[1;33m.\u001b[0m\u001b[0mformat\u001b[0m\u001b[1;33m(\u001b[0m\u001b[1;33m*\u001b[0m\u001b[0mdata\u001b[0m\u001b[1;33m)\u001b[0m\u001b[1;33m+\u001b[0m\u001b[1;34m'\\r\\n'\u001b[0m\u001b[1;33m)\u001b[0m\u001b[1;33m\u001b[0m\u001b[0m\n\u001b[0;32m     19\u001b[0m \u001b[0mf\u001b[0m\u001b[1;33m.\u001b[0m\u001b[0mclose\u001b[0m\u001b[1;33m(\u001b[0m\u001b[1;33m)\u001b[0m\u001b[1;33m\u001b[0m\u001b[0m\n",
        "\u001b[1;31mException\u001b[0m: "
       ]
      },
      {
       "output_type": "stream",
       "stream": "stdout",
       "text": [
        "354900\n",
        "#        date,            utc,             jdate, orbit, sundist,   sunlat,    sunlon,             sclk,     sclat,     sclon,       scrad,       scalt,  el_cmd,  az_cmd,   af, orientlat, orientlon, c, det,    vlookx,    vlooky,    vlookz,   radiance,       tb,      clat,      clon,     cemis,   csunzen,   csunazi, cloctime,    cphase,  roi, o, v, i, m, q, p, e, z, t, h, d, n, s, a, b\n",
        "['09-Apr-2013' '03:36:03.355' 2456391.650038825 17272 0.99911\n",
        " 0.7146899999999999 199.76963 387171363.22609 88.51204 262.2725 1912.9732\n",
        " 175.57288 36.97 240.0 -360 35.392070000000004 261.85774 1 1\n",
        " 0.045137000000000004 0.550362 0.8337049999999999 0.0004 0.001 -9999.0\n",
        " -9999.0 -9999.0 97.94885 243.46157999999997 -9999.0 123.45678 1234 0 0 0 0\n",
        " 0 0 0 0 0 0 0 0 0 0 0]\n",
        "af: -360\n",
        "22 0.0004\n",
        "23 0.001\n",
        "24 -9999.0\n",
        "25 -9999.0\n",
        "26 -9999.0\n",
        "27 97.94885\n",
        "28 243.46158\n",
        "29 -9999.0\n"
       ]
      }
     ],
     "prompt_number": 20
    },
    {
     "cell_type": "code",
     "collapsed": false,
     "input": [],
     "language": "python",
     "metadata": {},
     "outputs": []
    }
   ],
   "metadata": {}
  }
 ]
}