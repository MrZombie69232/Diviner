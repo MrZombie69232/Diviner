{
 "cells": [
  {
   "cell_type": "code",
   "execution_count": 1,
   "metadata": {},
   "outputs": [
    {
     "data": {
      "text/plain": [
       "'0.24.1'"
      ]
     },
     "execution_count": 1,
     "metadata": {},
     "output_type": "execute_result"
    }
   ],
   "source": [
    "import pandas\n",
    "pandas.__version__"
   ]
  },
  {
   "cell_type": "code",
   "execution_count": 2,
   "metadata": {},
   "outputs": [],
   "source": [
    "import sys\n",
    "sys.path.append('/u/paige/maye/src')"
   ]
  },
  {
   "cell_type": "code",
   "execution_count": 3,
   "metadata": {},
   "outputs": [],
   "source": [
    "from diviner import calib, file_utils as fu, plot_utils as pu"
   ]
  },
  {
   "cell_type": "code",
   "execution_count": 4,
   "metadata": {},
   "outputs": [
    {
     "data": {
      "text/plain": [
       "'/luna5/marks/feidata/DIV:opsL1A/data'"
      ]
     },
     "execution_count": 4,
     "metadata": {},
     "output_type": "execute_result"
    }
   ],
   "source": [
    "fu.l1adatapath"
   ]
  },
  {
   "cell_type": "code",
   "execution_count": 5,
   "metadata": {},
   "outputs": [],
   "source": [
    "# tstr = '2012121714'\n",
    "tstr = '2011071909'"
   ]
  },
  {
   "cell_type": "code",
   "execution_count": 6,
   "metadata": {},
   "outputs": [
    {
     "ename": "AttributeError",
     "evalue": "type object 'L1ADataFile' has no attribute 'from_tstr'",
     "output_type": "error",
     "traceback": [
      "\u001b[0;31m---------------------------------------------------------------------------\u001b[0m",
      "\u001b[0;31mAttributeError\u001b[0m                            Traceback (most recent call last)",
      "\u001b[0;32m<ipython-input-6-3e0c253b3d90>\u001b[0m in \u001b[0;36m<module>\u001b[0;34m\u001b[0m\n\u001b[0;32m----> 1\u001b[0;31m \u001b[0ml1a\u001b[0m \u001b[0;34m=\u001b[0m \u001b[0mfu\u001b[0m\u001b[0;34m.\u001b[0m\u001b[0mL1ADataFile\u001b[0m\u001b[0;34m.\u001b[0m\u001b[0mfrom_tstr\u001b[0m\u001b[0;34m(\u001b[0m\u001b[0mtstr\u001b[0m\u001b[0;34m)\u001b[0m\u001b[0;34m\u001b[0m\u001b[0;34m\u001b[0m\u001b[0m\n\u001b[0m\u001b[1;32m      2\u001b[0m \u001b[0;31m#df = l1a.open()\u001b[0m\u001b[0;34m\u001b[0m\u001b[0;34m\u001b[0m\u001b[0;34m\u001b[0m\u001b[0m\n\u001b[1;32m      3\u001b[0m \u001b[0mdf\u001b[0m \u001b[0;34m=\u001b[0m \u001b[0mfu\u001b[0m\u001b[0;34m.\u001b[0m\u001b[0mopen_and_accumulate\u001b[0m\u001b[0;34m(\u001b[0m\u001b[0ml1a\u001b[0m\u001b[0;34m.\u001b[0m\u001b[0mfname\u001b[0m\u001b[0;34m)\u001b[0m\u001b[0;34m\u001b[0m\u001b[0;34m\u001b[0m\u001b[0m\n",
      "\u001b[0;31mAttributeError\u001b[0m: type object 'L1ADataFile' has no attribute 'from_tstr'"
     ]
    }
   ],
   "source": [
    "l1a = fu.L1ADataFile.from_tstr(tstr)\n",
    "#df = l1a.open()\n",
    "df = fu.open_and_accumulate(l1a.fname)"
   ]
  },
  {
   "cell_type": "code",
   "execution_count": 6,
   "metadata": {},
   "outputs": [],
   "source": [
    "df = fu.open_and_accumulate(tstr)"
   ]
  },
  {
   "cell_type": "code",
   "execution_count": 7,
   "metadata": {},
   "outputs": [
    {
     "data": {
      "text/plain": [
       "(84384, 257)"
      ]
     },
     "execution_count": 7,
     "metadata": {},
     "output_type": "execute_result"
    }
   ],
   "source": [
    "df.shape"
   ]
  },
  {
   "cell_type": "code",
   "execution_count": 8,
   "metadata": {},
   "outputs": [
    {
     "name": "stderr",
     "output_type": "stream",
     "text": [
      "INFO:diviner.calib:Calibrating from 2011-07-19 08:00:01.233000 to 2011-07-19 11:00:00.336000.\n"
     ]
    }
   ],
   "source": [
    "c = calib.Calibrator(df)"
   ]
  },
  {
   "cell_type": "code",
   "execution_count": 4,
   "metadata": {},
   "outputs": [],
   "source": [
    "%load_ext line_profiler"
   ]
  },
  {
   "cell_type": "code",
   "execution_count": 13,
   "metadata": {},
   "outputs": [
    {
     "name": "stdout",
     "output_type": "stream",
     "text": [
      "\n"
     ]
    }
   ],
   "source": [
    "%lprun -f calib.RBBTable.get_tb c.calibrate()"
   ]
  },
  {
   "cell_type": "code",
   "execution_count": 9,
   "metadata": {},
   "outputs": [
    {
     "name": "stderr",
     "output_type": "stream",
     "text": [
      "INFO:diviner.calib:Performing radiance correction on 2011-07-19 08:00:01.233000\n"
     ]
    }
   ],
   "source": [
    "# %timeit c.calibrate()\n",
    "c.calibrate()"
   ]
  },
  {
   "cell_type": "code",
   "execution_count": 10,
   "metadata": {},
   "outputs": [],
   "source": [
    "start = fu.tstr_to_datetime('2011071909')"
   ]
  },
  {
   "cell_type": "code",
   "execution_count": 11,
   "metadata": {},
   "outputs": [],
   "source": [
    "from datetime import timedelta\n",
    "end = start + timedelta(hours=1)"
   ]
  },
  {
   "cell_type": "code",
   "execution_count": 12,
   "metadata": {},
   "outputs": [],
   "source": [
    "import pandas as pd"
   ]
  },
  {
   "cell_type": "code",
   "execution_count": 13,
   "metadata": {},
   "outputs": [],
   "source": [
    "start2 = pd.Timestamp(start)"
   ]
  },
  {
   "cell_type": "code",
   "execution_count": 14,
   "metadata": {},
   "outputs": [
    {
     "data": {
      "text/plain": [
       "Timestamp('2011-07-19 09:00:00')"
      ]
     },
     "execution_count": 14,
     "metadata": {},
     "output_type": "execute_result"
    }
   ],
   "source": [
    "start2"
   ]
  },
  {
   "cell_type": "code",
   "execution_count": 15,
   "metadata": {},
   "outputs": [
    {
     "data": {
      "text/plain": [
       "Timestamp('2011-07-19 08:00:01.233000')"
      ]
     },
     "execution_count": 15,
     "metadata": {},
     "output_type": "execute_result"
    }
   ],
   "source": [
    "c.abs_radiance.index[0]"
   ]
  },
  {
   "cell_type": "code",
   "execution_count": 16,
   "metadata": {},
   "outputs": [],
   "source": [
    "groups = calib.get_calib_blocks(df, 'calib')"
   ]
  },
  {
   "cell_type": "code",
   "execution_count": 17,
   "metadata": {},
   "outputs": [],
   "source": [
    "cb = calib.CalBlock(groups[1])"
   ]
  },
  {
   "cell_type": "code",
   "execution_count": 18,
   "metadata": {},
   "outputs": [],
   "source": [
    "import pandas as pd"
   ]
  },
  {
   "cell_type": "code",
   "execution_count": 19,
   "metadata": {},
   "outputs": [],
   "source": [
    "offsets = pd.DataFrame(cb.get_offsets()).T"
   ]
  },
  {
   "cell_type": "code",
   "execution_count": 21,
   "metadata": {},
   "outputs": [
    {
     "data": {
      "text/html": [
       "<div>\n",
       "<style scoped>\n",
       "    .dataframe tbody tr th:only-of-type {\n",
       "        vertical-align: middle;\n",
       "    }\n",
       "\n",
       "    .dataframe tbody tr th {\n",
       "        vertical-align: top;\n",
       "    }\n",
       "\n",
       "    .dataframe thead th {\n",
       "        text-align: right;\n",
       "    }\n",
       "</style>\n",
       "<table border=\"1\" class=\"dataframe\">\n",
       "  <thead>\n",
       "    <tr style=\"text-align: right;\">\n",
       "      <th></th>\n",
       "      <th>0</th>\n",
       "    </tr>\n",
       "  </thead>\n",
       "  <tbody>\n",
       "    <tr>\n",
       "      <th>a1_01</th>\n",
       "      <td>22446.164062</td>\n",
       "    </tr>\n",
       "    <tr>\n",
       "      <th>a1_02</th>\n",
       "      <td>22392.500000</td>\n",
       "    </tr>\n",
       "    <tr>\n",
       "      <th>a1_03</th>\n",
       "      <td>22391.226562</td>\n",
       "    </tr>\n",
       "    <tr>\n",
       "      <th>a1_04</th>\n",
       "      <td>22402.195312</td>\n",
       "    </tr>\n",
       "    <tr>\n",
       "      <th>a1_05</th>\n",
       "      <td>22425.250000</td>\n",
       "    </tr>\n",
       "    <tr>\n",
       "      <th>a1_06</th>\n",
       "      <td>22419.945312</td>\n",
       "    </tr>\n",
       "    <tr>\n",
       "      <th>a1_07</th>\n",
       "      <td>22467.781250</td>\n",
       "    </tr>\n",
       "    <tr>\n",
       "      <th>a1_08</th>\n",
       "      <td>22454.265625</td>\n",
       "    </tr>\n",
       "    <tr>\n",
       "      <th>a1_09</th>\n",
       "      <td>22449.835938</td>\n",
       "    </tr>\n",
       "    <tr>\n",
       "      <th>a1_10</th>\n",
       "      <td>22466.328125</td>\n",
       "    </tr>\n",
       "    <tr>\n",
       "      <th>a1_11</th>\n",
       "      <td>22499.414062</td>\n",
       "    </tr>\n",
       "    <tr>\n",
       "      <th>a1_12</th>\n",
       "      <td>22462.632812</td>\n",
       "    </tr>\n",
       "    <tr>\n",
       "      <th>a1_13</th>\n",
       "      <td>22395.804688</td>\n",
       "    </tr>\n",
       "    <tr>\n",
       "      <th>a1_14</th>\n",
       "      <td>22460.203125</td>\n",
       "    </tr>\n",
       "    <tr>\n",
       "      <th>a1_15</th>\n",
       "      <td>22502.703125</td>\n",
       "    </tr>\n",
       "    <tr>\n",
       "      <th>a1_16</th>\n",
       "      <td>22481.421875</td>\n",
       "    </tr>\n",
       "    <tr>\n",
       "      <th>a1_17</th>\n",
       "      <td>22417.195312</td>\n",
       "    </tr>\n",
       "    <tr>\n",
       "      <th>a1_18</th>\n",
       "      <td>22426.406250</td>\n",
       "    </tr>\n",
       "    <tr>\n",
       "      <th>a1_19</th>\n",
       "      <td>22468.710938</td>\n",
       "    </tr>\n",
       "    <tr>\n",
       "      <th>a1_20</th>\n",
       "      <td>22429.695312</td>\n",
       "    </tr>\n",
       "    <tr>\n",
       "      <th>a1_21</th>\n",
       "      <td>22465.226562</td>\n",
       "    </tr>\n",
       "    <tr>\n",
       "      <th>a2_01</th>\n",
       "      <td>22745.171875</td>\n",
       "    </tr>\n",
       "    <tr>\n",
       "      <th>a2_02</th>\n",
       "      <td>22769.328125</td>\n",
       "    </tr>\n",
       "    <tr>\n",
       "      <th>a2_03</th>\n",
       "      <td>22781.507812</td>\n",
       "    </tr>\n",
       "    <tr>\n",
       "      <th>a2_04</th>\n",
       "      <td>22764.554688</td>\n",
       "    </tr>\n",
       "    <tr>\n",
       "      <th>a2_05</th>\n",
       "      <td>22801.562500</td>\n",
       "    </tr>\n",
       "    <tr>\n",
       "      <th>a2_06</th>\n",
       "      <td>22810.328125</td>\n",
       "    </tr>\n",
       "    <tr>\n",
       "      <th>a2_07</th>\n",
       "      <td>22735.578125</td>\n",
       "    </tr>\n",
       "    <tr>\n",
       "      <th>a2_08</th>\n",
       "      <td>22795.242188</td>\n",
       "    </tr>\n",
       "    <tr>\n",
       "      <th>a2_09</th>\n",
       "      <td>22756.890625</td>\n",
       "    </tr>\n",
       "    <tr>\n",
       "      <th>...</th>\n",
       "      <td>...</td>\n",
       "    </tr>\n",
       "    <tr>\n",
       "      <th>b2_13</th>\n",
       "      <td>28268.367188</td>\n",
       "    </tr>\n",
       "    <tr>\n",
       "      <th>b2_14</th>\n",
       "      <td>28290.414062</td>\n",
       "    </tr>\n",
       "    <tr>\n",
       "      <th>b2_15</th>\n",
       "      <td>28269.390625</td>\n",
       "    </tr>\n",
       "    <tr>\n",
       "      <th>b2_16</th>\n",
       "      <td>28200.070312</td>\n",
       "    </tr>\n",
       "    <tr>\n",
       "      <th>b2_17</th>\n",
       "      <td>28129.710938</td>\n",
       "    </tr>\n",
       "    <tr>\n",
       "      <th>b2_18</th>\n",
       "      <td>28140.640625</td>\n",
       "    </tr>\n",
       "    <tr>\n",
       "      <th>b2_19</th>\n",
       "      <td>28073.132812</td>\n",
       "    </tr>\n",
       "    <tr>\n",
       "      <th>b2_20</th>\n",
       "      <td>28038.671875</td>\n",
       "    </tr>\n",
       "    <tr>\n",
       "      <th>b2_21</th>\n",
       "      <td>27893.148438</td>\n",
       "    </tr>\n",
       "    <tr>\n",
       "      <th>b3_01</th>\n",
       "      <td>27798.875000</td>\n",
       "    </tr>\n",
       "    <tr>\n",
       "      <th>b3_02</th>\n",
       "      <td>27810.148438</td>\n",
       "    </tr>\n",
       "    <tr>\n",
       "      <th>b3_03</th>\n",
       "      <td>27809.851562</td>\n",
       "    </tr>\n",
       "    <tr>\n",
       "      <th>b3_04</th>\n",
       "      <td>27803.828125</td>\n",
       "    </tr>\n",
       "    <tr>\n",
       "      <th>b3_05</th>\n",
       "      <td>27794.164062</td>\n",
       "    </tr>\n",
       "    <tr>\n",
       "      <th>b3_06</th>\n",
       "      <td>27806.593750</td>\n",
       "    </tr>\n",
       "    <tr>\n",
       "      <th>b3_07</th>\n",
       "      <td>27771.273438</td>\n",
       "    </tr>\n",
       "    <tr>\n",
       "      <th>b3_08</th>\n",
       "      <td>27801.007812</td>\n",
       "    </tr>\n",
       "    <tr>\n",
       "      <th>b3_09</th>\n",
       "      <td>27766.781250</td>\n",
       "    </tr>\n",
       "    <tr>\n",
       "      <th>b3_10</th>\n",
       "      <td>27815.070312</td>\n",
       "    </tr>\n",
       "    <tr>\n",
       "      <th>b3_11</th>\n",
       "      <td>27822.601562</td>\n",
       "    </tr>\n",
       "    <tr>\n",
       "      <th>b3_12</th>\n",
       "      <td>27763.031250</td>\n",
       "    </tr>\n",
       "    <tr>\n",
       "      <th>b3_13</th>\n",
       "      <td>27789.640625</td>\n",
       "    </tr>\n",
       "    <tr>\n",
       "      <th>b3_14</th>\n",
       "      <td>27785.414062</td>\n",
       "    </tr>\n",
       "    <tr>\n",
       "      <th>b3_15</th>\n",
       "      <td>27741.507812</td>\n",
       "    </tr>\n",
       "    <tr>\n",
       "      <th>b3_16</th>\n",
       "      <td>27774.312500</td>\n",
       "    </tr>\n",
       "    <tr>\n",
       "      <th>b3_17</th>\n",
       "      <td>27776.351562</td>\n",
       "    </tr>\n",
       "    <tr>\n",
       "      <th>b3_18</th>\n",
       "      <td>27746.804688</td>\n",
       "    </tr>\n",
       "    <tr>\n",
       "      <th>b3_19</th>\n",
       "      <td>27770.890625</td>\n",
       "    </tr>\n",
       "    <tr>\n",
       "      <th>b3_20</th>\n",
       "      <td>27795.125000</td>\n",
       "    </tr>\n",
       "    <tr>\n",
       "      <th>b3_21</th>\n",
       "      <td>27762.289062</td>\n",
       "    </tr>\n",
       "  </tbody>\n",
       "</table>\n",
       "<p>189 rows × 1 columns</p>\n",
       "</div>"
      ],
      "text/plain": [
       "                  0\n",
       "a1_01  22446.164062\n",
       "a1_02  22392.500000\n",
       "a1_03  22391.226562\n",
       "a1_04  22402.195312\n",
       "a1_05  22425.250000\n",
       "a1_06  22419.945312\n",
       "a1_07  22467.781250\n",
       "a1_08  22454.265625\n",
       "a1_09  22449.835938\n",
       "a1_10  22466.328125\n",
       "a1_11  22499.414062\n",
       "a1_12  22462.632812\n",
       "a1_13  22395.804688\n",
       "a1_14  22460.203125\n",
       "a1_15  22502.703125\n",
       "a1_16  22481.421875\n",
       "a1_17  22417.195312\n",
       "a1_18  22426.406250\n",
       "a1_19  22468.710938\n",
       "a1_20  22429.695312\n",
       "a1_21  22465.226562\n",
       "a2_01  22745.171875\n",
       "a2_02  22769.328125\n",
       "a2_03  22781.507812\n",
       "a2_04  22764.554688\n",
       "a2_05  22801.562500\n",
       "a2_06  22810.328125\n",
       "a2_07  22735.578125\n",
       "a2_08  22795.242188\n",
       "a2_09  22756.890625\n",
       "...             ...\n",
       "b2_13  28268.367188\n",
       "b2_14  28290.414062\n",
       "b2_15  28269.390625\n",
       "b2_16  28200.070312\n",
       "b2_17  28129.710938\n",
       "b2_18  28140.640625\n",
       "b2_19  28073.132812\n",
       "b2_20  28038.671875\n",
       "b2_21  27893.148438\n",
       "b3_01  27798.875000\n",
       "b3_02  27810.148438\n",
       "b3_03  27809.851562\n",
       "b3_04  27803.828125\n",
       "b3_05  27794.164062\n",
       "b3_06  27806.593750\n",
       "b3_07  27771.273438\n",
       "b3_08  27801.007812\n",
       "b3_09  27766.781250\n",
       "b3_10  27815.070312\n",
       "b3_11  27822.601562\n",
       "b3_12  27763.031250\n",
       "b3_13  27789.640625\n",
       "b3_14  27785.414062\n",
       "b3_15  27741.507812\n",
       "b3_16  27774.312500\n",
       "b3_17  27776.351562\n",
       "b3_18  27746.804688\n",
       "b3_19  27770.890625\n",
       "b3_20  27795.125000\n",
       "b3_21  27762.289062\n",
       "\n",
       "[189 rows x 1 columns]"
      ]
     },
     "execution_count": 21,
     "metadata": {},
     "output_type": "execute_result"
    }
   ],
   "source": [
    "offsets.T"
   ]
  },
  {
   "cell_type": "code",
   "execution_count": null,
   "metadata": {},
   "outputs": [],
   "source": []
  }
 ],
 "metadata": {
  "kernelspec": {
   "display_name": "Python 3",
   "language": "python",
   "name": "python3"
  },
  "language_info": {
   "codemirror_mode": {
    "name": "ipython",
    "version": 3
   },
   "file_extension": ".py",
   "mimetype": "text/x-python",
   "name": "python",
   "nbconvert_exporter": "python",
   "pygments_lexer": "ipython3",
   "version": "3.7.1"
  }
 },
 "nbformat": 4,
 "nbformat_minor": 2
}
