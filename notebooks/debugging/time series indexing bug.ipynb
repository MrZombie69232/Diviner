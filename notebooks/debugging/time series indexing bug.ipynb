{
 "metadata": {
  "name": "",
  "signature": "sha256:274c5083b1683bacddf8615ade2ad2303eb330ed5c536b58c3a8930c89b65c41"
 },
 "nbformat": 3,
 "nbformat_minor": 0,
 "worksheets": [
  {
   "cells": [
    {
     "cell_type": "code",
     "collapsed": false,
     "input": [
      "import pandas\n",
      "import datetime as dt\n",
      "pandas.__version__\n",
      "from diviner import calib, file_utils as fu, plot_utils as pu\n",
      "reload(calib)\n",
      "reload(pu)\n",
      "reload(fu)"
     ],
     "language": "python",
     "metadata": {},
     "outputs": [
      {
       "metadata": {},
       "output_type": "pyout",
       "prompt_number": 105,
       "text": [
        "<module 'diviner.file_utils' from '/Users/maye/Dropbox/src/diviner/file_utils.pyc'>"
       ]
      }
     ],
     "prompt_number": 105
    },
    {
     "cell_type": "code",
     "collapsed": false,
     "input": [
      "fu.l1adatapath"
     ],
     "language": "python",
     "metadata": {},
     "outputs": [
      {
       "metadata": {},
       "output_type": "pyout",
       "prompt_number": 106,
       "text": [
        "'/luna1/marks/feidata/DIV:opsL1A/data'"
       ]
      }
     ],
     "prompt_number": 106
    },
    {
     "cell_type": "code",
     "collapsed": false,
     "input": [
      "tstr = '2011071909'\n",
      "l1a = fu.L1ADataFile.from_timestr(tstr)\n",
      "#df = l1a.open()\n",
      "df = fu.open_and_accumulate(l1a.fname)"
     ],
     "language": "python",
     "metadata": {},
     "outputs": [
      {
       "output_type": "stream",
       "stream": "stdout",
       "text": [
        "Appending 2011071910 on the right.\n"
       ]
      }
     ],
     "prompt_number": 107
    },
    {
     "cell_type": "code",
     "collapsed": false,
     "input": [
      "start = dt.datetime(2011,7,19,0,0)\n",
      "start"
     ],
     "language": "python",
     "metadata": {},
     "outputs": [
      {
       "metadata": {},
       "output_type": "pyout",
       "prompt_number": 108,
       "text": [
        "datetime.datetime(2011, 7, 19, 0, 0)"
       ]
      }
     ],
     "prompt_number": 108
    },
    {
     "cell_type": "code",
     "collapsed": false,
     "input": [
      "start.isoformat()"
     ],
     "language": "python",
     "metadata": {},
     "outputs": [
      {
       "metadata": {},
       "output_type": "pyout",
       "prompt_number": 109,
       "text": [
        "'2011-07-19T00:00:00'"
       ]
      }
     ],
     "prompt_number": 109
    },
    {
     "cell_type": "code",
     "collapsed": false,
     "input": [
      "i = 28127\n",
      "j = 56254\n",
      "part_of_broken = df.index[j:-i]\n",
      "df2 = pd.DataFrame(randn(len(df.index)-i-j,3), index=part_of_broken)\n",
      "print df2.head()\n",
      "print df2.tail()\n",
      "print \"Length\",len(df2)\n",
      "sys.stdout.flush()\n",
      "try:\n",
      "    print df2[start:].head()\n",
      "except KeyError as e:\n",
      "    print KeyError, e    "
     ],
     "language": "python",
     "metadata": {},
     "outputs": [
      {
       "output_type": "stream",
       "stream": "stdout",
       "text": [
        "                                   0         1         2\n",
        "2011-07-19 10:00:01.824000 -0.071762 -0.708509 -0.764987\n",
        "2011-07-19 10:00:01.952000  1.487533 -0.111620  0.858629\n",
        "2011-07-19 10:00:00.038000  0.600555  0.183954 -0.635211\n",
        "\n",
        "[3 rows x 3 columns]\n",
        "                                   0         1         2\n",
        "2011-07-19 10:00:01.824000 -0.071762 -0.708509 -0.764987\n",
        "2011-07-19 10:00:01.952000  1.487533 -0.111620  0.858629\n",
        "2011-07-19 10:00:00.038000  0.600555  0.183954 -0.635211\n",
        "\n",
        "[3 rows x 3 columns]\n",
        "Length 3\n"
       ]
      },
      {
       "output_type": "stream",
       "stream": "stdout",
       "text": [
        "<type 'exceptions.KeyError'> Timestamp('2011-07-19 00:00:00', tz=None)\n"
       ]
      }
     ],
     "prompt_number": 138
    },
    {
     "cell_type": "code",
     "collapsed": false,
     "input": [
      "start = dt.datetime(2011,7,19,10)"
     ],
     "language": "python",
     "metadata": {},
     "outputs": [],
     "prompt_number": 145
    },
    {
     "cell_type": "code",
     "collapsed": false,
     "input": [
      "df2"
     ],
     "language": "python",
     "metadata": {},
     "outputs": [
      {
       "html": [
        "<div style=\"max-height:1000px;max-width:1500px;overflow:auto;\">\n",
        "<table border=\"1\" class=\"dataframe\">\n",
        "  <thead>\n",
        "    <tr style=\"text-align: right;\">\n",
        "      <th></th>\n",
        "      <th>0</th>\n",
        "      <th>1</th>\n",
        "      <th>2</th>\n",
        "    </tr>\n",
        "  </thead>\n",
        "  <tbody>\n",
        "    <tr>\n",
        "      <th>2011-07-19 10:00:01.824000</th>\n",
        "      <td>-0.071762</td>\n",
        "      <td>-0.708509</td>\n",
        "      <td>-0.764987</td>\n",
        "    </tr>\n",
        "    <tr>\n",
        "      <th>2011-07-19 10:00:01.952000</th>\n",
        "      <td> 1.487533</td>\n",
        "      <td>-0.111620</td>\n",
        "      <td> 0.858629</td>\n",
        "    </tr>\n",
        "    <tr>\n",
        "      <th>2011-07-19 10:00:00.038000</th>\n",
        "      <td> 0.600555</td>\n",
        "      <td> 0.183954</td>\n",
        "      <td>-0.635211</td>\n",
        "    </tr>\n",
        "  </tbody>\n",
        "</table>\n",
        "<p>3 rows \u00d7 3 columns</p>\n",
        "</div>"
       ],
       "metadata": {},
       "output_type": "pyout",
       "prompt_number": 170,
       "text": [
        "                                   0         1         2\n",
        "2011-07-19 10:00:01.824000 -0.071762 -0.708509 -0.764987\n",
        "2011-07-19 10:00:01.952000  1.487533 -0.111620  0.858629\n",
        "2011-07-19 10:00:00.038000  0.600555  0.183954 -0.635211\n",
        "\n",
        "[3 rows x 3 columns]"
       ]
      }
     ],
     "prompt_number": 170
    },
    {
     "cell_type": "code",
     "collapsed": false,
     "input": [
      "try:\n",
      "    df2[start:]\n",
      "except KeyError as e:\n",
      "    print KeyError, e"
     ],
     "language": "python",
     "metadata": {},
     "outputs": [
      {
       "output_type": "stream",
       "stream": "stdout",
       "text": [
        "<type 'exceptions.KeyError'> Timestamp('2011-07-19 10:00:00', tz=None)\n"
       ]
      }
     ],
     "prompt_number": 164
    },
    {
     "cell_type": "code",
     "collapsed": false,
     "input": [
      "df.iloc[:-1][start:]"
     ],
     "language": "python",
     "metadata": {},
     "outputs": [
      {
       "html": [
        "<div style=\"max-height:1000px;max-width:1500px;overflow:auto;\">\n",
        "<table border=\"1\" class=\"dataframe\">\n",
        "  <thead>\n",
        "    <tr style=\"text-align: right;\">\n",
        "      <th></th>\n",
        "      <th>0</th>\n",
        "      <th>1</th>\n",
        "      <th>2</th>\n",
        "    </tr>\n",
        "  </thead>\n",
        "  <tbody>\n",
        "    <tr>\n",
        "      <th>2011-07-19 10:00:00.038000</th>\n",
        "      <td> 0.600555</td>\n",
        "      <td> 0.183954</td>\n",
        "      <td>-0.635211</td>\n",
        "    </tr>\n",
        "    <tr>\n",
        "      <th>2011-07-19 10:00:01.824000</th>\n",
        "      <td>-0.071762</td>\n",
        "      <td>-0.708509</td>\n",
        "      <td>-0.764987</td>\n",
        "    </tr>\n",
        "  </tbody>\n",
        "</table>\n",
        "<p>2 rows \u00d7 3 columns</p>\n",
        "</div>"
       ],
       "metadata": {},
       "output_type": "pyout",
       "prompt_number": 165,
       "text": [
        "                                   0         1         2\n",
        "2011-07-19 10:00:00.038000  0.600555  0.183954 -0.635211\n",
        "2011-07-19 10:00:01.824000 -0.071762 -0.708509 -0.764987\n",
        "\n",
        "[2 rows x 3 columns]"
       ]
      }
     ],
     "prompt_number": 165
    },
    {
     "cell_type": "code",
     "collapsed": false,
     "input": [
      "jstr = '{\"0\":{\"1311069601824\":-0.0717615221,\"1311069601952\":1.4875326599,\"1311069600038\":0.6005551597},\"1\":{\"1311069601824\":-0.7085093684,\"1311069601952\":-0.111620072,\"1311069600038\":0.1839544789},\"2\":{\"1311069601824\":-0.7649867899,\"1311069601952\":0.8586288484,\"1311069600038\":-0.6352107949}}'"
     ],
     "language": "python",
     "metadata": {},
     "outputs": [],
     "prompt_number": 172
    },
    {
     "cell_type": "code",
     "collapsed": false,
     "input": [
      "pd.read_json(jstr).info()"
     ],
     "language": "python",
     "metadata": {},
     "outputs": [
      {
       "output_type": "stream",
       "stream": "stdout",
       "text": [
        "<class 'pandas.core.frame.DataFrame'>\n",
        "DatetimeIndex: 3 entries, 2011-07-19 10:00:00.038000 to 2011-07-19 10:00:01.952000\n",
        "Data columns (total 3 columns):\n",
        "0    3  non-null values\n",
        "1    3  non-null values\n",
        "2    3  non-null values\n",
        "dtypes: float64(3)"
       ]
      }
     ],
     "prompt_number": 174
    },
    {
     "cell_type": "code",
     "collapsed": false,
     "input": [],
     "language": "python",
     "metadata": {},
     "outputs": []
    }
   ],
   "metadata": {}
  }
 ]
}