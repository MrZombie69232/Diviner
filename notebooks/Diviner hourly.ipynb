{
 "metadata": {
  "name": ""
 },
 "nbformat": 3,
 "nbformat_minor": 0,
 "worksheets": [
  {
   "cells": [
    {
     "cell_type": "code",
     "collapsed": false,
     "input": [
      "import pandas as pd\n",
      "from diviner import calib\n",
      "from diviner import file_utils as fu\n",
      "from diviner import plot_utils as pu\n",
      "pd.__version__"
     ],
     "language": "python",
     "metadata": {},
     "outputs": [
      {
       "metadata": {},
       "output_type": "pyout",
       "prompt_number": 2,
       "text": [
        "'0.12.0'"
       ]
      }
     ],
     "prompt_number": 2
    },
    {
     "cell_type": "code",
     "collapsed": false,
     "input": [
      "pump = fu.Div247DataPump('201104')"
     ],
     "language": "python",
     "metadata": {},
     "outputs": [],
     "prompt_number": 3
    },
    {
     "cell_type": "code",
     "collapsed": false,
     "input": [
      "df = pump.get_n_hours_from_t(1,0)"
     ],
     "language": "python",
     "metadata": {},
     "outputs": [
      {
       "output_type": "stream",
       "stream": "stdout",
       "text": [
        "2011040100.div247\n"
       ]
      }
     ],
     "prompt_number": 5
    },
    {
     "cell_type": "code",
     "collapsed": false,
     "input": [
      "df.filter(regex='temp')"
     ],
     "language": "python",
     "metadata": {},
     "outputs": [
      {
       "html": [
        "<pre>\n",
        "&lt;class 'pandas.core.frame.DataFrame'&gt;\n",
        "DatetimeIndex: 28112 entries, 2011-04-01 00:00:01.978000 to 2011-04-01 01:00:00.234000\n",
        "Data columns (total 21 columns):\n",
        "temp_fault           1757  non-null values\n",
        "fpa_temp             1747  non-null values\n",
        "fpb_temp             1747  non-null values\n",
        "baffle_a_temp        1747  non-null values\n",
        "baffle_b_temp        1747  non-null values\n",
        "bb_1_temp            1745  non-null values\n",
        "oba_1_temp           1745  non-null values\n",
        "hybrid_temp          152  non-null values\n",
        "fpa_temp_cyc         152  non-null values\n",
        "fpb_temp_cyc         152  non-null values\n",
        "baffle_a_temp_cyc    152  non-null values\n",
        "baffle_b_temp_cyc    152  non-null values\n",
        "oba_1_temp_cyc       152  non-null values\n",
        "oba_2_temp           152  non-null values\n",
        "bb_1_temp_cyc        152  non-null values\n",
        "bb_2_temp            152  non-null values\n",
        "solar_target_temp    152  non-null values\n",
        "yoke_temp            152  non-null values\n",
        "el_actuator_temp     152  non-null values\n",
        "az_actuator_temp     152  non-null values\n",
        "solar_base_temp      152  non-null values\n",
        "dtypes: float64(21)\n",
        "</pre>"
       ],
       "metadata": {},
       "output_type": "pyout",
       "prompt_number": 6,
       "text": [
        "<class 'pandas.core.frame.DataFrame'>\n",
        "DatetimeIndex: 28112 entries, 2011-04-01 00:00:01.978000 to 2011-04-01 01:00:00.234000\n",
        "Data columns (total 21 columns):\n",
        "temp_fault           1757  non-null values\n",
        "fpa_temp             1747  non-null values\n",
        "fpb_temp             1747  non-null values\n",
        "baffle_a_temp        1747  non-null values\n",
        "baffle_b_temp        1747  non-null values\n",
        "bb_1_temp            1745  non-null values\n",
        "oba_1_temp           1745  non-null values\n",
        "hybrid_temp          152  non-null values\n",
        "fpa_temp_cyc         152  non-null values\n",
        "fpb_temp_cyc         152  non-null values\n",
        "baffle_a_temp_cyc    152  non-null values\n",
        "baffle_b_temp_cyc    152  non-null values\n",
        "oba_1_temp_cyc       152  non-null values\n",
        "oba_2_temp           152  non-null values\n",
        "bb_1_temp_cyc        152  non-null values\n",
        "bb_2_temp            152  non-null values\n",
        "solar_target_temp    152  non-null values\n",
        "yoke_temp            152  non-null values\n",
        "el_actuator_temp     152  non-null values\n",
        "az_actuator_temp     152  non-null values\n",
        "solar_base_temp      152  non-null values\n",
        "dtypes: float64(21)"
       ]
      }
     ],
     "prompt_number": 6
    },
    {
     "cell_type": "code",
     "collapsed": false,
     "input": [
      "df.b3_11.plot()"
     ],
     "language": "python",
     "metadata": {},
     "outputs": [
      {
       "output_type": "pyout",
       "prompt_number": 13,
       "text": [
        "<matplotlib.axes.AxesSubplot at 0x1183472d0>"
       ]
      }
     ],
     "prompt_number": 13
    },
    {
     "cell_type": "code",
     "collapsed": false,
     "input": [
      "df"
     ],
     "language": "python",
     "metadata": {},
     "outputs": [
      {
       "output_type": "pyout",
       "prompt_number": 14,
       "text": [
        "<class 'pandas.core.frame.DataFrame'>\n",
        "DatetimeIndex: 56240 entries, 2011-04-01 00:00:01.978000 to 2011-04-01 02:00:00.697000\n",
        "Columns: 252 entries, sclk to is_calib\n",
        "dtypes: bool(6), float64(241), int32(4), int64(1)"
       ]
      }
     ],
     "prompt_number": 14
    },
    {
     "cell_type": "code",
     "collapsed": false,
     "input": [
      "df.calib_block_labels.value_counts()"
     ],
     "language": "python",
     "metadata": {},
     "outputs": [
      {
       "output_type": "pyout",
       "prompt_number": 15,
       "text": [
        "0     51632\n",
        "3       736\n",
        "12      352\n",
        "11      352\n",
        "10      352\n",
        "9       352\n",
        "8       352\n",
        "7       352\n",
        "6       352\n",
        "5       352\n",
        "4       352\n",
        "2       352\n",
        "1       352\n",
        "dtype: int64"
       ]
      }
     ],
     "prompt_number": 15
    },
    {
     "cell_type": "code",
     "collapsed": false,
     "input": [
      "df.is_calib.value_counts()"
     ],
     "language": "python",
     "metadata": {},
     "outputs": [
      {
       "output_type": "pyout",
       "prompt_number": 16,
       "text": [
        "False    53200\n",
        "True      3040\n",
        "dtype: int64"
       ]
      }
     ],
     "prompt_number": 16
    },
    {
     "cell_type": "code",
     "collapsed": false,
     "input": [
      "df.is_moving.value_counts()"
     ],
     "language": "python",
     "metadata": {},
     "outputs": [
      {
       "output_type": "pyout",
       "prompt_number": 17,
       "text": [
        "False    54096\n",
        "True      2144\n",
        "dtype: int64"
       ]
      }
     ],
     "prompt_number": 17
    },
    {
     "cell_type": "code",
     "collapsed": false,
     "input": [
      "df.is_stview.value_counts() # that 80 is one st_view"
     ],
     "language": "python",
     "metadata": {},
     "outputs": [
      {
       "output_type": "pyout",
       "prompt_number": 18,
       "text": [
        "False    56160\n",
        "True        80\n",
        "dtype: int64"
       ]
      }
     ],
     "prompt_number": 18
    },
    {
     "cell_type": "markdown",
     "metadata": {},
     "source": [
      "the reason for the moving data after the last sv_view being cut-off abruptly, is the commanded azimuth and elevation not fitting to any calib pointing definition. That's why the moving part at the end is in no block definition, even so the blocks contain all other moving data."
     ]
    },
    {
     "cell_type": "code",
     "collapsed": false,
     "input": [
      "pu.plot_calib_block(df,'calib_block_labels',6)"
     ],
     "language": "python",
     "metadata": {},
     "outputs": [],
     "prompt_number": 19
    },
    {
     "cell_type": "code",
     "collapsed": false,
     "input": [
      "df[df.calib_block_labels==6].index[-1]"
     ],
     "language": "python",
     "metadata": {},
     "outputs": [
      {
       "output_type": "pyout",
       "prompt_number": 20,
       "text": [
        "<Timestamp: 2011-04-01 00:59:00.841000>"
       ]
      }
     ],
     "prompt_number": 20
    },
    {
     "cell_type": "code",
     "collapsed": false,
     "input": [
      "df.index[-1]"
     ],
     "language": "python",
     "metadata": {},
     "outputs": [
      {
       "output_type": "pyout",
       "prompt_number": 21,
       "text": [
        "<Timestamp: 2011-04-01 02:00:00.697000>"
       ]
      }
     ],
     "prompt_number": 21
    },
    {
     "cell_type": "code",
     "collapsed": false,
     "input": [
      "df.sv_block_labels.value_counts().sort_index()"
     ],
     "language": "python",
     "metadata": {},
     "outputs": [
      {
       "output_type": "pyout",
       "prompt_number": 22,
       "text": [
        "0     53248\n",
        "1       128\n",
        "2       112\n",
        "3       128\n",
        "4       112\n",
        "5       128\n",
        "6       112\n",
        "7       112\n",
        "8       128\n",
        "9       112\n",
        "10      128\n",
        "11      112\n",
        "12      128\n",
        "13      112\n",
        "14      128\n",
        "15      112\n",
        "16      128\n",
        "17      112\n",
        "18      128\n",
        "19      112\n",
        "20      128\n",
        "21      112\n",
        "22      128\n",
        "23      112\n",
        "24      128\n",
        "25      112\n",
        "dtype: int64"
       ]
      }
     ],
     "prompt_number": 22
    },
    {
     "cell_type": "code",
     "collapsed": false,
     "input": [
      "df.bb_block_labels.value_counts()"
     ],
     "language": "python",
     "metadata": {},
     "outputs": [
      {
       "output_type": "pyout",
       "prompt_number": 23,
       "text": [
        "0     54896\n",
        "12      112\n",
        "11      112\n",
        "10      112\n",
        "9       112\n",
        "8       112\n",
        "7       112\n",
        "6       112\n",
        "5       112\n",
        "4       112\n",
        "3       112\n",
        "2       112\n",
        "1       112\n",
        "dtype: int64"
       ]
      }
     ],
     "prompt_number": 23
    },
    {
     "cell_type": "code",
     "collapsed": false,
     "input": [
      "pu.plot_calib_block(df,'bb_block_labels',6)"
     ],
     "language": "python",
     "metadata": {},
     "outputs": [],
     "prompt_number": 24
    },
    {
     "cell_type": "code",
     "collapsed": false,
     "input": [
      "t1 = df[df.calib_block_labels==2].index[0]"
     ],
     "language": "python",
     "metadata": {},
     "outputs": [],
     "prompt_number": 25
    },
    {
     "cell_type": "code",
     "collapsed": false,
     "input": [
      "t2 = df[df.calib_block_labels==4].index[-1]"
     ],
     "language": "python",
     "metadata": {},
     "outputs": [],
     "prompt_number": 26
    },
    {
     "cell_type": "code",
     "collapsed": false,
     "input": [
      "df.ix[t1:t2]"
     ],
     "language": "python",
     "metadata": {},
     "outputs": [
      {
       "output_type": "pyout",
       "prompt_number": 27,
       "text": [
        "<class 'pandas.core.frame.DataFrame'>\n",
        "DatetimeIndex: 9968 entries, 2011-04-01 00:17:12.135999 to 2011-04-01 00:38:27.928999\n",
        "Columns: 252 entries, sclk to is_calib\n",
        "dtypes: bool(6), float64(241), int32(4), int64(1)"
       ]
      }
     ],
     "prompt_number": 27
    },
    {
     "cell_type": "code",
     "collapsed": false,
     "input": [
      "df.filter(regex='block_labels')"
     ],
     "language": "python",
     "metadata": {},
     "outputs": [
      {
       "output_type": "pyout",
       "prompt_number": 28,
       "text": [
        "<class 'pandas.core.frame.DataFrame'>\n",
        "DatetimeIndex: 56240 entries, 2011-04-01 00:00:01.978000 to 2011-04-01 02:00:00.697000\n",
        "Data columns (total 4 columns):\n",
        "calib_block_labels    56240  non-null values\n",
        "sv_block_labels       56240  non-null values\n",
        "bb_block_labels       56240  non-null values\n",
        "st_block_labels       56240  non-null values\n",
        "dtypes: int32(4)"
       ]
      }
     ],
     "prompt_number": 28
    },
    {
     "cell_type": "code",
     "collapsed": false,
     "input": [
      "ax = df.filter(regex='block_labels').plot(linewidth=2)\n",
      "df.filter(regex='is_').plot(ax=ax,linewidth=2)"
     ],
     "language": "python",
     "metadata": {},
     "outputs": [
      {
       "output_type": "pyout",
       "prompt_number": 29,
       "text": [
        "<matplotlib.axes.AxesSubplot at 0x118f78050>"
       ]
      }
     ],
     "prompt_number": 29
    },
    {
     "cell_type": "code",
     "collapsed": false,
     "input": [
      "pu.plot_calib_block(df,'calib_block_labels',3,det='b1_11')"
     ],
     "language": "python",
     "metadata": {},
     "outputs": [],
     "prompt_number": 30
    },
    {
     "cell_type": "markdown",
     "metadata": {},
     "source": [
      "the calib block labels contain moving data as well, to be able to mark sv and bb views together as 1 block if they happen together. that's why I have to subtract the moving data if I want to compare the resulting number with df.is_calib entries."
     ]
    },
    {
     "cell_type": "code",
     "collapsed": false,
     "input": [
      "df[(df.calib_block_labels >0) & (df.moving==1)]"
     ],
     "language": "python",
     "metadata": {},
     "outputs": [
      {
       "output_type": "pyout",
       "prompt_number": 31,
       "text": [
        "<class 'pandas.core.frame.DataFrame'>\n",
        "DatetimeIndex: 1568 entries, 2011-04-01 00:06:53.631999 to 2011-04-01 01:55:26.259000\n",
        "Columns: 252 entries, sclk to is_calib\n",
        "dtypes: bool(6), float64(241), int32(4), int64(1)"
       ]
      }
     ],
     "prompt_number": 31
    },
    {
     "cell_type": "code",
     "collapsed": false,
     "input": [
      "df.calib_block_labels.value_counts().sort_index()[1:].sum()"
     ],
     "language": "python",
     "metadata": {},
     "outputs": [
      {
       "output_type": "pyout",
       "prompt_number": 32,
       "text": [
        "4608"
       ]
      }
     ],
     "prompt_number": 32
    },
    {
     "cell_type": "code",
     "collapsed": false,
     "input": [
      "2496-896"
     ],
     "language": "python",
     "metadata": {},
     "outputs": [
      {
       "output_type": "pyout",
       "prompt_number": 33,
       "text": [
        "1600"
       ]
      }
     ],
     "prompt_number": 33
    },
    {
     "cell_type": "markdown",
     "metadata": {},
     "source": [
      "this is the same as the value of all is_calib data (which does not contain moving data)"
     ]
    },
    {
     "cell_type": "code",
     "collapsed": false,
     "input": [
      "df.is_calib.value_counts()"
     ],
     "language": "python",
     "metadata": {},
     "outputs": [
      {
       "output_type": "pyout",
       "prompt_number": 34,
       "text": [
        "False    53200\n",
        "True      3040\n",
        "dtype: int64"
       ]
      }
     ],
     "prompt_number": 34
    },
    {
     "cell_type": "code",
     "collapsed": false,
     "input": [
      "pump = fu.Div247DataPump('201104')"
     ],
     "language": "python",
     "metadata": {},
     "outputs": [],
     "prompt_number": 35
    },
    {
     "cell_type": "code",
     "collapsed": false,
     "input": [
      "df = pump.get_n_hours(1)"
     ],
     "language": "python",
     "metadata": {},
     "outputs": [
      {
       "output_type": "stream",
       "stream": "stdout",
       "text": [
        "/Users/maye/data/diviner/div247/201104/2011040100.div247\n"
       ]
      }
     ],
     "prompt_number": 97
    },
    {
     "cell_type": "code",
     "collapsed": false,
     "input": [
      "df.groupby(['calib_block_labels','is_spaceview']).a3_11.mean()"
     ],
     "language": "python",
     "metadata": {},
     "outputs": [
      {
       "output_type": "pyout",
       "prompt_number": 37,
       "text": [
        "calib_block_labels  is_spaceview\n",
        "0                   False           22366.915404\n",
        "1                   False           23167.416667\n",
        "                    True            23815.556250\n",
        "2                   False           23167.223958\n",
        "                    True            23805.956250\n",
        "3                   False           23375.290323\n",
        "                    True            23808.483333\n",
        "4                   False           22879.781250\n",
        "                    True            23825.062500\n",
        "5                   False           22551.218750\n",
        "                    True            23854.287500\n",
        "6                   False           22421.588542\n",
        "                    True            23884.593750\n",
        "Name: a3_11, dtype: float64"
       ]
      }
     ],
     "prompt_number": 37
    },
    {
     "cell_type": "code",
     "collapsed": false,
     "input": [
      "def ptp(arr):\n",
      "    return arr.max() - arr.min()"
     ],
     "language": "python",
     "metadata": {},
     "outputs": [],
     "prompt_number": 38
    },
    {
     "cell_type": "code",
     "collapsed": false,
     "input": [
      "df.groupby(['calib_block_labels','is_spaceview'])['a3_11','a4_11'].agg([ptp,'size'])"
     ],
     "language": "python",
     "metadata": {},
     "outputs": [
      {
       "html": [
        "<div style=\"max-height:1000px;max-width:1500px;overflow:auto;\">\n",
        "<table border=\"1\" class=\"dataframe\">\n",
        "  <thead>\n",
        "    <tr>\n",
        "      <th></th>\n",
        "      <th></th>\n",
        "      <th colspan=\"2\" halign=\"left\">a3_11</th>\n",
        "      <th colspan=\"2\" halign=\"left\">a4_11</th>\n",
        "    </tr>\n",
        "    <tr>\n",
        "      <th></th>\n",
        "      <th></th>\n",
        "      <th>ptp</th>\n",
        "      <th>size</th>\n",
        "      <th>ptp</th>\n",
        "      <th>size</th>\n",
        "    </tr>\n",
        "    <tr>\n",
        "      <th>calib_block_labels</th>\n",
        "      <th>is_spaceview</th>\n",
        "      <th></th>\n",
        "      <th></th>\n",
        "      <th></th>\n",
        "      <th></th>\n",
        "    </tr>\n",
        "  </thead>\n",
        "  <tbody>\n",
        "    <tr>\n",
        "      <th>0</th>\n",
        "      <th>False</th>\n",
        "      <td> 5052</td>\n",
        "      <td> 25616</td>\n",
        "      <td> 2357</td>\n",
        "      <td> 25616</td>\n",
        "    </tr>\n",
        "    <tr>\n",
        "      <th rowspan=\"2\" valign=\"top\">1</th>\n",
        "      <th>False</th>\n",
        "      <td> 1198</td>\n",
        "      <td>   192</td>\n",
        "      <td>  608</td>\n",
        "      <td>   192</td>\n",
        "    </tr>\n",
        "    <tr>\n",
        "      <th>True </th>\n",
        "      <td>   14</td>\n",
        "      <td>   160</td>\n",
        "      <td>   16</td>\n",
        "      <td>   160</td>\n",
        "    </tr>\n",
        "    <tr>\n",
        "      <th rowspan=\"2\" valign=\"top\">2</th>\n",
        "      <th>False</th>\n",
        "      <td> 1181</td>\n",
        "      <td>   192</td>\n",
        "      <td>  597</td>\n",
        "      <td>   192</td>\n",
        "    </tr>\n",
        "    <tr>\n",
        "      <th>True </th>\n",
        "      <td>   16</td>\n",
        "      <td>   160</td>\n",
        "      <td>   13</td>\n",
        "      <td>   160</td>\n",
        "    </tr>\n",
        "    <tr>\n",
        "      <th rowspan=\"2\" valign=\"top\">3</th>\n",
        "      <th>False</th>\n",
        "      <td> 1180</td>\n",
        "      <td>   496</td>\n",
        "      <td>  596</td>\n",
        "      <td>   496</td>\n",
        "    </tr>\n",
        "    <tr>\n",
        "      <th>True </th>\n",
        "      <td>   28</td>\n",
        "      <td>   240</td>\n",
        "      <td>   22</td>\n",
        "      <td>   240</td>\n",
        "    </tr>\n",
        "    <tr>\n",
        "      <th rowspan=\"2\" valign=\"top\">4</th>\n",
        "      <th>False</th>\n",
        "      <td> 2081</td>\n",
        "      <td>   192</td>\n",
        "      <td>  942</td>\n",
        "      <td>   192</td>\n",
        "    </tr>\n",
        "    <tr>\n",
        "      <th>True </th>\n",
        "      <td>   15</td>\n",
        "      <td>   160</td>\n",
        "      <td>   15</td>\n",
        "      <td>   160</td>\n",
        "    </tr>\n",
        "    <tr>\n",
        "      <th rowspan=\"2\" valign=\"top\">5</th>\n",
        "      <th>False</th>\n",
        "      <td> 3933</td>\n",
        "      <td>   192</td>\n",
        "      <td> 1922</td>\n",
        "      <td>   192</td>\n",
        "    </tr>\n",
        "    <tr>\n",
        "      <th>True </th>\n",
        "      <td>   23</td>\n",
        "      <td>   160</td>\n",
        "      <td>   25</td>\n",
        "      <td>   160</td>\n",
        "    </tr>\n",
        "    <tr>\n",
        "      <th rowspan=\"2\" valign=\"top\">6</th>\n",
        "      <th>False</th>\n",
        "      <td> 4497</td>\n",
        "      <td>   192</td>\n",
        "      <td> 2170</td>\n",
        "      <td>   192</td>\n",
        "    </tr>\n",
        "    <tr>\n",
        "      <th>True </th>\n",
        "      <td>   21</td>\n",
        "      <td>   160</td>\n",
        "      <td>   23</td>\n",
        "      <td>   160</td>\n",
        "    </tr>\n",
        "  </tbody>\n",
        "</table>\n",
        "</div>"
       ],
       "output_type": "pyout",
       "prompt_number": 39,
       "text": [
        "                                 a3_11         a4_11       \n",
        "                                   ptp   size    ptp   size\n",
        "calib_block_labels is_spaceview                            \n",
        "0                  False          5052  25616   2357  25616\n",
        "1                  False          1198    192    608    192\n",
        "                   True             14    160     16    160\n",
        "2                  False          1181    192    597    192\n",
        "                   True             16    160     13    160\n",
        "3                  False          1180    496    596    496\n",
        "                   True             28    240     22    240\n",
        "4                  False          2081    192    942    192\n",
        "                   True             15    160     15    160\n",
        "5                  False          3933    192   1922    192\n",
        "                   True             23    160     25    160\n",
        "6                  False          4497    192   2170    192\n",
        "                   True             21    160     23    160"
       ]
      }
     ],
     "prompt_number": 39
    },
    {
     "cell_type": "code",
     "collapsed": false,
     "input": [
      "grouped = df.groupby(['calib_block_labels'])"
     ],
     "language": "python",
     "metadata": {},
     "outputs": [],
     "prompt_number": 40
    },
    {
     "cell_type": "code",
     "collapsed": false,
     "input": [
      "def myfunc(arr):\n",
      "    local_sv = df.ix[arr.index]['is_spaceview']\n",
      "    return arr[local_sv].mean()"
     ],
     "language": "python",
     "metadata": {},
     "outputs": [],
     "prompt_number": 41
    },
    {
     "cell_type": "code",
     "collapsed": false,
     "input": [
      "grouped.a3_11.agg(myfunc)"
     ],
     "language": "python",
     "metadata": {},
     "outputs": [
      {
       "output_type": "pyout",
       "prompt_number": 42,
       "text": [
        "calib_block_labels\n",
        "0                              NaN\n",
        "1                     23815.556250\n",
        "2                     23805.956250\n",
        "3                     23808.483333\n",
        "4                     23825.062500\n",
        "5                     23854.287500\n",
        "6                     23884.593750\n",
        "Name: a3_11, dtype: float64"
       ]
      }
     ],
     "prompt_number": 42
    },
    {
     "cell_type": "code",
     "collapsed": false,
     "input": [
      "df.groupby(['calib_block_labels','is_spaceview']).a3_11.mean()"
     ],
     "language": "python",
     "metadata": {},
     "outputs": [
      {
       "output_type": "pyout",
       "prompt_number": 43,
       "text": [
        "calib_block_labels  is_spaceview\n",
        "0                   False           22366.915404\n",
        "1                   False           23167.416667\n",
        "                    True            23815.556250\n",
        "2                   False           23167.223958\n",
        "                    True            23805.956250\n",
        "3                   False           23375.290323\n",
        "                    True            23808.483333\n",
        "4                   False           22879.781250\n",
        "                    True            23825.062500\n",
        "5                   False           22551.218750\n",
        "                    True            23854.287500\n",
        "6                   False           22421.588542\n",
        "                    True            23884.593750\n",
        "Name: a3_11, dtype: float64"
       ]
      }
     ],
     "prompt_number": 43
    },
    {
     "cell_type": "code",
     "collapsed": false,
     "input": [
      "block1 = df[df.calib_block_labels==1]"
     ],
     "language": "python",
     "metadata": {},
     "outputs": [],
     "prompt_number": 44
    },
    {
     "cell_type": "code",
     "collapsed": false,
     "input": [
      "block1[block1.is_spaceview].a3_11.mean()"
     ],
     "language": "python",
     "metadata": {},
     "outputs": [
      {
       "output_type": "pyout",
       "prompt_number": 45,
       "text": [
        "23815.556250000001"
       ]
      }
     ],
     "prompt_number": 45
    },
    {
     "cell_type": "code",
     "collapsed": false,
     "input": [
      "grouped.a3_11.mean()"
     ],
     "language": "python",
     "metadata": {},
     "outputs": [
      {
       "output_type": "pyout",
       "prompt_number": 46,
       "text": [
        "calib_block_labels\n",
        "0                     22366.915404\n",
        "1                     23462.025568\n",
        "2                     23457.556818\n",
        "3                     23516.548913\n",
        "4                     23309.454545\n",
        "5                     23143.522727\n",
        "6                     23086.590909\n",
        "Name: a3_11, dtype: float64"
       ]
      }
     ],
     "prompt_number": 46
    },
    {
     "cell_type": "code",
     "collapsed": false,
     "input": [
      "grouped[['a3_11']].transform(myfunc)"
     ],
     "language": "python",
     "metadata": {},
     "outputs": [
      {
       "output_type": "pyout",
       "prompt_number": 47,
       "text": [
        "<class 'pandas.core.frame.DataFrame'>\n",
        "DatetimeIndex: 28112 entries, 2011-04-01 00:00:01.978000 to 2011-04-01 01:00:00.234000\n",
        "Data columns (total 1 columns):\n",
        "a3_11    2496  non-null values\n",
        "dtypes: float64(1)"
       ]
      }
     ],
     "prompt_number": 47
    },
    {
     "cell_type": "code",
     "collapsed": false,
     "input": [
      "def get_sv(df, column='a3_11'):\n",
      "    dfhere = df[df.is_spaceview]\n",
      "    return dfhere.filter(regex='_11').mean()"
     ],
     "language": "python",
     "metadata": {},
     "outputs": [],
     "prompt_number": 48
    },
    {
     "cell_type": "code",
     "collapsed": false,
     "input": [
      "grouped.apply(get_sv)"
     ],
     "language": "python",
     "metadata": {},
     "outputs": [
      {
       "html": [
        "<div style=\"max-height:1000px;max-width:1500px;overflow:auto;\">\n",
        "<table border=\"1\" class=\"dataframe\">\n",
        "  <thead>\n",
        "    <tr style=\"text-align: right;\">\n",
        "      <th></th>\n",
        "      <th>a1_11</th>\n",
        "      <th>a2_11</th>\n",
        "      <th>a3_11</th>\n",
        "      <th>a4_11</th>\n",
        "      <th>a5_11</th>\n",
        "      <th>a6_11</th>\n",
        "      <th>b1_11</th>\n",
        "      <th>b2_11</th>\n",
        "      <th>b3_11</th>\n",
        "    </tr>\n",
        "    <tr>\n",
        "      <th>calib_block_labels</th>\n",
        "      <th></th>\n",
        "      <th></th>\n",
        "      <th></th>\n",
        "      <th></th>\n",
        "      <th></th>\n",
        "      <th></th>\n",
        "      <th></th>\n",
        "      <th></th>\n",
        "      <th></th>\n",
        "    </tr>\n",
        "  </thead>\n",
        "  <tbody>\n",
        "    <tr>\n",
        "      <th>0</th>\n",
        "      <td>          NaN</td>\n",
        "      <td>          NaN</td>\n",
        "      <td>          NaN</td>\n",
        "      <td>          NaN</td>\n",
        "      <td>         NaN</td>\n",
        "      <td>         NaN</td>\n",
        "      <td>          NaN</td>\n",
        "      <td>         NaN</td>\n",
        "      <td>          NaN</td>\n",
        "    </tr>\n",
        "    <tr>\n",
        "      <th>1</th>\n",
        "      <td> 22368.262500</td>\n",
        "      <td> 22556.006250</td>\n",
        "      <td> 23815.556250</td>\n",
        "      <td> 23195.531250</td>\n",
        "      <td> 23189.60625</td>\n",
        "      <td> 26347.68750</td>\n",
        "      <td> 30025.150000</td>\n",
        "      <td> 28159.81250</td>\n",
        "      <td> 27702.425000</td>\n",
        "    </tr>\n",
        "    <tr>\n",
        "      <th>2</th>\n",
        "      <td> 22400.506250</td>\n",
        "      <td> 22561.437500</td>\n",
        "      <td> 23805.956250</td>\n",
        "      <td> 23193.868750</td>\n",
        "      <td> 23188.24375</td>\n",
        "      <td> 26346.76875</td>\n",
        "      <td> 30028.937500</td>\n",
        "      <td> 28155.71875</td>\n",
        "      <td> 27700.368750</td>\n",
        "    </tr>\n",
        "    <tr>\n",
        "      <th>3</th>\n",
        "      <td> 22419.620833</td>\n",
        "      <td> 22580.833333</td>\n",
        "      <td> 23808.483333</td>\n",
        "      <td> 23205.541667</td>\n",
        "      <td> 23200.80000</td>\n",
        "      <td> 26348.53750</td>\n",
        "      <td> 30037.404167</td>\n",
        "      <td> 28161.56250</td>\n",
        "      <td> 27706.604167</td>\n",
        "    </tr>\n",
        "    <tr>\n",
        "      <th>4</th>\n",
        "      <td> 22422.918750</td>\n",
        "      <td> 22610.450000</td>\n",
        "      <td> 23825.062500</td>\n",
        "      <td> 23229.750000</td>\n",
        "      <td> 23223.81875</td>\n",
        "      <td> 26355.98750</td>\n",
        "      <td> 30053.531250</td>\n",
        "      <td> 28181.92500</td>\n",
        "      <td> 27722.343750</td>\n",
        "    </tr>\n",
        "    <tr>\n",
        "      <th>5</th>\n",
        "      <td> 22400.556250</td>\n",
        "      <td> 22643.075000</td>\n",
        "      <td> 23854.287500</td>\n",
        "      <td> 23261.537500</td>\n",
        "      <td> 23254.67500</td>\n",
        "      <td> 26366.75000</td>\n",
        "      <td> 30070.225000</td>\n",
        "      <td> 28211.90000</td>\n",
        "      <td> 27743.643750</td>\n",
        "    </tr>\n",
        "    <tr>\n",
        "      <th>6</th>\n",
        "      <td> 22355.493750</td>\n",
        "      <td> 22664.037500</td>\n",
        "      <td> 23884.593750</td>\n",
        "      <td> 23288.312500</td>\n",
        "      <td> 23278.93750</td>\n",
        "      <td> 26374.55000</td>\n",
        "      <td> 30074.768750</td>\n",
        "      <td> 28232.74375</td>\n",
        "      <td> 27757.256250</td>\n",
        "    </tr>\n",
        "  </tbody>\n",
        "</table>\n",
        "</div>"
       ],
       "output_type": "pyout",
       "prompt_number": 49,
       "text": [
        "                           a1_11         a2_11         a3_11         a4_11  \\\n",
        "calib_block_labels                                                           \n",
        "0                            NaN           NaN           NaN           NaN   \n",
        "1                   22368.262500  22556.006250  23815.556250  23195.531250   \n",
        "2                   22400.506250  22561.437500  23805.956250  23193.868750   \n",
        "3                   22419.620833  22580.833333  23808.483333  23205.541667   \n",
        "4                   22422.918750  22610.450000  23825.062500  23229.750000   \n",
        "5                   22400.556250  22643.075000  23854.287500  23261.537500   \n",
        "6                   22355.493750  22664.037500  23884.593750  23288.312500   \n",
        "\n",
        "                          a5_11        a6_11         b1_11        b2_11  \\\n",
        "calib_block_labels                                                        \n",
        "0                           NaN          NaN           NaN          NaN   \n",
        "1                   23189.60625  26347.68750  30025.150000  28159.81250   \n",
        "2                   23188.24375  26346.76875  30028.937500  28155.71875   \n",
        "3                   23200.80000  26348.53750  30037.404167  28161.56250   \n",
        "4                   23223.81875  26355.98750  30053.531250  28181.92500   \n",
        "5                   23254.67500  26366.75000  30070.225000  28211.90000   \n",
        "6                   23278.93750  26374.55000  30074.768750  28232.74375   \n",
        "\n",
        "                           b3_11  \n",
        "calib_block_labels                \n",
        "0                            NaN  \n",
        "1                   27702.425000  \n",
        "2                   27700.368750  \n",
        "3                   27706.604167  \n",
        "4                   27722.343750  \n",
        "5                   27743.643750  \n",
        "6                   27757.256250  "
       ]
      }
     ],
     "prompt_number": 49
    },
    {
     "cell_type": "code",
     "collapsed": false,
     "input": [
      "grouped.a3_11.mean()"
     ],
     "language": "python",
     "metadata": {},
     "outputs": [
      {
       "output_type": "pyout",
       "prompt_number": 50,
       "text": [
        "calib_block_labels\n",
        "0                     22366.915404\n",
        "1                     23462.025568\n",
        "2                     23457.556818\n",
        "3                     23516.548913\n",
        "4                     23309.454545\n",
        "5                     23143.522727\n",
        "6                     23086.590909\n",
        "Name: a3_11, dtype: float64"
       ]
      }
     ],
     "prompt_number": 50
    },
    {
     "cell_type": "code",
     "collapsed": false,
     "input": [
      "s = pd.Series(df.index)"
     ],
     "language": "python",
     "metadata": {},
     "outputs": [],
     "prompt_number": 51
    },
    {
     "cell_type": "code",
     "collapsed": false,
     "input": [
      "fu.timediff(s)"
     ],
     "language": "python",
     "metadata": {},
     "outputs": [
      {
       "output_type": "pyout",
       "prompt_number": 56,
       "text": [
        "0                NaT\n",
        "1    00:00:00.127999\n",
        "2    00:00:00.128001\n",
        "3    00:00:00.128000\n",
        "4    00:00:00.128000\n",
        "5    00:00:00.127999\n",
        "6    00:00:00.128001\n",
        "7    00:00:00.128000\n",
        "8    00:00:00.127999\n",
        "9    00:00:00.128000\n",
        "10   00:00:00.128001\n",
        "11   00:00:00.128000\n",
        "12   00:00:00.127999\n",
        "13   00:00:00.128000\n",
        "14   00:00:00.128001\n",
        "...\n",
        "28097   00:00:00.128000\n",
        "28098   00:00:00.128000\n",
        "28099   00:00:00.128000\n",
        "28100   00:00:00.128000\n",
        "28101   00:00:00.128000\n",
        "28102   00:00:00.128000\n",
        "28103   00:00:00.128000\n",
        "28104   00:00:00.128000\n",
        "28105   00:00:00.128000\n",
        "28106   00:00:00.128000\n",
        "28107   00:00:00.128000\n",
        "28108   00:00:00.128000\n",
        "28109   00:00:00.128000\n",
        "28110   00:00:00.128000\n",
        "28111   00:00:00.128000\n",
        "Length: 28112, dtype: timedelta64[ns]"
       ]
      }
     ],
     "prompt_number": 56
    },
    {
     "cell_type": "code",
     "collapsed": false,
     "input": [
      "reload(calib)"
     ],
     "language": "python",
     "metadata": {},
     "outputs": [
      {
       "output_type": "pyout",
       "prompt_number": 57,
       "text": [
        "<module 'calib' from 'calib.py'>"
       ]
      }
     ],
     "prompt_number": 57
    },
    {
     "cell_type": "code",
     "collapsed": false,
     "input": [
      "stframe = calib.get_calib_block(df,'st')[1]"
     ],
     "language": "python",
     "metadata": {},
     "outputs": [],
     "prompt_number": 63
    },
    {
     "cell_type": "code",
     "collapsed": false,
     "input": [
      "stframe"
     ],
     "language": "python",
     "metadata": {},
     "outputs": [
      {
       "output_type": "pyout",
       "prompt_number": 64,
       "text": [
        "<class 'pandas.core.frame.DataFrame'>\n",
        "DatetimeIndex: 272 entries, 2011-04-01 00:27:20.399999 to 2011-04-01 00:27:55.088000\n",
        "Columns: 252 entries, sclk to is_calib\n",
        "dtypes: bool(6), float64(241), int32(4), int64(1)"
       ]
      }
     ],
     "prompt_number": 64
    },
    {
     "cell_type": "code",
     "collapsed": false,
     "input": [
      "pu.plot_calib_block(df,'st',1)"
     ],
     "language": "python",
     "metadata": {},
     "outputs": [],
     "prompt_number": 65
    },
    {
     "cell_type": "code",
     "collapsed": false,
     "input": [
      "pu.plot_calib_block(df,'sv',1)"
     ],
     "language": "python",
     "metadata": {},
     "outputs": [],
     "prompt_number": 66
    },
    {
     "cell_type": "code",
     "collapsed": false,
     "input": [
      "stframe.calib_block_labels.value_counts()"
     ],
     "language": "python",
     "metadata": {},
     "outputs": [
      {
       "output_type": "pyout",
       "prompt_number": 67,
       "text": [
        "3    272\n",
        "dtype: int64"
       ]
      }
     ],
     "prompt_number": 67
    },
    {
     "cell_type": "code",
     "collapsed": false,
     "input": [
      "pu.plot_calib_block(df,'calib',3)"
     ],
     "language": "python",
     "metadata": {},
     "outputs": [],
     "prompt_number": 68
    },
    {
     "cell_type": "code",
     "collapsed": false,
     "input": [
      "calibdf = df[df.is_calib]"
     ],
     "language": "python",
     "metadata": {},
     "outputs": [],
     "prompt_number": 87
    },
    {
     "cell_type": "code",
     "collapsed": false,
     "input": [
      "pu.plot_calib_block(df, 'calib',3)"
     ],
     "language": "python",
     "metadata": {},
     "outputs": [],
     "prompt_number": 143
    },
    {
     "cell_type": "code",
     "collapsed": false,
     "input": [
      "reload(pu)"
     ],
     "language": "python",
     "metadata": {},
     "outputs": [
      {
       "output_type": "pyout",
       "prompt_number": 141,
       "text": [
        "<module 'plot_utils' from 'plot_utils.py'>"
       ]
      }
     ],
     "prompt_number": 141
    },
    {
     "cell_type": "code",
     "collapsed": false,
     "input": [
      "df.filter(regex='spaceview')"
     ],
     "language": "python",
     "metadata": {},
     "outputs": [
      {
       "output_type": "pyout",
       "prompt_number": 102,
       "text": [
        "<class 'pandas.core.frame.DataFrame'>\n",
        "DatetimeIndex: 28112 entries, 2011-04-01 00:00:01.978000 to 2011-04-01 01:00:00.234000\n",
        "Data columns (total 1 columns):\n",
        "is_spaceview    28112  non-null values\n",
        "dtypes: bool(1)"
       ]
      }
     ],
     "prompt_number": 102
    },
    {
     "cell_type": "code",
     "collapsed": false,
     "input": [
      "dfnow = df[df.calib_block_labels==3]"
     ],
     "language": "python",
     "metadata": {},
     "outputs": [],
     "prompt_number": 131
    },
    {
     "cell_type": "code",
     "collapsed": false,
     "input": [
      "dfnow"
     ],
     "language": "python",
     "metadata": {},
     "outputs": [
      {
       "output_type": "pyout",
       "prompt_number": 132,
       "text": [
        "<class 'pandas.core.frame.DataFrame'>\n",
        "DatetimeIndex: 736 entries, 2011-04-01 00:27:04.016000 to 2011-04-01 00:28:38.097000\n",
        "Columns: 252 entries, sclk to is_calib\n",
        "dtypes: bool(6), float64(241), int32(4), int64(1)"
       ]
      }
     ],
     "prompt_number": 132
    },
    {
     "cell_type": "code",
     "collapsed": false,
     "input": [
      "ts = dfnow[dfnow.is_moving]['a6_11']"
     ],
     "language": "python",
     "metadata": {},
     "outputs": [],
     "prompt_number": 113
    },
    {
     "cell_type": "code",
     "collapsed": false,
     "input": [
      "newdf = pd.DataFrame(index=dfnow.index)"
     ],
     "language": "python",
     "metadata": {},
     "outputs": [],
     "prompt_number": 123
    },
    {
     "cell_type": "code",
     "collapsed": false,
     "input": [
      "newdf['moving'] = ts"
     ],
     "language": "python",
     "metadata": {},
     "outputs": [],
     "prompt_number": 124
    },
    {
     "cell_type": "code",
     "collapsed": false,
     "input": [
      "newdf['spaceview'] = dfnow[dfnow.is_spaceview]['a6_11']"
     ],
     "language": "python",
     "metadata": {},
     "outputs": [],
     "prompt_number": 125
    },
    {
     "cell_type": "code",
     "collapsed": false,
     "input": [
      "det = 'a6_11'"
     ],
     "language": "python",
     "metadata": {},
     "outputs": [],
     "prompt_number": 126
    },
    {
     "cell_type": "code",
     "collapsed": false,
     "input": [
      "newdf['bbview'] = dfnow[dfnow.is_bbview][det]"
     ],
     "language": "python",
     "metadata": {},
     "outputs": [],
     "prompt_number": 127
    },
    {
     "cell_type": "code",
     "collapsed": false,
     "input": [
      "newdf['stview'] = dfnow[dfnow.is_stview][det]"
     ],
     "language": "python",
     "metadata": {},
     "outputs": [],
     "prompt_number": 128
    },
    {
     "cell_type": "code",
     "collapsed": false,
     "input": [
      "newdf.plot(style='.')"
     ],
     "language": "python",
     "metadata": {},
     "outputs": [
      {
       "output_type": "pyout",
       "prompt_number": 129,
       "text": [
        "<matplotlib.axes.AxesSubplot at 0x11e029750>"
       ]
      }
     ],
     "prompt_number": 129
    },
    {
     "cell_type": "code",
     "collapsed": false,
     "input": [
      "newdf = dfnow[df.is_moving | df.is_bbview | df.is_stview | df.is_spaceview][det]"
     ],
     "language": "python",
     "metadata": {},
     "outputs": [],
     "prompt_number": 135
    },
    {
     "cell_type": "code",
     "collapsed": false,
     "input": [],
     "language": "python",
     "metadata": {},
     "outputs": [
      {
       "ename": "AttributeError",
       "evalue": "'TimeSeries' object has no attribute 'columns'",
       "output_type": "pyerr",
       "traceback": [
        "---------------------------------------------------------------------------\nAttributeError                            Traceback (most recent call last)",
        "<ipython-input-138-be05652cbf25> in <module>()\n----> 1 newdf.columns\n",
        "AttributeError: 'TimeSeries' object has no attribute 'columns'"
       ]
      }
     ],
     "prompt_number": 138
    },
    {
     "cell_type": "code",
     "collapsed": false,
     "input": [],
     "language": "python",
     "metadata": {},
     "outputs": []
    }
   ],
   "metadata": {}
  }
 ]
}