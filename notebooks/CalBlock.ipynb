{
 "metadata": {
  "name": ""
 },
 "nbformat": 3,
 "nbformat_minor": 0,
 "worksheets": [
  {
   "cells": [
    {
     "cell_type": "code",
     "collapsed": false,
     "input": [
      "import pandas as pd\n",
      "from diviner import calib\n",
      "from diviner import file_utils as fu\n",
      "from diviner import plot_utils as pu\n",
      "pd.__version__\n",
      "reload(fu)"
     ],
     "language": "python",
     "metadata": {},
     "outputs": [
      {
       "metadata": {},
       "output_type": "pyout",
       "prompt_number": 259,
       "text": [
        "<module 'diviner.file_utils' from '/Users/maye/Dropbox/src/diviner/file_utils.pyc'>"
       ]
      }
     ],
     "prompt_number": 259
    },
    {
     "cell_type": "code",
     "collapsed": false,
     "input": [
      "df = fu.get_clean_l1a('2013031712')\n",
      "df"
     ],
     "language": "python",
     "metadata": {},
     "outputs": [
      {
       "html": [
        "<pre>\n",
        "&lt;class 'pandas.core.frame.DataFrame'&gt;\n",
        "DatetimeIndex: 28128 entries, 2013-03-17 12:00:00.266000 to 2013-03-17 13:00:00.597000\n",
        "Columns: 257 entries, q to is_calib\n",
        "dtypes: bool(6), float64(50), int32(4), int64(193), object(4)\n",
        "</pre>"
       ],
       "metadata": {},
       "output_type": "pyout",
       "prompt_number": 406,
       "text": [
        "<class 'pandas.core.frame.DataFrame'>\n",
        "DatetimeIndex: 28128 entries, 2013-03-17 12:00:00.266000 to 2013-03-17 13:00:00.597000\n",
        "Columns: 257 entries, q to is_calib\n",
        "dtypes: bool(6), float64(50), int32(4), int64(193), object(4)"
       ]
      }
     ],
     "prompt_number": 406
    },
    {
     "cell_type": "code",
     "collapsed": false,
     "input": [
      "ch = 'a5'\n",
      "df[[ch+'_01', ch+'_11', ch+'_21']].plot()"
     ],
     "language": "python",
     "metadata": {},
     "outputs": [
      {
       "metadata": {},
       "output_type": "pyout",
       "prompt_number": 65,
       "text": [
        "<matplotlib.axes.AxesSubplot at 0x120655e10>"
       ]
      }
     ],
     "prompt_number": 65
    },
    {
     "cell_type": "code",
     "collapsed": false,
     "input": [
      "df.calib_block_labels.value_counts()"
     ],
     "language": "python",
     "metadata": {},
     "outputs": [
      {
       "metadata": {},
       "output_type": "pyout",
       "prompt_number": 261,
       "text": [
        "0    25632\n",
        "1      736\n",
        "6      352\n",
        "5      352\n",
        "4      352\n",
        "3      352\n",
        "2      352\n",
        "dtype: int64"
       ]
      }
     ],
     "prompt_number": 261
    },
    {
     "cell_type": "code",
     "collapsed": false,
     "input": [
      "df.is_calib.value_counts()"
     ],
     "language": "python",
     "metadata": {},
     "outputs": [
      {
       "metadata": {},
       "output_type": "pyout",
       "prompt_number": 262,
       "text": [
        "False    26528\n",
        "True      1600\n",
        "dtype: int64"
       ]
      }
     ],
     "prompt_number": 262
    },
    {
     "cell_type": "code",
     "collapsed": false,
     "input": [
      "df.is_stview.value_counts() # that 80 is one st_view"
     ],
     "language": "python",
     "metadata": {},
     "outputs": [
      {
       "metadata": {},
       "output_type": "pyout",
       "prompt_number": 263,
       "text": [
        "False    28048\n",
        "True        80\n",
        "dtype: int64"
       ]
      }
     ],
     "prompt_number": 263
    },
    {
     "cell_type": "markdown",
     "metadata": {},
     "source": [
      "the reason for the moving data after the last sv_view being cut-off abruptly, is that the commanded azimuth and elevation are nadir(-like) and not fitting to any calib pointing definition. That's why the moving part at the end is in no block definition, even so the blocks contain all other moving data."
     ]
    },
    {
     "cell_type": "code",
     "collapsed": false,
     "input": [
      "fig, axes = subplots(3,2)\n",
      "for i in xrange(1,7):\n",
      "    ax = axes.flatten()[i-1]\n",
      "    pu.plot_calib_block(df,'calib_block_labels',i, det='b3_11', ax=ax)\n",
      "    ax.set_title(\"CalBlock {0}\".format(i))\n",
      "    ax.set_ylim(ymin=27300, ymax=27800)"
     ],
     "language": "python",
     "metadata": {},
     "outputs": [],
     "prompt_number": 418
    },
    {
     "cell_type": "code",
     "collapsed": false,
     "input": [
      "caldata = df[df.is_calib]\n",
      "calgrouped = calib.get_calib_blocks(caldata, 'calib')"
     ],
     "language": "python",
     "metadata": {},
     "outputs": [],
     "prompt_number": 407
    },
    {
     "cell_type": "code",
     "collapsed": false,
     "input": [
      "reload(calib)"
     ],
     "language": "python",
     "metadata": {},
     "outputs": [
      {
       "metadata": {},
       "output_type": "pyout",
       "prompt_number": 273,
       "text": [
        "<module 'diviner.calib' from '/Users/maye/Dropbox/src/diviner/calib.py'>"
       ]
      }
     ],
     "prompt_number": 273
    },
    {
     "cell_type": "code",
     "collapsed": false,
     "input": [
      "calgrouped.keys()"
     ],
     "language": "python",
     "metadata": {},
     "outputs": [
      {
       "metadata": {},
       "output_type": "pyout",
       "prompt_number": 391,
       "text": [
        "[1, 2, 3, 4, 5, 6]"
       ]
      }
     ],
     "prompt_number": 391
    },
    {
     "cell_type": "code",
     "collapsed": false,
     "input": [
      "cb = calib.CalBlock(calgrouped[2], 16)"
     ],
     "language": "python",
     "metadata": {},
     "outputs": [],
     "prompt_number": 392
    },
    {
     "cell_type": "code",
     "collapsed": false,
     "input": [
      "df.b1_11.plot()\n",
      "xlabel(\"Counts of b1_11\")\n",
      "savefig(\"Counts_of_b1_11.png\",dpi=300)"
     ],
     "language": "python",
     "metadata": {},
     "outputs": [],
     "prompt_number": 408
    },
    {
     "cell_type": "code",
     "collapsed": false,
     "input": [
      "for key in calgrouped.keys():\n",
      "    cb = calib.CalBlock(calgrouped[key], 16)\n",
      "    df = pd.DataFrame(index=range(1,22))\n",
      "    for i,channel in enumerate(calib.thermal_channels):\n",
      "        i += 3\n",
      "        data = cb.snr.ix[channel+'_01':channel+'_21']\n",
      "        if i < 7:\n",
      "            data.index = df.index\n",
      "        else:\n",
      "            data.index = range(21,0,-1)\n",
      "        df[i] = data\n",
      "    df_normed = (df - df.mean())*100/df.mean()\n",
      "    df_normed.plot(style='*-', markersize=9)\n",
      "    xlim(0,22)\n",
      "    title(\"CalBlock {0}\".format(key))\n",
      "    xlabel(\"Detector\")\n",
      "    ylabel(\"Relative SNR\")\n",
      "    savefig('SNR_cb'+str(key),dpi=300)"
     ],
     "language": "python",
     "metadata": {},
     "outputs": [],
     "prompt_number": 403
    },
    {
     "cell_type": "code",
     "collapsed": false,
     "input": [
      "fig, axes = subplots(3,2)\n",
      "for i in range(6):\n",
      "    pu.plot_calib_block(df, 'calib',i+1, det='b3_11',ax=axes.flatten()[i])"
     ],
     "language": "python",
     "metadata": {},
     "outputs": [],
     "prompt_number": 415
    },
    {
     "cell_type": "code",
     "collapsed": false,
     "input": [
      "range(21,0,-1)"
     ],
     "language": "python",
     "metadata": {},
     "outputs": [
      {
       "metadata": {},
       "output_type": "pyout",
       "prompt_number": 320,
       "text": [
        "[21, 20, 19, 18, 17, 16, 15, 14, 13, 12, 11, 10, 9, 8, 7, 6, 5, 4, 3, 2, 1]"
       ]
      }
     ],
     "prompt_number": 320
    },
    {
     "cell_type": "code",
     "collapsed": false,
     "input": [
      "df"
     ],
     "language": "python",
     "metadata": {},
     "outputs": [
      {
       "html": [
        "<div style=\"max-height:1000px;max-width:1500px;overflow:auto;\">\n",
        "<table border=\"1\" class=\"dataframe\">\n",
        "  <thead>\n",
        "    <tr style=\"text-align: right;\">\n",
        "      <th></th>\n",
        "      <th>3</th>\n",
        "      <th>4</th>\n",
        "      <th>5</th>\n",
        "      <th>6</th>\n",
        "      <th>7</th>\n",
        "      <th>8</th>\n",
        "      <th>9</th>\n",
        "    </tr>\n",
        "  </thead>\n",
        "  <tbody>\n",
        "    <tr>\n",
        "      <th>1 </th>\n",
        "      <td> 1102.723958</td>\n",
        "      <td> 495.463542</td>\n",
        "      <td> 517.609375</td>\n",
        "      <td> 2581.864583</td>\n",
        "      <td> 1960.010417</td>\n",
        "      <td> 443.005208</td>\n",
        "      <td> 189.682292</td>\n",
        "    </tr>\n",
        "    <tr>\n",
        "      <th>2 </th>\n",
        "      <td> 1179.723958</td>\n",
        "      <td> 570.796875</td>\n",
        "      <td> 606.609375</td>\n",
        "      <td> 3316.781250</td>\n",
        "      <td> 2202.015625</td>\n",
        "      <td> 556.072917</td>\n",
        "      <td> 225.005208</td>\n",
        "    </tr>\n",
        "    <tr>\n",
        "      <th>3 </th>\n",
        "      <td> 1190.505208</td>\n",
        "      <td> 577.526042</td>\n",
        "      <td> 604.000000</td>\n",
        "      <td> 3402.692708</td>\n",
        "      <td> 2487.359375</td>\n",
        "      <td> 603.546875</td>\n",
        "      <td> 244.000000</td>\n",
        "    </tr>\n",
        "    <tr>\n",
        "      <th>4 </th>\n",
        "      <td> 1167.265625</td>\n",
        "      <td> 590.557292</td>\n",
        "      <td> 616.552083</td>\n",
        "      <td> 3345.994792</td>\n",
        "      <td> 2429.421875</td>\n",
        "      <td> 634.458333</td>\n",
        "      <td> 234.848958</td>\n",
        "    </tr>\n",
        "    <tr>\n",
        "      <th>5 </th>\n",
        "      <td> 1158.296875</td>\n",
        "      <td> 589.338542</td>\n",
        "      <td> 612.286458</td>\n",
        "      <td> 3361.135417</td>\n",
        "      <td> 2513.072917</td>\n",
        "      <td> 616.708333</td>\n",
        "      <td> 244.843750</td>\n",
        "    </tr>\n",
        "    <tr>\n",
        "      <th>6 </th>\n",
        "      <td> 1190.302083</td>\n",
        "      <td> 587.531250</td>\n",
        "      <td> 606.078125</td>\n",
        "      <td> 3398.739583</td>\n",
        "      <td> 2683.541667</td>\n",
        "      <td> 671.114583</td>\n",
        "      <td> 256.473958</td>\n",
        "    </tr>\n",
        "    <tr>\n",
        "      <th>7 </th>\n",
        "      <td> 1174.661458</td>\n",
        "      <td> 584.395833</td>\n",
        "      <td> 611.937500</td>\n",
        "      <td> 3548.083333</td>\n",
        "      <td> 2645.520833</td>\n",
        "      <td> 735.421875</td>\n",
        "      <td> 244.307292</td>\n",
        "    </tr>\n",
        "    <tr>\n",
        "      <th>8 </th>\n",
        "      <td> 1186.796875</td>\n",
        "      <td> 573.812500</td>\n",
        "      <td> 618.463542</td>\n",
        "      <td> 3500.661458</td>\n",
        "      <td> 2712.020833</td>\n",
        "      <td> 724.041667</td>\n",
        "      <td> 247.765625</td>\n",
        "    </tr>\n",
        "    <tr>\n",
        "      <th>9 </th>\n",
        "      <td> 1184.041667</td>\n",
        "      <td> 583.770833</td>\n",
        "      <td> 625.359375</td>\n",
        "      <td> 3603.973958</td>\n",
        "      <td> 2849.020833</td>\n",
        "      <td> 721.489583</td>\n",
        "      <td> 272.218750</td>\n",
        "    </tr>\n",
        "    <tr>\n",
        "      <th>10</th>\n",
        "      <td> 1170.416667</td>\n",
        "      <td> 580.104167</td>\n",
        "      <td> 620.276042</td>\n",
        "      <td> 3542.390625</td>\n",
        "      <td> 2518.083333</td>\n",
        "      <td> 704.895833</td>\n",
        "      <td> 261.036458</td>\n",
        "    </tr>\n",
        "    <tr>\n",
        "      <th>11</th>\n",
        "      <td> 1167.151042</td>\n",
        "      <td> 583.791667</td>\n",
        "      <td> 601.619792</td>\n",
        "      <td> 3667.411458</td>\n",
        "      <td> 2526.796875</td>\n",
        "      <td> 724.083333</td>\n",
        "      <td> 265.802083</td>\n",
        "    </tr>\n",
        "    <tr>\n",
        "      <th>12</th>\n",
        "      <td> 1173.119792</td>\n",
        "      <td> 578.213542</td>\n",
        "      <td> 606.260417</td>\n",
        "      <td> 3505.932292</td>\n",
        "      <td> 2599.171875</td>\n",
        "      <td> 733.343750</td>\n",
        "      <td> 281.380208</td>\n",
        "    </tr>\n",
        "    <tr>\n",
        "      <th>13</th>\n",
        "      <td> 1189.901042</td>\n",
        "      <td> 582.937500</td>\n",
        "      <td> 620.947917</td>\n",
        "      <td> 3528.447917</td>\n",
        "      <td> 2790.093750</td>\n",
        "      <td> 760.421875</td>\n",
        "      <td> 257.276042</td>\n",
        "    </tr>\n",
        "    <tr>\n",
        "      <th>14</th>\n",
        "      <td> 1198.182292</td>\n",
        "      <td> 589.255208</td>\n",
        "      <td> 628.411458</td>\n",
        "      <td> 3631.171875</td>\n",
        "      <td> 3035.906250</td>\n",
        "      <td> 777.979167</td>\n",
        "      <td> 270.130208</td>\n",
        "    </tr>\n",
        "    <tr>\n",
        "      <th>15</th>\n",
        "      <td> 1187.390625</td>\n",
        "      <td> 595.848958</td>\n",
        "      <td> 623.411458</td>\n",
        "      <td> 3582.453125</td>\n",
        "      <td> 2776.562500</td>\n",
        "      <td> 743.510417</td>\n",
        "      <td> 269.375000</td>\n",
        "    </tr>\n",
        "    <tr>\n",
        "      <th>16</th>\n",
        "      <td> 1193.338542</td>\n",
        "      <td> 605.697917</td>\n",
        "      <td> 633.531250</td>\n",
        "      <td> 3663.447917</td>\n",
        "      <td> 2511.432292</td>\n",
        "      <td> 764.661458</td>\n",
        "      <td> 262.703125</td>\n",
        "    </tr>\n",
        "    <tr>\n",
        "      <th>17</th>\n",
        "      <td> 1195.223958</td>\n",
        "      <td> 597.421875</td>\n",
        "      <td> 636.130208</td>\n",
        "      <td> 3601.838542</td>\n",
        "      <td> 2557.479167</td>\n",
        "      <td> 711.531250</td>\n",
        "      <td> 267.421875</td>\n",
        "    </tr>\n",
        "    <tr>\n",
        "      <th>18</th>\n",
        "      <td> 1193.536458</td>\n",
        "      <td> 599.130208</td>\n",
        "      <td> 615.932292</td>\n",
        "      <td> 3661.328125</td>\n",
        "      <td> 2519.333333</td>\n",
        "      <td> 694.432292</td>\n",
        "      <td> 278.036458</td>\n",
        "    </tr>\n",
        "    <tr>\n",
        "      <th>19</th>\n",
        "      <td> 1202.098958</td>\n",
        "      <td> 589.572917</td>\n",
        "      <td> 624.385417</td>\n",
        "      <td> 3357.322917</td>\n",
        "      <td> 2358.083333</td>\n",
        "      <td> 725.489583</td>\n",
        "      <td> 262.291667</td>\n",
        "    </tr>\n",
        "    <tr>\n",
        "      <th>20</th>\n",
        "      <td> 1227.057292</td>\n",
        "      <td> 589.072917</td>\n",
        "      <td> 609.473958</td>\n",
        "      <td> 3408.812500</td>\n",
        "      <td> 2332.588542</td>\n",
        "      <td> 696.656250</td>\n",
        "      <td> 272.562500</td>\n",
        "    </tr>\n",
        "    <tr>\n",
        "      <th>21</th>\n",
        "      <td> 1135.901042</td>\n",
        "      <td> 525.822917</td>\n",
        "      <td> 554.645833</td>\n",
        "      <td> 2947.520833</td>\n",
        "      <td> 2037.593750</td>\n",
        "      <td> 659.942708</td>\n",
        "      <td> 244.609375</td>\n",
        "    </tr>\n",
        "  </tbody>\n",
        "</table>\n",
        "</div>"
       ],
       "metadata": {},
       "output_type": "pyout",
       "prompt_number": 321,
       "text": [
        "              3           4           5            6            7           8  \\\n",
        "1   1102.723958  495.463542  517.609375  2581.864583  1960.010417  443.005208   \n",
        "2   1179.723958  570.796875  606.609375  3316.781250  2202.015625  556.072917   \n",
        "3   1190.505208  577.526042  604.000000  3402.692708  2487.359375  603.546875   \n",
        "4   1167.265625  590.557292  616.552083  3345.994792  2429.421875  634.458333   \n",
        "5   1158.296875  589.338542  612.286458  3361.135417  2513.072917  616.708333   \n",
        "6   1190.302083  587.531250  606.078125  3398.739583  2683.541667  671.114583   \n",
        "7   1174.661458  584.395833  611.937500  3548.083333  2645.520833  735.421875   \n",
        "8   1186.796875  573.812500  618.463542  3500.661458  2712.020833  724.041667   \n",
        "9   1184.041667  583.770833  625.359375  3603.973958  2849.020833  721.489583   \n",
        "10  1170.416667  580.104167  620.276042  3542.390625  2518.083333  704.895833   \n",
        "11  1167.151042  583.791667  601.619792  3667.411458  2526.796875  724.083333   \n",
        "12  1173.119792  578.213542  606.260417  3505.932292  2599.171875  733.343750   \n",
        "13  1189.901042  582.937500  620.947917  3528.447917  2790.093750  760.421875   \n",
        "14  1198.182292  589.255208  628.411458  3631.171875  3035.906250  777.979167   \n",
        "15  1187.390625  595.848958  623.411458  3582.453125  2776.562500  743.510417   \n",
        "16  1193.338542  605.697917  633.531250  3663.447917  2511.432292  764.661458   \n",
        "17  1195.223958  597.421875  636.130208  3601.838542  2557.479167  711.531250   \n",
        "18  1193.536458  599.130208  615.932292  3661.328125  2519.333333  694.432292   \n",
        "19  1202.098958  589.572917  624.385417  3357.322917  2358.083333  725.489583   \n",
        "20  1227.057292  589.072917  609.473958  3408.812500  2332.588542  696.656250   \n",
        "21  1135.901042  525.822917  554.645833  2947.520833  2037.593750  659.942708   \n",
        "\n",
        "             9  \n",
        "1   189.682292  \n",
        "2   225.005208  \n",
        "3   244.000000  \n",
        "4   234.848958  \n",
        "5   244.843750  \n",
        "6   256.473958  \n",
        "7   244.307292  \n",
        "8   247.765625  \n",
        "9   272.218750  \n",
        "10  261.036458  \n",
        "11  265.802083  \n",
        "12  281.380208  \n",
        "13  257.276042  \n",
        "14  270.130208  \n",
        "15  269.375000  \n",
        "16  262.703125  \n",
        "17  267.421875  \n",
        "18  278.036458  \n",
        "19  262.291667  \n",
        "20  272.562500  \n",
        "21  244.609375  "
       ]
      }
     ],
     "prompt_number": 321
    },
    {
     "cell_type": "code",
     "collapsed": false,
     "input": [
      "df.plot()"
     ],
     "language": "python",
     "metadata": {},
     "outputs": [
      {
       "metadata": {},
       "output_type": "pyout",
       "prompt_number": 327,
       "text": [
        "<matplotlib.axes.AxesSubplot at 0x12546f850>"
       ]
      }
     ],
     "prompt_number": 327
    },
    {
     "cell_type": "code",
     "collapsed": false,
     "input": [
      "df_normed = (df - df.mean())*100/df.mean()"
     ],
     "language": "python",
     "metadata": {},
     "outputs": [],
     "prompt_number": 329
    },
    {
     "cell_type": "code",
     "collapsed": false,
     "input": [
      "fig = figure(figsize=(14,8))\n",
      "ax = fig.add_subplot(111, projection='3d')\n",
      "xs = np.arange(1,22)\n",
      "ys = np.arange(3,10)\n",
      "Y,X = meshgrid(ys,xs)\n",
      "ax.plot_surface(X,Y,df_normed, rstride=1, cstride=1, alpha=0.3)\n",
      "ax.set_xlabel('Detector')\n",
      "ax.set_ylabel('Channel')\n",
      "ax.set_zlabel(\"relative SNR\")\n",
      "ax.contour(X, Y, df_normed, zdir='z', offset = -40, cmap=cm.coolwarm)\n",
      "ax.contour(X, Y, df_normed, zdir='x', offset=25, cmap=cm.coolwarm)\n",
      "ax.contour(X, Y, df_normed, zdir='y', offset=10, cmap=cm.coolwarm)\n",
      "ax.set_zlim(-40,40)\n",
      "ax.set_xlim(-1, 25)\n",
      "ax.set_ylim(2,10)\n",
      "ax.view_init(20,-130)\n",
      "\n",
      "# ax = fig.add_subplot(122, projection='3d')\n",
      "# xs = np.arange(1,22)\n",
      "# ys = np.arange(3,10)\n",
      "# Y,X = meshgrid(ys,xs)\n",
      "# ax.plot_surface(X,Y,df_normed, rstride=1, cstride=1, alpha=0.3)\n",
      "# ax.set_xlabel('Detector')\n",
      "# ax.set_ylabel('Channel')\n",
      "# ax.set_zlabel(\"relative SNR\")\n",
      "# ax.contour(X, Y, df_normed, zdir='z', offset = -40, cmap=cm.coolwarm)\n",
      "# ax.contour(X, Y, df_normed, zdir='x', offset=-1, cmap=cm.coolwarm)\n",
      "# ax.contour(X, Y, df_normed, zdir='y', offset=11, cmap=cm.coolwarm)\n",
      "# ax.set_zlim(-40,40)\n",
      "# ax.set_xlim(-1, 22)\n",
      "# ax.set_ylim(2,11)\n",
      "# ax.view_init(20,-60)\n",
      "\n",
      "# savefig('Diviner_SNR.png',dpi=300)"
     ],
     "language": "python",
     "metadata": {},
     "outputs": [],
     "prompt_number": 405
    },
    {
     "cell_type": "code",
     "collapsed": false,
     "input": [
      "Y.shape"
     ],
     "language": "python",
     "metadata": {},
     "outputs": [
      {
       "metadata": {},
       "output_type": "pyout",
       "prompt_number": 351,
       "text": [
        "(21, 7)"
       ]
      }
     ],
     "prompt_number": 351
    },
    {
     "cell_type": "code",
     "collapsed": false,
     "input": [
      "df_normed.shape"
     ],
     "language": "python",
     "metadata": {},
     "outputs": [
      {
       "metadata": {},
       "output_type": "pyout",
       "prompt_number": 346,
       "text": [
        "(21, 7)"
       ]
      }
     ],
     "prompt_number": 346
    },
    {
     "cell_type": "code",
     "collapsed": false,
     "input": [
      "bbviews = cb.df[cb.df.is_bbview]"
     ],
     "language": "python",
     "metadata": {},
     "outputs": [],
     "prompt_number": 267
    },
    {
     "cell_type": "code",
     "collapsed": false,
     "input": [
      "bbviews[16:]"
     ],
     "language": "python",
     "metadata": {},
     "outputs": [
      {
       "html": [
        "<pre>\n",
        "&lt;class 'pandas.core.frame.DataFrame'&gt;\n",
        "DatetimeIndex: 64 entries, 2013-03-17 12:02:48.206000 to 2013-03-17 12:02:56.270000\n",
        "Columns: 257 entries, q to is_calib\n",
        "dtypes: bool(6), float64(50), int32(4), int64(193), object(4)\n",
        "</pre>"
       ],
       "metadata": {},
       "output_type": "pyout",
       "prompt_number": 269,
       "text": [
        "<class 'pandas.core.frame.DataFrame'>\n",
        "DatetimeIndex: 64 entries, 2013-03-17 12:02:48.206000 to 2013-03-17 12:02:56.270000\n",
        "Columns: 257 entries, q to is_calib\n",
        "dtypes: bool(6), float64(50), int32(4), int64(193), object(4)"
       ]
      }
     ],
     "prompt_number": 269
    },
    {
     "cell_type": "code",
     "collapsed": false,
     "input": [
      "list(cb.df.groupby('is_spaceview'))"
     ],
     "language": "python",
     "metadata": {},
     "outputs": [
      {
       "metadata": {},
       "output_type": "pyout",
       "prompt_number": 216,
       "text": [
        "[(False,\n",
        "  <class 'pandas.core.frame.DataFrame'>\n",
        "DatetimeIndex: 160 entries, 2013-03-17 12:02:07.245000 to 2013-03-17 12:02:56.270000\n",
        "Columns: 257 entries, q to is_calib\n",
        "dtypes: bool(6), float64(50), int32(4), int64(193), object(4)),\n",
        " (True,\n",
        "  <class 'pandas.core.frame.DataFrame'>\n",
        "DatetimeIndex: 240 entries, 2013-03-17 12:01:42.668000 to 2013-03-17 12:03:10.606000\n",
        "Columns: 257 entries, q to is_calib\n",
        "dtypes: bool(6), float64(50), int32(4), int64(193), object(4))]"
       ]
      }
     ],
     "prompt_number": 216
    },
    {
     "cell_type": "code",
     "collapsed": false,
     "input": [
      "s = pd.Series(cb.df.index).diff()"
     ],
     "language": "python",
     "metadata": {},
     "outputs": [],
     "prompt_number": 228
    },
    {
     "cell_type": "code",
     "collapsed": false,
     "input": [
      "crit = numpy.timedelta64(130,'ms')\n",
      "s[s > crit]"
     ],
     "language": "python",
     "metadata": {},
     "outputs": [
      {
       "metadata": {},
       "output_type": "pyout",
       "prompt_number": 239,
       "text": [
        "80    00:00:14.465000\n",
        "160   00:00:14.464000\n",
        "240   00:00:04.224000\n",
        "320   00:00:04.224000\n",
        "dtype: timedelta64[ns]"
       ]
      }
     ],
     "prompt_number": 239
    },
    {
     "cell_type": "code",
     "collapsed": false,
     "input": [
      "d = {}\n",
      "for label in cb.sv_labels:\n",
      "    d[label] = calib.get_mean_time(cb.df[cb.df.sv_block_labels==label])"
     ],
     "language": "python",
     "metadata": {},
     "outputs": [],
     "prompt_number": 251
    },
    {
     "cell_type": "code",
     "collapsed": false,
     "input": [
      "rng2011 = pd.date_range('1/1/2011', periods=72, freq='H')"
     ],
     "language": "python",
     "metadata": {},
     "outputs": [],
     "prompt_number": 256
    },
    {
     "cell_type": "code",
     "collapsed": false,
     "input": [
      "rng2011.union?"
     ],
     "language": "python",
     "metadata": {},
     "outputs": [],
     "prompt_number": 258
    },
    {
     "cell_type": "code",
     "collapsed": false,
     "input": [
      "spacelooks = df.groupby('sv_block_labels')"
     ],
     "language": "python",
     "metadata": {},
     "outputs": [],
     "prompt_number": 133
    },
    {
     "cell_type": "code",
     "collapsed": false,
     "input": [
      "def get_offsets(df):\n",
      "    view = df[df.is_spaceview]\n",
      "    if len(view) != 80:\n",
      "        return\n",
      "    return view[16:].mean()"
     ],
     "language": "python",
     "metadata": {},
     "outputs": [],
     "prompt_number": 154
    },
    {
     "cell_type": "code",
     "collapsed": false,
     "input": [
      "offsets = calib.get_data_columns(spacelooks.agg(get_offsets))"
     ],
     "language": "python",
     "metadata": {},
     "outputs": [],
     "prompt_number": 155
    },
    {
     "cell_type": "code",
     "collapsed": false,
     "input": [
      "offsets.index"
     ],
     "language": "python",
     "metadata": {},
     "outputs": [
      {
       "metadata": {},
       "output_type": "pyout",
       "prompt_number": 171,
       "text": [
        "Int64Index([0, 1, 2, 3, 4, 5, 6, 7, 8, 9, 10, 11, 12, 13], dtype=int64)"
       ]
      }
     ],
     "prompt_number": 171
    },
    {
     "cell_type": "code",
     "collapsed": false,
     "input": [
      "offset_times = spacelooks.a3_11.agg(calib.get_mean_time)"
     ],
     "language": "python",
     "metadata": {},
     "outputs": [],
     "prompt_number": 177
    },
    {
     "cell_type": "code",
     "collapsed": false,
     "input": [
      "offsets.index = offset_times"
     ],
     "language": "python",
     "metadata": {},
     "outputs": [],
     "prompt_number": 179
    },
    {
     "cell_type": "code",
     "collapsed": false,
     "input": [
      "offsets.b3_11.dropna?"
     ],
     "language": "python",
     "metadata": {},
     "outputs": [],
     "prompt_number": 183
    },
    {
     "cell_type": "code",
     "collapsed": false,
     "input": [
      "cb.sv_stds.a1_11"
     ],
     "language": "python",
     "metadata": {},
     "outputs": [
      {
       "metadata": {},
       "output_type": "pyout",
       "prompt_number": 120,
       "text": [
        "sv_block_labels\n",
        "4                  2.924255\n",
        "5                  3.254379\n",
        "Name: a1_11, dtype: float64"
       ]
      }
     ],
     "prompt_number": 120
    },
    {
     "cell_type": "code",
     "collapsed": false,
     "input": [
      "cb.df.a3_11.plot(style='*')"
     ],
     "language": "python",
     "metadata": {},
     "outputs": [
      {
       "metadata": {},
       "output_type": "pyout",
       "prompt_number": 186,
       "text": [
        "<matplotlib.axes.AxesSubplot at 0x122f976d0>"
       ]
      }
     ],
     "prompt_number": 186
    },
    {
     "cell_type": "code",
     "collapsed": false,
     "input": [
      "cb.sv_labels"
     ],
     "language": "python",
     "metadata": {},
     "outputs": [
      {
       "metadata": {},
       "output_type": "pyout",
       "prompt_number": 196,
       "text": [
        "array([1, 2, 3])"
       ]
      }
     ],
     "prompt_number": 196
    },
    {
     "cell_type": "code",
     "collapsed": false,
     "input": [
      "df.sv_block_labels.value_counts().sort_index()"
     ],
     "language": "python",
     "metadata": {},
     "outputs": [
      {
       "metadata": {},
       "output_type": "pyout",
       "prompt_number": 187,
       "text": [
        "0     26576\n",
        "1       128\n",
        "2       112\n",
        "3       112\n",
        "4       128\n",
        "5       112\n",
        "6       128\n",
        "7       112\n",
        "8       128\n",
        "9       112\n",
        "10      128\n",
        "11      112\n",
        "12      128\n",
        "13      112\n",
        "dtype: int64"
       ]
      }
     ],
     "prompt_number": 187
    },
    {
     "cell_type": "code",
     "collapsed": false,
     "input": [
      "df.bb_block_labels.value_counts()"
     ],
     "language": "python",
     "metadata": {},
     "outputs": [
      {
       "metadata": {},
       "output_type": "pyout",
       "prompt_number": 188,
       "text": [
        "0    27456\n",
        "6      112\n",
        "5      112\n",
        "4      112\n",
        "3      112\n",
        "2      112\n",
        "1      112\n",
        "dtype: int64"
       ]
      }
     ],
     "prompt_number": 188
    },
    {
     "cell_type": "code",
     "collapsed": false,
     "input": [
      "pu.plot_calib_block(df,'bb_block_labels',6)"
     ],
     "language": "python",
     "metadata": {},
     "outputs": [],
     "prompt_number": 189
    },
    {
     "cell_type": "code",
     "collapsed": false,
     "input": [
      "t1 = df[df.calib_block_labels==2].index[0]"
     ],
     "language": "python",
     "metadata": {},
     "outputs": [],
     "prompt_number": 25
    },
    {
     "cell_type": "code",
     "collapsed": false,
     "input": [
      "t2 = df[df.calib_block_labels==4].index[-1]"
     ],
     "language": "python",
     "metadata": {},
     "outputs": [],
     "prompt_number": 26
    },
    {
     "cell_type": "code",
     "collapsed": false,
     "input": [
      "df.ix[t1:t2]"
     ],
     "language": "python",
     "metadata": {},
     "outputs": [
      {
       "output_type": "pyout",
       "prompt_number": 27,
       "text": [
        "<class 'pandas.core.frame.DataFrame'>\n",
        "DatetimeIndex: 9968 entries, 2011-04-01 00:17:12.135999 to 2011-04-01 00:38:27.928999\n",
        "Columns: 252 entries, sclk to is_calib\n",
        "dtypes: bool(6), float64(241), int32(4), int64(1)"
       ]
      }
     ],
     "prompt_number": 27
    },
    {
     "cell_type": "code",
     "collapsed": false,
     "input": [
      "df.filter(regex='block_labels')"
     ],
     "language": "python",
     "metadata": {},
     "outputs": [
      {
       "output_type": "pyout",
       "prompt_number": 28,
       "text": [
        "<class 'pandas.core.frame.DataFrame'>\n",
        "DatetimeIndex: 56240 entries, 2011-04-01 00:00:01.978000 to 2011-04-01 02:00:00.697000\n",
        "Data columns (total 4 columns):\n",
        "calib_block_labels    56240  non-null values\n",
        "sv_block_labels       56240  non-null values\n",
        "bb_block_labels       56240  non-null values\n",
        "st_block_labels       56240  non-null values\n",
        "dtypes: int32(4)"
       ]
      }
     ],
     "prompt_number": 28
    },
    {
     "cell_type": "code",
     "collapsed": false,
     "input": [
      "ax = df.filter(regex='block_labels').plot(linewidth=2)\n",
      "df.filter(regex='is_').plot(ax=ax,linewidth=2)"
     ],
     "language": "python",
     "metadata": {},
     "outputs": [
      {
       "output_type": "pyout",
       "prompt_number": 29,
       "text": [
        "<matplotlib.axes.AxesSubplot at 0x118f78050>"
       ]
      }
     ],
     "prompt_number": 29
    },
    {
     "cell_type": "code",
     "collapsed": false,
     "input": [
      "pu.plot_calib_block(df,'calib_block_labels',3,det='b1_11')"
     ],
     "language": "python",
     "metadata": {},
     "outputs": [],
     "prompt_number": 30
    },
    {
     "cell_type": "markdown",
     "metadata": {},
     "source": [
      "the calib block labels contain moving data as well, to be able to mark sv and bb views together as 1 block if they happen together. that's why I have to subtract the moving data if I want to compare the resulting number with df.is_calib entries."
     ]
    },
    {
     "cell_type": "code",
     "collapsed": false,
     "input": [
      "df[(df.calib_block_labels >0) & (df.moving==1)]"
     ],
     "language": "python",
     "metadata": {},
     "outputs": [
      {
       "output_type": "pyout",
       "prompt_number": 31,
       "text": [
        "<class 'pandas.core.frame.DataFrame'>\n",
        "DatetimeIndex: 1568 entries, 2011-04-01 00:06:53.631999 to 2011-04-01 01:55:26.259000\n",
        "Columns: 252 entries, sclk to is_calib\n",
        "dtypes: bool(6), float64(241), int32(4), int64(1)"
       ]
      }
     ],
     "prompt_number": 31
    },
    {
     "cell_type": "code",
     "collapsed": false,
     "input": [
      "df.calib_block_labels.value_counts().sort_index()[1:].sum()"
     ],
     "language": "python",
     "metadata": {},
     "outputs": [
      {
       "output_type": "pyout",
       "prompt_number": 32,
       "text": [
        "4608"
       ]
      }
     ],
     "prompt_number": 32
    },
    {
     "cell_type": "code",
     "collapsed": false,
     "input": [
      "2496-896"
     ],
     "language": "python",
     "metadata": {},
     "outputs": [
      {
       "output_type": "pyout",
       "prompt_number": 33,
       "text": [
        "1600"
       ]
      }
     ],
     "prompt_number": 33
    },
    {
     "cell_type": "markdown",
     "metadata": {},
     "source": [
      "this is the same as the value of all is_calib data (which does not contain moving data)"
     ]
    },
    {
     "cell_type": "code",
     "collapsed": false,
     "input": [
      "df.is_calib.value_counts()"
     ],
     "language": "python",
     "metadata": {},
     "outputs": [
      {
       "output_type": "pyout",
       "prompt_number": 34,
       "text": [
        "False    53200\n",
        "True      3040\n",
        "dtype: int64"
       ]
      }
     ],
     "prompt_number": 34
    },
    {
     "cell_type": "code",
     "collapsed": false,
     "input": [
      "pump = fu.Div247DataPump('201104')"
     ],
     "language": "python",
     "metadata": {},
     "outputs": [],
     "prompt_number": 35
    },
    {
     "cell_type": "code",
     "collapsed": false,
     "input": [
      "df = pump.get_n_hours(1)"
     ],
     "language": "python",
     "metadata": {},
     "outputs": [
      {
       "output_type": "stream",
       "stream": "stdout",
       "text": [
        "/Users/maye/data/diviner/div247/201104/2011040100.div247\n"
       ]
      }
     ],
     "prompt_number": 97
    },
    {
     "cell_type": "code",
     "collapsed": false,
     "input": [
      "df.groupby(['calib_block_labels','is_spaceview']).a3_11.mean()"
     ],
     "language": "python",
     "metadata": {},
     "outputs": [
      {
       "output_type": "pyout",
       "prompt_number": 37,
       "text": [
        "calib_block_labels  is_spaceview\n",
        "0                   False           22366.915404\n",
        "1                   False           23167.416667\n",
        "                    True            23815.556250\n",
        "2                   False           23167.223958\n",
        "                    True            23805.956250\n",
        "3                   False           23375.290323\n",
        "                    True            23808.483333\n",
        "4                   False           22879.781250\n",
        "                    True            23825.062500\n",
        "5                   False           22551.218750\n",
        "                    True            23854.287500\n",
        "6                   False           22421.588542\n",
        "                    True            23884.593750\n",
        "Name: a3_11, dtype: float64"
       ]
      }
     ],
     "prompt_number": 37
    },
    {
     "cell_type": "code",
     "collapsed": false,
     "input": [
      "def ptp(arr):\n",
      "    return arr.max() - arr.min()"
     ],
     "language": "python",
     "metadata": {},
     "outputs": [],
     "prompt_number": 38
    },
    {
     "cell_type": "code",
     "collapsed": false,
     "input": [
      "df.groupby(['calib_block_labels','is_spaceview'])['a3_11','a4_11'].agg([ptp,'size'])"
     ],
     "language": "python",
     "metadata": {},
     "outputs": [
      {
       "html": [
        "<div style=\"max-height:1000px;max-width:1500px;overflow:auto;\">\n",
        "<table border=\"1\" class=\"dataframe\">\n",
        "  <thead>\n",
        "    <tr>\n",
        "      <th></th>\n",
        "      <th></th>\n",
        "      <th colspan=\"2\" halign=\"left\">a3_11</th>\n",
        "      <th colspan=\"2\" halign=\"left\">a4_11</th>\n",
        "    </tr>\n",
        "    <tr>\n",
        "      <th></th>\n",
        "      <th></th>\n",
        "      <th>ptp</th>\n",
        "      <th>size</th>\n",
        "      <th>ptp</th>\n",
        "      <th>size</th>\n",
        "    </tr>\n",
        "    <tr>\n",
        "      <th>calib_block_labels</th>\n",
        "      <th>is_spaceview</th>\n",
        "      <th></th>\n",
        "      <th></th>\n",
        "      <th></th>\n",
        "      <th></th>\n",
        "    </tr>\n",
        "  </thead>\n",
        "  <tbody>\n",
        "    <tr>\n",
        "      <th>0</th>\n",
        "      <th>False</th>\n",
        "      <td> 5052</td>\n",
        "      <td> 25616</td>\n",
        "      <td> 2357</td>\n",
        "      <td> 25616</td>\n",
        "    </tr>\n",
        "    <tr>\n",
        "      <th rowspan=\"2\" valign=\"top\">1</th>\n",
        "      <th>False</th>\n",
        "      <td> 1198</td>\n",
        "      <td>   192</td>\n",
        "      <td>  608</td>\n",
        "      <td>   192</td>\n",
        "    </tr>\n",
        "    <tr>\n",
        "      <th>True </th>\n",
        "      <td>   14</td>\n",
        "      <td>   160</td>\n",
        "      <td>   16</td>\n",
        "      <td>   160</td>\n",
        "    </tr>\n",
        "    <tr>\n",
        "      <th rowspan=\"2\" valign=\"top\">2</th>\n",
        "      <th>False</th>\n",
        "      <td> 1181</td>\n",
        "      <td>   192</td>\n",
        "      <td>  597</td>\n",
        "      <td>   192</td>\n",
        "    </tr>\n",
        "    <tr>\n",
        "      <th>True </th>\n",
        "      <td>   16</td>\n",
        "      <td>   160</td>\n",
        "      <td>   13</td>\n",
        "      <td>   160</td>\n",
        "    </tr>\n",
        "    <tr>\n",
        "      <th rowspan=\"2\" valign=\"top\">3</th>\n",
        "      <th>False</th>\n",
        "      <td> 1180</td>\n",
        "      <td>   496</td>\n",
        "      <td>  596</td>\n",
        "      <td>   496</td>\n",
        "    </tr>\n",
        "    <tr>\n",
        "      <th>True </th>\n",
        "      <td>   28</td>\n",
        "      <td>   240</td>\n",
        "      <td>   22</td>\n",
        "      <td>   240</td>\n",
        "    </tr>\n",
        "    <tr>\n",
        "      <th rowspan=\"2\" valign=\"top\">4</th>\n",
        "      <th>False</th>\n",
        "      <td> 2081</td>\n",
        "      <td>   192</td>\n",
        "      <td>  942</td>\n",
        "      <td>   192</td>\n",
        "    </tr>\n",
        "    <tr>\n",
        "      <th>True </th>\n",
        "      <td>   15</td>\n",
        "      <td>   160</td>\n",
        "      <td>   15</td>\n",
        "      <td>   160</td>\n",
        "    </tr>\n",
        "    <tr>\n",
        "      <th rowspan=\"2\" valign=\"top\">5</th>\n",
        "      <th>False</th>\n",
        "      <td> 3933</td>\n",
        "      <td>   192</td>\n",
        "      <td> 1922</td>\n",
        "      <td>   192</td>\n",
        "    </tr>\n",
        "    <tr>\n",
        "      <th>True </th>\n",
        "      <td>   23</td>\n",
        "      <td>   160</td>\n",
        "      <td>   25</td>\n",
        "      <td>   160</td>\n",
        "    </tr>\n",
        "    <tr>\n",
        "      <th rowspan=\"2\" valign=\"top\">6</th>\n",
        "      <th>False</th>\n",
        "      <td> 4497</td>\n",
        "      <td>   192</td>\n",
        "      <td> 2170</td>\n",
        "      <td>   192</td>\n",
        "    </tr>\n",
        "    <tr>\n",
        "      <th>True </th>\n",
        "      <td>   21</td>\n",
        "      <td>   160</td>\n",
        "      <td>   23</td>\n",
        "      <td>   160</td>\n",
        "    </tr>\n",
        "  </tbody>\n",
        "</table>\n",
        "</div>"
       ],
       "output_type": "pyout",
       "prompt_number": 39,
       "text": [
        "                                 a3_11         a4_11       \n",
        "                                   ptp   size    ptp   size\n",
        "calib_block_labels is_spaceview                            \n",
        "0                  False          5052  25616   2357  25616\n",
        "1                  False          1198    192    608    192\n",
        "                   True             14    160     16    160\n",
        "2                  False          1181    192    597    192\n",
        "                   True             16    160     13    160\n",
        "3                  False          1180    496    596    496\n",
        "                   True             28    240     22    240\n",
        "4                  False          2081    192    942    192\n",
        "                   True             15    160     15    160\n",
        "5                  False          3933    192   1922    192\n",
        "                   True             23    160     25    160\n",
        "6                  False          4497    192   2170    192\n",
        "                   True             21    160     23    160"
       ]
      }
     ],
     "prompt_number": 39
    },
    {
     "cell_type": "code",
     "collapsed": false,
     "input": [
      "grouped = df.groupby(['calib_block_labels'])"
     ],
     "language": "python",
     "metadata": {},
     "outputs": [],
     "prompt_number": 40
    },
    {
     "cell_type": "code",
     "collapsed": false,
     "input": [
      "def myfunc(arr):\n",
      "    local_sv = df.ix[arr.index]['is_spaceview']\n",
      "    return arr[local_sv].mean()"
     ],
     "language": "python",
     "metadata": {},
     "outputs": [],
     "prompt_number": 41
    },
    {
     "cell_type": "code",
     "collapsed": false,
     "input": [
      "grouped.a3_11.agg(myfunc)"
     ],
     "language": "python",
     "metadata": {},
     "outputs": [
      {
       "output_type": "pyout",
       "prompt_number": 42,
       "text": [
        "calib_block_labels\n",
        "0                              NaN\n",
        "1                     23815.556250\n",
        "2                     23805.956250\n",
        "3                     23808.483333\n",
        "4                     23825.062500\n",
        "5                     23854.287500\n",
        "6                     23884.593750\n",
        "Name: a3_11, dtype: float64"
       ]
      }
     ],
     "prompt_number": 42
    },
    {
     "cell_type": "code",
     "collapsed": false,
     "input": [
      "df.groupby(['calib_block_labels','is_spaceview']).a3_11.mean()"
     ],
     "language": "python",
     "metadata": {},
     "outputs": [
      {
       "output_type": "pyout",
       "prompt_number": 43,
       "text": [
        "calib_block_labels  is_spaceview\n",
        "0                   False           22366.915404\n",
        "1                   False           23167.416667\n",
        "                    True            23815.556250\n",
        "2                   False           23167.223958\n",
        "                    True            23805.956250\n",
        "3                   False           23375.290323\n",
        "                    True            23808.483333\n",
        "4                   False           22879.781250\n",
        "                    True            23825.062500\n",
        "5                   False           22551.218750\n",
        "                    True            23854.287500\n",
        "6                   False           22421.588542\n",
        "                    True            23884.593750\n",
        "Name: a3_11, dtype: float64"
       ]
      }
     ],
     "prompt_number": 43
    },
    {
     "cell_type": "code",
     "collapsed": false,
     "input": [
      "block1 = df[df.calib_block_labels==1]"
     ],
     "language": "python",
     "metadata": {},
     "outputs": [],
     "prompt_number": 44
    },
    {
     "cell_type": "code",
     "collapsed": false,
     "input": [
      "block1[block1.is_spaceview].a3_11.mean()"
     ],
     "language": "python",
     "metadata": {},
     "outputs": [
      {
       "output_type": "pyout",
       "prompt_number": 45,
       "text": [
        "23815.556250000001"
       ]
      }
     ],
     "prompt_number": 45
    },
    {
     "cell_type": "code",
     "collapsed": false,
     "input": [
      "grouped.a3_11.mean()"
     ],
     "language": "python",
     "metadata": {},
     "outputs": [
      {
       "output_type": "pyout",
       "prompt_number": 46,
       "text": [
        "calib_block_labels\n",
        "0                     22366.915404\n",
        "1                     23462.025568\n",
        "2                     23457.556818\n",
        "3                     23516.548913\n",
        "4                     23309.454545\n",
        "5                     23143.522727\n",
        "6                     23086.590909\n",
        "Name: a3_11, dtype: float64"
       ]
      }
     ],
     "prompt_number": 46
    },
    {
     "cell_type": "code",
     "collapsed": false,
     "input": [
      "grouped[['a3_11']].transform(myfunc)"
     ],
     "language": "python",
     "metadata": {},
     "outputs": [
      {
       "output_type": "pyout",
       "prompt_number": 47,
       "text": [
        "<class 'pandas.core.frame.DataFrame'>\n",
        "DatetimeIndex: 28112 entries, 2011-04-01 00:00:01.978000 to 2011-04-01 01:00:00.234000\n",
        "Data columns (total 1 columns):\n",
        "a3_11    2496  non-null values\n",
        "dtypes: float64(1)"
       ]
      }
     ],
     "prompt_number": 47
    },
    {
     "cell_type": "code",
     "collapsed": false,
     "input": [
      "def get_sv(df, column='a3_11'):\n",
      "    dfhere = df[df.is_spaceview]\n",
      "    return dfhere.filter(regex='_11').mean()"
     ],
     "language": "python",
     "metadata": {},
     "outputs": [],
     "prompt_number": 48
    },
    {
     "cell_type": "code",
     "collapsed": false,
     "input": [
      "grouped.apply(get_sv)"
     ],
     "language": "python",
     "metadata": {},
     "outputs": [
      {
       "html": [
        "<div style=\"max-height:1000px;max-width:1500px;overflow:auto;\">\n",
        "<table border=\"1\" class=\"dataframe\">\n",
        "  <thead>\n",
        "    <tr style=\"text-align: right;\">\n",
        "      <th></th>\n",
        "      <th>a1_11</th>\n",
        "      <th>a2_11</th>\n",
        "      <th>a3_11</th>\n",
        "      <th>a4_11</th>\n",
        "      <th>a5_11</th>\n",
        "      <th>a6_11</th>\n",
        "      <th>b1_11</th>\n",
        "      <th>b2_11</th>\n",
        "      <th>b3_11</th>\n",
        "    </tr>\n",
        "    <tr>\n",
        "      <th>calib_block_labels</th>\n",
        "      <th></th>\n",
        "      <th></th>\n",
        "      <th></th>\n",
        "      <th></th>\n",
        "      <th></th>\n",
        "      <th></th>\n",
        "      <th></th>\n",
        "      <th></th>\n",
        "      <th></th>\n",
        "    </tr>\n",
        "  </thead>\n",
        "  <tbody>\n",
        "    <tr>\n",
        "      <th>0</th>\n",
        "      <td>          NaN</td>\n",
        "      <td>          NaN</td>\n",
        "      <td>          NaN</td>\n",
        "      <td>          NaN</td>\n",
        "      <td>         NaN</td>\n",
        "      <td>         NaN</td>\n",
        "      <td>          NaN</td>\n",
        "      <td>         NaN</td>\n",
        "      <td>          NaN</td>\n",
        "    </tr>\n",
        "    <tr>\n",
        "      <th>1</th>\n",
        "      <td> 22368.262500</td>\n",
        "      <td> 22556.006250</td>\n",
        "      <td> 23815.556250</td>\n",
        "      <td> 23195.531250</td>\n",
        "      <td> 23189.60625</td>\n",
        "      <td> 26347.68750</td>\n",
        "      <td> 30025.150000</td>\n",
        "      <td> 28159.81250</td>\n",
        "      <td> 27702.425000</td>\n",
        "    </tr>\n",
        "    <tr>\n",
        "      <th>2</th>\n",
        "      <td> 22400.506250</td>\n",
        "      <td> 22561.437500</td>\n",
        "      <td> 23805.956250</td>\n",
        "      <td> 23193.868750</td>\n",
        "      <td> 23188.24375</td>\n",
        "      <td> 26346.76875</td>\n",
        "      <td> 30028.937500</td>\n",
        "      <td> 28155.71875</td>\n",
        "      <td> 27700.368750</td>\n",
        "    </tr>\n",
        "    <tr>\n",
        "      <th>3</th>\n",
        "      <td> 22419.620833</td>\n",
        "      <td> 22580.833333</td>\n",
        "      <td> 23808.483333</td>\n",
        "      <td> 23205.541667</td>\n",
        "      <td> 23200.80000</td>\n",
        "      <td> 26348.53750</td>\n",
        "      <td> 30037.404167</td>\n",
        "      <td> 28161.56250</td>\n",
        "      <td> 27706.604167</td>\n",
        "    </tr>\n",
        "    <tr>\n",
        "      <th>4</th>\n",
        "      <td> 22422.918750</td>\n",
        "      <td> 22610.450000</td>\n",
        "      <td> 23825.062500</td>\n",
        "      <td> 23229.750000</td>\n",
        "      <td> 23223.81875</td>\n",
        "      <td> 26355.98750</td>\n",
        "      <td> 30053.531250</td>\n",
        "      <td> 28181.92500</td>\n",
        "      <td> 27722.343750</td>\n",
        "    </tr>\n",
        "    <tr>\n",
        "      <th>5</th>\n",
        "      <td> 22400.556250</td>\n",
        "      <td> 22643.075000</td>\n",
        "      <td> 23854.287500</td>\n",
        "      <td> 23261.537500</td>\n",
        "      <td> 23254.67500</td>\n",
        "      <td> 26366.75000</td>\n",
        "      <td> 30070.225000</td>\n",
        "      <td> 28211.90000</td>\n",
        "      <td> 27743.643750</td>\n",
        "    </tr>\n",
        "    <tr>\n",
        "      <th>6</th>\n",
        "      <td> 22355.493750</td>\n",
        "      <td> 22664.037500</td>\n",
        "      <td> 23884.593750</td>\n",
        "      <td> 23288.312500</td>\n",
        "      <td> 23278.93750</td>\n",
        "      <td> 26374.55000</td>\n",
        "      <td> 30074.768750</td>\n",
        "      <td> 28232.74375</td>\n",
        "      <td> 27757.256250</td>\n",
        "    </tr>\n",
        "  </tbody>\n",
        "</table>\n",
        "</div>"
       ],
       "output_type": "pyout",
       "prompt_number": 49,
       "text": [
        "                           a1_11         a2_11         a3_11         a4_11  \\\n",
        "calib_block_labels                                                           \n",
        "0                            NaN           NaN           NaN           NaN   \n",
        "1                   22368.262500  22556.006250  23815.556250  23195.531250   \n",
        "2                   22400.506250  22561.437500  23805.956250  23193.868750   \n",
        "3                   22419.620833  22580.833333  23808.483333  23205.541667   \n",
        "4                   22422.918750  22610.450000  23825.062500  23229.750000   \n",
        "5                   22400.556250  22643.075000  23854.287500  23261.537500   \n",
        "6                   22355.493750  22664.037500  23884.593750  23288.312500   \n",
        "\n",
        "                          a5_11        a6_11         b1_11        b2_11  \\\n",
        "calib_block_labels                                                        \n",
        "0                           NaN          NaN           NaN          NaN   \n",
        "1                   23189.60625  26347.68750  30025.150000  28159.81250   \n",
        "2                   23188.24375  26346.76875  30028.937500  28155.71875   \n",
        "3                   23200.80000  26348.53750  30037.404167  28161.56250   \n",
        "4                   23223.81875  26355.98750  30053.531250  28181.92500   \n",
        "5                   23254.67500  26366.75000  30070.225000  28211.90000   \n",
        "6                   23278.93750  26374.55000  30074.768750  28232.74375   \n",
        "\n",
        "                           b3_11  \n",
        "calib_block_labels                \n",
        "0                            NaN  \n",
        "1                   27702.425000  \n",
        "2                   27700.368750  \n",
        "3                   27706.604167  \n",
        "4                   27722.343750  \n",
        "5                   27743.643750  \n",
        "6                   27757.256250  "
       ]
      }
     ],
     "prompt_number": 49
    },
    {
     "cell_type": "code",
     "collapsed": false,
     "input": [
      "grouped.a3_11.mean()"
     ],
     "language": "python",
     "metadata": {},
     "outputs": [
      {
       "output_type": "pyout",
       "prompt_number": 50,
       "text": [
        "calib_block_labels\n",
        "0                     22366.915404\n",
        "1                     23462.025568\n",
        "2                     23457.556818\n",
        "3                     23516.548913\n",
        "4                     23309.454545\n",
        "5                     23143.522727\n",
        "6                     23086.590909\n",
        "Name: a3_11, dtype: float64"
       ]
      }
     ],
     "prompt_number": 50
    },
    {
     "cell_type": "code",
     "collapsed": false,
     "input": [
      "s = pd.Series(df.index)"
     ],
     "language": "python",
     "metadata": {},
     "outputs": [],
     "prompt_number": 51
    },
    {
     "cell_type": "code",
     "collapsed": false,
     "input": [
      "fu.timediff(s)"
     ],
     "language": "python",
     "metadata": {},
     "outputs": [
      {
       "output_type": "pyout",
       "prompt_number": 56,
       "text": [
        "0                NaT\n",
        "1    00:00:00.127999\n",
        "2    00:00:00.128001\n",
        "3    00:00:00.128000\n",
        "4    00:00:00.128000\n",
        "5    00:00:00.127999\n",
        "6    00:00:00.128001\n",
        "7    00:00:00.128000\n",
        "8    00:00:00.127999\n",
        "9    00:00:00.128000\n",
        "10   00:00:00.128001\n",
        "11   00:00:00.128000\n",
        "12   00:00:00.127999\n",
        "13   00:00:00.128000\n",
        "14   00:00:00.128001\n",
        "...\n",
        "28097   00:00:00.128000\n",
        "28098   00:00:00.128000\n",
        "28099   00:00:00.128000\n",
        "28100   00:00:00.128000\n",
        "28101   00:00:00.128000\n",
        "28102   00:00:00.128000\n",
        "28103   00:00:00.128000\n",
        "28104   00:00:00.128000\n",
        "28105   00:00:00.128000\n",
        "28106   00:00:00.128000\n",
        "28107   00:00:00.128000\n",
        "28108   00:00:00.128000\n",
        "28109   00:00:00.128000\n",
        "28110   00:00:00.128000\n",
        "28111   00:00:00.128000\n",
        "Length: 28112, dtype: timedelta64[ns]"
       ]
      }
     ],
     "prompt_number": 56
    },
    {
     "cell_type": "code",
     "collapsed": false,
     "input": [
      "reload(calib)"
     ],
     "language": "python",
     "metadata": {},
     "outputs": [
      {
       "output_type": "pyout",
       "prompt_number": 57,
       "text": [
        "<module 'calib' from 'calib.py'>"
       ]
      }
     ],
     "prompt_number": 57
    },
    {
     "cell_type": "code",
     "collapsed": false,
     "input": [
      "stframe = calib.get_calib_block(df,'st')[1]"
     ],
     "language": "python",
     "metadata": {},
     "outputs": [],
     "prompt_number": 63
    },
    {
     "cell_type": "code",
     "collapsed": false,
     "input": [
      "stframe"
     ],
     "language": "python",
     "metadata": {},
     "outputs": [
      {
       "output_type": "pyout",
       "prompt_number": 64,
       "text": [
        "<class 'pandas.core.frame.DataFrame'>\n",
        "DatetimeIndex: 272 entries, 2011-04-01 00:27:20.399999 to 2011-04-01 00:27:55.088000\n",
        "Columns: 252 entries, sclk to is_calib\n",
        "dtypes: bool(6), float64(241), int32(4), int64(1)"
       ]
      }
     ],
     "prompt_number": 64
    },
    {
     "cell_type": "code",
     "collapsed": false,
     "input": [
      "pu.plot_calib_block(df,'st',1)"
     ],
     "language": "python",
     "metadata": {},
     "outputs": [],
     "prompt_number": 65
    },
    {
     "cell_type": "code",
     "collapsed": false,
     "input": [
      "pu.plot_calib_block(df,'sv',1)"
     ],
     "language": "python",
     "metadata": {},
     "outputs": [],
     "prompt_number": 66
    }
   ],
   "metadata": {}
  }
 ]
}