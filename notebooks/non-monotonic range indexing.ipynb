{
 "metadata": {
  "name": "",
  "signature": "sha256:ff47f3018a77c0c62498381d80021190971983ed2a92c2ad2ff33a5d37ec485d"
 },
 "nbformat": 3,
 "nbformat_minor": 0,
 "worksheets": [
  {
   "cells": [
    {
     "cell_type": "code",
     "collapsed": false,
     "input": [
      "import pandas as pd\n",
      "import datetime as dt"
     ],
     "language": "python",
     "metadata": {},
     "outputs": [],
     "prompt_number": 7
    },
    {
     "cell_type": "code",
     "collapsed": false,
     "input": [
      "df = pd.read_json('{\"0\":{\"1311069601824\":-0.0717615221,\"1311069601952\":1.4875326599,\"1311069600038\":0.6005551597},\"1\":{\"1311069601824\":-0.7085093684,\"1311069601952\":-0.111620072,\"1311069600038\":0.1839544789},\"2\":{\"1311069601824\":-0.7649867899,\"1311069601952\":0.8586288484,\"1311069600038\":-0.6352107949}}')"
     ],
     "language": "python",
     "metadata": {},
     "outputs": [],
     "prompt_number": 8
    },
    {
     "cell_type": "code",
     "collapsed": false,
     "input": [
      "df"
     ],
     "language": "python",
     "metadata": {},
     "outputs": [
      {
       "html": [
        "<div style=\"max-height:1000px;max-width:1500px;overflow:auto;\">\n",
        "<table border=\"1\" class=\"dataframe\">\n",
        "  <thead>\n",
        "    <tr style=\"text-align: right;\">\n",
        "      <th></th>\n",
        "      <th>0</th>\n",
        "      <th>1</th>\n",
        "      <th>2</th>\n",
        "    </tr>\n",
        "  </thead>\n",
        "  <tbody>\n",
        "    <tr>\n",
        "      <th>2011-07-19 10:00:00.038000</th>\n",
        "      <td> 0.600555</td>\n",
        "      <td> 0.183954</td>\n",
        "      <td>-0.635211</td>\n",
        "    </tr>\n",
        "    <tr>\n",
        "      <th>2011-07-19 10:00:01.824000</th>\n",
        "      <td>-0.071762</td>\n",
        "      <td>-0.708509</td>\n",
        "      <td>-0.764987</td>\n",
        "    </tr>\n",
        "    <tr>\n",
        "      <th>2011-07-19 10:00:01.952000</th>\n",
        "      <td> 1.487533</td>\n",
        "      <td>-0.111620</td>\n",
        "      <td> 0.858629</td>\n",
        "    </tr>\n",
        "  </tbody>\n",
        "</table>\n",
        "<p>3 rows \u00d7 3 columns</p>\n",
        "</div>"
       ],
       "metadata": {},
       "output_type": "pyout",
       "prompt_number": 9,
       "text": [
        "                                   0         1         2\n",
        "2011-07-19 10:00:00.038000  0.600555  0.183954 -0.635211\n",
        "2011-07-19 10:00:01.824000 -0.071762 -0.708509 -0.764987\n",
        "2011-07-19 10:00:01.952000  1.487533 -0.111620  0.858629\n",
        "\n",
        "[3 rows x 3 columns]"
       ]
      }
     ],
     "prompt_number": 9
    },
    {
     "cell_type": "code",
     "collapsed": false,
     "input": [
      "df.index.is_monotonic"
     ],
     "language": "python",
     "metadata": {},
     "outputs": [
      {
       "metadata": {},
       "output_type": "pyout",
       "prompt_number": 10,
       "text": [
        "True"
       ]
      }
     ],
     "prompt_number": 10
    },
    {
     "cell_type": "code",
     "collapsed": true,
     "input": [
      "start = dt.datetime(2011,7,19,10)"
     ],
     "language": "python",
     "metadata": {},
     "outputs": [],
     "prompt_number": 11
    },
    {
     "cell_type": "code",
     "collapsed": false,
     "input": [
      "def check_start(df):\n",
      "    try:\n",
      "        return df[start:]\n",
      "    except KeyError as e:\n",
      "        print KeyError, e"
     ],
     "language": "python",
     "metadata": {},
     "outputs": [],
     "prompt_number": 12
    },
    {
     "cell_type": "code",
     "collapsed": false,
     "input": [
      "# works, index is monotonic\n",
      "check_start(df)"
     ],
     "language": "python",
     "metadata": {},
     "outputs": [
      {
       "html": [
        "<div style=\"max-height:1000px;max-width:1500px;overflow:auto;\">\n",
        "<table border=\"1\" class=\"dataframe\">\n",
        "  <thead>\n",
        "    <tr style=\"text-align: right;\">\n",
        "      <th></th>\n",
        "      <th>0</th>\n",
        "      <th>1</th>\n",
        "      <th>2</th>\n",
        "    </tr>\n",
        "  </thead>\n",
        "  <tbody>\n",
        "    <tr>\n",
        "      <th>2011-07-19 10:00:00.038000</th>\n",
        "      <td> 0.600555</td>\n",
        "      <td> 0.183954</td>\n",
        "      <td>-0.635211</td>\n",
        "    </tr>\n",
        "    <tr>\n",
        "      <th>2011-07-19 10:00:01.824000</th>\n",
        "      <td>-0.071762</td>\n",
        "      <td>-0.708509</td>\n",
        "      <td>-0.764987</td>\n",
        "    </tr>\n",
        "    <tr>\n",
        "      <th>2011-07-19 10:00:01.952000</th>\n",
        "      <td> 1.487533</td>\n",
        "      <td>-0.111620</td>\n",
        "      <td> 0.858629</td>\n",
        "    </tr>\n",
        "  </tbody>\n",
        "</table>\n",
        "<p>3 rows \u00d7 3 columns</p>\n",
        "</div>"
       ],
       "metadata": {},
       "output_type": "pyout",
       "prompt_number": 13,
       "text": [
        "                                   0         1         2\n",
        "2011-07-19 10:00:00.038000  0.600555  0.183954 -0.635211\n",
        "2011-07-19 10:00:01.824000 -0.071762 -0.708509 -0.764987\n",
        "2011-07-19 10:00:01.952000  1.487533 -0.111620  0.858629\n",
        "\n",
        "[3 rows x 3 columns]"
       ]
      }
     ],
     "prompt_number": 13
    },
    {
     "cell_type": "code",
     "collapsed": false,
     "input": [
      "# get first row and attach below, rendering index non-monotonic\n",
      "first_row = df.iloc[0]\n",
      "df = pd.concat([df, pd.DataFrame(first_row).T])\n",
      "df"
     ],
     "language": "python",
     "metadata": {},
     "outputs": [
      {
       "html": [
        "<div style=\"max-height:1000px;max-width:1500px;overflow:auto;\">\n",
        "<table border=\"1\" class=\"dataframe\">\n",
        "  <thead>\n",
        "    <tr style=\"text-align: right;\">\n",
        "      <th></th>\n",
        "      <th>0</th>\n",
        "      <th>1</th>\n",
        "      <th>2</th>\n",
        "    </tr>\n",
        "  </thead>\n",
        "  <tbody>\n",
        "    <tr>\n",
        "      <th>2011-07-19 10:00:00.038000</th>\n",
        "      <td> 0.600555</td>\n",
        "      <td> 0.183954</td>\n",
        "      <td>-0.635211</td>\n",
        "    </tr>\n",
        "    <tr>\n",
        "      <th>2011-07-19 10:00:01.824000</th>\n",
        "      <td>-0.071762</td>\n",
        "      <td>-0.708509</td>\n",
        "      <td>-0.764987</td>\n",
        "    </tr>\n",
        "    <tr>\n",
        "      <th>2011-07-19 10:00:01.952000</th>\n",
        "      <td> 1.487533</td>\n",
        "      <td>-0.111620</td>\n",
        "      <td> 0.858629</td>\n",
        "    </tr>\n",
        "    <tr>\n",
        "      <th>2011-07-19 10:00:00.038000</th>\n",
        "      <td> 0.600555</td>\n",
        "      <td> 0.183954</td>\n",
        "      <td>-0.635211</td>\n",
        "    </tr>\n",
        "  </tbody>\n",
        "</table>\n",
        "<p>4 rows \u00d7 3 columns</p>\n",
        "</div>"
       ],
       "metadata": {},
       "output_type": "pyout",
       "prompt_number": 14,
       "text": [
        "                                   0         1         2\n",
        "2011-07-19 10:00:00.038000  0.600555  0.183954 -0.635211\n",
        "2011-07-19 10:00:01.824000 -0.071762 -0.708509 -0.764987\n",
        "2011-07-19 10:00:01.952000  1.487533 -0.111620  0.858629\n",
        "2011-07-19 10:00:00.038000  0.600555  0.183954 -0.635211\n",
        "\n",
        "[4 rows x 3 columns]"
       ]
      }
     ],
     "prompt_number": 14
    },
    {
     "cell_type": "code",
     "collapsed": false,
     "input": [
      "df.index.is_monotonic"
     ],
     "language": "python",
     "metadata": {},
     "outputs": [
      {
       "metadata": {},
       "output_type": "pyout",
       "prompt_number": 15,
       "text": [
        "False"
       ]
      }
     ],
     "prompt_number": 15
    },
    {
     "cell_type": "code",
     "collapsed": false,
     "input": [
      "# creates error\n",
      "check_start(df)"
     ],
     "language": "python",
     "metadata": {},
     "outputs": [
      {
       "output_type": "stream",
       "stream": "stdout",
       "text": [
        "<type 'exceptions.KeyError'> 1311069600000000000\n"
       ]
      }
     ],
     "prompt_number": 16
    }
   ],
   "metadata": {}
  }
 ]
}