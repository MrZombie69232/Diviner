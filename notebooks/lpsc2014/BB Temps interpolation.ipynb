{
 "metadata": {
  "name": "",
  "signature": "sha256:a9917b40feb99f26a8f9974e9086318e2077139d37fc7d050b3a963a49f35f9c"
 },
 "nbformat": 3,
 "nbformat_minor": 0,
 "worksheets": [
  {
   "cells": [
    {
     "cell_type": "code",
     "collapsed": false,
     "input": [
      "from diviner import file_utils as fu, calib\n",
      "reload(calib)"
     ],
     "language": "python",
     "metadata": {},
     "outputs": [
      {
       "metadata": {},
       "output_type": "pyout",
       "prompt_number": 46,
       "text": [
        "<module 'diviner.calib' from '/Users/maye/Dropbox/src/diviner/calib.py'>"
       ]
      }
     ],
     "prompt_number": 46
    },
    {
     "cell_type": "code",
     "collapsed": false,
     "input": [
      "tstr = '2013031710'\n",
      "l1a = fu.get_clean_l1a(tstr)"
     ],
     "language": "python",
     "metadata": {},
     "outputs": [],
     "prompt_number": 47
    },
    {
     "cell_type": "code",
     "collapsed": false,
     "input": [
      "rdr2 = calib.Calibrator(l1a)\n",
      "rdr2_padded = calib.Calibrator(l1a, pad_bbtemps=True)"
     ],
     "language": "python",
     "metadata": {},
     "outputs": [],
     "prompt_number": 48
    },
    {
     "cell_type": "code",
     "collapsed": false,
     "input": [
      "rdr2.calibrate()\n",
      "rdr2_padded.calibrate()"
     ],
     "language": "python",
     "metadata": {},
     "outputs": [],
     "prompt_number": 49
    },
    {
     "cell_type": "code",
     "collapsed": false,
     "input": [
      "fig, ax = subplots(2)\n",
      "t1 = '20130317 10:23'\n",
      "t2 = '20130317 10:25'\n",
      "rdr2_padded.df['bb_1_temp bb_2_temp'.split()][t1:t2].plot(style='x', ms=10,\n",
      "                                                          ax=ax[0], mew=2,\n",
      "                                                          legend=False)\n",
      "rdr2_padded.df['bb_1_temp_interp bb_2_temp_interp'.split()][t1:t2].plot(ax=ax[0],\n",
      "                                                                 legend=False)\n",
      "ax[0].legend(loc='best')\n",
      "ax[0].set_title('Current treatment')\n",
      "rdr2.df['bb_1_temp bb_2_temp'.split()][t1:t2].plot(style='x', ms=10,\n",
      "                                                ax=ax[1], mew=2,legend=False)\n",
      "rdr2.df['bb_1_temp_interp bb_2_temp_interp'.split()][t1:t2].plot(ax=ax[1],\n",
      "                                                          legend=False)\n",
      "ax[1].legend(loc='best')\n",
      "ax[1].set_title('Future treatment')\n",
      "fig.suptitle(\"BB temp interpolation\")"
     ],
     "language": "python",
     "metadata": {},
     "outputs": [
      {
       "metadata": {},
       "output_type": "pyout",
       "prompt_number": 62,
       "text": [
        "<matplotlib.text.Text at 0x1696bef50>"
       ]
      }
     ],
     "prompt_number": 62
    },
    {
     "cell_type": "code",
     "collapsed": false,
     "input": [
      "rdr2_padded.df['bb_2_temp_interp'].plot()"
     ],
     "language": "python",
     "metadata": {},
     "outputs": [
      {
       "metadata": {},
       "output_type": "pyout",
       "prompt_number": 23,
       "text": [
        "<matplotlib.axes.AxesSubplot at 0x11ac2b650>"
       ]
      }
     ],
     "prompt_number": 23
    },
    {
     "cell_type": "code",
     "collapsed": false,
     "input": [
      "df = l1a\n",
      "bbtemps = ['bb_1_temp','bb_2_temp']\n",
      "\n",
      "        # first i forward pad from first filled value.\n",
      "for bbtemp in bbtemps:\n",
      "    df[bbtemp+'_interp'] = df[bbtemp].replace(np.nan)\n",
      "\n",
      "# now find which is the first filled value and cut off dataframe, to be\n",
      "# exactly doing what JPL is doing\n",
      "iBB1 = df[df['bb_1_temp_interp'].notnull()].index[0]\n",
      "iBB2 = df[df['bb_2_temp_interp'].notnull()].index[0]\n",
      "cutoff = max(iBB1, iBB2)"
     ],
     "language": "python",
     "metadata": {},
     "outputs": [],
     "prompt_number": 32
    },
    {
     "cell_type": "code",
     "collapsed": false,
     "input": [
      "df.columns[-4:]"
     ],
     "language": "python",
     "metadata": {},
     "outputs": [
      {
       "metadata": {},
       "output_type": "pyout",
       "prompt_number": 34,
       "text": [
        "Index([u'is_stowed', u'is_calib', u'bb_1_temp_interp', u'bb_2_temp_interp'], dtype='object')"
       ]
      }
     ],
     "prompt_number": 34
    },
    {
     "cell_type": "code",
     "collapsed": false,
     "input": [
      "df.bb_2_temp_interp.plot()"
     ],
     "language": "python",
     "metadata": {},
     "outputs": [
      {
       "metadata": {},
       "output_type": "pyout",
       "prompt_number": 35,
       "text": [
        "<matplotlib.axes.AxesSubplot at 0x11ac46b10>"
       ]
      }
     ],
     "prompt_number": 35
    },
    {
     "cell_type": "code",
     "collapsed": false,
     "input": [
      "df.index"
     ],
     "language": "python",
     "metadata": {},
     "outputs": [
      {
       "metadata": {},
       "output_type": "pyout",
       "prompt_number": 37,
       "text": [
        "<class 'pandas.tseries.index.DatetimeIndex'>\n",
        "[2013-03-17 10:00:01.429000, ..., 2013-03-17 11:00:01.751000]\n",
        "Length: 28128, Freq: None, Timezone: None"
       ]
      }
     ],
     "prompt_number": 37
    },
    {
     "cell_type": "code",
     "collapsed": false,
     "input": [
      "df.ix[cutoff:].index"
     ],
     "language": "python",
     "metadata": {},
     "outputs": [
      {
       "metadata": {},
       "output_type": "pyout",
       "prompt_number": 38,
       "text": [
        "<class 'pandas.tseries.index.DatetimeIndex'>\n",
        "[2013-03-17 10:00:29.846000, ..., 2013-03-17 11:00:01.751000]\n",
        "Length: 27906, Freq: None, Timezone: None"
       ]
      }
     ],
     "prompt_number": 38
    },
    {
     "cell_type": "code",
     "collapsed": false,
     "input": [],
     "language": "python",
     "metadata": {},
     "outputs": []
    }
   ],
   "metadata": {}
  }
 ]
}