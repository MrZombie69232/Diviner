{
 "cells": [
  {
   "cell_type": "code",
   "execution_count": 17,
   "metadata": {
    "collapsed": false
   },
   "outputs": [],
   "source": [
    "from diviner import file_utils as fu, calib"
   ]
  },
  {
   "cell_type": "code",
   "execution_count": 18,
   "metadata": {
    "collapsed": false
   },
   "outputs": [],
   "source": [
    "tstr = '2013031710'\n",
    "l1a = fu.get_clean_l1a(tstr)"
   ]
  },
  {
   "cell_type": "code",
   "execution_count": 19,
   "metadata": {
    "collapsed": false
   },
   "outputs": [
    {
     "name": "stderr",
     "output_type": "stream",
     "text": [
      "INFO:diviner.calib:Calibrating from 2013-03-17 10:00:01.429000 to 2013-03-17 11:00:01.751000.\n",
      "INFO:diviner.calib:Calibrating from 2013-03-17 10:00:01.429000 to 2013-03-17 11:00:01.751000.\n"
     ]
    }
   ],
   "source": [
    "rdr2 = calib.Calibrator(l1a)\n",
    "rdr2_padded = calib.Calibrator(l1a, pad_bbtemps=True)"
   ]
  },
  {
   "cell_type": "code",
   "execution_count": 20,
   "metadata": {
    "collapsed": false
   },
   "outputs": [
    {
     "name": "stderr",
     "output_type": "stream",
     "text": [
      "INFO:diviner.calib:Performing radiance correction on 2013-03-17 10:00:01.429000\n",
      "INFO:diviner.calib:Performing radiance correction on 2013-03-17 10:00:29.846000\n"
     ]
    }
   ],
   "source": [
    "rdr2.calibrate()\n",
    "rdr2_padded.calibrate()"
   ]
  },
  {
   "cell_type": "code",
   "execution_count": 21,
   "metadata": {},
   "outputs": [],
   "source": [
    "%matplotlib widget"
   ]
  },
  {
   "cell_type": "code",
   "execution_count": 22,
   "metadata": {
    "collapsed": false
   },
   "outputs": [
    {
     "data": {
      "application/vnd.jupyter.widget-view+json": {
       "model_id": "c18c75397dca4d32a6050cd1ec7b4e5a",
       "version_major": 2,
       "version_minor": 0
      },
      "text/plain": [
       "FigureCanvasNbAgg()"
      ]
     },
     "metadata": {},
     "output_type": "display_data"
    },
    {
     "name": "stderr",
     "output_type": "stream",
     "text": [
      "/usr/local/epd/miniconda/envs/py37/lib/python3.7/site-packages/matplotlib/figure.py:2144: UserWarning: This figure was using constrained_layout==True, but that is incompatible with subplots_adjust and or tight_layout: setting constrained_layout==False. \n",
      "  warnings.warn(\"This figure was using constrained_layout==True, \"\n"
     ]
    },
    {
     "data": {
      "text/plain": [
       "<matplotlib.axes._subplots.AxesSubplot at 0x7f88f45f94a8>"
      ]
     },
     "execution_count": 22,
     "metadata": {},
     "output_type": "execute_result"
    }
   ],
   "source": [
    "fig, ax = plt.subplots(2, constrained_layout=True)\n",
    "t1 = '20130317 10:23'\n",
    "t2 = '20130317 10:25'\n",
    "rdr2_padded.df['bb_1_temp bb_2_temp'.split()][t1:t2].plot(style='x', ms=10,\n",
    "                                                          ax=ax[0], mew=2,\n",
    "                                                          legend=False)\n",
    "# rdr2_padded.df['bb_1_temp_interp bb_2_temp_interp'.split()][t1:t2].plot(ax=ax[0],\n",
    "#                                                                  legend=False)\n",
    "# ax[0].legend(loc='best')\n",
    "# ax[0].set_title('Current treatment')\n",
    "# rdr2.df['bb_1_temp bb_2_temp'.split()][t1:t2].plot(style='x', ms=10,\n",
    "#                                                 ax=ax[1], mew=2,legend=False)\n",
    "# rdr2.df['bb_1_temp_interp bb_2_temp_interp'.split()][t1:t2].plot(ax=ax[1],\n",
    "#                                                           legend=False)\n",
    "# ax[1].legend(loc='best')\n",
    "# ax[1].set_title('Future treatment')\n",
    "# fig.suptitle(\"BB temp interpolation\")"
   ]
  },
  {
   "cell_type": "code",
   "execution_count": 26,
   "metadata": {},
   "outputs": [
    {
     "data": {
      "application/vnd.jupyter.widget-view+json": {
       "model_id": "1e557eb00ae3480f908285ae6d04f1e1",
       "version_major": 2,
       "version_minor": 0
      },
      "text/plain": [
       "FigureCanvasNbAgg()"
      ]
     },
     "metadata": {},
     "output_type": "display_data"
    },
    {
     "name": "stderr",
     "output_type": "stream",
     "text": [
      "/usr/local/epd/miniconda/envs/py37/lib/python3.7/site-packages/matplotlib/figure.py:2144: UserWarning: This figure was using constrained_layout==True, but that is incompatible with subplots_adjust and or tight_layout: setting constrained_layout==False. \n",
      "  warnings.warn(\"This figure was using constrained_layout==True, \"\n"
     ]
    },
    {
     "data": {
      "text/plain": [
       "<matplotlib.axes._subplots.AxesSubplot at 0x7f88e0e1d908>"
      ]
     },
     "execution_count": 26,
     "metadata": {},
     "output_type": "execute_result"
    }
   ],
   "source": [
    "fig, axes = plt.subplots(2, constrained_layout=True)\n",
    "times = pd.date_range(start='now', periods=10)\n",
    "pd.DataFrame({'a': np.arange(10)}, index=times).plot(style='x', ax=axes[0])"
   ]
  },
  {
   "cell_type": "code",
   "execution_count": 27,
   "metadata": {},
   "outputs": [
    {
     "name": "stdout",
     "output_type": "stream",
     "text": [
      "\n",
      "INSTALLED VERSIONS\n",
      "------------------\n",
      "commit: None\n",
      "python: 3.7.1.final.0\n",
      "python-bits: 64\n",
      "OS: Linux\n",
      "OS-release: 3.10.0-862.el7.x86_64\n",
      "machine: x86_64\n",
      "processor: x86_64\n",
      "byteorder: little\n",
      "LC_ALL: None\n",
      "LANG: en_US.UTF-8\n",
      "LOCALE: en_US.UTF-8\n",
      "\n",
      "pandas: 0.24.1\n",
      "pytest: 4.2.0\n",
      "pip: 19.0.2\n",
      "setuptools: 40.7.3\n",
      "Cython: 0.29.5\n",
      "numpy: 1.16.1\n",
      "scipy: 1.2.0\n",
      "pyarrow: None\n",
      "xarray: 0.11.3\n",
      "IPython: 7.1.1\n",
      "sphinx: 1.8.4\n",
      "patsy: 0.5.1\n",
      "dateutil: 2.8.0\n",
      "pytz: 2018.9\n",
      "blosc: None\n",
      "bottleneck: None\n",
      "tables: 3.4.4\n",
      "numexpr: 2.6.9\n",
      "feather: None\n",
      "matplotlib: 3.0.2\n",
      "openpyxl: None\n",
      "xlrd: 1.2.0\n",
      "xlwt: 1.3.0\n",
      "xlsxwriter: 1.1.3\n",
      "lxml.etree: 4.3.1\n",
      "bs4: None\n",
      "html5lib: None\n",
      "sqlalchemy: 1.2.17\n",
      "pymysql: None\n",
      "psycopg2: 2.7.7 (dt dec pq3 ext lo64)\n",
      "jinja2: 2.10\n",
      "s3fs: None\n",
      "fastparquet: None\n",
      "pandas_gbq: None\n",
      "pandas_datareader: None\n",
      "gcsfs: None\n"
     ]
    }
   ],
   "source": [
    "pd.show_versions()"
   ]
  },
  {
   "cell_type": "code",
   "execution_count": 23,
   "metadata": {
    "collapsed": false
   },
   "outputs": [
    {
     "data": {
      "text/plain": [
       "<matplotlib.axes.AxesSubplot at 0x11ac2b650>"
      ]
     },
     "execution_count": 23,
     "metadata": {},
     "output_type": "execute_result"
    }
   ],
   "source": [
    "rdr2_padded.df['bb_2_temp_interp'].plot()"
   ]
  },
  {
   "cell_type": "code",
   "execution_count": 32,
   "metadata": {
    "collapsed": false
   },
   "outputs": [],
   "source": [
    "df = l1a\n",
    "bbtemps = ['bb_1_temp','bb_2_temp']\n",
    "\n",
    "        # first i forward pad from first filled value.\n",
    "for bbtemp in bbtemps:\n",
    "    df[bbtemp+'_interp'] = df[bbtemp].replace(np.nan)\n",
    "\n",
    "# now find which is the first filled value and cut off dataframe, to be\n",
    "# exactly doing what JPL is doing\n",
    "iBB1 = df[df['bb_1_temp_interp'].notnull()].index[0]\n",
    "iBB2 = df[df['bb_2_temp_interp'].notnull()].index[0]\n",
    "cutoff = max(iBB1, iBB2)"
   ]
  },
  {
   "cell_type": "code",
   "execution_count": 34,
   "metadata": {
    "collapsed": false
   },
   "outputs": [
    {
     "data": {
      "text/plain": [
       "Index([u'is_stowed', u'is_calib', u'bb_1_temp_interp', u'bb_2_temp_interp'], dtype='object')"
      ]
     },
     "execution_count": 34,
     "metadata": {},
     "output_type": "execute_result"
    }
   ],
   "source": [
    "df.columns[-4:]"
   ]
  },
  {
   "cell_type": "code",
   "execution_count": 35,
   "metadata": {
    "collapsed": false
   },
   "outputs": [
    {
     "data": {
      "text/plain": [
       "<matplotlib.axes.AxesSubplot at 0x11ac46b10>"
      ]
     },
     "execution_count": 35,
     "metadata": {},
     "output_type": "execute_result"
    }
   ],
   "source": [
    "df.bb_2_temp_interp.plot()"
   ]
  },
  {
   "cell_type": "code",
   "execution_count": 37,
   "metadata": {
    "collapsed": false
   },
   "outputs": [
    {
     "data": {
      "text/plain": [
       "<class 'pandas.tseries.index.DatetimeIndex'>\n",
       "[2013-03-17 10:00:01.429000, ..., 2013-03-17 11:00:01.751000]\n",
       "Length: 28128, Freq: None, Timezone: None"
      ]
     },
     "execution_count": 37,
     "metadata": {},
     "output_type": "execute_result"
    }
   ],
   "source": [
    "df.index"
   ]
  },
  {
   "cell_type": "code",
   "execution_count": 38,
   "metadata": {
    "collapsed": false
   },
   "outputs": [
    {
     "data": {
      "text/plain": [
       "<class 'pandas.tseries.index.DatetimeIndex'>\n",
       "[2013-03-17 10:00:29.846000, ..., 2013-03-17 11:00:01.751000]\n",
       "Length: 27906, Freq: None, Timezone: None"
      ]
     },
     "execution_count": 38,
     "metadata": {},
     "output_type": "execute_result"
    }
   ],
   "source": [
    "df.ix[cutoff:].index"
   ]
  },
  {
   "cell_type": "code",
   "execution_count": null,
   "metadata": {
    "collapsed": false
   },
   "outputs": [],
   "source": []
  }
 ],
 "metadata": {
  "kernelspec": {
   "display_name": "Python 3",
   "language": "python",
   "name": "python3"
  },
  "language_info": {
   "codemirror_mode": {
    "name": "ipython",
    "version": 3
   },
   "file_extension": ".py",
   "mimetype": "text/x-python",
   "name": "python",
   "nbconvert_exporter": "python",
   "pygments_lexer": "ipython3",
   "version": "3.7.1"
  }
 },
 "nbformat": 4,
 "nbformat_minor": 2
}
