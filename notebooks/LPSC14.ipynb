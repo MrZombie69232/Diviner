{
 "metadata": {
  "name": ""
 },
 "nbformat": 3,
 "nbformat_minor": 0,
 "worksheets": [
  {
   "cells": [
    {
     "cell_type": "code",
     "collapsed": false,
     "input": [
      "import pandas as pd\n",
      "from os.path import join as pjoin\n",
      "from diviner import calib"
     ],
     "language": "python",
     "metadata": {},
     "outputs": [],
     "prompt_number": 98
    },
    {
     "cell_type": "code",
     "collapsed": false,
     "input": [
      "root = '/Users/maye/data/diviner/coldregions'"
     ],
     "language": "python",
     "metadata": {},
     "outputs": [],
     "prompt_number": 99
    },
    {
     "cell_type": "code",
     "collapsed": false,
     "input": [
      "def figure_description():\n",
      "    legend()\n",
      "    xlabel('No of samples per day binning')\n",
      "    title('Stats of available data points per cold region')\n",
      "    savefig(pjoin(root, 'samples_per_day.png'), dpi=200)"
     ],
     "language": "python",
     "metadata": {},
     "outputs": [],
     "prompt_number": 100
    },
    {
     "cell_type": "code",
     "collapsed": false,
     "input": [
      "def process_regions(no):\n",
      "    regionstr = 'region'+str(no)\n",
      "    region = pd.read_hdf(pjoin(root, 'regions_new.h5'), 'region'+str(no))\n",
      "    points_per_time = region.groupby(region.index).size()\n",
      "    points_per_day = points_per_time.resample('1d', how='sum').dropna()\n",
      "    print points_per_day.describe()\n",
      "    points_per_day.plot(kind='kde',label=regionstr)\n",
      "    region_resampled = region.resample('1d')\n",
      "    return region_resampled\n",
      "container = []\n",
      "for i in [1,3,5]:\n",
      "    container.append(process_regions(i))\n",
      "figure_description()"
     ],
     "language": "python",
     "metadata": {},
     "outputs": [
      {
       "output_type": "stream",
       "stream": "stdout",
       "text": [
        "count    122.000000\n",
        "mean     191.590164\n",
        "std       95.422831\n",
        "min       12.000000\n",
        "25%      116.000000\n",
        "50%      210.000000\n",
        "75%      257.750000\n",
        "max      388.000000\n",
        "dtype: float64\n",
        "count     145.000000\n",
        "mean      339.275862\n",
        "std       258.440636\n",
        "min         3.000000\n",
        "25%       199.000000\n",
        "50%       300.000000\n",
        "75%       407.000000\n",
        "max      1770.000000\n",
        "dtype: float64"
       ]
      },
      {
       "output_type": "stream",
       "stream": "stdout",
       "text": [
        "\n",
        "count     92.000000\n",
        "mean     274.043478\n",
        "std      170.137108\n",
        "min        4.000000\n",
        "25%      203.500000\n",
        "50%      231.500000\n",
        "75%      329.500000\n",
        "max      803.000000\n",
        "dtype: float64"
       ]
      },
      {
       "output_type": "stream",
       "stream": "stdout",
       "text": [
        "\n"
       ]
      }
     ],
     "prompt_number": 101
    },
    {
     "cell_type": "code",
     "collapsed": false,
     "input": [
      "rbbtable = calib.rbbtable"
     ],
     "language": "python",
     "metadata": {},
     "outputs": [],
     "prompt_number": 102
    },
    {
     "cell_type": "code",
     "collapsed": false,
     "input": [
      "def get_new_tb(df, region_no):\n",
      "    tb = rbbtable.get_tb(df.newrad, 9)\n",
      "    tb = pd.Series(tb, index=df.index).dropna()\n",
      "    tb.plot(label='Region '+str(region_no))\n",
      "for df,no in zip(container,[1,3,5]):\n",
      "    get_new_tb(df, no)\n",
      "legend(loc='best')\n",
      "ylabel(\"T_b [K]\")\n",
      "title(\"Cold region temperatures, 1-day binning\")\n",
      "savefig(pjoin(root, 'coldregions_temps.png'), dpi=200)\n",
      "ylabel(\"T_b [K]\")\n"
     ],
     "language": "python",
     "metadata": {},
     "outputs": [
      {
       "metadata": {},
       "output_type": "pyout",
       "prompt_number": 103,
       "text": [
        "<matplotlib.text.Text at 0x11f5048d0>"
       ]
      }
     ],
     "prompt_number": 103
    },
    {
     "cell_type": "code",
     "collapsed": false,
     "input": [
      "tb.dropna().plot()"
     ],
     "language": "python",
     "metadata": {},
     "outputs": [
      {
       "metadata": {},
       "output_type": "pyout",
       "prompt_number": 78,
       "text": [
        "<matplotlib.axes.AxesSubplot at 0x11f4f19d0>"
       ]
      }
     ],
     "prompt_number": 78
    },
    {
     "cell_type": "code",
     "collapsed": false,
     "input": [],
     "language": "python",
     "metadata": {},
     "outputs": []
    }
   ],
   "metadata": {}
  }
 ]
}