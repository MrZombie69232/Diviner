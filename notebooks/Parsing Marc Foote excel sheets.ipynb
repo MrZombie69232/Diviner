{
 "cells": [
  {
   "cell_type": "code",
   "execution_count": 1,
   "metadata": {
    "collapsed": false
   },
   "outputs": [
    {
     "name": "stdout",
     "output_type": "stream",
     "text": [
      "/Users/klay6683/Dropbox/DDocuments/DIVINER/ground_calib\n"
     ]
    }
   ],
   "source": [
    "cd ~/Dropbox/DDocuments/DIVINER/ground_calib/"
   ]
  },
  {
   "cell_type": "code",
   "execution_count": 2,
   "metadata": {
    "collapsed": false
   },
   "outputs": [
    {
     "name": "stdout",
     "output_type": "stream",
     "text": [
      "2008011201_L1A_Plot3.pdf                      gc_a6_b1_b2_b3_d11_2008011021-2008011109.png\r\n",
      "Diviner Radiometric Cal Ramp 2.xlsx           gc_a6_b1_b2_b3_d11_2008011109-2008011121.png\r\n",
      "Diviner Radiometric Cal Ramp 3.xlsx           gc_a6_b1_b2_b3_d11_2008011121-2008011209.png\r\n",
      "b1_11_2008011021-2008011109.png               gc_a6_b1_b2_b3_d11_2008011209-2008011221.png\r\n",
      "b1_11_2008011109-2008011121.png               gc_a6_b1_b2_b3_d11_2008011221-2008011309.png\r\n",
      "b1_11_2008011121-2008011209.png               marc_foote_counts_and_chamber_data.xlsx\r\n",
      "b1_11_2008011209-2008011221.png               ~$Diviner Radiometric Cal Ramp 2.xlsx\r\n",
      "b1_11_2008011221-2008011309.png               ~$Diviner Radiometric Cal Ramp 3.xlsx\r\n",
      "counts_vs_temps.png                           ~$marc_foote_counts_and_chamber_data.xlsx\r\n"
     ]
    }
   ],
   "source": [
    "ls"
   ]
  },
  {
   "cell_type": "code",
   "execution_count": 48,
   "metadata": {
    "collapsed": true
   },
   "outputs": [],
   "source": [
    "from diviner.calib import thermal_detectors\n",
    "def replace_cols_with_tdets(df, offset):\n",
    "    origcols = df.columns.tolist()\n",
    "    newcols = origcols[:offset] + thermal_detectors\n",
    "    df.columns = newcols\n",
    "    return df"
   ]
  },
  {
   "cell_type": "code",
   "execution_count": 49,
   "metadata": {
    "collapsed": false
   },
   "outputs": [],
   "source": [
    "chamberdata = pd.read_excel('marc_foote_counts_and_chamber_data.xlsx')\n",
    "chamberdata = replace_cols_with_tdets(chamberdata, 8)\n",
    "# dropping the first parsed row because it's just the 2nd row of header names\n",
    "# from the Excel sheet, mostly containing units\n",
    "chamberdata.drop(0, inplace=True)\n",
    "chamberdata = chamberdata.convert_objects()"
   ]
  },
  {
   "cell_type": "code",
   "execution_count": 51,
   "metadata": {
    "collapsed": false
   },
   "outputs": [
    {
     "data": {
      "text/html": [
       "<div style=\"max-height:1000px;max-width:1500px;overflow:auto;\">\n",
       "<table border=\"1\" class=\"dataframe\">\n",
       "  <thead>\n",
       "    <tr style=\"text-align: right;\">\n",
       "      <th></th>\n",
       "      <th>Time</th>\n",
       "      <th>Fixed BB T</th>\n",
       "      <th>Var BB T</th>\n",
       "      <th>BB1 T</th>\n",
       "      <th>BB2 T</th>\n",
       "      <th>FPA T</th>\n",
       "      <th>FPB T</th>\n",
       "      <th>OBA T</th>\n",
       "      <th>a3_01</th>\n",
       "      <th>a3_02</th>\n",
       "      <th>...</th>\n",
       "      <th>b3_12</th>\n",
       "      <th>b3_13</th>\n",
       "      <th>b3_14</th>\n",
       "      <th>b3_15</th>\n",
       "      <th>b3_16</th>\n",
       "      <th>b3_17</th>\n",
       "      <th>b3_18</th>\n",
       "      <th>b3_19</th>\n",
       "      <th>b3_20</th>\n",
       "      <th>b3_21</th>\n",
       "    </tr>\n",
       "  </thead>\n",
       "  <tbody>\n",
       "    <tr>\n",
       "      <th>1</th>\n",
       "      <td> 2.216918e+08</td>\n",
       "      <td> 91.496039</td>\n",
       "      <td> 20.953206</td>\n",
       "      <td> 289.039125</td>\n",
       "      <td> 288.921989</td>\n",
       "      <td> 285.74450</td>\n",
       "      <td> 285.795625</td>\n",
       "      <td> 287.37600</td>\n",
       "      <td> 0.701149</td>\n",
       "      <td>-0.464309</td>\n",
       "      <td>...</td>\n",
       "      <td>-45.597354</td>\n",
       "      <td>-48.483706</td>\n",
       "      <td>-44.134897</td>\n",
       "      <td>-43.208116</td>\n",
       "      <td>-44.617604</td>\n",
       "      <td>-42.689515</td>\n",
       "      <td>-41.038529</td>\n",
       "      <td>-42.537526</td>\n",
       "      <td>-40.618196</td>\n",
       "      <td>-32.709710</td>\n",
       "    </tr>\n",
       "    <tr>\n",
       "      <th>2</th>\n",
       "      <td> 2.216919e+08</td>\n",
       "      <td> 91.478185</td>\n",
       "      <td> 21.031436</td>\n",
       "      <td> 288.945625</td>\n",
       "      <td> 288.878461</td>\n",
       "      <td> 285.74225</td>\n",
       "      <td> 285.774500</td>\n",
       "      <td> 287.54600</td>\n",
       "      <td> 0.279037</td>\n",
       "      <td>-0.325523</td>\n",
       "      <td>...</td>\n",
       "      <td>-45.086091</td>\n",
       "      <td>-47.309381</td>\n",
       "      <td>-43.898254</td>\n",
       "      <td>-42.395588</td>\n",
       "      <td>-44.884098</td>\n",
       "      <td>-43.365207</td>\n",
       "      <td>-40.641203</td>\n",
       "      <td>-42.458153</td>\n",
       "      <td>-38.908414</td>\n",
       "      <td>-33.114429</td>\n",
       "    </tr>\n",
       "    <tr>\n",
       "      <th>3</th>\n",
       "      <td> 2.216920e+08</td>\n",
       "      <td> 90.781601</td>\n",
       "      <td> 20.729113</td>\n",
       "      <td> 289.030000</td>\n",
       "      <td> 288.915737</td>\n",
       "      <td> 285.72200</td>\n",
       "      <td> 285.731500</td>\n",
       "      <td> 287.40100</td>\n",
       "      <td> 1.488447</td>\n",
       "      <td> 0.791298</td>\n",
       "      <td>...</td>\n",
       "      <td>-44.934751</td>\n",
       "      <td>-46.661946</td>\n",
       "      <td>-42.878662</td>\n",
       "      <td>-41.547724</td>\n",
       "      <td>-44.048771</td>\n",
       "      <td>-41.780070</td>\n",
       "      <td>-41.871625</td>\n",
       "      <td>-42.166158</td>\n",
       "      <td>-38.645145</td>\n",
       "      <td>-32.728246</td>\n",
       "    </tr>\n",
       "    <tr>\n",
       "      <th>4</th>\n",
       "      <td> 2.216920e+08</td>\n",
       "      <td> 90.793402</td>\n",
       "      <td> 20.548585</td>\n",
       "      <td> 288.889000</td>\n",
       "      <td> 288.841360</td>\n",
       "      <td> 285.70600</td>\n",
       "      <td> 285.719750</td>\n",
       "      <td> 287.36975</td>\n",
       "      <td>-0.142818</td>\n",
       "      <td> 0.292132</td>\n",
       "      <td>...</td>\n",
       "      <td>-45.646113</td>\n",
       "      <td>-45.594897</td>\n",
       "      <td>-42.331532</td>\n",
       "      <td>-42.554207</td>\n",
       "      <td>-43.117757</td>\n",
       "      <td>-41.705114</td>\n",
       "      <td>-40.674476</td>\n",
       "      <td>-41.049738</td>\n",
       "      <td>-39.363263</td>\n",
       "      <td>-33.800622</td>\n",
       "    </tr>\n",
       "    <tr>\n",
       "      <th>5</th>\n",
       "      <td> 2.216921e+08</td>\n",
       "      <td> 90.880931</td>\n",
       "      <td> 20.482356</td>\n",
       "      <td> 289.061000</td>\n",
       "      <td> 288.918000</td>\n",
       "      <td> 285.70500</td>\n",
       "      <td> 285.701375</td>\n",
       "      <td> 287.61500</td>\n",
       "      <td> 0.656175</td>\n",
       "      <td> 0.084544</td>\n",
       "      <td>...</td>\n",
       "      <td>-46.464388</td>\n",
       "      <td>-46.765446</td>\n",
       "      <td>-43.612145</td>\n",
       "      <td>-42.322117</td>\n",
       "      <td>-45.404985</td>\n",
       "      <td>-42.286772</td>\n",
       "      <td>-40.772225</td>\n",
       "      <td>-42.539797</td>\n",
       "      <td>-38.613747</td>\n",
       "      <td>-32.633978</td>\n",
       "    </tr>\n",
       "  </tbody>\n",
       "</table>\n",
       "<p>5 rows × 155 columns</p>\n",
       "</div>"
      ],
      "text/plain": [
       "           Time  Fixed BB T   Var BB T       BB1 T       BB2 T      FPA T  \\\n",
       "1  2.216918e+08   91.496039  20.953206  289.039125  288.921989  285.74450   \n",
       "2  2.216919e+08   91.478185  21.031436  288.945625  288.878461  285.74225   \n",
       "3  2.216920e+08   90.781601  20.729113  289.030000  288.915737  285.72200   \n",
       "4  2.216920e+08   90.793402  20.548585  288.889000  288.841360  285.70600   \n",
       "5  2.216921e+08   90.880931  20.482356  289.061000  288.918000  285.70500   \n",
       "\n",
       "        FPB T      OBA T     a3_01     a3_02    ...          b3_12      b3_13  \\\n",
       "1  285.795625  287.37600  0.701149 -0.464309    ...     -45.597354 -48.483706   \n",
       "2  285.774500  287.54600  0.279037 -0.325523    ...     -45.086091 -47.309381   \n",
       "3  285.731500  287.40100  1.488447  0.791298    ...     -44.934751 -46.661946   \n",
       "4  285.719750  287.36975 -0.142818  0.292132    ...     -45.646113 -45.594897   \n",
       "5  285.701375  287.61500  0.656175  0.084544    ...     -46.464388 -46.765446   \n",
       "\n",
       "       b3_14      b3_15      b3_16      b3_17      b3_18      b3_19  \\\n",
       "1 -44.134897 -43.208116 -44.617604 -42.689515 -41.038529 -42.537526   \n",
       "2 -43.898254 -42.395588 -44.884098 -43.365207 -40.641203 -42.458153   \n",
       "3 -42.878662 -41.547724 -44.048771 -41.780070 -41.871625 -42.166158   \n",
       "4 -42.331532 -42.554207 -43.117757 -41.705114 -40.674476 -41.049738   \n",
       "5 -43.612145 -42.322117 -45.404985 -42.286772 -40.772225 -42.539797   \n",
       "\n",
       "       b3_20      b3_21  \n",
       "1 -40.618196 -32.709710  \n",
       "2 -38.908414 -33.114429  \n",
       "3 -38.645145 -32.728246  \n",
       "4 -39.363263 -33.800622  \n",
       "5 -38.613747 -32.633978  \n",
       "\n",
       "[5 rows x 155 columns]"
      ]
     },
     "execution_count": 51,
     "metadata": {},
     "output_type": "execute_result"
    }
   ],
   "source": [
    "chamberdata.head()"
   ]
  },
  {
   "cell_type": "code",
   "execution_count": 52,
   "metadata": {
    "collapsed": false
   },
   "outputs": [
    {
     "name": "stdout",
     "output_type": "stream",
     "text": [
      "<class 'pandas.core.frame.DataFrame'>\n",
      "Int64Index: 1412 entries, 1 to 1412\n",
      "Columns: 155 entries, Time to b3_21\n",
      "dtypes: float64(155)\n",
      "memory usage: 1.7 MB\n"
     ]
    }
   ],
   "source": [
    "chamberdata.info()"
   ]
  },
  {
   "cell_type": "code",
   "execution_count": 53,
   "metadata": {
    "collapsed": false
   },
   "outputs": [],
   "source": [
    "chamberdata.to_hdf('chamberdata.h5', 'df')"
   ]
  },
  {
   "cell_type": "code",
   "execution_count": 122,
   "metadata": {
    "collapsed": true
   },
   "outputs": [],
   "source": [
    "def parse_allvfvaltime(fname, offset, sheet):\n",
    "    allvfvaltime = pd.read_excel(fname , sheet)\n",
    "    allvfvaltime = replace_cols_with_tdets(allvfvaltime, offset)\n",
    "    allvfvaltime.drop(0, inplace=True)\n",
    "    allvfvaltime = allvfvaltime.convert_objects()\n",
    "    return allvfvaltime"
   ]
  },
  {
   "cell_type": "code",
   "execution_count": 64,
   "metadata": {
    "collapsed": false
   },
   "outputs": [],
   "source": [
    "allvfvaltime = parse_allvfvaltime('Diviner Radiometric Cal Ramp 2.xlsx', 1, 0)"
   ]
  },
  {
   "cell_type": "code",
   "execution_count": 65,
   "metadata": {
    "collapsed": false
   },
   "outputs": [
    {
     "name": "stdout",
     "output_type": "stream",
     "text": [
      "<class 'pandas.core.frame.DataFrame'>\n",
      "Int64Index: 452 entries, 1 to 452\n",
      "Columns: 148 entries, Time to b3_21\n",
      "dtypes: float64(148)\n",
      "memory usage: 526.2 KB\n"
     ]
    }
   ],
   "source": [
    "allvfvaltime.info()"
   ]
  },
  {
   "cell_type": "code",
   "execution_count": 66,
   "metadata": {
    "collapsed": false
   },
   "outputs": [],
   "source": [
    "allvfvaltime.to_hdf('allvfvaltime_2.h5', 'df')"
   ]
  },
  {
   "cell_type": "markdown",
   "metadata": {},
   "source": [
    "First sheet of Ramp 3 Excelfile has different columns although the sheet has the same name?"
   ]
  },
  {
   "cell_type": "code",
   "execution_count": 97,
   "metadata": {
    "collapsed": false
   },
   "outputs": [],
   "source": [
    "allvfvaltime = parse_allvfvaltime('Diviner Radiometric Cal Ramp 3.xlsx', 9, 0)"
   ]
  },
  {
   "cell_type": "code",
   "execution_count": 98,
   "metadata": {
    "collapsed": false
   },
   "outputs": [],
   "source": [
    "allvfvaltime = allvfvaltime.dropna(how='all')"
   ]
  },
  {
   "cell_type": "code",
   "execution_count": 99,
   "metadata": {
    "collapsed": false
   },
   "outputs": [],
   "source": [
    "allvfvaltime.drop('Time.1',axis=1, inplace=True)"
   ]
  },
  {
   "cell_type": "code",
   "execution_count": 100,
   "metadata": {
    "collapsed": false
   },
   "outputs": [
    {
     "data": {
      "text/html": [
       "<div style=\"max-height:1000px;max-width:1500px;overflow:auto;\">\n",
       "<table border=\"1\" class=\"dataframe\">\n",
       "  <thead>\n",
       "    <tr style=\"text-align: right;\">\n",
       "      <th></th>\n",
       "      <th>Time</th>\n",
       "      <th>Fixed BB T</th>\n",
       "      <th>Var BB T</th>\n",
       "      <th>BB1 T</th>\n",
       "      <th>BB2 T</th>\n",
       "      <th>FPA T</th>\n",
       "      <th>FPB T</th>\n",
       "      <th>OBA T</th>\n",
       "      <th>a3_01</th>\n",
       "      <th>a3_02</th>\n",
       "      <th>...</th>\n",
       "      <th>b3_12</th>\n",
       "      <th>b3_13</th>\n",
       "      <th>b3_14</th>\n",
       "      <th>b3_15</th>\n",
       "      <th>b3_16</th>\n",
       "      <th>b3_17</th>\n",
       "      <th>b3_18</th>\n",
       "      <th>b3_19</th>\n",
       "      <th>b3_20</th>\n",
       "      <th>b3_21</th>\n",
       "    </tr>\n",
       "  </thead>\n",
       "  <tbody>\n",
       "    <tr>\n",
       "      <th>1</th>\n",
       "      <td> 2.221632e+08</td>\n",
       "      <td> 85.259450</td>\n",
       "      <td> 86.729822</td>\n",
       "      <td> 305.831375</td>\n",
       "      <td> 305.847474</td>\n",
       "      <td> 301.30350</td>\n",
       "      <td> 301.451000</td>\n",
       "      <td> 305.88100</td>\n",
       "      <td> 1.078401</td>\n",
       "      <td> 0.463011</td>\n",
       "      <td>...</td>\n",
       "      <td> 4.114170</td>\n",
       "      <td> 4.664195</td>\n",
       "      <td> 3.371180</td>\n",
       "      <td> 3.845941</td>\n",
       "      <td> 2.862202</td>\n",
       "      <td> 4.047651</td>\n",
       "      <td> 3.920679</td>\n",
       "      <td> 4.488466</td>\n",
       "      <td> 3.716802</td>\n",
       "      <td> 2.891983</td>\n",
       "    </tr>\n",
       "    <tr>\n",
       "      <th>2</th>\n",
       "      <td> 2.221633e+08</td>\n",
       "      <td> 85.299134</td>\n",
       "      <td> 86.763772</td>\n",
       "      <td> 305.567250</td>\n",
       "      <td> 305.569000</td>\n",
       "      <td> 301.30825</td>\n",
       "      <td> 301.464750</td>\n",
       "      <td> 305.82575</td>\n",
       "      <td>-0.448079</td>\n",
       "      <td>-1.775074</td>\n",
       "      <td>...</td>\n",
       "      <td> 3.652882</td>\n",
       "      <td> 2.571572</td>\n",
       "      <td> 2.529377</td>\n",
       "      <td> 1.950388</td>\n",
       "      <td> 2.672026</td>\n",
       "      <td> 2.494089</td>\n",
       "      <td> 2.168780</td>\n",
       "      <td> 2.730968</td>\n",
       "      <td> 1.668180</td>\n",
       "      <td> 1.281325</td>\n",
       "    </tr>\n",
       "    <tr>\n",
       "      <th>3</th>\n",
       "      <td> 2.221634e+08</td>\n",
       "      <td> 85.373111</td>\n",
       "      <td> 86.828594</td>\n",
       "      <td> 305.335750</td>\n",
       "      <td> 305.083074</td>\n",
       "      <td> 301.37300</td>\n",
       "      <td> 301.557625</td>\n",
       "      <td> 305.63900</td>\n",
       "      <td>-1.059096</td>\n",
       "      <td>-0.560207</td>\n",
       "      <td>...</td>\n",
       "      <td> 4.323854</td>\n",
       "      <td> 2.788748</td>\n",
       "      <td> 3.106771</td>\n",
       "      <td> 4.279735</td>\n",
       "      <td> 3.790880</td>\n",
       "      <td> 4.262631</td>\n",
       "      <td> 3.320131</td>\n",
       "      <td> 3.153168</td>\n",
       "      <td> 2.734563</td>\n",
       "      <td> 1.693698</td>\n",
       "    </tr>\n",
       "    <tr>\n",
       "      <th>4</th>\n",
       "      <td> 2.221634e+08</td>\n",
       "      <td> 85.363032</td>\n",
       "      <td> 86.840838</td>\n",
       "      <td> 305.095250</td>\n",
       "      <td> 304.959516</td>\n",
       "      <td> 301.37625</td>\n",
       "      <td> 301.576250</td>\n",
       "      <td> 305.55575</td>\n",
       "      <td>-1.183861</td>\n",
       "      <td>-1.390794</td>\n",
       "      <td>...</td>\n",
       "      <td> 4.056603</td>\n",
       "      <td> 4.161101</td>\n",
       "      <td> 2.626503</td>\n",
       "      <td> 3.458542</td>\n",
       "      <td> 3.456380</td>\n",
       "      <td> 4.156179</td>\n",
       "      <td> 3.244593</td>\n",
       "      <td> 3.632614</td>\n",
       "      <td> 3.341302</td>\n",
       "      <td> 2.369413</td>\n",
       "    </tr>\n",
       "    <tr>\n",
       "      <th>5</th>\n",
       "      <td> 2.221635e+08</td>\n",
       "      <td> 85.477143</td>\n",
       "      <td> 86.993652</td>\n",
       "      <td> 304.456875</td>\n",
       "      <td> 304.464438</td>\n",
       "      <td> 301.43450</td>\n",
       "      <td> 301.635000</td>\n",
       "      <td> 305.35800</td>\n",
       "      <td> 0.242405</td>\n",
       "      <td>-1.772825</td>\n",
       "      <td>...</td>\n",
       "      <td> 3.706842</td>\n",
       "      <td> 4.100544</td>\n",
       "      <td> 2.962096</td>\n",
       "      <td> 3.528443</td>\n",
       "      <td> 3.586588</td>\n",
       "      <td> 3.928061</td>\n",
       "      <td> 3.302153</td>\n",
       "      <td> 3.019275</td>\n",
       "      <td> 2.376693</td>\n",
       "      <td> 2.595036</td>\n",
       "    </tr>\n",
       "  </tbody>\n",
       "</table>\n",
       "<p>5 rows × 155 columns</p>\n",
       "</div>"
      ],
      "text/plain": [
       "           Time  Fixed BB T   Var BB T       BB1 T       BB2 T      FPA T  \\\n",
       "1  2.221632e+08   85.259450  86.729822  305.831375  305.847474  301.30350   \n",
       "2  2.221633e+08   85.299134  86.763772  305.567250  305.569000  301.30825   \n",
       "3  2.221634e+08   85.373111  86.828594  305.335750  305.083074  301.37300   \n",
       "4  2.221634e+08   85.363032  86.840838  305.095250  304.959516  301.37625   \n",
       "5  2.221635e+08   85.477143  86.993652  304.456875  304.464438  301.43450   \n",
       "\n",
       "        FPB T      OBA T     a3_01     a3_02    ...        b3_12     b3_13  \\\n",
       "1  301.451000  305.88100  1.078401  0.463011    ...     4.114170  4.664195   \n",
       "2  301.464750  305.82575 -0.448079 -1.775074    ...     3.652882  2.571572   \n",
       "3  301.557625  305.63900 -1.059096 -0.560207    ...     4.323854  2.788748   \n",
       "4  301.576250  305.55575 -1.183861 -1.390794    ...     4.056603  4.161101   \n",
       "5  301.635000  305.35800  0.242405 -1.772825    ...     3.706842  4.100544   \n",
       "\n",
       "      b3_14     b3_15     b3_16     b3_17     b3_18     b3_19     b3_20  \\\n",
       "1  3.371180  3.845941  2.862202  4.047651  3.920679  4.488466  3.716802   \n",
       "2  2.529377  1.950388  2.672026  2.494089  2.168780  2.730968  1.668180   \n",
       "3  3.106771  4.279735  3.790880  4.262631  3.320131  3.153168  2.734563   \n",
       "4  2.626503  3.458542  3.456380  4.156179  3.244593  3.632614  3.341302   \n",
       "5  2.962096  3.528443  3.586588  3.928061  3.302153  3.019275  2.376693   \n",
       "\n",
       "      b3_21  \n",
       "1  2.891983  \n",
       "2  1.281325  \n",
       "3  1.693698  \n",
       "4  2.369413  \n",
       "5  2.595036  \n",
       "\n",
       "[5 rows x 155 columns]"
      ]
     },
     "execution_count": 100,
     "metadata": {},
     "output_type": "execute_result"
    }
   ],
   "source": [
    "allvfvaltime.head()"
   ]
  },
  {
   "cell_type": "code",
   "execution_count": 102,
   "metadata": {
    "collapsed": false
   },
   "outputs": [
    {
     "name": "stdout",
     "output_type": "stream",
     "text": [
      "<class 'pandas.core.frame.DataFrame'>\n",
      "Int64Index: 436 entries, 1 to 475\n",
      "Columns: 155 entries, Time to b3_21\n",
      "dtypes: float64(155)\n",
      "memory usage: 531.4 KB\n"
     ]
    }
   ],
   "source": [
    "allvfvaltime.info()"
   ]
  },
  {
   "cell_type": "code",
   "execution_count": 103,
   "metadata": {
    "collapsed": true
   },
   "outputs": [],
   "source": [
    "allvfvaltime.to_hdf('allvfvaltime_3.h5', 'df')"
   ]
  },
  {
   "cell_type": "code",
   "execution_count": 134,
   "metadata": {
    "collapsed": true
   },
   "outputs": [],
   "source": [
    "def parse_vf_temps(fname, sheet):\n",
    "    df = pd.read_excel(fname, sheet)\n",
    "    df.drop(0, inplace=True)\n",
    "    return df.convert_objects()"
   ]
  },
  {
   "cell_type": "code",
   "execution_count": 135,
   "metadata": {
    "collapsed": true
   },
   "outputs": [],
   "source": [
    "vftemps = parse_vf_temps('Diviner Radiometric Cal Ramp 2.xlsx', 1)"
   ]
  },
  {
   "cell_type": "code",
   "execution_count": 110,
   "metadata": {
    "collapsed": false
   },
   "outputs": [
    {
     "data": {
      "text/html": [
       "<div style=\"max-height:1000px;max-width:1500px;overflow:auto;\">\n",
       "<table border=\"1\" class=\"dataframe\">\n",
       "  <thead>\n",
       "    <tr style=\"text-align: right;\">\n",
       "      <th></th>\n",
       "      <th>Time</th>\n",
       "      <th>Fixed BB T</th>\n",
       "      <th>Var BB T</th>\n",
       "      <th>BB1 T</th>\n",
       "      <th>BB2 T</th>\n",
       "      <th>FPA T</th>\n",
       "      <th>FPB T</th>\n",
       "      <th>OBA T</th>\n",
       "    </tr>\n",
       "  </thead>\n",
       "  <tbody>\n",
       "    <tr>\n",
       "      <th>1</th>\n",
       "      <td> 2.220052e+08</td>\n",
       "      <td> 86.499720</td>\n",
       "      <td> 88.443333</td>\n",
       "      <td> 335.296875</td>\n",
       "      <td> 335.458225</td>\n",
       "      <td> 331.496500</td>\n",
       "      <td> 332.204125</td>\n",
       "      <td> 335.719000</td>\n",
       "    </tr>\n",
       "    <tr>\n",
       "      <th>2</th>\n",
       "      <td> 2.220053e+08</td>\n",
       "      <td> 86.510940</td>\n",
       "      <td> 88.403380</td>\n",
       "      <td> 335.335463</td>\n",
       "      <td> 335.419854</td>\n",
       "      <td> 331.511247</td>\n",
       "      <td> 332.195749</td>\n",
       "      <td> 335.725755</td>\n",
       "    </tr>\n",
       "    <tr>\n",
       "      <th>3</th>\n",
       "      <td> 2.220054e+08</td>\n",
       "      <td> 86.507713</td>\n",
       "      <td> 88.277288</td>\n",
       "      <td> 335.337250</td>\n",
       "      <td> 335.502596</td>\n",
       "      <td> 331.538000</td>\n",
       "      <td> 332.235000</td>\n",
       "      <td> 335.773000</td>\n",
       "    </tr>\n",
       "    <tr>\n",
       "      <th>4</th>\n",
       "      <td> 2.220054e+08</td>\n",
       "      <td> 86.383744</td>\n",
       "      <td> 88.207687</td>\n",
       "      <td> 335.317000</td>\n",
       "      <td> 335.412282</td>\n",
       "      <td> 331.540750</td>\n",
       "      <td> 332.226250</td>\n",
       "      <td> 335.783250</td>\n",
       "    </tr>\n",
       "    <tr>\n",
       "      <th>5</th>\n",
       "      <td> 2.220055e+08</td>\n",
       "      <td> 86.134364</td>\n",
       "      <td> 87.935074</td>\n",
       "      <td> 335.298250</td>\n",
       "      <td> 335.467158</td>\n",
       "      <td> 331.581500</td>\n",
       "      <td> 332.247125</td>\n",
       "      <td> 335.809000</td>\n",
       "    </tr>\n",
       "  </tbody>\n",
       "</table>\n",
       "</div>"
      ],
      "text/plain": [
       "           Time  Fixed BB T   Var BB T       BB1 T       BB2 T       FPA T  \\\n",
       "1  2.220052e+08   86.499720  88.443333  335.296875  335.458225  331.496500   \n",
       "2  2.220053e+08   86.510940  88.403380  335.335463  335.419854  331.511247   \n",
       "3  2.220054e+08   86.507713  88.277288  335.337250  335.502596  331.538000   \n",
       "4  2.220054e+08   86.383744  88.207687  335.317000  335.412282  331.540750   \n",
       "5  2.220055e+08   86.134364  87.935074  335.298250  335.467158  331.581500   \n",
       "\n",
       "        FPB T       OBA T  \n",
       "1  332.204125  335.719000  \n",
       "2  332.195749  335.725755  \n",
       "3  332.235000  335.773000  \n",
       "4  332.226250  335.783250  \n",
       "5  332.247125  335.809000  "
      ]
     },
     "execution_count": 110,
     "metadata": {},
     "output_type": "execute_result"
    }
   ],
   "source": [
    "vftemps.head()"
   ]
  },
  {
   "cell_type": "code",
   "execution_count": 111,
   "metadata": {
    "collapsed": false
   },
   "outputs": [
    {
     "data": {
      "text/plain": [
       "Time          float64\n",
       "Fixed BB T    float64\n",
       "Var BB T      float64\n",
       "BB1 T         float64\n",
       "BB2 T         float64\n",
       "FPA T         float64\n",
       "FPB T         float64\n",
       "OBA T         float64\n",
       "dtype: object"
      ]
     },
     "execution_count": 111,
     "metadata": {},
     "output_type": "execute_result"
    }
   ],
   "source": [
    "vftemps.dtypes"
   ]
  },
  {
   "cell_type": "code",
   "execution_count": 113,
   "metadata": {
    "collapsed": false
   },
   "outputs": [
    {
     "data": {
      "text/plain": [
       "Time          float64\n",
       "Fixed BB T    float64\n",
       "Var BB T      float64\n",
       "BB1 T         float64\n",
       "BB2 T         float64\n",
       "FPA T         float64\n",
       "FPB T         float64\n",
       "OBA T         float64\n",
       "dtype: object"
      ]
     },
     "execution_count": 113,
     "metadata": {},
     "output_type": "execute_result"
    }
   ],
   "source": [
    "vftemps.dtypes"
   ]
  },
  {
   "cell_type": "code",
   "execution_count": 114,
   "metadata": {
    "collapsed": false
   },
   "outputs": [],
   "source": [
    "vftemps.to_hdf('vftemps_2.h5', 'df')"
   ]
  },
  {
   "cell_type": "code",
   "execution_count": 136,
   "metadata": {
    "collapsed": true
   },
   "outputs": [],
   "source": [
    "vftemps = parse_vf_temps('Diviner Radiometric Cal Ramp 3.xlsx', 1)"
   ]
  },
  {
   "cell_type": "code",
   "execution_count": 120,
   "metadata": {
    "collapsed": false
   },
   "outputs": [
    {
     "data": {
      "text/html": [
       "<div style=\"max-height:1000px;max-width:1500px;overflow:auto;\">\n",
       "<table border=\"1\" class=\"dataframe\">\n",
       "  <thead>\n",
       "    <tr style=\"text-align: right;\">\n",
       "      <th></th>\n",
       "      <th>Time</th>\n",
       "      <th>Fixed BB T</th>\n",
       "      <th>Var BB T</th>\n",
       "      <th>BB1 T</th>\n",
       "      <th>BB2 T</th>\n",
       "      <th>FPA T</th>\n",
       "      <th>FPB T</th>\n",
       "      <th>OBA T</th>\n",
       "    </tr>\n",
       "  </thead>\n",
       "  <tbody>\n",
       "    <tr>\n",
       "      <th>1</th>\n",
       "      <td> 2.221632e+08</td>\n",
       "      <td> 85.259450</td>\n",
       "      <td> 86.729822</td>\n",
       "      <td> 305.831375</td>\n",
       "      <td> 305.847474</td>\n",
       "      <td> 301.30350</td>\n",
       "      <td> 301.451000</td>\n",
       "      <td> 305.88100</td>\n",
       "    </tr>\n",
       "    <tr>\n",
       "      <th>2</th>\n",
       "      <td> 2.221633e+08</td>\n",
       "      <td> 85.299134</td>\n",
       "      <td> 86.763772</td>\n",
       "      <td> 305.567250</td>\n",
       "      <td> 305.569000</td>\n",
       "      <td> 301.30825</td>\n",
       "      <td> 301.464750</td>\n",
       "      <td> 305.82575</td>\n",
       "    </tr>\n",
       "    <tr>\n",
       "      <th>3</th>\n",
       "      <td> 2.221634e+08</td>\n",
       "      <td> 85.373111</td>\n",
       "      <td> 86.828594</td>\n",
       "      <td> 305.335750</td>\n",
       "      <td> 305.083074</td>\n",
       "      <td> 301.37300</td>\n",
       "      <td> 301.557625</td>\n",
       "      <td> 305.63900</td>\n",
       "    </tr>\n",
       "    <tr>\n",
       "      <th>4</th>\n",
       "      <td> 2.221634e+08</td>\n",
       "      <td> 85.363032</td>\n",
       "      <td> 86.840838</td>\n",
       "      <td> 305.095250</td>\n",
       "      <td> 304.959516</td>\n",
       "      <td> 301.37625</td>\n",
       "      <td> 301.576250</td>\n",
       "      <td> 305.55575</td>\n",
       "    </tr>\n",
       "    <tr>\n",
       "      <th>5</th>\n",
       "      <td> 2.221635e+08</td>\n",
       "      <td> 85.477143</td>\n",
       "      <td> 86.993652</td>\n",
       "      <td> 304.456875</td>\n",
       "      <td> 304.464438</td>\n",
       "      <td> 301.43450</td>\n",
       "      <td> 301.635000</td>\n",
       "      <td> 305.35800</td>\n",
       "    </tr>\n",
       "  </tbody>\n",
       "</table>\n",
       "</div>"
      ],
      "text/plain": [
       "           Time  Fixed BB T   Var BB T       BB1 T       BB2 T      FPA T  \\\n",
       "1  2.221632e+08   85.259450  86.729822  305.831375  305.847474  301.30350   \n",
       "2  2.221633e+08   85.299134  86.763772  305.567250  305.569000  301.30825   \n",
       "3  2.221634e+08   85.373111  86.828594  305.335750  305.083074  301.37300   \n",
       "4  2.221634e+08   85.363032  86.840838  305.095250  304.959516  301.37625   \n",
       "5  2.221635e+08   85.477143  86.993652  304.456875  304.464438  301.43450   \n",
       "\n",
       "        FPB T      OBA T  \n",
       "1  301.451000  305.88100  \n",
       "2  301.464750  305.82575  \n",
       "3  301.557625  305.63900  \n",
       "4  301.576250  305.55575  \n",
       "5  301.635000  305.35800  "
      ]
     },
     "execution_count": 120,
     "metadata": {},
     "output_type": "execute_result"
    }
   ],
   "source": [
    "vftemps.head()"
   ]
  },
  {
   "cell_type": "code",
   "execution_count": 121,
   "metadata": {
    "collapsed": true
   },
   "outputs": [],
   "source": [
    "vftemps.to_hdf('vftemps_3.h5','df')"
   ]
  },
  {
   "cell_type": "code",
   "execution_count": 123,
   "metadata": {
    "collapsed": true
   },
   "outputs": [],
   "source": [
    "allifvaltime = parse_allvfvaltime('Diviner Radiometric Cal Ramp 2.xlsx', 1, 2)"
   ]
  },
  {
   "cell_type": "code",
   "execution_count": 124,
   "metadata": {
    "collapsed": false
   },
   "outputs": [
    {
     "data": {
      "text/html": [
       "<div style=\"max-height:1000px;max-width:1500px;overflow:auto;\">\n",
       "<table border=\"1\" class=\"dataframe\">\n",
       "  <thead>\n",
       "    <tr style=\"text-align: right;\">\n",
       "      <th></th>\n",
       "      <th>Time</th>\n",
       "      <th>a3_01</th>\n",
       "      <th>a3_02</th>\n",
       "      <th>a3_03</th>\n",
       "      <th>a3_04</th>\n",
       "      <th>a3_05</th>\n",
       "      <th>a3_06</th>\n",
       "      <th>a3_07</th>\n",
       "      <th>a3_08</th>\n",
       "      <th>a3_09</th>\n",
       "      <th>...</th>\n",
       "      <th>b3_12</th>\n",
       "      <th>b3_13</th>\n",
       "      <th>b3_14</th>\n",
       "      <th>b3_15</th>\n",
       "      <th>b3_16</th>\n",
       "      <th>b3_17</th>\n",
       "      <th>b3_18</th>\n",
       "      <th>b3_19</th>\n",
       "      <th>b3_20</th>\n",
       "      <th>b3_21</th>\n",
       "    </tr>\n",
       "  </thead>\n",
       "  <tbody>\n",
       "    <tr>\n",
       "      <th>1</th>\n",
       "      <td> 2.220052e+08</td>\n",
       "      <td> 1801.658922</td>\n",
       "      <td> 1926.175738</td>\n",
       "      <td> 1946.189019</td>\n",
       "      <td> 1907.407391</td>\n",
       "      <td> 1891.730560</td>\n",
       "      <td> 1945.394619</td>\n",
       "      <td> 1918.532591</td>\n",
       "      <td> 1940.243807</td>\n",
       "      <td> 1934.488811</td>\n",
       "      <td>...</td>\n",
       "      <td> 206.996596</td>\n",
       "      <td> 211.442291</td>\n",
       "      <td> 194.722516</td>\n",
       "      <td> 192.340193</td>\n",
       "      <td> 199.873500</td>\n",
       "      <td> 192.294754</td>\n",
       "      <td> 185.688359</td>\n",
       "      <td> 190.811415</td>\n",
       "      <td> 176.416066</td>\n",
       "      <td> 147.654958</td>\n",
       "    </tr>\n",
       "    <tr>\n",
       "      <th>2</th>\n",
       "      <td> 2.220052e+08</td>\n",
       "      <td> 1803.445352</td>\n",
       "      <td> 1927.660201</td>\n",
       "      <td> 1947.099829</td>\n",
       "      <td> 1908.208905</td>\n",
       "      <td> 1893.314941</td>\n",
       "      <td> 1945.819913</td>\n",
       "      <td> 1919.509458</td>\n",
       "      <td> 1943.730665</td>\n",
       "      <td> 1935.975544</td>\n",
       "      <td>...</td>\n",
       "      <td> 205.514334</td>\n",
       "      <td> 211.392126</td>\n",
       "      <td> 195.342339</td>\n",
       "      <td> 193.554220</td>\n",
       "      <td> 200.424710</td>\n",
       "      <td> 193.078981</td>\n",
       "      <td> 185.461450</td>\n",
       "      <td> 190.938375</td>\n",
       "      <td> 175.220688</td>\n",
       "      <td> 148.014579</td>\n",
       "    </tr>\n",
       "    <tr>\n",
       "      <th>3</th>\n",
       "      <td> 2.220053e+08</td>\n",
       "      <td> 1800.847251</td>\n",
       "      <td> 1925.672136</td>\n",
       "      <td> 1945.971506</td>\n",
       "      <td> 1906.694700</td>\n",
       "      <td> 1891.230806</td>\n",
       "      <td> 1944.660823</td>\n",
       "      <td> 1918.039153</td>\n",
       "      <td> 1941.631082</td>\n",
       "      <td> 1935.183040</td>\n",
       "      <td>...</td>\n",
       "      <td> 204.922222</td>\n",
       "      <td> 210.748350</td>\n",
       "      <td> 194.714033</td>\n",
       "      <td> 192.296186</td>\n",
       "      <td> 199.149858</td>\n",
       "      <td> 192.631309</td>\n",
       "      <td> 185.812219</td>\n",
       "      <td> 189.263771</td>\n",
       "      <td> 175.029634</td>\n",
       "      <td> 147.920945</td>\n",
       "    </tr>\n",
       "    <tr>\n",
       "      <th>4</th>\n",
       "      <td> 2.220054e+08</td>\n",
       "      <td> 1803.448282</td>\n",
       "      <td> 1927.474352</td>\n",
       "      <td> 1947.669861</td>\n",
       "      <td> 1908.904717</td>\n",
       "      <td> 1894.071238</td>\n",
       "      <td> 1946.100530</td>\n",
       "      <td> 1919.148813</td>\n",
       "      <td> 1942.217405</td>\n",
       "      <td> 1936.420881</td>\n",
       "      <td>...</td>\n",
       "      <td> 205.617150</td>\n",
       "      <td> 211.118345</td>\n",
       "      <td> 194.170141</td>\n",
       "      <td> 193.031603</td>\n",
       "      <td> 200.877454</td>\n",
       "      <td> 191.737827</td>\n",
       "      <td> 185.058685</td>\n",
       "      <td> 191.175668</td>\n",
       "      <td> 176.036881</td>\n",
       "      <td> 147.164222</td>\n",
       "    </tr>\n",
       "    <tr>\n",
       "      <th>5</th>\n",
       "      <td> 2.220055e+08</td>\n",
       "      <td> 1799.158981</td>\n",
       "      <td> 1922.707094</td>\n",
       "      <td> 1943.388713</td>\n",
       "      <td> 1904.421353</td>\n",
       "      <td> 1889.450028</td>\n",
       "      <td> 1941.286287</td>\n",
       "      <td> 1914.413741</td>\n",
       "      <td> 1937.243195</td>\n",
       "      <td> 1930.752869</td>\n",
       "      <td>...</td>\n",
       "      <td> 205.538672</td>\n",
       "      <td> 211.359842</td>\n",
       "      <td> 194.540144</td>\n",
       "      <td> 193.245865</td>\n",
       "      <td> 200.111419</td>\n",
       "      <td> 193.633800</td>\n",
       "      <td> 185.631645</td>\n",
       "      <td> 190.774879</td>\n",
       "      <td> 174.717031</td>\n",
       "      <td> 149.018193</td>\n",
       "    </tr>\n",
       "  </tbody>\n",
       "</table>\n",
       "<p>5 rows × 148 columns</p>\n",
       "</div>"
      ],
      "text/plain": [
       "           Time        a3_01        a3_02        a3_03        a3_04  \\\n",
       "1  2.220052e+08  1801.658922  1926.175738  1946.189019  1907.407391   \n",
       "2  2.220052e+08  1803.445352  1927.660201  1947.099829  1908.208905   \n",
       "3  2.220053e+08  1800.847251  1925.672136  1945.971506  1906.694700   \n",
       "4  2.220054e+08  1803.448282  1927.474352  1947.669861  1908.904717   \n",
       "5  2.220055e+08  1799.158981  1922.707094  1943.388713  1904.421353   \n",
       "\n",
       "         a3_05        a3_06        a3_07        a3_08        a3_09  \\\n",
       "1  1891.730560  1945.394619  1918.532591  1940.243807  1934.488811   \n",
       "2  1893.314941  1945.819913  1919.509458  1943.730665  1935.975544   \n",
       "3  1891.230806  1944.660823  1918.039153  1941.631082  1935.183040   \n",
       "4  1894.071238  1946.100530  1919.148813  1942.217405  1936.420881   \n",
       "5  1889.450028  1941.286287  1914.413741  1937.243195  1930.752869   \n",
       "\n",
       "      ...           b3_12       b3_13       b3_14       b3_15       b3_16  \\\n",
       "1     ...      206.996596  211.442291  194.722516  192.340193  199.873500   \n",
       "2     ...      205.514334  211.392126  195.342339  193.554220  200.424710   \n",
       "3     ...      204.922222  210.748350  194.714033  192.296186  199.149858   \n",
       "4     ...      205.617150  211.118345  194.170141  193.031603  200.877454   \n",
       "5     ...      205.538672  211.359842  194.540144  193.245865  200.111419   \n",
       "\n",
       "        b3_17       b3_18       b3_19       b3_20       b3_21  \n",
       "1  192.294754  185.688359  190.811415  176.416066  147.654958  \n",
       "2  193.078981  185.461450  190.938375  175.220688  148.014579  \n",
       "3  192.631309  185.812219  189.263771  175.029634  147.920945  \n",
       "4  191.737827  185.058685  191.175668  176.036881  147.164222  \n",
       "5  193.633800  185.631645  190.774879  174.717031  149.018193  \n",
       "\n",
       "[5 rows x 148 columns]"
      ]
     },
     "execution_count": 124,
     "metadata": {},
     "output_type": "execute_result"
    }
   ],
   "source": [
    "allifvaltime.head()"
   ]
  },
  {
   "cell_type": "code",
   "execution_count": 126,
   "metadata": {
    "collapsed": false
   },
   "outputs": [],
   "source": [
    "allifvaltime.to_hdf('allifvaltime_2.h5', 'df')"
   ]
  },
  {
   "cell_type": "code",
   "execution_count": 127,
   "metadata": {
    "collapsed": true
   },
   "outputs": [],
   "source": [
    "allifvaltime = parse_allvfvaltime('Diviner Radiometric Cal Ramp 3.xlsx', 9, 2)"
   ]
  },
  {
   "cell_type": "code",
   "execution_count": 128,
   "metadata": {
    "collapsed": false
   },
   "outputs": [
    {
     "data": {
      "text/html": [
       "<div style=\"max-height:1000px;max-width:1500px;overflow:auto;\">\n",
       "<table border=\"1\" class=\"dataframe\">\n",
       "  <thead>\n",
       "    <tr style=\"text-align: right;\">\n",
       "      <th></th>\n",
       "      <th>Time</th>\n",
       "      <th>Time.1</th>\n",
       "      <th>Fixed BB T</th>\n",
       "      <th>Var BB T</th>\n",
       "      <th>BB1 T</th>\n",
       "      <th>BB2 T</th>\n",
       "      <th>FPA T</th>\n",
       "      <th>FPB T</th>\n",
       "      <th>OBA T</th>\n",
       "      <th>a3_01</th>\n",
       "      <th>...</th>\n",
       "      <th>b3_12</th>\n",
       "      <th>b3_13</th>\n",
       "      <th>b3_14</th>\n",
       "      <th>b3_15</th>\n",
       "      <th>b3_16</th>\n",
       "      <th>b3_17</th>\n",
       "      <th>b3_18</th>\n",
       "      <th>b3_19</th>\n",
       "      <th>b3_20</th>\n",
       "      <th>b3_21</th>\n",
       "    </tr>\n",
       "  </thead>\n",
       "  <tbody>\n",
       "    <tr>\n",
       "      <th>1</th>\n",
       "      <td> 2.221632e+08</td>\n",
       "      <td> 2.221632e+08</td>\n",
       "      <td> 85.187983</td>\n",
       "      <td> 86.680106</td>\n",
       "      <td> 306.114250</td>\n",
       "      <td> 306.195461</td>\n",
       "      <td> 301.242000</td>\n",
       "      <td> 301.384625</td>\n",
       "      <td> 306.026750</td>\n",
       "      <td> 1202.397838</td>\n",
       "      <td>...</td>\n",
       "      <td> 211.657478</td>\n",
       "      <td> 217.180362</td>\n",
       "      <td> 201.736705</td>\n",
       "      <td> 197.968707</td>\n",
       "      <td> 205.588830</td>\n",
       "      <td> 197.928897</td>\n",
       "      <td> 189.366090</td>\n",
       "      <td> 197.507261</td>\n",
       "      <td> 182.773575</td>\n",
       "      <td> 154.856909</td>\n",
       "    </tr>\n",
       "    <tr>\n",
       "      <th>2</th>\n",
       "      <td> 2.221632e+08</td>\n",
       "      <td> 2.221632e+08</td>\n",
       "      <td> 85.260403</td>\n",
       "      <td> 86.769483</td>\n",
       "      <td> 306.143126</td>\n",
       "      <td> 306.059859</td>\n",
       "      <td> 301.311002</td>\n",
       "      <td> 301.450584</td>\n",
       "      <td> 305.972703</td>\n",
       "      <td> 1197.927574</td>\n",
       "      <td>...</td>\n",
       "      <td> 212.241394</td>\n",
       "      <td> 217.914152</td>\n",
       "      <td> 201.194041</td>\n",
       "      <td> 197.882393</td>\n",
       "      <td> 206.969938</td>\n",
       "      <td> 198.419821</td>\n",
       "      <td> 190.470146</td>\n",
       "      <td> 196.673662</td>\n",
       "      <td> 183.214266</td>\n",
       "      <td> 154.488582</td>\n",
       "    </tr>\n",
       "    <tr>\n",
       "      <th>3</th>\n",
       "      <td> 2.221633e+08</td>\n",
       "      <td> 2.221633e+08</td>\n",
       "      <td> 85.312238</td>\n",
       "      <td> 86.811023</td>\n",
       "      <td> 305.387500</td>\n",
       "      <td> 305.277000</td>\n",
       "      <td> 301.313500</td>\n",
       "      <td> 301.489750</td>\n",
       "      <td> 305.760250</td>\n",
       "      <td> 1183.243309</td>\n",
       "      <td>...</td>\n",
       "      <td> 209.929992</td>\n",
       "      <td> 216.723086</td>\n",
       "      <td> 200.520917</td>\n",
       "      <td> 197.666546</td>\n",
       "      <td> 205.029552</td>\n",
       "      <td> 196.720104</td>\n",
       "      <td> 188.914433</td>\n",
       "      <td> 196.229102</td>\n",
       "      <td> 182.596579</td>\n",
       "      <td> 153.824837</td>\n",
       "    </tr>\n",
       "    <tr>\n",
       "      <th>4</th>\n",
       "      <td> 2.221633e+08</td>\n",
       "      <td> 2.221633e+08</td>\n",
       "      <td> 85.303520</td>\n",
       "      <td> 86.754303</td>\n",
       "      <td> 305.291500</td>\n",
       "      <td> 305.184573</td>\n",
       "      <td> 301.350000</td>\n",
       "      <td> 301.526875</td>\n",
       "      <td> 305.703000</td>\n",
       "      <td> 1180.388789</td>\n",
       "      <td>...</td>\n",
       "      <td> 210.786401</td>\n",
       "      <td> 217.121758</td>\n",
       "      <td> 200.762159</td>\n",
       "      <td> 196.824010</td>\n",
       "      <td> 205.075780</td>\n",
       "      <td> 197.729380</td>\n",
       "      <td> 190.404317</td>\n",
       "      <td> 197.617459</td>\n",
       "      <td> 182.288457</td>\n",
       "      <td> 153.763446</td>\n",
       "    </tr>\n",
       "    <tr>\n",
       "      <th>5</th>\n",
       "      <td> 2.221635e+08</td>\n",
       "      <td> 2.221635e+08</td>\n",
       "      <td> 85.423329</td>\n",
       "      <td> 86.908261</td>\n",
       "      <td> 304.677000</td>\n",
       "      <td> 304.694225</td>\n",
       "      <td> 301.371750</td>\n",
       "      <td> 301.574000</td>\n",
       "      <td> 305.495000</td>\n",
       "      <td> 1166.333080</td>\n",
       "      <td>...</td>\n",
       "      <td> 209.875954</td>\n",
       "      <td> 216.610820</td>\n",
       "      <td> 199.250165</td>\n",
       "      <td> 196.309720</td>\n",
       "      <td> 203.547144</td>\n",
       "      <td> 196.354313</td>\n",
       "      <td> 188.962375</td>\n",
       "      <td> 194.016537</td>\n",
       "      <td> 180.799752</td>\n",
       "      <td> 153.587237</td>\n",
       "    </tr>\n",
       "  </tbody>\n",
       "</table>\n",
       "<p>5 rows × 156 columns</p>\n",
       "</div>"
      ],
      "text/plain": [
       "           Time        Time.1  Fixed BB T   Var BB T       BB1 T       BB2 T  \\\n",
       "1  2.221632e+08  2.221632e+08   85.187983  86.680106  306.114250  306.195461   \n",
       "2  2.221632e+08  2.221632e+08   85.260403  86.769483  306.143126  306.059859   \n",
       "3  2.221633e+08  2.221633e+08   85.312238  86.811023  305.387500  305.277000   \n",
       "4  2.221633e+08  2.221633e+08   85.303520  86.754303  305.291500  305.184573   \n",
       "5  2.221635e+08  2.221635e+08   85.423329  86.908261  304.677000  304.694225   \n",
       "\n",
       "        FPA T       FPB T       OBA T        a3_01     ...           b3_12  \\\n",
       "1  301.242000  301.384625  306.026750  1202.397838     ...      211.657478   \n",
       "2  301.311002  301.450584  305.972703  1197.927574     ...      212.241394   \n",
       "3  301.313500  301.489750  305.760250  1183.243309     ...      209.929992   \n",
       "4  301.350000  301.526875  305.703000  1180.388789     ...      210.786401   \n",
       "5  301.371750  301.574000  305.495000  1166.333080     ...      209.875954   \n",
       "\n",
       "        b3_13       b3_14       b3_15       b3_16       b3_17       b3_18  \\\n",
       "1  217.180362  201.736705  197.968707  205.588830  197.928897  189.366090   \n",
       "2  217.914152  201.194041  197.882393  206.969938  198.419821  190.470146   \n",
       "3  216.723086  200.520917  197.666546  205.029552  196.720104  188.914433   \n",
       "4  217.121758  200.762159  196.824010  205.075780  197.729380  190.404317   \n",
       "5  216.610820  199.250165  196.309720  203.547144  196.354313  188.962375   \n",
       "\n",
       "        b3_19       b3_20       b3_21  \n",
       "1  197.507261  182.773575  154.856909  \n",
       "2  196.673662  183.214266  154.488582  \n",
       "3  196.229102  182.596579  153.824837  \n",
       "4  197.617459  182.288457  153.763446  \n",
       "5  194.016537  180.799752  153.587237  \n",
       "\n",
       "[5 rows x 156 columns]"
      ]
     },
     "execution_count": 128,
     "metadata": {},
     "output_type": "execute_result"
    }
   ],
   "source": [
    "allifvaltime.head()"
   ]
  },
  {
   "cell_type": "code",
   "execution_count": 131,
   "metadata": {
    "collapsed": false
   },
   "outputs": [],
   "source": [
    "allifvaltime.drop('Time.1', axis=1, inplace=True)"
   ]
  },
  {
   "cell_type": "code",
   "execution_count": 132,
   "metadata": {
    "collapsed": false
   },
   "outputs": [
    {
     "data": {
      "text/html": [
       "<div style=\"max-height:1000px;max-width:1500px;overflow:auto;\">\n",
       "<table border=\"1\" class=\"dataframe\">\n",
       "  <thead>\n",
       "    <tr style=\"text-align: right;\">\n",
       "      <th></th>\n",
       "      <th>Time</th>\n",
       "      <th>Fixed BB T</th>\n",
       "      <th>Var BB T</th>\n",
       "      <th>BB1 T</th>\n",
       "      <th>BB2 T</th>\n",
       "      <th>FPA T</th>\n",
       "      <th>FPB T</th>\n",
       "      <th>OBA T</th>\n",
       "      <th>a3_01</th>\n",
       "      <th>a3_02</th>\n",
       "      <th>...</th>\n",
       "      <th>b3_12</th>\n",
       "      <th>b3_13</th>\n",
       "      <th>b3_14</th>\n",
       "      <th>b3_15</th>\n",
       "      <th>b3_16</th>\n",
       "      <th>b3_17</th>\n",
       "      <th>b3_18</th>\n",
       "      <th>b3_19</th>\n",
       "      <th>b3_20</th>\n",
       "      <th>b3_21</th>\n",
       "    </tr>\n",
       "  </thead>\n",
       "  <tbody>\n",
       "    <tr>\n",
       "      <th>1</th>\n",
       "      <td> 2.221632e+08</td>\n",
       "      <td> 85.187983</td>\n",
       "      <td> 86.680106</td>\n",
       "      <td> 306.114250</td>\n",
       "      <td> 306.195461</td>\n",
       "      <td> 301.242000</td>\n",
       "      <td> 301.384625</td>\n",
       "      <td> 306.026750</td>\n",
       "      <td> 1202.397838</td>\n",
       "      <td> 1286.333284</td>\n",
       "      <td>...</td>\n",
       "      <td> 211.657478</td>\n",
       "      <td> 217.180362</td>\n",
       "      <td> 201.736705</td>\n",
       "      <td> 197.968707</td>\n",
       "      <td> 205.588830</td>\n",
       "      <td> 197.928897</td>\n",
       "      <td> 189.366090</td>\n",
       "      <td> 197.507261</td>\n",
       "      <td> 182.773575</td>\n",
       "      <td> 154.856909</td>\n",
       "    </tr>\n",
       "    <tr>\n",
       "      <th>2</th>\n",
       "      <td> 2.221632e+08</td>\n",
       "      <td> 85.260403</td>\n",
       "      <td> 86.769483</td>\n",
       "      <td> 306.143126</td>\n",
       "      <td> 306.059859</td>\n",
       "      <td> 301.311002</td>\n",
       "      <td> 301.450584</td>\n",
       "      <td> 305.972703</td>\n",
       "      <td> 1197.927574</td>\n",
       "      <td> 1281.481301</td>\n",
       "      <td>...</td>\n",
       "      <td> 212.241394</td>\n",
       "      <td> 217.914152</td>\n",
       "      <td> 201.194041</td>\n",
       "      <td> 197.882393</td>\n",
       "      <td> 206.969938</td>\n",
       "      <td> 198.419821</td>\n",
       "      <td> 190.470146</td>\n",
       "      <td> 196.673662</td>\n",
       "      <td> 183.214266</td>\n",
       "      <td> 154.488582</td>\n",
       "    </tr>\n",
       "    <tr>\n",
       "      <th>3</th>\n",
       "      <td> 2.221633e+08</td>\n",
       "      <td> 85.312238</td>\n",
       "      <td> 86.811023</td>\n",
       "      <td> 305.387500</td>\n",
       "      <td> 305.277000</td>\n",
       "      <td> 301.313500</td>\n",
       "      <td> 301.489750</td>\n",
       "      <td> 305.760250</td>\n",
       "      <td> 1183.243309</td>\n",
       "      <td> 1266.020485</td>\n",
       "      <td>...</td>\n",
       "      <td> 209.929992</td>\n",
       "      <td> 216.723086</td>\n",
       "      <td> 200.520917</td>\n",
       "      <td> 197.666546</td>\n",
       "      <td> 205.029552</td>\n",
       "      <td> 196.720104</td>\n",
       "      <td> 188.914433</td>\n",
       "      <td> 196.229102</td>\n",
       "      <td> 182.596579</td>\n",
       "      <td> 153.824837</td>\n",
       "    </tr>\n",
       "    <tr>\n",
       "      <th>4</th>\n",
       "      <td> 2.221633e+08</td>\n",
       "      <td> 85.303520</td>\n",
       "      <td> 86.754303</td>\n",
       "      <td> 305.291500</td>\n",
       "      <td> 305.184573</td>\n",
       "      <td> 301.350000</td>\n",
       "      <td> 301.526875</td>\n",
       "      <td> 305.703000</td>\n",
       "      <td> 1180.388789</td>\n",
       "      <td> 1262.798522</td>\n",
       "      <td>...</td>\n",
       "      <td> 210.786401</td>\n",
       "      <td> 217.121758</td>\n",
       "      <td> 200.762159</td>\n",
       "      <td> 196.824010</td>\n",
       "      <td> 205.075780</td>\n",
       "      <td> 197.729380</td>\n",
       "      <td> 190.404317</td>\n",
       "      <td> 197.617459</td>\n",
       "      <td> 182.288457</td>\n",
       "      <td> 153.763446</td>\n",
       "    </tr>\n",
       "    <tr>\n",
       "      <th>5</th>\n",
       "      <td> 2.221635e+08</td>\n",
       "      <td> 85.423329</td>\n",
       "      <td> 86.908261</td>\n",
       "      <td> 304.677000</td>\n",
       "      <td> 304.694225</td>\n",
       "      <td> 301.371750</td>\n",
       "      <td> 301.574000</td>\n",
       "      <td> 305.495000</td>\n",
       "      <td> 1166.333080</td>\n",
       "      <td> 1247.428025</td>\n",
       "      <td>...</td>\n",
       "      <td> 209.875954</td>\n",
       "      <td> 216.610820</td>\n",
       "      <td> 199.250165</td>\n",
       "      <td> 196.309720</td>\n",
       "      <td> 203.547144</td>\n",
       "      <td> 196.354313</td>\n",
       "      <td> 188.962375</td>\n",
       "      <td> 194.016537</td>\n",
       "      <td> 180.799752</td>\n",
       "      <td> 153.587237</td>\n",
       "    </tr>\n",
       "  </tbody>\n",
       "</table>\n",
       "<p>5 rows × 155 columns</p>\n",
       "</div>"
      ],
      "text/plain": [
       "           Time  Fixed BB T   Var BB T       BB1 T       BB2 T       FPA T  \\\n",
       "1  2.221632e+08   85.187983  86.680106  306.114250  306.195461  301.242000   \n",
       "2  2.221632e+08   85.260403  86.769483  306.143126  306.059859  301.311002   \n",
       "3  2.221633e+08   85.312238  86.811023  305.387500  305.277000  301.313500   \n",
       "4  2.221633e+08   85.303520  86.754303  305.291500  305.184573  301.350000   \n",
       "5  2.221635e+08   85.423329  86.908261  304.677000  304.694225  301.371750   \n",
       "\n",
       "        FPB T       OBA T        a3_01        a3_02     ...           b3_12  \\\n",
       "1  301.384625  306.026750  1202.397838  1286.333284     ...      211.657478   \n",
       "2  301.450584  305.972703  1197.927574  1281.481301     ...      212.241394   \n",
       "3  301.489750  305.760250  1183.243309  1266.020485     ...      209.929992   \n",
       "4  301.526875  305.703000  1180.388789  1262.798522     ...      210.786401   \n",
       "5  301.574000  305.495000  1166.333080  1247.428025     ...      209.875954   \n",
       "\n",
       "        b3_13       b3_14       b3_15       b3_16       b3_17       b3_18  \\\n",
       "1  217.180362  201.736705  197.968707  205.588830  197.928897  189.366090   \n",
       "2  217.914152  201.194041  197.882393  206.969938  198.419821  190.470146   \n",
       "3  216.723086  200.520917  197.666546  205.029552  196.720104  188.914433   \n",
       "4  217.121758  200.762159  196.824010  205.075780  197.729380  190.404317   \n",
       "5  216.610820  199.250165  196.309720  203.547144  196.354313  188.962375   \n",
       "\n",
       "        b3_19       b3_20       b3_21  \n",
       "1  197.507261  182.773575  154.856909  \n",
       "2  196.673662  183.214266  154.488582  \n",
       "3  196.229102  182.596579  153.824837  \n",
       "4  197.617459  182.288457  153.763446  \n",
       "5  194.016537  180.799752  153.587237  \n",
       "\n",
       "[5 rows x 155 columns]"
      ]
     },
     "execution_count": 132,
     "metadata": {},
     "output_type": "execute_result"
    }
   ],
   "source": [
    "allifvaltime.head()"
   ]
  },
  {
   "cell_type": "code",
   "execution_count": 133,
   "metadata": {
    "collapsed": true
   },
   "outputs": [],
   "source": [
    "allifvaltime.to_hdf('allifvaltime_3.h5','df')"
   ]
  },
  {
   "cell_type": "code",
   "execution_count": 137,
   "metadata": {
    "collapsed": true
   },
   "outputs": [],
   "source": [
    "iftemps = parse_vf_temps('Diviner Radiometric Cal Ramp 2.xlsx', 3)"
   ]
  },
  {
   "cell_type": "code",
   "execution_count": 138,
   "metadata": {
    "collapsed": false
   },
   "outputs": [
    {
     "data": {
      "text/html": [
       "<div style=\"max-height:1000px;max-width:1500px;overflow:auto;\">\n",
       "<table border=\"1\" class=\"dataframe\">\n",
       "  <thead>\n",
       "    <tr style=\"text-align: right;\">\n",
       "      <th></th>\n",
       "      <th>Time</th>\n",
       "      <th>Fixed BB T</th>\n",
       "      <th>Var BB T</th>\n",
       "      <th>BB1 T</th>\n",
       "      <th>BB2 T</th>\n",
       "      <th>FPA T</th>\n",
       "      <th>FPB T</th>\n",
       "      <th>OBA T</th>\n",
       "    </tr>\n",
       "  </thead>\n",
       "  <tbody>\n",
       "    <tr>\n",
       "      <th>1</th>\n",
       "      <td> 2.220052e+08</td>\n",
       "      <td> 86.390547</td>\n",
       "      <td> 88.338372</td>\n",
       "      <td> 335.197750</td>\n",
       "      <td> 335.380863</td>\n",
       "      <td> 331.43725</td>\n",
       "      <td> 332.158375</td>\n",
       "      <td> 335.6835</td>\n",
       "    </tr>\n",
       "    <tr>\n",
       "      <th>2</th>\n",
       "      <td> 2.220052e+08</td>\n",
       "      <td> 86.466657</td>\n",
       "      <td> 88.395637</td>\n",
       "      <td> 335.025625</td>\n",
       "      <td> 335.451769</td>\n",
       "      <td> 331.46500</td>\n",
       "      <td> 332.179000</td>\n",
       "      <td> 335.6910</td>\n",
       "    </tr>\n",
       "    <tr>\n",
       "      <th>3</th>\n",
       "      <td> 2.220053e+08</td>\n",
       "      <td> 86.589492</td>\n",
       "      <td> 88.405275</td>\n",
       "      <td> 335.179000</td>\n",
       "      <td> 335.379738</td>\n",
       "      <td> 331.47925</td>\n",
       "      <td> 332.188875</td>\n",
       "      <td> 335.7265</td>\n",
       "    </tr>\n",
       "    <tr>\n",
       "      <th>4</th>\n",
       "      <td> 2.220054e+08</td>\n",
       "      <td> 86.481310</td>\n",
       "      <td> 88.320670</td>\n",
       "      <td> 335.084375</td>\n",
       "      <td> 335.473905</td>\n",
       "      <td> 331.51700</td>\n",
       "      <td> 332.205875</td>\n",
       "      <td> 335.7410</td>\n",
       "    </tr>\n",
       "    <tr>\n",
       "      <th>5</th>\n",
       "      <td> 2.220055e+08</td>\n",
       "      <td> 86.194299</td>\n",
       "      <td> 88.008776</td>\n",
       "      <td> 335.102250</td>\n",
       "      <td> 335.330621</td>\n",
       "      <td> 331.54025</td>\n",
       "      <td> 332.220000</td>\n",
       "      <td> 335.7805</td>\n",
       "    </tr>\n",
       "  </tbody>\n",
       "</table>\n",
       "</div>"
      ],
      "text/plain": [
       "           Time  Fixed BB T   Var BB T       BB1 T       BB2 T      FPA T  \\\n",
       "1  2.220052e+08   86.390547  88.338372  335.197750  335.380863  331.43725   \n",
       "2  2.220052e+08   86.466657  88.395637  335.025625  335.451769  331.46500   \n",
       "3  2.220053e+08   86.589492  88.405275  335.179000  335.379738  331.47925   \n",
       "4  2.220054e+08   86.481310  88.320670  335.084375  335.473905  331.51700   \n",
       "5  2.220055e+08   86.194299  88.008776  335.102250  335.330621  331.54025   \n",
       "\n",
       "        FPB T     OBA T  \n",
       "1  332.158375  335.6835  \n",
       "2  332.179000  335.6910  \n",
       "3  332.188875  335.7265  \n",
       "4  332.205875  335.7410  \n",
       "5  332.220000  335.7805  "
      ]
     },
     "execution_count": 138,
     "metadata": {},
     "output_type": "execute_result"
    }
   ],
   "source": [
    "iftemps.head()"
   ]
  },
  {
   "cell_type": "code",
   "execution_count": 139,
   "metadata": {
    "collapsed": false
   },
   "outputs": [
    {
     "name": "stdout",
     "output_type": "stream",
     "text": [
      "<class 'pandas.core.frame.DataFrame'>\n",
      "Int64Index: 481 entries, 1 to 481\n",
      "Data columns (total 8 columns):\n",
      "Time          481 non-null float64\n",
      "Fixed BB T    481 non-null float64\n",
      "Var BB T      481 non-null float64\n",
      "BB1 T         481 non-null float64\n",
      "BB2 T         481 non-null float64\n",
      "FPA T         481 non-null float64\n",
      "FPB T         481 non-null float64\n",
      "OBA T         481 non-null float64\n",
      "dtypes: float64(8)\n",
      "memory usage: 33.8 KB\n"
     ]
    }
   ],
   "source": [
    "iftemps.info()"
   ]
  },
  {
   "cell_type": "code",
   "execution_count": 140,
   "metadata": {
    "collapsed": true
   },
   "outputs": [],
   "source": [
    "iftemps.to_hdf('iftemps_2.h5','df')"
   ]
  },
  {
   "cell_type": "code",
   "execution_count": 141,
   "metadata": {
    "collapsed": true
   },
   "outputs": [],
   "source": [
    "iftemps = parse_vf_temps('Diviner Radiometric Cal Ramp 3.xlsx', 3)"
   ]
  },
  {
   "cell_type": "code",
   "execution_count": 142,
   "metadata": {
    "collapsed": false
   },
   "outputs": [
    {
     "data": {
      "text/html": [
       "<div style=\"max-height:1000px;max-width:1500px;overflow:auto;\">\n",
       "<table border=\"1\" class=\"dataframe\">\n",
       "  <thead>\n",
       "    <tr style=\"text-align: right;\">\n",
       "      <th></th>\n",
       "      <th>Time</th>\n",
       "      <th>Fixed BB T</th>\n",
       "      <th>Var BB T</th>\n",
       "      <th>BB1 T</th>\n",
       "      <th>BB2 T</th>\n",
       "      <th>FPA T</th>\n",
       "      <th>FPB T</th>\n",
       "      <th>OBA T</th>\n",
       "    </tr>\n",
       "  </thead>\n",
       "  <tbody>\n",
       "    <tr>\n",
       "      <th>1</th>\n",
       "      <td> 2.221632e+08</td>\n",
       "      <td> 85.187983</td>\n",
       "      <td> 86.680106</td>\n",
       "      <td> 306.114250</td>\n",
       "      <td> 306.195461</td>\n",
       "      <td> 301.242000</td>\n",
       "      <td> 301.384625</td>\n",
       "      <td> 306.026750</td>\n",
       "    </tr>\n",
       "    <tr>\n",
       "      <th>2</th>\n",
       "      <td> 2.221632e+08</td>\n",
       "      <td> 85.260403</td>\n",
       "      <td> 86.769483</td>\n",
       "      <td> 306.143126</td>\n",
       "      <td> 306.059859</td>\n",
       "      <td> 301.311002</td>\n",
       "      <td> 301.450584</td>\n",
       "      <td> 305.972703</td>\n",
       "    </tr>\n",
       "    <tr>\n",
       "      <th>3</th>\n",
       "      <td> 2.221633e+08</td>\n",
       "      <td> 85.312238</td>\n",
       "      <td> 86.811023</td>\n",
       "      <td> 305.387500</td>\n",
       "      <td> 305.277000</td>\n",
       "      <td> 301.313500</td>\n",
       "      <td> 301.489750</td>\n",
       "      <td> 305.760250</td>\n",
       "    </tr>\n",
       "    <tr>\n",
       "      <th>4</th>\n",
       "      <td> 2.221633e+08</td>\n",
       "      <td> 85.303520</td>\n",
       "      <td> 86.754303</td>\n",
       "      <td> 305.291500</td>\n",
       "      <td> 305.184573</td>\n",
       "      <td> 301.350000</td>\n",
       "      <td> 301.526875</td>\n",
       "      <td> 305.703000</td>\n",
       "    </tr>\n",
       "    <tr>\n",
       "      <th>5</th>\n",
       "      <td> 2.221635e+08</td>\n",
       "      <td> 85.423329</td>\n",
       "      <td> 86.908261</td>\n",
       "      <td> 304.677000</td>\n",
       "      <td> 304.694225</td>\n",
       "      <td> 301.371750</td>\n",
       "      <td> 301.574000</td>\n",
       "      <td> 305.495000</td>\n",
       "    </tr>\n",
       "  </tbody>\n",
       "</table>\n",
       "</div>"
      ],
      "text/plain": [
       "           Time  Fixed BB T   Var BB T       BB1 T       BB2 T       FPA T  \\\n",
       "1  2.221632e+08   85.187983  86.680106  306.114250  306.195461  301.242000   \n",
       "2  2.221632e+08   85.260403  86.769483  306.143126  306.059859  301.311002   \n",
       "3  2.221633e+08   85.312238  86.811023  305.387500  305.277000  301.313500   \n",
       "4  2.221633e+08   85.303520  86.754303  305.291500  305.184573  301.350000   \n",
       "5  2.221635e+08   85.423329  86.908261  304.677000  304.694225  301.371750   \n",
       "\n",
       "        FPB T       OBA T  \n",
       "1  301.384625  306.026750  \n",
       "2  301.450584  305.972703  \n",
       "3  301.489750  305.760250  \n",
       "4  301.526875  305.703000  \n",
       "5  301.574000  305.495000  "
      ]
     },
     "execution_count": 142,
     "metadata": {},
     "output_type": "execute_result"
    }
   ],
   "source": [
    "iftemps.head()"
   ]
  },
  {
   "cell_type": "code",
   "execution_count": 143,
   "metadata": {
    "collapsed": false
   },
   "outputs": [
    {
     "name": "stdout",
     "output_type": "stream",
     "text": [
      "<class 'pandas.core.frame.DataFrame'>\n",
      "Int64Index: 369 entries, 1 to 369\n",
      "Data columns (total 8 columns):\n",
      "Time          369 non-null float64\n",
      "Fixed BB T    369 non-null float64\n",
      "Var BB T      369 non-null float64\n",
      "BB1 T         369 non-null float64\n",
      "BB2 T         369 non-null float64\n",
      "FPA T         369 non-null float64\n",
      "FPB T         369 non-null float64\n",
      "OBA T         369 non-null float64\n",
      "dtypes: float64(8)\n",
      "memory usage: 25.9 KB\n"
     ]
    }
   ],
   "source": [
    "iftemps.info()"
   ]
  },
  {
   "cell_type": "code",
   "execution_count": 144,
   "metadata": {
    "collapsed": true
   },
   "outputs": [],
   "source": [
    "iftemps.to_hdf('iftemps_3.h5', 'df')"
   ]
  },
  {
   "cell_type": "code",
   "execution_count": 149,
   "metadata": {
    "collapsed": false
   },
   "outputs": [
    {
     "name": "stdout",
     "output_type": "stream",
     "text": [
      "total 90592\r\n",
      "drwxr-xr-x@  30 klay6683  LASP\\Domain Users   1.0K Feb 21 22:16 \u001b[34m.\u001b[m\u001b[m\r\n",
      "-rw-r--r--@   1 klay6683  LASP\\Domain Users     0B Feb 21 22:16 ground_calib_spreadsheet_data.h5\r\n",
      "-rw-r--r--@   1 klay6683  LASP\\Domain Users   2.0M Feb 21 22:14 iftemps_3.h5\r\n",
      "-rw-r--r--@   1 klay6683  LASP\\Domain Users   2.0M Feb 21 22:14 iftemps_2.h5\r\n",
      "-rw-r--r--@   1 klay6683  LASP\\Domain Users   2.5M Feb 21 22:11 allifvaltime_3.h5\r\n",
      "-rw-r--r--@   1 klay6683  LASP\\Domain Users   2.6M Feb 21 22:09 allifvaltime_2.h5\r\n",
      "-rw-r--r--@   1 klay6683  LASP\\Domain Users   2.0M Feb 21 22:05 vftemps_3.h5\r\n",
      "-rw-r--r--@   1 klay6683  LASP\\Domain Users   2.0M Feb 21 22:03 vftemps_2.h5\r\n",
      "-rw-r--r--@   1 klay6683  LASP\\Domain Users   2.5M Feb 21 22:00 allvfvaltime_3.h5\r\n",
      "-rw-r--r--@   1 klay6683  LASP\\Domain Users   3.1M Feb 21 21:53 allvfvaltime_2.h5\r\n",
      "-rw-r--r--@   1 klay6683  LASP\\Domain Users   171B Feb 21 21:48 ~$marc_foote_counts_and_chamber_data.xlsx\r\n",
      "-rw-r--r--@   1 klay6683  LASP\\Domain Users   7.5M Feb 21 21:45 chamberdata.h5\r\n",
      "-rw-r--r--@   1 klay6683  LASP\\Domain Users   1.9M Feb 21 21:25 Diviner Radiometric Cal Ramp 3.xlsx\r\n",
      "-rw-r--r--@   1 klay6683  LASP\\Domain Users   171B Feb 21 20:26 ~$Diviner Radiometric Cal Ramp 3.xlsx\r\n",
      "-rw-r--r--@   1 klay6683  LASP\\Domain Users   171B Feb 21 20:26 ~$Diviner Radiometric Cal Ramp 2.xlsx\r\n",
      "drwxr-xr-x@ 130 klay6683  LASP\\Domain Users   4.3K Feb 21 19:51 \u001b[34m..\u001b[m\u001b[m\r\n",
      "-rw-r--r--@   1 klay6683  LASP\\Domain Users   2.0M Nov 24 11:42 Diviner Radiometric Cal Ramp 2.xlsx\r\n",
      "-rw-r--r--@   1 klay6683  LASP\\Domain Users   3.0M Nov 24 11:42 marc_foote_counts_and_chamber_data.xlsx\r\n",
      "-rw-r--r--@   1 klay6683  LASP\\Domain Users   853K Nov 17 15:00 counts_vs_temps.png\r\n",
      "-rw-r--r--@   1 klay6683  LASP\\Domain Users   360K Feb  1  2014 gc_a6_b1_b2_b3_d11_2008011221-2008011309.png\r\n",
      "-rw-r--r--@   1 klay6683  LASP\\Domain Users   1.2M Feb  1  2014 gc_a6_b1_b2_b3_d11_2008011209-2008011221.png\r\n",
      "-rw-r--r--@   1 klay6683  LASP\\Domain Users   1.5M Feb  1  2014 gc_a6_b1_b2_b3_d11_2008011121-2008011209.png\r\n",
      "-rw-r--r--@   1 klay6683  LASP\\Domain Users   1.4M Feb  1  2014 gc_a6_b1_b2_b3_d11_2008011109-2008011121.png\r\n",
      "-rw-r--r--@   1 klay6683  LASP\\Domain Users   1.5M Feb  1  2014 gc_a6_b1_b2_b3_d11_2008011021-2008011109.png\r\n",
      "-rw-r--r--@   1 klay6683  LASP\\Domain Users   899K Jan 31  2014 b1_11_2008011121-2008011209.png\r\n",
      "-rw-r--r--@   1 klay6683  LASP\\Domain Users   787K Jan 31  2014 b1_11_2008011209-2008011221.png\r\n",
      "-rw-r--r--@   1 klay6683  LASP\\Domain Users   229K Jan 31  2014 b1_11_2008011221-2008011309.png\r\n",
      "-rw-r--r--@   1 klay6683  LASP\\Domain Users   1.0M Jan 31  2014 b1_11_2008011109-2008011121.png\r\n",
      "-rw-r--r--@   1 klay6683  LASP\\Domain Users   886K Jan 31  2014 b1_11_2008011021-2008011109.png\r\n",
      "-rw-r--r--@   1 klay6683  LASP\\Domain Users   449K Sep  9  2013 2008011201_L1A_Plot3.pdf\r\n"
     ]
    }
   ],
   "source": [
    "!ls -lath"
   ]
  },
  {
   "cell_type": "code",
   "execution_count": 151,
   "metadata": {
    "collapsed": false
   },
   "outputs": [],
   "source": [
    "store = pd.HDFStore('ground_calib_spreadsheet_data.h5')"
   ]
  },
  {
   "cell_type": "code",
   "execution_count": 152,
   "metadata": {
    "collapsed": true
   },
   "outputs": [],
   "source": [
    "for item in ['iftemps','allifvaltime','vftemps','allvfvaltime']:\n",
    "    for i in [2,3]:\n",
    "        key = item + '_' + str(i)\n",
    "        store[key] = pd.read_hdf(key+'.h5','df')\n",
    "    "
   ]
  },
  {
   "cell_type": "code",
   "execution_count": 153,
   "metadata": {
    "collapsed": false
   },
   "outputs": [
    {
     "data": {
      "text/plain": [
       "<class 'pandas.io.pytables.HDFStore'>\n",
       "File path: ground_calib_spreadsheet_data.h5\n",
       "/allifvaltime_2            frame        (shape->[481,1])\n",
       "/allifvaltime_3            frame        (shape->[369,1])\n",
       "/allvfvaltime_2            frame        (shape->[452,1])\n",
       "/allvfvaltime_3            frame        (shape->[436,1])\n",
       "/iftemps_2                 frame        (shape->[481,1])\n",
       "/iftemps_3                 frame        (shape->[369,1])\n",
       "/vftemps_2                 frame        (shape->[452,1])\n",
       "/vftemps_3                 frame        (shape->[347,1])"
      ]
     },
     "execution_count": 153,
     "metadata": {},
     "output_type": "execute_result"
    }
   ],
   "source": [
    "store"
   ]
  },
  {
   "cell_type": "code",
   "execution_count": 155,
   "metadata": {
    "collapsed": false
   },
   "outputs": [
    {
     "name": "stdout",
     "output_type": "stream",
     "text": [
      "total 128776\r\n",
      "-rw-r--r--@   1 klay6683  LASP\\Domain Users   449K Sep  9  2013 2008011201_L1A_Plot3.pdf\r\n",
      "-rw-r--r--@   1 klay6683  LASP\\Domain Users   886K Jan 31  2014 b1_11_2008011021-2008011109.png\r\n",
      "-rw-r--r--@   1 klay6683  LASP\\Domain Users   1.0M Jan 31  2014 b1_11_2008011109-2008011121.png\r\n",
      "-rw-r--r--@   1 klay6683  LASP\\Domain Users   229K Jan 31  2014 b1_11_2008011221-2008011309.png\r\n",
      "-rw-r--r--@   1 klay6683  LASP\\Domain Users   787K Jan 31  2014 b1_11_2008011209-2008011221.png\r\n",
      "-rw-r--r--@   1 klay6683  LASP\\Domain Users   899K Jan 31  2014 b1_11_2008011121-2008011209.png\r\n",
      "-rw-r--r--@   1 klay6683  LASP\\Domain Users   1.5M Feb  1  2014 gc_a6_b1_b2_b3_d11_2008011021-2008011109.png\r\n",
      "-rw-r--r--@   1 klay6683  LASP\\Domain Users   1.4M Feb  1  2014 gc_a6_b1_b2_b3_d11_2008011109-2008011121.png\r\n",
      "-rw-r--r--@   1 klay6683  LASP\\Domain Users   1.5M Feb  1  2014 gc_a6_b1_b2_b3_d11_2008011121-2008011209.png\r\n",
      "-rw-r--r--@   1 klay6683  LASP\\Domain Users   1.2M Feb  1  2014 gc_a6_b1_b2_b3_d11_2008011209-2008011221.png\r\n",
      "-rw-r--r--@   1 klay6683  LASP\\Domain Users   360K Feb  1  2014 gc_a6_b1_b2_b3_d11_2008011221-2008011309.png\r\n",
      "-rw-r--r--@   1 klay6683  LASP\\Domain Users   853K Nov 17 15:00 counts_vs_temps.png\r\n",
      "-rw-r--r--@   1 klay6683  LASP\\Domain Users   3.0M Nov 24 11:42 marc_foote_counts_and_chamber_data.xlsx\r\n",
      "-rw-r--r--@   1 klay6683  LASP\\Domain Users   2.0M Nov 24 11:42 Diviner Radiometric Cal Ramp 2.xlsx\r\n",
      "drwxr-xr-x@ 130 klay6683  LASP\\Domain Users   4.3K Feb 21 19:51 \u001b[34m..\u001b[m\u001b[m/\r\n",
      "-rw-r--r--@   1 klay6683  LASP\\Domain Users   171B Feb 21 20:26 ~$Diviner Radiometric Cal Ramp 2.xlsx\r\n",
      "-rw-r--r--@   1 klay6683  LASP\\Domain Users   171B Feb 21 20:26 ~$Diviner Radiometric Cal Ramp 3.xlsx\r\n",
      "-rw-r--r--@   1 klay6683  LASP\\Domain Users   1.9M Feb 21 21:25 Diviner Radiometric Cal Ramp 3.xlsx\r\n",
      "-rw-r--r--@   1 klay6683  LASP\\Domain Users   7.5M Feb 21 21:45 chamberdata.h5\r\n",
      "-rw-r--r--@   1 klay6683  LASP\\Domain Users   171B Feb 21 21:48 ~$marc_foote_counts_and_chamber_data.xlsx\r\n",
      "-rw-r--r--@   1 klay6683  LASP\\Domain Users   3.1M Feb 21 21:53 allvfvaltime_2.h5\r\n",
      "-rw-r--r--@   1 klay6683  LASP\\Domain Users   2.5M Feb 21 22:00 allvfvaltime_3.h5\r\n",
      "-rw-r--r--@   1 klay6683  LASP\\Domain Users   2.0M Feb 21 22:03 vftemps_2.h5\r\n",
      "-rw-r--r--@   1 klay6683  LASP\\Domain Users   2.0M Feb 21 22:05 vftemps_3.h5\r\n",
      "-rw-r--r--@   1 klay6683  LASP\\Domain Users   2.6M Feb 21 22:09 allifvaltime_2.h5\r\n",
      "-rw-r--r--@   1 klay6683  LASP\\Domain Users   2.5M Feb 21 22:11 allifvaltime_3.h5\r\n",
      "-rw-r--r--@   1 klay6683  LASP\\Domain Users   2.0M Feb 21 22:14 iftemps_2.h5\r\n",
      "-rw-r--r--@   1 klay6683  LASP\\Domain Users   2.0M Feb 21 22:14 iftemps_3.h5\r\n",
      "drwxr-xr-x@  30 klay6683  LASP\\Domain Users   1.0K Feb 21 22:16 \u001b[34m.\u001b[m\u001b[m/\r\n",
      "-rw-r--r--@   1 klay6683  LASP\\Domain Users    19M Feb 21 22:19 ground_calib_spreadsheet_data.h5\r\n"
     ]
    }
   ],
   "source": [
    "ll -arth"
   ]
  },
  {
   "cell_type": "code",
   "execution_count": null,
   "metadata": {
    "collapsed": true
   },
   "outputs": [],
   "source": []
  }
 ],
 "metadata": {
  "kernelspec": {
   "display_name": "Python 2",
   "language": "python",
   "name": "python2"
  },
  "language_info": {
   "codemirror_mode": {
    "name": "ipython",
    "version": 2
   },
   "file_extension": ".py",
   "mimetype": "text/x-python",
   "name": "python",
   "nbconvert_exporter": "python",
   "pygments_lexer": "ipython2",
   "version": "2.7.10"
  }
 },
 "nbformat": 4,
 "nbformat_minor": 0
}
