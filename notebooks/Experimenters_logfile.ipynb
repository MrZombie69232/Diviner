{
 "metadata": {
  "name": "Experimenters_logfile"
 },
 "nbformat": 3,
 "nbformat_minor": 0,
 "worksheets": [
  {
   "cells": [
    {
     "cell_type": "code",
     "collapsed": false,
     "input": [
      "import pandas as pd"
     ],
     "language": "python",
     "metadata": {},
     "outputs": [],
     "prompt_number": 1
    },
    {
     "cell_type": "code",
     "collapsed": false,
     "input": [
      "excelfile = pd.io.parsers.ExcelFile('/Users/maye/Dropbox/DDocuments/DIVINER/Diviner Commanding 130405.xls')"
     ],
     "language": "python",
     "metadata": {},
     "outputs": [],
     "prompt_number": 2
    },
    {
     "cell_type": "code",
     "collapsed": false,
     "input": [
      "excelfile.sheet_names"
     ],
     "language": "python",
     "metadata": {},
     "outputs": [
      {
       "output_type": "pyout",
       "prompt_number": 3,
       "text": [
        "[u'FDF13_2009195_2009202_N01', u'Sheet1']"
       ]
      }
     ],
     "prompt_number": 3
    },
    {
     "cell_type": "code",
     "collapsed": false,
     "input": [
      "df = excelfile.parse('FDF13_2009195_2009202_N01', header=2, skiprows=2, index_col=0, parse_cols=\"A:K\")"
     ],
     "language": "python",
     "metadata": {},
     "outputs": [],
     "prompt_number": 4
    },
    {
     "cell_type": "code",
     "collapsed": false,
     "input": [
      "df"
     ],
     "language": "python",
     "metadata": {},
     "outputs": [
      {
       "html": [
        "<pre>\n",
        "&ltclass 'pandas.core.frame.DataFrame'&gt\n",
        "Index: 24651 entries, nan to 2013-101T23:11:28\n",
        "Data columns (total 10 columns):\n",
        "SCLK          22298  non-null values\n",
        "Unnamed: 2    17146  non-null values\n",
        "E. Long       17172  non-null values\n",
        "Orbit         17172  non-null values\n",
        "Unnamed: 5    17172  non-null values\n",
        "OST_i         17011  non-null values\n",
        "I_Err         3242  non-null values\n",
        "D_Err         199  non-null values\n",
        "I_Rej         1532  non-null values\n",
        "Event         23201  non-null values\n",
        "dtypes: float64(5), object(5)\n",
        "</pre>"
       ],
       "output_type": "pyout",
       "prompt_number": 5,
       "text": [
        "<class 'pandas.core.frame.DataFrame'>\n",
        "Index: 24651 entries, nan to 2013-101T23:11:28\n",
        "Data columns (total 10 columns):\n",
        "SCLK          22298  non-null values\n",
        "Unnamed: 2    17146  non-null values\n",
        "E. Long       17172  non-null values\n",
        "Orbit         17172  non-null values\n",
        "Unnamed: 5    17172  non-null values\n",
        "OST_i         17011  non-null values\n",
        "I_Err         3242  non-null values\n",
        "D_Err         199  non-null values\n",
        "I_Rej         1532  non-null values\n",
        "Event         23201  non-null values\n",
        "dtypes: float64(5), object(5)"
       ]
      }
     ],
     "prompt_number": 5
    },
    {
     "cell_type": "code",
     "collapsed": false,
     "input": [
      "df[df.Orbit==8172].index"
     ],
     "language": "python",
     "metadata": {},
     "outputs": [
      {
       "output_type": "pyout",
       "prompt_number": 8,
       "text": [
        "Index([2011-091T20:43:23], dtype=object)"
       ]
      }
     ],
     "prompt_number": 8
    },
    {
     "cell_type": "code",
     "collapsed": false,
     "input": [
      "df[df.Orbit==8178].index"
     ],
     "language": "python",
     "metadata": {},
     "outputs": [
      {
       "output_type": "pyout",
       "prompt_number": 9,
       "text": [
        "Index([2011-092T08:01:47], dtype=object)"
       ]
      }
     ],
     "prompt_number": 9
    },
    {
     "cell_type": "code",
     "collapsed": false,
     "input": [
      "from datetime import datetime as dt"
     ],
     "language": "python",
     "metadata": {},
     "outputs": [],
     "prompt_number": 11
    },
    {
     "cell_type": "code",
     "collapsed": false,
     "input": [
      "dt.strptime('2011-091','%Y-%j')"
     ],
     "language": "python",
     "metadata": {},
     "outputs": [
      {
       "output_type": "pyout",
       "prompt_number": 12,
       "text": [
        "datetime.datetime(2011, 4, 1, 0, 0)"
       ]
      }
     ],
     "prompt_number": 12
    },
    {
     "cell_type": "code",
     "collapsed": false,
     "input": [
      "import urllib2"
     ],
     "language": "python",
     "metadata": {},
     "outputs": [],
     "prompt_number": 6
    },
    {
     "cell_type": "code",
     "collapsed": false,
     "input": [
      "data = urllib2.urlopen('http://luna1.diviner.ucla.edu/~esn/south_pole/anom/anomalous_orbits.txt').readlines()"
     ],
     "language": "python",
     "metadata": {},
     "outputs": [],
     "prompt_number": 15
    },
    {
     "cell_type": "code",
     "collapsed": false,
     "input": [
      "exclusions = pd.io.parsers.read_table(urllib2.urlopen('http://luna1.diviner.ucla.edu/~esn/south_pole/anom/anomalous_orbits.txt'), sep='\\t',index_col=0)\n",
      "exclusions.head()\n"
     ],
     "language": "python",
     "metadata": {},
     "outputs": [
      {
       "html": [
        "<div style=\"max-height:1000px;max-width:1500px;overflow:auto;\">\n",
        "<table border=\"1\" class=\"dataframe\">\n",
        "  <thead>\n",
        "    <tr style=\"text-align: right;\">\n",
        "      <th></th>\n",
        "      <th>Deviation</th>\n",
        "      <th>Mean TBOL</th>\n",
        "    </tr>\n",
        "    <tr>\n",
        "      <th>Orbit</th>\n",
        "      <th></th>\n",
        "      <th></th>\n",
        "    </tr>\n",
        "  </thead>\n",
        "  <tbody>\n",
        "    <tr>\n",
        "      <th>8325 </th>\n",
        "      <td> 130.38</td>\n",
        "      <td> 221.68</td>\n",
        "    </tr>\n",
        "    <tr>\n",
        "      <th>8326 </th>\n",
        "      <td> 106.60</td>\n",
        "      <td> 203.12</td>\n",
        "    </tr>\n",
        "    <tr>\n",
        "      <th>12109</th>\n",
        "      <td> 103.15</td>\n",
        "      <td> 196.91</td>\n",
        "    </tr>\n",
        "    <tr>\n",
        "      <th>3163 </th>\n",
        "      <td>  96.65</td>\n",
        "      <td> 188.39</td>\n",
        "    </tr>\n",
        "    <tr>\n",
        "      <th>1837 </th>\n",
        "      <td>  90.58</td>\n",
        "      <td> 230.42</td>\n",
        "    </tr>\n",
        "  </tbody>\n",
        "</table>\n",
        "</div>"
       ],
       "output_type": "pyout",
       "prompt_number": 23,
       "text": [
        "       Deviation  Mean TBOL\n",
        "Orbit                      \n",
        "8325      130.38     221.68\n",
        "8326      106.60     203.12\n",
        "12109     103.15     196.91\n",
        "3163       96.65     188.39\n",
        "1837       90.58     230.42"
       ]
      }
     ],
     "prompt_number": 23
    },
    {
     "cell_type": "code",
     "collapsed": false,
     "input": [
      "ch7"
     ],
     "language": "python",
     "metadata": {},
     "outputs": [
      {
       "ename": "NameError",
       "evalue": "name 'ch7' is not defined",
       "output_type": "pyerr",
       "traceback": [
        "---------------------------------------------------------------------------\nNameError                                 Traceback (most recent call last)",
        "<ipython-input-1-2a65af4d2d50> in <module>()\n----> 1 ch7\n",
        "NameError: name 'ch7' is not defined"
       ]
      }
     ],
     "prompt_number": 1
    },
    {
     "cell_type": "code",
     "collapsed": false,
     "input": [],
     "language": "python",
     "metadata": {},
     "outputs": []
    }
   ],
   "metadata": {}
  }
 ]
}