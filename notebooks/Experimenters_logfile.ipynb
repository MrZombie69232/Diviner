{
 "metadata": {
  "name": "Experimenters_logfile"
 },
 "nbformat": 3,
 "nbformat_minor": 0,
 "worksheets": [
  {
   "cells": [
    {
     "cell_type": "code",
     "collapsed": false,
     "input": [
      "import pandas as pd\n",
      "reload(pd)"
     ],
     "language": "python",
     "metadata": {},
     "outputs": [
      {
       "metadata": {},
       "output_type": "pyout",
       "prompt_number": 1,
       "text": [
        "<module 'pandas' from '/Library/Frameworks/EPD64.framework/Versions/7.3/lib/python2.7/site-packages/pandas-0.12.0.dev_f354548-py2.7-macosx-10.5-x86_64.egg/pandas/__init__.pyc'>"
       ]
      }
     ],
     "prompt_number": 1
    },
    {
     "cell_type": "code",
     "collapsed": false,
     "input": [
      "excelfile = pd.io.parsers.ExcelFile('/Users/maye/Dropbox/DDocuments/DIVINER/Diviner Commanding 130520.xls')"
     ],
     "language": "python",
     "metadata": {},
     "outputs": [],
     "prompt_number": 2
    },
    {
     "cell_type": "code",
     "collapsed": false,
     "input": [
      "excelfile.sheet_names"
     ],
     "language": "python",
     "metadata": {},
     "outputs": [
      {
       "metadata": {},
       "output_type": "pyout",
       "prompt_number": 3,
       "text": [
        "[u'FDF13_2009195_2009202_N01', u'Sheet1']"
       ]
      }
     ],
     "prompt_number": 3
    },
    {
     "cell_type": "code",
     "collapsed": false,
     "input": [
      "df = excelfile.parse('FDF13_2009195_2009202_N01', header=2, skiprows=2, index_col=0, parse_cols=\"A:K\")"
     ],
     "language": "python",
     "metadata": {},
     "outputs": [],
     "prompt_number": 4
    },
    {
     "cell_type": "code",
     "collapsed": false,
     "input": [
      "df"
     ],
     "language": "python",
     "metadata": {},
     "outputs": [
      {
       "html": [
        "<pre>\n",
        "&lt;class 'pandas.core.frame.DataFrame'&gt;\n",
        "Index: 25421 entries, nan to 2013-146T22:59:46\n",
        "Data columns (total 10 columns):\n",
        "SCLK          22985  non-null values\n",
        "Unnamed: 2    17693  non-null values\n",
        "E. Long       17719  non-null values\n",
        "Orbit         17719  non-null values\n",
        "Unnamed: 5    17719  non-null values\n",
        "OST_i         17558  non-null values\n",
        "I_Err         3361  non-null values\n",
        "D_Err         205  non-null values\n",
        "I_Rej         1576  non-null values\n",
        "Event         23927  non-null values\n",
        "dtypes: float64(5), object(5)\n",
        "</pre>"
       ],
       "metadata": {},
       "output_type": "pyout",
       "prompt_number": 5,
       "text": [
        "<class 'pandas.core.frame.DataFrame'>\n",
        "Index: 25421 entries, nan to 2013-146T22:59:46\n",
        "Data columns (total 10 columns):\n",
        "SCLK          22985  non-null values\n",
        "Unnamed: 2    17693  non-null values\n",
        "E. Long       17719  non-null values\n",
        "Orbit         17719  non-null values\n",
        "Unnamed: 5    17719  non-null values\n",
        "OST_i         17558  non-null values\n",
        "I_Err         3361  non-null values\n",
        "D_Err         205  non-null values\n",
        "I_Rej         1576  non-null values\n",
        "Event         23927  non-null values\n",
        "dtypes: float64(5), object(5)"
       ]
      }
     ],
     "prompt_number": 5
    },
    {
     "cell_type": "code",
     "collapsed": false,
     "input": [
      "df.Event.value_counts()"
     ],
     "language": "python",
     "metadata": {},
     "outputs": [
      {
       "metadata": {},
       "output_type": "pyout",
       "prompt_number": 6,
       "text": [
        "EQX                                 17111\n",
        "DLFREE                                847\n",
        "DLFRZ (Already Frozen)                824\n",
        "DLFRZ (ATS) (LROC Oblique Slew)       809\n",
        "DLSAFE (Already Safed)                736\n",
        "DLRESUME                              672\n",
        "IDLE_ZERO Slot 0                      292\n",
        "SCLK_HIGH                             194\n",
        "DLSAFE (ATS) (LROC Oblique Slew)      180\n",
        "DLSAFE (ATS) (Delta-H)                 64\n",
        "DLSAFE (ATS) (LAMP Airglow Cal)        49\n",
        "DLSAFE (ATS) (CRaTER 90 deg Cal)       49\n",
        "EQX ZPO                                45\n",
        "EQX                                    38\n",
        "EQX LLS                                37\n",
        "...\n",
        "EQX AP139Z                                   1\n",
        "EQX  DLRE Earth Scan 09, SCT_IFC, EPO        1\n",
        "Uplink AP139Z                                1\n",
        "Uplink NST Tables for 09/25/09 - 10/01/09    1\n",
        "EQX SCP II                                   1\n",
        "SETTEMP (OBA,28500, 38)                      1\n",
        "DLSAFE (ATS) (YAW-flip, SK21b)               1\n",
        "DLRESUME (Delta-H)                           1\n",
        "Uplink  EATs before ES-36                    1\n",
        "Uplink NSTs for 9/13 - 9/17/2012             1\n",
        "Uplink NSTs for 8/19/10 - 8/25/10            1\n",
        "Uplink NST Tables for 10/22/09 - 10/28/09    1\n",
        "Uplink NST Tables for 12/10/09 - 12/16/09    1\n",
        "DLSAFE (ATS) (Delta-H, SK-28a)               1\n",
        "LRO Ka-band Anomaly Detected                 1\n",
        "Length: 1342, dtype: int64"
       ]
      }
     ],
     "prompt_number": 6
    },
    {
     "cell_type": "code",
     "collapsed": false,
     "input": [
      "df.Event.dtype"
     ],
     "language": "python",
     "metadata": {},
     "outputs": [
      {
       "metadata": {},
       "output_type": "pyout",
       "prompt_number": 67,
       "text": [
        "dtype('object')"
       ]
      }
     ],
     "prompt_number": 67
    },
    {
     "cell_type": "code",
     "collapsed": false,
     "input": [
      "def filter_events(event):\n",
      "    try:\n",
      "        return event.split()[0]\n",
      "    except AttributeError:\n",
      "        return event\n",
      "df['filtered_events'] = df.Event.map(filter_events)"
     ],
     "language": "python",
     "metadata": {},
     "outputs": [],
     "prompt_number": 69
    },
    {
     "cell_type": "code",
     "collapsed": false,
     "input": [
      "sorted_events = df.filtered_events.value_counts()  "
     ],
     "language": "python",
     "metadata": {},
     "outputs": [],
     "prompt_number": 71
    },
    {
     "cell_type": "code",
     "collapsed": false,
     "input": [
      "sorted_events[sorted_events > 1]"
     ],
     "language": "python",
     "metadata": {},
     "outputs": [
      {
       "metadata": {},
       "output_type": "pyout",
       "prompt_number": 76,
       "text": [
        "EQX                 17673\n",
        "DLFRZ                1677\n",
        "DLSAFE               1468\n",
        "DLFREE                849\n",
        "DLRESUME              737\n",
        "Uplink                681\n",
        "IDLE_ZERO             292\n",
        "SCLK_HIGH             194\n",
        "SETTEMP                53\n",
        "LLS                    30\n",
        "Achieve                20\n",
        "Begin                  20\n",
        "EQX_MISSING            15\n",
        "End                    12\n",
        "Start                  12\n",
        "Diviner                12\n",
        "dl_pwron               11\n",
        "dl_startup_patch       11\n",
        "Spacecraft             10\n",
        "Last                   10\n",
        "DLRE                    9\n",
        "YAW                     8\n",
        "Enable                  8\n",
        "Disable                 8\n",
        "LRO                     8\n",
        "Eclipse                 7\n",
        "GRAIL                   6\n",
        "EQX_EXTRA               6\n",
        "Load                    5\n",
        "LROC                    5\n",
        "Off-nadir               5\n",
        "dl_resume               5\n",
        "ATS                     4\n",
        "dl_load                 4\n",
        "RESUME                  4\n",
        "AP-114                  3\n",
        "Off-Nadir               3\n",
        "SCLK_LOW                2\n",
        "Minimum                 2\n",
        "Solar                   2\n",
        "90                      2\n",
        "Discontinue             2\n",
        "dtype: int64"
       ]
      }
     ],
     "prompt_number": 76
    },
    {
     "cell_type": "code",
     "collapsed": false,
     "input": [
      "df['EQX'] = df.Event == 'EQX'"
     ],
     "language": "python",
     "metadata": {},
     "outputs": [],
     "prompt_number": 8
    },
    {
     "cell_type": "code",
     "collapsed": false,
     "input": [
      "df.EQX.plot(style='*')"
     ],
     "language": "python",
     "metadata": {},
     "outputs": [
      {
       "metadata": {},
       "output_type": "pyout",
       "prompt_number": 12,
       "text": [
        "<matplotlib.axes.AxesSubplot at 0x119e36850>"
       ]
      }
     ],
     "prompt_number": 12
    },
    {
     "cell_type": "code",
     "collapsed": false,
     "input": [
      "from scipy import ndimage as nd"
     ],
     "language": "python",
     "metadata": {},
     "outputs": [],
     "prompt_number": 13
    },
    {
     "cell_type": "code",
     "collapsed": false,
     "input": [
      "nd.label(df.EQX)"
     ],
     "language": "python",
     "metadata": {},
     "outputs": [
      {
       "metadata": {},
       "output_type": "pyout",
       "prompt_number": 16,
       "text": [
        "(array([   0,    0,    0, ..., 4103, 4103, 4103], dtype=int32), 4103)"
       ]
      }
     ],
     "prompt_number": 16
    },
    {
     "cell_type": "code",
     "collapsed": false,
     "input": [
      "slices = nd.find_objects(df.EQX_labels)"
     ],
     "language": "python",
     "metadata": {},
     "outputs": [],
     "prompt_number": 37
    },
    {
     "cell_type": "code",
     "collapsed": false,
     "input": [
      "max_length= 0\n",
      "best_slice = 0\n",
      "for slice in slices:\n",
      "    max_length = max(max_length, len(df.EQX[slice]))\n",
      "    if max_length == 33:\n",
      "        best_slice = slice\n",
      "        break"
     ],
     "language": "python",
     "metadata": {},
     "outputs": [],
     "prompt_number": 45
    },
    {
     "cell_type": "code",
     "collapsed": false,
     "input": [
      "max_length"
     ],
     "language": "python",
     "metadata": {},
     "outputs": [
      {
       "metadata": {},
       "output_type": "pyout",
       "prompt_number": 46,
       "text": [
        "33"
       ]
      }
     ],
     "prompt_number": 46
    },
    {
     "cell_type": "code",
     "collapsed": false,
     "input": [
      "df.EQX[best_slice]"
     ],
     "language": "python",
     "metadata": {},
     "outputs": [
      {
       "metadata": {},
       "output_type": "pyout",
       "prompt_number": 47,
       "text": [
        "SCET\n",
        "2009-293T01:40:09    True\n",
        "2009-293T03:33:17    True\n",
        "2009-293T05:26:25    True\n",
        "2009-293T07:19:33    True\n",
        "2009-293T09:12:41    True\n",
        "2009-293T11:05:49    True\n",
        "2009-293T12:58:57    True\n",
        "2009-293T14:52:05    True\n",
        "2009-293T16:45:12    True\n",
        "2009-293T18:38:20    True\n",
        "2009-293T20:31:28    True\n",
        "2009-293T22:24:37    True\n",
        "2009-294T00:17:45    True\n",
        "2009-294T02:10:54    True\n",
        "2009-294T04:04:03    True\n",
        "2009-294T05:57:12    True\n",
        "2009-294T07:50:20    True\n",
        "2009-294T09:43:29    True\n",
        "2009-294T11:36:38    True\n",
        "2009-294T13:29:47    True\n",
        "2009-294T15:22:57    True\n",
        "2009-294T17:16:06    True\n",
        "2009-294T19:09:15    True\n",
        "2009-294T21:02:24    True\n",
        "2009-294T22:55:34    True\n",
        "2009-295T00:48:43    True\n",
        "2009-295T02:41:53    True\n",
        "2009-295T04:35:02    True\n",
        "2009-295T06:28:12    True\n",
        "2009-295T08:21:22    True\n",
        "2009-295T10:14:32    True\n",
        "2009-295T12:07:41    True\n",
        "2009-295T14:00:51    True\n",
        "Name: EQX, dtype: bool"
       ]
      }
     ],
     "prompt_number": 47
    },
    {
     "cell_type": "code",
     "collapsed": false,
     "input": [
      "df['EQX_labels'] = nd.label(df.EQX)[0]"
     ],
     "language": "python",
     "metadata": {},
     "outputs": [],
     "prompt_number": 17
    },
    {
     "cell_type": "code",
     "collapsed": false,
     "input": [
      "df.EQX_labels.plot(style='*')"
     ],
     "language": "python",
     "metadata": {},
     "outputs": [
      {
       "metadata": {},
       "output_type": "pyout",
       "prompt_number": 21,
       "text": [
        "<matplotlib.axes.AxesSubplot at 0x119886390>"
       ]
      }
     ],
     "prompt_number": 21
    },
    {
     "cell_type": "code",
     "collapsed": false,
     "input": [
      "df[df.Orbit==8172].index"
     ],
     "language": "python",
     "metadata": {},
     "outputs": [
      {
       "output_type": "pyout",
       "prompt_number": 8,
       "text": [
        "Index([2011-091T20:43:23], dtype=object)"
       ]
      }
     ],
     "prompt_number": 8
    },
    {
     "cell_type": "code",
     "collapsed": false,
     "input": [
      "df[df.Orbit==8178].index"
     ],
     "language": "python",
     "metadata": {},
     "outputs": [
      {
       "output_type": "pyout",
       "prompt_number": 9,
       "text": [
        "Index([2011-092T08:01:47], dtype=object)"
       ]
      }
     ],
     "prompt_number": 9
    },
    {
     "cell_type": "code",
     "collapsed": false,
     "input": [
      "from datetime import datetime as dt"
     ],
     "language": "python",
     "metadata": {},
     "outputs": [],
     "prompt_number": 11
    },
    {
     "cell_type": "code",
     "collapsed": false,
     "input": [
      "dt.strptime('2011-091','%Y-%j')"
     ],
     "language": "python",
     "metadata": {},
     "outputs": [
      {
       "output_type": "pyout",
       "prompt_number": 12,
       "text": [
        "datetime.datetime(2011, 4, 1, 0, 0)"
       ]
      }
     ],
     "prompt_number": 12
    },
    {
     "cell_type": "code",
     "collapsed": false,
     "input": [
      "import urllib2"
     ],
     "language": "python",
     "metadata": {},
     "outputs": [],
     "prompt_number": 6
    },
    {
     "cell_type": "code",
     "collapsed": false,
     "input": [
      "data = urllib2.urlopen('http://luna1.diviner.ucla.edu/~esn/south_pole/anom/anomalous_orbits.txt').readlines()"
     ],
     "language": "python",
     "metadata": {},
     "outputs": [],
     "prompt_number": 15
    },
    {
     "cell_type": "code",
     "collapsed": false,
     "input": [
      "exclusions = pd.io.parsers.read_table(urllib2.urlopen('http://luna1.diviner.ucla.edu/~esn/south_pole/anom/anomalous_orbits.txt'), sep='\\t',index_col=0)\n",
      "exclusions.head()\n"
     ],
     "language": "python",
     "metadata": {},
     "outputs": [
      {
       "html": [
        "<div style=\"max-height:1000px;max-width:1500px;overflow:auto;\">\n",
        "<table border=\"1\" class=\"dataframe\">\n",
        "  <thead>\n",
        "    <tr style=\"text-align: right;\">\n",
        "      <th></th>\n",
        "      <th>Deviation</th>\n",
        "      <th>Mean TBOL</th>\n",
        "    </tr>\n",
        "    <tr>\n",
        "      <th>Orbit</th>\n",
        "      <th></th>\n",
        "      <th></th>\n",
        "    </tr>\n",
        "  </thead>\n",
        "  <tbody>\n",
        "    <tr>\n",
        "      <th>8325 </th>\n",
        "      <td> 130.38</td>\n",
        "      <td> 221.68</td>\n",
        "    </tr>\n",
        "    <tr>\n",
        "      <th>8326 </th>\n",
        "      <td> 106.60</td>\n",
        "      <td> 203.12</td>\n",
        "    </tr>\n",
        "    <tr>\n",
        "      <th>12109</th>\n",
        "      <td> 103.15</td>\n",
        "      <td> 196.91</td>\n",
        "    </tr>\n",
        "    <tr>\n",
        "      <th>3163 </th>\n",
        "      <td>  96.65</td>\n",
        "      <td> 188.39</td>\n",
        "    </tr>\n",
        "    <tr>\n",
        "      <th>1837 </th>\n",
        "      <td>  90.58</td>\n",
        "      <td> 230.42</td>\n",
        "    </tr>\n",
        "  </tbody>\n",
        "</table>\n",
        "</div>"
       ],
       "output_type": "pyout",
       "prompt_number": 23,
       "text": [
        "       Deviation  Mean TBOL\n",
        "Orbit                      \n",
        "8325      130.38     221.68\n",
        "8326      106.60     203.12\n",
        "12109     103.15     196.91\n",
        "3163       96.65     188.39\n",
        "1837       90.58     230.42"
       ]
      }
     ],
     "prompt_number": 23
    },
    {
     "cell_type": "code",
     "collapsed": false,
     "input": [
      "ch7"
     ],
     "language": "python",
     "metadata": {},
     "outputs": [
      {
       "ename": "NameError",
       "evalue": "name 'ch7' is not defined",
       "output_type": "pyerr",
       "traceback": [
        "---------------------------------------------------------------------------\nNameError                                 Traceback (most recent call last)",
        "<ipython-input-1-2a65af4d2d50> in <module>()\n----> 1 ch7\n",
        "NameError: name 'ch7' is not defined"
       ]
      }
     ],
     "prompt_number": 1
    },
    {
     "cell_type": "code",
     "collapsed": false,
     "input": [],
     "language": "python",
     "metadata": {},
     "outputs": []
    }
   ],
   "metadata": {}
  }
 ]
}