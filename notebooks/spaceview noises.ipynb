{
 "cells": [
  {
   "cell_type": "code",
   "execution_count": 3,
   "metadata": {
    "collapsed": false,
    "jupyter": {
     "outputs_hidden": false
    }
   },
   "outputs": [],
   "source": [
    "from diviner import calib\n",
    "from diviner import file_utils as fu\n",
    "from diviner import plot_utils as pu"
   ]
  },
  {
   "cell_type": "code",
   "execution_count": 4,
   "metadata": {
    "collapsed": false,
    "jupyter": {
     "outputs_hidden": false
    }
   },
   "outputs": [],
   "source": [
    "plt.rcParams['figure.figsize']=(14,10)"
   ]
  },
  {
   "cell_type": "code",
   "execution_count": 5,
   "metadata": {
    "collapsed": false,
    "jupyter": {
     "outputs_hidden": false
    }
   },
   "outputs": [
    {
     "name": "stdout",
     "output_type": "stream",
     "text": [
      "No files found. Searched like this:\n",
      "\n",
      "/luna1/marks/div247/201104/20110412*\n"
     ]
    },
    {
     "ename": "IndexError",
     "evalue": "list index out of range",
     "output_type": "error",
     "traceback": [
      "\u001b[0;31m---------------------------------------------------------------------------\u001b[0m",
      "\u001b[0;31mIndexError\u001b[0m                                Traceback (most recent call last)",
      "\u001b[0;32m<ipython-input-5-e84af7dcc9ff>\u001b[0m in \u001b[0;36m<module>\u001b[0;34m\u001b[0m\n\u001b[0;32m----> 1\u001b[0;31m \u001b[0mpump\u001b[0m \u001b[0;34m=\u001b[0m \u001b[0mfu\u001b[0m\u001b[0;34m.\u001b[0m\u001b[0mDiv247DataPump\u001b[0m\u001b[0;34m(\u001b[0m\u001b[0;34m'20110412'\u001b[0m\u001b[0;34m)\u001b[0m\u001b[0;34m\u001b[0m\u001b[0;34m\u001b[0m\u001b[0m\n\u001b[0m",
      "\u001b[0;32m~/src/diviner/diviner/file_utils.py\u001b[0m in \u001b[0;36m__init__\u001b[0;34m(self, tstr)\u001b[0m\n\u001b[1;32m    827\u001b[0m         \u001b[0mself\u001b[0m\u001b[0;34m.\u001b[0m\u001b[0mtime\u001b[0m \u001b[0;34m=\u001b[0m \u001b[0mdt\u001b[0m\u001b[0;34m.\u001b[0m\u001b[0mstrptime\u001b[0m\u001b[0;34m(\u001b[0m\u001b[0mtstr\u001b[0m\u001b[0;34m,\u001b[0m \u001b[0mself\u001b[0m\u001b[0;34m.\u001b[0m\u001b[0mtstr_parser\u001b[0m\u001b[0;34m[\u001b[0m\u001b[0mlen\u001b[0m\u001b[0;34m(\u001b[0m\u001b[0mtstr\u001b[0m\u001b[0;34m)\u001b[0m\u001b[0;34m]\u001b[0m\u001b[0;34m)\u001b[0m\u001b[0;34m\u001b[0m\u001b[0;34m\u001b[0m\u001b[0m\n\u001b[1;32m    828\u001b[0m         \u001b[0mself\u001b[0m\u001b[0;34m.\u001b[0m\u001b[0mfnames\u001b[0m \u001b[0;34m=\u001b[0m \u001b[0mself\u001b[0m\u001b[0;34m.\u001b[0m\u001b[0mfind_fnames\u001b[0m\u001b[0;34m(\u001b[0m\u001b[0;34m)\u001b[0m\u001b[0;34m\u001b[0m\u001b[0;34m\u001b[0m\u001b[0m\n\u001b[0;32m--> 829\u001b[0;31m         \u001b[0mself\u001b[0m\u001b[0;34m.\u001b[0m\u001b[0mfname\u001b[0m \u001b[0;34m=\u001b[0m \u001b[0mFileName\u001b[0m\u001b[0;34m(\u001b[0m\u001b[0mself\u001b[0m\u001b[0;34m.\u001b[0m\u001b[0mfnames\u001b[0m\u001b[0;34m[\u001b[0m\u001b[0;36m0\u001b[0m\u001b[0;34m]\u001b[0m\u001b[0;34m)\u001b[0m\u001b[0;34m\u001b[0m\u001b[0;34m\u001b[0m\u001b[0m\n\u001b[0m\u001b[1;32m    830\u001b[0m         \u001b[0mself\u001b[0m\u001b[0;34m.\u001b[0m\u001b[0mfnames\u001b[0m\u001b[0;34m.\u001b[0m\u001b[0msort\u001b[0m\u001b[0;34m(\u001b[0m\u001b[0;34m)\u001b[0m\u001b[0;34m\u001b[0m\u001b[0;34m\u001b[0m\u001b[0m\n\u001b[1;32m    831\u001b[0m \u001b[0;34m\u001b[0m\u001b[0m\n",
      "\u001b[0;31mIndexError\u001b[0m: list index out of range"
     ]
    }
   ],
   "source": [
    "pump = fu.Div247DataPump('20110412')"
   ]
  },
  {
   "cell_type": "code",
   "execution_count": 7,
   "metadata": {
    "collapsed": false,
    "jupyter": {
     "outputs_hidden": false
    }
   },
   "outputs": [
    {
     "name": "stdout",
     "output_type": "stream",
     "text": [
      "/Users/maye/data/diviner/div247/201104/2011041200.div247\n",
      "/Users/maye/data/diviner/div247/201104/2011041201.div247\n",
      "/Users/maye/data/diviner/div247/201104/2011041202.div247\n",
      "/Users/maye/data/diviner/div247/201104/2011041203.div247\n",
      "/Users/maye/data/diviner/div247/201104/2011041204.div247\n",
      "/Users/maye/data/diviner/div247/201104/2011041205.div247\n",
      "/Users/maye/data/diviner/div247/201104/2011041206.div247\n",
      "/Users/maye/data/diviner/div247/201104/2011041207.div247\n",
      "/Users/maye/data/diviner/div247/201104/2011041208.div247\n",
      "/Users/maye/data/diviner/div247/201104/2011041209.div247\n",
      "/Users/maye/data/diviner/div247/201104/2011041210.div247\n",
      "/Users/maye/data/diviner/div247/201104/2011041211.div247\n",
      "/Users/maye/data/diviner/div247/201104/2011041212.div247\n",
      "/Users/maye/data/diviner/div247/201104/2011041213.div247\n",
      "/Users/maye/data/diviner/div247/201104/2011041214.div247\n",
      "/Users/maye/data/diviner/div247/201104/2011041215.div247\n",
      "/Users/maye/data/diviner/div247/201104/2011041216.div247\n",
      "/Users/maye/data/diviner/div247/201104/2011041217.div247\n",
      "/Users/maye/data/diviner/div247/201104/2011041218.div247\n",
      "/Users/maye/data/diviner/div247/201104/2011041219.div247\n",
      "/Users/maye/data/diviner/div247/201104/2011041220.div247\n",
      "/Users/maye/data/diviner/div247/201104/2011041221.div247\n",
      "/Users/maye/data/diviner/div247/201104/2011041222.div247\n",
      "/Users/maye/data/diviner/div247/201104/2011041223.div247\n"
     ]
    }
   ],
   "source": [
    "sv_stds = []\n",
    "for fname in pump.fnames:\n",
    "    with open(fname) as f:\n",
    "        df = pump.process_one_file(f)\n",
    "        df = pump.clean_final_df(df)\n",
    "        \n",
    "    "
   ]
  },
  {
   "cell_type": "code",
   "execution_count": 20,
   "metadata": {
    "collapsed": false,
    "jupyter": {
     "outputs_hidden": false
    }
   },
   "outputs": [],
   "source": [
    "f = open(pump.fnames[0])"
   ]
  },
  {
   "cell_type": "code",
   "execution_count": 21,
   "metadata": {
    "collapsed": false,
    "jupyter": {
     "outputs_hidden": false
    }
   },
   "outputs": [
    {
     "data": {
      "text/html": [
       "<pre>\n",
       "&lt;class 'pandas.core.frame.DataFrame'&gt;\n",
       "DatetimeIndex: 28112 entries, 2011-04-12 00:00:01.984000 to 2011-04-12 01:00:00.235000\n",
       "Columns: 252 entries, sclk to is_calib\n",
       "dtypes: bool(6), float64(241), int32(4), int64(1)\n",
       "</pre>"
      ],
      "text/plain": [
       "<class 'pandas.core.frame.DataFrame'>\n",
       "DatetimeIndex: 28112 entries, 2011-04-12 00:00:01.984000 to 2011-04-12 01:00:00.235000\n",
       "Columns: 252 entries, sclk to is_calib\n",
       "dtypes: bool(6), float64(241), int32(4), int64(1)"
      ]
     },
     "execution_count": 21,
     "metadata": {},
     "output_type": "execute_result"
    }
   ],
   "source": [
    "df = pump.process_one_file(f)\n",
    "df = pump.clean_final_df(df)\n",
    "df"
   ]
  },
  {
   "cell_type": "code",
   "execution_count": 48,
   "metadata": {
    "collapsed": false,
    "jupyter": {
     "outputs_hidden": false
    }
   },
   "outputs": [
    {
     "name": "stdout",
     "output_type": "stream",
     "text": [
      "2011041200.div247\n",
      "2011041201.div247\n",
      "2011041202.div247\n",
      "2011041203.div247\n",
      "2011041204.div247\n",
      "2011041205.div247\n",
      "2011041206.div247\n",
      "2011041207.div247\n",
      "2011041208.div247\n",
      "2011041209.div247\n"
     ]
    }
   ],
   "source": [
    "df = pump.get_n_hours_from_t(10,0)\n",
    "                             "
   ]
  },
  {
   "cell_type": "code",
   "execution_count": 54,
   "metadata": {
    "collapsed": false,
    "jupyter": {
     "outputs_hidden": false
    }
   },
   "outputs": [],
   "source": [
    "grouped = df.groupby(df.sv_block_labels)"
   ]
  },
  {
   "cell_type": "code",
   "execution_count": 58,
   "metadata": {
    "collapsed": false,
    "jupyter": {
     "outputs_hidden": false
    }
   },
   "outputs": [],
   "source": [
    "import pandas as pd"
   ]
  },
  {
   "cell_type": "code",
   "execution_count": 93,
   "metadata": {
    "collapsed": false,
    "jupyter": {
     "outputs_hidden": false
    }
   },
   "outputs": [],
   "source": [
    "def get_sv_std(df):\n",
    "    data = df[df.is_spaceview]\n",
    "    return data.std()"
   ]
  },
  {
   "cell_type": "code",
   "execution_count": 78,
   "metadata": {
    "collapsed": false,
    "jupyter": {
     "outputs_hidden": false
    }
   },
   "outputs": [],
   "source": [
    "times = pd.DatetimeIndex(grouped.agg(calib.get_mean_time).b3_11)"
   ]
  },
  {
   "cell_type": "code",
   "execution_count": 79,
   "metadata": {
    "collapsed": false,
    "jupyter": {
     "outputs_hidden": false
    }
   },
   "outputs": [
    {
     "data": {
      "text/html": [
       "<pre>\n",
       "&lt;class 'pandas.core.frame.DataFrame'&gt;\n",
       "Int64Index: 129 entries, 0 to 128\n",
       "Columns: 189 entries, a1_01 to b3_21\n",
       "dtypes: float64(189)\n",
       "</pre>"
      ],
      "text/plain": [
       "<class 'pandas.core.frame.DataFrame'>\n",
       "Int64Index: 129 entries, 0 to 128\n",
       "Columns: 189 entries, a1_01 to b3_21\n",
       "dtypes: float64(189)"
      ]
     },
     "execution_count": 79,
     "metadata": {},
     "output_type": "execute_result"
    }
   ],
   "source": [
    "stds"
   ]
  },
  {
   "cell_type": "code",
   "execution_count": 98,
   "metadata": {
    "collapsed": false,
    "jupyter": {
     "outputs_hidden": false
    }
   },
   "outputs": [],
   "source": [
    "stds = calib.get_data_columns(grouped.agg(get_sv_std))"
   ]
  },
  {
   "cell_type": "code",
   "execution_count": 110,
   "metadata": {
    "collapsed": false,
    "jupyter": {
     "outputs_hidden": false
    }
   },
   "outputs": [],
   "source": [
    "temps = df.filter(regex='_temp').groupby(df.sv_block_labels).mean()"
   ]
  },
  {
   "cell_type": "code",
   "execution_count": 111,
   "metadata": {
    "collapsed": false,
    "jupyter": {
     "outputs_hidden": false
    }
   },
   "outputs": [
    {
     "data": {
      "text/html": [
       "<pre>\n",
       "&lt;class 'pandas.core.frame.DataFrame'&gt;\n",
       "Int64Index: 129 entries, 0 to 128\n",
       "Data columns (total 20 columns):\n",
       "fpa_temp             129  non-null values\n",
       "fpb_temp             129  non-null values\n",
       "baffle_a_temp        129  non-null values\n",
       "baffle_b_temp        129  non-null values\n",
       "bb_1_temp            129  non-null values\n",
       "oba_1_temp           129  non-null values\n",
       "hybrid_temp          78  non-null values\n",
       "fpa_temp_cyc         76  non-null values\n",
       "fpb_temp_cyc         81  non-null values\n",
       "baffle_a_temp_cyc    79  non-null values\n",
       "baffle_b_temp_cyc    82  non-null values\n",
       "oba_1_temp_cyc       80  non-null values\n",
       "oba_2_temp           85  non-null values\n",
       "bb_1_temp_cyc        83  non-null values\n",
       "bb_2_temp            82  non-null values\n",
       "solar_target_temp    86  non-null values\n",
       "yoke_temp            91  non-null values\n",
       "el_actuator_temp     89  non-null values\n",
       "az_actuator_temp     89  non-null values\n",
       "solar_base_temp      90  non-null values\n",
       "dtypes: float64(20)\n",
       "</pre>"
      ],
      "text/plain": [
       "<class 'pandas.core.frame.DataFrame'>\n",
       "Int64Index: 129 entries, 0 to 128\n",
       "Data columns (total 20 columns):\n",
       "fpa_temp             129  non-null values\n",
       "fpb_temp             129  non-null values\n",
       "baffle_a_temp        129  non-null values\n",
       "baffle_b_temp        129  non-null values\n",
       "bb_1_temp            129  non-null values\n",
       "oba_1_temp           129  non-null values\n",
       "hybrid_temp          78  non-null values\n",
       "fpa_temp_cyc         76  non-null values\n",
       "fpb_temp_cyc         81  non-null values\n",
       "baffle_a_temp_cyc    79  non-null values\n",
       "baffle_b_temp_cyc    82  non-null values\n",
       "oba_1_temp_cyc       80  non-null values\n",
       "oba_2_temp           85  non-null values\n",
       "bb_1_temp_cyc        83  non-null values\n",
       "bb_2_temp            82  non-null values\n",
       "solar_target_temp    86  non-null values\n",
       "yoke_temp            91  non-null values\n",
       "el_actuator_temp     89  non-null values\n",
       "az_actuator_temp     89  non-null values\n",
       "solar_base_temp      90  non-null values\n",
       "dtypes: float64(20)"
      ]
     },
     "execution_count": 111,
     "metadata": {},
     "output_type": "execute_result"
    }
   ],
   "source": [
    "temps"
   ]
  },
  {
   "cell_type": "code",
   "execution_count": 95,
   "metadata": {
    "collapsed": false,
    "jupyter": {
     "outputs_hidden": false
    }
   },
   "outputs": [],
   "source": [
    "stds.index = times"
   ]
  },
  {
   "cell_type": "code",
   "execution_count": 120,
   "metadata": {
    "collapsed": false,
    "jupyter": {
     "outputs_hidden": false
    }
   },
   "outputs": [
    {
     "data": {
      "text/plain": [
       "<matplotlib.text.Text at 0x1137a0f90>"
      ]
     },
     "execution_count": 120,
     "metadata": {},
     "output_type": "execute_result"
    }
   ],
   "source": [
    "stds.filter(regex='b[1-3]_11').plot()\n",
    "temps.plot()\n",
    "legend(ncol=4,loc='lower center')\n",
    "title('Spaceview STDs, not skipped')\n",
    "xlabel('Mean time of spaceview [UTC]')\n",
    "ylabel('STD of spaceview')"
   ]
  },
  {
   "cell_type": "code",
   "execution_count": 43,
   "metadata": {
    "collapsed": false,
    "jupyter": {
     "outputs_hidden": false
    }
   },
   "outputs": [
    {
     "data": {
      "text/plain": [
       "<matplotlib.axes.AxesSubplot at 0x118bd8850>"
      ]
     },
     "execution_count": 43,
     "metadata": {},
     "output_type": "execute_result"
    }
   ],
   "source": [
    "calib.get_data_columns(newdf).b3_11[1:].plot()"
   ]
  },
  {
   "cell_type": "code",
   "execution_count": 24,
   "metadata": {
    "collapsed": false,
    "jupyter": {
     "outputs_hidden": false
    }
   },
   "outputs": [
    {
     "data": {
      "text/plain": [
       "0     26672\n",
       "11      128\n",
       "9       128\n",
       "7       128\n",
       "5       128\n",
       "3       128\n",
       "1       128\n",
       "12      112\n",
       "10      112\n",
       "8       112\n",
       "6       112\n",
       "4       112\n",
       "2       112\n",
       "dtype: int64"
      ]
     },
     "execution_count": 24,
     "metadata": {},
     "output_type": "execute_result"
    }
   ],
   "source": [
    "df.sv_block_labels.value_counts()"
   ]
  },
  {
   "cell_type": "code",
   "execution_count": 19,
   "metadata": {
    "collapsed": false,
    "jupyter": {
     "outputs_hidden": false
    }
   },
   "outputs": [
    {
     "data": {
      "text/html": [
       "<pre>\n",
       "&lt;class 'pandas.core.frame.DataFrame'&gt;\n",
       "Index: 0 entries\n",
       "Columns: 252 entries, sclk to is_calib\n",
       "dtypes: bool(6), float64(241), int32(4), int64(1)\n",
       "</pre>"
      ],
      "text/plain": [
       "<class 'pandas.core.frame.DataFrame'>\n",
       "Index: 0 entries\n",
       "Columns: 252 entries, sclk to is_calib\n",
       "dtypes: bool(6), float64(241), int32(4), int64(1)"
      ]
     },
     "execution_count": 19,
     "metadata": {},
     "output_type": "execute_result"
    }
   ],
   "source": [
    "df"
   ]
  },
  {
   "cell_type": "code",
   "execution_count": null,
   "metadata": {
    "collapsed": false,
    "jupyter": {
     "outputs_hidden": false
    }
   },
   "outputs": [],
   "source": []
  }
 ],
 "metadata": {
  "kernelspec": {
   "display_name": "Python [conda env:py37] *",
   "language": "python",
   "name": "conda-env-py37-py"
  },
  "language_info": {
   "codemirror_mode": {
    "name": "ipython",
    "version": 3
   },
   "file_extension": ".py",
   "mimetype": "text/x-python",
   "name": "python",
   "nbconvert_exporter": "python",
   "pygments_lexer": "ipython3",
   "version": "3.7.3"
  }
 },
 "nbformat": 4,
 "nbformat_minor": 4
}
