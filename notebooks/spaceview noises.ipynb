{
 "metadata": {
  "name": "spaceview noises",
  "signature": "sha256:85f5092574cc9a4af8aa2cf312ba6676f67547aa062cb418ff778f68fc2170f9"
 },
 "nbformat": 3,
 "nbformat_minor": 0,
 "worksheets": [
  {
   "cells": [
    {
     "cell_type": "code",
     "collapsed": false,
     "input": [
      "from diviner import calib\n",
      "from diviner import file_utils as fu\n",
      "from diviner import plot_utils as pu\n",
      "reload(fu)\n",
      "reload(calib)"
     ],
     "language": "python",
     "metadata": {},
     "outputs": [
      {
       "metadata": {},
       "output_type": "pyout",
       "prompt_number": 1,
       "text": [
        "<module 'diviner.calib' from '/Users/maye/Dropbox/src/diviner/calib.pyc'>"
       ]
      }
     ],
     "prompt_number": 1
    },
    {
     "cell_type": "code",
     "collapsed": false,
     "input": [
      "rcParams['figure.figsize']=(14,10)"
     ],
     "language": "python",
     "metadata": {},
     "outputs": [],
     "prompt_number": 2
    },
    {
     "cell_type": "code",
     "collapsed": false,
     "input": [
      "pump = fu.Div247DataPump('20110412')"
     ],
     "language": "python",
     "metadata": {},
     "outputs": [],
     "prompt_number": 5
    },
    {
     "cell_type": "code",
     "collapsed": false,
     "input": [
      "sv_stds = []\n",
      "for fname in pump.fnames:\n",
      "    with open(fname) as f:\n",
      "        df = pump.process_one_file(f)\n",
      "        df = pump.clean_final_df(df)\n",
      "        \n",
      "    "
     ],
     "language": "python",
     "metadata": {},
     "outputs": [
      {
       "output_type": "stream",
       "stream": "stdout",
       "text": [
        "/Users/maye/data/diviner/div247/201104/2011041200.div247\n",
        "/Users/maye/data/diviner/div247/201104/2011041201.div247\n",
        "/Users/maye/data/diviner/div247/201104/2011041202.div247\n",
        "/Users/maye/data/diviner/div247/201104/2011041203.div247\n",
        "/Users/maye/data/diviner/div247/201104/2011041204.div247\n",
        "/Users/maye/data/diviner/div247/201104/2011041205.div247\n",
        "/Users/maye/data/diviner/div247/201104/2011041206.div247\n",
        "/Users/maye/data/diviner/div247/201104/2011041207.div247\n",
        "/Users/maye/data/diviner/div247/201104/2011041208.div247\n",
        "/Users/maye/data/diviner/div247/201104/2011041209.div247\n",
        "/Users/maye/data/diviner/div247/201104/2011041210.div247\n",
        "/Users/maye/data/diviner/div247/201104/2011041211.div247\n",
        "/Users/maye/data/diviner/div247/201104/2011041212.div247\n",
        "/Users/maye/data/diviner/div247/201104/2011041213.div247\n",
        "/Users/maye/data/diviner/div247/201104/2011041214.div247\n",
        "/Users/maye/data/diviner/div247/201104/2011041215.div247\n",
        "/Users/maye/data/diviner/div247/201104/2011041216.div247\n",
        "/Users/maye/data/diviner/div247/201104/2011041217.div247\n",
        "/Users/maye/data/diviner/div247/201104/2011041218.div247\n",
        "/Users/maye/data/diviner/div247/201104/2011041219.div247\n",
        "/Users/maye/data/diviner/div247/201104/2011041220.div247\n",
        "/Users/maye/data/diviner/div247/201104/2011041221.div247\n",
        "/Users/maye/data/diviner/div247/201104/2011041222.div247\n",
        "/Users/maye/data/diviner/div247/201104/2011041223.div247\n"
       ]
      }
     ],
     "prompt_number": 7
    },
    {
     "cell_type": "code",
     "collapsed": false,
     "input": [
      "f = open(pump.fnames[0])"
     ],
     "language": "python",
     "metadata": {},
     "outputs": [],
     "prompt_number": 20
    },
    {
     "cell_type": "code",
     "collapsed": false,
     "input": [
      "df = pump.process_one_file(f)\n",
      "df = pump.clean_final_df(df)\n",
      "df"
     ],
     "language": "python",
     "metadata": {},
     "outputs": [
      {
       "html": [
        "<pre>\n",
        "&lt;class 'pandas.core.frame.DataFrame'&gt;\n",
        "DatetimeIndex: 28112 entries, 2011-04-12 00:00:01.984000 to 2011-04-12 01:00:00.235000\n",
        "Columns: 252 entries, sclk to is_calib\n",
        "dtypes: bool(6), float64(241), int32(4), int64(1)\n",
        "</pre>"
       ],
       "metadata": {},
       "output_type": "pyout",
       "prompt_number": 21,
       "text": [
        "<class 'pandas.core.frame.DataFrame'>\n",
        "DatetimeIndex: 28112 entries, 2011-04-12 00:00:01.984000 to 2011-04-12 01:00:00.235000\n",
        "Columns: 252 entries, sclk to is_calib\n",
        "dtypes: bool(6), float64(241), int32(4), int64(1)"
       ]
      }
     ],
     "prompt_number": 21
    },
    {
     "cell_type": "code",
     "collapsed": false,
     "input": [
      "df = pump.get_n_hours_from_t(10,0)\n",
      "                             "
     ],
     "language": "python",
     "metadata": {},
     "outputs": [
      {
       "output_type": "stream",
       "stream": "stdout",
       "text": [
        "2011041200.div247\n",
        "2011041201.div247"
       ]
      },
      {
       "output_type": "stream",
       "stream": "stdout",
       "text": [
        "\n",
        "2011041202.div247"
       ]
      },
      {
       "output_type": "stream",
       "stream": "stdout",
       "text": [
        "\n",
        "2011041203.div247"
       ]
      },
      {
       "output_type": "stream",
       "stream": "stdout",
       "text": [
        "\n",
        "2011041204.div247"
       ]
      },
      {
       "output_type": "stream",
       "stream": "stdout",
       "text": [
        "\n",
        "2011041205.div247"
       ]
      },
      {
       "output_type": "stream",
       "stream": "stdout",
       "text": [
        "\n",
        "2011041206.div247"
       ]
      },
      {
       "output_type": "stream",
       "stream": "stdout",
       "text": [
        "\n",
        "2011041207.div247"
       ]
      },
      {
       "output_type": "stream",
       "stream": "stdout",
       "text": [
        "\n",
        "2011041208.div247"
       ]
      },
      {
       "output_type": "stream",
       "stream": "stdout",
       "text": [
        "\n",
        "2011041209.div247"
       ]
      },
      {
       "output_type": "stream",
       "stream": "stdout",
       "text": [
        "\n"
       ]
      }
     ],
     "prompt_number": 48
    },
    {
     "cell_type": "code",
     "collapsed": false,
     "input": [
      "grouped = df.groupby(df.sv_block_labels)"
     ],
     "language": "python",
     "metadata": {},
     "outputs": [],
     "prompt_number": 54
    },
    {
     "cell_type": "code",
     "collapsed": false,
     "input": [
      "import pandas as pd"
     ],
     "language": "python",
     "metadata": {},
     "outputs": [],
     "prompt_number": 58
    },
    {
     "cell_type": "code",
     "collapsed": false,
     "input": [
      "def get_sv_std(df):\n",
      "    data = df[df.is_spaceview]\n",
      "    return data.std()"
     ],
     "language": "python",
     "metadata": {},
     "outputs": [],
     "prompt_number": 93
    },
    {
     "cell_type": "code",
     "collapsed": false,
     "input": [
      "times = pd.DatetimeIndex(grouped.agg(calib.get_mean_time).b3_11)"
     ],
     "language": "python",
     "metadata": {},
     "outputs": [],
     "prompt_number": 78
    },
    {
     "cell_type": "code",
     "collapsed": false,
     "input": [
      "stds"
     ],
     "language": "python",
     "metadata": {},
     "outputs": [
      {
       "html": [
        "<pre>\n",
        "&lt;class 'pandas.core.frame.DataFrame'&gt;\n",
        "Int64Index: 129 entries, 0 to 128\n",
        "Columns: 189 entries, a1_01 to b3_21\n",
        "dtypes: float64(189)\n",
        "</pre>"
       ],
       "metadata": {},
       "output_type": "pyout",
       "prompt_number": 79,
       "text": [
        "<class 'pandas.core.frame.DataFrame'>\n",
        "Int64Index: 129 entries, 0 to 128\n",
        "Columns: 189 entries, a1_01 to b3_21\n",
        "dtypes: float64(189)"
       ]
      }
     ],
     "prompt_number": 79
    },
    {
     "cell_type": "code",
     "collapsed": false,
     "input": [
      "stds = calib.get_data_columns(grouped.agg(get_sv_std))"
     ],
     "language": "python",
     "metadata": {},
     "outputs": [],
     "prompt_number": 98
    },
    {
     "cell_type": "code",
     "collapsed": false,
     "input": [
      "temps = df.filter(regex='_temp').groupby(df.sv_block_labels).mean()"
     ],
     "language": "python",
     "metadata": {},
     "outputs": [],
     "prompt_number": 110
    },
    {
     "cell_type": "code",
     "collapsed": false,
     "input": [
      "temps"
     ],
     "language": "python",
     "metadata": {},
     "outputs": [
      {
       "html": [
        "<pre>\n",
        "&lt;class 'pandas.core.frame.DataFrame'&gt;\n",
        "Int64Index: 129 entries, 0 to 128\n",
        "Data columns (total 20 columns):\n",
        "fpa_temp             129  non-null values\n",
        "fpb_temp             129  non-null values\n",
        "baffle_a_temp        129  non-null values\n",
        "baffle_b_temp        129  non-null values\n",
        "bb_1_temp            129  non-null values\n",
        "oba_1_temp           129  non-null values\n",
        "hybrid_temp          78  non-null values\n",
        "fpa_temp_cyc         76  non-null values\n",
        "fpb_temp_cyc         81  non-null values\n",
        "baffle_a_temp_cyc    79  non-null values\n",
        "baffle_b_temp_cyc    82  non-null values\n",
        "oba_1_temp_cyc       80  non-null values\n",
        "oba_2_temp           85  non-null values\n",
        "bb_1_temp_cyc        83  non-null values\n",
        "bb_2_temp            82  non-null values\n",
        "solar_target_temp    86  non-null values\n",
        "yoke_temp            91  non-null values\n",
        "el_actuator_temp     89  non-null values\n",
        "az_actuator_temp     89  non-null values\n",
        "solar_base_temp      90  non-null values\n",
        "dtypes: float64(20)\n",
        "</pre>"
       ],
       "metadata": {},
       "output_type": "pyout",
       "prompt_number": 111,
       "text": [
        "<class 'pandas.core.frame.DataFrame'>\n",
        "Int64Index: 129 entries, 0 to 128\n",
        "Data columns (total 20 columns):\n",
        "fpa_temp             129  non-null values\n",
        "fpb_temp             129  non-null values\n",
        "baffle_a_temp        129  non-null values\n",
        "baffle_b_temp        129  non-null values\n",
        "bb_1_temp            129  non-null values\n",
        "oba_1_temp           129  non-null values\n",
        "hybrid_temp          78  non-null values\n",
        "fpa_temp_cyc         76  non-null values\n",
        "fpb_temp_cyc         81  non-null values\n",
        "baffle_a_temp_cyc    79  non-null values\n",
        "baffle_b_temp_cyc    82  non-null values\n",
        "oba_1_temp_cyc       80  non-null values\n",
        "oba_2_temp           85  non-null values\n",
        "bb_1_temp_cyc        83  non-null values\n",
        "bb_2_temp            82  non-null values\n",
        "solar_target_temp    86  non-null values\n",
        "yoke_temp            91  non-null values\n",
        "el_actuator_temp     89  non-null values\n",
        "az_actuator_temp     89  non-null values\n",
        "solar_base_temp      90  non-null values\n",
        "dtypes: float64(20)"
       ]
      }
     ],
     "prompt_number": 111
    },
    {
     "cell_type": "code",
     "collapsed": false,
     "input": [
      "stds.index = times"
     ],
     "language": "python",
     "metadata": {},
     "outputs": [],
     "prompt_number": 95
    },
    {
     "cell_type": "code",
     "collapsed": false,
     "input": [
      "stds.filter(regex='b[1-3]_11').plot()\n",
      "temps.plot()\n",
      "legend(ncol=4,loc='lower center')\n",
      "title('Spaceview STDs, not skipped')\n",
      "xlabel('Mean time of spaceview [UTC]')\n",
      "ylabel('STD of spaceview')"
     ],
     "language": "python",
     "metadata": {},
     "outputs": [
      {
       "metadata": {},
       "output_type": "pyout",
       "prompt_number": 120,
       "text": [
        "<matplotlib.text.Text at 0x1137a0f90>"
       ]
      }
     ],
     "prompt_number": 120
    },
    {
     "cell_type": "code",
     "collapsed": false,
     "input": [
      "calib.get_data_columns(newdf).b3_11[1:].plot()"
     ],
     "language": "python",
     "metadata": {},
     "outputs": [
      {
       "metadata": {},
       "output_type": "pyout",
       "prompt_number": 43,
       "text": [
        "<matplotlib.axes.AxesSubplot at 0x118bd8850>"
       ]
      }
     ],
     "prompt_number": 43
    },
    {
     "cell_type": "code",
     "collapsed": false,
     "input": [
      "df.sv_block_labels.value_counts()"
     ],
     "language": "python",
     "metadata": {},
     "outputs": [
      {
       "metadata": {},
       "output_type": "pyout",
       "prompt_number": 24,
       "text": [
        "0     26672\n",
        "11      128\n",
        "9       128\n",
        "7       128\n",
        "5       128\n",
        "3       128\n",
        "1       128\n",
        "12      112\n",
        "10      112\n",
        "8       112\n",
        "6       112\n",
        "4       112\n",
        "2       112\n",
        "dtype: int64"
       ]
      }
     ],
     "prompt_number": 24
    },
    {
     "cell_type": "code",
     "collapsed": false,
     "input": [
      "df"
     ],
     "language": "python",
     "metadata": {},
     "outputs": [
      {
       "html": [
        "<pre>\n",
        "&lt;class 'pandas.core.frame.DataFrame'&gt;\n",
        "Index: 0 entries\n",
        "Columns: 252 entries, sclk to is_calib\n",
        "dtypes: bool(6), float64(241), int32(4), int64(1)\n",
        "</pre>"
       ],
       "metadata": {},
       "output_type": "pyout",
       "prompt_number": 19,
       "text": [
        "<class 'pandas.core.frame.DataFrame'>\n",
        "Index: 0 entries\n",
        "Columns: 252 entries, sclk to is_calib\n",
        "dtypes: bool(6), float64(241), int32(4), int64(1)"
       ]
      }
     ],
     "prompt_number": 19
    },
    {
     "cell_type": "code",
     "collapsed": false,
     "input": [],
     "language": "python",
     "metadata": {},
     "outputs": []
    }
   ],
   "metadata": {}
  }
 ]
}