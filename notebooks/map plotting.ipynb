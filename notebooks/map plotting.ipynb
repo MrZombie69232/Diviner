{
 "metadata": {
  "name": ""
 },
 "nbformat": 3,
 "nbformat_minor": 0,
 "worksheets": [
  {
   "cells": [
    {
     "cell_type": "code",
     "collapsed": false,
     "input": [
      "import pandas as pd"
     ],
     "language": "python",
     "metadata": {},
     "outputs": [],
     "prompt_number": 259
    },
    {
     "cell_type": "code",
     "collapsed": false,
     "input": [
      "df = pd.io.parsers.read_csv('/Users/maye/mount/luna4/raid/rdr20_month_samples/nominal/2013030100_C3_nominal_RDR20.csv')"
     ],
     "language": "python",
     "metadata": {},
     "outputs": [],
     "prompt_number": 263
    },
    {
     "cell_type": "code",
     "collapsed": false,
     "input": [
      "# example showing how to plot scattered data with hexbin.\n",
      "from numpy.random import uniform\n",
      "import matplotlib.pyplot as plt\n",
      "import numpy as np\n",
      "from mpl_toolkits.basemap import Basemap\n",
      "\n",
      "blat = 70\n",
      "compressor = 70\n",
      "# create north polar stereographic basemap\n",
      "m = Basemap(lon_0=270, boundinglat=blat, projection='npstere',round=True)\n",
      "#m = Basemap(lon_0=-105,lat_0=40,projection='ortho')\n",
      "\n",
      "# number of points\n",
      "npts = 100000\n",
      "\n",
      "# generate random points on a sphere,\n",
      "# so that every small area on the sphere is expected\n",
      "# to have the same number of points.\n",
      "# http://mathworld.wolfram.com/SpherePointPicking.html\n",
      "u = uniform(0.,1.,size=npts)\n",
      "v = uniform(0.,1.,size=npts)\n",
      "lons = 360.*u\n",
      "lats = (180./np.pi)*np.arccos(2*v-1) - 90.\n",
      "\n",
      "# toss points outside of map region.\n",
      "# ??\n",
      "# ?? bins get bigger when i compress less strict??\n",
      "# ??\n",
      "lats = np.compress(df.clat.values > blat, df.clat.values)\n",
      "lons = np.compress(df.clat.values > blat, df.clon.values)\n",
      "\n",
      "# convert to map projection coordinates.\n",
      "x1, y1 = m(lons, lats)"
     ],
     "language": "python",
     "metadata": {},
     "outputs": [],
     "prompt_number": 265
    },
    {
     "cell_type": "code",
     "collapsed": false,
     "input": [
      "y1.min()"
     ],
     "language": "python",
     "metadata": {},
     "outputs": [
      {
       "metadata": {},
       "output_type": "pyout",
       "prompt_number": 269,
       "text": [
        "1166817.2022644591"
       ]
      }
     ],
     "prompt_number": 269
    },
    {
     "cell_type": "code",
     "collapsed": false,
     "input": [
      "# remove points outside projection limb.\n",
      "x = np.compress(np.logical_or(x1 < 1.e20,y1 < 1.e20), x1)\n",
      "y = np.compress(np.logical_or(x1 < 1.e20,y1 < 1.e20), y1)\n"
     ],
     "language": "python",
     "metadata": {},
     "outputs": [],
     "prompt_number": 270
    },
    {
     "cell_type": "code",
     "collapsed": false,
     "input": [
      "clf()\n",
      "\n",
      "# make plot using hexbin\n",
      "CS = m.hexbin(x,y,C=df.tb,gridsize=25,cmap=plt.cm.jet)\n",
      "m.drawparallels(np.arange(0,86,5),latmax=85)\n",
      "m.drawmeridians(np.arange(-180,180,30),latmax=90)\n",
      "m.colorbar() # draw colorbar\n",
      "plt.title('hexbin demo')\n"
     ],
     "language": "python",
     "metadata": {},
     "outputs": [
      {
       "metadata": {},
       "output_type": "pyout",
       "prompt_number": 276,
       "text": [
        "<matplotlib.text.Text at 0x119f25e50>"
       ]
      }
     ],
     "prompt_number": 276
    },
    {
     "cell_type": "code",
     "collapsed": false,
     "input": [
      "m.xmax"
     ],
     "language": "python",
     "metadata": {},
     "outputs": [
      {
       "metadata": {},
       "output_type": "pyout",
       "prompt_number": 183,
       "text": [
        "17844080.501242906"
       ]
      }
     ],
     "prompt_number": 183
    },
    {
     "cell_type": "code",
     "collapsed": false,
     "input": [],
     "language": "python",
     "metadata": {},
     "outputs": []
    }
   ],
   "metadata": {}
  }
 ]
}