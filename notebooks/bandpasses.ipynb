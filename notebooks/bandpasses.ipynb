{
 "cells": [
  {
   "cell_type": "code",
   "execution_count": 32,
   "metadata": {
    "collapsed": false
   },
   "outputs": [
    {
     "data": {
      "text/html": [
       "<div>\n",
       "<style scoped>\n",
       "    .dataframe tbody tr th:only-of-type {\n",
       "        vertical-align: middle;\n",
       "    }\n",
       "\n",
       "    .dataframe tbody tr th {\n",
       "        vertical-align: top;\n",
       "    }\n",
       "\n",
       "    .dataframe thead th {\n",
       "        text-align: right;\n",
       "    }\n",
       "</style>\n",
       "<table border=\"1\" class=\"dataframe\">\n",
       "  <thead>\n",
       "    <tr style=\"text-align: right;\">\n",
       "      <th></th>\n",
       "      <th>0.1</th>\n",
       "      <th>0</th>\n",
       "      <th>0.1.1</th>\n",
       "      <th>0.1</th>\n",
       "      <th>0.1.2</th>\n",
       "      <th>0.2</th>\n",
       "      <th>0.1.3</th>\n",
       "      <th>0.3</th>\n",
       "      <th>0.1.4</th>\n",
       "      <th>0.4</th>\n",
       "      <th>0.1.5</th>\n",
       "      <th>0.5</th>\n",
       "      <th>0.1.6</th>\n",
       "      <th>0.6</th>\n",
       "    </tr>\n",
       "  </thead>\n",
       "  <tbody>\n",
       "    <tr>\n",
       "      <th>0</th>\n",
       "      <td>6.475</td>\n",
       "      <td>0.000000</td>\n",
       "      <td>6.475</td>\n",
       "      <td>0.000000</td>\n",
       "      <td>6.475</td>\n",
       "      <td>0.000000</td>\n",
       "      <td>8.65</td>\n",
       "      <td>0.000000</td>\n",
       "      <td>13.975</td>\n",
       "      <td>0.000000</td>\n",
       "      <td>16.619740</td>\n",
       "      <td>0.000000</td>\n",
       "      <td>16.690000</td>\n",
       "      <td>0.000000</td>\n",
       "    </tr>\n",
       "    <tr>\n",
       "      <th>1</th>\n",
       "      <td>6.500</td>\n",
       "      <td>0.000028</td>\n",
       "      <td>6.500</td>\n",
       "      <td>-0.001236</td>\n",
       "      <td>6.500</td>\n",
       "      <td>0.000108</td>\n",
       "      <td>8.70</td>\n",
       "      <td>0.000240</td>\n",
       "      <td>14.000</td>\n",
       "      <td>0.000594</td>\n",
       "      <td>16.673526</td>\n",
       "      <td>0.000115</td>\n",
       "      <td>16.727311</td>\n",
       "      <td>0.000052</td>\n",
       "    </tr>\n",
       "    <tr>\n",
       "      <th>2</th>\n",
       "      <td>6.525</td>\n",
       "      <td>-0.000079</td>\n",
       "      <td>6.525</td>\n",
       "      <td>-0.000033</td>\n",
       "      <td>6.525</td>\n",
       "      <td>-0.000013</td>\n",
       "      <td>8.75</td>\n",
       "      <td>0.000022</td>\n",
       "      <td>14.075</td>\n",
       "      <td>-0.000285</td>\n",
       "      <td>16.727311</td>\n",
       "      <td>0.000346</td>\n",
       "      <td>16.781445</td>\n",
       "      <td>0.000148</td>\n",
       "    </tr>\n",
       "    <tr>\n",
       "      <th>3</th>\n",
       "      <td>6.550</td>\n",
       "      <td>0.000048</td>\n",
       "      <td>6.550</td>\n",
       "      <td>-0.000031</td>\n",
       "      <td>6.550</td>\n",
       "      <td>0.000020</td>\n",
       "      <td>8.80</td>\n",
       "      <td>0.000402</td>\n",
       "      <td>14.150</td>\n",
       "      <td>0.000968</td>\n",
       "      <td>16.781445</td>\n",
       "      <td>0.000533</td>\n",
       "      <td>16.835930</td>\n",
       "      <td>0.000193</td>\n",
       "    </tr>\n",
       "    <tr>\n",
       "      <th>4</th>\n",
       "      <td>6.575</td>\n",
       "      <td>0.000067</td>\n",
       "      <td>6.575</td>\n",
       "      <td>-0.000015</td>\n",
       "      <td>6.575</td>\n",
       "      <td>-0.000031</td>\n",
       "      <td>8.85</td>\n",
       "      <td>-0.000352</td>\n",
       "      <td>14.225</td>\n",
       "      <td>-0.000452</td>\n",
       "      <td>16.835930</td>\n",
       "      <td>0.000631</td>\n",
       "      <td>16.890770</td>\n",
       "      <td>0.000180</td>\n",
       "    </tr>\n",
       "  </tbody>\n",
       "</table>\n",
       "</div>"
      ],
      "text/plain": [
       "     0.1         0  0.1.1       0.1  0.1.2       0.2  0.1.3       0.3   0.1.4  \\\n",
       "0  6.475  0.000000  6.475  0.000000  6.475  0.000000   8.65  0.000000  13.975   \n",
       "1  6.500  0.000028  6.500 -0.001236  6.500  0.000108   8.70  0.000240  14.000   \n",
       "2  6.525 -0.000079  6.525 -0.000033  6.525 -0.000013   8.75  0.000022  14.075   \n",
       "3  6.550  0.000048  6.550 -0.000031  6.550  0.000020   8.80  0.000402  14.150   \n",
       "4  6.575  0.000067  6.575 -0.000015  6.575 -0.000031   8.85 -0.000352  14.225   \n",
       "\n",
       "        0.4      0.1.5       0.5      0.1.6       0.6  \n",
       "0  0.000000  16.619740  0.000000  16.690000  0.000000  \n",
       "1  0.000594  16.673526  0.000115  16.727311  0.000052  \n",
       "2 -0.000285  16.727311  0.000346  16.781445  0.000148  \n",
       "3  0.000968  16.781445  0.000533  16.835930  0.000193  \n",
       "4 -0.000452  16.835930  0.000631  16.890770  0.000180  "
      ]
     },
     "execution_count": 32,
     "metadata": {},
     "output_type": "execute_result"
    }
   ],
   "source": [
    "import pandas as pd\n",
    "fname = \"../diviner/data/Diviner_R_to_T_8-4-2009.xls\"\n",
    "df = pd.read_excel(fname, 'Bandpasses', header=3, skiprows=4)\n",
    "df.head()"
   ]
  },
  {
   "cell_type": "code",
   "execution_count": 33,
   "metadata": {
    "collapsed": false
   },
   "outputs": [],
   "source": [
    "df.drop([0,1], inplace=True)"
   ]
  },
  {
   "cell_type": "code",
   "execution_count": 34,
   "metadata": {
    "collapsed": false
   },
   "outputs": [
    {
     "data": {
      "text/html": [
       "<div>\n",
       "<style scoped>\n",
       "    .dataframe tbody tr th:only-of-type {\n",
       "        vertical-align: middle;\n",
       "    }\n",
       "\n",
       "    .dataframe tbody tr th {\n",
       "        vertical-align: top;\n",
       "    }\n",
       "\n",
       "    .dataframe thead th {\n",
       "        text-align: right;\n",
       "    }\n",
       "</style>\n",
       "<table border=\"1\" class=\"dataframe\">\n",
       "  <thead>\n",
       "    <tr style=\"text-align: right;\">\n",
       "      <th></th>\n",
       "      <th>0.1</th>\n",
       "      <th>0</th>\n",
       "      <th>0.1.1</th>\n",
       "      <th>0.1</th>\n",
       "      <th>0.1.2</th>\n",
       "      <th>0.2</th>\n",
       "      <th>0.1.3</th>\n",
       "      <th>0.3</th>\n",
       "      <th>0.1.4</th>\n",
       "      <th>0.4</th>\n",
       "      <th>0.1.5</th>\n",
       "      <th>0.5</th>\n",
       "      <th>0.1.6</th>\n",
       "      <th>0.6</th>\n",
       "    </tr>\n",
       "  </thead>\n",
       "  <tbody>\n",
       "    <tr>\n",
       "      <th>2</th>\n",
       "      <td>6.525</td>\n",
       "      <td>-0.000079</td>\n",
       "      <td>6.525</td>\n",
       "      <td>-0.000033</td>\n",
       "      <td>6.525</td>\n",
       "      <td>-0.000013</td>\n",
       "      <td>8.75</td>\n",
       "      <td>0.000022</td>\n",
       "      <td>14.075</td>\n",
       "      <td>-0.000285</td>\n",
       "      <td>16.727311</td>\n",
       "      <td>0.000346</td>\n",
       "      <td>16.781445</td>\n",
       "      <td>0.000148</td>\n",
       "    </tr>\n",
       "    <tr>\n",
       "      <th>3</th>\n",
       "      <td>6.550</td>\n",
       "      <td>0.000048</td>\n",
       "      <td>6.550</td>\n",
       "      <td>-0.000031</td>\n",
       "      <td>6.550</td>\n",
       "      <td>0.000020</td>\n",
       "      <td>8.80</td>\n",
       "      <td>0.000402</td>\n",
       "      <td>14.150</td>\n",
       "      <td>0.000968</td>\n",
       "      <td>16.781445</td>\n",
       "      <td>0.000533</td>\n",
       "      <td>16.835930</td>\n",
       "      <td>0.000193</td>\n",
       "    </tr>\n",
       "    <tr>\n",
       "      <th>4</th>\n",
       "      <td>6.575</td>\n",
       "      <td>0.000067</td>\n",
       "      <td>6.575</td>\n",
       "      <td>-0.000015</td>\n",
       "      <td>6.575</td>\n",
       "      <td>-0.000031</td>\n",
       "      <td>8.85</td>\n",
       "      <td>-0.000352</td>\n",
       "      <td>14.225</td>\n",
       "      <td>-0.000452</td>\n",
       "      <td>16.835930</td>\n",
       "      <td>0.000631</td>\n",
       "      <td>16.890770</td>\n",
       "      <td>0.000180</td>\n",
       "    </tr>\n",
       "    <tr>\n",
       "      <th>5</th>\n",
       "      <td>6.600</td>\n",
       "      <td>0.000112</td>\n",
       "      <td>6.600</td>\n",
       "      <td>-0.000003</td>\n",
       "      <td>6.600</td>\n",
       "      <td>0.000244</td>\n",
       "      <td>8.90</td>\n",
       "      <td>-0.000083</td>\n",
       "      <td>14.300</td>\n",
       "      <td>-0.000661</td>\n",
       "      <td>16.890770</td>\n",
       "      <td>0.000596</td>\n",
       "      <td>16.945969</td>\n",
       "      <td>0.000209</td>\n",
       "    </tr>\n",
       "    <tr>\n",
       "      <th>6</th>\n",
       "      <td>6.625</td>\n",
       "      <td>-0.000020</td>\n",
       "      <td>6.625</td>\n",
       "      <td>-0.000006</td>\n",
       "      <td>6.625</td>\n",
       "      <td>-0.000058</td>\n",
       "      <td>8.95</td>\n",
       "      <td>-0.000147</td>\n",
       "      <td>14.375</td>\n",
       "      <td>-0.001245</td>\n",
       "      <td>16.945969</td>\n",
       "      <td>0.000489</td>\n",
       "      <td>17.001530</td>\n",
       "      <td>0.000273</td>\n",
       "    </tr>\n",
       "  </tbody>\n",
       "</table>\n",
       "</div>"
      ],
      "text/plain": [
       "     0.1         0  0.1.1       0.1  0.1.2       0.2  0.1.3       0.3   0.1.4  \\\n",
       "2  6.525 -0.000079  6.525 -0.000033  6.525 -0.000013   8.75  0.000022  14.075   \n",
       "3  6.550  0.000048  6.550 -0.000031  6.550  0.000020   8.80  0.000402  14.150   \n",
       "4  6.575  0.000067  6.575 -0.000015  6.575 -0.000031   8.85 -0.000352  14.225   \n",
       "5  6.600  0.000112  6.600 -0.000003  6.600  0.000244   8.90 -0.000083  14.300   \n",
       "6  6.625 -0.000020  6.625 -0.000006  6.625 -0.000058   8.95 -0.000147  14.375   \n",
       "\n",
       "        0.4      0.1.5       0.5      0.1.6       0.6  \n",
       "2 -0.000285  16.727311  0.000346  16.781445  0.000148  \n",
       "3  0.000968  16.781445  0.000533  16.835930  0.000193  \n",
       "4 -0.000452  16.835930  0.000631  16.890770  0.000180  \n",
       "5 -0.000661  16.890770  0.000596  16.945969  0.000209  \n",
       "6 -0.001245  16.945969  0.000489  17.001530  0.000273  "
      ]
     },
     "execution_count": 34,
     "metadata": {},
     "output_type": "execute_result"
    }
   ],
   "source": [
    "df.head()"
   ]
  },
  {
   "cell_type": "code",
   "execution_count": 36,
   "metadata": {
    "collapsed": false
   },
   "outputs": [],
   "source": [
    "df.columns = ' '.join(['w{0} ch{0}'.format(i) for i in range(3,10)]).split()"
   ]
  },
  {
   "cell_type": "code",
   "execution_count": 37,
   "metadata": {
    "collapsed": false
   },
   "outputs": [
    {
     "data": {
      "text/plain": [
       "True"
      ]
     },
     "execution_count": 37,
     "metadata": {},
     "output_type": "execute_result"
    }
   ],
   "source": [
    "all(df.w3.dropna() == df.w4.dropna())"
   ]
  },
  {
   "cell_type": "code",
   "execution_count": 6,
   "metadata": {
    "collapsed": false
   },
   "outputs": [],
   "source": [
    "ch3 = df[['w3','ch3']].dropna()"
   ]
  },
  {
   "cell_type": "code",
   "execution_count": 7,
   "metadata": {
    "collapsed": true
   },
   "outputs": [],
   "source": [
    "ch3.set_index('w3', drop=True, inplace=True)"
   ]
  },
  {
   "cell_type": "code",
   "execution_count": 8,
   "metadata": {
    "collapsed": true
   },
   "outputs": [
    {
     "data": {
      "text/html": [
       "<div>\n",
       "<style scoped>\n",
       "    .dataframe tbody tr th:only-of-type {\n",
       "        vertical-align: middle;\n",
       "    }\n",
       "\n",
       "    .dataframe tbody tr th {\n",
       "        vertical-align: top;\n",
       "    }\n",
       "\n",
       "    .dataframe thead th {\n",
       "        text-align: right;\n",
       "    }\n",
       "</style>\n",
       "<table border=\"1\" class=\"dataframe\">\n",
       "  <thead>\n",
       "    <tr style=\"text-align: right;\">\n",
       "      <th></th>\n",
       "      <th>ch3</th>\n",
       "    </tr>\n",
       "    <tr>\n",
       "      <th>w3</th>\n",
       "      <th></th>\n",
       "    </tr>\n",
       "  </thead>\n",
       "  <tbody>\n",
       "    <tr>\n",
       "      <th>6.525</th>\n",
       "      <td>-0.000079</td>\n",
       "    </tr>\n",
       "    <tr>\n",
       "      <th>6.550</th>\n",
       "      <td>0.000048</td>\n",
       "    </tr>\n",
       "    <tr>\n",
       "      <th>6.575</th>\n",
       "      <td>0.000067</td>\n",
       "    </tr>\n",
       "    <tr>\n",
       "      <th>6.600</th>\n",
       "      <td>0.000112</td>\n",
       "    </tr>\n",
       "    <tr>\n",
       "      <th>6.625</th>\n",
       "      <td>-0.000020</td>\n",
       "    </tr>\n",
       "  </tbody>\n",
       "</table>\n",
       "</div>"
      ],
      "text/plain": [
       "            ch3\n",
       "w3             \n",
       "6.525 -0.000079\n",
       "6.550  0.000048\n",
       "6.575  0.000067\n",
       "6.600  0.000112\n",
       "6.625 -0.000020"
      ]
     },
     "execution_count": 8,
     "metadata": {},
     "output_type": "execute_result"
    }
   ],
   "source": [
    "ch3.head()"
   ]
  },
  {
   "cell_type": "code",
   "execution_count": 16,
   "metadata": {
    "collapsed": false
   },
   "outputs": [],
   "source": [
    "from diviner import physics\n",
    "from scipy.signal import convolve"
   ]
  },
  {
   "cell_type": "code",
   "execution_count": 10,
   "metadata": {
    "collapsed": false
   },
   "outputs": [],
   "source": [
    "waves = ch3.index"
   ]
  },
  {
   "cell_type": "code",
   "execution_count": 11,
   "metadata": {
    "collapsed": false
   },
   "outputs": [],
   "source": [
    "waves = ch3.index.values.astype('float')"
   ]
  },
  {
   "cell_type": "code",
   "execution_count": 12,
   "metadata": {
    "collapsed": false
   },
   "outputs": [],
   "source": [
    "rbb = physics.planck_wavelength(300, waves*1e-6)"
   ]
  },
  {
   "cell_type": "code",
   "execution_count": 13,
   "metadata": {
    "collapsed": false
   },
   "outputs": [],
   "source": [
    "ch3['rbb']=rbb"
   ]
  },
  {
   "cell_type": "code",
   "execution_count": 17,
   "metadata": {
    "collapsed": false
   },
   "outputs": [],
   "source": [
    "ch3['convolved'] = convolve(ch3.ch3, ch3.rbb, mode='same')"
   ]
  },
  {
   "cell_type": "code",
   "execution_count": 24,
   "metadata": {},
   "outputs": [],
   "source": [
    "%matplotlib widget"
   ]
  },
  {
   "cell_type": "code",
   "execution_count": 25,
   "metadata": {
    "collapsed": false
   },
   "outputs": [
    {
     "data": {
      "application/vnd.jupyter.widget-view+json": {
       "model_id": "4bdf872422ef4aad98067af3559c727d",
       "version_major": 2,
       "version_minor": 0
      },
      "text/plain": [
       "FigureCanvasNbAgg()"
      ]
     },
     "metadata": {},
     "output_type": "display_data"
    },
    {
     "data": {
      "text/plain": [
       "<matplotlib.axes._subplots.AxesSubplot at 0x110083b00>"
      ]
     },
     "execution_count": 25,
     "metadata": {},
     "output_type": "execute_result"
    }
   ],
   "source": [
    "ch3.plot()"
   ]
  },
  {
   "cell_type": "code",
   "execution_count": 19,
   "metadata": {
    "collapsed": false
   },
   "outputs": [],
   "source": [
    "waves = pd.Series(ch3.index)"
   ]
  },
  {
   "cell_type": "code",
   "execution_count": 20,
   "metadata": {
    "collapsed": false
   },
   "outputs": [],
   "source": [
    "waves = waves *1e-6"
   ]
  },
  {
   "cell_type": "code",
   "execution_count": 21,
   "metadata": {
    "collapsed": false
   },
   "outputs": [
    {
     "data": {
      "text/plain": [
       "0               NaN\n",
       "1      2.500000e-08\n",
       "2      2.500000e-08\n",
       "3      2.500000e-08\n",
       "4      2.500000e-08\n",
       "5      2.500000e-08\n",
       "6      2.500000e-08\n",
       "7      2.500000e-08\n",
       "8      2.500000e-08\n",
       "9      2.500000e-08\n",
       "10     2.500000e-08\n",
       "11     2.500000e-08\n",
       "12     2.500000e-08\n",
       "13     2.500000e-08\n",
       "14     2.500000e-08\n",
       "15     2.500000e-08\n",
       "16     2.500000e-08\n",
       "17     2.500000e-08\n",
       "18     2.500000e-08\n",
       "19     2.500000e-08\n",
       "20     2.500000e-08\n",
       "21     2.500000e-08\n",
       "22     2.500000e-08\n",
       "23     2.500000e-08\n",
       "24     2.500000e-08\n",
       "25     2.500000e-08\n",
       "26     2.500000e-08\n",
       "27     2.500000e-08\n",
       "28     2.500000e-08\n",
       "29     2.500000e-08\n",
       "           ...     \n",
       "108    2.500000e-08\n",
       "109    2.500000e-08\n",
       "110    2.500000e-08\n",
       "111    2.500000e-08\n",
       "112    2.500000e-08\n",
       "113    2.500000e-08\n",
       "114    2.500000e-08\n",
       "115    2.500000e-08\n",
       "116    2.500000e-08\n",
       "117    2.500000e-08\n",
       "118    2.500000e-08\n",
       "119    2.500000e-08\n",
       "120    2.500000e-08\n",
       "121    2.500000e-08\n",
       "122    2.500000e-08\n",
       "123    2.500000e-08\n",
       "124    2.500000e-08\n",
       "125    2.500000e-08\n",
       "126    2.500000e-08\n",
       "127    2.500000e-08\n",
       "128    2.500000e-08\n",
       "129    2.500000e-08\n",
       "130    2.500000e-08\n",
       "131    2.500000e-08\n",
       "132    2.500000e-08\n",
       "133    2.500000e-08\n",
       "134    2.500000e-08\n",
       "135    2.500000e-08\n",
       "136    2.500000e-08\n",
       "137    5.900750e-04\n",
       "Name: w3, Length: 138, dtype: float64"
      ]
     },
     "execution_count": 21,
     "metadata": {},
     "output_type": "execute_result"
    }
   ],
   "source": [
    "waves.diff()"
   ]
  },
  {
   "cell_type": "code",
   "execution_count": 22,
   "metadata": {
    "collapsed": false
   },
   "outputs": [],
   "source": [
    "ch3['diff'] = waves.diff().values"
   ]
  },
  {
   "cell_type": "code",
   "execution_count": 23,
   "metadata": {
    "collapsed": false
   },
   "outputs": [
    {
     "data": {
      "text/plain": [
       "1228.0582056457888"
      ]
     },
     "execution_count": 23,
     "metadata": {},
     "output_type": "execute_result"
    }
   ],
   "source": [
    "(ch3['diff'] * ch3.convolved).sum()"
   ]
  },
  {
   "cell_type": "markdown",
   "metadata": {},
   "source": [
    "# trying out small example"
   ]
  },
  {
   "cell_type": "code",
   "execution_count": 21,
   "metadata": {
    "collapsed": false
   },
   "outputs": [],
   "source": [
    "lambdas = array([60, 70, 80]) # micron, don't forget to add it in planck call"
   ]
  },
  {
   "cell_type": "code",
   "execution_count": 22,
   "metadata": {
    "collapsed": false
   },
   "outputs": [],
   "source": [
    "rbb = physics.planck_wavelength(300, lambdas*1e-6)"
   ]
  },
  {
   "cell_type": "code",
   "execution_count": 57,
   "metadata": {
    "collapsed": false
   },
   "outputs": [],
   "source": [
    "exdf = pd.DataFrame(rbb, index=lambdas, columns=['rbb'])"
   ]
  },
  {
   "cell_type": "code",
   "execution_count": 58,
   "metadata": {
    "collapsed": false
   },
   "outputs": [
    {
     "data": {
      "text/html": [
       "<div style=\"max-height:1000px;max-width:1500px;overflow:auto;\">\n",
       "<table border=\"1\" class=\"dataframe\">\n",
       "  <thead>\n",
       "    <tr style=\"text-align: right;\">\n",
       "      <th></th>\n",
       "      <th>rbb</th>\n",
       "    </tr>\n",
       "  </thead>\n",
       "  <tbody>\n",
       "    <tr>\n",
       "      <th>60</th>\n",
       "      <td> 125135.156469</td>\n",
       "    </tr>\n",
       "    <tr>\n",
       "      <th>70</th>\n",
       "      <td>  72015.721542</td>\n",
       "    </tr>\n",
       "    <tr>\n",
       "      <th>80</th>\n",
       "      <td>  44262.256363</td>\n",
       "    </tr>\n",
       "  </tbody>\n",
       "</table>\n",
       "<p>3 rows × 1 columns</p>\n",
       "</div>"
      ],
      "text/plain": [
       "              rbb\n",
       "60  125135.156469\n",
       "70   72015.721542\n",
       "80   44262.256363\n",
       "\n",
       "[3 rows x 1 columns]"
      ]
     },
     "execution_count": 58,
     "metadata": {},
     "output_type": "execute_result"
    }
   ],
   "source": [
    "exdf"
   ]
  },
  {
   "cell_type": "code",
   "execution_count": 59,
   "metadata": {
    "collapsed": false
   },
   "outputs": [],
   "source": [
    "f = array([0.8,0.9,0.8])"
   ]
  },
  {
   "cell_type": "code",
   "execution_count": 60,
   "metadata": {
    "collapsed": false
   },
   "outputs": [],
   "source": [
    "f_norm = f*1/0.9"
   ]
  },
  {
   "cell_type": "code",
   "execution_count": 61,
   "metadata": {
    "collapsed": false
   },
   "outputs": [
    {
     "data": {
      "text/plain": [
       "array([ 0.88888889,  1.        ,  0.88888889])"
      ]
     },
     "execution_count": 61,
     "metadata": {},
     "output_type": "execute_result"
    }
   ],
   "source": [
    "f_norm"
   ]
  },
  {
   "cell_type": "code",
   "execution_count": 62,
   "metadata": {
    "collapsed": false
   },
   "outputs": [],
   "source": [
    "exdf['f_norm'] = f_norm"
   ]
  },
  {
   "cell_type": "code",
   "execution_count": 63,
   "metadata": {
    "collapsed": false
   },
   "outputs": [
    {
     "data": {
      "text/html": [
       "<div style=\"max-height:1000px;max-width:1500px;overflow:auto;\">\n",
       "<table border=\"1\" class=\"dataframe\">\n",
       "  <thead>\n",
       "    <tr style=\"text-align: right;\">\n",
       "      <th></th>\n",
       "      <th>rbb</th>\n",
       "      <th>f_norm</th>\n",
       "    </tr>\n",
       "  </thead>\n",
       "  <tbody>\n",
       "    <tr>\n",
       "      <th>60</th>\n",
       "      <td> 125135.156469</td>\n",
       "      <td> 0.888889</td>\n",
       "    </tr>\n",
       "    <tr>\n",
       "      <th>70</th>\n",
       "      <td>  72015.721542</td>\n",
       "      <td> 1.000000</td>\n",
       "    </tr>\n",
       "    <tr>\n",
       "      <th>80</th>\n",
       "      <td>  44262.256363</td>\n",
       "      <td> 0.888889</td>\n",
       "    </tr>\n",
       "  </tbody>\n",
       "</table>\n",
       "<p>3 rows × 2 columns</p>\n",
       "</div>"
      ],
      "text/plain": [
       "              rbb    f_norm\n",
       "60  125135.156469  0.888889\n",
       "70   72015.721542  1.000000\n",
       "80   44262.256363  0.888889\n",
       "\n",
       "[3 rows x 2 columns]"
      ]
     },
     "execution_count": 63,
     "metadata": {},
     "output_type": "execute_result"
    }
   ],
   "source": [
    "exdf"
   ]
  },
  {
   "cell_type": "raw",
   "metadata": {},
   "source": [
    "reload(physics)"
   ]
  },
  {
   "cell_type": "code",
   "execution_count": 64,
   "metadata": {
    "collapsed": false
   },
   "outputs": [],
   "source": [
    "h = physics.h\n",
    "c = physics.c\n",
    "kb = physics.kb"
   ]
  },
  {
   "cell_type": "code",
   "execution_count": 65,
   "metadata": {
    "collapsed": false
   },
   "outputs": [],
   "source": [
    "T = 273.15+15"
   ]
  },
  {
   "cell_type": "code",
   "execution_count": 66,
   "metadata": {
    "collapsed": false
   },
   "outputs": [
    {
     "data": {
      "text/plain": [
       "1093143.7266620824"
      ]
     },
     "execution_count": 66,
     "metadata": {},
     "output_type": "execute_result"
    }
   ],
   "source": [
    "physics.planck_modis(T, 3.8809e-6)"
   ]
  },
  {
   "cell_type": "code",
   "execution_count": 67,
   "metadata": {
    "collapsed": false
   },
   "outputs": [],
   "source": [
    "exdf['dlambda'] = 10e-6"
   ]
  },
  {
   "cell_type": "code",
   "execution_count": 68,
   "metadata": {
    "collapsed": false
   },
   "outputs": [
    {
     "data": {
      "text/html": [
       "<div style=\"max-height:1000px;max-width:1500px;overflow:auto;\">\n",
       "<table border=\"1\" class=\"dataframe\">\n",
       "  <thead>\n",
       "    <tr style=\"text-align: right;\">\n",
       "      <th></th>\n",
       "      <th>rbb</th>\n",
       "      <th>f_norm</th>\n",
       "      <th>dlambda</th>\n",
       "    </tr>\n",
       "  </thead>\n",
       "  <tbody>\n",
       "    <tr>\n",
       "      <th>60</th>\n",
       "      <td> 125135.156469</td>\n",
       "      <td> 0.888889</td>\n",
       "      <td> 0.00001</td>\n",
       "    </tr>\n",
       "    <tr>\n",
       "      <th>70</th>\n",
       "      <td>  72015.721542</td>\n",
       "      <td> 1.000000</td>\n",
       "      <td> 0.00001</td>\n",
       "    </tr>\n",
       "    <tr>\n",
       "      <th>80</th>\n",
       "      <td>  44262.256363</td>\n",
       "      <td> 0.888889</td>\n",
       "      <td> 0.00001</td>\n",
       "    </tr>\n",
       "  </tbody>\n",
       "</table>\n",
       "<p>3 rows × 3 columns</p>\n",
       "</div>"
      ],
      "text/plain": [
       "              rbb    f_norm  dlambda\n",
       "60  125135.156469  0.888889  0.00001\n",
       "70   72015.721542  1.000000  0.00001\n",
       "80   44262.256363  0.888889  0.00001\n",
       "\n",
       "[3 rows x 3 columns]"
      ]
     },
     "execution_count": 68,
     "metadata": {},
     "output_type": "execute_result"
    }
   ],
   "source": [
    "exdf"
   ]
  },
  {
   "cell_type": "code",
   "execution_count": 69,
   "metadata": {
    "collapsed": false
   },
   "outputs": [],
   "source": [
    "exdf['f'] = f"
   ]
  },
  {
   "cell_type": "code",
   "execution_count": 70,
   "metadata": {
    "collapsed": false
   },
   "outputs": [
    {
     "data": {
      "text/html": [
       "<div style=\"max-height:1000px;max-width:1500px;overflow:auto;\">\n",
       "<table border=\"1\" class=\"dataframe\">\n",
       "  <thead>\n",
       "    <tr style=\"text-align: right;\">\n",
       "      <th></th>\n",
       "      <th>rbb</th>\n",
       "      <th>f_norm</th>\n",
       "      <th>dlambda</th>\n",
       "      <th>f</th>\n",
       "    </tr>\n",
       "  </thead>\n",
       "  <tbody>\n",
       "    <tr>\n",
       "      <th>60</th>\n",
       "      <td> 125135.156469</td>\n",
       "      <td> 0.888889</td>\n",
       "      <td> 0.00001</td>\n",
       "      <td> 0.8</td>\n",
       "    </tr>\n",
       "    <tr>\n",
       "      <th>70</th>\n",
       "      <td>  72015.721542</td>\n",
       "      <td> 1.000000</td>\n",
       "      <td> 0.00001</td>\n",
       "      <td> 0.9</td>\n",
       "    </tr>\n",
       "    <tr>\n",
       "      <th>80</th>\n",
       "      <td>  44262.256363</td>\n",
       "      <td> 0.888889</td>\n",
       "      <td> 0.00001</td>\n",
       "      <td> 0.8</td>\n",
       "    </tr>\n",
       "  </tbody>\n",
       "</table>\n",
       "<p>3 rows × 4 columns</p>\n",
       "</div>"
      ],
      "text/plain": [
       "              rbb    f_norm  dlambda    f\n",
       "60  125135.156469  0.888889  0.00001  0.8\n",
       "70   72015.721542  1.000000  0.00001  0.9\n",
       "80   44262.256363  0.888889  0.00001  0.8\n",
       "\n",
       "[3 rows x 4 columns]"
      ]
     },
     "execution_count": 70,
     "metadata": {},
     "output_type": "execute_result"
    }
   ],
   "source": [
    "exdf"
   ]
  },
  {
   "cell_type": "code",
   "execution_count": 73,
   "metadata": {
    "collapsed": false
   },
   "outputs": [],
   "source": [
    "exdf['M_l_norm'] = exdf.dlambda*exdf.rbb*exdf.f_norm\n",
    "exdf['M_l'] = exdf.dlambda*exdf.rbb*exdf['f']"
   ]
  },
  {
   "cell_type": "code",
   "execution_count": 74,
   "metadata": {
    "collapsed": false
   },
   "outputs": [
    {
     "data": {
      "text/html": [
       "<div style=\"max-height:1000px;max-width:1500px;overflow:auto;\">\n",
       "<table border=\"1\" class=\"dataframe\">\n",
       "  <thead>\n",
       "    <tr style=\"text-align: right;\">\n",
       "      <th></th>\n",
       "      <th>rbb</th>\n",
       "      <th>f_norm</th>\n",
       "      <th>dlambda</th>\n",
       "      <th>f</th>\n",
       "      <th>M_l_norm</th>\n",
       "      <th>M_l</th>\n",
       "    </tr>\n",
       "  </thead>\n",
       "  <tbody>\n",
       "    <tr>\n",
       "      <th>60</th>\n",
       "      <td> 125135.156469</td>\n",
       "      <td> 0.888889</td>\n",
       "      <td> 0.00001</td>\n",
       "      <td> 0.8</td>\n",
       "      <td> 1.112313</td>\n",
       "      <td> 1.001081</td>\n",
       "    </tr>\n",
       "    <tr>\n",
       "      <th>70</th>\n",
       "      <td>  72015.721542</td>\n",
       "      <td> 1.000000</td>\n",
       "      <td> 0.00001</td>\n",
       "      <td> 0.9</td>\n",
       "      <td> 0.720157</td>\n",
       "      <td> 0.648141</td>\n",
       "    </tr>\n",
       "    <tr>\n",
       "      <th>80</th>\n",
       "      <td>  44262.256363</td>\n",
       "      <td> 0.888889</td>\n",
       "      <td> 0.00001</td>\n",
       "      <td> 0.8</td>\n",
       "      <td> 0.393442</td>\n",
       "      <td> 0.354098</td>\n",
       "    </tr>\n",
       "  </tbody>\n",
       "</table>\n",
       "<p>3 rows × 6 columns</p>\n",
       "</div>"
      ],
      "text/plain": [
       "              rbb    f_norm  dlambda    f  M_l_norm       M_l\n",
       "60  125135.156469  0.888889  0.00001  0.8  1.112313  1.001081\n",
       "70   72015.721542  1.000000  0.00001  0.9  0.720157  0.648141\n",
       "80   44262.256363  0.888889  0.00001  0.8  0.393442  0.354098\n",
       "\n",
       "[3 rows x 6 columns]"
      ]
     },
     "execution_count": 74,
     "metadata": {},
     "output_type": "execute_result"
    }
   ],
   "source": [
    "exdf"
   ]
  },
  {
   "cell_type": "code",
   "execution_count": 75,
   "metadata": {
    "collapsed": false
   },
   "outputs": [],
   "source": [
    "exdf['f_times_dl'] = exdf['f']*exdf.dlambda"
   ]
  },
  {
   "cell_type": "code",
   "execution_count": 76,
   "metadata": {
    "collapsed": false
   },
   "outputs": [],
   "source": [
    "exdf['f_norm_times_dl']= exdf.f_norm * exdf.dlambda"
   ]
  },
  {
   "cell_type": "code",
   "execution_count": 77,
   "metadata": {
    "collapsed": false
   },
   "outputs": [
    {
     "data": {
      "text/html": [
       "<div style=\"max-height:1000px;max-width:1500px;overflow:auto;\">\n",
       "<table border=\"1\" class=\"dataframe\">\n",
       "  <thead>\n",
       "    <tr style=\"text-align: right;\">\n",
       "      <th></th>\n",
       "      <th>rbb</th>\n",
       "      <th>f_norm</th>\n",
       "      <th>dlambda</th>\n",
       "      <th>f</th>\n",
       "      <th>M_l_norm</th>\n",
       "      <th>M_l</th>\n",
       "      <th>f_times_dl</th>\n",
       "      <th>f_norm_times_dl</th>\n",
       "    </tr>\n",
       "  </thead>\n",
       "  <tbody>\n",
       "    <tr>\n",
       "      <th>60</th>\n",
       "      <td> 125135.156469</td>\n",
       "      <td> 0.888889</td>\n",
       "      <td> 0.00001</td>\n",
       "      <td> 0.8</td>\n",
       "      <td> 1.112313</td>\n",
       "      <td> 1.001081</td>\n",
       "      <td> 0.000008</td>\n",
       "      <td> 0.000009</td>\n",
       "    </tr>\n",
       "    <tr>\n",
       "      <th>70</th>\n",
       "      <td>  72015.721542</td>\n",
       "      <td> 1.000000</td>\n",
       "      <td> 0.00001</td>\n",
       "      <td> 0.9</td>\n",
       "      <td> 0.720157</td>\n",
       "      <td> 0.648141</td>\n",
       "      <td> 0.000009</td>\n",
       "      <td> 0.000010</td>\n",
       "    </tr>\n",
       "    <tr>\n",
       "      <th>80</th>\n",
       "      <td>  44262.256363</td>\n",
       "      <td> 0.888889</td>\n",
       "      <td> 0.00001</td>\n",
       "      <td> 0.8</td>\n",
       "      <td> 0.393442</td>\n",
       "      <td> 0.354098</td>\n",
       "      <td> 0.000008</td>\n",
       "      <td> 0.000009</td>\n",
       "    </tr>\n",
       "  </tbody>\n",
       "</table>\n",
       "<p>3 rows × 8 columns</p>\n",
       "</div>"
      ],
      "text/plain": [
       "              rbb    f_norm  dlambda    f  M_l_norm       M_l  f_times_dl  \\\n",
       "60  125135.156469  0.888889  0.00001  0.8  1.112313  1.001081    0.000008   \n",
       "70   72015.721542  1.000000  0.00001  0.9  0.720157  0.648141    0.000009   \n",
       "80   44262.256363  0.888889  0.00001  0.8  0.393442  0.354098    0.000008   \n",
       "\n",
       "    f_norm_times_dl  \n",
       "60         0.000009  \n",
       "70         0.000010  \n",
       "80         0.000009  \n",
       "\n",
       "[3 rows x 8 columns]"
      ]
     },
     "execution_count": 77,
     "metadata": {},
     "output_type": "execute_result"
    }
   ],
   "source": [
    "exdf"
   ]
  },
  {
   "cell_type": "code",
   "execution_count": 79,
   "metadata": {
    "collapsed": false
   },
   "outputs": [
    {
     "data": {
      "text/plain": [
       "80132.831861445011"
      ]
     },
     "execution_count": 79,
     "metadata": {},
     "output_type": "execute_result"
    }
   ],
   "source": [
    "exdf.M_l_norm.sum()/ exdf.f_norm_times_dl.sum()"
   ]
  },
  {
   "cell_type": "code",
   "execution_count": 80,
   "metadata": {
    "collapsed": false
   },
   "outputs": [
    {
     "data": {
      "text/plain": [
       "80132.831861445011"
      ]
     },
     "execution_count": 80,
     "metadata": {},
     "output_type": "execute_result"
    }
   ],
   "source": [
    "exdf.M_l.sum() / exdf.f_times_dl.sum()"
   ]
  },
  {
   "cell_type": "code",
   "execution_count": null,
   "metadata": {
    "collapsed": false
   },
   "outputs": [],
   "source": []
  }
 ],
 "metadata": {
  "kernelspec": {
   "display_name": "Python 3",
   "language": "python",
   "name": "python3"
  },
  "language_info": {
   "name": ""
  }
 },
 "nbformat": 4,
 "nbformat_minor": 2
}
