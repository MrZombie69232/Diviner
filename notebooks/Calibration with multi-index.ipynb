{
 "metadata": {
  "name": "Calibration with multi-index",
  "signature": "sha256:71604336f2407c994b578ed825a90811b650fafc5ee54926dd66761b44a560d1"
 },
 "nbformat": 3,
 "nbformat_minor": 0,
 "worksheets": [
  {
   "cells": [
    {
     "cell_type": "code",
     "collapsed": false,
     "input": [
      "import pandas as pd\n",
      "import diviner as div\n",
      "import calib as c\n",
      "import sys\n",
      "from scipy import ndimage as nd\n",
      "reload(c)"
     ],
     "language": "python",
     "metadata": {},
     "outputs": [
      {
       "output_type": "pyout",
       "prompt_number": 1,
       "text": [
        "<module 'calib' from 'calib.pyc'>"
       ]
      }
     ],
     "prompt_number": 1
    },
    {
     "cell_type": "code",
     "collapsed": false,
     "input": [
      "if sys.platform == 'darwin':\n",
      "    bigdf = div.read_div_data(\"./df_by_2.h5\")\n",
      "else:\n",
      "    bigdf = div.read_div_data('/luna1/maye/2009072000.h5')"
     ],
     "language": "python",
     "metadata": {},
     "outputs": [],
     "prompt_number": 2
    },
    {
     "cell_type": "code",
     "collapsed": false,
     "input": [
      "divcal = c.DivCalib(bigdf)"
     ],
     "language": "python",
     "metadata": {},
     "outputs": [],
     "prompt_number": 3
    },
    {
     "cell_type": "code",
     "collapsed": false,
     "input": [
      "divcal.timed.columns"
     ],
     "language": "python",
     "metadata": {},
     "outputs": [
      {
       "output_type": "pyout",
       "prompt_number": 4,
       "text": [
        "Index([c, det, counts, bb_1_temp, bb_2_temp, el_cmd, az_cmd, qmi, clat, clon, scalt, bb_1_temp_interp, bb_2_temp_interp, calib_data], dtype=object)"
       ]
      }
     ],
     "prompt_number": 4
    },
    {
     "cell_type": "code",
     "collapsed": false,
     "input": [
      "df = divcal.timed.set_index(['c','det',divcal.timed.index])"
     ],
     "language": "python",
     "metadata": {},
     "outputs": [],
     "prompt_number": 14
    },
    {
     "cell_type": "code",
     "collapsed": false,
     "input": [
      "clf()\n",
      "df.reset_index().groupby(['el_cmd','c']).counts.mean().plot(style='*')"
     ],
     "language": "python",
     "metadata": {},
     "outputs": [
      {
       "output_type": "pyout",
       "prompt_number": 34,
       "text": [
        "<matplotlib.axes.AxesSubplot at 0x11f1a8f50>"
       ]
      }
     ],
     "prompt_number": 34
    },
    {
     "cell_type": "code",
     "collapsed": false,
     "input": [
      "calib_data = c.get_calib_data(df,moving = True)"
     ],
     "language": "python",
     "metadata": {},
     "outputs": [],
     "prompt_number": 30
    },
    {
     "cell_type": "code",
     "collapsed": false,
     "input": [],
     "language": "python",
     "metadata": {},
     "outputs": []
    },
    {
     "cell_type": "code",
     "collapsed": false,
     "input": [
      "cb = c.CalibBlock(calib_data)"
     ],
     "language": "python",
     "metadata": {},
     "outputs": [],
     "prompt_number": 31
    },
    {
     "cell_type": "code",
     "collapsed": false,
     "input": [
      "cb.end_time_moving"
     ],
     "language": "python",
     "metadata": {},
     "outputs": [
      {
       "output_type": "pyout",
       "prompt_number": 29,
       "text": [
        "<Timestamp: 2009-07-20 00:30:00.018000>"
       ]
      }
     ],
     "prompt_number": 29
    },
    {
     "cell_type": "code",
     "collapsed": false,
     "input": [
      "cb.static_start"
     ],
     "language": "python",
     "metadata": {},
     "outputs": [
      {
       "output_type": "pyout",
       "prompt_number": 22,
       "text": [
        "(1.0, 1.0, <Timestamp: 2009-07-20 00:02:47.215000>)"
       ]
      }
     ],
     "prompt_number": 22
    },
    {
     "cell_type": "code",
     "collapsed": false,
     "input": [
      "bbv, sv = c.get_grouped(calib_data,moving=True)"
     ],
     "language": "python",
     "metadata": {},
     "outputs": [],
     "prompt_number": 17
    },
    {
     "cell_type": "code",
     "collapsed": false,
     "input": [
      "bbv.el_cmd.value_counts()"
     ],
     "language": "python",
     "metadata": {},
     "outputs": [
      {
       "output_type": "pyout",
       "prompt_number": 18,
       "text": [
        "bbviews    \n",
        "0        80    173219\n",
        "1        0      21168\n",
        "2        0      21168\n",
        "3        0      21168\n",
        "4        0      21168"
       ]
      }
     ],
     "prompt_number": 18
    },
    {
     "cell_type": "code",
     "collapsed": false,
     "input": [
      "static_calib = c.get_non_moving_data(calib_data)"
     ],
     "language": "python",
     "metadata": {},
     "outputs": [],
     "prompt_number": 11
    },
    {
     "cell_type": "code",
     "collapsed": false,
     "input": [
      "bbvstatic, svstatic = c.get_grouped(static_calib)"
     ],
     "language": "python",
     "metadata": {},
     "outputs": [],
     "prompt_number": 12
    },
    {
     "cell_type": "code",
     "collapsed": false,
     "input": [
      "calib_id = pd.Series(np.zeros(len(df.index)),index=df.index)"
     ],
     "language": "python",
     "metadata": {},
     "outputs": [],
     "prompt_number": 11
    },
    {
     "cell_type": "code",
     "collapsed": false,
     "input": [
      "bbvstatic.el_cmd.value_counts()"
     ],
     "language": "python",
     "metadata": {},
     "outputs": [
      {
       "output_type": "pyout",
       "prompt_number": 13,
       "text": [
        "bbviews    \n",
        "0        80    112739\n",
        "1        0      15120\n",
        "2        0      15120\n",
        "3        0      15120\n",
        "4        0      15120"
       ]
      }
     ],
     "prompt_number": 13
    },
    {
     "cell_type": "code",
     "collapsed": false,
     "input": [],
     "language": "python",
     "metadata": {},
     "outputs": []
    },
    {
     "cell_type": "code",
     "collapsed": false,
     "input": [],
     "language": "python",
     "metadata": {},
     "outputs": []
    },
    {
     "cell_type": "code",
     "collapsed": false,
     "input": [],
     "language": "python",
     "metadata": {},
     "outputs": []
    },
    {
     "cell_type": "code",
     "collapsed": false,
     "input": [
      "calib_id[calib_data.index]=1"
     ],
     "language": "python",
     "metadata": {},
     "outputs": [],
     "prompt_number": 12
    },
    {
     "cell_type": "code",
     "collapsed": false,
     "input": [
      "df['calib_data'] = nd.label(calib_id)[0]"
     ],
     "language": "python",
     "metadata": {},
     "outputs": [],
     "prompt_number": 13
    },
    {
     "cell_type": "code",
     "collapsed": false,
     "input": [
      "grouped = df.groupby('calib_data')"
     ],
     "language": "python",
     "metadata": {},
     "outputs": [],
     "prompt_number": 14
    },
    {
     "cell_type": "code",
     "collapsed": false,
     "input": [
      "offsets = c.get_spaceviews(df)"
     ],
     "language": "python",
     "metadata": {},
     "outputs": [],
     "prompt_number": 61
    },
    {
     "cell_type": "code",
     "collapsed": false,
     "input": [
      "bbv, sv = c.get_grouped(df)"
     ],
     "language": "python",
     "metadata": {},
     "outputs": [],
     "prompt_number": 63
    },
    {
     "cell_type": "code",
     "collapsed": false,
     "input": [
      "df[df.el_cmd.isin([80,0])]"
     ],
     "language": "python",
     "metadata": {},
     "outputs": [
      {
       "output_type": "pyout",
       "prompt_number": 90,
       "text": [
        "<class 'pandas.core.frame.DataFrame'>\n",
        "MultiIndex: 257891 entries, (1.0, 1.0, 2009-07-20 00:02:41.070999) to (5.0, 11.0, 2009-07-20 00:30:00.018000)\n",
        "Data columns:\n",
        "counts              257891  non-null values\n",
        "bb_1_temp           16065  non-null values\n",
        "bb_2_temp           1323  non-null values\n",
        "el_cmd              257891  non-null values\n",
        "az_cmd              257891  non-null values\n",
        "qmi                 257891  non-null values\n",
        "clat                0  non-null values\n",
        "clon                0  non-null values\n",
        "scalt               257891  non-null values\n",
        "bb_1_temp_interp    257891  non-null values\n",
        "bb_2_temp_interp    257891  non-null values\n",
        "calib_data          257891  non-null values\n",
        "bbviews             257891  non-null values\n",
        "spaceviews          257891  non-null values\n",
        "dtypes: float64(11), int64(3)"
       ]
      }
     ],
     "prompt_number": 90
    },
    {
     "cell_type": "code",
     "collapsed": false,
     "input": [
      "calib_data"
     ],
     "language": "python",
     "metadata": {},
     "outputs": [
      {
       "output_type": "pyout",
       "prompt_number": 91,
       "text": [
        "<class 'pandas.core.frame.DataFrame'>\n",
        "MultiIndex: 257891 entries, (1.0, 1.0, 2009-07-20 00:02:41.070999) to (5.0, 11.0, 2009-07-20 00:30:00.018000)\n",
        "Data columns:\n",
        "counts              257891  non-null values\n",
        "bb_1_temp           16065  non-null values\n",
        "bb_2_temp           1323  non-null values\n",
        "el_cmd              257891  non-null values\n",
        "az_cmd              257891  non-null values\n",
        "qmi                 257891  non-null values\n",
        "clat                0  non-null values\n",
        "clon                0  non-null values\n",
        "scalt               257891  non-null values\n",
        "bb_1_temp_interp    257891  non-null values\n",
        "bb_2_temp_interp    257891  non-null values\n",
        "calib_data          257891  non-null values\n",
        "dtypes: float64(11), int64(1)"
       ]
      }
     ],
     "prompt_number": 91
    },
    {
     "cell_type": "code",
     "collapsed": false,
     "input": [
      "for i,j in grouped.counts:\n",
      "    print i\n",
      "    print j.mean()\n",
      "    print j.index.levels[2][0]\n",
      "    print j.index.levels[2][-1]"
     ],
     "language": "python",
     "metadata": {},
     "outputs": [
      {
       "output_type": "stream",
       "stream": "stdout",
       "text": [
        "0\n",
        "24913.47374\n",
        "2009-07-20 00:00:00.045000\n",
        "2009-07-20 00:30:00.018000\n",
        "1\n",
        "24854.0589075\n",
        "2009-07-20 00:00:00.045000\n",
        "2009-07-20 00:30:00.018000\n",
        "2\n",
        "24859.3947661\n",
        "2009-07-20 00:00:00.045000\n",
        "2009-07-20 00:30:00.018000\n",
        "3\n",
        "24876.3440657\n",
        "2009-07-20 00:00:00.045000\n",
        "2009-07-20 00:30:00.018000\n",
        "4\n",
        "24831.8325587\n",
        "2009-07-20 00:00:00.045000\n",
        "2009-07-20 00:30:00.018000\n"
       ]
      }
     ],
     "prompt_number": 15
    },
    {
     "cell_type": "code",
     "collapsed": false,
     "input": [],
     "language": "python",
     "metadata": {},
     "outputs": []
    },
    {
     "cell_type": "code",
     "collapsed": false,
     "input": [
      "df.index.names = ['c','det','time']"
     ],
     "language": "python",
     "metadata": {},
     "outputs": [],
     "prompt_number": 16
    },
    {
     "cell_type": "code",
     "collapsed": false,
     "input": [
      "df.set_index('calib_data')"
     ],
     "language": "python",
     "metadata": {},
     "outputs": [
      {
       "output_type": "pyout",
       "prompt_number": 17,
       "text": [
        "<class 'pandas.core.frame.DataFrame'>\n",
        "Int64Index: 2657813 entries, 0 to 4\n",
        "Data columns:\n",
        "counts              2657813  non-null values\n",
        "bb_1_temp           163863  non-null values\n",
        "bb_2_temp           14175  non-null values\n",
        "el_cmd              2657813  non-null values\n",
        "az_cmd              2657813  non-null values\n",
        "qmi                 2657813  non-null values\n",
        "clat                2399922  non-null values\n",
        "clon                2399922  non-null values\n",
        "scalt               2657813  non-null values\n",
        "bb_1_temp_interp    2657813  non-null values\n",
        "bb_2_temp_interp    2657813  non-null values\n",
        "dtypes: float64(11)"
       ]
      }
     ],
     "prompt_number": 17
    },
    {
     "cell_type": "code",
     "collapsed": false,
     "input": [
      "grouped = df.reset_index().groupby('calib_data')"
     ],
     "language": "python",
     "metadata": {},
     "outputs": [],
     "prompt_number": 18
    },
    {
     "cell_type": "code",
     "collapsed": false,
     "input": [
      "grouped.time.first()"
     ],
     "language": "python",
     "metadata": {},
     "outputs": [
      {
       "output_type": "pyout",
       "prompt_number": 19,
       "text": [
        "calib_data\n",
        "0            2009-07-20 00:00:00.045000\n",
        "1            2009-07-20 00:02:41.070999\n",
        "2            2009-07-20 00:11:47.899000\n",
        "3            2009-07-20 00:21:52.072000\n",
        "4            2009-07-20 00:29:20.593000"
       ]
      }
     ],
     "prompt_number": 19
    },
    {
     "cell_type": "code",
     "collapsed": false,
     "input": [
      "l = []\n",
      "for i,j in grouped:\n",
      "    print i\n",
      "    l.append(j) "
     ],
     "language": "python",
     "metadata": {},
     "outputs": [
      {
       "output_type": "stream",
       "stream": "stdout",
       "text": [
        "0\n",
        "1\n",
        "2\n",
        "3\n",
        "4\n"
       ]
      }
     ],
     "prompt_number": 20
    },
    {
     "cell_type": "code",
     "collapsed": false,
     "input": [
      "ind = pd.DatetimeIndex(l[1].time)"
     ],
     "language": "python",
     "metadata": {},
     "outputs": [],
     "prompt_number": 21
    },
    {
     "cell_type": "code",
     "collapsed": false,
     "input": [
      "ind[-1]"
     ],
     "language": "python",
     "metadata": {},
     "outputs": [
      {
       "output_type": "pyout",
       "prompt_number": 22,
       "text": [
        "<Timestamp: 2009-07-20 00:03:26>"
       ]
      }
     ],
     "prompt_number": 22
    },
    {
     "cell_type": "code",
     "collapsed": false,
     "input": [
      "ind.to_pydatetime()"
     ],
     "language": "python",
     "metadata": {},
     "outputs": [
      {
       "output_type": "pyout",
       "prompt_number": 23,
       "text": [
        "array([2009-07-20 00:02:41.070999, 2009-07-20 00:02:41.070999,\n",
        "       2009-07-20 00:02:41.070999, ..., 2009-07-20 00:03:26,\n",
        "       2009-07-20 00:03:26, 2009-07-20 00:03:26], dtype=object)"
       ]
      }
     ],
     "prompt_number": 23
    },
    {
     "cell_type": "code",
     "collapsed": false,
     "input": [
      "ind"
     ],
     "language": "python",
     "metadata": {},
     "outputs": [
      {
       "output_type": "pyout",
       "prompt_number": 24,
       "text": [
        "<class 'pandas.tseries.index.DatetimeIndex'>\n",
        "[2009-07-20 00:02:41.070999, ..., 2009-07-20 00:03:26]\n",
        "Length: 66528, Freq: None, Timezone: None"
       ]
      }
     ],
     "prompt_number": 24
    },
    {
     "cell_type": "code",
     "collapsed": false,
     "input": [
      "ind.asi8.mean()"
     ],
     "language": "python",
     "metadata": {},
     "outputs": [
      {
       "output_type": "pyout",
       "prompt_number": 25,
       "text": [
        "1.2480481835358397e+18"
       ]
      }
     ],
     "prompt_number": 25
    },
    {
     "cell_type": "code",
     "collapsed": false,
     "input": [
      "pd.Timestamp.fromordinal(ind.asi8.mean())"
     ],
     "language": "python",
     "metadata": {},
     "outputs": [
      {
       "ename": "TypeError",
       "evalue": "integer argument expected, got float",
       "output_type": "pyerr",
       "traceback": [
        "---------------------------------------------------------------------------\nTypeError                                 Traceback (most recent call last)",
        "<ipython-input-26-3830a75da06d> in <module>()\n----> 1 pd.Timestamp.fromordinal(ind.asi8.mean())\n",
        "TypeError: integer argument expected, got float"
       ]
      }
     ],
     "prompt_number": 26
    },
    {
     "cell_type": "code",
     "collapsed": false,
     "input": [
      "calib_data.groupby('el_cmd').el_cmd.value_counts()"
     ],
     "language": "python",
     "metadata": {},
     "outputs": [
      {
       "output_type": "pyout",
       "prompt_number": 30,
       "text": [
        "el_cmd    \n",
        "0       0      84672\n",
        "80      80    173219"
       ]
      }
     ],
     "prompt_number": 30
    },
    {
     "cell_type": "code",
     "collapsed": false,
     "input": [],
     "language": "python",
     "metadata": {},
     "outputs": []
    }
   ],
   "metadata": {}
  }
 ]
}