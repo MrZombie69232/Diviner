{
 "metadata": {
  "name": "",
  "signature": "sha256:846b1e5df4791b6b4173d63eb48c6eeabf184e03c39664730898c2e188c5a68f"
 },
 "nbformat": 3,
 "nbformat_minor": 0,
 "worksheets": [
  {
   "cells": [
    {
     "cell_type": "code",
     "collapsed": false,
     "input": [
      "cd /luna5/esn/recal/rdr"
     ],
     "language": "python",
     "metadata": {},
     "outputs": [
      {
       "output_type": "stream",
       "stream": "stdout",
       "text": [
        "/luna5/esn/recal/rdr\n"
       ]
      }
     ],
     "prompt_number": 1
    },
    {
     "cell_type": "code",
     "collapsed": false,
     "input": [
      "!ls"
     ],
     "language": "python",
     "metadata": {},
     "outputs": [
      {
       "output_type": "stream",
       "stream": "stdout",
       "text": [
        "beta_0_circular_C3    beta_0_elliptical_C7   beta_90_elliptical_C4\r\n",
        "beta_0_circular_C4    beta_0_elliptical_C8   beta_90_elliptical_C5\r\n",
        "beta_0_circular_C5    beta_0_elliptical_C9   beta_90_elliptical_C6\r\n",
        "beta_0_circular_C6    beta_90_circular_C3    beta_90_elliptical_C7\r\n",
        "beta_0_circular_C7    beta_90_circular_C4    beta_90_elliptical_C8\r\n",
        "beta_0_circular_C8    beta_90_circular_C5    beta_90_elliptical_C9\r\n",
        "beta_0_circular_C9    beta_90_circular_C6    grids\r\n",
        "beta_0_elliptical_C3  beta_90_circular_C7    make_rdr_pipe.sh\r\n",
        "beta_0_elliptical_C4  beta_90_circular_C8    rename_rdr.m\r\n",
        "beta_0_elliptical_C5  beta_90_circular_C9\r\n",
        "beta_0_elliptical_C6  beta_90_elliptical_C3\r\n"
       ]
      }
     ],
     "prompt_number": 2
    },
    {
     "cell_type": "code",
     "collapsed": false,
     "input": [
      "from diviner import file_utils as fu\n",
      "reload(fu)"
     ],
     "language": "python",
     "metadata": {},
     "outputs": [
      {
       "metadata": {},
       "output_type": "pyout",
       "prompt_number": 76,
       "text": [
        "<module 'diviner.file_utils' from '/u/paige/maye/src/diviner/diviner/file_utils.pyc'>"
       ]
      }
     ],
     "prompt_number": 76
    },
    {
     "cell_type": "code",
     "collapsed": false,
     "input": [
      "fname = './beta_90_elliptical_C9'\n",
      "f = open(fname)\n",
      "lines = []\n",
      "while True:\n",
      "    line = f.readline()\n",
      "    lines.append(line)\n",
      "    if 'end' in line:\n",
      "        break\n",
      "dtypes, keys = fu.get_dtypes_from_binary_pipe(lines)\n",
      "data = np.fromfile(f, dtype=dtypes, count=10)\n",
      "pd.DataFrame(data, columns=keys)\n",
      "u"
     ],
     "language": "python",
     "metadata": {},
     "outputs": [
      {
       "html": [
        "<div style=\"max-height:1000px;max-width:1500px;overflow:auto;\">\n",
        "<table border=\"1\" class=\"dataframe\">\n",
        "  <thead>\n",
        "    <tr style=\"text-align: right;\">\n",
        "      <th></th>\n",
        "      <th>date</th>\n",
        "      <th>month</th>\n",
        "      <th>year</th>\n",
        "      <th>hour</th>\n",
        "      <th>minute</th>\n",
        "      <th>second</th>\n",
        "      <th>jdate</th>\n",
        "      <th>orbit</th>\n",
        "      <th>sundst</th>\n",
        "      <th>sunlat</th>\n",
        "      <th>sunlon</th>\n",
        "      <th>sclk</th>\n",
        "      <th>sclat</th>\n",
        "      <th>sclon</th>\n",
        "      <th>scrad</th>\n",
        "      <th>scalt</th>\n",
        "      <th>el_cmd</th>\n",
        "      <th>az_cmd</th>\n",
        "      <th>af</th>\n",
        "      <th>vert_lat</th>\n",
        "      <th></th>\n",
        "    </tr>\n",
        "  </thead>\n",
        "  <tbody>\n",
        "    <tr>\n",
        "      <th>0</th>\n",
        "      <td> 12</td>\n",
        "      <td> 6</td>\n",
        "      <td> 2012</td>\n",
        "      <td> 11</td>\n",
        "      <td> 0</td>\n",
        "      <td> 0.123</td>\n",
        "      <td> 2456090.958335</td>\n",
        "      <td> 13627</td>\n",
        "      <td> 1.01501</td>\n",
        "      <td>-0.49891</td>\n",
        "      <td>-95.673332</td>\n",
        "      <td> 3.611916e+08</td>\n",
        "      <td>-80.937813</td>\n",
        "      <td> 173.180573</td>\n",
        "      <td> 1776.485596</td>\n",
        "      <td> 39.10873</td>\n",
        "      <td> 180</td>\n",
        "      <td> 240</td>\n",
        "      <td> 110</td>\n",
        "      <td> 0.98002</td>\n",
        "      <td>...</td>\n",
        "    </tr>\n",
        "    <tr>\n",
        "      <th>1</th>\n",
        "      <td> 12</td>\n",
        "      <td> 6</td>\n",
        "      <td> 2012</td>\n",
        "      <td> 11</td>\n",
        "      <td> 0</td>\n",
        "      <td> 0.123</td>\n",
        "      <td> 2456090.958335</td>\n",
        "      <td> 13627</td>\n",
        "      <td> 1.01501</td>\n",
        "      <td>-0.49891</td>\n",
        "      <td>-95.673332</td>\n",
        "      <td> 3.611916e+08</td>\n",
        "      <td>-80.937813</td>\n",
        "      <td> 173.180573</td>\n",
        "      <td> 1776.485596</td>\n",
        "      <td> 39.10873</td>\n",
        "      <td> 180</td>\n",
        "      <td> 240</td>\n",
        "      <td> 110</td>\n",
        "      <td> 0.98002</td>\n",
        "      <td>...</td>\n",
        "    </tr>\n",
        "    <tr>\n",
        "      <th>2</th>\n",
        "      <td> 12</td>\n",
        "      <td> 6</td>\n",
        "      <td> 2012</td>\n",
        "      <td> 11</td>\n",
        "      <td> 0</td>\n",
        "      <td> 0.123</td>\n",
        "      <td> 2456090.958335</td>\n",
        "      <td> 13627</td>\n",
        "      <td> 1.01501</td>\n",
        "      <td>-0.49891</td>\n",
        "      <td>-95.673332</td>\n",
        "      <td> 3.611916e+08</td>\n",
        "      <td>-80.937813</td>\n",
        "      <td> 173.180573</td>\n",
        "      <td> 1776.485596</td>\n",
        "      <td> 39.10873</td>\n",
        "      <td> 180</td>\n",
        "      <td> 240</td>\n",
        "      <td> 110</td>\n",
        "      <td> 0.98002</td>\n",
        "      <td>...</td>\n",
        "    </tr>\n",
        "    <tr>\n",
        "      <th>3</th>\n",
        "      <td> 12</td>\n",
        "      <td> 6</td>\n",
        "      <td> 2012</td>\n",
        "      <td> 11</td>\n",
        "      <td> 0</td>\n",
        "      <td> 0.123</td>\n",
        "      <td> 2456090.958335</td>\n",
        "      <td> 13627</td>\n",
        "      <td> 1.01501</td>\n",
        "      <td>-0.49891</td>\n",
        "      <td>-95.673332</td>\n",
        "      <td> 3.611916e+08</td>\n",
        "      <td>-80.937813</td>\n",
        "      <td> 173.180573</td>\n",
        "      <td> 1776.485596</td>\n",
        "      <td> 39.10873</td>\n",
        "      <td> 180</td>\n",
        "      <td> 240</td>\n",
        "      <td> 110</td>\n",
        "      <td> 0.98002</td>\n",
        "      <td>...</td>\n",
        "    </tr>\n",
        "    <tr>\n",
        "      <th>4</th>\n",
        "      <td> 12</td>\n",
        "      <td> 6</td>\n",
        "      <td> 2012</td>\n",
        "      <td> 11</td>\n",
        "      <td> 0</td>\n",
        "      <td> 0.123</td>\n",
        "      <td> 2456090.958335</td>\n",
        "      <td> 13627</td>\n",
        "      <td> 1.01501</td>\n",
        "      <td>-0.49891</td>\n",
        "      <td>-95.673332</td>\n",
        "      <td> 3.611916e+08</td>\n",
        "      <td>-80.937813</td>\n",
        "      <td> 173.180573</td>\n",
        "      <td> 1776.485596</td>\n",
        "      <td> 39.10873</td>\n",
        "      <td> 180</td>\n",
        "      <td> 240</td>\n",
        "      <td> 110</td>\n",
        "      <td> 0.98002</td>\n",
        "      <td>...</td>\n",
        "    </tr>\n",
        "    <tr>\n",
        "      <th>5</th>\n",
        "      <td> 12</td>\n",
        "      <td> 6</td>\n",
        "      <td> 2012</td>\n",
        "      <td> 11</td>\n",
        "      <td> 0</td>\n",
        "      <td> 0.123</td>\n",
        "      <td> 2456090.958335</td>\n",
        "      <td> 13627</td>\n",
        "      <td> 1.01501</td>\n",
        "      <td>-0.49891</td>\n",
        "      <td>-95.673332</td>\n",
        "      <td> 3.611916e+08</td>\n",
        "      <td>-80.937813</td>\n",
        "      <td> 173.180573</td>\n",
        "      <td> 1776.485596</td>\n",
        "      <td> 39.10873</td>\n",
        "      <td> 180</td>\n",
        "      <td> 240</td>\n",
        "      <td> 110</td>\n",
        "      <td> 0.98002</td>\n",
        "      <td>...</td>\n",
        "    </tr>\n",
        "    <tr>\n",
        "      <th>6</th>\n",
        "      <td> 12</td>\n",
        "      <td> 6</td>\n",
        "      <td> 2012</td>\n",
        "      <td> 11</td>\n",
        "      <td> 0</td>\n",
        "      <td> 0.123</td>\n",
        "      <td> 2456090.958335</td>\n",
        "      <td> 13627</td>\n",
        "      <td> 1.01501</td>\n",
        "      <td>-0.49891</td>\n",
        "      <td>-95.673332</td>\n",
        "      <td> 3.611916e+08</td>\n",
        "      <td>-80.937813</td>\n",
        "      <td> 173.180573</td>\n",
        "      <td> 1776.485596</td>\n",
        "      <td> 39.10873</td>\n",
        "      <td> 180</td>\n",
        "      <td> 240</td>\n",
        "      <td> 110</td>\n",
        "      <td> 0.98002</td>\n",
        "      <td>...</td>\n",
        "    </tr>\n",
        "    <tr>\n",
        "      <th>7</th>\n",
        "      <td> 12</td>\n",
        "      <td> 6</td>\n",
        "      <td> 2012</td>\n",
        "      <td> 11</td>\n",
        "      <td> 0</td>\n",
        "      <td> 0.123</td>\n",
        "      <td> 2456090.958335</td>\n",
        "      <td> 13627</td>\n",
        "      <td> 1.01501</td>\n",
        "      <td>-0.49891</td>\n",
        "      <td>-95.673332</td>\n",
        "      <td> 3.611916e+08</td>\n",
        "      <td>-80.937813</td>\n",
        "      <td> 173.180573</td>\n",
        "      <td> 1776.485596</td>\n",
        "      <td> 39.10873</td>\n",
        "      <td> 180</td>\n",
        "      <td> 240</td>\n",
        "      <td> 110</td>\n",
        "      <td> 0.98002</td>\n",
        "      <td>...</td>\n",
        "    </tr>\n",
        "    <tr>\n",
        "      <th>8</th>\n",
        "      <td> 12</td>\n",
        "      <td> 6</td>\n",
        "      <td> 2012</td>\n",
        "      <td> 11</td>\n",
        "      <td> 0</td>\n",
        "      <td> 0.123</td>\n",
        "      <td> 2456090.958335</td>\n",
        "      <td> 13627</td>\n",
        "      <td> 1.01501</td>\n",
        "      <td>-0.49891</td>\n",
        "      <td>-95.673332</td>\n",
        "      <td> 3.611916e+08</td>\n",
        "      <td>-80.937813</td>\n",
        "      <td> 173.180573</td>\n",
        "      <td> 1776.485596</td>\n",
        "      <td> 39.10873</td>\n",
        "      <td> 180</td>\n",
        "      <td> 240</td>\n",
        "      <td> 110</td>\n",
        "      <td> 0.98002</td>\n",
        "      <td>...</td>\n",
        "    </tr>\n",
        "    <tr>\n",
        "      <th>9</th>\n",
        "      <td> 12</td>\n",
        "      <td> 6</td>\n",
        "      <td> 2012</td>\n",
        "      <td> 11</td>\n",
        "      <td> 0</td>\n",
        "      <td> 0.123</td>\n",
        "      <td> 2456090.958335</td>\n",
        "      <td> 13627</td>\n",
        "      <td> 1.01501</td>\n",
        "      <td>-0.49891</td>\n",
        "      <td>-95.673332</td>\n",
        "      <td> 3.611916e+08</td>\n",
        "      <td>-80.937813</td>\n",
        "      <td> 173.180573</td>\n",
        "      <td> 1776.485596</td>\n",
        "      <td> 39.10873</td>\n",
        "      <td> 180</td>\n",
        "      <td> 240</td>\n",
        "      <td> 110</td>\n",
        "      <td> 0.98002</td>\n",
        "      <td>...</td>\n",
        "    </tr>\n",
        "  </tbody>\n",
        "</table>\n",
        "<p>10 rows \u00d7 38 columns</p>\n",
        "</div>"
       ],
       "metadata": {},
       "output_type": "pyout",
       "prompt_number": 85,
       "text": [
        "   date  month  year  hour  minute  second           jdate  orbit   sundst  \\\n",
        "0    12      6  2012    11       0   0.123  2456090.958335  13627  1.01501   \n",
        "1    12      6  2012    11       0   0.123  2456090.958335  13627  1.01501   \n",
        "2    12      6  2012    11       0   0.123  2456090.958335  13627  1.01501   \n",
        "3    12      6  2012    11       0   0.123  2456090.958335  13627  1.01501   \n",
        "4    12      6  2012    11       0   0.123  2456090.958335  13627  1.01501   \n",
        "5    12      6  2012    11       0   0.123  2456090.958335  13627  1.01501   \n",
        "6    12      6  2012    11       0   0.123  2456090.958335  13627  1.01501   \n",
        "7    12      6  2012    11       0   0.123  2456090.958335  13627  1.01501   \n",
        "8    12      6  2012    11       0   0.123  2456090.958335  13627  1.01501   \n",
        "9    12      6  2012    11       0   0.123  2456090.958335  13627  1.01501   \n",
        "\n",
        "    sunlat     sunlon          sclk      sclat       sclon        scrad  \\\n",
        "0 -0.49891 -95.673332  3.611916e+08 -80.937813  173.180573  1776.485596   \n",
        "1 -0.49891 -95.673332  3.611916e+08 -80.937813  173.180573  1776.485596   \n",
        "2 -0.49891 -95.673332  3.611916e+08 -80.937813  173.180573  1776.485596   \n",
        "3 -0.49891 -95.673332  3.611916e+08 -80.937813  173.180573  1776.485596   \n",
        "4 -0.49891 -95.673332  3.611916e+08 -80.937813  173.180573  1776.485596   \n",
        "5 -0.49891 -95.673332  3.611916e+08 -80.937813  173.180573  1776.485596   \n",
        "6 -0.49891 -95.673332  3.611916e+08 -80.937813  173.180573  1776.485596   \n",
        "7 -0.49891 -95.673332  3.611916e+08 -80.937813  173.180573  1776.485596   \n",
        "8 -0.49891 -95.673332  3.611916e+08 -80.937813  173.180573  1776.485596   \n",
        "9 -0.49891 -95.673332  3.611916e+08 -80.937813  173.180573  1776.485596   \n",
        "\n",
        "      scalt  el_cmd  az_cmd   af  vert_lat      \n",
        "0  39.10873     180     240  110   0.98002 ...  \n",
        "1  39.10873     180     240  110   0.98002 ...  \n",
        "2  39.10873     180     240  110   0.98002 ...  \n",
        "3  39.10873     180     240  110   0.98002 ...  \n",
        "4  39.10873     180     240  110   0.98002 ...  \n",
        "5  39.10873     180     240  110   0.98002 ...  \n",
        "6  39.10873     180     240  110   0.98002 ...  \n",
        "7  39.10873     180     240  110   0.98002 ...  \n",
        "8  39.10873     180     240  110   0.98002 ...  \n",
        "9  39.10873     180     240  110   0.98002 ...  \n",
        "\n",
        "[10 rows x 38 columns]"
       ]
      }
     ],
     "prompt_number": 85
    },
    {
     "cell_type": "code",
     "collapsed": false,
     "input": [
      "f.close()"
     ],
     "language": "python",
     "metadata": {},
     "outputs": [],
     "prompt_number": 84
    },
    {
     "cell_type": "code",
     "collapsed": false,
     "input": [
      "np.fromfile?"
     ],
     "language": "python",
     "metadata": {},
     "outputs": [],
     "prompt_number": 83
    },
    {
     "cell_type": "code",
     "collapsed": false,
     "input": [
      "lines[3].split()"
     ],
     "language": "python",
     "metadata": {},
     "outputs": [
      {
       "metadata": {},
       "output_type": "pyout",
       "prompt_number": 43,
       "text": [
        "[\"'date\", \"'\", \"'\"]"
       ]
      }
     ],
     "prompt_number": 43
    },
    {
     "cell_type": "code",
     "collapsed": false,
     "input": [
      "s = pd.Series(lines)"
     ],
     "language": "python",
     "metadata": {},
     "outputs": [],
     "prompt_number": 44
    },
    {
     "cell_type": "code",
     "collapsed": false,
     "input": [],
     "language": "python",
     "metadata": {},
     "outputs": [],
     "prompt_number": 53
    },
    {
     "cell_type": "code",
     "collapsed": false,
     "input": [
      "second = [i for i in first if i][1:]"
     ],
     "language": "python",
     "metadata": {},
     "outputs": [],
     "prompt_number": 62
    },
    {
     "cell_type": "code",
     "collapsed": false,
     "input": [
      "keys = second[::2][:-1]"
     ],
     "language": "python",
     "metadata": {},
     "outputs": [],
     "prompt_number": 66
    },
    {
     "cell_type": "code",
     "collapsed": false,
     "input": [
      "def parse_binary_pipe_descriptor(lines):\n",
      "    new_lines\n",
      "    for i, line in enumerate(lines):\n",
      "        if i < 3:\n",
      "            continue\n",
      "        "
     ],
     "language": "python",
     "metadata": {},
     "outputs": [],
     "prompt_number": 18
    },
    {
     "cell_type": "code",
     "collapsed": false,
     "input": [
      "import os\n",
      "despath = os.path.join(fu.__path__[0],'data','div38.des')"
     ],
     "language": "python",
     "metadata": {},
     "outputs": [],
     "prompt_number": 20
    },
    {
     "cell_type": "code",
     "collapsed": false,
     "input": [
      "with open(despath) as f:\n",
      "    lines = f.readlines()"
     ],
     "language": "python",
     "metadata": {},
     "outputs": [],
     "prompt_number": 22
    },
    {
     "cell_type": "code",
     "collapsed": false,
     "input": [
      "s = pd.Series(lines)"
     ],
     "language": "python",
     "metadata": {},
     "outputs": [],
     "prompt_number": 23
    },
    {
     "cell_type": "code",
     "collapsed": false,
     "input": [
      "s = s.drop(0)"
     ],
     "language": "python",
     "metadata": {},
     "outputs": [],
     "prompt_number": 25
    },
    {
     "cell_type": "code",
     "collapsed": false,
     "input": [
      "s[1]\n"
     ],
     "language": "python",
     "metadata": {},
     "outputs": [
      {
       "metadata": {},
       "output_type": "pyout",
       "prompt_number": 26,
       "text": [
        "\"'date' 'Date of the month (1-31)'\\n\""
       ]
      }
     ],
     "prompt_number": 26
    },
    {
     "cell_type": "code",
     "collapsed": false,
     "input": [
      "val = s[1]\n",
      "val"
     ],
     "language": "python",
     "metadata": {},
     "outputs": [
      {
       "metadata": {},
       "output_type": "pyout",
       "prompt_number": 27,
       "text": [
        "\"'date' 'Date of the month (1-31)'\\n\""
       ]
      }
     ],
     "prompt_number": 27
    },
    {
     "cell_type": "code",
     "collapsed": false,
     "input": [
      "val2 = val.split(' ')\n",
      "val2"
     ],
     "language": "python",
     "metadata": {},
     "outputs": [
      {
       "metadata": {},
       "output_type": "pyout",
       "prompt_number": 29,
       "text": [
        "[\"'date'\", \"'Date\", 'of', 'the', 'month', \"(1-31)'\\n\"]"
       ]
      }
     ],
     "prompt_number": 29
    },
    {
     "cell_type": "code",
     "collapsed": false,
     "input": [
      "[i.strip().strip(\"'\") for i in val2]"
     ],
     "language": "python",
     "metadata": {},
     "outputs": [
      {
       "metadata": {},
       "output_type": "pyout",
       "prompt_number": 30,
       "text": [
        "['date', 'Date', 'of', 'the', 'month', '(1-31)']"
       ]
      }
     ],
     "prompt_number": 30
    },
    {
     "cell_type": "code",
     "collapsed": false,
     "input": [
      "def unpack_str(value):\n",
      "    val2 = value.split(' ')\n",
      "    t = [i.strip().strip(\"'\") for i in val2]\n",
      "    return t[0].lower()"
     ],
     "language": "python",
     "metadata": {},
     "outputs": [],
     "prompt_number": 32
    },
    {
     "cell_type": "code",
     "collapsed": false,
     "input": [
      "columns = s.map(unpack_str)"
     ],
     "language": "python",
     "metadata": {},
     "outputs": [],
     "prompt_number": 33
    },
    {
     "cell_type": "code",
     "collapsed": false,
     "input": [
      "columns"
     ],
     "language": "python",
     "metadata": {},
     "outputs": [
      {
       "metadata": {},
       "output_type": "pyout",
       "prompt_number": 34,
       "text": [
        "1         date\n",
        "2        month\n",
        "3         year\n",
        "4         hour\n",
        "5       minute\n",
        "6       second\n",
        "7        jdate\n",
        "8        orbit\n",
        "9       sundst\n",
        "10      sunlat\n",
        "11      sunlon\n",
        "12        sclk\n",
        "13       sclat\n",
        "14       sclon\n",
        "15       scrad\n",
        "16       scalt\n",
        "17      el_cmd\n",
        "18      az_cmd\n",
        "19          af\n",
        "20    vert_lat\n",
        "21    vert_lon\n",
        "22           c\n",
        "23         det\n",
        "24      vlookx\n",
        "25      vlooky\n",
        "26      vlookz\n",
        "27    radiance\n",
        "28          tb\n",
        "29        clat\n",
        "30        clon\n",
        "31       cemis\n",
        "32     csunzen\n",
        "33     csunazi\n",
        "34    cloctime\n",
        "35         qca\n",
        "36         qge\n",
        "37         qmi\n",
        "38        qual\n",
        "dtype: object"
       ]
      }
     ],
     "prompt_number": 34
    },
    {
     "cell_type": "code",
     "collapsed": false,
     "input": [
      "\n",
      "lines[0]"
     ],
     "language": "python",
     "metadata": {},
     "outputs": [
      {
       "metadata": {},
       "output_type": "pyout",
       "prompt_number": 37,
       "text": [
        "\" '\\n\""
       ]
      }
     ],
     "prompt_number": 37
    },
    {
     "cell_type": "code",
     "collapsed": false,
     "input": [],
     "language": "python",
     "metadata": {},
     "outputs": []
    }
   ],
   "metadata": {}
  }
 ]
}