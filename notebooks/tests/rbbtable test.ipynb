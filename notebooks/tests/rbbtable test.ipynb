{
 "metadata": {
  "name": "rbbtable test",
  "signature": "sha256:068c0d169b10cbc47ae5cac4ed0a52ebd304a81e060c16fdc1e9aabc121264f1"
 },
 "nbformat": 3,
 "nbformat_minor": 0,
 "worksheets": [
  {
   "cells": [
    {
     "cell_type": "code",
     "collapsed": false,
     "input": [
      "from diviner import calib\n",
      "from diviner import file_utils as fu\n",
      "from diviner import plot_utils as pu\n",
      "import pandas as pd\n",
      "reload(fu)\n",
      "reload(calib)"
     ],
     "language": "python",
     "metadata": {},
     "outputs": [
      {
       "metadata": {},
       "output_type": "pyout",
       "prompt_number": 1,
       "text": [
        "<module 'diviner.calib' from '/Users/maye/Dropbox/src/diviner/calib.pyc'>"
       ]
      }
     ],
     "prompt_number": 1
    },
    {
     "cell_type": "code",
     "collapsed": false,
     "input": [
      "rbbtable = calib.RBBTable()"
     ],
     "language": "python",
     "metadata": {},
     "outputs": [],
     "prompt_number": 107
    },
    {
     "cell_type": "code",
     "collapsed": false,
     "input": [
      "pd.set_option('line_width',1000)"
     ],
     "language": "python",
     "metadata": {},
     "outputs": [],
     "prompt_number": 99
    },
    {
     "cell_type": "code",
     "collapsed": false,
     "input": [
      "rbbtable.df.ix[abs(rbbtable.df.index) <4]"
     ],
     "language": "python",
     "metadata": {},
     "outputs": [
      {
       "html": [
        "<div style=\"max-height:1000px;max-width:1500px;overflow:auto;\">\n",
        "<table border=\"1\" class=\"dataframe\">\n",
        "  <thead>\n",
        "    <tr style=\"text-align: right;\">\n",
        "      <th>Channels</th>\n",
        "      <th>3</th>\n",
        "      <th>4</th>\n",
        "      <th>5</th>\n",
        "      <th>6</th>\n",
        "      <th>7</th>\n",
        "      <th>8</th>\n",
        "      <th>9</th>\n",
        "    </tr>\n",
        "  </thead>\n",
        "  <tbody>\n",
        "    <tr>\n",
        "      <th>-3</th>\n",
        "      <td>-1.122361e-213</td>\n",
        "      <td>-1.548418e-213</td>\n",
        "      <td>-1.900793e-213</td>\n",
        "      <td> -8.626391e-82</td>\n",
        "      <td> -7.284023e-42</td>\n",
        "      <td>-6.825143e-18</td>\n",
        "      <td>-1.325477e-08</td>\n",
        "    </tr>\n",
        "    <tr>\n",
        "      <th>-2</th>\n",
        "      <td>             0</td>\n",
        "      <td>             0</td>\n",
        "      <td>             0</td>\n",
        "      <td> -4.75626e-121</td>\n",
        "      <td> -1.030994e-60</td>\n",
        "      <td>-3.775059e-24</td>\n",
        "      <td>-6.827718e-11</td>\n",
        "    </tr>\n",
        "    <tr>\n",
        "      <th>-1</th>\n",
        "      <td>             0</td>\n",
        "      <td>             0</td>\n",
        "      <td>             0</td>\n",
        "      <td>-1.714663e-238</td>\n",
        "      <td>-7.982567e-117</td>\n",
        "      <td>-1.143054e-42</td>\n",
        "      <td>-4.157165e-17</td>\n",
        "    </tr>\n",
        "    <tr>\n",
        "      <th> 0</th>\n",
        "      <td>             0</td>\n",
        "      <td>             0</td>\n",
        "      <td>             0</td>\n",
        "      <td>             0</td>\n",
        "      <td>             0</td>\n",
        "      <td>            0</td>\n",
        "      <td>            0</td>\n",
        "    </tr>\n",
        "    <tr>\n",
        "      <th> 1</th>\n",
        "      <td>             0</td>\n",
        "      <td>             0</td>\n",
        "      <td>             0</td>\n",
        "      <td> 1.714663e-238</td>\n",
        "      <td> 7.982567e-117</td>\n",
        "      <td> 1.143054e-42</td>\n",
        "      <td> 4.157165e-17</td>\n",
        "    </tr>\n",
        "    <tr>\n",
        "      <th> 2</th>\n",
        "      <td>             0</td>\n",
        "      <td>             0</td>\n",
        "      <td>             0</td>\n",
        "      <td>  4.75626e-121</td>\n",
        "      <td>  1.030994e-60</td>\n",
        "      <td> 3.775059e-24</td>\n",
        "      <td> 6.827718e-11</td>\n",
        "    </tr>\n",
        "    <tr>\n",
        "      <th> 3</th>\n",
        "      <td> 1.122361e-213</td>\n",
        "      <td> 1.548418e-213</td>\n",
        "      <td> 1.900793e-213</td>\n",
        "      <td>  8.626391e-82</td>\n",
        "      <td>  7.284023e-42</td>\n",
        "      <td> 6.825143e-18</td>\n",
        "      <td> 1.325477e-08</td>\n",
        "    </tr>\n",
        "  </tbody>\n",
        "</table>\n",
        "</div>"
       ],
       "metadata": {},
       "output_type": "pyout",
       "prompt_number": 100,
       "text": [
        "Channels              3              4              5              6              7             8             9\n",
        "-3       -1.122361e-213 -1.548418e-213 -1.900793e-213  -8.626391e-82  -7.284023e-42 -6.825143e-18 -1.325477e-08\n",
        "-2                    0              0              0  -4.75626e-121  -1.030994e-60 -3.775059e-24 -6.827718e-11\n",
        "-1                    0              0              0 -1.714663e-238 -7.982567e-117 -1.143054e-42 -4.157165e-17\n",
        " 0                    0              0              0              0              0             0             0\n",
        " 1                    0              0              0  1.714663e-238  7.982567e-117  1.143054e-42  4.157165e-17\n",
        " 2                    0              0              0   4.75626e-121   1.030994e-60  3.775059e-24  6.827718e-11\n",
        " 3        1.122361e-213  1.548418e-213  1.900793e-213   8.626391e-82   7.284023e-42  6.825143e-18  1.325477e-08"
       ]
      }
     ],
     "prompt_number": 100
    },
    {
     "cell_type": "code",
     "collapsed": false,
     "input": [
      "data = rbbtable.df[4]"
     ],
     "language": "python",
     "metadata": {},
     "outputs": [],
     "prompt_number": 108
    },
    {
     "cell_type": "code",
     "collapsed": false,
     "input": [
      "temps = rbbtable.table_temps"
     ],
     "language": "python",
     "metadata": {},
     "outputs": [],
     "prompt_number": 109
    },
    {
     "cell_type": "code",
     "collapsed": false,
     "input": [
      "spline = calib.Spline(data, temps, s=0.0, k=1)"
     ],
     "language": "python",
     "metadata": {},
     "outputs": [],
     "prompt_number": 110
    },
    {
     "cell_type": "code",
     "collapsed": false,
     "input": [
      "rads = linspace(-1.5, 1.5,100)"
     ],
     "language": "python",
     "metadata": {},
     "outputs": [],
     "prompt_number": 111
    },
    {
     "cell_type": "code",
     "collapsed": false,
     "input": [
      "plot(rads, rbbtable.get_tb(rads, 5))"
     ],
     "language": "python",
     "metadata": {},
     "outputs": [
      {
       "metadata": {},
       "output_type": "pyout",
       "prompt_number": 113,
       "text": [
        "[<matplotlib.lines.Line2D at 0x1277fb1d0>]"
       ]
      }
     ],
     "prompt_number": 113
    },
    {
     "cell_type": "code",
     "collapsed": false,
     "input": [
      "spline(rads)"
     ],
     "language": "python",
     "metadata": {},
     "outputs": [
      {
       "metadata": {},
       "output_type": "pyout",
       "prompt_number": 87,
       "text": [
        "array([          nan,           nan,           nan,           nan,\n",
        "                 nan,           nan,           nan,           nan,\n",
        "                 nan,           nan,           nan,           nan,\n",
        "                 nan,           nan,           nan,           nan,\n",
        "                 nan,           nan,           nan,           nan,\n",
        "                 nan,           nan,           nan,           nan,\n",
        "                 nan,           nan,           nan,           nan,\n",
        "                 nan,           nan,           nan,           nan,\n",
        "                 nan,           nan,           nan,           nan,\n",
        "                 nan,           nan,           nan,           nan,\n",
        "                 nan,           nan,           nan,           nan,\n",
        "                 nan,           nan,           nan,           nan,\n",
        "                 nan,           nan,  178.58565925,  199.82053737,\n",
        "        211.50523872,  219.98034444,  226.76035056,  232.48187506,\n",
        "        237.46988078,  241.9174144 ,  245.94401689,  249.63374108,\n",
        "        253.05317043,  256.23998798,  259.23327562,  262.05966299,\n",
        "        264.73697582,  267.28641862,  269.72130965,  272.05481555,\n",
        "        274.29311728,  276.44860244,  278.52801613,  280.53750226,\n",
        "        282.48266348,  284.36861198,  286.20001508,  287.98084366,\n",
        "        289.71153001,  291.39889218,  293.04627159,  294.65168875,\n",
        "        296.22198679,  297.75704899,  299.25927753,  300.73043639,\n",
        "        302.17250017,  303.58550599,  304.97401463,  306.33435391,\n",
        "        307.67182613,  308.98752313,  310.27852978,  311.54931025,\n",
        "        312.8006679 ,  314.03281226,  315.24452722,  316.43887113,\n",
        "        317.61638854,  318.77760329,  319.9230195 ,  321.05250056])"
       ]
      }
     ],
     "prompt_number": 87
    },
    {
     "cell_type": "code",
     "collapsed": false,
     "input": [],
     "language": "python",
     "metadata": {},
     "outputs": []
    }
   ],
   "metadata": {}
  }
 ]
}