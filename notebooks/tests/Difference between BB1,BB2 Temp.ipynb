{
 "metadata": {
  "name": "Difference between BB1,BB2 Temp",
  "signature": "sha256:4c0c7383eb2e18a7816bb7ce6dd4f928f7db3047e1d42b7868f980606093bf2e"
 },
 "nbformat": 3,
 "nbformat_minor": 0,
 "worksheets": [
  {
   "cells": [
    {
     "cell_type": "code",
     "collapsed": false,
     "input": [
      "import pandas as pd\n",
      "import diviner as div\n",
      "import calib as c\n",
      "import sys\n",
      "from scipy import ndimage as nd"
     ],
     "language": "python",
     "metadata": {},
     "outputs": [],
     "prompt_number": 1
    },
    {
     "cell_type": "code",
     "collapsed": false,
     "input": [
      "if sys.platform == 'darwin':\n",
      "    df = div.read_div_data(\"./df_by_2.h5\")\n",
      "else:\n",
      "    df = div.read_div_data('/luna1/maye/2009072000.h5')"
     ],
     "language": "python",
     "metadata": {},
     "outputs": [],
     "prompt_number": 2
    },
    {
     "cell_type": "code",
     "collapsed": false,
     "input": [
      "cdet = c.get_cdet_frame(df, 3,11)"
     ],
     "language": "python",
     "metadata": {},
     "outputs": [],
     "prompt_number": 3
    },
    {
     "cell_type": "code",
     "collapsed": false,
     "input": [
      "bbv, sv = c.get_grouped(cdet)"
     ],
     "language": "python",
     "metadata": {},
     "outputs": [],
     "prompt_number": 4
    },
    {
     "cell_type": "code",
     "collapsed": false,
     "input": [
      "sv.counts.mean()"
     ],
     "language": "python",
     "metadata": {},
     "outputs": [
      {
       "output_type": "pyout",
       "prompt_number": 5,
       "text": [
        "spaceviews\n",
        "0             23360.123422\n",
        "1             23862.875000\n",
        "2             23861.962500\n",
        "3             23867.550000\n",
        "4             23866.912500\n",
        "5             23869.612500\n",
        "6             23868.600000\n",
        "7             23868.350000\n",
        "8             23865.027027\n",
        "Name: counts"
       ]
      }
     ],
     "prompt_number": 5
    },
    {
     "cell_type": "code",
     "collapsed": false,
     "input": [
      "cdet.set_index(div.make_date_index(cdet),inplace=True)\n",
      "bb1temp = cdet.bb_1_temp_cyc.dropna()"
     ],
     "language": "python",
     "metadata": {},
     "outputs": [],
     "prompt_number": 9
    },
    {
     "cell_type": "code",
     "collapsed": true,
     "input": [
      "bb1temp = bb1temp.resample('20s')"
     ],
     "language": "python",
     "metadata": {},
     "outputs": [],
     "prompt_number": 10
    },
    {
     "cell_type": "code",
     "collapsed": false,
     "input": [
      "bb2temp = cdet.bb_2_temp.dropna()"
     ],
     "language": "python",
     "metadata": {},
     "outputs": [],
     "prompt_number": 11
    },
    {
     "cell_type": "code",
     "collapsed": false,
     "input": [
      "bb2temp = bb2temp.resample('20s')"
     ],
     "language": "python",
     "metadata": {},
     "outputs": [],
     "prompt_number": 12
    },
    {
     "cell_type": "code",
     "collapsed": false,
     "input": [
      "bb1temp.head()"
     ],
     "language": "python",
     "metadata": {},
     "outputs": [
      {
       "output_type": "pyout",
       "prompt_number": 13,
       "text": [
        "2009-07-20 00:00:20    312.261\n",
        "2009-07-20 00:00:40    312.159\n",
        "2009-07-20 00:01:00        NaN\n",
        "2009-07-20 00:01:20    312.076\n",
        "2009-07-20 00:01:40    311.954\n",
        "Freq: 20S"
       ]
      }
     ],
     "prompt_number": 13
    },
    {
     "cell_type": "code",
     "collapsed": false,
     "input": [
      "bb2temp.head()"
     ],
     "language": "python",
     "metadata": {},
     "outputs": [
      {
       "output_type": "pyout",
       "prompt_number": 14,
       "text": [
        "2009-07-20 00:00:20    312.150\n",
        "2009-07-20 00:00:40    312.007\n",
        "2009-07-20 00:01:00        NaN\n",
        "2009-07-20 00:01:20    311.847\n",
        "2009-07-20 00:01:40    311.724\n",
        "Freq: 20S"
       ]
      }
     ],
     "prompt_number": 14
    },
    {
     "cell_type": "code",
     "collapsed": false,
     "input": [
      "(bb1temp - bb2temp).head()"
     ],
     "language": "python",
     "metadata": {},
     "outputs": [
      {
       "output_type": "pyout",
       "prompt_number": 15,
       "text": [
        "2009-07-20 00:00:20    0.111\n",
        "2009-07-20 00:00:40    0.152\n",
        "2009-07-20 00:01:00      NaN\n",
        "2009-07-20 00:01:20    0.229\n",
        "2009-07-20 00:01:40    0.230\n",
        "Freq: 20S"
       ]
      }
     ],
     "prompt_number": 15
    },
    {
     "cell_type": "code",
     "collapsed": false,
     "input": [
      "bbdiff = bb1temp - bb2temp"
     ],
     "language": "python",
     "metadata": {},
     "outputs": [],
     "prompt_number": 16
    },
    {
     "cell_type": "code",
     "collapsed": false,
     "input": [],
     "language": "python",
     "metadata": {},
     "outputs": []
    }
   ],
   "metadata": {}
  }
 ]
}