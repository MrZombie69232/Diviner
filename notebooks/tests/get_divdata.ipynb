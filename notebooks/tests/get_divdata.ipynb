{
 "metadata": {
  "name": "",
  "signature": "sha256:a0b09ecf583dd5ce76873199f1d5b9ccf1b51a53ce6e1bc6a50bd1250cbf131b"
 },
 "nbformat": 3,
 "nbformat_minor": 0,
 "worksheets": [
  {
   "cells": [
    {
     "cell_type": "code",
     "collapsed": false,
     "input": [
      "from diviner import file_utils as fu\n",
      "import pandas as pd\n",
      "from diviner import data_prep as dp\n",
      "reload(fu)"
     ],
     "language": "python",
     "metadata": {},
     "outputs": [
      {
       "metadata": {},
       "output_type": "pyout",
       "prompt_number": 3,
       "text": [
        "<module 'diviner.file_utils' from '/u/paige/maye/src/diviner/file_utils.py'>"
       ]
      }
     ],
     "prompt_number": 3
    },
    {
     "cell_type": "code",
     "collapsed": false,
     "input": [
      "tstr = '2010010402'\n",
      "outfname = tstr + '_divdata.csv'\n",
      "df = fu.get_divdata(tstr,5,11, cend=7)\n",
      "df.head()"
     ],
     "language": "python",
     "metadata": {},
     "outputs": [
      {
       "output_type": "stream",
       "stream": "stdout",
       "text": [
        "Calling\n",
        " tcsh -c '/u/marks/luner/c38/rel/divdata daterange=2010010402 clat=-90,90 c=5,7 det=11,11|/u/marks/luner/pipes/rel/pextract extract=year,month,date,hour,minute,second,jdate,c,det,clat,clon,radiance,tb|/u/marks/luner/pipes/rel/pprint titles=0 > 2010010402_divdata.csv'\n"
       ]
      },
      {
       "output_type": "stream",
       "stream": "stdout",
       "text": [
        "Created 2010010402_divdata.csv\n",
        "Size: 21408442\n",
        "Pandas parsing...\n"
       ]
      },
      {
       "html": [
        "<div style=\"max-height:1000px;max-width:1500px;overflow:auto;\">\n",
        "<table border=\"1\" class=\"dataframe\">\n",
        "  <thead>\n",
        "    <tr style=\"text-align: right;\">\n",
        "      <th></th>\n",
        "      <th>jdate</th>\n",
        "      <th>c</th>\n",
        "      <th>det</th>\n",
        "      <th>clat</th>\n",
        "      <th>clon</th>\n",
        "      <th>radiance</th>\n",
        "      <th>tb</th>\n",
        "    </tr>\n",
        "  </thead>\n",
        "  <tbody>\n",
        "    <tr>\n",
        "      <th>2010-01-04 02:00:00.102000</th>\n",
        "      <td> 2455200.583335</td>\n",
        "      <td> 5</td>\n",
        "      <td> 11</td>\n",
        "      <td> 8.19584</td>\n",
        "      <td> 43.093510</td>\n",
        "      <td> 0.6792</td>\n",
        "      <td> 238.205002</td>\n",
        "    </tr>\n",
        "    <tr>\n",
        "      <th>2010-01-04 02:00:00.232000</th>\n",
        "      <td> 2455200.583336</td>\n",
        "      <td> 5</td>\n",
        "      <td> 11</td>\n",
        "      <td> 8.20280</td>\n",
        "      <td> 43.093498</td>\n",
        "      <td> 0.8176</td>\n",
        "      <td> 244.602997</td>\n",
        "    </tr>\n",
        "    <tr>\n",
        "      <th>2010-01-04 02:00:00.360000</th>\n",
        "      <td> 2455200.583338</td>\n",
        "      <td> 5</td>\n",
        "      <td> 11</td>\n",
        "      <td> 8.20965</td>\n",
        "      <td> 43.093491</td>\n",
        "      <td> 0.8815</td>\n",
        "      <td> 247.296997</td>\n",
        "    </tr>\n",
        "    <tr>\n",
        "      <th>2010-01-04 02:00:00.488000</th>\n",
        "      <td> 2455200.583339</td>\n",
        "      <td> 5</td>\n",
        "      <td> 11</td>\n",
        "      <td> 8.21650</td>\n",
        "      <td> 43.093479</td>\n",
        "      <td> 0.9188</td>\n",
        "      <td> 248.806000</td>\n",
        "    </tr>\n",
        "    <tr>\n",
        "      <th>2010-01-04 02:00:00.616000</th>\n",
        "      <td> 2455200.583340</td>\n",
        "      <td> 5</td>\n",
        "      <td> 11</td>\n",
        "      <td> 8.22336</td>\n",
        "      <td> 43.093479</td>\n",
        "      <td> 1.0146</td>\n",
        "      <td> 252.494003</td>\n",
        "    </tr>\n",
        "  </tbody>\n",
        "</table>\n",
        "<p>5 rows \u00d7 7 columns</p>\n",
        "</div>"
       ],
       "metadata": {},
       "output_type": "pyout",
       "prompt_number": 7,
       "text": [
        "                                     jdate  c  det     clat       clon  \\\n",
        "2010-01-04 02:00:00.102000  2455200.583335  5   11  8.19584  43.093510   \n",
        "2010-01-04 02:00:00.232000  2455200.583336  5   11  8.20280  43.093498   \n",
        "2010-01-04 02:00:00.360000  2455200.583338  5   11  8.20965  43.093491   \n",
        "2010-01-04 02:00:00.488000  2455200.583339  5   11  8.21650  43.093479   \n",
        "2010-01-04 02:00:00.616000  2455200.583340  5   11  8.22336  43.093479   \n",
        "\n",
        "                            radiance          tb  \n",
        "2010-01-04 02:00:00.102000    0.6792  238.205002  \n",
        "2010-01-04 02:00:00.232000    0.8176  244.602997  \n",
        "2010-01-04 02:00:00.360000    0.8815  247.296997  \n",
        "2010-01-04 02:00:00.488000    0.9188  248.806000  \n",
        "2010-01-04 02:00:00.616000    1.0146  252.494003  \n",
        "\n",
        "[5 rows x 7 columns]"
       ]
      }
     ],
     "prompt_number": 7
    },
    {
     "cell_type": "code",
     "collapsed": false,
     "input": [
      "import os\n",
      "if os.path.exists(outfname):\n",
      "    print os.path.getsize(outfname)"
     ],
     "language": "python",
     "metadata": {},
     "outputs": [
      {
       "output_type": "stream",
       "stream": "stdout",
       "text": [
        "6042440\n"
       ]
      }
     ],
     "prompt_number": 38
    },
    {
     "cell_type": "code",
     "collapsed": false,
     "input": [
      "df = pd.read_csv(outfname, nrows=10, delim_whitespace=True)\n",
      "df.drop(df.columns[0],axis=1,inplace=True)\n",
      "df = dp.index_by_time(df)\n",
      "df"
     ],
     "language": "python",
     "metadata": {},
     "outputs": [
      {
       "html": [
        "<div style=\"max-height:1000px;max-width:1500px;overflow:auto;\">\n",
        "<table border=\"1\" class=\"dataframe\">\n",
        "  <thead>\n",
        "    <tr style=\"text-align: right;\">\n",
        "      <th></th>\n",
        "      <th>jdate</th>\n",
        "      <th>clat</th>\n",
        "      <th>clon</th>\n",
        "      <th>radiance</th>\n",
        "      <th>tb</th>\n",
        "    </tr>\n",
        "  </thead>\n",
        "  <tbody>\n",
        "    <tr>\n",
        "      <th>2010-01-04 02:00:00.102000</th>\n",
        "      <td> 2455200.583335</td>\n",
        "      <td> 8.18071</td>\n",
        "      <td> 43.091671</td>\n",
        "      <td> 0.3464</td>\n",
        "      <td> 202.278000</td>\n",
        "    </tr>\n",
        "    <tr>\n",
        "      <th>2010-01-04 02:00:00.232000</th>\n",
        "      <td> 2455200.583336</td>\n",
        "      <td> 8.18767</td>\n",
        "      <td> 43.091660</td>\n",
        "      <td> 0.3441</td>\n",
        "      <td> 201.261002</td>\n",
        "    </tr>\n",
        "    <tr>\n",
        "      <th>2010-01-04 02:00:00.360000</th>\n",
        "      <td> 2455200.583338</td>\n",
        "      <td> 8.19452</td>\n",
        "      <td> 43.091648</td>\n",
        "      <td> 0.3464</td>\n",
        "      <td> 202.276993</td>\n",
        "    </tr>\n",
        "    <tr>\n",
        "      <th>2010-01-04 02:00:00.488000</th>\n",
        "      <td> 2455200.583339</td>\n",
        "      <td> 8.20137</td>\n",
        "      <td> 43.091640</td>\n",
        "      <td> 0.3372</td>\n",
        "      <td> 198.207001</td>\n",
        "    </tr>\n",
        "    <tr>\n",
        "      <th>2010-01-04 02:00:00.616000</th>\n",
        "      <td> 2455200.583340</td>\n",
        "      <td> 8.20823</td>\n",
        "      <td> 43.091640</td>\n",
        "      <td> 0.3464</td>\n",
        "      <td> 202.276993</td>\n",
        "    </tr>\n",
        "    <tr>\n",
        "      <th>2010-01-04 02:00:00.744000</th>\n",
        "      <td> 2455200.583342</td>\n",
        "      <td> 8.21508</td>\n",
        "      <td> 43.091629</td>\n",
        "      <td> 0.3464</td>\n",
        "      <td> 202.276993</td>\n",
        "    </tr>\n",
        "    <tr>\n",
        "      <th>2010-01-04 02:00:00.872000</th>\n",
        "      <td> 2455200.583343</td>\n",
        "      <td> 8.22193</td>\n",
        "      <td> 43.091621</td>\n",
        "      <td> 0.3511</td>\n",
        "      <td> 204.309998</td>\n",
        "    </tr>\n",
        "    <tr>\n",
        "      <th>2010-01-04 02:00:01</th>\n",
        "      <td> 2455200.583345</td>\n",
        "      <td> 8.22878</td>\n",
        "      <td> 43.091610</td>\n",
        "      <td> 0.3534</td>\n",
        "      <td> 205.324997</td>\n",
        "    </tr>\n",
        "    <tr>\n",
        "      <th>2010-01-04 02:00:01.127999</th>\n",
        "      <td> 2455200.583346</td>\n",
        "      <td> 8.23564</td>\n",
        "      <td> 43.091599</td>\n",
        "      <td> 0.3464</td>\n",
        "      <td> 202.276993</td>\n",
        "    </tr>\n",
        "    <tr>\n",
        "      <th>2010-01-04 02:00:01.256000</th>\n",
        "      <td> 2455200.583348</td>\n",
        "      <td> 8.24249</td>\n",
        "      <td> 43.091591</td>\n",
        "      <td> 0.3118</td>\n",
        "      <td> 186.968002</td>\n",
        "    </tr>\n",
        "  </tbody>\n",
        "</table>\n",
        "<p>10 rows \u00d7 5 columns</p>\n",
        "</div>"
       ],
       "metadata": {},
       "output_type": "pyout",
       "prompt_number": 51,
       "text": [
        "                                     jdate     clat       clon  radiance  \\\n",
        "2010-01-04 02:00:00.102000  2455200.583335  8.18071  43.091671    0.3464   \n",
        "2010-01-04 02:00:00.232000  2455200.583336  8.18767  43.091660    0.3441   \n",
        "2010-01-04 02:00:00.360000  2455200.583338  8.19452  43.091648    0.3464   \n",
        "2010-01-04 02:00:00.488000  2455200.583339  8.20137  43.091640    0.3372   \n",
        "2010-01-04 02:00:00.616000  2455200.583340  8.20823  43.091640    0.3464   \n",
        "2010-01-04 02:00:00.744000  2455200.583342  8.21508  43.091629    0.3464   \n",
        "2010-01-04 02:00:00.872000  2455200.583343  8.22193  43.091621    0.3511   \n",
        "2010-01-04 02:00:01         2455200.583345  8.22878  43.091610    0.3534   \n",
        "2010-01-04 02:00:01.127999  2455200.583346  8.23564  43.091599    0.3464   \n",
        "2010-01-04 02:00:01.256000  2455200.583348  8.24249  43.091591    0.3118   \n",
        "\n",
        "                                    tb  \n",
        "2010-01-04 02:00:00.102000  202.278000  \n",
        "2010-01-04 02:00:00.232000  201.261002  \n",
        "2010-01-04 02:00:00.360000  202.276993  \n",
        "2010-01-04 02:00:00.488000  198.207001  \n",
        "2010-01-04 02:00:00.616000  202.276993  \n",
        "2010-01-04 02:00:00.744000  202.276993  \n",
        "2010-01-04 02:00:00.872000  204.309998  \n",
        "2010-01-04 02:00:01         205.324997  \n",
        "2010-01-04 02:00:01.127999  202.276993  \n",
        "2010-01-04 02:00:01.256000  186.968002  \n",
        "\n",
        "[10 rows x 5 columns]"
       ]
      }
     ],
     "prompt_number": 51
    },
    {
     "cell_type": "code",
     "collapsed": false,
     "input": [
      "df.clon.describe()"
     ],
     "language": "python",
     "metadata": {},
     "outputs": [
      {
       "metadata": {},
       "output_type": "pyout",
       "prompt_number": 55,
       "text": [
        "count    26044.000000\n",
        "mean       -61.099627\n",
        "std         89.234629\n",
        "min       -139.132797\n",
        "25%       -137.405872\n",
        "50%       -137.364471\n",
        "75%         43.074343\n",
        "max         45.257568\n",
        "Name: clon, dtype: float64"
       ]
      }
     ],
     "prompt_number": 55
    },
    {
     "cell_type": "code",
     "collapsed": false,
     "input": [
      "df.groupby(df.clon.round()).mean?"
     ],
     "language": "python",
     "metadata": {},
     "outputs": [],
     "prompt_number": 58
    },
    {
     "cell_type": "code",
     "collapsed": false,
     "input": [
      "df.groupby(df.clon.round()).mean"
     ],
     "language": "python",
     "metadata": {},
     "outputs": []
    },
    {
     "cell_type": "code",
     "collapsed": false,
     "input": [
      "df.mean?"
     ],
     "language": "python",
     "metadata": {},
     "outputs": [],
     "prompt_number": 59
    },
    {
     "cell_type": "code",
     "collapsed": false,
     "input": [],
     "language": "python",
     "metadata": {},
     "outputs": []
    }
   ],
   "metadata": {}
  }
 ]
}