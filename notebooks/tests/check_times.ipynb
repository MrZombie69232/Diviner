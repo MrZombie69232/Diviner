{
 "metadata": {
  "name": "",
  "signature": "sha256:f9c396210ff8cfd393e6656cb844975ab9db9b9f9fa74a29e59514d69dffb85f"
 },
 "nbformat": 3,
 "nbformat_minor": 0,
 "worksheets": [
  {
   "cells": [
    {
     "cell_type": "code",
     "collapsed": false,
     "input": [
      "from diviner import file_utils as fu\n",
      "reload(fu)"
     ],
     "language": "python",
     "metadata": {},
     "outputs": [
      {
       "metadata": {},
       "output_type": "pyout",
       "prompt_number": 2,
       "text": [
        "<module 'diviner.file_utils' from '/u/paige/maye/src/diviner/file_utils.pyc'>"
       ]
      }
     ],
     "prompt_number": 2
    },
    {
     "cell_type": "code",
     "collapsed": false,
     "input": [
      "import glob\n",
      "rdrr_files = glob.glob('/luna7/marks/rdrs_data/*.rdrs')"
     ],
     "language": "python",
     "metadata": {},
     "outputs": [],
     "prompt_number": 3
    },
    {
     "cell_type": "code",
     "collapsed": false,
     "input": [
      "len(rdrr_files)"
     ],
     "language": "python",
     "metadata": {},
     "outputs": [
      {
       "metadata": {},
       "output_type": "pyout",
       "prompt_number": 4,
       "text": [
        "13310"
       ]
      }
     ],
     "prompt_number": 4
    },
    {
     "cell_type": "code",
     "collapsed": false,
     "input": [
      "fu.fname_to_tstr(rdrr_files[0])"
     ],
     "language": "python",
     "metadata": {},
     "outputs": [
      {
       "metadata": {},
       "output_type": "pyout",
       "prompt_number": 5,
       "text": [
        "'2009070516'"
       ]
      }
     ],
     "prompt_number": 5
    },
    {
     "cell_type": "code",
     "collapsed": false,
     "input": [
      "import os\n",
      "todo = [f for f in rdrr_files if os.path.basename(f).startswith('2012')][:5]\n",
      "for rdrr_file in todo:\n",
      "    tstr = fu.fname_to_tstr(rdrr_file)\n",
      "    print rdrr_file\n",
      "    sys.stdout.flush()\n",
      "    l1a = fu.open_and_accumulate(tstr=tstr)\n",
      "    center = l1a[fu.tstr_to_tindex(tstr)]\n",
      "    rdrr = fu.RDRS_Reader(tstr).open()\n",
      "#     rdr=fu.RDRReader.from_timestr(tstr).open()\n",
      "    print \"Start times\", \n",
      "    print \"L1A: \",center.index[0]\n",
      "#     print \"RDR: \",rdr.index[0]\n",
      "    print \"RDRR:\",rdrr.index[0]\n",
      "    print \"End times:\"\n",
      "    print \"L1A: \",center.index[-1]\n",
      "#     print \"RDR: \",rdr.index[-1]\n",
      "    print \"RDRR:\",rdrr.index[-1]\n",
      "    sys.stdout.flush()\n",
      "    print"
     ],
     "language": "python",
     "metadata": {},
     "outputs": [
      {
       "output_type": "stream",
       "stream": "stdout",
       "text": [
        "/luna7/marks/rdrs_data/2012012023.rdrs\n"
       ]
      },
      {
       "output_type": "stream",
       "stream": "stdout",
       "text": [
        "Start times L1A:  2012-01-20 23:00:00.023000\n",
        "RDRR: 2012-01-20 23:00:00.023000\n",
        "End times:\n",
        "L1A:  2012-01-20 23:59:59.937000\n",
        "RDRR: 2012-01-20 23:59:59.809000\n"
       ]
      },
      {
       "output_type": "stream",
       "stream": "stdout",
       "text": [
        "\n",
        "/luna7/marks/rdrs_data/2012021704.rdrs\n"
       ]
      },
      {
       "output_type": "stream",
       "stream": "stdout",
       "text": [
        "Start times L1A:  2012-02-17 04:00:00.115000\n",
        "RDRR: 2012-02-17 04:00:00.115000\n",
        "End times:\n",
        "L1A:  2012-02-17 04:59:59.926000\n",
        "RDRR: 2012-02-17 04:59:59.798000\n"
       ]
      },
      {
       "output_type": "stream",
       "stream": "stdout",
       "text": [
        "\n",
        "/luna7/marks/rdrs_data/2012031510.rdrs\n"
       ]
      },
      {
       "output_type": "stream",
       "stream": "stdout",
       "text": [
        "Start times L1A:  2012-03-15 10:00:00.109000\n",
        "RDRR: 2012-03-15 10:00:00.109000\n",
        "End times:\n",
        "L1A:  2012-03-15 10:59:59.899000\n",
        "RDRR: 2012-03-15 10:59:59.771000\n"
       ]
      },
      {
       "output_type": "stream",
       "stream": "stdout",
       "text": [
        "\n",
        "/luna7/marks/rdrs_data/2012031508.rdrs\n"
       ]
      },
      {
       "output_type": "stream",
       "stream": "stdout",
       "text": [
        "Start times L1A:  2012-03-15 08:00:00.127000\n",
        "RDRR: 2012-03-15 08:00:00.127000\n",
        "End times:\n",
        "L1A:  2012-03-15 08:59:59.910000\n",
        "RDRR: 2012-03-15 08:59:59.782000\n"
       ]
      },
      {
       "output_type": "stream",
       "stream": "stdout",
       "text": [
        "\n",
        "/luna7/marks/rdrs_data/2012032919.rdrs\n"
       ]
      },
      {
       "output_type": "stream",
       "stream": "stdout",
       "text": [
        "Start times L1A:  2012-03-29 19:00:00.110000\n",
        "RDRR: 2012-03-29 19:00:00.110000\n",
        "End times:\n",
        "L1A:  2012-03-29 19:59:59.918000\n",
        "RDRR: 2012-03-29 19:59:59.790000\n"
       ]
      },
      {
       "output_type": "stream",
       "stream": "stdout",
       "text": [
        "\n"
       ]
      }
     ],
     "prompt_number": 6
    },
    {
     "cell_type": "code",
     "collapsed": false,
     "input": [
      "center.ix[rdrr.index[-1]:]"
     ],
     "language": "python",
     "metadata": {},
     "outputs": [
      {
       "html": [
        "<div style=\"max-height:1000px;max-width:1500px;overflow:auto;\">\n",
        "<table border=\"1\" class=\"dataframe\">\n",
        "  <thead>\n",
        "    <tr style=\"text-align: right;\">\n",
        "      <th></th>\n",
        "      <th>q</th>\n",
        "      <th>sclk</th>\n",
        "      <th>sounding</th>\n",
        "      <th>from_pkt</th>\n",
        "      <th>pkt_count</th>\n",
        "      <th>safing</th>\n",
        "      <th>safed</th>\n",
        "      <th>freezing</th>\n",
        "      <th>frozen</th>\n",
        "      <th>rolling</th>\n",
        "      <th>dumping</th>\n",
        "      <th>moving</th>\n",
        "      <th>temp_fault</th>\n",
        "      <th>sc_time_secs</th>\n",
        "      <th>sc_time_subs</th>\n",
        "      <th>ticks_pkt_start</th>\n",
        "      <th>ticks_at_sc_time</th>\n",
        "      <th>ost_index</th>\n",
        "      <th>est_index</th>\n",
        "      <th>sst_index</th>\n",
        "      <th></th>\n",
        "    </tr>\n",
        "  </thead>\n",
        "  <tbody>\n",
        "    <tr>\n",
        "      <th>2012-03-29 19:59:59.790000</th>\n",
        "      <td> 0</td>\n",
        "      <td> 3.547440e+08</td>\n",
        "      <td> 11</td>\n",
        "      <td> 5123</td>\n",
        "      <td>NaN</td>\n",
        "      <td>NaN</td>\n",
        "      <td>NaN</td>\n",
        "      <td>NaN</td>\n",
        "      <td>NaN</td>\n",
        "      <td>NaN</td>\n",
        "      <td>NaN</td>\n",
        "      <td> 0</td>\n",
        "      <td>NaN</td>\n",
        "      <td>NaN</td>\n",
        "      <td>NaN</td>\n",
        "      <td>NaN</td>\n",
        "      <td>NaN</td>\n",
        "      <td>NaN</td>\n",
        "      <td>NaN</td>\n",
        "      <td>NaN</td>\n",
        "      <td>...</td>\n",
        "    </tr>\n",
        "    <tr>\n",
        "      <th>2012-03-29 19:59:59.918000</th>\n",
        "      <td> 0</td>\n",
        "      <td> 3.547440e+08</td>\n",
        "      <td> 12</td>\n",
        "      <td> 5123</td>\n",
        "      <td>NaN</td>\n",
        "      <td>NaN</td>\n",
        "      <td>NaN</td>\n",
        "      <td>NaN</td>\n",
        "      <td>NaN</td>\n",
        "      <td>NaN</td>\n",
        "      <td>NaN</td>\n",
        "      <td> 0</td>\n",
        "      <td>NaN</td>\n",
        "      <td>NaN</td>\n",
        "      <td>NaN</td>\n",
        "      <td>NaN</td>\n",
        "      <td>NaN</td>\n",
        "      <td>NaN</td>\n",
        "      <td>NaN</td>\n",
        "      <td>NaN</td>\n",
        "      <td>...</td>\n",
        "    </tr>\n",
        "  </tbody>\n",
        "</table>\n",
        "<p>2 rows \u00d7 257 columns</p>\n",
        "</div>"
       ],
       "metadata": {},
       "output_type": "pyout",
       "prompt_number": 7,
       "text": [
        "                            q          sclk  sounding  from_pkt  pkt_count  \\\n",
        "2012-03-29 19:59:59.790000  0  3.547440e+08        11      5123        NaN   \n",
        "2012-03-29 19:59:59.918000  0  3.547440e+08        12      5123        NaN   \n",
        "\n",
        "                            safing  safed  freezing  frozen  rolling  dumping  \\\n",
        "2012-03-29 19:59:59.790000     NaN    NaN       NaN     NaN      NaN      NaN   \n",
        "2012-03-29 19:59:59.918000     NaN    NaN       NaN     NaN      NaN      NaN   \n",
        "\n",
        "                            moving  temp_fault  sc_time_secs  sc_time_subs  \\\n",
        "2012-03-29 19:59:59.790000       0         NaN           NaN           NaN   \n",
        "2012-03-29 19:59:59.918000       0         NaN           NaN           NaN   \n",
        "\n",
        "                            ticks_pkt_start  ticks_at_sc_time  ost_index  \\\n",
        "2012-03-29 19:59:59.790000              NaN               NaN        NaN   \n",
        "2012-03-29 19:59:59.918000              NaN               NaN        NaN   \n",
        "\n",
        "                            est_index  sst_index      \n",
        "2012-03-29 19:59:59.790000        NaN        NaN ...  \n",
        "2012-03-29 19:59:59.918000        NaN        NaN ...  \n",
        "\n",
        "[2 rows x 257 columns]"
       ]
      }
     ],
     "prompt_number": 7
    },
    {
     "cell_type": "code",
     "collapsed": false,
     "input": [
      "tstr = '2012010100'\n",
      "rdr=fu.RDRReader.from_timestr(tstr).open()"
     ],
     "language": "python",
     "metadata": {},
     "outputs": [],
     "prompt_number": 5
    },
    {
     "cell_type": "code",
     "collapsed": false,
     "input": [
      "rdr.index[0]"
     ],
     "language": "python",
     "metadata": {},
     "outputs": [
      {
       "metadata": {},
       "output_type": "pyout",
       "prompt_number": 6,
       "text": [
        "Timestamp('2012-01-01 00:00:00.006000')"
       ]
      }
     ],
     "prompt_number": 6
    },
    {
     "cell_type": "code",
     "collapsed": false,
     "input": [
      "rdr.index[-1]"
     ],
     "language": "python",
     "metadata": {},
     "outputs": [
      {
       "metadata": {},
       "output_type": "pyout",
       "prompt_number": 7,
       "text": [
        "Timestamp('2012-01-01 00:59:59.947000')"
       ]
      }
     ],
     "prompt_number": 7
    },
    {
     "cell_type": "code",
     "collapsed": false,
     "input": [],
     "language": "python",
     "metadata": {},
     "outputs": []
    }
   ],
   "metadata": {}
  }
 ]
}