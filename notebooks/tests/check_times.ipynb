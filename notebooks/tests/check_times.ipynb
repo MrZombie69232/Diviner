{
 "cells": [
  {
   "cell_type": "code",
   "execution_count": null,
   "metadata": {},
   "outputs": [],
   "source": [
    "from diviner import file_utils as fu\n",
    "from pathlib import Path"
   ]
  },
  {
   "cell_type": "code",
   "execution_count": null,
   "metadata": {},
   "outputs": [],
   "source": [
    "rdrr_files = Path('/luna7/marks/rdrs_data/').glob('*.rdrs')"
   ]
  },
  {
   "cell_type": "code",
   "execution_count": null,
   "metadata": {},
   "outputs": [],
   "source": [
    "tstr = fu.fname_to_tstr(next(rdrr_files))\n",
    "tstr"
   ]
  },
  {
   "cell_type": "code",
   "execution_count": null,
   "metadata": {},
   "outputs": [],
   "source": [
    "todo = [f for f in rdrr_files if f.name.startswith('2012')][:5]"
   ]
  },
  {
   "cell_type": "code",
   "execution_count": null,
   "metadata": {},
   "outputs": [],
   "source": [
    "todo"
   ]
  },
  {
   "cell_type": "code",
   "execution_count": null,
   "metadata": {},
   "outputs": [],
   "source": [
    "for rdr_file in todo:\n",
    "    tstr = fu.fname_to_tstr(rdr_file)\n",
    "    print(rdr_file)\n",
    "    l1a = fu.open_and_accumulate(tstr=tstr)\n",
    "    center = l1a[fu.tstr_to_tindex(tstr)]\n",
    "    rdr = fu.RDRS_Reader(tstr).open()\n",
    "#     rdr=fu.RDRReader.from_timestr(tstr).open()\n",
    "    print(\"Start times\") \n",
    "    print(\"L1A: \",center.index[0])\n",
    "#     print \"RDR: \",rdr.index[0]\n",
    "    print \"RDRR:\",rdrr.index[0]\n",
    "    print \"End times:\"\n",
    "    print \"L1A: \",center.index[-1]\n",
    "#     print \"RDR: \",rdr.index[-1]\n",
    "    print \"RDRR:\",rdrr.index[-1]\n",
    "    sys.stdout.flush()\n",
    "    print"
   ]
  },
  {
   "cell_type": "code",
   "execution_count": null,
   "metadata": {},
   "outputs": [],
   "source": [
    "center.ix[rdrr.index[-1]:]"
   ]
  },
  {
   "cell_type": "code",
   "execution_count": null,
   "metadata": {},
   "outputs": [],
   "source": [
    "tstr = '2012010100'\n",
    "rdr=fu.RDRReader.from_timestr(tstr).open()"
   ]
  },
  {
   "cell_type": "code",
   "execution_count": null,
   "metadata": {},
   "outputs": [],
   "source": [
    "rdr.index[0]"
   ]
  },
  {
   "cell_type": "code",
   "execution_count": null,
   "metadata": {},
   "outputs": [],
   "source": [
    "rdr.index[-1]"
   ]
  },
  {
   "cell_type": "code",
   "execution_count": null,
   "metadata": {},
   "outputs": [],
   "source": []
  }
 ],
 "metadata": {
  "kernelspec": {
   "display_name": "Python [conda env:py36]",
   "language": "python",
   "name": "conda-env-py36-py"
  },
  "language_info": {
   "codemirror_mode": {
    "name": "ipython",
    "version": 3
   },
   "file_extension": ".py",
   "mimetype": "text/x-python",
   "name": "python",
   "nbconvert_exporter": "python",
   "pygments_lexer": "ipython3",
   "version": "3.6.6"
  }
 },
 "nbformat": 4,
 "nbformat_minor": 1
}
