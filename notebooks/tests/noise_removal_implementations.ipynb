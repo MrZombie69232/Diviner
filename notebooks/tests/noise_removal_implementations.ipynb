{
 "metadata": {
  "name": "",
  "signature": "sha256:173307adf5a099be8be2f1f7ce244dee95a475353f46f4056cf9af9468fcaa09"
 },
 "nbformat": 3,
 "nbformat_minor": 0,
 "worksheets": [
  {
   "cells": [
    {
     "cell_type": "code",
     "collapsed": false,
     "input": [
      "from diviner import file_utils as fu"
     ],
     "language": "python",
     "metadata": {},
     "outputs": [],
     "prompt_number": 1
    },
    {
     "cell_type": "code",
     "collapsed": false,
     "input": [
      "tstr = '2012011401'\n",
      "obs = fu.DivObs(tstr)"
     ],
     "language": "python",
     "metadata": {},
     "outputs": [],
     "prompt_number": 3
    },
    {
     "cell_type": "code",
     "collapsed": false,
     "input": [
      "old = obs.get_l1a()"
     ],
     "language": "python",
     "metadata": {},
     "outputs": [],
     "prompt_number": 4
    },
    {
     "cell_type": "code",
     "collapsed": false,
     "input": [
      "fname_corr = '/Users/maye/data/diviner/2012011401_L1A.TAB.corrected'\n",
      "corrected = fu.read_l1a_data(fname_corr)"
     ],
     "language": "python",
     "metadata": {},
     "outputs": [],
     "prompt_number": 5
    },
    {
     "cell_type": "code",
     "collapsed": false,
     "input": [
      "cdet = 'a5_11'\n",
      "diff = old[cdet]-corrected[cdet]\n",
      "diff.plot()"
     ],
     "language": "python",
     "metadata": {},
     "outputs": [
      {
       "metadata": {},
       "output_type": "pyout",
       "prompt_number": 7,
       "text": [
        "<matplotlib.axes.AxesSubplot at 0x11d81e0d0>"
       ]
      }
     ],
     "prompt_number": 7
    },
    {
     "cell_type": "code",
     "collapsed": false,
     "input": [
      "from diviner.div_l1a_fix import correct_noise"
     ],
     "language": "python",
     "metadata": {},
     "outputs": [],
     "prompt_number": 8
    },
    {
     "cell_type": "code",
     "collapsed": false,
     "input": [
      "mycorr = correct_noise(old)"
     ],
     "language": "python",
     "metadata": {},
     "outputs": [],
     "prompt_number": 9
    },
    {
     "cell_type": "code",
     "collapsed": false,
     "input": [
      "corrected.a5_11.describe()"
     ],
     "language": "python",
     "metadata": {},
     "outputs": [
      {
       "metadata": {},
       "output_type": "pyout",
       "prompt_number": 10,
       "text": [
        "count    28128.000000\n",
        "mean     22988.846709\n",
        "std        297.210969\n",
        "min      21981.000000\n",
        "25%      22723.000000\n",
        "50%      22985.000000\n",
        "75%      23306.962500\n",
        "max      23349.000000\n",
        "dtype: float64"
       ]
      }
     ],
     "prompt_number": 10
    },
    {
     "cell_type": "code",
     "collapsed": false,
     "input": [
      "mycorr.a5_11.describe()"
     ],
     "language": "python",
     "metadata": {},
     "outputs": [
      {
       "metadata": {},
       "output_type": "pyout",
       "prompt_number": 11,
       "text": [
        "count    28128.000000\n",
        "mean     22988.846715\n",
        "std        297.210975\n",
        "min      21981.000000\n",
        "25%      22723.000000\n",
        "50%      22985.000000\n",
        "75%      23306.963217\n",
        "max      23349.000000\n",
        "dtype: float64"
       ]
      }
     ],
     "prompt_number": 11
    },
    {
     "cell_type": "code",
     "collapsed": false,
     "input": [
      "cdet = 'a5_11'\n",
      "diff = mycorr[cdet] - corrected[cdet]\n",
      "ratio = diff / corrected[cdet]\n",
      "ratio.plot()"
     ],
     "language": "python",
     "metadata": {},
     "outputs": [
      {
       "metadata": {},
       "output_type": "pyout",
       "prompt_number": 14,
       "text": [
        "<matplotlib.axes.AxesSubplot at 0x1294374d0>"
       ]
      }
     ],
     "prompt_number": 14
    },
    {
     "cell_type": "code",
     "collapsed": false,
     "input": [
      "ratio.describe()"
     ],
     "language": "python",
     "metadata": {},
     "outputs": [
      {
       "metadata": {},
       "output_type": "pyout",
       "prompt_number": 17,
       "text": [
        "count    2.812800e+04\n",
        "mean     2.650026e-10\n",
        "std      6.414053e-08\n",
        "min     -2.178970e-07\n",
        "25%      0.000000e+00\n",
        "50%      0.000000e+00\n",
        "75%      0.000000e+00\n",
        "max      2.145998e-07\n",
        "dtype: float64"
       ]
      }
     ],
     "prompt_number": 17
    },
    {
     "cell_type": "code",
     "collapsed": false,
     "input": [
      "np.allclose?"
     ],
     "language": "python",
     "metadata": {},
     "outputs": [],
     "prompt_number": 18
    },
    {
     "cell_type": "code",
     "collapsed": false,
     "input": [
      "np.allclose(mycorr[cdet],corrected[cdet])"
     ],
     "language": "python",
     "metadata": {},
     "outputs": [
      {
       "metadata": {},
       "output_type": "pyout",
       "prompt_number": 39,
       "text": [
        "True"
       ]
      }
     ],
     "prompt_number": 39
    },
    {
     "cell_type": "code",
     "collapsed": false,
     "input": [
      "(mycorr[cdet] - corrected[cdet]).plot()"
     ],
     "language": "python",
     "metadata": {},
     "outputs": [
      {
       "metadata": {},
       "output_type": "pyout",
       "prompt_number": 37,
       "text": [
        "<matplotlib.axes.AxesSubplot at 0x129cf6a50>"
       ]
      }
     ],
     "prompt_number": 37
    },
    {
     "cell_type": "code",
     "collapsed": false,
     "input": [
      "calib.thermal_detectors"
     ],
     "language": "python",
     "metadata": {},
     "outputs": [
      {
       "metadata": {},
       "output_type": "pyout",
       "prompt_number": 47,
       "text": [
        "['a3_01',\n",
        " 'a3_02',\n",
        " 'a3_03',\n",
        " 'a3_04',\n",
        " 'a3_05',\n",
        " 'a3_06',\n",
        " 'a3_07',\n",
        " 'a3_08',\n",
        " 'a3_09',\n",
        " 'a3_10',\n",
        " 'a3_11',\n",
        " 'a3_12',\n",
        " 'a3_13',\n",
        " 'a3_14',\n",
        " 'a3_15',\n",
        " 'a3_16',\n",
        " 'a3_17',\n",
        " 'a3_18',\n",
        " 'a3_19',\n",
        " 'a3_20',\n",
        " 'a3_21',\n",
        " 'a4_01',\n",
        " 'a4_02',\n",
        " 'a4_03',\n",
        " 'a4_04',\n",
        " 'a4_05',\n",
        " 'a4_06',\n",
        " 'a4_07',\n",
        " 'a4_08',\n",
        " 'a4_09',\n",
        " 'a4_10',\n",
        " 'a4_11',\n",
        " 'a4_12',\n",
        " 'a4_13',\n",
        " 'a4_14',\n",
        " 'a4_15',\n",
        " 'a4_16',\n",
        " 'a4_17',\n",
        " 'a4_18',\n",
        " 'a4_19',\n",
        " 'a4_20',\n",
        " 'a4_21',\n",
        " 'a5_01',\n",
        " 'a5_02',\n",
        " 'a5_03',\n",
        " 'a5_04',\n",
        " 'a5_05',\n",
        " 'a5_06',\n",
        " 'a5_07',\n",
        " 'a5_08',\n",
        " 'a5_09',\n",
        " 'a5_10',\n",
        " 'a5_11',\n",
        " 'a5_12',\n",
        " 'a5_13',\n",
        " 'a5_14',\n",
        " 'a5_15',\n",
        " 'a5_16',\n",
        " 'a5_17',\n",
        " 'a5_18',\n",
        " 'a5_19',\n",
        " 'a5_20',\n",
        " 'a5_21',\n",
        " 'a6_01',\n",
        " 'a6_02',\n",
        " 'a6_03',\n",
        " 'a6_04',\n",
        " 'a6_05',\n",
        " 'a6_06',\n",
        " 'a6_07',\n",
        " 'a6_08',\n",
        " 'a6_09',\n",
        " 'a6_10',\n",
        " 'a6_11',\n",
        " 'a6_12',\n",
        " 'a6_13',\n",
        " 'a6_14',\n",
        " 'a6_15',\n",
        " 'a6_16',\n",
        " 'a6_17',\n",
        " 'a6_18',\n",
        " 'a6_19',\n",
        " 'a6_20',\n",
        " 'a6_21',\n",
        " 'b1_01',\n",
        " 'b1_02',\n",
        " 'b1_03',\n",
        " 'b1_04',\n",
        " 'b1_05',\n",
        " 'b1_06',\n",
        " 'b1_07',\n",
        " 'b1_08',\n",
        " 'b1_09',\n",
        " 'b1_10',\n",
        " 'b1_11',\n",
        " 'b1_12',\n",
        " 'b1_13',\n",
        " 'b1_14',\n",
        " 'b1_15',\n",
        " 'b1_16',\n",
        " 'b1_17',\n",
        " 'b1_18',\n",
        " 'b1_19',\n",
        " 'b1_20',\n",
        " 'b1_21',\n",
        " 'b2_01',\n",
        " 'b2_02',\n",
        " 'b2_03',\n",
        " 'b2_04',\n",
        " 'b2_05',\n",
        " 'b2_06',\n",
        " 'b2_07',\n",
        " 'b2_08',\n",
        " 'b2_09',\n",
        " 'b2_10',\n",
        " 'b2_11',\n",
        " 'b2_12',\n",
        " 'b2_13',\n",
        " 'b2_14',\n",
        " 'b2_15',\n",
        " 'b2_16',\n",
        " 'b2_17',\n",
        " 'b2_18',\n",
        " 'b2_19',\n",
        " 'b2_20',\n",
        " 'b2_21',\n",
        " 'b3_01',\n",
        " 'b3_02',\n",
        " 'b3_03',\n",
        " 'b3_04',\n",
        " 'b3_05',\n",
        " 'b3_06',\n",
        " 'b3_07',\n",
        " 'b3_08',\n",
        " 'b3_09',\n",
        " 'b3_10',\n",
        " 'b3_11',\n",
        " 'b3_12',\n",
        " 'b3_13',\n",
        " 'b3_14',\n",
        " 'b3_15',\n",
        " 'b3_16',\n",
        " 'b3_17',\n",
        " 'b3_18',\n",
        " 'b3_19',\n",
        " 'b3_20',\n",
        " 'b3_21']"
       ]
      }
     ],
     "prompt_number": 47
    },
    {
     "cell_type": "code",
     "collapsed": false,
     "input": [
      "results = []\n",
      "for det in calib.thermal_detectors:\n",
      "    results.append(np.allclose(mycorr[det], corrected[det]))\n",
      "array(results).all()"
     ],
     "language": "python",
     "metadata": {},
     "outputs": [
      {
       "metadata": {},
       "output_type": "pyout",
       "prompt_number": 48,
       "text": [
        "True"
       ]
      }
     ],
     "prompt_number": 48
    },
    {
     "cell_type": "code",
     "collapsed": false,
     "input": [
      "array(results).all()"
     ],
     "language": "python",
     "metadata": {},
     "outputs": [
      {
       "metadata": {},
       "output_type": "pyout",
       "prompt_number": 44,
       "text": [
        "True"
       ]
      }
     ],
     "prompt_number": 44
    },
    {
     "cell_type": "code",
     "collapsed": false,
     "input": [],
     "language": "python",
     "metadata": {},
     "outputs": []
    }
   ],
   "metadata": {}
  }
 ]
}