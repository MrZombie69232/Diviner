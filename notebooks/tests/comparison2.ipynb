{
 "metadata": {
  "name": "",
  "signature": "sha256:34053ee3aec7ae6c5e087f594921e5214b274c94edfd0806c4e03e93cf268202"
 },
 "nbformat": 3,
 "nbformat_minor": 0,
 "worksheets": [
  {
   "cells": [
    {
     "cell_type": "code",
     "collapsed": false,
     "input": [
      "from diviner import calib, file_utils as fu\n",
      "from diviner import ana_utils as au\n",
      "reload(fu)\n",
      "reload(au)"
     ],
     "language": "python",
     "metadata": {},
     "outputs": [
      {
       "metadata": {},
       "output_type": "pyout",
       "prompt_number": 36,
       "text": [
        "<module 'diviner.ana_utils' from '/u/paige/maye/src/diviner/ana_utils.pyc'>"
       ]
      }
     ],
     "prompt_number": 36
    },
    {
     "cell_type": "code",
     "collapsed": false,
     "input": [
      "pd.__version__"
     ],
     "language": "python",
     "metadata": {},
     "outputs": [
      {
       "metadata": {},
       "output_type": "pyout",
       "prompt_number": 37,
       "text": [
        "'0.13.1-420-g6899ed6'"
       ]
      }
     ],
     "prompt_number": 37
    },
    {
     "cell_type": "code",
     "collapsed": false,
     "input": [
      "rdrdf.filter(regex='sc').columns"
     ],
     "language": "python",
     "metadata": {},
     "outputs": [
      {
       "metadata": {},
       "output_type": "pyout",
       "prompt_number": 49,
       "text": [
        "Index([u'sclk', u'sclat', u'sclon', u'scrad', u'scalt', u'sc_time_secs', u'sc_time_subs', u'ticks_at_sc_time'], dtype='object')"
       ]
      }
     ],
     "prompt_number": 49
    },
    {
     "cell_type": "code",
     "collapsed": false,
     "input": [
      "rdrdf.sclk.head()"
     ],
     "language": "python",
     "metadata": {},
     "outputs": [
      {
       "metadata": {},
       "output_type": "pyout",
       "prompt_number": 50,
       "text": [
        "2011-04-01 00:00:00.060000    3.233088e+08\n",
        "2011-04-01 00:00:00.188000    3.233088e+08\n",
        "2011-04-01 00:00:00.316000    3.233088e+08\n",
        "2011-04-01 00:00:00.444000    3.233088e+08\n",
        "2011-04-01 00:00:00.572000    3.233088e+08\n",
        "Name: sclk, dtype: float64"
       ]
      }
     ],
     "prompt_number": 50
    },
    {
     "cell_type": "code",
     "collapsed": false,
     "input": [
      "tstr = '2011040100'\n",
      "ch = 9\n",
      "det = 11\n",
      "l1a = fu.open_and_accumulate(tstr=tstr)\n",
      "c = calib.Calibrator(l1a, fix_noise=False, do_rad_corr=False)\n",
      "c.calibrate()"
     ],
     "language": "python",
     "metadata": {},
     "outputs": [],
     "prompt_number": 38
    },
    {
     "cell_type": "code",
     "collapsed": false,
     "input": [
      "tstart = fu.tstr_to_datetime('2010040100')\n",
      "tend = fu.tstr_to_datetime('2010050100')"
     ],
     "language": "python",
     "metadata": {},
     "outputs": [],
     "prompt_number": 46
    },
    {
     "cell_type": "code",
     "collapsed": false,
     "input": [
      "pd.date_range(tstart, tend)"
     ],
     "language": "python",
     "metadata": {},
     "outputs": [
      {
       "metadata": {},
       "output_type": "pyout",
       "prompt_number": 47,
       "text": [
        "<class 'pandas.tseries.index.DatetimeIndex'>\n",
        "[2010-04-01, ..., 2010-05-01]\n",
        "Length: 31, Freq: D, Timezone: None"
       ]
      }
     ],
     "prompt_number": 47
    },
    {
     "cell_type": "code",
     "collapsed": false,
     "input": [
      "c.Tb[fu.tstr_to_tindex(tstr)].index"
     ],
     "language": "python",
     "metadata": {},
     "outputs": [
      {
       "metadata": {},
       "output_type": "pyout",
       "prompt_number": 39,
       "text": [
        "<class 'pandas.tseries.index.DatetimeIndex'>\n",
        "[2011-04-01 00:00:00.060000, ..., 2011-04-01 00:59:59.978000]\n",
        "Length: 28125, Freq: None, Timezone: None"
       ]
      }
     ],
     "prompt_number": 39
    },
    {
     "cell_type": "code",
     "collapsed": false,
     "input": [
      "rdr = fu.RDRR_Reader(tstr)\n",
      "rdrdf  = rdr.open()"
     ],
     "language": "python",
     "metadata": {},
     "outputs": [],
     "prompt_number": 40
    },
    {
     "cell_type": "code",
     "collapsed": false,
     "input": [
      "rdrhelper = au.RDRR_Helper(rdrdf)\n",
      "chdetrad = rdrhelper.get_chdet_rad(ch, det)"
     ],
     "language": "python",
     "metadata": {},
     "outputs": [],
     "prompt_number": 41
    },
    {
     "cell_type": "code",
     "collapsed": false,
     "input": [
      "chdetrad[fu.tstr_to_tindex(tstr)].index"
     ],
     "language": "python",
     "metadata": {},
     "outputs": [
      {
       "metadata": {},
       "output_type": "pyout",
       "prompt_number": 43,
       "text": [
        "<class 'pandas.tseries.index.DatetimeIndex'>\n",
        "[2011-04-01 00:00:00.060000, ..., 2011-04-01 00:59:59.850000]\n",
        "Length: 28124, Freq: None, Timezone: None"
       ]
      }
     ],
     "prompt_number": 43
    },
    {
     "cell_type": "code",
     "collapsed": false,
     "input": [
      "rdrdf.index"
     ],
     "language": "python",
     "metadata": {},
     "outputs": [
      {
       "metadata": {},
       "output_type": "pyout",
       "prompt_number": 33,
       "text": [
        "<class 'pandas.tseries.index.DatetimeIndex'>\n",
        "[2011-04-01 00:00:00.060000, ..., 2011-04-01 00:59:59.850000]\n",
        "Length: 28124, Freq: None, Timezone: None"
       ]
      }
     ],
     "prompt_number": 33
    },
    {
     "cell_type": "code",
     "collapsed": false,
     "input": [
      "chdetrad.plot()"
     ],
     "language": "python",
     "metadata": {},
     "outputs": [
      {
       "metadata": {},
       "output_type": "pyout",
       "prompt_number": 26,
       "text": [
        "<matplotlib.axes.AxesSubplot at 0xa0875d0>"
       ]
      },
      {
       "metadata": {},
       "output_type": "display_data",
       "png": "[encoded data removed]",
       "text": [
        "<matplotlib.figure.Figure at 0xa09df90>"
       ]
      }
     ],
     "prompt_number": 26
    },
    {
     "cell_type": "code",
     "collapsed": false,
     "input": [
      "c.abs_radiance.b3_11.plot()"
     ],
     "language": "python",
     "metadata": {},
     "outputs": [
      {
       "metadata": {},
       "output_type": "pyout",
       "prompt_number": 10,
       "text": [
        "<matplotlib.axes.AxesSubplot at 0x11c45dfd0>"
       ]
      }
     ],
     "prompt_number": 10
    },
    {
     "cell_type": "code",
     "collapsed": false,
     "input": [
      "list(c.abs_radiance.index[:10])"
     ],
     "language": "python",
     "metadata": {},
     "outputs": [
      {
       "metadata": {},
       "output_type": "pyout",
       "prompt_number": 12,
       "text": [
        "[Timestamp('2013-03-17 16:00:02.063000', tz=None),\n",
        " Timestamp('2013-03-17 16:00:02.191000', tz=None),\n",
        " Timestamp('2013-03-17 16:00:02.319000', tz=None),\n",
        " Timestamp('2013-03-17 16:00:02.447000', tz=None),\n",
        " Timestamp('2013-03-17 16:00:02.575000', tz=None),\n",
        " Timestamp('2013-03-17 16:00:02.703000', tz=None),\n",
        " Timestamp('2013-03-17 16:00:02.831000', tz=None),\n",
        " Timestamp('2013-03-17 16:00:02.959000', tz=None),\n",
        " Timestamp('2013-03-17 16:00:03.087000', tz=None),\n",
        " Timestamp('2013-03-17 16:00:03.215000', tz=None)]"
       ]
      }
     ],
     "prompt_number": 12
    },
    {
     "cell_type": "code",
     "collapsed": false,
     "input": [
      "calhelper = au.CalibHelper(c)\n",
      "chdetradnew = calhelper.get_chdet_rad(9,11)"
     ],
     "language": "python",
     "metadata": {},
     "outputs": [],
     "prompt_number": 13
    },
    {
     "cell_type": "code",
     "collapsed": false,
     "input": [
      "chdetradnew.plot()"
     ],
     "language": "python",
     "metadata": {},
     "outputs": [
      {
       "metadata": {},
       "output_type": "pyout",
       "prompt_number": 14,
       "text": [
        "<matplotlib.axes.AxesSubplot at 0x11dea2350>"
       ]
      }
     ],
     "prompt_number": 14
    },
    {
     "cell_type": "code",
     "collapsed": false,
     "input": [
      "ratio = chdetrad/chdetradnew"
     ],
     "language": "python",
     "metadata": {},
     "outputs": [],
     "prompt_number": 15
    },
    {
     "cell_type": "code",
     "collapsed": false,
     "input": [
      "ratio.plot()"
     ],
     "language": "python",
     "metadata": {},
     "outputs": [
      {
       "metadata": {},
       "output_type": "pyout",
       "prompt_number": 16,
       "text": [
        "<matplotlib.axes.AxesSubplot at 0x11dea2350>"
       ]
      }
     ],
     "prompt_number": 16
    },
    {
     "cell_type": "code",
     "collapsed": false,
     "input": [],
     "language": "python",
     "metadata": {},
     "outputs": []
    }
   ],
   "metadata": {}
  }
 ]
}