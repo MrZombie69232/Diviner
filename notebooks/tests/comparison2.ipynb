{
 "metadata": {
  "name": "",
  "signature": "sha256:ef97a6697a6dd4ab9f324dc39b0e62bb9886f837553ac70d4b2d90d28eb5487b"
 },
 "nbformat": 3,
 "nbformat_minor": 0,
 "worksheets": [
  {
   "cells": [
    {
     "cell_type": "code",
     "collapsed": false,
     "input": [
      "from diviner import calib, file_utils as fu\n",
      "from diviner import ana_utils as au\n",
      "reload(fu)\n",
      "reload(au)"
     ],
     "language": "python",
     "metadata": {},
     "outputs": [
      {
       "metadata": {},
       "output_type": "pyout",
       "prompt_number": 36,
       "text": [
        "<module 'diviner.ana_utils' from '/Users/maye/Dropbox/src/diviner/ana_utils.pyc'>"
       ]
      }
     ],
     "prompt_number": 36
    },
    {
     "cell_type": "code",
     "collapsed": false,
     "input": [
      "pd.__version__"
     ],
     "language": "python",
     "metadata": {},
     "outputs": [
      {
       "metadata": {},
       "output_type": "pyout",
       "prompt_number": 37,
       "text": [
        "'0.13.1-343-g6efa4c1'"
       ]
      }
     ],
     "prompt_number": 37
    },
    {
     "cell_type": "code",
     "collapsed": false,
     "input": [
      "tstr = '2013031717'\n",
      "ch = 9\n",
      "det = 11\n",
      "l1a = fu.open_and_accumulate(tstr=tstr)\n",
      "c = calib.Calibrator(l1a, fix_noise=False, do_rad_corr=False)\n",
      "c.calibrate()"
     ],
     "language": "python",
     "metadata": {},
     "outputs": [
      {
       "output_type": "stream",
       "stream": "stdout",
       "text": [
        "Am here.\n",
        "Appending 2013031718 on the right."
       ]
      },
      {
       "output_type": "stream",
       "stream": "stdout",
       "text": [
        "\n"
       ]
      }
     ],
     "prompt_number": 38
    },
    {
     "cell_type": "code",
     "collapsed": false,
     "input": [
      "rdr = fu.RDRReader.from_timestr(tstr)\n",
      "rdrdf  = rdr.read_df()"
     ],
     "language": "python",
     "metadata": {},
     "outputs": [],
     "prompt_number": 4
    },
    {
     "cell_type": "code",
     "collapsed": false,
     "input": [
      "rdrhelper = au.RDRHelper(rdrdf)\n",
      "chdetrad = rdrhelper.get_chdet_rad(ch, det)"
     ],
     "language": "python",
     "metadata": {},
     "outputs": [],
     "prompt_number": 5
    },
    {
     "cell_type": "code",
     "collapsed": false,
     "input": [
      "chdetrad.plot()"
     ],
     "language": "python",
     "metadata": {},
     "outputs": [
      {
       "metadata": {},
       "output_type": "pyout",
       "prompt_number": 6,
       "text": [
        "<matplotlib.axes.AxesSubplot at 0x11cd7da50>"
       ]
      }
     ],
     "prompt_number": 6
    },
    {
     "cell_type": "code",
     "collapsed": false,
     "input": [
      "c.abs_radiance.b3_11.plot()"
     ],
     "language": "python",
     "metadata": {},
     "outputs": [
      {
       "metadata": {},
       "output_type": "pyout",
       "prompt_number": 26,
       "text": [
        "<matplotlib.axes.AxesSubplot at 0x11def91d0>"
       ]
      }
     ],
     "prompt_number": 26
    },
    {
     "cell_type": "code",
     "collapsed": false,
     "input": [
      "list(chdet.index[:10])"
     ],
     "language": "python",
     "metadata": {},
     "outputs": [
      {
       "metadata": {},
       "output_type": "pyout",
       "prompt_number": 32,
       "text": [
        "[Timestamp('2013-03-17 17:00:00.065000', tz=None),\n",
        " Timestamp('2013-03-17 17:00:00.193000', tz=None),\n",
        " Timestamp('2013-03-17 17:00:00.321000', tz=None),\n",
        " Timestamp('2013-03-17 17:00:00.469000', tz=None),\n",
        " Timestamp('2013-03-17 17:00:00.597000', tz=None),\n",
        " Timestamp('2013-03-17 17:00:00.725000', tz=None),\n",
        " Timestamp('2013-03-17 17:00:00.853000', tz=None),\n",
        " Timestamp('2013-03-17 17:00:00.981000', tz=None),\n",
        " Timestamp('2013-03-17 17:00:01.110000', tz=None),\n",
        " Timestamp('2013-03-17 17:00:01.237000', tz=None)]"
       ]
      }
     ],
     "prompt_number": 32
    },
    {
     "cell_type": "code",
     "collapsed": false,
     "input": [
      "list(c.abs_radiance.index[:10])"
     ],
     "language": "python",
     "metadata": {},
     "outputs": [
      {
       "metadata": {},
       "output_type": "pyout",
       "prompt_number": 34,
       "text": [
        "[Timestamp('2013-03-17 17:00:00.469000', tz=None),\n",
        " Timestamp('2013-03-17 17:00:00.597000', tz=None),\n",
        " Timestamp('2013-03-17 17:00:00.725000', tz=None),\n",
        " Timestamp('2013-03-17 17:00:00.853000', tz=None),\n",
        " Timestamp('2013-03-17 17:00:00.981000', tz=None),\n",
        " Timestamp('2013-03-17 17:00:01.110000', tz=None),\n",
        " Timestamp('2013-03-17 17:00:01.237000', tz=None),\n",
        " Timestamp('2013-03-17 17:00:01.365000', tz=None),\n",
        " Timestamp('2013-03-17 17:00:01.494000', tz=None),\n",
        " Timestamp('2013-03-17 17:00:01.622000', tz=None)]"
       ]
      }
     ],
     "prompt_number": 34
    },
    {
     "cell_type": "code",
     "collapsed": false,
     "input": [
      "calhelper = au.CalibHelper(c)\n",
      "chdetradnew = calhelper.get_chdet_rad(9,11)"
     ],
     "language": "python",
     "metadata": {},
     "outputs": [],
     "prompt_number": 18
    },
    {
     "cell_type": "code",
     "collapsed": false,
     "input": [
      "chdetradnew.plot()"
     ],
     "language": "python",
     "metadata": {},
     "outputs": [
      {
       "metadata": {},
       "output_type": "pyout",
       "prompt_number": 19,
       "text": [
        "<matplotlib.axes.AxesSubplot at 0x11cd7da50>"
       ]
      }
     ],
     "prompt_number": 19
    },
    {
     "cell_type": "code",
     "collapsed": false,
     "input": [
      "ratio = chdetrad/chdetradnew"
     ],
     "language": "python",
     "metadata": {},
     "outputs": [],
     "prompt_number": 23
    },
    {
     "cell_type": "code",
     "collapsed": false,
     "input": [
      "ratio.plot()"
     ],
     "language": "python",
     "metadata": {},
     "outputs": [
      {
       "metadata": {},
       "output_type": "pyout",
       "prompt_number": 24,
       "text": [
        "<matplotlib.axes.AxesSubplot at 0x11d4a2550>"
       ]
      }
     ],
     "prompt_number": 24
    },
    {
     "cell_type": "code",
     "collapsed": false,
     "input": [],
     "language": "python",
     "metadata": {},
     "outputs": []
    }
   ],
   "metadata": {}
  }
 ]
}