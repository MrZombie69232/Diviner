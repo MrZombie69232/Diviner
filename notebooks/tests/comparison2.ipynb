{
 "metadata": {
  "name": "",
  "signature": "sha256:84d131fba06af862e0f3e8ea69d1e1a70dd4b9ab60eee1753259abf989b73083"
 },
 "nbformat": 3,
 "nbformat_minor": 0,
 "worksheets": [
  {
   "cells": [
    {
     "cell_type": "code",
     "collapsed": false,
     "input": [
      "from diviner import calib, file_utils as fu\n",
      "from diviner import ana_utils as au\n",
      "from diviner import get_divdata as gd\n",
      "from diviner import data_prep as dp\n",
      "reload(fu)\n",
      "reload(au)\n",
      "reload(calib)\n",
      "reload(dp)\n",
      "reload(gd)"
     ],
     "language": "python",
     "metadata": {},
     "outputs": [
      {
       "metadata": {},
       "output_type": "pyout",
       "prompt_number": 1,
       "text": [
        "<module 'diviner.get_divdata' from '/Users/maye/Dropbox/src/diviner/get_divdata.pyc'>"
       ]
      }
     ],
     "prompt_number": 1
    },
    {
     "cell_type": "code",
     "collapsed": false,
     "input": [
      "pd.__version__"
     ],
     "language": "python",
     "metadata": {},
     "outputs": [
      {
       "metadata": {},
       "output_type": "pyout",
       "prompt_number": 2,
       "text": [
        "'0.13.1-395-g391ed32'"
       ]
      }
     ],
     "prompt_number": 2
    },
    {
     "cell_type": "code",
     "collapsed": false,
     "input": [
      "tstr = '2011040110'\n",
      "c = 9\n",
      "det = 11"
     ],
     "language": "python",
     "metadata": {},
     "outputs": [],
     "prompt_number": 37
    },
    {
     "cell_type": "code",
     "collapsed": true,
     "input": [
      "l1a = fu.open_and_accumulate(tstr=tstr)\n",
      "# l1a = fu.L1ADataFile.from_timestr(tstr).open()\n",
      "rdr2 = calib.Calibrator(l1a, do_jpl_calib=True)\n",
      "rdr2.calibrate()"
     ],
     "language": "python",
     "metadata": {},
     "outputs": [
      {
       "ename": "IndexError",
       "evalue": "list index out of range",
       "output_type": "pyerr",
       "traceback": [
        "---------------------------------------------------------------------------\nIndexError                                Traceback (most recent call last)",
        "<ipython-input-38-f5b4e45d76ac> in <module>()\n----> 1 l1a = fu.open_and_accumulate(tstr=tstr)\n      2 # l1a = fu.L1ADataFile.from_timestr(tstr).open()\n      3 rdr2 = calib.Calibrator(l1a, do_jpl_calib=True)\n      4 rdr2.calibrate()\n",
        "/Users/maye/Dropbox/src/diviner/file_utils.pyc in open_and_accumulate(fname, tstr, minimum_number)\n    792         sys.exit()\n    793     if tstr:\n--> 794         centerfile = L1ADataFile.from_timestr(tstr)\n    795     else:\n    796         centerfile = L1ADataFile(fname)\n",
        "/Users/maye/Dropbox/src/diviner/file_utils.pyc in from_timestr(cls, timestr)\n    726         fnames = glob.glob(os.path.join(cls.datapath,\n    727                                         timestr + '*' + cls.this_ext))\n--> 728         return cls(fname=fnames[0])\n    729 \n    730     def __init__(self, fname):\n",
        "IndexError: list index out of range"
       ]
      }
     ],
     "prompt_number": 38
    },
    {
     "cell_type": "code",
     "collapsed": true,
     "input": [
      "divdata = gd.get_divdata(tstr, c, det, save_hdf=True, keep_csv=True,\n",
      "                         drop_dates=False, ignore_cache=True)"
     ],
     "language": "python",
     "metadata": {},
     "outputs": []
    },
    {
     "cell_type": "code",
     "collapsed": false,
     "input": [
      "tstr = '2013031707'\n",
      "c = 9\n",
      "det = 11"
     ],
     "language": "python",
     "metadata": {},
     "outputs": [],
     "prompt_number": 3
    },
    {
     "cell_type": "code",
     "collapsed": false,
     "input": [
      "rdr1 = fu.RDRR_Reader(tstr).open()"
     ],
     "language": "python",
     "metadata": {},
     "outputs": [],
     "prompt_number": 4
    },
    {
     "cell_type": "code",
     "collapsed": false,
     "input": [
      "l1a = fu.get_clean_l1a(tstr)\n",
      "rdr2 = calib.Calibrator(l1a,  do_jpl_calib=True)\n",
      "rdr2.calibrate()"
     ],
     "language": "python",
     "metadata": {},
     "outputs": [],
     "prompt_number": 12
    },
    {
     "cell_type": "code",
     "collapsed": false,
     "input": [
      "calhelper = au.CalibHelper(rdr2)\n",
      "rad2 = calhelper.get_cdet_rad(c, det, tstr)\n",
      "rad2.tail()"
     ],
     "language": "python",
     "metadata": {},
     "outputs": [
      {
       "metadata": {},
       "output_type": "pyout",
       "prompt_number": 13,
       "text": [
        "2013-03-17 07:59:59.387000    0.099214\n",
        "2013-03-17 07:59:59.515000    0.094875\n",
        "2013-03-17 07:59:59.643000    0.090536\n",
        "2013-03-17 07:59:59.771000    0.099214\n",
        "2013-03-17 07:59:59.899000    0.097044\n",
        "Name: b3_11, dtype: float64"
       ]
      }
     ],
     "prompt_number": 13
    },
    {
     "cell_type": "code",
     "collapsed": false,
     "input": [
      "rdrrhelper = au.RDRR_Helper(rdr1)\n",
      "rad1 = rdrrhelper.get_cdet_rad(c, det)\n",
      "rad1.tail()"
     ],
     "language": "python",
     "metadata": {},
     "outputs": [
      {
       "metadata": {},
       "output_type": "pyout",
       "prompt_number": 11,
       "text": [
        "2013-03-17 07:59:59.259000    0.1020\n",
        "2013-03-17 07:59:59.387000    0.1042\n",
        "2013-03-17 07:59:59.515000    0.0998\n",
        "2013-03-17 07:59:59.643000    0.0955\n",
        "2013-03-17 07:59:59.771000    0.1042\n",
        "Name: radiance_9_11, dtype: float64"
       ]
      }
     ],
     "prompt_number": 11
    },
    {
     "cell_type": "code",
     "collapsed": false,
     "input": [
      "rdr2.df.bb_2_temp_interp.plot()"
     ],
     "language": "python",
     "metadata": {},
     "outputs": [
      {
       "metadata": {},
       "output_type": "pyout",
       "prompt_number": 8,
       "text": [
        "<matplotlib.axes.AxesSubplot at 0x135b4e950>"
       ]
      }
     ],
     "prompt_number": 8
    },
    {
     "cell_type": "code",
     "collapsed": false,
     "input": [
      "rad2[rad1.ix[rad2.index].isnull()]"
     ],
     "language": "python",
     "metadata": {},
     "outputs": [
      {
       "metadata": {},
       "output_type": "pyout",
       "prompt_number": 30,
       "text": [
        "2013-03-17 07:10:33.076000    0.119638\n",
        "2013-03-17 07:59:59.899000    0.097044\n",
        "Name: b3_11, dtype: float64"
       ]
      }
     ],
     "prompt_number": 30
    },
    {
     "cell_type": "code",
     "collapsed": false,
     "input": [
      "rdr1['20130317 07:10:20':'20130317 07:11:30'].af"
     ],
     "language": "python",
     "metadata": {},
     "outputs": [
      {
       "metadata": {},
       "output_type": "pyout",
       "prompt_number": 67,
       "text": [
        "2013-03-17 07:10:20.020000   -360\n",
        "2013-03-17 07:10:20.148000   -360\n",
        "2013-03-17 07:10:20.276000   -360\n",
        "2013-03-17 07:10:20.404000   -360\n",
        "2013-03-17 07:10:20.532000   -360\n",
        "2013-03-17 07:10:20.660000   -360\n",
        "2013-03-17 07:10:20.788000   -360\n",
        "2013-03-17 07:10:20.916000   -360\n",
        "2013-03-17 07:10:21.044000   -360\n",
        "2013-03-17 07:10:21.172000   -360\n",
        "2013-03-17 07:10:21.300000   -360\n",
        "2013-03-17 07:10:21.428000   -360\n",
        "2013-03-17 07:10:21.556000   -360\n",
        "2013-03-17 07:10:21.684000   -360\n",
        "2013-03-17 07:10:21.812000   -360\n",
        "...\n",
        "2013-03-17 07:11:28.117000   -110\n",
        "2013-03-17 07:11:28.245000   -110\n",
        "2013-03-17 07:11:28.373000   -110\n",
        "2013-03-17 07:11:28.501000   -110\n",
        "2013-03-17 07:11:28.629000   -110\n",
        "2013-03-17 07:11:28.757000   -110\n",
        "2013-03-17 07:11:28.885000   -110\n",
        "2013-03-17 07:11:29.013000   -110\n",
        "2013-03-17 07:11:29.141000   -110\n",
        "2013-03-17 07:11:29.269000   -110\n",
        "2013-03-17 07:11:29.397000   -110\n",
        "2013-03-17 07:11:29.525000   -110\n",
        "2013-03-17 07:11:29.653000   -110\n",
        "2013-03-17 07:11:29.781000   -110\n",
        "2013-03-17 07:11:29.909000   -110\n",
        "Name: af, Length: 547"
       ]
      }
     ],
     "prompt_number": 67
    },
    {
     "cell_type": "code",
     "collapsed": false,
     "input": [
      "compare1 = pd.DataFrame(rad1).join(pd.DataFrame(rad2), how='inner')\n",
      "compare1\n",
      "compare2 = pd.merge(pd.DataFrame(rad1), pd.DataFrame(rad2), how='inner',\n",
      "                    left_index=True, right_index=True)\n",
      "compare2\n",
      "(compare1 == compare2).describe()"
     ],
     "language": "python",
     "metadata": {},
     "outputs": [
      {
       "html": [
        "<div style=\"max-height:1000px;max-width:1500px;overflow:auto;\">\n",
        "<table border=\"1\" class=\"dataframe\">\n",
        "  <thead>\n",
        "    <tr style=\"text-align: right;\">\n",
        "      <th></th>\n",
        "      <th>radiance_9_11</th>\n",
        "      <th>b3_11</th>\n",
        "    </tr>\n",
        "  </thead>\n",
        "  <tbody>\n",
        "    <tr>\n",
        "      <th>count</th>\n",
        "      <td>       27979</td>\n",
        "      <td> 27979</td>\n",
        "    </tr>\n",
        "    <tr>\n",
        "      <th>mean</th>\n",
        "      <td>   0.9999643</td>\n",
        "      <td>     1</td>\n",
        "    </tr>\n",
        "    <tr>\n",
        "      <th>std</th>\n",
        "      <td> 0.005978385</td>\n",
        "      <td>     0</td>\n",
        "    </tr>\n",
        "    <tr>\n",
        "      <th>min</th>\n",
        "      <td>       False</td>\n",
        "      <td>  True</td>\n",
        "    </tr>\n",
        "    <tr>\n",
        "      <th>25%</th>\n",
        "      <td>           1</td>\n",
        "      <td>     1</td>\n",
        "    </tr>\n",
        "    <tr>\n",
        "      <th>50%</th>\n",
        "      <td>           1</td>\n",
        "      <td>     1</td>\n",
        "    </tr>\n",
        "    <tr>\n",
        "      <th>75%</th>\n",
        "      <td>           1</td>\n",
        "      <td>     1</td>\n",
        "    </tr>\n",
        "    <tr>\n",
        "      <th>max</th>\n",
        "      <td>        True</td>\n",
        "      <td>  True</td>\n",
        "    </tr>\n",
        "  </tbody>\n",
        "</table>\n",
        "<p>8 rows \u00d7 2 columns</p>\n",
        "</div>"
       ],
       "metadata": {},
       "output_type": "pyout",
       "prompt_number": 15,
       "text": [
        "      radiance_9_11  b3_11\n",
        "count         27979  27979\n",
        "mean      0.9999643      1\n",
        "std     0.005978385      0\n",
        "min           False   True\n",
        "25%               1      1\n",
        "50%               1      1\n",
        "75%               1      1\n",
        "max            True   True\n",
        "\n",
        "[8 rows x 2 columns]"
       ]
      }
     ],
     "prompt_number": 15
    },
    {
     "cell_type": "code",
     "collapsed": false,
     "input": [
      "(compare1.b3_11 == compare2.b3_11).value_counts()"
     ],
     "language": "python",
     "metadata": {},
     "outputs": [
      {
       "metadata": {},
       "output_type": "pyout",
       "prompt_number": 22,
       "text": [
        "True    27979\n",
        "dtype: int64"
       ]
      }
     ],
     "prompt_number": 22
    },
    {
     "cell_type": "code",
     "collapsed": true,
     "input": [
      "helper = au.CalibHelper(rdr2)\n",
      "myrad = helper.get_cdet_rad(c, det, tstr).ix[divdata.index]\n",
      "divrad = divdata.radiance\n",
      "print myrad.shape\n",
      "print divrad.shape"
     ],
     "language": "python",
     "metadata": {},
     "outputs": []
    },
    {
     "cell_type": "code",
     "collapsed": false,
     "input": [
      "for i in xrange(myrad.shape[0]):\n",
      "    i_myrad = myrad.index[i]\n",
      "    i_divrad = divrad.index[i]\n",
      "    if i_myrad != i_divrad:\n",
      "        print i\n",
      "        print i_myrad\n",
      "        print i_divrad\n",
      "        break"
     ],
     "language": "python",
     "metadata": {},
     "outputs": []
    },
    {
     "cell_type": "code",
     "collapsed": false,
     "input": [
      "divrad.index[0]"
     ],
     "language": "python",
     "metadata": {},
     "outputs": []
    },
    {
     "cell_type": "code",
     "collapsed": false,
     "input": [
      "list(divrad.sort_index().index[60:65])"
     ],
     "language": "python",
     "metadata": {},
     "outputs": []
    },
    {
     "cell_type": "code",
     "collapsed": false,
     "input": [
      "myrad.isnull().value_counts()"
     ],
     "language": "python",
     "metadata": {},
     "outputs": []
    },
    {
     "cell_type": "code",
     "collapsed": false,
     "input": [
      "no = 26000\n",
      "set(rdr2.Tb.index[:no] == divdata.index[:no])"
     ],
     "language": "python",
     "metadata": {},
     "outputs": []
    },
    {
     "cell_type": "code",
     "collapsed": false,
     "input": [
      "divdata.head().index"
     ],
     "language": "python",
     "metadata": {},
     "outputs": []
    },
    {
     "cell_type": "code",
     "collapsed": false,
     "input": [
      "myrad.head().index"
     ],
     "language": "python",
     "metadata": {},
     "outputs": []
    },
    {
     "cell_type": "code",
     "collapsed": false,
     "input": [
      "fig, ax = subplots(2)\n",
      "divrad.plot(ax=ax[0],style='.')\n",
      "myrad.plot(ax=ax[1],style='.')"
     ],
     "language": "python",
     "metadata": {},
     "outputs": []
    },
    {
     "cell_type": "code",
     "collapsed": false,
     "input": [
      "print myrad.index[:10]\n",
      "print divdata.index[:10]"
     ],
     "language": "python",
     "metadata": {},
     "outputs": []
    },
    {
     "cell_type": "code",
     "collapsed": false,
     "input": [
      "myrad.index"
     ],
     "language": "python",
     "metadata": {},
     "outputs": []
    },
    {
     "cell_type": "code",
     "collapsed": false,
     "input": [
      "t1 = '20110401 10:24:32'\n",
      "t2 = '20110401 10:24:33'\n",
      "divdata = divdata[t1:t2]\n",
      "divdata"
     ],
     "language": "python",
     "metadata": {},
     "outputs": []
    },
    {
     "cell_type": "code",
     "collapsed": false,
     "input": [
      "myrad[t1:t2]"
     ],
     "language": "python",
     "metadata": {},
     "outputs": []
    },
    {
     "cell_type": "code",
     "collapsed": false,
     "input": [
      "from datetime import datetime\n",
      "\n",
      "def cutoff_msec(ts):\n",
      "    dtime = ts.to_datetime()\n",
      "    return pd.Timestamp(datetime(dtime.year,dtime.month,dtime.day,\n",
      "                                 dtime.hour,dtime.minute,dtime.second))\n",
      "\n",
      "def parse_divdata_times(df, drop_dates=True):\n",
      "    format = \"%Y%m%d%H%M\"\n",
      "    timecols = 'year month date hour minute'.split()\n",
      "    subdf = df[timecols].astype('int')\n",
      "    seconds = pd.Series(df.second*1e9, dtype='timedelta64[ns]')\n",
      "    up_to_min = pd.to_datetime(subdf.year*int(1e8) + subdf.month*int(1e6) + \n",
      "                               subdf.date*int(1e4) + subdf.hour*int(1e2) + \n",
      "                               subdf.minute, format=format, utc=False)\n",
      "    times = up_to_min + seconds\n",
      "    index = pd.DatetimeIndex(times)\n",
      "    ts = pd.TimeSeries(index.map(cutoff_msec))\n",
      "    ms = pd.Series(index.microsecond.round(-3)*1000, dtype='timedelta64[ns]')\n",
      "    newindex = ts+ms\n",
      "    return newindex\n",
      "#     df.set_index(newindex, inplace=True)\n",
      "#     return df.drop(timecols, axis=1) if drop_dates else df \n"
     ],
     "language": "python",
     "metadata": {},
     "outputs": []
    },
    {
     "cell_type": "code",
     "collapsed": false,
     "input": [
      "divdata.index = parse_divdata_times(divdata)"
     ],
     "language": "python",
     "metadata": {},
     "outputs": []
    },
    {
     "cell_type": "code",
     "collapsed": false,
     "input": [
      "parse_divdata_times(divdata)[60:65]"
     ],
     "language": "python",
     "metadata": {},
     "outputs": []
    },
    {
     "cell_type": "code",
     "collapsed": false,
     "input": [
      "dtime = ts.to_datetime()"
     ],
     "language": "python",
     "metadata": {},
     "outputs": []
    },
    {
     "cell_type": "code",
     "collapsed": false,
     "input": [
      "from datetime import datetime"
     ],
     "language": "python",
     "metadata": {},
     "outputs": []
    },
    {
     "cell_type": "code",
     "collapsed": false,
     "input": [
      "def cutoff_msec(ts):\n",
      "    dtime = ts.to_datetime()\n",
      "    return pd.Timestamp(datetime(dtime.year,dtime.month,dtime.day,\n",
      "                                 dtime.hour,dtime.minute,dtime.second))"
     ],
     "language": "python",
     "metadata": {},
     "outputs": []
    },
    {
     "cell_type": "code",
     "collapsed": false,
     "input": [
      "divdata.index.map(cutoff_msec)"
     ],
     "language": "python",
     "metadata": {},
     "outputs": []
    },
    {
     "cell_type": "code",
     "collapsed": false,
     "input": [
      "def round_to_sec(ts):\n",
      "    return pd.Timestamp(long(np.round(ts.value, -9)))\n",
      "def parse_divdata_times(df, drop_dates=True):\n",
      "    format = \"%Y%m%d%H%M\"\n",
      "    timecols = 'year month date hour minute'.split()\n",
      "    subdf = df[timecols].astype('int')\n",
      "    seconds = pd.Series(df.second*1e9, dtype='timedelta64[ns]')\n",
      "    up_to_min = pd.to_datetime(subdf.year*int(1e8) + subdf.month*int(1e6) + \n",
      "                               subdf.date*int(1e4) + subdf.hour*int(1e2) + \n",
      "                               subdf.minute, format=format, utc=False)\n",
      "    times = up_to_min + seconds\n",
      "    return times"
     ],
     "language": "python",
     "metadata": {},
     "outputs": []
    },
    {
     "cell_type": "code",
     "collapsed": false,
     "input": [
      "index = divdata.index[300:310]"
     ],
     "language": "python",
     "metadata": {},
     "outputs": []
    },
    {
     "cell_type": "code",
     "collapsed": false,
     "input": [
      "ts = pd.TimeSeries(index.map(round_to_sec))"
     ],
     "language": "python",
     "metadata": {},
     "outputs": []
    },
    {
     "cell_type": "code",
     "collapsed": false,
     "input": [
      "ms = pd.Series(index.microsecond.round(-1)*1000,dtype='timedelta64[ns]')"
     ],
     "language": "python",
     "metadata": {},
     "outputs": []
    },
    {
     "cell_type": "code",
     "collapsed": false,
     "input": [
      "ts+ms"
     ],
     "language": "python",
     "metadata": {},
     "outputs": []
    },
    {
     "cell_type": "code",
     "collapsed": false,
     "input": [
      "pd.DatetimeIndex(index.map(to_the_second))"
     ],
     "language": "python",
     "metadata": {},
     "outputs": []
    },
    {
     "cell_type": "code",
     "collapsed": false,
     "input": [
      "pd.DatetimeIndex(divdata.index.map(to_the_second))[0]"
     ],
     "language": "python",
     "metadata": {},
     "outputs": []
    },
    {
     "cell_type": "code",
     "collapsed": false,
     "input": [
      "myradindex = myrad.index\n",
      "divdataindex = divdata.index"
     ],
     "language": "python",
     "metadata": {},
     "outputs": []
    },
    {
     "cell_type": "code",
     "collapsed": false,
     "input": [
      "rdr2index[0]"
     ],
     "language": "python",
     "metadata": {},
     "outputs": []
    },
    {
     "cell_type": "code",
     "collapsed": false,
     "input": [
      "divdataindex[0]"
     ],
     "language": "python",
     "metadata": {},
     "outputs": []
    },
    {
     "cell_type": "code",
     "collapsed": false,
     "input": [
      "divdata.columns"
     ],
     "language": "python",
     "metadata": {},
     "outputs": []
    },
    {
     "cell_type": "code",
     "collapsed": false,
     "input": [
      "from diviner import data_prep as dp"
     ],
     "language": "python",
     "metadata": {},
     "outputs": []
    },
    {
     "cell_type": "code",
     "collapsed": false,
     "input": [
      "newdivdata = dp.parse_divdata_times(divdata)"
     ],
     "language": "python",
     "metadata": {},
     "outputs": []
    },
    {
     "cell_type": "code",
     "collapsed": false,
     "input": [
      "myrad[tindex].isnull().value_counts()"
     ],
     "language": "python",
     "metadata": {},
     "outputs": []
    },
    {
     "cell_type": "code",
     "collapsed": false,
     "input": [
      "l1a['20110401 10:23'].b3_11.isnull().value_counts()"
     ],
     "language": "python",
     "metadata": {},
     "outputs": []
    },
    {
     "cell_type": "code",
     "collapsed": false,
     "input": [
      "rdr2.Tb.b3_11['20110401 10:23'].isnull().value_counts()"
     ],
     "language": "python",
     "metadata": {},
     "outputs": []
    },
    {
     "cell_type": "code",
     "collapsed": false,
     "input": [
      "index = divdata.radiance[tindex].index"
     ],
     "language": "python",
     "metadata": {},
     "outputs": []
    },
    {
     "cell_type": "code",
     "collapsed": false,
     "input": [
      "rdr2.abs_radiance.b3_11.ix[index].il"
     ],
     "language": "python",
     "metadata": {},
     "outputs": []
    },
    {
     "cell_type": "code",
     "collapsed": false,
     "input": [],
     "language": "python",
     "metadata": {},
     "outputs": []
    },
    {
     "cell_type": "code",
     "collapsed": false,
     "input": [],
     "language": "python",
     "metadata": {},
     "outputs": []
    },
    {
     "cell_type": "code",
     "collapsed": false,
     "input": [
      "fig, axnew = subplots()\n",
      "rdr2.gains_interp.b3_11.plot()"
     ],
     "language": "python",
     "metadata": {},
     "outputs": []
    },
    {
     "cell_type": "code",
     "collapsed": false,
     "input": [
      "tstart = fu.tstr_to_datetime('2010040100')\n",
      "tend = fu.tstr_to_datetime('2010050100')"
     ],
     "language": "python",
     "metadata": {},
     "outputs": []
    },
    {
     "cell_type": "code",
     "collapsed": false,
     "input": [
      "pd.date_range(tstart, tend)"
     ],
     "language": "python",
     "metadata": {},
     "outputs": []
    },
    {
     "cell_type": "code",
     "collapsed": false,
     "input": [
      "c.Tb[fu.tstr_to_tindex(tstr)].index"
     ],
     "language": "python",
     "metadata": {},
     "outputs": []
    },
    {
     "cell_type": "code",
     "collapsed": false,
     "input": [
      "rdr = fu.RDRR_Reader(tstr)\n",
      "rdrdf  = rdr.open()"
     ],
     "language": "python",
     "metadata": {},
     "outputs": []
    },
    {
     "cell_type": "code",
     "collapsed": false,
     "input": [
      "rdrhelper = au.RDRR_Helper(rdrdf)\n",
      "chdetrad = rdrhelper.get_chdet_rad(ch, det)"
     ],
     "language": "python",
     "metadata": {},
     "outputs": []
    },
    {
     "cell_type": "code",
     "collapsed": false,
     "input": [
      "chdetrad[fu.tstr_to_tindex(tstr)].index"
     ],
     "language": "python",
     "metadata": {},
     "outputs": []
    },
    {
     "cell_type": "code",
     "collapsed": false,
     "input": [
      "rdrdf.index"
     ],
     "language": "python",
     "metadata": {},
     "outputs": []
    },
    {
     "cell_type": "code",
     "collapsed": false,
     "input": [
      "chdetrad.plot()"
     ],
     "language": "python",
     "metadata": {},
     "outputs": []
    },
    {
     "cell_type": "code",
     "collapsed": false,
     "input": [
      "c.abs_radiance.b3_11.plot()"
     ],
     "language": "python",
     "metadata": {},
     "outputs": []
    },
    {
     "cell_type": "code",
     "collapsed": false,
     "input": [
      "list(c.abs_radiance.index[:10])"
     ],
     "language": "python",
     "metadata": {},
     "outputs": []
    },
    {
     "cell_type": "code",
     "collapsed": false,
     "input": [
      "calhelper = au.CalibHelper(c)\n",
      "chdetradnew = calhelper.get_chdet_rad(9,11)"
     ],
     "language": "python",
     "metadata": {},
     "outputs": []
    },
    {
     "cell_type": "code",
     "collapsed": false,
     "input": [
      "chdetradnew.plot()"
     ],
     "language": "python",
     "metadata": {},
     "outputs": []
    },
    {
     "cell_type": "code",
     "collapsed": false,
     "input": [
      "ratio = chdetrad/chdetradnew"
     ],
     "language": "python",
     "metadata": {},
     "outputs": []
    },
    {
     "cell_type": "code",
     "collapsed": false,
     "input": [
      "ratio.plot()"
     ],
     "language": "python",
     "metadata": {},
     "outputs": []
    },
    {
     "cell_type": "code",
     "collapsed": false,
     "input": [],
     "language": "python",
     "metadata": {},
     "outputs": []
    }
   ],
   "metadata": {}
  }
 ]
}