{
 "metadata": {
  "name": "check RBB calculation",
  "signature": "sha256:83aa51f1b0d1f95fce9e12c554ffa15d5c374218bc227e62c7dad94005886286"
 },
 "nbformat": 3,
 "nbformat_minor": 0,
 "worksheets": [
  {
   "cells": [
    {
     "cell_type": "code",
     "collapsed": false,
     "input": [
      "from diviner import calib\n",
      "from diviner import file_utils as fu\n",
      "from diviner import plot_utils as pu\n",
      "import pandas as pd\n",
      "reload(fu)\n",
      "reload(calib)"
     ],
     "language": "python",
     "metadata": {},
     "outputs": [
      {
       "metadata": {},
       "output_type": "pyout",
       "prompt_number": 1,
       "text": [
        "<module 'diviner.calib' from '/Users/maye/Dropbox/src/diviner/calib.pyc'>"
       ]
      }
     ],
     "prompt_number": 1
    },
    {
     "cell_type": "code",
     "collapsed": false,
     "input": [
      "pd.set_option('line_width',1000)"
     ],
     "language": "python",
     "metadata": {},
     "outputs": [],
     "prompt_number": 2
    },
    {
     "cell_type": "code",
     "collapsed": false,
     "input": [
      "rcParams['figure.figsize']=(14,10)"
     ],
     "language": "python",
     "metadata": {},
     "outputs": [],
     "prompt_number": 3
    },
    {
     "cell_type": "code",
     "collapsed": false,
     "input": [
      "pump = fu.Div247DataPump('20110402')"
     ],
     "language": "python",
     "metadata": {},
     "outputs": [],
     "prompt_number": 4
    },
    {
     "cell_type": "code",
     "collapsed": false,
     "input": [
      "df = pump.get_n_hours_from_t(3,10)"
     ],
     "language": "python",
     "metadata": {},
     "outputs": [
      {
       "output_type": "stream",
       "stream": "stdout",
       "text": [
        "2011040210.div247\n",
        "2011040211.div247"
       ]
      },
      {
       "output_type": "stream",
       "stream": "stdout",
       "text": [
        "\n",
        "2011040212.div247"
       ]
      },
      {
       "output_type": "stream",
       "stream": "stdout",
       "text": [
        "\n"
       ]
      }
     ],
     "prompt_number": 5
    },
    {
     "cell_type": "code",
     "collapsed": false,
     "input": [
      "df"
     ],
     "language": "python",
     "metadata": {},
     "outputs": [
      {
       "html": [
        "<pre>\n",
        "&lt;class 'pandas.core.frame.DataFrame'&gt;\n",
        "DatetimeIndex: 83120 entries, 2011-04-02 10:00:00.849000 to 2011-04-02 12:57:20.245999\n",
        "Columns: 252 entries, sclk to is_calib\n",
        "dtypes: bool(6), float64(241), int32(4), int64(1)\n",
        "</pre>"
       ],
       "metadata": {},
       "output_type": "pyout",
       "prompt_number": 6,
       "text": [
        "<class 'pandas.core.frame.DataFrame'>\n",
        "DatetimeIndex: 83120 entries, 2011-04-02 10:00:00.849000 to 2011-04-02 12:57:20.245999\n",
        "Columns: 252 entries, sclk to is_calib\n",
        "dtypes: bool(6), float64(241), int32(4), int64(1)"
       ]
      }
     ],
     "prompt_number": 6
    },
    {
     "cell_type": "code",
     "collapsed": false,
     "input": [
      "calibrator = calib.Calibrator(df)"
     ],
     "language": "python",
     "metadata": {},
     "outputs": [],
     "prompt_number": 7
    },
    {
     "cell_type": "code",
     "collapsed": false,
     "input": [
      "calibrator.interpolate_bb_temps()"
     ],
     "language": "python",
     "metadata": {},
     "outputs": [],
     "prompt_number": 8
    },
    {
     "cell_type": "code",
     "collapsed": false,
     "input": [
      "calibrator.calc_calib_times()"
     ],
     "language": "python",
     "metadata": {},
     "outputs": [],
     "prompt_number": 9
    },
    {
     "cell_type": "code",
     "collapsed": false,
     "input": [
      "calibrator.calib_times"
     ],
     "language": "python",
     "metadata": {},
     "outputs": [
      {
       "metadata": {},
       "output_type": "pyout",
       "prompt_number": 10,
       "text": [
        "calib_block_labels\n",
        "1                    2011-04-02 10:02:30.288999\n",
        "2                    2011-04-02 10:12:48.785000\n",
        "3                    2011-04-02 10:23:10.353000\n",
        "4                    2011-04-02 10:43:36.114999\n",
        "5                    2011-04-02 10:53:52.568999\n",
        "6                    2011-04-02 11:04:09.029999\n",
        "7                    2011-04-02 11:14:25.489999\n",
        "8                    2011-04-02 11:24:41.949999\n",
        "9                    2011-04-02 11:34:58.410000\n",
        "10                   2011-04-02 11:45:16.917999\n",
        "11                   2011-04-02 11:50:28.219999\n",
        "12                   2011-04-02 12:00:44.678000\n",
        "13                   2011-04-02 12:11:01.134499\n",
        "14                   2011-04-02 12:21:17.590999\n",
        "15                   2011-04-02 12:31:34.047999\n",
        "16                   2011-04-02 12:41:50.504499\n",
        "17                   2011-04-02 12:52:06.960999\n",
        "dtype: datetime64[ns]"
       ]
      }
     ],
     "prompt_number": 10
    },
    {
     "cell_type": "code",
     "collapsed": false,
     "input": [
      "bbviews_temps = df[df.is_bbview][['bb_1_temp_interp','bb_2_temp_interp']]"
     ],
     "language": "python",
     "metadata": {},
     "outputs": [],
     "prompt_number": 123
    },
    {
     "cell_type": "code",
     "collapsed": false,
     "input": [
      "bbtemps = bbviews_temps.groupby(df.calib_block_labels).agg(calibrator.skipped_mean,calibrator.BBV_NUM_SKIP_SAMPLE)"
     ],
     "language": "python",
     "metadata": {},
     "outputs": [],
     "prompt_number": 124
    },
    {
     "cell_type": "code",
     "collapsed": false,
     "input": [
      "bbtemps"
     ],
     "language": "python",
     "metadata": {},
     "outputs": [
      {
       "html": [
        "<div style=\"max-height:1000px;max-width:1500px;overflow:auto;\">\n",
        "<table border=\"1\" class=\"dataframe\">\n",
        "  <thead>\n",
        "    <tr style=\"text-align: right;\">\n",
        "      <th></th>\n",
        "      <th>bb_1_temp_interp</th>\n",
        "      <th>bb_2_temp_interp</th>\n",
        "    </tr>\n",
        "    <tr>\n",
        "      <th>calib_block_labels</th>\n",
        "      <th></th>\n",
        "      <th></th>\n",
        "    </tr>\n",
        "  </thead>\n",
        "  <tbody>\n",
        "    <tr>\n",
        "      <th>1</th>\n",
        "      <td> 303.740889</td>\n",
        "      <td> 303.766811</td>\n",
        "    </tr>\n",
        "    <tr>\n",
        "      <th>2</th>\n",
        "      <td> 302.981189</td>\n",
        "      <td> 302.937542</td>\n",
        "    </tr>\n",
        "    <tr>\n",
        "      <th>3</th>\n",
        "      <td> 302.706494</td>\n",
        "      <td> 302.657213</td>\n",
        "    </tr>\n",
        "    <tr>\n",
        "      <th>4</th>\n",
        "      <td> 304.221063</td>\n",
        "      <td> 304.232188</td>\n",
        "    </tr>\n",
        "    <tr>\n",
        "      <th>5</th>\n",
        "      <td> 305.903021</td>\n",
        "      <td> 305.832846</td>\n",
        "    </tr>\n",
        "  </tbody>\n",
        "</table>\n",
        "</div>"
       ],
       "metadata": {},
       "output_type": "pyout",
       "prompt_number": 125,
       "text": [
        "                    bb_1_temp_interp  bb_2_temp_interp\n",
        "calib_block_labels                                    \n",
        "1                         303.740889        303.766811\n",
        "2                         302.981189        302.937542\n",
        "3                         302.706494        302.657213\n",
        "4                         304.221063        304.232188\n",
        "5                         305.903021        305.832846"
       ]
      }
     ],
     "prompt_number": 125
    },
    {
     "cell_type": "markdown",
     "metadata": {},
     "source": [
      "this is what calc_one_RBB gets for channel 9:"
     ]
    },
    {
     "cell_type": "code",
     "collapsed": false,
     "input": [
      "calibrator.rbbtable.get_radiance(bbtemps.bb_2_temp_interp, 9)"
     ],
     "language": "python",
     "metadata": {},
     "outputs": [
      {
       "metadata": {},
       "output_type": "pyout",
       "prompt_number": 135,
       "text": [
        "array([ 1.01541655,  1.01202165,  1.0108742 ,  1.01732194,  1.02387674])"
       ]
      }
     ],
     "prompt_number": 135
    },
    {
     "cell_type": "markdown",
     "metadata": {},
     "source": [
      "convert all bb_2_temp_interp temperatures into radiances"
     ]
    },
    {
     "cell_type": "code",
     "collapsed": false,
     "input": [
      "RBB_ch9_all = pd.Series(calibrator.rbbtable.get_radiance(df.bb_2_temp_interp, 9),index=df.index)"
     ],
     "language": "python",
     "metadata": {},
     "outputs": [],
     "prompt_number": 127
    },
    {
     "cell_type": "markdown",
     "metadata": {},
     "source": [
      "get only bbview data from these"
     ]
    },
    {
     "cell_type": "code",
     "collapsed": false,
     "input": [
      "bbview_rbbs = RBB_ch9_all[df.is_bbview]"
     ],
     "language": "python",
     "metadata": {},
     "outputs": [],
     "prompt_number": 128
    },
    {
     "cell_type": "markdown",
     "metadata": {},
     "source": [
      "group them by calib blocks"
     ]
    },
    {
     "cell_type": "code",
     "collapsed": false,
     "input": [
      "grouped = bbview_rbbs.groupby(df.calib_block_labels)"
     ],
     "language": "python",
     "metadata": {},
     "outputs": [],
     "prompt_number": 129
    },
    {
     "cell_type": "code",
     "collapsed": false,
     "input": [
      "d = dict(list(grouped))"
     ],
     "language": "python",
     "metadata": {},
     "outputs": [],
     "prompt_number": 130
    },
    {
     "cell_type": "code",
     "collapsed": false,
     "input": [
      "rbb_cb1 = d[1]"
     ],
     "language": "python",
     "metadata": {},
     "outputs": [],
     "prompt_number": 131
    },
    {
     "cell_type": "code",
     "collapsed": false,
     "input": [
      "calibrator.skipped_mean(rbb_cb1,16)"
     ],
     "language": "python",
     "metadata": {},
     "outputs": [
      {
       "metadata": {},
       "output_type": "pyout",
       "prompt_number": 139,
       "text": [
        "1.0154165486087192"
       ]
      }
     ],
     "prompt_number": 139
    },
    {
     "cell_type": "code",
     "collapsed": false,
     "input": [
      "for i,j in zip(calibrator.calc_one_RBB(return_values=True).a6_11.values,\n",
      "               calibrator.calc_many_RBB(return_values=True).a6_11.values):\n",
      "    print i-j"
     ],
     "language": "python",
     "metadata": {},
     "outputs": [
      {
       "output_type": "stream",
       "stream": "stdout",
       "text": [
        "-1.33226762955e-15\n",
        "-1.11022302463e-15\n",
        "-2.22044604925e-16\n",
        "-6.66133814775e-16\n",
        "-1.33226762955e-15\n",
        "2.22044604925e-16\n",
        "-1.55431223448e-15\n",
        "2.22044604925e-16\n",
        "4.4408920985e-16\n",
        "0.0\n",
        "4.4408920985e-16\n",
        "-2.22044604925e-16\n",
        "8.881784197e-16\n",
        "0.0\n",
        "6.66133814775e-16\n",
        "-1.15269530809e-07\n",
        "-2.22044604925e-16\n"
       ]
      }
     ],
     "prompt_number": 16
    },
    {
     "cell_type": "code",
     "collapsed": false,
     "input": [
      "%timeit calibrator.calc_one_RBB()"
     ],
     "language": "python",
     "metadata": {},
     "outputs": [
      {
       "output_type": "stream",
       "stream": "stdout",
       "text": [
        "10 loops, best of 3: 68.3 ms per loop\n"
       ]
      }
     ],
     "prompt_number": 153
    },
    {
     "cell_type": "code",
     "collapsed": false,
     "input": [
      "%timeit calibrator.calc_many_RBB()"
     ],
     "language": "python",
     "metadata": {},
     "outputs": [
      {
       "output_type": "stream",
       "stream": "stdout",
       "text": [
        "1 loops, best of 3: 356 ms per loop\n"
       ]
      }
     ],
     "prompt_number": 154
    },
    {
     "cell_type": "code",
     "collapsed": false,
     "input": [
      "calibrator.calc_many_RBB(return_values=True).b3_11.values[0]"
     ],
     "language": "python",
     "metadata": {},
     "outputs": [
      {
       "metadata": {},
       "output_type": "pyout",
       "prompt_number": 140,
       "text": [
        "1.0154165486087192"
       ]
      }
     ],
     "prompt_number": 140
    },
    {
     "cell_type": "code",
     "collapsed": false,
     "input": [
      "T_cols = ['bb_1_temp_interp','bb_2_temp_interp']"
     ],
     "language": "python",
     "metadata": {},
     "outputs": [],
     "prompt_number": 97
    },
    {
     "cell_type": "code",
     "collapsed": false,
     "input": [
      "bbviews_temps = df[df.is_bbview][T_cols]"
     ],
     "language": "python",
     "metadata": {},
     "outputs": [],
     "prompt_number": 98
    },
    {
     "cell_type": "code",
     "collapsed": false,
     "input": [
      "bbviews_temps"
     ],
     "language": "python",
     "metadata": {},
     "outputs": [
      {
       "html": [
        "<pre>\n",
        "&lt;class 'pandas.core.frame.DataFrame'&gt;\n",
        "DatetimeIndex: 400 entries, 2011-04-02 10:02:24.208999 to 2011-04-02 10:53:56.600999\n",
        "Data columns (total 2 columns):\n",
        "bb_1_temp_interp    400  non-null values\n",
        "bb_2_temp_interp    400  non-null values\n",
        "dtypes: float64(2)\n",
        "</pre>"
       ],
       "metadata": {},
       "output_type": "pyout",
       "prompt_number": 99,
       "text": [
        "<class 'pandas.core.frame.DataFrame'>\n",
        "DatetimeIndex: 400 entries, 2011-04-02 10:02:24.208999 to 2011-04-02 10:53:56.600999\n",
        "Data columns (total 2 columns):\n",
        "bb_1_temp_interp    400  non-null values\n",
        "bb_2_temp_interp    400  non-null values\n",
        "dtypes: float64(2)"
       ]
      }
     ],
     "prompt_number": 99
    },
    {
     "cell_type": "code",
     "collapsed": false,
     "input": [
      "grouped = bbviews_temps.groupby(df.calib_block_labels)"
     ],
     "language": "python",
     "metadata": {},
     "outputs": [],
     "prompt_number": 100
    },
    {
     "cell_type": "code",
     "collapsed": false,
     "input": [
      "grouped.size()"
     ],
     "language": "python",
     "metadata": {},
     "outputs": [
      {
       "metadata": {},
       "output_type": "pyout",
       "prompt_number": 101,
       "text": [
        "calib_block_labels\n",
        "1                     80\n",
        "2                     80\n",
        "3                     80\n",
        "4                     80\n",
        "5                     80\n",
        "dtype: int64"
       ]
      }
     ],
     "prompt_number": 101
    },
    {
     "cell_type": "code",
     "collapsed": false,
     "input": [
      "bbtemps = grouped.agg(calibrator.skipped_mean, calibrator.BBV_NUM_SKIP_SAMPLE)"
     ],
     "language": "python",
     "metadata": {},
     "outputs": [],
     "prompt_number": 102
    },
    {
     "cell_type": "code",
     "collapsed": false,
     "input": [
      "bbtemps"
     ],
     "language": "python",
     "metadata": {},
     "outputs": [
      {
       "html": [
        "<div style=\"max-height:1000px;max-width:1500px;overflow:auto;\">\n",
        "<table border=\"1\" class=\"dataframe\">\n",
        "  <thead>\n",
        "    <tr style=\"text-align: right;\">\n",
        "      <th></th>\n",
        "      <th>bb_1_temp_interp</th>\n",
        "      <th>bb_2_temp_interp</th>\n",
        "    </tr>\n",
        "    <tr>\n",
        "      <th>calib_block_labels</th>\n",
        "      <th></th>\n",
        "      <th></th>\n",
        "    </tr>\n",
        "  </thead>\n",
        "  <tbody>\n",
        "    <tr>\n",
        "      <th>1</th>\n",
        "      <td> 303.740889</td>\n",
        "      <td> 303.766811</td>\n",
        "    </tr>\n",
        "    <tr>\n",
        "      <th>2</th>\n",
        "      <td> 302.981189</td>\n",
        "      <td> 302.937542</td>\n",
        "    </tr>\n",
        "    <tr>\n",
        "      <th>3</th>\n",
        "      <td> 302.706494</td>\n",
        "      <td> 302.657213</td>\n",
        "    </tr>\n",
        "    <tr>\n",
        "      <th>4</th>\n",
        "      <td> 304.221063</td>\n",
        "      <td> 304.232188</td>\n",
        "    </tr>\n",
        "    <tr>\n",
        "      <th>5</th>\n",
        "      <td> 305.903021</td>\n",
        "      <td> 305.832846</td>\n",
        "    </tr>\n",
        "  </tbody>\n",
        "</table>\n",
        "</div>"
       ],
       "metadata": {},
       "output_type": "pyout",
       "prompt_number": 103,
       "text": [
        "                    bb_1_temp_interp  bb_2_temp_interp\n",
        "calib_block_labels                                    \n",
        "1                         303.740889        303.766811\n",
        "2                         302.981189        302.937542\n",
        "3                         302.706494        302.657213\n",
        "4                         304.221063        304.232188\n",
        "5                         305.903021        305.832846"
       ]
      }
     ],
     "prompt_number": 103
    },
    {
     "cell_type": "code",
     "collapsed": false,
     "input": [
      "RBB = pd.DataFrame(index=calibrator.bbcal_times)"
     ],
     "language": "python",
     "metadata": {},
     "outputs": [],
     "prompt_number": 104
    },
    {
     "cell_type": "code",
     "collapsed": false,
     "input": [
      "calibrator.lookup_radiances_for_thermal_channels(bbtemps, RBB)"
     ],
     "language": "python",
     "metadata": {},
     "outputs": [],
     "prompt_number": 105
    },
    {
     "cell_type": "code",
     "collapsed": false,
     "input": [
      "RBB.b3_11"
     ],
     "language": "python",
     "metadata": {},
     "outputs": [
      {
       "metadata": {},
       "output_type": "pyout",
       "prompt_number": 107,
       "text": [
        "2011-04-02 10:02:30.288999   NaN\n",
        "2011-04-02 10:12:48.785000   NaN\n",
        "2011-04-02 10:23:29.809000   NaN\n",
        "2011-04-02 10:43:36.114999   NaN\n",
        "2011-04-02 10:53:52.568999   NaN\n",
        "Name: b3_11, dtype: float64"
       ]
      }
     ],
     "prompt_number": 107
    },
    {
     "cell_type": "code",
     "collapsed": false,
     "input": [
      "bbtemps"
     ],
     "language": "python",
     "metadata": {},
     "outputs": [
      {
       "html": [
        "<div style=\"max-height:1000px;max-width:1500px;overflow:auto;\">\n",
        "<table border=\"1\" class=\"dataframe\">\n",
        "  <thead>\n",
        "    <tr style=\"text-align: right;\">\n",
        "      <th></th>\n",
        "      <th>bb_1_temp_interp</th>\n",
        "      <th>bb_2_temp_interp</th>\n",
        "    </tr>\n",
        "    <tr>\n",
        "      <th>calib_block_labels</th>\n",
        "      <th></th>\n",
        "      <th></th>\n",
        "    </tr>\n",
        "  </thead>\n",
        "  <tbody>\n",
        "    <tr>\n",
        "      <th>1</th>\n",
        "      <td> 303.740889</td>\n",
        "      <td> 303.766811</td>\n",
        "    </tr>\n",
        "    <tr>\n",
        "      <th>2</th>\n",
        "      <td> 302.981189</td>\n",
        "      <td> 302.937542</td>\n",
        "    </tr>\n",
        "    <tr>\n",
        "      <th>3</th>\n",
        "      <td> 302.706494</td>\n",
        "      <td> 302.657213</td>\n",
        "    </tr>\n",
        "    <tr>\n",
        "      <th>4</th>\n",
        "      <td> 304.221063</td>\n",
        "      <td> 304.232188</td>\n",
        "    </tr>\n",
        "    <tr>\n",
        "      <th>5</th>\n",
        "      <td> 305.903021</td>\n",
        "      <td> 305.832846</td>\n",
        "    </tr>\n",
        "  </tbody>\n",
        "</table>\n",
        "</div>"
       ],
       "metadata": {},
       "output_type": "pyout",
       "prompt_number": 108,
       "text": [
        "                    bb_1_temp_interp  bb_2_temp_interp\n",
        "calib_block_labels                                    \n",
        "1                         303.740889        303.766811\n",
        "2                         302.981189        302.937542\n",
        "3                         302.706494        302.657213\n",
        "4                         304.221063        304.232188\n",
        "5                         305.903021        305.832846"
       ]
      }
     ],
     "prompt_number": 108
    },
    {
     "cell_type": "code",
     "collapsed": false,
     "input": [
      "bbtemp = bbtemps['bb_2_temp_interp']"
     ],
     "language": "python",
     "metadata": {},
     "outputs": [],
     "prompt_number": 110
    },
    {
     "cell_type": "code",
     "collapsed": false,
     "input": [
      "bbtemp"
     ],
     "language": "python",
     "metadata": {},
     "outputs": [
      {
       "metadata": {},
       "output_type": "pyout",
       "prompt_number": 111,
       "text": [
        "calib_block_labels\n",
        "1                     303.766811\n",
        "2                     302.937542\n",
        "3                     302.657213\n",
        "4                     304.232188\n",
        "5                     305.832846\n",
        "Name: bb_2_temp_interp, dtype: float64"
       ]
      }
     ],
     "prompt_number": 111
    },
    {
     "cell_type": "code",
     "collapsed": false,
     "input": [
      "RBBs = calibrator.rbbtable.get_radiance(bbtemp,9)"
     ],
     "language": "python",
     "metadata": {},
     "outputs": [],
     "prompt_number": 115
    },
    {
     "cell_type": "code",
     "collapsed": false,
     "input": [
      "channel_rbbs = pd.Series(RBBs, index = bbtemps."
     ],
     "language": "python",
     "metadata": {},
     "outputs": []
    }
   ],
   "metadata": {}
  }
 ]
}