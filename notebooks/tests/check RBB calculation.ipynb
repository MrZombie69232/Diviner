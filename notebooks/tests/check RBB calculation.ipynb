{
 "cells": [
  {
   "cell_type": "code",
   "execution_count": 1,
   "metadata": {},
   "outputs": [],
   "source": [
    "from diviner import calib\n",
    "from diviner import file_utils as fu\n",
    "from diviner import plot_utils as pu\n",
    "import pandas as pd"
   ]
  },
  {
   "cell_type": "code",
   "execution_count": 2,
   "metadata": {},
   "outputs": [
    {
     "data": {
      "text/plain": [
       "20"
      ]
     },
     "execution_count": 2,
     "metadata": {},
     "output_type": "execute_result"
    }
   ],
   "source": [
    "pd.get_option('display.max_columns')"
   ]
  },
  {
   "cell_type": "code",
   "execution_count": 3,
   "metadata": {},
   "outputs": [],
   "source": [
    "pd.set_option('display.max_columns',200)"
   ]
  },
  {
   "cell_type": "code",
   "execution_count": 4,
   "metadata": {},
   "outputs": [],
   "source": [
    "pump = fu.Div247DataPump('20110402')"
   ]
  },
  {
   "cell_type": "code",
   "execution_count": 5,
   "metadata": {},
   "outputs": [
    {
     "name": "stdout",
     "output_type": "stream",
     "text": [
      "2011040210.div247\n",
      "2011040211.div247\n",
      "2011040212.div247\n"
     ]
    }
   ],
   "source": [
    "df = pump.get_n_hours_from_t(3,10)"
   ]
  },
  {
   "cell_type": "code",
   "execution_count": 6,
   "metadata": {},
   "outputs": [
    {
     "name": "stdout",
     "output_type": "stream",
     "text": [
      "<class 'pandas.core.frame.DataFrame'>\n",
      "DatetimeIndex: 83120 entries, 2011-04-02 10:00:00.849000 to 2011-04-02 12:57:20.245999\n",
      "Columns: 252 entries, sclk to is_calib\n",
      "dtypes: bool(6), float64(241), int32(4), int64(1)\n",
      "memory usage: 155.8 MB\n"
     ]
    }
   ],
   "source": [
    "df.info()"
   ]
  },
  {
   "cell_type": "code",
   "execution_count": 7,
   "metadata": {},
   "outputs": [
    {
     "name": "stderr",
     "output_type": "stream",
     "text": [
      "INFO:diviner.calib:Calibrating from 2011-04-02 10:00:00.849000 to 2011-04-02 12:57:20.245999.\n"
     ]
    }
   ],
   "source": [
    "calibrator = calib.Calibrator(df)"
   ]
  },
  {
   "cell_type": "code",
   "execution_count": 8,
   "metadata": {},
   "outputs": [],
   "source": [
    "calibrator.interpolate_bb_temps()"
   ]
  },
  {
   "cell_type": "code",
   "execution_count": 9,
   "metadata": {},
   "outputs": [
    {
     "ename": "AttributeError",
     "evalue": "'Calibrator' object has no attribute 'calc_calib_times'",
     "output_type": "error",
     "traceback": [
      "\u001b[0;31m---------------------------------------------------------------------------\u001b[0m",
      "\u001b[0;31mAttributeError\u001b[0m                            Traceback (most recent call last)",
      "\u001b[0;32m<ipython-input-9-7776230fadbe>\u001b[0m in \u001b[0;36m<module>\u001b[0;34m\u001b[0m\n\u001b[0;32m----> 1\u001b[0;31m \u001b[0mcalibrator\u001b[0m\u001b[0;34m.\u001b[0m\u001b[0mcalc_calib_times\u001b[0m\u001b[0;34m(\u001b[0m\u001b[0;34m)\u001b[0m\u001b[0;34m\u001b[0m\u001b[0;34m\u001b[0m\u001b[0m\n\u001b[0m",
      "\u001b[0;31mAttributeError\u001b[0m: 'Calibrator' object has no attribute 'calc_calib_times'"
     ]
    }
   ],
   "source": [
    "calibrator.calc_calib_times()"
   ]
  },
  {
   "cell_type": "code",
   "execution_count": 12,
   "metadata": {},
   "outputs": [
    {
     "name": "stderr",
     "output_type": "stream",
     "text": [
      "INFO:diviner.calib:Performing radiance correction on 2011-04-02 10:00:00.849000\n",
      "/u/paige/maye/src/diviner/diviner/calib.py:847: FutureWarning: get_value is deprecated and will be removed in a future release. Please use .at[] or .iat[] accessors instead\n",
      "  ] *= self.norm_to_abs_converter.get_value(2, channel)\n"
     ]
    }
   ],
   "source": [
    "calibrator.calibrate()"
   ]
  },
  {
   "cell_type": "code",
   "execution_count": 21,
   "metadata": {},
   "outputs": [],
   "source": [
    "df = calibrator.df"
   ]
  },
  {
   "cell_type": "code",
   "execution_count": 22,
   "metadata": {},
   "outputs": [],
   "source": [
    "bbviews_temps = df[df.is_bbview][['bb_1_temp_interp','bb_2_temp_interp']]"
   ]
  },
  {
   "cell_type": "code",
   "execution_count": 25,
   "metadata": {},
   "outputs": [],
   "source": [
    "group = bbviews_temps.groupby(df.calib_block_labels)"
   ]
  },
  {
   "cell_type": "code",
   "execution_count": 26,
   "metadata": {},
   "outputs": [
    {
     "data": {
      "text/plain": [
       "\u001b[0;31mSignature:\u001b[0m \u001b[0mgroup\u001b[0m\u001b[0;34m.\u001b[0m\u001b[0magg\u001b[0m\u001b[0;34m(\u001b[0m\u001b[0marg\u001b[0m\u001b[0;34m,\u001b[0m \u001b[0;34m*\u001b[0m\u001b[0margs\u001b[0m\u001b[0;34m,\u001b[0m \u001b[0;34m**\u001b[0m\u001b[0mkwargs\u001b[0m\u001b[0;34m)\u001b[0m\u001b[0;34m\u001b[0m\u001b[0;34m\u001b[0m\u001b[0m\n",
       "\u001b[0;31mDocstring:\u001b[0m\n",
       "Aggregate using one or more operations over the specified axis.\n",
       "\n",
       "\n",
       "\n",
       "Parameters\n",
       "----------\n",
       "func : function, str, list or dict\n",
       "    Function to use for aggregating the data. If a function, must either\n",
       "    work when passed a DataFrame or when passed to DataFrame.apply.\n",
       "\n",
       "    Accepted combinations are:\n",
       "\n",
       "    - function\n",
       "    - string function name\n",
       "    - list of functions and/or function names, e.g. ``[np.sum, 'mean']``\n",
       "    - dict of axis labels -> functions, function names or list of such.\n",
       "\n",
       "*args\n",
       "    Positional arguments to pass to `func`.\n",
       "**kwargs\n",
       "    Keyword arguments to pass to `func`.\n",
       "\n",
       "Returns\n",
       "-------\n",
       "DataFrame, Series or scalar\n",
       "    if DataFrame.agg is called with a single function, returns a Series\n",
       "    if DataFrame.agg is called with several functions, returns a DataFrame\n",
       "    if Series.agg is called with single function, returns a scalar\n",
       "    if Series.agg is called with several functions, returns a Series\n",
       "\n",
       "\n",
       "See Also\n",
       "--------\n",
       "pandas.DataFrame.groupby.apply\n",
       "pandas.DataFrame.groupby.transform\n",
       "pandas.DataFrame.aggregate\n",
       "\n",
       "\n",
       "Notes\n",
       "-----\n",
       "`agg` is an alias for `aggregate`. Use the alias.\n",
       "\n",
       "A passed user-defined-function will be passed a Series for evaluation.\n",
       "\n",
       "\n",
       "Examples\n",
       "--------\n",
       "\n",
       ">>> df = pd.DataFrame({'A': [1, 1, 2, 2],\n",
       "...                    'B': [1, 2, 3, 4],\n",
       "...                    'C': np.random.randn(4)})\n",
       "\n",
       ">>> df\n",
       "   A  B         C\n",
       "0  1  1  0.362838\n",
       "1  1  2  0.227877\n",
       "2  2  3  1.267767\n",
       "3  2  4 -0.562860\n",
       "\n",
       "The aggregation is for each column.\n",
       "\n",
       ">>> df.groupby('A').agg('min')\n",
       "   B         C\n",
       "A\n",
       "1  1  0.227877\n",
       "2  3 -0.562860\n",
       "\n",
       "Multiple aggregations\n",
       "\n",
       ">>> df.groupby('A').agg(['min', 'max'])\n",
       "    B             C\n",
       "  min max       min       max\n",
       "A\n",
       "1   1   2  0.227877  0.362838\n",
       "2   3   4 -0.562860  1.267767\n",
       "\n",
       "Select a column for aggregation\n",
       "\n",
       ">>> df.groupby('A').B.agg(['min', 'max'])\n",
       "   min  max\n",
       "A\n",
       "1    1    2\n",
       "2    3    4\n",
       "\n",
       "Different aggregations per column\n",
       "\n",
       ">>> df.groupby('A').agg({'B': ['min', 'max'], 'C': 'sum'})\n",
       "    B             C\n",
       "  min max       sum\n",
       "A\n",
       "1   1   2  0.590716\n",
       "2   3   4  0.704907\n",
       "\u001b[0;31mFile:\u001b[0m      /usr/local/epd/miniconda/envs/py37/lib/python3.7/site-packages/pandas/core/groupby/generic.py\n",
       "\u001b[0;31mType:\u001b[0m      method\n"
      ]
     },
     "metadata": {},
     "output_type": "display_data"
    }
   ],
   "source": [
    "group.agg?"
   ]
  },
  {
   "cell_type": "code",
   "execution_count": 24,
   "metadata": {},
   "outputs": [
    {
     "ename": "AttributeError",
     "evalue": "'Calibrator' object has no attribute 'skipped_mean'",
     "output_type": "error",
     "traceback": [
      "\u001b[0;31m---------------------------------------------------------------------------\u001b[0m",
      "\u001b[0;31mAttributeError\u001b[0m                            Traceback (most recent call last)",
      "\u001b[0;32m<ipython-input-24-ad291a60c3cd>\u001b[0m in \u001b[0;36m<module>\u001b[0;34m\u001b[0m\n\u001b[0;32m----> 1\u001b[0;31m \u001b[0mbbtemps\u001b[0m \u001b[0;34m=\u001b[0m \u001b[0mbbviews_temps\u001b[0m\u001b[0;34m.\u001b[0m\u001b[0mgroupby\u001b[0m\u001b[0;34m(\u001b[0m\u001b[0mdf\u001b[0m\u001b[0;34m.\u001b[0m\u001b[0mcalib_block_labels\u001b[0m\u001b[0;34m)\u001b[0m\u001b[0;34m.\u001b[0m\u001b[0magg\u001b[0m\u001b[0;34m(\u001b[0m\u001b[0mcalibrator\u001b[0m\u001b[0;34m.\u001b[0m\u001b[0mskipped_mean\u001b[0m\u001b[0;34m,\u001b[0m\u001b[0mcalibrator\u001b[0m\u001b[0;34m.\u001b[0m\u001b[0mBBV_NUM_SKIP_SAMPLE\u001b[0m\u001b[0;34m)\u001b[0m\u001b[0;34m\u001b[0m\u001b[0;34m\u001b[0m\u001b[0m\n\u001b[0m",
      "\u001b[0;31mAttributeError\u001b[0m: 'Calibrator' object has no attribute 'skipped_mean'"
     ]
    }
   ],
   "source": [
    "bbtemps = bbviews_temps.groupby(df.calib_block_labels).agg(calibrator.skipped_mean,calibrator.BBV_NUM_SKIP_SAMPLE)"
   ]
  },
  {
   "cell_type": "code",
   "execution_count": null,
   "metadata": {},
   "outputs": [],
   "source": [
    "calib.config."
   ]
  },
  {
   "cell_type": "code",
   "execution_count": null,
   "metadata": {},
   "outputs": [],
   "source": [
    "bbtemps"
   ]
  },
  {
   "cell_type": "markdown",
   "metadata": {},
   "source": [
    "this is what calc_one_RBB gets for channel 9:"
   ]
  },
  {
   "cell_type": "code",
   "execution_count": null,
   "metadata": {},
   "outputs": [],
   "source": [
    "calibrator.rbbtable.get_radiance(bbtemps.bb_2_temp_interp, 9)"
   ]
  },
  {
   "cell_type": "markdown",
   "metadata": {},
   "source": [
    "convert all bb_2_temp_interp temperatures into radiances"
   ]
  },
  {
   "cell_type": "code",
   "execution_count": null,
   "metadata": {},
   "outputs": [],
   "source": [
    "RBB_ch9_all = pd.Series(calibrator.rbbtable.get_radiance(df.bb_2_temp_interp, 9),index=df.index)"
   ]
  },
  {
   "cell_type": "markdown",
   "metadata": {},
   "source": [
    "get only bbview data from these"
   ]
  },
  {
   "cell_type": "code",
   "execution_count": null,
   "metadata": {},
   "outputs": [],
   "source": [
    "bbview_rbbs = RBB_ch9_all[df.is_bbview]"
   ]
  },
  {
   "cell_type": "markdown",
   "metadata": {},
   "source": [
    "group them by calib blocks"
   ]
  },
  {
   "cell_type": "code",
   "execution_count": null,
   "metadata": {},
   "outputs": [],
   "source": [
    "grouped = bbview_rbbs.groupby(df.calib_block_labels)"
   ]
  },
  {
   "cell_type": "code",
   "execution_count": null,
   "metadata": {},
   "outputs": [],
   "source": [
    "d = dict(list(grouped))"
   ]
  },
  {
   "cell_type": "code",
   "execution_count": null,
   "metadata": {},
   "outputs": [],
   "source": [
    "rbb_cb1 = d[1]"
   ]
  },
  {
   "cell_type": "code",
   "execution_count": null,
   "metadata": {},
   "outputs": [],
   "source": [
    "calibrator.skipped_mean(rbb_cb1,16)"
   ]
  },
  {
   "cell_type": "code",
   "execution_count": null,
   "metadata": {},
   "outputs": [],
   "source": [
    "for i,j in zip(calibrator.calc_one_RBB(return_values=True).a6_11.values,\n",
    "               calibrator.calc_many_RBB(return_values=True).a6_11.values):\n",
    "    print i-j"
   ]
  },
  {
   "cell_type": "code",
   "execution_count": null,
   "metadata": {},
   "outputs": [],
   "source": [
    "%timeit calibrator.calc_one_RBB()"
   ]
  },
  {
   "cell_type": "code",
   "execution_count": null,
   "metadata": {},
   "outputs": [],
   "source": [
    "%timeit calibrator.calc_many_RBB()"
   ]
  },
  {
   "cell_type": "code",
   "execution_count": null,
   "metadata": {},
   "outputs": [],
   "source": [
    "calibrator.calc_many_RBB(return_values=True).b3_11.values[0]"
   ]
  },
  {
   "cell_type": "code",
   "execution_count": null,
   "metadata": {},
   "outputs": [],
   "source": [
    "T_cols = ['bb_1_temp_interp','bb_2_temp_interp']"
   ]
  },
  {
   "cell_type": "code",
   "execution_count": null,
   "metadata": {},
   "outputs": [],
   "source": [
    "bbviews_temps = df[df.is_bbview][T_cols]"
   ]
  },
  {
   "cell_type": "code",
   "execution_count": null,
   "metadata": {},
   "outputs": [],
   "source": [
    "bbviews_temps"
   ]
  },
  {
   "cell_type": "code",
   "execution_count": null,
   "metadata": {},
   "outputs": [],
   "source": [
    "grouped = bbviews_temps.groupby(df.calib_block_labels)"
   ]
  },
  {
   "cell_type": "code",
   "execution_count": null,
   "metadata": {},
   "outputs": [],
   "source": [
    "grouped.size()"
   ]
  },
  {
   "cell_type": "code",
   "execution_count": null,
   "metadata": {},
   "outputs": [],
   "source": [
    "bbtemps = grouped.agg(calibrator.skipped_mean, calibrator.BBV_NUM_SKIP_SAMPLE)"
   ]
  },
  {
   "cell_type": "code",
   "execution_count": null,
   "metadata": {},
   "outputs": [],
   "source": [
    "bbtemps"
   ]
  },
  {
   "cell_type": "code",
   "execution_count": null,
   "metadata": {},
   "outputs": [],
   "source": [
    "RBB = pd.DataFrame(index=calibrator.bbcal_times)"
   ]
  },
  {
   "cell_type": "code",
   "execution_count": null,
   "metadata": {},
   "outputs": [],
   "source": [
    "calibrator.lookup_radiances_for_thermal_channels(bbtemps, RBB)"
   ]
  },
  {
   "cell_type": "code",
   "execution_count": null,
   "metadata": {},
   "outputs": [],
   "source": [
    "RBB.b3_11"
   ]
  },
  {
   "cell_type": "code",
   "execution_count": null,
   "metadata": {},
   "outputs": [],
   "source": [
    "bbtemps"
   ]
  },
  {
   "cell_type": "code",
   "execution_count": null,
   "metadata": {},
   "outputs": [],
   "source": [
    "bbtemp = bbtemps['bb_2_temp_interp']"
   ]
  },
  {
   "cell_type": "code",
   "execution_count": null,
   "metadata": {},
   "outputs": [],
   "source": [
    "bbtemp"
   ]
  },
  {
   "cell_type": "code",
   "execution_count": null,
   "metadata": {},
   "outputs": [],
   "source": [
    "RBBs = calibrator.rbbtable.get_radiance(bbtemp,9)"
   ]
  },
  {
   "cell_type": "code",
   "execution_count": null,
   "metadata": {},
   "outputs": [],
   "source": [
    "channel_rbbs = pd.Series(RBBs, index = bbtemps."
   ]
  }
 ],
 "metadata": {
  "kernelspec": {
   "display_name": "Python 3",
   "language": "python",
   "name": "python3"
  },
  "language_info": {
   "codemirror_mode": {
    "name": "ipython",
    "version": 3
   },
   "file_extension": ".py",
   "mimetype": "text/x-python",
   "name": "python",
   "nbconvert_exporter": "python",
   "pygments_lexer": "ipython3",
   "version": "3.7.1"
  }
 },
 "nbformat": 4,
 "nbformat_minor": 2
}
