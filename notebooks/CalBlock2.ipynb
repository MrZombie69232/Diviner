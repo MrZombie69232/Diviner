{
 "metadata": {
  "name": "",
  "signature": "sha256:fa2c2c8e19d9a32581fdc4b430f39c3283731dacadb789eac76b7ff221fe9ec7"
 },
 "nbformat": 3,
 "nbformat_minor": 0,
 "worksheets": [
  {
   "cells": [
    {
     "cell_type": "code",
     "collapsed": false,
     "input": [
      "from diviner import calib, plot_utils as pu, file_utils as fu\n",
      "reload(calib)\n",
      "import sys"
     ],
     "language": "python",
     "metadata": {},
     "outputs": [],
     "prompt_number": 32
    },
    {
     "cell_type": "code",
     "collapsed": false,
     "input": [
      "df = fu.L1ADataFile.from_timestr('2013031723').open()"
     ],
     "language": "python",
     "metadata": {},
     "outputs": [],
     "prompt_number": 33
    },
    {
     "cell_type": "code",
     "collapsed": false,
     "input": [
      "df.info()"
     ],
     "language": "python",
     "metadata": {},
     "outputs": [
      {
       "output_type": "stream",
       "stream": "stdout",
       "text": [
        "<class 'pandas.core.frame.DataFrame'>\n",
        "DatetimeIndex: 28128 entries, 2013-03-17 23:00:01.086000 to 2013-03-18 00:00:01.401000\n",
        "Columns: 257 entries, q to is_calib\n",
        "dtypes: bool(6), float64(50), int32(4), int64(193), object(4)"
       ]
      }
     ],
     "prompt_number": 19
    },
    {
     "cell_type": "code",
     "collapsed": false,
     "input": [
      "df.b3_11.plot()"
     ],
     "language": "python",
     "metadata": {},
     "outputs": [
      {
       "metadata": {},
       "output_type": "pyout",
       "prompt_number": 8,
       "text": [
        "<matplotlib.axes.AxesSubplot at 0x112d0ec90>"
       ]
      }
     ],
     "prompt_number": 8
    },
    {
     "cell_type": "code",
     "collapsed": false,
     "input": [
      "c = calib.Calibrator(df)\n",
      "c.calibrate()"
     ],
     "language": "python",
     "metadata": {},
     "outputs": [],
     "prompt_number": 34
    },
    {
     "cell_type": "code",
     "collapsed": false,
     "input": [
      "c.gains"
     ],
     "language": "python",
     "metadata": {},
     "outputs": [
      {
       "html": [
        "<div style=\"max-height:1000px;max-width:1500px;overflow:auto;\">\n",
        "<table border=\"1\" class=\"dataframe\">\n",
        "  <thead>\n",
        "    <tr style=\"text-align: right;\">\n",
        "      <th></th>\n",
        "      <th>a3_01</th>\n",
        "      <th>a3_02</th>\n",
        "      <th>a3_03</th>\n",
        "      <th>a3_04</th>\n",
        "      <th>a3_05</th>\n",
        "      <th>a3_06</th>\n",
        "      <th>a3_07</th>\n",
        "      <th>a3_08</th>\n",
        "      <th>a3_09</th>\n",
        "      <th>a3_10</th>\n",
        "      <th>a3_11</th>\n",
        "      <th>a3_12</th>\n",
        "      <th>a3_13</th>\n",
        "      <th>a3_14</th>\n",
        "      <th>a3_15</th>\n",
        "      <th>a3_16</th>\n",
        "      <th>a3_17</th>\n",
        "      <th>a3_18</th>\n",
        "      <th>a3_19</th>\n",
        "      <th>a3_20</th>\n",
        "      <th></th>\n",
        "    </tr>\n",
        "  </thead>\n",
        "  <tbody>\n",
        "    <tr>\n",
        "      <th>2012-12-17 14:07:59.008000</th>\n",
        "      <td>-0.000954</td>\n",
        "      <td>-0.000892</td>\n",
        "      <td>-0.000884</td>\n",
        "      <td>-0.000901</td>\n",
        "      <td>-0.000909</td>\n",
        "      <td>-0.000885</td>\n",
        "      <td>-0.000896</td>\n",
        "      <td>-0.000887</td>\n",
        "      <td>-0.000889</td>\n",
        "      <td>-0.0009</td>\n",
        "      <td>-0.000902</td>\n",
        "      <td>-0.000898</td>\n",
        "      <td>-0.000883</td>\n",
        "      <td>-0.000878</td>\n",
        "      <td>-0.000887</td>\n",
        "      <td>-0.000881</td>\n",
        "      <td>-0.00088</td>\n",
        "      <td>-0.000881</td>\n",
        "      <td>-0.000876</td>\n",
        "      <td>-0.000857</td>\n",
        "      <td>...</td>\n",
        "    </tr>\n",
        "  </tbody>\n",
        "</table>\n",
        "<p>1 rows \u00d7 147 columns</p>\n",
        "</div>"
       ],
       "metadata": {},
       "output_type": "pyout",
       "prompt_number": 8,
       "text": [
        "                               a3_01     a3_02     a3_03     a3_04     a3_05  \\\n",
        "2012-12-17 14:07:59.008000 -0.000954 -0.000892 -0.000884 -0.000901 -0.000909   \n",
        "\n",
        "                               a3_06     a3_07     a3_08     a3_09   a3_10  \\\n",
        "2012-12-17 14:07:59.008000 -0.000885 -0.000896 -0.000887 -0.000889 -0.0009   \n",
        "\n",
        "                               a3_11     a3_12     a3_13     a3_14     a3_15  \\\n",
        "2012-12-17 14:07:59.008000 -0.000902 -0.000898 -0.000883 -0.000878 -0.000887   \n",
        "\n",
        "                               a3_16    a3_17     a3_18     a3_19     a3_20  \\\n",
        "2012-12-17 14:07:59.008000 -0.000881 -0.00088 -0.000881 -0.000876 -0.000857   \n",
        "\n",
        "                                \n",
        "2012-12-17 14:07:59.008000 ...  \n",
        "\n",
        "[1 rows x 147 columns]"
       ]
      }
     ],
     "prompt_number": 8
    },
    {
     "cell_type": "code",
     "collapsed": false,
     "input": [
      "pu.plot_all_calib_blocks(df)"
     ],
     "language": "python",
     "metadata": {},
     "outputs": [
      {
       "output_type": "stream",
       "stream": "stdout",
       "text": [
        "Calib block 0 has no caldata.\n"
       ]
      }
     ],
     "prompt_number": 29
    },
    {
     "cell_type": "code",
     "collapsed": false,
     "input": [
      "import glob\n",
      "fnames = glob.glob(\"/Users/maye/data/diviner/l1a_data/*.TAB\")"
     ],
     "language": "python",
     "metadata": {},
     "outputs": [],
     "prompt_number": 2
    },
    {
     "cell_type": "code",
     "collapsed": false,
     "input": [
      "for fname in fnames:\n",
      "    if '2012121714' in fname:\n",
      "        continue\n",
      "    print fname\n",
      "    sys.stdout.flush()\n",
      "    df = fu.L1ADataFile(fname).open()\n",
      "    if np.all(df.is_stowed):\n",
      "        print fname, \"all stowed\"\n",
      "        continue\n",
      "    c = calib.Calibrator(df)\n",
      "    c.calibrate()"
     ],
     "language": "python",
     "metadata": {},
     "outputs": [
      {
       "output_type": "stream",
       "stream": "stdout",
       "text": [
        "/Users/maye/data/diviner/l1a_data/2009070809_L1A.TAB\n"
       ]
      },
      {
       "output_type": "stream",
       "stream": "stdout",
       "text": [
        "/Users/maye/data/diviner/l1a_data/2009092809_L1A.TAB\n"
       ]
      },
      {
       "output_type": "stream",
       "stream": "stdout",
       "text": [
        "/Users/maye/data/diviner/l1a_data/2011041600_L1A.TAB\n"
       ]
      },
      {
       "output_type": "stream",
       "stream": "stdout",
       "text": [
        "/Users/maye/data/diviner/l1a_data/2012012414_L1A.TAB\n"
       ]
      },
      {
       "output_type": "stream",
       "stream": "stdout",
       "text": [
        "/Users/maye/data/diviner/l1a_data/2013030500_L1A.TAB\n"
       ]
      },
      {
       "output_type": "stream",
       "stream": "stdout",
       "text": [
        "/Users/maye/data/diviner/l1a_data/2013030501_L1A.TAB\n"
       ]
      },
      {
       "output_type": "stream",
       "stream": "stdout",
       "text": [
        "/Users/maye/data/diviner/l1a_data/2013030502_L1A.TAB\n"
       ]
      },
      {
       "output_type": "stream",
       "stream": "stdout",
       "text": [
        "/Users/maye/data/diviner/l1a_data/2013030503_L1A.TAB\n"
       ]
      },
      {
       "output_type": "stream",
       "stream": "stdout",
       "text": [
        "/Users/maye/data/diviner/l1a_data/2013030504_L1A.TAB\n"
       ]
      },
      {
       "output_type": "stream",
       "stream": "stdout",
       "text": [
        "/Users/maye/data/diviner/l1a_data/2013030505_L1A.TAB\n"
       ]
      },
      {
       "output_type": "stream",
       "stream": "stdout",
       "text": [
        "/Users/maye/data/diviner/l1a_data/2013030506_L1A.TAB\n"
       ]
      },
      {
       "output_type": "stream",
       "stream": "stdout",
       "text": [
        "/Users/maye/data/diviner/l1a_data/2013030507_L1A.TAB\n"
       ]
      },
      {
       "output_type": "stream",
       "stream": "stdout",
       "text": [
        "/Users/maye/data/diviner/l1a_data/2013030508_L1A.TAB\n"
       ]
      },
      {
       "output_type": "stream",
       "stream": "stdout",
       "text": [
        "/Users/maye/data/diviner/l1a_data/2013030509_L1A.TAB\n"
       ]
      },
      {
       "output_type": "stream",
       "stream": "stdout",
       "text": [
        "/Users/maye/data/diviner/l1a_data/2013030510_L1A.TAB\n"
       ]
      },
      {
       "output_type": "stream",
       "stream": "stdout",
       "text": [
        "/Users/maye/data/diviner/l1a_data/2013030511_L1A.TAB\n"
       ]
      },
      {
       "output_type": "stream",
       "stream": "stdout",
       "text": [
        "/Users/maye/data/diviner/l1a_data/2013030512_L1A.TAB\n"
       ]
      },
      {
       "output_type": "stream",
       "stream": "stdout",
       "text": [
        "/Users/maye/data/diviner/l1a_data/2013030513_L1A.TAB\n"
       ]
      },
      {
       "output_type": "stream",
       "stream": "stdout",
       "text": [
        "/Users/maye/data/diviner/l1a_data/2013030513_L1A.TAB all stowed\n",
        "/Users/maye/data/diviner/l1a_data/2013030514_L1A.TAB\n"
       ]
      },
      {
       "output_type": "stream",
       "stream": "stdout",
       "text": [
        "/Users/maye/data/diviner/l1a_data/2013030515_L1A.TAB\n"
       ]
      },
      {
       "output_type": "stream",
       "stream": "stdout",
       "text": [
        "/Users/maye/data/diviner/l1a_data/2013030516_L1A.TAB\n"
       ]
      },
      {
       "output_type": "stream",
       "stream": "stdout",
       "text": [
        "/Users/maye/data/diviner/l1a_data/2013030517_L1A.TAB\n"
       ]
      },
      {
       "output_type": "stream",
       "stream": "stdout",
       "text": [
        "/Users/maye/data/diviner/l1a_data/2013030518_L1A.TAB\n"
       ]
      },
      {
       "output_type": "stream",
       "stream": "stdout",
       "text": [
        "/Users/maye/data/diviner/l1a_data/2013030519_L1A.TAB\n"
       ]
      },
      {
       "output_type": "stream",
       "stream": "stdout",
       "text": [
        "/Users/maye/data/diviner/l1a_data/2013030520_L1A.TAB\n"
       ]
      },
      {
       "output_type": "stream",
       "stream": "stdout",
       "text": [
        "/Users/maye/data/diviner/l1a_data/2013030521_L1A.TAB\n"
       ]
      },
      {
       "output_type": "stream",
       "stream": "stdout",
       "text": [
        "/Users/maye/data/diviner/l1a_data/2013030522_L1A.TAB\n"
       ]
      },
      {
       "output_type": "stream",
       "stream": "stdout",
       "text": [
        "/Users/maye/data/diviner/l1a_data/2013030523_L1A.TAB\n"
       ]
      },
      {
       "output_type": "stream",
       "stream": "stdout",
       "text": [
        "/Users/maye/data/diviner/l1a_data/2013031700_L1A.TAB\n"
       ]
      },
      {
       "output_type": "stream",
       "stream": "stdout",
       "text": [
        "/Users/maye/data/diviner/l1a_data/2013031701_L1A.TAB\n"
       ]
      },
      {
       "output_type": "stream",
       "stream": "stdout",
       "text": [
        "/Users/maye/data/diviner/l1a_data/2013031702_L1A.TAB\n"
       ]
      },
      {
       "output_type": "stream",
       "stream": "stdout",
       "text": [
        "/Users/maye/data/diviner/l1a_data/2013031703_L1A.TAB\n"
       ]
      },
      {
       "output_type": "stream",
       "stream": "stdout",
       "text": [
        "/Users/maye/data/diviner/l1a_data/2013031704_L1A.TAB\n"
       ]
      },
      {
       "output_type": "stream",
       "stream": "stdout",
       "text": [
        "/Users/maye/data/diviner/l1a_data/2013031705_L1A.TAB\n"
       ]
      },
      {
       "output_type": "stream",
       "stream": "stdout",
       "text": [
        "/Users/maye/data/diviner/l1a_data/2013031706_L1A.TAB\n"
       ]
      },
      {
       "output_type": "stream",
       "stream": "stdout",
       "text": [
        "/Users/maye/data/diviner/l1a_data/2013031707_L1A.TAB\n"
       ]
      },
      {
       "output_type": "stream",
       "stream": "stdout",
       "text": [
        "/Users/maye/data/diviner/l1a_data/2013031708_L1A.TAB\n"
       ]
      },
      {
       "output_type": "stream",
       "stream": "stdout",
       "text": [
        "/Users/maye/data/diviner/l1a_data/2013031709_L1A.TAB\n"
       ]
      },
      {
       "output_type": "stream",
       "stream": "stdout",
       "text": [
        "/Users/maye/data/diviner/l1a_data/2013031710_L1A.TAB\n"
       ]
      },
      {
       "output_type": "stream",
       "stream": "stdout",
       "text": [
        "/Users/maye/data/diviner/l1a_data/2013031711_L1A.TAB\n"
       ]
      },
      {
       "output_type": "stream",
       "stream": "stdout",
       "text": [
        "/Users/maye/data/diviner/l1a_data/2013031712_L1A.TAB\n"
       ]
      },
      {
       "output_type": "stream",
       "stream": "stdout",
       "text": [
        "/Users/maye/data/diviner/l1a_data/2013031713_L1A.TAB\n"
       ]
      },
      {
       "output_type": "stream",
       "stream": "stdout",
       "text": [
        "/Users/maye/data/diviner/l1a_data/2013031714_L1A.TAB\n"
       ]
      },
      {
       "output_type": "stream",
       "stream": "stdout",
       "text": [
        "/Users/maye/data/diviner/l1a_data/2013031715_L1A.TAB\n"
       ]
      },
      {
       "output_type": "stream",
       "stream": "stdout",
       "text": [
        "/Users/maye/data/diviner/l1a_data/2013031716_L1A.TAB\n"
       ]
      },
      {
       "output_type": "stream",
       "stream": "stdout",
       "text": [
        "/Users/maye/data/diviner/l1a_data/2013031717_L1A.TAB\n"
       ]
      },
      {
       "output_type": "stream",
       "stream": "stdout",
       "text": [
        "/Users/maye/data/diviner/l1a_data/2013031718_L1A.TAB\n"
       ]
      },
      {
       "output_type": "stream",
       "stream": "stdout",
       "text": [
        "/Users/maye/data/diviner/l1a_data/2013031719_L1A.TAB\n"
       ]
      },
      {
       "output_type": "stream",
       "stream": "stdout",
       "text": [
        "/Users/maye/data/diviner/l1a_data/2013031720_L1A.TAB\n"
       ]
      },
      {
       "output_type": "stream",
       "stream": "stdout",
       "text": [
        "/Users/maye/data/diviner/l1a_data/2013031721_L1A.TAB\n"
       ]
      },
      {
       "output_type": "stream",
       "stream": "stdout",
       "text": [
        "/Users/maye/data/diviner/l1a_data/2013031722_L1A.TAB\n"
       ]
      },
      {
       "output_type": "stream",
       "stream": "stdout",
       "text": [
        "/Users/maye/data/diviner/l1a_data/2013031723_L1A.TAB\n"
       ]
      }
     ],
     "prompt_number": 17
    },
    {
     "cell_type": "code",
     "collapsed": false,
     "input": [
      "calblocks = calib.get_calib_blocks(df, 'calib')"
     ],
     "language": "python",
     "metadata": {},
     "outputs": [],
     "prompt_number": 22
    },
    {
     "cell_type": "code",
     "collapsed": false,
     "input": [
      "cb = calib.CalBlock(calblocks[5])"
     ],
     "language": "python",
     "metadata": {},
     "outputs": [],
     "prompt_number": 23
    },
    {
     "cell_type": "code",
     "collapsed": false,
     "input": [
      "cb.spaceviews.index"
     ],
     "language": "python",
     "metadata": {},
     "outputs": [
      {
       "metadata": {},
       "output_type": "pyout",
       "prompt_number": 28,
       "text": [
        "<class 'pandas.tseries.index.DatetimeIndex'>\n",
        "[2013-03-17 23:45:51.595000, ..., 2013-03-17 23:49:08.078000]\n",
        "Length: 272, Freq: None, Timezone: None"
       ]
      }
     ],
     "prompt_number": 28
    },
    {
     "cell_type": "code",
     "collapsed": false,
     "input": [
      "cb.st_grouped.size()"
     ],
     "language": "python",
     "metadata": {},
     "outputs": [
      {
       "metadata": {},
       "output_type": "pyout",
       "prompt_number": 31,
       "text": [
        "st_block_labels\n",
        "1                  928\n",
        "2                  928\n",
        "3                  928\n",
        "4                  928\n",
        "dtype: int64"
       ]
      }
     ],
     "prompt_number": 31
    },
    {
     "cell_type": "code",
     "collapsed": false,
     "input": [],
     "language": "python",
     "metadata": {},
     "outputs": []
    }
   ],
   "metadata": {}
  }
 ]
}