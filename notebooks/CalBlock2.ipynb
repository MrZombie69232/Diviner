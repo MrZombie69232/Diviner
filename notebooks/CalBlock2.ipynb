{
 "cells": [
  {
   "cell_type": "code",
   "execution_count": 7,
   "metadata": {},
   "outputs": [],
   "source": [
    "import warnings"
   ]
  },
  {
   "cell_type": "code",
   "execution_count": 9,
   "metadata": {},
   "outputs": [],
   "source": [
    "warnings.filterwarnings('ignore', \"This figure was using constrained_layout\")"
   ]
  },
  {
   "cell_type": "code",
   "execution_count": 1,
   "metadata": {
    "collapsed": false
   },
   "outputs": [],
   "source": [
    "from diviner import calib, plot_utils as pu, file_utils as fu\n",
    "import sys"
   ]
  },
  {
   "cell_type": "code",
   "execution_count": 33,
   "metadata": {
    "collapsed": false
   },
   "outputs": [],
   "source": [
    "df = fu.L1ADataFile.from_timestr('2013031723').open()"
   ]
  },
  {
   "cell_type": "code",
   "execution_count": 3,
   "metadata": {},
   "outputs": [],
   "source": [
    "df = fu.get_clean_l1a('2010010100')"
   ]
  },
  {
   "cell_type": "code",
   "execution_count": 4,
   "metadata": {
    "collapsed": false
   },
   "outputs": [
    {
     "name": "stdout",
     "output_type": "stream",
     "text": [
      "<class 'pandas.core.frame.DataFrame'>\n",
      "DatetimeIndex: 28128 entries, 2010-01-01 00:00:00.290000 to 2010-01-01 01:00:00.629000\n",
      "Columns: 257 entries, q to is_calib\n",
      "dtypes: bool(6), float64(50), int32(4), int64(193), object(4)\n",
      "memory usage: 53.8+ MB\n"
     ]
    }
   ],
   "source": [
    "df.info()"
   ]
  },
  {
   "cell_type": "code",
   "execution_count": 5,
   "metadata": {},
   "outputs": [
    {
     "data": {
      "text/plain": [
       "Index(['q', 'sclk', 'sounding', 'from_pkt', 'pkt_count', 'safing', 'safed',\n",
       "       'freezing', 'frozen', 'rolling',\n",
       "       ...\n",
       "       'calib_block_labels', 'space_block_labels', 'bb_block_labels',\n",
       "       'st_block_labels', 'is_spaceview', 'is_bbview', 'is_stview',\n",
       "       'is_moving', 'is_stowed', 'is_calib'],\n",
       "      dtype='object', length=257)"
      ]
     },
     "execution_count": 5,
     "metadata": {},
     "output_type": "execute_result"
    }
   ],
   "source": [
    "df.columns"
   ]
  },
  {
   "cell_type": "code",
   "execution_count": 10,
   "metadata": {
    "collapsed": false
   },
   "outputs": [
    {
     "data": {
      "text/plain": [
       "<matplotlib.axes._subplots.AxesSubplot at 0x111dd79e8>"
      ]
     },
     "execution_count": 10,
     "metadata": {},
     "output_type": "execute_result"
    },
    {
     "data": {
      "image/png": "[encoded data removed]",
      "text/plain": [
       "<Figure size 432x288 with 1 Axes>"
      ]
     },
     "metadata": {
      "needs_background": "light"
     },
     "output_type": "display_data"
    }
   ],
   "source": [
    "df.b3_11.plot()"
   ]
  },
  {
   "cell_type": "code",
   "execution_count": 11,
   "metadata": {
    "collapsed": false
   },
   "outputs": [],
   "source": [
    "c = calib.Calibrator(df)\n",
    "c.calibrate()"
   ]
  },
  {
   "cell_type": "code",
   "execution_count": 12,
   "metadata": {
    "collapsed": false
   },
   "outputs": [
    {
     "data": {
      "text/html": [
       "<div>\n",
       "<style scoped>\n",
       "    .dataframe tbody tr th:only-of-type {\n",
       "        vertical-align: middle;\n",
       "    }\n",
       "\n",
       "    .dataframe tbody tr th {\n",
       "        vertical-align: top;\n",
       "    }\n",
       "\n",
       "    .dataframe thead th {\n",
       "        text-align: right;\n",
       "    }\n",
       "</style>\n",
       "<table border=\"1\" class=\"dataframe\">\n",
       "  <thead>\n",
       "    <tr style=\"text-align: right;\">\n",
       "      <th></th>\n",
       "      <th>a3_01</th>\n",
       "      <th>a3_02</th>\n",
       "      <th>a3_03</th>\n",
       "      <th>a3_04</th>\n",
       "      <th>a3_05</th>\n",
       "      <th>a3_06</th>\n",
       "      <th>a3_07</th>\n",
       "      <th>a3_08</th>\n",
       "      <th>a3_09</th>\n",
       "      <th>a3_10</th>\n",
       "      <th>...</th>\n",
       "      <th>b3_12</th>\n",
       "      <th>b3_13</th>\n",
       "      <th>b3_14</th>\n",
       "      <th>b3_15</th>\n",
       "      <th>b3_16</th>\n",
       "      <th>b3_17</th>\n",
       "      <th>b3_18</th>\n",
       "      <th>b3_19</th>\n",
       "      <th>b3_20</th>\n",
       "      <th>b3_21</th>\n",
       "    </tr>\n",
       "  </thead>\n",
       "  <tbody>\n",
       "    <tr>\n",
       "      <th>2010-01-01 00:03:06.599000</th>\n",
       "      <td>-0.000987</td>\n",
       "      <td>-0.000923</td>\n",
       "      <td>-0.000914</td>\n",
       "      <td>-0.000933</td>\n",
       "      <td>-0.000940</td>\n",
       "      <td>-0.000914</td>\n",
       "      <td>-0.000927</td>\n",
       "      <td>-0.000916</td>\n",
       "      <td>-0.000919</td>\n",
       "      <td>-0.000930</td>\n",
       "      <td>...</td>\n",
       "      <td>-0.004043</td>\n",
       "      <td>-0.003900</td>\n",
       "      <td>-0.004276</td>\n",
       "      <td>-0.004335</td>\n",
       "      <td>-0.004140</td>\n",
       "      <td>-0.004325</td>\n",
       "      <td>-0.004490</td>\n",
       "      <td>-0.004349</td>\n",
       "      <td>-0.004725</td>\n",
       "      <td>-0.005619</td>\n",
       "    </tr>\n",
       "    <tr>\n",
       "      <th>2010-01-01 00:13:23.064000</th>\n",
       "      <td>-0.000988</td>\n",
       "      <td>-0.000924</td>\n",
       "      <td>-0.000914</td>\n",
       "      <td>-0.000933</td>\n",
       "      <td>-0.000941</td>\n",
       "      <td>-0.000915</td>\n",
       "      <td>-0.000927</td>\n",
       "      <td>-0.000917</td>\n",
       "      <td>-0.000919</td>\n",
       "      <td>-0.000931</td>\n",
       "      <td>...</td>\n",
       "      <td>-0.004061</td>\n",
       "      <td>-0.003912</td>\n",
       "      <td>-0.004296</td>\n",
       "      <td>-0.004332</td>\n",
       "      <td>-0.004147</td>\n",
       "      <td>-0.004337</td>\n",
       "      <td>-0.004506</td>\n",
       "      <td>-0.004365</td>\n",
       "      <td>-0.004721</td>\n",
       "      <td>-0.005601</td>\n",
       "    </tr>\n",
       "    <tr>\n",
       "      <th>2010-01-01 00:23:39.528000</th>\n",
       "      <td>-0.000988</td>\n",
       "      <td>-0.000925</td>\n",
       "      <td>-0.000915</td>\n",
       "      <td>-0.000934</td>\n",
       "      <td>-0.000941</td>\n",
       "      <td>-0.000916</td>\n",
       "      <td>-0.000928</td>\n",
       "      <td>-0.000917</td>\n",
       "      <td>-0.000920</td>\n",
       "      <td>-0.000931</td>\n",
       "      <td>...</td>\n",
       "      <td>-0.004068</td>\n",
       "      <td>-0.003918</td>\n",
       "      <td>-0.004296</td>\n",
       "      <td>-0.004348</td>\n",
       "      <td>-0.004151</td>\n",
       "      <td>-0.004345</td>\n",
       "      <td>-0.004525</td>\n",
       "      <td>-0.004359</td>\n",
       "      <td>-0.004753</td>\n",
       "      <td>-0.005627</td>\n",
       "    </tr>\n",
       "    <tr>\n",
       "      <th>2010-01-01 00:33:55.989000</th>\n",
       "      <td>-0.000990</td>\n",
       "      <td>-0.000925</td>\n",
       "      <td>-0.000916</td>\n",
       "      <td>-0.000935</td>\n",
       "      <td>-0.000942</td>\n",
       "      <td>-0.000917</td>\n",
       "      <td>-0.000929</td>\n",
       "      <td>-0.000918</td>\n",
       "      <td>-0.000921</td>\n",
       "      <td>-0.000932</td>\n",
       "      <td>...</td>\n",
       "      <td>-0.004062</td>\n",
       "      <td>-0.003920</td>\n",
       "      <td>-0.004287</td>\n",
       "      <td>-0.004346</td>\n",
       "      <td>-0.004147</td>\n",
       "      <td>-0.004348</td>\n",
       "      <td>-0.004512</td>\n",
       "      <td>-0.004360</td>\n",
       "      <td>-0.004747</td>\n",
       "      <td>-0.005635</td>\n",
       "    </tr>\n",
       "    <tr>\n",
       "      <th>2010-01-01 00:44:12.449000</th>\n",
       "      <td>-0.000991</td>\n",
       "      <td>-0.000927</td>\n",
       "      <td>-0.000918</td>\n",
       "      <td>-0.000936</td>\n",
       "      <td>-0.000943</td>\n",
       "      <td>-0.000918</td>\n",
       "      <td>-0.000930</td>\n",
       "      <td>-0.000920</td>\n",
       "      <td>-0.000923</td>\n",
       "      <td>-0.000934</td>\n",
       "      <td>...</td>\n",
       "      <td>-0.004063</td>\n",
       "      <td>-0.003921</td>\n",
       "      <td>-0.004303</td>\n",
       "      <td>-0.004346</td>\n",
       "      <td>-0.004163</td>\n",
       "      <td>-0.004346</td>\n",
       "      <td>-0.004525</td>\n",
       "      <td>-0.004359</td>\n",
       "      <td>-0.004749</td>\n",
       "      <td>-0.005637</td>\n",
       "    </tr>\n",
       "    <tr>\n",
       "      <th>2010-01-01 00:54:49.390500</th>\n",
       "      <td>-0.000990</td>\n",
       "      <td>-0.000926</td>\n",
       "      <td>-0.000916</td>\n",
       "      <td>-0.000935</td>\n",
       "      <td>-0.000942</td>\n",
       "      <td>-0.000917</td>\n",
       "      <td>-0.000929</td>\n",
       "      <td>-0.000919</td>\n",
       "      <td>-0.000922</td>\n",
       "      <td>-0.000933</td>\n",
       "      <td>...</td>\n",
       "      <td>-0.004070</td>\n",
       "      <td>-0.003913</td>\n",
       "      <td>-0.004304</td>\n",
       "      <td>-0.004350</td>\n",
       "      <td>-0.004158</td>\n",
       "      <td>-0.004343</td>\n",
       "      <td>-0.004522</td>\n",
       "      <td>-0.004355</td>\n",
       "      <td>-0.004741</td>\n",
       "      <td>-0.005630</td>\n",
       "    </tr>\n",
       "  </tbody>\n",
       "</table>\n",
       "<p>6 rows × 147 columns</p>\n",
       "</div>"
      ],
      "text/plain": [
       "                               a3_01     a3_02     a3_03     a3_04     a3_05  \\\n",
       "2010-01-01 00:03:06.599000 -0.000987 -0.000923 -0.000914 -0.000933 -0.000940   \n",
       "2010-01-01 00:13:23.064000 -0.000988 -0.000924 -0.000914 -0.000933 -0.000941   \n",
       "2010-01-01 00:23:39.528000 -0.000988 -0.000925 -0.000915 -0.000934 -0.000941   \n",
       "2010-01-01 00:33:55.989000 -0.000990 -0.000925 -0.000916 -0.000935 -0.000942   \n",
       "2010-01-01 00:44:12.449000 -0.000991 -0.000927 -0.000918 -0.000936 -0.000943   \n",
       "2010-01-01 00:54:49.390500 -0.000990 -0.000926 -0.000916 -0.000935 -0.000942   \n",
       "\n",
       "                               a3_06     a3_07     a3_08     a3_09     a3_10  \\\n",
       "2010-01-01 00:03:06.599000 -0.000914 -0.000927 -0.000916 -0.000919 -0.000930   \n",
       "2010-01-01 00:13:23.064000 -0.000915 -0.000927 -0.000917 -0.000919 -0.000931   \n",
       "2010-01-01 00:23:39.528000 -0.000916 -0.000928 -0.000917 -0.000920 -0.000931   \n",
       "2010-01-01 00:33:55.989000 -0.000917 -0.000929 -0.000918 -0.000921 -0.000932   \n",
       "2010-01-01 00:44:12.449000 -0.000918 -0.000930 -0.000920 -0.000923 -0.000934   \n",
       "2010-01-01 00:54:49.390500 -0.000917 -0.000929 -0.000919 -0.000922 -0.000933   \n",
       "\n",
       "                            ...     b3_12     b3_13     b3_14     b3_15  \\\n",
       "2010-01-01 00:03:06.599000  ... -0.004043 -0.003900 -0.004276 -0.004335   \n",
       "2010-01-01 00:13:23.064000  ... -0.004061 -0.003912 -0.004296 -0.004332   \n",
       "2010-01-01 00:23:39.528000  ... -0.004068 -0.003918 -0.004296 -0.004348   \n",
       "2010-01-01 00:33:55.989000  ... -0.004062 -0.003920 -0.004287 -0.004346   \n",
       "2010-01-01 00:44:12.449000  ... -0.004063 -0.003921 -0.004303 -0.004346   \n",
       "2010-01-01 00:54:49.390500  ... -0.004070 -0.003913 -0.004304 -0.004350   \n",
       "\n",
       "                               b3_16     b3_17     b3_18     b3_19     b3_20  \\\n",
       "2010-01-01 00:03:06.599000 -0.004140 -0.004325 -0.004490 -0.004349 -0.004725   \n",
       "2010-01-01 00:13:23.064000 -0.004147 -0.004337 -0.004506 -0.004365 -0.004721   \n",
       "2010-01-01 00:23:39.528000 -0.004151 -0.004345 -0.004525 -0.004359 -0.004753   \n",
       "2010-01-01 00:33:55.989000 -0.004147 -0.004348 -0.004512 -0.004360 -0.004747   \n",
       "2010-01-01 00:44:12.449000 -0.004163 -0.004346 -0.004525 -0.004359 -0.004749   \n",
       "2010-01-01 00:54:49.390500 -0.004158 -0.004343 -0.004522 -0.004355 -0.004741   \n",
       "\n",
       "                               b3_21  \n",
       "2010-01-01 00:03:06.599000 -0.005619  \n",
       "2010-01-01 00:13:23.064000 -0.005601  \n",
       "2010-01-01 00:23:39.528000 -0.005627  \n",
       "2010-01-01 00:33:55.989000 -0.005635  \n",
       "2010-01-01 00:44:12.449000 -0.005637  \n",
       "2010-01-01 00:54:49.390500 -0.005630  \n",
       "\n",
       "[6 rows x 147 columns]"
      ]
     },
     "execution_count": 12,
     "metadata": {},
     "output_type": "execute_result"
    }
   ],
   "source": [
    "c.gains"
   ]
  },
  {
   "cell_type": "code",
   "execution_count": 8,
   "metadata": {
    "collapsed": false
   },
   "outputs": [
    {
     "data": {
      "text/html": [
       "<div style=\"max-height:1000px;max-width:1500px;overflow:auto;\">\n",
       "<table border=\"1\" class=\"dataframe\">\n",
       "  <thead>\n",
       "    <tr style=\"text-align: right;\">\n",
       "      <th></th>\n",
       "      <th>a3_01</th>\n",
       "      <th>a3_02</th>\n",
       "      <th>a3_03</th>\n",
       "      <th>a3_04</th>\n",
       "      <th>a3_05</th>\n",
       "      <th>a3_06</th>\n",
       "      <th>a3_07</th>\n",
       "      <th>a3_08</th>\n",
       "      <th>a3_09</th>\n",
       "      <th>a3_10</th>\n",
       "      <th>a3_11</th>\n",
       "      <th>a3_12</th>\n",
       "      <th>a3_13</th>\n",
       "      <th>a3_14</th>\n",
       "      <th>a3_15</th>\n",
       "      <th>a3_16</th>\n",
       "      <th>a3_17</th>\n",
       "      <th>a3_18</th>\n",
       "      <th>a3_19</th>\n",
       "      <th>a3_20</th>\n",
       "      <th></th>\n",
       "    </tr>\n",
       "  </thead>\n",
       "  <tbody>\n",
       "    <tr>\n",
       "      <th>2012-12-17 14:07:59.008000</th>\n",
       "      <td>-0.000954</td>\n",
       "      <td>-0.000892</td>\n",
       "      <td>-0.000884</td>\n",
       "      <td>-0.000901</td>\n",
       "      <td>-0.000909</td>\n",
       "      <td>-0.000885</td>\n",
       "      <td>-0.000896</td>\n",
       "      <td>-0.000887</td>\n",
       "      <td>-0.000889</td>\n",
       "      <td>-0.0009</td>\n",
       "      <td>-0.000902</td>\n",
       "      <td>-0.000898</td>\n",
       "      <td>-0.000883</td>\n",
       "      <td>-0.000878</td>\n",
       "      <td>-0.000887</td>\n",
       "      <td>-0.000881</td>\n",
       "      <td>-0.00088</td>\n",
       "      <td>-0.000881</td>\n",
       "      <td>-0.000876</td>\n",
       "      <td>-0.000857</td>\n",
       "      <td>...</td>\n",
       "    </tr>\n",
       "  </tbody>\n",
       "</table>\n",
       "<p>1 rows × 147 columns</p>\n",
       "</div>"
      ],
      "text/plain": [
       "                               a3_01     a3_02     a3_03     a3_04     a3_05  \\\n",
       "2012-12-17 14:07:59.008000 -0.000954 -0.000892 -0.000884 -0.000901 -0.000909   \n",
       "\n",
       "                               a3_06     a3_07     a3_08     a3_09   a3_10  \\\n",
       "2012-12-17 14:07:59.008000 -0.000885 -0.000896 -0.000887 -0.000889 -0.0009   \n",
       "\n",
       "                               a3_11     a3_12     a3_13     a3_14     a3_15  \\\n",
       "2012-12-17 14:07:59.008000 -0.000902 -0.000898 -0.000883 -0.000878 -0.000887   \n",
       "\n",
       "                               a3_16    a3_17     a3_18     a3_19     a3_20  \\\n",
       "2012-12-17 14:07:59.008000 -0.000881 -0.00088 -0.000881 -0.000876 -0.000857   \n",
       "\n",
       "                                \n",
       "2012-12-17 14:07:59.008000 ...  \n",
       "\n",
       "[1 rows x 147 columns]"
      ]
     },
     "execution_count": 8,
     "metadata": {},
     "output_type": "execute_result"
    }
   ],
   "source": [
    "c.gains"
   ]
  },
  {
   "cell_type": "code",
   "execution_count": 13,
   "metadata": {
    "collapsed": false
   },
   "outputs": [
    {
     "name": "stdout",
     "output_type": "stream",
     "text": [
      "Calib block 0 has no caldata.\n"
     ]
    },
    {
     "data": {
      "image/png": "[encoded data removed]",
      "text/plain": [
       "<Figure size 720x288 with 6 Axes>"
      ]
     },
     "metadata": {
      "needs_background": "light"
     },
     "output_type": "display_data"
    }
   ],
   "source": [
    "pu.plot_all_calib_blocks(df)"
   ]
  },
  {
   "cell_type": "code",
   "execution_count": 2,
   "metadata": {
    "collapsed": false
   },
   "outputs": [],
   "source": [
    "import glob\n",
    "fnames = glob.glob(\"/Users/maye/data/diviner/l1a_data/*.TAB\")"
   ]
  },
  {
   "cell_type": "code",
   "execution_count": 17,
   "metadata": {
    "collapsed": false
   },
   "outputs": [
    {
     "name": "stdout",
     "output_type": "stream",
     "text": [
      "/Users/maye/data/diviner/l1a_data/2009070809_L1A.TAB\n",
      "/Users/maye/data/diviner/l1a_data/2009092809_L1A.TAB\n",
      "/Users/maye/data/diviner/l1a_data/2011041600_L1A.TAB\n",
      "/Users/maye/data/diviner/l1a_data/2012012414_L1A.TAB\n",
      "/Users/maye/data/diviner/l1a_data/2013030500_L1A.TAB\n",
      "/Users/maye/data/diviner/l1a_data/2013030501_L1A.TAB\n",
      "/Users/maye/data/diviner/l1a_data/2013030502_L1A.TAB\n",
      "/Users/maye/data/diviner/l1a_data/2013030503_L1A.TAB\n",
      "/Users/maye/data/diviner/l1a_data/2013030504_L1A.TAB\n",
      "/Users/maye/data/diviner/l1a_data/2013030505_L1A.TAB\n",
      "/Users/maye/data/diviner/l1a_data/2013030506_L1A.TAB\n",
      "/Users/maye/data/diviner/l1a_data/2013030507_L1A.TAB\n",
      "/Users/maye/data/diviner/l1a_data/2013030508_L1A.TAB\n",
      "/Users/maye/data/diviner/l1a_data/2013030509_L1A.TAB\n",
      "/Users/maye/data/diviner/l1a_data/2013030510_L1A.TAB\n",
      "/Users/maye/data/diviner/l1a_data/2013030511_L1A.TAB\n",
      "/Users/maye/data/diviner/l1a_data/2013030512_L1A.TAB\n",
      "/Users/maye/data/diviner/l1a_data/2013030513_L1A.TAB\n",
      "/Users/maye/data/diviner/l1a_data/2013030513_L1A.TAB all stowed\n",
      "/Users/maye/data/diviner/l1a_data/2013030514_L1A.TAB\n",
      "/Users/maye/data/diviner/l1a_data/2013030515_L1A.TAB\n",
      "/Users/maye/data/diviner/l1a_data/2013030516_L1A.TAB\n",
      "/Users/maye/data/diviner/l1a_data/2013030517_L1A.TAB\n",
      "/Users/maye/data/diviner/l1a_data/2013030518_L1A.TAB\n",
      "/Users/maye/data/diviner/l1a_data/2013030519_L1A.TAB\n",
      "/Users/maye/data/diviner/l1a_data/2013030520_L1A.TAB\n",
      "/Users/maye/data/diviner/l1a_data/2013030521_L1A.TAB\n",
      "/Users/maye/data/diviner/l1a_data/2013030522_L1A.TAB\n",
      "/Users/maye/data/diviner/l1a_data/2013030523_L1A.TAB\n",
      "/Users/maye/data/diviner/l1a_data/2013031700_L1A.TAB\n",
      "/Users/maye/data/diviner/l1a_data/2013031701_L1A.TAB\n",
      "/Users/maye/data/diviner/l1a_data/2013031702_L1A.TAB\n",
      "/Users/maye/data/diviner/l1a_data/2013031703_L1A.TAB\n",
      "/Users/maye/data/diviner/l1a_data/2013031704_L1A.TAB\n",
      "/Users/maye/data/diviner/l1a_data/2013031705_L1A.TAB\n",
      "/Users/maye/data/diviner/l1a_data/2013031706_L1A.TAB\n",
      "/Users/maye/data/diviner/l1a_data/2013031707_L1A.TAB\n",
      "/Users/maye/data/diviner/l1a_data/2013031708_L1A.TAB\n",
      "/Users/maye/data/diviner/l1a_data/2013031709_L1A.TAB\n",
      "/Users/maye/data/diviner/l1a_data/2013031710_L1A.TAB\n",
      "/Users/maye/data/diviner/l1a_data/2013031711_L1A.TAB\n",
      "/Users/maye/data/diviner/l1a_data/2013031712_L1A.TAB\n",
      "/Users/maye/data/diviner/l1a_data/2013031713_L1A.TAB\n",
      "/Users/maye/data/diviner/l1a_data/2013031714_L1A.TAB\n",
      "/Users/maye/data/diviner/l1a_data/2013031715_L1A.TAB\n",
      "/Users/maye/data/diviner/l1a_data/2013031716_L1A.TAB\n",
      "/Users/maye/data/diviner/l1a_data/2013031717_L1A.TAB\n",
      "/Users/maye/data/diviner/l1a_data/2013031718_L1A.TAB\n",
      "/Users/maye/data/diviner/l1a_data/2013031719_L1A.TAB\n",
      "/Users/maye/data/diviner/l1a_data/2013031720_L1A.TAB\n",
      "/Users/maye/data/diviner/l1a_data/2013031721_L1A.TAB\n",
      "/Users/maye/data/diviner/l1a_data/2013031722_L1A.TAB\n",
      "/Users/maye/data/diviner/l1a_data/2013031723_L1A.TAB\n"
     ]
    }
   ],
   "source": [
    "for fname in fnames:\n",
    "    if '2012121714' in fname:\n",
    "        continue\n",
    "    print fname\n",
    "    sys.stdout.flush()\n",
    "    df = fu.L1ADataFile(fname).open()\n",
    "    if np.all(df.is_stowed):\n",
    "        print fname, \"all stowed\"\n",
    "        continue\n",
    "    c = calib.Calibrator(df)\n",
    "    c.calibrate()"
   ]
  },
  {
   "cell_type": "code",
   "execution_count": 14,
   "metadata": {
    "collapsed": false
   },
   "outputs": [],
   "source": [
    "calblocks = calib.get_calib_blocks(df, 'calib')"
   ]
  },
  {
   "cell_type": "code",
   "execution_count": 15,
   "metadata": {
    "collapsed": false
   },
   "outputs": [],
   "source": [
    "cb = calib.CalBlock(calblocks[5])"
   ]
  },
  {
   "cell_type": "code",
   "execution_count": 16,
   "metadata": {
    "collapsed": false
   },
   "outputs": [
    {
     "data": {
      "text/plain": [
       "DatetimeIndex(['2010-01-01 00:43:52.033000', '2010-01-01 00:43:52.161000',\n",
       "               '2010-01-01 00:43:52.289000', '2010-01-01 00:43:52.417000',\n",
       "               '2010-01-01 00:43:52.545000', '2010-01-01 00:43:52.673000',\n",
       "               '2010-01-01 00:43:52.801000', '2010-01-01 00:43:52.929000',\n",
       "               '2010-01-01 00:43:53.057000', '2010-01-01 00:43:53.185000',\n",
       "               ...\n",
       "               '2010-01-01 00:44:29.666000', '2010-01-01 00:44:29.794000',\n",
       "               '2010-01-01 00:44:29.922000', '2010-01-01 00:44:30.050000',\n",
       "               '2010-01-01 00:44:30.178000', '2010-01-01 00:44:30.306000',\n",
       "               '2010-01-01 00:44:30.434000', '2010-01-01 00:44:30.562000',\n",
       "               '2010-01-01 00:44:30.690000', '2010-01-01 00:44:30.818000'],\n",
       "              dtype='datetime64[ns]', length=160, freq=None)"
      ]
     },
     "execution_count": 16,
     "metadata": {},
     "output_type": "execute_result"
    }
   ],
   "source": [
    "cb.spaceviews.index"
   ]
  },
  {
   "cell_type": "code",
   "execution_count": 17,
   "metadata": {
    "collapsed": false
   },
   "outputs": [
    {
     "data": {
      "text/plain": [
       "Series([], dtype: int64)"
      ]
     },
     "execution_count": 17,
     "metadata": {},
     "output_type": "execute_result"
    }
   ],
   "source": [
    "cb.st_grouped.size()"
   ]
  },
  {
   "cell_type": "code",
   "execution_count": null,
   "metadata": {
    "collapsed": false
   },
   "outputs": [],
   "source": []
  }
 ],
 "metadata": {
  "kernelspec": {
   "display_name": "Python 3",
   "language": "python",
   "name": "python3"
  },
  "language_info": {
   "codemirror_mode": {
    "name": "ipython",
    "version": 3
   },
   "file_extension": ".py",
   "mimetype": "text/x-python",
   "name": "python",
   "nbconvert_exporter": "python",
   "pygments_lexer": "ipython3",
   "version": "3.7.1"
  }
 },
 "nbformat": 4,
 "nbformat_minor": 2
}
