{
 "metadata": {
  "name": "",
  "signature": "sha256:627925e46f4970cc21e3bf4b87950d03f96ded5e78dc61dfde04c86c885f9692"
 },
 "nbformat": 3,
 "nbformat_minor": 0,
 "worksheets": [
  {
   "cells": [
    {
     "cell_type": "markdown",
     "metadata": {},
     "source": [
      "More infos here: 'http://luna1.diviner.ucla.edu:3000/issues/48"
     ]
    },
    {
     "cell_type": "code",
     "collapsed": false,
     "input": [
      "from diviner import file_utils as fu\n",
      "from diviner import plot_utils as pu"
     ],
     "language": "python",
     "metadata": {},
     "outputs": [],
     "prompt_number": 4
    },
    {
     "cell_type": "code",
     "collapsed": false,
     "input": [
      "tstr = '2013030509'\n",
      "obs = fu.DivObs(tstr)\n",
      "rdrs = obs.get_rdrs()\n",
      "l1a = obs.get_l1a()"
     ],
     "language": "python",
     "metadata": {},
     "outputs": [],
     "prompt_number": 8
    },
    {
     "cell_type": "code",
     "collapsed": false,
     "input": [
      "pu.plot_all_calib_blocks(l1a)"
     ],
     "language": "python",
     "metadata": {},
     "outputs": [
      {
       "output_type": "stream",
       "stream": "stdout",
       "text": [
        "Calib block 0 has no caldata.\n",
        "Calib block 6 has no caldata.\n"
       ]
      }
     ],
     "prompt_number": 13
    },
    {
     "cell_type": "code",
     "collapsed": false,
     "input": [
      "rdrs['counts_8_11 earbore el_cmd'.split()].plot(secondary_y=['earbore','el_cmd'])\n",
      "title(\"Ch 8, det 11 and earbore data for {}\".format(tstr))"
     ],
     "language": "python",
     "metadata": {},
     "outputs": [
      {
       "metadata": {},
       "output_type": "pyout",
       "prompt_number": 16,
       "text": [
        "<matplotlib.text.Text at 0x7f2f99aa7410>"
       ]
      }
     ],
     "prompt_number": 16
    },
    {
     "cell_type": "markdown",
     "metadata": {},
     "source": [
      "Create earbore database"
     ]
    },
    {
     "cell_type": "code",
     "collapsed": false,
     "input": [
      "import glob"
     ],
     "language": "python",
     "metadata": {},
     "outputs": [],
     "prompt_number": 20
    },
    {
     "cell_type": "code",
     "collapsed": false,
     "input": [
      "rdrs_files = glob.glob(fu.rdrsdatapath+'/*.rdrs')"
     ],
     "language": "python",
     "metadata": {},
     "outputs": [],
     "prompt_number": 21
    },
    {
     "cell_type": "code",
     "collapsed": false,
     "input": [
      "len(rdrs_files)"
     ],
     "language": "python",
     "metadata": {},
     "outputs": [
      {
       "metadata": {},
       "output_type": "pyout",
       "prompt_number": 22,
       "text": [
        "38922"
       ]
      }
     ],
     "prompt_number": 22
    },
    {
     "cell_type": "code",
     "collapsed": false,
     "input": [
      "for rdrs_file in rdrs_files[:2]:\n",
      "    print rdrs_file\n",
      "    tstr = fu.fname_to_tstr(rdrs_file)\n",
      "    obs = fu.DivObs(tstr)\n",
      "    rdrs = obs.get_rdrs()\n",
      "    rdrs.earbore.to_frame().to_hdf('test_earbore.hdf','df',append=True)"
     ],
     "language": "python",
     "metadata": {},
     "outputs": [
      {
       "output_type": "stream",
       "stream": "stdout",
       "text": [
        "/luna6/marks/rdrs_data/2009070721.rdrs\n",
        "/luna6/marks/rdrs_data/2011012300.rdrs"
       ]
      },
      {
       "output_type": "stream",
       "stream": "stdout",
       "text": [
        "\n"
       ]
      }
     ],
     "prompt_number": 61
    },
    {
     "cell_type": "code",
     "collapsed": false,
     "input": [
      "pd.read_hdf('test_earbore.hdf','df').index"
     ],
     "language": "python",
     "metadata": {},
     "outputs": [
      {
       "metadata": {},
       "output_type": "pyout",
       "prompt_number": 62,
       "text": [
        "<class 'pandas.tseries.index.DatetimeIndex'>\n",
        "[2009-07-07 21:00:00.007000, ..., 2011-01-23 00:59:59.946000]\n",
        "Length: 56250, Freq: None, Timezone: None"
       ]
      }
     ],
     "prompt_number": 62
    },
    {
     "cell_type": "code",
     "collapsed": false,
     "input": [
      "rdrs.earbore.to_hdf?"
     ],
     "language": "python",
     "metadata": {},
     "outputs": [],
     "prompt_number": 58
    },
    {
     "cell_type": "code",
     "collapsed": false,
     "input": [],
     "language": "python",
     "metadata": {},
     "outputs": []
    }
   ],
   "metadata": {}
  }
 ]
}