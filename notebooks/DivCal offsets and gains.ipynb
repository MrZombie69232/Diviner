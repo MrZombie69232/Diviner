{
 "metadata": {
  "name": ""
 },
 "nbformat": 3,
 "nbformat_minor": 0,
 "worksheets": [
  {
   "cells": [
    {
     "cell_type": "code",
     "collapsed": false,
     "input": [
      "import pandas as pd\n",
      "from diviner import calib\n",
      "from diviner import file_utils as fu\n",
      "from diviner import plot_utils as pu\n",
      "reload(calib)\n",
      "reload(pu)"
     ],
     "language": "python",
     "metadata": {},
     "outputs": [
      {
       "metadata": {},
       "output_type": "pyout",
       "prompt_number": 26,
       "text": [
        "<module 'diviner.plot_utils' from '/Users/maye/Dropbox/src/diviner/plot_utils.py'>"
       ]
      }
     ],
     "prompt_number": 26
    },
    {
     "cell_type": "code",
     "collapsed": false,
     "input": [
      "pump = fu.L1ADataPump('2013030512')"
     ],
     "language": "python",
     "metadata": {},
     "outputs": [],
     "prompt_number": 18
    },
    {
     "cell_type": "code",
     "collapsed": false,
     "input": [
      "df = pump.get_n_hours_from_t(1,0)"
     ],
     "language": "python",
     "metadata": {},
     "outputs": [
      {
       "output_type": "stream",
       "stream": "stdout",
       "text": [
        "2013030512_L1A.TAB\n"
       ]
      }
     ],
     "prompt_number": 19
    },
    {
     "cell_type": "code",
     "collapsed": false,
     "input": [
      "df.calib_block_labels.unique()"
     ],
     "language": "python",
     "metadata": {},
     "outputs": [
      {
       "metadata": {},
       "output_type": "pyout",
       "prompt_number": 20,
       "text": [
        "array([0, 1, 2, 3, 4, 5])"
       ]
      }
     ],
     "prompt_number": 20
    },
    {
     "cell_type": "code",
     "collapsed": false,
     "input": [
      "pu.plot_all_calib_blocks(df, det='b3_11')"
     ],
     "language": "python",
     "metadata": {},
     "outputs": [
      {
       "output_type": "stream",
       "stream": "stdout",
       "text": [
        "Calib block 0 has no caldata.\n",
        "Calib block 5 has no caldata.\n"
       ]
      }
     ],
     "prompt_number": 28
    },
    {
     "cell_type": "code",
     "collapsed": false,
     "input": [
      "pu.plot_calib_block(df, 'calib',5)"
     ],
     "language": "python",
     "metadata": {},
     "outputs": [],
     "prompt_number": 25
    },
    {
     "cell_type": "code",
     "collapsed": false,
     "input": [
      "channel = 'a5'\n",
      "df[[channel+'_01',channel+'_11',channel+'_21']].plot()"
     ],
     "language": "python",
     "metadata": {},
     "outputs": [
      {
       "metadata": {},
       "output_type": "pyout",
       "prompt_number": 13,
       "text": [
        "<matplotlib.axes.AxesSubplot at 0x11a367b90>"
       ]
      }
     ],
     "prompt_number": 13
    },
    {
     "cell_type": "code",
     "collapsed": false,
     "input": [
      "calibrated = calib.Calibrator(df)"
     ],
     "language": "python",
     "metadata": {},
     "outputs": [],
     "prompt_number": 5
    },
    {
     "cell_type": "code",
     "collapsed": false,
     "input": [
      "reload(calib)"
     ],
     "language": "python",
     "metadata": {},
     "outputs": [
      {
       "metadata": {},
       "output_type": "pyout",
       "prompt_number": 21,
       "text": [
        "<module 'diviner.calib' from '/Users/maye/Dropbox/src/diviner/calib.pyc'>"
       ]
      }
     ],
     "prompt_number": 21
    },
    {
     "cell_type": "code",
     "collapsed": false,
     "input": [
      "calibrated.calibrate()"
     ],
     "language": "python",
     "metadata": {},
     "outputs": [
      {
       "output_type": "stream",
       "stream": "stdout",
       "text": [
        "\r",
        " [                       0%                       ]"
       ]
      },
      {
       "ename": "error",
       "evalue": "failed in converting 2nd argument `y' of dfitpack.fpcurf0 to C/Fortran array",
       "output_type": "pyerr",
       "traceback": [
        "---------------------------------------------------------------------------\nerror                                     Traceback (most recent call last)",
        "<ipython-input-22-4403c5bbc5a1> in <module>()\n----> 1 calibrated.calibrate()\n",
        "/Users/maye/Dropbox/src/diviner/calib.pyc in calibrate(self)\n    422         #####\n    423         # interpolate offsets (and gains?) over the big dataframe block\n--> 424         self.interpolate_caldata()\n    425 \n    426         #####\n",
        "/Users/maye/Dropbox/src/diviner/calib.pyc in interpolate_caldata(self)\n    672             s_gain   = Spline(cal_times, self.gains[det], s=0.0, k=self.calfitting_order)\n    673             col_offset = s_offset(all_times)\n--> 674             col_gain   = s_gain(all_times)\n    675             offsets_interp[det] = col_offset\n    676             gains_interp[det]   = col_gain\n",
        "/Library/Frameworks/EPD64.framework/Versions/7.3/lib/python2.7/site-packages/scipy/interpolate/fitpack2.py in __init__(self, x, y, w, bbox, k, s)\n    142         #_data == x,y,w,xb,xe,k,s,n,t,c,fp,fpint,nrdata,ier\n    143         data = dfitpack.fpcurf0(x,y,k,w=w,\n--> 144                                 xb=bbox[0],xe=bbox[1],s=s)\n    145         if data[-1]==1:\n    146             # nest too small, setting to maximum bound\n",
        "error: failed in converting 2nd argument `y' of dfitpack.fpcurf0 to C/Fortran array"
       ]
      }
     ],
     "prompt_number": 22
    },
    {
     "cell_type": "code",
     "collapsed": false,
     "input": [
      "calibrated.gains"
     ],
     "language": "python",
     "metadata": {},
     "outputs": [
      {
       "html": [
        "<pre>\n",
        "&lt;class 'pandas.core.frame.DataFrame'&gt;\n",
        "DatetimeIndex: 6 entries, 2013-03-05 14:46:57.849000 to 2013-03-05 14:55:33.954500\n",
        "Columns: 147 entries, a3_01 to b3_21\n",
        "dtypes: float64(147)\n",
        "</pre>"
       ],
       "metadata": {},
       "output_type": "pyout",
       "prompt_number": 23,
       "text": [
        "<class 'pandas.core.frame.DataFrame'>\n",
        "DatetimeIndex: 6 entries, 2013-03-05 14:46:57.849000 to 2013-03-05 14:55:33.954500\n",
        "Columns: 147 entries, a3_01 to b3_21\n",
        "dtypes: float64(147)"
       ]
      }
     ],
     "prompt_number": 23
    },
    {
     "cell_type": "code",
     "collapsed": false,
     "input": [
      "calibrated.calib_times"
     ],
     "language": "python",
     "metadata": {},
     "outputs": [
      {
       "metadata": {},
       "output_type": "pyout",
       "prompt_number": 24,
       "text": [
        "calib_block_labels\n",
        "2                    2013-03-05 14:47:12.185000\n",
        "3                    2013-03-05 14:55:19.618000\n",
        "dtype: datetime64[ns]"
       ]
      }
     ],
     "prompt_number": 24
    },
    {
     "cell_type": "code",
     "collapsed": false,
     "input": [
      "^^^^^ clash!! 6 entries vs 2 !"
     ],
     "language": "python",
     "metadata": {},
     "outputs": []
    },
    {
     "cell_type": "code",
     "collapsed": false,
     "input": [
      "sdata = calib.get_data_columns(calibrated.df)"
     ],
     "language": "python",
     "metadata": {},
     "outputs": [],
     "prompt_number": 15
    },
    {
     "cell_type": "code",
     "collapsed": false,
     "input": [
      "all_times = sdata.index.values.astype('float64')"
     ],
     "language": "python",
     "metadata": {},
     "outputs": [],
     "prompt_number": 16
    },
    {
     "cell_type": "code",
     "collapsed": false,
     "input": [
      "cb2 = df[df.calib_block_labels==2]"
     ],
     "language": "python",
     "metadata": {},
     "outputs": [],
     "prompt_number": 30
    },
    {
     "cell_type": "code",
     "collapsed": false,
     "input": [
      "bbstart = cb2[cb2.is_bbview].index[0]\n",
      "bbstart"
     ],
     "language": "python",
     "metadata": {},
     "outputs": [
      {
       "metadata": {},
       "output_type": "pyout",
       "prompt_number": 37,
       "text": [
        "Timestamp('2013-03-05 14:47:06.105000', tz=None)"
       ]
      }
     ],
     "prompt_number": 37
    },
    {
     "cell_type": "code",
     "collapsed": false,
     "input": [
      "from datetime import timedelta"
     ],
     "language": "python",
     "metadata": {},
     "outputs": [],
     "prompt_number": 38
    },
    {
     "cell_type": "code",
     "collapsed": false,
     "input": [
      "oneminute = timedelta(minutes=1)"
     ],
     "language": "python",
     "metadata": {},
     "outputs": [],
     "prompt_number": 44
    },
    {
     "cell_type": "code",
     "collapsed": false,
     "input": [
      "bbstart - oneminute"
     ],
     "language": "python",
     "metadata": {},
     "outputs": [
      {
       "metadata": {},
       "output_type": "pyout",
       "prompt_number": 45,
       "text": [
        "datetime.datetime(2013, 3, 5, 14, 46, 6, 105000)"
       ]
      }
     ],
     "prompt_number": 45
    },
    {
     "cell_type": "code",
     "collapsed": false,
     "input": [
      "cb2[bbstart - oneminute:bbstart].ix[df.is_spaceview]"
     ],
     "language": "python",
     "metadata": {},
     "outputs": [
      {
       "html": [
        "<pre>\n",
        "&lt;class 'pandas.core.frame.DataFrame'&gt;\n",
        "DatetimeIndex: 80 entries, 2013-03-05 14:46:51.769000 to 2013-03-05 14:47:01.881000\n",
        "Columns: 259 entries, q to bb_2_temp_interp\n",
        "dtypes: bool(6), float64(52), int32(4), int64(193), object(4)\n",
        "</pre>"
       ],
       "metadata": {},
       "output_type": "pyout",
       "prompt_number": 52,
       "text": [
        "<class 'pandas.core.frame.DataFrame'>\n",
        "DatetimeIndex: 80 entries, 2013-03-05 14:46:51.769000 to 2013-03-05 14:47:01.881000\n",
        "Columns: 259 entries, q to bb_2_temp_interp\n",
        "dtypes: bool(6), float64(52), int32(4), int64(193), object(4)"
       ]
      }
     ],
     "prompt_number": 52
    },
    {
     "cell_type": "code",
     "collapsed": false,
     "input": [
      "reload(calib)"
     ],
     "language": "python",
     "metadata": {},
     "outputs": [
      {
       "metadata": {},
       "output_type": "pyout",
       "prompt_number": 85,
       "text": [
        "<module 'diviner.calib' from '/Users/maye/Dropbox/src/diviner/calib.py'>"
       ]
      }
     ],
     "prompt_number": 85
    },
    {
     "cell_type": "code",
     "collapsed": false,
     "input": [
      "cb2 = calib.CalBlock(df[df.calib_block_labels==2])"
     ],
     "language": "python",
     "metadata": {},
     "outputs": [],
     "prompt_number": 86
    },
    {
     "cell_type": "code",
     "collapsed": false,
     "input": [
      "cb2.get_label_times()"
     ],
     "language": "python",
     "metadata": {},
     "outputs": [],
     "prompt_number": 87
    },
    {
     "cell_type": "code",
     "collapsed": false,
     "input": [
      "cb2.sv_mean_times.reindex(cb2.sv_mean_times.index[::-1])"
     ],
     "language": "python",
     "metadata": {},
     "outputs": [
      {
       "html": [
        "<div style=\"max-height:1000px;max-width:1500px;overflow:auto;\">\n",
        "<table border=\"1\" class=\"dataframe\">\n",
        "  <thead>\n",
        "    <tr style=\"text-align: right;\">\n",
        "      <th></th>\n",
        "      <th>times</th>\n",
        "    </tr>\n",
        "  </thead>\n",
        "  <tbody>\n",
        "    <tr>\n",
        "      <th>2</th>\n",
        "      <td>2013-03-05 14:47:23.449000</td>\n",
        "    </tr>\n",
        "    <tr>\n",
        "      <th>1</th>\n",
        "      <td>2013-03-05 14:46:53.753000</td>\n",
        "    </tr>\n",
        "  </tbody>\n",
        "</table>\n",
        "</div>"
       ],
       "metadata": {},
       "output_type": "pyout",
       "prompt_number": 95,
       "text": [
        "                       times\n",
        "2 2013-03-05 14:47:23.449000\n",
        "1 2013-03-05 14:46:53.753000"
       ]
      }
     ],
     "prompt_number": 95
    },
    {
     "cell_type": "code",
     "collapsed": false,
     "input": [
      "for label in cb2.sv_labels:\n",
      "    print(cb2.sv_mean_times.ix[label])"
     ],
     "language": "python",
     "metadata": {},
     "outputs": [
      {
       "output_type": "stream",
       "stream": "stdout",
       "text": [
        "times   2013-03-05 14:46:53.753000\n",
        "Name: 1, dtype: datetime64[ns]\n",
        "times   2013-03-05 14:47:23.449000\n",
        "Name: 2, dtype: datetime64[ns]\n"
       ]
      }
     ],
     "prompt_number": 98
    },
    {
     "cell_type": "code",
     "collapsed": false,
     "input": [
      "for time in cb2.sv_mean_times.times:\n",
      "    print time"
     ],
     "language": "python",
     "metadata": {},
     "outputs": [
      {
       "output_type": "stream",
       "stream": "stdout",
       "text": [
        "2013-03-05 14:46:53.753000\n",
        "2013-03-05 14:47:23.449000\n"
       ]
      }
     ],
     "prompt_number": 100
    },
    {
     "cell_type": "code",
     "collapsed": false,
     "input": [
      "calibrated.Tb.filter(regex='b[2,3]_11').plot(style='x',ms=10,mew=3)\n",
      "grid()"
     ],
     "language": "python",
     "metadata": {},
     "outputs": [],
     "prompt_number": 576
    },
    {
     "cell_type": "code",
     "collapsed": false,
     "input": [
      "resampled = calibrated.Tb.resample('1s')"
     ],
     "language": "python",
     "metadata": {},
     "outputs": [],
     "prompt_number": 483
    },
    {
     "cell_type": "code",
     "collapsed": false,
     "input": [
      "resampled[['b2_11','b3_11']].plot(style='.')\n",
      "grid(axis='both')"
     ],
     "language": "python",
     "metadata": {},
     "outputs": [],
     "prompt_number": 492
    },
    {
     "cell_type": "code",
     "collapsed": false,
     "input": [
      "geodata = pd.io.parsers.read_table('/Users/maye/data/diviner/rdr_data/20110416_80-90S_geodata.txt',sep='\\s+',\n",
      "                         names=columns)"
     ],
     "language": "python",
     "metadata": {},
     "outputs": [],
     "prompt_number": 606
    },
    {
     "cell_type": "code",
     "collapsed": false,
     "input": [
      "geodata = fu.index_by_time(geodata)"
     ],
     "language": "python",
     "metadata": {},
     "outputs": [],
     "prompt_number": 607
    },
    {
     "cell_type": "code",
     "collapsed": false,
     "input": [
      "geodata"
     ],
     "language": "python",
     "metadata": {},
     "outputs": [
      {
       "output_type": "pyout",
       "prompt_number": 613,
       "text": [
        "<class 'pandas.core.frame.DataFrame'>\n",
        "DatetimeIndex: 6857854 entries, 2011-04-16 00:14:03.036000 to 2011-04-16 22:56:36.643000\n",
        "Data columns:\n",
        "clat        6857854  non-null values\n",
        "clon        6857854  non-null values\n",
        "unknown1    6857854  non-null values\n",
        "unknown2    6857854  non-null values\n",
        "c           6857854  non-null values\n",
        "det         6857854  non-null values\n",
        "dtypes: float64(6)"
       ]
      }
     ],
     "prompt_number": 613
    },
    {
     "cell_type": "code",
     "collapsed": false,
     "input": [
      "geodata.clat.describe()"
     ],
     "language": "python",
     "metadata": {},
     "outputs": [
      {
       "output_type": "pyout",
       "prompt_number": 608,
       "text": [
        "count    6857854.000000\n",
        "mean         -84.727151\n",
        "std            2.740477\n",
        "min          -89.810051\n",
        "25%          -87.070555\n",
        "50%          -84.717781\n",
        "75%          -82.359802\n",
        "max          -80.000008\n",
        "dtype: float64"
       ]
      }
     ],
     "prompt_number": 608
    },
    {
     "cell_type": "code",
     "collapsed": false,
     "input": [
      "store = pd.HDFStore('/Users/maye/data/diviner/rdr_data/geodata.h5')"
     ],
     "language": "python",
     "metadata": {},
     "outputs": [],
     "prompt_number": 609
    },
    {
     "cell_type": "code",
     "collapsed": false,
     "input": [
      "store"
     ],
     "language": "python",
     "metadata": {},
     "outputs": [
      {
       "output_type": "pyout",
       "prompt_number": 614,
       "text": [
        "<class 'pandas.io.pytables.HDFStore'>\n",
        "File path: /Users/maye/data/diviner/rdr_data/geodata.h5\n",
        "/clat_80_90N             frame_table  (typ->appendable,nrows->2427497,ncols->5,indexers->[index],dc->[c,det])\n",
        "/clat_80_90_S            frame_table  (typ->appendable,nrows->6857854,ncols->6,indexers->[index],dc->[c,det])"
       ]
      }
     ],
     "prompt_number": 614
    },
    {
     "cell_type": "code",
     "collapsed": false,
     "input": [
      "store.append('clat_80_90_S', geodata, data_columns=['c','det'])"
     ],
     "language": "python",
     "metadata": {},
     "outputs": [],
     "prompt_number": 612
    },
    {
     "cell_type": "code",
     "collapsed": false,
     "input": [
      "df = store.select('clat_80_90_S',['c=9','det=11'])"
     ],
     "language": "python",
     "metadata": {},
     "outputs": [],
     "prompt_number": 615
    },
    {
     "cell_type": "code",
     "collapsed": false,
     "input": [
      "df = df.drop(['c','det'],axis=1)"
     ],
     "language": "python",
     "metadata": {},
     "outputs": [],
     "prompt_number": 616
    },
    {
     "cell_type": "code",
     "collapsed": false,
     "input": [
      "df"
     ],
     "language": "python",
     "metadata": {},
     "outputs": [
      {
       "output_type": "pyout",
       "prompt_number": 617,
       "text": [
        "<class 'pandas.core.frame.DataFrame'>\n",
        "DatetimeIndex: 36291 entries, 2011-04-16 00:14:03.164000 to 2011-04-16 22:56:34.338999\n",
        "Data columns:\n",
        "clat        36291  non-null values\n",
        "clon        36291  non-null values\n",
        "unknown1    36291  non-null values\n",
        "unknown2    36291  non-null values\n",
        "dtypes: float64(4)"
       ]
      }
     ],
     "prompt_number": 617
    },
    {
     "cell_type": "code",
     "collapsed": false,
     "input": [
      "df.unknown1.describe()"
     ],
     "language": "python",
     "metadata": {},
     "outputs": [
      {
       "output_type": "pyout",
       "prompt_number": 618,
       "text": [
        "count    36291.000000\n",
        "mean        91.460259\n",
        "std          5.508901\n",
        "min         82.125557\n",
        "25%         86.559208\n",
        "50%         91.556168\n",
        "75%         96.350090\n",
        "max        100.727013\n",
        "dtype: float64"
       ]
      }
     ],
     "prompt_number": 618
    },
    {
     "cell_type": "code",
     "collapsed": false,
     "input": [
      "df.clat.plot(style='x',ms=10,mew=3)"
     ],
     "language": "python",
     "metadata": {},
     "outputs": [
      {
       "output_type": "pyout",
       "prompt_number": 619,
       "text": [
        "<matplotlib.axes.AxesSubplot at 0x125d300d0>"
       ]
      }
     ],
     "prompt_number": 619
    },
    {
     "cell_type": "code",
     "collapsed": false,
     "input": [
      "calibrated.Tb['ch9_clon'] = df.clon"
     ],
     "language": "python",
     "metadata": {},
     "outputs": [],
     "prompt_number": 622
    },
    {
     "cell_type": "code",
     "collapsed": false,
     "input": [
      "calibrated.Tb[['ch9_clat','ch9_clon','b3_11']].plot(style='x',ms=10,mew=3)"
     ],
     "language": "python",
     "metadata": {},
     "outputs": [
      {
       "output_type": "pyout",
       "prompt_number": 630,
       "text": [
        "<matplotlib.axes.AxesSubplot at 0x166ec8190>"
       ]
      }
     ],
     "prompt_number": 630
    },
    {
     "cell_type": "code",
     "collapsed": false,
     "input": [
      "calibrated.Tb[calibrated.Tb.ch9_clat.notnull()]."
     ],
     "language": "python",
     "metadata": {},
     "outputs": [
      {
       "output_type": "pyout",
       "prompt_number": 627,
       "text": [
        "<matplotlib.axes.AxesSubplot at 0x166d42cd0>"
       ]
      }
     ],
     "prompt_number": 627
    },
    {
     "cell_type": "code",
     "collapsed": false,
     "input": [
      "calibrated.Tb.ch9_clat.describe()"
     ],
     "language": "python",
     "metadata": {},
     "outputs": [
      {
       "output_type": "pyout",
       "prompt_number": 628,
       "text": [
        "count    2921.000000\n",
        "mean      -85.034396\n",
        "std         2.826847\n",
        "min       -89.661171\n",
        "25%       -87.508003\n",
        "50%       -85.050133\n",
        "75%       -82.585747\n",
        "max       -80.001907\n",
        "dtype: float64"
       ]
      }
     ],
     "prompt_number": 628
    },
    {
     "cell_type": "code",
     "collapsed": false,
     "input": [
      "calibrated.Tb.ix['2011-04-16 11:35:32.21':'2011-04-16 11:35:32.26'][['ch9_clat','ch9_clon','b3_11']]"
     ],
     "language": "python",
     "metadata": {},
     "outputs": [
      {
       "html": [
        "<div style=\"max-height:1000px;max-width:1500px;overflow:auto;\">\n",
        "<table border=\"1\" class=\"dataframe\">\n",
        "  <thead>\n",
        "    <tr style=\"text-align: right;\">\n",
        "      <th></th>\n",
        "      <th>ch9_clat</th>\n",
        "      <th>ch9_clon</th>\n",
        "      <th>b3_11</th>\n",
        "    </tr>\n",
        "  </thead>\n",
        "  <tbody>\n",
        "    <tr>\n",
        "      <th>2011-04-16 11:35:32.250999</th>\n",
        "      <td>-89.18367</td>\n",
        "      <td>-24.596069</td>\n",
        "      <td> 21.726395</td>\n",
        "    </tr>\n",
        "  </tbody>\n",
        "</table>\n",
        "</div>"
       ],
       "output_type": "pyout",
       "prompt_number": 633,
       "text": [
        "                            ch9_clat   ch9_clon      b3_11\n",
        "2011-04-16 11:35:32.250999 -89.18367 -24.596069  21.726395"
       ]
      }
     ],
     "prompt_number": 633
    },
    {
     "cell_type": "code",
     "collapsed": false,
     "input": [
      "calibrated.Tb.ix['2011-04-16 11:35:34.0':'2011-04-16 11:35:34.1'][['ch9_clat','ch9_clon','b3_11']]"
     ],
     "language": "python",
     "metadata": {},
     "outputs": [
      {
       "html": [
        "<div style=\"max-height:1000px;max-width:1500px;overflow:auto;\">\n",
        "<table border=\"1\" class=\"dataframe\">\n",
        "  <thead>\n",
        "    <tr style=\"text-align: right;\">\n",
        "      <th></th>\n",
        "      <th>ch9_clat</th>\n",
        "      <th>ch9_clon</th>\n",
        "      <th>b3_11</th>\n",
        "    </tr>\n",
        "  </thead>\n",
        "  <tbody>\n",
        "    <tr>\n",
        "      <th>2011-04-16 11:35:34.042999</th>\n",
        "      <td>-89.096657</td>\n",
        "      <td>-22.102909</td>\n",
        "      <td> 21.857948</td>\n",
        "    </tr>\n",
        "  </tbody>\n",
        "</table>\n",
        "</div>"
       ],
       "output_type": "pyout",
       "prompt_number": 636,
       "text": [
        "                             ch9_clat   ch9_clon      b3_11\n",
        "2011-04-16 11:35:34.042999 -89.096657 -22.102909  21.857948"
       ]
      }
     ],
     "prompt_number": 636
    },
    {
     "cell_type": "code",
     "collapsed": false,
     "input": [
      "calibrated.Tb.ix['2011-04-16 11:35:34.85':'2011-04-16 11:35:34.95'][['ch9_clat','ch9_clon','b3_11']]"
     ],
     "language": "python",
     "metadata": {},
     "outputs": [
      {
       "html": [
        "<div style=\"max-height:1000px;max-width:1500px;overflow:auto;\">\n",
        "<table border=\"1\" class=\"dataframe\">\n",
        "  <thead>\n",
        "    <tr style=\"text-align: right;\">\n",
        "      <th></th>\n",
        "      <th>ch9_clat</th>\n",
        "      <th>ch9_clon</th>\n",
        "      <th>b3_11</th>\n",
        "    </tr>\n",
        "  </thead>\n",
        "  <tbody>\n",
        "    <tr>\n",
        "      <th>2011-04-16 11:35:34.939000</th>\n",
        "      <td>-89.052597</td>\n",
        "      <td>-21.0289</td>\n",
        "      <td> 21.923728</td>\n",
        "    </tr>\n",
        "  </tbody>\n",
        "</table>\n",
        "</div>"
       ],
       "output_type": "pyout",
       "prompt_number": 635,
       "text": [
        "                             ch9_clat  ch9_clon      b3_11\n",
        "2011-04-16 11:35:34.939000 -89.052597  -21.0289  21.923728"
       ]
      }
     ],
     "prompt_number": 635
    },
    {
     "cell_type": "code",
     "collapsed": false,
     "input": [
      "calibrated.df.b3_11.plot()"
     ],
     "language": "python",
     "metadata": {},
     "outputs": [
      {
       "output_type": "pyout",
       "prompt_number": 638,
       "text": [
        "<matplotlib.axes.AxesSubplot at 0x166ecda10>"
       ]
      }
     ],
     "prompt_number": 638
    },
    {
     "cell_type": "code",
     "collapsed": false,
     "input": [],
     "language": "python",
     "metadata": {},
     "outputs": []
    }
   ],
   "metadata": {}
  }
 ]
}