{
 "metadata": {
  "name": "",
  "signature": "sha256:11b91b86574f8a917cb8498469e49d2ff3521b29608163c90532174eb1d092db"
 },
 "nbformat": 3,
 "nbformat_minor": 0,
 "worksheets": [
  {
   "cells": [
    {
     "cell_type": "code",
     "collapsed": false,
     "input": [
      "%pylab qt"
     ],
     "language": "python",
     "metadata": {},
     "outputs": [
      {
       "output_type": "stream",
       "stream": "stdout",
       "text": [
        "Populating the interactive namespace from numpy and matplotlib\n"
       ]
      }
     ],
     "prompt_number": 5
    },
    {
     "cell_type": "code",
     "collapsed": false,
     "input": [
      "pd.__version__"
     ],
     "language": "python",
     "metadata": {},
     "outputs": [
      {
       "metadata": {},
       "output_type": "pyout",
       "prompt_number": 2,
       "text": [
        "'0.15.1'"
       ]
      }
     ],
     "prompt_number": 2
    },
    {
     "cell_type": "code",
     "collapsed": false,
     "input": [
      "cd /raid1/maye/ground_calib/"
     ],
     "language": "python",
     "metadata": {},
     "outputs": [
      {
       "output_type": "stream",
       "stream": "stdout",
       "text": [
        "/raid1/maye/ground_calib\n"
       ]
      }
     ],
     "prompt_number": 3
    },
    {
     "cell_type": "code",
     "collapsed": false,
     "input": [
      "ls *.h5"
     ],
     "language": "python",
     "metadata": {},
     "outputs": [
      {
       "output_type": "stream",
       "stream": "stdout",
       "text": [
        "all_data.h5  gc_a6_b1_b2_b3.h5  gc_b1_11.h5  house_keeping.h5\r\n"
       ]
      }
     ],
     "prompt_number": 4
    },
    {
     "cell_type": "code",
     "collapsed": true,
     "input": [
      "data = pd.read_hdf('./gc_a6_b1_b2_b3.h5', 'df')"
     ],
     "language": "python",
     "metadata": {},
     "outputs": [],
     "prompt_number": 37
    },
    {
     "cell_type": "code",
     "collapsed": false,
     "input": [
      "hk = pd.read_hdf('./house_keeping.h5','df')"
     ],
     "language": "python",
     "metadata": {},
     "outputs": [],
     "prompt_number": 6
    },
    {
     "cell_type": "code",
     "collapsed": false,
     "input": [
      "hk.info()"
     ],
     "language": "python",
     "metadata": {},
     "outputs": [
      {
       "output_type": "stream",
       "stream": "stdout",
       "text": [
        "<class 'pandas.core.frame.DataFrame'>\n",
        "DatetimeIndex: 136786 entries, 2008-01-10 18:00:02.949000 to 2008-01-16 19:00:00.400000\n",
        "Columns: 246 entries, Q to B3_21av\n",
        "dtypes: float64(215), int64(25), object(6)\n",
        "memory usage: 257.8+ MB\n"
       ]
      }
     ],
     "prompt_number": 43
    },
    {
     "cell_type": "code",
     "collapsed": false,
     "input": [
      "data.info()"
     ],
     "language": "python",
     "metadata": {},
     "outputs": [
      {
       "output_type": "stream",
       "stream": "stdout",
       "text": [
        "<class 'pandas.core.frame.DataFrame'>\n",
        "DatetimeIndex: 1565757 entries, 2008-01-08 17:15:29.111000 to 2008-01-18 07:57:01.504000\n",
        "Data columns (total 4 columns):\n",
        "a6_11    1565757 non-null int64\n",
        "b1_11    1565757 non-null int64\n",
        "b2_11    1565757 non-null int64\n",
        "b3_11    1565757 non-null int64\n",
        "dtypes: int64(4)\n",
        "memory usage: 59.7 MB\n"
       ]
      }
     ],
     "prompt_number": 38
    },
    {
     "cell_type": "code",
     "collapsed": false,
     "input": [
      "t_10K_start = '20080110 21'\n",
      "t_10K_end = '20080112 21'\n",
      "t_30K_start = '20080112 23:30'\n",
      "t_30K_end = '20080113 15:15'\n",
      "t_60K_start = '20080114 11:00'\n",
      "t_60K_end = '20080115 02:50'\n",
      "# set start and end times here:\n",
      "start = t_10K_start\n",
      "end = t_10K_end"
     ],
     "language": "python",
     "metadata": {},
     "outputs": [],
     "prompt_number": 8
    },
    {
     "cell_type": "code",
     "collapsed": false,
     "input": [
      "hk.filter(regex='TEMP').columns"
     ],
     "language": "python",
     "metadata": {},
     "outputs": [
      {
       "metadata": {},
       "output_type": "pyout",
       "prompt_number": 9,
       "text": [
        "Index([u'TEMP_FAULT', u'FPA_TEMP', u'FPB_TEMP', u'BAFFLE_A_TEMP', u'BAFFLE_B_TEMP', u'BB_1_TEMP', u'OBA_1_TEMP', u'HYBRID_TEMP', u'FPA_TEMP_CYC', u'FPB_TEMP_CYC', u'BAFFLE_A_TEMP_CYC', u'BAFFLE_B_TEMP_CYC', u'OBA_1_TEMP_CYC', u'OBA_2_TEMP', u'BB_1_TEMP_CYC', u'BB_2_TEMP', u'SOLAR_TARGET_TEMP', u'YOKE_TEMP', u'EL_ACTUATOR_TEMP', u'AZ_ACTUATOR_TEMP', u'SOLAR_BASE_TEMP'], dtype='object')"
       ]
      }
     ],
     "prompt_number": 9
    },
    {
     "cell_type": "code",
     "collapsed": false,
     "input": [
      "hk[hk<-9998] = np.nan"
     ],
     "language": "python",
     "metadata": {},
     "outputs": [],
     "prompt_number": 10
    },
    {
     "cell_type": "code",
     "collapsed": false,
     "input": [
      "hk[start:end].FPB_TEMP.plot()"
     ],
     "language": "python",
     "metadata": {},
     "outputs": [
      {
       "metadata": {},
       "output_type": "pyout",
       "prompt_number": 11,
       "text": [
        "<matplotlib.axes._subplots.AxesSubplot at 0x7f5faefc0c10>"
       ]
      }
     ],
     "prompt_number": 11
    },
    {
     "cell_type": "code",
     "collapsed": false,
     "input": [
      "%matplotlib inline\n",
      "hk[tstart:tend].FPB_TEMP.resample('10s',how='median').plot()"
     ],
     "language": "python",
     "metadata": {},
     "outputs": [
      {
       "metadata": {},
       "output_type": "pyout",
       "prompt_number": 70,
       "text": [
        "<matplotlib.axes._subplots.AxesSubplot at 0x7f53f7822d90>"
       ]
      },
      {
       "metadata": {},
       "output_type": "display_data",
       "png": "[encoded data removed]",
       "text": [
        "<matplotlib.figure.Figure at 0x7f53f7836350>"
       ]
      }
     ],
     "prompt_number": 70
    },
    {
     "cell_type": "code",
     "collapsed": false,
     "input": [],
     "language": "python",
     "metadata": {},
     "outputs": [
      {
       "output_type": "stream",
       "stream": "stdout",
       "text": [
        "Object `FPB_TEMP.resample` not found.\n"
       ]
      }
     ],
     "prompt_number": 56
    },
    {
     "cell_type": "code",
     "collapsed": false,
     "input": [
      "hk['20080112 13':'20080112 15'].FPB_TEMP.resample"
     ],
     "language": "python",
     "metadata": {},
     "outputs": []
    },
    {
     "cell_type": "code",
     "collapsed": false,
     "input": [],
     "language": "python",
     "metadata": {},
     "outputs": []
    }
   ],
   "metadata": {}
  }
 ]
}