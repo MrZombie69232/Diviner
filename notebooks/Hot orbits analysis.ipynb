{
 "metadata": {
  "name": "Hot orbits analysis"
 },
 "nbformat": 3,
 "nbformat_minor": 0,
 "worksheets": [
  {
   "cells": [
    {
     "cell_type": "code",
     "collapsed": false,
     "input": [
      "from diviner import file_utils as fu\n",
      "from diviner import calib\n",
      "from diviner import plot_utils as pu\n",
      "reload(calib)\n",
      "reload(fu)"
     ],
     "language": "python",
     "metadata": {},
     "outputs": [
      {
       "metadata": {},
       "output_type": "pyout",
       "prompt_number": 140,
       "text": [
        "<module 'diviner.file_utils' from '/Users/maye/Dropbox/src/diviner/file_utils.pyc'>"
       ]
      }
     ],
     "prompt_number": 140
    },
    {
     "cell_type": "code",
     "collapsed": false,
     "input": [
      "rcParams['figure.figsize']=(14,10)"
     ],
     "language": "python",
     "metadata": {},
     "outputs": [],
     "prompt_number": 141
    },
    {
     "cell_type": "markdown",
     "metadata": {},
     "source": [
      "Orbit 8172: 2011-091T20:43:23 UTC date: 2011-04-01\n",
      "\n",
      "Channel to study:"
     ]
    },
    {
     "cell_type": "code",
     "collapsed": false,
     "input": [
      "savepath = '/Users/maye/Dropbox/DDocuments/DIVINER/calib/hot_orbits/'"
     ],
     "language": "python",
     "metadata": {},
     "outputs": [],
     "prompt_number": 142
    },
    {
     "cell_type": "code",
     "collapsed": false,
     "input": [
      "ch2study='b3'"
     ],
     "language": "python",
     "metadata": {},
     "outputs": [],
     "prompt_number": 143
    },
    {
     "cell_type": "code",
     "collapsed": false,
     "input": [
      "pump = fu.Div247DataPump('20110413')"
     ],
     "language": "python",
     "metadata": {},
     "outputs": [],
     "prompt_number": 144
    },
    {
     "cell_type": "code",
     "collapsed": false,
     "input": [
      "df = pump.get_n_hours_from_t(6,0)"
     ],
     "language": "python",
     "metadata": {},
     "outputs": [
      {
       "output_type": "stream",
       "stream": "stdout",
       "text": [
        "2011041300.div247\n",
        "2011041301.div247"
       ]
      },
      {
       "output_type": "stream",
       "stream": "stdout",
       "text": [
        "\n",
        "2011041302.div247"
       ]
      },
      {
       "output_type": "stream",
       "stream": "stdout",
       "text": [
        "\n",
        "2011041303.div247"
       ]
      },
      {
       "output_type": "stream",
       "stream": "stdout",
       "text": [
        "\n",
        "2011041304.div247"
       ]
      },
      {
       "output_type": "stream",
       "stream": "stdout",
       "text": [
        "\n",
        "2011041305.div247"
       ]
      },
      {
       "output_type": "stream",
       "stream": "stdout",
       "text": [
        "\n"
       ]
      }
     ],
     "prompt_number": 154
    },
    {
     "cell_type": "code",
     "collapsed": false,
     "input": [
      "df.index"
     ],
     "language": "python",
     "metadata": {},
     "outputs": [
      {
       "metadata": {},
       "output_type": "pyout",
       "prompt_number": 146,
       "text": [
        "<class 'pandas.tseries.index.DatetimeIndex'>\n",
        "[2011-04-13 00:00:00.316000, ..., 2011-04-13 03:00:01.483000]\n",
        "Length: 84384, Freq: None, Timezone: None"
       ]
      }
     ],
     "prompt_number": 146
    },
    {
     "cell_type": "code",
     "collapsed": false,
     "input": [
      "c = calib.Calibrator(df, single_rbb=False)"
     ],
     "language": "python",
     "metadata": {},
     "outputs": [],
     "prompt_number": 155
    },
    {
     "cell_type": "code",
     "collapsed": false,
     "input": [
      "c.calibrate()"
     ],
     "language": "python",
     "metadata": {},
     "outputs": [
      {
       "output_type": "stream",
       "stream": "stdout",
       "text": [
        "\r",
        " [                       0%                       ]"
       ]
      },
      {
       "output_type": "stream",
       "stream": "stdout",
       "text": [
        "\r",
        " [                       1%                       ]  2 of 147 complete"
       ]
      },
      {
       "output_type": "stream",
       "stream": "stdout",
       "text": [
        "\r",
        " [*                      2%                       ]  3 of 147 complete"
       ]
      },
      {
       "output_type": "stream",
       "stream": "stdout",
       "text": [
        "\r",
        " [*                      3%                       ]  4 of 147 complete"
       ]
      },
      {
       "output_type": "stream",
       "stream": "stdout",
       "text": [
        "\r",
        " [*                      3%                       ]  5 of 147 complete"
       ]
      },
      {
       "output_type": "stream",
       "stream": "stdout",
       "text": [
        "\r",
        " [**                     4%                       ]  6 of 147 complete"
       ]
      },
      {
       "output_type": "stream",
       "stream": "stdout",
       "text": [
        "\r",
        " [**                     5%                       ]  7 of 147 complete"
       ]
      },
      {
       "output_type": "stream",
       "stream": "stdout",
       "text": [
        "\r",
        " [**                     5%                       ]  8 of 147 complete"
       ]
      },
      {
       "output_type": "stream",
       "stream": "stdout",
       "text": [
        "\r",
        " [***                    6%                       ]  9 of 147 complete"
       ]
      },
      {
       "output_type": "stream",
       "stream": "stdout",
       "text": [
        "\r",
        " [***                    7%                       ]  10 of 147 complete"
       ]
      },
      {
       "output_type": "stream",
       "stream": "stdout",
       "text": [
        "\r",
        " [***                    7%                       ]  11 of 147 complete"
       ]
      },
      {
       "output_type": "stream",
       "stream": "stdout",
       "text": [
        "\r",
        " [****                   8%                       ]  12 of 147 complete"
       ]
      },
      {
       "output_type": "stream",
       "stream": "stdout",
       "text": [
        "\r",
        " [****                   9%                       ]  13 of 147 complete"
       ]
      },
      {
       "output_type": "stream",
       "stream": "stdout",
       "text": [
        "\r",
        " [*****                 10%                       ]  14 of 147 complete"
       ]
      },
      {
       "output_type": "stream",
       "stream": "stdout",
       "text": [
        "\r",
        " [*****                 10%                       ]  15 of 147 complete"
       ]
      },
      {
       "output_type": "stream",
       "stream": "stdout",
       "text": [
        "\r",
        " [*****                 11%                       ]  16 of 147 complete"
       ]
      },
      {
       "output_type": "stream",
       "stream": "stdout",
       "text": [
        "\r",
        " [******                12%                       ]  17 of 147 complete"
       ]
      },
      {
       "output_type": "stream",
       "stream": "stdout",
       "text": [
        "\r",
        " [******                12%                       ]  18 of 147 complete"
       ]
      },
      {
       "output_type": "stream",
       "stream": "stdout",
       "text": [
        "\r",
        " [******                13%                       ]  19 of 147 complete"
       ]
      },
      {
       "output_type": "stream",
       "stream": "stdout",
       "text": [
        "\r",
        " [*******               14%                       ]  20 of 147 complete"
       ]
      },
      {
       "output_type": "stream",
       "stream": "stdout",
       "text": [
        "\r",
        " [*******               14%                       ]  21 of 147 complete"
       ]
      },
      {
       "output_type": "stream",
       "stream": "stdout",
       "text": [
        "\r",
        " [*******               15%                       ]  22 of 147 complete"
       ]
      },
      {
       "output_type": "stream",
       "stream": "stdout",
       "text": [
        "\r",
        " [********              16%                       ]  23 of 147 complete"
       ]
      },
      {
       "output_type": "stream",
       "stream": "stdout",
       "text": [
        "\r",
        " [********              16%                       ]  24 of 147 complete"
       ]
      },
      {
       "output_type": "stream",
       "stream": "stdout",
       "text": [
        "\r",
        " [********              17%                       ]  25 of 147 complete"
       ]
      },
      {
       "output_type": "stream",
       "stream": "stdout",
       "text": [
        "\r",
        " [*********             18%                       ]  26 of 147 complete"
       ]
      },
      {
       "output_type": "stream",
       "stream": "stdout",
       "text": [
        "\r",
        " [*********             18%                       ]  27 of 147 complete"
       ]
      },
      {
       "output_type": "stream",
       "stream": "stdout",
       "text": [
        "\r",
        " [*********             19%                       ]  28 of 147 complete"
       ]
      },
      {
       "output_type": "stream",
       "stream": "stdout",
       "text": [
        "\r",
        " [**********            20%                       ]  29 of 147 complete"
       ]
      },
      {
       "output_type": "stream",
       "stream": "stdout",
       "text": [
        "\r",
        " [**********            20%                       ]  30 of 147 complete"
       ]
      },
      {
       "output_type": "stream",
       "stream": "stdout",
       "text": [
        "\r",
        " [**********            21%                       ]  31 of 147 complete"
       ]
      },
      {
       "output_type": "stream",
       "stream": "stdout",
       "text": [
        "\r",
        " [***********           22%                       ]  32 of 147 complete"
       ]
      },
      {
       "output_type": "stream",
       "stream": "stdout",
       "text": [
        "\r",
        " [***********           22%                       ]  33 of 147 complete"
       ]
      },
      {
       "output_type": "stream",
       "stream": "stdout",
       "text": [
        "\r",
        " [***********           23%                       ]  34 of 147 complete"
       ]
      },
      {
       "output_type": "stream",
       "stream": "stdout",
       "text": [
        "\r",
        " [************          24%                       ]  35 of 147 complete"
       ]
      },
      {
       "output_type": "stream",
       "stream": "stdout",
       "text": [
        "\r",
        " [************          24%                       ]  36 of 147 complete"
       ]
      },
      {
       "output_type": "stream",
       "stream": "stdout",
       "text": [
        "\r",
        " [************          25%                       ]  37 of 147 complete"
       ]
      },
      {
       "output_type": "stream",
       "stream": "stdout",
       "text": [
        "\r",
        " [************          26%                       ]  38 of 147 complete"
       ]
      },
      {
       "output_type": "stream",
       "stream": "stdout",
       "text": [
        "\r",
        " [*************         27%                       ]  39 of 147 complete"
       ]
      },
      {
       "output_type": "stream",
       "stream": "stdout",
       "text": [
        "\r",
        " [*************         27%                       ]  40 of 147 complete"
       ]
      },
      {
       "output_type": "stream",
       "stream": "stdout",
       "text": [
        "\r",
        " [*************         28%                       ]  41 of 147 complete"
       ]
      },
      {
       "output_type": "stream",
       "stream": "stdout",
       "text": [
        "\r",
        " [**************        29%                       ]  42 of 147 complete"
       ]
      },
      {
       "output_type": "stream",
       "stream": "stdout",
       "text": [
        "\r",
        " [**************        29%                       ]  43 of 147 complete"
       ]
      },
      {
       "output_type": "stream",
       "stream": "stdout",
       "text": [
        "\r",
        " [**************        30%                       ]  44 of 147 complete"
       ]
      },
      {
       "output_type": "stream",
       "stream": "stdout",
       "text": [
        "\r",
        " [***************       31%                       ]  45 of 147 complete"
       ]
      },
      {
       "output_type": "stream",
       "stream": "stdout",
       "text": [
        "\r",
        " [***************       31%                       ]  46 of 147 complete"
       ]
      },
      {
       "output_type": "stream",
       "stream": "stdout",
       "text": [
        "\r",
        " [***************       32%                       ]  47 of 147 complete"
       ]
      },
      {
       "output_type": "stream",
       "stream": "stdout",
       "text": [
        "\r",
        " [****************      33%                       ]  48 of 147 complete"
       ]
      },
      {
       "output_type": "stream",
       "stream": "stdout",
       "text": [
        "\r",
        " [****************      33%                       ]  49 of 147 complete"
       ]
      },
      {
       "output_type": "stream",
       "stream": "stdout",
       "text": [
        "\r",
        " [****************      34%                       ]  50 of 147 complete"
       ]
      },
      {
       "output_type": "stream",
       "stream": "stdout",
       "text": [
        "\r",
        " [*****************     35%                       ]  51 of 147 complete"
       ]
      },
      {
       "output_type": "stream",
       "stream": "stdout",
       "text": [
        "\r",
        " [*****************     35%                       ]  52 of 147 complete"
       ]
      },
      {
       "output_type": "stream",
       "stream": "stdout",
       "text": [
        "\r",
        " [*****************     36%                       ]  53 of 147 complete"
       ]
      },
      {
       "output_type": "stream",
       "stream": "stdout",
       "text": [
        "\r",
        " [******************    37%                       ]  54 of 147 complete"
       ]
      },
      {
       "output_type": "stream",
       "stream": "stdout",
       "text": [
        "\r",
        " [******************    37%                       ]  55 of 147 complete"
       ]
      },
      {
       "output_type": "stream",
       "stream": "stdout",
       "text": [
        "\r",
        " [******************    38%                       ]  56 of 147 complete"
       ]
      },
      {
       "output_type": "stream",
       "stream": "stdout",
       "text": [
        "\r",
        " [*******************   39%                       ]  57 of 147 complete"
       ]
      },
      {
       "output_type": "stream",
       "stream": "stdout",
       "text": [
        "\r",
        " [*******************   39%                       ]  58 of 147 complete"
       ]
      },
      {
       "output_type": "stream",
       "stream": "stdout",
       "text": [
        "\r",
        " [*******************   40%                       ]  59 of 147 complete"
       ]
      },
      {
       "output_type": "stream",
       "stream": "stdout",
       "text": [
        "\r",
        " [********************  41%                       ]  60 of 147 complete"
       ]
      },
      {
       "output_type": "stream",
       "stream": "stdout",
       "text": [
        "\r",
        " [********************  41%                       ]  61 of 147 complete"
       ]
      },
      {
       "output_type": "stream",
       "stream": "stdout",
       "text": [
        "\r",
        " [********************  42%                       ]  62 of 147 complete"
       ]
      },
      {
       "output_type": "stream",
       "stream": "stdout",
       "text": [
        "\r",
        " [********************* 43%                       ]  63 of 147 complete"
       ]
      },
      {
       "output_type": "stream",
       "stream": "stdout",
       "text": [
        "\r",
        " [********************* 44%                       ]  64 of 147 complete"
       ]
      },
      {
       "output_type": "stream",
       "stream": "stdout",
       "text": [
        "\r",
        " [********************* 44%                       ]  65 of 147 complete"
       ]
      },
      {
       "output_type": "stream",
       "stream": "stdout",
       "text": [
        "\r",
        " [**********************45%                       ]  66 of 147 complete"
       ]
      },
      {
       "output_type": "stream",
       "stream": "stdout",
       "text": [
        "\r",
        " [**********************46%                       ]  67 of 147 complete"
       ]
      },
      {
       "output_type": "stream",
       "stream": "stdout",
       "text": [
        "\r",
        " [**********************46%                       ]  68 of 147 complete"
       ]
      },
      {
       "output_type": "stream",
       "stream": "stdout",
       "text": [
        "\r",
        " [**********************47%                       ]  69 of 147 complete"
       ]
      },
      {
       "output_type": "stream",
       "stream": "stdout",
       "text": [
        "\r",
        " [**********************48%                       ]  70 of 147 complete"
       ]
      },
      {
       "output_type": "stream",
       "stream": "stdout",
       "text": [
        "\r",
        " [**********************48%                       ]  71 of 147 complete"
       ]
      },
      {
       "output_type": "stream",
       "stream": "stdout",
       "text": [
        "\r",
        " [**********************49%                       ]  72 of 147 complete"
       ]
      },
      {
       "output_type": "stream",
       "stream": "stdout",
       "text": [
        "\r",
        " [**********************50%                       ]  73 of 147 complete"
       ]
      },
      {
       "output_type": "stream",
       "stream": "stdout",
       "text": [
        "\r",
        " [**********************50%                       ]  74 of 147 complete"
       ]
      },
      {
       "output_type": "stream",
       "stream": "stdout",
       "text": [
        "\r",
        " [**********************51%                       ]  75 of 147 complete"
       ]
      },
      {
       "output_type": "stream",
       "stream": "stdout",
       "text": [
        "\r",
        " [**********************52%                       ]  76 of 147 complete"
       ]
      },
      {
       "output_type": "stream",
       "stream": "stdout",
       "text": [
        "\r",
        " [**********************52%                       ]  77 of 147 complete"
       ]
      },
      {
       "output_type": "stream",
       "stream": "stdout",
       "text": [
        "\r",
        " [**********************53%                       ]  78 of 147 complete"
       ]
      },
      {
       "output_type": "stream",
       "stream": "stdout",
       "text": [
        "\r",
        " [**********************54%*                      ]  79 of 147 complete"
       ]
      },
      {
       "output_type": "stream",
       "stream": "stdout",
       "text": [
        "\r",
        " [**********************54%*                      ]  80 of 147 complete"
       ]
      },
      {
       "output_type": "stream",
       "stream": "stdout",
       "text": [
        "\r",
        " [**********************55%*                      ]  81 of 147 complete"
       ]
      },
      {
       "output_type": "stream",
       "stream": "stdout",
       "text": [
        "\r",
        " [**********************56%**                     ]  82 of 147 complete"
       ]
      },
      {
       "output_type": "stream",
       "stream": "stdout",
       "text": [
        "\r",
        " [**********************56%**                     ]  83 of 147 complete"
       ]
      },
      {
       "output_type": "stream",
       "stream": "stdout",
       "text": [
        "\r",
        " [**********************57%**                     ]  84 of 147 complete"
       ]
      },
      {
       "output_type": "stream",
       "stream": "stdout",
       "text": [
        "\r",
        " [**********************58%***                    ]  85 of 147 complete"
       ]
      },
      {
       "output_type": "stream",
       "stream": "stdout",
       "text": [
        "\r",
        " [**********************59%***                    ]  86 of 147 complete"
       ]
      },
      {
       "output_type": "stream",
       "stream": "stdout",
       "text": [
        "\r",
        " [**********************59%***                    ]  87 of 147 complete"
       ]
      },
      {
       "output_type": "stream",
       "stream": "stdout",
       "text": [
        "\r",
        " [**********************60%****                   ]  88 of 147 complete"
       ]
      },
      {
       "output_type": "stream",
       "stream": "stdout",
       "text": [
        "\r",
        " [**********************61%****                   ]  89 of 147 complete"
       ]
      },
      {
       "output_type": "stream",
       "stream": "stdout",
       "text": [
        "\r",
        " [**********************61%****                   ]  90 of 147 complete"
       ]
      },
      {
       "output_type": "stream",
       "stream": "stdout",
       "text": [
        "\r",
        " [**********************62%*****                  ]  91 of 147 complete"
       ]
      },
      {
       "output_type": "stream",
       "stream": "stdout",
       "text": [
        "\r",
        " [**********************63%*****                  ]  92 of 147 complete"
       ]
      },
      {
       "output_type": "stream",
       "stream": "stdout",
       "text": [
        "\r",
        " [**********************63%*****                  ]  93 of 147 complete"
       ]
      },
      {
       "output_type": "stream",
       "stream": "stdout",
       "text": [
        "\r",
        " [**********************64%******                 ]  94 of 147 complete"
       ]
      },
      {
       "output_type": "stream",
       "stream": "stdout",
       "text": [
        "\r",
        " [**********************65%******                 ]  95 of 147 complete"
       ]
      },
      {
       "output_type": "stream",
       "stream": "stdout",
       "text": [
        "\r",
        " [**********************65%******                 ]  96 of 147 complete"
       ]
      },
      {
       "output_type": "stream",
       "stream": "stdout",
       "text": [
        "\r",
        " [**********************66%*******                ]  97 of 147 complete"
       ]
      },
      {
       "output_type": "stream",
       "stream": "stdout",
       "text": [
        "\r",
        " [**********************67%*******                ]  98 of 147 complete"
       ]
      },
      {
       "output_type": "stream",
       "stream": "stdout",
       "text": [
        "\r",
        " [**********************67%*******                ]  99 of 147 complete"
       ]
      },
      {
       "output_type": "stream",
       "stream": "stdout",
       "text": [
        "\r",
        " [**********************68%********               ]  100 of 147 complete"
       ]
      },
      {
       "output_type": "stream",
       "stream": "stdout",
       "text": [
        "\r",
        " [**********************69%********               ]  101 of 147 complete"
       ]
      },
      {
       "output_type": "stream",
       "stream": "stdout",
       "text": [
        "\r",
        " [**********************69%********               ]  102 of 147 complete"
       ]
      },
      {
       "output_type": "stream",
       "stream": "stdout",
       "text": [
        "\r",
        " [**********************70%*********              ]  103 of 147 complete"
       ]
      },
      {
       "output_type": "stream",
       "stream": "stdout",
       "text": [
        "\r",
        " [**********************71%*********              ]  104 of 147 complete"
       ]
      },
      {
       "output_type": "stream",
       "stream": "stdout",
       "text": [
        "\r",
        " [**********************71%*********              ]  105 of 147 complete"
       ]
      },
      {
       "output_type": "stream",
       "stream": "stdout",
       "text": [
        "\r",
        " [**********************72%**********             ]  106 of 147 complete"
       ]
      },
      {
       "output_type": "stream",
       "stream": "stdout",
       "text": [
        "\r",
        " [**********************73%**********             ]  107 of 147 complete"
       ]
      },
      {
       "output_type": "stream",
       "stream": "stdout",
       "text": [
        "\r",
        " [**********************73%**********             ]  108 of 147 complete"
       ]
      },
      {
       "output_type": "stream",
       "stream": "stdout",
       "text": [
        "\r",
        " [**********************74%***********            ]  109 of 147 complete"
       ]
      },
      {
       "output_type": "stream",
       "stream": "stdout",
       "text": [
        "\r",
        " [**********************75%***********            ]  110 of 147 complete"
       ]
      },
      {
       "output_type": "stream",
       "stream": "stdout",
       "text": [
        "\r",
        " [**********************76%***********            ]  111 of 147 complete"
       ]
      },
      {
       "output_type": "stream",
       "stream": "stdout",
       "text": [
        "\r",
        " [**********************76%***********            ]  112 of 147 complete"
       ]
      },
      {
       "output_type": "stream",
       "stream": "stdout",
       "text": [
        "\r",
        " [**********************77%************           ]  113 of 147 complete"
       ]
      },
      {
       "output_type": "stream",
       "stream": "stdout",
       "text": [
        "\r",
        " [**********************78%************           ]  114 of 147 complete"
       ]
      },
      {
       "output_type": "stream",
       "stream": "stdout",
       "text": [
        "\r",
        " [**********************78%************           ]  115 of 147 complete"
       ]
      },
      {
       "output_type": "stream",
       "stream": "stdout",
       "text": [
        "\r",
        " [**********************79%*************          ]  116 of 147 complete"
       ]
      },
      {
       "output_type": "stream",
       "stream": "stdout",
       "text": [
        "\r",
        " [**********************80%*************          ]  117 of 147 complete"
       ]
      },
      {
       "output_type": "stream",
       "stream": "stdout",
       "text": [
        "\r",
        " [**********************80%*************          ]  118 of 147 complete"
       ]
      },
      {
       "output_type": "stream",
       "stream": "stdout",
       "text": [
        "\r",
        " [**********************81%**************         ]  119 of 147 complete"
       ]
      },
      {
       "output_type": "stream",
       "stream": "stdout",
       "text": [
        "\r",
        " [**********************82%**************         ]  120 of 147 complete"
       ]
      },
      {
       "output_type": "stream",
       "stream": "stdout",
       "text": [
        "\r",
        " [**********************82%**************         ]  121 of 147 complete"
       ]
      },
      {
       "output_type": "stream",
       "stream": "stdout",
       "text": [
        "\r",
        " [**********************83%***************        ]  122 of 147 complete"
       ]
      },
      {
       "output_type": "stream",
       "stream": "stdout",
       "text": [
        "\r",
        " [**********************84%***************        ]  123 of 147 complete"
       ]
      },
      {
       "output_type": "stream",
       "stream": "stdout",
       "text": [
        "\r",
        " [**********************84%***************        ]  124 of 147 complete"
       ]
      },
      {
       "output_type": "stream",
       "stream": "stdout",
       "text": [
        "\r",
        " [**********************85%****************       ]  125 of 147 complete"
       ]
      },
      {
       "output_type": "stream",
       "stream": "stdout",
       "text": [
        "\r",
        " [**********************86%****************       ]  126 of 147 complete"
       ]
      },
      {
       "output_type": "stream",
       "stream": "stdout",
       "text": [
        "\r",
        " [**********************86%****************       ]  127 of 147 complete"
       ]
      },
      {
       "output_type": "stream",
       "stream": "stdout",
       "text": [
        "\r",
        " [**********************87%*****************      ]  128 of 147 complete"
       ]
      },
      {
       "output_type": "stream",
       "stream": "stdout",
       "text": [
        "\r",
        " [**********************88%*****************      ]  129 of 147 complete"
       ]
      },
      {
       "output_type": "stream",
       "stream": "stdout",
       "text": [
        "\r",
        " [**********************88%*****************      ]  130 of 147 complete"
       ]
      },
      {
       "output_type": "stream",
       "stream": "stdout",
       "text": [
        "\r",
        " [**********************89%******************     ]  131 of 147 complete"
       ]
      },
      {
       "output_type": "stream",
       "stream": "stdout",
       "text": [
        "\r",
        " [**********************90%******************     ]  132 of 147 complete"
       ]
      },
      {
       "output_type": "stream",
       "stream": "stdout",
       "text": [
        "\r",
        " [**********************90%******************     ]  133 of 147 complete"
       ]
      },
      {
       "output_type": "stream",
       "stream": "stdout",
       "text": [
        "\r",
        " [**********************91%*******************    ]  134 of 147 complete"
       ]
      },
      {
       "output_type": "stream",
       "stream": "stdout",
       "text": [
        "\r",
        " [**********************92%*******************    ]  135 of 147 complete"
       ]
      },
      {
       "output_type": "stream",
       "stream": "stdout",
       "text": [
        "\r",
        " [**********************93%********************   ]  136 of 147 complete"
       ]
      },
      {
       "output_type": "stream",
       "stream": "stdout",
       "text": [
        "\r",
        " [**********************93%********************   ]  137 of 147 complete"
       ]
      },
      {
       "output_type": "stream",
       "stream": "stdout",
       "text": [
        "\r",
        " [**********************94%********************   ]  138 of 147 complete"
       ]
      },
      {
       "output_type": "stream",
       "stream": "stdout",
       "text": [
        "\r",
        " [**********************95%*********************  ]  139 of 147 complete"
       ]
      },
      {
       "output_type": "stream",
       "stream": "stdout",
       "text": [
        "\r",
        " [**********************95%*********************  ]  140 of 147 complete"
       ]
      },
      {
       "output_type": "stream",
       "stream": "stdout",
       "text": [
        "\r",
        " [**********************96%*********************  ]  141 of 147 complete"
       ]
      },
      {
       "output_type": "stream",
       "stream": "stdout",
       "text": [
        "\r",
        " [**********************97%********************** ]  142 of 147 complete"
       ]
      },
      {
       "output_type": "stream",
       "stream": "stdout",
       "text": [
        "\r",
        " [**********************97%********************** ]  143 of 147 complete"
       ]
      },
      {
       "output_type": "stream",
       "stream": "stdout",
       "text": [
        "\r",
        " [**********************98%********************** ]  144 of 147 complete"
       ]
      },
      {
       "output_type": "stream",
       "stream": "stdout",
       "text": [
        "\r",
        " [**********************99%***********************]  145 of 147 complete"
       ]
      },
      {
       "output_type": "stream",
       "stream": "stdout",
       "text": [
        "\r",
        " [**********************99%***********************]  146 of 147 complete"
       ]
      },
      {
       "output_type": "stream",
       "stream": "stdout",
       "text": [
        "\r",
        " [*********************100%***********************]  147 of 147 complete"
       ]
      },
      {
       "output_type": "stream",
       "stream": "stdout",
       "text": [
        "\r",
        " [                       0%                       ]"
       ]
      },
      {
       "output_type": "stream",
       "stream": "stdout",
       "text": [
        "\r",
        " [                       1%                       ]  2 of 147 complete"
       ]
      },
      {
       "output_type": "stream",
       "stream": "stdout",
       "text": [
        "\r",
        " [*                      2%                       ]  3 of 147 complete"
       ]
      },
      {
       "output_type": "stream",
       "stream": "stdout",
       "text": [
        "\r",
        " [*                      3%                       ]  4 of 147 complete"
       ]
      },
      {
       "output_type": "stream",
       "stream": "stdout",
       "text": [
        "\r",
        " [*                      3%                       ]  5 of 147 complete"
       ]
      },
      {
       "output_type": "stream",
       "stream": "stdout",
       "text": [
        "\r",
        " [**                     4%                       ]  6 of 147 complete"
       ]
      },
      {
       "output_type": "stream",
       "stream": "stdout",
       "text": [
        "\r",
        " [**                     5%                       ]  7 of 147 complete"
       ]
      },
      {
       "output_type": "stream",
       "stream": "stdout",
       "text": [
        "\r",
        " [**                     5%                       ]  8 of 147 complete"
       ]
      },
      {
       "output_type": "stream",
       "stream": "stdout",
       "text": [
        "\r",
        " [***                    6%                       ]  9 of 147 complete"
       ]
      },
      {
       "output_type": "stream",
       "stream": "stdout",
       "text": [
        "\r",
        " [***                    7%                       ]  10 of 147 complete"
       ]
      },
      {
       "output_type": "stream",
       "stream": "stdout",
       "text": [
        "\r",
        " [***                    7%                       ]  11 of 147 complete"
       ]
      },
      {
       "output_type": "stream",
       "stream": "stdout",
       "text": [
        "\r",
        " [****                   8%                       ]  12 of 147 complete"
       ]
      },
      {
       "output_type": "stream",
       "stream": "stdout",
       "text": [
        "\r",
        " [****                   9%                       ]  13 of 147 complete"
       ]
      },
      {
       "output_type": "stream",
       "stream": "stdout",
       "text": [
        "\r",
        " [*****                 10%                       ]  14 of 147 complete"
       ]
      },
      {
       "output_type": "stream",
       "stream": "stdout",
       "text": [
        "\r",
        " [*****                 10%                       ]  15 of 147 complete"
       ]
      },
      {
       "output_type": "stream",
       "stream": "stdout",
       "text": [
        "\r",
        " [*****                 11%                       ]  16 of 147 complete"
       ]
      },
      {
       "output_type": "stream",
       "stream": "stdout",
       "text": [
        "\r",
        " [******                12%                       ]  17 of 147 complete"
       ]
      },
      {
       "output_type": "stream",
       "stream": "stdout",
       "text": [
        "\r",
        " [******                12%                       ]  18 of 147 complete"
       ]
      },
      {
       "output_type": "stream",
       "stream": "stdout",
       "text": [
        "\r",
        " [******                13%                       ]  19 of 147 complete"
       ]
      },
      {
       "output_type": "stream",
       "stream": "stdout",
       "text": [
        "\r",
        " [*******               14%                       ]  20 of 147 complete"
       ]
      },
      {
       "output_type": "stream",
       "stream": "stdout",
       "text": [
        "\r",
        " [*******               14%                       ]  21 of 147 complete"
       ]
      },
      {
       "output_type": "stream",
       "stream": "stdout",
       "text": [
        "\r",
        " [*******               15%                       ]  22 of 147 complete"
       ]
      },
      {
       "output_type": "stream",
       "stream": "stdout",
       "text": [
        "\r",
        " [********              16%                       ]  23 of 147 complete"
       ]
      },
      {
       "output_type": "stream",
       "stream": "stdout",
       "text": [
        "\r",
        " [********              16%                       ]  24 of 147 complete"
       ]
      },
      {
       "output_type": "stream",
       "stream": "stdout",
       "text": [
        "\r",
        " [********              17%                       ]  25 of 147 complete"
       ]
      },
      {
       "output_type": "stream",
       "stream": "stdout",
       "text": [
        "\r",
        " [*********             18%                       ]  26 of 147 complete"
       ]
      },
      {
       "output_type": "stream",
       "stream": "stdout",
       "text": [
        "\r",
        " [*********             18%                       ]  27 of 147 complete"
       ]
      },
      {
       "output_type": "stream",
       "stream": "stdout",
       "text": [
        "\r",
        " [*********             19%                       ]  28 of 147 complete"
       ]
      },
      {
       "output_type": "stream",
       "stream": "stdout",
       "text": [
        "\r",
        " [**********            20%                       ]  29 of 147 complete"
       ]
      },
      {
       "output_type": "stream",
       "stream": "stdout",
       "text": [
        "\r",
        " [**********            20%                       ]  30 of 147 complete"
       ]
      },
      {
       "output_type": "stream",
       "stream": "stdout",
       "text": [
        "\r",
        " [**********            21%                       ]  31 of 147 complete"
       ]
      },
      {
       "output_type": "stream",
       "stream": "stdout",
       "text": [
        "\r",
        " [***********           22%                       ]  32 of 147 complete"
       ]
      },
      {
       "output_type": "stream",
       "stream": "stdout",
       "text": [
        "\r",
        " [***********           22%                       ]  33 of 147 complete"
       ]
      },
      {
       "output_type": "stream",
       "stream": "stdout",
       "text": [
        "\r",
        " [***********           23%                       ]  34 of 147 complete"
       ]
      },
      {
       "output_type": "stream",
       "stream": "stdout",
       "text": [
        "\r",
        " [************          24%                       ]  35 of 147 complete"
       ]
      },
      {
       "output_type": "stream",
       "stream": "stdout",
       "text": [
        "\r",
        " [************          24%                       ]  36 of 147 complete"
       ]
      },
      {
       "output_type": "stream",
       "stream": "stdout",
       "text": [
        "\r",
        " [************          25%                       ]  37 of 147 complete"
       ]
      },
      {
       "output_type": "stream",
       "stream": "stdout",
       "text": [
        "\r",
        " [************          26%                       ]  38 of 147 complete"
       ]
      },
      {
       "output_type": "stream",
       "stream": "stdout",
       "text": [
        "\r",
        " [*************         27%                       ]  39 of 147 complete"
       ]
      },
      {
       "output_type": "stream",
       "stream": "stdout",
       "text": [
        "\r",
        " [*************         27%                       ]  40 of 147 complete"
       ]
      },
      {
       "output_type": "stream",
       "stream": "stdout",
       "text": [
        "\r",
        " [*************         28%                       ]  41 of 147 complete"
       ]
      },
      {
       "output_type": "stream",
       "stream": "stdout",
       "text": [
        "\r",
        " [**************        29%                       ]  42 of 147 complete"
       ]
      },
      {
       "output_type": "stream",
       "stream": "stdout",
       "text": [
        "\r",
        " [**************        29%                       ]  43 of 147 complete"
       ]
      },
      {
       "output_type": "stream",
       "stream": "stdout",
       "text": [
        "\r",
        " [**************        30%                       ]  44 of 147 complete"
       ]
      },
      {
       "output_type": "stream",
       "stream": "stdout",
       "text": [
        "\r",
        " [***************       31%                       ]  45 of 147 complete"
       ]
      },
      {
       "output_type": "stream",
       "stream": "stdout",
       "text": [
        "\r",
        " [***************       31%                       ]  46 of 147 complete"
       ]
      },
      {
       "output_type": "stream",
       "stream": "stdout",
       "text": [
        "\r",
        " [***************       32%                       ]  47 of 147 complete"
       ]
      },
      {
       "output_type": "stream",
       "stream": "stdout",
       "text": [
        "\r",
        " [****************      33%                       ]  48 of 147 complete"
       ]
      },
      {
       "output_type": "stream",
       "stream": "stdout",
       "text": [
        "\r",
        " [****************      33%                       ]  49 of 147 complete"
       ]
      },
      {
       "output_type": "stream",
       "stream": "stdout",
       "text": [
        "\r",
        " [****************      34%                       ]  50 of 147 complete"
       ]
      },
      {
       "output_type": "stream",
       "stream": "stdout",
       "text": [
        "\r",
        " [*****************     35%                       ]  51 of 147 complete"
       ]
      },
      {
       "output_type": "stream",
       "stream": "stdout",
       "text": [
        "\r",
        " [*****************     35%                       ]  52 of 147 complete"
       ]
      },
      {
       "output_type": "stream",
       "stream": "stdout",
       "text": [
        "\r",
        " [*****************     36%                       ]  53 of 147 complete"
       ]
      },
      {
       "output_type": "stream",
       "stream": "stdout",
       "text": [
        "\r",
        " [******************    37%                       ]  54 of 147 complete"
       ]
      },
      {
       "output_type": "stream",
       "stream": "stdout",
       "text": [
        "\r",
        " [******************    37%                       ]  55 of 147 complete"
       ]
      },
      {
       "output_type": "stream",
       "stream": "stdout",
       "text": [
        "\r",
        " [******************    38%                       ]  56 of 147 complete"
       ]
      },
      {
       "output_type": "stream",
       "stream": "stdout",
       "text": [
        "\r",
        " [*******************   39%                       ]  57 of 147 complete"
       ]
      },
      {
       "output_type": "stream",
       "stream": "stdout",
       "text": [
        "\r",
        " [*******************   39%                       ]  58 of 147 complete"
       ]
      },
      {
       "output_type": "stream",
       "stream": "stdout",
       "text": [
        "\r",
        " [*******************   40%                       ]  59 of 147 complete"
       ]
      },
      {
       "output_type": "stream",
       "stream": "stdout",
       "text": [
        "\r",
        " [********************  41%                       ]  60 of 147 complete"
       ]
      },
      {
       "output_type": "stream",
       "stream": "stdout",
       "text": [
        "\r",
        " [********************  41%                       ]  61 of 147 complete"
       ]
      },
      {
       "output_type": "stream",
       "stream": "stdout",
       "text": [
        "\r",
        " [********************  42%                       ]  62 of 147 complete"
       ]
      },
      {
       "output_type": "stream",
       "stream": "stdout",
       "text": [
        "\r",
        " [********************* 43%                       ]  63 of 147 complete"
       ]
      },
      {
       "output_type": "stream",
       "stream": "stdout",
       "text": [
        "\r",
        " [********************* 44%                       ]  64 of 147 complete"
       ]
      },
      {
       "output_type": "stream",
       "stream": "stdout",
       "text": [
        "\r",
        " [********************* 44%                       ]  65 of 147 complete"
       ]
      },
      {
       "output_type": "stream",
       "stream": "stdout",
       "text": [
        "\r",
        " [**********************45%                       ]  66 of 147 complete"
       ]
      },
      {
       "output_type": "stream",
       "stream": "stdout",
       "text": [
        "\r",
        " [**********************46%                       ]  67 of 147 complete"
       ]
      },
      {
       "output_type": "stream",
       "stream": "stdout",
       "text": [
        "\r",
        " [**********************46%                       ]  68 of 147 complete"
       ]
      },
      {
       "output_type": "stream",
       "stream": "stdout",
       "text": [
        "\r",
        " [**********************47%                       ]  69 of 147 complete"
       ]
      },
      {
       "output_type": "stream",
       "stream": "stdout",
       "text": [
        "\r",
        " [**********************48%                       ]  70 of 147 complete"
       ]
      },
      {
       "output_type": "stream",
       "stream": "stdout",
       "text": [
        "\r",
        " [**********************48%                       ]  71 of 147 complete"
       ]
      },
      {
       "output_type": "stream",
       "stream": "stdout",
       "text": [
        "\r",
        " [**********************49%                       ]  72 of 147 complete"
       ]
      },
      {
       "output_type": "stream",
       "stream": "stdout",
       "text": [
        "\r",
        " [**********************50%                       ]  73 of 147 complete"
       ]
      },
      {
       "output_type": "stream",
       "stream": "stdout",
       "text": [
        "\r",
        " [**********************50%                       ]  74 of 147 complete"
       ]
      },
      {
       "output_type": "stream",
       "stream": "stdout",
       "text": [
        "\r",
        " [**********************51%                       ]  75 of 147 complete"
       ]
      },
      {
       "output_type": "stream",
       "stream": "stdout",
       "text": [
        "\r",
        " [**********************52%                       ]  76 of 147 complete"
       ]
      },
      {
       "output_type": "stream",
       "stream": "stdout",
       "text": [
        "\r",
        " [**********************52%                       ]  77 of 147 complete"
       ]
      },
      {
       "output_type": "stream",
       "stream": "stdout",
       "text": [
        "\r",
        " [**********************53%                       ]  78 of 147 complete"
       ]
      },
      {
       "output_type": "stream",
       "stream": "stdout",
       "text": [
        "\r",
        " [**********************54%*                      ]  79 of 147 complete"
       ]
      },
      {
       "output_type": "stream",
       "stream": "stdout",
       "text": [
        "\r",
        " [**********************54%*                      ]  80 of 147 complete"
       ]
      },
      {
       "output_type": "stream",
       "stream": "stdout",
       "text": [
        "\r",
        " [**********************55%*                      ]  81 of 147 complete"
       ]
      },
      {
       "output_type": "stream",
       "stream": "stdout",
       "text": [
        "\r",
        " [**********************56%**                     ]  82 of 147 complete"
       ]
      },
      {
       "output_type": "stream",
       "stream": "stdout",
       "text": [
        "\r",
        " [**********************56%**                     ]  83 of 147 complete"
       ]
      },
      {
       "output_type": "stream",
       "stream": "stdout",
       "text": [
        "\r",
        " [**********************57%**                     ]  84 of 147 complete"
       ]
      },
      {
       "output_type": "stream",
       "stream": "stdout",
       "text": [
        "\r",
        " [**********************58%***                    ]  85 of 147 complete"
       ]
      },
      {
       "output_type": "stream",
       "stream": "stdout",
       "text": [
        "\r",
        " [**********************59%***                    ]  86 of 147 complete"
       ]
      },
      {
       "output_type": "stream",
       "stream": "stdout",
       "text": [
        "\r",
        " [**********************59%***                    ]  87 of 147 complete"
       ]
      },
      {
       "output_type": "stream",
       "stream": "stdout",
       "text": [
        "\r",
        " [**********************60%****                   ]  88 of 147 complete"
       ]
      },
      {
       "output_type": "stream",
       "stream": "stdout",
       "text": [
        "\r",
        " [**********************61%****                   ]  89 of 147 complete"
       ]
      },
      {
       "output_type": "stream",
       "stream": "stdout",
       "text": [
        "\r",
        " [**********************61%****                   ]  90 of 147 complete"
       ]
      },
      {
       "output_type": "stream",
       "stream": "stdout",
       "text": [
        "\r",
        " [**********************62%*****                  ]  91 of 147 complete"
       ]
      },
      {
       "output_type": "stream",
       "stream": "stdout",
       "text": [
        "\r",
        " [**********************63%*****                  ]  92 of 147 complete"
       ]
      },
      {
       "output_type": "stream",
       "stream": "stdout",
       "text": [
        "\r",
        " [**********************63%*****                  ]  93 of 147 complete"
       ]
      },
      {
       "output_type": "stream",
       "stream": "stdout",
       "text": [
        "\r",
        " [**********************64%******                 ]  94 of 147 complete"
       ]
      },
      {
       "output_type": "stream",
       "stream": "stdout",
       "text": [
        "\r",
        " [**********************65%******                 ]  95 of 147 complete"
       ]
      },
      {
       "output_type": "stream",
       "stream": "stdout",
       "text": [
        "\r",
        " [**********************65%******                 ]  96 of 147 complete"
       ]
      },
      {
       "output_type": "stream",
       "stream": "stdout",
       "text": [
        "\r",
        " [**********************66%*******                ]  97 of 147 complete"
       ]
      },
      {
       "output_type": "stream",
       "stream": "stdout",
       "text": [
        "\r",
        " [**********************67%*******                ]  98 of 147 complete"
       ]
      },
      {
       "output_type": "stream",
       "stream": "stdout",
       "text": [
        "\r",
        " [**********************67%*******                ]  99 of 147 complete"
       ]
      },
      {
       "output_type": "stream",
       "stream": "stdout",
       "text": [
        "\r",
        " [**********************68%********               ]  100 of 147 complete"
       ]
      },
      {
       "output_type": "stream",
       "stream": "stdout",
       "text": [
        "\r",
        " [**********************69%********               ]  101 of 147 complete"
       ]
      },
      {
       "output_type": "stream",
       "stream": "stdout",
       "text": [
        "\r",
        " [**********************69%********               ]  102 of 147 complete"
       ]
      },
      {
       "output_type": "stream",
       "stream": "stdout",
       "text": [
        "\r",
        " [**********************70%*********              ]  103 of 147 complete"
       ]
      },
      {
       "output_type": "stream",
       "stream": "stdout",
       "text": [
        "\r",
        " [**********************71%*********              ]  104 of 147 complete"
       ]
      },
      {
       "output_type": "stream",
       "stream": "stdout",
       "text": [
        "\r",
        " [**********************71%*********              ]  105 of 147 complete"
       ]
      },
      {
       "output_type": "stream",
       "stream": "stdout",
       "text": [
        "\r",
        " [**********************72%**********             ]  106 of 147 complete"
       ]
      },
      {
       "output_type": "stream",
       "stream": "stdout",
       "text": [
        "\r",
        " [**********************73%**********             ]  107 of 147 complete"
       ]
      },
      {
       "output_type": "stream",
       "stream": "stdout",
       "text": [
        "\r",
        " [**********************73%**********             ]  108 of 147 complete"
       ]
      },
      {
       "output_type": "stream",
       "stream": "stdout",
       "text": [
        "\r",
        " [**********************74%***********            ]  109 of 147 complete"
       ]
      },
      {
       "output_type": "stream",
       "stream": "stdout",
       "text": [
        "\r",
        " [**********************75%***********            ]  110 of 147 complete"
       ]
      },
      {
       "output_type": "stream",
       "stream": "stdout",
       "text": [
        "\r",
        " [**********************76%***********            ]  111 of 147 complete"
       ]
      },
      {
       "output_type": "stream",
       "stream": "stdout",
       "text": [
        "\r",
        " [**********************76%***********            ]  112 of 147 complete"
       ]
      },
      {
       "output_type": "stream",
       "stream": "stdout",
       "text": [
        "\r",
        " [**********************77%************           ]  113 of 147 complete"
       ]
      },
      {
       "output_type": "stream",
       "stream": "stdout",
       "text": [
        "\r",
        " [**********************78%************           ]  114 of 147 complete"
       ]
      },
      {
       "output_type": "stream",
       "stream": "stdout",
       "text": [
        "\r",
        " [**********************78%************           ]  115 of 147 complete"
       ]
      },
      {
       "output_type": "stream",
       "stream": "stdout",
       "text": [
        "\r",
        " [**********************79%*************          ]  116 of 147 complete"
       ]
      },
      {
       "output_type": "stream",
       "stream": "stdout",
       "text": [
        "\r",
        " [**********************80%*************          ]  117 of 147 complete"
       ]
      },
      {
       "output_type": "stream",
       "stream": "stdout",
       "text": [
        "\r",
        " [**********************80%*************          ]  118 of 147 complete"
       ]
      },
      {
       "output_type": "stream",
       "stream": "stdout",
       "text": [
        "\r",
        " [**********************81%**************         ]  119 of 147 complete"
       ]
      },
      {
       "output_type": "stream",
       "stream": "stdout",
       "text": [
        "\r",
        " [**********************82%**************         ]  120 of 147 complete"
       ]
      },
      {
       "output_type": "stream",
       "stream": "stdout",
       "text": [
        "\r",
        " [**********************82%**************         ]  121 of 147 complete"
       ]
      },
      {
       "output_type": "stream",
       "stream": "stdout",
       "text": [
        "\r",
        " [**********************83%***************        ]  122 of 147 complete"
       ]
      },
      {
       "output_type": "stream",
       "stream": "stdout",
       "text": [
        "\r",
        " [**********************84%***************        ]  123 of 147 complete"
       ]
      },
      {
       "output_type": "stream",
       "stream": "stdout",
       "text": [
        "\r",
        " [**********************84%***************        ]  124 of 147 complete"
       ]
      },
      {
       "output_type": "stream",
       "stream": "stdout",
       "text": [
        "\r",
        " [**********************85%****************       ]  125 of 147 complete"
       ]
      },
      {
       "output_type": "stream",
       "stream": "stdout",
       "text": [
        "\r",
        " [**********************86%****************       ]  126 of 147 complete"
       ]
      },
      {
       "output_type": "stream",
       "stream": "stdout",
       "text": [
        "\r",
        " [**********************86%****************       ]  127 of 147 complete"
       ]
      },
      {
       "output_type": "stream",
       "stream": "stdout",
       "text": [
        "\r",
        " [**********************87%*****************      ]  128 of 147 complete"
       ]
      },
      {
       "output_type": "stream",
       "stream": "stdout",
       "text": [
        "\r",
        " [**********************88%*****************      ]  129 of 147 complete"
       ]
      },
      {
       "output_type": "stream",
       "stream": "stdout",
       "text": [
        "\r",
        " [**********************88%*****************      ]  130 of 147 complete"
       ]
      },
      {
       "output_type": "stream",
       "stream": "stdout",
       "text": [
        "\r",
        " [**********************89%******************     ]  131 of 147 complete"
       ]
      },
      {
       "output_type": "stream",
       "stream": "stdout",
       "text": [
        "\r",
        " [**********************90%******************     ]  132 of 147 complete"
       ]
      },
      {
       "output_type": "stream",
       "stream": "stdout",
       "text": [
        "\r",
        " [**********************90%******************     ]  133 of 147 complete"
       ]
      },
      {
       "output_type": "stream",
       "stream": "stdout",
       "text": [
        "\r",
        " [**********************91%*******************    ]  134 of 147 complete"
       ]
      },
      {
       "output_type": "stream",
       "stream": "stdout",
       "text": [
        "\r",
        " [**********************92%*******************    ]  135 of 147 complete"
       ]
      },
      {
       "output_type": "stream",
       "stream": "stdout",
       "text": [
        "\r",
        " [**********************93%********************   ]  136 of 147 complete"
       ]
      },
      {
       "output_type": "stream",
       "stream": "stdout",
       "text": [
        "\r",
        " [**********************93%********************   ]  137 of 147 complete"
       ]
      },
      {
       "output_type": "stream",
       "stream": "stdout",
       "text": [
        "\r",
        " [**********************94%********************   ]  138 of 147 complete"
       ]
      },
      {
       "output_type": "stream",
       "stream": "stdout",
       "text": [
        "\r",
        " [**********************95%*********************  ]  139 of 147 complete"
       ]
      },
      {
       "output_type": "stream",
       "stream": "stdout",
       "text": [
        "\r",
        " [**********************95%*********************  ]  140 of 147 complete"
       ]
      },
      {
       "output_type": "stream",
       "stream": "stdout",
       "text": [
        "\r",
        " [**********************96%*********************  ]  141 of 147 complete"
       ]
      },
      {
       "output_type": "stream",
       "stream": "stdout",
       "text": [
        "\r",
        " [**********************97%********************** ]  142 of 147 complete"
       ]
      },
      {
       "output_type": "stream",
       "stream": "stdout",
       "text": [
        "\r",
        " [**********************97%********************** ]  143 of 147 complete"
       ]
      },
      {
       "output_type": "stream",
       "stream": "stdout",
       "text": [
        "\r",
        " [**********************98%********************** ]  144 of 147 complete"
       ]
      },
      {
       "output_type": "stream",
       "stream": "stdout",
       "text": [
        "\r",
        " [**********************99%***********************]  145 of 147 complete"
       ]
      },
      {
       "output_type": "stream",
       "stream": "stdout",
       "text": [
        "\r",
        " [**********************99%***********************]  146 of 147 complete"
       ]
      },
      {
       "output_type": "stream",
       "stream": "stdout",
       "text": [
        "\r",
        " [*********************100%***********************]  147 of 147 complete"
       ]
      }
     ],
     "prompt_number": 156
    },
    {
     "cell_type": "code",
     "collapsed": false,
     "input": [
      "Tb_all = calib.get_data_columns(c.Tb)"
     ],
     "language": "python",
     "metadata": {},
     "outputs": [],
     "prompt_number": 150
    },
    {
     "cell_type": "code",
     "collapsed": false,
     "input": [
      "Tb = Tb_all.filter(regex=ch2study + '_')"
     ],
     "language": "python",
     "metadata": {},
     "outputs": [],
     "prompt_number": 151
    },
    {
     "cell_type": "code",
     "collapsed": false,
     "input": [
      "Tb.b3_11.plot()"
     ],
     "language": "python",
     "metadata": {},
     "outputs": [
      {
       "metadata": {},
       "output_type": "pyout",
       "prompt_number": 153,
       "text": [
        "<matplotlib.axes.AxesSubplot at 0x118add9d0>"
       ]
      }
     ],
     "prompt_number": 153
    },
    {
     "cell_type": "code",
     "collapsed": false,
     "input": [
      "c.interpolate_bb_temps()"
     ],
     "language": "python",
     "metadata": {},
     "outputs": [],
     "prompt_number": 138
    },
    {
     "cell_type": "code",
     "collapsed": false,
     "input": [
      "c.calc_calib_mean_times()"
     ],
     "language": "python",
     "metadata": {},
     "outputs": [],
     "prompt_number": 139
    },
    {
     "cell_type": "code",
     "collapsed": false,
     "input": [
      "pu.plot_calib_block(c.df, 'calib',5)"
     ],
     "language": "python",
     "metadata": {},
     "outputs": [],
     "prompt_number": 94
    },
    {
     "cell_type": "code",
     "collapsed": false,
     "input": [
      "c.calib_times"
     ],
     "language": "python",
     "metadata": {},
     "outputs": [
      {
       "metadata": {},
       "output_type": "pyout",
       "prompt_number": 95,
       "text": [
        "calib_block_labels\n",
        "1                    2011-04-13 00:05:05.407000\n",
        "2                    2011-04-13 00:20:29.065499\n",
        "3                    2011-04-13 00:30:45.519999\n",
        "4                    2011-04-13 00:39:38.005999\n",
        "6                    2011-04-13 00:51:18.429999\n",
        "7                    2011-04-13 01:01:34.873999\n",
        "8                    2011-04-13 01:11:51.351000\n",
        "9                    2011-04-13 01:32:42.699999\n",
        "10                   2011-04-13 01:42:57.111000\n",
        "11                   2011-04-13 01:52:57.184999\n",
        "12                   2011-04-13 02:03:13.652999\n",
        "13                   2011-04-13 02:08:24.951000\n",
        "14                   2011-04-13 02:18:39.355000\n",
        "15                   2011-04-13 02:28:57.855000\n",
        "16                   2011-04-13 02:39:38.882999\n",
        "17                   2011-04-13 02:49:30.758999\n",
        "18                   2011-04-13 02:59:45.163000\n",
        "dtype: datetime64[ns]"
       ]
      }
     ],
     "prompt_number": 95
    },
    {
     "cell_type": "code",
     "collapsed": false,
     "input": [
      "caldata = c.df[c.df.is_calib]"
     ],
     "language": "python",
     "metadata": {},
     "outputs": [],
     "prompt_number": 100
    },
    {
     "cell_type": "code",
     "collapsed": false,
     "input": [
      "cb = calib.CalBlock(c.df[c.df.calib_block_labels==5])"
     ],
     "language": "python",
     "metadata": {},
     "outputs": [],
     "prompt_number": 134
    },
    {
     "cell_type": "code",
     "collapsed": false,
     "input": [
      "cb.sv_labels"
     ],
     "language": "python",
     "metadata": {},
     "outputs": [
      {
       "metadata": {},
       "output_type": "pyout",
       "prompt_number": 135,
       "text": [
        "array([ 9, 10])"
       ]
      }
     ],
     "prompt_number": 135
    },
    {
     "cell_type": "code",
     "collapsed": false,
     "input": [
      "cb.get_offsets()"
     ],
     "language": "python",
     "metadata": {},
     "outputs": [
      {
       "ename": "AttributeError",
       "evalue": "'DataFrame' object has no attribute 'is_spaceview'",
       "output_type": "pyerr",
       "traceback": [
        "---------------------------------------------------------------------------\nAttributeError                            Traceback (most recent call last)",
        "<ipython-input-136-082dc0a7cd7a> in <module>()\n----> 1 cb.get_offsets()\n",
        "/Users/maye/Dropbox/src/diviner/calib.py in get_offsets(self, offset_kind)\n    234         for label in self.sv_labels:\n    235             spacelook = get_data_columns(self.df[self.df.sv_block_labels == label])\n--> 236             offsets[label] = spacelook[spacelook.is_spaceview][self.skip_samples:].mean()\n    237         self.offsets = offsets\n    238         \n",
        "/Library/Frameworks/EPD64.framework/Versions/7.3/lib/python2.7/site-packages/pandas-0.12.0.dev_f354548-py2.7-macosx-10.5-x86_64.egg/pandas/core/frame.pyc in __getattr__(self, name)\n   2061             return self[name]\n   2062         raise AttributeError(\"'%s' object has no attribute '%s'\" %\n-> 2063                              (type(self).__name__, name))\n   2064 \n   2065     def __setattr__(self, name, value):\n",
        "AttributeError: 'DataFrame' object has no attribute 'is_spaceview'"
       ]
      }
     ],
     "prompt_number": 136
    },
    {
     "cell_type": "code",
     "collapsed": false,
     "input": [
      "cb.offsets"
     ],
     "language": "python",
     "metadata": {},
     "outputs": [
      {
       "metadata": {},
       "output_type": "pyout",
       "prompt_number": 132,
       "text": [
        "{9: sclk               3.243481e+08\n",
        "sounding           8.500000e+00\n",
        "from_pkt           1.007112e+04\n",
        "pkt_count          2.722200e+04\n",
        "safing             0.000000e+00\n",
        "safed              0.000000e+00\n",
        "freezing           0.000000e+00\n",
        "frozen             0.000000e+00\n",
        "rolling            0.000000e+00\n",
        "dumping            0.000000e+00\n",
        "moving             0.000000e+00\n",
        "temp_fault         0.000000e+00\n",
        "sc_time_secs       3.243481e+08\n",
        "sc_time_subs       2.162400e+04\n",
        "ticks_pkt_start    2.271370e+07\n",
        "...\n",
        "b3_20                 27757.937500\n",
        "b3_21                 27751.125000\n",
        "sdtype                    1.000000\n",
        "calib_block_labels        5.000000\n",
        "sv_block_labels           9.000000\n",
        "bb_block_labels           0.000000\n",
        "st_block_labels           0.000000\n",
        "is_spaceview              1.000000\n",
        "is_bbview                 0.000000\n",
        "is_stview                 0.000000\n",
        "is_moving                 0.000000\n",
        "is_stowed                 0.000000\n",
        "is_calib                  1.000000\n",
        "bb_1_temp_interp        302.713038\n",
        "bb_2_temp_interp        302.576126\n",
        "Length: 254, dtype: float64,\n",
        " 10: sclk               3.243482e+08\n",
        "sounding           8.500000e+00\n",
        "from_pkt           1.031112e+04\n",
        "pkt_count          2.724600e+04\n",
        "safing             0.000000e+00\n",
        "safed              0.000000e+00\n",
        "freezing           0.000000e+00\n",
        "frozen             0.000000e+00\n",
        "rolling            0.000000e+00\n",
        "dumping            0.000000e+00\n",
        "moving             0.000000e+00\n",
        "temp_fault         0.000000e+00\n",
        "sc_time_secs       3.243482e+08\n",
        "sc_time_subs       2.162400e+04\n",
        "ticks_pkt_start    2.271523e+07\n",
        "...\n",
        "b3_20                 27760.700000\n",
        "b3_21                 27752.312500\n",
        "sdtype                    1.000000\n",
        "calib_block_labels        5.000000\n",
        "sv_block_labels          10.000000\n",
        "bb_block_labels           0.000000\n",
        "st_block_labels           0.000000\n",
        "is_spaceview              1.000000\n",
        "is_bbview                 0.000000\n",
        "is_stview                 0.000000\n",
        "is_moving                 0.000000\n",
        "is_stowed                 0.000000\n",
        "is_calib                  1.000000\n",
        "bb_1_temp_interp        302.610492\n",
        "bb_2_temp_interp        302.476730\n",
        "Length: 254, dtype: float64}"
       ]
      }
     ],
     "prompt_number": 132
    },
    {
     "cell_type": "code",
     "collapsed": false,
     "input": [
      "sv9 = calib.get_data_columns(cb.df[cb.df.sv_block_labels == 9])\n",
      "sv9"
     ],
     "language": "python",
     "metadata": {},
     "outputs": [
      {
       "html": [
        "<pre>\n",
        "&lt;class 'pandas.core.frame.DataFrame'&gt;\n",
        "DatetimeIndex: 128 entries, 2011-04-13 00:42:03.480000 to 2011-04-13 00:42:19.736000\n",
        "Columns: 189 entries, a1_01 to b3_21\n",
        "dtypes: float64(189)\n",
        "</pre>"
       ],
       "metadata": {},
       "output_type": "pyout",
       "prompt_number": 114,
       "text": [
        "<class 'pandas.core.frame.DataFrame'>\n",
        "DatetimeIndex: 128 entries, 2011-04-13 00:42:03.480000 to 2011-04-13 00:42:19.736000\n",
        "Columns: 189 entries, a1_01 to b3_21\n",
        "dtypes: float64(189)"
       ]
      }
     ],
     "prompt_number": 114
    },
    {
     "cell_type": "code",
     "collapsed": false,
     "input": [
      "cb.df[cb.df.is_spaceview]"
     ],
     "language": "python",
     "metadata": {},
     "outputs": [
      {
       "html": [
        "<pre>\n",
        "&lt;class 'pandas.core.frame.DataFrame'&gt;\n",
        "DatetimeIndex: 160 entries, 2011-04-13 00:42:09.624000 to 2011-04-13 00:43:08.887999\n",
        "Columns: 254 entries, sclk to bb_2_temp_interp\n",
        "dtypes: bool(6), float64(243), int32(4), int64(1)\n",
        "</pre>"
       ],
       "metadata": {},
       "output_type": "pyout",
       "prompt_number": 123,
       "text": [
        "<class 'pandas.core.frame.DataFrame'>\n",
        "DatetimeIndex: 160 entries, 2011-04-13 00:42:09.624000 to 2011-04-13 00:43:08.887999\n",
        "Columns: 254 entries, sclk to bb_2_temp_interp\n",
        "dtypes: bool(6), float64(243), int32(4), int64(1)"
       ]
      }
     ],
     "prompt_number": 123
    },
    {
     "cell_type": "code",
     "collapsed": false,
     "input": [
      "cb.df['sv_block_labels'].unique()"
     ],
     "language": "python",
     "metadata": {},
     "outputs": [
      {
       "metadata": {},
       "output_type": "pyout",
       "prompt_number": 121,
       "text": [
        "array([ 9,  0, 10])"
       ]
      }
     ],
     "prompt_number": 121
    },
    {
     "cell_type": "code",
     "collapsed": false,
     "input": [
      "calib.get_data_columns(cb.offsets)"
     ],
     "language": "python",
     "metadata": {},
     "outputs": [
      {
       "ename": "AttributeError",
       "evalue": "'dict' object has no attribute 'filter'",
       "output_type": "pyerr",
       "traceback": [
        "---------------------------------------------------------------------------\nAttributeError                            Traceback (most recent call last)",
        "<ipython-input-106-046abb113720> in <module>()\n----> 1 calib.get_data_columns(cb.offsets)\n",
        "/Users/maye/Dropbox/src/diviner/calib.py in get_data_columns(df, strict)\n    176     else:\n    177         pattern = '[ab][0-9]_[0-2][0-9]'\n--> 178     return df.filter(regex=pattern)\n    179 \n    180 def get_thermal_detectors(df):\n",
        "AttributeError: 'dict' object has no attribute 'filter'"
       ]
      }
     ],
     "prompt_number": 106
    },
    {
     "cell_type": "code",
     "collapsed": false,
     "input": [
      "spaceviews = c.df[c.df.is_spaceview]"
     ],
     "language": "python",
     "metadata": {},
     "outputs": [],
     "prompt_number": 96
    },
    {
     "cell_type": "code",
     "collapsed": false,
     "input": [
      "spaceviews = spaceviews[-spaceviews.is_stview]"
     ],
     "language": "python",
     "metadata": {},
     "outputs": [],
     "prompt_number": 97
    },
    {
     "cell_type": "code",
     "collapsed": false,
     "input": [
      "spaceviews = calib.get_data_columns(spaceviews, strict=True)"
     ],
     "language": "python",
     "metadata": {},
     "outputs": [],
     "prompt_number": 98
    },
    {
     "cell_type": "code",
     "collapsed": false,
     "input": [
      "spaceviews"
     ],
     "language": "python",
     "metadata": {},
     "outputs": [
      {
       "html": [
        "<pre>\n",
        "&lt;class 'pandas.core.frame.DataFrame'&gt;\n",
        "DatetimeIndex: 2864 entries, 2011-04-13 00:04:44.990999 to 2011-04-13 03:00:01.483000\n",
        "Columns: 189 entries, a1_01 to b3_21\n",
        "dtypes: float64(189)\n",
        "</pre>"
       ],
       "metadata": {},
       "output_type": "pyout",
       "prompt_number": 99,
       "text": [
        "<class 'pandas.core.frame.DataFrame'>\n",
        "DatetimeIndex: 2864 entries, 2011-04-13 00:04:44.990999 to 2011-04-13 03:00:01.483000\n",
        "Columns: 189 entries, a1_01 to b3_21\n",
        "dtypes: float64(189)"
       ]
      }
     ],
     "prompt_number": 99
    },
    {
     "cell_type": "code",
     "collapsed": false,
     "input": [
      "grouped = spaceviews.groupby(c.df.calib_block_labels)"
     ],
     "language": "python",
     "metadata": {},
     "outputs": [],
     "prompt_number": 73
    },
    {
     "cell_type": "code",
     "collapsed": false,
     "input": [
      "offsets = grouped.agg(c.skipped_mean, calib.c.SV_NUM_SKIP_SAMPLE)"
     ],
     "language": "python",
     "metadata": {},
     "outputs": [],
     "prompt_number": 74
    },
    {
     "cell_type": "code",
     "collapsed": false,
     "input": [
      "offsets"
     ],
     "language": "python",
     "metadata": {},
     "outputs": [
      {
       "html": [
        "<pre>\n",
        "&lt;class 'pandas.core.frame.DataFrame'&gt;\n",
        "Int64Index: 18 entries, 1 to 18\n",
        "Columns: 189 entries, a1_01 to b3_21\n",
        "dtypes: float64(189)\n",
        "</pre>"
       ],
       "metadata": {},
       "output_type": "pyout",
       "prompt_number": 78,
       "text": [
        "<class 'pandas.core.frame.DataFrame'>\n",
        "Int64Index: 18 entries, 1 to 18\n",
        "Columns: 189 entries, a1_01 to b3_21\n",
        "dtypes: float64(189)"
       ]
      }
     ],
     "prompt_number": 78
    },
    {
     "cell_type": "code",
     "collapsed": false,
     "input": [
      "offsets.index = c.calib_times"
     ],
     "language": "python",
     "metadata": {},
     "outputs": [
      {
       "ename": "Exception",
       "evalue": "Length mismatch (17 vs 18)",
       "output_type": "pyerr",
       "traceback": [
        "---------------------------------------------------------------------------\nException                                 Traceback (most recent call last)",
        "<ipython-input-76-38b454708d5a> in <module>()\n----> 1 offsets.index = c.calib_times\n",
        "/Library/Frameworks/EPD64.framework/Versions/7.3/lib/python2.7/site-packages/pandas-0.12.0.dev_f354548-py2.7-macosx-10.5-x86_64.egg/pandas/core/frame.pyc in __setattr__(self, name, value)\n   2072                 existing = getattr(self, name)\n   2073                 if isinstance(existing, Index):\n-> 2074                     super(DataFrame, self).__setattr__(name, value)\n   2075                 elif name in self.columns:\n   2076                     self[name] = value\n",
        "/Library/Frameworks/EPD64.framework/Versions/7.3/lib/python2.7/site-packages/pandas-0.12.0.dev_f354548-py2.7-macosx-10.5-x86_64.egg/pandas/lib.so in pandas.lib.AxisProperty.__set__ (pandas/lib.c:29220)()\n",
        "/Library/Frameworks/EPD64.framework/Versions/7.3/lib/python2.7/site-packages/pandas-0.12.0.dev_f354548-py2.7-macosx-10.5-x86_64.egg/pandas/core/generic.pyc in _set_axis(self, axis, labels)\n    561 \n    562     def _set_axis(self, axis, labels):\n--> 563         self._data.set_axis(axis, labels)\n    564         self._clear_item_cache()\n    565 \n",
        "/Library/Frameworks/EPD64.framework/Versions/7.3/lib/python2.7/site-packages/pandas-0.12.0.dev_f354548-py2.7-macosx-10.5-x86_64.egg/pandas/core/internals.pyc in set_axis(self, axis, value)\n    934         if len(value) != len(cur_axis):\n    935             raise Exception('Length mismatch (%d vs %d)'\n--> 936                             % (len(value), len(cur_axis)))\n    937 \n    938         self.axes[axis] = value\n",
        "Exception: Length mismatch (17 vs 18)"
       ]
      }
     ],
     "prompt_number": 76
    },
    {
     "cell_type": "code",
     "collapsed": false,
     "input": [
      "c.calibrate()"
     ],
     "language": "python",
     "metadata": {},
     "outputs": [
      {
       "ename": "Exception",
       "evalue": "Length mismatch (17 vs 18)",
       "output_type": "pyerr",
       "traceback": [
        "---------------------------------------------------------------------------\nException                                 Traceback (most recent call last)",
        "<ipython-input-65-0db478993041> in <module>()\n----> 1 c.calibrate()\n",
        "/Users/maye/Dropbox/src/diviner/calib.pyc in calibrate(self)\n    368         #####\n    369         # determine the offsets per calib_block\n--> 370         self.calc_offsets()\n    371         \n    372         #####\n",
        "/Users/maye/Dropbox/src/diviner/calib.pyc in calc_offsets(self)\n    493         \n    494         # # set the times as index for this dataframe of offsets\n--> 495         offsets.index = self.calib_times\n    496         \n    497         self.offsets = offsets\n",
        "/Library/Frameworks/EPD64.framework/Versions/7.3/lib/python2.7/site-packages/pandas-0.12.0.dev_f354548-py2.7-macosx-10.5-x86_64.egg/pandas/core/frame.pyc in __setattr__(self, name, value)\n   2072                 existing = getattr(self, name)\n   2073                 if isinstance(existing, Index):\n-> 2074                     super(DataFrame, self).__setattr__(name, value)\n   2075                 elif name in self.columns:\n   2076                     self[name] = value\n",
        "/Library/Frameworks/EPD64.framework/Versions/7.3/lib/python2.7/site-packages/pandas-0.12.0.dev_f354548-py2.7-macosx-10.5-x86_64.egg/pandas/lib.so in pandas.lib.AxisProperty.__set__ (pandas/lib.c:29220)()\n",
        "/Library/Frameworks/EPD64.framework/Versions/7.3/lib/python2.7/site-packages/pandas-0.12.0.dev_f354548-py2.7-macosx-10.5-x86_64.egg/pandas/core/generic.pyc in _set_axis(self, axis, labels)\n    561 \n    562     def _set_axis(self, axis, labels):\n--> 563         self._data.set_axis(axis, labels)\n    564         self._clear_item_cache()\n    565 \n",
        "/Library/Frameworks/EPD64.framework/Versions/7.3/lib/python2.7/site-packages/pandas-0.12.0.dev_f354548-py2.7-macosx-10.5-x86_64.egg/pandas/core/internals.pyc in set_axis(self, axis, value)\n    934         if len(value) != len(cur_axis):\n    935             raise Exception('Length mismatch (%d vs %d)'\n--> 936                             % (len(value), len(cur_axis)))\n    937 \n    938         self.axes[axis] = value\n",
        "Exception: Length mismatch (17 vs 18)"
       ]
      }
     ],
     "prompt_number": 65
    },
    {
     "cell_type": "code",
     "collapsed": false,
     "input": [
      "figure()\n",
      "c.Tb[ch2study+'_11'].plot()\n",
      "c.Tb[ch2study+'_21'].plot()\n",
      "c.Tb[ch2study+'_01'].plot()\n",
      "legend()\n",
      "ylabel('Tb [K]')\n",
      "xlabel('Time [UTC]')\n",
      "titlestr = ch2study + ' Tb Det 01 11 21'\n",
      "title(titlestr)\n",
      "savefig(savepath +'_'.join(titlestr.split())+'.png')"
     ],
     "language": "python",
     "metadata": {},
     "outputs": [],
     "prompt_number": 115
    },
    {
     "cell_type": "code",
     "collapsed": false,
     "input": [
      "data_channels = calib.get_data_columns(c.Tb)"
     ],
     "language": "python",
     "metadata": {},
     "outputs": [],
     "prompt_number": 17
    },
    {
     "cell_type": "code",
     "collapsed": false,
     "input": [
      "df.b3_11.plot()"
     ],
     "language": "python",
     "metadata": {},
     "outputs": [
      {
       "output_type": "pyout",
       "prompt_number": 19,
       "text": [
        "<matplotlib.axes.AxesSubplot at 0x122bd38d0>"
       ]
      }
     ],
     "prompt_number": 19
    },
    {
     "cell_type": "code",
     "collapsed": false,
     "input": [
      "data_channels.index"
     ],
     "language": "python",
     "metadata": {},
     "outputs": [
      {
       "output_type": "pyout",
       "prompt_number": 20,
       "text": [
        "<class 'pandas.tseries.index.DatetimeIndex'>\n",
        "[2011-04-02 04:42:56.601999, ..., 2011-04-02 05:00:00.496000]\n",
        "Length: 7200, Freq: None, Timezone: None"
       ]
      }
     ],
     "prompt_number": 20
    },
    {
     "cell_type": "code",
     "collapsed": false,
     "input": [
      "chdata = data_channels.filter(regex=ch2study+'_')"
     ],
     "language": "python",
     "metadata": {},
     "outputs": [],
     "prompt_number": 21
    },
    {
     "cell_type": "code",
     "collapsed": false,
     "input": [
      "chdata = chdata.rename(columns=lambda x:int(x[3:]))"
     ],
     "language": "python",
     "metadata": {},
     "outputs": [],
     "prompt_number": 22
    },
    {
     "cell_type": "code",
     "collapsed": false,
     "input": [
      "import pandas as pd"
     ],
     "language": "python",
     "metadata": {},
     "outputs": [],
     "prompt_number": 26
    },
    {
     "cell_type": "code",
     "collapsed": false,
     "input": [
      "pd.scatter_matrix(chdata,diagonal='kde')"
     ],
     "language": "python",
     "metadata": {},
     "outputs": [
      {
       "output_type": "pyout",
       "prompt_number": 27,
       "text": [
        "array([[Axes(0.125,0.861905;0.0369048x0.0380952),\n",
        "        Axes(0.161905,0.861905;0.0369048x0.0380952),\n",
        "        Axes(0.19881,0.861905;0.0369048x0.0380952),\n",
        "        Axes(0.235714,0.861905;0.0369048x0.0380952),\n",
        "        Axes(0.272619,0.861905;0.0369048x0.0380952),\n",
        "        Axes(0.309524,0.861905;0.0369048x0.0380952),\n",
        "        Axes(0.346429,0.861905;0.0369048x0.0380952),\n",
        "        Axes(0.383333,0.861905;0.0369048x0.0380952),\n",
        "        Axes(0.420238,0.861905;0.0369048x0.0380952),\n",
        "        Axes(0.457143,0.861905;0.0369048x0.0380952),\n",
        "        Axes(0.494048,0.861905;0.0369048x0.0380952),\n",
        "        Axes(0.530952,0.861905;0.0369048x0.0380952),\n",
        "        Axes(0.567857,0.861905;0.0369048x0.0380952),\n",
        "        Axes(0.604762,0.861905;0.0369048x0.0380952),\n",
        "        Axes(0.641667,0.861905;0.0369048x0.0380952),\n",
        "        Axes(0.678571,0.861905;0.0369048x0.0380952),\n",
        "        Axes(0.715476,0.861905;0.0369048x0.0380952),\n",
        "        Axes(0.752381,0.861905;0.0369048x0.0380952),\n",
        "        Axes(0.789286,0.861905;0.0369048x0.0380952),\n",
        "        Axes(0.82619,0.861905;0.0369048x0.0380952),\n",
        "        Axes(0.863095,0.861905;0.0369048x0.0380952)],\n",
        "       [Axes(0.125,0.82381;0.0369048x0.0380952),\n",
        "        Axes(0.161905,0.82381;0.0369048x0.0380952),\n",
        "        Axes(0.19881,0.82381;0.0369048x0.0380952),\n",
        "        Axes(0.235714,0.82381;0.0369048x0.0380952),\n",
        "        Axes(0.272619,0.82381;0.0369048x0.0380952),\n",
        "        Axes(0.309524,0.82381;0.0369048x0.0380952),\n",
        "        Axes(0.346429,0.82381;0.0369048x0.0380952),\n",
        "        Axes(0.383333,0.82381;0.0369048x0.0380952),\n",
        "        Axes(0.420238,0.82381;0.0369048x0.0380952),\n",
        "        Axes(0.457143,0.82381;0.0369048x0.0380952),\n",
        "        Axes(0.494048,0.82381;0.0369048x0.0380952),\n",
        "        Axes(0.530952,0.82381;0.0369048x0.0380952),\n",
        "        Axes(0.567857,0.82381;0.0369048x0.0380952),\n",
        "        Axes(0.604762,0.82381;0.0369048x0.0380952),\n",
        "        Axes(0.641667,0.82381;0.0369048x0.0380952),\n",
        "        Axes(0.678571,0.82381;0.0369048x0.0380952),\n",
        "        Axes(0.715476,0.82381;0.0369048x0.0380952),\n",
        "        Axes(0.752381,0.82381;0.0369048x0.0380952),\n",
        "        Axes(0.789286,0.82381;0.0369048x0.0380952),\n",
        "        Axes(0.82619,0.82381;0.0369048x0.0380952),\n",
        "        Axes(0.863095,0.82381;0.0369048x0.0380952)],\n",
        "       [Axes(0.125,0.785714;0.0369048x0.0380952),\n",
        "        Axes(0.161905,0.785714;0.0369048x0.0380952),\n",
        "        Axes(0.19881,0.785714;0.0369048x0.0380952),\n",
        "        Axes(0.235714,0.785714;0.0369048x0.0380952),\n",
        "        Axes(0.272619,0.785714;0.0369048x0.0380952),\n",
        "        Axes(0.309524,0.785714;0.0369048x0.0380952),\n",
        "        Axes(0.346429,0.785714;0.0369048x0.0380952),\n",
        "        Axes(0.383333,0.785714;0.0369048x0.0380952),\n",
        "        Axes(0.420238,0.785714;0.0369048x0.0380952),\n",
        "        Axes(0.457143,0.785714;0.0369048x0.0380952),\n",
        "        Axes(0.494048,0.785714;0.0369048x0.0380952),\n",
        "        Axes(0.530952,0.785714;0.0369048x0.0380952),\n",
        "        Axes(0.567857,0.785714;0.0369048x0.0380952),\n",
        "        Axes(0.604762,0.785714;0.0369048x0.0380952),\n",
        "        Axes(0.641667,0.785714;0.0369048x0.0380952),\n",
        "        Axes(0.678571,0.785714;0.0369048x0.0380952),\n",
        "        Axes(0.715476,0.785714;0.0369048x0.0380952),\n",
        "        Axes(0.752381,0.785714;0.0369048x0.0380952),\n",
        "        Axes(0.789286,0.785714;0.0369048x0.0380952),\n",
        "        Axes(0.82619,0.785714;0.0369048x0.0380952),\n",
        "        Axes(0.863095,0.785714;0.0369048x0.0380952)],\n",
        "       [Axes(0.125,0.747619;0.0369048x0.0380952),\n",
        "        Axes(0.161905,0.747619;0.0369048x0.0380952),\n",
        "        Axes(0.19881,0.747619;0.0369048x0.0380952),\n",
        "        Axes(0.235714,0.747619;0.0369048x0.0380952),\n",
        "        Axes(0.272619,0.747619;0.0369048x0.0380952),\n",
        "        Axes(0.309524,0.747619;0.0369048x0.0380952),\n",
        "        Axes(0.346429,0.747619;0.0369048x0.0380952),\n",
        "        Axes(0.383333,0.747619;0.0369048x0.0380952),\n",
        "        Axes(0.420238,0.747619;0.0369048x0.0380952),\n",
        "        Axes(0.457143,0.747619;0.0369048x0.0380952),\n",
        "        Axes(0.494048,0.747619;0.0369048x0.0380952),\n",
        "        Axes(0.530952,0.747619;0.0369048x0.0380952),\n",
        "        Axes(0.567857,0.747619;0.0369048x0.0380952),\n",
        "        Axes(0.604762,0.747619;0.0369048x0.0380952),\n",
        "        Axes(0.641667,0.747619;0.0369048x0.0380952),\n",
        "        Axes(0.678571,0.747619;0.0369048x0.0380952),\n",
        "        Axes(0.715476,0.747619;0.0369048x0.0380952),\n",
        "        Axes(0.752381,0.747619;0.0369048x0.0380952),\n",
        "        Axes(0.789286,0.747619;0.0369048x0.0380952),\n",
        "        Axes(0.82619,0.747619;0.0369048x0.0380952),\n",
        "        Axes(0.863095,0.747619;0.0369048x0.0380952)],\n",
        "       [Axes(0.125,0.709524;0.0369048x0.0380952),\n",
        "        Axes(0.161905,0.709524;0.0369048x0.0380952),\n",
        "        Axes(0.19881,0.709524;0.0369048x0.0380952),\n",
        "        Axes(0.235714,0.709524;0.0369048x0.0380952),\n",
        "        Axes(0.272619,0.709524;0.0369048x0.0380952),\n",
        "        Axes(0.309524,0.709524;0.0369048x0.0380952),\n",
        "        Axes(0.346429,0.709524;0.0369048x0.0380952),\n",
        "        Axes(0.383333,0.709524;0.0369048x0.0380952),\n",
        "        Axes(0.420238,0.709524;0.0369048x0.0380952),\n",
        "        Axes(0.457143,0.709524;0.0369048x0.0380952),\n",
        "        Axes(0.494048,0.709524;0.0369048x0.0380952),\n",
        "        Axes(0.530952,0.709524;0.0369048x0.0380952),\n",
        "        Axes(0.567857,0.709524;0.0369048x0.0380952),\n",
        "        Axes(0.604762,0.709524;0.0369048x0.0380952),\n",
        "        Axes(0.641667,0.709524;0.0369048x0.0380952),\n",
        "        Axes(0.678571,0.709524;0.0369048x0.0380952),\n",
        "        Axes(0.715476,0.709524;0.0369048x0.0380952),\n",
        "        Axes(0.752381,0.709524;0.0369048x0.0380952),\n",
        "        Axes(0.789286,0.709524;0.0369048x0.0380952),\n",
        "        Axes(0.82619,0.709524;0.0369048x0.0380952),\n",
        "        Axes(0.863095,0.709524;0.0369048x0.0380952)],\n",
        "       [Axes(0.125,0.671429;0.0369048x0.0380952),\n",
        "        Axes(0.161905,0.671429;0.0369048x0.0380952),\n",
        "        Axes(0.19881,0.671429;0.0369048x0.0380952),\n",
        "        Axes(0.235714,0.671429;0.0369048x0.0380952),\n",
        "        Axes(0.272619,0.671429;0.0369048x0.0380952),\n",
        "        Axes(0.309524,0.671429;0.0369048x0.0380952),\n",
        "        Axes(0.346429,0.671429;0.0369048x0.0380952),\n",
        "        Axes(0.383333,0.671429;0.0369048x0.0380952),\n",
        "        Axes(0.420238,0.671429;0.0369048x0.0380952),\n",
        "        Axes(0.457143,0.671429;0.0369048x0.0380952),\n",
        "        Axes(0.494048,0.671429;0.0369048x0.0380952),\n",
        "        Axes(0.530952,0.671429;0.0369048x0.0380952),\n",
        "        Axes(0.567857,0.671429;0.0369048x0.0380952),\n",
        "        Axes(0.604762,0.671429;0.0369048x0.0380952),\n",
        "        Axes(0.641667,0.671429;0.0369048x0.0380952),\n",
        "        Axes(0.678571,0.671429;0.0369048x0.0380952),\n",
        "        Axes(0.715476,0.671429;0.0369048x0.0380952),\n",
        "        Axes(0.752381,0.671429;0.0369048x0.0380952),\n",
        "        Axes(0.789286,0.671429;0.0369048x0.0380952),\n",
        "        Axes(0.82619,0.671429;0.0369048x0.0380952),\n",
        "        Axes(0.863095,0.671429;0.0369048x0.0380952)],\n",
        "       [Axes(0.125,0.633333;0.0369048x0.0380952),\n",
        "        Axes(0.161905,0.633333;0.0369048x0.0380952),\n",
        "        Axes(0.19881,0.633333;0.0369048x0.0380952),\n",
        "        Axes(0.235714,0.633333;0.0369048x0.0380952),\n",
        "        Axes(0.272619,0.633333;0.0369048x0.0380952),\n",
        "        Axes(0.309524,0.633333;0.0369048x0.0380952),\n",
        "        Axes(0.346429,0.633333;0.0369048x0.0380952),\n",
        "        Axes(0.383333,0.633333;0.0369048x0.0380952),\n",
        "        Axes(0.420238,0.633333;0.0369048x0.0380952),\n",
        "        Axes(0.457143,0.633333;0.0369048x0.0380952),\n",
        "        Axes(0.494048,0.633333;0.0369048x0.0380952),\n",
        "        Axes(0.530952,0.633333;0.0369048x0.0380952),\n",
        "        Axes(0.567857,0.633333;0.0369048x0.0380952),\n",
        "        Axes(0.604762,0.633333;0.0369048x0.0380952),\n",
        "        Axes(0.641667,0.633333;0.0369048x0.0380952),\n",
        "        Axes(0.678571,0.633333;0.0369048x0.0380952),\n",
        "        Axes(0.715476,0.633333;0.0369048x0.0380952),\n",
        "        Axes(0.752381,0.633333;0.0369048x0.0380952),\n",
        "        Axes(0.789286,0.633333;0.0369048x0.0380952),\n",
        "        Axes(0.82619,0.633333;0.0369048x0.0380952),\n",
        "        Axes(0.863095,0.633333;0.0369048x0.0380952)],\n",
        "       [Axes(0.125,0.595238;0.0369048x0.0380952),\n",
        "        Axes(0.161905,0.595238;0.0369048x0.0380952),\n",
        "        Axes(0.19881,0.595238;0.0369048x0.0380952),\n",
        "        Axes(0.235714,0.595238;0.0369048x0.0380952),\n",
        "        Axes(0.272619,0.595238;0.0369048x0.0380952),\n",
        "        Axes(0.309524,0.595238;0.0369048x0.0380952),\n",
        "        Axes(0.346429,0.595238;0.0369048x0.0380952),\n",
        "        Axes(0.383333,0.595238;0.0369048x0.0380952),\n",
        "        Axes(0.420238,0.595238;0.0369048x0.0380952),\n",
        "        Axes(0.457143,0.595238;0.0369048x0.0380952),\n",
        "        Axes(0.494048,0.595238;0.0369048x0.0380952),\n",
        "        Axes(0.530952,0.595238;0.0369048x0.0380952),\n",
        "        Axes(0.567857,0.595238;0.0369048x0.0380952),\n",
        "        Axes(0.604762,0.595238;0.0369048x0.0380952),\n",
        "        Axes(0.641667,0.595238;0.0369048x0.0380952),\n",
        "        Axes(0.678571,0.595238;0.0369048x0.0380952),\n",
        "        Axes(0.715476,0.595238;0.0369048x0.0380952),\n",
        "        Axes(0.752381,0.595238;0.0369048x0.0380952),\n",
        "        Axes(0.789286,0.595238;0.0369048x0.0380952),\n",
        "        Axes(0.82619,0.595238;0.0369048x0.0380952),\n",
        "        Axes(0.863095,0.595238;0.0369048x0.0380952)],\n",
        "       [Axes(0.125,0.557143;0.0369048x0.0380952),\n",
        "        Axes(0.161905,0.557143;0.0369048x0.0380952),\n",
        "        Axes(0.19881,0.557143;0.0369048x0.0380952),\n",
        "        Axes(0.235714,0.557143;0.0369048x0.0380952),\n",
        "        Axes(0.272619,0.557143;0.0369048x0.0380952),\n",
        "        Axes(0.309524,0.557143;0.0369048x0.0380952),\n",
        "        Axes(0.346429,0.557143;0.0369048x0.0380952),\n",
        "        Axes(0.383333,0.557143;0.0369048x0.0380952),\n",
        "        Axes(0.420238,0.557143;0.0369048x0.0380952),\n",
        "        Axes(0.457143,0.557143;0.0369048x0.0380952),\n",
        "        Axes(0.494048,0.557143;0.0369048x0.0380952),\n",
        "        Axes(0.530952,0.557143;0.0369048x0.0380952),\n",
        "        Axes(0.567857,0.557143;0.0369048x0.0380952),\n",
        "        Axes(0.604762,0.557143;0.0369048x0.0380952),\n",
        "        Axes(0.641667,0.557143;0.0369048x0.0380952),\n",
        "        Axes(0.678571,0.557143;0.0369048x0.0380952),\n",
        "        Axes(0.715476,0.557143;0.0369048x0.0380952),\n",
        "        Axes(0.752381,0.557143;0.0369048x0.0380952),\n",
        "        Axes(0.789286,0.557143;0.0369048x0.0380952),\n",
        "        Axes(0.82619,0.557143;0.0369048x0.0380952),\n",
        "        Axes(0.863095,0.557143;0.0369048x0.0380952)],\n",
        "       [Axes(0.125,0.519048;0.0369048x0.0380952),\n",
        "        Axes(0.161905,0.519048;0.0369048x0.0380952),\n",
        "        Axes(0.19881,0.519048;0.0369048x0.0380952),\n",
        "        Axes(0.235714,0.519048;0.0369048x0.0380952),\n",
        "        Axes(0.272619,0.519048;0.0369048x0.0380952),\n",
        "        Axes(0.309524,0.519048;0.0369048x0.0380952),\n",
        "        Axes(0.346429,0.519048;0.0369048x0.0380952),\n",
        "        Axes(0.383333,0.519048;0.0369048x0.0380952),\n",
        "        Axes(0.420238,0.519048;0.0369048x0.0380952),\n",
        "        Axes(0.457143,0.519048;0.0369048x0.0380952),\n",
        "        Axes(0.494048,0.519048;0.0369048x0.0380952),\n",
        "        Axes(0.530952,0.519048;0.0369048x0.0380952),\n",
        "        Axes(0.567857,0.519048;0.0369048x0.0380952),\n",
        "        Axes(0.604762,0.519048;0.0369048x0.0380952),\n",
        "        Axes(0.641667,0.519048;0.0369048x0.0380952),\n",
        "        Axes(0.678571,0.519048;0.0369048x0.0380952),\n",
        "        Axes(0.715476,0.519048;0.0369048x0.0380952),\n",
        "        Axes(0.752381,0.519048;0.0369048x0.0380952),\n",
        "        Axes(0.789286,0.519048;0.0369048x0.0380952),\n",
        "        Axes(0.82619,0.519048;0.0369048x0.0380952),\n",
        "        Axes(0.863095,0.519048;0.0369048x0.0380952)],\n",
        "       [Axes(0.125,0.480952;0.0369048x0.0380952),\n",
        "        Axes(0.161905,0.480952;0.0369048x0.0380952),\n",
        "        Axes(0.19881,0.480952;0.0369048x0.0380952),\n",
        "        Axes(0.235714,0.480952;0.0369048x0.0380952),\n",
        "        Axes(0.272619,0.480952;0.0369048x0.0380952),\n",
        "        Axes(0.309524,0.480952;0.0369048x0.0380952),\n",
        "        Axes(0.346429,0.480952;0.0369048x0.0380952),\n",
        "        Axes(0.383333,0.480952;0.0369048x0.0380952),\n",
        "        Axes(0.420238,0.480952;0.0369048x0.0380952),\n",
        "        Axes(0.457143,0.480952;0.0369048x0.0380952),\n",
        "        Axes(0.494048,0.480952;0.0369048x0.0380952),\n",
        "        Axes(0.530952,0.480952;0.0369048x0.0380952),\n",
        "        Axes(0.567857,0.480952;0.0369048x0.0380952),\n",
        "        Axes(0.604762,0.480952;0.0369048x0.0380952),\n",
        "        Axes(0.641667,0.480952;0.0369048x0.0380952),\n",
        "        Axes(0.678571,0.480952;0.0369048x0.0380952),\n",
        "        Axes(0.715476,0.480952;0.0369048x0.0380952),\n",
        "        Axes(0.752381,0.480952;0.0369048x0.0380952),\n",
        "        Axes(0.789286,0.480952;0.0369048x0.0380952),\n",
        "        Axes(0.82619,0.480952;0.0369048x0.0380952),\n",
        "        Axes(0.863095,0.480952;0.0369048x0.0380952)],\n",
        "       [Axes(0.125,0.442857;0.0369048x0.0380952),\n",
        "        Axes(0.161905,0.442857;0.0369048x0.0380952),\n",
        "        Axes(0.19881,0.442857;0.0369048x0.0380952),\n",
        "        Axes(0.235714,0.442857;0.0369048x0.0380952),\n",
        "        Axes(0.272619,0.442857;0.0369048x0.0380952),\n",
        "        Axes(0.309524,0.442857;0.0369048x0.0380952),\n",
        "        Axes(0.346429,0.442857;0.0369048x0.0380952),\n",
        "        Axes(0.383333,0.442857;0.0369048x0.0380952),\n",
        "        Axes(0.420238,0.442857;0.0369048x0.0380952),\n",
        "        Axes(0.457143,0.442857;0.0369048x0.0380952),\n",
        "        Axes(0.494048,0.442857;0.0369048x0.0380952),\n",
        "        Axes(0.530952,0.442857;0.0369048x0.0380952),\n",
        "        Axes(0.567857,0.442857;0.0369048x0.0380952),\n",
        "        Axes(0.604762,0.442857;0.0369048x0.0380952),\n",
        "        Axes(0.641667,0.442857;0.0369048x0.0380952),\n",
        "        Axes(0.678571,0.442857;0.0369048x0.0380952),\n",
        "        Axes(0.715476,0.442857;0.0369048x0.0380952),\n",
        "        Axes(0.752381,0.442857;0.0369048x0.0380952),\n",
        "        Axes(0.789286,0.442857;0.0369048x0.0380952),\n",
        "        Axes(0.82619,0.442857;0.0369048x0.0380952),\n",
        "        Axes(0.863095,0.442857;0.0369048x0.0380952)],\n",
        "       [Axes(0.125,0.404762;0.0369048x0.0380952),\n",
        "        Axes(0.161905,0.404762;0.0369048x0.0380952),\n",
        "        Axes(0.19881,0.404762;0.0369048x0.0380952),\n",
        "        Axes(0.235714,0.404762;0.0369048x0.0380952),\n",
        "        Axes(0.272619,0.404762;0.0369048x0.0380952),\n",
        "        Axes(0.309524,0.404762;0.0369048x0.0380952),\n",
        "        Axes(0.346429,0.404762;0.0369048x0.0380952),\n",
        "        Axes(0.383333,0.404762;0.0369048x0.0380952),\n",
        "        Axes(0.420238,0.404762;0.0369048x0.0380952),\n",
        "        Axes(0.457143,0.404762;0.0369048x0.0380952),\n",
        "        Axes(0.494048,0.404762;0.0369048x0.0380952),\n",
        "        Axes(0.530952,0.404762;0.0369048x0.0380952),\n",
        "        Axes(0.567857,0.404762;0.0369048x0.0380952),\n",
        "        Axes(0.604762,0.404762;0.0369048x0.0380952),\n",
        "        Axes(0.641667,0.404762;0.0369048x0.0380952),\n",
        "        Axes(0.678571,0.404762;0.0369048x0.0380952),\n",
        "        Axes(0.715476,0.404762;0.0369048x0.0380952),\n",
        "        Axes(0.752381,0.404762;0.0369048x0.0380952),\n",
        "        Axes(0.789286,0.404762;0.0369048x0.0380952),\n",
        "        Axes(0.82619,0.404762;0.0369048x0.0380952),\n",
        "        Axes(0.863095,0.404762;0.0369048x0.0380952)],\n",
        "       [Axes(0.125,0.366667;0.0369048x0.0380952),\n",
        "        Axes(0.161905,0.366667;0.0369048x0.0380952),\n",
        "        Axes(0.19881,0.366667;0.0369048x0.0380952),\n",
        "        Axes(0.235714,0.366667;0.0369048x0.0380952),\n",
        "        Axes(0.272619,0.366667;0.0369048x0.0380952),\n",
        "        Axes(0.309524,0.366667;0.0369048x0.0380952),\n",
        "        Axes(0.346429,0.366667;0.0369048x0.0380952),\n",
        "        Axes(0.383333,0.366667;0.0369048x0.0380952),\n",
        "        Axes(0.420238,0.366667;0.0369048x0.0380952),\n",
        "        Axes(0.457143,0.366667;0.0369048x0.0380952),\n",
        "        Axes(0.494048,0.366667;0.0369048x0.0380952),\n",
        "        Axes(0.530952,0.366667;0.0369048x0.0380952),\n",
        "        Axes(0.567857,0.366667;0.0369048x0.0380952),\n",
        "        Axes(0.604762,0.366667;0.0369048x0.0380952),\n",
        "        Axes(0.641667,0.366667;0.0369048x0.0380952),\n",
        "        Axes(0.678571,0.366667;0.0369048x0.0380952),\n",
        "        Axes(0.715476,0.366667;0.0369048x0.0380952),\n",
        "        Axes(0.752381,0.366667;0.0369048x0.0380952),\n",
        "        Axes(0.789286,0.366667;0.0369048x0.0380952),\n",
        "        Axes(0.82619,0.366667;0.0369048x0.0380952),\n",
        "        Axes(0.863095,0.366667;0.0369048x0.0380952)],\n",
        "       [Axes(0.125,0.328571;0.0369048x0.0380952),\n",
        "        Axes(0.161905,0.328571;0.0369048x0.0380952),\n",
        "        Axes(0.19881,0.328571;0.0369048x0.0380952),\n",
        "        Axes(0.235714,0.328571;0.0369048x0.0380952),\n",
        "        Axes(0.272619,0.328571;0.0369048x0.0380952),\n",
        "        Axes(0.309524,0.328571;0.0369048x0.0380952),\n",
        "        Axes(0.346429,0.328571;0.0369048x0.0380952),\n",
        "        Axes(0.383333,0.328571;0.0369048x0.0380952),\n",
        "        Axes(0.420238,0.328571;0.0369048x0.0380952),\n",
        "        Axes(0.457143,0.328571;0.0369048x0.0380952),\n",
        "        Axes(0.494048,0.328571;0.0369048x0.0380952),\n",
        "        Axes(0.530952,0.328571;0.0369048x0.0380952),\n",
        "        Axes(0.567857,0.328571;0.0369048x0.0380952),\n",
        "        Axes(0.604762,0.328571;0.0369048x0.0380952),\n",
        "        Axes(0.641667,0.328571;0.0369048x0.0380952),\n",
        "        Axes(0.678571,0.328571;0.0369048x0.0380952),\n",
        "        Axes(0.715476,0.328571;0.0369048x0.0380952),\n",
        "        Axes(0.752381,0.328571;0.0369048x0.0380952),\n",
        "        Axes(0.789286,0.328571;0.0369048x0.0380952),\n",
        "        Axes(0.82619,0.328571;0.0369048x0.0380952),\n",
        "        Axes(0.863095,0.328571;0.0369048x0.0380952)],\n",
        "       [Axes(0.125,0.290476;0.0369048x0.0380952),\n",
        "        Axes(0.161905,0.290476;0.0369048x0.0380952),\n",
        "        Axes(0.19881,0.290476;0.0369048x0.0380952),\n",
        "        Axes(0.235714,0.290476;0.0369048x0.0380952),\n",
        "        Axes(0.272619,0.290476;0.0369048x0.0380952),\n",
        "        Axes(0.309524,0.290476;0.0369048x0.0380952),\n",
        "        Axes(0.346429,0.290476;0.0369048x0.0380952),\n",
        "        Axes(0.383333,0.290476;0.0369048x0.0380952),\n",
        "        Axes(0.420238,0.290476;0.0369048x0.0380952),\n",
        "        Axes(0.457143,0.290476;0.0369048x0.0380952),\n",
        "        Axes(0.494048,0.290476;0.0369048x0.0380952),\n",
        "        Axes(0.530952,0.290476;0.0369048x0.0380952),\n",
        "        Axes(0.567857,0.290476;0.0369048x0.0380952),\n",
        "        Axes(0.604762,0.290476;0.0369048x0.0380952),\n",
        "        Axes(0.641667,0.290476;0.0369048x0.0380952),\n",
        "        Axes(0.678571,0.290476;0.0369048x0.0380952),\n",
        "        Axes(0.715476,0.290476;0.0369048x0.0380952),\n",
        "        Axes(0.752381,0.290476;0.0369048x0.0380952),\n",
        "        Axes(0.789286,0.290476;0.0369048x0.0380952),\n",
        "        Axes(0.82619,0.290476;0.0369048x0.0380952),\n",
        "        Axes(0.863095,0.290476;0.0369048x0.0380952)],\n",
        "       [Axes(0.125,0.252381;0.0369048x0.0380952),\n",
        "        Axes(0.161905,0.252381;0.0369048x0.0380952),\n",
        "        Axes(0.19881,0.252381;0.0369048x0.0380952),\n",
        "        Axes(0.235714,0.252381;0.0369048x0.0380952),\n",
        "        Axes(0.272619,0.252381;0.0369048x0.0380952),\n",
        "        Axes(0.309524,0.252381;0.0369048x0.0380952),\n",
        "        Axes(0.346429,0.252381;0.0369048x0.0380952),\n",
        "        Axes(0.383333,0.252381;0.0369048x0.0380952),\n",
        "        Axes(0.420238,0.252381;0.0369048x0.0380952),\n",
        "        Axes(0.457143,0.252381;0.0369048x0.0380952),\n",
        "        Axes(0.494048,0.252381;0.0369048x0.0380952),\n",
        "        Axes(0.530952,0.252381;0.0369048x0.0380952),\n",
        "        Axes(0.567857,0.252381;0.0369048x0.0380952),\n",
        "        Axes(0.604762,0.252381;0.0369048x0.0380952),\n",
        "        Axes(0.641667,0.252381;0.0369048x0.0380952),\n",
        "        Axes(0.678571,0.252381;0.0369048x0.0380952),\n",
        "        Axes(0.715476,0.252381;0.0369048x0.0380952),\n",
        "        Axes(0.752381,0.252381;0.0369048x0.0380952),\n",
        "        Axes(0.789286,0.252381;0.0369048x0.0380952),\n",
        "        Axes(0.82619,0.252381;0.0369048x0.0380952),\n",
        "        Axes(0.863095,0.252381;0.0369048x0.0380952)],\n",
        "       [Axes(0.125,0.214286;0.0369048x0.0380952),\n",
        "        Axes(0.161905,0.214286;0.0369048x0.0380952),\n",
        "        Axes(0.19881,0.214286;0.0369048x0.0380952),\n",
        "        Axes(0.235714,0.214286;0.0369048x0.0380952),\n",
        "        Axes(0.272619,0.214286;0.0369048x0.0380952),\n",
        "        Axes(0.309524,0.214286;0.0369048x0.0380952),\n",
        "        Axes(0.346429,0.214286;0.0369048x0.0380952),\n",
        "        Axes(0.383333,0.214286;0.0369048x0.0380952),\n",
        "        Axes(0.420238,0.214286;0.0369048x0.0380952),\n",
        "        Axes(0.457143,0.214286;0.0369048x0.0380952),\n",
        "        Axes(0.494048,0.214286;0.0369048x0.0380952),\n",
        "        Axes(0.530952,0.214286;0.0369048x0.0380952),\n",
        "        Axes(0.567857,0.214286;0.0369048x0.0380952),\n",
        "        Axes(0.604762,0.214286;0.0369048x0.0380952),\n",
        "        Axes(0.641667,0.214286;0.0369048x0.0380952),\n",
        "        Axes(0.678571,0.214286;0.0369048x0.0380952),\n",
        "        Axes(0.715476,0.214286;0.0369048x0.0380952),\n",
        "        Axes(0.752381,0.214286;0.0369048x0.0380952),\n",
        "        Axes(0.789286,0.214286;0.0369048x0.0380952),\n",
        "        Axes(0.82619,0.214286;0.0369048x0.0380952),\n",
        "        Axes(0.863095,0.214286;0.0369048x0.0380952)],\n",
        "       [Axes(0.125,0.17619;0.0369048x0.0380952),\n",
        "        Axes(0.161905,0.17619;0.0369048x0.0380952),\n",
        "        Axes(0.19881,0.17619;0.0369048x0.0380952),\n",
        "        Axes(0.235714,0.17619;0.0369048x0.0380952),\n",
        "        Axes(0.272619,0.17619;0.0369048x0.0380952),\n",
        "        Axes(0.309524,0.17619;0.0369048x0.0380952),\n",
        "        Axes(0.346429,0.17619;0.0369048x0.0380952),\n",
        "        Axes(0.383333,0.17619;0.0369048x0.0380952),\n",
        "        Axes(0.420238,0.17619;0.0369048x0.0380952),\n",
        "        Axes(0.457143,0.17619;0.0369048x0.0380952),\n",
        "        Axes(0.494048,0.17619;0.0369048x0.0380952),\n",
        "        Axes(0.530952,0.17619;0.0369048x0.0380952),\n",
        "        Axes(0.567857,0.17619;0.0369048x0.0380952),\n",
        "        Axes(0.604762,0.17619;0.0369048x0.0380952),\n",
        "        Axes(0.641667,0.17619;0.0369048x0.0380952),\n",
        "        Axes(0.678571,0.17619;0.0369048x0.0380952),\n",
        "        Axes(0.715476,0.17619;0.0369048x0.0380952),\n",
        "        Axes(0.752381,0.17619;0.0369048x0.0380952),\n",
        "        Axes(0.789286,0.17619;0.0369048x0.0380952),\n",
        "        Axes(0.82619,0.17619;0.0369048x0.0380952),\n",
        "        Axes(0.863095,0.17619;0.0369048x0.0380952)],\n",
        "       [Axes(0.125,0.138095;0.0369048x0.0380952),\n",
        "        Axes(0.161905,0.138095;0.0369048x0.0380952),\n",
        "        Axes(0.19881,0.138095;0.0369048x0.0380952),\n",
        "        Axes(0.235714,0.138095;0.0369048x0.0380952),\n",
        "        Axes(0.272619,0.138095;0.0369048x0.0380952),\n",
        "        Axes(0.309524,0.138095;0.0369048x0.0380952),\n",
        "        Axes(0.346429,0.138095;0.0369048x0.0380952),\n",
        "        Axes(0.383333,0.138095;0.0369048x0.0380952),\n",
        "        Axes(0.420238,0.138095;0.0369048x0.0380952),\n",
        "        Axes(0.457143,0.138095;0.0369048x0.0380952),\n",
        "        Axes(0.494048,0.138095;0.0369048x0.0380952),\n",
        "        Axes(0.530952,0.138095;0.0369048x0.0380952),\n",
        "        Axes(0.567857,0.138095;0.0369048x0.0380952),\n",
        "        Axes(0.604762,0.138095;0.0369048x0.0380952),\n",
        "        Axes(0.641667,0.138095;0.0369048x0.0380952),\n",
        "        Axes(0.678571,0.138095;0.0369048x0.0380952),\n",
        "        Axes(0.715476,0.138095;0.0369048x0.0380952),\n",
        "        Axes(0.752381,0.138095;0.0369048x0.0380952),\n",
        "        Axes(0.789286,0.138095;0.0369048x0.0380952),\n",
        "        Axes(0.82619,0.138095;0.0369048x0.0380952),\n",
        "        Axes(0.863095,0.138095;0.0369048x0.0380952)],\n",
        "       [Axes(0.125,0.1;0.0369048x0.0380952),\n",
        "        Axes(0.161905,0.1;0.0369048x0.0380952),\n",
        "        Axes(0.19881,0.1;0.0369048x0.0380952),\n",
        "        Axes(0.235714,0.1;0.0369048x0.0380952),\n",
        "        Axes(0.272619,0.1;0.0369048x0.0380952),\n",
        "        Axes(0.309524,0.1;0.0369048x0.0380952),\n",
        "        Axes(0.346429,0.1;0.0369048x0.0380952),\n",
        "        Axes(0.383333,0.1;0.0369048x0.0380952),\n",
        "        Axes(0.420238,0.1;0.0369048x0.0380952),\n",
        "        Axes(0.457143,0.1;0.0369048x0.0380952),\n",
        "        Axes(0.494048,0.1;0.0369048x0.0380952),\n",
        "        Axes(0.530952,0.1;0.0369048x0.0380952),\n",
        "        Axes(0.567857,0.1;0.0369048x0.0380952),\n",
        "        Axes(0.604762,0.1;0.0369048x0.0380952),\n",
        "        Axes(0.641667,0.1;0.0369048x0.0380952),\n",
        "        Axes(0.678571,0.1;0.0369048x0.0380952),\n",
        "        Axes(0.715476,0.1;0.0369048x0.0380952),\n",
        "        Axes(0.752381,0.1;0.0369048x0.0380952),\n",
        "        Axes(0.789286,0.1;0.0369048x0.0380952),\n",
        "        Axes(0.82619,0.1;0.0369048x0.0380952),\n",
        "        Axes(0.863095,0.1;0.0369048x0.0380952)]], dtype=object)"
       ]
      }
     ],
     "prompt_number": 27
    },
    {
     "cell_type": "code",
     "collapsed": false,
     "input": [
      "imshow(chdata.values.T,interpolation='none',aspect='auto')"
     ],
     "language": "python",
     "metadata": {},
     "outputs": [
      {
       "output_type": "pyout",
       "prompt_number": 39,
       "text": [
        "<matplotlib.image.AxesImage at 0x1196b0a90>"
       ]
      }
     ],
     "prompt_number": 39
    },
    {
     "cell_type": "code",
     "collapsed": false,
     "input": [
      "chdata.columns"
     ],
     "language": "python",
     "metadata": {},
     "outputs": [
      {
       "output_type": "pyout",
       "prompt_number": 12,
       "text": [
        "Int64Index([1 , 2 , 3 , 4 , 5 , 6 , 7 , 8 , 9 , 10, 11, 12, 13, 14, 15, 16, 17, 18, 19, 20, 21], dtype=int64)"
       ]
      }
     ],
     "prompt_number": 12
    },
    {
     "cell_type": "code",
     "collapsed": false,
     "input": [
      "chdata.plot(style='.')"
     ],
     "language": "python",
     "metadata": {},
     "outputs": [
      {
       "output_type": "pyout",
       "prompt_number": 13,
       "text": [
        "<matplotlib.axes.AxesSubplot at 0x122d1ee10>"
       ]
      }
     ],
     "prompt_number": 13
    },
    {
     "cell_type": "code",
     "collapsed": false,
     "input": [
      "chdata.plot( "
     ],
     "language": "python",
     "metadata": {},
     "outputs": [
      {
       "output_type": "pyout",
       "prompt_number": 14,
       "text": [
        "{'boxes': [<matplotlib.lines.Line2D at 0x122faa890>,\n",
        "  <matplotlib.lines.Line2D at 0x122fb30d0>,\n",
        "  <matplotlib.lines.Line2D at 0x122fba8d0>,\n",
        "  <matplotlib.lines.Line2D at 0x122fc2110>,\n",
        "  <matplotlib.lines.Line2D at 0x122f4a910>,\n",
        "  <matplotlib.lines.Line2D at 0x122f54150>,\n",
        "  <matplotlib.lines.Line2D at 0x122f5a950>,\n",
        "  <matplotlib.lines.Line2D at 0x122f63190>,\n",
        "  <matplotlib.lines.Line2D at 0x122f6a990>,\n",
        "  <matplotlib.lines.Line2D at 0x122f721d0>,\n",
        "  <matplotlib.lines.Line2D at 0x122f7b9d0>,\n",
        "  <matplotlib.lines.Line2D at 0x122f85210>,\n",
        "  <matplotlib.lines.Line2D at 0x118f02a10>,\n",
        "  <matplotlib.lines.Line2D at 0x118f0a250>,\n",
        "  <matplotlib.lines.Line2D at 0x118f10a50>,\n",
        "  <matplotlib.lines.Line2D at 0x118f1a290>,\n",
        "  <matplotlib.lines.Line2D at 0x118f20a90>,\n",
        "  <matplotlib.lines.Line2D at 0x118f2b2d0>,\n",
        "  <matplotlib.lines.Line2D at 0x118f30ad0>,\n",
        "  <matplotlib.lines.Line2D at 0x118f3b310>,\n",
        "  <matplotlib.lines.Line2D at 0x11a740b10>],\n",
        " 'caps': [<matplotlib.lines.Line2D at 0x122f8ae50>,\n",
        "  <matplotlib.lines.Line2D at 0x122faa390>,\n",
        "  <matplotlib.lines.Line2D at 0x122fb0690>,\n",
        "  <matplotlib.lines.Line2D at 0x122fb0b90>,\n",
        "  <matplotlib.lines.Line2D at 0x122fb6e90>,\n",
        "  <matplotlib.lines.Line2D at 0x122fba3d0>,\n",
        "  <matplotlib.lines.Line2D at 0x122fc06d0>,\n",
        "  <matplotlib.lines.Line2D at 0x122fc0bd0>,\n",
        "  <matplotlib.lines.Line2D at 0x122fc7ed0>,\n",
        "  <matplotlib.lines.Line2D at 0x122f4a410>,\n",
        "  <matplotlib.lines.Line2D at 0x122f51710>,\n",
        "  <matplotlib.lines.Line2D at 0x122f51c10>,\n",
        "  <matplotlib.lines.Line2D at 0x122f57f10>,\n",
        "  <matplotlib.lines.Line2D at 0x122f5a450>,\n",
        "  <matplotlib.lines.Line2D at 0x122f60750>,\n",
        "  <matplotlib.lines.Line2D at 0x122f60c50>,\n",
        "  <matplotlib.lines.Line2D at 0x122f65f50>,\n",
        "  <matplotlib.lines.Line2D at 0x122f6a490>,\n",
        "  <matplotlib.lines.Line2D at 0x122f71790>,\n",
        "  <matplotlib.lines.Line2D at 0x122f71c90>,\n",
        "  <matplotlib.lines.Line2D at 0x122f76f90>,\n",
        "  <matplotlib.lines.Line2D at 0x122f7b4d0>,\n",
        "  <matplotlib.lines.Line2D at 0x122f817d0>,\n",
        "  <matplotlib.lines.Line2D at 0x122f81cd0>,\n",
        "  <matplotlib.lines.Line2D at 0x122f86fd0>,\n",
        "  <matplotlib.lines.Line2D at 0x118f02510>,\n",
        "  <matplotlib.lines.Line2D at 0x118f07810>,\n",
        "  <matplotlib.lines.Line2D at 0x118f07d10>,\n",
        "  <matplotlib.lines.Line2D at 0x118f10050>,\n",
        "  <matplotlib.lines.Line2D at 0x118f10550>,\n",
        "  <matplotlib.lines.Line2D at 0x118f17850>,\n",
        "  <matplotlib.lines.Line2D at 0x118f17d50>,\n",
        "  <matplotlib.lines.Line2D at 0x118f20090>,\n",
        "  <matplotlib.lines.Line2D at 0x118f20590>,\n",
        "  <matplotlib.lines.Line2D at 0x118f28890>,\n",
        "  <matplotlib.lines.Line2D at 0x118f28d90>,\n",
        "  <matplotlib.lines.Line2D at 0x118f300d0>,\n",
        "  <matplotlib.lines.Line2D at 0x118f305d0>,\n",
        "  <matplotlib.lines.Line2D at 0x118f388d0>,\n",
        "  <matplotlib.lines.Line2D at 0x118f38dd0>,\n",
        "  <matplotlib.lines.Line2D at 0x11a740110>,\n",
        "  <matplotlib.lines.Line2D at 0x11a740610>],\n",
        " 'fliers': [<matplotlib.lines.Line2D at 0x122fad2d0>,\n",
        "  <matplotlib.lines.Line2D at 0x122fada50>,\n",
        "  <matplotlib.lines.Line2D at 0x122fb3ad0>,\n",
        "  <matplotlib.lines.Line2D at 0x122fb6290>,\n",
        "  <matplotlib.lines.Line2D at 0x122fbc310>,\n",
        "  <matplotlib.lines.Line2D at 0x122fbca90>,\n",
        "  <matplotlib.lines.Line2D at 0x122fc2b10>,\n",
        "  <matplotlib.lines.Line2D at 0x122fc72d0>,\n",
        "  <matplotlib.lines.Line2D at 0x122f4d350>,\n",
        "  <matplotlib.lines.Line2D at 0x122f4dad0>,\n",
        "  <matplotlib.lines.Line2D at 0x122f54b50>,\n",
        "  <matplotlib.lines.Line2D at 0x122f57310>,\n",
        "  <matplotlib.lines.Line2D at 0x122f5d390>,\n",
        "  <matplotlib.lines.Line2D at 0x122f5db10>,\n",
        "  <matplotlib.lines.Line2D at 0x122f63b90>,\n",
        "  <matplotlib.lines.Line2D at 0x122f65350>,\n",
        "  <matplotlib.lines.Line2D at 0x122f6c3d0>,\n",
        "  <matplotlib.lines.Line2D at 0x122f6cb50>,\n",
        "  <matplotlib.lines.Line2D at 0x122f72bd0>,\n",
        "  <matplotlib.lines.Line2D at 0x122f76390>,\n",
        "  <matplotlib.lines.Line2D at 0x122f7e410>,\n",
        "  <matplotlib.lines.Line2D at 0x122f7eb90>,\n",
        "  <matplotlib.lines.Line2D at 0x122f85c10>,\n",
        "  <matplotlib.lines.Line2D at 0x122f863d0>,\n",
        "  <matplotlib.lines.Line2D at 0x118f04450>,\n",
        "  <matplotlib.lines.Line2D at 0x118f04bd0>,\n",
        "  <matplotlib.lines.Line2D at 0x118f0ac50>,\n",
        "  <matplotlib.lines.Line2D at 0x118f0d410>,\n",
        "  <matplotlib.lines.Line2D at 0x118f14490>,\n",
        "  <matplotlib.lines.Line2D at 0x118f14c10>,\n",
        "  <matplotlib.lines.Line2D at 0x118f1ac90>,\n",
        "  <matplotlib.lines.Line2D at 0x118f1c450>,\n",
        "  <matplotlib.lines.Line2D at 0x118f234d0>,\n",
        "  <matplotlib.lines.Line2D at 0x118f23c50>,\n",
        "  <matplotlib.lines.Line2D at 0x118f2bcd0>,\n",
        "  <matplotlib.lines.Line2D at 0x118f2d490>,\n",
        "  <matplotlib.lines.Line2D at 0x118f36510>,\n",
        "  <matplotlib.lines.Line2D at 0x118f36c90>,\n",
        "  <matplotlib.lines.Line2D at 0x118f3bd10>,\n",
        "  <matplotlib.lines.Line2D at 0x118f3e4d0>,\n",
        "  <matplotlib.lines.Line2D at 0x11a744550>,\n",
        "  <matplotlib.lines.Line2D at 0x11a744cd0>],\n",
        " 'medians': [<matplotlib.lines.Line2D at 0x122faad90>,\n",
        "  <matplotlib.lines.Line2D at 0x122fb35d0>,\n",
        "  <matplotlib.lines.Line2D at 0x122fbadd0>,\n",
        "  <matplotlib.lines.Line2D at 0x122fc2610>,\n",
        "  <matplotlib.lines.Line2D at 0x122f4ae10>,\n",
        "  <matplotlib.lines.Line2D at 0x122f54650>,\n",
        "  <matplotlib.lines.Line2D at 0x122f5ae50>,\n",
        "  <matplotlib.lines.Line2D at 0x122f63690>,\n",
        "  <matplotlib.lines.Line2D at 0x122f6ae90>,\n",
        "  <matplotlib.lines.Line2D at 0x122f726d0>,\n",
        "  <matplotlib.lines.Line2D at 0x122f7bed0>,\n",
        "  <matplotlib.lines.Line2D at 0x122f85710>,\n",
        "  <matplotlib.lines.Line2D at 0x118f02f10>,\n",
        "  <matplotlib.lines.Line2D at 0x118f0a750>,\n",
        "  <matplotlib.lines.Line2D at 0x118f10f50>,\n",
        "  <matplotlib.lines.Line2D at 0x118f1a790>,\n",
        "  <matplotlib.lines.Line2D at 0x118f20f90>,\n",
        "  <matplotlib.lines.Line2D at 0x118f2b7d0>,\n",
        "  <matplotlib.lines.Line2D at 0x118f30fd0>,\n",
        "  <matplotlib.lines.Line2D at 0x118f3b810>,\n",
        "  <matplotlib.lines.Line2D at 0x11a744050>],\n",
        " 'whiskers': [<matplotlib.lines.Line2D at 0x122f8a6d0>,\n",
        "  <matplotlib.lines.Line2D at 0x122f8a8d0>,\n",
        "  <matplotlib.lines.Line2D at 0x122fadc50>,\n",
        "  <matplotlib.lines.Line2D at 0x122fb0190>,\n",
        "  <matplotlib.lines.Line2D at 0x122fb6490>,\n",
        "  <matplotlib.lines.Line2D at 0x122fb6990>,\n",
        "  <matplotlib.lines.Line2D at 0x122fbcc90>,\n",
        "  <matplotlib.lines.Line2D at 0x122fc01d0>,\n",
        "  <matplotlib.lines.Line2D at 0x122fc74d0>,\n",
        "  <matplotlib.lines.Line2D at 0x122fc79d0>,\n",
        "  <matplotlib.lines.Line2D at 0x122f4dcd0>,\n",
        "  <matplotlib.lines.Line2D at 0x122f51210>,\n",
        "  <matplotlib.lines.Line2D at 0x122f57510>,\n",
        "  <matplotlib.lines.Line2D at 0x122f57a10>,\n",
        "  <matplotlib.lines.Line2D at 0x122f5dd10>,\n",
        "  <matplotlib.lines.Line2D at 0x122f60250>,\n",
        "  <matplotlib.lines.Line2D at 0x122f65550>,\n",
        "  <matplotlib.lines.Line2D at 0x122f65a50>,\n",
        "  <matplotlib.lines.Line2D at 0x122f6cd50>,\n",
        "  <matplotlib.lines.Line2D at 0x122f71290>,\n",
        "  <matplotlib.lines.Line2D at 0x122f76590>,\n",
        "  <matplotlib.lines.Line2D at 0x122f76a90>,\n",
        "  <matplotlib.lines.Line2D at 0x122f7ed90>,\n",
        "  <matplotlib.lines.Line2D at 0x122f812d0>,\n",
        "  <matplotlib.lines.Line2D at 0x122f865d0>,\n",
        "  <matplotlib.lines.Line2D at 0x122f86ad0>,\n",
        "  <matplotlib.lines.Line2D at 0x118f04dd0>,\n",
        "  <matplotlib.lines.Line2D at 0x118f07310>,\n",
        "  <matplotlib.lines.Line2D at 0x118f0d610>,\n",
        "  <matplotlib.lines.Line2D at 0x118f0db10>,\n",
        "  <matplotlib.lines.Line2D at 0x118f14e10>,\n",
        "  <matplotlib.lines.Line2D at 0x118f17350>,\n",
        "  <matplotlib.lines.Line2D at 0x118f1c650>,\n",
        "  <matplotlib.lines.Line2D at 0x118f1cb50>,\n",
        "  <matplotlib.lines.Line2D at 0x118f23e50>,\n",
        "  <matplotlib.lines.Line2D at 0x118f28390>,\n",
        "  <matplotlib.lines.Line2D at 0x118f2d690>,\n",
        "  <matplotlib.lines.Line2D at 0x118f2db90>,\n",
        "  <matplotlib.lines.Line2D at 0x118f36e90>,\n",
        "  <matplotlib.lines.Line2D at 0x118f383d0>,\n",
        "  <matplotlib.lines.Line2D at 0x118f3e6d0>,\n",
        "  <matplotlib.lines.Line2D at 0x118f3ebd0>]}"
       ]
      }
     ],
     "prompt_number": 14
    },
    {
     "cell_type": "code",
     "collapsed": false,
     "input": [
      "choffsets = df[df.is_spaceview].filter(regex=ch2study+'_')"
     ],
     "language": "python",
     "metadata": {},
     "outputs": [],
     "prompt_number": 15
    },
    {
     "cell_type": "code",
     "collapsed": false,
     "input": [
      "chbbs = df[df.is_bbview].filter(regex=ch2study+'_')"
     ],
     "language": "python",
     "metadata": {},
     "outputs": [],
     "prompt_number": 16
    },
    {
     "cell_type": "code",
     "collapsed": false,
     "input": [
      "chstviews = df[df.is_stview].filter(regex=ch2study+'_')"
     ],
     "language": "python",
     "metadata": {},
     "outputs": [],
     "prompt_number": 17
    },
    {
     "cell_type": "code",
     "collapsed": false,
     "input": [
      "chraw = df.filter(regex=ch2study+'_')"
     ],
     "language": "python",
     "metadata": {},
     "outputs": [],
     "prompt_number": 18
    },
    {
     "cell_type": "code",
     "collapsed": false,
     "input": [
      "figure()\n",
      "chraw.mean(axis=1).plot(style='k.',markersize=1)\n",
      "choffsets.mean(axis=1).plot(style='b.',markersize=1)\n",
      "chbbs.mean(axis=1).plot(style='r.',markersize=1)\n",
      "chstviews.mean(axis=1).plot(style='c.',markersize=5)\n",
      "titlestr= ch2study + ' raw data plus marked calib views'\n",
      "title(titlestr)\n",
      "ylabel('Counts')\n",
      "xlabel('Time [UTC')\n",
      "savefig(savepath + '_'.join(titlestr.split())+ '.png')"
     ],
     "language": "python",
     "metadata": {},
     "outputs": [],
     "prompt_number": 21
    },
    {
     "cell_type": "code",
     "collapsed": false,
     "input": [
      "chdata.std()"
     ],
     "language": "python",
     "metadata": {},
     "outputs": [
      {
       "output_type": "pyout",
       "prompt_number": 88,
       "text": [
        "1     123.710130\n",
        "2     123.909427\n",
        "3     124.486951\n",
        "4     124.780748\n",
        "5     124.876320\n",
        "6     124.765034\n",
        "7     125.364930\n",
        "8     124.508905\n",
        "9     126.021836\n",
        "10    124.890776\n",
        "11    125.438755\n",
        "12    127.476468\n",
        "13    127.484489\n",
        "14    129.265663\n",
        "15    128.511820\n",
        "16    128.120244\n",
        "17    128.801312\n",
        "18    128.431273\n",
        "19    128.159896\n",
        "20    128.577389\n",
        "21    129.175672\n",
        "dtype: float64"
       ]
      }
     ],
     "prompt_number": 88
    },
    {
     "cell_type": "code",
     "collapsed": false,
     "input": [
      "chdata = chdata.resample('10s')"
     ],
     "language": "python",
     "metadata": {},
     "outputs": [],
     "prompt_number": 67
    },
    {
     "cell_type": "code",
     "collapsed": false,
     "input": [
      "chmedian = chdata.apply(lambda x: x - x.median(), axis=1)\n",
      "chmean = chdata.apply(lambda x: x - x.mean(), axis=1)"
     ],
     "language": "python",
     "metadata": {},
     "outputs": [],
     "prompt_number": 68
    },
    {
     "cell_type": "code",
     "collapsed": false,
     "input": [
      "figure()\n",
      "for i in range(2,12):\n",
      "    chmedian[ch2study+'_'+str(i).zfill(2)].plot(style='r')\n",
      "for i in range(12,22):\n",
      "    chmedian[ch2study+'_'+str(i).zfill(2)].plot(style='g')\n",
      "chmedian[ch2study+'_01'].plot(style='c')\n",
      "legend(ncol=5)\n",
      "titlestr = ch2study + ' Tb Deviations from mean detector sides sorted'\n",
      "title(titlestr)\n",
      "savefig(savepath +'_'.join(titlestr.split())+'.png')"
     ],
     "language": "python",
     "metadata": {},
     "outputs": [
      {
       "ename": "KeyError",
       "evalue": "u'no item named b3_02'",
       "output_type": "pyerr",
       "traceback": [
        "---------------------------------------------------------------------------\nKeyError                                  Traceback (most recent call last)",
        "<ipython-input-50-b374635c330b> in <module>()\n      1 figure()\n      2 for i in range(2,12):\n----> 3     chmedian[ch2study+'_'+str(i).zfill(2)].plot(style='r')\n      4 for i in range(12,22):\n      5     chmedian[ch2study+'_'+str(i).zfill(2)].plot(style='g')\n",
        "/Library/Frameworks/EPD64.framework/Versions/7.3/lib/python2.7/site-packages/pandas-0.11.0-py2.7-macosx-10.5-x86_64.egg/pandas/core/frame.pyc in __getitem__(self, key)\n   1926         else:\n   1927             # get column\n-> 1928             return self._get_item_cache(key)\n   1929 \n   1930     def _getitem_slice(self, key):\n",
        "/Library/Frameworks/EPD64.framework/Versions/7.3/lib/python2.7/site-packages/pandas-0.11.0-py2.7-macosx-10.5-x86_64.egg/pandas/core/generic.pyc in _get_item_cache(self, item)\n    568             return cache[item]\n    569         except Exception:\n--> 570             values = self._data.get(item)\n    571             res = self._box_item_values(item, values)\n    572             cache[item] = res\n",
        "/Library/Frameworks/EPD64.framework/Versions/7.3/lib/python2.7/site-packages/pandas-0.11.0-py2.7-macosx-10.5-x86_64.egg/pandas/core/internals.pyc in get(self, item)\n   1381 \n   1382     def get(self, item):\n-> 1383         _, block = self._find_block(item)\n   1384         return block.get(item)\n   1385 \n",
        "/Library/Frameworks/EPD64.framework/Versions/7.3/lib/python2.7/site-packages/pandas-0.11.0-py2.7-macosx-10.5-x86_64.egg/pandas/core/internals.pyc in _find_block(self, item)\n   1523 \n   1524     def _find_block(self, item):\n-> 1525         self._check_have(item)\n   1526         for i, block in enumerate(self.blocks):\n   1527             if item in block:\n",
        "/Library/Frameworks/EPD64.framework/Versions/7.3/lib/python2.7/site-packages/pandas-0.11.0-py2.7-macosx-10.5-x86_64.egg/pandas/core/internals.pyc in _check_have(self, item)\n   1530     def _check_have(self, item):\n   1531         if item not in self.items:\n-> 1532             raise KeyError('no item named %s' % com.pprint_thing(item))\n   1533 \n   1534     def reindex_axis(self, new_axis, method=None, axis=0, copy=True):\n",
        "KeyError: u'no item named b3_02'"
       ]
      }
     ],
     "prompt_number": 50
    },
    {
     "cell_type": "code",
     "collapsed": false,
     "input": [
      "figure()\n",
      "for i in range(2,12):\n",
      "    chmedian[i].plot(style='r')\n",
      "for i in range(12,22):\n",
      "    chmedian[i].plot(style='g')\n",
      "chmedian[1].plot(style='c')\n",
      "legend(ncol=5)\n",
      "titlestr = ch2study + ' Tb Deviations from median detector with sides sorted'\n",
      "title(titlestr)\n",
      "savefig(savepath +'_'.join(titlestr.split())+'.png')"
     ],
     "language": "python",
     "metadata": {},
     "outputs": [],
     "prompt_number": 52
    },
    {
     "cell_type": "code",
     "collapsed": false,
     "input": [
      "import pandas as pd"
     ],
     "language": "python",
     "metadata": {},
     "outputs": [],
     "prompt_number": 7
    },
    {
     "cell_type": "code",
     "collapsed": false,
     "input": [
      "pd.set_option('display.width',1000)"
     ],
     "language": "python",
     "metadata": {},
     "outputs": [],
     "prompt_number": 36
    },
    {
     "cell_type": "code",
     "collapsed": false,
     "input": [
      "chmedian.head()"
     ],
     "language": "python",
     "metadata": {},
     "outputs": [
      {
       "html": [
        "<pre>\n",
        "&ltclass 'pandas.core.frame.DataFrame'&gt\n",
        "DatetimeIndex: 5 entries, 2011-04-01 22:00:10 to 2011-04-01 22:00:50\n",
        "Freq: 10S\n",
        "Data columns (total 21 columns):\n",
        "b3_01    5  non-null values\n",
        "b3_02    5  non-null values\n",
        "b3_03    5  non-null values\n",
        "b3_04    5  non-null values\n",
        "b3_05    5  non-null values\n",
        "b3_06    5  non-null values\n",
        "b3_07    5  non-null values\n",
        "b3_08    5  non-null values\n",
        "b3_09    5  non-null values\n",
        "b3_10    5  non-null values\n",
        "b3_11    5  non-null values\n",
        "b3_12    5  non-null values\n",
        "b3_13    5  non-null values\n",
        "b3_14    5  non-null values\n",
        "b3_15    5  non-null values\n",
        "b3_16    5  non-null values\n",
        "b3_17    5  non-null values\n",
        "b3_18    5  non-null values\n",
        "b3_19    5  non-null values\n",
        "b3_20    5  non-null values\n",
        "b3_21    5  non-null values\n",
        "dtypes: float64(21)\n",
        "</pre>"
       ],
       "output_type": "pyout",
       "prompt_number": 37,
       "text": [
        "                        b3_01     b3_02     b3_03     b3_04     b3_05     b3_06     b3_07     b3_08     b3_09     b3_10     b3_11     b3_12     b3_13     b3_14     b3_15     b3_16     b3_17     b3_18     b3_19     b3_20     b3_21\n",
        "2011-04-01 22:00:10  1.370840  0.883753  1.941094 -0.852524  0.372208 -0.747456 -0.087767 -2.095837 -1.397581 -0.842219 -0.316643  0.665930 -0.201578  1.608634  2.790031  0.371715  0.000000  0.503469  0.238423 -1.705008 -1.826627\n",
        "2011-04-01 22:00:20 -0.855668 -0.347845  2.816139  1.321440  2.313399  1.249696  2.696910  0.000000  1.371259  0.029606  0.477262  0.170738 -1.474589  0.045045 -0.237203 -2.213576 -2.866658 -4.414728 -5.269616 -8.185800 -8.580739\n",
        "2011-04-01 22:00:30 -2.910527 -2.006715  1.451321  0.080295  0.384538  0.701244  1.732561  0.000000  0.297268  0.228939 -0.188759  0.655354 -0.469530  0.872274  1.016915 -0.448100 -0.723203 -1.349849 -2.475007 -4.947030 -4.691400\n",
        "2011-04-01 22:00:40  0.388873  1.248434  3.649530  1.556274  2.531427  1.371344  2.629285 -0.075500  0.000000  0.172433  0.121426  0.142908 -1.614286 -0.748859 -1.461369 -2.981731 -4.105227 -4.407841 -6.152468 -8.189587 -8.115491\n",
        "2011-04-01 22:00:50 -3.189145 -3.239224  0.224877 -1.702957 -0.148768 -0.780308  0.924535 -1.380250  0.609456  0.469337  0.897979  1.084285  0.000000  1.174981  1.144422  0.508774  0.321592 -0.736399 -1.306299 -3.267161 -3.774901"
       ]
      }
     ],
     "prompt_number": 37
    },
    {
     "cell_type": "code",
     "collapsed": false,
     "input": [
      "chmedian = chmedian.rename(columns=lambda x:int(x[3:]))"
     ],
     "language": "python",
     "metadata": {},
     "outputs": [],
     "prompt_number": 69
    },
    {
     "cell_type": "code",
     "collapsed": false,
     "input": [
      "figure()\n",
      "chmedian.idxmax(axis=1).plot(style='.')\n",
      "xlabel('Time [UTC]')\n",
      "ylabel('Detector number')\n",
      "tstr = 'Which detector shows the largest deviation from the median'\n",
      "title(tstr)\n",
      "savefig(savepath + '_'.join(tstr.split()) + '.png')"
     ],
     "language": "python",
     "metadata": {},
     "outputs": [],
     "prompt_number": 72
    },
    {
     "cell_type": "code",
     "collapsed": false,
     "input": [
      "chmean = chmean.rename(columns=lambda x:int(x[3:]))"
     ],
     "language": "python",
     "metadata": {},
     "outputs": [],
     "prompt_number": 70
    },
    {
     "cell_type": "code",
     "collapsed": false,
     "input": [
      "chmean.idxmax(axis=1).plot(style='.')"
     ],
     "language": "python",
     "metadata": {},
     "outputs": [
      {
       "output_type": "pyout",
       "prompt_number": 49,
       "text": [
        "<matplotlib.axes.AxesSubplot at 0x119808b50>"
       ]
      }
     ],
     "prompt_number": 49
    },
    {
     "cell_type": "code",
     "collapsed": false,
     "input": [
      "chmedian.plot(style='.')"
     ],
     "language": "python",
     "metadata": {},
     "outputs": [
      {
       "output_type": "pyout",
       "prompt_number": 78,
       "text": [
        "<matplotlib.axes.AxesSubplot at 0x1124be350>"
       ]
      }
     ],
     "prompt_number": 78
    },
    {
     "cell_type": "code",
     "collapsed": false,
     "input": [
      "print repr(f.readline())"
     ],
     "language": "python",
     "metadata": {},
     "outputs": [
      {
       "output_type": "stream",
       "stream": "stdout",
       "text": [
        "'          4.000000000         42.000000000         48.409999847          1.000000000        286.545989990\\n'\n"
       ]
      }
     ],
     "prompt_number": 148
    },
    {
     "cell_type": "code",
     "collapsed": false,
     "input": [
      "import pandas as pd"
     ],
     "language": "python",
     "metadata": {},
     "outputs": [],
     "prompt_number": 20
    },
    {
     "cell_type": "code",
     "collapsed": false,
     "input": [
      "divdata = pd.io.parsers.read_csv('/Users/maye/data/diviner/hot_orbit_ch9.txt',sep=r'\\s*',names=['year','month','date','hour','minute','second','det','tb','qca'])"
     ],
     "language": "python",
     "metadata": {},
     "outputs": [],
     "prompt_number": 21
    },
    {
     "cell_type": "code",
     "collapsed": false,
     "input": [
      "from diviner import file_utils as fu"
     ],
     "language": "python",
     "metadata": {},
     "outputs": [],
     "prompt_number": 22
    },
    {
     "cell_type": "code",
     "collapsed": false,
     "input": [
      "df = fu.index_by_time(divdata)"
     ],
     "language": "python",
     "metadata": {},
     "outputs": [],
     "prompt_number": 23
    },
    {
     "cell_type": "code",
     "collapsed": false,
     "input": [
      "df.qca.value_counts()"
     ],
     "language": "python",
     "metadata": {},
     "outputs": [
      {
       "output_type": "pyout",
       "prompt_number": 27,
       "text": [
        "1    154476\n",
        "dtype: int64"
       ]
      }
     ],
     "prompt_number": 27
    },
    {
     "cell_type": "code",
     "collapsed": false,
     "input": [
      "df = df.reset_index()"
     ],
     "language": "python",
     "metadata": {},
     "outputs": [],
     "prompt_number": 29
    },
    {
     "cell_type": "code",
     "collapsed": false,
     "input": [
      "df"
     ],
     "language": "python",
     "metadata": {},
     "outputs": [
      {
       "html": [
        "<pre>\n",
        "&ltclass 'pandas.core.frame.DataFrame'&gt\n",
        "Int64Index: 154476 entries, 0 to 154475\n",
        "Data columns (total 4 columns):\n",
        "index    154476  non-null values\n",
        "det      154476  non-null values\n",
        "tb       154476  non-null values\n",
        "qca      154476  non-null values\n",
        "dtypes: datetime64[ns](1), float64(3)\n",
        "</pre>"
       ],
       "output_type": "pyout",
       "prompt_number": 30,
       "text": [
        "<class 'pandas.core.frame.DataFrame'>\n",
        "Int64Index: 154476 entries, 0 to 154475\n",
        "Data columns (total 4 columns):\n",
        "index    154476  non-null values\n",
        "det      154476  non-null values\n",
        "tb       154476  non-null values\n",
        "qca      154476  non-null values\n",
        "dtypes: datetime64[ns](1), float64(3)"
       ]
      }
     ],
     "prompt_number": 30
    },
    {
     "cell_type": "code",
     "collapsed": false,
     "input": [
      "df = df.pivot(index='index',columns='det',values='tb')"
     ],
     "language": "python",
     "metadata": {},
     "outputs": [],
     "prompt_number": 31
    },
    {
     "cell_type": "code",
     "collapsed": false,
     "input": [
      "figure()\n",
      "df.boxplot()"
     ],
     "language": "python",
     "metadata": {},
     "outputs": [
      {
       "output_type": "pyout",
       "prompt_number": 33,
       "text": [
        "{'boxes': [<matplotlib.lines.Line2D at 0x1190a67d0>,\n",
        "  <matplotlib.lines.Line2D at 0x1190acfd0>,\n",
        "  <matplotlib.lines.Line2D at 0x1190b6810>,\n",
        "  <matplotlib.lines.Line2D at 0x1190bf050>,\n",
        "  <matplotlib.lines.Line2D at 0x1190c5850>,\n",
        "  <matplotlib.lines.Line2D at 0x11904e090>,\n",
        "  <matplotlib.lines.Line2D at 0x119056890>,\n",
        "  <matplotlib.lines.Line2D at 0x11905f0d0>,\n",
        "  <matplotlib.lines.Line2D at 0x1190678d0>,\n",
        "  <matplotlib.lines.Line2D at 0x11906f110>,\n",
        "  <matplotlib.lines.Line2D at 0x119077910>,\n",
        "  <matplotlib.lines.Line2D at 0x119080150>,\n",
        "  <matplotlib.lines.Line2D at 0x119087950>,\n",
        "  <matplotlib.lines.Line2D at 0x119010190>,\n",
        "  <matplotlib.lines.Line2D at 0x119016990>,\n",
        "  <matplotlib.lines.Line2D at 0x1190201d0>,\n",
        "  <matplotlib.lines.Line2D at 0x1190279d0>,\n",
        "  <matplotlib.lines.Line2D at 0x119030210>,\n",
        "  <matplotlib.lines.Line2D at 0x119037a10>,\n",
        "  <matplotlib.lines.Line2D at 0x119040250>,\n",
        "  <matplotlib.lines.Line2D at 0x119047a50>],\n",
        " 'caps': [<matplotlib.lines.Line2D at 0x1190a3d90>,\n",
        "  <matplotlib.lines.Line2D at 0x1190a62d0>,\n",
        "  <matplotlib.lines.Line2D at 0x1190ac5d0>,\n",
        "  <matplotlib.lines.Line2D at 0x1190acad0>,\n",
        "  <matplotlib.lines.Line2D at 0x1190b2dd0>,\n",
        "  <matplotlib.lines.Line2D at 0x1190b6310>,\n",
        "  <matplotlib.lines.Line2D at 0x1190bc610>,\n",
        "  <matplotlib.lines.Line2D at 0x1190bcb10>,\n",
        "  <matplotlib.lines.Line2D at 0x1190c2e10>,\n",
        "  <matplotlib.lines.Line2D at 0x1190c5350>,\n",
        "  <matplotlib.lines.Line2D at 0x11904c650>,\n",
        "  <matplotlib.lines.Line2D at 0x11904cb50>,\n",
        "  <matplotlib.lines.Line2D at 0x119052e50>,\n",
        "  <matplotlib.lines.Line2D at 0x119056390>,\n",
        "  <matplotlib.lines.Line2D at 0x11905c690>,\n",
        "  <matplotlib.lines.Line2D at 0x11905cb90>,\n",
        "  <matplotlib.lines.Line2D at 0x119062e90>,\n",
        "  <matplotlib.lines.Line2D at 0x1190673d0>,\n",
        "  <matplotlib.lines.Line2D at 0x11906d6d0>,\n",
        "  <matplotlib.lines.Line2D at 0x11906dbd0>,\n",
        "  <matplotlib.lines.Line2D at 0x119073ed0>,\n",
        "  <matplotlib.lines.Line2D at 0x119077410>,\n",
        "  <matplotlib.lines.Line2D at 0x11907c710>,\n",
        "  <matplotlib.lines.Line2D at 0x11907cc10>,\n",
        "  <matplotlib.lines.Line2D at 0x119082f10>,\n",
        "  <matplotlib.lines.Line2D at 0x119087450>,\n",
        "  <matplotlib.lines.Line2D at 0x11900d750>,\n",
        "  <matplotlib.lines.Line2D at 0x11900dc50>,\n",
        "  <matplotlib.lines.Line2D at 0x119013f50>,\n",
        "  <matplotlib.lines.Line2D at 0x119016490>,\n",
        "  <matplotlib.lines.Line2D at 0x11901d790>,\n",
        "  <matplotlib.lines.Line2D at 0x11901dc90>,\n",
        "  <matplotlib.lines.Line2D at 0x119022f90>,\n",
        "  <matplotlib.lines.Line2D at 0x1190274d0>,\n",
        "  <matplotlib.lines.Line2D at 0x11902e7d0>,\n",
        "  <matplotlib.lines.Line2D at 0x11902ecd0>,\n",
        "  <matplotlib.lines.Line2D at 0x119032fd0>,\n",
        "  <matplotlib.lines.Line2D at 0x119037510>,\n",
        "  <matplotlib.lines.Line2D at 0x11903f810>,\n",
        "  <matplotlib.lines.Line2D at 0x11903fd10>,\n",
        "  <matplotlib.lines.Line2D at 0x119047050>,\n",
        "  <matplotlib.lines.Line2D at 0x119047550>],\n",
        " 'fliers': [<matplotlib.lines.Line2D at 0x1190a8210>,\n",
        "  <matplotlib.lines.Line2D at 0x1190a8990>,\n",
        "  <matplotlib.lines.Line2D at 0x1190b0a10>,\n",
        "  <matplotlib.lines.Line2D at 0x1190b21d0>,\n",
        "  <matplotlib.lines.Line2D at 0x1190b8250>,\n",
        "  <matplotlib.lines.Line2D at 0x1190b89d0>,\n",
        "  <matplotlib.lines.Line2D at 0x1190bfa50>,\n",
        "  <matplotlib.lines.Line2D at 0x1190c2210>,\n",
        "  <matplotlib.lines.Line2D at 0x1190c7290>,\n",
        "  <matplotlib.lines.Line2D at 0x1190c7a10>,\n",
        "  <matplotlib.lines.Line2D at 0x11904ea90>,\n",
        "  <matplotlib.lines.Line2D at 0x119052250>,\n",
        "  <matplotlib.lines.Line2D at 0x1190592d0>,\n",
        "  <matplotlib.lines.Line2D at 0x119059a50>,\n",
        "  <matplotlib.lines.Line2D at 0x11905fad0>,\n",
        "  <matplotlib.lines.Line2D at 0x119062290>,\n",
        "  <matplotlib.lines.Line2D at 0x119069310>,\n",
        "  <matplotlib.lines.Line2D at 0x119069a90>,\n",
        "  <matplotlib.lines.Line2D at 0x11906fb10>,\n",
        "  <matplotlib.lines.Line2D at 0x1190732d0>,\n",
        "  <matplotlib.lines.Line2D at 0x119079350>,\n",
        "  <matplotlib.lines.Line2D at 0x119079ad0>,\n",
        "  <matplotlib.lines.Line2D at 0x119080b50>,\n",
        "  <matplotlib.lines.Line2D at 0x119082310>,\n",
        "  <matplotlib.lines.Line2D at 0x11908a390>,\n",
        "  <matplotlib.lines.Line2D at 0x11908ab10>,\n",
        "  <matplotlib.lines.Line2D at 0x119010b90>,\n",
        "  <matplotlib.lines.Line2D at 0x119013350>,\n",
        "  <matplotlib.lines.Line2D at 0x11901a3d0>,\n",
        "  <matplotlib.lines.Line2D at 0x11901ab50>,\n",
        "  <matplotlib.lines.Line2D at 0x119020bd0>,\n",
        "  <matplotlib.lines.Line2D at 0x119022390>,\n",
        "  <matplotlib.lines.Line2D at 0x119029410>,\n",
        "  <matplotlib.lines.Line2D at 0x119029b90>,\n",
        "  <matplotlib.lines.Line2D at 0x119030c10>,\n",
        "  <matplotlib.lines.Line2D at 0x1190323d0>,\n",
        "  <matplotlib.lines.Line2D at 0x11903a450>,\n",
        "  <matplotlib.lines.Line2D at 0x11903abd0>,\n",
        "  <matplotlib.lines.Line2D at 0x119040c50>,\n",
        "  <matplotlib.lines.Line2D at 0x119044410>,\n",
        "  <matplotlib.lines.Line2D at 0x11904a490>,\n",
        "  <matplotlib.lines.Line2D at 0x11904ac10>],\n",
        " 'medians': [<matplotlib.lines.Line2D at 0x1190a6cd0>,\n",
        "  <matplotlib.lines.Line2D at 0x1190b0510>,\n",
        "  <matplotlib.lines.Line2D at 0x1190b6d10>,\n",
        "  <matplotlib.lines.Line2D at 0x1190bf550>,\n",
        "  <matplotlib.lines.Line2D at 0x1190c5d50>,\n",
        "  <matplotlib.lines.Line2D at 0x11904e590>,\n",
        "  <matplotlib.lines.Line2D at 0x119056d90>,\n",
        "  <matplotlib.lines.Line2D at 0x11905f5d0>,\n",
        "  <matplotlib.lines.Line2D at 0x119067dd0>,\n",
        "  <matplotlib.lines.Line2D at 0x11906f610>,\n",
        "  <matplotlib.lines.Line2D at 0x119077e10>,\n",
        "  <matplotlib.lines.Line2D at 0x119080650>,\n",
        "  <matplotlib.lines.Line2D at 0x119087e50>,\n",
        "  <matplotlib.lines.Line2D at 0x119010690>,\n",
        "  <matplotlib.lines.Line2D at 0x119016e90>,\n",
        "  <matplotlib.lines.Line2D at 0x1190206d0>,\n",
        "  <matplotlib.lines.Line2D at 0x119027ed0>,\n",
        "  <matplotlib.lines.Line2D at 0x119030710>,\n",
        "  <matplotlib.lines.Line2D at 0x119037f10>,\n",
        "  <matplotlib.lines.Line2D at 0x119040750>,\n",
        "  <matplotlib.lines.Line2D at 0x119047f50>],\n",
        " 'whiskers': [<matplotlib.lines.Line2D at 0x1190a3610>,\n",
        "  <matplotlib.lines.Line2D at 0x1190a3810>,\n",
        "  <matplotlib.lines.Line2D at 0x1190a8b90>,\n",
        "  <matplotlib.lines.Line2D at 0x1190ac0d0>,\n",
        "  <matplotlib.lines.Line2D at 0x1190b23d0>,\n",
        "  <matplotlib.lines.Line2D at 0x1190b28d0>,\n",
        "  <matplotlib.lines.Line2D at 0x1190b8bd0>,\n",
        "  <matplotlib.lines.Line2D at 0x1190bc110>,\n",
        "  <matplotlib.lines.Line2D at 0x1190c26d0>,\n",
        "  <matplotlib.lines.Line2D at 0x1190c2910>,\n",
        "  <matplotlib.lines.Line2D at 0x1190c7ed0>,\n",
        "  <matplotlib.lines.Line2D at 0x11904c150>,\n",
        "  <matplotlib.lines.Line2D at 0x119052710>,\n",
        "  <matplotlib.lines.Line2D at 0x119052950>,\n",
        "  <matplotlib.lines.Line2D at 0x119059f10>,\n",
        "  <matplotlib.lines.Line2D at 0x11905c190>,\n",
        "  <matplotlib.lines.Line2D at 0x119062750>,\n",
        "  <matplotlib.lines.Line2D at 0x119062990>,\n",
        "  <matplotlib.lines.Line2D at 0x119069f50>,\n",
        "  <matplotlib.lines.Line2D at 0x11906d1d0>,\n",
        "  <matplotlib.lines.Line2D at 0x119073790>,\n",
        "  <matplotlib.lines.Line2D at 0x1190739d0>,\n",
        "  <matplotlib.lines.Line2D at 0x119079f90>,\n",
        "  <matplotlib.lines.Line2D at 0x11907c210>,\n",
        "  <matplotlib.lines.Line2D at 0x1190827d0>,\n",
        "  <matplotlib.lines.Line2D at 0x119082a10>,\n",
        "  <matplotlib.lines.Line2D at 0x11908afd0>,\n",
        "  <matplotlib.lines.Line2D at 0x11900d250>,\n",
        "  <matplotlib.lines.Line2D at 0x119013810>,\n",
        "  <matplotlib.lines.Line2D at 0x119013a50>,\n",
        "  <matplotlib.lines.Line2D at 0x11901d050>,\n",
        "  <matplotlib.lines.Line2D at 0x11901d290>,\n",
        "  <matplotlib.lines.Line2D at 0x119022850>,\n",
        "  <matplotlib.lines.Line2D at 0x119022a90>,\n",
        "  <matplotlib.lines.Line2D at 0x11902e090>,\n",
        "  <matplotlib.lines.Line2D at 0x11902e2d0>,\n",
        "  <matplotlib.lines.Line2D at 0x119032890>,\n",
        "  <matplotlib.lines.Line2D at 0x119032ad0>,\n",
        "  <matplotlib.lines.Line2D at 0x11903f0d0>,\n",
        "  <matplotlib.lines.Line2D at 0x11903f310>,\n",
        "  <matplotlib.lines.Line2D at 0x1190448d0>,\n",
        "  <matplotlib.lines.Line2D at 0x119044b10>]}"
       ]
      }
     ],
     "prompt_number": 33
    },
    {
     "cell_type": "code",
     "collapsed": false,
     "input": [
      "figure()\n",
      "imshow(df.values.T,interpolation='none',aspect='auto')\n",
      "colorbar()"
     ],
     "language": "python",
     "metadata": {},
     "outputs": [
      {
       "output_type": "pyout",
       "prompt_number": 178,
       "text": [
        "<matplotlib.colorbar.Colorbar instance at 0x13566f248>"
       ]
      }
     ],
     "prompt_number": 178
    },
    {
     "cell_type": "code",
     "collapsed": false,
     "input": [
      "imshow(chdata.values.T, interpolation='none',aspect='auto')\n",
      "colorbar()"
     ],
     "language": "python",
     "metadata": {},
     "outputs": [
      {
       "output_type": "pyout",
       "prompt_number": 177,
       "text": [
        "<matplotlib.colorbar.Colorbar instance at 0x119daac68>"
       ]
      }
     ],
     "prompt_number": 177
    },
    {
     "cell_type": "code",
     "collapsed": false,
     "input": [
      "chdata[1].plot()"
     ],
     "language": "python",
     "metadata": {},
     "outputs": [
      {
       "output_type": "pyout",
       "prompt_number": 179,
       "text": [
        "<matplotlib.axes.AxesSubplot at 0x142aa9690>"
       ]
      }
     ],
     "prompt_number": 179
    },
    {
     "cell_type": "code",
     "collapsed": false,
     "input": [
      "df.plot(style='.')"
     ],
     "language": "python",
     "metadata": {},
     "outputs": [
      {
       "output_type": "pyout",
       "prompt_number": 34,
       "text": [
        "<matplotlib.axes.AxesSubplot at 0x10f1924d0>"
       ]
      }
     ],
     "prompt_number": 34
    },
    {
     "cell_type": "code",
     "collapsed": false,
     "input": [
      "chdata.plot(style='.')"
     ],
     "language": "python",
     "metadata": {},
     "outputs": [
      {
       "output_type": "pyout",
       "prompt_number": 35,
       "text": [
        "<matplotlib.axes.AxesSubplot at 0x1123ac910>"
       ]
      }
     ],
     "prompt_number": 35
    },
    {
     "cell_type": "code",
     "collapsed": false,
     "input": [],
     "language": "python",
     "metadata": {},
     "outputs": []
    }
   ],
   "metadata": {}
  }
 ]
}