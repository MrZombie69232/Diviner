{
 "metadata": {
  "name": ""
 },
 "nbformat": 3,
 "nbformat_minor": 0,
 "worksheets": [
  {
   "cells": [
    {
     "cell_type": "code",
     "collapsed": false,
     "input": [
      "from diviner import calib, file_utils as fu, plot_utils as pu\n",
      "reload(calib)"
     ],
     "language": "python",
     "metadata": {},
     "outputs": [
      {
       "metadata": {},
       "output_type": "pyout",
       "prompt_number": 125,
       "text": [
        "<module 'diviner.calib' from '/Users/maye/Dropbox/src/diviner/calib.py'>"
       ]
      }
     ],
     "prompt_number": 125
    },
    {
     "cell_type": "code",
     "collapsed": false,
     "input": [
      "tstr = '2013030512'#'2012012414'\n",
      "l1a = fu.L1ADataFile.from_timestr(tstr)\n",
      "df = l1a.open()\n",
      "l1a.fname"
     ],
     "language": "python",
     "metadata": {},
     "outputs": [
      {
       "metadata": {},
       "output_type": "pyout",
       "prompt_number": 126,
       "text": [
        "'/Users/maye/data/diviner/l1a_data/2013030512_L1A.TAB'"
       ]
      }
     ],
     "prompt_number": 126
    },
    {
     "cell_type": "code",
     "collapsed": false,
     "input": [
      "c = calib.Calibrator(df)"
     ],
     "language": "python",
     "metadata": {},
     "outputs": [],
     "prompt_number": 119
    },
    {
     "cell_type": "code",
     "collapsed": false,
     "input": [
      "%timeit c.calibrate()"
     ],
     "language": "python",
     "metadata": {},
     "outputs": [
      {
       "output_type": "stream",
       "stream": "stdout",
       "text": [
        "1 loops, best of 3: 1.54 s per loop\n"
       ]
      }
     ],
     "prompt_number": 120
    },
    {
     "cell_type": "code",
     "collapsed": false,
     "input": [
      "c.calc_offsets2()"
     ],
     "language": "python",
     "metadata": {},
     "outputs": [],
     "prompt_number": 121
    },
    {
     "cell_type": "code",
     "collapsed": false,
     "input": [
      "all(c.offsets == c.offsets2)"
     ],
     "language": "python",
     "metadata": {},
     "outputs": [
      {
       "metadata": {},
       "output_type": "pyout",
       "prompt_number": 124,
       "text": [
        "True"
       ]
      }
     ],
     "prompt_number": 124
    },
    {
     "cell_type": "code",
     "collapsed": false,
     "input": [
      "c.calc_offsets = c.calc_offsets2"
     ],
     "language": "python",
     "metadata": {},
     "outputs": [],
     "prompt_number": 117
    },
    {
     "cell_type": "code",
     "collapsed": false,
     "input": [
      "%timeit c.calibrate()"
     ],
     "language": "python",
     "metadata": {},
     "outputs": [
      {
       "output_type": "stream",
       "stream": "stdout",
       "text": [
        "1 loops, best of 3: 1.51 s per loop\n"
       ]
      }
     ],
     "prompt_number": 118
    },
    {
     "cell_type": "code",
     "collapsed": false,
     "input": [
      "func1 = lambda x: calib.CalBlock(x, c.SV_NUM_SKIP_SAMPLE).mean_time\n",
      "func2 = lambda x: calib.CalBlock(x, c.SV_NUM_SKIP_SAMPLE).offsets\n",
      "def get_offsets(group):\n",
      "    cb = calib.CalBlock(group, c.SV_NUM_SKIP_SAMPLE)\n",
      "    offsets = cb.offsets\n",
      "    newdf = pd.DataFrame(offsets).T\n",
      "    newdf.index = [cb.mean_time]\n",
      "#     return pd.DataFrame(offsets, index=[cb.mean_time])\n",
      "    return newdf\n",
      "grouped = c.caldata.groupby(c.df.calib_block_labels, as_index=False)\n",
      "grouped.apply(get_offsets)"
     ],
     "language": "python",
     "metadata": {},
     "outputs": [
      {
       "html": [
        "<div style=\"max-height:1000px;max-width:1500px;overflow:auto;\">\n",
        "<table border=\"1\" class=\"dataframe\">\n",
        "  <thead>\n",
        "    <tr style=\"text-align: right;\">\n",
        "      <th></th>\n",
        "      <th>a1_01</th>\n",
        "      <th>a1_02</th>\n",
        "      <th>a1_03</th>\n",
        "      <th>a1_04</th>\n",
        "      <th>a1_05</th>\n",
        "      <th>a1_06</th>\n",
        "      <th>a1_07</th>\n",
        "      <th>a1_08</th>\n",
        "      <th>a1_09</th>\n",
        "      <th>a1_10</th>\n",
        "      <th>a1_11</th>\n",
        "      <th>a1_12</th>\n",
        "      <th>a1_13</th>\n",
        "      <th>a1_14</th>\n",
        "      <th>a1_15</th>\n",
        "      <th>a1_16</th>\n",
        "      <th>a1_17</th>\n",
        "      <th>a1_18</th>\n",
        "      <th>a1_19</th>\n",
        "      <th>a1_20</th>\n",
        "      <th></th>\n",
        "    </tr>\n",
        "  </thead>\n",
        "  <tbody>\n",
        "    <tr>\n",
        "      <th>2013-03-05 12:04:02.551000</th>\n",
        "      <td> 22375.820312</td>\n",
        "      <td> 22334.789062</td>\n",
        "      <td> 22331.328125</td>\n",
        "      <td> 22344.351562</td>\n",
        "      <td> 22367.585938</td>\n",
        "      <td> 22361.960938</td>\n",
        "      <td> 22409.929688</td>\n",
        "      <td> 22395.625000</td>\n",
        "      <td> 22390.375000</td>\n",
        "      <td> 22408.171875</td>\n",
        "      <td> 22437.250000</td>\n",
        "      <td> 22400.656250</td>\n",
        "      <td> 22332.929688</td>\n",
        "      <td> 22396.820312</td>\n",
        "      <td> 22436.585938</td>\n",
        "      <td> 22413.390625</td>\n",
        "      <td> 22346.203125</td>\n",
        "      <td> 22352.390625</td>\n",
        "      <td> 22392.640625</td>\n",
        "      <td> 22348.484375</td>\n",
        "      <td>...</td>\n",
        "    </tr>\n",
        "    <tr>\n",
        "      <th>2013-03-05 12:13:46.242000</th>\n",
        "      <td> 22362.421875</td>\n",
        "      <td> 22317.023438</td>\n",
        "      <td> 22313.828125</td>\n",
        "      <td> 22326.132812</td>\n",
        "      <td> 22349.257812</td>\n",
        "      <td> 22344.671875</td>\n",
        "      <td> 22391.781250</td>\n",
        "      <td> 22378.109375</td>\n",
        "      <td> 22372.984375</td>\n",
        "      <td> 22391.578125</td>\n",
        "      <td> 22421.242188</td>\n",
        "      <td> 22384.414062</td>\n",
        "      <td> 22317.132812</td>\n",
        "      <td> 22381.476562</td>\n",
        "      <td> 22421.789062</td>\n",
        "      <td> 22399.492188</td>\n",
        "      <td> 22333.562500</td>\n",
        "      <td> 22340.585938</td>\n",
        "      <td> 22381.585938</td>\n",
        "      <td> 22339.781250</td>\n",
        "      <td>...</td>\n",
        "    </tr>\n",
        "    <tr>\n",
        "      <th>2013-03-05 12:23:21.741000</th>\n",
        "      <td> 22326.562500</td>\n",
        "      <td> 22276.554688</td>\n",
        "      <td> 22271.703125</td>\n",
        "      <td> 22285.156250</td>\n",
        "      <td> 22307.320312</td>\n",
        "      <td> 22302.656250</td>\n",
        "      <td> 22350.437500</td>\n",
        "      <td> 22336.601562</td>\n",
        "      <td> 22332.328125</td>\n",
        "      <td> 22351.804688</td>\n",
        "      <td> 22381.804688</td>\n",
        "      <td> 22344.992188</td>\n",
        "      <td> 22278.218750</td>\n",
        "      <td> 22342.804688</td>\n",
        "      <td> 22383.625000</td>\n",
        "      <td> 22362.203125</td>\n",
        "      <td> 22297.015625</td>\n",
        "      <td> 22305.773438</td>\n",
        "      <td> 22348.148438</td>\n",
        "      <td> 22308.421875</td>\n",
        "      <td>...</td>\n",
        "    </tr>\n",
        "    <tr>\n",
        "      <th>2013-03-05 12:33:07.480000</th>\n",
        "      <td> 22282.109375</td>\n",
        "      <td> 22225.796875</td>\n",
        "      <td> 22220.304688</td>\n",
        "      <td> 22232.914062</td>\n",
        "      <td> 22254.968750</td>\n",
        "      <td> 22250.289062</td>\n",
        "      <td> 22298.398438</td>\n",
        "      <td> 22284.460938</td>\n",
        "      <td> 22281.367188</td>\n",
        "      <td> 22301.906250</td>\n",
        "      <td> 22332.578125</td>\n",
        "      <td> 22296.484375</td>\n",
        "      <td> 22230.453125</td>\n",
        "      <td> 22295.398438</td>\n",
        "      <td> 22336.945312</td>\n",
        "      <td> 22316.171875</td>\n",
        "      <td> 22252.562500</td>\n",
        "      <td> 22263.226562</td>\n",
        "      <td> 22306.343750</td>\n",
        "      <td> 22268.695312</td>\n",
        "      <td>...</td>\n",
        "    </tr>\n",
        "  </tbody>\n",
        "</table>\n",
        "<p>4 rows \u00d7 189 columns</p>\n",
        "</div>"
       ],
       "metadata": {},
       "output_type": "pyout",
       "prompt_number": 106,
       "text": [
        "                                   a1_01         a1_02         a1_03  \\\n",
        "2013-03-05 12:04:02.551000  22375.820312  22334.789062  22331.328125   \n",
        "2013-03-05 12:13:46.242000  22362.421875  22317.023438  22313.828125   \n",
        "2013-03-05 12:23:21.741000  22326.562500  22276.554688  22271.703125   \n",
        "2013-03-05 12:33:07.480000  22282.109375  22225.796875  22220.304688   \n",
        "\n",
        "                                   a1_04         a1_05         a1_06  \\\n",
        "2013-03-05 12:04:02.551000  22344.351562  22367.585938  22361.960938   \n",
        "2013-03-05 12:13:46.242000  22326.132812  22349.257812  22344.671875   \n",
        "2013-03-05 12:23:21.741000  22285.156250  22307.320312  22302.656250   \n",
        "2013-03-05 12:33:07.480000  22232.914062  22254.968750  22250.289062   \n",
        "\n",
        "                                   a1_07         a1_08         a1_09  \\\n",
        "2013-03-05 12:04:02.551000  22409.929688  22395.625000  22390.375000   \n",
        "2013-03-05 12:13:46.242000  22391.781250  22378.109375  22372.984375   \n",
        "2013-03-05 12:23:21.741000  22350.437500  22336.601562  22332.328125   \n",
        "2013-03-05 12:33:07.480000  22298.398438  22284.460938  22281.367188   \n",
        "\n",
        "                                   a1_10         a1_11         a1_12  \\\n",
        "2013-03-05 12:04:02.551000  22408.171875  22437.250000  22400.656250   \n",
        "2013-03-05 12:13:46.242000  22391.578125  22421.242188  22384.414062   \n",
        "2013-03-05 12:23:21.741000  22351.804688  22381.804688  22344.992188   \n",
        "2013-03-05 12:33:07.480000  22301.906250  22332.578125  22296.484375   \n",
        "\n",
        "                                   a1_13         a1_14         a1_15  \\\n",
        "2013-03-05 12:04:02.551000  22332.929688  22396.820312  22436.585938   \n",
        "2013-03-05 12:13:46.242000  22317.132812  22381.476562  22421.789062   \n",
        "2013-03-05 12:23:21.741000  22278.218750  22342.804688  22383.625000   \n",
        "2013-03-05 12:33:07.480000  22230.453125  22295.398438  22336.945312   \n",
        "\n",
        "                                   a1_16         a1_17         a1_18  \\\n",
        "2013-03-05 12:04:02.551000  22413.390625  22346.203125  22352.390625   \n",
        "2013-03-05 12:13:46.242000  22399.492188  22333.562500  22340.585938   \n",
        "2013-03-05 12:23:21.741000  22362.203125  22297.015625  22305.773438   \n",
        "2013-03-05 12:33:07.480000  22316.171875  22252.562500  22263.226562   \n",
        "\n",
        "                                   a1_19         a1_20      \n",
        "2013-03-05 12:04:02.551000  22392.640625  22348.484375 ...  \n",
        "2013-03-05 12:13:46.242000  22381.585938  22339.781250 ...  \n",
        "2013-03-05 12:23:21.741000  22348.148438  22308.421875 ...  \n",
        "2013-03-05 12:33:07.480000  22306.343750  22268.695312 ...  \n",
        "\n",
        "[4 rows x 189 columns]"
       ]
      }
     ],
     "prompt_number": 106
    },
    {
     "cell_type": "code",
     "collapsed": false,
     "input": [
      "pu.plot_all_calib_blocks(df)"
     ],
     "language": "python",
     "metadata": {},
     "outputs": [
      {
       "output_type": "stream",
       "stream": "stdout",
       "text": [
        "Calib block 0 has no caldata.\n",
        "Calib block 5 has no caldata.\n"
       ]
      }
     ],
     "prompt_number": 33
    },
    {
     "cell_type": "code",
     "collapsed": false,
     "input": [
      "groups = calib.get_calib_blocks(df, 'calib')"
     ],
     "language": "python",
     "metadata": {},
     "outputs": [],
     "prompt_number": 18
    },
    {
     "cell_type": "code",
     "collapsed": false,
     "input": [
      "import sys"
     ],
     "language": "python",
     "metadata": {},
     "outputs": [],
     "prompt_number": 24
    },
    {
     "cell_type": "code",
     "collapsed": false,
     "input": [
      "for g,v in groups.iteritems():\n",
      "    print g\n",
      "    sys.stdout.flush()\n",
      "    cb = calib.CalBlock(v)\n",
      "    print cb.mean_time\n",
      "    sys.stdout.flush()"
     ],
     "language": "python",
     "metadata": {},
     "outputs": [
      {
       "output_type": "stream",
       "stream": "stdout",
       "text": [
        "1\n"
       ]
      },
      {
       "output_type": "stream",
       "stream": "stdout",
       "text": [
        "2012-01-24 14:03:21.864000\n"
       ]
      },
      {
       "output_type": "stream",
       "stream": "stdout",
       "text": [
        "2\n"
       ]
      },
      {
       "output_type": "stream",
       "stream": "stdout",
       "text": [
        "2012-01-24 14:13:52.656000\n"
       ]
      },
      {
       "output_type": "stream",
       "stream": "stdout",
       "text": [
        "3\n"
       ]
      },
      {
       "output_type": "stream",
       "stream": "stdout",
       "text": [
        "2012-01-24 14:25:26.937000\n"
       ]
      },
      {
       "output_type": "stream",
       "stream": "stdout",
       "text": [
        "4\n"
       ]
      },
      {
       "ename": "MeanTimeCalcError",
       "evalue": "Problem calculating mean time at hour unknown",
       "output_type": "pyerr",
       "traceback": [
        "\u001b[1;31m---------------------------------------------------------------------------\u001b[0m\n\u001b[1;31mMeanTimeCalcError\u001b[0m                         Traceback (most recent call last)",
        "\u001b[1;32m<ipython-input-27-edf159d3af1a>\u001b[0m in \u001b[0;36m<module>\u001b[1;34m()\u001b[0m\n\u001b[0;32m      3\u001b[0m     \u001b[0msys\u001b[0m\u001b[1;33m.\u001b[0m\u001b[0mstdout\u001b[0m\u001b[1;33m.\u001b[0m\u001b[0mflush\u001b[0m\u001b[1;33m(\u001b[0m\u001b[1;33m)\u001b[0m\u001b[1;33m\u001b[0m\u001b[0m\n\u001b[0;32m      4\u001b[0m     \u001b[0mcb\u001b[0m \u001b[1;33m=\u001b[0m \u001b[0mcalib\u001b[0m\u001b[1;33m.\u001b[0m\u001b[0mCalBlock\u001b[0m\u001b[1;33m(\u001b[0m\u001b[0mv\u001b[0m\u001b[1;33m)\u001b[0m\u001b[1;33m\u001b[0m\u001b[0m\n\u001b[1;32m----> 5\u001b[1;33m     \u001b[1;32mprint\u001b[0m \u001b[0mcb\u001b[0m\u001b[1;33m.\u001b[0m\u001b[0mmean_time\u001b[0m\u001b[1;33m\u001b[0m\u001b[0m\n\u001b[0m\u001b[0;32m      6\u001b[0m     \u001b[0msys\u001b[0m\u001b[1;33m.\u001b[0m\u001b[0mstdout\u001b[0m\u001b[1;33m.\u001b[0m\u001b[0mflush\u001b[0m\u001b[1;33m(\u001b[0m\u001b[1;33m)\u001b[0m\u001b[1;33m\u001b[0m\u001b[0m\n",
        "\u001b[1;32m/u/paige/maye/src/diviner/calib.pyc\u001b[0m in \u001b[0;36mmean_time\u001b[1;34m(self)\u001b[0m\n\u001b[0;32m    308\u001b[0m         \u001b[1;32melif\u001b[0m \u001b[0mself\u001b[0m\u001b[1;33m.\u001b[0m\u001b[0mkind\u001b[0m \u001b[1;33m==\u001b[0m \u001b[1;34m'BOTH'\u001b[0m\u001b[1;33m:\u001b[0m\u001b[1;33m\u001b[0m\u001b[0m\n\u001b[0;32m    309\u001b[0m             \u001b[0mt1\u001b[0m \u001b[1;33m=\u001b[0m \u001b[0mself\u001b[0m\u001b[1;33m.\u001b[0m\u001b[0mst_time\u001b[0m\u001b[1;33m\u001b[0m\u001b[0m\n\u001b[1;32m--> 310\u001b[1;33m             \u001b[0mt2\u001b[0m \u001b[1;33m=\u001b[0m \u001b[0mself\u001b[0m\u001b[1;33m.\u001b[0m\u001b[0mbb_time\u001b[0m\u001b[1;33m\u001b[0m\u001b[0m\n\u001b[0m\u001b[0;32m    311\u001b[0m             \u001b[1;32mif\u001b[0m \u001b[0mt2\u001b[0m \u001b[1;33m>\u001b[0m \u001b[0mt1\u001b[0m\u001b[1;33m:\u001b[0m\u001b[1;33m\u001b[0m\u001b[0m\n\u001b[0;32m    312\u001b[0m                 \u001b[1;32mreturn\u001b[0m \u001b[0mt1\u001b[0m \u001b[1;33m+\u001b[0m \u001b[1;33m(\u001b[0m\u001b[0mt2\u001b[0m \u001b[1;33m-\u001b[0m \u001b[0mt1\u001b[0m\u001b[1;33m)\u001b[0m \u001b[1;33m//\u001b[0m \u001b[1;36m2\u001b[0m\u001b[1;33m\u001b[0m\u001b[0m\n",
        "\u001b[1;32m/u/paige/maye/src/diviner/calib.pyc\u001b[0m in \u001b[0;36mbb_time\u001b[1;34m(self)\u001b[0m\n\u001b[0;32m    290\u001b[0m             \u001b[1;32mraise\u001b[0m \u001b[0mWrongTypeError\u001b[0m\u001b[1;33m(\u001b[0m\u001b[1;34m'BB'\u001b[0m\u001b[1;33m,\u001b[0m \u001b[0mself\u001b[0m\u001b[1;33m.\u001b[0m\u001b[0mkind\u001b[0m\u001b[1;33m)\u001b[0m\u001b[1;33m\u001b[0m\u001b[0m\n\u001b[0;32m    291\u001b[0m         \u001b[0mbbdata\u001b[0m \u001b[1;33m=\u001b[0m \u001b[0mself\u001b[0m\u001b[1;33m.\u001b[0m\u001b[0mdf\u001b[0m\u001b[1;33m[\u001b[0m\u001b[0mself\u001b[0m\u001b[1;33m.\u001b[0m\u001b[0mdf\u001b[0m\u001b[1;33m.\u001b[0m\u001b[0mis_bbview\u001b[0m\u001b[1;33m]\u001b[0m\u001b[1;33m\u001b[0m\u001b[0m\n\u001b[1;32m--> 292\u001b[1;33m         \u001b[1;32mreturn\u001b[0m \u001b[0mget_mean_time\u001b[0m\u001b[1;33m(\u001b[0m\u001b[0mbbdata\u001b[0m\u001b[1;33m,\u001b[0m \u001b[0mself\u001b[0m\u001b[1;33m.\u001b[0m\u001b[0mskip_samples\u001b[0m\u001b[1;33m)\u001b[0m\u001b[1;33m\u001b[0m\u001b[0m\n\u001b[0m\u001b[0;32m    293\u001b[0m \u001b[1;33m\u001b[0m\u001b[0m\n\u001b[0;32m    294\u001b[0m     \u001b[1;33m@\u001b[0m\u001b[0mproperty\u001b[0m\u001b[1;33m\u001b[0m\u001b[0m\n",
        "\u001b[1;32m/u/paige/maye/src/diviner/calib.pyc\u001b[0m in \u001b[0;36mget_mean_time\u001b[1;34m(df_in, skipsamples)\u001b[0m\n\u001b[0;32m    112\u001b[0m         logging.warning('Index not found in get_mean_time. '\n\u001b[0;32m    113\u001b[0m                         'Length of df: {0}'.format(len(df.index)))\n\u001b[1;32m--> 114\u001b[1;33m         \u001b[1;32mraise\u001b[0m \u001b[0mMeanTimeCalcError\u001b[0m\u001b[1;33m(\u001b[0m\u001b[1;34m'unknown'\u001b[0m\u001b[1;33m)\u001b[0m\u001b[1;33m\u001b[0m\u001b[0m\n\u001b[0m\u001b[0;32m    115\u001b[0m         \u001b[1;32mreturn\u001b[0m \u001b[0mnp\u001b[0m\u001b[1;33m.\u001b[0m\u001b[0mnan\u001b[0m\u001b[1;33m\u001b[0m\u001b[0m\n\u001b[0;32m    116\u001b[0m     \u001b[0mt\u001b[0m \u001b[1;33m=\u001b[0m \u001b[0mt1\u001b[0m \u001b[1;33m+\u001b[0m \u001b[1;33m(\u001b[0m\u001b[0mt2\u001b[0m \u001b[1;33m-\u001b[0m \u001b[0mt1\u001b[0m\u001b[1;33m)\u001b[0m \u001b[1;33m//\u001b[0m \u001b[1;36m2\u001b[0m\u001b[1;33m\u001b[0m\u001b[0m\n",
        "\u001b[1;31mMeanTimeCalcError\u001b[0m: Problem calculating mean time at hour unknown"
       ]
      },
      {
       "output_type": "stream",
       "stream": "stdout",
       "text": [
        "Problem with calculating mean time.\n"
       ]
      }
     ],
     "prompt_number": 27
    },
    {
     "cell_type": "code",
     "collapsed": false,
     "input": [],
     "language": "python",
     "metadata": {},
     "outputs": []
    }
   ],
   "metadata": {}
  }
 ]
}