{
 "metadata": {
  "name": ""
 },
 "nbformat": 3,
 "nbformat_minor": 0,
 "worksheets": [
  {
   "cells": [
    {
     "cell_type": "code",
     "collapsed": false,
     "input": [
      "from diviner import calib, file_utils as fu, plot_utils as pu\n",
      "reload(calib)"
     ],
     "language": "python",
     "metadata": {},
     "outputs": [
      {
       "metadata": {},
       "output_type": "pyout",
       "prompt_number": 31,
       "text": [
        "<module 'diviner.calib' from '/u/paige/maye/src/diviner/calib.py'>"
       ]
      }
     ],
     "prompt_number": 31
    },
    {
     "cell_type": "code",
     "collapsed": false,
     "input": [
      "!cat ../*skipped*"
     ],
     "language": "python",
     "metadata": {},
     "outputs": [
      {
       "output_type": "stream",
       "stream": "stdout",
       "text": [
        "2012012413\r\n",
        "2011081307\r\n",
        "2011081311\r\n",
        "2011081309\r\n",
        "2011081313\r\n",
        "2012012415\r\n",
        "\r\n",
        "\r\n"
       ]
      }
     ],
     "prompt_number": 2
    },
    {
     "cell_type": "code",
     "collapsed": false,
     "input": [
      "l1a = fu.L1ADataFile.from_timestr('2012012416')\n",
      "# df = l1a.open()\n",
      "l1a.fname\n",
      "df = fu.open_and_accumulate(l1a.fname)"
     ],
     "language": "python",
     "metadata": {},
     "outputs": [
      {
       "output_type": "stream",
       "stream": "stdout",
       "text": [
        "Appending 2012012415 on the left.\n",
        "Appending 2012012417 on the right."
       ]
      },
      {
       "output_type": "stream",
       "stream": "stdout",
       "text": [
        "\n",
        "Appending 2012012418 on the right."
       ]
      },
      {
       "output_type": "stream",
       "stream": "stdout",
       "text": [
        "\n"
       ]
      }
     ],
     "prompt_number": 66
    },
    {
     "cell_type": "code",
     "collapsed": false,
     "input": [
      "c = calib.Calibrator(df)\n",
      "c.calibrate()"
     ],
     "language": "python",
     "metadata": {},
     "outputs": [],
     "prompt_number": 67
    },
    {
     "cell_type": "code",
     "collapsed": false,
     "input": [
      "c.Tb['bb1temp'] = c.df.bb_1_temp_interp"
     ],
     "language": "python",
     "metadata": {},
     "outputs": [],
     "prompt_number": 76
    },
    {
     "cell_type": "code",
     "collapsed": false,
     "input": [
      "c.Tb[['b3_11','bb1temp']].plot(secondary_y='b3_11')"
     ],
     "language": "python",
     "metadata": {},
     "outputs": [
      {
       "metadata": {},
       "output_type": "pyout",
       "prompt_number": 78,
       "text": [
        "<matplotlib.axes.AxesSubplot at 0x245fe390>"
       ]
      }
     ],
     "prompt_number": 78
    },
    {
     "cell_type": "code",
     "collapsed": false,
     "input": [
      "c.df[['b3_11','bb_1_temp_interp']].plot(secondary_y='b3_11')"
     ],
     "language": "python",
     "metadata": {},
     "outputs": [
      {
       "metadata": {},
       "output_type": "pyout",
       "prompt_number": 74,
       "text": [
        "<matplotlib.axes.AxesSubplot at 0x24609b10>"
       ]
      }
     ],
     "prompt_number": 74
    },
    {
     "cell_type": "code",
     "collapsed": false,
     "input": [
      "%pylab qt"
     ],
     "language": "python",
     "metadata": {},
     "outputs": [
      {
       "output_type": "stream",
       "stream": "stdout",
       "text": [
        "Populating the interactive namespace from numpy and matplotlib\n"
       ]
      }
     ],
     "prompt_number": 17
    },
    {
     "cell_type": "code",
     "collapsed": false,
     "input": [
      "pu.plot_all_calib_blocks(c.df)"
     ],
     "language": "python",
     "metadata": {},
     "outputs": [
      {
       "output_type": "stream",
       "stream": "stdout",
       "text": [
        "Calib block 0 has no caldata.\n"
       ]
      }
     ],
     "prompt_number": 18
    },
    {
     "cell_type": "code",
     "collapsed": false,
     "input": [
      "c.offsets"
     ],
     "language": "python",
     "metadata": {},
     "outputs": [
      {
       "html": [
        "<div style=\"max-height:1000px;max-width:1500px;overflow:auto;\">\n",
        "<table border=\"1\" class=\"dataframe\">\n",
        "  <thead>\n",
        "    <tr style=\"text-align: right;\">\n",
        "      <th></th>\n",
        "      <th>a1_01</th>\n",
        "      <th>a1_02</th>\n",
        "      <th>a1_03</th>\n",
        "      <th>a1_04</th>\n",
        "      <th>a1_05</th>\n",
        "      <th>a1_06</th>\n",
        "      <th>a1_07</th>\n",
        "      <th>a1_08</th>\n",
        "      <th>a1_09</th>\n",
        "      <th>a1_10</th>\n",
        "      <th>a1_11</th>\n",
        "      <th>a1_12</th>\n",
        "      <th>a1_13</th>\n",
        "      <th>a1_14</th>\n",
        "      <th>a1_15</th>\n",
        "      <th>a1_16</th>\n",
        "      <th>a1_17</th>\n",
        "      <th>a1_18</th>\n",
        "      <th>a1_19</th>\n",
        "      <th>a1_20</th>\n",
        "      <th></th>\n",
        "    </tr>\n",
        "  </thead>\n",
        "  <tbody>\n",
        "    <tr>\n",
        "      <th>2011-08-13 06:04:18.854000</th>\n",
        "      <td> 22409.555804</td>\n",
        "      <td> 22361.821429</td>\n",
        "      <td> 22359.443080</td>\n",
        "      <td> 22372.111607</td>\n",
        "      <td> 22395.410714</td>\n",
        "      <td> 22389.515625</td>\n",
        "      <td> 22437.680804</td>\n",
        "      <td> 22423.286830</td>\n",
        "      <td> 22418.338170</td>\n",
        "      <td> 22436.666295</td>\n",
        "      <td> 22467.306920</td>\n",
        "      <td> 22429.043527</td>\n",
        "      <td> 22363.120536</td>\n",
        "      <td> 22427.366071</td>\n",
        "      <td> 22467.239955</td>\n",
        "      <td> 22445.811384</td>\n",
        "      <td> 22379.987723</td>\n",
        "      <td> 22387.412946</td>\n",
        "      <td> 22428.055804</td>\n",
        "      <td> 22386.176339</td>\n",
        "      <td>...</td>\n",
        "    </tr>\n",
        "    <tr>\n",
        "      <th>2011-08-13 06:09:42.441500</th>\n",
        "      <td> 22417.187500</td>\n",
        "      <td> 22370.750000</td>\n",
        "      <td> 22367.921875</td>\n",
        "      <td> 22380.718750</td>\n",
        "      <td> 22403.718750</td>\n",
        "      <td> 22398.468750</td>\n",
        "      <td> 22446.265625</td>\n",
        "      <td> 22430.968750</td>\n",
        "      <td> 22426.453125</td>\n",
        "      <td> 22443.890625</td>\n",
        "      <td> 22474.953125</td>\n",
        "      <td> 22437.640625</td>\n",
        "      <td> 22371.453125</td>\n",
        "      <td> 22434.765625</td>\n",
        "      <td> 22475.906250</td>\n",
        "      <td> 22453.781250</td>\n",
        "      <td> 22387.906250</td>\n",
        "      <td> 22394.265625</td>\n",
        "      <td> 22435.046875</td>\n",
        "      <td> 22393.390625</td>\n",
        "      <td>...</td>\n",
        "    </tr>\n",
        "    <tr>\n",
        "      <th>2011-08-13 06:14:35.309000</th>\n",
        "      <td> 22424.278646</td>\n",
        "      <td> 22378.035156</td>\n",
        "      <td> 22375.455729</td>\n",
        "      <td> 22388.201823</td>\n",
        "      <td> 22411.851562</td>\n",
        "      <td> 22405.695312</td>\n",
        "      <td> 22453.977865</td>\n",
        "      <td> 22439.208333</td>\n",
        "      <td> 22433.985677</td>\n",
        "      <td> 22451.178385</td>\n",
        "      <td> 22482.691406</td>\n",
        "      <td> 22444.613281</td>\n",
        "      <td> 22378.507812</td>\n",
        "      <td> 22441.750000</td>\n",
        "      <td> 22482.609375</td>\n",
        "      <td> 22460.505208</td>\n",
        "      <td> 22394.131510</td>\n",
        "      <td> 22401.251302</td>\n",
        "      <td> 22441.165365</td>\n",
        "      <td> 22399.057292</td>\n",
        "      <td>...</td>\n",
        "    </tr>\n",
        "    <tr>\n",
        "      <th>2011-08-13 06:19:58.897000</th>\n",
        "      <td> 22431.453125</td>\n",
        "      <td> 22385.453125</td>\n",
        "      <td> 22383.734375</td>\n",
        "      <td> 22395.890625</td>\n",
        "      <td> 22419.953125</td>\n",
        "      <td> 22413.484375</td>\n",
        "      <td> 22462.625000</td>\n",
        "      <td> 22447.171875</td>\n",
        "      <td> 22441.703125</td>\n",
        "      <td> 22458.031250</td>\n",
        "      <td> 22490.078125</td>\n",
        "      <td> 22452.296875</td>\n",
        "      <td> 22386.281250</td>\n",
        "      <td> 22449.000000</td>\n",
        "      <td> 22489.421875</td>\n",
        "      <td> 22467.703125</td>\n",
        "      <td> 22401.015625</td>\n",
        "      <td> 22408.015625</td>\n",
        "      <td> 22447.906250</td>\n",
        "      <td> 22404.609375</td>\n",
        "      <td>...</td>\n",
        "    </tr>\n",
        "    <tr>\n",
        "      <th>2011-08-13 06:24:51.764000</th>\n",
        "      <td> 22438.218750</td>\n",
        "      <td> 22393.150174</td>\n",
        "      <td> 22390.771701</td>\n",
        "      <td> 22403.654514</td>\n",
        "      <td> 22427.187500</td>\n",
        "      <td> 22420.754340</td>\n",
        "      <td> 22469.636285</td>\n",
        "      <td> 22454.203993</td>\n",
        "      <td> 22449.524306</td>\n",
        "      <td> 22465.124132</td>\n",
        "      <td> 22497.114583</td>\n",
        "      <td> 22459.143229</td>\n",
        "      <td> 22392.639757</td>\n",
        "      <td> 22455.919271</td>\n",
        "      <td> 22496.887153</td>\n",
        "      <td> 22474.694444</td>\n",
        "      <td> 22408.145833</td>\n",
        "      <td> 22414.608507</td>\n",
        "      <td> 22454.956597</td>\n",
        "      <td> 22412.325521</td>\n",
        "      <td>...</td>\n",
        "    </tr>\n",
        "    <tr>\n",
        "      <th>2011-08-13 06:30:15.352000</th>\n",
        "      <td> 22445.609375</td>\n",
        "      <td> 22401.031250</td>\n",
        "      <td> 22398.562500</td>\n",
        "      <td> 22411.796875</td>\n",
        "      <td> 22435.359375</td>\n",
        "      <td> 22428.593750</td>\n",
        "      <td> 22477.640625</td>\n",
        "      <td> 22462.000000</td>\n",
        "      <td> 22456.593750</td>\n",
        "      <td> 22472.859375</td>\n",
        "      <td> 22505.296875</td>\n",
        "      <td> 22466.843750</td>\n",
        "      <td> 22400.359375</td>\n",
        "      <td> 22463.328125</td>\n",
        "      <td> 22504.140625</td>\n",
        "      <td> 22482.406250</td>\n",
        "      <td> 22415.640625</td>\n",
        "      <td> 22422.265625</td>\n",
        "      <td> 22461.718750</td>\n",
        "      <td> 22419.390625</td>\n",
        "      <td>...</td>\n",
        "    </tr>\n",
        "    <tr>\n",
        "      <th>2011-08-13 06:35:08.220000</th>\n",
        "      <td> 22453.357143</td>\n",
        "      <td> 22408.945312</td>\n",
        "      <td> 22406.912946</td>\n",
        "      <td> 22419.494420</td>\n",
        "      <td> 22443.137277</td>\n",
        "      <td> 22436.593750</td>\n",
        "      <td> 22485.121652</td>\n",
        "      <td> 22470.229911</td>\n",
        "      <td> 22464.736607</td>\n",
        "      <td> 22480.896205</td>\n",
        "      <td> 22512.415179</td>\n",
        "      <td> 22475.314732</td>\n",
        "      <td> 22408.191964</td>\n",
        "      <td> 22471.484375</td>\n",
        "      <td> 22511.981027</td>\n",
        "      <td> 22489.635045</td>\n",
        "      <td> 22423.227679</td>\n",
        "      <td> 22429.525670</td>\n",
        "      <td> 22469.318080</td>\n",
        "      <td> 22426.704241</td>\n",
        "      <td>...</td>\n",
        "    </tr>\n",
        "    <tr>\n",
        "      <th>2011-08-13 06:45:24.675000</th>\n",
        "      <td> 22465.335938</td>\n",
        "      <td> 22421.554688</td>\n",
        "      <td> 22418.914062</td>\n",
        "      <td> 22431.695312</td>\n",
        "      <td> 22455.625000</td>\n",
        "      <td> 22449.796875</td>\n",
        "      <td> 22498.164062</td>\n",
        "      <td> 22483.187500</td>\n",
        "      <td> 22477.523438</td>\n",
        "      <td> 22493.109375</td>\n",
        "      <td> 22524.890625</td>\n",
        "      <td> 22487.632812</td>\n",
        "      <td> 22421.070312</td>\n",
        "      <td> 22483.960938</td>\n",
        "      <td> 22524.789062</td>\n",
        "      <td> 22502.593750</td>\n",
        "      <td> 22435.617188</td>\n",
        "      <td> 22441.765625</td>\n",
        "      <td> 22481.773438</td>\n",
        "      <td> 22439.398438</td>\n",
        "      <td>...</td>\n",
        "    </tr>\n",
        "    <tr>\n",
        "      <th>2011-08-13 06:55:41.130000</th>\n",
        "      <td> 22451.945312</td>\n",
        "      <td> 22403.960938</td>\n",
        "      <td> 22401.664062</td>\n",
        "      <td> 22414.164062</td>\n",
        "      <td> 22437.539062</td>\n",
        "      <td> 22431.804688</td>\n",
        "      <td> 22480.687500</td>\n",
        "      <td> 22465.531250</td>\n",
        "      <td> 22460.929688</td>\n",
        "      <td> 22476.914062</td>\n",
        "      <td> 22508.765625</td>\n",
        "      <td> 22470.546875</td>\n",
        "      <td> 22404.804688</td>\n",
        "      <td> 22468.695312</td>\n",
        "      <td> 22508.968750</td>\n",
        "      <td> 22488.250000</td>\n",
        "      <td> 22421.945312</td>\n",
        "      <td> 22429.570312</td>\n",
        "      <td> 22470.156250</td>\n",
        "      <td> 22429.703125</td>\n",
        "      <td>...</td>\n",
        "    </tr>\n",
        "  </tbody>\n",
        "</table>\n",
        "<p>9 rows \u00d7 189 columns</p>\n",
        "</div>"
       ],
       "metadata": {},
       "output_type": "pyout",
       "prompt_number": 34,
       "text": [
        "                                   a1_01         a1_02         a1_03  \\\n",
        "2011-08-13 06:04:18.854000  22409.555804  22361.821429  22359.443080   \n",
        "2011-08-13 06:09:42.441500  22417.187500  22370.750000  22367.921875   \n",
        "2011-08-13 06:14:35.309000  22424.278646  22378.035156  22375.455729   \n",
        "2011-08-13 06:19:58.897000  22431.453125  22385.453125  22383.734375   \n",
        "2011-08-13 06:24:51.764000  22438.218750  22393.150174  22390.771701   \n",
        "2011-08-13 06:30:15.352000  22445.609375  22401.031250  22398.562500   \n",
        "2011-08-13 06:35:08.220000  22453.357143  22408.945312  22406.912946   \n",
        "2011-08-13 06:45:24.675000  22465.335938  22421.554688  22418.914062   \n",
        "2011-08-13 06:55:41.130000  22451.945312  22403.960938  22401.664062   \n",
        "\n",
        "                                   a1_04         a1_05         a1_06  \\\n",
        "2011-08-13 06:04:18.854000  22372.111607  22395.410714  22389.515625   \n",
        "2011-08-13 06:09:42.441500  22380.718750  22403.718750  22398.468750   \n",
        "2011-08-13 06:14:35.309000  22388.201823  22411.851562  22405.695312   \n",
        "2011-08-13 06:19:58.897000  22395.890625  22419.953125  22413.484375   \n",
        "2011-08-13 06:24:51.764000  22403.654514  22427.187500  22420.754340   \n",
        "2011-08-13 06:30:15.352000  22411.796875  22435.359375  22428.593750   \n",
        "2011-08-13 06:35:08.220000  22419.494420  22443.137277  22436.593750   \n",
        "2011-08-13 06:45:24.675000  22431.695312  22455.625000  22449.796875   \n",
        "2011-08-13 06:55:41.130000  22414.164062  22437.539062  22431.804688   \n",
        "\n",
        "                                   a1_07         a1_08         a1_09  \\\n",
        "2011-08-13 06:04:18.854000  22437.680804  22423.286830  22418.338170   \n",
        "2011-08-13 06:09:42.441500  22446.265625  22430.968750  22426.453125   \n",
        "2011-08-13 06:14:35.309000  22453.977865  22439.208333  22433.985677   \n",
        "2011-08-13 06:19:58.897000  22462.625000  22447.171875  22441.703125   \n",
        "2011-08-13 06:24:51.764000  22469.636285  22454.203993  22449.524306   \n",
        "2011-08-13 06:30:15.352000  22477.640625  22462.000000  22456.593750   \n",
        "2011-08-13 06:35:08.220000  22485.121652  22470.229911  22464.736607   \n",
        "2011-08-13 06:45:24.675000  22498.164062  22483.187500  22477.523438   \n",
        "2011-08-13 06:55:41.130000  22480.687500  22465.531250  22460.929688   \n",
        "\n",
        "                                   a1_10         a1_11         a1_12  \\\n",
        "2011-08-13 06:04:18.854000  22436.666295  22467.306920  22429.043527   \n",
        "2011-08-13 06:09:42.441500  22443.890625  22474.953125  22437.640625   \n",
        "2011-08-13 06:14:35.309000  22451.178385  22482.691406  22444.613281   \n",
        "2011-08-13 06:19:58.897000  22458.031250  22490.078125  22452.296875   \n",
        "2011-08-13 06:24:51.764000  22465.124132  22497.114583  22459.143229   \n",
        "2011-08-13 06:30:15.352000  22472.859375  22505.296875  22466.843750   \n",
        "2011-08-13 06:35:08.220000  22480.896205  22512.415179  22475.314732   \n",
        "2011-08-13 06:45:24.675000  22493.109375  22524.890625  22487.632812   \n",
        "2011-08-13 06:55:41.130000  22476.914062  22508.765625  22470.546875   \n",
        "\n",
        "                                   a1_13         a1_14         a1_15  \\\n",
        "2011-08-13 06:04:18.854000  22363.120536  22427.366071  22467.239955   \n",
        "2011-08-13 06:09:42.441500  22371.453125  22434.765625  22475.906250   \n",
        "2011-08-13 06:14:35.309000  22378.507812  22441.750000  22482.609375   \n",
        "2011-08-13 06:19:58.897000  22386.281250  22449.000000  22489.421875   \n",
        "2011-08-13 06:24:51.764000  22392.639757  22455.919271  22496.887153   \n",
        "2011-08-13 06:30:15.352000  22400.359375  22463.328125  22504.140625   \n",
        "2011-08-13 06:35:08.220000  22408.191964  22471.484375  22511.981027   \n",
        "2011-08-13 06:45:24.675000  22421.070312  22483.960938  22524.789062   \n",
        "2011-08-13 06:55:41.130000  22404.804688  22468.695312  22508.968750   \n",
        "\n",
        "                                   a1_16         a1_17         a1_18  \\\n",
        "2011-08-13 06:04:18.854000  22445.811384  22379.987723  22387.412946   \n",
        "2011-08-13 06:09:42.441500  22453.781250  22387.906250  22394.265625   \n",
        "2011-08-13 06:14:35.309000  22460.505208  22394.131510  22401.251302   \n",
        "2011-08-13 06:19:58.897000  22467.703125  22401.015625  22408.015625   \n",
        "2011-08-13 06:24:51.764000  22474.694444  22408.145833  22414.608507   \n",
        "2011-08-13 06:30:15.352000  22482.406250  22415.640625  22422.265625   \n",
        "2011-08-13 06:35:08.220000  22489.635045  22423.227679  22429.525670   \n",
        "2011-08-13 06:45:24.675000  22502.593750  22435.617188  22441.765625   \n",
        "2011-08-13 06:55:41.130000  22488.250000  22421.945312  22429.570312   \n",
        "\n",
        "                                   a1_19         a1_20      \n",
        "2011-08-13 06:04:18.854000  22428.055804  22386.176339 ...  \n",
        "2011-08-13 06:09:42.441500  22435.046875  22393.390625 ...  \n",
        "2011-08-13 06:14:35.309000  22441.165365  22399.057292 ...  \n",
        "2011-08-13 06:19:58.897000  22447.906250  22404.609375 ...  \n",
        "2011-08-13 06:24:51.764000  22454.956597  22412.325521 ...  \n",
        "2011-08-13 06:30:15.352000  22461.718750  22419.390625 ...  \n",
        "2011-08-13 06:35:08.220000  22469.318080  22426.704241 ...  \n",
        "2011-08-13 06:45:24.675000  22481.773438  22439.398438 ...  \n",
        "2011-08-13 06:55:41.130000  22470.156250  22429.703125 ...  \n",
        "\n",
        "[9 rows x 189 columns]"
       ]
      }
     ],
     "prompt_number": 34
    },
    {
     "cell_type": "code",
     "collapsed": false,
     "input": [
      "%pylab qt"
     ],
     "language": "python",
     "metadata": {},
     "outputs": [
      {
       "output_type": "stream",
       "stream": "stdout",
       "text": [
        "Populating the interactive namespace from numpy and matplotlib\n"
       ]
      }
     ],
     "prompt_number": 16
    },
    {
     "cell_type": "code",
     "collapsed": false,
     "input": [
      "pu.plot_calib_block(c.df, 'calib',2)"
     ],
     "language": "python",
     "metadata": {},
     "outputs": [],
     "prompt_number": 20
    },
    {
     "cell_type": "code",
     "collapsed": false,
     "input": [
      "df.a6_11.plot()"
     ],
     "language": "python",
     "metadata": {},
     "outputs": [
      {
       "metadata": {},
       "output_type": "pyout",
       "prompt_number": 23,
       "text": [
        "<matplotlib.axes.AxesSubplot at 0x44809d0>"
       ]
      }
     ],
     "prompt_number": 23
    },
    {
     "cell_type": "code",
     "collapsed": false,
     "input": [
      "grouped = df.groupby(df.calib_block_labels)"
     ],
     "language": "python",
     "metadata": {},
     "outputs": [],
     "prompt_number": 35
    },
    {
     "cell_type": "code",
     "collapsed": false,
     "input": [
      "grouped.apply(lambda x: calib.CalBlock(x, c.SV_NUM_SKIP_SAMPLE).mean_time)"
     ],
     "language": "python",
     "metadata": {},
     "outputs": [
      {
       "metadata": {},
       "output_type": "pyout",
       "prompt_number": 36,
       "text": [
        "calib_block_labels\n",
        "0                                           NaT\n",
        "1                    2011-08-13 06:04:18.854000\n",
        "2                    2011-08-13 06:09:42.441500\n",
        "3                    2011-08-13 06:14:35.309000\n",
        "4                    2011-08-13 06:19:58.897000\n",
        "5                    2011-08-13 06:24:51.764000\n",
        "6                    2011-08-13 06:30:15.352000\n",
        "7                    2011-08-13 06:35:08.220000\n",
        "8                    2011-08-13 06:45:24.675000\n",
        "9                    2011-08-13 06:55:41.130000\n",
        "dtype: datetime64[ns]"
       ]
      }
     ],
     "prompt_number": 36
    },
    {
     "cell_type": "code",
     "collapsed": false,
     "input": [
      "grouped.size()"
     ],
     "language": "python",
     "metadata": {},
     "outputs": [
      {
       "metadata": {},
       "output_type": "pyout",
       "prompt_number": 30,
       "text": [
        "calib_block_labels\n",
        "0                     24912\n",
        "1                       512\n",
        "2                       128\n",
        "3                       672\n",
        "4                       128\n",
        "5                       432\n",
        "6                       128\n",
        "7                       512\n",
        "8                       352\n",
        "9                       352\n",
        "dtype: int64"
       ]
      }
     ],
     "prompt_number": 30
    },
    {
     "cell_type": "code",
     "collapsed": false,
     "input": [
      "groups = calib.get_calib_blocks(df, 'calib')"
     ],
     "language": "python",
     "metadata": {},
     "outputs": [],
     "prompt_number": 18
    },
    {
     "cell_type": "code",
     "collapsed": false,
     "input": [
      "import sys"
     ],
     "language": "python",
     "metadata": {},
     "outputs": [],
     "prompt_number": 24
    },
    {
     "cell_type": "code",
     "collapsed": false,
     "input": [
      "for g,v in groups.iteritems():\n",
      "    print g\n",
      "    sys.stdout.flush()\n",
      "    cb = calib.CalBlock(v)\n",
      "    print cb.mean_time\n",
      "    sys.stdout.flush()"
     ],
     "language": "python",
     "metadata": {},
     "outputs": [
      {
       "output_type": "stream",
       "stream": "stdout",
       "text": [
        "1\n"
       ]
      },
      {
       "output_type": "stream",
       "stream": "stdout",
       "text": [
        "2012-01-24 14:03:21.864000\n"
       ]
      },
      {
       "output_type": "stream",
       "stream": "stdout",
       "text": [
        "2\n"
       ]
      },
      {
       "output_type": "stream",
       "stream": "stdout",
       "text": [
        "2012-01-24 14:13:52.656000\n"
       ]
      },
      {
       "output_type": "stream",
       "stream": "stdout",
       "text": [
        "3\n"
       ]
      },
      {
       "output_type": "stream",
       "stream": "stdout",
       "text": [
        "2012-01-24 14:25:26.937000\n"
       ]
      },
      {
       "output_type": "stream",
       "stream": "stdout",
       "text": [
        "4\n"
       ]
      },
      {
       "ename": "MeanTimeCalcError",
       "evalue": "Problem calculating mean time at hour unknown",
       "output_type": "pyerr",
       "traceback": [
        "\u001b[1;31m---------------------------------------------------------------------------\u001b[0m\n\u001b[1;31mMeanTimeCalcError\u001b[0m                         Traceback (most recent call last)",
        "\u001b[1;32m<ipython-input-27-edf159d3af1a>\u001b[0m in \u001b[0;36m<module>\u001b[1;34m()\u001b[0m\n\u001b[0;32m      3\u001b[0m     \u001b[0msys\u001b[0m\u001b[1;33m.\u001b[0m\u001b[0mstdout\u001b[0m\u001b[1;33m.\u001b[0m\u001b[0mflush\u001b[0m\u001b[1;33m(\u001b[0m\u001b[1;33m)\u001b[0m\u001b[1;33m\u001b[0m\u001b[0m\n\u001b[0;32m      4\u001b[0m     \u001b[0mcb\u001b[0m \u001b[1;33m=\u001b[0m \u001b[0mcalib\u001b[0m\u001b[1;33m.\u001b[0m\u001b[0mCalBlock\u001b[0m\u001b[1;33m(\u001b[0m\u001b[0mv\u001b[0m\u001b[1;33m)\u001b[0m\u001b[1;33m\u001b[0m\u001b[0m\n\u001b[1;32m----> 5\u001b[1;33m     \u001b[1;32mprint\u001b[0m \u001b[0mcb\u001b[0m\u001b[1;33m.\u001b[0m\u001b[0mmean_time\u001b[0m\u001b[1;33m\u001b[0m\u001b[0m\n\u001b[0m\u001b[0;32m      6\u001b[0m     \u001b[0msys\u001b[0m\u001b[1;33m.\u001b[0m\u001b[0mstdout\u001b[0m\u001b[1;33m.\u001b[0m\u001b[0mflush\u001b[0m\u001b[1;33m(\u001b[0m\u001b[1;33m)\u001b[0m\u001b[1;33m\u001b[0m\u001b[0m\n",
        "\u001b[1;32m/u/paige/maye/src/diviner/calib.pyc\u001b[0m in \u001b[0;36mmean_time\u001b[1;34m(self)\u001b[0m\n\u001b[0;32m    308\u001b[0m         \u001b[1;32melif\u001b[0m \u001b[0mself\u001b[0m\u001b[1;33m.\u001b[0m\u001b[0mkind\u001b[0m \u001b[1;33m==\u001b[0m \u001b[1;34m'BOTH'\u001b[0m\u001b[1;33m:\u001b[0m\u001b[1;33m\u001b[0m\u001b[0m\n\u001b[0;32m    309\u001b[0m             \u001b[0mt1\u001b[0m \u001b[1;33m=\u001b[0m \u001b[0mself\u001b[0m\u001b[1;33m.\u001b[0m\u001b[0mst_time\u001b[0m\u001b[1;33m\u001b[0m\u001b[0m\n\u001b[1;32m--> 310\u001b[1;33m             \u001b[0mt2\u001b[0m \u001b[1;33m=\u001b[0m \u001b[0mself\u001b[0m\u001b[1;33m.\u001b[0m\u001b[0mbb_time\u001b[0m\u001b[1;33m\u001b[0m\u001b[0m\n\u001b[0m\u001b[0;32m    311\u001b[0m             \u001b[1;32mif\u001b[0m \u001b[0mt2\u001b[0m \u001b[1;33m>\u001b[0m \u001b[0mt1\u001b[0m\u001b[1;33m:\u001b[0m\u001b[1;33m\u001b[0m\u001b[0m\n\u001b[0;32m    312\u001b[0m                 \u001b[1;32mreturn\u001b[0m \u001b[0mt1\u001b[0m \u001b[1;33m+\u001b[0m \u001b[1;33m(\u001b[0m\u001b[0mt2\u001b[0m \u001b[1;33m-\u001b[0m \u001b[0mt1\u001b[0m\u001b[1;33m)\u001b[0m \u001b[1;33m//\u001b[0m \u001b[1;36m2\u001b[0m\u001b[1;33m\u001b[0m\u001b[0m\n",
        "\u001b[1;32m/u/paige/maye/src/diviner/calib.pyc\u001b[0m in \u001b[0;36mbb_time\u001b[1;34m(self)\u001b[0m\n\u001b[0;32m    290\u001b[0m             \u001b[1;32mraise\u001b[0m \u001b[0mWrongTypeError\u001b[0m\u001b[1;33m(\u001b[0m\u001b[1;34m'BB'\u001b[0m\u001b[1;33m,\u001b[0m \u001b[0mself\u001b[0m\u001b[1;33m.\u001b[0m\u001b[0mkind\u001b[0m\u001b[1;33m)\u001b[0m\u001b[1;33m\u001b[0m\u001b[0m\n\u001b[0;32m    291\u001b[0m         \u001b[0mbbdata\u001b[0m \u001b[1;33m=\u001b[0m \u001b[0mself\u001b[0m\u001b[1;33m.\u001b[0m\u001b[0mdf\u001b[0m\u001b[1;33m[\u001b[0m\u001b[0mself\u001b[0m\u001b[1;33m.\u001b[0m\u001b[0mdf\u001b[0m\u001b[1;33m.\u001b[0m\u001b[0mis_bbview\u001b[0m\u001b[1;33m]\u001b[0m\u001b[1;33m\u001b[0m\u001b[0m\n\u001b[1;32m--> 292\u001b[1;33m         \u001b[1;32mreturn\u001b[0m \u001b[0mget_mean_time\u001b[0m\u001b[1;33m(\u001b[0m\u001b[0mbbdata\u001b[0m\u001b[1;33m,\u001b[0m \u001b[0mself\u001b[0m\u001b[1;33m.\u001b[0m\u001b[0mskip_samples\u001b[0m\u001b[1;33m)\u001b[0m\u001b[1;33m\u001b[0m\u001b[0m\n\u001b[0m\u001b[0;32m    293\u001b[0m \u001b[1;33m\u001b[0m\u001b[0m\n\u001b[0;32m    294\u001b[0m     \u001b[1;33m@\u001b[0m\u001b[0mproperty\u001b[0m\u001b[1;33m\u001b[0m\u001b[0m\n",
        "\u001b[1;32m/u/paige/maye/src/diviner/calib.pyc\u001b[0m in \u001b[0;36mget_mean_time\u001b[1;34m(df_in, skipsamples)\u001b[0m\n\u001b[0;32m    112\u001b[0m         logging.warning('Index not found in get_mean_time. '\n\u001b[0;32m    113\u001b[0m                         'Length of df: {0}'.format(len(df.index)))\n\u001b[1;32m--> 114\u001b[1;33m         \u001b[1;32mraise\u001b[0m \u001b[0mMeanTimeCalcError\u001b[0m\u001b[1;33m(\u001b[0m\u001b[1;34m'unknown'\u001b[0m\u001b[1;33m)\u001b[0m\u001b[1;33m\u001b[0m\u001b[0m\n\u001b[0m\u001b[0;32m    115\u001b[0m         \u001b[1;32mreturn\u001b[0m \u001b[0mnp\u001b[0m\u001b[1;33m.\u001b[0m\u001b[0mnan\u001b[0m\u001b[1;33m\u001b[0m\u001b[0m\n\u001b[0;32m    116\u001b[0m     \u001b[0mt\u001b[0m \u001b[1;33m=\u001b[0m \u001b[0mt1\u001b[0m \u001b[1;33m+\u001b[0m \u001b[1;33m(\u001b[0m\u001b[0mt2\u001b[0m \u001b[1;33m-\u001b[0m \u001b[0mt1\u001b[0m\u001b[1;33m)\u001b[0m \u001b[1;33m//\u001b[0m \u001b[1;36m2\u001b[0m\u001b[1;33m\u001b[0m\u001b[0m\n",
        "\u001b[1;31mMeanTimeCalcError\u001b[0m: Problem calculating mean time at hour unknown"
       ]
      },
      {
       "output_type": "stream",
       "stream": "stdout",
       "text": [
        "Problem with calculating mean time.\n"
       ]
      }
     ],
     "prompt_number": 27
    },
    {
     "cell_type": "code",
     "collapsed": false,
     "input": [],
     "language": "python",
     "metadata": {},
     "outputs": []
    }
   ],
   "metadata": {}
  }
 ]
}