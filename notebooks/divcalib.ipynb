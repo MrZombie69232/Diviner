{
 "metadata": {
  "name": ""
 },
 "nbformat": 3,
 "nbformat_minor": 0,
 "worksheets": [
  {
   "cells": [
    {
     "cell_type": "code",
     "collapsed": false,
     "input": [
      "from diviner import file_utils as fu\n",
      "from diviner import calib\n",
<<<<<<< HEAD
      "reload(calib)\n",
      "reload(fu)"
=======
      "import zipfile\n",
      "import os\n",
      "reload(fu)\n",
      "reload(calib)"
>>>>>>> d78eabfc11d41059961be59f66dfe1db4739f94a
     ],
     "language": "python",
     "metadata": {},
     "outputs": [
<<<<<<< HEAD
      {
       "metadata": {},
       "output_type": "pyout",
       "prompt_number": 1,
       "text": [
        "<module 'diviner.file_utils' from '/Users/maye/Dropbox/src/diviner/file_utils.pyc'>"
       ]
      }
     ],
     "prompt_number": 1
    },
    {
     "cell_type": "code",
     "collapsed": false,
     "input": [
      "pump = fu."
     ],
     "language": "python",
     "metadata": {},
     "outputs": [],
     "prompt_number": 25
    },
    {
     "cell_type": "code",
     "collapsed": false,
     "input": [
      "df = pump.get_n_hours_from_t(3,0)"
     ],
     "language": "python",
     "metadata": {},
     "outputs": [
      {
       "output_type": "stream",
       "stream": "stdout",
       "text": [
        "2011041100.div247\n",
        "2011041101.div247"
       ]
      },
      {
       "output_type": "stream",
       "stream": "stdout",
       "text": [
        "\n",
        "2011041102.div247"
       ]
      },
      {
       "output_type": "stream",
       "stream": "stdout",
       "text": [
        "\n"
       ]
      }
     ],
     "prompt_number": 26
    },
    {
     "cell_type": "code",
     "collapsed": false,
     "input": [
      "pump.fnames"
     ],
     "language": "python",
     "metadata": {},
     "outputs": []
    },
    {
     "cell_type": "code",
     "collapsed": false,
     "input": [
      "c = calib.Calibrator(df)"
     ],
     "language": "python",
     "metadata": {},
     "outputs": [],
     "prompt_number": 27
    },
    {
     "cell_type": "code",
     "collapsed": false,
     "input": [
      "c.calibrate()"
     ],
     "language": "python",
     "metadata": {},
     "outputs": [
      {
       "output_type": "stream",
       "stream": "stdout",
       "text": [
        "\r",
        " [                       0%                       ]"
       ]
      },
      {
       "output_type": "stream",
       "stream": "stdout",
       "text": [
        "\r",
        " [                       1%                       ]  2 of 147 complete"
       ]
      },
      {
       "output_type": "stream",
       "stream": "stdout",
       "text": [
        "\r",
        " [*                      2%                       ]  3 of 147 complete"
       ]
      },
      {
       "output_type": "stream",
       "stream": "stdout",
       "text": [
        "\r",
        " [*                      3%                       ]  4 of 147 complete"
       ]
      },
      {
       "output_type": "stream",
       "stream": "stdout",
       "text": [
        "\r",
        " [*                      3%                       ]  5 of 147 complete"
       ]
      },
      {
       "output_type": "stream",
       "stream": "stdout",
       "text": [
        "\r",
        " [**                     4%                       ]  6 of 147 complete"
       ]
      },
      {
       "output_type": "stream",
       "stream": "stdout",
       "text": [
        "\r",
        " [**                     5%                       ]  7 of 147 complete"
       ]
      },
      {
       "output_type": "stream",
       "stream": "stdout",
       "text": [
        "\r",
        " [**                     5%                       ]  8 of 147 complete"
       ]
      },
      {
       "output_type": "stream",
       "stream": "stdout",
       "text": [
        "\r",
        " [***                    6%                       ]  9 of 147 complete"
       ]
      },
      {
       "output_type": "stream",
       "stream": "stdout",
       "text": [
        "\r",
        " [***                    7%                       ]  10 of 147 complete"
       ]
      },
      {
       "output_type": "stream",
       "stream": "stdout",
       "text": [
        "\r",
        " [***                    7%                       ]  11 of 147 complete"
       ]
      },
      {
       "output_type": "stream",
       "stream": "stdout",
       "text": [
        "\r",
        " [****                   8%                       ]  12 of 147 complete"
       ]
      },
      {
       "output_type": "stream",
       "stream": "stdout",
       "text": [
        "\r",
        " [****                   9%                       ]  13 of 147 complete"
       ]
      },
      {
       "output_type": "stream",
       "stream": "stdout",
       "text": [
        "\r",
        " [*****                 10%                       ]  14 of 147 complete"
       ]
      },
      {
       "output_type": "stream",
       "stream": "stdout",
       "text": [
        "\r",
        " [*****                 10%                       ]  15 of 147 complete"
       ]
      },
      {
       "output_type": "stream",
       "stream": "stdout",
       "text": [
        "\r",
        " [*****                 11%                       ]  16 of 147 complete"
       ]
      },
      {
       "output_type": "stream",
       "stream": "stdout",
       "text": [
        "\r",
        " [******                12%                       ]  17 of 147 complete"
       ]
      },
      {
       "output_type": "stream",
       "stream": "stdout",
       "text": [
        "\r",
        " [******                12%                       ]  18 of 147 complete"
       ]
      },
      {
       "output_type": "stream",
       "stream": "stdout",
       "text": [
        "\r",
        " [******                13%                       ]  19 of 147 complete"
       ]
      },
      {
       "output_type": "stream",
       "stream": "stdout",
       "text": [
        "\r",
        " [*******               14%                       ]  20 of 147 complete"
       ]
      },
      {
       "output_type": "stream",
       "stream": "stdout",
       "text": [
        "\r",
        " [*******               14%                       ]  21 of 147 complete"
       ]
      },
      {
       "output_type": "stream",
       "stream": "stdout",
       "text": [
        "\r",
        " [*******               15%                       ]  22 of 147 complete"
       ]
      },
      {
       "output_type": "stream",
       "stream": "stdout",
       "text": [
        "\r",
        " [********              16%                       ]  23 of 147 complete"
       ]
      },
      {
       "output_type": "stream",
       "stream": "stdout",
       "text": [
        "\r",
        " [********              16%                       ]  24 of 147 complete"
       ]
      },
      {
       "output_type": "stream",
       "stream": "stdout",
       "text": [
        "\r",
        " [********              17%                       ]  25 of 147 complete"
       ]
      },
      {
       "output_type": "stream",
       "stream": "stdout",
       "text": [
        "\r",
        " [*********             18%                       ]  26 of 147 complete"
       ]
      },
      {
       "output_type": "stream",
       "stream": "stdout",
       "text": [
        "\r",
        " [*********             18%                       ]  27 of 147 complete"
       ]
      },
      {
       "output_type": "stream",
       "stream": "stdout",
       "text": [
        "\r",
        " [*********             19%                       ]  28 of 147 complete"
       ]
      },
      {
       "output_type": "stream",
       "stream": "stdout",
       "text": [
        "\r",
        " [**********            20%                       ]  29 of 147 complete"
       ]
      },
      {
       "output_type": "stream",
       "stream": "stdout",
       "text": [
        "\r",
        " [**********            20%                       ]  30 of 147 complete"
       ]
      },
      {
       "output_type": "stream",
       "stream": "stdout",
       "text": [
        "\r",
        " [**********            21%                       ]  31 of 147 complete"
       ]
      },
      {
       "output_type": "stream",
       "stream": "stdout",
       "text": [
        "\r",
        " [***********           22%                       ]  32 of 147 complete"
       ]
      },
      {
       "output_type": "stream",
       "stream": "stdout",
       "text": [
        "\r",
        " [***********           22%                       ]  33 of 147 complete"
       ]
      },
      {
       "output_type": "stream",
       "stream": "stdout",
       "text": [
        "\r",
        " [***********           23%                       ]  34 of 147 complete"
       ]
      },
      {
       "output_type": "stream",
       "stream": "stdout",
       "text": [
        "\r",
        " [************          24%                       ]  35 of 147 complete"
       ]
      },
      {
       "output_type": "stream",
       "stream": "stdout",
       "text": [
        "\r",
        " [************          24%                       ]  36 of 147 complete"
       ]
      },
      {
       "output_type": "stream",
       "stream": "stdout",
       "text": [
        "\r",
        " [************          25%                       ]  37 of 147 complete"
       ]
      },
      {
       "output_type": "stream",
       "stream": "stdout",
       "text": [
        "\r",
        " [************          26%                       ]  38 of 147 complete"
       ]
      },
      {
       "output_type": "stream",
       "stream": "stdout",
       "text": [
        "\r",
        " [*************         27%                       ]  39 of 147 complete"
       ]
      },
      {
       "output_type": "stream",
       "stream": "stdout",
       "text": [
        "\r",
        " [*************         27%                       ]  40 of 147 complete"
       ]
      },
      {
       "output_type": "stream",
       "stream": "stdout",
       "text": [
        "\r",
        " [*************         28%                       ]  41 of 147 complete"
       ]
      },
      {
       "output_type": "stream",
       "stream": "stdout",
       "text": [
        "\r",
        " [**************        29%                       ]  42 of 147 complete"
       ]
      },
      {
       "output_type": "stream",
       "stream": "stdout",
       "text": [
        "\r",
        " [**************        29%                       ]  43 of 147 complete"
       ]
      },
      {
       "output_type": "stream",
       "stream": "stdout",
       "text": [
        "\r",
        " [**************        30%                       ]  44 of 147 complete"
       ]
      },
      {
       "output_type": "stream",
       "stream": "stdout",
       "text": [
        "\r",
        " [***************       31%                       ]  45 of 147 complete"
       ]
      },
      {
       "output_type": "stream",
       "stream": "stdout",
       "text": [
        "\r",
        " [***************       31%                       ]  46 of 147 complete"
       ]
      },
      {
       "output_type": "stream",
       "stream": "stdout",
       "text": [
        "\r",
        " [***************       32%                       ]  47 of 147 complete"
       ]
      },
      {
       "output_type": "stream",
       "stream": "stdout",
       "text": [
        "\r",
        " [****************      33%                       ]  48 of 147 complete"
       ]
      },
      {
       "output_type": "stream",
       "stream": "stdout",
       "text": [
        "\r",
        " [****************      33%                       ]  49 of 147 complete"
       ]
      },
      {
       "output_type": "stream",
       "stream": "stdout",
       "text": [
        "\r",
        " [****************      34%                       ]  50 of 147 complete"
       ]
      },
      {
       "output_type": "stream",
       "stream": "stdout",
       "text": [
        "\r",
        " [*****************     35%                       ]  51 of 147 complete"
       ]
      },
      {
       "output_type": "stream",
       "stream": "stdout",
       "text": [
        "\r",
        " [*****************     35%                       ]  52 of 147 complete"
       ]
      },
      {
       "output_type": "stream",
       "stream": "stdout",
       "text": [
        "\r",
        " [*****************     36%                       ]  53 of 147 complete"
       ]
      },
      {
       "output_type": "stream",
       "stream": "stdout",
       "text": [
        "\r",
        " [******************    37%                       ]  54 of 147 complete"
       ]
      },
      {
       "output_type": "stream",
       "stream": "stdout",
       "text": [
        "\r",
        " [******************    37%                       ]  55 of 147 complete"
       ]
      },
      {
       "output_type": "stream",
       "stream": "stdout",
       "text": [
        "\r",
        " [******************    38%                       ]  56 of 147 complete"
       ]
      },
      {
       "output_type": "stream",
       "stream": "stdout",
       "text": [
        "\r",
        " [*******************   39%                       ]  57 of 147 complete"
       ]
      },
      {
       "output_type": "stream",
       "stream": "stdout",
       "text": [
        "\r",
        " [*******************   39%                       ]  58 of 147 complete"
       ]
      },
      {
       "output_type": "stream",
       "stream": "stdout",
       "text": [
        "\r",
        " [*******************   40%                       ]  59 of 147 complete"
       ]
      },
      {
       "output_type": "stream",
       "stream": "stdout",
       "text": [
        "\r",
        " [********************  41%                       ]  60 of 147 complete"
       ]
      },
      {
       "output_type": "stream",
       "stream": "stdout",
       "text": [
        "\r",
        " [********************  41%                       ]  61 of 147 complete"
       ]
      },
      {
       "output_type": "stream",
       "stream": "stdout",
       "text": [
        "\r",
        " [********************  42%                       ]  62 of 147 complete"
       ]
      },
      {
       "output_type": "stream",
       "stream": "stdout",
       "text": [
        "\r",
        " [********************* 43%                       ]  63 of 147 complete"
       ]
      },
      {
       "output_type": "stream",
       "stream": "stdout",
       "text": [
        "\r",
        " [********************* 44%                       ]  64 of 147 complete"
       ]
      },
      {
       "output_type": "stream",
       "stream": "stdout",
       "text": [
        "\r",
        " [********************* 44%                       ]  65 of 147 complete"
       ]
      },
      {
       "output_type": "stream",
       "stream": "stdout",
       "text": [
        "\r",
        " [**********************45%                       ]  66 of 147 complete"
       ]
      },
      {
       "output_type": "stream",
       "stream": "stdout",
       "text": [
        "\r",
        " [**********************46%                       ]  67 of 147 complete"
       ]
      },
      {
       "output_type": "stream",
       "stream": "stdout",
       "text": [
        "\r",
        " [**********************46%                       ]  68 of 147 complete"
       ]
      },
      {
       "output_type": "stream",
       "stream": "stdout",
       "text": [
        "\r",
        " [**********************47%                       ]  69 of 147 complete"
       ]
      },
      {
       "output_type": "stream",
       "stream": "stdout",
       "text": [
        "\r",
        " [**********************48%                       ]  70 of 147 complete"
       ]
      },
      {
       "output_type": "stream",
       "stream": "stdout",
       "text": [
        "\r",
        " [**********************48%                       ]  71 of 147 complete"
       ]
      },
      {
       "output_type": "stream",
       "stream": "stdout",
       "text": [
        "\r",
        " [**********************49%                       ]  72 of 147 complete"
       ]
      },
      {
       "output_type": "stream",
       "stream": "stdout",
       "text": [
        "\r",
        " [**********************50%                       ]  73 of 147 complete"
       ]
      },
      {
       "output_type": "stream",
       "stream": "stdout",
       "text": [
        "\r",
        " [**********************50%                       ]  74 of 147 complete"
       ]
      },
      {
       "output_type": "stream",
       "stream": "stdout",
       "text": [
        "\r",
        " [**********************51%                       ]  75 of 147 complete"
       ]
      },
      {
       "output_type": "stream",
       "stream": "stdout",
       "text": [
        "\r",
        " [**********************52%                       ]  76 of 147 complete"
       ]
      },
      {
       "output_type": "stream",
       "stream": "stdout",
       "text": [
        "\r",
        " [**********************52%                       ]  77 of 147 complete"
       ]
      },
      {
       "output_type": "stream",
       "stream": "stdout",
       "text": [
        "\r",
        " [**********************53%                       ]  78 of 147 complete"
       ]
      },
      {
       "output_type": "stream",
       "stream": "stdout",
       "text": [
        "\r",
        " [**********************54%*                      ]  79 of 147 complete"
       ]
      },
      {
       "output_type": "stream",
       "stream": "stdout",
       "text": [
        "\r",
        " [**********************54%*                      ]  80 of 147 complete"
       ]
      },
      {
       "output_type": "stream",
       "stream": "stdout",
       "text": [
        "\r",
        " [**********************55%*                      ]  81 of 147 complete"
       ]
      },
      {
       "output_type": "stream",
       "stream": "stdout",
       "text": [
        "\r",
        " [**********************56%**                     ]  82 of 147 complete"
       ]
      },
      {
       "output_type": "stream",
       "stream": "stdout",
       "text": [
        "\r",
        " [**********************56%**                     ]  83 of 147 complete"
       ]
      },
      {
       "output_type": "stream",
       "stream": "stdout",
       "text": [
        "\r",
        " [**********************57%**                     ]  84 of 147 complete"
       ]
      },
      {
       "output_type": "stream",
       "stream": "stdout",
       "text": [
        "\r",
        " [**********************58%***                    ]  85 of 147 complete"
       ]
      },
      {
       "output_type": "stream",
       "stream": "stdout",
       "text": [
        "\r",
        " [**********************59%***                    ]  86 of 147 complete"
       ]
      },
      {
       "output_type": "stream",
       "stream": "stdout",
       "text": [
        "\r",
        " [**********************59%***                    ]  87 of 147 complete"
       ]
      },
      {
       "output_type": "stream",
       "stream": "stdout",
       "text": [
        "\r",
        " [**********************60%****                   ]  88 of 147 complete"
       ]
      },
      {
       "output_type": "stream",
       "stream": "stdout",
       "text": [
        "\r",
        " [**********************61%****                   ]  89 of 147 complete"
       ]
      },
      {
       "output_type": "stream",
       "stream": "stdout",
       "text": [
        "\r",
        " [**********************61%****                   ]  90 of 147 complete"
       ]
      },
      {
       "output_type": "stream",
       "stream": "stdout",
       "text": [
        "\r",
        " [**********************62%*****                  ]  91 of 147 complete"
       ]
      },
      {
       "output_type": "stream",
       "stream": "stdout",
       "text": [
        "\r",
        " [**********************63%*****                  ]  92 of 147 complete"
       ]
      },
      {
       "output_type": "stream",
       "stream": "stdout",
       "text": [
        "\r",
        " [**********************63%*****                  ]  93 of 147 complete"
       ]
      },
      {
       "output_type": "stream",
       "stream": "stdout",
       "text": [
        "\r",
        " [**********************64%******                 ]  94 of 147 complete"
       ]
      },
      {
       "output_type": "stream",
       "stream": "stdout",
       "text": [
        "\r",
        " [**********************65%******                 ]  95 of 147 complete"
       ]
      },
      {
       "output_type": "stream",
       "stream": "stdout",
       "text": [
        "\r",
        " [**********************65%******                 ]  96 of 147 complete"
       ]
      },
      {
       "output_type": "stream",
       "stream": "stdout",
       "text": [
        "\r",
        " [**********************66%*******                ]  97 of 147 complete"
       ]
      },
      {
       "output_type": "stream",
       "stream": "stdout",
       "text": [
        "\r",
        " [**********************67%*******                ]  98 of 147 complete"
       ]
      },
      {
       "output_type": "stream",
       "stream": "stdout",
       "text": [
        "\r",
        " [**********************67%*******                ]  99 of 147 complete"
       ]
      },
      {
       "output_type": "stream",
       "stream": "stdout",
       "text": [
        "\r",
        " [**********************68%********               ]  100 of 147 complete"
       ]
      },
      {
       "output_type": "stream",
       "stream": "stdout",
       "text": [
        "\r",
        " [**********************69%********               ]  101 of 147 complete"
       ]
      },
      {
       "output_type": "stream",
       "stream": "stdout",
       "text": [
        "\r",
        " [**********************69%********               ]  102 of 147 complete"
       ]
      },
      {
       "output_type": "stream",
       "stream": "stdout",
       "text": [
        "\r",
        " [**********************70%*********              ]  103 of 147 complete"
       ]
      },
      {
       "output_type": "stream",
       "stream": "stdout",
       "text": [
        "\r",
        " [**********************71%*********              ]  104 of 147 complete"
       ]
      },
      {
       "output_type": "stream",
       "stream": "stdout",
       "text": [
        "\r",
        " [**********************71%*********              ]  105 of 147 complete"
       ]
      },
      {
       "output_type": "stream",
       "stream": "stdout",
       "text": [
        "\r",
        " [**********************72%**********             ]  106 of 147 complete"
       ]
      },
      {
       "output_type": "stream",
       "stream": "stdout",
       "text": [
        "\r",
        " [**********************73%**********             ]  107 of 147 complete"
       ]
      },
      {
       "output_type": "stream",
       "stream": "stdout",
       "text": [
        "\r",
        " [**********************73%**********             ]  108 of 147 complete"
       ]
      },
      {
       "output_type": "stream",
       "stream": "stdout",
       "text": [
        "\r",
        " [**********************74%***********            ]  109 of 147 complete"
       ]
      },
      {
       "output_type": "stream",
       "stream": "stdout",
       "text": [
        "\r",
        " [**********************75%***********            ]  110 of 147 complete"
       ]
      },
      {
       "output_type": "stream",
       "stream": "stdout",
       "text": [
        "\r",
        " [**********************76%***********            ]  111 of 147 complete"
       ]
      },
      {
       "output_type": "stream",
       "stream": "stdout",
       "text": [
        "\r",
        " [**********************76%***********            ]  112 of 147 complete"
       ]
      },
      {
       "output_type": "stream",
       "stream": "stdout",
       "text": [
        "\r",
        " [**********************77%************           ]  113 of 147 complete"
       ]
      },
      {
       "output_type": "stream",
       "stream": "stdout",
       "text": [
        "\r",
        " [**********************78%************           ]  114 of 147 complete"
       ]
      },
      {
       "output_type": "stream",
       "stream": "stdout",
       "text": [
        "\r",
        " [**********************78%************           ]  115 of 147 complete"
       ]
      },
      {
       "output_type": "stream",
       "stream": "stdout",
       "text": [
        "\r",
        " [**********************79%*************          ]  116 of 147 complete"
       ]
      },
      {
       "output_type": "stream",
       "stream": "stdout",
       "text": [
        "\r",
        " [**********************80%*************          ]  117 of 147 complete"
       ]
      },
      {
       "output_type": "stream",
       "stream": "stdout",
       "text": [
        "\r",
        " [**********************80%*************          ]  118 of 147 complete"
       ]
      },
      {
       "output_type": "stream",
       "stream": "stdout",
       "text": [
        "\r",
        " [**********************81%**************         ]  119 of 147 complete"
       ]
      },
      {
       "output_type": "stream",
       "stream": "stdout",
       "text": [
        "\r",
        " [**********************82%**************         ]  120 of 147 complete"
       ]
      },
      {
       "output_type": "stream",
       "stream": "stdout",
       "text": [
        "\r",
        " [**********************82%**************         ]  121 of 147 complete"
       ]
      },
      {
       "output_type": "stream",
       "stream": "stdout",
       "text": [
        "\r",
        " [**********************83%***************        ]  122 of 147 complete"
       ]
      },
      {
       "output_type": "stream",
       "stream": "stdout",
       "text": [
        "\r",
        " [**********************84%***************        ]  123 of 147 complete"
       ]
      },
      {
       "output_type": "stream",
       "stream": "stdout",
       "text": [
        "\r",
        " [**********************84%***************        ]  124 of 147 complete"
       ]
      },
      {
       "output_type": "stream",
       "stream": "stdout",
       "text": [
        "\r",
        " [**********************85%****************       ]  125 of 147 complete"
       ]
      },
      {
       "output_type": "stream",
       "stream": "stdout",
       "text": [
        "\r",
        " [**********************86%****************       ]  126 of 147 complete"
       ]
      },
      {
       "output_type": "stream",
       "stream": "stdout",
       "text": [
        "\r",
        " [**********************86%****************       ]  127 of 147 complete"
       ]
      },
      {
       "output_type": "stream",
       "stream": "stdout",
       "text": [
        "\r",
        " [**********************87%*****************      ]  128 of 147 complete"
       ]
      },
      {
       "output_type": "stream",
       "stream": "stdout",
       "text": [
        "\r",
        " [**********************88%*****************      ]  129 of 147 complete"
       ]
      },
      {
       "output_type": "stream",
       "stream": "stdout",
       "text": [
        "\r",
        " [**********************88%*****************      ]  130 of 147 complete"
       ]
      },
      {
       "output_type": "stream",
       "stream": "stdout",
       "text": [
        "\r",
        " [**********************89%******************     ]  131 of 147 complete"
       ]
      },
      {
       "output_type": "stream",
       "stream": "stdout",
       "text": [
        "\r",
        " [**********************90%******************     ]  132 of 147 complete"
       ]
      },
      {
       "output_type": "stream",
       "stream": "stdout",
       "text": [
        "\r",
        " [**********************90%******************     ]  133 of 147 complete"
       ]
      },
      {
       "output_type": "stream",
       "stream": "stdout",
       "text": [
        "\r",
        " [**********************91%*******************    ]  134 of 147 complete"
       ]
      },
      {
       "output_type": "stream",
       "stream": "stdout",
       "text": [
        "\r",
        " [**********************92%*******************    ]  135 of 147 complete"
       ]
      },
      {
       "output_type": "stream",
       "stream": "stdout",
       "text": [
        "\r",
        " [**********************93%********************   ]  136 of 147 complete"
       ]
      },
      {
       "output_type": "stream",
       "stream": "stdout",
       "text": [
        "\r",
        " [**********************93%********************   ]  137 of 147 complete"
       ]
      },
      {
       "output_type": "stream",
       "stream": "stdout",
       "text": [
        "\r",
        " [**********************94%********************   ]  138 of 147 complete"
       ]
      },
      {
       "output_type": "stream",
       "stream": "stdout",
       "text": [
        "\r",
        " [**********************95%*********************  ]  139 of 147 complete"
       ]
      },
      {
       "output_type": "stream",
       "stream": "stdout",
       "text": [
        "\r",
        " [**********************95%*********************  ]  140 of 147 complete"
       ]
      },
      {
       "output_type": "stream",
       "stream": "stdout",
       "text": [
        "\r",
        " [**********************96%*********************  ]  141 of 147 complete"
       ]
      },
      {
       "output_type": "stream",
       "stream": "stdout",
       "text": [
        "\r",
        " [**********************97%********************** ]  142 of 147 complete"
       ]
      },
      {
       "output_type": "stream",
       "stream": "stdout",
       "text": [
        "\r",
        " [**********************97%********************** ]  143 of 147 complete"
       ]
      },
      {
       "output_type": "stream",
       "stream": "stdout",
       "text": [
        "\r",
        " [**********************98%********************** ]  144 of 147 complete"
       ]
      },
      {
       "output_type": "stream",
       "stream": "stdout",
       "text": [
        "\r",
        " [**********************99%***********************]  145 of 147 complete"
       ]
      },
      {
       "output_type": "stream",
       "stream": "stdout",
       "text": [
        "\r",
        " [**********************99%***********************]  146 of 147 complete"
       ]
      },
      {
       "output_type": "stream",
       "stream": "stdout",
       "text": [
        "\r",
        " [*********************100%***********************]  147 of 147 complete"
       ]
      },
      {
       "output_type": "stream",
       "stream": "stdout",
       "text": [
        "\r",
        " [                       0%                       ]"
       ]
      },
      {
       "output_type": "stream",
       "stream": "stdout",
       "text": [
        "\r",
        " [                       1%                       ]  2 of 147 complete"
       ]
      },
      {
       "output_type": "stream",
       "stream": "stdout",
       "text": [
        "\r",
        " [*                      2%                       ]  3 of 147 complete"
       ]
      },
      {
       "output_type": "stream",
       "stream": "stdout",
       "text": [
        "\r",
        " [*                      3%                       ]  4 of 147 complete"
       ]
      },
      {
       "output_type": "stream",
       "stream": "stdout",
       "text": [
        "\r",
        " [*                      3%                       ]  5 of 147 complete"
       ]
      },
      {
       "output_type": "stream",
       "stream": "stdout",
       "text": [
        "\r",
        " [**                     4%                       ]  6 of 147 complete"
       ]
      },
      {
       "output_type": "stream",
       "stream": "stdout",
       "text": [
        "\r",
        " [**                     5%                       ]  7 of 147 complete"
       ]
      },
      {
       "output_type": "stream",
       "stream": "stdout",
       "text": [
        "\r",
        " [**                     5%                       ]  8 of 147 complete"
       ]
      },
      {
       "output_type": "stream",
       "stream": "stdout",
       "text": [
        "\r",
        " [***                    6%                       ]  9 of 147 complete"
       ]
      },
      {
       "output_type": "stream",
       "stream": "stdout",
       "text": [
        "\r",
        " [***                    7%                       ]  10 of 147 complete"
       ]
      },
      {
       "output_type": "stream",
       "stream": "stdout",
       "text": [
        "\r",
        " [***                    7%                       ]  11 of 147 complete"
       ]
      },
      {
       "output_type": "stream",
       "stream": "stdout",
       "text": [
        "\r",
        " [****                   8%                       ]  12 of 147 complete"
       ]
      },
      {
       "output_type": "stream",
       "stream": "stdout",
       "text": [
        "\r",
        " [****                   9%                       ]  13 of 147 complete"
       ]
      },
      {
       "output_type": "stream",
       "stream": "stdout",
       "text": [
        "\r",
        " [*****                 10%                       ]  14 of 147 complete"
       ]
      },
      {
       "output_type": "stream",
       "stream": "stdout",
       "text": [
        "\r",
        " [*****                 10%                       ]  15 of 147 complete"
       ]
      },
      {
       "output_type": "stream",
       "stream": "stdout",
       "text": [
        "\r",
        " [*****                 11%                       ]  16 of 147 complete"
       ]
      },
      {
       "output_type": "stream",
       "stream": "stdout",
       "text": [
        "\r",
        " [******                12%                       ]  17 of 147 complete"
       ]
      },
      {
       "output_type": "stream",
       "stream": "stdout",
       "text": [
        "\r",
        " [******                12%                       ]  18 of 147 complete"
       ]
      },
      {
       "output_type": "stream",
       "stream": "stdout",
       "text": [
        "\r",
        " [******                13%                       ]  19 of 147 complete"
       ]
      },
      {
       "output_type": "stream",
       "stream": "stdout",
       "text": [
        "\r",
        " [*******               14%                       ]  20 of 147 complete"
       ]
      },
      {
       "output_type": "stream",
       "stream": "stdout",
       "text": [
        "\r",
        " [*******               14%                       ]  21 of 147 complete"
       ]
      },
      {
       "output_type": "stream",
       "stream": "stdout",
       "text": [
        "\r",
        " [*******               15%                       ]  22 of 147 complete"
       ]
      },
      {
       "output_type": "stream",
       "stream": "stdout",
       "text": [
        "\r",
        " [********              16%                       ]  23 of 147 complete"
       ]
      },
      {
       "output_type": "stream",
       "stream": "stdout",
       "text": [
        "\r",
        " [********              16%                       ]  24 of 147 complete"
       ]
      },
      {
       "output_type": "stream",
       "stream": "stdout",
       "text": [
        "\r",
        " [********              17%                       ]  25 of 147 complete"
       ]
      },
      {
       "output_type": "stream",
       "stream": "stdout",
       "text": [
        "\r",
        " [*********             18%                       ]  26 of 147 complete"
       ]
      },
      {
       "output_type": "stream",
       "stream": "stdout",
       "text": [
        "\r",
        " [*********             18%                       ]  27 of 147 complete"
       ]
      },
      {
       "output_type": "stream",
       "stream": "stdout",
       "text": [
        "\r",
        " [*********             19%                       ]  28 of 147 complete"
       ]
      },
      {
       "output_type": "stream",
       "stream": "stdout",
       "text": [
        "\r",
        " [**********            20%                       ]  29 of 147 complete"
       ]
      },
      {
       "output_type": "stream",
       "stream": "stdout",
       "text": [
        "\r",
        " [**********            20%                       ]  30 of 147 complete"
       ]
      },
      {
       "output_type": "stream",
       "stream": "stdout",
       "text": [
        "\r",
        " [**********            21%                       ]  31 of 147 complete"
       ]
      },
      {
       "output_type": "stream",
       "stream": "stdout",
       "text": [
        "\r",
        " [***********           22%                       ]  32 of 147 complete"
       ]
      },
      {
       "output_type": "stream",
       "stream": "stdout",
       "text": [
        "\r",
        " [***********           22%                       ]  33 of 147 complete"
       ]
      },
      {
       "output_type": "stream",
       "stream": "stdout",
       "text": [
        "\r",
        " [***********           23%                       ]  34 of 147 complete"
       ]
      },
      {
       "output_type": "stream",
       "stream": "stdout",
       "text": [
        "\r",
        " [************          24%                       ]  35 of 147 complete"
       ]
      },
      {
       "output_type": "stream",
       "stream": "stdout",
       "text": [
        "\r",
        " [************          24%                       ]  36 of 147 complete"
       ]
      },
      {
       "output_type": "stream",
       "stream": "stdout",
       "text": [
        "\r",
        " [************          25%                       ]  37 of 147 complete"
       ]
      },
      {
       "output_type": "stream",
       "stream": "stdout",
       "text": [
        "\r",
        " [************          26%                       ]  38 of 147 complete"
       ]
      },
      {
       "output_type": "stream",
       "stream": "stdout",
       "text": [
        "\r",
        " [*************         27%                       ]  39 of 147 complete"
       ]
      },
      {
       "output_type": "stream",
       "stream": "stdout",
       "text": [
        "\r",
        " [*************         27%                       ]  40 of 147 complete"
       ]
      },
      {
       "output_type": "stream",
       "stream": "stdout",
       "text": [
        "\r",
        " [*************         28%                       ]  41 of 147 complete"
       ]
      },
      {
       "output_type": "stream",
       "stream": "stdout",
       "text": [
        "\r",
        " [**************        29%                       ]  42 of 147 complete"
       ]
      },
      {
       "output_type": "stream",
       "stream": "stdout",
       "text": [
        "\r",
        " [**************        29%                       ]  43 of 147 complete"
       ]
      },
      {
       "output_type": "stream",
       "stream": "stdout",
       "text": [
        "\r",
        " [**************        30%                       ]  44 of 147 complete"
       ]
      },
      {
       "output_type": "stream",
       "stream": "stdout",
       "text": [
        "\r",
        " [***************       31%                       ]  45 of 147 complete"
       ]
      },
      {
       "output_type": "stream",
       "stream": "stdout",
       "text": [
        "\r",
        " [***************       31%                       ]  46 of 147 complete"
       ]
      },
      {
       "output_type": "stream",
       "stream": "stdout",
       "text": [
        "\r",
        " [***************       32%                       ]  47 of 147 complete"
       ]
      },
      {
       "output_type": "stream",
       "stream": "stdout",
       "text": [
        "\r",
        " [****************      33%                       ]  48 of 147 complete"
       ]
      },
      {
       "output_type": "stream",
       "stream": "stdout",
       "text": [
        "\r",
        " [****************      33%                       ]  49 of 147 complete"
       ]
      },
      {
       "output_type": "stream",
       "stream": "stdout",
       "text": [
        "\r",
        " [****************      34%                       ]  50 of 147 complete"
       ]
      },
      {
       "output_type": "stream",
       "stream": "stdout",
       "text": [
        "\r",
        " [*****************     35%                       ]  51 of 147 complete"
       ]
      },
      {
       "output_type": "stream",
       "stream": "stdout",
       "text": [
        "\r",
        " [*****************     35%                       ]  52 of 147 complete"
       ]
      },
      {
       "output_type": "stream",
       "stream": "stdout",
       "text": [
        "\r",
        " [*****************     36%                       ]  53 of 147 complete"
       ]
      },
      {
       "output_type": "stream",
       "stream": "stdout",
       "text": [
        "\r",
        " [******************    37%                       ]  54 of 147 complete"
       ]
      },
      {
       "output_type": "stream",
       "stream": "stdout",
       "text": [
        "\r",
        " [******************    37%                       ]  55 of 147 complete"
       ]
      },
      {
       "output_type": "stream",
       "stream": "stdout",
       "text": [
        "\r",
        " [******************    38%                       ]  56 of 147 complete"
       ]
      },
      {
       "output_type": "stream",
       "stream": "stdout",
       "text": [
        "\r",
        " [*******************   39%                       ]  57 of 147 complete"
       ]
      },
      {
       "output_type": "stream",
       "stream": "stdout",
       "text": [
        "\r",
        " [*******************   39%                       ]  58 of 147 complete"
       ]
      },
      {
       "output_type": "stream",
       "stream": "stdout",
       "text": [
        "\r",
        " [*******************   40%                       ]  59 of 147 complete"
       ]
      },
      {
       "output_type": "stream",
       "stream": "stdout",
       "text": [
        "\r",
        " [********************  41%                       ]  60 of 147 complete"
       ]
      },
      {
       "output_type": "stream",
       "stream": "stdout",
       "text": [
        "\r",
        " [********************  41%                       ]  61 of 147 complete"
       ]
      },
      {
       "output_type": "stream",
       "stream": "stdout",
       "text": [
        "\r",
        " [********************  42%                       ]  62 of 147 complete"
       ]
      },
      {
       "output_type": "stream",
       "stream": "stdout",
       "text": [
        "\r",
        " [********************* 43%                       ]  63 of 147 complete"
       ]
      },
      {
       "output_type": "stream",
       "stream": "stdout",
       "text": [
        "\r",
        " [********************* 44%                       ]  64 of 147 complete"
       ]
      },
      {
       "output_type": "stream",
       "stream": "stdout",
       "text": [
        "\r",
        " [********************* 44%                       ]  65 of 147 complete"
       ]
      },
      {
       "output_type": "stream",
       "stream": "stdout",
       "text": [
        "\r",
        " [**********************45%                       ]  66 of 147 complete"
       ]
      },
      {
       "output_type": "stream",
       "stream": "stdout",
       "text": [
        "\r",
        " [**********************46%                       ]  67 of 147 complete"
       ]
      },
      {
       "output_type": "stream",
       "stream": "stdout",
       "text": [
        "\r",
        " [**********************46%                       ]  68 of 147 complete"
       ]
      },
      {
       "output_type": "stream",
       "stream": "stdout",
       "text": [
        "\r",
        " [**********************47%                       ]  69 of 147 complete"
       ]
      },
      {
       "output_type": "stream",
       "stream": "stdout",
       "text": [
        "\r",
        " [**********************48%                       ]  70 of 147 complete"
       ]
      },
      {
       "output_type": "stream",
       "stream": "stdout",
       "text": [
        "\r",
        " [**********************48%                       ]  71 of 147 complete"
       ]
      },
      {
       "output_type": "stream",
       "stream": "stdout",
       "text": [
        "\r",
        " [**********************49%                       ]  72 of 147 complete"
       ]
      },
      {
       "output_type": "stream",
       "stream": "stdout",
       "text": [
        "\r",
        " [**********************50%                       ]  73 of 147 complete"
       ]
      },
      {
       "output_type": "stream",
       "stream": "stdout",
       "text": [
        "\r",
        " [**********************50%                       ]  74 of 147 complete"
       ]
      },
      {
       "output_type": "stream",
       "stream": "stdout",
       "text": [
        "\r",
        " [**********************51%                       ]  75 of 147 complete"
       ]
      },
      {
       "output_type": "stream",
       "stream": "stdout",
       "text": [
        "\r",
        " [**********************52%                       ]  76 of 147 complete"
       ]
      },
      {
       "output_type": "stream",
       "stream": "stdout",
       "text": [
        "\r",
        " [**********************52%                       ]  77 of 147 complete"
       ]
      },
      {
       "output_type": "stream",
       "stream": "stdout",
       "text": [
        "\r",
        " [**********************53%                       ]  78 of 147 complete"
       ]
      },
      {
       "output_type": "stream",
       "stream": "stdout",
       "text": [
        "\r",
        " [**********************54%*                      ]  79 of 147 complete"
       ]
      },
      {
       "output_type": "stream",
       "stream": "stdout",
       "text": [
        "\r",
        " [**********************54%*                      ]  80 of 147 complete"
       ]
      },
      {
       "output_type": "stream",
       "stream": "stdout",
       "text": [
        "\r",
        " [**********************55%*                      ]  81 of 147 complete"
       ]
      },
      {
       "output_type": "stream",
       "stream": "stdout",
       "text": [
        "\r",
        " [**********************56%**                     ]  82 of 147 complete"
       ]
      },
      {
       "output_type": "stream",
       "stream": "stdout",
       "text": [
        "\r",
        " [**********************56%**                     ]  83 of 147 complete"
       ]
      },
      {
       "output_type": "stream",
       "stream": "stdout",
       "text": [
        "\r",
        " [**********************57%**                     ]  84 of 147 complete"
       ]
      },
      {
       "output_type": "stream",
       "stream": "stdout",
       "text": [
        "\r",
        " [**********************58%***                    ]  85 of 147 complete"
       ]
      },
      {
       "output_type": "stream",
       "stream": "stdout",
       "text": [
        "\r",
        " [**********************59%***                    ]  86 of 147 complete"
       ]
      },
      {
       "output_type": "stream",
       "stream": "stdout",
       "text": [
        "\r",
        " [**********************59%***                    ]  87 of 147 complete"
       ]
      },
      {
       "output_type": "stream",
       "stream": "stdout",
       "text": [
        "\r",
        " [**********************60%****                   ]  88 of 147 complete"
       ]
      },
      {
       "output_type": "stream",
       "stream": "stdout",
       "text": [
        "\r",
        " [**********************61%****                   ]  89 of 147 complete"
       ]
      },
      {
       "output_type": "stream",
       "stream": "stdout",
       "text": [
        "\r",
        " [**********************61%****                   ]  90 of 147 complete"
       ]
      },
      {
       "output_type": "stream",
       "stream": "stdout",
       "text": [
        "\r",
        " [**********************62%*****                  ]  91 of 147 complete"
       ]
      },
      {
       "output_type": "stream",
       "stream": "stdout",
       "text": [
        "\r",
        " [**********************63%*****                  ]  92 of 147 complete"
       ]
      },
      {
       "output_type": "stream",
       "stream": "stdout",
       "text": [
        "\r",
        " [**********************63%*****                  ]  93 of 147 complete"
       ]
      },
      {
       "output_type": "stream",
       "stream": "stdout",
       "text": [
        "\r",
        " [**********************64%******                 ]  94 of 147 complete"
       ]
      },
      {
       "output_type": "stream",
       "stream": "stdout",
       "text": [
        "\r",
        " [**********************65%******                 ]  95 of 147 complete"
       ]
      },
      {
       "output_type": "stream",
       "stream": "stdout",
       "text": [
        "\r",
        " [**********************65%******                 ]  96 of 147 complete"
       ]
      },
      {
       "output_type": "stream",
       "stream": "stdout",
       "text": [
        "\r",
        " [**********************66%*******                ]  97 of 147 complete"
       ]
      },
      {
       "output_type": "stream",
       "stream": "stdout",
       "text": [
        "\r",
        " [**********************67%*******                ]  98 of 147 complete"
       ]
      },
      {
       "output_type": "stream",
       "stream": "stdout",
       "text": [
        "\r",
        " [**********************67%*******                ]  99 of 147 complete"
       ]
      },
      {
       "output_type": "stream",
       "stream": "stdout",
       "text": [
        "\r",
        " [**********************68%********               ]  100 of 147 complete"
       ]
      },
      {
       "output_type": "stream",
       "stream": "stdout",
       "text": [
        "\r",
        " [**********************69%********               ]  101 of 147 complete"
       ]
      },
      {
       "output_type": "stream",
       "stream": "stdout",
       "text": [
        "\r",
        " [**********************69%********               ]  102 of 147 complete"
       ]
      },
      {
       "output_type": "stream",
       "stream": "stdout",
       "text": [
        "\r",
        " [**********************70%*********              ]  103 of 147 complete"
       ]
      },
      {
       "output_type": "stream",
       "stream": "stdout",
       "text": [
        "\r",
        " [**********************71%*********              ]  104 of 147 complete"
       ]
      },
      {
       "output_type": "stream",
       "stream": "stdout",
       "text": [
        "\r",
        " [**********************71%*********              ]  105 of 147 complete"
       ]
      },
      {
       "output_type": "stream",
       "stream": "stdout",
       "text": [
        "\r",
        " [**********************72%**********             ]  106 of 147 complete"
       ]
      },
      {
       "output_type": "stream",
       "stream": "stdout",
       "text": [
        "\r",
        " [**********************73%**********             ]  107 of 147 complete"
       ]
      },
      {
       "output_type": "stream",
       "stream": "stdout",
       "text": [
        "\r",
        " [**********************73%**********             ]  108 of 147 complete"
       ]
      },
      {
       "output_type": "stream",
       "stream": "stdout",
       "text": [
        "\r",
        " [**********************74%***********            ]  109 of 147 complete"
       ]
      },
      {
       "output_type": "stream",
       "stream": "stdout",
       "text": [
        "\r",
        " [**********************75%***********            ]  110 of 147 complete"
       ]
      },
      {
       "output_type": "stream",
       "stream": "stdout",
       "text": [
        "\r",
        " [**********************76%***********            ]  111 of 147 complete"
       ]
      },
      {
       "output_type": "stream",
       "stream": "stdout",
       "text": [
        "\r",
        " [**********************76%***********            ]  112 of 147 complete"
       ]
      },
      {
       "output_type": "stream",
       "stream": "stdout",
       "text": [
        "\r",
        " [**********************77%************           ]  113 of 147 complete"
       ]
      },
      {
       "output_type": "stream",
       "stream": "stdout",
       "text": [
        "\r",
        " [**********************78%************           ]  114 of 147 complete"
       ]
      },
      {
       "output_type": "stream",
       "stream": "stdout",
       "text": [
        "\r",
        " [**********************78%************           ]  115 of 147 complete"
       ]
      },
      {
       "output_type": "stream",
       "stream": "stdout",
       "text": [
        "\r",
        " [**********************79%*************          ]  116 of 147 complete"
       ]
      },
      {
       "output_type": "stream",
       "stream": "stdout",
       "text": [
        "\r",
        " [**********************80%*************          ]  117 of 147 complete"
       ]
      },
      {
       "output_type": "stream",
       "stream": "stdout",
       "text": [
        "\r",
        " [**********************80%*************          ]  118 of 147 complete"
       ]
      },
      {
       "output_type": "stream",
       "stream": "stdout",
       "text": [
        "\r",
        " [**********************81%**************         ]  119 of 147 complete"
       ]
      },
      {
       "output_type": "stream",
       "stream": "stdout",
       "text": [
        "\r",
        " [**********************82%**************         ]  120 of 147 complete"
       ]
      },
      {
       "output_type": "stream",
       "stream": "stdout",
       "text": [
        "\r",
        " [**********************82%**************         ]  121 of 147 complete"
       ]
      },
      {
       "output_type": "stream",
       "stream": "stdout",
       "text": [
        "\r",
        " [**********************83%***************        ]  122 of 147 complete"
       ]
      },
      {
       "output_type": "stream",
       "stream": "stdout",
       "text": [
        "\r",
        " [**********************84%***************        ]  123 of 147 complete"
       ]
      },
      {
       "output_type": "stream",
       "stream": "stdout",
       "text": [
        "\r",
        " [**********************84%***************        ]  124 of 147 complete"
       ]
      },
      {
       "output_type": "stream",
       "stream": "stdout",
       "text": [
        "\r",
        " [**********************85%****************       ]  125 of 147 complete"
       ]
      },
      {
       "output_type": "stream",
       "stream": "stdout",
       "text": [
        "\r",
        " [**********************86%****************       ]  126 of 147 complete"
       ]
      },
      {
       "output_type": "stream",
       "stream": "stdout",
       "text": [
        "\r",
        " [**********************86%****************       ]  127 of 147 complete"
       ]
      },
      {
       "output_type": "stream",
       "stream": "stdout",
       "text": [
        "\r",
        " [**********************87%*****************      ]  128 of 147 complete"
       ]
      },
      {
       "output_type": "stream",
       "stream": "stdout",
       "text": [
        "\r",
        " [**********************88%*****************      ]  129 of 147 complete"
       ]
      },
      {
       "output_type": "stream",
       "stream": "stdout",
       "text": [
        "\r",
        " [**********************88%*****************      ]  130 of 147 complete"
       ]
      },
      {
       "output_type": "stream",
       "stream": "stdout",
       "text": [
        "\r",
        " [**********************89%******************     ]  131 of 147 complete"
       ]
      },
      {
       "output_type": "stream",
       "stream": "stdout",
       "text": [
        "\r",
        " [**********************90%******************     ]  132 of 147 complete"
       ]
      },
      {
       "output_type": "stream",
       "stream": "stdout",
       "text": [
        "\r",
        " [**********************90%******************     ]  133 of 147 complete"
       ]
      },
      {
       "output_type": "stream",
       "stream": "stdout",
       "text": [
        "\r",
        " [**********************91%*******************    ]  134 of 147 complete"
       ]
      },
      {
       "output_type": "stream",
       "stream": "stdout",
       "text": [
        "\r",
        " [**********************92%*******************    ]  135 of 147 complete"
       ]
      },
      {
       "output_type": "stream",
       "stream": "stdout",
       "text": [
        "\r",
        " [**********************93%********************   ]  136 of 147 complete"
       ]
      },
      {
       "output_type": "stream",
       "stream": "stdout",
       "text": [
        "\r",
        " [**********************93%********************   ]  137 of 147 complete"
       ]
      },
      {
       "output_type": "stream",
       "stream": "stdout",
       "text": [
        "\r",
        " [**********************94%********************   ]  138 of 147 complete"
       ]
      },
      {
       "output_type": "stream",
       "stream": "stdout",
       "text": [
        "\r",
        " [**********************95%*********************  ]  139 of 147 complete"
       ]
      },
      {
       "output_type": "stream",
       "stream": "stdout",
       "text": [
        "\r",
        " [**********************95%*********************  ]  140 of 147 complete"
       ]
      },
      {
       "output_type": "stream",
       "stream": "stdout",
       "text": [
        "\r",
        " [**********************96%*********************  ]  141 of 147 complete"
       ]
      },
      {
       "output_type": "stream",
       "stream": "stdout",
       "text": [
        "\r",
        " [**********************97%********************** ]  142 of 147 complete"
       ]
      },
      {
       "output_type": "stream",
       "stream": "stdout",
       "text": [
        "\r",
        " [**********************97%********************** ]  143 of 147 complete"
       ]
      },
      {
       "output_type": "stream",
       "stream": "stdout",
       "text": [
        "\r",
        " [**********************98%********************** ]  144 of 147 complete"
       ]
      },
=======
>>>>>>> d78eabfc11d41059961be59f66dfe1db4739f94a
      {
       "metadata": {},
       "output_type": "pyout",
       "prompt_number": 8,
       "text": [
        "<module 'diviner.calib' from '/u/paige/maye/src/diviner/calib.pyc'>"
       ]
      }
     ],
     "prompt_number": 8
    },
    {
     "cell_type": "code",
     "collapsed": false,
     "input": [
      "first_day = '20110401'"
     ],
     "language": "python",
     "metadata": {},
     "outputs": [],
     "prompt_number": 9
    },
    {
     "cell_type": "code",
     "collapsed": false,
     "input": [
      "pump = fu.L1ADataPump(first_day)\n",
      "pump.fnames"
     ],
     "language": "python",
     "metadata": {},
     "outputs": [
      {
       "metadata": {},
       "output_type": "pyout",
       "prompt_number": 10,
       "text": [
        "['/raid1/maye/l1a_data/2011040100_L1A.TAB',\n",
        " '/raid1/maye/l1a_data/2011040101_L1A.TAB',\n",
        " '/raid1/maye/l1a_data/2011040102_L1A.TAB',\n",
        " '/raid1/maye/l1a_data/2011040103_L1A.TAB',\n",
        " '/raid1/maye/l1a_data/2011040104_L1A.TAB',\n",
        " '/raid1/maye/l1a_data/2011040105_L1A.TAB',\n",
        " '/raid1/maye/l1a_data/2011040106_L1A.TAB',\n",
        " '/raid1/maye/l1a_data/2011040107_L1A.TAB',\n",
        " '/raid1/maye/l1a_data/2011040108_L1A.TAB',\n",
        " '/raid1/maye/l1a_data/2011040109_L1A.TAB',\n",
        " '/raid1/maye/l1a_data/2011040110_L1A.TAB',\n",
        " '/raid1/maye/l1a_data/2011040111_L1A.TAB',\n",
        " '/raid1/maye/l1a_data/2011040112_L1A.TAB',\n",
        " '/raid1/maye/l1a_data/2011040113_L1A.TAB',\n",
        " '/raid1/maye/l1a_data/2011040114_L1A.TAB',\n",
        " '/raid1/maye/l1a_data/2011040115_L1A.TAB',\n",
        " '/raid1/maye/l1a_data/2011040116_L1A.TAB',\n",
        " '/raid1/maye/l1a_data/2011040117_L1A.TAB',\n",
        " '/raid1/maye/l1a_data/2011040118_L1A.TAB',\n",
        " '/raid1/maye/l1a_data/2011040119_L1A.TAB',\n",
        " '/raid1/maye/l1a_data/2011040120_L1A.TAB',\n",
        " '/raid1/maye/l1a_data/2011040121_L1A.TAB',\n",
        " '/raid1/maye/l1a_data/2011040122_L1A.TAB',\n",
        " '/raid1/maye/l1a_data/2011040123_L1A.TAB']"
       ]
      }
     ],
     "prompt_number": 10
    },
    {
     "cell_type": "code",
     "collapsed": false,
     "input": [
      "fn = fu.FileName(pump.fnames[0])\n",
      "fn.fname"
     ],
     "language": "python",
     "metadata": {},
     "outputs": [
      {
       "metadata": {},
       "output_type": "pyout",
       "prompt_number": 11,
       "text": [
        "'/raid1/maye/l1a_data/2011040100_L1A.TAB'"
       ]
      }
     ],
<<<<<<< HEAD
     "prompt_number": 28
=======
     "prompt_number": 11
    },
    {
     "cell_type": "code",
     "collapsed": false,
     "input": [
      "df = pump.get_3_hour_block(fn.fname)"
     ],
     "language": "python",
     "metadata": {},
     "outputs": [],
     "prompt_number": 12
>>>>>>> d78eabfc11d41059961be59f66dfe1db4739f94a
    },
    {
     "cell_type": "code",
     "collapsed": false,
     "input": [
      "df"
     ],
     "language": "python",
     "metadata": {},
     "outputs": [
      {
       "html": [
        "<pre>\n",
        "&lt;class 'pandas.core.frame.DataFrame'&gt;\n",
<<<<<<< HEAD
        "DatetimeIndex: 76704 entries, 2011-04-11 00:00:01.590000 to 2011-04-11 03:00:00.755000\n",
        "Columns: 147 entries, a3_01 to b3_21\n",
        "dtypes: float64(147)\n",
=======
        "DatetimeIndex: 84368 entries, 2011-03-31 23:00:01.523000 to 2011-04-01 02:00:00.697000\n",
        "Columns: 257 entries, q to is_calib\n",
        "dtypes: bool(6), float64(50), int32(4), int64(193), object(4)\n",
>>>>>>> d78eabfc11d41059961be59f66dfe1db4739f94a
        "</pre>"
       ],
       "metadata": {},
       "output_type": "pyout",
<<<<<<< HEAD
       "prompt_number": 29,
       "text": [
        "<class 'pandas.core.frame.DataFrame'>\n",
        "DatetimeIndex: 76704 entries, 2011-04-11 00:00:01.590000 to 2011-04-11 03:00:00.755000\n",
        "Columns: 147 entries, a3_01 to b3_21\n",
        "dtypes: float64(147)"
       ]
      }
     ],
     "prompt_number": 29
=======
       "prompt_number": 13,
       "text": [
        "<class 'pandas.core.frame.DataFrame'>\n",
        "DatetimeIndex: 84368 entries, 2011-03-31 23:00:01.523000 to 2011-04-01 02:00:00.697000\n",
        "Columns: 257 entries, q to is_calib\n",
        "dtypes: bool(6), float64(50), int32(4), int64(193), object(4)"
       ]
      }
     ],
     "prompt_number": 13
    },
    {
     "cell_type": "code",
     "collapsed": false,
     "input": [
      "rdr = fu.RDRReader.from_timestr(fn.timestr)"
     ],
     "language": "python",
     "metadata": {},
     "outputs": [],
     "prompt_number": 6
>>>>>>> d78eabfc11d41059961be59f66dfe1db4739f94a
    },
    {
     "cell_type": "code",
     "collapsed": false,
     "input": [
      "rdrdf = rdr.read_df()"
     ],
     "language": "python",
     "metadata": {},
     "outputs": [],
     "prompt_number": 7
    },
    {
     "cell_type": "code",
     "collapsed": false,
     "input": [
      "c = calib.Calibrator(df)"
     ],
     "language": "python",
     "metadata": {},
     "outputs": [],
     "prompt_number": 17
    },
    {
     "cell_type": "code",
     "collapsed": false,
     "input": [
      "df"
     ],
     "language": "python",
     "metadata": {},
     "outputs": [
      {
       "html": [
        "<pre>\n",
        "&lt;class 'pandas.core.frame.DataFrame'&gt;\n",
        "DatetimeIndex: 84368 entries, 2013-02-28 22:24:13.516352 to 2013-03-01 01:24:12.516352\n",
        "Columns: 257 entries, q to is_calib\n",
        "dtypes: bool(6), float64(50), int32(4), int64(193), object(4)\n",
        "</pre>"
       ],
       "metadata": {},
       "output_type": "pyout",
<<<<<<< HEAD
       "prompt_number": 30,
       "text": [
        "11275488"
       ]
      }
     ],
     "prompt_number": 30
=======
       "prompt_number": 22,
       "text": [
        "<class 'pandas.core.frame.DataFrame'>\n",
        "DatetimeIndex: 84368 entries, 2013-02-28 22:24:13.516352 to 2013-03-01 01:24:12.516352\n",
        "Columns: 257 entries, q to is_calib\n",
        "dtypes: bool(6), float64(50), int32(4), int64(193), object(4)"
       ]
      }
     ],
     "prompt_number": 22
    },
    {
     "cell_type": "code",
     "collapsed": false,
     "input": [
      "c.calibrate()"
     ],
     "language": "python",
     "metadata": {},
     "outputs": [
      {
       "ename": "AssertionError",
       "evalue": "Index length did not match values",
       "output_type": "pyerr",
       "traceback": [
        "\u001b[1;31m---------------------------------------------------------------------------\u001b[0m\n\u001b[1;31mAssertionError\u001b[0m                            Traceback (most recent call last)",
        "\u001b[1;32m<ipython-input-18-0db478993041>\u001b[0m in \u001b[0;36m<module>\u001b[1;34m()\u001b[0m\n\u001b[1;32m----> 1\u001b[1;33m \u001b[0mc\u001b[0m\u001b[1;33m.\u001b[0m\u001b[0mcalibrate\u001b[0m\u001b[1;33m(\u001b[0m\u001b[1;33m)\u001b[0m\u001b[1;33m\u001b[0m\u001b[0m\n\u001b[0m",
        "\u001b[1;32m/u/paige/maye/src/diviner/calib.py\u001b[0m in \u001b[0;36mcalibrate\u001b[1;34m(self)\u001b[0m\n\u001b[0;32m    457\u001b[0m         \u001b[1;32mif\u001b[0m \u001b[0mself\u001b[0m\u001b[1;33m.\u001b[0m\u001b[0msingle_rbb\u001b[0m\u001b[1;33m:\u001b[0m\u001b[1;33m\u001b[0m\u001b[0m\n\u001b[0;32m    458\u001b[0m             \u001b[1;31m# calculate only one radiance per mean BB temperature per calib block\u001b[0m\u001b[1;33m\u001b[0m\u001b[1;33m\u001b[0m\u001b[0m\n\u001b[1;32m--> 459\u001b[1;33m             \u001b[0mself\u001b[0m\u001b[1;33m.\u001b[0m\u001b[0mcalc_one_RBB\u001b[0m\u001b[1;33m(\u001b[0m\u001b[1;33m)\u001b[0m\u001b[1;33m\u001b[0m\u001b[0m\n\u001b[0m\u001b[0;32m    460\u001b[0m         \u001b[1;32melse\u001b[0m\u001b[1;33m:\u001b[0m\u001b[1;33m\u001b[0m\u001b[0m\n\u001b[0;32m    461\u001b[0m             \u001b[1;31m# look-up all radiances for all interpolated bb temperatures and then\u001b[0m\u001b[1;33m\u001b[0m\u001b[1;33m\u001b[0m\u001b[0m\n",
        "\u001b[1;32m/u/paige/maye/src/diviner/calib.py\u001b[0m in \u001b[0;36mcalc_one_RBB\u001b[1;34m(self, return_values)\u001b[0m\n\u001b[0;32m    655\u001b[0m         \u001b[0mT_cols\u001b[0m \u001b[1;33m=\u001b[0m \u001b[1;33m[\u001b[0m\u001b[1;34m'bb_1_temp_interp'\u001b[0m\u001b[1;33m,\u001b[0m\u001b[1;34m'bb_2_temp_interp'\u001b[0m\u001b[1;33m]\u001b[0m\u001b[1;33m\u001b[0m\u001b[0m\n\u001b[0;32m    656\u001b[0m         \u001b[0mbbviews_temps\u001b[0m \u001b[1;33m=\u001b[0m \u001b[0mself\u001b[0m\u001b[1;33m.\u001b[0m\u001b[0mdf\u001b[0m\u001b[1;33m[\u001b[0m\u001b[0mself\u001b[0m\u001b[1;33m.\u001b[0m\u001b[0mdf\u001b[0m\u001b[1;33m.\u001b[0m\u001b[0mis_bbview\u001b[0m\u001b[1;33m]\u001b[0m\u001b[1;33m[\u001b[0m\u001b[0mT_cols\u001b[0m\u001b[1;33m]\u001b[0m\u001b[1;33m\u001b[0m\u001b[0m\n\u001b[1;32m--> 657\u001b[1;33m         \u001b[0mgrouped\u001b[0m \u001b[1;33m=\u001b[0m \u001b[0mbbviews_temps\u001b[0m\u001b[1;33m.\u001b[0m\u001b[0mgroupby\u001b[0m\u001b[1;33m(\u001b[0m\u001b[0mself\u001b[0m\u001b[1;33m.\u001b[0m\u001b[0mdf\u001b[0m\u001b[1;33m.\u001b[0m\u001b[0mcalib_block_labels\u001b[0m\u001b[1;33m)\u001b[0m\u001b[1;33m\u001b[0m\u001b[0m\n\u001b[0m\u001b[0;32m    658\u001b[0m         \u001b[0mbbtemps\u001b[0m \u001b[1;33m=\u001b[0m \u001b[0mgrouped\u001b[0m\u001b[1;33m.\u001b[0m\u001b[0magg\u001b[0m\u001b[1;33m(\u001b[0m\u001b[0mself\u001b[0m\u001b[1;33m.\u001b[0m\u001b[0mskipped_mean\u001b[0m\u001b[1;33m,\u001b[0m \u001b[0mself\u001b[0m\u001b[1;33m.\u001b[0m\u001b[0mBBV_NUM_SKIP_SAMPLE\u001b[0m\u001b[1;33m)\u001b[0m\u001b[1;33m\u001b[0m\u001b[0m\n\u001b[0;32m    659\u001b[0m         \u001b[0mbbtemps\u001b[0m\u001b[1;33m.\u001b[0m\u001b[0mindex\u001b[0m \u001b[1;33m=\u001b[0m \u001b[0mself\u001b[0m\u001b[1;33m.\u001b[0m\u001b[0mbbcal_times\u001b[0m\u001b[1;33m\u001b[0m\u001b[0m\n",
        "\u001b[1;32m/usr/local/epd/lib/python2.7/site-packages/pandas-0.12.0.dev_1101391-py2.7-linux-x86_64.egg/pandas/core/generic.pyc\u001b[0m in \u001b[0;36mgroupby\u001b[1;34m(self, by, axis, level, as_index, sort, group_keys, squeeze)\u001b[0m\n\u001b[0;32m    184\u001b[0m         return groupby(self, by, axis=axis, level=level, as_index=as_index,\n\u001b[0;32m    185\u001b[0m                        \u001b[0msort\u001b[0m\u001b[1;33m=\u001b[0m\u001b[0msort\u001b[0m\u001b[1;33m,\u001b[0m \u001b[0mgroup_keys\u001b[0m\u001b[1;33m=\u001b[0m\u001b[0mgroup_keys\u001b[0m\u001b[1;33m,\u001b[0m\u001b[1;33m\u001b[0m\u001b[0m\n\u001b[1;32m--> 186\u001b[1;33m                        squeeze=squeeze)\n\u001b[0m\u001b[0;32m    187\u001b[0m \u001b[1;33m\u001b[0m\u001b[0m\n\u001b[0;32m    188\u001b[0m     \u001b[1;32mdef\u001b[0m \u001b[0masfreq\u001b[0m\u001b[1;33m(\u001b[0m\u001b[0mself\u001b[0m\u001b[1;33m,\u001b[0m \u001b[0mfreq\u001b[0m\u001b[1;33m,\u001b[0m \u001b[0mmethod\u001b[0m\u001b[1;33m=\u001b[0m\u001b[0mNone\u001b[0m\u001b[1;33m,\u001b[0m \u001b[0mhow\u001b[0m\u001b[1;33m=\u001b[0m\u001b[0mNone\u001b[0m\u001b[1;33m,\u001b[0m \u001b[0mnormalize\u001b[0m\u001b[1;33m=\u001b[0m\u001b[0mFalse\u001b[0m\u001b[1;33m)\u001b[0m\u001b[1;33m:\u001b[0m\u001b[1;33m\u001b[0m\u001b[0m\n",
        "\u001b[1;32m/usr/local/epd/lib/python2.7/site-packages/pandas-0.12.0.dev_1101391-py2.7-linux-x86_64.egg/pandas/core/groupby.pyc\u001b[0m in \u001b[0;36mgroupby\u001b[1;34m(obj, by, **kwds)\u001b[0m\n\u001b[0;32m    531\u001b[0m         \u001b[1;32mraise\u001b[0m \u001b[0mTypeError\u001b[0m\u001b[1;33m(\u001b[0m\u001b[1;34m'invalid type: %s'\u001b[0m \u001b[1;33m%\u001b[0m \u001b[0mtype\u001b[0m\u001b[1;33m(\u001b[0m\u001b[0mobj\u001b[0m\u001b[1;33m)\u001b[0m\u001b[1;33m)\u001b[0m\u001b[1;33m\u001b[0m\u001b[0m\n\u001b[0;32m    532\u001b[0m \u001b[1;33m\u001b[0m\u001b[0m\n\u001b[1;32m--> 533\u001b[1;33m     \u001b[1;32mreturn\u001b[0m \u001b[0mklass\u001b[0m\u001b[1;33m(\u001b[0m\u001b[0mobj\u001b[0m\u001b[1;33m,\u001b[0m \u001b[0mby\u001b[0m\u001b[1;33m,\u001b[0m \u001b[1;33m**\u001b[0m\u001b[0mkwds\u001b[0m\u001b[1;33m)\u001b[0m\u001b[1;33m\u001b[0m\u001b[0m\n\u001b[0m\u001b[0;32m    534\u001b[0m \u001b[1;33m\u001b[0m\u001b[0m\n\u001b[0;32m    535\u001b[0m \u001b[1;33m\u001b[0m\u001b[0m\n",
        "\u001b[1;32m/usr/local/epd/lib/python2.7/site-packages/pandas-0.12.0.dev_1101391-py2.7-linux-x86_64.egg/pandas/core/groupby.pyc\u001b[0m in \u001b[0;36m__init__\u001b[1;34m(self, obj, keys, axis, level, grouper, exclusions, selection, as_index, sort, group_keys, squeeze)\u001b[0m\n\u001b[0;32m    195\u001b[0m         \u001b[1;32mif\u001b[0m \u001b[0mgrouper\u001b[0m \u001b[1;32mis\u001b[0m \u001b[0mNone\u001b[0m\u001b[1;33m:\u001b[0m\u001b[1;33m\u001b[0m\u001b[0m\n\u001b[0;32m    196\u001b[0m             grouper, exclusions = _get_grouper(obj, keys, axis=axis,\n\u001b[1;32m--> 197\u001b[1;33m                                                level=level, sort=sort)\n\u001b[0m\u001b[0;32m    198\u001b[0m \u001b[1;33m\u001b[0m\u001b[0m\n\u001b[0;32m    199\u001b[0m         \u001b[0mself\u001b[0m\u001b[1;33m.\u001b[0m\u001b[0mgrouper\u001b[0m \u001b[1;33m=\u001b[0m \u001b[0mgrouper\u001b[0m\u001b[1;33m\u001b[0m\u001b[0m\n",
        "\u001b[1;32m/usr/local/epd/lib/python2.7/site-packages/pandas-0.12.0.dev_1101391-py2.7-linux-x86_64.egg/pandas/core/groupby.pyc\u001b[0m in \u001b[0;36m_get_grouper\u001b[1;34m(obj, key, axis, level, sort)\u001b[0m\n\u001b[0;32m   1323\u001b[0m             \u001b[1;32mraise\u001b[0m \u001b[0mAssertionError\u001b[0m\u001b[1;33m(\u001b[0m\u001b[0merrmsg\u001b[0m\u001b[1;33m)\u001b[0m\u001b[1;33m\u001b[0m\u001b[0m\n\u001b[0;32m   1324\u001b[0m \u001b[1;33m\u001b[0m\u001b[0m\n\u001b[1;32m-> 1325\u001b[1;33m         \u001b[0mping\u001b[0m \u001b[1;33m=\u001b[0m \u001b[0mGrouping\u001b[0m\u001b[1;33m(\u001b[0m\u001b[0mgroup_axis\u001b[0m\u001b[1;33m,\u001b[0m \u001b[0mgpr\u001b[0m\u001b[1;33m,\u001b[0m \u001b[0mname\u001b[0m\u001b[1;33m=\u001b[0m\u001b[0mname\u001b[0m\u001b[1;33m,\u001b[0m \u001b[0mlevel\u001b[0m\u001b[1;33m=\u001b[0m\u001b[0mlevel\u001b[0m\u001b[1;33m,\u001b[0m \u001b[0msort\u001b[0m\u001b[1;33m=\u001b[0m\u001b[0msort\u001b[0m\u001b[1;33m)\u001b[0m\u001b[1;33m\u001b[0m\u001b[0m\n\u001b[0m\u001b[0;32m   1326\u001b[0m         \u001b[0mgroupings\u001b[0m\u001b[1;33m.\u001b[0m\u001b[0mappend\u001b[0m\u001b[1;33m(\u001b[0m\u001b[0mping\u001b[0m\u001b[1;33m)\u001b[0m\u001b[1;33m\u001b[0m\u001b[0m\n\u001b[0;32m   1327\u001b[0m \u001b[1;33m\u001b[0m\u001b[0m\n",
        "\u001b[1;32m/usr/local/epd/lib/python2.7/site-packages/pandas-0.12.0.dev_1101391-py2.7-linux-x86_64.egg/pandas/core/groupby.pyc\u001b[0m in \u001b[0;36m__init__\u001b[1;34m(self, index, grouper, name, level, sort)\u001b[0m\n\u001b[0;32m   1127\u001b[0m         \u001b[0mself\u001b[0m\u001b[1;33m.\u001b[0m\u001b[0mname\u001b[0m \u001b[1;33m=\u001b[0m \u001b[0mname\u001b[0m\u001b[1;33m\u001b[0m\u001b[0m\n\u001b[0;32m   1128\u001b[0m         \u001b[0mself\u001b[0m\u001b[1;33m.\u001b[0m\u001b[0mlevel\u001b[0m \u001b[1;33m=\u001b[0m \u001b[0mlevel\u001b[0m\u001b[1;33m\u001b[0m\u001b[0m\n\u001b[1;32m-> 1129\u001b[1;33m         \u001b[0mself\u001b[0m\u001b[1;33m.\u001b[0m\u001b[0mgrouper\u001b[0m \u001b[1;33m=\u001b[0m \u001b[0m_convert_grouper\u001b[0m\u001b[1;33m(\u001b[0m\u001b[0mindex\u001b[0m\u001b[1;33m,\u001b[0m \u001b[0mgrouper\u001b[0m\u001b[1;33m)\u001b[0m\u001b[1;33m\u001b[0m\u001b[0m\n\u001b[0m\u001b[0;32m   1130\u001b[0m         \u001b[0mself\u001b[0m\u001b[1;33m.\u001b[0m\u001b[0mindex\u001b[0m \u001b[1;33m=\u001b[0m \u001b[0mindex\u001b[0m\u001b[1;33m\u001b[0m\u001b[0m\n\u001b[0;32m   1131\u001b[0m         \u001b[0mself\u001b[0m\u001b[1;33m.\u001b[0m\u001b[0msort\u001b[0m \u001b[1;33m=\u001b[0m \u001b[0msort\u001b[0m\u001b[1;33m\u001b[0m\u001b[0m\n",
        "\u001b[1;32m/usr/local/epd/lib/python2.7/site-packages/pandas-0.12.0.dev_1101391-py2.7-linux-x86_64.egg/pandas/core/groupby.pyc\u001b[0m in \u001b[0;36m_convert_grouper\u001b[1;34m(axis, grouper)\u001b[0m\n\u001b[0;32m   1345\u001b[0m             \u001b[1;32mreturn\u001b[0m \u001b[0mgrouper\u001b[0m\u001b[1;33m.\u001b[0m\u001b[0mvalues\u001b[0m\u001b[1;33m\u001b[0m\u001b[0m\n\u001b[0;32m   1346\u001b[0m         \u001b[1;32melse\u001b[0m\u001b[1;33m:\u001b[0m\u001b[1;33m\u001b[0m\u001b[0m\n\u001b[1;32m-> 1347\u001b[1;33m             \u001b[1;32mreturn\u001b[0m \u001b[0mgrouper\u001b[0m\u001b[1;33m.\u001b[0m\u001b[0mreindex\u001b[0m\u001b[1;33m(\u001b[0m\u001b[0maxis\u001b[0m\u001b[1;33m)\u001b[0m\u001b[1;33m.\u001b[0m\u001b[0mvalues\u001b[0m\u001b[1;33m\u001b[0m\u001b[0m\n\u001b[0m\u001b[0;32m   1348\u001b[0m     \u001b[1;32melif\u001b[0m \u001b[0misinstance\u001b[0m\u001b[1;33m(\u001b[0m\u001b[0mgrouper\u001b[0m\u001b[1;33m,\u001b[0m \u001b[1;33m(\u001b[0m\u001b[0mlist\u001b[0m\u001b[1;33m,\u001b[0m \u001b[0mnp\u001b[0m\u001b[1;33m.\u001b[0m\u001b[0mndarray\u001b[0m\u001b[1;33m)\u001b[0m\u001b[1;33m)\u001b[0m\u001b[1;33m:\u001b[0m\u001b[1;33m\u001b[0m\u001b[0m\n\u001b[0;32m   1349\u001b[0m         \u001b[1;32mif\u001b[0m \u001b[0mlen\u001b[0m\u001b[1;33m(\u001b[0m\u001b[0mgrouper\u001b[0m\u001b[1;33m)\u001b[0m \u001b[1;33m!=\u001b[0m \u001b[0mlen\u001b[0m\u001b[1;33m(\u001b[0m\u001b[0maxis\u001b[0m\u001b[1;33m)\u001b[0m\u001b[1;33m:\u001b[0m\u001b[1;33m\u001b[0m\u001b[0m\n",
        "\u001b[1;32m/usr/local/epd/lib/python2.7/site-packages/pandas-0.12.0.dev_1101391-py2.7-linux-x86_64.egg/pandas/core/series.pyc\u001b[0m in \u001b[0;36mreindex\u001b[1;34m(self, index, method, level, fill_value, limit, copy, takeable)\u001b[0m\n\u001b[0;32m   2636\u001b[0m                                                 takeable=takeable)\n\u001b[0;32m   2637\u001b[0m         \u001b[0mnew_values\u001b[0m \u001b[1;33m=\u001b[0m \u001b[0mcom\u001b[0m\u001b[1;33m.\u001b[0m\u001b[0mtake_1d\u001b[0m\u001b[1;33m(\u001b[0m\u001b[0mself\u001b[0m\u001b[1;33m.\u001b[0m\u001b[0mvalues\u001b[0m\u001b[1;33m,\u001b[0m \u001b[0mindexer\u001b[0m\u001b[1;33m,\u001b[0m \u001b[0mfill_value\u001b[0m\u001b[1;33m=\u001b[0m\u001b[0mfill_value\u001b[0m\u001b[1;33m)\u001b[0m\u001b[1;33m\u001b[0m\u001b[0m\n\u001b[1;32m-> 2638\u001b[1;33m         \u001b[1;32mreturn\u001b[0m \u001b[0mSeries\u001b[0m\u001b[1;33m(\u001b[0m\u001b[0mnew_values\u001b[0m\u001b[1;33m,\u001b[0m \u001b[0mindex\u001b[0m\u001b[1;33m=\u001b[0m\u001b[0mnew_index\u001b[0m\u001b[1;33m,\u001b[0m \u001b[0mname\u001b[0m\u001b[1;33m=\u001b[0m\u001b[0mself\u001b[0m\u001b[1;33m.\u001b[0m\u001b[0mname\u001b[0m\u001b[1;33m)\u001b[0m\u001b[1;33m\u001b[0m\u001b[0m\n\u001b[0m\u001b[0;32m   2639\u001b[0m \u001b[1;33m\u001b[0m\u001b[0m\n\u001b[0;32m   2640\u001b[0m     \u001b[1;32mdef\u001b[0m \u001b[0mreindex_axis\u001b[0m\u001b[1;33m(\u001b[0m\u001b[0mself\u001b[0m\u001b[1;33m,\u001b[0m \u001b[0mlabels\u001b[0m\u001b[1;33m,\u001b[0m \u001b[0maxis\u001b[0m\u001b[1;33m=\u001b[0m\u001b[1;36m0\u001b[0m\u001b[1;33m,\u001b[0m \u001b[1;33m**\u001b[0m\u001b[0mkwargs\u001b[0m\u001b[1;33m)\u001b[0m\u001b[1;33m:\u001b[0m\u001b[1;33m\u001b[0m\u001b[0m\n",
        "\u001b[1;32m/usr/local/epd/lib/python2.7/site-packages/pandas-0.12.0.dev_1101391-py2.7-linux-x86_64.egg/pandas/core/series.pyc\u001b[0m in \u001b[0;36m__new__\u001b[1;34m(cls, data, index, dtype, name, copy)\u001b[0m\n\u001b[0;32m    487\u001b[0m         \u001b[1;32melse\u001b[0m\u001b[1;33m:\u001b[0m\u001b[1;33m\u001b[0m\u001b[0m\n\u001b[0;32m    488\u001b[0m             \u001b[0msubarr\u001b[0m \u001b[1;33m=\u001b[0m \u001b[0msubarr\u001b[0m\u001b[1;33m.\u001b[0m\u001b[0mview\u001b[0m\u001b[1;33m(\u001b[0m\u001b[0mSeries\u001b[0m\u001b[1;33m)\u001b[0m\u001b[1;33m\u001b[0m\u001b[0m\n\u001b[1;32m--> 489\u001b[1;33m         \u001b[0msubarr\u001b[0m\u001b[1;33m.\u001b[0m\u001b[0mindex\u001b[0m \u001b[1;33m=\u001b[0m \u001b[0mindex\u001b[0m\u001b[1;33m\u001b[0m\u001b[0m\n\u001b[0m\u001b[0;32m    490\u001b[0m         \u001b[0msubarr\u001b[0m\u001b[1;33m.\u001b[0m\u001b[0mname\u001b[0m \u001b[1;33m=\u001b[0m \u001b[0mname\u001b[0m\u001b[1;33m\u001b[0m\u001b[0m\n\u001b[0;32m    491\u001b[0m \u001b[1;33m\u001b[0m\u001b[0m\n",
        "\u001b[1;32m/usr/local/epd/lib/python2.7/site-packages/pandas-0.12.0.dev_1101391-py2.7-linux-x86_64.egg/pandas/lib.so\u001b[0m in \u001b[0;36mpandas.lib.SeriesIndex.__set__ (pandas/lib.c:29001)\u001b[1;34m()\u001b[0m\n",
        "\u001b[1;31mAssertionError\u001b[0m: Index length did not match values"
       ]
      }
     ],
     "prompt_number": 18
>>>>>>> d78eabfc11d41059961be59f66dfe1db4739f94a
    },
    {
     "cell_type": "code",
     "collapsed": false,
     "input": [
      "rdrdf"
     ],
     "language": "python",
     "metadata": {},
     "outputs": [
      {
       "html": [
        "<pre>\n",
        "&lt;class 'pandas.core.frame.DataFrame'&gt;\n",
<<<<<<< HEAD
        "DatetimeIndex: 76704 entries, 2011-04-11 00:00:01.590000 to 2011-04-11 03:00:00.755000\n",
        "Columns: 189 entries, a1_01 to b3_21\n",
        "dtypes: float64(189)\n",
=======
        "Index: 590604 entries, 01-Mar-2013 00:00:00.090 to 01-Mar-2013 00:59:59.912\n",
        "Data columns (total 31 columns):\n",
        "jdate        590604  non-null values\n",
        "orbit        590604  non-null values\n",
        "sundist      590604  non-null values\n",
        "sunlat       590604  non-null values\n",
        "sunlon       590604  non-null values\n",
        "sclk         590604  non-null values\n",
        "sclat        590604  non-null values\n",
        "sclon        590604  non-null values\n",
        "scrad        590604  non-null values\n",
        "scalt        590604  non-null values\n",
        "el_cmd       590604  non-null values\n",
        "az_cmd       590604  non-null values\n",
        "af           590604  non-null values\n",
        "orientlat    590604  non-null values\n",
        "orientlon    590604  non-null values\n",
        "c            590604  non-null values\n",
        "det          590604  non-null values\n",
        "vlookx       590604  non-null values\n",
        "vlooky       590604  non-null values\n",
        "vlookz       590604  non-null values\n",
        "radiance     590604  non-null values\n",
        "tb           590604  non-null values\n",
        "clat         553644  non-null values\n",
        "clon         553644  non-null values\n",
        "cemis        553644  non-null values\n",
        "csunzen      553644  non-null values\n",
        "csunazi      553644  non-null values\n",
        "cloctime     553644  non-null values\n",
        "qca          590604  non-null values\n",
        "qge          590604  non-null values\n",
        "qmi          590604  non-null values\n",
        "dtypes: float64(31)\n",
>>>>>>> d78eabfc11d41059961be59f66dfe1db4739f94a
        "</pre>"
       ],
       "metadata": {},
       "output_type": "pyout",
<<<<<<< HEAD
       "prompt_number": 31,
       "text": [
        "<class 'pandas.core.frame.DataFrame'>\n",
        "DatetimeIndex: 76704 entries, 2011-04-11 00:00:01.590000 to 2011-04-11 03:00:00.755000\n",
        "Columns: 189 entries, a1_01 to b3_21\n",
        "dtypes: float64(189)"
       ]
      }
     ],
     "prompt_number": 31
=======
       "prompt_number": 166,
       "text": [
        "<class 'pandas.core.frame.DataFrame'>\n",
        "Index: 590604 entries, 01-Mar-2013 00:00:00.090 to 01-Mar-2013 00:59:59.912\n",
        "Data columns (total 31 columns):\n",
        "jdate        590604  non-null values\n",
        "orbit        590604  non-null values\n",
        "sundist      590604  non-null values\n",
        "sunlat       590604  non-null values\n",
        "sunlon       590604  non-null values\n",
        "sclk         590604  non-null values\n",
        "sclat        590604  non-null values\n",
        "sclon        590604  non-null values\n",
        "scrad        590604  non-null values\n",
        "scalt        590604  non-null values\n",
        "el_cmd       590604  non-null values\n",
        "az_cmd       590604  non-null values\n",
        "af           590604  non-null values\n",
        "orientlat    590604  non-null values\n",
        "orientlon    590604  non-null values\n",
        "c            590604  non-null values\n",
        "det          590604  non-null values\n",
        "vlookx       590604  non-null values\n",
        "vlooky       590604  non-null values\n",
        "vlookz       590604  non-null values\n",
        "radiance     590604  non-null values\n",
        "tb           590604  non-null values\n",
        "clat         553644  non-null values\n",
        "clon         553644  non-null values\n",
        "cemis        553644  non-null values\n",
        "csunzen      553644  non-null values\n",
        "csunazi      553644  non-null values\n",
        "cloctime     553644  non-null values\n",
        "qca          590604  non-null values\n",
        "qge          590604  non-null values\n",
        "qmi          590604  non-null values\n",
        "dtypes: float64(31)"
       ]
      }
     ],
     "prompt_number": 166
>>>>>>> d78eabfc11d41059961be59f66dfe1db4739f94a
    },
    {
     "cell_type": "code",
     "collapsed": false,
     "input": [
<<<<<<< HEAD
      "c.Tb.ix[c.Tb.index.hour==2]"
=======
      "ch9rdr = rdrdf[rdrdf.c == 9]"
     ],
     "language": "python",
     "metadata": {},
     "outputs": [],
     "prompt_number": 160
    },
    {
     "cell_type": "code",
     "collapsed": false,
     "input": [
      "def calc_with_if(numbers):\n",
      "    for number in numbers:\n",
      "        if number > 0:\n",
      "            res = sqrt(number)\n",
      "        else:\n",
      "            res = sqrt(-number)\n",
      "            \n",
      "def calc_without_if(numbers):\n",
      "    for number in numbers:\n",
      "        res = sqrt(abs(number))\n"
     ],
     "language": "python",
     "metadata": {},
     "outputs": [],
     "prompt_number": 171
    },
    {
     "cell_type": "code",
     "collapsed": false,
     "input": [
      "%timeit calc_with_if(randn(1000))"
>>>>>>> d78eabfc11d41059961be59f66dfe1db4739f94a
     ],
     "language": "python",
     "metadata": {},
     "outputs": [
      {
<<<<<<< HEAD
       "html": [
        "<pre>\n",
        "&lt;class 'pandas.core.frame.DataFrame'&gt;\n",
        "DatetimeIndex: 25261 entries, 2011-04-11 02:00:00.044000 to 2011-04-11 02:59:59.987000\n",
        "Columns: 147 entries, a3_01 to b3_21\n",
        "dtypes: float64(147)\n",
        "</pre>"
       ],
       "metadata": {},
       "output_type": "pyout",
       "prompt_number": 32,
       "text": [
        "<class 'pandas.core.frame.DataFrame'>\n",
        "DatetimeIndex: 25261 entries, 2011-04-11 02:00:00.044000 to 2011-04-11 02:59:59.987000\n",
        "Columns: 147 entries, a3_01 to b3_21\n",
        "dtypes: float64(147)"
       ]
      }
     ],
     "prompt_number": 32
=======
       "output_type": "stream",
       "stream": "stdout",
       "text": [
        "100 loops, best of 3: 3.35 ms per loop\n"
       ]
      }
     ],
     "prompt_number": 173
>>>>>>> d78eabfc11d41059961be59f66dfe1db4739f94a
    },
    {
     "cell_type": "code",
     "collapsed": false,
     "input": [
<<<<<<< HEAD
      "c.df.columns"
=======
      "%timeit calc_without_if(randn(1000))"
>>>>>>> d78eabfc11d41059961be59f66dfe1db4739f94a
     ],
     "language": "python",
     "metadata": {},
     "outputs": [
      {
<<<<<<< HEAD
       "metadata": {},
       "output_type": "pyout",
       "prompt_number": 33,
       "text": [
        "Index([u'sclk', u'sounding', u'from_pkt', u'pkt_count', u'safing', u'safed', u'freezing', u'frozen', u'rolling', u'dumping', u'moving', u'temp_fault', u'sc_time_secs', u'sc_time_subs', u'ticks_pkt_start', u'ticks_at_sc_time', u'ost_index', u'est_index', u'sst_index', u'last_az_cmd', u'last_el_cmd', u'fpa_temp', u'fpb_temp', u'baffle_a_temp', u'baffle_b_temp', u'bb_1_temp', u'oba_1_temp', u'error_time', u'error_id', u'error_count', u'commands_received', u'commands_executed', u'commands_rejected', u'last_time_command', u'last_eqx_prediction', u'hybrid_temp', u'fpa_temp_cyc', u'fpb_temp_cyc', u'baffle_a_temp_cyc', u'baffle_b_temp_cyc', u'oba_1_temp_cyc', u'oba_2_temp', u'bb_1_temp_cyc', u'bb_2_temp', u'solar_target_temp', u'yoke_temp', u'el_actuator_temp', u'az_actuator_temp', u'min_15v', u'plu_15v', u'solar_base_temp', u'plu_5v', u'a1_01', u'a1_02', u'a1_03', u'a1_04', u'a1_05', u'a1_06', u'a1_07', u'a1_08', u'a1_09', u'a1_10', u'a1_11', u'a1_12', u'a1_13', u'a1_14', u'a1_15', u'a1_16', u'a1_17', u'a1_18', u'a1_19', u'a1_20', u'a1_21', u'a2_01', u'a2_02', u'a2_03', u'a2_04', u'a2_05', u'a2_06', u'a2_07', u'a2_08', u'a2_09', u'a2_10', u'a2_11', u'a2_12', u'a2_13', u'a2_14', u'a2_15', u'a2_16', u'a2_17', u'a2_18', u'a2_19', u'a2_20', u'a2_21', u'a3_01', u'a3_02', u'a3_03', u'a3_04', u'a3_05', u'a3_06', u'a3_07', u'a3_08', u'a3_09', u'a3_10', u'a3_11', u'a3_12', u'a3_13', u'a3_14', u'a3_15', u'a3_16', u'a3_17', u'a3_18', u'a3_19', u'a3_20', u'a3_21', u'a4_01', u'a4_02', u'a4_03', u'a4_04', u'a4_05', u'a4_06', u'a4_07', u'a4_08', u'a4_09', u'a4_10', u'a4_11', u'a4_12', u'a4_13', u'a4_14', u'a4_15', u'a4_16', u'a4_17', u'a4_18', u'a4_19', u'a4_20', u'a4_21', u'a5_01', u'a5_02', u'a5_03', u'a5_04', u'a5_05', u'a5_06', u'a5_07', u'a5_08', u'a5_09', u'a5_10', u'a5_11', u'a5_12', u'a5_13', u'a5_14', u'a5_15', u'a5_16', u'a5_17', u'a5_18', u'a5_19', u'a5_20', u'a5_21', u'a6_01', u'a6_02', u'a6_03', u'a6_04', u'a6_05', u'a6_06', u'a6_07', u'a6_08', u'a6_09', u'a6_10', u'a6_11', u'a6_12', u'a6_13', u'a6_14', u'a6_15', u'a6_16', u'a6_17', u'a6_18', u'a6_19', u'a6_20', u'a6_21', u'b1_01', u'b1_02', u'b1_03', u'b1_04', u'b1_05', u'b1_06', u'b1_07', u'b1_08', u'b1_09', u'b1_10', u'b1_11', u'b1_12', u'b1_13', u'b1_14', u'b1_15', u'b1_16', u'b1_17', u'b1_18', u'b1_19', u'b1_20', u'b1_21', u'b2_01', u'b2_02', u'b2_03', u'b2_04', u'b2_05', u'b2_06', u'b2_07', u'b2_08', u'b2_09', u'b2_10', u'b2_11', u'b2_12', u'b2_13', u'b2_14', u'b2_15', u'b2_16', u'b2_17', u'b2_18', u'b2_19', u'b2_20', u'b2_21', u'b3_01', u'b3_02', u'b3_03', u'b3_04', u'b3_05', u'b3_06', u'b3_07', u'b3_08', u'b3_09', u'b3_10', u'b3_11', u'b3_12', u'b3_13', u'b3_14', u'b3_15', u'b3_16', u'b3_17', u'b3_18', u'b3_19', u'b3_20', u'b3_21', u'sdtype', u'calib_block_labels', u'sv_block_labels', u'bb_block_labels', u'st_block_labels', u'is_spaceview', u'is_bbview', u'is_stview', u'is_moving', u'is_stowed', u'is_calib', u'bb_1_temp_interp', u'bb_2_temp_interp'], dtype=object)"
       ]
      }
     ],
     "prompt_number": 33
=======
       "output_type": "stream",
       "stream": "stdout",
       "text": [
        "100 loops, best of 3: 2.22 ms per loop\n"
       ]
      }
     ],
     "prompt_number": 174
>>>>>>> d78eabfc11d41059961be59f66dfe1db4739f94a
    },
    {
     "cell_type": "code",
     "collapsed": false,
     "input": [],
     "language": "python",
     "metadata": {},
     "outputs": []
    }
   ],
   "metadata": {}
  }
 ]
}