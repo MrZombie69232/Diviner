{
 "metadata": {
  "name": ""
 },
 "nbformat": 3,
 "nbformat_minor": 0,
 "worksheets": [
  {
   "cells": [
    {
     "cell_type": "code",
     "collapsed": false,
     "input": [
      "import pandas as pd\n",
      "from diviner import file_utils, plot_utils, calib"
     ],
     "language": "python",
     "metadata": {},
     "outputs": [],
     "prompt_number": 1
    },
    {
     "cell_type": "code",
     "collapsed": false,
     "input": [
      "pd.__version__"
     ],
     "language": "python",
     "metadata": {},
     "outputs": [
      {
       "metadata": {},
       "output_type": "pyout",
       "prompt_number": 2,
       "text": [
        "'0.12.0-1168-gb1485a3'"
       ]
      }
     ],
     "prompt_number": 2
    },
    {
     "cell_type": "code",
     "collapsed": false,
     "input": [
      "sp1 = pd.read_csv('./region_sp1_9_orbits.txt', delim_whitespace=True)\n",
      "sp3 = pd.read_csv('./region_sp3_9_orbits.txt', delim_whitespace=True)\n",
      "sp5 = pd.read_csv('./region_sp5_9_orbits.txt', delim_whitespace=True)"
     ],
     "language": "python",
     "metadata": {},
     "outputs": [],
     "prompt_number": 3
    },
    {
     "cell_type": "code",
     "collapsed": false,
     "input": [
      "for sp in [sp1, sp3, sp5]:\n",
      "    try:\n",
      "        sp.drop('Unnamed: 0', axis=1, inplace=True)\n",
      "    except ValueError:\n",
      "        pass"
     ],
     "language": "python",
     "metadata": {},
     "outputs": [],
     "prompt_number": 4
    },
    {
     "cell_type": "code",
     "collapsed": false,
     "input": [
      "sp1['min'].plot()\n",
      "sp3['min'].plot()\n",
      "sp5['min'].plot()"
     ],
     "language": "python",
     "metadata": {},
     "outputs": [
      {
       "metadata": {},
       "output_type": "pyout",
       "prompt_number": 22,
       "text": [
        "<matplotlib.axes.AxesSubplot at 0x1188cd110>"
       ]
      }
     ],
     "prompt_number": 22
    },
    {
     "cell_type": "code",
     "collapsed": false,
     "input": [
      "sp1.head()"
     ],
     "language": "python",
     "metadata": {},
     "outputs": [
      {
       "html": [
        "<div style=\"max-height:1000px;max-width:1500px;overflow:auto;\">\n",
        "<table border=\"1\" class=\"dataframe\">\n",
        "  <thead>\n",
        "    <tr style=\"text-align: right;\">\n",
        "      <th></th>\n",
        "      <th>x</th>\n",
        "      <th>count</th>\n",
        "      <th>avg</th>\n",
        "      <th>sigma</th>\n",
        "      <th>min</th>\n",
        "      <th>max</th>\n",
        "    </tr>\n",
        "  </thead>\n",
        "  <tbody>\n",
        "    <tr>\n",
        "      <th>0</th>\n",
        "      <td> 165</td>\n",
        "      <td>  56</td>\n",
        "      <td> 27.971054</td>\n",
        "      <td> 13.387989</td>\n",
        "      <td>-22.054001</td>\n",
        "      <td> 39.617001</td>\n",
        "    </tr>\n",
        "    <tr>\n",
        "      <th>1</th>\n",
        "      <td> 167</td>\n",
        "      <td>  11</td>\n",
        "      <td> 21.081727</td>\n",
        "      <td> 23.340701</td>\n",
        "      <td>-30.785000</td>\n",
        "      <td> 37.042999</td>\n",
        "    </tr>\n",
        "    <tr>\n",
        "      <th>2</th>\n",
        "      <td> 317</td>\n",
        "      <td>  46</td>\n",
        "      <td> 25.276544</td>\n",
        "      <td> 22.901290</td>\n",
        "      <td>-34.845001</td>\n",
        "      <td> 47.022999</td>\n",
        "    </tr>\n",
        "    <tr>\n",
        "      <th>3</th>\n",
        "      <td> 318</td>\n",
        "      <td> 185</td>\n",
        "      <td> 22.930043</td>\n",
        "      <td> 19.667289</td>\n",
        "      <td>-38.243000</td>\n",
        "      <td> 45.347000</td>\n",
        "    </tr>\n",
        "    <tr>\n",
        "      <th>4</th>\n",
        "      <td> 319</td>\n",
        "      <td>  72</td>\n",
        "      <td> 28.423500</td>\n",
        "      <td> 13.585394</td>\n",
        "      <td>-25.497000</td>\n",
        "      <td> 48.301998</td>\n",
        "    </tr>\n",
        "  </tbody>\n",
        "</table>\n",
        "<p>5 rows \u00d7 6 columns</p>\n",
        "</div>"
       ],
       "metadata": {},
       "output_type": "pyout",
       "prompt_number": 5,
       "text": [
        "     x  count        avg      sigma        min        max\n",
        "0  165     56  27.971054  13.387989 -22.054001  39.617001\n",
        "1  167     11  21.081727  23.340701 -30.785000  37.042999\n",
        "2  317     46  25.276544  22.901290 -34.845001  47.022999\n",
        "3  318    185  22.930043  19.667289 -38.243000  45.347000\n",
        "4  319     72  28.423500  13.585394 -25.497000  48.301998\n",
        "\n",
        "[5 rows x 6 columns]"
       ]
      }
     ],
     "prompt_number": 5
    },
    {
     "cell_type": "code",
     "collapsed": false,
     "input": [
      "pd.get_option('display.max_columns')"
     ],
     "language": "python",
     "metadata": {},
     "outputs": [
      {
       "metadata": {},
       "output_type": "pyout",
       "prompt_number": 12,
       "text": [
        "20"
       ]
      }
     ],
     "prompt_number": 12
    },
    {
     "cell_type": "code",
     "collapsed": false,
     "input": [],
     "language": "python",
     "metadata": {},
     "outputs": []
    }
   ],
   "metadata": {}
  }
 ]
}