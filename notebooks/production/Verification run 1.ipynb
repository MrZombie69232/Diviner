{
 "metadata": {
  "name": "",
  "signature": "sha256:79dcd2f0fdb90ba56efea5f802f56dffa6bcf85b96b67c5a9dd1eea4ca2ad8d5"
 },
 "nbformat": 3,
 "nbformat_minor": 0,
 "worksheets": [
  {
   "cells": [
    {
     "cell_type": "markdown",
     "metadata": {},
     "source": [
      "# Verification run 1\n",
      "This file describes the parameters for this production run of RDR2.\n",
      "## Location\n",
      "/luna4/maye/rdr_out/verification\n",
      "## Calibration settings\n",
      "* JPL radiance correction ON\n",
      "* Josh's noise fix ON\n",
      "* Standard way of determining offsets:\n",
      "    1. Mean value per spaceview\n",
      "    2. Each calibration block (either for thermal or visual) then determines an average of all participating spaceview averages (can be 2 or 3)\n",
      "\n",
      "## What data\n",
      "Using Elliot's files with lists of 1-hour timestrings as input, this verification `run 1` contains the following subfolders with the respective ranges of beta angles and status of the LRO orbit:\n",
      "* beta_90_elliptical\n",
      "* beta_90_circular\n",
      "* beta_0_elliptical\n",
      "* beta_0_circular"
     ]
    },
    {
     "cell_type": "code",
     "collapsed": false,
     "input": [
      "import IPython"
     ],
     "language": "python",
     "metadata": {},
     "outputs": [],
     "prompt_number": 1
    },
    {
     "cell_type": "code",
     "collapsed": false,
     "input": [
      "IPython.__version__"
     ],
     "language": "python",
     "metadata": {},
     "outputs": [
      {
       "metadata": {},
       "output_type": "pyout",
       "prompt_number": 2,
       "text": [
        "'3.0.0-dev'"
       ]
      }
     ],
     "prompt_number": 2
    },
    {
     "cell_type": "code",
     "collapsed": false,
     "input": [],
     "language": "python",
     "metadata": {},
     "outputs": []
    }
   ],
   "metadata": {}
  }
 ]
}