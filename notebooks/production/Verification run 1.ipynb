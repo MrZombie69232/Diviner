{
 "cells": [
  {
   "cell_type": "markdown",
   "metadata": {},
   "source": [
    "# Verification run 1\n",
    "This file describes the parameters for this production run of RDR2.\n",
    "## Location\n",
    "/luna4/maye/rdr_out/verification\n",
    "## Calibration settings\n",
    "* JPL radiance correction ON\n",
    "* Josh's noise fix ON\n",
    "* Standard way of determining offsets:\n",
    "    1. Mean value per spaceview\n",
    "    2. Each calibration block (either for thermal or visual) then determines an average of all participating spaceview averages (can be 2 or 3)\n",
    "\n",
    "## What data\n",
    "Using Elliot's files with lists of 1-hour timestrings as input, this verification `run 1` contains the following subfolders with the respective ranges of beta angles and status of the LRO orbit:\n",
    "* beta_90_elliptical\n",
    "* beta_90_circular\n",
    "* beta_0_elliptical\n",
    "* beta_0_circular"
   ]
  },
  {
   "cell_type": "code",
   "execution_count": 1,
   "metadata": {
    "collapsed": false
   },
   "outputs": [],
   "source": [
    "import IPython"
   ]
  },
  {
   "cell_type": "code",
   "execution_count": 2,
   "metadata": {
    "collapsed": false
   },
   "outputs": [
    {
     "data": {
      "text/plain": [
       "'3.0.0-dev'"
      ]
     },
     "execution_count": 2,
     "metadata": {},
     "output_type": "execute_result"
    }
   ],
   "source": [
    "IPython.__version__"
   ]
  },
  {
   "cell_type": "code",
   "execution_count": null,
   "metadata": {
    "collapsed": false
   },
   "outputs": [],
   "source": []
  }
 ],
 "metadata": {
  "kernelspec": {
   "display_name": "Python 3",
   "language": "python",
   "name": "python3"
  },
  "language_info": {
   "codemirror_mode": {
    "name": "ipython",
    "version": 3
   },
   "file_extension": ".py",
   "mimetype": "text/x-python",
   "name": "python",
   "nbconvert_exporter": "python",
   "pygments_lexer": "ipython3",
   "version": "3.7.1"
  }
 },
 "nbformat": 4,
 "nbformat_minor": 2
}
