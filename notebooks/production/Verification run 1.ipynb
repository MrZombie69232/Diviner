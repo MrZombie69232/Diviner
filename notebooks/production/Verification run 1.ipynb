{
 "metadata": {
  "name": "",
  "signature": "sha256:ae33567f8b2f674d5ae9d86d6355435287b8a585c33bee764fc7b9f6ae75d73b"
 },
 "nbformat": 3,
 "nbformat_minor": 0,
 "worksheets": [
  {
   "cells": [
    {
     "cell_type": "markdown",
     "metadata": {},
     "source": [
      "# Verification run 1\n",
      "This file describes the parameters for this production run of RDR2.\n",
      "## Location\n",
      "/luna4/maye/rdr_out/verification\n",
      "## Calibration settings\n",
      "* JPL radiance correction ON\n",
      "* Josh's noise fix ON\n",
      "* Standard way of determining offsets:\n",
      "    1. Mean value per spaceview\n",
      "    2. Each calibration block (either for thermal or visual) then determines an average of all participating spaceview averages (can be 2 or 3)\n",
      "\n",
      "## What data\n",
      "Using Elliot's files with lists of 1-hour timestrings as input, this verification `run 1` contains the following subfolders with the respective ranges of beta angles and status of the LRO orbit:\n",
      "* beta_90_elliptical\n",
      "* beta_90_circular\n",
      "* beta_0_elliptical\n",
      "* beta_0_circular"
     ]
    }
   ],
   "metadata": {}
  }
 ]
}