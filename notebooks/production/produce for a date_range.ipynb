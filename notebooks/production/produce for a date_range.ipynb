{
 "metadata": {
  "name": "",
  "signature": "sha256:d17be904e11ccff90db2935865cd3b3c41ea91fd0dcd725cffbaeeba099c251d"
 },
 "nbformat": 3,
 "nbformat_minor": 0,
 "worksheets": [
  {
   "cells": [
    {
     "cell_type": "code",
     "collapsed": false,
     "input": [
      "from diviner import file_utils as fu"
     ],
     "language": "python",
     "metadata": {},
     "outputs": [],
     "prompt_number": 2
    },
    {
     "cell_type": "code",
     "collapsed": false,
     "input": [
      "start = '2010040300'\n",
      "end = '2010040400'"
     ],
     "language": "python",
     "metadata": {},
     "outputs": [],
     "prompt_number": 3
    },
    {
     "cell_type": "code",
     "collapsed": false,
     "input": [
      "dr = pd.date_range(fu.tstr_to_datetime(start), fu.tstr_to_datetime(end), freq='H')"
     ],
     "language": "python",
     "metadata": {},
     "outputs": [],
     "prompt_number": 6
    },
    {
     "cell_type": "code",
     "collapsed": false,
     "input": [
      "[fu.get_tstr(i) for i in dr]"
     ],
     "language": "python",
     "metadata": {},
     "outputs": [
      {
       "metadata": {},
       "output_type": "pyout",
       "prompt_number": 7,
       "text": [
        "['2010040300',\n",
        " '2010040301',\n",
        " '2010040302',\n",
        " '2010040303',\n",
        " '2010040304',\n",
        " '2010040305',\n",
        " '2010040306',\n",
        " '2010040307',\n",
        " '2010040308',\n",
        " '2010040309',\n",
        " '2010040310',\n",
        " '2010040311',\n",
        " '2010040312',\n",
        " '2010040313',\n",
        " '2010040314',\n",
        " '2010040315',\n",
        " '2010040316',\n",
        " '2010040317',\n",
        " '2010040318',\n",
        " '2010040319',\n",
        " '2010040320',\n",
        " '2010040321',\n",
        " '2010040322',\n",
        " '2010040323',\n",
        " '2010040400']"
       ]
      }
     ],
     "prompt_number": 7
    },
    {
     "cell_type": "code",
     "collapsed": false,
     "input": [],
     "language": "python",
     "metadata": {},
     "outputs": []
    }
   ],
   "metadata": {}
  }
 ]
}