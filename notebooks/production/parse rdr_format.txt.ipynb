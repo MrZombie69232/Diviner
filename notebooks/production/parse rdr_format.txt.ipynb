{
 "metadata": {
  "name": "",
  "signature": "sha256:199f8600163306d402fcb70e2e4e3e11abe804db3400ad164e16fa62f2a709ea"
 },
 "nbformat": 3,
 "nbformat_minor": 0,
 "worksheets": [
  {
   "cells": [
    {
     "cell_type": "code",
     "collapsed": false,
     "input": [
      "from pds.core.common import open_pds\n",
      "from pds.core.parser import Parser\n",
      "import StringIO\n",
      "from collections import namedtuple"
     ],
     "language": "python",
     "metadata": {},
     "outputs": [],
     "prompt_number": 4
    },
    {
     "cell_type": "code",
     "collapsed": false,
     "input": [
      "def get_columns(fname):\n",
      "    parser = Parser()\n",
      "    with open(fname) as f:\n",
      "        rdrformat = f.readlines()\n",
      "    s = ''\n",
      "    for line in rdrformat:\n",
      "        if line == '\\n':\n",
      "            sio = StringIO.StringIO(s)\n",
      "            yield parser.parse(sio)['COLUMN']\n",
      "            s = ''\n",
      "        s += line"
     ],
     "language": "python",
     "metadata": {},
     "outputs": [],
     "prompt_number": 6
    },
    {
     "cell_type": "code",
     "collapsed": false,
     "input": [
      "fname = '../../data/rdr_format.txt'"
     ],
     "language": "python",
     "metadata": {},
     "outputs": [],
     "prompt_number": 9
    },
    {
     "cell_type": "code",
     "collapsed": false,
     "input": [
      "dic = {}\n",
      "for col in get_columns(fname):\n",
      "    dic[col['NAME']] = col"
     ],
     "language": "python",
     "metadata": {},
     "outputs": [],
     "prompt_number": 19
    },
    {
     "cell_type": "code",
     "collapsed": false,
     "input": [
      "dic['sclat'].keys()"
     ],
     "language": "python",
     "metadata": {},
     "outputs": [
      {
       "metadata": {},
       "output_type": "pyout",
       "prompt_number": 22,
       "text": [
        "['DESCRIPTION',\n",
        " 'DATA_TYPE',\n",
        " 'BYTES',\n",
        " 'COLUMN_NUMBER',\n",
        " 'INVALID_CONSTANT',\n",
        " 'UNKNOWN_CONSTANT',\n",
        " 'START_BYTE',\n",
        " 'NAME']"
       ]
      }
     ],
     "prompt_number": 22
    },
    {
     "cell_type": "code",
     "collapsed": false,
     "input": [
      "for field in col._fields:\n",
      "    print field, getattr(col, field)"
     ],
     "language": "python",
     "metadata": {},
     "outputs": [
      {
       "output_type": "stream",
       "stream": "stdout",
       "text": [
        "COLUMN_NUMBER 2\n",
        "NAME utc\n",
        "DATA_TYPE CHARACTER\n",
        "START_BYTE 17\n",
        "BYTES 12\n",
        "DESCRIPTION \"Time at the midpoint of observation (SCET, UTC). E.g. '19:35.37.440'\"\n",
        "UNKNOWN_CONSTANT -9999\n",
        "INVALID_CONSTANT -9998\n"
       ]
      }
     ],
     "prompt_number": 16
    }
   ],
   "metadata": {}
  }
 ]
}