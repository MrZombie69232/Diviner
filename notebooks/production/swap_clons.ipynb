{
 "metadata": {
  "name": "",
  "signature": "sha256:82e1b7bcd4bf36a3a1036efd3f6685ab7cdf04e5cba4290ce4618d6baadc8898"
 },
 "nbformat": 3,
 "nbformat_minor": 0,
 "worksheets": [
  {
   "cells": [
    {
     "cell_type": "code",
     "collapsed": false,
     "input": [
      "import glob\n",
      "fnames = glob.glob('/raid1/maye/rdr_out/verification/Ben_2012_2/*.CSV')"
     ],
     "language": "python",
     "metadata": {},
     "outputs": [],
     "prompt_number": 20
    },
    {
     "cell_type": "code",
     "collapsed": false,
     "input": [
      "from IPython import parallel\n",
      "rc = parallel.Client()"
     ],
     "language": "python",
     "metadata": {},
     "outputs": [],
     "prompt_number": 21
    },
    {
     "cell_type": "code",
     "collapsed": false,
     "input": [
      "all_engines = rc[:]\n",
      "lbv = rc.load_balanced_view()"
     ],
     "language": "python",
     "metadata": {},
     "outputs": [],
     "prompt_number": 22
    },
    {
     "cell_type": "code",
     "collapsed": false,
     "input": [
      "lbv.get_result()"
     ],
     "language": "python",
     "metadata": {},
     "outputs": [
      {
       "ename": "IndexError",
       "evalue": "list index out of range",
       "output_type": "pyerr",
       "traceback": [
        "\u001b[1;31m---------------------------------------------------------------------------\u001b[0m\n\u001b[1;31mIndexError\u001b[0m                                Traceback (most recent call last)",
        "\u001b[1;32m<ipython-input-23-ab8fa5e80f40>\u001b[0m in \u001b[0;36m<module>\u001b[1;34m()\u001b[0m\n\u001b[1;32m----> 1\u001b[1;33m \u001b[0mlbv\u001b[0m\u001b[1;33m.\u001b[0m\u001b[0mget_result\u001b[0m\u001b[1;33m(\u001b[0m\u001b[1;33m)\u001b[0m\u001b[1;33m\u001b[0m\u001b[0m\n\u001b[0m",
        "\u001b[1;32m/usr/local/epd/anaconda/lib/python2.7/site-packages/IPython/parallel/client/view.pyc\u001b[0m in \u001b[0;36mget_result\u001b[1;34m(self, indices_or_msg_ids)\u001b[0m\n",
        "\u001b[1;32m/usr/local/epd/anaconda/lib/python2.7/site-packages/IPython/parallel/client/view.pyc\u001b[0m in \u001b[0;36mspin_after\u001b[1;34m(f, self, *args, **kwargs)\u001b[0m\n\u001b[0;32m     73\u001b[0m \u001b[1;32mdef\u001b[0m \u001b[0mspin_after\u001b[0m\u001b[1;33m(\u001b[0m\u001b[0mf\u001b[0m\u001b[1;33m,\u001b[0m \u001b[0mself\u001b[0m\u001b[1;33m,\u001b[0m \u001b[1;33m*\u001b[0m\u001b[0margs\u001b[0m\u001b[1;33m,\u001b[0m \u001b[1;33m**\u001b[0m\u001b[0mkwargs\u001b[0m\u001b[1;33m)\u001b[0m\u001b[1;33m:\u001b[0m\u001b[1;33m\u001b[0m\u001b[0m\n\u001b[0;32m     74\u001b[0m     \u001b[1;34m\"\"\"call spin after the method.\"\"\"\u001b[0m\u001b[1;33m\u001b[0m\u001b[0m\n\u001b[1;32m---> 75\u001b[1;33m     \u001b[0mret\u001b[0m \u001b[1;33m=\u001b[0m \u001b[0mf\u001b[0m\u001b[1;33m(\u001b[0m\u001b[0mself\u001b[0m\u001b[1;33m,\u001b[0m \u001b[1;33m*\u001b[0m\u001b[0margs\u001b[0m\u001b[1;33m,\u001b[0m \u001b[1;33m**\u001b[0m\u001b[0mkwargs\u001b[0m\u001b[1;33m)\u001b[0m\u001b[1;33m\u001b[0m\u001b[0m\n\u001b[0m\u001b[0;32m     76\u001b[0m     \u001b[0mself\u001b[0m\u001b[1;33m.\u001b[0m\u001b[0mspin\u001b[0m\u001b[1;33m(\u001b[0m\u001b[1;33m)\u001b[0m\u001b[1;33m\u001b[0m\u001b[0m\n\u001b[0;32m     77\u001b[0m     \u001b[1;32mreturn\u001b[0m \u001b[0mret\u001b[0m\u001b[1;33m\u001b[0m\u001b[0m\n",
        "\u001b[1;32m/usr/local/epd/anaconda/lib/python2.7/site-packages/IPython/parallel/client/view.pyc\u001b[0m in \u001b[0;36mget_result\u001b[1;34m(self, indices_or_msg_ids)\u001b[0m\n\u001b[0;32m    325\u001b[0m             \u001b[0mindices_or_msg_ids\u001b[0m \u001b[1;33m=\u001b[0m \u001b[1;33m-\u001b[0m\u001b[1;36m1\u001b[0m\u001b[1;33m\u001b[0m\u001b[0m\n\u001b[0;32m    326\u001b[0m         \u001b[1;32mif\u001b[0m \u001b[0misinstance\u001b[0m\u001b[1;33m(\u001b[0m\u001b[0mindices_or_msg_ids\u001b[0m\u001b[1;33m,\u001b[0m \u001b[0mint\u001b[0m\u001b[1;33m)\u001b[0m\u001b[1;33m:\u001b[0m\u001b[1;33m\u001b[0m\u001b[0m\n\u001b[1;32m--> 327\u001b[1;33m             \u001b[0mindices_or_msg_ids\u001b[0m \u001b[1;33m=\u001b[0m \u001b[0mself\u001b[0m\u001b[1;33m.\u001b[0m\u001b[0mhistory\u001b[0m\u001b[1;33m[\u001b[0m\u001b[0mindices_or_msg_ids\u001b[0m\u001b[1;33m]\u001b[0m\u001b[1;33m\u001b[0m\u001b[0m\n\u001b[0m\u001b[0;32m    328\u001b[0m         \u001b[1;32melif\u001b[0m \u001b[0misinstance\u001b[0m\u001b[1;33m(\u001b[0m\u001b[0mindices_or_msg_ids\u001b[0m\u001b[1;33m,\u001b[0m \u001b[1;33m(\u001b[0m\u001b[0mlist\u001b[0m\u001b[1;33m,\u001b[0m\u001b[0mtuple\u001b[0m\u001b[1;33m,\u001b[0m\u001b[0mset\u001b[0m\u001b[1;33m)\u001b[0m\u001b[1;33m)\u001b[0m\u001b[1;33m:\u001b[0m\u001b[1;33m\u001b[0m\u001b[0m\n\u001b[0;32m    329\u001b[0m             \u001b[0mindices_or_msg_ids\u001b[0m \u001b[1;33m=\u001b[0m \u001b[0mlist\u001b[0m\u001b[1;33m(\u001b[0m\u001b[0mindices_or_msg_ids\u001b[0m\u001b[1;33m)\u001b[0m\u001b[1;33m\u001b[0m\u001b[0m\n",
        "\u001b[1;31mIndexError\u001b[0m: list index out of range"
       ]
      }
     ],
     "prompt_number": 23
    },
    {
     "cell_type": "code",
     "collapsed": false,
     "input": [
      "all_engines.get_result()"
     ],
     "language": "python",
     "metadata": {},
     "outputs": [
      {
       "ename": "IndexError",
       "evalue": "list index out of range",
       "output_type": "pyerr",
       "traceback": [
        "\u001b[1;31m---------------------------------------------------------------------------\u001b[0m\n\u001b[1;31mIndexError\u001b[0m                                Traceback (most recent call last)",
        "\u001b[1;32m<ipython-input-25-4a65ca814c43>\u001b[0m in \u001b[0;36m<module>\u001b[1;34m()\u001b[0m\n\u001b[1;32m----> 1\u001b[1;33m \u001b[0mall_engines\u001b[0m\u001b[1;33m.\u001b[0m\u001b[0mget_result\u001b[0m\u001b[1;33m(\u001b[0m\u001b[1;33m)\u001b[0m\u001b[1;33m\u001b[0m\u001b[0m\n\u001b[0m",
        "\u001b[1;32m/usr/local/epd/anaconda/lib/python2.7/site-packages/IPython/parallel/client/view.pyc\u001b[0m in \u001b[0;36mget_result\u001b[1;34m(self, indices_or_msg_ids)\u001b[0m\n",
        "\u001b[1;32m/usr/local/epd/anaconda/lib/python2.7/site-packages/IPython/parallel/client/view.pyc\u001b[0m in \u001b[0;36mspin_after\u001b[1;34m(f, self, *args, **kwargs)\u001b[0m\n\u001b[0;32m     73\u001b[0m \u001b[1;32mdef\u001b[0m \u001b[0mspin_after\u001b[0m\u001b[1;33m(\u001b[0m\u001b[0mf\u001b[0m\u001b[1;33m,\u001b[0m \u001b[0mself\u001b[0m\u001b[1;33m,\u001b[0m \u001b[1;33m*\u001b[0m\u001b[0margs\u001b[0m\u001b[1;33m,\u001b[0m \u001b[1;33m**\u001b[0m\u001b[0mkwargs\u001b[0m\u001b[1;33m)\u001b[0m\u001b[1;33m:\u001b[0m\u001b[1;33m\u001b[0m\u001b[0m\n\u001b[0;32m     74\u001b[0m     \u001b[1;34m\"\"\"call spin after the method.\"\"\"\u001b[0m\u001b[1;33m\u001b[0m\u001b[0m\n\u001b[1;32m---> 75\u001b[1;33m     \u001b[0mret\u001b[0m \u001b[1;33m=\u001b[0m \u001b[0mf\u001b[0m\u001b[1;33m(\u001b[0m\u001b[0mself\u001b[0m\u001b[1;33m,\u001b[0m \u001b[1;33m*\u001b[0m\u001b[0margs\u001b[0m\u001b[1;33m,\u001b[0m \u001b[1;33m**\u001b[0m\u001b[0mkwargs\u001b[0m\u001b[1;33m)\u001b[0m\u001b[1;33m\u001b[0m\u001b[0m\n\u001b[0m\u001b[0;32m     76\u001b[0m     \u001b[0mself\u001b[0m\u001b[1;33m.\u001b[0m\u001b[0mspin\u001b[0m\u001b[1;33m(\u001b[0m\u001b[1;33m)\u001b[0m\u001b[1;33m\u001b[0m\u001b[0m\n\u001b[0;32m     77\u001b[0m     \u001b[1;32mreturn\u001b[0m \u001b[0mret\u001b[0m\u001b[1;33m\u001b[0m\u001b[0m\n",
        "\u001b[1;32m/usr/local/epd/anaconda/lib/python2.7/site-packages/IPython/parallel/client/view.pyc\u001b[0m in \u001b[0;36mget_result\u001b[1;34m(self, indices_or_msg_ids)\u001b[0m\n\u001b[0;32m    325\u001b[0m             \u001b[0mindices_or_msg_ids\u001b[0m \u001b[1;33m=\u001b[0m \u001b[1;33m-\u001b[0m\u001b[1;36m1\u001b[0m\u001b[1;33m\u001b[0m\u001b[0m\n\u001b[0;32m    326\u001b[0m         \u001b[1;32mif\u001b[0m \u001b[0misinstance\u001b[0m\u001b[1;33m(\u001b[0m\u001b[0mindices_or_msg_ids\u001b[0m\u001b[1;33m,\u001b[0m \u001b[0mint\u001b[0m\u001b[1;33m)\u001b[0m\u001b[1;33m:\u001b[0m\u001b[1;33m\u001b[0m\u001b[0m\n\u001b[1;32m--> 327\u001b[1;33m             \u001b[0mindices_or_msg_ids\u001b[0m \u001b[1;33m=\u001b[0m \u001b[0mself\u001b[0m\u001b[1;33m.\u001b[0m\u001b[0mhistory\u001b[0m\u001b[1;33m[\u001b[0m\u001b[0mindices_or_msg_ids\u001b[0m\u001b[1;33m]\u001b[0m\u001b[1;33m\u001b[0m\u001b[0m\n\u001b[0m\u001b[0;32m    328\u001b[0m         \u001b[1;32melif\u001b[0m \u001b[0misinstance\u001b[0m\u001b[1;33m(\u001b[0m\u001b[0mindices_or_msg_ids\u001b[0m\u001b[1;33m,\u001b[0m \u001b[1;33m(\u001b[0m\u001b[0mlist\u001b[0m\u001b[1;33m,\u001b[0m\u001b[0mtuple\u001b[0m\u001b[1;33m,\u001b[0m\u001b[0mset\u001b[0m\u001b[1;33m)\u001b[0m\u001b[1;33m)\u001b[0m\u001b[1;33m:\u001b[0m\u001b[1;33m\u001b[0m\u001b[0m\n\u001b[0;32m    329\u001b[0m             \u001b[0mindices_or_msg_ids\u001b[0m \u001b[1;33m=\u001b[0m \u001b[0mlist\u001b[0m\u001b[1;33m(\u001b[0m\u001b[0mindices_or_msg_ids\u001b[0m\u001b[1;33m)\u001b[0m\u001b[1;33m\u001b[0m\u001b[0m\n",
        "\u001b[1;31mIndexError\u001b[0m: list index out of range"
       ]
      }
     ],
     "prompt_number": 25
    },
    {
     "cell_type": "code",
     "collapsed": false,
     "input": [
      "fnames[0]"
     ],
     "language": "python",
     "metadata": {},
     "outputs": [
      {
       "metadata": {},
       "output_type": "pyout",
       "prompt_number": 17,
       "text": [
        "'/raid1/maye/rdr_out/verification/Ben_2012_2/2009090715_C3_RDR_2.CSV'"
       ]
      }
     ],
     "prompt_number": 17
    },
    {
     "cell_type": "code",
     "collapsed": false,
     "input": [
      "%%px --local\n",
      "from __future__ import print_function\n",
      "import pandas as pd\n",
      "\n",
      "invert_clon = lambda x: -(360-x) if x > 180 else x\n",
      "\n",
      "def invert_clon(fname):\n",
      "    df = pd.read_csv(fname, na_values=-9999)\n",
      "    if not df.clon.max() > 180:\n",
      "        return \"{} was done.\".format(fname)\n",
      "    else:\n",
      "        df.clon = df.clon.map(lambda x: -(360-x) if x > 180 else x)\n",
      "        df.fillna(-9999, inplace=True)\n",
      "        df.to_csv(fname, index=False, engine='fast')\n",
      "        return \"{} converted.\".format(fname)"
     ],
     "language": "python",
     "metadata": {},
     "outputs": [],
     "prompt_number": 13
    },
    {
     "cell_type": "code",
     "collapsed": false,
     "input": [
      "import time\n",
      "amr = lbv.map_async(invert_clon, fnames)\n",
      "tic = time.time()\n",
      "for i, r in enumerate(amr):\n",
      "    print(i, r)\n",
      "    print(\"Task {}, time: {}\".format(i, time.time()-tic))"
     ],
     "language": "python",
     "metadata": {},
     "outputs": [
      {
       "output_type": "stream",
       "stream": "stdout",
       "text": [
        "0 /raid1/maye/rdr_out/verification/Ben_2012_2/2009090715_C3_RDR_2.CSV was done.\n",
        "Task 0, time: 14.3361020088\n",
        "1 /raid1/maye/rdr_out/verification/Ben_2012_2/2009090715_C4_RDR_2.CSV was done.\n",
        "Task 1, time: 14.3363029957\n",
        "2 /raid1/maye/rdr_out/verification/Ben_2012_2/2009090715_C5_RDR_2.CSV was done.\n",
        "Task 2, time: 14.3369100094\n",
        "3 /raid1/maye/rdr_out/verification/Ben_2012_2/2009090715_C6_RDR_2.CSV was done.\n",
        "Task 3, time: 14.3370931149\n",
        "4 /raid1/maye/rdr_out/verification/Ben_2012_2/2009090715_C7_RDR_2.CSV was done.\n",
        "Task 4, time: 14.3372700214\n",
        "5 /raid1/maye/rdr_out/verification/Ben_2012_2/2009090715_C8_RDR_2.CSV was done.\n",
        "Task 5, time: 14.3374521732\n",
        "6 /raid1/maye/rdr_out/verification/Ben_2012_2/2009090715_C9_RDR_2.CSV was done.\n",
        "Task 6, time: 14.3376231194\n",
        "7 /raid1/maye/rdr_out/verification/Ben_2012_2/2009090717_C3_RDR_2.CSV was done.\n",
        "Task 7, time: 14.3377959728\n",
        "8"
       ]
      },
      {
       "output_type": "stream",
       "stream": "stdout",
       "text": [
        " /raid1/maye/rdr_out/verification/Ben_2012_2/2009090719_C3_RDR_2.CSV was done.\n",
        "Task 8, time: 17.0160059929\n",
        "9"
       ]
      },
      {
       "output_type": "stream",
       "stream": "stdout",
       "text": [
        " /raid1/maye/rdr_out/verification/Ben_2012_2/2009090717_C4_RDR_2.CSV was done.\n",
        "Task 9, time: 17.3669731617\n",
        "10 /raid1/maye/rdr_out/verification/Ben_2012_2/2009090719_C4_RDR_2.CSV was done.\n",
        "Task 10, time: 17.3673810959\n",
        "11 /raid1/maye/rdr_out/verification/Ben_2012_2/2009090717_C5_RDR_2.CSV was done.\n",
        "Task 11, time: 17.3675041199\n",
        "12 /raid1/maye/rdr_out/verification/Ben_2012_2/2009090717_C6_RDR_2.CSV was done.\n",
        "Task 12, time: 17.367618084\n",
        "13"
       ]
      },
      {
       "output_type": "stream",
       "stream": "stdout",
       "text": [
        " /raid1/maye/rdr_out/verification/Ben_2012_2/2009090719_C5_RDR_2.CSV was done.\n",
        "Task 13, time: 17.5503370762\n",
        "14 /raid1/maye/rdr_out/verification/Ben_2012_2/2009090717_C7_RDR_2.CSV was done.\n",
        "Task 14, time: 17.5507371426\n",
        "15"
       ]
      },
      {
       "output_type": "stream",
       "stream": "stdout",
       "text": [
        " /raid1/maye/rdr_out/verification/Ben_2012_2/2009090719_C6_RDR_2.CSV was done.\n",
        "Task 15, time: 23.1307799816\n",
        "16"
       ]
      },
      {
       "output_type": "stream",
       "stream": "stdout",
       "text": [
        " /raid1/maye/rdr_out/verification/Ben_2012_2/2009090717_C8_RDR_2.CSV was done.\n",
        "Task 16, time: 23.52038908\n",
        "17"
       ]
      },
      {
       "output_type": "stream",
       "stream": "stdout",
       "text": [
        " /raid1/maye/rdr_out/verification/Ben_2012_2/2009090719_C7_RDR_2.CSV was done.\n",
        "Task 17, time: 24.7736060619\n",
        "18 /raid1/maye/rdr_out/verification/Ben_2012_2/2009090717_C9_RDR_2.CSV was done.\n",
        "Task 18, time: 24.7742471695\n",
        "19 /raid1/maye/rdr_out/verification/Ben_2012_2/2009090719_C8_RDR_2.CSV was done.\n",
        "Task 19, time: 24.7744381428\n",
        "20 /raid1/maye/rdr_out/verification/Ben_2012_2/2009090719_C9_RDR_2.CSV was done.\n",
        "Task 20, time: 24.7746250629\n",
        "21 /raid1/maye/rdr_out/verification/Ben_2012_2/2009071500_C3_RDR_2.CSV was done.\n",
        "Task 21, time: 24.7748041153\n",
        "22 /raid1/maye/rdr_out/verification/Ben_2012_2/2009081110_C3_RDR_2.CSV was done.\n",
        "Task 22, time: 24.7749819756\n",
        "23"
       ]
      },
      {
       "output_type": "stream",
       "stream": "stdout",
       "text": [
        " /raid1/maye/rdr_out/verification/Ben_2012_2/2009081108_C3_RDR_2.CSV was done.\n",
        "Task 23, time: 30.0092461109\n",
        "24 /raid1/maye/rdr_out/verification/Ben_2012_2/2009071506_C3_RDR_2.CSV was done.\n",
        "Task 24, time: 30.00989604\n",
        "25"
       ]
      },
      {
       "output_type": "stream",
       "stream": "stdout",
       "text": [
        " /raid1/maye/rdr_out/verification/Ben_2012_2/2009081112_C3_RDR_2.CSV was done.\n",
        "Task 25, time: 30.5049250126\n",
        "26"
       ]
      },
      {
       "output_type": "stream",
       "stream": "stdout",
       "text": [
        " /raid1/maye/rdr_out/verification/Ben_2012_2/2009071500_C4_RDR_2.CSV was done.\n",
        "Task 26, time: 30.7606911659\n",
        "27"
       ]
      },
      {
       "output_type": "stream",
       "stream": "stdout",
       "text": [
        " /raid1/maye/rdr_out/verification/Ben_2012_2/2009081108_C4_RDR_2.CSV was done.\n",
        "Task 27, time: 31.6143341064\n",
        "28 /raid1/maye/rdr_out/verification/Ben_2012_2/2009081110_C4_RDR_2.CSV was done.\n",
        "Task 28, time: 31.6254081726\n",
        "29 /raid1/maye/rdr_out/verification/Ben_2012_2/2009081112_C4_RDR_2.CSV was done.\n",
        "Task 29, time: 31.6255471706\n",
        "30 /raid1/maye/rdr_out/verification/Ben_2012_2/2009071506_C4_RDR_2.CSV was done.\n",
        "Task 30, time: 31.6256799698\n",
        "31"
       ]
      },
      {
       "output_type": "stream",
       "stream": "stdout",
       "text": [
        " /raid1/maye/rdr_out/verification/Ben_2012_2/2009071504_C3_RDR_2.CSV was done.\n",
        "Task 31, time: 36.4356541634\n",
        "32"
       ]
      },
      {
       "output_type": "stream",
       "stream": "stdout",
       "text": [
        " /raid1/maye/rdr_out/verification/Ben_2012_2/2009071502_C3_RDR_2.CSV was done.\n",
        "Task 32, time: 36.6966631413\n",
        "33"
       ]
      },
      {
       "output_type": "stream",
       "stream": "stdout",
       "text": [
        " /raid1/maye/rdr_out/verification/Ben_2012_2/2009071500_C5_RDR_2.CSV was done.\n",
        "Task 33, time: 37.3252019882\n",
        "34"
       ]
      },
      {
       "output_type": "stream",
       "stream": "stdout",
       "text": [
        " /raid1/maye/rdr_out/verification/Ben_2012_2/2009081110_C5_RDR_2.CSV was done.\n",
        "Task 34, time: 37.4494740963\n",
        "35"
       ]
      },
      {
       "output_type": "stream",
       "stream": "stdout",
       "text": [
        " /raid1/maye/rdr_out/verification/Ben_2012_2/2009081108_C5_RDR_2.CSV was done.\n",
        "Task 35, time: 37.5921940804\n",
        "36"
       ]
      },
      {
       "output_type": "stream",
       "stream": "stdout",
       "text": [
        " /raid1/maye/rdr_out/verification/Ben_2012_2/2009071506_C5_RDR_2.CSV was done.\n",
        "Task 36, time: 38.4156880379\n",
        "37"
       ]
      },
      {
       "output_type": "stream",
       "stream": "stdout",
       "text": [
        " /raid1/maye/rdr_out/verification/Ben_2012_2/2009081112_C5_RDR_2.CSV was done.\n",
        "Task 37, time: 38.7661709785\n",
        "38"
       ]
      },
      {
       "output_type": "stream",
       "stream": "stdout",
       "text": [
        " /raid1/maye/rdr_out/verification/Ben_2012_2/2009071504_C4_RDR_2.CSV was done.\n",
        "Task 38, time: 39.2429759502\n",
        "39"
       ]
      },
      {
       "output_type": "stream",
       "stream": "stdout",
       "text": [
        " /raid1/maye/rdr_out/verification/Ben_2012_2/2009071502_C4_RDR_2.CSV was done.\n",
        "Task 39, time: 43.8241319656\n",
        "40 /raid1/maye/rdr_out/verification/Ben_2012_2/2009071500_C6_RDR_2.CSV was done.\n",
        "Task 40, time: 43.8243570328\n",
        "41"
       ]
      },
      {
       "output_type": "stream",
       "stream": "stdout",
       "text": [
        " /raid1/maye/rdr_out/verification/Ben_2012_2/2009081110_C6_RDR_2.CSV was done.\n",
        "Task 41, time: 44.1030271053\n",
        "42 /raid1/maye/rdr_out/verification/Ben_2012_2/2009081108_C6_RDR_2.CSV was done.\n",
        "Task 42, time: 44.1036500931\n",
        "43"
       ]
      },
      {
       "output_type": "stream",
       "stream": "stdout",
       "text": [
        " /raid1/maye/rdr_out/verification/Ben_2012_2/2009071506_C6_RDR_2.CSV was done.\n",
        "Task 43, time: 45.0290739536\n",
        "44 /raid1/maye/rdr_out/verification/Ben_2012_2/2009081112_C6_RDR_2.CSV was done.\n",
        "Task 44, time: 45.0292651653\n",
        "45"
       ]
      },
      {
       "output_type": "stream",
       "stream": "stdout",
       "text": [
        " /raid1/maye/rdr_out/verification/Ben_2012_2/2009071504_C5_RDR_2.CSV was done.\n",
        "Task 45, time: 45.649657011\n",
        "46 /raid1/maye/rdr_out/verification/Ben_2012_2/2009071502_C5_RDR_2.CSV was done.\n",
        "Task 46, time: 45.6503059864\n",
        "47"
       ]
      },
      {
       "output_type": "stream",
       "stream": "stdout",
       "text": [
        " /raid1/maye/rdr_out/verification/Ben_2012_2/2009071500_C7_RDR_2.CSV was done.\n",
        "Task 47, time: 49.1153731346\n",
        "48"
       ]
      },
      {
       "output_type": "stream",
       "stream": "stdout",
       "text": [
        " /raid1/maye/rdr_out/verification/Ben_2012_2/2009081110_C7_RDR_2.CSV was done.\n",
        "Task 48, time: 49.994533062\n",
        "49"
       ]
      },
      {
       "output_type": "stream",
       "stream": "stdout",
       "text": [
        " /raid1/maye/rdr_out/verification/Ben_2012_2/2009071506_C7_RDR_2.CSV was done.\n",
        "Task 49, time: 50.1931951046\n",
        "50"
       ]
      },
      {
       "output_type": "stream",
       "stream": "stdout",
       "text": [
        " /raid1/maye/rdr_out/verification/Ben_2012_2/2009081108_C7_RDR_2.CSV was done.\n",
        "Task 50, time: 50.6702570915\n",
        "51 /raid1/maye/rdr_out/verification/Ben_2012_2/2009081112_C7_RDR_2.CSV was done.\n",
        "Task 51, time: 50.6709649563\n",
        "52"
       ]
      },
      {
       "output_type": "stream",
       "stream": "stdout",
       "text": [
        " /raid1/maye/rdr_out/verification/Ben_2012_2/2009071504_C6_RDR_2.CSV was done.\n",
        "Task 52, time: 51.6138031483\n",
        "53"
       ]
      },
      {
       "output_type": "stream",
       "stream": "stdout",
       "text": [
        " /raid1/maye/rdr_out/verification/Ben_2012_2/2009071502_C6_RDR_2.CSV was done.\n",
        "Task 53, time: 52.5415041447\n",
        "54 /raid1/maye/rdr_out/verification/Ben_2012_2/2009071500_C8_RDR_2.CSV was done.\n",
        "Task 54, time: 52.5416460037\n",
        "55"
       ]
      },
      {
       "output_type": "stream",
       "stream": "stdout",
       "text": [
        " /raid1/maye/rdr_out/verification/Ben_2012_2/2009081110_C8_RDR_2.CSV was done.\n",
        "Task 55, time: 55.4641730785\n",
        "56"
       ]
      },
      {
       "output_type": "stream",
       "stream": "stdout",
       "text": [
        " /raid1/maye/rdr_out/verification/Ben_2012_2/2009071506_C8_RDR_2.CSV was done.\n",
        "Task 56, time: 56.7160799503\n",
        "57"
       ]
      },
      {
       "output_type": "stream",
       "stream": "stdout",
       "text": [
        " /raid1/maye/rdr_out/verification/Ben_2012_2/2009081108_C8_RDR_2.CSV was done.\n",
        "Task 57, time: 56.8382279873\n",
        "58 /raid1/maye/rdr_out/verification/Ben_2012_2/2009081112_C8_RDR_2.CSV was done.\n",
        "Task 58, time: 56.8384361267\n",
        "59"
       ]
      },
      {
       "output_type": "stream",
       "stream": "stdout",
       "text": [
        " /raid1/maye/rdr_out/verification/Ben_2012_2/2009071504_C7_RDR_2.CSV was done.\n",
        "Task 59, time: 57.6415491104\n",
        "60"
       ]
      },
      {
       "output_type": "stream",
       "stream": "stdout",
       "text": [
        " /raid1/maye/rdr_out/verification/Ben_2012_2/2009071502_C7_RDR_2.CSV was done.\n",
        "Task 60, time: 58.8200361729\n",
        "61"
       ]
      },
      {
       "output_type": "stream",
       "stream": "stdout",
       "text": [
        " /raid1/maye/rdr_out/verification/Ben_2012_2/2009071500_C9_RDR_2.CSV was done.\n",
        "Task 61, time: 59.19272995\n",
        "62"
       ]
      },
      {
       "output_type": "stream",
       "stream": "stdout",
       "text": [
        " /raid1/maye/rdr_out/verification/Ben_2012_2/2009071506_C9_RDR_2.CSV was done.\n",
        "Task 62, time: 59.3476929665\n",
        "63"
       ]
      },
      {
       "output_type": "stream",
       "stream": "stdout",
       "text": [
        " /raid1/maye/rdr_out/verification/Ben_2012_2/2009081110_C9_RDR_2.CSV was done.\n",
        "Task 63, time: 61.4834671021\n",
        "64"
       ]
      },
      {
       "output_type": "stream",
       "stream": "stdout",
       "text": [
        " /raid1/maye/rdr_out/verification/Ben_2012_2/2009081108_C9_RDR_2.CSV was done.\n",
        "Task 64, time: 62.0998051167\n",
        "65"
       ]
      },
      {
       "output_type": "stream",
       "stream": "stdout",
       "text": [
        " /raid1/maye/rdr_out/verification/Ben_2012_2/2009081112_C9_RDR_2.CSV was done.\n",
        "Task 65, time: 63.2580339909\n",
        "66 /raid1/maye/rdr_out/verification/Ben_2012_2/2009071504_C8_RDR_2.CSV was done.\n",
        "Task 66, time: 63.2587180138\n",
        "67"
       ]
      },
      {
       "output_type": "stream",
       "stream": "stdout",
       "text": [
        " /raid1/maye/rdr_out/verification/Ben_2012_2/2009071502_C8_RDR_2.CSV was done.\n",
        "Task 67, time: 65.2184340954\n",
        "68"
       ]
      },
      {
       "output_type": "stream",
       "stream": "stdout",
       "text": [
        " /raid1/maye/rdr_out/verification/Ben_2012_2/2009071504_C9_RDR_2.CSV was done.\n",
        "Task 68, time: 66.0793480873\n",
        "69"
       ]
      },
      {
       "output_type": "stream",
       "stream": "stdout",
       "text": [
        " /raid1/maye/rdr_out/verification/Ben_2012_2/2009071502_C9_RDR_2.CSV was done.\n",
        "Task 69, time: 66.63854599\n",
        "70 /raid1/maye/rdr_out/verification/Ben_2012_2/2009100423_C3_RDR_2.CSV was done.\n",
        "Task 70, time: 66.639218092\n",
        "71"
       ]
      },
      {
       "output_type": "stream",
       "stream": "stdout",
       "text": [
        " /raid1/maye/rdr_out/verification/Ben_2012_2/2009100503_C3_RDR_2.CSV was done.\n",
        "Task 71, time: 68.4367480278\n",
        "72"
       ]
      },
      {
       "output_type": "stream",
       "stream": "stdout",
       "text": [
        " /raid1/maye/rdr_out/verification/Ben_2012_2/2009100501_C3_RDR_2.CSV was done.\n",
        "Task 72, time: 68.8513531685\n",
        "73"
       ]
      },
      {
       "output_type": "stream",
       "stream": "stdout",
       "text": [
        " /raid1/maye/rdr_out/verification/Ben_2012_2/2009110105_C3_RDR_2.CSV was done.\n",
        "Task 73, time: 69.6270949841\n",
        "74"
       ]
      },
      {
       "output_type": "stream",
       "stream": "stdout",
       "text": [
        " /raid1/maye/rdr_out/verification/Ben_2012_2/2009110106_C3_RDR_2.CSV was done.\n",
        "Task 74, time: 70.1594879627\n",
        "75"
       ]
      },
      {
       "output_type": "stream",
       "stream": "stdout",
       "text": [
        " /raid1/maye/rdr_out/verification/Ben_2012_2/2009110107_C3_RDR_2.CSV was done.\n",
        "Task 75, time: 72.2168910503\n",
        "76"
       ]
      },
      {
       "output_type": "stream",
       "stream": "stdout",
       "text": [
        " /raid1/maye/rdr_out/verification/Ben_2012_2/2009100423_C4_RDR_2.CSV was done.\n",
        "Task 76, time: 73.2291021347\n",
        "77"
       ]
      },
      {
       "output_type": "stream",
       "stream": "stdout",
       "text": [
        " /raid1/maye/rdr_out/verification/Ben_2012_2/2009100503_C4_RDR_2.CSV was done.\n",
        "Task 77, time: 73.320567131\n",
        "78"
       ]
      },
      {
       "output_type": "stream",
       "stream": "stdout",
       "text": [
        " /raid1/maye/rdr_out/verification/Ben_2012_2/2009100501_C4_RDR_2.CSV was done.\n",
        "Task 78, time: 73.9787361622\n",
        "79"
       ]
      },
      {
       "output_type": "stream",
       "stream": "stdout",
       "text": [
        " /raid1/maye/rdr_out/verification/Ben_2012_2/2009110105_C4_RDR_2.CSV was done.\n",
        "Task 79, time: 74.9539649487\n",
        "80"
       ]
      },
      {
       "output_type": "stream",
       "stream": "stdout",
       "text": [
        " /raid1/maye/rdr_out/verification/Ben_2012_2/2009110106_C4_RDR_2.CSV was done.\n",
        "Task 80, time: 75.0574960709\n",
        "81"
       ]
      },
      {
       "output_type": "stream",
       "stream": "stdout",
       "text": [
        " /raid1/maye/rdr_out/verification/Ben_2012_2/2009110107_C4_RDR_2.CSV was done.\n",
        "Task 81, time: 76.040555954\n",
        "82"
       ]
      },
      {
       "output_type": "stream",
       "stream": "stdout",
       "text": [
        " /raid1/maye/rdr_out/verification/Ben_2012_2/2009100503_C5_RDR_2.CSV was done.\n",
        "Task 82, time: 77.31092906\n",
        "83"
       ]
      },
      {
       "output_type": "stream",
       "stream": "stdout",
       "text": [
        " /raid1/maye/rdr_out/verification/Ben_2012_2/2009100423_C5_RDR_2.CSV was done.\n",
        "Task 83, time: 79.1201159954\n",
        "84"
       ]
      },
      {
       "output_type": "stream",
       "stream": "stdout",
       "text": [
        " /raid1/maye/rdr_out/verification/Ben_2012_2/2009100501_C5_RDR_2.CSV was done.\n",
        "Task 84, time: 79.8085279465\n",
        "85"
       ]
      },
      {
       "output_type": "stream",
       "stream": "stdout",
       "text": [
        " /raid1/maye/rdr_out/verification/Ben_2012_2/2009110105_C5_RDR_2.CSV was done.\n",
        "Task 85, time: 80.7562940121\n",
        "86"
       ]
      },
      {
       "output_type": "stream",
       "stream": "stdout",
       "text": [
        " /raid1/maye/rdr_out/verification/Ben_2012_2/2009110106_C5_RDR_2.CSV was done.\n",
        "Task 86, time: 81.6649329662\n",
        "87 /raid1/maye/rdr_out/verification/Ben_2012_2/2009100503_C6_RDR_2.CSV was done.\n",
        "Task 87, time: 81.6883990765\n",
        "88"
       ]
      },
      {
       "output_type": "stream",
       "stream": "stdout",
       "text": [
        " /raid1/maye/rdr_out/verification/Ben_2012_2/2009110107_C5_RDR_2.CSV was done.\n",
        "Task 88, time: 82.7860460281\n",
        "89"
       ]
      },
      {
       "output_type": "stream",
       "stream": "stdout",
       "text": [
        " /raid1/maye/rdr_out/verification/Ben_2012_2/2009100423_C6_RDR_2.CSV was done.\n",
        "Task 89, time: 82.9343090057\n",
        "90"
       ]
      },
      {
       "output_type": "stream",
       "stream": "stdout",
       "text": [
        " /raid1/maye/rdr_out/verification/Ben_2012_2/2009100501_C6_RDR_2.CSV was done.\n",
        "Task 90, time: 84.2210011482\n",
        "91"
       ]
      },
      {
       "output_type": "stream",
       "stream": "stdout",
       "text": [
        " /raid1/maye/rdr_out/verification/Ben_2012_2/2009110105_C6_RDR_2.CSV was done.\n",
        "Task 91, time: 86.6747920513\n",
        "92"
       ]
      },
      {
       "output_type": "stream",
       "stream": "stdout",
       "text": [
        " /raid1/maye/rdr_out/verification/Ben_2012_2/2009110106_C6_RDR_2.CSV was done.\n",
        "Task 92, time: 87.2237670422\n",
        "93"
       ]
      },
      {
       "output_type": "stream",
       "stream": "stdout",
       "text": [
        " /raid1/maye/rdr_out/verification/Ben_2012_2/2009100503_C7_RDR_2.CSV was done.\n",
        "Task 93, time: 88.7385931015\n",
        "94"
       ]
      },
      {
       "output_type": "stream",
       "stream": "stdout",
       "text": [
        " /raid1/maye/rdr_out/verification/Ben_2012_2/2009110107_C6_RDR_2.CSV was done.\n",
        "Task 94, time: 89.041079998\n",
        "95 /raid1/maye/rdr_out/verification/Ben_2012_2/2009100501_C7_RDR_2.CSV was done.\n",
        "Task 95, time: 89.0414180756\n",
        "96"
       ]
      },
      {
       "output_type": "stream",
       "stream": "stdout",
       "text": [
        " /raid1/maye/rdr_out/verification/Ben_2012_2/2009100423_C7_RDR_2.CSV was done.\n",
        "Task 96, time: 89.6279881001\n",
        "97"
       ]
      },
      {
       "output_type": "stream",
       "stream": "stdout",
       "text": [
        " /raid1/maye/rdr_out/verification/Ben_2012_2/2009110105_C7_RDR_2.CSV was done.\n",
        "Task 97, time: 89.9221329689\n",
        "98"
       ]
      },
      {
       "output_type": "stream",
       "stream": "stdout",
       "text": [
        " /raid1/maye/rdr_out/verification/Ben_2012_2/2009100503_C8_RDR_2.CSV was done.\n",
        "Task 98, time: 91.8395969868\n",
        "99"
       ]
      },
      {
       "output_type": "stream",
       "stream": "stdout",
       "text": [
        " /raid1/maye/rdr_out/verification/Ben_2012_2/2009100423_C8_RDR_2.CSV was done.\n",
        "Task 99, time: 93.2450561523\n",
        "100"
       ]
      },
      {
       "output_type": "stream",
       "stream": "stdout",
       "text": [
        " /raid1/maye/rdr_out/verification/Ben_2012_2/2009100501_C8_RDR_2.CSV was done.\n",
        "Task 100, time: 93.5807850361\n",
        "101"
       ]
      },
      {
       "output_type": "stream",
       "stream": "stdout",
       "text": [
        " /raid1/maye/rdr_out/verification/Ben_2012_2/2009110106_C7_RDR_2.CSV was done.\n",
        "Task 101, time: 94.1531550884\n",
        "102"
       ]
      },
      {
       "output_type": "stream",
       "stream": "stdout",
       "text": [
        " /raid1/maye/rdr_out/verification/Ben_2012_2/2009110107_C7_RDR_2.CSV was done.\n",
        "Task 102, time: 94.7581920624\n",
        "103"
       ]
      },
      {
       "output_type": "stream",
       "stream": "stdout",
       "text": [
        " /raid1/maye/rdr_out/verification/Ben_2012_2/2009110105_C8_RDR_2.CSV was done.\n",
        "Task 103, time: 95.7320790291\n",
        "104"
       ]
      },
      {
       "output_type": "stream",
       "stream": "stdout",
       "text": [
        " /raid1/maye/rdr_out/verification/Ben_2012_2/2009100501_C9_RDR_2.CSV was done.\n",
        "Task 104, time: 96.5484051704\n",
        "105 /raid1/maye/rdr_out/verification/Ben_2012_2/2009100503_C9_RDR_2.CSV was done.\n",
        "Task 105, time: 96.5490210056\n",
        "106"
       ]
      },
      {
       "output_type": "stream",
       "stream": "stdout",
       "text": [
        " /raid1/maye/rdr_out/verification/Ben_2012_2/2009100423_C9_RDR_2.CSV was done.\n",
        "Task 106, time: 98.0586140156\n",
        "107"
       ]
      },
      {
       "output_type": "stream",
       "stream": "stdout",
       "text": [
        " /raid1/maye/rdr_out/verification/Ben_2012_2/2009110107_C8_RDR_2.CSV was done.\n",
        "Task 107, time: 99.4855279922\n",
        "108"
       ]
      },
      {
       "output_type": "stream",
       "stream": "stdout",
       "text": [
        " /raid1/maye/rdr_out/verification/Ben_2012_2/2009110109_C3_RDR_2.CSV was done.\n",
        "Task 108, time: 100.37313509\n",
        "109"
       ]
      },
      {
       "output_type": "stream",
       "stream": "stdout",
       "text": [
        " /raid1/maye/rdr_out/verification/Ben_2012_2/2009110105_C9_RDR_2.CSV was done.\n",
        "Task 109, time: 101.301175117\n",
        "110"
       ]
      },
      {
       "output_type": "stream",
       "stream": "stdout",
       "text": [
        " /raid1/maye/rdr_out/verification/Ben_2012_2/2009110106_C8_RDR_2.CSV was done.\n",
        "Task 110, time: 101.573724985\n",
        "111"
       ]
      },
      {
       "output_type": "stream",
       "stream": "stdout",
       "text": [
        " /raid1/maye/rdr_out/verification/Ben_2012_2/2009110111_C3_RDR_2.CSV was done.\n",
        "Task 111, time: 103.029932976\n",
        "112 /raid1/maye/rdr_out/verification/Ben_2012_2/2009110107_C9_RDR_2.CSV was done.\n",
        "Task 112, time: 103.030369997\n",
        "113"
       ]
      },
      {
       "output_type": "stream",
       "stream": "stdout",
       "text": [
        " /raid1/maye/rdr_out/verification/Ben_2012_2/2009110109_C4_RDR_2.CSV was done.\n",
        "Task 113, time: 103.43979311\n",
        "114"
       ]
      },
      {
       "output_type": "stream",
       "stream": "stdout",
       "text": [
        " /raid1/maye/rdr_out/verification/Ben_2012_2/2009110106_C9_RDR_2.CSV was done.\n",
        "Task 114, time: 105.066704988\n",
        "115"
       ]
      },
      {
       "output_type": "stream",
       "stream": "stdout",
       "text": [
        " /raid1/maye/rdr_out/verification/Ben_2012_2/2009110111_C4_RDR_2.CSV was done.\n",
        "Task 115, time: 106.150007963\n",
        "116"
       ]
      },
      {
       "output_type": "stream",
       "stream": "stdout",
       "text": [
        " /raid1/maye/rdr_out/verification/Ben_2012_2/2009110109_C5_RDR_2.CSV was done.\n",
        "Task 116, time: 106.712779045\n",
        "117"
       ]
      },
      {
       "output_type": "stream",
       "stream": "stdout",
       "text": [
        " /raid1/maye/rdr_out/verification/Ben_2012_2/2009112816_C3_RDR_2.CSV was done.\n",
        "Task 117, time: 108.219105005\n",
        "118"
       ]
      },
      {
       "output_type": "stream",
       "stream": "stdout",
       "text": [
        " /raid1/maye/rdr_out/verification/Ben_2012_2/2009112814_C3_RDR_2.CSV was done.\n",
        "Task 118, time: 108.781016111\n",
        "119"
       ]
      },
      {
       "output_type": "stream",
       "stream": "stdout",
       "text": [
        " /raid1/maye/rdr_out/verification/Ben_2012_2/2009112818_C3_RDR_2.CSV was done.\n",
        "Task 119, time: 109.126759052\n",
        "120"
       ]
      },
      {
       "output_type": "stream",
       "stream": "stdout",
       "text": [
        " /raid1/maye/rdr_out/verification/Ben_2012_2/2009110111_C5_RDR_2.CSV was done.\n",
        "Task 120, time: 110.249407053\n",
        "121"
       ]
      },
      {
       "output_type": "stream",
       "stream": "stdout",
       "text": [
        " /raid1/maye/rdr_out/verification/Ben_2012_2/2009122520_C3_RDR_2.CSV was done.\n",
        "Task 121, time: 111.297012091\n",
        "122"
       ]
      },
      {
       "output_type": "stream",
       "stream": "stdout",
       "text": [
        " /raid1/maye/rdr_out/verification/Ben_2012_2/2009110109_C6_RDR_2.CSV was done.\n",
        "Task 122, time: 111.676215172\n",
        "123"
       ]
      },
      {
       "output_type": "stream",
       "stream": "stdout",
       "text": [
        " /raid1/maye/rdr_out/verification/Ben_2012_2/2009112816_C4_RDR_2.CSV was done.\n",
        "Task 123, time: 112.807768106\n",
        "124"
       ]
      },
      {
       "output_type": "stream",
       "stream": "stdout",
       "text": [
        " /raid1/maye/rdr_out/verification/Ben_2012_2/2009112814_C4_RDR_2.CSV was done.\n",
        "Task 124, time: 113.081212997\n",
        "125"
       ]
      },
      {
       "output_type": "stream",
       "stream": "stdout",
       "text": [
        " /raid1/maye/rdr_out/verification/Ben_2012_2/2009112818_C4_RDR_2.CSV was done.\n",
        "Task 125, time: 115.219654083\n",
        "126"
       ]
      },
      {
       "output_type": "stream",
       "stream": "stdout",
       "text": [
        " /raid1/maye/rdr_out/verification/Ben_2012_2/2009110111_C6_RDR_2.CSV was done.\n",
        "Task 126, time: 115.758223057\n",
        "127 /raid1/maye/rdr_out/verification/Ben_2012_2/2009122520_C4_RDR_2.CSV was done.\n",
        "Task 127, time: 115.758861065\n",
        "128"
       ]
      },
      {
       "output_type": "stream",
       "stream": "stdout",
       "text": [
        " /raid1/maye/rdr_out/verification/Ben_2012_2/2009122522_C3_RDR_2.CSV was done.\n",
        "Task 128, time: 116.646130085\n",
        "129"
       ]
      },
      {
       "output_type": "stream",
       "stream": "stdout",
       "text": [
        " /raid1/maye/rdr_out/verification/Ben_2012_2/2009122600_C3_RDR_2.CSV was done.\n",
        "Task 129, time: 117.888333082\n",
        "130 /raid1/maye/rdr_out/verification/Ben_2012_2/2009110109_C7_RDR_2.CSV was done.\n",
        "Task 130, time: 117.888489962\n",
        "131"
       ]
      },
      {
       "output_type": "stream",
       "stream": "stdout",
       "text": [
        " /raid1/maye/rdr_out/verification/Ben_2012_2/2009112816_C5_RDR_2.CSV was done.\n",
        "Task 131, time: 119.299328089\n",
        "132 /raid1/maye/rdr_out/verification/Ben_2012_2/2009112814_C5_RDR_2.CSV was done.\n",
        "Task 132, time: 119.299463034\n",
        "133"
       ]
      },
      {
       "output_type": "stream",
       "stream": "stdout",
       "text": [
        " /raid1/maye/rdr_out/verification/Ben_2012_2/2009112818_C5_RDR_2.CSV was done.\n",
        "Task 133, time: 121.886640072\n",
        "134"
       ]
      },
      {
       "output_type": "stream",
       "stream": "stdout",
       "text": [
        " /raid1/maye/rdr_out/verification/Ben_2012_2/2009122520_C5_RDR_2.CSV was done.\n",
        "Task 134, time: 122.519363165\n",
        "135 /raid1/maye/rdr_out/verification/Ben_2012_2/2009110111_C7_RDR_2.CSV was done.\n",
        "Task 135, time: 122.519564152\n",
        "136"
       ]
      },
      {
       "output_type": "stream",
       "stream": "stdout",
       "text": [
        " /raid1/maye/rdr_out/verification/Ben_2012_2/2009122600_C4_RDR_2.CSV was done.\n",
        "Task 136, time: 124.34763813\n",
        "137"
       ]
      },
      {
       "output_type": "stream",
       "stream": "stdout",
       "text": [
        " /raid1/maye/rdr_out/verification/Ben_2012_2/2009122522_C4_RDR_2.CSV was done.\n",
        "Task 137, time: 124.549096107\n",
        "138"
       ]
      },
      {
       "output_type": "stream",
       "stream": "stdout",
       "text": [
        " /raid1/maye/rdr_out/verification/Ben_2012_2/2009110109_C8_RDR_2.CSV was done.\n",
        "Task 138, time: 124.920830011\n",
        "139"
       ]
      },
      {
       "output_type": "stream",
       "stream": "stdout",
       "text": [
        " /raid1/maye/rdr_out/verification/Ben_2012_2/2009112816_C6_RDR_2.CSV was done.\n",
        "Task 139, time: 125.211472988\n",
        "140"
       ]
      },
      {
       "output_type": "stream",
       "stream": "stdout",
       "text": [
        " /raid1/maye/rdr_out/verification/Ben_2012_2/2009112814_C6_RDR_2.CSV was done.\n",
        "Task 140, time: 125.375723124\n",
        "141"
       ]
      },
      {
       "output_type": "stream",
       "stream": "stdout",
       "text": [
        " /raid1/maye/rdr_out/verification/Ben_2012_2/2009112818_C6_RDR_2.CSV was done.\n",
        "Task 141, time: 127.887608051\n",
        "142"
       ]
      },
      {
       "output_type": "stream",
       "stream": "stdout",
       "text": [
        " /raid1/maye/rdr_out/verification/Ben_2012_2/2009122520_C6_RDR_2.CSV was done.\n",
        "Task 142, time: 128.66418314\n",
        "143 /raid1/maye/rdr_out/verification/Ben_2012_2/2009110111_C8_RDR_2.CSV was done.\n",
        "Task 143, time: 128.705279112\n",
        "144"
       ]
      },
      {
       "output_type": "stream",
       "stream": "stdout",
       "text": [
        " /raid1/maye/rdr_out/verification/Ben_2012_2/2009122600_C5_RDR_2.CSV was done.\n",
        "Task 144, time: 131.536483049\n",
        "145 /raid1/maye/rdr_out/verification/Ben_2012_2/2009122522_C5_RDR_2.CSV was done.\n",
        "Task 145, time: 131.53666997\n",
        "146 /raid1/maye/rdr_out/verification/Ben_2012_2/2009110109_C9_RDR_2.CSV was done.\n",
        "Task 146, time: 131.536793947\n",
        "147 /raid1/maye/rdr_out/verification/Ben_2012_2/2009112816_C7_RDR_2.CSV was done.\n",
        "Task 147, time: 131.536910057\n",
        "148 /raid1/maye/rdr_out/verification/Ben_2012_2/2009112814_C7_RDR_2.CSV was done.\n",
        "Task 148, time: 131.537024975\n",
        "149"
       ]
      },
      {
       "output_type": "stream",
       "stream": "stdout",
       "text": [
        " /raid1/maye/rdr_out/verification/Ben_2012_2/2009112818_C7_RDR_2.CSV was done.\n",
        "Task 149, time: 133.775793076\n",
        "150"
       ]
      },
      {
       "output_type": "stream",
       "stream": "stdout",
       "text": [
        " /raid1/maye/rdr_out/verification/Ben_2012_2/2009122520_C7_RDR_2.CSV was done.\n",
        "Task 150, time: 134.950777054\n",
        "151 /raid1/maye/rdr_out/verification/Ben_2012_2/2009122600_C6_RDR_2.CSV was done.\n",
        "Task 151, time: 134.951007128\n",
        "152"
       ]
      },
      {
       "output_type": "stream",
       "stream": "stdout",
       "text": [
        " /raid1/maye/rdr_out/verification/Ben_2012_2/2009110111_C9_RDR_2.CSV was done.\n",
        "Task 152, time: 137.068521976\n",
        "153 /raid1/maye/rdr_out/verification/Ben_2012_2/2009122522_C6_RDR_2.CSV was done.\n",
        "Task 153, time: 137.068741083\n",
        "154"
       ]
      },
      {
       "output_type": "stream",
       "stream": "stdout",
       "text": [
        " /raid1/maye/rdr_out/verification/Ben_2012_2/2009112816_C8_RDR_2.CSV was done.\n",
        "Task 154, time: 137.524530172\n",
        "155"
       ]
      },
      {
       "output_type": "stream",
       "stream": "stdout",
       "text": [
        " /raid1/maye/rdr_out/verification/Ben_2012_2/2009112814_C8_RDR_2.CSV was done.\n",
        "Task 155, time: 138.380203009\n",
        "156 /raid1/maye/rdr_out/verification/Ben_2012_2/2009112818_C8_RDR_2.CSV was done.\n",
        "Task 156, time: 138.380825043\n",
        "157"
       ]
      },
      {
       "output_type": "stream",
       "stream": "stdout",
       "text": [
        " /raid1/maye/rdr_out/verification/Ben_2012_2/2009122520_C8_RDR_2.CSV was done.\n",
        "Task 157, time: 139.942991018\n",
        "158"
       ]
      },
      {
       "output_type": "stream",
       "stream": "stdout",
       "text": [
        " /raid1/maye/rdr_out/verification/Ben_2012_2/2009122522_C7_RDR_2.CSV was done.\n",
        "Task 158, time: 140.518303156\n",
        "159"
       ]
      },
      {
       "output_type": "stream",
       "stream": "stdout",
       "text": [
        " /raid1/maye/rdr_out/verification/Ben_2012_2/2009122600_C7_RDR_2.CSV was done.\n",
        "Task 159, time: 141.024039984\n",
        "160"
       ]
      },
      {
       "output_type": "stream",
       "stream": "stdout",
       "text": [
        " /raid1/maye/rdr_out/verification/Ben_2012_2/2009112816_C9_RDR_2.CSV was done.\n",
        "Task 160, time: 143.053325176\n",
        "161"
       ]
      },
      {
       "output_type": "stream",
       "stream": "stdout",
       "text": [
        " /raid1/maye/rdr_out/verification/Ben_2012_2/2010010813_C3_RDR_2.CSV was done.\n",
        "Task 161, time: 143.176537037\n",
        "162"
       ]
      },
      {
       "output_type": "stream",
       "stream": "stdout",
       "text": [
        " /raid1/maye/rdr_out/verification/Ben_2012_2/2009112818_C9_RDR_2.CSV was done.\n",
        "Task 162, time: 143.918208122\n",
        "163"
       ]
      },
      {
       "output_type": "stream",
       "stream": "stdout",
       "text": [
        " /raid1/maye/rdr_out/verification/Ben_2012_2/2009112814_C9_RDR_2.CSV was done.\n",
        "Task 163, time: 144.304434061\n",
        "164"
       ]
      },
      {
       "output_type": "stream",
       "stream": "stdout",
       "text": [
        " /raid1/maye/rdr_out/verification/Ben_2012_2/2009122520_C9_RDR_2.CSV was done.\n",
        "Task 164, time: 145.305647135\n",
        "165"
       ]
      },
      {
       "output_type": "stream",
       "stream": "stdout",
       "text": [
        " /raid1/maye/rdr_out/verification/Ben_2012_2/2009122602_C3_RDR_2.CSV was done.\n",
        "Task 165, time: 146.520395994\n",
        "166"
       ]
      },
      {
       "output_type": "stream",
       "stream": "stdout",
       "text": [
        " /raid1/maye/rdr_out/verification/Ben_2012_2/2009122522_C8_RDR_2.CSV was done.\n",
        "Task 166, time: 146.729232073\n",
        "167"
       ]
      },
      {
       "output_type": "stream",
       "stream": "stdout",
       "text": [
        " /raid1/maye/rdr_out/verification/Ben_2012_2/2009122600_C8_RDR_2.CSV was done.\n",
        "Task 167, time: 146.983080149\n",
        "168"
       ]
      },
      {
       "output_type": "stream",
       "stream": "stdout",
       "text": [
        " /raid1/maye/rdr_out/verification/Ben_2012_2/2010010813_C4_RDR_2.CSV was done.\n",
        "Task 168, time: 149.811162949\n",
        "169 /raid1/maye/rdr_out/verification/Ben_2012_2/2010010815_C3_RDR_2.CSV was done.\n",
        "Task 169, time: 149.81129694\n",
        "170"
       ]
      },
      {
       "output_type": "stream",
       "stream": "stdout",
       "text": [
        " /raid1/maye/rdr_out/verification/Ben_2012_2/2010010817_C3_RDR_2.CSV was done.\n",
        "Task 170, time: 150.780909061\n",
        "171"
       ]
      },
      {
       "output_type": "stream",
       "stream": "stdout",
       "text": [
        " /raid1/maye/rdr_out/verification/Ben_2012_2/2009122522_C9_RDR_2.CSV was done.\n",
        "Task 171, time: 151.525825024\n",
        "172"
       ]
      },
      {
       "output_type": "stream",
       "stream": "stdout",
       "text": [
        " /raid1/maye/rdr_out/verification/Ben_2012_2/2009122602_C4_RDR_2.CSV was done.\n",
        "Task 172, time: 152.077706099\n",
        "173"
       ]
      },
      {
       "output_type": "stream",
       "stream": "stdout",
       "text": [
        " /raid1/maye/rdr_out/verification/Ben_2012_2/2009122600_C9_RDR_2.CSV was done.\n",
        "Task 173, time: 153.413180113\n",
        "174 /raid1/maye/rdr_out/verification/Ben_2012_2/2010010818_C3_RDR_2.CSV was done.\n",
        "Task 174, time: 153.413805008\n",
        "175"
       ]
      },
      {
       "output_type": "stream",
       "stream": "stdout",
       "text": [
        " /raid1/maye/rdr_out/verification/Ben_2012_2/2010010819_C3_RDR_2.CSV was done.\n",
        "Task 175, time: 154.415110111\n",
        "176"
       ]
      },
      {
       "output_type": "stream",
       "stream": "stdout",
       "text": [
        " /raid1/maye/rdr_out/verification/Ben_2012_2/2010010813_C5_RDR_2.CSV was done.\n",
        "Task 176, time: 155.263000011\n",
        "177"
       ]
      },
      {
       "output_type": "stream",
       "stream": "stdout",
       "text": [
        " /raid1/maye/rdr_out/verification/Ben_2012_2/2010010815_C4_RDR_2.CSV was done.\n",
        "Task 177, time: 157.154911995\n",
        "178"
       ]
      },
      {
       "output_type": "stream",
       "stream": "stdout",
       "text": [
        " /raid1/maye/rdr_out/verification/Ben_2012_2/2010010817_C4_RDR_2.CSV was done.\n",
        "Task 178, time: 157.345916033\n",
        "179"
       ]
      },
      {
       "output_type": "stream",
       "stream": "stdout",
       "text": [
        " /raid1/maye/rdr_out/verification/Ben_2012_2/2010010818_C4_RDR_2.CSV was done.\n",
        "Task 179, time: 158.63954711\n",
        "180"
       ]
      },
      {
       "output_type": "stream",
       "stream": "stdout",
       "text": [
        " /raid1/maye/rdr_out/verification/Ben_2012_2/2009122602_C5_RDR_2.CSV was done.\n",
        "Task 180, time: 158.977338076\n",
        "181"
       ]
      },
      {
       "output_type": "stream",
       "stream": "stdout",
       "text": [
        " /raid1/maye/rdr_out/verification/Ben_2012_2/2010010819_C4_RDR_2.CSV was done.\n",
        "Task 181, time: 159.817903996\n",
        "182"
       ]
      },
      {
       "output_type": "stream",
       "stream": "stdout",
       "text": [
        " /raid1/maye/rdr_out/verification/Ben_2012_2/2010010813_C6_RDR_2.CSV was done.\n",
        "Task 182, time: 161.047250032\n",
        "183"
       ]
      },
      {
       "output_type": "stream",
       "stream": "stdout",
       "text": [
        " /raid1/maye/rdr_out/verification/Ben_2012_2/2010010815_C5_RDR_2.CSV was done.\n",
        "Task 183, time: 161.906243086\n",
        "184"
       ]
      },
      {
       "output_type": "stream",
       "stream": "stdout",
       "text": [
        " /raid1/maye/rdr_out/verification/Ben_2012_2/2010020421_C3_RDR_2.CSV was done.\n",
        "Task 184, time: 161.974162102\n",
        "185"
       ]
      },
      {
       "output_type": "stream",
       "stream": "stdout",
       "text": [
        " /raid1/maye/rdr_out/verification/Ben_2012_2/2010020423_C3_RDR_2.CSV was done.\n",
        "Task 185, time: 163.242746115\n",
        "186"
       ]
      },
      {
       "output_type": "stream",
       "stream": "stdout",
       "text": [
        " /raid1/maye/rdr_out/verification/Ben_2012_2/2010010817_C5_RDR_2.CSV was done.\n",
        "Task 186, time: 164.771355152\n",
        "187"
       ]
      },
      {
       "output_type": "stream",
       "stream": "stdout",
       "text": [
        " /raid1/maye/rdr_out/verification/Ben_2012_2/2010010818_C5_RDR_2.CSV was done.\n",
        "Task 187, time: 166.054370165\n",
        "188 /raid1/maye/rdr_out/verification/Ben_2012_2/2009122602_C6_RDR_2.CSV was done.\n",
        "Task 188, time: 166.054794073\n",
        "189"
       ]
      },
      {
       "output_type": "stream",
       "stream": "stdout",
       "text": [
        " /raid1/maye/rdr_out/verification/Ben_2012_2/2010010819_C5_RDR_2.CSV was done.\n",
        "Task 189, time: 168.409605026\n",
        "190"
       ]
      },
      {
       "output_type": "stream",
       "stream": "stdout",
       "text": [
        " /raid1/maye/rdr_out/verification/Ben_2012_2/2010010813_C7_RDR_2.CSV was done.\n",
        "Task 190, time: 168.849811077\n",
        "191 /raid1/maye/rdr_out/verification/Ben_2012_2/2010010815_C6_RDR_2.CSV was done.\n",
        "Task 191, time: 168.850474119\n",
        "192 /raid1/maye/rdr_out/verification/Ben_2012_2/2010020421_C4_RDR_2.CSV was done.\n",
        "Task 192, time: 168.85067606\n",
        "193"
       ]
      },
      {
       "output_type": "stream",
       "stream": "stdout",
       "text": [
        " /raid1/maye/rdr_out/verification/Ben_2012_2/2010020423_C4_RDR_2.CSV was done.\n",
        "Task 193, time: 169.29372716\n",
        "194"
       ]
      },
      {
       "output_type": "stream",
       "stream": "stdout",
       "text": [
        " /raid1/maye/rdr_out/verification/Ben_2012_2/2010010817_C6_RDR_2.CSV was done.\n",
        "Task 194, time: 171.594814062\n",
        "195"
       ]
      },
      {
       "output_type": "stream",
       "stream": "stdout",
       "text": [
        " /raid1/maye/rdr_out/verification/Ben_2012_2/2010010818_C6_RDR_2.CSV was done.\n",
        "Task 195, time: 171.958560944\n",
        "196"
       ]
      },
      {
       "output_type": "stream",
       "stream": "stdout",
       "text": [
        " /raid1/maye/rdr_out/verification/Ben_2012_2/2009122602_C7_RDR_2.CSV was done.\n",
        "Task 196, time: 172.301201105\n",
        "197"
       ]
      },
      {
       "output_type": "stream",
       "stream": "stdout",
       "text": [
        " /raid1/maye/rdr_out/verification/Ben_2012_2/2010010819_C6_RDR_2.CSV was done.\n",
        "Task 197, time: 174.178053141\n",
        "198"
       ]
      },
      {
       "output_type": "stream",
       "stream": "stdout",
       "text": [
        " /raid1/maye/rdr_out/verification/Ben_2012_2/2010010813_C8_RDR_2.CSV was done.\n",
        "Task 198, time: 174.817321062\n",
        "199 /raid1/maye/rdr_out/verification/Ben_2012_2/2010010815_C7_RDR_2.CSV was done.\n",
        "Task 199, time: 174.817520142\n",
        "200"
       ]
      },
      {
       "output_type": "stream",
       "stream": "stdout",
       "text": [
        " /raid1/maye/rdr_out/verification/Ben_2012_2/2010020421_C5_RDR_2.CSV was done.\n",
        "Task 200, time: 174.899461031\n",
        "201"
       ]
      },
      {
       "output_type": "stream",
       "stream": "stdout",
       "text": [
        " /raid1/maye/rdr_out/verification/Ben_2012_2/2010020423_C5_RDR_2.CSV was done.\n",
        "Task 201, time: 175.096819162\n",
        "202"
       ]
      },
      {
       "output_type": "stream",
       "stream": "stdout",
       "text": [
        " /raid1/maye/rdr_out/verification/Ben_2012_2/2010010817_C7_RDR_2.CSV was done.\n",
        "Task 202, time: 178.283147097\n",
        "203"
       ]
      },
      {
       "output_type": "stream",
       "stream": "stdout",
       "text": [
        " /raid1/maye/rdr_out/verification/Ben_2012_2/2010010818_C7_RDR_2.CSV was done.\n",
        "Task 203, time: 178.643043041\n",
        "204"
       ]
      },
      {
       "output_type": "stream",
       "stream": "stdout",
       "text": [
        " /raid1/maye/rdr_out/verification/Ben_2012_2/2009122602_C8_RDR_2.CSV was done.\n",
        "Task 204, time: 179.036967039\n",
        "205"
       ]
      },
      {
       "output_type": "stream",
       "stream": "stdout",
       "text": [
        " /raid1/maye/rdr_out/verification/Ben_2012_2/2010010819_C7_RDR_2.CSV was done.\n",
        "Task 205, time: 181.126966\n",
        "206"
       ]
      },
      {
       "output_type": "stream",
       "stream": "stdout",
       "text": [
        " /raid1/maye/rdr_out/verification/Ben_2012_2/2010010813_C9_RDR_2.CSV was done.\n",
        "Task 206, time: 181.245649099\n",
        "207"
       ]
      },
      {
       "output_type": "stream",
       "stream": "stdout",
       "text": [
        " /raid1/maye/rdr_out/verification/Ben_2012_2/2010010815_C8_RDR_2.CSV was done.\n",
        "Task 207, time: 181.846256971\n",
        "208 /raid1/maye/rdr_out/verification/Ben_2012_2/2010020421_C6_RDR_2.CSV was done.\n",
        "Task 208, time: 181.846395969\n",
        "209 /raid1/maye/rdr_out/verification/Ben_2012_2/2010020423_C6_RDR_2.CSV was done.\n",
        "Task 209, time: 181.84651804\n",
        "210"
       ]
      },
      {
       "output_type": "stream",
       "stream": "stdout",
       "text": [
        " /raid1/maye/rdr_out/verification/Ben_2012_2/2010010817_C8_RDR_2.CSV was done.\n",
        "Task 210, time: 185.661437988\n",
        "211 /raid1/maye/rdr_out/verification/Ben_2012_2/2010010818_C8_RDR_2.CSV was done.\n",
        "Task 211, time: 185.662101984\n",
        "212"
       ]
      },
      {
       "output_type": "stream",
       "stream": "stdout",
       "text": [
        " /raid1/maye/rdr_out/verification/Ben_2012_2/2009122602_C9_RDR_2.CSV was done.\n",
        "Task 212, time: 186.073822021\n",
        "213"
       ]
      },
      {
       "output_type": "stream",
       "stream": "stdout",
       "text": [
        " /raid1/maye/rdr_out/verification/Ben_2012_2/2010010819_C8_RDR_2.CSV was done.\n",
        "Task 213, time: 188.529987097\n",
        "214 /raid1/maye/rdr_out/verification/Ben_2012_2/2010010815_C9_RDR_2.CSV was done.\n",
        "Task 214, time: 188.530125141\n",
        "215 /raid1/maye/rdr_out/verification/Ben_2012_2/2010020421_C7_RDR_2.CSV was done.\n",
        "Task 215, time: 188.530246019\n",
        "216 /raid1/maye/rdr_out/verification/Ben_2012_2/2010020501_C3_RDR_2.CSV was done.\n",
        "Task 216, time: 188.530359983\n",
        "217"
       ]
      },
      {
       "output_type": "stream",
       "stream": "stdout",
       "text": [
        " /raid1/maye/rdr_out/verification/Ben_2012_2/2010020423_C7_RDR_2.CSV was done.\n",
        "Task 217, time: 188.644196033\n",
        "218"
       ]
      },
      {
       "output_type": "stream",
       "stream": "stdout",
       "text": [
        " /raid1/maye/rdr_out/verification/Ben_2012_2/2010010817_C9_RDR_2.CSV was done.\n",
        "Task 218, time: 191.341148138\n",
        "219"
       ]
      },
      {
       "output_type": "stream",
       "stream": "stdout",
       "text": [
        " /raid1/maye/rdr_out/verification/Ben_2012_2/2010010818_C9_RDR_2.CSV was done.\n",
        "Task 219, time: 193.166193962\n",
        "220 /raid1/maye/rdr_out/verification/Ben_2012_2/2010010819_C9_RDR_2.CSV was done.\n",
        "Task 220, time: 193.166437149\n",
        "221 /raid1/maye/rdr_out/verification/Ben_2012_2/2010020501_C4_RDR_2.CSV was done.\n",
        "Task 221, time: 193.166666985\n",
        "222"
       ]
      },
      {
       "output_type": "stream",
       "stream": "stdout",
       "text": [
        " /raid1/maye/rdr_out/verification/Ben_2012_2/2010020421_C8_RDR_2.CSV was done.\n",
        "Task 222, time: 193.453067064\n",
        "223"
       ]
      },
      {
       "output_type": "stream",
       "stream": "stdout",
       "text": [
        " /raid1/maye/rdr_out/verification/Ben_2012_2/2010020503_C3_RDR_2.CSV was done.\n",
        "Task 223, time: 194.23530817\n",
        "224"
       ]
      },
      {
       "output_type": "stream",
       "stream": "stdout",
       "text": [
        " /raid1/maye/rdr_out/verification/Ben_2012_2/2010020423_C8_RDR_2.CSV was done.\n",
        "Task 224, time: 194.699638128\n",
        "225"
       ]
      },
      {
       "output_type": "stream",
       "stream": "stdout",
       "text": [
        " /raid1/maye/rdr_out/verification/Ben_2012_2/2010030403_C3_RDR_2.CSV was done.\n",
        "Task 225, time: 195.847068071\n",
        "226"
       ]
      },
      {
       "output_type": "stream",
       "stream": "stdout",
       "text": [
        " /raid1/maye/rdr_out/verification/Ben_2012_2/2010030405_C3_RDR_2.CSV was done.\n",
        "Task 226, time: 197.749243975\n",
        "227"
       ]
      },
      {
       "output_type": "stream",
       "stream": "stdout",
       "text": [
        " /raid1/maye/rdr_out/verification/Ben_2012_2/2010020501_C5_RDR_2.CSV was done.\n",
        "Task 227, time: 199.199188948\n",
        "228 /raid1/maye/rdr_out/verification/Ben_2012_2/2010020421_C9_RDR_2.CSV was done.\n",
        "Task 228, time: 199.199399948\n",
        "229"
       ]
      },
      {
       "output_type": "stream",
       "stream": "stdout",
       "text": [
        " /raid1/maye/rdr_out/verification/Ben_2012_2/2010020503_C4_RDR_2.CSV was done.\n",
        "Task 229, time: 199.675058126\n",
        "230"
       ]
      },
      {
       "output_type": "stream",
       "stream": "stdout",
       "text": [
        " /raid1/maye/rdr_out/verification/Ben_2012_2/2010020423_C9_RDR_2.CSV was done.\n",
        "Task 230, time: 200.468954086\n",
        "231 /raid1/maye/rdr_out/verification/Ben_2012_2/2010030407_C3_RDR_2.CSV was done.\n",
        "Task 231, time: 200.46937108\n",
        "232"
       ]
      },
      {
       "output_type": "stream",
       "stream": "stdout",
       "text": [
        " /raid1/maye/rdr_out/verification/Ben_2012_2/2010020502_C3_RDR_2.CSV was done.\n",
        "Task 232, time: 201.488846064\n",
        "233"
       ]
      },
      {
       "output_type": "stream",
       "stream": "stdout",
       "text": [
        " /raid1/maye/rdr_out/verification/Ben_2012_2/2010030403_C4_RDR_2.CSV was done.\n",
        "Task 233, time: 203.065201998\n",
        "234"
       ]
      },
      {
       "output_type": "stream",
       "stream": "stdout",
       "text": [
        " /raid1/maye/rdr_out/verification/Ben_2012_2/2010030405_C4_RDR_2.CSV was done.\n",
        "Task 234, time: 204.036746979\n",
        "235"
       ]
      },
      {
       "output_type": "stream",
       "stream": "stdout",
       "text": [
        " /raid1/maye/rdr_out/verification/Ben_2012_2/2010020503_C5_RDR_2.CSV was done.\n",
        "Task 235, time: 204.23094511\n",
        "236 /raid1/maye/rdr_out/verification/Ben_2012_2/2010030407_C4_RDR_2.CSV was done.\n",
        "Task 236, time: 204.231089115\n",
        "237"
       ]
      },
      {
       "output_type": "stream",
       "stream": "stdout",
       "text": [
        " /raid1/maye/rdr_out/verification/Ben_2012_2/2010020501_C6_RDR_2.CSV was done.\n",
        "Task 237, time: 206.117287159\n",
        "238"
       ]
      },
      {
       "output_type": "stream",
       "stream": "stdout",
       "text": [
        " /raid1/maye/rdr_out/verification/Ben_2012_2/2010030409_C3_RDR_2.CSV was done.\n",
        "Task 238, time: 206.453669071\n",
        "239"
       ]
      },
      {
       "output_type": "stream",
       "stream": "stdout",
       "text": [
        " /raid1/maye/rdr_out/verification/Ben_2012_2/2010033111_C3_RDR_2.CSV was done.\n",
        "Task 239, time: 207.217581987\n",
        "240"
       ]
      },
      {
       "output_type": "stream",
       "stream": "stdout",
       "text": [
        " /raid1/maye/rdr_out/verification/Ben_2012_2/2010020502_C4_RDR_2.CSV was done.\n",
        "Task 240, time: 208.191324949\n",
        "241 /raid1/maye/rdr_out/verification/Ben_2012_2/2010030407_C5_RDR_2.CSV was done.\n",
        "Task 241, time: 208.191467047\n",
        "242"
       ]
      },
      {
       "output_type": "stream",
       "stream": "stdout",
       "text": [
        " /raid1/maye/rdr_out/verification/Ben_2012_2/2010030403_C5_RDR_2.CSV was done.\n",
        "Task 242, time: 210.778397083\n",
        "243"
       ]
      },
      {
       "output_type": "stream",
       "stream": "stdout",
       "text": [
        " /raid1/maye/rdr_out/verification/Ben_2012_2/2010030405_C5_RDR_2.CSV was done.\n",
        "Task 243, time: 211.191585064\n",
        "244"
       ]
      },
      {
       "output_type": "stream",
       "stream": "stdout",
       "text": [
        " /raid1/maye/rdr_out/verification/Ben_2012_2/2010020503_C6_RDR_2.CSV was done.\n",
        "Task 244, time: 211.89913106\n",
        "245"
       ]
      },
      {
       "output_type": "stream",
       "stream": "stdout",
       "text": [
        " /raid1/maye/rdr_out/verification/Ben_2012_2/2010020501_C7_RDR_2.CSV was done.\n",
        "Task 245, time: 212.558727026\n",
        "246 /raid1/maye/rdr_out/verification/Ben_2012_2/2010030407_C6_RDR_2.CSV was done.\n",
        "Task 246, time: 212.559371948\n",
        "247"
       ]
      },
      {
       "output_type": "stream",
       "stream": "stdout",
       "text": [
        " /raid1/maye/rdr_out/verification/Ben_2012_2/2010030409_C4_RDR_2.CSV was done.\n",
        "Task 247, time: 213.664981127\n",
        "248 /raid1/maye/rdr_out/verification/Ben_2012_2/2010033111_C4_RDR_2.CSV was done.\n",
        "Task 248, time: 213.665686131\n",
        "249"
       ]
      },
      {
       "output_type": "stream",
       "stream": "stdout",
       "text": [
        " /raid1/maye/rdr_out/verification/Ben_2012_2/2010020502_C5_RDR_2.CSV was done.\n",
        "Task 249, time: 215.498028994\n",
        "250 /raid1/maye/rdr_out/verification/Ben_2012_2/2010030407_C7_RDR_2.CSV was done.\n",
        "Task 250, time: 215.498775005\n",
        "251"
       ]
      },
      {
       "output_type": "stream",
       "stream": "stdout",
       "text": [
        " /raid1/maye/rdr_out/verification/Ben_2012_2/2010030403_C6_RDR_2.CSV was done.\n",
        "Task 251, time: 217.442209959\n",
        "252 /raid1/maye/rdr_out/verification/Ben_2012_2/2010030405_C6_RDR_2.CSV was done.\n",
        "Task 252, time: 217.442790031\n",
        "253"
       ]
      },
      {
       "output_type": "stream",
       "stream": "stdout",
       "text": [
        " /raid1/maye/rdr_out/verification/Ben_2012_2/2010020503_C7_RDR_2.CSV was done.\n",
        "Task 253, time: 218.363484144\n",
        "254"
       ]
      },
      {
       "output_type": "stream",
       "stream": "stdout",
       "text": [
        " /raid1/maye/rdr_out/verification/Ben_2012_2/2010020501_C8_RDR_2.CSV was done.\n",
        "Task 254, time: 218.844480038\n",
        "255 /raid1/maye/rdr_out/verification/Ben_2012_2/2010030407_C8_RDR_2.CSV was done.\n",
        "Task 255, time: 218.844635963\n",
        "256"
       ]
      },
      {
       "output_type": "stream",
       "stream": "stdout",
       "text": [
        " /raid1/maye/rdr_out/verification/Ben_2012_2/2010030409_C5_RDR_2.CSV was done.\n",
        "Task 256, time: 220.580584049\n",
        "257"
       ]
      },
      {
       "output_type": "stream",
       "stream": "stdout",
       "text": [
        " /raid1/maye/rdr_out/verification/Ben_2012_2/2010033111_C5_RDR_2.CSV was done.\n",
        "Task 257, time: 221.031335115\n",
        "258"
       ]
      },
      {
       "output_type": "stream",
       "stream": "stdout",
       "text": [
        " /raid1/maye/rdr_out/verification/Ben_2012_2/2010020502_C6_RDR_2.CSV was done.\n",
        "Task 258, time: 223.257258177\n",
        "259 /raid1/maye/rdr_out/verification/Ben_2012_2/2010030407_C9_RDR_2.CSV was done.\n",
        "Task 259, time: 223.257912159\n",
        "260"
       ]
      },
      {
       "output_type": "stream",
       "stream": "stdout",
       "text": [
        " /raid1/maye/rdr_out/verification/Ben_2012_2/2010030403_C7_RDR_2.CSV was done.\n",
        "Task 260, time: 223.947234154\n",
        "261"
       ]
      },
      {
       "output_type": "stream",
       "stream": "stdout",
       "text": [
        " /raid1/maye/rdr_out/verification/Ben_2012_2/2010030405_C7_RDR_2.CSV was done.\n",
        "Task 261, time: 224.150763035\n",
        "262"
       ]
      },
      {
       "output_type": "stream",
       "stream": "stdout",
       "text": [
        " /raid1/maye/rdr_out/verification/Ben_2012_2/2010020503_C8_RDR_2.CSV was done.\n",
        "Task 262, time: 225.244445086\n",
        "263"
       ]
      },
      {
       "output_type": "stream",
       "stream": "stdout",
       "text": [
        " /raid1/maye/rdr_out/verification/Ben_2012_2/2010020501_C9_RDR_2.CSV was done.\n",
        "Task 263, time: 225.441176176\n",
        "264"
       ]
      },
      {
       "output_type": "stream",
       "stream": "stdout",
       "text": [
        " /raid1/maye/rdr_out/verification/Ben_2012_2/2010030409_C6_RDR_2.CSV was done.\n",
        "Task 264, time: 226.811722994\n",
        "265"
       ]
      },
      {
       "output_type": "stream",
       "stream": "stdout",
       "text": [
        " /raid1/maye/rdr_out/verification/Ben_2012_2/2010020502_C7_RDR_2.CSV was done.\n",
        "Task 265, time: 227.617078066\n",
        "266 /raid1/maye/rdr_out/verification/Ben_2012_2/2010033111_C6_RDR_2.CSV was done.\n",
        "Task 266, time: 227.617218018\n",
        "267"
       ]
      },
      {
       "output_type": "stream",
       "stream": "stdout",
       "text": [
        " /raid1/maye/rdr_out/verification/Ben_2012_2/2010030403_C8_RDR_2.CSV was done.\n",
        "Task 267, time: 229.975949049\n",
        "268"
       ]
      },
      {
       "output_type": "stream",
       "stream": "stdout",
       "text": [
        " /raid1/maye/rdr_out/verification/Ben_2012_2/2010033113_C3_RDR_2.CSV was done.\n",
        "Task 268, time: 232.023493052\n",
        "269 /raid1/maye/rdr_out/verification/Ben_2012_2/2010030405_C8_RDR_2.CSV was done.\n",
        "Task 269, time: 232.024134159\n",
        "270 /raid1/maye/rdr_out/verification/Ben_2012_2/2010020503_C9_RDR_2.CSV was done.\n",
        "Task 270, time: 232.040207148\n",
        "271 /raid1/maye/rdr_out/verification/Ben_2012_2/2010030409_C7_RDR_2.CSV was done.\n",
        "Task 271, time: 232.040400982\n",
        "272"
       ]
      },
      {
       "output_type": "stream",
       "stream": "stdout",
       "text": [
        " /raid1/maye/rdr_out/verification/Ben_2012_2/2010020502_C8_RDR_2.CSV was done.\n",
        "Task 272, time: 232.791661978\n",
        "273"
       ]
      },
      {
       "output_type": "stream",
       "stream": "stdout",
       "text": [
        " /raid1/maye/rdr_out/verification/Ben_2012_2/2010033115_C3_RDR_2.CSV was done.\n",
        "Task 273, time: 234.159147024\n",
        "274"
       ]
      },
      {
       "output_type": "stream",
       "stream": "stdout",
       "text": [
        " /raid1/maye/rdr_out/verification/Ben_2012_2/2010033111_C7_RDR_2.CSV was done.\n",
        "Task 274, time: 234.572105169\n",
        "275"
       ]
      },
      {
       "output_type": "stream",
       "stream": "stdout",
       "text": [
        " /raid1/maye/rdr_out/verification/Ben_2012_2/2010030403_C9_RDR_2.CSV was done.\n",
        "Task 275, time: 236.408015013\n",
        "276"
       ]
      },
      {
       "output_type": "stream",
       "stream": "stdout",
       "text": [
        " /raid1/maye/rdr_out/verification/Ben_2012_2/2010033113_C4_RDR_2.CSV was done.\n",
        "Task 276, time: 238.364156008\n",
        "277"
       ]
      },
      {
       "output_type": "stream",
       "stream": "stdout",
       "text": [
        " /raid1/maye/rdr_out/verification/Ben_2012_2/2010030405_C9_RDR_2.CSV was done.\n",
        "Task 277, time: 238.464002132\n",
        "278"
       ]
      },
      {
       "output_type": "stream",
       "stream": "stdout",
       "text": [
        " /raid1/maye/rdr_out/verification/Ben_2012_2/2010030409_C8_RDR_2.CSV was done.\n",
        "Task 278, time: 239.136140108\n",
        "279"
       ]
      },
      {
       "output_type": "stream",
       "stream": "stdout",
       "text": [
        " /raid1/maye/rdr_out/verification/Ben_2012_2/2010033117_C3_RDR_2.CSV was done.\n",
        "Task 279, time: 239.345824957\n",
        "280 /raid1/maye/rdr_out/verification/Ben_2012_2/2010020502_C9_RDR_2.CSV was done.\n",
        "Task 280, time: 239.346235991\n",
        "281"
       ]
      },
      {
       "output_type": "stream",
       "stream": "stdout",
       "text": [
        " /raid1/maye/rdr_out/verification/Ben_2012_2/2010033115_C4_RDR_2.CSV was done.\n",
        "Task 281, time: 240.386932135\n",
        "282"
       ]
      },
      {
       "output_type": "stream",
       "stream": "stdout",
       "text": [
        " /raid1/maye/rdr_out/verification/Ben_2012_2/2010033111_C8_RDR_2.CSV was done.\n",
        "Task 282, time: 241.922887087\n",
        "283"
       ]
      },
      {
       "output_type": "stream",
       "stream": "stdout",
       "text": [
        " /raid1/maye/rdr_out/verification/Ben_2012_2/2010033113_C5_RDR_2.CSV was done.\n",
        "Task 283, time: 242.727599144\n",
        "284"
       ]
      },
      {
       "output_type": "stream",
       "stream": "stdout",
       "text": [
        " /raid1/maye/rdr_out/verification/Ben_2012_2/2010042719_C3_RDR_2.CSV was done.\n",
        "Task 284, time: 245.191393137\n",
        "285"
       ]
      },
      {
       "output_type": "stream",
       "stream": "stdout",
       "text": [
        " /raid1/maye/rdr_out/verification/Ben_2012_2/2010042721_C3_RDR_2.CSV was done.\n",
        "Task 285, time: 245.905040979\n",
        "286 /raid1/maye/rdr_out/verification/Ben_2012_2/2010033117_C4_RDR_2.CSV was done.\n",
        "Task 286, time: 245.905179977\n",
        "287"
       ]
      },
      {
       "output_type": "stream",
       "stream": "stdout",
       "text": [
        " /raid1/maye/rdr_out/verification/Ben_2012_2/2010030409_C9_RDR_2.CSV was done.\n",
        "Task 287, time: 246.21816206\n",
        "288"
       ]
      },
      {
       "output_type": "stream",
       "stream": "stdout",
       "text": [
        " /raid1/maye/rdr_out/verification/Ben_2012_2/2010033115_C5_RDR_2.CSV was done.\n",
        "Task 288, time: 246.506617069\n",
        "289"
       ]
      },
      {
       "output_type": "stream",
       "stream": "stdout",
       "text": [
        " /raid1/maye/rdr_out/verification/Ben_2012_2/2010033111_C9_RDR_2.CSV was done.\n",
        "Task 289, time: 247.32396698\n",
        "290"
       ]
      },
      {
       "output_type": "stream",
       "stream": "stdout",
       "text": [
        " /raid1/maye/rdr_out/verification/Ben_2012_2/2010033113_C6_RDR_2.CSV was done.\n",
        "Task 290, time: 248.669159174\n",
        "291"
       ]
      },
      {
       "output_type": "stream",
       "stream": "stdout",
       "text": [
        " /raid1/maye/rdr_out/verification/Ben_2012_2/2010042719_C4_RDR_2.CSV was done.\n",
        "Task 291, time: 249.676594973\n",
        "292"
       ]
      },
      {
       "output_type": "stream",
       "stream": "stdout",
       "text": [
        " /raid1/maye/rdr_out/verification/Ben_2012_2/2010033117_C5_RDR_2.CSV was done.\n",
        "Task 292, time: 251.297747135\n",
        "293"
       ]
      },
      {
       "output_type": "stream",
       "stream": "stdout",
       "text": [
        " /raid1/maye/rdr_out/verification/Ben_2012_2/2010042721_C4_RDR_2.CSV was done.\n",
        "Task 293, time: 252.372575045\n",
        "294 /raid1/maye/rdr_out/verification/Ben_2012_2/2010033115_C6_RDR_2.CSV was done.\n",
        "Task 294, time: 252.372770071\n",
        "295"
       ]
      },
      {
       "output_type": "stream",
       "stream": "stdout",
       "text": [
        " /raid1/maye/rdr_out/verification/Ben_2012_2/2010042801_C3_RDR_2.CSV was done.\n",
        "Task 295, time: 252.501315117\n",
        "296"
       ]
      },
      {
       "output_type": "stream",
       "stream": "stdout",
       "text": [
        " /raid1/maye/rdr_out/verification/Ben_2012_2/2010033113_C7_RDR_2.CSV was done.\n",
        "Task 296, time: 253.159034014\n",
        "297"
       ]
      },
      {
       "output_type": "stream",
       "stream": "stdout",
       "text": [
        " /raid1/maye/rdr_out/verification/Ben_2012_2/2010052501_C3_RDR_2.CSV was done.\n",
        "Task 297, time: 253.928806067\n",
        "298"
       ]
      },
      {
       "output_type": "stream",
       "stream": "stdout",
       "text": [
        " /raid1/maye/rdr_out/verification/Ben_2012_2/2010042719_C5_RDR_2.CSV was done.\n",
        "Task 298, time: 255.173913002\n",
        "299"
       ]
      },
      {
       "output_type": "stream",
       "stream": "stdout",
       "text": [
        " /raid1/maye/rdr_out/verification/Ben_2012_2/2010033117_C6_RDR_2.CSV was done.\n",
        "Task 299, time: 256.984348059\n",
        "300"
       ]
      },
      {
       "output_type": "stream",
       "stream": "stdout",
       "text": [
        " /raid1/maye/rdr_out/verification/Ben_2012_2/2010042721_C5_RDR_2.CSV was done.\n",
        "Task 300, time: 257.767045975\n",
        "301"
       ]
      },
      {
       "output_type": "stream",
       "stream": "stdout",
       "text": [
        " /raid1/maye/rdr_out/verification/Ben_2012_2/2010042723_C3_RDR_2.CSV was done.\n",
        "Task 301, time: 258.4495821\n",
        "302"
       ]
      },
      {
       "output_type": "stream",
       "stream": "stdout",
       "text": [
        " /raid1/maye/rdr_out/verification/Ben_2012_2/2010042801_C4_RDR_2.CSV was done.\n",
        "Task 302, time: 259.818336964\n",
        "303 /raid1/maye/rdr_out/verification/Ben_2012_2/2010033115_C7_RDR_2.CSV was done.\n",
        "Task 303, time: 259.818840981\n",
        "304 /raid1/maye/rdr_out/verification/Ben_2012_2/2010033113_C8_RDR_2.CSV was done.\n",
        "Task 304, time: 259.818964005\n",
        "305"
       ]
      },
      {
       "output_type": "stream",
       "stream": "stdout",
       "text": [
        " /raid1/maye/rdr_out/verification/Ben_2012_2/2010052501_C4_RDR_2.CSV was done.\n",
        "Task 305, time: 260.99747014\n",
        "306"
       ]
      },
      {
       "output_type": "stream",
       "stream": "stdout",
       "text": [
        " /raid1/maye/rdr_out/verification/Ben_2012_2/2010042719_C6_RDR_2.CSV was done.\n",
        "Task 306, time: 263.058915138\n",
        "307"
       ]
      },
      {
       "output_type": "stream",
       "stream": "stdout",
       "text": [
        " /raid1/maye/rdr_out/verification/Ben_2012_2/2010033117_C7_RDR_2.CSV was done.\n",
        "Task 307, time: 264.543287039\n",
        "308"
       ]
      },
      {
       "output_type": "stream",
       "stream": "stdout",
       "text": [
        " /raid1/maye/rdr_out/verification/Ben_2012_2/2010042721_C6_RDR_2.CSV was done.\n",
        "Task 308, time: 264.767563105\n",
        "309"
       ]
      },
      {
       "output_type": "stream",
       "stream": "stdout",
       "text": [
        " /raid1/maye/rdr_out/verification/Ben_2012_2/2010042723_C4_RDR_2.CSV was done.\n",
        "Task 309, time: 265.682731152\n",
        "310"
       ]
      },
      {
       "output_type": "stream",
       "stream": "stdout",
       "text": [
        " /raid1/maye/rdr_out/verification/Ben_2012_2/2010042801_C5_RDR_2.CSV was done.\n",
        "Task 310, time: 266.58228898\n",
        "311 /raid1/maye/rdr_out/verification/Ben_2012_2/2010033115_C8_RDR_2.CSV was done.\n",
        "Task 311, time: 266.582709074\n",
        "312"
       ]
      },
      {
       "output_type": "stream",
       "stream": "stdout",
       "text": [
        " /raid1/maye/rdr_out/verification/Ben_2012_2/2010033113_C9_RDR_2.CSV was done.\n",
        "Task 312, time: 266.927083015\n",
        "313"
       ]
      },
      {
       "output_type": "stream",
       "stream": "stdout",
       "text": [
        " /raid1/maye/rdr_out/verification/Ben_2012_2/2010052501_C5_RDR_2.CSV was done.\n",
        "Task 313, time: 268.571592093\n",
        "314"
       ]
      },
      {
       "output_type": "stream",
       "stream": "stdout",
       "text": [
        " /raid1/maye/rdr_out/verification/Ben_2012_2/2010042719_C7_RDR_2.CSV was done.\n",
        "Task 314, time: 269.990863085\n",
        "315"
       ]
      },
      {
       "output_type": "stream",
       "stream": "stdout",
       "text": [
        " /raid1/maye/rdr_out/verification/Ben_2012_2/2010033117_C8_RDR_2.CSV was done.\n",
        "Task 315, time: 271.089574099\n",
        "316"
       ]
      },
      {
       "output_type": "stream",
       "stream": "stdout",
       "text": [
        " /raid1/maye/rdr_out/verification/Ben_2012_2/2010042723_C5_RDR_2.CSV was done.\n",
        "Task 316, time: 271.81381011\n",
        "317 /raid1/maye/rdr_out/verification/Ben_2012_2/2010042721_C7_RDR_2.CSV was done.\n",
        "Task 317, time: 271.814227104\n",
        "318"
       ]
      },
      {
       "output_type": "stream",
       "stream": "stdout",
       "text": [
        " /raid1/maye/rdr_out/verification/Ben_2012_2/2010042801_C6_RDR_2.CSV was done.\n",
        "Task 318, time: 273.326545\n",
        "319"
       ]
      },
      {
       "output_type": "stream",
       "stream": "stdout",
       "text": [
        " /raid1/maye/rdr_out/verification/Ben_2012_2/2010033115_C9_RDR_2.CSV was done.\n",
        "Task 319, time: 273.976438999\n",
        "320 /raid1/maye/rdr_out/verification/Ben_2012_2/2010052501_C6_RDR_2.CSV was done.\n",
        "Task 320, time: 273.977229118\n",
        "321"
       ]
      },
      {
       "output_type": "stream",
       "stream": "stdout",
       "text": [
        " /raid1/maye/rdr_out/verification/Ben_2012_2/2010042719_C8_RDR_2.CSV was done.\n",
        "Task 321, time: 275.590882063\n",
        "322"
       ]
      },
      {
       "output_type": "stream",
       "stream": "stdout",
       "text": [
        " /raid1/maye/rdr_out/verification/Ben_2012_2/2010052503_C3_RDR_2.CSV was done.\n",
        "Task 322, time: 276.883584976\n",
        "323"
       ]
      },
      {
       "output_type": "stream",
       "stream": "stdout",
       "text": [
        " /raid1/maye/rdr_out/verification/Ben_2012_2/2010033117_C9_RDR_2.CSV was done.\n",
        "Task 323, time: 277.581302166\n",
        "324"
       ]
      },
      {
       "output_type": "stream",
       "stream": "stdout",
       "text": [
        " /raid1/maye/rdr_out/verification/Ben_2012_2/2010042721_C8_RDR_2.CSV was done.\n",
        "Task 324, time: 278.022490978\n",
        "325"
       ]
      },
      {
       "output_type": "stream",
       "stream": "stdout",
       "text": [
        " /raid1/maye/rdr_out/verification/Ben_2012_2/2010042723_C6_RDR_2.CSV was done.\n",
        "Task 325, time: 278.559345007\n",
        "326"
       ]
      },
      {
       "output_type": "stream",
       "stream": "stdout",
       "text": [
        " /raid1/maye/rdr_out/verification/Ben_2012_2/2010042801_C7_RDR_2.CSV was done.\n",
        "Task 326, time: 280.242686033\n",
        "327 /raid1/maye/rdr_out/verification/Ben_2012_2/2010052505_C3_RDR_2.CSV was done.\n",
        "Task 327, time: 280.242830038\n",
        "328 /raid1/maye/rdr_out/verification/Ben_2012_2/2010052501_C7_RDR_2.CSV was done.\n",
        "Task 328, time: 280.242949009\n",
        "329"
       ]
      },
      {
       "output_type": "stream",
       "stream": "stdout",
       "text": [
        " /raid1/maye/rdr_out/verification/Ben_2012_2/2010042719_C9_RDR_2.CSV was done.\n",
        "Task 329, time: 282.435309172\n",
        "330"
       ]
      },
      {
       "output_type": "stream",
       "stream": "stdout",
       "text": [
        " /raid1/maye/rdr_out/verification/Ben_2012_2/2010052503_C4_RDR_2.CSV was done.\n",
        "Task 330, time: 283.422420979\n",
        "331"
       ]
      },
      {
       "output_type": "stream",
       "stream": "stdout",
       "text": [
        " /raid1/maye/rdr_out/verification/Ben_2012_2/2010042721_C9_RDR_2.CSV was done.\n",
        "Task 331, time: 283.559050083\n",
        "332"
       ]
      },
      {
       "output_type": "stream",
       "stream": "stdout",
       "text": [
        " /raid1/maye/rdr_out/verification/Ben_2012_2/2010042723_C7_RDR_2.CSV was done.\n",
        "Task 332, time: 283.92478013\n",
        "333"
       ]
      },
      {
       "output_type": "stream",
       "stream": "stdout",
       "text": [
        " /raid1/maye/rdr_out/verification/Ben_2012_2/2010052507_C3_RDR_2.CSV was done.\n",
        "Task 333, time: 284.922718048\n",
        "334"
       ]
      },
      {
       "output_type": "stream",
       "stream": "stdout",
       "text": [
        " /raid1/maye/rdr_out/verification/Ben_2012_2/2010042801_C8_RDR_2.CSV was done.\n",
        "Task 334, time: 286.052639008\n",
        "335"
       ]
      },
      {
       "output_type": "stream",
       "stream": "stdout",
       "text": [
        " /raid1/maye/rdr_out/verification/Ben_2012_2/2010052505_C4_RDR_2.CSV was done.\n",
        "Task 335, time: 286.713428974\n",
        "336"
       ]
      },
      {
       "output_type": "stream",
       "stream": "stdout",
       "text": [
        " /raid1/maye/rdr_out/verification/Ben_2012_2/2010052501_C8_RDR_2.CSV was done.\n",
        "Task 336, time: 286.900865078\n",
        "337"
       ]
      },
      {
       "output_type": "stream",
       "stream": "stdout",
       "text": [
        " /raid1/maye/rdr_out/verification/Ben_2012_2/2010052503_C5_RDR_2.CSV was done.\n",
        "Task 337, time: 289.017352104\n",
        "338"
       ]
      },
      {
       "output_type": "stream",
       "stream": "stdout",
       "text": [
        " /raid1/maye/rdr_out/verification/Ben_2012_2/2010062109_C3_RDR_2.CSV was done.\n",
        "Task 338, time: 290.853259087\n",
        "339 /raid1/maye/rdr_out/verification/Ben_2012_2/2010042723_C8_RDR_2.CSV was done.\n",
        "Task 339, time: 290.854005098\n",
        "340 /raid1/maye/rdr_out/verification/Ben_2012_2/2010052507_C4_RDR_2.CSV was done.\n",
        "Task 340, time: 290.854199171\n",
        "341"
       ]
      },
      {
       "output_type": "stream",
       "stream": "stdout",
       "text": [
        " /raid1/maye/rdr_out/verification/Ben_2012_2/2010042801_C9_RDR_2.CSV was done.\n",
        "Task 341, time: 292.315798044\n",
        "342"
       ]
      },
      {
       "output_type": "stream",
       "stream": "stdout",
       "text": [
        " /raid1/maye/rdr_out/verification/Ben_2012_2/2010062111_C3_RDR_2.CSV was done.\n",
        "Task 342, time: 292.648265123\n",
        "343"
       ]
      },
      {
       "output_type": "stream",
       "stream": "stdout",
       "text": [
        " /raid1/maye/rdr_out/verification/Ben_2012_2/2010052505_C5_RDR_2.CSV was done.\n",
        "Task 343, time: 293.44001317\n",
        "344 /raid1/maye/rdr_out/verification/Ben_2012_2/2010052501_C9_RDR_2.CSV was done.\n",
        "Task 344, time: 293.440155029\n",
        "345"
       ]
      },
      {
       "output_type": "stream",
       "stream": "stdout",
       "text": [
        " /raid1/maye/rdr_out/verification/Ben_2012_2/2010052503_C6_RDR_2.CSV was done.\n",
        "Task 345, time: 295.897714138\n",
        "346 /raid1/maye/rdr_out/verification/Ben_2012_2/2010062109_C4_RDR_2.CSV was done.\n",
        "Task 346, time: 295.897855043\n",
        "347"
       ]
      },
      {
       "output_type": "stream",
       "stream": "stdout",
       "text": [
        " /raid1/maye/rdr_out/verification/Ben_2012_2/2010042723_C9_RDR_2.CSV was done.\n",
        "Task 347, time: 298.005807161\n",
        "348 /raid1/maye/rdr_out/verification/Ben_2012_2/2010052507_C5_RDR_2.CSV was done.\n",
        "Task 348, time: 298.006382942\n",
        "349"
       ]
      },
      {
       "output_type": "stream",
       "stream": "stdout",
       "text": [
        " /raid1/maye/rdr_out/verification/Ben_2012_2/2010062111_C4_RDR_2.CSV was done.\n",
        "Task 349, time: 299.235211134\n",
        "350 /raid1/maye/rdr_out/verification/Ben_2012_2/2010052505_C6_RDR_2.CSV was done.\n",
        "Task 350, time: 299.235900164\n",
        "351 /raid1/maye/rdr_out/verification/Ben_2012_2/2010062113_C3_RDR_2.CSV was done.\n",
        "Task 351, time: 299.237947941\n",
        "352 /raid1/maye/rdr_out/verification/Ben_2012_2/2010052503_C7_RDR_2.CSV was done.\n",
        "Task 352, time: 299.23806715\n",
        "353"
       ]
      },
      {
       "output_type": "stream",
       "stream": "stdout",
       "text": [
        " /raid1/maye/rdr_out/verification/Ben_2012_2/2010062109_C5_RDR_2.CSV was done.\n",
        "Task 353, time: 302.243803024\n",
        "354"
       ]
      },
      {
       "output_type": "stream",
       "stream": "stdout",
       "text": [
        " /raid1/maye/rdr_out/verification/Ben_2012_2/2010062115_C3_RDR_2.CSV was done.\n",
        "Task 354, time: 302.779304981\n",
        "355"
       ]
      },
      {
       "output_type": "stream",
       "stream": "stdout",
       "text": [
        " /raid1/maye/rdr_out/verification/Ben_2012_2/2010052507_C6_RDR_2.CSV was done.\n",
        "Task 355, time: 304.586236954\n",
        "356"
       ]
      },
      {
       "output_type": "stream",
       "stream": "stdout",
       "text": [
        " /raid1/maye/rdr_out/verification/Ben_2012_2/2010062111_C5_RDR_2.CSV was done.\n",
        "Task 356, time: 305.176355124\n",
        "357 /raid1/maye/rdr_out/verification/Ben_2012_2/2010070500_C3_RDR_2.CSV was done.\n",
        "Task 357, time: 305.199568987\n",
        "358"
       ]
      },
      {
       "output_type": "stream",
       "stream": "stdout",
       "text": [
        " /raid1/maye/rdr_out/verification/Ben_2012_2/2010052505_C7_RDR_2.CSV was done.\n",
        "Task 358, time: 307.000360966\n",
        "359 /raid1/maye/rdr_out/verification/Ben_2012_2/2010062113_C4_RDR_2.CSV was done.\n",
        "Task 359, time: 307.000951052\n",
        "360 /raid1/maye/rdr_out/verification/Ben_2012_2/2010062109_C6_RDR_2.CSV was done.\n",
        "Task 360, time: 307.001073122\n",
        "361"
       ]
      },
      {
       "output_type": "stream",
       "stream": "stdout",
       "text": [
        " /raid1/maye/rdr_out/verification/Ben_2012_2/2010052503_C8_RDR_2.CSV was done.\n",
        "Task 361, time: 309.434072971\n",
        "362"
       ]
      },
      {
       "output_type": "stream",
       "stream": "stdout",
       "text": [
        " /raid1/maye/rdr_out/verification/Ben_2012_2/2010062115_C4_RDR_2.CSV was done.\n",
        "Task 362, time: 310.418164968\n",
        "363"
       ]
      },
      {
       "output_type": "stream",
       "stream": "stdout",
       "text": [
        " /raid1/maye/rdr_out/verification/Ben_2012_2/2010052507_C7_RDR_2.CSV was done.\n",
        "Task 363, time: 311.542032957\n",
        "364"
       ]
      },
      {
       "output_type": "stream",
       "stream": "stdout",
       "text": [
        " /raid1/maye/rdr_out/verification/Ben_2012_2/2010062111_C6_RDR_2.CSV was done.\n",
        "Task 364, time: 312.240154028\n",
        "365 /raid1/maye/rdr_out/verification/Ben_2012_2/2010070500_C4_RDR_2.CSV was done.\n",
        "Task 365, time: 312.240591049\n",
        "366 /raid1/maye/rdr_out/verification/Ben_2012_2/2010062113_C5_RDR_2.CSV was done.\n",
        "Task 366, time: 312.240715027\n",
        "367"
       ]
      },
      {
       "output_type": "stream",
       "stream": "stdout",
       "text": [
        " /raid1/maye/rdr_out/verification/Ben_2012_2/2010052505_C8_RDR_2.CSV was done.\n",
        "Task 367, time: 314.145365\n",
        "368"
       ]
      },
      {
       "output_type": "stream",
       "stream": "stdout",
       "text": [
        " /raid1/maye/rdr_out/verification/Ben_2012_2/2010062109_C7_RDR_2.CSV was done.\n",
        "Task 368, time: 314.411363125\n",
        "369"
       ]
      },
      {
       "output_type": "stream",
       "stream": "stdout",
       "text": [
        " /raid1/maye/rdr_out/verification/Ben_2012_2/2010062115_C5_RDR_2.CSV was done.\n",
        "Task 369, time: 315.443551064\n",
        "370"
       ]
      },
      {
       "output_type": "stream",
       "stream": "stdout",
       "text": [
        " /raid1/maye/rdr_out/verification/Ben_2012_2/2010052503_C9_RDR_2.CSV was done.\n",
        "Task 370, time: 316.918817043\n",
        "371"
       ]
      },
      {
       "output_type": "stream",
       "stream": "stdout",
       "text": [
        " /raid1/maye/rdr_out/verification/Ben_2012_2/2010052507_C8_RDR_2.CSV was done.\n",
        "Task 371, time: 317.606038094\n",
        "372"
       ]
      },
      {
       "output_type": "stream",
       "stream": "stdout",
       "text": [
        " /raid1/maye/rdr_out/verification/Ben_2012_2/2010062111_C7_RDR_2.CSV was done.\n",
        "Task 372, time: 318.127482176\n",
        "373"
       ]
      },
      {
       "output_type": "stream",
       "stream": "stdout",
       "text": [
        " /raid1/maye/rdr_out/verification/Ben_2012_2/2010070500_C5_RDR_2.CSV was done.\n",
        "Task 373, time: 318.939331055\n",
        "374 /raid1/maye/rdr_out/verification/Ben_2012_2/2010062113_C6_RDR_2.CSV was done.\n",
        "Task 374, time: 318.939476013\n",
        "375"
       ]
      },
      {
       "output_type": "stream",
       "stream": "stdout",
       "text": [
        " /raid1/maye/rdr_out/verification/Ben_2012_2/2010052505_C9_RDR_2.CSV was done.\n",
        "Task 375, time: 321.454095125\n",
        "376 /raid1/maye/rdr_out/verification/Ben_2012_2/2010062109_C8_RDR_2.CSV was done.\n",
        "Task 376, time: 321.454300165\n",
        "377 /raid1/maye/rdr_out/verification/Ben_2012_2/2010062115_C6_RDR_2.CSV was done.\n",
        "Task 377, time: 321.454935074\n",
        "378"
       ]
      },
      {
       "output_type": "stream",
       "stream": "stdout",
       "text": [
        " /raid1/maye/rdr_out/verification/Ben_2012_2/2010052507_C9_RDR_2.CSV was done.\n",
        "Task 378, time: 324.887371063\n",
        "379 /raid1/maye/rdr_out/verification/Ben_2012_2/2010070502_C3_RDR_2.CSV was done.\n",
        "Task 379, time: 324.887582064\n",
        "380 /raid1/maye/rdr_out/verification/Ben_2012_2/2010062111_C8_RDR_2.CSV was done.\n",
        "Task 380, time: 324.88777709\n",
        "381"
       ]
      },
      {
       "output_type": "stream",
       "stream": "stdout",
       "text": [
        " /raid1/maye/rdr_out/verification/Ben_2012_2/2010070500_C6_RDR_2.CSV was done.\n",
        "Task 381, time: 325.767189026\n",
        "382 /raid1/maye/rdr_out/verification/Ben_2012_2/2010062113_C7_RDR_2.CSV was done.\n",
        "Task 382, time: 325.767359972\n",
        "383"
       ]
      },
      {
       "output_type": "stream",
       "stream": "stdout",
       "text": [
        " /raid1/maye/rdr_out/verification/Ben_2012_2/2010062109_C9_RDR_2.CSV was done.\n",
        "Task 383, time: 327.821676016\n",
        "384 /raid1/maye/rdr_out/verification/Ben_2012_2/2010070504_C3_RDR_2.CSV was done.\n",
        "Task 384, time: 327.822252035\n",
        "385"
       ]
      },
      {
       "output_type": "stream",
       "stream": "stdout",
       "text": [
        " /raid1/maye/rdr_out/verification/Ben_2012_2/2010062115_C7_RDR_2.CSV was done.\n",
        "Task 385, time: 328.122400045\n",
        "386"
       ]
      },
      {
       "output_type": "stream",
       "stream": "stdout",
       "text": [
        " /raid1/maye/rdr_out/verification/Ben_2012_2/2010070502_C4_RDR_2.CSV was done.\n",
        "Task 386, time: 329.630171061\n",
        "387"
       ]
      },
      {
       "output_type": "stream",
       "stream": "stdout",
       "text": [
        " /raid1/maye/rdr_out/verification/Ben_2012_2/2010070506_C3_RDR_2.CSV was done.\n",
        "Task 387, time: 331.089585066\n",
        "388 /raid1/maye/rdr_out/verification/Ben_2012_2/2010062111_C9_RDR_2.CSV was done.\n",
        "Task 388, time: 331.090193033\n",
        "389 /raid1/maye/rdr_out/verification/Ben_2012_2/2010070500_C7_RDR_2.CSV was done.\n",
        "Task 389, time: 331.090317965\n",
        "390"
       ]
      },
      {
       "output_type": "stream",
       "stream": "stdout",
       "text": [
        " /raid1/maye/rdr_out/verification/Ben_2012_2/2010062113_C8_RDR_2.CSV was done.\n",
        "Task 390, time: 331.857579947\n",
        "391"
       ]
      },
      {
       "output_type": "stream",
       "stream": "stdout",
       "text": [
        " /raid1/maye/rdr_out/verification/Ben_2012_2/2010070504_C4_RDR_2.CSV was done.\n",
        "Task 391, time: 333.880748034\n",
        "392"
       ]
      },
      {
       "output_type": "stream",
       "stream": "stdout",
       "text": [
        " /raid1/maye/rdr_out/verification/Ben_2012_2/2010062115_C8_RDR_2.CSV was done.\n",
        "Task 392, time: 334.330772161\n",
        "393 /raid1/maye/rdr_out/verification/Ben_2012_2/2010080108_C3_RDR_2.CSV was done.\n",
        "Task 393, time: 334.331386089\n",
        "394"
       ]
      },
      {
       "output_type": "stream",
       "stream": "stdout",
       "text": [
        " /raid1/maye/rdr_out/verification/Ben_2012_2/2010070502_C5_RDR_2.CSV was done.\n",
        "Task 394, time: 335.761548042\n",
        "395"
       ]
      },
      {
       "output_type": "stream",
       "stream": "stdout",
       "text": [
        " /raid1/maye/rdr_out/verification/Ben_2012_2/2010070506_C4_RDR_2.CSV was done.\n",
        "Task 395, time: 337.586967945\n",
        "396 /raid1/maye/rdr_out/verification/Ben_2012_2/2010062113_C9_RDR_2.CSV was done.\n",
        "Task 396, time: 337.587553978\n",
        "397"
       ]
      },
      {
       "output_type": "stream",
       "stream": "stdout",
       "text": [
        " /raid1/maye/rdr_out/verification/Ben_2012_2/2010080110_C3_RDR_2.CSV was done.\n",
        "Task 397, time: 338.2140131\n",
        "398 /raid1/maye/rdr_out/verification/Ben_2012_2/2010070500_C8_RDR_2.CSV was done.\n",
        "Task 398, time: 338.214636087\n",
        "399"
       ]
      },
      {
       "output_type": "stream",
       "stream": "stdout",
       "text": [
        " /raid1/maye/rdr_out/verification/Ben_2012_2/2010070504_C5_RDR_2.CSV was done.\n",
        "Task 399, time: 339.604437113\n",
        "400"
       ]
      },
      {
       "output_type": "stream",
       "stream": "stdout",
       "text": [
        " /raid1/maye/rdr_out/verification/Ben_2012_2/2010062115_C9_RDR_2.CSV was done.\n",
        "Task 400, time: 339.858036041\n",
        "401"
       ]
      },
      {
       "output_type": "stream",
       "stream": "stdout",
       "text": [
        " /raid1/maye/rdr_out/verification/Ben_2012_2/2010080108_C4_RDR_2.CSV was done.\n",
        "Task 401, time: 340.981701136\n",
        "402"
       ]
      },
      {
       "output_type": "stream",
       "stream": "stdout",
       "text": [
        " /raid1/maye/rdr_out/verification/Ben_2012_2/2010070502_C6_RDR_2.CSV was done.\n",
        "Task 402, time: 342.734439135\n",
        "403"
       ]
      },
      {
       "output_type": "stream",
       "stream": "stdout",
       "text": [
        " /raid1/maye/rdr_out/verification/Ben_2012_2/2010070506_C5_RDR_2.CSV was done.\n",
        "Task 403, time: 344.492784023\n",
        "404 /raid1/maye/rdr_out/verification/Ben_2012_2/2010080110_C4_RDR_2.CSV was done.\n",
        "Task 404, time: 344.493481159\n",
        "405 /raid1/maye/rdr_out/verification/Ben_2012_2/2010070500_C9_RDR_2.CSV was done.\n",
        "Task 405, time: 344.493678093\n",
        "406"
       ]
      },
      {
       "output_type": "stream",
       "stream": "stdout",
       "text": [
        " /raid1/maye/rdr_out/verification/Ben_2012_2/2010080112_C3_RDR_2.CSV was done.\n",
        "Task 406, time: 344.718121052\n",
        "407"
       ]
      },
      {
       "output_type": "stream",
       "stream": "stdout",
       "text": [
        " /raid1/maye/rdr_out/verification/Ben_2012_2/2010070504_C6_RDR_2.CSV was done.\n",
        "Task 407, time: 345.698060989\n",
        "408"
       ]
      },
      {
       "output_type": "stream",
       "stream": "stdout",
       "text": [
        " /raid1/maye/rdr_out/verification/Ben_2012_2/2010080114_C3_RDR_2.CSV was done.\n",
        "Task 408, time: 346.777549028\n",
        "409"
       ]
      },
      {
       "output_type": "stream",
       "stream": "stdout",
       "text": [
        " /raid1/maye/rdr_out/verification/Ben_2012_2/2010080108_C5_RDR_2.CSV was done.\n",
        "Task 409, time: 347.5613451\n",
        "410"
       ]
      },
      {
       "output_type": "stream",
       "stream": "stdout",
       "text": [
        " /raid1/maye/rdr_out/verification/Ben_2012_2/2010070502_C7_RDR_2.CSV was done.\n",
        "Task 410, time: 349.280380011\n",
        "411"
       ]
      },
      {
       "output_type": "stream",
       "stream": "stdout",
       "text": [
        " /raid1/maye/rdr_out/verification/Ben_2012_2/2010070506_C6_RDR_2.CSV was done.\n",
        "Task 411, time: 350.474699974\n",
        "412"
       ]
      },
      {
       "output_type": "stream",
       "stream": "stdout",
       "text": [
        " /raid1/maye/rdr_out/verification/Ben_2012_2/2010080110_C5_RDR_2.CSV was done.\n",
        "Task 412, time: 350.633646965\n",
        "413"
       ]
      },
      {
       "output_type": "stream",
       "stream": "stdout",
       "text": [
        " /raid1/maye/rdr_out/verification/Ben_2012_2/2010080112_C4_RDR_2.CSV was done.\n",
        "Task 413, time: 351.632584095\n",
        "414"
       ]
      },
      {
       "output_type": "stream",
       "stream": "stdout",
       "text": [
        " /raid1/maye/rdr_out/verification/Ben_2012_2/2010082814_C3_RDR_2.CSV was done.\n",
        "Task 414, time: 352.219324112\n",
        "415"
       ]
      },
      {
       "output_type": "stream",
       "stream": "stdout",
       "text": [
        " /raid1/maye/rdr_out/verification/Ben_2012_2/2010070504_C7_RDR_2.CSV was done.\n",
        "Task 415, time: 352.882343054\n",
        "416"
       ]
      },
      {
       "output_type": "stream",
       "stream": "stdout",
       "text": [
        " /raid1/maye/rdr_out/verification/Ben_2012_2/2010080114_C4_RDR_2.CSV was done.\n",
        "Task 416, time: 353.932455063\n",
        "417"
       ]
      },
      {
       "output_type": "stream",
       "stream": "stdout",
       "text": [
        " /raid1/maye/rdr_out/verification/Ben_2012_2/2010080108_C6_RDR_2.CSV was done.\n",
        "Task 417, time: 354.127983093\n",
        "418"
       ]
      },
      {
       "output_type": "stream",
       "stream": "stdout",
       "text": [
        " /raid1/maye/rdr_out/verification/Ben_2012_2/2010070502_C8_RDR_2.CSV was done.\n",
        "Task 418, time: 355.62057209\n",
        "419"
       ]
      },
      {
       "output_type": "stream",
       "stream": "stdout",
       "text": [
        " /raid1/maye/rdr_out/verification/Ben_2012_2/2010070506_C7_RDR_2.CSV was done.\n",
        "Task 419, time: 356.795499086\n",
        "420"
       ]
      },
      {
       "output_type": "stream",
       "stream": "stdout",
       "text": [
        " /raid1/maye/rdr_out/verification/Ben_2012_2/2010080110_C6_RDR_2.CSV was done.\n",
        "Task 420, time: 357.264271021\n",
        "421"
       ]
      },
      {
       "output_type": "stream",
       "stream": "stdout",
       "text": [
        " /raid1/maye/rdr_out/verification/Ben_2012_2/2010080112_C5_RDR_2.CSV was done.\n",
        "Task 421, time: 359.290246964\n",
        "422 /raid1/maye/rdr_out/verification/Ben_2012_2/2010082814_C4_RDR_2.CSV was done.\n",
        "Task 422, time: 359.290863991\n",
        "423"
       ]
      },
      {
       "output_type": "stream",
       "stream": "stdout",
       "text": [
        " /raid1/maye/rdr_out/verification/Ben_2012_2/2010070504_C8_RDR_2.CSV was done.\n",
        "Task 423, time: 360.512035131\n",
        "424"
       ]
      },
      {
       "output_type": "stream",
       "stream": "stdout",
       "text": [
        " /raid1/maye/rdr_out/verification/Ben_2012_2/2010080114_C5_RDR_2.CSV was done.\n",
        "Task 424, time: 360.689376116\n",
        "425"
       ]
      },
      {
       "output_type": "stream",
       "stream": "stdout",
       "text": [
        " /raid1/maye/rdr_out/verification/Ben_2012_2/2010080108_C7_RDR_2.CSV was done.\n",
        "Task 425, time: 361.455991983\n",
        "426"
       ]
      },
      {
       "output_type": "stream",
       "stream": "stdout",
       "text": [
        " /raid1/maye/rdr_out/verification/Ben_2012_2/2010070502_C9_RDR_2.CSV was done.\n",
        "Task 426, time: 361.770493984\n",
        "427"
       ]
      },
      {
       "output_type": "stream",
       "stream": "stdout",
       "text": [
        " /raid1/maye/rdr_out/verification/Ben_2012_2/2010070506_C8_RDR_2.CSV was done.\n",
        "Task 427, time: 363.452064037\n",
        "428"
       ]
      },
      {
       "output_type": "stream",
       "stream": "stdout",
       "text": [
        " /raid1/maye/rdr_out/verification/Ben_2012_2/2010080110_C7_RDR_2.CSV was done.\n",
        "Task 428, time: 364.00306797\n",
        "429"
       ]
      },
      {
       "output_type": "stream",
       "stream": "stdout",
       "text": [
        " /raid1/maye/rdr_out/verification/Ben_2012_2/2010080112_C6_RDR_2.CSV was done.\n",
        "Task 429, time: 364.895991087\n",
        "430"
       ]
      },
      {
       "output_type": "stream",
       "stream": "stdout",
       "text": [
        " /raid1/maye/rdr_out/verification/Ben_2012_2/2010082814_C5_RDR_2.CSV was done.\n",
        "Task 430, time: 366.121479034\n",
        "431"
       ]
      },
      {
       "output_type": "stream",
       "stream": "stdout",
       "text": [
        " /raid1/maye/rdr_out/verification/Ben_2012_2/2010070504_C9_RDR_2.CSV was done.\n",
        "Task 431, time: 368.22675705\n",
        "432 /raid1/maye/rdr_out/verification/Ben_2012_2/2010080114_C6_RDR_2.CSV was done.\n",
        "Task 432, time: 368.227189064\n",
        "433 /raid1/maye/rdr_out/verification/Ben_2012_2/2010080108_C8_RDR_2.CSV was done.\n",
        "Task 433, time: 368.227312088\n",
        "434 /raid1/maye/rdr_out/verification/Ben_2012_2/2010070506_C9_RDR_2.CSV was done.\n",
        "Task 434, time: 368.227427006\n",
        "435"
       ]
      },
      {
       "output_type": "stream",
       "stream": "stdout",
       "text": [
        " /raid1/maye/rdr_out/verification/Ben_2012_2/2010080110_C8_RDR_2.CSV was done.\n",
        "Task 435, time: 369.942176104\n",
        "436"
       ]
      },
      {
       "output_type": "stream",
       "stream": "stdout",
       "text": [
        " /raid1/maye/rdr_out/verification/Ben_2012_2/2010082816_C3_RDR_2.CSV was done.\n",
        "Task 436, time: 370.208459139\n",
        "437"
       ]
      },
      {
       "output_type": "stream",
       "stream": "stdout",
       "text": [
        " /raid1/maye/rdr_out/verification/Ben_2012_2/2010080112_C7_RDR_2.CSV was done.\n",
        "Task 437, time: 371.576282024\n",
        "438"
       ]
      },
      {
       "output_type": "stream",
       "stream": "stdout",
       "text": [
        " /raid1/maye/rdr_out/verification/Ben_2012_2/2010082814_C6_RDR_2.CSV was done.\n",
        "Task 438, time: 372.432901144\n",
        "439"
       ]
      },
      {
       "output_type": "stream",
       "stream": "stdout",
       "text": [
        " /raid1/maye/rdr_out/verification/Ben_2012_2/2010080114_C7_RDR_2.CSV was done.\n",
        "Task 439, time: 373.962286949\n",
        "440"
       ]
      },
      {
       "output_type": "stream",
       "stream": "stdout",
       "text": [
        " /raid1/maye/rdr_out/verification/Ben_2012_2/2010080108_C9_RDR_2.CSV was done.\n",
        "Task 440, time: 375.051934958\n",
        "441"
       ]
      },
      {
       "output_type": "stream",
       "stream": "stdout",
       "text": [
        " /raid1/maye/rdr_out/verification/Ben_2012_2/2010082818_C3_RDR_2.CSV was done.\n",
        "Task 441, time: 375.238121033\n",
        "442 /raid1/maye/rdr_out/verification/Ben_2012_2/2010080110_C9_RDR_2.CSV was done.\n",
        "Task 442, time: 375.238265038\n",
        "443"
       ]
      },
      {
       "output_type": "stream",
       "stream": "stdout",
       "text": [
        " /raid1/maye/rdr_out/verification/Ben_2012_2/2010082820_C3_RDR_2.CSV was done.\n",
        "Task 443, time: 378.250720024\n",
        "444 /raid1/maye/rdr_out/verification/Ben_2012_2/2010082816_C4_RDR_2.CSV was done.\n",
        "Task 444, time: 378.251204014\n",
        "445"
       ]
      },
      {
       "output_type": "stream",
       "stream": "stdout",
       "text": [
        " /raid1/maye/rdr_out/verification/Ben_2012_2/2010080112_C8_RDR_2.CSV was done.\n",
        "Task 445, time: 379.908939123\n",
        "446 /raid1/maye/rdr_out/verification/Ben_2012_2/2010082814_C7_RDR_2.CSV was done.\n",
        "Task 446, time: 379.909574032\n",
        "447"
       ]
      },
      {
       "output_type": "stream",
       "stream": "stdout",
       "text": [
        " /raid1/maye/rdr_out/verification/Ben_2012_2/2010080114_C8_RDR_2.CSV was done.\n",
        "Task 447, time: 380.675708055\n",
        "448"
       ]
      },
      {
       "output_type": "stream",
       "stream": "stdout",
       "text": [
        " /raid1/maye/rdr_out/verification/Ben_2012_2/2010082818_C4_RDR_2.CSV was done.\n",
        "Task 448, time: 381.680490971\n",
        "449"
       ]
      },
      {
       "output_type": "stream",
       "stream": "stdout",
       "text": [
        " /raid1/maye/rdr_out/verification/Ben_2012_2/2010092422_C3_RDR_2.CSV was done.\n",
        "Task 449, time: 382.44659996\n",
        "450 /raid1/maye/rdr_out/verification/Ben_2012_2/2010082820_C4_RDR_2.CSV was done.\n",
        "Task 450, time: 382.447221041\n",
        "451"
       ]
      },
      {
       "output_type": "stream",
       "stream": "stdout",
       "text": [
        " /raid1/maye/rdr_out/verification/Ben_2012_2/2010082816_C5_RDR_2.CSV was done.\n",
        "Task 451, time: 383.756912947\n",
        "452"
       ]
      },
      {
       "output_type": "stream",
       "stream": "stdout",
       "text": [
        " /raid1/maye/rdr_out/verification/Ben_2012_2/2010092500_C3_RDR_2.CSV was done.\n",
        "Task 452, time: 384.960087061\n",
        "453"
       ]
      },
      {
       "output_type": "stream",
       "stream": "stdout",
       "text": [
        " /raid1/maye/rdr_out/verification/Ben_2012_2/2010080112_C9_RDR_2.CSV was done.\n",
        "Task 453, time: 386.431353092\n",
        "454"
       ]
      },
      {
       "output_type": "stream",
       "stream": "stdout",
       "text": [
        " /raid1/maye/rdr_out/verification/Ben_2012_2/2010082814_C8_RDR_2.CSV was done.\n",
        "Task 454, time: 386.605072975\n",
        "455"
       ]
      },
      {
       "output_type": "stream",
       "stream": "stdout",
       "text": [
        " /raid1/maye/rdr_out/verification/Ben_2012_2/2010080114_C9_RDR_2.CSV was done.\n",
        "Task 455, time: 386.974782944\n",
        "456"
       ]
      },
      {
       "output_type": "stream",
       "stream": "stdout",
       "text": [
        " /raid1/maye/rdr_out/verification/Ben_2012_2/2010082818_C5_RDR_2.CSV was done.\n",
        "Task 456, time: 387.919142008\n",
        "457"
       ]
      },
      {
       "output_type": "stream",
       "stream": "stdout",
       "text": [
        " /raid1/maye/rdr_out/verification/Ben_2012_2/2010092422_C4_RDR_2.CSV was done.\n",
        "Task 457, time: 388.720294952\n",
        "458"
       ]
      },
      {
       "output_type": "stream",
       "stream": "stdout",
       "text": [
        " /raid1/maye/rdr_out/verification/Ben_2012_2/2010082816_C6_RDR_2.CSV was done.\n",
        "Task 458, time: 389.374753952\n",
        "459"
       ]
      },
      {
       "output_type": "stream",
       "stream": "stdout",
       "text": [
        " /raid1/maye/rdr_out/verification/Ben_2012_2/2010082820_C5_RDR_2.CSV was done.\n",
        "Task 459, time: 390.61137104\n",
        "460"
       ]
      },
      {
       "output_type": "stream",
       "stream": "stdout",
       "text": [
        " /raid1/maye/rdr_out/verification/Ben_2012_2/2010092500_C4_RDR_2.CSV was done.\n",
        "Task 460, time: 391.169553995\n",
        "461"
       ]
      },
      {
       "output_type": "stream",
       "stream": "stdout",
       "text": [
        " /raid1/maye/rdr_out/verification/Ben_2012_2/2010082814_C9_RDR_2.CSV was done.\n",
        "Task 461, time: 393.863660097\n",
        "462"
       ]
      },
      {
       "output_type": "stream",
       "stream": "stdout",
       "text": [
        " /raid1/maye/rdr_out/verification/Ben_2012_2/2010092502_C3_RDR_2.CSV was done.\n",
        "Task 462, time: 394.938876152\n",
        "463 /raid1/maye/rdr_out/verification/Ben_2012_2/2010082818_C6_RDR_2.CSV was done.\n",
        "Task 463, time: 394.939512968\n",
        "464 /raid1/maye/rdr_out/verification/Ben_2012_2/2010092422_C5_RDR_2.CSV was done.\n",
        "Task 464, time: 394.939643145\n",
        "465"
       ]
      },
      {
       "output_type": "stream",
       "stream": "stdout",
       "text": [
        " /raid1/maye/rdr_out/verification/Ben_2012_2/2010082816_C7_RDR_2.CSV was done.\n",
        "Task 465, time: 396.293740988\n",
        "466"
       ]
      },
      {
       "output_type": "stream",
       "stream": "stdout",
       "text": [
        " /raid1/maye/rdr_out/verification/Ben_2012_2/2010082820_C6_RDR_2.CSV was done.\n",
        "Task 466, time: 396.476475954\n",
        "467"
       ]
      },
      {
       "output_type": "stream",
       "stream": "stdout",
       "text": [
        " /raid1/maye/rdr_out/verification/Ben_2012_2/2010092500_C5_RDR_2.CSV was done.\n",
        "Task 467, time: 396.976840973\n",
        "468"
       ]
      },
      {
       "output_type": "stream",
       "stream": "stdout",
       "text": [
        " /raid1/maye/rdr_out/verification/Ben_2012_2/2010092502_C4_RDR_2.CSV was done.\n",
        "Task 468, time: 398.478305101\n",
        "469"
       ]
      },
      {
       "output_type": "stream",
       "stream": "stdout",
       "text": [
        " /raid1/maye/rdr_out/verification/Ben_2012_2/2010092504_C3_RDR_2.CSV was done.\n",
        "Task 469, time: 400.100438118\n",
        "470"
       ]
      },
      {
       "output_type": "stream",
       "stream": "stdout",
       "text": [
        " /raid1/maye/rdr_out/verification/Ben_2012_2/2010082818_C7_RDR_2.CSV was done.\n",
        "Task 470, time: 400.601251125\n",
        "471 /raid1/maye/rdr_out/verification/Ben_2012_2/2010092422_C6_RDR_2.CSV was done.\n",
        "Task 471, time: 400.601456165\n",
        "472"
       ]
      },
      {
       "output_type": "stream",
       "stream": "stdout",
       "text": [
        " /raid1/maye/rdr_out/verification/Ben_2012_2/2010082816_C8_RDR_2.CSV was done.\n",
        "Task 472, time: 401.530653\n",
        "473"
       ]
      },
      {
       "output_type": "stream",
       "stream": "stdout",
       "text": [
        " /raid1/maye/rdr_out/verification/Ben_2012_2/2010082820_C7_RDR_2.CSV was done.\n",
        "Task 473, time: 403.741019964\n",
        "474 /raid1/maye/rdr_out/verification/Ben_2012_2/2010092500_C6_RDR_2.CSV was done.\n",
        "Task 474, time: 403.741161108\n",
        "475 /raid1/maye/rdr_out/verification/Ben_2012_2/2010092503_C3_RDR_2.CSV was done.\n",
        "Task 475, time: 403.788222075\n",
        "476"
       ]
      },
      {
       "output_type": "stream",
       "stream": "stdout",
       "text": [
        " /raid1/maye/rdr_out/verification/Ben_2012_2/2010092502_C5_RDR_2.CSV was done.\n",
        "Task 476, time: 404.642590046\n",
        "477"
       ]
      },
      {
       "output_type": "stream",
       "stream": "stdout",
       "text": [
        " /raid1/maye/rdr_out/verification/Ben_2012_2/2010092504_C4_RDR_2.CSV was done.\n",
        "Task 477, time: 407.183258057\n",
        "478 /raid1/maye/rdr_out/verification/Ben_2012_2/2010082818_C8_RDR_2.CSV was done.\n",
        "Task 478, time: 407.183472157\n",
        "479"
       ]
      },
      {
       "output_type": "stream",
       "stream": "stdout",
       "text": [
        " /raid1/maye/rdr_out/verification/Ben_2012_2/2010092422_C7_RDR_2.CSV was done.\n",
        "Task 479, time: 407.368529081\n",
        "480"
       ]
      },
      {
       "output_type": "stream",
       "stream": "stdout",
       "text": [
        " /raid1/maye/rdr_out/verification/Ben_2012_2/2010082816_C9_RDR_2.CSV was done.\n",
        "Task 480, time: 409.249438047\n",
        "481"
       ]
      },
      {
       "output_type": "stream",
       "stream": "stdout",
       "text": [
        " /raid1/maye/rdr_out/verification/Ben_2012_2/2010082820_C8_RDR_2.CSV was done.\n",
        "Task 481, time: 409.872688055\n",
        "482"
       ]
      },
      {
       "output_type": "stream",
       "stream": "stdout",
       "text": [
        " /raid1/maye/rdr_out/verification/Ben_2012_2/2010092500_C7_RDR_2.CSV was done.\n",
        "Task 482, time: 410.160042048\n",
        "483"
       ]
      },
      {
       "output_type": "stream",
       "stream": "stdout",
       "text": [
        " /raid1/maye/rdr_out/verification/Ben_2012_2/2010092503_C4_RDR_2.CSV was done.\n",
        "Task 483, time: 411.314399004\n",
        "484 /raid1/maye/rdr_out/verification/Ben_2012_2/2010092502_C6_RDR_2.CSV was done.\n",
        "Task 484, time: 411.315091133\n",
        "485"
       ]
      },
      {
       "output_type": "stream",
       "stream": "stdout",
       "text": [
        " /raid1/maye/rdr_out/verification/Ben_2012_2/2010082818_C9_RDR_2.CSV was done.\n",
        "Task 485, time: 412.75053215\n",
        "486"
       ]
      },
      {
       "output_type": "stream",
       "stream": "stdout",
       "text": [
        " /raid1/maye/rdr_out/verification/Ben_2012_2/2010092504_C5_RDR_2.CSV was done.\n",
        "Task 486, time: 413.173342943\n",
        "487"
       ]
      },
      {
       "output_type": "stream",
       "stream": "stdout",
       "text": [
        " /raid1/maye/rdr_out/verification/Ben_2012_2/2010092422_C8_RDR_2.CSV was done.\n",
        "Task 487, time: 414.071913004\n",
        "488"
       ]
      },
      {
       "output_type": "stream",
       "stream": "stdout",
       "text": [
        " /raid1/maye/rdr_out/verification/Ben_2012_2/2010082820_C9_RDR_2.CSV was done.\n",
        "Task 488, time: 415.901729107\n",
        "489"
       ]
      },
      {
       "output_type": "stream",
       "stream": "stdout",
       "text": [
        " /raid1/maye/rdr_out/verification/Ben_2012_2/2010092500_C8_RDR_2.CSV was done.\n",
        "Task 489, time: 416.349153996\n",
        "490"
       ]
      },
      {
       "output_type": "stream",
       "stream": "stdout",
       "text": [
        " /raid1/maye/rdr_out/verification/Ben_2012_2/2010092503_C5_RDR_2.CSV was done.\n",
        "Task 490, time: 416.661348104\n",
        "491"
       ]
      },
      {
       "output_type": "stream",
       "stream": "stdout",
       "text": [
        " /raid1/maye/rdr_out/verification/Ben_2012_2/2010102206_C3_RDR_2.CSV was done.\n",
        "Task 491, time: 417.072905064\n",
        "492"
       ]
      },
      {
       "output_type": "stream",
       "stream": "stdout",
       "text": [
        " /raid1/maye/rdr_out/verification/Ben_2012_2/2010092502_C7_RDR_2.CSV was done.\n",
        "Task 492, time: 417.852297068\n",
        "493"
       ]
      },
      {
       "output_type": "stream",
       "stream": "stdout",
       "text": [
        " /raid1/maye/rdr_out/verification/Ben_2012_2/2010092504_C6_RDR_2.CSV was done.\n",
        "Task 493, time: 418.912826061\n",
        "494 /raid1/maye/rdr_out/verification/Ben_2012_2/2010092422_C9_RDR_2.CSV was done.\n",
        "Task 494, time: 418.913017035\n",
        "495"
       ]
      },
      {
       "output_type": "stream",
       "stream": "stdout",
       "text": [
        " /raid1/maye/rdr_out/verification/Ben_2012_2/2010102208_C3_RDR_2.CSV was done.\n",
        "Task 495, time: 421.120026112\n",
        "496"
       ]
      },
      {
       "output_type": "stream",
       "stream": "stdout",
       "text": [
        " /raid1/maye/rdr_out/verification/Ben_2012_2/2010092500_C9_RDR_2.CSV was done.\n",
        "Task 496, time: 422.502398014\n",
        "497"
       ]
      },
      {
       "output_type": "stream",
       "stream": "stdout",
       "text": [
        " /raid1/maye/rdr_out/verification/Ben_2012_2/2010092503_C6_RDR_2.CSV was done.\n",
        "Task 497, time: 423.384106159\n",
        "498"
       ]
      },
      {
       "output_type": "stream",
       "stream": "stdout",
       "text": [
        " /raid1/maye/rdr_out/verification/Ben_2012_2/2010102206_C4_RDR_2.CSV was done.\n",
        "Task 498, time: 423.527791977\n",
        "499"
       ]
      },
      {
       "output_type": "stream",
       "stream": "stdout",
       "text": [
        " /raid1/maye/rdr_out/verification/Ben_2012_2/2010092502_C8_RDR_2.CSV was done.\n",
        "Task 499, time: 423.783019066\n",
        "500"
       ]
      },
      {
       "output_type": "stream",
       "stream": "stdout",
       "text": [
        " /raid1/maye/rdr_out/verification/Ben_2012_2/2010092504_C7_RDR_2.CSV was done.\n",
        "Task 500, time: 424.471110106\n",
        "501"
       ]
      },
      {
       "output_type": "stream",
       "stream": "stdout",
       "text": [
        " /raid1/maye/rdr_out/verification/Ben_2012_2/2010102208_C4_RDR_2.CSV was done.\n",
        "Task 501, time: 426.009092093\n",
        "502 /raid1/maye/rdr_out/verification/Ben_2012_2/2010102210_C3_RDR_2.CSV was done.\n",
        "Task 502, time: 426.00949502\n",
        "503"
       ]
      },
      {
       "output_type": "stream",
       "stream": "stdout",
       "text": [
        " /raid1/maye/rdr_out/verification/Ben_2012_2/2010102206_C5_RDR_2.CSV was done.\n",
        "Task 503, time: 428.082923174\n",
        "504"
       ]
      },
      {
       "output_type": "stream",
       "stream": "stdout",
       "text": [
        " /raid1/maye/rdr_out/verification/Ben_2012_2/2010092503_C7_RDR_2.CSV was done.\n",
        "Task 504, time: 430.129863024\n",
        "505"
       ]
      },
      {
       "output_type": "stream",
       "stream": "stdout",
       "text": [
        " /raid1/maye/rdr_out/verification/Ben_2012_2/2010102211_C3_RDR_2.CSV was done.\n",
        "Task 505, time: 430.411335945\n",
        "506"
       ]
      },
      {
       "output_type": "stream",
       "stream": "stdout",
       "text": [
        " /raid1/maye/rdr_out/verification/Ben_2012_2/2010092502_C9_RDR_2.CSV was done.\n",
        "Task 506, time: 431.271943092\n",
        "507 /raid1/maye/rdr_out/verification/Ben_2012_2/2010092504_C8_RDR_2.CSV was done.\n",
        "Task 507, time: 431.272608042\n",
        "508"
       ]
      },
      {
       "output_type": "stream",
       "stream": "stdout",
       "text": [
        " /raid1/maye/rdr_out/verification/Ben_2012_2/2010102208_C5_RDR_2.CSV was done.\n",
        "Task 508, time: 432.421314001\n",
        "509 /raid1/maye/rdr_out/verification/Ben_2012_2/2010102209_C3_RDR_2.CSV was done.\n",
        "Task 509, time: 432.421528101\n",
        "510"
       ]
      },
      {
       "output_type": "stream",
       "stream": "stdout",
       "text": [
        " /raid1/maye/rdr_out/verification/Ben_2012_2/2010102210_C4_RDR_2.CSV was done.\n",
        "Task 510, time: 433.265180111\n",
        "511"
       ]
      },
      {
       "output_type": "stream",
       "stream": "stdout",
       "text": [
        " /raid1/maye/rdr_out/verification/Ben_2012_2/2010102206_C6_RDR_2.CSV was done.\n",
        "Task 511, time: 435.289891958\n",
        "512"
       ]
      },
      {
       "output_type": "stream",
       "stream": "stdout",
       "text": [
        " /raid1/maye/rdr_out/verification/Ben_2012_2/2010092503_C8_RDR_2.CSV was done.\n",
        "Task 512, time: 436.132662058\n",
        "513"
       ]
      },
      {
       "output_type": "stream",
       "stream": "stdout",
       "text": [
        " /raid1/maye/rdr_out/verification/Ben_2012_2/2010102211_C4_RDR_2.CSV was done.\n",
        "Task 513, time: 437.355507135\n",
        "514 /raid1/maye/rdr_out/verification/Ben_2012_2/2010092504_C9_RDR_2.CSV was done.\n",
        "Task 514, time: 437.356198072\n",
        "515"
       ]
      },
      {
       "output_type": "stream",
       "stream": "stdout",
       "text": [
        " /raid1/maye/rdr_out/verification/Ben_2012_2/2010102208_C6_RDR_2.CSV was done.\n",
        "Task 515, time: 438.582216024\n",
        "516"
       ]
      },
      {
       "output_type": "stream",
       "stream": "stdout",
       "text": [
        " /raid1/maye/rdr_out/verification/Ben_2012_2/2010102209_C4_RDR_2.CSV was done.\n",
        "Task 516, time: 439.133397102\n",
        "517"
       ]
      },
      {
       "output_type": "stream",
       "stream": "stdout",
       "text": [
        " /raid1/maye/rdr_out/verification/Ben_2012_2/2010102206_C7_RDR_2.CSV was done.\n",
        "Task 517, time: 439.247594118\n",
        "518"
       ]
      },
      {
       "output_type": "stream",
       "stream": "stdout",
       "text": [
        " /raid1/maye/rdr_out/verification/Ben_2012_2/2010102210_C5_RDR_2.CSV was done.\n",
        "Task 518, time: 439.763678074\n",
        "519"
       ]
      },
      {
       "output_type": "stream",
       "stream": "stdout",
       "text": [
        " /raid1/maye/rdr_out/verification/Ben_2012_2/2010092503_C9_RDR_2.CSV was done.\n",
        "Task 519, time: 442.164669991\n",
        "520"
       ]
      },
      {
       "output_type": "stream",
       "stream": "stdout",
       "text": [
        " /raid1/maye/rdr_out/verification/Ben_2012_2/2010102211_C5_RDR_2.CSV was done.\n",
        "Task 520, time: 442.84474206\n",
        "521"
       ]
      },
      {
       "output_type": "stream",
       "stream": "stdout",
       "text": [
        " /raid1/maye/rdr_out/verification/Ben_2012_2/2010102208_C7_RDR_2.CSV was done.\n",
        "Task 521, time: 443.657623053\n",
        "522"
       ]
      },
      {
       "output_type": "stream",
       "stream": "stdout",
       "text": [
        " /raid1/maye/rdr_out/verification/Ben_2012_2/2010111812_C3_RDR_2.CSV was done.\n",
        "Task 522, time: 444.767045975\n",
        "523 /raid1/maye/rdr_out/verification/Ben_2012_2/2010102209_C5_RDR_2.CSV was done.\n",
        "Task 523, time: 444.800915003\n",
        "524"
       ]
      },
      {
       "output_type": "stream",
       "stream": "stdout",
       "text": [
        " /raid1/maye/rdr_out/verification/Ben_2012_2/2010102206_C8_RDR_2.CSV was done.\n",
        "Task 524, time: 445.477148056\n",
        "525"
       ]
      },
      {
       "output_type": "stream",
       "stream": "stdout",
       "text": [
        " /raid1/maye/rdr_out/verification/Ben_2012_2/2010102210_C6_RDR_2.CSV was done.\n",
        "Task 525, time: 445.956145048\n",
        "526"
       ]
      },
      {
       "output_type": "stream",
       "stream": "stdout",
       "text": [
        " /raid1/maye/rdr_out/verification/Ben_2012_2/2010102212_C3_RDR_2.CSV was done.\n",
        "Task 526, time: 446.547827959\n",
        "527"
       ]
      },
      {
       "output_type": "stream",
       "stream": "stdout",
       "text": [
        " /raid1/maye/rdr_out/verification/Ben_2012_2/2010102211_C6_RDR_2.CSV was done.\n",
        "Task 527, time: 449.732620955\n",
        "528 /raid1/maye/rdr_out/verification/Ben_2012_2/2010111814_C3_RDR_2.CSV was done.\n",
        "Task 528, time: 449.733061075\n",
        "529"
       ]
      },
      {
       "output_type": "stream",
       "stream": "stdout",
       "text": [
        " /raid1/maye/rdr_out/verification/Ben_2012_2/2010102208_C8_RDR_2.CSV was done.\n",
        "Task 529, time: 450.358330965\n",
        "530"
       ]
      },
      {
       "output_type": "stream",
       "stream": "stdout",
       "text": [
        " /raid1/maye/rdr_out/verification/Ben_2012_2/2010111812_C4_RDR_2.CSV was done.\n",
        "Task 530, time: 451.122183084\n",
        "531"
       ]
      },
      {
       "output_type": "stream",
       "stream": "stdout",
       "text": [
        " /raid1/maye/rdr_out/verification/Ben_2012_2/2010102209_C6_RDR_2.CSV was done.\n",
        "Task 531, time: 451.791079998\n",
        "532 /raid1/maye/rdr_out/verification/Ben_2012_2/2010102206_C9_RDR_2.CSV was done.\n",
        "Task 532, time: 451.791273117\n",
        "533"
       ]
      },
      {
       "output_type": "stream",
       "stream": "stdout",
       "text": [
        " /raid1/maye/rdr_out/verification/Ben_2012_2/2010102210_C7_RDR_2.CSV was done.\n",
        "Task 533, time: 452.297167063\n",
        "534"
       ]
      },
      {
       "output_type": "stream",
       "stream": "stdout",
       "text": [
        " /raid1/maye/rdr_out/verification/Ben_2012_2/2010102212_C4_RDR_2.CSV was done.\n",
        "Task 534, time: 452.504590988\n",
        "535"
       ]
      },
      {
       "output_type": "stream",
       "stream": "stdout",
       "text": [
        " /raid1/maye/rdr_out/verification/Ben_2012_2/2010102211_C7_RDR_2.CSV was done.\n",
        "Task 535, time: 455.600417137\n",
        "536"
       ]
      },
      {
       "output_type": "stream",
       "stream": "stdout",
       "text": [
        " /raid1/maye/rdr_out/verification/Ben_2012_2/2010111814_C4_RDR_2.CSV was done.\n",
        "Task 536, time: 456.585010052\n",
        "537"
       ]
      },
      {
       "output_type": "stream",
       "stream": "stdout",
       "text": [
        " /raid1/maye/rdr_out/verification/Ben_2012_2/2010102208_C9_RDR_2.CSV was done.\n",
        "Task 537, time: 457.84566617\n",
        "538 /raid1/maye/rdr_out/verification/Ben_2012_2/2010111812_C5_RDR_2.CSV was done.\n",
        "Task 538, time: 457.84634614\n",
        "539"
       ]
      },
      {
       "output_type": "stream",
       "stream": "stdout",
       "text": [
        " /raid1/maye/rdr_out/verification/Ben_2012_2/2010102209_C7_RDR_2.CSV was done.\n",
        "Task 539, time: 458.066116095\n",
        "540 /raid1/maye/rdr_out/verification/Ben_2012_2/2010102210_C8_RDR_2.CSV was done.\n",
        "Task 540, time: 458.066256046\n",
        "541"
       ]
      },
      {
       "output_type": "stream",
       "stream": "stdout",
       "text": [
        " /raid1/maye/rdr_out/verification/Ben_2012_2/2010102212_C5_RDR_2.CSV was done.\n",
        "Task 541, time: 459.688984156\n",
        "542 /raid1/maye/rdr_out/verification/Ben_2012_2/2010111815_C3_RDR_2.CSV was done.\n",
        "Task 542, time: 459.689393997\n",
        "543"
       ]
      },
      {
       "output_type": "stream",
       "stream": "stdout",
       "text": [
        " /raid1/maye/rdr_out/verification/Ben_2012_2/2010102211_C8_RDR_2.CSV was done.\n",
        "Task 543, time: 461.955254078\n",
        "544"
       ]
      },
      {
       "output_type": "stream",
       "stream": "stdout",
       "text": [
        " /raid1/maye/rdr_out/verification/Ben_2012_2/2010111814_C5_RDR_2.CSV was done.\n",
        "Task 544, time: 463.056699991\n",
        "545"
       ]
      },
      {
       "output_type": "stream",
       "stream": "stdout",
       "text": [
        " /raid1/maye/rdr_out/verification/Ben_2012_2/2010111812_C6_RDR_2.CSV was done.\n",
        "Task 545, time: 464.498970032\n",
        "546"
       ]
      },
      {
       "output_type": "stream",
       "stream": "stdout",
       "text": [
        " /raid1/maye/rdr_out/verification/Ben_2012_2/2010102209_C8_RDR_2.CSV was done.\n",
        "Task 546, time: 465.602844954\n",
        "547 /raid1/maye/rdr_out/verification/Ben_2012_2/2010102210_C9_RDR_2.CSV was done.\n",
        "Task 547, time: 465.603059053\n",
        "548"
       ]
      },
      {
       "output_type": "stream",
       "stream": "stdout",
       "text": [
        " /raid1/maye/rdr_out/verification/Ben_2012_2/2010111816_C3_RDR_2.CSV was done.\n",
        "Task 548, time: 465.834946156\n",
        "549"
       ]
      },
      {
       "output_type": "stream",
       "stream": "stdout",
       "text": [
        " /raid1/maye/rdr_out/verification/Ben_2012_2/2010102212_C6_RDR_2.CSV was done.\n",
        "Task 549, time: 466.014219046\n",
        "550"
       ]
      },
      {
       "output_type": "stream",
       "stream": "stdout",
       "text": [
        " /raid1/maye/rdr_out/verification/Ben_2012_2/2010111815_C4_RDR_2.CSV was done.\n",
        "Task 550, time: 466.542397022\n",
        "551"
       ]
      },
      {
       "output_type": "stream",
       "stream": "stdout",
       "text": [
        " /raid1/maye/rdr_out/verification/Ben_2012_2/2010102211_C9_RDR_2.CSV was done.\n",
        "Task 551, time: 468.223831177\n",
        "552"
       ]
      },
      {
       "output_type": "stream",
       "stream": "stdout",
       "text": [
        " /raid1/maye/rdr_out/verification/Ben_2012_2/2010111814_C6_RDR_2.CSV was done.\n",
        "Task 552, time: 469.523947001\n",
        "553"
       ]
      },
      {
       "output_type": "stream",
       "stream": "stdout",
       "text": [
        " /raid1/maye/rdr_out/verification/Ben_2012_2/2010121519_C3_RDR_2.CSV was done.\n",
        "Task 553, time: 473.665796041\n",
        "554 /raid1/maye/rdr_out/verification/Ben_2012_2/2010121519_C4_RDR_2.CSV was done.\n",
        "Task 554, time: 473.66593194\n",
        "555"
       ]
      },
      {
       "output_type": "stream",
       "stream": "stdout",
       "text": [
        " /raid1/maye/rdr_out/verification/Ben_2012_2/2010121519_C5_RDR_2.CSV was done.\n",
        "Task 555, time: 475.131421089\n",
        "556 /raid1/maye/rdr_out/verification/Ben_2012_2/2010121519_C6_RDR_2.CSV was done.\n",
        "Task 556, time: 475.131567001\n",
        "557 /raid1/maye/rdr_out/verification/Ben_2012_2/2010121519_C7_RDR_2.CSV was done.\n",
        "Task 557, time: 475.131689072\n",
        "558"
       ]
      },
      {
       "output_type": "stream",
       "stream": "stdout",
       "text": [
        " /raid1/maye/rdr_out/verification/Ben_2012_2/2010121519_C8_RDR_2.CSV was done.\n",
        "Task 558, time: 476.110799074\n",
        "559"
       ]
      },
      {
       "output_type": "stream",
       "stream": "stdout",
       "text": [
        " /raid1/maye/rdr_out/verification/Ben_2012_2/2010121519_C9_RDR_2.CSV was done.\n",
        "Task 559, time: 476.866790056\n",
        "560"
       ]
      },
      {
       "output_type": "stream",
       "stream": "stdout",
       "text": [
        " /raid1/maye/rdr_out/verification/Ben_2012_2/2010121520_C3_RDR_2.CSV was done.\n",
        "Task 560, time: 477.959575176\n",
        "561"
       ]
      },
      {
       "output_type": "stream",
       "stream": "stdout",
       "text": [
        " /raid1/maye/rdr_out/verification/Ben_2012_2/2010121520_C4_RDR_2.CSV was done.\n",
        "Task 561, time: 480.048012018\n",
        "562"
       ]
      },
      {
       "output_type": "stream",
       "stream": "stdout",
       "text": [
        " /raid1/maye/rdr_out/verification/Ben_2012_2/2010121520_C5_RDR_2.CSV was done.\n",
        "Task 562, time: 480.671966076\n",
        "563 /raid1/maye/rdr_out/verification/Ben_2012_2/2010121520_C6_RDR_2.CSV was done.\n",
        "Task 563, time: 480.67236805\n",
        "564 /raid1/maye/rdr_out/verification/Ben_2012_2/2010121520_C7_RDR_2.CSV was done.\n",
        "Task 564, time: 480.672492981\n",
        "565"
       ]
      },
      {
       "output_type": "stream",
       "stream": "stdout",
       "text": [
        " /raid1/maye/rdr_out/verification/Ben_2012_2/2010121520_C8_RDR_2.CSV was done.\n",
        "Task 565, time: 482.105129004\n",
        "566"
       ]
      },
      {
       "output_type": "stream",
       "stream": "stdout",
       "text": [
        " /raid1/maye/rdr_out/verification/Ben_2012_2/2010121520_C9_RDR_2.CSV was done.\n",
        "Task 566, time: 482.309196949\n",
        "567"
       ]
      },
      {
       "output_type": "stream",
       "stream": "stdout",
       "text": [
        " /raid1/maye/rdr_out/verification/Ben_2012_2/2010121521_C3_RDR_2.CSV was done.\n",
        "Task 567, time: 483.135748148\n",
        "568"
       ]
      },
      {
       "output_type": "stream",
       "stream": "stdout",
       "text": [
        " /raid1/maye/rdr_out/verification/Ben_2012_2/2010121521_C4_RDR_2.CSV was done.\n",
        "Task 568, time: 486.04165411\n",
        "569"
       ]
      },
      {
       "output_type": "stream",
       "stream": "stdout",
       "text": [
        " /raid1/maye/rdr_out/verification/Ben_2012_2/2010121521_C5_RDR_2.CSV was done.\n",
        "Task 569, time: 487.782714128\n",
        "570 /raid1/maye/rdr_out/verification/Ben_2012_2/2010121521_C6_RDR_2.CSV was done.\n",
        "Task 570, time: 487.783544064\n",
        "571"
       ]
      },
      {
       "output_type": "stream",
       "stream": "stdout",
       "text": [
        " /raid1/maye/rdr_out/verification/Ben_2012_2/2010121521_C7_RDR_2.CSV was done.\n",
        "Task 571, time: 487.989030123\n",
        "572"
       ]
      },
      {
       "output_type": "stream",
       "stream": "stdout",
       "text": [
        " /raid1/maye/rdr_out/verification/Ben_2012_2/2010121521_C8_RDR_2.CSV was done.\n",
        "Task 572, time: 488.781092167\n",
        "573"
       ]
      },
      {
       "output_type": "stream",
       "stream": "stdout",
       "text": [
        " /raid1/maye/rdr_out/verification/Ben_2012_2/2010121521_C9_RDR_2.CSV was done.\n",
        "Task 573, time: 489.226411104\n",
        "574 /raid1/maye/rdr_out/verification/Ben_2012_2/2010121523_C3_RDR_2.CSV was done.\n",
        "Task 574, time: 489.227010012\n",
        "575"
       ]
      },
      {
       "output_type": "stream",
       "stream": "stdout",
       "text": [
        " /raid1/maye/rdr_out/verification/Ben_2012_2/2010121523_C4_RDR_2.CSV was done.\n",
        "Task 575, time: 491.450412989\n",
        "576"
       ]
      },
      {
       "output_type": "stream",
       "stream": "stdout",
       "text": [
        " /raid1/maye/rdr_out/verification/Ben_2012_2/2010121523_C5_RDR_2.CSV was done.\n",
        "Task 576, time: 493.582620144\n",
        "577"
       ]
      },
      {
       "output_type": "stream",
       "stream": "stdout",
       "text": [
        " /raid1/maye/rdr_out/verification/Ben_2012_2/2010121523_C6_RDR_2.CSV was done.\n",
        "Task 577, time: 495.009879112\n",
        "578"
       ]
      },
      {
       "output_type": "stream",
       "stream": "stdout",
       "text": [
        " /raid1/maye/rdr_out/verification/Ben_2012_2/2010121523_C7_RDR_2.CSV was done.\n",
        "Task 578, time: 496.218969107\n",
        "579 /raid1/maye/rdr_out/verification/Ben_2012_2/2010121523_C8_RDR_2.CSV was done.\n",
        "Task 579, time: 496.219103098\n",
        "580"
       ]
      },
      {
       "output_type": "stream",
       "stream": "stdout",
       "text": [
        " /raid1/maye/rdr_out/verification/Ben_2012_2/2010121523_C9_RDR_2.CSV was done.\n",
        "Task 580, time: 496.61393714\n",
        "581 /raid1/maye/rdr_out/verification/Ben_2012_2/2010121601_C3_RDR_2.CSV was done.\n",
        "Task 581, time: 496.61413312\n",
        "582"
       ]
      },
      {
       "output_type": "stream",
       "stream": "stdout",
       "text": [
        " /raid1/maye/rdr_out/verification/Ben_2012_2/2010121601_C4_RDR_2.CSV was done.\n",
        "Task 582, time: 497.13788414\n",
        "583"
       ]
      },
      {
       "output_type": "stream",
       "stream": "stdout",
       "text": [
        " /raid1/maye/rdr_out/verification/Ben_2012_2/2010121601_C5_RDR_2.CSV was done.\n",
        "Task 583, time: 500.613746166\n",
        "584"
       ]
      },
      {
       "output_type": "stream",
       "stream": "stdout",
       "text": [
        " /raid1/maye/rdr_out/verification/Ben_2012_2/2010121601_C6_RDR_2.CSV was done.\n",
        "Task 584, time: 502.816972017\n",
        "585"
       ]
      },
      {
       "output_type": "stream",
       "stream": "stdout",
       "text": [
        " /raid1/maye/rdr_out/verification/Ben_2012_2/2010121601_C7_RDR_2.CSV was done.\n",
        "Task 585, time: 503.97548008\n",
        "586"
       ]
      },
      {
       "output_type": "stream",
       "stream": "stdout",
       "text": [
        " /raid1/maye/rdr_out/verification/Ben_2012_2/2010121601_C8_RDR_2.CSV was done.\n",
        "Task 586, time: 504.10749507\n",
        "587"
       ]
      },
      {
       "output_type": "stream",
       "stream": "stdout",
       "text": [
        " /raid1/maye/rdr_out/verification/Ben_2012_2/2010121601_C9_RDR_2.CSV was done.\n",
        "Task 587, time: 505.497949123\n",
        "588 /raid1/maye/rdr_out/verification/Ben_2012_2/2010111812_C7_RDR_2.CSV was done.\n",
        "Task 588, time: 505.498162985\n",
        "589 /raid1/maye/rdr_out/verification/Ben_2012_2/2010102209_C9_RDR_2.CSV was done.\n",
        "Task 589, time: 505.498356104\n",
        "590"
       ]
      },
      {
       "output_type": "stream",
       "stream": "stdout",
       "text": [
        " /raid1/maye/rdr_out/verification/Ben_2012_2/2010111816_C4_RDR_2.CSV was done.\n",
        "Task 590, time: 506.445022106\n",
        "591"
       ]
      },
      {
       "output_type": "stream",
       "stream": "stdout",
       "text": [
        " /raid1/maye/rdr_out/verification/Ben_2012_2/2010111817_C3_RDR_2.CSV was done.\n",
        "Task 591, time: 507.990973949\n",
        "592"
       ]
      },
      {
       "output_type": "stream",
       "stream": "stdout",
       "text": [
        " /raid1/maye/rdr_out/verification/Ben_2012_2/2010111815_C5_RDR_2.CSV was done.\n",
        "Task 592, time: 509.595937967\n",
        "593"
       ]
      },
      {
       "output_type": "stream",
       "stream": "stdout",
       "text": [
        " /raid1/maye/rdr_out/verification/Ben_2012_2/2010102212_C7_RDR_2.CSV was done.\n",
        "Task 593, time: 509.716202974\n",
        "594"
       ]
      },
      {
       "output_type": "stream",
       "stream": "stdout",
       "text": [
        " /raid1/maye/rdr_out/verification/Ben_2012_2/2010111814_C7_RDR_2.CSV was done.\n",
        "Task 594, time: 510.813766003\n",
        "595 /raid1/maye/rdr_out/verification/Ben_2012_2/2010122912_C3_RDR_2.CSV was done.\n",
        "Task 595, time: 510.813977957\n",
        "596"
       ]
      },
      {
       "output_type": "stream",
       "stream": "stdout",
       "text": [
        " /raid1/maye/rdr_out/verification/Ben_2012_2/2010111812_C8_RDR_2.CSV was done.\n",
        "Task 596, time: 511.933316946\n",
        "597"
       ]
      },
      {
       "output_type": "stream",
       "stream": "stdout",
       "text": [
        " /raid1/maye/rdr_out/verification/Ben_2012_2/2010111816_C5_RDR_2.CSV was done.\n",
        "Task 597, time: 512.076428175\n",
        "598"
       ]
      },
      {
       "output_type": "stream",
       "stream": "stdout",
       "text": [
        " /raid1/maye/rdr_out/verification/Ben_2012_2/2010122914_C3_RDR_2.CSV was done.\n",
        "Task 598, time: 513.085307121\n",
        "599"
       ]
      },
      {
       "output_type": "stream",
       "stream": "stdout",
       "text": [
        " /raid1/maye/rdr_out/verification/Ben_2012_2/2010111815_C6_RDR_2.CSV was done.\n",
        "Task 599, time: 514.772828102\n",
        "600"
       ]
      },
      {
       "output_type": "stream",
       "stream": "stdout",
       "text": [
        " /raid1/maye/rdr_out/verification/Ben_2012_2/2010111817_C4_RDR_2.CSV was done.\n",
        "Task 600, time: 516.668830156\n",
        "601 /raid1/maye/rdr_out/verification/Ben_2012_2/2010102212_C8_RDR_2.CSV was done.\n",
        "Task 601, time: 516.668991089\n",
        "602 /raid1/maye/rdr_out/verification/Ben_2012_2/2010111814_C8_RDR_2.CSV was done.\n",
        "Task 602, time: 516.669173002\n",
        "603"
       ]
      },
      {
       "output_type": "stream",
       "stream": "stdout",
       "text": [
        " /raid1/maye/rdr_out/verification/Ben_2012_2/2010122912_C4_RDR_2.CSV was done.\n",
        "Task 603, time: 517.973195076\n",
        "604"
       ]
      },
      {
       "output_type": "stream",
       "stream": "stdout",
       "text": [
        " /raid1/maye/rdr_out/verification/Ben_2012_2/2010111812_C9_RDR_2.CSV was done.\n",
        "Task 604, time: 518.511842012\n",
        "605"
       ]
      },
      {
       "output_type": "stream",
       "stream": "stdout",
       "text": [
        " /raid1/maye/rdr_out/verification/Ben_2012_2/2010111816_C6_RDR_2.CSV was done.\n",
        "Task 605, time: 519.285894156\n",
        "606"
       ]
      },
      {
       "output_type": "stream",
       "stream": "stdout",
       "text": [
        " /raid1/maye/rdr_out/verification/Ben_2012_2/2010122914_C4_RDR_2.CSV was done.\n",
        "Task 606, time: 519.911574125\n",
        "607"
       ]
      },
      {
       "output_type": "stream",
       "stream": "stdout",
       "text": [
        " /raid1/maye/rdr_out/verification/Ben_2012_2/2010102212_C9_RDR_2.CSV was done.\n",
        "Task 607, time: 521.25275898\n",
        "608"
       ]
      },
      {
       "output_type": "stream",
       "stream": "stdout",
       "text": [
        " /raid1/maye/rdr_out/verification/Ben_2012_2/2010111815_C7_RDR_2.CSV was done.\n",
        "Task 608, time: 523.636288166\n",
        "609 /raid1/maye/rdr_out/verification/Ben_2012_2/2010111817_C5_RDR_2.CSV was done.\n",
        "Task 609, time: 523.636496067\n",
        "610"
       ]
      },
      {
       "output_type": "stream",
       "stream": "stdout",
       "text": [
        " /raid1/maye/rdr_out/verification/Ben_2012_2/2010111814_C9_RDR_2.CSV was done.\n",
        "Task 610, time: 523.833935976\n",
        "611"
       ]
      },
      {
       "output_type": "stream",
       "stream": "stdout",
       "text": [
        " /raid1/maye/rdr_out/verification/Ben_2012_2/2010122912_C5_RDR_2.CSV was done.\n",
        "Task 611, time: 525.315387964\n",
        "612"
       ]
      },
      {
       "output_type": "stream",
       "stream": "stdout",
       "text": [
        " /raid1/maye/rdr_out/verification/Ben_2012_2/2010111816_C7_RDR_2.CSV was done.\n",
        "Task 612, time: 525.624006033\n",
        "613"
       ]
      },
      {
       "output_type": "stream",
       "stream": "stdout",
       "text": [
        " /raid1/maye/rdr_out/verification/Ben_2012_2/2010122916_C3_RDR_2.CSV was done.\n",
        "Task 613, time: 526.263483047\n",
        "614"
       ]
      },
      {
       "output_type": "stream",
       "stream": "stdout",
       "text": [
        " /raid1/maye/rdr_out/verification/Ben_2012_2/2010122914_C5_RDR_2.CSV was done.\n",
        "Task 614, time: 526.878785133\n",
        "615"
       ]
      },
      {
       "output_type": "stream",
       "stream": "stdout",
       "text": [
        " /raid1/maye/rdr_out/verification/Ben_2012_2/2010111817_C6_RDR_2.CSV was done.\n",
        "Task 615, time: 528.132266045\n",
        "616"
       ]
      },
      {
       "output_type": "stream",
       "stream": "stdout",
       "text": [
        " /raid1/maye/rdr_out/verification/Ben_2012_2/2010111815_C8_RDR_2.CSV was done.\n",
        "Task 616, time: 529.115219116\n",
        "617"
       ]
      },
      {
       "output_type": "stream",
       "stream": "stdout",
       "text": [
        " /raid1/maye/rdr_out/verification/Ben_2012_2/2010122912_C6_RDR_2.CSV was done.\n",
        "Task 617, time: 531.098917007\n",
        "618 /raid1/maye/rdr_out/verification/Ben_2012_2/2010122918_C3_RDR_2.CSV was done.\n",
        "Task 618, time: 531.099092007\n",
        "619"
       ]
      },
      {
       "output_type": "stream",
       "stream": "stdout",
       "text": [
        " /raid1/maye/rdr_out/verification/Ben_2012_2/2010111816_C8_RDR_2.CSV was done.\n",
        "Task 619, time: 531.846810102\n",
        "620"
       ]
      },
      {
       "output_type": "stream",
       "stream": "stdout",
       "text": [
        " /raid1/maye/rdr_out/verification/Ben_2012_2/2010122916_C4_RDR_2.CSV was done.\n",
        "Task 620, time: 532.460373163\n",
        "621"
       ]
      },
      {
       "output_type": "stream",
       "stream": "stdout",
       "text": [
        " /raid1/maye/rdr_out/verification/Ben_2012_2/2010122914_C6_RDR_2.CSV was done.\n",
        "Task 621, time: 533.166996002\n",
        "622"
       ]
      },
      {
       "output_type": "stream",
       "stream": "stdout",
       "text": [
        " /raid1/maye/rdr_out/verification/Ben_2012_2/2010111815_C9_RDR_2.CSV was done.\n",
        "Task 622, time: 533.543493032\n",
        "623"
       ]
      },
      {
       "output_type": "stream",
       "stream": "stdout",
       "text": [
        " /raid1/maye/rdr_out/verification/Ben_2012_2/2010111817_C7_RDR_2.CSV was done.\n",
        "Task 623, time: 534.687854052\n",
        "624"
       ]
      },
      {
       "output_type": "stream",
       "stream": "stdout",
       "text": [
        " /raid1/maye/rdr_out/verification/Ben_2012_2/2010122912_C7_RDR_2.CSV was done.\n",
        "Task 624, time: 535.518811941\n",
        "625"
       ]
      },
      {
       "output_type": "stream",
       "stream": "stdout",
       "text": [
        " /raid1/maye/rdr_out/verification/Ben_2012_2/2010122918_C4_RDR_2.CSV was done.\n",
        "Task 625, time: 536.904459953\n",
        "626"
       ]
      },
      {
       "output_type": "stream",
       "stream": "stdout",
       "text": [
        " /raid1/maye/rdr_out/verification/Ben_2012_2/2010111816_C9_RDR_2.CSV was done.\n",
        "Task 626, time: 537.482875109\n",
        "627"
       ]
      },
      {
       "output_type": "stream",
       "stream": "stdout",
       "text": [
        " /raid1/maye/rdr_out/verification/Ben_2012_2/2010122916_C5_RDR_2.CSV was done.\n",
        "Task 627, time: 539.335940123\n",
        "628 /raid1/maye/rdr_out/verification/Ben_2012_2/2010122914_C7_RDR_2.CSV was done.\n",
        "Task 628, time: 539.33612895\n",
        "629 /raid1/maye/rdr_out/verification/Ben_2012_2/2011012520_C3_RDR_2.CSV was done.\n",
        "Task 629, time: 539.336291075\n",
        "630"
       ]
      },
      {
       "output_type": "stream",
       "stream": "stdout",
       "text": [
        " /raid1/maye/rdr_out/verification/Ben_2012_2/2010111817_C8_RDR_2.CSV was done.\n",
        "Task 630, time: 540.274507046\n",
        "631"
       ]
      },
      {
       "output_type": "stream",
       "stream": "stdout",
       "text": [
        " /raid1/maye/rdr_out/verification/Ben_2012_2/2010122918_C5_RDR_2.CSV was done.\n",
        "Task 631, time: 541.236749172\n",
        "632"
       ]
      },
      {
       "output_type": "stream",
       "stream": "stdout",
       "text": [
        " /raid1/maye/rdr_out/verification/Ben_2012_2/2010122912_C8_RDR_2.CSV was done.\n",
        "Task 632, time: 542.117784023\n",
        "633"
       ]
      },
      {
       "output_type": "stream",
       "stream": "stdout",
       "text": [
        " /raid1/maye/rdr_out/verification/Ben_2012_2/2010122914_C8_RDR_2.CSV was done.\n",
        "Task 633, time: 544.090099096\n",
        "634"
       ]
      },
      {
       "output_type": "stream",
       "stream": "stdout",
       "text": [
        " /raid1/maye/rdr_out/verification/Ben_2012_2/2010122916_C6_RDR_2.CSV was done.\n",
        "Task 634, time: 544.476485968\n",
        "635"
       ]
      },
      {
       "output_type": "stream",
       "stream": "stdout",
       "text": [
        " /raid1/maye/rdr_out/verification/Ben_2012_2/2011012520_C4_RDR_2.CSV was done.\n",
        "Task 635, time: 545.010902166\n",
        "636"
       ]
      },
      {
       "output_type": "stream",
       "stream": "stdout",
       "text": [
        " /raid1/maye/rdr_out/verification/Ben_2012_2/2010111817_C9_RDR_2.CSV was done.\n",
        "Task 636, time: 546.049312115\n",
        "637 /raid1/maye/rdr_out/verification/Ben_2012_2/2010122918_C6_RDR_2.CSV was done.\n",
        "Task 637, time: 546.049489021\n",
        "638"
       ]
      },
      {
       "output_type": "stream",
       "stream": "stdout",
       "text": [
        " /raid1/maye/rdr_out/verification/Ben_2012_2/2010122912_C9_RDR_2.CSV was done.\n",
        "Task 638, time: 547.755853176\n",
        "639"
       ]
      },
      {
       "output_type": "stream",
       "stream": "stdout",
       "text": [
        " /raid1/maye/rdr_out/verification/Ben_2012_2/2010122914_C9_RDR_2.CSV was done.\n",
        "Task 639, time: 548.021940947\n",
        "640"
       ]
      },
      {
       "output_type": "stream",
       "stream": "stdout",
       "text": [
        " /raid1/maye/rdr_out/verification/Ben_2012_2/2011012522_C3_RDR_2.CSV was done.\n",
        "Task 640, time: 548.806612968\n",
        "641"
       ]
      },
      {
       "output_type": "stream",
       "stream": "stdout",
       "text": [
        " /raid1/maye/rdr_out/verification/Ben_2012_2/2010122916_C7_RDR_2.CSV was done.\n",
        "Task 641, time: 550.951372147\n",
        "642"
       ]
      },
      {
       "output_type": "stream",
       "stream": "stdout",
       "text": [
        " /raid1/maye/rdr_out/verification/Ben_2012_2/2011012520_C5_RDR_2.CSV was done.\n",
        "Task 642, time: 551.28006506\n",
        "643"
       ]
      },
      {
       "output_type": "stream",
       "stream": "stdout",
       "text": [
        " /raid1/maye/rdr_out/verification/Ben_2012_2/2010122918_C7_RDR_2.CSV was done.\n",
        "Task 643, time: 553.175470114\n",
        "644"
       ]
      },
      {
       "output_type": "stream",
       "stream": "stdout",
       "text": [
        " /raid1/maye/rdr_out/verification/Ben_2012_2/2011012600_C3_RDR_2.CSV was done.\n",
        "Task 644, time: 555.391983986\n",
        "645"
       ]
      },
      {
       "output_type": "stream",
       "stream": "stdout",
       "text": [
        " /raid1/maye/rdr_out/verification/Ben_2012_2/2011012522_C4_RDR_2.CSV was done.\n",
        "Task 645, time: 556.003189087\n",
        "646"
       ]
      },
      {
       "output_type": "stream",
       "stream": "stdout",
       "text": [
        " /raid1/maye/rdr_out/verification/Ben_2012_2/2010122916_C8_RDR_2.CSV was done.\n",
        "Task 646, time: 558.533339024\n",
        "647 /raid1/maye/rdr_out/verification/Ben_2012_2/2011012520_C6_RDR_2.CSV was done.\n",
        "Task 647, time: 558.533478975\n",
        "648"
       ]
      },
      {
       "output_type": "stream",
       "stream": "stdout",
       "text": [
        " /raid1/maye/rdr_out/verification/Ben_2012_2/2010122918_C8_RDR_2.CSV was done.\n",
        "Task 648, time: 558.893557072\n",
        "649"
       ]
      },
      {
       "output_type": "stream",
       "stream": "stdout",
       "text": [
        " /raid1/maye/rdr_out/verification/Ben_2012_2/2011012600_C4_RDR_2.CSV was done.\n",
        "Task 649, time: 561.357615948\n",
        "650 /raid1/maye/rdr_out/verification/Ben_2012_2/2011012522_C5_RDR_2.CSV was done.\n",
        "Task 650, time: 561.358253956\n",
        "651"
       ]
      },
      {
       "output_type": "stream",
       "stream": "stdout",
       "text": [
        " /raid1/maye/rdr_out/verification/Ben_2012_2/2011012520_C7_RDR_2.CSV was done.\n",
        "Task 651, time: 561.680979013\n",
        "652"
       ]
      },
      {
       "output_type": "stream",
       "stream": "stdout",
       "text": [
        " /raid1/maye/rdr_out/verification/Ben_2012_2/2010122916_C9_RDR_2.CSV was done.\n",
        "Task 652, time: 562.95067811\n",
        "653 /raid1/maye/rdr_out/verification/Ben_2012_2/2011022202_C3_RDR_2.CSV was done.\n",
        "Task 653, time: 562.950819969\n",
        "654"
       ]
      },
      {
       "output_type": "stream",
       "stream": "stdout",
       "text": [
        " /raid1/maye/rdr_out/verification/Ben_2012_2/2011022204_C3_RDR_2.CSV was done.\n",
        "Task 654, time: 564.633944035\n",
        "655"
       ]
      },
      {
       "output_type": "stream",
       "stream": "stdout",
       "text": [
        " /raid1/maye/rdr_out/verification/Ben_2012_2/2010122918_C9_RDR_2.CSV was done.\n",
        "Task 655, time: 565.917974949\n",
        "656"
       ]
      },
      {
       "output_type": "stream",
       "stream": "stdout",
       "text": [
        " /raid1/maye/rdr_out/verification/Ben_2012_2/2011012600_C5_RDR_2.CSV was done.\n",
        "Task 656, time: 566.653499126\n",
        "657"
       ]
      },
      {
       "output_type": "stream",
       "stream": "stdout",
       "text": [
        " /raid1/maye/rdr_out/verification/Ben_2012_2/2011022206_C3_RDR_2.CSV was done.\n",
        "Task 657, time: 568.978055\n",
        "658 /raid1/maye/rdr_out/verification/Ben_2012_2/2011012522_C6_RDR_2.CSV was done.\n",
        "Task 658, time: 568.97872901\n",
        "659 /raid1/maye/rdr_out/verification/Ben_2012_2/2011012520_C8_RDR_2.CSV was done.\n",
        "Task 659, time: 568.97893405\n",
        "660"
       ]
      },
      {
       "output_type": "stream",
       "stream": "stdout",
       "text": [
        " /raid1/maye/rdr_out/verification/Ben_2012_2/2011022202_C4_RDR_2.CSV was done.\n",
        "Task 660, time: 569.212990046\n",
        "661"
       ]
      },
      {
       "output_type": "stream",
       "stream": "stdout",
       "text": [
        " /raid1/maye/rdr_out/verification/Ben_2012_2/2011022204_C4_RDR_2.CSV was done.\n",
        "Task 661, time: 569.793883085\n",
        "662"
       ]
      },
      {
       "output_type": "stream",
       "stream": "stdout",
       "text": [
        " /raid1/maye/rdr_out/verification/Ben_2012_2/2011012600_C6_RDR_2.CSV was done.\n",
        "Task 662, time: 572.253221035\n",
        "663"
       ]
      },
      {
       "output_type": "stream",
       "stream": "stdout",
       "text": [
        " /raid1/maye/rdr_out/verification/Ben_2012_2/2011022206_C4_RDR_2.CSV was done.\n",
        "Task 663, time: 573.390529156\n",
        "664 /raid1/maye/rdr_out/verification/Ben_2012_2/2011012522_C7_RDR_2.CSV was done.\n",
        "Task 664, time: 573.390737057\n",
        "665"
       ]
      },
      {
       "output_type": "stream",
       "stream": "stdout",
       "text": [
        " /raid1/maye/rdr_out/verification/Ben_2012_2/2011012520_C9_RDR_2.CSV was done.\n",
        "Task 665, time: 575.639402151\n",
        "666 /raid1/maye/rdr_out/verification/Ben_2012_2/2011022202_C5_RDR_2.CSV was done.\n",
        "Task 666, time: 575.63962698\n",
        "667"
       ]
      },
      {
       "output_type": "stream",
       "stream": "stdout",
       "text": [
        " /raid1/maye/rdr_out/verification/Ben_2012_2/2011022204_C5_RDR_2.CSV was done.\n",
        "Task 667, time: 575.771836996\n",
        "668"
       ]
      },
      {
       "output_type": "stream",
       "stream": "stdout",
       "text": [
        " /raid1/maye/rdr_out/verification/Ben_2012_2/2011012600_C7_RDR_2.CSV was done.\n",
        "Task 668, time: 576.535773039\n",
        "669 /raid1/maye/rdr_out/verification/Ben_2012_2/2011022206_C5_RDR_2.CSV was done.\n",
        "Task 669, time: 576.561741114\n",
        "670"
       ]
      },
      {
       "output_type": "stream",
       "stream": "stdout",
       "text": [
        " /raid1/maye/rdr_out/verification/Ben_2012_2/2011022207_C3_RDR_2.CSV was done.\n",
        "Task 670, time: 579.062721014\n",
        "671"
       ]
      },
      {
       "output_type": "stream",
       "stream": "stdout",
       "text": [
        " /raid1/maye/rdr_out/verification/Ben_2012_2/2011012522_C8_RDR_2.CSV was done.\n",
        "Task 671, time: 580.878606081\n",
        "672 /raid1/maye/rdr_out/verification/Ben_2012_2/2011022202_C6_RDR_2.CSV was done.\n",
        "Task 672, time: 580.879276037\n",
        "673"
       ]
      },
      {
       "output_type": "stream",
       "stream": "stdout",
       "text": [
        " /raid1/maye/rdr_out/verification/Ben_2012_2/2011022204_C6_RDR_2.CSV was done.\n",
        "Task 673, time: 581.439511061\n",
        "674"
       ]
      },
      {
       "output_type": "stream",
       "stream": "stdout",
       "text": [
        " /raid1/maye/rdr_out/verification/Ben_2012_2/2011022208_C3_RDR_2.CSV was done.\n",
        "Task 674, time: 582.800914049\n",
        "675"
       ]
      },
      {
       "output_type": "stream",
       "stream": "stdout",
       "text": [
        " /raid1/maye/rdr_out/verification/Ben_2012_2/2011012600_C8_RDR_2.CSV was done.\n",
        "Task 675, time: 582.946532011\n",
        "676"
       ]
      },
      {
       "output_type": "stream",
       "stream": "stdout",
       "text": [
        " /raid1/maye/rdr_out/verification/Ben_2012_2/2011022206_C6_RDR_2.CSV was done.\n",
        "Task 676, time: 584.000072002\n",
        "677 /raid1/maye/rdr_out/verification/Ben_2012_2/2011022207_C4_RDR_2.CSV was done.\n",
        "Task 677, time: 584.000277996\n",
        "678"
       ]
      },
      {
       "output_type": "stream",
       "stream": "stdout",
       "text": [
        " /raid1/maye/rdr_out/verification/Ben_2012_2/2011012522_C9_RDR_2.CSV was done.\n",
        "Task 678, time: 585.477806091\n",
        "679"
       ]
      },
      {
       "output_type": "stream",
       "stream": "stdout",
       "text": [
        " /raid1/maye/rdr_out/verification/Ben_2012_2/2011022202_C7_RDR_2.CSV was done.\n",
        "Task 679, time: 586.682976961\n",
        "680"
       ]
      },
      {
       "output_type": "stream",
       "stream": "stdout",
       "text": [
        " /raid1/maye/rdr_out/verification/Ben_2012_2/2011022204_C7_RDR_2.CSV was done.\n",
        "Task 680, time: 587.542694092\n",
        "681"
       ]
      },
      {
       "output_type": "stream",
       "stream": "stdout",
       "text": [
        " /raid1/maye/rdr_out/verification/Ben_2012_2/2011022208_C4_RDR_2.CSV was done.\n",
        "Task 681, time: 587.696900129\n",
        "682"
       ]
      },
      {
       "output_type": "stream",
       "stream": "stdout",
       "text": [
        " /raid1/maye/rdr_out/verification/Ben_2012_2/2011032108_C3_RDR_2.CSV was done.\n",
        "Task 682, time: 589.592913151\n",
        "683"
       ]
      },
      {
       "output_type": "stream",
       "stream": "stdout",
       "text": [
        " /raid1/maye/rdr_out/verification/Ben_2012_2/2011012600_C9_RDR_2.CSV was done.\n",
        "Task 683, time: 589.738176107\n",
        "684"
       ]
      },
      {
       "output_type": "stream",
       "stream": "stdout",
       "text": [
        " /raid1/maye/rdr_out/verification/Ben_2012_2/2011022207_C5_RDR_2.CSV was done.\n",
        "Task 684, time: 590.523842096\n",
        "685"
       ]
      },
      {
       "output_type": "stream",
       "stream": "stdout",
       "text": [
        " /raid1/maye/rdr_out/verification/Ben_2012_2/2011022206_C7_RDR_2.CSV was done.\n",
        "Task 685, time: 591.217528105\n",
        "686"
       ]
      },
      {
       "output_type": "stream",
       "stream": "stdout",
       "text": [
        " /raid1/maye/rdr_out/verification/Ben_2012_2/2011022202_C8_RDR_2.CSV was done.\n",
        "Task 686, time: 592.351497173\n",
        "687"
       ]
      },
      {
       "output_type": "stream",
       "stream": "stdout",
       "text": [
        " /raid1/maye/rdr_out/verification/Ben_2012_2/2011022204_C8_RDR_2.CSV was done.\n",
        "Task 687, time: 593.182248116\n",
        "688"
       ]
      },
      {
       "output_type": "stream",
       "stream": "stdout",
       "text": [
        " /raid1/maye/rdr_out/verification/Ben_2012_2/2011022208_C5_RDR_2.CSV was done.\n",
        "Task 688, time: 594.90240407\n",
        "689"
       ]
      },
      {
       "output_type": "stream",
       "stream": "stdout",
       "text": [
        " /raid1/maye/rdr_out/verification/Ben_2012_2/2011032108_C4_RDR_2.CSV was done.\n",
        "Task 689, time: 595.071675062\n",
        "690"
       ]
      },
      {
       "output_type": "stream",
       "stream": "stdout",
       "text": [
        " /raid1/maye/rdr_out/verification/Ben_2012_2/2011022207_C6_RDR_2.CSV was done.\n",
        "Task 690, time: 598.187731981\n",
        "691 /raid1/maye/rdr_out/verification/Ben_2012_2/2011022206_C8_RDR_2.CSV was done.\n",
        "Task 691, time: 598.187875032\n",
        "692 /raid1/maye/rdr_out/verification/Ben_2012_2/2011022202_C9_RDR_2.CSV was done.\n",
        "Task 692, time: 598.18803215\n",
        "693 /raid1/maye/rdr_out/verification/Ben_2012_2/2011022204_C9_RDR_2.CSV was done.\n",
        "Task 693, time: 598.188434124\n",
        "694"
       ]
      },
      {
       "output_type": "stream",
       "stream": "stdout",
       "text": [
        " /raid1/maye/rdr_out/verification/Ben_2012_2/2011022208_C6_RDR_2.CSV was done.\n",
        "Task 694, time: 599.758559942\n",
        "695 /raid1/maye/rdr_out/verification/Ben_2012_2/2011032110_C3_RDR_2.CSV was done.\n",
        "Task 695, time: 599.759190083\n",
        "696"
       ]
      },
      {
       "output_type": "stream",
       "stream": "stdout",
       "text": [
        " /raid1/maye/rdr_out/verification/Ben_2012_2/2011022207_C7_RDR_2.CSV was done.\n",
        "Task 696, time: 601.89222312\n",
        "697"
       ]
      },
      {
       "output_type": "stream",
       "stream": "stdout",
       "text": [
        " /raid1/maye/rdr_out/verification/Ben_2012_2/2011032108_C5_RDR_2.CSV was done.\n",
        "Task 697, time: 602.100372076\n",
        "698"
       ]
      },
      {
       "output_type": "stream",
       "stream": "stdout",
       "text": [
        " /raid1/maye/rdr_out/verification/Ben_2012_2/2011022206_C9_RDR_2.CSV was done.\n",
        "Task 698, time: 604.761959076\n",
        "699 /raid1/maye/rdr_out/verification/Ben_2012_2/2011022208_C7_RDR_2.CSV was done.\n",
        "Task 699, time: 604.762603998\n",
        "700"
       ]
      },
      {
       "output_type": "stream",
       "stream": "stdout",
       "text": [
        " /raid1/maye/rdr_out/verification/Ben_2012_2/2011032112_C3_RDR_2.CSV was done.\n",
        "Task 700, time: 604.852715969\n",
        "701"
       ]
      },
      {
       "output_type": "stream",
       "stream": "stdout",
       "text": [
        " /raid1/maye/rdr_out/verification/Ben_2012_2/2011032110_C4_RDR_2.CSV was done.\n",
        "Task 701, time: 605.267653942\n",
        "702"
       ]
      },
      {
       "output_type": "stream",
       "stream": "stdout",
       "text": [
        " /raid1/maye/rdr_out/verification/Ben_2012_2/2011032108_C6_RDR_2.CSV was done.\n",
        "Task 702, time: 605.952021122\n",
        "703"
       ]
      },
      {
       "output_type": "stream",
       "stream": "stdout",
       "text": [
        " /raid1/maye/rdr_out/verification/Ben_2012_2/2011022207_C8_RDR_2.CSV was done.\n",
        "Task 703, time: 607.086106062\n",
        "704"
       ]
      },
      {
       "output_type": "stream",
       "stream": "stdout",
       "text": [
        " /raid1/maye/rdr_out/verification/Ben_2012_2/2011022208_C8_RDR_2.CSV was done.\n",
        "Task 704, time: 608.821321964\n",
        "705 /raid1/maye/rdr_out/verification/Ben_2012_2/2011032112_C4_RDR_2.CSV was done.\n",
        "Task 705, time: 608.821958065\n",
        "706"
       ]
      },
      {
       "output_type": "stream",
       "stream": "stdout",
       "text": [
        " /raid1/maye/rdr_out/verification/Ben_2012_2/2011032110_C5_RDR_2.CSV was done.\n",
        "Task 706, time: 609.829056025\n",
        "707"
       ]
      },
      {
       "output_type": "stream",
       "stream": "stdout",
       "text": [
        " /raid1/maye/rdr_out/verification/Ben_2012_2/2011032114_C3_RDR_2.CSV was done.\n",
        "Task 707, time: 611.675908089\n",
        "708"
       ]
      },
      {
       "output_type": "stream",
       "stream": "stdout",
       "text": [
        " /raid1/maye/rdr_out/verification/Ben_2012_2/2011022207_C9_RDR_2.CSV was done.\n",
        "Task 708, time: 611.933632135\n",
        "709"
       ]
      },
      {
       "output_type": "stream",
       "stream": "stdout",
       "text": [
        " /raid1/maye/rdr_out/verification/Ben_2012_2/2011032108_C7_RDR_2.CSV was done.\n",
        "Task 709, time: 612.079280138\n",
        "710"
       ]
      },
      {
       "output_type": "stream",
       "stream": "stdout",
       "text": [
        " /raid1/maye/rdr_out/verification/Ben_2012_2/2011041716_C3_RDR_2.CSV was done.\n",
        "Task 710, time: 613.331908941\n",
        "711"
       ]
      },
      {
       "output_type": "stream",
       "stream": "stdout",
       "text": [
        " /raid1/maye/rdr_out/verification/Ben_2012_2/2011022208_C9_RDR_2.CSV was done.\n",
        "Task 711, time: 614.026349068\n",
        "712"
       ]
      },
      {
       "output_type": "stream",
       "stream": "stdout",
       "text": [
        " /raid1/maye/rdr_out/verification/Ben_2012_2/2011032112_C5_RDR_2.CSV was done.\n",
        "Task 712, time: 615.145107985\n",
        "713"
       ]
      },
      {
       "output_type": "stream",
       "stream": "stdout",
       "text": [
        " /raid1/maye/rdr_out/verification/Ben_2012_2/2011032110_C6_RDR_2.CSV was done.\n",
        "Task 713, time: 616.571547985\n",
        "714 /raid1/maye/rdr_out/verification/Ben_2012_2/2011032114_C4_RDR_2.CSV was done.\n",
        "Task 714, time: 616.605996132\n",
        "715"
       ]
      },
      {
       "output_type": "stream",
       "stream": "stdout",
       "text": [
        " /raid1/maye/rdr_out/verification/Ben_2012_2/2011041718_C3_RDR_2.CSV was done.\n",
        "Task 715, time: 618.581272125\n",
        "716"
       ]
      },
      {
       "output_type": "stream",
       "stream": "stdout",
       "text": [
        " /raid1/maye/rdr_out/verification/Ben_2012_2/2011032108_C8_RDR_2.CSV was done.\n",
        "Task 716, time: 619.490987062\n",
        "717 /raid1/maye/rdr_out/verification/Ben_2012_2/2011041716_C4_RDR_2.CSV was done.\n",
        "Task 717, time: 619.491201162\n",
        "718"
       ]
      },
      {
       "output_type": "stream",
       "stream": "stdout",
       "text": [
        " /raid1/maye/rdr_out/verification/Ben_2012_2/2011032112_C6_RDR_2.CSV was done.\n",
        "Task 718, time: 620.31748414\n",
        "719"
       ]
      },
      {
       "output_type": "stream",
       "stream": "stdout",
       "text": [
        " /raid1/maye/rdr_out/verification/Ben_2012_2/2011032110_C7_RDR_2.CSV was done.\n",
        "Task 719, time: 620.734125137\n",
        "720"
       ]
      },
      {
       "output_type": "stream",
       "stream": "stdout",
       "text": [
        " /raid1/maye/rdr_out/verification/Ben_2012_2/2011032114_C5_RDR_2.CSV was done.\n",
        "Task 720, time: 622.089358091\n",
        "721"
       ]
      },
      {
       "output_type": "stream",
       "stream": "stdout",
       "text": [
        " /raid1/maye/rdr_out/verification/Ben_2012_2/2011032108_C9_RDR_2.CSV was done.\n",
        "Task 721, time: 622.988564014\n",
        "722"
       ]
      },
      {
       "output_type": "stream",
       "stream": "stdout",
       "text": [
        " /raid1/maye/rdr_out/verification/Ben_2012_2/2011041718_C4_RDR_2.CSV was done.\n",
        "Task 722, time: 623.086449146\n",
        "723"
       ]
      },
      {
       "output_type": "stream",
       "stream": "stdout",
       "text": [
        " /raid1/maye/rdr_out/verification/Ben_2012_2/2011041716_C5_RDR_2.CSV was done.\n",
        "Task 723, time: 625.91094017\n",
        "724 /raid1/maye/rdr_out/verification/Ben_2012_2/2011032112_C7_RDR_2.CSV was done.\n",
        "Task 724, time: 625.911335945\n",
        "725"
       ]
      },
      {
       "output_type": "stream",
       "stream": "stdout",
       "text": [
        " /raid1/maye/rdr_out/verification/Ben_2012_2/2011041719_C3_RDR_2.CSV was done.\n",
        "Task 725, time: 626.711873055\n",
        "726 /raid1/maye/rdr_out/verification/Ben_2012_2/2011032110_C8_RDR_2.CSV was done.\n",
        "Task 726, time: 626.712573051\n",
        "727"
       ]
      },
      {
       "output_type": "stream",
       "stream": "stdout",
       "text": [
        " /raid1/maye/rdr_out/verification/Ben_2012_2/2011032114_C6_RDR_2.CSV was done.\n",
        "Task 727, time: 627.382313013\n",
        "728"
       ]
      },
      {
       "output_type": "stream",
       "stream": "stdout",
       "text": [
        " /raid1/maye/rdr_out/verification/Ben_2012_2/2011041718_C5_RDR_2.CSV was done.\n",
        "Task 728, time: 628.340710163\n",
        "729"
       ]
      },
      {
       "output_type": "stream",
       "stream": "stdout",
       "text": [
        " /raid1/maye/rdr_out/verification/Ben_2012_2/2011041716_C6_RDR_2.CSV was done.\n",
        "Task 729, time: 629.919513941\n",
        "730 /raid1/maye/rdr_out/verification/Ben_2012_2/2011041720_C3_RDR_2.CSV was done.\n",
        "Task 730, time: 629.920192003\n",
        "731"
       ]
      },
      {
       "output_type": "stream",
       "stream": "stdout",
       "text": [
        " /raid1/maye/rdr_out/verification/Ben_2012_2/2011032112_C8_RDR_2.CSV was done.\n",
        "Task 731, time: 632.52590394\n",
        "732"
       ]
      },
      {
       "output_type": "stream",
       "stream": "stdout",
       "text": [
        " /raid1/maye/rdr_out/verification/Ben_2012_2/2011041719_C4_RDR_2.CSV was done.\n",
        "Task 732, time: 633.303392172\n",
        "733 /raid1/maye/rdr_out/verification/Ben_2012_2/2011032110_C9_RDR_2.CSV was done.\n",
        "Task 733, time: 633.304033995\n",
        "734"
       ]
      },
      {
       "output_type": "stream",
       "stream": "stdout",
       "text": [
        " /raid1/maye/rdr_out/verification/Ben_2012_2/2011032114_C7_RDR_2.CSV was done.\n",
        "Task 734, time: 633.845389128\n",
        "735"
       ]
      },
      {
       "output_type": "stream",
       "stream": "stdout",
       "text": [
        " /raid1/maye/rdr_out/verification/Ben_2012_2/2011041716_C7_RDR_2.CSV was done.\n",
        "Task 735, time: 633.973026991\n",
        "736"
       ]
      },
      {
       "output_type": "stream",
       "stream": "stdout",
       "text": [
        " /raid1/maye/rdr_out/verification/Ben_2012_2/2011041720_C4_RDR_2.CSV was done.\n",
        "Task 736, time: 635.497356176\n",
        "737 /raid1/maye/rdr_out/verification/Ben_2012_2/2011041718_C6_RDR_2.CSV was done.\n",
        "Task 737, time: 635.49792695\n",
        "738"
       ]
      },
      {
       "output_type": "stream",
       "stream": "stdout",
       "text": [
        " /raid1/maye/rdr_out/verification/Ben_2012_2/2011032112_C9_RDR_2.CSV was done.\n",
        "Task 738, time: 637.51544404\n",
        "739"
       ]
      },
      {
       "output_type": "stream",
       "stream": "stdout",
       "text": [
        " /raid1/maye/rdr_out/verification/Ben_2012_2/2011041721_C3_RDR_2.CSV was done.\n",
        "Task 739, time: 639.509678125\n",
        "740"
       ]
      },
      {
       "output_type": "stream",
       "stream": "stdout",
       "text": [
        " /raid1/maye/rdr_out/verification/Ben_2012_2/2011041719_C5_RDR_2.CSV was done.\n",
        "Task 740, time: 640.933441162\n",
        "741 /raid1/maye/rdr_out/verification/Ben_2012_2/2011032114_C8_RDR_2.CSV was done.\n",
        "Task 741, time: 640.933578968\n",
        "742 /raid1/maye/rdr_out/verification/Ben_2012_2/2011041716_C8_RDR_2.CSV was done.\n",
        "Task 742, time: 640.933699131\n",
        "743 /raid1/maye/rdr_out/verification/Ben_2012_2/2011041720_C5_RDR_2.CSV was done.\n",
        "Task 743, time: 640.933828115\n",
        "744 /raid1/maye/rdr_out/verification/Ben_2012_2/2011041718_C7_RDR_2.CSV was done.\n",
        "Task 744, time: 640.934103966\n",
        "745"
       ]
      },
      {
       "output_type": "stream",
       "stream": "stdout",
       "text": [
        " /raid1/maye/rdr_out/verification/Ben_2012_2/2011041721_C4_RDR_2.CSV was done.\n",
        "Task 745, time: 642.39872098\n",
        "746"
       ]
      },
      {
       "output_type": "stream",
       "stream": "stdout",
       "text": [
        " /raid1/maye/rdr_out/verification/Ben_2012_2/2011041719_C6_RDR_2.CSV was done.\n",
        "Task 746, time: 644.586863041\n",
        "747"
       ]
      },
      {
       "output_type": "stream",
       "stream": "stdout",
       "text": [
        " /raid1/maye/rdr_out/verification/Ben_2012_2/2011041716_C9_RDR_2.CSV was done.\n",
        "Task 747, time: 646.524676085\n",
        "748 /raid1/maye/rdr_out/verification/Ben_2012_2/2011032114_C9_RDR_2.CSV was done.\n",
        "Task 748, time: 646.525300026\n",
        "749"
       ]
      },
      {
       "output_type": "stream",
       "stream": "stdout",
       "text": [
        " /raid1/maye/rdr_out/verification/Ben_2012_2/2011041720_C6_RDR_2.CSV was done.\n",
        "Task 749, time: 647.13269496\n",
        "750 /raid1/maye/rdr_out/verification/Ben_2012_2/2011041718_C8_RDR_2.CSV was done.\n",
        "Task 750, time: 647.133272171\n",
        "751"
       ]
      },
      {
       "output_type": "stream",
       "stream": "stdout",
       "text": [
        " /raid1/maye/rdr_out/verification/Ben_2012_2/2011041722_C3_RDR_2.CSV was done.\n",
        "Task 751, time: 647.843556166\n",
        "752 /raid1/maye/rdr_out/verification/Ben_2012_2/2011041719_C7_RDR_2.CSV was done.\n",
        "Task 752, time: 647.844220161\n",
        "753"
       ]
      },
      {
       "output_type": "stream",
       "stream": "stdout",
       "text": [
        " /raid1/maye/rdr_out/verification/Ben_2012_2/2011041721_C5_RDR_2.CSV was done.\n",
        "Task 753, time: 648.720072031\n",
        "754"
       ]
      },
      {
       "output_type": "stream",
       "stream": "stdout",
       "text": [
        " /raid1/maye/rdr_out/verification/Ben_2012_2/2011041720_C7_RDR_2.CSV was done.\n",
        "Task 754, time: 651.324969053\n",
        "755"
       ]
      },
      {
       "output_type": "stream",
       "stream": "stdout",
       "text": [
        " /raid1/maye/rdr_out/verification/Ben_2012_2/2011041718_C9_RDR_2.CSV was done.\n",
        "Task 755, time: 652.044605017\n",
        "756"
       ]
      },
      {
       "output_type": "stream",
       "stream": "stdout",
       "text": [
        " /raid1/maye/rdr_out/verification/Ben_2012_2/2011051500_C3_RDR_2.CSV was done.\n",
        "Task 756, time: 653.041383028\n",
        "757"
       ]
      },
      {
       "output_type": "stream",
       "stream": "stdout",
       "text": [
        " /raid1/maye/rdr_out/verification/Ben_2012_2/2011041719_C8_RDR_2.CSV was done.\n",
        "Task 757, time: 653.542988062\n",
        "758"
       ]
      },
      {
       "output_type": "stream",
       "stream": "stdout",
       "text": [
        " /raid1/maye/rdr_out/verification/Ben_2012_2/2011041722_C4_RDR_2.CSV was done.\n",
        "Task 758, time: 655.165563107\n",
        "759 /raid1/maye/rdr_out/verification/Ben_2012_2/2011041721_C6_RDR_2.CSV was done.\n",
        "Task 759, time: 655.165789127\n",
        "760 /raid1/maye/rdr_out/verification/Ben_2012_2/2011041720_C8_RDR_2.CSV was done.\n",
        "Task 760, time: 655.165975094\n",
        "761"
       ]
      },
      {
       "output_type": "stream",
       "stream": "stdout",
       "text": [
        " /raid1/maye/rdr_out/verification/Ben_2012_2/2011051500_C4_RDR_2.CSV was done.\n",
        "Task 761, time: 656.176855087\n",
        "762"
       ]
      },
      {
       "output_type": "stream",
       "stream": "stdout",
       "text": [
        " /raid1/maye/rdr_out/verification/Ben_2012_2/2011041719_C9_RDR_2.CSV was done.\n",
        "Task 762, time: 658.059514046\n",
        "763"
       ]
      },
      {
       "output_type": "stream",
       "stream": "stdout",
       "text": [
        " /raid1/maye/rdr_out/verification/Ben_2012_2/2011041721_C7_RDR_2.CSV was done.\n",
        "Task 763, time: 658.29240799\n",
        "764"
       ]
      },
      {
       "output_type": "stream",
       "stream": "stdout",
       "text": [
        " /raid1/maye/rdr_out/verification/Ben_2012_2/2011041722_C5_RDR_2.CSV was done.\n",
        "Task 764, time: 659.090729952\n",
        "765"
       ]
      },
      {
       "output_type": "stream",
       "stream": "stdout",
       "text": [
        " /raid1/maye/rdr_out/verification/Ben_2012_2/2011041720_C9_RDR_2.CSV was done.\n",
        "Task 765, time: 659.181852102\n",
        "766"
       ]
      },
      {
       "output_type": "stream",
       "stream": "stdout",
       "text": [
        " /raid1/maye/rdr_out/verification/Ben_2012_2/2011051502_C3_RDR_2.CSV was done.\n",
        "Task 766, time: 660.09889698\n",
        "767"
       ]
      },
      {
       "output_type": "stream",
       "stream": "stdout",
       "text": [
        " /raid1/maye/rdr_out/verification/Ben_2012_2/2011051503_C3_RDR_2.CSV was done.\n",
        "Task 767, time: 661.357995033\n",
        "768"
       ]
      },
      {
       "output_type": "stream",
       "stream": "stdout",
       "text": [
        " /raid1/maye/rdr_out/verification/Ben_2012_2/2011051500_C5_RDR_2.CSV was done.\n",
        "Task 768, time: 662.022825956\n",
        "769"
       ]
      },
      {
       "output_type": "stream",
       "stream": "stdout",
       "text": [
        " /raid1/maye/rdr_out/verification/Ben_2012_2/2011041721_C8_RDR_2.CSV was done.\n",
        "Task 769, time: 662.811875105\n",
        "770"
       ]
      },
      {
       "output_type": "stream",
       "stream": "stdout",
       "text": [
        " /raid1/maye/rdr_out/verification/Ben_2012_2/2011041722_C6_RDR_2.CSV was done.\n",
        "Task 770, time: 664.706813097\n",
        "771"
       ]
      },
      {
       "output_type": "stream",
       "stream": "stdout",
       "text": [
        " /raid1/maye/rdr_out/verification/Ben_2012_2/2011051503_C4_RDR_2.CSV was done.\n",
        "Task 771, time: 664.810058117\n",
        "772"
       ]
      },
      {
       "output_type": "stream",
       "stream": "stdout",
       "text": [
        " /raid1/maye/rdr_out/verification/Ben_2012_2/2011051502_C4_RDR_2.CSV was done.\n",
        "Task 772, time: 665.449440956\n",
        "773 /raid1/maye/rdr_out/verification/Ben_2012_2/2011051504_C3_RDR_2.CSV was done.\n",
        "Task 773, time: 665.450116158\n",
        "774"
       ]
      },
      {
       "output_type": "stream",
       "stream": "stdout",
       "text": [
        " /raid1/maye/rdr_out/verification/Ben_2012_2/2011051500_C6_RDR_2.CSV was done.\n",
        "Task 774, time: 666.984226942\n",
        "775"
       ]
      },
      {
       "output_type": "stream",
       "stream": "stdout",
       "text": [
        " /raid1/maye/rdr_out/verification/Ben_2012_2/2011041721_C9_RDR_2.CSV was done.\n",
        "Task 775, time: 668.141168118\n",
        "776"
       ]
      },
      {
       "output_type": "stream",
       "stream": "stdout",
       "text": [
        " /raid1/maye/rdr_out/verification/Ben_2012_2/2011041722_C7_RDR_2.CSV was done.\n",
        "Task 776, time: 668.5651021\n",
        "777"
       ]
      },
      {
       "output_type": "stream",
       "stream": "stdout",
       "text": [
        " /raid1/maye/rdr_out/verification/Ben_2012_2/2011051503_C5_RDR_2.CSV was done.\n",
        "Task 777, time: 669.322530031\n",
        "778"
       ]
      },
      {
       "output_type": "stream",
       "stream": "stdout",
       "text": [
        " /raid1/maye/rdr_out/verification/Ben_2012_2/2011051504_C4_RDR_2.CSV was done.\n",
        "Task 778, time: 672.060487032\n",
        "779"
       ]
      },
      {
       "output_type": "stream",
       "stream": "stdout",
       "text": [
        " /raid1/maye/rdr_out/verification/Ben_2012_2/2011051502_C5_RDR_2.CSV was done.\n",
        "Task 779, time: 672.536388159\n",
        "780 /raid1/maye/rdr_out/verification/Ben_2012_2/2011051500_C7_RDR_2.CSV was done.\n",
        "Task 780, time: 672.536613941\n",
        "781 /raid1/maye/rdr_out/verification/Ben_2012_2/2011051505_C3_RDR_2.CSV was done.\n",
        "Task 781, time: 672.536815166\n",
        "782"
       ]
      }
     ]
    },
    {
     "cell_type": "code",
     "collapsed": false,
     "input": [],
     "language": "python",
     "metadata": {},
     "outputs": []
    }
   ],
   "metadata": {}
  }
 ]
}