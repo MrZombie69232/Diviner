{
 "metadata": {
  "name": "",
  "signature": "sha256:ab9a3d2894b24d932b79948cec58e5411b22128c8dd5b57838d6fb0b2f88352b"
 },
 "nbformat": 3,
 "nbformat_minor": 0,
 "worksheets": [
  {
   "cells": [
    {
     "cell_type": "code",
     "collapsed": false,
     "input": [
      "from diviner import file_utils as fu"
     ],
     "language": "python",
     "metadata": {},
     "outputs": [],
     "prompt_number": 1
    },
    {
     "cell_type": "code",
     "collapsed": false,
     "input": [
      "fnames = !ls ~/rdr_data/*.zip"
     ],
     "language": "python",
     "metadata": {},
     "outputs": [],
     "prompt_number": 2
    },
    {
     "cell_type": "code",
     "collapsed": false,
     "input": [
      "len(fnames)"
     ],
     "language": "python",
     "metadata": {},
     "outputs": [
      {
       "metadata": {},
       "output_type": "pyout",
       "prompt_number": 3,
       "text": [
        "35314"
       ]
      }
     ],
     "prompt_number": 3
    },
    {
     "cell_type": "code",
     "collapsed": false,
     "input": [
      "qge_data=[]\n",
      "todo = fnames[:]\n",
      "for i,fname in enumerate(todo):\n",
      "    try:\n",
      "        rdr = fu.RDRReader(fname)\n",
      "    except IOError:\n",
      "        print fname\n",
      "    if i % 500 == 0: \n",
      "        print i*100./len(todo),' % done'\n",
      "    qge_data.append((i,rdr.read_df(nrows=1, do_parse_times=False).qge[0]))"
     ],
     "language": "python",
     "metadata": {},
     "outputs": [
      {
       "output_type": "stream",
       "stream": "stdout",
       "text": [
        "0.0  % done\n",
        "1.41586906043"
       ]
      },
      {
       "output_type": "stream",
       "stream": "stdout",
       "text": [
        "  % done\n",
        "2.83173812086"
       ]
      },
      {
       "output_type": "stream",
       "stream": "stdout",
       "text": [
        "  % done\n",
        "4.24760718129"
       ]
      },
      {
       "output_type": "stream",
       "stream": "stdout",
       "text": [
        "  % done\n",
        "5.66347624172"
       ]
      },
      {
       "output_type": "stream",
       "stream": "stdout",
       "text": [
        "  % done\n",
        "7.07934530215"
       ]
      },
      {
       "output_type": "stream",
       "stream": "stdout",
       "text": [
        "  % done\n",
        "8.49521436258"
       ]
      },
      {
       "output_type": "stream",
       "stream": "stdout",
       "text": [
        "  % done\n",
        "9.91108342301"
       ]
      },
      {
       "output_type": "stream",
       "stream": "stdout",
       "text": [
        "  % done\n",
        "11.3269524834"
       ]
      },
      {
       "output_type": "stream",
       "stream": "stdout",
       "text": [
        "  % done\n",
        "12.7428215439"
       ]
      },
      {
       "output_type": "stream",
       "stream": "stdout",
       "text": [
        "  % done\n",
        "14.1586906043"
       ]
      },
      {
       "output_type": "stream",
       "stream": "stdout",
       "text": [
        "  % done\n",
        "15.5745596647"
       ]
      },
      {
       "output_type": "stream",
       "stream": "stdout",
       "text": [
        "  % done\n",
        "16.9904287252"
       ]
      },
      {
       "output_type": "stream",
       "stream": "stdout",
       "text": [
        "  % done\n",
        "18.4062977856"
       ]
      },
      {
       "output_type": "stream",
       "stream": "stdout",
       "text": [
        "  % done\n",
        "19.822166846"
       ]
      },
      {
       "output_type": "stream",
       "stream": "stdout",
       "text": [
        "  % done\n",
        "21.2380359064"
       ]
      },
      {
       "output_type": "stream",
       "stream": "stdout",
       "text": [
        "  % done\n",
        "22.6539049669"
       ]
      },
      {
       "output_type": "stream",
       "stream": "stdout",
       "text": [
        "  % done\n",
        "24.0697740273"
       ]
      },
      {
       "output_type": "stream",
       "stream": "stdout",
       "text": [
        "  % done\n",
        "25.4856430877"
       ]
      },
      {
       "output_type": "stream",
       "stream": "stdout",
       "text": [
        "  % done\n",
        "26.9015121482"
       ]
      },
      {
       "output_type": "stream",
       "stream": "stdout",
       "text": [
        "  % done\n",
        "28.3173812086"
       ]
      },
      {
       "output_type": "stream",
       "stream": "stdout",
       "text": [
        "  % done\n",
        "29.733250269"
       ]
      },
      {
       "output_type": "stream",
       "stream": "stdout",
       "text": [
        "  % done\n",
        "31.1491193294"
       ]
      },
      {
       "output_type": "stream",
       "stream": "stdout",
       "text": [
        "  % done\n",
        "32.5649883899"
       ]
      },
      {
       "output_type": "stream",
       "stream": "stdout",
       "text": [
        "  % done\n",
        "33.9808574503"
       ]
      },
      {
       "output_type": "stream",
       "stream": "stdout",
       "text": [
        "  % done\n",
        "35.3967265107"
       ]
      },
      {
       "output_type": "stream",
       "stream": "stdout",
       "text": [
        "  % done\n",
        "36.8125955712"
       ]
      },
      {
       "output_type": "stream",
       "stream": "stdout",
       "text": [
        "  % done\n",
        "38.2284646316"
       ]
      },
      {
       "output_type": "stream",
       "stream": "stdout",
       "text": [
        "  % done\n",
        "39.644333692"
       ]
      },
      {
       "output_type": "stream",
       "stream": "stdout",
       "text": [
        "  % done\n",
        "41.0602027524"
       ]
      },
      {
       "output_type": "stream",
       "stream": "stdout",
       "text": [
        "  % done\n",
        "42.4760718129"
       ]
      },
      {
       "output_type": "stream",
       "stream": "stdout",
       "text": [
        "  % done\n",
        "43.8919408733"
       ]
      },
      {
       "output_type": "stream",
       "stream": "stdout",
       "text": [
        "  % done\n",
        "45.3078099337"
       ]
      },
      {
       "output_type": "stream",
       "stream": "stdout",
       "text": [
        "  % done\n",
        "46.7236789942"
       ]
      },
      {
       "output_type": "stream",
       "stream": "stdout",
       "text": [
        "  % done\n",
        "48.1395480546"
       ]
      },
      {
       "output_type": "stream",
       "stream": "stdout",
       "text": [
        "  % done\n",
        "49.555417115"
       ]
      },
      {
       "output_type": "stream",
       "stream": "stdout",
       "text": [
        "  % done\n",
        "50.9712861755"
       ]
      },
      {
       "output_type": "stream",
       "stream": "stdout",
       "text": [
        "  % done\n",
        "52.3871552359"
       ]
      },
      {
       "output_type": "stream",
       "stream": "stdout",
       "text": [
        "  % done\n",
        "53.8030242963"
       ]
      },
      {
       "output_type": "stream",
       "stream": "stdout",
       "text": [
        "  % done\n",
        "55.2188933567"
       ]
      },
      {
       "output_type": "stream",
       "stream": "stdout",
       "text": [
        "  % done\n",
        "56.6347624172"
       ]
      },
      {
       "output_type": "stream",
       "stream": "stdout",
       "text": [
        "  % done\n",
        "58.0506314776"
       ]
      },
      {
       "output_type": "stream",
       "stream": "stdout",
       "text": [
        "  % done\n",
        "59.466500538"
       ]
      },
      {
       "output_type": "stream",
       "stream": "stdout",
       "text": [
        "  % done\n",
        "60.8823695985"
       ]
      },
      {
       "output_type": "stream",
       "stream": "stdout",
       "text": [
        "  % done\n",
        "62.2982386589"
       ]
      },
      {
       "output_type": "stream",
       "stream": "stdout",
       "text": [
        "  % done\n",
        "63.7141077193"
       ]
      },
      {
       "output_type": "stream",
       "stream": "stdout",
       "text": [
        "  % done\n",
        "65.1299767797"
       ]
      },
      {
       "output_type": "stream",
       "stream": "stdout",
       "text": [
        "  % done\n",
        "66.5458458402"
       ]
      },
      {
       "output_type": "stream",
       "stream": "stdout",
       "text": [
        "  % done\n",
        "67.9617149006"
       ]
      },
      {
       "output_type": "stream",
       "stream": "stdout",
       "text": [
        "  % done\n",
        "69.377583961"
       ]
      },
      {
       "output_type": "stream",
       "stream": "stdout",
       "text": [
        "  % done\n",
        "70.7934530215"
       ]
      },
      {
       "output_type": "stream",
       "stream": "stdout",
       "text": [
        "  % done\n",
        "72.2093220819"
       ]
      },
      {
       "output_type": "stream",
       "stream": "stdout",
       "text": [
        "  % done\n",
        "73.6251911423"
       ]
      },
      {
       "output_type": "stream",
       "stream": "stdout",
       "text": [
        "  % done\n",
        "75.0410602028"
       ]
      },
      {
       "output_type": "stream",
       "stream": "stdout",
       "text": [
        "  % done\n",
        "76.4569292632"
       ]
      },
      {
       "output_type": "stream",
       "stream": "stdout",
       "text": [
        "  % done\n",
        "77.8727983236"
       ]
      },
      {
       "output_type": "stream",
       "stream": "stdout",
       "text": [
        "  % done\n",
        "79.288667384"
       ]
      },
      {
       "output_type": "stream",
       "stream": "stdout",
       "text": [
        "  % done\n",
        "80.7045364445"
       ]
      },
      {
       "output_type": "stream",
       "stream": "stdout",
       "text": [
        "  % done\n",
        "82.1204055049"
       ]
      },
      {
       "output_type": "stream",
       "stream": "stdout",
       "text": [
        "  % done\n",
        "83.5362745653"
       ]
      },
      {
       "output_type": "stream",
       "stream": "stdout",
       "text": [
        "  % done\n",
        "84.9521436258"
       ]
      },
      {
       "output_type": "stream",
       "stream": "stdout",
       "text": [
        "  % done\n",
        "86.3680126862"
       ]
      },
      {
       "output_type": "stream",
       "stream": "stdout",
       "text": [
        "  % done\n",
        "87.7838817466"
       ]
      },
      {
       "output_type": "stream",
       "stream": "stdout",
       "text": [
        "  % done\n",
        "89.199750807"
       ]
      },
      {
       "output_type": "stream",
       "stream": "stdout",
       "text": [
        "  % done\n",
        "90.6156198675"
       ]
      },
      {
       "output_type": "stream",
       "stream": "stdout",
       "text": [
        "  % done\n",
        "92.0314889279"
       ]
      },
      {
       "output_type": "stream",
       "stream": "stdout",
       "text": [
        "  % done\n",
        "93.4473579883"
       ]
      },
      {
       "output_type": "stream",
       "stream": "stdout",
       "text": [
        "  % done\n",
        "94.8632270488"
       ]
      },
      {
       "output_type": "stream",
       "stream": "stdout",
       "text": [
        "  % done\n",
        "96.2790961092"
       ]
      },
      {
       "ename": "KeyboardInterrupt",
       "evalue": "",
       "output_type": "pyerr",
       "traceback": [
        "\u001b[1;31m---------------------------------------------------------------------------\u001b[0m\n\u001b[1;31mKeyboardInterrupt\u001b[0m                         Traceback (most recent call last)",
        "\u001b[1;32m<ipython-input-7-cc7c692814d3>\u001b[0m in \u001b[0;36m<module>\u001b[1;34m()\u001b[0m\n\u001b[0;32m      3\u001b[0m \u001b[1;32mfor\u001b[0m \u001b[0mi\u001b[0m\u001b[1;33m,\u001b[0m\u001b[0mfname\u001b[0m \u001b[1;32min\u001b[0m \u001b[0menumerate\u001b[0m\u001b[1;33m(\u001b[0m\u001b[0mtodo\u001b[0m\u001b[1;33m)\u001b[0m\u001b[1;33m:\u001b[0m\u001b[1;33m\u001b[0m\u001b[0m\n\u001b[0;32m      4\u001b[0m     \u001b[1;32mtry\u001b[0m\u001b[1;33m:\u001b[0m\u001b[1;33m\u001b[0m\u001b[0m\n\u001b[1;32m----> 5\u001b[1;33m         \u001b[0mrdr\u001b[0m \u001b[1;33m=\u001b[0m \u001b[0mfu\u001b[0m\u001b[1;33m.\u001b[0m\u001b[0mRDRReader\u001b[0m\u001b[1;33m(\u001b[0m\u001b[0mfname\u001b[0m\u001b[1;33m)\u001b[0m\u001b[1;33m\u001b[0m\u001b[0m\n\u001b[0m\u001b[0;32m      6\u001b[0m     \u001b[1;32mexcept\u001b[0m \u001b[0mIOError\u001b[0m\u001b[1;33m:\u001b[0m\u001b[1;33m\u001b[0m\u001b[0m\n\u001b[0;32m      7\u001b[0m         \u001b[1;32mprint\u001b[0m \u001b[0mfname\u001b[0m\u001b[1;33m\u001b[0m\u001b[0m\n",
        "\u001b[1;32m/u/paige/maye/src/diviner/file_utils.pyc\u001b[0m in \u001b[0;36m__init__\u001b[1;34m(self, fname, nrows)\u001b[0m\n\u001b[0;32m    201\u001b[0m         \u001b[0msuper\u001b[0m\u001b[1;33m(\u001b[0m\u001b[0mRDRReader\u001b[0m\u001b[1;33m,\u001b[0m \u001b[0mself\u001b[0m\u001b[1;33m)\u001b[0m\u001b[1;33m.\u001b[0m\u001b[0m__init__\u001b[0m\u001b[1;33m(\u001b[0m\u001b[1;33m)\u001b[0m\u001b[1;33m\u001b[0m\u001b[0m\n\u001b[0;32m    202\u001b[0m         \u001b[0mself\u001b[0m\u001b[1;33m.\u001b[0m\u001b[0mfname\u001b[0m \u001b[1;33m=\u001b[0m \u001b[0mfname\u001b[0m\u001b[1;33m\u001b[0m\u001b[0m\n\u001b[1;32m--> 203\u001b[1;33m         \u001b[0mself\u001b[0m\u001b[1;33m.\u001b[0m\u001b[0mget_rdr_headers\u001b[0m\u001b[1;33m(\u001b[0m\u001b[1;33m)\u001b[0m\u001b[1;33m\u001b[0m\u001b[0m\n\u001b[0m\u001b[0;32m    204\u001b[0m \u001b[1;33m\u001b[0m\u001b[0m\n\u001b[0;32m    205\u001b[0m     \u001b[1;32mdef\u001b[0m \u001b[0mfind_fnames\u001b[0m\u001b[1;33m(\u001b[0m\u001b[0mself\u001b[0m\u001b[1;33m)\u001b[0m\u001b[1;33m:\u001b[0m\u001b[1;33m\u001b[0m\u001b[0m\n",
        "\u001b[1;32m/u/paige/maye/src/diviner/file_utils.pyc\u001b[0m in \u001b[0;36mget_rdr_headers\u001b[1;34m(self)\u001b[0m\n\u001b[0;32m    217\u001b[0m         \u001b[1;34m\"\"\"Get headers from both ops and PDS RDR files.\"\"\"\u001b[0m\u001b[1;33m\u001b[0m\u001b[0m\n\u001b[0;32m    218\u001b[0m         \u001b[1;31m# skipcounter\u001b[0m\u001b[1;33m\u001b[0m\u001b[1;33m\u001b[0m\u001b[0m\n\u001b[1;32m--> 219\u001b[1;33m         \u001b[0mself\u001b[0m\u001b[1;33m.\u001b[0m\u001b[0mopen\u001b[0m\u001b[1;33m(\u001b[0m\u001b[1;33m)\u001b[0m\u001b[1;33m\u001b[0m\u001b[0m\n\u001b[0m\u001b[0;32m    220\u001b[0m         \u001b[0mself\u001b[0m\u001b[1;33m.\u001b[0m\u001b[0mno_to_skip\u001b[0m \u001b[1;33m=\u001b[0m \u001b[1;36m0\u001b[0m\u001b[1;33m\u001b[0m\u001b[0m\n\u001b[0;32m    221\u001b[0m         \u001b[1;32mwhile\u001b[0m \u001b[0mTrue\u001b[0m\u001b[1;33m:\u001b[0m\u001b[1;33m\u001b[0m\u001b[0m\n",
        "\u001b[1;32m/u/paige/maye/src/diviner/file_utils.pyc\u001b[0m in \u001b[0;36mopen\u001b[1;34m(self)\u001b[0m\n\u001b[0;32m    209\u001b[0m     \u001b[1;32mdef\u001b[0m \u001b[0mopen\u001b[0m\u001b[1;33m(\u001b[0m\u001b[0mself\u001b[0m\u001b[1;33m)\u001b[0m\u001b[1;33m:\u001b[0m\u001b[1;33m\u001b[0m\u001b[0m\n\u001b[0;32m    210\u001b[0m         \u001b[1;32mif\u001b[0m \u001b[0mself\u001b[0m\u001b[1;33m.\u001b[0m\u001b[0mfname\u001b[0m\u001b[1;33m.\u001b[0m\u001b[0mlower\u001b[0m\u001b[1;33m(\u001b[0m\u001b[1;33m)\u001b[0m\u001b[1;33m.\u001b[0m\u001b[0mendswith\u001b[0m\u001b[1;33m(\u001b[0m\u001b[1;34m'.zip'\u001b[0m\u001b[1;33m)\u001b[0m\u001b[1;33m:\u001b[0m\u001b[1;33m\u001b[0m\u001b[0m\n\u001b[1;32m--> 211\u001b[1;33m             \u001b[0mzfile\u001b[0m \u001b[1;33m=\u001b[0m \u001b[0mzipfile\u001b[0m\u001b[1;33m.\u001b[0m\u001b[0mZipFile\u001b[0m\u001b[1;33m(\u001b[0m\u001b[0mself\u001b[0m\u001b[1;33m.\u001b[0m\u001b[0mfname\u001b[0m\u001b[1;33m)\u001b[0m\u001b[1;33m\u001b[0m\u001b[0m\n\u001b[0m\u001b[0;32m    212\u001b[0m             \u001b[0mself\u001b[0m\u001b[1;33m.\u001b[0m\u001b[0mf\u001b[0m \u001b[1;33m=\u001b[0m \u001b[0mzfile\u001b[0m\u001b[1;33m.\u001b[0m\u001b[0mopen\u001b[0m\u001b[1;33m(\u001b[0m\u001b[0mzfile\u001b[0m\u001b[1;33m.\u001b[0m\u001b[0mnamelist\u001b[0m\u001b[1;33m(\u001b[0m\u001b[1;33m)\u001b[0m\u001b[1;33m[\u001b[0m\u001b[1;36m0\u001b[0m\u001b[1;33m]\u001b[0m\u001b[1;33m)\u001b[0m\u001b[1;33m\u001b[0m\u001b[0m\n\u001b[0;32m    213\u001b[0m         \u001b[1;32melse\u001b[0m\u001b[1;33m:\u001b[0m\u001b[1;33m\u001b[0m\u001b[0m\n",
        "\u001b[1;32m/usr/local/epd/lib/python2.7/zipfile.pyc\u001b[0m in \u001b[0;36m__init__\u001b[1;34m(self, file, mode, compression, allowZip64)\u001b[0m\n\u001b[0;32m    712\u001b[0m \u001b[1;33m\u001b[0m\u001b[0m\n\u001b[0;32m    713\u001b[0m         \u001b[1;32mif\u001b[0m \u001b[0mkey\u001b[0m \u001b[1;33m==\u001b[0m \u001b[1;34m'r'\u001b[0m\u001b[1;33m:\u001b[0m\u001b[1;33m\u001b[0m\u001b[0m\n\u001b[1;32m--> 714\u001b[1;33m             \u001b[0mself\u001b[0m\u001b[1;33m.\u001b[0m\u001b[0m_GetContents\u001b[0m\u001b[1;33m(\u001b[0m\u001b[1;33m)\u001b[0m\u001b[1;33m\u001b[0m\u001b[0m\n\u001b[0m\u001b[0;32m    715\u001b[0m         \u001b[1;32melif\u001b[0m \u001b[0mkey\u001b[0m \u001b[1;33m==\u001b[0m \u001b[1;34m'w'\u001b[0m\u001b[1;33m:\u001b[0m\u001b[1;33m\u001b[0m\u001b[0m\n\u001b[0;32m    716\u001b[0m             \u001b[1;31m# set the modified flag so central directory gets written\u001b[0m\u001b[1;33m\u001b[0m\u001b[1;33m\u001b[0m\u001b[0m\n",
        "\u001b[1;32m/usr/local/epd/lib/python2.7/zipfile.pyc\u001b[0m in \u001b[0;36m_GetContents\u001b[1;34m(self)\u001b[0m\n\u001b[0;32m    746\u001b[0m         is bad.\"\"\"\n\u001b[0;32m    747\u001b[0m         \u001b[1;32mtry\u001b[0m\u001b[1;33m:\u001b[0m\u001b[1;33m\u001b[0m\u001b[0m\n\u001b[1;32m--> 748\u001b[1;33m             \u001b[0mself\u001b[0m\u001b[1;33m.\u001b[0m\u001b[0m_RealGetContents\u001b[0m\u001b[1;33m(\u001b[0m\u001b[1;33m)\u001b[0m\u001b[1;33m\u001b[0m\u001b[0m\n\u001b[0m\u001b[0;32m    749\u001b[0m         \u001b[1;32mexcept\u001b[0m \u001b[0mBadZipfile\u001b[0m\u001b[1;33m:\u001b[0m\u001b[1;33m\u001b[0m\u001b[0m\n\u001b[0;32m    750\u001b[0m             \u001b[1;32mif\u001b[0m \u001b[1;32mnot\u001b[0m \u001b[0mself\u001b[0m\u001b[1;33m.\u001b[0m\u001b[0m_filePassed\u001b[0m\u001b[1;33m:\u001b[0m\u001b[1;33m\u001b[0m\u001b[0m\n",
        "\u001b[1;32m/usr/local/epd/lib/python2.7/zipfile.pyc\u001b[0m in \u001b[0;36m_RealGetContents\u001b[1;34m(self)\u001b[0m\n\u001b[0;32m    757\u001b[0m         \u001b[0mfp\u001b[0m \u001b[1;33m=\u001b[0m \u001b[0mself\u001b[0m\u001b[1;33m.\u001b[0m\u001b[0mfp\u001b[0m\u001b[1;33m\u001b[0m\u001b[0m\n\u001b[0;32m    758\u001b[0m         \u001b[1;32mtry\u001b[0m\u001b[1;33m:\u001b[0m\u001b[1;33m\u001b[0m\u001b[0m\n\u001b[1;32m--> 759\u001b[1;33m             \u001b[0mendrec\u001b[0m \u001b[1;33m=\u001b[0m \u001b[0m_EndRecData\u001b[0m\u001b[1;33m(\u001b[0m\u001b[0mfp\u001b[0m\u001b[1;33m)\u001b[0m\u001b[1;33m\u001b[0m\u001b[0m\n\u001b[0m\u001b[0;32m    760\u001b[0m         \u001b[1;32mexcept\u001b[0m \u001b[0mIOError\u001b[0m\u001b[1;33m:\u001b[0m\u001b[1;33m\u001b[0m\u001b[0m\n\u001b[0;32m    761\u001b[0m             \u001b[1;32mraise\u001b[0m \u001b[0mBadZipfile\u001b[0m\u001b[1;33m(\u001b[0m\u001b[1;34m\"File is not a zip file\"\u001b[0m\u001b[1;33m)\u001b[0m\u001b[1;33m\u001b[0m\u001b[0m\n",
        "\u001b[1;32m/usr/local/epd/lib/python2.7/zipfile.pyc\u001b[0m in \u001b[0;36m_EndRecData\u001b[1;34m(fpin)\u001b[0m\n\u001b[0;32m    201\u001b[0m \u001b[1;33m\u001b[0m\u001b[0m\n\u001b[0;32m    202\u001b[0m     \u001b[1;31m# Determine file size\u001b[0m\u001b[1;33m\u001b[0m\u001b[1;33m\u001b[0m\u001b[0m\n\u001b[1;32m--> 203\u001b[1;33m     \u001b[0mfpin\u001b[0m\u001b[1;33m.\u001b[0m\u001b[0mseek\u001b[0m\u001b[1;33m(\u001b[0m\u001b[1;36m0\u001b[0m\u001b[1;33m,\u001b[0m \u001b[1;36m2\u001b[0m\u001b[1;33m)\u001b[0m\u001b[1;33m\u001b[0m\u001b[0m\n\u001b[0m\u001b[0;32m    204\u001b[0m     \u001b[0mfilesize\u001b[0m \u001b[1;33m=\u001b[0m \u001b[0mfpin\u001b[0m\u001b[1;33m.\u001b[0m\u001b[0mtell\u001b[0m\u001b[1;33m(\u001b[0m\u001b[1;33m)\u001b[0m\u001b[1;33m\u001b[0m\u001b[0m\n\u001b[0;32m    205\u001b[0m \u001b[1;33m\u001b[0m\u001b[0m\n",
        "\u001b[1;31mKeyboardInterrupt\u001b[0m: "
       ]
      },
      {
       "output_type": "stream",
       "stream": "stdout",
       "text": [
        "  % done\n"
       ]
      }
     ],
     "prompt_number": 7
    },
    {
     "cell_type": "code",
     "collapsed": false,
     "input": [
      "np.unique(np.array(qge_data))"
     ],
     "language": "python",
     "metadata": {},
     "outputs": []
    },
    {
     "cell_type": "code",
     "collapsed": false,
     "input": [
      "qgearr = np.array(qge_data)"
     ],
     "language": "python",
     "metadata": {},
     "outputs": [],
     "prompt_number": 8
    },
    {
     "cell_type": "code",
     "collapsed": false,
     "input": [
      "unique(qgearr[:,1])"
     ],
     "language": "python",
     "metadata": {},
     "outputs": [
      {
       "metadata": {},
       "output_type": "pyout",
       "prompt_number": 19,
       "text": [
        "array([12, 24, 48])"
       ]
      }
     ],
     "prompt_number": 19
    },
    {
     "cell_type": "code",
     "collapsed": false,
     "input": [
      "mixed = where(qgearr[:,1] ==24)"
     ],
     "language": "python",
     "metadata": {},
     "outputs": [],
     "prompt_number": 23
    },
    {
     "cell_type": "code",
     "collapsed": false,
     "input": [
      "all_predict = where(qgearr[:,1] == 48)"
     ],
     "language": "python",
     "metadata": {},
     "outputs": [],
     "prompt_number": 24
    },
    {
     "cell_type": "code",
     "collapsed": false,
     "input": [
      "import os\n",
      "mixed_fnames = []\n",
      "for fname in array(fnames)[mixed]:\n",
      "    mixed_fnames.append(os.path.basename(fname))"
     ],
     "language": "python",
     "metadata": {},
     "outputs": [],
     "prompt_number": 27
    },
    {
     "cell_type": "code",
     "collapsed": false,
     "input": [
      "mixed_fn_arr = array(mixed_fnames)"
     ],
     "language": "python",
     "metadata": {},
     "outputs": [],
     "prompt_number": 29
    },
    {
     "cell_type": "code",
     "collapsed": false,
     "input": [
      "mixed_fn_arr.tofile('mixed_proc_status.txt', sep='\\n')"
     ],
     "language": "python",
     "metadata": {},
     "outputs": [],
     "prompt_number": 32
    },
    {
     "cell_type": "code",
     "collapsed": false,
     "input": [
      "array(fnames)[all_predict]"
     ],
     "language": "python",
     "metadata": {},
     "outputs": [
      {
       "metadata": {},
       "output_type": "pyout",
       "prompt_number": 33,
       "text": [
        "array(['/u/paige/maye/rdr_data/2011082517_RDR.TAB.zip'], \n",
        "      dtype='|S45')"
       ]
      }
     ],
     "prompt_number": 33
    },
    {
     "cell_type": "code",
     "collapsed": false,
     "input": [
      "len(mixed_fn_arr)"
     ],
     "language": "python",
     "metadata": {},
     "outputs": [
      {
       "metadata": {},
       "output_type": "pyout",
       "prompt_number": 34,
       "text": [
        "105"
       ]
      }
     ],
     "prompt_number": 34
    },
    {
     "cell_type": "code",
     "collapsed": false,
     "input": [
      "35314-106"
     ],
     "language": "python",
     "metadata": {},
     "outputs": [
      {
       "metadata": {},
       "output_type": "pyout",
       "prompt_number": 35,
       "text": [
        "35208"
       ]
      }
     ],
     "prompt_number": 35
    },
    {
     "cell_type": "code",
     "collapsed": false,
     "input": [
      "_/35314.0"
     ],
     "language": "python",
     "metadata": {},
     "outputs": [
      {
       "metadata": {},
       "output_type": "pyout",
       "prompt_number": 36,
       "text": [
        "0.9969983575918899"
       ]
      }
     ],
     "prompt_number": 36
    },
    {
     "cell_type": "code",
     "collapsed": false,
     "input": [],
     "language": "python",
     "metadata": {},
     "outputs": []
    }
   ],
   "metadata": {}
  }
 ]
}