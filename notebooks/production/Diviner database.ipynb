{
 "cells": [
  {
   "cell_type": "code",
   "execution_count": 1,
   "metadata": {},
   "outputs": [],
   "source": [
    "from diviner import file_utils as fu\n",
    "\n",
    "import pandas as pd\n",
    "import diviner as div\n",
    "import dask"
   ]
  },
  {
   "cell_type": "code",
   "execution_count": 2,
   "metadata": {},
   "outputs": [
    {
     "data": {
      "text/plain": [
       "'2.1.0'"
      ]
     },
     "execution_count": 2,
     "metadata": {},
     "output_type": "execute_result"
    }
   ],
   "source": [
    "dask.__version__"
   ]
  },
  {
   "cell_type": "code",
   "execution_count": 3,
   "metadata": {},
   "outputs": [
    {
     "data": {
      "text/plain": [
       "PosixPath('/q/marks/feidata/DIV:opsL1A/data')"
      ]
     },
     "execution_count": 3,
     "metadata": {},
     "output_type": "execute_result"
    }
   ],
   "source": [
    "fu.l1adatapath"
   ]
  },
  {
   "cell_type": "code",
   "execution_count": 21,
   "metadata": {},
   "outputs": [
    {
     "data": {
      "text/plain": [
       "PosixPath('/luna4/maye/calib_database')"
      ]
     },
     "execution_count": 21,
     "metadata": {},
     "output_type": "execute_result"
    }
   ],
   "source": [
    "out = Path('/luna4/maye/calib_database')\n",
    "out"
   ]
  },
  {
   "cell_type": "code",
   "execution_count": 22,
   "metadata": {},
   "outputs": [],
   "source": [
    "from dask import delayed, compute"
   ]
  },
  {
   "cell_type": "code",
   "execution_count": 26,
   "metadata": {},
   "outputs": [
    {
     "data": {
      "text/html": [
       "<table style=\"border: 2px solid white;\">\n",
       "<tr>\n",
       "<td style=\"vertical-align: top; border: 0px solid white\">\n",
       "<h3>Client</h3>\n",
       "<ul>\n",
       "  <li><b>Scheduler: </b>tcp://127.0.0.1:42977\n",
       "  <li><b>Dashboard: </b><a href='http://127.0.0.1:40389/status' target='_blank'>http://127.0.0.1:40389/status</a>\n",
       "</ul>\n",
       "</td>\n",
       "<td style=\"vertical-align: top; border: 0px solid white\">\n",
       "<h3>Cluster</h3>\n",
       "<ul>\n",
       "  <li><b>Workers: </b>4</li>\n",
       "  <li><b>Cores: </b>16</li>\n",
       "  <li><b>Memory: </b>101.37 GB</li>\n",
       "</ul>\n",
       "</td>\n",
       "</tr>\n",
       "</table>"
      ],
      "text/plain": [
       "<Client: scheduler='tcp://127.0.0.1:42977' processes=4 cores=16>"
      ]
     },
     "execution_count": 26,
     "metadata": {},
     "output_type": "execute_result"
    }
   ],
   "source": [
    "from dask.distributed import Client\n",
    "client = Client()\n",
    "client"
   ]
  },
  {
   "cell_type": "code",
   "execution_count": 1,
   "metadata": {},
   "outputs": [
    {
     "ename": "NameError",
     "evalue": "name 'client' is not defined",
     "output_type": "error",
     "traceback": [
      "\u001b[0;31m---------------------------------------------------------------------------\u001b[0m",
      "\u001b[0;31mNameError\u001b[0m                                 Traceback (most recent call last)",
      "\u001b[0;32m<ipython-input-1-1ef8b845d8fa>\u001b[0m in \u001b[0;36m<module>\u001b[0;34m\u001b[0m\n\u001b[0;32m----> 1\u001b[0;31m \u001b[0mclient\u001b[0m\u001b[0;34m.\u001b[0m\u001b[0mclose\u001b[0m\u001b[0;34m(\u001b[0m\u001b[0;34m)\u001b[0m\u001b[0;34m\u001b[0m\u001b[0;34m\u001b[0m\u001b[0m\n\u001b[0m",
      "\u001b[0;31mNameError\u001b[0m: name 'client' is not defined"
     ]
    }
   ],
   "source": [
    "client.close()"
   ]
  },
  {
   "cell_type": "code",
   "execution_count": 27,
   "metadata": {},
   "outputs": [],
   "source": [
    "def process_data(tstr):\n",
    "    filenames = list(fu.l1adatapath.glob(tstr+'*'))\n",
    "    delayed_results = []\n",
    "    for fname in filenames: \n",
    "        divfile = fu.L1ADataFile(fname)\n",
    "        df = delayed(divfile.read)()\n",
    "        delayed_results.append(df[df.is_calib])\n",
    "    return pd.concat(compute(*delayed_results))"
   ]
  },
  {
   "cell_type": "code",
   "execution_count": 29,
   "metadata": {},
   "outputs": [],
   "source": [
    "def l1a_to_parquet(fname):\n",
    "    l1a_parquet_dir = Path('/luna4/maye/l1a_parquet')\n",
    "    divfile = fu.L1ADataFile(fname)\n",
    "    savedir = l1a_parquet_dir / divfile.fn_handler.tstr[:4]\n",
    "    savedir.mkdir(exist_ok=True)\n",
    "\n",
    "    outfname = savedir / fname.with_suffix('.parquet').name\n",
    "    if outfname.exists():\n",
    "        return\n",
    "    divfile.read().to_parquet(outfname)"
   ]
  },
  {
   "cell_type": "code",
   "execution_count": 30,
   "metadata": {},
   "outputs": [],
   "source": [
    "dataset = fu.l1adatapath.glob('201*')\n",
    "futures = client.map(l1a_to_parquet, dataset)"
   ]
  },
  {
   "cell_type": "code",
   "execution_count": 28,
   "metadata": {},
   "outputs": [],
   "source": [
    "from dask import dataframe as dd"
   ]
  },
  {
   "cell_type": "code",
   "execution_count": 22,
   "metadata": {},
   "outputs": [],
   "source": [
    "dd.read_csv(data.fname, names=data.header.columns, na_values='-9999', skiprows=8, skipinitialspace=True)"
   ]
  },
  {
   "cell_type": "code",
   "execution_count": 23,
   "metadata": {},
   "outputs": [
    {
     "ename": "NotImplementedError",
     "evalue": "Series getitem in only supported for other series objects with matching partition structure",
     "output_type": "error",
     "traceback": [
      "\u001b[0;31m---------------------------------------------------------------------------\u001b[0m",
      "\u001b[0;31mNotImplementedError\u001b[0m                       Traceback (most recent call last)",
      "\u001b[0;32m<ipython-input-23-8963beb6dd15>\u001b[0m in \u001b[0;36m<module>\u001b[0;34m\u001b[0m\n\u001b[0;32m----> 1\u001b[0;31m \u001b[0mdf\u001b[0m \u001b[0;34m=\u001b[0m \u001b[0mfu\u001b[0m\u001b[0;34m.\u001b[0m\u001b[0mparse_times\u001b[0m\u001b[0;34m(\u001b[0m\u001b[0mdf\u001b[0m\u001b[0;34m)\u001b[0m\u001b[0;34m\u001b[0m\u001b[0;34m\u001b[0m\u001b[0m\n\u001b[0m",
      "\u001b[0;32m~/src/diviner/diviner/file_utils.py\u001b[0m in \u001b[0;36mparse_times\u001b[0;34m(df)\u001b[0m\n\u001b[1;32m    492\u001b[0m     \u001b[0;31m# I don't need to round the seconds here because the df.utc data has\u001b[0m\u001b[0;34m\u001b[0m\u001b[0;34m\u001b[0m\u001b[0;34m\u001b[0m\u001b[0m\n\u001b[1;32m    493\u001b[0m     \u001b[0;31m# already a 3-digit millisecond string: '19:00:00.793'\u001b[0m\u001b[0;34m\u001b[0m\u001b[0;34m\u001b[0m\u001b[0;34m\u001b[0m\u001b[0m\n\u001b[0;32m--> 494\u001b[0;31m     \u001b[0mtimes\u001b[0m \u001b[0;34m=\u001b[0m \u001b[0mpd\u001b[0m\u001b[0;34m.\u001b[0m\u001b[0mto_datetime\u001b[0m\u001b[0;34m(\u001b[0m\u001b[0mdf\u001b[0m\u001b[0;34m.\u001b[0m\u001b[0mdate\u001b[0m \u001b[0;34m+\u001b[0m \u001b[0;34m\" \"\u001b[0m \u001b[0;34m+\u001b[0m \u001b[0mdf\u001b[0m\u001b[0;34m.\u001b[0m\u001b[0mutc\u001b[0m\u001b[0;34m,\u001b[0m \u001b[0mformat\u001b[0m\u001b[0;34m=\u001b[0m\u001b[0mformat\u001b[0m\u001b[0;34m,\u001b[0m \u001b[0mutc\u001b[0m\u001b[0;34m=\u001b[0m\u001b[0;32mFalse\u001b[0m\u001b[0;34m)\u001b[0m\u001b[0;34m\u001b[0m\u001b[0;34m\u001b[0m\u001b[0m\n\u001b[0m\u001b[1;32m    495\u001b[0m     \u001b[0mdf\u001b[0m\u001b[0;34m.\u001b[0m\u001b[0mset_index\u001b[0m\u001b[0;34m(\u001b[0m\u001b[0mtimes\u001b[0m\u001b[0;34m,\u001b[0m \u001b[0minplace\u001b[0m\u001b[0;34m=\u001b[0m\u001b[0;32mTrue\u001b[0m\u001b[0;34m)\u001b[0m\u001b[0;34m\u001b[0m\u001b[0;34m\u001b[0m\u001b[0m\n\u001b[1;32m    496\u001b[0m     \u001b[0;32mreturn\u001b[0m \u001b[0mdf\u001b[0m\u001b[0;34m.\u001b[0m\u001b[0mdrop\u001b[0m\u001b[0;34m(\u001b[0m\u001b[0;34m[\u001b[0m\u001b[0;34m\"date\"\u001b[0m\u001b[0;34m,\u001b[0m \u001b[0;34m\"utc\"\u001b[0m\u001b[0;34m]\u001b[0m\u001b[0;34m,\u001b[0m \u001b[0maxis\u001b[0m\u001b[0;34m=\u001b[0m\u001b[0;36m1\u001b[0m\u001b[0;34m)\u001b[0m\u001b[0;34m\u001b[0m\u001b[0;34m\u001b[0m\u001b[0m\n",
      "\u001b[0;32m~/miniconda3/envs/py37/lib/python3.7/site-packages/pandas/core/tools/datetimes.py\u001b[0m in \u001b[0;36mto_datetime\u001b[0;34m(arg, errors, dayfirst, yearfirst, utc, box, format, exact, unit, infer_datetime_format, origin, cache)\u001b[0m\n\u001b[1;32m    609\u001b[0m             \u001b[0mresult\u001b[0m \u001b[0;34m=\u001b[0m \u001b[0mconvert_listlike\u001b[0m\u001b[0;34m(\u001b[0m\u001b[0marg\u001b[0m\u001b[0;34m,\u001b[0m \u001b[0mbox\u001b[0m\u001b[0;34m,\u001b[0m \u001b[0mformat\u001b[0m\u001b[0;34m)\u001b[0m\u001b[0;34m\u001b[0m\u001b[0;34m\u001b[0m\u001b[0m\n\u001b[1;32m    610\u001b[0m     \u001b[0;32melse\u001b[0m\u001b[0;34m:\u001b[0m\u001b[0;34m\u001b[0m\u001b[0;34m\u001b[0m\u001b[0m\n\u001b[0;32m--> 611\u001b[0;31m         \u001b[0mresult\u001b[0m \u001b[0;34m=\u001b[0m \u001b[0mconvert_listlike\u001b[0m\u001b[0;34m(\u001b[0m\u001b[0mnp\u001b[0m\u001b[0;34m.\u001b[0m\u001b[0marray\u001b[0m\u001b[0;34m(\u001b[0m\u001b[0;34m[\u001b[0m\u001b[0marg\u001b[0m\u001b[0;34m]\u001b[0m\u001b[0;34m)\u001b[0m\u001b[0;34m,\u001b[0m \u001b[0mbox\u001b[0m\u001b[0;34m,\u001b[0m \u001b[0mformat\u001b[0m\u001b[0;34m)\u001b[0m\u001b[0;34m[\u001b[0m\u001b[0;36m0\u001b[0m\u001b[0;34m]\u001b[0m\u001b[0;34m\u001b[0m\u001b[0;34m\u001b[0m\u001b[0m\n\u001b[0m\u001b[1;32m    612\u001b[0m \u001b[0;34m\u001b[0m\u001b[0m\n\u001b[1;32m    613\u001b[0m     \u001b[0;32mreturn\u001b[0m \u001b[0mresult\u001b[0m\u001b[0;34m\u001b[0m\u001b[0;34m\u001b[0m\u001b[0m\n",
      "\u001b[0;32m~/miniconda3/envs/py37/lib/python3.7/site-packages/dask/dataframe/core.py\u001b[0m in \u001b[0;36m__getitem__\u001b[0;34m(self, key)\u001b[0m\n\u001b[1;32m   2104\u001b[0m             \u001b[0;32mreturn\u001b[0m \u001b[0mSeries\u001b[0m\u001b[0;34m(\u001b[0m\u001b[0mgraph\u001b[0m\u001b[0;34m,\u001b[0m \u001b[0mname\u001b[0m\u001b[0;34m,\u001b[0m \u001b[0mself\u001b[0m\u001b[0;34m.\u001b[0m\u001b[0m_meta\u001b[0m\u001b[0;34m,\u001b[0m \u001b[0mself\u001b[0m\u001b[0;34m.\u001b[0m\u001b[0mdivisions\u001b[0m\u001b[0;34m)\u001b[0m\u001b[0;34m\u001b[0m\u001b[0;34m\u001b[0m\u001b[0m\n\u001b[1;32m   2105\u001b[0m         raise NotImplementedError(\n\u001b[0;32m-> 2106\u001b[0;31m             \u001b[0;34m\"Series getitem in only supported for other series objects \"\u001b[0m\u001b[0;34m\u001b[0m\u001b[0;34m\u001b[0m\u001b[0m\n\u001b[0m\u001b[1;32m   2107\u001b[0m             \u001b[0;34m\"with matching partition structure\"\u001b[0m\u001b[0;34m\u001b[0m\u001b[0;34m\u001b[0m\u001b[0m\n\u001b[1;32m   2108\u001b[0m         )\n",
      "\u001b[0;31mNotImplementedError\u001b[0m: Series getitem in only supported for other series objects with matching partition structure"
     ]
    }
   ],
   "source": [
    "df = fu.parse_times(df)"
   ]
  },
  {
   "cell_type": "code",
   "execution_count": 32,
   "metadata": {},
   "outputs": [],
   "source": [
    "nfiles_per_yr = []\n",
    "for year in range(2009, 2020):\n",
    "    nfiles_per_yr.append(len(list(fu.l1adatapath.glob(str(year)+'*'))))"
   ]
  },
  {
   "cell_type": "code",
   "execution_count": 34,
   "metadata": {},
   "outputs": [
    {
     "data": {
      "text/plain": [
       "[4297, 8585, 8679, 8719, 8697, 8652, 8760, 8784, 8760, 8737, 3557]"
      ]
     },
     "execution_count": 34,
     "metadata": {},
     "output_type": "execute_result"
    }
   ],
   "source": [
    "nfiles_per_yr"
   ]
  },
  {
   "cell_type": "code",
   "execution_count": 39,
   "metadata": {},
   "outputs": [
    {
     "data": {
      "text/html": [
       "<div>\n",
       "<style scoped>\n",
       "    .dataframe tbody tr th:only-of-type {\n",
       "        vertical-align: middle;\n",
       "    }\n",
       "\n",
       "    .dataframe tbody tr th {\n",
       "        vertical-align: top;\n",
       "    }\n",
       "\n",
       "    .dataframe thead th {\n",
       "        text-align: right;\n",
       "    }\n",
       "</style>\n",
       "<table border=\"1\" class=\"dataframe\">\n",
       "  <thead>\n",
       "    <tr style=\"text-align: right;\">\n",
       "      <th></th>\n",
       "      <th>nfiles_per_yr</th>\n",
       "    </tr>\n",
       "  </thead>\n",
       "  <tbody>\n",
       "    <tr>\n",
       "      <th>2009</th>\n",
       "      <td>4297</td>\n",
       "    </tr>\n",
       "    <tr>\n",
       "      <th>2010</th>\n",
       "      <td>8585</td>\n",
       "    </tr>\n",
       "    <tr>\n",
       "      <th>2011</th>\n",
       "      <td>8679</td>\n",
       "    </tr>\n",
       "    <tr>\n",
       "      <th>2012</th>\n",
       "      <td>8719</td>\n",
       "    </tr>\n",
       "    <tr>\n",
       "      <th>2013</th>\n",
       "      <td>8697</td>\n",
       "    </tr>\n",
       "    <tr>\n",
       "      <th>2014</th>\n",
       "      <td>8652</td>\n",
       "    </tr>\n",
       "    <tr>\n",
       "      <th>2015</th>\n",
       "      <td>8760</td>\n",
       "    </tr>\n",
       "    <tr>\n",
       "      <th>2016</th>\n",
       "      <td>8784</td>\n",
       "    </tr>\n",
       "    <tr>\n",
       "      <th>2017</th>\n",
       "      <td>8760</td>\n",
       "    </tr>\n",
       "    <tr>\n",
       "      <th>2018</th>\n",
       "      <td>8737</td>\n",
       "    </tr>\n",
       "    <tr>\n",
       "      <th>2019</th>\n",
       "      <td>3557</td>\n",
       "    </tr>\n",
       "  </tbody>\n",
       "</table>\n",
       "</div>"
      ],
      "text/plain": [
       "      nfiles_per_yr\n",
       "2009           4297\n",
       "2010           8585\n",
       "2011           8679\n",
       "2012           8719\n",
       "2013           8697\n",
       "2014           8652\n",
       "2015           8760\n",
       "2016           8784\n",
       "2017           8760\n",
       "2018           8737\n",
       "2019           3557"
      ]
     },
     "execution_count": 39,
     "metadata": {},
     "output_type": "execute_result"
    }
   ],
   "source": [
    "df = pd.DataFrame(nfiles_per_yr, index=range(2009, 2020), columns=['nfiles_per_yr'])\n",
    "df"
   ]
  },
  {
   "cell_type": "code",
   "execution_count": 40,
   "metadata": {},
   "outputs": [],
   "source": [
    "nhours_per_year = []\n",
    "for year in range(2009, 2020):\n",
    "    nhours = 366*24 if year % 4 == 0 else 365*24\n",
    "    nhours_per_year.append(nhours)"
   ]
  },
  {
   "cell_type": "code",
   "execution_count": 41,
   "metadata": {},
   "outputs": [
    {
     "data": {
      "text/plain": [
       "[8760, 8760, 8760, 8784, 8760, 8760, 8760, 8784, 8760, 8760, 8760]"
      ]
     },
     "execution_count": 41,
     "metadata": {},
     "output_type": "execute_result"
    }
   ],
   "source": [
    "nhours_per_year"
   ]
  },
  {
   "cell_type": "code",
   "execution_count": 42,
   "metadata": {},
   "outputs": [],
   "source": [
    "df['nhours_per_yr'] = nhours_per_year"
   ]
  },
  {
   "cell_type": "code",
   "execution_count": 43,
   "metadata": {},
   "outputs": [
    {
     "data": {
      "text/html": [
       "<div>\n",
       "<style scoped>\n",
       "    .dataframe tbody tr th:only-of-type {\n",
       "        vertical-align: middle;\n",
       "    }\n",
       "\n",
       "    .dataframe tbody tr th {\n",
       "        vertical-align: top;\n",
       "    }\n",
       "\n",
       "    .dataframe thead th {\n",
       "        text-align: right;\n",
       "    }\n",
       "</style>\n",
       "<table border=\"1\" class=\"dataframe\">\n",
       "  <thead>\n",
       "    <tr style=\"text-align: right;\">\n",
       "      <th></th>\n",
       "      <th>nfiles_per_yr</th>\n",
       "      <th>nhours_per_yr</th>\n",
       "    </tr>\n",
       "  </thead>\n",
       "  <tbody>\n",
       "    <tr>\n",
       "      <th>2009</th>\n",
       "      <td>4297</td>\n",
       "      <td>8760</td>\n",
       "    </tr>\n",
       "    <tr>\n",
       "      <th>2010</th>\n",
       "      <td>8585</td>\n",
       "      <td>8760</td>\n",
       "    </tr>\n",
       "    <tr>\n",
       "      <th>2011</th>\n",
       "      <td>8679</td>\n",
       "      <td>8760</td>\n",
       "    </tr>\n",
       "    <tr>\n",
       "      <th>2012</th>\n",
       "      <td>8719</td>\n",
       "      <td>8784</td>\n",
       "    </tr>\n",
       "    <tr>\n",
       "      <th>2013</th>\n",
       "      <td>8697</td>\n",
       "      <td>8760</td>\n",
       "    </tr>\n",
       "    <tr>\n",
       "      <th>2014</th>\n",
       "      <td>8652</td>\n",
       "      <td>8760</td>\n",
       "    </tr>\n",
       "    <tr>\n",
       "      <th>2015</th>\n",
       "      <td>8760</td>\n",
       "      <td>8760</td>\n",
       "    </tr>\n",
       "    <tr>\n",
       "      <th>2016</th>\n",
       "      <td>8784</td>\n",
       "      <td>8784</td>\n",
       "    </tr>\n",
       "    <tr>\n",
       "      <th>2017</th>\n",
       "      <td>8760</td>\n",
       "      <td>8760</td>\n",
       "    </tr>\n",
       "    <tr>\n",
       "      <th>2018</th>\n",
       "      <td>8737</td>\n",
       "      <td>8760</td>\n",
       "    </tr>\n",
       "    <tr>\n",
       "      <th>2019</th>\n",
       "      <td>3557</td>\n",
       "      <td>8760</td>\n",
       "    </tr>\n",
       "  </tbody>\n",
       "</table>\n",
       "</div>"
      ],
      "text/plain": [
       "      nfiles_per_yr  nhours_per_yr\n",
       "2009           4297           8760\n",
       "2010           8585           8760\n",
       "2011           8679           8760\n",
       "2012           8719           8784\n",
       "2013           8697           8760\n",
       "2014           8652           8760\n",
       "2015           8760           8760\n",
       "2016           8784           8784\n",
       "2017           8760           8760\n",
       "2018           8737           8760\n",
       "2019           3557           8760"
      ]
     },
     "execution_count": 43,
     "metadata": {},
     "output_type": "execute_result"
    }
   ],
   "source": [
    "df"
   ]
  },
  {
   "cell_type": "code",
   "execution_count": 45,
   "metadata": {},
   "outputs": [],
   "source": [
    "df['ratio'] = df.nfiles_per_yr / df.nhours_per_yr"
   ]
  },
  {
   "cell_type": "code",
   "execution_count": 46,
   "metadata": {},
   "outputs": [
    {
     "data": {
      "text/html": [
       "<div>\n",
       "<style scoped>\n",
       "    .dataframe tbody tr th:only-of-type {\n",
       "        vertical-align: middle;\n",
       "    }\n",
       "\n",
       "    .dataframe tbody tr th {\n",
       "        vertical-align: top;\n",
       "    }\n",
       "\n",
       "    .dataframe thead th {\n",
       "        text-align: right;\n",
       "    }\n",
       "</style>\n",
       "<table border=\"1\" class=\"dataframe\">\n",
       "  <thead>\n",
       "    <tr style=\"text-align: right;\">\n",
       "      <th></th>\n",
       "      <th>nfiles_per_yr</th>\n",
       "      <th>nhours_per_yr</th>\n",
       "      <th>ratio</th>\n",
       "    </tr>\n",
       "  </thead>\n",
       "  <tbody>\n",
       "    <tr>\n",
       "      <th>2009</th>\n",
       "      <td>4297</td>\n",
       "      <td>8760</td>\n",
       "      <td>0.490525</td>\n",
       "    </tr>\n",
       "    <tr>\n",
       "      <th>2010</th>\n",
       "      <td>8585</td>\n",
       "      <td>8760</td>\n",
       "      <td>0.980023</td>\n",
       "    </tr>\n",
       "    <tr>\n",
       "      <th>2011</th>\n",
       "      <td>8679</td>\n",
       "      <td>8760</td>\n",
       "      <td>0.990753</td>\n",
       "    </tr>\n",
       "    <tr>\n",
       "      <th>2012</th>\n",
       "      <td>8719</td>\n",
       "      <td>8784</td>\n",
       "      <td>0.992600</td>\n",
       "    </tr>\n",
       "    <tr>\n",
       "      <th>2013</th>\n",
       "      <td>8697</td>\n",
       "      <td>8760</td>\n",
       "      <td>0.992808</td>\n",
       "    </tr>\n",
       "    <tr>\n",
       "      <th>2014</th>\n",
       "      <td>8652</td>\n",
       "      <td>8760</td>\n",
       "      <td>0.987671</td>\n",
       "    </tr>\n",
       "    <tr>\n",
       "      <th>2015</th>\n",
       "      <td>8760</td>\n",
       "      <td>8760</td>\n",
       "      <td>1.000000</td>\n",
       "    </tr>\n",
       "    <tr>\n",
       "      <th>2016</th>\n",
       "      <td>8784</td>\n",
       "      <td>8784</td>\n",
       "      <td>1.000000</td>\n",
       "    </tr>\n",
       "    <tr>\n",
       "      <th>2017</th>\n",
       "      <td>8760</td>\n",
       "      <td>8760</td>\n",
       "      <td>1.000000</td>\n",
       "    </tr>\n",
       "    <tr>\n",
       "      <th>2018</th>\n",
       "      <td>8737</td>\n",
       "      <td>8760</td>\n",
       "      <td>0.997374</td>\n",
       "    </tr>\n",
       "    <tr>\n",
       "      <th>2019</th>\n",
       "      <td>3557</td>\n",
       "      <td>8760</td>\n",
       "      <td>0.406050</td>\n",
       "    </tr>\n",
       "  </tbody>\n",
       "</table>\n",
       "</div>"
      ],
      "text/plain": [
       "      nfiles_per_yr  nhours_per_yr     ratio\n",
       "2009           4297           8760  0.490525\n",
       "2010           8585           8760  0.980023\n",
       "2011           8679           8760  0.990753\n",
       "2012           8719           8784  0.992600\n",
       "2013           8697           8760  0.992808\n",
       "2014           8652           8760  0.987671\n",
       "2015           8760           8760  1.000000\n",
       "2016           8784           8784  1.000000\n",
       "2017           8760           8760  1.000000\n",
       "2018           8737           8760  0.997374\n",
       "2019           3557           8760  0.406050"
      ]
     },
     "execution_count": 46,
     "metadata": {},
     "output_type": "execute_result"
    }
   ],
   "source": [
    "df"
   ]
  },
  {
   "cell_type": "code",
   "execution_count": 48,
   "metadata": {},
   "outputs": [],
   "source": [
    "import hvplot.pandas"
   ]
  },
  {
   "cell_type": "code",
   "execution_count": 50,
   "metadata": {},
   "outputs": [
    {
     "data": {
      "application/vnd.holoviews_exec.v0+json": "",
      "text/html": [
       "<div id='4465' style='display: table; margin: 0 auto;'>\n",
       "\n",
       "\n",
       "\n",
       "\n",
       "\n",
       "  <div class=\"bk-root\" id=\"111801e3-c37f-4078-87b9-232496d1e76d\" data-root-id=\"4465\"></div>\n",
       "</div>\n",
       "<script type=\"application/javascript\">(function(root) {\n",
       "  function embed_document(root) {\n",
       "    \n",
       "  var docs_json = {\"ffba8523-2043-4ed2-ba17-ad92b3d7d71c\":{\"roots\":{\"references\":[{\"attributes\":{\"below\":[{\"id\":\"4474\",\"type\":\"LinearAxis\"}],\"center\":[{\"id\":\"4478\",\"type\":\"Grid\"},{\"id\":\"4483\",\"type\":\"Grid\"},{\"id\":\"4514\",\"type\":\"Legend\"}],\"left\":[{\"id\":\"4479\",\"type\":\"LinearAxis\"}],\"margin\":null,\"min_border_bottom\":10,\"min_border_left\":10,\"min_border_right\":10,\"min_border_top\":10,\"plot_height\":300,\"plot_width\":700,\"renderers\":[{\"id\":\"4506\",\"type\":\"GlyphRenderer\"},{\"id\":\"4522\",\"type\":\"GlyphRenderer\"},{\"id\":\"4539\",\"type\":\"GlyphRenderer\"}],\"right\":[{\"id\":\"4514\",\"type\":\"Legend\"}],\"sizing_mode\":\"fixed\",\"title\":{\"id\":\"4466\",\"type\":\"Title\"},\"toolbar\":{\"id\":\"4489\",\"type\":\"Toolbar\"},\"x_range\":{\"id\":\"4460\",\"type\":\"Range1d\"},\"x_scale\":{\"id\":\"4470\",\"type\":\"LinearScale\"},\"y_range\":{\"id\":\"4461\",\"type\":\"Range1d\"},\"y_scale\":{\"id\":\"4472\",\"type\":\"LinearScale\"}},\"id\":\"4465\",\"subtype\":\"Figure\",\"type\":\"Plot\"},{\"attributes\":{\"data_source\":{\"id\":\"4500\",\"type\":\"ColumnDataSource\"},\"glyph\":{\"id\":\"4503\",\"type\":\"Line\"},\"hover_glyph\":null,\"muted_glyph\":{\"id\":\"4505\",\"type\":\"Line\"},\"nonselection_glyph\":{\"id\":\"4504\",\"type\":\"Line\"},\"selection_glyph\":null,\"view\":{\"id\":\"4507\",\"type\":\"CDSView\"}},\"id\":\"4506\",\"type\":\"GlyphRenderer\"},{\"attributes\":{},\"id\":\"4517\",\"type\":\"Selection\"},{\"attributes\":{\"line_color\":\"#1f77b4\",\"line_width\":2,\"x\":{\"field\":\"index\"},\"y\":{\"field\":\"value\"}},\"id\":\"4503\",\"type\":\"Line\"},{\"attributes\":{\"source\":{\"id\":\"4500\",\"type\":\"ColumnDataSource\"}},\"id\":\"4507\",\"type\":\"CDSView\"},{\"attributes\":{\"data_source\":{\"id\":\"4533\",\"type\":\"ColumnDataSource\"},\"glyph\":{\"id\":\"4536\",\"type\":\"Line\"},\"hover_glyph\":null,\"muted_glyph\":{\"id\":\"4538\",\"type\":\"Line\"},\"nonselection_glyph\":{\"id\":\"4537\",\"type\":\"Line\"},\"selection_glyph\":null,\"view\":{\"id\":\"4540\",\"type\":\"CDSView\"}},\"id\":\"4539\",\"type\":\"GlyphRenderer\"},{\"attributes\":{\"dimension\":1,\"grid_line_color\":{\"value\":null},\"ticker\":{\"id\":\"4480\",\"type\":\"BasicTicker\"}},\"id\":\"4483\",\"type\":\"Grid\"},{\"attributes\":{\"line_color\":\"#2ca02c\",\"line_width\":2,\"x\":{\"field\":\"index\"},\"y\":{\"field\":\"value\"}},\"id\":\"4536\",\"type\":\"Line\"},{\"attributes\":{},\"id\":\"4486\",\"type\":\"WheelZoomTool\"},{\"attributes\":{\"active_drag\":\"auto\",\"active_inspect\":\"auto\",\"active_multi\":null,\"active_scroll\":\"auto\",\"active_tap\":\"auto\",\"tools\":[{\"id\":\"4462\",\"type\":\"HoverTool\"},{\"id\":\"4484\",\"type\":\"SaveTool\"},{\"id\":\"4485\",\"type\":\"PanTool\"},{\"id\":\"4486\",\"type\":\"WheelZoomTool\"},{\"id\":\"4487\",\"type\":\"BoxZoomTool\"},{\"id\":\"4488\",\"type\":\"ResetTool\"}]},\"id\":\"4489\",\"type\":\"Toolbar\"},{\"attributes\":{\"line_alpha\":0.2,\"line_color\":\"#2ca02c\",\"line_width\":2,\"x\":{\"field\":\"index\"},\"y\":{\"field\":\"value\"}},\"id\":\"4538\",\"type\":\"Line\"},{\"attributes\":{\"data_source\":{\"id\":\"4516\",\"type\":\"ColumnDataSource\"},\"glyph\":{\"id\":\"4519\",\"type\":\"Line\"},\"hover_glyph\":null,\"muted_glyph\":{\"id\":\"4521\",\"type\":\"Line\"},\"nonselection_glyph\":{\"id\":\"4520\",\"type\":\"Line\"},\"selection_glyph\":null,\"view\":{\"id\":\"4523\",\"type\":\"CDSView\"}},\"id\":\"4522\",\"type\":\"GlyphRenderer\"},{\"attributes\":{\"grid_line_color\":{\"value\":null},\"ticker\":{\"id\":\"4475\",\"type\":\"BasicTicker\"}},\"id\":\"4478\",\"type\":\"Grid\"},{\"attributes\":{},\"id\":\"4484\",\"type\":\"SaveTool\"},{\"attributes\":{\"click_policy\":\"mute\",\"items\":[{\"id\":\"4515\",\"type\":\"LegendItem\"},{\"id\":\"4532\",\"type\":\"LegendItem\"},{\"id\":\"4551\",\"type\":\"LegendItem\"}],\"location\":[0,0]},\"id\":\"4514\",\"type\":\"Legend\"},{\"attributes\":{},\"id\":\"4530\",\"type\":\"UnionRenderers\"},{\"attributes\":{},\"id\":\"4488\",\"type\":\"ResetTool\"},{\"attributes\":{\"line_color\":\"#ff7f0e\",\"line_width\":2,\"x\":{\"field\":\"index\"},\"y\":{\"field\":\"value\"}},\"id\":\"4519\",\"type\":\"Line\"},{\"attributes\":{\"bottom_units\":\"screen\",\"fill_alpha\":{\"value\":0.5},\"fill_color\":{\"value\":\"lightgrey\"},\"left_units\":\"screen\",\"level\":\"overlay\",\"line_alpha\":{\"value\":1.0},\"line_color\":{\"value\":\"black\"},\"line_dash\":[4,4],\"line_width\":{\"value\":2},\"render_mode\":\"css\",\"right_units\":\"screen\",\"top_units\":\"screen\"},\"id\":\"4513\",\"type\":\"BoxAnnotation\"},{\"attributes\":{},\"id\":\"4499\",\"type\":\"BasicTickFormatter\"},{\"attributes\":{\"label\":{\"value\":\"nfiles_per_yr\"},\"renderers\":[{\"id\":\"4506\",\"type\":\"GlyphRenderer\"}]},\"id\":\"4515\",\"type\":\"LegendItem\"},{\"attributes\":{\"callback\":null,\"end\":2019.0,\"reset_end\":2019.0,\"reset_start\":2009.0,\"start\":2009.0,\"tags\":[[[\"index\",\"index\",null]]]},\"id\":\"4460\",\"type\":\"Range1d\"},{\"attributes\":{},\"id\":\"4475\",\"type\":\"BasicTicker\"},{\"attributes\":{},\"id\":\"4497\",\"type\":\"BasicTickFormatter\"},{\"attributes\":{\"line_alpha\":0.2,\"line_color\":\"#ff7f0e\",\"line_width\":2,\"x\":{\"field\":\"index\"},\"y\":{\"field\":\"value\"}},\"id\":\"4521\",\"type\":\"Line\"},{\"attributes\":{\"line_alpha\":0.2,\"line_color\":\"#1f77b4\",\"line_width\":2,\"x\":{\"field\":\"index\"},\"y\":{\"field\":\"value\"}},\"id\":\"4505\",\"type\":\"Line\"},{\"attributes\":{\"label\":{\"value\":\"ratio\"},\"renderers\":[{\"id\":\"4539\",\"type\":\"GlyphRenderer\"}]},\"id\":\"4551\",\"type\":\"LegendItem\"},{\"attributes\":{},\"id\":\"4534\",\"type\":\"Selection\"},{\"attributes\":{\"callback\":null,\"data\":{\"Variable\":[\"nhours_per_yr\",\"nhours_per_yr\",\"nhours_per_yr\",\"nhours_per_yr\",\"nhours_per_yr\",\"nhours_per_yr\",\"nhours_per_yr\",\"nhours_per_yr\",\"nhours_per_yr\",\"nhours_per_yr\",\"nhours_per_yr\"],\"index\":[2009,2010,2011,2012,2013,2014,2015,2016,2017,2018,2019],\"value\":[8760,8760,8760,8784,8760,8760,8760,8784,8760,8760,8760]},\"selected\":{\"id\":\"4517\",\"type\":\"Selection\"},\"selection_policy\":{\"id\":\"4549\",\"type\":\"UnionRenderers\"}},\"id\":\"4516\",\"type\":\"ColumnDataSource\"},{\"attributes\":{\"overlay\":{\"id\":\"4513\",\"type\":\"BoxAnnotation\"}},\"id\":\"4487\",\"type\":\"BoxZoomTool\"},{\"attributes\":{},\"id\":\"4472\",\"type\":\"LinearScale\"},{\"attributes\":{},\"id\":\"4549\",\"type\":\"UnionRenderers\"},{\"attributes\":{\"label\":{\"value\":\"nhours_per_yr\"},\"renderers\":[{\"id\":\"4522\",\"type\":\"GlyphRenderer\"}]},\"id\":\"4532\",\"type\":\"LegendItem\"},{\"attributes\":{\"line_alpha\":0.1,\"line_color\":\"#ff7f0e\",\"line_width\":2,\"x\":{\"field\":\"index\"},\"y\":{\"field\":\"value\"}},\"id\":\"4520\",\"type\":\"Line\"},{\"attributes\":{},\"id\":\"4480\",\"type\":\"BasicTicker\"},{\"attributes\":{\"axis_label\":\"\",\"bounds\":\"auto\",\"formatter\":{\"id\":\"4497\",\"type\":\"BasicTickFormatter\"},\"major_label_orientation\":\"horizontal\",\"ticker\":{\"id\":\"4475\",\"type\":\"BasicTicker\"}},\"id\":\"4474\",\"type\":\"LinearAxis\"},{\"attributes\":{\"axis_label\":\"\",\"bounds\":\"auto\",\"formatter\":{\"id\":\"4499\",\"type\":\"BasicTickFormatter\"},\"major_label_orientation\":\"horizontal\",\"ticker\":{\"id\":\"4480\",\"type\":\"BasicTicker\"}},\"id\":\"4479\",\"type\":\"LinearAxis\"},{\"attributes\":{},\"id\":\"4470\",\"type\":\"LinearScale\"},{\"attributes\":{\"text\":\"\",\"text_color\":{\"value\":\"black\"},\"text_font_size\":{\"value\":\"12pt\"}},\"id\":\"4466\",\"type\":\"Title\"},{\"attributes\":{\"line_alpha\":0.1,\"line_color\":\"#1f77b4\",\"line_width\":2,\"x\":{\"field\":\"index\"},\"y\":{\"field\":\"value\"}},\"id\":\"4504\",\"type\":\"Line\"},{\"attributes\":{\"source\":{\"id\":\"4516\",\"type\":\"ColumnDataSource\"}},\"id\":\"4523\",\"type\":\"CDSView\"},{\"attributes\":{\"callback\":null,\"renderers\":[{\"id\":\"4506\",\"type\":\"GlyphRenderer\"},{\"id\":\"4522\",\"type\":\"GlyphRenderer\"},{\"id\":\"4539\",\"type\":\"GlyphRenderer\"}],\"tags\":[\"hv_created\"],\"tooltips\":[[\"Variable\",\"@{Variable}\"],[\"index\",\"@{index}\"],[\"value\",\"@{value}\"]]},\"id\":\"4462\",\"type\":\"HoverTool\"},{\"attributes\":{\"line_alpha\":0.1,\"line_color\":\"#2ca02c\",\"line_width\":2,\"x\":{\"field\":\"index\"},\"y\":{\"field\":\"value\"}},\"id\":\"4537\",\"type\":\"Line\"},{\"attributes\":{\"callback\":null,\"end\":8784.0,\"reset_end\":8784.0,\"reset_start\":0.4060502283105023,\"start\":0.4060502283105023,\"tags\":[[[\"value\",\"value\",null]]]},\"id\":\"4461\",\"type\":\"Range1d\"},{\"attributes\":{},\"id\":\"4501\",\"type\":\"Selection\"},{\"attributes\":{},\"id\":\"4562\",\"type\":\"UnionRenderers\"},{\"attributes\":{\"callback\":null,\"data\":{\"Variable\":[\"ratio\",\"ratio\",\"ratio\",\"ratio\",\"ratio\",\"ratio\",\"ratio\",\"ratio\",\"ratio\",\"ratio\",\"ratio\"],\"index\":[2009,2010,2011,2012,2013,2014,2015,2016,2017,2018,2019],\"value\":{\"__ndarray__\":\"THbKcsNk3z/GNRbXWFzvP0S7qYZAtO8/l7kKdWHD7z9RPBK+FcXvP7D5jLMAm+8/AAAAAAAA8D8AAAAAAADwPwAAAAAAAPA/qD5sx33q7z/MH8gYuvzZPw==\",\"dtype\":\"float64\",\"shape\":[11]}},\"selected\":{\"id\":\"4534\",\"type\":\"Selection\"},\"selection_policy\":{\"id\":\"4562\",\"type\":\"UnionRenderers\"}},\"id\":\"4533\",\"type\":\"ColumnDataSource\"},{\"attributes\":{\"callback\":null,\"data\":{\"Variable\":[\"nfiles_per_yr\",\"nfiles_per_yr\",\"nfiles_per_yr\",\"nfiles_per_yr\",\"nfiles_per_yr\",\"nfiles_per_yr\",\"nfiles_per_yr\",\"nfiles_per_yr\",\"nfiles_per_yr\",\"nfiles_per_yr\",\"nfiles_per_yr\"],\"index\":[2009,2010,2011,2012,2013,2014,2015,2016,2017,2018,2019],\"value\":[4297,8585,8679,8719,8697,8652,8760,8784,8760,8737,3557]},\"selected\":{\"id\":\"4501\",\"type\":\"Selection\"},\"selection_policy\":{\"id\":\"4530\",\"type\":\"UnionRenderers\"}},\"id\":\"4500\",\"type\":\"ColumnDataSource\"},{\"attributes\":{},\"id\":\"4485\",\"type\":\"PanTool\"},{\"attributes\":{\"source\":{\"id\":\"4533\",\"type\":\"ColumnDataSource\"}},\"id\":\"4540\",\"type\":\"CDSView\"}],\"root_ids\":[\"4465\"]},\"title\":\"Bokeh Application\",\"version\":\"1.1.0\"}};\n",
       "  var render_items = [{\"docid\":\"ffba8523-2043-4ed2-ba17-ad92b3d7d71c\",\"roots\":{\"4465\":\"111801e3-c37f-4078-87b9-232496d1e76d\"}}];\n",
       "  root.Bokeh.embed.embed_items_notebook(docs_json, render_items);\n",
       "\n",
       "  }\n",
       "  if (root.Bokeh !== undefined) {\n",
       "    embed_document(root);\n",
       "  } else {\n",
       "    var attempts = 0;\n",
       "    var timer = setInterval(function(root) {\n",
       "      if (root.Bokeh !== undefined) {\n",
       "        embed_document(root);\n",
       "        clearInterval(timer);\n",
       "      }\n",
       "      attempts++;\n",
       "      if (attempts > 100) {\n",
       "        console.log(\"Bokeh: ERROR: Unable to run BokehJS code because BokehJS library is missing\");\n",
       "        clearInterval(timer);\n",
       "      }\n",
       "    }, 10, root)\n",
       "  }\n",
       "})(window);</script>"
      ],
      "text/plain": [
       ":NdOverlay   [Variable]\n",
       "   :Curve   [index]   (value)"
      ]
     },
     "execution_count": 50,
     "metadata": {
      "application/vnd.holoviews_exec.v0+json": {
       "id": "4465"
      }
     },
     "output_type": "execute_result"
    }
   ],
   "source": [
    "df.hvplot()"
   ]
  },
  {
   "cell_type": "code",
   "execution_count": 51,
   "metadata": {},
   "outputs": [],
   "source": [
    "df.to_csv('file_stats.csv')"
   ]
  },
  {
   "cell_type": "code",
   "execution_count": 52,
   "metadata": {},
   "outputs": [
    {
     "data": {
      "text/plain": [
       "'/u/paige/maye/src/diviner/notebooks/production'"
      ]
     },
     "execution_count": 52,
     "metadata": {},
     "output_type": "execute_result"
    }
   ],
   "source": [
    "pwd"
   ]
  },
  {
   "cell_type": "code",
   "execution_count": null,
   "metadata": {},
   "outputs": [],
   "source": []
  }
 ],
 "metadata": {
  "kernelspec": {
   "display_name": "Python 3",
   "language": "python",
   "name": "python3"
  },
  "language_info": {
   "codemirror_mode": {
    "name": "ipython",
    "version": 3
   },
   "file_extension": ".py",
   "mimetype": "text/x-python",
   "name": "python",
   "nbconvert_exporter": "python",
   "pygments_lexer": "ipython3",
   "version": "3.7.3"
  }
 },
 "nbformat": 4,
 "nbformat_minor": 4
}
