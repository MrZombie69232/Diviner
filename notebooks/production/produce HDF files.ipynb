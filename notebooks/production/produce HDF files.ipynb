{
 "metadata": {
  "name": "",
  "signature": "sha256:fdd781045f2477809605a7b8cb58e981b74a80716c99e8c487cfa46ea5569324"
 },
 "nbformat": 3,
 "nbformat_minor": 0,
 "worksheets": [
  {
   "cells": [
    {
     "cell_type": "code",
     "collapsed": false,
     "input": [
      "import pandas as pd\n",
      "from diviner import file_utils as fu\n",
      "from os.path import join as pjoin\n",
      "import glob"
     ],
     "language": "python",
     "metadata": {},
     "outputs": [],
     "prompt_number": 9
    },
    {
     "cell_type": "code",
     "collapsed": false,
     "input": [
      "dirname = fu.get_month_sample_path_from_mode('no_rad_corr')\n",
      "dirname"
     ],
     "language": "python",
     "metadata": {},
     "outputs": [
      {
       "metadata": {},
       "output_type": "pyout",
       "prompt_number": 4,
       "text": [
        "'/raid1/maye/rdr20_month_samples/no_rad_corr'"
       ]
      }
     ],
     "prompt_number": 4
    },
    {
     "cell_type": "code",
     "collapsed": false,
     "input": [
      "storepath = pjoin(dirname, 'C9.h5')"
     ],
     "language": "python",
     "metadata": {},
     "outputs": [],
     "prompt_number": 6
    },
    {
     "cell_type": "code",
     "collapsed": false,
     "input": [
      "store = pd.HDFStore(storepath, 'w')"
     ],
     "language": "python",
     "metadata": {},
     "outputs": [],
     "prompt_number": 7
    },
    {
     "cell_type": "code",
     "collapsed": false,
     "input": [
      "searchpath = pjoin(dirname, '*_C9_*.csv')"
     ],
     "language": "python",
     "metadata": {},
     "outputs": [],
     "prompt_number": 10
    },
    {
     "cell_type": "code",
     "collapsed": false,
     "input": [
      "fnames = glob.glob(searchpath)"
     ],
     "language": "python",
     "metadata": {},
     "outputs": [],
     "prompt_number": 11
    },
    {
     "cell_type": "code",
     "collapsed": false,
     "input": [
      "fnames[0]"
     ],
     "language": "python",
     "metadata": {},
     "outputs": [
      {
       "metadata": {},
       "output_type": "pyout",
       "prompt_number": 12,
       "text": [
        "'/raid1/maye/rdr20_month_samples/no_rad_corr/2013030700_C9_no_rad_corr_RDR20.csv'"
       ]
      }
     ],
     "prompt_number": 12
    },
    {
     "cell_type": "code",
     "collapsed": false,
     "input": [
      "df = pd.io.parsers.read_csv(fnames[0])"
     ],
     "language": "python",
     "metadata": {},
     "outputs": [],
     "prompt_number": 13
    },
    {
     "cell_type": "code",
     "collapsed": false,
     "input": [
      "store.append('df',df,data_columns=['clat','clon','cloctime'],index=False)"
     ],
     "language": "python",
     "metadata": {},
     "outputs": [],
     "prompt_number": 16
    },
    {
     "cell_type": "code",
     "collapsed": false,
     "input": [
      "store.get_storer('df').group.table"
     ],
     "language": "python",
     "metadata": {},
     "outputs": [
      {
       "metadata": {},
       "output_type": "pyout",
       "prompt_number": 17,
       "text": [
        "/df/table (Table(532476,)) ''\n",
        "  description := {\n",
        "  \"index\": Int64Col(shape=(), dflt=0, pos=0),\n",
        "  \"values_block_0\": Float64Col(shape=(13,), dflt=0.0, pos=1),\n",
        "  \"values_block_1\": Int64Col(shape=(7,), dflt=0, pos=2),\n",
        "  \"values_block_2\": StringCol(itemsize=12, shape=(2,), dflt='', pos=3),\n",
        "  \"clat\": Float64Col(shape=(), dflt=0.0, pos=4),\n",
        "  \"clon\": Float64Col(shape=(), dflt=0.0, pos=5),\n",
        "  \"cloctime\": Float64Col(shape=(), dflt=0.0, pos=6)}\n",
        "  byteorder := 'little'\n",
        "  chunkshape := (1213,)"
       ]
      }
     ],
     "prompt_number": 17
    },
    {
     "cell_type": "code",
     "collapsed": false,
     "input": [
      "store"
     ],
     "language": "python",
     "metadata": {},
     "outputs": [
      {
       "metadata": {},
       "output_type": "pyout",
       "prompt_number": 18,
       "text": [
        "<class 'pandas.io.pytables.HDFStore'>\n",
        "File path: /raid1/maye/rdr20_month_samples/no_rad_corr/C9.h5\n",
        "/df            frame_table  (typ->appendable,nrows->532476,ncols->25,indexers->[index],dc->[clat,clon,cloctime])"
       ]
      }
     ],
     "prompt_number": 18
    },
    {
     "cell_type": "code",
     "collapsed": false,
     "input": [],
     "language": "python",
     "metadata": {},
     "outputs": []
    }
   ],
   "metadata": {}
  }
 ]
}