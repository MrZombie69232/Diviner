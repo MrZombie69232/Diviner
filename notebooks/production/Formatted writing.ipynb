{
 "metadata": {
  "name": "",
  "signature": "sha256:0dacc24eddb0bc29cf5a5cd651596885c3e87b6de7f721de5169ab7cf7afc43c"
 },
 "nbformat": 3,
 "nbformat_minor": 0,
 "worksheets": [
  {
   "cells": [
    {
     "cell_type": "code",
     "collapsed": false,
     "input": [
      "from diviner import file_utils as fu\n",
      "from diviner import rdrx\n",
      "from diviner import calib"
     ],
     "language": "python",
     "metadata": {},
     "outputs": [],
     "prompt_number": 1
    },
    {
     "cell_type": "code",
     "collapsed": false,
     "input": [
      "tstr = '2010122010'\n",
      "rdr1 = rdrx.RDRR(tstr)"
     ],
     "language": "python",
     "metadata": {},
     "outputs": [],
     "prompt_number": 2
    },
    {
     "cell_type": "code",
     "collapsed": false,
     "input": [
      "rdr2 = pd.read_hdf('/raid1/maye/rdr_out/only_calibrate/2010122010_tb.hdf','df')"
     ],
     "language": "python",
     "metadata": {},
     "outputs": [],
     "prompt_number": 3
    },
    {
     "cell_type": "code",
     "collapsed": false,
     "input": [
      "towrite = rdr1.df['jdate orbit sundist'.split()]"
     ],
     "language": "python",
     "metadata": {},
     "outputs": [],
     "prompt_number": 4
    },
    {
     "cell_type": "code",
     "collapsed": false,
     "input": [
      "towrite.head()"
     ],
     "language": "python",
     "metadata": {},
     "outputs": [
      {
       "html": [
        "<div style=\"max-height:1000px;max-width:1500px;overflow:auto;\">\n",
        "<table border=\"1\" class=\"dataframe\">\n",
        "  <thead>\n",
        "    <tr style=\"text-align: right;\">\n",
        "      <th></th>\n",
        "      <th>jdate</th>\n",
        "      <th>orbit</th>\n",
        "      <th>sundist</th>\n",
        "    </tr>\n",
        "  </thead>\n",
        "  <tbody>\n",
        "    <tr>\n",
        "      <th>2010-12-20 10:00:00.074000</th>\n",
        "      <td> 2455550.916668</td>\n",
        "      <td> 6867</td>\n",
        "      <td> 0.98631</td>\n",
        "    </tr>\n",
        "    <tr>\n",
        "      <th>2010-12-20 10:00:00.202000</th>\n",
        "      <td> 2455550.916669</td>\n",
        "      <td> 6867</td>\n",
        "      <td> 0.98631</td>\n",
        "    </tr>\n",
        "    <tr>\n",
        "      <th>2010-12-20 10:00:00.330000</th>\n",
        "      <td> 2455550.916670</td>\n",
        "      <td> 6867</td>\n",
        "      <td> 0.98631</td>\n",
        "    </tr>\n",
        "    <tr>\n",
        "      <th>2010-12-20 10:00:00.458000</th>\n",
        "      <td> 2455550.916672</td>\n",
        "      <td> 6867</td>\n",
        "      <td> 0.98631</td>\n",
        "    </tr>\n",
        "    <tr>\n",
        "      <th>2010-12-20 10:00:00.586000</th>\n",
        "      <td> 2455550.916673</td>\n",
        "      <td> 6867</td>\n",
        "      <td> 0.98631</td>\n",
        "    </tr>\n",
        "  </tbody>\n",
        "</table>\n",
        "<p>5 rows \u00d7 3 columns</p>\n",
        "</div>"
       ],
       "metadata": {},
       "output_type": "pyout",
       "prompt_number": 5,
       "text": [
        "                                     jdate  orbit  sundist\n",
        "2010-12-20 10:00:00.074000  2455550.916668   6867  0.98631\n",
        "2010-12-20 10:00:00.202000  2455550.916669   6867  0.98631\n",
        "2010-12-20 10:00:00.330000  2455550.916670   6867  0.98631\n",
        "2010-12-20 10:00:00.458000  2455550.916672   6867  0.98631\n",
        "2010-12-20 10:00:00.586000  2455550.916673   6867  0.98631\n",
        "\n",
        "[5 rows x 3 columns]"
       ]
      }
     ],
     "prompt_number": 5
    },
    {
     "cell_type": "code",
     "collapsed": false,
     "input": [
      "towrite = towrite.head()"
     ],
     "language": "python",
     "metadata": {},
     "outputs": [],
     "prompt_number": 6
    },
    {
     "cell_type": "code",
     "collapsed": false,
     "input": [
      "towrite.index.name=\"time\""
     ],
     "language": "python",
     "metadata": {},
     "outputs": [],
     "prompt_number": 7
    },
    {
     "cell_type": "code",
     "collapsed": false,
     "input": [
      "def myformatter(input, precstring):\n",
      "    return '{:>{prec}{type}}'.format(input, prec=precstring, type='f')"
     ],
     "language": "python",
     "metadata": {},
     "outputs": [],
     "prompt_number": 28
    },
    {
     "cell_type": "code",
     "collapsed": false,
     "input": [
      "towrite.to_csv(float_format='%8.3f')"
     ],
     "language": "python",
     "metadata": {},
     "outputs": [
      {
       "metadata": {},
       "output_type": "pyout",
       "prompt_number": 24,
       "text": [
        "'time,jdate,orbit,sundist\\n2010-12-20 10:00:00.074000,2455550.917,6867.000,   0.986\\n2010-12-20 10:00:00.202000,2455550.917,6867.000,   0.986\\n2010-12-20 10:00:00.330000,2455550.917,6867.000,   0.986\\n2010-12-20 10:00:00.458000,2455550.917,6867.000,   0.986\\n2010-12-20 10:00:00.586000,2455550.917,6867.000,   0.986\\n'"
       ]
      }
     ],
     "prompt_number": 24
    },
    {
     "cell_type": "code",
     "collapsed": false,
     "input": [
      "print towrite.to_csv(date_format='%Y%m%d')"
     ],
     "language": "python",
     "metadata": {},
     "outputs": [
      {
       "output_type": "stream",
       "stream": "stdout",
       "text": [
        "time,jdate,orbit,sundist\n",
        "20101220,2455550.916667521,6867.0,0.98631\n",
        "20101220,2455550.916669002,6867.0,0.98631\n",
        "20101220,2455550.916670484,6867.0,0.98631\n",
        "20101220,2455550.916671965,6867.0,0.98631\n",
        "20101220,2455550.916673446,6867.0,0.98631\n",
        "\n"
       ]
      }
     ],
     "prompt_number": 22
    },
    {
     "cell_type": "code",
     "collapsed": false,
     "input": [
      "towrite.to_string?"
     ],
     "language": "python",
     "metadata": {},
     "outputs": [],
     "prompt_number": 26
    },
    {
     "cell_type": "code",
     "collapsed": false,
     "input": [
      "formatters = {'jdate':lambda x: myformatter(x, '8.3'),\n",
      "              'orbit':lambda x: myformatter(x, '6.4'),\n",
      "              'sundist':lambda x: myformatter(x, '5.1')}"
     ],
     "language": "python",
     "metadata": {},
     "outputs": [],
     "prompt_number": 35
    },
    {
     "cell_type": "code",
     "collapsed": false,
     "input": [
      "print towrite.to_string(formatters=formatters)"
     ],
     "language": "python",
     "metadata": {},
     "outputs": [
      {
       "output_type": "stream",
       "stream": "stdout",
       "text": [
        "                                 jdate     orbit sundist\n",
        "time                                                    \n",
        "2010-12-20 10:00:00.074000 2455550.917 6867.0000     1.0\n",
        "2010-12-20 10:00:00.202000 2455550.917 6867.0000     1.0\n",
        "2010-12-20 10:00:00.330000 2455550.917 6867.0000     1.0\n",
        "2010-12-20 10:00:00.458000 2455550.917 6867.0000     1.0\n",
        "2010-12-20 10:00:00.586000 2455550.917 6867.0000     1.0\n"
       ]
      }
     ],
     "prompt_number": 36
    },
    {
     "cell_type": "code",
     "collapsed": false,
     "input": [
      "towrite.to_string?"
     ],
     "language": "python",
     "metadata": {},
     "outputs": [],
     "prompt_number": 37
    },
    {
     "cell_type": "code",
     "collapsed": false,
     "input": [],
     "language": "python",
     "metadata": {},
     "outputs": []
    }
   ],
   "metadata": {}
  }
 ]
}