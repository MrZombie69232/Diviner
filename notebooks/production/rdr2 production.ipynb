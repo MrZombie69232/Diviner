{
 "metadata": {
  "name": "",
  "signature": "sha256:f65ac438ddc30fb3719f30ce2898b8864248f8f8ce7fac2f7fc3279d69958730"
 },
 "nbformat": 3,
 "nbformat_minor": 0,
 "worksheets": [
  {
   "cells": [
    {
     "cell_type": "code",
     "collapsed": false,
     "input": [
      "from diviner import production as prod\n",
      "import diviner\n",
      "import os\n",
      "from diviner import rdrx\n",
      "reload(rdrx)\n",
      "import sys\n",
      "from diviner import ana_utils as au\n",
      "reload(prod)\n",
      "from diviner import file_utils as fu\n",
      "import logging"
     ],
     "language": "python",
     "metadata": {},
     "outputs": [],
     "prompt_number": 1
    },
    {
     "cell_type": "code",
     "collapsed": false,
     "input": [
      "config = prod.Configurator('Ben_2010', c_start=7, c_end=8)"
     ],
     "language": "python",
     "metadata": {},
     "outputs": [],
     "prompt_number": 7
    },
    {
     "cell_type": "code",
     "collapsed": false,
     "input": [
      "tstr = config.tstrings[0]"
     ],
     "language": "python",
     "metadata": {},
     "outputs": [],
     "prompt_number": 8
    },
    {
     "cell_type": "code",
     "collapsed": false,
     "input": [
      "logger = logging.getLogger('diviner.production')\n",
      "logger.setLevel(logging.DEBUG)\n",
      "ch = logging.StreamHandler()\n",
      "ch.setLevel(logging.INFO)\n",
      "formatter=logging.Formatter('%(asctime)s - %(name)s - %(levelname)s - %(message)s')\n",
      "ch.setFormatter(formatter)\n",
      "logger.addHandler(ch)"
     ],
     "language": "python",
     "metadata": {},
     "outputs": [],
     "prompt_number": 9
    },
    {
     "cell_type": "code",
     "collapsed": false,
     "input": [
      "prod.merge_rdr1_rdr2(tstr, config)"
     ],
     "language": "python",
     "metadata": {},
     "outputs": [],
     "prompt_number": 10
    },
    {
     "cell_type": "code",
     "collapsed": false,
     "input": [
      "for tstr in config.tstrings[:1]:\n",
      "    prod.merge_rdr1_rdr2(tstr, savedir, overwrite=True)"
     ],
     "language": "python",
     "metadata": {},
     "outputs": [
      {
       "output_type": "stream",
       "stream": "stderr",
       "text": [
        "2014-05-19 16:44:33,761 - diviner.production - INFO - Processing 2010010107\n"
       ]
      }
     ]
    },
    {
     "cell_type": "code",
     "collapsed": false,
     "input": [
      "obs = fu.DivObs('2009091502')"
     ],
     "language": "python",
     "metadata": {},
     "outputs": [],
     "prompt_number": 6
    },
    {
     "cell_type": "code",
     "collapsed": false,
     "input": [
      "rdrr = obs.get_rdrr()"
     ],
     "language": "python",
     "metadata": {},
     "outputs": [],
     "prompt_number": 7
    },
    {
     "cell_type": "code",
     "collapsed": false,
     "input": [
      "rdrr.orbit.value_counts()"
     ],
     "language": "python",
     "metadata": {},
     "outputs": [
      {
       "metadata": {},
       "output_type": "pyout",
       "prompt_number": 8,
       "text": [
        "Series([], dtype: int64)"
       ]
      }
     ],
     "prompt_number": 8
    },
    {
     "cell_type": "code",
     "collapsed": false,
     "input": [
      "rdrr.head()"
     ],
     "language": "python",
     "metadata": {},
     "outputs": [
      {
       "html": [
        "<div style=\"max-height:1000px;max-width:1500px;overflow:auto;\">\n",
        "<table border=\"1\" class=\"dataframe\">\n",
        "  <thead>\n",
        "    <tr style=\"text-align: right;\">\n",
        "      <th></th>\n",
        "      <th>jdate</th>\n",
        "      <th>orbit</th>\n",
        "      <th>sundist</th>\n",
        "      <th>sunlat</th>\n",
        "      <th>sunlon</th>\n",
        "      <th>sclk</th>\n",
        "      <th>sclat</th>\n",
        "      <th>sclon</th>\n",
        "      <th>scrad</th>\n",
        "      <th>scalt</th>\n",
        "      <th>el_cmd</th>\n",
        "      <th>az_cmd</th>\n",
        "      <th>af</th>\n",
        "      <th>orientlat</th>\n",
        "      <th>orientlon</th>\n",
        "      <th>sounding</th>\n",
        "      <th>from_pkt</th>\n",
        "      <th>pkt_count</th>\n",
        "      <th>safing</th>\n",
        "      <th>safed</th>\n",
        "      <th></th>\n",
        "    </tr>\n",
        "  </thead>\n",
        "  <tbody>\n",
        "    <tr>\n",
        "      <th>2009-09-15 02:00:00.123000</th>\n",
        "      <td> 2455089.583335</td>\n",
        "      <td>NaN</td>\n",
        "      <td> 1.00413</td>\n",
        "      <td>-1.24609</td>\n",
        "      <td> 229.32613</td>\n",
        "      <td> 2.746728e+08</td>\n",
        "      <td>-13.23094</td>\n",
        "      <td> 66.59911</td>\n",
        "      <td> 1822.36097</td>\n",
        "      <td> 85.00439</td>\n",
        "      <td> 180</td>\n",
        "      <td> 240</td>\n",
        "      <td> 110</td>\n",
        "      <td>-0.02248</td>\n",
        "      <td> 336.70181</td>\n",
        "      <td>  6</td>\n",
        "      <td> 14706</td>\n",
        "      <td>   NaN</td>\n",
        "      <td>NaN</td>\n",
        "      <td>NaN</td>\n",
        "      <td>...</td>\n",
        "    </tr>\n",
        "    <tr>\n",
        "      <th>2009-09-15 02:00:00.251000</th>\n",
        "      <td> 2455089.583336</td>\n",
        "      <td>NaN</td>\n",
        "      <td> 1.00413</td>\n",
        "      <td>-1.24609</td>\n",
        "      <td> 229.32611</td>\n",
        "      <td> 2.746728e+08</td>\n",
        "      <td>-13.22428</td>\n",
        "      <td> 66.59913</td>\n",
        "      <td> 1822.37020</td>\n",
        "      <td> 85.01362</td>\n",
        "      <td> 180</td>\n",
        "      <td> 240</td>\n",
        "      <td> 110</td>\n",
        "      <td>-0.02273</td>\n",
        "      <td> 336.70179</td>\n",
        "      <td>  7</td>\n",
        "      <td> 14706</td>\n",
        "      <td>   NaN</td>\n",
        "      <td>NaN</td>\n",
        "      <td>NaN</td>\n",
        "      <td>...</td>\n",
        "    </tr>\n",
        "    <tr>\n",
        "      <th>2009-09-15 02:00:00.379000</th>\n",
        "      <td> 2455089.583338</td>\n",
        "      <td>NaN</td>\n",
        "      <td> 1.00413</td>\n",
        "      <td>-1.24609</td>\n",
        "      <td> 229.32609</td>\n",
        "      <td> 2.746728e+08</td>\n",
        "      <td>-13.21763</td>\n",
        "      <td> 66.59914</td>\n",
        "      <td> 1822.37942</td>\n",
        "      <td> 85.02285</td>\n",
        "      <td> 180</td>\n",
        "      <td> 240</td>\n",
        "      <td> 110</td>\n",
        "      <td>-0.02303</td>\n",
        "      <td> 336.70186</td>\n",
        "      <td>  8</td>\n",
        "      <td> 14707</td>\n",
        "      <td> 29324</td>\n",
        "      <td>  0</td>\n",
        "      <td>  0</td>\n",
        "      <td>...</td>\n",
        "    </tr>\n",
        "    <tr>\n",
        "      <th>2009-09-15 02:00:00.507000</th>\n",
        "      <td> 2455089.583339</td>\n",
        "      <td>NaN</td>\n",
        "      <td> 1.00413</td>\n",
        "      <td>-1.24609</td>\n",
        "      <td> 229.32608</td>\n",
        "      <td> 2.746728e+08</td>\n",
        "      <td>-13.21098</td>\n",
        "      <td> 66.59916</td>\n",
        "      <td> 1822.38865</td>\n",
        "      <td> 85.03208</td>\n",
        "      <td> 180</td>\n",
        "      <td> 240</td>\n",
        "      <td> 110</td>\n",
        "      <td>-0.02308</td>\n",
        "      <td> 336.70187</td>\n",
        "      <td>  9</td>\n",
        "      <td> 14707</td>\n",
        "      <td>   NaN</td>\n",
        "      <td>NaN</td>\n",
        "      <td>NaN</td>\n",
        "      <td>...</td>\n",
        "    </tr>\n",
        "    <tr>\n",
        "      <th>2009-09-15 02:00:00.635000</th>\n",
        "      <td> 2455089.583341</td>\n",
        "      <td>NaN</td>\n",
        "      <td> 1.00413</td>\n",
        "      <td>-1.24609</td>\n",
        "      <td> 229.32606</td>\n",
        "      <td> 2.746728e+08</td>\n",
        "      <td>-13.20433</td>\n",
        "      <td> 66.59917</td>\n",
        "      <td> 1822.39788</td>\n",
        "      <td> 85.04131</td>\n",
        "      <td> 180</td>\n",
        "      <td> 240</td>\n",
        "      <td> 110</td>\n",
        "      <td>-0.02304</td>\n",
        "      <td> 336.70186</td>\n",
        "      <td> 10</td>\n",
        "      <td> 14708</td>\n",
        "      <td>   NaN</td>\n",
        "      <td>NaN</td>\n",
        "      <td>NaN</td>\n",
        "      <td>...</td>\n",
        "    </tr>\n",
        "  </tbody>\n",
        "</table>\n",
        "<p>5 rows \u00d7 2937 columns</p>\n",
        "</div>"
       ],
       "metadata": {},
       "output_type": "pyout",
       "prompt_number": 10,
       "text": [
        "                                     jdate  orbit  sundist   sunlat  \\\n",
        "2009-09-15 02:00:00.123000  2455089.583335    NaN  1.00413 -1.24609   \n",
        "2009-09-15 02:00:00.251000  2455089.583336    NaN  1.00413 -1.24609   \n",
        "2009-09-15 02:00:00.379000  2455089.583338    NaN  1.00413 -1.24609   \n",
        "2009-09-15 02:00:00.507000  2455089.583339    NaN  1.00413 -1.24609   \n",
        "2009-09-15 02:00:00.635000  2455089.583341    NaN  1.00413 -1.24609   \n",
        "\n",
        "                               sunlon          sclk     sclat     sclon  \\\n",
        "2009-09-15 02:00:00.123000  229.32613  2.746728e+08 -13.23094  66.59911   \n",
        "2009-09-15 02:00:00.251000  229.32611  2.746728e+08 -13.22428  66.59913   \n",
        "2009-09-15 02:00:00.379000  229.32609  2.746728e+08 -13.21763  66.59914   \n",
        "2009-09-15 02:00:00.507000  229.32608  2.746728e+08 -13.21098  66.59916   \n",
        "2009-09-15 02:00:00.635000  229.32606  2.746728e+08 -13.20433  66.59917   \n",
        "\n",
        "                                 scrad     scalt  el_cmd  az_cmd   af  \\\n",
        "2009-09-15 02:00:00.123000  1822.36097  85.00439     180     240  110   \n",
        "2009-09-15 02:00:00.251000  1822.37020  85.01362     180     240  110   \n",
        "2009-09-15 02:00:00.379000  1822.37942  85.02285     180     240  110   \n",
        "2009-09-15 02:00:00.507000  1822.38865  85.03208     180     240  110   \n",
        "2009-09-15 02:00:00.635000  1822.39788  85.04131     180     240  110   \n",
        "\n",
        "                            orientlat  orientlon  sounding  from_pkt  \\\n",
        "2009-09-15 02:00:00.123000   -0.02248  336.70181         6     14706   \n",
        "2009-09-15 02:00:00.251000   -0.02273  336.70179         7     14706   \n",
        "2009-09-15 02:00:00.379000   -0.02303  336.70186         8     14707   \n",
        "2009-09-15 02:00:00.507000   -0.02308  336.70187         9     14707   \n",
        "2009-09-15 02:00:00.635000   -0.02304  336.70186        10     14708   \n",
        "\n",
        "                            pkt_count  safing  safed      \n",
        "2009-09-15 02:00:00.123000        NaN     NaN    NaN ...  \n",
        "2009-09-15 02:00:00.251000        NaN     NaN    NaN ...  \n",
        "2009-09-15 02:00:00.379000      29324       0      0 ...  \n",
        "2009-09-15 02:00:00.507000        NaN     NaN    NaN ...  \n",
        "2009-09-15 02:00:00.635000        NaN     NaN    NaN ...  \n",
        "\n",
        "[5 rows x 2937 columns]"
       ]
      }
     ],
     "prompt_number": 10
    },
    {
     "cell_type": "code",
     "collapsed": false,
     "input": [
      "df = pd.DataFrame(randn(3,2), columns=list(\"AB\"))"
     ],
     "language": "python",
     "metadata": {},
     "outputs": [],
     "prompt_number": 21
    },
    {
     "cell_type": "code",
     "collapsed": false,
     "input": [
      "df.loc[:,'A'] = np.nan"
     ],
     "language": "python",
     "metadata": {},
     "outputs": [],
     "prompt_number": 26
    },
    {
     "cell_type": "code",
     "collapsed": false,
     "input": [
      "df"
     ],
     "language": "python",
     "metadata": {},
     "outputs": [
      {
       "html": [
        "<div style=\"max-height:1000px;max-width:1500px;overflow:auto;\">\n",
        "<table border=\"1\" class=\"dataframe\">\n",
        "  <thead>\n",
        "    <tr style=\"text-align: right;\">\n",
        "      <th></th>\n",
        "      <th>A</th>\n",
        "      <th>B</th>\n",
        "    </tr>\n",
        "  </thead>\n",
        "  <tbody>\n",
        "    <tr>\n",
        "      <th>0</th>\n",
        "      <td>NaN</td>\n",
        "      <td>-0.776263</td>\n",
        "    </tr>\n",
        "    <tr>\n",
        "      <th>1</th>\n",
        "      <td>NaN</td>\n",
        "      <td> 1.555078</td>\n",
        "    </tr>\n",
        "    <tr>\n",
        "      <th>2</th>\n",
        "      <td>NaN</td>\n",
        "      <td> 0.253436</td>\n",
        "    </tr>\n",
        "  </tbody>\n",
        "</table>\n",
        "<p>3 rows \u00d7 2 columns</p>\n",
        "</div>"
       ],
       "metadata": {},
       "output_type": "pyout",
       "prompt_number": 27,
       "text": [
        "    A         B\n",
        "0 NaN -0.776263\n",
        "1 NaN  1.555078\n",
        "2 NaN  0.253436\n",
        "\n",
        "[3 rows x 2 columns]"
       ]
      }
     ],
     "prompt_number": 27
    },
    {
     "cell_type": "code",
     "collapsed": false,
     "input": [
      "len(df.A.value_counts())"
     ],
     "language": "python",
     "metadata": {},
     "outputs": [
      {
       "metadata": {},
       "output_type": "pyout",
       "prompt_number": 29,
       "text": [
        "0"
       ]
      }
     ],
     "prompt_number": 29
    },
    {
     "cell_type": "code",
     "collapsed": false,
     "input": [
      "getattr()"
     ],
     "language": "python",
     "metadata": {},
     "outputs": []
    }
   ],
   "metadata": {}
  }
 ]
}