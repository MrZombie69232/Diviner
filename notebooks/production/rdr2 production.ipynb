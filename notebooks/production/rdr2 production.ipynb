{
 "metadata": {
  "name": "",
  "signature": "sha256:acd06b40245cc9aa878eb7f3edab920837028136042ce507e114e8f8cf777ae2"
 },
 "nbformat": 3,
 "nbformat_minor": 0,
 "worksheets": [
  {
   "cells": [
    {
     "cell_type": "code",
     "collapsed": false,
     "input": [
      "from diviner import production as prod\n",
      "import diviner\n",
      "import os\n",
      "from diviner import rdrx\n",
      "reload(rdrx)\n",
      "import sys\n",
      "from diviner import ana_utils as au\n",
      "reload(prod)\n",
      "from diviner import file_utils as fu"
     ],
     "language": "python",
     "metadata": {},
     "outputs": [],
     "prompt_number": 82
    },
    {
     "cell_type": "code",
     "collapsed": false,
     "input": [
      "tstrings = prod.beta_90_circular_orbit()\n",
      "channel = au.Channel(3)\n",
      "savedir = '/raid1/maye/rdr_out/only_calibrate'\n",
      "# tstr = tstrings[0]\n",
      "for tstr in tstrings:\n",
      "    if not os.path.exists(prod.get_tb_savename(savedir, tstr)):\n",
      "        print tstr"
     ],
     "language": "python",
     "metadata": {},
     "outputs": [
      {
       "output_type": "stream",
       "stream": "stdout",
       "text": [
        "2010122106\n",
        "2010122107\n",
        "2010122108\n",
        "2010122109\n",
        "2010122110\n",
        "2010122111\n",
        "2010122112\n",
        "2010122113\n",
        "2010122114\n",
        "2010122115\n",
        "2010122116\n"
       ]
      }
     ],
     "prompt_number": 88
    },
    {
     "cell_type": "code",
     "collapsed": false,
     "input": [
      "rdr2 = prod.merge_rdr1_rdr2(tstr, channel.div, savedir)"
     ],
     "language": "python",
     "metadata": {},
     "outputs": [],
     "prompt_number": 76
    },
    {
     "cell_type": "code",
     "collapsed": false,
     "input": [
      "rdr2.set_index('index', inplace=True)"
     ],
     "language": "python",
     "metadata": {},
     "outputs": [],
     "prompt_number": 77
    },
    {
     "cell_type": "code",
     "collapsed": false,
     "input": [
      "rdr2.index.microsecond / 1000"
     ],
     "language": "python",
     "metadata": {},
     "outputs": [
      {
       "metadata": {},
       "output_type": "pyout",
       "prompt_number": 78,
       "text": [
        "array([112, 112, 112, ..., 918, 918, 918])"
       ]
      }
     ],
     "prompt_number": 78
    },
    {
     "cell_type": "code",
     "collapsed": false,
     "input": [
      "def add_time_columns(df):\n",
      "    df['hour'] = df.index.hour\n",
      "    df['minute'] = df.index.minute\n",
      "    df['second'] = df.index.second\n",
      "    df['micro'] = df.index.microsecond / 1000\n",
      "    df['year'] = df.index.year\n",
      "    df['month'] = df.index.month\n",
      "    df['date'] = df.index.day"
     ],
     "language": "python",
     "metadata": {},
     "outputs": [],
     "prompt_number": 79
    },
    {
     "cell_type": "code",
     "collapsed": false,
     "input": [
      "add_time_columns(rdr2)"
     ],
     "language": "python",
     "metadata": {},
     "outputs": [],
     "prompt_number": 80
    },
    {
     "cell_type": "code",
     "collapsed": false,
     "input": [
      "rdr2.second.astype('str')+'.'+rdr2.micro.astype('str')"
     ],
     "language": "python",
     "metadata": {},
     "outputs": [
      {
       "metadata": {},
       "output_type": "pyout",
       "prompt_number": 81,
       "text": [
        "index\n",
        "2009-08-23 21:00:00.112000    0.112\n",
        "2009-08-23 21:00:00.112000    0.112\n",
        "2009-08-23 21:00:00.112000    0.112\n",
        "2009-08-23 21:00:00.112000    0.112\n",
        "2009-08-23 21:00:00.112000    0.112\n",
        "2009-08-23 21:00:00.112000    0.112\n",
        "2009-08-23 21:00:00.112000    0.112\n",
        "2009-08-23 21:00:00.112000    0.112\n",
        "2009-08-23 21:00:00.112000    0.112\n",
        "2009-08-23 21:00:00.112000    0.112\n",
        "2009-08-23 21:00:00.112000    0.112\n",
        "2009-08-23 21:00:00.112000    0.112\n",
        "2009-08-23 21:00:00.112000    0.112\n",
        "2009-08-23 21:00:00.112000    0.112\n",
        "2009-08-23 21:00:00.112000    0.112\n",
        "...\n",
        "2009-08-23 21:59:59.918000    59.918\n",
        "2009-08-23 21:59:59.918000    59.918\n",
        "2009-08-23 21:59:59.918000    59.918\n",
        "2009-08-23 21:59:59.918000    59.918\n",
        "2009-08-23 21:59:59.918000    59.918\n",
        "2009-08-23 21:59:59.918000    59.918\n",
        "2009-08-23 21:59:59.918000    59.918\n",
        "2009-08-23 21:59:59.918000    59.918\n",
        "2009-08-23 21:59:59.918000    59.918\n",
        "2009-08-23 21:59:59.918000    59.918\n",
        "2009-08-23 21:59:59.918000    59.918\n",
        "2009-08-23 21:59:59.918000    59.918\n",
        "2009-08-23 21:59:59.918000    59.918\n",
        "2009-08-23 21:59:59.918000    59.918\n",
        "2009-08-23 21:59:59.918000    59.918\n",
        "Length: 590604"
       ]
      }
     ],
     "prompt_number": 81
    },
    {
     "cell_type": "code",
     "collapsed": false,
     "input": [],
     "language": "python",
     "metadata": {},
     "outputs": []
    }
   ],
   "metadata": {}
  }
 ]
}