{
 "metadata": {
  "name": "",
  "signature": "sha256:28faba76fc1b7769757d8707b823b7ee76dbba843bb7b343b764b2f40f431ca1"
 },
 "nbformat": 3,
 "nbformat_minor": 0,
 "worksheets": [
  {
   "cells": [
    {
     "cell_type": "code",
     "collapsed": false,
     "input": [
      "from diviner import production as prod\n",
      "import diviner\n",
      "import os\n",
      "from diviner import rdrx\n",
      "reload(rdrx)\n",
      "import sys\n",
      "from diviner import ana_utils as au\n",
      "reload(prod)\n",
      "from diviner import file_utils as fu\n",
      "import logging"
     ],
     "language": "python",
     "metadata": {},
     "outputs": [],
     "prompt_number": 2
    },
    {
     "cell_type": "code",
     "collapsed": false,
     "input": [
      "tstrings = prod.beta_0_circular_orbit()\n",
      "channel = au.Channel('7')\n",
      "savedir = '/raid1/maye/rdr_out/only_calibrate'\n",
      "tstr = tstrings[0]"
     ],
     "language": "python",
     "metadata": {},
     "outputs": [],
     "prompt_number": 2
    },
    {
     "cell_type": "code",
     "collapsed": false,
     "input": [
      "logger = logging.getLogger('diviner')\n",
      "logger.setLevel(logging.DEBUG)\n",
      "ch = logging.StreamHandler()\n",
      "ch.setLevel(logging.INFO)\n",
      "formatter=logging.Formatter('%(asctime)s - %(name)s - %(levelname)s - %(message)s')\n",
      "ch.setFormatter(formatter)\n",
      "logger.addHandler(ch)"
     ],
     "language": "python",
     "metadata": {},
     "outputs": [],
     "prompt_number": 3
    },
    {
     "cell_type": "code",
     "collapsed": false,
     "input": [
      "for tstr in tstrings:\n",
      "    prod.merge_rdr1_rdr2(tstr, savedir)"
     ],
     "language": "python",
     "metadata": {},
     "outputs": [
      {
       "output_type": "stream",
       "stream": "stderr",
       "text": [
        "2014-05-01 17:52:00,822 - diviner.production - INFO - Processing 2009091502\n"
       ]
      },
      {
       "output_type": "stream",
       "stream": "stderr",
       "text": [
        "2014-05-01 17:55:43,409 - diviner.production - INFO - Processing 2009091503\n"
       ]
      },
      {
       "ename": "KeyboardInterrupt",
       "evalue": "",
       "output_type": "pyerr",
       "traceback": [
        "\u001b[1;31m---------------------------------------------------------------------------\u001b[0m\n\u001b[1;31mKeyboardInterrupt\u001b[0m                         Traceback (most recent call last)",
        "\u001b[1;32m<ipython-input-4-dd72c1bcb7bf>\u001b[0m in \u001b[0;36m<module>\u001b[1;34m()\u001b[0m\n\u001b[0;32m      1\u001b[0m \u001b[1;32mfor\u001b[0m \u001b[0mtstr\u001b[0m \u001b[1;32min\u001b[0m \u001b[0mtstrings\u001b[0m\u001b[1;33m:\u001b[0m\u001b[1;33m\u001b[0m\u001b[0m\n\u001b[1;32m----> 2\u001b[1;33m     \u001b[0mprod\u001b[0m\u001b[1;33m.\u001b[0m\u001b[0mmerge_rdr1_rdr2\u001b[0m\u001b[1;33m(\u001b[0m\u001b[0mtstr\u001b[0m\u001b[1;33m,\u001b[0m \u001b[0msavedir\u001b[0m\u001b[1;33m)\u001b[0m\u001b[1;33m\u001b[0m\u001b[0m\n\u001b[0m",
        "\u001b[1;32m/u/paige/maye/src/diviner/production.pyc\u001b[0m in \u001b[0;36mmerge_rdr1_rdr2\u001b[1;34m(tstr, savedir, overwrite)\u001b[0m\n\u001b[0;32m    191\u001b[0m                                  right_on=mergecols)\n\u001b[0;32m    192\u001b[0m         \u001b[0mrdr2\u001b[0m \u001b[1;33m=\u001b[0m \u001b[0mrdr2\u001b[0m\u001b[1;33m.\u001b[0m\u001b[0mmerge\u001b[0m\u001b[1;33m(\u001b[0m\u001b[0mrad_molten_c\u001b[0m\u001b[1;33m,\u001b[0m \u001b[0mleft_on\u001b[0m\u001b[1;33m=\u001b[0m\u001b[0mmergecols\u001b[0m\u001b[1;33m,\u001b[0m \u001b[0mright_on\u001b[0m\u001b[1;33m=\u001b[0m\u001b[0mmergecols\u001b[0m\u001b[1;33m)\u001b[0m\u001b[1;33m\u001b[0m\u001b[0m\n\u001b[1;32m--> 193\u001b[1;33m         \u001b[0madd_time_columns\u001b[0m\u001b[1;33m(\u001b[0m\u001b[0mrdr2\u001b[0m\u001b[1;33m)\u001b[0m\u001b[1;33m\u001b[0m\u001b[0m\n\u001b[0m\u001b[0;32m    194\u001b[0m         \u001b[1;32mtry\u001b[0m\u001b[1;33m:\u001b[0m\u001b[1;33m\u001b[0m\u001b[0m\n\u001b[0;32m    195\u001b[0m             \u001b[0mrdr2\u001b[0m\u001b[1;33m.\u001b[0m\u001b[0morbit\u001b[0m \u001b[1;33m=\u001b[0m \u001b[0mrdr2\u001b[0m\u001b[1;33m.\u001b[0m\u001b[0morbit\u001b[0m\u001b[1;33m.\u001b[0m\u001b[0mastype\u001b[0m\u001b[1;33m(\u001b[0m\u001b[1;34m'int'\u001b[0m\u001b[1;33m)\u001b[0m\u001b[1;33m\u001b[0m\u001b[0m\n",
        "\u001b[1;32m/u/paige/maye/src/diviner/production.pyc\u001b[0m in \u001b[0;36madd_time_columns\u001b[1;34m(df)\u001b[0m\n\u001b[0;32m    146\u001b[0m     \u001b[0mdf\u001b[0m\u001b[1;33m[\u001b[0m\u001b[1;34m'month'\u001b[0m\u001b[1;33m]\u001b[0m \u001b[1;33m=\u001b[0m \u001b[0mtindex\u001b[0m\u001b[1;33m.\u001b[0m\u001b[0mmonth\u001b[0m\u001b[1;33m\u001b[0m\u001b[0m\n\u001b[0;32m    147\u001b[0m     \u001b[0mdf\u001b[0m\u001b[1;33m[\u001b[0m\u001b[1;34m'date'\u001b[0m\u001b[1;33m]\u001b[0m \u001b[1;33m=\u001b[0m \u001b[0mtindex\u001b[0m\u001b[1;33m.\u001b[0m\u001b[0mday\u001b[0m\u001b[1;33m\u001b[0m\u001b[0m\n\u001b[1;32m--> 148\u001b[1;33m     \u001b[0mdf\u001b[0m\u001b[1;33m[\u001b[0m\u001b[1;34m'second'\u001b[0m\u001b[1;33m]\u001b[0m \u001b[1;33m=\u001b[0m \u001b[0mdf\u001b[0m\u001b[1;33m.\u001b[0m\u001b[0msecond\u001b[0m\u001b[1;33m.\u001b[0m\u001b[0mastype\u001b[0m\u001b[1;33m(\u001b[0m\u001b[1;34m'str'\u001b[0m\u001b[1;33m)\u001b[0m \u001b[1;33m+\u001b[0m \u001b[1;34m'.'\u001b[0m \u001b[1;33m+\u001b[0m \u001b[0mdf\u001b[0m\u001b[1;33m.\u001b[0m\u001b[0mmicro\u001b[0m\u001b[1;33m.\u001b[0m\u001b[0mastype\u001b[0m\u001b[1;33m(\u001b[0m\u001b[1;34m'str'\u001b[0m\u001b[1;33m)\u001b[0m\u001b[1;33m\u001b[0m\u001b[0m\n\u001b[0m\u001b[0;32m    149\u001b[0m     \u001b[0mdf\u001b[0m\u001b[1;33m.\u001b[0m\u001b[0mdrop\u001b[0m\u001b[1;33m(\u001b[0m\u001b[1;34m'micro'\u001b[0m\u001b[1;33m,\u001b[0m \u001b[0maxis\u001b[0m\u001b[1;33m=\u001b[0m\u001b[1;36m1\u001b[0m\u001b[1;33m,\u001b[0m \u001b[0minplace\u001b[0m\u001b[1;33m=\u001b[0m\u001b[0mTrue\u001b[0m\u001b[1;33m)\u001b[0m\u001b[1;33m\u001b[0m\u001b[0m\n\u001b[0;32m    150\u001b[0m \u001b[1;33m\u001b[0m\u001b[0m\n",
        "\u001b[1;32m/u/paige/maye/anaconda/lib/python2.7/site-packages/pandas-0.13.1_769_gf26cf9e-py2.7-linux-x86_64.egg/pandas/core/generic.pyc\u001b[0m in \u001b[0;36mastype\u001b[1;34m(self, dtype, copy, raise_on_error)\u001b[0m\n\u001b[0;32m   2040\u001b[0m \u001b[1;33m\u001b[0m\u001b[0m\n\u001b[0;32m   2041\u001b[0m         mgr = self._data.astype(\n\u001b[1;32m-> 2042\u001b[1;33m             dtype=dtype, copy=copy, raise_on_error=raise_on_error)\n\u001b[0m\u001b[0;32m   2043\u001b[0m         \u001b[1;32mreturn\u001b[0m \u001b[0mself\u001b[0m\u001b[1;33m.\u001b[0m\u001b[0m_constructor\u001b[0m\u001b[1;33m(\u001b[0m\u001b[0mmgr\u001b[0m\u001b[1;33m)\u001b[0m\u001b[1;33m.\u001b[0m\u001b[0m__finalize__\u001b[0m\u001b[1;33m(\u001b[0m\u001b[0mself\u001b[0m\u001b[1;33m)\u001b[0m\u001b[1;33m\u001b[0m\u001b[0m\n\u001b[0;32m   2044\u001b[0m \u001b[1;33m\u001b[0m\u001b[0m\n",
        "\u001b[1;32m/u/paige/maye/anaconda/lib/python2.7/site-packages/pandas-0.13.1_769_gf26cf9e-py2.7-linux-x86_64.egg/pandas/core/internals.pyc\u001b[0m in \u001b[0;36mastype\u001b[1;34m(self, dtype, **kwargs)\u001b[0m\n\u001b[0;32m   2207\u001b[0m \u001b[1;33m\u001b[0m\u001b[0m\n\u001b[0;32m   2208\u001b[0m     \u001b[1;32mdef\u001b[0m \u001b[0mastype\u001b[0m\u001b[1;33m(\u001b[0m\u001b[0mself\u001b[0m\u001b[1;33m,\u001b[0m \u001b[0mdtype\u001b[0m\u001b[1;33m,\u001b[0m \u001b[1;33m**\u001b[0m\u001b[0mkwargs\u001b[0m\u001b[1;33m)\u001b[0m\u001b[1;33m:\u001b[0m\u001b[1;33m\u001b[0m\u001b[0m\n\u001b[1;32m-> 2209\u001b[1;33m         \u001b[1;32mreturn\u001b[0m \u001b[0mself\u001b[0m\u001b[1;33m.\u001b[0m\u001b[0mapply\u001b[0m\u001b[1;33m(\u001b[0m\u001b[1;34m'astype'\u001b[0m\u001b[1;33m,\u001b[0m \u001b[0mdtype\u001b[0m\u001b[1;33m=\u001b[0m\u001b[0mdtype\u001b[0m\u001b[1;33m,\u001b[0m \u001b[1;33m**\u001b[0m\u001b[0mkwargs\u001b[0m\u001b[1;33m)\u001b[0m\u001b[1;33m\u001b[0m\u001b[0m\n\u001b[0m\u001b[0;32m   2210\u001b[0m \u001b[1;33m\u001b[0m\u001b[0m\n\u001b[0;32m   2211\u001b[0m     \u001b[1;32mdef\u001b[0m \u001b[0mconvert\u001b[0m\u001b[1;33m(\u001b[0m\u001b[0mself\u001b[0m\u001b[1;33m,\u001b[0m \u001b[1;33m**\u001b[0m\u001b[0mkwargs\u001b[0m\u001b[1;33m)\u001b[0m\u001b[1;33m:\u001b[0m\u001b[1;33m\u001b[0m\u001b[0m\n",
        "\u001b[1;32m/u/paige/maye/anaconda/lib/python2.7/site-packages/pandas-0.13.1_769_gf26cf9e-py2.7-linux-x86_64.egg/pandas/core/internals.pyc\u001b[0m in \u001b[0;36mapply\u001b[1;34m(self, f, axes, filter, do_integrity_check, **kwargs)\u001b[0m\n\u001b[0;32m   2162\u001b[0m                                                  copy=align_copy)\n\u001b[0;32m   2163\u001b[0m \u001b[1;33m\u001b[0m\u001b[0m\n\u001b[1;32m-> 2164\u001b[1;33m             \u001b[0mapplied\u001b[0m \u001b[1;33m=\u001b[0m \u001b[0mgetattr\u001b[0m\u001b[1;33m(\u001b[0m\u001b[0mb\u001b[0m\u001b[1;33m,\u001b[0m \u001b[0mf\u001b[0m\u001b[1;33m)\u001b[0m\u001b[1;33m(\u001b[0m\u001b[1;33m**\u001b[0m\u001b[0mkwargs\u001b[0m\u001b[1;33m)\u001b[0m\u001b[1;33m\u001b[0m\u001b[0m\n\u001b[0m\u001b[0;32m   2165\u001b[0m \u001b[1;33m\u001b[0m\u001b[0m\n\u001b[0;32m   2166\u001b[0m             \u001b[1;32mif\u001b[0m \u001b[0misinstance\u001b[0m\u001b[1;33m(\u001b[0m\u001b[0mapplied\u001b[0m\u001b[1;33m,\u001b[0m \u001b[0mlist\u001b[0m\u001b[1;33m)\u001b[0m\u001b[1;33m:\u001b[0m\u001b[1;33m\u001b[0m\u001b[0m\n",
        "\u001b[1;32m/u/paige/maye/anaconda/lib/python2.7/site-packages/pandas-0.13.1_769_gf26cf9e-py2.7-linux-x86_64.egg/pandas/core/internals.pyc\u001b[0m in \u001b[0;36mastype\u001b[1;34m(self, dtype, copy, raise_on_error, values)\u001b[0m\n\u001b[0;32m    321\u001b[0m     \u001b[1;32mdef\u001b[0m \u001b[0mastype\u001b[0m\u001b[1;33m(\u001b[0m\u001b[0mself\u001b[0m\u001b[1;33m,\u001b[0m \u001b[0mdtype\u001b[0m\u001b[1;33m,\u001b[0m \u001b[0mcopy\u001b[0m\u001b[1;33m=\u001b[0m\u001b[0mFalse\u001b[0m\u001b[1;33m,\u001b[0m \u001b[0mraise_on_error\u001b[0m\u001b[1;33m=\u001b[0m\u001b[0mTrue\u001b[0m\u001b[1;33m,\u001b[0m \u001b[0mvalues\u001b[0m\u001b[1;33m=\u001b[0m\u001b[0mNone\u001b[0m\u001b[1;33m)\u001b[0m\u001b[1;33m:\u001b[0m\u001b[1;33m\u001b[0m\u001b[0m\n\u001b[0;32m    322\u001b[0m         return self._astype(dtype, copy=copy, raise_on_error=raise_on_error,\n\u001b[1;32m--> 323\u001b[1;33m                             values=values)\n\u001b[0m\u001b[0;32m    324\u001b[0m \u001b[1;33m\u001b[0m\u001b[0m\n\u001b[0;32m    325\u001b[0m     def _astype(self, dtype, copy=False, raise_on_error=True, values=None,\n",
        "\u001b[1;32m/u/paige/maye/anaconda/lib/python2.7/site-packages/pandas-0.13.1_769_gf26cf9e-py2.7-linux-x86_64.egg/pandas/core/internals.pyc\u001b[0m in \u001b[0;36m_astype\u001b[1;34m(self, dtype, copy, raise_on_error, values, klass)\u001b[0m\n\u001b[0;32m    339\u001b[0m             \u001b[1;32mif\u001b[0m \u001b[0mvalues\u001b[0m \u001b[1;32mis\u001b[0m \u001b[0mNone\u001b[0m\u001b[1;33m:\u001b[0m\u001b[1;33m\u001b[0m\u001b[0m\n\u001b[0;32m    340\u001b[0m                 \u001b[1;31m# _astype_nansafe works fine with 1-d only\u001b[0m\u001b[1;33m\u001b[0m\u001b[1;33m\u001b[0m\u001b[0m\n\u001b[1;32m--> 341\u001b[1;33m                 \u001b[0mvalues\u001b[0m \u001b[1;33m=\u001b[0m \u001b[0mcom\u001b[0m\u001b[1;33m.\u001b[0m\u001b[0m_astype_nansafe\u001b[0m\u001b[1;33m(\u001b[0m\u001b[0mself\u001b[0m\u001b[1;33m.\u001b[0m\u001b[0mvalues\u001b[0m\u001b[1;33m.\u001b[0m\u001b[0mravel\u001b[0m\u001b[1;33m(\u001b[0m\u001b[1;33m)\u001b[0m\u001b[1;33m,\u001b[0m \u001b[0mdtype\u001b[0m\u001b[1;33m,\u001b[0m \u001b[0mcopy\u001b[0m\u001b[1;33m=\u001b[0m\u001b[0mTrue\u001b[0m\u001b[1;33m)\u001b[0m\u001b[1;33m\u001b[0m\u001b[0m\n\u001b[0m\u001b[0;32m    342\u001b[0m                 \u001b[0mvalues\u001b[0m \u001b[1;33m=\u001b[0m \u001b[0mvalues\u001b[0m\u001b[1;33m.\u001b[0m\u001b[0mreshape\u001b[0m\u001b[1;33m(\u001b[0m\u001b[0mself\u001b[0m\u001b[1;33m.\u001b[0m\u001b[0mvalues\u001b[0m\u001b[1;33m.\u001b[0m\u001b[0mshape\u001b[0m\u001b[1;33m)\u001b[0m\u001b[1;33m\u001b[0m\u001b[0m\n\u001b[0;32m    343\u001b[0m             newb = make_block(values,\n",
        "\u001b[1;32m/u/paige/maye/anaconda/lib/python2.7/site-packages/pandas-0.13.1_769_gf26cf9e-py2.7-linux-x86_64.egg/pandas/core/common.pyc\u001b[0m in \u001b[0;36m_astype_nansafe\u001b[1;34m(arr, dtype, copy)\u001b[0m\n\u001b[0;32m   2280\u001b[0m         \u001b[1;32mreturn\u001b[0m \u001b[0mlib\u001b[0m\u001b[1;33m.\u001b[0m\u001b[0mastype_intsafe\u001b[0m\u001b[1;33m(\u001b[0m\u001b[0marr\u001b[0m\u001b[1;33m.\u001b[0m\u001b[0mravel\u001b[0m\u001b[1;33m(\u001b[0m\u001b[1;33m)\u001b[0m\u001b[1;33m,\u001b[0m \u001b[0mdtype\u001b[0m\u001b[1;33m)\u001b[0m\u001b[1;33m.\u001b[0m\u001b[0mreshape\u001b[0m\u001b[1;33m(\u001b[0m\u001b[0marr\u001b[0m\u001b[1;33m.\u001b[0m\u001b[0mshape\u001b[0m\u001b[1;33m)\u001b[0m\u001b[1;33m\u001b[0m\u001b[0m\n\u001b[0;32m   2281\u001b[0m     \u001b[1;32melif\u001b[0m \u001b[0missubclass\u001b[0m\u001b[1;33m(\u001b[0m\u001b[0mdtype\u001b[0m\u001b[1;33m.\u001b[0m\u001b[0mtype\u001b[0m\u001b[1;33m,\u001b[0m \u001b[0mcompat\u001b[0m\u001b[1;33m.\u001b[0m\u001b[0mstring_types\u001b[0m\u001b[1;33m)\u001b[0m\u001b[1;33m:\u001b[0m\u001b[1;33m\u001b[0m\u001b[0m\n\u001b[1;32m-> 2282\u001b[1;33m         \u001b[1;32mreturn\u001b[0m \u001b[0mlib\u001b[0m\u001b[1;33m.\u001b[0m\u001b[0mastype_str\u001b[0m\u001b[1;33m(\u001b[0m\u001b[0marr\u001b[0m\u001b[1;33m.\u001b[0m\u001b[0mravel\u001b[0m\u001b[1;33m(\u001b[0m\u001b[1;33m)\u001b[0m\u001b[1;33m)\u001b[0m\u001b[1;33m.\u001b[0m\u001b[0mreshape\u001b[0m\u001b[1;33m(\u001b[0m\u001b[0marr\u001b[0m\u001b[1;33m.\u001b[0m\u001b[0mshape\u001b[0m\u001b[1;33m)\u001b[0m\u001b[1;33m\u001b[0m\u001b[0m\n\u001b[0m\u001b[0;32m   2283\u001b[0m \u001b[1;33m\u001b[0m\u001b[0m\n\u001b[0;32m   2284\u001b[0m     \u001b[1;32mif\u001b[0m \u001b[0mcopy\u001b[0m\u001b[1;33m:\u001b[0m\u001b[1;33m\u001b[0m\u001b[0m\n",
        "\u001b[1;32m/u/paige/maye/anaconda/lib/python2.7/site-packages/pandas-0.13.1_769_gf26cf9e-py2.7-linux-x86_64.egg/pandas/lib.so\u001b[0m in \u001b[0;36mpandas.lib.astype_str (pandas/lib.c:14190)\u001b[1;34m()\u001b[0m\n",
        "\u001b[1;32m/u/paige/maye/anaconda/lib/python2.7/site-packages/pandas-0.13.1_769_gf26cf9e-py2.7-linux-x86_64.egg/pandas/lib.so\u001b[0m in \u001b[0;36mpandas.lib.astype_str (pandas/lib.c:14108)\u001b[1;34m()\u001b[0m\n",
        "\u001b[1;32m/u/paige/maye/anaconda/lib/python2.7/site-packages/numpy/core/numeric.pyc\u001b[0m in \u001b[0;36marray_str\u001b[1;34m(a, max_line_width, precision, suppress_small)\u001b[0m\n\u001b[0;32m   1613\u001b[0m \u001b[1;33m\u001b[0m\u001b[0m\n\u001b[0;32m   1614\u001b[0m     \"\"\"\n\u001b[1;32m-> 1615\u001b[1;33m     \u001b[1;32mreturn\u001b[0m \u001b[0marray2string\u001b[0m\u001b[1;33m(\u001b[0m\u001b[0ma\u001b[0m\u001b[1;33m,\u001b[0m \u001b[0mmax_line_width\u001b[0m\u001b[1;33m,\u001b[0m \u001b[0mprecision\u001b[0m\u001b[1;33m,\u001b[0m \u001b[0msuppress_small\u001b[0m\u001b[1;33m,\u001b[0m \u001b[1;34m' '\u001b[0m\u001b[1;33m,\u001b[0m \u001b[1;34m\"\"\u001b[0m\u001b[1;33m,\u001b[0m \u001b[0mstr\u001b[0m\u001b[1;33m)\u001b[0m\u001b[1;33m\u001b[0m\u001b[0m\n\u001b[0m\u001b[0;32m   1616\u001b[0m \u001b[1;33m\u001b[0m\u001b[0m\n\u001b[0;32m   1617\u001b[0m \u001b[1;32mdef\u001b[0m \u001b[0mset_string_function\u001b[0m\u001b[1;33m(\u001b[0m\u001b[0mf\u001b[0m\u001b[1;33m,\u001b[0m \u001b[0mrepr\u001b[0m\u001b[1;33m=\u001b[0m\u001b[0mTrue\u001b[0m\u001b[1;33m)\u001b[0m\u001b[1;33m:\u001b[0m\u001b[1;33m\u001b[0m\u001b[0m\n",
        "\u001b[1;32m/u/paige/maye/anaconda/lib/python2.7/site-packages/numpy/core/arrayprint.pyc\u001b[0m in \u001b[0;36marray2string\u001b[1;34m(a, max_line_width, precision, suppress_small, separator, prefix, style, formatter)\u001b[0m\n\u001b[0;32m    434\u001b[0m     \"\"\"\n\u001b[0;32m    435\u001b[0m \u001b[1;33m\u001b[0m\u001b[0m\n\u001b[1;32m--> 436\u001b[1;33m     \u001b[1;32mif\u001b[0m \u001b[0ma\u001b[0m\u001b[1;33m.\u001b[0m\u001b[0mshape\u001b[0m \u001b[1;33m==\u001b[0m \u001b[1;33m(\u001b[0m\u001b[1;33m)\u001b[0m\u001b[1;33m:\u001b[0m\u001b[1;33m\u001b[0m\u001b[0m\n\u001b[0m\u001b[0;32m    437\u001b[0m         \u001b[0mx\u001b[0m \u001b[1;33m=\u001b[0m \u001b[0ma\u001b[0m\u001b[1;33m.\u001b[0m\u001b[0mitem\u001b[0m\u001b[1;33m(\u001b[0m\u001b[1;33m)\u001b[0m\u001b[1;33m\u001b[0m\u001b[0m\n\u001b[0;32m    438\u001b[0m         \u001b[1;32mtry\u001b[0m\u001b[1;33m:\u001b[0m\u001b[1;33m\u001b[0m\u001b[0m\n",
        "\u001b[1;31mKeyboardInterrupt\u001b[0m: "
       ]
      }
     ],
     "prompt_number": 4
    },
    {
     "cell_type": "code",
     "collapsed": false,
     "input": [
      "obs = fu.DivObs('2009091502')"
     ],
     "language": "python",
     "metadata": {},
     "outputs": [],
     "prompt_number": 6
    },
    {
     "cell_type": "code",
     "collapsed": false,
     "input": [
      "rdrr = obs.get_rdrr()"
     ],
     "language": "python",
     "metadata": {},
     "outputs": [],
     "prompt_number": 7
    },
    {
     "cell_type": "code",
     "collapsed": false,
     "input": [
      "rdrr.orbit.value_counts()"
     ],
     "language": "python",
     "metadata": {},
     "outputs": [
      {
       "metadata": {},
       "output_type": "pyout",
       "prompt_number": 8,
       "text": [
        "Series([], dtype: int64)"
       ]
      }
     ],
     "prompt_number": 8
    },
    {
     "cell_type": "code",
     "collapsed": false,
     "input": [
      "rdrr.head()"
     ],
     "language": "python",
     "metadata": {},
     "outputs": [
      {
       "html": [
        "<div style=\"max-height:1000px;max-width:1500px;overflow:auto;\">\n",
        "<table border=\"1\" class=\"dataframe\">\n",
        "  <thead>\n",
        "    <tr style=\"text-align: right;\">\n",
        "      <th></th>\n",
        "      <th>jdate</th>\n",
        "      <th>orbit</th>\n",
        "      <th>sundist</th>\n",
        "      <th>sunlat</th>\n",
        "      <th>sunlon</th>\n",
        "      <th>sclk</th>\n",
        "      <th>sclat</th>\n",
        "      <th>sclon</th>\n",
        "      <th>scrad</th>\n",
        "      <th>scalt</th>\n",
        "      <th>el_cmd</th>\n",
        "      <th>az_cmd</th>\n",
        "      <th>af</th>\n",
        "      <th>orientlat</th>\n",
        "      <th>orientlon</th>\n",
        "      <th>sounding</th>\n",
        "      <th>from_pkt</th>\n",
        "      <th>pkt_count</th>\n",
        "      <th>safing</th>\n",
        "      <th>safed</th>\n",
        "      <th></th>\n",
        "    </tr>\n",
        "  </thead>\n",
        "  <tbody>\n",
        "    <tr>\n",
        "      <th>2009-09-15 02:00:00.123000</th>\n",
        "      <td> 2455089.583335</td>\n",
        "      <td>NaN</td>\n",
        "      <td> 1.00413</td>\n",
        "      <td>-1.24609</td>\n",
        "      <td> 229.32613</td>\n",
        "      <td> 2.746728e+08</td>\n",
        "      <td>-13.23094</td>\n",
        "      <td> 66.59911</td>\n",
        "      <td> 1822.36097</td>\n",
        "      <td> 85.00439</td>\n",
        "      <td> 180</td>\n",
        "      <td> 240</td>\n",
        "      <td> 110</td>\n",
        "      <td>-0.02248</td>\n",
        "      <td> 336.70181</td>\n",
        "      <td>  6</td>\n",
        "      <td> 14706</td>\n",
        "      <td>   NaN</td>\n",
        "      <td>NaN</td>\n",
        "      <td>NaN</td>\n",
        "      <td>...</td>\n",
        "    </tr>\n",
        "    <tr>\n",
        "      <th>2009-09-15 02:00:00.251000</th>\n",
        "      <td> 2455089.583336</td>\n",
        "      <td>NaN</td>\n",
        "      <td> 1.00413</td>\n",
        "      <td>-1.24609</td>\n",
        "      <td> 229.32611</td>\n",
        "      <td> 2.746728e+08</td>\n",
        "      <td>-13.22428</td>\n",
        "      <td> 66.59913</td>\n",
        "      <td> 1822.37020</td>\n",
        "      <td> 85.01362</td>\n",
        "      <td> 180</td>\n",
        "      <td> 240</td>\n",
        "      <td> 110</td>\n",
        "      <td>-0.02273</td>\n",
        "      <td> 336.70179</td>\n",
        "      <td>  7</td>\n",
        "      <td> 14706</td>\n",
        "      <td>   NaN</td>\n",
        "      <td>NaN</td>\n",
        "      <td>NaN</td>\n",
        "      <td>...</td>\n",
        "    </tr>\n",
        "    <tr>\n",
        "      <th>2009-09-15 02:00:00.379000</th>\n",
        "      <td> 2455089.583338</td>\n",
        "      <td>NaN</td>\n",
        "      <td> 1.00413</td>\n",
        "      <td>-1.24609</td>\n",
        "      <td> 229.32609</td>\n",
        "      <td> 2.746728e+08</td>\n",
        "      <td>-13.21763</td>\n",
        "      <td> 66.59914</td>\n",
        "      <td> 1822.37942</td>\n",
        "      <td> 85.02285</td>\n",
        "      <td> 180</td>\n",
        "      <td> 240</td>\n",
        "      <td> 110</td>\n",
        "      <td>-0.02303</td>\n",
        "      <td> 336.70186</td>\n",
        "      <td>  8</td>\n",
        "      <td> 14707</td>\n",
        "      <td> 29324</td>\n",
        "      <td>  0</td>\n",
        "      <td>  0</td>\n",
        "      <td>...</td>\n",
        "    </tr>\n",
        "    <tr>\n",
        "      <th>2009-09-15 02:00:00.507000</th>\n",
        "      <td> 2455089.583339</td>\n",
        "      <td>NaN</td>\n",
        "      <td> 1.00413</td>\n",
        "      <td>-1.24609</td>\n",
        "      <td> 229.32608</td>\n",
        "      <td> 2.746728e+08</td>\n",
        "      <td>-13.21098</td>\n",
        "      <td> 66.59916</td>\n",
        "      <td> 1822.38865</td>\n",
        "      <td> 85.03208</td>\n",
        "      <td> 180</td>\n",
        "      <td> 240</td>\n",
        "      <td> 110</td>\n",
        "      <td>-0.02308</td>\n",
        "      <td> 336.70187</td>\n",
        "      <td>  9</td>\n",
        "      <td> 14707</td>\n",
        "      <td>   NaN</td>\n",
        "      <td>NaN</td>\n",
        "      <td>NaN</td>\n",
        "      <td>...</td>\n",
        "    </tr>\n",
        "    <tr>\n",
        "      <th>2009-09-15 02:00:00.635000</th>\n",
        "      <td> 2455089.583341</td>\n",
        "      <td>NaN</td>\n",
        "      <td> 1.00413</td>\n",
        "      <td>-1.24609</td>\n",
        "      <td> 229.32606</td>\n",
        "      <td> 2.746728e+08</td>\n",
        "      <td>-13.20433</td>\n",
        "      <td> 66.59917</td>\n",
        "      <td> 1822.39788</td>\n",
        "      <td> 85.04131</td>\n",
        "      <td> 180</td>\n",
        "      <td> 240</td>\n",
        "      <td> 110</td>\n",
        "      <td>-0.02304</td>\n",
        "      <td> 336.70186</td>\n",
        "      <td> 10</td>\n",
        "      <td> 14708</td>\n",
        "      <td>   NaN</td>\n",
        "      <td>NaN</td>\n",
        "      <td>NaN</td>\n",
        "      <td>...</td>\n",
        "    </tr>\n",
        "  </tbody>\n",
        "</table>\n",
        "<p>5 rows \u00d7 2937 columns</p>\n",
        "</div>"
       ],
       "metadata": {},
       "output_type": "pyout",
       "prompt_number": 10,
       "text": [
        "                                     jdate  orbit  sundist   sunlat  \\\n",
        "2009-09-15 02:00:00.123000  2455089.583335    NaN  1.00413 -1.24609   \n",
        "2009-09-15 02:00:00.251000  2455089.583336    NaN  1.00413 -1.24609   \n",
        "2009-09-15 02:00:00.379000  2455089.583338    NaN  1.00413 -1.24609   \n",
        "2009-09-15 02:00:00.507000  2455089.583339    NaN  1.00413 -1.24609   \n",
        "2009-09-15 02:00:00.635000  2455089.583341    NaN  1.00413 -1.24609   \n",
        "\n",
        "                               sunlon          sclk     sclat     sclon  \\\n",
        "2009-09-15 02:00:00.123000  229.32613  2.746728e+08 -13.23094  66.59911   \n",
        "2009-09-15 02:00:00.251000  229.32611  2.746728e+08 -13.22428  66.59913   \n",
        "2009-09-15 02:00:00.379000  229.32609  2.746728e+08 -13.21763  66.59914   \n",
        "2009-09-15 02:00:00.507000  229.32608  2.746728e+08 -13.21098  66.59916   \n",
        "2009-09-15 02:00:00.635000  229.32606  2.746728e+08 -13.20433  66.59917   \n",
        "\n",
        "                                 scrad     scalt  el_cmd  az_cmd   af  \\\n",
        "2009-09-15 02:00:00.123000  1822.36097  85.00439     180     240  110   \n",
        "2009-09-15 02:00:00.251000  1822.37020  85.01362     180     240  110   \n",
        "2009-09-15 02:00:00.379000  1822.37942  85.02285     180     240  110   \n",
        "2009-09-15 02:00:00.507000  1822.38865  85.03208     180     240  110   \n",
        "2009-09-15 02:00:00.635000  1822.39788  85.04131     180     240  110   \n",
        "\n",
        "                            orientlat  orientlon  sounding  from_pkt  \\\n",
        "2009-09-15 02:00:00.123000   -0.02248  336.70181         6     14706   \n",
        "2009-09-15 02:00:00.251000   -0.02273  336.70179         7     14706   \n",
        "2009-09-15 02:00:00.379000   -0.02303  336.70186         8     14707   \n",
        "2009-09-15 02:00:00.507000   -0.02308  336.70187         9     14707   \n",
        "2009-09-15 02:00:00.635000   -0.02304  336.70186        10     14708   \n",
        "\n",
        "                            pkt_count  safing  safed      \n",
        "2009-09-15 02:00:00.123000        NaN     NaN    NaN ...  \n",
        "2009-09-15 02:00:00.251000        NaN     NaN    NaN ...  \n",
        "2009-09-15 02:00:00.379000      29324       0      0 ...  \n",
        "2009-09-15 02:00:00.507000        NaN     NaN    NaN ...  \n",
        "2009-09-15 02:00:00.635000        NaN     NaN    NaN ...  \n",
        "\n",
        "[5 rows x 2937 columns]"
       ]
      }
     ],
     "prompt_number": 10
    },
    {
     "cell_type": "code",
     "collapsed": false,
     "input": [
      "df = pd.DataFrame(randn(3,2), columns=list(\"AB\"))"
     ],
     "language": "python",
     "metadata": {},
     "outputs": [],
     "prompt_number": 21
    },
    {
     "cell_type": "code",
     "collapsed": false,
     "input": [
      "df.loc[:,'A'] = np.nan"
     ],
     "language": "python",
     "metadata": {},
     "outputs": [],
     "prompt_number": 26
    },
    {
     "cell_type": "code",
     "collapsed": false,
     "input": [
      "df"
     ],
     "language": "python",
     "metadata": {},
     "outputs": [
      {
       "html": [
        "<div style=\"max-height:1000px;max-width:1500px;overflow:auto;\">\n",
        "<table border=\"1\" class=\"dataframe\">\n",
        "  <thead>\n",
        "    <tr style=\"text-align: right;\">\n",
        "      <th></th>\n",
        "      <th>A</th>\n",
        "      <th>B</th>\n",
        "    </tr>\n",
        "  </thead>\n",
        "  <tbody>\n",
        "    <tr>\n",
        "      <th>0</th>\n",
        "      <td>NaN</td>\n",
        "      <td>-0.776263</td>\n",
        "    </tr>\n",
        "    <tr>\n",
        "      <th>1</th>\n",
        "      <td>NaN</td>\n",
        "      <td> 1.555078</td>\n",
        "    </tr>\n",
        "    <tr>\n",
        "      <th>2</th>\n",
        "      <td>NaN</td>\n",
        "      <td> 0.253436</td>\n",
        "    </tr>\n",
        "  </tbody>\n",
        "</table>\n",
        "<p>3 rows \u00d7 2 columns</p>\n",
        "</div>"
       ],
       "metadata": {},
       "output_type": "pyout",
       "prompt_number": 27,
       "text": [
        "    A         B\n",
        "0 NaN -0.776263\n",
        "1 NaN  1.555078\n",
        "2 NaN  0.253436\n",
        "\n",
        "[3 rows x 2 columns]"
       ]
      }
     ],
     "prompt_number": 27
    },
    {
     "cell_type": "code",
     "collapsed": false,
     "input": [
      "len(df.A.value_counts())"
     ],
     "language": "python",
     "metadata": {},
     "outputs": [
      {
       "metadata": {},
       "output_type": "pyout",
       "prompt_number": 29,
       "text": [
        "0"
       ]
      }
     ],
     "prompt_number": 29
    },
    {
     "cell_type": "code",
     "collapsed": false,
     "input": [],
     "language": "python",
     "metadata": {},
     "outputs": []
    }
   ],
   "metadata": {}
  }
 ]
}