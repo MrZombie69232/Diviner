{
 "metadata": {
  "name": "",
  "signature": "sha256:555fa66aa5ae07ed1884e2fcae1a07cced3067f9d84b9d45923e066e756e89d3"
 },
 "nbformat": 3,
 "nbformat_minor": 0,
 "worksheets": [
  {
   "cells": [
    {
     "cell_type": "markdown",
     "metadata": {},
     "source": [
      "#rdrq reading"
     ]
    },
    {
     "cell_type": "code",
     "collapsed": false,
     "input": [
      "from diviner import file_utils as fu"
     ],
     "language": "python",
     "metadata": {},
     "outputs": [],
     "prompt_number": 1
    },
    {
     "cell_type": "code",
     "collapsed": false,
     "input": [
      "dtypes, keys = fu.parse_descriptor('/raid1/maye/rdrq.des')\n",
      "rdrq = fu.fname_to_df('/raid1/maye/2013103111.rdrq', dtypes, keys)"
     ],
     "language": "python",
     "metadata": {},
     "outputs": [
      {
       "ename": "IOError",
       "evalue": "[Errno 2] No such file or directory: '/raid1/maye/rdrq.des'",
       "output_type": "pyerr",
       "traceback": [
        "\u001b[1;31m---------------------------------------------------------------------------\u001b[0m\n\u001b[1;31mIOError\u001b[0m                                   Traceback (most recent call last)",
        "\u001b[1;32m<ipython-input-47-80b1603106fd>\u001b[0m in \u001b[0;36m<module>\u001b[1;34m()\u001b[0m\n\u001b[1;32m----> 1\u001b[1;33m \u001b[0mdtypes\u001b[0m\u001b[1;33m,\u001b[0m \u001b[0mkeys\u001b[0m \u001b[1;33m=\u001b[0m \u001b[0mfu\u001b[0m\u001b[1;33m.\u001b[0m\u001b[0mparse_descriptor\u001b[0m\u001b[1;33m(\u001b[0m\u001b[1;34m'/raid1/maye/rdrq.des'\u001b[0m\u001b[1;33m)\u001b[0m\u001b[1;33m\u001b[0m\u001b[0m\n\u001b[0m\u001b[0;32m      2\u001b[0m \u001b[0mrdrq\u001b[0m \u001b[1;33m=\u001b[0m \u001b[0mfu\u001b[0m\u001b[1;33m.\u001b[0m\u001b[0mfname_to_df\u001b[0m\u001b[1;33m(\u001b[0m\u001b[1;34m'/raid1/maye/2013103111.rdrq'\u001b[0m\u001b[1;33m,\u001b[0m \u001b[0mdtypes\u001b[0m\u001b[1;33m,\u001b[0m \u001b[0mkeys\u001b[0m\u001b[1;33m)\u001b[0m\u001b[1;33m\u001b[0m\u001b[0m\n",
        "\u001b[1;32m/u/paige/maye/src/diviner/file_utils.py\u001b[0m in \u001b[0;36mparse_descriptor\u001b[1;34m(fpath)\u001b[0m\n\u001b[0;32m    355\u001b[0m \u001b[1;33m\u001b[0m\u001b[0m\n\u001b[0;32m    356\u001b[0m \u001b[1;32mdef\u001b[0m \u001b[0mparse_descriptor\u001b[0m\u001b[1;33m(\u001b[0m\u001b[0mfpath\u001b[0m\u001b[1;33m)\u001b[0m\u001b[1;33m:\u001b[0m\u001b[1;33m\u001b[0m\u001b[0m\n\u001b[1;32m--> 357\u001b[1;33m     \u001b[0mf\u001b[0m \u001b[1;33m=\u001b[0m \u001b[0mopen\u001b[0m\u001b[1;33m(\u001b[0m\u001b[0mfpath\u001b[0m\u001b[1;33m)\u001b[0m\u001b[1;33m\u001b[0m\u001b[0m\n\u001b[0m\u001b[0;32m    358\u001b[0m     \u001b[0mlines\u001b[0m \u001b[1;33m=\u001b[0m \u001b[0mf\u001b[0m\u001b[1;33m.\u001b[0m\u001b[0mreadlines\u001b[0m\u001b[1;33m(\u001b[0m\u001b[1;33m)\u001b[0m\u001b[1;33m\u001b[0m\u001b[0m\n\u001b[0;32m    359\u001b[0m     \u001b[0mf\u001b[0m\u001b[1;33m.\u001b[0m\u001b[0mclose\u001b[0m\u001b[1;33m(\u001b[0m\u001b[1;33m)\u001b[0m\u001b[1;33m\u001b[0m\u001b[0m\n",
        "\u001b[1;31mIOError\u001b[0m: [Errno 2] No such file or directory: '/raid1/maye/rdrq.des'"
       ]
      }
     ],
     "prompt_number": 47
    },
    {
     "cell_type": "code",
     "collapsed": false,
     "input": [
      "%timeit df = fu.fname_to_df('/raid1/maye/2013103111.rdrq', dtypes, keys)"
     ],
     "language": "python",
     "metadata": {},
     "outputs": [
      {
       "output_type": "stream",
       "stream": "stdout",
       "text": [
        "1 loops, best of 3: 706 ms per loop\n"
       ]
      }
     ],
     "prompt_number": 3
    },
    {
     "cell_type": "code",
     "collapsed": false,
     "input": [
      "%timeit df = fu.L1ADataFile.from_timestr('2013103111').open()"
     ],
     "language": "python",
     "metadata": {},
     "outputs": [
      {
       "output_type": "stream",
       "stream": "stdout",
       "text": [
        "1 loops, best of 3: 1.54 s per loop\n"
       ]
      }
     ],
     "prompt_number": 4
    },
    {
     "cell_type": "code",
     "collapsed": false,
     "input": [
      "rdrq.columns[:6]"
     ],
     "language": "python",
     "metadata": {},
     "outputs": [
      {
       "metadata": {},
       "output_type": "pyout",
       "prompt_number": 21,
       "text": [
        "Index([u'yyyy', u'mm', u'dd', u'hh', u'mn', u'ss'], dtype='object')"
       ]
      }
     ],
     "prompt_number": 21
    },
    {
     "cell_type": "code",
     "collapsed": false,
     "input": [
      "len(rdrq.columns)"
     ],
     "language": "python",
     "metadata": {},
     "outputs": [
      {
       "metadata": {},
       "output_type": "pyout",
       "prompt_number": 59,
       "text": [
        "2908"
       ]
      }
     ],
     "prompt_number": 59
    },
    {
     "cell_type": "code",
     "collapsed": false,
     "input": [
      "def list_extra_columns(df):\n",
      "    columns = pd.Series(df.columns)\n",
      "    ind = columns[columns == 'counts_1_01'].index\n",
      "    print \"Found counts at\", ind\n",
      "    extracols = df.columns[ind:]\n",
      "    for i in list(set([i.split('_')[0] for i in s])):\n",
      "        print i"
     ],
     "language": "python",
     "metadata": {},
     "outputs": [],
     "prompt_number": 60
    },
    {
     "cell_type": "code",
     "collapsed": false,
     "input": [
      "list_extra_columns(df)"
     ],
     "language": "python",
     "metadata": {},
     "outputs": [
      {
       "output_type": "stream",
       "stream": "stdout",
       "text": [
        "Found counts at Int64Index([108], dtype='int64')\n",
        "cemis\n",
        "radiance\n",
        "csunazi\n",
        "clat\n",
        "cloctime\n",
        "clon\n",
        "end\n",
        "qge\n",
        "qmi\n",
        "qca\n",
        "csunzen\n",
        "counts\n",
        "tb\n",
        "vlookz\n",
        "vlooky\n",
        "vlookx\n"
       ]
      }
     ],
     "prompt_number": 61
    },
    {
     "cell_type": "markdown",
     "metadata": {},
     "source": [
      "#rdrr reading"
     ]
    },
    {
     "cell_type": "code",
     "collapsed": false,
     "input": [
      "dtypes, keys = fu.parse_descriptor('/luna7/marks/rdrr_data/rdrr_end.des')\n",
      "rdrr = fu.fname_to_df('/luna7/marks/rdrr_data/2013103111.rdrr', dtypes, keys)"
     ],
     "language": "python",
     "metadata": {},
     "outputs": [],
     "prompt_number": 63
    },
    {
     "cell_type": "code",
     "collapsed": false,
     "input": [
      "len(rdrr.columns)"
     ],
     "language": "python",
     "metadata": {},
     "outputs": [
      {
       "metadata": {},
       "output_type": "pyout",
       "prompt_number": 69,
       "text": [
        "2944"
       ]
      }
     ],
     "prompt_number": 69
    },
    {
     "cell_type": "code",
     "collapsed": false,
     "input": [
      "list_extra_columns(rdrr)"
     ],
     "language": "python",
     "metadata": {},
     "outputs": [
      {
       "output_type": "stream",
       "stream": "stdout",
       "text": [
        "Found counts at Int64Index([108], dtype='int64')\n",
        "cemis\n",
        "radiance\n",
        "csunazi\n",
        "clat\n",
        "cloctime\n",
        "clon\n",
        "end\n",
        "qge\n",
        "qmi\n",
        "qca\n",
        "csunzen\n",
        "counts\n",
        "tb\n",
        "vlookz\n",
        "vlooky\n",
        "vlookx\n"
       ]
      }
     ],
     "prompt_number": 65
    },
    {
     "cell_type": "code",
     "collapsed": false,
     "input": [
      "rdrr.columns[:108]"
     ],
     "language": "python",
     "metadata": {},
     "outputs": [
      {
       "metadata": {},
       "output_type": "pyout",
       "prompt_number": 66,
       "text": [
        "Index([u'yyyy', u'mm', u'dd', u'hh', u'mn', u'ss', u'jdate', u'orbit', u'sundist', u'sunlat', u'sunlon', u'sclk', u'sclat', u'sclon', u'scrad', u'scalt', u'el_cmd', u'az_cmd', u'af', u'orientlat', u'orientlon', u'sounding', u'from_pkt', u'pkt_count', u'safing', u'safed', u'freezing', u'frozen', u'rolling', u'dumping', u'moving', u'temp_fault', u'sc_time_secs', u'sc_time_subs', u'ticks_pkt_start', u'ticks_at_sc_time', u'ost_index', u'est_index', u'sst_index', u'last_az_cmd', u'last_el_cmd', u'fpa_temp', u'fpb_temp', u'baffle_a_temp', u'baffle_b_temp', u'bb_1_temp', u'oba_1_temp', u'error_time', u'error_id', u'error_count', u'commands_received', u'commands_executed', u'commands_rejected', u'last_time_command', u'last_eqx_prediction', u'hybrid_temp', u'fpa_temp_cyc', u'fpb_temp_cyc', u'baffle_a_temp_cyc', u'baffle_b_temp_cyc', u'oba_1_temp_cyc', u'oba_2_temp', u'bb_1_temp_cyc', u'bb_2_temp', u'solar_target_temp', u'yoke_temp', u'el_actuator_temp', u'az_actuator_temp', u'min_15v', u'plu_15v', u'solar_base_temp', u'plu_5v', u'edr_fpa_temp', u'edr_fpb_temp', u'edr_baffle_a_temp', u'edr_baffle_b_temp', u'edr_bb_1_temp', u'edr_oba_1_temp', u'edr_rotating_value_1', u'edr_rotating_value_2', u'edr_rotating_index_1', u'edr_rotating_index_2', u'edr_vref_c2', u'edr_vref_c1', u'edr_prt_narrow_c2', u'edr_prt_narrow_c1', u'edr_prt_wide_c2', u'edr_prt_wide_c1', u'edr_hybrid_temp', u'edr_fpa_temp_cyc', u'edr_fpb_temp_cyc', u'edr_baffle_a_temp_cyc', u'edr_baffle_b_temp_cyc', u'edr_oba_1_temp_cyc', u'edr_oba_2_temp', u'edr_bb_1_temp_cyc', u'edr_bb_2_temp', u'edr_solar_target_temp', u'edr_yoke_temp', u'edr_el_actuator_temp', ...], dtype='object')"
       ]
      }
     ],
     "prompt_number": 66
    },
    {
     "cell_type": "code",
     "collapsed": false,
     "input": [
      "set(rdrq.columns[:72])"
     ],
     "language": "python",
     "metadata": {},
     "outputs": [
      {
       "metadata": {},
       "output_type": "pyout",
       "prompt_number": 72,
       "text": [
        "{'af',\n",
        " 'az_actuator_temp',\n",
        " 'az_cmd',\n",
        " 'baffle_a_temp',\n",
        " 'baffle_a_temp_cyc',\n",
        " 'baffle_b_temp',\n",
        " 'baffle_b_temp_cyc',\n",
        " 'bb_1_temp',\n",
        " 'bb_1_temp_cyc',\n",
        " 'bb_2_temp',\n",
        " 'commands_executed',\n",
        " 'commands_received',\n",
        " 'commands_rejected',\n",
        " 'dd',\n",
        " 'dumping',\n",
        " 'el_actuator_temp',\n",
        " 'el_cmd',\n",
        " 'error_count',\n",
        " 'error_id',\n",
        " 'error_time',\n",
        " 'est_index',\n",
        " 'fpa_temp',\n",
        " 'fpa_temp_cyc',\n",
        " 'fpb_temp',\n",
        " 'fpb_temp_cyc',\n",
        " 'freezing',\n",
        " 'from_pkt',\n",
        " 'frozen',\n",
        " 'hh',\n",
        " 'hybrid_temp',\n",
        " 'jdate',\n",
        " 'last_az_cmd',\n",
        " 'last_el_cmd',\n",
        " 'last_eqx_prediction',\n",
        " 'last_time_command',\n",
        " 'min_15v',\n",
        " 'mm',\n",
        " 'mn',\n",
        " 'moving',\n",
        " 'oba_1_temp',\n",
        " 'oba_1_temp_cyc',\n",
        " 'oba_2_temp',\n",
        " 'orbit',\n",
        " 'orientlat',\n",
        " 'orientlon',\n",
        " 'ost_index',\n",
        " 'pkt_count',\n",
        " 'plu_15v',\n",
        " 'plu_5v',\n",
        " 'rolling',\n",
        " 'safed',\n",
        " 'safing',\n",
        " 'sc_time_secs',\n",
        " 'sc_time_subs',\n",
        " 'scalt',\n",
        " 'sclat',\n",
        " 'sclk',\n",
        " 'sclon',\n",
        " 'scrad',\n",
        " 'solar_base_temp',\n",
        " 'solar_target_temp',\n",
        " 'sounding',\n",
        " 'ss',\n",
        " 'sst_index',\n",
        " 'sundist',\n",
        " 'sunlat',\n",
        " 'sunlon',\n",
        " 'temp_fault',\n",
        " 'ticks_at_sc_time',\n",
        " 'ticks_pkt_start',\n",
        " 'yoke_temp',\n",
        " 'yyyy'}"
       ]
      }
     ],
     "prompt_number": 72
    },
    {
     "cell_type": "code",
     "collapsed": false,
     "input": [
      "set(rdrr.columns[:108]) - set(rdrq.columns[:72])"
     ],
     "language": "python",
     "metadata": {},
     "outputs": [
      {
       "metadata": {},
       "output_type": "pyout",
       "prompt_number": 71,
       "text": [
        "{'edr_aref1',\n",
        " 'edr_aref2',\n",
        " 'edr_az_actuator_temp',\n",
        " 'edr_baffle_a_temp',\n",
        " 'edr_baffle_a_temp_cyc',\n",
        " 'edr_baffle_b_temp',\n",
        " 'edr_baffle_b_temp_cyc',\n",
        " 'edr_bb_1_temp',\n",
        " 'edr_bb_1_temp_cyc',\n",
        " 'edr_bb_2_temp',\n",
        " 'edr_bref',\n",
        " 'edr_el_actuator_temp',\n",
        " 'edr_fpa_temp',\n",
        " 'edr_fpa_temp_cyc',\n",
        " 'edr_fpb_temp',\n",
        " 'edr_fpb_temp_cyc',\n",
        " 'edr_hybrid_temp',\n",
        " 'edr_min_15v',\n",
        " 'edr_oba_1_temp',\n",
        " 'edr_oba_1_temp_cyc',\n",
        " 'edr_oba_2_temp',\n",
        " 'edr_plu_15v',\n",
        " 'edr_plu_5v',\n",
        " 'edr_prt_narrow_c1',\n",
        " 'edr_prt_narrow_c2',\n",
        " 'edr_prt_wide_c1',\n",
        " 'edr_prt_wide_c2',\n",
        " 'edr_rotating_index_1',\n",
        " 'edr_rotating_index_2',\n",
        " 'edr_rotating_value_1',\n",
        " 'edr_rotating_value_2',\n",
        " 'edr_solar_base_temp',\n",
        " 'edr_solar_target_temp',\n",
        " 'edr_vref_c1',\n",
        " 'edr_vref_c2',\n",
        " 'edr_yoke_temp'}"
       ]
      }
     ],
     "prompt_number": 71
    },
    {
     "cell_type": "code",
     "collapsed": false,
     "input": [
      "rdrr[rdrr == -9999] = np.nan"
     ],
     "language": "python",
     "metadata": {},
     "outputs": [],
     "prompt_number": 76
    },
    {
     "cell_type": "code",
     "collapsed": false,
     "input": [
      "temp = rdrr.edr_baffle_a_temp"
     ],
     "language": "python",
     "metadata": {},
     "outputs": [],
     "prompt_number": 79
    },
    {
     "cell_type": "code",
     "collapsed": false,
     "input": [
      "temp[temp.notnull()].plot(logy=True)"
     ],
     "language": "python",
     "metadata": {},
     "outputs": [
      {
       "metadata": {},
       "output_type": "pyout",
       "prompt_number": 84,
       "text": [
        "<matplotlib.axes.AxesSubplot at 0x4162710>"
       ]
      },
      {
       "metadata": {},
       "output_type": "display_data",
       "png": "[encoded data removed]",
       "text": [
        "<matplotlib.figure.Figure at 0x4239910>"
       ]
      }
     ],
     "prompt_number": 84
    },
    {
     "cell_type": "code",
     "collapsed": false,
     "input": [
      "rdrr.baffle_a_temp.min()"
     ],
     "language": "python",
     "metadata": {},
     "outputs": [
      {
       "metadata": {},
       "output_type": "pyout",
       "prompt_number": 92,
       "text": [
        "-166.042"
       ]
      }
     ],
     "prompt_number": 92
    },
    {
     "cell_type": "code",
     "collapsed": false,
     "input": [
      "temp.max()"
     ],
     "language": "python",
     "metadata": {},
     "outputs": [
      {
       "metadata": {},
       "output_type": "pyout",
       "prompt_number": 93,
       "text": [
        "1128362207.0"
       ]
      }
     ],
     "prompt_number": 93
    },
    {
     "cell_type": "code",
     "collapsed": false,
     "input": [
      "rdrr.baffle_a_temp.max()"
     ],
     "language": "python",
     "metadata": {},
     "outputs": [
      {
       "metadata": {},
       "output_type": "pyout",
       "prompt_number": 94,
       "text": [
        "1128362093.0"
       ]
      }
     ],
     "prompt_number": 94
    },
    {
     "cell_type": "code",
     "collapsed": false,
     "input": [
      "rdrr.baffle_b_temp.max()"
     ],
     "language": "python",
     "metadata": {},
     "outputs": [
      {
       "metadata": {},
       "output_type": "pyout",
       "prompt_number": 95,
       "text": [
        "404913387.24576002"
       ]
      }
     ],
     "prompt_number": 95
    },
    {
     "cell_type": "code",
     "collapsed": false,
     "input": [
      "from diviner import file_utils as fu\n",
      "reload(fu)"
     ],
     "language": "python",
     "metadata": {},
     "outputs": [
      {
       "metadata": {},
       "output_type": "pyout",
       "prompt_number": 161,
       "text": [
        "<module 'diviner.file_utils' from '/u/paige/maye/src/diviner/file_utils.py'>"
       ]
      }
     ],
     "prompt_number": 161
    },
    {
     "cell_type": "code",
     "collapsed": false,
     "input": [
      "tstr = '2012052306'"
     ],
     "language": "python",
     "metadata": {},
     "outputs": [],
     "prompt_number": 162
    },
    {
     "cell_type": "code",
     "collapsed": false,
     "input": [
      "rdrr = fu.RDRRReader(tstr).open_raw()"
     ],
     "language": "python",
     "metadata": {},
     "outputs": [],
     "prompt_number": 179
    },
    {
     "cell_type": "code",
     "collapsed": true,
     "input": [
      "pd.DatetimeIndex([pd.to_datetime(dt.datetime(2010,1,1), utc=True)])"
     ],
     "language": "python",
     "metadata": {},
     "outputs": [
      {
       "metadata": {},
       "output_type": "pyout",
       "prompt_number": 171,
       "text": [
        "<class 'pandas.tseries.index.DatetimeIndex'>\n",
        "[2010-01-01]\n",
        "Length: 1, Freq: None, Timezone: UTC"
       ]
      }
     ],
     "prompt_number": 171
    },
    {
     "cell_type": "code",
     "collapsed": false,
     "input": [
      "rdrs.index"
     ],
     "language": "python",
     "metadata": {},
     "outputs": [
      {
       "metadata": {},
       "output_type": "pyout",
       "prompt_number": 165,
       "text": [
        "<class 'pandas.tseries.index.DatetimeIndex'>\n",
        "[2012-05-23 06:00:00.070000, ..., 2012-05-23 06:59:59.859000]\n",
        "Length: 28124, Freq: None, Timezone: None"
       ]
      }
     ],
     "prompt_number": 165
    }
   ],
   "metadata": {}
  }
 ]
}