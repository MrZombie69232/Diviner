{
 "metadata": {
  "name": "",
  "signature": "sha256:cbf0a89c47e1b61914874e1001c85dae795d5a5a29d6340747e993e517da5551"
 },
 "nbformat": 3,
 "nbformat_minor": 0,
 "worksheets": [
  {
   "cells": [
    {
     "cell_type": "code",
     "collapsed": false,
     "input": [
      "from diviner import production as prod\n",
      "reload(prod)\n",
      "from diviner import file_utils as fu\n",
      "import os.path as path"
     ],
     "language": "python",
     "metadata": {},
     "outputs": [],
     "prompt_number": 2
    },
    {
     "cell_type": "code",
     "collapsed": false,
     "input": [
      "testlist = prod.beta_0_circular_orbit()\n",
      "for item in testlist[:1]:\n",
      "    print item\n",
      "    obs = fu.DivObs(item)\n",
      "    for fname in [obs.l1afname, obs.rdrrfname]:\n",
      "        if path.exists(fname.path):\n",
      "            print fname.path"
     ],
     "language": "python",
     "metadata": {},
     "outputs": [
      {
       "output_type": "stream",
       "stream": "stdout",
       "text": [
        "2009082321\n",
        "/luna1/marks/feidata/DIV:opsL1A/data/2009082321_L1A.TAB\n",
        "/luna7/marks/rdrr_data/2009082321.rdrr\n"
       ]
      }
     ],
     "prompt_number": 4
    },
    {
     "cell_type": "code",
     "collapsed": false,
     "input": [],
     "language": "python",
     "metadata": {},
     "outputs": []
    }
   ],
   "metadata": {}
  }
 ]
}