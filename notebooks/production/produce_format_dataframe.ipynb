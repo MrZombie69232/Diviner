{
 "metadata": {
  "name": "",
  "signature": "sha256:2d0ed25170351afdb7cf306cfa82a490f54adf87de68c8aa87b288b5d95e7862"
 },
 "nbformat": 3,
 "nbformat_minor": 0,
 "worksheets": [
  {
   "cells": [
    {
     "cell_type": "code",
     "collapsed": false,
     "input": [
      "from pds.core.parser import Parser\n",
      "import StringIO\n",
      "import os\n",
      "from collections import namedtuple\n",
      "import diviner"
     ],
     "language": "python",
     "metadata": {},
     "outputs": [],
     "prompt_number": 1
    },
    {
     "cell_type": "code",
     "collapsed": false,
     "input": [
      "def get_columns(fname):\n",
      "    parser = Parser()\n",
      "    with open(fname) as f:\n",
      "        rdrformat = f.readlines()\n",
      "    s = ''\n",
      "    for line in rdrformat:\n",
      "        if line == '\\n':\n",
      "            sio = StringIO.StringIO(s)\n",
      "            yield parser.parse(sio)['COLUMN']\n",
      "            s = ''\n",
      "        s += line"
     ],
     "language": "python",
     "metadata": {},
     "outputs": [],
     "prompt_number": 2
    },
    {
     "cell_type": "code",
     "collapsed": false,
     "input": [
      "fname = os.path.join(diviner.__path__[0], 'data','rdr_format.txt')"
     ],
     "language": "python",
     "metadata": {},
     "outputs": [],
     "prompt_number": 3
    },
    {
     "cell_type": "code",
     "collapsed": false,
     "input": [
      "dic = {}\n",
      "for col in get_columns(fname):\n",
      "    dic[col['NAME']] = col"
     ],
     "language": "python",
     "metadata": {},
     "outputs": [],
     "prompt_number": 4
    },
    {
     "cell_type": "code",
     "collapsed": false,
     "input": [
      "rdr_format = pd.DataFrame.from_dict(dic).T"
     ],
     "language": "python",
     "metadata": {},
     "outputs": [],
     "prompt_number": 33
    },
    {
     "cell_type": "code",
     "collapsed": false,
     "input": [
      "from collections import OrderedDict, namedtuple\n",
      "def get_columns_from_rdr_columns(fname=None):\n",
      "    \"Generator to yield items of the rdr_columns file.\"\n",
      "    RDRColumn = namedtuple('RDRColumn', 'colno, colname, type_format, desc')\n",
      "    if not fname:\n",
      "        fname = os.path.join(diviner.__path__[0], 'data','rdr_columns.txt')\n",
      "    with open(fname) as f:\n",
      "        data = f.readlines()\n",
      "    # use this counter to know when 4 items were collected\n",
      "    counter = 0\n",
      "    container = []\n",
      "    for line in data:\n",
      "        if not line.strip():\n",
      "            continue\n",
      "        container.append(line.strip())\n",
      "        counter += 1\n",
      "        if counter == 4:\n",
      "            yield RDRColumn(*container)\n",
      "            counter = 0\n",
      "            container = []\n",
      "\n",
      "\n",
      "def get_formats_dict():\n",
      "    dic = OrderedDict()\n",
      "    for col in get_columns_from_rdr_columns():\n",
      "        dic[col.colname] = col\n",
      "    return dic"
     ],
     "language": "python",
     "metadata": {},
     "outputs": [],
     "prompt_number": 11
    },
    {
     "cell_type": "code",
     "collapsed": false,
     "input": [
      "ordered = get_formats_dict()"
     ],
     "language": "python",
     "metadata": {},
     "outputs": [],
     "prompt_number": 30
    },
    {
     "cell_type": "code",
     "collapsed": false,
     "input": [
      "rdr_columns = pd.DataFrame.from_dict(ordered).T"
     ],
     "language": "python",
     "metadata": {},
     "outputs": [],
     "prompt_number": 31
    },
    {
     "cell_type": "code",
     "collapsed": false,
     "input": [
      "rdr_columns.head()"
     ],
     "language": "python",
     "metadata": {},
     "outputs": [
      {
       "html": [
        "<div style=\"max-height:1000px;max-width:1500px;overflow:auto;\">\n",
        "<table border=\"1\" class=\"dataframe\">\n",
        "  <thead>\n",
        "    <tr style=\"text-align: right;\">\n",
        "      <th></th>\n",
        "      <th>0</th>\n",
        "      <th>1</th>\n",
        "      <th>2</th>\n",
        "      <th>3</th>\n",
        "    </tr>\n",
        "  </thead>\n",
        "  <tbody>\n",
        "    <tr>\n",
        "      <th>date</th>\n",
        "      <td> 1</td>\n",
        "      <td>    date</td>\n",
        "      <td> Character 13</td>\n",
        "      <td> Date at the midpoint of observation (SCET, UTC...</td>\n",
        "    </tr>\n",
        "    <tr>\n",
        "      <th>utc</th>\n",
        "      <td> 2</td>\n",
        "      <td>     utc</td>\n",
        "      <td> Character 14</td>\n",
        "      <td> Time at the midpoint of observation (SCET, UTC...</td>\n",
        "    </tr>\n",
        "    <tr>\n",
        "      <th>jdate</th>\n",
        "      <td> 3</td>\n",
        "      <td>   jdate</td>\n",
        "      <td>    Real 17.9</td>\n",
        "      <td> Julian Date at the midpoint of observation (SC...</td>\n",
        "    </tr>\n",
        "    <tr>\n",
        "      <th>orbit</th>\n",
        "      <td> 4</td>\n",
        "      <td>   orbit</td>\n",
        "      <td>    Integer 5</td>\n",
        "      <td>                         Orbit number.  0 to 99999</td>\n",
        "    </tr>\n",
        "    <tr>\n",
        "      <th>sundist</th>\n",
        "      <td> 5</td>\n",
        "      <td> sundist</td>\n",
        "      <td>     Real 7.5</td>\n",
        "      <td> The distance from the center of the moon to th...</td>\n",
        "    </tr>\n",
        "  </tbody>\n",
        "</table>\n",
        "<p>5 rows \u00d7 4 columns</p>\n",
        "</div>"
       ],
       "metadata": {},
       "output_type": "pyout",
       "prompt_number": 32,
       "text": [
        "         0        1             2  \\\n",
        "date     1     date  Character 13   \n",
        "utc      2      utc  Character 14   \n",
        "jdate    3    jdate     Real 17.9   \n",
        "orbit    4    orbit     Integer 5   \n",
        "sundist  5  sundist      Real 7.5   \n",
        "\n",
        "                                                         3  \n",
        "date     Date at the midpoint of observation (SCET, UTC...  \n",
        "utc      Time at the midpoint of observation (SCET, UTC...  \n",
        "jdate    Julian Date at the midpoint of observation (SC...  \n",
        "orbit                            Orbit number.  0 to 99999  \n",
        "sundist  The distance from the center of the moon to th...  \n",
        "\n",
        "[5 rows x 4 columns]"
       ]
      }
     ],
     "prompt_number": 32
    },
    {
     "cell_type": "code",
     "collapsed": false,
     "input": [
      "rdr_columns.columns = ['COLUMN_NUMBER','NAME','FORMAT','DESCRIPTION']"
     ],
     "language": "python",
     "metadata": {},
     "outputs": [],
     "prompt_number": 39
    },
    {
     "cell_type": "code",
     "collapsed": false,
     "input": [
      "rdr_format = rdr_format.convert_objects(convert_numeric=True)"
     ],
     "language": "python",
     "metadata": {},
     "outputs": [],
     "prompt_number": 34
    },
    {
     "cell_type": "code",
     "collapsed": false,
     "input": [
      "rdr_format.sort('COLUMN_NUMBER',inplace=True)"
     ],
     "language": "python",
     "metadata": {},
     "outputs": [],
     "prompt_number": 35
    },
    {
     "cell_type": "code",
     "collapsed": false,
     "input": [
      "rdr_format.head()"
     ],
     "language": "python",
     "metadata": {},
     "outputs": [
      {
       "html": [
        "<div style=\"max-height:1000px;max-width:1500px;overflow:auto;\">\n",
        "<table border=\"1\" class=\"dataframe\">\n",
        "  <thead>\n",
        "    <tr style=\"text-align: right;\">\n",
        "      <th></th>\n",
        "      <th>BYTES</th>\n",
        "      <th>COLUMN_NUMBER</th>\n",
        "      <th>DATA_TYPE</th>\n",
        "      <th>DESCRIPTION</th>\n",
        "      <th>INVALID_CONSTANT</th>\n",
        "      <th>NAME</th>\n",
        "      <th>START_BYTE</th>\n",
        "      <th>UNKNOWN_CONSTANT</th>\n",
        "    </tr>\n",
        "  </thead>\n",
        "  <tbody>\n",
        "    <tr>\n",
        "      <th>date</th>\n",
        "      <td> 11</td>\n",
        "      <td> 1</td>\n",
        "      <td>     CHARACTER</td>\n",
        "      <td> \"Date at the midpoint of observation (SCET, UT...</td>\n",
        "      <td>-9998</td>\n",
        "      <td>    date</td>\n",
        "      <td>  2</td>\n",
        "      <td>-9999</td>\n",
        "    </tr>\n",
        "    <tr>\n",
        "      <th>utc</th>\n",
        "      <td> 12</td>\n",
        "      <td> 2</td>\n",
        "      <td>     CHARACTER</td>\n",
        "      <td> \"Time at the midpoint of observation (SCET, UT...</td>\n",
        "      <td>-9998</td>\n",
        "      <td>     utc</td>\n",
        "      <td> 17</td>\n",
        "      <td>-9999</td>\n",
        "    </tr>\n",
        "    <tr>\n",
        "      <th>jdate</th>\n",
        "      <td> 17</td>\n",
        "      <td> 3</td>\n",
        "      <td>    ASCII_REAL</td>\n",
        "      <td> \"Julian Date at the midpoint of observation (S...</td>\n",
        "      <td>-9998</td>\n",
        "      <td>   jdate</td>\n",
        "      <td> 32</td>\n",
        "      <td>-9999</td>\n",
        "    </tr>\n",
        "    <tr>\n",
        "      <th>orbit</th>\n",
        "      <td>  5</td>\n",
        "      <td> 4</td>\n",
        "      <td> ASCII_INTEGER</td>\n",
        "      <td>                        \"Orbit number. 0 to 99999\"</td>\n",
        "      <td>-9998</td>\n",
        "      <td>   orbit</td>\n",
        "      <td> 51</td>\n",
        "      <td>-9999</td>\n",
        "    </tr>\n",
        "    <tr>\n",
        "      <th>sundist</th>\n",
        "      <td>  7</td>\n",
        "      <td> 5</td>\n",
        "      <td>    ASCII_REAL</td>\n",
        "      <td> \"The distance from the center of the moon to t...</td>\n",
        "      <td>-9998</td>\n",
        "      <td> sundist</td>\n",
        "      <td> 58</td>\n",
        "      <td>-9999</td>\n",
        "    </tr>\n",
        "  </tbody>\n",
        "</table>\n",
        "<p>5 rows \u00d7 8 columns</p>\n",
        "</div>"
       ],
       "metadata": {},
       "output_type": "pyout",
       "prompt_number": 36,
       "text": [
        "         BYTES  COLUMN_NUMBER      DATA_TYPE  \\\n",
        "date        11              1      CHARACTER   \n",
        "utc         12              2      CHARACTER   \n",
        "jdate       17              3     ASCII_REAL   \n",
        "orbit        5              4  ASCII_INTEGER   \n",
        "sundist      7              5     ASCII_REAL   \n",
        "\n",
        "                                               DESCRIPTION  INVALID_CONSTANT  \\\n",
        "date     \"Date at the midpoint of observation (SCET, UT...             -9998   \n",
        "utc      \"Time at the midpoint of observation (SCET, UT...             -9998   \n",
        "jdate    \"Julian Date at the midpoint of observation (S...             -9998   \n",
        "orbit                           \"Orbit number. 0 to 99999\"             -9998   \n",
        "sundist  \"The distance from the center of the moon to t...             -9998   \n",
        "\n",
        "            NAME  START_BYTE  UNKNOWN_CONSTANT  \n",
        "date        date           2             -9999  \n",
        "utc          utc          17             -9999  \n",
        "jdate      jdate          32             -9999  \n",
        "orbit      orbit          51             -9999  \n",
        "sundist  sundist          58             -9999  \n",
        "\n",
        "[5 rows x 8 columns]"
       ]
      }
     ],
     "prompt_number": 36
    },
    {
     "cell_type": "code",
     "collapsed": false,
     "input": [
      "joined = rdr_format.join(rdr_columns, lsuffix='_format', rsuffix='_columns')"
     ],
     "language": "python",
     "metadata": {},
     "outputs": [],
     "prompt_number": 42
    },
    {
     "cell_type": "code",
     "collapsed": false,
     "input": [
      "joined.ix['qge']"
     ],
     "language": "python",
     "metadata": {},
     "outputs": [
      {
       "metadata": {},
       "output_type": "pyout",
       "prompt_number": 45,
       "text": [
        "BYTES                                                                    3\n",
        "COLUMN_NUMBER_format                                                    32\n",
        "DATA_TYPE                                                    ASCII_INTEGER\n",
        "DESCRIPTION_format       \"Quality Flag for Geometry. A 3-digit decimal ...\n",
        "INVALID_CONSTANT                                                     -9998\n",
        "NAME_format                                                            qge\n",
        "START_BYTE                                                             333\n",
        "UNKNOWN_CONSTANT                                                     -9999\n",
        "COLUMN_NUMBER_columns                                                  NaN\n",
        "NAME_columns                                                           NaN\n",
        "FORMAT                                                                 NaN\n",
        "DESCRIPTION_columns                                                    NaN\n",
        "Name: qge, dtype: object"
       ]
      }
     ],
     "prompt_number": 45
    },
    {
     "cell_type": "code",
     "collapsed": false,
     "input": [
      "joined.NAME_columns == joined.NAME_format"
     ],
     "language": "python",
     "metadata": {},
     "outputs": [
      {
       "metadata": {},
       "output_type": "pyout",
       "prompt_number": 43,
       "text": [
        "date          True\n",
        "utc           True\n",
        "jdate         True\n",
        "orbit         True\n",
        "sundist       True\n",
        "sunlat        True\n",
        "sunlon        True\n",
        "sclk          True\n",
        "sclat         True\n",
        "sclon         True\n",
        "scrad         True\n",
        "scalt         True\n",
        "el_cmd        True\n",
        "az_cmd        True\n",
        "af            True\n",
        "orientlat     True\n",
        "orientlon     True\n",
        "c             True\n",
        "det           True\n",
        "vlookx        True\n",
        "vlooky        True\n",
        "vlookz        True\n",
        "radiance      True\n",
        "tb            True\n",
        "clat          True\n",
        "clon          True\n",
        "cemis         True\n",
        "csunzen       True\n",
        "csunazi       True\n",
        "cloctime      True\n",
        "qca          False\n",
        "qge          False\n",
        "dtype: bool"
       ]
      }
     ],
     "prompt_number": 43
    },
    {
     "cell_type": "code",
     "collapsed": false,
     "input": [
      "joined.index"
     ],
     "language": "python",
     "metadata": {},
     "outputs": [
      {
       "metadata": {},
       "output_type": "pyout",
       "prompt_number": 46,
       "text": [
        "Index([u'date', u'utc', u'jdate', u'orbit', u'sundist', u'sunlat', u'sunlon', u'sclk', u'sclat', u'sclon', u'scrad', u'scalt', u'el_cmd', u'az_cmd', u'af', u'orientlat', u'orientlon', u'c', u'det', u'vlookx', u'vlooky', u'vlookz', u'radiance', u'tb', u'clat', u'clon', u'cemis', u'csunzen', u'csunazi', u'cloctime', u'qca', u'qge'], dtype='object')"
       ]
      }
     ],
     "prompt_number": 46
    },
    {
     "cell_type": "code",
     "collapsed": false,
     "input": [
      "joined.index.name = 'colname'"
     ],
     "language": "python",
     "metadata": {},
     "outputs": [],
     "prompt_number": 48
    },
    {
     "cell_type": "code",
     "collapsed": false,
     "input": [
      "joined.to_csv('joined_format_file.csv')"
     ],
     "language": "python",
     "metadata": {},
     "outputs": [],
     "prompt_number": 49
    },
    {
     "cell_type": "code",
     "collapsed": false,
     "input": [],
     "language": "python",
     "metadata": {},
     "outputs": []
    }
   ],
   "metadata": {}
  }
 ]
}