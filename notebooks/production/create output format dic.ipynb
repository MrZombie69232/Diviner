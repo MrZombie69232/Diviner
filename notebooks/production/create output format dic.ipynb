{
 "metadata": {
  "name": "",
  "signature": "sha256:1af387dade795d47dbc9de9700754e36d71139ca2b00b2e2bb4bfbc2f368fd57"
 },
 "nbformat": 3,
 "nbformat_minor": 0,
 "worksheets": [
  {
   "cells": [
    {
     "cell_type": "code",
     "collapsed": false,
     "input": [
      "from diviner import formats\n",
      "reload(formats)"
     ],
     "language": "python",
     "metadata": {},
     "outputs": [
      {
       "metadata": {},
       "output_type": "pyout",
       "prompt_number": 3,
       "text": [
        "<module 'diviner.formats' from '/Users/maye/Dropbox/src/diviner/formats.py'>"
       ]
      }
     ],
     "prompt_number": 3
    },
    {
     "cell_type": "code",
     "collapsed": false,
     "input": [
      "dic = formats.get_formats_dict()"
     ],
     "language": "python",
     "metadata": {},
     "outputs": [],
     "prompt_number": 4
    },
    {
     "cell_type": "code",
     "collapsed": false,
     "input": [
      "dic.keys()"
     ],
     "language": "python",
     "metadata": {},
     "outputs": [
      {
       "metadata": {},
       "output_type": "pyout",
       "prompt_number": 5,
       "text": [
        "['date',\n",
        " 'utc',\n",
        " 'jdate',\n",
        " 'orbit',\n",
        " 'sundist',\n",
        " 'sunlat',\n",
        " 'sunlon',\n",
        " 'sclk',\n",
        " 'sclat',\n",
        " 'sclon',\n",
        " 'scrad',\n",
        " 'scalt',\n",
        " 'el_cmd',\n",
        " 'az_cmd',\n",
        " 'af',\n",
        " 'orientlat',\n",
        " 'orientlon',\n",
        " 'c',\n",
        " 'det',\n",
        " 'vlookx',\n",
        " 'vlooky',\n",
        " 'vlookz',\n",
        " 'radiance',\n",
        " 'tb',\n",
        " 'clat',\n",
        " 'clon',\n",
        " 'cemis',\n",
        " 'csunzen',\n",
        " 'csunazi',\n",
        " 'cloctime']"
       ]
      }
     ],
     "prompt_number": 5
    },
    {
     "cell_type": "code",
     "collapsed": false,
     "input": [
      "format_dic = formats.create_formatdic_for_dataframe()"
     ],
     "language": "python",
     "metadata": {},
     "outputs": [],
     "prompt_number": 6
    },
    {
     "cell_type": "code",
     "collapsed": false,
     "input": [
      "tstamp = pd.Timestamp('20100101 17:19:10')"
     ],
     "language": "python",
     "metadata": {},
     "outputs": [],
     "prompt_number": 11
    },
    {
     "cell_type": "code",
     "collapsed": false,
     "input": [
      "tstamp.date()"
     ],
     "language": "python",
     "metadata": {},
     "outputs": [
      {
       "metadata": {},
       "output_type": "pyout",
       "prompt_number": 13,
       "text": [
        "datetime.date(2010, 1, 1)"
       ]
      }
     ],
     "prompt_number": 13
    },
    {
     "cell_type": "code",
     "collapsed": false,
     "input": [
      "format_dic['date'](tstamp.date())"
     ],
     "language": "python",
     "metadata": {},
     "outputs": [
      {
       "metadata": {},
       "output_type": "pyout",
       "prompt_number": 15,
       "text": [
        "'\" 2010-01-01\",'"
       ]
      }
     ],
     "prompt_number": 15
    },
    {
     "cell_type": "code",
     "collapsed": false,
     "input": [],
     "language": "python",
     "metadata": {},
     "outputs": []
    }
   ],
   "metadata": {}
  }
 ]
}