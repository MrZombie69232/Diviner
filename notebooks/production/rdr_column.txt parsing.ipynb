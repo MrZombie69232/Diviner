{
 "metadata": {
  "name": "",
  "signature": "sha256:f36f079dcbbdc4c754516f05cdffc1c15e3225953fc5959f4f33214769006ee5"
 },
 "nbformat": 3,
 "nbformat_minor": 0,
 "worksheets": [
  {
   "cells": [
    {
     "cell_type": "code",
     "collapsed": false,
     "input": [
      "fname = '../../data/rdr_columns.txt'"
     ],
     "language": "python",
     "metadata": {},
     "outputs": [],
     "prompt_number": 1
    },
    {
     "cell_type": "code",
     "collapsed": false,
     "input": [
      "with open(fname) as f:\n",
      "    data = f.readlines()"
     ],
     "language": "python",
     "metadata": {},
     "outputs": [],
     "prompt_number": 2
    },
    {
     "cell_type": "code",
     "collapsed": false,
     "input": [
      "for i in range(10):\n",
      "    print repr(data[i])"
     ],
     "language": "python",
     "metadata": {},
     "outputs": [
      {
       "output_type": "stream",
       "stream": "stdout",
       "text": [
        "'1\\n'\n",
        "'\\n'\n",
        "'date\\n'\n",
        "'\\n'\n",
        "'Character 13\\n'\n",
        "'\\n'\n",
        "'Date at the midpoint of observation (SCET, UTC).   E.g. \"25-Jun-2009\"\\n'\n",
        "'\\n'\n",
        "'2\\n'\n",
        "'\\n'\n"
       ]
      }
     ],
     "prompt_number": 5
    },
    {
     "cell_type": "code",
     "collapsed": false,
     "input": [
      "from collections import namedtuple"
     ],
     "language": "python",
     "metadata": {},
     "outputs": [],
     "prompt_number": 6
    },
    {
     "cell_type": "code",
     "collapsed": false,
     "input": [
      "RDRColumn = namedtuple('RDRColumn', 'colno, colname, type_format, desc')"
     ],
     "language": "python",
     "metadata": {},
     "outputs": [],
     "prompt_number": 7
    },
    {
     "cell_type": "code",
     "collapsed": false,
     "input": [
      "myIter = iter(data)"
     ],
     "language": "python",
     "metadata": {},
     "outputs": [],
     "prompt_number": 18
    },
    {
     "cell_type": "code",
     "collapsed": false,
     "input": [
      "try:\n",
      "    line = myIter.next()\n",
      "except StopIteration:\n",
      "    pass"
     ],
     "language": "python",
     "metadata": {},
     "outputs": [],
     "prompt_number": 21
    },
    {
     "cell_type": "code",
     "collapsed": false,
     "input": [
      "def get_columns(fname=None):\n",
      "    if not fname:\n",
      "        fname = '../../data/rdr_columns.txt'\n",
      "    with open(fname) as f:\n",
      "        data = f.readlines()\n",
      "    # use this counter to know when 4 items were collected\n",
      "    counter = 0\n",
      "    container = []\n",
      "    for line in data:\n",
      "        if not line.strip():\n",
      "            continue\n",
      "        container.append(line.strip())\n",
      "        counter += 1\n",
      "        if counter == 4:\n",
      "            yield RDRColumn(*container)\n",
      "            counter = 0\n",
      "            container = []"
     ],
     "language": "python",
     "metadata": {},
     "outputs": [],
     "prompt_number": 54
    },
    {
     "cell_type": "code",
     "collapsed": false,
     "input": [
      "from collections import OrderedDict\n",
      "dic = OrderedDict()\n",
      "for col in get_columns():\n",
      "    dic[col.colname] = col"
     ],
     "language": "python",
     "metadata": {},
     "outputs": [],
     "prompt_number": 55
    },
    {
     "cell_type": "code",
     "collapsed": false,
     "input": [
      "dic.keys()"
     ],
     "language": "python",
     "metadata": {},
     "outputs": [
      {
       "metadata": {},
       "output_type": "pyout",
       "prompt_number": 56,
       "text": [
        "['date',\n",
        " 'utc',\n",
        " 'jdate',\n",
        " 'orbit',\n",
        " 'sundist',\n",
        " 'sunlat',\n",
        " 'sunlon',\n",
        " 'sclk',\n",
        " 'sclat',\n",
        " 'sclon',\n",
        " 'scrad',\n",
        " 'scalt',\n",
        " 'el_cmd',\n",
        " 'az_cmd',\n",
        " 'af',\n",
        " 'orientlat',\n",
        " 'orientlon',\n",
        " 'c',\n",
        " 'det',\n",
        " 'vlookx',\n",
        " 'vlooky',\n",
        " 'vlookz',\n",
        " 'radiance',\n",
        " 'tb',\n",
        " 'clat',\n",
        " 'clon',\n",
        " 'cemis',\n",
        " 'csunzen',\n",
        " 'csunazi',\n",
        " 'cloctime']"
       ]
      }
     ],
     "prompt_number": 56
    },
    {
     "cell_type": "code",
     "collapsed": false,
     "input": [],
     "language": "python",
     "metadata": {},
     "outputs": [
      {
       "metadata": {},
       "output_type": "pyout",
       "prompt_number": 57,
       "text": [
        "RDRColumn(colno='30', colname='cloctime', type_format='Real 8.5', desc='Local time at FOV Center (hours past midnight).  Undefined if off planet.    Uses spherical moon approximation as described in Section 2.4.3.  0 to 24.00000')"
       ]
      }
     ],
     "prompt_number": 57
    },
    {
     "cell_type": "code",
     "collapsed": false,
     "input": [],
     "language": "python",
     "metadata": {},
     "outputs": []
    }
   ],
   "metadata": {}
  }
 ]
}