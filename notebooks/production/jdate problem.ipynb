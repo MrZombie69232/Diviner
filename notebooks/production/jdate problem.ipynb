{
 "metadata": {
  "name": "",
  "signature": "sha256:9a4478948a6c0b65b3bf618b9a46e32ca9e7c8989a648c37ec5f3fa8d358f1b2"
 },
 "nbformat": 3,
 "nbformat_minor": 0,
 "worksheets": [
  {
   "cells": [
    {
     "cell_type": "markdown",
     "metadata": {},
     "source": [
      "## Simple parallel processing in IPython\n",
      "\n",
      "First, one has to start the `engines`. Using the notebook, it is as easy as going to the notebook dashboard, clicking on the Clusters profile, and starting as many engines as you want.\n",
      "\n",
      "Usually the best maximum number is half of the advertised cores of your Intel CPU, as half of them are only virtual cores, but this can strongly depend on what you actually do.\n",
      "\n",
      "Now I will create a `Client()` object, and a direct and a load-balanced view to the engines. The direct view means that I have full control over what tasks get to which engine, and it is a bit easier to check out the available engines, hence a 'direct' view.\n",
      "The load-balanced view is an interface where I trust the machinery to efficiently distribute the work to any engine that is available. This view should be the better way to treat truly [embarrassingly parallel](http://en.wikipedia.org/wiki/Embarrassingly_parallel) problems."
     ]
    },
    {
     "cell_type": "code",
     "collapsed": false,
     "input": [
      "from IPython.parallel import Client\n",
      "rc = Client()"
     ],
     "language": "python",
     "metadata": {},
     "outputs": [],
     "prompt_number": 1
    },
    {
     "cell_type": "code",
     "collapsed": false,
     "input": [
      "dview = rc[:]\n",
      "lview = rc.load_balanced_view()"
     ],
     "language": "python",
     "metadata": {},
     "outputs": [],
     "prompt_number": 2
    },
    {
     "cell_type": "markdown",
     "metadata": {},
     "source": [
      "Let's check with the direct view that each engine has its own process id."
     ]
    },
    {
     "cell_type": "code",
     "collapsed": false,
     "input": [
      "import os\n",
      "dview.apply_sync(os.getpid)"
     ],
     "language": "python",
     "metadata": {},
     "outputs": [
      {
       "metadata": {},
       "output_type": "pyout",
       "prompt_number": 3,
       "text": [
        "[19143, 19144, 19145, 19148, 19149, 19151, 19154, 19155]"
       ]
      }
     ],
     "prompt_number": 3
    },
    {
     "cell_type": "markdown",
     "metadata": {},
     "source": [
      "The method `apply_sync` guarantees, that I wait for the results to come back, whatever the current configurated default status for the engines is. I find it much better to use method names that tell me immediately if I have to expect results or not, independent of some background flag that I otherwise have to keep track of.\n",
      "\n",
      "Try the above call with the `apply_async` version, and you will see that you don't get any results back, because you are not waiting for them."
     ]
    },
    {
     "cell_type": "code",
     "collapsed": false,
     "input": [
      "pd.read_csv('/luna4/maye/rdr_out/verification/beta_0_elliptical/2012022408_C7_RDR_2.CSV').jdate.ptp()"
     ],
     "language": "python",
     "metadata": {},
     "outputs": [
      {
       "metadata": {},
       "output_type": "pyout",
       "prompt_number": 6,
       "text": [
        "0.0"
       ]
      }
     ],
     "prompt_number": 6
    },
    {
     "cell_type": "code",
     "collapsed": false,
     "input": [
      "%%px --local\n",
      "def check_csv(c):\n",
      "    import pandas as pd\n",
      "    csv1 = pd.read_csv('/luna4/maye/rdr_out/verification/beta_0_elliptical/2012061905_C'+\n",
      "                       str(c)+'_RDR_2.CSV')\n",
      "    return csv1.jdate.ptp()"
     ],
     "language": "python",
     "metadata": {},
     "outputs": [],
     "prompt_number": 4
    },
    {
     "cell_type": "code",
     "collapsed": false,
     "input": [
      "results = dview.map_async(check_csv, range(3,10))"
     ],
     "language": "python",
     "metadata": {},
     "outputs": [],
     "prompt_number": 5
    },
    {
     "cell_type": "code",
     "collapsed": false,
     "input": [
      "for res in results:\n",
      "    print res"
     ],
     "language": "python",
     "metadata": {},
     "outputs": [
      {
       "output_type": "stream",
       "stream": "stdout",
       "text": [
        "0.0416644699872\n",
        "0.0416644699872\n",
        "0.0416644699872\n",
        "0.0416644699872\n",
        "0.0416644699872\n",
        "0.0416644699872\n",
        "0.0416644699872\n"
       ]
      }
     ],
     "prompt_number": 6
    },
    {
     "cell_type": "code",
     "collapsed": false,
     "input": [
      "csv1 = pd.read_csv('/luna4/maye/rdr_out/verification/beta_90_elliptical/2012061905_C7_RDR_2.CSV')"
     ],
     "language": "python",
     "metadata": {},
     "outputs": [],
     "prompt_number": 28
    },
    {
     "cell_type": "code",
     "collapsed": false,
     "input": [
      "csv1.jdate.ptp()"
     ],
     "language": "python",
     "metadata": {},
     "outputs": [
      {
       "metadata": {},
       "output_type": "pyout",
       "prompt_number": 29,
       "text": [
        "0.0"
       ]
      }
     ],
     "prompt_number": 29
    },
    {
     "cell_type": "code",
     "collapsed": false,
     "input": [
      "csv1.c.describe()"
     ],
     "language": "python",
     "metadata": {},
     "outputs": [
      {
       "metadata": {},
       "output_type": "pyout",
       "prompt_number": 32,
       "text": [
        "count    590604\n",
        "mean          7\n",
        "std           0\n",
        "min           7\n",
        "25%           7\n",
        "50%           7\n",
        "75%           7\n",
        "max           7\n",
        "Name: c, dtype: float64"
       ]
      }
     ],
     "prompt_number": 32
    },
    {
     "cell_type": "code",
     "collapsed": false,
     "input": [
      "from diviner import file_utils as fu\n",
      "tstr = '2012061905'\n",
      "obs = fu.DivObs(tstr)\n",
      "rdrs = obs.get_rdrs()"
     ],
     "language": "python",
     "metadata": {},
     "outputs": [],
     "prompt_number": 7
    },
    {
     "cell_type": "code",
     "collapsed": false,
     "input": [
      "from diviner import production\n",
      "config = production.Configurator(run_name='beta_90_elliptical')"
     ],
     "language": "python",
     "metadata": {},
     "outputs": [],
     "prompt_number": 8
    },
    {
     "cell_type": "code",
     "collapsed": false,
     "input": [
      "config.savedir"
     ],
     "language": "python",
     "metadata": {},
     "outputs": [
      {
       "metadata": {},
       "output_type": "pyout",
       "prompt_number": 9,
       "text": [
        "'/raid1/maye/rdr_out/only_calibrate'"
       ]
      }
     ],
     "prompt_number": 9
    },
    {
     "cell_type": "code",
     "collapsed": false,
     "input": [
      "obs, rdr1, tb, rad = production.get_data_for_merge(tstr, config.savedir)"
     ],
     "language": "python",
     "metadata": {},
     "outputs": [
      {
       "output_type": "stream",
       "stream": "stderr",
       "text": [
        "2014-08-07 10:52:59,270 - diviner.production - INFO - Processing 2012061905\n"
       ]
      },
      {
       "output_type": "stream",
       "stream": "stderr",
       "text": [
        "INFO:diviner.production:Processing 2012061905\n"
       ]
      }
     ],
     "prompt_number": 10
    },
    {
     "cell_type": "code",
     "collapsed": false,
     "input": [
      "from diviner import ana_utils as au\n",
      "prod = production\n",
      "channel = au.Channel(7)\n",
      "rdr1_merged = prod.melt_and_merge_rdr1(rdr1, channel.div)\n",
      "tb_molten_c = prod.grep_channel_and_melt(tb, 'tb', channel, obs)\n",
      "rad_molten_c = prod.grep_channel_and_melt(rad, 'radiance', channel, obs)"
     ],
     "language": "python",
     "metadata": {},
     "outputs": [],
     "prompt_number": 18
    },
    {
     "cell_type": "code",
     "collapsed": false,
     "input": [
      "rdr1_merged.columns"
     ],
     "language": "python",
     "metadata": {},
     "outputs": [
      {
       "metadata": {},
       "output_type": "pyout",
       "prompt_number": 18,
       "text": [
        "Index([u'index', u'jdate', u'orbit', u'sundist', u'sunlat', u'sunlon', u'sclk', u'sclat', u'sclon', u'scrad', u'scalt', u'el_cmd', u'az_cmd', u'af', u'orientlat', u'orientlon', u'det', u'vlookx', u'vlooky', u'qge', u'clat', u'csunzen', u'qca', u'vlookz', u'clon', u'cloctime', u'csunazi', u'cemis'], dtype='object')"
       ]
      }
     ],
     "prompt_number": 18
    },
    {
     "cell_type": "code",
     "collapsed": false,
     "input": [
      "rdr1_merged.jdate.ptp()"
     ],
     "language": "python",
     "metadata": {},
     "outputs": [
      {
       "metadata": {},
       "output_type": "pyout",
       "prompt_number": 14,
       "text": [
        "0.041664469987154007"
       ]
      }
     ],
     "prompt_number": 14
    },
    {
     "cell_type": "code",
     "collapsed": false,
     "input": [
      "mergecols = 'index det'.split()\n",
      "rdr2 = rdr1_merged.merge(tb_molten_c, left_on=mergecols,\n",
      "                                 right_on=mergecols)"
     ],
     "language": "python",
     "metadata": {},
     "outputs": [],
     "prompt_number": 16
    },
    {
     "cell_type": "code",
     "collapsed": false,
     "input": [
      "rdr2.jdate.ptp()"
     ],
     "language": "python",
     "metadata": {},
     "outputs": [
      {
       "metadata": {},
       "output_type": "pyout",
       "prompt_number": 17,
       "text": [
        "0.041664469987154007"
       ]
      }
     ],
     "prompt_number": 17
    },
    {
     "cell_type": "code",
     "collapsed": false,
     "input": [
      "prod.add_time_columns(rdr2)"
     ],
     "language": "python",
     "metadata": {},
     "outputs": [],
     "prompt_number": 19
    },
    {
     "cell_type": "code",
     "collapsed": false,
     "input": [
      "rdr2.jdate.ptp()"
     ],
     "language": "python",
     "metadata": {},
     "outputs": [
      {
       "metadata": {},
       "output_type": "pyout",
       "prompt_number": 20,
       "text": [
        "0.041664469987154007"
       ]
      }
     ],
     "prompt_number": 20
    },
    {
     "cell_type": "code",
     "collapsed": false,
     "input": [
      "rdr2.fillna(-9999, inplace=True)\n",
      "rdr2.det = rdr2.det.astype('int')\n",
      "rdr2.drop('index', inplace=True, axis=1)\n",
      "rdr2['c'] = channel.div"
     ],
     "language": "python",
     "metadata": {},
     "outputs": [],
     "prompt_number": 21
    },
    {
     "cell_type": "code",
     "collapsed": false,
     "input": [
      "rdr2.jdate.ptp()"
     ],
     "language": "python",
     "metadata": {},
     "outputs": [
      {
       "metadata": {},
       "output_type": "pyout",
       "prompt_number": 22,
       "text": [
        "0.041664469987154007"
       ]
      }
     ],
     "prompt_number": 22
    },
    {
     "cell_type": "code",
     "collapsed": false,
     "input": [
      "clon_cols = rdr2.filter(regex=\"^clon_\").columns\n",
      "if config.swap_clons:\n",
      "    for col in clon_cols:\n",
      "        rdr2[col] = rdr2[col].map(lambda x: -(360 - x)\n",
      "                                  if x > 180 else x)"
     ],
     "language": "python",
     "metadata": {},
     "outputs": [],
     "prompt_number": 23
    },
    {
     "cell_type": "code",
     "collapsed": false,
     "input": [
      "rdr2.jdate.ptp()"
     ],
     "language": "python",
     "metadata": {},
     "outputs": [
      {
       "metadata": {},
       "output_type": "pyout",
       "prompt_number": 24,
       "text": [
        "0.041664469987154007"
       ]
      }
     ],
     "prompt_number": 24
    },
    {
     "cell_type": "code",
     "collapsed": false,
     "input": [
      "cd ~"
     ],
     "language": "python",
     "metadata": {},
     "outputs": [
      {
       "output_type": "stream",
       "stream": "stdout",
       "text": [
        "/u/paige/maye\n"
       ]
      }
     ],
     "prompt_number": 26
    },
    {
     "cell_type": "code",
     "collapsed": false,
     "input": [
      "rdr2.to_csv('jdate_test_out.csv', index=False)\n",
      "csvtest = pd.read_csv('jdate_test_out.csv')\n",
      "print csvtest.jdate.ptp()\n",
      "rdr2.to_csv('jdate_test_out.csv', index=False, engine='fast')\n",
      "csvtest = pd.read_csv('jdate_test_out.csv')\n",
      "print csvtest.jdate.ptp()"
     ],
     "language": "python",
     "metadata": {},
     "outputs": [
      {
       "output_type": "stream",
       "stream": "stdout",
       "text": [
        "0.0416644699872\n",
        "0.0"
       ]
      },
      {
       "output_type": "stream",
       "stream": "stdout",
       "text": [
        "\n"
       ]
      }
     ],
     "prompt_number": 38
    },
    {
     "cell_type": "code",
     "collapsed": false,
     "input": [],
     "language": "python",
     "metadata": {},
     "outputs": []
    }
   ],
   "metadata": {}
  }
 ]
}