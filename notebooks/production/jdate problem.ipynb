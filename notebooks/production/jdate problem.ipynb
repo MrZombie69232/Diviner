{
 "cells": [
  {
   "cell_type": "markdown",
   "metadata": {},
   "source": [
    "## Simple parallel processing in IPython\n",
    "\n",
    "First, one has to start the `engines`. Using the notebook, it is as easy as going to the notebook dashboard, clicking on the Clusters profile, and starting as many engines as you want.\n",
    "\n",
    "Usually the best maximum number is half of the advertised cores of your Intel CPU, as half of them are only virtual cores, but this can strongly depend on what you actually do.\n",
    "\n",
    "Now I will create a `Client()` object, and a direct and a load-balanced view to the engines. The direct view means that I have full control over what tasks get to which engine, and it is a bit easier to check out the available engines, hence a 'direct' view.\n",
    "The load-balanced view is an interface where I trust the machinery to efficiently distribute the work to any engine that is available. This view should be the better way to treat truly [embarrassingly parallel](http://en.wikipedia.org/wiki/Embarrassingly_parallel) problems."
   ]
  },
  {
   "cell_type": "code",
   "execution_count": null,
   "metadata": {},
   "outputs": [],
   "source": [
    "from ipyparallel import Client\n",
    "rc = Client()"
   ]
  },
  {
   "cell_type": "code",
   "execution_count": null,
   "metadata": {},
   "outputs": [],
   "source": [
    "dview = rc[:]\n",
    "lview = rc.load_balanced_view()"
   ]
  },
  {
   "cell_type": "markdown",
   "metadata": {},
   "source": [
    "Let's check with the direct view that each engine has its own process id."
   ]
  },
  {
   "cell_type": "code",
   "execution_count": null,
   "metadata": {},
   "outputs": [],
   "source": [
    "import os\n",
    "dview.apply_sync(os.getpid)"
   ]
  },
  {
   "cell_type": "markdown",
   "metadata": {},
   "source": [
    "The method `apply_sync` guarantees, that I wait for the results to come back, whatever the current configurated default status for the engines is. I find it much better to use method names that tell me immediately if I have to expect results or not, independent of some background flag that I otherwise have to keep track of.\n",
    "\n",
    "Try the above call with the `apply_async` version, and you will see that you don't get any results back, because you are not waiting for them."
   ]
  },
  {
   "cell_type": "code",
   "execution_count": null,
   "metadata": {},
   "outputs": [],
   "source": [
    "pd.read_csv('/luna4/maye/rdr_out/verification/beta_0_elliptical/2012022408_C7_RDR_2.CSV').jdate.ptp()"
   ]
  },
  {
   "cell_type": "code",
   "execution_count": null,
   "metadata": {},
   "outputs": [],
   "source": [
    "%%px --local\n",
    "def check_csv(c):\n",
    "    import pandas as pd\n",
    "    csv1 = pd.read_csv('/luna4/maye/rdr_out/verification/beta_0_elliptical/2012061905_C'+\n",
    "                       str(c)+'_RDR_2.CSV')\n",
    "    return csv1.jdate.ptp()"
   ]
  },
  {
   "cell_type": "code",
   "execution_count": null,
   "metadata": {},
   "outputs": [],
   "source": [
    "results = dview.map_async(check_csv, range(3,10))"
   ]
  },
  {
   "cell_type": "code",
   "execution_count": null,
   "metadata": {},
   "outputs": [],
   "source": [
    "for res in results:\n",
    "    print(res)"
   ]
  },
  {
   "cell_type": "code",
   "execution_count": null,
   "metadata": {},
   "outputs": [],
   "source": [
    "csv1 = pd.read_csv('/luna4/maye/rdr_out/verification/beta_90_elliptical/2012061905_C7_RDR_2.CSV')"
   ]
  },
  {
   "cell_type": "code",
   "execution_count": null,
   "metadata": {},
   "outputs": [],
   "source": [
    "csv1.jdate.ptp()"
   ]
  },
  {
   "cell_type": "code",
   "execution_count": null,
   "metadata": {},
   "outputs": [],
   "source": [
    "csv1.c.describe()"
   ]
  },
  {
   "cell_type": "code",
   "execution_count": null,
   "metadata": {},
   "outputs": [],
   "source": [
    "from diviner import file_utils as fu\n",
    "tstr = '2012061905'\n",
    "obs = fu.DivObs(tstr)\n",
    "rdrs = obs.get_rdrs()"
   ]
  },
  {
   "cell_type": "code",
   "execution_count": null,
   "metadata": {},
   "outputs": [],
   "source": [
    "from diviner import production\n",
    "config = production.Configurator(run_name='beta_90_elliptical')"
   ]
  },
  {
   "cell_type": "code",
   "execution_count": null,
   "metadata": {},
   "outputs": [],
   "source": [
    "config.savedir"
   ]
  },
  {
   "cell_type": "code",
   "execution_count": null,
   "metadata": {},
   "outputs": [],
   "source": [
    "obs, rdr1, tb, rad = production.get_data_for_merge(tstr, config.savedir)"
   ]
  },
  {
   "cell_type": "code",
   "execution_count": null,
   "metadata": {},
   "outputs": [],
   "source": [
    "from diviner import ana_utils as au\n",
    "prod = production\n",
    "channel = au.Channel(7)\n",
    "rdr1_merged = prod.melt_and_merge_rdr1(rdr1, channel.div)\n",
    "tb_molten_c = prod.grep_channel_and_melt(tb, 'tb', channel, obs)\n",
    "rad_molten_c = prod.grep_channel_and_melt(rad, 'radiance', channel, obs)"
   ]
  },
  {
   "cell_type": "code",
   "execution_count": null,
   "metadata": {},
   "outputs": [],
   "source": [
    "rdr1_merged.columns"
   ]
  },
  {
   "cell_type": "code",
   "execution_count": null,
   "metadata": {},
   "outputs": [],
   "source": [
    "rdr1_merged.jdate.ptp()"
   ]
  },
  {
   "cell_type": "code",
   "execution_count": null,
   "metadata": {},
   "outputs": [],
   "source": [
    "mergecols = 'index det'.split()\n",
    "rdr2 = rdr1_merged.merge(tb_molten_c, left_on=mergecols,\n",
    "                                 right_on=mergecols)"
   ]
  },
  {
   "cell_type": "code",
   "execution_count": null,
   "metadata": {},
   "outputs": [],
   "source": [
    "rdr2.jdate.ptp()"
   ]
  },
  {
   "cell_type": "code",
   "execution_count": null,
   "metadata": {},
   "outputs": [],
   "source": [
    "prod.add_time_columns(rdr2)"
   ]
  },
  {
   "cell_type": "code",
   "execution_count": null,
   "metadata": {},
   "outputs": [],
   "source": [
    "rdr2.jdate.ptp()"
   ]
  },
  {
   "cell_type": "code",
   "execution_count": null,
   "metadata": {},
   "outputs": [],
   "source": [
    "rdr2.fillna(-9999, inplace=True)\n",
    "rdr2.det = rdr2.det.astype('int')\n",
    "rdr2.drop('index', inplace=True, axis=1)\n",
    "rdr2['c'] = channel.div"
   ]
  },
  {
   "cell_type": "code",
   "execution_count": null,
   "metadata": {},
   "outputs": [],
   "source": [
    "rdr2.jdate.ptp()"
   ]
  },
  {
   "cell_type": "code",
   "execution_count": null,
   "metadata": {},
   "outputs": [],
   "source": [
    "clon_cols = rdr2.filter(regex=\"^clon_\").columns\n",
    "if config.swap_clons:\n",
    "    for col in clon_cols:\n",
    "        rdr2[col] = rdr2[col].map(lambda x: -(360 - x)\n",
    "                                  if x > 180 else x)"
   ]
  },
  {
   "cell_type": "code",
   "execution_count": null,
   "metadata": {},
   "outputs": [],
   "source": [
    "rdr2.jdate.ptp()"
   ]
  },
  {
   "cell_type": "code",
   "execution_count": null,
   "metadata": {},
   "outputs": [],
   "source": [
    "cd ~"
   ]
  },
  {
   "cell_type": "code",
   "execution_count": null,
   "metadata": {},
   "outputs": [],
   "source": [
    "rdr2.to_csv('jdate_test_out.csv', index=False)\n",
    "csvtest = pd.read_csv('jdate_test_out.csv')\n",
    "print csvtest.jdate.ptp()\n",
    "rdr2.to_csv('jdate_test_out.csv', index=False, engine='fast')\n",
    "csvtest = pd.read_csv('jdate_test_out.csv')\n",
    "print csvtest.jdate.ptp()"
   ]
  },
  {
   "cell_type": "code",
   "execution_count": null,
   "metadata": {},
   "outputs": [],
   "source": []
  }
 ],
 "metadata": {
  "kernelspec": {
   "display_name": "Python 3",
   "language": "python",
   "name": "python3"
  },
  "language_info": {
   "codemirror_mode": {
    "name": "ipython",
    "version": 3
   },
   "file_extension": ".py",
   "mimetype": "text/x-python",
   "name": "python",
   "nbconvert_exporter": "python",
   "pygments_lexer": "ipython3",
   "version": "3.7.1"
  }
 },
 "nbformat": 4,
 "nbformat_minor": 2
}
