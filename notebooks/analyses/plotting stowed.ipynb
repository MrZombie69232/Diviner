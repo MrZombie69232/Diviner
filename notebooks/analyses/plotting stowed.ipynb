{
 "metadata": {
  "name": "",
  "signature": "sha256:7e639ec0ab9677d6ed7c9d3223c603c54c17018200373bd216122b1a5814b609"
 },
 "nbformat": 3,
 "nbformat_minor": 0,
 "worksheets": [
  {
   "cells": [
    {
     "cell_type": "code",
     "collapsed": false,
     "input": [
      "import pandas as pd\n",
      "pd.__version__"
     ],
     "language": "python",
     "metadata": {},
     "outputs": [
      {
       "metadata": {},
       "output_type": "pyout",
       "prompt_number": 1,
       "text": [
        "'0.12.0-1000-gea97682'"
       ]
      }
     ],
     "prompt_number": 1
    },
    {
     "cell_type": "code",
     "collapsed": false,
     "input": [
      "df = pd.read_hdf('/raid1/maye/rdr_out/metadata/stowed_search.h5','df')"
     ],
     "language": "python",
     "metadata": {},
     "outputs": [],
     "prompt_number": 2
    },
    {
     "cell_type": "code",
     "collapsed": false,
     "input": [
      "df.head(10)"
     ],
     "language": "python",
     "metadata": {},
     "outputs": [
      {
       "html": [
        "<div style=\"max-height:1000px;max-width:1500px;overflow:auto;\">\n",
        "<table border=\"1\" class=\"dataframe\">\n",
        "  <thead>\n",
        "    <tr style=\"text-align: right;\">\n",
        "      <th></th>\n",
        "      <th>duration</th>\n",
        "      <th>start</th>\n",
        "    </tr>\n",
        "    <tr>\n",
        "      <th>label</th>\n",
        "      <th></th>\n",
        "      <th></th>\n",
        "    </tr>\n",
        "  </thead>\n",
        "  <tbody>\n",
        "    <tr>\n",
        "      <th>1</th>\n",
        "      <td>00:02:25.152001</td>\n",
        "      <td>2009-07-05 16:53:44.914999</td>\n",
        "    </tr>\n",
        "    <tr>\n",
        "      <th>2</th>\n",
        "      <td>23:58:39.391999</td>\n",
        "      <td>2009-07-05 16:57:12.737000</td>\n",
        "    </tr>\n",
        "    <tr>\n",
        "      <th>3</th>\n",
        "      <td>10:15:28.150999</td>\n",
        "      <td>2009-07-11 15:03:20.155000</td>\n",
        "    </tr>\n",
        "    <tr>\n",
        "      <th>4</th>\n",
        "      <td>01:05:09.585000</td>\n",
        "      <td>2009-07-19 18:15:26.341000</td>\n",
        "    </tr>\n",
        "    <tr>\n",
        "      <th>5</th>\n",
        "      <td>01:48:38.787999</td>\n",
        "      <td>2009-07-23 13:28:25.132000</td>\n",
        "    </tr>\n",
        "    <tr>\n",
        "      <th>6</th>\n",
        "      <td>01:28:40.673999</td>\n",
        "      <td>2009-07-24 16:05:24.658000</td>\n",
        "    </tr>\n",
        "    <tr>\n",
        "      <th>7</th>\n",
        "      <td>01:14:38.934999</td>\n",
        "      <td>2009-07-27 11:45:26.378000</td>\n",
        "    </tr>\n",
        "    <tr>\n",
        "      <th>8</th>\n",
        "      <td>01:34:47.273000</td>\n",
        "      <td>2009-07-29 21:15:17.371999</td>\n",
        "    </tr>\n",
        "    <tr>\n",
        "      <th>1</th>\n",
        "      <td>01:11:48.945000</td>\n",
        "      <td>2009-08-09 13:35:16.806999</td>\n",
        "    </tr>\n",
        "    <tr>\n",
        "      <th>2</th>\n",
        "      <td>01:14:38.931000</td>\n",
        "      <td>2009-08-09 17:25:26.719000</td>\n",
        "    </tr>\n",
        "  </tbody>\n",
        "</table>\n",
        "</div>"
       ],
       "metadata": {},
       "output_type": "pyout",
       "prompt_number": 3,
       "text": [
        "             duration                      start\n",
        "label                                           \n",
        "1     00:02:25.152001 2009-07-05 16:53:44.914999\n",
        "2     23:58:39.391999 2009-07-05 16:57:12.737000\n",
        "3     10:15:28.150999 2009-07-11 15:03:20.155000\n",
        "4     01:05:09.585000 2009-07-19 18:15:26.341000\n",
        "5     01:48:38.787999 2009-07-23 13:28:25.132000\n",
        "6     01:28:40.673999 2009-07-24 16:05:24.658000\n",
        "7     01:14:38.934999 2009-07-27 11:45:26.378000\n",
        "8     01:34:47.273000 2009-07-29 21:15:17.371999\n",
        "1     01:11:48.945000 2009-08-09 13:35:16.806999\n",
        "2     01:14:38.931000 2009-08-09 17:25:26.719000"
       ]
      }
     ],
     "prompt_number": 3
    },
    {
     "cell_type": "code",
     "collapsed": false,
     "input": [
      "df.index = df.start"
     ],
     "language": "python",
     "metadata": {},
     "outputs": [],
     "prompt_number": 4
    },
    {
     "cell_type": "code",
     "collapsed": false,
     "input": [
      "df.head()"
     ],
     "language": "python",
     "metadata": {},
     "outputs": [
      {
       "html": [
        "<div style=\"max-height:1000px;max-width:1500px;overflow:auto;\">\n",
        "<table border=\"1\" class=\"dataframe\">\n",
        "  <thead>\n",
        "    <tr style=\"text-align: right;\">\n",
        "      <th></th>\n",
        "      <th>duration</th>\n",
        "      <th>start</th>\n",
        "    </tr>\n",
        "    <tr>\n",
        "      <th>start</th>\n",
        "      <th></th>\n",
        "      <th></th>\n",
        "    </tr>\n",
        "  </thead>\n",
        "  <tbody>\n",
        "    <tr>\n",
        "      <th>2009-07-05 16:53:44.914999</th>\n",
        "      <td>00:02:25.152001</td>\n",
        "      <td>2009-07-05 16:53:44.914999</td>\n",
        "    </tr>\n",
        "    <tr>\n",
        "      <th>2009-07-05 16:57:12.737000</th>\n",
        "      <td>23:58:39.391999</td>\n",
        "      <td>2009-07-05 16:57:12.737000</td>\n",
        "    </tr>\n",
        "    <tr>\n",
        "      <th>2009-07-11 15:03:20.155000</th>\n",
        "      <td>10:15:28.150999</td>\n",
        "      <td>2009-07-11 15:03:20.155000</td>\n",
        "    </tr>\n",
        "    <tr>\n",
        "      <th>2009-07-19 18:15:26.341000</th>\n",
        "      <td>01:05:09.585000</td>\n",
        "      <td>2009-07-19 18:15:26.341000</td>\n",
        "    </tr>\n",
        "    <tr>\n",
        "      <th>2009-07-23 13:28:25.132000</th>\n",
        "      <td>01:48:38.787999</td>\n",
        "      <td>2009-07-23 13:28:25.132000</td>\n",
        "    </tr>\n",
        "  </tbody>\n",
        "</table>\n",
        "</div>"
       ],
       "metadata": {},
       "output_type": "pyout",
       "prompt_number": 5,
       "text": [
        "                                  duration                      start\n",
        "start                                                                \n",
        "2009-07-05 16:53:44.914999 00:02:25.152001 2009-07-05 16:53:44.914999\n",
        "2009-07-05 16:57:12.737000 23:58:39.391999 2009-07-05 16:57:12.737000\n",
        "2009-07-11 15:03:20.155000 10:15:28.150999 2009-07-11 15:03:20.155000\n",
        "2009-07-19 18:15:26.341000 01:05:09.585000 2009-07-19 18:15:26.341000\n",
        "2009-07-23 13:28:25.132000 01:48:38.787999 2009-07-23 13:28:25.132000"
       ]
      }
     ],
     "prompt_number": 5
    },
    {
     "cell_type": "code",
     "collapsed": false,
     "input": [
      "df.info()"
     ],
     "language": "python",
     "metadata": {},
     "outputs": [
      {
       "output_type": "stream",
       "stream": "stdout",
       "text": [
        "<class 'pandas.core.frame.DataFrame'>\n",
        "DatetimeIndex: 796 entries, 2009-07-05 16:53:44.914999 to 2013-08-08 09:09:35.682000\n",
        "Data columns (total 2 columns):\n",
        "duration    796  non-null values\n",
        "start       796  non-null values\n",
        "dtypes: datetime64[ns](1), timedelta64[ns](1)"
       ]
      }
     ],
     "prompt_number": 6
    },
    {
     "cell_type": "code",
     "collapsed": false,
     "input": [
      "td = df.duration[0]"
     ],
     "language": "python",
     "metadata": {},
     "outputs": [],
     "prompt_number": 7
    },
    {
     "cell_type": "code",
     "collapsed": false,
     "input": [
      "(float(td)/1e9/60)"
     ],
     "language": "python",
     "metadata": {},
     "outputs": [
      {
       "metadata": {},
       "output_type": "pyout",
       "prompt_number": 8,
       "text": [
        "2.4192000166666667"
       ]
      }
     ],
     "prompt_number": 8
    },
    {
     "cell_type": "code",
     "collapsed": false,
     "input": [
      "df.duration.astype('int')/1e9/60"
     ],
     "language": "python",
     "metadata": {},
     "outputs": [
      {
       "metadata": {},
       "output_type": "pyout",
       "prompt_number": 9,
       "text": [
        "start\n",
        "2009-07-05 16:53:44.914999       2.419200\n",
        "2009-07-05 16:57:12.737000    1438.656533\n",
        "2009-07-11 15:03:20.155000     615.469183\n",
        "2009-07-19 18:15:26.341000      65.159750\n",
        "2009-07-23 13:28:25.132000     108.646467\n",
        "2009-07-24 16:05:24.658000      88.677900\n",
        "2009-07-27 11:45:26.378000      74.648917\n",
        "2009-07-29 21:15:17.371999      94.787883\n",
        "2009-08-09 13:35:16.806999      71.815750\n",
        "2009-08-09 17:25:26.719000      74.648850\n",
        "2009-08-09 21:30:27.524000      69.631133\n",
        "2009-08-14 12:00:25.574999      59.663900\n",
        "2009-08-15 18:30:26.888999      94.651383\n",
        "2009-08-15 22:30:26.635999      89.155850\n",
        "2009-08-16 12:05:25.539999      84.650083\n",
        "...\n",
        "2013-07-04 09:14:27.356999    23.823250\n",
        "2013-07-04 21:56:29.521999    30.069733\n",
        "2013-07-04 23:55:02.315999    30.445283\n",
        "2013-07-07 06:42:21.425999    23.959683\n",
        "2013-07-09 19:54:52.406999    24.198750\n",
        "2013-07-12 19:47:03.334999    38.261817\n",
        "2013-07-16 07:56:56.174999    54.031533\n",
        "2013-07-16 10:24:37.972999    55.670017\n",
        "2013-07-18 13:08:32.561999    95.572533\n",
        "2013-07-21 12:35:11.662000    51.744717\n",
        "2013-07-21 14:20:38.009999    54.304700\n",
        "2013-07-22 12:31:22.286999    52.802883\n",
        "2013-07-22 14:31:23.150999    52.802850\n",
        "2013-07-27 22:28:20.367999    25.154450\n",
        "2013-08-08 09:09:35.682000    21.604533\n",
        "Name: duration, Length: 796"
       ]
      }
     ],
     "prompt_number": 9
    },
    {
     "cell_type": "code",
     "collapsed": false,
     "input": [
      "df['duration_hours'] = df.duration.astype('int')/1e9/3600"
     ],
     "language": "python",
     "metadata": {},
     "outputs": [],
     "prompt_number": 10
    },
    {
     "cell_type": "code",
     "collapsed": false,
     "input": [
      "%pylab qt"
     ],
     "language": "python",
     "metadata": {},
     "outputs": [
      {
       "output_type": "stream",
       "stream": "stdout",
       "text": [
        "Populating the interactive namespace from numpy and matplotlib\n"
       ]
      }
     ],
     "prompt_number": 11
    },
    {
     "cell_type": "code",
     "collapsed": false,
     "input": [
      "df.duration_hours.plot(style='*')\n",
      "title('Diviner stowed times')\n",
      "xlabel('Stowed start time')\n",
      "ylabel('Duration of stowed in hours')"
     ],
     "language": "python",
     "metadata": {},
     "outputs": [
      {
       "metadata": {},
       "output_type": "pyout",
       "prompt_number": 12,
       "text": [
        "<matplotlib.text.Text at 0x529d250>"
       ]
      }
     ],
     "prompt_number": 12
    },
    {
     "cell_type": "code",
     "collapsed": false,
     "input": [
      "savefig('plots/stowed_plot.png',dpi=200)"
     ],
     "language": "python",
     "metadata": {},
     "outputs": [],
     "prompt_number": 30
    },
    {
     "cell_type": "code",
     "collapsed": false,
     "input": [
      "df = pd.read_hdf('/raid1/maye/rdr_out/metadata/earth_scans.h5','df')"
     ],
     "language": "python",
     "metadata": {},
     "outputs": [],
     "prompt_number": 3
    },
    {
     "cell_type": "code",
     "collapsed": false,
     "input": [
      "df.index = df.start"
     ],
     "language": "python",
     "metadata": {},
     "outputs": [],
     "prompt_number": 4
    },
    {
     "cell_type": "code",
     "collapsed": false,
     "input": [
      "df['duration_seconds'] = df.duration.astype('int')/1e9"
     ],
     "language": "python",
     "metadata": {},
     "outputs": [],
     "prompt_number": 5
    },
    {
     "cell_type": "code",
     "collapsed": false,
     "input": [
      "%pylab qt"
     ],
     "language": "python",
     "metadata": {},
     "outputs": [
      {
       "output_type": "stream",
       "stream": "stdout",
       "text": [
        "Populating the interactive namespace from numpy and matplotlib\n"
       ]
      }
     ],
     "prompt_number": 1
    },
    {
     "cell_type": "code",
     "collapsed": false,
     "input": [
      "df.duration_seconds.plot(style='*')\n",
      "title(\"Diviner Earth scans\")\n",
      "xlabel(\"Earth scan start time\")\n",
      "ylabel(\"Duration of scan in seconds\")"
     ],
     "language": "python",
     "metadata": {},
     "outputs": [
      {
       "metadata": {},
       "output_type": "pyout",
       "prompt_number": 6,
       "text": [
        "<matplotlib.text.Text at 0x53c1910>"
       ]
      }
     ],
     "prompt_number": 6
    },
    {
     "cell_type": "code",
     "collapsed": false,
     "input": [
      "savefig('plots/earth_scans.png',dpi=200)"
     ],
     "language": "python",
     "metadata": {},
     "outputs": [],
     "prompt_number": 40
    },
    {
     "cell_type": "code",
     "collapsed": false,
     "input": [
      "idx = df[df.duration_seconds > 400].index"
     ],
     "language": "python",
     "metadata": {},
     "outputs": [],
     "prompt_number": 8
    },
    {
     "cell_type": "code",
     "collapsed": false,
     "input": [
      "print np.unique(idx.date)"
     ],
     "language": "python",
     "metadata": {},
     "outputs": [
      {
       "output_type": "stream",
       "stream": "stdout",
       "text": [
        "[datetime.date(2011, 6, 25) datetime.date(2011, 6, 26)\n",
        " datetime.date(2011, 6, 27) datetime.date(2011, 6, 28)\n",
        " datetime.date(2011, 6, 29) datetime.date(2011, 6, 30)]\n"
       ]
      }
     ],
     "prompt_number": 14
    },
    {
     "cell_type": "code",
     "collapsed": false,
     "input": [],
     "language": "python",
     "metadata": {},
     "outputs": []
    }
   ],
   "metadata": {}
  }
 ]
}