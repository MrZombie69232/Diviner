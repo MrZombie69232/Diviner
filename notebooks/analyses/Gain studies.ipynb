{
 "metadata": {
  "name": "",
  "signature": "sha256:13dd3dfc5cb9a9b76182f8df3100c5b49cd340cebb5edcc86739752734e2bf4e"
 },
 "nbformat": 3,
 "nbformat_minor": 0,
 "worksheets": [
  {
   "cells": [
    {
     "cell_type": "code",
     "collapsed": false,
     "input": [
      "from diviner import calib\n",
      "from diviner import file_utils as fu\n",
      "from diviner import plot_utils as pu\n",
      "reload(fu)\n",
      "reload(calib)"
     ],
     "language": "python",
     "metadata": {},
     "outputs": [
      {
       "metadata": {},
       "output_type": "pyout",
       "prompt_number": 2,
       "text": [
        "<module 'diviner.calib' from '/u/paige/maye/src/diviner/calib.pyc'>"
       ]
      }
     ],
     "prompt_number": 2
    },
    {
     "cell_type": "code",
     "collapsed": false,
     "input": [
      "pump = fu.L1ADataPump('201302')\n",
      "# show found file names\n",
      "pump.fnames"
     ],
     "language": "python",
     "metadata": {},
     "outputs": [
      {
       "metadata": {},
       "output_type": "pyout",
       "prompt_number": 11,
       "text": [
        "['/luna4/u/marks/feidata/DIV:opsL1A/data/2013020100_L1A.TAB',\n",
        " '/luna4/u/marks/feidata/DIV:opsL1A/data/2013020101_L1A.TAB',\n",
        " '/luna4/u/marks/feidata/DIV:opsL1A/data/2013020102_L1A.TAB',\n",
        " '/luna4/u/marks/feidata/DIV:opsL1A/data/2013020103_L1A.TAB',\n",
        " '/luna4/u/marks/feidata/DIV:opsL1A/data/2013020104_L1A.TAB',\n",
        " '/luna4/u/marks/feidata/DIV:opsL1A/data/2013020105_L1A.TAB',\n",
        " '/luna4/u/marks/feidata/DIV:opsL1A/data/2013020106_L1A.TAB',\n",
        " '/luna4/u/marks/feidata/DIV:opsL1A/data/2013020107_L1A.TAB',\n",
        " '/luna4/u/marks/feidata/DIV:opsL1A/data/2013020108_L1A.TAB',\n",
        " '/luna4/u/marks/feidata/DIV:opsL1A/data/2013020109_L1A.TAB',\n",
        " '/luna4/u/marks/feidata/DIV:opsL1A/data/2013020110_L1A.TAB',\n",
        " '/luna4/u/marks/feidata/DIV:opsL1A/data/2013020111_L1A.TAB',\n",
        " '/luna4/u/marks/feidata/DIV:opsL1A/data/2013020112_L1A.TAB',\n",
        " '/luna4/u/marks/feidata/DIV:opsL1A/data/2013020113_L1A.TAB',\n",
        " '/luna4/u/marks/feidata/DIV:opsL1A/data/2013020114_L1A.TAB',\n",
        " '/luna4/u/marks/feidata/DIV:opsL1A/data/2013020115_L1A.TAB',\n",
        " '/luna4/u/marks/feidata/DIV:opsL1A/data/2013020116_L1A.TAB',\n",
        " '/luna4/u/marks/feidata/DIV:opsL1A/data/2013020117_L1A.TAB',\n",
        " '/luna4/u/marks/feidata/DIV:opsL1A/data/2013020118_L1A.TAB',\n",
        " '/luna4/u/marks/feidata/DIV:opsL1A/data/2013020119_L1A.TAB',\n",
        " '/luna4/u/marks/feidata/DIV:opsL1A/data/2013020120_L1A.TAB',\n",
        " '/luna4/u/marks/feidata/DIV:opsL1A/data/2013020121_L1A.TAB',\n",
        " '/luna4/u/marks/feidata/DIV:opsL1A/data/2013020122_L1A.TAB',\n",
        " '/luna4/u/marks/feidata/DIV:opsL1A/data/2013020123_L1A.TAB',\n",
        " '/luna4/u/marks/feidata/DIV:opsL1A/data/2013020200_L1A.TAB',\n",
        " '/luna4/u/marks/feidata/DIV:opsL1A/data/2013020201_L1A.TAB',\n",
        " '/luna4/u/marks/feidata/DIV:opsL1A/data/2013020202_L1A.TAB',\n",
        " '/luna4/u/marks/feidata/DIV:opsL1A/data/2013020203_L1A.TAB',\n",
        " '/luna4/u/marks/feidata/DIV:opsL1A/data/2013020204_L1A.TAB',\n",
        " '/luna4/u/marks/feidata/DIV:opsL1A/data/2013020205_L1A.TAB',\n",
        " '/luna4/u/marks/feidata/DIV:opsL1A/data/2013020206_L1A.TAB',\n",
        " '/luna4/u/marks/feidata/DIV:opsL1A/data/2013020207_L1A.TAB',\n",
        " '/luna4/u/marks/feidata/DIV:opsL1A/data/2013020208_L1A.TAB',\n",
        " '/luna4/u/marks/feidata/DIV:opsL1A/data/2013020209_L1A.TAB',\n",
        " '/luna4/u/marks/feidata/DIV:opsL1A/data/2013020210_L1A.TAB',\n",
        " '/luna4/u/marks/feidata/DIV:opsL1A/data/2013020211_L1A.TAB',\n",
        " '/luna4/u/marks/feidata/DIV:opsL1A/data/2013020212_L1A.TAB',\n",
        " '/luna4/u/marks/feidata/DIV:opsL1A/data/2013020213_L1A.TAB',\n",
        " '/luna4/u/marks/feidata/DIV:opsL1A/data/2013020214_L1A.TAB',\n",
        " '/luna4/u/marks/feidata/DIV:opsL1A/data/2013020215_L1A.TAB',\n",
        " '/luna4/u/marks/feidata/DIV:opsL1A/data/2013020216_L1A.TAB',\n",
        " '/luna4/u/marks/feidata/DIV:opsL1A/data/2013020217_L1A.TAB',\n",
        " '/luna4/u/marks/feidata/DIV:opsL1A/data/2013020218_L1A.TAB',\n",
        " '/luna4/u/marks/feidata/DIV:opsL1A/data/2013020219_L1A.TAB',\n",
        " '/luna4/u/marks/feidata/DIV:opsL1A/data/2013020220_L1A.TAB',\n",
        " '/luna4/u/marks/feidata/DIV:opsL1A/data/2013020221_L1A.TAB',\n",
        " '/luna4/u/marks/feidata/DIV:opsL1A/data/2013020222_L1A.TAB',\n",
        " '/luna4/u/marks/feidata/DIV:opsL1A/data/2013020223_L1A.TAB',\n",
        " '/luna4/u/marks/feidata/DIV:opsL1A/data/2013020300_L1A.TAB',\n",
        " '/luna4/u/marks/feidata/DIV:opsL1A/data/2013020301_L1A.TAB',\n",
        " '/luna4/u/marks/feidata/DIV:opsL1A/data/2013020302_L1A.TAB',\n",
        " '/luna4/u/marks/feidata/DIV:opsL1A/data/2013020303_L1A.TAB',\n",
        " '/luna4/u/marks/feidata/DIV:opsL1A/data/2013020304_L1A.TAB',\n",
        " '/luna4/u/marks/feidata/DIV:opsL1A/data/2013020305_L1A.TAB',\n",
        " '/luna4/u/marks/feidata/DIV:opsL1A/data/2013020306_L1A.TAB',\n",
        " '/luna4/u/marks/feidata/DIV:opsL1A/data/2013020307_L1A.TAB',\n",
        " '/luna4/u/marks/feidata/DIV:opsL1A/data/2013020308_L1A.TAB',\n",
        " '/luna4/u/marks/feidata/DIV:opsL1A/data/2013020309_L1A.TAB',\n",
        " '/luna4/u/marks/feidata/DIV:opsL1A/data/2013020310_L1A.TAB',\n",
        " '/luna4/u/marks/feidata/DIV:opsL1A/data/2013020311_L1A.TAB',\n",
        " '/luna4/u/marks/feidata/DIV:opsL1A/data/2013020312_L1A.TAB',\n",
        " '/luna4/u/marks/feidata/DIV:opsL1A/data/2013020313_L1A.TAB',\n",
        " '/luna4/u/marks/feidata/DIV:opsL1A/data/2013020314_L1A.TAB',\n",
        " '/luna4/u/marks/feidata/DIV:opsL1A/data/2013020315_L1A.TAB',\n",
        " '/luna4/u/marks/feidata/DIV:opsL1A/data/2013020316_L1A.TAB',\n",
        " '/luna4/u/marks/feidata/DIV:opsL1A/data/2013020317_L1A.TAB',\n",
        " '/luna4/u/marks/feidata/DIV:opsL1A/data/2013020318_L1A.TAB',\n",
        " '/luna4/u/marks/feidata/DIV:opsL1A/data/2013020319_L1A.TAB',\n",
        " '/luna4/u/marks/feidata/DIV:opsL1A/data/2013020320_L1A.TAB',\n",
        " '/luna4/u/marks/feidata/DIV:opsL1A/data/2013020321_L1A.TAB',\n",
        " '/luna4/u/marks/feidata/DIV:opsL1A/data/2013020322_L1A.TAB',\n",
        " '/luna4/u/marks/feidata/DIV:opsL1A/data/2013020323_L1A.TAB',\n",
        " '/luna4/u/marks/feidata/DIV:opsL1A/data/2013020400_L1A.TAB',\n",
        " '/luna4/u/marks/feidata/DIV:opsL1A/data/2013020401_L1A.TAB',\n",
        " '/luna4/u/marks/feidata/DIV:opsL1A/data/2013020402_L1A.TAB',\n",
        " '/luna4/u/marks/feidata/DIV:opsL1A/data/2013020403_L1A.TAB',\n",
        " '/luna4/u/marks/feidata/DIV:opsL1A/data/2013020404_L1A.TAB',\n",
        " '/luna4/u/marks/feidata/DIV:opsL1A/data/2013020405_L1A.TAB',\n",
        " '/luna4/u/marks/feidata/DIV:opsL1A/data/2013020406_L1A.TAB',\n",
        " '/luna4/u/marks/feidata/DIV:opsL1A/data/2013020407_L1A.TAB',\n",
        " '/luna4/u/marks/feidata/DIV:opsL1A/data/2013020408_L1A.TAB',\n",
        " '/luna4/u/marks/feidata/DIV:opsL1A/data/2013020409_L1A.TAB',\n",
        " '/luna4/u/marks/feidata/DIV:opsL1A/data/2013020410_L1A.TAB',\n",
        " '/luna4/u/marks/feidata/DIV:opsL1A/data/2013020411_L1A.TAB',\n",
        " '/luna4/u/marks/feidata/DIV:opsL1A/data/2013020412_L1A.TAB',\n",
        " '/luna4/u/marks/feidata/DIV:opsL1A/data/2013020413_L1A.TAB',\n",
        " '/luna4/u/marks/feidata/DIV:opsL1A/data/2013020414_L1A.TAB',\n",
        " '/luna4/u/marks/feidata/DIV:opsL1A/data/2013020415_L1A.TAB',\n",
        " '/luna4/u/marks/feidata/DIV:opsL1A/data/2013020416_L1A.TAB',\n",
        " '/luna4/u/marks/feidata/DIV:opsL1A/data/2013020417_L1A.TAB',\n",
        " '/luna4/u/marks/feidata/DIV:opsL1A/data/2013020418_L1A.TAB',\n",
        " '/luna4/u/marks/feidata/DIV:opsL1A/data/2013020419_L1A.TAB',\n",
        " '/luna4/u/marks/feidata/DIV:opsL1A/data/2013020420_L1A.TAB',\n",
        " '/luna4/u/marks/feidata/DIV:opsL1A/data/2013020421_L1A.TAB',\n",
        " '/luna4/u/marks/feidata/DIV:opsL1A/data/2013020422_L1A.TAB',\n",
        " '/luna4/u/marks/feidata/DIV:opsL1A/data/2013020423_L1A.TAB',\n",
        " '/luna4/u/marks/feidata/DIV:opsL1A/data/2013020500_L1A.TAB',\n",
        " '/luna4/u/marks/feidata/DIV:opsL1A/data/2013020501_L1A.TAB',\n",
        " '/luna4/u/marks/feidata/DIV:opsL1A/data/2013020502_L1A.TAB',\n",
        " '/luna4/u/marks/feidata/DIV:opsL1A/data/2013020503_L1A.TAB',\n",
        " '/luna4/u/marks/feidata/DIV:opsL1A/data/2013020504_L1A.TAB',\n",
        " '/luna4/u/marks/feidata/DIV:opsL1A/data/2013020505_L1A.TAB',\n",
        " '/luna4/u/marks/feidata/DIV:opsL1A/data/2013020506_L1A.TAB',\n",
        " '/luna4/u/marks/feidata/DIV:opsL1A/data/2013020507_L1A.TAB',\n",
        " '/luna4/u/marks/feidata/DIV:opsL1A/data/2013020508_L1A.TAB',\n",
        " '/luna4/u/marks/feidata/DIV:opsL1A/data/2013020509_L1A.TAB',\n",
        " '/luna4/u/marks/feidata/DIV:opsL1A/data/2013020510_L1A.TAB',\n",
        " '/luna4/u/marks/feidata/DIV:opsL1A/data/2013020511_L1A.TAB',\n",
        " '/luna4/u/marks/feidata/DIV:opsL1A/data/2013020512_L1A.TAB',\n",
        " '/luna4/u/marks/feidata/DIV:opsL1A/data/2013020513_L1A.TAB',\n",
        " '/luna4/u/marks/feidata/DIV:opsL1A/data/2013020514_L1A.TAB',\n",
        " '/luna4/u/marks/feidata/DIV:opsL1A/data/2013020515_L1A.TAB',\n",
        " '/luna4/u/marks/feidata/DIV:opsL1A/data/2013020516_L1A.TAB',\n",
        " '/luna4/u/marks/feidata/DIV:opsL1A/data/2013020517_L1A.TAB',\n",
        " '/luna4/u/marks/feidata/DIV:opsL1A/data/2013020518_L1A.TAB',\n",
        " '/luna4/u/marks/feidata/DIV:opsL1A/data/2013020519_L1A.TAB',\n",
        " '/luna4/u/marks/feidata/DIV:opsL1A/data/2013020520_L1A.TAB',\n",
        " '/luna4/u/marks/feidata/DIV:opsL1A/data/2013020521_L1A.TAB',\n",
        " '/luna4/u/marks/feidata/DIV:opsL1A/data/2013020522_L1A.TAB',\n",
        " '/luna4/u/marks/feidata/DIV:opsL1A/data/2013020523_L1A.TAB',\n",
        " '/luna4/u/marks/feidata/DIV:opsL1A/data/2013020600_L1A.TAB',\n",
        " '/luna4/u/marks/feidata/DIV:opsL1A/data/2013020601_L1A.TAB',\n",
        " '/luna4/u/marks/feidata/DIV:opsL1A/data/2013020602_L1A.TAB',\n",
        " '/luna4/u/marks/feidata/DIV:opsL1A/data/2013020603_L1A.TAB',\n",
        " '/luna4/u/marks/feidata/DIV:opsL1A/data/2013020604_L1A.TAB',\n",
        " '/luna4/u/marks/feidata/DIV:opsL1A/data/2013020605_L1A.TAB',\n",
        " '/luna4/u/marks/feidata/DIV:opsL1A/data/2013020606_L1A.TAB',\n",
        " '/luna4/u/marks/feidata/DIV:opsL1A/data/2013020607_L1A.TAB',\n",
        " '/luna4/u/marks/feidata/DIV:opsL1A/data/2013020608_L1A.TAB',\n",
        " '/luna4/u/marks/feidata/DIV:opsL1A/data/2013020609_L1A.TAB',\n",
        " '/luna4/u/marks/feidata/DIV:opsL1A/data/2013020610_L1A.TAB',\n",
        " '/luna4/u/marks/feidata/DIV:opsL1A/data/2013020611_L1A.TAB',\n",
        " '/luna4/u/marks/feidata/DIV:opsL1A/data/2013020612_L1A.TAB',\n",
        " '/luna4/u/marks/feidata/DIV:opsL1A/data/2013020613_L1A.TAB',\n",
        " '/luna4/u/marks/feidata/DIV:opsL1A/data/2013020614_L1A.TAB',\n",
        " '/luna4/u/marks/feidata/DIV:opsL1A/data/2013020615_L1A.TAB',\n",
        " '/luna4/u/marks/feidata/DIV:opsL1A/data/2013020616_L1A.TAB',\n",
        " '/luna4/u/marks/feidata/DIV:opsL1A/data/2013020617_L1A.TAB',\n",
        " '/luna4/u/marks/feidata/DIV:opsL1A/data/2013020618_L1A.TAB',\n",
        " '/luna4/u/marks/feidata/DIV:opsL1A/data/2013020619_L1A.TAB',\n",
        " '/luna4/u/marks/feidata/DIV:opsL1A/data/2013020620_L1A.TAB',\n",
        " '/luna4/u/marks/feidata/DIV:opsL1A/data/2013020621_L1A.TAB',\n",
        " '/luna4/u/marks/feidata/DIV:opsL1A/data/2013020622_L1A.TAB',\n",
        " '/luna4/u/marks/feidata/DIV:opsL1A/data/2013020623_L1A.TAB',\n",
        " '/luna4/u/marks/feidata/DIV:opsL1A/data/2013020700_L1A.TAB',\n",
        " '/luna4/u/marks/feidata/DIV:opsL1A/data/2013020701_L1A.TAB',\n",
        " '/luna4/u/marks/feidata/DIV:opsL1A/data/2013020702_L1A.TAB',\n",
        " '/luna4/u/marks/feidata/DIV:opsL1A/data/2013020703_L1A.TAB',\n",
        " '/luna4/u/marks/feidata/DIV:opsL1A/data/2013020704_L1A.TAB',\n",
        " '/luna4/u/marks/feidata/DIV:opsL1A/data/2013020705_L1A.TAB',\n",
        " '/luna4/u/marks/feidata/DIV:opsL1A/data/2013020706_L1A.TAB',\n",
        " '/luna4/u/marks/feidata/DIV:opsL1A/data/2013020707_L1A.TAB',\n",
        " '/luna4/u/marks/feidata/DIV:opsL1A/data/2013020708_L1A.TAB',\n",
        " '/luna4/u/marks/feidata/DIV:opsL1A/data/2013020709_L1A.TAB',\n",
        " '/luna4/u/marks/feidata/DIV:opsL1A/data/2013020710_L1A.TAB',\n",
        " '/luna4/u/marks/feidata/DIV:opsL1A/data/2013020711_L1A.TAB',\n",
        " '/luna4/u/marks/feidata/DIV:opsL1A/data/2013020712_L1A.TAB',\n",
        " '/luna4/u/marks/feidata/DIV:opsL1A/data/2013020713_L1A.TAB',\n",
        " '/luna4/u/marks/feidata/DIV:opsL1A/data/2013020714_L1A.TAB',\n",
        " '/luna4/u/marks/feidata/DIV:opsL1A/data/2013020715_L1A.TAB',\n",
        " '/luna4/u/marks/feidata/DIV:opsL1A/data/2013020716_L1A.TAB',\n",
        " '/luna4/u/marks/feidata/DIV:opsL1A/data/2013020717_L1A.TAB',\n",
        " '/luna4/u/marks/feidata/DIV:opsL1A/data/2013020718_L1A.TAB',\n",
        " '/luna4/u/marks/feidata/DIV:opsL1A/data/2013020719_L1A.TAB',\n",
        " '/luna4/u/marks/feidata/DIV:opsL1A/data/2013020720_L1A.TAB',\n",
        " '/luna4/u/marks/feidata/DIV:opsL1A/data/2013020721_L1A.TAB',\n",
        " '/luna4/u/marks/feidata/DIV:opsL1A/data/2013020722_L1A.TAB',\n",
        " '/luna4/u/marks/feidata/DIV:opsL1A/data/2013020723_L1A.TAB',\n",
        " '/luna4/u/marks/feidata/DIV:opsL1A/data/2013020800_L1A.TAB',\n",
        " '/luna4/u/marks/feidata/DIV:opsL1A/data/2013020801_L1A.TAB',\n",
        " '/luna4/u/marks/feidata/DIV:opsL1A/data/2013020802_L1A.TAB',\n",
        " '/luna4/u/marks/feidata/DIV:opsL1A/data/2013020803_L1A.TAB',\n",
        " '/luna4/u/marks/feidata/DIV:opsL1A/data/2013020804_L1A.TAB',\n",
        " '/luna4/u/marks/feidata/DIV:opsL1A/data/2013020805_L1A.TAB',\n",
        " '/luna4/u/marks/feidata/DIV:opsL1A/data/2013020806_L1A.TAB',\n",
        " '/luna4/u/marks/feidata/DIV:opsL1A/data/2013020807_L1A.TAB',\n",
        " '/luna4/u/marks/feidata/DIV:opsL1A/data/2013020808_L1A.TAB',\n",
        " '/luna4/u/marks/feidata/DIV:opsL1A/data/2013020809_L1A.TAB',\n",
        " '/luna4/u/marks/feidata/DIV:opsL1A/data/2013020810_L1A.TAB',\n",
        " '/luna4/u/marks/feidata/DIV:opsL1A/data/2013020811_L1A.TAB',\n",
        " '/luna4/u/marks/feidata/DIV:opsL1A/data/2013020812_L1A.TAB',\n",
        " '/luna4/u/marks/feidata/DIV:opsL1A/data/2013020813_L1A.TAB',\n",
        " '/luna4/u/marks/feidata/DIV:opsL1A/data/2013020814_L1A.TAB',\n",
        " '/luna4/u/marks/feidata/DIV:opsL1A/data/2013020815_L1A.TAB',\n",
        " '/luna4/u/marks/feidata/DIV:opsL1A/data/2013020816_L1A.TAB',\n",
        " '/luna4/u/marks/feidata/DIV:opsL1A/data/2013020817_L1A.TAB',\n",
        " '/luna4/u/marks/feidata/DIV:opsL1A/data/2013020818_L1A.TAB',\n",
        " '/luna4/u/marks/feidata/DIV:opsL1A/data/2013020819_L1A.TAB',\n",
        " '/luna4/u/marks/feidata/DIV:opsL1A/data/2013020820_L1A.TAB',\n",
        " '/luna4/u/marks/feidata/DIV:opsL1A/data/2013020821_L1A.TAB',\n",
        " '/luna4/u/marks/feidata/DIV:opsL1A/data/2013020822_L1A.TAB',\n",
        " '/luna4/u/marks/feidata/DIV:opsL1A/data/2013020823_L1A.TAB',\n",
        " '/luna4/u/marks/feidata/DIV:opsL1A/data/2013020900_L1A.TAB',\n",
        " '/luna4/u/marks/feidata/DIV:opsL1A/data/2013020901_L1A.TAB',\n",
        " '/luna4/u/marks/feidata/DIV:opsL1A/data/2013020902_L1A.TAB',\n",
        " '/luna4/u/marks/feidata/DIV:opsL1A/data/2013020903_L1A.TAB',\n",
        " '/luna4/u/marks/feidata/DIV:opsL1A/data/2013020904_L1A.TAB',\n",
        " '/luna4/u/marks/feidata/DIV:opsL1A/data/2013020905_L1A.TAB',\n",
        " '/luna4/u/marks/feidata/DIV:opsL1A/data/2013020906_L1A.TAB',\n",
        " '/luna4/u/marks/feidata/DIV:opsL1A/data/2013020907_L1A.TAB',\n",
        " '/luna4/u/marks/feidata/DIV:opsL1A/data/2013020908_L1A.TAB',\n",
        " '/luna4/u/marks/feidata/DIV:opsL1A/data/2013020909_L1A.TAB',\n",
        " '/luna4/u/marks/feidata/DIV:opsL1A/data/2013020910_L1A.TAB',\n",
        " '/luna4/u/marks/feidata/DIV:opsL1A/data/2013020911_L1A.TAB',\n",
        " '/luna4/u/marks/feidata/DIV:opsL1A/data/2013020912_L1A.TAB',\n",
        " '/luna4/u/marks/feidata/DIV:opsL1A/data/2013020913_L1A.TAB',\n",
        " '/luna4/u/marks/feidata/DIV:opsL1A/data/2013020914_L1A.TAB',\n",
        " '/luna4/u/marks/feidata/DIV:opsL1A/data/2013020915_L1A.TAB',\n",
        " '/luna4/u/marks/feidata/DIV:opsL1A/data/2013020916_L1A.TAB',\n",
        " '/luna4/u/marks/feidata/DIV:opsL1A/data/2013020917_L1A.TAB',\n",
        " '/luna4/u/marks/feidata/DIV:opsL1A/data/2013020918_L1A.TAB',\n",
        " '/luna4/u/marks/feidata/DIV:opsL1A/data/2013020919_L1A.TAB',\n",
        " '/luna4/u/marks/feidata/DIV:opsL1A/data/2013020920_L1A.TAB',\n",
        " '/luna4/u/marks/feidata/DIV:opsL1A/data/2013020921_L1A.TAB',\n",
        " '/luna4/u/marks/feidata/DIV:opsL1A/data/2013020922_L1A.TAB',\n",
        " '/luna4/u/marks/feidata/DIV:opsL1A/data/2013020923_L1A.TAB',\n",
        " '/luna4/u/marks/feidata/DIV:opsL1A/data/2013021000_L1A.TAB',\n",
        " '/luna4/u/marks/feidata/DIV:opsL1A/data/2013021001_L1A.TAB',\n",
        " '/luna4/u/marks/feidata/DIV:opsL1A/data/2013021002_L1A.TAB',\n",
        " '/luna4/u/marks/feidata/DIV:opsL1A/data/2013021003_L1A.TAB',\n",
        " '/luna4/u/marks/feidata/DIV:opsL1A/data/2013021004_L1A.TAB',\n",
        " '/luna4/u/marks/feidata/DIV:opsL1A/data/2013021005_L1A.TAB',\n",
        " '/luna4/u/marks/feidata/DIV:opsL1A/data/2013021006_L1A.TAB',\n",
        " '/luna4/u/marks/feidata/DIV:opsL1A/data/2013021007_L1A.TAB',\n",
        " '/luna4/u/marks/feidata/DIV:opsL1A/data/2013021008_L1A.TAB',\n",
        " '/luna4/u/marks/feidata/DIV:opsL1A/data/2013021009_L1A.TAB',\n",
        " '/luna4/u/marks/feidata/DIV:opsL1A/data/2013021010_L1A.TAB',\n",
        " '/luna4/u/marks/feidata/DIV:opsL1A/data/2013021011_L1A.TAB',\n",
        " '/luna4/u/marks/feidata/DIV:opsL1A/data/2013021012_L1A.TAB',\n",
        " '/luna4/u/marks/feidata/DIV:opsL1A/data/2013021013_L1A.TAB',\n",
        " '/luna4/u/marks/feidata/DIV:opsL1A/data/2013021014_L1A.TAB',\n",
        " '/luna4/u/marks/feidata/DIV:opsL1A/data/2013021015_L1A.TAB',\n",
        " '/luna4/u/marks/feidata/DIV:opsL1A/data/2013021016_L1A.TAB',\n",
        " '/luna4/u/marks/feidata/DIV:opsL1A/data/2013021017_L1A.TAB',\n",
        " '/luna4/u/marks/feidata/DIV:opsL1A/data/2013021018_L1A.TAB',\n",
        " '/luna4/u/marks/feidata/DIV:opsL1A/data/2013021019_L1A.TAB',\n",
        " '/luna4/u/marks/feidata/DIV:opsL1A/data/2013021020_L1A.TAB',\n",
        " '/luna4/u/marks/feidata/DIV:opsL1A/data/2013021021_L1A.TAB',\n",
        " '/luna4/u/marks/feidata/DIV:opsL1A/data/2013021022_L1A.TAB',\n",
        " '/luna4/u/marks/feidata/DIV:opsL1A/data/2013021023_L1A.TAB',\n",
        " '/luna4/u/marks/feidata/DIV:opsL1A/data/2013021100_L1A.TAB',\n",
        " '/luna4/u/marks/feidata/DIV:opsL1A/data/2013021101_L1A.TAB',\n",
        " '/luna4/u/marks/feidata/DIV:opsL1A/data/2013021102_L1A.TAB',\n",
        " '/luna4/u/marks/feidata/DIV:opsL1A/data/2013021103_L1A.TAB',\n",
        " '/luna4/u/marks/feidata/DIV:opsL1A/data/2013021104_L1A.TAB',\n",
        " '/luna4/u/marks/feidata/DIV:opsL1A/data/2013021105_L1A.TAB',\n",
        " '/luna4/u/marks/feidata/DIV:opsL1A/data/2013021106_L1A.TAB',\n",
        " '/luna4/u/marks/feidata/DIV:opsL1A/data/2013021107_L1A.TAB',\n",
        " '/luna4/u/marks/feidata/DIV:opsL1A/data/2013021108_L1A.TAB',\n",
        " '/luna4/u/marks/feidata/DIV:opsL1A/data/2013021109_L1A.TAB',\n",
        " '/luna4/u/marks/feidata/DIV:opsL1A/data/2013021110_L1A.TAB',\n",
        " '/luna4/u/marks/feidata/DIV:opsL1A/data/2013021111_L1A.TAB',\n",
        " '/luna4/u/marks/feidata/DIV:opsL1A/data/2013021112_L1A.TAB',\n",
        " '/luna4/u/marks/feidata/DIV:opsL1A/data/2013021113_L1A.TAB',\n",
        " '/luna4/u/marks/feidata/DIV:opsL1A/data/2013021114_L1A.TAB',\n",
        " '/luna4/u/marks/feidata/DIV:opsL1A/data/2013021115_L1A.TAB',\n",
        " '/luna4/u/marks/feidata/DIV:opsL1A/data/2013021116_L1A.TAB',\n",
        " '/luna4/u/marks/feidata/DIV:opsL1A/data/2013021117_L1A.TAB',\n",
        " '/luna4/u/marks/feidata/DIV:opsL1A/data/2013021118_L1A.TAB',\n",
        " '/luna4/u/marks/feidata/DIV:opsL1A/data/2013021119_L1A.TAB',\n",
        " '/luna4/u/marks/feidata/DIV:opsL1A/data/2013021120_L1A.TAB',\n",
        " '/luna4/u/marks/feidata/DIV:opsL1A/data/2013021121_L1A.TAB',\n",
        " '/luna4/u/marks/feidata/DIV:opsL1A/data/2013021122_L1A.TAB',\n",
        " '/luna4/u/marks/feidata/DIV:opsL1A/data/2013021123_L1A.TAB',\n",
        " '/luna4/u/marks/feidata/DIV:opsL1A/data/2013021200_L1A.TAB',\n",
        " '/luna4/u/marks/feidata/DIV:opsL1A/data/2013021201_L1A.TAB',\n",
        " '/luna4/u/marks/feidata/DIV:opsL1A/data/2013021202_L1A.TAB',\n",
        " '/luna4/u/marks/feidata/DIV:opsL1A/data/2013021203_L1A.TAB',\n",
        " '/luna4/u/marks/feidata/DIV:opsL1A/data/2013021204_L1A.TAB',\n",
        " '/luna4/u/marks/feidata/DIV:opsL1A/data/2013021205_L1A.TAB',\n",
        " '/luna4/u/marks/feidata/DIV:opsL1A/data/2013021206_L1A.TAB',\n",
        " '/luna4/u/marks/feidata/DIV:opsL1A/data/2013021207_L1A.TAB',\n",
        " '/luna4/u/marks/feidata/DIV:opsL1A/data/2013021208_L1A.TAB',\n",
        " '/luna4/u/marks/feidata/DIV:opsL1A/data/2013021209_L1A.TAB',\n",
        " '/luna4/u/marks/feidata/DIV:opsL1A/data/2013021210_L1A.TAB',\n",
        " '/luna4/u/marks/feidata/DIV:opsL1A/data/2013021211_L1A.TAB',\n",
        " '/luna4/u/marks/feidata/DIV:opsL1A/data/2013021212_L1A.TAB',\n",
        " '/luna4/u/marks/feidata/DIV:opsL1A/data/2013021213_L1A.TAB',\n",
        " '/luna4/u/marks/feidata/DIV:opsL1A/data/2013021214_L1A.TAB',\n",
        " '/luna4/u/marks/feidata/DIV:opsL1A/data/2013021215_L1A.TAB',\n",
        " '/luna4/u/marks/feidata/DIV:opsL1A/data/2013021216_L1A.TAB',\n",
        " '/luna4/u/marks/feidata/DIV:opsL1A/data/2013021217_L1A.TAB',\n",
        " '/luna4/u/marks/feidata/DIV:opsL1A/data/2013021218_L1A.TAB',\n",
        " '/luna4/u/marks/feidata/DIV:opsL1A/data/2013021219_L1A.TAB',\n",
        " '/luna4/u/marks/feidata/DIV:opsL1A/data/2013021220_L1A.TAB',\n",
        " '/luna4/u/marks/feidata/DIV:opsL1A/data/2013021221_L1A.TAB',\n",
        " '/luna4/u/marks/feidata/DIV:opsL1A/data/2013021222_L1A.TAB',\n",
        " '/luna4/u/marks/feidata/DIV:opsL1A/data/2013021223_L1A.TAB',\n",
        " '/luna4/u/marks/feidata/DIV:opsL1A/data/2013021300_L1A.TAB',\n",
        " '/luna4/u/marks/feidata/DIV:opsL1A/data/2013021301_L1A.TAB',\n",
        " '/luna4/u/marks/feidata/DIV:opsL1A/data/2013021302_L1A.TAB',\n",
        " '/luna4/u/marks/feidata/DIV:opsL1A/data/2013021303_L1A.TAB',\n",
        " '/luna4/u/marks/feidata/DIV:opsL1A/data/2013021304_L1A.TAB',\n",
        " '/luna4/u/marks/feidata/DIV:opsL1A/data/2013021305_L1A.TAB',\n",
        " '/luna4/u/marks/feidata/DIV:opsL1A/data/2013021306_L1A.TAB',\n",
        " '/luna4/u/marks/feidata/DIV:opsL1A/data/2013021307_L1A.TAB',\n",
        " '/luna4/u/marks/feidata/DIV:opsL1A/data/2013021308_L1A.TAB',\n",
        " '/luna4/u/marks/feidata/DIV:opsL1A/data/2013021309_L1A.TAB',\n",
        " '/luna4/u/marks/feidata/DIV:opsL1A/data/2013021310_L1A.TAB',\n",
        " '/luna4/u/marks/feidata/DIV:opsL1A/data/2013021311_L1A.TAB',\n",
        " '/luna4/u/marks/feidata/DIV:opsL1A/data/2013021312_L1A.TAB',\n",
        " '/luna4/u/marks/feidata/DIV:opsL1A/data/2013021313_L1A.TAB',\n",
        " '/luna4/u/marks/feidata/DIV:opsL1A/data/2013021314_L1A.TAB',\n",
        " '/luna4/u/marks/feidata/DIV:opsL1A/data/2013021315_L1A.TAB',\n",
        " '/luna4/u/marks/feidata/DIV:opsL1A/data/2013021316_L1A.TAB',\n",
        " '/luna4/u/marks/feidata/DIV:opsL1A/data/2013021317_L1A.TAB',\n",
        " '/luna4/u/marks/feidata/DIV:opsL1A/data/2013021318_L1A.TAB',\n",
        " '/luna4/u/marks/feidata/DIV:opsL1A/data/2013021319_L1A.TAB',\n",
        " '/luna4/u/marks/feidata/DIV:opsL1A/data/2013021320_L1A.TAB',\n",
        " '/luna4/u/marks/feidata/DIV:opsL1A/data/2013021321_L1A.TAB',\n",
        " '/luna4/u/marks/feidata/DIV:opsL1A/data/2013021322_L1A.TAB',\n",
        " '/luna4/u/marks/feidata/DIV:opsL1A/data/2013021323_L1A.TAB',\n",
        " '/luna4/u/marks/feidata/DIV:opsL1A/data/2013021400_L1A.TAB',\n",
        " '/luna4/u/marks/feidata/DIV:opsL1A/data/2013021401_L1A.TAB',\n",
        " '/luna4/u/marks/feidata/DIV:opsL1A/data/2013021402_L1A.TAB',\n",
        " '/luna4/u/marks/feidata/DIV:opsL1A/data/2013021403_L1A.TAB',\n",
        " '/luna4/u/marks/feidata/DIV:opsL1A/data/2013021404_L1A.TAB',\n",
        " '/luna4/u/marks/feidata/DIV:opsL1A/data/2013021405_L1A.TAB',\n",
        " '/luna4/u/marks/feidata/DIV:opsL1A/data/2013021406_L1A.TAB',\n",
        " '/luna4/u/marks/feidata/DIV:opsL1A/data/2013021407_L1A.TAB',\n",
        " '/luna4/u/marks/feidata/DIV:opsL1A/data/2013021408_L1A.TAB',\n",
        " '/luna4/u/marks/feidata/DIV:opsL1A/data/2013021409_L1A.TAB',\n",
        " '/luna4/u/marks/feidata/DIV:opsL1A/data/2013021410_L1A.TAB',\n",
        " '/luna4/u/marks/feidata/DIV:opsL1A/data/2013021411_L1A.TAB',\n",
        " '/luna4/u/marks/feidata/DIV:opsL1A/data/2013021412_L1A.TAB',\n",
        " '/luna4/u/marks/feidata/DIV:opsL1A/data/2013021413_L1A.TAB',\n",
        " '/luna4/u/marks/feidata/DIV:opsL1A/data/2013021414_L1A.TAB',\n",
        " '/luna4/u/marks/feidata/DIV:opsL1A/data/2013021415_L1A.TAB',\n",
        " '/luna4/u/marks/feidata/DIV:opsL1A/data/2013021416_L1A.TAB',\n",
        " '/luna4/u/marks/feidata/DIV:opsL1A/data/2013021417_L1A.TAB',\n",
        " '/luna4/u/marks/feidata/DIV:opsL1A/data/2013021418_L1A.TAB',\n",
        " '/luna4/u/marks/feidata/DIV:opsL1A/data/2013021419_L1A.TAB',\n",
        " '/luna4/u/marks/feidata/DIV:opsL1A/data/2013021420_L1A.TAB',\n",
        " '/luna4/u/marks/feidata/DIV:opsL1A/data/2013021421_L1A.TAB',\n",
        " '/luna4/u/marks/feidata/DIV:opsL1A/data/2013021422_L1A.TAB',\n",
        " '/luna4/u/marks/feidata/DIV:opsL1A/data/2013021423_L1A.TAB',\n",
        " '/luna4/u/marks/feidata/DIV:opsL1A/data/2013021500_L1A.TAB',\n",
        " '/luna4/u/marks/feidata/DIV:opsL1A/data/2013021501_L1A.TAB',\n",
        " '/luna4/u/marks/feidata/DIV:opsL1A/data/2013021502_L1A.TAB',\n",
        " '/luna4/u/marks/feidata/DIV:opsL1A/data/2013021503_L1A.TAB',\n",
        " '/luna4/u/marks/feidata/DIV:opsL1A/data/2013021504_L1A.TAB',\n",
        " '/luna4/u/marks/feidata/DIV:opsL1A/data/2013021505_L1A.TAB',\n",
        " '/luna4/u/marks/feidata/DIV:opsL1A/data/2013021506_L1A.TAB',\n",
        " '/luna4/u/marks/feidata/DIV:opsL1A/data/2013021507_L1A.TAB',\n",
        " '/luna4/u/marks/feidata/DIV:opsL1A/data/2013021508_L1A.TAB',\n",
        " '/luna4/u/marks/feidata/DIV:opsL1A/data/2013021509_L1A.TAB',\n",
        " '/luna4/u/marks/feidata/DIV:opsL1A/data/2013021510_L1A.TAB',\n",
        " '/luna4/u/marks/feidata/DIV:opsL1A/data/2013021511_L1A.TAB',\n",
        " '/luna4/u/marks/feidata/DIV:opsL1A/data/2013021512_L1A.TAB',\n",
        " '/luna4/u/marks/feidata/DIV:opsL1A/data/2013021513_L1A.TAB',\n",
        " '/luna4/u/marks/feidata/DIV:opsL1A/data/2013021514_L1A.TAB',\n",
        " '/luna4/u/marks/feidata/DIV:opsL1A/data/2013021515_L1A.TAB',\n",
        " '/luna4/u/marks/feidata/DIV:opsL1A/data/2013021516_L1A.TAB',\n",
        " '/luna4/u/marks/feidata/DIV:opsL1A/data/2013021517_L1A.TAB',\n",
        " '/luna4/u/marks/feidata/DIV:opsL1A/data/2013021518_L1A.TAB',\n",
        " '/luna4/u/marks/feidata/DIV:opsL1A/data/2013021519_L1A.TAB',\n",
        " '/luna4/u/marks/feidata/DIV:opsL1A/data/2013021520_L1A.TAB',\n",
        " '/luna4/u/marks/feidata/DIV:opsL1A/data/2013021521_L1A.TAB',\n",
        " '/luna4/u/marks/feidata/DIV:opsL1A/data/2013021522_L1A.TAB',\n",
        " '/luna4/u/marks/feidata/DIV:opsL1A/data/2013021523_L1A.TAB',\n",
        " '/luna4/u/marks/feidata/DIV:opsL1A/data/2013021600_L1A.TAB',\n",
        " '/luna4/u/marks/feidata/DIV:opsL1A/data/2013021601_L1A.TAB',\n",
        " '/luna4/u/marks/feidata/DIV:opsL1A/data/2013021602_L1A.TAB',\n",
        " '/luna4/u/marks/feidata/DIV:opsL1A/data/2013021603_L1A.TAB',\n",
        " '/luna4/u/marks/feidata/DIV:opsL1A/data/2013021604_L1A.TAB',\n",
        " '/luna4/u/marks/feidata/DIV:opsL1A/data/2013021605_L1A.TAB',\n",
        " '/luna4/u/marks/feidata/DIV:opsL1A/data/2013021606_L1A.TAB',\n",
        " '/luna4/u/marks/feidata/DIV:opsL1A/data/2013021607_L1A.TAB',\n",
        " '/luna4/u/marks/feidata/DIV:opsL1A/data/2013021608_L1A.TAB',\n",
        " '/luna4/u/marks/feidata/DIV:opsL1A/data/2013021609_L1A.TAB',\n",
        " '/luna4/u/marks/feidata/DIV:opsL1A/data/2013021610_L1A.TAB',\n",
        " '/luna4/u/marks/feidata/DIV:opsL1A/data/2013021611_L1A.TAB',\n",
        " '/luna4/u/marks/feidata/DIV:opsL1A/data/2013021612_L1A.TAB',\n",
        " '/luna4/u/marks/feidata/DIV:opsL1A/data/2013021613_L1A.TAB',\n",
        " '/luna4/u/marks/feidata/DIV:opsL1A/data/2013021614_L1A.TAB',\n",
        " '/luna4/u/marks/feidata/DIV:opsL1A/data/2013021615_L1A.TAB',\n",
        " '/luna4/u/marks/feidata/DIV:opsL1A/data/2013021616_L1A.TAB',\n",
        " '/luna4/u/marks/feidata/DIV:opsL1A/data/2013021617_L1A.TAB',\n",
        " '/luna4/u/marks/feidata/DIV:opsL1A/data/2013021618_L1A.TAB',\n",
        " '/luna4/u/marks/feidata/DIV:opsL1A/data/2013021619_L1A.TAB',\n",
        " '/luna4/u/marks/feidata/DIV:opsL1A/data/2013021620_L1A.TAB',\n",
        " '/luna4/u/marks/feidata/DIV:opsL1A/data/2013021621_L1A.TAB',\n",
        " '/luna4/u/marks/feidata/DIV:opsL1A/data/2013021622_L1A.TAB',\n",
        " '/luna4/u/marks/feidata/DIV:opsL1A/data/2013021623_L1A.TAB',\n",
        " '/luna4/u/marks/feidata/DIV:opsL1A/data/2013021700_L1A.TAB',\n",
        " '/luna4/u/marks/feidata/DIV:opsL1A/data/2013021701_L1A.TAB',\n",
        " '/luna4/u/marks/feidata/DIV:opsL1A/data/2013021702_L1A.TAB',\n",
        " '/luna4/u/marks/feidata/DIV:opsL1A/data/2013021703_L1A.TAB',\n",
        " '/luna4/u/marks/feidata/DIV:opsL1A/data/2013021704_L1A.TAB',\n",
        " '/luna4/u/marks/feidata/DIV:opsL1A/data/2013021705_L1A.TAB',\n",
        " '/luna4/u/marks/feidata/DIV:opsL1A/data/2013021706_L1A.TAB',\n",
        " '/luna4/u/marks/feidata/DIV:opsL1A/data/2013021707_L1A.TAB',\n",
        " '/luna4/u/marks/feidata/DIV:opsL1A/data/2013021708_L1A.TAB',\n",
        " '/luna4/u/marks/feidata/DIV:opsL1A/data/2013021709_L1A.TAB',\n",
        " '/luna4/u/marks/feidata/DIV:opsL1A/data/2013021710_L1A.TAB',\n",
        " '/luna4/u/marks/feidata/DIV:opsL1A/data/2013021711_L1A.TAB',\n",
        " '/luna4/u/marks/feidata/DIV:opsL1A/data/2013021712_L1A.TAB',\n",
        " '/luna4/u/marks/feidata/DIV:opsL1A/data/2013021713_L1A.TAB',\n",
        " '/luna4/u/marks/feidata/DIV:opsL1A/data/2013021714_L1A.TAB',\n",
        " '/luna4/u/marks/feidata/DIV:opsL1A/data/2013021715_L1A.TAB',\n",
        " '/luna4/u/marks/feidata/DIV:opsL1A/data/2013021716_L1A.TAB',\n",
        " '/luna4/u/marks/feidata/DIV:opsL1A/data/2013021717_L1A.TAB',\n",
        " '/luna4/u/marks/feidata/DIV:opsL1A/data/2013021718_L1A.TAB',\n",
        " '/luna4/u/marks/feidata/DIV:opsL1A/data/2013021719_L1A.TAB',\n",
        " '/luna4/u/marks/feidata/DIV:opsL1A/data/2013021720_L1A.TAB',\n",
        " '/luna4/u/marks/feidata/DIV:opsL1A/data/2013021721_L1A.TAB',\n",
        " '/luna4/u/marks/feidata/DIV:opsL1A/data/2013021722_L1A.TAB',\n",
        " '/luna4/u/marks/feidata/DIV:opsL1A/data/2013021723_L1A.TAB',\n",
        " '/luna4/u/marks/feidata/DIV:opsL1A/data/2013021800_L1A.TAB',\n",
        " '/luna4/u/marks/feidata/DIV:opsL1A/data/2013021801_L1A.TAB',\n",
        " '/luna4/u/marks/feidata/DIV:opsL1A/data/2013021802_L1A.TAB',\n",
        " '/luna4/u/marks/feidata/DIV:opsL1A/data/2013021803_L1A.TAB',\n",
        " '/luna4/u/marks/feidata/DIV:opsL1A/data/2013021804_L1A.TAB',\n",
        " '/luna4/u/marks/feidata/DIV:opsL1A/data/2013021805_L1A.TAB',\n",
        " '/luna4/u/marks/feidata/DIV:opsL1A/data/2013021806_L1A.TAB',\n",
        " '/luna4/u/marks/feidata/DIV:opsL1A/data/2013021807_L1A.TAB',\n",
        " '/luna4/u/marks/feidata/DIV:opsL1A/data/2013021808_L1A.TAB',\n",
        " '/luna4/u/marks/feidata/DIV:opsL1A/data/2013021809_L1A.TAB',\n",
        " '/luna4/u/marks/feidata/DIV:opsL1A/data/2013021810_L1A.TAB',\n",
        " '/luna4/u/marks/feidata/DIV:opsL1A/data/2013021811_L1A.TAB',\n",
        " '/luna4/u/marks/feidata/DIV:opsL1A/data/2013021812_L1A.TAB',\n",
        " '/luna4/u/marks/feidata/DIV:opsL1A/data/2013021813_L1A.TAB',\n",
        " '/luna4/u/marks/feidata/DIV:opsL1A/data/2013021814_L1A.TAB',\n",
        " '/luna4/u/marks/feidata/DIV:opsL1A/data/2013021815_L1A.TAB',\n",
        " '/luna4/u/marks/feidata/DIV:opsL1A/data/2013021816_L1A.TAB',\n",
        " '/luna4/u/marks/feidata/DIV:opsL1A/data/2013021817_L1A.TAB',\n",
        " '/luna4/u/marks/feidata/DIV:opsL1A/data/2013021818_L1A.TAB',\n",
        " '/luna4/u/marks/feidata/DIV:opsL1A/data/2013021819_L1A.TAB',\n",
        " '/luna4/u/marks/feidata/DIV:opsL1A/data/2013021820_L1A.TAB',\n",
        " '/luna4/u/marks/feidata/DIV:opsL1A/data/2013021821_L1A.TAB',\n",
        " '/luna4/u/marks/feidata/DIV:opsL1A/data/2013021822_L1A.TAB',\n",
        " '/luna4/u/marks/feidata/DIV:opsL1A/data/2013021823_L1A.TAB',\n",
        " '/luna4/u/marks/feidata/DIV:opsL1A/data/2013021900_L1A.TAB',\n",
        " '/luna4/u/marks/feidata/DIV:opsL1A/data/2013021901_L1A.TAB',\n",
        " '/luna4/u/marks/feidata/DIV:opsL1A/data/2013021902_L1A.TAB',\n",
        " '/luna4/u/marks/feidata/DIV:opsL1A/data/2013021903_L1A.TAB',\n",
        " '/luna4/u/marks/feidata/DIV:opsL1A/data/2013021904_L1A.TAB',\n",
        " '/luna4/u/marks/feidata/DIV:opsL1A/data/2013021905_L1A.TAB',\n",
        " '/luna4/u/marks/feidata/DIV:opsL1A/data/2013021906_L1A.TAB',\n",
        " '/luna4/u/marks/feidata/DIV:opsL1A/data/2013021907_L1A.TAB',\n",
        " '/luna4/u/marks/feidata/DIV:opsL1A/data/2013021908_L1A.TAB',\n",
        " '/luna4/u/marks/feidata/DIV:opsL1A/data/2013021909_L1A.TAB',\n",
        " '/luna4/u/marks/feidata/DIV:opsL1A/data/2013021910_L1A.TAB',\n",
        " '/luna4/u/marks/feidata/DIV:opsL1A/data/2013021911_L1A.TAB',\n",
        " '/luna4/u/marks/feidata/DIV:opsL1A/data/2013021912_L1A.TAB',\n",
        " '/luna4/u/marks/feidata/DIV:opsL1A/data/2013021913_L1A.TAB',\n",
        " '/luna4/u/marks/feidata/DIV:opsL1A/data/2013021914_L1A.TAB',\n",
        " '/luna4/u/marks/feidata/DIV:opsL1A/data/2013021915_L1A.TAB',\n",
        " '/luna4/u/marks/feidata/DIV:opsL1A/data/2013021916_L1A.TAB',\n",
        " '/luna4/u/marks/feidata/DIV:opsL1A/data/2013021917_L1A.TAB',\n",
        " '/luna4/u/marks/feidata/DIV:opsL1A/data/2013021918_L1A.TAB',\n",
        " '/luna4/u/marks/feidata/DIV:opsL1A/data/2013021919_L1A.TAB',\n",
        " '/luna4/u/marks/feidata/DIV:opsL1A/data/2013021920_L1A.TAB',\n",
        " '/luna4/u/marks/feidata/DIV:opsL1A/data/2013021921_L1A.TAB',\n",
        " '/luna4/u/marks/feidata/DIV:opsL1A/data/2013021922_L1A.TAB',\n",
        " '/luna4/u/marks/feidata/DIV:opsL1A/data/2013021923_L1A.TAB',\n",
        " '/luna4/u/marks/feidata/DIV:opsL1A/data/2013022000_L1A.TAB',\n",
        " '/luna4/u/marks/feidata/DIV:opsL1A/data/2013022001_L1A.TAB',\n",
        " '/luna4/u/marks/feidata/DIV:opsL1A/data/2013022002_L1A.TAB',\n",
        " '/luna4/u/marks/feidata/DIV:opsL1A/data/2013022003_L1A.TAB',\n",
        " '/luna4/u/marks/feidata/DIV:opsL1A/data/2013022004_L1A.TAB',\n",
        " '/luna4/u/marks/feidata/DIV:opsL1A/data/2013022005_L1A.TAB',\n",
        " '/luna4/u/marks/feidata/DIV:opsL1A/data/2013022006_L1A.TAB',\n",
        " '/luna4/u/marks/feidata/DIV:opsL1A/data/2013022007_L1A.TAB',\n",
        " '/luna4/u/marks/feidata/DIV:opsL1A/data/2013022008_L1A.TAB',\n",
        " '/luna4/u/marks/feidata/DIV:opsL1A/data/2013022009_L1A.TAB',\n",
        " '/luna4/u/marks/feidata/DIV:opsL1A/data/2013022010_L1A.TAB',\n",
        " '/luna4/u/marks/feidata/DIV:opsL1A/data/2013022011_L1A.TAB',\n",
        " '/luna4/u/marks/feidata/DIV:opsL1A/data/2013022012_L1A.TAB',\n",
        " '/luna4/u/marks/feidata/DIV:opsL1A/data/2013022013_L1A.TAB',\n",
        " '/luna4/u/marks/feidata/DIV:opsL1A/data/2013022014_L1A.TAB',\n",
        " '/luna4/u/marks/feidata/DIV:opsL1A/data/2013022015_L1A.TAB',\n",
        " '/luna4/u/marks/feidata/DIV:opsL1A/data/2013022016_L1A.TAB',\n",
        " '/luna4/u/marks/feidata/DIV:opsL1A/data/2013022017_L1A.TAB',\n",
        " '/luna4/u/marks/feidata/DIV:opsL1A/data/2013022018_L1A.TAB',\n",
        " '/luna4/u/marks/feidata/DIV:opsL1A/data/2013022019_L1A.TAB',\n",
        " '/luna4/u/marks/feidata/DIV:opsL1A/data/2013022020_L1A.TAB',\n",
        " '/luna4/u/marks/feidata/DIV:opsL1A/data/2013022021_L1A.TAB',\n",
        " '/luna4/u/marks/feidata/DIV:opsL1A/data/2013022022_L1A.TAB',\n",
        " '/luna4/u/marks/feidata/DIV:opsL1A/data/2013022023_L1A.TAB',\n",
        " '/luna4/u/marks/feidata/DIV:opsL1A/data/2013022100_L1A.TAB',\n",
        " '/luna4/u/marks/feidata/DIV:opsL1A/data/2013022101_L1A.TAB',\n",
        " '/luna4/u/marks/feidata/DIV:opsL1A/data/2013022102_L1A.TAB',\n",
        " '/luna4/u/marks/feidata/DIV:opsL1A/data/2013022103_L1A.TAB',\n",
        " '/luna4/u/marks/feidata/DIV:opsL1A/data/2013022104_L1A.TAB',\n",
        " '/luna4/u/marks/feidata/DIV:opsL1A/data/2013022105_L1A.TAB',\n",
        " '/luna4/u/marks/feidata/DIV:opsL1A/data/2013022106_L1A.TAB',\n",
        " '/luna4/u/marks/feidata/DIV:opsL1A/data/2013022107_L1A.TAB',\n",
        " '/luna4/u/marks/feidata/DIV:opsL1A/data/2013022108_L1A.TAB',\n",
        " '/luna4/u/marks/feidata/DIV:opsL1A/data/2013022109_L1A.TAB',\n",
        " '/luna4/u/marks/feidata/DIV:opsL1A/data/2013022110_L1A.TAB',\n",
        " '/luna4/u/marks/feidata/DIV:opsL1A/data/2013022111_L1A.TAB',\n",
        " '/luna4/u/marks/feidata/DIV:opsL1A/data/2013022112_L1A.TAB',\n",
        " '/luna4/u/marks/feidata/DIV:opsL1A/data/2013022113_L1A.TAB',\n",
        " '/luna4/u/marks/feidata/DIV:opsL1A/data/2013022114_L1A.TAB',\n",
        " '/luna4/u/marks/feidata/DIV:opsL1A/data/2013022115_L1A.TAB',\n",
        " '/luna4/u/marks/feidata/DIV:opsL1A/data/2013022116_L1A.TAB',\n",
        " '/luna4/u/marks/feidata/DIV:opsL1A/data/2013022117_L1A.TAB',\n",
        " '/luna4/u/marks/feidata/DIV:opsL1A/data/2013022118_L1A.TAB',\n",
        " '/luna4/u/marks/feidata/DIV:opsL1A/data/2013022119_L1A.TAB',\n",
        " '/luna4/u/marks/feidata/DIV:opsL1A/data/2013022120_L1A.TAB',\n",
        " '/luna4/u/marks/feidata/DIV:opsL1A/data/2013022121_L1A.TAB',\n",
        " '/luna4/u/marks/feidata/DIV:opsL1A/data/2013022122_L1A.TAB',\n",
        " '/luna4/u/marks/feidata/DIV:opsL1A/data/2013022123_L1A.TAB',\n",
        " '/luna4/u/marks/feidata/DIV:opsL1A/data/2013022200_L1A.TAB',\n",
        " '/luna4/u/marks/feidata/DIV:opsL1A/data/2013022201_L1A.TAB',\n",
        " '/luna4/u/marks/feidata/DIV:opsL1A/data/2013022202_L1A.TAB',\n",
        " '/luna4/u/marks/feidata/DIV:opsL1A/data/2013022203_L1A.TAB',\n",
        " '/luna4/u/marks/feidata/DIV:opsL1A/data/2013022204_L1A.TAB',\n",
        " '/luna4/u/marks/feidata/DIV:opsL1A/data/2013022205_L1A.TAB',\n",
        " '/luna4/u/marks/feidata/DIV:opsL1A/data/2013022206_L1A.TAB',\n",
        " '/luna4/u/marks/feidata/DIV:opsL1A/data/2013022207_L1A.TAB',\n",
        " '/luna4/u/marks/feidata/DIV:opsL1A/data/2013022208_L1A.TAB',\n",
        " '/luna4/u/marks/feidata/DIV:opsL1A/data/2013022209_L1A.TAB',\n",
        " '/luna4/u/marks/feidata/DIV:opsL1A/data/2013022210_L1A.TAB',\n",
        " '/luna4/u/marks/feidata/DIV:opsL1A/data/2013022211_L1A.TAB',\n",
        " '/luna4/u/marks/feidata/DIV:opsL1A/data/2013022212_L1A.TAB',\n",
        " '/luna4/u/marks/feidata/DIV:opsL1A/data/2013022213_L1A.TAB',\n",
        " '/luna4/u/marks/feidata/DIV:opsL1A/data/2013022214_L1A.TAB',\n",
        " '/luna4/u/marks/feidata/DIV:opsL1A/data/2013022215_L1A.TAB',\n",
        " '/luna4/u/marks/feidata/DIV:opsL1A/data/2013022216_L1A.TAB',\n",
        " '/luna4/u/marks/feidata/DIV:opsL1A/data/2013022217_L1A.TAB',\n",
        " '/luna4/u/marks/feidata/DIV:opsL1A/data/2013022218_L1A.TAB',\n",
        " '/luna4/u/marks/feidata/DIV:opsL1A/data/2013022219_L1A.TAB',\n",
        " '/luna4/u/marks/feidata/DIV:opsL1A/data/2013022220_L1A.TAB',\n",
        " '/luna4/u/marks/feidata/DIV:opsL1A/data/2013022221_L1A.TAB',\n",
        " '/luna4/u/marks/feidata/DIV:opsL1A/data/2013022222_L1A.TAB',\n",
        " '/luna4/u/marks/feidata/DIV:opsL1A/data/2013022223_L1A.TAB',\n",
        " '/luna4/u/marks/feidata/DIV:opsL1A/data/2013022300_L1A.TAB',\n",
        " '/luna4/u/marks/feidata/DIV:opsL1A/data/2013022301_L1A.TAB',\n",
        " '/luna4/u/marks/feidata/DIV:opsL1A/data/2013022302_L1A.TAB',\n",
        " '/luna4/u/marks/feidata/DIV:opsL1A/data/2013022303_L1A.TAB',\n",
        " '/luna4/u/marks/feidata/DIV:opsL1A/data/2013022304_L1A.TAB',\n",
        " '/luna4/u/marks/feidata/DIV:opsL1A/data/2013022305_L1A.TAB',\n",
        " '/luna4/u/marks/feidata/DIV:opsL1A/data/2013022306_L1A.TAB',\n",
        " '/luna4/u/marks/feidata/DIV:opsL1A/data/2013022307_L1A.TAB',\n",
        " '/luna4/u/marks/feidata/DIV:opsL1A/data/2013022308_L1A.TAB',\n",
        " '/luna4/u/marks/feidata/DIV:opsL1A/data/2013022309_L1A.TAB',\n",
        " '/luna4/u/marks/feidata/DIV:opsL1A/data/2013022310_L1A.TAB',\n",
        " '/luna4/u/marks/feidata/DIV:opsL1A/data/2013022311_L1A.TAB',\n",
        " '/luna4/u/marks/feidata/DIV:opsL1A/data/2013022312_L1A.TAB',\n",
        " '/luna4/u/marks/feidata/DIV:opsL1A/data/2013022313_L1A.TAB',\n",
        " '/luna4/u/marks/feidata/DIV:opsL1A/data/2013022314_L1A.TAB',\n",
        " '/luna4/u/marks/feidata/DIV:opsL1A/data/2013022315_L1A.TAB',\n",
        " '/luna4/u/marks/feidata/DIV:opsL1A/data/2013022316_L1A.TAB',\n",
        " '/luna4/u/marks/feidata/DIV:opsL1A/data/2013022317_L1A.TAB',\n",
        " '/luna4/u/marks/feidata/DIV:opsL1A/data/2013022318_L1A.TAB',\n",
        " '/luna4/u/marks/feidata/DIV:opsL1A/data/2013022319_L1A.TAB',\n",
        " '/luna4/u/marks/feidata/DIV:opsL1A/data/2013022320_L1A.TAB',\n",
        " '/luna4/u/marks/feidata/DIV:opsL1A/data/2013022321_L1A.TAB',\n",
        " '/luna4/u/marks/feidata/DIV:opsL1A/data/2013022322_L1A.TAB',\n",
        " '/luna4/u/marks/feidata/DIV:opsL1A/data/2013022323_L1A.TAB',\n",
        " '/luna4/u/marks/feidata/DIV:opsL1A/data/2013022400_L1A.TAB',\n",
        " '/luna4/u/marks/feidata/DIV:opsL1A/data/2013022401_L1A.TAB',\n",
        " '/luna4/u/marks/feidata/DIV:opsL1A/data/2013022402_L1A.TAB',\n",
        " '/luna4/u/marks/feidata/DIV:opsL1A/data/2013022403_L1A.TAB',\n",
        " '/luna4/u/marks/feidata/DIV:opsL1A/data/2013022404_L1A.TAB',\n",
        " '/luna4/u/marks/feidata/DIV:opsL1A/data/2013022405_L1A.TAB',\n",
        " '/luna4/u/marks/feidata/DIV:opsL1A/data/2013022406_L1A.TAB',\n",
        " '/luna4/u/marks/feidata/DIV:opsL1A/data/2013022407_L1A.TAB',\n",
        " '/luna4/u/marks/feidata/DIV:opsL1A/data/2013022408_L1A.TAB',\n",
        " '/luna4/u/marks/feidata/DIV:opsL1A/data/2013022409_L1A.TAB',\n",
        " '/luna4/u/marks/feidata/DIV:opsL1A/data/2013022410_L1A.TAB',\n",
        " '/luna4/u/marks/feidata/DIV:opsL1A/data/2013022411_L1A.TAB',\n",
        " '/luna4/u/marks/feidata/DIV:opsL1A/data/2013022412_L1A.TAB',\n",
        " '/luna4/u/marks/feidata/DIV:opsL1A/data/2013022413_L1A.TAB',\n",
        " '/luna4/u/marks/feidata/DIV:opsL1A/data/2013022414_L1A.TAB',\n",
        " '/luna4/u/marks/feidata/DIV:opsL1A/data/2013022415_L1A.TAB',\n",
        " '/luna4/u/marks/feidata/DIV:opsL1A/data/2013022416_L1A.TAB',\n",
        " '/luna4/u/marks/feidata/DIV:opsL1A/data/2013022417_L1A.TAB',\n",
        " '/luna4/u/marks/feidata/DIV:opsL1A/data/2013022418_L1A.TAB',\n",
        " '/luna4/u/marks/feidata/DIV:opsL1A/data/2013022419_L1A.TAB',\n",
        " '/luna4/u/marks/feidata/DIV:opsL1A/data/2013022420_L1A.TAB',\n",
        " '/luna4/u/marks/feidata/DIV:opsL1A/data/2013022421_L1A.TAB',\n",
        " '/luna4/u/marks/feidata/DIV:opsL1A/data/2013022422_L1A.TAB',\n",
        " '/luna4/u/marks/feidata/DIV:opsL1A/data/2013022423_L1A.TAB',\n",
        " '/luna4/u/marks/feidata/DIV:opsL1A/data/2013022500_L1A.TAB',\n",
        " '/luna4/u/marks/feidata/DIV:opsL1A/data/2013022501_L1A.TAB',\n",
        " '/luna4/u/marks/feidata/DIV:opsL1A/data/2013022502_L1A.TAB',\n",
        " '/luna4/u/marks/feidata/DIV:opsL1A/data/2013022503_L1A.TAB',\n",
        " '/luna4/u/marks/feidata/DIV:opsL1A/data/2013022504_L1A.TAB',\n",
        " '/luna4/u/marks/feidata/DIV:opsL1A/data/2013022505_L1A.TAB',\n",
        " '/luna4/u/marks/feidata/DIV:opsL1A/data/2013022506_L1A.TAB',\n",
        " '/luna4/u/marks/feidata/DIV:opsL1A/data/2013022507_L1A.TAB',\n",
        " '/luna4/u/marks/feidata/DIV:opsL1A/data/2013022508_L1A.TAB',\n",
        " '/luna4/u/marks/feidata/DIV:opsL1A/data/2013022509_L1A.TAB',\n",
        " '/luna4/u/marks/feidata/DIV:opsL1A/data/2013022510_L1A.TAB',\n",
        " '/luna4/u/marks/feidata/DIV:opsL1A/data/2013022511_L1A.TAB',\n",
        " '/luna4/u/marks/feidata/DIV:opsL1A/data/2013022512_L1A.TAB',\n",
        " '/luna4/u/marks/feidata/DIV:opsL1A/data/2013022513_L1A.TAB',\n",
        " '/luna4/u/marks/feidata/DIV:opsL1A/data/2013022514_L1A.TAB',\n",
        " '/luna4/u/marks/feidata/DIV:opsL1A/data/2013022515_L1A.TAB',\n",
        " '/luna4/u/marks/feidata/DIV:opsL1A/data/2013022516_L1A.TAB',\n",
        " '/luna4/u/marks/feidata/DIV:opsL1A/data/2013022517_L1A.TAB',\n",
        " '/luna4/u/marks/feidata/DIV:opsL1A/data/2013022518_L1A.TAB',\n",
        " '/luna4/u/marks/feidata/DIV:opsL1A/data/2013022519_L1A.TAB',\n",
        " '/luna4/u/marks/feidata/DIV:opsL1A/data/2013022520_L1A.TAB',\n",
        " '/luna4/u/marks/feidata/DIV:opsL1A/data/2013022521_L1A.TAB',\n",
        " '/luna4/u/marks/feidata/DIV:opsL1A/data/2013022522_L1A.TAB',\n",
        " '/luna4/u/marks/feidata/DIV:opsL1A/data/2013022523_L1A.TAB',\n",
        " '/luna4/u/marks/feidata/DIV:opsL1A/data/2013022600_L1A.TAB',\n",
        " '/luna4/u/marks/feidata/DIV:opsL1A/data/2013022601_L1A.TAB',\n",
        " '/luna4/u/marks/feidata/DIV:opsL1A/data/2013022602_L1A.TAB',\n",
        " '/luna4/u/marks/feidata/DIV:opsL1A/data/2013022603_L1A.TAB',\n",
        " '/luna4/u/marks/feidata/DIV:opsL1A/data/2013022604_L1A.TAB',\n",
        " '/luna4/u/marks/feidata/DIV:opsL1A/data/2013022605_L1A.TAB',\n",
        " '/luna4/u/marks/feidata/DIV:opsL1A/data/2013022606_L1A.TAB',\n",
        " '/luna4/u/marks/feidata/DIV:opsL1A/data/2013022607_L1A.TAB',\n",
        " '/luna4/u/marks/feidata/DIV:opsL1A/data/2013022608_L1A.TAB',\n",
        " '/luna4/u/marks/feidata/DIV:opsL1A/data/2013022609_L1A.TAB',\n",
        " '/luna4/u/marks/feidata/DIV:opsL1A/data/2013022610_L1A.TAB',\n",
        " '/luna4/u/marks/feidata/DIV:opsL1A/data/2013022611_L1A.TAB',\n",
        " '/luna4/u/marks/feidata/DIV:opsL1A/data/2013022612_L1A.TAB',\n",
        " '/luna4/u/marks/feidata/DIV:opsL1A/data/2013022613_L1A.TAB',\n",
        " '/luna4/u/marks/feidata/DIV:opsL1A/data/2013022614_L1A.TAB',\n",
        " '/luna4/u/marks/feidata/DIV:opsL1A/data/2013022615_L1A.TAB',\n",
        " '/luna4/u/marks/feidata/DIV:opsL1A/data/2013022616_L1A.TAB',\n",
        " '/luna4/u/marks/feidata/DIV:opsL1A/data/2013022617_L1A.TAB',\n",
        " '/luna4/u/marks/feidata/DIV:opsL1A/data/2013022618_L1A.TAB',\n",
        " '/luna4/u/marks/feidata/DIV:opsL1A/data/2013022619_L1A.TAB',\n",
        " '/luna4/u/marks/feidata/DIV:opsL1A/data/2013022620_L1A.TAB',\n",
        " '/luna4/u/marks/feidata/DIV:opsL1A/data/2013022621_L1A.TAB',\n",
        " '/luna4/u/marks/feidata/DIV:opsL1A/data/2013022622_L1A.TAB',\n",
        " '/luna4/u/marks/feidata/DIV:opsL1A/data/2013022623_L1A.TAB',\n",
        " '/luna4/u/marks/feidata/DIV:opsL1A/data/2013022700_L1A.TAB',\n",
        " '/luna4/u/marks/feidata/DIV:opsL1A/data/2013022701_L1A.TAB',\n",
        " '/luna4/u/marks/feidata/DIV:opsL1A/data/2013022702_L1A.TAB',\n",
        " '/luna4/u/marks/feidata/DIV:opsL1A/data/2013022703_L1A.TAB',\n",
        " '/luna4/u/marks/feidata/DIV:opsL1A/data/2013022704_L1A.TAB',\n",
        " '/luna4/u/marks/feidata/DIV:opsL1A/data/2013022705_L1A.TAB',\n",
        " '/luna4/u/marks/feidata/DIV:opsL1A/data/2013022706_L1A.TAB',\n",
        " '/luna4/u/marks/feidata/DIV:opsL1A/data/2013022707_L1A.TAB',\n",
        " '/luna4/u/marks/feidata/DIV:opsL1A/data/2013022708_L1A.TAB',\n",
        " '/luna4/u/marks/feidata/DIV:opsL1A/data/2013022709_L1A.TAB',\n",
        " '/luna4/u/marks/feidata/DIV:opsL1A/data/2013022710_L1A.TAB',\n",
        " '/luna4/u/marks/feidata/DIV:opsL1A/data/2013022711_L1A.TAB',\n",
        " '/luna4/u/marks/feidata/DIV:opsL1A/data/2013022712_L1A.TAB',\n",
        " '/luna4/u/marks/feidata/DIV:opsL1A/data/2013022713_L1A.TAB',\n",
        " '/luna4/u/marks/feidata/DIV:opsL1A/data/2013022714_L1A.TAB',\n",
        " '/luna4/u/marks/feidata/DIV:opsL1A/data/2013022715_L1A.TAB',\n",
        " '/luna4/u/marks/feidata/DIV:opsL1A/data/2013022716_L1A.TAB',\n",
        " '/luna4/u/marks/feidata/DIV:opsL1A/data/2013022717_L1A.TAB',\n",
        " '/luna4/u/marks/feidata/DIV:opsL1A/data/2013022718_L1A.TAB',\n",
        " '/luna4/u/marks/feidata/DIV:opsL1A/data/2013022719_L1A.TAB',\n",
        " '/luna4/u/marks/feidata/DIV:opsL1A/data/2013022720_L1A.TAB',\n",
        " '/luna4/u/marks/feidata/DIV:opsL1A/data/2013022721_L1A.TAB',\n",
        " '/luna4/u/marks/feidata/DIV:opsL1A/data/2013022722_L1A.TAB',\n",
        " '/luna4/u/marks/feidata/DIV:opsL1A/data/2013022723_L1A.TAB',\n",
        " '/luna4/u/marks/feidata/DIV:opsL1A/data/2013022800_L1A.TAB',\n",
        " '/luna4/u/marks/feidata/DIV:opsL1A/data/2013022801_L1A.TAB',\n",
        " '/luna4/u/marks/feidata/DIV:opsL1A/data/2013022802_L1A.TAB',\n",
        " '/luna4/u/marks/feidata/DIV:opsL1A/data/2013022803_L1A.TAB',\n",
        " '/luna4/u/marks/feidata/DIV:opsL1A/data/2013022804_L1A.TAB',\n",
        " '/luna4/u/marks/feidata/DIV:opsL1A/data/2013022805_L1A.TAB',\n",
        " '/luna4/u/marks/feidata/DIV:opsL1A/data/2013022806_L1A.TAB',\n",
        " '/luna4/u/marks/feidata/DIV:opsL1A/data/2013022807_L1A.TAB',\n",
        " '/luna4/u/marks/feidata/DIV:opsL1A/data/2013022808_L1A.TAB',\n",
        " '/luna4/u/marks/feidata/DIV:opsL1A/data/2013022809_L1A.TAB',\n",
        " '/luna4/u/marks/feidata/DIV:opsL1A/data/2013022810_L1A.TAB',\n",
        " '/luna4/u/marks/feidata/DIV:opsL1A/data/2013022811_L1A.TAB',\n",
        " '/luna4/u/marks/feidata/DIV:opsL1A/data/2013022812_L1A.TAB',\n",
        " '/luna4/u/marks/feidata/DIV:opsL1A/data/2013022813_L1A.TAB',\n",
        " '/luna4/u/marks/feidata/DIV:opsL1A/data/2013022814_L1A.TAB',\n",
        " '/luna4/u/marks/feidata/DIV:opsL1A/data/2013022815_L1A.TAB',\n",
        " '/luna4/u/marks/feidata/DIV:opsL1A/data/2013022816_L1A.TAB',\n",
        " '/luna4/u/marks/feidata/DIV:opsL1A/data/2013022817_L1A.TAB',\n",
        " '/luna4/u/marks/feidata/DIV:opsL1A/data/2013022818_L1A.TAB',\n",
        " '/luna4/u/marks/feidata/DIV:opsL1A/data/2013022819_L1A.TAB',\n",
        " '/luna4/u/marks/feidata/DIV:opsL1A/data/2013022820_L1A.TAB',\n",
        " '/luna4/u/marks/feidata/DIV:opsL1A/data/2013022821_L1A.TAB',\n",
        " '/luna4/u/marks/feidata/DIV:opsL1A/data/2013022822_L1A.TAB',\n",
        " '/luna4/u/marks/feidata/DIV:opsL1A/data/2013022823_L1A.TAB']"
       ]
      }
     ],
     "prompt_number": 11
    },
    {
     "cell_type": "code",
     "collapsed": false,
     "input": [
      "det = 'a6_11'\n",
      "data = []\n",
      "progressbar = pu.ProgressBar(len(pump.fnames))\n",
      "for i,fname in enumerate(pump.fnames):\n",
      "    progressbar.animate(i+1)\n",
      "    l1afile = fu.L1ADataFile(fname)\n",
      "    df = l1afile.open()\n",
      "    if df.calib_block_labels.unique().size == 1:\n",
      "        continue\n",
      "    c = calib.Calibrator(df)\n",
      "    c.interpolate_bb_temps()\n",
      "    c.calc_calib_times()\n",
      "    try:\n",
      "        c.calc_one_RBB()\n",
      "    except KeyError as e:\n",
      "        print fname\n",
      "        print e\n",
      "        continue\n",
      "    c.calc_offsets()\n",
      "    c.calc_CBB()\n",
      "    c.calc_gain()\n",
      "    data.append(c.gains[det])"
     ],
     "language": "python",
     "metadata": {},
     "outputs": [
      {
       "output_type": "stream",
       "stream": "stdout",
       "text": [
        "\r",
        " [                       0%                       ]"
       ]
      },
      {
       "output_type": "stream",
       "stream": "stdout",
       "text": [
        "\r",
        " [                       0%                       ]  2 of 672 complete"
       ]
      },
      {
       "output_type": "stream",
       "stream": "stdout",
       "text": [
        "\r",
        " [                       0%                       ]  3 of 672 complete"
       ]
      },
      {
       "output_type": "stream",
       "stream": "stdout",
       "text": [
        "\r",
        " [                       1%                       ]  4 of 672 complete"
       ]
      },
      {
       "output_type": "stream",
       "stream": "stdout",
       "text": [
        "\r",
        " [                       1%                       ]  5 of 672 complete"
       ]
      },
      {
       "output_type": "stream",
       "stream": "stdout",
       "text": [
        "\r",
        " [                       1%                       ]  6 of 672 complete"
       ]
      },
      {
       "output_type": "stream",
       "stream": "stdout",
       "text": [
        "\r",
        " [                       1%                       ]  7 of 672 complete"
       ]
      },
      {
       "output_type": "stream",
       "stream": "stdout",
       "text": [
        "\r",
        " [                       1%                       ]  8 of 672 complete"
       ]
      },
      {
       "output_type": "stream",
       "stream": "stdout",
       "text": [
        "\r",
        " [                       1%                       ]  9 of 672 complete"
       ]
      },
      {
       "output_type": "stream",
       "stream": "stdout",
       "text": [
        "\r",
        " [                       1%                       ]  10 of 672 complete"
       ]
      },
      {
       "output_type": "stream",
       "stream": "stdout",
       "text": [
        "\r",
        " [*                      2%                       ]  11 of 672 complete"
       ]
      },
      {
       "output_type": "stream",
       "stream": "stdout",
       "text": [
        "\r",
        " [*                      2%                       ]  12 of 672 complete"
       ]
      },
      {
       "output_type": "stream",
       "stream": "stdout",
       "text": [
        "\r",
        " [*                      2%                       ]  13 of 672 complete"
       ]
      },
      {
       "output_type": "stream",
       "stream": "stdout",
       "text": [
        "\r",
        " [*                      2%                       ]  14 of 672 complete"
       ]
      },
      {
       "output_type": "stream",
       "stream": "stdout",
       "text": [
        "\r",
        " [*                      2%                       ]  15 of 672 complete"
       ]
      },
      {
       "output_type": "stream",
       "stream": "stdout",
       "text": [
        "\r",
        " [*                      2%                       ]  16 of 672 complete"
       ]
      },
      {
       "output_type": "stream",
       "stream": "stdout",
       "text": [
        "\r",
        " [*                      3%                       ]  17 of 672 complete"
       ]
      },
      {
       "output_type": "stream",
       "stream": "stdout",
       "text": [
        "\r",
        " [*                      3%                       ]  18 of 672 complete"
       ]
      },
      {
       "output_type": "stream",
       "stream": "stdout",
       "text": [
        "\r",
        " [*                      3%                       ]  19 of 672 complete"
       ]
      },
      {
       "output_type": "stream",
       "stream": "stdout",
       "text": [
        "\r",
        " [*                      3%                       ]  20 of 672 complete"
       ]
      },
      {
       "output_type": "stream",
       "stream": "stdout",
       "text": [
        "\r",
        " [*                      3%                       ]  21 of 672 complete"
       ]
      },
      {
       "output_type": "stream",
       "stream": "stdout",
       "text": [
        "\r",
        " [*                      3%                       ]  22 of 672 complete"
       ]
      },
      {
       "output_type": "stream",
       "stream": "stdout",
       "text": [
        "\r",
        " [*                      3%                       ]  23 of 672 complete"
       ]
      },
      {
       "output_type": "stream",
       "stream": "stdout",
       "text": [
        "\r",
        " [**                     4%                       ]  24 of 672 complete"
       ]
      },
      {
       "output_type": "stream",
       "stream": "stdout",
       "text": [
        "\r",
        " [**                     4%                       ]  25 of 672 complete"
       ]
      },
      {
       "output_type": "stream",
       "stream": "stdout",
       "text": [
        "\r",
        " [**                     4%                       ]  26 of 672 complete"
       ]
      },
      {
       "output_type": "stream",
       "stream": "stdout",
       "text": [
        "\r",
        " [**                     4%                       ]  27 of 672 complete"
       ]
      },
      {
       "output_type": "stream",
       "stream": "stdout",
       "text": [
        "\r",
        " [**                     4%                       ]  28 of 672 complete"
       ]
      },
      {
       "output_type": "stream",
       "stream": "stdout",
       "text": [
        "\r",
        " [**                     4%                       ]  29 of 672 complete"
       ]
      },
      {
       "output_type": "stream",
       "stream": "stdout",
       "text": [
        "\r",
        " [**                     4%                       ]  30 of 672 complete"
       ]
      },
      {
       "output_type": "stream",
       "stream": "stdout",
       "text": [
        "\r",
        " [**                     5%                       ]  31 of 672 complete"
       ]
      },
      {
       "output_type": "stream",
       "stream": "stdout",
       "text": [
        "\r",
        " [**                     5%                       ]  32 of 672 complete"
       ]
      },
      {
       "output_type": "stream",
       "stream": "stdout",
       "text": [
        "\r",
        " [**                     5%                       ]  33 of 672 complete"
       ]
      },
      {
       "output_type": "stream",
       "stream": "stdout",
       "text": [
        "\r",
        " [**                     5%                       ]  34 of 672 complete"
       ]
      },
      {
       "output_type": "stream",
       "stream": "stdout",
       "text": [
        "\r",
        " [**                     5%                       ]  35 of 672 complete"
       ]
      },
      {
       "output_type": "stream",
       "stream": "stdout",
       "text": [
        "\r",
        " [**                     5%                       ]  36 of 672 complete"
       ]
      },
      {
       "output_type": "stream",
       "stream": "stdout",
       "text": [
        "\r",
        " [***                    6%                       ]  37 of 672 complete"
       ]
      },
      {
       "output_type": "stream",
       "stream": "stdout",
       "text": [
        "\r",
        " [***                    6%                       ]  38 of 672 complete"
       ]
      },
      {
       "output_type": "stream",
       "stream": "stdout",
       "text": [
        "\r",
        " [***                    6%                       ]  39 of 672 complete"
       ]
      },
      {
       "output_type": "stream",
       "stream": "stdout",
       "text": [
        "\r",
        " [***                    6%                       ]  40 of 672 complete"
       ]
      },
      {
       "output_type": "stream",
       "stream": "stdout",
       "text": [
        "\r",
        " [***                    6%                       ]  41 of 672 complete"
       ]
      },
      {
       "output_type": "stream",
       "stream": "stdout",
       "text": [
        "\r",
        " [***                    6%                       ]  42 of 672 complete"
       ]
      },
      {
       "output_type": "stream",
       "stream": "stdout",
       "text": [
        "\r",
        " [***                    6%                       ]  43 of 672 complete"
       ]
      },
      {
       "output_type": "stream",
       "stream": "stdout",
       "text": [
        "\r",
        " [***                    7%                       ]  44 of 672 complete"
       ]
      },
      {
       "output_type": "stream",
       "stream": "stdout",
       "text": [
        "\r",
        " [***                    7%                       ]  45 of 672 complete"
       ]
      },
      {
       "output_type": "stream",
       "stream": "stdout",
       "text": [
        "\r",
        " [***                    7%                       ]  46 of 672 complete"
       ]
      },
      {
       "output_type": "stream",
       "stream": "stdout",
       "text": [
        "\r",
        " [***                    7%                       ]  47 of 672 complete"
       ]
      },
      {
       "output_type": "stream",
       "stream": "stdout",
       "text": [
        "\r",
        " [***                    7%                       ]  48 of 672 complete"
       ]
      },
      {
       "output_type": "stream",
       "stream": "stdout",
       "text": [
        "\r",
        " [***                    7%                       ]  49 of 672 complete"
       ]
      },
      {
       "output_type": "stream",
       "stream": "stdout",
       "text": [
        "\r",
        " [***                    7%                       ]  50 of 672 complete"
       ]
      },
      {
       "output_type": "stream",
       "stream": "stdout",
       "text": [
        "\r",
        " [****                   8%                       ]  51 of 672 complete"
       ]
      },
      {
       "output_type": "stream",
       "stream": "stdout",
       "text": [
        "\r",
        " [****                   8%                       ]  52 of 672 complete"
       ]
      },
      {
       "output_type": "stream",
       "stream": "stdout",
       "text": [
        "\r",
        " [****                   8%                       ]  53 of 672 complete"
       ]
      },
      {
       "output_type": "stream",
       "stream": "stdout",
       "text": [
        "\r",
        " [****                   8%                       ]  54 of 672 complete"
       ]
      },
      {
       "output_type": "stream",
       "stream": "stdout",
       "text": [
        "\r",
        " [****                   8%                       ]  55 of 672 complete"
       ]
      },
      {
       "output_type": "stream",
       "stream": "stdout",
       "text": [
        "\r",
        " [****                   8%                       ]  56 of 672 complete"
       ]
      },
      {
       "output_type": "stream",
       "stream": "stdout",
       "text": [
        "\r",
        " [****                   8%                       ]  57 of 672 complete"
       ]
      },
      {
       "output_type": "stream",
       "stream": "stdout",
       "text": [
        "\r",
        " [****                   9%                       ]  58 of 672 complete"
       ]
      },
      {
       "output_type": "stream",
       "stream": "stdout",
       "text": [
        "\r",
        " [****                   9%                       ]  59 of 672 complete"
       ]
      },
      {
       "output_type": "stream",
       "stream": "stdout",
       "text": [
        "\r",
        " [****                   9%                       ]  60 of 672 complete"
       ]
      },
      {
       "output_type": "stream",
       "stream": "stdout",
       "text": [
        "\r",
        " [****                   9%                       ]  61 of 672 complete"
       ]
      },
      {
       "output_type": "stream",
       "stream": "stdout",
       "text": [
        "\r",
        " [****                   9%                       ]  62 of 672 complete"
       ]
      },
      {
       "output_type": "stream",
       "stream": "stdout",
       "text": [
        "\r",
        " [****                   9%                       ]  63 of 672 complete"
       ]
      },
      {
       "output_type": "stream",
       "stream": "stdout",
       "text": [
        "\r",
        " [*****                 10%                       ]  64 of 672 complete"
       ]
      },
      {
       "output_type": "stream",
       "stream": "stdout",
       "text": [
        "\r",
        " [*****                 10%                       ]  65 of 672 complete"
       ]
      },
      {
       "output_type": "stream",
       "stream": "stdout",
       "text": [
        "\r",
        " [*****                 10%                       ]  66 of 672 complete"
       ]
      },
      {
       "output_type": "stream",
       "stream": "stdout",
       "text": [
        "\r",
        " [*****                 10%                       ]  67 of 672 complete"
       ]
      },
      {
       "output_type": "stream",
       "stream": "stdout",
       "text": [
        "\r",
        " [*****                 10%                       ]  68 of 672 complete"
       ]
      },
      {
       "output_type": "stream",
       "stream": "stdout",
       "text": [
        "\r",
        " [*****                 10%                       ]  69 of 672 complete"
       ]
      },
      {
       "output_type": "stream",
       "stream": "stdout",
       "text": [
        "\r",
        " [*****                 10%                       ]  70 of 672 complete"
       ]
      },
      {
       "output_type": "stream",
       "stream": "stdout",
       "text": [
        "\r",
        " [*****                 11%                       ]  71 of 672 complete"
       ]
      },
      {
       "output_type": "stream",
       "stream": "stdout",
       "text": [
        "\r",
        " [*****                 11%                       ]  72 of 672 complete"
       ]
      },
      {
       "output_type": "stream",
       "stream": "stdout",
       "text": [
        "\r",
        " [*****                 11%                       ]  73 of 672 complete"
       ]
      },
      {
       "output_type": "stream",
       "stream": "stdout",
       "text": [
        "\r",
        " [*****                 11%                       ]  74 of 672 complete"
       ]
      },
      {
       "output_type": "stream",
       "stream": "stdout",
       "text": [
        "\r",
        " [*****                 11%                       ]  75 of 672 complete"
       ]
      },
      {
       "output_type": "stream",
       "stream": "stdout",
       "text": [
        "\r",
        " [*****                 11%                       ]  76 of 672 complete"
       ]
      },
      {
       "output_type": "stream",
       "stream": "stdout",
       "text": [
        "\r",
        " [*****                 11%                       ]  77 of 672 complete"
       ]
      },
      {
       "output_type": "stream",
       "stream": "stdout",
       "text": [
        "\r",
        " [******                12%                       ]  78 of 672 complete"
       ]
      },
      {
       "output_type": "stream",
       "stream": "stdout",
       "text": [
        "\r",
        " [******                12%                       ]  79 of 672 complete"
       ]
      },
      {
       "output_type": "stream",
       "stream": "stdout",
       "text": [
        "\r",
        " [******                12%                       ]  80 of 672 complete"
       ]
      },
      {
       "output_type": "stream",
       "stream": "stdout",
       "text": [
        "\r",
        " [******                12%                       ]  81 of 672 complete"
       ]
      },
      {
       "output_type": "stream",
       "stream": "stdout",
       "text": [
        "\r",
        " [******                12%                       ]  82 of 672 complete"
       ]
      },
      {
       "output_type": "stream",
       "stream": "stdout",
       "text": [
        "\r",
        " [******                12%                       ]  83 of 672 complete"
       ]
      },
      {
       "output_type": "stream",
       "stream": "stdout",
       "text": [
        "\r",
        " [******                13%                       ]  84 of 672 complete"
       ]
      },
      {
       "output_type": "stream",
       "stream": "stdout",
       "text": [
        "\r",
        " [******                13%                       ]  85 of 672 complete"
       ]
      },
      {
       "output_type": "stream",
       "stream": "stdout",
       "text": [
        "\r",
        " [******                13%                       ]  86 of 672 complete"
       ]
      },
      {
       "output_type": "stream",
       "stream": "stdout",
       "text": [
        "\r",
        " [******                13%                       ]  87 of 672 complete"
       ]
      },
      {
       "output_type": "stream",
       "stream": "stdout",
       "text": [
        "\r",
        " [******                13%                       ]  88 of 672 complete"
       ]
      },
      {
       "output_type": "stream",
       "stream": "stdout",
       "text": [
        "\r",
        " [******                13%                       ]  89 of 672 complete"
       ]
      },
      {
       "output_type": "stream",
       "stream": "stdout",
       "text": [
        "\r",
        " [******                13%                       ]  90 of 672 complete"
       ]
      },
      {
       "output_type": "stream",
       "stream": "stdout",
       "text": [
        "\r",
        " [*******               14%                       ]  91 of 672 complete"
       ]
      },
      {
       "output_type": "stream",
       "stream": "stdout",
       "text": [
        "\r",
        " [*******               14%                       ]  92 of 672 complete"
       ]
      },
      {
       "output_type": "stream",
       "stream": "stdout",
       "text": [
        "\r",
        " [*******               14%                       ]  93 of 672 complete"
       ]
      },
      {
       "output_type": "stream",
       "stream": "stdout",
       "text": [
        "\r",
        " [*******               14%                       ]  94 of 672 complete"
       ]
      },
      {
       "output_type": "stream",
       "stream": "stdout",
       "text": [
        "\r",
        " [*******               14%                       ]  95 of 672 complete"
       ]
      },
      {
       "output_type": "stream",
       "stream": "stdout",
       "text": [
        "\r",
        " [*******               14%                       ]  96 of 672 complete"
       ]
      },
      {
       "output_type": "stream",
       "stream": "stdout",
       "text": [
        "\r",
        " [*******               14%                       ]  97 of 672 complete"
       ]
      },
      {
       "output_type": "stream",
       "stream": "stdout",
       "text": [
        "\r",
        " [*******               15%                       ]  98 of 672 complete"
       ]
      },
      {
       "output_type": "stream",
       "stream": "stdout",
       "text": [
        "\r",
        " [*******               15%                       ]  99 of 672 complete"
       ]
      },
      {
       "output_type": "stream",
       "stream": "stdout",
       "text": [
        "\r",
        " [*******               15%                       ]  100 of 672 complete"
       ]
      },
      {
       "output_type": "stream",
       "stream": "stdout",
       "text": [
        "\r",
        " [*******               15%                       ]  101 of 672 complete"
       ]
      },
      {
       "output_type": "stream",
       "stream": "stdout",
       "text": [
        "\r",
        " [*******               15%                       ]  102 of 672 complete"
       ]
      },
      {
       "output_type": "stream",
       "stream": "stdout",
       "text": [
        "\r",
        " [*******               15%                       ]  103 of 672 complete"
       ]
      },
      {
       "output_type": "stream",
       "stream": "stdout",
       "text": [
        "\r",
        " [*******               15%                       ]  104 of 672 complete"
       ]
      },
      {
       "output_type": "stream",
       "stream": "stdout",
       "text": [
        "\r",
        " [********              16%                       ]  105 of 672 complete"
       ]
      },
      {
       "output_type": "stream",
       "stream": "stdout",
       "text": [
        "\r",
        " [********              16%                       ]  106 of 672 complete"
       ]
      },
      {
       "output_type": "stream",
       "stream": "stdout",
       "text": [
        "\r",
        " [********              16%                       ]  107 of 672 complete"
       ]
      },
      {
       "output_type": "stream",
       "stream": "stdout",
       "text": [
        "\r",
        " [********              16%                       ]  108 of 672 complete"
       ]
      },
      {
       "output_type": "stream",
       "stream": "stdout",
       "text": [
        "\r",
        " [********              16%                       ]  109 of 672 complete"
       ]
      },
      {
       "output_type": "stream",
       "stream": "stdout",
       "text": [
        "\r",
        " [********              16%                       ]  110 of 672 complete"
       ]
      },
      {
       "output_type": "stream",
       "stream": "stdout",
       "text": [
        "\r",
        " [********              17%                       ]  111 of 672 complete"
       ]
      },
      {
       "output_type": "stream",
       "stream": "stdout",
       "text": [
        "\r",
        " [********              17%                       ]  112 of 672 complete"
       ]
      },
      {
       "output_type": "stream",
       "stream": "stdout",
       "text": [
        "\r",
        " [********              17%                       ]  113 of 672 complete"
       ]
      },
      {
       "output_type": "stream",
       "stream": "stdout",
       "text": [
        "\r",
        " [********              17%                       ]  114 of 672 complete"
       ]
      },
      {
       "output_type": "stream",
       "stream": "stdout",
       "text": [
        "\r",
        " [********              17%                       ]  115 of 672 complete"
       ]
      },
      {
       "output_type": "stream",
       "stream": "stdout",
       "text": [
        "\r",
        " [********              17%                       ]  116 of 672 complete"
       ]
      },
      {
       "output_type": "stream",
       "stream": "stdout",
       "text": [
        "\r",
        " [********              17%                       ]  117 of 672 complete"
       ]
      },
      {
       "output_type": "stream",
       "stream": "stdout",
       "text": [
        "\r",
        " [*********             18%                       ]  118 of 672 complete"
       ]
      },
      {
       "output_type": "stream",
       "stream": "stdout",
       "text": [
        "\r",
        " [*********             18%                       ]  119 of 672 complete"
       ]
      },
      {
       "output_type": "stream",
       "stream": "stdout",
       "text": [
        "\r",
        " [*********             18%                       ]  120 of 672 complete"
       ]
      },
      {
       "output_type": "stream",
       "stream": "stdout",
       "text": [
        "\r",
        " [*********             18%                       ]  121 of 672 complete"
       ]
      },
      {
       "output_type": "stream",
       "stream": "stdout",
       "text": [
        "\r",
        " [*********             18%                       ]  122 of 672 complete"
       ]
      },
      {
       "output_type": "stream",
       "stream": "stdout",
       "text": [
        "\r",
        " [*********             18%                       ]  123 of 672 complete"
       ]
      },
      {
       "output_type": "stream",
       "stream": "stdout",
       "text": [
        "\r",
        " [*********             18%                       ]  124 of 672 complete"
       ]
      },
      {
       "output_type": "stream",
       "stream": "stdout",
       "text": [
        "\r",
        " [*********             19%                       ]  125 of 672 complete"
       ]
      },
      {
       "output_type": "stream",
       "stream": "stdout",
       "text": [
        "\r",
        " [*********             19%                       ]  126 of 672 complete"
       ]
      },
      {
       "output_type": "stream",
       "stream": "stdout",
       "text": [
        "\r",
        " [*********             19%                       ]  127 of 672 complete"
       ]
      },
      {
       "output_type": "stream",
       "stream": "stdout",
       "text": [
        "\r",
        " [*********             19%                       ]  128 of 672 complete"
       ]
      },
      {
       "output_type": "stream",
       "stream": "stdout",
       "text": [
        "\r",
        " [*********             19%                       ]  129 of 672 complete"
       ]
      },
      {
       "output_type": "stream",
       "stream": "stdout",
       "text": [
        "\r",
        " [*********             19%                       ]  130 of 672 complete"
       ]
      },
      {
       "output_type": "stream",
       "stream": "stdout",
       "text": [
        "\r",
        " [*********             19%                       ]  131 of 672 complete"
       ]
      },
      {
       "output_type": "stream",
       "stream": "stdout",
       "text": [
        "\r",
        " [**********            20%                       ]  132 of 672 complete"
       ]
      },
      {
       "output_type": "stream",
       "stream": "stdout",
       "text": [
        "\r",
        " [**********            20%                       ]  133 of 672 complete"
       ]
      },
      {
       "output_type": "stream",
       "stream": "stdout",
       "text": [
        "\r",
        " [**********            20%                       ]  134 of 672 complete"
       ]
      },
      {
       "output_type": "stream",
       "stream": "stdout",
       "text": [
        "\r",
        " [**********            20%                       ]  135 of 672 complete"
       ]
      },
      {
       "output_type": "stream",
       "stream": "stdout",
       "text": [
        "\r",
        " [**********            20%                       ]  136 of 672 complete"
       ]
      },
      {
       "output_type": "stream",
       "stream": "stdout",
       "text": [
        "\r",
        " [**********            20%                       ]  137 of 672 complete"
       ]
      },
      {
       "output_type": "stream",
       "stream": "stdout",
       "text": [
        "\r",
        " [**********            21%                       ]  138 of 672 complete"
       ]
      },
      {
       "output_type": "stream",
       "stream": "stdout",
       "text": [
        "\r",
        " [**********            21%                       ]  139 of 672 complete"
       ]
      },
      {
       "output_type": "stream",
       "stream": "stdout",
       "text": [
        "\r",
        " [**********            21%                       ]  140 of 672 complete"
       ]
      },
      {
       "output_type": "stream",
       "stream": "stdout",
       "text": [
        "\r",
        " [**********            21%                       ]  141 of 672 complete"
       ]
      },
      {
       "output_type": "stream",
       "stream": "stdout",
       "text": [
        "\r",
        " [**********            21%                       ]  142 of 672 complete"
       ]
      },
      {
       "output_type": "stream",
       "stream": "stdout",
       "text": [
        "\r",
        " [**********            21%                       ]  143 of 672 complete"
       ]
      },
      {
       "output_type": "stream",
       "stream": "stdout",
       "text": [
        "\r",
        " [**********            21%                       ]  144 of 672 complete"
       ]
      },
      {
       "output_type": "stream",
       "stream": "stdout",
       "text": [
        "\r",
        " [***********           22%                       ]  145 of 672 complete"
       ]
      },
      {
       "output_type": "stream",
       "stream": "stdout",
       "text": [
        "\r",
        " [***********           22%                       ]  146 of 672 complete"
       ]
      },
      {
       "output_type": "stream",
       "stream": "stdout",
       "text": [
        "\r",
        " [***********           22%                       ]  147 of 672 complete"
       ]
      },
      {
       "output_type": "stream",
       "stream": "stdout",
       "text": [
        "\r",
        " [***********           22%                       ]  148 of 672 complete"
       ]
      },
      {
       "output_type": "stream",
       "stream": "stdout",
       "text": [
        "\r",
        " [***********           22%                       ]  149 of 672 complete"
       ]
      },
      {
       "output_type": "stream",
       "stream": "stdout",
       "text": [
        "\r",
        " [***********           22%                       ]  150 of 672 complete"
       ]
      },
      {
       "output_type": "stream",
       "stream": "stdout",
       "text": [
        "\r",
        " [***********           22%                       ]  151 of 672 complete"
       ]
      },
      {
       "output_type": "stream",
       "stream": "stdout",
       "text": [
        "\r",
        " [***********           23%                       ]  152 of 672 complete"
       ]
      },
      {
       "output_type": "stream",
       "stream": "stdout",
       "text": [
        "\r",
        " [***********           23%                       ]  153 of 672 complete"
       ]
      },
      {
       "output_type": "stream",
       "stream": "stdout",
       "text": [
        "\r",
        " [***********           23%                       ]  154 of 672 complete"
       ]
      },
      {
       "output_type": "stream",
       "stream": "stdout",
       "text": [
        "\r",
        " [***********           23%                       ]  155 of 672 complete"
       ]
      },
      {
       "output_type": "stream",
       "stream": "stdout",
       "text": [
        "\r",
        " [***********           23%                       ]  156 of 672 complete"
       ]
      },
      {
       "output_type": "stream",
       "stream": "stdout",
       "text": [
        "\r",
        " [***********           23%                       ]  157 of 672 complete"
       ]
      },
      {
       "output_type": "stream",
       "stream": "stdout",
       "text": [
        "\r",
        " [************          24%                       ]  158 of 672 complete"
       ]
      },
      {
       "output_type": "stream",
       "stream": "stdout",
       "text": [
        "\r",
        " [************          24%                       ]  159 of 672 complete"
       ]
      },
      {
       "output_type": "stream",
       "stream": "stdout",
       "text": [
        "\r",
        " [************          24%                       ]  160 of 672 complete"
       ]
      },
      {
       "output_type": "stream",
       "stream": "stdout",
       "text": [
        "\r",
        " [************          24%                       ]  161 of 672 complete"
       ]
      },
      {
       "output_type": "stream",
       "stream": "stdout",
       "text": [
        "\r",
        " [************          24%                       ]  162 of 672 complete"
       ]
      },
      {
       "output_type": "stream",
       "stream": "stdout",
       "text": [
        "\r",
        " [************          24%                       ]  163 of 672 complete"
       ]
      },
      {
       "output_type": "stream",
       "stream": "stdout",
       "text": [
        "\r",
        " [************          24%                       ]  164 of 672 complete"
       ]
      },
      {
       "output_type": "stream",
       "stream": "stdout",
       "text": [
        "\r",
        " [************          25%                       ]  165 of 672 complete"
       ]
      },
      {
       "output_type": "stream",
       "stream": "stdout",
       "text": [
        "\r",
        " [************          25%                       ]  166 of 672 complete"
       ]
      },
      {
       "output_type": "stream",
       "stream": "stdout",
       "text": [
        "\r",
        " [************          25%                       ]  167 of 672 complete"
       ]
      },
      {
       "output_type": "stream",
       "stream": "stdout",
       "text": [
        "\r",
        " [************          25%                       ]  168 of 672 complete"
       ]
      },
      {
       "output_type": "stream",
       "stream": "stdout",
       "text": [
        "\r",
        " [************          25%                       ]  169 of 672 complete"
       ]
      },
      {
       "output_type": "stream",
       "stream": "stdout",
       "text": [
        "\r",
        " [************          25%                       ]  170 of 672 complete"
       ]
      },
      {
       "output_type": "stream",
       "stream": "stdout",
       "text": [
        "\r",
        " [************          25%                       ]  171 of 672 complete"
       ]
      },
      {
       "output_type": "stream",
       "stream": "stdout",
       "text": [
        "\r",
        " [************          26%                       ]  172 of 672 complete"
       ]
      },
      {
       "output_type": "stream",
       "stream": "stdout",
       "text": [
        "\r",
        " [************          26%                       ]  173 of 672 complete"
       ]
      },
      {
       "output_type": "stream",
       "stream": "stdout",
       "text": [
        "\r",
        " [************          26%                       ]  174 of 672 complete"
       ]
      },
      {
       "output_type": "stream",
       "stream": "stdout",
       "text": [
        "\r",
        " [************          26%                       ]  175 of 672 complete"
       ]
      },
      {
       "output_type": "stream",
       "stream": "stdout",
       "text": [
        "\r",
        " [************          26%                       ]  176 of 672 complete"
       ]
      },
      {
       "output_type": "stream",
       "stream": "stdout",
       "text": [
        "\r",
        " [************          26%                       ]  177 of 672 complete"
       ]
      },
      {
       "output_type": "stream",
       "stream": "stdout",
       "text": [
        "\r",
        " [************          26%                       ]  178 of 672 complete"
       ]
      },
      {
       "output_type": "stream",
       "stream": "stdout",
       "text": [
        "\r",
        " [*************         27%                       ]  179 of 672 complete"
       ]
      },
      {
       "output_type": "stream",
       "stream": "stdout",
       "text": [
        "\r",
        " [*************         27%                       ]  180 of 672 complete"
       ]
      },
      {
       "output_type": "stream",
       "stream": "stdout",
       "text": [
        "\r",
        " [*************         27%                       ]  181 of 672 complete"
       ]
      },
      {
       "output_type": "stream",
       "stream": "stdout",
       "text": [
        "\r",
        " [*************         27%                       ]  182 of 672 complete"
       ]
      },
      {
       "output_type": "stream",
       "stream": "stdout",
       "text": [
        "\r",
        " [*************         27%                       ]  183 of 672 complete"
       ]
      },
      {
       "output_type": "stream",
       "stream": "stdout",
       "text": [
        "\r",
        " [*************         27%                       ]  184 of 672 complete"
       ]
      },
      {
       "output_type": "stream",
       "stream": "stdout",
       "text": [
        "\r",
        " [*************         28%                       ]  185 of 672 complete"
       ]
      },
      {
       "output_type": "stream",
       "stream": "stdout",
       "text": [
        "\r",
        " [*************         28%                       ]  186 of 672 complete"
       ]
      },
      {
       "output_type": "stream",
       "stream": "stdout",
       "text": [
        "\r",
        " [*************         28%                       ]  187 of 672 complete"
       ]
      },
      {
       "output_type": "stream",
       "stream": "stdout",
       "text": [
        "\r",
        " [*************         28%                       ]  188 of 672 complete"
       ]
      },
      {
       "output_type": "stream",
       "stream": "stdout",
       "text": [
        "\r",
        " [*************         28%                       ]  189 of 672 complete"
       ]
      },
      {
       "output_type": "stream",
       "stream": "stdout",
       "text": [
        "\r",
        " [*************         28%                       ]  190 of 672 complete"
       ]
      },
      {
       "output_type": "stream",
       "stream": "stdout",
       "text": [
        "\r",
        " [*************         28%                       ]  191 of 672 complete"
       ]
      },
      {
       "output_type": "stream",
       "stream": "stdout",
       "text": [
        "\r",
        " [**************        29%                       ]  192 of 672 complete"
       ]
      },
      {
       "output_type": "stream",
       "stream": "stdout",
       "text": [
        "\r",
        " [**************        29%                       ]  193 of 672 complete"
       ]
      },
      {
       "output_type": "stream",
       "stream": "stdout",
       "text": [
        "\r",
        " [**************        29%                       ]  194 of 672 complete"
       ]
      },
      {
       "output_type": "stream",
       "stream": "stdout",
       "text": [
        "\r",
        " [**************        29%                       ]  195 of 672 complete"
       ]
      },
      {
       "output_type": "stream",
       "stream": "stdout",
       "text": [
        "\r",
        " [**************        29%                       ]  196 of 672 complete"
       ]
      },
      {
       "output_type": "stream",
       "stream": "stdout",
       "text": [
        "\r",
        " [**************        29%                       ]  197 of 672 complete"
       ]
      },
      {
       "output_type": "stream",
       "stream": "stdout",
       "text": [
        "\r",
        " [**************        29%                       ]  198 of 672 complete"
       ]
      },
      {
       "output_type": "stream",
       "stream": "stdout",
       "text": [
        "\r",
        " [**************        30%                       ]  199 of 672 complete"
       ]
      },
      {
       "output_type": "stream",
       "stream": "stdout",
       "text": [
        "\r",
        " [**************        30%                       ]  200 of 672 complete"
       ]
      },
      {
       "output_type": "stream",
       "stream": "stdout",
       "text": [
        "\r",
        " [**************        30%                       ]  201 of 672 complete"
       ]
      },
      {
       "output_type": "stream",
       "stream": "stdout",
       "text": [
        "\r",
        " [**************        30%                       ]  202 of 672 complete"
       ]
      },
      {
       "output_type": "stream",
       "stream": "stdout",
       "text": [
        "\r",
        " [**************        30%                       ]  203 of 672 complete"
       ]
      },
      {
       "output_type": "stream",
       "stream": "stdout",
       "text": [
        "\r",
        " [**************        30%                       ]  204 of 672 complete"
       ]
      },
      {
       "output_type": "stream",
       "stream": "stdout",
       "text": [
        "\r",
        " [***************       31%                       ]  205 of 672 complete"
       ]
      },
      {
       "output_type": "stream",
       "stream": "stdout",
       "text": [
        "\r",
        " [***************       31%                       ]  206 of 672 complete"
       ]
      },
      {
       "output_type": "stream",
       "stream": "stdout",
       "text": [
        "\r",
        " [***************       31%                       ]  207 of 672 complete"
       ]
      },
      {
       "output_type": "stream",
       "stream": "stdout",
       "text": [
        "\r",
        " [***************       31%                       ]  208 of 672 complete"
       ]
      },
      {
       "output_type": "stream",
       "stream": "stdout",
       "text": [
        "\r",
        " [***************       31%                       ]  209 of 672 complete"
       ]
      },
      {
       "output_type": "stream",
       "stream": "stdout",
       "text": [
        "\r",
        " [***************       31%                       ]  210 of 672 complete"
       ]
      },
      {
       "output_type": "stream",
       "stream": "stdout",
       "text": [
        "\r",
        " [***************       31%                       ]  211 of 672 complete"
       ]
      },
      {
       "output_type": "stream",
       "stream": "stdout",
       "text": [
        "\r",
        " [***************       32%                       ]  212 of 672 complete"
       ]
      },
      {
       "output_type": "stream",
       "stream": "stdout",
       "text": [
        "\r",
        " [***************       32%                       ]  213 of 672 complete"
       ]
      },
      {
       "output_type": "stream",
       "stream": "stdout",
       "text": [
        "\r",
        " [***************       32%                       ]  214 of 672 complete"
       ]
      },
      {
       "output_type": "stream",
       "stream": "stdout",
       "text": [
        "\r",
        " [***************       32%                       ]  215 of 672 complete"
       ]
      },
      {
       "output_type": "stream",
       "stream": "stdout",
       "text": [
        "\r",
        " [***************       32%                       ]  216 of 672 complete"
       ]
      },
      {
       "output_type": "stream",
       "stream": "stdout",
       "text": [
        "\r",
        " [***************       32%                       ]  217 of 672 complete"
       ]
      },
      {
       "output_type": "stream",
       "stream": "stdout",
       "text": [
        "\r",
        " [***************       32%                       ]  218 of 672 complete"
       ]
      },
      {
       "output_type": "stream",
       "stream": "stdout",
       "text": [
        "\r",
        " [****************      33%                       ]  219 of 672 complete"
       ]
      },
      {
       "output_type": "stream",
       "stream": "stdout",
       "text": [
        "\r",
        " [****************      33%                       ]  220 of 672 complete"
       ]
      },
      {
       "output_type": "stream",
       "stream": "stdout",
       "text": [
        "\r",
        " [****************      33%                       ]  221 of 672 complete"
       ]
      },
      {
       "output_type": "stream",
       "stream": "stdout",
       "text": [
        "\r",
        " [****************      33%                       ]  222 of 672 complete"
       ]
      },
      {
       "output_type": "stream",
       "stream": "stdout",
       "text": [
        "\r",
        " [****************      33%                       ]  223 of 672 complete"
       ]
      },
      {
       "output_type": "stream",
       "stream": "stdout",
       "text": [
        "\r",
        " [****************      33%                       ]  224 of 672 complete"
       ]
      },
      {
       "output_type": "stream",
       "stream": "stdout",
       "text": [
        "\r",
        " [****************      33%                       ]  225 of 672 complete"
       ]
      },
      {
       "output_type": "stream",
       "stream": "stdout",
       "text": [
        "\r",
        " [****************      34%                       ]  226 of 672 complete"
       ]
      },
      {
       "output_type": "stream",
       "stream": "stdout",
       "text": [
        "\r",
        " [****************      34%                       ]  227 of 672 complete"
       ]
      },
      {
       "output_type": "stream",
       "stream": "stdout",
       "text": [
        "\r",
        " [****************      34%                       ]  228 of 672 complete"
       ]
      },
      {
       "output_type": "stream",
       "stream": "stdout",
       "text": [
        "\r",
        " [****************      34%                       ]  229 of 672 complete"
       ]
      },
      {
       "output_type": "stream",
       "stream": "stdout",
       "text": [
        "\r",
        " [****************      34%                       ]  230 of 672 complete"
       ]
      },
      {
       "output_type": "stream",
       "stream": "stdout",
       "text": [
        "\r",
        " [****************      34%                       ]  231 of 672 complete"
       ]
      },
      {
       "output_type": "stream",
       "stream": "stdout",
       "text": [
        "\r",
        " [*****************     35%                       ]  232 of 672 complete"
       ]
      },
      {
       "output_type": "stream",
       "stream": "stdout",
       "text": [
        "\r",
        " [*****************     35%                       ]  233 of 672 complete"
       ]
      },
      {
       "output_type": "stream",
       "stream": "stdout",
       "text": [
        "\r",
        " [*****************     35%                       ]  234 of 672 complete"
       ]
      },
      {
       "output_type": "stream",
       "stream": "stdout",
       "text": [
        "\r",
        " [*****************     35%                       ]  235 of 672 complete"
       ]
      },
      {
       "output_type": "stream",
       "stream": "stdout",
       "text": [
        "\r",
        " [*****************     35%                       ]  236 of 672 complete"
       ]
      },
      {
       "output_type": "stream",
       "stream": "stdout",
       "text": [
        "\r",
        " [*****************     35%                       ]  237 of 672 complete"
       ]
      },
      {
       "output_type": "stream",
       "stream": "stdout",
       "text": [
        "\r",
        " [*****************     35%                       ]  238 of 672 complete"
       ]
      },
      {
       "output_type": "stream",
       "stream": "stdout",
       "text": [
        "\r",
        " [*****************     36%                       ]  239 of 672 complete"
       ]
      },
      {
       "output_type": "stream",
       "stream": "stdout",
       "text": [
        "\r",
        " [*****************     36%                       ]  240 of 672 complete"
       ]
      },
      {
       "output_type": "stream",
       "stream": "stdout",
       "text": [
        "\r",
        " [*****************     36%                       ]  241 of 672 complete"
       ]
      },
      {
       "output_type": "stream",
       "stream": "stdout",
       "text": [
        "\r",
        " [*****************     36%                       ]  242 of 672 complete"
       ]
      },
      {
       "output_type": "stream",
       "stream": "stdout",
       "text": [
        "\r",
        " [*****************     36%                       ]  243 of 672 complete"
       ]
      },
      {
       "output_type": "stream",
       "stream": "stdout",
       "text": [
        "\r",
        " [*****************     36%                       ]  244 of 672 complete"
       ]
      },
      {
       "output_type": "stream",
       "stream": "stdout",
       "text": [
        "\r",
        " [*****************     36%                       ]  245 of 672 complete"
       ]
      },
      {
       "output_type": "stream",
       "stream": "stdout",
       "text": [
        "\r",
        " [******************    37%                       ]  246 of 672 complete"
       ]
      },
      {
       "output_type": "stream",
       "stream": "stdout",
       "text": [
        "\r",
        " [******************    37%                       ]  247 of 672 complete"
       ]
      },
      {
       "output_type": "stream",
       "stream": "stdout",
       "text": [
        "\r",
        " [******************    37%                       ]  248 of 672 complete"
       ]
      },
      {
       "output_type": "stream",
       "stream": "stdout",
       "text": [
        "\r",
        " [******************    37%                       ]  249 of 672 complete"
       ]
      },
      {
       "output_type": "stream",
       "stream": "stdout",
       "text": [
        "\r",
        " [******************    37%                       ]  250 of 672 complete"
       ]
      },
      {
       "output_type": "stream",
       "stream": "stdout",
       "text": [
        "\r",
        " [******************    37%                       ]  251 of 672 complete"
       ]
      },
      {
       "output_type": "stream",
       "stream": "stdout",
       "text": [
        "\r",
        " [******************    38%                       ]  252 of 672 complete"
       ]
      },
      {
       "output_type": "stream",
       "stream": "stdout",
       "text": [
        "\r",
        " [******************    38%                       ]  253 of 672 complete"
       ]
      },
      {
       "output_type": "stream",
       "stream": "stdout",
       "text": [
        "\r",
        " [******************    38%                       ]  254 of 672 complete"
       ]
      },
      {
       "output_type": "stream",
       "stream": "stdout",
       "text": [
        "\r",
        " [******************    38%                       ]  255 of 672 complete"
       ]
      },
      {
       "output_type": "stream",
       "stream": "stdout",
       "text": [
        "\r",
        " [******************    38%                       ]  256 of 672 complete"
       ]
      },
      {
       "output_type": "stream",
       "stream": "stdout",
       "text": [
        "\r",
        " [******************    38%                       ]  257 of 672 complete"
       ]
      },
      {
       "output_type": "stream",
       "stream": "stdout",
       "text": [
        "\r",
        " [******************    38%                       ]  258 of 672 complete"
       ]
      },
      {
       "output_type": "stream",
       "stream": "stdout",
       "text": [
        "\r",
        " [*******************   39%                       ]  259 of 672 complete"
       ]
      },
      {
       "output_type": "stream",
       "stream": "stdout",
       "text": [
        "\r",
        " [*******************   39%                       ]  260 of 672 complete"
       ]
      },
      {
       "output_type": "stream",
       "stream": "stdout",
       "text": [
        "\r",
        " [*******************   39%                       ]  261 of 672 complete"
       ]
      },
      {
       "output_type": "stream",
       "stream": "stdout",
       "text": [
        "\r",
        " [*******************   39%                       ]  262 of 672 complete"
       ]
      },
      {
       "output_type": "stream",
       "stream": "stdout",
       "text": [
        "\r",
        " [*******************   39%                       ]  263 of 672 complete"
       ]
      },
      {
       "output_type": "stream",
       "stream": "stdout",
       "text": [
        "\r",
        " [*******************   39%                       ]  264 of 672 complete"
       ]
      },
      {
       "output_type": "stream",
       "stream": "stdout",
       "text": [
        "\r",
        " [*******************   39%                       ]  265 of 672 complete"
       ]
      },
      {
       "output_type": "stream",
       "stream": "stdout",
       "text": [
        "\r",
        " [*******************   40%                       ]  266 of 672 complete"
       ]
      },
      {
       "output_type": "stream",
       "stream": "stdout",
       "text": [
        "\r",
        " [*******************   40%                       ]  267 of 672 complete"
       ]
      },
      {
       "output_type": "stream",
       "stream": "stdout",
       "text": [
        "\r",
        " [*******************   40%                       ]  268 of 672 complete"
       ]
      },
      {
       "output_type": "stream",
       "stream": "stdout",
       "text": [
        "\r",
        " [*******************   40%                       ]  269 of 672 complete"
       ]
      },
      {
       "output_type": "stream",
       "stream": "stdout",
       "text": [
        "\r",
        " [*******************   40%                       ]  270 of 672 complete"
       ]
      },
      {
       "output_type": "stream",
       "stream": "stdout",
       "text": [
        "\r",
        " [*******************   40%                       ]  271 of 672 complete"
       ]
      },
      {
       "output_type": "stream",
       "stream": "stdout",
       "text": [
        "\r",
        " [*******************   40%                       ]  272 of 672 complete"
       ]
      },
      {
       "output_type": "stream",
       "stream": "stdout",
       "text": [
        "\r",
        " [********************  41%                       ]  273 of 672 complete"
       ]
      },
      {
       "output_type": "stream",
       "stream": "stdout",
       "text": [
        "\r",
        " [********************  41%                       ]  274 of 672 complete"
       ]
      },
      {
       "output_type": "stream",
       "stream": "stdout",
       "text": [
        "\r",
        " [********************  41%                       ]  275 of 672 complete"
       ]
      },
      {
       "output_type": "stream",
       "stream": "stdout",
       "text": [
        "\r",
        " [********************  41%                       ]  276 of 672 complete"
       ]
      },
      {
       "output_type": "stream",
       "stream": "stdout",
       "text": [
        "\r",
        " [********************  41%                       ]  277 of 672 complete"
       ]
      },
      {
       "output_type": "stream",
       "stream": "stdout",
       "text": [
        "\r",
        " [********************  41%                       ]  278 of 672 complete"
       ]
      },
      {
       "output_type": "stream",
       "stream": "stdout",
       "text": [
        "\r",
        " [********************  42%                       ]  279 of 672 complete"
       ]
      },
      {
       "output_type": "stream",
       "stream": "stdout",
       "text": [
        "\r",
        " [********************  42%                       ]  280 of 672 complete"
       ]
      },
      {
       "output_type": "stream",
       "stream": "stdout",
       "text": [
        "\r",
        " [********************  42%                       ]  281 of 672 complete"
       ]
      },
      {
       "output_type": "stream",
       "stream": "stdout",
       "text": [
        "\r",
        " [********************  42%                       ]  282 of 672 complete"
       ]
      },
      {
       "output_type": "stream",
       "stream": "stdout",
       "text": [
        "\r",
        " [********************  42%                       ]  283 of 672 complete"
       ]
      },
      {
       "output_type": "stream",
       "stream": "stdout",
       "text": [
        "\r",
        " [********************  42%                       ]  284 of 672 complete"
       ]
      },
      {
       "output_type": "stream",
       "stream": "stdout",
       "text": [
        "\r",
        " [********************  42%                       ]  285 of 672 complete"
       ]
      },
      {
       "output_type": "stream",
       "stream": "stdout",
       "text": [
        "\r",
        " [********************* 43%                       ]  286 of 672 complete"
       ]
      },
      {
       "output_type": "stream",
       "stream": "stdout",
       "text": [
        "\r",
        " [********************* 43%                       ]  287 of 672 complete"
       ]
      },
      {
       "output_type": "stream",
       "stream": "stdout",
       "text": [
        "\r",
        " [********************* 43%                       ]  288 of 672 complete"
       ]
      },
      {
       "output_type": "stream",
       "stream": "stdout",
       "text": [
        "\r",
        " [********************* 43%                       ]  289 of 672 complete"
       ]
      },
      {
       "output_type": "stream",
       "stream": "stdout",
       "text": [
        "\r",
        " [********************* 43%                       ]  290 of 672 complete"
       ]
      },
      {
       "output_type": "stream",
       "stream": "stdout",
       "text": [
        "\r",
        " [********************* 43%                       ]  291 of 672 complete"
       ]
      },
      {
       "output_type": "stream",
       "stream": "stdout",
       "text": [
        "\r",
        " [********************* 43%                       ]  292 of 672 complete"
       ]
      },
      {
       "output_type": "stream",
       "stream": "stdout",
       "text": [
        "\r",
        " [********************* 44%                       ]  293 of 672 complete"
       ]
      },
      {
       "output_type": "stream",
       "stream": "stdout",
       "text": [
        "\r",
        " [********************* 44%                       ]  294 of 672 complete"
       ]
      },
      {
       "output_type": "stream",
       "stream": "stdout",
       "text": [
        "\r",
        " [********************* 44%                       ]  295 of 672 complete"
       ]
      },
      {
       "output_type": "stream",
       "stream": "stdout",
       "text": [
        "\r",
        " [********************* 44%                       ]  296 of 672 complete"
       ]
      },
      {
       "output_type": "stream",
       "stream": "stdout",
       "text": [
        "\r",
        " [********************* 44%                       ]  297 of 672 complete"
       ]
      },
      {
       "output_type": "stream",
       "stream": "stdout",
       "text": [
        "\r",
        " [********************* 44%                       ]  298 of 672 complete"
       ]
      },
      {
       "output_type": "stream",
       "stream": "stdout",
       "text": [
        "\r",
        " [********************* 44%                       ]  299 of 672 complete"
       ]
      },
      {
       "output_type": "stream",
       "stream": "stdout",
       "text": [
        "\r",
        " [**********************45%                       ]  300 of 672 complete"
       ]
      },
      {
       "output_type": "stream",
       "stream": "stdout",
       "text": [
        "\r",
        " [**********************45%                       ]  301 of 672 complete"
       ]
      },
      {
       "output_type": "stream",
       "stream": "stdout",
       "text": [
        "\r",
        " [**********************45%                       ]  302 of 672 complete"
       ]
      },
      {
       "output_type": "stream",
       "stream": "stdout",
       "text": [
        "\r",
        " [**********************45%                       ]  303 of 672 complete"
       ]
      },
      {
       "output_type": "stream",
       "stream": "stdout",
       "text": [
        "\r",
        " [**********************45%                       ]  304 of 672 complete"
       ]
      },
      {
       "output_type": "stream",
       "stream": "stdout",
       "text": [
        "\r",
        " [**********************45%                       ]  305 of 672 complete"
       ]
      },
      {
       "output_type": "stream",
       "stream": "stdout",
       "text": [
        "\r",
        " [**********************46%                       ]  306 of 672 complete"
       ]
      },
      {
       "output_type": "stream",
       "stream": "stdout",
       "text": [
        "\r",
        " [**********************46%                       ]  307 of 672 complete"
       ]
      },
      {
       "output_type": "stream",
       "stream": "stdout",
       "text": [
        "\r",
        " [**********************46%                       ]  308 of 672 complete"
       ]
      },
      {
       "output_type": "stream",
       "stream": "stdout",
       "text": [
        "\r",
        " [**********************46%                       ]  309 of 672 complete"
       ]
      },
      {
       "output_type": "stream",
       "stream": "stdout",
       "text": [
        "\r",
        " [**********************46%                       ]  310 of 672 complete"
       ]
      },
      {
       "output_type": "stream",
       "stream": "stdout",
       "text": [
        "\r",
        " [**********************46%                       ]  311 of 672 complete"
       ]
      },
      {
       "output_type": "stream",
       "stream": "stdout",
       "text": [
        "\r",
        " [**********************46%                       ]  312 of 672 complete"
       ]
      },
      {
       "output_type": "stream",
       "stream": "stdout",
       "text": [
        "\r",
        " [**********************47%                       ]  313 of 672 complete"
       ]
      },
      {
       "output_type": "stream",
       "stream": "stdout",
       "text": [
        "\r",
        " [**********************47%                       ]  314 of 672 complete"
       ]
      },
      {
       "output_type": "stream",
       "stream": "stdout",
       "text": [
        "\r",
        " [**********************47%                       ]  315 of 672 complete"
       ]
      },
      {
       "output_type": "stream",
       "stream": "stdout",
       "text": [
        "\r",
        " [**********************47%                       ]  316 of 672 complete"
       ]
      },
      {
       "output_type": "stream",
       "stream": "stdout",
       "text": [
        "\r",
        " [**********************47%                       ]  317 of 672 complete"
       ]
      },
      {
       "output_type": "stream",
       "stream": "stdout",
       "text": [
        "\r",
        " [**********************47%                       ]  318 of 672 complete"
       ]
      },
      {
       "output_type": "stream",
       "stream": "stdout",
       "text": [
        "\r",
        " [**********************47%                       ]  319 of 672 complete"
       ]
      },
      {
       "output_type": "stream",
       "stream": "stdout",
       "text": [
        "\r",
        " [**********************48%                       ]  320 of 672 complete"
       ]
      },
      {
       "output_type": "stream",
       "stream": "stdout",
       "text": [
        "\r",
        " [**********************48%                       ]  321 of 672 complete"
       ]
      },
      {
       "output_type": "stream",
       "stream": "stdout",
       "text": [
        "\r",
        " [**********************48%                       ]  322 of 672 complete"
       ]
      },
      {
       "output_type": "stream",
       "stream": "stdout",
       "text": [
        "\r",
        " [**********************48%                       ]  323 of 672 complete"
       ]
      },
      {
       "output_type": "stream",
       "stream": "stdout",
       "text": [
        "\r",
        " [**********************48%                       ]  324 of 672 complete"
       ]
      },
      {
       "output_type": "stream",
       "stream": "stdout",
       "text": [
        "\r",
        " [**********************48%                       ]  325 of 672 complete"
       ]
      },
      {
       "output_type": "stream",
       "stream": "stdout",
       "text": [
        "\r",
        " [**********************49%                       ]  326 of 672 complete"
       ]
      },
      {
       "output_type": "stream",
       "stream": "stdout",
       "text": [
        "\r",
        " [**********************49%                       ]  327 of 672 complete"
       ]
      },
      {
       "output_type": "stream",
       "stream": "stdout",
       "text": [
        "\r",
        " [**********************49%                       ]  328 of 672 complete"
       ]
      },
      {
       "output_type": "stream",
       "stream": "stdout",
       "text": [
        "\r",
        " [**********************49%                       ]  329 of 672 complete"
       ]
      },
      {
       "output_type": "stream",
       "stream": "stdout",
       "text": [
        "\r",
        " [**********************49%                       ]  330 of 672 complete"
       ]
      },
      {
       "output_type": "stream",
       "stream": "stdout",
       "text": [
        "\r",
        " [**********************49%                       ]  331 of 672 complete"
       ]
      },
      {
       "output_type": "stream",
       "stream": "stdout",
       "text": [
        "\r",
        " [**********************49%                       ]  332 of 672 complete"
       ]
      },
      {
       "output_type": "stream",
       "stream": "stdout",
       "text": [
        "\r",
        " [**********************50%                       ]  333 of 672 complete"
       ]
      },
      {
       "output_type": "stream",
       "stream": "stdout",
       "text": [
        "\r",
        " [**********************50%                       ]  334 of 672 complete"
       ]
      },
      {
       "output_type": "stream",
       "stream": "stdout",
       "text": [
        "\r",
        " [**********************50%                       ]  335 of 672 complete"
       ]
      },
      {
       "output_type": "stream",
       "stream": "stdout",
       "text": [
        "\r",
        " [**********************50%                       ]  336 of 672 complete"
       ]
      },
      {
       "output_type": "stream",
       "stream": "stdout",
       "text": [
        "\r",
        " [**********************50%                       ]  337 of 672 complete"
       ]
      },
      {
       "output_type": "stream",
       "stream": "stdout",
       "text": [
        "\r",
        " [**********************50%                       ]  338 of 672 complete"
       ]
      },
      {
       "output_type": "stream",
       "stream": "stdout",
       "text": [
        "\r",
        " [**********************50%                       ]  339 of 672 complete"
       ]
      },
      {
       "output_type": "stream",
       "stream": "stdout",
       "text": [
        "\r",
        " [**********************51%                       ]  340 of 672 complete"
       ]
      },
      {
       "output_type": "stream",
       "stream": "stdout",
       "text": [
        "\r",
        " [**********************51%                       ]  341 of 672 complete"
       ]
      },
      {
       "output_type": "stream",
       "stream": "stdout",
       "text": [
        "\r",
        " [**********************51%                       ]  342 of 672 complete"
       ]
      },
      {
       "output_type": "stream",
       "stream": "stdout",
       "text": [
        "\r",
        " [**********************51%                       ]  343 of 672 complete"
       ]
      },
      {
       "output_type": "stream",
       "stream": "stdout",
       "text": [
        "\r",
        " [**********************51%                       ]  344 of 672 complete"
       ]
      },
      {
       "output_type": "stream",
       "stream": "stdout",
       "text": [
        "\r",
        " [**********************51%                       ]  345 of 672 complete"
       ]
      },
      {
       "output_type": "stream",
       "stream": "stdout",
       "text": [
        "\r",
        " [**********************51%                       ]  346 of 672 complete"
       ]
      },
      {
       "output_type": "stream",
       "stream": "stdout",
       "text": [
        "\r",
        " [**********************52%                       ]  347 of 672 complete"
       ]
      },
      {
       "output_type": "stream",
       "stream": "stdout",
       "text": [
        "\r",
        " [**********************52%                       ]  348 of 672 complete"
       ]
      },
      {
       "output_type": "stream",
       "stream": "stdout",
       "text": [
        "\r",
        " [**********************52%                       ]  349 of 672 complete"
       ]
      },
      {
       "output_type": "stream",
       "stream": "stdout",
       "text": [
        "\r",
        " [**********************52%                       ]  350 of 672 complete"
       ]
      },
      {
       "output_type": "stream",
       "stream": "stdout",
       "text": [
        "\r",
        " [**********************52%                       ]  351 of 672 complete"
       ]
      },
      {
       "output_type": "stream",
       "stream": "stdout",
       "text": [
        "\r",
        " [**********************52%                       ]  352 of 672 complete"
       ]
      },
      {
       "output_type": "stream",
       "stream": "stdout",
       "text": [
        "\r",
        " [**********************53%                       ]  353 of 672 complete"
       ]
      },
      {
       "output_type": "stream",
       "stream": "stdout",
       "text": [
        "\r",
        " [**********************53%                       ]  354 of 672 complete"
       ]
      },
      {
       "output_type": "stream",
       "stream": "stdout",
       "text": [
        "\r",
        " [**********************53%                       ]  355 of 672 complete"
       ]
      },
      {
       "output_type": "stream",
       "stream": "stdout",
       "text": [
        "\r",
        " [**********************53%                       ]  356 of 672 complete"
       ]
      },
      {
       "output_type": "stream",
       "stream": "stdout",
       "text": [
        "\r",
        " [**********************53%                       ]  357 of 672 complete"
       ]
      },
      {
       "output_type": "stream",
       "stream": "stdout",
       "text": [
        "\r",
        " [**********************53%                       ]  358 of 672 complete"
       ]
      },
      {
       "output_type": "stream",
       "stream": "stdout",
       "text": [
        "\r",
        " [**********************53%                       ]  359 of 672 complete"
       ]
      },
      {
       "output_type": "stream",
       "stream": "stdout",
       "text": [
        "\r",
        " [**********************54%*                      ]  360 of 672 complete"
       ]
      },
      {
       "output_type": "stream",
       "stream": "stdout",
       "text": [
        "\r",
        " [**********************54%*                      ]  361 of 672 complete"
       ]
      },
      {
       "output_type": "stream",
       "stream": "stdout",
       "text": [
        "\r",
        " [**********************54%*                      ]  362 of 672 complete"
       ]
      },
      {
       "output_type": "stream",
       "stream": "stdout",
       "text": [
        "\r",
        " [**********************54%*                      ]  363 of 672 complete"
       ]
      },
      {
       "output_type": "stream",
       "stream": "stdout",
       "text": [
        "\r",
        " [**********************54%*                      ]  364 of 672 complete"
       ]
      },
      {
       "output_type": "stream",
       "stream": "stdout",
       "text": [
        "\r",
        " [**********************54%*                      ]  365 of 672 complete"
       ]
      },
      {
       "output_type": "stream",
       "stream": "stdout",
       "text": [
        "\r",
        " [**********************54%*                      ]  366 of 672 complete"
       ]
      },
      {
       "output_type": "stream",
       "stream": "stdout",
       "text": [
        "\r",
        " [**********************55%*                      ]  367 of 672 complete"
       ]
      },
      {
       "output_type": "stream",
       "stream": "stdout",
       "text": [
        "\r",
        " [**********************55%*                      ]  368 of 672 complete"
       ]
      },
      {
       "output_type": "stream",
       "stream": "stdout",
       "text": [
        "\r",
        " [**********************55%*                      ]  369 of 672 complete"
       ]
      },
      {
       "output_type": "stream",
       "stream": "stdout",
       "text": [
        "\r",
        " [**********************55%*                      ]  370 of 672 complete"
       ]
      },
      {
       "output_type": "stream",
       "stream": "stdout",
       "text": [
        "\r",
        " [**********************55%*                      ]  371 of 672 complete"
       ]
      },
      {
       "output_type": "stream",
       "stream": "stdout",
       "text": [
        "\r",
        " [**********************55%*                      ]  372 of 672 complete"
       ]
      },
      {
       "output_type": "stream",
       "stream": "stdout",
       "text": [
        "\r",
        " [**********************56%**                     ]  373 of 672 complete"
       ]
      },
      {
       "output_type": "stream",
       "stream": "stdout",
       "text": [
        "\r",
        " [**********************56%**                     ]  374 of 672 complete"
       ]
      },
      {
       "output_type": "stream",
       "stream": "stdout",
       "text": [
        "\r",
        " [**********************56%**                     ]  375 of 672 complete"
       ]
      },
      {
       "output_type": "stream",
       "stream": "stdout",
       "text": [
        "\r",
        " [**********************56%**                     ]  376 of 672 complete"
       ]
      },
      {
       "output_type": "stream",
       "stream": "stdout",
       "text": [
        "\r",
        " [**********************56%**                     ]  377 of 672 complete"
       ]
      },
      {
       "output_type": "stream",
       "stream": "stdout",
       "text": [
        "\r",
        " [**********************56%**                     ]  378 of 672 complete"
       ]
      },
      {
       "output_type": "stream",
       "stream": "stdout",
       "text": [
        "\r",
        " [**********************56%**                     ]  379 of 672 complete"
       ]
      },
      {
       "output_type": "stream",
       "stream": "stdout",
       "text": [
        "\r",
        " [**********************57%**                     ]  380 of 672 complete"
       ]
      },
      {
       "output_type": "stream",
       "stream": "stdout",
       "text": [
        "\r",
        " [**********************57%**                     ]  381 of 672 complete"
       ]
      },
      {
       "output_type": "stream",
       "stream": "stdout",
       "text": [
        "\r",
        " [**********************57%**                     ]  382 of 672 complete"
       ]
      },
      {
       "output_type": "stream",
       "stream": "stdout",
       "text": [
        "\r",
        " [**********************57%**                     ]  383 of 672 complete"
       ]
      },
      {
       "output_type": "stream",
       "stream": "stdout",
       "text": [
        "\r",
        " [**********************57%**                     ]  384 of 672 complete"
       ]
      },
      {
       "output_type": "stream",
       "stream": "stdout",
       "text": [
        "\r",
        " [**********************57%**                     ]  385 of 672 complete"
       ]
      },
      {
       "output_type": "stream",
       "stream": "stdout",
       "text": [
        "\r",
        " [**********************57%**                     ]  386 of 672 complete"
       ]
      },
      {
       "output_type": "stream",
       "stream": "stdout",
       "text": [
        "\r",
        " [**********************58%***                    ]  387 of 672 complete"
       ]
      },
      {
       "output_type": "stream",
       "stream": "stdout",
       "text": [
        "\r",
        " [**********************58%***                    ]  388 of 672 complete"
       ]
      },
      {
       "output_type": "stream",
       "stream": "stdout",
       "text": [
        "\r",
        " [**********************58%***                    ]  389 of 672 complete"
       ]
      },
      {
       "output_type": "stream",
       "stream": "stdout",
       "text": [
        "\r",
        " [**********************58%***                    ]  390 of 672 complete"
       ]
      },
      {
       "output_type": "stream",
       "stream": "stdout",
       "text": [
        "\r",
        " [**********************58%***                    ]  391 of 672 complete"
       ]
      },
      {
       "output_type": "stream",
       "stream": "stdout",
       "text": [
        "\r",
        " [**********************58%***                    ]  392 of 672 complete"
       ]
      },
      {
       "output_type": "stream",
       "stream": "stdout",
       "text": [
        "\r",
        " [**********************58%***                    ]  393 of 672 complete"
       ]
      },
      {
       "output_type": "stream",
       "stream": "stdout",
       "text": [
        "\r",
        " [**********************59%***                    ]  394 of 672 complete"
       ]
      },
      {
       "output_type": "stream",
       "stream": "stdout",
       "text": [
        "\r",
        " [**********************59%***                    ]  395 of 672 complete"
       ]
      },
      {
       "output_type": "stream",
       "stream": "stdout",
       "text": [
        "\r",
        " [**********************59%***                    ]  396 of 672 complete"
       ]
      },
      {
       "output_type": "stream",
       "stream": "stdout",
       "text": [
        "\r",
        " [**********************59%***                    ]  397 of 672 complete"
       ]
      },
      {
       "output_type": "stream",
       "stream": "stdout",
       "text": [
        "\r",
        " [**********************59%***                    ]  398 of 672 complete"
       ]
      },
      {
       "output_type": "stream",
       "stream": "stdout",
       "text": [
        "\r",
        " [**********************59%***                    ]  399 of 672 complete"
       ]
      },
      {
       "output_type": "stream",
       "stream": "stdout",
       "text": [
        "\r",
        " [**********************60%****                   ]  400 of 672 complete"
       ]
      },
      {
       "output_type": "stream",
       "stream": "stdout",
       "text": [
        "\r",
        " [**********************60%****                   ]  401 of 672 complete"
       ]
      },
      {
       "output_type": "stream",
       "stream": "stdout",
       "text": [
        "\r",
        " [**********************60%****                   ]  402 of 672 complete"
       ]
      },
      {
       "output_type": "stream",
       "stream": "stdout",
       "text": [
        "\r",
        " [**********************60%****                   ]  403 of 672 complete"
       ]
      },
      {
       "output_type": "stream",
       "stream": "stdout",
       "text": [
        "\r",
        " [**********************60%****                   ]  404 of 672 complete"
       ]
      },
      {
       "output_type": "stream",
       "stream": "stdout",
       "text": [
        "\r",
        " [**********************60%****                   ]  405 of 672 complete"
       ]
      },
      {
       "output_type": "stream",
       "stream": "stdout",
       "text": [
        "\r",
        " [**********************60%****                   ]  406 of 672 complete"
       ]
      },
      {
       "output_type": "stream",
       "stream": "stdout",
       "text": [
        "\r",
        " [**********************61%****                   ]  407 of 672 complete"
       ]
      },
      {
       "output_type": "stream",
       "stream": "stdout",
       "text": [
        "\r",
        " [**********************61%****                   ]  408 of 672 complete"
       ]
      },
      {
       "output_type": "stream",
       "stream": "stdout",
       "text": [
        "\r",
        " [**********************61%****                   ]  409 of 672 complete"
       ]
      },
      {
       "output_type": "stream",
       "stream": "stdout",
       "text": [
        "\r",
        " [**********************61%****                   ]  410 of 672 complete"
       ]
      },
      {
       "output_type": "stream",
       "stream": "stdout",
       "text": [
        "\r",
        " [**********************61%****                   ]  411 of 672 complete"
       ]
      },
      {
       "output_type": "stream",
       "stream": "stdout",
       "text": [
        "\r",
        " [**********************61%****                   ]  412 of 672 complete"
       ]
      },
      {
       "output_type": "stream",
       "stream": "stdout",
       "text": [
        "\r",
        " [**********************61%****                   ]  413 of 672 complete"
       ]
      },
      {
       "output_type": "stream",
       "stream": "stdout",
       "text": [
        "\r",
        " [**********************62%*****                  ]  414 of 672 complete"
       ]
      },
      {
       "output_type": "stream",
       "stream": "stdout",
       "text": [
        "\r",
        " [**********************62%*****                  ]  415 of 672 complete"
       ]
      },
      {
       "output_type": "stream",
       "stream": "stdout",
       "text": [
        "\r",
        " [**********************62%*****                  ]  416 of 672 complete"
       ]
      },
      {
       "output_type": "stream",
       "stream": "stdout",
       "text": [
        "\r",
        " [**********************62%*****                  ]  417 of 672 complete"
       ]
      },
      {
       "output_type": "stream",
       "stream": "stdout",
       "text": [
        "/luna4/u/marks/feidata/DIV:opsL1A/data/2013021808_L1A.TAB\n",
        "u'no item named bb_1_temp_interp'\n",
        "\r",
        " [**********************62%*****                  ]  418 of 672 complete"
       ]
      },
      {
       "output_type": "stream",
       "stream": "stdout",
       "text": [
        "\r",
        " [**********************62%*****                  ]  419 of 672 complete"
       ]
      },
      {
       "output_type": "stream",
       "stream": "stdout",
       "text": [
        "/luna4/u/marks/feidata/DIV:opsL1A/data/2013021810_L1A.TAB\n",
        "u'no item named bb_1_temp_interp'\n",
        "\r",
        " [**********************63%*****                  ]  420 of 672 complete"
       ]
      },
      {
       "output_type": "stream",
       "stream": "stdout",
       "text": [
        "\r",
        " [**********************63%*****                  ]  421 of 672 complete"
       ]
      },
      {
       "output_type": "stream",
       "stream": "stdout",
       "text": [
        "\r",
        " [**********************63%*****                  ]  422 of 672 complete"
       ]
      },
      {
       "output_type": "stream",
       "stream": "stdout",
       "text": [
        "\r",
        " [**********************63%*****                  ]  423 of 672 complete"
       ]
      },
      {
       "output_type": "stream",
       "stream": "stdout",
       "text": [
        "\r",
        " [**********************63%*****                  ]  424 of 672 complete"
       ]
      },
      {
       "output_type": "stream",
       "stream": "stdout",
       "text": [
        "\r",
        " [**********************63%*****                  ]  425 of 672 complete"
       ]
      },
      {
       "output_type": "stream",
       "stream": "stdout",
       "text": [
        "\r",
        " [**********************63%*****                  ]  426 of 672 complete"
       ]
      },
      {
       "output_type": "stream",
       "stream": "stdout",
       "text": [
        "\r",
        " [**********************64%******                 ]  427 of 672 complete"
       ]
      },
      {
       "output_type": "stream",
       "stream": "stdout",
       "text": [
        "\r",
        " [**********************64%******                 ]  428 of 672 complete"
       ]
      },
      {
       "output_type": "stream",
       "stream": "stdout",
       "text": [
        "\r",
        " [**********************64%******                 ]  429 of 672 complete"
       ]
      },
      {
       "output_type": "stream",
       "stream": "stdout",
       "text": [
        "\r",
        " [**********************64%******                 ]  430 of 672 complete"
       ]
      },
      {
       "output_type": "stream",
       "stream": "stdout",
       "text": [
        "\r",
        " [**********************64%******                 ]  431 of 672 complete"
       ]
      },
      {
       "output_type": "stream",
       "stream": "stdout",
       "text": [
        "\r",
        " [**********************64%******                 ]  432 of 672 complete"
       ]
      },
      {
       "output_type": "stream",
       "stream": "stdout",
       "text": [
        "\r",
        " [**********************64%******                 ]  433 of 672 complete"
       ]
      },
      {
       "output_type": "stream",
       "stream": "stdout",
       "text": [
        "\r",
        " [**********************65%******                 ]  434 of 672 complete"
       ]
      },
      {
       "output_type": "stream",
       "stream": "stdout",
       "text": [
        "\r",
        " [**********************65%******                 ]  435 of 672 complete"
       ]
      },
      {
       "output_type": "stream",
       "stream": "stdout",
       "text": [
        "\r",
        " [**********************65%******                 ]  436 of 672 complete"
       ]
      },
      {
       "output_type": "stream",
       "stream": "stdout",
       "text": [
        "\r",
        " [**********************65%******                 ]  437 of 672 complete"
       ]
      },
      {
       "output_type": "stream",
       "stream": "stdout",
       "text": [
        "\r",
        " [**********************65%******                 ]  438 of 672 complete"
       ]
      },
      {
       "output_type": "stream",
       "stream": "stdout",
       "text": [
        "\r",
        " [**********************65%******                 ]  439 of 672 complete"
       ]
      },
      {
       "output_type": "stream",
       "stream": "stdout",
       "text": [
        "\r",
        " [**********************65%******                 ]  440 of 672 complete"
       ]
      },
      {
       "output_type": "stream",
       "stream": "stdout",
       "text": [
        "\r",
        " [**********************66%*******                ]  441 of 672 complete"
       ]
      },
      {
       "output_type": "stream",
       "stream": "stdout",
       "text": [
        "\r",
        " [**********************66%*******                ]  442 of 672 complete"
       ]
      },
      {
       "output_type": "stream",
       "stream": "stdout",
       "text": [
        "\r",
        " [**********************66%*******                ]  443 of 672 complete"
       ]
      },
      {
       "output_type": "stream",
       "stream": "stdout",
       "text": [
        "\r",
        " [**********************66%*******                ]  444 of 672 complete"
       ]
      },
      {
       "output_type": "stream",
       "stream": "stdout",
       "text": [
        "\r",
        " [**********************66%*******                ]  445 of 672 complete"
       ]
      },
      {
       "output_type": "stream",
       "stream": "stdout",
       "text": [
        "\r",
        " [**********************66%*******                ]  446 of 672 complete"
       ]
      },
      {
       "output_type": "stream",
       "stream": "stdout",
       "text": [
        "\r",
        " [**********************67%*******                ]  447 of 672 complete"
       ]
      },
      {
       "output_type": "stream",
       "stream": "stdout",
       "text": [
        "\r",
        " [**********************67%*******                ]  448 of 672 complete"
       ]
      },
      {
       "output_type": "stream",
       "stream": "stdout",
       "text": [
        "\r",
        " [**********************67%*******                ]  449 of 672 complete"
       ]
      },
      {
       "output_type": "stream",
       "stream": "stdout",
       "text": [
        "\r",
        " [**********************67%*******                ]  450 of 672 complete"
       ]
      },
      {
       "output_type": "stream",
       "stream": "stdout",
       "text": [
        "\r",
        " [**********************67%*******                ]  451 of 672 complete"
       ]
      },
      {
       "output_type": "stream",
       "stream": "stdout",
       "text": [
        "\r",
        " [**********************67%*******                ]  452 of 672 complete"
       ]
      },
      {
       "output_type": "stream",
       "stream": "stdout",
       "text": [
        "\r",
        " [**********************67%*******                ]  453 of 672 complete"
       ]
      },
      {
       "output_type": "stream",
       "stream": "stdout",
       "text": [
        "\r",
        " [**********************68%********               ]  454 of 672 complete"
       ]
      },
      {
       "output_type": "stream",
       "stream": "stdout",
       "text": [
        "/luna4/u/marks/feidata/DIV:opsL1A/data/2013021921_L1A.TAB\n",
        "u'no item named bb_1_temp_interp'\n",
        "\r",
        " [**********************68%********               ]  455 of 672 complete"
       ]
      },
      {
       "output_type": "stream",
       "stream": "stdout",
       "text": [
        "\r",
        " [**********************68%********               ]  456 of 672 complete"
       ]
      },
      {
       "output_type": "stream",
       "stream": "stdout",
       "text": [
        "\r",
        " [**********************68%********               ]  457 of 672 complete"
       ]
      },
      {
       "output_type": "stream",
       "stream": "stdout",
       "text": [
        "\r",
        " [**********************68%********               ]  458 of 672 complete"
       ]
      },
      {
       "output_type": "stream",
       "stream": "stdout",
       "text": [
        "\r",
        " [**********************68%********               ]  459 of 672 complete"
       ]
      },
      {
       "output_type": "stream",
       "stream": "stdout",
       "text": [
        "\r",
        " [**********************68%********               ]  460 of 672 complete"
       ]
      },
      {
       "output_type": "stream",
       "stream": "stdout",
       "text": [
        "\r",
        " [**********************69%********               ]  461 of 672 complete"
       ]
      },
      {
       "output_type": "stream",
       "stream": "stdout",
       "text": [
        "\r",
        " [**********************69%********               ]  462 of 672 complete"
       ]
      },
      {
       "output_type": "stream",
       "stream": "stdout",
       "text": [
        "\r",
        " [**********************69%********               ]  463 of 672 complete"
       ]
      },
      {
       "output_type": "stream",
       "stream": "stdout",
       "text": [
        "\r",
        " [**********************69%********               ]  464 of 672 complete"
       ]
      },
      {
       "output_type": "stream",
       "stream": "stdout",
       "text": [
        "\r",
        " [**********************69%********               ]  465 of 672 complete"
       ]
      },
      {
       "output_type": "stream",
       "stream": "stdout",
       "text": [
        "\r",
        " [**********************69%********               ]  466 of 672 complete"
       ]
      },
      {
       "output_type": "stream",
       "stream": "stdout",
       "text": [
        "\r",
        " [**********************69%********               ]  467 of 672 complete"
       ]
      },
      {
       "output_type": "stream",
       "stream": "stdout",
       "text": [
        "\r",
        " [**********************70%*********              ]  468 of 672 complete"
       ]
      },
      {
       "output_type": "stream",
       "stream": "stdout",
       "text": [
        "\r",
        " [**********************70%*********              ]  469 of 672 complete"
       ]
      },
      {
       "output_type": "stream",
       "stream": "stdout",
       "text": [
        "\r",
        " [**********************70%*********              ]  470 of 672 complete"
       ]
      },
      {
       "output_type": "stream",
       "stream": "stdout",
       "text": [
        "\r",
        " [**********************70%*********              ]  471 of 672 complete"
       ]
      },
      {
       "output_type": "stream",
       "stream": "stdout",
       "text": [
        "\r",
        " [**********************70%*********              ]  472 of 672 complete"
       ]
      },
      {
       "output_type": "stream",
       "stream": "stdout",
       "text": [
        "\r",
        " [**********************70%*********              ]  473 of 672 complete"
       ]
      },
      {
       "output_type": "stream",
       "stream": "stdout",
       "text": [
        "\r",
        " [**********************71%*********              ]  474 of 672 complete"
       ]
      },
      {
       "output_type": "stream",
       "stream": "stdout",
       "text": [
        "\r",
        " [**********************71%*********              ]  475 of 672 complete"
       ]
      },
      {
       "output_type": "stream",
       "stream": "stdout",
       "text": [
        "\r",
        " [**********************71%*********              ]  476 of 672 complete"
       ]
      },
      {
       "output_type": "stream",
       "stream": "stdout",
       "text": [
        "\r",
        " [**********************71%*********              ]  477 of 672 complete"
       ]
      },
      {
       "output_type": "stream",
       "stream": "stdout",
       "text": [
        "\r",
        " [**********************71%*********              ]  478 of 672 complete"
       ]
      },
      {
       "output_type": "stream",
       "stream": "stdout",
       "text": [
        "\r",
        " [**********************71%*********              ]  479 of 672 complete"
       ]
      },
      {
       "output_type": "stream",
       "stream": "stdout",
       "text": [
        "\r",
        " [**********************71%*********              ]  480 of 672 complete"
       ]
      },
      {
       "output_type": "stream",
       "stream": "stdout",
       "text": [
        "\r",
        " [**********************72%**********             ]  481 of 672 complete"
       ]
      },
      {
       "output_type": "stream",
       "stream": "stdout",
       "text": [
        "\r",
        " [**********************72%**********             ]  482 of 672 complete"
       ]
      },
      {
       "output_type": "stream",
       "stream": "stdout",
       "text": [
        "\r",
        " [**********************72%**********             ]  483 of 672 complete"
       ]
      },
      {
       "output_type": "stream",
       "stream": "stdout",
       "text": [
        "\r",
        " [**********************72%**********             ]  484 of 672 complete"
       ]
      },
      {
       "output_type": "stream",
       "stream": "stdout",
       "text": [
        "\r",
        " [**********************72%**********             ]  485 of 672 complete"
       ]
      },
      {
       "output_type": "stream",
       "stream": "stdout",
       "text": [
        "\r",
        " [**********************72%**********             ]  486 of 672 complete"
       ]
      },
      {
       "output_type": "stream",
       "stream": "stdout",
       "text": [
        "\r",
        " [**********************72%**********             ]  487 of 672 complete"
       ]
      },
      {
       "output_type": "stream",
       "stream": "stdout",
       "text": [
        "\r",
        " [**********************73%**********             ]  488 of 672 complete"
       ]
      },
      {
       "output_type": "stream",
       "stream": "stdout",
       "text": [
        "\r",
        " [**********************73%**********             ]  489 of 672 complete"
       ]
      },
      {
       "output_type": "stream",
       "stream": "stdout",
       "text": [
        "\r",
        " [**********************73%**********             ]  490 of 672 complete"
       ]
      },
      {
       "output_type": "stream",
       "stream": "stdout",
       "text": [
        "\r",
        " [**********************73%**********             ]  491 of 672 complete"
       ]
      },
      {
       "output_type": "stream",
       "stream": "stdout",
       "text": [
        "\r",
        " [**********************73%**********             ]  492 of 672 complete"
       ]
      },
      {
       "output_type": "stream",
       "stream": "stdout",
       "text": [
        "\r",
        " [**********************73%**********             ]  493 of 672 complete"
       ]
      },
      {
       "output_type": "stream",
       "stream": "stdout",
       "text": [
        "\r",
        " [**********************74%***********            ]  494 of 672 complete"
       ]
      },
      {
       "output_type": "stream",
       "stream": "stdout",
       "text": [
        "\r",
        " [**********************74%***********            ]  495 of 672 complete"
       ]
      },
      {
       "output_type": "stream",
       "stream": "stdout",
       "text": [
        "\r",
        " [**********************74%***********            ]  496 of 672 complete"
       ]
      },
      {
       "output_type": "stream",
       "stream": "stdout",
       "text": [
        "\r",
        " [**********************74%***********            ]  497 of 672 complete"
       ]
      },
      {
       "output_type": "stream",
       "stream": "stdout",
       "text": [
        "\r",
        " [**********************74%***********            ]  498 of 672 complete"
       ]
      },
      {
       "output_type": "stream",
       "stream": "stdout",
       "text": [
        "\r",
        " [**********************74%***********            ]  499 of 672 complete"
       ]
      },
      {
       "output_type": "stream",
       "stream": "stdout",
       "text": [
        "\r",
        " [**********************74%***********            ]  500 of 672 complete"
       ]
      },
      {
       "output_type": "stream",
       "stream": "stdout",
       "text": [
        "\r",
        " [**********************75%***********            ]  501 of 672 complete"
       ]
      },
      {
       "output_type": "stream",
       "stream": "stdout",
       "text": [
        "\r",
        " [**********************75%***********            ]  502 of 672 complete"
       ]
      },
      {
       "output_type": "stream",
       "stream": "stdout",
       "text": [
        "\r",
        " [**********************75%***********            ]  503 of 672 complete"
       ]
      },
      {
       "output_type": "stream",
       "stream": "stdout",
       "text": [
        "\r",
        " [**********************75%***********            ]  504 of 672 complete"
       ]
      },
      {
       "output_type": "stream",
       "stream": "stdout",
       "text": [
        "\r",
        " [**********************75%***********            ]  505 of 672 complete"
       ]
      },
      {
       "output_type": "stream",
       "stream": "stdout",
       "text": [
        "\r",
        " [**********************75%***********            ]  506 of 672 complete"
       ]
      },
      {
       "output_type": "stream",
       "stream": "stdout",
       "text": [
        "\r",
        " [**********************75%***********            ]  507 of 672 complete"
       ]
      },
      {
       "output_type": "stream",
       "stream": "stdout",
       "text": [
        "\r",
        " [**********************76%***********            ]  508 of 672 complete"
       ]
      },
      {
       "output_type": "stream",
       "stream": "stdout",
       "text": [
        "\r",
        " [**********************76%***********            ]  509 of 672 complete"
       ]
      },
      {
       "output_type": "stream",
       "stream": "stdout",
       "text": [
        "\r",
        " [**********************76%***********            ]  510 of 672 complete"
       ]
      },
      {
       "output_type": "stream",
       "stream": "stdout",
       "text": [
        "\r",
        " [**********************76%***********            ]  511 of 672 complete"
       ]
      },
      {
       "output_type": "stream",
       "stream": "stdout",
       "text": [
        "\r",
        " [**********************76%***********            ]  512 of 672 complete"
       ]
      },
      {
       "output_type": "stream",
       "stream": "stdout",
       "text": [
        "\r",
        " [**********************76%***********            ]  513 of 672 complete"
       ]
      },
      {
       "output_type": "stream",
       "stream": "stdout",
       "text": [
        "\r",
        " [**********************76%***********            ]  514 of 672 complete"
       ]
      },
      {
       "output_type": "stream",
       "stream": "stdout",
       "text": [
        "\r",
        " [**********************77%************           ]  515 of 672 complete"
       ]
      },
      {
       "output_type": "stream",
       "stream": "stdout",
       "text": [
        "\r",
        " [**********************77%************           ]  516 of 672 complete"
       ]
      },
      {
       "output_type": "stream",
       "stream": "stdout",
       "text": [
        "\r",
        " [**********************77%************           ]  517 of 672 complete"
       ]
      },
      {
       "output_type": "stream",
       "stream": "stdout",
       "text": [
        "\r",
        " [**********************77%************           ]  518 of 672 complete"
       ]
      },
      {
       "output_type": "stream",
       "stream": "stdout",
       "text": [
        "\r",
        " [**********************77%************           ]  519 of 672 complete"
       ]
      },
      {
       "output_type": "stream",
       "stream": "stdout",
       "text": [
        "\r",
        " [**********************77%************           ]  520 of 672 complete"
       ]
      },
      {
       "output_type": "stream",
       "stream": "stdout",
       "text": [
        "\r",
        " [**********************78%************           ]  521 of 672 complete"
       ]
      },
      {
       "output_type": "stream",
       "stream": "stdout",
       "text": [
        "\r",
        " [**********************78%************           ]  522 of 672 complete"
       ]
      },
      {
       "output_type": "stream",
       "stream": "stdout",
       "text": [
        "\r",
        " [**********************78%************           ]  523 of 672 complete"
       ]
      },
      {
       "output_type": "stream",
       "stream": "stdout",
       "text": [
        "\r",
        " [**********************78%************           ]  524 of 672 complete"
       ]
      },
      {
       "output_type": "stream",
       "stream": "stdout",
       "text": [
        "\r",
        " [**********************78%************           ]  525 of 672 complete"
       ]
      },
      {
       "output_type": "stream",
       "stream": "stdout",
       "text": [
        "\r",
        " [**********************78%************           ]  526 of 672 complete"
       ]
      },
      {
       "output_type": "stream",
       "stream": "stdout",
       "text": [
        "\r",
        " [**********************78%************           ]  527 of 672 complete"
       ]
      },
      {
       "output_type": "stream",
       "stream": "stdout",
       "text": [
        "\r",
        " [**********************79%*************          ]  528 of 672 complete"
       ]
      },
      {
       "output_type": "stream",
       "stream": "stdout",
       "text": [
        "\r",
        " [**********************79%*************          ]  529 of 672 complete"
       ]
      },
      {
       "output_type": "stream",
       "stream": "stdout",
       "text": [
        "\r",
        " [**********************79%*************          ]  530 of 672 complete"
       ]
      },
      {
       "output_type": "stream",
       "stream": "stdout",
       "text": [
        "\r",
        " [**********************79%*************          ]  531 of 672 complete"
       ]
      },
      {
       "output_type": "stream",
       "stream": "stdout",
       "text": [
        "\r",
        " [**********************79%*************          ]  532 of 672 complete"
       ]
      },
      {
       "output_type": "stream",
       "stream": "stdout",
       "text": [
        "\r",
        " [**********************79%*************          ]  533 of 672 complete"
       ]
      },
      {
       "output_type": "stream",
       "stream": "stdout",
       "text": [
        "\r",
        " [**********************79%*************          ]  534 of 672 complete"
       ]
      },
      {
       "output_type": "stream",
       "stream": "stdout",
       "text": [
        "\r",
        " [**********************80%*************          ]  535 of 672 complete"
       ]
      },
      {
       "output_type": "stream",
       "stream": "stdout",
       "text": [
        "\r",
        " [**********************80%*************          ]  536 of 672 complete"
       ]
      },
      {
       "output_type": "stream",
       "stream": "stdout",
       "text": [
        "\r",
        " [**********************80%*************          ]  537 of 672 complete"
       ]
      },
      {
       "output_type": "stream",
       "stream": "stdout",
       "text": [
        "\r",
        " [**********************80%*************          ]  538 of 672 complete"
       ]
      },
      {
       "output_type": "stream",
       "stream": "stdout",
       "text": [
        "\r",
        " [**********************80%*************          ]  539 of 672 complete"
       ]
      },
      {
       "output_type": "stream",
       "stream": "stdout",
       "text": [
        "\r",
        " [**********************80%*************          ]  540 of 672 complete"
       ]
      },
      {
       "output_type": "stream",
       "stream": "stdout",
       "text": [
        "\r",
        " [**********************81%**************         ]  541 of 672 complete"
       ]
      },
      {
       "output_type": "stream",
       "stream": "stdout",
       "text": [
        "\r",
        " [**********************81%**************         ]  542 of 672 complete"
       ]
      },
      {
       "output_type": "stream",
       "stream": "stdout",
       "text": [
        "\r",
        " [**********************81%**************         ]  543 of 672 complete"
       ]
      },
      {
       "output_type": "stream",
       "stream": "stdout",
       "text": [
        "\r",
        " [**********************81%**************         ]  544 of 672 complete"
       ]
      },
      {
       "output_type": "stream",
       "stream": "stdout",
       "text": [
        "\r",
        " [**********************81%**************         ]  545 of 672 complete"
       ]
      },
      {
       "output_type": "stream",
       "stream": "stdout",
       "text": [
        "\r",
        " [**********************81%**************         ]  546 of 672 complete"
       ]
      },
      {
       "output_type": "stream",
       "stream": "stdout",
       "text": [
        "\r",
        " [**********************81%**************         ]  547 of 672 complete"
       ]
      },
      {
       "output_type": "stream",
       "stream": "stdout",
       "text": [
        "\r",
        " [**********************82%**************         ]  548 of 672 complete"
       ]
      },
      {
       "output_type": "stream",
       "stream": "stdout",
       "text": [
        "\r",
        " [**********************82%**************         ]  549 of 672 complete"
       ]
      },
      {
       "output_type": "stream",
       "stream": "stdout",
       "text": [
        "\r",
        " [**********************82%**************         ]  550 of 672 complete"
       ]
      },
      {
       "output_type": "stream",
       "stream": "stdout",
       "text": [
        "\r",
        " [**********************82%**************         ]  551 of 672 complete"
       ]
      },
      {
       "output_type": "stream",
       "stream": "stdout",
       "text": [
        "\r",
        " [**********************82%**************         ]  552 of 672 complete"
       ]
      },
      {
       "output_type": "stream",
       "stream": "stdout",
       "text": [
        "\r",
        " [**********************82%**************         ]  553 of 672 complete"
       ]
      },
      {
       "output_type": "stream",
       "stream": "stdout",
       "text": [
        "\r",
        " [**********************82%**************         ]  554 of 672 complete"
       ]
      },
      {
       "output_type": "stream",
       "stream": "stdout",
       "text": [
        "\r",
        " [**********************83%***************        ]  555 of 672 complete"
       ]
      },
      {
       "output_type": "stream",
       "stream": "stdout",
       "text": [
        "\r",
        " [**********************83%***************        ]  556 of 672 complete"
       ]
      },
      {
       "output_type": "stream",
       "stream": "stdout",
       "text": [
        "\r",
        " [**********************83%***************        ]  557 of 672 complete"
       ]
      },
      {
       "output_type": "stream",
       "stream": "stdout",
       "text": [
        "\r",
        " [**********************83%***************        ]  558 of 672 complete"
       ]
      },
      {
       "output_type": "stream",
       "stream": "stdout",
       "text": [
        "\r",
        " [**********************83%***************        ]  559 of 672 complete"
       ]
      },
      {
       "output_type": "stream",
       "stream": "stdout",
       "text": [
        "\r",
        " [**********************83%***************        ]  560 of 672 complete"
       ]
      },
      {
       "output_type": "stream",
       "stream": "stdout",
       "text": [
        "\r",
        " [**********************83%***************        ]  561 of 672 complete"
       ]
      },
      {
       "output_type": "stream",
       "stream": "stdout",
       "text": [
        "\r",
        " [**********************84%***************        ]  562 of 672 complete"
       ]
      },
      {
       "output_type": "stream",
       "stream": "stdout",
       "text": [
        "\r",
        " [**********************84%***************        ]  563 of 672 complete"
       ]
      },
      {
       "output_type": "stream",
       "stream": "stdout",
       "text": [
        "\r",
        " [**********************84%***************        ]  564 of 672 complete"
       ]
      },
      {
       "output_type": "stream",
       "stream": "stdout",
       "text": [
        "\r",
        " [**********************84%***************        ]  565 of 672 complete"
       ]
      },
      {
       "output_type": "stream",
       "stream": "stdout",
       "text": [
        "\r",
        " [**********************84%***************        ]  566 of 672 complete"
       ]
      },
      {
       "output_type": "stream",
       "stream": "stdout",
       "text": [
        "\r",
        " [**********************84%***************        ]  567 of 672 complete"
       ]
      },
      {
       "output_type": "stream",
       "stream": "stdout",
       "text": [
        "\r",
        " [**********************85%****************       ]  568 of 672 complete"
       ]
      },
      {
       "output_type": "stream",
       "stream": "stdout",
       "text": [
        "\r",
        " [**********************85%****************       ]  569 of 672 complete"
       ]
      },
      {
       "output_type": "stream",
       "stream": "stdout",
       "text": [
        "\r",
        " [**********************85%****************       ]  570 of 672 complete"
       ]
      },
      {
       "output_type": "stream",
       "stream": "stdout",
       "text": [
        "\r",
        " [**********************85%****************       ]  571 of 672 complete"
       ]
      },
      {
       "output_type": "stream",
       "stream": "stdout",
       "text": [
        "\r",
        " [**********************85%****************       ]  572 of 672 complete"
       ]
      },
      {
       "output_type": "stream",
       "stream": "stdout",
       "text": [
        "\r",
        " [**********************85%****************       ]  573 of 672 complete"
       ]
      },
      {
       "output_type": "stream",
       "stream": "stdout",
       "text": [
        "\r",
        " [**********************85%****************       ]  574 of 672 complete"
       ]
      },
      {
       "output_type": "stream",
       "stream": "stdout",
       "text": [
        "\r",
        " [**********************86%****************       ]  575 of 672 complete"
       ]
      },
      {
       "output_type": "stream",
       "stream": "stdout",
       "text": [
        "\r",
        " [**********************86%****************       ]  576 of 672 complete"
       ]
      },
      {
       "output_type": "stream",
       "stream": "stdout",
       "text": [
        "\r",
        " [**********************86%****************       ]  577 of 672 complete"
       ]
      },
      {
       "output_type": "stream",
       "stream": "stdout",
       "text": [
        "\r",
        " [**********************86%****************       ]  578 of 672 complete"
       ]
      },
      {
       "output_type": "stream",
       "stream": "stdout",
       "text": [
        "\r",
        " [**********************86%****************       ]  579 of 672 complete"
       ]
      },
      {
       "output_type": "stream",
       "stream": "stdout",
       "text": [
        "\r",
        " [**********************86%****************       ]  580 of 672 complete"
       ]
      },
      {
       "output_type": "stream",
       "stream": "stdout",
       "text": [
        "\r",
        " [**********************86%****************       ]  581 of 672 complete"
       ]
      },
      {
       "output_type": "stream",
       "stream": "stdout",
       "text": [
        "\r",
        " [**********************87%*****************      ]  582 of 672 complete"
       ]
      },
      {
       "output_type": "stream",
       "stream": "stdout",
       "text": [
        "\r",
        " [**********************87%*****************      ]  583 of 672 complete"
       ]
      },
      {
       "output_type": "stream",
       "stream": "stdout",
       "text": [
        "\r",
        " [**********************87%*****************      ]  584 of 672 complete"
       ]
      },
      {
       "output_type": "stream",
       "stream": "stdout",
       "text": [
        "\r",
        " [**********************87%*****************      ]  585 of 672 complete"
       ]
      },
      {
       "output_type": "stream",
       "stream": "stdout",
       "text": [
        "\r",
        " [**********************87%*****************      ]  586 of 672 complete"
       ]
      },
      {
       "output_type": "stream",
       "stream": "stdout",
       "text": [
        "\r",
        " [**********************87%*****************      ]  587 of 672 complete"
       ]
      },
      {
       "output_type": "stream",
       "stream": "stdout",
       "text": [
        "\r",
        " [**********************88%*****************      ]  588 of 672 complete"
       ]
      },
      {
       "output_type": "stream",
       "stream": "stdout",
       "text": [
        "\r",
        " [**********************88%*****************      ]  589 of 672 complete"
       ]
      },
      {
       "output_type": "stream",
       "stream": "stdout",
       "text": [
        "\r",
        " [**********************88%*****************      ]  590 of 672 complete"
       ]
      },
      {
       "output_type": "stream",
       "stream": "stdout",
       "text": [
        "\r",
        " [**********************88%*****************      ]  591 of 672 complete"
       ]
      },
      {
       "output_type": "stream",
       "stream": "stdout",
       "text": [
        "\r",
        " [**********************88%*****************      ]  592 of 672 complete"
       ]
      },
      {
       "output_type": "stream",
       "stream": "stdout",
       "text": [
        "\r",
        " [**********************88%*****************      ]  593 of 672 complete"
       ]
      },
      {
       "output_type": "stream",
       "stream": "stdout",
       "text": [
        "\r",
        " [**********************88%*****************      ]  594 of 672 complete"
       ]
      },
      {
       "output_type": "stream",
       "stream": "stdout",
       "text": [
        "\r",
        " [**********************89%******************     ]  595 of 672 complete"
       ]
      },
      {
       "output_type": "stream",
       "stream": "stdout",
       "text": [
        "\r",
        " [**********************89%******************     ]  596 of 672 complete"
       ]
      },
      {
       "output_type": "stream",
       "stream": "stdout",
       "text": [
        "\r",
        " [**********************89%******************     ]  597 of 672 complete"
       ]
      },
      {
       "output_type": "stream",
       "stream": "stdout",
       "text": [
        "\r",
        " [**********************89%******************     ]  598 of 672 complete"
       ]
      },
      {
       "output_type": "stream",
       "stream": "stdout",
       "text": [
        "\r",
        " [**********************89%******************     ]  599 of 672 complete"
       ]
      },
      {
       "output_type": "stream",
       "stream": "stdout",
       "text": [
        "\r",
        " [**********************89%******************     ]  600 of 672 complete"
       ]
      },
      {
       "output_type": "stream",
       "stream": "stdout",
       "text": [
        "\r",
        " [**********************89%******************     ]  601 of 672 complete"
       ]
      },
      {
       "output_type": "stream",
       "stream": "stdout",
       "text": [
        "\r",
        " [**********************90%******************     ]  602 of 672 complete"
       ]
      },
      {
       "output_type": "stream",
       "stream": "stdout",
       "text": [
        "\r",
        " [**********************90%******************     ]  603 of 672 complete"
       ]
      },
      {
       "output_type": "stream",
       "stream": "stdout",
       "text": [
        "\r",
        " [**********************90%******************     ]  604 of 672 complete"
       ]
      },
      {
       "output_type": "stream",
       "stream": "stdout",
       "text": [
        "\r",
        " [**********************90%******************     ]  605 of 672 complete"
       ]
      },
      {
       "output_type": "stream",
       "stream": "stdout",
       "text": [
        "\r",
        " [**********************90%******************     ]  606 of 672 complete"
       ]
      },
      {
       "output_type": "stream",
       "stream": "stdout",
       "text": [
        "\r",
        " [**********************90%******************     ]  607 of 672 complete"
       ]
      },
      {
       "output_type": "stream",
       "stream": "stdout",
       "text": [
        "\r",
        " [**********************90%******************     ]  608 of 672 complete"
       ]
      },
      {
       "output_type": "stream",
       "stream": "stdout",
       "text": [
        "\r",
        " [**********************91%*******************    ]  609 of 672 complete"
       ]
      },
      {
       "output_type": "stream",
       "stream": "stdout",
       "text": [
        "\r",
        " [**********************91%*******************    ]  610 of 672 complete"
       ]
      },
      {
       "output_type": "stream",
       "stream": "stdout",
       "text": [
        "\r",
        " [**********************91%*******************    ]  611 of 672 complete"
       ]
      },
      {
       "output_type": "stream",
       "stream": "stdout",
       "text": [
        "\r",
        " [**********************91%*******************    ]  612 of 672 complete"
       ]
      },
      {
       "output_type": "stream",
       "stream": "stdout",
       "text": [
        "\r",
        " [**********************91%*******************    ]  613 of 672 complete"
       ]
      },
      {
       "output_type": "stream",
       "stream": "stdout",
       "text": [
        "\r",
        " [**********************91%*******************    ]  614 of 672 complete"
       ]
      },
      {
       "output_type": "stream",
       "stream": "stdout",
       "text": [
        "\r",
        " [**********************92%*******************    ]  615 of 672 complete"
       ]
      },
      {
       "output_type": "stream",
       "stream": "stdout",
       "text": [
        "\r",
        " [**********************92%*******************    ]  616 of 672 complete"
       ]
      },
      {
       "output_type": "stream",
       "stream": "stdout",
       "text": [
        "\r",
        " [**********************92%*******************    ]  617 of 672 complete"
       ]
      },
      {
       "output_type": "stream",
       "stream": "stdout",
       "text": [
        "\r",
        " [**********************92%*******************    ]  618 of 672 complete"
       ]
      },
      {
       "output_type": "stream",
       "stream": "stdout",
       "text": [
        "\r",
        " [**********************92%*******************    ]  619 of 672 complete"
       ]
      },
      {
       "output_type": "stream",
       "stream": "stdout",
       "text": [
        "\r",
        " [**********************92%*******************    ]  620 of 672 complete"
       ]
      },
      {
       "output_type": "stream",
       "stream": "stdout",
       "text": [
        "\r",
        " [**********************92%*******************    ]  621 of 672 complete"
       ]
      },
      {
       "output_type": "stream",
       "stream": "stdout",
       "text": [
        "\r",
        " [**********************93%********************   ]  622 of 672 complete"
       ]
      },
      {
       "output_type": "stream",
       "stream": "stdout",
       "text": [
        "\r",
        " [**********************93%********************   ]  623 of 672 complete"
       ]
      },
      {
       "output_type": "stream",
       "stream": "stdout",
       "text": [
        "\r",
        " [**********************93%********************   ]  624 of 672 complete"
       ]
      },
      {
       "output_type": "stream",
       "stream": "stdout",
       "text": [
        "\r",
        " [**********************93%********************   ]  625 of 672 complete"
       ]
      },
      {
       "output_type": "stream",
       "stream": "stdout",
       "text": [
        "\r",
        " [**********************93%********************   ]  626 of 672 complete"
       ]
      },
      {
       "output_type": "stream",
       "stream": "stdout",
       "text": [
        "\r",
        " [**********************93%********************   ]  627 of 672 complete"
       ]
      },
      {
       "output_type": "stream",
       "stream": "stdout",
       "text": [
        "\r",
        " [**********************93%********************   ]  628 of 672 complete"
       ]
      },
      {
       "output_type": "stream",
       "stream": "stdout",
       "text": [
        "\r",
        " [**********************94%********************   ]  629 of 672 complete"
       ]
      },
      {
       "output_type": "stream",
       "stream": "stdout",
       "text": [
        "\r",
        " [**********************94%********************   ]  630 of 672 complete"
       ]
      },
      {
       "output_type": "stream",
       "stream": "stdout",
       "text": [
        "\r",
        " [**********************94%********************   ]  631 of 672 complete"
       ]
      },
      {
       "output_type": "stream",
       "stream": "stdout",
       "text": [
        "\r",
        " [**********************94%********************   ]  632 of 672 complete"
       ]
      },
      {
       "output_type": "stream",
       "stream": "stdout",
       "text": [
        "\r",
        " [**********************94%********************   ]  633 of 672 complete"
       ]
      },
      {
       "output_type": "stream",
       "stream": "stdout",
       "text": [
        "\r",
        " [**********************94%********************   ]  634 of 672 complete"
       ]
      },
      {
       "output_type": "stream",
       "stream": "stdout",
       "text": [
        "\r",
        " [**********************94%********************   ]  635 of 672 complete"
       ]
      },
      {
       "output_type": "stream",
       "stream": "stdout",
       "text": [
        "\r",
        " [**********************95%*********************  ]  636 of 672 complete"
       ]
      },
      {
       "output_type": "stream",
       "stream": "stdout",
       "text": [
        "\r",
        " [**********************95%*********************  ]  637 of 672 complete"
       ]
      },
      {
       "output_type": "stream",
       "stream": "stdout",
       "text": [
        "\r",
        " [**********************95%*********************  ]  638 of 672 complete"
       ]
      },
      {
       "output_type": "stream",
       "stream": "stdout",
       "text": [
        "\r",
        " [**********************95%*********************  ]  639 of 672 complete"
       ]
      },
      {
       "output_type": "stream",
       "stream": "stdout",
       "text": [
        "\r",
        " [**********************95%*********************  ]  640 of 672 complete"
       ]
      },
      {
       "output_type": "stream",
       "stream": "stdout",
       "text": [
        "\r",
        " [**********************95%*********************  ]  641 of 672 complete"
       ]
      },
      {
       "output_type": "stream",
       "stream": "stdout",
       "text": [
        "\r",
        " [**********************96%*********************  ]  642 of 672 complete"
       ]
      },
      {
       "output_type": "stream",
       "stream": "stdout",
       "text": [
        "\r",
        " [**********************96%*********************  ]  643 of 672 complete"
       ]
      },
      {
       "output_type": "stream",
       "stream": "stdout",
       "text": [
        "\r",
        " [**********************96%*********************  ]  644 of 672 complete"
       ]
      },
      {
       "output_type": "stream",
       "stream": "stdout",
       "text": [
        "\r",
        " [**********************96%*********************  ]  645 of 672 complete"
       ]
      },
      {
       "output_type": "stream",
       "stream": "stdout",
       "text": [
        "\r",
        " [**********************96%*********************  ]  646 of 672 complete"
       ]
      },
      {
       "output_type": "stream",
       "stream": "stdout",
       "text": [
        "\r",
        " [**********************96%*********************  ]  647 of 672 complete"
       ]
      },
      {
       "output_type": "stream",
       "stream": "stdout",
       "text": [
        "\r",
        " [**********************96%*********************  ]  648 of 672 complete"
       ]
      },
      {
       "output_type": "stream",
       "stream": "stdout",
       "text": [
        "\r",
        " [**********************97%********************** ]  649 of 672 complete"
       ]
      },
      {
       "output_type": "stream",
       "stream": "stdout",
       "text": [
        "\r",
        " [**********************97%********************** ]  650 of 672 complete"
       ]
      },
      {
       "output_type": "stream",
       "stream": "stdout",
       "text": [
        "\r",
        " [**********************97%********************** ]  651 of 672 complete"
       ]
      },
      {
       "output_type": "stream",
       "stream": "stdout",
       "text": [
        "\r",
        " [**********************97%********************** ]  652 of 672 complete"
       ]
      },
      {
       "output_type": "stream",
       "stream": "stdout",
       "text": [
        "\r",
        " [**********************97%********************** ]  653 of 672 complete"
       ]
      },
      {
       "output_type": "stream",
       "stream": "stdout",
       "text": [
        "\r",
        " [**********************97%********************** ]  654 of 672 complete"
       ]
      },
      {
       "output_type": "stream",
       "stream": "stdout",
       "text": [
        "\r",
        " [**********************97%********************** ]  655 of 672 complete"
       ]
      },
      {
       "output_type": "stream",
       "stream": "stdout",
       "text": [
        "\r",
        " [**********************98%********************** ]  656 of 672 complete"
       ]
      },
      {
       "output_type": "stream",
       "stream": "stdout",
       "text": [
        "\r",
        " [**********************98%********************** ]  657 of 672 complete"
       ]
      },
      {
       "output_type": "stream",
       "stream": "stdout",
       "text": [
        "\r",
        " [**********************98%********************** ]  658 of 672 complete"
       ]
      },
      {
       "output_type": "stream",
       "stream": "stdout",
       "text": [
        "\r",
        " [**********************98%********************** ]  659 of 672 complete"
       ]
      },
      {
       "output_type": "stream",
       "stream": "stdout",
       "text": [
        "\r",
        " [**********************98%********************** ]  660 of 672 complete"
       ]
      },
      {
       "output_type": "stream",
       "stream": "stdout",
       "text": [
        "\r",
        " [**********************98%********************** ]  661 of 672 complete"
       ]
      },
      {
       "output_type": "stream",
       "stream": "stdout",
       "text": [
        "\r",
        " [**********************99%***********************]  662 of 672 complete"
       ]
      },
      {
       "output_type": "stream",
       "stream": "stdout",
       "text": [
        "\r",
        " [**********************99%***********************]  663 of 672 complete"
       ]
      },
      {
       "output_type": "stream",
       "stream": "stdout",
       "text": [
        "\r",
        " [**********************99%***********************]  664 of 672 complete"
       ]
      },
      {
       "output_type": "stream",
       "stream": "stdout",
       "text": [
        "\r",
        " [**********************99%***********************]  665 of 672 complete"
       ]
      },
      {
       "output_type": "stream",
       "stream": "stdout",
       "text": [
        "\r",
        " [**********************99%***********************]  666 of 672 complete"
       ]
      },
      {
       "output_type": "stream",
       "stream": "stdout",
       "text": [
        "\r",
        " [**********************99%***********************]  667 of 672 complete"
       ]
      },
      {
       "output_type": "stream",
       "stream": "stdout",
       "text": [
        "\r",
        " [**********************99%***********************]  668 of 672 complete"
       ]
      },
      {
       "output_type": "stream",
       "stream": "stdout",
       "text": [
        "\r",
        " [*********************100%***********************]  669 of 672 complete"
       ]
      },
      {
       "output_type": "stream",
       "stream": "stdout",
       "text": [
        "\r",
        " [*********************100%***********************]  670 of 672 complete"
       ]
      },
      {
       "output_type": "stream",
       "stream": "stdout",
       "text": [
        "\r",
        " [*********************100%***********************]  671 of 672 complete"
       ]
      },
      {
       "output_type": "stream",
       "stream": "stdout",
       "text": [
        "\r",
        " [*********************100%***********************]  672 of 672 complete"
       ]
      }
     ],
     "prompt_number": 13
    },
    {
     "cell_type": "code",
     "collapsed": false,
     "input": [
      "alldf = pd.concat(data)"
     ],
     "language": "python",
     "metadata": {},
     "outputs": [],
     "prompt_number": 6
    },
    {
     "cell_type": "code",
     "collapsed": false,
     "input": [
      "alldf.to_hdf('gains_2013_13.hdf','df')"
     ],
     "language": "python",
     "metadata": {},
     "outputs": [],
     "prompt_number": 10
    },
    {
     "cell_type": "code",
     "collapsed": false,
     "input": [
      "alldf.resample('1d').plot()"
     ],
     "language": "python",
     "metadata": {},
     "outputs": [
      {
       "metadata": {},
       "output_type": "pyout",
       "prompt_number": 9,
       "text": [
        "<matplotlib.axes.AxesSubplot at 0x499fed0>"
       ]
      },
      {
       "metadata": {},
       "output_type": "display_data",
       "png": "[encoded data removed]",
       "text": [
        "<matplotlib.figure.Figure at 0x48d6290>"
       ]
      }
     ],
     "prompt_number": 9
    },
    {
     "cell_type": "code",
     "collapsed": false,
     "input": [
      "%pylab inline"
     ],
     "language": "python",
     "metadata": {},
     "outputs": [
      {
       "output_type": "stream",
       "stream": "stdout",
       "text": [
        "Populating the interactive namespace from numpy and matplotlib\n"
       ]
      },
      {
       "output_type": "stream",
       "stream": "stderr",
       "text": [
        "WARNING: pylab import has clobbered these variables: ['det', 'e']\n",
        "`%pylab --no-import-all` prevents importing * from pylab and numpy\n"
       ]
      }
     ],
     "prompt_number": 14
    },
    {
     "cell_type": "code",
     "collapsed": false,
     "input": [],
     "language": "python",
     "metadata": {},
     "outputs": [
      {
       "metadata": {},
       "output_type": "pyout",
       "prompt_number": 17,
       "text": [
        "2.718281828459045"
       ]
      }
     ],
     "prompt_number": 17
    },
    {
     "cell_type": "code",
     "collapsed": false,
     "input": [],
     "language": "python",
     "metadata": {},
     "outputs": []
    }
   ],
   "metadata": {}
  }
 ]
}