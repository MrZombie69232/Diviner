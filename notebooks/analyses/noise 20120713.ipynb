{
 "metadata": {
  "name": "",
  "signature": "sha256:ec7504c541cce886628d476c428a20dce5a405355d6715c950d4ca471424b938"
 },
 "nbformat": 3,
 "nbformat_minor": 0,
 "worksheets": [
  {
   "cells": [
    {
     "cell_type": "code",
     "collapsed": false,
     "input": [],
     "language": "python",
     "metadata": {},
     "outputs": []
    }
   ],
   "metadata": {}
  }
 ]
}