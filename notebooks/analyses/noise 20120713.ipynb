{
 "metadata": {
  "name": "",
  "signature": "sha256:72d8c7f07fa547ade739996b20bf1e237de3a707b4aa0e7813a11519c2495264"
 },
 "nbformat": 3,
 "nbformat_minor": 0,
 "worksheets": [
  {
   "cells": [
    {
     "cell_type": "code",
     "collapsed": false,
     "input": [],
     "language": "python",
     "metadata": {},
     "outputs": []
    }
   ],
   "metadata": {}
  }
 ]
}