{
 "metadata": {
  "name": "",
  "signature": "sha256:7eae5fc1dc7c509d8da75151041b755ed9ae826d78ba5371c2d4b577985dfe87"
 },
 "nbformat": 3,
 "nbformat_minor": 0,
 "worksheets": [
  {
   "cells": [
    {
     "cell_type": "markdown",
     "metadata": {},
     "source": [
      "#Radiances\n",
      "\n",
      "##Repetition\n",
      "\n",
      "Spectral radiance is described as\n",
      "$$ L_\\nu = \\frac{d^2\\Phi}{dAd\\Omega d\\nu} \\left[\\frac{W}{m^2sr\\; m}\\right]$$\n",
      "with $\\Phi$ being the radiant flux $dE/dt$ and $d\\Omega$ the steradian.\n"
     ]
    },
    {
     "cell_type": "code",
     "collapsed": false,
     "input": [
      "from diviner import physics\n",
      "# from diviner import calib"
     ],
     "language": "python",
     "metadata": {},
     "outputs": [
      {
       "output_type": "stream",
       "stream": "stderr",
       "text": [
        "/u/paige/maye/anaconda/lib/python2.7/site-packages/matplotlib/__init__.py:1155: UserWarning:  This call to matplotlib.use() has no effect\n",
        "because the backend has already been chosen;\n",
        "matplotlib.use() must be called *before* pylab, matplotlib.pyplot,\n",
        "or matplotlib.backends is imported for the first time.\n",
        "\n",
        "  warnings.warn(_use_error_msg)\n"
       ]
      }
     ],
     "prompt_number": 1
    },
    {
     "cell_type": "code",
     "collapsed": false,
     "input": [
      "physics??"
     ],
     "language": "python",
     "metadata": {},
     "outputs": [],
     "prompt_number": 1
    },
    {
     "cell_type": "code",
     "collapsed": false,
     "input": [
      "waves = linspace(0.5e-6,400e-6,1000)"
     ],
     "language": "python",
     "metadata": {},
     "outputs": [],
     "prompt_number": 6
    },
    {
     "cell_type": "code",
     "collapsed": false,
     "input": [
      "rad50 = physics.planck_wavelength(50,waves)\n",
      "rad350 = physics.planck_wavelength(350,waves)"
     ],
     "language": "python",
     "metadata": {},
     "outputs": [],
     "prompt_number": 7
    },
    {
     "cell_type": "code",
     "collapsed": false,
     "input": [
      "%pylab qt"
     ],
     "language": "python",
     "metadata": {},
     "outputs": [
      {
       "output_type": "stream",
       "stream": "stdout",
       "text": [
        "Populating the interactive namespace from numpy and matplotlib\n"
       ]
      }
     ],
     "prompt_number": 8
    },
    {
     "cell_type": "code",
     "collapsed": false,
     "input": [
      "%pylab qt"
     ],
     "language": "python",
     "metadata": {},
     "outputs": [
      {
       "output_type": "stream",
       "stream": "stdout",
       "text": [
        "Populating the interactive namespace from numpy and matplotlib\n"
       ]
      }
     ],
     "prompt_number": 4
    },
    {
     "cell_type": "code",
     "collapsed": false,
     "input": [
      "semilogy(waves*1e6,rad50,label='50K')\n",
      "semilogy(waves*1e6,rad350,label='350K')\n",
      "legend(loc='best')"
     ],
     "language": "python",
     "metadata": {},
     "outputs": [
      {
       "metadata": {},
       "output_type": "pyout",
       "prompt_number": 5,
       "text": [
        "<matplotlib.legend.Legend at 0x7f7f723fe110>"
       ]
      }
     ],
     "prompt_number": 5
    },
    {
     "cell_type": "code",
     "collapsed": false,
     "input": [
      "rbbtable = calib.RBBTable()"
     ],
     "language": "python",
     "metadata": {},
     "outputs": [],
     "prompt_number": 3
    },
    {
     "cell_type": "code",
     "collapsed": false,
     "input": [
      "import pandas as pd"
     ],
     "language": "python",
     "metadata": {},
     "outputs": [],
     "prompt_number": 5
    },
    {
     "cell_type": "code",
     "collapsed": false,
     "input": [
      "radiances = pd.DataFrame(index=waves*1e6)"
     ],
     "language": "python",
     "metadata": {},
     "outputs": [],
     "prompt_number": 6
    },
    {
     "cell_type": "code",
     "collapsed": false,
     "input": [
      "rad50"
     ],
     "language": "python",
     "metadata": {},
     "outputs": [
      {
       "ename": "NameError",
       "evalue": "name 'rad50' is not defined",
       "output_type": "pyerr",
       "traceback": [
        "---------------------------------------------------------------------------\nNameError                                 Traceback (most recent call last)",
        "<ipython-input-4-8b03305f1038> in <module>()\n----> 1 rad50\n",
        "NameError: name 'rad50' is not defined"
       ]
      }
     ],
     "prompt_number": 4
    },
    {
     "cell_type": "code",
     "collapsed": false,
     "input": [
      "radiances['60']=radiance"
     ],
     "language": "python",
     "metadata": {},
     "outputs": [
      {
       "ename": "NameError",
       "evalue": "name 'radiance' is not defined",
       "output_type": "pyerr",
       "traceback": [
        "---------------------------------------------------------------------------\nNameError                                 Traceback (most recent call last)",
        "<ipython-input-7-9b1cc419c251> in <module>()\n----> 1 radiances['60']=radiance\n",
        "NameError: name 'radiance' is not defined"
       ]
      }
     ],
     "prompt_number": 7
    },
    {
     "cell_type": "code",
     "collapsed": false,
     "input": [
      "radiances['50']=physics.planck_wavelength(50,waves)"
     ],
     "language": "python",
     "metadata": {},
     "outputs": [],
     "prompt_number": 15
    },
    {
     "cell_type": "code",
     "collapsed": false,
     "input": [
      "radiances['20']=physics.planck_wavelength(20,waves)"
     ],
     "language": "python",
     "metadata": {},
     "outputs": [],
     "prompt_number": 19
    },
    {
     "cell_type": "code",
     "collapsed": false,
     "input": [
      "radiances[['20','30','40']].plot()"
     ],
     "language": "python",
     "metadata": {},
     "outputs": [
      {
       "metadata": {},
       "output_type": "pyout",
       "prompt_number": 21,
       "text": [
        "<matplotlib.axes.AxesSubplot at 0x4c4eed0>"
       ]
      },
      {
       "metadata": {},
       "output_type": "display_data",
       "png": "[encoded data removed]"
      }
     ],
     "prompt_number": 21
    },
    {
     "cell_type": "markdown",
     "metadata": {},
     "source": [
      "Solar azimuth angles\n",
      "===================="
     ]
    },
    {
     "cell_type": "markdown",
     "metadata": {},
     "source": [
      "Calculate azimuth angle\n",
      "-----------------------"
     ]
    },
    {
     "cell_type": "markdown",
     "metadata": {},
     "source": [
      "$$ dotp= \\frac{cos(t_{phase})-cos(t_{inc})*cos(t_{emis})}\n",
      "{sin(t_{inc})*sin(t{emis})}$$"
     ]
    },
    {
     "cell_type": "code",
     "collapsed": false,
     "input": [
      "%%timeit\n",
      "val = array([1.3])\n",
      "val = val.clip(-1.0,1.0)"
     ],
     "language": "python",
     "metadata": {},
     "outputs": [
      {
       "output_type": "stream",
       "stream": "stdout",
       "text": [
        "100000 loops, best of 3: 8.53 \u00b5s per loop\n"
       ]
      }
     ],
     "prompt_number": 8
    },
    {
     "cell_type": "code",
     "collapsed": false,
     "input": [
      "%timeit np.clip(1.3, -1.0, 1.0)"
     ],
     "language": "python",
     "metadata": {},
     "outputs": [
      {
       "output_type": "stream",
       "stream": "stdout",
       "text": [
        "100000 loops, best of 3: 8.72 \u00b5s per loop\n"
       ]
      }
     ],
     "prompt_number": 10
    },
    {
     "cell_type": "code",
     "collapsed": false,
     "input": [
      "%%timeit\n",
      "i = 1.3\n",
      "if i > 1:\n",
      "    i = 1.0\n",
      "if i < -1:\n",
      "    i = -1.0"
     ],
     "language": "python",
     "metadata": {},
     "outputs": [
      {
       "output_type": "stream",
       "stream": "stdout",
       "text": [
        "10000000 loops, best of 3: 155 ns per loop\n"
       ]
      }
     ],
     "prompt_number": 11
    },
    {
     "cell_type": "code",
     "collapsed": false,
     "input": [
      "%%timeit\n",
      "i = 1.3\n",
      "i = max(-1.0,i)\n",
      "i = min(1.0, i)"
     ],
     "language": "python",
     "metadata": {},
     "outputs": [
      {
       "output_type": "stream",
       "stream": "stdout",
       "text": [
        "1000000 loops, best of 3: 385 ns per loop\n"
       ]
      }
     ],
     "prompt_number": 12
    },
    {
     "cell_type": "code",
     "collapsed": false,
     "input": [
      "%%timeit\n",
      "alpha=35\n",
      "alpha_rad = alpha*pi/180."
     ],
     "language": "python",
     "metadata": {},
     "outputs": [
      {
       "output_type": "stream",
       "stream": "stdout",
       "text": [
        "10000000 loops, best of 3: 96.2 ns per loop\n"
       ]
      }
     ],
     "prompt_number": 15
    },
    {
     "cell_type": "markdown",
     "metadata": {},
     "source": [
      "$ dotp = min(1.0,dot)$\n"
     ]
    },
    {
     "cell_type": "markdown",
     "metadata": {},
     "source": [
      "$dotp = max(-1.0, dotp)$"
     ]
    },
    {
     "cell_type": "markdown",
     "metadata": {},
     "source": [
      "$t_{az}=degrees(acos(dotp))$"
     ]
    },
    {
     "cell_type": "markdown",
     "metadata": {},
     "source": [
      "check for positive or negative taz by taking cross product of\n",
      "solar vector and look vector and taking the dot product with the normal vector\n"
     ]
    },
    {
     "cell_type": "markdown",
     "metadata": {},
     "source": [
      "$xp = sv \\times ev$"
     ]
    },
    {
     "cell_type": "markdown",
     "metadata": {},
     "source": [
      "$dotp = xp \\cdot trin$"
     ]
    },
    {
     "cell_type": "markdown",
     "metadata": {},
     "source": [
      "$taz = abs(taz)$"
     ]
    },
    {
     "cell_type": "code",
     "collapsed": false,
     "input": [
      "c calculate azimuth angle\n",
      "             dotp=\n",
      "     & ((cos(tphase*pi/180.)-cos(tinc*pi/180.)*cos(temis*pi/180.))/\n",
      "     & (sin(tinc*pi/180.)*sin(temis*pi/180.)))\n",
      "             if (dotp.gt.1)  then\n",
      "                dotp=1.0\n",
      "             else if (dotp.lt.-1) then\n",
      "                dotp=-1.0\n",
      "             endif\n",
      "             taz=(180./pi)*acos(dotp)\n",
      "c check for positive or negative taz by taking cross product of\n",
      "c solar vector and look vector and taking the dot product with the normal vector\n",
      "             xp(1)=sv(2)*ev(3)-sv(3)*ev(2)\n",
      "             xp(2)=sv(3)*ev(1)-sv(1)*ev(3)\n",
      "             xp(3)=sv(1)*ev(2)-sv(2)*ev(1)\n",
      "             dotp=xp(1)*trin(1)+xp(2)*trin(2)+xp(3)*trin(3)\n",
      "             if (dotp.lt.0) taz=-taz"
     ],
     "language": "python",
     "metadata": {},
     "outputs": []
    },
    {
     "cell_type": "code",
     "collapsed": false,
     "input": [
      "range(0,375, 15)"
     ],
     "language": "python",
     "metadata": {},
     "outputs": [
      {
       "metadata": {},
       "output_type": "pyout",
       "prompt_number": 8,
       "text": [
        "[0,\n",
        " 15,\n",
        " 30,\n",
        " 45,\n",
        " 60,\n",
        " 75,\n",
        " 90,\n",
        " 105,\n",
        " 120,\n",
        " 135,\n",
        " 150,\n",
        " 165,\n",
        " 180,\n",
        " 195,\n",
        " 210,\n",
        " 225,\n",
        " 240,\n",
        " 255,\n",
        " 270,\n",
        " 285,\n",
        " 300,\n",
        " 315,\n",
        " 330,\n",
        " 345,\n",
        " 360]"
       ]
      }
     ],
     "prompt_number": 8
    },
    {
     "cell_type": "code",
     "collapsed": false,
     "input": [],
     "language": "python",
     "metadata": {},
     "outputs": []
    }
   ],
   "metadata": {}
  }
 ]
}