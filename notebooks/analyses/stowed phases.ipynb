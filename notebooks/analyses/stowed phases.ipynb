{
 "metadata": {
  "name": "",
  "signature": "sha256:9f24d09bd1236c53a5df29f20ae9bf62c9226e0c312d3648fea5b8ee973e4ce0"
 },
 "nbformat": 3,
 "nbformat_minor": 0,
 "worksheets": [
  {
   "cells": [
    {
     "cell_type": "code",
     "collapsed": false,
     "input": [
      "import pandas as pd\n",
      "from diviner import data_prep\n",
      "from diviner import file_utils\n",
      "from scipy.ndimage import label"
     ],
     "language": "python",
     "metadata": {},
     "outputs": [],
     "prompt_number": 1
    },
    {
     "cell_type": "code",
     "collapsed": false,
     "input": [
      "pd.set_option('display.max_rows',20)\n",
      "pd.__version__"
     ],
     "language": "python",
     "metadata": {},
     "outputs": [
      {
       "metadata": {},
       "output_type": "pyout",
       "prompt_number": 2,
       "text": [
        "'0.12.0-1184-gc73b957'"
       ]
      }
     ],
     "prompt_number": 2
    },
    {
     "cell_type": "code",
     "collapsed": false,
     "input": [
      "cd /raid1/maye/rdr_out/metadata"
     ],
     "language": "python",
     "metadata": {},
     "outputs": [
      {
       "output_type": "stream",
       "stream": "stdout",
       "text": [
        "/raid1/maye/rdr_out/metadata\n"
       ]
      }
     ],
     "prompt_number": 3
    },
    {
     "cell_type": "markdown",
     "metadata": {},
     "source": [
      "This is the code to find and label phases meeting a certain criterion. Could possibly be adapted to a lot of things."
     ]
    },
    {
     "cell_type": "code",
     "collapsed": false,
     "input": [
      "!rm -f earth_scans.h5\n",
      "colname = 'last_el_cmd'\n",
      "import gc\n",
      "\n",
      "for i,fname in enumerate(fnames):\n",
      "    if i % 4 ==0:\n",
      "        gc.collect()\n",
      "        print gc.collect()\n",
      "    print fname\n",
      "    df = pd.read_hdf(fname, 'df', columns=[colname])\n",
      "    df['mybool'] = df[colname] == 90\n",
      "    df['label'] = label(df.mybool)[0]\n",
      "    df['time'] = df.index\n",
      "    g = df.groupby('label')['time']\n",
      "    pd.DataFrame({'start':g.first(),\n",
      "                  'duration':g.last() - g.first()})[1:].to_hdf('./earth_scans.h5',\n",
      "                                                           'df',\n",
      "                                                           mode='a',\n",
      "                                                           format='table',\n",
      "                                                           append=True)\n",
      "#     del df\n",
      "    "
     ],
     "language": "python",
     "metadata": {},
     "outputs": []
    },
    {
     "cell_type": "code",
     "collapsed": false,
     "input": [
      "df = pd.read_hdf('earth_scans.h5','df')"
     ],
     "language": "python",
     "metadata": {},
     "outputs": []
    },
    {
     "cell_type": "code",
     "collapsed": false,
     "input": [
      "df = pd.read_hdf('/raid1/maye/rdr_out/metadata/stowed_search.h5','df')\n",
      "df"
     ],
     "language": "python",
     "metadata": {},
     "outputs": [
      {
       "html": [
        "<div style=\"max-height:1000px;max-width:1500px;overflow:auto;\">\n",
        "<table border=\"1\" class=\"dataframe\">\n",
        "  <thead>\n",
        "    <tr style=\"text-align: right;\">\n",
        "      <th></th>\n",
        "      <th>duration</th>\n",
        "      <th>start</th>\n",
        "    </tr>\n",
        "    <tr>\n",
        "      <th>label</th>\n",
        "      <th></th>\n",
        "      <th></th>\n",
        "    </tr>\n",
        "  </thead>\n",
        "  <tbody>\n",
        "    <tr>\n",
        "      <th>1 </th>\n",
        "      <td>00:02:25.152001</td>\n",
        "      <td>2009-07-05 16:53:44.914999</td>\n",
        "    </tr>\n",
        "    <tr>\n",
        "      <th>2 </th>\n",
        "      <td>23:58:39.391999</td>\n",
        "      <td>2009-07-05 16:57:12.737000</td>\n",
        "    </tr>\n",
        "    <tr>\n",
        "      <th>3 </th>\n",
        "      <td>10:15:28.150999</td>\n",
        "      <td>2009-07-11 15:03:20.155000</td>\n",
        "    </tr>\n",
        "    <tr>\n",
        "      <th>4 </th>\n",
        "      <td>01:05:09.585000</td>\n",
        "      <td>2009-07-19 18:15:26.341000</td>\n",
        "    </tr>\n",
        "    <tr>\n",
        "      <th>5 </th>\n",
        "      <td>01:48:38.787999</td>\n",
        "      <td>2009-07-23 13:28:25.132000</td>\n",
        "    </tr>\n",
        "    <tr>\n",
        "      <th>6 </th>\n",
        "      <td>01:28:40.673999</td>\n",
        "      <td>2009-07-24 16:05:24.658000</td>\n",
        "    </tr>\n",
        "    <tr>\n",
        "      <th>7 </th>\n",
        "      <td>01:14:38.934999</td>\n",
        "      <td>2009-07-27 11:45:26.378000</td>\n",
        "    </tr>\n",
        "    <tr>\n",
        "      <th>8 </th>\n",
        "      <td>01:34:47.273000</td>\n",
        "      <td>2009-07-29 21:15:17.371999</td>\n",
        "    </tr>\n",
        "    <tr>\n",
        "      <th>1 </th>\n",
        "      <td>01:11:48.945000</td>\n",
        "      <td>2009-08-09 13:35:16.806999</td>\n",
        "    </tr>\n",
        "    <tr>\n",
        "      <th>2 </th>\n",
        "      <td>01:14:38.931000</td>\n",
        "      <td>2009-08-09 17:25:26.719000</td>\n",
        "    </tr>\n",
        "    <tr>\n",
        "      <th>3 </th>\n",
        "      <td>01:09:37.868000</td>\n",
        "      <td>2009-08-09 21:30:27.524000</td>\n",
        "    </tr>\n",
        "    <tr>\n",
        "      <th>4 </th>\n",
        "      <td>00:59:39.834000</td>\n",
        "      <td>2009-08-14 12:00:25.574999</td>\n",
        "    </tr>\n",
        "    <tr>\n",
        "      <th>5 </th>\n",
        "      <td>01:34:39.083001</td>\n",
        "      <td>2009-08-15 18:30:26.888999</td>\n",
        "    </tr>\n",
        "    <tr>\n",
        "      <th>6 </th>\n",
        "      <td>01:29:09.351001</td>\n",
        "      <td>2009-08-15 22:30:26.635999</td>\n",
        "    </tr>\n",
        "    <tr>\n",
        "      <th>7 </th>\n",
        "      <td>01:24:39.005000</td>\n",
        "      <td>2009-08-16 12:05:25.539999</td>\n",
        "    </tr>\n",
        "    <tr>\n",
        "      <th>8 </th>\n",
        "      <td>01:24:39.005001</td>\n",
        "      <td>2009-08-16 16:20:26.417999</td>\n",
        "    </tr>\n",
        "    <tr>\n",
        "      <th>9 </th>\n",
        "      <td>01:54:39.231999</td>\n",
        "      <td>2009-08-16 20:20:26.172000</td>\n",
        "    </tr>\n",
        "    <tr>\n",
        "      <th>10</th>\n",
        "      <td>01:24:36.962001</td>\n",
        "      <td>2009-08-17 12:05:28.085999</td>\n",
        "    </tr>\n",
        "    <tr>\n",
        "      <th>11</th>\n",
        "      <td>02:04:41.357999</td>\n",
        "      <td>2009-08-19 21:20:24.021000</td>\n",
        "    </tr>\n",
        "    <tr>\n",
        "      <th>12</th>\n",
        "      <td>01:29:38.022000</td>\n",
        "      <td>2009-08-20 15:35:27.106999</td>\n",
        "    </tr>\n",
        "    <tr>\n",
        "      <th></th>\n",
        "      <td>...</td>\n",
        "      <td>...</td>\n",
        "    </tr>\n",
        "  </tbody>\n",
        "</table>\n",
        "<p>796 rows \u00d7 2 columns</p>\n",
        "</div>"
       ],
       "metadata": {},
       "output_type": "pyout",
       "prompt_number": 8,
       "text": [
        "             duration                      start\n",
        "label                                           \n",
        "1     00:02:25.152001 2009-07-05 16:53:44.914999\n",
        "2     23:58:39.391999 2009-07-05 16:57:12.737000\n",
        "3     10:15:28.150999 2009-07-11 15:03:20.155000\n",
        "4     01:05:09.585000 2009-07-19 18:15:26.341000\n",
        "5     01:48:38.787999 2009-07-23 13:28:25.132000\n",
        "6     01:28:40.673999 2009-07-24 16:05:24.658000\n",
        "7     01:14:38.934999 2009-07-27 11:45:26.378000\n",
        "8     01:34:47.273000 2009-07-29 21:15:17.371999\n",
        "1     01:11:48.945000 2009-08-09 13:35:16.806999\n",
        "2     01:14:38.931000 2009-08-09 17:25:26.719000\n",
        "3     01:09:37.868000 2009-08-09 21:30:27.524000\n",
        "4     00:59:39.834000 2009-08-14 12:00:25.574999\n",
        "5     01:34:39.083001 2009-08-15 18:30:26.888999\n",
        "6     01:29:09.351001 2009-08-15 22:30:26.635999\n",
        "7     01:24:39.005000 2009-08-16 12:05:25.539999\n",
        "8     01:24:39.005001 2009-08-16 16:20:26.417999\n",
        "9     01:54:39.231999 2009-08-16 20:20:26.172000\n",
        "10    01:24:36.962001 2009-08-17 12:05:28.085999\n",
        "11    02:04:41.357999 2009-08-19 21:20:24.021000\n",
        "12    01:29:38.022000 2009-08-20 15:35:27.106999\n",
        "                  ...                        ...\n",
        "\n",
        "[796 rows x 2 columns]"
       ]
      }
     ],
     "prompt_number": 8
    },
    {
     "cell_type": "code",
     "collapsed": false,
     "input": [
      "df['stop']=df.start+df.duration"
     ],
     "language": "python",
     "metadata": {},
     "outputs": [],
     "prompt_number": 9
    },
    {
     "cell_type": "code",
     "collapsed": false,
     "input": [
      "df.head()"
     ],
     "language": "python",
     "metadata": {},
     "outputs": [
      {
       "html": [
        "<div style=\"max-height:1000px;max-width:1500px;overflow:auto;\">\n",
        "<table border=\"1\" class=\"dataframe\">\n",
        "  <thead>\n",
        "    <tr style=\"text-align: right;\">\n",
        "      <th></th>\n",
        "      <th>duration</th>\n",
        "      <th>start</th>\n",
        "      <th>stop</th>\n",
        "    </tr>\n",
        "    <tr>\n",
        "      <th>label</th>\n",
        "      <th></th>\n",
        "      <th></th>\n",
        "      <th></th>\n",
        "    </tr>\n",
        "  </thead>\n",
        "  <tbody>\n",
        "    <tr>\n",
        "      <th>1</th>\n",
        "      <td>00:02:25.152001</td>\n",
        "      <td>2009-07-05 16:53:44.914999</td>\n",
        "      <td>2009-07-05 16:56:10.067000</td>\n",
        "    </tr>\n",
        "    <tr>\n",
        "      <th>2</th>\n",
        "      <td>23:58:39.391999</td>\n",
        "      <td>2009-07-05 16:57:12.737000</td>\n",
        "      <td>2009-07-06 16:55:52.128999</td>\n",
        "    </tr>\n",
        "    <tr>\n",
        "      <th>3</th>\n",
        "      <td>10:15:28.150999</td>\n",
        "      <td>2009-07-11 15:03:20.155000</td>\n",
        "      <td>2009-07-12 01:18:48.305999</td>\n",
        "    </tr>\n",
        "    <tr>\n",
        "      <th>4</th>\n",
        "      <td>01:05:09.585000</td>\n",
        "      <td>2009-07-19 18:15:26.341000</td>\n",
        "      <td>2009-07-19 19:20:35.926000</td>\n",
        "    </tr>\n",
        "    <tr>\n",
        "      <th>5</th>\n",
        "      <td>01:48:38.787999</td>\n",
        "      <td>2009-07-23 13:28:25.132000</td>\n",
        "      <td>2009-07-23 15:17:03.919999</td>\n",
        "    </tr>\n",
        "  </tbody>\n",
        "</table>\n",
        "<p>5 rows \u00d7 3 columns</p>\n",
        "</div>"
       ],
       "metadata": {},
       "output_type": "pyout",
       "prompt_number": 10,
       "text": [
        "             duration                      start                       stop\n",
        "label                                                                      \n",
        "1     00:02:25.152001 2009-07-05 16:53:44.914999 2009-07-05 16:56:10.067000\n",
        "2     23:58:39.391999 2009-07-05 16:57:12.737000 2009-07-06 16:55:52.128999\n",
        "3     10:15:28.150999 2009-07-11 15:03:20.155000 2009-07-12 01:18:48.305999\n",
        "4     01:05:09.585000 2009-07-19 18:15:26.341000 2009-07-19 19:20:35.926000\n",
        "5     01:48:38.787999 2009-07-23 13:28:25.132000 2009-07-23 15:17:03.919999\n",
        "\n",
        "[5 rows x 3 columns]"
       ]
      }
     ],
     "prompt_number": 10
    },
    {
     "cell_type": "code",
     "collapsed": false,
     "input": [
      "df.dtypes"
     ],
     "language": "python",
     "metadata": {},
     "outputs": [
      {
       "metadata": {},
       "output_type": "pyout",
       "prompt_number": 12,
       "text": [
        "duration    timedelta64[ns]\n",
        "start        datetime64[ns]\n",
        "stop         datetime64[ns]\n",
        "dtype: object"
       ]
      }
     ],
     "prompt_number": 12
    },
    {
     "cell_type": "code",
     "collapsed": false,
     "input": [
      "df.set_index('start', inplace=True)"
     ],
     "language": "python",
     "metadata": {},
     "outputs": [],
     "prompt_number": 13
    },
    {
     "cell_type": "code",
     "collapsed": false,
     "input": [
      "df.head()"
     ],
     "language": "python",
     "metadata": {},
     "outputs": [
      {
       "html": [
        "<div style=\"max-height:1000px;max-width:1500px;overflow:auto;\">\n",
        "<table border=\"1\" class=\"dataframe\">\n",
        "  <thead>\n",
        "    <tr style=\"text-align: right;\">\n",
        "      <th></th>\n",
        "      <th>duration</th>\n",
        "      <th>stop</th>\n",
        "    </tr>\n",
        "    <tr>\n",
        "      <th>start</th>\n",
        "      <th></th>\n",
        "      <th></th>\n",
        "    </tr>\n",
        "  </thead>\n",
        "  <tbody>\n",
        "    <tr>\n",
        "      <th>2009-07-05 16:53:44.914999</th>\n",
        "      <td>00:02:25.152001</td>\n",
        "      <td>2009-07-05 16:56:10.067000</td>\n",
        "    </tr>\n",
        "    <tr>\n",
        "      <th>2009-07-05 16:57:12.737000</th>\n",
        "      <td>23:58:39.391999</td>\n",
        "      <td>2009-07-06 16:55:52.128999</td>\n",
        "    </tr>\n",
        "    <tr>\n",
        "      <th>2009-07-11 15:03:20.155000</th>\n",
        "      <td>10:15:28.150999</td>\n",
        "      <td>2009-07-12 01:18:48.305999</td>\n",
        "    </tr>\n",
        "    <tr>\n",
        "      <th>2009-07-19 18:15:26.341000</th>\n",
        "      <td>01:05:09.585000</td>\n",
        "      <td>2009-07-19 19:20:35.926000</td>\n",
        "    </tr>\n",
        "    <tr>\n",
        "      <th>2009-07-23 13:28:25.132000</th>\n",
        "      <td>01:48:38.787999</td>\n",
        "      <td>2009-07-23 15:17:03.919999</td>\n",
        "    </tr>\n",
        "  </tbody>\n",
        "</table>\n",
        "<p>5 rows \u00d7 2 columns</p>\n",
        "</div>"
       ],
       "metadata": {},
       "output_type": "pyout",
       "prompt_number": 14,
       "text": [
        "                                  duration                       stop\n",
        "start                                                                \n",
        "2009-07-05 16:53:44.914999 00:02:25.152001 2009-07-05 16:56:10.067000\n",
        "2009-07-05 16:57:12.737000 23:58:39.391999 2009-07-06 16:55:52.128999\n",
        "2009-07-11 15:03:20.155000 10:15:28.150999 2009-07-12 01:18:48.305999\n",
        "2009-07-19 18:15:26.341000 01:05:09.585000 2009-07-19 19:20:35.926000\n",
        "2009-07-23 13:28:25.132000 01:48:38.787999 2009-07-23 15:17:03.919999\n",
        "\n",
        "[5 rows x 2 columns]"
       ]
      }
     ],
     "prompt_number": 14
    },
    {
     "cell_type": "code",
     "collapsed": false,
     "input": [
      "df.duration.sum()/1e9/3600/24"
     ],
     "language": "python",
     "metadata": {},
     "outputs": [
      {
       "metadata": {},
       "output_type": "pyout",
       "prompt_number": 23,
       "text": [
        "45.57361702575232"
       ]
      }
     ],
     "prompt_number": 23
    },
    {
     "cell_type": "code",
     "collapsed": false,
     "input": [
      "45/(4.0*365)"
     ],
     "language": "python",
     "metadata": {},
     "outputs": [
      {
       "metadata": {},
       "output_type": "pyout",
       "prompt_number": 25,
       "text": [
        "0.030821917808219176"
       ]
      }
     ],
     "prompt_number": 25
    },
    {
     "cell_type": "code",
     "collapsed": false,
     "input": [
      "def to_iso_timestamp(val):\n",
      "    return val.isoformat()"
     ],
     "language": "python",
     "metadata": {},
     "outputs": []
    },
    {
     "cell_type": "code",
     "collapsed": false,
     "input": [
      "df['start'] = df.start.map(to_iso_timestamp)"
     ],
     "language": "python",
     "metadata": {},
     "outputs": []
    },
    {
     "cell_type": "code",
     "collapsed": false,
     "input": [
      "df['stop'] = df.stop.map(to_iso_timestamp)"
     ],
     "language": "python",
     "metadata": {},
     "outputs": []
    },
    {
     "cell_type": "code",
     "collapsed": false,
     "input": [
      "df.to_csv('/raid1/maye/rdr_out/metadata/stowed_times.csv',index=False)"
     ],
     "language": "python",
     "metadata": {},
     "outputs": []
    },
    {
     "cell_type": "code",
     "collapsed": false,
     "input": [
      "df.head()"
     ],
     "language": "python",
     "metadata": {},
     "outputs": []
    },
    {
     "cell_type": "code",
     "collapsed": false,
     "input": [
      "df[df.duration > '10m']"
     ],
     "language": "python",
     "metadata": {},
     "outputs": []
    },
    {
     "cell_type": "code",
     "collapsed": false,
     "input": [],
     "language": "python",
     "metadata": {},
     "outputs": []
    }
   ],
   "metadata": {}
  }
 ]
}