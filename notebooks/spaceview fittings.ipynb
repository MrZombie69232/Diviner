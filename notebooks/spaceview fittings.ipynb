{
 "metadata": {
  "name": ""
 },
 "nbformat": 3,
 "nbformat_minor": 0,
 "worksheets": [
  {
   "cells": [
    {
     "cell_type": "code",
     "collapsed": false,
     "input": [
      "import pandas as pd\n",
      "from diviner import calib\n",
      "from diviner import file_utils as fu\n",
      "from diviner import plot_utils as pu\n",
      "reload(calib)\n",
      "reload(pu)"
     ],
     "language": "python",
     "metadata": {},
     "outputs": [
      {
       "metadata": {},
       "output_type": "pyout",
       "prompt_number": 1,
       "text": [
        "<module 'diviner.plot_utils' from '/Users/maye/Dropbox/src/diviner/plot_utils.pyc'>"
       ]
      }
     ],
     "prompt_number": 1
    },
    {
     "cell_type": "code",
     "collapsed": false,
     "input": [
      "pump = fu.L1ADataPump('2013030508')"
     ],
     "language": "python",
     "metadata": {},
     "outputs": [],
     "prompt_number": 145
    },
    {
     "cell_type": "code",
     "collapsed": false,
     "input": [
      "import datetime as dt\n",
      "mytime = dt.datetime(2013,3,5)\n",
      "mytime.strftime('%Y-%j')"
     ],
     "language": "python",
     "metadata": {},
     "outputs": [
      {
       "metadata": {},
       "output_type": "pyout",
       "prompt_number": 143,
       "text": [
        "'2013-064'"
       ]
      }
     ],
     "prompt_number": 143
    },
    {
     "cell_type": "code",
     "collapsed": false,
     "input": [
      "df = pump.get_n_hours_from_t(1,0)"
     ],
     "language": "python",
     "metadata": {},
     "outputs": [
      {
       "output_type": "stream",
       "stream": "stdout",
       "text": [
        "2013030508_L1A.TAB\n"
       ]
      }
     ],
     "prompt_number": 146
    },
    {
     "cell_type": "code",
     "collapsed": false,
     "input": [
      "df.sv_block_labels.unique()"
     ],
     "language": "python",
     "metadata": {},
     "outputs": [
      {
       "metadata": {},
       "output_type": "pyout",
       "prompt_number": 147,
       "text": [
        "array([ 0,  1,  2,  3,  4,  5,  6,  7,  8,  9, 10, 11, 12])"
       ]
      }
     ],
     "prompt_number": 147
    },
    {
     "cell_type": "code",
     "collapsed": false,
     "input": [
      "pu.plot_all_calib_blocks(df, det='b3_11')"
     ],
     "language": "python",
     "metadata": {},
     "outputs": [
      {
       "output_type": "stream",
       "stream": "stdout",
       "text": [
        "Calib block 0 has no caldata.\n"
       ]
      }
     ],
     "prompt_number": 210
    },
    {
     "cell_type": "code",
     "collapsed": false,
     "input": [
      "savefig('cal_blocks.png',dpi=200)"
     ],
     "language": "python",
     "metadata": {},
     "outputs": [],
     "prompt_number": 211
    },
    {
     "cell_type": "code",
     "collapsed": false,
     "input": [
      "df.b3_11.plot()"
     ],
     "language": "python",
     "metadata": {},
     "outputs": [
      {
       "metadata": {},
       "output_type": "pyout",
       "prompt_number": 150,
       "text": [
        "<matplotlib.axes.AxesSubplot at 0x124cd2950>"
       ]
      }
     ],
     "prompt_number": 150
    },
    {
     "cell_type": "code",
     "collapsed": false,
     "input": [
      "pu.plot_calib_block(df, 'calib',4, det='b3_11')"
     ],
     "language": "python",
     "metadata": {},
     "outputs": [],
     "prompt_number": 139
    },
    {
     "cell_type": "code",
     "collapsed": false,
     "input": [
      "cb = df[df.calib_block_labels==4]"
     ],
     "language": "python",
     "metadata": {},
     "outputs": [],
     "prompt_number": 140
    },
    {
     "cell_type": "code",
     "collapsed": false,
     "input": [
      "cb[['last_az_cmd','last_el_cmd']].plot()"
     ],
     "language": "python",
     "metadata": {},
     "outputs": [
      {
       "metadata": {},
       "output_type": "pyout",
       "prompt_number": 141,
       "text": [
        "<matplotlib.axes.AxesSubplot at 0x124fde050>"
       ]
      }
     ],
     "prompt_number": 141
    },
    {
     "cell_type": "code",
     "collapsed": false,
     "input": [
      "cb3.sv_block_labels.unique()"
     ],
     "language": "python",
     "metadata": {},
     "outputs": [
      {
       "metadata": {},
       "output_type": "pyout",
       "prompt_number": 32,
       "text": [
        "array([5, 0, 6])"
       ]
      }
     ],
     "prompt_number": 32
    },
    {
     "cell_type": "code",
     "collapsed": false,
     "input": [
      "sv5 = cb3[cb3.sv_block_labels==5]"
     ],
     "language": "python",
     "metadata": {},
     "outputs": [],
     "prompt_number": 33
    },
    {
     "cell_type": "code",
     "collapsed": false,
     "input": [
      "sv5.b3_11.plot()"
     ],
     "language": "python",
     "metadata": {},
     "outputs": [
      {
       "metadata": {},
       "output_type": "pyout",
       "prompt_number": 34,
       "text": [
        "<matplotlib.axes.AxesSubplot at 0x11973fe90>"
       ]
      }
     ],
     "prompt_number": 34
    },
    {
     "cell_type": "code",
     "collapsed": false,
     "input": [
      "def expfunc(x,a,b,c):\n",
      "    return a * np.exp(-b*x) + c"
     ],
     "language": "python",
     "metadata": {},
     "outputs": [],
     "prompt_number": 38
    },
    {
     "cell_type": "code",
     "collapsed": false,
     "input": [
      "x = linspace(0,4,50)\n",
      "y = expfunc(x, -1,1.0,c0)\n",
      "plot(x,y)\n",
      "display(gcf())"
     ],
     "language": "python",
     "metadata": {},
     "outputs": [
      {
       "metadata": {},
       "output_type": "display_data",
       "png": "[encoded data removed]",
       "text": [
        "<matplotlib.figure.Figure at 0x11a065110>"
       ]
      }
     ],
     "prompt_number": 62
    },
    {
     "cell_type": "code",
     "collapsed": false,
     "input": [
      "sv = df[df.sv_block_labels == 7]\n",
      "data = sv[sv.is_calib].b3_11"
     ],
     "language": "python",
     "metadata": {},
     "outputs": [],
     "prompt_number": 79
    },
    {
     "cell_type": "code",
     "collapsed": false,
     "input": [
      "df.sv_block_labels.unique()"
     ],
     "language": "python",
     "metadata": {},
     "outputs": [
      {
       "metadata": {},
       "output_type": "pyout",
       "prompt_number": 81,
       "text": [
        "array([0, 1, 2, 3, 4, 5, 6, 7, 8])"
       ]
      }
     ],
     "prompt_number": 81
    },
    {
     "cell_type": "code",
     "collapsed": false,
     "input": [
      "data.plot()"
     ],
     "language": "python",
     "metadata": {},
     "outputs": [
      {
       "metadata": {},
       "output_type": "pyout",
       "prompt_number": 80,
       "text": [
        "<matplotlib.axes.AxesSubplot at 0x11a71a710>"
       ]
      }
     ],
     "prompt_number": 80
    },
    {
     "cell_type": "code",
     "collapsed": false,
     "input": [
      "from scipy.optimize import curve_fit"
     ],
     "language": "python",
     "metadata": {},
     "outputs": [],
     "prompt_number": 47
    },
    {
     "cell_type": "code",
     "collapsed": false,
     "input": [
      "x = arange(len(data))"
     ],
     "language": "python",
     "metadata": {},
     "outputs": [],
     "prompt_number": 69
    },
    {
     "cell_type": "code",
     "collapsed": false,
     "input": [
      "yn = data.values\n",
      "yn"
     ],
     "language": "python",
     "metadata": {},
     "outputs": [
      {
       "metadata": {},
       "output_type": "pyout",
       "prompt_number": 65,
       "text": [
        "array([27753, 27751, 27753, 27756, 27757, 27755, 27761, 27750, 27755,\n",
        "       27758, 27760, 27759, 27758, 27760, 27760, 27757, 27766, 27759,\n",
        "       27758, 27763, 27767, 27758, 27764, 27758, 27764, 27765, 27765,\n",
        "       27769, 27763, 27769, 27768, 27765, 27764, 27767, 27763, 27759,\n",
        "       27765, 27771, 27767, 27765, 27769, 27767, 27768, 27763, 27768,\n",
        "       27769, 27763, 27764, 27763, 27767, 27768, 27764, 27767, 27770,\n",
        "       27763, 27766, 27768, 27768, 27767, 27767, 27764, 27767, 27766,\n",
        "       27769, 27768, 27766, 27767, 27769, 27765, 27770, 27766, 27766,\n",
        "       27763, 27767, 27767, 27764, 27765, 27768, 27765, 27765])"
       ]
      }
     ],
     "prompt_number": 65
    },
    {
     "cell_type": "code",
     "collapsed": false,
     "input": [
      "c0 = yn[-1]"
     ],
     "language": "python",
     "metadata": {},
     "outputs": [],
     "prompt_number": 66
    },
    {
     "cell_type": "code",
     "collapsed": false,
     "input": [
      "p0 = [-1, 1, c0]"
     ],
     "language": "python",
     "metadata": {},
     "outputs": [],
     "prompt_number": 60
    },
    {
     "cell_type": "code",
     "collapsed": false,
     "input": [
      "popt, pcov = curve_fit(expfunc, x, yn, p0=p0)"
     ],
     "language": "python",
     "metadata": {},
     "outputs": [],
     "prompt_number": 71
    },
    {
     "cell_type": "code",
     "collapsed": false,
     "input": [
      "def get_data_series(df, label, det):\n",
      "    data = df[df.sv_block_labels == label]\n",
      "    return data[data.is_calib][det]"
     ],
     "language": "python",
     "metadata": {},
     "outputs": [],
     "prompt_number": 152
    },
    {
     "cell_type": "code",
     "collapsed": false,
     "input": [
      "def fit_data(data):\n",
      "    x = arange(len(data))\n",
      "    yn = data.values\n",
      "    c0 = yn[-1]\n",
      "    p0 = [-1, 1, c0]\n",
      "    return curve_fit(expfunc, x, yn, p0=p0)"
     ],
     "language": "python",
     "metadata": {},
     "outputs": [],
     "prompt_number": 154
    },
    {
     "cell_type": "code",
     "collapsed": false,
     "input": [
      "def integrate_diff(data, popt):\n",
      "    y0 = popt[-1]\n",
      "    yn = data.values\n",
      "    y0_integral = len(yn) * y0\n",
      "    return y0_integral - yn.sum()"
     ],
     "language": "python",
     "metadata": {},
     "outputs": [],
     "prompt_number": 155
    },
    {
     "cell_type": "code",
     "collapsed": false,
     "input": [
      "def plot_stuff(data, popt):\n",
      "    x = arange(len(data))\n",
      "    yn = data.values\n",
      "    plot(x, yn, 'o', label=\"Orig \" + str(sv_label))\n",
      "    plot(x, expfunc(x, *popt), label=\"Fitted \" + str(sv_label))"
     ],
     "language": "python",
     "metadata": {},
     "outputs": [],
     "prompt_number": 159
    },
    {
     "cell_type": "code",
     "collapsed": false,
     "input": [
      "results = []\n",
      "for sv_label in [1,3,5,7,9,11]:\n",
      "    data = get_data_series(df, sv_label, 'b3_11')\n",
      "    popt, pcov = fit_data(data)\n",
      "    results.append(integrate_diff(data, popt))\n",
      "    plot_stuff(data, popt)\n",
      "legend(loc='best')"
     ],
     "language": "python",
     "metadata": {},
     "outputs": [
      {
       "metadata": {},
       "output_type": "pyout",
       "prompt_number": 208,
       "text": [
        "<matplotlib.legend.Legend at 0x13987c790>"
       ]
      }
     ],
     "prompt_number": 208
    },
    {
     "cell_type": "code",
     "collapsed": false,
     "input": [
      "savefig('fittings.png',dpi=200)"
     ],
     "language": "python",
     "metadata": {},
     "outputs": [],
     "prompt_number": 209
    },
    {
     "cell_type": "code",
     "collapsed": false,
     "input": [
      "sviews = df[df.is_spaceview]"
     ],
     "language": "python",
     "metadata": {},
     "outputs": [],
     "prompt_number": 162
    },
    {
     "cell_type": "code",
     "collapsed": false,
     "input": [
      "mean_time = calib.get_mean_time"
     ],
     "language": "python",
     "metadata": {},
     "outputs": [],
     "prompt_number": 166
    },
    {
     "cell_type": "code",
     "collapsed": false,
     "input": [
      "times = sviews.groupby('sv_block_labels')['b3_11'].agg(mean_time)"
     ],
     "language": "python",
     "metadata": {},
     "outputs": [],
     "prompt_number": 170
    },
    {
     "cell_type": "code",
     "collapsed": false,
     "input": [
      "times"
     ],
     "language": "python",
     "metadata": {},
     "outputs": [
      {
       "metadata": {},
       "output_type": "pyout",
       "prompt_number": 171,
       "text": [
        "sv_block_labels\n",
        "1                 2013-03-05 08:06:57.940000\n",
        "2                 2013-03-05 08:07:26.612000\n",
        "3                 2013-03-05 08:16:43.676000\n",
        "4                 2013-03-05 08:17:12.349000\n",
        "5                 2013-03-05 08:26:17.124000\n",
        "6                 2013-03-05 08:26:45.797000\n",
        "7                 2013-03-05 08:36:02.861000\n",
        "8                 2013-03-05 08:36:31.533000\n",
        "9                 2013-03-05 08:46:21.365500\n",
        "10                2013-03-05 08:46:50.038000\n",
        "11                2013-03-05 08:56:11.198000\n",
        "12                2013-03-05 08:56:39.870000\n",
        "Name: b3_11, dtype: datetime64[ns]"
       ]
      }
     ],
     "prompt_number": 171
    },
    {
     "cell_type": "code",
     "collapsed": false,
     "input": [
      "results"
     ],
     "language": "python",
     "metadata": {},
     "outputs": [
      {
       "metadata": {},
       "output_type": "pyout",
       "prompt_number": 172,
       "text": [
        "[86.182728475425392,\n",
        " 143.716600316111,\n",
        " 218.41993976989761,\n",
        " 177.90135369962081,\n",
        " 88.271111318375915,\n",
        " 31.888038952369243]"
       ]
      }
     ],
     "prompt_number": 172
    },
    {
     "cell_type": "code",
     "collapsed": false,
     "input": [
      "labels = [1,3,5,7,9,11]"
     ],
     "language": "python",
     "metadata": {},
     "outputs": [],
     "prompt_number": 173
    },
    {
     "cell_type": "code",
     "collapsed": false,
     "input": [
      "integrations = pd.DataFrame(results, index=labels)"
     ],
     "language": "python",
     "metadata": {},
     "outputs": [],
     "prompt_number": 175
    },
    {
     "cell_type": "code",
     "collapsed": false,
     "input": [
      "times = pd.DataFrame(times)"
     ],
     "language": "python",
     "metadata": {},
     "outputs": [],
     "prompt_number": 178
    },
    {
     "cell_type": "code",
     "collapsed": false,
     "input": [
      "times['integrations'] = integrations"
     ],
     "language": "python",
     "metadata": {},
     "outputs": [],
     "prompt_number": 180
    },
    {
     "cell_type": "code",
     "collapsed": false,
     "input": [
      "fig, axes = subplots()\n",
      "df.b3_11.plot(ax=axes)\n",
      "times.set_index('b3_11').plot(style='g*', ms=15, secondary_y=True, ax=axes)"
     ],
     "language": "python",
     "metadata": {},
     "outputs": [
      {
       "metadata": {},
       "output_type": "pyout",
       "prompt_number": 206,
       "text": [
        "<matplotlib.axes.AxesSubplot at 0x136b02a90>"
       ]
      }
     ],
     "prompt_number": 206
    },
    {
     "cell_type": "code",
     "collapsed": false,
     "input": [
      "savefig('integrations_over_time.png', dpi=200)"
     ],
     "language": "python",
     "metadata": {},
     "outputs": [],
     "prompt_number": 207
    },
    {
     "cell_type": "code",
     "collapsed": false,
     "input": [
      "times.set_index('b3_11')"
     ],
     "language": "python",
     "metadata": {},
     "outputs": [
      {
       "html": [
        "<div style=\"max-height:1000px;max-width:1500px;overflow:auto;\">\n",
        "<table border=\"1\" class=\"dataframe\">\n",
        "  <thead>\n",
        "    <tr style=\"text-align: right;\">\n",
        "      <th></th>\n",
        "      <th>integrations</th>\n",
        "    </tr>\n",
        "    <tr>\n",
        "      <th>b3_11</th>\n",
        "      <th></th>\n",
        "    </tr>\n",
        "  </thead>\n",
        "  <tbody>\n",
        "    <tr>\n",
        "      <th>2013-03-05 08:06:57.940000</th>\n",
        "      <td>  86.182728</td>\n",
        "    </tr>\n",
        "    <tr>\n",
        "      <th>2013-03-05 08:07:26.612000</th>\n",
        "      <td>        NaN</td>\n",
        "    </tr>\n",
        "    <tr>\n",
        "      <th>2013-03-05 08:16:43.676000</th>\n",
        "      <td> 143.716600</td>\n",
        "    </tr>\n",
        "    <tr>\n",
        "      <th>2013-03-05 08:17:12.349000</th>\n",
        "      <td>        NaN</td>\n",
        "    </tr>\n",
        "    <tr>\n",
        "      <th>2013-03-05 08:26:17.124000</th>\n",
        "      <td> 218.419940</td>\n",
        "    </tr>\n",
        "    <tr>\n",
        "      <th>2013-03-05 08:26:45.797000</th>\n",
        "      <td>        NaN</td>\n",
        "    </tr>\n",
        "    <tr>\n",
        "      <th>2013-03-05 08:36:02.861000</th>\n",
        "      <td> 177.901354</td>\n",
        "    </tr>\n",
        "    <tr>\n",
        "      <th>2013-03-05 08:36:31.533000</th>\n",
        "      <td>        NaN</td>\n",
        "    </tr>\n",
        "    <tr>\n",
        "      <th>2013-03-05 08:46:21.365500</th>\n",
        "      <td>  88.271111</td>\n",
        "    </tr>\n",
        "    <tr>\n",
        "      <th>2013-03-05 08:46:50.038000</th>\n",
        "      <td>        NaN</td>\n",
        "    </tr>\n",
        "    <tr>\n",
        "      <th>2013-03-05 08:56:11.198000</th>\n",
        "      <td>  31.888039</td>\n",
        "    </tr>\n",
        "    <tr>\n",
        "      <th>2013-03-05 08:56:39.870000</th>\n",
        "      <td>        NaN</td>\n",
        "    </tr>\n",
        "  </tbody>\n",
        "</table>\n",
        "</div>"
       ],
       "metadata": {},
       "output_type": "pyout",
       "prompt_number": 188,
       "text": [
        "                            integrations\n",
        "b3_11                                   \n",
        "2013-03-05 08:06:57.940000     86.182728\n",
        "2013-03-05 08:07:26.612000           NaN\n",
        "2013-03-05 08:16:43.676000    143.716600\n",
        "2013-03-05 08:17:12.349000           NaN\n",
        "2013-03-05 08:26:17.124000    218.419940\n",
        "2013-03-05 08:26:45.797000           NaN\n",
        "2013-03-05 08:36:02.861000    177.901354\n",
        "2013-03-05 08:36:31.533000           NaN\n",
        "2013-03-05 08:46:21.365500     88.271111\n",
        "2013-03-05 08:46:50.038000           NaN\n",
        "2013-03-05 08:56:11.198000     31.888039\n",
        "2013-03-05 08:56:39.870000           NaN"
       ]
      }
     ],
     "prompt_number": 188
    },
    {
     "cell_type": "code",
     "collapsed": false,
     "input": [
      "integrations = times.set_index('b3_11')"
     ],
     "language": "python",
     "metadata": {},
     "outputs": [],
     "prompt_number": 191
    },
    {
     "cell_type": "code",
     "collapsed": false,
     "input": [
      "df['integrations'] = integrations"
     ],
     "language": "python",
     "metadata": {},
     "outputs": [],
     "prompt_number": 193
    },
    {
     "cell_type": "code",
     "collapsed": false,
     "input": [],
     "language": "python",
     "metadata": {},
     "outputs": [
      {
       "metadata": {},
       "output_type": "pyout",
       "prompt_number": 196,
       "text": [
        "2013-03-05 08:00:01.230000   NaN\n",
        "2013-03-05 08:00:01.358000   NaN\n",
        "2013-03-05 08:00:01.486000   NaN\n",
        "2013-03-05 08:00:01.614000   NaN\n",
        "2013-03-05 08:00:01.742000   NaN\n",
        "2013-03-05 08:00:01.870000   NaN\n",
        "2013-03-05 08:00:01.998000   NaN\n",
        "2013-03-05 08:00:02.126000   NaN\n",
        "2013-03-05 08:00:02.254000   NaN\n",
        "2013-03-05 08:00:02.382000   NaN\n",
        "2013-03-05 08:00:02.510000   NaN\n",
        "2013-03-05 08:00:02.638000   NaN\n",
        "2013-03-05 08:00:02.766000   NaN\n",
        "2013-03-05 08:00:02.894000   NaN\n",
        "2013-03-05 08:00:03.022000   NaN\n",
        "...\n",
        "2013-03-05 08:59:59.745000   NaN\n",
        "2013-03-05 08:59:59.873000   NaN\n",
        "2013-03-05 09:00:00.001000   NaN\n",
        "2013-03-05 09:00:00.129000   NaN\n",
        "2013-03-05 09:00:00.257000   NaN\n",
        "2013-03-05 09:00:00.385000   NaN\n",
        "2013-03-05 09:00:00.513000   NaN\n",
        "2013-03-05 09:00:00.641000   NaN\n",
        "2013-03-05 09:00:00.769000   NaN\n",
        "2013-03-05 09:00:00.897000   NaN\n",
        "2013-03-05 09:00:01.025000   NaN\n",
        "2013-03-05 09:00:01.153000   NaN\n",
        "2013-03-05 09:00:01.281000   NaN\n",
        "2013-03-05 09:00:01.409000   NaN\n",
        "2013-03-05 09:00:01.537000   NaN\n",
        "Name: integrations, Length: 28128, dtype: float64"
       ]
      }
     ],
     "prompt_number": 196
    },
    {
     "cell_type": "code",
     "collapsed": false,
     "input": [],
     "language": "python",
     "metadata": {},
     "outputs": []
    }
   ],
   "metadata": {}
  }
 ]
}