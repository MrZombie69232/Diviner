{
 "metadata": {
  "name": "",
  "signature": "sha256:3d5df9a4021b8c384f0844ac2da15bb453bc19428dc8b3de43f7a33965ab938e"
 },
 "nbformat": 3,
 "nbformat_minor": 0,
 "worksheets": [
  {
   "cells": [
    {
     "cell_type": "code",
     "collapsed": false,
     "input": [
      "%pylab qt"
     ],
     "language": "python",
     "metadata": {},
     "outputs": [
      {
       "output_type": "stream",
       "stream": "stdout",
       "text": [
        "Populating the interactive namespace from numpy and matplotlib\n"
       ]
      }
     ],
     "prompt_number": 1
    },
    {
     "cell_type": "code",
     "collapsed": false,
     "input": [
      "pd.__version__"
     ],
     "language": "python",
     "metadata": {},
     "outputs": [
      {
       "metadata": {},
       "output_type": "pyout",
       "prompt_number": 2,
       "text": [
        "'0.15.1'"
       ]
      }
     ],
     "prompt_number": 2
    },
    {
     "cell_type": "code",
     "collapsed": false,
     "input": [
      "cd ~/data/diviner/ground_calib/"
     ],
     "language": "python",
     "metadata": {},
     "outputs": [
      {
       "output_type": "stream",
       "stream": "stdout",
       "text": [
        "/Users/maye/data/diviner/ground_calib\n"
       ]
      }
     ],
     "prompt_number": 3
    },
    {
     "cell_type": "code",
     "collapsed": false,
     "input": [
      "ls *.h5"
     ],
     "language": "python",
     "metadata": {},
     "outputs": [
      {
       "output_type": "stream",
       "stream": "stdout",
       "text": [
        "gc_a6_b1_b2_b3.h5  house_keeping.h5\r\n"
       ]
      }
     ],
     "prompt_number": 4
    },
    {
     "cell_type": "code",
     "collapsed": true,
     "input": [
      "data = pd.read_hdf('./gc_a6_b1_b2_b3.h5', 'df')\n",
      "data[data < -9998] = np.nan\n",
      "data.dropna(how='all', inplace=True)"
     ],
     "language": "python",
     "metadata": {},
     "outputs": [],
     "prompt_number": 5
    },
    {
     "cell_type": "code",
     "collapsed": false,
     "input": [
      "hk = pd.read_hdf('./house_keeping.h5','df')\n",
      "hk[hk < -9998] = np.nan\n",
      "hk.dropna(how='all', inplace=True)\n",
      "hk[hk['TEMP_FAULT'] == 1]=np.nan"
     ],
     "language": "python",
     "metadata": {},
     "outputs": [],
     "prompt_number": 6
    },
    {
     "cell_type": "code",
     "collapsed": false,
     "input": [
      "hk.info()"
     ],
     "language": "python",
     "metadata": {},
     "outputs": [
      {
       "output_type": "stream",
       "stream": "stdout",
       "text": [
        "<class 'pandas.core.frame.DataFrame'>\n",
        "DatetimeIndex: 136786 entries, 2008-01-10 18:00:02.949000 to 2008-01-16 19:00:00.400000\n",
        "Columns: 246 entries, Q to B3_21av\n",
        "dtypes: float64(240), object(6)\n",
        "memory usage: 257.8+ MB\n"
       ]
      }
     ],
     "prompt_number": 7
    },
    {
     "cell_type": "code",
     "collapsed": false,
     "input": [
      "t_cols = hk.filter(regex='TEMP').columns\n",
      "t_cols"
     ],
     "language": "python",
     "metadata": {},
     "outputs": [
      {
       "metadata": {},
       "output_type": "pyout",
       "prompt_number": 8,
       "text": [
        "Index([u'TEMP_FAULT', u'FPA_TEMP', u'FPB_TEMP', u'BAFFLE_A_TEMP', u'BAFFLE_B_TEMP', u'BB_1_TEMP', u'OBA_1_TEMP', u'HYBRID_TEMP', u'FPA_TEMP_CYC', u'FPB_TEMP_CYC', u'BAFFLE_A_TEMP_CYC', u'BAFFLE_B_TEMP_CYC', u'OBA_1_TEMP_CYC', u'OBA_2_TEMP', u'BB_1_TEMP_CYC', u'BB_2_TEMP', u'SOLAR_TARGET_TEMP', u'YOKE_TEMP', u'EL_ACTUATOR_TEMP', u'AZ_ACTUATOR_TEMP', u'SOLAR_BASE_TEMP'], dtype='object')"
       ]
      }
     ],
     "prompt_number": 8
    },
    {
     "cell_type": "code",
     "collapsed": false,
     "input": [
      "t_cols = t_cols.drop('TEMP_FAULT')"
     ],
     "language": "python",
     "metadata": {},
     "outputs": [],
     "prompt_number": 9
    },
    {
     "cell_type": "code",
     "collapsed": false,
     "input": [
      "t_cols = [i for i in t_cols if not i.endswith('_CYC')]\n",
      "t_cols"
     ],
     "language": "python",
     "metadata": {},
     "outputs": [
      {
       "metadata": {},
       "output_type": "pyout",
       "prompt_number": 10,
       "text": [
        "['FPA_TEMP',\n",
        " 'FPB_TEMP',\n",
        " 'BAFFLE_A_TEMP',\n",
        " 'BAFFLE_B_TEMP',\n",
        " 'BB_1_TEMP',\n",
        " 'OBA_1_TEMP',\n",
        " 'HYBRID_TEMP',\n",
        " 'OBA_2_TEMP',\n",
        " 'BB_2_TEMP',\n",
        " 'SOLAR_TARGET_TEMP',\n",
        " 'YOKE_TEMP',\n",
        " 'EL_ACTUATOR_TEMP',\n",
        " 'AZ_ACTUATOR_TEMP',\n",
        " 'SOLAR_BASE_TEMP']"
       ]
      }
     ],
     "prompt_number": 10
    },
    {
     "cell_type": "code",
     "collapsed": false,
     "input": [
      "hk_temps = hk[t_cols]"
     ],
     "language": "python",
     "metadata": {},
     "outputs": [],
     "prompt_number": 11
    },
    {
     "cell_type": "code",
     "collapsed": false,
     "input": [
      "hk_temps = hk_temps.dropna(how='all')"
     ],
     "language": "python",
     "metadata": {},
     "outputs": [],
     "prompt_number": 12
    },
    {
     "cell_type": "code",
     "collapsed": false,
     "input": [
      "#spike cleaning\n",
      "for col in t_cols:\n",
      "    hk_temps.loc[hk_temps[col].diff() > 1, col] = np.nan"
     ],
     "language": "python",
     "metadata": {},
     "outputs": [],
     "prompt_number": 13
    },
    {
     "cell_type": "code",
     "collapsed": false,
     "input": [
      "hk_temps[hk_temps < 0] = np.nan"
     ],
     "language": "python",
     "metadata": {},
     "outputs": [],
     "prompt_number": 14
    },
    {
     "cell_type": "code",
     "collapsed": false,
     "input": [
      "for col in t_cols:\n",
      "    hk_temps[col].dropna().plot(label=col)\n",
      "plt.legend(ncol=2,loc='best')"
     ],
     "language": "python",
     "metadata": {},
     "outputs": [
      {
       "metadata": {},
       "output_type": "pyout",
       "prompt_number": 15,
       "text": [
        "<matplotlib.legend.Legend at 0x118002390>"
       ]
      }
     ],
     "prompt_number": 15
    },
    {
     "cell_type": "code",
     "collapsed": false,
     "input": [
      "t_10K_start = '20080110 21'\n",
      "t_10K_end = '20080112 20'\n",
      "# using a conservative cut-off area here to stay with clean measurements\n",
      "t_10K_end_clean = '20080112 13:27'\n",
      "t_30K_start = '20080112 23:30'\n",
      "t_30K_end = '20080113 15:15'\n",
      "t_60K_start = '20080114 11:00'\n",
      "t_60K_end = '20080115 02:50'\n",
      "# set start and end times here:\n",
      "start = t_10K_start\n",
      "end = t_10K_end_clean"
     ],
     "language": "python",
     "metadata": {},
     "outputs": [],
     "prompt_number": 15
    },
    {
     "cell_type": "code",
     "collapsed": false,
     "input": [
      "for col in t_cols:\n",
      "    hk_temps[start:end][col].dropna().plot(label=col)\n",
      "plt.legend(ncol=2, loc='best')"
     ],
     "language": "python",
     "metadata": {},
     "outputs": [
      {
       "metadata": {},
       "output_type": "pyout",
       "prompt_number": 17,
       "text": [
        "<matplotlib.legend.Legend at 0x10da35a50>"
       ]
      }
     ],
     "prompt_number": 17
    },
    {
     "cell_type": "code",
     "collapsed": false,
     "input": [
      "t_cols"
     ],
     "language": "python",
     "metadata": {},
     "outputs": [
      {
       "metadata": {},
       "output_type": "pyout",
       "prompt_number": 16,
       "text": [
        "['FPA_TEMP',\n",
        " 'FPB_TEMP',\n",
        " 'BAFFLE_A_TEMP',\n",
        " 'BAFFLE_B_TEMP',\n",
        " 'BB_1_TEMP',\n",
        " 'OBA_1_TEMP',\n",
        " 'HYBRID_TEMP',\n",
        " 'OBA_2_TEMP',\n",
        " 'BB_2_TEMP',\n",
        " 'SOLAR_TARGET_TEMP',\n",
        " 'YOKE_TEMP',\n",
        " 'EL_ACTUATOR_TEMP',\n",
        " 'AZ_ACTUATOR_TEMP',\n",
        " 'SOLAR_BASE_TEMP']"
       ]
      }
     ],
     "prompt_number": 16
    },
    {
     "cell_type": "code",
     "collapsed": false,
     "input": [
      "t_cols_telA = 'FPA_TEMP BAFFLE_A_TEMP BB_1_TEMP OBA_1_TEMP'.split()\n",
      "t_cols_telB = 'FPB_TEMP BAFFLE_B_TEMP BB_2_TEMP OBA_2_TEMP'.split()\n",
      "t_cols_common = set(t_cols) - set(t_cols_telA) - set(t_cols_telB)\n",
      "t_cols_telA.extend(t_cols_common)\n",
      "t_cols_telB.extend(t_cols_common)\n",
      "t_cols_telB"
     ],
     "language": "python",
     "metadata": {},
     "outputs": [
      {
       "metadata": {},
       "output_type": "pyout",
       "prompt_number": 17,
       "text": [
        "['FPB_TEMP',\n",
        " 'BAFFLE_B_TEMP',\n",
        " 'BB_2_TEMP',\n",
        " 'OBA_2_TEMP',\n",
        " 'EL_ACTUATOR_TEMP',\n",
        " 'AZ_ACTUATOR_TEMP',\n",
        " 'YOKE_TEMP',\n",
        " 'SOLAR_TARGET_TEMP',\n",
        " 'HYBRID_TEMP',\n",
        " 'SOLAR_BASE_TEMP']"
       ]
      }
     ],
     "prompt_number": 17
    },
    {
     "cell_type": "markdown",
     "metadata": {},
     "source": [
      "### Prepping data"
     ]
    },
    {
     "cell_type": "code",
     "collapsed": false,
     "input": [
      "from diviner import ground_calib"
     ],
     "language": "python",
     "metadata": {},
     "outputs": [],
     "prompt_number": 18
    },
    {
     "cell_type": "code",
     "collapsed": false,
     "input": [
      "ground_calib.data_prep(data, hk)"
     ],
     "language": "python",
     "metadata": {},
     "outputs": [],
     "prompt_number": 19
    },
    {
     "cell_type": "markdown",
     "metadata": {},
     "source": [
      "### Merging"
     ]
    },
    {
     "cell_type": "code",
     "collapsed": false,
     "input": [
      "telB_temps = hk_temps.loc[start:end, t_cols_telB]"
     ],
     "language": "python",
     "metadata": {},
     "outputs": [],
     "prompt_number": 20
    },
    {
     "cell_type": "code",
     "collapsed": false,
     "input": [
      "merged = telB_temps.join(data[['b3_11','sdtype','last_az_cmd',\n",
      "                               'last_el_cmd','is_calib','is_spaceview',\n",
      "                               'is_bbview']])"
     ],
     "language": "python",
     "metadata": {},
     "outputs": [],
     "prompt_number": 41
    },
    {
     "cell_type": "code",
     "collapsed": false,
     "input": [
      "merged.columns"
     ],
     "language": "python",
     "metadata": {},
     "outputs": [
      {
       "metadata": {},
       "output_type": "pyout",
       "prompt_number": 42,
       "text": [
        "Index([u'FPB_TEMP', u'BAFFLE_B_TEMP', u'BB_2_TEMP', u'OBA_2_TEMP', u'EL_ACTUATOR_TEMP', u'AZ_ACTUATOR_TEMP', u'YOKE_TEMP', u'SOLAR_TARGET_TEMP', u'HYBRID_TEMP', u'SOLAR_BASE_TEMP', u'b3_11', u'sdtype', u'last_az_cmd', u'last_el_cmd', u'is_calib', u'is_spaceview', u'is_bbview'], dtype='object')"
       ]
      }
     ],
     "prompt_number": 42
    },
    {
     "cell_type": "code",
     "collapsed": false,
     "input": [
      "merged.info()"
     ],
     "language": "python",
     "metadata": {},
     "outputs": [
      {
       "output_type": "stream",
       "stream": "stdout",
       "text": [
        "<class 'pandas.core.frame.DataFrame'>\n",
        "DatetimeIndex: 70718 entries, 2008-01-10 21:00:08.124000 to 2008-01-12 13:27:59.260000\n",
        "Data columns (total 17 columns):\n",
        "FPB_TEMP             70689 non-null float64\n",
        "BAFFLE_B_TEMP        70696 non-null float64\n",
        "BB_2_TEMP            6148 non-null float64\n",
        "OBA_2_TEMP           6153 non-null float64\n",
        "EL_ACTUATOR_TEMP     6150 non-null float64\n",
        "AZ_ACTUATOR_TEMP     6143 non-null float64\n",
        "YOKE_TEMP            6148 non-null float64\n",
        "SOLAR_TARGET_TEMP    6147 non-null float64\n",
        "HYBRID_TEMP          6162 non-null float64\n",
        "SOLAR_BASE_TEMP      6137 non-null float64\n",
        "b3_11                70718 non-null float64\n",
        "sdtype               70718 non-null int64\n",
        "last_az_cmd          70718 non-null float64\n",
        "last_el_cmd          70689 non-null float64\n",
        "is_calib             70718 non-null bool\n",
        "is_spaceview         70718 non-null bool\n",
        "is_bbview            70718 non-null bool\n",
        "dtypes: bool(3), float64(13), int64(1)\n",
        "memory usage: 8.3 MB\n"
       ]
      }
     ],
     "prompt_number": 43
    },
    {
     "cell_type": "code",
     "collapsed": false,
     "input": [
      "merged[['sdtype','b3_11']].plot(secondary_y = 'b3_11')"
     ],
     "language": "python",
     "metadata": {},
     "outputs": [
      {
       "metadata": {},
       "output_type": "pyout",
       "prompt_number": 26,
       "text": [
        "<matplotlib.axes._subplots.AxesSubplot at 0x11e54c790>"
       ]
      }
     ],
     "prompt_number": 26
    },
    {
     "cell_type": "code",
     "collapsed": false,
     "input": [
      "for col in t_cols_telB:\n",
      "    merged[merged.sdtype==0][col].dropna().plot(label=col,linewidth=2)\n",
      "ylabel('Temperature [K]')\n",
      "plt.legend(ncol=2, loc='best')\n",
      "merged[merged.is_spaceview].b3_11.plot(legend=False, style='.',\n",
      "                                    secondary_y=True, color='blue')\n",
      "merged[merged.is_bbview].b3_11.plot(legend=False, style='.',\n",
      "                                    secondary_y=True, color='red')\n",
      "merged[merged.sdtype==0].b3_11.plot(legend=False, style='.',\n",
      "                                    secondary_y=True, color='green')\n",
      "title('b3_11 DATA[green], SPACE[blue], BB[red] vs H/K temps')\n",
      "ylabel('Counts [b3_11]')"
     ],
     "language": "python",
     "metadata": {},
     "outputs": [],
     "prompt_number": 51
    },
    {
     "cell_type": "code",
     "collapsed": false,
     "input": [
      "hk.columns"
     ],
     "language": "python",
     "metadata": {},
     "outputs": [
      {
       "metadata": {},
       "output_type": "pyout",
       "prompt_number": 53,
       "text": [
        "Index([u'Q', u'DATE', u'UTC', u'SCLK', u'PKT_COUNT', u'SAFING', u'SAFED', u'FREEZING', u'FROZEN', u'ROLLING', u'DUMPING', u'MOVING', u'TEMP_FAULT', u'SC_TIME_SECS', u'SC_TIME_SUBS', u'TICKS_PKT_START', u'TICKS_AT_SC_TIME', u'OST_INDEX', u'EST_INDEX', u'SST_INDEX', u'LAST_AZ_CMD', u'LAST_EL_CMD', u'FPA_TEMP', u'FPB_TEMP', u'BAFFLE_A_TEMP', u'BAFFLE_B_TEMP', u'BB_1_TEMP', u'OBA_1_TEMP', u'ERROR_TIME', u'ERROR_ID', u'ERROR_DETAIL', u'ERROR_COUNT', u'COMMANDS_RECEIVED', u'COMMANDS_EXECUTED', u'COMMANDS_REJECTED', u'LAST_COMMAND_REC', u'CMD', u'REQ_ID', u'LAST_TIME_COMMAND', u'LAST_EQX_PREDICTION', u'HYBRID_TEMP', u'FPA_TEMP_CYC', u'FPB_TEMP_CYC', u'BAFFLE_A_TEMP_CYC', u'BAFFLE_B_TEMP_CYC', u'OBA_1_TEMP_CYC', u'OBA_2_TEMP', u'BB_1_TEMP_CYC', u'BB_2_TEMP', u'SOLAR_TARGET_TEMP', u'YOKE_TEMP', u'EL_ACTUATOR_TEMP', u'AZ_ACTUATOR_TEMP', u'MIN_15V', u'PLU_15V', u'SOLAR_BASE_TEMP', u'PLU_5V', u'A1_01av', u'A1_02av', u'A1_03av', u'A1_04av', u'A1_05av', u'A1_06av', u'A1_07av', u'A1_08av', u'A1_09av', u'A1_10av', u'A1_11av', u'A1_12av', u'A1_13av', u'A1_14av', u'A1_15av', u'A1_16av', u'A1_17av', u'A1_18av', u'A1_19av', u'A1_20av', u'A1_21av', u'A2_01av', u'A2_02av', u'A2_03av', u'A2_04av', u'A2_05av', u'A2_06av', u'A2_07av', u'A2_08av', u'A2_09av', u'A2_10av', u'A2_11av', u'A2_12av', u'A2_13av', u'A2_14av', u'A2_15av', u'A2_16av', u'A2_17av', u'A2_18av', u'A2_19av', u'A2_20av', u'A2_21av', u'A3_01av', ...], dtype='object')"
       ]
      }
     ],
     "prompt_number": 53
    },
    {
     "cell_type": "code",
     "collapsed": false,
     "input": [
      "[i for i in hk.columns if not 'COMMAND' in i]"
     ],
     "language": "python",
     "metadata": {},
     "outputs": [
      {
       "metadata": {},
       "output_type": "pyout",
       "prompt_number": 58,
       "text": [
        "['Q',\n",
        " 'DATE',\n",
        " 'UTC',\n",
        " 'SCLK',\n",
        " 'PKT_COUNT',\n",
        " 'SAFING',\n",
        " 'SAFED',\n",
        " 'FREEZING',\n",
        " 'FROZEN',\n",
        " 'ROLLING',\n",
        " 'DUMPING',\n",
        " 'MOVING',\n",
        " 'TEMP_FAULT',\n",
        " 'SC_TIME_SECS',\n",
        " 'SC_TIME_SUBS',\n",
        " 'TICKS_PKT_START',\n",
        " 'TICKS_AT_SC_TIME',\n",
        " 'OST_INDEX',\n",
        " 'EST_INDEX',\n",
        " 'SST_INDEX',\n",
        " 'LAST_AZ_CMD',\n",
        " 'LAST_EL_CMD',\n",
        " 'FPA_TEMP',\n",
        " 'FPB_TEMP',\n",
        " 'BAFFLE_A_TEMP',\n",
        " 'BAFFLE_B_TEMP',\n",
        " 'BB_1_TEMP',\n",
        " 'OBA_1_TEMP',\n",
        " 'ERROR_TIME',\n",
        " 'ERROR_ID',\n",
        " 'ERROR_DETAIL',\n",
        " 'ERROR_COUNT',\n",
        " 'CMD',\n",
        " 'REQ_ID',\n",
        " 'LAST_EQX_PREDICTION',\n",
        " 'HYBRID_TEMP',\n",
        " 'FPA_TEMP_CYC',\n",
        " 'FPB_TEMP_CYC',\n",
        " 'BAFFLE_A_TEMP_CYC',\n",
        " 'BAFFLE_B_TEMP_CYC',\n",
        " 'OBA_1_TEMP_CYC',\n",
        " 'OBA_2_TEMP',\n",
        " 'BB_1_TEMP_CYC',\n",
        " 'BB_2_TEMP',\n",
        " 'SOLAR_TARGET_TEMP',\n",
        " 'YOKE_TEMP',\n",
        " 'EL_ACTUATOR_TEMP',\n",
        " 'AZ_ACTUATOR_TEMP',\n",
        " 'MIN_15V',\n",
        " 'PLU_15V',\n",
        " 'SOLAR_BASE_TEMP',\n",
        " 'PLU_5V',\n",
        " 'A1_01av',\n",
        " 'A1_02av',\n",
        " 'A1_03av',\n",
        " 'A1_04av',\n",
        " 'A1_05av',\n",
        " 'A1_06av',\n",
        " 'A1_07av',\n",
        " 'A1_08av',\n",
        " 'A1_09av',\n",
        " 'A1_10av',\n",
        " 'A1_11av',\n",
        " 'A1_12av',\n",
        " 'A1_13av',\n",
        " 'A1_14av',\n",
        " 'A1_15av',\n",
        " 'A1_16av',\n",
        " 'A1_17av',\n",
        " 'A1_18av',\n",
        " 'A1_19av',\n",
        " 'A1_20av',\n",
        " 'A1_21av',\n",
        " 'A2_01av',\n",
        " 'A2_02av',\n",
        " 'A2_03av',\n",
        " 'A2_04av',\n",
        " 'A2_05av',\n",
        " 'A2_06av',\n",
        " 'A2_07av',\n",
        " 'A2_08av',\n",
        " 'A2_09av',\n",
        " 'A2_10av',\n",
        " 'A2_11av',\n",
        " 'A2_12av',\n",
        " 'A2_13av',\n",
        " 'A2_14av',\n",
        " 'A2_15av',\n",
        " 'A2_16av',\n",
        " 'A2_17av',\n",
        " 'A2_18av',\n",
        " 'A2_19av',\n",
        " 'A2_20av',\n",
        " 'A2_21av',\n",
        " 'A3_01av',\n",
        " 'A3_02av',\n",
        " 'A3_03av',\n",
        " 'A3_04av',\n",
        " 'A3_05av',\n",
        " 'A3_06av',\n",
        " 'A3_07av',\n",
        " 'A3_08av',\n",
        " 'A3_09av',\n",
        " 'A3_10av',\n",
        " 'A3_11av',\n",
        " 'A3_12av',\n",
        " 'A3_13av',\n",
        " 'A3_14av',\n",
        " 'A3_15av',\n",
        " 'A3_16av',\n",
        " 'A3_17av',\n",
        " 'A3_18av',\n",
        " 'A3_19av',\n",
        " 'A3_20av',\n",
        " 'A3_21av',\n",
        " 'A4_01av',\n",
        " 'A4_02av',\n",
        " 'A4_03av',\n",
        " 'A4_04av',\n",
        " 'A4_05av',\n",
        " 'A4_06av',\n",
        " 'A4_07av',\n",
        " 'A4_08av',\n",
        " 'A4_09av',\n",
        " 'A4_10av',\n",
        " 'A4_11av',\n",
        " 'A4_12av',\n",
        " 'A4_13av',\n",
        " 'A4_14av',\n",
        " 'A4_15av',\n",
        " 'A4_16av',\n",
        " 'A4_17av',\n",
        " 'A4_18av',\n",
        " 'A4_19av',\n",
        " 'A4_20av',\n",
        " 'A4_21av',\n",
        " 'A5_01av',\n",
        " 'A5_02av',\n",
        " 'A5_03av',\n",
        " 'A5_04av',\n",
        " 'A5_05av',\n",
        " 'A5_06av',\n",
        " 'A5_07av',\n",
        " 'A5_08av',\n",
        " 'A5_09av',\n",
        " 'A5_10av',\n",
        " 'A5_11av',\n",
        " 'A5_12av',\n",
        " 'A5_13av',\n",
        " 'A5_14av',\n",
        " 'A5_15av',\n",
        " 'A5_16av',\n",
        " 'A5_17av',\n",
        " 'A5_18av',\n",
        " 'A5_19av',\n",
        " 'A5_20av',\n",
        " 'A5_21av',\n",
        " 'A6_01av',\n",
        " 'A6_02av',\n",
        " 'A6_03av',\n",
        " 'A6_04av',\n",
        " 'A6_05av',\n",
        " 'A6_06av',\n",
        " 'A6_07av',\n",
        " 'A6_08av',\n",
        " 'A6_09av',\n",
        " 'A6_10av',\n",
        " 'A6_11av',\n",
        " 'A6_12av',\n",
        " 'A6_13av',\n",
        " 'A6_14av',\n",
        " 'A6_15av',\n",
        " 'A6_16av',\n",
        " 'A6_17av',\n",
        " 'A6_18av',\n",
        " 'A6_19av',\n",
        " 'A6_20av',\n",
        " 'A6_21av',\n",
        " 'B1_01av',\n",
        " 'B1_02av',\n",
        " 'B1_03av',\n",
        " 'B1_04av',\n",
        " 'B1_05av',\n",
        " 'B1_06av',\n",
        " 'B1_07av',\n",
        " 'B1_08av',\n",
        " 'B1_09av',\n",
        " 'B1_10av',\n",
        " 'B1_11av',\n",
        " 'B1_12av',\n",
        " 'B1_13av',\n",
        " 'B1_14av',\n",
        " 'B1_15av',\n",
        " 'B1_16av',\n",
        " 'B1_17av',\n",
        " 'B1_18av',\n",
        " 'B1_19av',\n",
        " 'B1_20av',\n",
        " 'B1_21av',\n",
        " 'B2_01av',\n",
        " 'B2_02av',\n",
        " 'B2_03av',\n",
        " 'B2_04av',\n",
        " 'B2_05av',\n",
        " 'B2_06av',\n",
        " 'B2_07av',\n",
        " 'B2_08av',\n",
        " 'B2_09av',\n",
        " 'B2_10av',\n",
        " 'B2_11av',\n",
        " 'B2_12av',\n",
        " 'B2_13av',\n",
        " 'B2_14av',\n",
        " 'B2_15av',\n",
        " 'B2_16av',\n",
        " 'B2_17av',\n",
        " 'B2_18av',\n",
        " 'B2_19av',\n",
        " 'B2_20av',\n",
        " 'B2_21av',\n",
        " 'B3_01av',\n",
        " 'B3_02av',\n",
        " 'B3_03av',\n",
        " 'B3_04av',\n",
        " 'B3_05av',\n",
        " 'B3_06av',\n",
        " 'B3_07av',\n",
        " 'B3_08av',\n",
        " 'B3_09av',\n",
        " 'B3_10av',\n",
        " 'B3_11av',\n",
        " 'B3_12av',\n",
        " 'B3_13av',\n",
        " 'B3_14av',\n",
        " 'B3_15av',\n",
        " 'B3_16av',\n",
        " 'B3_17av',\n",
        " 'B3_18av',\n",
        " 'B3_19av',\n",
        " 'B3_20av',\n",
        " 'B3_21av']"
       ]
      }
     ],
     "prompt_number": 58
    },
    {
     "cell_type": "code",
     "collapsed": false,
     "input": [
      "merged[merged.is_spaceview]['b3_11'].plot(style='.',color='blue')\n",
      "merged[merged.is_bbview]['b3_11'].plot(style='.',color='red')"
     ],
     "language": "python",
     "metadata": {},
     "outputs": [
      {
       "metadata": {},
       "output_type": "pyout",
       "prompt_number": 45,
       "text": [
        "<matplotlib.axes._subplots.AxesSubplot at 0x13c198950>"
       ]
      }
     ],
     "prompt_number": 45
    },
    {
     "cell_type": "code",
     "collapsed": false,
     "input": [
      "merged['last_el_cmd last_az_cmd'.split()].plot()"
     ],
     "language": "python",
     "metadata": {},
     "outputs": [
      {
       "metadata": {},
       "output_type": "pyout",
       "prompt_number": 29,
       "text": [
        "<matplotlib.axes._subplots.AxesSubplot at 0x11841bad0>"
       ]
      }
     ],
     "prompt_number": 29
    },
    {
     "cell_type": "code",
     "collapsed": false,
     "input": [
      "merged.last_el_cmd.describe()"
     ],
     "language": "python",
     "metadata": {},
     "outputs": [
      {
       "metadata": {},
       "output_type": "pyout",
       "prompt_number": 30,
       "text": [
        "count    70689.000000\n",
        "mean        64.953973\n",
        "std         40.751739\n",
        "min          0.000000\n",
        "25%          0.000000\n",
        "50%         75.960000\n",
        "75%         75.960000\n",
        "max        111.010000\n",
        "Name: last_el_cmd, dtype: float64"
       ]
      }
     ],
     "prompt_number": 30
    },
    {
     "cell_type": "code",
     "collapsed": false,
     "input": [
      "merged.last_az_cmd.describe()"
     ],
     "language": "python",
     "metadata": {},
     "outputs": [
      {
       "metadata": {},
       "output_type": "pyout",
       "prompt_number": 31,
       "text": [
        "count    70718\n",
        "mean        60\n",
        "std          0\n",
        "min         60\n",
        "25%         60\n",
        "50%         60\n",
        "75%         60\n",
        "max         60\n",
        "Name: last_az_cmd, dtype: float64"
       ]
      }
     ],
     "prompt_number": 31
    },
    {
     "cell_type": "code",
     "collapsed": false,
     "input": [
      "data.last_az_cmd.describe()"
     ],
     "language": "python",
     "metadata": {},
     "outputs": [
      {
       "metadata": {},
       "output_type": "pyout",
       "prompt_number": 32,
       "text": [
        "count    1555183.000000\n",
        "mean          56.356449\n",
        "std           17.149827\n",
        "min         -101.010000\n",
        "25%           60.000000\n",
        "50%           60.000000\n",
        "75%           60.000000\n",
        "max          160.000000\n",
        "Name: last_az_cmd, dtype: float64"
       ]
      }
     ],
     "prompt_number": 32
    },
    {
     "cell_type": "code",
     "collapsed": false,
     "input": [
      "data.loc[ data['last_az_cmd'] <0, 'last_az_cmd'] = np.nan"
     ],
     "language": "python",
     "metadata": {},
     "outputs": [],
     "prompt_number": 33
    },
    {
     "cell_type": "markdown",
     "metadata": {},
     "source": [
      "As the azimuth data does not vary, we can not use it to distinguish between different science data"
     ]
    },
    {
     "cell_type": "code",
     "collapsed": false,
     "input": [
      "merged.iloc[:1000]['b3_11 last_el_cmd sdtype'.split()].plot(secondary_y='b3_11')"
     ],
     "language": "python",
     "metadata": {},
     "outputs": [
      {
       "metadata": {},
       "output_type": "pyout",
       "prompt_number": 48,
       "text": [
        "<matplotlib.axes._subplots.AxesSubplot at 0x13f550b90>"
       ]
      }
     ],
     "prompt_number": 48
    },
    {
     "cell_type": "code",
     "collapsed": false,
     "input": [
      "merged.last_el_cmd.plot(style='.')"
     ],
     "language": "python",
     "metadata": {},
     "outputs": [
      {
       "metadata": {},
       "output_type": "pyout",
       "prompt_number": 47,
       "text": [
        "<matplotlib.axes._subplots.AxesSubplot at 0x13a6c5b50>"
       ]
      }
     ],
     "prompt_number": 47
    },
    {
     "cell_type": "code",
     "collapsed": false,
     "input": [],
     "language": "python",
     "metadata": {},
     "outputs": []
    }
   ],
   "metadata": {}
  }
 ]
}