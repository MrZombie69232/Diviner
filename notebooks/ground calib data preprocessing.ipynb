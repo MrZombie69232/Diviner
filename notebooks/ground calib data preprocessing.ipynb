{
 "metadata": {
  "name": "",
  "signature": "sha256:985d0ad8ee061427cef3636e4143c9ea5a1d3fd8b1ab1861b4cfd46f9b62237e"
 },
 "nbformat": 3,
 "nbformat_minor": 0,
 "worksheets": [
  {
   "cells": [
    {
     "cell_type": "code",
     "collapsed": false,
     "input": [
      "%pylab qt"
     ],
     "language": "python",
     "metadata": {},
     "outputs": [
      {
       "output_type": "stream",
       "stream": "stdout",
       "text": [
        "Populating the interactive namespace from numpy and matplotlib\n"
       ]
      }
     ],
     "prompt_number": 1
    },
    {
     "cell_type": "code",
     "collapsed": false,
     "input": [
      "pd.__version__"
     ],
     "language": "python",
     "metadata": {},
     "outputs": [
      {
       "metadata": {},
       "output_type": "pyout",
       "prompt_number": 2,
       "text": [
        "'0.15.1'"
       ]
      }
     ],
     "prompt_number": 2
    },
    {
     "cell_type": "code",
     "collapsed": false,
     "input": [
      "cd ~/data/diviner/ground_calib/"
     ],
     "language": "python",
     "metadata": {},
     "outputs": [
      {
       "output_type": "stream",
       "stream": "stdout",
       "text": [
        "/Users/maye/data/diviner/ground_calib\n"
       ]
      }
     ],
     "prompt_number": 3
    },
    {
     "cell_type": "code",
     "collapsed": false,
     "input": [
      "ls *.h5"
     ],
     "language": "python",
     "metadata": {},
     "outputs": [
      {
       "output_type": "stream",
       "stream": "stdout",
       "text": [
        "gc_a6_b1_b2_b3.h5  house_keeping.h5\r\n"
       ]
      }
     ],
     "prompt_number": 4
    },
    {
     "cell_type": "code",
     "collapsed": true,
     "input": [
      "data = pd.read_hdf('./gc_a6_b1_b2_b3.h5', 'df')\n",
      "data[data < -9998] = np.nan\n",
      "data.dropna(how='all', inplace=True)"
     ],
     "language": "python",
     "metadata": {},
     "outputs": [],
     "prompt_number": 5
    },
    {
     "cell_type": "code",
     "collapsed": false,
     "input": [
      "hk = pd.read_hdf('./house_keeping.h5','df')\n",
      "hk[hk < -9998] = np.nan\n",
      "hk.dropna(how='all', inplace=True)\n",
      "hk[hk['TEMP_FAULT'] == 1]=np.nan"
     ],
     "language": "python",
     "metadata": {},
     "outputs": [],
     "prompt_number": 6
    },
    {
     "cell_type": "code",
     "collapsed": false,
     "input": [
      "data.info()"
     ],
     "language": "python",
     "metadata": {},
     "outputs": [
      {
       "output_type": "stream",
       "stream": "stdout",
       "text": [
        "<class 'pandas.core.frame.DataFrame'>\n",
        "DatetimeIndex: 1565748 entries, 2008-01-08 17:15:29.111000 to 2008-01-18 07:57:01.376000\n",
        "Data columns (total 4 columns):\n",
        "a6_11    1565748 non-null float64\n",
        "b1_11    1565748 non-null float64\n",
        "b2_11    1565747 non-null float64\n",
        "b3_11    1565747 non-null float64\n",
        "dtypes: float64(4)\n",
        "memory usage: 59.7 MB\n"
       ]
      }
     ],
     "prompt_number": 7
    },
    {
     "cell_type": "code",
     "collapsed": false,
     "input": [
      "hk.info()"
     ],
     "language": "python",
     "metadata": {},
     "outputs": [
      {
       "output_type": "stream",
       "stream": "stdout",
       "text": [
        "<class 'pandas.core.frame.DataFrame'>\n",
        "DatetimeIndex: 136786 entries, 2008-01-10 18:00:02.949000 to 2008-01-16 19:00:00.400000\n",
        "Columns: 246 entries, Q to B3_21av\n",
        "dtypes: float64(240), object(6)\n",
        "memory usage: 257.8+ MB\n"
       ]
      }
     ],
     "prompt_number": 8
    },
    {
     "cell_type": "code",
     "collapsed": false,
     "input": [
      "t_cols = hk.filter(regex='TEMP').columns\n",
      "t_cols"
     ],
     "language": "python",
     "metadata": {},
     "outputs": [
      {
       "metadata": {},
       "output_type": "pyout",
       "prompt_number": 9,
       "text": [
        "Index([u'TEMP_FAULT', u'FPA_TEMP', u'FPB_TEMP', u'BAFFLE_A_TEMP', u'BAFFLE_B_TEMP', u'BB_1_TEMP', u'OBA_1_TEMP', u'HYBRID_TEMP', u'FPA_TEMP_CYC', u'FPB_TEMP_CYC', u'BAFFLE_A_TEMP_CYC', u'BAFFLE_B_TEMP_CYC', u'OBA_1_TEMP_CYC', u'OBA_2_TEMP', u'BB_1_TEMP_CYC', u'BB_2_TEMP', u'SOLAR_TARGET_TEMP', u'YOKE_TEMP', u'EL_ACTUATOR_TEMP', u'AZ_ACTUATOR_TEMP', u'SOLAR_BASE_TEMP'], dtype='object')"
       ]
      }
     ],
     "prompt_number": 9
    },
    {
     "cell_type": "code",
     "collapsed": false,
     "input": [
      "t_cols = t_cols.drop('TEMP_FAULT')"
     ],
     "language": "python",
     "metadata": {},
     "outputs": [],
     "prompt_number": 10
    },
    {
     "cell_type": "code",
     "collapsed": false,
     "input": [
      "t_cols = [i for i in t_cols if not i.endswith('_CYC')]\n",
      "t_cols"
     ],
     "language": "python",
     "metadata": {},
     "outputs": [
      {
       "metadata": {},
       "output_type": "pyout",
       "prompt_number": 11,
       "text": [
        "['FPA_TEMP',\n",
        " 'FPB_TEMP',\n",
        " 'BAFFLE_A_TEMP',\n",
        " 'BAFFLE_B_TEMP',\n",
        " 'BB_1_TEMP',\n",
        " 'OBA_1_TEMP',\n",
        " 'HYBRID_TEMP',\n",
        " 'OBA_2_TEMP',\n",
        " 'BB_2_TEMP',\n",
        " 'SOLAR_TARGET_TEMP',\n",
        " 'YOKE_TEMP',\n",
        " 'EL_ACTUATOR_TEMP',\n",
        " 'AZ_ACTUATOR_TEMP',\n",
        " 'SOLAR_BASE_TEMP']"
       ]
      }
     ],
     "prompt_number": 11
    },
    {
     "cell_type": "code",
     "collapsed": false,
     "input": [
      "hk_temps = hk[t_cols]"
     ],
     "language": "python",
     "metadata": {},
     "outputs": [],
     "prompt_number": 12
    },
    {
     "cell_type": "code",
     "collapsed": false,
     "input": [
      "hk_temps = hk_temps.dropna(how='all')"
     ],
     "language": "python",
     "metadata": {},
     "outputs": [],
     "prompt_number": 13
    },
    {
     "cell_type": "code",
     "collapsed": false,
     "input": [
      "#spike cleaning\n",
      "for col in t_cols:\n",
      "    hk_temps.loc[hk_temps[col].diff() > 1, col] = np.nan"
     ],
     "language": "python",
     "metadata": {},
     "outputs": [],
     "prompt_number": 14
    },
    {
     "cell_type": "code",
     "collapsed": false,
     "input": [
      "hk_temps[hk_temps < 0] = np.nan"
     ],
     "language": "python",
     "metadata": {},
     "outputs": [],
     "prompt_number": 15
    },
    {
     "cell_type": "markdown",
     "metadata": {},
     "source": [
      "#### Commented out next cell, b/c it's big plot!"
     ]
    },
    {
     "cell_type": "code",
     "collapsed": false,
     "input": [
      "\n",
      "# for col in t_cols:\n",
      "#     hk_temps[col].dropna().plot(label=col)\n",
      "# plt.legend(ncol=2,loc='best')"
     ],
     "language": "python",
     "metadata": {},
     "outputs": [],
     "prompt_number": 17
    },
    {
     "cell_type": "code",
     "collapsed": false,
     "input": [
      "t_10K_start = '20080110 21'\n",
      "t_10K_end = '20080112 20'\n",
      "# using a conservative cut-off area here to stay with clean measurements\n",
      "t_10K_end_clean = '20080112 13:27'\n",
      "t_30K_start = '20080112 23:30'\n",
      "t_30K_end = '20080113 15:15'\n",
      "t_60K_start = '20080114 11:00'\n",
      "t_60K_end = '20080115 02:50'\n",
      "# set start and end times here:\n",
      "start = t_10K_start\n",
      "end = t_10K_end"
     ],
     "language": "python",
     "metadata": {},
     "outputs": [],
     "prompt_number": 20
    },
    {
     "cell_type": "code",
     "collapsed": false,
     "input": [
      "for col in t_cols:\n",
      "    hk_temps[start:end][col].dropna().plot(label=col, rasterized=True)\n",
      "plt.legend(ncol=2, loc='best')"
     ],
     "language": "python",
     "metadata": {},
     "outputs": [
      {
       "metadata": {},
       "output_type": "pyout",
       "prompt_number": 22,
       "text": [
        "<matplotlib.legend.Legend at 0x1200bd3d0>"
       ]
      }
     ],
     "prompt_number": 22
    },
    {
     "cell_type": "code",
     "collapsed": false,
     "input": [
      "t_cols_telA = 'FPA_TEMP BAFFLE_A_TEMP BB_1_TEMP OBA_1_TEMP'.split()\n",
      "t_cols_telB = 'FPB_TEMP BAFFLE_B_TEMP BB_2_TEMP OBA_2_TEMP'.split()\n",
      "t_cols_common = set(t_cols) - set(t_cols_telA) - set(t_cols_telB)\n",
      "t_cols_telA.extend(t_cols_common)\n",
      "t_cols_telB.extend(t_cols_common)\n",
      "t_cols_telB"
     ],
     "language": "python",
     "metadata": {},
     "outputs": [
      {
       "metadata": {},
       "output_type": "pyout",
       "prompt_number": 23,
       "text": [
        "['FPB_TEMP',\n",
        " 'BAFFLE_B_TEMP',\n",
        " 'BB_2_TEMP',\n",
        " 'OBA_2_TEMP',\n",
        " 'EL_ACTUATOR_TEMP',\n",
        " 'AZ_ACTUATOR_TEMP',\n",
        " 'YOKE_TEMP',\n",
        " 'SOLAR_TARGET_TEMP',\n",
        " 'HYBRID_TEMP',\n",
        " 'SOLAR_BASE_TEMP']"
       ]
      }
     ],
     "prompt_number": 23
    },
    {
     "cell_type": "markdown",
     "metadata": {},
     "source": [
      "### Prepping data"
     ]
    },
    {
     "cell_type": "code",
     "collapsed": false,
     "input": [
      "from diviner import ground_calib"
     ],
     "language": "python",
     "metadata": {},
     "outputs": [],
     "prompt_number": 24
    },
    {
     "cell_type": "code",
     "collapsed": false,
     "input": [
      "ground_calib.data_prep(data, hk)"
     ],
     "language": "python",
     "metadata": {},
     "outputs": [],
     "prompt_number": 25
    },
    {
     "cell_type": "markdown",
     "metadata": {},
     "source": [
      "### Merging\n",
      "\n",
      "I will be merging the more frequent `data` dataframe into the less frequent HK dataframe. That way I don't need to interpolate the less frequent H/K-data to the frequency of the science data."
     ]
    },
    {
     "cell_type": "code",
     "collapsed": false,
     "input": [
      "telB_temps = hk_temps.loc[start:end, t_cols_telB]"
     ],
     "language": "python",
     "metadata": {},
     "outputs": [],
     "prompt_number": 26
    },
    {
     "cell_type": "code",
     "collapsed": false,
     "input": [
      "merged = telB_temps.join(data[['b3_11','sdtype','last_az_cmd',\n",
      "                               'last_el_cmd','is_calib','is_spaceview',\n",
      "                               'is_bbview']])"
     ],
     "language": "python",
     "metadata": {},
     "outputs": [],
     "prompt_number": 27
    },
    {
     "cell_type": "code",
     "collapsed": false,
     "input": [
      "merged.columns"
     ],
     "language": "python",
     "metadata": {},
     "outputs": [
      {
       "metadata": {},
       "output_type": "pyout",
       "prompt_number": 28,
       "text": [
        "Index([u'FPB_TEMP', u'BAFFLE_B_TEMP', u'BB_2_TEMP', u'OBA_2_TEMP', u'EL_ACTUATOR_TEMP', u'AZ_ACTUATOR_TEMP', u'YOKE_TEMP', u'SOLAR_TARGET_TEMP', u'HYBRID_TEMP', u'SOLAR_BASE_TEMP', u'b3_11', u'sdtype', u'last_az_cmd', u'last_el_cmd', u'is_calib', u'is_spaceview', u'is_bbview'], dtype='object')"
       ]
      }
     ],
     "prompt_number": 28
    },
    {
     "cell_type": "code",
     "collapsed": false,
     "input": [
      "merged.info()"
     ],
     "language": "python",
     "metadata": {},
     "outputs": [
      {
       "output_type": "stream",
       "stream": "stdout",
       "text": [
        "<class 'pandas.core.frame.DataFrame'>\n",
        "DatetimeIndex: 83833 entries, 2008-01-10 21:00:08.124000 to 2008-01-12 20:59:58.709000\n",
        "Data columns (total 17 columns):\n",
        "FPB_TEMP             83796 non-null float64\n",
        "BAFFLE_B_TEMP        83802 non-null float64\n",
        "BB_2_TEMP            7289 non-null float64\n",
        "OBA_2_TEMP           7295 non-null float64\n",
        "EL_ACTUATOR_TEMP     7290 non-null float64\n",
        "AZ_ACTUATOR_TEMP     7282 non-null float64\n",
        "YOKE_TEMP            7289 non-null float64\n",
        "SOLAR_TARGET_TEMP    7288 non-null float64\n",
        "HYBRID_TEMP          7303 non-null float64\n",
        "SOLAR_BASE_TEMP      7274 non-null float64\n",
        "b3_11                83833 non-null float64\n",
        "sdtype               83833 non-null int64\n",
        "last_az_cmd          83833 non-null float64\n",
        "last_el_cmd          83798 non-null float64\n",
        "is_calib             83833 non-null bool\n",
        "is_spaceview         83833 non-null bool\n",
        "is_bbview            83833 non-null bool\n",
        "dtypes: bool(3), float64(13), int64(1)\n",
        "memory usage: 9.8 MB\n"
       ]
      }
     ],
     "prompt_number": 29
    },
    {
     "cell_type": "code",
     "collapsed": false,
     "input": [
      "for col in t_cols_telB:\n",
      "    merged[merged.sdtype==0][col].dropna().plot(label=col,linewidth=2)\n",
      "ylabel('Temperature [K]')\n",
      "plt.legend(ncol=2, loc='best')\n",
      "merged[merged.is_spaceview].b3_11.plot(legend=False, style='.',\n",
      "                                    secondary_y=True, color='blue')\n",
      "merged[merged.is_bbview].b3_11.plot(legend=False, style='.',\n",
      "                                    secondary_y=True, color='red')\n",
      "merged[merged.sdtype==0].b3_11.plot(legend=False, style='.',\n",
      "                                    secondary_y=True, color='green')\n",
      "title('b3_11 DATA[green], SPACE[blue], BB[red] vs H/K temps')\n",
      "ylabel('Counts [b3_11]')"
     ],
     "language": "python",
     "metadata": {},
     "outputs": [
      {
       "metadata": {},
       "output_type": "pyout",
       "prompt_number": 30,
       "text": [
        "<matplotlib.text.Text at 0x1155c2950>"
       ]
      }
     ],
     "prompt_number": 30
    },
    {
     "cell_type": "code",
     "collapsed": false,
     "input": [
      "hk.columns"
     ],
     "language": "python",
     "metadata": {},
     "outputs": [
      {
       "metadata": {},
       "output_type": "pyout",
       "prompt_number": 32,
       "text": [
        "Index([u'Q', u'DATE', u'UTC', u'SCLK', u'PKT_COUNT', u'SAFING', u'SAFED', u'FREEZING', u'FROZEN', u'ROLLING', u'DUMPING', u'MOVING', u'TEMP_FAULT', u'SC_TIME_SECS', u'SC_TIME_SUBS', u'TICKS_PKT_START', u'TICKS_AT_SC_TIME', u'OST_INDEX', u'EST_INDEX', u'SST_INDEX', u'LAST_AZ_CMD', u'LAST_EL_CMD', u'FPA_TEMP', u'FPB_TEMP', u'BAFFLE_A_TEMP', u'BAFFLE_B_TEMP', u'BB_1_TEMP', u'OBA_1_TEMP', u'ERROR_TIME', u'ERROR_ID', u'ERROR_DETAIL', u'ERROR_COUNT', u'COMMANDS_RECEIVED', u'COMMANDS_EXECUTED', u'COMMANDS_REJECTED', u'LAST_COMMAND_REC', u'CMD', u'REQ_ID', u'LAST_TIME_COMMAND', u'LAST_EQX_PREDICTION', u'HYBRID_TEMP', u'FPA_TEMP_CYC', u'FPB_TEMP_CYC', u'BAFFLE_A_TEMP_CYC', u'BAFFLE_B_TEMP_CYC', u'OBA_1_TEMP_CYC', u'OBA_2_TEMP', u'BB_1_TEMP_CYC', u'BB_2_TEMP', u'SOLAR_TARGET_TEMP', u'YOKE_TEMP', u'EL_ACTUATOR_TEMP', u'AZ_ACTUATOR_TEMP', u'MIN_15V', u'PLU_15V', u'SOLAR_BASE_TEMP', u'PLU_5V', u'A1_01av', u'A1_02av', u'A1_03av', u'A1_04av', u'A1_05av', u'A1_06av', u'A1_07av', u'A1_08av', u'A1_09av', u'A1_10av', u'A1_11av', u'A1_12av', u'A1_13av', u'A1_14av', u'A1_15av', u'A1_16av', u'A1_17av', u'A1_18av', u'A1_19av', u'A1_20av', u'A1_21av', u'A2_01av', u'A2_02av', u'A2_03av', u'A2_04av', u'A2_05av', u'A2_06av', u'A2_07av', u'A2_08av', u'A2_09av', u'A2_10av', u'A2_11av', u'A2_12av', u'A2_13av', u'A2_14av', u'A2_15av', u'A2_16av', u'A2_17av', u'A2_18av', u'A2_19av', u'A2_20av', u'A2_21av', u'A3_01av', ...], dtype='object')"
       ]
      }
     ],
     "prompt_number": 32
    },
    {
     "cell_type": "code",
     "collapsed": false,
     "input": [
      "[i for i in hk.columns if not 'COMMAND' in i]"
     ],
     "language": "python",
     "metadata": {},
     "outputs": [
      {
       "metadata": {},
       "output_type": "pyout",
       "prompt_number": 33,
       "text": [
        "['Q',\n",
        " 'DATE',\n",
        " 'UTC',\n",
        " 'SCLK',\n",
        " 'PKT_COUNT',\n",
        " 'SAFING',\n",
        " 'SAFED',\n",
        " 'FREEZING',\n",
        " 'FROZEN',\n",
        " 'ROLLING',\n",
        " 'DUMPING',\n",
        " 'MOVING',\n",
        " 'TEMP_FAULT',\n",
        " 'SC_TIME_SECS',\n",
        " 'SC_TIME_SUBS',\n",
        " 'TICKS_PKT_START',\n",
        " 'TICKS_AT_SC_TIME',\n",
        " 'OST_INDEX',\n",
        " 'EST_INDEX',\n",
        " 'SST_INDEX',\n",
        " 'LAST_AZ_CMD',\n",
        " 'LAST_EL_CMD',\n",
        " 'FPA_TEMP',\n",
        " 'FPB_TEMP',\n",
        " 'BAFFLE_A_TEMP',\n",
        " 'BAFFLE_B_TEMP',\n",
        " 'BB_1_TEMP',\n",
        " 'OBA_1_TEMP',\n",
        " 'ERROR_TIME',\n",
        " 'ERROR_ID',\n",
        " 'ERROR_DETAIL',\n",
        " 'ERROR_COUNT',\n",
        " 'CMD',\n",
        " 'REQ_ID',\n",
        " 'LAST_EQX_PREDICTION',\n",
        " 'HYBRID_TEMP',\n",
        " 'FPA_TEMP_CYC',\n",
        " 'FPB_TEMP_CYC',\n",
        " 'BAFFLE_A_TEMP_CYC',\n",
        " 'BAFFLE_B_TEMP_CYC',\n",
        " 'OBA_1_TEMP_CYC',\n",
        " 'OBA_2_TEMP',\n",
        " 'BB_1_TEMP_CYC',\n",
        " 'BB_2_TEMP',\n",
        " 'SOLAR_TARGET_TEMP',\n",
        " 'YOKE_TEMP',\n",
        " 'EL_ACTUATOR_TEMP',\n",
        " 'AZ_ACTUATOR_TEMP',\n",
        " 'MIN_15V',\n",
        " 'PLU_15V',\n",
        " 'SOLAR_BASE_TEMP',\n",
        " 'PLU_5V',\n",
        " 'A1_01av',\n",
        " 'A1_02av',\n",
        " 'A1_03av',\n",
        " 'A1_04av',\n",
        " 'A1_05av',\n",
        " 'A1_06av',\n",
        " 'A1_07av',\n",
        " 'A1_08av',\n",
        " 'A1_09av',\n",
        " 'A1_10av',\n",
        " 'A1_11av',\n",
        " 'A1_12av',\n",
        " 'A1_13av',\n",
        " 'A1_14av',\n",
        " 'A1_15av',\n",
        " 'A1_16av',\n",
        " 'A1_17av',\n",
        " 'A1_18av',\n",
        " 'A1_19av',\n",
        " 'A1_20av',\n",
        " 'A1_21av',\n",
        " 'A2_01av',\n",
        " 'A2_02av',\n",
        " 'A2_03av',\n",
        " 'A2_04av',\n",
        " 'A2_05av',\n",
        " 'A2_06av',\n",
        " 'A2_07av',\n",
        " 'A2_08av',\n",
        " 'A2_09av',\n",
        " 'A2_10av',\n",
        " 'A2_11av',\n",
        " 'A2_12av',\n",
        " 'A2_13av',\n",
        " 'A2_14av',\n",
        " 'A2_15av',\n",
        " 'A2_16av',\n",
        " 'A2_17av',\n",
        " 'A2_18av',\n",
        " 'A2_19av',\n",
        " 'A2_20av',\n",
        " 'A2_21av',\n",
        " 'A3_01av',\n",
        " 'A3_02av',\n",
        " 'A3_03av',\n",
        " 'A3_04av',\n",
        " 'A3_05av',\n",
        " 'A3_06av',\n",
        " 'A3_07av',\n",
        " 'A3_08av',\n",
        " 'A3_09av',\n",
        " 'A3_10av',\n",
        " 'A3_11av',\n",
        " 'A3_12av',\n",
        " 'A3_13av',\n",
        " 'A3_14av',\n",
        " 'A3_15av',\n",
        " 'A3_16av',\n",
        " 'A3_17av',\n",
        " 'A3_18av',\n",
        " 'A3_19av',\n",
        " 'A3_20av',\n",
        " 'A3_21av',\n",
        " 'A4_01av',\n",
        " 'A4_02av',\n",
        " 'A4_03av',\n",
        " 'A4_04av',\n",
        " 'A4_05av',\n",
        " 'A4_06av',\n",
        " 'A4_07av',\n",
        " 'A4_08av',\n",
        " 'A4_09av',\n",
        " 'A4_10av',\n",
        " 'A4_11av',\n",
        " 'A4_12av',\n",
        " 'A4_13av',\n",
        " 'A4_14av',\n",
        " 'A4_15av',\n",
        " 'A4_16av',\n",
        " 'A4_17av',\n",
        " 'A4_18av',\n",
        " 'A4_19av',\n",
        " 'A4_20av',\n",
        " 'A4_21av',\n",
        " 'A5_01av',\n",
        " 'A5_02av',\n",
        " 'A5_03av',\n",
        " 'A5_04av',\n",
        " 'A5_05av',\n",
        " 'A5_06av',\n",
        " 'A5_07av',\n",
        " 'A5_08av',\n",
        " 'A5_09av',\n",
        " 'A5_10av',\n",
        " 'A5_11av',\n",
        " 'A5_12av',\n",
        " 'A5_13av',\n",
        " 'A5_14av',\n",
        " 'A5_15av',\n",
        " 'A5_16av',\n",
        " 'A5_17av',\n",
        " 'A5_18av',\n",
        " 'A5_19av',\n",
        " 'A5_20av',\n",
        " 'A5_21av',\n",
        " 'A6_01av',\n",
        " 'A6_02av',\n",
        " 'A6_03av',\n",
        " 'A6_04av',\n",
        " 'A6_05av',\n",
        " 'A6_06av',\n",
        " 'A6_07av',\n",
        " 'A6_08av',\n",
        " 'A6_09av',\n",
        " 'A6_10av',\n",
        " 'A6_11av',\n",
        " 'A6_12av',\n",
        " 'A6_13av',\n",
        " 'A6_14av',\n",
        " 'A6_15av',\n",
        " 'A6_16av',\n",
        " 'A6_17av',\n",
        " 'A6_18av',\n",
        " 'A6_19av',\n",
        " 'A6_20av',\n",
        " 'A6_21av',\n",
        " 'B1_01av',\n",
        " 'B1_02av',\n",
        " 'B1_03av',\n",
        " 'B1_04av',\n",
        " 'B1_05av',\n",
        " 'B1_06av',\n",
        " 'B1_07av',\n",
        " 'B1_08av',\n",
        " 'B1_09av',\n",
        " 'B1_10av',\n",
        " 'B1_11av',\n",
        " 'B1_12av',\n",
        " 'B1_13av',\n",
        " 'B1_14av',\n",
        " 'B1_15av',\n",
        " 'B1_16av',\n",
        " 'B1_17av',\n",
        " 'B1_18av',\n",
        " 'B1_19av',\n",
        " 'B1_20av',\n",
        " 'B1_21av',\n",
        " 'B2_01av',\n",
        " 'B2_02av',\n",
        " 'B2_03av',\n",
        " 'B2_04av',\n",
        " 'B2_05av',\n",
        " 'B2_06av',\n",
        " 'B2_07av',\n",
        " 'B2_08av',\n",
        " 'B2_09av',\n",
        " 'B2_10av',\n",
        " 'B2_11av',\n",
        " 'B2_12av',\n",
        " 'B2_13av',\n",
        " 'B2_14av',\n",
        " 'B2_15av',\n",
        " 'B2_16av',\n",
        " 'B2_17av',\n",
        " 'B2_18av',\n",
        " 'B2_19av',\n",
        " 'B2_20av',\n",
        " 'B2_21av',\n",
        " 'B3_01av',\n",
        " 'B3_02av',\n",
        " 'B3_03av',\n",
        " 'B3_04av',\n",
        " 'B3_05av',\n",
        " 'B3_06av',\n",
        " 'B3_07av',\n",
        " 'B3_08av',\n",
        " 'B3_09av',\n",
        " 'B3_10av',\n",
        " 'B3_11av',\n",
        " 'B3_12av',\n",
        " 'B3_13av',\n",
        " 'B3_14av',\n",
        " 'B3_15av',\n",
        " 'B3_16av',\n",
        " 'B3_17av',\n",
        " 'B3_18av',\n",
        " 'B3_19av',\n",
        " 'B3_20av',\n",
        " 'B3_21av']"
       ]
      }
     ],
     "prompt_number": 33
    },
    {
     "cell_type": "code",
     "collapsed": false,
     "input": [
      "merged[merged.is_spaceview]['b3_11'].plot(style='.',color='blue')\n",
      "merged[merged.is_bbview]['b3_11'].plot(style='.',color='red')"
     ],
     "language": "python",
     "metadata": {},
     "outputs": [
      {
       "metadata": {},
       "output_type": "pyout",
       "prompt_number": 34,
       "text": [
        "<matplotlib.axes._subplots.AxesSubplot at 0x11552af10>"
       ]
      }
     ],
     "prompt_number": 34
    },
    {
     "cell_type": "markdown",
     "metadata": {},
     "source": [
      "Azimuth stays always at 60 in the merged data-set, while elevation is doing this:"
     ]
    },
    {
     "cell_type": "code",
     "collapsed": false,
     "input": [
      "merged.last_el_cmd.describe()"
     ],
     "language": "python",
     "metadata": {},
     "outputs": [
      {
       "metadata": {},
       "output_type": "pyout",
       "prompt_number": 35,
       "text": [
        "count    83798.000000\n",
        "mean        63.361609\n",
        "std         42.403535\n",
        "min       -101.010000\n",
        "25%          0.000000\n",
        "50%         75.960000\n",
        "75%        111.010000\n",
        "max        180.000000\n",
        "Name: last_el_cmd, dtype: float64"
       ]
      }
     ],
     "prompt_number": 35
    },
    {
     "cell_type": "code",
     "collapsed": false,
     "input": [
      "data.last_az_cmd.describe()"
     ],
     "language": "python",
     "metadata": {},
     "outputs": [
      {
       "metadata": {},
       "output_type": "pyout",
       "prompt_number": 36,
       "text": [
        "count    1555183.000000\n",
        "mean          56.356449\n",
        "std           17.149827\n",
        "min         -101.010000\n",
        "25%           60.000000\n",
        "50%           60.000000\n",
        "75%           60.000000\n",
        "max          160.000000\n",
        "Name: last_az_cmd, dtype: float64"
       ]
      }
     ],
     "prompt_number": 36
    },
    {
     "cell_type": "code",
     "collapsed": false,
     "input": [
      "data.last_az_cmd[((data.last_az_cmd < 0.5) & (data.last_az_cmd > -0.5))]"
     ],
     "language": "python",
     "metadata": {},
     "outputs": [
      {
       "metadata": {},
       "output_type": "pyout",
       "prompt_number": 37,
       "text": [
        "2008-01-12 14:09:50.090000    0\n",
        "2008-01-12 14:09:50.218000    0\n",
        "2008-01-12 14:09:50.346000    0\n",
        "2008-01-12 14:09:50.474000    0\n",
        "2008-01-12 14:09:50.602000    0\n",
        "2008-01-12 14:09:50.730000    0\n",
        "2008-01-12 14:09:50.858000    0\n",
        "2008-01-12 14:09:50.986000    0\n",
        "2008-01-12 14:09:51.114000    0\n",
        "2008-01-12 14:09:51.242000    0\n",
        "2008-01-12 14:09:51.370000    0\n",
        "2008-01-12 14:09:51.498000    0\n",
        "2008-01-12 14:09:51.626000    0\n",
        "2008-01-12 14:09:51.754000    0\n",
        "2008-01-12 14:09:51.882000    0\n",
        "...\n",
        "2008-01-12 23:13:23.385000    0\n",
        "2008-01-12 23:13:23.513000    0\n",
        "2008-01-12 23:13:23.641000    0\n",
        "2008-01-12 23:13:23.769000    0\n",
        "2008-01-12 23:13:23.897000    0\n",
        "2008-01-12 23:13:24.025000    0\n",
        "2008-01-12 23:13:24.153000    0\n",
        "2008-01-12 23:13:24.281000    0\n",
        "2008-01-12 23:13:35.675000    0\n",
        "2008-01-12 23:13:35.803000    0\n",
        "2008-01-12 23:13:35.931000    0\n",
        "2008-01-12 23:13:36.059000    0\n",
        "2008-01-12 23:13:36.187000    0\n",
        "2008-01-12 23:13:36.315000    0\n",
        "2008-01-12 23:13:36.443000    0\n",
        "Name: last_az_cmd, Length: 72899"
       ]
      }
     ],
     "prompt_number": 37
    },
    {
     "cell_type": "code",
     "collapsed": false,
     "input": [
      "data.loc[ data['last_az_cmd'] <0, 'last_az_cmd'] = np.nan"
     ],
     "language": "python",
     "metadata": {},
     "outputs": [],
     "prompt_number": 38
    },
    {
     "cell_type": "markdown",
     "metadata": {},
     "source": [
      "As the azimuth data does not vary, we can not use it to distinguish between different science data"
     ]
    },
    {
     "cell_type": "code",
     "collapsed": false,
     "input": [
      "merged.iloc[:1000]['b3_11 last_el_cmd sdtype'.split()].plot(secondary_y='b3_11')"
     ],
     "language": "python",
     "metadata": {},
     "outputs": [
      {
       "metadata": {},
       "output_type": "pyout",
       "prompt_number": 39,
       "text": [
        "<matplotlib.axes._subplots.AxesSubplot at 0x121090190>"
       ]
      }
     ],
     "prompt_number": 39
    },
    {
     "cell_type": "code",
     "collapsed": false,
     "input": [
      "merged.last_el_cmd.plot(style='.')"
     ],
     "language": "python",
     "metadata": {},
     "outputs": [
      {
       "metadata": {},
       "output_type": "pyout",
       "prompt_number": 40,
       "text": [
        "<matplotlib.axes._subplots.AxesSubplot at 0x116662d90>"
       ]
      }
     ],
     "prompt_number": 40
    },
    {
     "cell_type": "markdown",
     "metadata": {},
     "source": [
      "# Marc Foote's chamber data parsing"
     ]
    },
    {
     "cell_type": "code",
     "collapsed": false,
     "input": [
      "cd ~/Dropbox/DDocuments/DIVINER/ground_calib/"
     ],
     "language": "python",
     "metadata": {},
     "outputs": [
      {
       "output_type": "stream",
       "stream": "stdout",
       "text": [
        "/Users/maye/Dropbox/DDocuments/DIVINER/ground_calib\n"
       ]
      }
     ],
     "prompt_number": 41
    },
    {
     "cell_type": "code",
     "collapsed": false,
     "input": [
      "ls"
     ],
     "language": "python",
     "metadata": {},
     "outputs": [
      {
       "output_type": "stream",
       "stream": "stdout",
       "text": [
        "2008011201_L1A_Plot3.pdf\r\n",
        "Diviner Radiometric Cal Ramp 2.xlsx\r\n",
        "Diviner Radiometric Cal Ramp 3.xlsx\r\n",
        "b1_11_2008011021-2008011109.png\r\n",
        "b1_11_2008011109-2008011121.png\r\n",
        "b1_11_2008011121-2008011209.png\r\n",
        "b1_11_2008011209-2008011221.png\r\n",
        "b1_11_2008011221-2008011309.png\r\n",
        "counts_vs_temps.png\r\n",
        "gc_a6_b1_b2_b3_d11_2008011021-2008011109.png\r\n",
        "gc_a6_b1_b2_b3_d11_2008011109-2008011121.png\r\n",
        "gc_a6_b1_b2_b3_d11_2008011121-2008011209.png\r\n",
        "gc_a6_b1_b2_b3_d11_2008011209-2008011221.png\r\n",
        "gc_a6_b1_b2_b3_d11_2008011221-2008011309.png\r\n",
        "marc_foote_counts_and_chamber_data.xlsx\r\n"
       ]
      }
     ],
     "prompt_number": 42
    },
    {
     "cell_type": "code",
     "collapsed": false,
     "input": [
      "df = pd.read_excel('marc_foote_counts_and_chamber_data.xlsx')"
     ],
     "language": "python",
     "metadata": {},
     "outputs": [],
     "prompt_number": 43
    },
    {
     "cell_type": "code",
     "collapsed": false,
     "input": [
      "original_cols = df.columns.tolist()"
     ],
     "language": "python",
     "metadata": {},
     "outputs": [],
     "prompt_number": 44
    },
    {
     "cell_type": "code",
     "collapsed": false,
     "input": [
      "from diviner.calib import thermal_detectors"
     ],
     "language": "python",
     "metadata": {},
     "outputs": [],
     "prompt_number": 45
    },
    {
     "cell_type": "code",
     "collapsed": false,
     "input": [
      "new_cols = original_cols[:8] + thermal_detectors"
     ],
     "language": "python",
     "metadata": {},
     "outputs": [],
     "prompt_number": 47
    },
    {
     "cell_type": "code",
     "collapsed": false,
     "input": [
      "df.columns = new_cols"
     ],
     "language": "python",
     "metadata": {},
     "outputs": [],
     "prompt_number": 48
    },
    {
     "cell_type": "code",
     "collapsed": false,
     "input": [
      "df.drop(0, inplace=True)"
     ],
     "language": "python",
     "metadata": {},
     "outputs": [],
     "prompt_number": 49
    },
    {
     "cell_type": "code",
     "collapsed": false,
     "input": [
      "df.set_index('Time', inplace=True)"
     ],
     "language": "python",
     "metadata": {},
     "outputs": [],
     "prompt_number": 50
    },
    {
     "cell_type": "code",
     "collapsed": false,
     "input": [
      "df.columns"
     ],
     "language": "python",
     "metadata": {},
     "outputs": [
      {
       "metadata": {},
       "output_type": "pyout",
       "prompt_number": 51,
       "text": [
        "Index([u'Fixed BB T', u'Var BB T', u'BB1 T', u'BB2 T', u'FPA T', u'FPB T', u'OBA T', u'a3_01', u'a3_02', u'a3_03', u'a3_04', u'a3_05', u'a3_06', u'a3_07', u'a3_08', u'a3_09', u'a3_10', u'a3_11', u'a3_12', u'a3_13', u'a3_14', u'a3_15', u'a3_16', u'a3_17', u'a3_18', u'a3_19', u'a3_20', u'a3_21', u'a4_01', u'a4_02', u'a4_03', u'a4_04', u'a4_05', u'a4_06', u'a4_07', u'a4_08', u'a4_09', u'a4_10', u'a4_11', u'a4_12', u'a4_13', u'a4_14', u'a4_15', u'a4_16', u'a4_17', u'a4_18', u'a4_19', u'a4_20', u'a4_21', u'a5_01', u'a5_02', u'a5_03', u'a5_04', u'a5_05', u'a5_06', u'a5_07', u'a5_08', u'a5_09', u'a5_10', u'a5_11', u'a5_12', u'a5_13', u'a5_14', u'a5_15', u'a5_16', u'a5_17', u'a5_18', u'a5_19', u'a5_20', u'a5_21', u'a6_01', u'a6_02', u'a6_03', u'a6_04', u'a6_05', u'a6_06', u'a6_07', u'a6_08', u'a6_09', u'a6_10', u'a6_11', u'a6_12', u'a6_13', u'a6_14', u'a6_15', u'a6_16', u'a6_17', u'a6_18', u'a6_19', u'a6_20', u'a6_21', u'b1_01', u'b1_02', u'b1_03', u'b1_04', u'b1_05', u'b1_06', u'b1_07', u'b1_08', u'b1_09', ...], dtype='object')"
       ]
      }
     ],
     "prompt_number": 51
    },
    {
     "cell_type": "code",
     "collapsed": false,
     "input": [
      "col = df.columns[3]"
     ],
     "language": "python",
     "metadata": {},
     "outputs": [],
     "prompt_number": 56
    },
    {
     "cell_type": "code",
     "collapsed": false,
     "input": [
      "fig, ax = subplots()\n",
      "df[col].plot(ax=ax, style='.')"
     ],
     "language": "python",
     "metadata": {},
     "outputs": [
      {
       "metadata": {},
       "output_type": "pyout",
       "prompt_number": 66,
       "text": [
        "<matplotlib.axes._subplots.AxesSubplot at 0x1255b6dd0>"
       ]
      }
     ],
     "prompt_number": 66
    },
    {
     "cell_type": "code",
     "collapsed": false,
     "input": [
      "fig, ax = subplots()\n",
      "hk.BB_2_TEMP.resample('90s',how='median').plot(ax=ax, style='.')\n",
      "hk.BB_2_spike.dropna().astype('int').plot(style='*', ms=10, secondary_y=True)"
     ],
     "language": "python",
     "metadata": {},
     "outputs": [
      {
       "ename": "KeyboardInterrupt",
       "evalue": "",
       "output_type": "pyerr",
       "traceback": [
        "\u001b[0;31m---------------------------------------------------------------------------\u001b[0m\n\u001b[0;31mKeyboardInterrupt\u001b[0m                         Traceback (most recent call last)",
        "\u001b[0;32m<ipython-input-98-96aa262a3060>\u001b[0m in \u001b[0;36m<module>\u001b[0;34m()\u001b[0m\n\u001b[1;32m      1\u001b[0m \u001b[0mfig\u001b[0m\u001b[0;34m,\u001b[0m \u001b[0max\u001b[0m \u001b[0;34m=\u001b[0m \u001b[0msubplots\u001b[0m\u001b[0;34m(\u001b[0m\u001b[0;34m)\u001b[0m\u001b[0;34m\u001b[0m\u001b[0m\n\u001b[1;32m      2\u001b[0m \u001b[0mhk\u001b[0m\u001b[0;34m.\u001b[0m\u001b[0mBB_2_TEMP\u001b[0m\u001b[0;34m.\u001b[0m\u001b[0mresample\u001b[0m\u001b[0;34m(\u001b[0m\u001b[0;34m'90s'\u001b[0m\u001b[0;34m,\u001b[0m\u001b[0mhow\u001b[0m\u001b[0;34m=\u001b[0m\u001b[0;34m'median'\u001b[0m\u001b[0;34m)\u001b[0m\u001b[0;34m.\u001b[0m\u001b[0mplot\u001b[0m\u001b[0;34m(\u001b[0m\u001b[0max\u001b[0m\u001b[0;34m=\u001b[0m\u001b[0max\u001b[0m\u001b[0;34m,\u001b[0m \u001b[0mstyle\u001b[0m\u001b[0;34m=\u001b[0m\u001b[0;34m'.'\u001b[0m\u001b[0;34m)\u001b[0m\u001b[0;34m\u001b[0m\u001b[0m\n\u001b[0;32m----> 3\u001b[0;31m \u001b[0mhk\u001b[0m\u001b[0;34m.\u001b[0m\u001b[0mBB_2_spike\u001b[0m\u001b[0;34m.\u001b[0m\u001b[0mdropna\u001b[0m\u001b[0;34m(\u001b[0m\u001b[0;34m)\u001b[0m\u001b[0;34m.\u001b[0m\u001b[0mastype\u001b[0m\u001b[0;34m(\u001b[0m\u001b[0;34m'int'\u001b[0m\u001b[0;34m)\u001b[0m\u001b[0;34m.\u001b[0m\u001b[0mplot\u001b[0m\u001b[0;34m(\u001b[0m\u001b[0mstyle\u001b[0m\u001b[0;34m=\u001b[0m\u001b[0;34m'*'\u001b[0m\u001b[0;34m,\u001b[0m \u001b[0mms\u001b[0m\u001b[0;34m=\u001b[0m\u001b[0;36m10\u001b[0m\u001b[0;34m,\u001b[0m \u001b[0msecondary_y\u001b[0m\u001b[0;34m=\u001b[0m\u001b[0mTrue\u001b[0m\u001b[0;34m)\u001b[0m\u001b[0;34m\u001b[0m\u001b[0m\n\u001b[0m",
        "\u001b[0;32m/Users/maye/miniconda3/envs/py27/lib/python2.7/site-packages/pandas/tools/plotting.pyc\u001b[0m in \u001b[0;36mplot_series\u001b[0;34m(data, kind, ax, figsize, use_index, title, grid, legend, style, logx, logy, loglog, xticks, yticks, xlim, ylim, rot, fontsize, colormap, table, yerr, xerr, label, secondary_y, **kwds)\u001b[0m\n\u001b[1;32m   2486\u001b[0m                  \u001b[0myerr\u001b[0m\u001b[0;34m=\u001b[0m\u001b[0myerr\u001b[0m\u001b[0;34m,\u001b[0m \u001b[0mxerr\u001b[0m\u001b[0;34m=\u001b[0m\u001b[0mxerr\u001b[0m\u001b[0;34m,\u001b[0m\u001b[0;34m\u001b[0m\u001b[0m\n\u001b[1;32m   2487\u001b[0m                  \u001b[0mlabel\u001b[0m\u001b[0;34m=\u001b[0m\u001b[0mlabel\u001b[0m\u001b[0;34m,\u001b[0m \u001b[0msecondary_y\u001b[0m\u001b[0;34m=\u001b[0m\u001b[0msecondary_y\u001b[0m\u001b[0;34m,\u001b[0m\u001b[0;34m\u001b[0m\u001b[0m\n\u001b[0;32m-> 2488\u001b[0;31m                  **kwds)\n\u001b[0m\u001b[1;32m   2489\u001b[0m \u001b[0;34m\u001b[0m\u001b[0m\n\u001b[1;32m   2490\u001b[0m \u001b[0;34m\u001b[0m\u001b[0m\n",
        "\u001b[0;32m/Users/maye/miniconda3/envs/py27/lib/python2.7/site-packages/pandas/tools/plotting.pyc\u001b[0m in \u001b[0;36m_plot\u001b[0;34m(data, x, y, subplots, ax, kind, **kwds)\u001b[0m\n\u001b[1;32m   2292\u001b[0m         \u001b[0mplot_obj\u001b[0m \u001b[0;34m=\u001b[0m \u001b[0mklass\u001b[0m\u001b[0;34m(\u001b[0m\u001b[0mdata\u001b[0m\u001b[0;34m,\u001b[0m \u001b[0msubplots\u001b[0m\u001b[0;34m=\u001b[0m\u001b[0msubplots\u001b[0m\u001b[0;34m,\u001b[0m \u001b[0max\u001b[0m\u001b[0;34m=\u001b[0m\u001b[0max\u001b[0m\u001b[0;34m,\u001b[0m \u001b[0mkind\u001b[0m\u001b[0;34m=\u001b[0m\u001b[0mkind\u001b[0m\u001b[0;34m,\u001b[0m \u001b[0;34m**\u001b[0m\u001b[0mkwds\u001b[0m\u001b[0;34m)\u001b[0m\u001b[0;34m\u001b[0m\u001b[0m\n\u001b[1;32m   2293\u001b[0m \u001b[0;34m\u001b[0m\u001b[0m\n\u001b[0;32m-> 2294\u001b[0;31m     \u001b[0mplot_obj\u001b[0m\u001b[0;34m.\u001b[0m\u001b[0mgenerate\u001b[0m\u001b[0;34m(\u001b[0m\u001b[0;34m)\u001b[0m\u001b[0;34m\u001b[0m\u001b[0m\n\u001b[0m\u001b[1;32m   2295\u001b[0m     \u001b[0mplot_obj\u001b[0m\u001b[0;34m.\u001b[0m\u001b[0mdraw\u001b[0m\u001b[0;34m(\u001b[0m\u001b[0;34m)\u001b[0m\u001b[0;34m\u001b[0m\u001b[0m\n\u001b[1;32m   2296\u001b[0m     \u001b[0;32mreturn\u001b[0m \u001b[0mplot_obj\u001b[0m\u001b[0;34m.\u001b[0m\u001b[0mresult\u001b[0m\u001b[0;34m\u001b[0m\u001b[0m\n",
        "\u001b[0;32m/Users/maye/miniconda3/envs/py27/lib/python2.7/site-packages/pandas/tools/plotting.pyc\u001b[0m in \u001b[0;36mgenerate\u001b[0;34m(self)\u001b[0m\n\u001b[1;32m    921\u001b[0m         \u001b[0mself\u001b[0m\u001b[0;34m.\u001b[0m\u001b[0m_add_table\u001b[0m\u001b[0;34m(\u001b[0m\u001b[0;34m)\u001b[0m\u001b[0;34m\u001b[0m\u001b[0m\n\u001b[1;32m    922\u001b[0m         \u001b[0mself\u001b[0m\u001b[0;34m.\u001b[0m\u001b[0m_make_legend\u001b[0m\u001b[0;34m(\u001b[0m\u001b[0;34m)\u001b[0m\u001b[0;34m\u001b[0m\u001b[0m\n\u001b[0;32m--> 923\u001b[0;31m         \u001b[0mself\u001b[0m\u001b[0;34m.\u001b[0m\u001b[0m_post_plot_logic\u001b[0m\u001b[0;34m(\u001b[0m\u001b[0;34m)\u001b[0m\u001b[0;34m\u001b[0m\u001b[0m\n\u001b[0m\u001b[1;32m    924\u001b[0m         \u001b[0mself\u001b[0m\u001b[0;34m.\u001b[0m\u001b[0m_adorn_subplots\u001b[0m\u001b[0;34m(\u001b[0m\u001b[0;34m)\u001b[0m\u001b[0;34m\u001b[0m\u001b[0m\n\u001b[1;32m    925\u001b[0m \u001b[0;34m\u001b[0m\u001b[0m\n",
        "\u001b[0;32m/Users/maye/miniconda3/envs/py27/lib/python2.7/site-packages/pandas/tools/plotting.pyc\u001b[0m in \u001b[0;36m_post_plot_logic\u001b[0;34m(self)\u001b[0m\n\u001b[1;32m   1684\u001b[0m                 \u001b[0;32mif\u001b[0m \u001b[0;32mnot\u001b[0m \u001b[0mself\u001b[0m\u001b[0;34m.\u001b[0m\u001b[0m_rot_set\u001b[0m\u001b[0;34m:\u001b[0m\u001b[0;34m\u001b[0m\u001b[0m\n\u001b[1;32m   1685\u001b[0m                     \u001b[0mself\u001b[0m\u001b[0;34m.\u001b[0m\u001b[0mrot\u001b[0m \u001b[0;34m=\u001b[0m \u001b[0;36m30\u001b[0m\u001b[0;34m\u001b[0m\u001b[0m\n\u001b[0;32m-> 1686\u001b[0;31m                 \u001b[0mformat_date_labels\u001b[0m\u001b[0;34m(\u001b[0m\u001b[0max\u001b[0m\u001b[0;34m,\u001b[0m \u001b[0mrot\u001b[0m\u001b[0;34m=\u001b[0m\u001b[0mself\u001b[0m\u001b[0;34m.\u001b[0m\u001b[0mrot\u001b[0m\u001b[0;34m)\u001b[0m\u001b[0;34m\u001b[0m\u001b[0m\n\u001b[0m\u001b[1;32m   1687\u001b[0m \u001b[0;34m\u001b[0m\u001b[0m\n\u001b[1;32m   1688\u001b[0m             \u001b[0;32mif\u001b[0m \u001b[0mindex_name\u001b[0m \u001b[0;32mis\u001b[0m \u001b[0;32mnot\u001b[0m \u001b[0mNone\u001b[0m\u001b[0;34m:\u001b[0m\u001b[0;34m\u001b[0m\u001b[0m\n",
        "\u001b[0;32m/Users/maye/miniconda3/envs/py27/lib/python2.7/site-packages/pandas/tools/plotting.pyc\u001b[0m in \u001b[0;36mformat_date_labels\u001b[0;34m(ax, rot)\u001b[0m\n\u001b[1;32m   2619\u001b[0m     \u001b[0;31m# mini version of autofmt_xdate\u001b[0m\u001b[0;34m\u001b[0m\u001b[0;34m\u001b[0m\u001b[0m\n\u001b[1;32m   2620\u001b[0m     \u001b[0;32mtry\u001b[0m\u001b[0;34m:\u001b[0m\u001b[0;34m\u001b[0m\u001b[0m\n\u001b[0;32m-> 2621\u001b[0;31m         \u001b[0;32mfor\u001b[0m \u001b[0mlabel\u001b[0m \u001b[0;32min\u001b[0m \u001b[0max\u001b[0m\u001b[0;34m.\u001b[0m\u001b[0mget_xticklabels\u001b[0m\u001b[0;34m(\u001b[0m\u001b[0;34m)\u001b[0m\u001b[0;34m:\u001b[0m\u001b[0;34m\u001b[0m\u001b[0m\n\u001b[0m\u001b[1;32m   2622\u001b[0m             \u001b[0mlabel\u001b[0m\u001b[0;34m.\u001b[0m\u001b[0mset_ha\u001b[0m\u001b[0;34m(\u001b[0m\u001b[0;34m'right'\u001b[0m\u001b[0;34m)\u001b[0m\u001b[0;34m\u001b[0m\u001b[0m\n\u001b[1;32m   2623\u001b[0m             \u001b[0mlabel\u001b[0m\u001b[0;34m.\u001b[0m\u001b[0mset_rotation\u001b[0m\u001b[0;34m(\u001b[0m\u001b[0mrot\u001b[0m\u001b[0;34m)\u001b[0m\u001b[0;34m\u001b[0m\u001b[0m\n",
        "\u001b[0;32m/Users/maye/miniconda3/envs/py27/lib/python2.7/site-packages/matplotlib/axes/_base.pyc\u001b[0m in \u001b[0;36mget_xticklabels\u001b[0;34m(self, minor, which)\u001b[0m\n\u001b[1;32m   2641\u001b[0m         return cbook.silent_list('Text xticklabel',\n\u001b[1;32m   2642\u001b[0m                                  self.xaxis.get_ticklabels(minor=minor,\n\u001b[0;32m-> 2643\u001b[0;31m                                                            which=which))\n\u001b[0m\u001b[1;32m   2644\u001b[0m \u001b[0;34m\u001b[0m\u001b[0m\n\u001b[1;32m   2645\u001b[0m     \u001b[0;34m@\u001b[0m\u001b[0mdocstring\u001b[0m\u001b[0;34m.\u001b[0m\u001b[0mdedent_interpd\u001b[0m\u001b[0;34m\u001b[0m\u001b[0m\n",
        "\u001b[0;32m/Users/maye/miniconda3/envs/py27/lib/python2.7/site-packages/matplotlib/axis.pyc\u001b[0m in \u001b[0;36mget_ticklabels\u001b[0;34m(self, minor, which)\u001b[0m\n\u001b[1;32m   1212\u001b[0m         \u001b[0;32mif\u001b[0m \u001b[0mminor\u001b[0m\u001b[0;34m:\u001b[0m\u001b[0;34m\u001b[0m\u001b[0m\n\u001b[1;32m   1213\u001b[0m             \u001b[0;32mreturn\u001b[0m \u001b[0mself\u001b[0m\u001b[0;34m.\u001b[0m\u001b[0mget_minorticklabels\u001b[0m\u001b[0;34m(\u001b[0m\u001b[0;34m)\u001b[0m\u001b[0;34m\u001b[0m\u001b[0m\n\u001b[0;32m-> 1214\u001b[0;31m         \u001b[0;32mreturn\u001b[0m \u001b[0mself\u001b[0m\u001b[0;34m.\u001b[0m\u001b[0mget_majorticklabels\u001b[0m\u001b[0;34m(\u001b[0m\u001b[0;34m)\u001b[0m\u001b[0;34m\u001b[0m\u001b[0m\n\u001b[0m\u001b[1;32m   1215\u001b[0m \u001b[0;34m\u001b[0m\u001b[0m\n\u001b[1;32m   1216\u001b[0m     \u001b[0;32mdef\u001b[0m \u001b[0mget_majorticklines\u001b[0m\u001b[0;34m(\u001b[0m\u001b[0mself\u001b[0m\u001b[0;34m)\u001b[0m\u001b[0;34m:\u001b[0m\u001b[0;34m\u001b[0m\u001b[0m\n",
        "\u001b[0;32m/Users/maye/miniconda3/envs/py27/lib/python2.7/site-packages/matplotlib/axis.pyc\u001b[0m in \u001b[0;36mget_majorticklabels\u001b[0;34m(self)\u001b[0m\n\u001b[1;32m   1166\u001b[0m     \u001b[0;32mdef\u001b[0m \u001b[0mget_majorticklabels\u001b[0m\u001b[0;34m(\u001b[0m\u001b[0mself\u001b[0m\u001b[0;34m)\u001b[0m\u001b[0;34m:\u001b[0m\u001b[0;34m\u001b[0m\u001b[0m\n\u001b[1;32m   1167\u001b[0m         \u001b[0;34m'Return a list of Text instances for the major ticklabels'\u001b[0m\u001b[0;34m\u001b[0m\u001b[0m\n\u001b[0;32m-> 1168\u001b[0;31m         \u001b[0mticks\u001b[0m \u001b[0;34m=\u001b[0m \u001b[0mself\u001b[0m\u001b[0;34m.\u001b[0m\u001b[0mget_major_ticks\u001b[0m\u001b[0;34m(\u001b[0m\u001b[0;34m)\u001b[0m\u001b[0;34m\u001b[0m\u001b[0m\n\u001b[0m\u001b[1;32m   1169\u001b[0m         \u001b[0mlabels1\u001b[0m \u001b[0;34m=\u001b[0m \u001b[0;34m[\u001b[0m\u001b[0mtick\u001b[0m\u001b[0;34m.\u001b[0m\u001b[0mlabel1\u001b[0m \u001b[0;32mfor\u001b[0m \u001b[0mtick\u001b[0m \u001b[0;32min\u001b[0m \u001b[0mticks\u001b[0m \u001b[0;32mif\u001b[0m \u001b[0mtick\u001b[0m\u001b[0;34m.\u001b[0m\u001b[0mlabel1On\u001b[0m\u001b[0;34m]\u001b[0m\u001b[0;34m\u001b[0m\u001b[0m\n\u001b[1;32m   1170\u001b[0m         \u001b[0mlabels2\u001b[0m \u001b[0;34m=\u001b[0m \u001b[0;34m[\u001b[0m\u001b[0mtick\u001b[0m\u001b[0;34m.\u001b[0m\u001b[0mlabel2\u001b[0m \u001b[0;32mfor\u001b[0m \u001b[0mtick\u001b[0m \u001b[0;32min\u001b[0m \u001b[0mticks\u001b[0m \u001b[0;32mif\u001b[0m \u001b[0mtick\u001b[0m\u001b[0;34m.\u001b[0m\u001b[0mlabel2On\u001b[0m\u001b[0;34m]\u001b[0m\u001b[0;34m\u001b[0m\u001b[0m\n",
        "\u001b[0;32m/Users/maye/miniconda3/envs/py27/lib/python2.7/site-packages/matplotlib/axis.pyc\u001b[0m in \u001b[0;36mget_major_ticks\u001b[0;34m(self, numticks)\u001b[0m\n\u001b[1;32m   1295\u001b[0m         \u001b[0;34m'get the tick instances; grow as necessary'\u001b[0m\u001b[0;34m\u001b[0m\u001b[0m\n\u001b[1;32m   1296\u001b[0m         \u001b[0;32mif\u001b[0m \u001b[0mnumticks\u001b[0m \u001b[0;32mis\u001b[0m \u001b[0mNone\u001b[0m\u001b[0;34m:\u001b[0m\u001b[0;34m\u001b[0m\u001b[0m\n\u001b[0;32m-> 1297\u001b[0;31m             \u001b[0mnumticks\u001b[0m \u001b[0;34m=\u001b[0m \u001b[0mlen\u001b[0m\u001b[0;34m(\u001b[0m\u001b[0mself\u001b[0m\u001b[0;34m.\u001b[0m\u001b[0mget_major_locator\u001b[0m\u001b[0;34m(\u001b[0m\u001b[0;34m)\u001b[0m\u001b[0;34m(\u001b[0m\u001b[0;34m)\u001b[0m\u001b[0;34m)\u001b[0m\u001b[0;34m\u001b[0m\u001b[0m\n\u001b[0m\u001b[1;32m   1298\u001b[0m         \u001b[0;32mif\u001b[0m \u001b[0mlen\u001b[0m\u001b[0;34m(\u001b[0m\u001b[0mself\u001b[0m\u001b[0;34m.\u001b[0m\u001b[0mmajorTicks\u001b[0m\u001b[0;34m)\u001b[0m \u001b[0;34m<\u001b[0m \u001b[0mnumticks\u001b[0m\u001b[0;34m:\u001b[0m\u001b[0;34m\u001b[0m\u001b[0m\n\u001b[1;32m   1299\u001b[0m             \u001b[0;31m# update the new tick label properties from the old\u001b[0m\u001b[0;34m\u001b[0m\u001b[0;34m\u001b[0m\u001b[0m\n",
        "\u001b[0;32m/Users/maye/miniconda3/envs/py27/lib/python2.7/site-packages/pandas/tseries/converter.pyc\u001b[0m in \u001b[0;36m__call__\u001b[0;34m(self)\u001b[0m\n\u001b[1;32m    899\u001b[0m             \u001b[0mvmin\u001b[0m\u001b[0;34m,\u001b[0m \u001b[0mvmax\u001b[0m \u001b[0;34m=\u001b[0m \u001b[0mvmax\u001b[0m\u001b[0;34m,\u001b[0m \u001b[0mvmin\u001b[0m\u001b[0;34m\u001b[0m\u001b[0m\n\u001b[1;32m    900\u001b[0m         \u001b[0;32mif\u001b[0m \u001b[0mself\u001b[0m\u001b[0;34m.\u001b[0m\u001b[0misdynamic\u001b[0m\u001b[0;34m:\u001b[0m\u001b[0;34m\u001b[0m\u001b[0m\n\u001b[0;32m--> 901\u001b[0;31m             \u001b[0mlocs\u001b[0m \u001b[0;34m=\u001b[0m \u001b[0mself\u001b[0m\u001b[0;34m.\u001b[0m\u001b[0m_get_default_locs\u001b[0m\u001b[0;34m(\u001b[0m\u001b[0mvmin\u001b[0m\u001b[0;34m,\u001b[0m \u001b[0mvmax\u001b[0m\u001b[0;34m)\u001b[0m\u001b[0;34m\u001b[0m\u001b[0m\n\u001b[0m\u001b[1;32m    902\u001b[0m         \u001b[0;32melse\u001b[0m\u001b[0;34m:\u001b[0m  \u001b[0;31m# pragma: no cover\u001b[0m\u001b[0;34m\u001b[0m\u001b[0m\n\u001b[1;32m    903\u001b[0m             \u001b[0mbase\u001b[0m \u001b[0;34m=\u001b[0m \u001b[0mself\u001b[0m\u001b[0;34m.\u001b[0m\u001b[0mbase\u001b[0m\u001b[0;34m\u001b[0m\u001b[0m\n",
        "\u001b[0;32m/Users/maye/miniconda3/envs/py27/lib/python2.7/site-packages/pandas/tseries/converter.pyc\u001b[0m in \u001b[0;36m_get_default_locs\u001b[0;34m(self, vmin, vmax)\u001b[0m\n\u001b[1;32m    880\u001b[0m \u001b[0;34m\u001b[0m\u001b[0m\n\u001b[1;32m    881\u001b[0m         \u001b[0;32mif\u001b[0m \u001b[0mself\u001b[0m\u001b[0;34m.\u001b[0m\u001b[0mplot_obj\u001b[0m\u001b[0;34m.\u001b[0m\u001b[0mdate_axis_info\u001b[0m \u001b[0;32mis\u001b[0m \u001b[0mNone\u001b[0m\u001b[0;34m:\u001b[0m\u001b[0;34m\u001b[0m\u001b[0m\n\u001b[0;32m--> 882\u001b[0;31m             \u001b[0mself\u001b[0m\u001b[0;34m.\u001b[0m\u001b[0mplot_obj\u001b[0m\u001b[0;34m.\u001b[0m\u001b[0mdate_axis_info\u001b[0m \u001b[0;34m=\u001b[0m \u001b[0mself\u001b[0m\u001b[0;34m.\u001b[0m\u001b[0mfinder\u001b[0m\u001b[0;34m(\u001b[0m\u001b[0mvmin\u001b[0m\u001b[0;34m,\u001b[0m \u001b[0mvmax\u001b[0m\u001b[0;34m,\u001b[0m \u001b[0mself\u001b[0m\u001b[0;34m.\u001b[0m\u001b[0mfreq\u001b[0m\u001b[0;34m)\u001b[0m\u001b[0;34m\u001b[0m\u001b[0m\n\u001b[0m\u001b[1;32m    883\u001b[0m \u001b[0;34m\u001b[0m\u001b[0m\n\u001b[1;32m    884\u001b[0m         \u001b[0mlocator\u001b[0m \u001b[0;34m=\u001b[0m \u001b[0mself\u001b[0m\u001b[0;34m.\u001b[0m\u001b[0mplot_obj\u001b[0m\u001b[0;34m.\u001b[0m\u001b[0mdate_axis_info\u001b[0m\u001b[0;34m\u001b[0m\u001b[0m\n",
        "\u001b[0;32m/Users/maye/miniconda3/envs/py27/lib/python2.7/site-packages/pandas/tseries/converter.pyc\u001b[0m in \u001b[0;36m_daily_finder\u001b[0;34m(vmin, vmax, freq)\u001b[0m\n\u001b[1;32m    508\u001b[0m                     dtype=[('val', np.int64), ('maj', bool),\n\u001b[1;32m    509\u001b[0m                            ('min', bool), ('fmt', '|S20')])\n\u001b[0;32m--> 510\u001b[0;31m     \u001b[0minfo\u001b[0m\u001b[0;34m[\u001b[0m\u001b[0;34m'val'\u001b[0m\u001b[0;34m]\u001b[0m\u001b[0;34m[\u001b[0m\u001b[0;34m:\u001b[0m\u001b[0;34m]\u001b[0m \u001b[0;34m=\u001b[0m \u001b[0mdates_\u001b[0m\u001b[0;34m.\u001b[0m\u001b[0mvalues\u001b[0m\u001b[0;34m\u001b[0m\u001b[0m\n\u001b[0m\u001b[1;32m    511\u001b[0m     \u001b[0minfo\u001b[0m\u001b[0;34m[\u001b[0m\u001b[0;34m'fmt'\u001b[0m\u001b[0;34m]\u001b[0m\u001b[0;34m[\u001b[0m\u001b[0;34m:\u001b[0m\u001b[0;34m]\u001b[0m \u001b[0;34m=\u001b[0m \u001b[0;34m''\u001b[0m\u001b[0;34m\u001b[0m\u001b[0m\n\u001b[1;32m    512\u001b[0m     \u001b[0minfo\u001b[0m\u001b[0;34m[\u001b[0m\u001b[0;34m'maj'\u001b[0m\u001b[0;34m]\u001b[0m\u001b[0;34m[\u001b[0m\u001b[0;34m[\u001b[0m\u001b[0;36m0\u001b[0m\u001b[0;34m,\u001b[0m \u001b[0;34m-\u001b[0m\u001b[0;36m1\u001b[0m\u001b[0;34m]\u001b[0m\u001b[0;34m]\u001b[0m \u001b[0;34m=\u001b[0m \u001b[0mTrue\u001b[0m\u001b[0;34m\u001b[0m\u001b[0m\n",
        "\u001b[0;31mKeyboardInterrupt\u001b[0m: "
       ]
      }
     ],
     "prompt_number": 98
    },
    {
     "cell_type": "code",
     "collapsed": false,
     "input": [
      "hk['BB_2_spike'] = hk.BB_2_TEMP.dropna().diff() > 0.5"
     ],
     "language": "python",
     "metadata": {},
     "outputs": [],
     "prompt_number": 94
    },
    {
     "cell_type": "code",
     "collapsed": false,
     "input": [
      "hk.BB_2_spike.value_counts()"
     ],
     "language": "python",
     "metadata": {},
     "outputs": [
      {
       "metadata": {},
       "output_type": "pyout",
       "prompt_number": 95,
       "text": [
        "False    11842\n",
        "True         1\n",
        "dtype: int64"
       ]
      }
     ],
     "prompt_number": 95
    },
    {
     "cell_type": "code",
     "collapsed": false,
     "input": [],
     "language": "python",
     "metadata": {},
     "outputs": []
    }
   ],
   "metadata": {}
  }
 ]
}