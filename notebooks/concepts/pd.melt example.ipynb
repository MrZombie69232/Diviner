{
 "metadata": {
  "name": "",
  "signature": "sha256:43fb9647d5d939273c3b42ccf5b55b82daea9ac424750ed942c3c25d8eb4972a"
 },
 "nbformat": 3,
 "nbformat_minor": 0,
 "worksheets": [
  {
   "cells": [
    {
     "cell_type": "code",
     "collapsed": false,
     "input": [
      "import pandas as pd"
     ],
     "language": "python",
     "metadata": {},
     "outputs": [],
     "prompt_number": 1
    },
    {
     "cell_type": "code",
     "collapsed": false,
     "input": [
      "df = pd.DataFrame(randn(2,4), columns=['t1','t2', 'det1', 'det2'],\n",
      "                  index=['time1','time2'])\n",
      "df.reset_index()"
     ],
     "language": "python",
     "metadata": {},
     "outputs": [
      {
       "html": [
        "<div style=\"max-height:1000px;max-width:1500px;overflow:auto;\">\n",
        "<table border=\"1\" class=\"dataframe\">\n",
        "  <thead>\n",
        "    <tr style=\"text-align: right;\">\n",
        "      <th></th>\n",
        "      <th>index</th>\n",
        "      <th>t1</th>\n",
        "      <th>t2</th>\n",
        "      <th>det1</th>\n",
        "      <th>det2</th>\n",
        "    </tr>\n",
        "  </thead>\n",
        "  <tbody>\n",
        "    <tr>\n",
        "      <th>0</th>\n",
        "      <td> time1</td>\n",
        "      <td>-1.095541</td>\n",
        "      <td>-0.301730</td>\n",
        "      <td> 0.738260</td>\n",
        "      <td>-0.698968</td>\n",
        "    </tr>\n",
        "    <tr>\n",
        "      <th>1</th>\n",
        "      <td> time2</td>\n",
        "      <td>-0.959792</td>\n",
        "      <td>-0.634877</td>\n",
        "      <td>-1.740455</td>\n",
        "      <td>-0.479412</td>\n",
        "    </tr>\n",
        "  </tbody>\n",
        "</table>\n",
        "<p>2 rows \u00d7 5 columns</p>\n",
        "</div>"
       ],
       "metadata": {},
       "output_type": "pyout",
       "prompt_number": 2,
       "text": [
        "   index        t1        t2      det1      det2\n",
        "0  time1 -1.095541 -0.301730  0.738260 -0.698968\n",
        "1  time2 -0.959792 -0.634877 -1.740455 -0.479412\n",
        "\n",
        "[2 rows x 5 columns]"
       ]
      }
     ],
     "prompt_number": 2
    },
    {
     "cell_type": "code",
     "collapsed": false,
     "input": [
      "df.iloc[:, :2]"
     ],
     "language": "python",
     "metadata": {},
     "outputs": [
      {
       "html": [
        "<div style=\"max-height:1000px;max-width:1500px;overflow:auto;\">\n",
        "<table border=\"1\" class=\"dataframe\">\n",
        "  <thead>\n",
        "    <tr style=\"text-align: right;\">\n",
        "      <th></th>\n",
        "      <th>t1</th>\n",
        "      <th>t2</th>\n",
        "    </tr>\n",
        "  </thead>\n",
        "  <tbody>\n",
        "    <tr>\n",
        "      <th>time1</th>\n",
        "      <td>-1.095541</td>\n",
        "      <td>-0.301730</td>\n",
        "    </tr>\n",
        "    <tr>\n",
        "      <th>time2</th>\n",
        "      <td>-0.959792</td>\n",
        "      <td>-0.634877</td>\n",
        "    </tr>\n",
        "  </tbody>\n",
        "</table>\n",
        "<p>2 rows \u00d7 2 columns</p>\n",
        "</div>"
       ],
       "metadata": {},
       "output_type": "pyout",
       "prompt_number": 7,
       "text": [
        "             t1        t2\n",
        "time1 -1.095541 -0.301730\n",
        "time2 -0.959792 -0.634877\n",
        "\n",
        "[2 rows x 2 columns]"
       ]
      }
     ],
     "prompt_number": 7
    },
    {
     "cell_type": "code",
     "collapsed": false,
     "input": [
      "pd.melt(df.reset_index(), id_vars=['t1','t2','index'],value_vars=['det1','det2'])"
     ],
     "language": "python",
     "metadata": {},
     "outputs": [
      {
       "html": [
        "<div style=\"max-height:1000px;max-width:1500px;overflow:auto;\">\n",
        "<table border=\"1\" class=\"dataframe\">\n",
        "  <thead>\n",
        "    <tr style=\"text-align: right;\">\n",
        "      <th></th>\n",
        "      <th>t1</th>\n",
        "      <th>t2</th>\n",
        "      <th>index</th>\n",
        "      <th>variable</th>\n",
        "      <th>value</th>\n",
        "    </tr>\n",
        "  </thead>\n",
        "  <tbody>\n",
        "    <tr>\n",
        "      <th>0</th>\n",
        "      <td>-0.319327</td>\n",
        "      <td>-0.216275</td>\n",
        "      <td> time1</td>\n",
        "      <td> det1</td>\n",
        "      <td>-1.433440</td>\n",
        "    </tr>\n",
        "    <tr>\n",
        "      <th>1</th>\n",
        "      <td> 0.493806</td>\n",
        "      <td>-0.030930</td>\n",
        "      <td> time2</td>\n",
        "      <td> det1</td>\n",
        "      <td>-0.980414</td>\n",
        "    </tr>\n",
        "    <tr>\n",
        "      <th>2</th>\n",
        "      <td>-0.319327</td>\n",
        "      <td>-0.216275</td>\n",
        "      <td> time1</td>\n",
        "      <td> det2</td>\n",
        "      <td> 1.565510</td>\n",
        "    </tr>\n",
        "    <tr>\n",
        "      <th>3</th>\n",
        "      <td> 0.493806</td>\n",
        "      <td>-0.030930</td>\n",
        "      <td> time2</td>\n",
        "      <td> det2</td>\n",
        "      <td> 0.439968</td>\n",
        "    </tr>\n",
        "  </tbody>\n",
        "</table>\n",
        "</div>"
       ],
       "metadata": {},
       "output_type": "pyout",
       "prompt_number": 16,
       "text": [
        "         t1        t2  index variable     value\n",
        "0 -0.319327 -0.216275  time1     det1 -1.433440\n",
        "1  0.493806 -0.030930  time2     det1 -0.980414\n",
        "2 -0.319327 -0.216275  time1     det2  1.565510\n",
        "3  0.493806 -0.030930  time2     det2  0.439968"
       ]
      }
     ],
     "prompt_number": 16
    },
    {
     "cell_type": "code",
     "collapsed": false,
     "input": [
      "first_day = '2013030300'"
     ],
     "language": "python",
     "metadata": {},
     "outputs": [],
     "prompt_number": 1
    },
    {
     "cell_type": "code",
     "collapsed": false,
     "input": [
      "frozenset?"
     ],
     "language": "python",
     "metadata": {},
     "outputs": [],
     "prompt_number": 8
    },
    {
     "cell_type": "code",
     "collapsed": false,
     "input": [],
     "language": "python",
     "metadata": {},
     "outputs": []
    }
   ],
   "metadata": {}
  }
 ]
}