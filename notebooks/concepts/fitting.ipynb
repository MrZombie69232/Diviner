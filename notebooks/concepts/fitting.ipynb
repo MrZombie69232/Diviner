{
 "cells": [
  {
   "cell_type": "code",
   "execution_count": 1,
   "metadata": {
    "collapsed": false
   },
   "outputs": [],
   "source": [
    "from scipy.interpolate import UnivariateSpline"
   ]
  },
  {
   "cell_type": "code",
   "execution_count": 2,
   "metadata": {
    "collapsed": false
   },
   "outputs": [],
   "source": [
    "%matplotlib widget"
   ]
  },
  {
   "cell_type": "code",
   "execution_count": 3,
   "metadata": {
    "collapsed": false
   },
   "outputs": [],
   "source": [
    "x = np.linspace(0, 10, 10)\n",
    "y = np.cos(-x**2/8.0)\n",
    "k1 = UnivariateSpline(x, y, s=0.0, k=1)\n",
    "k2 = UnivariateSpline(x, y, s=0.0, k=2)\n",
    "k3 = UnivariateSpline(x, y, s=0.0, k=3)"
   ]
  },
  {
   "cell_type": "code",
   "execution_count": 4,
   "metadata": {
    "collapsed": false
   },
   "outputs": [
    {
     "data": {
      "application/vnd.jupyter.widget-view+json": {
       "model_id": "2d223696cf0846bba13eaa406d0b8298",
       "version_major": 2,
       "version_minor": 0
      },
      "text/plain": [
       "FigureCanvasNbAgg()"
      ]
     },
     "metadata": {},
     "output_type": "display_data"
    }
   ],
   "source": [
    "xnew = np.linspace(0, 10, 100)\n",
    "import matplotlib.pyplot as plt\n",
    "plt.plot(x,y,'o',label='data')\n",
    "plt.plot(xnew, k1(xnew),'-',label='linear')\n",
    "plt.plot(xnew, k2(xnew),'--', label='quadratic')\n",
    "plt.plot(xnew, k3(xnew), '.-', label='cubic')\n",
    "plt.legend(loc='best')\n",
    "plt.show()"
   ]
  },
  {
   "cell_type": "markdown",
   "metadata": {},
   "source": [
    "I confirmed elsewhere that the UnivariateSpline is almost factor 10 faster than interp1d. So I go for cubic (k=3) UnivariateSpline fit (instead of k=1)"
   ]
  },
  {
   "cell_type": "code",
   "execution_count": 5,
   "metadata": {
    "collapsed": false
   },
   "outputs": [],
   "source": [
    "from diviner import file_utils as fu\n",
    "from diviner import calib"
   ]
  },
  {
   "cell_type": "code",
   "execution_count": 6,
   "metadata": {
    "collapsed": false
   },
   "outputs": [],
   "source": [
    "def calibrate(tstr, neighbors=1, order=1):\n",
    "    l1a = fu.open_and_accumulate(tstr, neighbors)\n",
    "    rdr = calib.Calibrator(l1a, calfitting_order=order)\n",
    "    rdr.calibrate()\n",
    "    return rdr\n",
    "\n",
    "def compare_tb(rdr1, rdr2, t, det):\n",
    "    val1 = rdr1.tb.loc[t, det]\n",
    "    val2 = rdr2.tb.loc[t, det]\n",
    "    return val1/val2\n",
    "\n",
    "def compare_rad(rdr1, rdr2, t, det):\n",
    "    val1 = rdr1.norm_radiance.loc[t, det]\n",
    "    val2 = rdr2.norm_radiance.loc[t, det]\n",
    "    return val1/val2"
   ]
  },
  {
   "cell_type": "code",
   "execution_count": 7,
   "metadata": {
    "collapsed": false
   },
   "outputs": [
    {
     "name": "stderr",
     "output_type": "stream",
     "text": [
      "INFO:diviner.calib:Calibrating from 2013-03-05 01:00:00.165000 to 2013-03-05 06:00:00.215000.\n",
      "INFO:diviner.calib:Performing radiance correction on 2013-03-05 01:00:00.165000\n",
      "INFO:diviner.calib:Calibrating from 2013-03-05 02:00:00.595000 to 2013-03-05 07:00:00.652000.\n",
      "INFO:diviner.calib:Performing radiance correction on 2013-03-05 02:00:00.595000\n",
      "INFO:diviner.calib:Calibrating from 2013-03-05 01:00:00.165000 to 2013-03-05 06:00:00.215000.\n",
      "INFO:diviner.calib:Performing radiance correction on 2013-03-05 01:00:00.165000\n",
      "INFO:diviner.calib:Calibrating from 2013-03-05 02:00:00.595000 to 2013-03-05 07:00:00.652000.\n",
      "INFO:diviner.calib:Performing radiance correction on 2013-03-05 02:00:00.595000\n"
     ]
    }
   ],
   "source": [
    "rdr1 = calibrate('2013030503', neighbors=2, order=3)\n",
    "rdr2 = calibrate('2013030504', neighbors=2, order=3)\n",
    "rdr1_lin = calibrate('2013030503', neighbors=2, order=1)\n",
    "rdr2_lin = calibrate('2013030504', neighbors=2, order=1)"
   ]
  },
  {
   "cell_type": "code",
   "execution_count": 8,
   "metadata": {
    "collapsed": false
   },
   "outputs": [],
   "source": [
    "t = pd.Timestamp('2013-03-05 02:30:00.127000')\n",
    "t = pd.Timestamp('2013-03-05 02:30:00.056000')\n",
    "t = pd.Timestamp('2013-03-05 04:59:00.117000')\n",
    "t = pd.Timestamp('2013-03-05 04:30:00.050000')\n",
    "t = pd.Timestamp('2013-03-05 03:00:00.028000')"
   ]
  },
  {
   "cell_type": "code",
   "execution_count": 9,
   "metadata": {
    "collapsed": false
   },
   "outputs": [
    {
     "name": "stdout",
     "output_type": "stream",
     "text": [
      "1.00001253847\n",
      "1.00001715061\n"
     ]
    }
   ],
   "source": [
    "det = 'b3_21'\n",
    "print compare_tb(rdr1, rdr2, t, det)\n",
    "print compare_rad(rdr1, rdr2, t, det)"
   ]
  },
  {
   "cell_type": "code",
   "execution_count": 10,
   "metadata": {
    "collapsed": false
   },
   "outputs": [],
   "source": [
    "tindex1 = '20130305 04'"
   ]
  },
  {
   "cell_type": "code",
   "execution_count": 11,
   "metadata": {
    "collapsed": false
   },
   "outputs": [
    {
     "data": {
      "text/html": [
       "<div style=\"max-height:1000px;max-width:1500px;overflow:auto;\">\n",
       "<table border=\"1\" class=\"dataframe\">\n",
       "  <thead>\n",
       "    <tr style=\"text-align: right;\">\n",
       "      <th></th>\n",
       "      <th>a3_01</th>\n",
       "      <th>a3_02</th>\n",
       "      <th>a3_03</th>\n",
       "      <th>a3_04</th>\n",
       "      <th>a3_05</th>\n",
       "      <th>a3_06</th>\n",
       "      <th>a3_07</th>\n",
       "      <th>a3_08</th>\n",
       "      <th>a3_09</th>\n",
       "      <th>a3_10</th>\n",
       "      <th>...</th>\n",
       "      <th>b3_12</th>\n",
       "      <th>b3_13</th>\n",
       "      <th>b3_14</th>\n",
       "      <th>b3_15</th>\n",
       "      <th>b3_16</th>\n",
       "      <th>b3_17</th>\n",
       "      <th>b3_18</th>\n",
       "      <th>b3_19</th>\n",
       "      <th>b3_20</th>\n",
       "      <th>b3_21</th>\n",
       "    </tr>\n",
       "  </thead>\n",
       "  <tbody>\n",
       "    <tr>\n",
       "      <th>2013-03-05 04:59:59.638000</th>\n",
       "      <td> 251.903913</td>\n",
       "      <td> 251.005042</td>\n",
       "      <td> 250.337717</td>\n",
       "      <td> 249.508822</td>\n",
       "      <td> 249.284424</td>\n",
       "      <td> 248.622842</td>\n",
       "      <td> 248.432865</td>\n",
       "      <td> 247.873533</td>\n",
       "      <td> 247.266446</td>\n",
       "      <td> 247.247257</td>\n",
       "      <td>...</td>\n",
       "      <td> 195.786815</td>\n",
       "      <td> 197.085049</td>\n",
       "      <td> 192.491846</td>\n",
       "      <td> 200.690587</td>\n",
       "      <td> 199.979221</td>\n",
       "      <td> 196.795080</td>\n",
       "      <td> 196.609332</td>\n",
       "      <td> 195.006407</td>\n",
       "      <td> 199.519843</td>\n",
       "      <td> 191.265653</td>\n",
       "    </tr>\n",
       "    <tr>\n",
       "      <th>2013-03-05 04:59:59.766000</th>\n",
       "      <td> 238.849099</td>\n",
       "      <td> 237.094347</td>\n",
       "      <td> 236.774336</td>\n",
       "      <td> 235.310456</td>\n",
       "      <td> 234.713649</td>\n",
       "      <td> 234.420850</td>\n",
       "      <td> 235.176607</td>\n",
       "      <td> 235.785400</td>\n",
       "      <td> 234.795398</td>\n",
       "      <td> 235.659693</td>\n",
       "      <td>...</td>\n",
       "      <td> 204.043752</td>\n",
       "      <td> 203.023957</td>\n",
       "      <td> 194.659786</td>\n",
       "      <td> 198.502838</td>\n",
       "      <td> 195.807703</td>\n",
       "      <td> 201.145969</td>\n",
       "      <td> 198.899441</td>\n",
       "      <td> 193.918977</td>\n",
       "      <td> 192.436545</td>\n",
       "      <td> 195.483931</td>\n",
       "    </tr>\n",
       "    <tr>\n",
       "      <th>2013-03-05 04:59:59.894000</th>\n",
       "      <td> 242.394001</td>\n",
       "      <td> 243.746114</td>\n",
       "      <td> 244.864430</td>\n",
       "      <td> 244.911928</td>\n",
       "      <td> 245.837514</td>\n",
       "      <td> 246.956103</td>\n",
       "      <td> 247.308663</td>\n",
       "      <td> 247.312602</td>\n",
       "      <td> 247.489987</td>\n",
       "      <td> 247.927854</td>\n",
       "      <td>...</td>\n",
       "      <td> 203.009074</td>\n",
       "      <td> 205.989411</td>\n",
       "      <td> 205.489179</td>\n",
       "      <td> 203.959175</td>\n",
       "      <td> 202.055387</td>\n",
       "      <td> 205.488866</td>\n",
       "      <td> 196.604298</td>\n",
       "      <td> 198.258757</td>\n",
       "      <td> 198.338203</td>\n",
       "      <td> 203.896369</td>\n",
       "    </tr>\n",
       "  </tbody>\n",
       "</table>\n",
       "<p>3 rows × 147 columns</p>\n",
       "</div>"
      ],
      "text/plain": [
       "                                 a3_01       a3_02       a3_03       a3_04  \\\n",
       "2013-03-05 04:59:59.638000  251.903913  251.005042  250.337717  249.508822   \n",
       "2013-03-05 04:59:59.766000  238.849099  237.094347  236.774336  235.310456   \n",
       "2013-03-05 04:59:59.894000  242.394001  243.746114  244.864430  244.911928   \n",
       "\n",
       "                                 a3_05       a3_06       a3_07       a3_08  \\\n",
       "2013-03-05 04:59:59.638000  249.284424  248.622842  248.432865  247.873533   \n",
       "2013-03-05 04:59:59.766000  234.713649  234.420850  235.176607  235.785400   \n",
       "2013-03-05 04:59:59.894000  245.837514  246.956103  247.308663  247.312602   \n",
       "\n",
       "                                 a3_09       a3_10     ...           b3_12  \\\n",
       "2013-03-05 04:59:59.638000  247.266446  247.247257     ...      195.786815   \n",
       "2013-03-05 04:59:59.766000  234.795398  235.659693     ...      204.043752   \n",
       "2013-03-05 04:59:59.894000  247.489987  247.927854     ...      203.009074   \n",
       "\n",
       "                                 b3_13       b3_14       b3_15       b3_16  \\\n",
       "2013-03-05 04:59:59.638000  197.085049  192.491846  200.690587  199.979221   \n",
       "2013-03-05 04:59:59.766000  203.023957  194.659786  198.502838  195.807703   \n",
       "2013-03-05 04:59:59.894000  205.989411  205.489179  203.959175  202.055387   \n",
       "\n",
       "                                 b3_17       b3_18       b3_19       b3_20  \\\n",
       "2013-03-05 04:59:59.638000  196.795080  196.609332  195.006407  199.519843   \n",
       "2013-03-05 04:59:59.766000  201.145969  198.899441  193.918977  192.436545   \n",
       "2013-03-05 04:59:59.894000  205.488866  196.604298  198.258757  198.338203   \n",
       "\n",
       "                                 b3_21  \n",
       "2013-03-05 04:59:59.638000  191.265653  \n",
       "2013-03-05 04:59:59.766000  195.483931  \n",
       "2013-03-05 04:59:59.894000  203.896369  \n",
       "\n",
       "[3 rows x 147 columns]"
      ]
     },
     "execution_count": 11,
     "metadata": {},
     "output_type": "execute_result"
    }
   ],
   "source": [
    "rdr1.tb[tindex1].iloc[-3:]"
   ]
  },
  {
   "cell_type": "code",
   "execution_count": 12,
   "metadata": {
    "collapsed": false
   },
   "outputs": [],
   "source": [
    "tindex2 = '20130305 05'"
   ]
  },
  {
   "cell_type": "code",
   "execution_count": 13,
   "metadata": {
    "collapsed": false
   },
   "outputs": [],
   "source": [
    "%matplotlib qt\n",
    "rcParams['axes.formatter.useoffset'] = False\n",
    "mpl.style.use('bmh')"
   ]
  },
  {
   "cell_type": "code",
   "execution_count": 14,
   "metadata": {
    "collapsed": false
   },
   "outputs": [],
   "source": [
    "det = 'b3_11'\n",
    "t1 = '20130305 02'\n",
    "t2 = '20130305 04'\n",
    "t11 = '20130305 03'\n",
    "t22 = '20130305 05'"
   ]
  },
  {
   "cell_type": "code",
   "execution_count": 15,
   "metadata": {
    "collapsed": false
   },
   "outputs": [],
   "source": [
    "temps_spline = rdr1.Tb[det][t1:t2].resample('1s').plot(secondary_y=True)\n",
    "temps_linear = rdr1_lin.Tb[det][t1:t2].resample('1s').plot(secondary_y=True)"
   ]
  },
  {
   "cell_type": "code",
   "execution_count": 33,
   "metadata": {
    "collapsed": false
   },
   "outputs": [],
   "source": [
    "root = '/Users/maye/Dropbox/DDocuments/DIVINER/Team_Meeting_Eastcoast/'"
   ]
  },
  {
   "cell_type": "code",
   "execution_count": 50,
   "metadata": {
    "collapsed": false
   },
   "outputs": [
    {
     "name": "stdout",
     "output_type": "stream",
     "text": [
      "Populating the interactive namespace from numpy and matplotlib\n"
     ]
    },
    {
     "name": "stderr",
     "output_type": "stream",
     "text": [
      "WARNING: pylab import has clobbered these variables: ['axes', 'ylabel', 'det']\n",
      "`%matplotlib` prevents importing * from pylab and numpy\n"
     ]
    }
   ],
   "source": [
    "%pylab qt"
   ]
  },
  {
   "cell_type": "code",
   "execution_count": 55,
   "metadata": {
    "collapsed": false
   },
   "outputs": [],
   "source": [
    "fig=figure(figsize=(16,12))\n",
    "# offsets\n",
    "det = 'b1_11'\n",
    "rdr1.offsets[det][t1:t2].plot(style='*',color='green',ms=13)\n",
    "rdr2.offsets[det][t11:t22].plot(style='*',color='green', ms=13)\n",
    "#interpolated offsets\n",
    "rdr1.offsets_interp[det][t1:t2].plot(style='--', color='blue')\n",
    "rdr2.offsets_interp[det][t11:t22].plot(style='--',color='red')\n",
    "# linear case\n",
    "rdr1_lin.offsets_interp[det][t1:t2].plot(color='black',linewidth=1.5)\n",
    "title(\"Offsets, different interpolations\")\n",
    "ylabel('Counts')\n",
    "savefig(root+'cube_spline_smooth_continuation.png',dpi=100)\n"
   ]
  },
  {
   "cell_type": "code",
   "execution_count": 56,
   "metadata": {
    "collapsed": false
   },
   "outputs": [
    {
     "data": {
      "text/plain": [
       "<matplotlib.text.Text at 0x11d9f6b50>"
      ]
     },
     "execution_count": 56,
     "metadata": {},
     "output_type": "execute_result"
    }
   ],
   "source": [
    "# temperatures\n",
    "rdr1.Tb.resample('10s')[det][t1:t2].plot(\n",
    "                                         alpha=0.5,label='cubic spline',\n",
    "                                         legend=True)\n",
    "rdr1_lin.Tb[det][t1:t2].resample('10s').plot(\n",
    "                                             alpha=0.5, label='linear',\n",
    "                                             legend=True)\n",
    "ylabel('$T_b$ [K]')\n",
    "title(\"Example impact of finer interpolation\")"
   ]
  },
  {
   "cell_type": "code",
   "execution_count": 17,
   "metadata": {
    "collapsed": false
   },
   "outputs": [
    {
     "ename": "NameError",
     "evalue": "name 'rads' is not defined",
     "output_type": "error",
     "traceback": [
      "\u001b[0;31m---------------------------------------------------------------------------\u001b[0m\n\u001b[0;31mNameError\u001b[0m                                 Traceback (most recent call last)",
      "\u001b[0;32m<ipython-input-17-94933f5d74f5>\u001b[0m in \u001b[0;36m<module>\u001b[0;34m()\u001b[0m\n\u001b[1;32m      1\u001b[0m \u001b[0mdet\u001b[0m \u001b[0;34m=\u001b[0m \u001b[0;34m'b3_11'\u001b[0m\u001b[0;34m\u001b[0m\u001b[0m\n\u001b[1;32m      2\u001b[0m \u001b[0mfig\u001b[0m\u001b[0;34m,\u001b[0m \u001b[0maxes\u001b[0m \u001b[0;34m=\u001b[0m \u001b[0mplt\u001b[0m\u001b[0;34m.\u001b[0m\u001b[0msubplots\u001b[0m\u001b[0;34m(\u001b[0m\u001b[0mnrows\u001b[0m\u001b[0;34m=\u001b[0m\u001b[0;36m3\u001b[0m\u001b[0;34m)\u001b[0m\u001b[0;34m\u001b[0m\u001b[0m\n\u001b[0;32m----> 3\u001b[0;31m \u001b[0;32mfor\u001b[0m \u001b[0mrad\u001b[0m\u001b[0;34m,\u001b[0m \u001b[0mtb\u001b[0m\u001b[0;34m,\u001b[0m \u001b[0mcount\u001b[0m \u001b[0;32min\u001b[0m \u001b[0mzip\u001b[0m\u001b[0;34m(\u001b[0m\u001b[0mrads\u001b[0m\u001b[0;34m,\u001b[0m \u001b[0mtbs\u001b[0m\u001b[0;34m,\u001b[0m \u001b[0mcounts\u001b[0m\u001b[0;34m)\u001b[0m\u001b[0;34m:\u001b[0m\u001b[0;34m\u001b[0m\u001b[0m\n\u001b[0m\u001b[1;32m      4\u001b[0m     \u001b[0mrad\u001b[0m\u001b[0;34m[\u001b[0m\u001b[0mdet\u001b[0m\u001b[0;34m]\u001b[0m\u001b[0;34m.\u001b[0m\u001b[0mplot\u001b[0m\u001b[0;34m(\u001b[0m\u001b[0max\u001b[0m\u001b[0;34m=\u001b[0m\u001b[0maxes\u001b[0m\u001b[0;34m[\u001b[0m\u001b[0;36m0\u001b[0m\u001b[0;34m]\u001b[0m\u001b[0;34m)\u001b[0m\u001b[0;34m\u001b[0m\u001b[0m\n\u001b[1;32m      5\u001b[0m     \u001b[0mtb\u001b[0m\u001b[0;34m[\u001b[0m\u001b[0mdet\u001b[0m\u001b[0;34m]\u001b[0m\u001b[0;34m.\u001b[0m\u001b[0mplot\u001b[0m\u001b[0;34m(\u001b[0m\u001b[0max\u001b[0m\u001b[0;34m=\u001b[0m\u001b[0maxes\u001b[0m\u001b[0;34m[\u001b[0m\u001b[0;36m1\u001b[0m\u001b[0;34m]\u001b[0m\u001b[0;34m)\u001b[0m\u001b[0;34m\u001b[0m\u001b[0m\n",
      "\u001b[0;31mNameError\u001b[0m: name 'rads' is not defined"
     ]
    }
   ],
   "source": [
    "det = 'b3_11'\n",
    "fig, axes = plt.subplots(nrows=3)\n",
    "for rad, tb, count in zip(rads, tbs, counts):\n",
    "    rad[det].plot(ax=axes[0])\n",
    "    tb[det].plot(ax=axes[1])\n",
    "    count[det].plot(ax=axes[2])"
   ]
  },
  {
   "cell_type": "code",
   "execution_count": null,
   "metadata": {
    "collapsed": false
   },
   "outputs": [],
   "source": [
    "print 'tb, linear', tbs[0].iloc[-1][det]/tbs[1].iloc[0][det]\n",
    "print 'tb, spline', tbs[2].iloc[-1][det]/tbs[3].iloc[0][det]\n",
    "print 'rad, linear', rads[0].iloc[-1][det]/rads[1].iloc[0][det]\n",
    "print 'rad, spline', rads[2].iloc[-1][det]/rads[3].iloc[0][det]\n",
    "print 'counts', counts[0].iloc[-1][det]/float(counts[1].iloc[0][det])"
   ]
  },
  {
   "cell_type": "code",
   "execution_count": null,
   "metadata": {
    "collapsed": false
   },
   "outputs": [],
   "source": [
    "counts[0].iloc[-1][det], counts[1].iloc[0][det]"
   ]
  },
  {
   "cell_type": "code",
   "execution_count": null,
   "metadata": {
    "collapsed": false
   },
   "outputs": [],
   "source": [
    "print tbs[0].index[-1]\n",
    "print tbs[1].index[0]"
   ]
  },
  {
   "cell_type": "code",
   "execution_count": null,
   "metadata": {
    "collapsed": false
   },
   "outputs": [],
   "source": [
    "rdrs[1].df.index[0]"
   ]
  },
  {
   "cell_type": "code",
   "execution_count": null,
   "metadata": {
    "collapsed": false
   },
   "outputs": [],
   "source": [
    "data = rdrs[0].tb[fu.tstr_to_tindex(tstr1)][det]"
   ]
  },
  {
   "cell_type": "code",
   "execution_count": null,
   "metadata": {
    "collapsed": false
   },
   "outputs": [],
   "source": [
    "median = pd.rolling_median(data, 16, center=True)"
   ]
  },
  {
   "cell_type": "code",
   "execution_count": null,
   "metadata": {
    "collapsed": false
   },
   "outputs": [],
   "source": [
    "plt.style.use('bmh')"
   ]
  },
  {
   "cell_type": "code",
   "execution_count": null,
   "metadata": {
    "collapsed": false
   },
   "outputs": [],
   "source": [
    "data.plot()\n",
    "median.plot()"
   ]
  },
  {
   "cell_type": "code",
   "execution_count": null,
   "metadata": {
    "collapsed": false
   },
   "outputs": [],
   "source": [
    "for rdr in rdrs:\n",
    "    print rdr.tb[fu.tstr_to_tindex][det].max()"
   ]
  },
  {
   "cell_type": "code",
   "execution_count": null,
   "metadata": {
    "collapsed": false
   },
   "outputs": [],
   "source": []
  }
 ],
 "metadata": {
  "kernelspec": {
   "display_name": "Python 3",
   "language": "python",
   "name": "python3"
  },
  "language_info": {
   "codemirror_mode": {
    "name": "ipython",
    "version": 3
   },
   "file_extension": ".py",
   "mimetype": "text/x-python",
   "name": "python",
   "nbconvert_exporter": "python",
   "pygments_lexer": "ipython3",
   "version": "3.7.1"
  }
 },
 "nbformat": 4,
 "nbformat_minor": 2
}
