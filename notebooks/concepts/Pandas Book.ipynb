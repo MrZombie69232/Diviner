{
 "metadata": {
  "name": "Pandas Book",
  "signature": "sha256:245565a75e6c56ab71a93e5bc641e42fdc39185aa679a94cbfda49d78f286bd5"
 },
 "nbformat": 3,
 "nbformat_minor": 0,
 "worksheets": [
  {
   "cells": [
    {
     "cell_type": "code",
     "collapsed": false,
     "input": [
      "import pandas as pd\n",
      "path = \"/Users/maye/data/pandas/usagov_bitly_data2012-03-16-1331923249.txt\""
     ],
     "language": "python",
     "metadata": {},
     "outputs": [],
     "prompt_number": 1
    },
    {
     "cell_type": "code",
     "collapsed": false,
     "input": [
      "import json"
     ],
     "language": "python",
     "metadata": {},
     "outputs": [],
     "prompt_number": 2
    },
    {
     "cell_type": "code",
     "collapsed": false,
     "input": [
      "records = [json.loads(line) for line in open(path)]"
     ],
     "language": "python",
     "metadata": {},
     "outputs": [],
     "prompt_number": 3
    },
    {
     "cell_type": "code",
     "collapsed": false,
     "input": [
      "records[0]['tz']"
     ],
     "language": "python",
     "metadata": {},
     "outputs": [
      {
       "output_type": "pyout",
       "prompt_number": 4,
       "text": [
        "u'America/New_York'"
       ]
      }
     ],
     "prompt_number": 4
    },
    {
     "cell_type": "code",
     "collapsed": false,
     "input": [
      "from pandas import DataFrame, Series"
     ],
     "language": "python",
     "metadata": {},
     "outputs": [],
     "prompt_number": 5
    },
    {
     "cell_type": "code",
     "collapsed": false,
     "input": [
      "frame = DataFrame(records)"
     ],
     "language": "python",
     "metadata": {},
     "outputs": [],
     "prompt_number": 6
    },
    {
     "cell_type": "code",
     "collapsed": false,
     "input": [
      "frame"
     ],
     "language": "python",
     "metadata": {},
     "outputs": [
      {
       "output_type": "pyout",
       "prompt_number": 7,
       "text": [
        "<class 'pandas.core.frame.DataFrame'>\n",
        "Int64Index: 3560 entries, 0 to 3559\n",
        "Data columns:\n",
        "_heartbeat_    120  non-null values\n",
        "a              3440  non-null values\n",
        "al             3094  non-null values\n",
        "c              2919  non-null values\n",
        "cy             2919  non-null values\n",
        "g              3440  non-null values\n",
        "gr             2919  non-null values\n",
        "h              3440  non-null values\n",
        "hc             3440  non-null values\n",
        "hh             3440  non-null values\n",
        "kw             93  non-null values\n",
        "l              3440  non-null values\n",
        "ll             2919  non-null values\n",
        "nk             3440  non-null values\n",
        "r              3440  non-null values\n",
        "t              3440  non-null values\n",
        "tz             3440  non-null values\n",
        "u              3440  non-null values\n",
        "dtypes: float64(4), object(14)"
       ]
      }
     ],
     "prompt_number": 7
    },
    {
     "cell_type": "code",
     "collapsed": false,
     "input": [
      "frame['tz'][:10]"
     ],
     "language": "python",
     "metadata": {},
     "outputs": [
      {
       "output_type": "pyout",
       "prompt_number": 8,
       "text": [
        "0     America/New_York\n",
        "1       America/Denver\n",
        "2     America/New_York\n",
        "3    America/Sao_Paulo\n",
        "4     America/New_York\n",
        "5     America/New_York\n",
        "6        Europe/Warsaw\n",
        "7                     \n",
        "8                     \n",
        "9                     \n",
        "Name: tz"
       ]
      }
     ],
     "prompt_number": 8
    },
    {
     "cell_type": "code",
     "collapsed": false,
     "input": [
      "tz_counts = frame['tz'].value_counts()"
     ],
     "language": "python",
     "metadata": {},
     "outputs": [],
     "prompt_number": 9
    },
    {
     "cell_type": "code",
     "collapsed": false,
     "input": [
      "tz_counts[:10]"
     ],
     "language": "python",
     "metadata": {},
     "outputs": [
      {
       "output_type": "pyout",
       "prompt_number": 10,
       "text": [
        "America/New_York       1251\n",
        "                        521\n",
        "America/Chicago         400\n",
        "America/Los_Angeles     382\n",
        "America/Denver          191\n",
        "Europe/London            74\n",
        "Asia/Tokyo               37\n",
        "Pacific/Honolulu         36\n",
        "Europe/Madrid            35\n",
        "America/Sao_Paulo        33"
       ]
      }
     ],
     "prompt_number": 10
    },
    {
     "cell_type": "code",
     "collapsed": false,
     "input": [
      "clean_tz = frame['tz'].fillna('Missing')"
     ],
     "language": "python",
     "metadata": {},
     "outputs": [],
     "prompt_number": 11
    },
    {
     "cell_type": "code",
     "collapsed": false,
     "input": [
      "clean_tz[clean_tz == ''] = 'Unknown'"
     ],
     "language": "python",
     "metadata": {},
     "outputs": [],
     "prompt_number": 12
    },
    {
     "cell_type": "code",
     "collapsed": false,
     "input": [
      "tz_counts = clean_tz.value_counts()"
     ],
     "language": "python",
     "metadata": {},
     "outputs": [],
     "prompt_number": 13
    },
    {
     "cell_type": "code",
     "collapsed": false,
     "input": [
      "tz_counts[:3]"
     ],
     "language": "python",
     "metadata": {},
     "outputs": [
      {
       "output_type": "pyout",
       "prompt_number": 14,
       "text": [
        "America/New_York    1251\n",
        "Unknown              521\n",
        "America/Chicago      400"
       ]
      }
     ],
     "prompt_number": 14
    },
    {
     "cell_type": "code",
     "collapsed": false,
     "input": [
      "tz_counts[:10].plot(kind='barh',rot=0)"
     ],
     "language": "python",
     "metadata": {},
     "outputs": [
      {
       "output_type": "pyout",
       "prompt_number": 15,
       "text": [
        "<matplotlib.axes.AxesSubplot at 0x10e20ec90>"
       ]
      }
     ],
     "prompt_number": 15
    },
    {
     "cell_type": "code",
     "collapsed": false,
     "input": [
      "results = Series([x.split()[0] for x in frame.a.dropna()])"
     ],
     "language": "python",
     "metadata": {},
     "outputs": [],
     "prompt_number": 16
    },
    {
     "cell_type": "code",
     "collapsed": false,
     "input": [
      "results[:]"
     ],
     "language": "python",
     "metadata": {},
     "outputs": [
      {
       "output_type": "pyout",
       "prompt_number": 17,
       "text": [
        "0                Mozilla/5.0\n",
        "1     GoogleMaps/RochesterNY\n",
        "2                Mozilla/4.0\n",
        "3                Mozilla/5.0\n",
        "4                Mozilla/5.0\n",
        "5                Mozilla/5.0\n",
        "6                Mozilla/5.0\n",
        "7                Mozilla/5.0\n",
        "8                 Opera/9.80\n",
        "9                Mozilla/5.0\n",
        "10               Mozilla/5.0\n",
        "11               Mozilla/5.0\n",
        "12               Mozilla/5.0\n",
        "13               Mozilla/5.0\n",
        "14               Mozilla/5.0\n",
        "...\n",
        "3425               Mozilla/5.0\n",
        "3426               Mozilla/5.0\n",
        "3427               Mozilla/5.0\n",
        "3428               Mozilla/5.0\n",
        "3429               Mozilla/5.0\n",
        "3430               Mozilla/4.0\n",
        "3431               Mozilla/5.0\n",
        "3432               Mozilla/5.0\n",
        "3433               Mozilla/4.0\n",
        "3434               Mozilla/4.0\n",
        "3435               Mozilla/4.0\n",
        "3436               Mozilla/5.0\n",
        "3437    GoogleMaps/RochesterNY\n",
        "3438            GoogleProducer\n",
        "3439               Mozilla/4.0\n",
        "Length: 3440"
       ]
      }
     ],
     "prompt_number": 17
    },
    {
     "cell_type": "code",
     "collapsed": false,
     "input": [
      "results.value_counts()[:8]"
     ],
     "language": "python",
     "metadata": {},
     "outputs": [
      {
       "output_type": "pyout",
       "prompt_number": 18,
       "text": [
        "Mozilla/5.0                 2594\n",
        "Mozilla/4.0                  601\n",
        "GoogleMaps/RochesterNY       121\n",
        "Opera/9.80                    34\n",
        "TEST_INTERNET_AGENT           24\n",
        "GoogleProducer                21\n",
        "Mozilla/6.0                    5\n",
        "BlackBerry8520/5.0.0.681       4"
       ]
      }
     ],
     "prompt_number": 18
    },
    {
     "cell_type": "code",
     "collapsed": false,
     "input": [
      "cframe = frame[frame.a.notnull()]"
     ],
     "language": "python",
     "metadata": {},
     "outputs": [],
     "prompt_number": 19
    },
    {
     "cell_type": "code",
     "collapsed": false,
     "input": [
      "os = np.where(cframe['a'].str.contains('Windows'),'Windows','Not Windows')"
     ],
     "language": "python",
     "metadata": {},
     "outputs": [],
     "prompt_number": 20
    },
    {
     "cell_type": "code",
     "collapsed": false,
     "input": [
      "os[:5]"
     ],
     "language": "python",
     "metadata": {},
     "outputs": [
      {
       "output_type": "pyout",
       "prompt_number": 21,
       "text": [
        "0        Windows\n",
        "1    Not Windows\n",
        "2        Windows\n",
        "3    Not Windows\n",
        "4        Windows\n",
        "Name: a"
       ]
      }
     ],
     "prompt_number": 21
    },
    {
     "cell_type": "code",
     "collapsed": false,
     "input": [
      "by_tz_os = cframe.groupby(['tz',os])"
     ],
     "language": "python",
     "metadata": {},
     "outputs": [],
     "prompt_number": 22
    },
    {
     "cell_type": "code",
     "collapsed": false,
     "input": [
      "agg_counts = by_tz_os.size().unstack().fillna(0)"
     ],
     "language": "python",
     "metadata": {},
     "outputs": [],
     "prompt_number": 23
    },
    {
     "cell_type": "code",
     "collapsed": false,
     "input": [
      "agg_counts[:10]"
     ],
     "language": "python",
     "metadata": {},
     "outputs": [
      {
       "html": [
        "<div style=\"max-height:1000px;max-width:1500px;overflow:auto;\">\n",
        "<table border=\"1\" class=\"dataframe\">\n",
        "  <thead>\n",
        "    <tr style=\"text-align: right;\">\n",
        "      <th>a</th>\n",
        "      <th>Not Windows</th>\n",
        "      <th>Windows</th>\n",
        "    </tr>\n",
        "    <tr>\n",
        "      <th>tz</th>\n",
        "      <th></th>\n",
        "      <th></th>\n",
        "    </tr>\n",
        "  </thead>\n",
        "  <tbody>\n",
        "    <tr>\n",
        "      <td><strong></strong></td>\n",
        "      <td> 245</td>\n",
        "      <td> 276</td>\n",
        "    </tr>\n",
        "    <tr>\n",
        "      <td><strong>Africa/Cairo</strong></td>\n",
        "      <td>   0</td>\n",
        "      <td>   3</td>\n",
        "    </tr>\n",
        "    <tr>\n",
        "      <td><strong>Africa/Casablanca</strong></td>\n",
        "      <td>   0</td>\n",
        "      <td>   1</td>\n",
        "    </tr>\n",
        "    <tr>\n",
        "      <td><strong>Africa/Ceuta</strong></td>\n",
        "      <td>   0</td>\n",
        "      <td>   2</td>\n",
        "    </tr>\n",
        "    <tr>\n",
        "      <td><strong>Africa/Johannesburg</strong></td>\n",
        "      <td>   0</td>\n",
        "      <td>   1</td>\n",
        "    </tr>\n",
        "    <tr>\n",
        "      <td><strong>Africa/Lusaka</strong></td>\n",
        "      <td>   0</td>\n",
        "      <td>   1</td>\n",
        "    </tr>\n",
        "    <tr>\n",
        "      <td><strong>America/Anchorage</strong></td>\n",
        "      <td>   4</td>\n",
        "      <td>   1</td>\n",
        "    </tr>\n",
        "    <tr>\n",
        "      <td><strong>America/Argentina/Buenos_Aires</strong></td>\n",
        "      <td>   1</td>\n",
        "      <td>   0</td>\n",
        "    </tr>\n",
        "    <tr>\n",
        "      <td><strong>America/Argentina/Cordoba</strong></td>\n",
        "      <td>   0</td>\n",
        "      <td>   1</td>\n",
        "    </tr>\n",
        "    <tr>\n",
        "      <td><strong>America/Argentina/Mendoza</strong></td>\n",
        "      <td>   0</td>\n",
        "      <td>   1</td>\n",
        "    </tr>\n",
        "  </tbody>\n",
        "</table>\n",
        "</div>"
       ],
       "output_type": "pyout",
       "prompt_number": 24,
       "text": [
        "a                               Not Windows  Windows\n",
        "tz                                                  \n",
        "                                        245      276\n",
        "Africa/Cairo                              0        3\n",
        "Africa/Casablanca                         0        1\n",
        "Africa/Ceuta                              0        2\n",
        "Africa/Johannesburg                       0        1\n",
        "Africa/Lusaka                             0        1\n",
        "America/Anchorage                         4        1\n",
        "America/Argentina/Buenos_Aires            1        0\n",
        "America/Argentina/Cordoba                 0        1\n",
        "America/Argentina/Mendoza                 0        1"
       ]
      }
     ],
     "prompt_number": 24
    },
    {
     "cell_type": "code",
     "collapsed": false,
     "input": [
      "indexer = agg_counts.sum(1).argsort()"
     ],
     "language": "python",
     "metadata": {},
     "outputs": [],
     "prompt_number": 25
    },
    {
     "cell_type": "code",
     "collapsed": false,
     "input": [
      "count_subset = agg_counts.take(indexer)[-10:]"
     ],
     "language": "python",
     "metadata": {},
     "outputs": [],
     "prompt_number": 26
    },
    {
     "cell_type": "code",
     "collapsed": false,
     "input": [
      "count_subset"
     ],
     "language": "python",
     "metadata": {},
     "outputs": [
      {
       "html": [
        "<div style=\"max-height:1000px;max-width:1500px;overflow:auto;\">\n",
        "<table border=\"1\" class=\"dataframe\">\n",
        "  <thead>\n",
        "    <tr style=\"text-align: right;\">\n",
        "      <th>a</th>\n",
        "      <th>Not Windows</th>\n",
        "      <th>Windows</th>\n",
        "    </tr>\n",
        "    <tr>\n",
        "      <th>tz</th>\n",
        "      <th></th>\n",
        "      <th></th>\n",
        "    </tr>\n",
        "  </thead>\n",
        "  <tbody>\n",
        "    <tr>\n",
        "      <td><strong>America/Sao_Paulo</strong></td>\n",
        "      <td>  13</td>\n",
        "      <td>  20</td>\n",
        "    </tr>\n",
        "    <tr>\n",
        "      <td><strong>Europe/Madrid</strong></td>\n",
        "      <td>  16</td>\n",
        "      <td>  19</td>\n",
        "    </tr>\n",
        "    <tr>\n",
        "      <td><strong>Pacific/Honolulu</strong></td>\n",
        "      <td>   0</td>\n",
        "      <td>  36</td>\n",
        "    </tr>\n",
        "    <tr>\n",
        "      <td><strong>Asia/Tokyo</strong></td>\n",
        "      <td>   2</td>\n",
        "      <td>  35</td>\n",
        "    </tr>\n",
        "    <tr>\n",
        "      <td><strong>Europe/London</strong></td>\n",
        "      <td>  43</td>\n",
        "      <td>  31</td>\n",
        "    </tr>\n",
        "    <tr>\n",
        "      <td><strong>America/Denver</strong></td>\n",
        "      <td> 132</td>\n",
        "      <td>  59</td>\n",
        "    </tr>\n",
        "    <tr>\n",
        "      <td><strong>America/Los_Angeles</strong></td>\n",
        "      <td> 130</td>\n",
        "      <td> 252</td>\n",
        "    </tr>\n",
        "    <tr>\n",
        "      <td><strong>America/Chicago</strong></td>\n",
        "      <td> 115</td>\n",
        "      <td> 285</td>\n",
        "    </tr>\n",
        "    <tr>\n",
        "      <td><strong></strong></td>\n",
        "      <td> 245</td>\n",
        "      <td> 276</td>\n",
        "    </tr>\n",
        "    <tr>\n",
        "      <td><strong>America/New_York</strong></td>\n",
        "      <td> 339</td>\n",
        "      <td> 912</td>\n",
        "    </tr>\n",
        "  </tbody>\n",
        "</table>\n",
        "</div>"
       ],
       "output_type": "pyout",
       "prompt_number": 27,
       "text": [
        "a                    Not Windows  Windows\n",
        "tz                                       \n",
        "America/Sao_Paulo             13       20\n",
        "Europe/Madrid                 16       19\n",
        "Pacific/Honolulu               0       36\n",
        "Asia/Tokyo                     2       35\n",
        "Europe/London                 43       31\n",
        "America/Denver               132       59\n",
        "America/Los_Angeles          130      252\n",
        "America/Chicago              115      285\n",
        "                             245      276\n",
        "America/New_York             339      912"
       ]
      }
     ],
     "prompt_number": 27
    },
    {
     "cell_type": "code",
     "collapsed": false,
     "input": [
      "count_subset.plot(kind='barh',stacked=True)"
     ],
     "language": "python",
     "metadata": {},
     "outputs": [
      {
       "output_type": "pyout",
       "prompt_number": 28,
       "text": [
        "<matplotlib.axes.AxesSubplot at 0x117aae110>"
       ]
      }
     ],
     "prompt_number": 28
    },
    {
     "cell_type": "code",
     "collapsed": false,
     "input": [
      "normed_subsest = count_subset.div(count_subset.sum(1), axis=0)"
     ],
     "language": "python",
     "metadata": {},
     "outputs": [],
     "prompt_number": 29
    },
    {
     "cell_type": "code",
     "collapsed": false,
     "input": [
      "normed_subsest.plot(kind='barh',stacked=True)"
     ],
     "language": "python",
     "metadata": {},
     "outputs": [
      {
       "output_type": "pyout",
       "prompt_number": 30,
       "text": [
        "<matplotlib.axes.AxesSubplot at 0x117af41d0>"
       ]
      }
     ],
     "prompt_number": 30
    },
    {
     "cell_type": "code",
     "collapsed": false,
     "input": [
      "cd /Users/maye/src/pydata-book/ch02/movielens"
     ],
     "language": "python",
     "metadata": {},
     "outputs": [
      {
       "output_type": "stream",
       "stream": "stdout",
       "text": [
        "/Users/maye/src/pydata-book/ch02/movielens\n"
       ]
      }
     ],
     "prompt_number": 31
    },
    {
     "cell_type": "code",
     "collapsed": false,
     "input": [
      "unames = ['user_id','gender','age','occupation','zip']\n",
      "users = pd.read_table('users.dat',sep='::',header=None,names=unames)"
     ],
     "language": "python",
     "metadata": {},
     "outputs": [],
     "prompt_number": 32
    },
    {
     "cell_type": "code",
     "collapsed": false,
     "input": [
      "rnames = ['user_id','movie_id','rating','timestamp']\n",
      "ratings = pd.read_table('ratings.dat',sep='::',header=None,names=rnames)"
     ],
     "language": "python",
     "metadata": {},
     "outputs": [],
     "prompt_number": 33
    },
    {
     "cell_type": "code",
     "collapsed": false,
     "input": [
      "mnames = ['movie_id','title','genres']"
     ],
     "language": "python",
     "metadata": {},
     "outputs": [],
     "prompt_number": 34
    },
    {
     "cell_type": "code",
     "collapsed": false,
     "input": [
      "movies = pd.read_table('movies.dat',sep='::',header=None,names=mnames)"
     ],
     "language": "python",
     "metadata": {},
     "outputs": [],
     "prompt_number": 35
    },
    {
     "cell_type": "code",
     "collapsed": false,
     "input": [
      "users[:5]"
     ],
     "language": "python",
     "metadata": {},
     "outputs": [
      {
       "html": [
        "<div style=\"max-height:1000px;max-width:1500px;overflow:auto;\">\n",
        "<table border=\"1\" class=\"dataframe\">\n",
        "  <thead>\n",
        "    <tr style=\"text-align: right;\">\n",
        "      <th></th>\n",
        "      <th>user_id</th>\n",
        "      <th>gender</th>\n",
        "      <th>age</th>\n",
        "      <th>occupation</th>\n",
        "      <th>zip</th>\n",
        "    </tr>\n",
        "  </thead>\n",
        "  <tbody>\n",
        "    <tr>\n",
        "      <td><strong>0</strong></td>\n",
        "      <td> 1</td>\n",
        "      <td> F</td>\n",
        "      <td>  1</td>\n",
        "      <td> 10</td>\n",
        "      <td> 48067</td>\n",
        "    </tr>\n",
        "    <tr>\n",
        "      <td><strong>1</strong></td>\n",
        "      <td> 2</td>\n",
        "      <td> M</td>\n",
        "      <td> 56</td>\n",
        "      <td> 16</td>\n",
        "      <td> 70072</td>\n",
        "    </tr>\n",
        "    <tr>\n",
        "      <td><strong>2</strong></td>\n",
        "      <td> 3</td>\n",
        "      <td> M</td>\n",
        "      <td> 25</td>\n",
        "      <td> 15</td>\n",
        "      <td> 55117</td>\n",
        "    </tr>\n",
        "    <tr>\n",
        "      <td><strong>3</strong></td>\n",
        "      <td> 4</td>\n",
        "      <td> M</td>\n",
        "      <td> 45</td>\n",
        "      <td>  7</td>\n",
        "      <td> 02460</td>\n",
        "    </tr>\n",
        "    <tr>\n",
        "      <td><strong>4</strong></td>\n",
        "      <td> 5</td>\n",
        "      <td> M</td>\n",
        "      <td> 25</td>\n",
        "      <td> 20</td>\n",
        "      <td> 55455</td>\n",
        "    </tr>\n",
        "  </tbody>\n",
        "</table>\n",
        "</div>"
       ],
       "output_type": "pyout",
       "prompt_number": 36,
       "text": [
        "   user_id gender  age  occupation    zip\n",
        "0        1      F    1          10  48067\n",
        "1        2      M   56          16  70072\n",
        "2        3      M   25          15  55117\n",
        "3        4      M   45           7  02460\n",
        "4        5      M   25          20  55455"
       ]
      }
     ],
     "prompt_number": 36
    },
    {
     "cell_type": "code",
     "collapsed": false,
     "input": [
      "ratings[:5]"
     ],
     "language": "python",
     "metadata": {},
     "outputs": [
      {
       "html": [
        "<div style=\"max-height:1000px;max-width:1500px;overflow:auto;\">\n",
        "<table border=\"1\" class=\"dataframe\">\n",
        "  <thead>\n",
        "    <tr style=\"text-align: right;\">\n",
        "      <th></th>\n",
        "      <th>user_id</th>\n",
        "      <th>movie_id</th>\n",
        "      <th>rating</th>\n",
        "      <th>timestamp</th>\n",
        "    </tr>\n",
        "  </thead>\n",
        "  <tbody>\n",
        "    <tr>\n",
        "      <td><strong>0</strong></td>\n",
        "      <td> 1</td>\n",
        "      <td> 1193</td>\n",
        "      <td> 5</td>\n",
        "      <td> 978300760</td>\n",
        "    </tr>\n",
        "    <tr>\n",
        "      <td><strong>1</strong></td>\n",
        "      <td> 1</td>\n",
        "      <td>  661</td>\n",
        "      <td> 3</td>\n",
        "      <td> 978302109</td>\n",
        "    </tr>\n",
        "    <tr>\n",
        "      <td><strong>2</strong></td>\n",
        "      <td> 1</td>\n",
        "      <td>  914</td>\n",
        "      <td> 3</td>\n",
        "      <td> 978301968</td>\n",
        "    </tr>\n",
        "    <tr>\n",
        "      <td><strong>3</strong></td>\n",
        "      <td> 1</td>\n",
        "      <td> 3408</td>\n",
        "      <td> 4</td>\n",
        "      <td> 978300275</td>\n",
        "    </tr>\n",
        "    <tr>\n",
        "      <td><strong>4</strong></td>\n",
        "      <td> 1</td>\n",
        "      <td> 2355</td>\n",
        "      <td> 5</td>\n",
        "      <td> 978824291</td>\n",
        "    </tr>\n",
        "  </tbody>\n",
        "</table>\n",
        "</div>"
       ],
       "output_type": "pyout",
       "prompt_number": 37,
       "text": [
        "   user_id  movie_id  rating  timestamp\n",
        "0        1      1193       5  978300760\n",
        "1        1       661       3  978302109\n",
        "2        1       914       3  978301968\n",
        "3        1      3408       4  978300275\n",
        "4        1      2355       5  978824291"
       ]
      }
     ],
     "prompt_number": 37
    },
    {
     "cell_type": "code",
     "collapsed": false,
     "input": [
      "movies[:5]"
     ],
     "language": "python",
     "metadata": {},
     "outputs": [
      {
       "html": [
        "<div style=\"max-height:1000px;max-width:1500px;overflow:auto;\">\n",
        "<table border=\"1\" class=\"dataframe\">\n",
        "  <thead>\n",
        "    <tr style=\"text-align: right;\">\n",
        "      <th></th>\n",
        "      <th>movie_id</th>\n",
        "      <th>title</th>\n",
        "      <th>genres</th>\n",
        "    </tr>\n",
        "  </thead>\n",
        "  <tbody>\n",
        "    <tr>\n",
        "      <td><strong>0</strong></td>\n",
        "      <td> 1</td>\n",
        "      <td>                   Toy Story (1995)</td>\n",
        "      <td>  Animation|Children's|Comedy</td>\n",
        "    </tr>\n",
        "    <tr>\n",
        "      <td><strong>1</strong></td>\n",
        "      <td> 2</td>\n",
        "      <td>                     Jumanji (1995)</td>\n",
        "      <td> Adventure|Children's|Fantasy</td>\n",
        "    </tr>\n",
        "    <tr>\n",
        "      <td><strong>2</strong></td>\n",
        "      <td> 3</td>\n",
        "      <td>            Grumpier Old Men (1995)</td>\n",
        "      <td>               Comedy|Romance</td>\n",
        "    </tr>\n",
        "    <tr>\n",
        "      <td><strong>3</strong></td>\n",
        "      <td> 4</td>\n",
        "      <td>           Waiting to Exhale (1995)</td>\n",
        "      <td>                 Comedy|Drama</td>\n",
        "    </tr>\n",
        "    <tr>\n",
        "      <td><strong>4</strong></td>\n",
        "      <td> 5</td>\n",
        "      <td> Father of the Bride Part II (1995)</td>\n",
        "      <td>                       Comedy</td>\n",
        "    </tr>\n",
        "  </tbody>\n",
        "</table>\n",
        "</div>"
       ],
       "output_type": "pyout",
       "prompt_number": 38,
       "text": [
        "   movie_id                               title                        genres\n",
        "0         1                    Toy Story (1995)   Animation|Children's|Comedy\n",
        "1         2                      Jumanji (1995)  Adventure|Children's|Fantasy\n",
        "2         3             Grumpier Old Men (1995)                Comedy|Romance\n",
        "3         4            Waiting to Exhale (1995)                  Comedy|Drama\n",
        "4         5  Father of the Bride Part II (1995)                        Comedy"
       ]
      }
     ],
     "prompt_number": 38
    },
    {
     "cell_type": "code",
     "collapsed": false,
     "input": [
      "data = pd.merge(pd.merge(ratings,users),movies)"
     ],
     "language": "python",
     "metadata": {},
     "outputs": [],
     "prompt_number": 39
    },
    {
     "cell_type": "code",
     "collapsed": false,
     "input": [
      "data"
     ],
     "language": "python",
     "metadata": {},
     "outputs": [
      {
       "output_type": "pyout",
       "prompt_number": 40,
       "text": [
        "<class 'pandas.core.frame.DataFrame'>\n",
        "Int64Index: 1000209 entries, 0 to 1000208\n",
        "Data columns:\n",
        "user_id       1000209  non-null values\n",
        "movie_id      1000209  non-null values\n",
        "rating        1000209  non-null values\n",
        "timestamp     1000209  non-null values\n",
        "gender        1000209  non-null values\n",
        "age           1000209  non-null values\n",
        "occupation    1000209  non-null values\n",
        "zip           1000209  non-null values\n",
        "title         1000209  non-null values\n",
        "genres        1000209  non-null values\n",
        "dtypes: int64(6), object(4)"
       ]
      }
     ],
     "prompt_number": 40
    },
    {
     "cell_type": "code",
     "collapsed": false,
     "input": [
      "data.ix[0]"
     ],
     "language": "python",
     "metadata": {},
     "outputs": [
      {
       "output_type": "pyout",
       "prompt_number": 41,
       "text": [
        "user_id                                            1\n",
        "movie_id                                        1193\n",
        "rating                                             5\n",
        "timestamp                                  978300760\n",
        "gender                                             F\n",
        "age                                                1\n",
        "occupation                                        10\n",
        "zip                                            48067\n",
        "title         One Flew Over the Cuckoo's Nest (1975)\n",
        "genres                                         Drama\n",
        "Name: 0"
       ]
      }
     ],
     "prompt_number": 41
    },
    {
     "cell_type": "code",
     "collapsed": false,
     "input": [
      "mean_ratings = data.pivot_table('rating',rows='title',cols='gender',aggfunc='mean')"
     ],
     "language": "python",
     "metadata": {},
     "outputs": [],
     "prompt_number": 42
    },
    {
     "cell_type": "code",
     "collapsed": false,
     "input": [
      "mean_ratings[:5]"
     ],
     "language": "python",
     "metadata": {},
     "outputs": [
      {
       "html": [
        "<div style=\"max-height:1000px;max-width:1500px;overflow:auto;\">\n",
        "<table border=\"1\" class=\"dataframe\">\n",
        "  <thead>\n",
        "    <tr style=\"text-align: right;\">\n",
        "      <th>gender</th>\n",
        "      <th>F</th>\n",
        "      <th>M</th>\n",
        "    </tr>\n",
        "    <tr>\n",
        "      <th>title</th>\n",
        "      <th></th>\n",
        "      <th></th>\n",
        "    </tr>\n",
        "  </thead>\n",
        "  <tbody>\n",
        "    <tr>\n",
        "      <td><strong>$1,000,000 Duck (1971)</strong></td>\n",
        "      <td> 3.375000</td>\n",
        "      <td> 2.761905</td>\n",
        "    </tr>\n",
        "    <tr>\n",
        "      <td><strong>'Night Mother (1986)</strong></td>\n",
        "      <td> 3.388889</td>\n",
        "      <td> 3.352941</td>\n",
        "    </tr>\n",
        "    <tr>\n",
        "      <td><strong>'Til There Was You (1997)</strong></td>\n",
        "      <td> 2.675676</td>\n",
        "      <td> 2.733333</td>\n",
        "    </tr>\n",
        "    <tr>\n",
        "      <td><strong>'burbs, The (1989)</strong></td>\n",
        "      <td> 2.793478</td>\n",
        "      <td> 2.962085</td>\n",
        "    </tr>\n",
        "    <tr>\n",
        "      <td><strong>...And Justice for All (1979)</strong></td>\n",
        "      <td> 3.828571</td>\n",
        "      <td> 3.689024</td>\n",
        "    </tr>\n",
        "  </tbody>\n",
        "</table>\n",
        "</div>"
       ],
       "output_type": "pyout",
       "prompt_number": 43,
       "text": [
        "gender                                F         M\n",
        "title                                            \n",
        "$1,000,000 Duck (1971)         3.375000  2.761905\n",
        "'Night Mother (1986)           3.388889  3.352941\n",
        "'Til There Was You (1997)      2.675676  2.733333\n",
        "'burbs, The (1989)             2.793478  2.962085\n",
        "...And Justice for All (1979)  3.828571  3.689024"
       ]
      }
     ],
     "prompt_number": 43
    },
    {
     "cell_type": "code",
     "collapsed": false,
     "input": [
      "ratings_by_title = data.groupby('title').size()"
     ],
     "language": "python",
     "metadata": {},
     "outputs": [],
     "prompt_number": 44
    },
    {
     "cell_type": "code",
     "collapsed": false,
     "input": [
      "ratings_by_title[:10]"
     ],
     "language": "python",
     "metadata": {},
     "outputs": [
      {
       "output_type": "pyout",
       "prompt_number": 45,
       "text": [
        "title\n",
        "$1,000,000 Duck (1971)                37\n",
        "'Night Mother (1986)                  70\n",
        "'Til There Was You (1997)             52\n",
        "'burbs, The (1989)                   303\n",
        "...And Justice for All (1979)        199\n",
        "1-900 (1994)                           2\n",
        "10 Things I Hate About You (1999)    700\n",
        "101 Dalmatians (1961)                565\n",
        "101 Dalmatians (1996)                364\n",
        "12 Angry Men (1957)                  616"
       ]
      }
     ],
     "prompt_number": 45
    },
    {
     "cell_type": "code",
     "collapsed": false,
     "input": [
      "active_titles = ratings_by_title.index[ratings_by_title>=250]"
     ],
     "language": "python",
     "metadata": {},
     "outputs": [],
     "prompt_number": 46
    },
    {
     "cell_type": "code",
     "collapsed": false,
     "input": [
      "active_titles"
     ],
     "language": "python",
     "metadata": {},
     "outputs": [
      {
       "output_type": "pyout",
       "prompt_number": 47,
       "text": [
        "Index(['burbs, The (1989), 10 Things I Hate About You (1999), 101 Dalmatians (1961), ..., Young Sherlock Holmes (1985), Zero Effect (1998), eXistenZ (1999)], dtype=object)"
       ]
      }
     ],
     "prompt_number": 47
    },
    {
     "cell_type": "code",
     "collapsed": false,
     "input": [
      "mean_ratings = mean_ratings.ix[active_titles]"
     ],
     "language": "python",
     "metadata": {},
     "outputs": [],
     "prompt_number": 48
    },
    {
     "cell_type": "code",
     "collapsed": false,
     "input": [
      "mean_ratings"
     ],
     "language": "python",
     "metadata": {},
     "outputs": [
      {
       "output_type": "pyout",
       "prompt_number": 49,
       "text": [
        "<class 'pandas.core.frame.DataFrame'>\n",
        "Index: 1216 entries, 'burbs, The (1989) to eXistenZ (1999)\n",
        "Data columns:\n",
        "F    1216  non-null values\n",
        "M    1216  non-null values\n",
        "dtypes: float64(2)"
       ]
      }
     ],
     "prompt_number": 49
    },
    {
     "cell_type": "code",
     "collapsed": false,
     "input": [
      "top_female_ratings = mean_ratings.sort_index(by='F', ascending=False)\n",
      "top_female_ratings[:10]"
     ],
     "language": "python",
     "metadata": {},
     "outputs": [
      {
       "html": [
        "<div style=\"max-height:1000px;max-width:1500px;overflow:auto;\">\n",
        "<table border=\"1\" class=\"dataframe\">\n",
        "  <thead>\n",
        "    <tr style=\"text-align: right;\">\n",
        "      <th>gender</th>\n",
        "      <th>F</th>\n",
        "      <th>M</th>\n",
        "    </tr>\n",
        "    <tr>\n",
        "      <th>title</th>\n",
        "      <th></th>\n",
        "      <th></th>\n",
        "    </tr>\n",
        "  </thead>\n",
        "  <tbody>\n",
        "    <tr>\n",
        "      <td><strong>Close Shave, A (1995)</strong></td>\n",
        "      <td> 4.644444</td>\n",
        "      <td> 4.473795</td>\n",
        "    </tr>\n",
        "    <tr>\n",
        "      <td><strong>Wrong Trousers, The (1993)</strong></td>\n",
        "      <td> 4.588235</td>\n",
        "      <td> 4.478261</td>\n",
        "    </tr>\n",
        "    <tr>\n",
        "      <td><strong>Sunset Blvd. (a.k.a. Sunset Boulevard) (1950)</strong></td>\n",
        "      <td> 4.572650</td>\n",
        "      <td> 4.464589</td>\n",
        "    </tr>\n",
        "    <tr>\n",
        "      <td><strong>Wallace & Gromit: The Best of Aardman Animation (1996)</strong></td>\n",
        "      <td> 4.563107</td>\n",
        "      <td> 4.385075</td>\n",
        "    </tr>\n",
        "    <tr>\n",
        "      <td><strong>Schindler's List (1993)</strong></td>\n",
        "      <td> 4.562602</td>\n",
        "      <td> 4.491415</td>\n",
        "    </tr>\n",
        "    <tr>\n",
        "      <td><strong>Shawshank Redemption, The (1994)</strong></td>\n",
        "      <td> 4.539075</td>\n",
        "      <td> 4.560625</td>\n",
        "    </tr>\n",
        "    <tr>\n",
        "      <td><strong>Grand Day Out, A (1992)</strong></td>\n",
        "      <td> 4.537879</td>\n",
        "      <td> 4.293255</td>\n",
        "    </tr>\n",
        "    <tr>\n",
        "      <td><strong>To Kill a Mockingbird (1962)</strong></td>\n",
        "      <td> 4.536667</td>\n",
        "      <td> 4.372611</td>\n",
        "    </tr>\n",
        "    <tr>\n",
        "      <td><strong>Creature Comforts (1990)</strong></td>\n",
        "      <td> 4.513889</td>\n",
        "      <td> 4.272277</td>\n",
        "    </tr>\n",
        "    <tr>\n",
        "      <td><strong>Usual Suspects, The (1995)</strong></td>\n",
        "      <td> 4.513317</td>\n",
        "      <td> 4.518248</td>\n",
        "    </tr>\n",
        "  </tbody>\n",
        "</table>\n",
        "</div>"
       ],
       "output_type": "pyout",
       "prompt_number": 50,
       "text": [
        "gender                                                         F         M\n",
        "title                                                                     \n",
        "Close Shave, A (1995)                                   4.644444  4.473795\n",
        "Wrong Trousers, The (1993)                              4.588235  4.478261\n",
        "Sunset Blvd. (a.k.a. Sunset Boulevard) (1950)           4.572650  4.464589\n",
        "Wallace & Gromit: The Best of Aardman Animation (1996)  4.563107  4.385075\n",
        "Schindler's List (1993)                                 4.562602  4.491415\n",
        "Shawshank Redemption, The (1994)                        4.539075  4.560625\n",
        "Grand Day Out, A (1992)                                 4.537879  4.293255\n",
        "To Kill a Mockingbird (1962)                            4.536667  4.372611\n",
        "Creature Comforts (1990)                                4.513889  4.272277\n",
        "Usual Suspects, The (1995)                              4.513317  4.518248"
       ]
      }
     ],
     "prompt_number": 50
    },
    {
     "cell_type": "code",
     "collapsed": false,
     "input": [
      "mean_ratings['diff']=mean_ratings['M']-mean_ratings['F']"
     ],
     "language": "python",
     "metadata": {},
     "outputs": [],
     "prompt_number": 51
    },
    {
     "cell_type": "code",
     "collapsed": false,
     "input": [
      "sorted_by_diff = mean_ratings.sort_index(by='diff')"
     ],
     "language": "python",
     "metadata": {},
     "outputs": [],
     "prompt_number": 52
    },
    {
     "cell_type": "code",
     "collapsed": false,
     "input": [
      "sorted_by_diff[:15] #what does this mean?"
     ],
     "language": "python",
     "metadata": {},
     "outputs": [
      {
       "html": [
        "<div style=\"max-height:1000px;max-width:1500px;overflow:auto;\">\n",
        "<table border=\"1\" class=\"dataframe\">\n",
        "  <thead>\n",
        "    <tr style=\"text-align: right;\">\n",
        "      <th>gender</th>\n",
        "      <th>F</th>\n",
        "      <th>M</th>\n",
        "      <th>diff</th>\n",
        "    </tr>\n",
        "    <tr>\n",
        "      <th>title</th>\n",
        "      <th></th>\n",
        "      <th></th>\n",
        "      <th></th>\n",
        "    </tr>\n",
        "  </thead>\n",
        "  <tbody>\n",
        "    <tr>\n",
        "      <td><strong>Dirty Dancing (1987)</strong></td>\n",
        "      <td> 3.790378</td>\n",
        "      <td> 2.959596</td>\n",
        "      <td>-0.830782</td>\n",
        "    </tr>\n",
        "    <tr>\n",
        "      <td><strong>Jumpin' Jack Flash (1986)</strong></td>\n",
        "      <td> 3.254717</td>\n",
        "      <td> 2.578358</td>\n",
        "      <td>-0.676359</td>\n",
        "    </tr>\n",
        "    <tr>\n",
        "      <td><strong>Grease (1978)</strong></td>\n",
        "      <td> 3.975265</td>\n",
        "      <td> 3.367041</td>\n",
        "      <td>-0.608224</td>\n",
        "    </tr>\n",
        "    <tr>\n",
        "      <td><strong>Little Women (1994)</strong></td>\n",
        "      <td> 3.870588</td>\n",
        "      <td> 3.321739</td>\n",
        "      <td>-0.548849</td>\n",
        "    </tr>\n",
        "    <tr>\n",
        "      <td><strong>Steel Magnolias (1989)</strong></td>\n",
        "      <td> 3.901734</td>\n",
        "      <td> 3.365957</td>\n",
        "      <td>-0.535777</td>\n",
        "    </tr>\n",
        "    <tr>\n",
        "      <td><strong>Anastasia (1997)</strong></td>\n",
        "      <td> 3.800000</td>\n",
        "      <td> 3.281609</td>\n",
        "      <td>-0.518391</td>\n",
        "    </tr>\n",
        "    <tr>\n",
        "      <td><strong>Rocky Horror Picture Show, The (1975)</strong></td>\n",
        "      <td> 3.673016</td>\n",
        "      <td> 3.160131</td>\n",
        "      <td>-0.512885</td>\n",
        "    </tr>\n",
        "    <tr>\n",
        "      <td><strong>Color Purple, The (1985)</strong></td>\n",
        "      <td> 4.158192</td>\n",
        "      <td> 3.659341</td>\n",
        "      <td>-0.498851</td>\n",
        "    </tr>\n",
        "    <tr>\n",
        "      <td><strong>Age of Innocence, The (1993)</strong></td>\n",
        "      <td> 3.827068</td>\n",
        "      <td> 3.339506</td>\n",
        "      <td>-0.487561</td>\n",
        "    </tr>\n",
        "    <tr>\n",
        "      <td><strong>Free Willy (1993)</strong></td>\n",
        "      <td> 2.921348</td>\n",
        "      <td> 2.438776</td>\n",
        "      <td>-0.482573</td>\n",
        "    </tr>\n",
        "    <tr>\n",
        "      <td><strong>French Kiss (1995)</strong></td>\n",
        "      <td> 3.535714</td>\n",
        "      <td> 3.056962</td>\n",
        "      <td>-0.478752</td>\n",
        "    </tr>\n",
        "    <tr>\n",
        "      <td><strong>Little Shop of Horrors, The (1960)</strong></td>\n",
        "      <td> 3.650000</td>\n",
        "      <td> 3.179688</td>\n",
        "      <td>-0.470312</td>\n",
        "    </tr>\n",
        "    <tr>\n",
        "      <td><strong>Guys and Dolls (1955)</strong></td>\n",
        "      <td> 4.051724</td>\n",
        "      <td> 3.583333</td>\n",
        "      <td>-0.468391</td>\n",
        "    </tr>\n",
        "    <tr>\n",
        "      <td><strong>Mary Poppins (1964)</strong></td>\n",
        "      <td> 4.197740</td>\n",
        "      <td> 3.730594</td>\n",
        "      <td>-0.467147</td>\n",
        "    </tr>\n",
        "    <tr>\n",
        "      <td><strong>Patch Adams (1998)</strong></td>\n",
        "      <td> 3.473282</td>\n",
        "      <td> 3.008746</td>\n",
        "      <td>-0.464536</td>\n",
        "    </tr>\n",
        "  </tbody>\n",
        "</table>\n",
        "</div>"
       ],
       "output_type": "pyout",
       "prompt_number": 53,
       "text": [
        "gender                                        F         M      diff\n",
        "title                                                              \n",
        "Dirty Dancing (1987)                   3.790378  2.959596 -0.830782\n",
        "Jumpin' Jack Flash (1986)              3.254717  2.578358 -0.676359\n",
        "Grease (1978)                          3.975265  3.367041 -0.608224\n",
        "Little Women (1994)                    3.870588  3.321739 -0.548849\n",
        "Steel Magnolias (1989)                 3.901734  3.365957 -0.535777\n",
        "Anastasia (1997)                       3.800000  3.281609 -0.518391\n",
        "Rocky Horror Picture Show, The (1975)  3.673016  3.160131 -0.512885\n",
        "Color Purple, The (1985)               4.158192  3.659341 -0.498851\n",
        "Age of Innocence, The (1993)           3.827068  3.339506 -0.487561\n",
        "Free Willy (1993)                      2.921348  2.438776 -0.482573\n",
        "French Kiss (1995)                     3.535714  3.056962 -0.478752\n",
        "Little Shop of Horrors, The (1960)     3.650000  3.179688 -0.470312\n",
        "Guys and Dolls (1955)                  4.051724  3.583333 -0.468391\n",
        "Mary Poppins (1964)                    4.197740  3.730594 -0.467147\n",
        "Patch Adams (1998)                     3.473282  3.008746 -0.464536"
       ]
      }
     ],
     "prompt_number": 53
    },
    {
     "cell_type": "code",
     "collapsed": false,
     "input": [
      "sorted_by_diff[::-1][:15]"
     ],
     "language": "python",
     "metadata": {},
     "outputs": [
      {
       "html": [
        "<div style=\"max-height:1000px;max-width:1500px;overflow:auto;\">\n",
        "<table border=\"1\" class=\"dataframe\">\n",
        "  <thead>\n",
        "    <tr style=\"text-align: right;\">\n",
        "      <th>gender</th>\n",
        "      <th>F</th>\n",
        "      <th>M</th>\n",
        "      <th>diff</th>\n",
        "    </tr>\n",
        "    <tr>\n",
        "      <th>title</th>\n",
        "      <th></th>\n",
        "      <th></th>\n",
        "      <th></th>\n",
        "    </tr>\n",
        "  </thead>\n",
        "  <tbody>\n",
        "    <tr>\n",
        "      <td><strong>Good, The Bad and The Ugly, The (1966)</strong></td>\n",
        "      <td> 3.494949</td>\n",
        "      <td> 4.221300</td>\n",
        "      <td> 0.726351</td>\n",
        "    </tr>\n",
        "    <tr>\n",
        "      <td><strong>Kentucky Fried Movie, The (1977)</strong></td>\n",
        "      <td> 2.878788</td>\n",
        "      <td> 3.555147</td>\n",
        "      <td> 0.676359</td>\n",
        "    </tr>\n",
        "    <tr>\n",
        "      <td><strong>Dumb & Dumber (1994)</strong></td>\n",
        "      <td> 2.697987</td>\n",
        "      <td> 3.336595</td>\n",
        "      <td> 0.638608</td>\n",
        "    </tr>\n",
        "    <tr>\n",
        "      <td><strong>Longest Day, The (1962)</strong></td>\n",
        "      <td> 3.411765</td>\n",
        "      <td> 4.031447</td>\n",
        "      <td> 0.619682</td>\n",
        "    </tr>\n",
        "    <tr>\n",
        "      <td><strong>Cable Guy, The (1996)</strong></td>\n",
        "      <td> 2.250000</td>\n",
        "      <td> 2.863787</td>\n",
        "      <td> 0.613787</td>\n",
        "    </tr>\n",
        "    <tr>\n",
        "      <td><strong>Evil Dead II (Dead By Dawn) (1987)</strong></td>\n",
        "      <td> 3.297297</td>\n",
        "      <td> 3.909283</td>\n",
        "      <td> 0.611985</td>\n",
        "    </tr>\n",
        "    <tr>\n",
        "      <td><strong>Hidden, The (1987)</strong></td>\n",
        "      <td> 3.137931</td>\n",
        "      <td> 3.745098</td>\n",
        "      <td> 0.607167</td>\n",
        "    </tr>\n",
        "    <tr>\n",
        "      <td><strong>Rocky III (1982)</strong></td>\n",
        "      <td> 2.361702</td>\n",
        "      <td> 2.943503</td>\n",
        "      <td> 0.581801</td>\n",
        "    </tr>\n",
        "    <tr>\n",
        "      <td><strong>Caddyshack (1980)</strong></td>\n",
        "      <td> 3.396135</td>\n",
        "      <td> 3.969737</td>\n",
        "      <td> 0.573602</td>\n",
        "    </tr>\n",
        "    <tr>\n",
        "      <td><strong>For a Few Dollars More (1965)</strong></td>\n",
        "      <td> 3.409091</td>\n",
        "      <td> 3.953795</td>\n",
        "      <td> 0.544704</td>\n",
        "    </tr>\n",
        "    <tr>\n",
        "      <td><strong>Porky's (1981)</strong></td>\n",
        "      <td> 2.296875</td>\n",
        "      <td> 2.836364</td>\n",
        "      <td> 0.539489</td>\n",
        "    </tr>\n",
        "    <tr>\n",
        "      <td><strong>Animal House (1978)</strong></td>\n",
        "      <td> 3.628906</td>\n",
        "      <td> 4.167192</td>\n",
        "      <td> 0.538286</td>\n",
        "    </tr>\n",
        "    <tr>\n",
        "      <td><strong>Exorcist, The (1973)</strong></td>\n",
        "      <td> 3.537634</td>\n",
        "      <td> 4.067239</td>\n",
        "      <td> 0.529605</td>\n",
        "    </tr>\n",
        "    <tr>\n",
        "      <td><strong>Fright Night (1985)</strong></td>\n",
        "      <td> 2.973684</td>\n",
        "      <td> 3.500000</td>\n",
        "      <td> 0.526316</td>\n",
        "    </tr>\n",
        "    <tr>\n",
        "      <td><strong>Barb Wire (1996)</strong></td>\n",
        "      <td> 1.585366</td>\n",
        "      <td> 2.100386</td>\n",
        "      <td> 0.515020</td>\n",
        "    </tr>\n",
        "  </tbody>\n",
        "</table>\n",
        "</div>"
       ],
       "output_type": "pyout",
       "prompt_number": 54,
       "text": [
        "gender                                         F         M      diff\n",
        "title                                                               \n",
        "Good, The Bad and The Ugly, The (1966)  3.494949  4.221300  0.726351\n",
        "Kentucky Fried Movie, The (1977)        2.878788  3.555147  0.676359\n",
        "Dumb & Dumber (1994)                    2.697987  3.336595  0.638608\n",
        "Longest Day, The (1962)                 3.411765  4.031447  0.619682\n",
        "Cable Guy, The (1996)                   2.250000  2.863787  0.613787\n",
        "Evil Dead II (Dead By Dawn) (1987)      3.297297  3.909283  0.611985\n",
        "Hidden, The (1987)                      3.137931  3.745098  0.607167\n",
        "Rocky III (1982)                        2.361702  2.943503  0.581801\n",
        "Caddyshack (1980)                       3.396135  3.969737  0.573602\n",
        "For a Few Dollars More (1965)           3.409091  3.953795  0.544704\n",
        "Porky's (1981)                          2.296875  2.836364  0.539489\n",
        "Animal House (1978)                     3.628906  4.167192  0.538286\n",
        "Exorcist, The (1973)                    3.537634  4.067239  0.529605\n",
        "Fright Night (1985)                     2.973684  3.500000  0.526316\n",
        "Barb Wire (1996)                        1.585366  2.100386  0.515020"
       ]
      }
     ],
     "prompt_number": 54
    },
    {
     "cell_type": "code",
     "collapsed": false,
     "input": [
      "rating_std_by_title = data.groupby('title')['rating'].std()"
     ],
     "language": "python",
     "metadata": {},
     "outputs": [],
     "prompt_number": 55
    },
    {
     "cell_type": "code",
     "collapsed": false,
     "input": [
      "rating_std_by_title = rating_std_by_title.ix[active_titles]"
     ],
     "language": "python",
     "metadata": {},
     "outputs": [],
     "prompt_number": 56
    },
    {
     "cell_type": "code",
     "collapsed": false,
     "input": [
      "rating_std_by_title.order(ascending=False)[:10]"
     ],
     "language": "python",
     "metadata": {},
     "outputs": [
      {
       "output_type": "pyout",
       "prompt_number": 57,
       "text": [
        "title\n",
        "Dumb & Dumber (1994)                     1.321333\n",
        "Blair Witch Project, The (1999)          1.316368\n",
        "Natural Born Killers (1994)              1.307198\n",
        "Tank Girl (1995)                         1.277695\n",
        "Rocky Horror Picture Show, The (1975)    1.260177\n",
        "Eyes Wide Shut (1999)                    1.259624\n",
        "Evita (1996)                             1.253631\n",
        "Billy Madison (1995)                     1.249970\n",
        "Fear and Loathing in Las Vegas (1998)    1.246408\n",
        "Bicentennial Man (1999)                  1.245533\n",
        "Name: rating"
       ]
      }
     ],
     "prompt_number": 57
    },
    {
     "cell_type": "markdown",
     "metadata": {},
     "source": [
      "baby names\n",
      "----------"
     ]
    },
    {
     "cell_type": "code",
     "collapsed": false,
     "input": [
      "years = range(1880,2011)"
     ],
     "language": "python",
     "metadata": {},
     "outputs": [],
     "prompt_number": 58
    },
    {
     "cell_type": "code",
     "collapsed": false,
     "input": [
      "pieces = []"
     ],
     "language": "python",
     "metadata": {},
     "outputs": [],
     "prompt_number": 59
    },
    {
     "cell_type": "code",
     "collapsed": false,
     "input": [
      "columns = ['name','sex','births']"
     ],
     "language": "python",
     "metadata": {},
     "outputs": [],
     "prompt_number": 60
    },
    {
     "cell_type": "code",
     "collapsed": false,
     "input": [
      "cd ~/src/pydata-book/ch02/names/"
     ],
     "language": "python",
     "metadata": {},
     "outputs": [
      {
       "output_type": "stream",
       "stream": "stdout",
       "text": [
        "/Users/maye/src/pydata-book/ch02/names\n"
       ]
      }
     ],
     "prompt_number": 61
    },
    {
     "cell_type": "code",
     "collapsed": false,
     "input": [
      "for year in years:\n",
      "    path = 'yob%d.txt' % year\n",
      "    frame = pd.read_csv(path, names=columns)\n",
      "    frame['year'] = year\n",
      "    pieces.append(frame)"
     ],
     "language": "python",
     "metadata": {},
     "outputs": [],
     "prompt_number": 62
    },
    {
     "cell_type": "code",
     "collapsed": false,
     "input": [
      "names = pd.concat(pieces, ignore_index=True)"
     ],
     "language": "python",
     "metadata": {},
     "outputs": [],
     "prompt_number": 63
    },
    {
     "cell_type": "code",
     "collapsed": false,
     "input": [
      "names"
     ],
     "language": "python",
     "metadata": {},
     "outputs": [
      {
       "output_type": "pyout",
       "prompt_number": 64,
       "text": [
        "<class 'pandas.core.frame.DataFrame'>\n",
        "Int64Index: 1690784 entries, 0 to 1690783\n",
        "Data columns:\n",
        "name      1690784  non-null values\n",
        "sex       1690784  non-null values\n",
        "births    1690784  non-null values\n",
        "year      1690784  non-null values\n",
        "dtypes: int64(2), object(2)"
       ]
      }
     ],
     "prompt_number": 64
    },
    {
     "cell_type": "code",
     "collapsed": false,
     "input": [
      "total_births = names.pivot_table('births', rows='year',cols='sex', aggfunc=sum)"
     ],
     "language": "python",
     "metadata": {},
     "outputs": [],
     "prompt_number": 65
    },
    {
     "cell_type": "code",
     "collapsed": false,
     "input": [
      "total_births.tail()"
     ],
     "language": "python",
     "metadata": {},
     "outputs": [
      {
       "html": [
        "<div style=\"max-height:1000px;max-width:1500px;overflow:auto;\">\n",
        "<table border=\"1\" class=\"dataframe\">\n",
        "  <thead>\n",
        "    <tr style=\"text-align: right;\">\n",
        "      <th>sex</th>\n",
        "      <th>F</th>\n",
        "      <th>M</th>\n",
        "    </tr>\n",
        "    <tr>\n",
        "      <th>year</th>\n",
        "      <th></th>\n",
        "      <th></th>\n",
        "    </tr>\n",
        "  </thead>\n",
        "  <tbody>\n",
        "    <tr>\n",
        "      <td><strong>2006</strong></td>\n",
        "      <td> 1896468</td>\n",
        "      <td> 2050234</td>\n",
        "    </tr>\n",
        "    <tr>\n",
        "      <td><strong>2007</strong></td>\n",
        "      <td> 1916888</td>\n",
        "      <td> 2069242</td>\n",
        "    </tr>\n",
        "    <tr>\n",
        "      <td><strong>2008</strong></td>\n",
        "      <td> 1883645</td>\n",
        "      <td> 2032310</td>\n",
        "    </tr>\n",
        "    <tr>\n",
        "      <td><strong>2009</strong></td>\n",
        "      <td> 1827643</td>\n",
        "      <td> 1973359</td>\n",
        "    </tr>\n",
        "    <tr>\n",
        "      <td><strong>2010</strong></td>\n",
        "      <td> 1759010</td>\n",
        "      <td> 1898382</td>\n",
        "    </tr>\n",
        "  </tbody>\n",
        "</table>\n",
        "</div>"
       ],
       "output_type": "pyout",
       "prompt_number": 66,
       "text": [
        "sex         F        M\n",
        "year                  \n",
        "2006  1896468  2050234\n",
        "2007  1916888  2069242\n",
        "2008  1883645  2032310\n",
        "2009  1827643  1973359\n",
        "2010  1759010  1898382"
       ]
      }
     ],
     "prompt_number": 66
    },
    {
     "cell_type": "code",
     "collapsed": false,
     "input": [
      "total_births.plot(title='Total births by sex and year')"
     ],
     "language": "python",
     "metadata": {},
     "outputs": [
      {
       "output_type": "pyout",
       "prompt_number": 67,
       "text": [
        "<matplotlib.axes.AxesSubplot at 0x117ae4d10>"
       ]
      }
     ],
     "prompt_number": 67
    },
    {
     "cell_type": "code",
     "collapsed": false,
     "input": [
      "df = DataFrame({'key1' : ['a', 'a', 'b', 'b', 'a'],\n",
      "'key2' : ['one', 'two', 'one', 'two', 'one'],\n",
      "'data1' : np.random.randn(5), 'data2' : np.random.randn(5)})"
     ],
     "language": "python",
     "metadata": {},
     "outputs": [],
     "prompt_number": 68
    },
    {
     "cell_type": "code",
     "collapsed": false,
     "input": [
      "df"
     ],
     "language": "python",
     "metadata": {},
     "outputs": [
      {
       "html": [
        "<div style=\"max-height:1000px;max-width:1500px;overflow:auto;\">\n",
        "<table border=\"1\" class=\"dataframe\">\n",
        "  <thead>\n",
        "    <tr style=\"text-align: right;\">\n",
        "      <th></th>\n",
        "      <th>data1</th>\n",
        "      <th>data2</th>\n",
        "      <th>key1</th>\n",
        "      <th>key2</th>\n",
        "    </tr>\n",
        "  </thead>\n",
        "  <tbody>\n",
        "    <tr>\n",
        "      <td><strong>0</strong></td>\n",
        "      <td>-0.567348</td>\n",
        "      <td>-0.804685</td>\n",
        "      <td> a</td>\n",
        "      <td> one</td>\n",
        "    </tr>\n",
        "    <tr>\n",
        "      <td><strong>1</strong></td>\n",
        "      <td>-0.271176</td>\n",
        "      <td>-1.375717</td>\n",
        "      <td> a</td>\n",
        "      <td> two</td>\n",
        "    </tr>\n",
        "    <tr>\n",
        "      <td><strong>2</strong></td>\n",
        "      <td>-0.569180</td>\n",
        "      <td>-0.524549</td>\n",
        "      <td> b</td>\n",
        "      <td> one</td>\n",
        "    </tr>\n",
        "    <tr>\n",
        "      <td><strong>3</strong></td>\n",
        "      <td>-0.570523</td>\n",
        "      <td> 0.101744</td>\n",
        "      <td> b</td>\n",
        "      <td> two</td>\n",
        "    </tr>\n",
        "    <tr>\n",
        "      <td><strong>4</strong></td>\n",
        "      <td>-0.633675</td>\n",
        "      <td> 0.166568</td>\n",
        "      <td> a</td>\n",
        "      <td> one</td>\n",
        "    </tr>\n",
        "  </tbody>\n",
        "</table>\n",
        "</div>"
       ],
       "output_type": "pyout",
       "prompt_number": 69,
       "text": [
        "      data1     data2 key1 key2\n",
        "0 -0.567348 -0.804685    a  one\n",
        "1 -0.271176 -1.375717    a  two\n",
        "2 -0.569180 -0.524549    b  one\n",
        "3 -0.570523  0.101744    b  two\n",
        "4 -0.633675  0.166568    a  one"
       ]
      }
     ],
     "prompt_number": 69
    },
    {
     "cell_type": "code",
     "collapsed": false,
     "input": [
      "df[['data1','data2']].groupby(['one','one'],axis=1).mean()"
     ],
     "language": "python",
     "metadata": {},
     "outputs": [
      {
       "html": [
        "<div style=\"max-height:1000px;max-width:1500px;overflow:auto;\">\n",
        "<table border=\"1\" class=\"dataframe\">\n",
        "  <thead>\n",
        "    <tr style=\"text-align: right;\">\n",
        "      <th></th>\n",
        "      <th>one</th>\n",
        "    </tr>\n",
        "  </thead>\n",
        "  <tbody>\n",
        "    <tr>\n",
        "      <td><strong>0</strong></td>\n",
        "      <td>-0.686017</td>\n",
        "    </tr>\n",
        "    <tr>\n",
        "      <td><strong>1</strong></td>\n",
        "      <td>-0.823446</td>\n",
        "    </tr>\n",
        "    <tr>\n",
        "      <td><strong>2</strong></td>\n",
        "      <td>-0.546865</td>\n",
        "    </tr>\n",
        "    <tr>\n",
        "      <td><strong>3</strong></td>\n",
        "      <td>-0.234389</td>\n",
        "    </tr>\n",
        "    <tr>\n",
        "      <td><strong>4</strong></td>\n",
        "      <td>-0.233554</td>\n",
        "    </tr>\n",
        "  </tbody>\n",
        "</table>\n",
        "</div>"
       ],
       "output_type": "pyout",
       "prompt_number": 70,
       "text": [
        "        one\n",
        "0 -0.686017\n",
        "1 -0.823446\n",
        "2 -0.546865\n",
        "3 -0.234389\n",
        "4 -0.233554"
       ]
      }
     ],
     "prompt_number": 70
    },
    {
     "cell_type": "code",
     "collapsed": false,
     "input": [
      "df.groupby([1,2,1,3,1]).mean()"
     ],
     "language": "python",
     "metadata": {},
     "outputs": [
      {
       "html": [
        "<div style=\"max-height:1000px;max-width:1500px;overflow:auto;\">\n",
        "<table border=\"1\" class=\"dataframe\">\n",
        "  <thead>\n",
        "    <tr style=\"text-align: right;\">\n",
        "      <th></th>\n",
        "      <th>data1</th>\n",
        "      <th>data2</th>\n",
        "    </tr>\n",
        "  </thead>\n",
        "  <tbody>\n",
        "    <tr>\n",
        "      <td><strong>1</strong></td>\n",
        "      <td>-0.590068</td>\n",
        "      <td>-0.387556</td>\n",
        "    </tr>\n",
        "    <tr>\n",
        "      <td><strong>2</strong></td>\n",
        "      <td>-0.271176</td>\n",
        "      <td>-1.375717</td>\n",
        "    </tr>\n",
        "    <tr>\n",
        "      <td><strong>3</strong></td>\n",
        "      <td>-0.570523</td>\n",
        "      <td> 0.101744</td>\n",
        "    </tr>\n",
        "  </tbody>\n",
        "</table>\n",
        "</div>"
       ],
       "output_type": "pyout",
       "prompt_number": 71,
       "text": [
        "      data1     data2\n",
        "1 -0.590068 -0.387556\n",
        "2 -0.271176 -1.375717\n",
        "3 -0.570523  0.101744"
       ]
      }
     ],
     "prompt_number": 71
    },
    {
     "cell_type": "code",
     "collapsed": false,
     "input": [
      "df"
     ],
     "language": "python",
     "metadata": {},
     "outputs": [
      {
       "html": [
        "<div style=\"max-height:1000px;max-width:1500px;overflow:auto;\">\n",
        "<table border=\"1\" class=\"dataframe\">\n",
        "  <thead>\n",
        "    <tr style=\"text-align: right;\">\n",
        "      <th></th>\n",
        "      <th>data1</th>\n",
        "      <th>data2</th>\n",
        "      <th>key1</th>\n",
        "      <th>key2</th>\n",
        "    </tr>\n",
        "  </thead>\n",
        "  <tbody>\n",
        "    <tr>\n",
        "      <td><strong>0</strong></td>\n",
        "      <td>-0.567348</td>\n",
        "      <td>-0.804685</td>\n",
        "      <td> a</td>\n",
        "      <td> one</td>\n",
        "    </tr>\n",
        "    <tr>\n",
        "      <td><strong>1</strong></td>\n",
        "      <td>-0.271176</td>\n",
        "      <td>-1.375717</td>\n",
        "      <td> a</td>\n",
        "      <td> two</td>\n",
        "    </tr>\n",
        "    <tr>\n",
        "      <td><strong>2</strong></td>\n",
        "      <td>-0.569180</td>\n",
        "      <td>-0.524549</td>\n",
        "      <td> b</td>\n",
        "      <td> one</td>\n",
        "    </tr>\n",
        "    <tr>\n",
        "      <td><strong>3</strong></td>\n",
        "      <td>-0.570523</td>\n",
        "      <td> 0.101744</td>\n",
        "      <td> b</td>\n",
        "      <td> two</td>\n",
        "    </tr>\n",
        "    <tr>\n",
        "      <td><strong>4</strong></td>\n",
        "      <td>-0.633675</td>\n",
        "      <td> 0.166568</td>\n",
        "      <td> a</td>\n",
        "      <td> one</td>\n",
        "    </tr>\n",
        "  </tbody>\n",
        "</table>\n",
        "</div>"
       ],
       "output_type": "pyout",
       "prompt_number": 72,
       "text": [
        "      data1     data2 key1 key2\n",
        "0 -0.567348 -0.804685    a  one\n",
        "1 -0.271176 -1.375717    a  two\n",
        "2 -0.569180 -0.524549    b  one\n",
        "3 -0.570523  0.101744    b  two\n",
        "4 -0.633675  0.166568    a  one"
       ]
      }
     ],
     "prompt_number": 72
    },
    {
     "cell_type": "code",
     "collapsed": false,
     "input": [
      "df.groupby('key1').sum()"
     ],
     "language": "python",
     "metadata": {},
     "outputs": [
      {
       "html": [
        "<div style=\"max-height:1000px;max-width:1500px;overflow:auto;\">\n",
        "<table border=\"1\" class=\"dataframe\">\n",
        "  <thead>\n",
        "    <tr style=\"text-align: right;\">\n",
        "      <th></th>\n",
        "      <th>data1</th>\n",
        "      <th>data2</th>\n",
        "    </tr>\n",
        "    <tr>\n",
        "      <th>key1</th>\n",
        "      <th></th>\n",
        "      <th></th>\n",
        "    </tr>\n",
        "  </thead>\n",
        "  <tbody>\n",
        "    <tr>\n",
        "      <td><strong>a</strong></td>\n",
        "      <td>-1.472199</td>\n",
        "      <td>-2.013834</td>\n",
        "    </tr>\n",
        "    <tr>\n",
        "      <td><strong>b</strong></td>\n",
        "      <td>-1.139703</td>\n",
        "      <td>-0.422805</td>\n",
        "    </tr>\n",
        "  </tbody>\n",
        "</table>\n",
        "</div>"
       ],
       "output_type": "pyout",
       "prompt_number": 73,
       "text": [
        "         data1     data2\n",
        "key1                    \n",
        "a    -1.472199 -2.013834\n",
        "b    -1.139703 -0.422805"
       ]
      }
     ],
     "prompt_number": 73
    },
    {
     "cell_type": "code",
     "collapsed": false,
     "input": [
      "df.groupby(['key1','key2']).sum()"
     ],
     "language": "python",
     "metadata": {},
     "outputs": [
      {
       "html": [
        "<div style=\"max-height:1000px;max-width:1500px;overflow:auto;\">\n",
        "<table border=\"1\" class=\"dataframe\">\n",
        "  <thead>\n",
        "    <tr style=\"text-align: right;\">\n",
        "      <th></th>\n",
        "      <th></th>\n",
        "      <th>data1</th>\n",
        "      <th>data2</th>\n",
        "    </tr>\n",
        "    <tr>\n",
        "      <th>key1</th>\n",
        "      <th>key2</th>\n",
        "      <th></th>\n",
        "      <th></th>\n",
        "    </tr>\n",
        "  </thead>\n",
        "  <tbody>\n",
        "    <tr>\n",
        "      <td rowspan=\"2\" valign=\"top\"><strong>a</strong></td>\n",
        "      <td><strong>one</strong></td>\n",
        "      <td>-1.201023</td>\n",
        "      <td>-0.638118</td>\n",
        "    </tr>\n",
        "    <tr>\n",
        "      <td><strong>two</strong></td>\n",
        "      <td>-0.271176</td>\n",
        "      <td>-1.375717</td>\n",
        "    </tr>\n",
        "    <tr>\n",
        "      <td rowspan=\"2\" valign=\"top\"><strong>b</strong></td>\n",
        "      <td><strong>one</strong></td>\n",
        "      <td>-0.569180</td>\n",
        "      <td>-0.524549</td>\n",
        "    </tr>\n",
        "    <tr>\n",
        "      <td><strong>two</strong></td>\n",
        "      <td>-0.570523</td>\n",
        "      <td> 0.101744</td>\n",
        "    </tr>\n",
        "  </tbody>\n",
        "</table>\n",
        "</div>"
       ],
       "output_type": "pyout",
       "prompt_number": 74,
       "text": [
        "              data1     data2\n",
        "key1 key2                    \n",
        "a    one  -1.201023 -0.638118\n",
        "     two  -0.271176 -1.375717\n",
        "b    one  -0.569180 -0.524549\n",
        "     two  -0.570523  0.101744"
       ]
      }
     ],
     "prompt_number": 74
    },
    {
     "cell_type": "heading",
     "level": 3,
     "metadata": {},
     "source": [
      "Aggregation"
     ]
    },
    {
     "cell_type": "code",
     "collapsed": false,
     "input": [
      "cd ~/src/pydata-book/ch08"
     ],
     "language": "python",
     "metadata": {},
     "outputs": [
      {
       "output_type": "stream",
       "stream": "stdout",
       "text": [
        "/Users/maye/src/pydata-book/ch08\n"
       ]
      }
     ],
     "prompt_number": 75
    },
    {
     "cell_type": "code",
     "collapsed": false,
     "input": [
      "tips = pd.read_csv('tips.csv')"
     ],
     "language": "python",
     "metadata": {},
     "outputs": [],
     "prompt_number": 76
    },
    {
     "cell_type": "code",
     "collapsed": false,
     "input": [
      "tips['tip_pct']=tips['tip']/tips['total_bill']"
     ],
     "language": "python",
     "metadata": {},
     "outputs": [],
     "prompt_number": 77
    },
    {
     "cell_type": "code",
     "collapsed": false,
     "input": [
      "tips[:6]"
     ],
     "language": "python",
     "metadata": {},
     "outputs": [
      {
       "html": [
        "<div style=\"max-height:1000px;max-width:1500px;overflow:auto;\">\n",
        "<table border=\"1\" class=\"dataframe\">\n",
        "  <thead>\n",
        "    <tr style=\"text-align: right;\">\n",
        "      <th></th>\n",
        "      <th>total_bill</th>\n",
        "      <th>tip</th>\n",
        "      <th>sex</th>\n",
        "      <th>smoker</th>\n",
        "      <th>day</th>\n",
        "      <th>time</th>\n",
        "      <th>size</th>\n",
        "      <th>tip_pct</th>\n",
        "    </tr>\n",
        "  </thead>\n",
        "  <tbody>\n",
        "    <tr>\n",
        "      <td><strong>0</strong></td>\n",
        "      <td> 16.99</td>\n",
        "      <td> 1.01</td>\n",
        "      <td> Female</td>\n",
        "      <td> No</td>\n",
        "      <td> Sun</td>\n",
        "      <td> Dinner</td>\n",
        "      <td> 2</td>\n",
        "      <td> 0.059447</td>\n",
        "    </tr>\n",
        "    <tr>\n",
        "      <td><strong>1</strong></td>\n",
        "      <td> 10.34</td>\n",
        "      <td> 1.66</td>\n",
        "      <td>   Male</td>\n",
        "      <td> No</td>\n",
        "      <td> Sun</td>\n",
        "      <td> Dinner</td>\n",
        "      <td> 3</td>\n",
        "      <td> 0.160542</td>\n",
        "    </tr>\n",
        "    <tr>\n",
        "      <td><strong>2</strong></td>\n",
        "      <td> 21.01</td>\n",
        "      <td> 3.50</td>\n",
        "      <td>   Male</td>\n",
        "      <td> No</td>\n",
        "      <td> Sun</td>\n",
        "      <td> Dinner</td>\n",
        "      <td> 3</td>\n",
        "      <td> 0.166587</td>\n",
        "    </tr>\n",
        "    <tr>\n",
        "      <td><strong>3</strong></td>\n",
        "      <td> 23.68</td>\n",
        "      <td> 3.31</td>\n",
        "      <td>   Male</td>\n",
        "      <td> No</td>\n",
        "      <td> Sun</td>\n",
        "      <td> Dinner</td>\n",
        "      <td> 2</td>\n",
        "      <td> 0.139780</td>\n",
        "    </tr>\n",
        "    <tr>\n",
        "      <td><strong>4</strong></td>\n",
        "      <td> 24.59</td>\n",
        "      <td> 3.61</td>\n",
        "      <td> Female</td>\n",
        "      <td> No</td>\n",
        "      <td> Sun</td>\n",
        "      <td> Dinner</td>\n",
        "      <td> 4</td>\n",
        "      <td> 0.146808</td>\n",
        "    </tr>\n",
        "    <tr>\n",
        "      <td><strong>5</strong></td>\n",
        "      <td> 25.29</td>\n",
        "      <td> 4.71</td>\n",
        "      <td>   Male</td>\n",
        "      <td> No</td>\n",
        "      <td> Sun</td>\n",
        "      <td> Dinner</td>\n",
        "      <td> 4</td>\n",
        "      <td> 0.186240</td>\n",
        "    </tr>\n",
        "  </tbody>\n",
        "</table>\n",
        "</div>"
       ],
       "output_type": "pyout",
       "prompt_number": 78,
       "text": [
        "   total_bill   tip     sex smoker  day    time  size   tip_pct\n",
        "0       16.99  1.01  Female     No  Sun  Dinner     2  0.059447\n",
        "1       10.34  1.66    Male     No  Sun  Dinner     3  0.160542\n",
        "2       21.01  3.50    Male     No  Sun  Dinner     3  0.166587\n",
        "3       23.68  3.31    Male     No  Sun  Dinner     2  0.139780\n",
        "4       24.59  3.61  Female     No  Sun  Dinner     4  0.146808\n",
        "5       25.29  4.71    Male     No  Sun  Dinner     4  0.186240"
       ]
      }
     ],
     "prompt_number": 78
    },
    {
     "cell_type": "code",
     "collapsed": false,
     "input": [
      "grouped = tips.groupby(['sex','smoker'])"
     ],
     "language": "python",
     "metadata": {},
     "outputs": [],
     "prompt_number": 79
    },
    {
     "cell_type": "code",
     "collapsed": false,
     "input": [
      "grouped.size()"
     ],
     "language": "python",
     "metadata": {},
     "outputs": [
      {
       "output_type": "pyout",
       "prompt_number": 80,
       "text": [
        "sex     smoker\n",
        "Female  No        54\n",
        "        Yes       33\n",
        "Male    No        97\n",
        "        Yes       60"
       ]
      }
     ],
     "prompt_number": 80
    },
    {
     "cell_type": "code",
     "collapsed": false,
     "input": [
      "grouped_pct = grouped['tip_pct']"
     ],
     "language": "python",
     "metadata": {},
     "outputs": [],
     "prompt_number": 81
    },
    {
     "cell_type": "code",
     "collapsed": false,
     "input": [
      "grouped_pct.mean()"
     ],
     "language": "python",
     "metadata": {},
     "outputs": [
      {
       "output_type": "pyout",
       "prompt_number": 82,
       "text": [
        "sex     smoker\n",
        "Female  No        0.156921\n",
        "        Yes       0.182150\n",
        "Male    No        0.160669\n",
        "        Yes       0.152771\n",
        "Name: tip_pct"
       ]
      }
     ],
     "prompt_number": 82
    },
    {
     "cell_type": "code",
     "collapsed": false,
     "input": [
      "grouped_pct.agg(['mean','std',ptp])"
     ],
     "language": "python",
     "metadata": {},
     "outputs": [
      {
       "html": [
        "<div style=\"max-height:1000px;max-width:1500px;overflow:auto;\">\n",
        "<table border=\"1\" class=\"dataframe\">\n",
        "  <thead>\n",
        "    <tr style=\"text-align: right;\">\n",
        "      <th></th>\n",
        "      <th></th>\n",
        "      <th>mean</th>\n",
        "      <th>std</th>\n",
        "      <th>ptp</th>\n",
        "    </tr>\n",
        "    <tr>\n",
        "      <th>sex</th>\n",
        "      <th>smoker</th>\n",
        "      <th></th>\n",
        "      <th></th>\n",
        "      <th></th>\n",
        "    </tr>\n",
        "  </thead>\n",
        "  <tbody>\n",
        "    <tr>\n",
        "      <td rowspan=\"2\" valign=\"top\"><strong>Female</strong></td>\n",
        "      <td><strong>No</strong></td>\n",
        "      <td> 0.156921</td>\n",
        "      <td> 0.036421</td>\n",
        "      <td> 0.195876</td>\n",
        "    </tr>\n",
        "    <tr>\n",
        "      <td><strong>Yes</strong></td>\n",
        "      <td> 0.182150</td>\n",
        "      <td> 0.071595</td>\n",
        "      <td> 0.360233</td>\n",
        "    </tr>\n",
        "    <tr>\n",
        "      <td rowspan=\"2\" valign=\"top\"><strong>Male</strong></td>\n",
        "      <td><strong>No</strong></td>\n",
        "      <td> 0.160669</td>\n",
        "      <td> 0.041849</td>\n",
        "      <td> 0.220186</td>\n",
        "    </tr>\n",
        "    <tr>\n",
        "      <td><strong>Yes</strong></td>\n",
        "      <td> 0.152771</td>\n",
        "      <td> 0.090588</td>\n",
        "      <td> 0.674707</td>\n",
        "    </tr>\n",
        "  </tbody>\n",
        "</table>\n",
        "</div>"
       ],
       "output_type": "pyout",
       "prompt_number": 83,
       "text": [
        "                   mean       std       ptp\n",
        "sex    smoker                              \n",
        "Female No      0.156921  0.036421  0.195876\n",
        "       Yes     0.182150  0.071595  0.360233\n",
        "Male   No      0.160669  0.041849  0.220186\n",
        "       Yes     0.152771  0.090588  0.674707"
       ]
      }
     ],
     "prompt_number": 83
    },
    {
     "cell_type": "code",
     "collapsed": false,
     "input": [
      "tips.head()"
     ],
     "language": "python",
     "metadata": {},
     "outputs": [
      {
       "html": [
        "<div style=\"max-height:1000px;max-width:1500px;overflow:auto;\">\n",
        "<table border=\"1\" class=\"dataframe\">\n",
        "  <thead>\n",
        "    <tr style=\"text-align: right;\">\n",
        "      <th></th>\n",
        "      <th>total_bill</th>\n",
        "      <th>tip</th>\n",
        "      <th>sex</th>\n",
        "      <th>smoker</th>\n",
        "      <th>day</th>\n",
        "      <th>time</th>\n",
        "      <th>size</th>\n",
        "      <th>tip_pct</th>\n",
        "    </tr>\n",
        "  </thead>\n",
        "  <tbody>\n",
        "    <tr>\n",
        "      <td><strong>0</strong></td>\n",
        "      <td> 16.99</td>\n",
        "      <td> 1.01</td>\n",
        "      <td> Female</td>\n",
        "      <td> No</td>\n",
        "      <td> Sun</td>\n",
        "      <td> Dinner</td>\n",
        "      <td> 2</td>\n",
        "      <td> 0.059447</td>\n",
        "    </tr>\n",
        "    <tr>\n",
        "      <td><strong>1</strong></td>\n",
        "      <td> 10.34</td>\n",
        "      <td> 1.66</td>\n",
        "      <td>   Male</td>\n",
        "      <td> No</td>\n",
        "      <td> Sun</td>\n",
        "      <td> Dinner</td>\n",
        "      <td> 3</td>\n",
        "      <td> 0.160542</td>\n",
        "    </tr>\n",
        "    <tr>\n",
        "      <td><strong>2</strong></td>\n",
        "      <td> 21.01</td>\n",
        "      <td> 3.50</td>\n",
        "      <td>   Male</td>\n",
        "      <td> No</td>\n",
        "      <td> Sun</td>\n",
        "      <td> Dinner</td>\n",
        "      <td> 3</td>\n",
        "      <td> 0.166587</td>\n",
        "    </tr>\n",
        "    <tr>\n",
        "      <td><strong>3</strong></td>\n",
        "      <td> 23.68</td>\n",
        "      <td> 3.31</td>\n",
        "      <td>   Male</td>\n",
        "      <td> No</td>\n",
        "      <td> Sun</td>\n",
        "      <td> Dinner</td>\n",
        "      <td> 2</td>\n",
        "      <td> 0.139780</td>\n",
        "    </tr>\n",
        "    <tr>\n",
        "      <td><strong>4</strong></td>\n",
        "      <td> 24.59</td>\n",
        "      <td> 3.61</td>\n",
        "      <td> Female</td>\n",
        "      <td> No</td>\n",
        "      <td> Sun</td>\n",
        "      <td> Dinner</td>\n",
        "      <td> 4</td>\n",
        "      <td> 0.146808</td>\n",
        "    </tr>\n",
        "  </tbody>\n",
        "</table>\n",
        "</div>"
       ],
       "output_type": "pyout",
       "prompt_number": 84,
       "text": [
        "   total_bill   tip     sex smoker  day    time  size   tip_pct\n",
        "0       16.99  1.01  Female     No  Sun  Dinner     2  0.059447\n",
        "1       10.34  1.66    Male     No  Sun  Dinner     3  0.160542\n",
        "2       21.01  3.50    Male     No  Sun  Dinner     3  0.166587\n",
        "3       23.68  3.31    Male     No  Sun  Dinner     2  0.139780\n",
        "4       24.59  3.61  Female     No  Sun  Dinner     4  0.146808"
       ]
      }
     ],
     "prompt_number": 84
    },
    {
     "cell_type": "code",
     "collapsed": false,
     "input": [
      "grouped.mean()"
     ],
     "language": "python",
     "metadata": {},
     "outputs": [
      {
       "html": [
        "<div style=\"max-height:1000px;max-width:1500px;overflow:auto;\">\n",
        "<table border=\"1\" class=\"dataframe\">\n",
        "  <thead>\n",
        "    <tr style=\"text-align: right;\">\n",
        "      <th></th>\n",
        "      <th></th>\n",
        "      <th>total_bill</th>\n",
        "      <th>tip</th>\n",
        "      <th>size</th>\n",
        "      <th>tip_pct</th>\n",
        "    </tr>\n",
        "    <tr>\n",
        "      <th>sex</th>\n",
        "      <th>smoker</th>\n",
        "      <th></th>\n",
        "      <th></th>\n",
        "      <th></th>\n",
        "      <th></th>\n",
        "    </tr>\n",
        "  </thead>\n",
        "  <tbody>\n",
        "    <tr>\n",
        "      <td rowspan=\"2\" valign=\"top\"><strong>Female</strong></td>\n",
        "      <td><strong>No</strong></td>\n",
        "      <td> 18.105185</td>\n",
        "      <td> 2.773519</td>\n",
        "      <td> 2.592593</td>\n",
        "      <td> 0.156921</td>\n",
        "    </tr>\n",
        "    <tr>\n",
        "      <td><strong>Yes</strong></td>\n",
        "      <td> 17.977879</td>\n",
        "      <td> 2.931515</td>\n",
        "      <td> 2.242424</td>\n",
        "      <td> 0.182150</td>\n",
        "    </tr>\n",
        "    <tr>\n",
        "      <td rowspan=\"2\" valign=\"top\"><strong>Male</strong></td>\n",
        "      <td><strong>No</strong></td>\n",
        "      <td> 19.791237</td>\n",
        "      <td> 3.113402</td>\n",
        "      <td> 2.711340</td>\n",
        "      <td> 0.160669</td>\n",
        "    </tr>\n",
        "    <tr>\n",
        "      <td><strong>Yes</strong></td>\n",
        "      <td> 22.284500</td>\n",
        "      <td> 3.051167</td>\n",
        "      <td> 2.500000</td>\n",
        "      <td> 0.152771</td>\n",
        "    </tr>\n",
        "  </tbody>\n",
        "</table>\n",
        "</div>"
       ],
       "output_type": "pyout",
       "prompt_number": 85,
       "text": [
        "               total_bill       tip      size   tip_pct\n",
        "sex    smoker                                          \n",
        "Female No       18.105185  2.773519  2.592593  0.156921\n",
        "       Yes      17.977879  2.931515  2.242424  0.182150\n",
        "Male   No       19.791237  3.113402  2.711340  0.160669\n",
        "       Yes      22.284500  3.051167  2.500000  0.152771"
       ]
      }
     ],
     "prompt_number": 85
    },
    {
     "cell_type": "code",
     "collapsed": false,
     "input": [
      "from datetime import datetime"
     ],
     "language": "python",
     "metadata": {},
     "outputs": [],
     "prompt_number": 86
    },
    {
     "cell_type": "code",
     "collapsed": false,
     "input": [
      "now = datetime.now()"
     ],
     "language": "python",
     "metadata": {},
     "outputs": [],
     "prompt_number": 87
    },
    {
     "cell_type": "code",
     "collapsed": false,
     "input": [
      "now.year,now.month, now.day"
     ],
     "language": "python",
     "metadata": {},
     "outputs": [
      {
       "output_type": "pyout",
       "prompt_number": 88,
       "text": [
        "(2013, 1, 1)"
       ]
      }
     ],
     "prompt_number": 88
    },
    {
     "cell_type": "code",
     "collapsed": false,
     "input": [
      "s1 = Series([0,1],index=list('ab'))"
     ],
     "language": "python",
     "metadata": {},
     "outputs": [],
     "prompt_number": 89
    },
    {
     "cell_type": "code",
     "collapsed": false,
     "input": [
      "s1"
     ],
     "language": "python",
     "metadata": {},
     "outputs": [
      {
       "output_type": "pyout",
       "prompt_number": 90,
       "text": [
        "a    0\n",
        "b    1"
       ]
      }
     ],
     "prompt_number": 90
    },
    {
     "cell_type": "code",
     "collapsed": false,
     "input": [
      "s2 = Series([2,3,4],index=list('cde'))"
     ],
     "language": "python",
     "metadata": {},
     "outputs": [],
     "prompt_number": 91
    },
    {
     "cell_type": "code",
     "collapsed": false,
     "input": [
      "s3 = Series([5,6],index=list('fg'))"
     ],
     "language": "python",
     "metadata": {},
     "outputs": [],
     "prompt_number": 92
    },
    {
     "cell_type": "code",
     "collapsed": false,
     "input": [
      "s1"
     ],
     "language": "python",
     "metadata": {},
     "outputs": [
      {
       "output_type": "pyout",
       "prompt_number": 93,
       "text": [
        "a    0\n",
        "b    1"
       ]
      }
     ],
     "prompt_number": 93
    },
    {
     "cell_type": "code",
     "collapsed": false,
     "input": [
      "s2"
     ],
     "language": "python",
     "metadata": {},
     "outputs": [
      {
       "output_type": "pyout",
       "prompt_number": 94,
       "text": [
        "c    2\n",
        "d    3\n",
        "e    4"
       ]
      }
     ],
     "prompt_number": 94
    },
    {
     "cell_type": "code",
     "collapsed": false,
     "input": [
      "s3"
     ],
     "language": "python",
     "metadata": {},
     "outputs": [
      {
       "output_type": "pyout",
       "prompt_number": 95,
       "text": [
        "f    5\n",
        "g    6"
       ]
      }
     ],
     "prompt_number": 95
    },
    {
     "cell_type": "code",
     "collapsed": false,
     "input": [
      "pd.concat([s1,s2,s3])"
     ],
     "language": "python",
     "metadata": {},
     "outputs": [
      {
       "output_type": "pyout",
       "prompt_number": 96,
       "text": [
        "a    0\n",
        "b    1\n",
        "c    2\n",
        "d    3\n",
        "e    4\n",
        "f    5\n",
        "g    6"
       ]
      }
     ],
     "prompt_number": 96
    },
    {
     "cell_type": "code",
     "collapsed": false,
     "input": [
      "data = DataFrame(randn(1000,4))"
     ],
     "language": "python",
     "metadata": {},
     "outputs": [],
     "prompt_number": 97
    },
    {
     "cell_type": "code",
     "collapsed": false,
     "input": [
      "data.describe()"
     ],
     "language": "python",
     "metadata": {},
     "outputs": [
      {
       "html": [
        "<div style=\"max-height:1000px;max-width:1500px;overflow:auto;\">\n",
        "<table border=\"1\" class=\"dataframe\">\n",
        "  <thead>\n",
        "    <tr style=\"text-align: right;\">\n",
        "      <th></th>\n",
        "      <th>0</th>\n",
        "      <th>1</th>\n",
        "      <th>2</th>\n",
        "      <th>3</th>\n",
        "    </tr>\n",
        "  </thead>\n",
        "  <tbody>\n",
        "    <tr>\n",
        "      <td><strong>count</strong></td>\n",
        "      <td> 1000.000000</td>\n",
        "      <td> 1000.000000</td>\n",
        "      <td> 1000.000000</td>\n",
        "      <td> 1000.000000</td>\n",
        "    </tr>\n",
        "    <tr>\n",
        "      <td><strong>mean</strong></td>\n",
        "      <td>   -0.042179</td>\n",
        "      <td>    0.024335</td>\n",
        "      <td>    0.002748</td>\n",
        "      <td>    0.016687</td>\n",
        "    </tr>\n",
        "    <tr>\n",
        "      <td><strong>std</strong></td>\n",
        "      <td>    1.010367</td>\n",
        "      <td>    0.975005</td>\n",
        "      <td>    1.038280</td>\n",
        "      <td>    0.983501</td>\n",
        "    </tr>\n",
        "    <tr>\n",
        "      <td><strong>min</strong></td>\n",
        "      <td>   -3.032539</td>\n",
        "      <td>   -3.869013</td>\n",
        "      <td>   -3.448951</td>\n",
        "      <td>   -3.392561</td>\n",
        "    </tr>\n",
        "    <tr>\n",
        "      <td><strong>25%</strong></td>\n",
        "      <td>   -0.787956</td>\n",
        "      <td>   -0.611356</td>\n",
        "      <td>   -0.733197</td>\n",
        "      <td>   -0.651961</td>\n",
        "    </tr>\n",
        "    <tr>\n",
        "      <td><strong>50%</strong></td>\n",
        "      <td>    0.007828</td>\n",
        "      <td>    0.020482</td>\n",
        "      <td>   -0.036833</td>\n",
        "      <td>   -0.002036</td>\n",
        "    </tr>\n",
        "    <tr>\n",
        "      <td><strong>75%</strong></td>\n",
        "      <td>    0.651859</td>\n",
        "      <td>    0.728418</td>\n",
        "      <td>    0.674870</td>\n",
        "      <td>    0.638428</td>\n",
        "    </tr>\n",
        "    <tr>\n",
        "      <td><strong>max</strong></td>\n",
        "      <td>    2.979972</td>\n",
        "      <td>    3.273925</td>\n",
        "      <td>    3.144538</td>\n",
        "      <td>    3.006107</td>\n",
        "    </tr>\n",
        "  </tbody>\n",
        "</table>\n",
        "</div>"
       ],
       "output_type": "pyout",
       "prompt_number": 99,
       "text": [
        "                 0            1            2            3\n",
        "count  1000.000000  1000.000000  1000.000000  1000.000000\n",
        "mean     -0.042179     0.024335     0.002748     0.016687\n",
        "std       1.010367     0.975005     1.038280     0.983501\n",
        "min      -3.032539    -3.869013    -3.448951    -3.392561\n",
        "25%      -0.787956    -0.611356    -0.733197    -0.651961\n",
        "50%       0.007828     0.020482    -0.036833    -0.002036\n",
        "75%       0.651859     0.728418     0.674870     0.638428\n",
        "max       2.979972     3.273925     3.144538     3.006107"
       ]
      }
     ],
     "prompt_number": 99
    },
    {
     "cell_type": "code",
     "collapsed": false,
     "input": [
      "col = data[3]"
     ],
     "language": "python",
     "metadata": {},
     "outputs": [],
     "prompt_number": 100
    },
    {
     "cell_type": "code",
     "collapsed": false,
     "input": [
      "col[np.abs(col) > 3]"
     ],
     "language": "python",
     "metadata": {},
     "outputs": [
      {
       "output_type": "pyout",
       "prompt_number": 101,
       "text": [
        "297    3.006107\n",
        "608   -3.392561\n",
        "Name: 3"
       ]
      }
     ],
     "prompt_number": 101
    },
    {
     "cell_type": "code",
     "collapsed": false,
     "input": [
      "col"
     ],
     "language": "python",
     "metadata": {},
     "outputs": [
      {
       "output_type": "pyout",
       "prompt_number": 102,
       "text": [
        "0    -0.212965\n",
        "1     0.938011\n",
        "2    -1.371965\n",
        "3    -0.676417\n",
        "4     0.655001\n",
        "5    -0.439247\n",
        "6    -1.043663\n",
        "7    -0.124710\n",
        "8    -0.765863\n",
        "9    -1.552385\n",
        "10    0.845221\n",
        "11    0.555677\n",
        "12    0.178682\n",
        "13    0.844099\n",
        "14   -0.372611\n",
        "...\n",
        "985   -2.234928\n",
        "986    0.113525\n",
        "987   -1.080681\n",
        "988   -0.047396\n",
        "989   -0.367247\n",
        "990   -0.158348\n",
        "991   -1.213515\n",
        "992    0.381783\n",
        "993   -0.079564\n",
        "994   -1.102013\n",
        "995   -2.284412\n",
        "996   -0.096090\n",
        "997   -0.471043\n",
        "998   -1.026742\n",
        "999    0.611915\n",
        "Name: 3, Length: 1000"
       ]
      }
     ],
     "prompt_number": 102
    },
    {
     "cell_type": "code",
     "collapsed": false,
     "input": [
      "df = DataFrame({'key': ['b', 'b', 'a', 'c', 'a', 'b'], 'data1': range(6)})"
     ],
     "language": "python",
     "metadata": {},
     "outputs": [],
     "prompt_number": 104
    },
    {
     "cell_type": "code",
     "collapsed": false,
     "input": [
      "df"
     ],
     "language": "python",
     "metadata": {},
     "outputs": [
      {
       "html": [
        "<div style=\"max-height:1000px;max-width:1500px;overflow:auto;\">\n",
        "<table border=\"1\" class=\"dataframe\">\n",
        "  <thead>\n",
        "    <tr style=\"text-align: right;\">\n",
        "      <th></th>\n",
        "      <th>data1</th>\n",
        "      <th>key</th>\n",
        "    </tr>\n",
        "  </thead>\n",
        "  <tbody>\n",
        "    <tr>\n",
        "      <td><strong>0</strong></td>\n",
        "      <td> 0</td>\n",
        "      <td> b</td>\n",
        "    </tr>\n",
        "    <tr>\n",
        "      <td><strong>1</strong></td>\n",
        "      <td> 1</td>\n",
        "      <td> b</td>\n",
        "    </tr>\n",
        "    <tr>\n",
        "      <td><strong>2</strong></td>\n",
        "      <td> 2</td>\n",
        "      <td> a</td>\n",
        "    </tr>\n",
        "    <tr>\n",
        "      <td><strong>3</strong></td>\n",
        "      <td> 3</td>\n",
        "      <td> c</td>\n",
        "    </tr>\n",
        "    <tr>\n",
        "      <td><strong>4</strong></td>\n",
        "      <td> 4</td>\n",
        "      <td> a</td>\n",
        "    </tr>\n",
        "    <tr>\n",
        "      <td><strong>5</strong></td>\n",
        "      <td> 5</td>\n",
        "      <td> b</td>\n",
        "    </tr>\n",
        "  </tbody>\n",
        "</table>\n",
        "</div>"
       ],
       "output_type": "pyout",
       "prompt_number": 105,
       "text": [
        "   data1 key\n",
        "0      0   b\n",
        "1      1   b\n",
        "2      2   a\n",
        "3      3   c\n",
        "4      4   a\n",
        "5      5   b"
       ]
      }
     ],
     "prompt_number": 105
    },
    {
     "cell_type": "code",
     "collapsed": false,
     "input": [
      "pd.get_dummies(df['key'])"
     ],
     "language": "python",
     "metadata": {},
     "outputs": [
      {
       "html": [
        "<div style=\"max-height:1000px;max-width:1500px;overflow:auto;\">\n",
        "<table border=\"1\" class=\"dataframe\">\n",
        "  <thead>\n",
        "    <tr style=\"text-align: right;\">\n",
        "      <th></th>\n",
        "      <th>a</th>\n",
        "      <th>b</th>\n",
        "      <th>c</th>\n",
        "    </tr>\n",
        "  </thead>\n",
        "  <tbody>\n",
        "    <tr>\n",
        "      <td><strong>0</strong></td>\n",
        "      <td> 0</td>\n",
        "      <td> 1</td>\n",
        "      <td> 0</td>\n",
        "    </tr>\n",
        "    <tr>\n",
        "      <td><strong>1</strong></td>\n",
        "      <td> 0</td>\n",
        "      <td> 1</td>\n",
        "      <td> 0</td>\n",
        "    </tr>\n",
        "    <tr>\n",
        "      <td><strong>2</strong></td>\n",
        "      <td> 1</td>\n",
        "      <td> 0</td>\n",
        "      <td> 0</td>\n",
        "    </tr>\n",
        "    <tr>\n",
        "      <td><strong>3</strong></td>\n",
        "      <td> 0</td>\n",
        "      <td> 0</td>\n",
        "      <td> 1</td>\n",
        "    </tr>\n",
        "    <tr>\n",
        "      <td><strong>4</strong></td>\n",
        "      <td> 1</td>\n",
        "      <td> 0</td>\n",
        "      <td> 0</td>\n",
        "    </tr>\n",
        "    <tr>\n",
        "      <td><strong>5</strong></td>\n",
        "      <td> 0</td>\n",
        "      <td> 1</td>\n",
        "      <td> 0</td>\n",
        "    </tr>\n",
        "  </tbody>\n",
        "</table>\n",
        "</div>"
       ],
       "output_type": "pyout",
       "prompt_number": 106,
       "text": [
        "   a  b  c\n",
        "0  0  1  0\n",
        "1  0  1  0\n",
        "2  1  0  0\n",
        "3  0  0  1\n",
        "4  1  0  0\n",
        "5  0  1  0"
       ]
      }
     ],
     "prompt_number": 106
    },
    {
     "cell_type": "code",
     "collapsed": false,
     "input": [
      "people = DataFrame(np.random.randn(5, 5), columns=['a', 'b', 'c', 'd', 'e'],\n",
      "index=['Joe', 'Steve', 'Wes', 'Jim', 'Travis'])"
     ],
     "language": "python",
     "metadata": {},
     "outputs": [],
     "prompt_number": 107
    },
    {
     "cell_type": "code",
     "collapsed": false,
     "input": [
      "people"
     ],
     "language": "python",
     "metadata": {},
     "outputs": [
      {
       "html": [
        "<div style=\"max-height:1000px;max-width:1500px;overflow:auto;\">\n",
        "<table border=\"1\" class=\"dataframe\">\n",
        "  <thead>\n",
        "    <tr style=\"text-align: right;\">\n",
        "      <th></th>\n",
        "      <th>a</th>\n",
        "      <th>b</th>\n",
        "      <th>c</th>\n",
        "      <th>d</th>\n",
        "      <th>e</th>\n",
        "    </tr>\n",
        "  </thead>\n",
        "  <tbody>\n",
        "    <tr>\n",
        "      <td><strong>Joe</strong></td>\n",
        "      <td> 0.493559</td>\n",
        "      <td>-1.252834</td>\n",
        "      <td> 0.836168</td>\n",
        "      <td>-0.296185</td>\n",
        "      <td> 0.160143</td>\n",
        "    </tr>\n",
        "    <tr>\n",
        "      <td><strong>Steve</strong></td>\n",
        "      <td> 0.883071</td>\n",
        "      <td> 0.224674</td>\n",
        "      <td>-1.354842</td>\n",
        "      <td> 1.246621</td>\n",
        "      <td> 0.067097</td>\n",
        "    </tr>\n",
        "    <tr>\n",
        "      <td><strong>Wes</strong></td>\n",
        "      <td> 1.331358</td>\n",
        "      <td>-0.940260</td>\n",
        "      <td> 1.071227</td>\n",
        "      <td> 0.090928</td>\n",
        "      <td> 2.284111</td>\n",
        "    </tr>\n",
        "    <tr>\n",
        "      <td><strong>Jim</strong></td>\n",
        "      <td> 0.452017</td>\n",
        "      <td> 0.738931</td>\n",
        "      <td>-0.009863</td>\n",
        "      <td> 0.647618</td>\n",
        "      <td> 0.929332</td>\n",
        "    </tr>\n",
        "    <tr>\n",
        "      <td><strong>Travis</strong></td>\n",
        "      <td> 0.071685</td>\n",
        "      <td>-0.842307</td>\n",
        "      <td>-1.787603</td>\n",
        "      <td> 2.300044</td>\n",
        "      <td>-0.214043</td>\n",
        "    </tr>\n",
        "  </tbody>\n",
        "</table>\n",
        "</div>"
       ],
       "output_type": "pyout",
       "prompt_number": 108,
       "text": [
        "               a         b         c         d         e\n",
        "Joe     0.493559 -1.252834  0.836168 -0.296185  0.160143\n",
        "Steve   0.883071  0.224674 -1.354842  1.246621  0.067097\n",
        "Wes     1.331358 -0.940260  1.071227  0.090928  2.284111\n",
        "Jim     0.452017  0.738931 -0.009863  0.647618  0.929332\n",
        "Travis  0.071685 -0.842307 -1.787603  2.300044 -0.214043"
       ]
      }
     ],
     "prompt_number": 108
    },
    {
     "cell_type": "code",
     "collapsed": false,
     "input": [
      "people.ix['Steve':'Jim', ['b','c']] = np.nan"
     ],
     "language": "python",
     "metadata": {},
     "outputs": [],
     "prompt_number": 109
    },
    {
     "cell_type": "code",
     "collapsed": false,
     "input": [
      "people"
     ],
     "language": "python",
     "metadata": {},
     "outputs": [
      {
       "html": [
        "<div style=\"max-height:1000px;max-width:1500px;overflow:auto;\">\n",
        "<table border=\"1\" class=\"dataframe\">\n",
        "  <thead>\n",
        "    <tr style=\"text-align: right;\">\n",
        "      <th></th>\n",
        "      <th>a</th>\n",
        "      <th>b</th>\n",
        "      <th>c</th>\n",
        "      <th>d</th>\n",
        "      <th>e</th>\n",
        "    </tr>\n",
        "  </thead>\n",
        "  <tbody>\n",
        "    <tr>\n",
        "      <td><strong>Joe</strong></td>\n",
        "      <td> 0.493559</td>\n",
        "      <td>-1.252834</td>\n",
        "      <td> 0.836168</td>\n",
        "      <td>-0.296185</td>\n",
        "      <td> 0.160143</td>\n",
        "    </tr>\n",
        "    <tr>\n",
        "      <td><strong>Steve</strong></td>\n",
        "      <td> 0.883071</td>\n",
        "      <td>      NaN</td>\n",
        "      <td>      NaN</td>\n",
        "      <td> 1.246621</td>\n",
        "      <td> 0.067097</td>\n",
        "    </tr>\n",
        "    <tr>\n",
        "      <td><strong>Wes</strong></td>\n",
        "      <td> 1.331358</td>\n",
        "      <td>      NaN</td>\n",
        "      <td>      NaN</td>\n",
        "      <td> 0.090928</td>\n",
        "      <td> 2.284111</td>\n",
        "    </tr>\n",
        "    <tr>\n",
        "      <td><strong>Jim</strong></td>\n",
        "      <td> 0.452017</td>\n",
        "      <td>      NaN</td>\n",
        "      <td>      NaN</td>\n",
        "      <td> 0.647618</td>\n",
        "      <td> 0.929332</td>\n",
        "    </tr>\n",
        "    <tr>\n",
        "      <td><strong>Travis</strong></td>\n",
        "      <td> 0.071685</td>\n",
        "      <td>-0.842307</td>\n",
        "      <td>-1.787603</td>\n",
        "      <td> 2.300044</td>\n",
        "      <td>-0.214043</td>\n",
        "    </tr>\n",
        "  </tbody>\n",
        "</table>\n",
        "</div>"
       ],
       "output_type": "pyout",
       "prompt_number": 110,
       "text": [
        "               a         b         c         d         e\n",
        "Joe     0.493559 -1.252834  0.836168 -0.296185  0.160143\n",
        "Steve   0.883071       NaN       NaN  1.246621  0.067097\n",
        "Wes     1.331358       NaN       NaN  0.090928  2.284111\n",
        "Jim     0.452017       NaN       NaN  0.647618  0.929332\n",
        "Travis  0.071685 -0.842307 -1.787603  2.300044 -0.214043"
       ]
      }
     ],
     "prompt_number": 110
    },
    {
     "cell_type": "code",
     "collapsed": false,
     "input": [
      "l1 = [1,2,3]\n",
      "l2 = ['a','b','c']"
     ],
     "language": "python",
     "metadata": {},
     "outputs": [],
     "prompt_number": 112
    },
    {
     "cell_type": "code",
     "collapsed": false,
     "input": [
      "zip(l1,l2)"
     ],
     "language": "python",
     "metadata": {},
     "outputs": [
      {
       "output_type": "pyout",
       "prompt_number": 114,
       "text": [
        "[(1, 'a'), (2, 'b'), (3, 'c')]"
       ]
      }
     ],
     "prompt_number": 114
    },
    {
     "cell_type": "code",
     "collapsed": false,
     "input": [],
     "language": "python",
     "metadata": {},
     "outputs": []
    }
   ],
   "metadata": {}
  }
 ]
}