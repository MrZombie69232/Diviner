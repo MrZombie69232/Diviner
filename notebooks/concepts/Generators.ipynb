{
 "metadata": {
  "name": "",
  "signature": "sha256:7ca3fca646d2fc6ffa2fa986e311b9030ce352b962690dcebd2a6e52a3203d07"
 },
 "nbformat": 3,
 "nbformat_minor": 0,
 "worksheets": [
  {
   "cells": [
    {
     "cell_type": "code",
     "collapsed": false,
     "input": [
      "import random \n",
      "\n",
      "def get_data():\n",
      "    return random.sample(range(10), 3)\n",
      "\n",
      "def consume():\n",
      "    running_sum = 0\n",
      "    data_items_seen = 0\n",
      "    while True:\n",
      "        data = yield\n",
      "        data_items_seen += len(data)\n",
      "        running_sum += sum(data)\n",
      "        print('The running average is {}'.format(running_sum / float(data_items_seen)))\n",
      "        print('Items seen: {}'.format(data_items_seen))\n",
      "        \n",
      "def produce(consumer):\n",
      "    while True:\n",
      "        data = get_data()\n",
      "        print('Produced {}'.format(data))\n",
      "        consumer.send(data)\n",
      "        yield\n",
      "        "
     ],
     "language": "python",
     "metadata": {},
     "outputs": [],
     "prompt_number": 18
    },
    {
     "cell_type": "code",
     "collapsed": false,
     "input": [
      "consumer = consume()"
     ],
     "language": "python",
     "metadata": {},
     "outputs": [],
     "prompt_number": 19
    },
    {
     "cell_type": "code",
     "collapsed": false,
     "input": [
      "consumer.send(None)"
     ],
     "language": "python",
     "metadata": {},
     "outputs": [],
     "prompt_number": 20
    },
    {
     "cell_type": "code",
     "collapsed": false,
     "input": [
      "producer = produce(consumer)"
     ],
     "language": "python",
     "metadata": {},
     "outputs": [],
     "prompt_number": 21
    },
    {
     "cell_type": "code",
     "collapsed": false,
     "input": [
      "next(producer)"
     ],
     "language": "python",
     "metadata": {},
     "outputs": [
      {
       "output_type": "stream",
       "stream": "stdout",
       "text": [
        "Produced [4, 9, 2]\n",
        "The running average is 3.94444444444\n",
        "Items seen: 18\n"
       ]
      }
     ],
     "prompt_number": 27
    },
    {
     "cell_type": "code",
     "collapsed": false,
     "input": [],
     "language": "python",
     "metadata": {},
     "outputs": []
    }
   ],
   "metadata": {}
  }
 ]
}