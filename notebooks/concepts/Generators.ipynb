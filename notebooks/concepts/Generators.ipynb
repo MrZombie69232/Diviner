{
 "metadata": {
  "name": "",
  "signature": "sha256:10a8929bf26b2f25d1b367e89a2786ca574dc37a3615f7b2232ac6e1ff8eff30"
 },
 "nbformat": 3,
 "nbformat_minor": 0,
 "worksheets": [
  {
   "cells": [
    {
     "cell_type": "code",
     "collapsed": false,
     "input": [
      "import random \n",
      "\n",
      "def get_data():\n",
      "    return random.sample(range(10), 3)\n",
      "\n",
      "def consume():\n",
      "    running_sum = 0\n",
      "    data_items_seen = 0\n",
      "    while True:\n",
      "        data = yield\n",
      "        data_items_seen += len(data)\n",
      "        running_sum += sum(data)\n",
      "        print('The running average is {}'.format(running_sum / float(data_items_seen)))\n",
      "        print('Items seen: {}'.format(data_items_seen))\n",
      "        \n",
      "def produce(consumer):\n",
      "    while True:\n",
      "        data = get_data()\n",
      "        print('Produced {}'.format(data))\n",
      "        consumer.send(data)\n",
      "        yield\n",
      "        "
     ],
     "language": "python",
     "metadata": {},
     "outputs": [],
     "prompt_number": 18
    },
    {
     "cell_type": "code",
     "collapsed": false,
     "input": [
      "consumer = consume()"
     ],
     "language": "python",
     "metadata": {},
     "outputs": [],
     "prompt_number": 19
    },
    {
     "cell_type": "code",
     "collapsed": false,
     "input": [
      "consumer.send(None)"
     ],
     "language": "python",
     "metadata": {},
     "outputs": [],
     "prompt_number": 20
    },
    {
     "cell_type": "code",
     "collapsed": false,
     "input": [
      "producer = produce(consumer)"
     ],
     "language": "python",
     "metadata": {},
     "outputs": [],
     "prompt_number": 21
    },
    {
     "cell_type": "code",
     "collapsed": false,
     "input": [
      "next(producer)"
     ],
     "language": "python",
     "metadata": {},
     "outputs": [
      {
       "output_type": "stream",
       "stream": "stdout",
       "text": [
        "Produced [4, 9, 2]\n",
        "The running average is 3.94444444444\n",
        "Items seen: 18\n"
       ]
      }
     ],
     "prompt_number": 27
    },
    {
     "cell_type": "code",
     "collapsed": false,
     "input": [],
     "language": "python",
     "metadata": {},
     "outputs": []
    }
   ],
   "metadata": {}
  }
 ]
}