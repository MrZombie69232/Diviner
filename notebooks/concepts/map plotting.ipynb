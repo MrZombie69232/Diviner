{
 "metadata": {
  "name": "",
  "signature": "sha256:4c96116c4578254f234a656a97404450fcf749a0a24a501af38fd38db1fc8eb4"
 },
 "nbformat": 3,
 "nbformat_minor": 0,
 "worksheets": [
  {
   "cells": [
    {
     "cell_type": "code",
     "collapsed": false,
     "input": [
      "import pandas as pd"
     ],
     "language": "python",
     "metadata": {},
     "outputs": [],
     "prompt_number": 1
    },
    {
     "cell_type": "code",
     "collapsed": false,
     "input": [
      "pd.__version__"
     ],
     "language": "python",
     "metadata": {},
     "outputs": [
      {
       "metadata": {},
       "output_type": "pyout",
       "prompt_number": 2,
       "text": [
        "'0.12.0'"
       ]
      }
     ],
     "prompt_number": 2
    },
    {
     "cell_type": "code",
     "collapsed": false,
     "input": [
      "bounding_lat = -85"
     ],
     "language": "python",
     "metadata": {},
     "outputs": [],
     "prompt_number": 3
    },
    {
     "cell_type": "code",
     "collapsed": false,
     "input": [
      "store = pd.HDFStore('/u/paige/maye/rdr20_month_samples/divdata.h5')"
     ],
     "language": "python",
     "metadata": {},
     "outputs": [],
     "prompt_number": 4
    },
    {
     "cell_type": "code",
     "collapsed": false,
     "input": [
      "store"
     ],
     "language": "python",
     "metadata": {},
     "outputs": [
      {
       "metadata": {},
       "output_type": "pyout",
       "prompt_number": 5,
       "text": [
        "<class 'pandas.io.pytables.HDFStore'>\n",
        "File path: /u/paige/maye/rdr20_month_samples/divdata.h5\n",
        "/old_day              frame        (shape->[3636029,4])\n",
        "/old_night            frame        (shape->[3959388,4])"
       ]
      }
     ],
     "prompt_number": 5
    },
    {
     "cell_type": "code",
     "collapsed": false,
     "input": [
      "old_night = store['old_night'] \n",
      "old_day = store['old_day'] "
     ],
     "language": "python",
     "metadata": {},
     "outputs": [],
     "prompt_number": 6
    },
    {
     "cell_type": "code",
     "collapsed": false,
     "input": [
      "store.close()"
     ],
     "language": "python",
     "metadata": {},
     "outputs": [],
     "prompt_number": 7
    },
    {
     "cell_type": "code",
     "collapsed": false,
     "input": [
      "kind='no_rad_corr'\n",
      "chid = 'C9_sorted'"
     ],
     "language": "python",
     "metadata": {},
     "outputs": [],
     "prompt_number": 8
    },
    {
     "cell_type": "code",
     "collapsed": false,
     "input": [
      "path = '/raid1/maye/rdr20_month_samples/'+ kind+'/'+chid+'.h5'\n",
      "path"
     ],
     "language": "python",
     "metadata": {},
     "outputs": [
      {
       "metadata": {},
       "output_type": "pyout",
       "prompt_number": 9,
       "text": [
        "'/raid1/maye/rdr20_month_samples/no_rad_corr/C9_sorted.h5'"
       ]
      }
     ],
     "prompt_number": 9
    },
    {
     "cell_type": "code",
     "collapsed": false,
     "input": [
      "store = pd.HDFStore(path)"
     ],
     "language": "python",
     "metadata": {},
     "outputs": [],
     "prompt_number": 10
    },
    {
     "cell_type": "code",
     "collapsed": false,
     "input": [
      "mine = store.select('df', [pd.Term('clat < -85')], columns=['clat','clon','cloctime','tb'])"
     ],
     "language": "python",
     "metadata": {},
     "outputs": [],
     "prompt_number": 11
    },
    {
     "cell_type": "code",
     "collapsed": false,
     "input": [
      "mine = pd.io.parsers.read_csv('/raid1/maye/rdr20_month_samples/no_rad_corr/2013030101_C9_no_rad_corr_RDR20.csv')"
     ],
     "language": "python",
     "metadata": {},
     "outputs": [],
     "prompt_number": 64
    },
    {
     "cell_type": "code",
     "collapsed": false,
     "input": [
      "mine_night = mine[(mine.cloctime > 18) | (mine.cloctime < 6)]\n",
      "mine_day = mine[(mine.cloctime < 18 ) & (mine.cloctime > 6) ]"
     ],
     "language": "python",
     "metadata": {},
     "outputs": [],
     "prompt_number": 65
    },
    {
     "cell_type": "code",
     "collapsed": false,
     "input": [
      "store.close()"
     ],
     "language": "python",
     "metadata": {},
     "outputs": [],
     "prompt_number": 23
    },
    {
     "cell_type": "code",
     "collapsed": false,
     "input": [
      "mine_day"
     ],
     "language": "python",
     "metadata": {},
     "outputs": [
      {
       "html": [
        "<pre>\n",
        "&lt;class 'pandas.core.frame.DataFrame'&gt;\n",
        "Int64Index: 318943 entries, 10242 to 533987\n",
        "Data columns (total 25 columns):\n",
        "date        318943  non-null values\n",
        "utc         318943  non-null values\n",
        "det         318943  non-null values\n",
        "radiance    318943  non-null values\n",
        "tb          318943  non-null values\n",
        "jdate       318943  non-null values\n",
        "clat        318943  non-null values\n",
        "clon        318943  non-null values\n",
        "sclat       318943  non-null values\n",
        "sclon       318943  non-null values\n",
        "scrad       318943  non-null values\n",
        "vert_lat    318943  non-null values\n",
        "vert_lon    318943  non-null values\n",
        "sunlat      318943  non-null values\n",
        "sunlon      318943  non-null values\n",
        "sundst      318943  non-null values\n",
        "orbit       318943  non-null values\n",
        "scalt       318943  non-null values\n",
        "af          318943  non-null values\n",
        "c           318943  non-null values\n",
        "cemis       318943  non-null values\n",
        "cloctime    318943  non-null values\n",
        "qca         318943  non-null values\n",
        "qge         318943  non-null values\n",
        "qmi         318943  non-null values\n",
        "dtypes: float64(16), int64(7), object(2)\n",
        "</pre>"
       ],
       "metadata": {},
       "output_type": "pyout",
       "prompt_number": 66,
       "text": [
        "<class 'pandas.core.frame.DataFrame'>\n",
        "Int64Index: 318943 entries, 10242 to 533987\n",
        "Data columns (total 25 columns):\n",
        "date        318943  non-null values\n",
        "utc         318943  non-null values\n",
        "det         318943  non-null values\n",
        "radiance    318943  non-null values\n",
        "tb          318943  non-null values\n",
        "jdate       318943  non-null values\n",
        "clat        318943  non-null values\n",
        "clon        318943  non-null values\n",
        "sclat       318943  non-null values\n",
        "sclon       318943  non-null values\n",
        "scrad       318943  non-null values\n",
        "vert_lat    318943  non-null values\n",
        "vert_lon    318943  non-null values\n",
        "sunlat      318943  non-null values\n",
        "sunlon      318943  non-null values\n",
        "sundst      318943  non-null values\n",
        "orbit       318943  non-null values\n",
        "scalt       318943  non-null values\n",
        "af          318943  non-null values\n",
        "c           318943  non-null values\n",
        "cemis       318943  non-null values\n",
        "cloctime    318943  non-null values\n",
        "qca         318943  non-null values\n",
        "qge         318943  non-null values\n",
        "qmi         318943  non-null values\n",
        "dtypes: float64(16), int64(7), object(2)"
       ]
      }
     ],
     "prompt_number": 66
    },
    {
     "cell_type": "code",
     "collapsed": false,
     "input": [
      "df = mine_day"
     ],
     "language": "python",
     "metadata": {},
     "outputs": [],
     "prompt_number": 67
    },
    {
     "cell_type": "code",
     "collapsed": false,
     "input": [
      "from mpl_toolkits.basemap import Basemap\n",
      "\n",
      "# create south polar stereographic basemap\n",
      "m = Basemap(lon_0=180, boundinglat=bounding_lat, projection='spstere',round=True)\n",
      "\n",
      "lats = df.clat\n",
      "lons = df.clon\n",
      "tb = df.tb\n",
      "# convert to map projection coordinates.\n",
      "x1, y1 = m(lons, lats)"
     ],
     "language": "python",
     "metadata": {},
     "outputs": [],
     "prompt_number": 68
    },
    {
     "cell_type": "code",
     "collapsed": false,
     "input": [
      "# remove points outside projection limb.\n",
      "x = np.compress(np.logical_or(x1 < 1.e20,y1 < 1.e20), x1)\n",
      "y = np.compress(np.logical_or(x1 < 1.e20,y1 < 1.e20), y1)\n",
      "tb = np.compress(np.logical_or(x1 < 1.e20, y1<1.e20), tb)"
     ],
     "language": "python",
     "metadata": {},
     "outputs": [],
     "prompt_number": 69
    },
    {
     "cell_type": "code",
     "collapsed": false,
     "input": [
      "len(lats)"
     ],
     "language": "python",
     "metadata": {},
     "outputs": [
      {
       "metadata": {},
       "output_type": "pyout",
       "prompt_number": 70,
       "text": [
        "318943"
       ]
      }
     ],
     "prompt_number": 70
    },
    {
     "cell_type": "code",
     "collapsed": false,
     "input": [
      "gridpts = 1000"
     ],
     "language": "python",
     "metadata": {},
     "outputs": [],
     "prompt_number": 71
    },
    {
     "cell_type": "code",
     "collapsed": false,
     "input": [
      "bincount, xedges, yedges = histogram2d(x,y,bins=gridpts)"
     ],
     "language": "python",
     "metadata": {},
     "outputs": [],
     "prompt_number": 72
    },
    {
     "cell_type": "code",
     "collapsed": false,
     "input": [
      "mask = bincount == 0"
     ],
     "language": "python",
     "metadata": {},
     "outputs": [],
     "prompt_number": 73
    },
    {
     "cell_type": "code",
     "collapsed": false,
     "input": [
      "bincount = where(bincount == 0, 1, bincount)"
     ],
     "language": "python",
     "metadata": {},
     "outputs": [],
     "prompt_number": 74
    },
    {
     "cell_type": "code",
     "collapsed": false,
     "input": [
      "H, xedges, yedges = histogram2d(x,y, bins=gridpts, weights=tb)"
     ],
     "language": "python",
     "metadata": {},
     "outputs": [],
     "prompt_number": 75
    },
    {
     "cell_type": "code",
     "collapsed": false,
     "input": [
      "H = ma.masked_where(mask, H/bincount)"
     ],
     "language": "python",
     "metadata": {},
     "outputs": [],
     "prompt_number": 76
    },
    {
     "cell_type": "code",
     "collapsed": false,
     "input": [
      "Hdiff = H-H2"
     ],
     "language": "python",
     "metadata": {},
     "outputs": [],
     "prompt_number": 34
    },
    {
     "cell_type": "code",
     "collapsed": false,
     "input": [
      "palette = cm.jet"
     ],
     "language": "python",
     "metadata": {},
     "outputs": [],
     "prompt_number": 77
    },
    {
     "cell_type": "code",
     "collapsed": false,
     "input": [
      "ax = gca()\n",
      "palette.set_bad(ax.get_axis_bgcolor(), 1.0)\n",
      "CS = m.pcolormesh(xedges, yedges, H.T, shading='flat',cmap=palette,\n",
      "                  #vmax=4,vmin=-4,\n",
      "                  )\n",
      "m.colorbar()\n",
      "savefig('_'.join(['southpole',chid,kind,str(gridpts),'old','day'])+'.png',dpi=300)"
     ],
     "language": "python",
     "metadata": {},
     "outputs": [
      {
       "metadata": {},
       "output_type": "display_data",
       "png": "[encoded data removed]",
       "text": [
        "<matplotlib.figure.Figure at 0x4236c10>"
       ]
      }
     ],
     "prompt_number": 78
    },
    {
     "cell_type": "code",
     "collapsed": false,
     "input": [],
     "language": "python",
     "metadata": {},
     "outputs": []
    }
   ],
   "metadata": {}
  }
 ]
}