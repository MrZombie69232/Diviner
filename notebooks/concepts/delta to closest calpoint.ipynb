{
 "metadata": {
  "name": "",
  "signature": "sha256:8cc0a67147b758167092da5cc60f317658f743ef7943427c86152b0653c666a6"
 },
 "nbformat": 3,
 "nbformat_minor": 0,
 "worksheets": [
  {
   "cells": [
    {
     "cell_type": "code",
     "collapsed": false,
     "input": [
      "from diviner import file_utils as fu\n",
      "from diviner import plot_utils as pu\n",
      "from diviner import calib\n",
      "reload(fu)\n",
      "reload(calib)"
     ],
     "language": "python",
     "metadata": {},
     "outputs": [
      {
       "metadata": {},
       "output_type": "pyout",
       "prompt_number": 129,
       "text": [
        "<module 'diviner.calib' from '/u/paige/maye/src/diviner/diviner/calib.py'>"
       ]
      }
     ],
     "prompt_number": 129
    },
    {
     "cell_type": "code",
     "collapsed": false,
     "input": [
      "from IPython import parallel\n",
      "rc = parallel.Client()\n",
      "dview = rc.direct_view()\n",
      "lview = rc.load_balanced_view()"
     ],
     "language": "python",
     "metadata": {},
     "outputs": [],
     "prompt_number": 2
    },
    {
     "cell_type": "code",
     "collapsed": false,
     "input": [
      "def test_if_calibrates(fname):\n",
      "    from diviner import calib\n",
      "    from diviner import file_utils as fu\n",
      "    rdr2 = calib.Calibrator(fu.DivObs.from_fname(fname).get_l1a())\n",
      "    retval = \"Calibrates.\"\n",
      "    try:\n",
      "        rdr2.calibrate()\n",
      "    except ValueError:\n",
      "        retval = \"ValueError\"\n",
      "    except:\n",
      "        retval = \"Doesn't calibrate\"\n",
      "    return fname, retval"
     ],
     "language": "python",
     "metadata": {},
     "outputs": [],
     "prompt_number": 3
    },
    {
     "cell_type": "code",
     "collapsed": false,
     "input": [
      "dview['test_if_calibrates']=test_if_calibrates"
     ],
     "language": "python",
     "metadata": {},
     "outputs": [],
     "prompt_number": 4
    },
    {
     "cell_type": "code",
     "collapsed": false,
     "input": [
      "results = lview.map_async(test_if_calibrates, fu.available_l1a_files())"
     ],
     "language": "python",
     "metadata": {},
     "outputs": [],
     "prompt_number": 5
    },
    {
     "cell_type": "code",
     "collapsed": true,
     "input": [
      "for res in results:\n",
      "    print res"
     ],
     "language": "python",
     "metadata": {},
     "outputs": [
      {
       "output_type": "stream",
       "stream": "stdout",
       "text": [
        "('/Users/maye/data/diviner/l1a_data/2009070809_L1A.TAB', 'Calibrates.')\n",
        "('/Users/maye/data/diviner/l1a_data/2009092809_L1A.TAB', 'Calibrates.')"
       ]
      },
      {
       "output_type": "stream",
       "stream": "stdout",
       "text": [
        "\n",
        "('/Users/maye/data/diviner/l1a_data/2010011314_L1A.TAB', 'Calibrates.')"
       ]
      },
      {
       "output_type": "stream",
       "stream": "stdout",
       "text": [
        "\n",
        "('/Users/maye/data/diviner/l1a_data/2010011315_L1A.TAB', 'Calibrates.')"
       ]
      },
      {
       "output_type": "stream",
       "stream": "stdout",
       "text": [
        "\n",
        "('/Users/maye/data/diviner/l1a_data/2010011316_L1A.TAB', \"Doesn't calibrate\")"
       ]
      },
      {
       "output_type": "stream",
       "stream": "stdout",
       "text": [
        "\n",
        "('/Users/maye/data/diviner/l1a_data/2010011317_L1A.TAB', \"Doesn't calibrate\")"
       ]
      },
      {
       "output_type": "stream",
       "stream": "stdout",
       "text": [
        "\n",
        "('/Users/maye/data/diviner/l1a_data/2010011318_L1A.TAB', \"Doesn't calibrate\")"
       ]
      },
      {
       "output_type": "stream",
       "stream": "stdout",
       "text": [
        "\n",
        "('/Users/maye/data/diviner/l1a_data/2010011319_L1A.TAB', \"Doesn't calibrate\")"
       ]
      },
      {
       "output_type": "stream",
       "stream": "stdout",
       "text": [
        "\n",
        "('/Users/maye/data/diviner/l1a_data/2010011320_L1A.TAB', 'Calibrates.')"
       ]
      },
      {
       "output_type": "stream",
       "stream": "stdout",
       "text": [
        "\n",
        "('/Users/maye/data/diviner/l1a_data/2010070100_L1A.TAB', 'Calibrates.')"
       ]
      },
      {
       "output_type": "stream",
       "stream": "stdout",
       "text": [
        "\n",
        "('/Users/maye/data/diviner/l1a_data/2011041600_L1A.TAB', 'Calibrates.')"
       ]
      },
      {
       "output_type": "stream",
       "stream": "stdout",
       "text": [
        "\n",
        "('/Users/maye/data/diviner/l1a_data/2011071908_L1A.TAB', 'Calibrates.')"
       ]
      },
      {
       "output_type": "stream",
       "stream": "stdout",
       "text": [
        "\n",
        "('/Users/maye/data/diviner/l1a_data/2011071909_L1A.TAB', 'Calibrates.')"
       ]
      },
      {
       "output_type": "stream",
       "stream": "stdout",
       "text": [
        "\n",
        "('/Users/maye/data/diviner/l1a_data/2011071910_L1A.TAB', 'Calibrates.')"
       ]
      },
      {
       "output_type": "stream",
       "stream": "stdout",
       "text": [
        "\n",
        "('/Users/maye/data/diviner/l1a_data/2012011400_L1A.TAB', 'Calibrates.')\n",
        "('/Users/maye/data/diviner/l1a_data/2012011401_L1A.TAB', 'Calibrates.')\n",
        "('/Users/maye/data/diviner/l1a_data/2012011402_L1A.TAB', 'Calibrates.')"
       ]
      },
      {
       "output_type": "stream",
       "stream": "stdout",
       "text": [
        "\n",
        "('/Users/maye/data/diviner/l1a_data/2012011403_L1A.TAB', 'Calibrates.')"
       ]
      },
      {
       "output_type": "stream",
       "stream": "stdout",
       "text": [
        "\n",
        "('/Users/maye/data/diviner/l1a_data/2012011404_L1A.TAB', 'Calibrates.')"
       ]
      },
      {
       "output_type": "stream",
       "stream": "stdout",
       "text": [
        "\n",
        "('/Users/maye/data/diviner/l1a_data/2012012414_L1A.TAB', 'Calibrates.')\n",
        "('/Users/maye/data/diviner/l1a_data/2012063023_L1A.TAB', 'Calibrates.')"
       ]
      },
      {
       "output_type": "stream",
       "stream": "stdout",
       "text": [
        "\n",
        "('/Users/maye/data/diviner/l1a_data/2012070100_L1A.TAB', 'Calibrates.')"
       ]
      },
      {
       "output_type": "stream",
       "stream": "stdout",
       "text": [
        "\n",
        "('/Users/maye/data/diviner/l1a_data/2012070101_L1A.TAB', 'Calibrates.')"
       ]
      },
      {
       "output_type": "stream",
       "stream": "stdout",
       "text": [
        "\n",
        "('/Users/maye/data/diviner/l1a_data/2012121714_L1A.TAB', 'Calibrates.')\n",
        "('/Users/maye/data/diviner/l1a_data/2013030500_L1A.TAB', 'Calibrates.')"
       ]
      },
      {
       "output_type": "stream",
       "stream": "stdout",
       "text": [
        "\n",
        "('/Users/maye/data/diviner/l1a_data/2013030501_L1A.TAB', 'Calibrates.')"
       ]
      },
      {
       "output_type": "stream",
       "stream": "stdout",
       "text": [
        "\n",
        "('/Users/maye/data/diviner/l1a_data/2013030502_L1A.TAB', 'Calibrates.')"
       ]
      },
      {
       "output_type": "stream",
       "stream": "stdout",
       "text": [
        "\n",
        "('/Users/maye/data/diviner/l1a_data/2013030503_L1A.TAB', 'Calibrates.')"
       ]
      },
      {
       "output_type": "stream",
       "stream": "stdout",
       "text": [
        "\n",
        "('/Users/maye/data/diviner/l1a_data/2013030504_L1A.TAB', 'Calibrates.')"
       ]
      },
      {
       "output_type": "stream",
       "stream": "stdout",
       "text": [
        "\n",
        "('/Users/maye/data/diviner/l1a_data/2013030505_L1A.TAB', 'Calibrates.')"
       ]
      },
      {
       "output_type": "stream",
       "stream": "stdout",
       "text": [
        "\n",
        "('/Users/maye/data/diviner/l1a_data/2013030506_L1A.TAB', 'Calibrates.')"
       ]
      },
      {
       "output_type": "stream",
       "stream": "stdout",
       "text": [
        "\n",
        "('/Users/maye/data/diviner/l1a_data/2013030507_L1A.TAB', 'Calibrates.')"
       ]
      },
      {
       "output_type": "stream",
       "stream": "stdout",
       "text": [
        "\n",
        "('/Users/maye/data/diviner/l1a_data/2013030508_L1A.TAB', 'Calibrates.')"
       ]
      },
      {
       "output_type": "stream",
       "stream": "stdout",
       "text": [
        "\n",
        "('/Users/maye/data/diviner/l1a_data/2013030509_L1A.TAB', 'Calibrates.')"
       ]
      },
      {
       "output_type": "stream",
       "stream": "stdout",
       "text": [
        "\n",
        "('/Users/maye/data/diviner/l1a_data/2013030510_L1A.TAB', 'Calibrates.')\n",
        "('/Users/maye/data/diviner/l1a_data/2013030511_L1A.TAB', 'Calibrates.')"
       ]
      },
      {
       "output_type": "stream",
       "stream": "stdout",
       "text": [
        "\n",
        "('/Users/maye/data/diviner/l1a_data/2013030512_L1A.TAB', 'Calibrates.')"
       ]
      },
      {
       "output_type": "stream",
       "stream": "stdout",
       "text": [
        "\n",
        "('/Users/maye/data/diviner/l1a_data/2013030513_L1A.TAB', \"Doesn't calibrate\")\n",
        "('/Users/maye/data/diviner/l1a_data/2013030514_L1A.TAB', 'Calibrates.')"
       ]
      },
      {
       "output_type": "stream",
       "stream": "stdout",
       "text": [
        "\n",
        "('/Users/maye/data/diviner/l1a_data/2013030515_L1A.TAB', 'Calibrates.')"
       ]
      },
      {
       "output_type": "stream",
       "stream": "stdout",
       "text": [
        "\n",
        "('/Users/maye/data/diviner/l1a_data/2013030516_L1A.TAB', 'Calibrates.')"
       ]
      },
      {
       "output_type": "stream",
       "stream": "stdout",
       "text": [
        "\n",
        "('/Users/maye/data/diviner/l1a_data/2013030517_L1A.TAB', 'Calibrates.')"
       ]
      },
      {
       "output_type": "stream",
       "stream": "stdout",
       "text": [
        "\n",
        "('/Users/maye/data/diviner/l1a_data/2013030518_L1A.TAB', 'Calibrates.')"
       ]
      },
      {
       "output_type": "stream",
       "stream": "stdout",
       "text": [
        "\n",
        "('/Users/maye/data/diviner/l1a_data/2013030519_L1A.TAB', 'Calibrates.')"
       ]
      },
      {
       "output_type": "stream",
       "stream": "stdout",
       "text": [
        "\n",
        "('/Users/maye/data/diviner/l1a_data/2013030520_L1A.TAB', 'Calibrates.')"
       ]
      },
      {
       "output_type": "stream",
       "stream": "stdout",
       "text": [
        "\n",
        "('/Users/maye/data/diviner/l1a_data/2013030521_L1A.TAB', 'Calibrates.')"
       ]
      },
      {
       "output_type": "stream",
       "stream": "stdout",
       "text": [
        "\n",
        "('/Users/maye/data/diviner/l1a_data/2013030522_L1A.TAB', 'Calibrates.')"
       ]
      },
      {
       "output_type": "stream",
       "stream": "stdout",
       "text": [
        "\n",
        "('/Users/maye/data/diviner/l1a_data/2013030523_L1A.TAB', 'Calibrates.')"
       ]
      },
      {
       "output_type": "stream",
       "stream": "stdout",
       "text": [
        "\n",
        "('/Users/maye/data/diviner/l1a_data/2013031700_L1A.TAB', 'Calibrates.')"
       ]
      },
      {
       "output_type": "stream",
       "stream": "stdout",
       "text": [
        "\n",
        "('/Users/maye/data/diviner/l1a_data/2013031701_L1A.TAB', 'Calibrates.')"
       ]
      },
      {
       "output_type": "stream",
       "stream": "stdout",
       "text": [
        "\n",
        "('/Users/maye/data/diviner/l1a_data/2013031702_L1A.TAB', 'Calibrates.')"
       ]
      },
      {
       "output_type": "stream",
       "stream": "stdout",
       "text": [
        "\n",
        "('/Users/maye/data/diviner/l1a_data/2013031703_L1A.TAB', 'Calibrates.')"
       ]
      },
      {
       "output_type": "stream",
       "stream": "stdout",
       "text": [
        "\n",
        "('/Users/maye/data/diviner/l1a_data/2013031704_L1A.TAB', 'Calibrates.')\n",
        "('/Users/maye/data/diviner/l1a_data/2013031705_L1A.TAB', 'Calibrates.')"
       ]
      },
      {
       "output_type": "stream",
       "stream": "stdout",
       "text": [
        "\n",
        "('/Users/maye/data/diviner/l1a_data/2013031706_L1A.TAB', 'Calibrates.')"
       ]
      },
      {
       "output_type": "stream",
       "stream": "stdout",
       "text": [
        "\n",
        "('/Users/maye/data/diviner/l1a_data/2013031707_L1A.TAB', 'Calibrates.')"
       ]
      },
      {
       "output_type": "stream",
       "stream": "stdout",
       "text": [
        "\n",
        "('/Users/maye/data/diviner/l1a_data/2013031708_L1A.TAB', 'Calibrates.')\n",
        "('/Users/maye/data/diviner/l1a_data/2013031709_L1A.TAB', 'Calibrates.')"
       ]
      },
      {
       "output_type": "stream",
       "stream": "stdout",
       "text": [
        "\n",
        "('/Users/maye/data/diviner/l1a_data/2013031710_L1A.TAB', 'Calibrates.')\n",
        "('/Users/maye/data/diviner/l1a_data/2013031711_L1A.TAB', 'Calibrates.')"
       ]
      },
      {
       "output_type": "stream",
       "stream": "stdout",
       "text": [
        "\n",
        "('/Users/maye/data/diviner/l1a_data/2013031712_L1A.TAB', 'Calibrates.')\n",
        "('/Users/maye/data/diviner/l1a_data/2013031713_L1A.TAB', 'Calibrates.')"
       ]
      },
      {
       "output_type": "stream",
       "stream": "stdout",
       "text": [
        "\n",
        "('/Users/maye/data/diviner/l1a_data/2013031714_L1A.TAB', 'Calibrates.')\n",
        "('/Users/maye/data/diviner/l1a_data/2013031715_L1A.TAB', 'Calibrates.')"
       ]
      },
      {
       "output_type": "stream",
       "stream": "stdout",
       "text": [
        "\n",
        "('/Users/maye/data/diviner/l1a_data/2013031716_L1A.TAB', 'Calibrates.')\n",
        "('/Users/maye/data/diviner/l1a_data/2013031717_L1A.TAB', 'Calibrates.')"
       ]
      },
      {
       "output_type": "stream",
       "stream": "stdout",
       "text": [
        "\n",
        "('/Users/maye/data/diviner/l1a_data/2013031718_L1A.TAB', 'Calibrates.')\n",
        "('/Users/maye/data/diviner/l1a_data/2013031719_L1A.TAB', 'Calibrates.')"
       ]
      },
      {
       "output_type": "stream",
       "stream": "stdout",
       "text": [
        "\n",
        "('/Users/maye/data/diviner/l1a_data/2013031720_L1A.TAB', 'Calibrates.')\n",
        "('/Users/maye/data/diviner/l1a_data/2013031721_L1A.TAB', 'Calibrates.')"
       ]
      },
      {
       "output_type": "stream",
       "stream": "stdout",
       "text": [
        "\n",
        "('/Users/maye/data/diviner/l1a_data/2013031722_L1A.TAB', 'Calibrates.')"
       ]
      },
      {
       "output_type": "stream",
       "stream": "stdout",
       "text": [
        "\n",
        "('/Users/maye/data/diviner/l1a_data/2013031723_L1A.TAB', 'Calibrates.')"
       ]
      },
      {
       "output_type": "stream",
       "stream": "stdout",
       "text": [
        "\n",
        "('/Users/maye/data/diviner/l1a_data/2013052205_L1A.TAB', 'Calibrates.')\n"
       ]
      }
     ],
     "prompt_number": 6
    },
    {
     "cell_type": "code",
     "collapsed": false,
     "input": [
      "tstr = '2011071909'\n",
      "tstr = '2010011318'\n",
      "l1a = fu.open_and_accumulate(tstr)"
     ],
     "language": "python",
     "metadata": {},
     "outputs": [],
     "prompt_number": 126
    },
    {
     "cell_type": "code",
     "collapsed": false,
     "input": [
      "rdr2 = calib.Calibrator(l1a)"
     ],
     "language": "python",
     "metadata": {},
     "outputs": [
      {
       "output_type": "stream",
       "stream": "stderr",
       "text": [
        "INFO:diviner.calib:Calibrating from 2010-01-13 16:00:00.084000 to 2010-01-13 21:00:00.285000.\n"
       ]
      }
     ],
     "prompt_number": 130
    },
    {
     "cell_type": "code",
     "collapsed": false,
     "input": [
      "rdr2.calibrate()"
     ],
     "language": "python",
     "metadata": {},
     "outputs": [
      {
       "output_type": "stream",
       "stream": "stderr",
       "text": [
        "INFO:diviner.calib:Found less than 2 SPACE labels in CalBlock at 2010-01-13 16:00:00.084000.\n"
       ]
      },
      {
       "output_type": "stream",
       "stream": "stderr",
       "text": [
        "WARNING:diviner.calib:No caldata in calib_label at 2010-01-13 16:00:00.084000. Found only 96 moving samples.\n"
       ]
      },
      {
       "output_type": "stream",
       "stream": "stderr",
       "text": [
        "WARNING:diviner.calib:Only one gain found. Propagating over whole hour at 2010-01-13 16:00:00.084000.\n"
       ]
      },
      {
       "output_type": "stream",
       "stream": "stderr",
       "text": [
        "WARNING:diviner.calib:Only one offsets found. Propagating over whole hour at 2010-01-13 16:00:00.084000.\n"
       ]
      },
      {
       "output_type": "stream",
       "stream": "stderr",
       "text": [
        "INFO:diviner.calib:Performing radiance correction on 2010-01-13 16:00:00.084000\n"
       ]
      }
     ],
     "prompt_number": 131
    },
    {
     "cell_type": "code",
     "collapsed": false,
     "input": [
      "def get_delta_to_closest_offset(rdr2):\n",
      "    \"\"\"Take offset times and all_times from rdr2 object and get delta times.\n",
      "    \"\"\"\n",
      "    offset_times = rdr2.offsets.index.values\n",
      "    all_times = rdr2.df.index.values\n",
      "    idx = calib.find_closest_offset_time(offset_times, all_times)\n",
      "    ts = (all_times - rdr2.offsets.index[idx].values) / 1e9 # to seconds\n",
      "    return ts.astype('int')\n"
     ],
     "language": "python",
     "metadata": {},
     "outputs": [],
     "prompt_number": 77
    },
    {
     "cell_type": "code",
     "collapsed": false,
     "input": [
      "get_delta_to_closest_offset(rdr2)"
     ],
     "language": "python",
     "metadata": {},
     "outputs": [
      {
       "metadata": {},
       "output_type": "pyout",
       "prompt_number": 63,
       "text": [
        "array([-90049000000, -89921000000, -89793000000, ..., 534214000000,\n",
        "       534342000000, 534470000000], dtype='timedelta64[ns]')"
       ]
      }
     ],
     "prompt_number": 63
    },
    {
     "cell_type": "code",
     "collapsed": false,
     "input": [
      "delta_times = pd.DataFrame(get_delta_to_closest_offset(rdr2), index=rdr2.df.index)"
     ],
     "language": "python",
     "metadata": {},
     "outputs": [],
     "prompt_number": 79
    },
    {
     "cell_type": "code",
     "collapsed": false,
     "input": [
      "delta_times.head()"
     ],
     "language": "python",
     "metadata": {},
     "outputs": [
      {
       "html": [
        "<div style=\"max-height:1000px;max-width:1500px;overflow:auto;\">\n",
        "<table border=\"1\" class=\"dataframe\">\n",
        "  <thead>\n",
        "    <tr style=\"text-align: right;\">\n",
        "      <th></th>\n",
        "      <th>0</th>\n",
        "    </tr>\n",
        "  </thead>\n",
        "  <tbody>\n",
        "    <tr>\n",
        "      <th>2011-07-19 08:00:01.233000</th>\n",
        "      <td>-90</td>\n",
        "    </tr>\n",
        "    <tr>\n",
        "      <th>2011-07-19 08:00:01.361000</th>\n",
        "      <td>-89</td>\n",
        "    </tr>\n",
        "    <tr>\n",
        "      <th>2011-07-19 08:00:01.489000</th>\n",
        "      <td>-89</td>\n",
        "    </tr>\n",
        "    <tr>\n",
        "      <th>2011-07-19 08:00:01.617000</th>\n",
        "      <td>-89</td>\n",
        "    </tr>\n",
        "    <tr>\n",
        "      <th>2011-07-19 08:00:01.745000</th>\n",
        "      <td>-89</td>\n",
        "    </tr>\n",
        "  </tbody>\n",
        "</table>\n",
        "</div>"
       ],
       "metadata": {},
       "output_type": "pyout",
       "prompt_number": 81,
       "text": [
        "                             0\n",
        "2011-07-19 08:00:01.233000 -90\n",
        "2011-07-19 08:00:01.361000 -89\n",
        "2011-07-19 08:00:01.489000 -89\n",
        "2011-07-19 08:00:01.617000 -89\n",
        "2011-07-19 08:00:01.745000 -89"
       ]
      }
     ],
     "prompt_number": 81
    },
    {
     "cell_type": "code",
     "collapsed": false,
     "input": [
      "calc_offsets_at_all_times(rdr2.df, rdr2.offsets).a3_01.head()"
     ],
     "language": "python",
     "metadata": {},
     "outputs": [
      {
       "metadata": {},
       "output_type": "pyout",
       "prompt_number": 25,
       "text": [
        "2011-07-19 08:01:31.282000    23860.90625\n",
        "2011-07-19 08:01:31.282000    23860.90625\n",
        "2011-07-19 08:01:31.282000    23860.90625\n",
        "2011-07-19 08:01:31.282000    23860.90625\n",
        "2011-07-19 08:01:31.282000    23860.90625\n",
        "Name: a3_01, dtype: float64"
       ]
      }
     ],
     "prompt_number": 25
    },
    {
     "cell_type": "code",
     "collapsed": false,
     "input": [
      "rdr2.offsets_interp.a3_01.head()"
     ],
     "language": "python",
     "metadata": {},
     "outputs": [
      {
       "metadata": {},
       "output_type": "pyout",
       "prompt_number": 26,
       "text": [
        "2011-07-19 08:00:01.233000    23861.301110\n",
        "2011-07-19 08:00:01.361000    23861.300549\n",
        "2011-07-19 08:00:01.489000    23861.299988\n",
        "2011-07-19 08:00:01.617000    23861.299427\n",
        "2011-07-19 08:00:01.745000    23861.298865\n",
        "Name: a3_01, dtype: float64"
       ]
      }
     ],
     "prompt_number": 26
    },
    {
     "cell_type": "code",
     "collapsed": false,
     "input": [
      "real_time = rdr2.df.index.values\n",
      "cali_time = rdr2.offsets.index.values"
     ],
     "language": "python",
     "metadata": {},
     "outputs": [],
     "prompt_number": 34
    },
    {
     "cell_type": "code",
     "collapsed": false,
     "input": [
      "right_index = cali_time.searchsorted(real_time, side='left')"
     ],
     "language": "python",
     "metadata": {},
     "outputs": [],
     "prompt_number": 38
    },
    {
     "cell_type": "code",
     "collapsed": false,
     "input": [
      "left_index = np.clip(right_index -1, 0, len(rdr2.offsets) -1)"
     ],
     "language": "python",
     "metadata": {},
     "outputs": [],
     "prompt_number": 39
    },
    {
     "cell_type": "code",
     "collapsed": false,
     "input": [
      "left_index"
     ],
     "language": "python",
     "metadata": {},
     "outputs": [
      {
       "metadata": {},
       "output_type": "pyout",
       "prompt_number": 40,
       "text": [
        "array([ 0,  0,  0, ..., 18, 18, 18])"
       ]
      }
     ],
     "prompt_number": 40
    },
    {
     "cell_type": "code",
     "collapsed": false,
     "input": [
      "right_index = np.clip(right_index, 0, len(rdr2.offsets) -1)"
     ],
     "language": "python",
     "metadata": {},
     "outputs": [],
     "prompt_number": 41
    },
    {
     "cell_type": "code",
     "collapsed": false,
     "input": [
      "left_time = cali_time[left_index]"
     ],
     "language": "python",
     "metadata": {},
     "outputs": [],
     "prompt_number": 42
    },
    {
     "cell_type": "code",
     "collapsed": false,
     "input": [
      "left_time"
     ],
     "language": "python",
     "metadata": {},
     "outputs": [
      {
       "metadata": {},
       "output_type": "pyout",
       "prompt_number": 43,
       "text": [
        "array(['2011-07-19T01:01:31.282000000-0700',\n",
        "       '2011-07-19T01:01:31.282000000-0700',\n",
        "       '2011-07-19T01:01:31.282000000-0700', ...,\n",
        "       '2011-07-19T03:51:05.866000000-0700',\n",
        "       '2011-07-19T03:51:05.866000000-0700',\n",
        "       '2011-07-19T03:51:05.866000000-0700'], dtype='datetime64[ns]')"
       ]
      }
     ],
     "prompt_number": 43
    },
    {
     "cell_type": "code",
     "collapsed": false,
     "input": [
      "drdata = pd.date_range('2010-10-01 10:00:00', freq='1min',periods=10)\n",
      "drdata"
     ],
     "language": "python",
     "metadata": {},
     "outputs": [
      {
       "metadata": {},
       "output_type": "pyout",
       "prompt_number": 48,
       "text": [
        "<class 'pandas.tseries.index.DatetimeIndex'>\n",
        "[2010-10-01 10:00:00, ..., 2010-10-01 10:09:00]\n",
        "Length: 10, Freq: T, Timezone: None"
       ]
      }
     ],
     "prompt_number": 48
    },
    {
     "cell_type": "code",
     "collapsed": false,
     "input": [
      "droffsets = pd.date_range('2010-10-01 10:01:25', freq='170s', periods=3)\n",
      "droffsets"
     ],
     "language": "python",
     "metadata": {},
     "outputs": [
      {
       "metadata": {},
       "output_type": "pyout",
       "prompt_number": 85,
       "text": [
        "<class 'pandas.tseries.index.DatetimeIndex'>\n",
        "[2010-10-01 10:01:25, ..., 2010-10-01 10:07:05]\n",
        "Length: 3, Freq: 170S, Timezone: None"
       ]
      }
     ],
     "prompt_number": 85
    },
    {
     "cell_type": "code",
     "collapsed": false,
     "input": [
      "pd.Series(drdata)"
     ],
     "language": "python",
     "metadata": {},
     "outputs": [
      {
       "metadata": {},
       "output_type": "pyout",
       "prompt_number": 86,
       "text": [
        "0   2010-10-01 10:00:00\n",
        "1   2010-10-01 10:01:00\n",
        "2   2010-10-01 10:02:00\n",
        "3   2010-10-01 10:03:00\n",
        "4   2010-10-01 10:04:00\n",
        "5   2010-10-01 10:05:00\n",
        "6   2010-10-01 10:06:00\n",
        "7   2010-10-01 10:07:00\n",
        "8   2010-10-01 10:08:00\n",
        "9   2010-10-01 10:09:00\n",
        "dtype: datetime64[ns]"
       ]
      }
     ],
     "prompt_number": 86
    },
    {
     "cell_type": "code",
     "collapsed": false,
     "input": [
      "pd.Series(droffsets)"
     ],
     "language": "python",
     "metadata": {},
     "outputs": [
      {
       "metadata": {},
       "output_type": "pyout",
       "prompt_number": 87,
       "text": [
        "0   2010-10-01 10:01:25\n",
        "1   2010-10-01 10:04:15\n",
        "2   2010-10-01 10:07:05\n",
        "dtype: datetime64[ns]"
       ]
      }
     ],
     "prompt_number": 87
    },
    {
     "cell_type": "code",
     "collapsed": false,
     "input": [
      "data = pd.Series(np.random.randn(10),index=drdata)\n",
      "data"
     ],
     "language": "python",
     "metadata": {},
     "outputs": [
      {
       "metadata": {},
       "output_type": "pyout",
       "prompt_number": 88,
       "text": [
        "2010-10-01 10:00:00   -0.638870\n",
        "2010-10-01 10:01:00    0.494536\n",
        "2010-10-01 10:02:00   -0.650439\n",
        "2010-10-01 10:03:00   -0.032289\n",
        "2010-10-01 10:04:00    0.660729\n",
        "2010-10-01 10:05:00   -1.879391\n",
        "2010-10-01 10:06:00   -0.167798\n",
        "2010-10-01 10:07:00    0.039975\n",
        "2010-10-01 10:08:00   -1.444627\n",
        "2010-10-01 10:09:00   -1.047063\n",
        "Freq: T, dtype: float64"
       ]
      }
     ],
     "prompt_number": 88
    },
    {
     "cell_type": "code",
     "collapsed": false,
     "input": [
      "offsets = pd.Series(0.1*np.random.randn(3), index=droffsets)\n",
      "offsets"
     ],
     "language": "python",
     "metadata": {},
     "outputs": [
      {
       "metadata": {},
       "output_type": "pyout",
       "prompt_number": 89,
       "text": [
        "2010-10-01 10:01:25   -0.031818\n",
        "2010-10-01 10:04:15   -0.039093\n",
        "2010-10-01 10:07:05   -0.054810\n",
        "Freq: 170S, dtype: float64"
       ]
      }
     ],
     "prompt_number": 89
    },
    {
     "cell_type": "code",
     "collapsed": false,
     "input": [
      "droffsets.searchsorted(drdata.values, side='left')"
     ],
     "language": "python",
     "metadata": {},
     "outputs": [
      {
       "metadata": {},
       "output_type": "pyout",
       "prompt_number": 90,
       "text": [
        "array([0, 0, 1, 1, 1, 2, 2, 2, 3, 3])"
       ]
      }
     ],
     "prompt_number": 90
    },
    {
     "cell_type": "code",
     "collapsed": false,
     "input": [
      "droffsets.searchsorted(drdata.values, side='right')"
     ],
     "language": "python",
     "metadata": {},
     "outputs": [
      {
       "metadata": {},
       "output_type": "pyout",
       "prompt_number": 91,
       "text": [
        "array([0, 0, 1, 1, 1, 2, 2, 2, 3, 3])"
       ]
      }
     ],
     "prompt_number": 91
    },
    {
     "cell_type": "code",
     "collapsed": false,
     "input": [
      "idx = np.searchsorted(droffsets.values, drdata.values, side='right')\n",
      "idx"
     ],
     "language": "python",
     "metadata": {},
     "outputs": [
      {
       "metadata": {},
       "output_type": "pyout",
       "prompt_number": 115,
       "text": [
        "array([0, 0, 1, 1, 1, 2, 2, 2, 3, 3])"
       ]
      }
     ],
     "prompt_number": 115
    },
    {
     "cell_type": "code",
     "collapsed": false,
     "input": [
      "data = pd.DataFrame(data)"
     ],
     "language": "python",
     "metadata": {},
     "outputs": [],
     "prompt_number": 117
    },
    {
     "cell_type": "code",
     "collapsed": false,
     "input": [
      "data['times'] = data.index"
     ],
     "language": "python",
     "metadata": {},
     "outputs": [],
     "prompt_number": 121
    },
    {
     "cell_type": "code",
     "collapsed": false,
     "input": [
      "data"
     ],
     "language": "python",
     "metadata": {},
     "outputs": [
      {
       "html": [
        "<div style=\"max-height:1000px;max-width:1500px;overflow:auto;\">\n",
        "<table border=\"1\" class=\"dataframe\">\n",
        "  <thead>\n",
        "    <tr style=\"text-align: right;\">\n",
        "      <th></th>\n",
        "      <th>0</th>\n",
        "      <th>times</th>\n",
        "    </tr>\n",
        "  </thead>\n",
        "  <tbody>\n",
        "    <tr>\n",
        "      <th>2010-10-01 10:00:00</th>\n",
        "      <td>-0.638870</td>\n",
        "      <td>2010-10-01 10:00:00</td>\n",
        "    </tr>\n",
        "    <tr>\n",
        "      <th>2010-10-01 10:01:00</th>\n",
        "      <td> 0.494536</td>\n",
        "      <td>2010-10-01 10:01:00</td>\n",
        "    </tr>\n",
        "    <tr>\n",
        "      <th>2010-10-01 10:02:00</th>\n",
        "      <td>-0.650439</td>\n",
        "      <td>2010-10-01 10:02:00</td>\n",
        "    </tr>\n",
        "    <tr>\n",
        "      <th>2010-10-01 10:03:00</th>\n",
        "      <td>-0.032289</td>\n",
        "      <td>2010-10-01 10:03:00</td>\n",
        "    </tr>\n",
        "    <tr>\n",
        "      <th>2010-10-01 10:04:00</th>\n",
        "      <td> 0.660729</td>\n",
        "      <td>2010-10-01 10:04:00</td>\n",
        "    </tr>\n",
        "    <tr>\n",
        "      <th>2010-10-01 10:05:00</th>\n",
        "      <td>-1.879391</td>\n",
        "      <td>2010-10-01 10:05:00</td>\n",
        "    </tr>\n",
        "    <tr>\n",
        "      <th>2010-10-01 10:06:00</th>\n",
        "      <td>-0.167798</td>\n",
        "      <td>2010-10-01 10:06:00</td>\n",
        "    </tr>\n",
        "    <tr>\n",
        "      <th>2010-10-01 10:07:00</th>\n",
        "      <td> 0.039975</td>\n",
        "      <td>2010-10-01 10:07:00</td>\n",
        "    </tr>\n",
        "    <tr>\n",
        "      <th>2010-10-01 10:08:00</th>\n",
        "      <td>-1.444627</td>\n",
        "      <td>2010-10-01 10:08:00</td>\n",
        "    </tr>\n",
        "    <tr>\n",
        "      <th>2010-10-01 10:09:00</th>\n",
        "      <td>-1.047063</td>\n",
        "      <td>2010-10-01 10:09:00</td>\n",
        "    </tr>\n",
        "  </tbody>\n",
        "</table>\n",
        "</div>"
       ],
       "metadata": {},
       "output_type": "pyout",
       "prompt_number": 122,
       "text": [
        "                            0               times\n",
        "2010-10-01 10:00:00 -0.638870 2010-10-01 10:00:00\n",
        "2010-10-01 10:01:00  0.494536 2010-10-01 10:01:00\n",
        "2010-10-01 10:02:00 -0.650439 2010-10-01 10:02:00\n",
        "2010-10-01 10:03:00 -0.032289 2010-10-01 10:03:00\n",
        "2010-10-01 10:04:00  0.660729 2010-10-01 10:04:00\n",
        "2010-10-01 10:05:00 -1.879391 2010-10-01 10:05:00\n",
        "2010-10-01 10:06:00 -0.167798 2010-10-01 10:06:00\n",
        "2010-10-01 10:07:00  0.039975 2010-10-01 10:07:00\n",
        "2010-10-01 10:08:00 -1.444627 2010-10-01 10:08:00\n",
        "2010-10-01 10:09:00 -1.047063 2010-10-01 10:09:00"
       ]
      }
     ],
     "prompt_number": 122
    },
    {
     "cell_type": "code",
     "collapsed": false,
     "input": [
      "data['idx'] = idx"
     ],
     "language": "python",
     "metadata": {},
     "outputs": [],
     "prompt_number": 123
    },
    {
     "cell_type": "code",
     "collapsed": false,
     "input": [
      "del data[0]"
     ],
     "language": "python",
     "metadata": {},
     "outputs": [],
     "prompt_number": 125
    },
    {
     "cell_type": "code",
     "collapsed": false,
     "input": [
      "data.times - droffsets[data.idx]"
     ],
     "language": "python",
     "metadata": {},
     "outputs": [
      {
       "ename": "IndexError",
       "evalue": "unsupported iterator index",
       "output_type": "pyerr",
       "traceback": [
        "\u001b[0;31m---------------------------------------------------------------------------\u001b[0m\n\u001b[0;31mIndexError\u001b[0m                                Traceback (most recent call last)",
        "\u001b[0;32m<ipython-input-127-b4238db5629b>\u001b[0m in \u001b[0;36m<module>\u001b[0;34m()\u001b[0m\n\u001b[0;32m----> 1\u001b[0;31m \u001b[0mdata\u001b[0m\u001b[0;34m.\u001b[0m\u001b[0mtimes\u001b[0m \u001b[0;34m-\u001b[0m \u001b[0mdroffsets\u001b[0m\u001b[0;34m[\u001b[0m\u001b[0mdata\u001b[0m\u001b[0;34m.\u001b[0m\u001b[0midx\u001b[0m\u001b[0;34m]\u001b[0m\u001b[0;34m\u001b[0m\u001b[0m\n\u001b[0m",
        "\u001b[0;32m/Users/maye/miniconda3/envs/py27/lib/python2.7/site-packages/pandas/tseries/index.pyc\u001b[0m in \u001b[0;36m__getitem__\u001b[0;34m(self, key)\u001b[0m\n\u001b[1;32m   1389\u001b[0m                     \u001b[0mnew_offset\u001b[0m \u001b[0;34m=\u001b[0m \u001b[0mself\u001b[0m\u001b[0;34m.\u001b[0m\u001b[0moffset\u001b[0m\u001b[0;34m\u001b[0m\u001b[0m\n\u001b[1;32m   1390\u001b[0m \u001b[0;34m\u001b[0m\u001b[0m\n\u001b[0;32m-> 1391\u001b[0;31m             \u001b[0mresult\u001b[0m \u001b[0;34m=\u001b[0m \u001b[0marr_idx\u001b[0m\u001b[0;34m[\u001b[0m\u001b[0mkey\u001b[0m\u001b[0;34m]\u001b[0m\u001b[0;34m\u001b[0m\u001b[0m\n\u001b[0m\u001b[1;32m   1392\u001b[0m             \u001b[0;32mif\u001b[0m \u001b[0mresult\u001b[0m\u001b[0;34m.\u001b[0m\u001b[0mndim\u001b[0m \u001b[0;34m>\u001b[0m \u001b[0;36m1\u001b[0m\u001b[0;34m:\u001b[0m\u001b[0;34m\u001b[0m\u001b[0m\n\u001b[1;32m   1393\u001b[0m                 \u001b[0;32mreturn\u001b[0m \u001b[0mresult\u001b[0m\u001b[0;34m\u001b[0m\u001b[0m\n",
        "\u001b[0;31mIndexError\u001b[0m: unsupported iterator index"
       ]
      }
     ],
     "prompt_number": 127
    },
    {
     "cell_type": "code",
     "collapsed": false,
     "input": [
      "offsets = pd.Series(droffsets)"
     ],
     "language": "python",
     "metadata": {},
     "outputs": [],
     "prompt_number": 130
    },
    {
     "cell_type": "code",
     "collapsed": true,
     "input": [
      "offsets"
     ],
     "language": "python",
     "metadata": {},
     "outputs": [
      {
       "metadata": {},
       "output_type": "pyout",
       "prompt_number": 133,
       "text": [
        "0   2010-10-01 10:01:25\n",
        "1   2010-10-01 10:04:15\n",
        "2   2010-10-01 10:07:05\n",
        "dtype: datetime64[ns]"
       ]
      }
     ],
     "prompt_number": 133
    },
    {
     "cell_type": "code",
     "collapsed": false,
     "input": [
      "offsets[idx]"
     ],
     "language": "python",
     "metadata": {},
     "outputs": [
      {
       "metadata": {},
       "output_type": "pyout",
       "prompt_number": 132,
       "text": [
        "0   2010-10-01 10:01:25\n",
        "0   2010-10-01 10:01:25\n",
        "1   2010-10-01 10:04:15\n",
        "1   2010-10-01 10:04:15\n",
        "1   2010-10-01 10:04:15\n",
        "2   2010-10-01 10:07:05\n",
        "2   2010-10-01 10:07:05\n",
        "2   2010-10-01 10:07:05\n",
        "3                   NaT\n",
        "3                   NaT\n",
        "dtype: datetime64[ns]"
       ]
      }
     ],
     "prompt_number": 132
    },
    {
     "cell_type": "code",
     "collapsed": false,
     "input": [
      "pd.Series(data.times.values - offsets[idx].values)"
     ],
     "language": "python",
     "metadata": {},
     "outputs": [
      {
       "metadata": {},
       "output_type": "pyout",
       "prompt_number": 141,
       "text": [
        "0   -00:01:25\n",
        "1   -00:00:25\n",
        "2   -00:02:15\n",
        "3   -00:01:15\n",
        "4   -00:00:15\n",
        "5   -00:02:05\n",
        "6   -00:01:05\n",
        "7   -00:00:05\n",
        "8         NaT\n",
        "9         NaT\n",
        "dtype: timedelta64[ns]"
       ]
      }
     ],
     "prompt_number": 141
    },
    {
     "cell_type": "code",
     "collapsed": false,
     "input": [
      "data"
     ],
     "language": "python",
     "metadata": {},
     "outputs": [
      {
       "html": [
        "<div style=\"max-height:1000px;max-width:1500px;overflow:auto;\">\n",
        "<table border=\"1\" class=\"dataframe\">\n",
        "  <thead>\n",
        "    <tr style=\"text-align: right;\">\n",
        "      <th></th>\n",
        "      <th>times</th>\n",
        "      <th>idx</th>\n",
        "    </tr>\n",
        "  </thead>\n",
        "  <tbody>\n",
        "    <tr>\n",
        "      <th>2010-10-01 10:00:00</th>\n",
        "      <td>2010-10-01 10:00:00</td>\n",
        "      <td> 0</td>\n",
        "    </tr>\n",
        "    <tr>\n",
        "      <th>2010-10-01 10:01:00</th>\n",
        "      <td>2010-10-01 10:01:00</td>\n",
        "      <td> 0</td>\n",
        "    </tr>\n",
        "    <tr>\n",
        "      <th>2010-10-01 10:02:00</th>\n",
        "      <td>2010-10-01 10:02:00</td>\n",
        "      <td> 1</td>\n",
        "    </tr>\n",
        "    <tr>\n",
        "      <th>2010-10-01 10:03:00</th>\n",
        "      <td>2010-10-01 10:03:00</td>\n",
        "      <td> 1</td>\n",
        "    </tr>\n",
        "    <tr>\n",
        "      <th>2010-10-01 10:04:00</th>\n",
        "      <td>2010-10-01 10:04:00</td>\n",
        "      <td> 1</td>\n",
        "    </tr>\n",
        "    <tr>\n",
        "      <th>2010-10-01 10:05:00</th>\n",
        "      <td>2010-10-01 10:05:00</td>\n",
        "      <td> 2</td>\n",
        "    </tr>\n",
        "    <tr>\n",
        "      <th>2010-10-01 10:06:00</th>\n",
        "      <td>2010-10-01 10:06:00</td>\n",
        "      <td> 2</td>\n",
        "    </tr>\n",
        "    <tr>\n",
        "      <th>2010-10-01 10:07:00</th>\n",
        "      <td>2010-10-01 10:07:00</td>\n",
        "      <td> 2</td>\n",
        "    </tr>\n",
        "    <tr>\n",
        "      <th>2010-10-01 10:08:00</th>\n",
        "      <td>2010-10-01 10:08:00</td>\n",
        "      <td> 3</td>\n",
        "    </tr>\n",
        "    <tr>\n",
        "      <th>2010-10-01 10:09:00</th>\n",
        "      <td>2010-10-01 10:09:00</td>\n",
        "      <td> 3</td>\n",
        "    </tr>\n",
        "  </tbody>\n",
        "</table>\n",
        "</div>"
       ],
       "metadata": {},
       "output_type": "pyout",
       "prompt_number": 142,
       "text": [
        "                                  times  idx\n",
        "2010-10-01 10:00:00 2010-10-01 10:00:00    0\n",
        "2010-10-01 10:01:00 2010-10-01 10:01:00    0\n",
        "2010-10-01 10:02:00 2010-10-01 10:02:00    1\n",
        "2010-10-01 10:03:00 2010-10-01 10:03:00    1\n",
        "2010-10-01 10:04:00 2010-10-01 10:04:00    1\n",
        "2010-10-01 10:05:00 2010-10-01 10:05:00    2\n",
        "2010-10-01 10:06:00 2010-10-01 10:06:00    2\n",
        "2010-10-01 10:07:00 2010-10-01 10:07:00    2\n",
        "2010-10-01 10:08:00 2010-10-01 10:08:00    3\n",
        "2010-10-01 10:09:00 2010-10-01 10:09:00    3"
       ]
      }
     ],
     "prompt_number": 142
    },
    {
     "cell_type": "code",
     "collapsed": false,
     "input": [
      "data['should'] = [0, 0, 0, 1, 1, 1, 2,2,2,2]"
     ],
     "language": "python",
     "metadata": {},
     "outputs": [],
     "prompt_number": 147
    },
    {
     "cell_type": "code",
     "collapsed": false,
     "input": [
      "data['closest'] = offsets[data.should].values"
     ],
     "language": "python",
     "metadata": {},
     "outputs": [],
     "prompt_number": 150
    },
    {
     "cell_type": "code",
     "collapsed": false,
     "input": [
      "data"
     ],
     "language": "python",
     "metadata": {},
     "outputs": [
      {
       "html": [
        "<div style=\"max-height:1000px;max-width:1500px;overflow:auto;\">\n",
        "<table border=\"1\" class=\"dataframe\">\n",
        "  <thead>\n",
        "    <tr style=\"text-align: right;\">\n",
        "      <th></th>\n",
        "      <th>times</th>\n",
        "      <th>idx</th>\n",
        "      <th>should</th>\n",
        "      <th>closest</th>\n",
        "    </tr>\n",
        "  </thead>\n",
        "  <tbody>\n",
        "    <tr>\n",
        "      <th>2010-10-01 10:00:00</th>\n",
        "      <td>2010-10-01 10:00:00</td>\n",
        "      <td> 0</td>\n",
        "      <td> 0</td>\n",
        "      <td>2010-10-01 10:01:25</td>\n",
        "    </tr>\n",
        "    <tr>\n",
        "      <th>2010-10-01 10:01:00</th>\n",
        "      <td>2010-10-01 10:01:00</td>\n",
        "      <td> 0</td>\n",
        "      <td> 0</td>\n",
        "      <td>2010-10-01 10:01:25</td>\n",
        "    </tr>\n",
        "    <tr>\n",
        "      <th>2010-10-01 10:02:00</th>\n",
        "      <td>2010-10-01 10:02:00</td>\n",
        "      <td> 1</td>\n",
        "      <td> 0</td>\n",
        "      <td>2010-10-01 10:01:25</td>\n",
        "    </tr>\n",
        "    <tr>\n",
        "      <th>2010-10-01 10:03:00</th>\n",
        "      <td>2010-10-01 10:03:00</td>\n",
        "      <td> 1</td>\n",
        "      <td> 1</td>\n",
        "      <td>2010-10-01 10:04:15</td>\n",
        "    </tr>\n",
        "    <tr>\n",
        "      <th>2010-10-01 10:04:00</th>\n",
        "      <td>2010-10-01 10:04:00</td>\n",
        "      <td> 1</td>\n",
        "      <td> 1</td>\n",
        "      <td>2010-10-01 10:04:15</td>\n",
        "    </tr>\n",
        "    <tr>\n",
        "      <th>2010-10-01 10:05:00</th>\n",
        "      <td>2010-10-01 10:05:00</td>\n",
        "      <td> 2</td>\n",
        "      <td> 1</td>\n",
        "      <td>2010-10-01 10:04:15</td>\n",
        "    </tr>\n",
        "    <tr>\n",
        "      <th>2010-10-01 10:06:00</th>\n",
        "      <td>2010-10-01 10:06:00</td>\n",
        "      <td> 2</td>\n",
        "      <td> 2</td>\n",
        "      <td>2010-10-01 10:07:05</td>\n",
        "    </tr>\n",
        "    <tr>\n",
        "      <th>2010-10-01 10:07:00</th>\n",
        "      <td>2010-10-01 10:07:00</td>\n",
        "      <td> 2</td>\n",
        "      <td> 2</td>\n",
        "      <td>2010-10-01 10:07:05</td>\n",
        "    </tr>\n",
        "    <tr>\n",
        "      <th>2010-10-01 10:08:00</th>\n",
        "      <td>2010-10-01 10:08:00</td>\n",
        "      <td> 3</td>\n",
        "      <td> 2</td>\n",
        "      <td>2010-10-01 10:07:05</td>\n",
        "    </tr>\n",
        "    <tr>\n",
        "      <th>2010-10-01 10:09:00</th>\n",
        "      <td>2010-10-01 10:09:00</td>\n",
        "      <td> 3</td>\n",
        "      <td> 2</td>\n",
        "      <td>2010-10-01 10:07:05</td>\n",
        "    </tr>\n",
        "  </tbody>\n",
        "</table>\n",
        "</div>"
       ],
       "metadata": {},
       "output_type": "pyout",
       "prompt_number": 151,
       "text": [
        "                                  times  idx  should             closest\n",
        "2010-10-01 10:00:00 2010-10-01 10:00:00    0       0 2010-10-01 10:01:25\n",
        "2010-10-01 10:01:00 2010-10-01 10:01:00    0       0 2010-10-01 10:01:25\n",
        "2010-10-01 10:02:00 2010-10-01 10:02:00    1       0 2010-10-01 10:01:25\n",
        "2010-10-01 10:03:00 2010-10-01 10:03:00    1       1 2010-10-01 10:04:15\n",
        "2010-10-01 10:04:00 2010-10-01 10:04:00    1       1 2010-10-01 10:04:15\n",
        "2010-10-01 10:05:00 2010-10-01 10:05:00    2       1 2010-10-01 10:04:15\n",
        "2010-10-01 10:06:00 2010-10-01 10:06:00    2       2 2010-10-01 10:07:05\n",
        "2010-10-01 10:07:00 2010-10-01 10:07:00    2       2 2010-10-01 10:07:05\n",
        "2010-10-01 10:08:00 2010-10-01 10:08:00    3       2 2010-10-01 10:07:05\n",
        "2010-10-01 10:09:00 2010-10-01 10:09:00    3       2 2010-10-01 10:07:05"
       ]
      }
     ],
     "prompt_number": 151
    },
    {
     "cell_type": "code",
     "collapsed": false,
     "input": [
      "data['deltas'] = data.times - data.closest\n",
      "data"
     ],
     "language": "python",
     "metadata": {},
     "outputs": [
      {
       "html": [
        "<div style=\"max-height:1000px;max-width:1500px;overflow:auto;\">\n",
        "<table border=\"1\" class=\"dataframe\">\n",
        "  <thead>\n",
        "    <tr style=\"text-align: right;\">\n",
        "      <th></th>\n",
        "      <th>times</th>\n",
        "      <th>idx</th>\n",
        "      <th>should</th>\n",
        "      <th>closest</th>\n",
        "      <th>deltas</th>\n",
        "    </tr>\n",
        "  </thead>\n",
        "  <tbody>\n",
        "    <tr>\n",
        "      <th>2010-10-01 10:00:00</th>\n",
        "      <td>2010-10-01 10:00:00</td>\n",
        "      <td> 0</td>\n",
        "      <td> 0</td>\n",
        "      <td>2010-10-01 10:01:25</td>\n",
        "      <td>-00:01:25</td>\n",
        "    </tr>\n",
        "    <tr>\n",
        "      <th>2010-10-01 10:01:00</th>\n",
        "      <td>2010-10-01 10:01:00</td>\n",
        "      <td> 0</td>\n",
        "      <td> 0</td>\n",
        "      <td>2010-10-01 10:01:25</td>\n",
        "      <td>-00:00:25</td>\n",
        "    </tr>\n",
        "    <tr>\n",
        "      <th>2010-10-01 10:02:00</th>\n",
        "      <td>2010-10-01 10:02:00</td>\n",
        "      <td> 1</td>\n",
        "      <td> 0</td>\n",
        "      <td>2010-10-01 10:01:25</td>\n",
        "      <td> 00:00:35</td>\n",
        "    </tr>\n",
        "    <tr>\n",
        "      <th>2010-10-01 10:03:00</th>\n",
        "      <td>2010-10-01 10:03:00</td>\n",
        "      <td> 1</td>\n",
        "      <td> 1</td>\n",
        "      <td>2010-10-01 10:04:15</td>\n",
        "      <td>-00:01:15</td>\n",
        "    </tr>\n",
        "    <tr>\n",
        "      <th>2010-10-01 10:04:00</th>\n",
        "      <td>2010-10-01 10:04:00</td>\n",
        "      <td> 1</td>\n",
        "      <td> 1</td>\n",
        "      <td>2010-10-01 10:04:15</td>\n",
        "      <td>-00:00:15</td>\n",
        "    </tr>\n",
        "    <tr>\n",
        "      <th>2010-10-01 10:05:00</th>\n",
        "      <td>2010-10-01 10:05:00</td>\n",
        "      <td> 2</td>\n",
        "      <td> 1</td>\n",
        "      <td>2010-10-01 10:04:15</td>\n",
        "      <td> 00:00:45</td>\n",
        "    </tr>\n",
        "    <tr>\n",
        "      <th>2010-10-01 10:06:00</th>\n",
        "      <td>2010-10-01 10:06:00</td>\n",
        "      <td> 2</td>\n",
        "      <td> 2</td>\n",
        "      <td>2010-10-01 10:07:05</td>\n",
        "      <td>-00:01:05</td>\n",
        "    </tr>\n",
        "    <tr>\n",
        "      <th>2010-10-01 10:07:00</th>\n",
        "      <td>2010-10-01 10:07:00</td>\n",
        "      <td> 2</td>\n",
        "      <td> 2</td>\n",
        "      <td>2010-10-01 10:07:05</td>\n",
        "      <td>-00:00:05</td>\n",
        "    </tr>\n",
        "    <tr>\n",
        "      <th>2010-10-01 10:08:00</th>\n",
        "      <td>2010-10-01 10:08:00</td>\n",
        "      <td> 3</td>\n",
        "      <td> 2</td>\n",
        "      <td>2010-10-01 10:07:05</td>\n",
        "      <td> 00:00:55</td>\n",
        "    </tr>\n",
        "    <tr>\n",
        "      <th>2010-10-01 10:09:00</th>\n",
        "      <td>2010-10-01 10:09:00</td>\n",
        "      <td> 3</td>\n",
        "      <td> 2</td>\n",
        "      <td>2010-10-01 10:07:05</td>\n",
        "      <td> 00:01:55</td>\n",
        "    </tr>\n",
        "  </tbody>\n",
        "</table>\n",
        "</div>"
       ],
       "metadata": {},
       "output_type": "pyout",
       "prompt_number": 152,
       "text": [
        "                                  times  idx  should             closest  \\\n",
        "2010-10-01 10:00:00 2010-10-01 10:00:00    0       0 2010-10-01 10:01:25   \n",
        "2010-10-01 10:01:00 2010-10-01 10:01:00    0       0 2010-10-01 10:01:25   \n",
        "2010-10-01 10:02:00 2010-10-01 10:02:00    1       0 2010-10-01 10:01:25   \n",
        "2010-10-01 10:03:00 2010-10-01 10:03:00    1       1 2010-10-01 10:04:15   \n",
        "2010-10-01 10:04:00 2010-10-01 10:04:00    1       1 2010-10-01 10:04:15   \n",
        "2010-10-01 10:05:00 2010-10-01 10:05:00    2       1 2010-10-01 10:04:15   \n",
        "2010-10-01 10:06:00 2010-10-01 10:06:00    2       2 2010-10-01 10:07:05   \n",
        "2010-10-01 10:07:00 2010-10-01 10:07:00    2       2 2010-10-01 10:07:05   \n",
        "2010-10-01 10:08:00 2010-10-01 10:08:00    3       2 2010-10-01 10:07:05   \n",
        "2010-10-01 10:09:00 2010-10-01 10:09:00    3       2 2010-10-01 10:07:05   \n",
        "\n",
        "                       deltas  \n",
        "2010-10-01 10:00:00 -00:01:25  \n",
        "2010-10-01 10:01:00 -00:00:25  \n",
        "2010-10-01 10:02:00  00:00:35  \n",
        "2010-10-01 10:03:00 -00:01:15  \n",
        "2010-10-01 10:04:00 -00:00:15  \n",
        "2010-10-01 10:05:00  00:00:45  \n",
        "2010-10-01 10:06:00 -00:01:05  \n",
        "2010-10-01 10:07:00 -00:00:05  \n",
        "2010-10-01 10:08:00  00:00:55  \n",
        "2010-10-01 10:09:00  00:01:55  "
       ]
      }
     ],
     "prompt_number": 152
    },
    {
     "cell_type": "code",
     "collapsed": false,
     "input": [
      "offsets"
     ],
     "language": "python",
     "metadata": {},
     "outputs": [
      {
       "metadata": {},
       "output_type": "pyout",
       "prompt_number": 153,
       "text": [
        "0   2010-10-01 10:01:25\n",
        "1   2010-10-01 10:04:15\n",
        "2   2010-10-01 10:07:05\n",
        "dtype: datetime64[ns]"
       ]
      }
     ],
     "prompt_number": 153
    },
    {
     "cell_type": "code",
     "collapsed": false,
     "input": [
      "np.searchsorted(droffsets.values, drdata.values, side='left')"
     ],
     "language": "python",
     "metadata": {},
     "outputs": [
      {
       "metadata": {},
       "output_type": "pyout",
       "prompt_number": 157,
       "text": [
        "array([0, 0, 1, 1, 1, 2, 2, 2, 3, 3])"
       ]
      }
     ],
     "prompt_number": 157
    },
    {
     "cell_type": "code",
     "collapsed": false,
     "input": [
      "np.searchsorted?"
     ],
     "language": "python",
     "metadata": {},
     "outputs": [],
     "prompt_number": 158
    },
    {
     "cell_type": "code",
     "collapsed": false,
     "input": [
      "dates_ix = offsets.index.values\n",
      "nearest_date = lambda date: dates_ix[np.searchsorted(dates_ix, date)]"
     ],
     "language": "python",
     "metadata": {},
     "outputs": [],
     "prompt_number": 171
    },
    {
     "cell_type": "code",
     "collapsed": false,
     "input": [
      "map(nearest_date, data.index)"
     ],
     "language": "python",
     "metadata": {},
     "outputs": [
      {
       "ename": "TypeError",
       "evalue": "Cannot compare type 'Timestamp' with type 'int'",
       "output_type": "pyerr",
       "traceback": [
        "\u001b[0;31m---------------------------------------------------------------------------\u001b[0m\n\u001b[0;31mTypeError\u001b[0m                                 Traceback (most recent call last)",
        "\u001b[0;32m<ipython-input-173-9fdc8d125e80>\u001b[0m in \u001b[0;36m<module>\u001b[0;34m()\u001b[0m\n\u001b[0;32m----> 1\u001b[0;31m \u001b[0mmap\u001b[0m\u001b[0;34m(\u001b[0m\u001b[0mnearest_date\u001b[0m\u001b[0;34m,\u001b[0m \u001b[0mdata\u001b[0m\u001b[0;34m.\u001b[0m\u001b[0mindex\u001b[0m\u001b[0;34m)\u001b[0m\u001b[0;34m\u001b[0m\u001b[0m\n\u001b[0m",
        "\u001b[0;32m<ipython-input-171-40b6ac9bfdfd>\u001b[0m in \u001b[0;36m<lambda>\u001b[0;34m(date)\u001b[0m\n\u001b[1;32m      1\u001b[0m \u001b[0mdates_ix\u001b[0m \u001b[0;34m=\u001b[0m \u001b[0moffsets\u001b[0m\u001b[0;34m.\u001b[0m\u001b[0mindex\u001b[0m\u001b[0;34m.\u001b[0m\u001b[0mvalues\u001b[0m\u001b[0;34m\u001b[0m\u001b[0m\n\u001b[0;32m----> 2\u001b[0;31m \u001b[0mnearest_date\u001b[0m \u001b[0;34m=\u001b[0m \u001b[0;32mlambda\u001b[0m \u001b[0mdate\u001b[0m\u001b[0;34m:\u001b[0m \u001b[0mdates_ix\u001b[0m\u001b[0;34m[\u001b[0m\u001b[0mnp\u001b[0m\u001b[0;34m.\u001b[0m\u001b[0msearchsorted\u001b[0m\u001b[0;34m(\u001b[0m\u001b[0mdates_ix\u001b[0m\u001b[0;34m,\u001b[0m \u001b[0mdate\u001b[0m\u001b[0;34m)\u001b[0m\u001b[0;34m]\u001b[0m\u001b[0;34m\u001b[0m\u001b[0m\n\u001b[0m",
        "\u001b[0;32m/Users/maye/miniconda3/envs/py27/lib/python2.7/site-packages/numpy/core/fromnumeric.pyc\u001b[0m in \u001b[0;36msearchsorted\u001b[0;34m(a, v, side, sorter)\u001b[0m\n\u001b[1;32m   1006\u001b[0m     \u001b[0;32mexcept\u001b[0m \u001b[0mAttributeError\u001b[0m\u001b[0;34m:\u001b[0m\u001b[0;34m\u001b[0m\u001b[0m\n\u001b[1;32m   1007\u001b[0m         \u001b[0;32mreturn\u001b[0m \u001b[0m_wrapit\u001b[0m\u001b[0;34m(\u001b[0m\u001b[0ma\u001b[0m\u001b[0;34m,\u001b[0m \u001b[0;34m'searchsorted'\u001b[0m\u001b[0;34m,\u001b[0m \u001b[0mv\u001b[0m\u001b[0;34m,\u001b[0m \u001b[0mside\u001b[0m\u001b[0;34m,\u001b[0m \u001b[0msorter\u001b[0m\u001b[0;34m)\u001b[0m\u001b[0;34m\u001b[0m\u001b[0m\n\u001b[0;32m-> 1008\u001b[0;31m     \u001b[0;32mreturn\u001b[0m \u001b[0msearchsorted\u001b[0m\u001b[0;34m(\u001b[0m\u001b[0mv\u001b[0m\u001b[0;34m,\u001b[0m \u001b[0mside\u001b[0m\u001b[0;34m,\u001b[0m \u001b[0msorter\u001b[0m\u001b[0;34m)\u001b[0m\u001b[0;34m\u001b[0m\u001b[0m\n\u001b[0m\u001b[1;32m   1009\u001b[0m \u001b[0;34m\u001b[0m\u001b[0m\n\u001b[1;32m   1010\u001b[0m \u001b[0;34m\u001b[0m\u001b[0m\n",
        "\u001b[0;32m/Users/maye/miniconda3/envs/py27/lib/python2.7/site-packages/pandas/tslib.so\u001b[0m in \u001b[0;36mpandas.tslib._Timestamp.__richcmp__ (pandas/tslib.c:13189)\u001b[0;34m()\u001b[0m\n",
        "\u001b[0;31mTypeError\u001b[0m: Cannot compare type 'Timestamp' with type 'int'"
       ]
      }
     ],
     "prompt_number": 173
    },
    {
     "cell_type": "code",
     "collapsed": false,
     "input": [
      "approx_dates"
     ],
     "language": "python",
     "metadata": {},
     "outputs": [
      {
       "metadata": {},
       "output_type": "pyout",
       "prompt_number": 111,
       "text": [
        "[Timestamp('2010-10-01 10:02:00', offset='T'),\n",
        " Timestamp('2010-10-01 10:05:00', offset='T'),\n",
        " Timestamp('2010-10-01 10:08:00', offset='T')]"
       ]
      }
     ],
     "prompt_number": 111
    },
    {
     "cell_type": "code",
     "collapsed": false,
     "input": [
      "pd.Series(drdata)"
     ],
     "language": "python",
     "metadata": {},
     "outputs": [
      {
       "metadata": {},
       "output_type": "pyout",
       "prompt_number": 112,
       "text": [
        "0   2010-10-01 10:00:00\n",
        "1   2010-10-01 10:01:00\n",
        "2   2010-10-01 10:02:00\n",
        "3   2010-10-01 10:03:00\n",
        "4   2010-10-01 10:04:00\n",
        "5   2010-10-01 10:05:00\n",
        "6   2010-10-01 10:06:00\n",
        "7   2010-10-01 10:07:00\n",
        "8   2010-10-01 10:08:00\n",
        "9   2010-10-01 10:09:00\n",
        "dtype: datetime64[ns]"
       ]
      }
     ],
     "prompt_number": 112
    },
    {
     "cell_type": "code",
     "collapsed": false,
     "input": [
      "def find_closest(offset_times, all_times):\n",
      "    #offset_times must be sorted\n",
      "    idx = offset_times.searchsorted(all_times)\n",
      "    idx = np.clip(idx, 1, len(offset_times)-1)\n",
      "    left = offset_times[idx-1]\n",
      "    right = offset_times[idx]\n",
      "    idx -= all_times - left < right - all_times\n",
      "    return idx"
     ],
     "language": "python",
     "metadata": {},
     "outputs": [],
     "prompt_number": 195
    },
    {
     "cell_type": "code",
     "collapsed": false,
     "input": [
      "idx = find_closest(rdr2.offsets.index.values, rdr2.df.index.values)"
     ],
     "language": "python",
     "metadata": {},
     "outputs": [],
     "prompt_number": 198
    },
    {
     "cell_type": "code",
     "collapsed": false,
     "input": [
      "rdr2.df['closest_offset_idx'] = idx"
     ],
     "language": "python",
     "metadata": {},
     "outputs": [],
     "prompt_number": 200
    },
    {
     "cell_type": "code",
     "collapsed": false,
     "input": [
      "rdr2.df.index - rdr2.offsets.index[idx]"
     ],
     "language": "python",
     "metadata": {},
     "outputs": [
      {
       "metadata": {},
       "output_type": "pyout",
       "prompt_number": 211,
       "text": [
        "<class 'pandas.tseries.index.DatetimeIndex'>\n",
        "[2011-07-19 08:00:01.233000, ..., 2011-07-19 11:00:00.336000]\n",
        "Length: 84384, Freq: None, Timezone: None"
       ]
      }
     ],
     "prompt_number": 211
    },
    {
     "cell_type": "code",
     "collapsed": false,
     "input": [
      "%timeit pd.Series(rdr2.df.index) - pd.Series(rdr2.offsets.index[idx])"
     ],
     "language": "python",
     "metadata": {},
     "outputs": [
      {
       "output_type": "stream",
       "stream": "stdout",
       "text": [
        "100 loops, best of 3: 3.81 ms per loop\n"
       ]
      }
     ],
     "prompt_number": 228
    },
    {
     "cell_type": "code",
     "collapsed": false,
     "input": [
      "ts = pd.TimeSeries(rdr2.df.index.values - rdr2.offsets.index[idx].values)"
     ],
     "language": "python",
     "metadata": {},
     "outputs": [],
     "prompt_number": 234
    },
    {
     "cell_type": "code",
     "collapsed": false,
     "input": [
      "ts.dtype"
     ],
     "language": "python",
     "metadata": {},
     "outputs": [
      {
       "metadata": {},
       "output_type": "pyout",
       "prompt_number": 238,
       "text": [
        "dtype('<m8[ns]')"
       ]
      }
     ],
     "prompt_number": 238
    },
    {
     "cell_type": "code",
     "collapsed": false,
     "input": [
      "ts.astype('timedelta64[s]')"
     ],
     "language": "python",
     "metadata": {},
     "outputs": [
      {
       "metadata": {},
       "output_type": "pyout",
       "prompt_number": 247,
       "text": [
        "0    -91\n",
        "1    -90\n",
        "2    -90\n",
        "3    -90\n",
        "4    -90\n",
        "5    -90\n",
        "6    -90\n",
        "7    -90\n",
        "8    -90\n",
        "9    -89\n",
        "10   -89\n",
        "11   -89\n",
        "12   -89\n",
        "13   -89\n",
        "14   -89\n",
        "...\n",
        "84369    532\n",
        "84370    532\n",
        "84371    532\n",
        "84372    533\n",
        "84373    533\n",
        "84374    533\n",
        "84375    533\n",
        "84376    533\n",
        "84377    533\n",
        "84378    533\n",
        "84379    533\n",
        "84380    534\n",
        "84381    534\n",
        "84382    534\n",
        "84383    534\n",
        "Length: 84384, dtype: float64"
       ]
      }
     ],
     "prompt_number": 247
    },
    {
     "cell_type": "code",
     "collapsed": false,
     "input": [],
     "language": "python",
     "metadata": {},
     "outputs": []
    }
   ],
   "metadata": {}
  }
 ]
}