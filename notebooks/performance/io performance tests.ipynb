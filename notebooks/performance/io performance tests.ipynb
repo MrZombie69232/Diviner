{
 "metadata": {
  "name": "",
  "signature": "sha256:f7e72ffc5a6420481c90632bb0cd7c20bd5cbaf8be5ee45a395111bbcb5fd95c"
 },
 "nbformat": 3,
 "nbformat_minor": 0,
 "worksheets": [
  {
   "cells": [
    {
     "cell_type": "code",
     "collapsed": false,
     "input": [
      "from diviner import file_utils as fu\n",
      "import zipfile\n",
      "import datetime as dt\n",
      "reload(fu)"
     ],
     "language": "python",
     "metadata": {},
     "outputs": []
    },
    {
     "cell_type": "code",
     "collapsed": false,
     "input": [
      "rdrreader = fu.RDRReader('/u/paige/maye/rdr_data/2013030300_RDR.TAB.zip')"
     ],
     "language": "python",
     "metadata": {},
     "outputs": []
    },
    {
     "cell_type": "code",
     "collapsed": false,
     "input": [
      "zfile = zipfile.ZipFile('/u/paige/maye/rdr_data/2013030300_RDR.TAB.zip')"
     ],
     "language": "python",
     "metadata": {},
     "outputs": []
    },
    {
     "cell_type": "code",
     "collapsed": false,
     "input": [
      "f = zfile.open(zfile.namelist()[0])"
     ],
     "language": "python",
     "metadata": {},
     "outputs": []
    },
    {
     "cell_type": "code",
     "collapsed": false,
     "input": [
      "parse = lambda x: dt.datetime.strptime(x, '%d-%b-%Y %H:%M:%S.%f')"
     ],
     "language": "python",
     "metadata": {},
     "outputs": []
    },
    {
     "cell_type": "code",
     "collapsed": false,
     "input": [
      "%%timeit\n",
      "df = pd.io.parsers.read_csv(f, nrows=1e5, \n",
      "                            skipinitialspace=True,names=rdrreader.headers,\n",
      "                            skiprows=1, na_values=['-9999.0'])"
     ],
     "language": "python",
     "metadata": {},
     "outputs": []
    },
    {
     "cell_type": "code",
     "collapsed": false,
     "input": [
      "%%timeit\n",
      "df = pd.io.parsers.read_csv(f, nrows=1e5, \n",
      "                            skipinitialspace=True,names=rdrreader.headers,\n",
      "                            skiprows=1, na_values=['-9999.0'],\n",
      "                            parse_dates=[[0,1]],index_col=0,\n",
      "                            date_parser=parse)"
     ],
     "language": "python",
     "metadata": {},
     "outputs": []
    },
    {
     "cell_type": "code",
     "collapsed": false,
     "input": [
      "%%timeit\n",
      "df = pd.io.parsers.read_csv(f, nrows=1e5, \n",
      "                            skipinitialspace=True,names=rdrreader.headers,\n",
      "                            skiprows=1, na_values=['-9999.0'],)\n",
      "times = pd.to_datetime(df.date + ' ' + df.utc, format='%d-%b-%Y %H:%M:%S.%f')\n",
      "df.set_index(times, inplace=True)\n",
      "df = df.drop(['date','utc'], axis=1)"
     ],
     "language": "python",
     "metadata": {},
     "outputs": []
    },
    {
     "cell_type": "code",
     "collapsed": false,
     "input": [
      "%%timeit\n",
      "df = pd.io.parsers.read_csv(f, nrows=1e5,\n",
      "                            skipinitialspace=True,\n",
      "                            names=rdrreader.headers,skiprows=1,\n",
      "                            na_values=['-9999.0'])\n",
      "date_utc = df.date + ' ' + df.utc\n",
      "time = date_utc.map(parse)\n",
      "df.set_index(time, inplace=True)\n",
      "df = df.drop(['date','utc'],axis=1)"
     ],
     "language": "python",
     "metadata": {},
     "outputs": []
    },
    {
     "cell_type": "code",
     "collapsed": false,
     "input": [
      "headers = fu.get_l1a_headers('2013060606_L1A.TAB')"
     ],
     "language": "python",
     "metadata": {},
     "outputs": []
    },
    {
     "cell_type": "code",
     "collapsed": false,
     "input": [
      "%%timeit\n",
      "df = pd.io.parsers.read_csv('2013060606_L1A.TAB',\n",
      "                            names=headers,\n",
      "                            na_values='-9999',\n",
      "                            skiprows=8,\n",
      "                            skipinitialspace=True,\n",
      "                            parse_dates=[[1,2]],\n",
      "                            index_col=0)"
     ],
     "language": "python",
     "metadata": {},
     "outputs": []
    },
    {
     "cell_type": "code",
     "collapsed": false,
     "input": [
      "%%timeit\n",
      "df = pd.io.parsers.read_csv('2013060606_L1A.TAB',\n",
      "                            names=headers,\n",
      "                            na_values='-9999',\n",
      "                            skiprows=8,\n",
      "                            skipinitialspace=True)\n",
      "times = pd.to_datetime(df.date + ' ' + df.utc,format='%d-%b-%Y %H:%M:%S.%f')\n",
      "df.set_index(times,inplace=True)\n",
      "df = df.drop(['date','utc'],axis=1)"
     ],
     "language": "python",
     "metadata": {},
     "outputs": []
    },
    {
     "cell_type": "code",
     "collapsed": false,
     "input": [
      "l1apump = fu.L1ADataPump('20130303')"
     ],
     "language": "python",
     "metadata": {},
     "outputs": []
    },
    {
     "cell_type": "code",
     "collapsed": false,
     "input": [
      "headers = fu.get_l1a_headers(fn.fname)"
     ],
     "language": "python",
     "metadata": {},
     "outputs": []
    },
    {
     "cell_type": "code",
     "collapsed": false,
     "input": [
      "fn = fu.FileName(l1apump.fnames[0])"
     ],
     "language": "python",
     "metadata": {},
     "outputs": []
    },
    {
     "cell_type": "code",
     "collapsed": false,
     "input": [
      "%%timeit\n",
      "l = []\n",
      "l.append(fu.read_l1a_data(fn.get_previous_hour_fname()))\n",
      "l.append(fu.read_l1a_data(fn.fname))\n",
      "l.append(fu.read_l1a_data(fn.get_next_hour_fname()))\n",
      "df = pd.concat(l)\n"
     ],
     "language": "python",
     "metadata": {},
     "outputs": []
    },
    {
     "cell_type": "code",
     "collapsed": false,
     "input": [
      "%%timeit\n",
      "l = []\n",
      "l.append(pd.io.parsers.read_csv(fn.get_previous_hour_fname(),\n",
      "                                names=headers,\n",
      "                                na_values='-9999',\n",
      "                                skiprows=8,\n",
      "                                skipinitialspace=True))\n",
      "l.append(pd.io.parsers.read_csv(fn.fname,\n",
      "                                names=headers,\n",
      "                                na_values='-9999',\n",
      "                                skiprows=8,\n",
      "                                skipinitialspace=True))\n",
      "l.append(pd.io.parsers.read_csv(fn.get_next_hour_fname(),\n",
      "                                names=headers,\n",
      "                                na_values='-9999',\n",
      "                                skiprows=8,\n",
      "                                skipinitialspace=True))\n",
      "df = pd.concat(l)\n",
      "times = pd.to_datetime(df.date + ' ' + df.utc, format='%d-%b-%Y %H:%M:%S.%f')\n",
      "df.set_index(times, inplace=True)\n",
      "df = df.drop(['date','utc'], axis=1)"
     ],
     "language": "python",
     "metadata": {},
     "outputs": []
    },
    {
     "cell_type": "markdown",
     "metadata": {},
     "source": [
      "## Write"
     ]
    },
    {
     "cell_type": "code",
     "collapsed": false,
     "input": [
      "df = pd.DataFrame(randn(11, 3))\n",
      "# %timeit df.to_csv('test_Fastwriter.csv', engine='fast')\n",
      "# %timeit df.to_csv('test_standardwriter.csv')"
     ],
     "language": "python",
     "metadata": {},
     "outputs": []
    },
    {
     "cell_type": "code",
     "collapsed": false,
     "input": [
      "df.to_csv('test_Fastwriter.csv', engine='fast')\n",
      "!cat test_Fastwriter.csv"
     ],
     "language": "python",
     "metadata": {},
     "outputs": []
    },
    {
     "cell_type": "code",
     "collapsed": false,
     "input": [
      "df[1] = df[1].astype('int')"
     ],
     "language": "python",
     "metadata": {},
     "outputs": []
    },
    {
     "cell_type": "raw",
     "metadata": {},
     "source": []
    },
    {
     "cell_type": "code",
     "collapsed": false,
     "input": [
      "%timeit df.to_csv('test_out.csv', engine='fast')"
     ],
     "language": "python",
     "metadata": {},
     "outputs": []
    },
    {
     "cell_type": "code",
     "collapsed": false,
     "input": [
      "from pandas.core import format as fmt"
     ],
     "language": "python",
     "metadata": {},
     "outputs": []
    },
    {
     "cell_type": "code",
     "collapsed": false,
     "input": [
      "formatter = fmt.CSVFormatter(df)"
     ],
     "language": "python",
     "metadata": {},
     "outputs": []
    },
    {
     "cell_type": "code",
     "collapsed": false,
     "input": [
      "b = formatter.blocks[1]"
     ],
     "language": "python",
     "metadata": {},
     "outputs": []
    },
    {
     "cell_type": "code",
     "collapsed": false,
     "input": [
      "# tstr = '2012010100'  # small rdrr\n",
      "tstr = '2013031707'  # with l1a and big rdrr\n",
      "obs = fu.DivObs(tstr)\n",
      "df = obs.get_rdrr()"
     ],
     "language": "python",
     "metadata": {},
     "outputs": [],
     "prompt_number": 7
    },
    {
     "cell_type": "code",
     "collapsed": false,
     "input": [
      "df.fillna(-9999, inplace=True)"
     ],
     "language": "python",
     "metadata": {},
     "outputs": [],
     "prompt_number": 8
    },
    {
     "cell_type": "code",
     "collapsed": false,
     "input": [
      "%timeit df.to_csv('test_FastWriter.csv', engine='fast')\n",
      "%timeit df.to_csv('test_standardwriter.csv', index=False)"
     ],
     "language": "python",
     "metadata": {},
     "outputs": [
      {
       "output_type": "stream",
       "stream": "stdout",
       "text": [
        "1 loops, best of 3: 39.1 s per loop\n",
        "1 loops, best of 3: 56.6 s per loop"
       ]
      },
      {
       "output_type": "stream",
       "stream": "stdout",
       "text": [
        "\n"
       ]
      }
     ],
     "prompt_number": 9
    },
    {
     "cell_type": "code",
     "collapsed": false,
     "input": [
      "eps = 1e-5\n",
      "with open('test_Fastwriter.csv') as fast:\n",
      "    with open('test_standardwriter.csv') as standard:\n",
      "#         fast.readline()\n",
      "#         standard.readline()\n",
      "        fasttokens = fast.readline().split(',')\n",
      "        standardtokens = standard.readline().split(',')\n",
      "        for ftok, stok in zip(fasttokens, standardtokens):\n",
      "#             if float(ftok) - float(stok) > eps:\n",
      "#                 print repr(ftok), repr(stok)\n",
      "            print repr(ftok),repr(stok)"
     ],
     "language": "python",
     "metadata": {},
     "outputs": []
    },
    {
     "cell_type": "code",
     "collapsed": false,
     "input": [
      "df_stand.columns.shape"
     ],
     "language": "python",
     "metadata": {},
     "outputs": [
      {
       "metadata": {},
       "output_type": "pyout",
       "prompt_number": 11,
       "text": [
        "(2937,)"
       ]
      }
     ],
     "prompt_number": 11
    },
    {
     "cell_type": "code",
     "collapsed": false,
     "input": [
      "df_fast = pd.read_csv('test_Fastwriter.csv')\n",
      "df_stand = pd.read_csv('test_standardwriter.csv')"
     ],
     "language": "python",
     "metadata": {},
     "outputs": [],
     "prompt_number": 4
    },
    {
     "cell_type": "code",
     "collapsed": false,
     "input": [
      "print df_fast.columns[:5]\n",
      "print df_stand.columns[:5]"
     ],
     "language": "python",
     "metadata": {},
     "outputs": [
      {
       "output_type": "stream",
       "stream": "stdout",
       "text": [
        "Index([u'jdate', u'orbit', u'sundist', u'sunlat', u'sunlon'], dtype='object')\n",
        "Index([u'jdate', u'orbit', u'sundist', u'sunlat', u'sunlon'], dtype='object')\n"
       ]
      }
     ],
     "prompt_number": 7
    },
    {
     "cell_type": "code",
     "collapsed": false,
     "input": [
      "d = {'a':[0,1,2,3,4], 'b': [0.1,0.2,0.3,0.4,0.5], 'c':list('abcde')}\n",
      "df = pd.DataFrame.from_dict(d)\n",
      "print df.to_csv(index=False)\n",
      "df.to_csv('test_Fastwriter.csv', engine='fast')\n",
      "!cat test_Fastwriter.csv"
     ],
     "language": "python",
     "metadata": {},
     "outputs": [
      {
       "output_type": "stream",
       "stream": "stdout",
       "text": [
        "a,b,c\n",
        "0,0.1,a\n",
        "1,0.2,b\n",
        "2,0.3,c\n",
        "3,0.4,d\n",
        "4,0.5,e\n",
        "\n",
        "a,b,c\r\n",
        "0,0.100000,a\r\n",
        "1,0.200000,b\r\n",
        "2,0.300000,c\r\n",
        "3,0.400000,d\r\n",
        "4,0.500000,e\r\n"
       ]
      }
     ],
     "prompt_number": 1
    },
    {
     "cell_type": "code",
     "collapsed": false,
     "input": [
      "np.all(df_fast == df_stand)"
     ],
     "language": "python",
     "metadata": {},
     "outputs": [
      {
       "metadata": {},
       "output_type": "pyout",
       "prompt_number": 8,
       "text": [
        "False"
       ]
      }
     ],
     "prompt_number": 8
    },
    {
     "cell_type": "code",
     "collapsed": false,
     "input": [
      "df_fast.jdate.head()"
     ],
     "language": "python",
     "metadata": {},
     "outputs": [
      {
       "metadata": {},
       "output_type": "pyout",
       "prompt_number": 10,
       "text": [
        "0    2455927.5\n",
        "1    2455927.5\n",
        "2    2455927.5\n",
        "3    2455927.5\n",
        "4    2455927.5\n",
        "Name: jdate, dtype: float64"
       ]
      }
     ],
     "prompt_number": 10
    },
    {
     "cell_type": "code",
     "collapsed": false,
     "input": [
      "df_stand.jdate.head()"
     ],
     "language": "python",
     "metadata": {},
     "outputs": [
      {
       "metadata": {},
       "output_type": "pyout",
       "prompt_number": 11,
       "text": [
        "0    2455927.500000\n",
        "1    2455927.500002\n",
        "2    2455927.500003\n",
        "3    2455927.500005\n",
        "4    2455927.500006\n",
        "Name: jdate, dtype: float64"
       ]
      }
     ],
     "prompt_number": 11
    },
    {
     "cell_type": "code",
     "collapsed": false,
     "input": [],
     "language": "python",
     "metadata": {},
     "outputs": []
    }
   ],
   "metadata": {}
  }
 ]
}