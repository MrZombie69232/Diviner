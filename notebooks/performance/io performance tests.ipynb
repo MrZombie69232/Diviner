{
 "metadata": {
  "name": "",
  "signature": "sha256:709a9589b486014124c2b37226d2d9e47e6c52b2f5a24c5a2edb7e2e578b7c77"
 },
 "nbformat": 3,
 "nbformat_minor": 0,
 "worksheets": [
  {
   "cells": [
    {
     "cell_type": "code",
     "collapsed": false,
     "input": [
      "from diviner import file_utils as fu\n",
      "import zipfile\n",
      "import datetime as dt\n",
      "reload(fu)"
     ],
     "language": "python",
     "metadata": {},
     "outputs": [
      {
       "metadata": {},
       "output_type": "pyout",
       "prompt_number": 1,
       "text": [
        "<module 'diviner.file_utils' from '/u/paige/maye/src/diviner/file_utils.pyc'>"
       ]
      }
     ],
     "prompt_number": 1
    },
    {
     "cell_type": "code",
     "collapsed": false,
     "input": [
      "rdrreader = fu.RDRReader('/u/paige/maye/rdr_data/2013030300_RDR.TAB.zip')"
     ],
     "language": "python",
     "metadata": {},
     "outputs": [],
     "prompt_number": 6
    },
    {
     "cell_type": "code",
     "collapsed": false,
     "input": [
      "zfile = zipfile.ZipFile('/u/paige/maye/rdr_data/2013030300_RDR.TAB.zip')"
     ],
     "language": "python",
     "metadata": {},
     "outputs": [],
     "prompt_number": 2
    },
    {
     "cell_type": "code",
     "collapsed": false,
     "input": [
      "f = zfile.open(zfile.namelist()[0])"
     ],
     "language": "python",
     "metadata": {},
     "outputs": [],
     "prompt_number": 3
    },
    {
     "cell_type": "code",
     "collapsed": false,
     "input": [
      "parse = lambda x: dt.datetime.strptime(x, '%d-%b-%Y %H:%M:%S.%f')"
     ],
     "language": "python",
     "metadata": {},
     "outputs": [],
     "prompt_number": 4
    },
    {
     "cell_type": "code",
     "collapsed": false,
     "input": [
      "%%timeit\n",
      "df = pd.io.parsers.read_csv(f, nrows=1e5, \n",
      "                            skipinitialspace=True,names=rdrreader.headers,\n",
      "                            skiprows=1, na_values=['-9999.0'])"
     ],
     "language": "python",
     "metadata": {},
     "outputs": [
      {
       "output_type": "stream",
       "stream": "stdout",
       "text": [
        "1 loops, best of 3: 917 ms per loop\n"
       ]
      }
     ],
     "prompt_number": 8
    },
    {
     "cell_type": "code",
     "collapsed": false,
     "input": [
      "%%timeit\n",
      "df = pd.io.parsers.read_csv(f, nrows=1e5, \n",
      "                            skipinitialspace=True,names=rdrreader.headers,\n",
      "                            skiprows=1, na_values=['-9999.0'],\n",
      "                            parse_dates=[[0,1]],index_col=0,\n",
      "                            date_parser=parse)"
     ],
     "language": "python",
     "metadata": {},
     "outputs": [
      {
       "output_type": "stream",
       "stream": "stdout",
       "text": [
        "1 loops, best of 3: 4.22 s per loop\n"
       ]
      }
     ],
     "prompt_number": 9
    },
    {
     "cell_type": "code",
     "collapsed": false,
     "input": [
      "%%timeit\n",
      "df = pd.io.parsers.read_csv(f, nrows=1e5, \n",
      "                            skipinitialspace=True,names=rdrreader.headers,\n",
      "                            skiprows=1, na_values=['-9999.0'],)\n",
      "times = pd.to_datetime(df.date + ' ' + df.utc, format='%d-%b-%Y %H:%M:%S.%f')\n",
      "df.set_index(times, inplace=True)\n",
      "df = df.drop(['date','utc'], axis=1)"
     ],
     "language": "python",
     "metadata": {},
     "outputs": [
      {
       "output_type": "stream",
       "stream": "stdout",
       "text": [
        "1 loops, best of 3: 2.22 s per loop\n"
       ]
      }
     ],
     "prompt_number": 10
    },
    {
     "cell_type": "code",
     "collapsed": false,
     "input": [
      "%%timeit\n",
      "df = pd.io.parsers.read_csv(f, nrows=1e5,\n",
      "                            skipinitialspace=True,\n",
      "                            names=rdrreader.headers,skiprows=1,\n",
      "                            na_values=['-9999.0'])\n",
      "date_utc = df.date + ' ' + df.utc\n",
      "time = date_utc.map(parse)\n",
      "df.set_index(time, inplace=True)\n",
      "df = df.drop(['date','utc'],axis=1)"
     ],
     "language": "python",
     "metadata": {},
     "outputs": [
      {
       "output_type": "stream",
       "stream": "stdout",
       "text": [
        "1 loops, best of 3: 3.98 s per loop\n"
       ]
      }
     ],
     "prompt_number": 11
    },
    {
     "cell_type": "code",
     "collapsed": false,
     "input": [
      "headers = fu.get_l1a_headers('2013060606_L1A.TAB')"
     ],
     "language": "python",
     "metadata": {},
     "outputs": [],
     "prompt_number": 20
    },
    {
     "cell_type": "code",
     "collapsed": false,
     "input": [
      "%%timeit\n",
      "df = pd.io.parsers.read_csv('2013060606_L1A.TAB',\n",
      "                            names=headers,\n",
      "                            na_values='-9999',\n",
      "                            skiprows=8,\n",
      "                            skipinitialspace=True,\n",
      "                            parse_dates=[[1,2]],\n",
      "                            index_col=0)"
     ],
     "language": "python",
     "metadata": {},
     "outputs": [
      {
       "output_type": "stream",
       "stream": "stdout",
       "text": [
        "1 loops, best of 3: 5.15 s per loop\n"
       ]
      }
     ],
     "prompt_number": 30
    },
    {
     "cell_type": "code",
     "collapsed": false,
     "input": [
      "%%timeit\n",
      "df = pd.io.parsers.read_csv('2013060606_L1A.TAB',\n",
      "                            names=headers,\n",
      "                            na_values='-9999',\n",
      "                            skiprows=8,\n",
      "                            skipinitialspace=True)\n",
      "times = pd.to_datetime(df.date + ' ' + df.utc,format='%d-%b-%Y %H:%M:%S.%f')\n",
      "df.set_index(times,inplace=True)\n",
      "df = df.drop(['date','utc'],axis=1)"
     ],
     "language": "python",
     "metadata": {},
     "outputs": [
      {
       "output_type": "stream",
       "stream": "stdout",
       "text": [
        "1 loops, best of 3: 1.44 s per loop\n"
       ]
      }
     ],
     "prompt_number": 31
    },
    {
     "cell_type": "code",
     "collapsed": false,
     "input": [
      "l1apump = fu.L1ADataPump('20130303')"
     ],
     "language": "python",
     "metadata": {},
     "outputs": [],
     "prompt_number": 2
    },
    {
     "cell_type": "code",
     "collapsed": false,
     "input": [
      "headers = fu.get_l1a_headers(fn.fname)"
     ],
     "language": "python",
     "metadata": {},
     "outputs": [],
     "prompt_number": 9
    },
    {
     "cell_type": "code",
     "collapsed": false,
     "input": [
      "fn = fu.FileName(l1apump.fnames[0])"
     ],
     "language": "python",
     "metadata": {},
     "outputs": [],
     "prompt_number": 3
    },
    {
     "cell_type": "code",
     "collapsed": false,
     "input": [
      "%%timeit\n",
      "l = []\n",
      "l.append(fu.read_l1a_data(fn.get_previous_hour_fname()))\n",
      "l.append(fu.read_l1a_data(fn.fname))\n",
      "l.append(fu.read_l1a_data(fn.get_next_hour_fname()))\n",
      "df = pd.concat(l)\n"
     ],
     "language": "python",
     "metadata": {},
     "outputs": [
      {
       "output_type": "stream",
       "stream": "stdout",
       "text": [
        "1 loops, best of 3: 4.32 s per loop\n"
       ]
      }
     ],
     "prompt_number": 5
    },
    {
     "cell_type": "code",
     "collapsed": false,
     "input": [
      "%%timeit\n",
      "l = []\n",
      "l.append(pd.io.parsers.read_csv(fn.get_previous_hour_fname(),\n",
      "                                names=headers,\n",
      "                                na_values='-9999',\n",
      "                                skiprows=8,\n",
      "                                skipinitialspace=True))\n",
      "l.append(pd.io.parsers.read_csv(fn.fname,\n",
      "                                names=headers,\n",
      "                                na_values='-9999',\n",
      "                                skiprows=8,\n",
      "                                skipinitialspace=True))\n",
      "l.append(pd.io.parsers.read_csv(fn.get_next_hour_fname(),\n",
      "                                names=headers,\n",
      "                                na_values='-9999',\n",
      "                                skiprows=8,\n",
      "                                skipinitialspace=True))\n",
      "df = pd.concat(l)\n",
      "times = pd.to_datetime(df.date + ' ' + df.utc, format='%d-%b-%Y %H:%M:%S.%f')\n",
      "df.set_index(times, inplace=True)\n",
      "df = df.drop(['date','utc'], axis=1)"
     ],
     "language": "python",
     "metadata": {},
     "outputs": [
      {
       "output_type": "stream",
       "stream": "stdout",
       "text": [
        "1 loops, best of 3: 4.2 s per loop\n"
       ]
      }
     ],
     "prompt_number": 10
    },
    {
     "cell_type": "code",
     "collapsed": false,
     "input": [],
     "language": "python",
     "metadata": {},
     "outputs": []
    }
   ],
   "metadata": {}
  }
 ]
}