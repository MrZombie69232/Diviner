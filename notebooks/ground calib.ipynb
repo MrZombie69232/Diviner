{
 "metadata": {
  "name": ""
 },
 "nbformat": 3,
 "nbformat_minor": 0,
 "worksheets": [
  {
   "cells": [
    {
     "cell_type": "code",
     "collapsed": false,
     "input": [
      "from diviner import file_utils as fu"
     ],
     "language": "python",
     "metadata": {},
     "outputs": [],
     "prompt_number": 1
    },
    {
     "cell_type": "code",
     "collapsed": false,
     "input": [
      "cd ~/data/diviner/ground_calib/"
     ],
     "language": "python",
     "metadata": {},
     "outputs": [
      {
       "output_type": "stream",
       "stream": "stdout",
       "text": [
        "/Users/maye/data/diviner/ground_calib\n"
       ]
      }
     ],
     "prompt_number": 2
    },
    {
     "cell_type": "code",
     "collapsed": false,
     "input": [
      "groundfile = fu.GroundCalibFile('./2008011018_hsk.csv')"
     ],
     "language": "python",
     "metadata": {},
     "outputs": [],
     "prompt_number": 3
    },
    {
     "cell_type": "code",
     "collapsed": false,
     "input": [
      "df = groundfile.read_data()"
     ],
     "language": "python",
     "metadata": {},
     "outputs": [],
     "prompt_number": 45
    },
    {
     "cell_type": "code",
     "collapsed": false,
     "input": [
      "df.last_el_cmd[df.last_el_cmd == -9999.] = np.nan"
     ],
     "language": "python",
     "metadata": {},
     "outputs": [],
     "prompt_number": 46
    },
    {
     "cell_type": "code",
     "collapsed": false,
     "input": [
      "fig, axes = subplots(2)\n",
      "ax1_1 = df.b3_11av.plot(style='*', ax=axes[0])\n",
      "ax1_2 = df.last_el_cmd.plot(ax=axes[0], secondary_y=True)\n",
      "ax1_1.set_ylabel('Counts')\n",
      "ax1_2.set_ylabel('Elevation [deg]')\n",
      "title('Det b3_11av')\n",
      "ax1_1 = df.b3_11av.plot(style='*', ax=axes[1])\n",
      "ax1_2 = df.last_el_cmd.plot(ax=axes[1], secondary_y=True)\n",
      "ax1_1.set_ylabel('Counts')\n",
      "ax1_2.set_ylabel('Elevation [deg]')\n"
     ],
     "language": "python",
     "metadata": {},
     "outputs": [
      {
       "metadata": {},
       "output_type": "pyout",
       "prompt_number": 15,
       "text": [
        "<matplotlib.text.Text at 0x11a972d10>"
       ]
      }
     ],
     "prompt_number": 15
    },
    {
     "cell_type": "code",
     "collapsed": false,
     "input": [
      "df.fpa_temp.plot()"
     ],
     "language": "python",
     "metadata": {},
     "outputs": [
      {
       "metadata": {},
       "output_type": "pyout",
       "prompt_number": 11,
       "text": [
        "<matplotlib.axes.AxesSubplot at 0x11569c910>"
       ]
      }
     ],
     "prompt_number": 11
    },
    {
     "cell_type": "code",
     "collapsed": false,
     "input": [
      "df.fpa_temp[df.fpa_temp == -9999.] = np.nan"
     ],
     "language": "python",
     "metadata": {},
     "outputs": [],
     "prompt_number": 47
    },
    {
     "cell_type": "code",
     "collapsed": false,
     "input": [
      "figure()\n",
      "df.fpa_temp.plot()"
     ],
     "language": "python",
     "metadata": {},
     "outputs": [
      {
       "metadata": {},
       "output_type": "pyout",
       "prompt_number": 17,
       "text": [
        "<matplotlib.axes.AxesSubplot at 0x111e2acd0>"
       ]
      }
     ],
     "prompt_number": 17
    },
    {
     "cell_type": "code",
     "collapsed": false,
     "input": [
      "temps = df.filter(regex='temp')"
     ],
     "language": "python",
     "metadata": {},
     "outputs": [],
     "prompt_number": 48
    },
    {
     "cell_type": "code",
     "collapsed": false,
     "input": [
      "temps.temp_fault['temp_fault' == -9999] = 0"
     ],
     "language": "python",
     "metadata": {},
     "outputs": [],
     "prompt_number": 26
    },
    {
     "cell_type": "code",
     "collapsed": false,
     "input": [
      "temps['temp_fault'] = temps.temp_fault.astype('float')"
     ],
     "language": "python",
     "metadata": {},
     "outputs": [],
     "prompt_number": 29
    },
    {
     "cell_type": "code",
     "collapsed": false,
     "input": [
      "for col in temps.columns:\n",
      "    if col == 'temp_fault':\n",
      "        continue\n",
      "    df[col][df[col]==-9999.] = np.nan"
     ],
     "language": "python",
     "metadata": {},
     "outputs": [],
     "prompt_number": 35
    },
    {
     "cell_type": "code",
     "collapsed": false,
     "input": [
      "temps.temp_fault['temp_fault' == -9999.0] = np.nan"
     ],
     "language": "python",
     "metadata": {},
     "outputs": [],
     "prompt_number": 37
    },
    {
     "cell_type": "code",
     "collapsed": false,
     "input": [
      "temps.plot()"
     ],
     "language": "python",
     "metadata": {},
     "outputs": [
      {
       "metadata": {},
       "output_type": "pyout",
       "prompt_number": 38,
       "text": [
        "<matplotlib.axes.AxesSubplot at 0x11c928a50>"
       ]
      }
     ],
     "prompt_number": 38
    },
    {
     "cell_type": "code",
     "collapsed": false,
     "input": [
      "temps[temps < -9000] = np.nan"
     ],
     "language": "python",
     "metadata": {},
     "outputs": [],
     "prompt_number": 49
    },
    {
     "cell_type": "code",
     "collapsed": false,
     "input": [
      "temps.plot()"
     ],
     "language": "python",
     "metadata": {},
     "outputs": [
      {
       "metadata": {},
       "output_type": "pyout",
       "prompt_number": 50,
       "text": [
        "<matplotlib.axes.AxesSubplot at 0x11eaa6e10>"
       ]
      }
     ],
     "prompt_number": 50
    },
    {
     "cell_type": "code",
     "collapsed": false,
     "input": [
      "temps.temp_fault.plot()"
     ],
     "language": "python",
     "metadata": {},
     "outputs": [
      {
       "metadata": {},
       "output_type": "pyout",
       "prompt_number": 54,
       "text": [
        "<matplotlib.axes.AxesSubplot at 0x11d3457d0>"
       ]
      }
     ],
     "prompt_number": 54
    },
    {
     "cell_type": "code",
     "collapsed": false,
     "input": [
      "temps = temps.drop('temp_fault', axis=1)"
     ],
     "language": "python",
     "metadata": {},
     "outputs": [],
     "prompt_number": 57
    },
    {
     "cell_type": "code",
     "collapsed": false,
     "input": [
      "temps.plot()"
     ],
     "language": "python",
     "metadata": {},
     "outputs": [
      {
       "metadata": {},
       "output_type": "pyout",
       "prompt_number": 58,
       "text": [
        "<matplotlib.axes.AxesSubplot at 0x11e7358d0>"
       ]
      }
     ],
     "prompt_number": 58
    },
    {
     "cell_type": "code",
     "collapsed": false,
     "input": [
      "temps.describe()"
     ],
     "language": "python",
     "metadata": {},
     "outputs": [
      {
       "html": [
        "<div style=\"max-height:1000px;max-width:1500px;overflow:auto;\">\n",
        "<table border=\"1\" class=\"dataframe\">\n",
        "  <thead>\n",
        "    <tr style=\"text-align: right;\">\n",
        "      <th></th>\n",
        "      <th>fpa_temp</th>\n",
        "      <th>fpb_temp</th>\n",
        "      <th>baffle_a_temp</th>\n",
        "      <th>baffle_b_temp</th>\n",
        "      <th>bb_1_temp</th>\n",
        "      <th>oba_1_temp</th>\n",
        "      <th>hybrid_temp</th>\n",
        "      <th>fpa_temp_cyc</th>\n",
        "      <th>fpb_temp_cyc</th>\n",
        "      <th>baffle_a_temp_cyc</th>\n",
        "      <th>baffle_b_temp_cyc</th>\n",
        "      <th>oba_1_temp_cyc</th>\n",
        "      <th>oba_2_temp</th>\n",
        "      <th>bb_1_temp_cyc</th>\n",
        "      <th>bb_2_temp</th>\n",
        "      <th>solar_target_temp</th>\n",
        "      <th>yoke_temp</th>\n",
        "      <th>el_actuator_temp</th>\n",
        "      <th>az_actuator_temp</th>\n",
        "      <th>solar_base_temp</th>\n",
        "    </tr>\n",
        "  </thead>\n",
        "  <tbody>\n",
        "    <tr>\n",
        "      <th>count</th>\n",
        "      <td> 1747.000000</td>\n",
        "      <td> 1747.000000</td>\n",
        "      <td> 1747.000000</td>\n",
        "      <td> 1747.000000</td>\n",
        "      <td> 1746.000000</td>\n",
        "      <td> 1746.000000</td>\n",
        "      <td> 152.000000</td>\n",
        "      <td> 152.000000</td>\n",
        "      <td> 152.000000</td>\n",
        "      <td> 152.000000</td>\n",
        "      <td> 152.000000</td>\n",
        "      <td> 152.000000</td>\n",
        "      <td> 152.000000</td>\n",
        "      <td> 152.000000</td>\n",
        "      <td> 152.000000</td>\n",
        "      <td> 152.000000</td>\n",
        "      <td> 152.000000</td>\n",
        "      <td> 152.000000</td>\n",
        "      <td> 152.000000</td>\n",
        "      <td> 151.000000</td>\n",
        "    </tr>\n",
        "    <tr>\n",
        "      <th>mean</th>\n",
        "      <td>  290.586045</td>\n",
        "      <td>  291.179365</td>\n",
        "      <td>  290.447325</td>\n",
        "      <td>  291.095984</td>\n",
        "      <td>  289.387500</td>\n",
        "      <td>  288.155169</td>\n",
        "      <td> 296.007303</td>\n",
        "      <td> 290.598053</td>\n",
        "      <td> 291.190099</td>\n",
        "      <td> 290.456901</td>\n",
        "      <td> 291.100355</td>\n",
        "      <td> 288.156224</td>\n",
        "      <td> 287.985164</td>\n",
        "      <td> 289.396138</td>\n",
        "      <td> 289.280053</td>\n",
        "      <td> 248.866928</td>\n",
        "      <td> 289.400868</td>\n",
        "      <td> 284.634066</td>\n",
        "      <td> 287.619263</td>\n",
        "      <td> 264.801192</td>\n",
        "    </tr>\n",
        "    <tr>\n",
        "      <th>std</th>\n",
        "      <td>    0.987349</td>\n",
        "      <td>    1.088151</td>\n",
        "      <td>    1.110031</td>\n",
        "      <td>    1.180649</td>\n",
        "      <td>    0.101704</td>\n",
        "      <td>    0.117571</td>\n",
        "      <td>   0.221921</td>\n",
        "      <td>   0.991318</td>\n",
        "      <td>   1.093449</td>\n",
        "      <td>   1.114585</td>\n",
        "      <td>   1.181672</td>\n",
        "      <td>   0.116822</td>\n",
        "      <td>   0.143320</td>\n",
        "      <td>   0.107407</td>\n",
        "      <td>   0.111754</td>\n",
        "      <td>   0.773918</td>\n",
        "      <td>   0.457186</td>\n",
        "      <td>   0.554538</td>\n",
        "      <td>   0.300655</td>\n",
        "      <td>   0.662652</td>\n",
        "    </tr>\n",
        "    <tr>\n",
        "      <th>min</th>\n",
        "      <td>  289.037000</td>\n",
        "      <td>  289.430000</td>\n",
        "      <td>  288.713000</td>\n",
        "      <td>  289.123000</td>\n",
        "      <td>  289.047000</td>\n",
        "      <td>  287.860000</td>\n",
        "      <td> 295.297000</td>\n",
        "      <td> 289.061000</td>\n",
        "      <td> 289.448000</td>\n",
        "      <td> 288.729000</td>\n",
        "      <td> 289.147000</td>\n",
        "      <td> 287.875000</td>\n",
        "      <td> 287.591000</td>\n",
        "      <td> 289.054000</td>\n",
        "      <td> 289.065000</td>\n",
        "      <td> 247.668000</td>\n",
        "      <td> 288.642000</td>\n",
        "      <td> 283.849000</td>\n",
        "      <td> 287.062000</td>\n",
        "      <td> 263.777000</td>\n",
        "    </tr>\n",
        "    <tr>\n",
        "      <th>25%</th>\n",
        "      <td>  289.678000</td>\n",
        "      <td>  290.139500</td>\n",
        "      <td>  289.580000</td>\n",
        "      <td>  290.144500</td>\n",
        "      <td>  289.313000</td>\n",
        "      <td>  288.096000</td>\n",
        "      <td> 295.862750</td>\n",
        "      <td> 289.687000</td>\n",
        "      <td> 290.147000</td>\n",
        "      <td> 289.598750</td>\n",
        "      <td> 290.152750</td>\n",
        "      <td> 288.094500</td>\n",
        "      <td> 287.931000</td>\n",
        "      <td> 289.316750</td>\n",
        "      <td> 289.199500</td>\n",
        "      <td> 248.130000</td>\n",
        "      <td> 288.990250</td>\n",
        "      <td> 284.152250</td>\n",
        "      <td> 287.405750</td>\n",
        "      <td> 264.236500</td>\n",
        "    </tr>\n",
        "    <tr>\n",
        "      <th>50%</th>\n",
        "      <td>  290.527000</td>\n",
        "      <td>  291.484000</td>\n",
        "      <td>  290.299000</td>\n",
        "      <td>  290.885000</td>\n",
        "      <td>  289.389000</td>\n",
        "      <td>  288.176000</td>\n",
        "      <td> 296.023500</td>\n",
        "      <td> 290.557000</td>\n",
        "      <td> 291.530500</td>\n",
        "      <td> 290.310000</td>\n",
        "      <td> 290.884500</td>\n",
        "      <td> 288.177000</td>\n",
        "      <td> 288.017000</td>\n",
        "      <td> 289.399000</td>\n",
        "      <td> 289.275000</td>\n",
        "      <td> 248.825500</td>\n",
        "      <td> 289.389500</td>\n",
        "      <td> 284.537500</td>\n",
        "      <td> 287.537500</td>\n",
        "      <td> 264.743000</td>\n",
        "    </tr>\n",
        "    <tr>\n",
        "      <th>75%</th>\n",
        "      <td>  291.567000</td>\n",
        "      <td>  291.998000</td>\n",
        "      <td>  291.316000</td>\n",
        "      <td>  292.448000</td>\n",
        "      <td>  289.454750</td>\n",
        "      <td>  288.237000</td>\n",
        "      <td> 296.140500</td>\n",
        "      <td> 291.568500</td>\n",
        "      <td> 291.996250</td>\n",
        "      <td> 291.308000</td>\n",
        "      <td> 292.411250</td>\n",
        "      <td> 288.236000</td>\n",
        "      <td> 288.076000</td>\n",
        "      <td> 289.459750</td>\n",
        "      <td> 289.347750</td>\n",
        "      <td> 249.477000</td>\n",
        "      <td> 289.756250</td>\n",
        "      <td> 285.081500</td>\n",
        "      <td> 287.772500</td>\n",
        "      <td> 265.388000</td>\n",
        "    </tr>\n",
        "    <tr>\n",
        "      <th>max</th>\n",
        "      <td>  292.213000</td>\n",
        "      <td>  293.130000</td>\n",
        "      <td>  292.330000</td>\n",
        "      <td>  292.958000</td>\n",
        "      <td>  289.634000</td>\n",
        "      <td>  288.407000</td>\n",
        "      <td> 296.461000</td>\n",
        "      <td> 292.207000</td>\n",
        "      <td> 293.122000</td>\n",
        "      <td> 292.328000</td>\n",
        "      <td> 292.939000</td>\n",
        "      <td> 288.394000</td>\n",
        "      <td> 288.287000</td>\n",
        "      <td> 289.763000</td>\n",
        "      <td> 289.551000</td>\n",
        "      <td> 250.313000</td>\n",
        "      <td> 290.301000</td>\n",
        "      <td> 285.713000</td>\n",
        "      <td> 288.407000</td>\n",
        "      <td> 265.965000</td>\n",
        "    </tr>\n",
        "  </tbody>\n",
        "</table>\n",
        "</div>"
       ],
       "metadata": {},
       "output_type": "pyout",
       "prompt_number": 59,
       "text": [
        "          fpa_temp     fpb_temp  baffle_a_temp  baffle_b_temp    bb_1_temp  \\\n",
        "count  1747.000000  1747.000000    1747.000000    1747.000000  1746.000000   \n",
        "mean    290.586045   291.179365     290.447325     291.095984   289.387500   \n",
        "std       0.987349     1.088151       1.110031       1.180649     0.101704   \n",
        "min     289.037000   289.430000     288.713000     289.123000   289.047000   \n",
        "25%     289.678000   290.139500     289.580000     290.144500   289.313000   \n",
        "50%     290.527000   291.484000     290.299000     290.885000   289.389000   \n",
        "75%     291.567000   291.998000     291.316000     292.448000   289.454750   \n",
        "max     292.213000   293.130000     292.330000     292.958000   289.634000   \n",
        "\n",
        "        oba_1_temp  hybrid_temp  fpa_temp_cyc  fpb_temp_cyc  \\\n",
        "count  1746.000000   152.000000    152.000000    152.000000   \n",
        "mean    288.155169   296.007303    290.598053    291.190099   \n",
        "std       0.117571     0.221921      0.991318      1.093449   \n",
        "min     287.860000   295.297000    289.061000    289.448000   \n",
        "25%     288.096000   295.862750    289.687000    290.147000   \n",
        "50%     288.176000   296.023500    290.557000    291.530500   \n",
        "75%     288.237000   296.140500    291.568500    291.996250   \n",
        "max     288.407000   296.461000    292.207000    293.122000   \n",
        "\n",
        "       baffle_a_temp_cyc  baffle_b_temp_cyc  oba_1_temp_cyc  oba_2_temp  \\\n",
        "count         152.000000         152.000000      152.000000  152.000000   \n",
        "mean          290.456901         291.100355      288.156224  287.985164   \n",
        "std             1.114585           1.181672        0.116822    0.143320   \n",
        "min           288.729000         289.147000      287.875000  287.591000   \n",
        "25%           289.598750         290.152750      288.094500  287.931000   \n",
        "50%           290.310000         290.884500      288.177000  288.017000   \n",
        "75%           291.308000         292.411250      288.236000  288.076000   \n",
        "max           292.328000         292.939000      288.394000  288.287000   \n",
        "\n",
        "       bb_1_temp_cyc   bb_2_temp  solar_target_temp   yoke_temp  \\\n",
        "count     152.000000  152.000000         152.000000  152.000000   \n",
        "mean      289.396138  289.280053         248.866928  289.400868   \n",
        "std         0.107407    0.111754           0.773918    0.457186   \n",
        "min       289.054000  289.065000         247.668000  288.642000   \n",
        "25%       289.316750  289.199500         248.130000  288.990250   \n",
        "50%       289.399000  289.275000         248.825500  289.389500   \n",
        "75%       289.459750  289.347750         249.477000  289.756250   \n",
        "max       289.763000  289.551000         250.313000  290.301000   \n",
        "\n",
        "       el_actuator_temp  az_actuator_temp  solar_base_temp  \n",
        "count        152.000000        152.000000       151.000000  \n",
        "mean         284.634066        287.619263       264.801192  \n",
        "std            0.554538          0.300655         0.662652  \n",
        "min          283.849000        287.062000       263.777000  \n",
        "25%          284.152250        287.405750       264.236500  \n",
        "50%          284.537500        287.537500       264.743000  \n",
        "75%          285.081500        287.772500       265.388000  \n",
        "max          285.713000        288.407000       265.965000  "
       ]
      }
     ],
     "prompt_number": 59
    },
    {
     "cell_type": "code",
     "collapsed": false,
     "input": [],
     "language": "python",
     "metadata": {},
     "outputs": []
    }
   ],
   "metadata": {}
  }
 ]
}