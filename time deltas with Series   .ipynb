{
 "metadata": {
  "name": "time deltas with Series   "
 },
 "nbformat": 3,
 "nbformat_minor": 0,
 "worksheets": [
  {
   "cells": [
    {
     "cell_type": "code",
     "collapsed": false,
     "input": [
      "import pandas as pd\n",
      "import file_utils as fu\n",
      "import calib as c\n",
      "reload(pd)"
     ],
     "language": "python",
     "metadata": {},
     "outputs": [
      {
       "output_type": "pyout",
       "prompt_number": 1,
       "text": [
        "<module 'pandas' from '/usr/local/epd/lib/python2.7/site-packages/pandas/__init__.pyc'>"
       ]
      }
     ],
     "prompt_number": 1
    },
    {
     "cell_type": "code",
     "collapsed": false,
     "input": [
      "pd.__version__"
     ],
     "language": "python",
     "metadata": {},
     "outputs": [
      {
       "output_type": "pyout",
       "prompt_number": 2,
       "text": [
        "'0.11.0.dev-819e0ad'"
       ]
      }
     ],
     "prompt_number": 2
    },
    {
     "cell_type": "code",
     "collapsed": false,
     "input": [
      "pump = fu.Div247DataPump(\"20111016\")"
     ],
     "language": "python",
     "metadata": {},
     "outputs": [],
     "prompt_number": 3
    },
    {
     "cell_type": "code",
     "collapsed": false,
     "input": [
      "df = pump.get_n_hours(2)"
     ],
     "language": "python",
     "metadata": {},
     "outputs": [
      {
       "output_type": "stream",
       "stream": "stdout",
       "text": [
        "\r",
        " [                       0%                       ]"
       ]
      },
      {
       "output_type": "stream",
       "stream": "stdout",
       "text": [
        "\r",
        " [*********************100%***********************]  2 of 2 complete"
       ]
      },
      {
       "output_type": "stream",
       "stream": "stderr",
       "text": [
        "/usr/local/epd/lib/python2.7/site-packages/pandas/core/series.py:2702: FutureWarning: Series.replace with inplace=True  will return None from pandas 0.11 onward\n",
        "  \" from pandas 0.11 onward\", FutureWarning)\n"
       ]
      }
     ],
     "prompt_number": 4
    },
    {
     "cell_type": "code",
     "collapsed": false,
     "input": [
      "df"
     ],
     "language": "python",
     "metadata": {},
     "outputs": [
      {
       "output_type": "pyout",
       "prompt_number": 5,
       "text": [
        "<class 'pandas.core.frame.DataFrame'>\n",
        "DatetimeIndex: 56256 entries, 2011-10-16 00:00:00.601000 to 2011-10-16 02:00:01.346000\n",
        "Columns: 252 entries, sclk to is_calib\n",
        "dtypes: bool(6), float64(241), int32(4), int64(1)"
       ]
      }
     ],
     "prompt_number": 5
    },
    {
     "cell_type": "code",
     "collapsed": false,
     "input": [
      "calib = c.Calibrator(df)"
     ],
     "language": "python",
     "metadata": {},
     "outputs": [],
     "prompt_number": 6
    },
    {
     "cell_type": "code",
     "collapsed": false,
     "input": [
      "calib.get_offsets()\n",
      "offsets = calib.offsets"
     ],
     "language": "python",
     "metadata": {},
     "outputs": [],
     "prompt_number": 7
    },
    {
     "cell_type": "code",
     "collapsed": false,
     "input": [
      "to_calibrate = pd.DataFrame(df[df.calib_block_labels==0].index,columns=['data_times'])"
     ],
     "language": "python",
     "metadata": {},
     "outputs": [],
     "prompt_number": 8
    },
    {
     "cell_type": "code",
     "collapsed": false,
     "input": [
      "to_calibrate"
     ],
     "language": "python",
     "metadata": {},
     "outputs": [
      {
       "output_type": "pyout",
       "prompt_number": 9,
       "text": [
        "<class 'pandas.core.frame.DataFrame'>\n",
        "Int64Index: 51696 entries, 0 to 51695\n",
        "Data columns:\n",
        "data_times    51696  non-null values\n",
        "dtypes: datetime64[ns](1)"
       ]
      }
     ],
     "prompt_number": 9
    },
    {
     "cell_type": "code",
     "collapsed": false,
     "input": [
      "df"
     ],
     "language": "python",
     "metadata": {},
     "outputs": [
      {
       "output_type": "pyout",
       "prompt_number": 10,
       "text": [
        "<class 'pandas.core.frame.DataFrame'>\n",
        "DatetimeIndex: 56256 entries, 2011-10-16 00:00:00.601000 to 2011-10-16 02:00:01.346000\n",
        "Columns: 254 entries, sclk to bb_2_temp_interp\n",
        "dtypes: bool(6), float64(243), int32(4), int64(1)"
       ]
      }
     ],
     "prompt_number": 10
    },
    {
     "cell_type": "code",
     "collapsed": false,
     "input": [
      "right_index = offsets.index.searchsorted(to_calibrate.data_times, side='left')"
     ],
     "language": "python",
     "metadata": {},
     "outputs": [],
     "prompt_number": 11
    },
    {
     "cell_type": "code",
     "collapsed": false,
     "input": [
      "pd.Series(right_index).value_counts()"
     ],
     "language": "python",
     "metadata": {},
     "outputs": [
      {
       "output_type": "pyout",
       "prompt_number": 12,
       "text": [
        "11    6928\n",
        "8     5072\n",
        "4     4512\n",
        "10    4464\n",
        "7     4464\n",
        "6     4464\n",
        "5     4464\n",
        "2     4464\n",
        "1     4464\n",
        "3     4032\n",
        "9     3856\n",
        "12     512\n",
        "Dtype: int64"
       ]
      }
     ],
     "prompt_number": 12
    },
    {
     "cell_type": "code",
     "collapsed": false,
     "input": [
      "left_index = np.clip(right_index -1, 0, len(offsets) -1)"
     ],
     "language": "python",
     "metadata": {},
     "outputs": [],
     "prompt_number": 13
    },
    {
     "cell_type": "code",
     "collapsed": false,
     "input": [
      "right_index = np.clip(right_index, 0, len(offsets) -1)"
     ],
     "language": "python",
     "metadata": {},
     "outputs": [],
     "prompt_number": 14
    },
    {
     "cell_type": "code",
     "collapsed": false,
     "input": [
      "pd.Series(right_index).value_counts()"
     ],
     "language": "python",
     "metadata": {},
     "outputs": [
      {
       "output_type": "pyout",
       "prompt_number": 15,
       "text": [
        "11    7440\n",
        "8     5072\n",
        "4     4512\n",
        "10    4464\n",
        "7     4464\n",
        "6     4464\n",
        "5     4464\n",
        "2     4464\n",
        "1     4464\n",
        "3     4032\n",
        "9     3856\n",
        "Dtype: int64"
       ]
      }
     ],
     "prompt_number": 15
    },
    {
     "cell_type": "code",
     "collapsed": false,
     "input": [
      "to_calibrate['left_time'] = offsets.index[left_index]"
     ],
     "language": "python",
     "metadata": {},
     "outputs": [],
     "prompt_number": 16
    },
    {
     "cell_type": "code",
     "collapsed": false,
     "input": [
      "to_calibrate.left_time.dtype"
     ],
     "language": "python",
     "metadata": {},
     "outputs": [
      {
       "output_type": "pyout",
       "prompt_number": 17,
       "text": [
        "dtype('datetime64[ns]')"
       ]
      }
     ],
     "prompt_number": 17
    },
    {
     "cell_type": "code",
     "collapsed": false,
     "input": [
      "to_calibrate['right_time'] = offsets.index[right_index]"
     ],
     "language": "python",
     "metadata": {},
     "outputs": [],
     "prompt_number": 18
    },
    {
     "cell_type": "code",
     "collapsed": false,
     "input": [
      "pd.__version__"
     ],
     "language": "python",
     "metadata": {},
     "outputs": [
      {
       "output_type": "pyout",
       "prompt_number": 19,
       "text": [
        "'0.11.0.dev-819e0ad'"
       ]
      }
     ],
     "prompt_number": 19
    },
    {
     "cell_type": "code",
     "collapsed": false,
     "input": [
      "to_calibrate.left_time.head()"
     ],
     "language": "python",
     "metadata": {},
     "outputs": [
      {
       "output_type": "pyout",
       "prompt_number": 20,
       "text": [
        "0   2011-10-16 00:00:19.992999\n",
        "1   2011-10-16 00:00:19.992999\n",
        "2   2011-10-16 00:00:19.992999\n",
        "3   2011-10-16 00:00:19.992999\n",
        "4   2011-10-16 00:00:19.992999\n",
        "Name: left_time, Dtype: datetime64[ns]"
       ]
      }
     ],
     "prompt_number": 20
    },
    {
     "cell_type": "code",
     "collapsed": false,
     "input": [
      "to_calibrate.data_times.head()"
     ],
     "language": "python",
     "metadata": {},
     "outputs": [
      {
       "output_type": "pyout",
       "prompt_number": 21,
       "text": [
        "0   2011-10-16 00:00:39.512999\n",
        "1   2011-10-16 00:00:39.640999\n",
        "2   2011-10-16 00:00:39.768999\n",
        "3   2011-10-16 00:00:39.896999\n",
        "4   2011-10-16 00:00:40.024999\n",
        "Name: data_times, Dtype: datetime64[ns]"
       ]
      }
     ],
     "prompt_number": 21
    },
    {
     "cell_type": "code",
     "collapsed": false,
     "input": [
      "to_calibrate.left_time - to_calibrate.data_times"
     ],
     "language": "python",
     "metadata": {},
     "outputs": [
      {
       "output_type": "pyout",
       "prompt_number": 22,
       "text": [
        "0    -00:00:19.520000\n",
        "1    -00:00:19.648000\n",
        "2    -00:00:19.776000\n",
        "3    -00:00:19.904000\n",
        "4    -00:00:20.032000\n",
        "5    -00:00:20.160000\n",
        "6    -00:00:20.288000\n",
        "7    -00:00:20.416000\n",
        "8    -00:00:20.544000\n",
        "9    -00:00:20.672000\n",
        "10   -00:00:20.800000\n",
        "11   -00:00:20.928000\n",
        "12   -00:00:21.056000\n",
        "13   -00:00:21.184000\n",
        "14   -00:00:21.312000\n",
        "...\n",
        "51681   -00:01:23.136501\n",
        "51682   -00:01:23.264501\n",
        "51683   -00:01:23.392501\n",
        "51684   -00:01:23.520501\n",
        "51685   -00:01:23.648501\n",
        "51686   -00:01:23.776501\n",
        "51687   -00:01:23.904501\n",
        "51688   -00:01:24.032501\n",
        "51689   -00:01:24.160501\n",
        "51690   -00:01:24.288501\n",
        "51691   -00:01:24.416501\n",
        "51692   -00:01:24.544501\n",
        "51693   -00:01:24.672501\n",
        "51694   -00:01:24.800500\n",
        "51695   -00:01:24.928501\n",
        "Length: 51696, dtype: timedelta64[ns]"
       ]
      }
     ],
     "prompt_number": 22
    },
    {
     "cell_type": "code",
     "collapsed": false,
     "input": [
      "left_diff = np.abs(to_calibrate.left_time - to_calibrate.data_times)"
     ],
     "language": "python",
     "metadata": {},
     "outputs": [],
     "prompt_number": 23
    },
    {
     "cell_type": "code",
     "collapsed": false,
     "input": [
      "to_calibrate['left_diff'] = left_diff"
     ],
     "language": "python",
     "metadata": {},
     "outputs": [],
     "prompt_number": 26
    },
    {
     "cell_type": "code",
     "collapsed": false,
     "input": [
      "to_calibrate['right_diff'] = np.abs(to_calibrate.right_time - to_calibrate.data_times)"
     ],
     "language": "python",
     "metadata": {},
     "outputs": [],
     "prompt_number": 28
    },
    {
     "cell_type": "code",
     "collapsed": false,
     "input": [
      "offsets.ix[to_calibrate.left_time.where(to_calibrate.left_diff < to_calibrate.right_diff, to_calibrate.right_time)]"
     ],
     "language": "python",
     "metadata": {},
     "outputs": [
      {
       "output_type": "pyout",
       "prompt_number": 30,
       "text": [
        "<class 'pandas.core.frame.DataFrame'>\n",
        "DatetimeIndex: 51696 entries, 2011-10-16 00:00:19.992999 to 2011-10-16 01:58:36.417499\n",
        "Columns: 189 entries, a1_01 to b3_21\n",
        "dtypes: float64(189)"
       ]
      }
     ],
     "prompt_number": 30
    },
    {
     "cell_type": "code",
     "collapsed": false,
     "input": [],
     "language": "python",
     "metadata": {},
     "outputs": []
    }
   ],
   "metadata": {}
  }
 ]
}