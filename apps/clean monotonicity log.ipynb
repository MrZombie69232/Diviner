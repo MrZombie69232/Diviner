{
 "metadata": {
  "name": ""
 },
 "nbformat": 3,
 "nbformat_minor": 0,
 "worksheets": [
  {
   "cells": [
    {
     "cell_type": "code",
     "collapsed": false,
     "input": [
      "with open('./log_monotonicity.log') as f:\n",
      "    lines = f.readlines()"
     ],
     "language": "python",
     "metadata": {},
     "outputs": [],
     "prompt_number": 1
    },
    {
     "cell_type": "code",
     "collapsed": false,
     "input": [
      "cleaned = []\n",
      "for line in lines:\n",
      "    if not line in cleaned:\n",
      "        cleaned.append(line)"
     ],
     "language": "python",
     "metadata": {},
     "outputs": [],
     "prompt_number": 2
    },
    {
     "cell_type": "code",
     "collapsed": false,
     "input": [
      "len(cleaned)"
     ],
     "language": "python",
     "metadata": {},
     "outputs": [
      {
       "metadata": {},
       "output_type": "pyout",
       "prompt_number": 4,
       "text": [
        "62"
       ]
      }
     ],
     "prompt_number": 4
    },
    {
     "cell_type": "code",
     "collapsed": false,
     "input": [
      "following=[]\n",
      "previous = []\n",
      "nonmono = []\n",
      "for line in cleaned:\n",
      "    if 'following' in line:\n",
      "        following.append(line)\n",
      "    elif 'previous' in line:\n",
      "        previous.append(line)\n",
      "    elif 'non-mono' in line:\n",
      "        nonmono.append(line)"
     ],
     "language": "python",
     "metadata": {},
     "outputs": [],
     "prompt_number": 8
    },
    {
     "cell_type": "code",
     "collapsed": false,
     "input": [
      "len(following), len(previous), len(nonmono)"
     ],
     "language": "python",
     "metadata": {},
     "outputs": [
      {
       "metadata": {},
       "output_type": "pyout",
       "prompt_number": 10,
       "text": [
        "(12, 13, 37)"
       ]
      }
     ],
     "prompt_number": 10
    },
    {
     "cell_type": "code",
     "collapsed": false,
     "input": [
      "nonmono = [line.split(':')[3].split('/')[2].split('_')[0] for line in nonmono]"
     ],
     "language": "python",
     "metadata": {},
     "outputs": [],
     "prompt_number": 16
    },
    {
     "cell_type": "code",
     "collapsed": false,
     "input": [
      "nonmono.sort()"
     ],
     "language": "python",
     "metadata": {},
     "outputs": [],
     "prompt_number": 18
    },
    {
     "cell_type": "code",
     "collapsed": false,
     "input": [
      "nonmono"
     ],
     "language": "python",
     "metadata": {},
     "outputs": [
      {
       "metadata": {},
       "output_type": "pyout",
       "prompt_number": 20,
       "text": [
        "['2009070516',\n",
        " '2009070517',\n",
        " '2009070518',\n",
        " '2009070519',\n",
        " '2009070520',\n",
        " '2009070521',\n",
        " '2009070522',\n",
        " '2009070523',\n",
        " '2009070600',\n",
        " '2009070601',\n",
        " '2009070602',\n",
        " '2009070603',\n",
        " '2009070604',\n",
        " '2009070605',\n",
        " '2009070606',\n",
        " '2009070607',\n",
        " '2009070608',\n",
        " '2009070609',\n",
        " '2009070610',\n",
        " '2009070611',\n",
        " '2009070612',\n",
        " '2009070613',\n",
        " '2009070614',\n",
        " '2009070615',\n",
        " '2009070616',\n",
        " '2009071322',\n",
        " '2009071323',\n",
        " '2010020912',\n",
        " '2010020913',\n",
        " '2010020914',\n",
        " '2011071909',\n",
        " '2011071910',\n",
        " '2012050803',\n",
        " '2012050804',\n",
        " '2012063022',\n",
        " '2012063023',\n",
        " '2012070100']"
       ]
      }
     ],
     "prompt_number": 20
    },
    {
     "cell_type": "code",
     "collapsed": false,
     "input": [
      "from diviner import file_utils as fu"
     ],
     "language": "python",
     "metadata": {},
     "outputs": [],
     "prompt_number": 21
    },
    {
     "cell_type": "code",
     "collapsed": false,
     "input": [
      "fu.get_clean_l1a('2009070516')"
     ],
     "language": "python",
     "metadata": {},
     "outputs": [
      {
       "ename": "IndexError",
       "evalue": "list index out of range",
       "output_type": "pyerr",
       "traceback": [
        "---------------------------------------------------------------------------\nIndexError                                Traceback (most recent call last)",
        "<ipython-input-22-804fc944e06b> in <module>()\n----> 1 fu.get_clean_l1a('2009070516')\n",
        "/Users/maye/Dropbox/src/diviner/file_utils.pyc in get_clean_l1a(timestr)\n    693 \n    694 def get_clean_l1a(timestr):\n--> 695     l1afile = L1ADataFile.from_timestr(timestr)\n    696     return l1afile.open()\n    697 \n",
        "/Users/maye/Dropbox/src/diviner/file_utils.pyc in from_timestr(cls, timestr)\n    656         fnames = glob.glob(os.path.join(cls.datapath,\n    657                                         timestr + '*' + cls.this_ext))\n--> 658         return cls(fname=fnames[0])\n    659 \n    660     def __init__(self, fname):\n",
        "IndexError: list index out of range"
       ]
      }
     ],
     "prompt_number": 22
    }
   ],
   "metadata": {}
  }
 ]
}