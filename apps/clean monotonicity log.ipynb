{
 "metadata": {
  "name": ""
 },
 "nbformat": 3,
 "nbformat_minor": 0,
 "worksheets": [
  {
   "cells": [
    {
     "cell_type": "code",
     "collapsed": false,
     "input": [
      "with open('./log_monotonicity.log') as f:\n",
      "    lines = f.readlines()"
     ],
     "language": "python",
     "metadata": {},
     "outputs": [],
     "prompt_number": 1
    },
    {
     "cell_type": "code",
     "collapsed": false,
     "input": [
      "cleaned = []\n",
      "for line in lines:\n",
      "    if not line in cleaned:\n",
      "        cleaned.append(line)"
     ],
     "language": "python",
     "metadata": {},
     "outputs": [],
     "prompt_number": 2
    },
    {
     "cell_type": "code",
     "collapsed": false,
     "input": [
      "len(cleaned)"
     ],
     "language": "python",
     "metadata": {},
     "outputs": [
      {
       "metadata": {},
       "output_type": "pyout",
       "prompt_number": 3,
       "text": [
        "62"
       ]
      }
     ],
     "prompt_number": 3
    },
    {
     "cell_type": "code",
     "collapsed": false,
     "input": [
      "following=[]\n",
      "previous = []\n",
      "nonmono = []\n",
      "for line in cleaned:\n",
      "    if 'following' in line:\n",
      "        following.append(line)\n",
      "    elif 'previous' in line:\n",
      "        previous.append(line)\n",
      "    elif 'non-mono' in line:\n",
      "        nonmono.append(line)"
     ],
     "language": "python",
     "metadata": {},
     "outputs": [],
     "prompt_number": 4
    },
    {
     "cell_type": "code",
     "collapsed": false,
     "input": [
      "len(following), len(previous), len(nonmono)"
     ],
     "language": "python",
     "metadata": {},
     "outputs": [
      {
       "metadata": {},
       "output_type": "pyout",
       "prompt_number": 5,
       "text": [
        "(12, 13, 37)"
       ]
      }
     ],
     "prompt_number": 5
    },
    {
     "cell_type": "code",
     "collapsed": false,
     "input": [
      "nonmono = [line.split(':')[3].split('/')[2].split('_')[0] for line in nonmono]"
     ],
     "language": "python",
     "metadata": {},
     "outputs": [],
     "prompt_number": 6
    },
    {
     "cell_type": "code",
     "collapsed": false,
     "input": [
      "nonmono.sort()"
     ],
     "language": "python",
     "metadata": {},
     "outputs": [],
     "prompt_number": 7
    },
    {
     "cell_type": "code",
     "collapsed": false,
     "input": [
      "nonmono"
     ],
     "language": "python",
     "metadata": {},
     "outputs": [
      {
       "metadata": {},
       "output_type": "pyout",
       "prompt_number": 8,
       "text": [
        "['2009070516',\n",
        " '2009070517',\n",
        " '2009070518',\n",
        " '2009070519',\n",
        " '2009070520',\n",
        " '2009070521',\n",
        " '2009070522',\n",
        " '2009070523',\n",
        " '2009070600',\n",
        " '2009070601',\n",
        " '2009070602',\n",
        " '2009070603',\n",
        " '2009070604',\n",
        " '2009070605',\n",
        " '2009070606',\n",
        " '2009070607',\n",
        " '2009070608',\n",
        " '2009070609',\n",
        " '2009070610',\n",
        " '2009070611',\n",
        " '2009070612',\n",
        " '2009070613',\n",
        " '2009070614',\n",
        " '2009070615',\n",
        " '2009070616',\n",
        " '2009071322',\n",
        " '2009071323',\n",
        " '2010020912',\n",
        " '2010020913',\n",
        " '2010020914',\n",
        " '2011071909',\n",
        " '2011071910',\n",
        " '2012050803',\n",
        " '2012050804',\n",
        " '2012063022',\n",
        " '2012063023',\n",
        " '2012070100']"
       ]
      }
     ],
     "prompt_number": 8
    },
    {
     "cell_type": "code",
     "collapsed": false,
     "input": [
      "from diviner import file_utils as fu"
     ],
     "language": "python",
     "metadata": {},
     "outputs": [],
     "prompt_number": 9
    },
    {
     "cell_type": "code",
     "collapsed": false,
     "input": [
      "df = fu.open_and_accumulate(fu.L1ADataFile.from_timestr('2009070517').fname)"
     ],
     "language": "python",
     "metadata": {},
     "outputs": [
      {
       "output_type": "stream",
<<<<<<< HEAD
       "stream": "stdout",
       "text": [
        "Appending 2009070516 on the left.\n",
        "Appending 2009070515 on the left."
       ]
      },
      {
       "ename": "IOError",
       "evalue": "File /luna4/u/marks/feidata/DIV:opsL1A/data/2009070515_L1A.TAB does not exist",
       "output_type": "pyerr",
       "traceback": [
        "\u001b[1;31m---------------------------------------------------------------------------\u001b[0m\n\u001b[1;31mIOError\u001b[0m                                   Traceback (most recent call last)",
        "\u001b[1;32m<ipython-input-26-5e9aa8e34a1d>\u001b[0m in \u001b[0;36m<module>\u001b[1;34m()\u001b[0m\n\u001b[1;32m----> 1\u001b[1;33m \u001b[0mdf\u001b[0m \u001b[1;33m=\u001b[0m \u001b[0mfu\u001b[0m\u001b[1;33m.\u001b[0m\u001b[0mopen_and_accumulate\u001b[0m\u001b[1;33m(\u001b[0m\u001b[0mfu\u001b[0m\u001b[1;33m.\u001b[0m\u001b[0mL1ADataFile\u001b[0m\u001b[1;33m.\u001b[0m\u001b[0mfrom_timestr\u001b[0m\u001b[1;33m(\u001b[0m\u001b[1;34m'2009070517'\u001b[0m\u001b[1;33m)\u001b[0m\u001b[1;33m.\u001b[0m\u001b[0mfname\u001b[0m\u001b[1;33m)\u001b[0m\u001b[1;33m\u001b[0m\u001b[0m\n\u001b[0m",
        "\u001b[1;32m/u/paige/maye/src/diviner/file_utils.py\u001b[0m in \u001b[0;36mopen_and_accumulate\u001b[1;34m(fname)\u001b[0m\n\u001b[0;32m    722\u001b[0m         \u001b[0mf\u001b[0m \u001b[1;33m=\u001b[0m \u001b[0mL1ADataFile\u001b[0m\u001b[1;33m(\u001b[0m\u001b[0mfn_handler\u001b[0m\u001b[1;33m.\u001b[0m\u001b[0mfname\u001b[0m\u001b[1;33m)\u001b[0m\u001b[1;33m\u001b[0m\u001b[0m\n\u001b[0;32m    723\u001b[0m         \u001b[1;32mprint\u001b[0m\u001b[1;33m(\u001b[0m\u001b[1;34m\"Appending {0} on the left.\"\u001b[0m\u001b[1;33m.\u001b[0m\u001b[0mformat\u001b[0m\u001b[1;33m(\u001b[0m\u001b[0mfn_handler\u001b[0m\u001b[1;33m.\u001b[0m\u001b[0mtimestr\u001b[0m\u001b[1;33m)\u001b[0m\u001b[1;33m)\u001b[0m\u001b[1;33m\u001b[0m\u001b[0m\n\u001b[1;32m--> 724\u001b[1;33m         \u001b[0mdataframes\u001b[0m\u001b[1;33m.\u001b[0m\u001b[0mappendleft\u001b[0m\u001b[1;33m(\u001b[0m\u001b[0mf\u001b[0m\u001b[1;33m.\u001b[0m\u001b[0mopen_dirty\u001b[0m\u001b[1;33m(\u001b[0m\u001b[1;33m)\u001b[0m\u001b[1;33m)\u001b[0m\u001b[1;33m\u001b[0m\u001b[0m\n\u001b[0m\u001b[0;32m    725\u001b[0m         \u001b[1;32mif\u001b[0m \u001b[0many\u001b[0m\u001b[1;33m(\u001b[0m\u001b[0mf\u001b[0m\u001b[1;33m.\u001b[0m\u001b[0mopen\u001b[0m\u001b[1;33m(\u001b[0m\u001b[1;33m)\u001b[0m\u001b[1;33m.\u001b[0m\u001b[0mis_calib\u001b[0m\u001b[1;33m)\u001b[0m\u001b[1;33m:\u001b[0m\u001b[1;33m\u001b[0m\u001b[0m\n\u001b[0;32m    726\u001b[0m             \u001b[1;32mbreak\u001b[0m\u001b[1;33m\u001b[0m\u001b[0m\n",
        "\u001b[1;32m/u/paige/maye/src/diviner/file_utils.py\u001b[0m in \u001b[0;36mopen_dirty\u001b[1;34m(self)\u001b[0m\n\u001b[0;32m    681\u001b[0m \u001b[1;33m\u001b[0m\u001b[0m\n\u001b[0;32m    682\u001b[0m     \u001b[1;32mdef\u001b[0m \u001b[0mopen_dirty\u001b[0m\u001b[1;33m(\u001b[0m\u001b[0mself\u001b[0m\u001b[1;33m)\u001b[0m\u001b[1;33m:\u001b[0m\u001b[1;33m\u001b[0m\u001b[0m\n\u001b[1;32m--> 683\u001b[1;33m         \u001b[0mself\u001b[0m\u001b[1;33m.\u001b[0m\u001b[0mparse_tab\u001b[0m\u001b[1;33m(\u001b[0m\u001b[1;33m)\u001b[0m\u001b[1;33m\u001b[0m\u001b[0m\n\u001b[0m\u001b[0;32m    684\u001b[0m         \u001b[0mself\u001b[0m\u001b[1;33m.\u001b[0m\u001b[0mparse_times\u001b[0m\u001b[1;33m(\u001b[0m\u001b[1;33m)\u001b[0m\u001b[1;33m\u001b[0m\u001b[0m\n\u001b[0;32m    685\u001b[0m         \u001b[1;32mreturn\u001b[0m \u001b[0mself\u001b[0m\u001b[1;33m.\u001b[0m\u001b[0mdf\u001b[0m\u001b[1;33m\u001b[0m\u001b[0m\n",
        "\u001b[1;32m/u/paige/maye/src/diviner/file_utils.py\u001b[0m in \u001b[0;36mparse_tab\u001b[1;34m(self, fname)\u001b[0m\n\u001b[0;32m    670\u001b[0m                                     \u001b[0mna_values\u001b[0m\u001b[1;33m=\u001b[0m\u001b[1;34m'-9999'\u001b[0m\u001b[1;33m,\u001b[0m\u001b[1;33m\u001b[0m\u001b[0m\n\u001b[0;32m    671\u001b[0m                                     \u001b[0mskiprows\u001b[0m\u001b[1;33m=\u001b[0m\u001b[1;36m8\u001b[0m\u001b[1;33m,\u001b[0m\u001b[1;33m\u001b[0m\u001b[0m\n\u001b[1;32m--> 672\u001b[1;33m                                     skipinitialspace=True)\n\u001b[0m\u001b[0;32m    673\u001b[0m \u001b[1;33m\u001b[0m\u001b[0m\n\u001b[0;32m    674\u001b[0m     \u001b[1;32mdef\u001b[0m \u001b[0mparse_times\u001b[0m\u001b[1;33m(\u001b[0m\u001b[0mself\u001b[0m\u001b[1;33m)\u001b[0m\u001b[1;33m:\u001b[0m\u001b[1;33m\u001b[0m\u001b[0m\n",
        "\u001b[1;32m/u/paige/maye/Enthought/Canopy_64bit/User/lib/python2.7/site-packages/pandas-0.13.0rc1_59_g90990db-py2.7-linux-x86_64.egg/pandas/io/parsers.pyc\u001b[0m in \u001b[0;36mparser_f\u001b[1;34m(filepath_or_buffer, sep, dialect, compression, doublequote, escapechar, quotechar, quoting, skipinitialspace, lineterminator, header, index_col, names, prefix, skiprows, skipfooter, skip_footer, na_values, na_fvalues, true_values, false_values, delimiter, converters, dtype, usecols, engine, delim_whitespace, as_recarray, na_filter, compact_ints, use_unsigned, low_memory, buffer_lines, warn_bad_lines, error_bad_lines, keep_default_na, thousands, comment, decimal, parse_dates, keep_date_col, dayfirst, date_parser, memory_map, nrows, iterator, chunksize, verbose, encoding, squeeze, mangle_dupe_cols, tupleize_cols)\u001b[0m\n\u001b[0;32m    402\u001b[0m                     tupleize_cols=tupleize_cols)\n\u001b[0;32m    403\u001b[0m \u001b[1;33m\u001b[0m\u001b[0m\n\u001b[1;32m--> 404\u001b[1;33m         \u001b[1;32mreturn\u001b[0m \u001b[0m_read\u001b[0m\u001b[1;33m(\u001b[0m\u001b[0mfilepath_or_buffer\u001b[0m\u001b[1;33m,\u001b[0m \u001b[0mkwds\u001b[0m\u001b[1;33m)\u001b[0m\u001b[1;33m\u001b[0m\u001b[0m\n\u001b[0m\u001b[0;32m    405\u001b[0m \u001b[1;33m\u001b[0m\u001b[0m\n\u001b[0;32m    406\u001b[0m     \u001b[0mparser_f\u001b[0m\u001b[1;33m.\u001b[0m\u001b[0m__name__\u001b[0m \u001b[1;33m=\u001b[0m \u001b[0mname\u001b[0m\u001b[1;33m\u001b[0m\u001b[0m\n",
        "\u001b[1;32m/u/paige/maye/Enthought/Canopy_64bit/User/lib/python2.7/site-packages/pandas-0.13.0rc1_59_g90990db-py2.7-linux-x86_64.egg/pandas/io/parsers.pyc\u001b[0m in \u001b[0;36m_read\u001b[1;34m(filepath_or_buffer, kwds)\u001b[0m\n\u001b[0;32m    203\u001b[0m \u001b[1;33m\u001b[0m\u001b[0m\n\u001b[0;32m    204\u001b[0m     \u001b[1;31m# Create the parser.\u001b[0m\u001b[1;33m\u001b[0m\u001b[1;33m\u001b[0m\u001b[0m\n\u001b[1;32m--> 205\u001b[1;33m     \u001b[0mparser\u001b[0m \u001b[1;33m=\u001b[0m \u001b[0mTextFileReader\u001b[0m\u001b[1;33m(\u001b[0m\u001b[0mfilepath_or_buffer\u001b[0m\u001b[1;33m,\u001b[0m \u001b[1;33m**\u001b[0m\u001b[0mkwds\u001b[0m\u001b[1;33m)\u001b[0m\u001b[1;33m\u001b[0m\u001b[0m\n\u001b[0m\u001b[0;32m    206\u001b[0m \u001b[1;33m\u001b[0m\u001b[0m\n\u001b[0;32m    207\u001b[0m     \u001b[1;32mif\u001b[0m \u001b[0mnrows\u001b[0m \u001b[1;32mis\u001b[0m \u001b[1;32mnot\u001b[0m \u001b[0mNone\u001b[0m\u001b[1;33m:\u001b[0m\u001b[1;33m\u001b[0m\u001b[0m\n",
        "\u001b[1;32m/u/paige/maye/Enthought/Canopy_64bit/User/lib/python2.7/site-packages/pandas-0.13.0rc1_59_g90990db-py2.7-linux-x86_64.egg/pandas/io/parsers.pyc\u001b[0m in \u001b[0;36m__init__\u001b[1;34m(self, f, engine, **kwds)\u001b[0m\n\u001b[0;32m    484\u001b[0m             \u001b[0mself\u001b[0m\u001b[1;33m.\u001b[0m\u001b[0moptions\u001b[0m\u001b[1;33m[\u001b[0m\u001b[1;34m'has_index_names'\u001b[0m\u001b[1;33m]\u001b[0m \u001b[1;33m=\u001b[0m \u001b[0mkwds\u001b[0m\u001b[1;33m[\u001b[0m\u001b[1;34m'has_index_names'\u001b[0m\u001b[1;33m]\u001b[0m\u001b[1;33m\u001b[0m\u001b[0m\n\u001b[0;32m    485\u001b[0m \u001b[1;33m\u001b[0m\u001b[0m\n\u001b[1;32m--> 486\u001b[1;33m         \u001b[0mself\u001b[0m\u001b[1;33m.\u001b[0m\u001b[0m_make_engine\u001b[0m\u001b[1;33m(\u001b[0m\u001b[0mself\u001b[0m\u001b[1;33m.\u001b[0m\u001b[0mengine\u001b[0m\u001b[1;33m)\u001b[0m\u001b[1;33m\u001b[0m\u001b[0m\n\u001b[0m\u001b[0;32m    487\u001b[0m \u001b[1;33m\u001b[0m\u001b[0m\n\u001b[0;32m    488\u001b[0m     \u001b[1;32mdef\u001b[0m \u001b[0m_get_options_with_defaults\u001b[0m\u001b[1;33m(\u001b[0m\u001b[0mself\u001b[0m\u001b[1;33m,\u001b[0m \u001b[0mengine\u001b[0m\u001b[1;33m)\u001b[0m\u001b[1;33m:\u001b[0m\u001b[1;33m\u001b[0m\u001b[0m\n",
        "\u001b[1;32m/u/paige/maye/Enthought/Canopy_64bit/User/lib/python2.7/site-packages/pandas-0.13.0rc1_59_g90990db-py2.7-linux-x86_64.egg/pandas/io/parsers.pyc\u001b[0m in \u001b[0;36m_make_engine\u001b[1;34m(self, engine)\u001b[0m\n\u001b[0;32m    592\u001b[0m     \u001b[1;32mdef\u001b[0m \u001b[0m_make_engine\u001b[0m\u001b[1;33m(\u001b[0m\u001b[0mself\u001b[0m\u001b[1;33m,\u001b[0m \u001b[0mengine\u001b[0m\u001b[1;33m=\u001b[0m\u001b[1;34m'c'\u001b[0m\u001b[1;33m)\u001b[0m\u001b[1;33m:\u001b[0m\u001b[1;33m\u001b[0m\u001b[0m\n\u001b[0;32m    593\u001b[0m         \u001b[1;32mif\u001b[0m \u001b[0mengine\u001b[0m \u001b[1;33m==\u001b[0m \u001b[1;34m'c'\u001b[0m\u001b[1;33m:\u001b[0m\u001b[1;33m\u001b[0m\u001b[0m\n\u001b[1;32m--> 594\u001b[1;33m             \u001b[0mself\u001b[0m\u001b[1;33m.\u001b[0m\u001b[0m_engine\u001b[0m \u001b[1;33m=\u001b[0m \u001b[0mCParserWrapper\u001b[0m\u001b[1;33m(\u001b[0m\u001b[0mself\u001b[0m\u001b[1;33m.\u001b[0m\u001b[0mf\u001b[0m\u001b[1;33m,\u001b[0m \u001b[1;33m**\u001b[0m\u001b[0mself\u001b[0m\u001b[1;33m.\u001b[0m\u001b[0moptions\u001b[0m\u001b[1;33m)\u001b[0m\u001b[1;33m\u001b[0m\u001b[0m\n\u001b[0m\u001b[0;32m    595\u001b[0m         \u001b[1;32melse\u001b[0m\u001b[1;33m:\u001b[0m\u001b[1;33m\u001b[0m\u001b[0m\n\u001b[0;32m    596\u001b[0m             \u001b[1;32mif\u001b[0m \u001b[0mengine\u001b[0m \u001b[1;33m==\u001b[0m \u001b[1;34m'python'\u001b[0m\u001b[1;33m:\u001b[0m\u001b[1;33m\u001b[0m\u001b[0m\n",
        "\u001b[1;32m/u/paige/maye/Enthought/Canopy_64bit/User/lib/python2.7/site-packages/pandas-0.13.0rc1_59_g90990db-py2.7-linux-x86_64.egg/pandas/io/parsers.pyc\u001b[0m in \u001b[0;36m__init__\u001b[1;34m(self, src, **kwds)\u001b[0m\n\u001b[0;32m    950\u001b[0m         \u001b[0mkwds\u001b[0m\u001b[1;33m[\u001b[0m\u001b[1;34m'allow_leading_cols'\u001b[0m\u001b[1;33m]\u001b[0m \u001b[1;33m=\u001b[0m \u001b[0mself\u001b[0m\u001b[1;33m.\u001b[0m\u001b[0mindex_col\u001b[0m \u001b[1;32mis\u001b[0m \u001b[1;32mnot\u001b[0m \u001b[0mFalse\u001b[0m\u001b[1;33m\u001b[0m\u001b[0m\n\u001b[0;32m    951\u001b[0m \u001b[1;33m\u001b[0m\u001b[0m\n\u001b[1;32m--> 952\u001b[1;33m         \u001b[0mself\u001b[0m\u001b[1;33m.\u001b[0m\u001b[0m_reader\u001b[0m \u001b[1;33m=\u001b[0m \u001b[0m_parser\u001b[0m\u001b[1;33m.\u001b[0m\u001b[0mTextReader\u001b[0m\u001b[1;33m(\u001b[0m\u001b[0msrc\u001b[0m\u001b[1;33m,\u001b[0m \u001b[1;33m**\u001b[0m\u001b[0mkwds\u001b[0m\u001b[1;33m)\u001b[0m\u001b[1;33m\u001b[0m\u001b[0m\n\u001b[0m\u001b[0;32m    953\u001b[0m \u001b[1;33m\u001b[0m\u001b[0m\n\u001b[0;32m    954\u001b[0m         \u001b[1;31m# XXX\u001b[0m\u001b[1;33m\u001b[0m\u001b[1;33m\u001b[0m\u001b[0m\n",
        "\u001b[1;32m/u/paige/maye/Enthought/Canopy_64bit/User/lib/python2.7/site-packages/pandas-0.13.0rc1_59_g90990db-py2.7-linux-x86_64.egg/pandas/parser.so\u001b[0m in \u001b[0;36mpandas.parser.TextReader.__cinit__ (pandas/parser.c:3032)\u001b[1;34m()\u001b[0m\n",
        "\u001b[1;32m/u/paige/maye/Enthought/Canopy_64bit/User/lib/python2.7/site-packages/pandas-0.13.0rc1_59_g90990db-py2.7-linux-x86_64.egg/pandas/parser.so\u001b[0m in \u001b[0;36mpandas.parser.TextReader._setup_parser_source (pandas/parser.c:5393)\u001b[1;34m()\u001b[0m\n",
        "\u001b[1;31mIOError\u001b[0m: File /luna4/u/marks/feidata/DIV:opsL1A/data/2009070515_L1A.TAB does not exist"
=======
       "stream": "stderr",
       "text": [
        "WARNING:root:Could not find previous file /luna1/marks/feidata/DIV:opsL1A/data/2009070515_L1A.TAB\n"
       ]
      },
      {
       "output_type": "stream",
       "stream": "stdout",
       "text": [
        "Appending 2009070518 on the right.\n",
        "Appending 2009070519 on the right."
       ]
      },
      {
       "output_type": "stream",
       "stream": "stdout",
       "text": [
        "\n",
        "Appending 2009070520 on the right."
       ]
      },
      {
       "output_type": "stream",
       "stream": "stdout",
       "text": [
        "\n",
        "Appending 2009070521 on the right."
       ]
      },
      {
       "output_type": "stream",
       "stream": "stdout",
       "text": [
        "\n",
        "Appending 2009070522 on the right."
       ]
      },
      {
       "output_type": "stream",
       "stream": "stdout",
       "text": [
        "\n",
        "Appending 2009070523 on the right."
       ]
      },
      {
       "output_type": "stream",
       "stream": "stdout",
       "text": [
        "\n",
        "Appending 2009070600 on the right."
       ]
      },
      {
       "output_type": "stream",
       "stream": "stdout",
       "text": [
        "\n",
        "Appending 2009070601 on the right."
       ]
      },
      {
       "output_type": "stream",
       "stream": "stdout",
       "text": [
        "\n",
        "Appending 2009070602 on the right."
       ]
      },
      {
       "output_type": "stream",
       "stream": "stdout",
       "text": [
        "\n",
        "Appending 2009070603 on the right."
       ]
      },
      {
       "output_type": "stream",
       "stream": "stdout",
       "text": [
        "\n",
        "Appending 2009070604 on the right."
       ]
      },
      {
       "output_type": "stream",
       "stream": "stdout",
       "text": [
        "\n",
        "Appending 2009070605 on the right."
       ]
      },
      {
       "output_type": "stream",
       "stream": "stdout",
       "text": [
        "\n",
        "Appending 2009070606 on the right."
       ]
      },
      {
       "output_type": "stream",
       "stream": "stdout",
       "text": [
        "\n",
        "Appending 2009070607 on the right."
       ]
      },
      {
       "output_type": "stream",
       "stream": "stdout",
       "text": [
        "\n",
        "Appending 2009070608 on the right."
       ]
      },
      {
       "output_type": "stream",
       "stream": "stdout",
       "text": [
        "\n",
        "Appending 2009070609 on the right."
       ]
      },
      {
       "output_type": "stream",
       "stream": "stdout",
       "text": [
        "\n",
        "Appending 2009070610 on the right."
       ]
      },
      {
       "output_type": "stream",
       "stream": "stdout",
       "text": [
        "\n",
        "Appending 2009070611 on the right."
       ]
      },
      {
       "output_type": "stream",
       "stream": "stdout",
       "text": [
        "\n",
        "Appending 2009070612 on the right."
       ]
      },
      {
       "output_type": "stream",
       "stream": "stdout",
       "text": [
        "\n",
        "Appending 2009070613 on the right."
       ]
      },
      {
       "output_type": "stream",
       "stream": "stdout",
       "text": [
        "\n",
        "Appending 2009070614 on the right."
       ]
      },
      {
       "output_type": "stream",
       "stream": "stdout",
       "text": [
        "\n",
        "Appending 2009070615 on the right."
       ]
      },
      {
       "output_type": "stream",
       "stream": "stdout",
       "text": [
        "\n",
        "Appending 2009070616 on the right."
>>>>>>> calblock_does_all
       ]
      },
      {
       "output_type": "stream",
       "stream": "stdout",
       "text": [
        "\n"
       ]
      }
     ],
<<<<<<< HEAD
     "prompt_number": 26
=======
     "prompt_number": 10
>>>>>>> calblock_does_all
    },
    {
     "cell_type": "code",
     "collapsed": false,
     "input": [
      "df.index.is_monotonic"
     ],
     "language": "python",
     "metadata": {},
     "outputs": [
      {
       "metadata": {},
       "output_type": "pyout",
<<<<<<< HEAD
       "prompt_number": 22,
       "text": [
        "True"
       ]
      }
     ],
     "prompt_number": 22
=======
       "prompt_number": 11,
       "text": [
        "False"
       ]
      }
     ],
     "prompt_number": 11
    },
    {
     "cell_type": "code",
     "collapsed": false,
     "input": [
      "import pandas as pd\n",
      "ts = pd.TimeSeries(df.index)"
     ],
     "language": "python",
     "metadata": {},
     "outputs": [],
     "prompt_number": 12
    },
    {
     "cell_type": "code",
     "collapsed": false,
     "input": [
      "tdiff = ts.diff()"
     ],
     "language": "python",
     "metadata": {},
     "outputs": [],
     "prompt_number": 20
>>>>>>> calblock_does_all
    },
    {
     "cell_type": "code",
     "collapsed": false,
     "input": [
<<<<<<< HEAD
      "df.calib_block_labels.nunique()"
=======
      "tdiff.values"
>>>>>>> calblock_does_all
     ],
     "language": "python",
     "metadata": {},
     "outputs": [
      {
       "metadata": {},
       "output_type": "pyout",
<<<<<<< HEAD
       "prompt_number": 23,
       "text": [
        "1"
       ]
      }
     ],
     "prompt_number": 23
=======
       "prompt_number": 30,
       "text": [
        "array([-9223372036854775808,            128000000,            128000000,\n",
        "       ...,            128000000,            128000000,\n",
        "                  128000000], dtype='timedelta64[ns]')"
       ]
      }
     ],
     "prompt_number": 30
>>>>>>> calblock_does_all
    },
    {
     "cell_type": "code",
     "collapsed": false,
<<<<<<< HEAD
     "input": [],
=======
     "input": [
      "tdiff[tdiff < 0]"
     ],
     "language": "python",
     "metadata": {},
     "outputs": [
      {
       "metadata": {},
       "output_type": "pyout",
       "prompt_number": 21,
       "text": [
        "4399   -00:00:00.871000\n",
        "dtype: timedelta64[ns]"
       ]
      }
     ],
     "prompt_number": 21
    },
    {
     "cell_type": "code",
     "collapsed": false,
     "input": [
      "df['tdiff'] = tdiff.values"
     ],
     "language": "python",
     "metadata": {},
     "outputs": [],
     "prompt_number": 31
    },
    {
     "cell_type": "code",
     "collapsed": false,
     "input": [
      "df.tdiff.value_counts()"
     ],
     "language": "python",
     "metadata": {},
     "outputs": [
      {
       "metadata": {},
       "output_type": "pyout",
       "prompt_number": 32,
       "text": [
        " 128000000              675563\n",
        " 127000000                2226\n",
        " 129000000                1577\n",
        " 125000000                   2\n",
        " 147000000                   2\n",
        " 135000000                   1\n",
        " 122000000                   1\n",
        " 116000000                   1\n",
        " 123000000                   1\n",
        " 111000000                   1\n",
        " 118000000                   1\n",
        " 144000000                   1\n",
        " 13516000000                 1\n",
        " 133000000                   1\n",
        " 139000000                   1\n",
        " 146000000                   1\n",
        " 108000000                   1\n",
        "-871000000                   1\n",
        " 137000000                   1\n",
        " 96000000                    1\n",
        " 119000000                   1\n",
        " 148000000                   1\n",
        " 142000000                   1\n",
        " 136000000                   1\n",
        " 115000000                   1\n",
        "-9223372036854775808         1\n",
        "dtype: int64"
       ]
      }
     ],
     "prompt_number": 32
    },
    {
     "cell_type": "code",
     "collapsed": false,
     "input": [
      "df[df.tdiff < 0]"
     ],
     "language": "python",
     "metadata": {},
     "outputs": [
      {
       "html": [
        "<div style=\"max-height:1000px;max-width:1500px;overflow:auto;\">\n",
        "<table border=\"1\" class=\"dataframe\">\n",
        "  <thead>\n",
        "    <tr style=\"text-align: right;\">\n",
        "      <th></th>\n",
        "      <th>a1_01</th>\n",
        "      <th>a1_02</th>\n",
        "      <th>a1_03</th>\n",
        "      <th>a1_04</th>\n",
        "      <th>a1_05</th>\n",
        "      <th>a1_06</th>\n",
        "      <th>a1_07</th>\n",
        "      <th>a1_08</th>\n",
        "      <th>a1_09</th>\n",
        "      <th>a1_10</th>\n",
        "      <th>a1_11</th>\n",
        "      <th>a1_12</th>\n",
        "      <th>a1_13</th>\n",
        "      <th>a1_14</th>\n",
        "      <th>a1_15</th>\n",
        "      <th>a1_16</th>\n",
        "      <th>a1_17</th>\n",
        "      <th>a1_18</th>\n",
        "      <th>a1_19</th>\n",
        "      <th>a1_20</th>\n",
        "      <th></th>\n",
        "    </tr>\n",
        "  </thead>\n",
        "  <tbody>\n",
        "    <tr>\n",
        "      <th>2009-07-05 17:00:01.728000</th>\n",
        "      <td> 23644</td>\n",
        "      <td> 23596</td>\n",
        "      <td> 23589</td>\n",
        "      <td> 23600</td>\n",
        "      <td> 23631</td>\n",
        "      <td> 23621</td>\n",
        "      <td> 23670</td>\n",
        "      <td> 23652</td>\n",
        "      <td> 23646</td>\n",
        "      <td> 23658</td>\n",
        "      <td> 23685</td>\n",
        "      <td> 23646</td>\n",
        "      <td> 23578</td>\n",
        "      <td> 23646</td>\n",
        "      <td> 23688</td>\n",
        "      <td> 23670</td>\n",
        "      <td> 23609</td>\n",
        "      <td> 23617</td>\n",
        "      <td> 23668</td>\n",
        "      <td> 23627</td>\n",
        "      <td>...</td>\n",
        "    </tr>\n",
        "  </tbody>\n",
        "</table>\n",
        "<p>1 rows \u00d7 258 columns</p>\n",
        "</div>"
       ],
       "metadata": {},
       "output_type": "pyout",
       "prompt_number": 34,
       "text": [
        "                            a1_01  a1_02  a1_03  a1_04  a1_05  a1_06  a1_07  \\\n",
        "2009-07-05 17:00:01.728000  23644  23596  23589  23600  23631  23621  23670   \n",
        "\n",
        "                            a1_08  a1_09  a1_10  a1_11  a1_12  a1_13  a1_14  \\\n",
        "2009-07-05 17:00:01.728000  23652  23646  23658  23685  23646  23578  23646   \n",
        "\n",
        "                            a1_15  a1_16  a1_17  a1_18  a1_19  a1_20      \n",
        "2009-07-05 17:00:01.728000  23688  23670  23609  23617  23668  23627 ...  \n",
        "\n",
        "[1 rows x 258 columns]"
       ]
      }
     ],
     "prompt_number": 34
    },
    {
     "cell_type": "code",
     "collapsed": false,
     "input": [
      "df['20090705 17:00:01':'20090705 17:00:02'].tdiff"
     ],
     "language": "python",
     "metadata": {},
     "outputs": [
      {
       "metadata": {},
       "output_type": "pyout",
       "prompt_number": 38,
       "text": [
        "2009-07-05 17:00:01.063000    00:00:00.128000\n",
        "2009-07-05 17:00:01.191000    00:00:00.128000\n",
        "2009-07-05 17:00:01.319000    00:00:00.128000\n",
        "2009-07-05 17:00:01.447000    00:00:00.128000\n",
        "2009-07-05 17:00:01.575000    00:00:00.128000\n",
        "2009-07-05 17:00:01.703000    00:00:00.128000\n",
        "2009-07-05 17:00:01.831000    00:00:00.128000\n",
        "2009-07-05 17:00:01.959000    00:00:00.128000\n",
        "2009-07-05 17:00:02.087000    00:00:00.128000\n",
        "2009-07-05 17:00:02.215000    00:00:00.128000\n",
        "2009-07-05 17:00:02.343000    00:00:00.128000\n",
        "2009-07-05 17:00:02.471000    00:00:00.128000\n",
        "2009-07-05 17:00:02.599000    00:00:00.128000\n",
        "2009-07-05 17:00:01.728000   -00:00:00.871000\n",
        "2009-07-05 17:00:01.856000    00:00:00.128000\n",
        "2009-07-05 17:00:01.984000    00:00:00.128000\n",
        "2009-07-05 17:00:02.112000    00:00:00.128000\n",
        "2009-07-05 17:00:02.240000    00:00:00.128000\n",
        "2009-07-05 17:00:02.368000    00:00:00.128000\n",
        "2009-07-05 17:00:02.496000    00:00:00.128000\n",
        "2009-07-05 17:00:02.624000    00:00:00.128000\n",
        "2009-07-05 17:00:02.752000    00:00:00.128000\n",
        "2009-07-05 17:00:02.880000    00:00:00.128000\n",
        "Name: tdiff, dtype: timedelta64[ns]"
       ]
      }
     ],
     "prompt_number": 38
    },
    {
     "cell_type": "markdown",
     "metadata": {},
     "source": [
      "Collecting: From first block, file '2009070517' is non-monotonic. Only once a jump back in time with non-matching time steps (delta different to 128 ms) was found, but quite a lot non-128ms intervals as well, see above."
     ]
    },
    {
     "cell_type": "code",
     "collapsed": false,
     "input": [
      "df = fu.open_and_accumulate(fu.L1ADataFile.from_timestr('2009071322').fname)"
     ],
     "language": "python",
     "metadata": {},
     "outputs": [
      {
       "output_type": "stream",
       "stream": "stdout",
       "text": [
        "Appending 2009071323 on the right.\n"
       ]
      }
     ],
     "prompt_number": 41
    },
    {
     "cell_type": "code",
     "collapsed": false,
     "input": [
      "ts = pd.TimeSeries(df.index)\n",
      "tdiff = ts.diff()\n",
      "tdiff[tdiff < 0]"
     ],
     "language": "python",
     "metadata": {},
     "outputs": [
      {
       "metadata": {},
       "output_type": "pyout",
       "prompt_number": 42,
       "text": [
        "56240   -00:00:00.018000\n",
        "dtype: timedelta64[ns]"
       ]
      }
     ],
     "prompt_number": 42
    },
    {
     "cell_type": "code",
     "collapsed": false,
     "input": [
      "df['tdiff'] = tdiff.values"
     ],
     "language": "python",
     "metadata": {},
     "outputs": [],
     "prompt_number": 43
    },
    {
     "cell_type": "code",
     "collapsed": true,
     "input": [
      "df[df.tdiff < 0]"
     ],
     "language": "python",
     "metadata": {},
     "outputs": [
      {
       "html": [
        "<div style=\"max-height:1000px;max-width:1500px;overflow:auto;\">\n",
        "<table border=\"1\" class=\"dataframe\">\n",
        "  <thead>\n",
        "    <tr style=\"text-align: right;\">\n",
        "      <th></th>\n",
        "      <th>a1_01</th>\n",
        "      <th>a1_02</th>\n",
        "      <th>a1_03</th>\n",
        "      <th>a1_04</th>\n",
        "      <th>a1_05</th>\n",
        "      <th>a1_06</th>\n",
        "      <th>a1_07</th>\n",
        "      <th>a1_08</th>\n",
        "      <th>a1_09</th>\n",
        "      <th>a1_10</th>\n",
        "      <th>a1_11</th>\n",
        "      <th>a1_12</th>\n",
        "      <th>a1_13</th>\n",
        "      <th>a1_14</th>\n",
        "      <th>a1_15</th>\n",
        "      <th>a1_16</th>\n",
        "      <th>a1_17</th>\n",
        "      <th>a1_18</th>\n",
        "      <th>a1_19</th>\n",
        "      <th>a1_20</th>\n",
        "      <th></th>\n",
        "    </tr>\n",
        "  </thead>\n",
        "  <tbody>\n",
        "    <tr>\n",
        "      <th>2009-07-13 23:00:00.483000</th>\n",
        "      <td> 23827</td>\n",
        "      <td> 23559</td>\n",
        "      <td> 23454</td>\n",
        "      <td> 23829</td>\n",
        "      <td> 23964</td>\n",
        "      <td> 23612</td>\n",
        "      <td> 23455</td>\n",
        "      <td> 23774</td>\n",
        "      <td> 24274</td>\n",
        "      <td> 24215</td>\n",
        "      <td> 23707</td>\n",
        "      <td> 23606</td>\n",
        "      <td> 23719</td>\n",
        "      <td> 23447</td>\n",
        "      <td> 23434</td>\n",
        "      <td> 23981</td>\n",
        "      <td> 24453</td>\n",
        "      <td> 23666</td>\n",
        "      <td> 23676</td>\n",
        "      <td> 23477</td>\n",
        "      <td>...</td>\n",
        "    </tr>\n",
        "  </tbody>\n",
        "</table>\n",
        "<p>1 rows \u00d7 258 columns</p>\n",
        "</div>"
       ],
       "metadata": {},
       "output_type": "pyout",
       "prompt_number": 44,
       "text": [
        "                            a1_01  a1_02  a1_03  a1_04  a1_05  a1_06  a1_07  \\\n",
        "2009-07-13 23:00:00.483000  23827  23559  23454  23829  23964  23612  23455   \n",
        "\n",
        "                            a1_08  a1_09  a1_10  a1_11  a1_12  a1_13  a1_14  \\\n",
        "2009-07-13 23:00:00.483000  23774  24274  24215  23707  23606  23719  23447   \n",
        "\n",
        "                            a1_15  a1_16  a1_17  a1_18  a1_19  a1_20      \n",
        "2009-07-13 23:00:00.483000  23434  23981  24453  23666  23676  23477 ...  \n",
        "\n",
        "[1 rows x 258 columns]"
       ]
      }
     ],
     "prompt_number": 44
    },
    {
     "cell_type": "code",
     "collapsed": false,
     "input": [
      "df['20090713 23:00:00':'20090713 23:00:01'].tdiff"
     ],
     "language": "python",
     "metadata": {},
     "outputs": [
      {
       "metadata": {},
       "output_type": "pyout",
       "prompt_number": 45,
       "text": [
        "2009-07-13 23:00:00.117000    00:00:00.128000\n",
        "2009-07-13 23:00:00.245000    00:00:00.128000\n",
        "2009-07-13 23:00:00.373000    00:00:00.128000\n",
        "2009-07-13 23:00:00.501000    00:00:00.128000\n",
        "2009-07-13 23:00:00.483000   -00:00:00.018000\n",
        "2009-07-13 23:00:00.611000    00:00:00.128000\n",
        "2009-07-13 23:00:00.739000    00:00:00.128000\n",
        "2009-07-13 23:00:00.867000    00:00:00.128000\n",
        "2009-07-13 23:00:00.995000    00:00:00.128000\n",
        "2009-07-13 23:00:01.123000    00:00:00.128000\n",
        "2009-07-13 23:00:01.251000    00:00:00.128000\n",
        "2009-07-13 23:00:01.379000    00:00:00.128000\n",
        "2009-07-13 23:00:01.507000    00:00:00.128000\n",
        "2009-07-13 23:00:01.635000    00:00:00.128000\n",
        "2009-07-13 23:00:01.763000    00:00:00.128000\n",
        "2009-07-13 23:00:01.891000    00:00:00.128000\n",
        "Name: tdiff, dtype: timedelta64[ns]"
       ]
      }
     ],
     "prompt_number": 45
    },
    {
     "cell_type": "code",
     "collapsed": false,
     "input": [
      "df.tdiff.value_counts()"
     ],
     "language": "python",
     "metadata": {},
     "outputs": [
      {
       "metadata": {},
       "output_type": "pyout",
       "prompt_number": 46,
       "text": [
        " 128000000              83634\n",
        " 129000000                541\n",
        " 127000000                189\n",
        " 136000000                  1\n",
        " 131000000                  1\n",
        "-18000000                   1\n",
        "-9223372036854775808        1\n",
        "dtype: int64"
       ]
      }
     ],
     "prompt_number": 46
    },
    {
     "cell_type": "markdown",
     "metadata": {},
     "source": [
      "Collection: '2009071323' slight jump back in time, and non-matching times after the jump."
     ]
    },
    {
     "cell_type": "code",
     "collapsed": false,
     "input": [
      "def check_for_tdiff(tstr):\n",
      "    df = fu.open_and_accumulate(fu.L1ADataFile.from_timestr(tstr).fname)\n",
      "    ts = pd.TimeSeries(df.index)\n",
      "    tdiff = ts.diff()\n",
      "    df['tdiff'] = tdiff.values # that i have to take values is a pandas bug i think\n",
      "    print df[df.tdiff < 0]\n",
      "    return df"
     ],
     "language": "python",
     "metadata": {},
     "outputs": [],
     "prompt_number": 55
    },
    {
     "cell_type": "code",
     "collapsed": false,
     "input": [
      "df = check_for_tdiff('2012050803')"
     ],
     "language": "python",
     "metadata": {},
     "outputs": [
      {
       "output_type": "stream",
       "stream": "stdout",
       "text": [
        "Appending 2012050804 on the right.\n",
        "                            a1_01  a1_02  a1_03  a1_04  a1_05  a1_06  a1_07  \\\n",
        "2012-05-08 04:00:00.050000  24580  24844  24889  24623  24883  24891  24854   \n",
        "\n",
        "                            a1_08  a1_09  a1_10  a1_11  a1_12  a1_13  a1_14  \\\n",
        "2012-05-08 04:00:00.050000  24852  24763  24777  24821  24763  24681  24705   \n",
        "\n",
        "                            a1_15  a1_16  a1_17  a1_18  a1_19  a1_20      \n",
        "2012-05-08 04:00:00.050000  24799  25018  24610  24820  24867  24750 ...  \n",
        "\n",
        "[1 rows x 258 columns]"
       ]
      },
      {
       "output_type": "stream",
       "stream": "stdout",
       "text": [
        "\n"
       ]
      }
     ],
     "prompt_number": 56
    },
    {
     "cell_type": "code",
     "collapsed": false,
     "input": [
      "df['20120508 04:00:00':'20120508 04:00:01'].tdiff"
     ],
     "language": "python",
     "metadata": {},
     "outputs": [
      {
       "metadata": {},
       "output_type": "pyout",
       "prompt_number": 57,
       "text": [
        "2012-05-08 04:00:00.041000    00:00:00.128000\n",
        "2012-05-08 04:00:00.169000    00:00:00.128000\n",
        "2012-05-08 04:00:00.297000    00:00:00.128000\n",
        "2012-05-08 04:00:00.425000    00:00:00.128000\n",
        "2012-05-08 04:00:00.553000    00:00:00.128000\n",
        "2012-05-08 04:00:00.681000    00:00:00.128000\n",
        "2012-05-08 04:00:00.809000    00:00:00.128000\n",
        "2012-05-08 04:00:00.937000    00:00:00.128000\n",
        "2012-05-08 04:00:01.065000    00:00:00.128000\n",
        "2012-05-08 04:00:01.193000    00:00:00.128000\n",
        "2012-05-08 04:00:01.321000    00:00:00.128000\n",
        "2012-05-08 04:00:01.449000    00:00:00.128000\n",
        "2012-05-08 04:00:01.577000    00:00:00.128000\n",
        "2012-05-08 04:00:01.705000    00:00:00.128000\n",
        "2012-05-08 04:00:01.833000    00:00:00.128000\n",
        "2012-05-08 04:00:01.961000    00:00:00.128000\n",
        "2012-05-08 04:00:00.050000   -00:00:01.911000\n",
        "2012-05-08 04:00:00.178000    00:00:00.128000\n",
        "2012-05-08 04:00:00.306000    00:00:00.128000\n",
        "2012-05-08 04:00:00.434000    00:00:00.128000\n",
        "2012-05-08 04:00:00.562000    00:00:00.128000\n",
        "2012-05-08 04:00:00.690000    00:00:00.128000\n",
        "2012-05-08 04:00:00.818000    00:00:00.128000\n",
        "2012-05-08 04:00:00.946000    00:00:00.128000\n",
        "2012-05-08 04:00:01.074000    00:00:00.128000\n",
        "2012-05-08 04:00:01.202000    00:00:00.128000\n",
        "2012-05-08 04:00:01.330000    00:00:00.128000\n",
        "2012-05-08 04:00:01.458000    00:00:00.128000\n",
        "2012-05-08 04:00:01.586000    00:00:00.128000\n",
        "2012-05-08 04:00:01.714000    00:00:00.128000\n",
        "2012-05-08 04:00:01.842000    00:00:00.128000\n",
        "2012-05-08 04:00:01.970000    00:00:00.128000\n",
        "Name: tdiff, dtype: timedelta64[ns]"
       ]
      }
     ],
     "prompt_number": 57
    },
    {
     "cell_type": "markdown",
     "metadata": {},
     "source": [
      "Collection: '2012050804' standard prob"
     ]
    },
    {
     "cell_type": "code",
     "collapsed": false,
     "input": [
      "df = check_for_tdiff('2012063022')"
     ],
     "language": "python",
     "metadata": {},
     "outputs": [
      {
       "output_type": "stream",
       "stream": "stdout",
       "text": [
        "Appending 2012063023 on the right.\n",
        "                            a1_01  a1_02  a1_03  a1_04  a1_05  a1_06  a1_07  \\\n",
        "2012-07-01 00:00:00.092000  22349  22302  22293  22311  22332  22322  22375   \n",
        "\n",
        "                            a1_08  a1_09  a1_10  a1_11  a1_12  a1_13  a1_14  \\\n",
        "2012-07-01 00:00:00.092000  22360  22353  22371  22408  22366  22304  22366   \n",
        "\n",
        "                            a1_15  a1_16  a1_17  a1_18  a1_19  a1_20      \n",
        "2012-07-01 00:00:00.092000  22408  22390  22324  22332  22374  22332 ...  \n",
        "\n",
        "[1 rows x 258 columns]"
       ]
      },
      {
       "output_type": "stream",
       "stream": "stdout",
       "text": [
        "\n"
       ]
      }
     ],
     "prompt_number": 58
    },
    {
     "cell_type": "code",
     "collapsed": false,
     "input": [
      "df"
     ],
>>>>>>> calblock_does_all
     "language": "python",
     "metadata": {},
     "outputs": []
    }
   ],
   "metadata": {}
  }
 ]
}