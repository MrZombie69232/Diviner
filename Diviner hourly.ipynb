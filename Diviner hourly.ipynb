{
 "metadata": {
  "name": "Diviner hourly"
 },
 "nbformat": 3,
 "nbformat_minor": 0,
 "worksheets": [
  {
   "cells": [
    {
     "cell_type": "code",
     "collapsed": false,
     "input": [
      "import create_database as ct\n",
      "import pandas as pd\n",
      "import diviner as div\n",
      "reload(ct)"
     ],
     "language": "python",
     "metadata": {},
     "outputs": [
      {
       "output_type": "pyout",
       "prompt_number": 1,
       "text": [
        "<module 'create_database' from 'create_database.pyc'>"
       ]
      }
     ],
     "prompt_number": 1
    },
    {
     "cell_type": "code",
     "collapsed": false,
     "input": [
      "cd /s3/marks/div247/"
     ],
     "language": "python",
     "metadata": {},
     "outputs": [
      {
       "output_type": "stream",
       "stream": "stdout",
       "text": [
        "/s3/marks/div247\n"
       ]
      }
     ],
     "prompt_number": 2
    },
    {
     "cell_type": "code",
     "collapsed": false,
     "input": [
      "rec_dtype, keys = ct.get_div247_dtypes()"
     ],
     "language": "python",
     "metadata": {},
     "outputs": [],
     "prompt_number": 3
    },
    {
     "cell_type": "code",
     "collapsed": false,
     "input": [
      "pump = ct.DataPump()"
     ],
     "language": "python",
     "metadata": {},
     "outputs": [],
     "prompt_number": 11
    },
    {
     "cell_type": "code",
     "collapsed": false,
     "input": [
      "df = pump.get_df('./201104/2011041600.div247')"
     ],
     "language": "python",
     "metadata": {},
     "outputs": [],
     "prompt_number": 12
    },
    {
     "cell_type": "code",
     "collapsed": false,
     "input": [
      "for _ in range(23):\n",
      "    dfnew = pump.get_next()\n",
      "    df = pd.concat([df,dfnew])"
     ],
     "language": "python",
     "metadata": {},
     "outputs": [],
     "prompt_number": 15
    },
    {
     "cell_type": "code",
     "collapsed": false,
     "input": [
      "df.b3_11.plot()\n",
      "display(gcf())"
     ],
     "language": "python",
     "metadata": {},
     "outputs": [],
     "prompt_number": "*"
    },
    {
     "cell_type": "code",
     "collapsed": false,
     "input": [
      "df"
     ],
     "language": "python",
     "metadata": {},
     "outputs": [
      {
       "output_type": "pyout",
       "prompt_number": 9,
       "text": [
        "<class 'pandas.core.frame.DataFrame'>\n",
        "DatetimeIndex: 28112 entries, 2011-04-01 00:00:01.978000 to 2011-04-01 01:00:00.234000\n",
        "Columns: 241 entries, sclk to b3_21\n",
        "dtypes: float64(241)"
       ]
      }
     ],
     "prompt_number": 9
    },
    {
     "cell_type": "code",
     "collapsed": false,
     "input": [
      "ct.define_sdtype(df)"
     ],
     "language": "python",
     "metadata": {},
     "outputs": [],
     "prompt_number": 8
    },
    {
     "cell_type": "code",
     "collapsed": false,
     "input": [
      "df.calib_block_labels.value_counts()"
     ],
     "language": "python",
     "metadata": {},
     "outputs": [
      {
       "output_type": "pyout",
       "prompt_number": 9,
       "text": [
        "0    25616\n",
        "3      736\n",
        "6      352\n",
        "5      352\n",
        "4      352\n",
        "2      352\n",
        "1      352"
       ]
      }
     ],
     "prompt_number": 9
    },
    {
     "cell_type": "code",
     "collapsed": false,
     "input": [
      "df.is_calib.value_counts()"
     ],
     "language": "python",
     "metadata": {},
     "outputs": [
      {
       "output_type": "pyout",
       "prompt_number": 10,
       "text": [
        "False    26512\n",
        "True      1600"
       ]
      }
     ],
     "prompt_number": 10
    },
    {
     "cell_type": "code",
     "collapsed": false,
     "input": [
      "df.is_moving.value_counts()"
     ],
     "language": "python",
     "metadata": {},
     "outputs": [
      {
       "output_type": "pyout",
       "prompt_number": 11,
       "text": [
        "False    26928\n",
        "True      1184"
       ]
      }
     ],
     "prompt_number": 11
    },
    {
     "cell_type": "code",
     "collapsed": false,
     "input": [
      "df.is_stview.value_counts() # that 80 is one st_view"
     ],
     "language": "python",
     "metadata": {},
     "outputs": [
      {
       "output_type": "pyout",
       "prompt_number": 12,
       "text": [
        "False    28032\n",
        "True        80"
       ]
      }
     ],
     "prompt_number": 12
    },
    {
     "cell_type": "code",
     "collapsed": false,
     "input": [
      "reload(ct)"
     ],
     "language": "python",
     "metadata": {},
     "outputs": [
      {
       "output_type": "pyout",
       "prompt_number": 15,
       "text": [
        "<module 'create_database' from '/luna1/maye/src/diviner/create_database.pyc'>"
       ]
      }
     ],
     "prompt_number": 15
    },
    {
     "cell_type": "markdown",
     "metadata": {},
     "source": [
      "the reason for the moving data after the last sv_view being cut-off abruptly, is the commanded azimuth and elevation not fitting to any calib pointing definition. That's why the moving part at the end is in no block definition, even so the blocks contain all other moving data."
     ]
    },
    {
     "cell_type": "code",
     "collapsed": false,
     "input": [
      "ct.plot_calib_block(df,'calib_block_labels',6)\n",
      "display(gcf())"
     ],
     "language": "python",
     "metadata": {},
     "outputs": [
      {
       "output_type": "display_data",
       "png": "[encoded data removed]",
       "text": [
        "<matplotlib.figure.Figure at 0x4e19710>"
       ]
      }
     ],
     "prompt_number": 16
    },
    {
     "cell_type": "code",
     "collapsed": false,
     "input": [
      "df[df.calib_block_labels==6].index[-1]"
     ],
     "language": "python",
     "metadata": {},
     "outputs": [
      {
       "output_type": "pyout",
       "prompt_number": 17,
       "text": [
        "<Timestamp: 2011-04-01 00:59:00.841000>"
       ]
      }
     ],
     "prompt_number": 17
    },
    {
     "cell_type": "code",
     "collapsed": false,
     "input": [
      "df.index[-1]"
     ],
     "language": "python",
     "metadata": {},
     "outputs": [
      {
       "output_type": "pyout",
       "prompt_number": 13,
       "text": [
        "<Timestamp: 2011-04-01 01:00:00.234000>"
       ]
      }
     ],
     "prompt_number": 13
    },
    {
     "cell_type": "code",
     "collapsed": false,
     "input": [
      "df.sv_block_labels.value_counts().sort_index()"
     ],
     "language": "python",
     "metadata": {},
     "outputs": [
      {
       "output_type": "pyout",
       "prompt_number": 14,
       "text": [
        "0     26560\n",
        "1       128\n",
        "2       112\n",
        "3       128\n",
        "4       112\n",
        "5       128\n",
        "6       112\n",
        "7       112\n",
        "8       128\n",
        "9       112\n",
        "10      128\n",
        "11      112\n",
        "12      128\n",
        "13      112"
       ]
      }
     ],
     "prompt_number": 14
    },
    {
     "cell_type": "code",
     "collapsed": false,
     "input": [
      "df.bb_block_labels.value_counts()"
     ],
     "language": "python",
     "metadata": {},
     "outputs": [
      {
       "output_type": "pyout",
       "prompt_number": 15,
       "text": [
        "0    27440\n",
        "6      112\n",
        "5      112\n",
        "4      112\n",
        "3      112\n",
        "2      112\n",
        "1      112"
       ]
      }
     ],
     "prompt_number": 15
    },
    {
     "cell_type": "code",
     "collapsed": false,
     "input": [
      "ct.plot_calib_block(df,'bb_block_labels',6)\n",
      "display(gcf())"
     ],
     "language": "python",
     "metadata": {},
     "outputs": [
      {
       "output_type": "display_data",
       "png": "[encoded data removed]",
       "text": [
        "<matplotlib.figure.Figure at 0x3f93950>"
       ]
      }
     ],
     "prompt_number": 16
    },
    {
     "cell_type": "code",
     "collapsed": false,
     "input": [
      "t1 = df[df.calib_block_labels==2].index[0]"
     ],
     "language": "python",
     "metadata": {},
     "outputs": [],
     "prompt_number": 17
    },
    {
     "cell_type": "code",
     "collapsed": false,
     "input": [
      "t2 = df[df.calib_block_labels==4].index[-1]"
     ],
     "language": "python",
     "metadata": {},
     "outputs": [],
     "prompt_number": 18
    },
    {
     "cell_type": "code",
     "collapsed": false,
     "input": [
      "df.ix[t1:t2]"
     ],
     "language": "python",
     "metadata": {},
     "outputs": [
      {
       "output_type": "pyout",
       "prompt_number": 19,
       "text": [
        "<class 'pandas.core.frame.DataFrame'>\n",
        "DatetimeIndex: 9968 entries, 2011-04-01 00:17:12.135999 to 2011-04-01 00:38:27.928999\n",
        "Columns: 252 entries, sclk to is_calib\n",
        "dtypes: bool(6), float64(241), int64(5)"
       ]
      }
     ],
     "prompt_number": 19
    },
    {
     "cell_type": "code",
     "collapsed": false,
     "input": [
      "df.filter(regex='block_labels')"
     ],
     "language": "python",
     "metadata": {},
     "outputs": [
      {
       "output_type": "pyout",
       "prompt_number": 20,
       "text": [
        "<class 'pandas.core.frame.DataFrame'>\n",
        "DatetimeIndex: 28112 entries, 2011-04-01 00:00:01.978000 to 2011-04-01 01:00:00.234000\n",
        "Data columns:\n",
        "calib_block_labels    28112  non-null values\n",
        "sv_block_labels       28112  non-null values\n",
        "bb_block_labels       28112  non-null values\n",
        "st_block_labels       28112  non-null values\n",
        "dtypes: int64(4)"
       ]
      }
     ],
     "prompt_number": 20
    },
    {
     "cell_type": "code",
     "collapsed": false,
     "input": [
      "ax = df.filter(regex='block_labels').plot(linewidth=2)\n",
      "df.filter(regex='is_').plot(ax=ax,linewidth=2)\n",
      "div.save_to_www('calib_data.png',dpi=150)\n",
      "display(gcf())"
     ],
     "language": "python",
     "metadata": {},
     "outputs": [
      {
       "output_type": "display_data",
       "png": "[encoded data removed]",
       "text": [
        "<matplotlib.figure.Figure at 0x4bc3d10>"
       ]
      }
     ],
     "prompt_number": 23
    },
    {
     "cell_type": "code",
     "collapsed": false,
     "input": [
      "ct.plot_calib_block(df,'calib_block_labels',3,det='b1_11')\n",
      "display(gcf())"
     ],
     "language": "python",
     "metadata": {},
     "outputs": [
      {
       "output_type": "display_data",
       "png": "[encoded data removed]",
       "text": [
        "<matplotlib.figure.Figure at 0x4e2f610>"
       ]
      }
     ],
     "prompt_number": 29
    },
    {
     "cell_type": "markdown",
     "metadata": {},
     "source": [
      "the calib block labels contain moving data as well, to be able to mark sv and bb views together as 1 block if they happen together. that's why I have to subtract the moving data if I want to compare the resulting number with df.is_calib entries."
     ]
    },
    {
     "cell_type": "code",
     "collapsed": false,
     "input": [
      "df[(df.calib_block_labels >0) & (df.moving==1)]"
     ],
     "language": "python",
     "metadata": {},
     "outputs": [
      {
       "output_type": "pyout",
       "prompt_number": 30,
       "text": [
        "<class 'pandas.core.frame.DataFrame'>\n",
        "DatetimeIndex: 896 entries, 2011-04-01 00:06:53.631999 to 2011-04-01 00:58:50.600999\n",
        "Columns: 252 entries, sclk to is_calib\n",
        "dtypes: bool(6), float64(241), int64(5)"
       ]
      }
     ],
     "prompt_number": 30
    },
    {
     "cell_type": "code",
     "collapsed": false,
     "input": [
      "df.calib_block_labels.value_counts().sort_index()[1:].sum()"
     ],
     "language": "python",
     "metadata": {},
     "outputs": [
      {
       "output_type": "pyout",
       "prompt_number": 33,
       "text": [
        "2496"
       ]
      }
     ],
     "prompt_number": 33
    },
    {
     "cell_type": "code",
     "collapsed": false,
     "input": [
      "2496-896"
     ],
     "language": "python",
     "metadata": {},
     "outputs": [
      {
       "output_type": "pyout",
       "prompt_number": 32,
       "text": [
        "1600"
       ]
      }
     ],
     "prompt_number": 32
    },
    {
     "cell_type": "markdown",
     "metadata": {},
     "source": [
      "this is the same as the value of all is_calib data (which does not contain moving data)"
     ]
    },
    {
     "cell_type": "code",
     "collapsed": false,
     "input": [
      "df.is_calib.value_counts()"
     ],
     "language": "python",
     "metadata": {},
     "outputs": [
      {
       "output_type": "pyout",
       "prompt_number": 24,
       "text": [
        "False    26512\n",
        "True      1600"
       ]
      }
     ],
     "prompt_number": 24
    },
    {
     "cell_type": "code",
     "collapsed": false,
     "input": [
      "reload(ct)"
     ],
     "language": "python",
     "metadata": {},
     "outputs": [
      {
       "output_type": "pyout",
       "prompt_number": 94,
       "text": [
        "<module 'create_database' from '/luna1/maye/src/diviner/create_database.py'>"
       ]
      }
     ],
     "prompt_number": 94
    },
    {
     "cell_type": "code",
     "collapsed": false,
     "input": [
      "pump = ct.DataPump()"
     ],
     "language": "python",
     "metadata": {},
     "outputs": [],
     "prompt_number": 95
    },
    {
     "cell_type": "code",
     "collapsed": false,
     "input": [
      "df = pump.get_df('./201104/2011040100.div247')"
     ],
     "language": "python",
     "metadata": {},
     "outputs": [],
     "prompt_number": 98
    },
    {
     "cell_type": "code",
     "collapsed": false,
     "input": [
      "df.groupby(['calib_block_labels','is_spaceview']).a3_11.mean()"
     ],
     "language": "python",
     "metadata": {},
     "outputs": [
      {
       "output_type": "pyout",
       "prompt_number": 99,
       "text": [
        "calib_block_labels  is_spaceview\n",
        "0                   False           22366.915404\n",
        "1                   False           23167.416667\n",
        "                    True            23815.556250\n",
        "2                   False           23167.223958\n",
        "                    True            23805.956250\n",
        "3                   False           23375.290323\n",
        "                    True            23808.483333\n",
        "4                   False           22879.781250\n",
        "                    True            23825.062500\n",
        "5                   False           22551.218750\n",
        "                    True            23854.287500\n",
        "6                   False           22421.588542\n",
        "                    True            23884.593750\n",
        "Name: a3_11"
       ]
      }
     ],
     "prompt_number": 99
    },
    {
     "cell_type": "code",
     "collapsed": false,
     "input": [
      "def ptp(arr):\n",
      "    return arr.max() - arr.min()"
     ],
     "language": "python",
     "metadata": {},
     "outputs": [],
     "prompt_number": 100
    },
    {
     "cell_type": "code",
     "collapsed": false,
     "input": [
      "df.groupby(['calib_block_labels','is_spaceview'])['a3_11','a4_11'].agg([ptp,'size'])"
     ],
     "language": "python",
     "metadata": {},
     "outputs": [
      {
       "html": [
        "<div style=\"max-height:1000px;max-width:1500px;overflow:auto;\">\n",
        "<table border=\"1\" class=\"dataframe\">\n",
        "  <thead>\n",
        "    <tr>\n",
        "      <th></th>\n",
        "      <th></th>\n",
        "      <th colspan=\"2\" halign=\"left\">a3_11</th>\n",
        "      <th colspan=\"2\" halign=\"left\">a4_11</th>\n",
        "    </tr>\n",
        "    <tr>\n",
        "      <th></th>\n",
        "      <th></th>\n",
        "      <th>ptp</th>\n",
        "      <th>size</th>\n",
        "      <th>ptp</th>\n",
        "      <th>size</th>\n",
        "    </tr>\n",
        "    <tr>\n",
        "      <th>calib_block_labels</th>\n",
        "      <th>is_spaceview</th>\n",
        "      <th></th>\n",
        "      <th></th>\n",
        "      <th></th>\n",
        "      <th></th>\n",
        "    </tr>\n",
        "  </thead>\n",
        "  <tbody>\n",
        "    <tr>\n",
        "      <th>0</th>\n",
        "      <th>False</th>\n",
        "      <td> 5052</td>\n",
        "      <td> 25616</td>\n",
        "      <td> 2357</td>\n",
        "      <td> 25616</td>\n",
        "    </tr>\n",
        "    <tr>\n",
        "      <th rowspan=\"2\" valign=\"top\">1</th>\n",
        "      <th>False</th>\n",
        "      <td> 1198</td>\n",
        "      <td>   192</td>\n",
        "      <td>  608</td>\n",
        "      <td>   192</td>\n",
        "    </tr>\n",
        "    <tr>\n",
        "      <th>True </th>\n",
        "      <td>   14</td>\n",
        "      <td>   160</td>\n",
        "      <td>   16</td>\n",
        "      <td>   160</td>\n",
        "    </tr>\n",
        "    <tr>\n",
        "      <th rowspan=\"2\" valign=\"top\">2</th>\n",
        "      <th>False</th>\n",
        "      <td> 1181</td>\n",
        "      <td>   192</td>\n",
        "      <td>  597</td>\n",
        "      <td>   192</td>\n",
        "    </tr>\n",
        "    <tr>\n",
        "      <th>True </th>\n",
        "      <td>   16</td>\n",
        "      <td>   160</td>\n",
        "      <td>   13</td>\n",
        "      <td>   160</td>\n",
        "    </tr>\n",
        "    <tr>\n",
        "      <th rowspan=\"2\" valign=\"top\">3</th>\n",
        "      <th>False</th>\n",
        "      <td> 1180</td>\n",
        "      <td>   496</td>\n",
        "      <td>  596</td>\n",
        "      <td>   496</td>\n",
        "    </tr>\n",
        "    <tr>\n",
        "      <th>True </th>\n",
        "      <td>   28</td>\n",
        "      <td>   240</td>\n",
        "      <td>   22</td>\n",
        "      <td>   240</td>\n",
        "    </tr>\n",
        "    <tr>\n",
        "      <th rowspan=\"2\" valign=\"top\">4</th>\n",
        "      <th>False</th>\n",
        "      <td> 2081</td>\n",
        "      <td>   192</td>\n",
        "      <td>  942</td>\n",
        "      <td>   192</td>\n",
        "    </tr>\n",
        "    <tr>\n",
        "      <th>True </th>\n",
        "      <td>   15</td>\n",
        "      <td>   160</td>\n",
        "      <td>   15</td>\n",
        "      <td>   160</td>\n",
        "    </tr>\n",
        "    <tr>\n",
        "      <th rowspan=\"2\" valign=\"top\">5</th>\n",
        "      <th>False</th>\n",
        "      <td> 3933</td>\n",
        "      <td>   192</td>\n",
        "      <td> 1922</td>\n",
        "      <td>   192</td>\n",
        "    </tr>\n",
        "    <tr>\n",
        "      <th>True </th>\n",
        "      <td>   23</td>\n",
        "      <td>   160</td>\n",
        "      <td>   25</td>\n",
        "      <td>   160</td>\n",
        "    </tr>\n",
        "    <tr>\n",
        "      <th rowspan=\"2\" valign=\"top\">6</th>\n",
        "      <th>False</th>\n",
        "      <td> 4497</td>\n",
        "      <td>   192</td>\n",
        "      <td> 2170</td>\n",
        "      <td>   192</td>\n",
        "    </tr>\n",
        "    <tr>\n",
        "      <th>True </th>\n",
        "      <td>   21</td>\n",
        "      <td>   160</td>\n",
        "      <td>   23</td>\n",
        "      <td>   160</td>\n",
        "    </tr>\n",
        "  </tbody>\n",
        "</table>\n",
        "</div>"
       ],
       "output_type": "pyout",
       "prompt_number": 101,
       "text": [
        "                                 a3_11         a4_11       \n",
        "                                   ptp   size    ptp   size\n",
        "calib_block_labels is_spaceview                            \n",
        "0                  False          5052  25616   2357  25616\n",
        "1                  False          1198    192    608    192\n",
        "                   True             14    160     16    160\n",
        "2                  False          1181    192    597    192\n",
        "                   True             16    160     13    160\n",
        "3                  False          1180    496    596    496\n",
        "                   True             28    240     22    240\n",
        "4                  False          2081    192    942    192\n",
        "                   True             15    160     15    160\n",
        "5                  False          3933    192   1922    192\n",
        "                   True             23    160     25    160\n",
        "6                  False          4497    192   2170    192\n",
        "                   True             21    160     23    160"
       ]
      }
     ],
     "prompt_number": 101
    },
    {
     "cell_type": "code",
     "collapsed": false,
     "input": [
      "grouped = df.groupby(['calib_block_labels'])"
     ],
     "language": "python",
     "metadata": {},
     "outputs": [],
     "prompt_number": 110
    },
    {
     "cell_type": "code",
     "collapsed": false,
     "input": [
      "def myfunc(arr):\n",
      "    local_sv = df.ix[arr.index]['is_spaceview']\n",
      "    return arr[local_sv].mean()"
     ],
     "language": "python",
     "metadata": {},
     "outputs": [],
     "prompt_number": 131
    },
    {
     "cell_type": "code",
     "collapsed": false,
     "input": [
      "grouped.a3_11.agg(myfunc)"
     ],
     "language": "python",
     "metadata": {},
     "outputs": [
      {
       "output_type": "pyout",
       "prompt_number": 104,
       "text": [
        "calib_block_labels\n",
        "0                              NaN\n",
        "1                     23815.556250\n",
        "2                     23805.956250\n",
        "3                     23808.483333\n",
        "4                     23825.062500\n",
        "5                     23854.287500\n",
        "6                     23884.593750\n",
        "Name: a3_11"
       ]
      }
     ],
     "prompt_number": 104
    },
    {
     "cell_type": "code",
     "collapsed": false,
     "input": [
      "df.groupby(['calib_block_labels','is_spaceview']).a3_11.mean()"
     ],
     "language": "python",
     "metadata": {},
     "outputs": [
      {
       "output_type": "pyout",
       "prompt_number": 111,
       "text": [
        "calib_block_labels  is_spaceview\n",
        "0                   False           22366.915404\n",
        "1                   False           23167.416667\n",
        "                    True            23815.556250\n",
        "2                   False           23167.223958\n",
        "                    True            23805.956250\n",
        "3                   False           23375.290323\n",
        "                    True            23808.483333\n",
        "4                   False           22879.781250\n",
        "                    True            23825.062500\n",
        "5                   False           22551.218750\n",
        "                    True            23854.287500\n",
        "6                   False           22421.588542\n",
        "                    True            23884.593750\n",
        "Name: a3_11"
       ]
      }
     ],
     "prompt_number": 111
    },
    {
     "cell_type": "code",
     "collapsed": false,
     "input": [
      "block1 = df[df.calib_block_labels==1]"
     ],
     "language": "python",
     "metadata": {},
     "outputs": [],
     "prompt_number": 116
    },
    {
     "cell_type": "code",
     "collapsed": false,
     "input": [
      "block1[block1.is_spaceview].a3_11.mean()"
     ],
     "language": "python",
     "metadata": {},
     "outputs": [
      {
       "output_type": "pyout",
       "prompt_number": 117,
       "text": [
        "23815.556250000001"
       ]
      }
     ],
     "prompt_number": 117
    },
    {
     "cell_type": "code",
     "collapsed": false,
     "input": [
      "grouped.a3_11.mean()"
     ],
     "language": "python",
     "metadata": {},
     "outputs": [
      {
       "output_type": "pyout",
       "prompt_number": 119,
       "text": [
        "calib_block_labels\n",
        "0                     22366.915404\n",
        "1                     23462.025568\n",
        "2                     23457.556818\n",
        "3                     23516.548913\n",
        "4                     23309.454545\n",
        "5                     23143.522727\n",
        "6                     23086.590909\n",
        "Name: a3_11"
       ]
      }
     ],
     "prompt_number": 119
    },
    {
     "cell_type": "code",
     "collapsed": false,
     "input": [
      "grouped[['a3_11']].transform(myfunc)"
     ],
     "language": "python",
     "metadata": {},
     "outputs": [
      {
       "output_type": "pyout",
       "prompt_number": 132,
       "text": [
        "<class 'pandas.core.frame.DataFrame'>\n",
        "DatetimeIndex: 28112 entries, 2011-04-01 00:00:01.978000 to 2011-04-01 01:00:00.234000\n",
        "Data columns:\n",
        "a3_11    2496  non-null values\n",
        "dtypes: float64(1)"
       ]
      }
     ],
     "prompt_number": 132
    },
    {
     "cell_type": "code",
     "collapsed": false,
     "input": [
      "def get_sv(df, column='a3_11'):\n",
      "    dfhere = df[df.is_spaceview]\n",
      "    return dfhere.filter(regex='_11').mean()"
     ],
     "language": "python",
     "metadata": {},
     "outputs": [],
     "prompt_number": 153
    },
    {
     "cell_type": "code",
     "collapsed": false,
     "input": [
      "grouped.apply(get_sv)"
     ],
     "language": "python",
     "metadata": {},
     "outputs": [
      {
       "html": [
        "<div style=\"max-height:1000px;max-width:1500px;overflow:auto;\">\n",
        "<table border=\"1\" class=\"dataframe\">\n",
        "  <thead>\n",
        "    <tr style=\"text-align: right;\">\n",
        "      <th></th>\n",
        "      <th>a1_11</th>\n",
        "      <th>a2_11</th>\n",
        "      <th>a3_11</th>\n",
        "      <th>a4_11</th>\n",
        "      <th>a5_11</th>\n",
        "      <th>a6_11</th>\n",
        "      <th>b1_11</th>\n",
        "      <th>b2_11</th>\n",
        "      <th>b3_11</th>\n",
        "    </tr>\n",
        "    <tr>\n",
        "      <th>calib_block_labels</th>\n",
        "      <th></th>\n",
        "      <th></th>\n",
        "      <th></th>\n",
        "      <th></th>\n",
        "      <th></th>\n",
        "      <th></th>\n",
        "      <th></th>\n",
        "      <th></th>\n",
        "      <th></th>\n",
        "    </tr>\n",
        "  </thead>\n",
        "  <tbody>\n",
        "    <tr>\n",
        "      <th>0</th>\n",
        "      <td>          NaN</td>\n",
        "      <td>          NaN</td>\n",
        "      <td>          NaN</td>\n",
        "      <td>          NaN</td>\n",
        "      <td>         NaN</td>\n",
        "      <td>         NaN</td>\n",
        "      <td>          NaN</td>\n",
        "      <td>         NaN</td>\n",
        "      <td>          NaN</td>\n",
        "    </tr>\n",
        "    <tr>\n",
        "      <th>1</th>\n",
        "      <td> 22368.262500</td>\n",
        "      <td> 22556.006250</td>\n",
        "      <td> 23815.556250</td>\n",
        "      <td> 23195.531250</td>\n",
        "      <td> 23189.60625</td>\n",
        "      <td> 26347.68750</td>\n",
        "      <td> 30025.150000</td>\n",
        "      <td> 28159.81250</td>\n",
        "      <td> 27702.425000</td>\n",
        "    </tr>\n",
        "    <tr>\n",
        "      <th>2</th>\n",
        "      <td> 22400.506250</td>\n",
        "      <td> 22561.437500</td>\n",
        "      <td> 23805.956250</td>\n",
        "      <td> 23193.868750</td>\n",
        "      <td> 23188.24375</td>\n",
        "      <td> 26346.76875</td>\n",
        "      <td> 30028.937500</td>\n",
        "      <td> 28155.71875</td>\n",
        "      <td> 27700.368750</td>\n",
        "    </tr>\n",
        "    <tr>\n",
        "      <th>3</th>\n",
        "      <td> 22419.620833</td>\n",
        "      <td> 22580.833333</td>\n",
        "      <td> 23808.483333</td>\n",
        "      <td> 23205.541667</td>\n",
        "      <td> 23200.80000</td>\n",
        "      <td> 26348.53750</td>\n",
        "      <td> 30037.404167</td>\n",
        "      <td> 28161.56250</td>\n",
        "      <td> 27706.604167</td>\n",
        "    </tr>\n",
        "    <tr>\n",
        "      <th>4</th>\n",
        "      <td> 22422.918750</td>\n",
        "      <td> 22610.450000</td>\n",
        "      <td> 23825.062500</td>\n",
        "      <td> 23229.750000</td>\n",
        "      <td> 23223.81875</td>\n",
        "      <td> 26355.98750</td>\n",
        "      <td> 30053.531250</td>\n",
        "      <td> 28181.92500</td>\n",
        "      <td> 27722.343750</td>\n",
        "    </tr>\n",
        "    <tr>\n",
        "      <th>5</th>\n",
        "      <td> 22400.556250</td>\n",
        "      <td> 22643.075000</td>\n",
        "      <td> 23854.287500</td>\n",
        "      <td> 23261.537500</td>\n",
        "      <td> 23254.67500</td>\n",
        "      <td> 26366.75000</td>\n",
        "      <td> 30070.225000</td>\n",
        "      <td> 28211.90000</td>\n",
        "      <td> 27743.643750</td>\n",
        "    </tr>\n",
        "    <tr>\n",
        "      <th>6</th>\n",
        "      <td> 22355.493750</td>\n",
        "      <td> 22664.037500</td>\n",
        "      <td> 23884.593750</td>\n",
        "      <td> 23288.312500</td>\n",
        "      <td> 23278.93750</td>\n",
        "      <td> 26374.55000</td>\n",
        "      <td> 30074.768750</td>\n",
        "      <td> 28232.74375</td>\n",
        "      <td> 27757.256250</td>\n",
        "    </tr>\n",
        "  </tbody>\n",
        "</table>\n",
        "</div>"
       ],
       "output_type": "pyout",
       "prompt_number": 154,
       "text": [
        "                           a1_11         a2_11         a3_11         a4_11  \\\n",
        "calib_block_labels                                                           \n",
        "0                            NaN           NaN           NaN           NaN   \n",
        "1                   22368.262500  22556.006250  23815.556250  23195.531250   \n",
        "2                   22400.506250  22561.437500  23805.956250  23193.868750   \n",
        "3                   22419.620833  22580.833333  23808.483333  23205.541667   \n",
        "4                   22422.918750  22610.450000  23825.062500  23229.750000   \n",
        "5                   22400.556250  22643.075000  23854.287500  23261.537500   \n",
        "6                   22355.493750  22664.037500  23884.593750  23288.312500   \n",
        "\n",
        "                          a5_11        a6_11         b1_11        b2_11  \\\n",
        "calib_block_labels                                                        \n",
        "0                           NaN          NaN           NaN          NaN   \n",
        "1                   23189.60625  26347.68750  30025.150000  28159.81250   \n",
        "2                   23188.24375  26346.76875  30028.937500  28155.71875   \n",
        "3                   23200.80000  26348.53750  30037.404167  28161.56250   \n",
        "4                   23223.81875  26355.98750  30053.531250  28181.92500   \n",
        "5                   23254.67500  26366.75000  30070.225000  28211.90000   \n",
        "6                   23278.93750  26374.55000  30074.768750  28232.74375   \n",
        "\n",
        "                           b3_11  \n",
        "calib_block_labels                \n",
        "0                            NaN  \n",
        "1                   27702.425000  \n",
        "2                   27700.368750  \n",
        "3                   27706.604167  \n",
        "4                   27722.343750  \n",
        "5                   27743.643750  \n",
        "6                   27757.256250  "
       ]
      }
     ],
     "prompt_number": 154
    },
    {
     "cell_type": "code",
     "collapsed": false,
     "input": [
      "grouped.a3_11.mean()"
     ],
     "language": "python",
     "metadata": {},
     "outputs": [
      {
       "output_type": "pyout",
       "prompt_number": 150,
       "text": [
        "calib_block_labels\n",
        "0                     22366.915404\n",
        "1                     23462.025568\n",
        "2                     23457.556818\n",
        "3                     23516.548913\n",
        "4                     23309.454545\n",
        "5                     23143.522727\n",
        "6                     23086.590909\n",
        "Name: a3_11"
       ]
      }
     ],
     "prompt_number": 150
    },
    {
     "cell_type": "code",
     "collapsed": false,
     "input": [],
     "language": "python",
     "metadata": {},
     "outputs": []
    }
   ],
   "metadata": {}
  }
 ]
}