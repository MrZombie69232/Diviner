{
 "metadata": {
  "name": "datetimeindex bug"
 },
 "nbformat": 3,
 "nbformat_minor": 0,
 "worksheets": [
  {
   "cells": [
    {
     "cell_type": "code",
     "collapsed": false,
     "input": [
      "import pandas as pd\n",
      "import numpy as np"
     ],
     "language": "python",
     "metadata": {},
     "outputs": [],
     "prompt_number": 6
    },
    {
     "cell_type": "code",
     "collapsed": false,
     "input": [
      "index1 = pd.date_range(start=\"18:10\",periods=20,freq='min')\n",
      "index1"
     ],
     "language": "python",
     "metadata": {},
     "outputs": [
      {
       "output_type": "pyout",
       "prompt_number": 27,
       "text": [
        "<class 'pandas.tseries.index.DatetimeIndex'>\n",
        "[2013-02-28 18:10:00, ..., 2013-02-28 18:29:00]\n",
        "Length: 20, Freq: T, Timezone: None"
       ]
      }
     ],
     "prompt_number": 27
    },
    {
     "cell_type": "code",
     "collapsed": false,
     "input": [
      "index2 = pd.date_range(\"18:12:30\",periods=4,freq='5min')\n",
      "list(index2)"
     ],
     "language": "python",
     "metadata": {},
     "outputs": [
      {
       "output_type": "pyout",
       "prompt_number": 31,
       "text": [
        "[<Timestamp: 2013-02-28 18:12:30>,\n",
        " <Timestamp: 2013-02-28 18:17:30>,\n",
        " <Timestamp: 2013-02-28 18:22:30>,\n",
        " <Timestamp: 2013-02-28 18:27:30>]"
       ]
      }
     ],
     "prompt_number": 31
    },
    {
     "cell_type": "code",
     "collapsed": false,
     "input": [
      "list(index1 -index2)"
     ],
     "language": "python",
     "metadata": {},
     "outputs": [
      {
       "output_type": "pyout",
       "prompt_number": 30,
       "text": [
        "[<Timestamp: 2013-02-28 18:10:00>,\n",
        " <Timestamp: 2013-02-28 18:11:00>,\n",
        " <Timestamp: 2013-02-28 18:12:00>,\n",
        " <Timestamp: 2013-02-28 18:13:00>,\n",
        " <Timestamp: 2013-02-28 18:14:00>,\n",
        " <Timestamp: 2013-02-28 18:15:00>,\n",
        " <Timestamp: 2013-02-28 18:16:00>,\n",
        " <Timestamp: 2013-02-28 18:17:00>,\n",
        " <Timestamp: 2013-02-28 18:18:00>,\n",
        " <Timestamp: 2013-02-28 18:19:00>,\n",
        " <Timestamp: 2013-02-28 18:20:00>,\n",
        " <Timestamp: 2013-02-28 18:21:00>,\n",
        " <Timestamp: 2013-02-28 18:22:00>,\n",
        " <Timestamp: 2013-02-28 18:23:00>,\n",
        " <Timestamp: 2013-02-28 18:24:00>,\n",
        " <Timestamp: 2013-02-28 18:25:00>,\n",
        " <Timestamp: 2013-02-28 18:26:00>,\n",
        " <Timestamp: 2013-02-28 18:27:00>,\n",
        " <Timestamp: 2013-02-28 18:28:00>,\n",
        " <Timestamp: 2013-02-28 18:29:00>]"
       ]
      }
     ],
     "prompt_number": 30
    },
    {
     "cell_type": "code",
     "collapsed": false,
     "input": [
      "newindex = pd.DatetimeIndex(5*list(index2))"
     ],
     "language": "python",
     "metadata": {},
     "outputs": [],
     "prompt_number": 35
    },
    {
     "cell_type": "code",
     "collapsed": false,
     "input": [
      "list(newindex)"
     ],
     "language": "python",
     "metadata": {},
     "outputs": [
      {
       "output_type": "pyout",
       "prompt_number": 36,
       "text": [
        "[<Timestamp: 2013-02-28 18:12:30>,\n",
        " <Timestamp: 2013-02-28 18:17:30>,\n",
        " <Timestamp: 2013-02-28 18:22:30>,\n",
        " <Timestamp: 2013-02-28 18:27:30>,\n",
        " <Timestamp: 2013-02-28 18:12:30>,\n",
        " <Timestamp: 2013-02-28 18:17:30>,\n",
        " <Timestamp: 2013-02-28 18:22:30>,\n",
        " <Timestamp: 2013-02-28 18:27:30>,\n",
        " <Timestamp: 2013-02-28 18:12:30>,\n",
        " <Timestamp: 2013-02-28 18:17:30>,\n",
        " <Timestamp: 2013-02-28 18:22:30>,\n",
        " <Timestamp: 2013-02-28 18:27:30>,\n",
        " <Timestamp: 2013-02-28 18:12:30>,\n",
        " <Timestamp: 2013-02-28 18:17:30>,\n",
        " <Timestamp: 2013-02-28 18:22:30>,\n",
        " <Timestamp: 2013-02-28 18:27:30>,\n",
        " <Timestamp: 2013-02-28 18:12:30>,\n",
        " <Timestamp: 2013-02-28 18:17:30>,\n",
        " <Timestamp: 2013-02-28 18:22:30>,\n",
        " <Timestamp: 2013-02-28 18:27:30>]"
       ]
      }
     ],
     "prompt_number": 36
    },
    {
     "cell_type": "code",
     "collapsed": false,
     "input": [
      "list(newindex - )"
     ],
     "language": "python",
     "metadata": {},
     "outputs": [
      {
       "output_type": "pyout",
       "prompt_number": 38,
       "text": [
        "[<Timestamp: 2013-02-28 18:10:00>,\n",
        " <Timestamp: 2013-02-28 18:11:00>,\n",
        " <Timestamp: 2013-02-28 18:12:00>,\n",
        " <Timestamp: 2013-02-28 18:13:00>,\n",
        " <Timestamp: 2013-02-28 18:14:00>,\n",
        " <Timestamp: 2013-02-28 18:15:00>,\n",
        " <Timestamp: 2013-02-28 18:16:00>,\n",
        " <Timestamp: 2013-02-28 18:17:00>,\n",
        " <Timestamp: 2013-02-28 18:18:00>,\n",
        " <Timestamp: 2013-02-28 18:19:00>,\n",
        " <Timestamp: 2013-02-28 18:20:00>,\n",
        " <Timestamp: 2013-02-28 18:21:00>,\n",
        " <Timestamp: 2013-02-28 18:22:00>,\n",
        " <Timestamp: 2013-02-28 18:23:00>,\n",
        " <Timestamp: 2013-02-28 18:24:00>,\n",
        " <Timestamp: 2013-02-28 18:25:00>,\n",
        " <Timestamp: 2013-02-28 18:26:00>,\n",
        " <Timestamp: 2013-02-28 18:27:00>,\n",
        " <Timestamp: 2013-02-28 18:28:00>,\n",
        " <Timestamp: 2013-02-28 18:29:00>]"
       ]
      }
     ],
     "prompt_number": 38
    },
    {
     "cell_type": "code",
     "collapsed": false,
     "input": [
      "ind = pd.Index(arange(10))\n",
      "ind"
     ],
     "language": "python",
     "metadata": {},
     "outputs": [
      {
       "output_type": "pyout",
       "prompt_number": 54,
       "text": [
        "Int64Index([0, 1, 2, 3, 4, 5, 6, 7, 8, 9], dtype=int64)"
       ]
      }
     ],
     "prompt_number": 54
    },
    {
     "cell_type": "code",
     "collapsed": false,
     "input": [
      "ind2 = pd.Index(arange(10)+10)\n",
      "ind2"
     ],
     "language": "python",
     "metadata": {},
     "outputs": [
      {
       "output_type": "pyout",
       "prompt_number": 64,
       "text": [
        "Int64Index([10, 11, 12, 13, 14, 15, 16, 17, 18, 19], dtype=int64)"
       ]
      }
     ],
     "prompt_number": 64
    },
    {
     "cell_type": "code",
     "collapsed": false,
     "input": [
      "import pandas"
     ],
     "language": "python",
     "metadata": {},
     "outputs": [],
     "prompt_number": 65
    },
    {
     "cell_type": "code",
     "collapsed": false,
     "input": [],
     "language": "python",
     "metadata": {},
     "outputs": [
      {
       "ename": "ValueError",
       "evalue": "The truth value of an array with more than one element is ambiguous. Use a.any() or a.all()",
       "output_type": "pyerr",
       "traceback": [
        "\u001b[1;31m---------------------------------------------------------------------------\u001b[0m\n\u001b[1;31mValueError\u001b[0m                                Traceback (most recent call last)",
        "\u001b[1;32m<ipython-input-66-3cb96d17cc64>\u001b[0m in \u001b[0;36m<module>\u001b[1;34m()\u001b[0m\n\u001b[1;32m----> 1\u001b[1;33m \u001b[0mind2\u001b[0m\u001b[1;33m.\u001b[0m\u001b[0mshift\u001b[0m\u001b[1;33m(\u001b[0m\u001b[0mind\u001b[0m\u001b[1;33m)\u001b[0m\u001b[1;33m\u001b[0m\u001b[0m\n\u001b[0m",
        "\u001b[1;32m/usr/local/epd/lib/python2.7/site-packages/pandas/core/index.pyc\u001b[0m in \u001b[0;36mshift\u001b[1;34m(self, periods, freq)\u001b[0m\n\u001b[0;32m    531\u001b[0m         \u001b[0mshifted\u001b[0m \u001b[1;33m:\u001b[0m \u001b[0mIndex\u001b[0m\u001b[1;33m\u001b[0m\u001b[0m\n\u001b[0;32m    532\u001b[0m         \"\"\"\n\u001b[1;32m--> 533\u001b[1;33m         \u001b[1;32mif\u001b[0m \u001b[0mperiods\u001b[0m \u001b[1;33m==\u001b[0m \u001b[1;36m0\u001b[0m\u001b[1;33m:\u001b[0m\u001b[1;33m\u001b[0m\u001b[0m\n\u001b[0m\u001b[0;32m    534\u001b[0m             \u001b[1;31m# OK because immutable\u001b[0m\u001b[1;33m\u001b[0m\u001b[1;33m\u001b[0m\u001b[0m\n\u001b[0;32m    535\u001b[0m             \u001b[1;32mreturn\u001b[0m \u001b[0mself\u001b[0m\u001b[1;33m\u001b[0m\u001b[0m\n",
        "\u001b[1;31mValueError\u001b[0m: The truth value of an array with more than one element is ambiguous. Use a.any() or a.all()"
       ]
      }
     ],
     "prompt_number": 66
    },
    {
     "cell_type": "code",
     "collapsed": false,
     "input": [
      "l1 = range(10)"
     ],
     "language": "python",
     "metadata": {},
     "outputs": [],
     "prompt_number": 57
    },
    {
     "cell_type": "code",
     "collapsed": false,
     "input": [
      "l2 = range(10,20)"
     ],
     "language": "python",
     "metadata": {},
     "outputs": [],
     "prompt_number": 58
    },
    {
     "cell_type": "code",
     "collapsed": false,
     "input": [
      "l2"
     ],
     "language": "python",
     "metadata": {},
     "outputs": [
      {
       "output_type": "pyout",
       "prompt_number": 59,
       "text": [
        "[10, 11, 12, 13, 14, 15, 16, 17, 18, 19]"
       ]
      }
     ],
     "prompt_number": 59
    },
    {
     "cell_type": "code",
     "collapsed": false,
     "input": [
      "l1 - l2"
     ],
     "language": "python",
     "metadata": {},
     "outputs": [
      {
       "ename": "TypeError",
       "evalue": "unsupported operand type(s) for -: 'list' and 'list'",
       "output_type": "pyerr",
       "traceback": [
        "\u001b[1;31m---------------------------------------------------------------------------\u001b[0m\n\u001b[1;31mTypeError\u001b[0m                                 Traceback (most recent call last)",
        "\u001b[1;32m<ipython-input-62-01a5c17457d0>\u001b[0m in \u001b[0;36m<module>\u001b[1;34m()\u001b[0m\n\u001b[1;32m----> 1\u001b[1;33m \u001b[0ml1\u001b[0m \u001b[1;33m-\u001b[0m \u001b[0ml2\u001b[0m\u001b[1;33m\u001b[0m\u001b[0m\n\u001b[0m",
        "\u001b[1;31mTypeError\u001b[0m: unsupported operand type(s) for -: 'list' and 'list'"
       ]
      }
     ],
     "prompt_number": 62
    },
    {
     "cell_type": "code",
     "collapsed": false,
     "input": [
      "right_index = index2.searchsorted(index1, side='left')\n",
      "right_index"
     ],
     "language": "python",
     "metadata": {},
     "outputs": [
      {
       "output_type": "pyout",
       "prompt_number": 7,
       "text": [
        "array([0, 0, 0, 1, 1, 1, 1, 1, 2, 2, 2, 2, 2, 3, 3, 3, 3, 3, 4, 4])"
       ]
      }
     ],
     "prompt_number": 7
    },
    {
     "cell_type": "code",
     "collapsed": false,
     "input": [],
     "language": "python",
     "metadata": {},
     "outputs": []
    },
    {
     "cell_type": "code",
     "collapsed": false,
     "input": [
      "left_index = np.clip(right_index -1, 0, len(index2) -1)\n",
      "left_index"
     ],
     "language": "python",
     "metadata": {},
     "outputs": [
      {
       "output_type": "pyout",
       "prompt_number": 10,
       "text": [
        "array([0, 0, 0, 0, 0, 0, 0, 0, 1, 1, 1, 1, 1, 2, 2, 2, 2, 2, 3, 3])"
       ]
      }
     ],
     "prompt_number": 10
    },
    {
     "cell_type": "code",
     "collapsed": false,
     "input": [
      "right_index = np.clip(right_index, 0, len(index2) -1)\n",
      "right_index"
     ],
     "language": "python",
     "metadata": {},
     "outputs": [
      {
       "output_type": "pyout",
       "prompt_number": 12,
       "text": [
        "array([0, 0, 0, 1, 1, 1, 1, 1, 2, 2, 2, 2, 2, 3, 3, 3, 3, 3, 3, 3])"
       ]
      }
     ],
     "prompt_number": 12
    },
    {
     "cell_type": "code",
     "collapsed": false,
     "input": [
      "left_time = index2[left_index]\n",
      "left_time"
     ],
     "language": "python",
     "metadata": {},
     "outputs": [
      {
       "output_type": "pyout",
       "prompt_number": 13,
       "text": [
        "<class 'pandas.tseries.index.DatetimeIndex'>\n",
        "[2013-02-28 18:12:30, ..., 2013-02-28 18:27:30]\n",
        "Length: 20, Freq: None, Timezone: None"
       ]
      }
     ],
     "prompt_number": 13
    },
    {
     "cell_type": "code",
     "collapsed": false,
     "input": [
      "right_time = index2[right_index]"
     ],
     "language": "python",
     "metadata": {},
     "outputs": [],
     "prompt_number": 14
    },
    {
     "cell_type": "code",
     "collapsed": false,
     "input": [
      "left_time - index1"
     ],
     "language": "python",
     "metadata": {},
     "outputs": [
      {
       "output_type": "pyout",
       "prompt_number": 15,
       "text": [
        "<class 'pandas.tseries.index.DatetimeIndex'>\n",
        "[2013-02-28 18:12:30, ..., 2013-02-28 18:27:30]\n",
        "Length: 4, Freq: None, Timezone: None"
       ]
      }
     ],
     "prompt_number": 15
    },
    {
     "cell_type": "code",
     "collapsed": false,
     "input": [
      "test_index = pd.DatetimeIndex(5*list(index2))"
     ],
     "language": "python",
     "metadata": {},
     "outputs": [],
     "prompt_number": 19
    },
    {
     "cell_type": "code",
     "collapsed": false,
     "input": [
      "test_index - index1"
     ],
     "language": "python",
     "metadata": {},
     "outputs": [
      {
       "output_type": "pyout",
       "prompt_number": 20,
       "text": [
        "<class 'pandas.tseries.index.DatetimeIndex'>\n",
        "[2013-02-28 18:12:30, ..., 2013-02-28 18:27:30]\n",
        "Length: 4, Freq: None, Timezone: None"
       ]
      }
     ],
     "prompt_number": 20
    },
    {
     "cell_type": "code",
     "collapsed": false,
     "input": [
      "index1 - index2"
     ],
     "language": "python",
     "metadata": {},
     "outputs": [
      {
       "output_type": "pyout",
       "prompt_number": 21,
       "text": [
        "<class 'pandas.tseries.index.DatetimeIndex'>\n",
        "[2013-02-28 18:10:00, ..., 2013-02-28 18:29:00]\n",
        "Length: 20, Freq: None, Timezone: None"
       ]
      }
     ],
     "prompt_number": 21
    },
    {
     "cell_type": "code",
     "collapsed": false,
     "input": [
      "test_index"
     ],
     "language": "python",
     "metadata": {},
     "outputs": [
      {
       "output_type": "pyout",
       "prompt_number": 22,
       "text": [
        "<class 'pandas.tseries.index.DatetimeIndex'>\n",
        "[2013-02-28 18:12:30, ..., 2013-02-28 18:27:30]\n",
        "Length: 20, Freq: None, Timezone: None"
       ]
      }
     ],
     "prompt_number": 22
    },
    {
     "cell_type": "code",
     "collapsed": false,
     "input": [
      "index1"
     ],
     "language": "python",
     "metadata": {},
     "outputs": [
      {
       "output_type": "pyout",
       "prompt_number": 23,
       "text": [
        "<class 'pandas.tseries.index.DatetimeIndex'>\n",
        "[2013-02-28 18:10:00, ..., 2013-02-28 18:29:00]\n",
        "Length: 20, Freq: T, Timezone: None"
       ]
      }
     ],
     "prompt_number": 23
    },
    {
     "cell_type": "code",
     "collapsed": false,
     "input": [
      "index2 -index1"
     ],
     "language": "python",
     "metadata": {},
     "outputs": [
      {
       "output_type": "pyout",
       "prompt_number": 24,
       "text": [
        "<class 'pandas.tseries.index.DatetimeIndex'>\n",
        "[2013-02-28 18:12:30, ..., 2013-02-28 18:27:30]\n",
        "Length: 4, Freq: None, Timezone: None"
       ]
      }
     ],
     "prompt_number": 24
    },
    {
     "cell_type": "code",
     "collapsed": false,
     "input": [
      "index"
     ],
     "language": "python",
     "metadata": {},
     "outputs": [
      {
       "output_type": "pyout",
       "prompt_number": 26,
       "text": [
        "0   2013-02-28 18:12:30\n",
        "1   2013-02-28 18:17:30\n",
        "2   2013-02-28 18:22:30\n",
        "3   2013-02-28 18:27:30"
       ]
      }
     ],
     "prompt_number": 26
    },
    {
     "cell_type": "code",
     "collapsed": false,
     "input": [],
     "language": "python",
     "metadata": {},
     "outputs": []
    }
   ],
   "metadata": {}
  }
 ]
}