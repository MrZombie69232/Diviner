{
 "metadata": {
  "name": "reading opsrdr data"
 },
 "nbformat": 3,
 "nbformat_minor": 0,
 "worksheets": [
  {
   "cells": [
    {
     "cell_type": "code",
     "collapsed": false,
     "input": [
      "import file_utils as fu\n",
      "import pandas as pd"
     ],
     "language": "python",
     "metadata": {},
     "outputs": [],
     "prompt_number": 10
    },
    {
     "cell_type": "code",
     "collapsed": false,
     "input": [
      "fname = '/raid1/maye/opsrdr_data/2011041600_RDR.TAB'"
     ],
     "language": "python",
     "metadata": {},
     "outputs": [],
     "prompt_number": 24
    },
    {
     "cell_type": "code",
     "collapsed": false,
     "input": [
      "fu.read_pds('/raid1/maye/opsrdr_data/2011041600_RDR.TAB',100)"
     ],
     "language": "python",
     "metadata": {},
     "outputs": [
      {
       "output_type": "pyout",
       "prompt_number": 2,
       "text": [
        "<class 'pandas.core.frame.DataFrame'>\n",
        "DatetimeIndex: 100 entries, 2011-04-16 00:00:00.025000 to 2011-04-16 00:00:00.025000\n",
        "Data columns:\n",
        "2455667.500000290    100  non-null values\n",
        "8352                 100  non-null values\n",
        "1.00538              100  non-null values\n",
        "1.33678              100  non-null values\n",
        "27.55755             100  non-null values\n",
        "0324604799.65011     100  non-null values\n",
        "-35.60774            100  non-null values\n",
        "186.36107            100  non-null values\n",
        "1798.15230           100  non-null values\n",
        "60.70145             100  non-null values\n",
        "180.000              100  non-null values\n",
        "240.000              100  non-null values\n",
        "110                  100  non-null values\n",
        "0.42378              100  non-null values\n",
        "275.92764            100  non-null values\n",
        "1                    100  non-null values\n",
        "3                    100  non-null values\n",
        "0.790305             100  non-null values\n",
        "0.059700             100  non-null values\n",
        "0.609798             100  non-null values\n",
        "0.0040               100  non-null values\n",
        "0.011                100  non-null values\n",
        "-35.53829            100  non-null values\n",
        "186.43063            100  non-null values\n",
        "2.64477              100  non-null values\n",
        "140.56900            100  non-null values\n",
        "4.71721              100  non-null values\n",
        "22.59139             100  non-null values\n",
        "000                  100  non-null values\n",
        "012                  100  non-null values\n",
        "000                  100  non-null values\n",
        "dtypes: float64(24), int64(7)"
       ]
      }
     ],
     "prompt_number": 2
    },
    {
     "cell_type": "code",
     "collapsed": false,
     "input": [
      "f = open(fname)"
     ],
     "language": "python",
     "metadata": {},
     "outputs": [],
     "prompt_number": 4
    },
    {
     "cell_type": "code",
     "collapsed": false,
     "input": [
      "headers = f.readline()"
     ],
     "language": "python",
     "metadata": {},
     "outputs": [],
     "prompt_number": 5
    },
    {
     "cell_type": "code",
     "collapsed": false,
     "input": [
      "fu"
     ],
     "language": "python",
     "metadata": {},
     "outputs": [
      {
       "output_type": "pyout",
       "prompt_number": 6,
       "text": [
        "'#        date,            utc,             jdate, orbit, sundist,   sunlat,    sunlon,             sclk,     sclat,     sclon,       scrad,       scalt,  el_cmd,  az_cmd,   af, orientlat, orientlon, c, det,    vlookx,    vlooky,    vlookz,   radiance,       tb,      clat,      clon,     cemis,   csunzen,   csunazi, cloctime, qca, qge, qmi\\n'"
       ]
      }
     ],
     "prompt_number": 6
    },
    {
     "cell_type": "code",
     "collapsed": false,
     "input": [
      "f.readline()"
     ],
     "language": "python",
     "metadata": {},
     "outputs": [
      {
       "output_type": "pyout",
       "prompt_number": 7,
       "text": [
        "'\"16-Apr-2011\", \"00:00:00.025\", 2455667.500000290,  8352, 1.00538,  1.33678,  27.55755, 0324604799.65011, -35.60774, 186.36107,  1798.15230,    60.70145, 180.000, 240.000,  110,   0.42378, 275.92764, 1,   1,  0.790839,  0.052956,  0.609729,     0.0077,    0.022, -35.53812, 186.44733,   2.91887, 140.57684,  10.78604, 22.59250, 000, 012, 000\\n'"
       ]
      }
     ],
     "prompt_number": 7
    },
    {
     "cell_type": "code",
     "collapsed": false,
     "input": [
      "columns = fu.parse_header_line(headers)"
     ],
     "language": "python",
     "metadata": {},
     "outputs": [],
     "prompt_number": 9
    },
    {
     "cell_type": "code",
     "collapsed": false,
     "input": [
      "df = pd.io.parsers.read_table(fname, comment='#',sep='\\s+',names=columns)"
     ],
     "language": "python",
     "metadata": {},
     "outputs": [],
     "prompt_number": "*"
    },
    {
     "cell_type": "code",
     "collapsed": false,
     "input": [
      "len(columns)"
     ],
     "language": "python",
     "metadata": {},
     "outputs": [],
     "prompt_number": "*"
    },
    {
     "cell_type": "code",
     "collapsed": false,
     "input": [],
     "language": "python",
     "metadata": {},
     "outputs": []
    }
   ],
   "metadata": {}
  }
 ]
}