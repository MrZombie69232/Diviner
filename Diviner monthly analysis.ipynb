{
 "metadata": {
  "name": "Diviner monthly analysis"
 },
 "nbformat": 3,
 "nbformat_minor": 0,
 "worksheets": [
  {
   "cells": [
    {
     "cell_type": "code",
     "collapsed": false,
     "input": [
      "import create_database as ct\n",
      "import pandas as pd\n",
      "import diviner as div\n",
      "reload(ct)"
     ],
     "language": "python",
     "metadata": {},
     "outputs": [
      {
       "output_type": "pyout",
       "prompt_number": 17,
       "text": [
        "<module 'create_database' from '/luna1/maye/src/diviner/create_database.py'>"
       ]
      }
     ],
     "prompt_number": 17
    },
    {
     "cell_type": "code",
     "collapsed": false,
     "input": [
      "cd /raid1/maye/data/div247/"
     ],
     "language": "python",
     "metadata": {},
     "outputs": [
      {
       "output_type": "stream",
       "stream": "stdout",
       "text": [
        "/raid1/maye/data/div247\n"
       ]
      }
     ],
     "prompt_number": 2
    },
    {
     "cell_type": "code",
     "collapsed": false,
     "input": [
      "store = pd.HDFStore('201101.h5')"
     ],
     "language": "python",
     "metadata": {},
     "outputs": [],
     "prompt_number": 5
    },
    {
     "cell_type": "code",
     "collapsed": false,
     "input": [
      "store"
     ],
     "language": "python",
     "metadata": {},
     "outputs": [
      {
       "output_type": "pyout",
       "prompt_number": 6,
       "text": [
        "<class 'pandas.io.pytables.HDFStore'>\n",
        "File path: 201101.h5\n",
        "/df            frame_table  (typ->appendable,nrows->1633168,ncols->252,indexers->[index])"
       ]
      }
     ],
     "prompt_number": 6
    },
    {
     "cell_type": "code",
     "collapsed": false,
     "input": [
      "df = store.select('df')"
     ],
     "language": "python",
     "metadata": {},
     "outputs": [],
     "prompt_number": 7
    },
    {
     "cell_type": "code",
     "collapsed": false,
     "input": [
      "df.is_stowed.value_counts()"
     ],
     "language": "python",
     "metadata": {},
     "outputs": [
      {
       "output_type": "pyout",
       "prompt_number": 9,
       "text": [
        "False    1633168"
       ]
      }
     ],
     "prompt_number": 9
    },
    {
     "cell_type": "code",
     "collapsed": false,
     "input": [
      "df['new_calib_labels'] = ct.relabel(df.calib_block_labels)"
     ],
     "language": "python",
     "metadata": {},
     "outputs": [],
     "prompt_number": 18
    },
    {
     "cell_type": "code",
     "collapsed": false,
     "input": [
      "df['new_sv_labels'] = ct.relabel(df.sv_block_labels)"
     ],
     "language": "python",
     "metadata": {},
     "outputs": [],
     "prompt_number": 19
    },
    {
     "cell_type": "code",
     "collapsed": false,
     "input": [
      "df.new_sv_labels.min()"
     ],
     "language": "python",
     "metadata": {},
     "outputs": [
      {
       "output_type": "pyout",
       "prompt_number": 20,
       "text": [
        "0"
       ]
      }
     ],
     "prompt_number": 20
    },
    {
     "cell_type": "code",
     "collapsed": false,
     "input": [
      "result = df.groupby(['new_calib_labels','is_spaceview','new_sv_labels']).a3_11.size()"
     ],
     "language": "python",
     "metadata": {},
     "outputs": [],
     "prompt_number": 24
    },
    {
     "cell_type": "code",
     "collapsed": false,
     "input": [
      "swapped = result.swaplevel(0,1)"
     ],
     "language": "python",
     "metadata": {},
     "outputs": [],
     "prompt_number": 27
    },
    {
     "cell_type": "code",
     "collapsed": false,
     "input": [
      "s = swapped.ix[1]"
     ],
     "language": "python",
     "metadata": {},
     "outputs": [],
     "prompt_number": 40
    },
    {
     "cell_type": "code",
     "collapsed": false,
     "input": [
      "s[s!=80]"
     ],
     "language": "python",
     "metadata": {},
     "outputs": [
      {
       "output_type": "pyout",
       "prompt_number": 42,
       "text": [
        "new_calib_labels  new_sv_labels\n",
        "206               409               48\n",
        "207               410               32\n",
        "348               690               16\n",
        "349               691               64\n",
        "628               1234              16\n",
        "629               1235              64\n",
        "873               1720              96\n",
        "956               1893              16\n",
        "957               1894              64\n",
        "1321              2640              16\n",
        "1322              2641              64\n",
        "1462              2931              96\n",
        "1558              3130              64\n",
        "1559              3131              16\n",
        "1820              3657              48\n",
        "1821              3658              32\n",
        "2040              4114              64\n",
        "2115              4268              64\n",
        "2116              4269              16\n",
        "2444              4938              64\n",
        "2445              4939              16\n",
        "2541              5136              16\n",
        "2542              5137              64\n",
        "2651              5364              64\n",
        "2933              5952              96\n",
        "3081              6261              64\n",
        "3082              6262              16\n",
        "3205              6518              96\n",
        "3292              6698              64\n",
        "3293              6699              16\n",
        "3363              6845              48\n",
        "3364              6846              32\n",
        "3570              7273              96\n",
        "3662              7464              96\n",
        "4081              8302              48\n",
        "4082              8303              32\n",
        "4273              8680             160\n",
        "4274              8683             128\n",
        "4275              8684             336"
       ]
      }
     ],
     "prompt_number": 42
    },
    {
     "cell_type": "code",
     "collapsed": false,
     "input": [
      "ct.plot_calib_block(df,207)"
     ],
     "language": "python",
     "metadata": {},
     "outputs": [],
     "prompt_number": 44
    },
    {
     "cell_type": "code",
     "collapsed": false,
     "input": [],
     "language": "python",
     "metadata": {},
     "outputs": []
    }
   ],
   "metadata": {}
  }
 ]
}