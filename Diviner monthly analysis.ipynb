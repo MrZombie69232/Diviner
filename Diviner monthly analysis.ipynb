{
 "metadata": {
  "name": "Diviner monthly analysis"
 },
 "nbformat": 3,
 "nbformat_minor": 0,
 "worksheets": [
  {
   "cells": [
    {
     "cell_type": "code",
     "collapsed": false,
     "input": [
      "import create_database as ct\n",
      "import pandas as pd\n",
      "import diviner as div\n",
      "reload(ct)"
     ],
     "language": "python",
     "metadata": {},
     "outputs": [
      {
       "output_type": "pyout",
       "prompt_number": 1,
       "text": [
        "<module 'create_database' from 'create_database.pyc'>"
       ]
      }
     ],
     "prompt_number": 1
    },
    {
     "cell_type": "code",
     "collapsed": false,
     "input": [
      "cd /raid1/maye/data/div247/"
     ],
     "language": "python",
     "metadata": {},
     "outputs": [
      {
       "output_type": "stream",
       "stream": "stdout",
       "text": [
        "/raid1/maye/data/div247\n"
       ]
      }
     ],
     "prompt_number": 2
    },
    {
     "cell_type": "code",
     "collapsed": false,
     "input": [
      "store = pd.HDFStore('201003.h5')"
     ],
     "language": "python",
     "metadata": {},
     "outputs": [],
     "prompt_number": 3
    },
    {
     "cell_type": "code",
     "collapsed": false,
     "input": [
      "pd.__version__"
     ],
     "language": "python",
     "metadata": {},
     "outputs": [
      {
       "output_type": "pyout",
       "prompt_number": 4,
       "text": [
        "'0.11.0.dev-dad367e'"
       ]
      }
     ],
     "prompt_number": 4
    },
    {
     "cell_type": "code",
     "collapsed": false,
     "input": [
      "store"
     ],
     "language": "python",
     "metadata": {},
     "outputs": [
      {
       "output_type": "pyout",
       "prompt_number": 5,
       "text": [
        "<class 'pandas.io.pytables.HDFStore'>\n",
        "File path: 201003.h5\n",
        "/df            frame_table  (typ->appendable,nrows->1676700,ncols->252,indexers->[index],dc->[calib_block_labels,sv_block_labels,bb_block_labels,st_block_labels,is_spaceview,is_bbview,is_stview,is_moving,is_stowed,is_calib])"
       ]
      }
     ],
     "prompt_number": 5
    },
    {
     "cell_type": "code",
     "collapsed": false,
     "input": [
      "df = store.select('df', ('is_spaceview','=',True))"
     ],
     "language": "python",
     "metadata": {},
     "outputs": [],
     "prompt_number": 6
    },
    {
     "cell_type": "code",
     "collapsed": false,
     "input": [
      "df"
     ],
     "language": "python",
     "metadata": {},
     "outputs": [
      {
       "output_type": "pyout",
       "prompt_number": 7,
       "text": [
        "<class 'pandas.core.frame.DataFrame'>\n",
        "DatetimeIndex: 737276 entries, 2010-03-01 00:00:13.377000 to 2010-03-31 23:09:21.739999\n",
        "Columns: 252 entries, sclk to is_calib\n",
        "dtypes: bool(6), float64(241), int64(5)"
       ]
      }
     ],
     "prompt_number": 7
    },
    {
     "cell_type": "code",
     "collapsed": false,
     "input": [
      "grouped = df.groupby(['calib_block_labels'])"
     ],
     "language": "python",
     "metadata": {},
     "outputs": [],
     "prompt_number": 8
    },
    {
     "cell_type": "code",
     "collapsed": false,
     "input": [
      "grouped.a3_11.mean()"
     ],
     "language": "python",
     "metadata": {},
     "outputs": [
      {
       "output_type": "pyout",
       "prompt_number": 9,
       "text": [
        "calib_block_labels\n",
        "1                     23882.868750\n",
        "2                     23902.956250\n",
        "3                     23910.806250\n",
        "4                     23893.433333\n",
        "5                     23869.675000\n",
        "6                     23846.131250\n",
        "7                     23826.018750\n",
        "8                     23825.743750\n",
        "9                     23825.943750\n",
        "10                    23832.975000\n",
        "11                    23848.818750\n",
        "12                    23872.731250\n",
        "13                    23893.568750\n",
        "14                    23909.693750\n",
        "15                    23906.650000\n",
        "Dtype: float64\n",
        "...\n",
        "4659                  23860.40625\n",
        "4660                  23880.80000\n",
        "4661                  23904.48750\n",
        "4662                  23901.40000\n",
        "4663                  23879.83125\n",
        "4664                  23852.33125\n",
        "4665                  23829.45625\n",
        "4666                  23820.22500\n",
        "4667                  23810.35000\n",
        "4668                  23811.48125\n",
        "4669                  23820.01875\n",
        "4670                  23846.24375\n",
        "4671                  23873.40000\n",
        "4672                  23899.36875\n",
        "4673                  23906.48750\n",
        "Dtype: float64\n",
        "Name: a3_11, Length: 4641, Dtype: float64"
       ]
      }
     ],
     "prompt_number": 9
    },
    {
     "cell_type": "code",
     "collapsed": false,
     "input": [
      "cols = df.filter(regex='[ab][1-6]_').columns"
     ],
     "language": "python",
     "metadata": {},
     "outputs": [],
     "prompt_number": 10
    },
    {
     "cell_type": "code",
     "collapsed": false,
     "input": [
      "def get_times(df):\n",
      "    t1 = df.index[0]\n",
      "    t2 = df.index[-1]\n",
      "    t = t1 + (t2-t1)//2\n",
      "    return t"
     ],
     "language": "python",
     "metadata": {},
     "outputs": [],
     "prompt_number": 11
    },
    {
     "cell_type": "code",
     "collapsed": false,
     "input": [
      "times = grouped.a3_11.apply(get_times)"
     ],
     "language": "python",
     "metadata": {},
     "outputs": [],
     "prompt_number": 12
    },
    {
     "cell_type": "code",
     "collapsed": false,
     "input": [
      "cb1 = df[df.calib_block_labels==4]"
     ],
     "language": "python",
     "metadata": {},
     "outputs": [],
     "prompt_number": 13
    },
    {
     "cell_type": "code",
     "collapsed": false,
     "input": [
      "d = dict(list(cb1.groupby('sv_block_labels')))"
     ],
     "language": "python",
     "metadata": {},
     "outputs": [],
     "prompt_number": 14
    },
    {
     "cell_type": "code",
     "collapsed": false,
     "input": [
      "d[min(d.keys())].mean()"
     ],
     "language": "python",
     "metadata": {},
     "outputs": [
      {
       "output_type": "pyout",
       "prompt_number": 16,
       "text": [
        "sclk               2.890963e+08\n",
        "sounding           8.500000e+00\n",
        "from_pkt           7.547125e+03\n",
        "pkt_count          2.860800e+04\n",
        "safing             0.000000e+00\n",
        "safed              0.000000e+00\n",
        "freezing           0.000000e+00\n",
        "frozen             0.000000e+00\n",
        "rolling            0.000000e+00\n",
        "dumping            0.000000e+00\n",
        "moving             0.000000e+00\n",
        "temp_fault         0.000000e+00\n",
        "sc_time_secs       2.890963e+08\n",
        "sc_time_subs       6.353500e+04\n",
        "ticks_pkt_start    3.538531e+07\n",
        "Dtype: float64\n",
        "...\n",
        "b3_18                 27662.2375\n",
        "b3_19                 27680.6750\n",
        "b3_20                 27699.9750\n",
        "b3_21                 27661.4625\n",
        "sdtype                    1.0000\n",
        "calib_block_labels        4.0000\n",
        "sv_block_labels           7.0000\n",
        "bb_block_labels           0.0000\n",
        "st_block_labels           0.0000\n",
        "is_spaceview              1.0000\n",
        "is_bbview                 0.0000\n",
        "is_stview                 0.0000\n",
        "is_moving                 0.0000\n",
        "is_stowed                 0.0000\n",
        "is_calib                  1.0000\n",
        "Dtype: float64\n",
        "Length: 252, Dtype: float64"
       ]
      }
     ],
     "prompt_number": 16
    },
    {
     "cell_type": "code",
     "collapsed": false,
     "input": [
      "def get_first_group(df):\n",
      "    d = dict(list(df.groupby('sv_block_labels')))\n",
      "    return d[min(d.keys())].mean()"
     ],
     "language": "python",
     "metadata": {},
     "outputs": [],
     "prompt_number": 17
    },
    {
     "cell_type": "code",
     "collapsed": false,
     "input": [
      "by_first_spaceview = grouped.agg(get_first_group)"
     ],
     "language": "python",
     "metadata": {},
     "outputs": [],
     "prompt_number": 19
    },
    {
     "cell_type": "code",
     "collapsed": false,
     "input": [
      "by_first_spaceview.a3_11.plot(style='.-')"
     ],
     "language": "python",
     "metadata": {},
     "outputs": [
      {
       "output_type": "pyout",
       "prompt_number": 21,
       "text": [
        "<matplotlib.axes.AxesSubplot at 0x73af410>"
       ]
      }
     ],
     "prompt_number": 21
    },
    {
     "cell_type": "code",
     "collapsed": false,
     "input": [
      "def get_relative_percent(s):\n",
      "    return (s-s.median())*100/s.median()"
     ],
     "language": "python",
     "metadata": {},
     "outputs": [],
     "prompt_number": 20
    },
    {
     "cell_type": "code",
     "collapsed": false,
     "input": [
      "s = means.a3_11"
     ],
     "language": "python",
     "metadata": {},
     "outputs": [],
     "prompt_number": 21
    },
    {
     "cell_type": "code",
     "collapsed": false,
     "input": [
      "srel=100*(s-s.median())/s.median()"
     ],
     "language": "python",
     "metadata": {},
     "outputs": [],
     "prompt_number": 23
    },
    {
     "cell_type": "code",
     "collapsed": false,
     "input": [
      "srel.plot()"
     ],
     "language": "python",
     "metadata": {},
     "outputs": [
      {
       "output_type": "pyout",
       "prompt_number": 24,
       "text": [
        "<matplotlib.axes.AxesSubplot at 0x8b38550>"
       ]
      }
     ],
     "prompt_number": 24
    },
    {
     "cell_type": "code",
     "collapsed": false,
     "input": [
      "means_rel = 100*(means-means.median())/means.median()"
     ],
     "language": "python",
     "metadata": {},
     "outputs": [],
     "prompt_number": 26
    },
    {
     "cell_type": "code",
     "collapsed": false,
     "input": [
      "means_rel.a3_11.head()"
     ],
     "language": "python",
     "metadata": {},
     "outputs": [
      {
       "output_type": "pyout",
       "prompt_number": 28,
       "text": [
        "2010-03-01 00:00:32.769000    0.136424\n",
        "2010-03-01 00:10:49.244500    0.220647\n",
        "2010-03-01 00:21:05.702000    0.253560\n",
        "2010-03-01 00:32:25.648499    0.180719\n",
        "2010-03-01 00:41:38.617000    0.081105\n",
        "Name: a3_11, Dtype: float64"
       ]
      }
     ],
     "prompt_number": 28
    },
    {
     "cell_type": "code",
     "collapsed": false,
     "input": [
      "srel.head()"
     ],
     "language": "python",
     "metadata": {},
     "outputs": [
      {
       "output_type": "pyout",
       "prompt_number": 29,
       "text": [
        "2010-03-01 00:00:32.769000    0.136424\n",
        "2010-03-01 00:10:49.244500    0.220647\n",
        "2010-03-01 00:21:05.702000    0.253560\n",
        "2010-03-01 00:32:25.648499    0.180719\n",
        "2010-03-01 00:41:38.617000    0.081105\n",
        "Name: a3_11, Dtype: float64"
       ]
      }
     ],
     "prompt_number": 29
    },
    {
     "cell_type": "code",
     "collapsed": false,
     "input": [
      "(means.max()-means.min()).plot(style='*')"
     ],
     "language": "python",
     "metadata": {},
     "outputs": [
      {
       "output_type": "pyout",
       "prompt_number": 36,
       "text": [
        "<matplotlib.axes.AxesSubplot at 0x7a44f50>"
       ]
      }
     ],
     "prompt_number": 36
    },
    {
     "cell_type": "code",
     "collapsed": false,
     "input": [],
     "language": "python",
     "metadata": {},
     "outputs": []
    }
   ],
   "metadata": {}
  }
 ]
}