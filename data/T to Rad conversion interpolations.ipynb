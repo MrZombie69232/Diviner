{
 "metadata": {
  "name": ""
 },
 "nbformat": 3,
 "nbformat_minor": 0,
 "worksheets": [
  {
   "cells": [
    {
     "cell_type": "code",
     "collapsed": false,
     "input": [
      "import pandas as pd\n",
      "pd.__version__"
     ],
     "language": "python",
     "metadata": {},
     "outputs": [
      {
       "metadata": {},
       "output_type": "pyout",
       "prompt_number": 4,
       "text": [
        "'0.12.0-1047-g2d2e8b5'"
       ]
      }
     ],
     "prompt_number": 4
    },
    {
     "cell_type": "code",
     "collapsed": false,
     "input": [
      "t2rad_table = pd.read_hdf('./t_to_norm_rad.hdf','df')"
     ],
     "language": "python",
     "metadata": {},
     "outputs": [],
     "prompt_number": 2
    },
    {
     "cell_type": "code",
     "collapsed": false,
     "input": [
      "t2rad_table.columns = 'c3 c4 c5 c6 c7 c8 c9'.split()"
     ],
     "language": "python",
     "metadata": {},
     "outputs": [],
     "prompt_number": 3
    },
    {
     "cell_type": "code",
     "collapsed": false,
     "input": [
      "t2rad_table"
     ],
     "language": "python",
     "metadata": {},
     "outputs": [
      {
       "html": [
        "<pre>\n",
        "&lt;class 'pandas.core.frame.DataFrame'&gt;\n",
        "Float64Index: 880 entries, -440.0 to 439.0\n",
        "Data columns (total 7 columns):\n",
        "c3    880  non-null values\n",
        "c4    880  non-null values\n",
        "c5    880  non-null values\n",
        "c6    880  non-null values\n",
        "c7    880  non-null values\n",
        "c8    880  non-null values\n",
        "c9    880  non-null values\n",
        "dtypes: float64(7)\n",
        "</pre>"
       ],
       "metadata": {},
       "output_type": "pyout",
       "prompt_number": 4,
       "text": [
        "<class 'pandas.core.frame.DataFrame'>\n",
        "Float64Index: 880 entries, -440.0 to 439.0\n",
        "Data columns (total 7 columns):\n",
        "c3    880  non-null values\n",
        "c4    880  non-null values\n",
        "c5    880  non-null values\n",
        "c6    880  non-null values\n",
        "c7    880  non-null values\n",
        "c8    880  non-null values\n",
        "c9    880  non-null values\n",
        "dtypes: float64(7)"
       ]
      }
     ],
     "prompt_number": 4
    },
    {
     "cell_type": "code",
     "collapsed": false,
     "input": [
      "from scipy.interpolate import UnivariateSpline as Spline"
     ],
     "language": "python",
     "metadata": {},
     "outputs": [],
     "prompt_number": 2
    },
    {
     "cell_type": "code",
     "collapsed": false,
     "input": [
      "rad2t = Spline(t2rad_table.c6, t2rad_table.index,s=0.0, k=1)"
     ],
     "language": "python",
     "metadata": {},
     "outputs": [],
     "prompt_number": 7
    },
    {
     "cell_type": "code",
     "collapsed": false,
     "input": [
      "t2rad = Spline(t2rad_table.index, t2rad_table.c6, s=0.0, k=1)"
     ],
     "language": "python",
     "metadata": {},
     "outputs": [],
     "prompt_number": 8
    },
    {
     "cell_type": "code",
     "collapsed": false,
     "input": [
      "def create_rad2t_df(rad2t_converter):\n",
      "    df = pd.DataFrame({'rad1':linspace(0.001, 0.01, 1000)})\n",
      "    df['rad2'] = df['rad1'].shift()\n",
      "    df = df.dropna()\n",
      "    df['tb1'] = rad2t_converter(df['rad1'])\n",
      "    df['tb2'] = rad2t_converter(df['rad2'])\n",
      "    df['rad_ratio'] = df['rad1'] / df['rad2']\n",
      "    df['tb_ratio'] = df['tb1'] / df['tb2']\n",
      "    return df"
     ],
     "language": "python",
     "metadata": {},
     "outputs": [],
     "prompt_number": 66
    },
    {
     "cell_type": "code",
     "collapsed": false,
     "input": [
      "def create_t2rad_df(t2rad_converter):\n",
      "    df = pd.DataFrame({'tb1':linspace(80, 115, 1000)})\n",
      "    df['tb2'] = df['tb1'].shift()\n",
      "    df = df.dropna()\n",
      "    df['rad1'] = t2rad_converter(df['tb1'])\n",
      "    df['rad2'] = t2rad_converter(df['tb2'])\n",
      "    df['rad_ratio'] = df['rad1'] / df['rad2']\n",
      "    df['tb_ratio'] = df['tb1'] / df['tb2']\n",
      "    return df"
     ],
     "language": "python",
     "metadata": {},
     "outputs": [],
     "prompt_number": 67
    },
    {
     "cell_type": "code",
     "collapsed": false,
     "input": [
      "rad2t_test = create_rad2t_df(rad2t)"
     ],
     "language": "python",
     "metadata": {},
     "outputs": [],
     "prompt_number": 68
    },
    {
     "cell_type": "code",
     "collapsed": false,
     "input": [
      "t2rad_test = create_t2rad_df(t2rad)"
     ],
     "language": "python",
     "metadata": {},
     "outputs": [],
     "prompt_number": 69
    },
    {
     "cell_type": "code",
     "collapsed": false,
     "input": [
      "rad2t_test.tail()"
     ],
     "language": "python",
     "metadata": {},
     "outputs": [
      {
       "html": [
        "<div style=\"max-height:1000px;max-width:1500px;overflow:auto;\">\n",
        "<table border=\"1\" class=\"dataframe\">\n",
        "  <thead>\n",
        "    <tr style=\"text-align: right;\">\n",
        "      <th></th>\n",
        "      <th>rad1</th>\n",
        "      <th>rad2</th>\n",
        "      <th>tb1</th>\n",
        "      <th>tb2</th>\n",
        "      <th>rad_ratio</th>\n",
        "      <th>tb_ratio</th>\n",
        "    </tr>\n",
        "  </thead>\n",
        "  <tbody>\n",
        "    <tr>\n",
        "      <th>995</th>\n",
        "      <td> 0.009964</td>\n",
        "      <td> 0.009955</td>\n",
        "      <td> 112.637218</td>\n",
        "      <td> 112.622038</td>\n",
        "      <td> 1.000905</td>\n",
        "      <td> 1.000135</td>\n",
        "    </tr>\n",
        "    <tr>\n",
        "      <th>996</th>\n",
        "      <td> 0.009973</td>\n",
        "      <td> 0.009964</td>\n",
        "      <td> 112.652398</td>\n",
        "      <td> 112.637218</td>\n",
        "      <td> 1.000904</td>\n",
        "      <td> 1.000135</td>\n",
        "    </tr>\n",
        "    <tr>\n",
        "      <th>997</th>\n",
        "      <td> 0.009982</td>\n",
        "      <td> 0.009973</td>\n",
        "      <td> 112.667579</td>\n",
        "      <td> 112.652398</td>\n",
        "      <td> 1.000903</td>\n",
        "      <td> 1.000135</td>\n",
        "    </tr>\n",
        "    <tr>\n",
        "      <th>998</th>\n",
        "      <td> 0.009991</td>\n",
        "      <td> 0.009982</td>\n",
        "      <td> 112.682759</td>\n",
        "      <td> 112.667579</td>\n",
        "      <td> 1.000903</td>\n",
        "      <td> 1.000135</td>\n",
        "    </tr>\n",
        "    <tr>\n",
        "      <th>999</th>\n",
        "      <td> 0.010000</td>\n",
        "      <td> 0.009991</td>\n",
        "      <td> 112.697940</td>\n",
        "      <td> 112.682759</td>\n",
        "      <td> 1.000902</td>\n",
        "      <td> 1.000135</td>\n",
        "    </tr>\n",
        "  </tbody>\n",
        "</table>\n",
        "</div>"
       ],
       "metadata": {},
       "output_type": "pyout",
       "prompt_number": 70,
       "text": [
        "         rad1      rad2         tb1         tb2  rad_ratio  tb_ratio\n",
        "995  0.009964  0.009955  112.637218  112.622038   1.000905  1.000135\n",
        "996  0.009973  0.009964  112.652398  112.637218   1.000904  1.000135\n",
        "997  0.009982  0.009973  112.667579  112.652398   1.000903  1.000135\n",
        "998  0.009991  0.009982  112.682759  112.667579   1.000903  1.000135\n",
        "999  0.010000  0.009991  112.697940  112.682759   1.000902  1.000135"
       ]
      }
     ],
     "prompt_number": 70
    },
    {
     "cell_type": "code",
     "collapsed": false,
     "input": [
      "rad2t_test['tb_ratio rad_ratio'.split()].plot(secondary_y='rad_ratio')"
     ],
     "language": "python",
     "metadata": {},
     "outputs": [
      {
       "metadata": {},
       "output_type": "pyout",
       "prompt_number": 71,
       "text": [
        "<matplotlib.axes.AxesSubplot at 0x11b93d650>"
       ]
      }
     ],
     "prompt_number": 71
    },
    {
     "cell_type": "code",
     "collapsed": false,
     "input": [
      "t2rad_test['tb_ratio rad_ratio'.split()].plot(secondary_y='rad_ratio')"
     ],
     "language": "python",
     "metadata": {},
     "outputs": [
      {
       "metadata": {},
       "output_type": "pyout",
       "prompt_number": 72,
       "text": [
        "<matplotlib.axes.AxesSubplot at 0x11b9a68d0>"
       ]
      }
     ],
     "prompt_number": 72
    },
    {
     "cell_type": "code",
     "collapsed": false,
     "input": [
      "channel = 'c6'\n",
      "temps = linspace(85, 115, 500)\n",
      "t2rad_table[85:115][channel].plot(style='x')\n",
      "spline = Spline(t2rad_table.index, t2rad_table[channel], s=0, k=1)\n",
      "plot(temps, spline(temps))\n",
      "legend()"
     ],
     "language": "python",
     "metadata": {},
     "outputs": [
      {
       "metadata": {},
       "output_type": "pyout",
       "prompt_number": 47,
       "text": [
        "<matplotlib.legend.Legend at 0x11a67a090>"
       ]
      }
     ],
     "prompt_number": 47
    },
    {
     "cell_type": "code",
     "collapsed": false,
     "input": [
      "df = 0"
     ],
     "language": "python",
     "metadata": {},
     "outputs": [],
     "prompt_number": 189
    },
    {
     "cell_type": "code",
     "collapsed": false,
     "input": [
      "n = 450\n",
      "x = linspace(0.001, 1.5, n)\n",
      "y = x**2\n",
      "# noise = 0.000002*random_sample(n) - 0.000001\n",
      "noisy_y = y# + noise\n",
      "spline = Spline(x, noisy_y, s=0.0, k=1)\n",
      "df = pd.DataFrame({'y1':linspace(0.01, 0.1, 100)})\n",
      "df['y2'] = df.y1.shift()\n",
      "df = df.dropna()\n",
      "df['splined1'] = spline(df.y1)\n",
      "df['splined2'] = spline(df.y2)\n",
      "df['y_ratio'] = df.y1 / df.y2\n",
      "df['splined_ratio'] = df.splined1 / df.splined2"
     ],
     "language": "python",
     "metadata": {},
     "outputs": [],
     "prompt_number": 16
    },
    {
     "cell_type": "code",
     "collapsed": false,
     "input": [
      "noisy_y is y"
     ],
     "language": "python",
     "metadata": {},
     "outputs": [
      {
       "metadata": {},
       "output_type": "pyout",
       "prompt_number": 17,
       "text": [
        "True"
       ]
      }
     ],
     "prompt_number": 17
    },
    {
     "cell_type": "code",
     "collapsed": false,
     "input": [
      "df.head()"
     ],
     "language": "python",
     "metadata": {},
     "outputs": [
      {
       "html": [
        "<div style=\"max-height:1000px;max-width:1500px;overflow:auto;\">\n",
        "<table border=\"1\" class=\"dataframe\">\n",
        "  <thead>\n",
        "    <tr style=\"text-align: right;\">\n",
        "      <th></th>\n",
        "      <th>y1</th>\n",
        "      <th>y2</th>\n",
        "      <th>splined1</th>\n",
        "      <th>splined2</th>\n",
        "      <th>y_ratio</th>\n",
        "      <th>splined_ratio</th>\n",
        "    </tr>\n",
        "  </thead>\n",
        "  <tbody>\n",
        "    <tr>\n",
        "      <th>1</th>\n",
        "      <td> 0.010909</td>\n",
        "      <td> 0.010000</td>\n",
        "      <td> 0.000119</td>\n",
        "      <td> 0.000102</td>\n",
        "      <td> 1.090909</td>\n",
        "      <td> 1.166017</td>\n",
        "    </tr>\n",
        "    <tr>\n",
        "      <th>2</th>\n",
        "      <td> 0.011818</td>\n",
        "      <td> 0.010909</td>\n",
        "      <td> 0.000142</td>\n",
        "      <td> 0.000119</td>\n",
        "      <td> 1.083333</td>\n",
        "      <td> 1.187279</td>\n",
        "    </tr>\n",
        "    <tr>\n",
        "      <th>3</th>\n",
        "      <td> 0.012727</td>\n",
        "      <td> 0.011818</td>\n",
        "      <td> 0.000165</td>\n",
        "      <td> 0.000142</td>\n",
        "      <td> 1.076923</td>\n",
        "      <td> 1.162757</td>\n",
        "    </tr>\n",
        "    <tr>\n",
        "      <th>4</th>\n",
        "      <td> 0.013636</td>\n",
        "      <td> 0.012727</td>\n",
        "      <td> 0.000188</td>\n",
        "      <td> 0.000165</td>\n",
        "      <td> 1.071429</td>\n",
        "      <td> 1.139975</td>\n",
        "    </tr>\n",
        "    <tr>\n",
        "      <th>5</th>\n",
        "      <td> 0.014545</td>\n",
        "      <td> 0.013636</td>\n",
        "      <td> 0.000212</td>\n",
        "      <td> 0.000188</td>\n",
        "      <td> 1.066667</td>\n",
        "      <td> 1.129589</td>\n",
        "    </tr>\n",
        "  </tbody>\n",
        "</table>\n",
        "</div>"
       ],
       "metadata": {},
       "output_type": "pyout",
       "prompt_number": 18,
       "text": [
        "         y1        y2  splined1  splined2   y_ratio  splined_ratio\n",
        "1  0.010909  0.010000  0.000119  0.000102  1.090909       1.166017\n",
        "2  0.011818  0.010909  0.000142  0.000119  1.083333       1.187279\n",
        "3  0.012727  0.011818  0.000165  0.000142  1.076923       1.162757\n",
        "4  0.013636  0.012727  0.000188  0.000165  1.071429       1.139975\n",
        "5  0.014545  0.013636  0.000212  0.000188  1.066667       1.129589"
       ]
      }
     ],
     "prompt_number": 18
    },
    {
     "cell_type": "code",
     "collapsed": false,
     "input": [
      "df['y_ratio splined_ratio'.split()].plot(secondary_y='y_ratio')"
     ],
     "language": "python",
     "metadata": {},
     "outputs": [
      {
       "metadata": {},
       "output_type": "pyout",
       "prompt_number": 19,
       "text": [
        "<matplotlib.axes.AxesSubplot at 0x11a15a290>"
       ]
      }
     ],
     "prompt_number": 19
    },
    {
     "cell_type": "code",
     "collapsed": false,
     "input": [
      "df.set_index(df.x, inplace=True)\n",
      "df.y.plot()\n",
      "df.noisy_y.plot(style='.',ms=10)\n",
      "df.splined.plot(style='x',ms=10)\n",
      "newx = linspace(df.x.min(), df.x.max(), 200)\n",
      "newy = spline(newx)\n",
      "plot(newx, newy,'o',ms=10)"
     ],
     "language": "python",
     "metadata": {},
     "outputs": [
      {
       "metadata": {},
       "output_type": "pyout",
       "prompt_number": 186,
       "text": [
        "[<matplotlib.lines.Line2D at 0x11c6e6590>]"
       ]
      }
     ],
     "prompt_number": 186
    },
    {
     "cell_type": "code",
     "collapsed": false,
     "input": [],
     "language": "python",
     "metadata": {},
     "outputs": [
      {
       "metadata": {},
       "output_type": "pyout",
       "prompt_number": 177,
       "text": [
        "0.01"
       ]
      }
     ],
     "prompt_number": 177
    },
    {
     "cell_type": "code",
     "collapsed": false,
     "input": [
      "df.y.plot(style='.')\n",
      "newx = linspace(0.001, 0.01, n*10)\n",
      "newy = spline(newx)\n",
      "plot(newx,newy)"
     ],
     "language": "python",
     "metadata": {},
     "outputs": [
      {
       "metadata": {},
       "output_type": "pyout",
       "prompt_number": 156,
       "text": [
        "[<matplotlib.lines.Line2D at 0x12275f3d0>]"
       ]
      }
     ],
     "prompt_number": 156
    },
    {
     "cell_type": "code",
     "collapsed": false,
     "input": [
      "df['y_ratio splined_ratio'.split()].plot(secondary_y='y_ratio')"
     ],
     "language": "python",
     "metadata": {},
     "outputs": [
      {
       "metadata": {},
       "output_type": "pyout",
       "prompt_number": 149,
       "text": [
        "<matplotlib.axes.AxesSubplot at 0x11f0baa50>"
       ]
      }
     ],
     "prompt_number": 149
    },
    {
     "cell_type": "code",
     "collapsed": false,
     "input": [
      "noise = 0.2*random_sample(100)-0.1"
     ],
     "language": "python",
     "metadata": {},
     "outputs": [],
     "prompt_number": 139
    },
    {
     "cell_type": "code",
     "collapsed": false,
     "input": [
      "noisy_y = df.y + df.y*noise[1:]"
     ],
     "language": "python",
     "metadata": {},
     "outputs": [],
     "prompt_number": 144
    },
    {
     "cell_type": "code",
     "collapsed": false,
     "input": [
      "plot(df.y)\n",
      "plot(noisy_y)"
     ],
     "language": "python",
     "metadata": {},
     "outputs": [
      {
       "metadata": {},
       "output_type": "pyout",
       "prompt_number": 146,
       "text": [
        "[<matplotlib.lines.Line2D at 0x11f0df810>]"
       ]
      }
     ],
     "prompt_number": 146
    },
    {
     "cell_type": "code",
     "collapsed": false,
     "input": [],
     "language": "python",
     "metadata": {},
     "outputs": []
    }
   ],
   "metadata": {}
  }
 ]
}