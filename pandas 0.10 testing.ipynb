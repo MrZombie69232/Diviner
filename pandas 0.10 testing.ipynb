{
 "metadata": {
  "name": "pandas 0.10 testing"
 },
 "nbformat": 3,
 "nbformat_minor": 0,
 "worksheets": [
  {
   "cells": [
    {
     "cell_type": "code",
     "collapsed": false,
     "input": [
      "import pandas as pd\n",
      "pd.__version__"
     ],
     "language": "python",
     "metadata": {},
     "outputs": [
      {
       "output_type": "pyout",
       "prompt_number": 1,
       "text": [
        "'0.10.0b1'"
       ]
      }
     ],
     "prompt_number": 1
    },
    {
     "cell_type": "code",
     "collapsed": false,
     "input": [
      "df = pd.DataFrame(randn(10,10))"
     ],
     "language": "python",
     "metadata": {},
     "outputs": [],
     "prompt_number": 2
    },
    {
     "cell_type": "code",
     "collapsed": false,
     "input": [
      "df"
     ],
     "language": "python",
     "metadata": {},
     "outputs": [
      {
       "html": [
        "<div style=\"max-height:1000px;max-width:1500px;overflow:auto;\">\n",
        "<table border=\"1\" class=\"dataframe\">\n",
        "  <thead>\n",
        "    <tr style=\"text-align: right;\">\n",
        "      <th></th>\n",
        "      <th>0</th>\n",
        "      <th>1</th>\n",
        "      <th>2</th>\n",
        "      <th>3</th>\n",
        "      <th>4</th>\n",
        "      <th>5</th>\n",
        "      <th>6</th>\n",
        "      <th>7</th>\n",
        "      <th>8</th>\n",
        "      <th>9</th>\n",
        "    </tr>\n",
        "  </thead>\n",
        "  <tbody>\n",
        "    <tr>\n",
        "      <td><strong>0</strong></td>\n",
        "      <td>-1.911457</td>\n",
        "      <td> 0.557103</td>\n",
        "      <td>-0.670576</td>\n",
        "      <td>-2.372298</td>\n",
        "      <td> 0.078727</td>\n",
        "      <td> 0.635419</td>\n",
        "      <td> 0.687720</td>\n",
        "      <td>-0.529119</td>\n",
        "      <td> 0.208254</td>\n",
        "      <td> 1.705636</td>\n",
        "    </tr>\n",
        "    <tr>\n",
        "      <td><strong>1</strong></td>\n",
        "      <td>-0.776856</td>\n",
        "      <td>-0.116292</td>\n",
        "      <td> 1.211562</td>\n",
        "      <td>-0.835848</td>\n",
        "      <td>-1.420918</td>\n",
        "      <td> 0.560389</td>\n",
        "      <td> 1.035437</td>\n",
        "      <td> 0.440363</td>\n",
        "      <td>-0.677999</td>\n",
        "      <td>-0.104730</td>\n",
        "    </tr>\n",
        "    <tr>\n",
        "      <td><strong>2</strong></td>\n",
        "      <td> 0.846639</td>\n",
        "      <td> 1.033252</td>\n",
        "      <td>-0.948403</td>\n",
        "      <td> 1.290422</td>\n",
        "      <td>-1.925770</td>\n",
        "      <td>-0.420724</td>\n",
        "      <td>-0.398509</td>\n",
        "      <td>-0.206163</td>\n",
        "      <td> 0.980237</td>\n",
        "      <td>-0.566187</td>\n",
        "    </tr>\n",
        "    <tr>\n",
        "      <td><strong>3</strong></td>\n",
        "      <td> 1.042231</td>\n",
        "      <td>-0.262543</td>\n",
        "      <td>-1.701257</td>\n",
        "      <td>-0.080245</td>\n",
        "      <td>-0.178771</td>\n",
        "      <td>-1.084291</td>\n",
        "      <td>-0.797986</td>\n",
        "      <td> 0.452589</td>\n",
        "      <td>-0.702508</td>\n",
        "      <td> 1.505684</td>\n",
        "    </tr>\n",
        "    <tr>\n",
        "      <td><strong>4</strong></td>\n",
        "      <td> 0.790324</td>\n",
        "      <td> 0.050429</td>\n",
        "      <td>-0.608650</td>\n",
        "      <td>-0.900634</td>\n",
        "      <td> 0.022846</td>\n",
        "      <td> 0.035613</td>\n",
        "      <td> 0.568972</td>\n",
        "      <td> 0.278019</td>\n",
        "      <td> 0.981258</td>\n",
        "      <td>-0.557403</td>\n",
        "    </tr>\n",
        "    <tr>\n",
        "      <td><strong>5</strong></td>\n",
        "      <td> 0.621096</td>\n",
        "      <td> 1.753039</td>\n",
        "      <td>-0.458046</td>\n",
        "      <td> 0.595561</td>\n",
        "      <td> 0.378344</td>\n",
        "      <td> 0.643701</td>\n",
        "      <td> 0.342087</td>\n",
        "      <td>-0.395516</td>\n",
        "      <td> 1.801695</td>\n",
        "      <td>-0.377380</td>\n",
        "    </tr>\n",
        "    <tr>\n",
        "      <td><strong>6</strong></td>\n",
        "      <td>-1.310506</td>\n",
        "      <td> 0.433062</td>\n",
        "      <td> 0.207193</td>\n",
        "      <td> 0.412899</td>\n",
        "      <td>-0.209765</td>\n",
        "      <td> 1.088215</td>\n",
        "      <td>-0.238009</td>\n",
        "      <td>-0.438079</td>\n",
        "      <td>-0.038291</td>\n",
        "      <td>-0.295650</td>\n",
        "    </tr>\n",
        "    <tr>\n",
        "      <td><strong>7</strong></td>\n",
        "      <td> 0.182254</td>\n",
        "      <td>-0.378988</td>\n",
        "      <td>-0.909974</td>\n",
        "      <td> 0.282829</td>\n",
        "      <td> 0.393747</td>\n",
        "      <td> 0.587775</td>\n",
        "      <td> 0.378228</td>\n",
        "      <td>-0.757392</td>\n",
        "      <td>-1.559704</td>\n",
        "      <td>-0.517535</td>\n",
        "    </tr>\n",
        "    <tr>\n",
        "      <td><strong>8</strong></td>\n",
        "      <td>-0.199098</td>\n",
        "      <td>-0.901047</td>\n",
        "      <td> 0.063231</td>\n",
        "      <td> 0.235518</td>\n",
        "      <td>-2.032844</td>\n",
        "      <td> 1.062255</td>\n",
        "      <td>-0.887828</td>\n",
        "      <td>-0.001072</td>\n",
        "      <td> 0.312748</td>\n",
        "      <td> 0.054925</td>\n",
        "    </tr>\n",
        "    <tr>\n",
        "      <td><strong>9</strong></td>\n",
        "      <td>-0.120626</td>\n",
        "      <td> 0.490857</td>\n",
        "      <td> 2.463419</td>\n",
        "      <td>-2.017812</td>\n",
        "      <td> 1.413144</td>\n",
        "      <td>-0.902607</td>\n",
        "      <td> 0.064067</td>\n",
        "      <td> 0.858724</td>\n",
        "      <td>-0.133084</td>\n",
        "      <td>-1.362905</td>\n",
        "    </tr>\n",
        "  </tbody>\n",
        "</table>\n",
        "</div>"
       ],
       "output_type": "pyout",
       "prompt_number": 3,
       "text": [
        "          0         1         2         3         4         5         6         7  \\\n",
        "0 -1.911457  0.557103 -0.670576 -2.372298  0.078727  0.635419  0.687720 -0.529119   \n",
        "1 -0.776856 -0.116292  1.211562 -0.835848 -1.420918  0.560389  1.035437  0.440363   \n",
        "2  0.846639  1.033252 -0.948403  1.290422 -1.925770 -0.420724 -0.398509 -0.206163   \n",
        "3  1.042231 -0.262543 -1.701257 -0.080245 -0.178771 -1.084291 -0.797986  0.452589   \n",
        "4  0.790324  0.050429 -0.608650 -0.900634  0.022846  0.035613  0.568972  0.278019   \n",
        "5  0.621096  1.753039 -0.458046  0.595561  0.378344  0.643701  0.342087 -0.395516   \n",
        "6 -1.310506  0.433062  0.207193  0.412899 -0.209765  1.088215 -0.238009 -0.438079   \n",
        "7  0.182254 -0.378988 -0.909974  0.282829  0.393747  0.587775  0.378228 -0.757392   \n",
        "8 -0.199098 -0.901047  0.063231  0.235518 -2.032844  1.062255 -0.887828 -0.001072   \n",
        "9 -0.120626  0.490857  2.463419 -2.017812  1.413144 -0.902607  0.064067  0.858724   \n",
        "\n",
        "          8         9  \n",
        "0  0.208254  1.705636  \n",
        "1 -0.677999 -0.104730  \n",
        "2  0.980237 -0.566187  \n",
        "3 -0.702508  1.505684  \n",
        "4  0.981258 -0.557403  \n",
        "5  1.801695 -0.377380  \n",
        "6 -0.038291 -0.295650  \n",
        "7 -1.559704 -0.517535  \n",
        "8  0.312748  0.054925  \n",
        "9 -0.133084 -1.362905  "
       ]
      }
     ],
     "prompt_number": 3
    },
    {
     "cell_type": "code",
     "collapsed": false,
     "input": [
      "fig = df.plot(0,1,style='*')"
     ],
     "language": "python",
     "metadata": {},
     "outputs": [],
     "prompt_number": 4
    },
    {
     "cell_type": "code",
     "collapsed": false,
     "input": [
      "display(gcf())"
     ],
     "language": "python",
     "metadata": {},
     "outputs": [
      {
       "output_type": "display_data",
       "png": "[encoded data removed]",
       "text": [
        "<matplotlib.figure.Figure at 0x115a182d0>"
       ]
      }
     ],
     "prompt_number": 5
    },
    {
     "cell_type": "code",
     "collapsed": false,
     "input": [
      "df.set_index(pd.date_range('1/1/2011',periods=10),inplace=True)"
     ],
     "language": "python",
     "metadata": {},
     "outputs": [],
     "prompt_number": 6
    },
    {
     "cell_type": "code",
     "collapsed": false,
     "input": [
      "df"
     ],
     "language": "python",
     "metadata": {},
     "outputs": [
      {
       "html": [
        "<div style=\"max-height:1000px;max-width:1500px;overflow:auto;\">\n",
        "<table border=\"1\" class=\"dataframe\">\n",
        "  <thead>\n",
        "    <tr style=\"text-align: right;\">\n",
        "      <th></th>\n",
        "      <th>0</th>\n",
        "      <th>1</th>\n",
        "      <th>2</th>\n",
        "      <th>3</th>\n",
        "      <th>4</th>\n",
        "      <th>5</th>\n",
        "      <th>6</th>\n",
        "      <th>7</th>\n",
        "      <th>8</th>\n",
        "      <th>9</th>\n",
        "    </tr>\n",
        "  </thead>\n",
        "  <tbody>\n",
        "    <tr>\n",
        "      <td><strong>2011-01-01</strong></td>\n",
        "      <td>-1.911457</td>\n",
        "      <td> 0.557103</td>\n",
        "      <td>-0.670576</td>\n",
        "      <td>-2.372298</td>\n",
        "      <td> 0.078727</td>\n",
        "      <td> 0.635419</td>\n",
        "      <td> 0.687720</td>\n",
        "      <td>-0.529119</td>\n",
        "      <td> 0.208254</td>\n",
        "      <td> 1.705636</td>\n",
        "    </tr>\n",
        "    <tr>\n",
        "      <td><strong>2011-01-02</strong></td>\n",
        "      <td>-0.776856</td>\n",
        "      <td>-0.116292</td>\n",
        "      <td> 1.211562</td>\n",
        "      <td>-0.835848</td>\n",
        "      <td>-1.420918</td>\n",
        "      <td> 0.560389</td>\n",
        "      <td> 1.035437</td>\n",
        "      <td> 0.440363</td>\n",
        "      <td>-0.677999</td>\n",
        "      <td>-0.104730</td>\n",
        "    </tr>\n",
        "    <tr>\n",
        "      <td><strong>2011-01-03</strong></td>\n",
        "      <td> 0.846639</td>\n",
        "      <td> 1.033252</td>\n",
        "      <td>-0.948403</td>\n",
        "      <td> 1.290422</td>\n",
        "      <td>-1.925770</td>\n",
        "      <td>-0.420724</td>\n",
        "      <td>-0.398509</td>\n",
        "      <td>-0.206163</td>\n",
        "      <td> 0.980237</td>\n",
        "      <td>-0.566187</td>\n",
        "    </tr>\n",
        "    <tr>\n",
        "      <td><strong>2011-01-04</strong></td>\n",
        "      <td> 1.042231</td>\n",
        "      <td>-0.262543</td>\n",
        "      <td>-1.701257</td>\n",
        "      <td>-0.080245</td>\n",
        "      <td>-0.178771</td>\n",
        "      <td>-1.084291</td>\n",
        "      <td>-0.797986</td>\n",
        "      <td> 0.452589</td>\n",
        "      <td>-0.702508</td>\n",
        "      <td> 1.505684</td>\n",
        "    </tr>\n",
        "    <tr>\n",
        "      <td><strong>2011-01-05</strong></td>\n",
        "      <td> 0.790324</td>\n",
        "      <td> 0.050429</td>\n",
        "      <td>-0.608650</td>\n",
        "      <td>-0.900634</td>\n",
        "      <td> 0.022846</td>\n",
        "      <td> 0.035613</td>\n",
        "      <td> 0.568972</td>\n",
        "      <td> 0.278019</td>\n",
        "      <td> 0.981258</td>\n",
        "      <td>-0.557403</td>\n",
        "    </tr>\n",
        "    <tr>\n",
        "      <td><strong>2011-01-06</strong></td>\n",
        "      <td> 0.621096</td>\n",
        "      <td> 1.753039</td>\n",
        "      <td>-0.458046</td>\n",
        "      <td> 0.595561</td>\n",
        "      <td> 0.378344</td>\n",
        "      <td> 0.643701</td>\n",
        "      <td> 0.342087</td>\n",
        "      <td>-0.395516</td>\n",
        "      <td> 1.801695</td>\n",
        "      <td>-0.377380</td>\n",
        "    </tr>\n",
        "    <tr>\n",
        "      <td><strong>2011-01-07</strong></td>\n",
        "      <td>-1.310506</td>\n",
        "      <td> 0.433062</td>\n",
        "      <td> 0.207193</td>\n",
        "      <td> 0.412899</td>\n",
        "      <td>-0.209765</td>\n",
        "      <td> 1.088215</td>\n",
        "      <td>-0.238009</td>\n",
        "      <td>-0.438079</td>\n",
        "      <td>-0.038291</td>\n",
        "      <td>-0.295650</td>\n",
        "    </tr>\n",
        "    <tr>\n",
        "      <td><strong>2011-01-08</strong></td>\n",
        "      <td> 0.182254</td>\n",
        "      <td>-0.378988</td>\n",
        "      <td>-0.909974</td>\n",
        "      <td> 0.282829</td>\n",
        "      <td> 0.393747</td>\n",
        "      <td> 0.587775</td>\n",
        "      <td> 0.378228</td>\n",
        "      <td>-0.757392</td>\n",
        "      <td>-1.559704</td>\n",
        "      <td>-0.517535</td>\n",
        "    </tr>\n",
        "    <tr>\n",
        "      <td><strong>2011-01-09</strong></td>\n",
        "      <td>-0.199098</td>\n",
        "      <td>-0.901047</td>\n",
        "      <td> 0.063231</td>\n",
        "      <td> 0.235518</td>\n",
        "      <td>-2.032844</td>\n",
        "      <td> 1.062255</td>\n",
        "      <td>-0.887828</td>\n",
        "      <td>-0.001072</td>\n",
        "      <td> 0.312748</td>\n",
        "      <td> 0.054925</td>\n",
        "    </tr>\n",
        "    <tr>\n",
        "      <td><strong>2011-01-10</strong></td>\n",
        "      <td>-0.120626</td>\n",
        "      <td> 0.490857</td>\n",
        "      <td> 2.463419</td>\n",
        "      <td>-2.017812</td>\n",
        "      <td> 1.413144</td>\n",
        "      <td>-0.902607</td>\n",
        "      <td> 0.064067</td>\n",
        "      <td> 0.858724</td>\n",
        "      <td>-0.133084</td>\n",
        "      <td>-1.362905</td>\n",
        "    </tr>\n",
        "  </tbody>\n",
        "</table>\n",
        "</div>"
       ],
       "output_type": "pyout",
       "prompt_number": 7,
       "text": [
        "                   0         1         2         3         4         5         6  \\\n",
        "2011-01-01 -1.911457  0.557103 -0.670576 -2.372298  0.078727  0.635419  0.687720   \n",
        "2011-01-02 -0.776856 -0.116292  1.211562 -0.835848 -1.420918  0.560389  1.035437   \n",
        "2011-01-03  0.846639  1.033252 -0.948403  1.290422 -1.925770 -0.420724 -0.398509   \n",
        "2011-01-04  1.042231 -0.262543 -1.701257 -0.080245 -0.178771 -1.084291 -0.797986   \n",
        "2011-01-05  0.790324  0.050429 -0.608650 -0.900634  0.022846  0.035613  0.568972   \n",
        "2011-01-06  0.621096  1.753039 -0.458046  0.595561  0.378344  0.643701  0.342087   \n",
        "2011-01-07 -1.310506  0.433062  0.207193  0.412899 -0.209765  1.088215 -0.238009   \n",
        "2011-01-08  0.182254 -0.378988 -0.909974  0.282829  0.393747  0.587775  0.378228   \n",
        "2011-01-09 -0.199098 -0.901047  0.063231  0.235518 -2.032844  1.062255 -0.887828   \n",
        "2011-01-10 -0.120626  0.490857  2.463419 -2.017812  1.413144 -0.902607  0.064067   \n",
        "\n",
        "                   7         8         9  \n",
        "2011-01-01 -0.529119  0.208254  1.705636  \n",
        "2011-01-02  0.440363 -0.677999 -0.104730  \n",
        "2011-01-03 -0.206163  0.980237 -0.566187  \n",
        "2011-01-04  0.452589 -0.702508  1.505684  \n",
        "2011-01-05  0.278019  0.981258 -0.557403  \n",
        "2011-01-06 -0.395516  1.801695 -0.377380  \n",
        "2011-01-07 -0.438079 -0.038291 -0.295650  \n",
        "2011-01-08 -0.757392 -1.559704 -0.517535  \n",
        "2011-01-09 -0.001072  0.312748  0.054925  \n",
        "2011-01-10  0.858724 -0.133084 -1.362905  "
       ]
      }
     ],
     "prompt_number": 7
    },
    {
     "cell_type": "code",
     "collapsed": false,
     "input": [
      "df.plot(0,1,style='*')"
     ],
     "language": "python",
     "metadata": {},
     "outputs": [
      {
       "output_type": "pyout",
       "prompt_number": 8,
       "text": [
        "<matplotlib.axes.AxesSubplot at 0x115a26690>"
       ]
      }
     ],
     "prompt_number": 8
    },
    {
     "cell_type": "code",
     "collapsed": false,
     "input": [
      "display(gcf())"
     ],
     "language": "python",
     "metadata": {},
     "outputs": [
      {
       "output_type": "display_data",
       "png": "[encoded data removed]",
       "text": [
        "<matplotlib.figure.Figure at 0x115a182d0>"
       ]
      }
     ],
     "prompt_number": 9
    },
    {
     "cell_type": "code",
     "collapsed": false,
     "input": [
      "df[0][3] = nan"
     ],
     "language": "python",
     "metadata": {},
     "outputs": [],
     "prompt_number": 13
    },
    {
     "cell_type": "code",
     "collapsed": false,
     "input": [
      "df[1][4] = nan"
     ],
     "language": "python",
     "metadata": {},
     "outputs": [],
     "prompt_number": 14
    },
    {
     "cell_type": "code",
     "collapsed": false,
     "input": [
      "df.plot(0,1)"
     ],
     "language": "python",
     "metadata": {},
     "outputs": [
      {
       "output_type": "pyout",
       "prompt_number": 15,
       "text": [
        "<matplotlib.axes.AxesSubplot at 0x115a26690>"
       ]
      }
     ],
     "prompt_number": 15
    },
    {
     "cell_type": "code",
     "collapsed": false,
     "input": [
      "display(gcf())"
     ],
     "language": "python",
     "metadata": {},
     "outputs": [
      {
       "output_type": "display_data",
       "png": "[encoded data removed]",
       "text": [
        "<matplotlib.figure.Figure at 0x115a182d0>"
       ]
      }
     ],
     "prompt_number": 16
    },
    {
     "cell_type": "code",
     "collapsed": false,
     "input": [],
     "language": "python",
     "metadata": {},
     "outputs": []
    }
   ],
   "metadata": {}
  }
 ]
}