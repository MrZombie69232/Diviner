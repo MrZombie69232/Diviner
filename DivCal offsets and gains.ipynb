{
 "metadata": {
  "name": "DivCal offsets and gains"
 },
 "nbformat": 3,
 "nbformat_minor": 0,
 "worksheets": [
  {
   "cells": [
    {
     "cell_type": "code",
     "collapsed": false,
     "input": [
      "import pandas as pd\n",
      "import diviner as div\n",
      "import calib as c\n",
      "import sys\n",
      "from scipy import ndimage as nd\n",
      "reload(c)"
     ],
     "language": "python",
     "metadata": {},
     "outputs": [
      {
       "output_type": "pyout",
       "prompt_number": 28,
       "text": [
        "<module 'calib' from 'calib.py'>"
       ]
      }
     ],
     "prompt_number": 28
    },
    {
     "cell_type": "code",
     "collapsed": false,
     "input": [
      "if sys.platform == 'darwin':\n",
      "    bigdf = div.read_div_data(\"./df_by_2.h5\")\n",
      "else:\n",
      "    bigdf = div.read_div_data('/luna1/maye/2009072000.h5')"
     ],
     "language": "python",
     "metadata": {},
     "outputs": [],
     "prompt_number": 2
    },
    {
     "cell_type": "code",
     "collapsed": false,
     "input": [
      "divcal = c.DivCalib(bigdf)"
     ],
     "language": "python",
     "metadata": {},
     "outputs": [],
     "prompt_number": 29
    },
    {
     "cell_type": "code",
     "collapsed": false,
     "input": [
      "times = [i[0] for i in divcal.calib_data.values()]"
     ],
     "language": "python",
     "metadata": {},
     "outputs": [],
     "prompt_number": 113
    },
    {
     "cell_type": "code",
     "collapsed": false,
     "input": [
      "offsets = [i[1] for i in divcal.calib_data.values()]"
     ],
     "language": "python",
     "metadata": {},
     "outputs": [],
     "prompt_number": 34
    },
    {
     "cell_type": "code",
     "collapsed": false,
     "input": [
      "gains = [i[2] for i in divcal.calib_data.values()]"
     ],
     "language": "python",
     "metadata": {},
     "outputs": [],
     "prompt_number": 35
    },
    {
     "cell_type": "code",
     "collapsed": false,
     "input": [
      "offset0 = offsets[0]"
     ],
     "language": "python",
     "metadata": {},
     "outputs": [],
     "prompt_number": 49
    },
    {
     "cell_type": "code",
     "collapsed": false,
     "input": [
      "offset0.name = 'offsets'"
     ],
     "language": "python",
     "metadata": {},
     "outputs": [],
     "prompt_number": 53
    },
    {
     "cell_type": "code",
     "collapsed": false,
     "input": [
      "reset = offset0.reset_index()"
     ],
     "language": "python",
     "metadata": {},
     "outputs": [],
     "prompt_number": 55
    },
    {
     "cell_type": "code",
     "collapsed": false,
     "input": [
      "reset['time'] = times[0]"
     ],
     "language": "python",
     "metadata": {},
     "outputs": [],
     "prompt_number": 56
    },
    {
     "cell_type": "code",
     "collapsed": false,
     "input": [
      "reset.set_index(['c','det','time']).head()"
     ],
     "language": "python",
     "metadata": {},
     "outputs": [
      {
       "html": [
        "<div style=\"max-height:1000px;max-width:1500px;overflow:auto;\">\n",
        "<table border=\"1\" class=\"dataframe\">\n",
        "  <thead>\n",
        "    <tr style=\"text-align: right;\">\n",
        "      <th></th>\n",
        "      <th></th>\n",
        "      <th></th>\n",
        "      <th>offsets</th>\n",
        "    </tr>\n",
        "    <tr>\n",
        "      <th>c</th>\n",
        "      <th>det</th>\n",
        "      <th>time</th>\n",
        "      <th></th>\n",
        "    </tr>\n",
        "  </thead>\n",
        "  <tbody>\n",
        "    <tr>\n",
        "      <td rowspan=\"5\" valign=\"top\"><strong>1</strong></td>\n",
        "      <td><strong>1</strong></td>\n",
        "      <td><strong>2009-07-20 00:03:06.607999</strong></td>\n",
        "      <td> 22209.00625</td>\n",
        "    </tr>\n",
        "    <tr>\n",
        "      <td><strong>2</strong></td>\n",
        "      <td><strong>2009-07-20 00:03:06.607999</strong></td>\n",
        "      <td> 22159.88750</td>\n",
        "    </tr>\n",
        "    <tr>\n",
        "      <td><strong>3</strong></td>\n",
        "      <td><strong>2009-07-20 00:03:06.607999</strong></td>\n",
        "      <td> 22154.66250</td>\n",
        "    </tr>\n",
        "    <tr>\n",
        "      <td><strong>4</strong></td>\n",
        "      <td><strong>2009-07-20 00:03:06.607999</strong></td>\n",
        "      <td> 22169.13750</td>\n",
        "    </tr>\n",
        "    <tr>\n",
        "      <td><strong>5</strong></td>\n",
        "      <td><strong>2009-07-20 00:03:06.607999</strong></td>\n",
        "      <td> 22191.68125</td>\n",
        "    </tr>\n",
        "  </tbody>\n",
        "</table>\n",
        "</div>"
       ],
       "output_type": "pyout",
       "prompt_number": 61,
       "text": [
        "                                      offsets\n",
        "c det time                                   \n",
        "1 1   2009-07-20 00:03:06.607999  22209.00625\n",
        "  2   2009-07-20 00:03:06.607999  22159.88750\n",
        "  3   2009-07-20 00:03:06.607999  22154.66250\n",
        "  4   2009-07-20 00:03:06.607999  22169.13750\n",
        "  5   2009-07-20 00:03:06.607999  22191.68125"
       ]
      }
     ],
     "prompt_number": 61
    },
    {
     "cell_type": "code",
     "collapsed": false,
     "input": [
      "gains"
     ],
     "language": "python",
     "metadata": {},
     "outputs": [
      {
       "output_type": "pyout",
       "prompt_number": 63,
       "text": [
        "[c  det\n",
        "1  1      0\n",
        "   2      0\n",
        "   3      0\n",
        "   4      0\n",
        "   5      0\n",
        "   6      0\n",
        "   7      0\n",
        "   8      0\n",
        "   9      0\n",
        "   10     0\n",
        "   11     0\n",
        "   12     0\n",
        "   13     0\n",
        "   14     0\n",
        "   15     0\n",
        "...\n",
        "9  7     -0.004437\n",
        "   8     -0.004391\n",
        "   9     -0.004006\n",
        "   10    -0.004146\n",
        "   11    -0.004069\n",
        "   12    -0.003860\n",
        "   13    -0.004193\n",
        "   14    -0.003980\n",
        "   15    -0.004025\n",
        "   16    -0.004101\n",
        "   17    -0.004033\n",
        "   18    -0.003890\n",
        "   19    -0.004119\n",
        "   20    -0.003977\n",
        "   21    -0.004426\n",
        "Length: 189,\n",
        " c  det\n",
        "1  1      0\n",
        "   2      0\n",
        "   3      0\n",
        "   4      0\n",
        "   5      0\n",
        "   6      0\n",
        "   7      0\n",
        "   8      0\n",
        "   9      0\n",
        "   10     0\n",
        "   11     0\n",
        "   12     0\n",
        "   13     0\n",
        "   14     0\n",
        "   15     0\n",
        "...\n",
        "9  7     -0.004443\n",
        "   8     -0.004370\n",
        "   9     -0.003993\n",
        "   10    -0.004132\n",
        "   11    -0.004050\n",
        "   12    -0.003848\n",
        "   13    -0.004176\n",
        "   14    -0.003976\n",
        "   15    -0.004023\n",
        "   16    -0.004076\n",
        "   17    -0.004039\n",
        "   18    -0.003885\n",
        "   19    -0.004113\n",
        "   20    -0.003972\n",
        "   21    -0.004407\n",
        "Length: 189,\n",
        " c  det\n",
        "1  1      0\n",
        "   2      0\n",
        "   3      0\n",
        "   4      0\n",
        "   5      0\n",
        "   6      0\n",
        "   7      0\n",
        "   8      0\n",
        "   9      0\n",
        "   10     0\n",
        "   11     0\n",
        "   12     0\n",
        "   13     0\n",
        "   14     0\n",
        "   15     0\n",
        "...\n",
        "9  7     -0.004423\n",
        "   8     -0.004355\n",
        "   9     -0.003983\n",
        "   10    -0.004127\n",
        "   11    -0.004045\n",
        "   12    -0.003834\n",
        "   13    -0.004170\n",
        "   14    -0.003951\n",
        "   15    -0.004016\n",
        "   16    -0.004072\n",
        "   17    -0.004027\n",
        "   18    -0.003871\n",
        "   19    -0.004110\n",
        "   20    -0.003964\n",
        "   21    -0.004407\n",
        "Length: 189]"
       ]
      }
     ],
     "prompt_number": 63
    },
    {
     "cell_type": "code",
     "collapsed": false,
     "input": [
      "c3d1_0 = gains[0].ix[3].ix[1]"
     ],
     "language": "python",
     "metadata": {},
     "outputs": [],
     "prompt_number": 68
    },
    {
     "cell_type": "code",
     "collapsed": false,
     "input": [
      "c3d1_1 = gains[1].ix[3].ix[1]"
     ],
     "language": "python",
     "metadata": {},
     "outputs": [],
     "prompt_number": 69
    },
    {
     "cell_type": "code",
     "collapsed": false,
     "input": [
      "c3d1_2=gains[2].ix[3].ix[1]"
     ],
     "language": "python",
     "metadata": {},
     "outputs": [],
     "prompt_number": 70
    },
    {
     "cell_type": "code",
     "collapsed": false,
     "input": [
      "c3d1 = [c3d1_0,c3d1_1,c3d1_2]"
     ],
     "language": "python",
     "metadata": {},
     "outputs": [],
     "prompt_number": 71
    },
    {
     "cell_type": "code",
     "collapsed": false,
     "input": [
      "c3d1"
     ],
     "language": "python",
     "metadata": {},
     "outputs": [
      {
       "output_type": "pyout",
       "prompt_number": 72,
       "text": [
        "[-0.00091186918541453349, -0.00091482373191494602, -0.00091205728061010793]"
       ]
      }
     ],
     "prompt_number": 72
    },
    {
     "cell_type": "code",
     "collapsed": false,
     "input": [
      "times"
     ],
     "language": "python",
     "metadata": {},
     "outputs": [
      {
       "output_type": "pyout",
       "prompt_number": 114,
       "text": [
        "[<Timestamp: 2009-07-20 00:03:06.607999>,\n",
        " <Timestamp: 2009-07-20 00:12:13.434999>,\n",
        " <Timestamp: 2009-07-20 00:22:17.607999>]"
       ]
      }
     ],
     "prompt_number": 114
    },
    {
     "cell_type": "code",
     "collapsed": false,
     "input": [
      "newind = pd.Index(divcal.df.index.get_level_values(2).unique())"
     ],
     "language": "python",
     "metadata": {},
     "outputs": [],
     "prompt_number": 74
    },
    {
     "cell_type": "code",
     "collapsed": false,
     "input": [
      "newind"
     ],
     "language": "python",
     "metadata": {},
     "outputs": [
      {
       "output_type": "pyout",
       "prompt_number": 75,
       "text": [
        "<class 'pandas.tseries.index.DatetimeIndex'>\n",
        "[2009-07-20 00:00:00.045000, ..., 2009-07-20 00:30:00.018000]\n",
        "Length: 14063, Freq: None, Timezone: None"
       ]
      }
     ],
     "prompt_number": 75
    },
    {
     "cell_type": "code",
     "collapsed": false,
     "input": [
      "from scipy.interpolate import UnivariateSpline as UniSpline"
     ],
     "language": "python",
     "metadata": {},
     "outputs": [],
     "prompt_number": 76
    },
    {
     "cell_type": "code",
     "collapsed": false,
     "input": [
      "times = pd.Index(times).values.astype('float64')"
     ],
     "language": "python",
     "metadata": {},
     "outputs": [],
     "prompt_number": 92
    },
    {
     "cell_type": "code",
     "collapsed": false,
     "input": [
      "times = pd.Index(times)"
     ],
     "language": "python",
     "metadata": {},
     "outputs": [],
     "prompt_number": 123
    },
    {
     "cell_type": "code",
     "collapsed": false,
     "input": [
      "s = UniSpline(times.values.astype('float'), array(c3d1),s=0.5,k=2)"
     ],
     "language": "python",
     "metadata": {},
     "outputs": [],
     "prompt_number": 132
    },
    {
     "cell_type": "code",
     "collapsed": false,
     "input": [
      "gains_extrapol = pd.Series(s(newind.values.astype('float64')),index=newind)"
     ],
     "language": "python",
     "metadata": {},
     "outputs": [],
     "prompt_number": 133
    },
    {
     "cell_type": "code",
     "collapsed": false,
     "input": [
      "gains_calib_data = pd.Series(c3d1,index=times)"
     ],
     "language": "python",
     "metadata": {},
     "outputs": [],
     "prompt_number": 117
    },
    {
     "cell_type": "code",
     "collapsed": false,
     "input": [
      "clf()\n",
      "gains_calib_data.plot(style='*')"
     ],
     "language": "python",
     "metadata": {},
     "outputs": [
      {
       "output_type": "pyout",
       "prompt_number": 119,
       "text": [
        "<matplotlib.axes.AxesSubplot at 0x1fddd6b90>"
       ]
      }
     ],
     "prompt_number": 119
    },
    {
     "cell_type": "code",
     "collapsed": false,
     "input": [
      "gains_extrapol.plot()"
     ],
     "language": "python",
     "metadata": {},
     "outputs": [
      {
       "output_type": "pyout",
       "prompt_number": 134,
       "text": [
        "<matplotlib.axes.AxesSubplot at 0x1fddd6b90>"
       ]
      }
     ],
     "prompt_number": 134
    },
    {
     "cell_type": "code",
     "collapsed": false,
     "input": [
      "pd.Index(times)"
     ],
     "language": "python",
     "metadata": {},
     "outputs": [
      {
       "output_type": "pyout",
       "prompt_number": 116,
       "text": [
        "<class 'pandas.tseries.index.DatetimeIndex'>\n",
        "[2009-07-20 00:03:06.607999, ..., 2009-07-20 00:22:17.607999]\n",
        "Length: 3, Freq: None, Timezone: None"
       ]
      }
     ],
     "prompt_number": 116
    },
    {
     "cell_type": "code",
     "collapsed": false,
     "input": [],
     "language": "python",
     "metadata": {},
     "outputs": []
    }
   ],
   "metadata": {}
  }
 ]
}