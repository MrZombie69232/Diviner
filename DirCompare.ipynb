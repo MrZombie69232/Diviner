{
 "metadata": {
  "name": "DirCompare"
 },
 "nbformat": 3,
 "nbformat_minor": 0,
 "worksheets": [
  {
   "cells": [
    {
     "cell_type": "code",
     "collapsed": false,
     "input": [
      "import os"
     ],
     "language": "python",
     "metadata": {},
     "outputs": []
    },
    {
     "cell_type": "code",
     "collapsed": false,
     "input": [
      "os.walk?"
     ],
     "language": "python",
     "metadata": {},
     "outputs": []
    },
    {
     "cell_type": "code",
     "collapsed": false,
     "input": [
      "top_drobo = \"/Volumes/Drobo/BigDisk_backup/\"\n",
      "top_disk = \"/Volumes/BigDisk/\""
     ],
     "language": "python",
     "metadata": {},
     "outputs": []
    },
    {
     "cell_type": "code",
     "collapsed": false,
     "input": [
      "import itertools"
     ],
     "language": "python",
     "metadata": {},
     "outputs": []
    },
    {
     "cell_type": "code",
     "collapsed": false,
     "input": [
      "diff_counter = 0\n",
      "for a,b in itertools.izip(os.walk(top_drobo),os.walk(top_disk)):\n",
      "    print a[1]\n",
      "    if a[1].sort() != b[1].sort():\n",
      "        diff_counter +=1\n",
      "        print \"Found difference in {0},{1}\".format(a[0],a[1])\n",
      "    if diff_counter == 0:\n",
      "        print \"All fine.\""
     ],
     "language": "python",
     "metadata": {},
     "outputs": []
    },
    {
     "cell_type": "code",
     "collapsed": false,
     "input": [],
     "language": "python",
     "metadata": {},
     "outputs": []
    }
   ],
   "metadata": {}
  }
 ]
}