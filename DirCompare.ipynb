{
 "metadata": {
  "name": "DirCompare"
 },
 "nbformat": 3,
 "nbformat_minor": 0,
 "worksheets": [
  {
   "cells": [
    {
     "cell_type": "code",
     "collapsed": false,
     "input": [
      "import os"
     ],
     "language": "python",
     "metadata": {},
     "outputs": [],
     "prompt_number": 1
    },
    {
     "cell_type": "code",
     "collapsed": false,
     "input": [
      "os.walk?"
     ],
     "language": "python",
     "metadata": {},
     "outputs": [],
     "prompt_number": 2
    },
    {
     "cell_type": "code",
     "collapsed": false,
     "input": [
      "top_drobo = \"/Volumes/Drobo/BigDisk_backup/\"\n",
      "top_disk = \"/Volumes/BigDisk/\""
     ],
     "language": "python",
     "metadata": {},
     "outputs": [],
     "prompt_number": 25
    },
    {
     "cell_type": "code",
     "collapsed": false,
     "input": [
      "import itertools"
     ],
     "language": "python",
     "metadata": {},
     "outputs": [],
     "prompt_number": 26
    },
    {
     "cell_type": "code",
     "collapsed": false,
     "input": [
      "diff_counter = 0\n",
      "for a,b in itertools.izip(os.walk(top_drobo),os.walk(top_disk)):\n",
      "    print a[1]\n",
      "    if a[1].sort() != b[1].sort():\n",
      "        diff_counter +=1\n",
      "        print \"Found difference in {0},{1}\".format(a[0],a[1])\n",
      "    if diff_counter == 0:\n",
      "        print \"All fine.\""
     ],
     "language": "python",
     "metadata": {},
     "outputs": [
      {
       "output_type": "stream",
       "stream": "stdout",
       "text": [
        "['a_work_merged_DT_LT', 'Data', 'Images', 'ISIS_perl-pros', 'iTunes', 'My_Documents_from_DT', 'myIDLpros', 'myPy', 'PHOTOS']\n",
        "All fine.\n",
        "['AARHUS-TESTS', 'HiRISE_data', 'PHIRE-2_lab', 'pictures_brdf_ices']"
       ]
      },
      {
       "output_type": "stream",
       "stream": "stdout",
       "text": [
        "\n",
        "All fine.\n",
        "['Aarhus-CO2-tests-2010', 'Aarhus-CO2-tests-2011', 'Aarhus-CO2-tests-March2012', 'Aarhus_video_day1', 'Aarhus_video_day2', 'AWTSII cooling 3 1-12-2010', 'AWTSII cooling 3 2-12-2010']"
       ]
      },
      {
       "output_type": "stream",
       "stream": "stdout",
       "text": [
        "\n",
        "All fine.\n",
        "[]"
       ]
      },
      {
       "output_type": "stream",
       "stream": "stdout",
       "text": [
        "\n",
        "All fine.\n",
        "[]\n",
        "All fine.\n",
        "['Aarhus_2011_video_day1', 'Aarhus_2011_video_day2']\n",
        "All fine.\n",
        "[]"
       ]
      },
      {
       "output_type": "stream",
       "stream": "stdout",
       "text": [
        "\n",
        "All fine.\n",
        "[]"
       ]
      },
      {
       "output_type": "stream",
       "stream": "stdout",
       "text": [
        "\n",
        "All fine.\n",
        "['Aarhus_CO2_log-2011-06', 'day1_big_camera', 'day1_microscope', 'day1_middle_camera', 'day2_big_camera', 'day2_microscope', 'day2_middle_camera', 'day3_big_camera', 'day3_microscope', 'day3_middle_camera', 'day4_big_camera', 'day4_microscope', 'day4_middle_camera', 'day5_big_camera', 'day5_microscope', 'day5_middle_camera', 'fitted_micro_images', 'Lab book', 'selected movies', 'selected pics', 'WT log']\n",
        "All fine.\n",
        "['day1_first_logs']"
       ]
      },
      {
       "output_type": "stream",
       "stream": "stdout",
       "text": [
        "\n",
        "All fine.\n",
        "[]\n",
        "All fine.\n",
        "[]"
       ]
      },
      {
       "output_type": "stream",
       "stream": "stdout",
       "text": [
        "\n",
        "All fine.\n",
        "[]"
       ]
      },
      {
       "output_type": "stream",
       "stream": "stdout",
       "text": [
        "\n",
        "All fine.\n",
        "[]"
       ]
      },
      {
       "output_type": "stream",
       "stream": "stdout",
       "text": [
        "\n",
        "All fine.\n",
        "[]"
       ]
      },
      {
       "output_type": "stream",
       "stream": "stdout",
       "text": [
        "\n",
        "All fine.\n",
        "[]"
       ]
      },
      {
       "output_type": "stream",
       "stream": "stdout",
       "text": [
        "\n",
        "All fine.\n",
        "[]"
       ]
      },
      {
       "output_type": "stream",
       "stream": "stdout",
       "text": [
        "\n",
        "All fine.\n",
        "[]\n",
        "All fine.\n",
        "[]\n",
        "All fine.\n",
        "[]\n",
        "All fine.\n",
        "[]"
       ]
      },
      {
       "output_type": "stream",
       "stream": "stdout",
       "text": [
        "\n",
        "All fine.\n",
        "[]"
       ]
      },
      {
       "output_type": "stream",
       "stream": "stdout",
       "text": [
        "\n",
        "All fine.\n",
        "[]\n",
        "All fine.\n",
        "[]"
       ]
      },
      {
       "output_type": "stream",
       "stream": "stdout",
       "text": [
        "\n",
        "All fine.\n",
        "[]"
       ]
      },
      {
       "output_type": "stream",
       "stream": "stdout",
       "text": [
        "\n",
        "All fine.\n",
        "[]"
       ]
      },
      {
       "output_type": "stream",
       "stream": "stdout",
       "text": [
        "\n",
        "All fine.\n",
        "[]\n",
        "All fine.\n",
        "[]\n",
        "All fine.\n",
        "[]\n",
        "All fine.\n",
        "[]\n",
        "All fine.\n",
        "[]\n",
        "All fine.\n",
        "['2012-03-19-CO2-ice', '2012-03-20-CO2-ice', '2012-03-21-CO2-ice', '2012-03-22-CO2-ice', '2012-03-23-CO2-ice', '2012-03-big-camera', '2012-03-co2-spectral-irradiance', '2012-03-console log', '2012-03-lab book']"
       ]
      },
      {
       "output_type": "stream",
       "stream": "stdout",
       "text": [
        "\n",
        "All fine.\n",
        "[]"
       ]
      },
      {
       "output_type": "stream",
       "stream": "stdout",
       "text": [
        "\n",
        "All fine.\n",
        "['2012-03-20-JVC-video', '2012-03-20-microscope1-stills', '2012-03-20-microscope1-videos', '2012-03-20-microscope2-videos']"
       ]
      },
      {
       "output_type": "stream",
       "stream": "stdout",
       "text": [
        "\n",
        "All fine.\n",
        "[]\n",
        "All fine.\n",
        "[]"
       ]
      },
      {
       "output_type": "stream",
       "stream": "stdout",
       "text": [
        "\n",
        "All fine.\n",
        "[]"
       ]
      },
      {
       "output_type": "stream",
       "stream": "stdout",
       "text": [
        "\n",
        "All fine.\n",
        "[]"
       ]
      },
      {
       "output_type": "stream",
       "stream": "stdout",
       "text": [
        "\n",
        "All fine.\n",
        "['2012-03-21-JVC-video', '2012-03-21-microscope1-stills', '2012-03-21-microscope1-videos', '2012-03-21-microscope2-stills', '2012-03-21-microscope2-videos']\n",
        "All fine.\n",
        "[]"
       ]
      },
      {
       "output_type": "stream",
       "stream": "stdout",
       "text": [
        "\n",
        "All fine.\n",
        "[]\n",
        "All fine.\n",
        "[]\n",
        "All fine.\n",
        "[]"
       ]
      },
      {
       "output_type": "stream",
       "stream": "stdout",
       "text": [
        "\n",
        "All fine.\n",
        "[]\n",
        "All fine.\n",
        "['2012-03-22-JVC-video', '2012-03-22-microscope1-stills', '2012-03-22-microscope1-videos']\n",
        "All fine.\n",
        "[]\n",
        "All fine.\n",
        "[]"
       ]
      },
      {
       "output_type": "stream",
       "stream": "stdout",
       "text": [
        "\n",
        "All fine.\n",
        "[]\n",
        "All fine.\n",
        "['2012-03-23-microscope1-stills']\n",
        "All fine.\n",
        "[]\n",
        "All fine.\n",
        "[]\n",
        "All fine.\n",
        "['19 3 2012', '20 3 2012', '21 3 2012', '22 3 2012', '23 3 2012', 'spectroscope-support-files']\n",
        "All fine.\n",
        "[]\n",
        "All fine.\n",
        "[]"
       ]
      },
      {
       "output_type": "stream",
       "stream": "stdout",
       "text": [
        "\n",
        "All fine.\n",
        "[]"
       ]
      },
      {
       "output_type": "stream",
       "stream": "stdout",
       "text": [
        "\n",
        "All fine.\n",
        "[]\n",
        "All fine.\n",
        "[]"
       ]
      },
      {
       "output_type": "stream",
       "stream": "stdout",
       "text": [
        "\n",
        "All fine.\n",
        "[]"
       ]
      },
      {
       "output_type": "stream",
       "stream": "stdout",
       "text": [
        "\n",
        "All fine.\n",
        "[]"
       ]
      },
      {
       "output_type": "stream",
       "stream": "stdout",
       "text": [
        "\n",
        "All fine.\n",
        "[]\n",
        "All fine.\n",
        "[]\n",
        "All fine.\n",
        "[]\n",
        "All fine.\n",
        "['HiRISE_DTMs', 'HiRISE_JP2', 'HiRISE_jpgs', 'HiRISE_posters_Alex', 'processed_data', 'PSP_005993_0985']"
       ]
      },
      {
       "output_type": "stream",
       "stream": "stdout",
       "text": [
        "\n",
        "All fine.\n",
        "[]\n",
        "All fine.\n",
        "[]\n",
        "All fine.\n",
        "['ice_in_craters', 'North_dunes', 'raznoe', 'South Pole']\n",
        "All fine.\n",
        "['NP_avalanches', 'sf01']"
       ]
      },
      {
       "output_type": "stream",
       "stream": "stdout",
       "text": [
        "\n",
        "All fine.\n",
        "[]\n",
        "All fine.\n",
        "[]\n",
        "All fine.\n",
        "['2010', 'CO2_slab_cracks', 'Giza', 'IncaCity', 'Ithaca', 'Richardson_dunes', 'Starburst', 'SwissCheese']\n",
        "All fine.\n",
        "[]\n",
        "All fine.\n",
        "[]\n",
        "All fine.\n",
        "[]\n",
        "All fine.\n",
        "['cones', 'CRISM', 'IC_in_2010', 'THEMIS data']"
       ]
      },
      {
       "output_type": "stream",
       "stream": "stdout",
       "text": [
        "\n",
        "All fine.\n",
        "[]\n",
        "All fine.\n",
        "[]\n",
        "All fine.\n",
        "[]"
       ]
      },
      {
       "output_type": "stream",
       "stream": "stdout",
       "text": [
        "\n",
        "All fine.\n",
        "[]\n",
        "All fine.\n",
        "[]\n",
        "All fine.\n",
        "[]\n",
        "All fine.\n",
        "[]\n",
        "All fine.\n",
        "[]"
       ]
      },
      {
       "output_type": "stream",
       "stream": "stdout",
       "text": [
        "\n",
        "All fine.\n",
        "['Louth_crater']\n",
        "All fine.\n",
        "[]\n",
        "All fine.\n",
        "[]\n",
        "All fine.\n",
        "[]"
       ]
      },
      {
       "output_type": "stream",
       "stream": "stdout",
       "text": [
        "\n",
        "All fine.\n",
        "[]\n",
        "All fine.\n",
        "['NP_Grumman', 'spiceinfo']\n",
        "All fine.\n",
        "[]\n",
        "All fine.\n",
        "[]"
       ]
      },
      {
       "output_type": "stream",
       "stream": "stdout",
       "text": [
        "\n",
        "All fine.\n",
        "['Glas', 'glass bubbles', 'Microscope_H2OandCO2', 'pictures_brdf_ices', 'Salt', 'Snowandice']\n",
        "All fine.\n",
        "[]\n",
        "All fine.\n",
        "[]"
       ]
      },
      {
       "output_type": "stream",
       "stream": "stdout",
       "text": [
        "\n",
        "All fine.\n",
        "[]\n",
        "All fine.\n",
        "[]\n",
        "All fine.\n",
        "[]\n",
        "All fine.\n",
        "[]\n",
        "All fine.\n",
        "[]"
       ]
      },
      {
       "output_type": "stream",
       "stream": "stdout",
       "text": [
        "\n",
        "All fine.\n",
        "[]"
       ]
      },
      {
       "output_type": "stream",
       "stream": "stdout",
       "text": [
        "\n",
        "All fine.\n",
        "['art', 'clouds', 'deco', 'fashion', 'fitness', 'forStock', 'FUN', 'haircut', 'i-Phone_pics', 'Invitations', 'mycreations140207', 'old_paper_examples', 'PostersVintage', 'rasnoe', 'science_fun', 'scientific_pics', 'selfmade_cards', 'vector_graphics', 'wallpapers']\n",
        "All fine.\n",
        "[]\n",
        "All fine.\n",
        "[]\n",
        "All fine.\n",
        "[]\n",
        "All fine.\n",
        "['Japanese_art', 'photo_art']\n",
        "All fine.\n",
        "[]"
       ]
      },
      {
       "output_type": "stream",
       "stream": "stdout",
       "text": [
        "\n",
        "All fine.\n",
        "['Leibowitz', 'macrocosm', 'Masao Yamamoto']\n",
        "All fine.\n",
        "['Gallianos_backstage']\n",
        "All fine.\n",
        "[]\n",
        "All fine.\n",
        "[]\n",
        "All fine.\n",
        "[]\n",
        "All fine.\n",
        "[]\n",
        "All fine.\n",
        "['christmass2010', 'color_inspirations', 'interior', 'small_things', 'Table_party', 'wall_decor']\n",
        "All fine.\n",
        "[]"
       ]
      },
      {
       "output_type": "stream",
       "stream": "stdout",
       "text": [
        "\n",
        "All fine.\n",
        "['WP_party']\n",
        "All fine.\n",
        "[]\n",
        "All fine.\n",
        "[]\n",
        "All fine.\n",
        "['interior2']\n",
        "All fine.\n",
        "[]\n",
        "All fine.\n",
        "[]"
       ]
      },
      {
       "output_type": "stream",
       "stream": "stdout",
       "text": [
        "\n",
        "All fine.\n",
        "[]\n",
        "All fine.\n",
        "['dream_shoes', 'mu2010', 'YSL_Fall_2010']\n",
        "All fine.\n",
        "[]\n",
        "All fine.\n",
        "[]\n",
        "All fine.\n",
        "[]\n",
        "All fine.\n",
        "[]\n",
        "All fine.\n",
        "[]"
       ]
      },
      {
       "output_type": "stream",
       "stream": "stdout",
       "text": [
        "\n",
        "All fine.\n",
        "[]\n",
        "All fine.\n",
        "[]\n",
        "All fine.\n",
        "[]\n",
        "All fine.\n",
        "[]\n",
        "All fine.\n",
        "['DT_raznoe']\n",
        "All fine.\n",
        "[]\n",
        "All fine.\n",
        "[]"
       ]
      },
      {
       "output_type": "stream",
       "stream": "stdout",
       "text": [
        "\n",
        "All fine.\n",
        "['dendrites on terrrestrial ice', 'Mars_diverse_images']\n",
        "All fine.\n",
        "[]\n",
        "All fine.\n",
        "[]\n",
        "All fine.\n",
        "[]\n",
        "All fine.\n",
        "[]\n",
        "All fine.\n",
        "[]"
       ]
      },
      {
       "output_type": "stream",
       "stream": "stdout",
       "text": [
        "\n",
        "All fine.\n",
        "['banking', 'Candy_Yves_meeting_Bern', 'CRISM', 'dats', 'docs_personal', 'documents_ASCII', 'documents_DOCs', 'documents_EXEL', 'documents_PDFs', 'documents_PPTs', 'Lindau_address_book', 'My Dropbox', 'my_plots', 'MY_scientific_papers', 'NPP_application', 'personal_docs', 'phoenics_models', 'presentations']\n",
        "All fine.\n",
        "['north_dunes_crism']\n",
        "All fine.\n",
        "[]\n",
        "All fine.\n",
        "['Graphs Betas', 'Yves']\n",
        "All fine.\n",
        "['ESPs', 'PSPs']\n",
        "All fine.\n",
        "[]"
       ]
      },
      {
       "output_type": "stream",
       "stream": "stdout",
       "text": [
        "\n",
        "All fine.\n",
        "[]\n",
        "All fine.\n",
        "[]\n",
        "All fine.\n",
        "[]\n",
        "All fine.\n",
        "['20080619_jahrebuch06', '2008_lee_waves_paper', '2008_PhDAbstract', '2008_SPICE presentation', '2009_05_26_fan_height', '2009_10_02_HiRISE_IcarusIssue', '2009_11_26_Herschel_AdGeo_paper', '2009_11_27_Herschel_AdGeo_paper', '2009_Portugal_proposals', '2010_01_01_Konrad', '2010_03_01_LPSC2010', '2010_05_01_Cracks', '2010_11_26_Paris_atmosphere', 'Abstracts_posters_talks', 'Anya_produced_eps', 'Anya_produced_pdfs']"
       ]
      },
      {
       "output_type": "stream",
       "stream": "stdout",
       "text": [
        "\n",
        "All fine.\n",
        "[]\n",
        "All fine.\n",
        "[]"
       ]
      },
      {
       "output_type": "stream",
       "stream": "stdout",
       "text": [
        "\n",
        "All fine.\n",
        "[]\n",
        "All fine.\n",
        "['lee_waves_paper_old']\n",
        "All fine.\n",
        "['lee_waves']"
       ]
      },
      {
       "output_type": "stream",
       "stream": "stdout",
       "text": [
        "\n",
        "All fine.\n",
        "[]\n",
        "All fine.\n",
        "[]\n",
        "All fine.\n",
        "['Icarus_paper_spiders_old', 'images', 'reviews', 'revision01', 'revision01_160109_Makunudu', 'revision02_180509', 'spare_files_260509', 'spiders_paper_forIcarus', 'version_190909', 'version_190909_to_send', 'version_from_laptop', 'version_from_laptop_160109', 'version_from_laptop_270509']"
       ]
      },
      {
       "output_type": "stream",
       "stream": "stdout",
       "text": [
        "\n",
        "All fine.\n",
        "['images']\n",
        "All fine.\n",
        "['old']"
       ]
      },
      {
       "output_type": "stream",
       "stream": "stdout",
       "text": [
        "\n",
        "All fine.\n",
        "[]\n",
        "All fine.\n",
        "['old']\n",
        "All fine.\n",
        "[]\n",
        "All fine.\n",
        "[]\n",
        "All fine.\n",
        "[]\n",
        "All fine.\n",
        "[]\n",
        "All fine.\n",
        "[]\n",
        "All fine.\n",
        "[]\n",
        "All fine.\n",
        "['images', 'lineno', 'Spider_paper_befire Wojtek', 'spiders_paper_forIcarus_evenOLDER', 'spiders_paper_OLD']\n",
        "All fine.\n",
        "[]\n",
        "All fine.\n",
        "['old']"
       ]
      },
      {
       "output_type": "stream",
       "stream": "stdout",
       "text": [
        "\n",
        "All fine.\n",
        "[]\n",
        "All fine.\n",
        "[]\n",
        "All fine.\n",
        "['new_plots', 'pics_spiders']\n",
        "All fine.\n",
        "[]\n",
        "All fine.\n",
        "['comparison', 'konrad']"
       ]
      },
      {
       "output_type": "stream",
       "stream": "stdout",
       "text": [
        "\n",
        "All fine.\n",
        "[]\n",
        "All fine.\n",
        "[]\n",
        "All fine.\n",
        "['images']\n",
        "All fine.\n",
        "['old']\n",
        "All fine.\n",
        "[]\n",
        "All fine.\n",
        "['images']\n",
        "All fine.\n",
        "[]\n",
        "All fine.\n",
        "['images']\n",
        "All fine.\n",
        "[]\n",
        "All fine.\n",
        "[]"
       ]
      },
      {
       "output_type": "stream",
       "stream": "stdout",
       "text": [
        "\n",
        "All fine.\n",
        "[]\n",
        "All fine.\n",
        "[]\n",
        "All fine.\n",
        "[]\n",
        "All fine.\n",
        "['for_submition', 'old_plots']\n",
        "All fine.\n",
        "[]\n",
        "All fine.\n",
        "[]\n",
        "All fine.\n",
        "[]\n",
        "All fine.\n",
        "['plots_010610', 'ppwk']\n",
        "All fine.\n",
        "[]\n",
        "All fine.\n",
        "['070205', 'Classes2', 'konrad', 'notused']\n",
        "All fine.\n",
        "[]\n",
        "All fine.\n",
        "[]"
       ]
      },
      {
       "output_type": "stream",
       "stream": "stdout",
       "text": [
        "\n",
        "All fine.\n",
        "[]\n",
        "All fine.\n",
        "[]\n",
        "All fine.\n",
        "[]\n",
        "All fine.\n",
        "[]\n",
        "All fine.\n",
        "[]"
       ]
      },
      {
       "output_type": "stream",
       "stream": "stdout",
       "text": [
        "\n",
        "All fine.\n",
        "['Davos06', 'Dps05', 'EGU09', 'Europlanet06', 'LPSC2010', 'LPSC2010_ice_cracks', 'Vienna05']\n",
        "All fine.\n",
        "['DAVOS', 'GRAPHER2', 'MathCaDfiles', 'OMEGA']\n",
        "All fine.\n",
        "[]\n",
        "All fine.\n",
        "['INFO', 'INSTALL', 'REG', 'Samples', 'Scripter', 'Symbols', 'Template']\n",
        "All fine.\n",
        "[]\n",
        "All fine.\n",
        "[]\n",
        "All fine.\n",
        "[]\n",
        "All fine.\n",
        "[]\n",
        "All fine.\n",
        "[]\n",
        "All fine.\n",
        "[]\n",
        "All fine.\n",
        "[]\n",
        "All fine.\n",
        "['New Folder']"
       ]
      },
      {
       "output_type": "stream",
       "stream": "stdout",
       "text": [
        "\n",
        "All fine.\n",
        "[]\n",
        "All fine.\n",
        "[]\n",
        "All fine.\n",
        "[]\n",
        "All fine.\n",
        "['2yearsdifference']\n",
        "All fine.\n",
        "[]\n",
        "All fine.\n",
        "[]\n",
        "All fine.\n",
        "['lpsc_template-1_1']\n",
        "All fine.\n",
        "['old_template']"
       ]
      },
      {
       "output_type": "stream",
       "stream": "stdout",
       "text": [
        "\n",
        "All fine.\n",
        "[]\n",
        "All fine.\n",
        "[]\n",
        "All fine.\n",
        "[]\n",
        "All fine.\n",
        "[]"
       ]
      },
      {
       "output_type": "stream",
       "stream": "stdout",
       "text": [
        "\n",
        "All fine.\n",
        "[]\n",
        "All fine.\n",
        "['2010_05_01_Cracks', 'Dropbox_docs', 'Familyfolder', 'mathcad', 'Photos', 'PIG_UBE', 'Presentations', 'Public', 'spice_forMars', 'SternchenAndMe', 'UBE', 'winds_Nathan']\n",
        "All fine.\n",
        "[]"
       ]
      },
      {
       "output_type": "stream",
       "stream": "stdout",
       "text": [
        "\n",
        "All fine.\n",
        "['2010_01_01_Konrad']\n",
        "All fine.\n",
        "['plots_010610']"
       ]
      },
      {
       "output_type": "stream",
       "stream": "stdout",
       "text": [
        "\n",
        "All fine.\n",
        "[]\n",
        "All fine.\n",
        "['musik']"
       ]
      },
      {
       "output_type": "stream",
       "stream": "stdout",
       "text": [
        "\n",
        "All fine.\n",
        "['morten kjaer', 'Vocal Line']\n",
        "All fine.\n",
        "[]\n",
        "All fine.\n",
        "[]\n",
        "All fine.\n",
        "['Comsol', 'Fans', 'MCS', 'north_dunes_crism']\n",
        "All fine.\n",
        "[]\n",
        "All fine.\n",
        "[]"
       ]
      },
      {
       "output_type": "stream",
       "stream": "stdout",
       "text": [
        "\n",
        "All fine.\n",
        "[]\n",
        "All fine.\n",
        "[]\n",
        "All fine.\n",
        "[]\n",
        "All fine.\n",
        "['2010_03_01_LPSC_Houston', '2010_06_01_Toulouse', '2010_07_17_COSPAR', \"Nick's_lectures\"]"
       ]
      },
      {
       "output_type": "stream",
       "stream": "stdout",
       "text": [
        "\n",
        "All fine.\n",
        "[]\n",
        "All fine.\n",
        "[]\n",
        "All fine.\n",
        "[]\n",
        "All fine.\n",
        "[]\n",
        "All fine.\n",
        "[]\n",
        "All fine.\n",
        "['.teamdrive', 'Autumn_walk_to_Zoo', 'COMSOL stuff', 'FCT_2010', 'Logo', 'mars_lectures']"
       ]
      },
      {
       "output_type": "stream",
       "stream": "stdout",
       "text": [
        "\n",
        "All fine.\n",
        "['.xchgIn', '.xchgOut']\n",
        "All fine.\n",
        "[]\n",
        "All fine.\n",
        "[]\n",
        "All fine.\n",
        "['2010_10_03_Autumn walk to YOO']\n",
        "All fine.\n",
        "[]\n",
        "All fine.\n",
        "[]\n",
        "All fine.\n",
        "[]\n",
        "All fine.\n",
        "['druck 1-farbig', 'druck_cmyk', 'druck_pantone', 'office zum ausdrucken', 'web_RGB']\n",
        "All fine.\n",
        "[]\n",
        "All fine.\n",
        "[]\n",
        "All fine.\n",
        "[]\n",
        "All fine.\n",
        "[]\n",
        "All fine.\n",
        "[]\n",
        "All fine.\n",
        "[]\n",
        "All fine.\n",
        "['BBT']\n",
        "All fine.\n",
        "[]\n",
        "All fine.\n",
        "[]\n",
        "All fine.\n",
        "['SPICE']\n",
        "All fine.\n",
        "['generic_kernels', 'icy']\n",
        "All fine.\n",
        "['fk', 'lsk', 'pck', 'spk']"
       ]
      },
      {
       "output_type": "stream",
       "stream": "stdout",
       "text": [
        "\n",
        "All fine.\n",
        "['planets', 'satellites']\n",
        "All fine.\n",
        "[]\n",
        "All fine.\n",
        "[]\n",
        "All fine.\n",
        "[]\n",
        "All fine.\n",
        "[]\n",
        "All fine.\n",
        "['planets']\n",
        "All fine.\n",
        "[]\n",
        "All fine.\n",
        "['data', 'doc', 'etc', 'exe', 'include', 'lib', 'src']\n",
        "All fine.\n",
        "[]\n",
        "All fine.\n",
        "['html']\n",
        "All fine.\n",
        "['cspice', 'icy', 'info', 'req', 'ug']\n",
        "All fine.\n",
        "[]"
       ]
      },
      {
       "output_type": "stream",
       "stream": "stdout",
       "text": [
        "\n",
        "All fine.\n",
        "[]\n",
        "All fine.\n",
        "[]\n",
        "All fine.\n",
        "[]\n",
        "All fine.\n",
        "[]\n",
        "All fine.\n",
        "[]\n",
        "All fine.\n",
        "[]\n",
        "All fine.\n",
        "[]\n",
        "All fine.\n",
        "[]\n",
        "All fine.\n",
        "['brief_c', 'chrnos_c', 'ckbref_c', 'commnt_c', 'cook_c', 'cspice', 'csupport', 'frmdif_c', 'icy', 'icycook', 'inspkt_c', 'mkspk_c', 'msopck_c', 'spacit_c', 'spkdif_c', 'spkmrg_c', 'tobin_c', 'toxfr_c', 'versn_c']"
       ]
      },
      {
       "output_type": "stream",
       "stream": "stdout",
       "text": [
        "\n",
        "All fine.\n",
        "[]\n",
        "All fine.\n",
        "[]\n",
        "All fine.\n",
        "[]\n",
        "All fine.\n",
        "[]\n",
        "All fine.\n",
        "[]\n",
        "All fine.\n",
        "[]"
       ]
      },
      {
       "output_type": "stream",
       "stream": "stdout",
       "text": [
        "\n",
        "All fine.\n",
        "[]\n",
        "All fine.\n",
        "[]\n",
        "All fine.\n",
        "[]\n",
        "All fine.\n",
        "[]\n",
        "All fine.\n",
        "[]\n",
        "All fine.\n",
        "[]\n",
        "All fine.\n",
        "[]\n",
        "All fine.\n",
        "[]"
       ]
      },
      {
       "output_type": "stream",
       "stream": "stdout",
       "text": [
        "\n",
        "All fine.\n",
        "[]\n",
        "All fine.\n",
        "[]\n",
        "All fine.\n",
        "[]\n",
        "All fine.\n",
        "[]\n",
        "All fine.\n",
        "[]\n",
        "All fine.\n",
        "[]\n",
        "All fine.\n",
        "['NPP_proposal_old']\n",
        "All fine.\n",
        "[]\n",
        "All fine.\n",
        "[]\n",
        "All fine.\n",
        "[]"
       ]
      },
      {
       "output_type": "stream",
       "stream": "stdout",
       "text": [
        "\n",
        "All fine.\n",
        "['scans', 'visas']\n",
        "All fine.\n",
        "[\"Michi's passport\", 'pass photos']"
       ]
      },
      {
       "output_type": "stream",
       "stream": "stdout",
       "text": [
        "\n",
        "All fine.\n",
        "[]\n",
        "All fine.\n",
        "[]\n",
        "All fine.\n",
        "[]\n",
        "All fine.\n",
        "['dats']\n",
        "All fine.\n",
        "[]"
       ]
      },
      {
       "output_type": "stream",
       "stream": "stdout",
       "text": [
        "\n",
        "All fine.\n",
        "[]\n",
        "All fine.\n",
        "[]\n",
        "All fine.\n",
        "['20090902_HiRISE_LPSC_abstracts', 'from_scientific_journals', 'The Martian Surface by Jim Bell Cambridge']"
       ]
      },
      {
       "output_type": "stream",
       "stream": "stdout",
       "text": [
        "\n",
        "All fine.\n",
        "[]\n",
        "All fine.\n",
        "['Chapter 01', 'Chapter 03', 'Chapter 04', 'Chapter 05', 'Chapter 06', 'Chapter 07', 'Chapter 08', 'Chapter 09', 'Chapter 10 pt 1', 'Chapter 10 pt 2', 'Chapter 11', 'Chapter 12', 'Chapter 13 pt 1', 'Chapter 13 pt 2', 'Chapter 14', 'Chapter 15 pt 1', 'Chapter 15 pt 2', 'Chapter 16', 'Chapter 18 pt 1', 'Chapter 18 pt 2', 'Chapter 19', 'Chapter 20', 'Chapter 21', 'Chapter 24', 'Chapter 25', 'Chapter 26', 'Chapter 27', 'zips']"
       ]
      },
      {
       "output_type": "stream",
       "stream": "stdout",
       "text": [
        "\n",
        "All fine.\n",
        "[]\n",
        "All fine.\n",
        "[]\n",
        "All fine.\n",
        "[]\n",
        "All fine.\n",
        "[]\n",
        "All fine.\n",
        "[]\n",
        "All fine.\n",
        "[]\n",
        "All fine.\n",
        "[]\n",
        "All fine.\n",
        "[]\n",
        "All fine.\n",
        "[]\n",
        "All fine.\n",
        "[]\n",
        "All fine.\n",
        "[]\n",
        "All fine.\n",
        "[]\n",
        "All fine.\n",
        "[]\n",
        "All fine.\n",
        "[]\n",
        "All fine.\n",
        "[]"
       ]
      },
      {
       "output_type": "stream",
       "stream": "stdout",
       "text": [
        "\n",
        "All fine.\n",
        "[]\n",
        "All fine.\n",
        "[]\n",
        "All fine.\n",
        "[]\n",
        "All fine.\n",
        "[]\n",
        "All fine.\n",
        "[]\n",
        "All fine.\n",
        "[]\n",
        "All fine.\n",
        "[]"
       ]
      },
      {
       "output_type": "stream",
       "stream": "stdout",
       "text": [
        "\n",
        "All fine.\n",
        "[]\n",
        "All fine.\n",
        "[]\n",
        "All fine.\n",
        "[]\n",
        "All fine.\n",
        "[]\n",
        "All fine.\n",
        "[]"
       ]
      },
      {
       "output_type": "stream",
       "stream": "stdout",
       "text": [
        "\n",
        "All fine.\n",
        "[]\n",
        "All fine.\n",
        "[]\n",
        "All fine.\n",
        "['2003_Les Houches', '2004_fahbeirat', '2004_spider presentation', '2005_09_12_thesis_talk', '2005_for thesis', '2005_Vienna', '2006_05_31_s3seminar', '2007_04_23_Bern', '2007_SPICE presentation', '2008_HIRISE_team_meeting', '2009_04_01_EGUfinal', '2009_06_01_USA', '2009_08_13_AOGS', '2010_01_02_Kobe', '2010_03_01_LPSC_Houston', '2010_06_01_Toulouse', '2010_07_17_COSPAR', '2010_11_fromSuse', 'Europa-Jupiter_system_mission', 'LPSC2011', \"Nick's_lectures\", 'Telecons_with_Nick']\n",
        "All fine.\n",
        "[]\n",
        "All fine.\n",
        "['fach', 'new_fach', 'new_fach2', 'spider presentation']"
       ]
      },
      {
       "output_type": "stream",
       "stream": "stdout",
       "text": [
        "\n",
        "All fine.\n",
        "[]\n",
        "All fine.\n",
        "[]"
       ]
      },
      {
       "output_type": "stream",
       "stream": "stdout",
       "text": [
        "\n",
        "All fine.\n",
        "[]\n",
        "All fine.\n",
        "['Abstract', 'comp', 'rows_layers']\n",
        "All fine.\n",
        "[]\n",
        "All fine.\n",
        "[]\n",
        "All fine.\n",
        "[]\n",
        "All fine.\n",
        "[]\n",
        "All fine.\n",
        "[]\n",
        "All fine.\n",
        "[]\n",
        "All fine.\n",
        "[]\n",
        "All fine.\n",
        "[]"
       ]
      },
      {
       "output_type": "stream",
       "stream": "stdout",
       "text": [
        "\n",
        "All fine.\n",
        "[]\n",
        "All fine.\n",
        "['remote_sensing']\n",
        "All fine.\n",
        "['diagram', 'kernels']"
       ]
      },
      {
       "output_type": "stream",
       "stream": "stdout",
       "text": [
        "\n",
        "All fine.\n",
        "[]\n",
        "All fine.\n",
        "['ck', 'fk', 'ik', 'lsk', 'pck', 'sclk', 'spk']\n",
        "All fine.\n",
        "[]\n",
        "All fine.\n",
        "[]\n",
        "All fine.\n",
        "[]"
       ]
      },
      {
       "output_type": "stream",
       "stream": "stdout",
       "text": [
        "\n",
        "All fine.\n",
        "[]\n",
        "All fine.\n",
        "[]\n",
        "All fine.\n",
        "[]\n",
        "All fine.\n",
        "[]\n",
        "All fine.\n",
        "[]"
       ]
      },
      {
       "output_type": "stream",
       "stream": "stdout",
       "text": [
        "\n",
        "All fine.\n",
        "[]"
       ]
      },
      {
       "output_type": "stream",
       "stream": "stdout",
       "text": [
        "\n",
        "All fine.\n",
        "[]\n",
        "All fine.\n",
        "[]\n",
        "All fine.\n",
        "[]"
       ]
      },
      {
       "output_type": "stream",
       "stream": "stdout",
       "text": [
        "\n",
        "All fine.\n",
        "[]\n",
        "All fine.\n",
        "[]\n",
        "All fine.\n",
        "[]\n",
        "All fine.\n",
        "[]\n",
        "All fine.\n",
        "[]\n",
        "All fine.\n",
        "[]\n",
        "All fine.\n",
        "[]\n",
        "All fine.\n",
        "[]\n",
        "All fine.\n",
        "['Fred_plots', 'LMD_GCM', 'My Pictures', 'spiders_from_MOC']"
       ]
      },
      {
       "output_type": "stream",
       "stream": "stdout",
       "text": [
        "\n",
        "All fine.\n",
        "[]\n",
        "All fine.\n",
        "[]\n",
        "All fine.\n",
        "['$RECYCLE.BIN', 'deco', 'dresses', 'FUN', 'HiRISE_jpgs', 'i-Phone_pics', 'Japanese_art', 'my_plots', 'photo_art', 'scientific)illustrations', 'sov_mult', 'totally_looks_like']\n",
        "All fine.\n",
        "[]\n",
        "All fine.\n",
        "[]\n",
        "All fine.\n",
        "['2010-2011', 'Giza', 'IC', 'Ithaca']\n",
        "All fine.\n",
        "[]\n",
        "All fine.\n",
        "[]\n",
        "All fine.\n",
        "['IC_in_2010']"
       ]
      },
      {
       "output_type": "stream",
       "stream": "stdout",
       "text": [
        "\n",
        "All fine.\n",
        "[]\n",
        "All fine.\n",
        "[]\n",
        "All fine.\n",
        "[]\n",
        "All fine.\n",
        "['christmass2010']"
       ]
      },
      {
       "output_type": "stream",
       "stream": "stdout",
       "text": [
        "\n",
        "All fine.\n",
        "['WP_party']\n",
        "All fine.\n",
        "[]\n",
        "All fine.\n",
        "[]\n",
        "All fine.\n",
        "[]"
       ]
      },
      {
       "output_type": "stream",
       "stream": "stdout",
       "text": [
        "\n",
        "All fine.\n",
        "['LMD_GCM']\n",
        "All fine.\n",
        "[]\n",
        "All fine.\n",
        "['Leibowitz', 'macrocosm', 'Masao Yamamoto']\n",
        "All fine.\n",
        "['Gallianos_backstage']"
       ]
      },
      {
       "output_type": "stream",
       "stream": "stdout",
       "text": [
        "\n",
        "All fine.\n",
        "[]"
       ]
      },
      {
       "output_type": "stream",
       "stream": "stdout",
       "text": [
        "\n",
        "All fine.\n",
        "[]\n",
        "All fine.\n",
        "[]\n",
        "All fine.\n",
        "[]"
       ]
      },
      {
       "output_type": "stream",
       "stream": "stdout",
       "text": [
        "\n",
        "All fine.\n",
        "[]\n",
        "All fine.\n",
        "[]\n",
        "All fine.\n",
        "['244E59S', 'comparing', 'context_images', 'dlya Antona', 'gullies75S52E', 'interesting', 'M03_M04', 'maybe_spiders', 'MOC_R22-S10']"
       ]
      },
      {
       "output_type": "stream",
       "stream": "stdout",
       "text": [
        "\n",
        "All fine.\n",
        "[]\n",
        "All fine.\n",
        "[]\n",
        "All fine.\n",
        "['DarkDunes', 'interesting', 'lon240_360', 'repeat', 'RichardsonDunes', 'WA']"
       ]
      },
      {
       "output_type": "stream",
       "stream": "stdout",
       "text": [
        "\n",
        "All fine.\n",
        "[]\n",
        "All fine.\n",
        "[]"
       ]
      },
      {
       "output_type": "stream",
       "stream": "stdout",
       "text": [
        "\n",
        "All fine.\n",
        "[]\n",
        "All fine.\n",
        "['craters_with_dune&ice']"
       ]
      },
      {
       "output_type": "stream",
       "stream": "stdout",
       "text": [
        "\n",
        "All fine.\n",
        "[]\n",
        "All fine.\n",
        "[]\n",
        "All fine.\n",
        "[]"
       ]
      },
      {
       "output_type": "stream",
       "stream": "stdout",
       "text": [
        "\n",
        "All fine.\n",
        "['247E84S', 'reimaging', 'triangle']\n",
        "All fine.\n",
        "[]"
       ]
      },
      {
       "output_type": "stream",
       "stream": "stdout",
       "text": [
        "\n",
        "All fine.\n",
        "[]"
       ]
      },
      {
       "output_type": "stream",
       "stream": "stdout",
       "text": [
        "\n",
        "All fine.\n",
        "[]\n",
        "All fine.\n",
        "[]"
       ]
      },
      {
       "output_type": "stream",
       "stream": "stdout",
       "text": [
        "\n",
        "All fine.\n",
        "['MOLA_Anton']\n",
        "All fine.\n",
        "[]\n",
        "All fine.\n",
        "[]"
       ]
      },
      {
       "output_type": "stream",
       "stream": "stdout",
       "text": [
        "\n",
        "All fine.\n",
        "[]\n",
        "All fine.\n",
        "[]\n",
        "All fine.\n",
        "['scans']"
       ]
      },
      {
       "output_type": "stream",
       "stream": "stdout",
       "text": [
        "\n",
        "All fine.\n",
        "[\"Anya's passport and AA\", \"Michi's passport\", 'pass photos']\n",
        "All fine.\n",
        "[]"
       ]
      },
      {
       "output_type": "stream",
       "stream": "stdout",
       "text": [
        "\n",
        "All fine.\n",
        "[]\n",
        "All fine.\n",
        "[]\n",
        "All fine.\n",
        "[]\n",
        "All fine.\n",
        "['2003_Les Houches', '2004_fahbeirat', '2004_spider presentation', '2005_09_12_thesis_talk', '2005_for thesis', '2005_Vienna', '2006_05_31_s3seminar', '2007_04_23_Bern', '2007_SPICE presentation', '2008_HIRISE_team_meeting', '2009_04_01_EGUfinal', '2009_06_01_USA', '2009_08_13_AOGS', '2010_01_02_Kobe', '2010_03_01_LPSC_Houston', '2010_06_01_Toulouse', '2010_07_17_COSPAR', '2011_03_01_LPSC', 'Europa-Jupiter_system_mission', \"Nick's_lectures\", 'Telecons_with_Nick']"
       ]
      },
      {
       "output_type": "stream",
       "stream": "stdout",
       "text": [
        "\n",
        "All fine.\n",
        "[]"
       ]
      },
      {
       "output_type": "stream",
       "stream": "stdout",
       "text": [
        "\n",
        "All fine.\n",
        "['fach', 'new_fach', 'new_fach2', 'spider presentation']\n",
        "All fine.\n",
        "[]"
       ]
      },
      {
       "output_type": "stream",
       "stream": "stdout",
       "text": [
        "\n",
        "All fine.\n",
        "[]\n",
        "All fine.\n",
        "[]"
       ]
      },
      {
       "output_type": "stream",
       "stream": "stdout",
       "text": [
        "\n",
        "All fine.\n",
        "['Abstract', 'comp', 'rows_layers']\n",
        "All fine.\n",
        "[]"
       ]
      },
      {
       "output_type": "stream",
       "stream": "stdout",
       "text": [
        "\n",
        "All fine.\n",
        "[]\n",
        "All fine.\n",
        "[]\n",
        "All fine.\n",
        "[]"
       ]
      },
      {
       "output_type": "stream",
       "stream": "stdout",
       "text": [
        "\n",
        "All fine.\n",
        "[]"
       ]
      },
      {
       "output_type": "stream",
       "stream": "stdout",
       "text": [
        "\n",
        "All fine.\n",
        "[]\n",
        "All fine.\n",
        "[]\n",
        "All fine.\n",
        "[]"
       ]
      },
      {
       "output_type": "stream",
       "stream": "stdout",
       "text": [
        "\n",
        "All fine.\n",
        "[]\n",
        "All fine.\n",
        "['remote_sensing']"
       ]
      },
      {
       "output_type": "stream",
       "stream": "stdout",
       "text": [
        "\n",
        "All fine.\n",
        "['diagram', 'kernels']\n",
        "All fine.\n",
        "[]\n",
        "All fine.\n",
        "['ck', 'fk', 'ik', 'lsk', 'pck', 'sclk', 'spk']"
       ]
      },
      {
       "output_type": "stream",
       "stream": "stdout",
       "text": [
        "\n",
        "All fine.\n",
        "[]\n",
        "All fine.\n",
        "[]"
       ]
      },
      {
       "output_type": "stream",
       "stream": "stdout",
       "text": [
        "\n",
        "All fine.\n",
        "[]"
       ]
      },
      {
       "output_type": "stream",
       "stream": "stdout",
       "text": [
        "\n",
        "All fine.\n",
        "[]\n",
        "All fine.\n",
        "[]"
       ]
      },
      {
       "output_type": "stream",
       "stream": "stdout",
       "text": [
        "\n",
        "All fine.\n",
        "[]\n",
        "All fine.\n",
        "[]\n",
        "All fine.\n",
        "[]"
       ]
      },
      {
       "output_type": "stream",
       "stream": "stdout",
       "text": [
        "\n",
        "All fine.\n",
        "[]\n",
        "All fine.\n",
        "[]"
       ]
      },
      {
       "output_type": "stream",
       "stream": "stdout",
       "text": [
        "\n",
        "All fine.\n",
        "[]\n",
        "All fine.\n",
        "[]"
       ]
      },
      {
       "output_type": "stream",
       "stream": "stdout",
       "text": [
        "\n",
        "All fine.\n",
        "[]\n",
        "All fine.\n",
        "[]\n",
        "All fine.\n",
        "[]"
       ]
      },
      {
       "output_type": "stream",
       "stream": "stdout",
       "text": [
        "\n",
        "All fine.\n",
        "[]"
       ]
      },
      {
       "output_type": "stream",
       "stream": "stdout",
       "text": [
        "\n",
        "All fine.\n",
        "[]"
       ]
      },
      {
       "output_type": "stream",
       "stream": "stdout",
       "text": [
        "\n",
        "All fine.\n",
        "[]"
       ]
      },
      {
       "output_type": "stream",
       "stream": "stdout",
       "text": [
        "\n",
        "All fine.\n",
        "[]"
       ]
      },
      {
       "output_type": "stream",
       "stream": "stdout",
       "text": [
        "\n",
        "All fine.\n",
        "['2007_07_07_stock', '2008_01_18_chosen_Wedding_pics', '2008_02_02_Flats', '2008_03_13_flowers,cats,sky_Lindau', '2008_04_02_Granada', '2008_04_27_Thunersee', '2008_05_16_Cleme_Luca_graduation', '2008_07_02_afterrepare', '2008_07_02_cats', '2008_07_07_TO_PRINT', '2008_07_19_Niederhorn', '2008_08_01_Rene_birthday', '2008_08_03_Oeschinensee', '2008_08_08_Anya', \"2008_08_09_Rene's_birthday\", '2008_08_29_Ukraine', '2008_09_02_for_Silvia&Jean', '2008_09_05_Jean&Silvia_wedding', '2008_09_20_Bern_tour', '2008_09_20_Jungfraujoch', '2008_10_05_Gurten', '2008_10_30_polar_group', '2008_10_31_Lensbaby', '2008_10_31_Lensbaby2+einsteinwalk1', '2008_11_29_Florence', '2008_12_14_Snow_in_Bern', '2008_12_22_Night_Bern', \"2008_12_31_The year's 12\", '2009_01_02_Around_NY', '2009_01_27_Makunudu', '2009_02_14_Christina&Kostik_wedding', '2009_02_17_Ksu&Marianna', '2009_03_14_Thunersee_mit_Mutti', '2009_03_15_Geneva_motoshow', '2009_03_24_Nacht der Sterne', '2009_04_13_Verbier', '2009_04_26_Vienna_EGU', '2009_05_16_Indean_evening', '2009_05_23_Outside', '2009_05_29_Ceci_Elias', '2009_06_28_Lakewalk', '2009_07_20_Whitefish', '2009_07_22_Seattle', '2009_08_08_flowers', '2009_08_08_Schwarzenbek', '2009_09_02_Lausanne', '2009_09_06_Einstein_walk2', '2009_09_20_home', '2009_09_29_Crete', '2009_10_10_Tango_shoes', '2009_11_02_Walk', '2009_12_05_My_DRand', '2009_12_13_Freiburg', '2009_12_23_Christmas_by_Rene', '2010_01_02_Japan', '2010_02_24_USA', '2010_04_04_Easter_with_Lena', '2010_04_16_TramiAngelo', '2010_05_01_Ukraine', '2010_05_04_Ukraine_Chrystya', '2010_06_09_Portugal', '2010_06_09_Portugal_iphone', '2010_08_08_Kathi_Philipp_visit', '2010_08_10_Oeschinensee', '2010_08_22_Locarno', '2010_09_01_Bildungsousflug', '2010_09_11_Greek_wedding', '2010_12_16_Christmas_WP', '2010_12_25_Christmas_in_snow', '2010_12_31_iPhonePics', '2011_01_01_Zaur_in_snow', '2011_01_18_3dAnniversary', '2011_02_12_Paris', '2011_02_19_Spring_flowers', '2011_03_19_USA2011', '2011_04_24_Easter_with_Sergey', '2011_04_29_Denmark_visit', '2011_05_01_WardrobeGiveaway', '2011_05_15_Breakfast', '2011_05_21_LensbabyandBag', '2011_06_19_cats', '2011_07_09_Basel_ZOO', '2011_07_17_Spiez_walk', '2011_07_25_UK', '2011_08_20_Santorini', '2011_09_09_Alaska', '2012_01_13_Ardez_NEFs', '2012_02_04_DogDance', '2012_02_22_PapaiZaur', '2012_02_26_Antique', '2012_04_28_Athens', '2012_06_25_MichiVisaPic', '2012_06_30_Hailstone', 'Rafik']"
       ]
      },
      {
       "output_type": "stream",
       "stream": "stdout",
       "text": [
        "\n",
        "All fine.\n",
        "[]\n",
        "All fine.\n",
        "['2008_01_18_Wedding', 'new_wedding_to_print', 'Photos from Kostya', 'web_wedding']"
       ]
      },
      {
       "output_type": "stream",
       "stream": "stdout",
       "text": [
        "\n",
        "All fine.\n",
        "[]\n",
        "All fine.\n",
        "[]"
       ]
      },
      {
       "output_type": "stream",
       "stream": "stdout",
       "text": [
        "\n",
        "All fine.\n",
        "[]\n",
        "All fine.\n",
        "[]"
       ]
      },
      {
       "output_type": "stream",
       "stream": "stdout",
       "text": [
        "\n",
        "All fine.\n",
        "[]"
       ]
      },
      {
       "output_type": "stream",
       "stream": "stdout",
       "text": [
        "\n",
        "All fine.\n",
        "[]"
       ]
      },
      {
       "output_type": "stream",
       "stream": "stdout",
       "text": [
        "\n",
        "All fine.\n",
        "['2008_04_02_Granada_jpgs', 'dobles Granada', 'Granada_web']"
       ]
      },
      {
       "output_type": "stream",
       "stream": "stdout",
       "text": [
        "\n",
        "All fine.\n",
        "[]"
       ]
      },
      {
       "output_type": "stream",
       "stream": "stdout",
       "text": [
        "\n",
        "All fine.\n",
        "[]"
       ]
      },
      {
       "output_type": "stream",
       "stream": "stdout",
       "text": [
        "\n",
        "All fine.\n",
        "[]"
       ]
      },
      {
       "output_type": "stream",
       "stream": "stdout",
       "text": [
        "\n",
        "All fine.\n",
        "['Thunersee_web']\n",
        "All fine.\n",
        "[]"
       ]
      },
      {
       "output_type": "stream",
       "stream": "stdout",
       "text": [
        "\n",
        "All fine.\n",
        "['2008_05_16_Cleme_Luca_graduation_jpgs', '2008_05_16_Cleme_Luca_web', '2008_05_16_doubles']\n",
        "All fine.\n",
        "[]"
       ]
      },
      {
       "output_type": "stream",
       "stream": "stdout",
       "text": [
        "\n",
        "All fine.\n",
        "[]\n",
        "All fine.\n",
        "[]\n",
        "All fine.\n",
        "['2008_07_02_afterrepare_jpgs', '2008_07_02_afterrepare_NEF']"
       ]
      },
      {
       "output_type": "stream",
       "stream": "stdout",
       "text": [
        "\n",
        "All fine.\n",
        "[]\n",
        "All fine.\n",
        "[]"
       ]
      },
      {
       "output_type": "stream",
       "stream": "stdout",
       "text": [
        "\n",
        "All fine.\n",
        "[]\n",
        "All fine.\n",
        "[]"
       ]
      },
      {
       "output_type": "stream",
       "stream": "stdout",
       "text": [
        "\n",
        "All fine.\n",
        "['2007_07_19_Niederhorn_jpgs', '2007_07_19_Niederhorn_NEF']\n",
        "All fine.\n",
        "[]"
       ]
      },
      {
       "output_type": "stream",
       "stream": "stdout",
       "text": [
        "\n",
        "All fine.\n",
        "[]\n",
        "All fine.\n",
        "[]"
       ]
      },
      {
       "output_type": "stream",
       "stream": "stdout",
       "text": [
        "\n",
        "All fine.\n",
        "['2008_08_03_Oeschinensee_jpgs', '2008_08_03_Oeschinensee_NEF']\n",
        "All fine.\n",
        "[]"
       ]
      },
      {
       "output_type": "stream",
       "stream": "stdout",
       "text": [
        "\n",
        "All fine.\n",
        "[]\n",
        "All fine.\n",
        "['nefs']\n",
        "All fine.\n",
        "[]\n",
        "All fine.\n",
        "[\"2008_08_09_Rene's_birthday_jpgs\", \"2008_08_09_Rene's_birthday_NEF\", \"2008_08_09_Rene's_birthday_processed\"]\n",
        "All fine.\n",
        "[]"
       ]
      },
      {
       "output_type": "stream",
       "stream": "stdout",
       "text": [
        "\n",
        "All fine.\n",
        "[]\n",
        "All fine.\n",
        "[]"
       ]
      },
      {
       "output_type": "stream",
       "stream": "stdout",
       "text": [
        "\n",
        "All fine.\n",
        "['2008_08_29_Ukraine_NEF', '2008_08_29_Ukraine_web']\n",
        "All fine.\n",
        "['New Folder']"
       ]
      },
      {
       "output_type": "stream",
       "stream": "stdout",
       "text": [
        "\n",
        "All fine.\n",
        "[]"
       ]
      },
      {
       "output_type": "stream",
       "stream": "stdout",
       "text": [
        "\n",
        "All fine.\n",
        "[]"
       ]
      },
      {
       "output_type": "stream",
       "stream": "stdout",
       "text": [
        "\n",
        "All fine.\n",
        "['withboth']"
       ]
      },
      {
       "output_type": "stream",
       "stream": "stdout",
       "text": [
        "\n",
        "All fine.\n",
        "[]"
       ]
      },
      {
       "output_type": "stream",
       "stream": "stdout",
       "text": [
        "\n",
        "All fine.\n",
        "['Lecce_Otranto_Bari_best', 'Silvia&Jean_RAWs', 'Silvia&Jean_web', 'Wedding_day']"
       ]
      },
      {
       "output_type": "stream",
       "stream": "stdout",
       "text": [
        "\n",
        "All fine.\n",
        "[]"
       ]
      },
      {
       "output_type": "stream",
       "stream": "stdout",
       "text": [
        "\n",
        "All fine.\n",
        "[]"
       ]
      },
      {
       "output_type": "stream",
       "stream": "stdout",
       "text": [
        "\n",
        "All fine.\n",
        "[]"
       ]
      },
      {
       "output_type": "stream",
       "stream": "stdout",
       "text": [
        "\n",
        "All fine.\n",
        "[]\n",
        "All fine.\n",
        "['2009_09_06_Einstein_walk2', 'Bern_tour_RAWs', 'Bern_tour_web']"
       ]
      },
      {
       "output_type": "stream",
       "stream": "stdout",
       "text": [
        "\n",
        "All fine.\n",
        "['NEFS']\n",
        "All fine.\n",
        "[]"
       ]
      },
      {
       "output_type": "stream",
       "stream": "stdout",
       "text": [
        "\n",
        "All fine.\n",
        "[]\n",
        "All fine.\n",
        "[]"
       ]
      },
      {
       "output_type": "stream",
       "stream": "stdout",
       "text": [
        "\n",
        "All fine.\n",
        "['Jungfraujoch_RAWs', 'Jungfraujoch_WEB']"
       ]
      },
      {
       "output_type": "stream",
       "stream": "stdout",
       "text": [
        "\n",
        "All fine.\n",
        "[]"
       ]
      },
      {
       "output_type": "stream",
       "stream": "stdout",
       "text": [
        "\n",
        "All fine.\n",
        "[]\n",
        "All fine.\n",
        "[]"
       ]
      },
      {
       "output_type": "stream",
       "stream": "stdout",
       "text": [
        "\n",
        "All fine.\n",
        "[]\n",
        "All fine.\n",
        "['2008_10_31_Lensbaby_NEF', 'Lensbaby_Bern_Christmas_lights', 'Lensbaby_Bern_outside', 'Lensbaby_home', 'Lensbaby_office', 'Lensbaby_Starbuks', 'Lensbaby_web']"
       ]
      },
      {
       "output_type": "stream",
       "stream": "stdout",
       "text": [
        "\n",
        "All fine.\n",
        "[]"
       ]
      },
      {
       "output_type": "stream",
       "stream": "stdout",
       "text": [
        "\n",
        "All fine.\n",
        "[]\n",
        "All fine.\n",
        "[]"
       ]
      },
      {
       "output_type": "stream",
       "stream": "stdout",
       "text": [
        "\n",
        "All fine.\n",
        "[]"
       ]
      },
      {
       "output_type": "stream",
       "stream": "stdout",
       "text": [
        "\n",
        "All fine.\n",
        "[]\n",
        "All fine.\n",
        "[]"
       ]
      },
      {
       "output_type": "stream",
       "stream": "stdout",
       "text": [
        "\n",
        "All fine.\n",
        "[]"
       ]
      },
      {
       "output_type": "stream",
       "stream": "stdout",
       "text": [
        "\n",
        "All fine.\n",
        "['2008_10_31_Lensbaby2_NEF']\n",
        "All fine.\n",
        "['LB_web']"
       ]
      },
      {
       "output_type": "stream",
       "stream": "stdout",
       "text": [
        "\n",
        "All fine.\n",
        "[]\n",
        "All fine.\n",
        "['2008_11_29_Florence_NEF', '2008_11_29_Florence_web']"
       ]
      },
      {
       "output_type": "stream",
       "stream": "stdout",
       "text": [
        "\n",
        "All fine.\n",
        "[]\n",
        "All fine.\n",
        "[]\n",
        "All fine.\n",
        "['2008_12_14_Snow_in_Bern_NEF', 'Snow_in_Bern_web']\n",
        "All fine.\n",
        "[]\n",
        "All fine.\n",
        "[]"
       ]
      },
      {
       "output_type": "stream",
       "stream": "stdout",
       "text": [
        "\n",
        "All fine.\n",
        "['2008_12_22_Night_Bern_NEFs', '2008_12_22_Night_Bern_web']\n",
        "All fine.\n",
        "[]"
       ]
      },
      {
       "output_type": "stream",
       "stream": "stdout",
       "text": [
        "\n",
        "All fine.\n",
        "[]"
       ]
      },
      {
       "output_type": "stream",
       "stream": "stdout",
       "text": [
        "\n",
        "All fine.\n",
        "[]"
       ]
      },
      {
       "output_type": "stream",
       "stream": "stdout",
       "text": [
        "\n",
        "All fine.\n",
        "['2009_01_02_Around_NY_NEF', '2009_01_02_Around_NY_web']"
       ]
      },
      {
       "output_type": "stream",
       "stream": "stdout",
       "text": [
        "\n",
        "All fine.\n",
        "[]\n",
        "All fine.\n",
        "[]\n",
        "All fine.\n",
        "['2009_01_27_Makunudu_LB', '2009_01_27_Makunudu_NEFs', '2009_01_27_Makunudu_web', \"Michi's\", 'tifs']"
       ]
      },
      {
       "output_type": "stream",
       "stream": "stdout",
       "text": [
        "\n",
        "All fine.\n",
        "[]"
       ]
      },
      {
       "output_type": "stream",
       "stream": "stdout",
       "text": [
        "\n",
        "All fine.\n",
        "[]"
       ]
      },
      {
       "output_type": "stream",
       "stream": "stdout",
       "text": [
        "\n",
        "All fine.\n",
        "[]\n",
        "All fine.\n",
        "[]"
       ]
      },
      {
       "output_type": "stream",
       "stream": "stdout",
       "text": [
        "\n",
        "All fine.\n",
        "[]\n",
        "All fine.\n",
        "['100PENTX']\n",
        "All fine.\n",
        "[]"
       ]
      },
      {
       "output_type": "stream",
       "stream": "stdout",
       "text": [
        "\n",
        "All fine.\n",
        "['NEFS']\n",
        "All fine.\n",
        "[]\n",
        "All fine.\n",
        "['2009_03_14_Thunersee_mit_Mutti_NEFs', '2009_03_14_Thunersee_mit_Mutti_web']"
       ]
      },
      {
       "output_type": "stream",
       "stream": "stdout",
       "text": [
        "\n",
        "All fine.\n",
        "[]"
       ]
      },
      {
       "output_type": "stream",
       "stream": "stdout",
       "text": [
        "\n",
        "All fine.\n",
        "[]\n",
        "All fine.\n",
        "['2009_03_15_Geneva_motoshow_NEFs']"
       ]
      },
      {
       "output_type": "stream",
       "stream": "stdout",
       "text": [
        "\n",
        "All fine.\n",
        "[]\n",
        "All fine.\n",
        "[]"
       ]
      },
      {
       "output_type": "stream",
       "stream": "stdout",
       "text": [
        "\n",
        "All fine.\n",
        "['2009_04_13_Verbier_NEFs', '2009_04_13_Verbier_web']\n",
        "All fine.\n",
        "[]"
       ]
      },
      {
       "output_type": "stream",
       "stream": "stdout",
       "text": [
        "\n",
        "All fine.\n",
        "[]"
       ]
      },
      {
       "output_type": "stream",
       "stream": "stdout",
       "text": [
        "\n",
        "All fine.\n",
        "['2009_04_26_Vienna_EGU_NEFs']\n",
        "All fine.\n",
        "[]\n",
        "All fine.\n",
        "[]"
       ]
      },
      {
       "output_type": "stream",
       "stream": "stdout",
       "text": [
        "\n",
        "All fine.\n",
        "['2009_05_23_Outside_NEFs']\n",
        "All fine.\n",
        "[]"
       ]
      },
      {
       "output_type": "stream",
       "stream": "stdout",
       "text": [
        "\n",
        "All fine.\n",
        "['2009_05_29_Ceci_Elias_NEFs', '2009_05_29_Ceci_Elias_WEB', 'to_process', 'Torino', 'Torino_WEB']\n",
        "All fine.\n",
        "[]"
       ]
      },
      {
       "output_type": "stream",
       "stream": "stdout",
       "text": [
        "\n",
        "All fine.\n",
        "['TIFs']\n",
        "All fine.\n",
        "['b&w']"
       ]
      },
      {
       "output_type": "stream",
       "stream": "stdout",
       "text": [
        "\n",
        "All fine.\n",
        "[]\n",
        "All fine.\n",
        "[]"
       ]
      },
      {
       "output_type": "stream",
       "stream": "stdout",
       "text": [
        "\n",
        "All fine.\n",
        "[]\n",
        "All fine.\n",
        "[]"
       ]
      },
      {
       "output_type": "stream",
       "stream": "stdout",
       "text": [
        "\n",
        "All fine.\n",
        "['2009_06_28_NEFs']"
       ]
      },
      {
       "output_type": "stream",
       "stream": "stdout",
       "text": [
        "\n",
        "All fine.\n",
        "[]\n",
        "All fine.\n",
        "['2009_07_20_Whitefish_NEFs', '2009_07_20_Whitefish_web']\n",
        "All fine.\n",
        "[]"
       ]
      },
      {
       "output_type": "stream",
       "stream": "stdout",
       "text": [
        "\n",
        "All fine.\n",
        "[]"
       ]
      },
      {
       "output_type": "stream",
       "stream": "stdout",
       "text": [
        "\n",
        "All fine.\n",
        "['2009_07_22_Seattle_NEFs', '2009_07_22_Seattle_web']\n",
        "All fine.\n",
        "[]"
       ]
      },
      {
       "output_type": "stream",
       "stream": "stdout",
       "text": [
        "\n",
        "All fine.\n",
        "[]\n",
        "All fine.\n",
        "['2009_08_08_Schwarzenbek', 'videos']"
       ]
      },
      {
       "output_type": "stream",
       "stream": "stdout",
       "text": [
        "\n",
        "All fine.\n",
        "[]\n",
        "All fine.\n",
        "[]"
       ]
      },
      {
       "output_type": "stream",
       "stream": "stdout",
       "text": [
        "\n",
        "All fine.\n",
        "[]\n",
        "All fine.\n",
        "['2009_09_02_EPFS_NEFs', '2009_09_02_EPFS_TIFs', '2009_09_02_EPFS_web']\n",
        "All fine.\n",
        "[]"
       ]
      },
      {
       "output_type": "stream",
       "stream": "stdout",
       "text": [
        "\n",
        "All fine.\n",
        "[]\n",
        "All fine.\n",
        "[]"
       ]
      },
      {
       "output_type": "stream",
       "stream": "stdout",
       "text": [
        "\n",
        "All fine.\n",
        "['NEFS']\n",
        "All fine.\n",
        "[]"
       ]
      },
      {
       "output_type": "stream",
       "stream": "stdout",
       "text": [
        "\n",
        "All fine.\n",
        "['2009_09_20_home_NEFs']\n",
        "All fine.\n",
        "[]"
       ]
      },
      {
       "output_type": "stream",
       "stream": "stdout",
       "text": [
        "\n",
        "All fine.\n",
        "['2009_09_29_Crete_RAWs', '2009_09_29_Crete_TIFs', '2009_09_29_Crete_web']\n",
        "All fine.\n",
        "[]"
       ]
      },
      {
       "output_type": "stream",
       "stream": "stdout",
       "text": [
        "\n",
        "All fine.\n",
        "[]\n",
        "All fine.\n",
        "[]\n",
        "All fine.\n",
        "[]\n",
        "All fine.\n",
        "['2009_11_02_Walk_NEFs']"
       ]
      },
      {
       "output_type": "stream",
       "stream": "stdout",
       "text": [
        "\n",
        "All fine.\n",
        "[]\n",
        "All fine.\n",
        "['2009_12_05_My_DRand_NEFs']\n",
        "All fine.\n",
        "[]"
       ]
      },
      {
       "output_type": "stream",
       "stream": "stdout",
       "text": [
        "\n",
        "All fine.\n",
        "['2009_12_13_Freiburg_NEFs']"
       ]
      },
      {
       "output_type": "stream",
       "stream": "stdout",
       "text": [
        "\n",
        "All fine.\n",
        "[]\n",
        "All fine.\n",
        "['NEFs']\n",
        "All fine.\n",
        "[]"
       ]
      },
      {
       "output_type": "stream",
       "stream": "stdout",
       "text": [
        "\n",
        "All fine.\n",
        "['20100102_Japan_web', '2010_01_02_Japan_NEFs', '2010_01_17_Japan_web', 'Japan_to_print']"
       ]
      },
      {
       "output_type": "stream",
       "stream": "stdout",
       "text": [
        "\n",
        "All fine.\n",
        "[]\n",
        "All fine.\n",
        "[]\n",
        "All fine.\n",
        "[]"
       ]
      },
      {
       "output_type": "stream",
       "stream": "stdout",
       "text": [
        "\n",
        "All fine.\n",
        "[]\n",
        "All fine.\n",
        "['2010_02_24_USA_NEFs', '2010_02_24_USA_web']"
       ]
      },
      {
       "output_type": "stream",
       "stream": "stdout",
       "text": [
        "\n",
        "All fine.\n",
        "[]"
       ]
      },
      {
       "output_type": "stream",
       "stream": "stdout",
       "text": [
        "\n",
        "All fine.\n",
        "[]\n",
        "All fine.\n",
        "['2010_04_04_Easter_with_Lena_NEFs']"
       ]
      },
      {
       "output_type": "stream",
       "stream": "stdout",
       "text": [
        "\n",
        "All fine.\n",
        "[]"
       ]
      },
      {
       "output_type": "stream",
       "stream": "stdout",
       "text": [
        "\n",
        "All fine.\n",
        "['top10']\n",
        "All fine.\n",
        "[]\n",
        "All fine.\n",
        "[]\n",
        "All fine.\n",
        "[]"
       ]
      },
      {
       "output_type": "stream",
       "stream": "stdout",
       "text": [
        "\n",
        "All fine.\n",
        "['2010_06_08_Portugal_NEFs']\n",
        "All fine.\n",
        "[]\n",
        "All fine.\n",
        "[]\n",
        "All fine.\n",
        "['2010_08_08_Kathi_Philipp_visit_RAWsw']"
       ]
      },
      {
       "output_type": "stream",
       "stream": "stdout",
       "text": [
        "\n",
        "All fine.\n",
        "[]\n",
        "All fine.\n",
        "['2010_08_10_Oeschinensee_RAWs']\n",
        "All fine.\n",
        "[]\n",
        "All fine.\n",
        "['2010_08_22_Locarno_NEFs', '2010_08_22_Locarno_web']"
       ]
      },
      {
       "output_type": "stream",
       "stream": "stdout",
       "text": [
        "\n",
        "All fine.\n",
        "[]\n",
        "All fine.\n",
        "[]"
       ]
      },
      {
       "output_type": "stream",
       "stream": "stdout",
       "text": [
        "\n",
        "All fine.\n",
        "['2010_09_01_Bildungsausflug_NEFs']"
       ]
      },
      {
       "output_type": "stream",
       "stream": "stdout",
       "text": [
        "\n",
        "All fine.\n",
        "[]\n",
        "All fine.\n",
        "['2010_09_11_Greek_wedding_NEFs']\n",
        "All fine.\n",
        "[]"
       ]
      },
      {
       "output_type": "stream",
       "stream": "stdout",
       "text": [
        "\n",
        "All fine.\n",
        "[]\n",
        "All fine.\n",
        "['2010_12_25_Christmas_in_snoe_NEFs']\n",
        "All fine.\n",
        "[]\n",
        "All fine.\n",
        "[]"
       ]
      },
      {
       "output_type": "stream",
       "stream": "stdout",
       "text": [
        "\n",
        "All fine.\n",
        "[]\n",
        "All fine.\n",
        "[]\n",
        "All fine.\n",
        "['2011_02_12_Paris_NEFs']"
       ]
      },
      {
       "output_type": "stream",
       "stream": "stdout",
       "text": [
        "\n",
        "All fine.\n",
        "['Paris_wb']\n",
        "All fine.\n",
        "[]"
       ]
      },
      {
       "output_type": "stream",
       "stream": "stdout",
       "text": [
        "\n",
        "All fine.\n",
        "['2011_02_19_sPRING_FLOWERS_nefS']\n",
        "All fine.\n",
        "[]\n",
        "All fine.\n",
        "['2011_03_19_USA2011_NEFs', 'web']"
       ]
      },
      {
       "output_type": "stream",
       "stream": "stdout",
       "text": [
        "\n",
        "All fine.\n",
        "[]\n",
        "All fine.\n",
        "[]\n",
        "All fine.\n",
        "[]\n",
        "All fine.\n",
        "['20110429_Denmark_visit_NEFs']\n",
        "All fine.\n",
        "[]"
       ]
      },
      {
       "output_type": "stream",
       "stream": "stdout",
       "text": [
        "\n",
        "All fine.\n",
        "['20110501_WardrobeGiveawayNEFs']\n",
        "All fine.\n",
        "[]\n",
        "All fine.\n",
        "['20110515_BreakfastNEFs']\n",
        "All fine.\n",
        "[]\n",
        "All fine.\n",
        "['20110521_LensbabyandBagNEFs']\n",
        "All fine.\n",
        "[]\n",
        "All fine.\n",
        "['20110619_cats_RAWs']\n",
        "All fine.\n",
        "[]"
       ]
      },
      {
       "output_type": "stream",
       "stream": "stdout",
       "text": [
        "\n",
        "All fine.\n",
        "[]\n",
        "All fine.\n",
        "[]\n",
        "All fine.\n",
        "['20110725_UK_NEFs']"
       ]
      },
      {
       "output_type": "stream",
       "stream": "stdout",
       "text": [
        "\n",
        "All fine.\n",
        "[]\n",
        "All fine.\n",
        "['20110820_Santorini_NEFs', 'Santorini for web']"
       ]
      },
      {
       "output_type": "stream",
       "stream": "stdout",
       "text": [
        "\n",
        "All fine.\n",
        "[]\n",
        "All fine.\n",
        "[]"
       ]
      },
      {
       "output_type": "stream",
       "stream": "stdout",
       "text": [
        "\n",
        "All fine.\n",
        "['20110909_Alaska_NEFs']"
       ]
      },
      {
       "output_type": "stream",
       "stream": "stdout",
       "text": [
        "\n",
        "All fine.\n",
        "[]\n",
        "All fine.\n",
        "[]"
       ]
      },
      {
       "output_type": "stream",
       "stream": "stdout",
       "text": [
        "\n",
        "All fine.\n",
        "['20120204_DOgDance_NEFs']\n",
        "All fine.\n",
        "[]\n",
        "All fine.\n",
        "[]"
       ]
      },
      {
       "output_type": "stream",
       "stream": "stdout",
       "text": [
        "\n",
        "All fine.\n",
        "[]\n",
        "All fine.\n",
        "['20120428_Athens-NEFs', '20120428_Athens_print', '20120428_Athens_web']"
       ]
      },
      {
       "output_type": "stream",
       "stream": "stdout",
       "text": [
        "\n",
        "All fine.\n",
        "[]\n",
        "All fine.\n",
        "[]"
       ]
      },
      {
       "output_type": "stream",
       "stream": "stdout",
       "text": [
        "\n",
        "All fine.\n",
        "[]\n",
        "All fine.\n",
        "['20120625_MichiVisaPicNEFs']"
       ]
      },
      {
       "output_type": "stream",
       "stream": "stdout",
       "text": [
        "\n",
        "All fine.\n",
        "[]\n",
        "All fine.\n",
        "[]\n",
        "All fine.\n",
        "['E+I']"
       ]
      },
      {
       "output_type": "stream",
       "stream": "stdout",
       "text": [
        "\n",
        "All fine.\n",
        "[]"
       ]
      },
      {
       "output_type": "stream",
       "stream": "stdout",
       "text": [
        "\n",
        "All fine.\n",
        "[\"Ai's_program_update\", 'Appere_files', 'COMSOL stuff', 'CRISM', 'CTX', 'DSMC', 'from_Frederic', 'GCM', 'GIS', 'Hideo_and_HERSCHEL', 'HIRISE_planning', 'HIRISE_pros', 'HIRISE_science', 'HRSC', 'install', 'LaTEX_additional_files', 'Local Tex Files', 'Mars_diverse_images', 'MarsClimateDatabase_v4.3', 'mcd_files', 'MCS', 'Mischenko_code', 'MOLA', 'my_IDL_progs_2007', 'my_tasks_in_C', 'OMEGA_Langevin', 'phoenics_from_Nick', 'praktikum', 'qGIS_try', 'shell_skripts', 'sketches_scientific', 'SPIDERS_old', 'Temp_profiles_Mars', 'tex_docs', 'THESIS', 'video', 'VMC', 'wmf2eps']"
       ]
      },
      {
       "output_type": "stream",
       "stream": "stdout",
       "text": [
        "\n",
        "All fine.\n",
        "['new_read_vicar_level2']\n",
        "All fine.\n",
        "[]"
       ]
      },
      {
       "output_type": "stream",
       "stream": "stdout",
       "text": [
        "\n",
        "All fine.\n",
        "[]"
       ]
      },
      {
       "output_type": "stream",
       "stream": "stdout",
       "text": [
        "\n",
        "All fine.\n",
        "[]\n",
        "All fine.\n",
        "[]"
       ]
      },
      {
       "output_type": "stream",
       "stream": "stdout",
       "text": [
        "\n",
        "All fine.\n",
        "['IC_y1', 'IC_y2']"
       ]
      },
      {
       "output_type": "stream",
       "stream": "stdout",
       "text": [
        "\n",
        "All fine.\n",
        "[]"
       ]
      },
      {
       "output_type": "stream",
       "stream": "stdout",
       "text": [
        "\n",
        "All fine.\n",
        "[]"
       ]
      },
      {
       "output_type": "stream",
       "stream": "stdout",
       "text": [
        "\n",
        "All fine.\n",
        "['Exp001', 'Exp002', 'Exp003']"
       ]
      },
      {
       "output_type": "stream",
       "stream": "stdout",
       "text": [
        "\n",
        "All fine.\n",
        "[]\n",
        "All fine.\n",
        "[]"
       ]
      },
      {
       "output_type": "stream",
       "stream": "stdout",
       "text": [
        "\n",
        "All fine.\n",
        "[]\n",
        "All fine.\n",
        "['data', 'docs', 'mcd', 'winds_Nathan']"
       ]
      },
      {
       "output_type": "stream",
       "stream": "stdout",
       "text": [
        "\n",
        "All fine.\n",
        "[]"
       ]
      },
      {
       "output_type": "stream",
       "stream": "stdout",
       "text": [
        "\n",
        "All fine.\n",
        "['articles']"
       ]
      },
      {
       "output_type": "stream",
       "stream": "stdout",
       "text": [
        "\n",
        "All fine.\n",
        "[]"
       ]
      },
      {
       "output_type": "stream",
       "stream": "stdout",
       "text": [
        "\n",
        "All fine.\n",
        "['c_interfaces', 'idl', 'matlab', 'pres0', 'scilab', 'testcase']"
       ]
      },
      {
       "output_type": "stream",
       "stream": "stdout",
       "text": [
        "\n",
        "All fine.\n",
        "[]\n",
        "All fine.\n",
        "[]"
       ]
      },
      {
       "output_type": "stream",
       "stream": "stdout",
       "text": [
        "\n",
        "All fine.\n",
        "[]\n",
        "All fine.\n",
        "[]\n",
        "All fine.\n",
        "[]"
       ]
      },
      {
       "output_type": "stream",
       "stream": "stdout",
       "text": [
        "\n",
        "All fine.\n",
        "[]"
       ]
      },
      {
       "output_type": "stream",
       "stream": "stdout",
       "text": [
        "\n",
        "All fine.\n",
        "[]"
       ]
      },
      {
       "output_type": "stream",
       "stream": "stdout",
       "text": [
        "\n",
        "All fine.\n",
        "['HiRISE_footprints_sep07', 'I1802ABC_Mars_global_geology_projected', 'Inca-city', 'Inca_city_Nov08', 'Mola64_90Nto90S_Simp_clon180', 'mola_polar_megt_512pd']"
       ]
      },
      {
       "output_type": "stream",
       "stream": "stdout",
       "text": [
        "\n",
        "All fine.\n",
        "[]"
       ]
      },
      {
       "output_type": "stream",
       "stream": "stdout",
       "text": [
        "\n",
        "All fine.\n",
        "['metadata', 'projections', 'Shapefiles']\n",
        "All fine.\n",
        "['I1802ABC_EquidistCyl']"
       ]
      },
      {
       "output_type": "stream",
       "stream": "stdout",
       "text": [
        "\n",
        "All fine.\n",
        "[]\n",
        "All fine.\n",
        "[]\n",
        "All fine.\n",
        "[]\n",
        "All fine.\n",
        "['Database', 'geology', 'HiRISE', 'HRSC', 'MOC', 'MOLApolar', 'Themis']"
       ]
      },
      {
       "output_type": "stream",
       "stream": "stdout",
       "text": [
        "\n",
        "All fine.\n",
        "[]\n",
        "All fine.\n",
        "['Footprints']"
       ]
      },
      {
       "output_type": "stream",
       "stream": "stdout",
       "text": [
        "\n",
        "All fine.\n",
        "[]\n",
        "All fine.\n",
        "['Footprints', 'Images', 'Jpeg', 'Label HiRISE images']\n",
        "All fine.\n",
        "['hicat_dump', 'obs_geom']"
       ]
      },
      {
       "output_type": "stream",
       "stream": "stdout",
       "text": [
        "\n",
        "All fine.\n",
        "[]\n",
        "All fine.\n",
        "[]\n",
        "All fine.\n",
        "[]"
       ]
      },
      {
       "output_type": "stream",
       "stream": "stdout",
       "text": [
        "\n",
        "All fine.\n",
        "[]\n",
        "All fine.\n",
        "[]\n",
        "All fine.\n",
        "['Footprints', 'Images', 'Labels MOC images']\n",
        "All fine.\n",
        "[]\n",
        "All fine.\n",
        "['e1002612', 'info']"
       ]
      },
      {
       "output_type": "stream",
       "stream": "stdout",
       "text": [
        "\n",
        "All fine.\n",
        "[]\n",
        "All fine.\n",
        "[]\n",
        "All fine.\n",
        "[]\n",
        "All fine.\n",
        "['mola_polar_megt_128pd', 'mola_polar_megt_512pd']\n",
        "All fine.\n",
        "['info', 'megt_s_128_1']\n",
        "All fine.\n",
        "[]"
       ]
      },
      {
       "output_type": "stream",
       "stream": "stdout",
       "text": [
        "\n",
        "All fine.\n",
        "[]\n",
        "All fine.\n",
        "['info', 'megt_s_512_1']\n",
        "All fine.\n",
        "[]"
       ]
      },
      {
       "output_type": "stream",
       "stream": "stdout",
       "text": [
        "\n",
        "All fine.\n",
        "[]\n",
        "All fine.\n",
        "['Footprints', 'Images']"
       ]
      },
      {
       "output_type": "stream",
       "stream": "stdout",
       "text": [
        "\n",
        "All fine.\n",
        "[]"
       ]
      },
      {
       "output_type": "stream",
       "stream": "stdout",
       "text": [
        "\n",
        "All fine.\n",
        "['I03043002bt', 'I08053008bt', 'I09439004bt', 'I09813007bt', 'I09813007Em', 'I24215012bt', 'I24240004bt', 'I24290010bt', 'I24385009bt', 'I24552005bt', 'I24577007bt', 'I2462201bt', 'I24647012bt', 'I25800008bt']"
       ]
      },
      {
       "output_type": "stream",
       "stream": "stdout",
       "text": [
        "\n",
        "All fine.\n",
        "['i03043002bt', 'info']\n",
        "All fine.\n",
        "[]"
       ]
      },
      {
       "output_type": "stream",
       "stream": "stdout",
       "text": [
        "\n",
        "All fine.\n",
        "[]"
       ]
      },
      {
       "output_type": "stream",
       "stream": "stdout",
       "text": [
        "\n",
        "All fine.\n",
        "['i08053008bt', 'info']"
       ]
      },
      {
       "output_type": "stream",
       "stream": "stdout",
       "text": [
        "\n",
        "All fine.\n",
        "[]"
       ]
      },
      {
       "output_type": "stream",
       "stream": "stdout",
       "text": [
        "\n",
        "All fine.\n",
        "[]"
       ]
      },
      {
       "output_type": "stream",
       "stream": "stdout",
       "text": [
        "\n",
        "All fine.\n",
        "['i09439004bt', 'info']\n",
        "All fine.\n",
        "[]"
       ]
      },
      {
       "output_type": "stream",
       "stream": "stdout",
       "text": [
        "\n",
        "All fine.\n",
        "[]\n",
        "All fine.\n",
        "['i09813007em', 'info']"
       ]
      },
      {
       "output_type": "stream",
       "stream": "stdout",
       "text": [
        "\n",
        "All fine.\n",
        "[]\n",
        "All fine.\n",
        "[]"
       ]
      },
      {
       "output_type": "stream",
       "stream": "stdout",
       "text": [
        "\n",
        "All fine.\n",
        "['i09813007bt', 'info']\n",
        "All fine.\n",
        "[]\n",
        "All fine.\n",
        "[]\n",
        "All fine.\n",
        "['i24215012bt', 'info']"
       ]
      },
      {
       "output_type": "stream",
       "stream": "stdout",
       "text": [
        "\n",
        "All fine.\n",
        "[]\n",
        "All fine.\n",
        "[]\n",
        "All fine.\n",
        "['i24240004bt', 'info']\n",
        "All fine.\n",
        "[]\n",
        "All fine.\n",
        "[]\n",
        "All fine.\n",
        "['i24290010bt', 'info']\n",
        "All fine.\n",
        "[]\n",
        "All fine.\n",
        "[]\n",
        "All fine.\n",
        "['i24385009bt', 'info']\n",
        "All fine.\n",
        "[]"
       ]
      },
      {
       "output_type": "stream",
       "stream": "stdout",
       "text": [
        "\n",
        "All fine.\n",
        "[]"
       ]
      },
      {
       "output_type": "stream",
       "stream": "stdout",
       "text": [
        "\n",
        "All fine.\n",
        "['i24552005bt', 'info']\n",
        "All fine.\n",
        "[]\n",
        "All fine.\n",
        "[]\n",
        "All fine.\n",
        "['i24577007bt', 'info']"
       ]
      },
      {
       "output_type": "stream",
       "stream": "stdout",
       "text": [
        "\n",
        "All fine.\n",
        "[]\n",
        "All fine.\n",
        "[]\n",
        "All fine.\n",
        "['i2462201bt', 'info']"
       ]
      },
      {
       "output_type": "stream",
       "stream": "stdout",
       "text": [
        "\n",
        "All fine.\n",
        "[]\n",
        "All fine.\n",
        "[]\n",
        "All fine.\n",
        "['i24647012bt', 'info']"
       ]
      },
      {
       "output_type": "stream",
       "stream": "stdout",
       "text": [
        "\n",
        "All fine.\n",
        "[]\n",
        "All fine.\n",
        "[]\n",
        "All fine.\n",
        "['i25800008bt', 'info']"
       ]
      },
      {
       "output_type": "stream",
       "stream": "stdout",
       "text": [
        "\n",
        "All fine.\n",
        "[]"
       ]
      },
      {
       "output_type": "stream",
       "stream": "stdout",
       "text": [
        "\n",
        "All fine.\n",
        "[]\n",
        "All fine.\n",
        "['global_dd']"
       ]
      },
      {
       "output_type": "stream",
       "stream": "stdout",
       "text": [
        "\n",
        "All fine.\n",
        "[]\n",
        "All fine.\n",
        "[]\n",
        "All fine.\n",
        "['info', 'mola64_oc180']\n",
        "All fine.\n",
        "[]\n",
        "All fine.\n",
        "[]"
       ]
      },
      {
       "output_type": "stream",
       "stream": "stdout",
       "text": [
        "\n",
        "All fine.\n",
        "['info', 'megt_n_512_1', 'megt_s_512_1']\n",
        "All fine.\n",
        "[]\n",
        "All fine.\n",
        "[]"
       ]
      },
      {
       "output_type": "stream",
       "stream": "stdout",
       "text": [
        "\n",
        "All fine.\n",
        "[]\n",
        "All fine.\n",
        "['images']"
       ]
      },
      {
       "output_type": "stream",
       "stream": "stdout",
       "text": [
        "\n",
        "All fine.\n",
        "[]"
       ]
      },
      {
       "output_type": "stream",
       "stream": "stdout",
       "text": [
        "\n",
        "All fine.\n",
        "[]\n",
        "All fine.\n",
        "['coord_calculations', 'Hi_Atmospheric_correction']"
       ]
      },
      {
       "output_type": "stream",
       "stream": "stdout",
       "text": [
        "\n",
        "All fine.\n",
        "[]\n",
        "All fine.\n",
        "[]"
       ]
      },
      {
       "output_type": "stream",
       "stream": "stdout",
       "text": [
        "\n",
        "All fine.\n",
        "['HRSC Vicar and Co', 'HRSC_angles', 'HRSC_data', 'HRSC_images', 'HRSC_lee_waves', 'HRSC_limbs']\n",
        "All fine.\n",
        "[]\n",
        "All fine.\n",
        "['angles', 'h1009', 'h1107', 'h1107_level4_dlr', 'h1521', 'h1523', 'h1533', 'old_cal_latlon']\n",
        "All fine.\n",
        "['h1107', 'h1395']"
       ]
      },
      {
       "output_type": "stream",
       "stream": "stdout",
       "text": [
        "\n",
        "All fine.\n",
        "[]\n",
        "All fine.\n",
        "[]\n",
        "All fine.\n",
        "[]"
       ]
      },
      {
       "output_type": "stream",
       "stream": "stdout",
       "text": [
        "\n",
        "All fine.\n",
        "[]"
       ]
      },
      {
       "output_type": "stream",
       "stream": "stdout",
       "text": [
        "\n",
        "All fine.\n",
        "[]\n",
        "All fine.\n",
        "[]"
       ]
      },
      {
       "output_type": "stream",
       "stream": "stdout",
       "text": [
        "\n",
        "All fine.\n",
        "[]\n",
        "All fine.\n",
        "[]"
       ]
      },
      {
       "output_type": "stream",
       "stream": "stdout",
       "text": [
        "\n",
        "All fine.\n",
        "[]"
       ]
      },
      {
       "output_type": "stream",
       "stream": "stdout",
       "text": [
        "\n",
        "All fine.\n",
        "['4365', '4442', '4475']\n",
        "All fine.\n",
        "[]\n",
        "All fine.\n",
        "[]\n",
        "All fine.\n",
        "[]"
       ]
      },
      {
       "output_type": "stream",
       "stream": "stdout",
       "text": [
        "\n",
        "All fine.\n",
        "['dots', 'lee_waves', 'limbs_HRSC', 'publicity', 'tiffs']\n",
        "All fine.\n",
        "[]\n",
        "All fine.\n",
        "[]"
       ]
      },
      {
       "output_type": "stream",
       "stream": "stdout",
       "text": [
        "\n",
        "All fine.\n",
        "[]"
       ]
      },
      {
       "output_type": "stream",
       "stream": "stdout",
       "text": [
        "\n",
        "All fine.\n",
        "[]\n",
        "All fine.\n",
        "[]\n",
        "All fine.\n",
        "['angle', 'comparison_Ai_DLR', 'Europlanet', 'h0068', 'h0533', 'h0719', 'h0751', 'h1096', 'h1107', 'h1158', 'h1169', 'h1266', 'h1395', 'help_Ai', 'lee_waves', 'lee_waves_paper', 'map_projections', 'MOC', 'omega', 'ps']"
       ]
      },
      {
       "output_type": "stream",
       "stream": "stdout",
       "text": [
        "\n",
        "All fine.\n",
        "[]"
       ]
      },
      {
       "output_type": "stream",
       "stream": "stdout",
       "text": [
        "\n",
        "All fine.\n",
        "[]\n",
        "All fine.\n",
        "['old']"
       ]
      },
      {
       "output_type": "stream",
       "stream": "stdout",
       "text": [
        "\n",
        "All fine.\n",
        "[]\n",
        "All fine.\n",
        "[]\n",
        "All fine.\n",
        "[]"
       ]
      },
      {
       "output_type": "stream",
       "stream": "stdout",
       "text": [
        "\n",
        "All fine.\n",
        "[]\n",
        "All fine.\n",
        "[]"
       ]
      },
      {
       "output_type": "stream",
       "stream": "stdout",
       "text": [
        "\n",
        "All fine.\n",
        "[]\n",
        "All fine.\n",
        "[]\n",
        "All fine.\n",
        "['dtm', 'lev3', 'photometric', 'rebl', 'stereo']"
       ]
      },
      {
       "output_type": "stream",
       "stream": "stdout",
       "text": [
        "\n",
        "All fine.\n",
        "[]\n",
        "All fine.\n",
        "[]"
       ]
      },
      {
       "output_type": "stream",
       "stream": "stdout",
       "text": [
        "\n",
        "All fine.\n",
        "[]\n",
        "All fine.\n",
        "[]"
       ]
      },
      {
       "output_type": "stream",
       "stream": "stdout",
       "text": [
        "\n",
        "All fine.\n",
        "[]"
       ]
      },
      {
       "output_type": "stream",
       "stream": "stdout",
       "text": [
        "\n",
        "All fine.\n",
        "[]"
       ]
      },
      {
       "output_type": "stream",
       "stream": "stdout",
       "text": [
        "\n",
        "All fine.\n",
        "[]"
       ]
      },
      {
       "output_type": "stream",
       "stream": "stdout",
       "text": [
        "\n",
        "All fine.\n",
        "[]"
       ]
      },
      {
       "output_type": "stream",
       "stream": "stdout",
       "text": [
        "\n",
        "All fine.\n",
        "[]\n",
        "All fine.\n",
        "[]"
       ]
      },
      {
       "output_type": "stream",
       "stream": "stdout",
       "text": [
        "\n",
        "All fine.\n",
        "['h0068', 'h0533', 'h0719', 'h0751', 'h1096', 'h1107', 'MOC', 'omega']"
       ]
      },
      {
       "output_type": "stream",
       "stream": "stdout",
       "text": [
        "\n",
        "All fine.\n",
        "[]"
       ]
      },
      {
       "output_type": "stream",
       "stream": "stdout",
       "text": [
        "\n",
        "All fine.\n",
        "[]"
       ]
      },
      {
       "output_type": "stream",
       "stream": "stdout",
       "text": [
        "\n",
        "All fine.\n",
        "[]\n",
        "All fine.\n",
        "[]\n",
        "All fine.\n",
        "[]"
       ]
      },
      {
       "output_type": "stream",
       "stream": "stdout",
       "text": [
        "\n",
        "All fine.\n",
        "[]\n",
        "All fine.\n",
        "['lev3', 'photometric', 'rebl', 'stereo']\n",
        "All fine.\n",
        "[]\n",
        "All fine.\n",
        "[]\n",
        "All fine.\n",
        "[]\n",
        "All fine.\n",
        "[]"
       ]
      },
      {
       "output_type": "stream",
       "stream": "stdout",
       "text": [
        "\n",
        "All fine.\n",
        "[]\n",
        "All fine.\n",
        "['lee_waves']\n",
        "All fine.\n",
        "[]\n",
        "All fine.\n",
        "[]\n",
        "All fine.\n",
        "[]\n",
        "All fine.\n",
        "[]\n",
        "All fine.\n",
        "['1487', '1777', '1783', '1854', '1901', '2487', '2499', '2504', '2593', '2618', '2623', '2658', '2770', '2795', '2825', '2828', '2834', '2850', '3794', '4029', '4030', '4031', 'h1009', 'HRSC_angles', 'LIBM_lists', 'limb_jpgs', 'limbs_lbl']"
       ]
      },
      {
       "output_type": "stream",
       "stream": "stdout",
       "text": [
        "\n",
        "All fine.\n",
        "[]"
       ]
      },
      {
       "output_type": "stream",
       "stream": "stdout",
       "text": [
        "\n",
        "All fine.\n",
        "[]\n",
        "All fine.\n",
        "[]\n",
        "All fine.\n",
        "[]"
       ]
      },
      {
       "output_type": "stream",
       "stream": "stdout",
       "text": [
        "\n",
        "All fine.\n",
        "[]\n",
        "All fine.\n",
        "[]\n",
        "All fine.\n",
        "[]\n",
        "All fine.\n",
        "[]"
       ]
      },
      {
       "output_type": "stream",
       "stream": "stdout",
       "text": [
        "\n",
        "All fine.\n",
        "[]\n",
        "All fine.\n",
        "[]\n",
        "All fine.\n",
        "[]"
       ]
      },
      {
       "output_type": "stream",
       "stream": "stdout",
       "text": [
        "\n",
        "All fine.\n",
        "[]"
       ]
      },
      {
       "output_type": "stream",
       "stream": "stdout",
       "text": [
        "\n",
        "All fine.\n",
        "[]\n",
        "All fine.\n",
        "[]"
       ]
      },
      {
       "output_type": "stream",
       "stream": "stdout",
       "text": [
        "\n",
        "All fine.\n",
        "[]"
       ]
      },
      {
       "output_type": "stream",
       "stream": "stdout",
       "text": [
        "\n",
        "All fine.\n",
        "[]"
       ]
      },
      {
       "output_type": "stream",
       "stream": "stdout",
       "text": [
        "\n",
        "All fine.\n",
        "[]"
       ]
      },
      {
       "output_type": "stream",
       "stream": "stdout",
       "text": [
        "\n",
        "All fine.\n",
        "[]\n",
        "All fine.\n",
        "[]"
       ]
      },
      {
       "output_type": "stream",
       "stream": "stdout",
       "text": [
        "\n",
        "All fine.\n",
        "[]"
       ]
      },
      {
       "output_type": "stream",
       "stream": "stdout",
       "text": [
        "\n",
        "All fine.\n",
        "[]\n",
        "All fine.\n",
        "[]"
       ]
      },
      {
       "output_type": "stream",
       "stream": "stdout",
       "text": [
        "\n",
        "All fine.\n",
        "['angles', 'h1009', 'h1107', 'h1107_level4_dlr', 'h1521', 'h1523', 'h1533', 'old']"
       ]
      },
      {
       "output_type": "stream",
       "stream": "stdout",
       "text": [
        "\n",
        "All fine.\n",
        "['h1107', 'h1395']"
       ]
      },
      {
       "output_type": "stream",
       "stream": "stdout",
       "text": [
        "\n",
        "All fine.\n",
        "[]"
       ]
      },
      {
       "output_type": "stream",
       "stream": "stdout",
       "text": [
        "\n",
        "All fine.\n",
        "[]\n",
        "All fine.\n",
        "[]"
       ]
      },
      {
       "output_type": "stream",
       "stream": "stdout",
       "text": [
        "\n",
        "All fine.\n",
        "[]\n",
        "All fine.\n",
        "[]"
       ]
      },
      {
       "output_type": "stream",
       "stream": "stdout",
       "text": [
        "\n",
        "All fine.\n",
        "[]"
       ]
      },
      {
       "output_type": "stream",
       "stream": "stdout",
       "text": [
        "\n",
        "All fine.\n",
        "[]\n",
        "All fine.\n",
        "[]"
       ]
      },
      {
       "output_type": "stream",
       "stream": "stdout",
       "text": [
        "\n",
        "All fine.\n",
        "[]"
       ]
      },
      {
       "output_type": "stream",
       "stream": "stdout",
       "text": [
        "\n",
        "All fine.\n",
        "[]\n",
        "All fine.\n",
        "[]"
       ]
      },
      {
       "output_type": "stream",
       "stream": "stdout",
       "text": [
        "\n",
        "All fine.\n",
        "[]\n",
        "All fine.\n",
        "[]"
       ]
      },
      {
       "output_type": "stream",
       "stream": "stdout",
       "text": [
        "\n",
        "All fine.\n",
        "['.metadata', 'archives', 'Default', 'docs_forHershel', 'HITRAN2008', 'include', 'MOLIERE', 'moliere_pro', 'PACS']"
       ]
      },
      {
       "output_type": "stream",
       "stream": "stdout",
       "text": [
        "\n",
        "All fine.\n",
        "['.plugins']"
       ]
      },
      {
       "output_type": "stream",
       "stream": "stdout",
       "text": [
        "\n",
        "All fine.\n",
        "['com.rsi.idldt.ui', 'org.eclipse.core.resources', 'org.eclipse.core.runtime', 'org.eclipse.debug.core', 'org.eclipse.debug.ui', 'org.eclipse.help.base', 'org.eclipse.help.ui', 'org.eclipse.search', 'org.eclipse.ui.ide', 'org.eclipse.ui.intro', 'org.eclipse.ui.workbench', 'org.eclipse.ui.workbench.texteditor']\n",
        "All fine.\n",
        "[]"
       ]
      },
      {
       "output_type": "stream",
       "stream": "stdout",
       "text": [
        "\n",
        "All fine.\n",
        "['.history', '.projects', '.root', '.safetable']"
       ]
      },
      {
       "output_type": "stream",
       "stream": "stdout",
       "text": [
        "\n",
        "All fine.\n",
        "['1', '21', '27', '29', '2f', '3', '32', '33', '3a', '3c', '4', '48', '5c', '5f', '64', '65', '69', '74', '76', '78', '82', '88', '8b', '8c', '9', '90', '94', '95', 'a9', 'be', 'ce', 'e3', 'e6', 'ee', 'f2']\n",
        "All fine.\n",
        "[]"
       ]
      },
      {
       "output_type": "stream",
       "stream": "stdout",
       "text": [
        "\n",
        "All fine.\n",
        "[]\n",
        "All fine.\n",
        "[]"
       ]
      },
      {
       "output_type": "stream",
       "stream": "stdout",
       "text": [
        "\n",
        "All fine.\n",
        "[]"
       ]
      },
      {
       "output_type": "stream",
       "stream": "stdout",
       "text": [
        "\n",
        "All fine.\n",
        "[]\n",
        "All fine.\n",
        "[]"
       ]
      },
      {
       "output_type": "stream",
       "stream": "stdout",
       "text": [
        "\n",
        "All fine.\n",
        "[]"
       ]
      },
      {
       "output_type": "stream",
       "stream": "stdout",
       "text": [
        "\n",
        "All fine.\n",
        "[]\n",
        "All fine.\n",
        "[]\n",
        "All fine.\n",
        "[]"
       ]
      },
      {
       "output_type": "stream",
       "stream": "stdout",
       "text": [
        "\n",
        "All fine.\n",
        "[]\n",
        "All fine.\n",
        "[]"
       ]
      },
      {
       "output_type": "stream",
       "stream": "stdout",
       "text": [
        "\n",
        "All fine.\n",
        "[]\n",
        "All fine.\n",
        "[]"
       ]
      },
      {
       "output_type": "stream",
       "stream": "stdout",
       "text": [
        "\n",
        "All fine.\n",
        "[]"
       ]
      },
      {
       "output_type": "stream",
       "stream": "stdout",
       "text": [
        "\n",
        "All fine.\n",
        "[]"
       ]
      },
      {
       "output_type": "stream",
       "stream": "stdout",
       "text": [
        "\n",
        "All fine.\n",
        "[]"
       ]
      },
      {
       "output_type": "stream",
       "stream": "stdout",
       "text": [
        "\n",
        "All fine.\n",
        "[]\n",
        "All fine.\n",
        "[]"
       ]
      },
      {
       "output_type": "stream",
       "stream": "stdout",
       "text": [
        "\n",
        "All fine.\n",
        "[]"
       ]
      },
      {
       "output_type": "stream",
       "stream": "stdout",
       "text": [
        "\n",
        "All fine.\n",
        "[]\n",
        "All fine.\n",
        "[]"
       ]
      },
      {
       "output_type": "stream",
       "stream": "stdout",
       "text": [
        "\n",
        "All fine.\n",
        "[]"
       ]
      },
      {
       "output_type": "stream",
       "stream": "stdout",
       "text": [
        "\n",
        "All fine.\n",
        "[]\n",
        "All fine.\n",
        "[]"
       ]
      },
      {
       "output_type": "stream",
       "stream": "stdout",
       "text": [
        "\n",
        "All fine.\n",
        "[]\n",
        "All fine.\n",
        "[]\n",
        "All fine.\n",
        "[]"
       ]
      },
      {
       "output_type": "stream",
       "stream": "stdout",
       "text": [
        "\n",
        "All fine.\n",
        "[]\n",
        "All fine.\n",
        "[]"
       ]
      },
      {
       "output_type": "stream",
       "stream": "stdout",
       "text": [
        "\n",
        "All fine.\n",
        "[]"
       ]
      },
      {
       "output_type": "stream",
       "stream": "stdout",
       "text": [
        "\n",
        "All fine.\n",
        "[]"
       ]
      },
      {
       "output_type": "stream",
       "stream": "stdout",
       "text": [
        "\n",
        "All fine.\n",
        "[]\n",
        "All fine.\n",
        "[]\n",
        "All fine.\n",
        "[]"
       ]
      },
      {
       "output_type": "stream",
       "stream": "stdout",
       "text": [
        "\n",
        "All fine.\n",
        "['Default']"
       ]
      },
      {
       "output_type": "stream",
       "stream": "stdout",
       "text": [
        "\n",
        "All fine.\n",
        "['.indexes']\n",
        "All fine.\n",
        "[]"
       ]
      },
      {
       "output_type": "stream",
       "stream": "stdout",
       "text": [
        "\n",
        "All fine.\n",
        "['.indexes']"
       ]
      },
      {
       "output_type": "stream",
       "stream": "stdout",
       "text": [
        "\n",
        "All fine.\n",
        "[]\n",
        "All fine.\n",
        "[]"
       ]
      },
      {
       "output_type": "stream",
       "stream": "stdout",
       "text": [
        "\n",
        "All fine.\n",
        "['.settings']"
       ]
      },
      {
       "output_type": "stream",
       "stream": "stdout",
       "text": [
        "\n",
        "All fine.\n",
        "[]"
       ]
      },
      {
       "output_type": "stream",
       "stream": "stdout",
       "text": [
        "\n",
        "All fine.\n",
        "['.launches']"
       ]
      },
      {
       "output_type": "stream",
       "stream": "stdout",
       "text": [
        "\n",
        "All fine.\n",
        "[]"
       ]
      },
      {
       "output_type": "stream",
       "stream": "stdout",
       "text": [
        "\n",
        "All fine.\n",
        "[]\n",
        "All fine.\n",
        "[]\n",
        "All fine.\n",
        "['scope_sets']"
       ]
      },
      {
       "output_type": "stream",
       "stream": "stdout",
       "text": [
        "\n",
        "All fine.\n",
        "[]\n",
        "All fine.\n",
        "[]"
       ]
      },
      {
       "output_type": "stream",
       "stream": "stdout",
       "text": [
        "\n",
        "All fine.\n",
        "[]"
       ]
      },
      {
       "output_type": "stream",
       "stream": "stdout",
       "text": [
        "\n",
        "All fine.\n",
        "[]"
       ]
      },
      {
       "output_type": "stream",
       "stream": "stdout",
       "text": [
        "\n",
        "All fine.\n",
        "[]"
       ]
      },
      {
       "output_type": "stream",
       "stream": "stdout",
       "text": [
        "\n",
        "All fine.\n",
        "[]\n",
        "All fine.\n",
        "[]"
       ]
      },
      {
       "output_type": "stream",
       "stream": "stdout",
       "text": [
        "\n",
        "All fine.\n",
        "['By-Molecule', 'Global_Data']"
       ]
      },
      {
       "output_type": "stream",
       "stream": "stdout",
       "text": [
        "\n",
        "All fine.\n",
        "[]\n",
        "All fine.\n",
        "['TIPS_2008']"
       ]
      },
      {
       "output_type": "stream",
       "stream": "stdout",
       "text": [
        "\n",
        "All fine.\n",
        "[]\n",
        "All fine.\n",
        "['copy_ctl', 'ctl', 'doc', 'files_from_Hideo', 'MARS', 'new_files_100809', 'old_files', 'source', 'source_080809', 'source_100809', 'TITAN']\n",
        "All fine.\n",
        "['in', 'inv_out']"
       ]
      },
      {
       "output_type": "stream",
       "stream": "stdout",
       "text": [
        "\n",
        "All fine.\n",
        "['abs', 'inst', 'inv', 'rt', 'vmr']"
       ]
      },
      {
       "output_type": "stream",
       "stream": "stdout",
       "text": [
        "\n",
        "All fine.\n",
        "['cat', 'fre', 'vmr']\n",
        "All fine.\n",
        "[]"
       ]
      },
      {
       "output_type": "stream",
       "stream": "stdout",
       "text": [
        "\n",
        "All fine.\n",
        "[]"
       ]
      },
      {
       "output_type": "stream",
       "stream": "stdout",
       "text": [
        "\n",
        "All fine.\n",
        "['LMD_Ls90-120_UMST20hr']"
       ]
      },
      {
       "output_type": "stream",
       "stream": "stdout",
       "text": [
        "\n",
        "All fine.\n",
        "[]"
       ]
      },
      {
       "output_type": "stream",
       "stream": "stdout",
       "text": [
        "\n",
        "All fine.\n",
        "['ant', 'scan', 'spc']"
       ]
      },
      {
       "output_type": "stream",
       "stream": "stdout",
       "text": [
        "\n",
        "All fine.\n",
        "[]\n",
        "All fine.\n",
        "[]\n",
        "All fine.\n",
        "[]"
       ]
      },
      {
       "output_type": "stream",
       "stream": "stdout",
       "text": [
        "\n",
        "All fine.\n",
        "[]"
       ]
      },
      {
       "output_type": "stream",
       "stream": "stdout",
       "text": [
        "\n",
        "All fine.\n",
        "[]\n",
        "All fine.\n",
        "[]"
       ]
      },
      {
       "output_type": "stream",
       "stream": "stdout",
       "text": [
        "\n",
        "All fine.\n",
        "['red_103-190', 'red_103-190_cont', 'tmp', 'tmp_30_08_2010', 'tmp_continuum', 'tmp_first_inv', 'tmp_improved_error', 'tmp_selected_H2O_berror', 'tmp_shifted', 'tmp_shifted1iteration', 'tmpH2Oretrieval001']"
       ]
      },
      {
       "output_type": "stream",
       "stream": "stdout",
       "text": [
        "\n",
        "All fine.\n",
        "[]"
       ]
      },
      {
       "output_type": "stream",
       "stream": "stdout",
       "text": [
        "\n",
        "All fine.\n",
        "[]"
       ]
      },
      {
       "output_type": "stream",
       "stream": "stdout",
       "text": [
        "\n",
        "All fine.\n",
        "[]"
       ]
      },
      {
       "output_type": "stream",
       "stream": "stdout",
       "text": [
        "\n",
        "All fine.\n",
        "[]\n",
        "All fine.\n",
        "[]"
       ]
      },
      {
       "output_type": "stream",
       "stream": "stdout",
       "text": [
        "\n",
        "All fine.\n",
        "[]\n",
        "All fine.\n",
        "[]\n",
        "All fine.\n",
        "[]"
       ]
      },
      {
       "output_type": "stream",
       "stream": "stdout",
       "text": [
        "\n",
        "All fine.\n",
        "[]"
       ]
      },
      {
       "output_type": "stream",
       "stream": "stdout",
       "text": [
        "\n",
        "All fine.\n",
        "[]"
       ]
      },
      {
       "output_type": "stream",
       "stream": "stdout",
       "text": [
        "\n",
        "All fine.\n",
        "[]"
       ]
      },
      {
       "output_type": "stream",
       "stream": "stdout",
       "text": [
        "\n",
        "All fine.\n",
        "['in', 'inv_out']\n",
        "All fine.\n",
        "['abs', 'inst', 'inv', 'rt']"
       ]
      },
      {
       "output_type": "stream",
       "stream": "stdout",
       "text": [
        "\n",
        "All fine.\n",
        "['cat', 'fre', 'vmr']"
       ]
      },
      {
       "output_type": "stream",
       "stream": "stdout",
       "text": [
        "\n",
        "All fine.\n",
        "[]\n",
        "All fine.\n",
        "[]"
       ]
      },
      {
       "output_type": "stream",
       "stream": "stdout",
       "text": [
        "\n",
        "All fine.\n",
        "[]\n",
        "All fine.\n",
        "['ant', 'scan', 'spc']\n",
        "All fine.\n",
        "[]"
       ]
      },
      {
       "output_type": "stream",
       "stream": "stdout",
       "text": [
        "\n",
        "All fine.\n",
        "[]"
       ]
      },
      {
       "output_type": "stream",
       "stream": "stdout",
       "text": [
        "\n",
        "All fine.\n",
        "[]"
       ]
      },
      {
       "output_type": "stream",
       "stream": "stdout",
       "text": [
        "\n",
        "All fine.\n",
        "[]\n",
        "All fine.\n",
        "[]\n",
        "All fine.\n",
        "['tmp']"
       ]
      },
      {
       "output_type": "stream",
       "stream": "stdout",
       "text": [
        "\n",
        "All fine.\n",
        "[]\n",
        "All fine.\n",
        "[]"
       ]
      },
      {
       "output_type": "stream",
       "stream": "stdout",
       "text": [
        "\n",
        "All fine.\n",
        "[]"
       ]
      },
      {
       "output_type": "stream",
       "stream": "stdout",
       "text": [
        "\n",
        "All fine.\n",
        "[]"
       ]
      },
      {
       "output_type": "stream",
       "stream": "stdout",
       "text": [
        "\n",
        "All fine.\n",
        "['moliere_16Aug2010', 'moliere_files_02Sep2010', 'slim_grid_test1', 'slim_grid_test2']"
       ]
      },
      {
       "output_type": "stream",
       "stream": "stdout",
       "text": [
        "\n",
        "All fine.\n",
        "['ctl', 'MARS', 'source']\n",
        "All fine.\n",
        "['in', 'inv_out']"
       ]
      },
      {
       "output_type": "stream",
       "stream": "stdout",
       "text": [
        "\n",
        "All fine.\n",
        "['abs', 'inst', 'inv', 'rt']"
       ]
      },
      {
       "output_type": "stream",
       "stream": "stdout",
       "text": [
        "\n",
        "All fine.\n",
        "['cat', 'fre', 'vmr']"
       ]
      },
      {
       "output_type": "stream",
       "stream": "stdout",
       "text": [
        "\n",
        "All fine.\n",
        "[]"
       ]
      },
      {
       "output_type": "stream",
       "stream": "stdout",
       "text": [
        "\n",
        "All fine.\n",
        "[]"
       ]
      },
      {
       "output_type": "stream",
       "stream": "stdout",
       "text": [
        "\n",
        "All fine.\n",
        "[]"
       ]
      },
      {
       "output_type": "stream",
       "stream": "stdout",
       "text": [
        "\n",
        "All fine.\n",
        "['ant', 'scan', 'spc']"
       ]
      },
      {
       "output_type": "stream",
       "stream": "stdout",
       "text": [
        "\n",
        "All fine.\n",
        "[]"
       ]
      },
      {
       "output_type": "stream",
       "stream": "stdout",
       "text": [
        "\n",
        "All fine.\n",
        "[]"
       ]
      },
      {
       "output_type": "stream",
       "stream": "stdout",
       "text": [
        "\n",
        "All fine.\n",
        "[]"
       ]
      },
      {
       "output_type": "stream",
       "stream": "stdout",
       "text": [
        "\n",
        "All fine.\n",
        "[]"
       ]
      },
      {
       "output_type": "stream",
       "stream": "stdout",
       "text": [
        "\n",
        "All fine.\n",
        "[]\n",
        "All fine.\n",
        "['tmp']"
       ]
      },
      {
       "output_type": "stream",
       "stream": "stdout",
       "text": [
        "\n",
        "All fine.\n",
        "[]\n",
        "All fine.\n",
        "[]"
       ]
      },
      {
       "output_type": "stream",
       "stream": "stdout",
       "text": [
        "\n",
        "All fine.\n",
        "[]"
       ]
      },
      {
       "output_type": "stream",
       "stream": "stdout",
       "text": [
        "\n",
        "All fine.\n",
        "['ctl', 'MARS']"
       ]
      },
      {
       "output_type": "stream",
       "stream": "stdout",
       "text": [
        "\n",
        "All fine.\n",
        "['in', 'inv_out']"
       ]
      },
      {
       "output_type": "stream",
       "stream": "stdout",
       "text": [
        "\n",
        "All fine.\n",
        "['abs', 'inst', 'inv']"
       ]
      },
      {
       "output_type": "stream",
       "stream": "stdout",
       "text": [
        "\n",
        "All fine.\n",
        "['fre', 'vmr']"
       ]
      },
      {
       "output_type": "stream",
       "stream": "stdout",
       "text": [
        "\n",
        "All fine.\n",
        "[]"
       ]
      },
      {
       "output_type": "stream",
       "stream": "stdout",
       "text": [
        "\n",
        "All fine.\n",
        "['LMD_Ls90-120_UMST20hr']"
       ]
      },
      {
       "output_type": "stream",
       "stream": "stdout",
       "text": [
        "\n",
        "All fine.\n",
        "[]\n",
        "All fine.\n",
        "['spc']"
       ]
      },
      {
       "output_type": "stream",
       "stream": "stdout",
       "text": [
        "\n",
        "All fine.\n",
        "[]"
       ]
      },
      {
       "output_type": "stream",
       "stream": "stdout",
       "text": [
        "\n",
        "All fine.\n",
        "[]"
       ]
      },
      {
       "output_type": "stream",
       "stream": "stdout",
       "text": [
        "\n",
        "All fine.\n",
        "['red_103-190_H2O_test', 'tmp']"
       ]
      },
      {
       "output_type": "stream",
       "stream": "stdout",
       "text": [
        "\n",
        "All fine.\n",
        "[]"
       ]
      },
      {
       "output_type": "stream",
       "stream": "stdout",
       "text": [
        "\n",
        "All fine.\n",
        "[]"
       ]
      },
      {
       "output_type": "stream",
       "stream": "stdout",
       "text": [
        "\n",
        "All fine.\n",
        "[]"
       ]
      },
      {
       "output_type": "stream",
       "stream": "stdout",
       "text": [
        "\n",
        "All fine.\n",
        "[]"
       ]
      },
      {
       "output_type": "stream",
       "stream": "stdout",
       "text": [
        "\n",
        "All fine.\n",
        "[]"
       ]
      },
      {
       "output_type": "stream",
       "stream": "stdout",
       "text": [
        "\n",
        "All fine.\n",
        "[]"
       ]
      },
      {
       "output_type": "stream",
       "stream": "stdout",
       "text": [
        "\n",
        "All fine.\n",
        "['backup_ctl', 'backup_Mars_out_170810', 'backup_new_files_080809', 'backup_source_060809', 'backup_source_080809', 'backup_source_170810']\n",
        "All fine.\n",
        "['backaup_results', 'coyoteprograms', 'tmp', 'tmp_CO_inv', 'tmp_fromHideo', 'tmp_H2O2', 'tmp_H2O_inv', 'tmp_HCl', 'tmp_HF', 'tmp_NO', 'tmp_O', 'tmp_O2', 'tmp_O3', 'tmp_SO2']"
       ]
      },
      {
       "output_type": "stream",
       "stream": "stdout",
       "text": [
        "\n",
        "All fine.\n",
        "['tmp_H2O_4PM_30009', 'tmp_minor_6PM_060809']"
       ]
      },
      {
       "output_type": "stream",
       "stream": "stdout",
       "text": [
        "\n",
        "All fine.\n",
        "[]"
       ]
      },
      {
       "output_type": "stream",
       "stream": "stdout",
       "text": [
        "\n",
        "All fine.\n",
        "[]"
       ]
      },
      {
       "output_type": "stream",
       "stream": "stdout",
       "text": [
        "\n",
        "All fine.\n",
        "[]"
       ]
      },
      {
       "output_type": "stream",
       "stream": "stdout",
       "text": [
        "\n",
        "All fine.\n",
        "[]\n",
        "All fine.\n",
        "[]"
       ]
      },
      {
       "output_type": "stream",
       "stream": "stdout",
       "text": [
        "\n",
        "All fine.\n",
        "[]"
       ]
      },
      {
       "output_type": "stream",
       "stream": "stdout",
       "text": [
        "\n",
        "All fine.\n",
        "[]"
       ]
      },
      {
       "output_type": "stream",
       "stream": "stdout",
       "text": [
        "\n",
        "All fine.\n",
        "[]\n",
        "All fine.\n",
        "[]"
       ]
      },
      {
       "output_type": "stream",
       "stream": "stdout",
       "text": [
        "\n",
        "All fine.\n",
        "[]\n",
        "All fine.\n",
        "[]\n",
        "All fine.\n",
        "[]"
       ]
      },
      {
       "output_type": "stream",
       "stream": "stdout",
       "text": [
        "\n",
        "All fine.\n",
        "[]\n",
        "All fine.\n",
        "[]"
       ]
      },
      {
       "output_type": "stream",
       "stream": "stdout",
       "text": [
        "\n",
        "All fine.\n",
        "['CO_apriori2', 'cont', 'H2O2', 'H2O_apriori2', 'HCl', 'HF']"
       ]
      },
      {
       "output_type": "stream",
       "stream": "stdout",
       "text": [
        "\n",
        "All fine.\n",
        "[]"
       ]
      },
      {
       "output_type": "stream",
       "stream": "stdout",
       "text": [
        "\n",
        "All fine.\n",
        "[]"
       ]
      },
      {
       "output_type": "stream",
       "stream": "stdout",
       "text": [
        "\n",
        "All fine.\n",
        "[]\n",
        "All fine.\n",
        "[]"
       ]
      },
      {
       "output_type": "stream",
       "stream": "stdout",
       "text": [
        "\n",
        "All fine.\n",
        "[]\n",
        "All fine.\n",
        "[]"
       ]
      },
      {
       "output_type": "stream",
       "stream": "stdout",
       "text": [
        "\n",
        "All fine.\n",
        "[]\n",
        "All fine.\n",
        "[]"
       ]
      },
      {
       "output_type": "stream",
       "stream": "stdout",
       "text": [
        "\n",
        "All fine.\n",
        "[]"
       ]
      },
      {
       "output_type": "stream",
       "stream": "stdout",
       "text": [
        "\n",
        "All fine.\n",
        "[]"
       ]
      },
      {
       "output_type": "stream",
       "stream": "stdout",
       "text": [
        "\n",
        "All fine.\n",
        "[]"
       ]
      },
      {
       "output_type": "stream",
       "stream": "stdout",
       "text": [
        "\n",
        "All fine.\n",
        "[]"
       ]
      },
      {
       "output_type": "stream",
       "stream": "stdout",
       "text": [
        "\n",
        "All fine.\n",
        "[]"
       ]
      },
      {
       "output_type": "stream",
       "stream": "stdout",
       "text": [
        "\n",
        "All fine.\n",
        "[]"
       ]
      },
      {
       "output_type": "stream",
       "stream": "stdout",
       "text": [
        "\n",
        "All fine.\n",
        "['anya_extracted_12_Jan_2011', 'Ganna_Mars_PACS_June2010', 'LMD_Ls90-120_UMST20hr', 'zips']"
       ]
      },
      {
       "output_type": "stream",
       "stream": "stdout",
       "text": [
        "\n",
        "All fine.\n",
        "[]"
       ]
      },
      {
       "output_type": "stream",
       "stream": "stdout",
       "text": [
        "\n",
        "All fine.\n",
        "[]"
       ]
      },
      {
       "output_type": "stream",
       "stream": "stdout",
       "text": [
        "\n",
        "All fine.\n",
        "['__tmp_workspace', 'PACS_H2O_103-189um_old_files']"
       ]
      },
      {
       "output_type": "stream",
       "stream": "stdout",
       "text": [
        "\n",
        "All fine.\n",
        "[]"
       ]
      },
      {
       "output_type": "stream",
       "stream": "stdout",
       "text": [
        "\n",
        "All fine.\n",
        "['png', 'red_103-190', 'red_103-190_cont']"
       ]
      },
      {
       "output_type": "stream",
       "stream": "stdout",
       "text": [
        "\n",
        "All fine.\n",
        "[]"
       ]
      },
      {
       "output_type": "stream",
       "stream": "stdout",
       "text": [
        "\n",
        "All fine.\n",
        "[]"
       ]
      },
      {
       "output_type": "stream",
       "stream": "stdout",
       "text": [
        "\n",
        "All fine.\n",
        "[]"
       ]
      },
      {
       "output_type": "stream",
       "stream": "stdout",
       "text": [
        "\n",
        "All fine.\n",
        "[]"
       ]
      },
      {
       "output_type": "stream",
       "stream": "stdout",
       "text": [
        "\n",
        "All fine.\n",
        "[]"
       ]
      },
      {
       "output_type": "stream",
       "stream": "stdout",
       "text": [
        "\n",
        "All fine.\n",
        "['ref_PAPERS']"
       ]
      },
      {
       "output_type": "stream",
       "stream": "stdout",
       "text": [
        "\n",
        "All fine.\n",
        "[]"
       ]
      },
      {
       "output_type": "stream",
       "stream": "stdout",
       "text": [
        "\n",
        "All fine.\n",
        "['sys']"
       ]
      },
      {
       "output_type": "stream",
       "stream": "stdout",
       "text": [
        "\n",
        "All fine.\n",
        "[]\n",
        "All fine.\n",
        "['from_macbook']"
       ]
      },
      {
       "output_type": "stream",
       "stream": "stdout",
       "text": [
        "\n",
        "All fine.\n",
        "[]\n",
        "All fine.\n",
        "['icarus_template-2_0', 'tex_examples', 'TEXclasses_etc']"
       ]
      },
      {
       "output_type": "stream",
       "stream": "stdout",
       "text": [
        "\n",
        "All fine.\n",
        "['LATEX_classes_styles', 'natbib']"
       ]
      },
      {
       "output_type": "stream",
       "stream": "stdout",
       "text": [
        "\n",
        "All fine.\n",
        "[]"
       ]
      },
      {
       "output_type": "stream",
       "stream": "stdout",
       "text": [
        "\n",
        "All fine.\n",
        "[]\n",
        "All fine.\n",
        "[]"
       ]
      },
      {
       "output_type": "stream",
       "stream": "stdout",
       "text": [
        "\n",
        "All fine.\n",
        "[]\n",
        "All fine.\n",
        "['bibtex', 'tex']\n",
        "All fine.\n",
        "['bib', 'bst']\n",
        "All fine.\n",
        "['misc']"
       ]
      },
      {
       "output_type": "stream",
       "stream": "stdout",
       "text": [
        "\n",
        "All fine.\n",
        "[]"
       ]
      },
      {
       "output_type": "stream",
       "stream": "stdout",
       "text": [
        "\n",
        "All fine.\n",
        "['misc']\n",
        "All fine.\n",
        "[]\n",
        "All fine.\n",
        "['latex']\n",
        "All fine.\n",
        "['elsevier', 'lineno', 'misc']\n",
        "All fine.\n",
        "[]\n",
        "All fine.\n",
        "[]"
       ]
      },
      {
       "output_type": "stream",
       "stream": "stdout",
       "text": [
        "\n",
        "All fine.\n",
        "[]\n",
        "All fine.\n",
        "[]\n",
        "All fine.\n",
        "['SEP']\n",
        "All fine.\n",
        "[]\n",
        "All fine.\n",
        "['data', 'docs', 'mcd']\n",
        "All fine.\n",
        "[]"
       ]
      },
      {
       "output_type": "stream",
       "stream": "stdout",
       "text": [
        "\n",
        "All fine.\n",
        "['articles']\n",
        "All fine.\n",
        "[]\n",
        "All fine.\n",
        "['c_interfaces', 'idl', 'matlab', 'pres0', 'scilab', 'testcase']\n",
        "All fine.\n",
        "[]\n",
        "All fine.\n",
        "[]\n",
        "All fine.\n",
        "[]\n",
        "All fine.\n",
        "[]\n",
        "All fine.\n",
        "[]\n",
        "All fine.\n",
        "[]\n",
        "All fine.\n",
        "[]\n",
        "All fine.\n",
        "[]\n",
        "All fine.\n",
        "[]\n",
        "All fine.\n",
        "['general', 'MOLA_Anton', 'OMEGA', 'PDS', 'same areas with HRSC']\n",
        "All fine.\n",
        "[]\n",
        "All fine.\n",
        "[]\n",
        "All fine.\n",
        "['forHiRISE']"
       ]
      },
      {
       "output_type": "stream",
       "stream": "stdout",
       "text": [
        "\n",
        "All fine.\n",
        "[]\n",
        "All fine.\n",
        "[]"
       ]
      },
      {
       "output_type": "stream",
       "stream": "stdout",
       "text": [
        "\n",
        "All fine.\n",
        "['fan85S253E']\n",
        "All fine.\n",
        "[]"
       ]
      },
      {
       "output_type": "stream",
       "stream": "stdout",
       "text": [
        "\n",
        "All fine.\n",
        "['Classes2', 'classes2_old', 'Classes2_old2', 'Classes2_old3', 'figures', 'journals', 'lee_waves', 'lookatthis', 'MaximA5', 'pcpublic', 'PhDAbstract', 'ppwk', 'ppwk_old', 'shelyag_the', 'solarflux', 'Thesis_0605', 'thesis_1', 'ThesisClass', 'ttt']"
       ]
      },
      {
       "output_type": "stream",
       "stream": "stdout",
       "text": [
        "\n",
        "All fine.\n",
        "['A5', 'fromWojtek', 'intro', 'lee_waves', 'new_plots', 'pics_spiders']\n",
        "All fine.\n",
        "['final']"
       ]
      },
      {
       "output_type": "stream",
       "stream": "stdout",
       "text": [
        "\n",
        "All fine.\n",
        "[]"
       ]
      },
      {
       "output_type": "stream",
       "stream": "stdout",
       "text": [
        "\n",
        "All fine.\n",
        "[]\n",
        "All fine.\n",
        "[]\n",
        "All fine.\n",
        "['lee_waves_old']\n",
        "All fine.\n",
        "[]"
       ]
      },
      {
       "output_type": "stream",
       "stream": "stdout",
       "text": [
        "\n",
        "All fine.\n",
        "[]"
       ]
      },
      {
       "output_type": "stream",
       "stream": "stdout",
       "text": [
        "\n",
        "All fine.\n",
        "['comparison', 'konrad']"
       ]
      },
      {
       "output_type": "stream",
       "stream": "stdout",
       "text": [
        "\n",
        "All fine.\n",
        "[]\n",
        "All fine.\n",
        "[]"
       ]
      },
      {
       "output_type": "stream",
       "stream": "stdout",
       "text": [
        "\n",
        "All fine.\n",
        "['lee_waves', 'pics_spiders']\n",
        "All fine.\n",
        "[]\n",
        "All fine.\n",
        "['konrad']"
       ]
      },
      {
       "output_type": "stream",
       "stream": "stdout",
       "text": [
        "\n",
        "All fine.\n",
        "[]\n",
        "All fine.\n",
        "[]\n",
        "All fine.\n",
        "[]\n",
        "All fine.\n",
        "[]\n",
        "All fine.\n",
        "['d']"
       ]
      },
      {
       "output_type": "stream",
       "stream": "stdout",
       "text": [
        "\n",
        "All fine.\n",
        "[]\n",
        "All fine.\n",
        "[]"
       ]
      },
      {
       "output_type": "stream",
       "stream": "stdout",
       "text": [
        "\n",
        "All fine.\n",
        "['lee_waves', 'pics_spiders']\n",
        "All fine.\n",
        "[]\n",
        "All fine.\n",
        "['comparison', 'konrad']"
       ]
      },
      {
       "output_type": "stream",
       "stream": "stdout",
       "text": [
        "\n",
        "All fine.\n",
        "[]\n",
        "All fine.\n",
        "[]"
       ]
      },
      {
       "output_type": "stream",
       "stream": "stdout",
       "text": [
        "\n",
        "All fine.\n",
        "[]"
       ]
      },
      {
       "output_type": "stream",
       "stream": "stdout",
       "text": [
        "\n",
        "All fine.\n",
        "['for_BiBTeX', 'for_manuscript_preparation', 'for_preprints', 'samples']\n",
        "All fine.\n",
        "[]\n",
        "All fine.\n",
        "[]\n",
        "All fine.\n",
        "[]\n",
        "All fine.\n",
        "[]\n",
        "All fine.\n",
        "[]"
       ]
      },
      {
       "output_type": "stream",
       "stream": "stdout",
       "text": [
        "\n",
        "All fine.\n",
        "[]\n",
        "All fine.\n",
        "['Classes2_old1', 'Classes2_old2', 'presentations']"
       ]
      },
      {
       "output_type": "stream",
       "stream": "stdout",
       "text": [
        "\n",
        "All fine.\n",
        "['lee_waves', 'pics_spiders']\n",
        "All fine.\n",
        "[]"
       ]
      },
      {
       "output_type": "stream",
       "stream": "stdout",
       "text": [
        "\n",
        "All fine.\n",
        "['konrad']\n",
        "All fine.\n",
        "[]\n",
        "All fine.\n",
        "['intro', 'lee_waves', 'pics_spiders']"
       ]
      },
      {
       "output_type": "stream",
       "stream": "stdout",
       "text": [
        "\n",
        "All fine.\n",
        "[]\n",
        "All fine.\n",
        "[]\n",
        "All fine.\n",
        "['comparison', 'konrad']"
       ]
      },
      {
       "output_type": "stream",
       "stream": "stdout",
       "text": [
        "\n",
        "All fine.\n",
        "[]\n",
        "All fine.\n",
        "[]\n",
        "All fine.\n",
        "[]"
       ]
      },
      {
       "output_type": "stream",
       "stream": "stdout",
       "text": [
        "\n",
        "All fine.\n",
        "['070205', 'notused']\n",
        "All fine.\n",
        "[]"
       ]
      },
      {
       "output_type": "stream",
       "stream": "stdout",
       "text": [
        "\n",
        "All fine.\n",
        "[]\n",
        "All fine.\n",
        "['070205']\n",
        "All fine.\n",
        "[]\n",
        "All fine.\n",
        "[]"
       ]
      },
      {
       "output_type": "stream",
       "stream": "stdout",
       "text": [
        "\n",
        "All fine.\n",
        "[]\n",
        "All fine.\n",
        "['allClasses', 'Classes1', 'Classes2']"
       ]
      },
      {
       "output_type": "stream",
       "stream": "stdout",
       "text": [
        "\n",
        "All fine.\n",
        "[]\n",
        "All fine.\n",
        "['fromWojtek', 'intro', 'lee_waves', 'old_texs', 'pics_spiders']\n",
        "All fine.\n",
        "[]\n",
        "All fine.\n",
        "[]"
       ]
      },
      {
       "output_type": "stream",
       "stream": "stdout",
       "text": [
        "\n",
        "All fine.\n",
        "[]\n",
        "All fine.\n",
        "[]\n",
        "All fine.\n",
        "['comparison', 'konrad']"
       ]
      },
      {
       "output_type": "stream",
       "stream": "stdout",
       "text": [
        "\n",
        "All fine.\n",
        "[]\n",
        "All fine.\n",
        "['dps']\n",
        "All fine.\n",
        "[]\n",
        "All fine.\n",
        "[]\n",
        "All fine.\n",
        "['probki']"
       ]
      },
      {
       "output_type": "stream",
       "stream": "stdout",
       "text": [
        "\n",
        "All fine.\n",
        "[]\n",
        "All fine.\n",
        "[]\n",
        "All fine.\n",
        "['CP', 'MAPS_EPS_workshop', 'old_idl_pros', 'VMC_IDL_pros']\n",
        "All fine.\n",
        "['CP0033']"
       ]
      },
      {
       "output_type": "stream",
       "stream": "stdout",
       "text": [
        "\n",
        "All fine.\n",
        "[]\n",
        "All fine.\n",
        "['Examples_EPS_MAPPS_WS_Feb_2007']\n",
        "All fine.\n",
        "['19Feb2007-221911', '20Feb2007-090816', '20Feb2007-111519', '20Feb2007-111559', '21Feb2007-090130', '21Feb2007-090356', '21Feb2007-090409', '28Feb2007-085631', 'MTP013']\n",
        "All fine.\n",
        "[]\n",
        "All fine.\n",
        "[]"
       ]
      },
      {
       "output_type": "stream",
       "stream": "stdout",
       "text": [
        "\n",
        "All fine.\n",
        "[]\n",
        "All fine.\n",
        "[]\n",
        "All fine.\n",
        "[]\n",
        "All fine.\n",
        "[]"
       ]
      },
      {
       "output_type": "stream",
       "stream": "stdout",
       "text": [
        "\n",
        "All fine.\n",
        "[]\n",
        "All fine.\n",
        "[]\n",
        "All fine.\n",
        "[]"
       ]
      },
      {
       "output_type": "stream",
       "stream": "stdout",
       "text": [
        "\n",
        "All fine.\n",
        "[]\n",
        "All fine.\n",
        "[]\n",
        "All fine.\n",
        "['Inca_City_Frederic', 'proposition_target_HiRISE']"
       ]
      },
      {
       "output_type": "stream",
       "stream": "stdout",
       "text": [
        "\n",
        "All fine.\n",
        "[]\n",
        "All fine.\n",
        "[]"
       ]
      },
      {
       "output_type": "stream",
       "stream": "stdout",
       "text": [
        "\n",
        "All fine.\n",
        "['GRAPHER2', 'Office2007', 'Rainlender', 'System_restore', 'Turbo_c', 'TwittDeck', 'WinDjView-0.5']\n",
        "All fine.\n",
        "['INFO', 'INSTALL', 'REG', 'Samples', 'Scripter', 'Symbols', 'Template']\n",
        "All fine.\n",
        "[]"
       ]
      },
      {
       "output_type": "stream",
       "stream": "stdout",
       "text": [
        "\n",
        "All fine.\n",
        "[]\n",
        "All fine.\n",
        "[]\n",
        "All fine.\n",
        "[]\n",
        "All fine.\n",
        "[]"
       ]
      },
      {
       "output_type": "stream",
       "stream": "stdout",
       "text": [
        "\n",
        "All fine.\n",
        "[]\n",
        "All fine.\n",
        "[]\n",
        "All fine.\n",
        "['Access.en-us', 'Admin', 'Catalog', 'Excel.en-us', 'InfoPath.en-us', 'Office.en-us', 'Office64.en-us', 'Outlook.en-us', 'PowerPoint.en-us', 'Proofing.en-us', 'ProPlus.WW', 'Publisher.en-us', 'Rosebud.en-us', 'Updates', 'Word.en-us']"
       ]
      },
      {
       "output_type": "stream",
       "stream": "stdout",
       "text": [
        "\n",
        "All fine.\n",
        "['Access.en-us']\n",
        "All fine.\n",
        "[]\n",
        "All fine.\n",
        "['de-de', 'en-us', 'es-es', 'fr-fr', 'it-it', 'ja-jp', 'ko-kr', 'zh-cn', 'zh-tw']"
       ]
      },
      {
       "output_type": "stream",
       "stream": "stdout",
       "text": [
        "\n",
        "All fine.\n",
        "[]\n",
        "All fine.\n",
        "[]\n",
        "All fine.\n",
        "[]"
       ]
      },
      {
       "output_type": "stream",
       "stream": "stdout",
       "text": [
        "\n",
        "All fine.\n",
        "[]\n",
        "All fine.\n",
        "[]\n",
        "All fine.\n",
        "[]"
       ]
      },
      {
       "output_type": "stream",
       "stream": "stdout",
       "text": [
        "\n",
        "All fine.\n",
        "[]\n",
        "All fine.\n",
        "[]\n",
        "All fine.\n",
        "[]"
       ]
      },
      {
       "output_type": "stream",
       "stream": "stdout",
       "text": [
        "\n",
        "All fine.\n",
        "[]\n",
        "All fine.\n",
        "[]\n",
        "All fine.\n",
        "[]"
       ]
      },
      {
       "output_type": "stream",
       "stream": "stdout",
       "text": [
        "\n",
        "All fine.\n",
        "['1033']\n",
        "All fine.\n",
        "[]\n",
        "All fine.\n",
        "[]"
       ]
      },
      {
       "output_type": "stream",
       "stream": "stdout",
       "text": [
        "\n",
        "All fine.\n",
        "[]"
       ]
      },
      {
       "output_type": "stream",
       "stream": "stdout",
       "text": [
        "\n",
        "All fine.\n",
        "[]\n",
        "All fine.\n",
        "[]"
       ]
      },
      {
       "output_type": "stream",
       "stream": "stdout",
       "text": [
        "\n",
        "All fine.\n",
        "['Proof.en', 'Proof.es', 'Proof.fr']\n",
        "All fine.\n",
        "[]"
       ]
      },
      {
       "output_type": "stream",
       "stream": "stdout",
       "text": [
        "\n",
        "All fine.\n",
        "[]\n",
        "All fine.\n",
        "[]\n",
        "All fine.\n",
        "[]\n",
        "All fine.\n",
        "[]\n",
        "All fine.\n",
        "[]\n",
        "All fine.\n",
        "[]\n",
        "All fine.\n",
        "[]\n",
        "All fine.\n",
        "['ver 8_1']\n",
        "All fine.\n",
        "['Rollback-20080520v8.11', 'Rollback_RX_8.1']"
       ]
      },
      {
       "output_type": "stream",
       "stream": "stdout",
       "text": [
        "\n",
        "All fine.\n",
        "['Documents', 'Lang', 'program files', 'Support', 'System32', 'Windows']\n",
        "All fine.\n",
        "[]"
       ]
      },
      {
       "output_type": "stream",
       "stream": "stdout",
       "text": [
        "\n",
        "All fine.\n",
        "[]\n",
        "All fine.\n",
        "['Lang']\n",
        "All fine.\n",
        "[]"
       ]
      },
      {
       "output_type": "stream",
       "stream": "stdout",
       "text": [
        "\n",
        "All fine.\n",
        "['Drivers', 'Iosubsys']"
       ]
      },
      {
       "output_type": "stream",
       "stream": "stdout",
       "text": [
        "\n",
        "All fine.\n",
        "[]\n",
        "All fine.\n",
        "[]\n",
        "All fine.\n",
        "[]\n",
        "All fine.\n",
        "['Shield']\n",
        "All fine.\n",
        "['AVIS', 'Drive Image', 'Lang']"
       ]
      },
      {
       "output_type": "stream",
       "stream": "stdout",
       "text": [
        "\n",
        "All fine.\n",
        "[]\n",
        "All fine.\n",
        "['cdfiles']"
       ]
      },
      {
       "output_type": "stream",
       "stream": "stdout",
       "text": [
        "\n",
        "All fine.\n",
        "['isolinux']\n",
        "All fine.\n",
        "[]\n",
        "All fine.\n",
        "[]"
       ]
      },
      {
       "output_type": "stream",
       "stream": "stdout",
       "text": [
        "\n",
        "All fine.\n",
        "[]"
       ]
      },
      {
       "output_type": "stream",
       "stream": "stdout",
       "text": [
        "\n",
        "All fine.\n",
        "['Install_.NET']\n",
        "All fine.\n",
        "[]\n",
        "All fine.\n",
        "[]\n",
        "All fine.\n",
        "[]"
       ]
      },
      {
       "output_type": "stream",
       "stream": "stdout",
       "text": [
        "\n",
        "All fine.\n",
        "['from_old_laptopdisk', 'pressure']"
       ]
      },
      {
       "output_type": "stream",
       "stream": "stdout",
       "text": [
        "\n",
        "All fine.\n",
        "['for_spiders', 'MCRead']\n",
        "All fine.\n",
        "['Documentation', 'FrontEnd']\n",
        "All fine.\n",
        "['English']\n",
        "All fine.\n",
        "[]\n",
        "All fine.\n",
        "['Palettes']\n",
        "All fine.\n",
        "[]"
       ]
      },
      {
       "output_type": "stream",
       "stream": "stdout",
       "text": [
        "\n",
        "All fine.\n",
        "[]\n",
        "All fine.\n",
        "[]\n",
        "All fine.\n",
        "['old_06_08_28']\n",
        "All fine.\n",
        "[]"
       ]
      },
      {
       "output_type": "stream",
       "stream": "stdout",
       "text": [
        "\n",
        "All fine.\n",
        "['all I need3', 'destr_probability3', 'destr_s_zateneniem2', 'diffeqnew', 'dustdisks', 'IceAndDust', 'insolation', 'packice', 'pressure', 'spiders', 'spidersejecta', 'statistics', 'underice']\n",
        "All fine.\n",
        "['Debug']\n",
        "All fine.\n",
        "[]"
       ]
      },
      {
       "output_type": "stream",
       "stream": "stdout",
       "text": [
        "\n",
        "All fine.\n",
        "['dustdestribution', 'dustdestribution2', 'dustdisks', 'Ice2', 'IceAndDust']"
       ]
      },
      {
       "output_type": "stream",
       "stream": "stdout",
       "text": [
        "\n",
        "All fine.\n",
        "['Debug']"
       ]
      },
      {
       "output_type": "stream",
       "stream": "stdout",
       "text": [
        "\n",
        "All fine.\n",
        "[]\n",
        "All fine.\n",
        "['Debug']"
       ]
      },
      {
       "output_type": "stream",
       "stream": "stdout",
       "text": [
        "\n",
        "All fine.\n",
        "[]\n",
        "All fine.\n",
        "['Debug', 'Results']"
       ]
      },
      {
       "output_type": "stream",
       "stream": "stdout",
       "text": [
        "\n",
        "All fine.\n",
        "[]\n",
        "All fine.\n",
        "[]"
       ]
      },
      {
       "output_type": "stream",
       "stream": "stdout",
       "text": [
        "\n",
        "All fine.\n",
        "['Debug', 'Results']\n",
        "All fine.\n",
        "[]\n",
        "All fine.\n",
        "[]"
       ]
      },
      {
       "output_type": "stream",
       "stream": "stdout",
       "text": [
        "\n",
        "All fine.\n",
        "['Debug']\n",
        "All fine.\n",
        "[]\n",
        "All fine.\n",
        "['1000', '200', 'Debug', 'Release']"
       ]
      },
      {
       "output_type": "stream",
       "stream": "stdout",
       "text": [
        "\n",
        "All fine.\n",
        "[]\n",
        "All fine.\n",
        "[]\n",
        "All fine.\n",
        "[]\n",
        "All fine.\n",
        "[]\n",
        "All fine.\n",
        "['before 1603', 'Debug', 'Release', 'Results', 'Results1000']"
       ]
      },
      {
       "output_type": "stream",
       "stream": "stdout",
       "text": [
        "\n",
        "All fine.\n",
        "[]\n",
        "All fine.\n",
        "[]\n",
        "All fine.\n",
        "[]\n",
        "All fine.\n",
        "[]"
       ]
      },
      {
       "output_type": "stream",
       "stream": "stdout",
       "text": [
        "\n",
        "All fine.\n",
        "[]\n",
        "All fine.\n",
        "['Debug']\n",
        "All fine.\n",
        "[]\n",
        "All fine.\n",
        "['Debug', 'dustdisks2']"
       ]
      },
      {
       "output_type": "stream",
       "stream": "stdout",
       "text": [
        "\n",
        "All fine.\n",
        "[]\n",
        "All fine.\n",
        "['Debug']"
       ]
      },
      {
       "output_type": "stream",
       "stream": "stdout",
       "text": [
        "\n",
        "All fine.\n",
        "[]\n",
        "All fine.\n",
        "['Debug']\n",
        "All fine.\n",
        "[]\n",
        "All fine.\n",
        "['Debug']"
       ]
      },
      {
       "output_type": "stream",
       "stream": "stdout",
       "text": [
        "\n",
        "All fine.\n",
        "[]\n",
        "All fine.\n",
        "['Debug']"
       ]
      },
      {
       "output_type": "stream",
       "stream": "stdout",
       "text": [
        "\n",
        "All fine.\n",
        "[]"
       ]
      },
      {
       "output_type": "stream",
       "stream": "stdout",
       "text": [
        "\n",
        "All fine.\n",
        "['old']\n",
        "All fine.\n",
        "['Debug']"
       ]
      },
      {
       "output_type": "stream",
       "stream": "stdout",
       "text": [
        "\n",
        "All fine.\n",
        "[]\n",
        "All fine.\n",
        "['ejecta']"
       ]
      },
      {
       "output_type": "stream",
       "stream": "stdout",
       "text": [
        "\n",
        "All fine.\n",
        "['Debug']\n",
        "All fine.\n",
        "[]\n",
        "All fine.\n",
        "['Debug']\n",
        "All fine.\n",
        "[]\n",
        "All fine.\n",
        "['Debug', 'Release']\n",
        "All fine.\n",
        "[]"
       ]
      },
      {
       "output_type": "stream",
       "stream": "stdout",
       "text": [
        "\n",
        "All fine.\n",
        "[]\n",
        "All fine.\n",
        "[]"
       ]
      },
      {
       "output_type": "stream",
       "stream": "stdout",
       "text": [
        "\n",
        "All fine.\n",
        "[]"
       ]
      },
      {
       "output_type": "stream",
       "stream": "stdout",
       "text": [
        "\n",
        "All fine.\n",
        "['dem', 'qgis_sample_data']\n",
        "All fine.\n",
        "[]"
       ]
      },
      {
       "output_type": "stream",
       "stream": "stdout",
       "text": [
        "\n",
        "All fine.\n",
        "['climate', 'csv', 'gml', 'gps', 'grassdata', 'raster', 'shapefiles']\n",
        "All fine.\n",
        "[]"
       ]
      },
      {
       "output_type": "stream",
       "stream": "stdout",
       "text": [
        "\n",
        "All fine.\n",
        "[]\n",
        "All fine.\n",
        "[]\n",
        "All fine.\n",
        "[]\n",
        "All fine.\n",
        "['alaska']\n",
        "All fine.\n",
        "['demo', 'PERMANENT']\n",
        "All fine.\n",
        "['.tmp', 'cats', 'cell', 'cell_misc', 'cellhd', 'colr', 'dbf', 'fcell', 'hist', 'vector', 'windows']"
       ]
      },
      {
       "output_type": "stream",
       "stream": "stdout",
       "text": [
        "\n",
        "All fine.\n",
        "['nature']\n",
        "All fine.\n",
        "[]\n",
        "All fine.\n",
        "[]\n",
        "All fine.\n",
        "[]\n",
        "All fine.\n",
        "[]\n",
        "All fine.\n",
        "[]\n",
        "All fine.\n",
        "[]\n",
        "All fine.\n",
        "[]\n",
        "All fine.\n",
        "[]\n",
        "All fine.\n",
        "[]\n",
        "All fine.\n",
        "[]\n",
        "All fine.\n",
        "[]\n",
        "All fine.\n",
        "['.tmp', 'cats', 'cell', 'cell_misc', 'cellhd', 'colr', 'dbf', 'fcell', 'g3dcell', 'hist', 'vector']\n",
        "All fine.\n",
        "['nature']\n",
        "All fine.\n",
        "[]\n",
        "All fine.\n",
        "[]\n",
        "All fine.\n",
        "[]\n",
        "All fine.\n",
        "['gtopo30']\n",
        "All fine.\n",
        "[]\n",
        "All fine.\n",
        "[]\n",
        "All fine.\n",
        "[]\n",
        "All fine.\n",
        "[]\n",
        "All fine.\n",
        "[]\n",
        "All fine.\n",
        "[]\n",
        "All fine.\n",
        "[]\n",
        "All fine.\n",
        "['airports', 'alaska', 'rivers']\n",
        "All fine.\n",
        "[]\n",
        "All fine.\n",
        "[]\n",
        "All fine.\n",
        "[]\n",
        "All fine.\n",
        "[]\n",
        "All fine.\n",
        "[]\n",
        "All fine.\n",
        "[]"
       ]
      },
      {
       "output_type": "stream",
       "stream": "stdout",
       "text": [
        "\n",
        "All fine.\n",
        "['spider_sketches']\n",
        "All fine.\n",
        "[]\n",
        "All fine.\n",
        "['HiRISE_IcarusIssue', 'icarus_template-2_0', 'lee_waves_paper_2', 'PhdAbstract', 'ppwk', 'spiders_paper', 'spiders_paper_2', 'tex_examples', 'thesis']\n",
        "All fine.\n",
        "['images']\n",
        "All fine.\n",
        "['old']"
       ]
      },
      {
       "output_type": "stream",
       "stream": "stdout",
       "text": [
        "\n",
        "All fine.\n",
        "[]\n",
        "All fine.\n",
        "[]\n",
        "All fine.\n",
        "[]\n",
        "All fine.\n",
        "['lee_waves']\n",
        "All fine.\n",
        "[]\n",
        "All fine.\n",
        "['070205', 'notused']\n",
        "All fine.\n",
        "[]"
       ]
      },
      {
       "output_type": "stream",
       "stream": "stdout",
       "text": [
        "\n",
        "All fine.\n",
        "[]\n",
        "All fine.\n",
        "['new_plots', 'pics_spiders']\n",
        "All fine.\n",
        "[]\n",
        "All fine.\n",
        "['comparison', 'konrad']\n",
        "All fine.\n",
        "[]\n",
        "All fine.\n",
        "[]\n",
        "All fine.\n",
        "['new_plots', 'pics_spiders']"
       ]
      },
      {
       "output_type": "stream",
       "stream": "stdout",
       "text": [
        "\n",
        "All fine.\n",
        "[]"
       ]
      },
      {
       "output_type": "stream",
       "stream": "stdout",
       "text": [
        "\n",
        "All fine.\n",
        "['comparison', 'konrad']\n",
        "All fine.\n",
        "[]\n",
        "All fine.\n",
        "[]"
       ]
      },
      {
       "output_type": "stream",
       "stream": "stdout",
       "text": [
        "\n",
        "All fine.\n",
        "[]\n",
        "All fine.\n",
        "['A5', 'intro', 'lee_waves', 'new_plots', 'pics_spiders']\n",
        "All fine.\n",
        "['final']\n",
        "All fine.\n",
        "[]"
       ]
      },
      {
       "output_type": "stream",
       "stream": "stdout",
       "text": [
        "\n",
        "All fine.\n",
        "[]\n",
        "All fine.\n",
        "[]\n",
        "All fine.\n",
        "[]"
       ]
      },
      {
       "output_type": "stream",
       "stream": "stdout",
       "text": [
        "\n",
        "All fine.\n",
        "['comparison', 'konrad']\n",
        "All fine.\n",
        "[]\n",
        "All fine.\n",
        "[]\n",
        "All fine.\n",
        "['Big Bang Theorie Season 2']\n",
        "All fine.\n",
        "[]"
       ]
      },
      {
       "output_type": "stream",
       "stream": "stdout",
       "text": [
        "\n",
        "All fine.\n",
        "['PSprint', 'Test']\n",
        "All fine.\n",
        "['NT40', 'Win2000', 'Win9x']\n",
        "All fine.\n",
        "['Adobe5', 'Standard']"
       ]
      },
      {
       "output_type": "stream",
       "stream": "stdout",
       "text": [
        "\n",
        "All fine.\n",
        "[]\n",
        "All fine.\n",
        "[]\n",
        "All fine.\n",
        "['Standard']"
       ]
      },
      {
       "output_type": "stream",
       "stream": "stdout",
       "text": [
        "\n",
        "All fine.\n",
        "[]\n",
        "All fine.\n",
        "['Adobe426', 'Standard']\n",
        "All fine.\n",
        "[]\n",
        "All fine.\n",
        "[]"
       ]
      },
      {
       "output_type": "stream",
       "stream": "stdout",
       "text": [
        "\n",
        "All fine.\n",
        "[]"
       ]
      },
      {
       "output_type": "stream",
       "stream": "stdout",
       "text": [
        "\n",
        "All fine.\n",
        "['Album Artwork', 'iTunes Media']"
       ]
      },
      {
       "output_type": "stream",
       "stream": "stdout",
       "text": [
        "\n",
        "All fine.\n",
        "['Cache', 'Download']"
       ]
      },
      {
       "output_type": "stream",
       "stream": "stdout",
       "text": [
        "\n",
        "All fine.\n",
        "['12BB280AC5D9B363']"
       ]
      },
      {
       "output_type": "stream",
       "stream": "stdout",
       "text": [
        "\n",
        "All fine.\n",
        "['00', '01', '02', '03', '04', '06', '07', '08', '09', '10', '11', '12', '13', '14', '15']\n",
        "All fine.\n",
        "['08', '10']\n",
        "All fine.\n",
        "['14']\n",
        "All fine.\n",
        "[]\n",
        "All fine.\n",
        "['15']\n",
        "All fine.\n",
        "[]\n",
        "All fine.\n",
        "['03', '05', '07', '08']\n",
        "All fine.\n",
        "['15']\n",
        "All fine.\n",
        "[]\n",
        "All fine.\n",
        "['02']\n",
        "All fine.\n",
        "[]\n",
        "All fine.\n",
        "['07']\n",
        "All fine.\n",
        "[]\n",
        "All fine.\n",
        "['10']\n",
        "All fine.\n",
        "[]"
       ]
      },
      {
       "output_type": "stream",
       "stream": "stdout",
       "text": [
        "\n",
        "All fine.\n",
        "['00', '01', '05', '06', '10']"
       ]
      },
      {
       "output_type": "stream",
       "stream": "stdout",
       "text": [
        "\n",
        "All fine.\n",
        "['02']\n",
        "All fine.\n",
        "[]\n",
        "All fine.\n",
        "['09']"
       ]
      },
      {
       "output_type": "stream",
       "stream": "stdout",
       "text": [
        "\n",
        "All fine.\n",
        "[]\n",
        "All fine.\n",
        "['11']\n",
        "All fine.\n",
        "[]\n",
        "All fine.\n",
        "['07']\n",
        "All fine.\n",
        "[]\n",
        "All fine.\n",
        "['05', '13']"
       ]
      },
      {
       "output_type": "stream",
       "stream": "stdout",
       "text": [
        "\n",
        "All fine.\n",
        "[]\n",
        "All fine.\n",
        "[]\n",
        "All fine.\n",
        "['00', '09']\n",
        "All fine.\n",
        "['11']\n",
        "All fine.\n",
        "[]\n",
        "All fine.\n",
        "['10']\n",
        "All fine.\n",
        "[]\n",
        "All fine.\n",
        "['04', '05', '08', '11', '14']\n",
        "All fine.\n",
        "['11']\n",
        "All fine.\n",
        "[]"
       ]
      },
      {
       "output_type": "stream",
       "stream": "stdout",
       "text": [
        "\n",
        "All fine.\n",
        "['09']\n",
        "All fine.\n",
        "[]\n",
        "All fine.\n",
        "['00']\n",
        "All fine.\n",
        "[]\n",
        "All fine.\n",
        "['13']\n",
        "All fine.\n",
        "[]\n",
        "All fine.\n",
        "['12']\n",
        "All fine.\n",
        "[]\n",
        "All fine.\n",
        "['04', '05', '09', '13', '14']\n",
        "All fine.\n",
        "['12']\n",
        "All fine.\n",
        "[]\n",
        "All fine.\n",
        "['03']"
       ]
      },
      {
       "output_type": "stream",
       "stream": "stdout",
       "text": [
        "\n",
        "All fine.\n",
        "[]\n",
        "All fine.\n",
        "['02', '06']\n",
        "All fine.\n",
        "[]\n",
        "All fine.\n",
        "[]\n",
        "All fine.\n",
        "['12']"
       ]
      },
      {
       "output_type": "stream",
       "stream": "stdout",
       "text": [
        "\n",
        "All fine.\n",
        "[]\n",
        "All fine.\n",
        "['03']"
       ]
      },
      {
       "output_type": "stream",
       "stream": "stdout",
       "text": [
        "\n",
        "All fine.\n",
        "[]\n",
        "All fine.\n",
        "['06', '10', '11']"
       ]
      },
      {
       "output_type": "stream",
       "stream": "stdout",
       "text": [
        "\n",
        "All fine.\n",
        "['06']\n",
        "All fine.\n",
        "[]"
       ]
      },
      {
       "output_type": "stream",
       "stream": "stdout",
       "text": [
        "\n",
        "All fine.\n",
        "['14']\n",
        "All fine.\n",
        "[]"
       ]
      },
      {
       "output_type": "stream",
       "stream": "stdout",
       "text": [
        "\n",
        "All fine.\n",
        "['06', '07', '10']\n",
        "All fine.\n",
        "[]"
       ]
      },
      {
       "output_type": "stream",
       "stream": "stdout",
       "text": [
        "\n",
        "All fine.\n",
        "[]\n",
        "All fine.\n",
        "[]"
       ]
      },
      {
       "output_type": "stream",
       "stream": "stdout",
       "text": [
        "\n",
        "All fine.\n",
        "['03', '07', '09', '11', '14']\n",
        "All fine.\n",
        "['06']\n",
        "All fine.\n",
        "[]"
       ]
      },
      {
       "output_type": "stream",
       "stream": "stdout",
       "text": [
        "\n",
        "All fine.\n",
        "['09']\n",
        "All fine.\n",
        "[]\n",
        "All fine.\n",
        "['10']"
       ]
      },
      {
       "output_type": "stream",
       "stream": "stdout",
       "text": [
        "\n",
        "All fine.\n",
        "[]"
       ]
      },
      {
       "output_type": "stream",
       "stream": "stdout",
       "text": [
        "\n",
        "All fine.\n",
        "['04']\n",
        "All fine.\n",
        "[]\n",
        "All fine.\n",
        "['06', '07']"
       ]
      },
      {
       "output_type": "stream",
       "stream": "stdout",
       "text": [
        "\n",
        "All fine.\n",
        "[]\n",
        "All fine.\n",
        "[]\n",
        "All fine.\n",
        "['02', '05', '08', '09', '12', '15']"
       ]
      },
      {
       "output_type": "stream",
       "stream": "stdout",
       "text": [
        "\n",
        "All fine.\n",
        "['08']"
       ]
      },
      {
       "output_type": "stream",
       "stream": "stdout",
       "text": [
        "\n",
        "All fine.\n",
        "[]"
       ]
      },
      {
       "output_type": "stream",
       "stream": "stdout",
       "text": [
        "\n",
        "All fine.\n",
        "['00']"
       ]
      },
      {
       "output_type": "stream",
       "stream": "stdout",
       "text": [
        "\n",
        "All fine.\n",
        "[]"
       ]
      },
      {
       "output_type": "stream",
       "stream": "stdout",
       "text": [
        "\n",
        "All fine.\n",
        "['00']"
       ]
      },
      {
       "output_type": "stream",
       "stream": "stdout",
       "text": [
        "\n",
        "All fine.\n",
        "[]"
       ]
      },
      {
       "output_type": "stream",
       "stream": "stdout",
       "text": [
        "\n",
        "All fine.\n",
        "['06']"
       ]
      },
      {
       "output_type": "stream",
       "stream": "stdout",
       "text": [
        "\n",
        "All fine.\n",
        "[]"
       ]
      },
      {
       "output_type": "stream",
       "stream": "stdout",
       "text": [
        "\n",
        "All fine.\n",
        "['07']\n",
        "All fine.\n",
        "[]\n",
        "All fine.\n",
        "['15']"
       ]
      },
      {
       "output_type": "stream",
       "stream": "stdout",
       "text": [
        "\n",
        "All fine.\n",
        "[]\n",
        "All fine.\n",
        "['00', '05', '06', '07', '14', '15']\n",
        "All fine.\n",
        "['12']\n",
        "All fine.\n",
        "[]"
       ]
      },
      {
       "output_type": "stream",
       "stream": "stdout",
       "text": [
        "\n",
        "All fine.\n",
        "['04']\n",
        "All fine.\n",
        "[]\n",
        "All fine.\n",
        "['07', '11']"
       ]
      },
      {
       "output_type": "stream",
       "stream": "stdout",
       "text": [
        "\n",
        "All fine.\n",
        "[]"
       ]
      },
      {
       "output_type": "stream",
       "stream": "stdout",
       "text": [
        "\n",
        "All fine.\n",
        "[]\n",
        "All fine.\n",
        "['03']"
       ]
      },
      {
       "output_type": "stream",
       "stream": "stdout",
       "text": [
        "\n",
        "All fine.\n",
        "[]\n",
        "All fine.\n",
        "['14']"
       ]
      },
      {
       "output_type": "stream",
       "stream": "stdout",
       "text": [
        "\n",
        "All fine.\n",
        "[]\n",
        "All fine.\n",
        "['14']"
       ]
      },
      {
       "output_type": "stream",
       "stream": "stdout",
       "text": [
        "\n",
        "All fine.\n",
        "[]\n",
        "All fine.\n",
        "['04', '11', '13', '14']\n",
        "All fine.\n",
        "['04']"
       ]
      },
      {
       "output_type": "stream",
       "stream": "stdout",
       "text": [
        "\n",
        "All fine.\n",
        "[]\n",
        "All fine.\n",
        "['03']\n",
        "All fine.\n",
        "[]\n",
        "All fine.\n",
        "['09']\n",
        "All fine.\n",
        "[]"
       ]
      },
      {
       "output_type": "stream",
       "stream": "stdout",
       "text": [
        "\n",
        "All fine.\n",
        "['14']\n",
        "All fine.\n",
        "[]\n",
        "All fine.\n",
        "['00', '01', '04', '07', '12', '15']\n",
        "All fine.\n",
        "['13']\n",
        "All fine.\n",
        "[]"
       ]
      },
      {
       "output_type": "stream",
       "stream": "stdout",
       "text": [
        "\n",
        "All fine.\n",
        "['05']\n",
        "All fine.\n",
        "[]\n",
        "All fine.\n",
        "['08', '11']\n",
        "All fine.\n",
        "[]"
       ]
      },
      {
       "output_type": "stream",
       "stream": "stdout",
       "text": [
        "\n",
        "All fine.\n",
        "[]\n",
        "All fine.\n",
        "['01']\n",
        "All fine.\n",
        "[]"
       ]
      },
      {
       "output_type": "stream",
       "stream": "stdout",
       "text": [
        "\n",
        "All fine.\n",
        "['11']"
       ]
      },
      {
       "output_type": "stream",
       "stream": "stdout",
       "text": [
        "\n",
        "All fine.\n",
        "[]\n",
        "All fine.\n",
        "['02']\n",
        "All fine.\n",
        "[]\n",
        "All fine.\n",
        "['07', '09', '13', '15']\n",
        "All fine.\n",
        "['02']"
       ]
      },
      {
       "output_type": "stream",
       "stream": "stdout",
       "text": [
        "\n",
        "All fine.\n",
        "[]\n",
        "All fine.\n",
        "['04']\n",
        "All fine.\n",
        "[]\n",
        "All fine.\n",
        "['05']\n",
        "All fine.\n",
        "[]"
       ]
      },
      {
       "output_type": "stream",
       "stream": "stdout",
       "text": [
        "\n",
        "All fine.\n",
        "['03']\n",
        "All fine.\n",
        "[]"
       ]
      },
      {
       "output_type": "stream",
       "stream": "stdout",
       "text": [
        "\n",
        "All fine.\n",
        "['05', '07', '11']"
       ]
      },
      {
       "output_type": "stream",
       "stream": "stdout",
       "text": [
        "\n",
        "All fine.\n",
        "['13']"
       ]
      },
      {
       "output_type": "stream",
       "stream": "stdout",
       "text": [
        "\n",
        "All fine.\n",
        "[]\n",
        "All fine.\n",
        "['06']"
       ]
      },
      {
       "output_type": "stream",
       "stream": "stdout",
       "text": [
        "\n",
        "All fine.\n",
        "[]\n",
        "All fine.\n",
        "['09']"
       ]
      },
      {
       "output_type": "stream",
       "stream": "stdout",
       "text": [
        "\n",
        "All fine.\n",
        "[]\n",
        "All fine.\n",
        "['00', '06', '07', '09']\n",
        "All fine.\n",
        "['15']"
       ]
      },
      {
       "output_type": "stream",
       "stream": "stdout",
       "text": [
        "\n",
        "All fine.\n",
        "[]"
       ]
      },
      {
       "output_type": "stream",
       "stream": "stdout",
       "text": [
        "\n",
        "All fine.\n",
        "['01', '05']\n",
        "All fine.\n",
        "[]\n",
        "All fine.\n",
        "[]"
       ]
      },
      {
       "output_type": "stream",
       "stream": "stdout",
       "text": [
        "\n",
        "All fine.\n",
        "['02']\n",
        "All fine.\n",
        "[]\n",
        "All fine.\n",
        "['08']\n",
        "All fine.\n",
        "[]"
       ]
      },
      {
       "output_type": "stream",
       "stream": "stdout",
       "text": [
        "\n",
        "All fine.\n",
        "['12BB280AC5D9B363']"
       ]
      },
      {
       "output_type": "stream",
       "stream": "stdout",
       "text": [
        "\n",
        "All fine.\n",
        "['02']\n",
        "All fine.\n",
        "['01']\n",
        "All fine.\n",
        "['09']"
       ]
      },
      {
       "output_type": "stream",
       "stream": "stdout",
       "text": [
        "\n",
        "All fine.\n",
        "[]"
       ]
      },
      {
       "output_type": "stream",
       "stream": "stdout",
       "text": [
        "\n",
        "All fine.\n",
        "['Automatically Add to iTunes', 'Books', 'Downloads', 'Mobile Applications', 'Movies', 'Music', 'Podcasts', 'TV Shows']"
       ]
      },
      {
       "output_type": "stream",
       "stream": "stdout",
       "text": [
        "\n",
        "All fine.\n",
        "[]\n",
        "All fine.\n",
        "['Mike Brown']\n",
        "All fine.\n",
        "[]"
       ]
      },
      {
       "output_type": "stream",
       "stream": "stdout",
       "text": [
        "\n",
        "All fine.\n",
        "[]"
       ]
      },
      {
       "output_type": "stream",
       "stream": "stdout",
       "text": [
        "\n",
        "All fine.\n",
        "[]"
       ]
      },
      {
       "output_type": "stream",
       "stream": "stdout",
       "text": [
        "\n",
        "All fine.\n",
        "['12 - 1 - Optimization Objective (15 min)', '12 - 2 - Large Margin Intuition (11 min)', '12 - 3 - Mathematics Behind Large Margin Classification (Optional) (20 min)', '12 - 4 - Kernels I (16 min)', '12 - 5 - Kernels II (16 min)', '12 - 6 - Using An SVM (21 min)', '15 - 1 - Problem Motivation (8 min)', '15 - 2 - Gaussian Distribution (10 min)', '15 - 3 - Algorithm (12 min)', '15 - 4 - Developing and Evaluating an Anomaly Detection System (13 min)', '15 - 5 - Anomaly Detection vs. Supervised Learning (8 min)', '15 - 6 - Choosing What Features to Use (12 min)', '15 - 7 - Multivariate Gaussian Distribution (Optional) (14 min)', '15 - 8 - Anomaly Detection using the Multivariate Gaussian Distribution (Optional) (14 min)', '16 - 1 - Problem Formulation (8 min)', '16 - 2 - Content Based Recommendations (15 min)', '16 - 3 - Collaborative Filtering (10 min)', '16 - 4 - Collaborative Filtering Algorithm (9 min)', '16 - 5 - Vectorization_ Low Rank Matrix Factorization (8 min)', '16 - 6 - Implementational Detail_ Mean Normalization (9 min)', '3 - 2 - Addition and Scalar Multiplication (7 min)', '3 - 3 - Matrix Vector Multiplication (14 min)', '3 - 4 - Matrix Matrix Multiplication (11 min)', '3 - 5 - Matrix Multiplication Properties (9 min)', '3 - 6 - Inverse and Transpose (11 min)', '5 - 6 - Vectorization (14 min)', '6 - 1 - Classification (8 min)', '6 - 2 - Hypothesis Representation (7 min)', '6 - 3 - Decision Boundary (15 min)', '6 - 4 - Cost Function (11 min)', '6 - 5 - Simplified Cost Function and Gradient Descent (10 min)', '6 - 6 - Advanced Optimization (14 min)', '6 - 7 - Multiclass Classification_ One-vs-all (6 min)', 'Budokon for Beginning_02 Full Workout', 'Budokon for Beginning_03 Short Workout', 'Cardio 1 for Phase 1', 'Clip0004', 'Clip0006', 'day 3 microscope', 'day 3 microscope_part01', 'Workout 1 for Phase 1', 'Workout 10 for Phase 3', 'Workout 2 for Phase 1', 'Workout 3 for Phase 1', 'Workout 4 for Phase 1', 'Workout 7 for Phase 2', 'Workout 8 for Phase 2', 'Workout 9 for Phase 3']\n",
        "All fine.\n",
        "[]"
       ]
      },
      {
       "output_type": "stream",
       "stream": "stdout",
       "text": [
        "\n",
        "All fine.\n",
        "[]"
       ]
      },
      {
       "output_type": "stream",
       "stream": "stdout",
       "text": [
        "\n",
        "All fine.\n",
        "[]\n",
        "All fine.\n",
        "[]"
       ]
      },
      {
       "output_type": "stream",
       "stream": "stdout",
       "text": [
        "\n",
        "All fine.\n",
        "[]\n",
        "All fine.\n",
        "[]\n",
        "All fine.\n",
        "[]"
       ]
      },
      {
       "output_type": "stream",
       "stream": "stdout",
       "text": [
        "\n",
        "All fine.\n",
        "[]\n",
        "All fine.\n",
        "[]\n",
        "All fine.\n",
        "[]"
       ]
      },
      {
       "output_type": "stream",
       "stream": "stdout",
       "text": [
        "\n",
        "All fine.\n",
        "[]\n",
        "All fine.\n",
        "[]\n",
        "All fine.\n",
        "[]\n",
        "All fine.\n",
        "[]"
       ]
      },
      {
       "output_type": "stream",
       "stream": "stdout",
       "text": [
        "\n",
        "All fine.\n",
        "[]\n",
        "All fine.\n",
        "[]"
       ]
      },
      {
       "output_type": "stream",
       "stream": "stdout",
       "text": [
        "\n",
        "All fine.\n",
        "[]\n",
        "All fine.\n",
        "[]"
       ]
      },
      {
       "output_type": "stream",
       "stream": "stdout",
       "text": [
        "\n",
        "All fine.\n",
        "[]\n",
        "All fine.\n",
        "[]"
       ]
      },
      {
       "output_type": "stream",
       "stream": "stdout",
       "text": [
        "\n",
        "All fine.\n",
        "[]\n",
        "All fine.\n",
        "[]\n",
        "All fine.\n",
        "[]"
       ]
      },
      {
       "output_type": "stream",
       "stream": "stdout",
       "text": [
        "\n",
        "All fine.\n",
        "[]\n",
        "All fine.\n",
        "[]\n",
        "All fine.\n",
        "[]\n",
        "All fine.\n",
        "[]"
       ]
      },
      {
       "output_type": "stream",
       "stream": "stdout",
       "text": [
        "\n",
        "All fine.\n",
        "[]\n",
        "All fine.\n",
        "[]\n",
        "All fine.\n",
        "[]"
       ]
      },
      {
       "output_type": "stream",
       "stream": "stdout",
       "text": [
        "\n",
        "All fine.\n",
        "[]\n",
        "All fine.\n",
        "[]\n",
        "All fine.\n",
        "[]\n",
        "All fine.\n",
        "[]"
       ]
      },
      {
       "output_type": "stream",
       "stream": "stdout",
       "text": [
        "\n",
        "All fine.\n",
        "[]"
       ]
      },
      {
       "output_type": "stream",
       "stream": "stdout",
       "text": [
        "\n",
        "All fine.\n",
        "[]\n",
        "All fine.\n",
        "[]\n",
        "All fine.\n",
        "[]\n",
        "All fine.\n",
        "[]"
       ]
      },
      {
       "output_type": "stream",
       "stream": "stdout",
       "text": [
        "\n",
        "All fine.\n",
        "[]\n",
        "All fine.\n",
        "[]"
       ]
      },
      {
       "output_type": "stream",
       "stream": "stdout",
       "text": [
        "\n",
        "All fine.\n",
        "[]\n",
        "All fine.\n",
        "[]\n",
        "All fine.\n",
        "[]"
       ]
      },
      {
       "output_type": "stream",
       "stream": "stdout",
       "text": [
        "\n",
        "All fine.\n",
        "[]\n",
        "All fine.\n",
        "[]\n",
        "All fine.\n",
        "[]\n",
        "All fine.\n",
        "[]"
       ]
      },
      {
       "output_type": "stream",
       "stream": "stdout",
       "text": [
        "\n",
        "All fine.\n",
        "['14', '19', 'ABBA', 'Alanis Morissette', 'Amelita Baltar & Astor Piazzola', 'Aquarium', 'Army of Lovers', 'Astor Piazzola', 'Astor Piazzolla & Yoyoma', 'ATC', 'Avariya', 'Barbara Streisand', 'Beck', 'BG', 'BG + Splin', 'Bon Jovi', 'Brian Adams', 'Brian Adams & Sting & Rod Stew', 'Caetano Veloso & Chico Buarque', 'Carel Kraayenhof', 'Celine Dion', 'Chris Cornell', 'Compilations', 'Cranberries', 'Dark Latin Groove', 'Diana Krall', 'DISKOTEKA AVARIJA', 'DLG', 'Eagles', 'Ella Fitzgerald', 'Elton John', 'Falcon Jorge', 'Florence And The Machine', 'Garbage', 'George Michael', 'Gotcha!', \"Guns 'n Roses\", 'Gwen Stefani', 'Harmony Hoppers - Hot Jazz Quartet', 'HZ', 'Jeff Healey', 'John Bon Jovi', 'Juanes', 'Katie Melua', 'Katy Perry', 'Las Nocheros', 'Lawrence Burden', 'Los Bravos', 'Los Lobos', 'Los Nocheros', 'Madeleine Peyroux', 'Madonna', 'Mariah Carey', 'Marie Serneholt', 'Marilyn Monroe', 'Metallica', 'Mika', 'Mr. Bungle', 'NaikBorzov', 'Natalia Oreiro', 'Nickelback', 'No Doubt', 'Norah Jones', 'One-t feat', 'Original Soundtrack', 'Osborne Joan', 'O\\xcc\\x81i\\xcc\\x80a\\xcc\\x80o\\xcc\\x80o\\xcc\\x81\\xe2\\x80\\xbai\\xcc\\x80a\\xcc\\x80i\\xcc\\x81', 'Pink', 'Pulp Fiction', 'Queen', 'Ramon', 'Ray Charles', 'Red Hot Chili Peppers', 'Robbie Williams', 'Robbie Williams & Jane Horrocks', 'Robbie Williams & Jon Lovitz', 'Robbie Williams & Jonathan Wilkes', 'Robbie Williams & Nicole Kidman', 'Robbie Williams & Rupert Everett', 'Robbie Williams Feat. Frank Sinatra', 'Ronan Keating', 'Roxette', 'Ruslana', 'Safri Duo', 'Sam Cooke', 'Santana', 'Sasha', 'Scent of a Woman', 'Scissor Sisters', 'Scott McKenzie', 'Shakira', 'Soundtrack', 'Steve Strauss', 'The Atomic Fireball', 'The Brian Setzer Orchestra', 'The Calling', 'Tim Minchin', 'Touch and Go', 'Unknown Artist', 'VA', 'Various', 'Various Artists', 'Ville Valo', 'Waltz', 'Wet Wet Wet', '\\xd0\\x91\\xd0\\xbe\\xd1\\x80\\xd0\\xb7\\xd0\\xbe\\xd0\\xb2 \\xd0\\x9d\\xd0\\xb0\\xd0\\xb8\\xcc\\x86\\xd0\\xba', '\\xd0\\x92\\xd0\\xbe\\xd0\\xbf\\xd0\\xbbi \\xd0\\x92i\\xd0\\xb4\\xd0\\xbe\\xd0\\xbf\\xd0\\xbb\\xd1\\x8f\\xd1\\x81\\xd0\\xbe\\xd0\\xb2\\xd0\\xb0', '\\xd0\\x92\\xd1\\x8b\\xd1\\x81\\xd0\\xbe\\xd1\\x82\\xd1\\x81\\xd0\\xba\\xd0\\xb8\\xd0\\xb8\\xcc\\x86 \\xd0\\x92\\xd0\\xbb\\xd0\\xb0\\xd0\\xb4\\xd0\\xb8\\xd0\\xbc\\xd0\\xb8\\xd1\\x80', '\\xd0\\x93\\xd1\\x80\\xd0\\xb5\\xd0\\xb1\\xd0\\xb5\\xd0\\xbd\\xd1\\x89\\xd0\\xb8\\xd0\\xba\\xd0\\xbe\\xd0\\xb2 \\xd0\\x91\\xd0\\xbe\\xd1\\x80\\xd0\\xb8\\xd1\\x81', '\\xd0\\x94\\xd0\\xb8\\xd1\\x81\\xd0\\xba\\xd0\\xbe\\xd1\\x82\\xd0\\xb5\\xd0\\xba\\xd0\\xb0 \\xd0\\x90\\xd0\\xb2\\xd0\\xb0\\xd1\\x80\\xd0\\xb8\\xd1\\x8f', '\\xd0\\x97\\xd0\\xb5\\xd0\\xbc\\xd0\\xbb\\xd1\\x8f\\xd0\\xbd\\xd0\\xb5', '\\xd0\\x9c\\xd0\\xb0\\xd1\\x80\\xd0\\xba\\xd0\\xb8\\xd0\\xbd \\xd0\\x92\\xd0\\xbb\\xd0\\xb0\\xd0\\xb4\\xd0\\xb8\\xd0\\xbc\\xd0\\xb8\\xd1\\x80', '\\xd0\\x9c\\xd0\\xb8\\xd1\\x82\\xd1\\x8f\\xd0\\xb5\\xd0\\xb2 \\xd0\\x9e\\xd0\\xbb\\xd0\\xb5\\xd0\\xb3', '\\xd0\\xa1\\xd0\\xba\\xd0\\xbb\\xd1\\x8f\\xd1\\x80 \\xd0\\x98\\xd0\\xb3\\xd0\\xbe\\xd1\\x80\\xd1\\x8c', '\\xd0\\xa1\\xd0\\xbf\\xd0\\xbb\\xd0\\xb8\\xd0\\xbd', '\\xd0\\xa3\\xd0\\xbc\\xd0\\xb0\\xd1\\x82\\xd1\\x83\\xd1\\x80\\xd0\\xbc\\xd0\\xb0\\xd0\\xbd', '\\xd0\\xa5\\xd0\\x97', '\\xd0\\xa5\\xd0\\x97+\\xd0\\x90\\xd0\\xba\\xd0\\xb2\\xd0\\xb0\\xd1\\x80\\xd0\\xb8\\xd1\\x83\\xd0\\xbc', '\\xd0\\xa9\\xd0\\xb5\\xd1\\x80\\xd0\\xb1\\xd0\\xb0\\xd0\\xba\\xd0\\xbe\\xd0\\xb2 \\xd0\\x9c\\xd0\\xb8\\xd1\\x85\\xd0\\xb0\\xd0\\xb8\\xd0\\xbb', '\\xe3\\x82\\xaf\\xe3\\x83\\xaa\\xe3\\x82\\xb9\\xe3\\x83\\x86\\xe3\\x82\\xa3\\xe3\\x83\\xbc\\xe3\\x83\\x8a\\xe3\\x83\\xbb\\xe3\\x82\\xa2\\xe3\\x82\\xad\\xe3\\x82\\x99\\xe3\\x83\\xac\\xe3\\x83\\xa9']"
       ]
      },
      {
       "output_type": "stream",
       "stream": "stdout",
       "text": [
        "\n",
        "All fine.\n",
        "['Unknown Album']\n",
        "All fine.\n",
        "[]\n",
        "All fine.\n",
        "['Unknown Album']\n",
        "All fine.\n",
        "[]"
       ]
      },
      {
       "output_type": "stream",
       "stream": "stdout",
       "text": [
        "\n",
        "All fine.\n",
        "['ABBA', 'Gold_ Greatest Hits', 'Name of the Game', 'This file from http___rmp.ru']\n",
        "All fine.\n",
        "[]\n",
        "All fine.\n",
        "[]\n",
        "All fine.\n",
        "[]\n",
        "All fine.\n",
        "[]"
       ]
      },
      {
       "output_type": "stream",
       "stream": "stdout",
       "text": [
        "\n",
        "All fine.\n",
        "['Dancenet 5', 'EURO DANCE']\n",
        "All fine.\n",
        "[]\n",
        "All fine.\n",
        "[]\n",
        "All fine.\n",
        "['Best Hits', 'Unknown Album']"
       ]
      },
      {
       "output_type": "stream",
       "stream": "stdout",
       "text": [
        "\n",
        "All fine.\n",
        "[]\n",
        "All fine.\n",
        "[]\n",
        "All fine.\n",
        "['Unknown Album']"
       ]
      },
      {
       "output_type": "stream",
       "stream": "stdout",
       "text": [
        "\n",
        "All fine.\n",
        "[]\n",
        "All fine.\n",
        "['Unknown Album']"
       ]
      },
      {
       "output_type": "stream",
       "stream": "stdout",
       "text": [
        "\n",
        "All fine.\n",
        "[]\n",
        "All fine.\n",
        "['Le Grand Docu-Soap']"
       ]
      },
      {
       "output_type": "stream",
       "stream": "stdout",
       "text": [
        "\n",
        "All fine.\n",
        "[]\n",
        "All fine.\n",
        "['Astor Piazolla-Tango Piazolla - Keyworks 1984-1989', 'Best of Tango Argentino', 'El Nuevo Tango De Buenos Aires', 'Hommage a Piazzola', 'Melhores Momentos De Chico & Caetano', 'Profumo di Donna', 'Scent of woman', 'Se armo\\xcc\\x81- Piazzolla y su orquesta ti\\xcc\\x81pica (1946', 'Tango apasionado', 'Unknown Album', 'Yo-Yo Ma-Soul of the Tango']"
       ]
      },
      {
       "output_type": "stream",
       "stream": "stdout",
       "text": [
        "\n",
        "All fine.\n",
        "[]\n",
        "All fine.\n",
        "[]\n",
        "All fine.\n",
        "[]"
       ]
      },
      {
       "output_type": "stream",
       "stream": "stdout",
       "text": [
        "\n",
        "All fine.\n",
        "[]\n",
        "All fine.\n",
        "[]\n",
        "All fine.\n",
        "[]\n",
        "All fine.\n",
        "[]"
       ]
      },
      {
       "output_type": "stream",
       "stream": "stdout",
       "text": [
        "\n",
        "All fine.\n",
        "[]\n",
        "All fine.\n",
        "[]"
       ]
      },
      {
       "output_type": "stream",
       "stream": "stdout",
       "text": [
        "\n",
        "All fine.\n",
        "[]\n",
        "All fine.\n",
        "[]\n",
        "All fine.\n",
        "['Unknown Album']"
       ]
      },
      {
       "output_type": "stream",
       "stream": "stdout",
       "text": [
        "\n",
        "All fine.\n",
        "[]\n",
        "All fine.\n",
        "['New']\n",
        "All fine.\n",
        "[]"
       ]
      },
      {
       "output_type": "stream",
       "stream": "stdout",
       "text": [
        "\n",
        "All fine.\n",
        "['Demo']\n",
        "All fine.\n",
        "[]"
       ]
      },
      {
       "output_type": "stream",
       "stream": "stdout",
       "text": [
        "\n",
        "All fine.\n",
        "['Christmas Album']\n",
        "All fine.\n",
        "[]\n",
        "All fine.\n",
        "['The Way We Were']\n",
        "All fine.\n",
        "[]\n",
        "All fine.\n",
        "['Information [UK Bonus Tracks_Bonus DVD]']"
       ]
      },
      {
       "output_type": "stream",
       "stream": "stdout",
       "text": [
        "\n",
        "All fine.\n",
        "[]\n",
        "All fine.\n",
        "['Crush', 'Gold', 'Have A Nice Day', 'Lost Highway', 'New Jersey', 'Unknown Album']\n",
        "All fine.\n",
        "[]\n",
        "All fine.\n",
        "[]\n",
        "All fine.\n",
        "[]"
       ]
      },
      {
       "output_type": "stream",
       "stream": "stdout",
       "text": [
        "\n",
        "All fine.\n",
        "[]\n",
        "All fine.\n",
        "[]\n",
        "All fine.\n",
        "[]\n",
        "All fine.\n",
        "['Unknown Album']\n",
        "All fine.\n",
        "[]"
       ]
      },
      {
       "output_type": "stream",
       "stream": "stdout",
       "text": [
        "\n",
        "All fine.\n",
        "['Unknown Album']\n",
        "All fine.\n",
        "[]\n",
        "All fine.\n",
        "['Melhores Momentos De Chico & Caetano']\n",
        "All fine.\n",
        "[]\n",
        "All fine.\n",
        "['Tango Royal']\n",
        "All fine.\n",
        "[]\n",
        "All fine.\n",
        "[\"Let's Talk About Love\"]\n",
        "All fine.\n",
        "[]"
       ]
      },
      {
       "output_type": "stream",
       "stream": "stdout",
       "text": [
        "\n",
        "All fine.\n",
        "['Soundtrack Casino Royale']\n",
        "All fine.\n",
        "[]\n",
        "All fine.\n",
        "['Burlesque (Original Motion Picture Soundtrack)', 'Chicago (Music from the Miramax Motion Picture)', 'Chuck Berry_ The Anthology', 'Dynaudio Feeling Music', 'Famous 3 - The Finest Female Jazz Today', 'Nine (Original Motion Picture Soundtrack)']\n",
        "All fine.\n",
        "[]\n",
        "All fine.\n",
        "[]"
       ]
      },
      {
       "output_type": "stream",
       "stream": "stdout",
       "text": [
        "\n",
        "All fine.\n",
        "[]\n",
        "All fine.\n",
        "[]\n",
        "All fine.\n",
        "[]\n",
        "All fine.\n",
        "[]\n",
        "All fine.\n",
        "['Unknown Album']\n",
        "All fine.\n",
        "[]"
       ]
      },
      {
       "output_type": "stream",
       "stream": "stdout",
       "text": [
        "\n",
        "All fine.\n",
        "['Manyaki']\n",
        "All fine.\n",
        "[]\n",
        "All fine.\n",
        "['DancingLatin']\n",
        "All fine.\n",
        "[]\n",
        "All fine.\n",
        "['Gotcha!']\n",
        "All fine.\n",
        "[]\n",
        "All fine.\n",
        "['The Look of Love', 'When I Look In Your Eyes']\n",
        "All fine.\n",
        "[]\n",
        "All fine.\n",
        "[]"
       ]
      },
      {
       "output_type": "stream",
       "stream": "stdout",
       "text": [
        "\n",
        "All fine.\n",
        "['Hotel California']\n",
        "All fine.\n",
        "[]\n",
        "All fine.\n",
        "['Unknown Album']\n",
        "All fine.\n",
        "[]\n",
        "All fine.\n",
        "['Unknown Album']\n",
        "All fine.\n",
        "[]\n",
        "All fine.\n",
        "['20 Grandes Existos']"
       ]
      },
      {
       "output_type": "stream",
       "stream": "stdout",
       "text": [
        "\n",
        "All fine.\n",
        "[]\n",
        "All fine.\n",
        "['Ceremonials']\n",
        "All fine.\n",
        "[]"
       ]
      },
      {
       "output_type": "stream",
       "stream": "stdout",
       "text": [
        "\n",
        "All fine.\n",
        "['Version 2.0']\n",
        "All fine.\n",
        "[]"
       ]
      },
      {
       "output_type": "stream",
       "stream": "stdout",
       "text": [
        "\n",
        "All fine.\n",
        "['Unknown Album']\n",
        "All fine.\n",
        "[]"
       ]
      },
      {
       "output_type": "stream",
       "stream": "stdout",
       "text": [
        "\n",
        "All fine.\n",
        "['Gotcha!']\n",
        "All fine.\n",
        "[]\n",
        "All fine.\n",
        "['Unknown Album']\n",
        "All fine.\n",
        "[]"
       ]
      },
      {
       "output_type": "stream",
       "stream": "stdout",
       "text": [
        "\n",
        "All fine.\n",
        "['The Sweet Escape']\n",
        "All fine.\n",
        "[]\n",
        "All fine.\n",
        "['Unknown Album']"
       ]
      },
      {
       "output_type": "stream",
       "stream": "stdout",
       "text": [
        "\n",
        "All fine.\n",
        "[]\n",
        "All fine.\n",
        "['Va Bene !']\n",
        "All fine.\n",
        "[]"
       ]
      },
      {
       "output_type": "stream",
       "stream": "stdout",
       "text": [
        "\n",
        "All fine.\n",
        "['Among Friends']"
       ]
      },
      {
       "output_type": "stream",
       "stream": "stdout",
       "text": [
        "\n",
        "All fine.\n",
        "[]\n",
        "All fine.\n",
        "['Unknown Album']"
       ]
      },
      {
       "output_type": "stream",
       "stream": "stdout",
       "text": [
        "\n",
        "All fine.\n",
        "[]\n",
        "All fine.\n",
        "['Mi Sangre', 'Un Di\\xcc\\x81a Normal']"
       ]
      },
      {
       "output_type": "stream",
       "stream": "stdout",
       "text": [
        "\n",
        "All fine.\n",
        "[]"
       ]
      },
      {
       "output_type": "stream",
       "stream": "stdout",
       "text": [
        "\n",
        "All fine.\n",
        "[]\n",
        "All fine.\n",
        "['Call Off The Search', 'Piece by Piece']"
       ]
      },
      {
       "output_type": "stream",
       "stream": "stdout",
       "text": [
        "\n",
        "All fine.\n",
        "[]\n",
        "All fine.\n",
        "[]\n",
        "All fine.\n",
        "['I Kissed A Girl - Single', 'One of the Boys']"
       ]
      },
      {
       "output_type": "stream",
       "stream": "stdout",
       "text": [
        "\n",
        "All fine.\n",
        "[]"
       ]
      },
      {
       "output_type": "stream",
       "stream": "stdout",
       "text": [
        "\n",
        "All fine.\n",
        "[]"
       ]
      },
      {
       "output_type": "stream",
       "stream": "stdout",
       "text": [
        "\n",
        "All fine.\n",
        "['Unknown Album']\n",
        "All fine.\n",
        "[]\n",
        "All fine.\n",
        "['430 West Presents Detroit Calling']"
       ]
      },
      {
       "output_type": "stream",
       "stream": "stdout",
       "text": [
        "\n",
        "All fine.\n",
        "[]\n",
        "All fine.\n",
        "['Black Is Black']"
       ]
      },
      {
       "output_type": "stream",
       "stream": "stdout",
       "text": [
        "\n",
        "All fine.\n",
        "[]"
       ]
      },
      {
       "output_type": "stream",
       "stream": "stdout",
       "text": [
        "\n",
        "All fine.\n",
        "['Unknown Album']\n",
        "All fine.\n",
        "[]"
       ]
      },
      {
       "output_type": "stream",
       "stream": "stdout",
       "text": [
        "\n",
        "All fine.\n",
        "['En Vivo_ Teatro Colon', 'Signos', 'Unknown Album']\n",
        "All fine.\n",
        "[]\n",
        "All fine.\n",
        "[]"
       ]
      },
      {
       "output_type": "stream",
       "stream": "stdout",
       "text": [
        "\n",
        "All fine.\n",
        "[]\n",
        "All fine.\n",
        "['Careless Love']\n",
        "All fine.\n",
        "[]\n",
        "All fine.\n",
        "['Music', 'Unknown Album']"
       ]
      },
      {
       "output_type": "stream",
       "stream": "stdout",
       "text": [
        "\n",
        "All fine.\n",
        "[]\n",
        "All fine.\n",
        "[]\n",
        "All fine.\n",
        "['The Best Of Christmas Songs Fo']\n",
        "All fine.\n",
        "[]"
       ]
      },
      {
       "output_type": "stream",
       "stream": "stdout",
       "text": [
        "\n",
        "All fine.\n",
        "['Bravo Hits 53 (CD 1)']\n",
        "All fine.\n",
        "[]"
       ]
      },
      {
       "output_type": "stream",
       "stream": "stdout",
       "text": [
        "\n",
        "All fine.\n",
        "['The Essential Recordings']\n",
        "All fine.\n",
        "[]\n",
        "All fine.\n",
        "['Metallica']"
       ]
      },
      {
       "output_type": "stream",
       "stream": "stdout",
       "text": [
        "\n",
        "All fine.\n",
        "[]\n",
        "All fine.\n",
        "['Euro Express 689U', 'Life In Cartoon Motion', 'Unknown Album']\n",
        "All fine.\n",
        "[]\n",
        "All fine.\n",
        "[]\n",
        "All fine.\n",
        "[]\n",
        "All fine.\n",
        "['California']\n",
        "All fine.\n",
        "[]\n",
        "All fine.\n",
        "['SE']\n",
        "All fine.\n",
        "[]"
       ]
      },
      {
       "output_type": "stream",
       "stream": "stdout",
       "text": [
        "\n",
        "All fine.\n",
        "['Natalia Oreiro', 'The best']\n",
        "All fine.\n",
        "[]\n",
        "All fine.\n",
        "[]\n",
        "All fine.\n",
        "['All the right reasons', 'The Long Road [Bonus Tracks]', 'UltraAlternative 3']\n",
        "All fine.\n",
        "[]\n",
        "All fine.\n",
        "[]\n",
        "All fine.\n",
        "[]\n",
        "All fine.\n",
        "['The Singles 1992-2003']\n",
        "All fine.\n",
        "[]\n",
        "All fine.\n",
        "['Come Away With Me']\n",
        "All fine.\n",
        "[]\n",
        "All fine.\n",
        "['Unknown Album']\n",
        "All fine.\n",
        "[]\n",
        "All fine.\n",
        "['Aladdin [Original Soundtrack]']\n",
        "All fine.\n",
        "[]\n",
        "All fine.\n",
        "['Unknown Album']\n",
        "All fine.\n",
        "[]\n",
        "All fine.\n",
        "['A\\xcc\\x82 a\\xcc\\x83i\\xcc\\x82\\xe2\\x80\\xbai\\xcc\\x82a\\xcc\\x88a\\xcc\\x8a I\\xcc\\x81']\n",
        "All fine.\n",
        "[]\n",
        "All fine.\n",
        "['Missundaztood', 'Unknown Album']\n",
        "All fine.\n",
        "[]\n",
        "All fine.\n",
        "[]\n",
        "All fine.\n",
        "['Unknown Album']\n",
        "All fine.\n",
        "[]\n",
        "All fine.\n",
        "['Greatest Hits [Parlophone]']\n",
        "All fine.\n",
        "[]\n",
        "All fine.\n",
        "['Unsorted']\n",
        "All fine.\n",
        "[]\n",
        "All fine.\n",
        "['Unknown Album']\n",
        "All fine.\n",
        "[]\n",
        "All fine.\n",
        "['Stadium Arcadium']"
       ]
      },
      {
       "output_type": "stream",
       "stream": "stdout",
       "text": [
        "\n",
        "All fine.\n",
        "[]\n",
        "All fine.\n",
        "['Rudebox', \"Swing When You're Winning\"]"
       ]
      },
      {
       "output_type": "stream",
       "stream": "stdout",
       "text": [
        "\n",
        "All fine.\n",
        "[]\n",
        "All fine.\n",
        "[]"
       ]
      },
      {
       "output_type": "stream",
       "stream": "stdout",
       "text": [
        "\n",
        "All fine.\n",
        "[\"Swing When You're Winning\"]\n",
        "All fine.\n",
        "[]"
       ]
      },
      {
       "output_type": "stream",
       "stream": "stdout",
       "text": [
        "\n",
        "All fine.\n",
        "[\"Swing When You're Winning\"]\n",
        "All fine.\n",
        "[]"
       ]
      },
      {
       "output_type": "stream",
       "stream": "stdout",
       "text": [
        "\n",
        "All fine.\n",
        "[\"Swing When You're Winning\"]\n",
        "All fine.\n",
        "[]"
       ]
      },
      {
       "output_type": "stream",
       "stream": "stdout",
       "text": [
        "\n",
        "All fine.\n",
        "[\"Swing When You're Winning\"]\n",
        "All fine.\n",
        "[]"
       ]
      },
      {
       "output_type": "stream",
       "stream": "stdout",
       "text": [
        "\n",
        "All fine.\n",
        "[\"Swing When You're Winning\"]\n",
        "All fine.\n",
        "[]"
       ]
      },
      {
       "output_type": "stream",
       "stream": "stdout",
       "text": [
        "\n",
        "All fine.\n",
        "[\"Swing When You're Winning\"]\n",
        "All fine.\n",
        "[]\n",
        "All fine.\n",
        "['Unknown Album']"
       ]
      },
      {
       "output_type": "stream",
       "stream": "stdout",
       "text": [
        "\n",
        "All fine.\n",
        "[]\n",
        "All fine.\n",
        "['Best Hits', 'Room Service', 'Tourism']"
       ]
      },
      {
       "output_type": "stream",
       "stream": "stdout",
       "text": [
        "\n",
        "All fine.\n",
        "[]\n",
        "All fine.\n",
        "[]"
       ]
      },
      {
       "output_type": "stream",
       "stream": "stdout",
       "text": [
        "\n",
        "All fine.\n",
        "[]\n",
        "All fine.\n",
        "['Unknown Album', 'Wild Dances']"
       ]
      },
      {
       "output_type": "stream",
       "stream": "stdout",
       "text": [
        "\n",
        "All fine.\n",
        "[]"
       ]
      },
      {
       "output_type": "stream",
       "stream": "stdout",
       "text": [
        "\n",
        "All fine.\n",
        "[]\n",
        "All fine.\n",
        "['Played-A-Live (The Bongo Song)', 'Unknown Album']"
       ]
      },
      {
       "output_type": "stream",
       "stream": "stdout",
       "text": [
        "\n",
        "All fine.\n",
        "[]\n",
        "All fine.\n",
        "[]"
       ]
      },
      {
       "output_type": "stream",
       "stream": "stdout",
       "text": [
        "\n",
        "All fine.\n",
        "['Unknown Album']\n",
        "All fine.\n",
        "[]"
       ]
      },
      {
       "output_type": "stream",
       "stream": "stdout",
       "text": [
        "\n",
        "All fine.\n",
        "['All That I Am']\n",
        "All fine.\n",
        "[]\n",
        "All fine.\n",
        "['Greatest Hits']"
       ]
      },
      {
       "output_type": "stream",
       "stream": "stdout",
       "text": [
        "\n",
        "All fine.\n",
        "[]"
       ]
      },
      {
       "output_type": "stream",
       "stream": "stdout",
       "text": [
        "\n",
        "All fine.\n",
        "['Soundtrack (Music By Thomas N']\n",
        "All fine.\n",
        "[]\n",
        "All fine.\n",
        "['Ta-Dah!']"
       ]
      },
      {
       "output_type": "stream",
       "stream": "stdout",
       "text": [
        "\n",
        "All fine.\n",
        "[]\n",
        "All fine.\n",
        "['Unsorted']\n",
        "All fine.\n",
        "[]\n",
        "All fine.\n",
        "['Laundry Service', 'Servicio de Lavanderia', 'Unknown Album']"
       ]
      },
      {
       "output_type": "stream",
       "stream": "stdout",
       "text": [
        "\n",
        "All fine.\n",
        "[]\n",
        "All fine.\n",
        "[]\n",
        "All fine.\n",
        "[]\n",
        "All fine.\n",
        "['Piece By Piece']\n",
        "All fine.\n",
        "[]\n",
        "All fine.\n",
        "['Audiophile Male Voice']\n",
        "All fine.\n",
        "[]\n",
        "All fine.\n",
        "['Torch This Place']\n",
        "All fine.\n",
        "[]"
       ]
      },
      {
       "output_type": "stream",
       "stream": "stdout",
       "text": [
        "\n",
        "All fine.\n",
        "['Vavoom!', 'Vavoom! (Domestic)']\n",
        "All fine.\n",
        "[]"
       ]
      },
      {
       "output_type": "stream",
       "stream": "stdout",
       "text": [
        "\n",
        "All fine.\n",
        "[]\n",
        "All fine.\n",
        "['Unknown Album']\n",
        "All fine.\n",
        "[]\n",
        "All fine.\n",
        "['Ready for This_ (Live)']\n",
        "All fine.\n",
        "[]\n",
        "All fine.\n",
        "['Big Beat Boogie']\n",
        "All fine.\n",
        "[]\n",
        "All fine.\n",
        "['Dancing', 'Disney', 'Disney songs', 'Unknown Album', 'Unknown Album (5_15_2005 10_50_07 PM)']\n",
        "All fine.\n",
        "[]\n",
        "All fine.\n",
        "[]\n",
        "All fine.\n",
        "[]\n",
        "All fine.\n",
        "[]\n",
        "All fine.\n",
        "[]\n",
        "All fine.\n",
        "['Together']\n",
        "All fine.\n",
        "[]\n",
        "All fine.\n",
        "['Jesus Christ Superstar', 'LUBD by Jerry', 'Unknown Album']\n",
        "All fine.\n",
        "[]"
       ]
      },
      {
       "output_type": "stream",
       "stream": "stdout",
       "text": [
        "\n",
        "All fine.\n",
        "[]\n",
        "All fine.\n",
        "[]\n",
        "All fine.\n",
        "['-A\\xcc\\x81\\xe2\\x80\\xbaa\\xcc\\x80o\\xcc\\x80 2- - i\\xcc\\x80o\\xcc\\x81c\\xcc\\xa7u\\xcc\\x82e\\xcc\\x82a\\xcc\\x80 e\\xcc\\x82 o\\xcc\\x82e\\xcc\\x80e\\xcc\\x88u\\xcc\\x88i\\xcc\\x80o\\xcc\\x81', 'El disco de los mejores cd. 2']\n",
        "All fine.\n",
        "[]\n",
        "All fine.\n",
        "[]\n",
        "All fine.\n",
        "['Unknown Album']\n",
        "All fine.\n",
        "[]\n",
        "All fine.\n",
        "['Unknown Album']\n",
        "All fine.\n",
        "[]\n",
        "All fine.\n",
        "['The Greatest Hits [CD 1]']\n",
        "All fine.\n",
        "[]\n",
        "All fine.\n",
        "['SE']\n",
        "All fine.\n",
        "[]\n",
        "All fine.\n",
        "['Unknown Album', '\\xd0\\x9c\\xd1\\x83\\xd0\\xb7\\xd0\\xb8\\xd0\\xba\\xd0\\xb0 \\xd0\\xb4\\xd0\\xb8\\xd0\\xba\\xd0\\xb0']\n",
        "All fine.\n",
        "[]\n",
        "All fine.\n",
        "[]\n",
        "All fine.\n",
        "['Unknown Album']\n",
        "All fine.\n",
        "[]\n",
        "All fine.\n",
        "['Demo']\n",
        "All fine.\n",
        "[]\n",
        "All fine.\n",
        "['Manyaki', 'Unknown Album']\n",
        "All fine.\n",
        "[]\n",
        "All fine.\n",
        "[]\n",
        "All fine.\n",
        "['Unknown Album']\n",
        "All fine.\n",
        "[]\n",
        "All fine.\n",
        "['Unknown Album']\n",
        "All fine.\n",
        "[]\n",
        "All fine.\n",
        "['Unknown Album']\n",
        "All fine.\n",
        "[]\n",
        "All fine.\n",
        "['\\xd0\\x9c\\xd0\\xb5\\xd0\\xbb\\xd1\\x8c\\xd0\\xbd\\xd0\\xb8\\xd1\\x86\\xd0\\xb0']\n",
        "All fine.\n",
        "[]\n",
        "All fine.\n",
        "['25 \\xd0\\xba\\xd0\\xb0\\xd0\\xb4\\xd1\\x80', 'Reversive Chronicle Of Events', '\\xd0\\x90\\xd0\\xbb\\xd1\\x8c\\xd1\\x82\\xd0\\xb0\\xd0\\xb2\\xd0\\xb8\\xd1\\x81\\xd1\\x82\\xd0\\xb0', '\\xd0\\x93\\xd1\\x80\\xd0\\xb0\\xd0\\xbd\\xd0\\xb0\\xd1\\x82\\xd0\\xbe\\xd0\\xb2\\xd1\\x8b\\xd0\\xb8\\xcc\\x86 \\xd0\\xb0\\xd0\\xbb\\xd1\\x8c\\xd0\\xb1\\xd0\\xbe\\xd0\\xbc', '\\xd0\\x94\\xd1\\x80\\xd1\\x83\\xd0\\xb3\\xd0\\xb8\\xd0\\xb5 \\xd0\\xbb\\xd1\\x8e\\xd0\\xb4\\xd0\\xb8', '\\xd0\\x97\\xd0\\xbd\\xd0\\xb0\\xd0\\xbc\\xd0\\xb5\\xd0\\xbd\\xd0\\xb0\\xd1\\x82\\xd0\\xb5\\xd0\\xbb\\xd1\\x8c', '\\xd0\\x9a\\xd0\\xbe\\xd0\\xbb\\xd0\\xbb\\xd0\\xb5\\xd0\\xba\\xd1\\x86\\xd0\\xb8\\xd0\\xbe\\xd0\\xbd\\xd0\\xb5\\xd1\\x80 \\xd0\\xbe\\xd1\\x80\\xd1\\x83\\xd0\\xb6\\xd0\\xb8\\xd1\\x8f', '\\xd0\\x9f\\xd1\\x8b\\xd0\\xbb\\xd1\\x8c\\xd0\\xbd\\xd0\\xb0\\xd1\\x8f \\xd0\\xb1\\xd1\\x8b\\xd0\\xbb\\xd1\\x8c', '\\xd0\\xa4\\xd0\\xbe\\xd0\\xbd\\xd0\\xb0\\xd1\\x80\\xd1\\x8c \\xd0\\xbf\\xd0\\xbe\\xd0\\xb4 \\xd0\\xb3\\xd0\\xbb\\xd0\\xb0\\xd0\\xb7\\xd0\\xbe\\xd0\\xbc']\n",
        "All fine.\n",
        "[]\n",
        "All fine.\n",
        "[]\n",
        "All fine.\n",
        "[]\n",
        "All fine.\n",
        "[]\n",
        "All fine.\n",
        "[]\n",
        "All fine.\n",
        "[]\n",
        "All fine.\n",
        "[]\n",
        "All fine.\n",
        "[]\n",
        "All fine.\n",
        "[]\n",
        "All fine.\n",
        "['Unknown Album']\n",
        "All fine.\n",
        "[]\n",
        "All fine.\n",
        "['Unknown Album']\n",
        "All fine.\n",
        "[]\n",
        "All fine.\n",
        "['unreleased for www.aquarium.ru']\n",
        "All fine.\n",
        "[]\n",
        "All fine.\n",
        "['Unknown Album']\n",
        "All fine.\n",
        "[]\n",
        "All fine.\n",
        "['Back to basics', 'Back To Basics [Disc 2]']\n",
        "All fine.\n",
        "[]\n",
        "All fine.\n",
        "[]\n",
        "All fine.\n",
        "['The Jillian Michaels Show']\n",
        "All fine.\n",
        "[]\n",
        "All fine.\n",
        "['Get Fit and Fab With Jillian Michaels', 'Jillian Michaels']\n",
        "All fine.\n",
        "[]\n",
        "All fine.\n",
        "[]\n",
        "All fine.\n",
        "['DATs', 'moliere_pro', 'myIDL_from_server', 'myIDLpros-fromDT']"
       ]
      },
      {
       "output_type": "stream",
       "stream": "stdout",
       "text": [
        "\n",
        "All fine.\n",
        "[]\n",
        "All fine.\n",
        "[]"
       ]
      },
      {
       "output_type": "stream",
       "stream": "stdout",
       "text": [
        "\n",
        "All fine.\n",
        "[]"
       ]
      },
      {
       "output_type": "stream",
       "stream": "stdout",
       "text": [
        "\n",
        "All fine.\n",
        "['coyoteprograms', 'crism', 'generated_dats', 'Hi_Atmospheric_correction', 'HiRISE_pros_etc', 'isis', 'lee', 'moliere_pro', 'Nick_lib', 'PDS_lib', 'SPICE']\n",
        "All fine.\n",
        "[]\n",
        "All fine.\n",
        "[]\n",
        "All fine.\n",
        "[]\n",
        "All fine.\n",
        "['CVS']\n",
        "All fine.\n",
        "[]\n",
        "All fine.\n",
        "['event_finding', 'generic_kernels', 'icy']\n",
        "All fine.\n",
        "['diagram', 'kernels']\n",
        "All fine.\n",
        "[]\n",
        "All fine.\n",
        "['fk', 'lsk', 'pck', 'spk']\n",
        "All fine.\n",
        "[]\n",
        "All fine.\n",
        "[]\n",
        "All fine.\n",
        "[]"
       ]
      },
      {
       "output_type": "stream",
       "stream": "stdout",
       "text": [
        "\n",
        "All fine.\n",
        "[]\n",
        "All fine.\n",
        "['fk', 'lsk', 'pck', 'spk']\n",
        "All fine.\n",
        "['planets', 'satellites']\n",
        "All fine.\n",
        "[]\n",
        "All fine.\n",
        "[]\n",
        "All fine.\n",
        "[]\n",
        "All fine.\n",
        "[]\n",
        "All fine.\n",
        "['planets']\n",
        "All fine.\n",
        "[]\n",
        "All fine.\n",
        "['data', 'doc', 'etc', 'exe', 'include', 'lib', 'src']\n",
        "All fine.\n",
        "[]\n",
        "All fine.\n",
        "['html']\n",
        "All fine.\n",
        "['cspice', 'icy', 'info', 'req', 'ug']\n",
        "All fine.\n",
        "[]"
       ]
      },
      {
       "output_type": "stream",
       "stream": "stdout",
       "text": [
        "\n",
        "All fine.\n",
        "[]\n",
        "All fine.\n",
        "[]\n",
        "All fine.\n",
        "[]\n",
        "All fine.\n",
        "[]\n",
        "All fine.\n",
        "[]\n",
        "All fine.\n",
        "[]\n",
        "All fine.\n",
        "[]\n",
        "All fine.\n",
        "[]\n",
        "All fine.\n",
        "['brief_c', 'chrnos_c', 'ckbref_c', 'commnt_c', 'cook_c', 'cspice', 'csupport', 'frmdif_c', 'icy', 'icycook', 'inspkt_c', 'mkspk_c', 'msopck_c', 'spacit_c', 'spkdif_c', 'spkmrg_c', 'tobin_c', 'toxfr_c', 'versn_c']"
       ]
      },
      {
       "output_type": "stream",
       "stream": "stdout",
       "text": [
        "\n",
        "All fine.\n",
        "[]\n",
        "All fine.\n",
        "[]\n",
        "All fine.\n",
        "[]\n",
        "All fine.\n",
        "[]\n",
        "All fine.\n",
        "[]\n",
        "All fine.\n",
        "[]"
       ]
      },
      {
       "output_type": "stream",
       "stream": "stdout",
       "text": [
        "\n",
        "All fine.\n",
        "[]\n",
        "All fine.\n",
        "[]\n",
        "All fine.\n",
        "[]\n",
        "All fine.\n",
        "[]\n",
        "All fine.\n",
        "[]\n",
        "All fine.\n",
        "[]\n",
        "All fine.\n",
        "[]\n",
        "All fine.\n",
        "[]"
       ]
      },
      {
       "output_type": "stream",
       "stream": "stdout",
       "text": [
        "\n",
        "All fine.\n",
        "[]\n",
        "All fine.\n",
        "[]\n",
        "All fine.\n",
        "[]\n",
        "All fine.\n",
        "[]\n",
        "All fine.\n",
        "[]\n",
        "All fine.\n",
        "[]\n",
        "All fine.\n",
        "[]\n",
        "All fine.\n",
        "[]\n",
        "All fine.\n",
        "[]\n",
        "All fine.\n",
        "[]\n",
        "All fine.\n",
        "[]\n",
        "All fine.\n",
        "[]\n",
        "All fine.\n"
       ]
      }
     ],
     "prompt_number": 27
    },
    {
     "cell_type": "code",
     "collapsed": false,
     "input": [],
     "language": "python",
     "metadata": {},
     "outputs": []
    }
   ],
   "metadata": {}
  }
 ]
}